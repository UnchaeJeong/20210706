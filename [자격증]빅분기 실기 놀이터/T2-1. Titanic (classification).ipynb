{
 "cells": [
  {
   "cell_type": "markdown",
   "id": "f45591f8-0f96-4b2d-800a-6406c41f7a73",
   "metadata": {},
   "source": [
    "# T2-1. Titanic (classification)"
   ]
  },
  {
   "cell_type": "code",
   "execution_count": null,
   "id": "08851f14-4d88-46dd-afe0-d3dcda2c8246",
   "metadata": {},
   "outputs": [],
   "source": [
    "\"\"\"\n",
    "생존여부 예측모델 만들기\n",
    "학습용 데이터 (Xtrain, ytrain)을 이용하여 생존 예측 모형을 만든 후, 이를 평가용 데이터(X_test)에 적용하여 얻은 예측값을 다음과 같은 형식의 CSV파일로 생성하시오(제출한 모델의 성능은 accuracy 평가지표에 따라 채점)\n",
    "(가) 제공 데이터 목록\n",
    "\n",
    "y_train: 생존여부(학습용)\n",
    "Xtrian, Xtest : 승객 정보 (학습용 및 평가용)\n",
    "(나) 데이터 형식 및 내용\n",
    "\n",
    "y_trian (712명 데이터)\n",
    "시험환경 세팅은 예시문제와 동일한 형태의 Xtrain, ytrain, X_test 데이터를 만들기 위함임\n",
    "\n",
    "유의사항\n",
    "성능이 우수한 예측모형을 구축하기 위해서는 적절한 데이터 전처리, 피처엔지니어링, 분류알고리즘, 하이퍼파라미터 튜닝, 모형 앙상블 등이 수반되어야 한다.\n",
    "수험번호.csv파일이 만들어지도록 코드를 제출한다.\n",
    "제출한 모델의 성능은 accuracy로 평가함\n",
    "csv 출력형태\n",
    "\n",
    "index는 없고\n",
    "PassengerId, Survived 만 있는 형태\n",
    "\"\"\"\n",
    "\n"
   ]
  }
 ],
 "metadata": {
  "kernelspec": {
   "display_name": "Python 3",
   "language": "python",
   "name": "python3"
  },
  "language_info": {
   "codemirror_mode": {
    "name": "ipython",
    "version": 3
   },
   "file_extension": ".py",
   "mimetype": "text/x-python",
   "name": "python",
   "nbconvert_exporter": "python",
   "pygments_lexer": "ipython3",
   "version": "3.8.8"
  }
 },
 "nbformat": 4,
 "nbformat_minor": 5
}
