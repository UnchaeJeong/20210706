{
 "cells": [
  {
   "cell_type": "markdown",
   "id": "d5a645f3-2a68-427a-8278-e7452baf19cd",
   "metadata": {},
   "source": [
    "# T1-10. Yeo-Johnson and Box–Cox"
   ]
  },
  {
   "cell_type": "code",
   "execution_count": 207,
   "id": "6d5b089a-fcfa-4559-aa0d-4dafca992eed",
   "metadata": {},
   "outputs": [],
   "source": [
    "import pandas as pd\n",
    "import numpy as np\n",
    "import sklearn\n",
    "df = pd.read_csv('data/basic1.csv')"
   ]
  },
  {
   "cell_type": "code",
   "execution_count": 86,
   "id": "252eeacd-ff6b-47ed-9b46-3a0fc542f3e8",
   "metadata": {},
   "outputs": [
    {
     "data": {
      "text/plain": [
       "0.05"
      ]
     },
     "execution_count": 86,
     "metadata": {},
     "output_type": "execute_result"
    }
   ],
   "source": [
    "\"\"\" 출제율 낮을 것으로 보임.\n",
    "T1-10. Yeo-Johnson and Box–Cox\n",
    "주어진 데이터에서 20세 이상인 데이터를 추출하고\n",
    "'f1'컬럼을 결측치를 최빈값으로 채운 후,\n",
    "f1 컬럼의 여-존슨과 박스콕스 변환 값을 구하고,\n",
    "두 값의 차이를 절대값으로 구한다음 모두 더해 소수점 둘째 자리까지 출력(반올림)하시오\n",
    "데이터셋 : basic1.csv\n",
    "\"\"\"\n",
    "# import pandas as pd\n",
    "# import numpy as np\n",
    "# import sklearn\n",
    "# from sklearn.preprocessing import PowerTransformer, power_transform\n",
    "# warnings.filterwarnings(action='ignore')\n",
    "\n",
    "# # 데이터확인하기\n",
    "# df = pd.read_csv('data/basic1.csv')\n",
    "# df.head()\n",
    "\n",
    "# #20세 이상\n",
    "# df20 = df[df['age']>=20]\n",
    "# # print(df20)\n",
    "\n",
    "# #최빈값\n",
    "# # print(df20['f1'].mode()[0])\n",
    "\n",
    "\n",
    "# #결측채우기\n",
    "# df20['f1'] = df20['f1'].fillna(df20['f1'].mode()[0])\n",
    "# # print(df20['f1'].isnull().sum())\n",
    "\n",
    "# # 여존슨 박스콕스\n",
    "# # print(dir(sklearn.preprocessing))\n",
    "# # print(help(sklearn.preprocessing.PowerTransformer))\n",
    "# pt_yeo = PowerTransformer()\n",
    "# pt_box = PowerTransformer(method='box-cox')\n",
    "# df20['yeo'] = pt_yeo.fit_transform(df20[['f1']])\n",
    "# df20['box'] = pt_box.fit_transform(df20[['f1']])\n",
    "# # print(df20.head())\n",
    "# round(sum(np.abs(df20['yeo'] - df20['box'])),2)"
   ]
  },
  {
   "cell_type": "markdown",
   "id": "b61a4ec0-490b-4f59-84e6-9cfcbbe1f02a",
   "metadata": {},
   "source": [
    "# T1-11 min-max scaling\n"
   ]
  },
  {
   "cell_type": "code",
   "execution_count": 94,
   "id": "45e66fea-7e2e-4ebc-bae0-75e86c50d975",
   "metadata": {},
   "outputs": [
    {
     "name": "stdout",
     "output_type": "stream",
     "text": [
      "1.0248740983597389\n"
     ]
    }
   ],
   "source": [
    "\"\"\"\n",
    "- min-max스케일링 기준 상하위 5% 구하기    \n",
    "- 주어진 데이터에서 'f5'컬럼을 min-max 스케일 변환한 후, 상위 5%와 하위 5% 값의 합을 구하시오\n",
    "- 상위 5%지점 값 + 하위 5%지점 값\n",
    "- 데이터셋 : basic1.csv\n",
    "\"\"\"\n",
    "# from sklearn.preprocessing import MinMaxScaler\n",
    "# # print(help(sklearn.preprocessing.MinMaxScaler))\n",
    "# mm = MinMaxScaler()\n",
    "# df['mm_f5'] = mm.fit_transform(df[['f5']])\n",
    "# print(np.sum(df['mm_f5'].quantile(0.05) + df['mm_f5'].quantile(0.95)))"
   ]
  },
  {
   "cell_type": "markdown",
   "id": "21b2c88a-ce58-4104-8a35-231cc1aa09b8",
   "metadata": {},
   "source": [
    "# T1-12. top10-bottom10"
   ]
  },
  {
   "cell_type": "code",
   "execution_count": 137,
   "id": "eb427103-6749-4b8f-9e37-89419ec1cb8e",
   "metadata": {},
   "outputs": [
    {
     "name": "stdout",
     "output_type": "stream",
     "text": [
      "91.6\n"
     ]
    }
   ],
   "source": [
    "\"\"\"상위 10개, 하위 10개 차이\n",
    "주어진 데이터에서 상위 10개 국가의 접종률 평균과 하위 10개 국가의 접종률 평균을 구하고,\n",
    "그 차이를 구해보세요 (이상치 - 100%가 넘는 접종률 제거, 소수 첫째 자리까지 출력)\n",
    "결과 값은 데이터 업데이트에 따라 달라질 수 있음\n",
    "데이터셋 : ../input/covid-vaccination-vs-death/covidvaccinationvsdeathratio.csv\n",
    "\"\"\"\n",
    "\n",
    "# df = pd.read_csv(\"data/covid-vaccination-vs-death_ratio.csv\")\n",
    "# df.head(20)\n",
    "# df2 = df.groupby('country').max('ratio')\n",
    "# df2 = df2.sort_values(by='ratio',ascending=False)\n",
    "# top10 = df2.head(10)['ratio'].mean()\n",
    "# bot10 = df2.tail(10)['ratio'].mean()\n",
    "# print(round(top10 - bot10,1))"
   ]
  },
  {
   "cell_type": "markdown",
   "id": "f9b162f5-e7bd-4adc-9f0f-3542e597cbc9",
   "metadata": {},
   "source": [
    "# **T1-13. Correlation"
   ]
  },
  {
   "cell_type": "code",
   "execution_count": 206,
   "id": "cdad3597-d55e-48bf-8e93-26017f2b1c43",
   "metadata": {},
   "outputs": [
    {
     "data": {
      "text/plain": [
       "'\\n상관관계 구하기\\n주어진 데이터에서 상관관계를 구하고, quality와의 상관관계가 가장 큰 값과, 가장 작은 값을 구한 다음 더하시오!\\n단, quality와 quality 상관관계 제외, 소수점 둘째 자리까지 출력\\n데이터셋 : ../input/red-wine-quality-cortez-et-al-2009/winequality-red.csv\\n'"
      ]
     },
     "execution_count": 206,
     "metadata": {},
     "output_type": "execute_result"
    }
   ],
   "source": [
    "\"\"\"\n",
    "상관관계 구하기\n",
    "주어진 데이터에서 상관관계를 구하고, quality와의 상관관계가 가장 큰 값과, 가장 작은 값을 구한 다음 더하시오!\n",
    "단, quality와 quality 상관관계 제외, 소수점 둘째 자리까지 출력\n",
    "데이터셋 : ../input/red-wine-quality-cortez-et-al-2009/winequality-red.csv\n",
    "\"\"\"\n",
    "\n",
    "# df = pd.read_csv('data/winequality-red.csv')\n",
    "# df_corr = df.corr()\n",
    "# df_corr = df.corr()[:-1]\n",
    "    \n",
    "# df_corr_max = abs(df_corr['quality']).max()\n",
    "# df_corr_min = abs(df_corr['quality']).min()\n",
    "\n",
    "# if df_corr['quality'].max() < 0 :\n",
    "#     df_corr_max = -df_corr_max\n",
    "# if df_corr['quality'].min() < 0:\n",
    "#     df_corr_min = -df_corr_min\n",
    "    \n",
    "# print(round(df_corr_max + df_corr_min, 2))"
   ]
  },
  {
   "cell_type": "markdown",
   "id": "846496a6-37be-4292-b0e0-b015f03e087d",
   "metadata": {},
   "source": [
    "# T1-14. Multi Index & Groupby"
   ]
  },
  {
   "cell_type": "code",
   "execution_count": 218,
   "id": "4f20b778-1fe2-4b77-923c-755d8ec09cd3",
   "metadata": {},
   "outputs": [
    {
     "name": "stdout",
     "output_type": "stream",
     "text": [
      "643.68\n"
     ]
    }
   ],
   "source": [
    "\"\"\"\n",
    "city와 f4를 기준으로 f5의 평균값을 구한 다음,\n",
    "f5를 기준으로 상위 7개 값을 모두 더해 출력하시오\n",
    "(소수점 둘째자리까지 출력)\n",
    "데이터셋 : basic1.csv\n",
    "\"\"\"\n",
    "# import pandas as pd\n",
    "# import numpy as np\n",
    "# import sklearn\n",
    "# df = pd.read_csv('data/basic1.csv')\n",
    "# df.head(2)\n",
    "# print(round(df.groupby(['city','f4']).mean()['f5'].sort_values(ascending=False).head(7).sum(),2))"
   ]
  },
  {
   "cell_type": "markdown",
   "id": "408e2631-210d-4f54-8881-f6cc7c4e696e",
   "metadata": {},
   "source": [
    "# T1-15. Slicing & Condition"
   ]
  },
  {
   "cell_type": "code",
   "execution_count": 260,
   "id": "79f5ac69-2290-40db-abd7-30c34feca6b9",
   "metadata": {},
   "outputs": [
    {
     "name": "stdout",
     "output_type": "stream",
     "text": [
      "73.875\n"
     ]
    }
   ],
   "source": [
    "\"\"\"\n",
    "주어진 데이터 셋에서 age컬럼 상위 20개의 데이터를 구한 다음\n",
    "f1의 결측치를 중앙값으로 채운다.\n",
    "그리고 f4가 ISFJ와 f5가 20 이상인\n",
    "f1의 평균값을 출력하시오!\n",
    "데이터셋 : basic1.csv\n",
    "\"\"\"\n",
    "# import pandas as pd\n",
    "# import numpy as np\n",
    "# import sklearn\n",
    "# df = pd.read_csv('data/basic1.csv')\n",
    "# df2 = df.sort_values('age',ascending=False).head(20)\n",
    "# df2['f1'] = df2['f1'].fillna(df2['f1'].median())\n",
    "# # df2['f1'].isna().sum()\n",
    "# df3 = df2[(df2['f4'] == 'ISFJ') & (df2['f5'] >= 20)]\n",
    "# print(df3['f1'].mean())"
   ]
  },
  {
   "cell_type": "markdown",
   "id": "c6cb8fe9-1107-416b-9552-f87a9c998712",
   "metadata": {},
   "source": [
    "# T1-16. Variance"
   ]
  },
  {
   "cell_type": "code",
   "execution_count": 265,
   "id": "6141d638-7aa4-4dd4-aec0-618d3f9268bf",
   "metadata": {},
   "outputs": [
    {
     "name": "stdout",
     "output_type": "stream",
     "text": [
      "38.44\n",
      "351.7636363636363 313.32631578947377\n"
     ]
    }
   ],
   "source": [
    "\"\"\"\n",
    "주어진 데이터 셋에서 f2가 0값인 데이터를 age를 기준으로 오름차순 정렬하고\n",
    "앞에서 부터 20개의 데이터를 추출한 후\n",
    "f1 결측치(최소값)를 채우기 전과 후의 분산 차이를 계산하시오\n",
    "(소수점 둘째 자리까지)\n",
    "데이터셋 : basic1.csv\n",
    "\"\"\"\n",
    "# import pandas as pd\n",
    "# import numpy as np\n",
    "# import sklearn\n",
    "# df = pd.read_csv('data/basic1.csv')\n",
    "# df2 = df[df['f2'] == 0].sort_values('age')\n",
    "# df3 = df2.head(20)\n",
    "\n",
    "# # 결측치 채우기 전\n",
    "# before = df3['f1'].var()\n",
    "\n",
    "# # 결측치 채우고 난 뒤\n",
    "# df3['f1'] = df3['f1'].fillna(df3['f1'].min())\n",
    "# after = df3['f1'].var()\n",
    "# print(round(before - after,2))"
   ]
  },
  {
   "cell_type": "markdown",
   "id": "76011b75-a851-4071-9087-f06aadf70534",
   "metadata": {},
   "source": [
    "# T1-17. Time-Series1"
   ]
  },
  {
   "cell_type": "code",
   "execution_count": 280,
   "id": "cd249fa4-03e7-43ca-8c72-eb9d67dc0e69",
   "metadata": {},
   "outputs": [
    {
     "name": "stdout",
     "output_type": "stream",
     "text": [
      "<class 'pandas.core.frame.DataFrame'>\n",
      "RangeIndex: 730 entries, 0 to 729\n",
      "Data columns (total 8 columns):\n",
      " #   Column  Non-Null Count  Dtype         \n",
      "---  ------  --------------  -----         \n",
      " 0   Date    730 non-null    datetime64[ns]\n",
      " 1   Sales   730 non-null    int64         \n",
      " 2   PV      730 non-null    int64         \n",
      " 3   UV      684 non-null    float64       \n",
      " 4   Events  730 non-null    int64         \n",
      " 5   year    730 non-null    int64         \n",
      " 6   month   730 non-null    int64         \n",
      " 7   day     730 non-null    int64         \n",
      "dtypes: datetime64[ns](1), float64(1), int64(6)\n",
      "memory usage: 45.8 KB\n"
     ]
    }
   ],
   "source": [
    "\"\"\"\n",
    "주어진 데이터에서 2022년 5월 sales컬럼의 중앙값을 구하시오\n",
    "2022년 5월 sales의 중앙값을 구하시오\n",
    "데이터셋 : basic2.csv\n",
    "\"\"\"\n",
    "# import pandas as pd\n",
    "# import numpy as np\n",
    "# import sklearn\n",
    "\n",
    "# df = pd.read_csv('data/basic2.csv')\n",
    "# # df.info()\n",
    "\n",
    "# df['Date'] = pd.to_datetime(df['Date'])\n",
    "# # df.info()\n",
    "\n",
    "# df['year'] = df['Date'].dt.year\n",
    "# df['month'] = df['Date'].dt.month\n",
    "# df['day'] = df['Date'].dt.day\n",
    "# df.info()\n",
    "# # print(df.head())\n",
    "\n"
   ]
  },
  {
   "cell_type": "markdown",
   "id": "e3f64d33-2440-4ad6-b8ce-c2b34926eef3",
   "metadata": {},
   "source": [
    "# T1-18. 시계열 데이터2 Expected Question"
   ]
  },
  {
   "cell_type": "code",
   "execution_count": 300,
   "id": "7454cac9-2ec9-4c96-afba-a931eea30a15",
   "metadata": {},
   "outputs": [
    {
     "name": "stdout",
     "output_type": "stream",
     "text": [
      "<class 'pandas.core.frame.DataFrame'>\n",
      "RangeIndex: 730 entries, 0 to 729\n",
      "Data columns (total 9 columns):\n",
      " #   Column  Non-Null Count  Dtype         \n",
      "---  ------  --------------  -----         \n",
      " 0   Date    730 non-null    datetime64[ns]\n",
      " 1   Sales   730 non-null    int64         \n",
      " 2   PV      730 non-null    int64         \n",
      " 3   UV      684 non-null    float64       \n",
      " 4   Events  730 non-null    int64         \n",
      " 5   y       730 non-null    int64         \n",
      " 6   m       730 non-null    int64         \n",
      " 7   d       730 non-null    int64         \n",
      " 8   w       730 non-null    int64         \n",
      "dtypes: datetime64[ns](1), float64(1), int64(7)\n",
      "memory usage: 51.5 KB\n",
      "3010339.1\n"
     ]
    }
   ],
   "source": [
    "\"\"\"\n",
    "주어진 데이터에서 2022년 5월 주말과 평일의 sales 컬럼 평균값 차이를 구하시오 (소수점 둘째자리까지 출력, 반올림)\n",
    "데이터셋 : basic2.csv\n",
    "\"\"\"\n",
    "# import pandas as pd\n",
    "# import numpy as np\n",
    "\n",
    "# df = pd.read_csv('data/basic2.csv')\n",
    "# # df.head()\n",
    "# df['Date'] = pd.to_datetime(df['Date'])\n",
    "# # df.info()\n",
    "# df['y'] = df['Date'].dt.year\n",
    "# df['m'] = df['Date'].dt.month\n",
    "# df['d'] = df['Date'].dt.day\n",
    "# df['w'] = df['Date'].dt.dayofweek\n",
    "# df.info()\n",
    "# df.head(2)\n",
    "# df_22_5 = df[(df['y'] == 2022) & (df['m'] == 5)]\n",
    "# weekend = df_22_5[df_22_5['w'] >=5]['Sales'].mean()\n",
    "# weekday = df_22_5[df_22_5['w'] <5]['Sales'].mean()\n",
    "# print(round(weekend - weekday,2))"
   ]
  },
  {
   "cell_type": "markdown",
   "id": "8daeca34-b2b0-4246-90f9-c71460081957",
   "metadata": {},
   "source": [
    "# **T1-19. Time-Series3 (monthly total)"
   ]
  },
  {
   "cell_type": "code",
   "execution_count": 351,
   "id": "a6d5efd9-2134-49df-9b09-2faf3c49e09f",
   "metadata": {},
   "outputs": [
    {
     "name": "stdout",
     "output_type": "stream",
     "text": [
      "197145878.0 239619313.8\n",
      "42473436\n"
     ]
    }
   ],
   "source": [
    "\"\"\"\n",
    "주어진 데이터에서 2022년 월별 Sales 합계 중 가장 큰 금액과\n",
    "2023년 월별 Sales 합계 중 가장 큰 금액의 차이를 절대값으로 구하시오.\n",
    "단, Events컬럼이 '1'인 경우 80%의 Salse값만 반영함\n",
    "(최종값은 소수점 반올림 후 정수 출력)\n",
    "데이터셋 : basic2.csv\n",
    "\"\"\"\n",
    "# import pandas as pd\n",
    "# import numpy as np\n",
    "# df = pd.read_csv('data/basic2.csv')\n",
    "# # print(df.head())\n",
    "# # print(df.shape)\n",
    "# # print(df.info())\n",
    "\n",
    "# df['Date'] = pd.to_datetime(df['Date'])\n",
    "# df['y'] = df['Date'].dt.year\n",
    "# df['m'] = df['Date'].dt.month\n",
    "# df['d'] = df['Date'].dt.day\n",
    "# # print(df.info())\n",
    "\n",
    "# def event1(x):\n",
    "#     if x['Events'] == 1:\n",
    "#         x['Sales'] = x['Sales']*0.8\n",
    "#     else:\n",
    "#         x['Sales'] = x['Sales']\n",
    "#     return x\n",
    "# df = df.apply(lambda x : event1(x), axis=1)  #1일 경우 row, 0일 경우 컬럼??????\n",
    "# # print(df.head())\n",
    "# df22 = df[df['y'] == 2022]\n",
    "# df23 = df[df['y'] == 2023]\n",
    "# max22 = df22.groupby('m')['Sales'].sum().max()\n",
    "# max23 = df23.groupby('m')['Sales'].sum().max()\n",
    "# print(max22, max23)\n",
    "# print(int(round(abs(max23 - max22),0)))"
   ]
  },
  {
   "cell_type": "markdown",
   "id": "6548984d-3d7b-44b4-9477-0b8f28e80d17",
   "metadata": {},
   "source": [
    "# T1-20. Combining Data"
   ]
  },
  {
   "cell_type": "code",
   "execution_count": 386,
   "id": "ea05b74b-3a59-45da-88b5-b84641070d1b",
   "metadata": {},
   "outputs": [
    {
     "name": "stdout",
     "output_type": "stream",
     "text": [
      "15\n"
     ]
    }
   ],
   "source": [
    "\"\"\"\n",
    "고객과 잘 맞는 타입 추천 :)\n",
    "basic1 데이터 중 'f4'를 기준으로 basic3 데이터 'f4'값을 병합하고,\n",
    "병합한 데이터에서 r2결측치를 제거한 다음, 앞에서 부터 20개 데이터를 선택하고 'f2'컬럼 합을 구하시오\n",
    "basic1.csv: 고객 데이터\n",
    "\"\"\"\n",
    "# import pandas as pd\n",
    "# import numpy as np\n",
    "\n",
    "# df1 = pd.read_csv('data/basic1.csv')\n",
    "# df3 = pd.read_csv('data/basic3.csv')\n",
    "\n",
    "# # print(df1.head(),'\\n', df3.head())\n",
    "# # print(help(pd.merge))\n",
    "# df4 = pd.merge(left=df1, right=df3, how='left', on='f4')\n",
    "# df4.drop(df4[df4['r2'].isnull()].index, axis=0, inplace=True)\n",
    "# df4 = df4.reset_index()\n",
    "# # df4.head()\n",
    "# print(df4.iloc[:20]['f2'].sum())"
   ]
  },
  {
   "cell_type": "markdown",
   "id": "97c46e83-7bb2-4e04-bcd9-76ba36d0535c",
   "metadata": {},
   "source": [
    "# **T1-21. Binning Data"
   ]
  },
  {
   "cell_type": "code",
   "execution_count": 435,
   "id": "38cad597-e092-425a-81eb-13de8a56fe40",
   "metadata": {},
   "outputs": [
    {
     "data": {
      "text/plain": [
       "\"\\n나이 구간 나누기\\nbasic1 데이터 중 'age'컬럼 이상치를 제거하고, 동일한 개수로 나이 순으로 3그룹으로 나눈 뒤 각 그룹의 중앙값을 더하시오\\n(이상치는 음수(0포함), 소수점 값)\\ndata: basic1.csv\\n\""
      ]
     },
     "execution_count": 435,
     "metadata": {},
     "output_type": "execute_result"
    }
   ],
   "source": [
    "\"\"\"\n",
    "나이 구간 나누기\n",
    "basic1 데이터 중 'age'컬럼 이상치를 제거하고, 동일한 개수로 나이 순으로 3그룹으로 나눈 뒤 각 그룹의 중앙값을 더하시오\n",
    "(이상치는 음수(0포함), 소수점 값)\n",
    "data: basic1.csv\n",
    "\"\"\"\n",
    "\n",
    "# import pandas as pd\n",
    "# import numpy as np\n",
    "\n",
    "# df = pd.read_csv('data/basic1.csv')\n",
    "\n",
    "# outlier1 = df[df['age']<=0]\n",
    "# outlier2 = df[(df['age'] - np.trunc(df['age']) !=0)]\n",
    "# df.drop(df[df['age']<=0].index, axis=0,inplace=True)\n",
    "# df.drop(df[(df['age'] - np.trunc(df['age'])) !=0].index, axis=0,inplace=True)   \n",
    "# df.shape\n",
    "# # print(help(pd.qcut))\n",
    "# df['range'] = pd.qcut(df['age'], q=3, labels=['g1','g2','g3'])\n",
    "# # df['range'].value_counts()\n",
    "# g1_med = df[df['range'] == 'g1']['age'].median()\n",
    "# g2_med = df[df['range'] == 'g2']['age'].median()\n",
    "# g3_med = df[df['range'] == 'g3']['age'].median()\n",
    "# print(g1_med + g2_med + g3_med)"
   ]
  },
  {
   "cell_type": "markdown",
   "id": "df92a85f-3ad5-4081-9dac-f3c5b3669f72",
   "metadata": {},
   "source": [
    "# **T1-22. Time-Series4 (Weekly data)"
   ]
  },
  {
   "cell_type": "code",
   "execution_count": 473,
   "id": "9bfdcded-43a0-4b52-81de-d5078e03a15b",
   "metadata": {},
   "outputs": [
    {
     "name": "stdout",
     "output_type": "stream",
     "text": [
      "91639050\n"
     ]
    }
   ],
   "source": [
    "\"\"\"\n",
    "주어진 데이터(basic2.csv)에서 주 단위 Sales의 합계를 구하고, 가장 큰 값을 가진 주와 작은 값을 가진 주의 차이를 구하시오(절대값)\n",
    "데이터셋 : basic2.csv\n",
    "    정답 : 91639050\n",
    "\"\"\"\n",
    "# import pandas as pd\n",
    "# import numpy as np\n",
    "# warnings.filterwarnings('ignore')\n",
    "\n",
    "# df = pd.read_csv('data/basic2.csv', parse_dates=['Date'], index_col=0)\n",
    "# # print(df.shape)\n",
    "# # print(df.head())\n",
    "# # print(df.head(10))\n",
    "# df_W = df.resample('W').sum() #  (주단위 W 2주단위 2W, 월단위 M)\n",
    "# max_ = df_W['Sales'].max()\n",
    "# min_ = df_W['Sales'].min()\n",
    "# print(abs(max_ - min_))"
   ]
  },
  {
   "cell_type": "markdown",
   "id": "76fccb5d-9106-4afc-8cdd-683e78fa9505",
   "metadata": {},
   "source": [
    "# T1-23. Drop Duplicates"
   ]
  },
  {
   "cell_type": "code",
   "execution_count": 502,
   "id": "1762ebbc-8dd4-4e76-b85e-7a94e21c6ce5",
   "metadata": {},
   "outputs": [
    {
     "name": "stdout",
     "output_type": "stream",
     "text": [
      "77.5 77.0\n"
     ]
    }
   ],
   "source": [
    "\"\"\"\n",
    "f1의 결측치를 채운 후 age 컬럼의 중복 제거 전과 후의 중앙값을 구하시오\n",
    "- 결측치는 f1의 데이터 중 10번째 큰 값으로 채움\n",
    "- 중복 데이터 발생시 뒤에 나오는 데이터를 삭제함\n",
    "- 최종 결과값은 절대값으로 출력\n",
    "데이터셋 : basic1.csv\n",
    "\"\"\"\n",
    "\n",
    "import pandas as pd\n",
    "import numpy as np\n",
    "warnings.filterwarnings('ignore')\n",
    "\n",
    "df = pd.read_csv('data/basic1.csv')\n",
    "# df['f1'] = df['f1'].fillna(df['f1'].sort_values(ascending=False).iloc[9])\n",
    "# print(df['f1'].median())\n",
    "# # 중복 제거 전\n",
    "# result1 = df['f1'].median()\n",
    "\n",
    "# # 중복 제거 후\n",
    "# df = df.drop_duplicates(subset=['age'])\n",
    "# # print(df.shape)\n",
    "# result2 = df['f1'].median()\n",
    "# print(result2)\n",
    "# print(abs(result1- result2))"
   ]
  },
  {
   "cell_type": "markdown",
   "id": "5c6c0f8d-3f76-457d-ab96-2eece63f184c",
   "metadata": {},
   "source": [
    "# **T1-24. Time-Series5 (Lagged Feature)"
   ]
  },
  {
   "cell_type": "code",
   "execution_count": 510,
   "id": "f1b127f9-2d6f-4e38-b3d3-37b685cf0e6f",
   "metadata": {},
   "outputs": [
    {
     "name": "stdout",
     "output_type": "stream",
     "text": [
      "1894876.0\n"
     ]
    }
   ],
   "source": [
    "\"\"\"\n",
    "주어진 데이터(basic2.csv)에서 새로운 컬럼(1일 이전 시차 컬럼)을 만들고,\n",
    "Events가 1이면서 Sales가 1000000이하인 조건에 맞는 새로운 컬럼 합을 구하시오\n",
    "\n",
    "데이터셋 : basic2.csv\n",
    "\"\"\"\n",
    "import pandas as pd\n",
    "import numpy as np\n",
    "warnings.filterwarnings('ignore')\n",
    "\n",
    "df = pd.read_csv('data/basic2.csv')\n",
    "\n",
    "# df.head()\n",
    "# print(help(df.shift))\n",
    "df['previous_PV'] = df['PV'].shift(1)\n",
    "# df.head()\n",
    "df['previous_PV'] = df['previous_PV'].fillna(method='bfill')\n",
    "# df.head()\n",
    "cond = (df['Events'] == 1) & (df['Sales'] <= 1000000)\n",
    "print(df[cond]['previous_PV'].sum())"
   ]
  }
 ],
 "metadata": {
  "kernelspec": {
   "display_name": "Python 3",
   "language": "python",
   "name": "python3"
  },
  "language_info": {
   "codemirror_mode": {
    "name": "ipython",
    "version": 3
   },
   "file_extension": ".py",
   "mimetype": "text/x-python",
   "name": "python",
   "nbconvert_exporter": "python",
   "pygments_lexer": "ipython3",
   "version": "3.8.8"
  }
 },
 "nbformat": 4,
 "nbformat_minor": 5
}
