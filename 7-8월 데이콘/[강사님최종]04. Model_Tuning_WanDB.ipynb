{
 "cells": [
  {
   "cell_type": "markdown",
   "metadata": {
    "id": "7fHL3ONZ55I-"
   },
   "source": [
    "### Context\n",
    "\n",
    "#### Experiment Tools\n",
    "\n",
    "- wandb"
   ]
  },
  {
   "cell_type": "code",
   "execution_count": 1,
   "metadata": {
    "colab": {
     "base_uri": "https://localhost:8080/"
    },
    "executionInfo": {
     "elapsed": 2411,
     "status": "ok",
     "timestamp": 1628181645489,
     "user": {
      "displayName": "I'm so Seoli",
      "photoUrl": "https://lh3.googleusercontent.com/a-/AOh14GgoGeyLbd3gxLLgPS5f5k5dEcdMQc_ZsAy-42tyJg=s64",
      "userId": "18012903892325475989"
     },
     "user_tz": -540
    },
    "id": "ogiDndhgEb2b",
    "outputId": "255a2ab8-82ad-4d7e-c07c-b43f7530fcda"
   },
   "outputs": [],
   "source": [
    "# !pip install wandb"
   ]
  },
  {
   "cell_type": "markdown",
   "metadata": {},
   "source": [
    "- json 파일로 관리하면 좋음"
   ]
  },
  {
   "cell_type": "code",
   "execution_count": 2,
   "metadata": {
    "executionInfo": {
     "elapsed": 7,
     "status": "ok",
     "timestamp": 1628181643084,
     "user": {
      "displayName": "I'm so Seoli",
      "photoUrl": "https://lh3.googleusercontent.com/a-/AOh14GgoGeyLbd3gxLLgPS5f5k5dEcdMQc_ZsAy-42tyJg=s64",
      "userId": "18012903892325475989"
     },
     "user_tz": -540
    },
    "id": "vJz8Kvl8EDpR"
   },
   "outputs": [],
   "source": [
    "sweep_config = {\n",
    "  \"name\" : \"mdc_sweep\",\n",
    "  \"method\" : \"bayes\",\n",
    "  \"parameters\" : {\n",
    "    \"max_depth\" : {\n",
    "      \"distribution\": \"int_uniform\",\n",
    "      \"min\":2,\n",
    "      \"max\":15\n",
    "    },\n",
    "    \"subsample\" :{\n",
    "      \"distribution\": \"uniform\",\n",
    "      \"min\": 0.5,\n",
    "      \"max\": 1.0\n",
    "    },\n",
    "    \"colsample_bytree\":{\n",
    "      \"distribution\": \"uniform\",\n",
    "      \"min\": 0.5,\n",
    "      \"max\": 1.0\n",
    "    }\n",
    "  },\n",
    "  \"metric\":{\n",
    "      \"name\": \"cv_loss\",\n",
    "      \"goal\": \"minimize\"\n",
    "  }\n",
    "}\n"
   ]
  },
  {
   "cell_type": "code",
   "execution_count": 3,
   "metadata": {
    "scrolled": true
   },
   "outputs": [
    {
     "name": "stdout",
     "output_type": "stream",
     "text": [
      "Requirement already satisfied: wandb in /usr/local/var/pyenv/versions/3.8.6/lib/python3.8/site-packages (0.11.2)\n",
      "Requirement already satisfied: urllib3>=1.26.5 in /usr/local/var/pyenv/versions/3.8.6/lib/python3.8/site-packages (from wandb) (1.26.6)\n",
      "Requirement already satisfied: requests<3,>=2.0.0 in /usr/local/var/pyenv/versions/3.8.6/lib/python3.8/site-packages (from wandb) (2.25.1)\n",
      "Requirement already satisfied: python-dateutil>=2.6.1 in /usr/local/var/pyenv/versions/3.8.6/lib/python3.8/site-packages (from wandb) (2.8.1)\n",
      "Requirement already satisfied: Click!=8.0.0,>=7.0 in /usr/local/var/pyenv/versions/3.8.6/lib/python3.8/site-packages (from wandb) (8.0.1)\n",
      "Requirement already satisfied: psutil>=5.0.0 in /usr/local/var/pyenv/versions/3.8.6/lib/python3.8/site-packages (from wandb) (5.8.0)\n",
      "Requirement already satisfied: shortuuid>=0.5.0 in /usr/local/var/pyenv/versions/3.8.6/lib/python3.8/site-packages (from wandb) (1.0.1)\n",
      "Requirement already satisfied: protobuf>=3.12.0 in /usr/local/var/pyenv/versions/3.8.6/lib/python3.8/site-packages (from wandb) (3.15.8)\n",
      "Requirement already satisfied: promise<3,>=2.0 in /usr/local/var/pyenv/versions/3.8.6/lib/python3.8/site-packages (from wandb) (2.3)\n",
      "Requirement already satisfied: pathtools in /usr/local/var/pyenv/versions/3.8.6/lib/python3.8/site-packages (from wandb) (0.1.2)\n",
      "Requirement already satisfied: subprocess32>=3.5.3 in /usr/local/var/pyenv/versions/3.8.6/lib/python3.8/site-packages (from wandb) (3.5.4)\n",
      "Requirement already satisfied: docker-pycreds>=0.4.0 in /usr/local/var/pyenv/versions/3.8.6/lib/python3.8/site-packages (from wandb) (0.4.0)\n",
      "Requirement already satisfied: six>=1.13.0 in /usr/local/var/pyenv/versions/3.8.6/lib/python3.8/site-packages (from wandb) (1.15.0)\n",
      "Requirement already satisfied: configparser>=3.8.1 in /usr/local/var/pyenv/versions/3.8.6/lib/python3.8/site-packages (from wandb) (5.0.2)\n",
      "Requirement already satisfied: GitPython>=1.0.0 in /usr/local/var/pyenv/versions/3.8.6/lib/python3.8/site-packages (from wandb) (3.1.18)\n",
      "Requirement already satisfied: sentry-sdk>=1.0.0 in /usr/local/var/pyenv/versions/3.8.6/lib/python3.8/site-packages (from wandb) (1.3.1)\n",
      "Requirement already satisfied: PyYAML in /usr/local/var/pyenv/versions/3.8.6/lib/python3.8/site-packages (from wandb) (5.4.1)\n",
      "Requirement already satisfied: gitdb<5,>=4.0.1 in /usr/local/var/pyenv/versions/3.8.6/lib/python3.8/site-packages (from GitPython>=1.0.0->wandb) (4.0.7)\n",
      "Requirement already satisfied: smmap<5,>=3.0.1 in /usr/local/var/pyenv/versions/3.8.6/lib/python3.8/site-packages (from gitdb<5,>=4.0.1->GitPython>=1.0.0->wandb) (4.0.0)\n",
      "Requirement already satisfied: certifi>=2017.4.17 in /usr/local/var/pyenv/versions/3.8.6/lib/python3.8/site-packages (from requests<3,>=2.0.0->wandb) (2020.12.5)\n",
      "Requirement already satisfied: idna<3,>=2.5 in /usr/local/var/pyenv/versions/3.8.6/lib/python3.8/site-packages (from requests<3,>=2.0.0->wandb) (2.10)\n",
      "Requirement already satisfied: chardet<5,>=3.0.2 in /usr/local/var/pyenv/versions/3.8.6/lib/python3.8/site-packages (from requests<3,>=2.0.0->wandb) (4.0.0)\n"
     ]
    }
   ],
   "source": [
    "!pip install wandb"
   ]
  },
  {
   "cell_type": "code",
   "execution_count": 4,
   "metadata": {
    "colab": {
     "base_uri": "https://localhost:8080/",
     "height": 187
    },
    "executionInfo": {
     "elapsed": 3211,
     "status": "ok",
     "timestamp": 1628181648694,
     "user": {
      "displayName": "I'm so Seoli",
      "photoUrl": "https://lh3.googleusercontent.com/a-/AOh14GgoGeyLbd3gxLLgPS5f5k5dEcdMQc_ZsAy-42tyJg=s64",
      "userId": "18012903892325475989"
     },
     "user_tz": -540
    },
    "id": "aAfXTYpj5ysB",
    "outputId": "903d4b15-0992-4e9d-cc57-cb1cc74773e4"
   },
   "outputs": [
    {
     "name": "stderr",
     "output_type": "stream",
     "text": [
      "\u001b[34m\u001b[1mwandb\u001b[0m: Currently logged in as: \u001b[33msubinium\u001b[0m (use `wandb login --relogin` to force relogin)\n"
     ]
    },
    {
     "data": {
      "text/html": [
       "\n",
       "                Tracking run with wandb version 0.11.2<br/>\n",
       "                Syncing run <strong style=\"color:#cdcd00\">fearless-oath-6</strong> to <a href=\"https://wandb.ai\" target=\"_blank\">Weights & Biases</a> <a href=\"https://docs.wandb.com/integrations/jupyter.html\" target=\"_blank\">(Documentation)</a>.<br/>\n",
       "                Project page: <a href=\"https://wandb.ai/subinium/uncategorized\" target=\"_blank\">https://wandb.ai/subinium/uncategorized</a><br/>\n",
       "                Run page: <a href=\"https://wandb.ai/subinium/uncategorized/runs/930o0dxt\" target=\"_blank\">https://wandb.ai/subinium/uncategorized/runs/930o0dxt</a><br/>\n",
       "                Run data is saved locally in <code>/Users/subinium/Desktop/Lecture/iitp/wandb/run-20210807_161749-930o0dxt</code><br/><br/>\n",
       "            "
      ],
      "text/plain": [
       "<IPython.core.display.HTML object>"
      ]
     },
     "metadata": {},
     "output_type": "display_data"
    },
    {
     "name": "stderr",
     "output_type": "stream",
     "text": [
      "\u001b[34m\u001b[1mwandb\u001b[0m: \u001b[33mWARNING\u001b[0m Calling wandb.login() after wandb.init() has no effect.\n"
     ]
    },
    {
     "name": "stdout",
     "output_type": "stream",
     "text": [
      "Create sweep with ID: 1xap0art\n",
      "Sweep URL: https://wandb.ai/subinium/medici%20wandb%20test/sweeps/1xap0art\n"
     ]
    }
   ],
   "source": [
    "import os\n",
    "from os.path import join\n",
    "\n",
    "import multiprocessing\n",
    "import warnings\n",
    "warnings.filterwarnings('ignore')\n",
    "\n",
    "import numpy as np\n",
    "import pandas as pd\n",
    "\n",
    "import wandb\n",
    "\n",
    "# 웹 서버 연결\n",
    "wandb.init()\n",
    "\n",
    "# optuna 세팅\n",
    "sweep_id = wandb.sweep(sweep_config, \n",
    "                       project=\"medici wandb test\")\n",
    "\n",
    "n_cpus = multiprocessing.cpu_count()"
   ]
  },
  {
   "cell_type": "code",
   "execution_count": 5,
   "metadata": {
    "executionInfo": {
     "elapsed": 414,
     "status": "ok",
     "timestamp": 1628181649102,
     "user": {
      "displayName": "I'm so Seoli",
      "photoUrl": "https://lh3.googleusercontent.com/a-/AOh14GgoGeyLbd3gxLLgPS5f5k5dEcdMQc_ZsAy-42tyJg=s64",
      "userId": "18012903892325475989"
     },
     "user_tz": -540
    },
    "id": "gH-_VIMQEDpZ"
   },
   "outputs": [],
   "source": [
    "BASE_DIR = './data' \n",
    "\n",
    "train_path = os.path.join(BASE_DIR, 'train.csv')\n",
    "test_path = os.path.join(BASE_DIR, 'test.csv')\n",
    "submission_path = os.path.join(BASE_DIR, 'sample_submission.csv')\n",
    "\n",
    "data = pd.read_csv(train_path)\n",
    "test = pd.read_csv(test_path)\n",
    "\n",
    "label = data['credit']"
   ]
  },
  {
   "cell_type": "code",
   "execution_count": 6,
   "metadata": {
    "executionInfo": {
     "elapsed": 10,
     "status": "ok",
     "timestamp": 1628181649103,
     "user": {
      "displayName": "I'm so Seoli",
      "photoUrl": "https://lh3.googleusercontent.com/a-/AOh14GgoGeyLbd3gxLLgPS5f5k5dEcdMQc_ZsAy-42tyJg=s64",
      "userId": "18012903892325475989"
     },
     "user_tz": -540
    },
    "id": "yZ9UxpS9EDpa"
   },
   "outputs": [],
   "source": [
    "# 불필요한 컬럼 제거\n",
    "data.drop(columns=['index', 'credit'], inplace=True)\n",
    "test.drop(columns=['index'],         inplace=True)"
   ]
  },
  {
   "cell_type": "code",
   "execution_count": 7,
   "metadata": {
    "colab": {
     "base_uri": "https://localhost:8080/"
    },
    "executionInfo": {
     "elapsed": 10,
     "status": "ok",
     "timestamp": 1628181649104,
     "user": {
      "displayName": "I'm so Seoli",
      "photoUrl": "https://lh3.googleusercontent.com/a-/AOh14GgoGeyLbd3gxLLgPS5f5k5dEcdMQc_ZsAy-42tyJg=s64",
      "userId": "18012903892325475989"
     },
     "user_tz": -540
    },
    "id": "7CrFI2GIEDpc",
    "outputId": "c1ffb29f-8c20-4865-b5f3-75dd3755b28a"
   },
   "outputs": [
    {
     "name": "stdout",
     "output_type": "stream",
     "text": [
      "Categorical Columns: \n",
      "['gender', 'car', 'reality', 'income_type', 'edu_type', 'family_type', 'house_type', 'occyp_type']\n",
      "\n",
      "Numeric Columns: \n",
      "['child_num', 'income_total', 'DAYS_BIRTH', 'DAYS_EMPLOYED', 'FLAG_MOBIL', 'work_phone', 'phone', 'email', 'family_size', 'begin_month']\n"
     ]
    }
   ],
   "source": [
    "cat_columns = [c for c, t in zip(data.dtypes.index, data.dtypes) if t == 'O'] \n",
    "num_columns = [c for c    in data.columns if c not in cat_columns]\n",
    "\n",
    "print('Categorical Columns: \\n{}\\n'.format(cat_columns))\n",
    "print('Numeric Columns: \\n{}'.format(num_columns))"
   ]
  },
  {
   "cell_type": "markdown",
   "metadata": {
    "id": "_N5-NlqOEDpe"
   },
   "source": [
    "#### 라벨 데이터 인코딩"
   ]
  },
  {
   "cell_type": "code",
   "execution_count": 8,
   "metadata": {
    "executionInfo": {
     "elapsed": 8,
     "status": "ok",
     "timestamp": 1628181649105,
     "user": {
      "displayName": "I'm so Seoli",
      "photoUrl": "https://lh3.googleusercontent.com/a-/AOh14GgoGeyLbd3gxLLgPS5f5k5dEcdMQc_ZsAy-42tyJg=s64",
      "userId": "18012903892325475989"
     },
     "user_tz": -540
    },
    "id": "cRHtxFLCEDpf"
   },
   "outputs": [],
   "source": [
    "label = label.astype(int)"
   ]
  },
  {
   "cell_type": "markdown",
   "metadata": {
    "id": "lnoCcS0eEDph"
   },
   "source": [
    "#### 전처리 프로세스 함수로 작성"
   ]
  },
  {
   "cell_type": "code",
   "execution_count": 9,
   "metadata": {
    "executionInfo": {
     "elapsed": 284,
     "status": "ok",
     "timestamp": 1628181649381,
     "user": {
      "displayName": "I'm so Seoli",
      "photoUrl": "https://lh3.googleusercontent.com/a-/AOh14GgoGeyLbd3gxLLgPS5f5k5dEcdMQc_ZsAy-42tyJg=s64",
      "userId": "18012903892325475989"
     },
     "user_tz": -540
    },
    "id": "mp0An34aEDpi"
   },
   "outputs": [],
   "source": [
    "from sklearn.impute import SimpleImputer\n",
    "from sklearn.preprocessing import StandardScaler, OneHotEncoder\n",
    "\n",
    "def preprocess(x_train, x_valid, x_test):\n",
    "    tmp_x_train = x_train.copy()\n",
    "    tmp_x_valid = x_valid.copy()\n",
    "    tmp_x_test  = x_test.copy()\n",
    "    \n",
    "    tmp_x_train.reset_index(drop=True, inplace=True)\n",
    "    tmp_x_valid.reset_index(drop=True, inplace=True)\n",
    "    \n",
    "    # 결측치 처리\n",
    "    imputer = SimpleImputer(strategy='most_frequent')\n",
    "    tmp_x_train[cat_columns] = imputer.fit_transform(tmp_x_train[cat_columns])\n",
    "    tmp_x_valid[cat_columns] = imputer.transform(tmp_x_valid[cat_columns])\n",
    "    tmp_x_test[cat_columns]  = imputer.transform(tmp_x_test[cat_columns])\n",
    "    \n",
    "    # 스케일링\n",
    "    scaler = StandardScaler()\n",
    "    tmp_x_train[num_columns] = scaler.fit_transform(tmp_x_train[num_columns])\n",
    "    tmp_x_valid[num_columns] = scaler.transform(tmp_x_valid[num_columns])\n",
    "    tmp_x_test[num_columns]  = scaler.transform(tmp_x_test[num_columns])\n",
    "\n",
    "    # 인코딩\n",
    "    ohe = OneHotEncoder(sparse=False)\n",
    "    ohe.fit(tmp_x_train[cat_columns])\n",
    "    \n",
    "    tmp_x_train_cat = pd.DataFrame(ohe.transform(tmp_x_train[cat_columns]))\n",
    "    tmp_x_valid_cat = pd.DataFrame(ohe.transform(tmp_x_valid[cat_columns]))\n",
    "    tmp_x_test_cat  = pd.DataFrame(ohe.transform(tmp_x_test[cat_columns]))\n",
    "    \n",
    "    tmp_x_train.drop(columns=cat_columns, inplace=True)\n",
    "    tmp_x_valid.drop(columns=cat_columns, inplace=True)\n",
    "    tmp_x_test.drop(columns=cat_columns, inplace=True)\n",
    "    \n",
    "    tmp_x_train = pd.concat([tmp_x_train, tmp_x_train_cat], axis=1)\n",
    "    tmp_x_valid = pd.concat([tmp_x_valid, tmp_x_valid_cat], axis=1)\n",
    "    tmp_x_test  = pd.concat([tmp_x_test, tmp_x_test_cat], axis=1)\n",
    "    \n",
    "    return tmp_x_train, tmp_x_valid, tmp_x_test"
   ]
  },
  {
   "cell_type": "markdown",
   "metadata": {
    "id": "d0YXWbF8EDpk"
   },
   "source": [
    "### Ensemble"
   ]
  },
  {
   "cell_type": "code",
   "execution_count": 10,
   "metadata": {
    "colab": {
     "base_uri": "https://localhost:8080/",
     "height": 1000,
     "referenced_widgets": [
      "6f92b779239646fba1fdd0ff6973059a",
      "23fb7df07b3d43da9a9ad893190af720",
      "dc9c7397512c4d10975752153eddff83",
      "3061e5a13a89437aa0d36a94e0ab54cc",
      "5a316f4fae634b0ab4c39fcaf5f99cb6",
      "ceee6e8b3b9e4a23844f482a3601bf0d",
      "101ba1c37df94d85a151bcf59b04fe1d",
      "ccc7a753e3e54e2180485cd96b6d6098",
      "d5d144d009e64b5eab0d7aea67effced",
      "bf9bafdd29df41dfb9b2f00d130cbd0d",
      "a5a900b3cd0944f29173d5a2ba286e20",
      "1e9f4a507eab425a91133ac02fa6aabb",
      "682e01be87c849a68ca7cb4ff65be39c",
      "e236e5d4f1a44464b76d90b27e37a621",
      "d5cbf0c2a07c4d269d529f931d818ca1",
      "e56c156d673345adbb0c0e5eb1be96fe"
     ]
    },
    "id": "CUeRRPyDEDpl",
    "outputId": "efd58cca-bdfd-41e1-82ce-e87aa41b5132"
   },
   "outputs": [
    {
     "name": "stderr",
     "output_type": "stream",
     "text": [
      "\u001b[34m\u001b[1mwandb\u001b[0m: \u001b[33mWARNING\u001b[0m Calling wandb.login() after wandb.init() has no effect.\n",
      "\u001b[34m\u001b[1mwandb\u001b[0m: Agent Starting Run: jnw3p3al with config:\n",
      "\u001b[34m\u001b[1mwandb\u001b[0m: \tcolsample_bytree: 0.6862110204160192\n",
      "\u001b[34m\u001b[1mwandb\u001b[0m: \tmax_depth: 3\n",
      "\u001b[34m\u001b[1mwandb\u001b[0m: \tsubsample: 0.8986802757967174\n"
     ]
    },
    {
     "data": {
      "text/html": [
       "\n",
       "                Tracking run with wandb version 0.11.2<br/>\n",
       "                Syncing run <strong style=\"color:#cdcd00\">balmy-sweep-1</strong> to <a href=\"https://wandb.ai\" target=\"_blank\">Weights & Biases</a> <a href=\"https://docs.wandb.com/integrations/jupyter.html\" target=\"_blank\">(Documentation)</a>.<br/>\n",
       "                Project page: <a href=\"https://wandb.ai/subinium/medici%20wandb%20test\" target=\"_blank\">https://wandb.ai/subinium/medici%20wandb%20test</a><br/>\n",
       "                Sweep page: <a href=\"https://wandb.ai/subinium/medici%20wandb%20test/sweeps/1xap0art\" target=\"_blank\">https://wandb.ai/subinium/medici%20wandb%20test/sweeps/1xap0art</a><br/>\n",
       "Run page: <a href=\"https://wandb.ai/subinium/medici%20wandb%20test/runs/jnw3p3al\" target=\"_blank\">https://wandb.ai/subinium/medici%20wandb%20test/runs/jnw3p3al</a><br/>\n",
       "                Run data is saved locally in <code>/Users/subinium/Desktop/Lecture/iitp/wandb/run-20210807_162421-jnw3p3al</code><br/><br/>\n",
       "            "
      ],
      "text/plain": [
       "<IPython.core.display.HTML object>"
      ]
     },
     "metadata": {},
     "output_type": "display_data"
    },
    {
     "name": "stdout",
     "output_type": "stream",
     "text": [
      "[0]\tvalidation_0-mlogloss:0.99585\tvalidation_1-mlogloss:0.99541\n",
      "[100]\tvalidation_0-mlogloss:0.73846\tvalidation_1-mlogloss:0.77927\n",
      "[200]\tvalidation_0-mlogloss:0.69112\tvalidation_1-mlogloss:0.76142\n",
      "[300]\tvalidation_0-mlogloss:0.65333\tvalidation_1-mlogloss:0.75074\n",
      "[400]\tvalidation_0-mlogloss:0.62475\tvalidation_1-mlogloss:0.74419\n",
      "[500]\tvalidation_0-mlogloss:0.60003\tvalidation_1-mlogloss:0.74039\n",
      "[600]\tvalidation_0-mlogloss:0.57768\tvalidation_1-mlogloss:0.73733\n",
      "[700]\tvalidation_0-mlogloss:0.55772\tvalidation_1-mlogloss:0.73379\n",
      "[800]\tvalidation_0-mlogloss:0.54025\tvalidation_1-mlogloss:0.73267\n",
      "[900]\tvalidation_0-mlogloss:0.52406\tvalidation_1-mlogloss:0.73123\n",
      "[984]\tvalidation_0-mlogloss:0.51162\tvalidation_1-mlogloss:0.73111\n",
      "0 Fold, train logloss : 0.52634, validation logloss : 0.7306\n",
      "[0]\tvalidation_0-mlogloss:0.99458\tvalidation_1-mlogloss:0.99629\n",
      "[100]\tvalidation_0-mlogloss:0.73250\tvalidation_1-mlogloss:0.78808\n",
      "[200]\tvalidation_0-mlogloss:0.68779\tvalidation_1-mlogloss:0.77454\n",
      "[300]\tvalidation_0-mlogloss:0.65178\tvalidation_1-mlogloss:0.76631\n",
      "[400]\tvalidation_0-mlogloss:0.62294\tvalidation_1-mlogloss:0.75886\n",
      "[500]\tvalidation_0-mlogloss:0.59792\tvalidation_1-mlogloss:0.75486\n",
      "[600]\tvalidation_0-mlogloss:0.57625\tvalidation_1-mlogloss:0.75173\n",
      "[700]\tvalidation_0-mlogloss:0.55579\tvalidation_1-mlogloss:0.74936\n",
      "[800]\tvalidation_0-mlogloss:0.53789\tvalidation_1-mlogloss:0.74898\n",
      "[900]\tvalidation_0-mlogloss:0.52153\tvalidation_1-mlogloss:0.74687\n",
      "[999]\tvalidation_0-mlogloss:0.50710\tvalidation_1-mlogloss:0.74521\n",
      "1 Fold, train logloss : 0.50994, validation logloss : 0.7450\n",
      "[0]\tvalidation_0-mlogloss:1.00784\tvalidation_1-mlogloss:1.00889\n",
      "[100]\tvalidation_0-mlogloss:0.73726\tvalidation_1-mlogloss:0.78219\n",
      "[200]\tvalidation_0-mlogloss:0.69164\tvalidation_1-mlogloss:0.76775\n",
      "[300]\tvalidation_0-mlogloss:0.65556\tvalidation_1-mlogloss:0.75864\n",
      "[400]\tvalidation_0-mlogloss:0.62469\tvalidation_1-mlogloss:0.75197\n",
      "[500]\tvalidation_0-mlogloss:0.59916\tvalidation_1-mlogloss:0.74865\n",
      "[600]\tvalidation_0-mlogloss:0.57715\tvalidation_1-mlogloss:0.74590\n",
      "[700]\tvalidation_0-mlogloss:0.55659\tvalidation_1-mlogloss:0.74386\n",
      "[800]\tvalidation_0-mlogloss:0.53855\tvalidation_1-mlogloss:0.74471\n",
      "[801]\tvalidation_0-mlogloss:0.53845\tvalidation_1-mlogloss:0.74470\n",
      "2 Fold, train logloss : 0.55644, validation logloss : 0.7438\n",
      "[0]\tvalidation_0-mlogloss:1.00775\tvalidation_1-mlogloss:1.00843\n",
      "[100]\tvalidation_0-mlogloss:0.73926\tvalidation_1-mlogloss:0.78275\n",
      "[200]\tvalidation_0-mlogloss:0.69545\tvalidation_1-mlogloss:0.76953\n",
      "[300]\tvalidation_0-mlogloss:0.65761\tvalidation_1-mlogloss:0.76018\n",
      "[400]\tvalidation_0-mlogloss:0.62697\tvalidation_1-mlogloss:0.75338\n",
      "[500]\tvalidation_0-mlogloss:0.60137\tvalidation_1-mlogloss:0.74714\n",
      "[600]\tvalidation_0-mlogloss:0.57743\tvalidation_1-mlogloss:0.74284\n",
      "[700]\tvalidation_0-mlogloss:0.55747\tvalidation_1-mlogloss:0.73936\n",
      "[800]\tvalidation_0-mlogloss:0.54014\tvalidation_1-mlogloss:0.73793\n",
      "[900]\tvalidation_0-mlogloss:0.52384\tvalidation_1-mlogloss:0.73548\n",
      "[999]\tvalidation_0-mlogloss:0.50963\tvalidation_1-mlogloss:0.73572\n",
      "3 Fold, train logloss : 0.51474, validation logloss : 0.7352\n",
      "[0]\tvalidation_0-mlogloss:1.00811\tvalidation_1-mlogloss:1.00875\n",
      "[100]\tvalidation_0-mlogloss:0.73979\tvalidation_1-mlogloss:0.77833\n",
      "[200]\tvalidation_0-mlogloss:0.69327\tvalidation_1-mlogloss:0.76653\n",
      "[300]\tvalidation_0-mlogloss:0.65584\tvalidation_1-mlogloss:0.75702\n",
      "[400]\tvalidation_0-mlogloss:0.62383\tvalidation_1-mlogloss:0.75162\n",
      "[500]\tvalidation_0-mlogloss:0.59774\tvalidation_1-mlogloss:0.74760\n",
      "[600]\tvalidation_0-mlogloss:0.57443\tvalidation_1-mlogloss:0.74460\n",
      "[700]\tvalidation_0-mlogloss:0.55494\tvalidation_1-mlogloss:0.74365\n",
      "[800]\tvalidation_0-mlogloss:0.53633\tvalidation_1-mlogloss:0.74302\n",
      "[900]\tvalidation_0-mlogloss:0.52048\tvalidation_1-mlogloss:0.74328\n",
      "[913]\tvalidation_0-mlogloss:0.51854\tvalidation_1-mlogloss:0.74292\n",
      "4 Fold, train logloss : 0.53414, validation logloss : 0.7423\n"
     ]
    },
    {
     "data": {
      "text/html": [
       "<br/>Waiting for W&B process to finish, PID 82373<br/>Program ended successfully."
      ],
      "text/plain": [
       "<IPython.core.display.HTML object>"
      ]
     },
     "metadata": {},
     "output_type": "display_data"
    },
    {
     "data": {
      "application/vnd.jupyter.widget-view+json": {
       "model_id": "",
       "version_major": 2,
       "version_minor": 0
      },
      "text/plain": [
       "VBox(children=(Label(value=' 0.00MB of 0.00MB uploaded (0.00MB deduped)\\r'), FloatProgress(value=1.0, max=1.0)…"
      ]
     },
     "metadata": {},
     "output_type": "display_data"
    },
    {
     "data": {
      "text/html": [
       "Find user logs for this run at: <code>/Users/subinium/Desktop/Lecture/iitp/wandb/run-20210807_162421-jnw3p3al/logs/debug.log</code>"
      ],
      "text/plain": [
       "<IPython.core.display.HTML object>"
      ]
     },
     "metadata": {},
     "output_type": "display_data"
    },
    {
     "data": {
      "text/html": [
       "Find internal logs for this run at: <code>/Users/subinium/Desktop/Lecture/iitp/wandb/run-20210807_162421-jnw3p3al/logs/debug-internal.log</code>"
      ],
      "text/plain": [
       "<IPython.core.display.HTML object>"
      ]
     },
     "metadata": {},
     "output_type": "display_data"
    },
    {
     "data": {
      "text/html": [
       "<h3>Run summary:</h3><br/><style>\n",
       "    table.wandb td:nth-child(1) { padding: 0 10px; text-align: right }\n",
       "    </style><table class=\"wandb\">\n",
       "<tr><td>cv_loss</td><td>0.73938</td></tr><tr><td>_runtime</td><td>269</td></tr><tr><td>_timestamp</td><td>1628321330</td></tr><tr><td>_step</td><td>0</td></tr></table>"
      ],
      "text/plain": [
       "<IPython.core.display.HTML object>"
      ]
     },
     "metadata": {},
     "output_type": "display_data"
    },
    {
     "data": {
      "text/html": [
       "<h3>Run history:</h3><br/><style>\n",
       "    table.wandb td:nth-child(1) { padding: 0 10px; text-align: right }\n",
       "    </style><table class=\"wandb\">\n",
       "<tr><td>cv_loss</td><td>▁</td></tr><tr><td>_runtime</td><td>▁</td></tr><tr><td>_timestamp</td><td>▁</td></tr><tr><td>_step</td><td>▁</td></tr></table><br/>"
      ],
      "text/plain": [
       "<IPython.core.display.HTML object>"
      ]
     },
     "metadata": {},
     "output_type": "display_data"
    },
    {
     "data": {
      "text/html": [
       "Synced 5 W&B file(s), 0 media file(s), 0 artifact file(s) and 0 other file(s)"
      ],
      "text/plain": [
       "<IPython.core.display.HTML object>"
      ]
     },
     "metadata": {},
     "output_type": "display_data"
    },
    {
     "data": {
      "text/html": [
       "\n",
       "                    <br/>Synced <strong style=\"color:#cdcd00\">balmy-sweep-1</strong>: <a href=\"https://wandb.ai/subinium/medici%20wandb%20test/runs/jnw3p3al\" target=\"_blank\">https://wandb.ai/subinium/medici%20wandb%20test/runs/jnw3p3al</a><br/>\n",
       "                "
      ],
      "text/plain": [
       "<IPython.core.display.HTML object>"
      ]
     },
     "metadata": {},
     "output_type": "display_data"
    },
    {
     "name": "stderr",
     "output_type": "stream",
     "text": [
      "\u001b[34m\u001b[1mwandb\u001b[0m: Agent Starting Run: g9u2nk4c with config:\n",
      "\u001b[34m\u001b[1mwandb\u001b[0m: \tcolsample_bytree: 0.7981342456812505\n",
      "\u001b[34m\u001b[1mwandb\u001b[0m: \tmax_depth: 3\n",
      "\u001b[34m\u001b[1mwandb\u001b[0m: \tsubsample: 0.8888067665412711\n"
     ]
    },
    {
     "data": {
      "text/html": [
       "\n",
       "                Tracking run with wandb version 0.11.2<br/>\n",
       "                Syncing run <strong style=\"color:#cdcd00\">pious-sweep-2</strong> to <a href=\"https://wandb.ai\" target=\"_blank\">Weights & Biases</a> <a href=\"https://docs.wandb.com/integrations/jupyter.html\" target=\"_blank\">(Documentation)</a>.<br/>\n",
       "                Project page: <a href=\"https://wandb.ai/subinium/medici%20wandb%20test\" target=\"_blank\">https://wandb.ai/subinium/medici%20wandb%20test</a><br/>\n",
       "                Sweep page: <a href=\"https://wandb.ai/subinium/medici%20wandb%20test/sweeps/1xap0art\" target=\"_blank\">https://wandb.ai/subinium/medici%20wandb%20test/sweeps/1xap0art</a><br/>\n",
       "Run page: <a href=\"https://wandb.ai/subinium/medici%20wandb%20test/runs/g9u2nk4c\" target=\"_blank\">https://wandb.ai/subinium/medici%20wandb%20test/runs/g9u2nk4c</a><br/>\n",
       "                Run data is saved locally in <code>/Users/subinium/Desktop/Lecture/iitp/wandb/run-20210807_162857-g9u2nk4c</code><br/><br/>\n",
       "            "
      ],
      "text/plain": [
       "<IPython.core.display.HTML object>"
      ]
     },
     "metadata": {},
     "output_type": "display_data"
    },
    {
     "name": "stdout",
     "output_type": "stream",
     "text": [
      "[0]\tvalidation_0-mlogloss:0.97889\tvalidation_1-mlogloss:0.97802\n",
      "[100]\tvalidation_0-mlogloss:0.73547\tvalidation_1-mlogloss:0.77537\n",
      "[200]\tvalidation_0-mlogloss:0.68885\tvalidation_1-mlogloss:0.76005\n",
      "[300]\tvalidation_0-mlogloss:0.65119\tvalidation_1-mlogloss:0.75067\n",
      "[400]\tvalidation_0-mlogloss:0.62118\tvalidation_1-mlogloss:0.74316\n",
      "[500]\tvalidation_0-mlogloss:0.59544\tvalidation_1-mlogloss:0.73945\n",
      "[600]\tvalidation_0-mlogloss:0.57318\tvalidation_1-mlogloss:0.73580\n",
      "[700]\tvalidation_0-mlogloss:0.55246\tvalidation_1-mlogloss:0.73391\n",
      "[800]\tvalidation_0-mlogloss:0.53486\tvalidation_1-mlogloss:0.73318\n",
      "[900]\tvalidation_0-mlogloss:0.51818\tvalidation_1-mlogloss:0.73316\n",
      "[907]\tvalidation_0-mlogloss:0.51726\tvalidation_1-mlogloss:0.73310\n",
      "0 Fold, train logloss : 0.53364, validation logloss : 0.7330\n",
      "[0]\tvalidation_0-mlogloss:0.97784\tvalidation_1-mlogloss:0.98007\n",
      "[100]\tvalidation_0-mlogloss:0.73160\tvalidation_1-mlogloss:0.78754\n",
      "[200]\tvalidation_0-mlogloss:0.68690\tvalidation_1-mlogloss:0.77397\n",
      "[300]\tvalidation_0-mlogloss:0.65057\tvalidation_1-mlogloss:0.76504\n",
      "[400]\tvalidation_0-mlogloss:0.62021\tvalidation_1-mlogloss:0.75902\n",
      "[500]\tvalidation_0-mlogloss:0.59380\tvalidation_1-mlogloss:0.75323\n",
      "[600]\tvalidation_0-mlogloss:0.57155\tvalidation_1-mlogloss:0.74913\n",
      "[700]\tvalidation_0-mlogloss:0.55089\tvalidation_1-mlogloss:0.74623\n",
      "[800]\tvalidation_0-mlogloss:0.53330\tvalidation_1-mlogloss:0.74552\n",
      "[883]\tvalidation_0-mlogloss:0.51968\tvalidation_1-mlogloss:0.74627\n",
      "1 Fold, train logloss : 0.53604, validation logloss : 0.7447\n",
      "[0]\tvalidation_0-mlogloss:1.00746\tvalidation_1-mlogloss:1.00852\n",
      "[100]\tvalidation_0-mlogloss:0.73671\tvalidation_1-mlogloss:0.78096\n",
      "[200]\tvalidation_0-mlogloss:0.68985\tvalidation_1-mlogloss:0.76670\n",
      "[300]\tvalidation_0-mlogloss:0.65309\tvalidation_1-mlogloss:0.75957\n",
      "[400]\tvalidation_0-mlogloss:0.62221\tvalidation_1-mlogloss:0.75378\n",
      "[500]\tvalidation_0-mlogloss:0.59532\tvalidation_1-mlogloss:0.75085\n",
      "[600]\tvalidation_0-mlogloss:0.57250\tvalidation_1-mlogloss:0.75022\n",
      "[700]\tvalidation_0-mlogloss:0.55141\tvalidation_1-mlogloss:0.74740\n",
      "[800]\tvalidation_0-mlogloss:0.53297\tvalidation_1-mlogloss:0.74907\n",
      "[806]\tvalidation_0-mlogloss:0.53194\tvalidation_1-mlogloss:0.74898\n",
      "2 Fold, train logloss : 0.55024, validation logloss : 0.7468\n",
      "[0]\tvalidation_0-mlogloss:1.00741\tvalidation_1-mlogloss:1.00811\n",
      "[100]\tvalidation_0-mlogloss:0.73701\tvalidation_1-mlogloss:0.78048\n",
      "[200]\tvalidation_0-mlogloss:0.68980\tvalidation_1-mlogloss:0.76504\n",
      "[300]\tvalidation_0-mlogloss:0.65230\tvalidation_1-mlogloss:0.75372\n",
      "[400]\tvalidation_0-mlogloss:0.62226\tvalidation_1-mlogloss:0.74627\n",
      "[500]\tvalidation_0-mlogloss:0.59558\tvalidation_1-mlogloss:0.74096\n",
      "[600]\tvalidation_0-mlogloss:0.57244\tvalidation_1-mlogloss:0.73710\n",
      "[700]\tvalidation_0-mlogloss:0.55186\tvalidation_1-mlogloss:0.73553\n",
      "[800]\tvalidation_0-mlogloss:0.53407\tvalidation_1-mlogloss:0.73403\n",
      "[900]\tvalidation_0-mlogloss:0.51764\tvalidation_1-mlogloss:0.73404\n",
      "[925]\tvalidation_0-mlogloss:0.51379\tvalidation_1-mlogloss:0.73496\n",
      "3 Fold, train logloss : 0.52994, validation logloss : 0.7333\n",
      "[0]\tvalidation_0-mlogloss:1.00760\tvalidation_1-mlogloss:1.00842\n",
      "[100]\tvalidation_0-mlogloss:0.73621\tvalidation_1-mlogloss:0.77800\n",
      "[200]\tvalidation_0-mlogloss:0.68888\tvalidation_1-mlogloss:0.76302\n",
      "[300]\tvalidation_0-mlogloss:0.65176\tvalidation_1-mlogloss:0.75369\n",
      "[400]\tvalidation_0-mlogloss:0.61985\tvalidation_1-mlogloss:0.75012\n",
      "[500]\tvalidation_0-mlogloss:0.59320\tvalidation_1-mlogloss:0.74552\n",
      "[600]\tvalidation_0-mlogloss:0.56995\tvalidation_1-mlogloss:0.74227\n",
      "[700]\tvalidation_0-mlogloss:0.54984\tvalidation_1-mlogloss:0.74080\n",
      "[800]\tvalidation_0-mlogloss:0.53131\tvalidation_1-mlogloss:0.74101\n",
      "[854]\tvalidation_0-mlogloss:0.52220\tvalidation_1-mlogloss:0.74148\n",
      "4 Fold, train logloss : 0.53964, validation logloss : 0.7402\n"
     ]
    },
    {
     "data": {
      "text/html": [
       "<br/>Waiting for W&B process to finish, PID 82798<br/>Program ended successfully."
      ],
      "text/plain": [
       "<IPython.core.display.HTML object>"
      ]
     },
     "metadata": {},
     "output_type": "display_data"
    },
    {
     "data": {
      "application/vnd.jupyter.widget-view+json": {
       "model_id": "",
       "version_major": 2,
       "version_minor": 0
      },
      "text/plain": [
       "VBox(children=(Label(value=' 0.00MB of 0.00MB uploaded (0.00MB deduped)\\r'), FloatProgress(value=1.0, max=1.0)…"
      ]
     },
     "metadata": {},
     "output_type": "display_data"
    },
    {
     "data": {
      "text/html": [
       "Find user logs for this run at: <code>/Users/subinium/Desktop/Lecture/iitp/wandb/run-20210807_162857-g9u2nk4c/logs/debug.log</code>"
      ],
      "text/plain": [
       "<IPython.core.display.HTML object>"
      ]
     },
     "metadata": {},
     "output_type": "display_data"
    },
    {
     "data": {
      "text/html": [
       "Find internal logs for this run at: <code>/Users/subinium/Desktop/Lecture/iitp/wandb/run-20210807_162857-g9u2nk4c/logs/debug-internal.log</code>"
      ],
      "text/plain": [
       "<IPython.core.display.HTML object>"
      ]
     },
     "metadata": {},
     "output_type": "display_data"
    },
    {
     "data": {
      "text/html": [
       "<h3>Run summary:</h3><br/><style>\n",
       "    table.wandb td:nth-child(1) { padding: 0 10px; text-align: right }\n",
       "    </style><table class=\"wandb\">\n",
       "<tr><td>cv_loss</td><td>0.73959</td></tr><tr><td>_runtime</td><td>296</td></tr><tr><td>_timestamp</td><td>1628321633</td></tr><tr><td>_step</td><td>0</td></tr></table>"
      ],
      "text/plain": [
       "<IPython.core.display.HTML object>"
      ]
     },
     "metadata": {},
     "output_type": "display_data"
    },
    {
     "data": {
      "text/html": [
       "<h3>Run history:</h3><br/><style>\n",
       "    table.wandb td:nth-child(1) { padding: 0 10px; text-align: right }\n",
       "    </style><table class=\"wandb\">\n",
       "<tr><td>cv_loss</td><td>▁</td></tr><tr><td>_runtime</td><td>▁</td></tr><tr><td>_timestamp</td><td>▁</td></tr><tr><td>_step</td><td>▁</td></tr></table><br/>"
      ],
      "text/plain": [
       "<IPython.core.display.HTML object>"
      ]
     },
     "metadata": {},
     "output_type": "display_data"
    },
    {
     "data": {
      "text/html": [
       "Synced 5 W&B file(s), 0 media file(s), 0 artifact file(s) and 0 other file(s)"
      ],
      "text/plain": [
       "<IPython.core.display.HTML object>"
      ]
     },
     "metadata": {},
     "output_type": "display_data"
    },
    {
     "data": {
      "text/html": [
       "\n",
       "                    <br/>Synced <strong style=\"color:#cdcd00\">pious-sweep-2</strong>: <a href=\"https://wandb.ai/subinium/medici%20wandb%20test/runs/g9u2nk4c\" target=\"_blank\">https://wandb.ai/subinium/medici%20wandb%20test/runs/g9u2nk4c</a><br/>\n",
       "                "
      ],
      "text/plain": [
       "<IPython.core.display.HTML object>"
      ]
     },
     "metadata": {},
     "output_type": "display_data"
    },
    {
     "name": "stderr",
     "output_type": "stream",
     "text": [
      "\u001b[34m\u001b[1mwandb\u001b[0m: Agent Starting Run: uga5ljzo with config:\n",
      "\u001b[34m\u001b[1mwandb\u001b[0m: \tcolsample_bytree: 0.688392987630204\n",
      "\u001b[34m\u001b[1mwandb\u001b[0m: \tmax_depth: 12\n",
      "\u001b[34m\u001b[1mwandb\u001b[0m: \tsubsample: 0.9184617067357335\n"
     ]
    },
    {
     "data": {
      "text/html": [
       "\n",
       "                Tracking run with wandb version 0.11.2<br/>\n",
       "                Syncing run <strong style=\"color:#cdcd00\">giddy-sweep-3</strong> to <a href=\"https://wandb.ai\" target=\"_blank\">Weights & Biases</a> <a href=\"https://docs.wandb.com/integrations/jupyter.html\" target=\"_blank\">(Documentation)</a>.<br/>\n",
       "                Project page: <a href=\"https://wandb.ai/subinium/medici%20wandb%20test\" target=\"_blank\">https://wandb.ai/subinium/medici%20wandb%20test</a><br/>\n",
       "                Sweep page: <a href=\"https://wandb.ai/subinium/medici%20wandb%20test/sweeps/1xap0art\" target=\"_blank\">https://wandb.ai/subinium/medici%20wandb%20test/sweeps/1xap0art</a><br/>\n",
       "Run page: <a href=\"https://wandb.ai/subinium/medici%20wandb%20test/runs/uga5ljzo\" target=\"_blank\">https://wandb.ai/subinium/medici%20wandb%20test/runs/uga5ljzo</a><br/>\n",
       "                Run data is saved locally in <code>/Users/subinium/Desktop/Lecture/iitp/wandb/run-20210807_163400-uga5ljzo</code><br/><br/>\n",
       "            "
      ],
      "text/plain": [
       "<IPython.core.display.HTML object>"
      ]
     },
     "metadata": {},
     "output_type": "display_data"
    },
    {
     "name": "stdout",
     "output_type": "stream",
     "text": [
      "[0]\tvalidation_0-mlogloss:0.97315\tvalidation_1-mlogloss:0.98673\n",
      "[100]\tvalidation_0-mlogloss:0.20001\tvalidation_1-mlogloss:0.76651\n",
      "[138]\tvalidation_0-mlogloss:0.14424\tvalidation_1-mlogloss:0.81374\n",
      "0 Fold, train logloss : 0.38154, validation logloss : 0.7210\n",
      "[0]\tvalidation_0-mlogloss:0.97386\tvalidation_1-mlogloss:0.99059\n",
      "[100]\tvalidation_0-mlogloss:0.19118\tvalidation_1-mlogloss:0.78765\n",
      "[139]\tvalidation_0-mlogloss:0.13630\tvalidation_1-mlogloss:0.84209\n",
      "1 Fold, train logloss : 0.37074, validation logloss : 0.7321\n",
      "[0]\tvalidation_0-mlogloss:0.97923\tvalidation_1-mlogloss:0.99421\n",
      "[100]\tvalidation_0-mlogloss:0.18986\tvalidation_1-mlogloss:0.79280\n",
      "[133]\tvalidation_0-mlogloss:0.14338\tvalidation_1-mlogloss:0.83899\n",
      "2 Fold, train logloss : 0.40354, validation logloss : 0.7325\n",
      "[0]\tvalidation_0-mlogloss:0.98134\tvalidation_1-mlogloss:0.99596\n",
      "[100]\tvalidation_0-mlogloss:0.19536\tvalidation_1-mlogloss:0.78406\n",
      "[134]\tvalidation_0-mlogloss:0.14205\tvalidation_1-mlogloss:0.83362\n",
      "3 Fold, train logloss : 0.41944, validation logloss : 0.7244\n",
      "[0]\tvalidation_0-mlogloss:0.98359\tvalidation_1-mlogloss:0.99652\n",
      "[100]\tvalidation_0-mlogloss:0.19381\tvalidation_1-mlogloss:0.79007\n",
      "[139]\tvalidation_0-mlogloss:0.14193\tvalidation_1-mlogloss:0.83985\n",
      "4 Fold, train logloss : 0.39804, validation logloss : 0.7251\n"
     ]
    },
    {
     "data": {
      "text/html": [
       "<br/>Waiting for W&B process to finish, PID 83243<br/>Program ended successfully."
      ],
      "text/plain": [
       "<IPython.core.display.HTML object>"
      ]
     },
     "metadata": {},
     "output_type": "display_data"
    },
    {
     "data": {
      "application/vnd.jupyter.widget-view+json": {
       "model_id": "",
       "version_major": 2,
       "version_minor": 0
      },
      "text/plain": [
       "VBox(children=(Label(value=' 0.00MB of 0.00MB uploaded (0.00MB deduped)\\r'), FloatProgress(value=1.0, max=1.0)…"
      ]
     },
     "metadata": {},
     "output_type": "display_data"
    },
    {
     "data": {
      "text/html": [
       "Find user logs for this run at: <code>/Users/subinium/Desktop/Lecture/iitp/wandb/run-20210807_163400-uga5ljzo/logs/debug.log</code>"
      ],
      "text/plain": [
       "<IPython.core.display.HTML object>"
      ]
     },
     "metadata": {},
     "output_type": "display_data"
    },
    {
     "data": {
      "text/html": [
       "Find internal logs for this run at: <code>/Users/subinium/Desktop/Lecture/iitp/wandb/run-20210807_163400-uga5ljzo/logs/debug-internal.log</code>"
      ],
      "text/plain": [
       "<IPython.core.display.HTML object>"
      ]
     },
     "metadata": {},
     "output_type": "display_data"
    },
    {
     "data": {
      "text/html": [
       "<h3>Run summary:</h3><br/><style>\n",
       "    table.wandb td:nth-child(1) { padding: 0 10px; text-align: right }\n",
       "    </style><table class=\"wandb\">\n",
       "<tr><td>cv_loss</td><td>0.72703</td></tr><tr><td>_runtime</td><td>194</td></tr><tr><td>_timestamp</td><td>1628321834</td></tr><tr><td>_step</td><td>0</td></tr></table>"
      ],
      "text/plain": [
       "<IPython.core.display.HTML object>"
      ]
     },
     "metadata": {},
     "output_type": "display_data"
    },
    {
     "data": {
      "text/html": [
       "<h3>Run history:</h3><br/><style>\n",
       "    table.wandb td:nth-child(1) { padding: 0 10px; text-align: right }\n",
       "    </style><table class=\"wandb\">\n",
       "<tr><td>cv_loss</td><td>▁</td></tr><tr><td>_runtime</td><td>▁</td></tr><tr><td>_timestamp</td><td>▁</td></tr><tr><td>_step</td><td>▁</td></tr></table><br/>"
      ],
      "text/plain": [
       "<IPython.core.display.HTML object>"
      ]
     },
     "metadata": {},
     "output_type": "display_data"
    },
    {
     "data": {
      "text/html": [
       "Synced 5 W&B file(s), 0 media file(s), 0 artifact file(s) and 0 other file(s)"
      ],
      "text/plain": [
       "<IPython.core.display.HTML object>"
      ]
     },
     "metadata": {},
     "output_type": "display_data"
    },
    {
     "data": {
      "text/html": [
       "\n",
       "                    <br/>Synced <strong style=\"color:#cdcd00\">giddy-sweep-3</strong>: <a href=\"https://wandb.ai/subinium/medici%20wandb%20test/runs/uga5ljzo\" target=\"_blank\">https://wandb.ai/subinium/medici%20wandb%20test/runs/uga5ljzo</a><br/>\n",
       "                "
      ],
      "text/plain": [
       "<IPython.core.display.HTML object>"
      ]
     },
     "metadata": {},
     "output_type": "display_data"
    },
    {
     "name": "stderr",
     "output_type": "stream",
     "text": [
      "\u001b[34m\u001b[1mwandb\u001b[0m: Agent Starting Run: ap42h48m with config:\n",
      "\u001b[34m\u001b[1mwandb\u001b[0m: \tcolsample_bytree: 0.6593670209065594\n",
      "\u001b[34m\u001b[1mwandb\u001b[0m: \tmax_depth: 15\n",
      "\u001b[34m\u001b[1mwandb\u001b[0m: \tsubsample: 0.9240215396452902\n"
     ]
    },
    {
     "data": {
      "text/html": [
       "\n",
       "                Tracking run with wandb version 0.11.2<br/>\n",
       "                Syncing run <strong style=\"color:#cdcd00\">daily-sweep-4</strong> to <a href=\"https://wandb.ai\" target=\"_blank\">Weights & Biases</a> <a href=\"https://docs.wandb.com/integrations/jupyter.html\" target=\"_blank\">(Documentation)</a>.<br/>\n",
       "                Project page: <a href=\"https://wandb.ai/subinium/medici%20wandb%20test\" target=\"_blank\">https://wandb.ai/subinium/medici%20wandb%20test</a><br/>\n",
       "                Sweep page: <a href=\"https://wandb.ai/subinium/medici%20wandb%20test/sweeps/1xap0art\" target=\"_blank\">https://wandb.ai/subinium/medici%20wandb%20test/sweeps/1xap0art</a><br/>\n",
       "Run page: <a href=\"https://wandb.ai/subinium/medici%20wandb%20test/runs/ap42h48m\" target=\"_blank\">https://wandb.ai/subinium/medici%20wandb%20test/runs/ap42h48m</a><br/>\n",
       "                Run data is saved locally in <code>/Users/subinium/Desktop/Lecture/iitp/wandb/run-20210807_163719-ap42h48m</code><br/><br/>\n",
       "            "
      ],
      "text/plain": [
       "<IPython.core.display.HTML object>"
      ]
     },
     "metadata": {},
     "output_type": "display_data"
    },
    {
     "name": "stdout",
     "output_type": "stream",
     "text": [
      "[0]\tvalidation_0-mlogloss:0.96128\tvalidation_1-mlogloss:0.98286\n",
      "[100]\tvalidation_0-mlogloss:0.11091\tvalidation_1-mlogloss:0.84140\n",
      "[123]\tvalidation_0-mlogloss:0.08841\tvalidation_1-mlogloss:0.89005\n",
      "0 Fold, train logloss : 0.36124, validation logloss : 0.7169\n",
      "[0]\tvalidation_0-mlogloss:0.95833\tvalidation_1-mlogloss:0.98533\n",
      "[100]\tvalidation_0-mlogloss:0.11087\tvalidation_1-mlogloss:0.87285\n",
      "[119]\tvalidation_0-mlogloss:0.09349\tvalidation_1-mlogloss:0.90959\n",
      "1 Fold, train logloss : 0.39444, validation logloss : 0.7343\n",
      "[0]\tvalidation_0-mlogloss:0.95825\tvalidation_1-mlogloss:0.98616\n",
      "[100]\tvalidation_0-mlogloss:0.10863\tvalidation_1-mlogloss:0.87591\n",
      "[118]\tvalidation_0-mlogloss:0.09066\tvalidation_1-mlogloss:0.91602\n",
      "2 Fold, train logloss : 0.39324, validation logloss : 0.7288\n",
      "[0]\tvalidation_0-mlogloss:0.96342\tvalidation_1-mlogloss:0.98752\n",
      "[100]\tvalidation_0-mlogloss:0.10910\tvalidation_1-mlogloss:0.86463\n",
      "[122]\tvalidation_0-mlogloss:0.08866\tvalidation_1-mlogloss:0.91177\n",
      "3 Fold, train logloss : 0.37034, validation logloss : 0.7246\n",
      "[0]\tvalidation_0-mlogloss:0.96187\tvalidation_1-mlogloss:0.98669\n",
      "[100]\tvalidation_0-mlogloss:0.11020\tvalidation_1-mlogloss:0.86746\n",
      "[120]\tvalidation_0-mlogloss:0.09091\tvalidation_1-mlogloss:0.90927\n",
      "4 Fold, train logloss : 0.38844, validation logloss : 0.7207\n"
     ]
    },
    {
     "data": {
      "text/html": [
       "<br/>Waiting for W&B process to finish, PID 83569<br/>Program ended successfully."
      ],
      "text/plain": [
       "<IPython.core.display.HTML object>"
      ]
     },
     "metadata": {},
     "output_type": "display_data"
    },
    {
     "data": {
      "application/vnd.jupyter.widget-view+json": {
       "model_id": "",
       "version_major": 2,
       "version_minor": 0
      },
      "text/plain": [
       "VBox(children=(Label(value=' 0.00MB of 0.00MB uploaded (0.00MB deduped)\\r'), FloatProgress(value=1.0, max=1.0)…"
      ]
     },
     "metadata": {},
     "output_type": "display_data"
    },
    {
     "data": {
      "text/html": [
       "Find user logs for this run at: <code>/Users/subinium/Desktop/Lecture/iitp/wandb/run-20210807_163719-ap42h48m/logs/debug.log</code>"
      ],
      "text/plain": [
       "<IPython.core.display.HTML object>"
      ]
     },
     "metadata": {},
     "output_type": "display_data"
    },
    {
     "data": {
      "text/html": [
       "Find internal logs for this run at: <code>/Users/subinium/Desktop/Lecture/iitp/wandb/run-20210807_163719-ap42h48m/logs/debug-internal.log</code>"
      ],
      "text/plain": [
       "<IPython.core.display.HTML object>"
      ]
     },
     "metadata": {},
     "output_type": "display_data"
    },
    {
     "data": {
      "text/html": [
       "<h3>Run summary:</h3><br/><style>\n",
       "    table.wandb td:nth-child(1) { padding: 0 10px; text-align: right }\n",
       "    </style><table class=\"wandb\">\n",
       "<tr><td>cv_loss</td><td>0.72505</td></tr><tr><td>_runtime</td><td>250</td></tr><tr><td>_timestamp</td><td>1628322089</td></tr><tr><td>_step</td><td>0</td></tr></table>"
      ],
      "text/plain": [
       "<IPython.core.display.HTML object>"
      ]
     },
     "metadata": {},
     "output_type": "display_data"
    },
    {
     "data": {
      "text/html": [
       "<h3>Run history:</h3><br/><style>\n",
       "    table.wandb td:nth-child(1) { padding: 0 10px; text-align: right }\n",
       "    </style><table class=\"wandb\">\n",
       "<tr><td>cv_loss</td><td>▁</td></tr><tr><td>_runtime</td><td>▁</td></tr><tr><td>_timestamp</td><td>▁</td></tr><tr><td>_step</td><td>▁</td></tr></table><br/>"
      ],
      "text/plain": [
       "<IPython.core.display.HTML object>"
      ]
     },
     "metadata": {},
     "output_type": "display_data"
    },
    {
     "data": {
      "text/html": [
       "Synced 5 W&B file(s), 0 media file(s), 0 artifact file(s) and 0 other file(s)"
      ],
      "text/plain": [
       "<IPython.core.display.HTML object>"
      ]
     },
     "metadata": {},
     "output_type": "display_data"
    },
    {
     "data": {
      "text/html": [
       "\n",
       "                    <br/>Synced <strong style=\"color:#cdcd00\">daily-sweep-4</strong>: <a href=\"https://wandb.ai/subinium/medici%20wandb%20test/runs/ap42h48m\" target=\"_blank\">https://wandb.ai/subinium/medici%20wandb%20test/runs/ap42h48m</a><br/>\n",
       "                "
      ],
      "text/plain": [
       "<IPython.core.display.HTML object>"
      ]
     },
     "metadata": {},
     "output_type": "display_data"
    },
    {
     "name": "stderr",
     "output_type": "stream",
     "text": [
      "\u001b[34m\u001b[1mwandb\u001b[0m: Agent Starting Run: 6c54fw0r with config:\n",
      "\u001b[34m\u001b[1mwandb\u001b[0m: \tcolsample_bytree: 0.5441274017917261\n",
      "\u001b[34m\u001b[1mwandb\u001b[0m: \tmax_depth: 15\n",
      "\u001b[34m\u001b[1mwandb\u001b[0m: \tsubsample: 0.8010343387488805\n"
     ]
    },
    {
     "data": {
      "text/html": [
       "\n",
       "                Tracking run with wandb version 0.11.2<br/>\n",
       "                Syncing run <strong style=\"color:#cdcd00\">copper-sweep-5</strong> to <a href=\"https://wandb.ai\" target=\"_blank\">Weights & Biases</a> <a href=\"https://docs.wandb.com/integrations/jupyter.html\" target=\"_blank\">(Documentation)</a>.<br/>\n",
       "                Project page: <a href=\"https://wandb.ai/subinium/medici%20wandb%20test\" target=\"_blank\">https://wandb.ai/subinium/medici%20wandb%20test</a><br/>\n",
       "                Sweep page: <a href=\"https://wandb.ai/subinium/medici%20wandb%20test/sweeps/1xap0art\" target=\"_blank\">https://wandb.ai/subinium/medici%20wandb%20test/sweeps/1xap0art</a><br/>\n",
       "Run page: <a href=\"https://wandb.ai/subinium/medici%20wandb%20test/runs/6c54fw0r\" target=\"_blank\">https://wandb.ai/subinium/medici%20wandb%20test/runs/6c54fw0r</a><br/>\n",
       "                Run data is saved locally in <code>/Users/subinium/Desktop/Lecture/iitp/wandb/run-20210807_164135-6c54fw0r</code><br/><br/>\n",
       "            "
      ],
      "text/plain": [
       "<IPython.core.display.HTML object>"
      ]
     },
     "metadata": {},
     "output_type": "display_data"
    },
    {
     "name": "stdout",
     "output_type": "stream",
     "text": [
      "[0]\tvalidation_0-mlogloss:0.96988\tvalidation_1-mlogloss:0.99057\n",
      "[100]\tvalidation_0-mlogloss:0.12110\tvalidation_1-mlogloss:0.83665\n",
      "[123]\tvalidation_0-mlogloss:0.09763\tvalidation_1-mlogloss:0.88015\n",
      "0 Fold, train logloss : 0.38154, validation logloss : 0.7145\n",
      "[0]\tvalidation_0-mlogloss:0.96786\tvalidation_1-mlogloss:0.99007\n",
      "[100]\tvalidation_0-mlogloss:0.12022\tvalidation_1-mlogloss:0.86750\n",
      "[120]\tvalidation_0-mlogloss:0.09967\tvalidation_1-mlogloss:0.91148\n",
      "1 Fold, train logloss : 0.41104, validation logloss : 0.7277\n",
      "[0]\tvalidation_0-mlogloss:0.97078\tvalidation_1-mlogloss:0.99228\n",
      "[100]\tvalidation_0-mlogloss:0.11756\tvalidation_1-mlogloss:0.86687\n",
      "[119]\tvalidation_0-mlogloss:0.10060\tvalidation_1-mlogloss:0.90608\n",
      "2 Fold, train logloss : 0.42174, validation logloss : 0.7249\n",
      "[0]\tvalidation_0-mlogloss:0.97095\tvalidation_1-mlogloss:0.98989\n",
      "[100]\tvalidation_0-mlogloss:0.11597\tvalidation_1-mlogloss:0.85715\n",
      "[123]\tvalidation_0-mlogloss:0.09534\tvalidation_1-mlogloss:0.90298\n",
      "3 Fold, train logloss : 0.38654, validation logloss : 0.7151\n",
      "[0]\tvalidation_0-mlogloss:0.96727\tvalidation_1-mlogloss:0.99073\n",
      "[100]\tvalidation_0-mlogloss:0.11288\tvalidation_1-mlogloss:0.87244\n",
      "[123]\tvalidation_0-mlogloss:0.09529\tvalidation_1-mlogloss:0.91685\n",
      "4 Fold, train logloss : 0.37864, validation logloss : 0.7189\n"
     ]
    },
    {
     "data": {
      "text/html": [
       "<br/>Waiting for W&B process to finish, PID 83983<br/>Program ended successfully."
      ],
      "text/plain": [
       "<IPython.core.display.HTML object>"
      ]
     },
     "metadata": {},
     "output_type": "display_data"
    },
    {
     "data": {
      "application/vnd.jupyter.widget-view+json": {
       "model_id": "",
       "version_major": 2,
       "version_minor": 0
      },
      "text/plain": [
       "VBox(children=(Label(value=' 0.00MB of 0.00MB uploaded (0.00MB deduped)\\r'), FloatProgress(value=1.0, max=1.0)…"
      ]
     },
     "metadata": {},
     "output_type": "display_data"
    },
    {
     "data": {
      "text/html": [
       "Find user logs for this run at: <code>/Users/subinium/Desktop/Lecture/iitp/wandb/run-20210807_164135-6c54fw0r/logs/debug.log</code>"
      ],
      "text/plain": [
       "<IPython.core.display.HTML object>"
      ]
     },
     "metadata": {},
     "output_type": "display_data"
    },
    {
     "data": {
      "text/html": [
       "Find internal logs for this run at: <code>/Users/subinium/Desktop/Lecture/iitp/wandb/run-20210807_164135-6c54fw0r/logs/debug-internal.log</code>"
      ],
      "text/plain": [
       "<IPython.core.display.HTML object>"
      ]
     },
     "metadata": {},
     "output_type": "display_data"
    },
    {
     "data": {
      "text/html": [
       "<h3>Run summary:</h3><br/><style>\n",
       "    table.wandb td:nth-child(1) { padding: 0 10px; text-align: right }\n",
       "    </style><table class=\"wandb\">\n",
       "<tr><td>cv_loss</td><td>0.7202</td></tr><tr><td>_runtime</td><td>202</td></tr><tr><td>_timestamp</td><td>1628322297</td></tr><tr><td>_step</td><td>0</td></tr></table>"
      ],
      "text/plain": [
       "<IPython.core.display.HTML object>"
      ]
     },
     "metadata": {},
     "output_type": "display_data"
    },
    {
     "data": {
      "text/html": [
       "<h3>Run history:</h3><br/><style>\n",
       "    table.wandb td:nth-child(1) { padding: 0 10px; text-align: right }\n",
       "    </style><table class=\"wandb\">\n",
       "<tr><td>cv_loss</td><td>▁</td></tr><tr><td>_runtime</td><td>▁</td></tr><tr><td>_timestamp</td><td>▁</td></tr><tr><td>_step</td><td>▁</td></tr></table><br/>"
      ],
      "text/plain": [
       "<IPython.core.display.HTML object>"
      ]
     },
     "metadata": {},
     "output_type": "display_data"
    },
    {
     "data": {
      "text/html": [
       "Synced 5 W&B file(s), 0 media file(s), 0 artifact file(s) and 0 other file(s)"
      ],
      "text/plain": [
       "<IPython.core.display.HTML object>"
      ]
     },
     "metadata": {},
     "output_type": "display_data"
    },
    {
     "data": {
      "text/html": [
       "\n",
       "                    <br/>Synced <strong style=\"color:#cdcd00\">copper-sweep-5</strong>: <a href=\"https://wandb.ai/subinium/medici%20wandb%20test/runs/6c54fw0r\" target=\"_blank\">https://wandb.ai/subinium/medici%20wandb%20test/runs/6c54fw0r</a><br/>\n",
       "                "
      ],
      "text/plain": [
       "<IPython.core.display.HTML object>"
      ]
     },
     "metadata": {},
     "output_type": "display_data"
    }
   ],
   "source": [
    "from sklearn.model_selection import StratifiedKFold\n",
    "from sklearn.metrics import log_loss\n",
    "from xgboost import XGBClassifier\n",
    "\n",
    "def train():\n",
    "    with wandb.init() as run:\n",
    "        params = wandb.config\n",
    "        \n",
    "        val_scores = []\n",
    "        n_splits = 5\n",
    "\n",
    "        skf = StratifiedKFold(n_splits=n_splits, shuffle=True, random_state=42)\n",
    "\n",
    "        for i, (trn_idx, val_idx) in enumerate(skf.split(data, label)):\n",
    "            x_train, y_train = data.iloc[trn_idx, :], label.iloc[trn_idx,]\n",
    "            x_valid, y_valid = data.iloc[val_idx, :], label.iloc[val_idx,]\n",
    "\n",
    "            # 전처리\n",
    "            x_train, x_valid, x_test = preprocess(x_train, x_valid, test)\n",
    "\n",
    "            # 모델 정의\n",
    "            model = XGBClassifier(n_estimators=1000,\n",
    "                                  max_depth=params['max_depth'],\n",
    "                                  subsample=params['subsample'],\n",
    "                                  colsample_bytree=params['colsample_bytree'],\n",
    "#                                   tree_method='gpu_hist',\n",
    "                                  n_jobs=n_cpus-1)\n",
    "\n",
    "            # 모델 학습\n",
    "            model.fit(x_train, y_train, \n",
    "                      eval_metric='mlogloss', \n",
    "                      eval_set=[[x_train, y_train], [x_valid, y_valid]],\n",
    "                      early_stopping_rounds=100,\n",
    "                      verbose=100)\n",
    "\n",
    "            # 훈련, 검증 데이터 log_loss 확인\n",
    "            trn_logloss = log_loss(y_train, model.predict_proba(x_train))\n",
    "            val_logloss = log_loss(y_valid, model.predict_proba(x_valid))\n",
    "            print('{} Fold, train logloss : {:.4f}4, validation logloss : {:.4f}'.format(i, trn_logloss, val_logloss))\n",
    "\n",
    "            val_scores.append(val_logloss)\n",
    "            \n",
    "        metrics = {\"cv_loss\": np.mean(val_scores)}\n",
    "        wandb.log(metrics)\n",
    "count = 5\n",
    "wandb.agent(sweep_id, function=train, count=count)"
   ]
  },
  {
   "cell_type": "code",
   "execution_count": 11,
   "metadata": {
    "id": "yY8IrDKtEDpp"
   },
   "outputs": [
    {
     "ename": "NameError",
     "evalue": "name 'submit' is not defined",
     "output_type": "error",
     "traceback": [
      "\u001b[0;31m---------------------------------------------------------------------------\u001b[0m",
      "\u001b[0;31mNameError\u001b[0m                                 Traceback (most recent call last)",
      "\u001b[0;32m<ipython-input-11-174fbca3f7ed>\u001b[0m in \u001b[0;36m<module>\u001b[0;34m\u001b[0m\n\u001b[0;32m----> 1\u001b[0;31m \u001b[0msubmit\u001b[0m\u001b[0;34m.\u001b[0m\u001b[0mto_csv\u001b[0m\u001b[0;34m(\u001b[0m\u001b[0;34m'oof_first_submit.csv'\u001b[0m\u001b[0;34m,\u001b[0m \u001b[0mindex\u001b[0m\u001b[0;34m=\u001b[0m\u001b[0;32mFalse\u001b[0m\u001b[0;34m)\u001b[0m\u001b[0;34m\u001b[0m\u001b[0;34m\u001b[0m\u001b[0m\n\u001b[0m",
      "\u001b[0;31mNameError\u001b[0m: name 'submit' is not defined"
     ]
    }
   ],
   "source": [
    "submit.to_csv('oof_first_submit.csv', index=False)"
   ]
  },
  {
   "cell_type": "code",
   "execution_count": null,
   "metadata": {},
   "outputs": [],
   "source": []
  },
  {
   "cell_type": "code",
   "execution_count": null,
   "metadata": {},
   "outputs": [],
   "source": []
  }
 ],
 "metadata": {
  "accelerator": "GPU",
  "colab": {
   "collapsed_sections": [],
   "name": "Lab_04) Model_Tuning_WanDB.ipynb",
   "provenance": []
  },
  "kernelspec": {
   "display_name": "Python 3",
   "language": "python",
   "name": "python3"
  },
  "language_info": {
   "codemirror_mode": {
    "name": "ipython",
    "version": 3
   },
   "file_extension": ".py",
   "mimetype": "text/x-python",
   "name": "python",
   "nbconvert_exporter": "python",
   "pygments_lexer": "ipython3",
   "version": "3.8.8"
  },
  "widgets": {
   "application/vnd.jupyter.widget-state+json": {
    "101ba1c37df94d85a151bcf59b04fe1d": {
     "model_module": "@jupyter-widgets/controls",
     "model_name": "ProgressStyleModel",
     "state": {
      "_model_module": "@jupyter-widgets/controls",
      "_model_module_version": "1.5.0",
      "_model_name": "ProgressStyleModel",
      "_view_count": null,
      "_view_module": "@jupyter-widgets/base",
      "_view_module_version": "1.2.0",
      "_view_name": "StyleView",
      "bar_color": null,
      "description_width": ""
     }
    },
    "1e9f4a507eab425a91133ac02fa6aabb": {
     "model_module": "@jupyter-widgets/controls",
     "model_name": "FloatProgressModel",
     "state": {
      "_dom_classes": [],
      "_model_module": "@jupyter-widgets/controls",
      "_model_module_version": "1.5.0",
      "_model_name": "FloatProgressModel",
      "_view_count": null,
      "_view_module": "@jupyter-widgets/controls",
      "_view_module_version": "1.5.0",
      "_view_name": "ProgressView",
      "bar_style": "",
      "description": "",
      "description_tooltip": null,
      "layout": "IPY_MODEL_e56c156d673345adbb0c0e5eb1be96fe",
      "max": 1,
      "min": 0,
      "orientation": "horizontal",
      "style": "IPY_MODEL_d5cbf0c2a07c4d269d529f931d818ca1",
      "value": 1
     }
    },
    "23fb7df07b3d43da9a9ad893190af720": {
     "model_module": "@jupyter-widgets/base",
     "model_name": "LayoutModel",
     "state": {
      "_model_module": "@jupyter-widgets/base",
      "_model_module_version": "1.2.0",
      "_model_name": "LayoutModel",
      "_view_count": null,
      "_view_module": "@jupyter-widgets/base",
      "_view_module_version": "1.2.0",
      "_view_name": "LayoutView",
      "align_content": null,
      "align_items": null,
      "align_self": null,
      "border": null,
      "bottom": null,
      "display": null,
      "flex": null,
      "flex_flow": null,
      "grid_area": null,
      "grid_auto_columns": null,
      "grid_auto_flow": null,
      "grid_auto_rows": null,
      "grid_column": null,
      "grid_gap": null,
      "grid_row": null,
      "grid_template_areas": null,
      "grid_template_columns": null,
      "grid_template_rows": null,
      "height": null,
      "justify_content": null,
      "justify_items": null,
      "left": null,
      "margin": null,
      "max_height": null,
      "max_width": null,
      "min_height": null,
      "min_width": null,
      "object_fit": null,
      "object_position": null,
      "order": null,
      "overflow": null,
      "overflow_x": null,
      "overflow_y": null,
      "padding": null,
      "right": null,
      "top": null,
      "visibility": null,
      "width": null
     }
    },
    "3061e5a13a89437aa0d36a94e0ab54cc": {
     "model_module": "@jupyter-widgets/controls",
     "model_name": "FloatProgressModel",
     "state": {
      "_dom_classes": [],
      "_model_module": "@jupyter-widgets/controls",
      "_model_module_version": "1.5.0",
      "_model_name": "FloatProgressModel",
      "_view_count": null,
      "_view_module": "@jupyter-widgets/controls",
      "_view_module_version": "1.5.0",
      "_view_name": "ProgressView",
      "bar_style": "",
      "description": "",
      "description_tooltip": null,
      "layout": "IPY_MODEL_ccc7a753e3e54e2180485cd96b6d6098",
      "max": 1,
      "min": 0,
      "orientation": "horizontal",
      "style": "IPY_MODEL_101ba1c37df94d85a151bcf59b04fe1d",
      "value": 1
     }
    },
    "5a316f4fae634b0ab4c39fcaf5f99cb6": {
     "model_module": "@jupyter-widgets/controls",
     "model_name": "DescriptionStyleModel",
     "state": {
      "_model_module": "@jupyter-widgets/controls",
      "_model_module_version": "1.5.0",
      "_model_name": "DescriptionStyleModel",
      "_view_count": null,
      "_view_module": "@jupyter-widgets/base",
      "_view_module_version": "1.2.0",
      "_view_name": "StyleView",
      "description_width": ""
     }
    },
    "682e01be87c849a68ca7cb4ff65be39c": {
     "model_module": "@jupyter-widgets/controls",
     "model_name": "DescriptionStyleModel",
     "state": {
      "_model_module": "@jupyter-widgets/controls",
      "_model_module_version": "1.5.0",
      "_model_name": "DescriptionStyleModel",
      "_view_count": null,
      "_view_module": "@jupyter-widgets/base",
      "_view_module_version": "1.2.0",
      "_view_name": "StyleView",
      "description_width": ""
     }
    },
    "6f92b779239646fba1fdd0ff6973059a": {
     "model_module": "@jupyter-widgets/controls",
     "model_name": "VBoxModel",
     "state": {
      "_dom_classes": [],
      "_model_module": "@jupyter-widgets/controls",
      "_model_module_version": "1.5.0",
      "_model_name": "VBoxModel",
      "_view_count": null,
      "_view_module": "@jupyter-widgets/controls",
      "_view_module_version": "1.5.0",
      "_view_name": "VBoxView",
      "box_style": "",
      "children": [
       "IPY_MODEL_dc9c7397512c4d10975752153eddff83",
       "IPY_MODEL_3061e5a13a89437aa0d36a94e0ab54cc"
      ],
      "layout": "IPY_MODEL_23fb7df07b3d43da9a9ad893190af720"
     }
    },
    "a5a900b3cd0944f29173d5a2ba286e20": {
     "model_module": "@jupyter-widgets/controls",
     "model_name": "LabelModel",
     "state": {
      "_dom_classes": [],
      "_model_module": "@jupyter-widgets/controls",
      "_model_module_version": "1.5.0",
      "_model_name": "LabelModel",
      "_view_count": null,
      "_view_module": "@jupyter-widgets/controls",
      "_view_module_version": "1.5.0",
      "_view_name": "LabelView",
      "description": "",
      "description_tooltip": null,
      "layout": "IPY_MODEL_e236e5d4f1a44464b76d90b27e37a621",
      "placeholder": "​",
      "style": "IPY_MODEL_682e01be87c849a68ca7cb4ff65be39c",
      "value": " 0.01MB of 0.01MB uploaded (0.00MB deduped)\r"
     }
    },
    "bf9bafdd29df41dfb9b2f00d130cbd0d": {
     "model_module": "@jupyter-widgets/base",
     "model_name": "LayoutModel",
     "state": {
      "_model_module": "@jupyter-widgets/base",
      "_model_module_version": "1.2.0",
      "_model_name": "LayoutModel",
      "_view_count": null,
      "_view_module": "@jupyter-widgets/base",
      "_view_module_version": "1.2.0",
      "_view_name": "LayoutView",
      "align_content": null,
      "align_items": null,
      "align_self": null,
      "border": null,
      "bottom": null,
      "display": null,
      "flex": null,
      "flex_flow": null,
      "grid_area": null,
      "grid_auto_columns": null,
      "grid_auto_flow": null,
      "grid_auto_rows": null,
      "grid_column": null,
      "grid_gap": null,
      "grid_row": null,
      "grid_template_areas": null,
      "grid_template_columns": null,
      "grid_template_rows": null,
      "height": null,
      "justify_content": null,
      "justify_items": null,
      "left": null,
      "margin": null,
      "max_height": null,
      "max_width": null,
      "min_height": null,
      "min_width": null,
      "object_fit": null,
      "object_position": null,
      "order": null,
      "overflow": null,
      "overflow_x": null,
      "overflow_y": null,
      "padding": null,
      "right": null,
      "top": null,
      "visibility": null,
      "width": null
     }
    },
    "ccc7a753e3e54e2180485cd96b6d6098": {
     "model_module": "@jupyter-widgets/base",
     "model_name": "LayoutModel",
     "state": {
      "_model_module": "@jupyter-widgets/base",
      "_model_module_version": "1.2.0",
      "_model_name": "LayoutModel",
      "_view_count": null,
      "_view_module": "@jupyter-widgets/base",
      "_view_module_version": "1.2.0",
      "_view_name": "LayoutView",
      "align_content": null,
      "align_items": null,
      "align_self": null,
      "border": null,
      "bottom": null,
      "display": null,
      "flex": null,
      "flex_flow": null,
      "grid_area": null,
      "grid_auto_columns": null,
      "grid_auto_flow": null,
      "grid_auto_rows": null,
      "grid_column": null,
      "grid_gap": null,
      "grid_row": null,
      "grid_template_areas": null,
      "grid_template_columns": null,
      "grid_template_rows": null,
      "height": null,
      "justify_content": null,
      "justify_items": null,
      "left": null,
      "margin": null,
      "max_height": null,
      "max_width": null,
      "min_height": null,
      "min_width": null,
      "object_fit": null,
      "object_position": null,
      "order": null,
      "overflow": null,
      "overflow_x": null,
      "overflow_y": null,
      "padding": null,
      "right": null,
      "top": null,
      "visibility": null,
      "width": null
     }
    },
    "ceee6e8b3b9e4a23844f482a3601bf0d": {
     "model_module": "@jupyter-widgets/base",
     "model_name": "LayoutModel",
     "state": {
      "_model_module": "@jupyter-widgets/base",
      "_model_module_version": "1.2.0",
      "_model_name": "LayoutModel",
      "_view_count": null,
      "_view_module": "@jupyter-widgets/base",
      "_view_module_version": "1.2.0",
      "_view_name": "LayoutView",
      "align_content": null,
      "align_items": null,
      "align_self": null,
      "border": null,
      "bottom": null,
      "display": null,
      "flex": null,
      "flex_flow": null,
      "grid_area": null,
      "grid_auto_columns": null,
      "grid_auto_flow": null,
      "grid_auto_rows": null,
      "grid_column": null,
      "grid_gap": null,
      "grid_row": null,
      "grid_template_areas": null,
      "grid_template_columns": null,
      "grid_template_rows": null,
      "height": null,
      "justify_content": null,
      "justify_items": null,
      "left": null,
      "margin": null,
      "max_height": null,
      "max_width": null,
      "min_height": null,
      "min_width": null,
      "object_fit": null,
      "object_position": null,
      "order": null,
      "overflow": null,
      "overflow_x": null,
      "overflow_y": null,
      "padding": null,
      "right": null,
      "top": null,
      "visibility": null,
      "width": null
     }
    },
    "d5cbf0c2a07c4d269d529f931d818ca1": {
     "model_module": "@jupyter-widgets/controls",
     "model_name": "ProgressStyleModel",
     "state": {
      "_model_module": "@jupyter-widgets/controls",
      "_model_module_version": "1.5.0",
      "_model_name": "ProgressStyleModel",
      "_view_count": null,
      "_view_module": "@jupyter-widgets/base",
      "_view_module_version": "1.2.0",
      "_view_name": "StyleView",
      "bar_color": null,
      "description_width": ""
     }
    },
    "d5d144d009e64b5eab0d7aea67effced": {
     "model_module": "@jupyter-widgets/controls",
     "model_name": "VBoxModel",
     "state": {
      "_dom_classes": [],
      "_model_module": "@jupyter-widgets/controls",
      "_model_module_version": "1.5.0",
      "_model_name": "VBoxModel",
      "_view_count": null,
      "_view_module": "@jupyter-widgets/controls",
      "_view_module_version": "1.5.0",
      "_view_name": "VBoxView",
      "box_style": "",
      "children": [
       "IPY_MODEL_a5a900b3cd0944f29173d5a2ba286e20",
       "IPY_MODEL_1e9f4a507eab425a91133ac02fa6aabb"
      ],
      "layout": "IPY_MODEL_bf9bafdd29df41dfb9b2f00d130cbd0d"
     }
    },
    "dc9c7397512c4d10975752153eddff83": {
     "model_module": "@jupyter-widgets/controls",
     "model_name": "LabelModel",
     "state": {
      "_dom_classes": [],
      "_model_module": "@jupyter-widgets/controls",
      "_model_module_version": "1.5.0",
      "_model_name": "LabelModel",
      "_view_count": null,
      "_view_module": "@jupyter-widgets/controls",
      "_view_module_version": "1.5.0",
      "_view_name": "LabelView",
      "description": "",
      "description_tooltip": null,
      "layout": "IPY_MODEL_ceee6e8b3b9e4a23844f482a3601bf0d",
      "placeholder": "​",
      "style": "IPY_MODEL_5a316f4fae634b0ab4c39fcaf5f99cb6",
      "value": " 0.01MB of 0.01MB uploaded (0.00MB deduped)\r"
     }
    },
    "e236e5d4f1a44464b76d90b27e37a621": {
     "model_module": "@jupyter-widgets/base",
     "model_name": "LayoutModel",
     "state": {
      "_model_module": "@jupyter-widgets/base",
      "_model_module_version": "1.2.0",
      "_model_name": "LayoutModel",
      "_view_count": null,
      "_view_module": "@jupyter-widgets/base",
      "_view_module_version": "1.2.0",
      "_view_name": "LayoutView",
      "align_content": null,
      "align_items": null,
      "align_self": null,
      "border": null,
      "bottom": null,
      "display": null,
      "flex": null,
      "flex_flow": null,
      "grid_area": null,
      "grid_auto_columns": null,
      "grid_auto_flow": null,
      "grid_auto_rows": null,
      "grid_column": null,
      "grid_gap": null,
      "grid_row": null,
      "grid_template_areas": null,
      "grid_template_columns": null,
      "grid_template_rows": null,
      "height": null,
      "justify_content": null,
      "justify_items": null,
      "left": null,
      "margin": null,
      "max_height": null,
      "max_width": null,
      "min_height": null,
      "min_width": null,
      "object_fit": null,
      "object_position": null,
      "order": null,
      "overflow": null,
      "overflow_x": null,
      "overflow_y": null,
      "padding": null,
      "right": null,
      "top": null,
      "visibility": null,
      "width": null
     }
    },
    "e56c156d673345adbb0c0e5eb1be96fe": {
     "model_module": "@jupyter-widgets/base",
     "model_name": "LayoutModel",
     "state": {
      "_model_module": "@jupyter-widgets/base",
      "_model_module_version": "1.2.0",
      "_model_name": "LayoutModel",
      "_view_count": null,
      "_view_module": "@jupyter-widgets/base",
      "_view_module_version": "1.2.0",
      "_view_name": "LayoutView",
      "align_content": null,
      "align_items": null,
      "align_self": null,
      "border": null,
      "bottom": null,
      "display": null,
      "flex": null,
      "flex_flow": null,
      "grid_area": null,
      "grid_auto_columns": null,
      "grid_auto_flow": null,
      "grid_auto_rows": null,
      "grid_column": null,
      "grid_gap": null,
      "grid_row": null,
      "grid_template_areas": null,
      "grid_template_columns": null,
      "grid_template_rows": null,
      "height": null,
      "justify_content": null,
      "justify_items": null,
      "left": null,
      "margin": null,
      "max_height": null,
      "max_width": null,
      "min_height": null,
      "min_width": null,
      "object_fit": null,
      "object_position": null,
      "order": null,
      "overflow": null,
      "overflow_x": null,
      "overflow_y": null,
      "padding": null,
      "right": null,
      "top": null,
      "visibility": null,
      "width": null
     }
    }
   }
  }
 },
 "nbformat": 4,
 "nbformat_minor": 4
}
