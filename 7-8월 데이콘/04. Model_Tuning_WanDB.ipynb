{
 "cells": [
  {
   "cell_type": "markdown",
   "metadata": {
    "id": "7fHL3ONZ55I-"
   },
   "source": [
    "### 📚 Context\n",
    "\n",
    "#### 📚 Experiment Tools\n",
    "- WanDB\n",
    " - 시각화..랑 뭐가있다고?"
   ]
  },
  {
   "cell_type": "code",
   "execution_count": 2,
   "metadata": {
    "colab": {
     "base_uri": "https://localhost:8080/"
    },
    "collapsed": true,
    "executionInfo": {
     "elapsed": 2411,
     "status": "ok",
     "timestamp": 1628181645489,
     "user": {
      "displayName": "I'm so Seoli",
      "photoUrl": "https://lh3.googleusercontent.com/a-/AOh14GgoGeyLbd3gxLLgPS5f5k5dEcdMQc_ZsAy-42tyJg=s64",
      "userId": "18012903892325475989"
     },
     "user_tz": -540
    },
    "id": "ogiDndhgEb2b",
    "jupyter": {
     "outputs_hidden": true
    },
    "outputId": "255a2ab8-82ad-4d7e-c07c-b43f7530fcda",
    "tags": []
   },
   "outputs": [
    {
     "name": "stdout",
     "output_type": "stream",
     "text": [
      "Collecting wandb\n",
      "  Downloading wandb-0.11.2-py2.py3-none-any.whl (1.8 MB)\n",
      "Requirement already satisfied: six>=1.13.0 in c:\\users\\medici\\anaconda3\\lib\\site-packages (from wandb) (1.15.0)\n",
      "Collecting shortuuid>=0.5.0\n",
      "  Downloading shortuuid-1.0.1-py3-none-any.whl (7.5 kB)\n",
      "Collecting configparser>=3.8.1\n",
      "  Downloading configparser-5.0.2-py3-none-any.whl (19 kB)\n",
      "Requirement already satisfied: requests<3,>=2.0.0 in c:\\users\\medici\\anaconda3\\lib\\site-packages (from wandb) (2.25.1)\n",
      "Requirement already satisfied: PyYAML in c:\\users\\medici\\anaconda3\\lib\\site-packages (from wandb) (5.4.1)\n",
      "Requirement already satisfied: GitPython>=1.0.0 in c:\\users\\medici\\anaconda3\\lib\\site-packages (from wandb) (3.1.18)\n",
      "Collecting docker-pycreds>=0.4.0\n",
      "  Downloading docker_pycreds-0.4.0-py2.py3-none-any.whl (9.0 kB)\n",
      "Collecting promise<3,>=2.0\n",
      "  Downloading promise-2.3.tar.gz (19 kB)\n",
      "Collecting subprocess32>=3.5.3\n",
      "  Downloading subprocess32-3.5.4.tar.gz (97 kB)\n",
      "Requirement already satisfied: psutil>=5.0.0 in c:\\users\\medici\\anaconda3\\lib\\site-packages (from wandb) (5.8.0)\n",
      "Requirement already satisfied: protobuf>=3.12.0 in c:\\users\\medici\\anaconda3\\lib\\site-packages (from wandb) (3.17.3)\n",
      "Requirement already satisfied: Click!=8.0.0,>=7.0 in c:\\users\\medici\\anaconda3\\lib\\site-packages (from wandb) (8.0.1)\n",
      "Collecting sentry-sdk>=1.0.0\n",
      "  Downloading sentry_sdk-1.3.1-py2.py3-none-any.whl (133 kB)\n",
      "Requirement already satisfied: python-dateutil>=2.6.1 in c:\\users\\medici\\anaconda3\\lib\\site-packages (from wandb) (2.8.1)\n",
      "Requirement already satisfied: urllib3>=1.26.5 in c:\\users\\medici\\anaconda3\\lib\\site-packages (from wandb) (1.26.6)\n",
      "Requirement already satisfied: pathtools in c:\\users\\medici\\anaconda3\\lib\\site-packages (from wandb) (0.1.2)\n",
      "Requirement already satisfied: colorama in c:\\users\\medici\\anaconda3\\lib\\site-packages (from Click!=8.0.0,>=7.0->wandb) (0.4.4)\n",
      "Requirement already satisfied: gitdb<5,>=4.0.1 in c:\\users\\medici\\anaconda3\\lib\\site-packages (from GitPython>=1.0.0->wandb) (4.0.7)\n",
      "Requirement already satisfied: smmap<5,>=3.0.1 in c:\\users\\medici\\anaconda3\\lib\\site-packages (from gitdb<5,>=4.0.1->GitPython>=1.0.0->wandb) (4.0.0)\n",
      "Requirement already satisfied: chardet<5,>=3.0.2 in c:\\users\\medici\\anaconda3\\lib\\site-packages (from requests<3,>=2.0.0->wandb) (4.0.0)\n",
      "Requirement already satisfied: idna<3,>=2.5 in c:\\users\\medici\\anaconda3\\lib\\site-packages (from requests<3,>=2.0.0->wandb) (2.10)\n",
      "Requirement already satisfied: certifi>=2017.4.17 in c:\\users\\medici\\anaconda3\\lib\\site-packages (from requests<3,>=2.0.0->wandb) (2021.5.30)\n",
      "Building wheels for collected packages: promise, subprocess32\n",
      "  Building wheel for promise (setup.py): started\n",
      "  Building wheel for promise (setup.py): finished with status 'done'\n",
      "  Created wheel for promise: filename=promise-2.3-py3-none-any.whl size=21494 sha256=0b44695e6abcef28a247f8d68e8f420c746ed4089ea33b3d4406592aa427f82c\n",
      "  Stored in directory: c:\\users\\medici\\appdata\\local\\pip\\cache\\wheels\\54\\aa\\01\\724885182f93150035a2a91bce34a12877e8067a97baaf5dc8\n",
      "  Building wheel for subprocess32 (setup.py): started\n",
      "  Building wheel for subprocess32 (setup.py): finished with status 'done'\n",
      "  Created wheel for subprocess32: filename=subprocess32-3.5.4-py3-none-any.whl size=6488 sha256=a5dcdca5912228e1597df15ca94de4b7b2510974e42c6444b37e4c9f80b02111\n",
      "  Stored in directory: c:\\users\\medici\\appdata\\local\\pip\\cache\\wheels\\9f\\69\\d1\\50b39b308a87998eaf5c1d9095e5a5bd2ad98501e2b7936d36\n",
      "Successfully built promise subprocess32\n",
      "Installing collected packages: subprocess32, shortuuid, sentry-sdk, promise, docker-pycreds, configparser, wandb\n",
      "Successfully installed configparser-5.0.2 docker-pycreds-0.4.0 promise-2.3 sentry-sdk-1.3.1 shortuuid-1.0.1 subprocess32-3.5.4 wandb-0.11.2\n"
     ]
    }
   ],
   "source": [
    "# !pip install wandb"
   ]
  },
  {
   "cell_type": "markdown",
   "metadata": {},
   "source": [
    "- json 파일로 관리하면 좋을 것."
   ]
  },
  {
   "cell_type": "code",
   "execution_count": 3,
   "metadata": {
    "executionInfo": {
     "elapsed": 7,
     "status": "ok",
     "timestamp": 1628181643084,
     "user": {
      "displayName": "I'm so Seoli",
      "photoUrl": "https://lh3.googleusercontent.com/a-/AOh14GgoGeyLbd3gxLLgPS5f5k5dEcdMQc_ZsAy-42tyJg=s64",
      "userId": "18012903892325475989"
     },
     "user_tz": -540
    },
    "id": "vJz8Kvl8EDpR"
   },
   "outputs": [],
   "source": [
    "sweep_config = {\n",
    "  \"name\" : \"mdc_sweep\",\n",
    "  \"method\" : \"bayes\",\n",
    "  \"parameters\" : {\n",
    "    \"max_depth\" : {\n",
    "      \"distribution\": \"int_uniform\",\n",
    "      \"min\":2,\n",
    "      \"max\":15\n",
    "    },\n",
    "    \"subsample\" :{\n",
    "      \"distribution\": \"uniform\",\n",
    "      \"min\": 0.5,\n",
    "      \"max\": 1.0\n",
    "    },\n",
    "    \"colsample_bytree\":{\n",
    "      \"distribution\": \"uniform\",\n",
    "      \"min\": 0.5,\n",
    "      \"max\": 1.0\n",
    "    }\n",
    "  },\n",
    "  \"metric\":{\n",
    "      \"name\": \"cv_loss\",\n",
    "      \"goal\": \"minimize\"\n",
    "  }\n",
    "} \n",
    "# 딕셔너리안에 딕셔너리가 있는 구조"
   ]
  },
  {
   "cell_type": "code",
   "execution_count": 4,
   "metadata": {
    "colab": {
     "base_uri": "https://localhost:8080/",
     "height": 187
    },
    "executionInfo": {
     "elapsed": 3211,
     "status": "ok",
     "timestamp": 1628181648694,
     "user": {
      "displayName": "I'm so Seoli",
      "photoUrl": "https://lh3.googleusercontent.com/a-/AOh14GgoGeyLbd3gxLLgPS5f5k5dEcdMQc_ZsAy-42tyJg=s64",
      "userId": "18012903892325475989"
     },
     "user_tz": -540
    },
    "id": "aAfXTYpj5ysB",
    "outputId": "903d4b15-0992-4e9d-cc57-cb1cc74773e4"
   },
   "outputs": [
    {
     "name": "stderr",
     "output_type": "stream",
     "text": [
      "\u001b[34m\u001b[1mwandb\u001b[0m: You can find your API key in your browser here: https://wandb.ai/authorize\n"
     ]
    },
    {
     "name": "stdin",
     "output_type": "stream",
     "text": [
      "\u001b[34m\u001b[1mwandb\u001b[0m: Paste an API key from your profile and hit enter:  ········································\n"
     ]
    },
    {
     "name": "stderr",
     "output_type": "stream",
     "text": [
      "\u001b[34m\u001b[1mwandb\u001b[0m: Appending key for api.wandb.ai to your netrc file: C:\\Users\\medici/.netrc\n"
     ]
    },
    {
     "data": {
      "text/html": [
       "\n",
       "                Tracking run with wandb version 0.11.2<br/>\n",
       "                Syncing run <strong style=\"color:#cdcd00\">tough-blaze-1</strong> to <a href=\"https://wandb.ai\" target=\"_blank\">Weights & Biases</a> <a href=\"https://docs.wandb.com/integrations/jupyter.html\" target=\"_blank\">(Documentation)</a>.<br/>\n",
       "                Project page: <a href=\"https://wandb.ai/unchae/%ED%8C%8C%EC%9D%B4%EC%8D%AC%EB%B2%A0%EC%9D%B4%EC%8A%A4-7-8%EC%9B%94%20%EB%8D%B0%EC%9D%B4%EC%BD%98\" target=\"_blank\">https://wandb.ai/unchae/%ED%8C%8C%EC%9D%B4%EC%8D%AC%EB%B2%A0%EC%9D%B4%EC%8A%A4-7-8%EC%9B%94%20%EB%8D%B0%EC%9D%B4%EC%BD%98</a><br/>\n",
       "                Run page: <a href=\"https://wandb.ai/unchae/%ED%8C%8C%EC%9D%B4%EC%8D%AC%EB%B2%A0%EC%9D%B4%EC%8A%A4-7-8%EC%9B%94%20%EB%8D%B0%EC%9D%B4%EC%BD%98/runs/1t719i4o\" target=\"_blank\">https://wandb.ai/unchae/%ED%8C%8C%EC%9D%B4%EC%8D%AC%EB%B2%A0%EC%9D%B4%EC%8A%A4-7-8%EC%9B%94%20%EB%8D%B0%EC%9D%B4%EC%BD%98/runs/1t719i4o</a><br/>\n",
       "                Run data is saved locally in <code>C:\\Users\\medici\\파이썬베이스\\7-8월 데이콘\\wandb\\run-20210807_161821-1t719i4o</code><br/><br/>\n",
       "            "
      ],
      "text/plain": [
       "<IPython.core.display.HTML object>"
      ]
     },
     "metadata": {},
     "output_type": "display_data"
    },
    {
     "name": "stderr",
     "output_type": "stream",
     "text": [
      "\u001b[34m\u001b[1mwandb\u001b[0m: \u001b[33mWARNING\u001b[0m Calling wandb.login() after wandb.init() has no effect.\n"
     ]
    },
    {
     "name": "stdout",
     "output_type": "stream",
     "text": [
      "Create sweep with ID: p0hwfbf7\n",
      "Sweep URL: https://wandb.ai/unchae/medici%20wandb%20test/sweeps/p0hwfbf7\n"
     ]
    }
   ],
   "source": [
    "import os\n",
    "from os.path import join\n",
    "\n",
    "import multiprocessing # cpu 몇개인지 체크\n",
    "import warnings\n",
    "warnings.filterwarnings('ignore')\n",
    "\n",
    "import numpy as np\n",
    "import pandas as pd\n",
    "\n",
    "import wandb # \n",
    "# 웹 서버 연결\n",
    "wandb.init()\n",
    "\n",
    "# optuna 세팅\n",
    "sweep_id = wandb.sweep(sweep_config, \n",
    "                       project=\"medici wandb test\") #프로젝트명 다른 실험일 때 바꿔주는 것 중요.\n",
    "\n",
    "n_cpus = multiprocessing.cpu_count()"
   ]
  },
  {
   "cell_type": "code",
   "execution_count": 5,
   "metadata": {
    "executionInfo": {
     "elapsed": 414,
     "status": "ok",
     "timestamp": 1628181649102,
     "user": {
      "displayName": "I'm so Seoli",
      "photoUrl": "https://lh3.googleusercontent.com/a-/AOh14GgoGeyLbd3gxLLgPS5f5k5dEcdMQc_ZsAy-42tyJg=s64",
      "userId": "18012903892325475989"
     },
     "user_tz": -540
    },
    "id": "gH-_VIMQEDpZ"
   },
   "outputs": [],
   "source": [
    "BASE_DIR = './data' \n",
    "\n",
    "train_path = os.path.join(BASE_DIR, 'train.csv')\n",
    "test_path = os.path.join(BASE_DIR, 'test.csv')\n",
    "submission_path = os.path.join(BASE_DIR, 'sample_submission.csv')\n",
    "\n",
    "data = pd.read_csv(train_path)\n",
    "test = pd.read_csv(test_path)\n",
    "\n",
    "label = data['credit']"
   ]
  },
  {
   "cell_type": "code",
   "execution_count": 6,
   "metadata": {
    "executionInfo": {
     "elapsed": 10,
     "status": "ok",
     "timestamp": 1628181649103,
     "user": {
      "displayName": "I'm so Seoli",
      "photoUrl": "https://lh3.googleusercontent.com/a-/AOh14GgoGeyLbd3gxLLgPS5f5k5dEcdMQc_ZsAy-42tyJg=s64",
      "userId": "18012903892325475989"
     },
     "user_tz": -540
    },
    "id": "yZ9UxpS9EDpa"
   },
   "outputs": [],
   "source": [
    "# 불필요한 컬럼 제거\n",
    "data.drop(columns=['index', 'credit'], inplace=True)\n",
    "test.drop(columns=['index'],         inplace=True)"
   ]
  },
  {
   "cell_type": "code",
   "execution_count": 7,
   "metadata": {
    "colab": {
     "base_uri": "https://localhost:8080/"
    },
    "executionInfo": {
     "elapsed": 10,
     "status": "ok",
     "timestamp": 1628181649104,
     "user": {
      "displayName": "I'm so Seoli",
      "photoUrl": "https://lh3.googleusercontent.com/a-/AOh14GgoGeyLbd3gxLLgPS5f5k5dEcdMQc_ZsAy-42tyJg=s64",
      "userId": "18012903892325475989"
     },
     "user_tz": -540
    },
    "id": "7CrFI2GIEDpc",
    "outputId": "c1ffb29f-8c20-4865-b5f3-75dd3755b28a"
   },
   "outputs": [
    {
     "name": "stdout",
     "output_type": "stream",
     "text": [
      "Categorical Columns: \n",
      "['gender', 'car', 'reality', 'income_type', 'edu_type', 'family_type', 'house_type', 'occyp_type']\n",
      "\n",
      "Numeric Columns: \n",
      "['child_num', 'income_total', 'DAYS_BIRTH', 'DAYS_EMPLOYED', 'FLAG_MOBIL', 'work_phone', 'phone', 'email', 'family_size', 'begin_month']\n"
     ]
    }
   ],
   "source": [
    "cat_columns = [c for c, t in zip(data.dtypes.index, data.dtypes) if t == 'O'] \n",
    "num_columns = [c for c    in data.columns if c not in cat_columns]\n",
    "\n",
    "print('Categorical Columns: \\n{}\\n'.format(cat_columns))\n",
    "print('Numeric Columns: \\n{}'.format(num_columns))"
   ]
  },
  {
   "cell_type": "markdown",
   "metadata": {
    "id": "_N5-NlqOEDpe"
   },
   "source": [
    "#### 라벨 데이터 인코딩"
   ]
  },
  {
   "cell_type": "code",
   "execution_count": 8,
   "metadata": {
    "executionInfo": {
     "elapsed": 8,
     "status": "ok",
     "timestamp": 1628181649105,
     "user": {
      "displayName": "I'm so Seoli",
      "photoUrl": "https://lh3.googleusercontent.com/a-/AOh14GgoGeyLbd3gxLLgPS5f5k5dEcdMQc_ZsAy-42tyJg=s64",
      "userId": "18012903892325475989"
     },
     "user_tz": -540
    },
    "id": "cRHtxFLCEDpf"
   },
   "outputs": [],
   "source": [
    "label = label.astype(int) # 꼭 할 필요는 없음."
   ]
  },
  {
   "cell_type": "markdown",
   "metadata": {
    "id": "lnoCcS0eEDph"
   },
   "source": [
    "#### 전처리 프로세스 함수로 작성"
   ]
  },
  {
   "cell_type": "code",
   "execution_count": 9,
   "metadata": {
    "executionInfo": {
     "elapsed": 284,
     "status": "ok",
     "timestamp": 1628181649381,
     "user": {
      "displayName": "I'm so Seoli",
      "photoUrl": "https://lh3.googleusercontent.com/a-/AOh14GgoGeyLbd3gxLLgPS5f5k5dEcdMQc_ZsAy-42tyJg=s64",
      "userId": "18012903892325475989"
     },
     "user_tz": -540
    },
    "id": "mp0An34aEDpi"
   },
   "outputs": [],
   "source": [
    "# 복붙.\n",
    "from sklearn.impute import SimpleImputer\n",
    "from sklearn.preprocessing import StandardScaler, OneHotEncoder\n",
    "\n",
    "def preprocess(x_train, x_valid, x_test):\n",
    "    tmp_x_train = x_train.copy()\n",
    "    tmp_x_valid = x_valid.copy()\n",
    "    tmp_x_test  = x_test.copy()\n",
    "    \n",
    "    tmp_x_train.reset_index(drop=True, inplace=True)\n",
    "    tmp_x_valid.reset_index(drop=True, inplace=True)\n",
    "    \n",
    "    # 결측치 처리\n",
    "    imputer = SimpleImputer(strategy='most_frequent')\n",
    "    tmp_x_train[cat_columns] = imputer.fit_transform(tmp_x_train[cat_columns])\n",
    "    tmp_x_valid[cat_columns] = imputer.transform(tmp_x_valid[cat_columns])\n",
    "    tmp_x_test[cat_columns]  = imputer.transform(tmp_x_test[cat_columns])\n",
    "    \n",
    "    # 스케일링\n",
    "    scaler = StandardScaler()\n",
    "    tmp_x_train[num_columns] = scaler.fit_transform(tmp_x_train[num_columns])\n",
    "    tmp_x_valid[num_columns] = scaler.transform(tmp_x_valid[num_columns])\n",
    "    tmp_x_test[num_columns]  = scaler.transform(tmp_x_test[num_columns])\n",
    "\n",
    "    # 인코딩\n",
    "    ohe = OneHotEncoder(sparse=False)\n",
    "    ohe.fit(tmp_x_train[cat_columns])\n",
    "    \n",
    "    tmp_x_train_cat = pd.DataFrame(ohe.transform(tmp_x_train[cat_columns]))\n",
    "    tmp_x_valid_cat = pd.DataFrame(ohe.transform(tmp_x_valid[cat_columns]))\n",
    "    tmp_x_test_cat  = pd.DataFrame(ohe.transform(tmp_x_test[cat_columns]))\n",
    "    \n",
    "    tmp_x_train.drop(columns=cat_columns, inplace=True)\n",
    "    tmp_x_valid.drop(columns=cat_columns, inplace=True)\n",
    "    tmp_x_test.drop(columns=cat_columns, inplace=True)\n",
    "    \n",
    "    tmp_x_train = pd.concat([tmp_x_train, tmp_x_train_cat], axis=1)\n",
    "    tmp_x_valid = pd.concat([tmp_x_valid, tmp_x_valid_cat], axis=1)\n",
    "    tmp_x_test  = pd.concat([tmp_x_test, tmp_x_test_cat], axis=1)\n",
    "    \n",
    "    return tmp_x_train, tmp_x_valid, tmp_x_test"
   ]
  },
  {
   "cell_type": "markdown",
   "metadata": {
    "id": "d0YXWbF8EDpk"
   },
   "source": [
    "### Ensemble"
   ]
  },
  {
   "cell_type": "code",
   "execution_count": 10,
   "metadata": {
    "colab": {
     "base_uri": "https://localhost:8080/",
     "height": 1000,
     "referenced_widgets": [
      "6f92b779239646fba1fdd0ff6973059a",
      "23fb7df07b3d43da9a9ad893190af720",
      "dc9c7397512c4d10975752153eddff83",
      "3061e5a13a89437aa0d36a94e0ab54cc",
      "5a316f4fae634b0ab4c39fcaf5f99cb6",
      "ceee6e8b3b9e4a23844f482a3601bf0d",
      "101ba1c37df94d85a151bcf59b04fe1d",
      "ccc7a753e3e54e2180485cd96b6d6098",
      "d5d144d009e64b5eab0d7aea67effced",
      "bf9bafdd29df41dfb9b2f00d130cbd0d",
      "a5a900b3cd0944f29173d5a2ba286e20",
      "1e9f4a507eab425a91133ac02fa6aabb",
      "682e01be87c849a68ca7cb4ff65be39c",
      "e236e5d4f1a44464b76d90b27e37a621",
      "d5cbf0c2a07c4d269d529f931d818ca1",
      "e56c156d673345adbb0c0e5eb1be96fe"
     ]
    },
    "id": "CUeRRPyDEDpl",
    "outputId": "efd58cca-bdfd-41e1-82ce-e87aa41b5132"
   },
   "outputs": [
    {
     "name": "stderr",
     "output_type": "stream",
     "text": [
      "\u001b[34m\u001b[1mwandb\u001b[0m: \u001b[33mWARNING\u001b[0m Calling wandb.login() after wandb.init() has no effect.\n",
      "\u001b[34m\u001b[1mwandb\u001b[0m: Agent Starting Run: hneiuwbl with config:\n",
      "\u001b[34m\u001b[1mwandb\u001b[0m: \tcolsample_bytree: 0.6536476992793909\n",
      "\u001b[34m\u001b[1mwandb\u001b[0m: \tmax_depth: 2\n",
      "\u001b[34m\u001b[1mwandb\u001b[0m: \tsubsample: 0.764610425178516\n"
     ]
    },
    {
     "data": {
      "text/html": [
       "\n",
       "                Tracking run with wandb version 0.11.2<br/>\n",
       "                Syncing run <strong style=\"color:#cdcd00\">floral-sweep-1</strong> to <a href=\"https://wandb.ai\" target=\"_blank\">Weights & Biases</a> <a href=\"https://docs.wandb.com/integrations/jupyter.html\" target=\"_blank\">(Documentation)</a>.<br/>\n",
       "                Project page: <a href=\"https://wandb.ai/unchae/medici%20wandb%20test\" target=\"_blank\">https://wandb.ai/unchae/medici%20wandb%20test</a><br/>\n",
       "                Sweep page: <a href=\"https://wandb.ai/unchae/medici%20wandb%20test/sweeps/p0hwfbf7\" target=\"_blank\">https://wandb.ai/unchae/medici%20wandb%20test/sweeps/p0hwfbf7</a><br/>\n",
       "Run page: <a href=\"https://wandb.ai/unchae/medici%20wandb%20test/runs/hneiuwbl\" target=\"_blank\">https://wandb.ai/unchae/medici%20wandb%20test/runs/hneiuwbl</a><br/>\n",
       "                Run data is saved locally in <code>C:\\Users\\medici\\파이썬베이스\\7-8월 데이콘\\wandb\\run-20210807_162429-hneiuwbl</code><br/><br/>\n",
       "            "
      ],
      "text/plain": [
       "<IPython.core.display.HTML object>"
      ]
     },
     "metadata": {},
     "output_type": "display_data"
    },
    {
     "name": "stdout",
     "output_type": "stream",
     "text": [
      "[0]\tvalidation_0-mlogloss:0.97922\tvalidation_1-mlogloss:0.97823\n",
      "[100]\tvalidation_0-mlogloss:0.77413\tvalidation_1-mlogloss:0.79073\n",
      "[200]\tvalidation_0-mlogloss:0.75155\tvalidation_1-mlogloss:0.78436\n",
      "[300]\tvalidation_0-mlogloss:0.73410\tvalidation_1-mlogloss:0.77968\n",
      "[400]\tvalidation_0-mlogloss:0.71929\tvalidation_1-mlogloss:0.77480\n",
      "[500]\tvalidation_0-mlogloss:0.70508\tvalidation_1-mlogloss:0.77010\n",
      "[600]\tvalidation_0-mlogloss:0.69292\tvalidation_1-mlogloss:0.76812\n",
      "[700]\tvalidation_0-mlogloss:0.68257\tvalidation_1-mlogloss:0.76491\n",
      "[800]\tvalidation_0-mlogloss:0.67192\tvalidation_1-mlogloss:0.76237\n",
      "[900]\tvalidation_0-mlogloss:0.66222\tvalidation_1-mlogloss:0.75899\n",
      "[999]\tvalidation_0-mlogloss:0.65442\tvalidation_1-mlogloss:0.75662\n",
      "0 Fold, train logloss : 0.65444, validation logloss : 0.7566\n",
      "[0]\tvalidation_0-mlogloss:0.97865\tvalidation_1-mlogloss:0.98062\n",
      "[100]\tvalidation_0-mlogloss:0.77073\tvalidation_1-mlogloss:0.80187\n",
      "[200]\tvalidation_0-mlogloss:0.74855\tvalidation_1-mlogloss:0.79533\n",
      "[300]\tvalidation_0-mlogloss:0.73026\tvalidation_1-mlogloss:0.79242\n",
      "[400]\tvalidation_0-mlogloss:0.71550\tvalidation_1-mlogloss:0.78742\n",
      "[500]\tvalidation_0-mlogloss:0.70070\tvalidation_1-mlogloss:0.78334\n",
      "[600]\tvalidation_0-mlogloss:0.68880\tvalidation_1-mlogloss:0.78087\n",
      "[700]\tvalidation_0-mlogloss:0.67804\tvalidation_1-mlogloss:0.77853\n",
      "[800]\tvalidation_0-mlogloss:0.66809\tvalidation_1-mlogloss:0.77480\n",
      "[900]\tvalidation_0-mlogloss:0.65913\tvalidation_1-mlogloss:0.77395\n",
      "[999]\tvalidation_0-mlogloss:0.65085\tvalidation_1-mlogloss:0.77243\n",
      "1 Fold, train logloss : 0.65154, validation logloss : 0.7723\n",
      "[0]\tvalidation_0-mlogloss:1.00848\tvalidation_1-mlogloss:1.00895\n",
      "[100]\tvalidation_0-mlogloss:0.77513\tvalidation_1-mlogloss:0.79584\n",
      "[200]\tvalidation_0-mlogloss:0.75223\tvalidation_1-mlogloss:0.78793\n",
      "[300]\tvalidation_0-mlogloss:0.73420\tvalidation_1-mlogloss:0.78203\n",
      "[400]\tvalidation_0-mlogloss:0.71835\tvalidation_1-mlogloss:0.77792\n",
      "[500]\tvalidation_0-mlogloss:0.70536\tvalidation_1-mlogloss:0.77529\n",
      "[600]\tvalidation_0-mlogloss:0.69307\tvalidation_1-mlogloss:0.77233\n",
      "[700]\tvalidation_0-mlogloss:0.68145\tvalidation_1-mlogloss:0.77035\n",
      "[800]\tvalidation_0-mlogloss:0.67168\tvalidation_1-mlogloss:0.76933\n",
      "[900]\tvalidation_0-mlogloss:0.66195\tvalidation_1-mlogloss:0.76804\n",
      "[999]\tvalidation_0-mlogloss:0.65328\tvalidation_1-mlogloss:0.76538\n",
      "2 Fold, train logloss : 0.65334, validation logloss : 0.7654\n",
      "[0]\tvalidation_0-mlogloss:1.00838\tvalidation_1-mlogloss:1.00854\n",
      "[100]\tvalidation_0-mlogloss:0.77393\tvalidation_1-mlogloss:0.79542\n",
      "[200]\tvalidation_0-mlogloss:0.75191\tvalidation_1-mlogloss:0.78712\n",
      "[300]\tvalidation_0-mlogloss:0.73312\tvalidation_1-mlogloss:0.77973\n",
      "[400]\tvalidation_0-mlogloss:0.71796\tvalidation_1-mlogloss:0.77596\n",
      "[500]\tvalidation_0-mlogloss:0.70355\tvalidation_1-mlogloss:0.77119\n",
      "[600]\tvalidation_0-mlogloss:0.69151\tvalidation_1-mlogloss:0.76765\n",
      "[700]\tvalidation_0-mlogloss:0.68045\tvalidation_1-mlogloss:0.76466\n",
      "[800]\tvalidation_0-mlogloss:0.67032\tvalidation_1-mlogloss:0.76182\n",
      "[900]\tvalidation_0-mlogloss:0.66125\tvalidation_1-mlogloss:0.75941\n",
      "[999]\tvalidation_0-mlogloss:0.65313\tvalidation_1-mlogloss:0.75874\n",
      "3 Fold, train logloss : 0.65444, validation logloss : 0.7581\n",
      "[0]\tvalidation_0-mlogloss:1.00850\tvalidation_1-mlogloss:1.00899\n",
      "[100]\tvalidation_0-mlogloss:0.77531\tvalidation_1-mlogloss:0.79271\n",
      "[200]\tvalidation_0-mlogloss:0.75221\tvalidation_1-mlogloss:0.78582\n",
      "[300]\tvalidation_0-mlogloss:0.73290\tvalidation_1-mlogloss:0.77927\n",
      "[400]\tvalidation_0-mlogloss:0.71662\tvalidation_1-mlogloss:0.77417\n",
      "[500]\tvalidation_0-mlogloss:0.70324\tvalidation_1-mlogloss:0.77129\n",
      "[600]\tvalidation_0-mlogloss:0.69114\tvalidation_1-mlogloss:0.76834\n",
      "[700]\tvalidation_0-mlogloss:0.67974\tvalidation_1-mlogloss:0.76644\n",
      "[800]\tvalidation_0-mlogloss:0.66974\tvalidation_1-mlogloss:0.76427\n",
      "[900]\tvalidation_0-mlogloss:0.65979\tvalidation_1-mlogloss:0.76180\n",
      "[999]\tvalidation_0-mlogloss:0.65158\tvalidation_1-mlogloss:0.76068\n",
      "4 Fold, train logloss : 0.65224, validation logloss : 0.7605\n"
     ]
    },
    {
     "data": {
      "text/html": [
       "<br/>Waiting for W&B process to finish, PID 3448<br/>Program ended successfully."
      ],
      "text/plain": [
       "<IPython.core.display.HTML object>"
      ]
     },
     "metadata": {},
     "output_type": "display_data"
    },
    {
     "data": {
      "application/vnd.jupyter.widget-view+json": {
       "model_id": "",
       "version_major": 2,
       "version_minor": 0
      },
      "text/plain": [
       "VBox(children=(Label(value=' 0.00MB of 0.00MB uploaded (0.00MB deduped)\\r'), FloatProgress(value=1.0, max=1.0)…"
      ]
     },
     "metadata": {},
     "output_type": "display_data"
    },
    {
     "data": {
      "text/html": [
       "Find user logs for this run at: <code>C:\\Users\\medici\\파이썬베이스\\7-8월 데이콘\\wandb\\run-20210807_162429-hneiuwbl\\logs\\debug.log</code>"
      ],
      "text/plain": [
       "<IPython.core.display.HTML object>"
      ]
     },
     "metadata": {},
     "output_type": "display_data"
    },
    {
     "data": {
      "text/html": [
       "Find internal logs for this run at: <code>C:\\Users\\medici\\파이썬베이스\\7-8월 데이콘\\wandb\\run-20210807_162429-hneiuwbl\\logs\\debug-internal.log</code>"
      ],
      "text/plain": [
       "<IPython.core.display.HTML object>"
      ]
     },
     "metadata": {},
     "output_type": "display_data"
    },
    {
     "data": {
      "text/html": [
       "<h3>Run summary:</h3><br/><style>\n",
       "    table.wandb td:nth-child(1) { padding: 0 10px; text-align: right }\n",
       "    </style><table class=\"wandb\">\n",
       "<tr><td>cv_loss</td><td>0.76258</td></tr><tr><td>_runtime</td><td>112</td></tr><tr><td>_timestamp</td><td>1628321181</td></tr><tr><td>_step</td><td>0</td></tr></table>"
      ],
      "text/plain": [
       "<IPython.core.display.HTML object>"
      ]
     },
     "metadata": {},
     "output_type": "display_data"
    },
    {
     "data": {
      "text/html": [
       "<h3>Run history:</h3><br/><style>\n",
       "    table.wandb td:nth-child(1) { padding: 0 10px; text-align: right }\n",
       "    </style><table class=\"wandb\">\n",
       "<tr><td>cv_loss</td><td>▁</td></tr><tr><td>_runtime</td><td>▁</td></tr><tr><td>_timestamp</td><td>▁</td></tr><tr><td>_step</td><td>▁</td></tr></table><br/>"
      ],
      "text/plain": [
       "<IPython.core.display.HTML object>"
      ]
     },
     "metadata": {},
     "output_type": "display_data"
    },
    {
     "data": {
      "text/html": [
       "Synced 6 W&B file(s), 0 media file(s), 0 artifact file(s) and 0 other file(s)"
      ],
      "text/plain": [
       "<IPython.core.display.HTML object>"
      ]
     },
     "metadata": {},
     "output_type": "display_data"
    },
    {
     "data": {
      "text/html": [
       "\n",
       "                    <br/>Synced <strong style=\"color:#cdcd00\">floral-sweep-1</strong>: <a href=\"https://wandb.ai/unchae/medici%20wandb%20test/runs/hneiuwbl\" target=\"_blank\">https://wandb.ai/unchae/medici%20wandb%20test/runs/hneiuwbl</a><br/>\n",
       "                "
      ],
      "text/plain": [
       "<IPython.core.display.HTML object>"
      ]
     },
     "metadata": {},
     "output_type": "display_data"
    },
    {
     "name": "stderr",
     "output_type": "stream",
     "text": [
      "\u001b[34m\u001b[1mwandb\u001b[0m: Agent Starting Run: cumdezwd with config:\n",
      "\u001b[34m\u001b[1mwandb\u001b[0m: \tcolsample_bytree: 0.618215640969904\n",
      "\u001b[34m\u001b[1mwandb\u001b[0m: \tmax_depth: 10\n",
      "\u001b[34m\u001b[1mwandb\u001b[0m: \tsubsample: 0.8685038105121736\n",
      "\u001b[34m\u001b[1mwandb\u001b[0m: Currently logged in as: \u001b[33munchae\u001b[0m (use `wandb login --relogin` to force relogin)\n"
     ]
    },
    {
     "data": {
      "text/html": [
       "\n",
       "                Tracking run with wandb version 0.11.2<br/>\n",
       "                Syncing run <strong style=\"color:#cdcd00\">mild-sweep-2</strong> to <a href=\"https://wandb.ai\" target=\"_blank\">Weights & Biases</a> <a href=\"https://docs.wandb.com/integrations/jupyter.html\" target=\"_blank\">(Documentation)</a>.<br/>\n",
       "                Project page: <a href=\"https://wandb.ai/unchae/medici%20wandb%20test\" target=\"_blank\">https://wandb.ai/unchae/medici%20wandb%20test</a><br/>\n",
       "                Sweep page: <a href=\"https://wandb.ai/unchae/medici%20wandb%20test/sweeps/p0hwfbf7\" target=\"_blank\">https://wandb.ai/unchae/medici%20wandb%20test/sweeps/p0hwfbf7</a><br/>\n",
       "Run page: <a href=\"https://wandb.ai/unchae/medici%20wandb%20test/runs/cumdezwd\" target=\"_blank\">https://wandb.ai/unchae/medici%20wandb%20test/runs/cumdezwd</a><br/>\n",
       "                Run data is saved locally in <code>C:\\Users\\medici\\파이썬베이스\\7-8월 데이콘\\wandb\\run-20210807_162627-cumdezwd</code><br/><br/>\n",
       "            "
      ],
      "text/plain": [
       "<IPython.core.display.HTML object>"
      ]
     },
     "metadata": {},
     "output_type": "display_data"
    },
    {
     "name": "stdout",
     "output_type": "stream",
     "text": [
      "[0]\tvalidation_0-mlogloss:0.96498\tvalidation_1-mlogloss:0.97456\n",
      "[100]\tvalidation_0-mlogloss:0.29806\tvalidation_1-mlogloss:0.72891\n",
      "[157]\tvalidation_0-mlogloss:0.20137\tvalidation_1-mlogloss:0.76978\n",
      "0 Fold, train logloss : 0.41744, validation logloss : 0.7146\n",
      "[0]\tvalidation_0-mlogloss:0.96353\tvalidation_1-mlogloss:0.97716\n",
      "[100]\tvalidation_0-mlogloss:0.28891\tvalidation_1-mlogloss:0.75728\n",
      "[156]\tvalidation_0-mlogloss:0.19888\tvalidation_1-mlogloss:0.80064\n",
      "1 Fold, train logloss : 0.40594, validation logloss : 0.7348\n",
      "[0]\tvalidation_0-mlogloss:0.99206\tvalidation_1-mlogloss:1.00197\n",
      "[100]\tvalidation_0-mlogloss:0.29148\tvalidation_1-mlogloss:0.74189\n",
      "[149]\tvalidation_0-mlogloss:0.20622\tvalidation_1-mlogloss:0.78953\n",
      "2 Fold, train logloss : 0.44204, validation logloss : 0.7241\n",
      "[0]\tvalidation_0-mlogloss:0.98884\tvalidation_1-mlogloss:0.99897\n",
      "[100]\tvalidation_0-mlogloss:0.29009\tvalidation_1-mlogloss:0.74380\n",
      "[162]\tvalidation_0-mlogloss:0.18667\tvalidation_1-mlogloss:0.79828\n",
      "3 Fold, train logloss : 0.39234, validation logloss : 0.7250\n",
      "[0]\tvalidation_0-mlogloss:0.98942\tvalidation_1-mlogloss:1.00011\n",
      "[100]\tvalidation_0-mlogloss:0.29995\tvalidation_1-mlogloss:0.74360\n",
      "[151]\tvalidation_0-mlogloss:0.21126\tvalidation_1-mlogloss:0.78385\n",
      "4 Fold, train logloss : 0.44264, validation logloss : 0.7262\n"
     ]
    },
    {
     "data": {
      "text/html": [
       "<br/>Waiting for W&B process to finish, PID 12660<br/>Program ended successfully."
      ],
      "text/plain": [
       "<IPython.core.display.HTML object>"
      ]
     },
     "metadata": {},
     "output_type": "display_data"
    },
    {
     "data": {
      "application/vnd.jupyter.widget-view+json": {
       "model_id": "",
       "version_major": 2,
       "version_minor": 0
      },
      "text/plain": [
       "VBox(children=(Label(value=' 0.00MB of 0.00MB uploaded (0.00MB deduped)\\r'), FloatProgress(value=1.0, max=1.0)…"
      ]
     },
     "metadata": {},
     "output_type": "display_data"
    },
    {
     "data": {
      "text/html": [
       "Find user logs for this run at: <code>C:\\Users\\medici\\파이썬베이스\\7-8월 데이콘\\wandb\\run-20210807_162627-cumdezwd\\logs\\debug.log</code>"
      ],
      "text/plain": [
       "<IPython.core.display.HTML object>"
      ]
     },
     "metadata": {},
     "output_type": "display_data"
    },
    {
     "data": {
      "text/html": [
       "Find internal logs for this run at: <code>C:\\Users\\medici\\파이썬베이스\\7-8월 데이콘\\wandb\\run-20210807_162627-cumdezwd\\logs\\debug-internal.log</code>"
      ],
      "text/plain": [
       "<IPython.core.display.HTML object>"
      ]
     },
     "metadata": {},
     "output_type": "display_data"
    },
    {
     "data": {
      "text/html": [
       "<h3>Run summary:</h3><br/><style>\n",
       "    table.wandb td:nth-child(1) { padding: 0 10px; text-align: right }\n",
       "    </style><table class=\"wandb\">\n",
       "<tr><td>cv_loss</td><td>0.72496</td></tr><tr><td>_runtime</td><td>66</td></tr><tr><td>_timestamp</td><td>1628321253</td></tr><tr><td>_step</td><td>0</td></tr></table>"
      ],
      "text/plain": [
       "<IPython.core.display.HTML object>"
      ]
     },
     "metadata": {},
     "output_type": "display_data"
    },
    {
     "data": {
      "text/html": [
       "<h3>Run history:</h3><br/><style>\n",
       "    table.wandb td:nth-child(1) { padding: 0 10px; text-align: right }\n",
       "    </style><table class=\"wandb\">\n",
       "<tr><td>cv_loss</td><td>▁</td></tr><tr><td>_runtime</td><td>▁</td></tr><tr><td>_timestamp</td><td>▁</td></tr><tr><td>_step</td><td>▁</td></tr></table><br/>"
      ],
      "text/plain": [
       "<IPython.core.display.HTML object>"
      ]
     },
     "metadata": {},
     "output_type": "display_data"
    },
    {
     "data": {
      "text/html": [
       "Synced 6 W&B file(s), 0 media file(s), 0 artifact file(s) and 0 other file(s)"
      ],
      "text/plain": [
       "<IPython.core.display.HTML object>"
      ]
     },
     "metadata": {},
     "output_type": "display_data"
    },
    {
     "data": {
      "text/html": [
       "\n",
       "                    <br/>Synced <strong style=\"color:#cdcd00\">mild-sweep-2</strong>: <a href=\"https://wandb.ai/unchae/medici%20wandb%20test/runs/cumdezwd\" target=\"_blank\">https://wandb.ai/unchae/medici%20wandb%20test/runs/cumdezwd</a><br/>\n",
       "                "
      ],
      "text/plain": [
       "<IPython.core.display.HTML object>"
      ]
     },
     "metadata": {},
     "output_type": "display_data"
    },
    {
     "name": "stderr",
     "output_type": "stream",
     "text": [
      "\u001b[34m\u001b[1mwandb\u001b[0m: Agent Starting Run: y2sv88gk with config:\n",
      "\u001b[34m\u001b[1mwandb\u001b[0m: \tcolsample_bytree: 0.5873256557413251\n",
      "\u001b[34m\u001b[1mwandb\u001b[0m: \tmax_depth: 10\n",
      "\u001b[34m\u001b[1mwandb\u001b[0m: \tsubsample: 0.8824291941737747\n"
     ]
    },
    {
     "data": {
      "text/html": [
       "\n",
       "                Tracking run with wandb version 0.11.2<br/>\n",
       "                Syncing run <strong style=\"color:#cdcd00\">fancy-sweep-3</strong> to <a href=\"https://wandb.ai\" target=\"_blank\">Weights & Biases</a> <a href=\"https://docs.wandb.com/integrations/jupyter.html\" target=\"_blank\">(Documentation)</a>.<br/>\n",
       "                Project page: <a href=\"https://wandb.ai/unchae/medici%20wandb%20test\" target=\"_blank\">https://wandb.ai/unchae/medici%20wandb%20test</a><br/>\n",
       "                Sweep page: <a href=\"https://wandb.ai/unchae/medici%20wandb%20test/sweeps/p0hwfbf7\" target=\"_blank\">https://wandb.ai/unchae/medici%20wandb%20test/sweeps/p0hwfbf7</a><br/>\n",
       "Run page: <a href=\"https://wandb.ai/unchae/medici%20wandb%20test/runs/y2sv88gk\" target=\"_blank\">https://wandb.ai/unchae/medici%20wandb%20test/runs/y2sv88gk</a><br/>\n",
       "                Run data is saved locally in <code>C:\\Users\\medici\\파이썬베이스\\7-8월 데이콘\\wandb\\run-20210807_162738-y2sv88gk</code><br/><br/>\n",
       "            "
      ],
      "text/plain": [
       "<IPython.core.display.HTML object>"
      ]
     },
     "metadata": {},
     "output_type": "display_data"
    },
    {
     "name": "stdout",
     "output_type": "stream",
     "text": [
      "[0]\tvalidation_0-mlogloss:0.96421\tvalidation_1-mlogloss:0.97536\n",
      "[100]\tvalidation_0-mlogloss:0.31025\tvalidation_1-mlogloss:0.71967\n",
      "[165]\tvalidation_0-mlogloss:0.20075\tvalidation_1-mlogloss:0.76458\n",
      "0 Fold, train logloss : 0.39724, validation logloss : 0.7072\n",
      "[0]\tvalidation_0-mlogloss:0.96445\tvalidation_1-mlogloss:0.97726\n",
      "[100]\tvalidation_0-mlogloss:0.29993\tvalidation_1-mlogloss:0.74456\n",
      "[157]\tvalidation_0-mlogloss:0.20779\tvalidation_1-mlogloss:0.78752\n",
      "1 Fold, train logloss : 0.41524, validation logloss : 0.7286\n",
      "[0]\tvalidation_0-mlogloss:0.99311\tvalidation_1-mlogloss:1.00179\n",
      "[100]\tvalidation_0-mlogloss:0.29707\tvalidation_1-mlogloss:0.75081\n",
      "[149]\tvalidation_0-mlogloss:0.21192\tvalidation_1-mlogloss:0.79036\n",
      "2 Fold, train logloss : 0.44874, validation logloss : 0.7323\n",
      "[0]\tvalidation_0-mlogloss:0.98843\tvalidation_1-mlogloss:1.00001\n",
      "[100]\tvalidation_0-mlogloss:0.29266\tvalidation_1-mlogloss:0.74167\n",
      "[162]\tvalidation_0-mlogloss:0.19168\tvalidation_1-mlogloss:0.79401\n",
      "3 Fold, train logloss : 0.39234, validation logloss : 0.7235\n",
      "[0]\tvalidation_0-mlogloss:0.98974\tvalidation_1-mlogloss:1.00091\n",
      "[100]\tvalidation_0-mlogloss:0.30807\tvalidation_1-mlogloss:0.74119\n",
      "[150]\tvalidation_0-mlogloss:0.21774\tvalidation_1-mlogloss:0.77879\n",
      "4 Fold, train logloss : 0.45664, validation logloss : 0.7260\n"
     ]
    },
    {
     "data": {
      "text/html": [
       "<br/>Waiting for W&B process to finish, PID 19960<br/>Program ended successfully."
      ],
      "text/plain": [
       "<IPython.core.display.HTML object>"
      ]
     },
     "metadata": {},
     "output_type": "display_data"
    },
    {
     "data": {
      "application/vnd.jupyter.widget-view+json": {
       "model_id": "",
       "version_major": 2,
       "version_minor": 0
      },
      "text/plain": [
       "VBox(children=(Label(value=' 0.00MB of 0.00MB uploaded (0.00MB deduped)\\r'), FloatProgress(value=1.0, max=1.0)…"
      ]
     },
     "metadata": {},
     "output_type": "display_data"
    },
    {
     "data": {
      "text/html": [
       "Find user logs for this run at: <code>C:\\Users\\medici\\파이썬베이스\\7-8월 데이콘\\wandb\\run-20210807_162738-y2sv88gk\\logs\\debug.log</code>"
      ],
      "text/plain": [
       "<IPython.core.display.HTML object>"
      ]
     },
     "metadata": {},
     "output_type": "display_data"
    },
    {
     "data": {
      "text/html": [
       "Find internal logs for this run at: <code>C:\\Users\\medici\\파이썬베이스\\7-8월 데이콘\\wandb\\run-20210807_162738-y2sv88gk\\logs\\debug-internal.log</code>"
      ],
      "text/plain": [
       "<IPython.core.display.HTML object>"
      ]
     },
     "metadata": {},
     "output_type": "display_data"
    },
    {
     "data": {
      "text/html": [
       "<h3>Run summary:</h3><br/><style>\n",
       "    table.wandb td:nth-child(1) { padding: 0 10px; text-align: right }\n",
       "    </style><table class=\"wandb\">\n",
       "<tr><td>cv_loss</td><td>0.72352</td></tr><tr><td>_runtime</td><td>60</td></tr><tr><td>_timestamp</td><td>1628321318</td></tr><tr><td>_step</td><td>0</td></tr></table>"
      ],
      "text/plain": [
       "<IPython.core.display.HTML object>"
      ]
     },
     "metadata": {},
     "output_type": "display_data"
    },
    {
     "data": {
      "text/html": [
       "<h3>Run history:</h3><br/><style>\n",
       "    table.wandb td:nth-child(1) { padding: 0 10px; text-align: right }\n",
       "    </style><table class=\"wandb\">\n",
       "<tr><td>cv_loss</td><td>▁</td></tr><tr><td>_runtime</td><td>▁</td></tr><tr><td>_timestamp</td><td>▁</td></tr><tr><td>_step</td><td>▁</td></tr></table><br/>"
      ],
      "text/plain": [
       "<IPython.core.display.HTML object>"
      ]
     },
     "metadata": {},
     "output_type": "display_data"
    },
    {
     "data": {
      "text/html": [
       "Synced 6 W&B file(s), 0 media file(s), 0 artifact file(s) and 0 other file(s)"
      ],
      "text/plain": [
       "<IPython.core.display.HTML object>"
      ]
     },
     "metadata": {},
     "output_type": "display_data"
    },
    {
     "data": {
      "text/html": [
       "\n",
       "                    <br/>Synced <strong style=\"color:#cdcd00\">fancy-sweep-3</strong>: <a href=\"https://wandb.ai/unchae/medici%20wandb%20test/runs/y2sv88gk\" target=\"_blank\">https://wandb.ai/unchae/medici%20wandb%20test/runs/y2sv88gk</a><br/>\n",
       "                "
      ],
      "text/plain": [
       "<IPython.core.display.HTML object>"
      ]
     },
     "metadata": {},
     "output_type": "display_data"
    },
    {
     "name": "stderr",
     "output_type": "stream",
     "text": [
      "\u001b[34m\u001b[1mwandb\u001b[0m: Agent Starting Run: kyde14uv with config:\n",
      "\u001b[34m\u001b[1mwandb\u001b[0m: \tcolsample_bytree: 0.5295640688492664\n",
      "\u001b[34m\u001b[1mwandb\u001b[0m: \tmax_depth: 14\n",
      "\u001b[34m\u001b[1mwandb\u001b[0m: \tsubsample: 0.921362133573915\n"
     ]
    },
    {
     "data": {
      "text/html": [
       "\n",
       "                Tracking run with wandb version 0.11.2<br/>\n",
       "                Syncing run <strong style=\"color:#cdcd00\">expert-sweep-4</strong> to <a href=\"https://wandb.ai\" target=\"_blank\">Weights & Biases</a> <a href=\"https://docs.wandb.com/integrations/jupyter.html\" target=\"_blank\">(Documentation)</a>.<br/>\n",
       "                Project page: <a href=\"https://wandb.ai/unchae/medici%20wandb%20test\" target=\"_blank\">https://wandb.ai/unchae/medici%20wandb%20test</a><br/>\n",
       "                Sweep page: <a href=\"https://wandb.ai/unchae/medici%20wandb%20test/sweeps/p0hwfbf7\" target=\"_blank\">https://wandb.ai/unchae/medici%20wandb%20test/sweeps/p0hwfbf7</a><br/>\n",
       "Run page: <a href=\"https://wandb.ai/unchae/medici%20wandb%20test/runs/kyde14uv\" target=\"_blank\">https://wandb.ai/unchae/medici%20wandb%20test/runs/kyde14uv</a><br/>\n",
       "                Run data is saved locally in <code>C:\\Users\\medici\\파이썬베이스\\7-8월 데이콘\\wandb\\run-20210807_162843-kyde14uv</code><br/><br/>\n",
       "            "
      ],
      "text/plain": [
       "<IPython.core.display.HTML object>"
      ]
     },
     "metadata": {},
     "output_type": "display_data"
    },
    {
     "name": "stdout",
     "output_type": "stream",
     "text": [
      "[0]\tvalidation_0-mlogloss:0.94643\tvalidation_1-mlogloss:0.97196\n",
      "[100]\tvalidation_0-mlogloss:0.14846\tvalidation_1-mlogloss:0.78302\n",
      "[136]\tvalidation_0-mlogloss:0.10784\tvalidation_1-mlogloss:0.83585\n",
      "0 Fold, train logloss : 0.33484, validation logloss : 0.7057\n",
      "[0]\tvalidation_0-mlogloss:0.94370\tvalidation_1-mlogloss:0.97113\n",
      "[100]\tvalidation_0-mlogloss:0.14609\tvalidation_1-mlogloss:0.82453\n",
      "[126]\tvalidation_0-mlogloss:0.11721\tvalidation_1-mlogloss:0.86635\n",
      "1 Fold, train logloss : 0.38204, validation logloss : 0.7248\n",
      "[0]\tvalidation_0-mlogloss:0.97624\tvalidation_1-mlogloss:0.99490\n",
      "[100]\tvalidation_0-mlogloss:0.14612\tvalidation_1-mlogloss:0.81961\n",
      "[124]\tvalidation_0-mlogloss:0.11355\tvalidation_1-mlogloss:0.86739\n",
      "2 Fold, train logloss : 0.41304, validation logloss : 0.7247\n",
      "[0]\tvalidation_0-mlogloss:0.96859\tvalidation_1-mlogloss:0.99028\n",
      "[100]\tvalidation_0-mlogloss:0.14747\tvalidation_1-mlogloss:0.80935\n",
      "[126]\tvalidation_0-mlogloss:0.11431\tvalidation_1-mlogloss:0.85377\n",
      "3 Fold, train logloss : 0.40474, validation logloss : 0.7120\n",
      "[0]\tvalidation_0-mlogloss:0.97227\tvalidation_1-mlogloss:0.99232\n",
      "[100]\tvalidation_0-mlogloss:0.14557\tvalidation_1-mlogloss:0.82221\n",
      "[125]\tvalidation_0-mlogloss:0.11503\tvalidation_1-mlogloss:0.86679\n",
      "4 Fold, train logloss : 0.41884, validation logloss : 0.7209\n"
     ]
    },
    {
     "data": {
      "text/html": [
       "<br/>Waiting for W&B process to finish, PID 15940<br/>Program ended successfully."
      ],
      "text/plain": [
       "<IPython.core.display.HTML object>"
      ]
     },
     "metadata": {},
     "output_type": "display_data"
    },
    {
     "data": {
      "application/vnd.jupyter.widget-view+json": {
       "model_id": "",
       "version_major": 2,
       "version_minor": 0
      },
      "text/plain": [
       "VBox(children=(Label(value=' 0.00MB of 0.00MB uploaded (0.00MB deduped)\\r'), FloatProgress(value=1.0, max=1.0)…"
      ]
     },
     "metadata": {},
     "output_type": "display_data"
    },
    {
     "data": {
      "text/html": [
       "Find user logs for this run at: <code>C:\\Users\\medici\\파이썬베이스\\7-8월 데이콘\\wandb\\run-20210807_162843-kyde14uv\\logs\\debug.log</code>"
      ],
      "text/plain": [
       "<IPython.core.display.HTML object>"
      ]
     },
     "metadata": {},
     "output_type": "display_data"
    },
    {
     "data": {
      "text/html": [
       "Find internal logs for this run at: <code>C:\\Users\\medici\\파이썬베이스\\7-8월 데이콘\\wandb\\run-20210807_162843-kyde14uv\\logs\\debug-internal.log</code>"
      ],
      "text/plain": [
       "<IPython.core.display.HTML object>"
      ]
     },
     "metadata": {},
     "output_type": "display_data"
    },
    {
     "data": {
      "text/html": [
       "<h3>Run summary:</h3><br/><style>\n",
       "    table.wandb td:nth-child(1) { padding: 0 10px; text-align: right }\n",
       "    </style><table class=\"wandb\">\n",
       "<tr><td>cv_loss</td><td>0.71763</td></tr><tr><td>_runtime</td><td>70</td></tr><tr><td>_timestamp</td><td>1628321393</td></tr><tr><td>_step</td><td>0</td></tr></table>"
      ],
      "text/plain": [
       "<IPython.core.display.HTML object>"
      ]
     },
     "metadata": {},
     "output_type": "display_data"
    },
    {
     "data": {
      "text/html": [
       "<h3>Run history:</h3><br/><style>\n",
       "    table.wandb td:nth-child(1) { padding: 0 10px; text-align: right }\n",
       "    </style><table class=\"wandb\">\n",
       "<tr><td>cv_loss</td><td>▁</td></tr><tr><td>_runtime</td><td>▁</td></tr><tr><td>_timestamp</td><td>▁</td></tr><tr><td>_step</td><td>▁</td></tr></table><br/>"
      ],
      "text/plain": [
       "<IPython.core.display.HTML object>"
      ]
     },
     "metadata": {},
     "output_type": "display_data"
    },
    {
     "data": {
      "text/html": [
       "Synced 6 W&B file(s), 0 media file(s), 0 artifact file(s) and 0 other file(s)"
      ],
      "text/plain": [
       "<IPython.core.display.HTML object>"
      ]
     },
     "metadata": {},
     "output_type": "display_data"
    },
    {
     "data": {
      "text/html": [
       "\n",
       "                    <br/>Synced <strong style=\"color:#cdcd00\">expert-sweep-4</strong>: <a href=\"https://wandb.ai/unchae/medici%20wandb%20test/runs/kyde14uv\" target=\"_blank\">https://wandb.ai/unchae/medici%20wandb%20test/runs/kyde14uv</a><br/>\n",
       "                "
      ],
      "text/plain": [
       "<IPython.core.display.HTML object>"
      ]
     },
     "metadata": {},
     "output_type": "display_data"
    },
    {
     "name": "stderr",
     "output_type": "stream",
     "text": [
      "\u001b[34m\u001b[1mwandb\u001b[0m: Agent Starting Run: 3z2xkkas with config:\n",
      "\u001b[34m\u001b[1mwandb\u001b[0m: \tcolsample_bytree: 0.7292639877332963\n",
      "\u001b[34m\u001b[1mwandb\u001b[0m: \tmax_depth: 15\n",
      "\u001b[34m\u001b[1mwandb\u001b[0m: \tsubsample: 0.9889245231389854\n"
     ]
    },
    {
     "data": {
      "text/html": [
       "\n",
       "                Tracking run with wandb version 0.11.2<br/>\n",
       "                Syncing run <strong style=\"color:#cdcd00\">rosy-sweep-5</strong> to <a href=\"https://wandb.ai\" target=\"_blank\">Weights & Biases</a> <a href=\"https://docs.wandb.com/integrations/jupyter.html\" target=\"_blank\">(Documentation)</a>.<br/>\n",
       "                Project page: <a href=\"https://wandb.ai/unchae/medici%20wandb%20test\" target=\"_blank\">https://wandb.ai/unchae/medici%20wandb%20test</a><br/>\n",
       "                Sweep page: <a href=\"https://wandb.ai/unchae/medici%20wandb%20test/sweeps/p0hwfbf7\" target=\"_blank\">https://wandb.ai/unchae/medici%20wandb%20test/sweeps/p0hwfbf7</a><br/>\n",
       "Run page: <a href=\"https://wandb.ai/unchae/medici%20wandb%20test/runs/3z2xkkas\" target=\"_blank\">https://wandb.ai/unchae/medici%20wandb%20test/runs/3z2xkkas</a><br/>\n",
       "                Run data is saved locally in <code>C:\\Users\\medici\\파이썬베이스\\7-8월 데이콘\\wandb\\run-20210807_162958-3z2xkkas</code><br/><br/>\n",
       "            "
      ],
      "text/plain": [
       "<IPython.core.display.HTML object>"
      ]
     },
     "metadata": {},
     "output_type": "display_data"
    },
    {
     "name": "stdout",
     "output_type": "stream",
     "text": [
      "[0]\tvalidation_0-mlogloss:0.93040\tvalidation_1-mlogloss:0.96712\n",
      "[100]\tvalidation_0-mlogloss:0.12441\tvalidation_1-mlogloss:0.81687\n",
      "[115]\tvalidation_0-mlogloss:0.11147\tvalidation_1-mlogloss:0.83647\n",
      "0 Fold, train logloss : 0.42554, validation logloss : 0.7138\n",
      "[0]\tvalidation_0-mlogloss:0.93518\tvalidation_1-mlogloss:0.96936\n",
      "[100]\tvalidation_0-mlogloss:0.12891\tvalidation_1-mlogloss:0.84655\n",
      "[114]\tvalidation_0-mlogloss:0.11342\tvalidation_1-mlogloss:0.86913\n",
      "1 Fold, train logloss : 0.42534, validation logloss : 0.7341\n",
      "[0]\tvalidation_0-mlogloss:0.96574\tvalidation_1-mlogloss:0.99117\n",
      "[100]\tvalidation_0-mlogloss:0.12850\tvalidation_1-mlogloss:0.83988\n",
      "[117]\tvalidation_0-mlogloss:0.10843\tvalidation_1-mlogloss:0.86897\n",
      "2 Fold, train logloss : 0.42184, validation logloss : 0.7312\n",
      "[0]\tvalidation_0-mlogloss:0.95898\tvalidation_1-mlogloss:0.98726\n",
      "[100]\tvalidation_0-mlogloss:0.12695\tvalidation_1-mlogloss:0.83883\n",
      "[115]\tvalidation_0-mlogloss:0.11052\tvalidation_1-mlogloss:0.86533\n",
      "3 Fold, train logloss : 0.41834, validation logloss : 0.7163\n",
      "[0]\tvalidation_0-mlogloss:0.96654\tvalidation_1-mlogloss:0.99113\n",
      "[100]\tvalidation_0-mlogloss:0.12999\tvalidation_1-mlogloss:0.83981\n",
      "[118]\tvalidation_0-mlogloss:0.11150\tvalidation_1-mlogloss:0.87015\n",
      "4 Fold, train logloss : 0.41544, validation logloss : 0.7256\n"
     ]
    },
    {
     "data": {
      "text/html": [
       "<br/>Waiting for W&B process to finish, PID 10852<br/>Program ended successfully."
      ],
      "text/plain": [
       "<IPython.core.display.HTML object>"
      ]
     },
     "metadata": {},
     "output_type": "display_data"
    },
    {
     "data": {
      "application/vnd.jupyter.widget-view+json": {
       "model_id": "",
       "version_major": 2,
       "version_minor": 0
      },
      "text/plain": [
       "VBox(children=(Label(value=' 0.00MB of 0.00MB uploaded (0.00MB deduped)\\r'), FloatProgress(value=1.0, max=1.0)…"
      ]
     },
     "metadata": {},
     "output_type": "display_data"
    },
    {
     "data": {
      "text/html": [
       "Find user logs for this run at: <code>C:\\Users\\medici\\파이썬베이스\\7-8월 데이콘\\wandb\\run-20210807_162958-3z2xkkas\\logs\\debug.log</code>"
      ],
      "text/plain": [
       "<IPython.core.display.HTML object>"
      ]
     },
     "metadata": {},
     "output_type": "display_data"
    },
    {
     "data": {
      "text/html": [
       "Find internal logs for this run at: <code>C:\\Users\\medici\\파이썬베이스\\7-8월 데이콘\\wandb\\run-20210807_162958-3z2xkkas\\logs\\debug-internal.log</code>"
      ],
      "text/plain": [
       "<IPython.core.display.HTML object>"
      ]
     },
     "metadata": {},
     "output_type": "display_data"
    },
    {
     "data": {
      "text/html": [
       "<h3>Run summary:</h3><br/><style>\n",
       "    table.wandb td:nth-child(1) { padding: 0 10px; text-align: right }\n",
       "    </style><table class=\"wandb\">\n",
       "<tr><td>cv_loss</td><td>0.7242</td></tr><tr><td>_runtime</td><td>74</td></tr><tr><td>_timestamp</td><td>1628321472</td></tr><tr><td>_step</td><td>0</td></tr></table>"
      ],
      "text/plain": [
       "<IPython.core.display.HTML object>"
      ]
     },
     "metadata": {},
     "output_type": "display_data"
    },
    {
     "data": {
      "text/html": [
       "<h3>Run history:</h3><br/><style>\n",
       "    table.wandb td:nth-child(1) { padding: 0 10px; text-align: right }\n",
       "    </style><table class=\"wandb\">\n",
       "<tr><td>cv_loss</td><td>▁</td></tr><tr><td>_runtime</td><td>▁</td></tr><tr><td>_timestamp</td><td>▁</td></tr><tr><td>_step</td><td>▁</td></tr></table><br/>"
      ],
      "text/plain": [
       "<IPython.core.display.HTML object>"
      ]
     },
     "metadata": {},
     "output_type": "display_data"
    },
    {
     "data": {
      "text/html": [
       "Synced 6 W&B file(s), 0 media file(s), 0 artifact file(s) and 0 other file(s)"
      ],
      "text/plain": [
       "<IPython.core.display.HTML object>"
      ]
     },
     "metadata": {},
     "output_type": "display_data"
    },
    {
     "data": {
      "text/html": [
       "\n",
       "                    <br/>Synced <strong style=\"color:#cdcd00\">rosy-sweep-5</strong>: <a href=\"https://wandb.ai/unchae/medici%20wandb%20test/runs/3z2xkkas\" target=\"_blank\">https://wandb.ai/unchae/medici%20wandb%20test/runs/3z2xkkas</a><br/>\n",
       "                "
      ],
      "text/plain": [
       "<IPython.core.display.HTML object>"
      ]
     },
     "metadata": {},
     "output_type": "display_data"
    }
   ],
   "source": [
    "from sklearn.model_selection import StratifiedKFold\n",
    "from sklearn.metrics import log_loss\n",
    "from xgboost import XGBClassifier\n",
    "\n",
    "def train():\n",
    "    with wandb.init() as run: # 완디비와 함께 실행하는 것. 항상 인터넷 연결\n",
    "        params = wandb.config\n",
    "        \n",
    "        val_scores = []\n",
    "        n_splits = 5\n",
    "\n",
    "        skf = StratifiedKFold(n_splits=n_splits, shuffle=True, random_state=42)\n",
    "\n",
    "        for i, (trn_idx, val_idx) in enumerate(skf.split(data, label)):\n",
    "            x_train, y_train = data.iloc[trn_idx, :], label.iloc[trn_idx,]\n",
    "            x_valid, y_valid = data.iloc[val_idx, :], label.iloc[val_idx,]\n",
    "\n",
    "            # 전처리\n",
    "            x_train, x_valid, x_test = preprocess(x_train, x_valid, test)\n",
    "\n",
    "            # 모델 정의\n",
    "            model = XGBClassifier(n_estimators=1000,\n",
    "                                  max_depth=params['max_depth'],\n",
    "                                  subsample=params['subsample'],\n",
    "                                  colsample_bytree=params['colsample_bytree'],\n",
    "#                                   tree_method='gpu_hist', #gpu있으면 실행. 코랩 가능.\n",
    "                                  n_jobs=n_cpus-1)\n",
    "\n",
    "            # 모델 학습\n",
    "            model.fit(x_train, y_train, \n",
    "                      eval_metric='mlogloss', \n",
    "                      eval_set=[[x_train, y_train], [x_valid, y_valid]],\n",
    "                      early_stopping_rounds=100,\n",
    "                      verbose=100)\n",
    "\n",
    "            # 훈련, 검증 데이터 log_loss 확인\n",
    "            trn_logloss = log_loss(y_train, model.predict_proba(x_train))\n",
    "            val_logloss = log_loss(y_valid, model.predict_proba(x_valid))\n",
    "            print('{} Fold, train logloss : {:.4f}4, validation logloss : {:.4f}'.format(i, trn_logloss, val_logloss))\n",
    "\n",
    "            val_scores.append(val_logloss)\n",
    "            \n",
    "        metrics = {\"cv_loss\": np.mean(val_scores)}\n",
    "        wandb.log(metrics)\n",
    "count = 5\n",
    "wandb.agent(sweep_id, function=train, count=count)"
   ]
  },
  {
   "cell_type": "code",
   "execution_count": 10,
   "metadata": {
    "id": "yY8IrDKtEDpp"
   },
   "outputs": [],
   "source": [
    "# submit.to_csv('oof_first_submit.csv', index=False)"
   ]
  },
  {
   "cell_type": "code",
   "execution_count": null,
   "metadata": {},
   "outputs": [],
   "source": []
  },
  {
   "cell_type": "code",
   "execution_count": null,
   "metadata": {},
   "outputs": [],
   "source": []
  }
 ],
 "metadata": {
  "accelerator": "GPU",
  "colab": {
   "collapsed_sections": [],
   "name": "Lab_04) Model_Tuning_WanDB.ipynb",
   "provenance": []
  },
  "kernelspec": {
   "display_name": "Python 3",
   "language": "python",
   "name": "python3"
  },
  "language_info": {
   "codemirror_mode": {
    "name": "ipython",
    "version": 3
   },
   "file_extension": ".py",
   "mimetype": "text/x-python",
   "name": "python",
   "nbconvert_exporter": "python",
   "pygments_lexer": "ipython3",
   "version": "3.8.8"
  },
  "widgets": {
   "application/vnd.jupyter.widget-state+json": {
    "101ba1c37df94d85a151bcf59b04fe1d": {
     "model_module": "@jupyter-widgets/controls",
     "model_name": "ProgressStyleModel",
     "state": {
      "_model_module": "@jupyter-widgets/controls",
      "_model_module_version": "1.5.0",
      "_model_name": "ProgressStyleModel",
      "_view_count": null,
      "_view_module": "@jupyter-widgets/base",
      "_view_module_version": "1.2.0",
      "_view_name": "StyleView",
      "bar_color": null,
      "description_width": ""
     }
    },
    "1e9f4a507eab425a91133ac02fa6aabb": {
     "model_module": "@jupyter-widgets/controls",
     "model_name": "FloatProgressModel",
     "state": {
      "_dom_classes": [],
      "_model_module": "@jupyter-widgets/controls",
      "_model_module_version": "1.5.0",
      "_model_name": "FloatProgressModel",
      "_view_count": null,
      "_view_module": "@jupyter-widgets/controls",
      "_view_module_version": "1.5.0",
      "_view_name": "ProgressView",
      "bar_style": "",
      "description": "",
      "description_tooltip": null,
      "layout": "IPY_MODEL_e56c156d673345adbb0c0e5eb1be96fe",
      "max": 1,
      "min": 0,
      "orientation": "horizontal",
      "style": "IPY_MODEL_d5cbf0c2a07c4d269d529f931d818ca1",
      "value": 1
     }
    },
    "23fb7df07b3d43da9a9ad893190af720": {
     "model_module": "@jupyter-widgets/base",
     "model_name": "LayoutModel",
     "state": {
      "_model_module": "@jupyter-widgets/base",
      "_model_module_version": "1.2.0",
      "_model_name": "LayoutModel",
      "_view_count": null,
      "_view_module": "@jupyter-widgets/base",
      "_view_module_version": "1.2.0",
      "_view_name": "LayoutView",
      "align_content": null,
      "align_items": null,
      "align_self": null,
      "border": null,
      "bottom": null,
      "display": null,
      "flex": null,
      "flex_flow": null,
      "grid_area": null,
      "grid_auto_columns": null,
      "grid_auto_flow": null,
      "grid_auto_rows": null,
      "grid_column": null,
      "grid_gap": null,
      "grid_row": null,
      "grid_template_areas": null,
      "grid_template_columns": null,
      "grid_template_rows": null,
      "height": null,
      "justify_content": null,
      "justify_items": null,
      "left": null,
      "margin": null,
      "max_height": null,
      "max_width": null,
      "min_height": null,
      "min_width": null,
      "object_fit": null,
      "object_position": null,
      "order": null,
      "overflow": null,
      "overflow_x": null,
      "overflow_y": null,
      "padding": null,
      "right": null,
      "top": null,
      "visibility": null,
      "width": null
     }
    },
    "3061e5a13a89437aa0d36a94e0ab54cc": {
     "model_module": "@jupyter-widgets/controls",
     "model_name": "FloatProgressModel",
     "state": {
      "_dom_classes": [],
      "_model_module": "@jupyter-widgets/controls",
      "_model_module_version": "1.5.0",
      "_model_name": "FloatProgressModel",
      "_view_count": null,
      "_view_module": "@jupyter-widgets/controls",
      "_view_module_version": "1.5.0",
      "_view_name": "ProgressView",
      "bar_style": "",
      "description": "",
      "description_tooltip": null,
      "layout": "IPY_MODEL_ccc7a753e3e54e2180485cd96b6d6098",
      "max": 1,
      "min": 0,
      "orientation": "horizontal",
      "style": "IPY_MODEL_101ba1c37df94d85a151bcf59b04fe1d",
      "value": 1
     }
    },
    "5a316f4fae634b0ab4c39fcaf5f99cb6": {
     "model_module": "@jupyter-widgets/controls",
     "model_name": "DescriptionStyleModel",
     "state": {
      "_model_module": "@jupyter-widgets/controls",
      "_model_module_version": "1.5.0",
      "_model_name": "DescriptionStyleModel",
      "_view_count": null,
      "_view_module": "@jupyter-widgets/base",
      "_view_module_version": "1.2.0",
      "_view_name": "StyleView",
      "description_width": ""
     }
    },
    "682e01be87c849a68ca7cb4ff65be39c": {
     "model_module": "@jupyter-widgets/controls",
     "model_name": "DescriptionStyleModel",
     "state": {
      "_model_module": "@jupyter-widgets/controls",
      "_model_module_version": "1.5.0",
      "_model_name": "DescriptionStyleModel",
      "_view_count": null,
      "_view_module": "@jupyter-widgets/base",
      "_view_module_version": "1.2.0",
      "_view_name": "StyleView",
      "description_width": ""
     }
    },
    "6f92b779239646fba1fdd0ff6973059a": {
     "model_module": "@jupyter-widgets/controls",
     "model_name": "VBoxModel",
     "state": {
      "_dom_classes": [],
      "_model_module": "@jupyter-widgets/controls",
      "_model_module_version": "1.5.0",
      "_model_name": "VBoxModel",
      "_view_count": null,
      "_view_module": "@jupyter-widgets/controls",
      "_view_module_version": "1.5.0",
      "_view_name": "VBoxView",
      "box_style": "",
      "children": [
       "IPY_MODEL_dc9c7397512c4d10975752153eddff83",
       "IPY_MODEL_3061e5a13a89437aa0d36a94e0ab54cc"
      ],
      "layout": "IPY_MODEL_23fb7df07b3d43da9a9ad893190af720"
     }
    },
    "a5a900b3cd0944f29173d5a2ba286e20": {
     "model_module": "@jupyter-widgets/controls",
     "model_name": "LabelModel",
     "state": {
      "_dom_classes": [],
      "_model_module": "@jupyter-widgets/controls",
      "_model_module_version": "1.5.0",
      "_model_name": "LabelModel",
      "_view_count": null,
      "_view_module": "@jupyter-widgets/controls",
      "_view_module_version": "1.5.0",
      "_view_name": "LabelView",
      "description": "",
      "description_tooltip": null,
      "layout": "IPY_MODEL_e236e5d4f1a44464b76d90b27e37a621",
      "placeholder": "​",
      "style": "IPY_MODEL_682e01be87c849a68ca7cb4ff65be39c",
      "value": " 0.01MB of 0.01MB uploaded (0.00MB deduped)\r"
     }
    },
    "bf9bafdd29df41dfb9b2f00d130cbd0d": {
     "model_module": "@jupyter-widgets/base",
     "model_name": "LayoutModel",
     "state": {
      "_model_module": "@jupyter-widgets/base",
      "_model_module_version": "1.2.0",
      "_model_name": "LayoutModel",
      "_view_count": null,
      "_view_module": "@jupyter-widgets/base",
      "_view_module_version": "1.2.0",
      "_view_name": "LayoutView",
      "align_content": null,
      "align_items": null,
      "align_self": null,
      "border": null,
      "bottom": null,
      "display": null,
      "flex": null,
      "flex_flow": null,
      "grid_area": null,
      "grid_auto_columns": null,
      "grid_auto_flow": null,
      "grid_auto_rows": null,
      "grid_column": null,
      "grid_gap": null,
      "grid_row": null,
      "grid_template_areas": null,
      "grid_template_columns": null,
      "grid_template_rows": null,
      "height": null,
      "justify_content": null,
      "justify_items": null,
      "left": null,
      "margin": null,
      "max_height": null,
      "max_width": null,
      "min_height": null,
      "min_width": null,
      "object_fit": null,
      "object_position": null,
      "order": null,
      "overflow": null,
      "overflow_x": null,
      "overflow_y": null,
      "padding": null,
      "right": null,
      "top": null,
      "visibility": null,
      "width": null
     }
    },
    "ccc7a753e3e54e2180485cd96b6d6098": {
     "model_module": "@jupyter-widgets/base",
     "model_name": "LayoutModel",
     "state": {
      "_model_module": "@jupyter-widgets/base",
      "_model_module_version": "1.2.0",
      "_model_name": "LayoutModel",
      "_view_count": null,
      "_view_module": "@jupyter-widgets/base",
      "_view_module_version": "1.2.0",
      "_view_name": "LayoutView",
      "align_content": null,
      "align_items": null,
      "align_self": null,
      "border": null,
      "bottom": null,
      "display": null,
      "flex": null,
      "flex_flow": null,
      "grid_area": null,
      "grid_auto_columns": null,
      "grid_auto_flow": null,
      "grid_auto_rows": null,
      "grid_column": null,
      "grid_gap": null,
      "grid_row": null,
      "grid_template_areas": null,
      "grid_template_columns": null,
      "grid_template_rows": null,
      "height": null,
      "justify_content": null,
      "justify_items": null,
      "left": null,
      "margin": null,
      "max_height": null,
      "max_width": null,
      "min_height": null,
      "min_width": null,
      "object_fit": null,
      "object_position": null,
      "order": null,
      "overflow": null,
      "overflow_x": null,
      "overflow_y": null,
      "padding": null,
      "right": null,
      "top": null,
      "visibility": null,
      "width": null
     }
    },
    "ceee6e8b3b9e4a23844f482a3601bf0d": {
     "model_module": "@jupyter-widgets/base",
     "model_name": "LayoutModel",
     "state": {
      "_model_module": "@jupyter-widgets/base",
      "_model_module_version": "1.2.0",
      "_model_name": "LayoutModel",
      "_view_count": null,
      "_view_module": "@jupyter-widgets/base",
      "_view_module_version": "1.2.0",
      "_view_name": "LayoutView",
      "align_content": null,
      "align_items": null,
      "align_self": null,
      "border": null,
      "bottom": null,
      "display": null,
      "flex": null,
      "flex_flow": null,
      "grid_area": null,
      "grid_auto_columns": null,
      "grid_auto_flow": null,
      "grid_auto_rows": null,
      "grid_column": null,
      "grid_gap": null,
      "grid_row": null,
      "grid_template_areas": null,
      "grid_template_columns": null,
      "grid_template_rows": null,
      "height": null,
      "justify_content": null,
      "justify_items": null,
      "left": null,
      "margin": null,
      "max_height": null,
      "max_width": null,
      "min_height": null,
      "min_width": null,
      "object_fit": null,
      "object_position": null,
      "order": null,
      "overflow": null,
      "overflow_x": null,
      "overflow_y": null,
      "padding": null,
      "right": null,
      "top": null,
      "visibility": null,
      "width": null
     }
    },
    "d5cbf0c2a07c4d269d529f931d818ca1": {
     "model_module": "@jupyter-widgets/controls",
     "model_name": "ProgressStyleModel",
     "state": {
      "_model_module": "@jupyter-widgets/controls",
      "_model_module_version": "1.5.0",
      "_model_name": "ProgressStyleModel",
      "_view_count": null,
      "_view_module": "@jupyter-widgets/base",
      "_view_module_version": "1.2.0",
      "_view_name": "StyleView",
      "bar_color": null,
      "description_width": ""
     }
    },
    "d5d144d009e64b5eab0d7aea67effced": {
     "model_module": "@jupyter-widgets/controls",
     "model_name": "VBoxModel",
     "state": {
      "_dom_classes": [],
      "_model_module": "@jupyter-widgets/controls",
      "_model_module_version": "1.5.0",
      "_model_name": "VBoxModel",
      "_view_count": null,
      "_view_module": "@jupyter-widgets/controls",
      "_view_module_version": "1.5.0",
      "_view_name": "VBoxView",
      "box_style": "",
      "children": [
       "IPY_MODEL_a5a900b3cd0944f29173d5a2ba286e20",
       "IPY_MODEL_1e9f4a507eab425a91133ac02fa6aabb"
      ],
      "layout": "IPY_MODEL_bf9bafdd29df41dfb9b2f00d130cbd0d"
     }
    },
    "dc9c7397512c4d10975752153eddff83": {
     "model_module": "@jupyter-widgets/controls",
     "model_name": "LabelModel",
     "state": {
      "_dom_classes": [],
      "_model_module": "@jupyter-widgets/controls",
      "_model_module_version": "1.5.0",
      "_model_name": "LabelModel",
      "_view_count": null,
      "_view_module": "@jupyter-widgets/controls",
      "_view_module_version": "1.5.0",
      "_view_name": "LabelView",
      "description": "",
      "description_tooltip": null,
      "layout": "IPY_MODEL_ceee6e8b3b9e4a23844f482a3601bf0d",
      "placeholder": "​",
      "style": "IPY_MODEL_5a316f4fae634b0ab4c39fcaf5f99cb6",
      "value": " 0.01MB of 0.01MB uploaded (0.00MB deduped)\r"
     }
    },
    "e236e5d4f1a44464b76d90b27e37a621": {
     "model_module": "@jupyter-widgets/base",
     "model_name": "LayoutModel",
     "state": {
      "_model_module": "@jupyter-widgets/base",
      "_model_module_version": "1.2.0",
      "_model_name": "LayoutModel",
      "_view_count": null,
      "_view_module": "@jupyter-widgets/base",
      "_view_module_version": "1.2.0",
      "_view_name": "LayoutView",
      "align_content": null,
      "align_items": null,
      "align_self": null,
      "border": null,
      "bottom": null,
      "display": null,
      "flex": null,
      "flex_flow": null,
      "grid_area": null,
      "grid_auto_columns": null,
      "grid_auto_flow": null,
      "grid_auto_rows": null,
      "grid_column": null,
      "grid_gap": null,
      "grid_row": null,
      "grid_template_areas": null,
      "grid_template_columns": null,
      "grid_template_rows": null,
      "height": null,
      "justify_content": null,
      "justify_items": null,
      "left": null,
      "margin": null,
      "max_height": null,
      "max_width": null,
      "min_height": null,
      "min_width": null,
      "object_fit": null,
      "object_position": null,
      "order": null,
      "overflow": null,
      "overflow_x": null,
      "overflow_y": null,
      "padding": null,
      "right": null,
      "top": null,
      "visibility": null,
      "width": null
     }
    },
    "e56c156d673345adbb0c0e5eb1be96fe": {
     "model_module": "@jupyter-widgets/base",
     "model_name": "LayoutModel",
     "state": {
      "_model_module": "@jupyter-widgets/base",
      "_model_module_version": "1.2.0",
      "_model_name": "LayoutModel",
      "_view_count": null,
      "_view_module": "@jupyter-widgets/base",
      "_view_module_version": "1.2.0",
      "_view_name": "LayoutView",
      "align_content": null,
      "align_items": null,
      "align_self": null,
      "border": null,
      "bottom": null,
      "display": null,
      "flex": null,
      "flex_flow": null,
      "grid_area": null,
      "grid_auto_columns": null,
      "grid_auto_flow": null,
      "grid_auto_rows": null,
      "grid_column": null,
      "grid_gap": null,
      "grid_row": null,
      "grid_template_areas": null,
      "grid_template_columns": null,
      "grid_template_rows": null,
      "height": null,
      "justify_content": null,
      "justify_items": null,
      "left": null,
      "margin": null,
      "max_height": null,
      "max_width": null,
      "min_height": null,
      "min_width": null,
      "object_fit": null,
      "object_position": null,
      "order": null,
      "overflow": null,
      "overflow_x": null,
      "overflow_y": null,
      "padding": null,
      "right": null,
      "top": null,
      "visibility": null,
      "width": null
     }
    }
   }
  }
 },
 "nbformat": 4,
 "nbformat_minor": 4
}
