{
 "cells": [
  {
   "cell_type": "markdown",
   "id": "821a7626-7aa3-4ff1-a8b8-d7f0dffa5fcf",
   "metadata": {},
   "source": [
    "질문해보자\n",
    "\n",
    "업무시작일\n",
    "// 전화소유가 없는사람도있는가?\n",
    "//가족규모와 인컴 토탈이 1/n으로 되어야 하는게 아닌가?\n",
    "//내 삶을 대입해 보면서 문제를 풀어보기\n",
    "//문의는 카톡 또는 데이콘에서\n",
    "//제출칸은 폴더, 파일을 클릭을 해서 열고 제출.\n"
   ]
  },
  {
   "cell_type": "markdown",
   "id": "de75c966-98d3-4207-801b-5a7364643111",
   "metadata": {},
   "source": [
    "---\n",
    "---"
   ]
  },
  {
   "cell_type": "markdown",
   "id": "49331a91",
   "metadata": {},
   "source": [
    "# <span style=\"color:fuchsia\">**DAY 1 : EDA와 데이터 전처리** </span>\n"
   ]
  },
  {
   "cell_type": "markdown",
   "id": "5fceec0a-4a76-483d-b8d9-ecba1974524a",
   "metadata": {},
   "source": [
    "!conda install matplotlib\n",
    "!conda install \n",
    "!conda install"
   ]
  },
  {
   "cell_type": "code",
   "execution_count": 8,
   "id": "57f42824-d93f-4e6e-a1d3-2dbefefe736d",
   "metadata": {},
   "outputs": [],
   "source": [
    "import os \n",
    "import numpy as np # 행렬연산 및 기본연산 \n",
    "import pandas as pd # 데이터 분석 및 전처리\n",
    "import matplotlib as mpl # 시각화\n",
    "import matplotlib.pyplot as plt\n",
    "# pythion viersion 3.9"
   ]
  },
  {
   "cell_type": "code",
   "execution_count": 9,
   "id": "dc725785-4fc0-4eb0-ae57-dde29441fd02",
   "metadata": {},
   "outputs": [
    {
     "name": "stdout",
     "output_type": "stream",
     "text": [
      "numpy version : 1.19.5\n",
      "pandas version : 1.3.1\n",
      "matplotlib version : 3.3.4\n"
     ]
    }
   ],
   "source": [
    "print('numpy version :', np.__version__)\n",
    "print('pandas version :', pd.__version__)\n",
    "print('matplotlib version :', mpl.__version__)"
   ]
  },
  {
   "cell_type": "markdown",
   "id": "06362371-eb48-4e06-8126-f59c04792a30",
   "metadata": {},
   "source": [
    "---\n",
    "---"
   ]
  },
  {
   "cell_type": "markdown",
   "id": "f2402a16",
   "metadata": {},
   "source": [
    "## <span style=\"color:fuchsia\">**📚  1. 데이터 불러오기**</span> \n",
    "- os.path.join, pd.read_csv"
   ]
  },
  {
   "cell_type": "code",
   "execution_count": 10,
   "id": "548d7817",
   "metadata": {},
   "outputs": [
    {
     "name": "stdout",
     "output_type": "stream",
     "text": [
      "./data\\train.csv\n",
      "./data\\test.csv\n"
     ]
    }
   ],
   "source": [
    "# 맨첨에 경로자체를 변수로 설정을 해서 코랩에서 할때, 쥬피터에서 할 때, \n",
    "# os.path.join을 하면 자동으로 / 파일경로 쳐 줌.\n",
    "BASE_DIR = './data' \n",
    "train_path = os.path.join(BASE_DIR, 'train.csv')\n",
    "test_path = os.path.join(BASE_DIR, 'test.csv')\n",
    "\n",
    "print(train_path)\n",
    "print(test_path)"
   ]
  },
  {
   "cell_type": "code",
   "execution_count": 11,
   "id": "42b572c3",
   "metadata": {},
   "outputs": [],
   "source": [
    "data = pd.read_csv(train_path)\n",
    "test_data = pd.read_csv(test_path)\n",
    "target = data['credit']"
   ]
  },
  {
   "cell_type": "markdown",
   "id": "0670c365-261c-4268-8609-491e1948d3a9",
   "metadata": {},
   "source": [
    "---\n",
    "---"
   ]
  },
  {
   "cell_type": "markdown",
   "id": "a8ab4756",
   "metadata": {},
   "source": [
    "\n",
    "## <span style=\"color:fuchsia\">**📚  2. 데이터 살펴보기**</span> \n",
    "- Type, Shape, Missing Value, Statistics, Distribution, Outlier\n",
    "\n",
    "데이터를 받으면 확인해야할 것 # data.info() -> type, shape, columns, missing value, Dtype 확인 가능\n",
    "\n",
    "1. 컬럼 별 데이터의 형태 (Type) # 전처리가 필요한가, \n",
    "2. 데이터 개수 (Shape)\n",
    "3. 데이터 결측치 (Missing Value) # 머신러닝모델 오류\n",
    "4. 데이터 통계값 (Statistics) # 대표적인 값, 평균, 분산, 표준편차, 중간값, 4분위값 등\n",
    "5. 데이터의 분포 (Distribution) # 시각화해서 볼 것.\n",
    "6. 데이터의 예외값 (Outlier) \n",
    "---\n",
    "### <span style=\"color:fuchsia\">**📚  2-1. 데이터 대략적으로 이해하기**</span>\n",
    "- data.info, data.dtypes, data.describe"
   ]
  },
  {
   "cell_type": "code",
   "execution_count": 6,
   "id": "6589852d",
   "metadata": {},
   "outputs": [
    {
     "data": {
      "text/html": [
       "<div>\n",
       "<style scoped>\n",
       "    .dataframe tbody tr th:only-of-type {\n",
       "        vertical-align: middle;\n",
       "    }\n",
       "\n",
       "    .dataframe tbody tr th {\n",
       "        vertical-align: top;\n",
       "    }\n",
       "\n",
       "    .dataframe thead th {\n",
       "        text-align: right;\n",
       "    }\n",
       "</style>\n",
       "<table border=\"1\" class=\"dataframe\">\n",
       "  <thead>\n",
       "    <tr style=\"text-align: right;\">\n",
       "      <th></th>\n",
       "      <th>index</th>\n",
       "      <th>gender</th>\n",
       "      <th>car</th>\n",
       "      <th>reality</th>\n",
       "      <th>child_num</th>\n",
       "      <th>income_total</th>\n",
       "      <th>income_type</th>\n",
       "      <th>edu_type</th>\n",
       "      <th>family_type</th>\n",
       "      <th>house_type</th>\n",
       "      <th>DAYS_BIRTH</th>\n",
       "      <th>DAYS_EMPLOYED</th>\n",
       "      <th>FLAG_MOBIL</th>\n",
       "      <th>work_phone</th>\n",
       "      <th>phone</th>\n",
       "      <th>email</th>\n",
       "      <th>occyp_type</th>\n",
       "      <th>family_size</th>\n",
       "      <th>begin_month</th>\n",
       "      <th>credit</th>\n",
       "    </tr>\n",
       "  </thead>\n",
       "  <tbody>\n",
       "    <tr>\n",
       "      <th>0</th>\n",
       "      <td>0</td>\n",
       "      <td>F</td>\n",
       "      <td>N</td>\n",
       "      <td>N</td>\n",
       "      <td>0</td>\n",
       "      <td>202500.0</td>\n",
       "      <td>Commercial associate</td>\n",
       "      <td>Higher education</td>\n",
       "      <td>Married</td>\n",
       "      <td>Municipal apartment</td>\n",
       "      <td>-13899</td>\n",
       "      <td>-4709</td>\n",
       "      <td>1</td>\n",
       "      <td>0</td>\n",
       "      <td>0</td>\n",
       "      <td>0</td>\n",
       "      <td>NaN</td>\n",
       "      <td>2.0</td>\n",
       "      <td>-6.0</td>\n",
       "      <td>1.0</td>\n",
       "    </tr>\n",
       "    <tr>\n",
       "      <th>1</th>\n",
       "      <td>1</td>\n",
       "      <td>F</td>\n",
       "      <td>N</td>\n",
       "      <td>Y</td>\n",
       "      <td>1</td>\n",
       "      <td>247500.0</td>\n",
       "      <td>Commercial associate</td>\n",
       "      <td>Secondary / secondary special</td>\n",
       "      <td>Civil marriage</td>\n",
       "      <td>House / apartment</td>\n",
       "      <td>-11380</td>\n",
       "      <td>-1540</td>\n",
       "      <td>1</td>\n",
       "      <td>0</td>\n",
       "      <td>0</td>\n",
       "      <td>1</td>\n",
       "      <td>Laborers</td>\n",
       "      <td>3.0</td>\n",
       "      <td>-5.0</td>\n",
       "      <td>1.0</td>\n",
       "    </tr>\n",
       "    <tr>\n",
       "      <th>2</th>\n",
       "      <td>2</td>\n",
       "      <td>M</td>\n",
       "      <td>Y</td>\n",
       "      <td>Y</td>\n",
       "      <td>0</td>\n",
       "      <td>450000.0</td>\n",
       "      <td>Working</td>\n",
       "      <td>Higher education</td>\n",
       "      <td>Married</td>\n",
       "      <td>House / apartment</td>\n",
       "      <td>-19087</td>\n",
       "      <td>-4434</td>\n",
       "      <td>1</td>\n",
       "      <td>0</td>\n",
       "      <td>1</td>\n",
       "      <td>0</td>\n",
       "      <td>Managers</td>\n",
       "      <td>2.0</td>\n",
       "      <td>-22.0</td>\n",
       "      <td>2.0</td>\n",
       "    </tr>\n",
       "    <tr>\n",
       "      <th>3</th>\n",
       "      <td>3</td>\n",
       "      <td>F</td>\n",
       "      <td>N</td>\n",
       "      <td>Y</td>\n",
       "      <td>0</td>\n",
       "      <td>202500.0</td>\n",
       "      <td>Commercial associate</td>\n",
       "      <td>Secondary / secondary special</td>\n",
       "      <td>Married</td>\n",
       "      <td>House / apartment</td>\n",
       "      <td>-15088</td>\n",
       "      <td>-2092</td>\n",
       "      <td>1</td>\n",
       "      <td>0</td>\n",
       "      <td>1</td>\n",
       "      <td>0</td>\n",
       "      <td>Sales staff</td>\n",
       "      <td>2.0</td>\n",
       "      <td>-37.0</td>\n",
       "      <td>0.0</td>\n",
       "    </tr>\n",
       "    <tr>\n",
       "      <th>4</th>\n",
       "      <td>4</td>\n",
       "      <td>F</td>\n",
       "      <td>Y</td>\n",
       "      <td>Y</td>\n",
       "      <td>0</td>\n",
       "      <td>157500.0</td>\n",
       "      <td>State servant</td>\n",
       "      <td>Higher education</td>\n",
       "      <td>Married</td>\n",
       "      <td>House / apartment</td>\n",
       "      <td>-15037</td>\n",
       "      <td>-2105</td>\n",
       "      <td>1</td>\n",
       "      <td>0</td>\n",
       "      <td>0</td>\n",
       "      <td>0</td>\n",
       "      <td>Managers</td>\n",
       "      <td>2.0</td>\n",
       "      <td>-26.0</td>\n",
       "      <td>2.0</td>\n",
       "    </tr>\n",
       "  </tbody>\n",
       "</table>\n",
       "</div>"
      ],
      "text/plain": [
       "   index gender car reality  child_num  income_total           income_type  \\\n",
       "0      0      F   N       N          0      202500.0  Commercial associate   \n",
       "1      1      F   N       Y          1      247500.0  Commercial associate   \n",
       "2      2      M   Y       Y          0      450000.0               Working   \n",
       "3      3      F   N       Y          0      202500.0  Commercial associate   \n",
       "4      4      F   Y       Y          0      157500.0         State servant   \n",
       "\n",
       "                        edu_type     family_type           house_type  \\\n",
       "0               Higher education         Married  Municipal apartment   \n",
       "1  Secondary / secondary special  Civil marriage    House / apartment   \n",
       "2               Higher education         Married    House / apartment   \n",
       "3  Secondary / secondary special         Married    House / apartment   \n",
       "4               Higher education         Married    House / apartment   \n",
       "\n",
       "   DAYS_BIRTH  DAYS_EMPLOYED  FLAG_MOBIL  work_phone  phone  email  \\\n",
       "0      -13899          -4709           1           0      0      0   \n",
       "1      -11380          -1540           1           0      0      1   \n",
       "2      -19087          -4434           1           0      1      0   \n",
       "3      -15088          -2092           1           0      1      0   \n",
       "4      -15037          -2105           1           0      0      0   \n",
       "\n",
       "    occyp_type  family_size  begin_month  credit  \n",
       "0          NaN          2.0         -6.0     1.0  \n",
       "1     Laborers          3.0         -5.0     1.0  \n",
       "2     Managers          2.0        -22.0     2.0  \n",
       "3  Sales staff          2.0        -37.0     0.0  \n",
       "4     Managers          2.0        -26.0     2.0  "
      ]
     },
     "execution_count": 6,
     "metadata": {},
     "output_type": "execute_result"
    }
   ],
   "source": [
    "data.head() # 컬럼별 형태나 , 데이터 예측"
   ]
  },
  {
   "cell_type": "markdown",
   "id": "a7591447-b013-4f42-90e5-3e516abac376",
   "metadata": {},
   "source": [
    "데이터를 꼼꼼히 볼것"
   ]
  },
  {
   "cell_type": "markdown",
   "id": "0c88d345",
   "metadata": {},
   "source": [
    "- `index`: 인덱스\n",
    "- `gender`: 성별\n",
    "- `car`: 차량 소유 여부\n",
    "- `reality`: 부동산 소유 여부\n",
    "- `child_num`: 자녀 수\n",
    "- `income_total`: 연간 소득 # 달러로 예측\n",
    "- `income_type`: 소득 분류\n",
    "    - ['Commercial associate', 'Working', 'State servant', 'Pensioner', 'Student']\n",
    "- `edu_type`: 교육 수준 \n",
    "    - ['Higher education' ,'Secondary / secondary special', 'Incomplete higher', 'Lower secondary', 'Academic degree']\n",
    "- `family_type`: 결혼 여부 \n",
    "    - ['Married', 'Civil marriage', 'Separated', 'Single / not married', 'Widow']\n",
    "- `house_type`: 생활 방식\n",
    "    - ['Municipal apartment', 'House / apartment', 'With parents', 'Co-op apartment', 'Rented apartment', 'Office apartment']\n",
    "- `DAYS_BIRTH`: 출생일\n",
    "    - 데이터 수집 당시 (0)부터 역으로 셈, 즉, -1은 데이터 수집일 하루 전에 태어났음을 의미\n",
    "- `DAYS_EMPLOYED`: 업무 시작일\n",
    "    - 데이터 수집 당시 (0)부터 역으로 셈, 즉, -1은 데이터 수집일 하루 전부터 일을 시작함을 의미\n",
    "    - 양수 값은 고용되지 않은 상태를 의미함\n",
    "- `FLAG_MOBIL`: 핸드폰 소유 여부\n",
    "- `work_phone`: 업무용 전화 소유 여부\n",
    "- `phone`: 전화 소유 여부\n",
    "- `email`: 이메일 소유 여부\n",
    "- `occyp_type`: 직업 유형\t# NaN 잘못 되어있거나, 결측치\t\t\t\t\t\t\t\t\t\t\t\t\n",
    "- `family_size`: 가족 규모 # 소수점있으면 안될 것 실수로 변환\n",
    "- `begin_month`: 신용카드 발급 월\n",
    "    - 데이터 수집 당시 (0)부터 역으로 셈, 즉, -1은 데이터 수집일 한 달 전에 신용카드를 발급함을 의미\n",
    "- `credit`: 사용자의 신용카드 대금 연체를 기준으로 한 신용도\n",
    "    - => 낮을 수록 높은 신용의 신용카드 사용자를 의미함"
   ]
  },
  {
   "cell_type": "code",
   "execution_count": 7,
   "id": "7ce633d2",
   "metadata": {},
   "outputs": [
    {
     "name": "stdout",
     "output_type": "stream",
     "text": [
      "<class 'pandas.core.frame.DataFrame'>\n",
      "RangeIndex: 26457 entries, 0 to 26456\n",
      "Data columns (total 20 columns):\n",
      " #   Column         Non-Null Count  Dtype  \n",
      "---  ------         --------------  -----  \n",
      " 0   index          26457 non-null  int64  \n",
      " 1   gender         26457 non-null  object \n",
      " 2   car            26457 non-null  object \n",
      " 3   reality        26457 non-null  object \n",
      " 4   child_num      26457 non-null  int64  \n",
      " 5   income_total   26457 non-null  float64\n",
      " 6   income_type    26457 non-null  object \n",
      " 7   edu_type       26457 non-null  object \n",
      " 8   family_type    26457 non-null  object \n",
      " 9   house_type     26457 non-null  object \n",
      " 10  DAYS_BIRTH     26457 non-null  int64  \n",
      " 11  DAYS_EMPLOYED  26457 non-null  int64  \n",
      " 12  FLAG_MOBIL     26457 non-null  int64  \n",
      " 13  work_phone     26457 non-null  int64  \n",
      " 14  phone          26457 non-null  int64  \n",
      " 15  email          26457 non-null  int64  \n",
      " 16  occyp_type     18286 non-null  object \n",
      " 17  family_size    26457 non-null  float64\n",
      " 18  begin_month    26457 non-null  float64\n",
      " 19  credit         26457 non-null  float64\n",
      "dtypes: float64(4), int64(8), object(8)\n",
      "memory usage: 4.0+ MB\n"
     ]
    }
   ],
   "source": [
    "data.info() \n",
    "# 컬럼정보확인가능. 직업유형만 결측치가 있으니 전처리가 필요하다. \n",
    "# dtype object 범주형(카테고리형) 머신러닝을 거쳐야함. "
   ]
  },
  {
   "cell_type": "markdown",
   "id": "a67dc1f2",
   "metadata": {},
   "source": [
    "범주형과 수치형을 분류해서 살펴본다."
   ]
  },
  {
   "cell_type": "code",
   "execution_count": 12,
   "id": "de607448",
   "metadata": {},
   "outputs": [
    {
     "name": "stdout",
     "output_type": "stream",
     "text": [
      "Categorical Columns: \n",
      "['gender', 'car', 'reality', 'income_type', 'edu_type', 'family_type', 'house_type', 'occyp_type']\n",
      "\n",
      "Numeric Columns: \n",
      "['index', 'child_num', 'income_total', 'DAYS_BIRTH', 'DAYS_EMPLOYED', 'FLAG_MOBIL', 'work_phone', 'phone', 'email', 'family_size', 'begin_month', 'credit']\n",
      "\n"
     ]
    }
   ],
   "source": [
    "# for dt_inx, dt in zip(data.dtypes.index):\n",
    "# print(dt_index, dt)\n",
    "# 카테고리 컬럼은 다 전처리가 필요하다고 생각하면 된다.\n",
    "cat_columns = [c for c, t in zip(data.dtypes.index, data.dtypes) if t=='O'] \n",
    "num_columns = [c for c in data.columns if c not in cat_columns]\n",
    "\n",
    "print(f'Categorical Columns: \\n{cat_columns}\\n')\n",
    "print(f'Numeric Columns: \\n{num_columns}\\n')"
   ]
  },
  {
   "cell_type": "code",
   "execution_count": 13,
   "id": "9e07633f",
   "metadata": {},
   "outputs": [
    {
     "data": {
      "text/html": [
       "<div>\n",
       "<style scoped>\n",
       "    .dataframe tbody tr th:only-of-type {\n",
       "        vertical-align: middle;\n",
       "    }\n",
       "\n",
       "    .dataframe tbody tr th {\n",
       "        vertical-align: top;\n",
       "    }\n",
       "\n",
       "    .dataframe thead th {\n",
       "        text-align: right;\n",
       "    }\n",
       "</style>\n",
       "<table border=\"1\" class=\"dataframe\">\n",
       "  <thead>\n",
       "    <tr style=\"text-align: right;\">\n",
       "      <th></th>\n",
       "      <th>count</th>\n",
       "      <th>mean</th>\n",
       "      <th>std</th>\n",
       "      <th>min</th>\n",
       "      <th>25%</th>\n",
       "      <th>50%</th>\n",
       "      <th>75%</th>\n",
       "      <th>max</th>\n",
       "    </tr>\n",
       "  </thead>\n",
       "  <tbody>\n",
       "    <tr>\n",
       "      <th>index</th>\n",
       "      <td>26457.0</td>\n",
       "      <td>13228.000000</td>\n",
       "      <td>7637.622372</td>\n",
       "      <td>0.0</td>\n",
       "      <td>6614.0</td>\n",
       "      <td>13228.0</td>\n",
       "      <td>19842.0</td>\n",
       "      <td>26456.0</td>\n",
       "    </tr>\n",
       "    <tr>\n",
       "      <th>child_num</th>\n",
       "      <td>26457.0</td>\n",
       "      <td>0.428658</td>\n",
       "      <td>0.747326</td>\n",
       "      <td>0.0</td>\n",
       "      <td>0.0</td>\n",
       "      <td>0.0</td>\n",
       "      <td>1.0</td>\n",
       "      <td>19.0</td>\n",
       "    </tr>\n",
       "    <tr>\n",
       "      <th>income_total</th>\n",
       "      <td>26457.0</td>\n",
       "      <td>187306.524493</td>\n",
       "      <td>101878.367995</td>\n",
       "      <td>27000.0</td>\n",
       "      <td>121500.0</td>\n",
       "      <td>157500.0</td>\n",
       "      <td>225000.0</td>\n",
       "      <td>1575000.0</td>\n",
       "    </tr>\n",
       "    <tr>\n",
       "      <th>DAYS_BIRTH</th>\n",
       "      <td>26457.0</td>\n",
       "      <td>-15958.053899</td>\n",
       "      <td>4201.589022</td>\n",
       "      <td>-25152.0</td>\n",
       "      <td>-19431.0</td>\n",
       "      <td>-15547.0</td>\n",
       "      <td>-12446.0</td>\n",
       "      <td>-7705.0</td>\n",
       "    </tr>\n",
       "    <tr>\n",
       "      <th>DAYS_EMPLOYED</th>\n",
       "      <td>26457.0</td>\n",
       "      <td>59068.750728</td>\n",
       "      <td>137475.427503</td>\n",
       "      <td>-15713.0</td>\n",
       "      <td>-3153.0</td>\n",
       "      <td>-1539.0</td>\n",
       "      <td>-407.0</td>\n",
       "      <td>365243.0</td>\n",
       "    </tr>\n",
       "    <tr>\n",
       "      <th>FLAG_MOBIL</th>\n",
       "      <td>26457.0</td>\n",
       "      <td>1.000000</td>\n",
       "      <td>0.000000</td>\n",
       "      <td>1.0</td>\n",
       "      <td>1.0</td>\n",
       "      <td>1.0</td>\n",
       "      <td>1.0</td>\n",
       "      <td>1.0</td>\n",
       "    </tr>\n",
       "    <tr>\n",
       "      <th>work_phone</th>\n",
       "      <td>26457.0</td>\n",
       "      <td>0.224742</td>\n",
       "      <td>0.417420</td>\n",
       "      <td>0.0</td>\n",
       "      <td>0.0</td>\n",
       "      <td>0.0</td>\n",
       "      <td>0.0</td>\n",
       "      <td>1.0</td>\n",
       "    </tr>\n",
       "    <tr>\n",
       "      <th>phone</th>\n",
       "      <td>26457.0</td>\n",
       "      <td>0.294251</td>\n",
       "      <td>0.455714</td>\n",
       "      <td>0.0</td>\n",
       "      <td>0.0</td>\n",
       "      <td>0.0</td>\n",
       "      <td>1.0</td>\n",
       "      <td>1.0</td>\n",
       "    </tr>\n",
       "    <tr>\n",
       "      <th>email</th>\n",
       "      <td>26457.0</td>\n",
       "      <td>0.091280</td>\n",
       "      <td>0.288013</td>\n",
       "      <td>0.0</td>\n",
       "      <td>0.0</td>\n",
       "      <td>0.0</td>\n",
       "      <td>0.0</td>\n",
       "      <td>1.0</td>\n",
       "    </tr>\n",
       "    <tr>\n",
       "      <th>family_size</th>\n",
       "      <td>26457.0</td>\n",
       "      <td>2.196848</td>\n",
       "      <td>0.916717</td>\n",
       "      <td>1.0</td>\n",
       "      <td>2.0</td>\n",
       "      <td>2.0</td>\n",
       "      <td>3.0</td>\n",
       "      <td>20.0</td>\n",
       "    </tr>\n",
       "    <tr>\n",
       "      <th>begin_month</th>\n",
       "      <td>26457.0</td>\n",
       "      <td>-26.123294</td>\n",
       "      <td>16.559550</td>\n",
       "      <td>-60.0</td>\n",
       "      <td>-39.0</td>\n",
       "      <td>-24.0</td>\n",
       "      <td>-12.0</td>\n",
       "      <td>0.0</td>\n",
       "    </tr>\n",
       "    <tr>\n",
       "      <th>credit</th>\n",
       "      <td>26457.0</td>\n",
       "      <td>1.519560</td>\n",
       "      <td>0.702283</td>\n",
       "      <td>0.0</td>\n",
       "      <td>1.0</td>\n",
       "      <td>2.0</td>\n",
       "      <td>2.0</td>\n",
       "      <td>2.0</td>\n",
       "    </tr>\n",
       "  </tbody>\n",
       "</table>\n",
       "</div>"
      ],
      "text/plain": [
       "                 count           mean            std      min       25%  \\\n",
       "index          26457.0   13228.000000    7637.622372      0.0    6614.0   \n",
       "child_num      26457.0       0.428658       0.747326      0.0       0.0   \n",
       "income_total   26457.0  187306.524493  101878.367995  27000.0  121500.0   \n",
       "DAYS_BIRTH     26457.0  -15958.053899    4201.589022 -25152.0  -19431.0   \n",
       "DAYS_EMPLOYED  26457.0   59068.750728  137475.427503 -15713.0   -3153.0   \n",
       "FLAG_MOBIL     26457.0       1.000000       0.000000      1.0       1.0   \n",
       "work_phone     26457.0       0.224742       0.417420      0.0       0.0   \n",
       "phone          26457.0       0.294251       0.455714      0.0       0.0   \n",
       "email          26457.0       0.091280       0.288013      0.0       0.0   \n",
       "family_size    26457.0       2.196848       0.916717      1.0       2.0   \n",
       "begin_month    26457.0     -26.123294      16.559550    -60.0     -39.0   \n",
       "credit         26457.0       1.519560       0.702283      0.0       1.0   \n",
       "\n",
       "                    50%       75%        max  \n",
       "index           13228.0   19842.0    26456.0  \n",
       "child_num           0.0       1.0       19.0  \n",
       "income_total   157500.0  225000.0  1575000.0  \n",
       "DAYS_BIRTH     -15547.0  -12446.0    -7705.0  \n",
       "DAYS_EMPLOYED   -1539.0    -407.0   365243.0  \n",
       "FLAG_MOBIL          1.0       1.0        1.0  \n",
       "work_phone          0.0       0.0        1.0  \n",
       "phone               0.0       1.0        1.0  \n",
       "email               0.0       0.0        1.0  \n",
       "family_size         2.0       3.0       20.0  \n",
       "begin_month       -24.0     -12.0        0.0  \n",
       "credit              2.0       2.0        2.0  "
      ]
     },
     "execution_count": 13,
     "metadata": {},
     "output_type": "execute_result"
    }
   ],
   "source": [
    "data.describe().T # 특정 컬럼 컬러링가능\n",
    "# use style\n",
    "# 평균과 중간값 min, max확인이 가장 중요\n",
    "# 얼마나 편향되어있는가를 볼 수 있음\n",
    "# 데이터의 범위로 min, max outlier로 \n",
    "# income_total 70배 차이.. 데이터를 살펴봐야겠다.\n",
    "# describe 수치형데이터만"
   ]
  },
  {
   "cell_type": "code",
   "execution_count": 14,
   "id": "f5a32b86",
   "metadata": {},
   "outputs": [
    {
     "data": {
      "text/html": [
       "<div>\n",
       "<style scoped>\n",
       "    .dataframe tbody tr th:only-of-type {\n",
       "        vertical-align: middle;\n",
       "    }\n",
       "\n",
       "    .dataframe tbody tr th {\n",
       "        vertical-align: top;\n",
       "    }\n",
       "\n",
       "    .dataframe thead th {\n",
       "        text-align: right;\n",
       "    }\n",
       "</style>\n",
       "<table border=\"1\" class=\"dataframe\">\n",
       "  <thead>\n",
       "    <tr style=\"text-align: right;\">\n",
       "      <th></th>\n",
       "      <th>count</th>\n",
       "      <th>unique</th>\n",
       "      <th>top</th>\n",
       "      <th>freq</th>\n",
       "    </tr>\n",
       "  </thead>\n",
       "  <tbody>\n",
       "    <tr>\n",
       "      <th>gender</th>\n",
       "      <td>26457</td>\n",
       "      <td>2</td>\n",
       "      <td>F</td>\n",
       "      <td>17697</td>\n",
       "    </tr>\n",
       "    <tr>\n",
       "      <th>car</th>\n",
       "      <td>26457</td>\n",
       "      <td>2</td>\n",
       "      <td>N</td>\n",
       "      <td>16410</td>\n",
       "    </tr>\n",
       "    <tr>\n",
       "      <th>reality</th>\n",
       "      <td>26457</td>\n",
       "      <td>2</td>\n",
       "      <td>Y</td>\n",
       "      <td>17830</td>\n",
       "    </tr>\n",
       "    <tr>\n",
       "      <th>income_type</th>\n",
       "      <td>26457</td>\n",
       "      <td>5</td>\n",
       "      <td>Working</td>\n",
       "      <td>13645</td>\n",
       "    </tr>\n",
       "    <tr>\n",
       "      <th>edu_type</th>\n",
       "      <td>26457</td>\n",
       "      <td>5</td>\n",
       "      <td>Secondary / secondary special</td>\n",
       "      <td>17995</td>\n",
       "    </tr>\n",
       "    <tr>\n",
       "      <th>family_type</th>\n",
       "      <td>26457</td>\n",
       "      <td>5</td>\n",
       "      <td>Married</td>\n",
       "      <td>18196</td>\n",
       "    </tr>\n",
       "    <tr>\n",
       "      <th>house_type</th>\n",
       "      <td>26457</td>\n",
       "      <td>6</td>\n",
       "      <td>House / apartment</td>\n",
       "      <td>23653</td>\n",
       "    </tr>\n",
       "    <tr>\n",
       "      <th>occyp_type</th>\n",
       "      <td>18286</td>\n",
       "      <td>18</td>\n",
       "      <td>Laborers</td>\n",
       "      <td>4512</td>\n",
       "    </tr>\n",
       "  </tbody>\n",
       "</table>\n",
       "</div>"
      ],
      "text/plain": [
       "             count unique                            top   freq\n",
       "gender       26457      2                              F  17697\n",
       "car          26457      2                              N  16410\n",
       "reality      26457      2                              Y  17830\n",
       "income_type  26457      5                        Working  13645\n",
       "edu_type     26457      5  Secondary / secondary special  17995\n",
       "family_type  26457      5                        Married  18196\n",
       "house_type   26457      6              House / apartment  23653\n",
       "occyp_type   18286     18                       Laborers   4512"
      ]
     },
     "execution_count": 14,
     "metadata": {},
     "output_type": "execute_result"
    }
   ],
   "source": [
    "data.describe(include='O').T # 카테고리형,범주형만 보여줌.\n",
    "# unique 종류\n",
    "# 데이터를 어떤 목적으로 쌓았는지도 알 수 있음. 원래 수집했던사람은 이정도면 충분하다고 생각했던것. 왜 이렇게 나눴을까 생각하는것도 모델링관점에서 도움이 될것."
   ]
  },
  {
   "cell_type": "code",
   "execution_count": 15,
   "id": "85924bef-c19f-4753-8f4e-a530ef34eb0a",
   "metadata": {},
   "outputs": [
    {
     "data": {
      "text/html": [
       "<div>\n",
       "<style scoped>\n",
       "    .dataframe tbody tr th:only-of-type {\n",
       "        vertical-align: middle;\n",
       "    }\n",
       "\n",
       "    .dataframe tbody tr th {\n",
       "        vertical-align: top;\n",
       "    }\n",
       "\n",
       "    .dataframe thead th {\n",
       "        text-align: right;\n",
       "    }\n",
       "</style>\n",
       "<table border=\"1\" class=\"dataframe\">\n",
       "  <thead>\n",
       "    <tr style=\"text-align: right;\">\n",
       "      <th></th>\n",
       "      <th>count</th>\n",
       "      <th>unique</th>\n",
       "      <th>top</th>\n",
       "      <th>freq</th>\n",
       "      <th>mean</th>\n",
       "      <th>std</th>\n",
       "      <th>min</th>\n",
       "      <th>25%</th>\n",
       "      <th>50%</th>\n",
       "      <th>75%</th>\n",
       "      <th>max</th>\n",
       "    </tr>\n",
       "  </thead>\n",
       "  <tbody>\n",
       "    <tr>\n",
       "      <th>index</th>\n",
       "      <td>26457.0</td>\n",
       "      <td>NaN</td>\n",
       "      <td>NaN</td>\n",
       "      <td>NaN</td>\n",
       "      <td>13228.0</td>\n",
       "      <td>7637.622372</td>\n",
       "      <td>0.0</td>\n",
       "      <td>6614.0</td>\n",
       "      <td>13228.0</td>\n",
       "      <td>19842.0</td>\n",
       "      <td>26456.0</td>\n",
       "    </tr>\n",
       "    <tr>\n",
       "      <th>gender</th>\n",
       "      <td>26457</td>\n",
       "      <td>2</td>\n",
       "      <td>F</td>\n",
       "      <td>17697</td>\n",
       "      <td>NaN</td>\n",
       "      <td>NaN</td>\n",
       "      <td>NaN</td>\n",
       "      <td>NaN</td>\n",
       "      <td>NaN</td>\n",
       "      <td>NaN</td>\n",
       "      <td>NaN</td>\n",
       "    </tr>\n",
       "    <tr>\n",
       "      <th>car</th>\n",
       "      <td>26457</td>\n",
       "      <td>2</td>\n",
       "      <td>N</td>\n",
       "      <td>16410</td>\n",
       "      <td>NaN</td>\n",
       "      <td>NaN</td>\n",
       "      <td>NaN</td>\n",
       "      <td>NaN</td>\n",
       "      <td>NaN</td>\n",
       "      <td>NaN</td>\n",
       "      <td>NaN</td>\n",
       "    </tr>\n",
       "    <tr>\n",
       "      <th>reality</th>\n",
       "      <td>26457</td>\n",
       "      <td>2</td>\n",
       "      <td>Y</td>\n",
       "      <td>17830</td>\n",
       "      <td>NaN</td>\n",
       "      <td>NaN</td>\n",
       "      <td>NaN</td>\n",
       "      <td>NaN</td>\n",
       "      <td>NaN</td>\n",
       "      <td>NaN</td>\n",
       "      <td>NaN</td>\n",
       "    </tr>\n",
       "    <tr>\n",
       "      <th>child_num</th>\n",
       "      <td>26457.0</td>\n",
       "      <td>NaN</td>\n",
       "      <td>NaN</td>\n",
       "      <td>NaN</td>\n",
       "      <td>0.428658</td>\n",
       "      <td>0.747326</td>\n",
       "      <td>0.0</td>\n",
       "      <td>0.0</td>\n",
       "      <td>0.0</td>\n",
       "      <td>1.0</td>\n",
       "      <td>19.0</td>\n",
       "    </tr>\n",
       "    <tr>\n",
       "      <th>income_total</th>\n",
       "      <td>26457.0</td>\n",
       "      <td>NaN</td>\n",
       "      <td>NaN</td>\n",
       "      <td>NaN</td>\n",
       "      <td>187306.524493</td>\n",
       "      <td>101878.367995</td>\n",
       "      <td>27000.0</td>\n",
       "      <td>121500.0</td>\n",
       "      <td>157500.0</td>\n",
       "      <td>225000.0</td>\n",
       "      <td>1575000.0</td>\n",
       "    </tr>\n",
       "    <tr>\n",
       "      <th>income_type</th>\n",
       "      <td>26457</td>\n",
       "      <td>5</td>\n",
       "      <td>Working</td>\n",
       "      <td>13645</td>\n",
       "      <td>NaN</td>\n",
       "      <td>NaN</td>\n",
       "      <td>NaN</td>\n",
       "      <td>NaN</td>\n",
       "      <td>NaN</td>\n",
       "      <td>NaN</td>\n",
       "      <td>NaN</td>\n",
       "    </tr>\n",
       "    <tr>\n",
       "      <th>edu_type</th>\n",
       "      <td>26457</td>\n",
       "      <td>5</td>\n",
       "      <td>Secondary / secondary special</td>\n",
       "      <td>17995</td>\n",
       "      <td>NaN</td>\n",
       "      <td>NaN</td>\n",
       "      <td>NaN</td>\n",
       "      <td>NaN</td>\n",
       "      <td>NaN</td>\n",
       "      <td>NaN</td>\n",
       "      <td>NaN</td>\n",
       "    </tr>\n",
       "    <tr>\n",
       "      <th>family_type</th>\n",
       "      <td>26457</td>\n",
       "      <td>5</td>\n",
       "      <td>Married</td>\n",
       "      <td>18196</td>\n",
       "      <td>NaN</td>\n",
       "      <td>NaN</td>\n",
       "      <td>NaN</td>\n",
       "      <td>NaN</td>\n",
       "      <td>NaN</td>\n",
       "      <td>NaN</td>\n",
       "      <td>NaN</td>\n",
       "    </tr>\n",
       "    <tr>\n",
       "      <th>house_type</th>\n",
       "      <td>26457</td>\n",
       "      <td>6</td>\n",
       "      <td>House / apartment</td>\n",
       "      <td>23653</td>\n",
       "      <td>NaN</td>\n",
       "      <td>NaN</td>\n",
       "      <td>NaN</td>\n",
       "      <td>NaN</td>\n",
       "      <td>NaN</td>\n",
       "      <td>NaN</td>\n",
       "      <td>NaN</td>\n",
       "    </tr>\n",
       "    <tr>\n",
       "      <th>DAYS_BIRTH</th>\n",
       "      <td>26457.0</td>\n",
       "      <td>NaN</td>\n",
       "      <td>NaN</td>\n",
       "      <td>NaN</td>\n",
       "      <td>-15958.053899</td>\n",
       "      <td>4201.589022</td>\n",
       "      <td>-25152.0</td>\n",
       "      <td>-19431.0</td>\n",
       "      <td>-15547.0</td>\n",
       "      <td>-12446.0</td>\n",
       "      <td>-7705.0</td>\n",
       "    </tr>\n",
       "    <tr>\n",
       "      <th>DAYS_EMPLOYED</th>\n",
       "      <td>26457.0</td>\n",
       "      <td>NaN</td>\n",
       "      <td>NaN</td>\n",
       "      <td>NaN</td>\n",
       "      <td>59068.750728</td>\n",
       "      <td>137475.427503</td>\n",
       "      <td>-15713.0</td>\n",
       "      <td>-3153.0</td>\n",
       "      <td>-1539.0</td>\n",
       "      <td>-407.0</td>\n",
       "      <td>365243.0</td>\n",
       "    </tr>\n",
       "    <tr>\n",
       "      <th>FLAG_MOBIL</th>\n",
       "      <td>26457.0</td>\n",
       "      <td>NaN</td>\n",
       "      <td>NaN</td>\n",
       "      <td>NaN</td>\n",
       "      <td>1.0</td>\n",
       "      <td>0.0</td>\n",
       "      <td>1.0</td>\n",
       "      <td>1.0</td>\n",
       "      <td>1.0</td>\n",
       "      <td>1.0</td>\n",
       "      <td>1.0</td>\n",
       "    </tr>\n",
       "    <tr>\n",
       "      <th>work_phone</th>\n",
       "      <td>26457.0</td>\n",
       "      <td>NaN</td>\n",
       "      <td>NaN</td>\n",
       "      <td>NaN</td>\n",
       "      <td>0.224742</td>\n",
       "      <td>0.41742</td>\n",
       "      <td>0.0</td>\n",
       "      <td>0.0</td>\n",
       "      <td>0.0</td>\n",
       "      <td>0.0</td>\n",
       "      <td>1.0</td>\n",
       "    </tr>\n",
       "    <tr>\n",
       "      <th>phone</th>\n",
       "      <td>26457.0</td>\n",
       "      <td>NaN</td>\n",
       "      <td>NaN</td>\n",
       "      <td>NaN</td>\n",
       "      <td>0.294251</td>\n",
       "      <td>0.455714</td>\n",
       "      <td>0.0</td>\n",
       "      <td>0.0</td>\n",
       "      <td>0.0</td>\n",
       "      <td>1.0</td>\n",
       "      <td>1.0</td>\n",
       "    </tr>\n",
       "    <tr>\n",
       "      <th>email</th>\n",
       "      <td>26457.0</td>\n",
       "      <td>NaN</td>\n",
       "      <td>NaN</td>\n",
       "      <td>NaN</td>\n",
       "      <td>0.09128</td>\n",
       "      <td>0.288013</td>\n",
       "      <td>0.0</td>\n",
       "      <td>0.0</td>\n",
       "      <td>0.0</td>\n",
       "      <td>0.0</td>\n",
       "      <td>1.0</td>\n",
       "    </tr>\n",
       "    <tr>\n",
       "      <th>occyp_type</th>\n",
       "      <td>18286</td>\n",
       "      <td>18</td>\n",
       "      <td>Laborers</td>\n",
       "      <td>4512</td>\n",
       "      <td>NaN</td>\n",
       "      <td>NaN</td>\n",
       "      <td>NaN</td>\n",
       "      <td>NaN</td>\n",
       "      <td>NaN</td>\n",
       "      <td>NaN</td>\n",
       "      <td>NaN</td>\n",
       "    </tr>\n",
       "    <tr>\n",
       "      <th>family_size</th>\n",
       "      <td>26457.0</td>\n",
       "      <td>NaN</td>\n",
       "      <td>NaN</td>\n",
       "      <td>NaN</td>\n",
       "      <td>2.196848</td>\n",
       "      <td>0.916717</td>\n",
       "      <td>1.0</td>\n",
       "      <td>2.0</td>\n",
       "      <td>2.0</td>\n",
       "      <td>3.0</td>\n",
       "      <td>20.0</td>\n",
       "    </tr>\n",
       "    <tr>\n",
       "      <th>begin_month</th>\n",
       "      <td>26457.0</td>\n",
       "      <td>NaN</td>\n",
       "      <td>NaN</td>\n",
       "      <td>NaN</td>\n",
       "      <td>-26.123294</td>\n",
       "      <td>16.55955</td>\n",
       "      <td>-60.0</td>\n",
       "      <td>-39.0</td>\n",
       "      <td>-24.0</td>\n",
       "      <td>-12.0</td>\n",
       "      <td>0.0</td>\n",
       "    </tr>\n",
       "    <tr>\n",
       "      <th>credit</th>\n",
       "      <td>26457.0</td>\n",
       "      <td>NaN</td>\n",
       "      <td>NaN</td>\n",
       "      <td>NaN</td>\n",
       "      <td>1.51956</td>\n",
       "      <td>0.702283</td>\n",
       "      <td>0.0</td>\n",
       "      <td>1.0</td>\n",
       "      <td>2.0</td>\n",
       "      <td>2.0</td>\n",
       "      <td>2.0</td>\n",
       "    </tr>\n",
       "  </tbody>\n",
       "</table>\n",
       "</div>"
      ],
      "text/plain": [
       "                 count unique                            top   freq  \\\n",
       "index          26457.0    NaN                            NaN    NaN   \n",
       "gender           26457      2                              F  17697   \n",
       "car              26457      2                              N  16410   \n",
       "reality          26457      2                              Y  17830   \n",
       "child_num      26457.0    NaN                            NaN    NaN   \n",
       "income_total   26457.0    NaN                            NaN    NaN   \n",
       "income_type      26457      5                        Working  13645   \n",
       "edu_type         26457      5  Secondary / secondary special  17995   \n",
       "family_type      26457      5                        Married  18196   \n",
       "house_type       26457      6              House / apartment  23653   \n",
       "DAYS_BIRTH     26457.0    NaN                            NaN    NaN   \n",
       "DAYS_EMPLOYED  26457.0    NaN                            NaN    NaN   \n",
       "FLAG_MOBIL     26457.0    NaN                            NaN    NaN   \n",
       "work_phone     26457.0    NaN                            NaN    NaN   \n",
       "phone          26457.0    NaN                            NaN    NaN   \n",
       "email          26457.0    NaN                            NaN    NaN   \n",
       "occyp_type       18286     18                       Laborers   4512   \n",
       "family_size    26457.0    NaN                            NaN    NaN   \n",
       "begin_month    26457.0    NaN                            NaN    NaN   \n",
       "credit         26457.0    NaN                            NaN    NaN   \n",
       "\n",
       "                        mean            std      min       25%       50%  \\\n",
       "index                13228.0    7637.622372      0.0    6614.0   13228.0   \n",
       "gender                   NaN            NaN      NaN       NaN       NaN   \n",
       "car                      NaN            NaN      NaN       NaN       NaN   \n",
       "reality                  NaN            NaN      NaN       NaN       NaN   \n",
       "child_num           0.428658       0.747326      0.0       0.0       0.0   \n",
       "income_total   187306.524493  101878.367995  27000.0  121500.0  157500.0   \n",
       "income_type              NaN            NaN      NaN       NaN       NaN   \n",
       "edu_type                 NaN            NaN      NaN       NaN       NaN   \n",
       "family_type              NaN            NaN      NaN       NaN       NaN   \n",
       "house_type               NaN            NaN      NaN       NaN       NaN   \n",
       "DAYS_BIRTH     -15958.053899    4201.589022 -25152.0  -19431.0  -15547.0   \n",
       "DAYS_EMPLOYED   59068.750728  137475.427503 -15713.0   -3153.0   -1539.0   \n",
       "FLAG_MOBIL               1.0            0.0      1.0       1.0       1.0   \n",
       "work_phone          0.224742        0.41742      0.0       0.0       0.0   \n",
       "phone               0.294251       0.455714      0.0       0.0       0.0   \n",
       "email                0.09128       0.288013      0.0       0.0       0.0   \n",
       "occyp_type               NaN            NaN      NaN       NaN       NaN   \n",
       "family_size         2.196848       0.916717      1.0       2.0       2.0   \n",
       "begin_month       -26.123294       16.55955    -60.0     -39.0     -24.0   \n",
       "credit               1.51956       0.702283      0.0       1.0       2.0   \n",
       "\n",
       "                    75%        max  \n",
       "index           19842.0    26456.0  \n",
       "gender              NaN        NaN  \n",
       "car                 NaN        NaN  \n",
       "reality             NaN        NaN  \n",
       "child_num           1.0       19.0  \n",
       "income_total   225000.0  1575000.0  \n",
       "income_type         NaN        NaN  \n",
       "edu_type            NaN        NaN  \n",
       "family_type         NaN        NaN  \n",
       "house_type          NaN        NaN  \n",
       "DAYS_BIRTH     -12446.0    -7705.0  \n",
       "DAYS_EMPLOYED    -407.0   365243.0  \n",
       "FLAG_MOBIL          1.0        1.0  \n",
       "work_phone          0.0        1.0  \n",
       "phone               1.0        1.0  \n",
       "email               0.0        1.0  \n",
       "occyp_type          NaN        NaN  \n",
       "family_size         3.0       20.0  \n",
       "begin_month       -12.0        0.0  \n",
       "credit              2.0        2.0  "
      ]
     },
     "execution_count": 15,
     "metadata": {},
     "output_type": "execute_result"
    }
   ],
   "source": [
    "data.describe(include='all').T \n",
    "# 카테고리 정보에서 뉴머릭한 정보는 필요없음.\n",
    "# 따로 보는게 강사는 낫다고 생각."
   ]
  },
  {
   "cell_type": "markdown",
   "id": "e80f5c0b",
   "metadata": {},
   "source": [
    "---\n",
    "### <span style=\"color:fuchsia\">**📚 2-2. 데이터 결측치, 분포, 예외치 확인하기**</span> \n",
    "- msno.matrix,data.isna().sum, .value_counts // sns.countplot.histplot.kdeplot.scatterplot // .value_counts().sort_values, .groupby(['',''])[''].mean, data[['']].describe\n"
   ]
  },
  {
   "cell_type": "code",
   "execution_count": 16,
   "id": "9288ba47-12b4-40c1-bbe7-6ab18096a423",
   "metadata": {},
   "outputs": [],
   "source": [
    "# !conda install missingno"
   ]
  },
  {
   "cell_type": "code",
   "execution_count": 17,
   "id": "91134627",
   "metadata": {},
   "outputs": [
    {
     "data": {
      "text/plain": [
       "<AxesSubplot:>"
      ]
     },
     "execution_count": 17,
     "metadata": {},
     "output_type": "execute_result"
    },
    {
     "data": {
      "image/png": "[encoded data removed]",
      "text/plain": [
       "<Figure size 1800x720 with 2 Axes>"
      ]
     },
     "metadata": {
      "needs_background": "light"
     },
     "output_type": "display_data"
    }
   ],
   "source": [
    "# 대부분의 머신러닝 모델들은 결측치를 받아들이지 못함.\n",
    "# 데이터에서는 0 !=Null != {}\n",
    "# 결측치 채우는것은 연구가 되고있음. catboosting이런건 결측치를 알아서 채워줌.\n",
    "import missingno as msno\n",
    "\n",
    "msno.matrix(data, sort='ascending')"
   ]
  },
  {
   "cell_type": "code",
   "execution_count": 18,
   "id": "4cb13fa1-d1da-46b3-abd6-d9bc1ebfdbe7",
   "metadata": {},
   "outputs": [
    {
     "data": {
      "text/plain": [
       "index            0.000000\n",
       "gender           0.000000\n",
       "car              0.000000\n",
       "reality          0.000000\n",
       "child_num        0.000000\n",
       "income_total     0.000000\n",
       "income_type      0.000000\n",
       "edu_type         0.000000\n",
       "family_type      0.000000\n",
       "house_type       0.000000\n",
       "DAYS_BIRTH       0.000000\n",
       "DAYS_EMPLOYED    0.000000\n",
       "FLAG_MOBIL       0.000000\n",
       "work_phone       0.000000\n",
       "phone            0.000000\n",
       "email            0.000000\n",
       "occyp_type       0.308841\n",
       "family_size      0.000000\n",
       "begin_month      0.000000\n",
       "credit           0.000000\n",
       "dtype: float64"
      ]
     },
     "execution_count": 18,
     "metadata": {},
     "output_type": "execute_result"
    }
   ],
   "source": [
    "data.isna().sum() / len(data)\n",
    "# NaN, Null # 퍼센트로 나타냄. \n",
    "# 30%정도면 채워주눈게 낫다.\n",
    "# 오류가 많이 생길수 있고 머신러닝입장ㅇ서 노이즈로 생각.\n",
    "# 결측치를 채우는 것 보다는 안쓰는 방향.. \n",
    "# 그래도 중요하다면 어떤 특징? \n",
    "# 30% 내외 결측치 채워주는게 국룰"
   ]
  },
  {
   "cell_type": "code",
   "execution_count": 19,
   "id": "1434aae0",
   "metadata": {},
   "outputs": [],
   "source": [
    "import seaborn as sns"
   ]
  },
  {
   "cell_type": "code",
   "execution_count": 20,
   "id": "80bbb644-9eab-4daf-8289-e3e1a010f4aa",
   "metadata": {},
   "outputs": [
    {
     "data": {
      "text/plain": [
       "F    17697\n",
       "M     8760\n",
       "Name: gender, dtype: int64"
      ]
     },
     "execution_count": 20,
     "metadata": {},
     "output_type": "execute_result"
    }
   ],
   "source": [
    "data['gender'].value_counts()\n",
    "# data['car'].value_counts()"
   ]
  },
  {
   "cell_type": "code",
   "execution_count": 21,
   "id": "05aa43ac-ff9b-4753-9ee9-d21fad28a135",
   "metadata": {},
   "outputs": [
    {
     "data": {
      "image/png": "[encoded data removed]",
      "text/plain": [
       "<Figure size 432x288 with 1 Axes>"
      ]
     },
     "metadata": {
      "needs_background": "light"
     },
     "output_type": "display_data"
    }
   ],
   "source": [
    "fig, ax = plt.subplots(1,1)\n",
    "sns.countplot(data=data, x = 'car')\n",
    "plt.show()"
   ]
  },
  {
   "cell_type": "code",
   "execution_count": 22,
   "id": "ae604f4b-50d1-4b81-885e-7b30aba9a956",
   "metadata": {},
   "outputs": [
    {
     "data": {
      "text/plain": [
       "['gender',\n",
       " 'car',\n",
       " 'reality',\n",
       " 'income_type',\n",
       " 'edu_type',\n",
       " 'family_type',\n",
       " 'house_type',\n",
       " 'occyp_type']"
      ]
     },
     "execution_count": 22,
     "metadata": {},
     "output_type": "execute_result"
    }
   ],
   "source": [
    "cat_columns"
   ]
  },
  {
   "cell_type": "code",
   "execution_count": 23,
   "id": "8de1f382-ad80-49c5-9828-df883c30277e",
   "metadata": {},
   "outputs": [],
   "source": [
    "# 강사는 선호하지 않음. \n",
    "# 크기순으로 지정하려면 order를 쳐야됨"
   ]
  },
  {
   "cell_type": "code",
   "execution_count": 24,
   "id": "67df2c0e-5623-483b-b930-5dd267513890",
   "metadata": {},
   "outputs": [
    {
     "data": {
      "image/png": "[encoded data removed]",
      "text/plain": [
       "<Figure size 1800x600 with 8 Axes>"
      ]
     },
     "metadata": {
      "needs_background": "light"
     },
     "output_type": "display_data"
    }
   ],
   "source": [
    "fig, ax = plt.subplots(2,4, figsize=(18,6), dpi=100)\n",
    "# ax[0][1].plot([1,2,3])\n",
    "# print(ax.flatten())\n",
    "for col, ax in zip(cat_columns, ax.flatten()):\n",
    "    sns.countplot(data=data, y=col, ax=ax)\n",
    "    \n",
    "#     print(data[col].value_counts())\n",
    "#     break\n",
    "    ax.set_title(col, fontweight='bold')\n",
    "    \n",
    "fig.tight_layout() # 안겹치게 만ㄷ름\n",
    "plt.show()"
   ]
  },
  {
   "cell_type": "markdown",
   "id": "44c32313",
   "metadata": {},
   "source": [
    "> value_counts를 사용한다면..?"
   ]
  },
  {
   "cell_type": "code",
   "execution_count": 25,
   "id": "e04e492f-8a4c-4ab4-b1df-edc0f38536a1",
   "metadata": {},
   "outputs": [
    {
     "data": {
      "text/plain": [
       "F    17697\n",
       "M     8760\n",
       "Name: gender, dtype: int64"
      ]
     },
     "execution_count": 25,
     "metadata": {},
     "output_type": "execute_result"
    }
   ],
   "source": [
    "data['gender'].value_counts()"
   ]
  },
  {
   "cell_type": "code",
   "execution_count": 26,
   "id": "511522d2",
   "metadata": {},
   "outputs": [
    {
     "data": {
      "image/png": "[encoded data removed]",
      "text/plain": [
       "<Figure size 432x288 with 1 Axes>"
      ]
     },
     "metadata": {
      "needs_background": "light"
     },
     "output_type": "display_data"
    }
   ],
   "source": [
    "fig, ax = plt.subplots(1,1)\n",
    "sns.countplot(data=data, x='credit')\n",
    "plt.show() #낮을수록 높은 신용등급 사용자. 예측을 했을 떄 이정도 라는 것을 보는 것도 중요\n",
    "# 추세를 보는 것도 중요"
   ]
  },
  {
   "cell_type": "code",
   "execution_count": 27,
   "id": "ff5f2408-bbfa-422c-9776-91fc52329e09",
   "metadata": {},
   "outputs": [
    {
     "data": {
      "text/plain": [
       "0.0     3222\n",
       "1.0     6267\n",
       "2.0    16968\n",
       "Name: credit, dtype: int64"
      ]
     },
     "execution_count": 27,
     "metadata": {},
     "output_type": "execute_result"
    }
   ],
   "source": [
    "data['credit'].value_counts().sort_values()"
   ]
  },
  {
   "cell_type": "code",
   "execution_count": 28,
   "id": "3ed25c62-1c96-4af6-80d1-428add65baf8",
   "metadata": {},
   "outputs": [
    {
     "data": {
      "text/plain": [
       "0.0     3222\n",
       "1.0     6267\n",
       "2.0    16968\n",
       "Name: credit, dtype: int64"
      ]
     },
     "execution_count": 28,
     "metadata": {},
     "output_type": "execute_result"
    }
   ],
   "source": [
    "data['credit'].value_counts().sort_index()"
   ]
  },
  {
   "cell_type": "code",
   "execution_count": 29,
   "id": "463391f1-d8b7-494d-891f-90d2c10b95ef",
   "metadata": {},
   "outputs": [],
   "source": [
    "# 커스텀도 가능하다. sorting 할 때\n",
    "# data['credit']zzzzzzzㅋㅋㅋㅋ 그냥 넘어감 ㅋㅋㅋ"
   ]
  },
  {
   "cell_type": "code",
   "execution_count": 30,
   "id": "7cc5122a-ded3-4936-8e88-b3abd0ed80ac",
   "metadata": {},
   "outputs": [
    {
     "data": {
      "text/plain": [
       "0.0    12.178252\n",
       "1.0    23.687493\n",
       "2.0    64.134256\n",
       "Name: credit, dtype: float64"
      ]
     },
     "execution_count": 30,
     "metadata": {},
     "output_type": "execute_result"
    }
   ],
   "source": [
    "# 비율저옵를 보기 위해 개수로 나눔\n",
    "data['credit'].value_counts().sort_index() / len(data)* 100\n",
    "# 0,1과 2등급을 먼저 구분하고 0,1등급을 구분하기\n",
    "# classification, hightical classification 했을 떄 잘될 떄가 있따."
   ]
  },
  {
   "cell_type": "code",
   "execution_count": 31,
   "id": "320899ca-1bfa-4b2c-a739-2f2eee7a9d3c",
   "metadata": {},
   "outputs": [
    {
     "data": {
      "text/plain": [
       "<AxesSubplot:xlabel='car', ylabel='count'>"
      ]
     },
     "execution_count": 31,
     "metadata": {},
     "output_type": "execute_result"
    },
    {
     "data": {
      "image/png": "[encoded data removed]",
      "text/plain": [
       "<Figure size 432x288 with 1 Axes>"
      ]
     },
     "metadata": {
      "needs_background": "light"
     },
     "output_type": "display_data"
    }
   ],
   "source": [
    "sns.countplot(data=data, x='car', hue='gender')"
   ]
  },
  {
   "cell_type": "code",
   "execution_count": 32,
   "id": "168bd0bc-d713-4a55-b67d-4222fd457953",
   "metadata": {},
   "outputs": [
    {
     "data": {
      "text/plain": [
       "<AxesSubplot:xlabel='gender', ylabel='count'>"
      ]
     },
     "execution_count": 32,
     "metadata": {},
     "output_type": "execute_result"
    },
    {
     "data": {
      "image/png": "[encoded data removed]",
      "text/plain": [
       "<Figure size 432x288 with 1 Axes>"
      ]
     },
     "metadata": {
      "needs_background": "light"
     },
     "output_type": "display_data"
    }
   ],
   "source": [
    "sns.countplot(data=data, x='gender', hue='car') \n",
    "# 불균형이 너무 심하다고 하면 따로따로 한 다음 합치는 방법도 있음.\n",
    "# 직접적인 수치값으로 보고싶을 수 있음.\n",
    "# 판다스에는 groupby라는 명령어가 있음"
   ]
  },
  {
   "cell_type": "code",
   "execution_count": 33,
   "id": "29c18275-3a1e-45af-b888-27f4ba5ab9b8",
   "metadata": {},
   "outputs": [
    {
     "data": {
      "text/plain": [
       "gender  car  reality\n",
       "F       N    Y          34.569301\n",
       "             N          15.194466\n",
       "        Y    Y          11.588615\n",
       "             N           5.537287\n",
       "M       N    Y           7.608572\n",
       "             N           4.652833\n",
       "        Y    Y          13.625884\n",
       "             N           7.223041\n",
       "Name: reality, dtype: float64"
      ]
     },
     "execution_count": 33,
     "metadata": {},
     "output_type": "execute_result"
    }
   ],
   "source": [
    "data.groupby(['gender','car'])['reality'].value_counts() / len(data)*100 \n",
    "# 기업에게 중요한 정보가 될 수 있음\n",
    "# 더 세분화 시킬 수 있음.\n",
    "# 요런게 EDA"
   ]
  },
  {
   "cell_type": "code",
   "execution_count": 34,
   "id": "0600dacd-a6e2-4e0a-b989-382b60b971cb",
   "metadata": {},
   "outputs": [
    {
     "data": {
      "text/plain": [
       "gender  car\n",
       "F       N      163331.793901\n",
       "        Y      201413.789782\n",
       "M       N      198545.108970\n",
       "        Y      226333.594090\n",
       "Name: income_total, dtype: float64"
      ]
     },
     "execution_count": 34,
     "metadata": {},
     "output_type": "execute_result"
    }
   ],
   "source": [
    "data.groupby(['gender','car'])['income_total'].mean()"
   ]
  },
  {
   "cell_type": "code",
   "execution_count": 35,
   "id": "20aa9ab7-464b-49ed-90a8-932f0f5f0e67",
   "metadata": {},
   "outputs": [
    {
     "name": "stdout",
     "output_type": "stream",
     "text": [
      "       income_total\n",
      "count  2.645700e+04\n",
      "mean   1.873065e+05\n",
      "std    1.018784e+05\n",
      "min    2.700000e+04\n",
      "25%    1.215000e+05\n",
      "50%    1.575000e+05\n",
      "75%    2.250000e+05\n",
      "max    1.575000e+06\n"
     ]
    }
   ],
   "source": [
    "print(data[['income_total']].describe())\n",
    "# kdeplot은 근사를 가지고 보여준다.\n",
    "# 어떤 간격으로 근사되었는지  bw_method"
   ]
  },
  {
   "cell_type": "code",
   "execution_count": 36,
   "id": "9ee8dc19",
   "metadata": {},
   "outputs": [
    {
     "data": {
      "image/png": "[encoded data removed]",
      "text/plain": [
       "<Figure size 864x360 with 1 Axes>"
      ]
     },
     "metadata": {
      "needs_background": "light"
     },
     "output_type": "display_data"
    }
   ],
   "source": [
    "fig, ax = plt.subplots(1,1,figsize=(12,5))\n",
    "# kernel density estimation # 추세를 보기 좋음.\n",
    "# sns.kdeplot(data=data, x='income_total', ax=ax, fill=True,\n",
    "#            bw_method=0.1, cut=0\n",
    "#            ) \n",
    "# 항상 fill=true로 둬서 밑의 면적을 채워주눈게 좋음, \n",
    "sns.histplot(data=data, x='income_total', ax=ax, bins=20)\n",
    "ax.ticklabel_format(style='plain') \n",
    "# 눈금들을 tick의 label을 plain 꾸미지 않게 ㅁ바꿔준다. \n",
    "# 데이터가 너무 길어서 안보이면 \n",
    "# 1) ticklabe을 세로로, \n",
    "# 2) fig사이즈를 크게만들어준다.\n",
    "plt.show()"
   ]
  },
  {
   "cell_type": "code",
   "execution_count": 37,
   "id": "3c535871",
   "metadata": {},
   "outputs": [
    {
     "data": {
      "image/png": "[encoded data removed]",
      "text/plain": [
       "<Figure size 864x360 with 1 Axes>"
      ]
     },
     "metadata": {
      "needs_background": "light"
     },
     "output_type": "display_data"
    }
   ],
   "source": [
    "fig, ax = plt.subplots(1,1, figsize=(12,5))\n",
    "sns.kdeplot(data=data, x='income_total', hue='gender',\n",
    "            bw_method=0.1, fill=True, ax=ax)\n",
    "# ax.ticklabel_format(style='plain')\n",
    "plt.show()\n",
    "# 25000 소득권에서 어떻게 데이터가 나뉘는지\n",
    "# 범위적인 정보(구체적인 정보)를 안적어 내기떄문에 띄엄띄엄 수치가 나올 수 있지 않나 라는 예상.\n",
    "# ㅋㅋㅋㅋ키 \n",
    "# 범위로써 데이터를 쓸것인가 고민.\n",
    "# incometotal을 feature로 보는 것.\n",
    "# 어떤 관계에 있는지 보는 것. -> scatter plot\n",
    "# areaplot"
   ]
  },
  {
   "cell_type": "code",
   "execution_count": 38,
   "id": "5af486ab",
   "metadata": {},
   "outputs": [
    {
     "data": {
      "image/png": "[encoded data removed]",
      "text/plain": [
       "<Figure size 864x360 with 1 Axes>"
      ]
     },
     "metadata": {
      "needs_background": "light"
     },
     "output_type": "display_data"
    }
   ],
   "source": [
    "fig, ax = plt.subplots(1,1, figsize=(12,5)) # 데이터를 근사, 시간이 좀 오래걸림.\n",
    "sns.kdeplot(data=data, x='income_total', y='DAYS_EMPLOYED',\n",
    "            bw_method=0.1,\n",
    "            ax=ax)\n",
    "ax.ticklabel_format(style='plain')\n",
    "plt.show()\n",
    "# 등고선 플롯으로 보임.\n",
    "# 데이터에 밀집된 정도에 따라 촘촘한 정도가 다름. 개꿀.\n",
    "# 앞쪽에 데이터가 몰려있다라는 걸 볼 수 있음.\n",
    "# bw 조정 \n",
    "# 개오래걸리네..\n",
    "# 등고선플롯"
   ]
  },
  {
   "cell_type": "code",
   "execution_count": 39,
   "id": "4bfc3621",
   "metadata": {},
   "outputs": [
    {
     "data": {
      "image/png": "[encoded data removed]",
      "text/plain": [
       "<Figure size 864x360 with 1 Axes>"
      ]
     },
     "metadata": {
      "needs_background": "light"
     },
     "output_type": "display_data"
    }
   ],
   "source": [
    "fig, ax = plt.subplots(1,1, figsize=(12,5))\n",
    "sns.scatterplot(data=data, x='income_total', y='DAYS_EMPLOYED',\n",
    "                hue='gender', # 색상\n",
    "                alpha=0.1, # 투명도\n",
    "                ax=ax)\n",
    "ax.ticklabel_format(style='plain')\n",
    "plt.show()"
   ]
  },
  {
   "cell_type": "markdown",
   "id": "4769a4b4-afba-497f-9912-7ae347de157f",
   "metadata": {
    "jupyter": {
     "outputs_hidden": true
    },
    "tags": []
   },
   "source": [
    "%time 10 ** 10000\n",
    "%time 1234 ** 1000\n",
    " \n",
    "값을 정규분포로 맞춰주는게 중요(속도떄매)"
   ]
  },
  {
   "cell_type": "code",
   "execution_count": 40,
   "id": "863a01ba-942d-4848-83d7-a6ff1bc33b95",
   "metadata": {},
   "outputs": [
    {
     "data": {
      "text/plain": [
       "100000000000000.0"
      ]
     },
     "execution_count": 40,
     "metadata": {},
     "output_type": "execute_result"
    }
   ],
   "source": [
    "100000000000000 + 0.00000000001 # 파이썬에선 (실수오차를)그냥 근사해버림."
   ]
  },
  {
   "cell_type": "markdown",
   "id": "85ea4323",
   "metadata": {},
   "source": [
    "---\n",
    "---\n",
    "## <span style=\"color:fuchsia\">**📚 3. 데이터 스케일링**</span> \n",
    "- sklearn.preprocessing, scaler.fit, scaler.transform, pd.DataFrame //\n",
    "\n",
    "### <span style=\"color:fuchsia\">**📚 3-1. 스케일링을 하는 이유**</span>\n",
    "\n",
    "변수의 크기가 너무 작거나, 너무 큰 경우 해당 변수가 Target 에 미치는 영향력이 제대로 표현되지 않을 수 있습니다.\n",
    "\n",
    "Sklearn의 대표적인 스케일링 함수로는 특정 변수의 최대, 최소 값으로 조절하는 Min-Max 스케일링과 z-정규화를 이용한 Standard 스케일링이 있습니다. (사용법 체크) (SVM은 무조건)\n",
    "\n",
    "<div class=\"alert alert-block alert-danger\">\n",
    "    <b>주의</b> 스케일링은 변수의 분포를 변경하지 않습니다. # 연산의 효율성과 정확도를 위해서 한다.\n",
    "</div>\n",
    "\n",
    "> 주의 > 스케일링은 변수의 분포를 변경하지 않습니다. \n",
    "---\n",
    "### <span style=\"color:fuchsia\">**📚 3-2. Min-Max Scaling**</span> \n",
    "- ___ .min.max, .apply(lambda x : x/income_max)\n",
    "\n",
    "\n",
    "- Min-Max 스케일링을 하면, 값의 범위가 0 ~ 1 사이로 변경됩니다. <br> \n",
    "- 최댓값을 1, 최솟값을 0으로 변경합니다.\n",
    "\n",
    "수식을 직관적으로 이해해보면, X에 존재하는 어떤 가장 작은 값 x <sub>m</sub>에 대해서 x <sub>m</sub>는 Min(X)의 값과 같습니다. \n",
    "\n",
    "따라서 스케일링 후 x<sub>m</sub>은 0이되고, X에 존재하는 어떤 가장 큰 값x <sub>M</sub>은 분모의 식과 같아지므로 1이됩니다.\n",
    "\n",
    "$$ x - Min(X) \\over Max(X) - Min(X) $$<br>\n",
    "$$X : 데이터\\ 셋 $$\n",
    "$$ x : 데이터\\ 샘플 $$ \n",
    "\n",
    " * 앞서 변수의 분포를 변경하진 않는데 수익자체는 배수가 중요할 수 있음. 0과 1의 비율 자체는 사라지게 되는 것. 비율정보에 민감하다고 했을 때 사라지게 되는 것. -> 민맥스로 하지말고 맥스로 나눠버리는 것, 미니멈은 0은 아니게 되는 것. \n",
    " * 구현하는 건 어렵지 않음. \n",
    " * 사이킷런 페이지// 머신러닝을 위한 다양한 기능을 제공, 전처리 다수, 대표적인 것만 써보게 될 것. 전처리만 모아놓은 라이브러리도 있음.\n",
    "\n",
    "\n",
    "직접 구현도 크게 어렵지 않지만, `Sklearn`에서 Min-Max Scaler는 preprocessing 패키지에 있습니다. \n",
    "\n",
    "#### Reference\n",
    "\n",
    "- [Scikit-learn Min-Max Scaler](https://scikit-learn.org/stable/modules/generated/sklearn.preprocessing.MinMaxScaler.html?highlight=minmax#sklearn.preprocessing.MinMaxScaler)\n"
   ]
  },
  {
   "cell_type": "code",
   "execution_count": 41,
   "id": "9dbdd61b",
   "metadata": {},
   "outputs": [
    {
     "data": {
      "text/plain": [
       "array([[202500.],\n",
       "       [247500.],\n",
       "       [450000.],\n",
       "       ...,\n",
       "       [292500.],\n",
       "       [171000.],\n",
       "       [ 81000.]])"
      ]
     },
     "execution_count": 41,
     "metadata": {},
     "output_type": "execute_result"
    }
   ],
   "source": [
    "income_data = data[['income_total']].values\n",
    "income_data"
   ]
  },
  {
   "cell_type": "code",
   "execution_count": 42,
   "id": "d9dd5857",
   "metadata": {},
   "outputs": [
    {
     "name": "stdout",
     "output_type": "stream",
     "text": [
      "MinMaxScaler()\n"
     ]
    }
   ],
   "source": [
    "from sklearn.preprocessing import MinMaxScaler\n",
    "scaler = MinMaxScaler()\n",
    "print(scaler)"
   ]
  },
  {
   "cell_type": "code",
   "execution_count": 43,
   "id": "e18ab3d3",
   "metadata": {},
   "outputs": [
    {
     "name": "stdout",
     "output_type": "stream",
     "text": [
      "[27000.]\n",
      "[1575000.]\n"
     ]
    }
   ],
   "source": [
    "scaler.fit(income_data)\n",
    "\n",
    "print(scaler.data_min_)\n",
    "print(scaler.data_max_)"
   ]
  },
  {
   "cell_type": "code",
   "execution_count": 44,
   "id": "3425171f",
   "metadata": {},
   "outputs": [
    {
     "name": "stdout",
     "output_type": "stream",
     "text": [
      "[0.11337209] [202500.]\n"
     ]
    }
   ],
   "source": [
    "scaled_data = scaler.transform(income_data)\n",
    "# scaled_data = scaler.fit_transform(income_data) # 항상 train에서 사용\n",
    "print(scaled_data[0], income_data[0])\n",
    "# scaled_data = pd.DataFrame(scaled_data, columns=num_columns)\n"
   ]
  },
  {
   "cell_type": "code",
   "execution_count": 45,
   "id": "69b38ea6-7282-4ea8-8ab4-2d19ce1c64ae",
   "metadata": {},
   "outputs": [],
   "source": [
    "num_data = data[num_columns].values"
   ]
  },
  {
   "cell_type": "code",
   "execution_count": 46,
   "id": "9bbc682c-2006-465a-bb8b-3e92e9252ffe",
   "metadata": {},
   "outputs": [
    {
     "data": {
      "text/plain": [
       "MinMaxScaler()"
      ]
     },
     "execution_count": 46,
     "metadata": {},
     "output_type": "execute_result"
    }
   ],
   "source": [
    "scaler = MinMaxScaler()\n",
    "scaler.fit(num_data)"
   ]
  },
  {
   "cell_type": "markdown",
   "id": "d0102d98-0a8f-4061-ac77-8cf0eaa541e0",
   "metadata": {},
   "source": [
    "하지말것 train + test => min/max를 뽑고 => min/max scaler // 항상 트레인에서만 스케일링 진행"
   ]
  },
  {
   "cell_type": "code",
   "execution_count": 47,
   "id": "05a34fa6-6579-4181-a550-134cfc89cc4b",
   "metadata": {},
   "outputs": [
    {
     "name": "stdout",
     "output_type": "stream",
     "text": [
      "[ 0.0000e+00  0.0000e+00  2.7000e+04 -2.5152e+04 -1.5713e+04  1.0000e+00\n",
      "  0.0000e+00  0.0000e+00  0.0000e+00  1.0000e+00 -6.0000e+01  0.0000e+00]\n",
      "[ 2.64560e+04  1.90000e+01  1.57500e+06 -7.70500e+03  3.65243e+05\n",
      "  1.00000e+00  1.00000e+00  1.00000e+00  1.00000e+00  2.00000e+01\n",
      "  0.00000e+00  2.00000e+00]\n"
     ]
    }
   ],
   "source": [
    "print(scaler.data_min_)\n",
    "print(scaler.data_max_)"
   ]
  },
  {
   "cell_type": "code",
   "execution_count": 48,
   "id": "8d3106f1-113d-4ab7-b034-4fa508246a06",
   "metadata": {},
   "outputs": [
    {
     "data": {
      "text/html": [
       "<div>\n",
       "<style scoped>\n",
       "    .dataframe tbody tr th:only-of-type {\n",
       "        vertical-align: middle;\n",
       "    }\n",
       "\n",
       "    .dataframe tbody tr th {\n",
       "        vertical-align: top;\n",
       "    }\n",
       "\n",
       "    .dataframe thead th {\n",
       "        text-align: right;\n",
       "    }\n",
       "</style>\n",
       "<table border=\"1\" class=\"dataframe\">\n",
       "  <thead>\n",
       "    <tr style=\"text-align: right;\">\n",
       "      <th></th>\n",
       "      <th>index</th>\n",
       "      <th>child_num</th>\n",
       "      <th>income_total</th>\n",
       "      <th>DAYS_BIRTH</th>\n",
       "      <th>DAYS_EMPLOYED</th>\n",
       "      <th>FLAG_MOBIL</th>\n",
       "      <th>work_phone</th>\n",
       "      <th>phone</th>\n",
       "      <th>email</th>\n",
       "      <th>family_size</th>\n",
       "      <th>begin_month</th>\n",
       "      <th>credit</th>\n",
       "    </tr>\n",
       "  </thead>\n",
       "  <tbody>\n",
       "    <tr>\n",
       "      <th>0</th>\n",
       "      <td>0.000000</td>\n",
       "      <td>0.000000</td>\n",
       "      <td>0.113372</td>\n",
       "      <td>0.644982</td>\n",
       "      <td>0.028885</td>\n",
       "      <td>0.0</td>\n",
       "      <td>0.0</td>\n",
       "      <td>0.0</td>\n",
       "      <td>0.0</td>\n",
       "      <td>0.052632</td>\n",
       "      <td>0.900000</td>\n",
       "      <td>0.5</td>\n",
       "    </tr>\n",
       "    <tr>\n",
       "      <th>1</th>\n",
       "      <td>0.000038</td>\n",
       "      <td>0.052632</td>\n",
       "      <td>0.142442</td>\n",
       "      <td>0.789362</td>\n",
       "      <td>0.037204</td>\n",
       "      <td>0.0</td>\n",
       "      <td>0.0</td>\n",
       "      <td>0.0</td>\n",
       "      <td>1.0</td>\n",
       "      <td>0.105263</td>\n",
       "      <td>0.916667</td>\n",
       "      <td>0.5</td>\n",
       "    </tr>\n",
       "    <tr>\n",
       "      <th>2</th>\n",
       "      <td>0.000076</td>\n",
       "      <td>0.000000</td>\n",
       "      <td>0.273256</td>\n",
       "      <td>0.347624</td>\n",
       "      <td>0.029607</td>\n",
       "      <td>0.0</td>\n",
       "      <td>0.0</td>\n",
       "      <td>1.0</td>\n",
       "      <td>0.0</td>\n",
       "      <td>0.052632</td>\n",
       "      <td>0.633333</td>\n",
       "      <td>1.0</td>\n",
       "    </tr>\n",
       "    <tr>\n",
       "      <th>3</th>\n",
       "      <td>0.000113</td>\n",
       "      <td>0.000000</td>\n",
       "      <td>0.113372</td>\n",
       "      <td>0.576833</td>\n",
       "      <td>0.035755</td>\n",
       "      <td>0.0</td>\n",
       "      <td>0.0</td>\n",
       "      <td>1.0</td>\n",
       "      <td>0.0</td>\n",
       "      <td>0.052632</td>\n",
       "      <td>0.383333</td>\n",
       "      <td>0.0</td>\n",
       "    </tr>\n",
       "    <tr>\n",
       "      <th>4</th>\n",
       "      <td>0.000151</td>\n",
       "      <td>0.000000</td>\n",
       "      <td>0.084302</td>\n",
       "      <td>0.579756</td>\n",
       "      <td>0.035721</td>\n",
       "      <td>0.0</td>\n",
       "      <td>0.0</td>\n",
       "      <td>0.0</td>\n",
       "      <td>0.0</td>\n",
       "      <td>0.052632</td>\n",
       "      <td>0.566667</td>\n",
       "      <td>1.0</td>\n",
       "    </tr>\n",
       "  </tbody>\n",
       "</table>\n",
       "</div>"
      ],
      "text/plain": [
       "      index  child_num  income_total  DAYS_BIRTH  DAYS_EMPLOYED  FLAG_MOBIL  \\\n",
       "0  0.000000   0.000000      0.113372    0.644982       0.028885         0.0   \n",
       "1  0.000038   0.052632      0.142442    0.789362       0.037204         0.0   \n",
       "2  0.000076   0.000000      0.273256    0.347624       0.029607         0.0   \n",
       "3  0.000113   0.000000      0.113372    0.576833       0.035755         0.0   \n",
       "4  0.000151   0.000000      0.084302    0.579756       0.035721         0.0   \n",
       "\n",
       "   work_phone  phone  email  family_size  begin_month  credit  \n",
       "0         0.0    0.0    0.0     0.052632     0.900000     0.5  \n",
       "1         0.0    0.0    1.0     0.105263     0.916667     0.5  \n",
       "2         0.0    1.0    0.0     0.052632     0.633333     1.0  \n",
       "3         0.0    1.0    0.0     0.052632     0.383333     0.0  \n",
       "4         0.0    0.0    0.0     0.052632     0.566667     1.0  "
      ]
     },
     "execution_count": 48,
     "metadata": {},
     "output_type": "execute_result"
    }
   ],
   "source": [
    "scaled_data = scaler.transform(num_data)\n",
    "scaled_data = pd.DataFrame(data = scaled_data, columns=num_columns)\n",
    "# credit은 바뀌면 안되는데 바뀌었음. 뺴주셈.\n",
    "scaled_data.head()"
   ]
  },
  {
   "cell_type": "code",
   "execution_count": 49,
   "id": "aad42a37",
   "metadata": {},
   "outputs": [
    {
     "data": {
      "text/html": [
       "<div>\n",
       "<style scoped>\n",
       "    .dataframe tbody tr th:only-of-type {\n",
       "        vertical-align: middle;\n",
       "    }\n",
       "\n",
       "    .dataframe tbody tr th {\n",
       "        vertical-align: top;\n",
       "    }\n",
       "\n",
       "    .dataframe thead th {\n",
       "        text-align: right;\n",
       "    }\n",
       "</style>\n",
       "<table border=\"1\" class=\"dataframe\">\n",
       "  <thead>\n",
       "    <tr style=\"text-align: right;\">\n",
       "      <th></th>\n",
       "      <th>index</th>\n",
       "      <th>child_num</th>\n",
       "      <th>income_total</th>\n",
       "      <th>DAYS_BIRTH</th>\n",
       "      <th>DAYS_EMPLOYED</th>\n",
       "      <th>FLAG_MOBIL</th>\n",
       "      <th>work_phone</th>\n",
       "      <th>phone</th>\n",
       "      <th>email</th>\n",
       "      <th>family_size</th>\n",
       "      <th>begin_month</th>\n",
       "      <th>credit</th>\n",
       "    </tr>\n",
       "  </thead>\n",
       "  <tbody>\n",
       "    <tr>\n",
       "      <th>0</th>\n",
       "      <td>0</td>\n",
       "      <td>0</td>\n",
       "      <td>202500.0</td>\n",
       "      <td>-13899</td>\n",
       "      <td>-4709</td>\n",
       "      <td>1</td>\n",
       "      <td>0</td>\n",
       "      <td>0</td>\n",
       "      <td>0</td>\n",
       "      <td>2.0</td>\n",
       "      <td>-6.0</td>\n",
       "      <td>1.0</td>\n",
       "    </tr>\n",
       "    <tr>\n",
       "      <th>1</th>\n",
       "      <td>1</td>\n",
       "      <td>1</td>\n",
       "      <td>247500.0</td>\n",
       "      <td>-11380</td>\n",
       "      <td>-1540</td>\n",
       "      <td>1</td>\n",
       "      <td>0</td>\n",
       "      <td>0</td>\n",
       "      <td>1</td>\n",
       "      <td>3.0</td>\n",
       "      <td>-5.0</td>\n",
       "      <td>1.0</td>\n",
       "    </tr>\n",
       "    <tr>\n",
       "      <th>2</th>\n",
       "      <td>2</td>\n",
       "      <td>0</td>\n",
       "      <td>450000.0</td>\n",
       "      <td>-19087</td>\n",
       "      <td>-4434</td>\n",
       "      <td>1</td>\n",
       "      <td>0</td>\n",
       "      <td>1</td>\n",
       "      <td>0</td>\n",
       "      <td>2.0</td>\n",
       "      <td>-22.0</td>\n",
       "      <td>2.0</td>\n",
       "    </tr>\n",
       "    <tr>\n",
       "      <th>3</th>\n",
       "      <td>3</td>\n",
       "      <td>0</td>\n",
       "      <td>202500.0</td>\n",
       "      <td>-15088</td>\n",
       "      <td>-2092</td>\n",
       "      <td>1</td>\n",
       "      <td>0</td>\n",
       "      <td>1</td>\n",
       "      <td>0</td>\n",
       "      <td>2.0</td>\n",
       "      <td>-37.0</td>\n",
       "      <td>0.0</td>\n",
       "    </tr>\n",
       "    <tr>\n",
       "      <th>4</th>\n",
       "      <td>4</td>\n",
       "      <td>0</td>\n",
       "      <td>157500.0</td>\n",
       "      <td>-15037</td>\n",
       "      <td>-2105</td>\n",
       "      <td>1</td>\n",
       "      <td>0</td>\n",
       "      <td>0</td>\n",
       "      <td>0</td>\n",
       "      <td>2.0</td>\n",
       "      <td>-26.0</td>\n",
       "      <td>2.0</td>\n",
       "    </tr>\n",
       "  </tbody>\n",
       "</table>\n",
       "</div>"
      ],
      "text/plain": [
       "   index  child_num  income_total  DAYS_BIRTH  DAYS_EMPLOYED  FLAG_MOBIL  \\\n",
       "0      0          0      202500.0      -13899          -4709           1   \n",
       "1      1          1      247500.0      -11380          -1540           1   \n",
       "2      2          0      450000.0      -19087          -4434           1   \n",
       "3      3          0      202500.0      -15088          -2092           1   \n",
       "4      4          0      157500.0      -15037          -2105           1   \n",
       "\n",
       "   work_phone  phone  email  family_size  begin_month  credit  \n",
       "0           0      0      0          2.0         -6.0     1.0  \n",
       "1           0      0      1          3.0         -5.0     1.0  \n",
       "2           0      1      0          2.0        -22.0     2.0  \n",
       "3           0      1      0          2.0        -37.0     0.0  \n",
       "4           0      0      0          2.0        -26.0     2.0  "
      ]
     },
     "execution_count": 49,
     "metadata": {},
     "output_type": "execute_result"
    }
   ],
   "source": [
    "data[num_columns].head()"
   ]
  },
  {
   "cell_type": "code",
   "execution_count": 50,
   "id": "9e07ed1f",
   "metadata": {},
   "outputs": [
    {
     "data": {
      "text/html": [
       "<div>\n",
       "<style scoped>\n",
       "    .dataframe tbody tr th:only-of-type {\n",
       "        vertical-align: middle;\n",
       "    }\n",
       "\n",
       "    .dataframe tbody tr th {\n",
       "        vertical-align: top;\n",
       "    }\n",
       "\n",
       "    .dataframe thead th {\n",
       "        text-align: right;\n",
       "    }\n",
       "</style>\n",
       "<table border=\"1\" class=\"dataframe\">\n",
       "  <thead>\n",
       "    <tr style=\"text-align: right;\">\n",
       "      <th></th>\n",
       "      <th>index</th>\n",
       "      <th>child_num</th>\n",
       "      <th>income_total</th>\n",
       "      <th>DAYS_BIRTH</th>\n",
       "      <th>DAYS_EMPLOYED</th>\n",
       "      <th>FLAG_MOBIL</th>\n",
       "      <th>work_phone</th>\n",
       "      <th>phone</th>\n",
       "      <th>email</th>\n",
       "      <th>family_size</th>\n",
       "      <th>begin_month</th>\n",
       "      <th>credit</th>\n",
       "    </tr>\n",
       "  </thead>\n",
       "  <tbody>\n",
       "    <tr>\n",
       "      <th>count</th>\n",
       "      <td>26457.000000</td>\n",
       "      <td>26457.000000</td>\n",
       "      <td>2.645700e+04</td>\n",
       "      <td>26457.000000</td>\n",
       "      <td>26457.000000</td>\n",
       "      <td>26457.0</td>\n",
       "      <td>26457.000000</td>\n",
       "      <td>26457.000000</td>\n",
       "      <td>26457.000000</td>\n",
       "      <td>26457.000000</td>\n",
       "      <td>26457.000000</td>\n",
       "      <td>26457.000000</td>\n",
       "    </tr>\n",
       "    <tr>\n",
       "      <th>mean</th>\n",
       "      <td>13228.000000</td>\n",
       "      <td>0.428658</td>\n",
       "      <td>1.873065e+05</td>\n",
       "      <td>-15958.053899</td>\n",
       "      <td>59068.750728</td>\n",
       "      <td>1.0</td>\n",
       "      <td>0.224742</td>\n",
       "      <td>0.294251</td>\n",
       "      <td>0.091280</td>\n",
       "      <td>2.196848</td>\n",
       "      <td>-26.123294</td>\n",
       "      <td>1.519560</td>\n",
       "    </tr>\n",
       "    <tr>\n",
       "      <th>std</th>\n",
       "      <td>7637.622372</td>\n",
       "      <td>0.747326</td>\n",
       "      <td>1.018784e+05</td>\n",
       "      <td>4201.589022</td>\n",
       "      <td>137475.427503</td>\n",
       "      <td>0.0</td>\n",
       "      <td>0.417420</td>\n",
       "      <td>0.455714</td>\n",
       "      <td>0.288013</td>\n",
       "      <td>0.916717</td>\n",
       "      <td>16.559550</td>\n",
       "      <td>0.702283</td>\n",
       "    </tr>\n",
       "    <tr>\n",
       "      <th>min</th>\n",
       "      <td>0.000000</td>\n",
       "      <td>0.000000</td>\n",
       "      <td>2.700000e+04</td>\n",
       "      <td>-25152.000000</td>\n",
       "      <td>-15713.000000</td>\n",
       "      <td>1.0</td>\n",
       "      <td>0.000000</td>\n",
       "      <td>0.000000</td>\n",
       "      <td>0.000000</td>\n",
       "      <td>1.000000</td>\n",
       "      <td>-60.000000</td>\n",
       "      <td>0.000000</td>\n",
       "    </tr>\n",
       "    <tr>\n",
       "      <th>25%</th>\n",
       "      <td>6614.000000</td>\n",
       "      <td>0.000000</td>\n",
       "      <td>1.215000e+05</td>\n",
       "      <td>-19431.000000</td>\n",
       "      <td>-3153.000000</td>\n",
       "      <td>1.0</td>\n",
       "      <td>0.000000</td>\n",
       "      <td>0.000000</td>\n",
       "      <td>0.000000</td>\n",
       "      <td>2.000000</td>\n",
       "      <td>-39.000000</td>\n",
       "      <td>1.000000</td>\n",
       "    </tr>\n",
       "    <tr>\n",
       "      <th>50%</th>\n",
       "      <td>13228.000000</td>\n",
       "      <td>0.000000</td>\n",
       "      <td>1.575000e+05</td>\n",
       "      <td>-15547.000000</td>\n",
       "      <td>-1539.000000</td>\n",
       "      <td>1.0</td>\n",
       "      <td>0.000000</td>\n",
       "      <td>0.000000</td>\n",
       "      <td>0.000000</td>\n",
       "      <td>2.000000</td>\n",
       "      <td>-24.000000</td>\n",
       "      <td>2.000000</td>\n",
       "    </tr>\n",
       "    <tr>\n",
       "      <th>75%</th>\n",
       "      <td>19842.000000</td>\n",
       "      <td>1.000000</td>\n",
       "      <td>2.250000e+05</td>\n",
       "      <td>-12446.000000</td>\n",
       "      <td>-407.000000</td>\n",
       "      <td>1.0</td>\n",
       "      <td>0.000000</td>\n",
       "      <td>1.000000</td>\n",
       "      <td>0.000000</td>\n",
       "      <td>3.000000</td>\n",
       "      <td>-12.000000</td>\n",
       "      <td>2.000000</td>\n",
       "    </tr>\n",
       "    <tr>\n",
       "      <th>max</th>\n",
       "      <td>26456.000000</td>\n",
       "      <td>19.000000</td>\n",
       "      <td>1.575000e+06</td>\n",
       "      <td>-7705.000000</td>\n",
       "      <td>365243.000000</td>\n",
       "      <td>1.0</td>\n",
       "      <td>1.000000</td>\n",
       "      <td>1.000000</td>\n",
       "      <td>1.000000</td>\n",
       "      <td>20.000000</td>\n",
       "      <td>0.000000</td>\n",
       "      <td>2.000000</td>\n",
       "    </tr>\n",
       "  </tbody>\n",
       "</table>\n",
       "</div>"
      ],
      "text/plain": [
       "              index     child_num  income_total    DAYS_BIRTH  DAYS_EMPLOYED  \\\n",
       "count  26457.000000  26457.000000  2.645700e+04  26457.000000   26457.000000   \n",
       "mean   13228.000000      0.428658  1.873065e+05 -15958.053899   59068.750728   \n",
       "std     7637.622372      0.747326  1.018784e+05   4201.589022  137475.427503   \n",
       "min        0.000000      0.000000  2.700000e+04 -25152.000000  -15713.000000   \n",
       "25%     6614.000000      0.000000  1.215000e+05 -19431.000000   -3153.000000   \n",
       "50%    13228.000000      0.000000  1.575000e+05 -15547.000000   -1539.000000   \n",
       "75%    19842.000000      1.000000  2.250000e+05 -12446.000000    -407.000000   \n",
       "max    26456.000000     19.000000  1.575000e+06  -7705.000000  365243.000000   \n",
       "\n",
       "       FLAG_MOBIL    work_phone         phone         email   family_size  \\\n",
       "count     26457.0  26457.000000  26457.000000  26457.000000  26457.000000   \n",
       "mean          1.0      0.224742      0.294251      0.091280      2.196848   \n",
       "std           0.0      0.417420      0.455714      0.288013      0.916717   \n",
       "min           1.0      0.000000      0.000000      0.000000      1.000000   \n",
       "25%           1.0      0.000000      0.000000      0.000000      2.000000   \n",
       "50%           1.0      0.000000      0.000000      0.000000      2.000000   \n",
       "75%           1.0      0.000000      1.000000      0.000000      3.000000   \n",
       "max           1.0      1.000000      1.000000      1.000000     20.000000   \n",
       "\n",
       "        begin_month        credit  \n",
       "count  26457.000000  26457.000000  \n",
       "mean     -26.123294      1.519560  \n",
       "std       16.559550      0.702283  \n",
       "min      -60.000000      0.000000  \n",
       "25%      -39.000000      1.000000  \n",
       "50%      -24.000000      2.000000  \n",
       "75%      -12.000000      2.000000  \n",
       "max        0.000000      2.000000  "
      ]
     },
     "execution_count": 50,
     "metadata": {},
     "output_type": "execute_result"
    }
   ],
   "source": [
    "data[num_columns].describe()  "
   ]
  },
  {
   "cell_type": "code",
   "execution_count": 51,
   "id": "4ed4548c",
   "metadata": {},
   "outputs": [
    {
     "data": {
      "text/html": [
       "<div>\n",
       "<style scoped>\n",
       "    .dataframe tbody tr th:only-of-type {\n",
       "        vertical-align: middle;\n",
       "    }\n",
       "\n",
       "    .dataframe tbody tr th {\n",
       "        vertical-align: top;\n",
       "    }\n",
       "\n",
       "    .dataframe thead th {\n",
       "        text-align: right;\n",
       "    }\n",
       "</style>\n",
       "<table border=\"1\" class=\"dataframe\">\n",
       "  <thead>\n",
       "    <tr style=\"text-align: right;\">\n",
       "      <th></th>\n",
       "      <th>index</th>\n",
       "      <th>child_num</th>\n",
       "      <th>income_total</th>\n",
       "      <th>DAYS_BIRTH</th>\n",
       "      <th>DAYS_EMPLOYED</th>\n",
       "      <th>FLAG_MOBIL</th>\n",
       "      <th>work_phone</th>\n",
       "      <th>phone</th>\n",
       "      <th>email</th>\n",
       "      <th>family_size</th>\n",
       "      <th>begin_month</th>\n",
       "      <th>credit</th>\n",
       "    </tr>\n",
       "  </thead>\n",
       "  <tbody>\n",
       "    <tr>\n",
       "      <th>0</th>\n",
       "      <td>0.000000</td>\n",
       "      <td>0.000000</td>\n",
       "      <td>0.113372</td>\n",
       "      <td>0.644982</td>\n",
       "      <td>0.028885</td>\n",
       "      <td>0.0</td>\n",
       "      <td>0.0</td>\n",
       "      <td>0.0</td>\n",
       "      <td>0.0</td>\n",
       "      <td>0.052632</td>\n",
       "      <td>0.900000</td>\n",
       "      <td>0.5</td>\n",
       "    </tr>\n",
       "    <tr>\n",
       "      <th>1</th>\n",
       "      <td>0.000038</td>\n",
       "      <td>0.052632</td>\n",
       "      <td>0.142442</td>\n",
       "      <td>0.789362</td>\n",
       "      <td>0.037204</td>\n",
       "      <td>0.0</td>\n",
       "      <td>0.0</td>\n",
       "      <td>0.0</td>\n",
       "      <td>1.0</td>\n",
       "      <td>0.105263</td>\n",
       "      <td>0.916667</td>\n",
       "      <td>0.5</td>\n",
       "    </tr>\n",
       "    <tr>\n",
       "      <th>2</th>\n",
       "      <td>0.000076</td>\n",
       "      <td>0.000000</td>\n",
       "      <td>0.273256</td>\n",
       "      <td>0.347624</td>\n",
       "      <td>0.029607</td>\n",
       "      <td>0.0</td>\n",
       "      <td>0.0</td>\n",
       "      <td>1.0</td>\n",
       "      <td>0.0</td>\n",
       "      <td>0.052632</td>\n",
       "      <td>0.633333</td>\n",
       "      <td>1.0</td>\n",
       "    </tr>\n",
       "    <tr>\n",
       "      <th>3</th>\n",
       "      <td>0.000113</td>\n",
       "      <td>0.000000</td>\n",
       "      <td>0.113372</td>\n",
       "      <td>0.576833</td>\n",
       "      <td>0.035755</td>\n",
       "      <td>0.0</td>\n",
       "      <td>0.0</td>\n",
       "      <td>1.0</td>\n",
       "      <td>0.0</td>\n",
       "      <td>0.052632</td>\n",
       "      <td>0.383333</td>\n",
       "      <td>0.0</td>\n",
       "    </tr>\n",
       "    <tr>\n",
       "      <th>4</th>\n",
       "      <td>0.000151</td>\n",
       "      <td>0.000000</td>\n",
       "      <td>0.084302</td>\n",
       "      <td>0.579756</td>\n",
       "      <td>0.035721</td>\n",
       "      <td>0.0</td>\n",
       "      <td>0.0</td>\n",
       "      <td>0.0</td>\n",
       "      <td>0.0</td>\n",
       "      <td>0.052632</td>\n",
       "      <td>0.566667</td>\n",
       "      <td>1.0</td>\n",
       "    </tr>\n",
       "  </tbody>\n",
       "</table>\n",
       "</div>"
      ],
      "text/plain": [
       "      index  child_num  income_total  DAYS_BIRTH  DAYS_EMPLOYED  FLAG_MOBIL  \\\n",
       "0  0.000000   0.000000      0.113372    0.644982       0.028885         0.0   \n",
       "1  0.000038   0.052632      0.142442    0.789362       0.037204         0.0   \n",
       "2  0.000076   0.000000      0.273256    0.347624       0.029607         0.0   \n",
       "3  0.000113   0.000000      0.113372    0.576833       0.035755         0.0   \n",
       "4  0.000151   0.000000      0.084302    0.579756       0.035721         0.0   \n",
       "\n",
       "   work_phone  phone  email  family_size  begin_month  credit  \n",
       "0         0.0    0.0    0.0     0.052632     0.900000     0.5  \n",
       "1         0.0    0.0    1.0     0.105263     0.916667     0.5  \n",
       "2         0.0    1.0    0.0     0.052632     0.633333     1.0  \n",
       "3         0.0    1.0    0.0     0.052632     0.383333     0.0  \n",
       "4         0.0    0.0    0.0     0.052632     0.566667     1.0  "
      ]
     },
     "execution_count": 51,
     "metadata": {},
     "output_type": "execute_result"
    }
   ],
   "source": [
    "scaled_data.head()"
   ]
  },
  {
   "cell_type": "code",
   "execution_count": 52,
   "id": "22a619ed",
   "metadata": {},
   "outputs": [
    {
     "data": {
      "text/html": [
       "<div>\n",
       "<style scoped>\n",
       "    .dataframe tbody tr th:only-of-type {\n",
       "        vertical-align: middle;\n",
       "    }\n",
       "\n",
       "    .dataframe tbody tr th {\n",
       "        vertical-align: top;\n",
       "    }\n",
       "\n",
       "    .dataframe thead th {\n",
       "        text-align: right;\n",
       "    }\n",
       "</style>\n",
       "<table border=\"1\" class=\"dataframe\">\n",
       "  <thead>\n",
       "    <tr style=\"text-align: right;\">\n",
       "      <th></th>\n",
       "      <th>index</th>\n",
       "      <th>child_num</th>\n",
       "      <th>income_total</th>\n",
       "      <th>DAYS_BIRTH</th>\n",
       "      <th>DAYS_EMPLOYED</th>\n",
       "      <th>FLAG_MOBIL</th>\n",
       "      <th>work_phone</th>\n",
       "      <th>phone</th>\n",
       "      <th>email</th>\n",
       "      <th>family_size</th>\n",
       "      <th>begin_month</th>\n",
       "      <th>credit</th>\n",
       "    </tr>\n",
       "  </thead>\n",
       "  <tbody>\n",
       "    <tr>\n",
       "      <th>count</th>\n",
       "      <td>26457.000000</td>\n",
       "      <td>26457.000000</td>\n",
       "      <td>26457.000000</td>\n",
       "      <td>26457.000000</td>\n",
       "      <td>26457.000000</td>\n",
       "      <td>26457.0</td>\n",
       "      <td>26457.000000</td>\n",
       "      <td>26457.000000</td>\n",
       "      <td>26457.000000</td>\n",
       "      <td>26457.000000</td>\n",
       "      <td>26457.000000</td>\n",
       "      <td>26457.000000</td>\n",
       "    </tr>\n",
       "    <tr>\n",
       "      <th>mean</th>\n",
       "      <td>0.500000</td>\n",
       "      <td>0.022561</td>\n",
       "      <td>0.103557</td>\n",
       "      <td>0.526964</td>\n",
       "      <td>0.196300</td>\n",
       "      <td>0.0</td>\n",
       "      <td>0.224742</td>\n",
       "      <td>0.294251</td>\n",
       "      <td>0.091280</td>\n",
       "      <td>0.062992</td>\n",
       "      <td>0.564612</td>\n",
       "      <td>0.759780</td>\n",
       "    </tr>\n",
       "    <tr>\n",
       "      <th>std</th>\n",
       "      <td>0.288692</td>\n",
       "      <td>0.039333</td>\n",
       "      <td>0.065813</td>\n",
       "      <td>0.240820</td>\n",
       "      <td>0.360870</td>\n",
       "      <td>0.0</td>\n",
       "      <td>0.417420</td>\n",
       "      <td>0.455714</td>\n",
       "      <td>0.288013</td>\n",
       "      <td>0.048248</td>\n",
       "      <td>0.275992</td>\n",
       "      <td>0.351141</td>\n",
       "    </tr>\n",
       "    <tr>\n",
       "      <th>min</th>\n",
       "      <td>0.000000</td>\n",
       "      <td>0.000000</td>\n",
       "      <td>0.000000</td>\n",
       "      <td>0.000000</td>\n",
       "      <td>0.000000</td>\n",
       "      <td>0.0</td>\n",
       "      <td>0.000000</td>\n",
       "      <td>0.000000</td>\n",
       "      <td>0.000000</td>\n",
       "      <td>0.000000</td>\n",
       "      <td>0.000000</td>\n",
       "      <td>0.000000</td>\n",
       "    </tr>\n",
       "    <tr>\n",
       "      <th>25%</th>\n",
       "      <td>0.250000</td>\n",
       "      <td>0.000000</td>\n",
       "      <td>0.061047</td>\n",
       "      <td>0.327907</td>\n",
       "      <td>0.032970</td>\n",
       "      <td>0.0</td>\n",
       "      <td>0.000000</td>\n",
       "      <td>0.000000</td>\n",
       "      <td>0.000000</td>\n",
       "      <td>0.052632</td>\n",
       "      <td>0.350000</td>\n",
       "      <td>0.500000</td>\n",
       "    </tr>\n",
       "    <tr>\n",
       "      <th>50%</th>\n",
       "      <td>0.500000</td>\n",
       "      <td>0.000000</td>\n",
       "      <td>0.084302</td>\n",
       "      <td>0.550524</td>\n",
       "      <td>0.037206</td>\n",
       "      <td>0.0</td>\n",
       "      <td>0.000000</td>\n",
       "      <td>0.000000</td>\n",
       "      <td>0.000000</td>\n",
       "      <td>0.052632</td>\n",
       "      <td>0.600000</td>\n",
       "      <td>1.000000</td>\n",
       "    </tr>\n",
       "    <tr>\n",
       "      <th>75%</th>\n",
       "      <td>0.750000</td>\n",
       "      <td>0.052632</td>\n",
       "      <td>0.127907</td>\n",
       "      <td>0.728263</td>\n",
       "      <td>0.040178</td>\n",
       "      <td>0.0</td>\n",
       "      <td>0.000000</td>\n",
       "      <td>1.000000</td>\n",
       "      <td>0.000000</td>\n",
       "      <td>0.105263</td>\n",
       "      <td>0.800000</td>\n",
       "      <td>1.000000</td>\n",
       "    </tr>\n",
       "    <tr>\n",
       "      <th>max</th>\n",
       "      <td>1.000000</td>\n",
       "      <td>1.000000</td>\n",
       "      <td>1.000000</td>\n",
       "      <td>1.000000</td>\n",
       "      <td>1.000000</td>\n",
       "      <td>0.0</td>\n",
       "      <td>1.000000</td>\n",
       "      <td>1.000000</td>\n",
       "      <td>1.000000</td>\n",
       "      <td>1.000000</td>\n",
       "      <td>1.000000</td>\n",
       "      <td>1.000000</td>\n",
       "    </tr>\n",
       "  </tbody>\n",
       "</table>\n",
       "</div>"
      ],
      "text/plain": [
       "              index     child_num  income_total    DAYS_BIRTH  DAYS_EMPLOYED  \\\n",
       "count  26457.000000  26457.000000  26457.000000  26457.000000   26457.000000   \n",
       "mean       0.500000      0.022561      0.103557      0.526964       0.196300   \n",
       "std        0.288692      0.039333      0.065813      0.240820       0.360870   \n",
       "min        0.000000      0.000000      0.000000      0.000000       0.000000   \n",
       "25%        0.250000      0.000000      0.061047      0.327907       0.032970   \n",
       "50%        0.500000      0.000000      0.084302      0.550524       0.037206   \n",
       "75%        0.750000      0.052632      0.127907      0.728263       0.040178   \n",
       "max        1.000000      1.000000      1.000000      1.000000       1.000000   \n",
       "\n",
       "       FLAG_MOBIL    work_phone         phone         email   family_size  \\\n",
       "count     26457.0  26457.000000  26457.000000  26457.000000  26457.000000   \n",
       "mean          0.0      0.224742      0.294251      0.091280      0.062992   \n",
       "std           0.0      0.417420      0.455714      0.288013      0.048248   \n",
       "min           0.0      0.000000      0.000000      0.000000      0.000000   \n",
       "25%           0.0      0.000000      0.000000      0.000000      0.052632   \n",
       "50%           0.0      0.000000      0.000000      0.000000      0.052632   \n",
       "75%           0.0      0.000000      1.000000      0.000000      0.105263   \n",
       "max           0.0      1.000000      1.000000      1.000000      1.000000   \n",
       "\n",
       "        begin_month        credit  \n",
       "count  26457.000000  26457.000000  \n",
       "mean       0.564612      0.759780  \n",
       "std        0.275992      0.351141  \n",
       "min        0.000000      0.000000  \n",
       "25%        0.350000      0.500000  \n",
       "50%        0.600000      1.000000  \n",
       "75%        0.800000      1.000000  \n",
       "max        1.000000      1.000000  "
      ]
     },
     "execution_count": 52,
     "metadata": {},
     "output_type": "execute_result"
    }
   ],
   "source": [
    "scaled_data.describe() # flag_mobil 필요없는 건 빼주는게 속도적인 측면에서 도움."
   ]
  },
  {
   "cell_type": "code",
   "execution_count": 53,
   "id": "f016dd04-73c4-4c9d-a4db-56d217fa7699",
   "metadata": {},
   "outputs": [
    {
     "data": {
      "text/plain": [
       "0        0.128571\n",
       "1        0.157143\n",
       "2        0.285714\n",
       "3        0.128571\n",
       "4        0.100000\n",
       "           ...   \n",
       "26452    0.142857\n",
       "26453    0.114286\n",
       "26454    0.185714\n",
       "26455    0.108571\n",
       "26456    0.051429\n",
       "Name: income_total, Length: 26457, dtype: float64"
      ]
     },
     "execution_count": 53,
     "metadata": {},
     "output_type": "execute_result"
    }
   ],
   "source": [
    "income_min = data['income_total'].min()\n",
    "income_max = data['income_total'].max()\n",
    "\n",
    "data['income_total'].apply(lambda x : x/income_max)"
   ]
  },
  {
   "cell_type": "markdown",
   "id": "ca9b9fb2",
   "metadata": {},
   "source": [
    "---\n",
    "### <span style=\"color:fuchsia\">**📚 3-3. Standard Scaling**</span>\n",
    "\n",
    "데이터를 통계적으로 표준정규분포화 시켜 스케일링을 하는 방식입니다. `z-score 정규화` 라고도 합니다.\n",
    "\n",
    "데이터의 평균이 0, 표준 편차가 1이 되도록 스케일링 합니다.\n",
    "\n",
    "$$ z = {{x - \\mu} \\over {\\sigma}} $$\n",
    "$$ \\mu : 데이터의\\ 평균, mean(X) $$\n",
    "$$ \\sigma : 데이터의\\ 표준편차, std(X)$$\n",
    "$$ X : 데이터\\ 셋 $$\n",
    "$$ x : 데이터\\ 샘플 $$\n",
    "\n",
    "`Sklearn`에서 Standard Scaler는 preprocessing 패키지에 있습니다.\n",
    "\n",
    "#### Reference\n",
    "\n",
    "- [Scikit-learn, Standard Scaler](https://scikit-learn.org/stable/modules/generated/sklearn.preprocessing.StandardScaler.html#sklearn.preprocessing.StandardScaler)"
   ]
  },
  {
   "cell_type": "code",
   "execution_count": 58,
   "id": "26110006",
   "metadata": {},
   "outputs": [
    {
     "name": "stdout",
     "output_type": "stream",
     "text": [
      "StandardScaler()\n"
     ]
    }
   ],
   "source": [
    "from sklearn.preprocessing import StandardScaler\n",
    "scaler = StandardScaler()\n",
    "print(scaler)"
   ]
  },
  {
   "cell_type": "code",
   "execution_count": 64,
   "id": "33906e3b",
   "metadata": {},
   "outputs": [],
   "source": [
    "numeric_data = data[num_columns]\n",
    "scaled_data = scaler.fit_transform(numeric_data)"
   ]
  },
  {
   "cell_type": "code",
   "execution_count": 65,
   "id": "5690b613",
   "metadata": {},
   "outputs": [],
   "source": [
    "scaled_data = scaler.transform(numeric_data)\n",
    "scaled_data = pd.DataFrame(scaled_data, columns=num_columns)"
   ]
  },
  {
   "cell_type": "code",
   "execution_count": 66,
   "id": "0097baec",
   "metadata": {},
   "outputs": [
    {
     "data": {
      "text/html": [
       "<div>\n",
       "<style scoped>\n",
       "    .dataframe tbody tr th:only-of-type {\n",
       "        vertical-align: middle;\n",
       "    }\n",
       "\n",
       "    .dataframe tbody tr th {\n",
       "        vertical-align: top;\n",
       "    }\n",
       "\n",
       "    .dataframe thead th {\n",
       "        text-align: right;\n",
       "    }\n",
       "</style>\n",
       "<table border=\"1\" class=\"dataframe\">\n",
       "  <thead>\n",
       "    <tr style=\"text-align: right;\">\n",
       "      <th></th>\n",
       "      <th>index</th>\n",
       "      <th>child_num</th>\n",
       "      <th>income_total</th>\n",
       "      <th>DAYS_BIRTH</th>\n",
       "      <th>DAYS_EMPLOYED</th>\n",
       "      <th>FLAG_MOBIL</th>\n",
       "      <th>work_phone</th>\n",
       "      <th>phone</th>\n",
       "      <th>email</th>\n",
       "      <th>family_size</th>\n",
       "      <th>begin_month</th>\n",
       "      <th>credit</th>\n",
       "    </tr>\n",
       "  </thead>\n",
       "  <tbody>\n",
       "    <tr>\n",
       "      <th>0</th>\n",
       "      <td>0</td>\n",
       "      <td>0</td>\n",
       "      <td>202500.0</td>\n",
       "      <td>-13899</td>\n",
       "      <td>-4709</td>\n",
       "      <td>1</td>\n",
       "      <td>0</td>\n",
       "      <td>0</td>\n",
       "      <td>0</td>\n",
       "      <td>2.0</td>\n",
       "      <td>-6.0</td>\n",
       "      <td>1.0</td>\n",
       "    </tr>\n",
       "    <tr>\n",
       "      <th>1</th>\n",
       "      <td>1</td>\n",
       "      <td>1</td>\n",
       "      <td>247500.0</td>\n",
       "      <td>-11380</td>\n",
       "      <td>-1540</td>\n",
       "      <td>1</td>\n",
       "      <td>0</td>\n",
       "      <td>0</td>\n",
       "      <td>1</td>\n",
       "      <td>3.0</td>\n",
       "      <td>-5.0</td>\n",
       "      <td>1.0</td>\n",
       "    </tr>\n",
       "    <tr>\n",
       "      <th>2</th>\n",
       "      <td>2</td>\n",
       "      <td>0</td>\n",
       "      <td>450000.0</td>\n",
       "      <td>-19087</td>\n",
       "      <td>-4434</td>\n",
       "      <td>1</td>\n",
       "      <td>0</td>\n",
       "      <td>1</td>\n",
       "      <td>0</td>\n",
       "      <td>2.0</td>\n",
       "      <td>-22.0</td>\n",
       "      <td>2.0</td>\n",
       "    </tr>\n",
       "    <tr>\n",
       "      <th>3</th>\n",
       "      <td>3</td>\n",
       "      <td>0</td>\n",
       "      <td>202500.0</td>\n",
       "      <td>-15088</td>\n",
       "      <td>-2092</td>\n",
       "      <td>1</td>\n",
       "      <td>0</td>\n",
       "      <td>1</td>\n",
       "      <td>0</td>\n",
       "      <td>2.0</td>\n",
       "      <td>-37.0</td>\n",
       "      <td>0.0</td>\n",
       "    </tr>\n",
       "    <tr>\n",
       "      <th>4</th>\n",
       "      <td>4</td>\n",
       "      <td>0</td>\n",
       "      <td>157500.0</td>\n",
       "      <td>-15037</td>\n",
       "      <td>-2105</td>\n",
       "      <td>1</td>\n",
       "      <td>0</td>\n",
       "      <td>0</td>\n",
       "      <td>0</td>\n",
       "      <td>2.0</td>\n",
       "      <td>-26.0</td>\n",
       "      <td>2.0</td>\n",
       "    </tr>\n",
       "  </tbody>\n",
       "</table>\n",
       "</div>"
      ],
      "text/plain": [
       "   index  child_num  income_total  DAYS_BIRTH  DAYS_EMPLOYED  FLAG_MOBIL  \\\n",
       "0      0          0      202500.0      -13899          -4709           1   \n",
       "1      1          1      247500.0      -11380          -1540           1   \n",
       "2      2          0      450000.0      -19087          -4434           1   \n",
       "3      3          0      202500.0      -15088          -2092           1   \n",
       "4      4          0      157500.0      -15037          -2105           1   \n",
       "\n",
       "   work_phone  phone  email  family_size  begin_month  credit  \n",
       "0           0      0      0          2.0         -6.0     1.0  \n",
       "1           0      0      1          3.0         -5.0     1.0  \n",
       "2           0      1      0          2.0        -22.0     2.0  \n",
       "3           0      1      0          2.0        -37.0     0.0  \n",
       "4           0      0      0          2.0        -26.0     2.0  "
      ]
     },
     "execution_count": 66,
     "metadata": {},
     "output_type": "execute_result"
    }
   ],
   "source": [
    "data[num_columns].head()"
   ]
  },
  {
   "cell_type": "code",
   "execution_count": 67,
   "id": "758c10a7",
   "metadata": {},
   "outputs": [
    {
     "data": {
      "text/html": [
       "<div>\n",
       "<style scoped>\n",
       "    .dataframe tbody tr th:only-of-type {\n",
       "        vertical-align: middle;\n",
       "    }\n",
       "\n",
       "    .dataframe tbody tr th {\n",
       "        vertical-align: top;\n",
       "    }\n",
       "\n",
       "    .dataframe thead th {\n",
       "        text-align: right;\n",
       "    }\n",
       "</style>\n",
       "<table border=\"1\" class=\"dataframe\">\n",
       "  <thead>\n",
       "    <tr style=\"text-align: right;\">\n",
       "      <th></th>\n",
       "      <th>index</th>\n",
       "      <th>child_num</th>\n",
       "      <th>income_total</th>\n",
       "      <th>DAYS_BIRTH</th>\n",
       "      <th>DAYS_EMPLOYED</th>\n",
       "      <th>FLAG_MOBIL</th>\n",
       "      <th>work_phone</th>\n",
       "      <th>phone</th>\n",
       "      <th>email</th>\n",
       "      <th>family_size</th>\n",
       "      <th>begin_month</th>\n",
       "      <th>credit</th>\n",
       "    </tr>\n",
       "  </thead>\n",
       "  <tbody>\n",
       "    <tr>\n",
       "      <th>count</th>\n",
       "      <td>26457.000000</td>\n",
       "      <td>26457.000000</td>\n",
       "      <td>2.645700e+04</td>\n",
       "      <td>26457.000000</td>\n",
       "      <td>26457.000000</td>\n",
       "      <td>26457.0</td>\n",
       "      <td>26457.000000</td>\n",
       "      <td>26457.000000</td>\n",
       "      <td>26457.000000</td>\n",
       "      <td>26457.000000</td>\n",
       "      <td>26457.000000</td>\n",
       "      <td>26457.000000</td>\n",
       "    </tr>\n",
       "    <tr>\n",
       "      <th>mean</th>\n",
       "      <td>13228.000000</td>\n",
       "      <td>0.428658</td>\n",
       "      <td>1.873065e+05</td>\n",
       "      <td>-15958.053899</td>\n",
       "      <td>59068.750728</td>\n",
       "      <td>1.0</td>\n",
       "      <td>0.224742</td>\n",
       "      <td>0.294251</td>\n",
       "      <td>0.091280</td>\n",
       "      <td>2.196848</td>\n",
       "      <td>-26.123294</td>\n",
       "      <td>1.519560</td>\n",
       "    </tr>\n",
       "    <tr>\n",
       "      <th>std</th>\n",
       "      <td>7637.622372</td>\n",
       "      <td>0.747326</td>\n",
       "      <td>1.018784e+05</td>\n",
       "      <td>4201.589022</td>\n",
       "      <td>137475.427503</td>\n",
       "      <td>0.0</td>\n",
       "      <td>0.417420</td>\n",
       "      <td>0.455714</td>\n",
       "      <td>0.288013</td>\n",
       "      <td>0.916717</td>\n",
       "      <td>16.559550</td>\n",
       "      <td>0.702283</td>\n",
       "    </tr>\n",
       "    <tr>\n",
       "      <th>min</th>\n",
       "      <td>0.000000</td>\n",
       "      <td>0.000000</td>\n",
       "      <td>2.700000e+04</td>\n",
       "      <td>-25152.000000</td>\n",
       "      <td>-15713.000000</td>\n",
       "      <td>1.0</td>\n",
       "      <td>0.000000</td>\n",
       "      <td>0.000000</td>\n",
       "      <td>0.000000</td>\n",
       "      <td>1.000000</td>\n",
       "      <td>-60.000000</td>\n",
       "      <td>0.000000</td>\n",
       "    </tr>\n",
       "    <tr>\n",
       "      <th>25%</th>\n",
       "      <td>6614.000000</td>\n",
       "      <td>0.000000</td>\n",
       "      <td>1.215000e+05</td>\n",
       "      <td>-19431.000000</td>\n",
       "      <td>-3153.000000</td>\n",
       "      <td>1.0</td>\n",
       "      <td>0.000000</td>\n",
       "      <td>0.000000</td>\n",
       "      <td>0.000000</td>\n",
       "      <td>2.000000</td>\n",
       "      <td>-39.000000</td>\n",
       "      <td>1.000000</td>\n",
       "    </tr>\n",
       "    <tr>\n",
       "      <th>50%</th>\n",
       "      <td>13228.000000</td>\n",
       "      <td>0.000000</td>\n",
       "      <td>1.575000e+05</td>\n",
       "      <td>-15547.000000</td>\n",
       "      <td>-1539.000000</td>\n",
       "      <td>1.0</td>\n",
       "      <td>0.000000</td>\n",
       "      <td>0.000000</td>\n",
       "      <td>0.000000</td>\n",
       "      <td>2.000000</td>\n",
       "      <td>-24.000000</td>\n",
       "      <td>2.000000</td>\n",
       "    </tr>\n",
       "    <tr>\n",
       "      <th>75%</th>\n",
       "      <td>19842.000000</td>\n",
       "      <td>1.000000</td>\n",
       "      <td>2.250000e+05</td>\n",
       "      <td>-12446.000000</td>\n",
       "      <td>-407.000000</td>\n",
       "      <td>1.0</td>\n",
       "      <td>0.000000</td>\n",
       "      <td>1.000000</td>\n",
       "      <td>0.000000</td>\n",
       "      <td>3.000000</td>\n",
       "      <td>-12.000000</td>\n",
       "      <td>2.000000</td>\n",
       "    </tr>\n",
       "    <tr>\n",
       "      <th>max</th>\n",
       "      <td>26456.000000</td>\n",
       "      <td>19.000000</td>\n",
       "      <td>1.575000e+06</td>\n",
       "      <td>-7705.000000</td>\n",
       "      <td>365243.000000</td>\n",
       "      <td>1.0</td>\n",
       "      <td>1.000000</td>\n",
       "      <td>1.000000</td>\n",
       "      <td>1.000000</td>\n",
       "      <td>20.000000</td>\n",
       "      <td>0.000000</td>\n",
       "      <td>2.000000</td>\n",
       "    </tr>\n",
       "  </tbody>\n",
       "</table>\n",
       "</div>"
      ],
      "text/plain": [
       "              index     child_num  income_total    DAYS_BIRTH  DAYS_EMPLOYED  \\\n",
       "count  26457.000000  26457.000000  2.645700e+04  26457.000000   26457.000000   \n",
       "mean   13228.000000      0.428658  1.873065e+05 -15958.053899   59068.750728   \n",
       "std     7637.622372      0.747326  1.018784e+05   4201.589022  137475.427503   \n",
       "min        0.000000      0.000000  2.700000e+04 -25152.000000  -15713.000000   \n",
       "25%     6614.000000      0.000000  1.215000e+05 -19431.000000   -3153.000000   \n",
       "50%    13228.000000      0.000000  1.575000e+05 -15547.000000   -1539.000000   \n",
       "75%    19842.000000      1.000000  2.250000e+05 -12446.000000    -407.000000   \n",
       "max    26456.000000     19.000000  1.575000e+06  -7705.000000  365243.000000   \n",
       "\n",
       "       FLAG_MOBIL    work_phone         phone         email   family_size  \\\n",
       "count     26457.0  26457.000000  26457.000000  26457.000000  26457.000000   \n",
       "mean          1.0      0.224742      0.294251      0.091280      2.196848   \n",
       "std           0.0      0.417420      0.455714      0.288013      0.916717   \n",
       "min           1.0      0.000000      0.000000      0.000000      1.000000   \n",
       "25%           1.0      0.000000      0.000000      0.000000      2.000000   \n",
       "50%           1.0      0.000000      0.000000      0.000000      2.000000   \n",
       "75%           1.0      0.000000      1.000000      0.000000      3.000000   \n",
       "max           1.0      1.000000      1.000000      1.000000     20.000000   \n",
       "\n",
       "        begin_month        credit  \n",
       "count  26457.000000  26457.000000  \n",
       "mean     -26.123294      1.519560  \n",
       "std       16.559550      0.702283  \n",
       "min      -60.000000      0.000000  \n",
       "25%      -39.000000      1.000000  \n",
       "50%      -24.000000      2.000000  \n",
       "75%      -12.000000      2.000000  \n",
       "max        0.000000      2.000000  "
      ]
     },
     "execution_count": 67,
     "metadata": {},
     "output_type": "execute_result"
    }
   ],
   "source": [
    "data[num_columns].describe()"
   ]
  },
  {
   "cell_type": "code",
   "execution_count": 68,
   "id": "b31a38d0",
   "metadata": {},
   "outputs": [
    {
     "data": {
      "text/html": [
       "<div>\n",
       "<style scoped>\n",
       "    .dataframe tbody tr th:only-of-type {\n",
       "        vertical-align: middle;\n",
       "    }\n",
       "\n",
       "    .dataframe tbody tr th {\n",
       "        vertical-align: top;\n",
       "    }\n",
       "\n",
       "    .dataframe thead th {\n",
       "        text-align: right;\n",
       "    }\n",
       "</style>\n",
       "<table border=\"1\" class=\"dataframe\">\n",
       "  <thead>\n",
       "    <tr style=\"text-align: right;\">\n",
       "      <th></th>\n",
       "      <th>index</th>\n",
       "      <th>child_num</th>\n",
       "      <th>income_total</th>\n",
       "      <th>DAYS_BIRTH</th>\n",
       "      <th>DAYS_EMPLOYED</th>\n",
       "      <th>FLAG_MOBIL</th>\n",
       "      <th>work_phone</th>\n",
       "      <th>phone</th>\n",
       "      <th>email</th>\n",
       "      <th>family_size</th>\n",
       "      <th>begin_month</th>\n",
       "      <th>credit</th>\n",
       "    </tr>\n",
       "  </thead>\n",
       "  <tbody>\n",
       "    <tr>\n",
       "      <th>0</th>\n",
       "      <td>-1.731985</td>\n",
       "      <td>-0.573599</td>\n",
       "      <td>0.149136</td>\n",
       "      <td>0.490075</td>\n",
       "      <td>-0.463930</td>\n",
       "      <td>0.0</td>\n",
       "      <td>-0.538417</td>\n",
       "      <td>-0.645705</td>\n",
       "      <td>-0.316937</td>\n",
       "      <td>-0.214735</td>\n",
       "      <td>1.215231</td>\n",
       "      <td>-0.739830</td>\n",
       "    </tr>\n",
       "    <tr>\n",
       "      <th>1</th>\n",
       "      <td>-1.731854</td>\n",
       "      <td>0.764529</td>\n",
       "      <td>0.590848</td>\n",
       "      <td>1.089621</td>\n",
       "      <td>-0.440878</td>\n",
       "      <td>0.0</td>\n",
       "      <td>-0.538417</td>\n",
       "      <td>-0.645705</td>\n",
       "      <td>3.155199</td>\n",
       "      <td>0.876135</td>\n",
       "      <td>1.275620</td>\n",
       "      <td>-0.739830</td>\n",
       "    </tr>\n",
       "    <tr>\n",
       "      <th>2</th>\n",
       "      <td>-1.731723</td>\n",
       "      <td>-0.573599</td>\n",
       "      <td>2.578550</td>\n",
       "      <td>-0.744719</td>\n",
       "      <td>-0.461929</td>\n",
       "      <td>0.0</td>\n",
       "      <td>-0.538417</td>\n",
       "      <td>1.548696</td>\n",
       "      <td>-0.316937</td>\n",
       "      <td>-0.214735</td>\n",
       "      <td>0.249003</td>\n",
       "      <td>0.684125</td>\n",
       "    </tr>\n",
       "    <tr>\n",
       "      <th>3</th>\n",
       "      <td>-1.731593</td>\n",
       "      <td>-0.573599</td>\n",
       "      <td>0.149136</td>\n",
       "      <td>0.207081</td>\n",
       "      <td>-0.444893</td>\n",
       "      <td>0.0</td>\n",
       "      <td>-0.538417</td>\n",
       "      <td>1.548696</td>\n",
       "      <td>-0.316937</td>\n",
       "      <td>-0.214735</td>\n",
       "      <td>-0.656836</td>\n",
       "      <td>-2.163785</td>\n",
       "    </tr>\n",
       "    <tr>\n",
       "      <th>4</th>\n",
       "      <td>-1.731462</td>\n",
       "      <td>-0.573599</td>\n",
       "      <td>-0.292575</td>\n",
       "      <td>0.219220</td>\n",
       "      <td>-0.444988</td>\n",
       "      <td>0.0</td>\n",
       "      <td>-0.538417</td>\n",
       "      <td>-0.645705</td>\n",
       "      <td>-0.316937</td>\n",
       "      <td>-0.214735</td>\n",
       "      <td>0.007446</td>\n",
       "      <td>0.684125</td>\n",
       "    </tr>\n",
       "  </tbody>\n",
       "</table>\n",
       "</div>"
      ],
      "text/plain": [
       "      index  child_num  income_total  DAYS_BIRTH  DAYS_EMPLOYED  FLAG_MOBIL  \\\n",
       "0 -1.731985  -0.573599      0.149136    0.490075      -0.463930         0.0   \n",
       "1 -1.731854   0.764529      0.590848    1.089621      -0.440878         0.0   \n",
       "2 -1.731723  -0.573599      2.578550   -0.744719      -0.461929         0.0   \n",
       "3 -1.731593  -0.573599      0.149136    0.207081      -0.444893         0.0   \n",
       "4 -1.731462  -0.573599     -0.292575    0.219220      -0.444988         0.0   \n",
       "\n",
       "   work_phone     phone     email  family_size  begin_month    credit  \n",
       "0   -0.538417 -0.645705 -0.316937    -0.214735     1.215231 -0.739830  \n",
       "1   -0.538417 -0.645705  3.155199     0.876135     1.275620 -0.739830  \n",
       "2   -0.538417  1.548696 -0.316937    -0.214735     0.249003  0.684125  \n",
       "3   -0.538417  1.548696 -0.316937    -0.214735    -0.656836 -2.163785  \n",
       "4   -0.538417 -0.645705 -0.316937    -0.214735     0.007446  0.684125  "
      ]
     },
     "execution_count": 68,
     "metadata": {},
     "output_type": "execute_result"
    }
   ],
   "source": [
    "scaled_data.head()"
   ]
  },
  {
   "cell_type": "code",
   "execution_count": 69,
   "id": "16c778ab",
   "metadata": {},
   "outputs": [
    {
     "data": {
      "text/html": [
       "<div>\n",
       "<style scoped>\n",
       "    .dataframe tbody tr th:only-of-type {\n",
       "        vertical-align: middle;\n",
       "    }\n",
       "\n",
       "    .dataframe tbody tr th {\n",
       "        vertical-align: top;\n",
       "    }\n",
       "\n",
       "    .dataframe thead th {\n",
       "        text-align: right;\n",
       "    }\n",
       "</style>\n",
       "<table border=\"1\" class=\"dataframe\">\n",
       "  <thead>\n",
       "    <tr style=\"text-align: right;\">\n",
       "      <th></th>\n",
       "      <th>index</th>\n",
       "      <th>child_num</th>\n",
       "      <th>income_total</th>\n",
       "      <th>DAYS_BIRTH</th>\n",
       "      <th>DAYS_EMPLOYED</th>\n",
       "      <th>FLAG_MOBIL</th>\n",
       "      <th>work_phone</th>\n",
       "      <th>phone</th>\n",
       "      <th>email</th>\n",
       "      <th>family_size</th>\n",
       "      <th>begin_month</th>\n",
       "      <th>credit</th>\n",
       "    </tr>\n",
       "  </thead>\n",
       "  <tbody>\n",
       "    <tr>\n",
       "      <th>count</th>\n",
       "      <td>2.645700e+04</td>\n",
       "      <td>2.645700e+04</td>\n",
       "      <td>2.645700e+04</td>\n",
       "      <td>2.645700e+04</td>\n",
       "      <td>2.645700e+04</td>\n",
       "      <td>26457.0</td>\n",
       "      <td>2.645700e+04</td>\n",
       "      <td>2.645700e+04</td>\n",
       "      <td>2.645700e+04</td>\n",
       "      <td>2.645700e+04</td>\n",
       "      <td>2.645700e+04</td>\n",
       "      <td>2.645700e+04</td>\n",
       "    </tr>\n",
       "    <tr>\n",
       "      <th>mean</th>\n",
       "      <td>5.078399e-17</td>\n",
       "      <td>-1.034034e-15</td>\n",
       "      <td>8.005171e-16</td>\n",
       "      <td>8.393080e-17</td>\n",
       "      <td>1.378914e-16</td>\n",
       "      <td>0.0</td>\n",
       "      <td>1.437772e-15</td>\n",
       "      <td>-4.122559e-16</td>\n",
       "      <td>-6.303097e-16</td>\n",
       "      <td>-3.448964e-17</td>\n",
       "      <td>-4.292258e-16</td>\n",
       "      <td>4.235020e-16</td>\n",
       "    </tr>\n",
       "    <tr>\n",
       "      <th>std</th>\n",
       "      <td>1.000019e+00</td>\n",
       "      <td>1.000019e+00</td>\n",
       "      <td>1.000019e+00</td>\n",
       "      <td>1.000019e+00</td>\n",
       "      <td>1.000019e+00</td>\n",
       "      <td>0.0</td>\n",
       "      <td>1.000019e+00</td>\n",
       "      <td>1.000019e+00</td>\n",
       "      <td>1.000019e+00</td>\n",
       "      <td>1.000019e+00</td>\n",
       "      <td>1.000019e+00</td>\n",
       "      <td>1.000019e+00</td>\n",
       "    </tr>\n",
       "    <tr>\n",
       "      <th>min</th>\n",
       "      <td>-1.731985e+00</td>\n",
       "      <td>-5.735993e-01</td>\n",
       "      <td>-1.573539e+00</td>\n",
       "      <td>-2.188248e+00</td>\n",
       "      <td>-5.439748e-01</td>\n",
       "      <td>0.0</td>\n",
       "      <td>-5.384173e-01</td>\n",
       "      <td>-6.457046e-01</td>\n",
       "      <td>-3.169372e-01</td>\n",
       "      <td>-1.305605e+00</td>\n",
       "      <td>-2.045789e+00</td>\n",
       "      <td>-2.163785e+00</td>\n",
       "    </tr>\n",
       "    <tr>\n",
       "      <th>25%</th>\n",
       "      <td>-8.659927e-01</td>\n",
       "      <td>-5.735993e-01</td>\n",
       "      <td>-6.459445e-01</td>\n",
       "      <td>-8.265948e-01</td>\n",
       "      <td>-4.526113e-01</td>\n",
       "      <td>0.0</td>\n",
       "      <td>-5.384173e-01</td>\n",
       "      <td>-6.457046e-01</td>\n",
       "      <td>-3.169372e-01</td>\n",
       "      <td>-2.147353e-01</td>\n",
       "      <td>-7.776147e-01</td>\n",
       "      <td>-7.398300e-01</td>\n",
       "    </tr>\n",
       "    <tr>\n",
       "      <th>50%</th>\n",
       "      <td>0.000000e+00</td>\n",
       "      <td>-5.735993e-01</td>\n",
       "      <td>-2.925752e-01</td>\n",
       "      <td>9.783481e-02</td>\n",
       "      <td>-4.408708e-01</td>\n",
       "      <td>0.0</td>\n",
       "      <td>-5.384173e-01</td>\n",
       "      <td>-6.457046e-01</td>\n",
       "      <td>-3.169372e-01</td>\n",
       "      <td>-2.147353e-01</td>\n",
       "      <td>1.282242e-01</td>\n",
       "      <td>6.841248e-01</td>\n",
       "    </tr>\n",
       "    <tr>\n",
       "      <th>75%</th>\n",
       "      <td>8.659927e-01</td>\n",
       "      <td>7.645293e-01</td>\n",
       "      <td>3.699921e-01</td>\n",
       "      <td>8.359029e-01</td>\n",
       "      <td>-4.326364e-01</td>\n",
       "      <td>0.0</td>\n",
       "      <td>-5.384173e-01</td>\n",
       "      <td>1.548696e+00</td>\n",
       "      <td>-3.169372e-01</td>\n",
       "      <td>8.761348e-01</td>\n",
       "      <td>8.528952e-01</td>\n",
       "      <td>6.841248e-01</td>\n",
       "    </tr>\n",
       "    <tr>\n",
       "      <th>max</th>\n",
       "      <td>1.731985e+00</td>\n",
       "      <td>2.485084e+01</td>\n",
       "      <td>1.362134e+01</td>\n",
       "      <td>1.964307e+00</td>\n",
       "      <td>2.227162e+00</td>\n",
       "      <td>0.0</td>\n",
       "      <td>1.857295e+00</td>\n",
       "      <td>1.548696e+00</td>\n",
       "      <td>3.155199e+00</td>\n",
       "      <td>1.942093e+01</td>\n",
       "      <td>1.577566e+00</td>\n",
       "      <td>6.841248e-01</td>\n",
       "    </tr>\n",
       "  </tbody>\n",
       "</table>\n",
       "</div>"
      ],
      "text/plain": [
       "              index     child_num  income_total    DAYS_BIRTH  DAYS_EMPLOYED  \\\n",
       "count  2.645700e+04  2.645700e+04  2.645700e+04  2.645700e+04   2.645700e+04   \n",
       "mean   5.078399e-17 -1.034034e-15  8.005171e-16  8.393080e-17   1.378914e-16   \n",
       "std    1.000019e+00  1.000019e+00  1.000019e+00  1.000019e+00   1.000019e+00   \n",
       "min   -1.731985e+00 -5.735993e-01 -1.573539e+00 -2.188248e+00  -5.439748e-01   \n",
       "25%   -8.659927e-01 -5.735993e-01 -6.459445e-01 -8.265948e-01  -4.526113e-01   \n",
       "50%    0.000000e+00 -5.735993e-01 -2.925752e-01  9.783481e-02  -4.408708e-01   \n",
       "75%    8.659927e-01  7.645293e-01  3.699921e-01  8.359029e-01  -4.326364e-01   \n",
       "max    1.731985e+00  2.485084e+01  1.362134e+01  1.964307e+00   2.227162e+00   \n",
       "\n",
       "       FLAG_MOBIL    work_phone         phone         email   family_size  \\\n",
       "count     26457.0  2.645700e+04  2.645700e+04  2.645700e+04  2.645700e+04   \n",
       "mean          0.0  1.437772e-15 -4.122559e-16 -6.303097e-16 -3.448964e-17   \n",
       "std           0.0  1.000019e+00  1.000019e+00  1.000019e+00  1.000019e+00   \n",
       "min           0.0 -5.384173e-01 -6.457046e-01 -3.169372e-01 -1.305605e+00   \n",
       "25%           0.0 -5.384173e-01 -6.457046e-01 -3.169372e-01 -2.147353e-01   \n",
       "50%           0.0 -5.384173e-01 -6.457046e-01 -3.169372e-01 -2.147353e-01   \n",
       "75%           0.0 -5.384173e-01  1.548696e+00 -3.169372e-01  8.761348e-01   \n",
       "max           0.0  1.857295e+00  1.548696e+00  3.155199e+00  1.942093e+01   \n",
       "\n",
       "        begin_month        credit  \n",
       "count  2.645700e+04  2.645700e+04  \n",
       "mean  -4.292258e-16  4.235020e-16  \n",
       "std    1.000019e+00  1.000019e+00  \n",
       "min   -2.045789e+00 -2.163785e+00  \n",
       "25%   -7.776147e-01 -7.398300e-01  \n",
       "50%    1.282242e-01  6.841248e-01  \n",
       "75%    8.528952e-01  6.841248e-01  \n",
       "max    1.577566e+00  6.841248e-01  "
      ]
     },
     "execution_count": 69,
     "metadata": {},
     "output_type": "execute_result"
    }
   ],
   "source": [
    "scaled_data.describe()\n",
    "# 램덤포레스트, 트리베이스드 모델들은 수의 대소관계로 비교. 스케일링 자체가 필요없을 수도.\n",
    "# 어떤데이터가 편중되어있는지, 어떤데이터가 아웃라이어가 많은지 볼 수 있음.\n",
    "# 모델의성능이 굉장히 좋아지는 편\n",
    "# 데이터가 정규분포를 가져가고 있다."
   ]
  },
  {
   "cell_type": "markdown",
   "id": "0d4534f3",
   "metadata": {},
   "source": [
    "기존 데이터에서는 변수별로 서로 다른 평균과 표준 편차 값을 가지고 있었습니다.\n",
    "\n",
    "Standard 스케일링된 데이터를 살펴보면, 평균이 0 표준편차가 1이 되었음을 확인할 수 있습니다."
   ]
  },
  {
   "cell_type": "markdown",
   "id": "212d959e",
   "metadata": {},
   "source": [
    "### <span style=\"color:fuchsia\">**📚 3-4. Log Transformation**</span> \n",
    "- ___ sns.histplot\n",
    "\n",
    "변수의 범위를 조정하는 Min-Max Scaling과 Standard Scaling을 확인했습니다.<br>\n",
    "이번에는 치우친 분포(skew)의 형태를 보정해주는 방법 중 하나인 Log Transformation에 대해 배우겠습니다.\n",
    "\n",
    "로그 변환은 어떤 변수의 범위가 양수인 경우 사용할 수 있으며, 각 변수에 대해 자연 로그를 취하는 연산 입니다.\n",
    "\n",
    "해당 연산을 적용하면, 다음과 같은 왼쪽으로 치우친 분포(왼쪽)를 좋은 형태(오른쪽)의 정규 분포의 형태로 만들어줄 수 있습니다.\n",
    "\n",
    "이는 왼쪽 그림에서 오른쪽으로 치우친 큰 값들을 작게(지수로) 표현함으로써 분포를 왼쪽으로 당기는 효과를 줄 수 있기 때문입니다.\n",
    "\n",
    "<img src='https://miro.medium.com/max/1620/1*O2R4nH0nR6d3bOxaYU10lg.png'>\n",
    "\n",
    "#### ref\n",
    "- [Log Transformation](https://medium.com/@kyawsawhtoon/log-transformation-purpose-and-interpretation-9444b4b049c9)"
   ]
  },
  {
   "cell_type": "code",
   "execution_count": 111,
   "id": "4ad41b70-6f88-4d39-84e0-dea627b4c0de",
   "metadata": {},
   "outputs": [
    {
     "name": "stdout",
     "output_type": "stream",
     "text": [
      "1.0\n",
      "10.0\n"
     ]
    }
   ],
   "source": [
    "# 로그변환은 범위가 양수일떄만 가능\n",
    "# 양변에 자연로그를 취함.\n",
    "# 로그를 씌우면 큰 값은 엄청 줄어듦.\n",
    "print(np.log2(2))\n",
    "print(np.log2(1024))\n",
    "# 자연로그를 씌우느냐 아님 다른 로그 움직임의 정도가 달라질 수 있다.\n",
    "# 우편향 되어있따? 오른쪽에 데이터가 많다. -> 익스포넨셜? 값이 너무커지기 떄문에 고려해야함."
   ]
  },
  {
   "cell_type": "code",
   "execution_count": 129,
   "id": "4701be12",
   "metadata": {},
   "outputs": [
    {
     "data": {
      "image/png": "[encoded data removed]",
      "text/plain": [
       "<Figure size 864x360 with 1 Axes>"
      ]
     },
     "metadata": {
      "needs_background": "light"
     },
     "output_type": "display_data"
    }
   ],
   "source": [
    "# 로그 변환 전\n",
    "fig, ax = plt.subplots(1, 1, figsize=(12, 5))\n",
    "scaled_data['log_income_total'] = np.log(data['income_total'])\n",
    "sns.histplot(data=scaled_data, x='log_income_total', bins=30)\n",
    "plt.show()"
   ]
  },
  {
   "cell_type": "code",
   "execution_count": 115,
   "id": "1c70e441",
   "metadata": {},
   "outputs": [
    {
     "data": {
      "image/png": "[encoded data removed]",
      "text/plain": [
       "<Figure size 864x360 with 1 Axes>"
      ]
     },
     "metadata": {
      "needs_background": "light"
     },
     "output_type": "display_data"
    }
   ],
   "source": [
    "# 로그 변환 후\n",
    "fig, ax = plt.subplots(1,1,figsize=(12,5))\n",
    "scaled_data['log_income_total'] = np.log(data['income_total'])\n",
    "sns.histplot(data=scaled_data, x='income_total', bins=30)\n",
    "plt.show()\n",
    "ㅅㅂ놓침\n"
   ]
  },
  {
   "cell_type": "markdown",
   "id": "99b17c57",
   "metadata": {},
   "source": [
    "### <span style=\"color:fuchsia\">**📚 3-5. Box-Cox, Yeo-Johnson, Quantile Transformation**</span>\n",
    "\n",
    "여러가지 변환이 있습니다. \n",
    "\n",
    "세가지 변환 모두 치우친 분포의 데이터를 정규 분포로 보정해주는 효과가 있으며,\n",
    "\n",
    "Box-Cox 변환의 경우 Log 변환과 함께 양수에만 적용할 수 있는 변환이고, \n",
    "\n",
    "Yeo-Johnson 변환은 Box-Cox 변환의 제약인 음수를 가진 변수에서도 변환을 할 수 있는 변환입니다.\n",
    "\n",
    "Quantile 변환은 가장 자주 발생하는 값(the most frequent values.) 주위로 분포를 조정하며, 이상치의 영향을 감소시켜주는 특징도 있습니다.\n",
    "\n",
    "Quantile Transformation 캐글 우승 솔루션에 많이 쓰임\n",
    "\n",
    "- Box-Cox 변환은 Lambda 값에 따라 변환이 달라지게 되는데, Lambda 값이 0일 경우 Log 변환과 동일합니다.\n",
    "\n",
    "<img src='https://scikit-learn.org/stable/_images/sphx_glr_plot_map_data_to_normal_001.png'>\n",
    "\n",
    "#### Reference\n",
    "- [Scikit-learn PowerTransformer, Box-Cox, Yeo-Johnson Transformation](https://scikit-learn.org/stable/modules/generated/sklearn.preprocessing.PowerTransformer.html#sklearn.preprocessing.PowerTransformer)\n",
    "- [Scikit-learn Quantile Transformation](https://scikit-learn.org/stable/modules/generated/sklearn.preprocessing.QuantileTransformer.html#sklearn.preprocessing.QuantileTransformer)\n",
    "- [Scikit-learn Map Data To Normal Dist](https://scikit-learn.org/stable/auto_examples/preprocessing/plot_map_data_to_normal.html#sphx-glr-auto-examples-preprocessing-plot-map-data-to-normal-py)"
   ]
  },
  {
   "cell_type": "code",
   "execution_count": 116,
   "id": "75ebacb6",
   "metadata": {},
   "outputs": [
    {
     "data": {
      "text/plain": [
       "<AxesSubplot:>"
      ]
     },
     "execution_count": 116,
     "metadata": {},
     "output_type": "execute_result"
    },
    {
     "data": {
      "image/png": "[encoded data removed]",
      "text/plain": [
       "<Figure size 432x288 with 1 Axes>"
      ]
     },
     "metadata": {
      "needs_background": "light"
     },
     "output_type": "display_data"
    }
   ],
   "source": [
    "from sklearn.preprocessing import PowerTransformer\n",
    "\n",
    "# Box-Cox 변환 후\n",
    "trans = PowerTransformer(method='box-cox')\n",
    "\n",
    "scaled_data['box_cox_income_total'] = trans.fit_transform(data['income_total'].values.reshape(-1, 1))\n",
    "scaled_data['box_cox_income_total'].hist(bins=20)"
   ]
  },
  {
   "cell_type": "code",
   "execution_count": 117,
   "id": "ef889d07",
   "metadata": {},
   "outputs": [
    {
     "data": {
      "text/plain": [
       "<AxesSubplot:>"
      ]
     },
     "execution_count": 117,
     "metadata": {},
     "output_type": "execute_result"
    },
    {
     "data": {
      "image/png": "[encoded data removed]",
      "text/plain": [
       "<Figure size 432x288 with 1 Axes>"
      ]
     },
     "metadata": {
      "needs_background": "light"
     },
     "output_type": "display_data"
    }
   ],
   "source": [
    "from sklearn.preprocessing import PowerTransformer\n",
    "\n",
    "# Yeo-Johnson 변환 후\n",
    "trans = PowerTransformer(method='yeo-johnson')\n",
    "\n",
    "scaled_data['yeo_johnson_income_total'] = trans.fit_transform(scaled_data['income_total'].values.reshape(-1, 1))\n",
    "scaled_data['yeo_johnson_income_total'].hist(bins=20) \n",
    "# SCALED DATA 도 변환 가능."
   ]
  },
  {
   "cell_type": "code",
   "execution_count": 118,
   "id": "b19628c3",
   "metadata": {},
   "outputs": [
    {
     "data": {
      "text/plain": [
       "<AxesSubplot:>"
      ]
     },
     "execution_count": 118,
     "metadata": {},
     "output_type": "execute_result"
    },
    {
     "data": {
      "image/png": "[encoded data removed]",
      "text/plain": [
       "<Figure size 432x288 with 1 Axes>"
      ]
     },
     "metadata": {
      "needs_background": "light"
     },
     "output_type": "display_data"
    }
   ],
   "source": [
    "from sklearn.preprocessing import QuantileTransformer\n",
    "\n",
    "# Quantile 변환 후\n",
    "trans = QuantileTransformer(output_distribution='normal')\n",
    "\n",
    "scaled_data['quantile_income_total'] = trans.fit_transform(scaled_data['income_total'].values.reshape(-1, 1))\n",
    "scaled_data['quantile_income_total'].hist(bins=20)"
   ]
  },
  {
   "cell_type": "markdown",
   "id": "38c15daf",
   "metadata": {},
   "source": [
    "---\n",
    "## <span style=\"color:fuchsia\">**📚 4. Missing Values**</span>\n",
    "\n",
    "\n",
    "### <span style=\"color:fuchsia\">**📚 4-1. 대표 값을 사용한 결측치 처리**</span>\n",
    "- msno.bar, pd.isna(data).sum()\n",
    "\n",
    "정형 데이터를 다루다보면, 값이 NaN(Not a Number or Null)으로 되어있는 경우가 있습니다. 이러한 값을 결측치라 하며, \n",
    "\n",
    "가장 간단한 방법으로 평균이나 중간값 또는 최빈값 같은 변수의 대표값을 사용할 수 있습니다.\n",
    "\n",
    "결측치를 확인하는 방법으로 missingno 라이브러리의 `matrix()` 메소드를 사용하거나 Pandas의 `isna() + sum()` 메소드를 사용할 수 있습니다.\n",
    "\n",
    "<div class=\"alert alert-block alert-danger\">\n",
    "    <b>주의</b> 결측치 처리는 가능하면 스케일링 작업 이전에 해주는 것이 좋습니다. 예를 들어 특정 컬럼의 결측치를 평균 값으로 대치하려고할 때 Standard Scaling을 진행하게되면 해당 컬럼의 결측치는 모두 0으로 대치될 수 있기 때문입니다. \n",
    "</div>\n"
   ]
  },
  {
   "cell_type": "code",
   "execution_count": 132,
   "id": "7092194c",
   "metadata": {},
   "outputs": [
    {
     "data": {
      "text/plain": [
       "<AxesSubplot:>"
      ]
     },
     "execution_count": 132,
     "metadata": {},
     "output_type": "execute_result"
    },
    {
     "data": {
      "image/png": "[encoded data removed]",
      "text/plain": [
       "<Figure size 1728x720 with 3 Axes>"
      ]
     },
     "metadata": {
      "needs_background": "light"
     },
     "output_type": "display_data"
    }
   ],
   "source": [
    "# msno.matrix(data)\n",
    "msno.bar(data)"
   ]
  },
  {
   "cell_type": "code",
   "execution_count": 137,
   "id": "251af3e7",
   "metadata": {},
   "outputs": [
    {
     "data": {
      "text/plain": [
       "occyp_type    8171\n",
       "dtype: int64"
      ]
     },
     "execution_count": 137,
     "metadata": {},
     "output_type": "execute_result"
    }
   ],
   "source": [
    "na_list = pd.isna(data).sum()\n",
    "# print(na_list)\n",
    "na_list[na_list > 0]"
   ]
  },
  {
   "cell_type": "markdown",
   "id": "9f62390f",
   "metadata": {},
   "source": [
    "---\n",
    "### <span style=\"color:fuchsia\">**📚 4-2. 평균(mean) (모평균 = 기댓값)**</span>\n",
    "- mean_df.loc[pd.isna(data['_']),'_'], pd.isna(mean_df[_]).sum(),  mean_df.groupby(['_','_','_'])[['_']].mean()"
   ]
  },
  {
   "cell_type": "markdown",
   "id": "34541f01",
   "metadata": {},
   "source": [
    "확률 이론과 통계 관점에서 (모)평균 또는 기댓값은 중심에 대한 경향성을 알 수 있는 척도입니다.\n",
    "\n",
    "일반적으로 평균이라고 부르는 것으로 산술 평균이라고 하고, 이 평균은 표본 평균이라고도 합니다. (다 덧셈으로 더하고 갯수로 나눈 것.)\n",
    "\n",
    "평균은 모든 관측치의 값을 모두 반영하므로 `지나치게 작거나 큰 값(이상치)들의 영향을 많이` 받게 됩니다.\n",
    "\n",
    "평균은 모든 샘플의 값을 더하고, 샘플의 개수로 나누어 계산할 수 있습니다.\n",
    "\n",
    "$$ E(x) = {\\sum x \\over n}$$"
   ]
  },
  {
   "cell_type": "markdown",
   "id": "102cb886-c3c7-45f2-88c0-46bbc81b7e04",
   "metadata": {},
   "source": [
    "그냥바로 평균을 쓰지말고 그룹바이를 써라"
   ]
  },
  {
   "cell_type": "code",
   "execution_count": 138,
   "id": "69e0e591",
   "metadata": {},
   "outputs": [],
   "source": [
    "mean_df = data.copy()"
   ]
  },
  {
   "cell_type": "code",
   "execution_count": 144,
   "id": "012714b8-3270-45ac-9ddd-22cd7ac42190",
   "metadata": {},
   "outputs": [],
   "source": [
    "# row = pd.isna[mean_df['occyp_type']]\n",
    "# col = 'occyp_type'\n",
    "\n",
    "# mean_df.loc[row,col] = "
   ]
  },
  {
   "cell_type": "code",
   "execution_count": 142,
   "id": "ea5fe7ad",
   "metadata": {},
   "outputs": [
    {
     "data": {
      "text/plain": [
       "0        NaN\n",
       "8        NaN\n",
       "14       NaN\n",
       "18       NaN\n",
       "19       NaN\n",
       "        ... \n",
       "26439    NaN\n",
       "26441    NaN\n",
       "26443    NaN\n",
       "26449    NaN\n",
       "26453    NaN\n",
       "Name: occyp_type, Length: 8171, dtype: object"
      ]
     },
     "execution_count": 142,
     "metadata": {},
     "output_type": "execute_result"
    }
   ],
   "source": [
    "# pd.isna(data['index'])\n",
    "mean_df.loc[pd.isna(data['occyp_type']),'occyp_type']"
   ]
  },
  {
   "cell_type": "code",
   "execution_count": 145,
   "id": "cc20d77f",
   "metadata": {},
   "outputs": [],
   "source": [
    "for c in num_columns:\n",
    "    mean_df.loc[pd.isna(data[c]), c] = data[c].mean()"
   ]
  },
  {
   "cell_type": "code",
   "execution_count": 146,
   "id": "5ebcb7d7",
   "metadata": {},
   "outputs": [
    {
     "data": {
      "text/plain": [
       "index            0\n",
       "child_num        0\n",
       "income_total     0\n",
       "DAYS_BIRTH       0\n",
       "DAYS_EMPLOYED    0\n",
       "FLAG_MOBIL       0\n",
       "work_phone       0\n",
       "phone            0\n",
       "email            0\n",
       "family_size      0\n",
       "begin_month      0\n",
       "credit           0\n",
       "dtype: int64"
      ]
     },
     "execution_count": 146,
     "metadata": {},
     "output_type": "execute_result"
    }
   ],
   "source": [
    "pd.isna(mean_df[num_columns]).sum()"
   ]
  },
  {
   "cell_type": "markdown",
   "id": "99759ad5-d8df-4b7c-afe6-4fd1dca1c30e",
   "metadata": {},
   "source": [
    "평균의 속임수를 조심하기 위해서, 최대한 그룹을 세분화할 것. 적당히 합리적인 선에서.(직관적인 사고)"
   ]
  },
  {
   "cell_type": "code",
   "execution_count": 153,
   "id": "567ba640-e6e5-4f8a-8478-a4f6caa987c6",
   "metadata": {
    "collapsed": true,
    "jupyter": {
     "outputs_hidden": true
    },
    "tags": []
   },
   "outputs": [
    {
     "data": {
      "text/html": [
       "<div>\n",
       "<style scoped>\n",
       "    .dataframe tbody tr th:only-of-type {\n",
       "        vertical-align: middle;\n",
       "    }\n",
       "\n",
       "    .dataframe tbody tr th {\n",
       "        vertical-align: top;\n",
       "    }\n",
       "\n",
       "    .dataframe thead th {\n",
       "        text-align: right;\n",
       "    }\n",
       "</style>\n",
       "<table border=\"1\" class=\"dataframe\">\n",
       "  <thead>\n",
       "    <tr style=\"text-align: right;\">\n",
       "      <th></th>\n",
       "      <th></th>\n",
       "      <th></th>\n",
       "      <th>income_total</th>\n",
       "    </tr>\n",
       "    <tr>\n",
       "      <th>gender</th>\n",
       "      <th>car</th>\n",
       "      <th>reality</th>\n",
       "      <th></th>\n",
       "    </tr>\n",
       "  </thead>\n",
       "  <tbody>\n",
       "    <tr>\n",
       "      <th rowspan=\"4\" valign=\"top\">F</th>\n",
       "      <th rowspan=\"2\" valign=\"top\">N</th>\n",
       "      <th>N</th>\n",
       "      <td>154554.490299</td>\n",
       "    </tr>\n",
       "    <tr>\n",
       "      <th>Y</th>\n",
       "      <td>167189.738410</td>\n",
       "    </tr>\n",
       "    <tr>\n",
       "      <th rowspan=\"2\" valign=\"top\">Y</th>\n",
       "      <th>N</th>\n",
       "      <td>193006.403754</td>\n",
       "    </tr>\n",
       "    <tr>\n",
       "      <th>Y</th>\n",
       "      <td>205431.017613</td>\n",
       "    </tr>\n",
       "    <tr>\n",
       "      <th rowspan=\"4\" valign=\"top\">M</th>\n",
       "      <th rowspan=\"2\" valign=\"top\">N</th>\n",
       "      <th>N</th>\n",
       "      <td>195305.476036</td>\n",
       "    </tr>\n",
       "    <tr>\n",
       "      <th>Y</th>\n",
       "      <td>200526.225782</td>\n",
       "    </tr>\n",
       "    <tr>\n",
       "      <th rowspan=\"2\" valign=\"top\">Y</th>\n",
       "      <th>N</th>\n",
       "      <td>223291.233909</td>\n",
       "    </tr>\n",
       "    <tr>\n",
       "      <th>Y</th>\n",
       "      <td>227946.340361</td>\n",
       "    </tr>\n",
       "  </tbody>\n",
       "</table>\n",
       "</div>"
      ],
      "text/plain": [
       "                     income_total\n",
       "gender car reality               \n",
       "F      N   N        154554.490299\n",
       "           Y        167189.738410\n",
       "       Y   N        193006.403754\n",
       "           Y        205431.017613\n",
       "M      N   N        195305.476036\n",
       "           Y        200526.225782\n",
       "       Y   N        223291.233909\n",
       "           Y        227946.340361"
      ]
     },
     "execution_count": 153,
     "metadata": {},
     "output_type": "execute_result"
    }
   ],
   "source": [
    "mean_df.groupby(['gender','car','reality'])[['income_total']].mean()"
   ]
  },
  {
   "cell_type": "markdown",
   "id": "41dd7424",
   "metadata": {},
   "source": [
    "---\n",
    "### <span style=\"color:fuchsia\">**📚 4-3. Median(중간값)**</span>   \n",
    "- median_df.loc[pd.isna(data[c]), c] = data[c].median() // pd.isna(median_df[num_columns]).sum().sum()\n",
    "\n",
    "중간값은 데이터 샘플을 개수에 대해서 절반으로 나누는 위치의 값을 말합니다.\n",
    "\n",
    "데이터 샘플의 수가 짝수개일 때에는 중간에 위치한 두 값의 평균을 사용합니다.\n",
    "\n",
    "중간값은 모든 관측치의 값을 모두 반영하지 않으므로 `지나치게 작거나 큰 값(이상치)들의 영향을 덜` 받습니다.<br>\n",
    "중간값은 샘플을 값에 대해 정렬하고, 중앙에 위치한 값으로 구할 수 있습니다."
   ]
  },
  {
   "cell_type": "code",
   "execution_count": 151,
   "id": "7f94d195-deae-41b2-9afd-94cc49d86d49",
   "metadata": {},
   "outputs": [
    {
     "data": {
      "text/html": [
       "<div>\n",
       "<style scoped>\n",
       "    .dataframe tbody tr th:only-of-type {\n",
       "        vertical-align: middle;\n",
       "    }\n",
       "\n",
       "    .dataframe tbody tr th {\n",
       "        vertical-align: top;\n",
       "    }\n",
       "\n",
       "    .dataframe thead th {\n",
       "        text-align: right;\n",
       "    }\n",
       "</style>\n",
       "<table border=\"1\" class=\"dataframe\">\n",
       "  <thead>\n",
       "    <tr style=\"text-align: right;\">\n",
       "      <th></th>\n",
       "      <th>50%</th>\n",
       "    </tr>\n",
       "  </thead>\n",
       "  <tbody>\n",
       "    <tr>\n",
       "      <th>index</th>\n",
       "      <td>13228.0</td>\n",
       "    </tr>\n",
       "    <tr>\n",
       "      <th>child_num</th>\n",
       "      <td>0.0</td>\n",
       "    </tr>\n",
       "    <tr>\n",
       "      <th>income_total</th>\n",
       "      <td>157500.0</td>\n",
       "    </tr>\n",
       "    <tr>\n",
       "      <th>DAYS_BIRTH</th>\n",
       "      <td>-15547.0</td>\n",
       "    </tr>\n",
       "    <tr>\n",
       "      <th>DAYS_EMPLOYED</th>\n",
       "      <td>-1539.0</td>\n",
       "    </tr>\n",
       "    <tr>\n",
       "      <th>FLAG_MOBIL</th>\n",
       "      <td>1.0</td>\n",
       "    </tr>\n",
       "    <tr>\n",
       "      <th>work_phone</th>\n",
       "      <td>0.0</td>\n",
       "    </tr>\n",
       "    <tr>\n",
       "      <th>phone</th>\n",
       "      <td>0.0</td>\n",
       "    </tr>\n",
       "    <tr>\n",
       "      <th>email</th>\n",
       "      <td>0.0</td>\n",
       "    </tr>\n",
       "    <tr>\n",
       "      <th>family_size</th>\n",
       "      <td>2.0</td>\n",
       "    </tr>\n",
       "    <tr>\n",
       "      <th>begin_month</th>\n",
       "      <td>-24.0</td>\n",
       "    </tr>\n",
       "    <tr>\n",
       "      <th>credit</th>\n",
       "      <td>2.0</td>\n",
       "    </tr>\n",
       "  </tbody>\n",
       "</table>\n",
       "</div>"
      ],
      "text/plain": [
       "                    50%\n",
       "index           13228.0\n",
       "child_num           0.0\n",
       "income_total   157500.0\n",
       "DAYS_BIRTH     -15547.0\n",
       "DAYS_EMPLOYED   -1539.0\n",
       "FLAG_MOBIL          1.0\n",
       "work_phone          0.0\n",
       "phone               0.0\n",
       "email               0.0\n",
       "family_size         2.0\n",
       "begin_month       -24.0\n",
       "credit              2.0"
      ]
     },
     "execution_count": 151,
     "metadata": {},
     "output_type": "execute_result"
    }
   ],
   "source": [
    "data.describe().T[['50%']]"
   ]
  },
  {
   "cell_type": "code",
   "execution_count": 154,
   "id": "0816c571",
   "metadata": {},
   "outputs": [],
   "source": [
    "median_df = data.copy()\n",
    "\n",
    "for c in num_columns:\n",
    "    median_df.loc[pd.isna(data[c]), c] = data[c].median()"
   ]
  },
  {
   "cell_type": "code",
   "execution_count": 155,
   "id": "d3a7d8f4",
   "metadata": {},
   "outputs": [
    {
     "data": {
      "text/plain": [
       "0"
      ]
     },
     "execution_count": 155,
     "metadata": {},
     "output_type": "execute_result"
    }
   ],
   "source": [
    "pd.isna(median_df[num_columns]).sum().sum()"
   ]
  },
  {
   "cell_type": "markdown",
   "id": "a55dca1b",
   "metadata": {},
   "source": [
    "---\n",
    "### <span style=\"color:fuchsia\">**📚 4-4. Iterative Impute (R 언어의 MICE 패키지)**</span> \n",
    "- IterativeImputer, imp_mean.fit_transform(impute_df[_]) // pd.isna(impute_df[_]).sum().sum()\n",
    "\n",
    "Round robin 방식으로 반복하여 결측값을 회귀하는 방식으로 결측치를 처리합니다. \n",
    "\n",
    "결측값을 회귀하는 방식으로 처리하기 때문에 수치형 변수에만 적용할 수 있습니다.\n",
    "\n",
    "1. 각 결측치를 해당 변수의 평균으로 채워넣는다. \n",
    "2. 대체할 변수의 결측치는 제외한 상태로 해당 변수의 결측치를 회귀모델을 이용하여 예측한다.\n",
    "3. 다른 변수에서도 해당 방식을 반복한다.\n",
    "4. 모든 변수에 대해 반복 후 해당 이터레이션에서 맨 처음에 할당했던 값과의 차이를 계산한다.\n",
    "5. 해당 값의 차이가 0이 될 때(수렴)까지 반복한다.\n",
    "\n",
    "#### Reference\n",
    "- [Scikit-Learn, Iterative Imputer (MICE)](https://scikit-learn.org/stable/modules/generated/sklearn.impute.IterativeImputer.html?highlight=mice)\n",
    "- [MICE 알고리즘 설명](https://ichi.pro/ko/deiteo-seteueseo-gyeol-cheuggabs-eul-daechihaneun-mice-algolijeum-217004654686142)"
   ]
  },
  {
   "cell_type": "markdown",
   "id": "5e548f59-33e9-4820-9aff-045c13b84eb1",
   "metadata": {},
   "source": [
    "// credit을 예측하듯이 빈칸들도 예측하면 좋지 않을까? 머신러닝으로? \n",
    "// 대표적인 리니얼리그레션, 로지스틱리그레션으로 예측.\n",
    "// 라운드 로빈방식. \n",
    "// 회귀라는 건 연속된 값을 예측하는 것을 의미.\n",
    "// 결측치 전부에 대해 평균으로 채움\n",
    "// 특정 컬럼에 대해 머신러닝을 돌림. 결측치에 대해\n",
    "// 첨엔 평균을 집어넣지만 이걸 n번 반복해서 \n",
    "// 차이들에 대해서 계산을 하고 차이가 0이 될때 까지 반복\n",
    "// 피쳐가 관계또 확실히 정의되어있고, 통계적인 유의미성도 가지고 있을것\n",
    "// mice?라고한다.\n",
    "// 반복적으로 채워넣는것. 시간이 좀 오래걸릴 수도 있음.\n",
    "// 베이지안 릿지모델 등등\n"
   ]
  },
  {
   "cell_type": "code",
   "execution_count": 156,
   "id": "893a2393",
   "metadata": {},
   "outputs": [],
   "source": [
    "from sklearn.experimental import enable_iterative_imputer\n",
    "from sklearn.impute import IterativeImputer"
   ]
  },
  {
   "cell_type": "code",
   "execution_count": 157,
   "id": "ab094fc6",
   "metadata": {},
   "outputs": [],
   "source": [
    "impute_df = data.copy()"
   ]
  },
  {
   "cell_type": "code",
   "execution_count": 158,
   "id": "bb4bedfe",
   "metadata": {},
   "outputs": [],
   "source": [
    "imp_mean = IterativeImputer(random_state=0) # 랜덤 고정** 대회떄 중요. 이거에 따라 모델의 성능이 달라질 수 있음. 재현이 불가능할 수 있음. 방지하기위해 이거 ㄹ고정해놓으면 어떤 환경에서라도 똑같은 걸 반환. 결과의 재현을 위해서 할 수 있음.\n",
    "impute_df[num_columns] = imp_mean.fit_transform(impute_df[num_columns]) # 채울 수 있음. "
   ]
  },
  {
   "cell_type": "code",
   "execution_count": 159,
   "id": "a57377b0",
   "metadata": {},
   "outputs": [
    {
     "data": {
      "text/plain": [
       "0"
      ]
     },
     "execution_count": 159,
     "metadata": {},
     "output_type": "execute_result"
    }
   ],
   "source": [
    "pd.isna(impute_df[num_columns]).sum().sum() # 썸 두번. 각 컬럼의 결측치에대해 썸을 씌운것."
   ]
  },
  {
   "cell_type": "markdown",
   "id": "a5c38209",
   "metadata": {},
   "source": [
    "---\n",
    "### <span style=\"color:fuchsia\">**📚 4-5. Mode(최빈값)**</span>\n",
    "\n",
    "최빈값은 범주형 변수에서 가장 자주 등장하는 값을 말합니다.\n",
    "\n",
    "수치형인데 이산형도 괜츈\n",
    "// 자녀 수, 차의 유무"
   ]
  },
  {
   "cell_type": "code",
   "execution_count": 160,
   "id": "61d1cd4c",
   "metadata": {},
   "outputs": [],
   "source": [
    "mode_df = data.copy() "
   ]
  },
  {
   "cell_type": "code",
   "execution_count": null,
   "id": "c227b3f2",
   "metadata": {},
   "outputs": [],
   "source": [
    "for c in cat_columns:\n",
    "    mode_df.loc[pd.isna(data[c]), c] = data[c].mode()[0]"
   ]
  },
  {
   "cell_type": "code",
   "execution_count": 163,
   "id": "191950cb-7b2e-470c-adad-7d3d65d2e64f",
   "metadata": {},
   "outputs": [
    {
     "data": {
      "text/plain": [
       "'F'"
      ]
     },
     "execution_count": 163,
     "metadata": {},
     "output_type": "execute_result"
    }
   ],
   "source": [
    "# value count 써도 됨.\n",
    "mode_df['gender'].value_counts().sort_values().index[-1]\n",
    "mode_df['gender'].mode()[0]"
   ]
  },
  {
   "cell_type": "code",
   "execution_count": 164,
   "id": "f4487ef0-f0a7-4afb-8263-0a78c2608bc3",
   "metadata": {},
   "outputs": [
    {
     "data": {
      "text/html": [
       "<div>\n",
       "<style scoped>\n",
       "    .dataframe tbody tr th:only-of-type {\n",
       "        vertical-align: middle;\n",
       "    }\n",
       "\n",
       "    .dataframe tbody tr th {\n",
       "        vertical-align: top;\n",
       "    }\n",
       "\n",
       "    .dataframe thead th {\n",
       "        text-align: right;\n",
       "    }\n",
       "</style>\n",
       "<table border=\"1\" class=\"dataframe\">\n",
       "  <thead>\n",
       "    <tr style=\"text-align: right;\">\n",
       "      <th></th>\n",
       "      <th></th>\n",
       "      <th></th>\n",
       "      <th>gender</th>\n",
       "    </tr>\n",
       "    <tr>\n",
       "      <th>car</th>\n",
       "      <th>reality</th>\n",
       "      <th>gender</th>\n",
       "      <th></th>\n",
       "    </tr>\n",
       "  </thead>\n",
       "  <tbody>\n",
       "    <tr>\n",
       "      <th rowspan=\"4\" valign=\"top\">N</th>\n",
       "      <th rowspan=\"2\" valign=\"top\">N</th>\n",
       "      <th>F</th>\n",
       "      <td>4020</td>\n",
       "    </tr>\n",
       "    <tr>\n",
       "      <th>M</th>\n",
       "      <td>1231</td>\n",
       "    </tr>\n",
       "    <tr>\n",
       "      <th rowspan=\"2\" valign=\"top\">Y</th>\n",
       "      <th>F</th>\n",
       "      <td>9146</td>\n",
       "    </tr>\n",
       "    <tr>\n",
       "      <th>M</th>\n",
       "      <td>2013</td>\n",
       "    </tr>\n",
       "    <tr>\n",
       "      <th rowspan=\"4\" valign=\"top\">Y</th>\n",
       "      <th rowspan=\"2\" valign=\"top\">N</th>\n",
       "      <th>M</th>\n",
       "      <td>1911</td>\n",
       "    </tr>\n",
       "    <tr>\n",
       "      <th>F</th>\n",
       "      <td>1465</td>\n",
       "    </tr>\n",
       "    <tr>\n",
       "      <th rowspan=\"2\" valign=\"top\">Y</th>\n",
       "      <th>M</th>\n",
       "      <td>3605</td>\n",
       "    </tr>\n",
       "    <tr>\n",
       "      <th>F</th>\n",
       "      <td>3066</td>\n",
       "    </tr>\n",
       "  </tbody>\n",
       "</table>\n",
       "</div>"
      ],
      "text/plain": [
       "                    gender\n",
       "car reality gender        \n",
       "N   N       F         4020\n",
       "            M         1231\n",
       "    Y       F         9146\n",
       "            M         2013\n",
       "Y   N       M         1911\n",
       "            F         1465\n",
       "    Y       M         3605\n",
       "            F         3066"
      ]
     },
     "execution_count": 164,
     "metadata": {},
     "output_type": "execute_result"
    }
   ],
   "source": [
    "pd.DataFrame(mean_df.groupby(['car','reality'])['gender'].value_counts())"
   ]
  },
  {
   "cell_type": "markdown",
   "id": "c873017f-80e3-4d64-8940-7e786015c6f5",
   "metadata": {},
   "source": [
    "결측치에 대해서 채워넣ㅇ르떄는 이렇게 보고 채워넣는게 좋다.\n",
    "//이것도 가정이다. 그냥 최빈값을 넣었을 때 모델이 더 잘나올 수 이싿.\n",
    "//여러개 모델을 만들어서(a/b테스트) 계속 실험해볼것."
   ]
  },
  {
   "cell_type": "markdown",
   "id": "e102bfab-aba0-4a1d-8965-e9635d9ae921",
   "metadata": {},
   "source": [
    "//모델을 사용하는 방식은 비슷\n",
    "//어떤 모델을 많이 사용하는가?\n",
    "//앙상블은 모델들의 결과를 합침. 각 모델들의 특징\n",
    "//? 리니어리그레션은 평균적인걸 잘뽑아냄.\n",
    "//다양한 모델들을 만들 때 가장 중요한 게 무엇인가? \n",
    "//다양한 직관의 모델을 미리 만들어 놓는게 중요하다.\n",
    "//따로 따로 훈련을 시켜서\n",
    "//나중에 모델을 합치는 과정이 제일 중요."
   ]
  },
  {
   "cell_type": "code",
   "execution_count": 165,
   "id": "1596d12d",
   "metadata": {},
   "outputs": [
    {
     "data": {
      "text/plain": [
       "8171"
      ]
     },
     "execution_count": 165,
     "metadata": {},
     "output_type": "execute_result"
    }
   ],
   "source": [
    "pd.isna(mode_df[cat_columns]).sum().sum()"
   ]
  },
  {
   "cell_type": "markdown",
   "id": "4b8db6f1-9cd3-4118-8ab7-beafe70f02d3",
   "metadata": {},
   "source": [
    "지금 모델링을 하고, 새로운 데이터에서는 성능이 줄어들 수 있음.\n",
    "//우리는 비즈니스적으로는 다시 튜닝을 해야할까?라는 고민을 해야함.\n"
   ]
  },
  {
   "cell_type": "markdown",
   "id": "ec7e0611",
   "metadata": {},
   "source": [
    "---\n",
    "---\n",
    "## <span style=\"color:fuchsia\">**📚 5. Categorical Variable to Numeric Variable**</span>\n",
    "\n",
    "이번에는 범주형 변수를 수치형 변수로 나타내는 방법에 대해 알아보겠습니다. \n",
    "여기에서 범주형 변수란, 차의 등급을 나타내는 [소형, 중형, 대형] 처럼 표현되는 변수를 말합니다. \n",
    "\n",
    "범주형 변수는 주로 데이터 상에서 문자열로 표현되는 경우가 많으며, 문자와 숫자가 매핑되는 형태로 표현되기도 합니다.\n",
    "\n",
    "---\n",
    "###  <span style=\"color:fuchsia\">**📚 5-1. Label Encoding**</span>\n",
    "라벨 인코딩은 n개의 범주형 데이터를 0~n-1 의 연속적인 수치 데이터로 표현합니다.<br>\n",
    "예를 들어, 차의 등급 변수를 라벨 인코딩으로 변환하면 다음과 같이 표현할 수 있습니다.<br>\n",
    "\n",
    "- 소형 : 0 \n",
    "- 중형 : 1 \n",
    "- 대형 : 2 \n",
    "\n",
    "라벨 인코딩은 간단한 방법이지만, '소형'과 '중형'이라는 범주형 데이터가 가지고 있는 차이가 0과 1의 수치적인 차이라는 의미가 아님을 주의하셔야 합니다. \n",
    "\n",
    "Label Encoding도 Sklearn의 preprocessing 패키지에 있습니다.\n",
    "\n",
    "#### Reference\n",
    "- [Scikit-Learn Label Encoder](https://scikit-learn.org/stable/modules/generated/sklearn.preprocessing.LabelEncoder.html?highlight=label%20encoder#sklearn.preprocessing.LabelEncoder)"
   ]
  },
  {
   "cell_type": "code",
   "execution_count": 167,
   "id": "6d6e6f1b",
   "metadata": {},
   "outputs": [],
   "source": [
    "from sklearn.preprocessing import LabelEncoder\n",
    "le = LabelEncoder()\n",
    "# 나중머신러닝 모델 dt, lr 약자 많이 사용함."
   ]
  },
  {
   "cell_type": "code",
   "execution_count": 166,
   "id": "2297a2df-9777-4973-9985-c14e5220b6c3",
   "metadata": {},
   "outputs": [
    {
     "data": {
      "text/plain": [
       "array(['Married', 'Civil marriage', 'Separated', 'Single / not married',\n",
       "       'Widow'], dtype=object)"
      ]
     },
     "execution_count": 166,
     "metadata": {},
     "output_type": "execute_result"
    }
   ],
   "source": [
    "data['family_type'].unique() # 5개로 0-4 mapping"
   ]
  },
  {
   "cell_type": "code",
   "execution_count": 168,
   "id": "253a8913",
   "metadata": {},
   "outputs": [
    {
     "data": {
      "text/plain": [
       "LabelEncoder()"
      ]
     },
     "execution_count": 168,
     "metadata": {},
     "output_type": "execute_result"
    }
   ],
   "source": [
    "le.fit(data['family_type'])"
   ]
  },
  {
   "cell_type": "code",
   "execution_count": 169,
   "id": "f2f861da",
   "metadata": {},
   "outputs": [
    {
     "data": {
      "text/plain": [
       "array(['Civil marriage', 'Married', 'Separated', 'Single / not married',\n",
       "       'Widow'], dtype=object)"
      ]
     },
     "execution_count": 169,
     "metadata": {},
     "output_type": "execute_result"
    }
   ],
   "source": [
    "# classes_ 속성에 있는 순서(index)대로 라벨 번호가 부여됩니다.\n",
    "le.classes_"
   ]
  },
  {
   "cell_type": "code",
   "execution_count": 170,
   "id": "bcf6bda5",
   "metadata": {},
   "outputs": [],
   "source": [
    "label_encoded = le.transform(data['family_type'])"
   ]
  },
  {
   "cell_type": "code",
   "execution_count": 174,
   "id": "46108771-f29b-4d17-9350-00ad052fa0cc",
   "metadata": {},
   "outputs": [
    {
     "name": "stdout",
     "output_type": "stream",
     "text": [
      "0 Civil marriage\n",
      "1 Married\n",
      "2 Separated\n",
      "3 Single / not married\n",
      "4 Widow\n"
     ]
    }
   ],
   "source": [
    "for idx, val in enumerate(le.classes_):\n",
    "    print(idx,val)"
   ]
  },
  {
   "cell_type": "code",
   "execution_count": 177,
   "id": "e2e87d1f-40d6-47d0-9302-d81403b2c5c9",
   "metadata": {},
   "outputs": [
    {
     "data": {
      "text/plain": [
       "<AxesSubplot:xlabel='family_type', ylabel='count'>"
      ]
     },
     "execution_count": 177,
     "metadata": {},
     "output_type": "execute_result"
    },
    {
     "data": {
      "image/png": "[encoded data removed]",
      "text/plain": [
       "<Figure size 432x288 with 1 Axes>"
      ]
     },
     "metadata": {
      "needs_background": "light"
     },
     "output_type": "display_data"
    }
   ],
   "source": [
    "sns.countplot(data=data, x='family_type')\n",
    "# 순서도 없고, 편향되어있고.. 머신러닝모델에서 독이 될 수 있음.\n",
    "# 레이블 인코딩하면 모델의 성능이 떨어질 수 있음.\n",
    "# 그 다음으로 사용하는 방법이 원핫인코딩임"
   ]
  },
  {
   "cell_type": "code",
   "execution_count": 175,
   "id": "3d1a07c7-f22d-449b-b963-b9b4582a3614",
   "metadata": {},
   "outputs": [
    {
     "data": {
      "text/html": [
       "<div>\n",
       "<style scoped>\n",
       "    .dataframe tbody tr th:only-of-type {\n",
       "        vertical-align: middle;\n",
       "    }\n",
       "\n",
       "    .dataframe tbody tr th {\n",
       "        vertical-align: top;\n",
       "    }\n",
       "\n",
       "    .dataframe thead th {\n",
       "        text-align: right;\n",
       "    }\n",
       "</style>\n",
       "<table border=\"1\" class=\"dataframe\">\n",
       "  <thead>\n",
       "    <tr style=\"text-align: right;\">\n",
       "      <th></th>\n",
       "      <th>family_type</th>\n",
       "      <th>label</th>\n",
       "    </tr>\n",
       "  </thead>\n",
       "  <tbody>\n",
       "    <tr>\n",
       "      <th>0</th>\n",
       "      <td>Married</td>\n",
       "      <td>1</td>\n",
       "    </tr>\n",
       "    <tr>\n",
       "      <th>1</th>\n",
       "      <td>Civil marriage</td>\n",
       "      <td>0</td>\n",
       "    </tr>\n",
       "    <tr>\n",
       "      <th>2</th>\n",
       "      <td>Married</td>\n",
       "      <td>1</td>\n",
       "    </tr>\n",
       "    <tr>\n",
       "      <th>3</th>\n",
       "      <td>Married</td>\n",
       "      <td>1</td>\n",
       "    </tr>\n",
       "    <tr>\n",
       "      <th>4</th>\n",
       "      <td>Married</td>\n",
       "      <td>1</td>\n",
       "    </tr>\n",
       "    <tr>\n",
       "      <th>5</th>\n",
       "      <td>Married</td>\n",
       "      <td>1</td>\n",
       "    </tr>\n",
       "    <tr>\n",
       "      <th>6</th>\n",
       "      <td>Separated</td>\n",
       "      <td>2</td>\n",
       "    </tr>\n",
       "    <tr>\n",
       "      <th>7</th>\n",
       "      <td>Married</td>\n",
       "      <td>1</td>\n",
       "    </tr>\n",
       "    <tr>\n",
       "      <th>8</th>\n",
       "      <td>Married</td>\n",
       "      <td>1</td>\n",
       "    </tr>\n",
       "    <tr>\n",
       "      <th>9</th>\n",
       "      <td>Married</td>\n",
       "      <td>1</td>\n",
       "    </tr>\n",
       "    <tr>\n",
       "      <th>10</th>\n",
       "      <td>Separated</td>\n",
       "      <td>2</td>\n",
       "    </tr>\n",
       "    <tr>\n",
       "      <th>11</th>\n",
       "      <td>Married</td>\n",
       "      <td>1</td>\n",
       "    </tr>\n",
       "    <tr>\n",
       "      <th>12</th>\n",
       "      <td>Married</td>\n",
       "      <td>1</td>\n",
       "    </tr>\n",
       "    <tr>\n",
       "      <th>13</th>\n",
       "      <td>Married</td>\n",
       "      <td>1</td>\n",
       "    </tr>\n",
       "    <tr>\n",
       "      <th>14</th>\n",
       "      <td>Single / not married</td>\n",
       "      <td>3</td>\n",
       "    </tr>\n",
       "    <tr>\n",
       "      <th>15</th>\n",
       "      <td>Married</td>\n",
       "      <td>1</td>\n",
       "    </tr>\n",
       "    <tr>\n",
       "      <th>16</th>\n",
       "      <td>Married</td>\n",
       "      <td>1</td>\n",
       "    </tr>\n",
       "    <tr>\n",
       "      <th>17</th>\n",
       "      <td>Civil marriage</td>\n",
       "      <td>0</td>\n",
       "    </tr>\n",
       "    <tr>\n",
       "      <th>18</th>\n",
       "      <td>Married</td>\n",
       "      <td>1</td>\n",
       "    </tr>\n",
       "    <tr>\n",
       "      <th>19</th>\n",
       "      <td>Married</td>\n",
       "      <td>1</td>\n",
       "    </tr>\n",
       "  </tbody>\n",
       "</table>\n",
       "</div>"
      ],
      "text/plain": [
       "             family_type  label\n",
       "0                Married      1\n",
       "1         Civil marriage      0\n",
       "2                Married      1\n",
       "3                Married      1\n",
       "4                Married      1\n",
       "5                Married      1\n",
       "6              Separated      2\n",
       "7                Married      1\n",
       "8                Married      1\n",
       "9                Married      1\n",
       "10             Separated      2\n",
       "11               Married      1\n",
       "12               Married      1\n",
       "13               Married      1\n",
       "14  Single / not married      3\n",
       "15               Married      1\n",
       "16               Married      1\n",
       "17        Civil marriage      0\n",
       "18               Married      1\n",
       "19               Married      1"
      ]
     },
     "execution_count": 175,
     "metadata": {},
     "output_type": "execute_result"
    }
   ],
   "source": [
    "result = pd.DataFrame({\n",
    "    'family_type' : data['family_type'].values,\n",
    "    'label' : label_encoded\n",
    "})\n",
    "\n",
    "result.head(20)\n",
    "# 이 방식엔 문제점이 있음. \n",
    "# 이 데이터가 정규분포를 이룬다고 \n",
    "# 절대 세퍼레이트에 정규분포가 이루어지진 않고,.."
   ]
  },
  {
   "cell_type": "markdown",
   "id": "b58cfe46",
   "metadata": {},
   "source": [
    "---\n",
    "### <span style=\"color:fuchsia\">**📚 5-2. One-hot Encoding**</span>\n",
    "- // sklearn.preprocessing, ohe.fit, ohe.transform, pd.DataFrame // data['_'].map(_), data['_'].apply(lambda x : _.get(x,-1))\n",
    "\n",
    "원핫 인코딩은 n개의 범주형 데이터를 n개의 비트(0,1) 벡터로 표현합니다. \n",
    "\n",
    "예를 들어, 위에서 언급한 소형, 중형, 대형으로 이루어진 범주형 변수를 원핫 인코딩을 통해 변환하면 다음과 같이 표현할 수 있습니다.\n",
    "\n",
    "- 소형 : `[1, 0, 0]` \n",
    "- 중형 : `[0, 1, 0]` \n",
    "- 대형 : `[0, 0, 1]` \n",
    "\n",
    "* 각각 값의 내적값이 반드시 0으로 나옴. 데이터 간의 독립성이 확보. 데이터 전처리 방법 중 하나. 독립적인 관계를 표현하기 위해 사용\n",
    "\n",
    "원핫 인코딩으로 범주형 데이터를 나타내게되면, 서로 다른 범주에 대해서는 벡터 내적을 취했을 때 내적 값이 0이 나오게 됩니다. \n",
    "\n",
    "이는 서로 다른 범주 데이터는 독립적인 관계라는 것을 표현할 수 있게 됩니다.\n",
    "\n",
    "One-hot Encoding은 Sklearn의 preprocessing 패키지에 있습니다.\n",
    "\n",
    "#### Reference\n",
    "- [Scikit-Learn One-Hot Encoder](https://scikit-learn.org/stable/modules/generated/sklearn.preprocessing.OneHotEncoder.html#sklearn.preprocessing.OneHotEncoder)"
   ]
  },
  {
   "cell_type": "code",
   "execution_count": 179,
   "id": "1119b27e-795d-4c7e-ae6d-fad404617455",
   "metadata": {},
   "outputs": [
    {
     "data": {
      "text/html": [
       "<div>\n",
       "<style scoped>\n",
       "    .dataframe tbody tr th:only-of-type {\n",
       "        vertical-align: middle;\n",
       "    }\n",
       "\n",
       "    .dataframe tbody tr th {\n",
       "        vertical-align: top;\n",
       "    }\n",
       "\n",
       "    .dataframe thead th {\n",
       "        text-align: right;\n",
       "    }\n",
       "</style>\n",
       "<table border=\"1\" class=\"dataframe\">\n",
       "  <thead>\n",
       "    <tr style=\"text-align: right;\">\n",
       "      <th></th>\n",
       "      <th>gender</th>\n",
       "      <th>car</th>\n",
       "      <th>reality</th>\n",
       "      <th>income_type</th>\n",
       "      <th>edu_type</th>\n",
       "      <th>family_type</th>\n",
       "      <th>house_type</th>\n",
       "      <th>occyp_type</th>\n",
       "    </tr>\n",
       "  </thead>\n",
       "  <tbody>\n",
       "    <tr>\n",
       "      <th>count</th>\n",
       "      <td>26457</td>\n",
       "      <td>26457</td>\n",
       "      <td>26457</td>\n",
       "      <td>26457</td>\n",
       "      <td>26457</td>\n",
       "      <td>26457</td>\n",
       "      <td>26457</td>\n",
       "      <td>18286</td>\n",
       "    </tr>\n",
       "    <tr>\n",
       "      <th>unique</th>\n",
       "      <td>2</td>\n",
       "      <td>2</td>\n",
       "      <td>2</td>\n",
       "      <td>5</td>\n",
       "      <td>5</td>\n",
       "      <td>5</td>\n",
       "      <td>6</td>\n",
       "      <td>18</td>\n",
       "    </tr>\n",
       "    <tr>\n",
       "      <th>top</th>\n",
       "      <td>F</td>\n",
       "      <td>N</td>\n",
       "      <td>Y</td>\n",
       "      <td>Working</td>\n",
       "      <td>Secondary / secondary special</td>\n",
       "      <td>Married</td>\n",
       "      <td>House / apartment</td>\n",
       "      <td>Laborers</td>\n",
       "    </tr>\n",
       "    <tr>\n",
       "      <th>freq</th>\n",
       "      <td>17697</td>\n",
       "      <td>16410</td>\n",
       "      <td>17830</td>\n",
       "      <td>13645</td>\n",
       "      <td>17995</td>\n",
       "      <td>18196</td>\n",
       "      <td>23653</td>\n",
       "      <td>4512</td>\n",
       "    </tr>\n",
       "  </tbody>\n",
       "</table>\n",
       "</div>"
      ],
      "text/plain": [
       "       gender    car reality income_type                       edu_type  \\\n",
       "count   26457  26457   26457       26457                          26457   \n",
       "unique      2      2       2           5                              5   \n",
       "top         F      N       Y     Working  Secondary / secondary special   \n",
       "freq    17697  16410   17830       13645                          17995   \n",
       "\n",
       "       family_type         house_type occyp_type  \n",
       "count        26457              26457      18286  \n",
       "unique           5                  6         18  \n",
       "top        Married  House / apartment   Laborers  \n",
       "freq         18196              23653       4512  "
      ]
     },
     "execution_count": 179,
     "metadata": {},
     "output_type": "execute_result"
    }
   ],
   "source": [
    "data[cat_columns].describe(include='O')\n",
    "# 이정도면 개인 컴터에서 원핫인코딩 써도 됨.\n"
   ]
  },
  {
   "cell_type": "markdown",
   "id": "ebe80392-1f10-41dd-9d21-2cc7fbf2bbf7",
   "metadata": {},
   "source": [
    "단점은 데이터의 컬럼 수가 너무 많아짐.\n",
    "// 실제 데이터 측면에서 봤을 떄는 26000 * 3 이 되는 것.\n",
    "// 연산 데이터 78000 이 되어버림.\n",
    "// 독립적관계에선 좋지만 일반적으로 속도가 느리기 떄문에\n",
    "// spares 드물다 라는 데이터는 처리를 해줘야함."
   ]
  },
  {
   "cell_type": "code",
   "execution_count": 180,
   "id": "eeb78b20",
   "metadata": {},
   "outputs": [],
   "source": [
    "from sklearn.preprocessing import OneHotEncoder\n",
    "ohe = OneHotEncoder(sparse=False)"
   ]
  },
  {
   "cell_type": "code",
   "execution_count": 181,
   "id": "93d8203d",
   "metadata": {},
   "outputs": [
    {
     "data": {
      "text/plain": [
       "OneHotEncoder(sparse=False)"
      ]
     },
     "execution_count": 181,
     "metadata": {},
     "output_type": "execute_result"
    }
   ],
   "source": [
    "ohe.fit(data[['family_type']])"
   ]
  },
  {
   "cell_type": "code",
   "execution_count": 183,
   "id": "5b98e769",
   "metadata": {},
   "outputs": [
    {
     "data": {
      "text/plain": [
       "[array(['Civil marriage', 'Married', 'Separated', 'Single / not married',\n",
       "        'Widow'], dtype=object)]"
      ]
     },
     "execution_count": 183,
     "metadata": {},
     "output_type": "execute_result"
    }
   ],
   "source": [
    "ohe.categories_ # 위에선 class "
   ]
  },
  {
   "cell_type": "code",
   "execution_count": 184,
   "id": "7e037526",
   "metadata": {},
   "outputs": [],
   "source": [
    "one_hot_encoded = ohe.transform(data[['family_type']])"
   ]
  },
  {
   "cell_type": "code",
   "execution_count": 185,
   "id": "7f76e3e5",
   "metadata": {},
   "outputs": [
    {
     "data": {
      "text/plain": [
       "array([[0., 1., 0., 0., 0.],\n",
       "       [1., 0., 0., 0., 0.],\n",
       "       [0., 1., 0., 0., 0.],\n",
       "       ...,\n",
       "       [1., 0., 0., 0., 0.],\n",
       "       [0., 0., 0., 1., 0.],\n",
       "       [1., 0., 0., 0., 0.]])"
      ]
     },
     "execution_count": 185,
     "metadata": {},
     "output_type": "execute_result"
    }
   ],
   "source": [
    "one_hot_encoded"
   ]
  },
  {
   "cell_type": "code",
   "execution_count": 187,
   "id": "2da441fa-264c-44d7-bc3c-52564ba40fb4",
   "metadata": {},
   "outputs": [
    {
     "data": {
      "text/html": [
       "<div>\n",
       "<style scoped>\n",
       "    .dataframe tbody tr th:only-of-type {\n",
       "        vertical-align: middle;\n",
       "    }\n",
       "\n",
       "    .dataframe tbody tr th {\n",
       "        vertical-align: top;\n",
       "    }\n",
       "\n",
       "    .dataframe thead tr th {\n",
       "        text-align: left;\n",
       "    }\n",
       "</style>\n",
       "<table border=\"1\" class=\"dataframe\">\n",
       "  <thead>\n",
       "    <tr>\n",
       "      <th></th>\n",
       "      <th>Civil marriage</th>\n",
       "      <th>Married</th>\n",
       "      <th>Separated</th>\n",
       "      <th>Single / not married</th>\n",
       "      <th>Widow</th>\n",
       "      <th>family_type</th>\n",
       "    </tr>\n",
       "  </thead>\n",
       "  <tbody>\n",
       "    <tr>\n",
       "      <th>0</th>\n",
       "      <td>0</td>\n",
       "      <td>1</td>\n",
       "      <td>0</td>\n",
       "      <td>0</td>\n",
       "      <td>0</td>\n",
       "      <td>Married</td>\n",
       "    </tr>\n",
       "    <tr>\n",
       "      <th>1</th>\n",
       "      <td>1</td>\n",
       "      <td>0</td>\n",
       "      <td>0</td>\n",
       "      <td>0</td>\n",
       "      <td>0</td>\n",
       "      <td>Civil marriage</td>\n",
       "    </tr>\n",
       "    <tr>\n",
       "      <th>2</th>\n",
       "      <td>0</td>\n",
       "      <td>1</td>\n",
       "      <td>0</td>\n",
       "      <td>0</td>\n",
       "      <td>0</td>\n",
       "      <td>Married</td>\n",
       "    </tr>\n",
       "    <tr>\n",
       "      <th>3</th>\n",
       "      <td>0</td>\n",
       "      <td>1</td>\n",
       "      <td>0</td>\n",
       "      <td>0</td>\n",
       "      <td>0</td>\n",
       "      <td>Married</td>\n",
       "    </tr>\n",
       "    <tr>\n",
       "      <th>4</th>\n",
       "      <td>0</td>\n",
       "      <td>1</td>\n",
       "      <td>0</td>\n",
       "      <td>0</td>\n",
       "      <td>0</td>\n",
       "      <td>Married</td>\n",
       "    </tr>\n",
       "    <tr>\n",
       "      <th>5</th>\n",
       "      <td>0</td>\n",
       "      <td>1</td>\n",
       "      <td>0</td>\n",
       "      <td>0</td>\n",
       "      <td>0</td>\n",
       "      <td>Married</td>\n",
       "    </tr>\n",
       "    <tr>\n",
       "      <th>6</th>\n",
       "      <td>0</td>\n",
       "      <td>0</td>\n",
       "      <td>1</td>\n",
       "      <td>0</td>\n",
       "      <td>0</td>\n",
       "      <td>Separated</td>\n",
       "    </tr>\n",
       "    <tr>\n",
       "      <th>7</th>\n",
       "      <td>0</td>\n",
       "      <td>1</td>\n",
       "      <td>0</td>\n",
       "      <td>0</td>\n",
       "      <td>0</td>\n",
       "      <td>Married</td>\n",
       "    </tr>\n",
       "    <tr>\n",
       "      <th>8</th>\n",
       "      <td>0</td>\n",
       "      <td>1</td>\n",
       "      <td>0</td>\n",
       "      <td>0</td>\n",
       "      <td>0</td>\n",
       "      <td>Married</td>\n",
       "    </tr>\n",
       "    <tr>\n",
       "      <th>9</th>\n",
       "      <td>0</td>\n",
       "      <td>1</td>\n",
       "      <td>0</td>\n",
       "      <td>0</td>\n",
       "      <td>0</td>\n",
       "      <td>Married</td>\n",
       "    </tr>\n",
       "  </tbody>\n",
       "</table>\n",
       "</div>"
      ],
      "text/plain": [
       "  Civil marriage Married Separated Single / not married Widow     family_type\n",
       "0              0       1         0                    0     0         Married\n",
       "1              1       0         0                    0     0  Civil marriage\n",
       "2              0       1         0                    0     0         Married\n",
       "3              0       1         0                    0     0         Married\n",
       "4              0       1         0                    0     0         Married\n",
       "5              0       1         0                    0     0         Married\n",
       "6              0       0         1                    0     0       Separated\n",
       "7              0       1         0                    0     0         Married\n",
       "8              0       1         0                    0     0         Married\n",
       "9              0       1         0                    0     0         Married"
      ]
     },
     "execution_count": 187,
     "metadata": {},
     "output_type": "execute_result"
    }
   ],
   "source": [
    "#강사님이라면 이렇게 할것\n",
    "result = pd.DataFrame(data= one_hot_encoded,\n",
    "                      columns=ohe.categories_, dtype=int)\n",
    "result['family_type'] = data['family_type']\n",
    "result.head(10)"
   ]
  },
  {
   "cell_type": "code",
   "execution_count": 188,
   "id": "be35e57c-a54e-43ad-b31b-86e75e793622",
   "metadata": {},
   "outputs": [
    {
     "data": {
      "text/plain": [
       "array(['Higher education', 'Secondary / secondary special',\n",
       "       'Incomplete higher', 'Lower secondary', 'Academic degree'],\n",
       "      dtype=object)"
      ]
     },
     "execution_count": 188,
     "metadata": {},
     "output_type": "execute_result"
    }
   ],
   "source": [
    "data['edu_type'].unique() # 교육에는 순서가 있음. 여기서도 마찬가지로 순서가 있음.\n",
    "# 순서적인 정보를 학습하지 못하기 떄문에 레이블 인코딩을 한 번 더 해서 새롭게 만들어주면\n",
    "# 원핫, 레이블로 각각 만들어주면 모델에 도움이 된다?\n",
    "# "
   ]
  },
  {
   "cell_type": "code",
   "execution_count": 189,
   "id": "8b80b87a-f2ca-4c2f-be5a-81ba24de5100",
   "metadata": {},
   "outputs": [
    {
     "name": "stdout",
     "output_type": "stream",
     "text": [
      "['Higher education' 'Secondary / secondary special' 'Incomplete higher'\n",
      " 'Lower secondary' 'Academic degree']\n"
     ]
    }
   ],
   "source": [
    "edu_types = data['edu_type'].unique()\n",
    "print(edu_types)"
   ]
  },
  {
   "cell_type": "code",
   "execution_count": 191,
   "id": "3be3c972-449a-4f02-9cb6-bc4de12d31b4",
   "metadata": {},
   "outputs": [
    {
     "data": {
      "text/plain": [
       "0        0\n",
       "1        1\n",
       "2        0\n",
       "3        1\n",
       "4        0\n",
       "        ..\n",
       "26452    1\n",
       "26453    0\n",
       "26454    1\n",
       "26455    2\n",
       "26456    1\n",
       "Name: edu_type, Length: 26457, dtype: int64"
      ]
     },
     "execution_count": 191,
     "metadata": {},
     "output_type": "execute_result"
    }
   ],
   "source": [
    "edu_dict = {'Higher education' : 0,\n",
    "            'Secondary / secondary special' : 1,\n",
    "           'Incomplete higher' : 2,\n",
    "            'Lower secondary' : 3,\n",
    "            'Academic degree' : 4,\n",
    "    \n",
    "}\n",
    "data['edu_type'].map(edu_dict)\n",
    "data['edu_type'].apply(lambda x : edu_dict.get(x,-1))\n",
    "# 시맨틱한 정보를 살펴봐도 된다.\n",
    "# 사실 테크닉들이 많음.\n",
    "# 대회 떄 시도할만한 게 뭐가 있냐면\n",
    "# 여러개를 사용하면서 벤치마크를 만들 수 있음\n",
    "# 가장 많이 쓰이는 건 target encoder\n",
    "# 하루가 걸리는 설명인데.. 기본적으로 앞서서\n",
    "# 카테고리형 데이터를 예측해서 넣는  것.\n",
    "# 타겟데이터에 대해 엄청 오버피팅시키는 것.\n",
    "# 대회성적을 위한 테크닉\n",
    "# label로 모델이 돌아가는지 체크\n",
    "# 원핫, 타겟을 사용해서 사용해보고\n",
    "# 캣부스트 catboost encoder 해보셈( 성능이 꽤 좋음)\n",
    "# 나머지는 가설에 따라 시도를 해보세용\n"
   ]
  },
  {
   "cell_type": "markdown",
   "id": "24140a15-4980-4fca-8fba-240ee1ef28af",
   "metadata": {},
   "source": [
    "\n",
    "인코딩을 진행한 피처에 대해 스케일링을 진행할 필요가 없음\n",
    "//사실정형데이터는 스케일링을 많이 진행하지 않음(리니얼리그레션떄문에 함.)\n",
    "\n",
    "//범주형 인코딩을 할 때 훈련셋에서만 \n",
    "//텍스트 데이터에 원래 없던값이 추가되면 다 동일하게(-1, 새로운값)으로 처리함.\n",
    "//왜? 훈련시에 트레인데이터에 없었으면 큰 의미가 없기 때문에 테스트데이터셋에는 절대 전처리하면안되고 트레인 데이터에서 핏하고 실행.\n",
    "//원래 없던 값 등장 많음. 잘 조정해야함.\n",
    "//child수가 범주형데이터 수가 될 수 있음. 맥스값으로 처리해줘도 괜츈.\n",
    "//훈련했떤 범위에 맞춰서 진행. clipping 바깥 범위를 잘라내는것.\n",
    "\n",
    "결론적으로는 다양한 시도를 통해 찾아내는게 중요\n",
    "\n",
    "강사님은 부스트 뭐시기를 함."
   ]
  },
  {
   "cell_type": "code",
   "execution_count": null,
   "id": "561d8721",
   "metadata": {},
   "outputs": [],
   "source": [
    "columns = np.concatenate([np.array(['family_type']) , ohe.categories_[0]])\n",
    "\n",
    "result = pd.DataFrame(data=\n",
    "                      np.concatenate([data[['family_type']].values, \n",
    "                                      one_hot_encoded.reshape((-1, ohe.categories_[0].shape[0]))],                                             \n",
    "                                     axis=1), \n",
    "                      columns=columns)\n",
    "result.head(10)"
   ]
  },
  {
   "cell_type": "markdown",
   "id": "f676a462-b9a0-4aa6-8578-cb03c399bf42",
   "metadata": {},
   "source": [
    "링크공유해주심\n"
   ]
  },
  {
   "cell_type": "markdown",
   "id": "9b353f86",
   "metadata": {},
   "source": [
    "---\n",
    "---\n",
    "## <span style=\"color:fuchsia\">**📚 6. 제출**</span> \n",
    "- answer = pd.read_csv(os.path.join(BASE_DIR, 'sample_submission.csv')) // answer['0'] = result[:, 0], answer['1'] = result[:, 1], answer['2'] = result[:, 2] // answer.to_csv('__.csv', index=False)"
   ]
  },
  {
   "cell_type": "code",
   "execution_count": 195,
   "id": "0fa63ea5",
   "metadata": {},
   "outputs": [],
   "source": [
    "from sklearn.tree import DecisionTreeClassifier\n",
    "\n",
    "data = pd.read_csv(train_path)\n",
    "data = data.drop(['credit'], axis=1)\n",
    "cat_columns = [c for c, t in zip(data.dtypes.index, data.dtypes) if t=='O'] \n",
    "num_columns = [c for c in data.columns if c not in cat_columns]\n",
    "# 대회처음할 떄 내가 생각하는 제출이 되는가? 샘플 서브미션에 맞게 제출하는게 중요\n",
    "# 사이킷런 다양한 모델 써봐도 됨."
   ]
  },
  {
   "cell_type": "code",
   "execution_count": 202,
   "id": "73b73c70",
   "metadata": {},
   "outputs": [],
   "source": [
    "decision_tree = DecisionTreeClassifier(random_state=0, max_depth=3) # 랜덤 결과 고정, \n",
    "\n",
    "decision_tree = decision_tree.fit(data[num_columns], target) # 핏하고"
   ]
  },
  {
   "cell_type": "code",
   "execution_count": 203,
   "id": "ad083b3b",
   "metadata": {},
   "outputs": [],
   "source": [
    "result = decision_tree.predict_proba(test_data[num_columns]) # 각각의 확률 반환"
   ]
  },
  {
   "cell_type": "code",
   "execution_count": 204,
   "id": "fefbca2d-1577-4e89-aa6d-e7c7d717e200",
   "metadata": {},
   "outputs": [
    {
     "data": {
      "text/plain": [
       "array([[0.11192897, 0.18972259, 0.69834844],\n",
       "       [0.11192897, 0.18972259, 0.69834844],\n",
       "       [0.11192897, 0.18972259, 0.69834844],\n",
       "       ...,\n",
       "       [0.11192897, 0.18972259, 0.69834844],\n",
       "       [0.11192897, 0.18972259, 0.69834844],\n",
       "       [0.11192897, 0.18972259, 0.69834844]])"
      ]
     },
     "execution_count": 204,
     "metadata": {},
     "output_type": "execute_result"
    }
   ],
   "source": [
    "result "
   ]
  },
  {
   "cell_type": "code",
   "execution_count": 205,
   "id": "45f57f4f",
   "metadata": {},
   "outputs": [
    {
     "data": {
      "text/html": [
       "<div>\n",
       "<style scoped>\n",
       "    .dataframe tbody tr th:only-of-type {\n",
       "        vertical-align: middle;\n",
       "    }\n",
       "\n",
       "    .dataframe tbody tr th {\n",
       "        vertical-align: top;\n",
       "    }\n",
       "\n",
       "    .dataframe thead th {\n",
       "        text-align: right;\n",
       "    }\n",
       "</style>\n",
       "<table border=\"1\" class=\"dataframe\">\n",
       "  <thead>\n",
       "    <tr style=\"text-align: right;\">\n",
       "      <th></th>\n",
       "      <th>index</th>\n",
       "      <th>0</th>\n",
       "      <th>1</th>\n",
       "      <th>2</th>\n",
       "    </tr>\n",
       "  </thead>\n",
       "  <tbody>\n",
       "    <tr>\n",
       "      <th>0</th>\n",
       "      <td>26457</td>\n",
       "      <td>0</td>\n",
       "      <td>0</td>\n",
       "      <td>0</td>\n",
       "    </tr>\n",
       "    <tr>\n",
       "      <th>1</th>\n",
       "      <td>26458</td>\n",
       "      <td>0</td>\n",
       "      <td>0</td>\n",
       "      <td>0</td>\n",
       "    </tr>\n",
       "    <tr>\n",
       "      <th>2</th>\n",
       "      <td>26459</td>\n",
       "      <td>0</td>\n",
       "      <td>0</td>\n",
       "      <td>0</td>\n",
       "    </tr>\n",
       "    <tr>\n",
       "      <th>3</th>\n",
       "      <td>26460</td>\n",
       "      <td>0</td>\n",
       "      <td>0</td>\n",
       "      <td>0</td>\n",
       "    </tr>\n",
       "    <tr>\n",
       "      <th>4</th>\n",
       "      <td>26461</td>\n",
       "      <td>0</td>\n",
       "      <td>0</td>\n",
       "      <td>0</td>\n",
       "    </tr>\n",
       "  </tbody>\n",
       "</table>\n",
       "</div>"
      ],
      "text/plain": [
       "   index  0  1  2\n",
       "0  26457  0  0  0\n",
       "1  26458  0  0  0\n",
       "2  26459  0  0  0\n",
       "3  26460  0  0  0\n",
       "4  26461  0  0  0"
      ]
     },
     "execution_count": 205,
     "metadata": {},
     "output_type": "execute_result"
    }
   ],
   "source": [
    "answer = pd.read_csv(os.path.join(BASE_DIR, 'sample_submission.csv'))\n",
    "# pd.read_csv()\n",
    "answer.head()"
   ]
  },
  {
   "cell_type": "code",
   "execution_count": 206,
   "id": "3df0f4bd",
   "metadata": {},
   "outputs": [
    {
     "data": {
      "text/html": [
       "<div>\n",
       "<style scoped>\n",
       "    .dataframe tbody tr th:only-of-type {\n",
       "        vertical-align: middle;\n",
       "    }\n",
       "\n",
       "    .dataframe tbody tr th {\n",
       "        vertical-align: top;\n",
       "    }\n",
       "\n",
       "    .dataframe thead th {\n",
       "        text-align: right;\n",
       "    }\n",
       "</style>\n",
       "<table border=\"1\" class=\"dataframe\">\n",
       "  <thead>\n",
       "    <tr style=\"text-align: right;\">\n",
       "      <th></th>\n",
       "      <th>index</th>\n",
       "      <th>0</th>\n",
       "      <th>1</th>\n",
       "      <th>2</th>\n",
       "    </tr>\n",
       "  </thead>\n",
       "  <tbody>\n",
       "    <tr>\n",
       "      <th>0</th>\n",
       "      <td>26457</td>\n",
       "      <td>0.111929</td>\n",
       "      <td>0.189723</td>\n",
       "      <td>0.698348</td>\n",
       "    </tr>\n",
       "    <tr>\n",
       "      <th>1</th>\n",
       "      <td>26458</td>\n",
       "      <td>0.111929</td>\n",
       "      <td>0.189723</td>\n",
       "      <td>0.698348</td>\n",
       "    </tr>\n",
       "    <tr>\n",
       "      <th>2</th>\n",
       "      <td>26459</td>\n",
       "      <td>0.111929</td>\n",
       "      <td>0.189723</td>\n",
       "      <td>0.698348</td>\n",
       "    </tr>\n",
       "    <tr>\n",
       "      <th>3</th>\n",
       "      <td>26460</td>\n",
       "      <td>0.111929</td>\n",
       "      <td>0.189723</td>\n",
       "      <td>0.698348</td>\n",
       "    </tr>\n",
       "    <tr>\n",
       "      <th>4</th>\n",
       "      <td>26461</td>\n",
       "      <td>0.138594</td>\n",
       "      <td>0.237122</td>\n",
       "      <td>0.624285</td>\n",
       "    </tr>\n",
       "  </tbody>\n",
       "</table>\n",
       "</div>"
      ],
      "text/plain": [
       "   index         0         1         2\n",
       "0  26457  0.111929  0.189723  0.698348\n",
       "1  26458  0.111929  0.189723  0.698348\n",
       "2  26459  0.111929  0.189723  0.698348\n",
       "3  26460  0.111929  0.189723  0.698348\n",
       "4  26461  0.138594  0.237122  0.624285"
      ]
     },
     "execution_count": 206,
     "metadata": {},
     "output_type": "execute_result"
    }
   ],
   "source": [
    "answer['0'] = result[:, 0]\n",
    "answer['1'] = result[:, 1]\n",
    "answer['2'] = result[:, 2]\n",
    "\n",
    "answer.head()"
   ]
  },
  {
   "cell_type": "code",
   "execution_count": 207,
   "id": "4444017a",
   "metadata": {},
   "outputs": [],
   "source": [
    "answer.to_csv('test2.csv', index=False) # 제출형식으로 저장, 인덱스 "
   ]
  },
  {
   "cell_type": "code",
   "execution_count": 210,
   "id": "6d5d5b9a",
   "metadata": {},
   "outputs": [
    {
     "data": {
      "text/html": [
       "<div>\n",
       "<style scoped>\n",
       "    .dataframe tbody tr th:only-of-type {\n",
       "        vertical-align: middle;\n",
       "    }\n",
       "\n",
       "    .dataframe tbody tr th {\n",
       "        vertical-align: top;\n",
       "    }\n",
       "\n",
       "    .dataframe thead th {\n",
       "        text-align: right;\n",
       "    }\n",
       "</style>\n",
       "<table border=\"1\" class=\"dataframe\">\n",
       "  <thead>\n",
       "    <tr style=\"text-align: right;\">\n",
       "      <th></th>\n",
       "      <th>index</th>\n",
       "      <th>0</th>\n",
       "      <th>1</th>\n",
       "      <th>2</th>\n",
       "    </tr>\n",
       "  </thead>\n",
       "  <tbody>\n",
       "    <tr>\n",
       "      <th>0</th>\n",
       "      <td>26457</td>\n",
       "      <td>0.111929</td>\n",
       "      <td>0.189723</td>\n",
       "      <td>0.698348</td>\n",
       "    </tr>\n",
       "    <tr>\n",
       "      <th>1</th>\n",
       "      <td>26458</td>\n",
       "      <td>0.111929</td>\n",
       "      <td>0.189723</td>\n",
       "      <td>0.698348</td>\n",
       "    </tr>\n",
       "    <tr>\n",
       "      <th>2</th>\n",
       "      <td>26459</td>\n",
       "      <td>0.111929</td>\n",
       "      <td>0.189723</td>\n",
       "      <td>0.698348</td>\n",
       "    </tr>\n",
       "    <tr>\n",
       "      <th>3</th>\n",
       "      <td>26460</td>\n",
       "      <td>0.111929</td>\n",
       "      <td>0.189723</td>\n",
       "      <td>0.698348</td>\n",
       "    </tr>\n",
       "    <tr>\n",
       "      <th>4</th>\n",
       "      <td>26461</td>\n",
       "      <td>0.138594</td>\n",
       "      <td>0.237122</td>\n",
       "      <td>0.624285</td>\n",
       "    </tr>\n",
       "    <tr>\n",
       "      <th>...</th>\n",
       "      <td>...</td>\n",
       "      <td>...</td>\n",
       "      <td>...</td>\n",
       "      <td>...</td>\n",
       "    </tr>\n",
       "    <tr>\n",
       "      <th>9995</th>\n",
       "      <td>36452</td>\n",
       "      <td>0.111929</td>\n",
       "      <td>0.189723</td>\n",
       "      <td>0.698348</td>\n",
       "    </tr>\n",
       "    <tr>\n",
       "      <th>9996</th>\n",
       "      <td>36453</td>\n",
       "      <td>0.111929</td>\n",
       "      <td>0.189723</td>\n",
       "      <td>0.698348</td>\n",
       "    </tr>\n",
       "    <tr>\n",
       "      <th>9997</th>\n",
       "      <td>36454</td>\n",
       "      <td>0.111929</td>\n",
       "      <td>0.189723</td>\n",
       "      <td>0.698348</td>\n",
       "    </tr>\n",
       "    <tr>\n",
       "      <th>9998</th>\n",
       "      <td>36455</td>\n",
       "      <td>0.111929</td>\n",
       "      <td>0.189723</td>\n",
       "      <td>0.698348</td>\n",
       "    </tr>\n",
       "    <tr>\n",
       "      <th>9999</th>\n",
       "      <td>36456</td>\n",
       "      <td>0.111929</td>\n",
       "      <td>0.189723</td>\n",
       "      <td>0.698348</td>\n",
       "    </tr>\n",
       "  </tbody>\n",
       "</table>\n",
       "<p>10000 rows × 4 columns</p>\n",
       "</div>"
      ],
      "text/plain": [
       "      index         0         1         2\n",
       "0     26457  0.111929  0.189723  0.698348\n",
       "1     26458  0.111929  0.189723  0.698348\n",
       "2     26459  0.111929  0.189723  0.698348\n",
       "3     26460  0.111929  0.189723  0.698348\n",
       "4     26461  0.138594  0.237122  0.624285\n",
       "...     ...       ...       ...       ...\n",
       "9995  36452  0.111929  0.189723  0.698348\n",
       "9996  36453  0.111929  0.189723  0.698348\n",
       "9997  36454  0.111929  0.189723  0.698348\n",
       "9998  36455  0.111929  0.189723  0.698348\n",
       "9999  36456  0.111929  0.189723  0.698348\n",
       "\n",
       "[10000 rows x 4 columns]"
      ]
     },
     "execution_count": 210,
     "metadata": {},
     "output_type": "execute_result"
    }
   ],
   "source": [
    "answer"
   ]
  },
  {
   "cell_type": "code",
   "execution_count": 211,
   "id": "4ffc34c0",
   "metadata": {},
   "outputs": [],
   "source": [
    "# !ls"
   ]
  },
  {
   "cell_type": "code",
   "execution_count": null,
   "id": "0d13c554-24ff-4b61-bea4-9355f5c4996f",
   "metadata": {},
   "outputs": [],
   "source": [
    "# 엑셀이나 노션에 정리해두는 게 좋음\n",
    "# 제출.\n",
    "# 성능에 따라 리더보드에 올라가게 됨.\n",
    "# decisiontree나 classifier나 cat 컬럼들 바꿔보고\n",
    "# 제출"
   ]
  }
 ],
 "metadata": {
  "kernelspec": {
   "display_name": "Python 3",
   "language": "python",
   "name": "python3"
  },
  "language_info": {
   "codemirror_mode": {
    "name": "ipython",
    "version": 3
   },
   "file_extension": ".py",
   "mimetype": "text/x-python",
   "name": "python",
   "nbconvert_exporter": "python",
   "pygments_lexer": "ipython3",
   "version": "3.8.8"
  },
  "toc-autonumbering": false,
  "toc-showcode": false,
  "toc-showmarkdowntxt": false,
  "toc-showtags": false
 },
 "nbformat": 4,
 "nbformat_minor": 5
}
