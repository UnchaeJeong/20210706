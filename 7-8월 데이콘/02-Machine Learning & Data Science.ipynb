{
 "cells": [
  {
   "cell_type": "markdown",
   "id": "51d1d000",
   "metadata": {},
   "source": [
    "## 0. Today...\n",
    "\n",
    "1. Metric & Object\n",
    "2. Classification Algorithm (Machine Learning)\n",
    "3. Validation\n",
    "4. Feature Engineering # 다양한 것들을 성능비교 및 체크"
   ]
  },
  {
   "cell_type": "code",
   "execution_count": 1,
   "id": "532ff5bc",
   "metadata": {},
   "outputs": [],
   "source": [
    "import os\n",
    "import warnings\n",
    "warnings.filterwarnings(\"ignore\")\n",
    "\n",
    "import numpy as np\n",
    "import pandas as pd\n",
    "import matplotlib as mpl \n",
    "import matplotlib.pyplot as plt\n",
    "import seaborn as sns"
   ]
  },
  {
   "cell_type": "code",
   "execution_count": 2,
   "id": "bc23896d",
   "metadata": {},
   "outputs": [
    {
     "name": "stdout",
     "output_type": "stream",
     "text": [
      "./data\\train.csv\n",
      "./data\\test.csv\n"
     ]
    }
   ],
   "source": [
    "BASE_DIR = './data' \n",
    "\n",
    "train_path = os.path.join(BASE_DIR, 'train.csv')\n",
    "test_path = os.path.join(BASE_DIR, 'test.csv')\n",
    "submission_path = os.path.join(BASE_DIR, 'sample_submission.csv')\n",
    "\n",
    "print(train_path)\n",
    "print(test_path)"
   ]
  },
  {
   "cell_type": "code",
   "execution_count": 3,
   "id": "9afe97c8",
   "metadata": {},
   "outputs": [],
   "source": [
    "data = pd.read_csv(train_path) \n",
    "test_data = pd.read_csv(test_path)\n",
    "sample_submission = pd.read_csv(submission_path)\n",
    "\n",
    "target = data['credit']\n",
    "data.drop(['credit'], axis=1, inplace=True)"
   ]
  },
  {
   "cell_type": "code",
   "execution_count": 4,
   "id": "a6f6da7f",
   "metadata": {},
   "outputs": [
    {
     "name": "stdout",
     "output_type": "stream",
     "text": [
      "Categorical Columns: \n",
      "['gender', 'car', 'reality', 'income_type', 'edu_type', 'family_type', 'house_type', 'occyp_type']\n",
      "\n",
      "Numeric Columns: \n",
      "['index', 'child_num', 'income_total', 'DAYS_BIRTH', 'DAYS_EMPLOYED', 'FLAG_MOBIL', 'work_phone', 'phone', 'email', 'family_size', 'begin_month']\n",
      "\n"
     ]
    }
   ],
   "source": [
    "cat_columns = [c for c, t in zip(data.dtypes.index, data.dtypes) if t=='O'] \n",
    "num_columns = [c for c in data.columns if c not in cat_columns]\n",
    "\n",
    "print(f'Categorical Columns: \\n{cat_columns}\\n')\n",
    "print(f'Numeric Columns: \\n{num_columns}\\n')"
   ]
  },
  {
   "cell_type": "markdown",
   "id": "e50b5b65-bd62-4478-b795-4722ce496d18",
   "metadata": {},
   "source": [
    "---\n",
    "* list comprehension 방법\n"
   ]
  },
  {
   "cell_type": "code",
   "execution_count": 5,
   "id": "f0ade082-dcfe-4a7d-9885-ff7e78c1e96e",
   "metadata": {
    "tags": []
   },
   "outputs": [
    {
     "data": {
      "text/plain": [
       "[('index', dtype('int64')),\n",
       " ('gender', dtype('O')),\n",
       " ('car', dtype('O')),\n",
       " ('reality', dtype('O')),\n",
       " ('child_num', dtype('int64')),\n",
       " ('income_total', dtype('float64')),\n",
       " ('income_type', dtype('O')),\n",
       " ('edu_type', dtype('O')),\n",
       " ('family_type', dtype('O')),\n",
       " ('house_type', dtype('O')),\n",
       " ('DAYS_BIRTH', dtype('int64')),\n",
       " ('DAYS_EMPLOYED', dtype('int64')),\n",
       " ('FLAG_MOBIL', dtype('int64')),\n",
       " ('work_phone', dtype('int64')),\n",
       " ('phone', dtype('int64')),\n",
       " ('email', dtype('int64')),\n",
       " ('occyp_type', dtype('O')),\n",
       " ('family_size', dtype('float64')),\n",
       " ('begin_month', dtype('float64'))]"
      ]
     },
     "execution_count": 5,
     "metadata": {},
     "output_type": "execute_result"
    }
   ],
   "source": [
    "list(zip(data.dtypes.index, data.dtypes))"
   ]
  },
  {
   "cell_type": "code",
   "execution_count": 6,
   "id": "1453b76a-5c83-4dca-a1b2-286e56a8d275",
   "metadata": {
    "tags": []
   },
   "outputs": [
    {
     "name": "stdout",
     "output_type": "stream",
     "text": [
      "index\n",
      "gender\n",
      "car\n",
      "reality\n",
      "child_num\n",
      "income_total\n",
      "income_type\n",
      "edu_type\n",
      "family_type\n",
      "house_type\n",
      "DAYS_BIRTH\n",
      "DAYS_EMPLOYED\n",
      "FLAG_MOBIL\n",
      "work_phone\n",
      "phone\n",
      "email\n",
      "occyp_type\n",
      "family_size\n",
      "begin_month\n"
     ]
    }
   ],
   "source": [
    "for c, t in zip(data.dtypes.index, data.dtypes):\n",
    "        print(c)"
   ]
  },
  {
   "cell_type": "markdown",
   "id": "9ae6cd25-d864-4738-a9dc-6261a1159cad",
   "metadata": {},
   "source": [
    "---"
   ]
  },
  {
   "cell_type": "code",
   "execution_count": 7,
   "id": "1f8161e8",
   "metadata": {},
   "outputs": [
    {
     "data": {
      "text/html": [
       "<div>\n",
       "<style scoped>\n",
       "    .dataframe tbody tr th:only-of-type {\n",
       "        vertical-align: middle;\n",
       "    }\n",
       "\n",
       "    .dataframe tbody tr th {\n",
       "        vertical-align: top;\n",
       "    }\n",
       "\n",
       "    .dataframe thead th {\n",
       "        text-align: right;\n",
       "    }\n",
       "</style>\n",
       "<table border=\"1\" class=\"dataframe\">\n",
       "  <thead>\n",
       "    <tr style=\"text-align: right;\">\n",
       "      <th></th>\n",
       "      <th>index</th>\n",
       "      <th>gender</th>\n",
       "      <th>car</th>\n",
       "      <th>reality</th>\n",
       "      <th>child_num</th>\n",
       "      <th>income_total</th>\n",
       "      <th>income_type</th>\n",
       "      <th>edu_type</th>\n",
       "      <th>family_type</th>\n",
       "      <th>house_type</th>\n",
       "      <th>DAYS_BIRTH</th>\n",
       "      <th>DAYS_EMPLOYED</th>\n",
       "      <th>FLAG_MOBIL</th>\n",
       "      <th>work_phone</th>\n",
       "      <th>phone</th>\n",
       "      <th>email</th>\n",
       "      <th>occyp_type</th>\n",
       "      <th>family_size</th>\n",
       "      <th>begin_month</th>\n",
       "    </tr>\n",
       "  </thead>\n",
       "  <tbody>\n",
       "    <tr>\n",
       "      <th>0</th>\n",
       "      <td>0</td>\n",
       "      <td>F</td>\n",
       "      <td>N</td>\n",
       "      <td>N</td>\n",
       "      <td>0</td>\n",
       "      <td>202500.0</td>\n",
       "      <td>Commercial associate</td>\n",
       "      <td>Higher education</td>\n",
       "      <td>Married</td>\n",
       "      <td>Municipal apartment</td>\n",
       "      <td>-13899</td>\n",
       "      <td>-4709</td>\n",
       "      <td>1</td>\n",
       "      <td>0</td>\n",
       "      <td>0</td>\n",
       "      <td>0</td>\n",
       "      <td>NaN</td>\n",
       "      <td>2.0</td>\n",
       "      <td>-6.0</td>\n",
       "    </tr>\n",
       "    <tr>\n",
       "      <th>1</th>\n",
       "      <td>1</td>\n",
       "      <td>F</td>\n",
       "      <td>N</td>\n",
       "      <td>Y</td>\n",
       "      <td>1</td>\n",
       "      <td>247500.0</td>\n",
       "      <td>Commercial associate</td>\n",
       "      <td>Secondary / secondary special</td>\n",
       "      <td>Civil marriage</td>\n",
       "      <td>House / apartment</td>\n",
       "      <td>-11380</td>\n",
       "      <td>-1540</td>\n",
       "      <td>1</td>\n",
       "      <td>0</td>\n",
       "      <td>0</td>\n",
       "      <td>1</td>\n",
       "      <td>Laborers</td>\n",
       "      <td>3.0</td>\n",
       "      <td>-5.0</td>\n",
       "    </tr>\n",
       "    <tr>\n",
       "      <th>2</th>\n",
       "      <td>2</td>\n",
       "      <td>M</td>\n",
       "      <td>Y</td>\n",
       "      <td>Y</td>\n",
       "      <td>0</td>\n",
       "      <td>450000.0</td>\n",
       "      <td>Working</td>\n",
       "      <td>Higher education</td>\n",
       "      <td>Married</td>\n",
       "      <td>House / apartment</td>\n",
       "      <td>-19087</td>\n",
       "      <td>-4434</td>\n",
       "      <td>1</td>\n",
       "      <td>0</td>\n",
       "      <td>1</td>\n",
       "      <td>0</td>\n",
       "      <td>Managers</td>\n",
       "      <td>2.0</td>\n",
       "      <td>-22.0</td>\n",
       "    </tr>\n",
       "    <tr>\n",
       "      <th>3</th>\n",
       "      <td>3</td>\n",
       "      <td>F</td>\n",
       "      <td>N</td>\n",
       "      <td>Y</td>\n",
       "      <td>0</td>\n",
       "      <td>202500.0</td>\n",
       "      <td>Commercial associate</td>\n",
       "      <td>Secondary / secondary special</td>\n",
       "      <td>Married</td>\n",
       "      <td>House / apartment</td>\n",
       "      <td>-15088</td>\n",
       "      <td>-2092</td>\n",
       "      <td>1</td>\n",
       "      <td>0</td>\n",
       "      <td>1</td>\n",
       "      <td>0</td>\n",
       "      <td>Sales staff</td>\n",
       "      <td>2.0</td>\n",
       "      <td>-37.0</td>\n",
       "    </tr>\n",
       "    <tr>\n",
       "      <th>4</th>\n",
       "      <td>4</td>\n",
       "      <td>F</td>\n",
       "      <td>Y</td>\n",
       "      <td>Y</td>\n",
       "      <td>0</td>\n",
       "      <td>157500.0</td>\n",
       "      <td>State servant</td>\n",
       "      <td>Higher education</td>\n",
       "      <td>Married</td>\n",
       "      <td>House / apartment</td>\n",
       "      <td>-15037</td>\n",
       "      <td>-2105</td>\n",
       "      <td>1</td>\n",
       "      <td>0</td>\n",
       "      <td>0</td>\n",
       "      <td>0</td>\n",
       "      <td>Managers</td>\n",
       "      <td>2.0</td>\n",
       "      <td>-26.0</td>\n",
       "    </tr>\n",
       "  </tbody>\n",
       "</table>\n",
       "</div>"
      ],
      "text/plain": [
       "   index gender car reality  child_num  income_total           income_type  \\\n",
       "0      0      F   N       N          0      202500.0  Commercial associate   \n",
       "1      1      F   N       Y          1      247500.0  Commercial associate   \n",
       "2      2      M   Y       Y          0      450000.0               Working   \n",
       "3      3      F   N       Y          0      202500.0  Commercial associate   \n",
       "4      4      F   Y       Y          0      157500.0         State servant   \n",
       "\n",
       "                        edu_type     family_type           house_type  \\\n",
       "0               Higher education         Married  Municipal apartment   \n",
       "1  Secondary / secondary special  Civil marriage    House / apartment   \n",
       "2               Higher education         Married    House / apartment   \n",
       "3  Secondary / secondary special         Married    House / apartment   \n",
       "4               Higher education         Married    House / apartment   \n",
       "\n",
       "   DAYS_BIRTH  DAYS_EMPLOYED  FLAG_MOBIL  work_phone  phone  email  \\\n",
       "0      -13899          -4709           1           0      0      0   \n",
       "1      -11380          -1540           1           0      0      1   \n",
       "2      -19087          -4434           1           0      1      0   \n",
       "3      -15088          -2092           1           0      1      0   \n",
       "4      -15037          -2105           1           0      0      0   \n",
       "\n",
       "    occyp_type  family_size  begin_month  \n",
       "0          NaN          2.0         -6.0  \n",
       "1     Laborers          3.0         -5.0  \n",
       "2     Managers          2.0        -22.0  \n",
       "3  Sales staff          2.0        -37.0  \n",
       "4     Managers          2.0        -26.0  "
      ]
     },
     "execution_count": 7,
     "metadata": {},
     "output_type": "execute_result"
    }
   ],
   "source": [
    "data.head()"
   ]
  },
  {
   "cell_type": "markdown",
   "id": "4cc2d7b2",
   "metadata": {},
   "source": [
    "## 1. Metric\n",
    "\n",
    "> https://scikit-learn.org/stable/modules/classes.html#module-sklearn.metrics\n",
    "\n",
    "### 1-1. Metric\n",
    "\n",
    "모든 일에는 평가지표가 있습니다. \n",
    "흔히 업무에서는 KPI(key performance indicator)라고도 부릅니다.\n",
    "\n",
    "머신러닝 대회는 경쟁입니다. 좋은 등수를 차지하기 위해서는 평가지표부터 알아야 합니다.\n",
    "\n",
    "<div class=\"alert alert-block alert-success\">\n",
    "<b>Tips</b> 평가지표의 계산 방식은 꼭 필요하지만, 이에 따른 특성을 구체적으로 깊이 이해할 필요는 없습니다.\n",
    "    다만 일부 대회는 평가지표를 계산할 때, 여러 테크닉을 사용할 수 있으므로 대회마다 토론(discussion)을 참고하시길 바랍니다.\n",
    "</div>\n",
    "\n",
    "\n",
    "일반적으로 대회나 특정 task에서 사용하는 지표는 다음과 같습니다. \n",
    "\n",
    "- Classification\n",
    "    - accuracy\n",
    "    - F1 score\n",
    "        - mean-F1\n",
    "        - macro-F1\n",
    "        - micro-F1\n",
    "    - Log Loss (=Cross Entropy)\n",
    "    - AUC\n",
    "\n",
    "- regression\n",
    "    - MAE (mean absolute error)\n",
    "    - RMSE (root mean square error)\n"
   ]
  },
  {
   "cell_type": "markdown",
   "id": "22a007db",
   "metadata": {},
   "source": [
    "### 1-2. 분류 평가지표\n",
    "\n",
    "분류 대회는 일반적으로 다음과 같이 예측을 제출합니다.\n",
    "\n",
    "- 이진분류(binary classification) : positive일 확률 제출\n",
    "- 다양한 분류 : 각 범주 별 확률 제출\n",
    "\n",
    "그렇기에 이진분류를 예시로 사용하면 결과는 총 4가지로 분류됩니다.\n",
    "\n",
    "\n",
    "- **TP(True Positive)** : 예측 정확, 양성\n",
    "- **TN(True Negative)** : 예측 정확, 음성\n",
    "- **FP(False Positive)** : 예측 부정확, 양성\n",
    "- **FN(False Negative)** : 예측 부정확, 음성\n",
    "\n",
    "![](https://cdn.substack.com/image/fetch/f_auto,q_auto:good,fl_progressive:steep/https%3A%2F%2Fbucketeer-e05bbc84-baa3-437e-9518-adb32be77984.s3.amazonaws.com%2Fpublic%2Fimages%2Fd1478aeb-00ca-4f13-9f8e-fb20767b4583_3508x1773.jpeg)"
   ]
  },
  {
   "cell_type": "code",
   "execution_count": 8,
   "id": "a283964f",
   "metadata": {},
   "outputs": [
    {
     "name": "stdout",
     "output_type": "stream",
     "text": [
      "[[0 1 0 0 0]\n",
      " [1 2 1 0 0]\n",
      " [0 0 0 0 1]\n",
      " [0 0 0 1 0]\n",
      " [1 0 0 0 0]]\n"
     ]
    }
   ],
   "source": [
    "from sklearn.metrics import confusion_matrix\n",
    "y_true = [1,1,1,12,0,3,2,1]\n",
    "y_pred = [1,0,1,0,1,3,12,2]\n",
    "result = confusion_matrix(y_true, y_pred)\n",
    "print(result)"
   ]
  },
  {
   "cell_type": "code",
   "execution_count": 9,
   "id": "5f327ebb-9297-4962-99d3-e24d5955d1aa",
   "metadata": {},
   "outputs": [
    {
     "data": {
      "text/plain": [
       "array([[0.  , 1.  , 0.  , 0.  , 0.  ],\n",
       "       [0.25, 0.5 , 0.25, 0.  , 0.  ],\n",
       "       [0.  , 0.  , 0.  , 0.  , 1.  ],\n",
       "       [0.  , 0.  , 0.  , 1.  , 0.  ],\n",
       "       [1.  , 0.  , 0.  , 0.  , 0.  ]])"
      ]
     },
     "execution_count": 9,
     "metadata": {},
     "output_type": "execute_result"
    }
   ],
   "source": [
    "total = np.sum(result, axis=1)\n",
    "result = result / total[:,None]\n",
    "result"
   ]
  },
  {
   "cell_type": "code",
   "execution_count": 10,
   "id": "b49c3b6e-8251-481b-9172-7daccd08b4cc",
   "metadata": {},
   "outputs": [
    {
     "data": {
      "image/png": "[encoded data removed]",
      "text/plain": [
       "<Figure size 400x400 with 1 Axes>"
      ]
     },
     "metadata": {},
     "output_type": "display_data"
    }
   ],
   "source": [
    "fig, ax = plt.subplots(1,1,figsize=(4,4), dpi = 100)\n",
    "fig.set_facecolor('lightgray')\n",
    "sns.heatmap(result,\n",
    "           annot=True,\n",
    "           cmap='Blues',\n",
    "            square=True,\n",
    "            cbar=False,\n",
    "            ax=ax)\n",
    "ax.set_xlabel('pred', fontweight='bold')\n",
    "ax.set_ylabel('true', fontweight='bold')\n",
    "\n",
    "# ax.invert_xaxis()\n",
    "# ax.invert_yaxis()\n",
    "plt.show()"
   ]
  },
  {
   "cell_type": "markdown",
   "id": "8d5ba6a1",
   "metadata": {},
   "source": [
    "FP와 FN의 이유가 무엇일지 고민하는 시간이 반드시 필요하다.\n",
    "꼭 실제 샘플들을 살펴보고 모델에게 어떤 점이 부족한지 알아야 한다.\n",
    "\n",
    "결론적으로 여기서 얻을 수 있는 첫번째 metric은 **정확도(accuracy)** 이다.\n",
    "\n",
    "\n",
    "$$accuracy = \\frac{TP+TN}{TP+TN+FP+FN}$$\n",
    "\n",
    "`정답 / 전체`로 이해할 수 있다. 하지만 불균형 데이터의 경우는 이 내용이 쉽지 않다. \n",
    "\n",
    "이것을 방지하기 위한 metric은 **F1 Score** 다.\n",
    "\n",
    "$$F_1 = \\frac{1}{\\frac{1}{recall} + \\frac{1}{precision}}$$\n",
    "\n",
    "여기서 recall은 재현율, precision은 정밀도라 한다.\n",
    "\n",
    "\n",
    "\n",
    "<div class=\"alert alert-block alert-warning\">\n",
    "<b>Quiz</b> 정밀도와 재현율을 평가지표인 대회를 만들 수 있을까?\n",
    "</div>\n",
    "\n",
    "정답은 ..."
   ]
  },
  {
   "cell_type": "code",
   "execution_count": 11,
   "id": "b0a8f0fc-a098-4e98-870c-49d85a5dae6e",
   "metadata": {},
   "outputs": [
    {
     "data": {
      "text/plain": [
       "0.31428571428571433"
      ]
     },
     "execution_count": 11,
     "metadata": {},
     "output_type": "execute_result"
    }
   ],
   "source": [
    "from sklearn.metrics import f1_score\n",
    "result = f1_score(y_true, y_pred, average='macro')\n",
    "result"
   ]
  },
  {
   "cell_type": "markdown",
   "id": "e5066de3-c4d6-42bc-9e5d-56ac8073695b",
   "metadata": {},
   "source": [
    "---\n",
    "# 문제\n",
    "sklearn을 사용하지 않고 numpy로 `TP, TN, TP, FN`을 계산해봅시다. (15분)"
   ]
  },
  {
   "cell_type": "markdown",
   "id": "ab5dd9f6-71af-4062-82e6-dd0c42335395",
   "metadata": {},
   "source": [
    "> 내풀이"
   ]
  },
  {
   "cell_type": "code",
   "execution_count": 12,
   "id": "b898faad",
   "metadata": {},
   "outputs": [],
   "source": [
    "y_true = [1, 0, 1, 1, 0, 1, 0, 1, 0, 0]\n",
    "y_pred = [0, 0, 0, 1, 0, 0, 1, 1, 1, 1]"
   ]
  },
  {
   "cell_type": "code",
   "execution_count": 13,
   "id": "be014b68-b22c-41c7-9b4b-dea6c353bba1",
   "metadata": {},
   "outputs": [
    {
     "name": "stdout",
     "output_type": "stream",
     "text": [
      "답\n",
      " [[2 3]\n",
      " [3 2]]\n"
     ]
    }
   ],
   "source": [
    "from sklearn.metrics import confusion_matrix\n",
    "y_true = [1, 0, 1, 1, 0, 1, 0, 1, 0, 0]\n",
    "y_pred = [0, 0, 0, 1, 0, 0, 1, 1, 1, 1]\n",
    "result = confusion_matrix(y_true, y_pred)\n",
    "\n",
    "print(\"답\\n\",result)"
   ]
  },
  {
   "cell_type": "markdown",
   "id": "28d2970d-b9b4-422b-99e6-e49b93e88b5d",
   "metadata": {},
   "source": [
    "> 선생님 풀이"
   ]
  },
  {
   "cell_type": "code",
   "execution_count": 14,
   "id": "6c4602c8-21df-4a53-9153-02ebcf9c9c08",
   "metadata": {},
   "outputs": [],
   "source": [
    "y = np.array([1, 0, 1, 1, 0, 1, 0, 1, 0, 0])\n",
    "p = np.array([0, 0, 0, 1, 0, 0, 1, 1, 1, 1])"
   ]
  },
  {
   "cell_type": "code",
   "execution_count": 15,
   "id": "d3449316-dfbe-46d0-b986-1b84be51787e",
   "metadata": {},
   "outputs": [],
   "source": [
    "y = np.array(y_true)\n",
    "p = np.array(y_pred)"
   ]
  },
  {
   "cell_type": "code",
   "execution_count": 16,
   "id": "85ce5e9e-47d3-4c2a-8bf3-2103aadc1b47",
   "metadata": {},
   "outputs": [
    {
     "name": "stdout",
     "output_type": "stream",
     "text": [
      "2\n",
      "3\n",
      "3\n",
      "2\n"
     ]
    }
   ],
   "source": [
    "# print(y ==1)\n",
    "# print(p ==1)\n",
    "# print((y == 1) & (p ==1))\n",
    "\n",
    "print(((y==1) & (p==1)).sum())\n",
    "print(((y==1) & (p==0)).sum())\n",
    "print(((y==0) & (p==1)).sum())\n",
    "print(((y==0) & (p==0)).sum())"
   ]
  },
  {
   "cell_type": "markdown",
   "id": "a31c5ecc-a553-4042-9dfa-ff5d2cc5c261",
   "metadata": {},
   "source": [
    "---\n",
    "---"
   ]
  },
  {
   "cell_type": "markdown",
   "id": "4d1558e0",
   "metadata": {},
   "source": [
    "`accuracy, recall, precision, F1 score`를 계산해봅시다. (10분)\n",
    "\n",
    "---"
   ]
  },
  {
   "cell_type": "code",
   "execution_count": 17,
   "id": "1fc5ab06",
   "metadata": {},
   "outputs": [],
   "source": [
    "y_true = [1, 0, 1, 1, 0, 1, 0, 1, 0, 0]\n",
    "y_pred = [0, 0, 0, 1, 0, 0, 1, 1, 1, 1]"
   ]
  },
  {
   "cell_type": "code",
   "execution_count": 18,
   "id": "8228157f-9d3e-46df-9cfe-357d88821fb3",
   "metadata": {},
   "outputs": [],
   "source": [
    "y = np.array(y_true)\n",
    "p = np.array(y_pred)"
   ]
  },
  {
   "cell_type": "markdown",
   "id": "a056b1e9-eb43-4869-920a-6fee15053336",
   "metadata": {},
   "source": [
    "> 내 풀이"
   ]
  },
  {
   "cell_type": "code",
   "execution_count": 19,
   "id": "bbc3d13e-9783-4cfc-8efa-ef1949c0d0fc",
   "metadata": {},
   "outputs": [
    {
     "name": "stdout",
     "output_type": "stream",
     "text": [
      "2\n",
      "0.4\n",
      "0.4\n",
      "0.4000000000000001\n"
     ]
    }
   ],
   "source": [
    "accuracy = np.mean(np.equal(y,p))\n",
    "\n",
    "right = np.sum(y*p == 1) # 맞은 개수(TP, FN 개수)\n",
    "print(right)\n",
    "precision = right/ np.sum(p) # 예측한 것 중에 맞은 것들\n",
    "print(precision)\n",
    "recall = right/np.sum(y) # 실제 모든 값 중에 맞은 것들\n",
    "print(recall)\n",
    "f1 = 2 * precision*recall / (precision + recall)\n",
    "print(f1)"
   ]
  },
  {
   "cell_type": "markdown",
   "id": "7cfc8f7f-87a5-4d25-9f62-f4d3c5661a89",
   "metadata": {},
   "source": [
    "---"
   ]
  },
  {
   "cell_type": "markdown",
   "id": "289600c7-3843-4f8f-9b56-ab198464dcb1",
   "metadata": {},
   "source": [
    "> 선생님 답"
   ]
  },
  {
   "cell_type": "code",
   "execution_count": null,
   "id": "a16b2f06-01a4-457f-b047-69276373ee8e",
   "metadata": {},
   "outputs": [],
   "source": []
  },
  {
   "cell_type": "code",
   "execution_count": null,
   "id": "17641f93-d340-427d-8c7c-8a2e06bf5800",
   "metadata": {},
   "outputs": [],
   "source": []
  },
  {
   "cell_type": "code",
   "execution_count": null,
   "id": "566dbc5a-4c56-438d-b128-1b23d5af056b",
   "metadata": {},
   "outputs": [],
   "source": []
  },
  {
   "cell_type": "markdown",
   "id": "24fc67e1-46b0-42f1-b90f-7513a4703e13",
   "metadata": {},
   "source": [
    "---\n",
    "___"
   ]
  },
  {
   "cell_type": "markdown",
   "id": "44a6dc87",
   "metadata": {},
   "source": [
    "<div class=\"alert alert-block alert-success\">\n",
    "<b>Tips</b> Category가 많아지만 micro, macro, weighted 등 다양한 방법으로 F1 score를 사용하기도 합니다.\n",
    "</div>\n",
    "\n"
   ]
  },
  {
   "cell_type": "markdown",
   "id": "dce0c3e1",
   "metadata": {},
   "source": [
    "### 1-3. 대회 지표 Logloss\n",
    "\n",
    "대회에서는 Logloss라는 지표를 사용합니다.\n",
    "\n",
    "수식을 사용하면 다음과 같습니다.\n",
    "\n",
    "$$logloss = \\frac{1}{N} \\sum_{i=1}^N \\sum_{m=1}^M y_{i,m}logp_{i,m}$$\n",
    "\n",
    "i번째 데이터와 클래스 m일 확률을 사용하여 계산합니다."
   ]
  },
  {
   "cell_type": "code",
   "execution_count": 20,
   "id": "9e5c0bb1",
   "metadata": {},
   "outputs": [
    {
     "data": {
      "text/plain": [
       "0.9202278211161898"
      ]
     },
     "execution_count": 20,
     "metadata": {},
     "output_type": "execute_result"
    }
   ],
   "source": [
    "from sklearn.metrics import log_loss\n",
    "\n",
    "y_true_onehot = [[0, 1], [0, 1], [1, 0], [1, 0]]\n",
    "y_pred = [[.1, .9], [.9, .1], [.8, .2], [.35, .65]]\n",
    "result = log_loss(y_true_onehot, y_pred)\n",
    "result"
   ]
  },
  {
   "cell_type": "markdown",
   "id": "f244c8bb",
   "metadata": {},
   "source": [
    "---\n",
    "`logloss` 직접구현하기 (15분)"
   ]
  },
  {
   "cell_type": "code",
   "execution_count": 21,
   "id": "b6395c9a",
   "metadata": {},
   "outputs": [],
   "source": [
    "y_true_onehot = [[0, 1], [0, 1], [1, 0], [1, 0]]\n",
    "y_pred = [[.1, .9], [.9, .1], [.8, .2], [.35, .65]]"
   ]
  },
  {
   "cell_type": "markdown",
   "id": "b41a3316-c2ec-4cc4-8f5c-4a37abafd21f",
   "metadata": {},
   "source": [
    "> 내 정답"
   ]
  },
  {
   "cell_type": "code",
   "execution_count": 22,
   "id": "a7232871-a4f2-47e4-8764-8de2d83d015d",
   "metadata": {},
   "outputs": [
    {
     "data": {
      "text/plain": [
       "0.9202278211161898"
      ]
     },
     "execution_count": 22,
     "metadata": {},
     "output_type": "execute_result"
    }
   ],
   "source": [
    "t = np.array(y_true_onehot)\n",
    "p = np.array(y_pred)\n",
    "-t*np.log(p)\n",
    "(-t * np.log(p)).sum() / len(t)"
   ]
  },
  {
   "cell_type": "markdown",
   "id": "d7f364d9-2962-4e5d-8fb2-c6d6b23b2d41",
   "metadata": {},
   "source": [
    "---"
   ]
  },
  {
   "cell_type": "markdown",
   "id": "cd33f983-07a1-4d84-9680-e0fde306bb0b",
   "metadata": {},
   "source": [
    "> 쌤 풀이 "
   ]
  },
  {
   "cell_type": "code",
   "execution_count": 23,
   "id": "b1f31b0a-7eba-4225-964e-a7ea7eeca5f4",
   "metadata": {},
   "outputs": [
    {
     "name": "stdout",
     "output_type": "stream",
     "text": [
      "0.9202278211161898\n"
     ]
    }
   ],
   "source": [
    "# 풀이 1 : 반복문\n",
    "N, M = 4, 2\n",
    "logloss = 0\n",
    "\n",
    "for i in range(N):\n",
    "    for m in range(M):\n",
    "        logloss += y_true_onehot[i][m] * np.log(y_pred[i][m])\n",
    "        \n",
    "print(-logloss/N)"
   ]
  },
  {
   "cell_type": "code",
   "execution_count": 24,
   "id": "59940f94-b112-46dc-bf3b-f512e16f1617",
   "metadata": {},
   "outputs": [
    {
     "data": {
      "text/plain": [
       "0.9202278211161898"
      ]
     },
     "execution_count": 24,
     "metadata": {},
     "output_type": "execute_result"
    }
   ],
   "source": [
    "-(t * np.log(p)).sum() / len(t)"
   ]
  },
  {
   "cell_type": "markdown",
   "id": "f8c399fe-bb75-4328-a2e9-9ac5b5e484c4",
   "metadata": {},
   "source": [
    "파이썬은 반복문이 상당히 느림.\n",
    "\n",
    "넘파이는 내부에서는 C를기반으로 반복문이 진행됨.\n",
    "\n",
    "이중 반복문을 사용하게 되면 10배 이상 빠를 것.\n",
    "\n",
    "내장함수를 많이 쓰는 게 속도면에서 유리함."
   ]
  },
  {
   "cell_type": "markdown",
   "id": "e568dff4",
   "metadata": {},
   "source": [
    "---\n",
    "---\n",
    "### 1-4. 그 외 회귀 지표\n",
    "\n",
    "- MAE(Mean Absolute Error) : 절대값 에러 평균\n",
    "- RMSE(Root Mean Square Erorr) \n",
    "\n",
    "MAE는 각 값의 차의 절대값을 합하여 평균낸 것입니다."
   ]
  },
  {
   "cell_type": "code",
   "execution_count": 25,
   "id": "d5a20e43",
   "metadata": {},
   "outputs": [
    {
     "name": "stdout",
     "output_type": "stream",
     "text": [
      "0.5\n"
     ]
    }
   ],
   "source": [
    "from sklearn.metrics import mean_absolute_error\n",
    "y_true = [3, -0.5, 2, 7]\n",
    "y_pred = [2.5, 0.0, 2, 8]\n",
    "result = mean_absolute_error(y_true, y_pred)\n",
    "\n",
    "print(result)"
   ]
  },
  {
   "cell_type": "markdown",
   "id": "8546fe93",
   "metadata": {},
   "source": [
    "---\n",
    "직접 MAE 계산해보기 (10분)"
   ]
  },
  {
   "cell_type": "code",
   "execution_count": 26,
   "id": "92f5125f",
   "metadata": {},
   "outputs": [],
   "source": [
    "y_true = [3, -0.5, 2, 7]\n",
    "y_pred = [2.5, 0.0, 2, 8]"
   ]
  },
  {
   "cell_type": "markdown",
   "id": "890970dc-5b41-4f97-bc66-f77649f8934a",
   "metadata": {},
   "source": [
    "> 내 풀이"
   ]
  },
  {
   "cell_type": "code",
   "execution_count": 27,
   "id": "aa4669bc-e569-40bc-ba42-a578eb802f12",
   "metadata": {},
   "outputs": [
    {
     "name": "stdout",
     "output_type": "stream",
     "text": [
      "0.5\n"
     ]
    }
   ],
   "source": [
    "t = np.array(y_true)\n",
    "p = np.array(y_pred)\n",
    "\n",
    "print(np.abs(t-p).mean())"
   ]
  },
  {
   "cell_type": "markdown",
   "id": "6b0191fe",
   "metadata": {},
   "source": [
    "---\n",
    "RMSE는 각 값의 차를 제곱하여 합한 후에 root를 취한 값입니다."
   ]
  },
  {
   "cell_type": "code",
   "execution_count": 28,
   "id": "006006df",
   "metadata": {},
   "outputs": [
    {
     "data": {
      "text/plain": [
       "0.375"
      ]
     },
     "execution_count": 28,
     "metadata": {},
     "output_type": "execute_result"
    }
   ],
   "source": [
    "from sklearn.metrics import mean_squared_error\n",
    "y_true = [3, -0.5, 2, 7]\n",
    "y_pred = [2.5, 0.0, 2, 8]\n",
    "mean_squared_error(y_true, y_pred)"
   ]
  },
  {
   "cell_type": "markdown",
   "id": "a4012807",
   "metadata": {},
   "source": [
    "직접 RMSE 계산해보기 (10분)"
   ]
  },
  {
   "cell_type": "code",
   "execution_count": 29,
   "id": "e9d92d6f",
   "metadata": {},
   "outputs": [],
   "source": [
    "y_true = [3, -0.5, 2, 7]\n",
    "y_pred = [2.5, 0.0, 2, 8]"
   ]
  },
  {
   "cell_type": "markdown",
   "id": "a5c10578-e3cf-4f46-83a9-8fb49ec5ab8b",
   "metadata": {},
   "source": [
    "> 내 답변"
   ]
  },
  {
   "cell_type": "code",
   "execution_count": 30,
   "id": "a1ea1752-5489-46f6-9639-fc7eac7ced91",
   "metadata": {},
   "outputs": [
    {
     "data": {
      "text/plain": [
       "0.5"
      ]
     },
     "execution_count": 30,
     "metadata": {},
     "output_type": "execute_result"
    }
   ],
   "source": [
    "np.sqrt((t-p)**2).mean()"
   ]
  },
  {
   "cell_type": "markdown",
   "id": "ba744007-93f6-40c6-bd87-42346104015d",
   "metadata": {},
   "source": [
    "> ✅ 슨상님 답변"
   ]
  },
  {
   "cell_type": "code",
   "execution_count": null,
   "id": "de2ef892-596b-42d9-b03f-4eca747188a4",
   "metadata": {},
   "outputs": [],
   "source": []
  },
  {
   "cell_type": "markdown",
   "id": "e3115992",
   "metadata": {},
   "source": [
    "---\n",
    "---\n",
    "## 2. Classification Algorithm\n",
    "\n",
    "### 2-1. 다양한 ML 분류 알고리즘\n",
    "\n",
    "경진대회에서는 비교적 적게 쓰기이지만 꼭 알아야 하는 알고리즘입니다.\n",
    "\n",
    "- [K Nearest Neighbors](https://scikit-learn.org/stable/modules/generated/sklearn.neighbors.KNeighborsClassifier.html#sklearn.neighbors.KNeighborsClassifier)\n",
    "- Linear Regression\n",
    "- Logistic Regression\n",
    "- [Support Vector Machine](https://scikit-learn.org/stable/modules/generated/sklearn.svm.SVC.html#sklearn.svm.SVC)\n",
    "- [Decision Tree](https://scikit-learn.org/stable/modules/generated/sklearn.tree.DecisionTreeClassifier.html#sklearn.tree.DecisionTreeClassifier)\n",
    "- [Random Forest](https://scikit-learn.org/stable/modules/generated/sklearn.ensemble.RandomForestClassifier.html)\n",
    "\n",
    "기본 알고리즘을 알아야 하는 이유는 여러가지 입니다.\n",
    "\n",
    "- 현업에서는 프로토타입을 만들 때 사용할 수 있다.\n",
    "- 알고리즘이 직관적인 결과를 제공하여 설명할 수 있다.\n",
    "- 정제된 데이터에서는 기본 알고리즘도 좋은 효과를 낼 수 있다.\n",
    "- Baseline을 만들 때, 쉽게 사용할 수 있다.\n",
    "- 복잡한 알고리즘의 토대가 된다.\n",
    "\n",
    "**실제 경진대회에서 사용하는 알고리즘**\n",
    "\n",
    "정형데이터 대회에서는 다음 알고리즘이 기본적으로 사용됩니다.\n",
    "\n",
    "3일차에 진행할 예정이며 이미 배우신 분들은 미리 사용하셔도 좋습니다.\n",
    "\n",
    "- XGBoost\n",
    "- LGBM\n",
    "- Catboost\n",
    "- TabNet\n",
    "- DNN based Model\n",
    "\n",
    "비정형대회에서는 해당 task에 맞는 방법론들이 사용됩니다."
   ]
  },
  {
   "cell_type": "markdown",
   "id": "b249f808",
   "metadata": {},
   "source": [
    "### 2-2. 알고리즘을 사용하기에 앞서...\n",
    "\n",
    "해당 기본 알고리즘을 호출해봅시다."
   ]
  },
  {
   "cell_type": "code",
   "execution_count": 31,
   "id": "d65b7ff0",
   "metadata": {},
   "outputs": [],
   "source": [
    "from sklearn.neighbors import KNeighborsClassifier\n",
    "from sklearn.svm import SVC\n",
    "from sklearn.tree import DecisionTreeClassifier\n",
    "from sklearn.ensemble import RandomForestClassifier\n"
   ]
  },
  {
   "cell_type": "markdown",
   "id": "08c5a78e",
   "metadata": {},
   "source": [
    "알고리즘에서 사용하는 몇 가지 파라미터를 꼭 살펴봅시다."
   ]
  },
  {
   "cell_type": "code",
   "execution_count": 32,
   "id": "8ce0835a",
   "metadata": {},
   "outputs": [
    {
     "name": "stdout",
     "output_type": "stream",
     "text": [
      "[1 1 2 2]\n",
      "1.0\n",
      "[[0.66666667 0.33333333]\n",
      " [0.66666667 0.33333333]\n",
      " [0.33333333 0.66666667]\n",
      " [0.33333333 0.66666667]]\n",
      "[1 2]\n"
     ]
    }
   ],
   "source": [
    "clf = KNeighborsClassifier(n_neighbors=3)\n",
    "X = np.array([[-1, -1], [-2, -1], [1, 1], [2, 1]])\n",
    "y = np.array([1, 1, 2, 2])\n",
    "clf.fit(X,y)\n",
    "print(clf.predict(X))\n",
    "print(clf.score(X,y))\n",
    "print(clf.predict_proba(X))\n",
    "print(clf.classes_)"
   ]
  },
  {
   "cell_type": "code",
   "execution_count": 33,
   "id": "49a6bee7-aecf-443c-877b-bf1195d9c4a8",
   "metadata": {},
   "outputs": [
    {
     "name": "stdout",
     "output_type": "stream",
     "text": [
      "1.0\n"
     ]
    }
   ],
   "source": [
    "print(clf.score(X,y))"
   ]
  },
  {
   "cell_type": "code",
   "execution_count": 34,
   "id": "dcaeb944",
   "metadata": {},
   "outputs": [
    {
     "name": "stdout",
     "output_type": "stream",
     "text": [
      "[[0.66666667 0.33333333]\n",
      " [0.66666667 0.33333333]\n",
      " [0.33333333 0.66666667]\n",
      " [0.33333333 0.66666667]]\n"
     ]
    }
   ],
   "source": [
    "print(clf.predict_proba(X)) #  총 개수만큼 나옴. 이걸 사용해서 제출하면 됨."
   ]
  },
  {
   "cell_type": "code",
   "execution_count": 35,
   "id": "4cb3e5a9",
   "metadata": {},
   "outputs": [
    {
     "name": "stdout",
     "output_type": "stream",
     "text": [
      "[1 2]\n"
     ]
    }
   ],
   "source": [
    "print(clf.classes_) # 멀티클래스를 구분할 수 있는 것."
   ]
  },
  {
   "cell_type": "markdown",
   "id": "a926bcfe",
   "metadata": {},
   "source": [
    "이렇게 간단하게 전처리를 합쳐서 파이프라인을 만들 수도있습니다."
   ]
  },
  {
   "cell_type": "code",
   "execution_count": 36,
   "id": "ad48725b",
   "metadata": {},
   "outputs": [
    {
     "name": "stdout",
     "output_type": "stream",
     "text": [
      "1.0\n",
      "[1 1 2 2]\n",
      "[[0.83715657 0.16284343]\n",
      " [0.83728264 0.16271736]\n",
      " [0.16266194 0.83733806]\n",
      " [0.16271373 0.83728627]]\n"
     ]
    }
   ],
   "source": [
    "from sklearn.pipeline import make_pipeline\n",
    "from sklearn.preprocessing import StandardScaler\n",
    "\n",
    "X = np.array([[-1, -1], [-2, -1], [1, 1], [2, 1]])\n",
    "y = np.array([1, 1, 2, 2])\n",
    "clf = make_pipeline(StandardScaler(), SVC(gamma='auto', probability=True))\n",
    "clf.fit(X,y)\n",
    "print(clf.score(X,y))\n",
    "print(clf.predict(X))\n",
    "print(clf.predict_proba(X))"
   ]
  },
  {
   "cell_type": "markdown",
   "id": "f89b47c3",
   "metadata": {},
   "source": [
    "### 2-3. RandomForest로 결과만들기\n",
    "\n",
    "- 범주형 변수는 모두 one-hot encoding으로 바꾸고\n",
    "- 수치형 변수는 그대로 유지\n",
    "- RandomForest 모델을 사용하여 제출 1회하기"
   ]
  },
  {
   "cell_type": "code",
   "execution_count": 37,
   "id": "63181961-15bd-4045-b9bb-44ccab68a07c",
   "metadata": {},
   "outputs": [],
   "source": [
    "data_sample = data.copy()"
   ]
  },
  {
   "cell_type": "code",
   "execution_count": 39,
   "id": "02043e71-0cb4-43ec-81e6-fca8d5d9d22c",
   "metadata": {},
   "outputs": [],
   "source": [
    "data_sample['occyp_type'] = data_sample['occyp_type'].fillna('None')\n",
    "# data_sample.sample\n",
    "ohe_cats =[]\n",
    "for cat_col in cat_columns:\n",
    "    ohe_cats.append(pd.get_dummies(data[cat_col], prefix=cat_col,\n",
    "                                  prefix_sep='-'))\n",
    "    \n",
    "data_sample = data_sample.join(ohe_cats)\n",
    "data_sample.drop(cat_columns, axis=1, inplace=True)"
   ]
  },
  {
   "cell_type": "code",
   "execution_count": 41,
   "id": "d4cfd020-1708-4e73-b600-15cf2a28b0c8",
   "metadata": {},
   "outputs": [
    {
     "data": {
      "text/plain": [
       "1.0"
      ]
     },
     "execution_count": 41,
     "metadata": {},
     "output_type": "execute_result"
    }
   ],
   "source": [
    "rf = RandomForestClassifier()\n",
    "rf.fit(data_sample, target)\n",
    "rf.score(data_sample, target)"
   ]
  },
  {
   "cell_type": "code",
   "execution_count": 42,
   "id": "4c9f2725-249e-446b-8f26-c758784ad983",
   "metadata": {},
   "outputs": [
    {
     "name": "stdout",
     "output_type": "stream",
     "text": [
      "(10000, 56)\n"
     ]
    }
   ],
   "source": [
    "test_sample = test_data.copy()\n",
    "\n",
    "ohe_cats = []\n",
    "for cat_col in cat_columns:\n",
    "    ohe_cats.append(pd.get_dummies(test_sample[cat_col], \n",
    "                                  prefix=cat_col,\n",
    "                                  prefix_sep='-'))\n",
    "test_sample = test_sample.join(ohe_cats)\n",
    "test_sample.drop(cat_columns, axis=1, inplace=True)\n",
    "\n",
    "print(test_sample.shape)"
   ]
  },
  {
   "cell_type": "code",
   "execution_count": 44,
   "id": "a0395735-4edf-4373-b3d7-53b0669089f3",
   "metadata": {},
   "outputs": [
    {
     "data": {
      "text/plain": [
       "array([[0.03, 0.16, 0.81],\n",
       "       [0.38, 0.16, 0.46],\n",
       "       [0.09, 0.3 , 0.61],\n",
       "       ...,\n",
       "       [0.02, 0.05, 0.93],\n",
       "       [0.21, 0.36, 0.43],\n",
       "       [0.15, 0.25, 0.6 ]])"
      ]
     },
     "execution_count": 44,
     "metadata": {},
     "output_type": "execute_result"
    }
   ],
   "source": [
    "result = rf.predict_proba(test_sample)\n",
    "result"
   ]
  },
  {
   "cell_type": "code",
   "execution_count": null,
   "id": "2fe7271e-2bf8-4fac-a0d5-2f8aae4fc091",
   "metadata": {},
   "outputs": [],
   "source": []
  },
  {
   "cell_type": "code",
   "execution_count": null,
   "id": "2fbfdc56-341a-4695-b48f-c7d24d8e73c2",
   "metadata": {},
   "outputs": [],
   "source": []
  },
  {
   "cell_type": "markdown",
   "id": "1aab7aa5",
   "metadata": {},
   "source": [
    "## 3. Validation\n",
    "\n",
    "### 3-0. Overfitting & Underfitting\n",
    "\n",
    "ML에서 발생할 수 있는 문제점의 대표적인 문제는 이것입니다.\n",
    "\n",
    "**Overfitting을 방지할 수 있는 방법**\n",
    "\n",
    "1. 데이터 관점에서 더 많은 데이터를 확보하면 된다. 더 다양한 유효한 특성을 공부할 것.\n",
    "    - 비정형 데이터에서는 data augmentation 등을 진행\n",
    "2. 모델의 복잡도를 낮춰준다.\n",
    "    - 신경망이라면 모델의 깊이를 낮춰줄 것\n",
    "    - 결정트리 기반이라면 depth를 줄일 것 + 가지치기\n",
    "3. 정규화를 사용한다.\n",
    "    - Ridg, Lasso 등 정규화 사용하는 모델로 변경해볼 것\n",
    "4. 앙상블 모델을 사용한다.\n",
    "    - 여러 모델의 결과를 평균\n",
    "    \n",
    "**Underfitting을 방지할 수 있는 방법**\n",
    "\n",
    "1. 새로운 특성 추가한다.\n",
    "2. 모델의 복잡도 증가시킨다.\n",
    "3. 정규화 계수를 줄인다.\n",
    "\n",
    "---\n",
    "\n",
    "이런 Overfitting과 Underfitting을 확인하기 위해서는 Leaderboard와 본인의 결과가 잘 비교되야 한다.\n",
    "\n",
    "그렇기에 검증은 필수적이다.\n",
    "\n",
    "### 3-1. 검증 (Validataion)\n",
    "\n",
    "- 모델을 만들면서 가장 중요한 것은 모델이 좋은지 나쁜지 평가해야 한다.\n",
    "- 이때 이미 학습에 이용한 데이터로 평가하려 해도 모델은 그 정답을 알고 있는 상황!!\n",
    "- 미지의 데이터에 대한 예측 능력을 평가할 수가 없다.\n",
    "- 학습데이터 중 일부를 사용하여 미지의 데이터로 남겨두고 이를 검증용으로 사용한다.\n",
    "- 모니터링 용도로 사용할 수 있다.\n",
    "\n",
    "큰 분류는 2가지이다.\n",
    "\n",
    "1. 일부 데이터를 검증용으로 나누는 홀드아웃 방법\n",
    "2. 전체 데이터를 효과적으로 사용하는 교차 검증 방법\n",
    "\n",
    "그리고 교차 검증 방법은 다음과 같은 순서로 이뤄진다.\n",
    "\n",
    "1. 학습 데이터를 여러 개로 분할한다. (이를 fold라고 부름)\n",
    "2. 그 중 하나를 검증 데이터, 나머지를 학습데이터로 삼아 학습 및 평가를 실시하고 검증 데이터에서 점수를 구한다.\n",
    "3. 분할한 횟수만큼 검증 데이터를 바꿔가며 2의 내용을 반복한다.\n",
    "4. 검증 데이터의 평균 점수로 모델의 좋고 나쁨을 평가한다.\n",
    "\n",
    "\n",
    "![](https://scikit-learn.org/stable/_images/grid_search_cross_validation.png)\n",
    "\n",
    "- [시각화로 보는 검증](https://scikit-learn.org/stable/auto_examples/model_selection/plot_cv_indices.html#sphx-glr-auto-examples-model-selection-plot-cv-indices-py)"
   ]
  },
  {
   "cell_type": "markdown",
   "id": "f2e95109",
   "metadata": {},
   "source": [
    "### 3-2. Holdout Set (Train Test Split)\n",
    "\n",
    "개인적으로 빠르게 해보며 성능을 확인할 수 있다는 장점이 있다.\n",
    "\n",
    "일반적으로 사용하는 비율은 ...\n",
    "\n",
    "- 7:3\n",
    "- 8:2\n",
    "- 9:1\n",
    "\n",
    "등이 있습니다."
   ]
  },
  {
   "cell_type": "code",
   "execution_count": null,
   "id": "d120ead7",
   "metadata": {},
   "outputs": [],
   "source": []
  },
  {
   "cell_type": "code",
   "execution_count": null,
   "id": "f4fa4a78",
   "metadata": {},
   "outputs": [],
   "source": []
  },
  {
   "cell_type": "markdown",
   "id": "27c63d29",
   "metadata": {},
   "source": [
    "### 3-3. K-Fold Cross Validation"
   ]
  },
  {
   "cell_type": "code",
   "execution_count": null,
   "id": "c9636a9f",
   "metadata": {},
   "outputs": [],
   "source": [
    "from sklearn.model_selection import KFold\n",
    "\n",
    "scores_train = []\n",
    "scores_val = [] \n",
    "kf = KFold(n_splits=5, shuffle=True, random_state=71) # 이런 핵심 기능들을 알아가는게 중요\n",
    "\n",
    "for ith, (tr_idx, va_idx) in enumerate(kf.split(X)):\n",
    "    print(f'{ith} step')\n",
    "    X_train, X_val = data_sample.iloc[tr_idx], data_sample.iloc[va_idx]\n",
    "    y_train, y_val = y[tr_idx], y[va_idx]\n",
    "    \n",
    "    rf = RandomForestClassifier()\n",
    "    rf.fit(X_train, y_train)\n",
    "    \n",
    "    pred = rf.predict_proba(X_train)\n",
    "    score_train = log_loss(ohe.transform(y_train.reshape(-1, 1)), pred)\n",
    "    \n",
    "    pred = rf.predict_proba(X_val)\n",
    "    score_val = log_loss(ohe.transform(y_val.reshape(-1, 1)), pred)\n",
    "\n",
    "    scores_train.append(score_train)\n",
    "    scores_val.append(score_val)\n",
    "\n",
    "print(scores_train)\n",
    "print(np.mean(scores_train))\n",
    "\n",
    "print(scores_val)\n",
    "print(np.mean(scores_val))"
   ]
  },
  {
   "cell_type": "markdown",
   "id": "e1c9bd03",
   "metadata": {},
   "source": [
    "### 3-4. Stratified K-Fold Cross Validation"
   ]
  },
  {
   "cell_type": "code",
   "execution_count": null,
   "id": "bc97cf10",
   "metadata": {},
   "outputs": [],
   "source": [
    "from sklearn.model_selection import StratifiedKFold\n",
    "\n",
    "scores = []\n",
    "results = [] \n",
    "skf = StratifiedKFold(n_splits=5, shuffle=True, random_state=71)\n",
    "\n",
    "for tr_idx, va_idx in skf.split(X, y):\n",
    "    X_train, X_val = data_sample.iloc[tr_idx], data_sample.iloc[va_idx]\n",
    "    y_train, y_val = y[tr_idx], y[va_idx]\n",
    "    rf = RandomForestClassifier()\n",
    "    rf.fit(X_train, y_train)\n",
    "    pred = rf.predict_proba(X_val)\n",
    "    score = log_loss(ohe.transform(y_val.reshape(-1, 1)), pred)\n",
    "    \n",
    "    scores.append(score)\n",
    "    \n",
    "    results.append(rf.predict_proba(test_sample))\n",
    "\n",
    "print(scores)\n",
    "print(np.mean(scores))"
   ]
  },
  {
   "cell_type": "markdown",
   "id": "informed-comedy",
   "metadata": {},
   "source": [
    "대회 제출을 위해서는 다음과 같이 만들어볼 수 있습니다."
   ]
  },
  {
   "cell_type": "code",
   "execution_count": null,
   "id": "c141dc53",
   "metadata": {},
   "outputs": [],
   "source": [
    "from sklearn.model_selection import StratifiedKFold\n",
    "\n",
    "\n",
    "scores = [] \n",
    "results = []\n",
    "skf = StratifiedKFold(n_splits=5, shuffle=True, random_state=71)\n",
    "\n",
    "for tr_idx, va_idx in skf.split(X, y):\n",
    "    X_train, X_val = data.iloc[tr_idx], data.iloc[va_idx]\n",
    "    y_train, y_val = y[tr_idx], y[va_idx]\n",
    "    rf = RandomForestClassifier()\n",
    "    rf.fit(X_train[num_columns], y_train)\n",
    "    pred = rf.predict_proba(X_val[num_columns])\n",
    "    score = log_loss(ohe.transform(y_val.reshape(-1, 1)), pred)\n",
    "    scores.append(score)\n",
    "    \n",
    "    results.append(rf.predict_proba(test_data[num_columns]))\n",
    "\n",
    "print(scores)\n",
    "print(np.mean(scores))"
   ]
  },
  {
   "cell_type": "code",
   "execution_count": null,
   "id": "02c13fac",
   "metadata": {},
   "outputs": [],
   "source": [
    "result = np.array(results).mean(axis=0)\n",
    "\n",
    "sample_submission['0'] = result[:, 0]\n",
    "sample_submission['1'] = result[:, 1]\n",
    "sample_submission['2'] = result[:, 2]\n",
    "\n",
    "sample_submission.to_csv('cb5.csv', index=False)"
   ]
  },
  {
   "cell_type": "markdown",
   "id": "6b3d2476",
   "metadata": {},
   "source": [
    "### 3-5. LOOCV\n",
    "\n",
    "Leave One Out Cross Validation은 Leave-p-Out Cross Validation의 일종입니다.\n",
    "\n",
    "검증 데이터가 1개씩 사용하는 방법으로 데이터가 적을 때, 효과적인 방법입니다. \n",
    "\n",
    "p개씩 하는 LPOCV의 일종이기도 합니다.\n",
    "\n",
    "시간이 오래걸리므로 추천하지는 않습니다."
   ]
  },
  {
   "cell_type": "code",
   "execution_count": null,
   "id": "a1b0d7ff",
   "metadata": {},
   "outputs": [],
   "source": [
    "from sklearn.model_selection import LeaveOneOut"
   ]
  },
  {
   "cell_type": "markdown",
   "id": "01d2b9ff",
   "metadata": {},
   "source": [
    "## 4. Feature Engineering\n",
    "\n",
    "### 4-1. 다양한 테크닉들\n",
    "\n",
    "모델보다 중요한 것은 중요한 feature를 찾는 것.\n",
    "결국엔 언제나 입력을 잘 만들어주는 것이 중요하다.\n",
    "\n",
    "대회 마지막에 일주일 전에 조지면 됨\n",
    "\n",
    "- Feature Interaction (aka 사칙연산)\n",
    "- Dimension Reduction\n",
    "- Groupby Feature (statistics feature)\n",
    "- Frequency Encoding\n",
    "- Target Encoding\n",
    "- Natural Language Embedding\n",
    "- Split String\n",
    "- feature from missing value \n",
    "- Clipping"
   ]
  },
  {
   "cell_type": "markdown",
   "id": "ec8f82b0",
   "metadata": {},
   "source": [
    "### 4-2. Feature Interaction\n",
    "\n",
    "feature간의 다양한 연산을 통해 새로운 feature를 만들 수 있습니다.\n",
    "\n",
    "- 덧셈\n",
    "- 뺄셈\n",
    "- 곱셈\n",
    "- 나눗셈\n",
    "\n",
    "왜 이 연산들을 통해 새로운 feature를 만들면 좋은 feature를 만들 수 있을까요?"
   ]
  },
  {
   "cell_type": "markdown",
   "id": "a3cddfa7",
   "metadata": {},
   "source": [
    "---\n",
    "다음과 같은 변수들을 만들어봅시다. (후에 제출용으로 만들 때는 test data에도 만들어야 합니다.) (15분)\n",
    "\n",
    "1. 고용되기 전까지 일수(나이)\n",
    "2. 나이\n",
    "3. 소득 / 가족수"
   ]
  },
  {
   "cell_type": "code",
   "execution_count": null,
   "id": "63b54ab3",
   "metadata": {
    "tags": []
   },
   "outputs": [],
   "source": [
    "data.head()"
   ]
  },
  {
   "cell_type": "code",
   "execution_count": null,
   "id": "d2095fe7-f83a-474a-8960-e954f2f62b7c",
   "metadata": {},
   "outputs": [],
   "source": [
    "data_sample['first_employed'] = data_sample['DAYS_EMPLOYED'] - data_sample['DAYS_BIRTH']\n",
    "test_sample['first_employed'] = data_sample['DAYS_EMPLOYED'] - data_sample['family_size']\n",
    "# 다중공선성이 의심이 될 수 있다. 다 만들고 체크를 하고 지워주면 됨.\n"
   ]
  },
  {
   "cell_type": "code",
   "execution_count": null,
   "id": "99c9b384-fd72-446c-853d-f5eb2d04f37d",
   "metadata": {},
   "outputs": [],
   "source": [
    "data_sample['age'] = data_sample['DAYS_BIRTH'] / 365\n",
    "test_sample['age'] = data_sample['DAYS_BIRTH'] / 365"
   ]
  },
  {
   "cell_type": "code",
   "execution_count": null,
   "id": "ebf71ede-0649-4ffd-8d2d-8facca7084a4",
   "metadata": {},
   "outputs": [],
   "source": [
    "data_sample['income_per'] = data_sample['income_total'] / data_sample['family_size']\n",
    "test_sample['income_per'] = data_sample['income_total'] / data_sample['family_size']\n"
   ]
  },
  {
   "cell_type": "markdown",
   "id": "23e6db85",
   "metadata": {},
   "source": [
    "### 4-3. Dimension Reduction & Clustering\n",
    "\n",
    "Dimension Reduction은 차원을 줄이는 방법으로 다양한 방법이 존재합니다.\n",
    "\n",
    "차원을 줄이는 이유는 다양합니다.\n",
    "\n",
    "1. feature가 너무 많을 때, 효과적인 feature를 찾기 위해 (고차원->저차원)\n",
    "2. noise 제거 및 성능 향상\n",
    "2. 시각화를 통해 고차원 데이터 분포\n",
    "\n",
    "Dimension Reduction은 꾸준하게 연구되고 있으며 현재 가장 많이 사용하는 방법은 다음과 같습니다.\n",
    "\n",
    "- PCA\n",
    "\n",
    "주성분 분석이라는 방법입니다.\n",
    "\n",
    "- T-SNE / UMAP\n",
    "\n",
    "구체적인 방법을 설명하기는 비교적 어렵습니다. \n",
    "\n",
    "멀리있는 데이터는 멀리보네고, 가까이 있는 데이터는 가깝게 유지하는 방법을 사용하여 데이터의 분포를 저차원에서 줄입니다.\n",
    "\n",
    "\n",
    "#### Further Reading\n",
    "\n",
    "- [T-SNE 이론적 설명](https://lovit.github.io/nlp/representation/2018/09/28/tsne/)\n",
    "- [How to use t-sne Effectively](https://distill.pub/2016/misread-tsne/)"
   ]
  },
  {
   "cell_type": "code",
   "execution_count": null,
   "id": "hollow-butter",
   "metadata": {},
   "outputs": [],
   "source": [
    "# !pip install umap-learn"
   ]
  },
  {
   "cell_type": "code",
   "execution_count": null,
   "id": "e56a1a00",
   "metadata": {},
   "outputs": [],
   "source": [
    "from sklearn.decomposition import PCA\n",
    "from sklearn.manifold import TSNE\n",
    "from umap import UMAP\n",
    "\n",
    "pca = PCA(n_components=2)\n",
    "tsne = TSNE(n_components=2,random_state=0)\n",
    "umap = UMAP(random_state=0)"
   ]
  },
  {
   "cell_type": "markdown",
   "id": "hydraulic-reverse",
   "metadata": {},
   "source": [
    "각각 pca, tsne, umap은 `scaler`나 `classifier`와 마찬가지로 `fit`과 `transform` 기능을 가지고 있습니다.\n",
    "\n",
    "train data의 numerical columns에 대해 pca의 결과, tsne의 결과, umap의 결과를 다른 파일에 저장하시오. (15분)"
   ]
  },
  {
   "cell_type": "markdown",
   "id": "81547f6f",
   "metadata": {},
   "source": [
    "### 4-4. Groupby Feature (Statistics)\n",
    "\n",
    "앞서 말한 방법의 심화입니다. Groupby를 사용한 다양한 통계값을 사용하여 새로운 feature를 만들어줄 수 있습니다."
   ]
  },
  {
   "cell_type": "code",
   "execution_count": null,
   "id": "82ba7e78",
   "metadata": {},
   "outputs": [],
   "source": [
    "data.groupby(['gender'])['child_num'].mean()"
   ]
  },
  {
   "cell_type": "code",
   "execution_count": null,
   "id": "dd44b007",
   "metadata": {},
   "outputs": [],
   "source": [
    "data.groupby(['gender'])['child_num'].transform(np.mean) # 하나의 시리즈를 만듦.\n",
    "# categorical columns를 numerical로 바꾸면서 \n",
    "# 모델의 성능을 높이는 것을 고민."
   ]
  },
  {
   "cell_type": "markdown",
   "id": "sweet-reduction",
   "metadata": {},
   "source": [
    "<div class=\"alert alert-block alert-warning\">\n",
    "<b>Quiz</b> 평균을 쓰는 것이 정답일까?\n",
    "</div>\n"
   ]
  },
  {
   "cell_type": "markdown",
   "id": "56d00b0a",
   "metadata": {},
   "source": [
    "### 4-5. Frequency Encoding\n",
    "\n",
    "프리퀀시 인코딩은 각 레벨의 출현 횟수의 혹슨 출현 비노도로 범주형 변수를 대체하는 방법입니다.\n",
    "\n",
    "각 레벨의 출현빈도가 target과 관련성이 있을 때 유효합니다. 즉, 균등하다면 의미가 없습니다.\n",
    "\n",
    "다음과 같이 진행할 수 있습니다.\n",
    "\n",
    "``` py\n",
    "for c in cat_columns:\n",
    "    freq = train[c].value_counts()\n",
    "    train[c] = train[c].map(freq)\n",
    "    test[c] = test[c].map(freq)\n",
    "```\n",
    "\n",
    "해당 과정을 train data와 test data에 모두 적용해보시오 (10분)"
   ]
  },
  {
   "cell_type": "code",
   "execution_count": null,
   "id": "smoking-adaptation",
   "metadata": {},
   "outputs": [],
   "source": []
  },
  {
   "cell_type": "markdown",
   "id": "925ee665",
   "metadata": {},
   "source": [
    "### 4-6. Target Encoding\n",
    "\n",
    "목적변수를 이용하여 범주형 변수를 수치형 변수로 변환하는 방법입니다.\n",
    "\n",
    "범주형 변수의 각 클래스별로 target의 평균값으로 치환하여 사용합니다.\n",
    "\n",
    "- target의 정보가 노출되기 때문에 KFold를 사용\n",
    "- noise를 더하여 누출을 방지\n",
    "- 불균형 방지를 위해 데이터 평균 및 가중치 추가\n",
    "\n",
    "고려할 부분이 상당히 많음."
   ]
  },
  {
   "cell_type": "code",
   "execution_count": null,
   "id": "5d82d0c6-d367-46db-be19-d7a9f7def949",
   "metadata": {},
   "outputs": [],
   "source": [
    "data = pd.read_csv(train_path)\n",
    "data.groupby('gender')['credit'].mean()\n",
    "# 위험한 방법\n",
    "# 평균을 더해 분포를 바꾸는 경우 "
   ]
  },
  {
   "cell_type": "code",
   "execution_count": null,
   "id": "2e1f500c",
   "metadata": {},
   "outputs": [],
   "source": [
    "# !pip install category_encoders"
   ]
  },
  {
   "cell_type": "code",
   "execution_count": null,
   "id": "c5ba0ff7",
   "metadata": {},
   "outputs": [],
   "source": [
    "from category_encoders.target_encoder import TargetEncoder\n",
    "\n",
    "te = TargetEncoder()\n",
    "te.fit(data['gender'], target)"
   ]
  },
  {
   "cell_type": "markdown",
   "id": "ff1ef6de",
   "metadata": {},
   "source": [
    "<div class=\"alert alert-block alert-warning\">\n",
    "<b>Quiz</b> 해당 target은 0, 1, 2이기에 평균이 의미가 없을 수 있다. 어떻게 하면 좋은 Feature를 만들 수 있을까?\n",
    "</div>\n"
   ]
  },
  {
   "cell_type": "markdown",
   "id": "92434df1",
   "metadata": {},
   "source": [
    "### 4-7. Split String Feature \n",
    "\n",
    "일부 hash값으로 구성된 string의 경우, string을 쪼개어 숫자부/문자부 등으로 구분하여 사용할 수 있습니다.\n",
    "\n",
    "<div class=\"alert alert-block alert-success\">\n",
    "<b>Tips</b> 2021-07-31의 경우, 2021과 07을 사용할 수 있다.\n",
    "</div>\n"
   ]
  },
  {
   "cell_type": "markdown",
   "id": "972c12ef",
   "metadata": {},
   "source": [
    "### 4-8. Natural Language Embedding\n",
    "\n",
    "자연어가 포함되어 있는 경우에 이를 vector로 표현하는 것도 하나의 방식입니다.\n",
    "\n",
    "- Word2Vec # \n",
    "- TF-IDF  # 빈도수\n",
    "- FastText # 심화시킨 것\n",
    "- Bert # 딥러닝 방법\n",
    "\n",
    "등의 자연어 처리 방법론이 있습니다.\n",
    "일반적으로 `설명` feature가 있어 해당 설명을 모델에 넣기위해 사용합니다.\n",
    "\n",
    "\n",
    "[한국-서울+도쿄](https://word2vec.kr/search/?query=%ED%95%9C%EA%B5%AD-%EC%84%9C%EC%9A%B8%2B%EB%8F%84%EC%BF%84) 처럼 연산을 할 수 있다.\n",
    "\n",
    "좀 더 좋은 퀄리티의 [구글 자료](http://projector.tensorflow.org/)을 살펴봅시다.\n",
    "\n",
    "#### Further Reading\n",
    "\n",
    "- https://wikidocs.net/book/2155"
   ]
  },
  {
   "cell_type": "markdown",
   "id": "united-prince",
   "metadata": {},
   "source": [
    "### 4-9. Feature from Missing Value\n",
    "\n",
    "결측치가 있다면 결측치가 있음을 1로, 결측치가 없음은 0으로 추가할 수도 있습니다. \n",
    "\n",
    "Occyp의 빈부분을 결측치가 있는 경우 1, 없는 경우 0으로 만들어보시오. (10분)"
   ]
  },
  {
   "cell_type": "markdown",
   "id": "ahead-baltimore",
   "metadata": {},
   "source": [
    "### 4-10. Clipping\n",
    "\n",
    "Scaling이 완료되었거나 범위가 극단적인 경우는 양끝을 잘라줄 수도 있습니다.\n",
    "\n",
    "가족 수에 관련된 feature를 본인의 기준에 따라 N명 이상인 경우는 N명으로 바꾸시오. 그리고 스케일링하시오. (15분)"
   ]
  },
  {
   "cell_type": "markdown",
   "id": "c6f83625",
   "metadata": {},
   "source": [
    "## Further Reading\n",
    "\n",
    "- category encoding : https://www.kaggle.com/c/cat-in-the-dat/overview"
   ]
  },
  {
   "cell_type": "markdown",
   "id": "talented-nicholas",
   "metadata": {},
   "source": [
    "## 5. 오늘의 목표 (30분)\n",
    "\n",
    "1. 범주형 변수 인코딩\n",
    "2. 수치형 변수와 범주형 변수를 통한 변수 생성\n",
    "3. Stratified KFold + 본인이 ML에서 선택하고 싶은 모델로 모델 생성\n",
    "4. 모델의 결과를 평균 내고 제출"
   ]
  },
  {
   "cell_type": "code",
   "execution_count": null,
   "id": "suited-prototype",
   "metadata": {},
   "outputs": [],
   "source": []
  }
 ],
 "metadata": {
  "kernelspec": {
   "display_name": "Python 3",
   "language": "python",
   "name": "python3"
  },
  "language_info": {
   "codemirror_mode": {
    "name": "ipython",
    "version": 3
   },
   "file_extension": ".py",
   "mimetype": "text/x-python",
   "name": "python",
   "nbconvert_exporter": "python",
   "pygments_lexer": "ipython3",
   "version": "3.8.8"
  }
 },
 "nbformat": 4,
 "nbformat_minor": 5
}
