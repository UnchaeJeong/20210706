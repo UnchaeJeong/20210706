{
 "cells": [
  {
   "cell_type": "markdown",
   "metadata": {
    "id": "l5jkTeeNjUae"
   },
   "source": [
    "# Pandas 한번에 제대로 배우기\n"
   ]
  },
  {
   "cell_type": "markdown",
   "metadata": {
    "id": "063zrZmgk8Gx"
   },
   "source": [
    "\n",
    "\n",
    "---\n",
    "\n"
   ]
  },
  {
   "cell_type": "code",
   "execution_count": 1,
   "metadata": {
    "colab": {
     "base_uri": "https://localhost:8080/",
     "height": 36
    },
    "id": "yse0ihPdjJbw",
    "outputId": "c4cdd118-bfc3-4bdb-9425-531b1bd91a61"
   },
   "outputs": [
    {
     "data": {
      "text/plain": [
       "'1.3.1'"
      ]
     },
     "execution_count": 1,
     "metadata": {},
     "output_type": "execute_result"
    }
   ],
   "source": [
    "import numpy as np\n",
    "import pandas as pd\n",
    "pd.__version__"
   ]
  },
  {
   "cell_type": "markdown",
   "metadata": {
    "id": "CsH0REQfuLu2"
   },
   "source": [
    "## Pandas 객체\n"
   ]
  },
  {
   "cell_type": "markdown",
   "metadata": {
    "id": "J4u_-QUtwsKq"
   },
   "source": [
    "### Series 객체"
   ]
  },
  {
   "cell_type": "code",
   "execution_count": 2,
   "metadata": {
    "colab": {
     "base_uri": "https://localhost:8080/"
    },
    "id": "xb5Lsw3Qk_6Q",
    "outputId": "74782186-1cfe-46b2-852e-7d1941b48a80"
   },
   "outputs": [
    {
     "data": {
      "text/plain": [
       "0    0.00\n",
       "1    0.25\n",
       "2    0.50\n",
       "3    0.75\n",
       "4    1.00\n",
       "dtype: float64"
      ]
     },
     "execution_count": 2,
     "metadata": {},
     "output_type": "execute_result"
    }
   ],
   "source": [
    "s = pd.Series([0, 0.25,0.5,0.75,1.0])\n",
    "s"
   ]
  },
  {
   "cell_type": "code",
   "execution_count": 3,
   "metadata": {
    "colab": {
     "base_uri": "https://localhost:8080/"
    },
    "id": "kU9VyUV6uiNx",
    "outputId": "ed7a41bb-697e-45b1-d09f-103838f8f3bc"
   },
   "outputs": [
    {
     "data": {
      "text/plain": [
       "array([0.  , 0.25, 0.5 , 0.75, 1.  ])"
      ]
     },
     "execution_count": 3,
     "metadata": {},
     "output_type": "execute_result"
    }
   ],
   "source": [
    "s.values"
   ]
  },
  {
   "cell_type": "code",
   "execution_count": 4,
   "metadata": {
    "colab": {
     "base_uri": "https://localhost:8080/"
    },
    "id": "4fRQDuG2une6",
    "outputId": "6c09b985-5cf6-4a4a-aae6-2fe506420508"
   },
   "outputs": [
    {
     "data": {
      "text/plain": [
       "RangeIndex(start=0, stop=5, step=1)"
      ]
     },
     "execution_count": 4,
     "metadata": {},
     "output_type": "execute_result"
    }
   ],
   "source": [
    "s.index"
   ]
  },
  {
   "cell_type": "code",
   "execution_count": 5,
   "metadata": {
    "colab": {
     "base_uri": "https://localhost:8080/"
    },
    "id": "yZZ8khTnun6k",
    "outputId": "96c6c985-7c5a-4322-a8e2-34d97f3e45ad"
   },
   "outputs": [
    {
     "data": {
      "text/plain": [
       "0.25"
      ]
     },
     "execution_count": 5,
     "metadata": {},
     "output_type": "execute_result"
    }
   ],
   "source": [
    "s[1]"
   ]
  },
  {
   "cell_type": "code",
   "execution_count": 6,
   "metadata": {
    "colab": {
     "base_uri": "https://localhost:8080/"
    },
    "id": "TYahWVDa5QHX",
    "outputId": "308bee18-fa1b-4222-a1d6-2e74ebdf2835"
   },
   "outputs": [
    {
     "data": {
      "text/plain": [
       "1    0.25\n",
       "2    0.50\n",
       "3    0.75\n",
       "dtype: float64"
      ]
     },
     "execution_count": 6,
     "metadata": {},
     "output_type": "execute_result"
    }
   ],
   "source": [
    "s[1:4]"
   ]
  },
  {
   "cell_type": "code",
   "execution_count": 7,
   "metadata": {
    "colab": {
     "base_uri": "https://localhost:8080/"
    },
    "id": "YSLBo7xOuw4X",
    "outputId": "9d08f95e-0b15-4c4f-c028-e9bff13f15fd"
   },
   "outputs": [
    {
     "data": {
      "text/plain": [
       "a    0.00\n",
       "b    0.25\n",
       "c    0.50\n",
       "d    0.75\n",
       "e    1.00\n",
       "dtype: float64"
      ]
     },
     "execution_count": 7,
     "metadata": {},
     "output_type": "execute_result"
    }
   ],
   "source": [
    "s = pd.Series([0,0.25,0.5,0.75,1.0],\n",
    "              index = ['a','b','c','d','e'])\n",
    "s"
   ]
  },
  {
   "cell_type": "code",
   "execution_count": 8,
   "metadata": {
    "colab": {
     "base_uri": "https://localhost:8080/"
    },
    "id": "9cZUdDGdvKMs",
    "outputId": "21374db3-b63d-46f8-d1bd-e7b810f27834"
   },
   "outputs": [
    {
     "data": {
      "text/plain": [
       "True"
      ]
     },
     "execution_count": 8,
     "metadata": {},
     "output_type": "execute_result"
    }
   ],
   "source": [
    "'b' in s"
   ]
  },
  {
   "cell_type": "code",
   "execution_count": 9,
   "metadata": {
    "colab": {
     "base_uri": "https://localhost:8080/"
    },
    "id": "YME6WAvUnvAE",
    "outputId": "aeb04934-c0ec-42fb-87e0-cdc730bde111"
   },
   "outputs": [
    {
     "data": {
      "text/plain": [
       "c    0.50\n",
       "d    0.75\n",
       "e    1.00\n",
       "dtype: float64"
      ]
     },
     "execution_count": 9,
     "metadata": {},
     "output_type": "execute_result"
    }
   ],
   "source": [
    "s[['c','d','e']]"
   ]
  },
  {
   "cell_type": "code",
   "execution_count": 10,
   "metadata": {
    "colab": {
     "base_uri": "https://localhost:8080/"
    },
    "id": "ICRZfCe1o9SO",
    "outputId": "056be495-12a4-4215-f0c3-87183e720b05"
   },
   "outputs": [
    {
     "data": {
      "text/plain": [
       "array([0.  , 0.25, 0.5 , 0.75, 1.  ])"
      ]
     },
     "execution_count": 10,
     "metadata": {},
     "output_type": "execute_result"
    }
   ],
   "source": [
    "s.unique()"
   ]
  },
  {
   "cell_type": "code",
   "execution_count": 11,
   "metadata": {
    "colab": {
     "base_uri": "https://localhost:8080/"
    },
    "id": "fk7JuV4yvLUO",
    "outputId": "03fc43ee-0338-4a87-93fb-560ba07f5b76"
   },
   "outputs": [
    {
     "data": {
      "text/plain": [
       "0.00    1\n",
       "0.25    1\n",
       "0.50    1\n",
       "0.75    1\n",
       "1.00    1\n",
       "dtype: int64"
      ]
     },
     "execution_count": 11,
     "metadata": {},
     "output_type": "execute_result"
    }
   ],
   "source": [
    "s.value_counts()"
   ]
  },
  {
   "cell_type": "code",
   "execution_count": 12,
   "metadata": {
    "colab": {
     "base_uri": "https://localhost:8080/"
    },
    "id": "z8X3HamnxweS",
    "outputId": "220872cd-f297-4cc5-8ff1-f7863dff3fff"
   },
   "outputs": [
    {
     "data": {
      "text/plain": [
       "a    False\n",
       "b     True\n",
       "c    False\n",
       "d     True\n",
       "e    False\n",
       "dtype: bool"
      ]
     },
     "execution_count": 12,
     "metadata": {},
     "output_type": "execute_result"
    }
   ],
   "source": [
    "s.isin([0.25, 0.75])"
   ]
  },
  {
   "cell_type": "code",
   "execution_count": 13,
   "metadata": {
    "colab": {
     "base_uri": "https://localhost:8080/"
    },
    "id": "BPIhn89Tn_wd",
    "outputId": "139f87c0-bd52-4b4c-9076-e4747b1f6f0b"
   },
   "outputs": [
    {
     "data": {
      "text/plain": [
       "서울특별시    9723\n",
       "부산광역시    9898\n",
       "광주광역시    9999\n",
       "dtype: int64"
      ]
     },
     "execution_count": 13,
     "metadata": {},
     "output_type": "execute_result"
    }
   ],
   "source": [
    "pop_tuple ={'서울특별시':9723,\n",
    "            '부산광역시': 9898,\n",
    "            '광주광역시': 9999}\n",
    "population = pd.Series(pop_tuple)\n",
    "population"
   ]
  },
  {
   "cell_type": "code",
   "execution_count": 14,
   "metadata": {
    "colab": {
     "base_uri": "https://localhost:8080/"
    },
    "id": "bJjXA4YLrRUK",
    "outputId": "b6224a74-22bb-4540-ebf1-94a0af3beecb"
   },
   "outputs": [
    {
     "data": {
      "text/plain": [
       "9723"
      ]
     },
     "execution_count": 14,
     "metadata": {},
     "output_type": "execute_result"
    }
   ],
   "source": [
    "population['서울특별시']"
   ]
  },
  {
   "cell_type": "code",
   "execution_count": 15,
   "metadata": {
    "colab": {
     "base_uri": "https://localhost:8080/"
    },
    "id": "e77ZJdhtrejE",
    "outputId": "1bb5bc6f-517d-4870-9a11-e0f1a151201c"
   },
   "outputs": [
    {
     "data": {
      "text/plain": [
       "서울특별시    9723\n",
       "부산광역시    9898\n",
       "광주광역시    9999\n",
       "dtype: int64"
      ]
     },
     "execution_count": 15,
     "metadata": {},
     "output_type": "execute_result"
    }
   ],
   "source": [
    "population['서울특별시':'광주광역시']"
   ]
  },
  {
   "cell_type": "markdown",
   "metadata": {
    "id": "2oGWT2Kd0JV0"
   },
   "source": [
    "### DataFrame 객체"
   ]
  },
  {
   "cell_type": "code",
   "execution_count": 16,
   "metadata": {
    "colab": {
     "base_uri": "https://localhost:8080/",
     "height": 106
    },
    "id": "BWi3ow9C3N5c",
    "outputId": "3a0835e5-c979-4283-a6e2-ad25c2592b34"
   },
   "outputs": [
    {
     "data": {
      "text/html": [
       "<div>\n",
       "<style scoped>\n",
       "    .dataframe tbody tr th:only-of-type {\n",
       "        vertical-align: middle;\n",
       "    }\n",
       "\n",
       "    .dataframe tbody tr th {\n",
       "        vertical-align: top;\n",
       "    }\n",
       "\n",
       "    .dataframe thead th {\n",
       "        text-align: right;\n",
       "    }\n",
       "</style>\n",
       "<table border=\"1\" class=\"dataframe\">\n",
       "  <thead>\n",
       "    <tr style=\"text-align: right;\">\n",
       "      <th></th>\n",
       "      <th>a</th>\n",
       "      <th>b</th>\n",
       "      <th>c</th>\n",
       "    </tr>\n",
       "  </thead>\n",
       "  <tbody>\n",
       "    <tr>\n",
       "      <th>0</th>\n",
       "      <td>2</td>\n",
       "      <td>4</td>\n",
       "      <td>3</td>\n",
       "    </tr>\n",
       "    <tr>\n",
       "      <th>1</th>\n",
       "      <td>4</td>\n",
       "      <td>5</td>\n",
       "      <td>7</td>\n",
       "    </tr>\n",
       "  </tbody>\n",
       "</table>\n",
       "</div>"
      ],
      "text/plain": [
       "   a  b  c\n",
       "0  2  4  3\n",
       "1  4  5  7"
      ]
     },
     "execution_count": 16,
     "metadata": {},
     "output_type": "execute_result"
    }
   ],
   "source": [
    "pd.DataFrame([{'a':2,'b':4,'c':3},{'a':4,'b':5,'c':7}])"
   ]
  },
  {
   "cell_type": "code",
   "execution_count": 17,
   "metadata": {
    "colab": {
     "base_uri": "https://localhost:8080/",
     "height": 195
    },
    "id": "KSeay5dT35eH",
    "outputId": "843142d0-0dd9-43e6-83a3-a7409de15c94"
   },
   "outputs": [
    {
     "data": {
      "text/html": [
       "<div>\n",
       "<style scoped>\n",
       "    .dataframe tbody tr th:only-of-type {\n",
       "        vertical-align: middle;\n",
       "    }\n",
       "\n",
       "    .dataframe tbody tr th {\n",
       "        vertical-align: top;\n",
       "    }\n",
       "\n",
       "    .dataframe thead th {\n",
       "        text-align: right;\n",
       "    }\n",
       "</style>\n",
       "<table border=\"1\" class=\"dataframe\">\n",
       "  <thead>\n",
       "    <tr style=\"text-align: right;\">\n",
       "      <th></th>\n",
       "      <th>a</th>\n",
       "      <th>b</th>\n",
       "      <th>c</th>\n",
       "      <th>d</th>\n",
       "      <th>e</th>\n",
       "    </tr>\n",
       "  </thead>\n",
       "  <tbody>\n",
       "    <tr>\n",
       "      <th>1</th>\n",
       "      <td>0.877877</td>\n",
       "      <td>0.086639</td>\n",
       "      <td>0.989084</td>\n",
       "      <td>0.352069</td>\n",
       "      <td>0.766079</td>\n",
       "    </tr>\n",
       "    <tr>\n",
       "      <th>2</th>\n",
       "      <td>0.606071</td>\n",
       "      <td>0.548123</td>\n",
       "      <td>0.880573</td>\n",
       "      <td>0.095935</td>\n",
       "      <td>0.289382</td>\n",
       "    </tr>\n",
       "    <tr>\n",
       "      <th>3</th>\n",
       "      <td>0.192427</td>\n",
       "      <td>0.508506</td>\n",
       "      <td>0.846547</td>\n",
       "      <td>0.601735</td>\n",
       "      <td>0.554626</td>\n",
       "    </tr>\n",
       "    <tr>\n",
       "      <th>4</th>\n",
       "      <td>0.500863</td>\n",
       "      <td>0.600878</td>\n",
       "      <td>0.057517</td>\n",
       "      <td>0.012025</td>\n",
       "      <td>0.599677</td>\n",
       "    </tr>\n",
       "    <tr>\n",
       "      <th>5</th>\n",
       "      <td>0.673553</td>\n",
       "      <td>0.444401</td>\n",
       "      <td>0.536535</td>\n",
       "      <td>0.656981</td>\n",
       "      <td>0.086311</td>\n",
       "    </tr>\n",
       "  </tbody>\n",
       "</table>\n",
       "</div>"
      ],
      "text/plain": [
       "          a         b         c         d         e\n",
       "1  0.877877  0.086639  0.989084  0.352069  0.766079\n",
       "2  0.606071  0.548123  0.880573  0.095935  0.289382\n",
       "3  0.192427  0.508506  0.846547  0.601735  0.554626\n",
       "4  0.500863  0.600878  0.057517  0.012025  0.599677\n",
       "5  0.673553  0.444401  0.536535  0.656981  0.086311"
      ]
     },
     "execution_count": 17,
     "metadata": {},
     "output_type": "execute_result"
    }
   ],
   "source": [
    "pd.DataFrame(np.random.rand(5,5),\n",
    "             columns=['a','b','c','d','e'],\n",
    "             index=[1,2,3,4,5])"
   ]
  },
  {
   "cell_type": "code",
   "execution_count": 18,
   "metadata": {
    "colab": {
     "base_uri": "https://localhost:8080/"
    },
    "id": "LF5SPGK5z7PA",
    "outputId": "d683d2dc-1f25-4458-bbc3-6d915ec69866"
   },
   "outputs": [
    {
     "data": {
      "text/plain": [
       "서울특별시    9723\n",
       "부산광역시    9898\n",
       "광주광역시    9999\n",
       "dtype: int64"
      ]
     },
     "execution_count": 18,
     "metadata": {},
     "output_type": "execute_result"
    }
   ],
   "source": [
    "male_tuple ={'서울특별시':9723,\n",
    "            '부산광역시': 9898,\n",
    "            '광주광역시': 9999}\n",
    "male_tuple = pd.Series(male_tuple)\n",
    "male_tuple"
   ]
  },
  {
   "cell_type": "code",
   "execution_count": 19,
   "metadata": {
    "colab": {
     "base_uri": "https://localhost:8080/"
    },
    "id": "1XAK9yR91tyy",
    "outputId": "67c53bda-71c0-4a6f-bb09-b8d3b4063010"
   },
   "outputs": [
    {
     "data": {
      "text/plain": [
       "서울특별시    923\n",
       "부산광역시    898\n",
       "광주광역시    999\n",
       "dtype: int64"
      ]
     },
     "execution_count": 19,
     "metadata": {},
     "output_type": "execute_result"
    }
   ],
   "source": [
    "female_tuple ={'서울특별시':923,\n",
    "            '부산광역시': 898,\n",
    "            '광주광역시': 999}\n",
    "female_tuple = pd.Series(female_tuple)\n",
    "female_tuple"
   ]
  },
  {
   "cell_type": "code",
   "execution_count": 20,
   "metadata": {
    "colab": {
     "base_uri": "https://localhost:8080/",
     "height": 136
    },
    "id": "gpOOL8zh2EI-",
    "outputId": "22827603-7b7e-4e8d-fff8-50d55038cd50"
   },
   "outputs": [
    {
     "data": {
      "text/html": [
       "<div>\n",
       "<style scoped>\n",
       "    .dataframe tbody tr th:only-of-type {\n",
       "        vertical-align: middle;\n",
       "    }\n",
       "\n",
       "    .dataframe tbody tr th {\n",
       "        vertical-align: top;\n",
       "    }\n",
       "\n",
       "    .dataframe thead th {\n",
       "        text-align: right;\n",
       "    }\n",
       "</style>\n",
       "<table border=\"1\" class=\"dataframe\">\n",
       "  <thead>\n",
       "    <tr style=\"text-align: right;\">\n",
       "      <th></th>\n",
       "      <th>인구수</th>\n",
       "      <th>남자인구수</th>\n",
       "      <th>여자인구수</th>\n",
       "    </tr>\n",
       "  </thead>\n",
       "  <tbody>\n",
       "    <tr>\n",
       "      <th>서울특별시</th>\n",
       "      <td>9723</td>\n",
       "      <td>9723</td>\n",
       "      <td>923</td>\n",
       "    </tr>\n",
       "    <tr>\n",
       "      <th>부산광역시</th>\n",
       "      <td>9898</td>\n",
       "      <td>9898</td>\n",
       "      <td>898</td>\n",
       "    </tr>\n",
       "    <tr>\n",
       "      <th>광주광역시</th>\n",
       "      <td>9999</td>\n",
       "      <td>9999</td>\n",
       "      <td>999</td>\n",
       "    </tr>\n",
       "  </tbody>\n",
       "</table>\n",
       "</div>"
      ],
      "text/plain": [
       "        인구수  남자인구수  여자인구수\n",
       "서울특별시  9723   9723    923\n",
       "부산광역시  9898   9898    898\n",
       "광주광역시  9999   9999    999"
      ]
     },
     "execution_count": 20,
     "metadata": {},
     "output_type": "execute_result"
    }
   ],
   "source": [
    "korea_df = pd.DataFrame({'인구수':population,\n",
    "                         '남자인구수' : male_tuple,\n",
    "                         '여자인구수' : female_tuple})\n",
    "korea_df"
   ]
  },
  {
   "cell_type": "code",
   "execution_count": 21,
   "metadata": {
    "colab": {
     "base_uri": "https://localhost:8080/"
    },
    "id": "9A0OSZFw2TJZ",
    "outputId": "76b3c13f-7546-4d54-c9f7-344220bd48d8"
   },
   "outputs": [
    {
     "data": {
      "text/plain": [
       "Index(['서울특별시', '부산광역시', '광주광역시'], dtype='object')"
      ]
     },
     "execution_count": 21,
     "metadata": {},
     "output_type": "execute_result"
    }
   ],
   "source": [
    "korea_df.index"
   ]
  },
  {
   "cell_type": "code",
   "execution_count": 22,
   "metadata": {
    "colab": {
     "base_uri": "https://localhost:8080/"
    },
    "id": "qCRB-v6w2Xmt",
    "outputId": "df4af496-62f8-45c3-d9fa-2bdc937730a5"
   },
   "outputs": [
    {
     "data": {
      "text/plain": [
       "Index(['인구수', '남자인구수', '여자인구수'], dtype='object')"
      ]
     },
     "execution_count": 22,
     "metadata": {},
     "output_type": "execute_result"
    }
   ],
   "source": [
    "korea_df.columns"
   ]
  },
  {
   "cell_type": "code",
   "execution_count": 23,
   "metadata": {
    "colab": {
     "base_uri": "https://localhost:8080/"
    },
    "id": "I86OnLLj2bSf",
    "outputId": "f72d4ed1-c288-41ab-9305-e6ab9151e939"
   },
   "outputs": [
    {
     "data": {
      "text/plain": [
       "서울특별시    923\n",
       "부산광역시    898\n",
       "광주광역시    999\n",
       "Name: 여자인구수, dtype: int64"
      ]
     },
     "execution_count": 23,
     "metadata": {},
     "output_type": "execute_result"
    }
   ],
   "source": [
    "korea_df['여자인구수']"
   ]
  },
  {
   "cell_type": "markdown",
   "metadata": {
    "id": "YLyCNxg45qyN"
   },
   "source": [
    "### Index 객체\n"
   ]
  },
  {
   "cell_type": "code",
   "execution_count": 24,
   "metadata": {
    "colab": {
     "base_uri": "https://localhost:8080/"
    },
    "id": "sveOOZiM4dDu",
    "outputId": "b063bdab-0da6-4552-bc29-9e808ec6a7fa"
   },
   "outputs": [
    {
     "data": {
      "text/plain": [
       "Int64Index([2, 4, 6, 8, 10], dtype='int64')"
      ]
     },
     "execution_count": 24,
     "metadata": {},
     "output_type": "execute_result"
    }
   ],
   "source": [
    "idx = pd.Index([2,4,6,8,10])\n",
    "idx"
   ]
  },
  {
   "cell_type": "code",
   "execution_count": 25,
   "metadata": {
    "colab": {
     "base_uri": "https://localhost:8080/"
    },
    "id": "wq3KUCST5yDP",
    "outputId": "cc1bde5f-6bc2-4ba2-901b-20485b71b0fc"
   },
   "outputs": [
    {
     "data": {
      "text/plain": [
       "4"
      ]
     },
     "execution_count": 25,
     "metadata": {},
     "output_type": "execute_result"
    }
   ],
   "source": [
    "idx[1]"
   ]
  },
  {
   "cell_type": "code",
   "execution_count": 26,
   "metadata": {
    "colab": {
     "base_uri": "https://localhost:8080/"
    },
    "id": "4MZR1LaP500X",
    "outputId": "4a48949a-2718-472b-d680-de950c51e667"
   },
   "outputs": [
    {
     "data": {
      "text/plain": [
       "Int64Index([4], dtype='int64')"
      ]
     },
     "execution_count": 26,
     "metadata": {},
     "output_type": "execute_result"
    }
   ],
   "source": [
    "idx[1:2:2]"
   ]
  },
  {
   "cell_type": "code",
   "execution_count": 27,
   "metadata": {
    "colab": {
     "base_uri": "https://localhost:8080/"
    },
    "id": "NcGmnV_H52uy",
    "outputId": "3c1efe20-a9e5-473b-e9eb-84168b65c038"
   },
   "outputs": [
    {
     "data": {
      "text/plain": [
       "Int64Index([10], dtype='int64')"
      ]
     },
     "execution_count": 27,
     "metadata": {},
     "output_type": "execute_result"
    }
   ],
   "source": [
    "idx[-1::]"
   ]
  },
  {
   "cell_type": "code",
   "execution_count": 28,
   "metadata": {
    "colab": {
     "base_uri": "https://localhost:8080/"
    },
    "id": "0mtbfeYY54Jk",
    "outputId": "1e688fa6-a857-46ef-e1e6-e2bea55dc8c3"
   },
   "outputs": [
    {
     "data": {
      "text/plain": [
       "Int64Index([2, 6, 10], dtype='int64')"
      ]
     },
     "execution_count": 28,
     "metadata": {},
     "output_type": "execute_result"
    }
   ],
   "source": [
    "idx[::2]"
   ]
  },
  {
   "cell_type": "code",
   "execution_count": 29,
   "metadata": {
    "colab": {
     "base_uri": "https://localhost:8080/"
    },
    "id": "CB_BwH3G57c9",
    "outputId": "89182ac2-7a9c-4561-bb30-74ac92be0088"
   },
   "outputs": [
    {
     "name": "stdout",
     "output_type": "stream",
     "text": [
      "Int64Index([2, 4, 6, 8, 10], dtype='int64')\n",
      "5\n",
      "1\n",
      "(5,)\n",
      "int64\n"
     ]
    }
   ],
   "source": [
    "print(idx)\n",
    "print(idx.size)\n",
    "print(idx.ndim)\n",
    "print(idx.shape)\n",
    "print(idx.dtype)"
   ]
  },
  {
   "cell_type": "markdown",
   "metadata": {
    "id": "M2xlGdrok22S"
   },
   "source": [
    "#### Index 연산"
   ]
  },
  {
   "cell_type": "code",
   "execution_count": 30,
   "metadata": {
    "colab": {
     "base_uri": "https://localhost:8080/"
    },
    "id": "e2yx1bpE6B3_",
    "outputId": "8fbb3c14-fbf6-4b14-eddf-8b0953da60ed"
   },
   "outputs": [
    {
     "name": "stdout",
     "output_type": "stream",
     "text": [
      "Int64Index([1, 2, 4, 6, 8, 2, 4, 5, 6, 7], dtype='int64')\n",
      "Int64Index([1, 8], dtype='int64')\n",
      "Int64Index([-1, -2, -1, 0, 1], dtype='int64')\n",
      "Int64Index([2, 4, 6], dtype='int64')\n",
      "Int64Index([2, 4, 6], dtype='int64')\n",
      "Int64Index([1, 2, 4, 5, 6, 7, 8], dtype='int64')\n",
      "Int64Index([1, 2, 4, 5, 6, 7, 8], dtype='int64')\n",
      "Int64Index([2, 4, 6, 8], dtype='int64')\n",
      "Int64Index([2, 4, 6, 8], dtype='int64')\n",
      "Int64Index([1, 5, 7, 8], dtype='int64')\n"
     ]
    },
    {
     "name": "stderr",
     "output_type": "stream",
     "text": [
      "<ipython-input-30-47eb462ab82c>:7: FutureWarning: Index.__and__ operating as a set operation is deprecated, in the future this will be a logical operation matching Series.__and__.  Use index.intersection(other) instead\n",
      "  print(idx1 & idx2)\n",
      "<ipython-input-30-47eb462ab82c>:9: FutureWarning: Index.__or__ operating as a set operation is deprecated, in the future this will be a logical operation matching Series.__or__.  Use index.union(other) instead\n",
      "  print(idx1 | idx2)\n",
      "<ipython-input-30-47eb462ab82c>:12: FutureWarning: Index.__xor__ operating as a set operation is deprecated, in the future this will be a logical operation matching Series.__xor__.  Use index.symmetric_difference(other) instead\n",
      "  print(idx1 ^ idx2)\n"
     ]
    }
   ],
   "source": [
    "idx1 = pd.Index([1,2,4,6,8])\n",
    "idx2 = pd.Index([2,4,5,6,7])\n",
    "print(idx1.append(idx2))\n",
    "print(idx1.difference(idx2))\n",
    "print(idx1 - idx2)\n",
    "print(idx1.intersection(idx2))\n",
    "print(idx1 & idx2)\n",
    "print(idx1.union(idx2))\n",
    "print(idx1 | idx2)\n",
    "print(idx1.delete(0))\n",
    "print(idx1.drop(1))\n",
    "print(idx1 ^ idx2)\n"
   ]
  },
  {
   "cell_type": "markdown",
   "metadata": {
    "id": "kd8eQIoYHoaS"
   },
   "source": [
    "\n",
    "\n",
    "---\n",
    "\n"
   ]
  },
  {
   "cell_type": "markdown",
   "metadata": {
    "id": "KZLKu-HM6yEm"
   },
   "source": [
    "## 인덱싱(Indexing)"
   ]
  },
  {
   "cell_type": "code",
   "execution_count": 31,
   "metadata": {
    "colab": {
     "base_uri": "https://localhost:8080/"
    },
    "id": "2kLDyvXi60-A",
    "outputId": "9fabf9ac-0912-4b38-f65a-e85fcee97eac"
   },
   "outputs": [
    {
     "data": {
      "text/plain": [
       "a    0.00\n",
       "b    0.25\n",
       "c    0.50\n",
       "d    0.75\n",
       "e    1.00\n",
       "dtype: float64"
      ]
     },
     "execution_count": 31,
     "metadata": {},
     "output_type": "execute_result"
    }
   ],
   "source": [
    "s = pd.Series([0,0.25,0.5,0.75,1.0],\n",
    "              index=['a','b','c','d','e'])\n",
    "s"
   ]
  },
  {
   "cell_type": "code",
   "execution_count": 32,
   "metadata": {
    "colab": {
     "base_uri": "https://localhost:8080/"
    },
    "id": "5oXPBg2kHqMH",
    "outputId": "15435481-38fb-4d35-83f0-aa1bb4c388ee"
   },
   "outputs": [
    {
     "data": {
      "text/plain": [
       "0.25"
      ]
     },
     "execution_count": 32,
     "metadata": {},
     "output_type": "execute_result"
    }
   ],
   "source": [
    "s['b']"
   ]
  },
  {
   "cell_type": "code",
   "execution_count": 33,
   "metadata": {
    "colab": {
     "base_uri": "https://localhost:8080/"
    },
    "id": "msZ7pmajIgiR",
    "outputId": "6b3988fb-9b14-4fca-c4bb-744b18636fc5"
   },
   "outputs": [
    {
     "data": {
      "text/plain": [
       "True"
      ]
     },
     "execution_count": 33,
     "metadata": {},
     "output_type": "execute_result"
    }
   ],
   "source": [
    "'b' in s"
   ]
  },
  {
   "cell_type": "code",
   "execution_count": 34,
   "metadata": {
    "colab": {
     "base_uri": "https://localhost:8080/"
    },
    "id": "lyi7cVYbIjPF",
    "outputId": "773c7dcc-9e30-40c2-afad-103db3ed6e36"
   },
   "outputs": [
    {
     "data": {
      "text/plain": [
       "Index(['a', 'b', 'c', 'd', 'e'], dtype='object')"
      ]
     },
     "execution_count": 34,
     "metadata": {},
     "output_type": "execute_result"
    }
   ],
   "source": [
    "s.keys()"
   ]
  },
  {
   "cell_type": "code",
   "execution_count": 35,
   "metadata": {
    "colab": {
     "base_uri": "https://localhost:8080/"
    },
    "id": "AQc6QXxBIj9m",
    "outputId": "4f2f4242-f713-4f97-c955-86fd4d7897e2"
   },
   "outputs": [
    {
     "data": {
      "text/plain": [
       "[('a', 0.0), ('b', 0.25), ('c', 0.5), ('d', 0.75), ('e', 1.0)]"
      ]
     },
     "execution_count": 35,
     "metadata": {},
     "output_type": "execute_result"
    }
   ],
   "source": [
    "list(s.items())"
   ]
  },
  {
   "cell_type": "code",
   "execution_count": 36,
   "metadata": {
    "colab": {
     "base_uri": "https://localhost:8080/"
    },
    "id": "ZwWy7NqlImoZ",
    "outputId": "6d4ede66-4ca0-4ec0-84c2-4ed129ab6135"
   },
   "outputs": [
    {
     "data": {
      "text/plain": [
       "a    0.00\n",
       "b    0.25\n",
       "c    0.50\n",
       "d    0.75\n",
       "e    1.00\n",
       "f    1.25\n",
       "dtype: float64"
      ]
     },
     "execution_count": 36,
     "metadata": {},
     "output_type": "execute_result"
    }
   ],
   "source": [
    "s['f'] = 1.25\n",
    "s"
   ]
  },
  {
   "cell_type": "code",
   "execution_count": 37,
   "metadata": {
    "colab": {
     "base_uri": "https://localhost:8080/"
    },
    "id": "r_q7ScSMIu4C",
    "outputId": "86170973-b671-420a-e414-0e7904d0c0ae"
   },
   "outputs": [
    {
     "data": {
      "text/plain": [
       "a    0.00\n",
       "b    0.25\n",
       "c    0.50\n",
       "d    0.75\n",
       "dtype: float64"
      ]
     },
     "execution_count": 37,
     "metadata": {},
     "output_type": "execute_result"
    }
   ],
   "source": [
    "s['a':'d']"
   ]
  },
  {
   "cell_type": "code",
   "execution_count": 38,
   "metadata": {
    "colab": {
     "base_uri": "https://localhost:8080/"
    },
    "id": "1EPBjuijIzhX",
    "outputId": "fddc4877-4a3d-4538-e477-a1c69f217234"
   },
   "outputs": [
    {
     "data": {
      "text/plain": [
       "a    0.00\n",
       "b    0.25\n",
       "c    0.50\n",
       "d    0.75\n",
       "dtype: float64"
      ]
     },
     "execution_count": 38,
     "metadata": {},
     "output_type": "execute_result"
    }
   ],
   "source": [
    "s[0:4]"
   ]
  },
  {
   "cell_type": "code",
   "execution_count": 39,
   "metadata": {
    "colab": {
     "base_uri": "https://localhost:8080/"
    },
    "id": "3O4Cm0fXI1sZ",
    "outputId": "8d39a1bc-4f60-48f9-949c-521fe975049c"
   },
   "outputs": [
    {
     "data": {
      "text/plain": [
       "c    0.50\n",
       "d    0.75\n",
       "dtype: float64"
      ]
     },
     "execution_count": 39,
     "metadata": {},
     "output_type": "execute_result"
    }
   ],
   "source": [
    "s[(s>0.4) & (s < 0.8)]"
   ]
  },
  {
   "cell_type": "code",
   "execution_count": 40,
   "metadata": {
    "colab": {
     "base_uri": "https://localhost:8080/"
    },
    "id": "i9DDqXO0I9wo",
    "outputId": "9e096276-9675-4670-9ee4-017a699212bb"
   },
   "outputs": [
    {
     "data": {
      "text/plain": [
       "a    0.0\n",
       "c    0.5\n",
       "e    1.0\n",
       "dtype: float64"
      ]
     },
     "execution_count": 40,
     "metadata": {},
     "output_type": "execute_result"
    }
   ],
   "source": [
    "s[['a','c','e']]"
   ]
  },
  {
   "cell_type": "markdown",
   "metadata": {
    "id": "NoRP6_bPrViW"
   },
   "source": [
    "### Series 인덱싱"
   ]
  },
  {
   "cell_type": "code",
   "execution_count": 41,
   "metadata": {
    "id": "lf8mRyNeI_b_"
   },
   "outputs": [
    {
     "data": {
      "text/plain": [
       "1    a\n",
       "3    b\n",
       "5    c\n",
       "7    d\n",
       "9    e\n",
       "dtype: object"
      ]
     },
     "execution_count": 41,
     "metadata": {},
     "output_type": "execute_result"
    }
   ],
   "source": [
    "s = pd.Series(['a','b','c','d','e'],\n",
    "             index=[1,3,5,7,9])\n",
    "s"
   ]
  },
  {
   "cell_type": "code",
   "execution_count": 42,
   "metadata": {
    "id": "5H1JoKlKLjsw"
   },
   "outputs": [
    {
     "data": {
      "text/plain": [
       "'a'"
      ]
     },
     "execution_count": 42,
     "metadata": {},
     "output_type": "execute_result"
    }
   ],
   "source": [
    "s[1]"
   ]
  },
  {
   "cell_type": "code",
   "execution_count": 43,
   "metadata": {
    "id": "hVSHrsMzLln2"
   },
   "outputs": [
    {
     "data": {
      "text/plain": [
       "5    c\n",
       "7    d\n",
       "dtype: object"
      ]
     },
     "execution_count": 43,
     "metadata": {},
     "output_type": "execute_result"
    }
   ],
   "source": [
    "s[2:4]"
   ]
  },
  {
   "cell_type": "code",
   "execution_count": 44,
   "metadata": {
    "id": "qtpxKX78Lmlm"
   },
   "outputs": [
    {
     "data": {
      "text/plain": [
       "'b'"
      ]
     },
     "execution_count": 44,
     "metadata": {},
     "output_type": "execute_result"
    }
   ],
   "source": [
    "s.iloc[1]"
   ]
  },
  {
   "cell_type": "code",
   "execution_count": 45,
   "metadata": {
    "id": "gy5ShWM4LqMU"
   },
   "outputs": [
    {
     "data": {
      "text/plain": [
       "5    c\n",
       "7    d\n",
       "dtype: object"
      ]
     },
     "execution_count": 45,
     "metadata": {},
     "output_type": "execute_result"
    }
   ],
   "source": [
    "s.iloc[2:4]"
   ]
  },
  {
   "cell_type": "code",
   "execution_count": 46,
   "metadata": {
    "id": "utldkXViqAfQ"
   },
   "outputs": [
    {
     "data": {
      "text/plain": [
       "0    NaN\n",
       "1      a\n",
       "2    NaN\n",
       "3      b\n",
       "4    NaN\n",
       "5      c\n",
       "6    NaN\n",
       "7      d\n",
       "8    NaN\n",
       "9      e\n",
       "dtype: object"
      ]
     },
     "execution_count": 46,
     "metadata": {},
     "output_type": "execute_result"
    }
   ],
   "source": [
    "s.reindex(range(10))"
   ]
  },
  {
   "cell_type": "code",
   "execution_count": 47,
   "metadata": {
    "id": "-4jACtEQqm2o"
   },
   "outputs": [
    {
     "data": {
      "text/plain": [
       "0    a\n",
       "1    a\n",
       "2    b\n",
       "3    b\n",
       "4    c\n",
       "5    c\n",
       "6    d\n",
       "7    d\n",
       "8    e\n",
       "9    e\n",
       "dtype: object"
      ]
     },
     "execution_count": 47,
     "metadata": {},
     "output_type": "execute_result"
    }
   ],
   "source": [
    "s.reindex(range(10), method='bfill')"
   ]
  },
  {
   "cell_type": "markdown",
   "metadata": {
    "id": "aOLEal9Hrli0"
   },
   "source": [
    "### DataFrame 인덱싱\n"
   ]
  },
  {
   "cell_type": "code",
   "execution_count": 48,
   "metadata": {
    "id": "77aifW07LsTZ"
   },
   "outputs": [
    {
     "data": {
      "text/plain": [
       "서울특별시    9723\n",
       "부산광역시    9898\n",
       "광주광역시    9999\n",
       "Name: 남자인구수, dtype: int64"
      ]
     },
     "execution_count": 48,
     "metadata": {},
     "output_type": "execute_result"
    }
   ],
   "source": [
    "korea_df['남자인구수']"
   ]
  },
  {
   "cell_type": "code",
   "execution_count": 49,
   "metadata": {
    "id": "Gqv2LvUsL_hy"
   },
   "outputs": [
    {
     "data": {
      "text/plain": [
       "서울특별시    9723\n",
       "부산광역시    9898\n",
       "광주광역시    9999\n",
       "Name: 남자인구수, dtype: int64"
      ]
     },
     "execution_count": 49,
     "metadata": {},
     "output_type": "execute_result"
    }
   ],
   "source": [
    "korea_df.남자인구수"
   ]
  },
  {
   "cell_type": "code",
   "execution_count": 50,
   "metadata": {
    "id": "ASLLVKjxOCaq"
   },
   "outputs": [
    {
     "data": {
      "text/plain": [
       "서울특별시    923\n",
       "부산광역시    898\n",
       "광주광역시    999\n",
       "Name: 여자인구수, dtype: int64"
      ]
     },
     "execution_count": 50,
     "metadata": {},
     "output_type": "execute_result"
    }
   ],
   "source": [
    "korea_df.여자인구수"
   ]
  },
  {
   "cell_type": "code",
   "execution_count": 51,
   "metadata": {
    "id": "HwAFfjLBOEp5"
   },
   "outputs": [
    {
     "data": {
      "text/plain": [
       "서울특별시    1053.412784\n",
       "부산광역시    1102.227171\n",
       "광주광역시    1000.900901\n",
       "Name: 남여비율, dtype: float64"
      ]
     },
     "execution_count": 51,
     "metadata": {},
     "output_type": "execute_result"
    }
   ],
   "source": [
    "korea_df['남여비율'] = (korea_df['남자인구수'] * 100 / korea_df['여자인구수'])\n",
    "korea_df.남여비율"
   ]
  },
  {
   "cell_type": "code",
   "execution_count": 52,
   "metadata": {
    "id": "pECRBE1iOJqe"
   },
   "outputs": [
    {
     "data": {
      "text/plain": [
       "array([[9723.        , 9723.        ,  923.        , 1053.4127844 ],\n",
       "       [9898.        , 9898.        ,  898.        , 1102.22717149],\n",
       "       [9999.        , 9999.        ,  999.        , 1000.9009009 ]])"
      ]
     },
     "execution_count": 52,
     "metadata": {},
     "output_type": "execute_result"
    }
   ],
   "source": [
    "korea_df.values"
   ]
  },
  {
   "cell_type": "code",
   "execution_count": 53,
   "metadata": {
    "id": "MYpzQMFiOrGC"
   },
   "outputs": [
    {
     "data": {
      "text/html": [
       "<div>\n",
       "<style scoped>\n",
       "    .dataframe tbody tr th:only-of-type {\n",
       "        vertical-align: middle;\n",
       "    }\n",
       "\n",
       "    .dataframe tbody tr th {\n",
       "        vertical-align: top;\n",
       "    }\n",
       "\n",
       "    .dataframe thead th {\n",
       "        text-align: right;\n",
       "    }\n",
       "</style>\n",
       "<table border=\"1\" class=\"dataframe\">\n",
       "  <thead>\n",
       "    <tr style=\"text-align: right;\">\n",
       "      <th></th>\n",
       "      <th>서울특별시</th>\n",
       "      <th>부산광역시</th>\n",
       "      <th>광주광역시</th>\n",
       "    </tr>\n",
       "  </thead>\n",
       "  <tbody>\n",
       "    <tr>\n",
       "      <th>인구수</th>\n",
       "      <td>9723.000000</td>\n",
       "      <td>9898.000000</td>\n",
       "      <td>9999.000000</td>\n",
       "    </tr>\n",
       "    <tr>\n",
       "      <th>남자인구수</th>\n",
       "      <td>9723.000000</td>\n",
       "      <td>9898.000000</td>\n",
       "      <td>9999.000000</td>\n",
       "    </tr>\n",
       "    <tr>\n",
       "      <th>여자인구수</th>\n",
       "      <td>923.000000</td>\n",
       "      <td>898.000000</td>\n",
       "      <td>999.000000</td>\n",
       "    </tr>\n",
       "    <tr>\n",
       "      <th>남여비율</th>\n",
       "      <td>1053.412784</td>\n",
       "      <td>1102.227171</td>\n",
       "      <td>1000.900901</td>\n",
       "    </tr>\n",
       "  </tbody>\n",
       "</table>\n",
       "</div>"
      ],
      "text/plain": [
       "             서울특별시        부산광역시        광주광역시\n",
       "인구수    9723.000000  9898.000000  9999.000000\n",
       "남자인구수  9723.000000  9898.000000  9999.000000\n",
       "여자인구수   923.000000   898.000000   999.000000\n",
       "남여비율   1053.412784  1102.227171  1000.900901"
      ]
     },
     "execution_count": 53,
     "metadata": {},
     "output_type": "execute_result"
    }
   ],
   "source": [
    "korea_df.T"
   ]
  },
  {
   "cell_type": "code",
   "execution_count": 54,
   "metadata": {
    "id": "wVpY62uBOs9E"
   },
   "outputs": [
    {
     "data": {
      "text/plain": [
       "array([9723.       , 9723.       ,  923.       , 1053.4127844])"
      ]
     },
     "execution_count": 54,
     "metadata": {},
     "output_type": "execute_result"
    }
   ],
   "source": [
    "korea_df.values[0]"
   ]
  },
  {
   "cell_type": "code",
   "execution_count": 55,
   "metadata": {
    "id": "RRce4iuBO30i"
   },
   "outputs": [
    {
     "data": {
      "text/plain": [
       "서울특별시    9723\n",
       "부산광역시    9898\n",
       "광주광역시    9999\n",
       "Name: 인구수, dtype: int64"
      ]
     },
     "execution_count": 55,
     "metadata": {},
     "output_type": "execute_result"
    }
   ],
   "source": [
    "korea_df['인구수']"
   ]
  },
  {
   "cell_type": "code",
   "execution_count": 56,
   "metadata": {
    "id": "4kgf30KQO_s3"
   },
   "outputs": [
    {
     "data": {
      "text/html": [
       "<div>\n",
       "<style scoped>\n",
       "    .dataframe tbody tr th:only-of-type {\n",
       "        vertical-align: middle;\n",
       "    }\n",
       "\n",
       "    .dataframe tbody tr th {\n",
       "        vertical-align: top;\n",
       "    }\n",
       "\n",
       "    .dataframe thead th {\n",
       "        text-align: right;\n",
       "    }\n",
       "</style>\n",
       "<table border=\"1\" class=\"dataframe\">\n",
       "  <thead>\n",
       "    <tr style=\"text-align: right;\">\n",
       "      <th></th>\n",
       "      <th>인구수</th>\n",
       "      <th>남자인구수</th>\n",
       "    </tr>\n",
       "  </thead>\n",
       "  <tbody>\n",
       "    <tr>\n",
       "      <th>서울특별시</th>\n",
       "      <td>9723</td>\n",
       "      <td>9723</td>\n",
       "    </tr>\n",
       "    <tr>\n",
       "      <th>부산광역시</th>\n",
       "      <td>9898</td>\n",
       "      <td>9898</td>\n",
       "    </tr>\n",
       "    <tr>\n",
       "      <th>광주광역시</th>\n",
       "      <td>9999</td>\n",
       "      <td>9999</td>\n",
       "    </tr>\n",
       "  </tbody>\n",
       "</table>\n",
       "</div>"
      ],
      "text/plain": [
       "        인구수  남자인구수\n",
       "서울특별시  9723   9723\n",
       "부산광역시  9898   9898\n",
       "광주광역시  9999   9999"
      ]
     },
     "execution_count": 56,
     "metadata": {},
     "output_type": "execute_result"
    }
   ],
   "source": [
    "korea_df.loc[:'광주광역시',:'남자인구수']"
   ]
  },
  {
   "cell_type": "code",
   "execution_count": 57,
   "metadata": {
    "id": "QmM75FOUPBgH"
   },
   "outputs": [
    {
     "data": {
      "text/html": [
       "<div>\n",
       "<style scoped>\n",
       "    .dataframe tbody tr th:only-of-type {\n",
       "        vertical-align: middle;\n",
       "    }\n",
       "\n",
       "    .dataframe tbody tr th {\n",
       "        vertical-align: top;\n",
       "    }\n",
       "\n",
       "    .dataframe thead th {\n",
       "        text-align: right;\n",
       "    }\n",
       "</style>\n",
       "<table border=\"1\" class=\"dataframe\">\n",
       "  <thead>\n",
       "    <tr style=\"text-align: right;\">\n",
       "      <th></th>\n",
       "      <th>인구수</th>\n",
       "      <th>남자인구수</th>\n",
       "      <th>여자인구수</th>\n",
       "      <th>남여비율</th>\n",
       "    </tr>\n",
       "  </thead>\n",
       "  <tbody>\n",
       "    <tr>\n",
       "      <th>서울특별시</th>\n",
       "      <td>9723</td>\n",
       "      <td>9723</td>\n",
       "      <td>923</td>\n",
       "      <td>1053.412784</td>\n",
       "    </tr>\n",
       "    <tr>\n",
       "      <th>부산광역시</th>\n",
       "      <td>9898</td>\n",
       "      <td>9898</td>\n",
       "      <td>898</td>\n",
       "      <td>1102.227171</td>\n",
       "    </tr>\n",
       "    <tr>\n",
       "      <th>광주광역시</th>\n",
       "      <td>9999</td>\n",
       "      <td>9999</td>\n",
       "      <td>999</td>\n",
       "      <td>1000.900901</td>\n",
       "    </tr>\n",
       "  </tbody>\n",
       "</table>\n",
       "</div>"
      ],
      "text/plain": [
       "        인구수  남자인구수  여자인구수         남여비율\n",
       "서울특별시  9723   9723    923  1053.412784\n",
       "부산광역시  9898   9898    898  1102.227171\n",
       "광주광역시  9999   9999    999  1000.900901"
      ]
     },
     "execution_count": 57,
     "metadata": {},
     "output_type": "execute_result"
    }
   ],
   "source": [
    "korea_df.loc[(korea_df.여자인구수 > 100)]"
   ]
  },
  {
   "cell_type": "code",
   "execution_count": 58,
   "metadata": {
    "id": "TdhfKQSgPERt"
   },
   "outputs": [
    {
     "data": {
      "text/html": [
       "<div>\n",
       "<style scoped>\n",
       "    .dataframe tbody tr th:only-of-type {\n",
       "        vertical-align: middle;\n",
       "    }\n",
       "\n",
       "    .dataframe tbody tr th {\n",
       "        vertical-align: top;\n",
       "    }\n",
       "\n",
       "    .dataframe thead th {\n",
       "        text-align: right;\n",
       "    }\n",
       "</style>\n",
       "<table border=\"1\" class=\"dataframe\">\n",
       "  <thead>\n",
       "    <tr style=\"text-align: right;\">\n",
       "      <th></th>\n",
       "      <th>인구수</th>\n",
       "      <th>남자인구수</th>\n",
       "      <th>여자인구수</th>\n",
       "      <th>남여비율</th>\n",
       "    </tr>\n",
       "  </thead>\n",
       "  <tbody>\n",
       "    <tr>\n",
       "      <th>서울특별시</th>\n",
       "      <td>9723</td>\n",
       "      <td>9723</td>\n",
       "      <td>923</td>\n",
       "      <td>1053.412784</td>\n",
       "    </tr>\n",
       "    <tr>\n",
       "      <th>부산광역시</th>\n",
       "      <td>9898</td>\n",
       "      <td>9898</td>\n",
       "      <td>898</td>\n",
       "      <td>1102.227171</td>\n",
       "    </tr>\n",
       "    <tr>\n",
       "      <th>광주광역시</th>\n",
       "      <td>9999</td>\n",
       "      <td>9999</td>\n",
       "      <td>999</td>\n",
       "      <td>1000.900901</td>\n",
       "    </tr>\n",
       "  </tbody>\n",
       "</table>\n",
       "</div>"
      ],
      "text/plain": [
       "        인구수  남자인구수  여자인구수         남여비율\n",
       "서울특별시  9723   9723    923  1053.412784\n",
       "부산광역시  9898   9898    898  1102.227171\n",
       "광주광역시  9999   9999    999  1000.900901"
      ]
     },
     "execution_count": 58,
     "metadata": {},
     "output_type": "execute_result"
    }
   ],
   "source": [
    "korea_df.loc[(korea_df.인구수 < 20000)]"
   ]
  },
  {
   "cell_type": "code",
   "execution_count": 59,
   "metadata": {
    "id": "UKbn4mbdPGqb"
   },
   "outputs": [
    {
     "data": {
      "text/html": [
       "<div>\n",
       "<style scoped>\n",
       "    .dataframe tbody tr th:only-of-type {\n",
       "        vertical-align: middle;\n",
       "    }\n",
       "\n",
       "    .dataframe tbody tr th {\n",
       "        vertical-align: top;\n",
       "    }\n",
       "\n",
       "    .dataframe thead th {\n",
       "        text-align: right;\n",
       "    }\n",
       "</style>\n",
       "<table border=\"1\" class=\"dataframe\">\n",
       "  <thead>\n",
       "    <tr style=\"text-align: right;\">\n",
       "      <th></th>\n",
       "      <th>인구수</th>\n",
       "      <th>남자인구수</th>\n",
       "      <th>여자인구수</th>\n",
       "      <th>남여비율</th>\n",
       "    </tr>\n",
       "  </thead>\n",
       "  <tbody>\n",
       "    <tr>\n",
       "      <th>서울특별시</th>\n",
       "      <td>9723</td>\n",
       "      <td>9723</td>\n",
       "      <td>923</td>\n",
       "      <td>1053.412784</td>\n",
       "    </tr>\n",
       "    <tr>\n",
       "      <th>부산광역시</th>\n",
       "      <td>9898</td>\n",
       "      <td>9898</td>\n",
       "      <td>898</td>\n",
       "      <td>1102.227171</td>\n",
       "    </tr>\n",
       "  </tbody>\n",
       "</table>\n",
       "</div>"
      ],
      "text/plain": [
       "        인구수  남자인구수  여자인구수         남여비율\n",
       "서울특별시  9723   9723    923  1053.412784\n",
       "부산광역시  9898   9898    898  1102.227171"
      ]
     },
     "execution_count": 59,
     "metadata": {},
     "output_type": "execute_result"
    }
   ],
   "source": [
    "korea_df.loc[(korea_df.인구수 < 9900)]"
   ]
  },
  {
   "cell_type": "code",
   "execution_count": 60,
   "metadata": {
    "id": "QMK8qC5YQRUc"
   },
   "outputs": [
    {
     "data": {
      "text/html": [
       "<div>\n",
       "<style scoped>\n",
       "    .dataframe tbody tr th:only-of-type {\n",
       "        vertical-align: middle;\n",
       "    }\n",
       "\n",
       "    .dataframe tbody tr th {\n",
       "        vertical-align: top;\n",
       "    }\n",
       "\n",
       "    .dataframe thead th {\n",
       "        text-align: right;\n",
       "    }\n",
       "</style>\n",
       "<table border=\"1\" class=\"dataframe\">\n",
       "  <thead>\n",
       "    <tr style=\"text-align: right;\">\n",
       "      <th></th>\n",
       "      <th>인구수</th>\n",
       "      <th>남자인구수</th>\n",
       "      <th>여자인구수</th>\n",
       "      <th>남여비율</th>\n",
       "    </tr>\n",
       "  </thead>\n",
       "  <tbody>\n",
       "    <tr>\n",
       "      <th>서울특별시</th>\n",
       "      <td>9723</td>\n",
       "      <td>9723</td>\n",
       "      <td>923</td>\n",
       "      <td>1053.412784</td>\n",
       "    </tr>\n",
       "    <tr>\n",
       "      <th>부산광역시</th>\n",
       "      <td>9898</td>\n",
       "      <td>9898</td>\n",
       "      <td>898</td>\n",
       "      <td>1102.227171</td>\n",
       "    </tr>\n",
       "    <tr>\n",
       "      <th>광주광역시</th>\n",
       "      <td>9999</td>\n",
       "      <td>9999</td>\n",
       "      <td>999</td>\n",
       "      <td>1000.900901</td>\n",
       "    </tr>\n",
       "  </tbody>\n",
       "</table>\n",
       "</div>"
      ],
      "text/plain": [
       "        인구수  남자인구수  여자인구수         남여비율\n",
       "서울특별시  9723   9723    923  1053.412784\n",
       "부산광역시  9898   9898    898  1102.227171\n",
       "광주광역시  9999   9999    999  1000.900901"
      ]
     },
     "execution_count": 60,
     "metadata": {},
     "output_type": "execute_result"
    }
   ],
   "source": [
    "korea_df.loc[korea_df.남여비율 > 100]"
   ]
  },
  {
   "cell_type": "code",
   "execution_count": 61,
   "metadata": {
    "id": "sKV0f9f5Yfxz"
   },
   "outputs": [
    {
     "data": {
      "text/html": [
       "<div>\n",
       "<style scoped>\n",
       "    .dataframe tbody tr th:only-of-type {\n",
       "        vertical-align: middle;\n",
       "    }\n",
       "\n",
       "    .dataframe tbody tr th {\n",
       "        vertical-align: top;\n",
       "    }\n",
       "\n",
       "    .dataframe thead th {\n",
       "        text-align: right;\n",
       "    }\n",
       "</style>\n",
       "<table border=\"1\" class=\"dataframe\">\n",
       "  <thead>\n",
       "    <tr style=\"text-align: right;\">\n",
       "      <th></th>\n",
       "      <th>인구수</th>\n",
       "      <th>남자인구수</th>\n",
       "    </tr>\n",
       "  </thead>\n",
       "  <tbody>\n",
       "    <tr>\n",
       "      <th>서울특별시</th>\n",
       "      <td>9723</td>\n",
       "      <td>9723</td>\n",
       "    </tr>\n",
       "    <tr>\n",
       "      <th>부산광역시</th>\n",
       "      <td>9898</td>\n",
       "      <td>9898</td>\n",
       "    </tr>\n",
       "    <tr>\n",
       "      <th>광주광역시</th>\n",
       "      <td>9999</td>\n",
       "      <td>9999</td>\n",
       "    </tr>\n",
       "  </tbody>\n",
       "</table>\n",
       "</div>"
      ],
      "text/plain": [
       "        인구수  남자인구수\n",
       "서울특별시  9723   9723\n",
       "부산광역시  9898   9898\n",
       "광주광역시  9999   9999"
      ]
     },
     "execution_count": 61,
     "metadata": {},
     "output_type": "execute_result"
    }
   ],
   "source": [
    "korea_df.iloc[:3,:2]"
   ]
  },
  {
   "cell_type": "markdown",
   "metadata": {
    "id": "KJfzYxtksAMb"
   },
   "source": [
    "### 다중 인덱싱(Multi Indexing)\n",
    "\n",
    "* 1차원의 Series와 2차원의 DataFrame 객체를 넘어 3차원, 4차원 이상의 고차원 데이터 처리\n",
    "* 단일 인덱스 내에 여러 인덱스를 포함하는 다중 인덱싱"
   ]
  },
  {
   "cell_type": "markdown",
   "metadata": {
    "id": "K2c8rSnJ0NZx"
   },
   "source": [
    "#### 다중 인덱스 Series"
   ]
  },
  {
   "cell_type": "code",
   "execution_count": 62,
   "metadata": {
    "id": "kEA1qtgWtJcG"
   },
   "outputs": [
    {
     "data": {
      "text/plain": [
       "[('서울특별시', 2010),\n",
       " ('서울특별시', 2020),\n",
       " ('부산광역시', 2010),\n",
       " ('부산광역시', 2020),\n",
       " ('인천광역시', 2010),\n",
       " ('인천광역시', 2020),\n",
       " ('대구광역시', 2010),\n",
       " ('대구광역시', 2020),\n",
       " ('대전광역시', 2010),\n",
       " ('대전광역시', 2020),\n",
       " ('광주광역시', 2010),\n",
       " ('광주광역시', 2020)]"
      ]
     },
     "execution_count": 62,
     "metadata": {},
     "output_type": "execute_result"
    }
   ],
   "source": [
    "idx_tuples = [('서울특별시', 2010), ('서울특별시', 2020),\n",
    "             ('부산광역시', 2010), ('부산광역시', 2020),\n",
    "             ('인천광역시', 2010), ('인천광역시', 2020),\n",
    "             ('대구광역시', 2010), ('대구광역시', 2020),\n",
    "             ('대전광역시', 2010), ('대전광역시', 2020),\n",
    "             ('광주광역시', 2010), ('광주광역시', 2020)]\n",
    "idx_tuples"
   ]
  },
  {
   "cell_type": "code",
   "execution_count": 63,
   "metadata": {
    "id": "3nO23L67vKpP"
   },
   "outputs": [
    {
     "data": {
      "text/plain": [
       "(서울특별시, 2010)     100000\n",
       "(서울특별시, 2020)     200000\n",
       "(부산광역시, 2010)     200000\n",
       "(부산광역시, 2020)     300000\n",
       "(인천광역시, 2010)     400000\n",
       "(인천광역시, 2020)     403030\n",
       "(대구광역시, 2010)    2020202\n",
       "(대구광역시, 2020)    2010207\n",
       "(대전광역시, 2010)    2010101\n",
       "(대전광역시, 2020)    4212334\n",
       "(광주광역시, 2010)    1010202\n",
       "(광주광역시, 2020)    9998777\n",
       "dtype: int64"
      ]
     },
     "execution_count": 63,
     "metadata": {},
     "output_type": "execute_result"
    }
   ],
   "source": [
    "pop_tuples = [100000,200000,\n",
    "             200000,300000,\n",
    "             400000,403030,\n",
    "             2020202,2010207,\n",
    "             2010101,4212334,\n",
    "             1010202,9998777]\n",
    "population = pd.Series(pop_tuples, index=idx_tuples)\n",
    "population"
   ]
  },
  {
   "cell_type": "code",
   "execution_count": 64,
   "metadata": {
    "id": "FWw04oTC36Gy"
   },
   "outputs": [
    {
     "data": {
      "text/plain": [
       "MultiIndex([('서울특별시', 2010),\n",
       "            ('서울특별시', 2020),\n",
       "            ('부산광역시', 2010),\n",
       "            ('부산광역시', 2020),\n",
       "            ('인천광역시', 2010),\n",
       "            ('인천광역시', 2020),\n",
       "            ('대구광역시', 2010),\n",
       "            ('대구광역시', 2020),\n",
       "            ('대전광역시', 2010),\n",
       "            ('대전광역시', 2020),\n",
       "            ('광주광역시', 2010),\n",
       "            ('광주광역시', 2020)],\n",
       "           )"
      ]
     },
     "execution_count": 64,
     "metadata": {},
     "output_type": "execute_result"
    }
   ],
   "source": [
    "midx = pd.MultiIndex.from_tuples(idx_tuples)\n",
    "midx"
   ]
  },
  {
   "cell_type": "code",
   "execution_count": 65,
   "metadata": {
    "id": "1cOc-3Da1kGZ"
   },
   "outputs": [
    {
     "data": {
      "text/plain": [
       "서울특별시  2010     100000\n",
       "       2020     200000\n",
       "부산광역시  2010     200000\n",
       "       2020     300000\n",
       "인천광역시  2010     400000\n",
       "       2020     403030\n",
       "대구광역시  2010    2020202\n",
       "       2020    2010207\n",
       "대전광역시  2010    2010101\n",
       "       2020    4212334\n",
       "광주광역시  2010    1010202\n",
       "       2020    9998777\n",
       "dtype: int64"
      ]
     },
     "execution_count": 65,
     "metadata": {},
     "output_type": "execute_result"
    }
   ],
   "source": [
    "population = population.reindex(midx)\n",
    "population"
   ]
  },
  {
   "cell_type": "code",
   "execution_count": 66,
   "metadata": {
    "id": "q_dEok8s5yLx"
   },
   "outputs": [
    {
     "data": {
      "text/plain": [
       "서울특별시     100000\n",
       "부산광역시     200000\n",
       "인천광역시     400000\n",
       "대구광역시    2020202\n",
       "대전광역시    2010101\n",
       "광주광역시    1010202\n",
       "dtype: int64"
      ]
     },
     "execution_count": 66,
     "metadata": {},
     "output_type": "execute_result"
    }
   ],
   "source": [
    "population[:,2010]"
   ]
  },
  {
   "cell_type": "code",
   "execution_count": 67,
   "metadata": {
    "id": "NmhgBRyI5-W0"
   },
   "outputs": [
    {
     "data": {
      "text/plain": [
       "2010    2010101\n",
       "2020    4212334\n",
       "dtype: int64"
      ]
     },
     "execution_count": 67,
     "metadata": {},
     "output_type": "execute_result"
    }
   ],
   "source": [
    "population['대전광역시',:]"
   ]
  },
  {
   "cell_type": "code",
   "execution_count": 68,
   "metadata": {
    "id": "-t0tJ1mh6hkn"
   },
   "outputs": [
    {
     "data": {
      "text/html": [
       "<div>\n",
       "<style scoped>\n",
       "    .dataframe tbody tr th:only-of-type {\n",
       "        vertical-align: middle;\n",
       "    }\n",
       "\n",
       "    .dataframe tbody tr th {\n",
       "        vertical-align: top;\n",
       "    }\n",
       "\n",
       "    .dataframe thead th {\n",
       "        text-align: right;\n",
       "    }\n",
       "</style>\n",
       "<table border=\"1\" class=\"dataframe\">\n",
       "  <thead>\n",
       "    <tr style=\"text-align: right;\">\n",
       "      <th></th>\n",
       "      <th>2010</th>\n",
       "      <th>2020</th>\n",
       "    </tr>\n",
       "  </thead>\n",
       "  <tbody>\n",
       "    <tr>\n",
       "      <th>광주광역시</th>\n",
       "      <td>1010202</td>\n",
       "      <td>9998777</td>\n",
       "    </tr>\n",
       "    <tr>\n",
       "      <th>대구광역시</th>\n",
       "      <td>2020202</td>\n",
       "      <td>2010207</td>\n",
       "    </tr>\n",
       "    <tr>\n",
       "      <th>대전광역시</th>\n",
       "      <td>2010101</td>\n",
       "      <td>4212334</td>\n",
       "    </tr>\n",
       "    <tr>\n",
       "      <th>부산광역시</th>\n",
       "      <td>200000</td>\n",
       "      <td>300000</td>\n",
       "    </tr>\n",
       "    <tr>\n",
       "      <th>서울특별시</th>\n",
       "      <td>100000</td>\n",
       "      <td>200000</td>\n",
       "    </tr>\n",
       "    <tr>\n",
       "      <th>인천광역시</th>\n",
       "      <td>400000</td>\n",
       "      <td>403030</td>\n",
       "    </tr>\n",
       "  </tbody>\n",
       "</table>\n",
       "</div>"
      ],
      "text/plain": [
       "          2010     2020\n",
       "광주광역시  1010202  9998777\n",
       "대구광역시  2020202  2010207\n",
       "대전광역시  2010101  4212334\n",
       "부산광역시   200000   300000\n",
       "서울특별시   100000   200000\n",
       "인천광역시   400000   403030"
      ]
     },
     "execution_count": 68,
     "metadata": {},
     "output_type": "execute_result"
    }
   ],
   "source": [
    "korea_mdf = population.unstack() # 다중인덱싱 -> 인덱스로 변환\n",
    "korea_mdf"
   ]
  },
  {
   "cell_type": "code",
   "execution_count": 69,
   "metadata": {
    "id": "ppSy2UMT-LY-"
   },
   "outputs": [
    {
     "data": {
      "text/plain": [
       "광주광역시  2010    1010202\n",
       "       2020    9998777\n",
       "대구광역시  2010    2020202\n",
       "       2020    2010207\n",
       "대전광역시  2010    2010101\n",
       "       2020    4212334\n",
       "부산광역시  2010     200000\n",
       "       2020     300000\n",
       "서울특별시  2010     100000\n",
       "       2020     200000\n",
       "인천광역시  2010     400000\n",
       "       2020     403030\n",
       "dtype: int64"
      ]
     },
     "execution_count": 69,
     "metadata": {},
     "output_type": "execute_result"
    }
   ],
   "source": [
    "korea_mdf.stack()"
   ]
  },
  {
   "cell_type": "code",
   "execution_count": 70,
   "metadata": {
    "id": "SCDTvAeL-SDk"
   },
   "outputs": [
    {
     "data": {
      "text/plain": [
       "[10000,\n",
       " 20000,\n",
       " 20000,\n",
       " 30000,\n",
       " 40000,\n",
       " 40300,\n",
       " 202002,\n",
       " 201007,\n",
       " 201101,\n",
       " 421234,\n",
       " 100202,\n",
       " 999877]"
      ]
     },
     "execution_count": 70,
     "metadata": {},
     "output_type": "execute_result"
    }
   ],
   "source": [
    "male_tuple = [10000,20000,\n",
    "             20000,30000,\n",
    "             40000,40300,\n",
    "             202002,201007,\n",
    "             201101,421234,\n",
    "             100202,999877]\n",
    "male_tuple"
   ]
  },
  {
   "cell_type": "code",
   "execution_count": 71,
   "metadata": {
    "id": "0MYobeuhBp92"
   },
   "outputs": [
    {
     "data": {
      "text/html": [
       "<div>\n",
       "<style scoped>\n",
       "    .dataframe tbody tr th:only-of-type {\n",
       "        vertical-align: middle;\n",
       "    }\n",
       "\n",
       "    .dataframe tbody tr th {\n",
       "        vertical-align: top;\n",
       "    }\n",
       "\n",
       "    .dataframe thead th {\n",
       "        text-align: right;\n",
       "    }\n",
       "</style>\n",
       "<table border=\"1\" class=\"dataframe\">\n",
       "  <thead>\n",
       "    <tr style=\"text-align: right;\">\n",
       "      <th></th>\n",
       "      <th></th>\n",
       "      <th>총인구수</th>\n",
       "      <th>남자인구수</th>\n",
       "    </tr>\n",
       "  </thead>\n",
       "  <tbody>\n",
       "    <tr>\n",
       "      <th rowspan=\"2\" valign=\"top\">서울특별시</th>\n",
       "      <th>2010</th>\n",
       "      <td>100000</td>\n",
       "      <td>10000</td>\n",
       "    </tr>\n",
       "    <tr>\n",
       "      <th>2020</th>\n",
       "      <td>200000</td>\n",
       "      <td>20000</td>\n",
       "    </tr>\n",
       "    <tr>\n",
       "      <th rowspan=\"2\" valign=\"top\">부산광역시</th>\n",
       "      <th>2010</th>\n",
       "      <td>200000</td>\n",
       "      <td>20000</td>\n",
       "    </tr>\n",
       "    <tr>\n",
       "      <th>2020</th>\n",
       "      <td>300000</td>\n",
       "      <td>30000</td>\n",
       "    </tr>\n",
       "    <tr>\n",
       "      <th rowspan=\"2\" valign=\"top\">인천광역시</th>\n",
       "      <th>2010</th>\n",
       "      <td>400000</td>\n",
       "      <td>40000</td>\n",
       "    </tr>\n",
       "    <tr>\n",
       "      <th>2020</th>\n",
       "      <td>403030</td>\n",
       "      <td>40300</td>\n",
       "    </tr>\n",
       "    <tr>\n",
       "      <th rowspan=\"2\" valign=\"top\">대구광역시</th>\n",
       "      <th>2010</th>\n",
       "      <td>2020202</td>\n",
       "      <td>202002</td>\n",
       "    </tr>\n",
       "    <tr>\n",
       "      <th>2020</th>\n",
       "      <td>2010207</td>\n",
       "      <td>201007</td>\n",
       "    </tr>\n",
       "    <tr>\n",
       "      <th rowspan=\"2\" valign=\"top\">대전광역시</th>\n",
       "      <th>2010</th>\n",
       "      <td>2010101</td>\n",
       "      <td>201101</td>\n",
       "    </tr>\n",
       "    <tr>\n",
       "      <th>2020</th>\n",
       "      <td>4212334</td>\n",
       "      <td>421234</td>\n",
       "    </tr>\n",
       "    <tr>\n",
       "      <th rowspan=\"2\" valign=\"top\">광주광역시</th>\n",
       "      <th>2010</th>\n",
       "      <td>1010202</td>\n",
       "      <td>100202</td>\n",
       "    </tr>\n",
       "    <tr>\n",
       "      <th>2020</th>\n",
       "      <td>9998777</td>\n",
       "      <td>999877</td>\n",
       "    </tr>\n",
       "  </tbody>\n",
       "</table>\n",
       "</div>"
      ],
      "text/plain": [
       "               총인구수   남자인구수\n",
       "서울특별시 2010   100000   10000\n",
       "      2020   200000   20000\n",
       "부산광역시 2010   200000   20000\n",
       "      2020   300000   30000\n",
       "인천광역시 2010   400000   40000\n",
       "      2020   403030   40300\n",
       "대구광역시 2010  2020202  202002\n",
       "      2020  2010207  201007\n",
       "대전광역시 2010  2010101  201101\n",
       "      2020  4212334  421234\n",
       "광주광역시 2010  1010202  100202\n",
       "      2020  9998777  999877"
      ]
     },
     "execution_count": 71,
     "metadata": {},
     "output_type": "execute_result"
    }
   ],
   "source": [
    "korea_mdf = pd.DataFrame({'총인구수':population,\n",
    "                        '남자인구수':male_tuple})\n",
    "korea_mdf"
   ]
  },
  {
   "cell_type": "code",
   "execution_count": 72,
   "metadata": {
    "id": "x8Y7Z77sF6Jf"
   },
   "outputs": [
    {
     "data": {
      "text/plain": [
       "[100, 200, 9000, 9000, 400, 403, 2020, 2010, 2001, 4214, 1002, 9997]"
      ]
     },
     "execution_count": 72,
     "metadata": {},
     "output_type": "execute_result"
    }
   ],
   "source": [
    "female_tuple = [100,200,\n",
    "             9000,9000,\n",
    "             400,403,\n",
    "             2020,2010,\n",
    "             2001,4214,\n",
    "             1002,9997]\n",
    "female_tuple"
   ]
  },
  {
   "cell_type": "code",
   "execution_count": 73,
   "metadata": {
    "id": "mtXvWQcMGwCo"
   },
   "outputs": [
    {
     "data": {
      "text/html": [
       "<div>\n",
       "<style scoped>\n",
       "    .dataframe tbody tr th:only-of-type {\n",
       "        vertical-align: middle;\n",
       "    }\n",
       "\n",
       "    .dataframe tbody tr th {\n",
       "        vertical-align: top;\n",
       "    }\n",
       "\n",
       "    .dataframe thead th {\n",
       "        text-align: right;\n",
       "    }\n",
       "</style>\n",
       "<table border=\"1\" class=\"dataframe\">\n",
       "  <thead>\n",
       "    <tr style=\"text-align: right;\">\n",
       "      <th></th>\n",
       "      <th></th>\n",
       "      <th>총인구수</th>\n",
       "      <th>남자인구수</th>\n",
       "      <th>여자인구수</th>\n",
       "    </tr>\n",
       "  </thead>\n",
       "  <tbody>\n",
       "    <tr>\n",
       "      <th rowspan=\"2\" valign=\"top\">서울특별시</th>\n",
       "      <th>2010</th>\n",
       "      <td>100000</td>\n",
       "      <td>10000</td>\n",
       "      <td>100</td>\n",
       "    </tr>\n",
       "    <tr>\n",
       "      <th>2020</th>\n",
       "      <td>200000</td>\n",
       "      <td>20000</td>\n",
       "      <td>200</td>\n",
       "    </tr>\n",
       "    <tr>\n",
       "      <th rowspan=\"2\" valign=\"top\">부산광역시</th>\n",
       "      <th>2010</th>\n",
       "      <td>200000</td>\n",
       "      <td>20000</td>\n",
       "      <td>9000</td>\n",
       "    </tr>\n",
       "    <tr>\n",
       "      <th>2020</th>\n",
       "      <td>300000</td>\n",
       "      <td>30000</td>\n",
       "      <td>9000</td>\n",
       "    </tr>\n",
       "    <tr>\n",
       "      <th rowspan=\"2\" valign=\"top\">인천광역시</th>\n",
       "      <th>2010</th>\n",
       "      <td>400000</td>\n",
       "      <td>40000</td>\n",
       "      <td>400</td>\n",
       "    </tr>\n",
       "    <tr>\n",
       "      <th>2020</th>\n",
       "      <td>403030</td>\n",
       "      <td>40300</td>\n",
       "      <td>403</td>\n",
       "    </tr>\n",
       "    <tr>\n",
       "      <th rowspan=\"2\" valign=\"top\">대구광역시</th>\n",
       "      <th>2010</th>\n",
       "      <td>2020202</td>\n",
       "      <td>202002</td>\n",
       "      <td>2020</td>\n",
       "    </tr>\n",
       "    <tr>\n",
       "      <th>2020</th>\n",
       "      <td>2010207</td>\n",
       "      <td>201007</td>\n",
       "      <td>2010</td>\n",
       "    </tr>\n",
       "    <tr>\n",
       "      <th rowspan=\"2\" valign=\"top\">대전광역시</th>\n",
       "      <th>2010</th>\n",
       "      <td>2010101</td>\n",
       "      <td>201101</td>\n",
       "      <td>2001</td>\n",
       "    </tr>\n",
       "    <tr>\n",
       "      <th>2020</th>\n",
       "      <td>4212334</td>\n",
       "      <td>421234</td>\n",
       "      <td>4214</td>\n",
       "    </tr>\n",
       "    <tr>\n",
       "      <th rowspan=\"2\" valign=\"top\">광주광역시</th>\n",
       "      <th>2010</th>\n",
       "      <td>1010202</td>\n",
       "      <td>100202</td>\n",
       "      <td>1002</td>\n",
       "    </tr>\n",
       "    <tr>\n",
       "      <th>2020</th>\n",
       "      <td>9998777</td>\n",
       "      <td>999877</td>\n",
       "      <td>9997</td>\n",
       "    </tr>\n",
       "  </tbody>\n",
       "</table>\n",
       "</div>"
      ],
      "text/plain": [
       "               총인구수   남자인구수  여자인구수\n",
       "서울특별시 2010   100000   10000    100\n",
       "      2020   200000   20000    200\n",
       "부산광역시 2010   200000   20000   9000\n",
       "      2020   300000   30000   9000\n",
       "인천광역시 2010   400000   40000    400\n",
       "      2020   403030   40300    403\n",
       "대구광역시 2010  2020202  202002   2020\n",
       "      2020  2010207  201007   2010\n",
       "대전광역시 2010  2010101  201101   2001\n",
       "      2020  4212334  421234   4214\n",
       "광주광역시 2010  1010202  100202   1002\n",
       "      2020  9998777  999877   9997"
      ]
     },
     "execution_count": 73,
     "metadata": {},
     "output_type": "execute_result"
    }
   ],
   "source": [
    "korea_mdf = pd.DataFrame({'총인구수':population,\n",
    "                         '남자인구수':male_tuple,\n",
    "                         '여자인구수':female_tuple})\n",
    "korea_mdf"
   ]
  },
  {
   "cell_type": "code",
   "execution_count": 74,
   "metadata": {
    "id": "iihD5i0hHZJl"
   },
   "outputs": [
    {
     "data": {
      "text/plain": [
       "서울특별시  2010    10000.000000\n",
       "       2020    10000.000000\n",
       "부산광역시  2010      222.222222\n",
       "       2020      333.333333\n",
       "인천광역시  2010    10000.000000\n",
       "       2020    10000.000000\n",
       "대구광역시  2010    10000.099010\n",
       "       2020    10000.348259\n",
       "대전광역시  2010    10050.024988\n",
       "       2020     9996.060750\n",
       "광주광역시  2010    10000.199601\n",
       "       2020    10001.770531\n",
       "dtype: float64"
      ]
     },
     "execution_count": 74,
     "metadata": {},
     "output_type": "execute_result"
    }
   ],
   "source": [
    "ratio = korea_mdf['남자인구수'] * 100 / korea_mdf['여자인구수']\n",
    "ratio"
   ]
  },
  {
   "cell_type": "code",
   "execution_count": 75,
   "metadata": {
    "id": "tfEo_ilxI10d"
   },
   "outputs": [
    {
     "data": {
      "text/html": [
       "<div>\n",
       "<style scoped>\n",
       "    .dataframe tbody tr th:only-of-type {\n",
       "        vertical-align: middle;\n",
       "    }\n",
       "\n",
       "    .dataframe tbody tr th {\n",
       "        vertical-align: top;\n",
       "    }\n",
       "\n",
       "    .dataframe thead th {\n",
       "        text-align: right;\n",
       "    }\n",
       "</style>\n",
       "<table border=\"1\" class=\"dataframe\">\n",
       "  <thead>\n",
       "    <tr style=\"text-align: right;\">\n",
       "      <th></th>\n",
       "      <th>2010</th>\n",
       "      <th>2020</th>\n",
       "    </tr>\n",
       "  </thead>\n",
       "  <tbody>\n",
       "    <tr>\n",
       "      <th>광주광역시</th>\n",
       "      <td>10000.199601</td>\n",
       "      <td>10001.770531</td>\n",
       "    </tr>\n",
       "    <tr>\n",
       "      <th>대구광역시</th>\n",
       "      <td>10000.099010</td>\n",
       "      <td>10000.348259</td>\n",
       "    </tr>\n",
       "    <tr>\n",
       "      <th>대전광역시</th>\n",
       "      <td>10050.024988</td>\n",
       "      <td>9996.060750</td>\n",
       "    </tr>\n",
       "    <tr>\n",
       "      <th>부산광역시</th>\n",
       "      <td>222.222222</td>\n",
       "      <td>333.333333</td>\n",
       "    </tr>\n",
       "    <tr>\n",
       "      <th>서울특별시</th>\n",
       "      <td>10000.000000</td>\n",
       "      <td>10000.000000</td>\n",
       "    </tr>\n",
       "    <tr>\n",
       "      <th>인천광역시</th>\n",
       "      <td>10000.000000</td>\n",
       "      <td>10000.000000</td>\n",
       "    </tr>\n",
       "  </tbody>\n",
       "</table>\n",
       "</div>"
      ],
      "text/plain": [
       "               2010          2020\n",
       "광주광역시  10000.199601  10001.770531\n",
       "대구광역시  10000.099010  10000.348259\n",
       "대전광역시  10050.024988   9996.060750\n",
       "부산광역시    222.222222    333.333333\n",
       "서울특별시  10000.000000  10000.000000\n",
       "인천광역시  10000.000000  10000.000000"
      ]
     },
     "execution_count": 75,
     "metadata": {},
     "output_type": "execute_result"
    }
   ],
   "source": [
    "ratio.unstack()"
   ]
  },
  {
   "cell_type": "code",
   "execution_count": 76,
   "metadata": {
    "id": "SEZnxJ4gxR44"
   },
   "outputs": [
    {
     "data": {
      "text/html": [
       "<div>\n",
       "<style scoped>\n",
       "    .dataframe tbody tr th:only-of-type {\n",
       "        vertical-align: middle;\n",
       "    }\n",
       "\n",
       "    .dataframe tbody tr th {\n",
       "        vertical-align: top;\n",
       "    }\n",
       "\n",
       "    .dataframe thead th {\n",
       "        text-align: right;\n",
       "    }\n",
       "</style>\n",
       "<table border=\"1\" class=\"dataframe\">\n",
       "  <thead>\n",
       "    <tr style=\"text-align: right;\">\n",
       "      <th></th>\n",
       "      <th></th>\n",
       "      <th>총인구수</th>\n",
       "      <th>남자인구수</th>\n",
       "      <th>여자인구수</th>\n",
       "      <th>남여비율</th>\n",
       "    </tr>\n",
       "  </thead>\n",
       "  <tbody>\n",
       "    <tr>\n",
       "      <th rowspan=\"2\" valign=\"top\">서울특별시</th>\n",
       "      <th>2010</th>\n",
       "      <td>100000</td>\n",
       "      <td>10000</td>\n",
       "      <td>100</td>\n",
       "      <td>10000.000000</td>\n",
       "    </tr>\n",
       "    <tr>\n",
       "      <th>2020</th>\n",
       "      <td>200000</td>\n",
       "      <td>20000</td>\n",
       "      <td>200</td>\n",
       "      <td>10000.000000</td>\n",
       "    </tr>\n",
       "    <tr>\n",
       "      <th rowspan=\"2\" valign=\"top\">부산광역시</th>\n",
       "      <th>2010</th>\n",
       "      <td>200000</td>\n",
       "      <td>20000</td>\n",
       "      <td>9000</td>\n",
       "      <td>222.222222</td>\n",
       "    </tr>\n",
       "    <tr>\n",
       "      <th>2020</th>\n",
       "      <td>300000</td>\n",
       "      <td>30000</td>\n",
       "      <td>9000</td>\n",
       "      <td>333.333333</td>\n",
       "    </tr>\n",
       "    <tr>\n",
       "      <th rowspan=\"2\" valign=\"top\">인천광역시</th>\n",
       "      <th>2010</th>\n",
       "      <td>400000</td>\n",
       "      <td>40000</td>\n",
       "      <td>400</td>\n",
       "      <td>10000.000000</td>\n",
       "    </tr>\n",
       "    <tr>\n",
       "      <th>2020</th>\n",
       "      <td>403030</td>\n",
       "      <td>40300</td>\n",
       "      <td>403</td>\n",
       "      <td>10000.000000</td>\n",
       "    </tr>\n",
       "    <tr>\n",
       "      <th rowspan=\"2\" valign=\"top\">대구광역시</th>\n",
       "      <th>2010</th>\n",
       "      <td>2020202</td>\n",
       "      <td>202002</td>\n",
       "      <td>2020</td>\n",
       "      <td>10000.099010</td>\n",
       "    </tr>\n",
       "    <tr>\n",
       "      <th>2020</th>\n",
       "      <td>2010207</td>\n",
       "      <td>201007</td>\n",
       "      <td>2010</td>\n",
       "      <td>10000.348259</td>\n",
       "    </tr>\n",
       "    <tr>\n",
       "      <th rowspan=\"2\" valign=\"top\">대전광역시</th>\n",
       "      <th>2010</th>\n",
       "      <td>2010101</td>\n",
       "      <td>201101</td>\n",
       "      <td>2001</td>\n",
       "      <td>10050.024988</td>\n",
       "    </tr>\n",
       "    <tr>\n",
       "      <th>2020</th>\n",
       "      <td>4212334</td>\n",
       "      <td>421234</td>\n",
       "      <td>4214</td>\n",
       "      <td>9996.060750</td>\n",
       "    </tr>\n",
       "    <tr>\n",
       "      <th rowspan=\"2\" valign=\"top\">광주광역시</th>\n",
       "      <th>2010</th>\n",
       "      <td>1010202</td>\n",
       "      <td>100202</td>\n",
       "      <td>1002</td>\n",
       "      <td>10000.199601</td>\n",
       "    </tr>\n",
       "    <tr>\n",
       "      <th>2020</th>\n",
       "      <td>9998777</td>\n",
       "      <td>999877</td>\n",
       "      <td>9997</td>\n",
       "      <td>10001.770531</td>\n",
       "    </tr>\n",
       "  </tbody>\n",
       "</table>\n",
       "</div>"
      ],
      "text/plain": [
       "               총인구수   남자인구수  여자인구수          남여비율\n",
       "서울특별시 2010   100000   10000    100  10000.000000\n",
       "      2020   200000   20000    200  10000.000000\n",
       "부산광역시 2010   200000   20000   9000    222.222222\n",
       "      2020   300000   30000   9000    333.333333\n",
       "인천광역시 2010   400000   40000    400  10000.000000\n",
       "      2020   403030   40300    403  10000.000000\n",
       "대구광역시 2010  2020202  202002   2020  10000.099010\n",
       "      2020  2010207  201007   2010  10000.348259\n",
       "대전광역시 2010  2010101  201101   2001  10050.024988\n",
       "      2020  4212334  421234   4214   9996.060750\n",
       "광주광역시 2010  1010202  100202   1002  10000.199601\n",
       "      2020  9998777  999877   9997  10001.770531"
      ]
     },
     "execution_count": 76,
     "metadata": {},
     "output_type": "execute_result"
    }
   ],
   "source": [
    "korea_mdf = pd.DataFrame({'총인구수':population,\n",
    "                         '남자인구수':male_tuple,\n",
    "                         '여자인구수':female_tuple,\n",
    "                         '남여비율':ratio})\n",
    "korea_mdf"
   ]
  },
  {
   "cell_type": "markdown",
   "metadata": {
    "id": "dwMPxdAYzN2-"
   },
   "source": [
    "#### 다중 인덱스 생성"
   ]
  },
  {
   "cell_type": "code",
   "execution_count": 77,
   "metadata": {
    "id": "0AWJ--PgyQ9_"
   },
   "outputs": [
    {
     "data": {
      "text/html": [
       "<div>\n",
       "<style scoped>\n",
       "    .dataframe tbody tr th:only-of-type {\n",
       "        vertical-align: middle;\n",
       "    }\n",
       "\n",
       "    .dataframe tbody tr th {\n",
       "        vertical-align: top;\n",
       "    }\n",
       "\n",
       "    .dataframe thead th {\n",
       "        text-align: right;\n",
       "    }\n",
       "</style>\n",
       "<table border=\"1\" class=\"dataframe\">\n",
       "  <thead>\n",
       "    <tr style=\"text-align: right;\">\n",
       "      <th></th>\n",
       "      <th></th>\n",
       "      <th>c1</th>\n",
       "      <th>c2</th>\n",
       "      <th>c3</th>\n",
       "    </tr>\n",
       "  </thead>\n",
       "  <tbody>\n",
       "    <tr>\n",
       "      <th rowspan=\"2\" valign=\"top\">a</th>\n",
       "      <th>1</th>\n",
       "      <td>0.567022</td>\n",
       "      <td>0.734928</td>\n",
       "      <td>0.241799</td>\n",
       "    </tr>\n",
       "    <tr>\n",
       "      <th>2</th>\n",
       "      <td>0.344684</td>\n",
       "      <td>0.153564</td>\n",
       "      <td>0.179844</td>\n",
       "    </tr>\n",
       "    <tr>\n",
       "      <th rowspan=\"2\" valign=\"top\">b</th>\n",
       "      <th>1</th>\n",
       "      <td>0.228863</td>\n",
       "      <td>0.542069</td>\n",
       "      <td>0.565100</td>\n",
       "    </tr>\n",
       "    <tr>\n",
       "      <th>2</th>\n",
       "      <td>0.578688</td>\n",
       "      <td>0.558334</td>\n",
       "      <td>0.434360</td>\n",
       "    </tr>\n",
       "    <tr>\n",
       "      <th rowspan=\"2\" valign=\"top\">c</th>\n",
       "      <th>1</th>\n",
       "      <td>0.742261</td>\n",
       "      <td>0.699430</td>\n",
       "      <td>0.649841</td>\n",
       "    </tr>\n",
       "    <tr>\n",
       "      <th>2</th>\n",
       "      <td>0.040363</td>\n",
       "      <td>0.552271</td>\n",
       "      <td>0.544391</td>\n",
       "    </tr>\n",
       "  </tbody>\n",
       "</table>\n",
       "</div>"
      ],
      "text/plain": [
       "           c1        c2        c3\n",
       "a 1  0.567022  0.734928  0.241799\n",
       "  2  0.344684  0.153564  0.179844\n",
       "b 1  0.228863  0.542069  0.565100\n",
       "  2  0.578688  0.558334  0.434360\n",
       "c 1  0.742261  0.699430  0.649841\n",
       "  2  0.040363  0.552271  0.544391"
      ]
     },
     "execution_count": 77,
     "metadata": {},
     "output_type": "execute_result"
    }
   ],
   "source": [
    "df = pd.DataFrame(np.random.rand(6,3),\n",
    "                 index=[['a','a','b','b','c','c'], [1,2,1,2,1,2]],\n",
    "                 columns=['c1','c2','c3'])\n",
    "df"
   ]
  },
  {
   "cell_type": "code",
   "execution_count": 78,
   "metadata": {
    "id": "b9lRLS_l0tr8"
   },
   "outputs": [
    {
     "data": {
      "text/plain": [
       "MultiIndex([('a', 1),\n",
       "            ('a', 2),\n",
       "            ('b', 1),\n",
       "            ('b', 2),\n",
       "            ('c', 1),\n",
       "            ('c', 2)],\n",
       "           )"
      ]
     },
     "execution_count": 78,
     "metadata": {},
     "output_type": "execute_result"
    }
   ],
   "source": [
    "pd.MultiIndex.from_arrays([['a','a','b','b','c','c'], [1,2,1,2,1,2]])"
   ]
  },
  {
   "cell_type": "code",
   "execution_count": 79,
   "metadata": {
    "id": "IkjKulZW2Ocr"
   },
   "outputs": [
    {
     "data": {
      "text/plain": [
       "MultiIndex([('a', 1),\n",
       "            ('a', 2),\n",
       "            ('b', 1),\n",
       "            ('b', 2),\n",
       "            ('c', 1),\n",
       "            ('c', 2)],\n",
       "           )"
      ]
     },
     "execution_count": 79,
     "metadata": {},
     "output_type": "execute_result"
    }
   ],
   "source": [
    "pd.MultiIndex.from_tuples([('a',1),('a',2),('b',1),('b',2), ('c',1),('c',2)])"
   ]
  },
  {
   "cell_type": "code",
   "execution_count": 80,
   "metadata": {
    "id": "xfQ8edOF2eN_"
   },
   "outputs": [
    {
     "data": {
      "text/plain": [
       "MultiIndex([('a', 1),\n",
       "            ('a', 2),\n",
       "            ('b', 1),\n",
       "            ('b', 2),\n",
       "            ('c', 1),\n",
       "            ('c', 2)],\n",
       "           )"
      ]
     },
     "execution_count": 80,
     "metadata": {},
     "output_type": "execute_result"
    }
   ],
   "source": [
    "pd.MultiIndex.from_product([['a','b','c'],[1,2]])"
   ]
  },
  {
   "cell_type": "code",
   "execution_count": 81,
   "metadata": {
    "id": "bK3cXvJy3Bhg"
   },
   "outputs": [
    {
     "data": {
      "text/plain": [
       "MultiIndex([('a', 1),\n",
       "            ('a', 2),\n",
       "            ('b', 1),\n",
       "            ('b', 2),\n",
       "            ('c', 1),\n",
       "            ('c', 2)],\n",
       "           )"
      ]
     },
     "execution_count": 81,
     "metadata": {},
     "output_type": "execute_result"
    }
   ],
   "source": [
    "pd.MultiIndex(levels=[['a','b','c'], [1,2]],\n",
    "             codes=[[0,0,1,1,2,2], [0,1,0,1,0,1]])"
   ]
  },
  {
   "cell_type": "code",
   "execution_count": 82,
   "metadata": {
    "id": "hWJShVRj5RFP"
   },
   "outputs": [
    {
     "data": {
      "text/plain": [
       "행정구역   년도  \n",
       "서울특별시  2010     100000\n",
       "       2020     200000\n",
       "부산광역시  2010     200000\n",
       "       2020     300000\n",
       "인천광역시  2010     400000\n",
       "       2020     403030\n",
       "대구광역시  2010    2020202\n",
       "       2020    2010207\n",
       "대전광역시  2010    2010101\n",
       "       2020    4212334\n",
       "광주광역시  2010    1010202\n",
       "       2020    9998777\n",
       "dtype: int64"
      ]
     },
     "execution_count": 82,
     "metadata": {},
     "output_type": "execute_result"
    }
   ],
   "source": [
    "population.index.names = ['행정구역','년도']\n",
    "population"
   ]
  },
  {
   "cell_type": "code",
   "execution_count": 83,
   "metadata": {
    "id": "KNos70_J5ZjD"
   },
   "outputs": [
    {
     "data": {
      "text/html": [
       "<div>\n",
       "<style scoped>\n",
       "    .dataframe tbody tr th:only-of-type {\n",
       "        vertical-align: middle;\n",
       "    }\n",
       "\n",
       "    .dataframe tbody tr th {\n",
       "        vertical-align: top;\n",
       "    }\n",
       "\n",
       "    .dataframe thead tr th {\n",
       "        text-align: left;\n",
       "    }\n",
       "\n",
       "    .dataframe thead tr:last-of-type th {\n",
       "        text-align: right;\n",
       "    }\n",
       "</style>\n",
       "<table border=\"1\" class=\"dataframe\">\n",
       "  <thead>\n",
       "    <tr>\n",
       "      <th></th>\n",
       "      <th>col_name1</th>\n",
       "      <th colspan=\"2\" halign=\"left\">c1</th>\n",
       "      <th colspan=\"2\" halign=\"left\">c2</th>\n",
       "      <th colspan=\"2\" halign=\"left\">c3</th>\n",
       "    </tr>\n",
       "    <tr>\n",
       "      <th></th>\n",
       "      <th>col_name2</th>\n",
       "      <th>1</th>\n",
       "      <th>2</th>\n",
       "      <th>1</th>\n",
       "      <th>2</th>\n",
       "      <th>1</th>\n",
       "      <th>2</th>\n",
       "    </tr>\n",
       "    <tr>\n",
       "      <th>name1</th>\n",
       "      <th>name2</th>\n",
       "      <th></th>\n",
       "      <th></th>\n",
       "      <th></th>\n",
       "      <th></th>\n",
       "      <th></th>\n",
       "      <th></th>\n",
       "    </tr>\n",
       "  </thead>\n",
       "  <tbody>\n",
       "    <tr>\n",
       "      <th rowspan=\"2\" valign=\"top\">a</th>\n",
       "      <th>1</th>\n",
       "      <td>1.43</td>\n",
       "      <td>1.26</td>\n",
       "      <td>0.94</td>\n",
       "      <td>1.10</td>\n",
       "      <td>0.87</td>\n",
       "      <td>1.31</td>\n",
       "    </tr>\n",
       "    <tr>\n",
       "      <th>2</th>\n",
       "      <td>-0.68</td>\n",
       "      <td>-0.17</td>\n",
       "      <td>-0.69</td>\n",
       "      <td>0.92</td>\n",
       "      <td>0.16</td>\n",
       "      <td>0.30</td>\n",
       "    </tr>\n",
       "    <tr>\n",
       "      <th rowspan=\"2\" valign=\"top\">b</th>\n",
       "      <th>1</th>\n",
       "      <td>0.38</td>\n",
       "      <td>0.33</td>\n",
       "      <td>-1.12</td>\n",
       "      <td>-0.11</td>\n",
       "      <td>0.09</td>\n",
       "      <td>-1.52</td>\n",
       "    </tr>\n",
       "    <tr>\n",
       "      <th>2</th>\n",
       "      <td>0.96</td>\n",
       "      <td>-1.38</td>\n",
       "      <td>-0.44</td>\n",
       "      <td>1.37</td>\n",
       "      <td>-0.16</td>\n",
       "      <td>0.35</td>\n",
       "    </tr>\n",
       "    <tr>\n",
       "      <th rowspan=\"2\" valign=\"top\">c</th>\n",
       "      <th>1</th>\n",
       "      <td>-0.08</td>\n",
       "      <td>0.73</td>\n",
       "      <td>1.47</td>\n",
       "      <td>-0.25</td>\n",
       "      <td>1.36</td>\n",
       "      <td>1.12</td>\n",
       "    </tr>\n",
       "    <tr>\n",
       "      <th>2</th>\n",
       "      <td>0.17</td>\n",
       "      <td>0.77</td>\n",
       "      <td>-0.82</td>\n",
       "      <td>-0.47</td>\n",
       "      <td>-0.66</td>\n",
       "      <td>-0.21</td>\n",
       "    </tr>\n",
       "  </tbody>\n",
       "</table>\n",
       "</div>"
      ],
      "text/plain": [
       "col_name1      c1          c2          c3      \n",
       "col_name2       1     2     1     2     1     2\n",
       "name1 name2                                    \n",
       "a     1      1.43  1.26  0.94  1.10  0.87  1.31\n",
       "      2     -0.68 -0.17 -0.69  0.92  0.16  0.30\n",
       "b     1      0.38  0.33 -1.12 -0.11  0.09 -1.52\n",
       "      2      0.96 -1.38 -0.44  1.37 -0.16  0.35\n",
       "c     1     -0.08  0.73  1.47 -0.25  1.36  1.12\n",
       "      2      0.17  0.77 -0.82 -0.47 -0.66 -0.21"
      ]
     },
     "execution_count": 83,
     "metadata": {},
     "output_type": "execute_result"
    }
   ],
   "source": [
    "idx = pd.MultiIndex.from_product([['a','b','c'],[1,2]],\n",
    "                                names=['name1','name2'])\n",
    "cols = pd.MultiIndex.from_product([['c1','c2','c3'], [1,2]],\n",
    "                                 names = ['col_name1','col_name2'])\n",
    "data = np.round(np.random.randn(6,6),2)\n",
    "mdf = pd.DataFrame(data, index=idx, columns=cols)\n",
    "mdf"
   ]
  },
  {
   "cell_type": "code",
   "execution_count": 84,
   "metadata": {
    "id": "Th-G-FAn6z-j"
   },
   "outputs": [
    {
     "data": {
      "text/html": [
       "<div>\n",
       "<style scoped>\n",
       "    .dataframe tbody tr th:only-of-type {\n",
       "        vertical-align: middle;\n",
       "    }\n",
       "\n",
       "    .dataframe tbody tr th {\n",
       "        vertical-align: top;\n",
       "    }\n",
       "\n",
       "    .dataframe thead th {\n",
       "        text-align: right;\n",
       "    }\n",
       "</style>\n",
       "<table border=\"1\" class=\"dataframe\">\n",
       "  <thead>\n",
       "    <tr style=\"text-align: right;\">\n",
       "      <th></th>\n",
       "      <th>col_name2</th>\n",
       "      <th>1</th>\n",
       "      <th>2</th>\n",
       "    </tr>\n",
       "    <tr>\n",
       "      <th>name1</th>\n",
       "      <th>name2</th>\n",
       "      <th></th>\n",
       "      <th></th>\n",
       "    </tr>\n",
       "  </thead>\n",
       "  <tbody>\n",
       "    <tr>\n",
       "      <th rowspan=\"2\" valign=\"top\">a</th>\n",
       "      <th>1</th>\n",
       "      <td>0.94</td>\n",
       "      <td>1.10</td>\n",
       "    </tr>\n",
       "    <tr>\n",
       "      <th>2</th>\n",
       "      <td>-0.69</td>\n",
       "      <td>0.92</td>\n",
       "    </tr>\n",
       "    <tr>\n",
       "      <th rowspan=\"2\" valign=\"top\">b</th>\n",
       "      <th>1</th>\n",
       "      <td>-1.12</td>\n",
       "      <td>-0.11</td>\n",
       "    </tr>\n",
       "    <tr>\n",
       "      <th>2</th>\n",
       "      <td>-0.44</td>\n",
       "      <td>1.37</td>\n",
       "    </tr>\n",
       "    <tr>\n",
       "      <th rowspan=\"2\" valign=\"top\">c</th>\n",
       "      <th>1</th>\n",
       "      <td>1.47</td>\n",
       "      <td>-0.25</td>\n",
       "    </tr>\n",
       "    <tr>\n",
       "      <th>2</th>\n",
       "      <td>-0.82</td>\n",
       "      <td>-0.47</td>\n",
       "    </tr>\n",
       "  </tbody>\n",
       "</table>\n",
       "</div>"
      ],
      "text/plain": [
       "col_name2       1     2\n",
       "name1 name2            \n",
       "a     1      0.94  1.10\n",
       "      2     -0.69  0.92\n",
       "b     1     -1.12 -0.11\n",
       "      2     -0.44  1.37\n",
       "c     1      1.47 -0.25\n",
       "      2     -0.82 -0.47"
      ]
     },
     "execution_count": 84,
     "metadata": {},
     "output_type": "execute_result"
    }
   ],
   "source": [
    "mdf['c2']"
   ]
  },
  {
   "cell_type": "markdown",
   "metadata": {
    "id": "d2jFmy1x837m"
   },
   "source": [
    "#### 인덱싱 및 슬라이싱"
   ]
  },
  {
   "cell_type": "code",
   "execution_count": 85,
   "metadata": {
    "id": "5qDexsN98_3V"
   },
   "outputs": [
    {
     "data": {
      "text/plain": [
       "행정구역   년도  \n",
       "서울특별시  2010     100000\n",
       "       2020     200000\n",
       "부산광역시  2010     200000\n",
       "       2020     300000\n",
       "인천광역시  2010     400000\n",
       "       2020     403030\n",
       "대구광역시  2010    2020202\n",
       "       2020    2010207\n",
       "대전광역시  2010    2010101\n",
       "       2020    4212334\n",
       "광주광역시  2010    1010202\n",
       "       2020    9998777\n",
       "dtype: int64"
      ]
     },
     "execution_count": 85,
     "metadata": {},
     "output_type": "execute_result"
    }
   ],
   "source": [
    "population"
   ]
  },
  {
   "cell_type": "code",
   "execution_count": 86,
   "metadata": {
    "id": "daJEr_c_9EGT"
   },
   "outputs": [
    {
     "data": {
      "text/plain": [
       "400000"
      ]
     },
     "execution_count": 86,
     "metadata": {},
     "output_type": "execute_result"
    }
   ],
   "source": [
    "population['인천광역시', 2010]"
   ]
  },
  {
   "cell_type": "code",
   "execution_count": 87,
   "metadata": {
    "id": "AqPBvowq9YY3"
   },
   "outputs": [
    {
     "data": {
      "text/plain": [
       "행정구역\n",
       "서울특별시     100000\n",
       "부산광역시     200000\n",
       "인천광역시     400000\n",
       "대구광역시    2020202\n",
       "대전광역시    2010101\n",
       "광주광역시    1010202\n",
       "dtype: int64"
      ]
     },
     "execution_count": 87,
     "metadata": {},
     "output_type": "execute_result"
    }
   ],
   "source": [
    "population[:,2010]"
   ]
  },
  {
   "cell_type": "code",
   "execution_count": 88,
   "metadata": {
    "id": "zkMhB7q1-DlM"
   },
   "outputs": [
    {
     "data": {
      "text/plain": [
       "행정구역   년도  \n",
       "인천광역시  2010     400000\n",
       "       2020     403030\n",
       "대구광역시  2010    2020202\n",
       "       2020    2010207\n",
       "대전광역시  2010    2010101\n",
       "       2020    4212334\n",
       "광주광역시  2010    1010202\n",
       "       2020    9998777\n",
       "dtype: int64"
      ]
     },
     "execution_count": 88,
     "metadata": {},
     "output_type": "execute_result"
    }
   ],
   "source": [
    "population[population > 300000]"
   ]
  },
  {
   "cell_type": "code",
   "execution_count": 89,
   "metadata": {
    "id": "88uFVbPP-Z4g"
   },
   "outputs": [
    {
     "data": {
      "text/plain": [
       "행정구역   년도  \n",
       "대구광역시  2010    2020202\n",
       "       2020    2010207\n",
       "대전광역시  2010    2010101\n",
       "       2020    4212334\n",
       "dtype: int64"
      ]
     },
     "execution_count": 89,
     "metadata": {},
     "output_type": "execute_result"
    }
   ],
   "source": [
    "population[['대구광역시','대전광역시']]"
   ]
  },
  {
   "cell_type": "code",
   "execution_count": 90,
   "metadata": {
    "id": "RwkBWRU_-fHW"
   },
   "outputs": [
    {
     "data": {
      "text/html": [
       "<div>\n",
       "<style scoped>\n",
       "    .dataframe tbody tr th:only-of-type {\n",
       "        vertical-align: middle;\n",
       "    }\n",
       "\n",
       "    .dataframe tbody tr th {\n",
       "        vertical-align: top;\n",
       "    }\n",
       "\n",
       "    .dataframe thead tr th {\n",
       "        text-align: left;\n",
       "    }\n",
       "\n",
       "    .dataframe thead tr:last-of-type th {\n",
       "        text-align: right;\n",
       "    }\n",
       "</style>\n",
       "<table border=\"1\" class=\"dataframe\">\n",
       "  <thead>\n",
       "    <tr>\n",
       "      <th></th>\n",
       "      <th>col_name1</th>\n",
       "      <th colspan=\"2\" halign=\"left\">c1</th>\n",
       "      <th colspan=\"2\" halign=\"left\">c2</th>\n",
       "      <th colspan=\"2\" halign=\"left\">c3</th>\n",
       "    </tr>\n",
       "    <tr>\n",
       "      <th></th>\n",
       "      <th>col_name2</th>\n",
       "      <th>1</th>\n",
       "      <th>2</th>\n",
       "      <th>1</th>\n",
       "      <th>2</th>\n",
       "      <th>1</th>\n",
       "      <th>2</th>\n",
       "    </tr>\n",
       "    <tr>\n",
       "      <th>name1</th>\n",
       "      <th>name2</th>\n",
       "      <th></th>\n",
       "      <th></th>\n",
       "      <th></th>\n",
       "      <th></th>\n",
       "      <th></th>\n",
       "      <th></th>\n",
       "    </tr>\n",
       "  </thead>\n",
       "  <tbody>\n",
       "    <tr>\n",
       "      <th rowspan=\"2\" valign=\"top\">a</th>\n",
       "      <th>1</th>\n",
       "      <td>1.43</td>\n",
       "      <td>1.26</td>\n",
       "      <td>0.94</td>\n",
       "      <td>1.10</td>\n",
       "      <td>0.87</td>\n",
       "      <td>1.31</td>\n",
       "    </tr>\n",
       "    <tr>\n",
       "      <th>2</th>\n",
       "      <td>-0.68</td>\n",
       "      <td>-0.17</td>\n",
       "      <td>-0.69</td>\n",
       "      <td>0.92</td>\n",
       "      <td>0.16</td>\n",
       "      <td>0.30</td>\n",
       "    </tr>\n",
       "    <tr>\n",
       "      <th rowspan=\"2\" valign=\"top\">b</th>\n",
       "      <th>1</th>\n",
       "      <td>0.38</td>\n",
       "      <td>0.33</td>\n",
       "      <td>-1.12</td>\n",
       "      <td>-0.11</td>\n",
       "      <td>0.09</td>\n",
       "      <td>-1.52</td>\n",
       "    </tr>\n",
       "    <tr>\n",
       "      <th>2</th>\n",
       "      <td>0.96</td>\n",
       "      <td>-1.38</td>\n",
       "      <td>-0.44</td>\n",
       "      <td>1.37</td>\n",
       "      <td>-0.16</td>\n",
       "      <td>0.35</td>\n",
       "    </tr>\n",
       "    <tr>\n",
       "      <th rowspan=\"2\" valign=\"top\">c</th>\n",
       "      <th>1</th>\n",
       "      <td>-0.08</td>\n",
       "      <td>0.73</td>\n",
       "      <td>1.47</td>\n",
       "      <td>-0.25</td>\n",
       "      <td>1.36</td>\n",
       "      <td>1.12</td>\n",
       "    </tr>\n",
       "    <tr>\n",
       "      <th>2</th>\n",
       "      <td>0.17</td>\n",
       "      <td>0.77</td>\n",
       "      <td>-0.82</td>\n",
       "      <td>-0.47</td>\n",
       "      <td>-0.66</td>\n",
       "      <td>-0.21</td>\n",
       "    </tr>\n",
       "  </tbody>\n",
       "</table>\n",
       "</div>"
      ],
      "text/plain": [
       "col_name1      c1          c2          c3      \n",
       "col_name2       1     2     1     2     1     2\n",
       "name1 name2                                    \n",
       "a     1      1.43  1.26  0.94  1.10  0.87  1.31\n",
       "      2     -0.68 -0.17 -0.69  0.92  0.16  0.30\n",
       "b     1      0.38  0.33 -1.12 -0.11  0.09 -1.52\n",
       "      2      0.96 -1.38 -0.44  1.37 -0.16  0.35\n",
       "c     1     -0.08  0.73  1.47 -0.25  1.36  1.12\n",
       "      2      0.17  0.77 -0.82 -0.47 -0.66 -0.21"
      ]
     },
     "execution_count": 90,
     "metadata": {},
     "output_type": "execute_result"
    }
   ],
   "source": [
    "mdf"
   ]
  },
  {
   "cell_type": "code",
   "execution_count": 91,
   "metadata": {
    "id": "GVqzxZcq-tiq"
   },
   "outputs": [
    {
     "data": {
      "text/plain": [
       "name1  name2\n",
       "a      1        0.94\n",
       "       2       -0.69\n",
       "b      1       -1.12\n",
       "       2       -0.44\n",
       "c      1        1.47\n",
       "       2       -0.82\n",
       "Name: (c2, 1), dtype: float64"
      ]
     },
     "execution_count": 91,
     "metadata": {},
     "output_type": "execute_result"
    }
   ],
   "source": [
    "mdf['c2',1]"
   ]
  },
  {
   "cell_type": "code",
   "execution_count": 92,
   "metadata": {
    "id": "Ywhin1Dc--st"
   },
   "outputs": [
    {
     "data": {
      "text/html": [
       "<div>\n",
       "<style scoped>\n",
       "    .dataframe tbody tr th:only-of-type {\n",
       "        vertical-align: middle;\n",
       "    }\n",
       "\n",
       "    .dataframe tbody tr th {\n",
       "        vertical-align: top;\n",
       "    }\n",
       "\n",
       "    .dataframe thead tr th {\n",
       "        text-align: left;\n",
       "    }\n",
       "\n",
       "    .dataframe thead tr:last-of-type th {\n",
       "        text-align: right;\n",
       "    }\n",
       "</style>\n",
       "<table border=\"1\" class=\"dataframe\">\n",
       "  <thead>\n",
       "    <tr>\n",
       "      <th></th>\n",
       "      <th>col_name1</th>\n",
       "      <th colspan=\"2\" halign=\"left\">c1</th>\n",
       "      <th colspan=\"2\" halign=\"left\">c2</th>\n",
       "    </tr>\n",
       "    <tr>\n",
       "      <th></th>\n",
       "      <th>col_name2</th>\n",
       "      <th>1</th>\n",
       "      <th>2</th>\n",
       "      <th>1</th>\n",
       "      <th>2</th>\n",
       "    </tr>\n",
       "    <tr>\n",
       "      <th>name1</th>\n",
       "      <th>name2</th>\n",
       "      <th></th>\n",
       "      <th></th>\n",
       "      <th></th>\n",
       "      <th></th>\n",
       "    </tr>\n",
       "  </thead>\n",
       "  <tbody>\n",
       "    <tr>\n",
       "      <th rowspan=\"2\" valign=\"top\">a</th>\n",
       "      <th>1</th>\n",
       "      <td>1.43</td>\n",
       "      <td>1.26</td>\n",
       "      <td>0.94</td>\n",
       "      <td>1.10</td>\n",
       "    </tr>\n",
       "    <tr>\n",
       "      <th>2</th>\n",
       "      <td>-0.68</td>\n",
       "      <td>-0.17</td>\n",
       "      <td>-0.69</td>\n",
       "      <td>0.92</td>\n",
       "    </tr>\n",
       "    <tr>\n",
       "      <th>b</th>\n",
       "      <th>1</th>\n",
       "      <td>0.38</td>\n",
       "      <td>0.33</td>\n",
       "      <td>-1.12</td>\n",
       "      <td>-0.11</td>\n",
       "    </tr>\n",
       "  </tbody>\n",
       "</table>\n",
       "</div>"
      ],
      "text/plain": [
       "col_name1      c1          c2      \n",
       "col_name2       1     2     1     2\n",
       "name1 name2                        \n",
       "a     1      1.43  1.26  0.94  1.10\n",
       "      2     -0.68 -0.17 -0.69  0.92\n",
       "b     1      0.38  0.33 -1.12 -0.11"
      ]
     },
     "execution_count": 92,
     "metadata": {},
     "output_type": "execute_result"
    }
   ],
   "source": [
    "mdf.iloc[:3,:4]"
   ]
  },
  {
   "cell_type": "code",
   "execution_count": 93,
   "metadata": {
    "id": "_Q9X9HWs_fMN"
   },
   "outputs": [
    {
     "data": {
      "text/plain": [
       "name1  name2\n",
       "a      1        0.94\n",
       "       2       -0.69\n",
       "b      1       -1.12\n",
       "       2       -0.44\n",
       "c      1        1.47\n",
       "       2       -0.82\n",
       "Name: (c2, 1), dtype: float64"
      ]
     },
     "execution_count": 93,
     "metadata": {},
     "output_type": "execute_result"
    }
   ],
   "source": [
    "mdf.loc[:,('c2',1)]"
   ]
  },
  {
   "cell_type": "code",
   "execution_count": 94,
   "metadata": {},
   "outputs": [
    {
     "data": {
      "text/html": [
       "<div>\n",
       "<style scoped>\n",
       "    .dataframe tbody tr th:only-of-type {\n",
       "        vertical-align: middle;\n",
       "    }\n",
       "\n",
       "    .dataframe tbody tr th {\n",
       "        vertical-align: top;\n",
       "    }\n",
       "\n",
       "    .dataframe thead tr th {\n",
       "        text-align: left;\n",
       "    }\n",
       "\n",
       "    .dataframe thead tr:last-of-type th {\n",
       "        text-align: right;\n",
       "    }\n",
       "</style>\n",
       "<table border=\"1\" class=\"dataframe\">\n",
       "  <thead>\n",
       "    <tr>\n",
       "      <th></th>\n",
       "      <th>col_name1</th>\n",
       "      <th>c1</th>\n",
       "      <th>c2</th>\n",
       "      <th>c3</th>\n",
       "    </tr>\n",
       "    <tr>\n",
       "      <th></th>\n",
       "      <th>col_name2</th>\n",
       "      <th>2</th>\n",
       "      <th>2</th>\n",
       "      <th>2</th>\n",
       "    </tr>\n",
       "    <tr>\n",
       "      <th>name1</th>\n",
       "      <th>name2</th>\n",
       "      <th></th>\n",
       "      <th></th>\n",
       "      <th></th>\n",
       "    </tr>\n",
       "  </thead>\n",
       "  <tbody>\n",
       "    <tr>\n",
       "      <th>a</th>\n",
       "      <th>2</th>\n",
       "      <td>-0.17</td>\n",
       "      <td>0.92</td>\n",
       "      <td>0.30</td>\n",
       "    </tr>\n",
       "    <tr>\n",
       "      <th>b</th>\n",
       "      <th>2</th>\n",
       "      <td>-1.38</td>\n",
       "      <td>1.37</td>\n",
       "      <td>0.35</td>\n",
       "    </tr>\n",
       "    <tr>\n",
       "      <th>c</th>\n",
       "      <th>2</th>\n",
       "      <td>0.77</td>\n",
       "      <td>-0.47</td>\n",
       "      <td>-0.21</td>\n",
       "    </tr>\n",
       "  </tbody>\n",
       "</table>\n",
       "</div>"
      ],
      "text/plain": [
       "col_name1      c1    c2    c3\n",
       "col_name2       2     2     2\n",
       "name1 name2                  \n",
       "a     2     -0.17  0.92  0.30\n",
       "b     2     -1.38  1.37  0.35\n",
       "c     2      0.77 -0.47 -0.21"
      ]
     },
     "execution_count": 94,
     "metadata": {},
     "output_type": "execute_result"
    }
   ],
   "source": [
    "idx_slice = pd.IndexSlice\n",
    "mdf.loc[idx_slice[:,2], idx_slice[:,2]]"
   ]
  },
  {
   "cell_type": "markdown",
   "metadata": {
    "id": "Nt4Rby0LA9M0"
   },
   "source": [
    "#### 다중 인덱스 재정렬"
   ]
  },
  {
   "cell_type": "code",
   "execution_count": 95,
   "metadata": {
    "id": "NgpfPvpaBBHR"
   },
   "outputs": [
    {
     "data": {
      "text/plain": [
       "MultiIndex([('a', 1),\n",
       "            ('a', 2),\n",
       "            ('b', 1),\n",
       "            ('b', 2),\n",
       "            ('c', 1),\n",
       "            ('c', 2)],\n",
       "           names=['name1', 'name2'])"
      ]
     },
     "execution_count": 95,
     "metadata": {},
     "output_type": "execute_result"
    }
   ],
   "source": [
    "idx"
   ]
  },
  {
   "cell_type": "code",
   "execution_count": 96,
   "metadata": {
    "id": "uniTQ5qIBMfP"
   },
   "outputs": [
    {
     "data": {
      "text/html": [
       "<div>\n",
       "<style scoped>\n",
       "    .dataframe tbody tr th:only-of-type {\n",
       "        vertical-align: middle;\n",
       "    }\n",
       "\n",
       "    .dataframe tbody tr th {\n",
       "        vertical-align: top;\n",
       "    }\n",
       "\n",
       "    .dataframe thead th {\n",
       "        text-align: right;\n",
       "    }\n",
       "</style>\n",
       "<table border=\"1\" class=\"dataframe\">\n",
       "  <thead>\n",
       "    <tr style=\"text-align: right;\">\n",
       "      <th></th>\n",
       "      <th></th>\n",
       "      <th>총인구수</th>\n",
       "      <th>남자인구수</th>\n",
       "      <th>여자인구수</th>\n",
       "      <th>남여비율</th>\n",
       "    </tr>\n",
       "    <tr>\n",
       "      <th>행정구역</th>\n",
       "      <th>년도</th>\n",
       "      <th></th>\n",
       "      <th></th>\n",
       "      <th></th>\n",
       "      <th></th>\n",
       "    </tr>\n",
       "  </thead>\n",
       "  <tbody>\n",
       "    <tr>\n",
       "      <th rowspan=\"2\" valign=\"top\">서울특별시</th>\n",
       "      <th>2010</th>\n",
       "      <td>100000</td>\n",
       "      <td>10000</td>\n",
       "      <td>100</td>\n",
       "      <td>10000.000000</td>\n",
       "    </tr>\n",
       "    <tr>\n",
       "      <th>2020</th>\n",
       "      <td>200000</td>\n",
       "      <td>20000</td>\n",
       "      <td>200</td>\n",
       "      <td>10000.000000</td>\n",
       "    </tr>\n",
       "    <tr>\n",
       "      <th rowspan=\"2\" valign=\"top\">부산광역시</th>\n",
       "      <th>2010</th>\n",
       "      <td>200000</td>\n",
       "      <td>20000</td>\n",
       "      <td>9000</td>\n",
       "      <td>222.222222</td>\n",
       "    </tr>\n",
       "    <tr>\n",
       "      <th>2020</th>\n",
       "      <td>300000</td>\n",
       "      <td>30000</td>\n",
       "      <td>9000</td>\n",
       "      <td>333.333333</td>\n",
       "    </tr>\n",
       "    <tr>\n",
       "      <th rowspan=\"2\" valign=\"top\">인천광역시</th>\n",
       "      <th>2010</th>\n",
       "      <td>400000</td>\n",
       "      <td>40000</td>\n",
       "      <td>400</td>\n",
       "      <td>10000.000000</td>\n",
       "    </tr>\n",
       "    <tr>\n",
       "      <th>2020</th>\n",
       "      <td>403030</td>\n",
       "      <td>40300</td>\n",
       "      <td>403</td>\n",
       "      <td>10000.000000</td>\n",
       "    </tr>\n",
       "    <tr>\n",
       "      <th rowspan=\"2\" valign=\"top\">대구광역시</th>\n",
       "      <th>2010</th>\n",
       "      <td>2020202</td>\n",
       "      <td>202002</td>\n",
       "      <td>2020</td>\n",
       "      <td>10000.099010</td>\n",
       "    </tr>\n",
       "    <tr>\n",
       "      <th>2020</th>\n",
       "      <td>2010207</td>\n",
       "      <td>201007</td>\n",
       "      <td>2010</td>\n",
       "      <td>10000.348259</td>\n",
       "    </tr>\n",
       "    <tr>\n",
       "      <th rowspan=\"2\" valign=\"top\">대전광역시</th>\n",
       "      <th>2010</th>\n",
       "      <td>2010101</td>\n",
       "      <td>201101</td>\n",
       "      <td>2001</td>\n",
       "      <td>10050.024988</td>\n",
       "    </tr>\n",
       "    <tr>\n",
       "      <th>2020</th>\n",
       "      <td>4212334</td>\n",
       "      <td>421234</td>\n",
       "      <td>4214</td>\n",
       "      <td>9996.060750</td>\n",
       "    </tr>\n",
       "    <tr>\n",
       "      <th rowspan=\"2\" valign=\"top\">광주광역시</th>\n",
       "      <th>2010</th>\n",
       "      <td>1010202</td>\n",
       "      <td>100202</td>\n",
       "      <td>1002</td>\n",
       "      <td>10000.199601</td>\n",
       "    </tr>\n",
       "    <tr>\n",
       "      <th>2020</th>\n",
       "      <td>9998777</td>\n",
       "      <td>999877</td>\n",
       "      <td>9997</td>\n",
       "      <td>10001.770531</td>\n",
       "    </tr>\n",
       "  </tbody>\n",
       "</table>\n",
       "</div>"
      ],
      "text/plain": [
       "               총인구수   남자인구수  여자인구수          남여비율\n",
       "행정구역  년도                                        \n",
       "서울특별시 2010   100000   10000    100  10000.000000\n",
       "      2020   200000   20000    200  10000.000000\n",
       "부산광역시 2010   200000   20000   9000    222.222222\n",
       "      2020   300000   30000   9000    333.333333\n",
       "인천광역시 2010   400000   40000    400  10000.000000\n",
       "      2020   403030   40300    403  10000.000000\n",
       "대구광역시 2010  2020202  202002   2020  10000.099010\n",
       "      2020  2010207  201007   2010  10000.348259\n",
       "대전광역시 2010  2010101  201101   2001  10050.024988\n",
       "      2020  4212334  421234   4214   9996.060750\n",
       "광주광역시 2010  1010202  100202   1002  10000.199601\n",
       "      2020  9998777  999877   9997  10001.770531"
      ]
     },
     "execution_count": 96,
     "metadata": {},
     "output_type": "execute_result"
    }
   ],
   "source": [
    "korea_mdf"
   ]
  },
  {
   "cell_type": "code",
   "execution_count": 97,
   "metadata": {
    "id": "zilkRp8RBm87"
   },
   "outputs": [
    {
     "data": {
      "text/html": [
       "<div>\n",
       "<style scoped>\n",
       "    .dataframe tbody tr th:only-of-type {\n",
       "        vertical-align: middle;\n",
       "    }\n",
       "\n",
       "    .dataframe tbody tr th {\n",
       "        vertical-align: top;\n",
       "    }\n",
       "\n",
       "    .dataframe thead th {\n",
       "        text-align: right;\n",
       "    }\n",
       "</style>\n",
       "<table border=\"1\" class=\"dataframe\">\n",
       "  <thead>\n",
       "    <tr style=\"text-align: right;\">\n",
       "      <th></th>\n",
       "      <th></th>\n",
       "      <th>총인구수</th>\n",
       "      <th>남자인구수</th>\n",
       "      <th>여자인구수</th>\n",
       "      <th>남여비율</th>\n",
       "    </tr>\n",
       "    <tr>\n",
       "      <th>행정구역</th>\n",
       "      <th>년도</th>\n",
       "      <th></th>\n",
       "      <th></th>\n",
       "      <th></th>\n",
       "      <th></th>\n",
       "    </tr>\n",
       "  </thead>\n",
       "  <tbody>\n",
       "    <tr>\n",
       "      <th rowspan=\"2\" valign=\"top\">광주광역시</th>\n",
       "      <th>2010</th>\n",
       "      <td>1010202</td>\n",
       "      <td>100202</td>\n",
       "      <td>1002</td>\n",
       "      <td>10000.199601</td>\n",
       "    </tr>\n",
       "    <tr>\n",
       "      <th>2020</th>\n",
       "      <td>9998777</td>\n",
       "      <td>999877</td>\n",
       "      <td>9997</td>\n",
       "      <td>10001.770531</td>\n",
       "    </tr>\n",
       "    <tr>\n",
       "      <th rowspan=\"2\" valign=\"top\">대구광역시</th>\n",
       "      <th>2010</th>\n",
       "      <td>2020202</td>\n",
       "      <td>202002</td>\n",
       "      <td>2020</td>\n",
       "      <td>10000.099010</td>\n",
       "    </tr>\n",
       "    <tr>\n",
       "      <th>2020</th>\n",
       "      <td>2010207</td>\n",
       "      <td>201007</td>\n",
       "      <td>2010</td>\n",
       "      <td>10000.348259</td>\n",
       "    </tr>\n",
       "    <tr>\n",
       "      <th rowspan=\"2\" valign=\"top\">대전광역시</th>\n",
       "      <th>2010</th>\n",
       "      <td>2010101</td>\n",
       "      <td>201101</td>\n",
       "      <td>2001</td>\n",
       "      <td>10050.024988</td>\n",
       "    </tr>\n",
       "    <tr>\n",
       "      <th>2020</th>\n",
       "      <td>4212334</td>\n",
       "      <td>421234</td>\n",
       "      <td>4214</td>\n",
       "      <td>9996.060750</td>\n",
       "    </tr>\n",
       "    <tr>\n",
       "      <th rowspan=\"2\" valign=\"top\">부산광역시</th>\n",
       "      <th>2010</th>\n",
       "      <td>200000</td>\n",
       "      <td>20000</td>\n",
       "      <td>9000</td>\n",
       "      <td>222.222222</td>\n",
       "    </tr>\n",
       "    <tr>\n",
       "      <th>2020</th>\n",
       "      <td>300000</td>\n",
       "      <td>30000</td>\n",
       "      <td>9000</td>\n",
       "      <td>333.333333</td>\n",
       "    </tr>\n",
       "    <tr>\n",
       "      <th rowspan=\"2\" valign=\"top\">서울특별시</th>\n",
       "      <th>2010</th>\n",
       "      <td>100000</td>\n",
       "      <td>10000</td>\n",
       "      <td>100</td>\n",
       "      <td>10000.000000</td>\n",
       "    </tr>\n",
       "    <tr>\n",
       "      <th>2020</th>\n",
       "      <td>200000</td>\n",
       "      <td>20000</td>\n",
       "      <td>200</td>\n",
       "      <td>10000.000000</td>\n",
       "    </tr>\n",
       "    <tr>\n",
       "      <th rowspan=\"2\" valign=\"top\">인천광역시</th>\n",
       "      <th>2010</th>\n",
       "      <td>400000</td>\n",
       "      <td>40000</td>\n",
       "      <td>400</td>\n",
       "      <td>10000.000000</td>\n",
       "    </tr>\n",
       "    <tr>\n",
       "      <th>2020</th>\n",
       "      <td>403030</td>\n",
       "      <td>40300</td>\n",
       "      <td>403</td>\n",
       "      <td>10000.000000</td>\n",
       "    </tr>\n",
       "  </tbody>\n",
       "</table>\n",
       "</div>"
      ],
      "text/plain": [
       "               총인구수   남자인구수  여자인구수          남여비율\n",
       "행정구역  년도                                        \n",
       "광주광역시 2010  1010202  100202   1002  10000.199601\n",
       "      2020  9998777  999877   9997  10001.770531\n",
       "대구광역시 2010  2020202  202002   2020  10000.099010\n",
       "      2020  2010207  201007   2010  10000.348259\n",
       "대전광역시 2010  2010101  201101   2001  10050.024988\n",
       "      2020  4212334  421234   4214   9996.060750\n",
       "부산광역시 2010   200000   20000   9000    222.222222\n",
       "      2020   300000   30000   9000    333.333333\n",
       "서울특별시 2010   100000   10000    100  10000.000000\n",
       "      2020   200000   20000    200  10000.000000\n",
       "인천광역시 2010   400000   40000    400  10000.000000\n",
       "      2020   403030   40300    403  10000.000000"
      ]
     },
     "execution_count": 97,
     "metadata": {},
     "output_type": "execute_result"
    }
   ],
   "source": [
    "# korea_mdf['서울특별시':'인천광역시'] # 정렬을 해줘야함.\n",
    "\n",
    "korea_mdf = korea_mdf.sort_index()\n",
    "korea_mdf"
   ]
  },
  {
   "cell_type": "code",
   "execution_count": 98,
   "metadata": {
    "id": "4928t860U-Ot"
   },
   "outputs": [
    {
     "data": {
      "text/html": [
       "<div>\n",
       "<style scoped>\n",
       "    .dataframe tbody tr th:only-of-type {\n",
       "        vertical-align: middle;\n",
       "    }\n",
       "\n",
       "    .dataframe tbody tr th {\n",
       "        vertical-align: top;\n",
       "    }\n",
       "\n",
       "    .dataframe thead th {\n",
       "        text-align: right;\n",
       "    }\n",
       "</style>\n",
       "<table border=\"1\" class=\"dataframe\">\n",
       "  <thead>\n",
       "    <tr style=\"text-align: right;\">\n",
       "      <th></th>\n",
       "      <th></th>\n",
       "      <th>총인구수</th>\n",
       "      <th>남자인구수</th>\n",
       "      <th>여자인구수</th>\n",
       "      <th>남여비율</th>\n",
       "    </tr>\n",
       "    <tr>\n",
       "      <th>행정구역</th>\n",
       "      <th>년도</th>\n",
       "      <th></th>\n",
       "      <th></th>\n",
       "      <th></th>\n",
       "      <th></th>\n",
       "    </tr>\n",
       "  </thead>\n",
       "  <tbody>\n",
       "    <tr>\n",
       "      <th rowspan=\"2\" valign=\"top\">서울특별시</th>\n",
       "      <th>2010</th>\n",
       "      <td>100000</td>\n",
       "      <td>10000</td>\n",
       "      <td>100</td>\n",
       "      <td>10000.0</td>\n",
       "    </tr>\n",
       "    <tr>\n",
       "      <th>2020</th>\n",
       "      <td>200000</td>\n",
       "      <td>20000</td>\n",
       "      <td>200</td>\n",
       "      <td>10000.0</td>\n",
       "    </tr>\n",
       "    <tr>\n",
       "      <th rowspan=\"2\" valign=\"top\">인천광역시</th>\n",
       "      <th>2010</th>\n",
       "      <td>400000</td>\n",
       "      <td>40000</td>\n",
       "      <td>400</td>\n",
       "      <td>10000.0</td>\n",
       "    </tr>\n",
       "    <tr>\n",
       "      <th>2020</th>\n",
       "      <td>403030</td>\n",
       "      <td>40300</td>\n",
       "      <td>403</td>\n",
       "      <td>10000.0</td>\n",
       "    </tr>\n",
       "  </tbody>\n",
       "</table>\n",
       "</div>"
      ],
      "text/plain": [
       "              총인구수  남자인구수  여자인구수     남여비율\n",
       "행정구역  년도                                 \n",
       "서울특별시 2010  100000  10000    100  10000.0\n",
       "      2020  200000  20000    200  10000.0\n",
       "인천광역시 2010  400000  40000    400  10000.0\n",
       "      2020  403030  40300    403  10000.0"
      ]
     },
     "execution_count": 98,
     "metadata": {},
     "output_type": "execute_result"
    }
   ],
   "source": [
    "korea_mdf['서울특별시':'인천광역시']"
   ]
  },
  {
   "cell_type": "code",
   "execution_count": 99,
   "metadata": {
    "id": "x0XfqiPwVaId"
   },
   "outputs": [
    {
     "data": {
      "text/html": [
       "<div>\n",
       "<style scoped>\n",
       "    .dataframe tbody tr th:only-of-type {\n",
       "        vertical-align: middle;\n",
       "    }\n",
       "\n",
       "    .dataframe tbody tr th {\n",
       "        vertical-align: top;\n",
       "    }\n",
       "\n",
       "    .dataframe thead tr th {\n",
       "        text-align: left;\n",
       "    }\n",
       "\n",
       "    .dataframe thead tr:last-of-type th {\n",
       "        text-align: right;\n",
       "    }\n",
       "</style>\n",
       "<table border=\"1\" class=\"dataframe\">\n",
       "  <thead>\n",
       "    <tr>\n",
       "      <th></th>\n",
       "      <th colspan=\"6\" halign=\"left\">총인구수</th>\n",
       "      <th colspan=\"4\" halign=\"left\">남자인구수</th>\n",
       "      <th>...</th>\n",
       "      <th colspan=\"4\" halign=\"left\">여자인구수</th>\n",
       "      <th colspan=\"6\" halign=\"left\">남여비율</th>\n",
       "    </tr>\n",
       "    <tr>\n",
       "      <th>행정구역</th>\n",
       "      <th>광주광역시</th>\n",
       "      <th>대구광역시</th>\n",
       "      <th>대전광역시</th>\n",
       "      <th>부산광역시</th>\n",
       "      <th>서울특별시</th>\n",
       "      <th>인천광역시</th>\n",
       "      <th>광주광역시</th>\n",
       "      <th>대구광역시</th>\n",
       "      <th>대전광역시</th>\n",
       "      <th>부산광역시</th>\n",
       "      <th>...</th>\n",
       "      <th>대전광역시</th>\n",
       "      <th>부산광역시</th>\n",
       "      <th>서울특별시</th>\n",
       "      <th>인천광역시</th>\n",
       "      <th>광주광역시</th>\n",
       "      <th>대구광역시</th>\n",
       "      <th>대전광역시</th>\n",
       "      <th>부산광역시</th>\n",
       "      <th>서울특별시</th>\n",
       "      <th>인천광역시</th>\n",
       "    </tr>\n",
       "    <tr>\n",
       "      <th>년도</th>\n",
       "      <th></th>\n",
       "      <th></th>\n",
       "      <th></th>\n",
       "      <th></th>\n",
       "      <th></th>\n",
       "      <th></th>\n",
       "      <th></th>\n",
       "      <th></th>\n",
       "      <th></th>\n",
       "      <th></th>\n",
       "      <th></th>\n",
       "      <th></th>\n",
       "      <th></th>\n",
       "      <th></th>\n",
       "      <th></th>\n",
       "      <th></th>\n",
       "      <th></th>\n",
       "      <th></th>\n",
       "      <th></th>\n",
       "      <th></th>\n",
       "      <th></th>\n",
       "    </tr>\n",
       "  </thead>\n",
       "  <tbody>\n",
       "    <tr>\n",
       "      <th>2010</th>\n",
       "      <td>1010202</td>\n",
       "      <td>2020202</td>\n",
       "      <td>2010101</td>\n",
       "      <td>200000</td>\n",
       "      <td>100000</td>\n",
       "      <td>400000</td>\n",
       "      <td>100202</td>\n",
       "      <td>202002</td>\n",
       "      <td>201101</td>\n",
       "      <td>20000</td>\n",
       "      <td>...</td>\n",
       "      <td>2001</td>\n",
       "      <td>9000</td>\n",
       "      <td>100</td>\n",
       "      <td>400</td>\n",
       "      <td>10000.199601</td>\n",
       "      <td>10000.099010</td>\n",
       "      <td>10050.024988</td>\n",
       "      <td>222.222222</td>\n",
       "      <td>10000.0</td>\n",
       "      <td>10000.0</td>\n",
       "    </tr>\n",
       "    <tr>\n",
       "      <th>2020</th>\n",
       "      <td>9998777</td>\n",
       "      <td>2010207</td>\n",
       "      <td>4212334</td>\n",
       "      <td>300000</td>\n",
       "      <td>200000</td>\n",
       "      <td>403030</td>\n",
       "      <td>999877</td>\n",
       "      <td>201007</td>\n",
       "      <td>421234</td>\n",
       "      <td>30000</td>\n",
       "      <td>...</td>\n",
       "      <td>4214</td>\n",
       "      <td>9000</td>\n",
       "      <td>200</td>\n",
       "      <td>403</td>\n",
       "      <td>10001.770531</td>\n",
       "      <td>10000.348259</td>\n",
       "      <td>9996.060750</td>\n",
       "      <td>333.333333</td>\n",
       "      <td>10000.0</td>\n",
       "      <td>10000.0</td>\n",
       "    </tr>\n",
       "  </tbody>\n",
       "</table>\n",
       "<p>2 rows × 24 columns</p>\n",
       "</div>"
      ],
      "text/plain": [
       "         총인구수                                             남자인구수          \\\n",
       "행정구역    광주광역시    대구광역시    대전광역시   부산광역시   서울특별시   인천광역시   광주광역시   대구광역시   \n",
       "년도                                                                        \n",
       "2010  1010202  2020202  2010101  200000  100000  400000  100202  202002   \n",
       "2020  9998777  2010207  4212334  300000  200000  403030  999877  201007   \n",
       "\n",
       "                     ... 여자인구수                            남여비율                \\\n",
       "행정구역   대전광역시  부산광역시  ... 대전광역시 부산광역시 서울특별시 인천광역시         광주광역시         대구광역시   \n",
       "년도                   ...                                                       \n",
       "2010  201101  20000  ...  2001  9000   100   400  10000.199601  10000.099010   \n",
       "2020  421234  30000  ...  4214  9000   200   403  10001.770531  10000.348259   \n",
       "\n",
       "                                                  \n",
       "행정구역         대전광역시       부산광역시    서울특별시    인천광역시  \n",
       "년도                                                \n",
       "2010  10050.024988  222.222222  10000.0  10000.0  \n",
       "2020   9996.060750  333.333333  10000.0  10000.0  \n",
       "\n",
       "[2 rows x 24 columns]"
      ]
     },
     "execution_count": 99,
     "metadata": {},
     "output_type": "execute_result"
    }
   ],
   "source": [
    "korea_mdf.unstack(level=0)"
   ]
  },
  {
   "cell_type": "code",
   "execution_count": 100,
   "metadata": {
    "id": "K-x8Kr_lVpUC"
   },
   "outputs": [
    {
     "data": {
      "text/html": [
       "<div>\n",
       "<style scoped>\n",
       "    .dataframe tbody tr th:only-of-type {\n",
       "        vertical-align: middle;\n",
       "    }\n",
       "\n",
       "    .dataframe tbody tr th {\n",
       "        vertical-align: top;\n",
       "    }\n",
       "\n",
       "    .dataframe thead tr th {\n",
       "        text-align: left;\n",
       "    }\n",
       "\n",
       "    .dataframe thead tr:last-of-type th {\n",
       "        text-align: right;\n",
       "    }\n",
       "</style>\n",
       "<table border=\"1\" class=\"dataframe\">\n",
       "  <thead>\n",
       "    <tr>\n",
       "      <th></th>\n",
       "      <th colspan=\"2\" halign=\"left\">총인구수</th>\n",
       "      <th colspan=\"2\" halign=\"left\">남자인구수</th>\n",
       "      <th colspan=\"2\" halign=\"left\">여자인구수</th>\n",
       "      <th colspan=\"2\" halign=\"left\">남여비율</th>\n",
       "    </tr>\n",
       "    <tr>\n",
       "      <th>년도</th>\n",
       "      <th>2010</th>\n",
       "      <th>2020</th>\n",
       "      <th>2010</th>\n",
       "      <th>2020</th>\n",
       "      <th>2010</th>\n",
       "      <th>2020</th>\n",
       "      <th>2010</th>\n",
       "      <th>2020</th>\n",
       "    </tr>\n",
       "    <tr>\n",
       "      <th>행정구역</th>\n",
       "      <th></th>\n",
       "      <th></th>\n",
       "      <th></th>\n",
       "      <th></th>\n",
       "      <th></th>\n",
       "      <th></th>\n",
       "      <th></th>\n",
       "      <th></th>\n",
       "    </tr>\n",
       "  </thead>\n",
       "  <tbody>\n",
       "    <tr>\n",
       "      <th>광주광역시</th>\n",
       "      <td>1010202</td>\n",
       "      <td>9998777</td>\n",
       "      <td>100202</td>\n",
       "      <td>999877</td>\n",
       "      <td>1002</td>\n",
       "      <td>9997</td>\n",
       "      <td>10000.199601</td>\n",
       "      <td>10001.770531</td>\n",
       "    </tr>\n",
       "    <tr>\n",
       "      <th>대구광역시</th>\n",
       "      <td>2020202</td>\n",
       "      <td>2010207</td>\n",
       "      <td>202002</td>\n",
       "      <td>201007</td>\n",
       "      <td>2020</td>\n",
       "      <td>2010</td>\n",
       "      <td>10000.099010</td>\n",
       "      <td>10000.348259</td>\n",
       "    </tr>\n",
       "    <tr>\n",
       "      <th>대전광역시</th>\n",
       "      <td>2010101</td>\n",
       "      <td>4212334</td>\n",
       "      <td>201101</td>\n",
       "      <td>421234</td>\n",
       "      <td>2001</td>\n",
       "      <td>4214</td>\n",
       "      <td>10050.024988</td>\n",
       "      <td>9996.060750</td>\n",
       "    </tr>\n",
       "    <tr>\n",
       "      <th>부산광역시</th>\n",
       "      <td>200000</td>\n",
       "      <td>300000</td>\n",
       "      <td>20000</td>\n",
       "      <td>30000</td>\n",
       "      <td>9000</td>\n",
       "      <td>9000</td>\n",
       "      <td>222.222222</td>\n",
       "      <td>333.333333</td>\n",
       "    </tr>\n",
       "    <tr>\n",
       "      <th>서울특별시</th>\n",
       "      <td>100000</td>\n",
       "      <td>200000</td>\n",
       "      <td>10000</td>\n",
       "      <td>20000</td>\n",
       "      <td>100</td>\n",
       "      <td>200</td>\n",
       "      <td>10000.000000</td>\n",
       "      <td>10000.000000</td>\n",
       "    </tr>\n",
       "    <tr>\n",
       "      <th>인천광역시</th>\n",
       "      <td>400000</td>\n",
       "      <td>403030</td>\n",
       "      <td>40000</td>\n",
       "      <td>40300</td>\n",
       "      <td>400</td>\n",
       "      <td>403</td>\n",
       "      <td>10000.000000</td>\n",
       "      <td>10000.000000</td>\n",
       "    </tr>\n",
       "  </tbody>\n",
       "</table>\n",
       "</div>"
      ],
      "text/plain": [
       "          총인구수            남자인구수         여자인구수                남여비율  \\\n",
       "년도        2010     2020    2010    2020  2010  2020          2010   \n",
       "행정구역                                                                \n",
       "광주광역시  1010202  9998777  100202  999877  1002  9997  10000.199601   \n",
       "대구광역시  2020202  2010207  202002  201007  2020  2010  10000.099010   \n",
       "대전광역시  2010101  4212334  201101  421234  2001  4214  10050.024988   \n",
       "부산광역시   200000   300000   20000   30000  9000  9000    222.222222   \n",
       "서울특별시   100000   200000   10000   20000   100   200  10000.000000   \n",
       "인천광역시   400000   403030   40000   40300   400   403  10000.000000   \n",
       "\n",
       "                     \n",
       "년도             2020  \n",
       "행정구역                 \n",
       "광주광역시  10001.770531  \n",
       "대구광역시  10000.348259  \n",
       "대전광역시   9996.060750  \n",
       "부산광역시    333.333333  \n",
       "서울특별시  10000.000000  \n",
       "인천광역시  10000.000000  "
      ]
     },
     "execution_count": 100,
     "metadata": {},
     "output_type": "execute_result"
    }
   ],
   "source": [
    "korea_mdf.unstack(level=1)"
   ]
  },
  {
   "cell_type": "code",
   "execution_count": 101,
   "metadata": {
    "id": "rWxg_YXIVw6x"
   },
   "outputs": [
    {
     "data": {
      "text/plain": [
       "행정구역   년도         \n",
       "광주광역시  2010  총인구수     1.010202e+06\n",
       "             남자인구수    1.002020e+05\n",
       "             여자인구수    1.002000e+03\n",
       "             남여비율     1.000020e+04\n",
       "       2020  총인구수     9.998777e+06\n",
       "             남자인구수    9.998770e+05\n",
       "             여자인구수    9.997000e+03\n",
       "             남여비율     1.000177e+04\n",
       "대구광역시  2010  총인구수     2.020202e+06\n",
       "             남자인구수    2.020020e+05\n",
       "             여자인구수    2.020000e+03\n",
       "             남여비율     1.000010e+04\n",
       "       2020  총인구수     2.010207e+06\n",
       "             남자인구수    2.010070e+05\n",
       "             여자인구수    2.010000e+03\n",
       "             남여비율     1.000035e+04\n",
       "대전광역시  2010  총인구수     2.010101e+06\n",
       "             남자인구수    2.011010e+05\n",
       "             여자인구수    2.001000e+03\n",
       "             남여비율     1.005002e+04\n",
       "       2020  총인구수     4.212334e+06\n",
       "             남자인구수    4.212340e+05\n",
       "             여자인구수    4.214000e+03\n",
       "             남여비율     9.996061e+03\n",
       "부산광역시  2010  총인구수     2.000000e+05\n",
       "             남자인구수    2.000000e+04\n",
       "             여자인구수    9.000000e+03\n",
       "             남여비율     2.222222e+02\n",
       "       2020  총인구수     3.000000e+05\n",
       "             남자인구수    3.000000e+04\n",
       "             여자인구수    9.000000e+03\n",
       "             남여비율     3.333333e+02\n",
       "서울특별시  2010  총인구수     1.000000e+05\n",
       "             남자인구수    1.000000e+04\n",
       "             여자인구수    1.000000e+02\n",
       "             남여비율     1.000000e+04\n",
       "       2020  총인구수     2.000000e+05\n",
       "             남자인구수    2.000000e+04\n",
       "             여자인구수    2.000000e+02\n",
       "             남여비율     1.000000e+04\n",
       "인천광역시  2010  총인구수     4.000000e+05\n",
       "             남자인구수    4.000000e+04\n",
       "             여자인구수    4.000000e+02\n",
       "             남여비율     1.000000e+04\n",
       "       2020  총인구수     4.030300e+05\n",
       "             남자인구수    4.030000e+04\n",
       "             여자인구수    4.030000e+02\n",
       "             남여비율     1.000000e+04\n",
       "dtype: float64"
      ]
     },
     "execution_count": 101,
     "metadata": {},
     "output_type": "execute_result"
    }
   ],
   "source": [
    "korea_mdf.stack()"
   ]
  },
  {
   "cell_type": "code",
   "execution_count": 102,
   "metadata": {
    "id": "tSCUmYovYiAA"
   },
   "outputs": [
    {
     "data": {
      "text/html": [
       "<div>\n",
       "<style scoped>\n",
       "    .dataframe tbody tr th:only-of-type {\n",
       "        vertical-align: middle;\n",
       "    }\n",
       "\n",
       "    .dataframe tbody tr th {\n",
       "        vertical-align: top;\n",
       "    }\n",
       "\n",
       "    .dataframe thead th {\n",
       "        text-align: right;\n",
       "    }\n",
       "</style>\n",
       "<table border=\"1\" class=\"dataframe\">\n",
       "  <thead>\n",
       "    <tr style=\"text-align: right;\">\n",
       "      <th></th>\n",
       "      <th></th>\n",
       "      <th>총인구수</th>\n",
       "      <th>남자인구수</th>\n",
       "      <th>여자인구수</th>\n",
       "      <th>남여비율</th>\n",
       "    </tr>\n",
       "    <tr>\n",
       "      <th>행정구역</th>\n",
       "      <th>년도</th>\n",
       "      <th></th>\n",
       "      <th></th>\n",
       "      <th></th>\n",
       "      <th></th>\n",
       "    </tr>\n",
       "  </thead>\n",
       "  <tbody>\n",
       "    <tr>\n",
       "      <th rowspan=\"2\" valign=\"top\">광주광역시</th>\n",
       "      <th>2010</th>\n",
       "      <td>1010202</td>\n",
       "      <td>100202</td>\n",
       "      <td>1002</td>\n",
       "      <td>10000.199601</td>\n",
       "    </tr>\n",
       "    <tr>\n",
       "      <th>2020</th>\n",
       "      <td>9998777</td>\n",
       "      <td>999877</td>\n",
       "      <td>9997</td>\n",
       "      <td>10001.770531</td>\n",
       "    </tr>\n",
       "    <tr>\n",
       "      <th rowspan=\"2\" valign=\"top\">대구광역시</th>\n",
       "      <th>2010</th>\n",
       "      <td>2020202</td>\n",
       "      <td>202002</td>\n",
       "      <td>2020</td>\n",
       "      <td>10000.099010</td>\n",
       "    </tr>\n",
       "    <tr>\n",
       "      <th>2020</th>\n",
       "      <td>2010207</td>\n",
       "      <td>201007</td>\n",
       "      <td>2010</td>\n",
       "      <td>10000.348259</td>\n",
       "    </tr>\n",
       "    <tr>\n",
       "      <th rowspan=\"2\" valign=\"top\">대전광역시</th>\n",
       "      <th>2010</th>\n",
       "      <td>2010101</td>\n",
       "      <td>201101</td>\n",
       "      <td>2001</td>\n",
       "      <td>10050.024988</td>\n",
       "    </tr>\n",
       "    <tr>\n",
       "      <th>2020</th>\n",
       "      <td>4212334</td>\n",
       "      <td>421234</td>\n",
       "      <td>4214</td>\n",
       "      <td>9996.060750</td>\n",
       "    </tr>\n",
       "    <tr>\n",
       "      <th rowspan=\"2\" valign=\"top\">부산광역시</th>\n",
       "      <th>2010</th>\n",
       "      <td>200000</td>\n",
       "      <td>20000</td>\n",
       "      <td>9000</td>\n",
       "      <td>222.222222</td>\n",
       "    </tr>\n",
       "    <tr>\n",
       "      <th>2020</th>\n",
       "      <td>300000</td>\n",
       "      <td>30000</td>\n",
       "      <td>9000</td>\n",
       "      <td>333.333333</td>\n",
       "    </tr>\n",
       "    <tr>\n",
       "      <th rowspan=\"2\" valign=\"top\">서울특별시</th>\n",
       "      <th>2010</th>\n",
       "      <td>100000</td>\n",
       "      <td>10000</td>\n",
       "      <td>100</td>\n",
       "      <td>10000.000000</td>\n",
       "    </tr>\n",
       "    <tr>\n",
       "      <th>2020</th>\n",
       "      <td>200000</td>\n",
       "      <td>20000</td>\n",
       "      <td>200</td>\n",
       "      <td>10000.000000</td>\n",
       "    </tr>\n",
       "    <tr>\n",
       "      <th rowspan=\"2\" valign=\"top\">인천광역시</th>\n",
       "      <th>2010</th>\n",
       "      <td>400000</td>\n",
       "      <td>40000</td>\n",
       "      <td>400</td>\n",
       "      <td>10000.000000</td>\n",
       "    </tr>\n",
       "    <tr>\n",
       "      <th>2020</th>\n",
       "      <td>403030</td>\n",
       "      <td>40300</td>\n",
       "      <td>403</td>\n",
       "      <td>10000.000000</td>\n",
       "    </tr>\n",
       "  </tbody>\n",
       "</table>\n",
       "</div>"
      ],
      "text/plain": [
       "               총인구수   남자인구수  여자인구수          남여비율\n",
       "행정구역  년도                                        \n",
       "광주광역시 2010  1010202  100202   1002  10000.199601\n",
       "      2020  9998777  999877   9997  10001.770531\n",
       "대구광역시 2010  2020202  202002   2020  10000.099010\n",
       "      2020  2010207  201007   2010  10000.348259\n",
       "대전광역시 2010  2010101  201101   2001  10050.024988\n",
       "      2020  4212334  421234   4214   9996.060750\n",
       "부산광역시 2010   200000   20000   9000    222.222222\n",
       "      2020   300000   30000   9000    333.333333\n",
       "서울특별시 2010   100000   10000    100  10000.000000\n",
       "      2020   200000   20000    200  10000.000000\n",
       "인천광역시 2010   400000   40000    400  10000.000000\n",
       "      2020   403030   40300    403  10000.000000"
      ]
     },
     "execution_count": 102,
     "metadata": {},
     "output_type": "execute_result"
    }
   ],
   "source": [
    "korea_mdf"
   ]
  },
  {
   "cell_type": "code",
   "execution_count": 103,
   "metadata": {
    "id": "wdWqvOFZWJPf"
   },
   "outputs": [
    {
     "data": {
      "text/html": [
       "<div>\n",
       "<style scoped>\n",
       "    .dataframe tbody tr th:only-of-type {\n",
       "        vertical-align: middle;\n",
       "    }\n",
       "\n",
       "    .dataframe tbody tr th {\n",
       "        vertical-align: top;\n",
       "    }\n",
       "\n",
       "    .dataframe thead th {\n",
       "        text-align: right;\n",
       "    }\n",
       "</style>\n",
       "<table border=\"1\" class=\"dataframe\">\n",
       "  <thead>\n",
       "    <tr style=\"text-align: right;\">\n",
       "      <th></th>\n",
       "      <th>행정구역</th>\n",
       "      <th>총인구수</th>\n",
       "      <th>남자인구수</th>\n",
       "      <th>여자인구수</th>\n",
       "      <th>남여비율</th>\n",
       "    </tr>\n",
       "    <tr>\n",
       "      <th>년도</th>\n",
       "      <th></th>\n",
       "      <th></th>\n",
       "      <th></th>\n",
       "      <th></th>\n",
       "      <th></th>\n",
       "    </tr>\n",
       "  </thead>\n",
       "  <tbody>\n",
       "    <tr>\n",
       "      <th>2010</th>\n",
       "      <td>광주광역시</td>\n",
       "      <td>1010202</td>\n",
       "      <td>100202</td>\n",
       "      <td>1002</td>\n",
       "      <td>10000.199601</td>\n",
       "    </tr>\n",
       "    <tr>\n",
       "      <th>2020</th>\n",
       "      <td>광주광역시</td>\n",
       "      <td>9998777</td>\n",
       "      <td>999877</td>\n",
       "      <td>9997</td>\n",
       "      <td>10001.770531</td>\n",
       "    </tr>\n",
       "    <tr>\n",
       "      <th>2010</th>\n",
       "      <td>대구광역시</td>\n",
       "      <td>2020202</td>\n",
       "      <td>202002</td>\n",
       "      <td>2020</td>\n",
       "      <td>10000.099010</td>\n",
       "    </tr>\n",
       "    <tr>\n",
       "      <th>2020</th>\n",
       "      <td>대구광역시</td>\n",
       "      <td>2010207</td>\n",
       "      <td>201007</td>\n",
       "      <td>2010</td>\n",
       "      <td>10000.348259</td>\n",
       "    </tr>\n",
       "    <tr>\n",
       "      <th>2010</th>\n",
       "      <td>대전광역시</td>\n",
       "      <td>2010101</td>\n",
       "      <td>201101</td>\n",
       "      <td>2001</td>\n",
       "      <td>10050.024988</td>\n",
       "    </tr>\n",
       "    <tr>\n",
       "      <th>2020</th>\n",
       "      <td>대전광역시</td>\n",
       "      <td>4212334</td>\n",
       "      <td>421234</td>\n",
       "      <td>4214</td>\n",
       "      <td>9996.060750</td>\n",
       "    </tr>\n",
       "    <tr>\n",
       "      <th>2010</th>\n",
       "      <td>부산광역시</td>\n",
       "      <td>200000</td>\n",
       "      <td>20000</td>\n",
       "      <td>9000</td>\n",
       "      <td>222.222222</td>\n",
       "    </tr>\n",
       "    <tr>\n",
       "      <th>2020</th>\n",
       "      <td>부산광역시</td>\n",
       "      <td>300000</td>\n",
       "      <td>30000</td>\n",
       "      <td>9000</td>\n",
       "      <td>333.333333</td>\n",
       "    </tr>\n",
       "    <tr>\n",
       "      <th>2010</th>\n",
       "      <td>서울특별시</td>\n",
       "      <td>100000</td>\n",
       "      <td>10000</td>\n",
       "      <td>100</td>\n",
       "      <td>10000.000000</td>\n",
       "    </tr>\n",
       "    <tr>\n",
       "      <th>2020</th>\n",
       "      <td>서울특별시</td>\n",
       "      <td>200000</td>\n",
       "      <td>20000</td>\n",
       "      <td>200</td>\n",
       "      <td>10000.000000</td>\n",
       "    </tr>\n",
       "    <tr>\n",
       "      <th>2010</th>\n",
       "      <td>인천광역시</td>\n",
       "      <td>400000</td>\n",
       "      <td>40000</td>\n",
       "      <td>400</td>\n",
       "      <td>10000.000000</td>\n",
       "    </tr>\n",
       "    <tr>\n",
       "      <th>2020</th>\n",
       "      <td>인천광역시</td>\n",
       "      <td>403030</td>\n",
       "      <td>40300</td>\n",
       "      <td>403</td>\n",
       "      <td>10000.000000</td>\n",
       "    </tr>\n",
       "  </tbody>\n",
       "</table>\n",
       "</div>"
      ],
      "text/plain": [
       "       행정구역     총인구수   남자인구수  여자인구수          남여비율\n",
       "년도                                               \n",
       "2010  광주광역시  1010202  100202   1002  10000.199601\n",
       "2020  광주광역시  9998777  999877   9997  10001.770531\n",
       "2010  대구광역시  2020202  202002   2020  10000.099010\n",
       "2020  대구광역시  2010207  201007   2010  10000.348259\n",
       "2010  대전광역시  2010101  201101   2001  10050.024988\n",
       "2020  대전광역시  4212334  421234   4214   9996.060750\n",
       "2010  부산광역시   200000   20000   9000    222.222222\n",
       "2020  부산광역시   300000   30000   9000    333.333333\n",
       "2010  서울특별시   100000   10000    100  10000.000000\n",
       "2020  서울특별시   200000   20000    200  10000.000000\n",
       "2010  인천광역시   400000   40000    400  10000.000000\n",
       "2020  인천광역시   403030   40300    403  10000.000000"
      ]
     },
     "execution_count": 103,
     "metadata": {},
     "output_type": "execute_result"
    }
   ],
   "source": [
    "idx_flat = korea_mdf.reset_index(level=0)\n",
    "idx_flat"
   ]
  },
  {
   "cell_type": "code",
   "execution_count": 104,
   "metadata": {
    "id": "6LozVYW-W_Rx"
   },
   "outputs": [
    {
     "data": {
      "text/html": [
       "<div>\n",
       "<style scoped>\n",
       "    .dataframe tbody tr th:only-of-type {\n",
       "        vertical-align: middle;\n",
       "    }\n",
       "\n",
       "    .dataframe tbody tr th {\n",
       "        vertical-align: top;\n",
       "    }\n",
       "\n",
       "    .dataframe thead th {\n",
       "        text-align: right;\n",
       "    }\n",
       "</style>\n",
       "<table border=\"1\" class=\"dataframe\">\n",
       "  <thead>\n",
       "    <tr style=\"text-align: right;\">\n",
       "      <th></th>\n",
       "      <th>행정구역</th>\n",
       "      <th>년도</th>\n",
       "      <th>총인구수</th>\n",
       "      <th>남자인구수</th>\n",
       "      <th>여자인구수</th>\n",
       "      <th>남여비율</th>\n",
       "    </tr>\n",
       "  </thead>\n",
       "  <tbody>\n",
       "    <tr>\n",
       "      <th>0</th>\n",
       "      <td>광주광역시</td>\n",
       "      <td>2010</td>\n",
       "      <td>1010202</td>\n",
       "      <td>100202</td>\n",
       "      <td>1002</td>\n",
       "      <td>10000.199601</td>\n",
       "    </tr>\n",
       "    <tr>\n",
       "      <th>1</th>\n",
       "      <td>광주광역시</td>\n",
       "      <td>2020</td>\n",
       "      <td>9998777</td>\n",
       "      <td>999877</td>\n",
       "      <td>9997</td>\n",
       "      <td>10001.770531</td>\n",
       "    </tr>\n",
       "    <tr>\n",
       "      <th>2</th>\n",
       "      <td>대구광역시</td>\n",
       "      <td>2010</td>\n",
       "      <td>2020202</td>\n",
       "      <td>202002</td>\n",
       "      <td>2020</td>\n",
       "      <td>10000.099010</td>\n",
       "    </tr>\n",
       "    <tr>\n",
       "      <th>3</th>\n",
       "      <td>대구광역시</td>\n",
       "      <td>2020</td>\n",
       "      <td>2010207</td>\n",
       "      <td>201007</td>\n",
       "      <td>2010</td>\n",
       "      <td>10000.348259</td>\n",
       "    </tr>\n",
       "    <tr>\n",
       "      <th>4</th>\n",
       "      <td>대전광역시</td>\n",
       "      <td>2010</td>\n",
       "      <td>2010101</td>\n",
       "      <td>201101</td>\n",
       "      <td>2001</td>\n",
       "      <td>10050.024988</td>\n",
       "    </tr>\n",
       "    <tr>\n",
       "      <th>5</th>\n",
       "      <td>대전광역시</td>\n",
       "      <td>2020</td>\n",
       "      <td>4212334</td>\n",
       "      <td>421234</td>\n",
       "      <td>4214</td>\n",
       "      <td>9996.060750</td>\n",
       "    </tr>\n",
       "    <tr>\n",
       "      <th>6</th>\n",
       "      <td>부산광역시</td>\n",
       "      <td>2010</td>\n",
       "      <td>200000</td>\n",
       "      <td>20000</td>\n",
       "      <td>9000</td>\n",
       "      <td>222.222222</td>\n",
       "    </tr>\n",
       "    <tr>\n",
       "      <th>7</th>\n",
       "      <td>부산광역시</td>\n",
       "      <td>2020</td>\n",
       "      <td>300000</td>\n",
       "      <td>30000</td>\n",
       "      <td>9000</td>\n",
       "      <td>333.333333</td>\n",
       "    </tr>\n",
       "    <tr>\n",
       "      <th>8</th>\n",
       "      <td>서울특별시</td>\n",
       "      <td>2010</td>\n",
       "      <td>100000</td>\n",
       "      <td>10000</td>\n",
       "      <td>100</td>\n",
       "      <td>10000.000000</td>\n",
       "    </tr>\n",
       "    <tr>\n",
       "      <th>9</th>\n",
       "      <td>서울특별시</td>\n",
       "      <td>2020</td>\n",
       "      <td>200000</td>\n",
       "      <td>20000</td>\n",
       "      <td>200</td>\n",
       "      <td>10000.000000</td>\n",
       "    </tr>\n",
       "    <tr>\n",
       "      <th>10</th>\n",
       "      <td>인천광역시</td>\n",
       "      <td>2010</td>\n",
       "      <td>400000</td>\n",
       "      <td>40000</td>\n",
       "      <td>400</td>\n",
       "      <td>10000.000000</td>\n",
       "    </tr>\n",
       "    <tr>\n",
       "      <th>11</th>\n",
       "      <td>인천광역시</td>\n",
       "      <td>2020</td>\n",
       "      <td>403030</td>\n",
       "      <td>40300</td>\n",
       "      <td>403</td>\n",
       "      <td>10000.000000</td>\n",
       "    </tr>\n",
       "  </tbody>\n",
       "</table>\n",
       "</div>"
      ],
      "text/plain": [
       "     행정구역    년도     총인구수   남자인구수  여자인구수          남여비율\n",
       "0   광주광역시  2010  1010202  100202   1002  10000.199601\n",
       "1   광주광역시  2020  9998777  999877   9997  10001.770531\n",
       "2   대구광역시  2010  2020202  202002   2020  10000.099010\n",
       "3   대구광역시  2020  2010207  201007   2010  10000.348259\n",
       "4   대전광역시  2010  2010101  201101   2001  10050.024988\n",
       "5   대전광역시  2020  4212334  421234   4214   9996.060750\n",
       "6   부산광역시  2010   200000   20000   9000    222.222222\n",
       "7   부산광역시  2020   300000   30000   9000    333.333333\n",
       "8   서울특별시  2010   100000   10000    100  10000.000000\n",
       "9   서울특별시  2020   200000   20000    200  10000.000000\n",
       "10  인천광역시  2010   400000   40000    400  10000.000000\n",
       "11  인천광역시  2020   403030   40300    403  10000.000000"
      ]
     },
     "execution_count": 104,
     "metadata": {},
     "output_type": "execute_result"
    }
   ],
   "source": [
    "idx_flat = korea_mdf.reset_index(level=(0,1))\n",
    "idx_flat"
   ]
  },
  {
   "cell_type": "code",
   "execution_count": 105,
   "metadata": {
    "id": "185tiItmY5wI"
   },
   "outputs": [
    {
     "data": {
      "text/html": [
       "<div>\n",
       "<style scoped>\n",
       "    .dataframe tbody tr th:only-of-type {\n",
       "        vertical-align: middle;\n",
       "    }\n",
       "\n",
       "    .dataframe tbody tr th {\n",
       "        vertical-align: top;\n",
       "    }\n",
       "\n",
       "    .dataframe thead th {\n",
       "        text-align: right;\n",
       "    }\n",
       "</style>\n",
       "<table border=\"1\" class=\"dataframe\">\n",
       "  <thead>\n",
       "    <tr style=\"text-align: right;\">\n",
       "      <th></th>\n",
       "      <th></th>\n",
       "      <th>총인구수</th>\n",
       "      <th>남자인구수</th>\n",
       "      <th>여자인구수</th>\n",
       "      <th>남여비율</th>\n",
       "    </tr>\n",
       "    <tr>\n",
       "      <th>행정구역</th>\n",
       "      <th>년도</th>\n",
       "      <th></th>\n",
       "      <th></th>\n",
       "      <th></th>\n",
       "      <th></th>\n",
       "    </tr>\n",
       "  </thead>\n",
       "  <tbody>\n",
       "    <tr>\n",
       "      <th rowspan=\"2\" valign=\"top\">광주광역시</th>\n",
       "      <th>2010</th>\n",
       "      <td>1010202</td>\n",
       "      <td>100202</td>\n",
       "      <td>1002</td>\n",
       "      <td>10000.199601</td>\n",
       "    </tr>\n",
       "    <tr>\n",
       "      <th>2020</th>\n",
       "      <td>9998777</td>\n",
       "      <td>999877</td>\n",
       "      <td>9997</td>\n",
       "      <td>10001.770531</td>\n",
       "    </tr>\n",
       "    <tr>\n",
       "      <th rowspan=\"2\" valign=\"top\">대구광역시</th>\n",
       "      <th>2010</th>\n",
       "      <td>2020202</td>\n",
       "      <td>202002</td>\n",
       "      <td>2020</td>\n",
       "      <td>10000.099010</td>\n",
       "    </tr>\n",
       "    <tr>\n",
       "      <th>2020</th>\n",
       "      <td>2010207</td>\n",
       "      <td>201007</td>\n",
       "      <td>2010</td>\n",
       "      <td>10000.348259</td>\n",
       "    </tr>\n",
       "    <tr>\n",
       "      <th rowspan=\"2\" valign=\"top\">대전광역시</th>\n",
       "      <th>2010</th>\n",
       "      <td>2010101</td>\n",
       "      <td>201101</td>\n",
       "      <td>2001</td>\n",
       "      <td>10050.024988</td>\n",
       "    </tr>\n",
       "    <tr>\n",
       "      <th>2020</th>\n",
       "      <td>4212334</td>\n",
       "      <td>421234</td>\n",
       "      <td>4214</td>\n",
       "      <td>9996.060750</td>\n",
       "    </tr>\n",
       "    <tr>\n",
       "      <th rowspan=\"2\" valign=\"top\">부산광역시</th>\n",
       "      <th>2010</th>\n",
       "      <td>200000</td>\n",
       "      <td>20000</td>\n",
       "      <td>9000</td>\n",
       "      <td>222.222222</td>\n",
       "    </tr>\n",
       "    <tr>\n",
       "      <th>2020</th>\n",
       "      <td>300000</td>\n",
       "      <td>30000</td>\n",
       "      <td>9000</td>\n",
       "      <td>333.333333</td>\n",
       "    </tr>\n",
       "    <tr>\n",
       "      <th rowspan=\"2\" valign=\"top\">서울특별시</th>\n",
       "      <th>2010</th>\n",
       "      <td>100000</td>\n",
       "      <td>10000</td>\n",
       "      <td>100</td>\n",
       "      <td>10000.000000</td>\n",
       "    </tr>\n",
       "    <tr>\n",
       "      <th>2020</th>\n",
       "      <td>200000</td>\n",
       "      <td>20000</td>\n",
       "      <td>200</td>\n",
       "      <td>10000.000000</td>\n",
       "    </tr>\n",
       "    <tr>\n",
       "      <th rowspan=\"2\" valign=\"top\">인천광역시</th>\n",
       "      <th>2010</th>\n",
       "      <td>400000</td>\n",
       "      <td>40000</td>\n",
       "      <td>400</td>\n",
       "      <td>10000.000000</td>\n",
       "    </tr>\n",
       "    <tr>\n",
       "      <th>2020</th>\n",
       "      <td>403030</td>\n",
       "      <td>40300</td>\n",
       "      <td>403</td>\n",
       "      <td>10000.000000</td>\n",
       "    </tr>\n",
       "  </tbody>\n",
       "</table>\n",
       "</div>"
      ],
      "text/plain": [
       "               총인구수   남자인구수  여자인구수          남여비율\n",
       "행정구역  년도                                        \n",
       "광주광역시 2010  1010202  100202   1002  10000.199601\n",
       "      2020  9998777  999877   9997  10001.770531\n",
       "대구광역시 2010  2020202  202002   2020  10000.099010\n",
       "      2020  2010207  201007   2010  10000.348259\n",
       "대전광역시 2010  2010101  201101   2001  10050.024988\n",
       "      2020  4212334  421234   4214   9996.060750\n",
       "부산광역시 2010   200000   20000   9000    222.222222\n",
       "      2020   300000   30000   9000    333.333333\n",
       "서울특별시 2010   100000   10000    100  10000.000000\n",
       "      2020   200000   20000    200  10000.000000\n",
       "인천광역시 2010   400000   40000    400  10000.000000\n",
       "      2020   403030   40300    403  10000.000000"
      ]
     },
     "execution_count": 105,
     "metadata": {},
     "output_type": "execute_result"
    }
   ],
   "source": [
    "idx_flat.set_index(['행정구역','년도'])"
   ]
  },
  {
   "cell_type": "markdown",
   "metadata": {
    "id": "iTw6ejGdZuiw"
   },
   "source": [
    "## 데이터 연산"
   ]
  },
  {
   "cell_type": "code",
   "execution_count": 106,
   "metadata": {
    "id": "s89AjfxyYp2u"
   },
   "outputs": [
    {
     "data": {
      "text/plain": [
       "0    1\n",
       "1    6\n",
       "2    5\n",
       "3    5\n",
       "4    7\n",
       "dtype: int32"
      ]
     },
     "execution_count": 106,
     "metadata": {},
     "output_type": "execute_result"
    }
   ],
   "source": [
    "s = pd.Series(np.random.randint(0,10,5))\n",
    "s"
   ]
  },
  {
   "cell_type": "code",
   "execution_count": 107,
   "metadata": {
    "id": "EGXDMOzgZ8EW"
   },
   "outputs": [
    {
     "data": {
      "text/html": [
       "<div>\n",
       "<style scoped>\n",
       "    .dataframe tbody tr th:only-of-type {\n",
       "        vertical-align: middle;\n",
       "    }\n",
       "\n",
       "    .dataframe tbody tr th {\n",
       "        vertical-align: top;\n",
       "    }\n",
       "\n",
       "    .dataframe thead th {\n",
       "        text-align: right;\n",
       "    }\n",
       "</style>\n",
       "<table border=\"1\" class=\"dataframe\">\n",
       "  <thead>\n",
       "    <tr style=\"text-align: right;\">\n",
       "      <th></th>\n",
       "      <th>a</th>\n",
       "      <th>b</th>\n",
       "      <th>c</th>\n",
       "    </tr>\n",
       "  </thead>\n",
       "  <tbody>\n",
       "    <tr>\n",
       "      <th>0</th>\n",
       "      <td>7</td>\n",
       "      <td>1</td>\n",
       "      <td>6</td>\n",
       "    </tr>\n",
       "    <tr>\n",
       "      <th>1</th>\n",
       "      <td>7</td>\n",
       "      <td>3</td>\n",
       "      <td>1</td>\n",
       "    </tr>\n",
       "    <tr>\n",
       "      <th>2</th>\n",
       "      <td>9</td>\n",
       "      <td>3</td>\n",
       "      <td>0</td>\n",
       "    </tr>\n",
       "  </tbody>\n",
       "</table>\n",
       "</div>"
      ],
      "text/plain": [
       "   a  b  c\n",
       "0  7  1  6\n",
       "1  7  3  1\n",
       "2  9  3  0"
      ]
     },
     "execution_count": 107,
     "metadata": {},
     "output_type": "execute_result"
    }
   ],
   "source": [
    "df = pd.DataFrame(np.random.randint(0,10,(3,3)),\n",
    "                 columns = ['a','b','c'])\n",
    "df"
   ]
  },
  {
   "cell_type": "code",
   "execution_count": 108,
   "metadata": {
    "id": "iBbFzDqFabQv"
   },
   "outputs": [
    {
     "data": {
      "text/plain": [
       "0       2.718282\n",
       "1     403.428793\n",
       "2     148.413159\n",
       "3     148.413159\n",
       "4    1096.633158\n",
       "dtype: float64"
      ]
     },
     "execution_count": 108,
     "metadata": {},
     "output_type": "execute_result"
    }
   ],
   "source": [
    "np.exp(s)"
   ]
  },
  {
   "cell_type": "code",
   "execution_count": 109,
   "metadata": {
    "id": "LGsnlcjfagUv"
   },
   "outputs": [
    {
     "data": {
      "text/html": [
       "<div>\n",
       "<style scoped>\n",
       "    .dataframe tbody tr th:only-of-type {\n",
       "        vertical-align: middle;\n",
       "    }\n",
       "\n",
       "    .dataframe tbody tr th {\n",
       "        vertical-align: top;\n",
       "    }\n",
       "\n",
       "    .dataframe thead th {\n",
       "        text-align: right;\n",
       "    }\n",
       "</style>\n",
       "<table border=\"1\" class=\"dataframe\">\n",
       "  <thead>\n",
       "    <tr style=\"text-align: right;\">\n",
       "      <th></th>\n",
       "      <th>a</th>\n",
       "      <th>b</th>\n",
       "      <th>c</th>\n",
       "    </tr>\n",
       "  </thead>\n",
       "  <tbody>\n",
       "    <tr>\n",
       "      <th>0</th>\n",
       "      <td>0.707107</td>\n",
       "      <td>0.707107</td>\n",
       "      <td>-1.836970e-16</td>\n",
       "    </tr>\n",
       "    <tr>\n",
       "      <th>1</th>\n",
       "      <td>0.707107</td>\n",
       "      <td>-0.707107</td>\n",
       "      <td>7.071068e-01</td>\n",
       "    </tr>\n",
       "    <tr>\n",
       "      <th>2</th>\n",
       "      <td>0.707107</td>\n",
       "      <td>-0.707107</td>\n",
       "      <td>1.000000e+00</td>\n",
       "    </tr>\n",
       "  </tbody>\n",
       "</table>\n",
       "</div>"
      ],
      "text/plain": [
       "          a         b             c\n",
       "0  0.707107  0.707107 -1.836970e-16\n",
       "1  0.707107 -0.707107  7.071068e-01\n",
       "2  0.707107 -0.707107  1.000000e+00"
      ]
     },
     "execution_count": 109,
     "metadata": {},
     "output_type": "execute_result"
    }
   ],
   "source": [
    "np.cos(df * np.pi / 4)"
   ]
  },
  {
   "cell_type": "code",
   "execution_count": 110,
   "metadata": {
    "id": "lUpXJh0uajOg"
   },
   "outputs": [
    {
     "data": {
      "text/plain": [
       "0     NaN\n",
       "1     5.0\n",
       "2     9.0\n",
       "3    13.0\n",
       "4    17.0\n",
       "5     NaN\n",
       "dtype: float64"
      ]
     },
     "execution_count": 110,
     "metadata": {},
     "output_type": "execute_result"
    }
   ],
   "source": [
    "s1 = pd.Series([1,3,5,7,9], index=[0,1,2,3,4])\n",
    "s2 = pd.Series([2,4,6,8,10], index=[1,2,3,4,5])\n",
    "s1 + s2"
   ]
  },
  {
   "cell_type": "code",
   "execution_count": 111,
   "metadata": {
    "id": "UMNfm7S7caJd"
   },
   "outputs": [
    {
     "data": {
      "text/plain": [
       "0     1.0\n",
       "1     5.0\n",
       "2     9.0\n",
       "3    13.0\n",
       "4    17.0\n",
       "5    10.0\n",
       "dtype: float64"
      ]
     },
     "execution_count": 111,
     "metadata": {},
     "output_type": "execute_result"
    }
   ],
   "source": [
    "s1.add(s2, fill_value=0) # s1, s2 중 하나만있어도 값이 나오게 함."
   ]
  },
  {
   "cell_type": "code",
   "execution_count": 112,
   "metadata": {
    "id": "7gQjdKNYdHl4"
   },
   "outputs": [
    {
     "data": {
      "text/html": [
       "<div>\n",
       "<style scoped>\n",
       "    .dataframe tbody tr th:only-of-type {\n",
       "        vertical-align: middle;\n",
       "    }\n",
       "\n",
       "    .dataframe tbody tr th {\n",
       "        vertical-align: top;\n",
       "    }\n",
       "\n",
       "    .dataframe thead th {\n",
       "        text-align: right;\n",
       "    }\n",
       "</style>\n",
       "<table border=\"1\" class=\"dataframe\">\n",
       "  <thead>\n",
       "    <tr style=\"text-align: right;\">\n",
       "      <th></th>\n",
       "      <th>a</th>\n",
       "      <th>c</th>\n",
       "      <th>d</th>\n",
       "    </tr>\n",
       "  </thead>\n",
       "  <tbody>\n",
       "    <tr>\n",
       "      <th>0</th>\n",
       "      <td>17</td>\n",
       "      <td>4</td>\n",
       "      <td>1</td>\n",
       "    </tr>\n",
       "    <tr>\n",
       "      <th>1</th>\n",
       "      <td>7</td>\n",
       "      <td>15</td>\n",
       "      <td>4</td>\n",
       "    </tr>\n",
       "    <tr>\n",
       "      <th>2</th>\n",
       "      <td>11</td>\n",
       "      <td>6</td>\n",
       "      <td>16</td>\n",
       "    </tr>\n",
       "  </tbody>\n",
       "</table>\n",
       "</div>"
      ],
      "text/plain": [
       "    a   c   d\n",
       "0  17   4   1\n",
       "1   7  15   4\n",
       "2  11   6  16"
      ]
     },
     "execution_count": 112,
     "metadata": {},
     "output_type": "execute_result"
    }
   ],
   "source": [
    "df1 = pd.DataFrame(np.random.randint(0,20,(3,3)),\n",
    "                  columns=list('acd'))\n",
    "df1"
   ]
  },
  {
   "cell_type": "code",
   "execution_count": 113,
   "metadata": {
    "id": "RFDnK7BHdUGM"
   },
   "outputs": [
    {
     "data": {
      "text/html": [
       "<div>\n",
       "<style scoped>\n",
       "    .dataframe tbody tr th:only-of-type {\n",
       "        vertical-align: middle;\n",
       "    }\n",
       "\n",
       "    .dataframe tbody tr th {\n",
       "        vertical-align: top;\n",
       "    }\n",
       "\n",
       "    .dataframe thead th {\n",
       "        text-align: right;\n",
       "    }\n",
       "</style>\n",
       "<table border=\"1\" class=\"dataframe\">\n",
       "  <thead>\n",
       "    <tr style=\"text-align: right;\">\n",
       "      <th></th>\n",
       "      <th>b</th>\n",
       "      <th>a</th>\n",
       "      <th>e</th>\n",
       "      <th>c</th>\n",
       "      <th>d</th>\n",
       "    </tr>\n",
       "  </thead>\n",
       "  <tbody>\n",
       "    <tr>\n",
       "      <th>0</th>\n",
       "      <td>6</td>\n",
       "      <td>10</td>\n",
       "      <td>4</td>\n",
       "      <td>15</td>\n",
       "      <td>17</td>\n",
       "    </tr>\n",
       "    <tr>\n",
       "      <th>1</th>\n",
       "      <td>14</td>\n",
       "      <td>5</td>\n",
       "      <td>2</td>\n",
       "      <td>18</td>\n",
       "      <td>0</td>\n",
       "    </tr>\n",
       "    <tr>\n",
       "      <th>2</th>\n",
       "      <td>18</td>\n",
       "      <td>16</td>\n",
       "      <td>12</td>\n",
       "      <td>11</td>\n",
       "      <td>4</td>\n",
       "    </tr>\n",
       "    <tr>\n",
       "      <th>3</th>\n",
       "      <td>9</td>\n",
       "      <td>14</td>\n",
       "      <td>0</td>\n",
       "      <td>11</td>\n",
       "      <td>16</td>\n",
       "    </tr>\n",
       "    <tr>\n",
       "      <th>4</th>\n",
       "      <td>17</td>\n",
       "      <td>5</td>\n",
       "      <td>17</td>\n",
       "      <td>0</td>\n",
       "      <td>14</td>\n",
       "    </tr>\n",
       "  </tbody>\n",
       "</table>\n",
       "</div>"
      ],
      "text/plain": [
       "    b   a   e   c   d\n",
       "0   6  10   4  15  17\n",
       "1  14   5   2  18   0\n",
       "2  18  16  12  11   4\n",
       "3   9  14   0  11  16\n",
       "4  17   5  17   0  14"
      ]
     },
     "execution_count": 113,
     "metadata": {},
     "output_type": "execute_result"
    }
   ],
   "source": [
    "df2 = pd.DataFrame(np.random.randint(0,20,(5,5)),\n",
    "                  columns=list('baecd'))\n",
    "df2"
   ]
  },
  {
   "cell_type": "code",
   "execution_count": 114,
   "metadata": {
    "id": "2ZtF9SKVdeuy"
   },
   "outputs": [
    {
     "data": {
      "text/html": [
       "<div>\n",
       "<style scoped>\n",
       "    .dataframe tbody tr th:only-of-type {\n",
       "        vertical-align: middle;\n",
       "    }\n",
       "\n",
       "    .dataframe tbody tr th {\n",
       "        vertical-align: top;\n",
       "    }\n",
       "\n",
       "    .dataframe thead th {\n",
       "        text-align: right;\n",
       "    }\n",
       "</style>\n",
       "<table border=\"1\" class=\"dataframe\">\n",
       "  <thead>\n",
       "    <tr style=\"text-align: right;\">\n",
       "      <th></th>\n",
       "      <th>a</th>\n",
       "      <th>b</th>\n",
       "      <th>c</th>\n",
       "      <th>d</th>\n",
       "      <th>e</th>\n",
       "    </tr>\n",
       "  </thead>\n",
       "  <tbody>\n",
       "    <tr>\n",
       "      <th>0</th>\n",
       "      <td>27.0</td>\n",
       "      <td>NaN</td>\n",
       "      <td>19.0</td>\n",
       "      <td>18.0</td>\n",
       "      <td>NaN</td>\n",
       "    </tr>\n",
       "    <tr>\n",
       "      <th>1</th>\n",
       "      <td>12.0</td>\n",
       "      <td>NaN</td>\n",
       "      <td>33.0</td>\n",
       "      <td>4.0</td>\n",
       "      <td>NaN</td>\n",
       "    </tr>\n",
       "    <tr>\n",
       "      <th>2</th>\n",
       "      <td>27.0</td>\n",
       "      <td>NaN</td>\n",
       "      <td>17.0</td>\n",
       "      <td>20.0</td>\n",
       "      <td>NaN</td>\n",
       "    </tr>\n",
       "    <tr>\n",
       "      <th>3</th>\n",
       "      <td>NaN</td>\n",
       "      <td>NaN</td>\n",
       "      <td>NaN</td>\n",
       "      <td>NaN</td>\n",
       "      <td>NaN</td>\n",
       "    </tr>\n",
       "    <tr>\n",
       "      <th>4</th>\n",
       "      <td>NaN</td>\n",
       "      <td>NaN</td>\n",
       "      <td>NaN</td>\n",
       "      <td>NaN</td>\n",
       "      <td>NaN</td>\n",
       "    </tr>\n",
       "  </tbody>\n",
       "</table>\n",
       "</div>"
      ],
      "text/plain": [
       "      a   b     c     d   e\n",
       "0  27.0 NaN  19.0  18.0 NaN\n",
       "1  12.0 NaN  33.0   4.0 NaN\n",
       "2  27.0 NaN  17.0  20.0 NaN\n",
       "3   NaN NaN   NaN   NaN NaN\n",
       "4   NaN NaN   NaN   NaN NaN"
      ]
     },
     "execution_count": 114,
     "metadata": {},
     "output_type": "execute_result"
    }
   ],
   "source": [
    "df1 + df2"
   ]
  },
  {
   "cell_type": "code",
   "execution_count": 115,
   "metadata": {
    "id": "jHQflTypdq7U"
   },
   "outputs": [
    {
     "data": {
      "text/html": [
       "<div>\n",
       "<style scoped>\n",
       "    .dataframe tbody tr th:only-of-type {\n",
       "        vertical-align: middle;\n",
       "    }\n",
       "\n",
       "    .dataframe tbody tr th {\n",
       "        vertical-align: top;\n",
       "    }\n",
       "\n",
       "    .dataframe thead th {\n",
       "        text-align: right;\n",
       "    }\n",
       "</style>\n",
       "<table border=\"1\" class=\"dataframe\">\n",
       "  <thead>\n",
       "    <tr style=\"text-align: right;\">\n",
       "      <th></th>\n",
       "      <th>a</th>\n",
       "      <th>b</th>\n",
       "      <th>c</th>\n",
       "      <th>d</th>\n",
       "      <th>e</th>\n",
       "    </tr>\n",
       "  </thead>\n",
       "  <tbody>\n",
       "    <tr>\n",
       "      <th>0</th>\n",
       "      <td>27.0</td>\n",
       "      <td>15.0</td>\n",
       "      <td>19.0</td>\n",
       "      <td>18.0</td>\n",
       "      <td>13.0</td>\n",
       "    </tr>\n",
       "    <tr>\n",
       "      <th>1</th>\n",
       "      <td>12.0</td>\n",
       "      <td>23.0</td>\n",
       "      <td>33.0</td>\n",
       "      <td>4.0</td>\n",
       "      <td>11.0</td>\n",
       "    </tr>\n",
       "    <tr>\n",
       "      <th>2</th>\n",
       "      <td>27.0</td>\n",
       "      <td>27.0</td>\n",
       "      <td>17.0</td>\n",
       "      <td>20.0</td>\n",
       "      <td>21.0</td>\n",
       "    </tr>\n",
       "    <tr>\n",
       "      <th>3</th>\n",
       "      <td>23.0</td>\n",
       "      <td>18.0</td>\n",
       "      <td>20.0</td>\n",
       "      <td>25.0</td>\n",
       "      <td>9.0</td>\n",
       "    </tr>\n",
       "    <tr>\n",
       "      <th>4</th>\n",
       "      <td>14.0</td>\n",
       "      <td>26.0</td>\n",
       "      <td>9.0</td>\n",
       "      <td>23.0</td>\n",
       "      <td>26.0</td>\n",
       "    </tr>\n",
       "  </tbody>\n",
       "</table>\n",
       "</div>"
      ],
      "text/plain": [
       "      a     b     c     d     e\n",
       "0  27.0  15.0  19.0  18.0  13.0\n",
       "1  12.0  23.0  33.0   4.0  11.0\n",
       "2  27.0  27.0  17.0  20.0  21.0\n",
       "3  23.0  18.0  20.0  25.0   9.0\n",
       "4  14.0  26.0   9.0  23.0  26.0"
      ]
     },
     "execution_count": 115,
     "metadata": {},
     "output_type": "execute_result"
    }
   ],
   "source": [
    "fvalue = df1.stack().mean()\n",
    "df1.add(df2, fill_value=fvalue)"
   ]
  },
  {
   "cell_type": "markdown",
   "metadata": {
    "id": "zAl0KQLGfOGu"
   },
   "source": [
    "### 연산자 범용 함수\n"
   ]
  },
  {
   "cell_type": "markdown",
   "metadata": {
    "id": "rtf6di7UxZm-"
   },
   "source": [
    "#### add()"
   ]
  },
  {
   "cell_type": "code",
   "execution_count": 116,
   "metadata": {
    "id": "S0ZrcMDNevbl"
   },
   "outputs": [
    {
     "data": {
      "text/plain": [
       "array([[6, 3, 6],\n",
       "       [7, 3, 5],\n",
       "       [4, 5, 9]])"
      ]
     },
     "execution_count": 116,
     "metadata": {},
     "output_type": "execute_result"
    }
   ],
   "source": [
    "a = np.random.randint(1,10, size=(3,3))\n",
    "a"
   ]
  },
  {
   "cell_type": "code",
   "execution_count": 117,
   "metadata": {
    "id": "XwyOkCCRiJUJ"
   },
   "outputs": [
    {
     "data": {
      "text/plain": [
       "array([[12,  6, 12],\n",
       "       [13,  6, 11],\n",
       "       [10,  8, 15]])"
      ]
     },
     "execution_count": 117,
     "metadata": {},
     "output_type": "execute_result"
    }
   ],
   "source": [
    "a + a[0]"
   ]
  },
  {
   "cell_type": "code",
   "execution_count": 118,
   "metadata": {
    "id": "qIZRHvYqhnb4"
   },
   "outputs": [
    {
     "data": {
      "text/html": [
       "<div>\n",
       "<style scoped>\n",
       "    .dataframe tbody tr th:only-of-type {\n",
       "        vertical-align: middle;\n",
       "    }\n",
       "\n",
       "    .dataframe tbody tr th {\n",
       "        vertical-align: top;\n",
       "    }\n",
       "\n",
       "    .dataframe thead th {\n",
       "        text-align: right;\n",
       "    }\n",
       "</style>\n",
       "<table border=\"1\" class=\"dataframe\">\n",
       "  <thead>\n",
       "    <tr style=\"text-align: right;\">\n",
       "      <th></th>\n",
       "      <th>a</th>\n",
       "      <th>b</th>\n",
       "      <th>c</th>\n",
       "    </tr>\n",
       "  </thead>\n",
       "  <tbody>\n",
       "    <tr>\n",
       "      <th>0</th>\n",
       "      <td>6</td>\n",
       "      <td>3</td>\n",
       "      <td>6</td>\n",
       "    </tr>\n",
       "    <tr>\n",
       "      <th>1</th>\n",
       "      <td>7</td>\n",
       "      <td>3</td>\n",
       "      <td>5</td>\n",
       "    </tr>\n",
       "    <tr>\n",
       "      <th>2</th>\n",
       "      <td>4</td>\n",
       "      <td>5</td>\n",
       "      <td>9</td>\n",
       "    </tr>\n",
       "  </tbody>\n",
       "</table>\n",
       "</div>"
      ],
      "text/plain": [
       "   a  b  c\n",
       "0  6  3  6\n",
       "1  7  3  5\n",
       "2  4  5  9"
      ]
     },
     "execution_count": 118,
     "metadata": {},
     "output_type": "execute_result"
    }
   ],
   "source": [
    "df = pd.DataFrame(a, columns = list('abc'))\n",
    "df"
   ]
  },
  {
   "cell_type": "code",
   "execution_count": 119,
   "metadata": {
    "id": "wJVgHWuVxpMJ"
   },
   "outputs": [
    {
     "data": {
      "text/html": [
       "<div>\n",
       "<style scoped>\n",
       "    .dataframe tbody tr th:only-of-type {\n",
       "        vertical-align: middle;\n",
       "    }\n",
       "\n",
       "    .dataframe tbody tr th {\n",
       "        vertical-align: top;\n",
       "    }\n",
       "\n",
       "    .dataframe thead th {\n",
       "        text-align: right;\n",
       "    }\n",
       "</style>\n",
       "<table border=\"1\" class=\"dataframe\">\n",
       "  <thead>\n",
       "    <tr style=\"text-align: right;\">\n",
       "      <th></th>\n",
       "      <th>a</th>\n",
       "      <th>b</th>\n",
       "      <th>c</th>\n",
       "    </tr>\n",
       "  </thead>\n",
       "  <tbody>\n",
       "    <tr>\n",
       "      <th>0</th>\n",
       "      <td>12</td>\n",
       "      <td>6</td>\n",
       "      <td>12</td>\n",
       "    </tr>\n",
       "    <tr>\n",
       "      <th>1</th>\n",
       "      <td>13</td>\n",
       "      <td>6</td>\n",
       "      <td>11</td>\n",
       "    </tr>\n",
       "    <tr>\n",
       "      <th>2</th>\n",
       "      <td>10</td>\n",
       "      <td>8</td>\n",
       "      <td>15</td>\n",
       "    </tr>\n",
       "  </tbody>\n",
       "</table>\n",
       "</div>"
      ],
      "text/plain": [
       "    a  b   c\n",
       "0  12  6  12\n",
       "1  13  6  11\n",
       "2  10  8  15"
      ]
     },
     "execution_count": 119,
     "metadata": {},
     "output_type": "execute_result"
    }
   ],
   "source": [
    "df + df.iloc[0]"
   ]
  },
  {
   "cell_type": "code",
   "execution_count": 120,
   "metadata": {
    "id": "O_OF4OrGq5Cl"
   },
   "outputs": [
    {
     "data": {
      "text/html": [
       "<div>\n",
       "<style scoped>\n",
       "    .dataframe tbody tr th:only-of-type {\n",
       "        vertical-align: middle;\n",
       "    }\n",
       "\n",
       "    .dataframe tbody tr th {\n",
       "        vertical-align: top;\n",
       "    }\n",
       "\n",
       "    .dataframe thead th {\n",
       "        text-align: right;\n",
       "    }\n",
       "</style>\n",
       "<table border=\"1\" class=\"dataframe\">\n",
       "  <thead>\n",
       "    <tr style=\"text-align: right;\">\n",
       "      <th></th>\n",
       "      <th>a</th>\n",
       "      <th>b</th>\n",
       "      <th>c</th>\n",
       "    </tr>\n",
       "  </thead>\n",
       "  <tbody>\n",
       "    <tr>\n",
       "      <th>0</th>\n",
       "      <td>12</td>\n",
       "      <td>6</td>\n",
       "      <td>12</td>\n",
       "    </tr>\n",
       "    <tr>\n",
       "      <th>1</th>\n",
       "      <td>13</td>\n",
       "      <td>6</td>\n",
       "      <td>11</td>\n",
       "    </tr>\n",
       "    <tr>\n",
       "      <th>2</th>\n",
       "      <td>10</td>\n",
       "      <td>8</td>\n",
       "      <td>15</td>\n",
       "    </tr>\n",
       "  </tbody>\n",
       "</table>\n",
       "</div>"
      ],
      "text/plain": [
       "    a  b   c\n",
       "0  12  6  12\n",
       "1  13  6  11\n",
       "2  10  8  15"
      ]
     },
     "execution_count": 120,
     "metadata": {},
     "output_type": "execute_result"
    }
   ],
   "source": [
    "df.add(df.iloc[0])"
   ]
  },
  {
   "cell_type": "markdown",
   "metadata": {
    "id": "b32g_aLTxriU"
   },
   "source": [
    "#### sub() / subtract()"
   ]
  },
  {
   "cell_type": "code",
   "execution_count": 121,
   "metadata": {
    "id": "_eJ9wpPKM8Ue"
   },
   "outputs": [
    {
     "data": {
      "text/plain": [
       "array([[6, 3, 6],\n",
       "       [7, 3, 5],\n",
       "       [4, 5, 9]])"
      ]
     },
     "execution_count": 121,
     "metadata": {},
     "output_type": "execute_result"
    }
   ],
   "source": [
    "a"
   ]
  },
  {
   "cell_type": "code",
   "execution_count": 122,
   "metadata": {
    "id": "d2kvlPJRhj05"
   },
   "outputs": [
    {
     "data": {
      "text/plain": [
       "array([[ 0,  0,  0],\n",
       "       [ 1,  0, -1],\n",
       "       [-2,  2,  3]])"
      ]
     },
     "execution_count": 122,
     "metadata": {},
     "output_type": "execute_result"
    }
   ],
   "source": [
    "a - a[0]"
   ]
  },
  {
   "cell_type": "code",
   "execution_count": 123,
   "metadata": {
    "id": "4_BYRrbnxzxV"
   },
   "outputs": [
    {
     "data": {
      "text/html": [
       "<div>\n",
       "<style scoped>\n",
       "    .dataframe tbody tr th:only-of-type {\n",
       "        vertical-align: middle;\n",
       "    }\n",
       "\n",
       "    .dataframe tbody tr th {\n",
       "        vertical-align: top;\n",
       "    }\n",
       "\n",
       "    .dataframe thead th {\n",
       "        text-align: right;\n",
       "    }\n",
       "</style>\n",
       "<table border=\"1\" class=\"dataframe\">\n",
       "  <thead>\n",
       "    <tr style=\"text-align: right;\">\n",
       "      <th></th>\n",
       "      <th>a</th>\n",
       "      <th>b</th>\n",
       "      <th>c</th>\n",
       "    </tr>\n",
       "  </thead>\n",
       "  <tbody>\n",
       "    <tr>\n",
       "      <th>0</th>\n",
       "      <td>6</td>\n",
       "      <td>3</td>\n",
       "      <td>6</td>\n",
       "    </tr>\n",
       "    <tr>\n",
       "      <th>1</th>\n",
       "      <td>7</td>\n",
       "      <td>3</td>\n",
       "      <td>5</td>\n",
       "    </tr>\n",
       "    <tr>\n",
       "      <th>2</th>\n",
       "      <td>4</td>\n",
       "      <td>5</td>\n",
       "      <td>9</td>\n",
       "    </tr>\n",
       "  </tbody>\n",
       "</table>\n",
       "</div>"
      ],
      "text/plain": [
       "   a  b  c\n",
       "0  6  3  6\n",
       "1  7  3  5\n",
       "2  4  5  9"
      ]
     },
     "execution_count": 123,
     "metadata": {},
     "output_type": "execute_result"
    }
   ],
   "source": [
    "df"
   ]
  },
  {
   "cell_type": "code",
   "execution_count": 124,
   "metadata": {
    "id": "u2AUSDI8q9z3"
   },
   "outputs": [
    {
     "data": {
      "text/html": [
       "<div>\n",
       "<style scoped>\n",
       "    .dataframe tbody tr th:only-of-type {\n",
       "        vertical-align: middle;\n",
       "    }\n",
       "\n",
       "    .dataframe tbody tr th {\n",
       "        vertical-align: top;\n",
       "    }\n",
       "\n",
       "    .dataframe thead th {\n",
       "        text-align: right;\n",
       "    }\n",
       "</style>\n",
       "<table border=\"1\" class=\"dataframe\">\n",
       "  <thead>\n",
       "    <tr style=\"text-align: right;\">\n",
       "      <th></th>\n",
       "      <th>a</th>\n",
       "      <th>b</th>\n",
       "      <th>c</th>\n",
       "    </tr>\n",
       "  </thead>\n",
       "  <tbody>\n",
       "    <tr>\n",
       "      <th>0</th>\n",
       "      <td>0</td>\n",
       "      <td>0</td>\n",
       "      <td>0</td>\n",
       "    </tr>\n",
       "    <tr>\n",
       "      <th>1</th>\n",
       "      <td>1</td>\n",
       "      <td>0</td>\n",
       "      <td>-1</td>\n",
       "    </tr>\n",
       "    <tr>\n",
       "      <th>2</th>\n",
       "      <td>-2</td>\n",
       "      <td>2</td>\n",
       "      <td>3</td>\n",
       "    </tr>\n",
       "  </tbody>\n",
       "</table>\n",
       "</div>"
      ],
      "text/plain": [
       "   a  b  c\n",
       "0  0  0  0\n",
       "1  1  0 -1\n",
       "2 -2  2  3"
      ]
     },
     "execution_count": 124,
     "metadata": {},
     "output_type": "execute_result"
    }
   ],
   "source": [
    "df - df.iloc[0]"
   ]
  },
  {
   "cell_type": "code",
   "execution_count": 125,
   "metadata": {
    "id": "JTtB-d7lxKCj"
   },
   "outputs": [
    {
     "data": {
      "text/html": [
       "<div>\n",
       "<style scoped>\n",
       "    .dataframe tbody tr th:only-of-type {\n",
       "        vertical-align: middle;\n",
       "    }\n",
       "\n",
       "    .dataframe tbody tr th {\n",
       "        vertical-align: top;\n",
       "    }\n",
       "\n",
       "    .dataframe thead th {\n",
       "        text-align: right;\n",
       "    }\n",
       "</style>\n",
       "<table border=\"1\" class=\"dataframe\">\n",
       "  <thead>\n",
       "    <tr style=\"text-align: right;\">\n",
       "      <th></th>\n",
       "      <th>a</th>\n",
       "      <th>b</th>\n",
       "      <th>c</th>\n",
       "    </tr>\n",
       "  </thead>\n",
       "  <tbody>\n",
       "    <tr>\n",
       "      <th>0</th>\n",
       "      <td>0</td>\n",
       "      <td>0</td>\n",
       "      <td>0</td>\n",
       "    </tr>\n",
       "    <tr>\n",
       "      <th>1</th>\n",
       "      <td>1</td>\n",
       "      <td>0</td>\n",
       "      <td>-1</td>\n",
       "    </tr>\n",
       "    <tr>\n",
       "      <th>2</th>\n",
       "      <td>-2</td>\n",
       "      <td>2</td>\n",
       "      <td>3</td>\n",
       "    </tr>\n",
       "  </tbody>\n",
       "</table>\n",
       "</div>"
      ],
      "text/plain": [
       "   a  b  c\n",
       "0  0  0  0\n",
       "1  1  0 -1\n",
       "2 -2  2  3"
      ]
     },
     "execution_count": 125,
     "metadata": {},
     "output_type": "execute_result"
    }
   ],
   "source": [
    "df.sub(df.iloc[0])"
   ]
  },
  {
   "cell_type": "code",
   "execution_count": 126,
   "metadata": {
    "id": "fLHUViwohvsr"
   },
   "outputs": [
    {
     "data": {
      "text/html": [
       "<div>\n",
       "<style scoped>\n",
       "    .dataframe tbody tr th:only-of-type {\n",
       "        vertical-align: middle;\n",
       "    }\n",
       "\n",
       "    .dataframe tbody tr th {\n",
       "        vertical-align: top;\n",
       "    }\n",
       "\n",
       "    .dataframe thead th {\n",
       "        text-align: right;\n",
       "    }\n",
       "</style>\n",
       "<table border=\"1\" class=\"dataframe\">\n",
       "  <thead>\n",
       "    <tr style=\"text-align: right;\">\n",
       "      <th></th>\n",
       "      <th>a</th>\n",
       "      <th>b</th>\n",
       "      <th>c</th>\n",
       "    </tr>\n",
       "  </thead>\n",
       "  <tbody>\n",
       "    <tr>\n",
       "      <th>0</th>\n",
       "      <td>3</td>\n",
       "      <td>0</td>\n",
       "      <td>3</td>\n",
       "    </tr>\n",
       "    <tr>\n",
       "      <th>1</th>\n",
       "      <td>4</td>\n",
       "      <td>0</td>\n",
       "      <td>2</td>\n",
       "    </tr>\n",
       "    <tr>\n",
       "      <th>2</th>\n",
       "      <td>-1</td>\n",
       "      <td>0</td>\n",
       "      <td>4</td>\n",
       "    </tr>\n",
       "  </tbody>\n",
       "</table>\n",
       "</div>"
      ],
      "text/plain": [
       "   a  b  c\n",
       "0  3  0  3\n",
       "1  4  0  2\n",
       "2 -1  0  4"
      ]
     },
     "execution_count": 126,
     "metadata": {},
     "output_type": "execute_result"
    }
   ],
   "source": [
    "df.subtract(df['b'], axis=0)"
   ]
  },
  {
   "cell_type": "markdown",
   "metadata": {
    "id": "k57PyNCpzN0e"
   },
   "source": [
    "#### mul() / multply()\n",
    "\n",
    "\n"
   ]
  },
  {
   "cell_type": "code",
   "execution_count": 127,
   "metadata": {
    "id": "oeNX64mMzl8X"
   },
   "outputs": [
    {
     "data": {
      "text/plain": [
       "array([[6, 3, 6],\n",
       "       [7, 3, 5],\n",
       "       [4, 5, 9]])"
      ]
     },
     "execution_count": 127,
     "metadata": {},
     "output_type": "execute_result"
    }
   ],
   "source": [
    "a"
   ]
  },
  {
   "cell_type": "code",
   "execution_count": 128,
   "metadata": {
    "id": "9XwcE7ySiMvS"
   },
   "outputs": [
    {
     "data": {
      "text/plain": [
       "array([[42,  9, 30],\n",
       "       [49,  9, 25],\n",
       "       [28, 15, 45]])"
      ]
     },
     "execution_count": 128,
     "metadata": {},
     "output_type": "execute_result"
    }
   ],
   "source": [
    "a * a[1]"
   ]
  },
  {
   "cell_type": "code",
   "execution_count": 129,
   "metadata": {
    "id": "42xISoWmzm8M"
   },
   "outputs": [
    {
     "data": {
      "text/html": [
       "<div>\n",
       "<style scoped>\n",
       "    .dataframe tbody tr th:only-of-type {\n",
       "        vertical-align: middle;\n",
       "    }\n",
       "\n",
       "    .dataframe tbody tr th {\n",
       "        vertical-align: top;\n",
       "    }\n",
       "\n",
       "    .dataframe thead th {\n",
       "        text-align: right;\n",
       "    }\n",
       "</style>\n",
       "<table border=\"1\" class=\"dataframe\">\n",
       "  <thead>\n",
       "    <tr style=\"text-align: right;\">\n",
       "      <th></th>\n",
       "      <th>a</th>\n",
       "      <th>b</th>\n",
       "      <th>c</th>\n",
       "    </tr>\n",
       "  </thead>\n",
       "  <tbody>\n",
       "    <tr>\n",
       "      <th>0</th>\n",
       "      <td>6</td>\n",
       "      <td>3</td>\n",
       "      <td>6</td>\n",
       "    </tr>\n",
       "    <tr>\n",
       "      <th>1</th>\n",
       "      <td>7</td>\n",
       "      <td>3</td>\n",
       "      <td>5</td>\n",
       "    </tr>\n",
       "    <tr>\n",
       "      <th>2</th>\n",
       "      <td>4</td>\n",
       "      <td>5</td>\n",
       "      <td>9</td>\n",
       "    </tr>\n",
       "  </tbody>\n",
       "</table>\n",
       "</div>"
      ],
      "text/plain": [
       "   a  b  c\n",
       "0  6  3  6\n",
       "1  7  3  5\n",
       "2  4  5  9"
      ]
     },
     "execution_count": 129,
     "metadata": {},
     "output_type": "execute_result"
    }
   ],
   "source": [
    "df"
   ]
  },
  {
   "cell_type": "code",
   "execution_count": 130,
   "metadata": {
    "id": "aS6XjFjCh2Jn"
   },
   "outputs": [
    {
     "data": {
      "text/html": [
       "<div>\n",
       "<style scoped>\n",
       "    .dataframe tbody tr th:only-of-type {\n",
       "        vertical-align: middle;\n",
       "    }\n",
       "\n",
       "    .dataframe tbody tr th {\n",
       "        vertical-align: top;\n",
       "    }\n",
       "\n",
       "    .dataframe thead th {\n",
       "        text-align: right;\n",
       "    }\n",
       "</style>\n",
       "<table border=\"1\" class=\"dataframe\">\n",
       "  <thead>\n",
       "    <tr style=\"text-align: right;\">\n",
       "      <th></th>\n",
       "      <th>a</th>\n",
       "      <th>b</th>\n",
       "      <th>c</th>\n",
       "    </tr>\n",
       "  </thead>\n",
       "  <tbody>\n",
       "    <tr>\n",
       "      <th>0</th>\n",
       "      <td>42</td>\n",
       "      <td>9</td>\n",
       "      <td>30</td>\n",
       "    </tr>\n",
       "    <tr>\n",
       "      <th>1</th>\n",
       "      <td>49</td>\n",
       "      <td>9</td>\n",
       "      <td>25</td>\n",
       "    </tr>\n",
       "    <tr>\n",
       "      <th>2</th>\n",
       "      <td>28</td>\n",
       "      <td>15</td>\n",
       "      <td>45</td>\n",
       "    </tr>\n",
       "  </tbody>\n",
       "</table>\n",
       "</div>"
      ],
      "text/plain": [
       "    a   b   c\n",
       "0  42   9  30\n",
       "1  49   9  25\n",
       "2  28  15  45"
      ]
     },
     "execution_count": 130,
     "metadata": {},
     "output_type": "execute_result"
    }
   ],
   "source": [
    "df * df.iloc[1]"
   ]
  },
  {
   "cell_type": "code",
   "execution_count": 131,
   "metadata": {
    "id": "GxIj27xmrGAR"
   },
   "outputs": [
    {
     "data": {
      "text/html": [
       "<div>\n",
       "<style scoped>\n",
       "    .dataframe tbody tr th:only-of-type {\n",
       "        vertical-align: middle;\n",
       "    }\n",
       "\n",
       "    .dataframe tbody tr th {\n",
       "        vertical-align: top;\n",
       "    }\n",
       "\n",
       "    .dataframe thead th {\n",
       "        text-align: right;\n",
       "    }\n",
       "</style>\n",
       "<table border=\"1\" class=\"dataframe\">\n",
       "  <thead>\n",
       "    <tr style=\"text-align: right;\">\n",
       "      <th></th>\n",
       "      <th>a</th>\n",
       "      <th>b</th>\n",
       "      <th>c</th>\n",
       "    </tr>\n",
       "  </thead>\n",
       "  <tbody>\n",
       "    <tr>\n",
       "      <th>0</th>\n",
       "      <td>42</td>\n",
       "      <td>9</td>\n",
       "      <td>30</td>\n",
       "    </tr>\n",
       "    <tr>\n",
       "      <th>1</th>\n",
       "      <td>49</td>\n",
       "      <td>9</td>\n",
       "      <td>25</td>\n",
       "    </tr>\n",
       "    <tr>\n",
       "      <th>2</th>\n",
       "      <td>28</td>\n",
       "      <td>15</td>\n",
       "      <td>45</td>\n",
       "    </tr>\n",
       "  </tbody>\n",
       "</table>\n",
       "</div>"
      ],
      "text/plain": [
       "    a   b   c\n",
       "0  42   9  30\n",
       "1  49   9  25\n",
       "2  28  15  45"
      ]
     },
     "execution_count": 131,
     "metadata": {},
     "output_type": "execute_result"
    }
   ],
   "source": [
    "df.mul(df.iloc[1])"
   ]
  },
  {
   "cell_type": "code",
   "execution_count": 132,
   "metadata": {
    "id": "HpE8CYBVvUML"
   },
   "outputs": [
    {
     "data": {
      "text/html": [
       "<div>\n",
       "<style scoped>\n",
       "    .dataframe tbody tr th:only-of-type {\n",
       "        vertical-align: middle;\n",
       "    }\n",
       "\n",
       "    .dataframe tbody tr th {\n",
       "        vertical-align: top;\n",
       "    }\n",
       "\n",
       "    .dataframe thead th {\n",
       "        text-align: right;\n",
       "    }\n",
       "</style>\n",
       "<table border=\"1\" class=\"dataframe\">\n",
       "  <thead>\n",
       "    <tr style=\"text-align: right;\">\n",
       "      <th></th>\n",
       "      <th>a</th>\n",
       "      <th>b</th>\n",
       "      <th>c</th>\n",
       "    </tr>\n",
       "  </thead>\n",
       "  <tbody>\n",
       "    <tr>\n",
       "      <th>0</th>\n",
       "      <td>24</td>\n",
       "      <td>15</td>\n",
       "      <td>54</td>\n",
       "    </tr>\n",
       "    <tr>\n",
       "      <th>1</th>\n",
       "      <td>28</td>\n",
       "      <td>15</td>\n",
       "      <td>45</td>\n",
       "    </tr>\n",
       "    <tr>\n",
       "      <th>2</th>\n",
       "      <td>16</td>\n",
       "      <td>25</td>\n",
       "      <td>81</td>\n",
       "    </tr>\n",
       "  </tbody>\n",
       "</table>\n",
       "</div>"
      ],
      "text/plain": [
       "    a   b   c\n",
       "0  24  15  54\n",
       "1  28  15  45\n",
       "2  16  25  81"
      ]
     },
     "execution_count": 132,
     "metadata": {},
     "output_type": "execute_result"
    }
   ],
   "source": [
    "df.multiply(df.iloc[2])"
   ]
  },
  {
   "cell_type": "markdown",
   "metadata": {
    "id": "hFAaKfw2zpFE"
   },
   "source": [
    "#### truediv() /  div() / divide() / floordiv()"
   ]
  },
  {
   "cell_type": "code",
   "execution_count": 133,
   "metadata": {
    "id": "BQ56Fdtyzyvp"
   },
   "outputs": [
    {
     "data": {
      "text/plain": [
       "array([[6, 3, 6],\n",
       "       [7, 3, 5],\n",
       "       [4, 5, 9]])"
      ]
     },
     "execution_count": 133,
     "metadata": {},
     "output_type": "execute_result"
    }
   ],
   "source": [
    "a"
   ]
  },
  {
   "cell_type": "code",
   "execution_count": 134,
   "metadata": {
    "id": "fgKLOKM5iQMu"
   },
   "outputs": [
    {
     "data": {
      "text/plain": [
       "array([[1.        , 1.        , 1.        ],\n",
       "       [1.16666667, 1.        , 0.83333333],\n",
       "       [0.66666667, 1.66666667, 1.5       ]])"
      ]
     },
     "execution_count": 134,
     "metadata": {},
     "output_type": "execute_result"
    }
   ],
   "source": [
    "a / a[0]"
   ]
  },
  {
   "cell_type": "code",
   "execution_count": 135,
   "metadata": {
    "id": "HjYXWxgfz5WD"
   },
   "outputs": [
    {
     "data": {
      "text/html": [
       "<div>\n",
       "<style scoped>\n",
       "    .dataframe tbody tr th:only-of-type {\n",
       "        vertical-align: middle;\n",
       "    }\n",
       "\n",
       "    .dataframe tbody tr th {\n",
       "        vertical-align: top;\n",
       "    }\n",
       "\n",
       "    .dataframe thead th {\n",
       "        text-align: right;\n",
       "    }\n",
       "</style>\n",
       "<table border=\"1\" class=\"dataframe\">\n",
       "  <thead>\n",
       "    <tr style=\"text-align: right;\">\n",
       "      <th></th>\n",
       "      <th>a</th>\n",
       "      <th>b</th>\n",
       "      <th>c</th>\n",
       "    </tr>\n",
       "  </thead>\n",
       "  <tbody>\n",
       "    <tr>\n",
       "      <th>0</th>\n",
       "      <td>1.000000</td>\n",
       "      <td>1.000000</td>\n",
       "      <td>1.000000</td>\n",
       "    </tr>\n",
       "    <tr>\n",
       "      <th>1</th>\n",
       "      <td>1.166667</td>\n",
       "      <td>1.000000</td>\n",
       "      <td>0.833333</td>\n",
       "    </tr>\n",
       "    <tr>\n",
       "      <th>2</th>\n",
       "      <td>0.666667</td>\n",
       "      <td>1.666667</td>\n",
       "      <td>1.500000</td>\n",
       "    </tr>\n",
       "  </tbody>\n",
       "</table>\n",
       "</div>"
      ],
      "text/plain": [
       "          a         b         c\n",
       "0  1.000000  1.000000  1.000000\n",
       "1  1.166667  1.000000  0.833333\n",
       "2  0.666667  1.666667  1.500000"
      ]
     },
     "execution_count": 135,
     "metadata": {},
     "output_type": "execute_result"
    }
   ],
   "source": [
    "df / df.iloc[0]"
   ]
  },
  {
   "cell_type": "code",
   "execution_count": 136,
   "metadata": {
    "id": "Nw0xsKsAz9XV"
   },
   "outputs": [
    {
     "data": {
      "text/html": [
       "<div>\n",
       "<style scoped>\n",
       "    .dataframe tbody tr th:only-of-type {\n",
       "        vertical-align: middle;\n",
       "    }\n",
       "\n",
       "    .dataframe tbody tr th {\n",
       "        vertical-align: top;\n",
       "    }\n",
       "\n",
       "    .dataframe thead th {\n",
       "        text-align: right;\n",
       "    }\n",
       "</style>\n",
       "<table border=\"1\" class=\"dataframe\">\n",
       "  <thead>\n",
       "    <tr style=\"text-align: right;\">\n",
       "      <th></th>\n",
       "      <th>a</th>\n",
       "      <th>b</th>\n",
       "      <th>c</th>\n",
       "    </tr>\n",
       "  </thead>\n",
       "  <tbody>\n",
       "    <tr>\n",
       "      <th>0</th>\n",
       "      <td>1.000000</td>\n",
       "      <td>1.000000</td>\n",
       "      <td>1.000000</td>\n",
       "    </tr>\n",
       "    <tr>\n",
       "      <th>1</th>\n",
       "      <td>1.166667</td>\n",
       "      <td>1.000000</td>\n",
       "      <td>0.833333</td>\n",
       "    </tr>\n",
       "    <tr>\n",
       "      <th>2</th>\n",
       "      <td>0.666667</td>\n",
       "      <td>1.666667</td>\n",
       "      <td>1.500000</td>\n",
       "    </tr>\n",
       "  </tbody>\n",
       "</table>\n",
       "</div>"
      ],
      "text/plain": [
       "          a         b         c\n",
       "0  1.000000  1.000000  1.000000\n",
       "1  1.166667  1.000000  0.833333\n",
       "2  0.666667  1.666667  1.500000"
      ]
     },
     "execution_count": 136,
     "metadata": {},
     "output_type": "execute_result"
    }
   ],
   "source": [
    "df.truediv(df.iloc[0])"
   ]
  },
  {
   "cell_type": "code",
   "execution_count": 137,
   "metadata": {
    "id": "ZoSaKROE0Ab_"
   },
   "outputs": [
    {
     "data": {
      "text/html": [
       "<div>\n",
       "<style scoped>\n",
       "    .dataframe tbody tr th:only-of-type {\n",
       "        vertical-align: middle;\n",
       "    }\n",
       "\n",
       "    .dataframe tbody tr th {\n",
       "        vertical-align: top;\n",
       "    }\n",
       "\n",
       "    .dataframe thead th {\n",
       "        text-align: right;\n",
       "    }\n",
       "</style>\n",
       "<table border=\"1\" class=\"dataframe\">\n",
       "  <thead>\n",
       "    <tr style=\"text-align: right;\">\n",
       "      <th></th>\n",
       "      <th>a</th>\n",
       "      <th>b</th>\n",
       "      <th>c</th>\n",
       "    </tr>\n",
       "  </thead>\n",
       "  <tbody>\n",
       "    <tr>\n",
       "      <th>0</th>\n",
       "      <td>1.50</td>\n",
       "      <td>0.6</td>\n",
       "      <td>0.666667</td>\n",
       "    </tr>\n",
       "    <tr>\n",
       "      <th>1</th>\n",
       "      <td>1.75</td>\n",
       "      <td>0.6</td>\n",
       "      <td>0.555556</td>\n",
       "    </tr>\n",
       "    <tr>\n",
       "      <th>2</th>\n",
       "      <td>1.00</td>\n",
       "      <td>1.0</td>\n",
       "      <td>1.000000</td>\n",
       "    </tr>\n",
       "  </tbody>\n",
       "</table>\n",
       "</div>"
      ],
      "text/plain": [
       "      a    b         c\n",
       "0  1.50  0.6  0.666667\n",
       "1  1.75  0.6  0.555556\n",
       "2  1.00  1.0  1.000000"
      ]
     },
     "execution_count": 137,
     "metadata": {},
     "output_type": "execute_result"
    }
   ],
   "source": [
    "df.divide(df.iloc[2])"
   ]
  },
  {
   "cell_type": "code",
   "execution_count": 138,
   "metadata": {
    "id": "Q21li5Sk0TJw"
   },
   "outputs": [
    {
     "data": {
      "text/plain": [
       "array([[1, 1, 1],\n",
       "       [1, 1, 0],\n",
       "       [0, 1, 1]], dtype=int32)"
      ]
     },
     "execution_count": 138,
     "metadata": {},
     "output_type": "execute_result"
    }
   ],
   "source": [
    "a // a[0]"
   ]
  },
  {
   "cell_type": "code",
   "execution_count": 139,
   "metadata": {
    "id": "ct4NWN-rp4Gp"
   },
   "outputs": [
    {
     "data": {
      "text/html": [
       "<div>\n",
       "<style scoped>\n",
       "    .dataframe tbody tr th:only-of-type {\n",
       "        vertical-align: middle;\n",
       "    }\n",
       "\n",
       "    .dataframe tbody tr th {\n",
       "        vertical-align: top;\n",
       "    }\n",
       "\n",
       "    .dataframe thead th {\n",
       "        text-align: right;\n",
       "    }\n",
       "</style>\n",
       "<table border=\"1\" class=\"dataframe\">\n",
       "  <thead>\n",
       "    <tr style=\"text-align: right;\">\n",
       "      <th></th>\n",
       "      <th>a</th>\n",
       "      <th>b</th>\n",
       "      <th>c</th>\n",
       "    </tr>\n",
       "  </thead>\n",
       "  <tbody>\n",
       "    <tr>\n",
       "      <th>0</th>\n",
       "      <td>1</td>\n",
       "      <td>1</td>\n",
       "      <td>1</td>\n",
       "    </tr>\n",
       "    <tr>\n",
       "      <th>1</th>\n",
       "      <td>1</td>\n",
       "      <td>1</td>\n",
       "      <td>0</td>\n",
       "    </tr>\n",
       "    <tr>\n",
       "      <th>2</th>\n",
       "      <td>0</td>\n",
       "      <td>1</td>\n",
       "      <td>1</td>\n",
       "    </tr>\n",
       "  </tbody>\n",
       "</table>\n",
       "</div>"
      ],
      "text/plain": [
       "   a  b  c\n",
       "0  1  1  1\n",
       "1  1  1  0\n",
       "2  0  1  1"
      ]
     },
     "execution_count": 139,
     "metadata": {},
     "output_type": "execute_result"
    }
   ],
   "source": [
    "df.floordiv(df.iloc[0])"
   ]
  },
  {
   "cell_type": "markdown",
   "metadata": {
    "id": "kd9HSQ6y0SwS"
   },
   "source": [
    "#### mod()"
   ]
  },
  {
   "cell_type": "code",
   "execution_count": 140,
   "metadata": {
    "id": "EzEbDy4iqOFR"
   },
   "outputs": [
    {
     "data": {
      "text/plain": [
       "array([[6, 3, 6],\n",
       "       [7, 3, 5],\n",
       "       [4, 5, 9]])"
      ]
     },
     "execution_count": 140,
     "metadata": {},
     "output_type": "execute_result"
    }
   ],
   "source": [
    "a"
   ]
  },
  {
   "cell_type": "code",
   "execution_count": 141,
   "metadata": {
    "id": "twDUry6dipns"
   },
   "outputs": [
    {
     "data": {
      "text/plain": [
       "array([[0, 0, 0],\n",
       "       [1, 0, 5],\n",
       "       [4, 2, 3]], dtype=int32)"
      ]
     },
     "execution_count": 141,
     "metadata": {},
     "output_type": "execute_result"
    }
   ],
   "source": [
    "a%a[0]"
   ]
  },
  {
   "cell_type": "code",
   "execution_count": 142,
   "metadata": {
    "id": "aqQMEZTdqPUN"
   },
   "outputs": [
    {
     "data": {
      "text/html": [
       "<div>\n",
       "<style scoped>\n",
       "    .dataframe tbody tr th:only-of-type {\n",
       "        vertical-align: middle;\n",
       "    }\n",
       "\n",
       "    .dataframe tbody tr th {\n",
       "        vertical-align: top;\n",
       "    }\n",
       "\n",
       "    .dataframe thead th {\n",
       "        text-align: right;\n",
       "    }\n",
       "</style>\n",
       "<table border=\"1\" class=\"dataframe\">\n",
       "  <thead>\n",
       "    <tr style=\"text-align: right;\">\n",
       "      <th></th>\n",
       "      <th>a</th>\n",
       "      <th>b</th>\n",
       "      <th>c</th>\n",
       "    </tr>\n",
       "  </thead>\n",
       "  <tbody>\n",
       "    <tr>\n",
       "      <th>0</th>\n",
       "      <td>6</td>\n",
       "      <td>3</td>\n",
       "      <td>6</td>\n",
       "    </tr>\n",
       "    <tr>\n",
       "      <th>1</th>\n",
       "      <td>7</td>\n",
       "      <td>3</td>\n",
       "      <td>5</td>\n",
       "    </tr>\n",
       "    <tr>\n",
       "      <th>2</th>\n",
       "      <td>4</td>\n",
       "      <td>5</td>\n",
       "      <td>9</td>\n",
       "    </tr>\n",
       "  </tbody>\n",
       "</table>\n",
       "</div>"
      ],
      "text/plain": [
       "   a  b  c\n",
       "0  6  3  6\n",
       "1  7  3  5\n",
       "2  4  5  9"
      ]
     },
     "execution_count": 142,
     "metadata": {},
     "output_type": "execute_result"
    }
   ],
   "source": [
    "df"
   ]
  },
  {
   "cell_type": "code",
   "execution_count": 143,
   "metadata": {
    "id": "NdXlrc8LqQUE"
   },
   "outputs": [
    {
     "data": {
      "text/html": [
       "<div>\n",
       "<style scoped>\n",
       "    .dataframe tbody tr th:only-of-type {\n",
       "        vertical-align: middle;\n",
       "    }\n",
       "\n",
       "    .dataframe tbody tr th {\n",
       "        vertical-align: top;\n",
       "    }\n",
       "\n",
       "    .dataframe thead th {\n",
       "        text-align: right;\n",
       "    }\n",
       "</style>\n",
       "<table border=\"1\" class=\"dataframe\">\n",
       "  <thead>\n",
       "    <tr style=\"text-align: right;\">\n",
       "      <th></th>\n",
       "      <th>a</th>\n",
       "      <th>b</th>\n",
       "      <th>c</th>\n",
       "    </tr>\n",
       "  </thead>\n",
       "  <tbody>\n",
       "    <tr>\n",
       "      <th>0</th>\n",
       "      <td>0</td>\n",
       "      <td>0</td>\n",
       "      <td>0</td>\n",
       "    </tr>\n",
       "    <tr>\n",
       "      <th>1</th>\n",
       "      <td>1</td>\n",
       "      <td>0</td>\n",
       "      <td>5</td>\n",
       "    </tr>\n",
       "    <tr>\n",
       "      <th>2</th>\n",
       "      <td>4</td>\n",
       "      <td>2</td>\n",
       "      <td>3</td>\n",
       "    </tr>\n",
       "  </tbody>\n",
       "</table>\n",
       "</div>"
      ],
      "text/plain": [
       "   a  b  c\n",
       "0  0  0  0\n",
       "1  1  0  5\n",
       "2  4  2  3"
      ]
     },
     "execution_count": 143,
     "metadata": {},
     "output_type": "execute_result"
    }
   ],
   "source": [
    "df.mod(df.iloc[0])"
   ]
  },
  {
   "cell_type": "markdown",
   "metadata": {
    "id": "U7ZuwbTDp9Se"
   },
   "source": [
    "#### pow()"
   ]
  },
  {
   "cell_type": "code",
   "execution_count": 144,
   "metadata": {
    "id": "zHZfX4K5qU0Y"
   },
   "outputs": [
    {
     "data": {
      "text/plain": [
       "array([[6, 3, 6],\n",
       "       [7, 3, 5],\n",
       "       [4, 5, 9]])"
      ]
     },
     "execution_count": 144,
     "metadata": {},
     "output_type": "execute_result"
    }
   ],
   "source": [
    "a"
   ]
  },
  {
   "cell_type": "code",
   "execution_count": 145,
   "metadata": {},
   "outputs": [
    {
     "data": {
      "text/plain": [
       "array([[ 46656,     27,  46656],\n",
       "       [117649,     27,  15625],\n",
       "       [  4096,    125, 531441]], dtype=int32)"
      ]
     },
     "execution_count": 145,
     "metadata": {},
     "output_type": "execute_result"
    }
   ],
   "source": [
    "a ** a[0]"
   ]
  },
  {
   "cell_type": "code",
   "execution_count": 146,
   "metadata": {
    "id": "E0kXJgdWqWcw"
   },
   "outputs": [
    {
     "data": {
      "text/html": [
       "<div>\n",
       "<style scoped>\n",
       "    .dataframe tbody tr th:only-of-type {\n",
       "        vertical-align: middle;\n",
       "    }\n",
       "\n",
       "    .dataframe tbody tr th {\n",
       "        vertical-align: top;\n",
       "    }\n",
       "\n",
       "    .dataframe thead th {\n",
       "        text-align: right;\n",
       "    }\n",
       "</style>\n",
       "<table border=\"1\" class=\"dataframe\">\n",
       "  <thead>\n",
       "    <tr style=\"text-align: right;\">\n",
       "      <th></th>\n",
       "      <th>a</th>\n",
       "      <th>b</th>\n",
       "      <th>c</th>\n",
       "    </tr>\n",
       "  </thead>\n",
       "  <tbody>\n",
       "    <tr>\n",
       "      <th>0</th>\n",
       "      <td>6</td>\n",
       "      <td>3</td>\n",
       "      <td>6</td>\n",
       "    </tr>\n",
       "    <tr>\n",
       "      <th>1</th>\n",
       "      <td>7</td>\n",
       "      <td>3</td>\n",
       "      <td>5</td>\n",
       "    </tr>\n",
       "    <tr>\n",
       "      <th>2</th>\n",
       "      <td>4</td>\n",
       "      <td>5</td>\n",
       "      <td>9</td>\n",
       "    </tr>\n",
       "  </tbody>\n",
       "</table>\n",
       "</div>"
      ],
      "text/plain": [
       "   a  b  c\n",
       "0  6  3  6\n",
       "1  7  3  5\n",
       "2  4  5  9"
      ]
     },
     "execution_count": 146,
     "metadata": {},
     "output_type": "execute_result"
    }
   ],
   "source": [
    "df"
   ]
  },
  {
   "cell_type": "code",
   "execution_count": 147,
   "metadata": {
    "id": "x3QIEcXoqW27"
   },
   "outputs": [
    {
     "data": {
      "text/html": [
       "<div>\n",
       "<style scoped>\n",
       "    .dataframe tbody tr th:only-of-type {\n",
       "        vertical-align: middle;\n",
       "    }\n",
       "\n",
       "    .dataframe tbody tr th {\n",
       "        vertical-align: top;\n",
       "    }\n",
       "\n",
       "    .dataframe thead th {\n",
       "        text-align: right;\n",
       "    }\n",
       "</style>\n",
       "<table border=\"1\" class=\"dataframe\">\n",
       "  <thead>\n",
       "    <tr style=\"text-align: right;\">\n",
       "      <th></th>\n",
       "      <th>a</th>\n",
       "      <th>b</th>\n",
       "      <th>c</th>\n",
       "    </tr>\n",
       "  </thead>\n",
       "  <tbody>\n",
       "    <tr>\n",
       "      <th>0</th>\n",
       "      <td>46656</td>\n",
       "      <td>27</td>\n",
       "      <td>46656</td>\n",
       "    </tr>\n",
       "    <tr>\n",
       "      <th>1</th>\n",
       "      <td>117649</td>\n",
       "      <td>27</td>\n",
       "      <td>15625</td>\n",
       "    </tr>\n",
       "    <tr>\n",
       "      <th>2</th>\n",
       "      <td>4096</td>\n",
       "      <td>125</td>\n",
       "      <td>531441</td>\n",
       "    </tr>\n",
       "  </tbody>\n",
       "</table>\n",
       "</div>"
      ],
      "text/plain": [
       "        a    b       c\n",
       "0   46656   27   46656\n",
       "1  117649   27   15625\n",
       "2    4096  125  531441"
      ]
     },
     "execution_count": 147,
     "metadata": {},
     "output_type": "execute_result"
    }
   ],
   "source": [
    "df.pow(df.iloc[0])"
   ]
  },
  {
   "cell_type": "code",
   "execution_count": 148,
   "metadata": {
    "id": "CAZBCAMLqyLz"
   },
   "outputs": [
    {
     "data": {
      "text/plain": [
       "a    6\n",
       "c    6\n",
       "Name: 0, dtype: int32"
      ]
     },
     "execution_count": 148,
     "metadata": {},
     "output_type": "execute_result"
    }
   ],
   "source": [
    "row = df.iloc[0,::2]\n",
    "row"
   ]
  },
  {
   "cell_type": "code",
   "execution_count": 149,
   "metadata": {
    "id": "s8fiykE0q5WM"
   },
   "outputs": [
    {
     "data": {
      "text/html": [
       "<div>\n",
       "<style scoped>\n",
       "    .dataframe tbody tr th:only-of-type {\n",
       "        vertical-align: middle;\n",
       "    }\n",
       "\n",
       "    .dataframe tbody tr th {\n",
       "        vertical-align: top;\n",
       "    }\n",
       "\n",
       "    .dataframe thead th {\n",
       "        text-align: right;\n",
       "    }\n",
       "</style>\n",
       "<table border=\"1\" class=\"dataframe\">\n",
       "  <thead>\n",
       "    <tr style=\"text-align: right;\">\n",
       "      <th></th>\n",
       "      <th>a</th>\n",
       "      <th>b</th>\n",
       "      <th>c</th>\n",
       "    </tr>\n",
       "  </thead>\n",
       "  <tbody>\n",
       "    <tr>\n",
       "      <th>0</th>\n",
       "      <td>0.0</td>\n",
       "      <td>NaN</td>\n",
       "      <td>0.0</td>\n",
       "    </tr>\n",
       "    <tr>\n",
       "      <th>1</th>\n",
       "      <td>1.0</td>\n",
       "      <td>NaN</td>\n",
       "      <td>-1.0</td>\n",
       "    </tr>\n",
       "    <tr>\n",
       "      <th>2</th>\n",
       "      <td>-2.0</td>\n",
       "      <td>NaN</td>\n",
       "      <td>3.0</td>\n",
       "    </tr>\n",
       "  </tbody>\n",
       "</table>\n",
       "</div>"
      ],
      "text/plain": [
       "     a   b    c\n",
       "0  0.0 NaN  0.0\n",
       "1  1.0 NaN -1.0\n",
       "2 -2.0 NaN  3.0"
      ]
     },
     "execution_count": 149,
     "metadata": {},
     "output_type": "execute_result"
    }
   ],
   "source": [
    "df - row"
   ]
  },
  {
   "cell_type": "markdown",
   "metadata": {
    "id": "olpJULJ5x1KI"
   },
   "source": [
    "### 정렬(Sort)"
   ]
  },
  {
   "cell_type": "code",
   "execution_count": 150,
   "metadata": {
    "id": "Wplj3Uw00Isa"
   },
   "outputs": [
    {
     "data": {
      "text/plain": [
       "a    0\n",
       "d    1\n",
       "b    2\n",
       "c    3\n",
       "e    4\n",
       "dtype: int64"
      ]
     },
     "execution_count": 150,
     "metadata": {},
     "output_type": "execute_result"
    }
   ],
   "source": [
    "s = pd.Series(range(5), index=['a','d','b','c','e'])\n",
    "s"
   ]
  },
  {
   "cell_type": "code",
   "execution_count": 151,
   "metadata": {
    "id": "6teCdpge0Xp6"
   },
   "outputs": [
    {
     "data": {
      "text/plain": [
       "a    0\n",
       "b    2\n",
       "c    3\n",
       "d    1\n",
       "e    4\n",
       "dtype: int64"
      ]
     },
     "execution_count": 151,
     "metadata": {},
     "output_type": "execute_result"
    }
   ],
   "source": [
    "s.sort_index()"
   ]
  },
  {
   "cell_type": "code",
   "execution_count": 152,
   "metadata": {
    "id": "l77lqhu71Nd4"
   },
   "outputs": [
    {
     "data": {
      "text/plain": [
       "a    0\n",
       "d    1\n",
       "b    2\n",
       "c    3\n",
       "e    4\n",
       "dtype: int64"
      ]
     },
     "execution_count": 152,
     "metadata": {},
     "output_type": "execute_result"
    }
   ],
   "source": [
    "s.sort_values()"
   ]
  },
  {
   "cell_type": "code",
   "execution_count": 153,
   "metadata": {
    "id": "HXw87Eo0x3tZ"
   },
   "outputs": [
    {
     "data": {
      "text/html": [
       "<div>\n",
       "<style scoped>\n",
       "    .dataframe tbody tr th:only-of-type {\n",
       "        vertical-align: middle;\n",
       "    }\n",
       "\n",
       "    .dataframe tbody tr th {\n",
       "        vertical-align: top;\n",
       "    }\n",
       "\n",
       "    .dataframe thead th {\n",
       "        text-align: right;\n",
       "    }\n",
       "</style>\n",
       "<table border=\"1\" class=\"dataframe\">\n",
       "  <thead>\n",
       "    <tr style=\"text-align: right;\">\n",
       "      <th></th>\n",
       "      <th>b</th>\n",
       "      <th>d</th>\n",
       "      <th>a</th>\n",
       "      <th>c</th>\n",
       "    </tr>\n",
       "  </thead>\n",
       "  <tbody>\n",
       "    <tr>\n",
       "      <th>2</th>\n",
       "      <td>6</td>\n",
       "      <td>1</td>\n",
       "      <td>3</td>\n",
       "      <td>9</td>\n",
       "    </tr>\n",
       "    <tr>\n",
       "      <th>4</th>\n",
       "      <td>1</td>\n",
       "      <td>1</td>\n",
       "      <td>2</td>\n",
       "      <td>5</td>\n",
       "    </tr>\n",
       "    <tr>\n",
       "      <th>1</th>\n",
       "      <td>2</td>\n",
       "      <td>8</td>\n",
       "      <td>2</td>\n",
       "      <td>6</td>\n",
       "    </tr>\n",
       "    <tr>\n",
       "      <th>3</th>\n",
       "      <td>8</td>\n",
       "      <td>5</td>\n",
       "      <td>1</td>\n",
       "      <td>6</td>\n",
       "    </tr>\n",
       "  </tbody>\n",
       "</table>\n",
       "</div>"
      ],
      "text/plain": [
       "   b  d  a  c\n",
       "2  6  1  3  9\n",
       "4  1  1  2  5\n",
       "1  2  8  2  6\n",
       "3  8  5  1  6"
      ]
     },
     "execution_count": 153,
     "metadata": {},
     "output_type": "execute_result"
    }
   ],
   "source": [
    "df = pd.DataFrame(np.random.randint(0,10,(4,4)),\n",
    "                 index=[2,4,1,3],\n",
    "                 columns=list('bdac'))\n",
    "df"
   ]
  },
  {
   "cell_type": "code",
   "execution_count": 154,
   "metadata": {
    "id": "EOsqFoi2zMZ3"
   },
   "outputs": [
    {
     "data": {
      "text/html": [
       "<div>\n",
       "<style scoped>\n",
       "    .dataframe tbody tr th:only-of-type {\n",
       "        vertical-align: middle;\n",
       "    }\n",
       "\n",
       "    .dataframe tbody tr th {\n",
       "        vertical-align: top;\n",
       "    }\n",
       "\n",
       "    .dataframe thead th {\n",
       "        text-align: right;\n",
       "    }\n",
       "</style>\n",
       "<table border=\"1\" class=\"dataframe\">\n",
       "  <thead>\n",
       "    <tr style=\"text-align: right;\">\n",
       "      <th></th>\n",
       "      <th>b</th>\n",
       "      <th>d</th>\n",
       "      <th>a</th>\n",
       "      <th>c</th>\n",
       "    </tr>\n",
       "  </thead>\n",
       "  <tbody>\n",
       "    <tr>\n",
       "      <th>1</th>\n",
       "      <td>2</td>\n",
       "      <td>8</td>\n",
       "      <td>2</td>\n",
       "      <td>6</td>\n",
       "    </tr>\n",
       "    <tr>\n",
       "      <th>2</th>\n",
       "      <td>6</td>\n",
       "      <td>1</td>\n",
       "      <td>3</td>\n",
       "      <td>9</td>\n",
       "    </tr>\n",
       "    <tr>\n",
       "      <th>3</th>\n",
       "      <td>8</td>\n",
       "      <td>5</td>\n",
       "      <td>1</td>\n",
       "      <td>6</td>\n",
       "    </tr>\n",
       "    <tr>\n",
       "      <th>4</th>\n",
       "      <td>1</td>\n",
       "      <td>1</td>\n",
       "      <td>2</td>\n",
       "      <td>5</td>\n",
       "    </tr>\n",
       "  </tbody>\n",
       "</table>\n",
       "</div>"
      ],
      "text/plain": [
       "   b  d  a  c\n",
       "1  2  8  2  6\n",
       "2  6  1  3  9\n",
       "3  8  5  1  6\n",
       "4  1  1  2  5"
      ]
     },
     "execution_count": 154,
     "metadata": {},
     "output_type": "execute_result"
    }
   ],
   "source": [
    "df.sort_index()"
   ]
  },
  {
   "cell_type": "code",
   "execution_count": 155,
   "metadata": {},
   "outputs": [
    {
     "data": {
      "text/html": [
       "<div>\n",
       "<style scoped>\n",
       "    .dataframe tbody tr th:only-of-type {\n",
       "        vertical-align: middle;\n",
       "    }\n",
       "\n",
       "    .dataframe tbody tr th {\n",
       "        vertical-align: top;\n",
       "    }\n",
       "\n",
       "    .dataframe thead th {\n",
       "        text-align: right;\n",
       "    }\n",
       "</style>\n",
       "<table border=\"1\" class=\"dataframe\">\n",
       "  <thead>\n",
       "    <tr style=\"text-align: right;\">\n",
       "      <th></th>\n",
       "      <th>a</th>\n",
       "      <th>b</th>\n",
       "      <th>c</th>\n",
       "      <th>d</th>\n",
       "    </tr>\n",
       "  </thead>\n",
       "  <tbody>\n",
       "    <tr>\n",
       "      <th>2</th>\n",
       "      <td>3</td>\n",
       "      <td>6</td>\n",
       "      <td>9</td>\n",
       "      <td>1</td>\n",
       "    </tr>\n",
       "    <tr>\n",
       "      <th>4</th>\n",
       "      <td>2</td>\n",
       "      <td>1</td>\n",
       "      <td>5</td>\n",
       "      <td>1</td>\n",
       "    </tr>\n",
       "    <tr>\n",
       "      <th>1</th>\n",
       "      <td>2</td>\n",
       "      <td>2</td>\n",
       "      <td>6</td>\n",
       "      <td>8</td>\n",
       "    </tr>\n",
       "    <tr>\n",
       "      <th>3</th>\n",
       "      <td>1</td>\n",
       "      <td>8</td>\n",
       "      <td>6</td>\n",
       "      <td>5</td>\n",
       "    </tr>\n",
       "  </tbody>\n",
       "</table>\n",
       "</div>"
      ],
      "text/plain": [
       "   a  b  c  d\n",
       "2  3  6  9  1\n",
       "4  2  1  5  1\n",
       "1  2  2  6  8\n",
       "3  1  8  6  5"
      ]
     },
     "execution_count": 155,
     "metadata": {},
     "output_type": "execute_result"
    }
   ],
   "source": [
    "df.sort_index(axis=1)"
   ]
  },
  {
   "cell_type": "code",
   "execution_count": 156,
   "metadata": {
    "id": "FZ8zzlx90kqU"
   },
   "outputs": [
    {
     "data": {
      "text/html": [
       "<div>\n",
       "<style scoped>\n",
       "    .dataframe tbody tr th:only-of-type {\n",
       "        vertical-align: middle;\n",
       "    }\n",
       "\n",
       "    .dataframe tbody tr th {\n",
       "        vertical-align: top;\n",
       "    }\n",
       "\n",
       "    .dataframe thead th {\n",
       "        text-align: right;\n",
       "    }\n",
       "</style>\n",
       "<table border=\"1\" class=\"dataframe\">\n",
       "  <thead>\n",
       "    <tr style=\"text-align: right;\">\n",
       "      <th></th>\n",
       "      <th>b</th>\n",
       "      <th>d</th>\n",
       "      <th>a</th>\n",
       "      <th>c</th>\n",
       "    </tr>\n",
       "  </thead>\n",
       "  <tbody>\n",
       "    <tr>\n",
       "      <th>3</th>\n",
       "      <td>8</td>\n",
       "      <td>5</td>\n",
       "      <td>1</td>\n",
       "      <td>6</td>\n",
       "    </tr>\n",
       "    <tr>\n",
       "      <th>4</th>\n",
       "      <td>1</td>\n",
       "      <td>1</td>\n",
       "      <td>2</td>\n",
       "      <td>5</td>\n",
       "    </tr>\n",
       "    <tr>\n",
       "      <th>1</th>\n",
       "      <td>2</td>\n",
       "      <td>8</td>\n",
       "      <td>2</td>\n",
       "      <td>6</td>\n",
       "    </tr>\n",
       "    <tr>\n",
       "      <th>2</th>\n",
       "      <td>6</td>\n",
       "      <td>1</td>\n",
       "      <td>3</td>\n",
       "      <td>9</td>\n",
       "    </tr>\n",
       "  </tbody>\n",
       "</table>\n",
       "</div>"
      ],
      "text/plain": [
       "   b  d  a  c\n",
       "3  8  5  1  6\n",
       "4  1  1  2  5\n",
       "1  2  8  2  6\n",
       "2  6  1  3  9"
      ]
     },
     "execution_count": 156,
     "metadata": {},
     "output_type": "execute_result"
    }
   ],
   "source": [
    "df.sort_values(by='a')"
   ]
  },
  {
   "cell_type": "code",
   "execution_count": 157,
   "metadata": {
    "id": "cfbgpa6R1T1r"
   },
   "outputs": [
    {
     "data": {
      "text/html": [
       "<div>\n",
       "<style scoped>\n",
       "    .dataframe tbody tr th:only-of-type {\n",
       "        vertical-align: middle;\n",
       "    }\n",
       "\n",
       "    .dataframe tbody tr th {\n",
       "        vertical-align: top;\n",
       "    }\n",
       "\n",
       "    .dataframe thead th {\n",
       "        text-align: right;\n",
       "    }\n",
       "</style>\n",
       "<table border=\"1\" class=\"dataframe\">\n",
       "  <thead>\n",
       "    <tr style=\"text-align: right;\">\n",
       "      <th></th>\n",
       "      <th>b</th>\n",
       "      <th>d</th>\n",
       "      <th>a</th>\n",
       "      <th>c</th>\n",
       "    </tr>\n",
       "  </thead>\n",
       "  <tbody>\n",
       "    <tr>\n",
       "      <th>3</th>\n",
       "      <td>8</td>\n",
       "      <td>5</td>\n",
       "      <td>1</td>\n",
       "      <td>6</td>\n",
       "    </tr>\n",
       "    <tr>\n",
       "      <th>4</th>\n",
       "      <td>1</td>\n",
       "      <td>1</td>\n",
       "      <td>2</td>\n",
       "      <td>5</td>\n",
       "    </tr>\n",
       "    <tr>\n",
       "      <th>1</th>\n",
       "      <td>2</td>\n",
       "      <td>8</td>\n",
       "      <td>2</td>\n",
       "      <td>6</td>\n",
       "    </tr>\n",
       "    <tr>\n",
       "      <th>2</th>\n",
       "      <td>6</td>\n",
       "      <td>1</td>\n",
       "      <td>3</td>\n",
       "      <td>9</td>\n",
       "    </tr>\n",
       "  </tbody>\n",
       "</table>\n",
       "</div>"
      ],
      "text/plain": [
       "   b  d  a  c\n",
       "3  8  5  1  6\n",
       "4  1  1  2  5\n",
       "1  2  8  2  6\n",
       "2  6  1  3  9"
      ]
     },
     "execution_count": 157,
     "metadata": {},
     "output_type": "execute_result"
    }
   ],
   "source": [
    "df.sort_values(by=['a','c'])"
   ]
  },
  {
   "cell_type": "markdown",
   "metadata": {
    "id": "Xrv5nCNj3K-0"
   },
   "source": [
    "### 순위(Ranking)\n"
   ]
  },
  {
   "cell_type": "code",
   "execution_count": 158,
   "metadata": {
    "id": "GYroEZZ4105r"
   },
   "outputs": [
    {
     "data": {
      "text/plain": [
       "0   -2\n",
       "1    4\n",
       "2    7\n",
       "3    3\n",
       "4    0\n",
       "5    7\n",
       "6    5\n",
       "7   -4\n",
       "8    2\n",
       "9    6\n",
       "dtype: int64"
      ]
     },
     "execution_count": 158,
     "metadata": {},
     "output_type": "execute_result"
    }
   ],
   "source": [
    "s = pd.Series([-2,4,7,3,0,7,5,-4,2,6])\n",
    "s"
   ]
  },
  {
   "cell_type": "code",
   "execution_count": 159,
   "metadata": {
    "id": "S4pX_jtq2ih3"
   },
   "outputs": [
    {
     "data": {
      "text/plain": [
       "0    2.0\n",
       "1    6.0\n",
       "2    9.5\n",
       "3    5.0\n",
       "4    3.0\n",
       "5    9.5\n",
       "6    7.0\n",
       "7    1.0\n",
       "8    4.0\n",
       "9    8.0\n",
       "dtype: float64"
      ]
     },
     "execution_count": 159,
     "metadata": {},
     "output_type": "execute_result"
    }
   ],
   "source": [
    "s.rank()"
   ]
  },
  {
   "cell_type": "code",
   "execution_count": 160,
   "metadata": {
    "id": "qBjoTMbx2keP"
   },
   "outputs": [
    {
     "data": {
      "text/plain": [
       "0     2.0\n",
       "1     6.0\n",
       "2     9.0\n",
       "3     5.0\n",
       "4     3.0\n",
       "5    10.0\n",
       "6     7.0\n",
       "7     1.0\n",
       "8     4.0\n",
       "9     8.0\n",
       "dtype: float64"
      ]
     },
     "execution_count": 160,
     "metadata": {},
     "output_type": "execute_result"
    }
   ],
   "source": [
    "s.rank(method='first')"
   ]
  },
  {
   "cell_type": "code",
   "execution_count": 161,
   "metadata": {
    "id": "QRI_Z5KO2zG4"
   },
   "outputs": [
    {
     "data": {
      "text/plain": [
       "0     2.0\n",
       "1     6.0\n",
       "2    10.0\n",
       "3     5.0\n",
       "4     3.0\n",
       "5    10.0\n",
       "6     7.0\n",
       "7     1.0\n",
       "8     4.0\n",
       "9     8.0\n",
       "dtype: float64"
      ]
     },
     "execution_count": 161,
     "metadata": {},
     "output_type": "execute_result"
    }
   ],
   "source": [
    "s.rank(method='max')"
   ]
  },
  {
   "cell_type": "markdown",
   "metadata": {
    "id": "P6wc1ajiQe4r"
   },
   "source": [
    "### 고성능 연산(eval, query)"
   ]
  },
  {
   "cell_type": "code",
   "execution_count": 162,
   "metadata": {
    "id": "E4u2T6oSQhFu"
   },
   "outputs": [],
   "source": [
    "nrows, ncols = 10000, 100\n",
    "df1, df2, df3, df4 = (pd.DataFrame(np.random.rand(nrows, ncols)) for i in range(4))"
   ]
  },
  {
   "cell_type": "code",
   "execution_count": 163,
   "metadata": {
    "id": "SGg14HnyQvk2"
   },
   "outputs": [
    {
     "name": "stdout",
     "output_type": "stream",
     "text": [
      "7.61 ms ± 405 µs per loop (mean ± std. dev. of 7 runs, 100 loops each)\n"
     ]
    }
   ],
   "source": [
    "%timeit df1 + df2 + df3 + df4"
   ]
  },
  {
   "cell_type": "code",
   "execution_count": 164,
   "metadata": {
    "id": "k_GkpEnMQ0Fi"
   },
   "outputs": [
    {
     "name": "stdout",
     "output_type": "stream",
     "text": [
      "4.27 ms ± 93.9 µs per loop (mean ± std. dev. of 7 runs, 100 loops each)\n"
     ]
    }
   ],
   "source": [
    "%timeit pd.eval('df1 + df2 + df3 + df4')"
   ]
  },
  {
   "cell_type": "code",
   "execution_count": 165,
   "metadata": {
    "id": "qPAdmY8cQ7Sn"
   },
   "outputs": [
    {
     "name": "stdout",
     "output_type": "stream",
     "text": [
      "11.8 ms ± 75.3 µs per loop (mean ± std. dev. of 7 runs, 100 loops each)\n"
     ]
    }
   ],
   "source": [
    "%timeit df1 * -df2 / (-df3 * df4)"
   ]
  },
  {
   "cell_type": "code",
   "execution_count": 166,
   "metadata": {
    "id": "eZzfGsGuRE3e"
   },
   "outputs": [
    {
     "name": "stdout",
     "output_type": "stream",
     "text": [
      "4.49 ms ± 164 µs per loop (mean ± std. dev. of 7 runs, 100 loops each)\n"
     ]
    }
   ],
   "source": [
    "%timeit pd.eval('df1 * -df2 / (-df3 * df4)')"
   ]
  },
  {
   "cell_type": "code",
   "execution_count": 167,
   "metadata": {
    "id": "snts2jL2RVq-"
   },
   "outputs": [
    {
     "name": "stdout",
     "output_type": "stream",
     "text": [
      "5.85 ms ± 538 µs per loop (mean ± std. dev. of 7 runs, 100 loops each)\n"
     ]
    }
   ],
   "source": [
    "%timeit (df1 < df2) & (df2 <= df3) & (df3 !=df4)"
   ]
  },
  {
   "cell_type": "code",
   "execution_count": 168,
   "metadata": {
    "id": "nb6RYOJtRdE8"
   },
   "outputs": [
    {
     "name": "stdout",
     "output_type": "stream",
     "text": [
      "4.26 ms ± 92.9 µs per loop (mean ± std. dev. of 7 runs, 100 loops each)\n"
     ]
    }
   ],
   "source": [
    "%timeit pd.eval('(df1 < df2) & (df2 <= df3) & (df3 !=df4)')"
   ]
  },
  {
   "cell_type": "code",
   "execution_count": 169,
   "metadata": {
    "id": "MPmsqO2jRyVp"
   },
   "outputs": [
    {
     "data": {
      "text/html": [
       "<div>\n",
       "<style scoped>\n",
       "    .dataframe tbody tr th:only-of-type {\n",
       "        vertical-align: middle;\n",
       "    }\n",
       "\n",
       "    .dataframe tbody tr th {\n",
       "        vertical-align: top;\n",
       "    }\n",
       "\n",
       "    .dataframe thead th {\n",
       "        text-align: right;\n",
       "    }\n",
       "</style>\n",
       "<table border=\"1\" class=\"dataframe\">\n",
       "  <thead>\n",
       "    <tr style=\"text-align: right;\">\n",
       "      <th></th>\n",
       "      <th>a</th>\n",
       "      <th>b</th>\n",
       "      <th>c</th>\n",
       "      <th>d</th>\n",
       "      <th>e</th>\n",
       "    </tr>\n",
       "  </thead>\n",
       "  <tbody>\n",
       "    <tr>\n",
       "      <th>0</th>\n",
       "      <td>0.324513</td>\n",
       "      <td>0.981300</td>\n",
       "      <td>0.146694</td>\n",
       "      <td>0.740812</td>\n",
       "      <td>0.879683</td>\n",
       "    </tr>\n",
       "    <tr>\n",
       "      <th>1</th>\n",
       "      <td>0.032261</td>\n",
       "      <td>0.536478</td>\n",
       "      <td>0.200518</td>\n",
       "      <td>0.678565</td>\n",
       "      <td>0.309724</td>\n",
       "    </tr>\n",
       "    <tr>\n",
       "      <th>2</th>\n",
       "      <td>0.272849</td>\n",
       "      <td>0.547912</td>\n",
       "      <td>0.076977</td>\n",
       "      <td>0.917584</td>\n",
       "      <td>0.466630</td>\n",
       "    </tr>\n",
       "    <tr>\n",
       "      <th>3</th>\n",
       "      <td>0.694479</td>\n",
       "      <td>0.214030</td>\n",
       "      <td>0.218744</td>\n",
       "      <td>0.111508</td>\n",
       "      <td>0.070750</td>\n",
       "    </tr>\n",
       "    <tr>\n",
       "      <th>4</th>\n",
       "      <td>0.669460</td>\n",
       "      <td>0.621100</td>\n",
       "      <td>0.483179</td>\n",
       "      <td>0.432387</td>\n",
       "      <td>0.844562</td>\n",
       "    </tr>\n",
       "  </tbody>\n",
       "</table>\n",
       "</div>"
      ],
      "text/plain": [
       "          a         b         c         d         e\n",
       "0  0.324513  0.981300  0.146694  0.740812  0.879683\n",
       "1  0.032261  0.536478  0.200518  0.678565  0.309724\n",
       "2  0.272849  0.547912  0.076977  0.917584  0.466630\n",
       "3  0.694479  0.214030  0.218744  0.111508  0.070750\n",
       "4  0.669460  0.621100  0.483179  0.432387  0.844562"
      ]
     },
     "execution_count": 169,
     "metadata": {},
     "output_type": "execute_result"
    }
   ],
   "source": [
    "df = pd.DataFrame(np.random.rand(1000000,5), columns = ['a','b','c','d','e'])\n",
    "df.head()"
   ]
  },
  {
   "cell_type": "code",
   "execution_count": 170,
   "metadata": {
    "id": "GNbooD08TyAD"
   },
   "outputs": [
    {
     "name": "stdout",
     "output_type": "stream",
     "text": [
      "15.6 ms ± 1.81 ms per loop (mean ± std. dev. of 7 runs, 100 loops each)\n"
     ]
    }
   ],
   "source": [
    "%timeit df['a'] + df['b'] / df['c'] - df['d'] * df['e']"
   ]
  },
  {
   "cell_type": "code",
   "execution_count": 171,
   "metadata": {
    "id": "fgwU0lS4UOl0"
   },
   "outputs": [
    {
     "name": "stdout",
     "output_type": "stream",
     "text": [
      "5.72 ms ± 89.9 µs per loop (mean ± std. dev. of 7 runs, 100 loops each)\n"
     ]
    }
   ],
   "source": [
    "%timeit pd.eval('df.a + df.b / df.c - df.d * df.e')"
   ]
  },
  {
   "cell_type": "code",
   "execution_count": 172,
   "metadata": {
    "id": "roVl8OAOUiHt"
   },
   "outputs": [
    {
     "name": "stdout",
     "output_type": "stream",
     "text": [
      "10.7 ms ± 211 µs per loop (mean ± std. dev. of 7 runs, 100 loops each)\n"
     ]
    }
   ],
   "source": [
    "%timeit df.eval('a + b / c - d * e')"
   ]
  },
  {
   "cell_type": "code",
   "execution_count": 173,
   "metadata": {
    "id": "Hud7fAOtVGDC"
   },
   "outputs": [
    {
     "data": {
      "text/html": [
       "<div>\n",
       "<style scoped>\n",
       "    .dataframe tbody tr th:only-of-type {\n",
       "        vertical-align: middle;\n",
       "    }\n",
       "\n",
       "    .dataframe tbody tr th {\n",
       "        vertical-align: top;\n",
       "    }\n",
       "\n",
       "    .dataframe thead th {\n",
       "        text-align: right;\n",
       "    }\n",
       "</style>\n",
       "<table border=\"1\" class=\"dataframe\">\n",
       "  <thead>\n",
       "    <tr style=\"text-align: right;\">\n",
       "      <th></th>\n",
       "      <th>a</th>\n",
       "      <th>b</th>\n",
       "      <th>c</th>\n",
       "      <th>d</th>\n",
       "      <th>e</th>\n",
       "      <th>r</th>\n",
       "    </tr>\n",
       "  </thead>\n",
       "  <tbody>\n",
       "    <tr>\n",
       "      <th>0</th>\n",
       "      <td>0.324513</td>\n",
       "      <td>0.981300</td>\n",
       "      <td>0.146694</td>\n",
       "      <td>0.740812</td>\n",
       "      <td>0.879683</td>\n",
       "      <td>6.362257</td>\n",
       "    </tr>\n",
       "    <tr>\n",
       "      <th>1</th>\n",
       "      <td>0.032261</td>\n",
       "      <td>0.536478</td>\n",
       "      <td>0.200518</td>\n",
       "      <td>0.678565</td>\n",
       "      <td>0.309724</td>\n",
       "      <td>2.497550</td>\n",
       "    </tr>\n",
       "    <tr>\n",
       "      <th>2</th>\n",
       "      <td>0.272849</td>\n",
       "      <td>0.547912</td>\n",
       "      <td>0.076977</td>\n",
       "      <td>0.917584</td>\n",
       "      <td>0.466630</td>\n",
       "      <td>6.962552</td>\n",
       "    </tr>\n",
       "    <tr>\n",
       "      <th>3</th>\n",
       "      <td>0.694479</td>\n",
       "      <td>0.214030</td>\n",
       "      <td>0.218744</td>\n",
       "      <td>0.111508</td>\n",
       "      <td>0.070750</td>\n",
       "      <td>1.665043</td>\n",
       "    </tr>\n",
       "    <tr>\n",
       "      <th>4</th>\n",
       "      <td>0.669460</td>\n",
       "      <td>0.621100</td>\n",
       "      <td>0.483179</td>\n",
       "      <td>0.432387</td>\n",
       "      <td>0.844562</td>\n",
       "      <td>1.589729</td>\n",
       "    </tr>\n",
       "  </tbody>\n",
       "</table>\n",
       "</div>"
      ],
      "text/plain": [
       "          a         b         c         d         e         r\n",
       "0  0.324513  0.981300  0.146694  0.740812  0.879683  6.362257\n",
       "1  0.032261  0.536478  0.200518  0.678565  0.309724  2.497550\n",
       "2  0.272849  0.547912  0.076977  0.917584  0.466630  6.962552\n",
       "3  0.694479  0.214030  0.218744  0.111508  0.070750  1.665043\n",
       "4  0.669460  0.621100  0.483179  0.432387  0.844562  1.589729"
      ]
     },
     "execution_count": 173,
     "metadata": {},
     "output_type": "execute_result"
    }
   ],
   "source": [
    "df.eval('r = a + b / c - d * e',inplace=True)\n",
    "df.head()"
   ]
  },
  {
   "cell_type": "code",
   "execution_count": 175,
   "metadata": {
    "id": "qFaoM0OBVUbX"
   },
   "outputs": [
    {
     "data": {
      "text/plain": [
       "0         1.897057\n",
       "1         0.741444\n",
       "2         1.813599\n",
       "3         1.190238\n",
       "4         1.442863\n",
       "            ...   \n",
       "999995    1.316988\n",
       "999996    3.845501\n",
       "999997    0.769654\n",
       "999998    1.094536\n",
       "999999    0.800619\n",
       "Length: 1000000, dtype: float64"
      ]
     },
     "execution_count": 175,
     "metadata": {},
     "output_type": "execute_result"
    }
   ],
   "source": [
    "col_mean = df.mean(1)\n",
    "df['a'] + col_mean"
   ]
  },
  {
   "cell_type": "code",
   "execution_count": 176,
   "metadata": {
    "id": "3_Z4QpBuVrJY"
   },
   "outputs": [
    {
     "data": {
      "text/plain": [
       "0         1.897057\n",
       "1         0.741444\n",
       "2         1.813599\n",
       "3         1.190238\n",
       "4         1.442863\n",
       "            ...   \n",
       "999995    1.316988\n",
       "999996    3.845501\n",
       "999997    0.769654\n",
       "999998    1.094536\n",
       "999999    0.800619\n",
       "Length: 1000000, dtype: float64"
      ]
     },
     "execution_count": 176,
     "metadata": {},
     "output_type": "execute_result"
    }
   ],
   "source": [
    "df.eval('a + @col_mean')"
   ]
  },
  {
   "cell_type": "code",
   "execution_count": 177,
   "metadata": {
    "id": "Ge5N1eHXV7hs"
   },
   "outputs": [
    {
     "data": {
      "text/html": [
       "<div>\n",
       "<style scoped>\n",
       "    .dataframe tbody tr th:only-of-type {\n",
       "        vertical-align: middle;\n",
       "    }\n",
       "\n",
       "    .dataframe tbody tr th {\n",
       "        vertical-align: top;\n",
       "    }\n",
       "\n",
       "    .dataframe thead th {\n",
       "        text-align: right;\n",
       "    }\n",
       "</style>\n",
       "<table border=\"1\" class=\"dataframe\">\n",
       "  <thead>\n",
       "    <tr style=\"text-align: right;\">\n",
       "      <th></th>\n",
       "      <th>a</th>\n",
       "      <th>b</th>\n",
       "      <th>c</th>\n",
       "      <th>d</th>\n",
       "      <th>e</th>\n",
       "      <th>r</th>\n",
       "    </tr>\n",
       "  </thead>\n",
       "  <tbody>\n",
       "    <tr>\n",
       "      <th>7</th>\n",
       "      <td>0.000203</td>\n",
       "      <td>0.275657</td>\n",
       "      <td>0.511746</td>\n",
       "      <td>0.777802</td>\n",
       "      <td>0.847280</td>\n",
       "      <td>-0.120153</td>\n",
       "    </tr>\n",
       "    <tr>\n",
       "      <th>10</th>\n",
       "      <td>0.441214</td>\n",
       "      <td>0.180447</td>\n",
       "      <td>0.844174</td>\n",
       "      <td>0.768968</td>\n",
       "      <td>0.188667</td>\n",
       "      <td>0.509890</td>\n",
       "    </tr>\n",
       "    <tr>\n",
       "      <th>30</th>\n",
       "      <td>0.309171</td>\n",
       "      <td>0.376721</td>\n",
       "      <td>0.926108</td>\n",
       "      <td>0.104057</td>\n",
       "      <td>0.868509</td>\n",
       "      <td>0.625575</td>\n",
       "    </tr>\n",
       "    <tr>\n",
       "      <th>31</th>\n",
       "      <td>0.036658</td>\n",
       "      <td>0.325236</td>\n",
       "      <td>0.592668</td>\n",
       "      <td>0.509157</td>\n",
       "      <td>0.983854</td>\n",
       "      <td>0.084487</td>\n",
       "    </tr>\n",
       "    <tr>\n",
       "      <th>41</th>\n",
       "      <td>0.119798</td>\n",
       "      <td>0.377044</td>\n",
       "      <td>0.514189</td>\n",
       "      <td>0.713841</td>\n",
       "      <td>0.594458</td>\n",
       "      <td>0.428728</td>\n",
       "    </tr>\n",
       "    <tr>\n",
       "      <th>...</th>\n",
       "      <td>...</td>\n",
       "      <td>...</td>\n",
       "      <td>...</td>\n",
       "      <td>...</td>\n",
       "      <td>...</td>\n",
       "      <td>...</td>\n",
       "    </tr>\n",
       "    <tr>\n",
       "      <th>999935</th>\n",
       "      <td>0.016681</td>\n",
       "      <td>0.123358</td>\n",
       "      <td>0.788095</td>\n",
       "      <td>0.646211</td>\n",
       "      <td>0.196306</td>\n",
       "      <td>0.046352</td>\n",
       "    </tr>\n",
       "    <tr>\n",
       "      <th>999947</th>\n",
       "      <td>0.055110</td>\n",
       "      <td>0.338223</td>\n",
       "      <td>0.912682</td>\n",
       "      <td>0.390614</td>\n",
       "      <td>0.411103</td>\n",
       "      <td>0.265109</td>\n",
       "    </tr>\n",
       "    <tr>\n",
       "      <th>999962</th>\n",
       "      <td>0.134500</td>\n",
       "      <td>0.170152</td>\n",
       "      <td>0.526387</td>\n",
       "      <td>0.265751</td>\n",
       "      <td>0.950757</td>\n",
       "      <td>0.205080</td>\n",
       "    </tr>\n",
       "    <tr>\n",
       "      <th>999988</th>\n",
       "      <td>0.291257</td>\n",
       "      <td>0.140974</td>\n",
       "      <td>0.522645</td>\n",
       "      <td>0.761549</td>\n",
       "      <td>0.737715</td>\n",
       "      <td>-0.000817</td>\n",
       "    </tr>\n",
       "    <tr>\n",
       "      <th>999999</th>\n",
       "      <td>0.324914</td>\n",
       "      <td>0.405390</td>\n",
       "      <td>0.662564</td>\n",
       "      <td>0.223518</td>\n",
       "      <td>0.387749</td>\n",
       "      <td>0.850095</td>\n",
       "    </tr>\n",
       "  </tbody>\n",
       "</table>\n",
       "<p>124932 rows × 6 columns</p>\n",
       "</div>"
      ],
      "text/plain": [
       "               a         b         c         d         e         r\n",
       "7       0.000203  0.275657  0.511746  0.777802  0.847280 -0.120153\n",
       "10      0.441214  0.180447  0.844174  0.768968  0.188667  0.509890\n",
       "30      0.309171  0.376721  0.926108  0.104057  0.868509  0.625575\n",
       "31      0.036658  0.325236  0.592668  0.509157  0.983854  0.084487\n",
       "41      0.119798  0.377044  0.514189  0.713841  0.594458  0.428728\n",
       "...          ...       ...       ...       ...       ...       ...\n",
       "999935  0.016681  0.123358  0.788095  0.646211  0.196306  0.046352\n",
       "999947  0.055110  0.338223  0.912682  0.390614  0.411103  0.265109\n",
       "999962  0.134500  0.170152  0.526387  0.265751  0.950757  0.205080\n",
       "999988  0.291257  0.140974  0.522645  0.761549  0.737715 -0.000817\n",
       "999999  0.324914  0.405390  0.662564  0.223518  0.387749  0.850095\n",
       "\n",
       "[124932 rows x 6 columns]"
      ]
     },
     "execution_count": 177,
     "metadata": {},
     "output_type": "execute_result"
    }
   ],
   "source": [
    "df[(df.a < 0.5 ) & (df.b < 0.5) & (df.c > 0.5)]"
   ]
  },
  {
   "cell_type": "code",
   "execution_count": 178,
   "metadata": {
    "id": "lSoS8MRFWKSm"
   },
   "outputs": [
    {
     "data": {
      "text/html": [
       "<div>\n",
       "<style scoped>\n",
       "    .dataframe tbody tr th:only-of-type {\n",
       "        vertical-align: middle;\n",
       "    }\n",
       "\n",
       "    .dataframe tbody tr th {\n",
       "        vertical-align: top;\n",
       "    }\n",
       "\n",
       "    .dataframe thead th {\n",
       "        text-align: right;\n",
       "    }\n",
       "</style>\n",
       "<table border=\"1\" class=\"dataframe\">\n",
       "  <thead>\n",
       "    <tr style=\"text-align: right;\">\n",
       "      <th></th>\n",
       "      <th>a</th>\n",
       "      <th>b</th>\n",
       "      <th>c</th>\n",
       "      <th>d</th>\n",
       "      <th>e</th>\n",
       "      <th>r</th>\n",
       "    </tr>\n",
       "  </thead>\n",
       "  <tbody>\n",
       "    <tr>\n",
       "      <th>7</th>\n",
       "      <td>0.000203</td>\n",
       "      <td>0.275657</td>\n",
       "      <td>0.511746</td>\n",
       "      <td>0.777802</td>\n",
       "      <td>0.847280</td>\n",
       "      <td>-0.120153</td>\n",
       "    </tr>\n",
       "    <tr>\n",
       "      <th>10</th>\n",
       "      <td>0.441214</td>\n",
       "      <td>0.180447</td>\n",
       "      <td>0.844174</td>\n",
       "      <td>0.768968</td>\n",
       "      <td>0.188667</td>\n",
       "      <td>0.509890</td>\n",
       "    </tr>\n",
       "    <tr>\n",
       "      <th>30</th>\n",
       "      <td>0.309171</td>\n",
       "      <td>0.376721</td>\n",
       "      <td>0.926108</td>\n",
       "      <td>0.104057</td>\n",
       "      <td>0.868509</td>\n",
       "      <td>0.625575</td>\n",
       "    </tr>\n",
       "    <tr>\n",
       "      <th>31</th>\n",
       "      <td>0.036658</td>\n",
       "      <td>0.325236</td>\n",
       "      <td>0.592668</td>\n",
       "      <td>0.509157</td>\n",
       "      <td>0.983854</td>\n",
       "      <td>0.084487</td>\n",
       "    </tr>\n",
       "    <tr>\n",
       "      <th>41</th>\n",
       "      <td>0.119798</td>\n",
       "      <td>0.377044</td>\n",
       "      <td>0.514189</td>\n",
       "      <td>0.713841</td>\n",
       "      <td>0.594458</td>\n",
       "      <td>0.428728</td>\n",
       "    </tr>\n",
       "    <tr>\n",
       "      <th>...</th>\n",
       "      <td>...</td>\n",
       "      <td>...</td>\n",
       "      <td>...</td>\n",
       "      <td>...</td>\n",
       "      <td>...</td>\n",
       "      <td>...</td>\n",
       "    </tr>\n",
       "    <tr>\n",
       "      <th>999935</th>\n",
       "      <td>0.016681</td>\n",
       "      <td>0.123358</td>\n",
       "      <td>0.788095</td>\n",
       "      <td>0.646211</td>\n",
       "      <td>0.196306</td>\n",
       "      <td>0.046352</td>\n",
       "    </tr>\n",
       "    <tr>\n",
       "      <th>999947</th>\n",
       "      <td>0.055110</td>\n",
       "      <td>0.338223</td>\n",
       "      <td>0.912682</td>\n",
       "      <td>0.390614</td>\n",
       "      <td>0.411103</td>\n",
       "      <td>0.265109</td>\n",
       "    </tr>\n",
       "    <tr>\n",
       "      <th>999962</th>\n",
       "      <td>0.134500</td>\n",
       "      <td>0.170152</td>\n",
       "      <td>0.526387</td>\n",
       "      <td>0.265751</td>\n",
       "      <td>0.950757</td>\n",
       "      <td>0.205080</td>\n",
       "    </tr>\n",
       "    <tr>\n",
       "      <th>999988</th>\n",
       "      <td>0.291257</td>\n",
       "      <td>0.140974</td>\n",
       "      <td>0.522645</td>\n",
       "      <td>0.761549</td>\n",
       "      <td>0.737715</td>\n",
       "      <td>-0.000817</td>\n",
       "    </tr>\n",
       "    <tr>\n",
       "      <th>999999</th>\n",
       "      <td>0.324914</td>\n",
       "      <td>0.405390</td>\n",
       "      <td>0.662564</td>\n",
       "      <td>0.223518</td>\n",
       "      <td>0.387749</td>\n",
       "      <td>0.850095</td>\n",
       "    </tr>\n",
       "  </tbody>\n",
       "</table>\n",
       "<p>124932 rows × 6 columns</p>\n",
       "</div>"
      ],
      "text/plain": [
       "               a         b         c         d         e         r\n",
       "7       0.000203  0.275657  0.511746  0.777802  0.847280 -0.120153\n",
       "10      0.441214  0.180447  0.844174  0.768968  0.188667  0.509890\n",
       "30      0.309171  0.376721  0.926108  0.104057  0.868509  0.625575\n",
       "31      0.036658  0.325236  0.592668  0.509157  0.983854  0.084487\n",
       "41      0.119798  0.377044  0.514189  0.713841  0.594458  0.428728\n",
       "...          ...       ...       ...       ...       ...       ...\n",
       "999935  0.016681  0.123358  0.788095  0.646211  0.196306  0.046352\n",
       "999947  0.055110  0.338223  0.912682  0.390614  0.411103  0.265109\n",
       "999962  0.134500  0.170152  0.526387  0.265751  0.950757  0.205080\n",
       "999988  0.291257  0.140974  0.522645  0.761549  0.737715 -0.000817\n",
       "999999  0.324914  0.405390  0.662564  0.223518  0.387749  0.850095\n",
       "\n",
       "[124932 rows x 6 columns]"
      ]
     },
     "execution_count": 178,
     "metadata": {},
     "output_type": "execute_result"
    }
   ],
   "source": [
    "pd.eval('df[(df.a < 0.5 ) & (df.b < 0.5) & (df.c > 0.5)]')"
   ]
  },
  {
   "cell_type": "code",
   "execution_count": 180,
   "metadata": {
    "id": "DQGuGdV0WZ3Y"
   },
   "outputs": [
    {
     "data": {
      "text/html": [
       "<div>\n",
       "<style scoped>\n",
       "    .dataframe tbody tr th:only-of-type {\n",
       "        vertical-align: middle;\n",
       "    }\n",
       "\n",
       "    .dataframe tbody tr th {\n",
       "        vertical-align: top;\n",
       "    }\n",
       "\n",
       "    .dataframe thead th {\n",
       "        text-align: right;\n",
       "    }\n",
       "</style>\n",
       "<table border=\"1\" class=\"dataframe\">\n",
       "  <thead>\n",
       "    <tr style=\"text-align: right;\">\n",
       "      <th></th>\n",
       "      <th>a</th>\n",
       "      <th>b</th>\n",
       "      <th>c</th>\n",
       "      <th>d</th>\n",
       "      <th>e</th>\n",
       "      <th>r</th>\n",
       "    </tr>\n",
       "  </thead>\n",
       "  <tbody>\n",
       "    <tr>\n",
       "      <th>7</th>\n",
       "      <td>0.000203</td>\n",
       "      <td>0.275657</td>\n",
       "      <td>0.511746</td>\n",
       "      <td>0.777802</td>\n",
       "      <td>0.847280</td>\n",
       "      <td>-0.120153</td>\n",
       "    </tr>\n",
       "    <tr>\n",
       "      <th>10</th>\n",
       "      <td>0.441214</td>\n",
       "      <td>0.180447</td>\n",
       "      <td>0.844174</td>\n",
       "      <td>0.768968</td>\n",
       "      <td>0.188667</td>\n",
       "      <td>0.509890</td>\n",
       "    </tr>\n",
       "    <tr>\n",
       "      <th>30</th>\n",
       "      <td>0.309171</td>\n",
       "      <td>0.376721</td>\n",
       "      <td>0.926108</td>\n",
       "      <td>0.104057</td>\n",
       "      <td>0.868509</td>\n",
       "      <td>0.625575</td>\n",
       "    </tr>\n",
       "    <tr>\n",
       "      <th>31</th>\n",
       "      <td>0.036658</td>\n",
       "      <td>0.325236</td>\n",
       "      <td>0.592668</td>\n",
       "      <td>0.509157</td>\n",
       "      <td>0.983854</td>\n",
       "      <td>0.084487</td>\n",
       "    </tr>\n",
       "    <tr>\n",
       "      <th>41</th>\n",
       "      <td>0.119798</td>\n",
       "      <td>0.377044</td>\n",
       "      <td>0.514189</td>\n",
       "      <td>0.713841</td>\n",
       "      <td>0.594458</td>\n",
       "      <td>0.428728</td>\n",
       "    </tr>\n",
       "    <tr>\n",
       "      <th>...</th>\n",
       "      <td>...</td>\n",
       "      <td>...</td>\n",
       "      <td>...</td>\n",
       "      <td>...</td>\n",
       "      <td>...</td>\n",
       "      <td>...</td>\n",
       "    </tr>\n",
       "    <tr>\n",
       "      <th>999935</th>\n",
       "      <td>0.016681</td>\n",
       "      <td>0.123358</td>\n",
       "      <td>0.788095</td>\n",
       "      <td>0.646211</td>\n",
       "      <td>0.196306</td>\n",
       "      <td>0.046352</td>\n",
       "    </tr>\n",
       "    <tr>\n",
       "      <th>999947</th>\n",
       "      <td>0.055110</td>\n",
       "      <td>0.338223</td>\n",
       "      <td>0.912682</td>\n",
       "      <td>0.390614</td>\n",
       "      <td>0.411103</td>\n",
       "      <td>0.265109</td>\n",
       "    </tr>\n",
       "    <tr>\n",
       "      <th>999962</th>\n",
       "      <td>0.134500</td>\n",
       "      <td>0.170152</td>\n",
       "      <td>0.526387</td>\n",
       "      <td>0.265751</td>\n",
       "      <td>0.950757</td>\n",
       "      <td>0.205080</td>\n",
       "    </tr>\n",
       "    <tr>\n",
       "      <th>999988</th>\n",
       "      <td>0.291257</td>\n",
       "      <td>0.140974</td>\n",
       "      <td>0.522645</td>\n",
       "      <td>0.761549</td>\n",
       "      <td>0.737715</td>\n",
       "      <td>-0.000817</td>\n",
       "    </tr>\n",
       "    <tr>\n",
       "      <th>999999</th>\n",
       "      <td>0.324914</td>\n",
       "      <td>0.405390</td>\n",
       "      <td>0.662564</td>\n",
       "      <td>0.223518</td>\n",
       "      <td>0.387749</td>\n",
       "      <td>0.850095</td>\n",
       "    </tr>\n",
       "  </tbody>\n",
       "</table>\n",
       "<p>124932 rows × 6 columns</p>\n",
       "</div>"
      ],
      "text/plain": [
       "               a         b         c         d         e         r\n",
       "7       0.000203  0.275657  0.511746  0.777802  0.847280 -0.120153\n",
       "10      0.441214  0.180447  0.844174  0.768968  0.188667  0.509890\n",
       "30      0.309171  0.376721  0.926108  0.104057  0.868509  0.625575\n",
       "31      0.036658  0.325236  0.592668  0.509157  0.983854  0.084487\n",
       "41      0.119798  0.377044  0.514189  0.713841  0.594458  0.428728\n",
       "...          ...       ...       ...       ...       ...       ...\n",
       "999935  0.016681  0.123358  0.788095  0.646211  0.196306  0.046352\n",
       "999947  0.055110  0.338223  0.912682  0.390614  0.411103  0.265109\n",
       "999962  0.134500  0.170152  0.526387  0.265751  0.950757  0.205080\n",
       "999988  0.291257  0.140974  0.522645  0.761549  0.737715 -0.000817\n",
       "999999  0.324914  0.405390  0.662564  0.223518  0.387749  0.850095\n",
       "\n",
       "[124932 rows x 6 columns]"
      ]
     },
     "execution_count": 180,
     "metadata": {},
     "output_type": "execute_result"
    }
   ],
   "source": [
    "df.query('(a < 0.5) and (b < 0.5) and (c > 0.5)')"
   ]
  },
  {
   "cell_type": "code",
   "execution_count": 181,
   "metadata": {
    "id": "xhWXd_LEW3wL"
   },
   "outputs": [
    {
     "data": {
      "text/html": [
       "<div>\n",
       "<style scoped>\n",
       "    .dataframe tbody tr th:only-of-type {\n",
       "        vertical-align: middle;\n",
       "    }\n",
       "\n",
       "    .dataframe tbody tr th {\n",
       "        vertical-align: top;\n",
       "    }\n",
       "\n",
       "    .dataframe thead th {\n",
       "        text-align: right;\n",
       "    }\n",
       "</style>\n",
       "<table border=\"1\" class=\"dataframe\">\n",
       "  <thead>\n",
       "    <tr style=\"text-align: right;\">\n",
       "      <th></th>\n",
       "      <th>a</th>\n",
       "      <th>b</th>\n",
       "      <th>c</th>\n",
       "      <th>d</th>\n",
       "      <th>e</th>\n",
       "      <th>r</th>\n",
       "    </tr>\n",
       "  </thead>\n",
       "  <tbody>\n",
       "    <tr>\n",
       "      <th>6</th>\n",
       "      <td>0.373876</td>\n",
       "      <td>0.455643</td>\n",
       "      <td>0.118243</td>\n",
       "      <td>0.446538</td>\n",
       "      <td>0.064860</td>\n",
       "      <td>4.198354</td>\n",
       "    </tr>\n",
       "    <tr>\n",
       "      <th>7</th>\n",
       "      <td>0.000203</td>\n",
       "      <td>0.275657</td>\n",
       "      <td>0.511746</td>\n",
       "      <td>0.777802</td>\n",
       "      <td>0.847280</td>\n",
       "      <td>-0.120153</td>\n",
       "    </tr>\n",
       "    <tr>\n",
       "      <th>10</th>\n",
       "      <td>0.441214</td>\n",
       "      <td>0.180447</td>\n",
       "      <td>0.844174</td>\n",
       "      <td>0.768968</td>\n",
       "      <td>0.188667</td>\n",
       "      <td>0.509890</td>\n",
       "    </tr>\n",
       "    <tr>\n",
       "      <th>11</th>\n",
       "      <td>0.040775</td>\n",
       "      <td>0.037103</td>\n",
       "      <td>0.390413</td>\n",
       "      <td>0.164027</td>\n",
       "      <td>0.152431</td>\n",
       "      <td>0.110806</td>\n",
       "    </tr>\n",
       "    <tr>\n",
       "      <th>21</th>\n",
       "      <td>0.492143</td>\n",
       "      <td>0.184041</td>\n",
       "      <td>0.037820</td>\n",
       "      <td>0.483285</td>\n",
       "      <td>0.741904</td>\n",
       "      <td>4.999783</td>\n",
       "    </tr>\n",
       "    <tr>\n",
       "      <th>...</th>\n",
       "      <td>...</td>\n",
       "      <td>...</td>\n",
       "      <td>...</td>\n",
       "      <td>...</td>\n",
       "      <td>...</td>\n",
       "      <td>...</td>\n",
       "    </tr>\n",
       "    <tr>\n",
       "      <th>999989</th>\n",
       "      <td>0.451339</td>\n",
       "      <td>0.012319</td>\n",
       "      <td>0.119308</td>\n",
       "      <td>0.865681</td>\n",
       "      <td>0.214441</td>\n",
       "      <td>0.368952</td>\n",
       "    </tr>\n",
       "    <tr>\n",
       "      <th>999990</th>\n",
       "      <td>0.404735</td>\n",
       "      <td>0.039465</td>\n",
       "      <td>0.000832</td>\n",
       "      <td>0.670600</td>\n",
       "      <td>0.979463</td>\n",
       "      <td>47.159333</td>\n",
       "    </tr>\n",
       "    <tr>\n",
       "      <th>999995</th>\n",
       "      <td>0.219086</td>\n",
       "      <td>0.355704</td>\n",
       "      <td>0.064821</td>\n",
       "      <td>0.195660</td>\n",
       "      <td>0.056682</td>\n",
       "      <td>5.695455</td>\n",
       "    </tr>\n",
       "    <tr>\n",
       "      <th>999997</th>\n",
       "      <td>0.289613</td>\n",
       "      <td>0.241620</td>\n",
       "      <td>0.191625</td>\n",
       "      <td>0.520742</td>\n",
       "      <td>0.179722</td>\n",
       "      <td>1.456923</td>\n",
       "    </tr>\n",
       "    <tr>\n",
       "      <th>999999</th>\n",
       "      <td>0.324914</td>\n",
       "      <td>0.405390</td>\n",
       "      <td>0.662564</td>\n",
       "      <td>0.223518</td>\n",
       "      <td>0.387749</td>\n",
       "      <td>0.850095</td>\n",
       "    </tr>\n",
       "  </tbody>\n",
       "</table>\n",
       "<p>249749 rows × 6 columns</p>\n",
       "</div>"
      ],
      "text/plain": [
       "               a         b         c         d         e          r\n",
       "6       0.373876  0.455643  0.118243  0.446538  0.064860   4.198354\n",
       "7       0.000203  0.275657  0.511746  0.777802  0.847280  -0.120153\n",
       "10      0.441214  0.180447  0.844174  0.768968  0.188667   0.509890\n",
       "11      0.040775  0.037103  0.390413  0.164027  0.152431   0.110806\n",
       "21      0.492143  0.184041  0.037820  0.483285  0.741904   4.999783\n",
       "...          ...       ...       ...       ...       ...        ...\n",
       "999989  0.451339  0.012319  0.119308  0.865681  0.214441   0.368952\n",
       "999990  0.404735  0.039465  0.000832  0.670600  0.979463  47.159333\n",
       "999995  0.219086  0.355704  0.064821  0.195660  0.056682   5.695455\n",
       "999997  0.289613  0.241620  0.191625  0.520742  0.179722   1.456923\n",
       "999999  0.324914  0.405390  0.662564  0.223518  0.387749   0.850095\n",
       "\n",
       "[249749 rows x 6 columns]"
      ]
     },
     "execution_count": 181,
     "metadata": {},
     "output_type": "execute_result"
    }
   ],
   "source": [
    "col_mean = df['d'].mean()\n",
    "df[(df.a < col_mean) & (df.b < col_mean)]"
   ]
  },
  {
   "cell_type": "code",
   "execution_count": 182,
   "metadata": {
    "id": "3LhXrBqBXZ3k"
   },
   "outputs": [
    {
     "data": {
      "text/html": [
       "<div>\n",
       "<style scoped>\n",
       "    .dataframe tbody tr th:only-of-type {\n",
       "        vertical-align: middle;\n",
       "    }\n",
       "\n",
       "    .dataframe tbody tr th {\n",
       "        vertical-align: top;\n",
       "    }\n",
       "\n",
       "    .dataframe thead th {\n",
       "        text-align: right;\n",
       "    }\n",
       "</style>\n",
       "<table border=\"1\" class=\"dataframe\">\n",
       "  <thead>\n",
       "    <tr style=\"text-align: right;\">\n",
       "      <th></th>\n",
       "      <th>a</th>\n",
       "      <th>b</th>\n",
       "      <th>c</th>\n",
       "      <th>d</th>\n",
       "      <th>e</th>\n",
       "      <th>r</th>\n",
       "    </tr>\n",
       "  </thead>\n",
       "  <tbody>\n",
       "    <tr>\n",
       "      <th>6</th>\n",
       "      <td>0.373876</td>\n",
       "      <td>0.455643</td>\n",
       "      <td>0.118243</td>\n",
       "      <td>0.446538</td>\n",
       "      <td>0.064860</td>\n",
       "      <td>4.198354</td>\n",
       "    </tr>\n",
       "    <tr>\n",
       "      <th>7</th>\n",
       "      <td>0.000203</td>\n",
       "      <td>0.275657</td>\n",
       "      <td>0.511746</td>\n",
       "      <td>0.777802</td>\n",
       "      <td>0.847280</td>\n",
       "      <td>-0.120153</td>\n",
       "    </tr>\n",
       "    <tr>\n",
       "      <th>10</th>\n",
       "      <td>0.441214</td>\n",
       "      <td>0.180447</td>\n",
       "      <td>0.844174</td>\n",
       "      <td>0.768968</td>\n",
       "      <td>0.188667</td>\n",
       "      <td>0.509890</td>\n",
       "    </tr>\n",
       "    <tr>\n",
       "      <th>11</th>\n",
       "      <td>0.040775</td>\n",
       "      <td>0.037103</td>\n",
       "      <td>0.390413</td>\n",
       "      <td>0.164027</td>\n",
       "      <td>0.152431</td>\n",
       "      <td>0.110806</td>\n",
       "    </tr>\n",
       "    <tr>\n",
       "      <th>21</th>\n",
       "      <td>0.492143</td>\n",
       "      <td>0.184041</td>\n",
       "      <td>0.037820</td>\n",
       "      <td>0.483285</td>\n",
       "      <td>0.741904</td>\n",
       "      <td>4.999783</td>\n",
       "    </tr>\n",
       "    <tr>\n",
       "      <th>...</th>\n",
       "      <td>...</td>\n",
       "      <td>...</td>\n",
       "      <td>...</td>\n",
       "      <td>...</td>\n",
       "      <td>...</td>\n",
       "      <td>...</td>\n",
       "    </tr>\n",
       "    <tr>\n",
       "      <th>999989</th>\n",
       "      <td>0.451339</td>\n",
       "      <td>0.012319</td>\n",
       "      <td>0.119308</td>\n",
       "      <td>0.865681</td>\n",
       "      <td>0.214441</td>\n",
       "      <td>0.368952</td>\n",
       "    </tr>\n",
       "    <tr>\n",
       "      <th>999990</th>\n",
       "      <td>0.404735</td>\n",
       "      <td>0.039465</td>\n",
       "      <td>0.000832</td>\n",
       "      <td>0.670600</td>\n",
       "      <td>0.979463</td>\n",
       "      <td>47.159333</td>\n",
       "    </tr>\n",
       "    <tr>\n",
       "      <th>999995</th>\n",
       "      <td>0.219086</td>\n",
       "      <td>0.355704</td>\n",
       "      <td>0.064821</td>\n",
       "      <td>0.195660</td>\n",
       "      <td>0.056682</td>\n",
       "      <td>5.695455</td>\n",
       "    </tr>\n",
       "    <tr>\n",
       "      <th>999997</th>\n",
       "      <td>0.289613</td>\n",
       "      <td>0.241620</td>\n",
       "      <td>0.191625</td>\n",
       "      <td>0.520742</td>\n",
       "      <td>0.179722</td>\n",
       "      <td>1.456923</td>\n",
       "    </tr>\n",
       "    <tr>\n",
       "      <th>999999</th>\n",
       "      <td>0.324914</td>\n",
       "      <td>0.405390</td>\n",
       "      <td>0.662564</td>\n",
       "      <td>0.223518</td>\n",
       "      <td>0.387749</td>\n",
       "      <td>0.850095</td>\n",
       "    </tr>\n",
       "  </tbody>\n",
       "</table>\n",
       "<p>249749 rows × 6 columns</p>\n",
       "</div>"
      ],
      "text/plain": [
       "               a         b         c         d         e          r\n",
       "6       0.373876  0.455643  0.118243  0.446538  0.064860   4.198354\n",
       "7       0.000203  0.275657  0.511746  0.777802  0.847280  -0.120153\n",
       "10      0.441214  0.180447  0.844174  0.768968  0.188667   0.509890\n",
       "11      0.040775  0.037103  0.390413  0.164027  0.152431   0.110806\n",
       "21      0.492143  0.184041  0.037820  0.483285  0.741904   4.999783\n",
       "...          ...       ...       ...       ...       ...        ...\n",
       "999989  0.451339  0.012319  0.119308  0.865681  0.214441   0.368952\n",
       "999990  0.404735  0.039465  0.000832  0.670600  0.979463  47.159333\n",
       "999995  0.219086  0.355704  0.064821  0.195660  0.056682   5.695455\n",
       "999997  0.289613  0.241620  0.191625  0.520742  0.179722   1.456923\n",
       "999999  0.324914  0.405390  0.662564  0.223518  0.387749   0.850095\n",
       "\n",
       "[249749 rows x 6 columns]"
      ]
     },
     "execution_count": 182,
     "metadata": {},
     "output_type": "execute_result"
    }
   ],
   "source": [
    "df.query('a < @col_mean and b < @col_mean')"
   ]
  },
  {
   "cell_type": "markdown",
   "metadata": {
    "id": "098-pgqPZvz6"
   },
   "source": [
    "## 데이터 결합"
   ]
  },
  {
   "cell_type": "markdown",
   "metadata": {
    "id": "BCSOonbBpkpT"
   },
   "source": [
    "### Concat() / Append()"
   ]
  },
  {
   "cell_type": "code",
   "execution_count": 183,
   "metadata": {
    "id": "cTmO8pFKcd_W"
   },
   "outputs": [
    {
     "data": {
      "text/plain": [
       "1    a\n",
       "2    b\n",
       "3    c\n",
       "4    d\n",
       "dtype: object"
      ]
     },
     "execution_count": 183,
     "metadata": {},
     "output_type": "execute_result"
    }
   ],
   "source": [
    "s1 = pd.Series(['a','b'], index=[1,2])\n",
    "s2 = pd.Series(['c','d'], index=[3,4])\n",
    "pd.concat([s1, s2])"
   ]
  },
  {
   "cell_type": "code",
   "execution_count": 184,
   "metadata": {
    "id": "HnvsxJHqrAxj"
   },
   "outputs": [],
   "source": [
    "def create_df(cols, idx):\n",
    "    data = {c : [str(c.lower()) + str(i) for i in idx] for c in cols}\n",
    "    return pd.DataFrame(data, idx)"
   ]
  },
  {
   "cell_type": "code",
   "execution_count": 187,
   "metadata": {
    "id": "mIqdS3_saR2D"
   },
   "outputs": [
    {
     "data": {
      "text/html": [
       "<div>\n",
       "<style scoped>\n",
       "    .dataframe tbody tr th:only-of-type {\n",
       "        vertical-align: middle;\n",
       "    }\n",
       "\n",
       "    .dataframe tbody tr th {\n",
       "        vertical-align: top;\n",
       "    }\n",
       "\n",
       "    .dataframe thead th {\n",
       "        text-align: right;\n",
       "    }\n",
       "</style>\n",
       "<table border=\"1\" class=\"dataframe\">\n",
       "  <thead>\n",
       "    <tr style=\"text-align: right;\">\n",
       "      <th></th>\n",
       "      <th>a</th>\n",
       "      <th>b</th>\n",
       "    </tr>\n",
       "  </thead>\n",
       "  <tbody>\n",
       "    <tr>\n",
       "      <th>1</th>\n",
       "      <td>a1</td>\n",
       "      <td>b1</td>\n",
       "    </tr>\n",
       "    <tr>\n",
       "      <th>2</th>\n",
       "      <td>a2</td>\n",
       "      <td>b2</td>\n",
       "    </tr>\n",
       "  </tbody>\n",
       "</table>\n",
       "</div>"
      ],
      "text/plain": [
       "    a   b\n",
       "1  a1  b1\n",
       "2  a2  b2"
      ]
     },
     "execution_count": 187,
     "metadata": {},
     "output_type": "execute_result"
    }
   ],
   "source": [
    "df1 = create_df ('ab', [1,2])\n",
    "df1"
   ]
  },
  {
   "cell_type": "code",
   "execution_count": 188,
   "metadata": {
    "id": "9zjCkIpKawR7"
   },
   "outputs": [
    {
     "data": {
      "text/html": [
       "<div>\n",
       "<style scoped>\n",
       "    .dataframe tbody tr th:only-of-type {\n",
       "        vertical-align: middle;\n",
       "    }\n",
       "\n",
       "    .dataframe tbody tr th {\n",
       "        vertical-align: top;\n",
       "    }\n",
       "\n",
       "    .dataframe thead th {\n",
       "        text-align: right;\n",
       "    }\n",
       "</style>\n",
       "<table border=\"1\" class=\"dataframe\">\n",
       "  <thead>\n",
       "    <tr style=\"text-align: right;\">\n",
       "      <th></th>\n",
       "      <th>a</th>\n",
       "      <th>b</th>\n",
       "    </tr>\n",
       "  </thead>\n",
       "  <tbody>\n",
       "    <tr>\n",
       "      <th>3</th>\n",
       "      <td>a3</td>\n",
       "      <td>b3</td>\n",
       "    </tr>\n",
       "    <tr>\n",
       "      <th>4</th>\n",
       "      <td>a4</td>\n",
       "      <td>b4</td>\n",
       "    </tr>\n",
       "  </tbody>\n",
       "</table>\n",
       "</div>"
      ],
      "text/plain": [
       "    a   b\n",
       "3  a3  b3\n",
       "4  a4  b4"
      ]
     },
     "execution_count": 188,
     "metadata": {},
     "output_type": "execute_result"
    }
   ],
   "source": [
    "df2 = create_df('ab',[3,4])\n",
    "df2"
   ]
  },
  {
   "cell_type": "code",
   "execution_count": 189,
   "metadata": {
    "id": "1BoDpvACc_J2"
   },
   "outputs": [
    {
     "data": {
      "text/html": [
       "<div>\n",
       "<style scoped>\n",
       "    .dataframe tbody tr th:only-of-type {\n",
       "        vertical-align: middle;\n",
       "    }\n",
       "\n",
       "    .dataframe tbody tr th {\n",
       "        vertical-align: top;\n",
       "    }\n",
       "\n",
       "    .dataframe thead th {\n",
       "        text-align: right;\n",
       "    }\n",
       "</style>\n",
       "<table border=\"1\" class=\"dataframe\">\n",
       "  <thead>\n",
       "    <tr style=\"text-align: right;\">\n",
       "      <th></th>\n",
       "      <th>a</th>\n",
       "      <th>b</th>\n",
       "    </tr>\n",
       "  </thead>\n",
       "  <tbody>\n",
       "    <tr>\n",
       "      <th>1</th>\n",
       "      <td>a1</td>\n",
       "      <td>b1</td>\n",
       "    </tr>\n",
       "    <tr>\n",
       "      <th>2</th>\n",
       "      <td>a2</td>\n",
       "      <td>b2</td>\n",
       "    </tr>\n",
       "    <tr>\n",
       "      <th>3</th>\n",
       "      <td>a3</td>\n",
       "      <td>b3</td>\n",
       "    </tr>\n",
       "    <tr>\n",
       "      <th>4</th>\n",
       "      <td>a4</td>\n",
       "      <td>b4</td>\n",
       "    </tr>\n",
       "  </tbody>\n",
       "</table>\n",
       "</div>"
      ],
      "text/plain": [
       "    a   b\n",
       "1  a1  b1\n",
       "2  a2  b2\n",
       "3  a3  b3\n",
       "4  a4  b4"
      ]
     },
     "execution_count": 189,
     "metadata": {},
     "output_type": "execute_result"
    }
   ],
   "source": [
    "pd.concat([df1,df2])"
   ]
  },
  {
   "cell_type": "code",
   "execution_count": 190,
   "metadata": {
    "id": "JJL0XcfGdBVu"
   },
   "outputs": [
    {
     "data": {
      "text/html": [
       "<div>\n",
       "<style scoped>\n",
       "    .dataframe tbody tr th:only-of-type {\n",
       "        vertical-align: middle;\n",
       "    }\n",
       "\n",
       "    .dataframe tbody tr th {\n",
       "        vertical-align: top;\n",
       "    }\n",
       "\n",
       "    .dataframe thead th {\n",
       "        text-align: right;\n",
       "    }\n",
       "</style>\n",
       "<table border=\"1\" class=\"dataframe\">\n",
       "  <thead>\n",
       "    <tr style=\"text-align: right;\">\n",
       "      <th></th>\n",
       "      <th>a</th>\n",
       "      <th>b</th>\n",
       "    </tr>\n",
       "  </thead>\n",
       "  <tbody>\n",
       "    <tr>\n",
       "      <th>0</th>\n",
       "      <td>a0</td>\n",
       "      <td>b0</td>\n",
       "    </tr>\n",
       "    <tr>\n",
       "      <th>1</th>\n",
       "      <td>a1</td>\n",
       "      <td>b1</td>\n",
       "    </tr>\n",
       "  </tbody>\n",
       "</table>\n",
       "</div>"
      ],
      "text/plain": [
       "    a   b\n",
       "0  a0  b0\n",
       "1  a1  b1"
      ]
     },
     "execution_count": 190,
     "metadata": {},
     "output_type": "execute_result"
    }
   ],
   "source": [
    "df3 = create_df('ab',[0,1])\n",
    "df3"
   ]
  },
  {
   "cell_type": "code",
   "execution_count": 191,
   "metadata": {
    "id": "lYA3JakEdgKV"
   },
   "outputs": [
    {
     "data": {
      "text/html": [
       "<div>\n",
       "<style scoped>\n",
       "    .dataframe tbody tr th:only-of-type {\n",
       "        vertical-align: middle;\n",
       "    }\n",
       "\n",
       "    .dataframe tbody tr th {\n",
       "        vertical-align: top;\n",
       "    }\n",
       "\n",
       "    .dataframe thead th {\n",
       "        text-align: right;\n",
       "    }\n",
       "</style>\n",
       "<table border=\"1\" class=\"dataframe\">\n",
       "  <thead>\n",
       "    <tr style=\"text-align: right;\">\n",
       "      <th></th>\n",
       "      <th>c</th>\n",
       "      <th>d</th>\n",
       "    </tr>\n",
       "  </thead>\n",
       "  <tbody>\n",
       "    <tr>\n",
       "      <th>0</th>\n",
       "      <td>c0</td>\n",
       "      <td>d0</td>\n",
       "    </tr>\n",
       "    <tr>\n",
       "      <th>1</th>\n",
       "      <td>c1</td>\n",
       "      <td>d1</td>\n",
       "    </tr>\n",
       "  </tbody>\n",
       "</table>\n",
       "</div>"
      ],
      "text/plain": [
       "    c   d\n",
       "0  c0  d0\n",
       "1  c1  d1"
      ]
     },
     "execution_count": 191,
     "metadata": {},
     "output_type": "execute_result"
    }
   ],
   "source": [
    "df4 = create_df('cd',[0,1])\n",
    "df4"
   ]
  },
  {
   "cell_type": "code",
   "execution_count": 192,
   "metadata": {
    "id": "8QH83dOOdiAs"
   },
   "outputs": [
    {
     "data": {
      "text/html": [
       "<div>\n",
       "<style scoped>\n",
       "    .dataframe tbody tr th:only-of-type {\n",
       "        vertical-align: middle;\n",
       "    }\n",
       "\n",
       "    .dataframe tbody tr th {\n",
       "        vertical-align: top;\n",
       "    }\n",
       "\n",
       "    .dataframe thead th {\n",
       "        text-align: right;\n",
       "    }\n",
       "</style>\n",
       "<table border=\"1\" class=\"dataframe\">\n",
       "  <thead>\n",
       "    <tr style=\"text-align: right;\">\n",
       "      <th></th>\n",
       "      <th>a</th>\n",
       "      <th>b</th>\n",
       "      <th>c</th>\n",
       "      <th>d</th>\n",
       "    </tr>\n",
       "  </thead>\n",
       "  <tbody>\n",
       "    <tr>\n",
       "      <th>0</th>\n",
       "      <td>a0</td>\n",
       "      <td>b0</td>\n",
       "      <td>NaN</td>\n",
       "      <td>NaN</td>\n",
       "    </tr>\n",
       "    <tr>\n",
       "      <th>1</th>\n",
       "      <td>a1</td>\n",
       "      <td>b1</td>\n",
       "      <td>NaN</td>\n",
       "      <td>NaN</td>\n",
       "    </tr>\n",
       "    <tr>\n",
       "      <th>0</th>\n",
       "      <td>NaN</td>\n",
       "      <td>NaN</td>\n",
       "      <td>c0</td>\n",
       "      <td>d0</td>\n",
       "    </tr>\n",
       "    <tr>\n",
       "      <th>1</th>\n",
       "      <td>NaN</td>\n",
       "      <td>NaN</td>\n",
       "      <td>c1</td>\n",
       "      <td>d1</td>\n",
       "    </tr>\n",
       "  </tbody>\n",
       "</table>\n",
       "</div>"
      ],
      "text/plain": [
       "     a    b    c    d\n",
       "0   a0   b0  NaN  NaN\n",
       "1   a1   b1  NaN  NaN\n",
       "0  NaN  NaN   c0   d0\n",
       "1  NaN  NaN   c1   d1"
      ]
     },
     "execution_count": 192,
     "metadata": {},
     "output_type": "execute_result"
    }
   ],
   "source": [
    "pd.concat([df3,df4])"
   ]
  },
  {
   "cell_type": "code",
   "execution_count": 199,
   "metadata": {},
   "outputs": [
    {
     "data": {
      "text/html": [
       "<div>\n",
       "<style scoped>\n",
       "    .dataframe tbody tr th:only-of-type {\n",
       "        vertical-align: middle;\n",
       "    }\n",
       "\n",
       "    .dataframe tbody tr th {\n",
       "        vertical-align: top;\n",
       "    }\n",
       "\n",
       "    .dataframe thead th {\n",
       "        text-align: right;\n",
       "    }\n",
       "</style>\n",
       "<table border=\"1\" class=\"dataframe\">\n",
       "  <thead>\n",
       "    <tr style=\"text-align: right;\">\n",
       "      <th></th>\n",
       "      <th>a</th>\n",
       "      <th>b</th>\n",
       "      <th>c</th>\n",
       "      <th>d</th>\n",
       "    </tr>\n",
       "  </thead>\n",
       "  <tbody>\n",
       "    <tr>\n",
       "      <th>0</th>\n",
       "      <td>a0</td>\n",
       "      <td>b0</td>\n",
       "      <td>c0</td>\n",
       "      <td>d0</td>\n",
       "    </tr>\n",
       "    <tr>\n",
       "      <th>1</th>\n",
       "      <td>a1</td>\n",
       "      <td>b1</td>\n",
       "      <td>c1</td>\n",
       "      <td>d1</td>\n",
       "    </tr>\n",
       "  </tbody>\n",
       "</table>\n",
       "</div>"
      ],
      "text/plain": [
       "    a   b   c   d\n",
       "0  a0  b0  c0  d0\n",
       "1  a1  b1  c1  d1"
      ]
     },
     "execution_count": 199,
     "metadata": {},
     "output_type": "execute_result"
    }
   ],
   "source": [
    "pd.concat([df3,df4], axis=1)"
   ]
  },
  {
   "cell_type": "code",
   "execution_count": 193,
   "metadata": {
    "id": "b-ZOQg0gdk8E"
   },
   "outputs": [],
   "source": [
    "# pd.concat([df1, df3], verify_integrity=True)"
   ]
  },
  {
   "cell_type": "code",
   "execution_count": 200,
   "metadata": {},
   "outputs": [
    {
     "data": {
      "text/html": [
       "<div>\n",
       "<style scoped>\n",
       "    .dataframe tbody tr th:only-of-type {\n",
       "        vertical-align: middle;\n",
       "    }\n",
       "\n",
       "    .dataframe tbody tr th {\n",
       "        vertical-align: top;\n",
       "    }\n",
       "\n",
       "    .dataframe thead th {\n",
       "        text-align: right;\n",
       "    }\n",
       "</style>\n",
       "<table border=\"1\" class=\"dataframe\">\n",
       "  <thead>\n",
       "    <tr style=\"text-align: right;\">\n",
       "      <th></th>\n",
       "      <th>a</th>\n",
       "      <th>b</th>\n",
       "    </tr>\n",
       "  </thead>\n",
       "  <tbody>\n",
       "    <tr>\n",
       "      <th>1</th>\n",
       "      <td>a1</td>\n",
       "      <td>b1</td>\n",
       "    </tr>\n",
       "    <tr>\n",
       "      <th>2</th>\n",
       "      <td>a2</td>\n",
       "      <td>b2</td>\n",
       "    </tr>\n",
       "    <tr>\n",
       "      <th>0</th>\n",
       "      <td>a0</td>\n",
       "      <td>b0</td>\n",
       "    </tr>\n",
       "    <tr>\n",
       "      <th>1</th>\n",
       "      <td>a1</td>\n",
       "      <td>b1</td>\n",
       "    </tr>\n",
       "  </tbody>\n",
       "</table>\n",
       "</div>"
      ],
      "text/plain": [
       "    a   b\n",
       "1  a1  b1\n",
       "2  a2  b2\n",
       "0  a0  b0\n",
       "1  a1  b1"
      ]
     },
     "execution_count": 200,
     "metadata": {},
     "output_type": "execute_result"
    }
   ],
   "source": [
    "pd.concat([df1,df3])"
   ]
  },
  {
   "cell_type": "code",
   "execution_count": 194,
   "metadata": {
    "id": "v_SSoUNIeeGO"
   },
   "outputs": [
    {
     "data": {
      "text/html": [
       "<div>\n",
       "<style scoped>\n",
       "    .dataframe tbody tr th:only-of-type {\n",
       "        vertical-align: middle;\n",
       "    }\n",
       "\n",
       "    .dataframe tbody tr th {\n",
       "        vertical-align: top;\n",
       "    }\n",
       "\n",
       "    .dataframe thead th {\n",
       "        text-align: right;\n",
       "    }\n",
       "</style>\n",
       "<table border=\"1\" class=\"dataframe\">\n",
       "  <thead>\n",
       "    <tr style=\"text-align: right;\">\n",
       "      <th></th>\n",
       "      <th>a</th>\n",
       "      <th>b</th>\n",
       "    </tr>\n",
       "  </thead>\n",
       "  <tbody>\n",
       "    <tr>\n",
       "      <th>0</th>\n",
       "      <td>a1</td>\n",
       "      <td>b1</td>\n",
       "    </tr>\n",
       "    <tr>\n",
       "      <th>1</th>\n",
       "      <td>a2</td>\n",
       "      <td>b2</td>\n",
       "    </tr>\n",
       "    <tr>\n",
       "      <th>2</th>\n",
       "      <td>a0</td>\n",
       "      <td>b0</td>\n",
       "    </tr>\n",
       "    <tr>\n",
       "      <th>3</th>\n",
       "      <td>a1</td>\n",
       "      <td>b1</td>\n",
       "    </tr>\n",
       "  </tbody>\n",
       "</table>\n",
       "</div>"
      ],
      "text/plain": [
       "    a   b\n",
       "0  a1  b1\n",
       "1  a2  b2\n",
       "2  a0  b0\n",
       "3  a1  b1"
      ]
     },
     "execution_count": 194,
     "metadata": {},
     "output_type": "execute_result"
    }
   ],
   "source": [
    "pd.concat([df1,df3], ignore_index=True)"
   ]
  },
  {
   "cell_type": "code",
   "execution_count": 195,
   "metadata": {
    "id": "FxzZqsfYfGIr"
   },
   "outputs": [
    {
     "data": {
      "text/html": [
       "<div>\n",
       "<style scoped>\n",
       "    .dataframe tbody tr th:only-of-type {\n",
       "        vertical-align: middle;\n",
       "    }\n",
       "\n",
       "    .dataframe tbody tr th {\n",
       "        vertical-align: top;\n",
       "    }\n",
       "\n",
       "    .dataframe thead th {\n",
       "        text-align: right;\n",
       "    }\n",
       "</style>\n",
       "<table border=\"1\" class=\"dataframe\">\n",
       "  <thead>\n",
       "    <tr style=\"text-align: right;\">\n",
       "      <th></th>\n",
       "      <th></th>\n",
       "      <th>a</th>\n",
       "      <th>b</th>\n",
       "    </tr>\n",
       "  </thead>\n",
       "  <tbody>\n",
       "    <tr>\n",
       "      <th rowspan=\"2\" valign=\"top\">X</th>\n",
       "      <th>1</th>\n",
       "      <td>a1</td>\n",
       "      <td>b1</td>\n",
       "    </tr>\n",
       "    <tr>\n",
       "      <th>2</th>\n",
       "      <td>a2</td>\n",
       "      <td>b2</td>\n",
       "    </tr>\n",
       "    <tr>\n",
       "      <th rowspan=\"2\" valign=\"top\">Y</th>\n",
       "      <th>0</th>\n",
       "      <td>a0</td>\n",
       "      <td>b0</td>\n",
       "    </tr>\n",
       "    <tr>\n",
       "      <th>1</th>\n",
       "      <td>a1</td>\n",
       "      <td>b1</td>\n",
       "    </tr>\n",
       "  </tbody>\n",
       "</table>\n",
       "</div>"
      ],
      "text/plain": [
       "      a   b\n",
       "X 1  a1  b1\n",
       "  2  a2  b2\n",
       "Y 0  a0  b0\n",
       "  1  a1  b1"
      ]
     },
     "execution_count": 195,
     "metadata": {},
     "output_type": "execute_result"
    }
   ],
   "source": [
    "pd.concat([df1,df3], keys=['X','Y'])"
   ]
  },
  {
   "cell_type": "code",
   "execution_count": 196,
   "metadata": {
    "id": "HNPzK-lyfRI7"
   },
   "outputs": [
    {
     "data": {
      "text/html": [
       "<div>\n",
       "<style scoped>\n",
       "    .dataframe tbody tr th:only-of-type {\n",
       "        vertical-align: middle;\n",
       "    }\n",
       "\n",
       "    .dataframe tbody tr th {\n",
       "        vertical-align: top;\n",
       "    }\n",
       "\n",
       "    .dataframe thead th {\n",
       "        text-align: right;\n",
       "    }\n",
       "</style>\n",
       "<table border=\"1\" class=\"dataframe\">\n",
       "  <thead>\n",
       "    <tr style=\"text-align: right;\">\n",
       "      <th></th>\n",
       "      <th>a</th>\n",
       "      <th>b</th>\n",
       "      <th>c</th>\n",
       "      <th>d</th>\n",
       "    </tr>\n",
       "  </thead>\n",
       "  <tbody>\n",
       "    <tr>\n",
       "      <th>1</th>\n",
       "      <td>a1</td>\n",
       "      <td>b1</td>\n",
       "      <td>c1</td>\n",
       "      <td>NaN</td>\n",
       "    </tr>\n",
       "    <tr>\n",
       "      <th>2</th>\n",
       "      <td>a2</td>\n",
       "      <td>b2</td>\n",
       "      <td>c2</td>\n",
       "      <td>NaN</td>\n",
       "    </tr>\n",
       "    <tr>\n",
       "      <th>3</th>\n",
       "      <td>NaN</td>\n",
       "      <td>b3</td>\n",
       "      <td>c3</td>\n",
       "      <td>d3</td>\n",
       "    </tr>\n",
       "    <tr>\n",
       "      <th>4</th>\n",
       "      <td>NaN</td>\n",
       "      <td>b4</td>\n",
       "      <td>c4</td>\n",
       "      <td>d4</td>\n",
       "    </tr>\n",
       "  </tbody>\n",
       "</table>\n",
       "</div>"
      ],
      "text/plain": [
       "     a   b   c    d\n",
       "1   a1  b1  c1  NaN\n",
       "2   a2  b2  c2  NaN\n",
       "3  NaN  b3  c3   d3\n",
       "4  NaN  b4  c4   d4"
      ]
     },
     "execution_count": 196,
     "metadata": {},
     "output_type": "execute_result"
    }
   ],
   "source": [
    "df5 = create_df('abc',[1,2])\n",
    "df6 = create_df('bcd', [3,4])\n",
    "pd.concat([df5,df6])"
   ]
  },
  {
   "cell_type": "code",
   "execution_count": 197,
   "metadata": {
    "id": "ceNNvVDvfV0m"
   },
   "outputs": [
    {
     "data": {
      "text/html": [
       "<div>\n",
       "<style scoped>\n",
       "    .dataframe tbody tr th:only-of-type {\n",
       "        vertical-align: middle;\n",
       "    }\n",
       "\n",
       "    .dataframe tbody tr th {\n",
       "        vertical-align: top;\n",
       "    }\n",
       "\n",
       "    .dataframe thead th {\n",
       "        text-align: right;\n",
       "    }\n",
       "</style>\n",
       "<table border=\"1\" class=\"dataframe\">\n",
       "  <thead>\n",
       "    <tr style=\"text-align: right;\">\n",
       "      <th></th>\n",
       "      <th>b</th>\n",
       "      <th>c</th>\n",
       "    </tr>\n",
       "  </thead>\n",
       "  <tbody>\n",
       "    <tr>\n",
       "      <th>1</th>\n",
       "      <td>b1</td>\n",
       "      <td>c1</td>\n",
       "    </tr>\n",
       "    <tr>\n",
       "      <th>2</th>\n",
       "      <td>b2</td>\n",
       "      <td>c2</td>\n",
       "    </tr>\n",
       "    <tr>\n",
       "      <th>3</th>\n",
       "      <td>b3</td>\n",
       "      <td>c3</td>\n",
       "    </tr>\n",
       "    <tr>\n",
       "      <th>4</th>\n",
       "      <td>b4</td>\n",
       "      <td>c4</td>\n",
       "    </tr>\n",
       "  </tbody>\n",
       "</table>\n",
       "</div>"
      ],
      "text/plain": [
       "    b   c\n",
       "1  b1  c1\n",
       "2  b2  c2\n",
       "3  b3  c3\n",
       "4  b4  c4"
      ]
     },
     "execution_count": 197,
     "metadata": {},
     "output_type": "execute_result"
    }
   ],
   "source": [
    "pd.concat([df5,df6], join='inner')"
   ]
  },
  {
   "cell_type": "code",
   "execution_count": 198,
   "metadata": {
    "id": "ymWRBGuwgD5W"
   },
   "outputs": [
    {
     "data": {
      "text/html": [
       "<div>\n",
       "<style scoped>\n",
       "    .dataframe tbody tr th:only-of-type {\n",
       "        vertical-align: middle;\n",
       "    }\n",
       "\n",
       "    .dataframe tbody tr th {\n",
       "        vertical-align: top;\n",
       "    }\n",
       "\n",
       "    .dataframe thead th {\n",
       "        text-align: right;\n",
       "    }\n",
       "</style>\n",
       "<table border=\"1\" class=\"dataframe\">\n",
       "  <thead>\n",
       "    <tr style=\"text-align: right;\">\n",
       "      <th></th>\n",
       "      <th>a</th>\n",
       "      <th>b</th>\n",
       "      <th>c</th>\n",
       "      <th>d</th>\n",
       "    </tr>\n",
       "  </thead>\n",
       "  <tbody>\n",
       "    <tr>\n",
       "      <th>1</th>\n",
       "      <td>a1</td>\n",
       "      <td>b1</td>\n",
       "      <td>c1</td>\n",
       "      <td>NaN</td>\n",
       "    </tr>\n",
       "    <tr>\n",
       "      <th>2</th>\n",
       "      <td>a2</td>\n",
       "      <td>b2</td>\n",
       "      <td>c2</td>\n",
       "      <td>NaN</td>\n",
       "    </tr>\n",
       "    <tr>\n",
       "      <th>3</th>\n",
       "      <td>NaN</td>\n",
       "      <td>b3</td>\n",
       "      <td>c3</td>\n",
       "      <td>d3</td>\n",
       "    </tr>\n",
       "    <tr>\n",
       "      <th>4</th>\n",
       "      <td>NaN</td>\n",
       "      <td>b4</td>\n",
       "      <td>c4</td>\n",
       "      <td>d4</td>\n",
       "    </tr>\n",
       "  </tbody>\n",
       "</table>\n",
       "</div>"
      ],
      "text/plain": [
       "     a   b   c    d\n",
       "1   a1  b1  c1  NaN\n",
       "2   a2  b2  c2  NaN\n",
       "3  NaN  b3  c3   d3\n",
       "4  NaN  b4  c4   d4"
      ]
     },
     "execution_count": 198,
     "metadata": {},
     "output_type": "execute_result"
    }
   ],
   "source": [
    "df5.append(df6)"
   ]
  },
  {
   "cell_type": "markdown",
   "metadata": {
    "id": "XCDss0yIppQt"
   },
   "source": [
    "### 병합과 조인"
   ]
  },
  {
   "cell_type": "code",
   "execution_count": 201,
   "metadata": {
    "id": "tD2y5H3EosYY"
   },
   "outputs": [
    {
     "data": {
      "text/html": [
       "<div>\n",
       "<style scoped>\n",
       "    .dataframe tbody tr th:only-of-type {\n",
       "        vertical-align: middle;\n",
       "    }\n",
       "\n",
       "    .dataframe tbody tr th {\n",
       "        vertical-align: top;\n",
       "    }\n",
       "\n",
       "    .dataframe thead th {\n",
       "        text-align: right;\n",
       "    }\n",
       "</style>\n",
       "<table border=\"1\" class=\"dataframe\">\n",
       "  <thead>\n",
       "    <tr style=\"text-align: right;\">\n",
       "      <th></th>\n",
       "      <th>학생</th>\n",
       "      <th>학과</th>\n",
       "    </tr>\n",
       "  </thead>\n",
       "  <tbody>\n",
       "    <tr>\n",
       "      <th>0</th>\n",
       "      <td>홍길동</td>\n",
       "      <td>경영</td>\n",
       "    </tr>\n",
       "    <tr>\n",
       "      <th>1</th>\n",
       "      <td>이순신</td>\n",
       "      <td>교육</td>\n",
       "    </tr>\n",
       "    <tr>\n",
       "      <th>2</th>\n",
       "      <td>임꺽정</td>\n",
       "      <td>컴퓨터</td>\n",
       "    </tr>\n",
       "    <tr>\n",
       "      <th>3</th>\n",
       "      <td>김유신</td>\n",
       "      <td>통계</td>\n",
       "    </tr>\n",
       "  </tbody>\n",
       "</table>\n",
       "</div>"
      ],
      "text/plain": [
       "    학생   학과\n",
       "0  홍길동   경영\n",
       "1  이순신   교육\n",
       "2  임꺽정  컴퓨터\n",
       "3  김유신   통계"
      ]
     },
     "execution_count": 201,
     "metadata": {},
     "output_type": "execute_result"
    }
   ],
   "source": [
    "df1 = pd.DataFrame({'학생':['홍길동','이순신','임꺽정','김유신'],\n",
    "                    '학과': ['경영','교육','컴퓨터','통계']})\n",
    "df1"
   ]
  },
  {
   "cell_type": "code",
   "execution_count": 202,
   "metadata": {
    "id": "-Gnfj0cVrQ-L"
   },
   "outputs": [
    {
     "data": {
      "text/html": [
       "<div>\n",
       "<style scoped>\n",
       "    .dataframe tbody tr th:only-of-type {\n",
       "        vertical-align: middle;\n",
       "    }\n",
       "\n",
       "    .dataframe tbody tr th {\n",
       "        vertical-align: top;\n",
       "    }\n",
       "\n",
       "    .dataframe thead th {\n",
       "        text-align: right;\n",
       "    }\n",
       "</style>\n",
       "<table border=\"1\" class=\"dataframe\">\n",
       "  <thead>\n",
       "    <tr style=\"text-align: right;\">\n",
       "      <th></th>\n",
       "      <th>학생</th>\n",
       "      <th>입학년도</th>\n",
       "    </tr>\n",
       "  </thead>\n",
       "  <tbody>\n",
       "    <tr>\n",
       "      <th>0</th>\n",
       "      <td>홍길동</td>\n",
       "      <td>2012</td>\n",
       "    </tr>\n",
       "    <tr>\n",
       "      <th>1</th>\n",
       "      <td>이순신</td>\n",
       "      <td>2016</td>\n",
       "    </tr>\n",
       "    <tr>\n",
       "      <th>2</th>\n",
       "      <td>임꺽정</td>\n",
       "      <td>2019</td>\n",
       "    </tr>\n",
       "    <tr>\n",
       "      <th>3</th>\n",
       "      <td>김유신</td>\n",
       "      <td>2020</td>\n",
       "    </tr>\n",
       "  </tbody>\n",
       "</table>\n",
       "</div>"
      ],
      "text/plain": [
       "    학생  입학년도\n",
       "0  홍길동  2012\n",
       "1  이순신  2016\n",
       "2  임꺽정  2019\n",
       "3  김유신  2020"
      ]
     },
     "execution_count": 202,
     "metadata": {},
     "output_type": "execute_result"
    }
   ],
   "source": [
    "df2 = pd.DataFrame({'학생':['홍길동','이순신','임꺽정','김유신'],\n",
    "                   '입학년도':[2012,2016,2019,2020]})\n",
    "df2"
   ]
  },
  {
   "cell_type": "code",
   "execution_count": 203,
   "metadata": {
    "id": "4_L0wq5BrRqC"
   },
   "outputs": [
    {
     "data": {
      "text/html": [
       "<div>\n",
       "<style scoped>\n",
       "    .dataframe tbody tr th:only-of-type {\n",
       "        vertical-align: middle;\n",
       "    }\n",
       "\n",
       "    .dataframe tbody tr th {\n",
       "        vertical-align: top;\n",
       "    }\n",
       "\n",
       "    .dataframe thead th {\n",
       "        text-align: right;\n",
       "    }\n",
       "</style>\n",
       "<table border=\"1\" class=\"dataframe\">\n",
       "  <thead>\n",
       "    <tr style=\"text-align: right;\">\n",
       "      <th></th>\n",
       "      <th>학생</th>\n",
       "      <th>학과</th>\n",
       "      <th>입학년도</th>\n",
       "    </tr>\n",
       "  </thead>\n",
       "  <tbody>\n",
       "    <tr>\n",
       "      <th>0</th>\n",
       "      <td>홍길동</td>\n",
       "      <td>경영</td>\n",
       "      <td>2012</td>\n",
       "    </tr>\n",
       "    <tr>\n",
       "      <th>1</th>\n",
       "      <td>이순신</td>\n",
       "      <td>교육</td>\n",
       "      <td>2016</td>\n",
       "    </tr>\n",
       "    <tr>\n",
       "      <th>2</th>\n",
       "      <td>임꺽정</td>\n",
       "      <td>컴퓨터</td>\n",
       "      <td>2019</td>\n",
       "    </tr>\n",
       "    <tr>\n",
       "      <th>3</th>\n",
       "      <td>김유신</td>\n",
       "      <td>통계</td>\n",
       "      <td>2020</td>\n",
       "    </tr>\n",
       "  </tbody>\n",
       "</table>\n",
       "</div>"
      ],
      "text/plain": [
       "    학생   학과  입학년도\n",
       "0  홍길동   경영  2012\n",
       "1  이순신   교육  2016\n",
       "2  임꺽정  컴퓨터  2019\n",
       "3  김유신   통계  2020"
      ]
     },
     "execution_count": 203,
     "metadata": {},
     "output_type": "execute_result"
    }
   ],
   "source": [
    "df3 = pd.merge(df1, df2)\n",
    "df3"
   ]
  },
  {
   "cell_type": "code",
   "execution_count": 204,
   "metadata": {
    "id": "JB30RrgprcxI"
   },
   "outputs": [
    {
     "data": {
      "text/html": [
       "<div>\n",
       "<style scoped>\n",
       "    .dataframe tbody tr th:only-of-type {\n",
       "        vertical-align: middle;\n",
       "    }\n",
       "\n",
       "    .dataframe tbody tr th {\n",
       "        vertical-align: top;\n",
       "    }\n",
       "\n",
       "    .dataframe thead th {\n",
       "        text-align: right;\n",
       "    }\n",
       "</style>\n",
       "<table border=\"1\" class=\"dataframe\">\n",
       "  <thead>\n",
       "    <tr style=\"text-align: right;\">\n",
       "      <th></th>\n",
       "      <th>학과</th>\n",
       "      <th>학과장</th>\n",
       "    </tr>\n",
       "  </thead>\n",
       "  <tbody>\n",
       "    <tr>\n",
       "      <th>0</th>\n",
       "      <td>경영</td>\n",
       "      <td>황희</td>\n",
       "    </tr>\n",
       "    <tr>\n",
       "      <th>1</th>\n",
       "      <td>교육</td>\n",
       "      <td>장영실</td>\n",
       "    </tr>\n",
       "    <tr>\n",
       "      <th>2</th>\n",
       "      <td>컴퓨터</td>\n",
       "      <td>안창호</td>\n",
       "    </tr>\n",
       "    <tr>\n",
       "      <th>3</th>\n",
       "      <td>통계</td>\n",
       "      <td>정약용</td>\n",
       "    </tr>\n",
       "  </tbody>\n",
       "</table>\n",
       "</div>"
      ],
      "text/plain": [
       "    학과  학과장\n",
       "0   경영   황희\n",
       "1   교육  장영실\n",
       "2  컴퓨터  안창호\n",
       "3   통계  정약용"
      ]
     },
     "execution_count": 204,
     "metadata": {},
     "output_type": "execute_result"
    }
   ],
   "source": [
    "df4 = pd.DataFrame({'학과':['경영','교육','컴퓨터','통계'],\n",
    "                   '학과장': ['황희','장영실','안창호','정약용']})\n",
    "df4"
   ]
  },
  {
   "cell_type": "code",
   "execution_count": 205,
   "metadata": {
    "id": "M-DPYK8-sZ1j"
   },
   "outputs": [
    {
     "data": {
      "text/html": [
       "<div>\n",
       "<style scoped>\n",
       "    .dataframe tbody tr th:only-of-type {\n",
       "        vertical-align: middle;\n",
       "    }\n",
       "\n",
       "    .dataframe tbody tr th {\n",
       "        vertical-align: top;\n",
       "    }\n",
       "\n",
       "    .dataframe thead th {\n",
       "        text-align: right;\n",
       "    }\n",
       "</style>\n",
       "<table border=\"1\" class=\"dataframe\">\n",
       "  <thead>\n",
       "    <tr style=\"text-align: right;\">\n",
       "      <th></th>\n",
       "      <th>학생</th>\n",
       "      <th>학과</th>\n",
       "      <th>입학년도</th>\n",
       "      <th>학과장</th>\n",
       "    </tr>\n",
       "  </thead>\n",
       "  <tbody>\n",
       "    <tr>\n",
       "      <th>0</th>\n",
       "      <td>홍길동</td>\n",
       "      <td>경영</td>\n",
       "      <td>2012</td>\n",
       "      <td>황희</td>\n",
       "    </tr>\n",
       "    <tr>\n",
       "      <th>1</th>\n",
       "      <td>이순신</td>\n",
       "      <td>교육</td>\n",
       "      <td>2016</td>\n",
       "      <td>장영실</td>\n",
       "    </tr>\n",
       "    <tr>\n",
       "      <th>2</th>\n",
       "      <td>임꺽정</td>\n",
       "      <td>컴퓨터</td>\n",
       "      <td>2019</td>\n",
       "      <td>안창호</td>\n",
       "    </tr>\n",
       "    <tr>\n",
       "      <th>3</th>\n",
       "      <td>김유신</td>\n",
       "      <td>통계</td>\n",
       "      <td>2020</td>\n",
       "      <td>정약용</td>\n",
       "    </tr>\n",
       "  </tbody>\n",
       "</table>\n",
       "</div>"
      ],
      "text/plain": [
       "    학생   학과  입학년도  학과장\n",
       "0  홍길동   경영  2012   황희\n",
       "1  이순신   교육  2016  장영실\n",
       "2  임꺽정  컴퓨터  2019  안창호\n",
       "3  김유신   통계  2020  정약용"
      ]
     },
     "execution_count": 205,
     "metadata": {},
     "output_type": "execute_result"
    }
   ],
   "source": [
    "pd.merge(df3,df4)"
   ]
  },
  {
   "cell_type": "code",
   "execution_count": 207,
   "metadata": {
    "id": "xvXEDN6GsgSF"
   },
   "outputs": [
    {
     "data": {
      "text/html": [
       "<div>\n",
       "<style scoped>\n",
       "    .dataframe tbody tr th:only-of-type {\n",
       "        vertical-align: middle;\n",
       "    }\n",
       "\n",
       "    .dataframe tbody tr th {\n",
       "        vertical-align: top;\n",
       "    }\n",
       "\n",
       "    .dataframe thead th {\n",
       "        text-align: right;\n",
       "    }\n",
       "</style>\n",
       "<table border=\"1\" class=\"dataframe\">\n",
       "  <thead>\n",
       "    <tr style=\"text-align: right;\">\n",
       "      <th></th>\n",
       "      <th>학과</th>\n",
       "      <th>과목</th>\n",
       "    </tr>\n",
       "  </thead>\n",
       "  <tbody>\n",
       "    <tr>\n",
       "      <th>0</th>\n",
       "      <td>경영</td>\n",
       "      <td>경영개론</td>\n",
       "    </tr>\n",
       "    <tr>\n",
       "      <th>1</th>\n",
       "      <td>교육</td>\n",
       "      <td>기초수학</td>\n",
       "    </tr>\n",
       "    <tr>\n",
       "      <th>2</th>\n",
       "      <td>교육</td>\n",
       "      <td>물리학</td>\n",
       "    </tr>\n",
       "    <tr>\n",
       "      <th>3</th>\n",
       "      <td>컴퓨터</td>\n",
       "      <td>프로그래밍</td>\n",
       "    </tr>\n",
       "    <tr>\n",
       "      <th>4</th>\n",
       "      <td>컴퓨터</td>\n",
       "      <td>운영체제</td>\n",
       "    </tr>\n",
       "    <tr>\n",
       "      <th>5</th>\n",
       "      <td>통계</td>\n",
       "      <td>확률론</td>\n",
       "    </tr>\n",
       "  </tbody>\n",
       "</table>\n",
       "</div>"
      ],
      "text/plain": [
       "    학과     과목\n",
       "0   경영   경영개론\n",
       "1   교육   기초수학\n",
       "2   교육    물리학\n",
       "3  컴퓨터  프로그래밍\n",
       "4  컴퓨터   운영체제\n",
       "5   통계    확률론"
      ]
     },
     "execution_count": 207,
     "metadata": {},
     "output_type": "execute_result"
    }
   ],
   "source": [
    "df5 = pd.DataFrame({'학과':['경영','교육','교육','컴퓨터','컴퓨터','통계'],\n",
    "                   '과목':['경영개론','기초수학','물리학','프로그래밍','운영체제','확률론']})\n",
    "df5"
   ]
  },
  {
   "cell_type": "code",
   "execution_count": 208,
   "metadata": {
    "id": "H9JRk6RVtLNJ"
   },
   "outputs": [
    {
     "data": {
      "text/html": [
       "<div>\n",
       "<style scoped>\n",
       "    .dataframe tbody tr th:only-of-type {\n",
       "        vertical-align: middle;\n",
       "    }\n",
       "\n",
       "    .dataframe tbody tr th {\n",
       "        vertical-align: top;\n",
       "    }\n",
       "\n",
       "    .dataframe thead th {\n",
       "        text-align: right;\n",
       "    }\n",
       "</style>\n",
       "<table border=\"1\" class=\"dataframe\">\n",
       "  <thead>\n",
       "    <tr style=\"text-align: right;\">\n",
       "      <th></th>\n",
       "      <th>학생</th>\n",
       "      <th>학과</th>\n",
       "      <th>과목</th>\n",
       "    </tr>\n",
       "  </thead>\n",
       "  <tbody>\n",
       "    <tr>\n",
       "      <th>0</th>\n",
       "      <td>홍길동</td>\n",
       "      <td>경영</td>\n",
       "      <td>경영개론</td>\n",
       "    </tr>\n",
       "    <tr>\n",
       "      <th>1</th>\n",
       "      <td>이순신</td>\n",
       "      <td>교육</td>\n",
       "      <td>기초수학</td>\n",
       "    </tr>\n",
       "    <tr>\n",
       "      <th>2</th>\n",
       "      <td>이순신</td>\n",
       "      <td>교육</td>\n",
       "      <td>물리학</td>\n",
       "    </tr>\n",
       "    <tr>\n",
       "      <th>3</th>\n",
       "      <td>임꺽정</td>\n",
       "      <td>컴퓨터</td>\n",
       "      <td>프로그래밍</td>\n",
       "    </tr>\n",
       "    <tr>\n",
       "      <th>4</th>\n",
       "      <td>임꺽정</td>\n",
       "      <td>컴퓨터</td>\n",
       "      <td>운영체제</td>\n",
       "    </tr>\n",
       "    <tr>\n",
       "      <th>5</th>\n",
       "      <td>김유신</td>\n",
       "      <td>통계</td>\n",
       "      <td>확률론</td>\n",
       "    </tr>\n",
       "  </tbody>\n",
       "</table>\n",
       "</div>"
      ],
      "text/plain": [
       "    학생   학과     과목\n",
       "0  홍길동   경영   경영개론\n",
       "1  이순신   교육   기초수학\n",
       "2  이순신   교육    물리학\n",
       "3  임꺽정  컴퓨터  프로그래밍\n",
       "4  임꺽정  컴퓨터   운영체제\n",
       "5  김유신   통계    확률론"
      ]
     },
     "execution_count": 208,
     "metadata": {},
     "output_type": "execute_result"
    }
   ],
   "source": [
    "pd.merge(df1,df5)"
   ]
  },
  {
   "cell_type": "code",
   "execution_count": 209,
   "metadata": {
    "id": "HCsJ0Wg7teqe"
   },
   "outputs": [
    {
     "data": {
      "text/html": [
       "<div>\n",
       "<style scoped>\n",
       "    .dataframe tbody tr th:only-of-type {\n",
       "        vertical-align: middle;\n",
       "    }\n",
       "\n",
       "    .dataframe tbody tr th {\n",
       "        vertical-align: top;\n",
       "    }\n",
       "\n",
       "    .dataframe thead th {\n",
       "        text-align: right;\n",
       "    }\n",
       "</style>\n",
       "<table border=\"1\" class=\"dataframe\">\n",
       "  <thead>\n",
       "    <tr style=\"text-align: right;\">\n",
       "      <th></th>\n",
       "      <th>학생</th>\n",
       "      <th>학과</th>\n",
       "      <th>입학년도</th>\n",
       "    </tr>\n",
       "  </thead>\n",
       "  <tbody>\n",
       "    <tr>\n",
       "      <th>0</th>\n",
       "      <td>홍길동</td>\n",
       "      <td>경영</td>\n",
       "      <td>2012</td>\n",
       "    </tr>\n",
       "    <tr>\n",
       "      <th>1</th>\n",
       "      <td>이순신</td>\n",
       "      <td>교육</td>\n",
       "      <td>2016</td>\n",
       "    </tr>\n",
       "    <tr>\n",
       "      <th>2</th>\n",
       "      <td>임꺽정</td>\n",
       "      <td>컴퓨터</td>\n",
       "      <td>2019</td>\n",
       "    </tr>\n",
       "    <tr>\n",
       "      <th>3</th>\n",
       "      <td>김유신</td>\n",
       "      <td>통계</td>\n",
       "      <td>2020</td>\n",
       "    </tr>\n",
       "  </tbody>\n",
       "</table>\n",
       "</div>"
      ],
      "text/plain": [
       "    학생   학과  입학년도\n",
       "0  홍길동   경영  2012\n",
       "1  이순신   교육  2016\n",
       "2  임꺽정  컴퓨터  2019\n",
       "3  김유신   통계  2020"
      ]
     },
     "execution_count": 209,
     "metadata": {},
     "output_type": "execute_result"
    }
   ],
   "source": [
    "pd.merge(df1,df2, on='학생')"
   ]
  },
  {
   "cell_type": "code",
   "execution_count": 210,
   "metadata": {
    "id": "U_ePghIst4fQ"
   },
   "outputs": [
    {
     "data": {
      "text/html": [
       "<div>\n",
       "<style scoped>\n",
       "    .dataframe tbody tr th:only-of-type {\n",
       "        vertical-align: middle;\n",
       "    }\n",
       "\n",
       "    .dataframe tbody tr th {\n",
       "        vertical-align: top;\n",
       "    }\n",
       "\n",
       "    .dataframe thead th {\n",
       "        text-align: right;\n",
       "    }\n",
       "</style>\n",
       "<table border=\"1\" class=\"dataframe\">\n",
       "  <thead>\n",
       "    <tr style=\"text-align: right;\">\n",
       "      <th></th>\n",
       "      <th>이름</th>\n",
       "      <th>성적</th>\n",
       "    </tr>\n",
       "  </thead>\n",
       "  <tbody>\n",
       "    <tr>\n",
       "      <th>0</th>\n",
       "      <td>홍길동</td>\n",
       "      <td>a</td>\n",
       "    </tr>\n",
       "    <tr>\n",
       "      <th>1</th>\n",
       "      <td>이순신</td>\n",
       "      <td>a+</td>\n",
       "    </tr>\n",
       "    <tr>\n",
       "      <th>2</th>\n",
       "      <td>임꺽정</td>\n",
       "      <td>b</td>\n",
       "    </tr>\n",
       "    <tr>\n",
       "      <th>3</th>\n",
       "      <td>김유신</td>\n",
       "      <td>a+</td>\n",
       "    </tr>\n",
       "  </tbody>\n",
       "</table>\n",
       "</div>"
      ],
      "text/plain": [
       "    이름  성적\n",
       "0  홍길동   a\n",
       "1  이순신  a+\n",
       "2  임꺽정   b\n",
       "3  김유신  a+"
      ]
     },
     "execution_count": 210,
     "metadata": {},
     "output_type": "execute_result"
    }
   ],
   "source": [
    "df6 = pd.DataFrame({'이름':['홍길동','이순신','임꺽정','김유신'],\n",
    "                   '성적':['a','a+','b','a+']})\n",
    "df6"
   ]
  },
  {
   "cell_type": "code",
   "execution_count": 211,
   "metadata": {
    "id": "-PZ1D1VwuiTG"
   },
   "outputs": [
    {
     "data": {
      "text/html": [
       "<div>\n",
       "<style scoped>\n",
       "    .dataframe tbody tr th:only-of-type {\n",
       "        vertical-align: middle;\n",
       "    }\n",
       "\n",
       "    .dataframe tbody tr th {\n",
       "        vertical-align: top;\n",
       "    }\n",
       "\n",
       "    .dataframe thead th {\n",
       "        text-align: right;\n",
       "    }\n",
       "</style>\n",
       "<table border=\"1\" class=\"dataframe\">\n",
       "  <thead>\n",
       "    <tr style=\"text-align: right;\">\n",
       "      <th></th>\n",
       "      <th>학생</th>\n",
       "      <th>학과</th>\n",
       "      <th>이름</th>\n",
       "      <th>성적</th>\n",
       "    </tr>\n",
       "  </thead>\n",
       "  <tbody>\n",
       "    <tr>\n",
       "      <th>0</th>\n",
       "      <td>홍길동</td>\n",
       "      <td>경영</td>\n",
       "      <td>홍길동</td>\n",
       "      <td>a</td>\n",
       "    </tr>\n",
       "    <tr>\n",
       "      <th>1</th>\n",
       "      <td>이순신</td>\n",
       "      <td>교육</td>\n",
       "      <td>이순신</td>\n",
       "      <td>a+</td>\n",
       "    </tr>\n",
       "    <tr>\n",
       "      <th>2</th>\n",
       "      <td>임꺽정</td>\n",
       "      <td>컴퓨터</td>\n",
       "      <td>임꺽정</td>\n",
       "      <td>b</td>\n",
       "    </tr>\n",
       "    <tr>\n",
       "      <th>3</th>\n",
       "      <td>김유신</td>\n",
       "      <td>통계</td>\n",
       "      <td>김유신</td>\n",
       "      <td>a+</td>\n",
       "    </tr>\n",
       "  </tbody>\n",
       "</table>\n",
       "</div>"
      ],
      "text/plain": [
       "    학생   학과   이름  성적\n",
       "0  홍길동   경영  홍길동   a\n",
       "1  이순신   교육  이순신  a+\n",
       "2  임꺽정  컴퓨터  임꺽정   b\n",
       "3  김유신   통계  김유신  a+"
      ]
     },
     "execution_count": 211,
     "metadata": {},
     "output_type": "execute_result"
    }
   ],
   "source": [
    "pd.merge(df1, df6, left_on='학생', right_on='이름')"
   ]
  },
  {
   "cell_type": "code",
   "execution_count": 214,
   "metadata": {
    "id": "7z1jmMhSukPA"
   },
   "outputs": [
    {
     "data": {
      "text/html": [
       "<div>\n",
       "<style scoped>\n",
       "    .dataframe tbody tr th:only-of-type {\n",
       "        vertical-align: middle;\n",
       "    }\n",
       "\n",
       "    .dataframe tbody tr th {\n",
       "        vertical-align: top;\n",
       "    }\n",
       "\n",
       "    .dataframe thead th {\n",
       "        text-align: right;\n",
       "    }\n",
       "</style>\n",
       "<table border=\"1\" class=\"dataframe\">\n",
       "  <thead>\n",
       "    <tr style=\"text-align: right;\">\n",
       "      <th></th>\n",
       "      <th>학생</th>\n",
       "      <th>학과</th>\n",
       "      <th>성적</th>\n",
       "    </tr>\n",
       "  </thead>\n",
       "  <tbody>\n",
       "    <tr>\n",
       "      <th>0</th>\n",
       "      <td>홍길동</td>\n",
       "      <td>경영</td>\n",
       "      <td>a</td>\n",
       "    </tr>\n",
       "    <tr>\n",
       "      <th>1</th>\n",
       "      <td>이순신</td>\n",
       "      <td>교육</td>\n",
       "      <td>a+</td>\n",
       "    </tr>\n",
       "    <tr>\n",
       "      <th>2</th>\n",
       "      <td>임꺽정</td>\n",
       "      <td>컴퓨터</td>\n",
       "      <td>b</td>\n",
       "    </tr>\n",
       "    <tr>\n",
       "      <th>3</th>\n",
       "      <td>김유신</td>\n",
       "      <td>통계</td>\n",
       "      <td>a+</td>\n",
       "    </tr>\n",
       "  </tbody>\n",
       "</table>\n",
       "</div>"
      ],
      "text/plain": [
       "    학생   학과  성적\n",
       "0  홍길동   경영   a\n",
       "1  이순신   교육  a+\n",
       "2  임꺽정  컴퓨터   b\n",
       "3  김유신   통계  a+"
      ]
     },
     "execution_count": 214,
     "metadata": {},
     "output_type": "execute_result"
    }
   ],
   "source": [
    "pd.merge(df1, df6, left_on='학생', right_on='이름').drop('이름',axis=1)"
   ]
  },
  {
   "cell_type": "code",
   "execution_count": 215,
   "metadata": {
    "id": "xBdg5QbquseD"
   },
   "outputs": [],
   "source": [
    "mdf1 = df1.set_index('학생')\n",
    "mdf2 = df2.set_index('학생')"
   ]
  },
  {
   "cell_type": "code",
   "execution_count": 217,
   "metadata": {
    "id": "PkYo6QP-u5MM"
   },
   "outputs": [
    {
     "data": {
      "text/html": [
       "<div>\n",
       "<style scoped>\n",
       "    .dataframe tbody tr th:only-of-type {\n",
       "        vertical-align: middle;\n",
       "    }\n",
       "\n",
       "    .dataframe tbody tr th {\n",
       "        vertical-align: top;\n",
       "    }\n",
       "\n",
       "    .dataframe thead th {\n",
       "        text-align: right;\n",
       "    }\n",
       "</style>\n",
       "<table border=\"1\" class=\"dataframe\">\n",
       "  <thead>\n",
       "    <tr style=\"text-align: right;\">\n",
       "      <th></th>\n",
       "      <th>학과</th>\n",
       "    </tr>\n",
       "    <tr>\n",
       "      <th>학생</th>\n",
       "      <th></th>\n",
       "    </tr>\n",
       "  </thead>\n",
       "  <tbody>\n",
       "    <tr>\n",
       "      <th>홍길동</th>\n",
       "      <td>경영</td>\n",
       "    </tr>\n",
       "    <tr>\n",
       "      <th>이순신</th>\n",
       "      <td>교육</td>\n",
       "    </tr>\n",
       "    <tr>\n",
       "      <th>임꺽정</th>\n",
       "      <td>컴퓨터</td>\n",
       "    </tr>\n",
       "    <tr>\n",
       "      <th>김유신</th>\n",
       "      <td>통계</td>\n",
       "    </tr>\n",
       "  </tbody>\n",
       "</table>\n",
       "</div>"
      ],
      "text/plain": [
       "      학과\n",
       "학생      \n",
       "홍길동   경영\n",
       "이순신   교육\n",
       "임꺽정  컴퓨터\n",
       "김유신   통계"
      ]
     },
     "execution_count": 217,
     "metadata": {},
     "output_type": "execute_result"
    }
   ],
   "source": [
    "mdf1"
   ]
  },
  {
   "cell_type": "code",
   "execution_count": 218,
   "metadata": {
    "id": "ITON974EvRp8"
   },
   "outputs": [
    {
     "data": {
      "text/html": [
       "<div>\n",
       "<style scoped>\n",
       "    .dataframe tbody tr th:only-of-type {\n",
       "        vertical-align: middle;\n",
       "    }\n",
       "\n",
       "    .dataframe tbody tr th {\n",
       "        vertical-align: top;\n",
       "    }\n",
       "\n",
       "    .dataframe thead th {\n",
       "        text-align: right;\n",
       "    }\n",
       "</style>\n",
       "<table border=\"1\" class=\"dataframe\">\n",
       "  <thead>\n",
       "    <tr style=\"text-align: right;\">\n",
       "      <th></th>\n",
       "      <th>입학년도</th>\n",
       "    </tr>\n",
       "    <tr>\n",
       "      <th>학생</th>\n",
       "      <th></th>\n",
       "    </tr>\n",
       "  </thead>\n",
       "  <tbody>\n",
       "    <tr>\n",
       "      <th>홍길동</th>\n",
       "      <td>2012</td>\n",
       "    </tr>\n",
       "    <tr>\n",
       "      <th>이순신</th>\n",
       "      <td>2016</td>\n",
       "    </tr>\n",
       "    <tr>\n",
       "      <th>임꺽정</th>\n",
       "      <td>2019</td>\n",
       "    </tr>\n",
       "    <tr>\n",
       "      <th>김유신</th>\n",
       "      <td>2020</td>\n",
       "    </tr>\n",
       "  </tbody>\n",
       "</table>\n",
       "</div>"
      ],
      "text/plain": [
       "     입학년도\n",
       "학생       \n",
       "홍길동  2012\n",
       "이순신  2016\n",
       "임꺽정  2019\n",
       "김유신  2020"
      ]
     },
     "execution_count": 218,
     "metadata": {},
     "output_type": "execute_result"
    }
   ],
   "source": [
    "mdf2"
   ]
  },
  {
   "cell_type": "code",
   "execution_count": 219,
   "metadata": {
    "id": "pM9VHro8vR_b"
   },
   "outputs": [
    {
     "data": {
      "text/html": [
       "<div>\n",
       "<style scoped>\n",
       "    .dataframe tbody tr th:only-of-type {\n",
       "        vertical-align: middle;\n",
       "    }\n",
       "\n",
       "    .dataframe tbody tr th {\n",
       "        vertical-align: top;\n",
       "    }\n",
       "\n",
       "    .dataframe thead th {\n",
       "        text-align: right;\n",
       "    }\n",
       "</style>\n",
       "<table border=\"1\" class=\"dataframe\">\n",
       "  <thead>\n",
       "    <tr style=\"text-align: right;\">\n",
       "      <th></th>\n",
       "      <th>학과</th>\n",
       "      <th>입학년도</th>\n",
       "    </tr>\n",
       "    <tr>\n",
       "      <th>학생</th>\n",
       "      <th></th>\n",
       "      <th></th>\n",
       "    </tr>\n",
       "  </thead>\n",
       "  <tbody>\n",
       "    <tr>\n",
       "      <th>홍길동</th>\n",
       "      <td>경영</td>\n",
       "      <td>2012</td>\n",
       "    </tr>\n",
       "    <tr>\n",
       "      <th>이순신</th>\n",
       "      <td>교육</td>\n",
       "      <td>2016</td>\n",
       "    </tr>\n",
       "    <tr>\n",
       "      <th>임꺽정</th>\n",
       "      <td>컴퓨터</td>\n",
       "      <td>2019</td>\n",
       "    </tr>\n",
       "    <tr>\n",
       "      <th>김유신</th>\n",
       "      <td>통계</td>\n",
       "      <td>2020</td>\n",
       "    </tr>\n",
       "  </tbody>\n",
       "</table>\n",
       "</div>"
      ],
      "text/plain": [
       "      학과  입학년도\n",
       "학생            \n",
       "홍길동   경영  2012\n",
       "이순신   교육  2016\n",
       "임꺽정  컴퓨터  2019\n",
       "김유신   통계  2020"
      ]
     },
     "execution_count": 219,
     "metadata": {},
     "output_type": "execute_result"
    }
   ],
   "source": [
    "pd.merge(mdf1,mdf2,left_index=True, right_index=True)"
   ]
  },
  {
   "cell_type": "code",
   "execution_count": 220,
   "metadata": {
    "id": "tb70J4-YvYL-"
   },
   "outputs": [
    {
     "data": {
      "text/html": [
       "<div>\n",
       "<style scoped>\n",
       "    .dataframe tbody tr th:only-of-type {\n",
       "        vertical-align: middle;\n",
       "    }\n",
       "\n",
       "    .dataframe tbody tr th {\n",
       "        vertical-align: top;\n",
       "    }\n",
       "\n",
       "    .dataframe thead th {\n",
       "        text-align: right;\n",
       "    }\n",
       "</style>\n",
       "<table border=\"1\" class=\"dataframe\">\n",
       "  <thead>\n",
       "    <tr style=\"text-align: right;\">\n",
       "      <th></th>\n",
       "      <th>학과</th>\n",
       "      <th>입학년도</th>\n",
       "    </tr>\n",
       "    <tr>\n",
       "      <th>학생</th>\n",
       "      <th></th>\n",
       "      <th></th>\n",
       "    </tr>\n",
       "  </thead>\n",
       "  <tbody>\n",
       "    <tr>\n",
       "      <th>홍길동</th>\n",
       "      <td>경영</td>\n",
       "      <td>2012</td>\n",
       "    </tr>\n",
       "    <tr>\n",
       "      <th>이순신</th>\n",
       "      <td>교육</td>\n",
       "      <td>2016</td>\n",
       "    </tr>\n",
       "    <tr>\n",
       "      <th>임꺽정</th>\n",
       "      <td>컴퓨터</td>\n",
       "      <td>2019</td>\n",
       "    </tr>\n",
       "    <tr>\n",
       "      <th>김유신</th>\n",
       "      <td>통계</td>\n",
       "      <td>2020</td>\n",
       "    </tr>\n",
       "  </tbody>\n",
       "</table>\n",
       "</div>"
      ],
      "text/plain": [
       "      학과  입학년도\n",
       "학생            \n",
       "홍길동   경영  2012\n",
       "이순신   교육  2016\n",
       "임꺽정  컴퓨터  2019\n",
       "김유신   통계  2020"
      ]
     },
     "execution_count": 220,
     "metadata": {},
     "output_type": "execute_result"
    }
   ],
   "source": [
    "mdf1.join(mdf2)"
   ]
  },
  {
   "cell_type": "code",
   "execution_count": 221,
   "metadata": {
    "id": "h4jWcr7hvx93"
   },
   "outputs": [
    {
     "data": {
      "text/html": [
       "<div>\n",
       "<style scoped>\n",
       "    .dataframe tbody tr th:only-of-type {\n",
       "        vertical-align: middle;\n",
       "    }\n",
       "\n",
       "    .dataframe tbody tr th {\n",
       "        vertical-align: top;\n",
       "    }\n",
       "\n",
       "    .dataframe thead th {\n",
       "        text-align: right;\n",
       "    }\n",
       "</style>\n",
       "<table border=\"1\" class=\"dataframe\">\n",
       "  <thead>\n",
       "    <tr style=\"text-align: right;\">\n",
       "      <th></th>\n",
       "      <th>학과</th>\n",
       "      <th>이름</th>\n",
       "      <th>성적</th>\n",
       "    </tr>\n",
       "  </thead>\n",
       "  <tbody>\n",
       "    <tr>\n",
       "      <th>0</th>\n",
       "      <td>경영</td>\n",
       "      <td>홍길동</td>\n",
       "      <td>a</td>\n",
       "    </tr>\n",
       "    <tr>\n",
       "      <th>1</th>\n",
       "      <td>교육</td>\n",
       "      <td>이순신</td>\n",
       "      <td>a+</td>\n",
       "    </tr>\n",
       "    <tr>\n",
       "      <th>2</th>\n",
       "      <td>컴퓨터</td>\n",
       "      <td>임꺽정</td>\n",
       "      <td>b</td>\n",
       "    </tr>\n",
       "    <tr>\n",
       "      <th>3</th>\n",
       "      <td>통계</td>\n",
       "      <td>김유신</td>\n",
       "      <td>a+</td>\n",
       "    </tr>\n",
       "  </tbody>\n",
       "</table>\n",
       "</div>"
      ],
      "text/plain": [
       "    학과   이름  성적\n",
       "0   경영  홍길동   a\n",
       "1   교육  이순신  a+\n",
       "2  컴퓨터  임꺽정   b\n",
       "3   통계  김유신  a+"
      ]
     },
     "execution_count": 221,
     "metadata": {},
     "output_type": "execute_result"
    }
   ],
   "source": [
    "pd.merge(mdf1,df6, left_index=True, right_on='이름')"
   ]
  },
  {
   "cell_type": "code",
   "execution_count": 222,
   "metadata": {
    "id": "5BMgmFDyxmYX"
   },
   "outputs": [
    {
     "data": {
      "text/html": [
       "<div>\n",
       "<style scoped>\n",
       "    .dataframe tbody tr th:only-of-type {\n",
       "        vertical-align: middle;\n",
       "    }\n",
       "\n",
       "    .dataframe tbody tr th {\n",
       "        vertical-align: top;\n",
       "    }\n",
       "\n",
       "    .dataframe thead th {\n",
       "        text-align: right;\n",
       "    }\n",
       "</style>\n",
       "<table border=\"1\" class=\"dataframe\">\n",
       "  <thead>\n",
       "    <tr style=\"text-align: right;\">\n",
       "      <th></th>\n",
       "      <th>이름</th>\n",
       "      <th>주문음식</th>\n",
       "    </tr>\n",
       "  </thead>\n",
       "  <tbody>\n",
       "    <tr>\n",
       "      <th>0</th>\n",
       "      <td>홍길동</td>\n",
       "      <td>햄버거</td>\n",
       "    </tr>\n",
       "    <tr>\n",
       "      <th>1</th>\n",
       "      <td>이순신</td>\n",
       "      <td>피자</td>\n",
       "    </tr>\n",
       "    <tr>\n",
       "      <th>2</th>\n",
       "      <td>임꺽정</td>\n",
       "      <td>짜장면</td>\n",
       "    </tr>\n",
       "  </tbody>\n",
       "</table>\n",
       "</div>"
      ],
      "text/plain": [
       "    이름 주문음식\n",
       "0  홍길동  햄버거\n",
       "1  이순신   피자\n",
       "2  임꺽정  짜장면"
      ]
     },
     "execution_count": 222,
     "metadata": {},
     "output_type": "execute_result"
    }
   ],
   "source": [
    "df7 = pd.DataFrame({'이름':['홍길동','이순신','임꺽정'],\n",
    "                   '주문음식':['햄버거','피자','짜장면']})\n",
    "df7"
   ]
  },
  {
   "cell_type": "code",
   "execution_count": 223,
   "metadata": {
    "id": "K6REnIONx5IB"
   },
   "outputs": [
    {
     "data": {
      "text/html": [
       "<div>\n",
       "<style scoped>\n",
       "    .dataframe tbody tr th:only-of-type {\n",
       "        vertical-align: middle;\n",
       "    }\n",
       "\n",
       "    .dataframe tbody tr th {\n",
       "        vertical-align: top;\n",
       "    }\n",
       "\n",
       "    .dataframe thead th {\n",
       "        text-align: right;\n",
       "    }\n",
       "</style>\n",
       "<table border=\"1\" class=\"dataframe\">\n",
       "  <thead>\n",
       "    <tr style=\"text-align: right;\">\n",
       "      <th></th>\n",
       "      <th>이름</th>\n",
       "      <th>주문음료</th>\n",
       "    </tr>\n",
       "  </thead>\n",
       "  <tbody>\n",
       "    <tr>\n",
       "      <th>0</th>\n",
       "      <td>홍길동</td>\n",
       "      <td>콜라</td>\n",
       "    </tr>\n",
       "    <tr>\n",
       "      <th>1</th>\n",
       "      <td>이순신</td>\n",
       "      <td>사이다</td>\n",
       "    </tr>\n",
       "    <tr>\n",
       "      <th>2</th>\n",
       "      <td>김유신</td>\n",
       "      <td>커피</td>\n",
       "    </tr>\n",
       "  </tbody>\n",
       "</table>\n",
       "</div>"
      ],
      "text/plain": [
       "    이름 주문음료\n",
       "0  홍길동   콜라\n",
       "1  이순신  사이다\n",
       "2  김유신   커피"
      ]
     },
     "execution_count": 223,
     "metadata": {},
     "output_type": "execute_result"
    }
   ],
   "source": [
    "df8 = pd.DataFrame({'이름':['홍길동','이순신','김유신'],\n",
    "                   '주문음료':['콜라','사이다','커피']})\n",
    "df8"
   ]
  },
  {
   "cell_type": "code",
   "execution_count": 224,
   "metadata": {
    "id": "we6EQ2YbyuCl"
   },
   "outputs": [
    {
     "data": {
      "text/html": [
       "<div>\n",
       "<style scoped>\n",
       "    .dataframe tbody tr th:only-of-type {\n",
       "        vertical-align: middle;\n",
       "    }\n",
       "\n",
       "    .dataframe tbody tr th {\n",
       "        vertical-align: top;\n",
       "    }\n",
       "\n",
       "    .dataframe thead th {\n",
       "        text-align: right;\n",
       "    }\n",
       "</style>\n",
       "<table border=\"1\" class=\"dataframe\">\n",
       "  <thead>\n",
       "    <tr style=\"text-align: right;\">\n",
       "      <th></th>\n",
       "      <th>이름</th>\n",
       "      <th>주문음식</th>\n",
       "      <th>주문음료</th>\n",
       "    </tr>\n",
       "  </thead>\n",
       "  <tbody>\n",
       "    <tr>\n",
       "      <th>0</th>\n",
       "      <td>홍길동</td>\n",
       "      <td>햄버거</td>\n",
       "      <td>콜라</td>\n",
       "    </tr>\n",
       "    <tr>\n",
       "      <th>1</th>\n",
       "      <td>이순신</td>\n",
       "      <td>피자</td>\n",
       "      <td>사이다</td>\n",
       "    </tr>\n",
       "  </tbody>\n",
       "</table>\n",
       "</div>"
      ],
      "text/plain": [
       "    이름 주문음식 주문음료\n",
       "0  홍길동  햄버거   콜라\n",
       "1  이순신   피자  사이다"
      ]
     },
     "execution_count": 224,
     "metadata": {},
     "output_type": "execute_result"
    }
   ],
   "source": [
    "pd.merge(df7,df8)"
   ]
  },
  {
   "cell_type": "code",
   "execution_count": 225,
   "metadata": {
    "id": "6fXhbe-zyxk3"
   },
   "outputs": [
    {
     "data": {
      "text/html": [
       "<div>\n",
       "<style scoped>\n",
       "    .dataframe tbody tr th:only-of-type {\n",
       "        vertical-align: middle;\n",
       "    }\n",
       "\n",
       "    .dataframe tbody tr th {\n",
       "        vertical-align: top;\n",
       "    }\n",
       "\n",
       "    .dataframe thead th {\n",
       "        text-align: right;\n",
       "    }\n",
       "</style>\n",
       "<table border=\"1\" class=\"dataframe\">\n",
       "  <thead>\n",
       "    <tr style=\"text-align: right;\">\n",
       "      <th></th>\n",
       "      <th>이름</th>\n",
       "      <th>주문음식</th>\n",
       "      <th>주문음료</th>\n",
       "    </tr>\n",
       "  </thead>\n",
       "  <tbody>\n",
       "    <tr>\n",
       "      <th>0</th>\n",
       "      <td>홍길동</td>\n",
       "      <td>햄버거</td>\n",
       "      <td>콜라</td>\n",
       "    </tr>\n",
       "    <tr>\n",
       "      <th>1</th>\n",
       "      <td>이순신</td>\n",
       "      <td>피자</td>\n",
       "      <td>사이다</td>\n",
       "    </tr>\n",
       "  </tbody>\n",
       "</table>\n",
       "</div>"
      ],
      "text/plain": [
       "    이름 주문음식 주문음료\n",
       "0  홍길동  햄버거   콜라\n",
       "1  이순신   피자  사이다"
      ]
     },
     "execution_count": 225,
     "metadata": {},
     "output_type": "execute_result"
    }
   ],
   "source": [
    "pd.merge(df7,df8, how='inner')"
   ]
  },
  {
   "cell_type": "code",
   "execution_count": 226,
   "metadata": {
    "id": "elU9-4r3y4NE"
   },
   "outputs": [
    {
     "data": {
      "text/html": [
       "<div>\n",
       "<style scoped>\n",
       "    .dataframe tbody tr th:only-of-type {\n",
       "        vertical-align: middle;\n",
       "    }\n",
       "\n",
       "    .dataframe tbody tr th {\n",
       "        vertical-align: top;\n",
       "    }\n",
       "\n",
       "    .dataframe thead th {\n",
       "        text-align: right;\n",
       "    }\n",
       "</style>\n",
       "<table border=\"1\" class=\"dataframe\">\n",
       "  <thead>\n",
       "    <tr style=\"text-align: right;\">\n",
       "      <th></th>\n",
       "      <th>이름</th>\n",
       "      <th>주문음식</th>\n",
       "      <th>주문음료</th>\n",
       "    </tr>\n",
       "  </thead>\n",
       "  <tbody>\n",
       "    <tr>\n",
       "      <th>0</th>\n",
       "      <td>홍길동</td>\n",
       "      <td>햄버거</td>\n",
       "      <td>콜라</td>\n",
       "    </tr>\n",
       "    <tr>\n",
       "      <th>1</th>\n",
       "      <td>이순신</td>\n",
       "      <td>피자</td>\n",
       "      <td>사이다</td>\n",
       "    </tr>\n",
       "    <tr>\n",
       "      <th>2</th>\n",
       "      <td>임꺽정</td>\n",
       "      <td>짜장면</td>\n",
       "      <td>NaN</td>\n",
       "    </tr>\n",
       "    <tr>\n",
       "      <th>3</th>\n",
       "      <td>김유신</td>\n",
       "      <td>NaN</td>\n",
       "      <td>커피</td>\n",
       "    </tr>\n",
       "  </tbody>\n",
       "</table>\n",
       "</div>"
      ],
      "text/plain": [
       "    이름 주문음식 주문음료\n",
       "0  홍길동  햄버거   콜라\n",
       "1  이순신   피자  사이다\n",
       "2  임꺽정  짜장면  NaN\n",
       "3  김유신  NaN   커피"
      ]
     },
     "execution_count": 226,
     "metadata": {},
     "output_type": "execute_result"
    }
   ],
   "source": [
    "pd.merge(df7,df8, how='outer')"
   ]
  },
  {
   "cell_type": "code",
   "execution_count": 227,
   "metadata": {
    "id": "Ojd4m8oLy6tk"
   },
   "outputs": [
    {
     "data": {
      "text/html": [
       "<div>\n",
       "<style scoped>\n",
       "    .dataframe tbody tr th:only-of-type {\n",
       "        vertical-align: middle;\n",
       "    }\n",
       "\n",
       "    .dataframe tbody tr th {\n",
       "        vertical-align: top;\n",
       "    }\n",
       "\n",
       "    .dataframe thead th {\n",
       "        text-align: right;\n",
       "    }\n",
       "</style>\n",
       "<table border=\"1\" class=\"dataframe\">\n",
       "  <thead>\n",
       "    <tr style=\"text-align: right;\">\n",
       "      <th></th>\n",
       "      <th>이름</th>\n",
       "      <th>주문음식</th>\n",
       "      <th>주문음료</th>\n",
       "    </tr>\n",
       "  </thead>\n",
       "  <tbody>\n",
       "    <tr>\n",
       "      <th>0</th>\n",
       "      <td>홍길동</td>\n",
       "      <td>햄버거</td>\n",
       "      <td>콜라</td>\n",
       "    </tr>\n",
       "    <tr>\n",
       "      <th>1</th>\n",
       "      <td>이순신</td>\n",
       "      <td>피자</td>\n",
       "      <td>사이다</td>\n",
       "    </tr>\n",
       "    <tr>\n",
       "      <th>2</th>\n",
       "      <td>임꺽정</td>\n",
       "      <td>짜장면</td>\n",
       "      <td>NaN</td>\n",
       "    </tr>\n",
       "  </tbody>\n",
       "</table>\n",
       "</div>"
      ],
      "text/plain": [
       "    이름 주문음식 주문음료\n",
       "0  홍길동  햄버거   콜라\n",
       "1  이순신   피자  사이다\n",
       "2  임꺽정  짜장면  NaN"
      ]
     },
     "execution_count": 227,
     "metadata": {},
     "output_type": "execute_result"
    }
   ],
   "source": [
    "pd.merge(df7, df8, how='left')"
   ]
  },
  {
   "cell_type": "code",
   "execution_count": 228,
   "metadata": {
    "id": "R0Te8J7Py9Up"
   },
   "outputs": [
    {
     "data": {
      "text/html": [
       "<div>\n",
       "<style scoped>\n",
       "    .dataframe tbody tr th:only-of-type {\n",
       "        vertical-align: middle;\n",
       "    }\n",
       "\n",
       "    .dataframe tbody tr th {\n",
       "        vertical-align: top;\n",
       "    }\n",
       "\n",
       "    .dataframe thead th {\n",
       "        text-align: right;\n",
       "    }\n",
       "</style>\n",
       "<table border=\"1\" class=\"dataframe\">\n",
       "  <thead>\n",
       "    <tr style=\"text-align: right;\">\n",
       "      <th></th>\n",
       "      <th>이름</th>\n",
       "      <th>주문음식</th>\n",
       "      <th>주문음료</th>\n",
       "    </tr>\n",
       "  </thead>\n",
       "  <tbody>\n",
       "    <tr>\n",
       "      <th>0</th>\n",
       "      <td>홍길동</td>\n",
       "      <td>햄버거</td>\n",
       "      <td>콜라</td>\n",
       "    </tr>\n",
       "    <tr>\n",
       "      <th>1</th>\n",
       "      <td>이순신</td>\n",
       "      <td>피자</td>\n",
       "      <td>사이다</td>\n",
       "    </tr>\n",
       "    <tr>\n",
       "      <th>2</th>\n",
       "      <td>김유신</td>\n",
       "      <td>NaN</td>\n",
       "      <td>커피</td>\n",
       "    </tr>\n",
       "  </tbody>\n",
       "</table>\n",
       "</div>"
      ],
      "text/plain": [
       "    이름 주문음식 주문음료\n",
       "0  홍길동  햄버거   콜라\n",
       "1  이순신   피자  사이다\n",
       "2  김유신  NaN   커피"
      ]
     },
     "execution_count": 228,
     "metadata": {},
     "output_type": "execute_result"
    }
   ],
   "source": [
    "pd.merge(df7, df8, how='right')"
   ]
  },
  {
   "cell_type": "code",
   "execution_count": 229,
   "metadata": {
    "id": "7VZHxJsky_L0"
   },
   "outputs": [
    {
     "data": {
      "text/html": [
       "<div>\n",
       "<style scoped>\n",
       "    .dataframe tbody tr th:only-of-type {\n",
       "        vertical-align: middle;\n",
       "    }\n",
       "\n",
       "    .dataframe tbody tr th {\n",
       "        vertical-align: top;\n",
       "    }\n",
       "\n",
       "    .dataframe thead th {\n",
       "        text-align: right;\n",
       "    }\n",
       "</style>\n",
       "<table border=\"1\" class=\"dataframe\">\n",
       "  <thead>\n",
       "    <tr style=\"text-align: right;\">\n",
       "      <th></th>\n",
       "      <th>이름</th>\n",
       "      <th>순위</th>\n",
       "    </tr>\n",
       "  </thead>\n",
       "  <tbody>\n",
       "    <tr>\n",
       "      <th>0</th>\n",
       "      <td>홍길동</td>\n",
       "      <td>3</td>\n",
       "    </tr>\n",
       "    <tr>\n",
       "      <th>1</th>\n",
       "      <td>이순신</td>\n",
       "      <td>4</td>\n",
       "    </tr>\n",
       "    <tr>\n",
       "      <th>2</th>\n",
       "      <td>임꺽정</td>\n",
       "      <td>2</td>\n",
       "    </tr>\n",
       "    <tr>\n",
       "      <th>3</th>\n",
       "      <td>김유신</td>\n",
       "      <td>1</td>\n",
       "    </tr>\n",
       "  </tbody>\n",
       "</table>\n",
       "</div>"
      ],
      "text/plain": [
       "    이름  순위\n",
       "0  홍길동   3\n",
       "1  이순신   4\n",
       "2  임꺽정   2\n",
       "3  김유신   1"
      ]
     },
     "execution_count": 229,
     "metadata": {},
     "output_type": "execute_result"
    }
   ],
   "source": [
    "df9 = pd.DataFrame({'이름':['홍길동','이순신','임꺽정','김유신'],\n",
    "                   '순위': [3,4,2,1]})\n",
    "df9"
   ]
  },
  {
   "cell_type": "code",
   "execution_count": 230,
   "metadata": {
    "id": "akYbKT0x0A0J"
   },
   "outputs": [
    {
     "data": {
      "text/html": [
       "<div>\n",
       "<style scoped>\n",
       "    .dataframe tbody tr th:only-of-type {\n",
       "        vertical-align: middle;\n",
       "    }\n",
       "\n",
       "    .dataframe tbody tr th {\n",
       "        vertical-align: top;\n",
       "    }\n",
       "\n",
       "    .dataframe thead th {\n",
       "        text-align: right;\n",
       "    }\n",
       "</style>\n",
       "<table border=\"1\" class=\"dataframe\">\n",
       "  <thead>\n",
       "    <tr style=\"text-align: right;\">\n",
       "      <th></th>\n",
       "      <th>이름</th>\n",
       "      <th>순위</th>\n",
       "    </tr>\n",
       "  </thead>\n",
       "  <tbody>\n",
       "    <tr>\n",
       "      <th>0</th>\n",
       "      <td>홍길동</td>\n",
       "      <td>1</td>\n",
       "    </tr>\n",
       "    <tr>\n",
       "      <th>1</th>\n",
       "      <td>이순신</td>\n",
       "      <td>2</td>\n",
       "    </tr>\n",
       "    <tr>\n",
       "      <th>2</th>\n",
       "      <td>임꺽정</td>\n",
       "      <td>3</td>\n",
       "    </tr>\n",
       "    <tr>\n",
       "      <th>3</th>\n",
       "      <td>김유신</td>\n",
       "      <td>4</td>\n",
       "    </tr>\n",
       "  </tbody>\n",
       "</table>\n",
       "</div>"
      ],
      "text/plain": [
       "    이름  순위\n",
       "0  홍길동   1\n",
       "1  이순신   2\n",
       "2  임꺽정   3\n",
       "3  김유신   4"
      ]
     },
     "execution_count": 230,
     "metadata": {},
     "output_type": "execute_result"
    }
   ],
   "source": [
    "df10 = pd.DataFrame({'이름':['홍길동','이순신','임꺽정','김유신'],\n",
    "                   '순위': [1,2,3,4]})\n",
    "df10"
   ]
  },
  {
   "cell_type": "code",
   "execution_count": 231,
   "metadata": {
    "id": "hC82_HIA0Gts"
   },
   "outputs": [
    {
     "data": {
      "text/html": [
       "<div>\n",
       "<style scoped>\n",
       "    .dataframe tbody tr th:only-of-type {\n",
       "        vertical-align: middle;\n",
       "    }\n",
       "\n",
       "    .dataframe tbody tr th {\n",
       "        vertical-align: top;\n",
       "    }\n",
       "\n",
       "    .dataframe thead th {\n",
       "        text-align: right;\n",
       "    }\n",
       "</style>\n",
       "<table border=\"1\" class=\"dataframe\">\n",
       "  <thead>\n",
       "    <tr style=\"text-align: right;\">\n",
       "      <th></th>\n",
       "      <th>이름</th>\n",
       "      <th>순위_x</th>\n",
       "      <th>순위_y</th>\n",
       "    </tr>\n",
       "  </thead>\n",
       "  <tbody>\n",
       "    <tr>\n",
       "      <th>0</th>\n",
       "      <td>홍길동</td>\n",
       "      <td>3</td>\n",
       "      <td>1</td>\n",
       "    </tr>\n",
       "    <tr>\n",
       "      <th>1</th>\n",
       "      <td>이순신</td>\n",
       "      <td>4</td>\n",
       "      <td>2</td>\n",
       "    </tr>\n",
       "    <tr>\n",
       "      <th>2</th>\n",
       "      <td>임꺽정</td>\n",
       "      <td>2</td>\n",
       "      <td>3</td>\n",
       "    </tr>\n",
       "    <tr>\n",
       "      <th>3</th>\n",
       "      <td>김유신</td>\n",
       "      <td>1</td>\n",
       "      <td>4</td>\n",
       "    </tr>\n",
       "  </tbody>\n",
       "</table>\n",
       "</div>"
      ],
      "text/plain": [
       "    이름  순위_x  순위_y\n",
       "0  홍길동     3     1\n",
       "1  이순신     4     2\n",
       "2  임꺽정     2     3\n",
       "3  김유신     1     4"
      ]
     },
     "execution_count": 231,
     "metadata": {},
     "output_type": "execute_result"
    }
   ],
   "source": [
    "pd.merge(df9, df10, on='이름')"
   ]
  },
  {
   "cell_type": "code",
   "execution_count": 232,
   "metadata": {
    "id": "lvanUKHh0NSl"
   },
   "outputs": [
    {
     "data": {
      "text/html": [
       "<div>\n",
       "<style scoped>\n",
       "    .dataframe tbody tr th:only-of-type {\n",
       "        vertical-align: middle;\n",
       "    }\n",
       "\n",
       "    .dataframe tbody tr th {\n",
       "        vertical-align: top;\n",
       "    }\n",
       "\n",
       "    .dataframe thead th {\n",
       "        text-align: right;\n",
       "    }\n",
       "</style>\n",
       "<table border=\"1\" class=\"dataframe\">\n",
       "  <thead>\n",
       "    <tr style=\"text-align: right;\">\n",
       "      <th></th>\n",
       "      <th>이름</th>\n",
       "      <th>순위_인기</th>\n",
       "      <th>순위_성적</th>\n",
       "    </tr>\n",
       "  </thead>\n",
       "  <tbody>\n",
       "    <tr>\n",
       "      <th>0</th>\n",
       "      <td>홍길동</td>\n",
       "      <td>3</td>\n",
       "      <td>1</td>\n",
       "    </tr>\n",
       "    <tr>\n",
       "      <th>1</th>\n",
       "      <td>이순신</td>\n",
       "      <td>4</td>\n",
       "      <td>2</td>\n",
       "    </tr>\n",
       "    <tr>\n",
       "      <th>2</th>\n",
       "      <td>임꺽정</td>\n",
       "      <td>2</td>\n",
       "      <td>3</td>\n",
       "    </tr>\n",
       "    <tr>\n",
       "      <th>3</th>\n",
       "      <td>김유신</td>\n",
       "      <td>1</td>\n",
       "      <td>4</td>\n",
       "    </tr>\n",
       "  </tbody>\n",
       "</table>\n",
       "</div>"
      ],
      "text/plain": [
       "    이름  순위_인기  순위_성적\n",
       "0  홍길동      3      1\n",
       "1  이순신      4      2\n",
       "2  임꺽정      2      3\n",
       "3  김유신      1      4"
      ]
     },
     "execution_count": 232,
     "metadata": {},
     "output_type": "execute_result"
    }
   ],
   "source": [
    "pd.merge(df9, df10, on='이름', suffixes=['_인기','_성적'])"
   ]
  },
  {
   "cell_type": "markdown",
   "metadata": {
    "id": "TR_8q2S50uIk"
   },
   "source": [
    "## 데이터 집계와 그룹 연산"
   ]
  },
  {
   "cell_type": "markdown",
   "metadata": {
    "id": "NnkMJFRlWPm7"
   },
   "source": [
    "#### 집계 연산(Aggregation)\n"
   ]
  },
  {
   "cell_type": "code",
   "execution_count": 233,
   "metadata": {
    "id": "5AR3wQl_5QLq"
   },
   "outputs": [
    {
     "data": {
      "text/html": [
       "<div>\n",
       "<style scoped>\n",
       "    .dataframe tbody tr th:only-of-type {\n",
       "        vertical-align: middle;\n",
       "    }\n",
       "\n",
       "    .dataframe tbody tr th {\n",
       "        vertical-align: top;\n",
       "    }\n",
       "\n",
       "    .dataframe thead th {\n",
       "        text-align: right;\n",
       "    }\n",
       "</style>\n",
       "<table border=\"1\" class=\"dataframe\">\n",
       "  <thead>\n",
       "    <tr style=\"text-align: right;\">\n",
       "      <th></th>\n",
       "      <th>a</th>\n",
       "      <th>b</th>\n",
       "      <th>c</th>\n",
       "    </tr>\n",
       "  </thead>\n",
       "  <tbody>\n",
       "    <tr>\n",
       "      <th>1</th>\n",
       "      <td>1.00</td>\n",
       "      <td>1.2</td>\n",
       "      <td>NaN</td>\n",
       "    </tr>\n",
       "    <tr>\n",
       "      <th>2</th>\n",
       "      <td>2.40</td>\n",
       "      <td>5.5</td>\n",
       "      <td>4.2</td>\n",
       "    </tr>\n",
       "    <tr>\n",
       "      <th>3</th>\n",
       "      <td>NaN</td>\n",
       "      <td>NaN</td>\n",
       "      <td>NaN</td>\n",
       "    </tr>\n",
       "    <tr>\n",
       "      <th>4</th>\n",
       "      <td>0.44</td>\n",
       "      <td>-3.1</td>\n",
       "      <td>-4.1</td>\n",
       "    </tr>\n",
       "  </tbody>\n",
       "</table>\n",
       "</div>"
      ],
      "text/plain": [
       "      a    b    c\n",
       "1  1.00  1.2  NaN\n",
       "2  2.40  5.5  4.2\n",
       "3   NaN  NaN  NaN\n",
       "4  0.44 -3.1 -4.1"
      ]
     },
     "execution_count": 233,
     "metadata": {},
     "output_type": "execute_result"
    }
   ],
   "source": [
    "df = pd.DataFrame([[1,1.2,np.nan],\n",
    "                  [2.4,5.5,4.2],\n",
    "                  [np.nan,np.nan,np.nan],\n",
    "                  [0.44,-3.1,-4.1]],\n",
    "                 index=[1,2,3,4],\n",
    "                 columns=['a','b','c'])\n",
    "df"
   ]
  },
  {
   "cell_type": "code",
   "execution_count": 234,
   "metadata": {
    "id": "jI0_ZOegZh86"
   },
   "outputs": [
    {
     "data": {
      "text/html": [
       "<div>\n",
       "<style scoped>\n",
       "    .dataframe tbody tr th:only-of-type {\n",
       "        vertical-align: middle;\n",
       "    }\n",
       "\n",
       "    .dataframe tbody tr th {\n",
       "        vertical-align: top;\n",
       "    }\n",
       "\n",
       "    .dataframe thead th {\n",
       "        text-align: right;\n",
       "    }\n",
       "</style>\n",
       "<table border=\"1\" class=\"dataframe\">\n",
       "  <thead>\n",
       "    <tr style=\"text-align: right;\">\n",
       "      <th></th>\n",
       "      <th>a</th>\n",
       "      <th>b</th>\n",
       "      <th>c</th>\n",
       "    </tr>\n",
       "  </thead>\n",
       "  <tbody>\n",
       "    <tr>\n",
       "      <th>1</th>\n",
       "      <td>1.0</td>\n",
       "      <td>1.2</td>\n",
       "      <td>NaN</td>\n",
       "    </tr>\n",
       "    <tr>\n",
       "      <th>2</th>\n",
       "      <td>2.4</td>\n",
       "      <td>5.5</td>\n",
       "      <td>4.2</td>\n",
       "    </tr>\n",
       "  </tbody>\n",
       "</table>\n",
       "</div>"
      ],
      "text/plain": [
       "     a    b    c\n",
       "1  1.0  1.2  NaN\n",
       "2  2.4  5.5  4.2"
      ]
     },
     "execution_count": 234,
     "metadata": {},
     "output_type": "execute_result"
    }
   ],
   "source": [
    "df.head(2)"
   ]
  },
  {
   "cell_type": "code",
   "execution_count": 235,
   "metadata": {
    "id": "fd2vnUehZoWF"
   },
   "outputs": [
    {
     "data": {
      "text/html": [
       "<div>\n",
       "<style scoped>\n",
       "    .dataframe tbody tr th:only-of-type {\n",
       "        vertical-align: middle;\n",
       "    }\n",
       "\n",
       "    .dataframe tbody tr th {\n",
       "        vertical-align: top;\n",
       "    }\n",
       "\n",
       "    .dataframe thead th {\n",
       "        text-align: right;\n",
       "    }\n",
       "</style>\n",
       "<table border=\"1\" class=\"dataframe\">\n",
       "  <thead>\n",
       "    <tr style=\"text-align: right;\">\n",
       "      <th></th>\n",
       "      <th>a</th>\n",
       "      <th>b</th>\n",
       "      <th>c</th>\n",
       "    </tr>\n",
       "  </thead>\n",
       "  <tbody>\n",
       "    <tr>\n",
       "      <th>3</th>\n",
       "      <td>NaN</td>\n",
       "      <td>NaN</td>\n",
       "      <td>NaN</td>\n",
       "    </tr>\n",
       "    <tr>\n",
       "      <th>4</th>\n",
       "      <td>0.44</td>\n",
       "      <td>-3.1</td>\n",
       "      <td>-4.1</td>\n",
       "    </tr>\n",
       "  </tbody>\n",
       "</table>\n",
       "</div>"
      ],
      "text/plain": [
       "      a    b    c\n",
       "3   NaN  NaN  NaN\n",
       "4  0.44 -3.1 -4.1"
      ]
     },
     "execution_count": 235,
     "metadata": {},
     "output_type": "execute_result"
    }
   ],
   "source": [
    "df.tail(2)"
   ]
  },
  {
   "cell_type": "code",
   "execution_count": 236,
   "metadata": {
    "id": "I4DNBURwZq76"
   },
   "outputs": [
    {
     "data": {
      "text/html": [
       "<div>\n",
       "<style scoped>\n",
       "    .dataframe tbody tr th:only-of-type {\n",
       "        vertical-align: middle;\n",
       "    }\n",
       "\n",
       "    .dataframe tbody tr th {\n",
       "        vertical-align: top;\n",
       "    }\n",
       "\n",
       "    .dataframe thead th {\n",
       "        text-align: right;\n",
       "    }\n",
       "</style>\n",
       "<table border=\"1\" class=\"dataframe\">\n",
       "  <thead>\n",
       "    <tr style=\"text-align: right;\">\n",
       "      <th></th>\n",
       "      <th>a</th>\n",
       "      <th>b</th>\n",
       "      <th>c</th>\n",
       "    </tr>\n",
       "  </thead>\n",
       "  <tbody>\n",
       "    <tr>\n",
       "      <th>count</th>\n",
       "      <td>3.000000</td>\n",
       "      <td>3.00</td>\n",
       "      <td>2.000000</td>\n",
       "    </tr>\n",
       "    <tr>\n",
       "      <th>mean</th>\n",
       "      <td>1.280000</td>\n",
       "      <td>1.20</td>\n",
       "      <td>0.050000</td>\n",
       "    </tr>\n",
       "    <tr>\n",
       "      <th>std</th>\n",
       "      <td>1.009554</td>\n",
       "      <td>4.30</td>\n",
       "      <td>5.868986</td>\n",
       "    </tr>\n",
       "    <tr>\n",
       "      <th>min</th>\n",
       "      <td>0.440000</td>\n",
       "      <td>-3.10</td>\n",
       "      <td>-4.100000</td>\n",
       "    </tr>\n",
       "    <tr>\n",
       "      <th>25%</th>\n",
       "      <td>0.720000</td>\n",
       "      <td>-0.95</td>\n",
       "      <td>-2.025000</td>\n",
       "    </tr>\n",
       "    <tr>\n",
       "      <th>50%</th>\n",
       "      <td>1.000000</td>\n",
       "      <td>1.20</td>\n",
       "      <td>0.050000</td>\n",
       "    </tr>\n",
       "    <tr>\n",
       "      <th>75%</th>\n",
       "      <td>1.700000</td>\n",
       "      <td>3.35</td>\n",
       "      <td>2.125000</td>\n",
       "    </tr>\n",
       "    <tr>\n",
       "      <th>max</th>\n",
       "      <td>2.400000</td>\n",
       "      <td>5.50</td>\n",
       "      <td>4.200000</td>\n",
       "    </tr>\n",
       "  </tbody>\n",
       "</table>\n",
       "</div>"
      ],
      "text/plain": [
       "              a     b         c\n",
       "count  3.000000  3.00  2.000000\n",
       "mean   1.280000  1.20  0.050000\n",
       "std    1.009554  4.30  5.868986\n",
       "min    0.440000 -3.10 -4.100000\n",
       "25%    0.720000 -0.95 -2.025000\n",
       "50%    1.000000  1.20  0.050000\n",
       "75%    1.700000  3.35  2.125000\n",
       "max    2.400000  5.50  4.200000"
      ]
     },
     "execution_count": 236,
     "metadata": {},
     "output_type": "execute_result"
    }
   ],
   "source": [
    "df.describe()"
   ]
  },
  {
   "cell_type": "code",
   "execution_count": 237,
   "metadata": {
    "id": "M9mBVcqmZ-K_"
   },
   "outputs": [
    {
     "name": "stdout",
     "output_type": "stream",
     "text": [
      "      a    b    c\n",
      "1  1.00  1.2  NaN\n",
      "2  2.40  5.5  4.2\n",
      "3   NaN  NaN  NaN\n",
      "4  0.44 -3.1 -4.1\n",
      "2 2\n"
     ]
    }
   ],
   "source": [
    "print(df)\n",
    "print(np.argmin(df), np.argmax(df))"
   ]
  },
  {
   "cell_type": "code",
   "execution_count": 238,
   "metadata": {
    "id": "i65nWUsJa2p1"
   },
   "outputs": [
    {
     "name": "stdout",
     "output_type": "stream",
     "text": [
      "      a    b    c\n",
      "1  1.00  1.2  NaN\n",
      "2  2.40  5.5  4.2\n",
      "3   NaN  NaN  NaN\n",
      "4  0.44 -3.1 -4.1\n",
      "a    4\n",
      "b    4\n",
      "c    4\n",
      "dtype: int64\n",
      "a    2\n",
      "b    2\n",
      "c    2\n",
      "dtype: int64\n"
     ]
    }
   ],
   "source": [
    "print(df)\n",
    "print(df.idxmin())\n",
    "print(df.idxmax())"
   ]
  },
  {
   "cell_type": "code",
   "execution_count": 239,
   "metadata": {
    "id": "jqs9rYXAd-Kn"
   },
   "outputs": [
    {
     "name": "stdout",
     "output_type": "stream",
     "text": [
      "      a    b    c\n",
      "1  1.00  1.2  NaN\n",
      "2  2.40  5.5  4.2\n",
      "3   NaN  NaN  NaN\n",
      "4  0.44 -3.1 -4.1\n",
      "a    1.009554\n",
      "b    4.300000\n",
      "c    5.868986\n",
      "dtype: float64\n",
      "a     1.0192\n",
      "b    18.4900\n",
      "c    34.4450\n",
      "dtype: float64\n"
     ]
    }
   ],
   "source": [
    "print(df)\n",
    "print(df.std())\n",
    "print(df.var())"
   ]
  },
  {
   "cell_type": "code",
   "execution_count": 240,
   "metadata": {
    "id": "gYIy8wF7eNth"
   },
   "outputs": [
    {
     "name": "stdout",
     "output_type": "stream",
     "text": [
      "      a    b    c\n",
      "1  1.00  1.2  NaN\n",
      "2  2.40  5.5  4.2\n",
      "3   NaN  NaN  NaN\n",
      "4  0.44 -3.1 -4.1\n",
      "a    1.15207\n",
      "b    0.00000\n",
      "c        NaN\n",
      "dtype: float64\n",
      "a   NaN\n",
      "b   NaN\n",
      "c   NaN\n",
      "dtype: float64\n"
     ]
    }
   ],
   "source": [
    "print(df)\n",
    "print(df.skew())\n",
    "print(df.kurt())"
   ]
  },
  {
   "cell_type": "code",
   "execution_count": 241,
   "metadata": {
    "id": "IYZJFuMte3Jb"
   },
   "outputs": [
    {
     "name": "stdout",
     "output_type": "stream",
     "text": [
      "      a    b    c\n",
      "1  1.00  1.2  NaN\n",
      "2  2.40  5.5  4.2\n",
      "3   NaN  NaN  NaN\n",
      "4  0.44 -3.1 -4.1\n",
      "a    3.84\n",
      "b    3.60\n",
      "c    0.10\n",
      "dtype: float64\n",
      "      a    b    c\n",
      "1  1.00  1.2  NaN\n",
      "2  3.40  6.7  4.2\n",
      "3   NaN  NaN  NaN\n",
      "4  3.84  3.6  0.1\n"
     ]
    }
   ],
   "source": [
    "print(df)\n",
    "print(df.sum())\n",
    "print(df.cumsum())"
   ]
  },
  {
   "cell_type": "code",
   "execution_count": 242,
   "metadata": {
    "id": "zeo4laoDfARh"
   },
   "outputs": [
    {
     "name": "stdout",
     "output_type": "stream",
     "text": [
      "      a    b    c\n",
      "1  1.00  1.2  NaN\n",
      "2  2.40  5.5  4.2\n",
      "3   NaN  NaN  NaN\n",
      "4  0.44 -3.1 -4.1\n",
      "a     1.056\n",
      "b   -20.460\n",
      "c   -17.220\n",
      "dtype: float64\n",
      "       a      b      c\n",
      "1  1.000   1.20    NaN\n",
      "2  2.400   6.60   4.20\n",
      "3    NaN    NaN    NaN\n",
      "4  1.056 -20.46 -17.22\n"
     ]
    }
   ],
   "source": [
    "print(df)\n",
    "print(df.prod())\n",
    "print(df.cumprod())"
   ]
  },
  {
   "cell_type": "code",
   "execution_count": 243,
   "metadata": {
    "id": "uO8VFmO3mku9"
   },
   "outputs": [
    {
     "data": {
      "text/html": [
       "<div>\n",
       "<style scoped>\n",
       "    .dataframe tbody tr th:only-of-type {\n",
       "        vertical-align: middle;\n",
       "    }\n",
       "\n",
       "    .dataframe tbody tr th {\n",
       "        vertical-align: top;\n",
       "    }\n",
       "\n",
       "    .dataframe thead th {\n",
       "        text-align: right;\n",
       "    }\n",
       "</style>\n",
       "<table border=\"1\" class=\"dataframe\">\n",
       "  <thead>\n",
       "    <tr style=\"text-align: right;\">\n",
       "      <th></th>\n",
       "      <th>a</th>\n",
       "      <th>b</th>\n",
       "      <th>c</th>\n",
       "    </tr>\n",
       "  </thead>\n",
       "  <tbody>\n",
       "    <tr>\n",
       "      <th>1</th>\n",
       "      <td>NaN</td>\n",
       "      <td>NaN</td>\n",
       "      <td>NaN</td>\n",
       "    </tr>\n",
       "    <tr>\n",
       "      <th>2</th>\n",
       "      <td>1.4</td>\n",
       "      <td>4.3</td>\n",
       "      <td>NaN</td>\n",
       "    </tr>\n",
       "    <tr>\n",
       "      <th>3</th>\n",
       "      <td>NaN</td>\n",
       "      <td>NaN</td>\n",
       "      <td>NaN</td>\n",
       "    </tr>\n",
       "    <tr>\n",
       "      <th>4</th>\n",
       "      <td>NaN</td>\n",
       "      <td>NaN</td>\n",
       "      <td>NaN</td>\n",
       "    </tr>\n",
       "  </tbody>\n",
       "</table>\n",
       "</div>"
      ],
      "text/plain": [
       "     a    b   c\n",
       "1  NaN  NaN NaN\n",
       "2  1.4  4.3 NaN\n",
       "3  NaN  NaN NaN\n",
       "4  NaN  NaN NaN"
      ]
     },
     "execution_count": 243,
     "metadata": {},
     "output_type": "execute_result"
    }
   ],
   "source": [
    "df.diff()"
   ]
  },
  {
   "cell_type": "code",
   "execution_count": 244,
   "metadata": {
    "id": "TfgY7dimneBl"
   },
   "outputs": [
    {
     "data": {
      "text/html": [
       "<div>\n",
       "<style scoped>\n",
       "    .dataframe tbody tr th:only-of-type {\n",
       "        vertical-align: middle;\n",
       "    }\n",
       "\n",
       "    .dataframe tbody tr th {\n",
       "        vertical-align: top;\n",
       "    }\n",
       "\n",
       "    .dataframe thead th {\n",
       "        text-align: right;\n",
       "    }\n",
       "</style>\n",
       "<table border=\"1\" class=\"dataframe\">\n",
       "  <thead>\n",
       "    <tr style=\"text-align: right;\">\n",
       "      <th></th>\n",
       "      <th>a</th>\n",
       "      <th>b</th>\n",
       "      <th>c</th>\n",
       "    </tr>\n",
       "  </thead>\n",
       "  <tbody>\n",
       "    <tr>\n",
       "      <th>a</th>\n",
       "      <td>1.000000</td>\n",
       "      <td>0.970725</td>\n",
       "      <td>1.0</td>\n",
       "    </tr>\n",
       "    <tr>\n",
       "      <th>b</th>\n",
       "      <td>0.970725</td>\n",
       "      <td>1.000000</td>\n",
       "      <td>1.0</td>\n",
       "    </tr>\n",
       "    <tr>\n",
       "      <th>c</th>\n",
       "      <td>1.000000</td>\n",
       "      <td>1.000000</td>\n",
       "      <td>1.0</td>\n",
       "    </tr>\n",
       "  </tbody>\n",
       "</table>\n",
       "</div>"
      ],
      "text/plain": [
       "          a         b    c\n",
       "a  1.000000  0.970725  1.0\n",
       "b  0.970725  1.000000  1.0\n",
       "c  1.000000  1.000000  1.0"
      ]
     },
     "execution_count": 244,
     "metadata": {},
     "output_type": "execute_result"
    }
   ],
   "source": [
    "df.corr()"
   ]
  },
  {
   "cell_type": "code",
   "execution_count": 245,
   "metadata": {
    "id": "dF_MpNjypa2z"
   },
   "outputs": [
    {
     "data": {
      "text/plain": [
       "a    0.970725\n",
       "b    1.000000\n",
       "c    1.000000\n",
       "dtype: float64"
      ]
     },
     "execution_count": 245,
     "metadata": {},
     "output_type": "execute_result"
    }
   ],
   "source": [
    "df.corrwith(df.b)"
   ]
  },
  {
   "cell_type": "code",
   "execution_count": 246,
   "metadata": {
    "id": "oE-GXjRSpN3-"
   },
   "outputs": [
    {
     "data": {
      "text/html": [
       "<div>\n",
       "<style scoped>\n",
       "    .dataframe tbody tr th:only-of-type {\n",
       "        vertical-align: middle;\n",
       "    }\n",
       "\n",
       "    .dataframe tbody tr th {\n",
       "        vertical-align: top;\n",
       "    }\n",
       "\n",
       "    .dataframe thead th {\n",
       "        text-align: right;\n",
       "    }\n",
       "</style>\n",
       "<table border=\"1\" class=\"dataframe\">\n",
       "  <thead>\n",
       "    <tr style=\"text-align: right;\">\n",
       "      <th></th>\n",
       "      <th>a</th>\n",
       "      <th>b</th>\n",
       "      <th>c</th>\n",
       "    </tr>\n",
       "  </thead>\n",
       "  <tbody>\n",
       "    <tr>\n",
       "      <th>a</th>\n",
       "      <td>1.0192</td>\n",
       "      <td>4.214</td>\n",
       "      <td>8.134</td>\n",
       "    </tr>\n",
       "    <tr>\n",
       "      <th>b</th>\n",
       "      <td>4.2140</td>\n",
       "      <td>18.490</td>\n",
       "      <td>35.690</td>\n",
       "    </tr>\n",
       "    <tr>\n",
       "      <th>c</th>\n",
       "      <td>8.1340</td>\n",
       "      <td>35.690</td>\n",
       "      <td>34.445</td>\n",
       "    </tr>\n",
       "  </tbody>\n",
       "</table>\n",
       "</div>"
      ],
      "text/plain": [
       "        a       b       c\n",
       "a  1.0192   4.214   8.134\n",
       "b  4.2140  18.490  35.690\n",
       "c  8.1340  35.690  34.445"
      ]
     },
     "execution_count": 246,
     "metadata": {},
     "output_type": "execute_result"
    }
   ],
   "source": [
    "df.cov()"
   ]
  },
  {
   "cell_type": "code",
   "execution_count": 247,
   "metadata": {
    "id": "NYkglCVFqZbI"
   },
   "outputs": [
    {
     "data": {
      "text/plain": [
       "array([ 1.2,  5.5,  nan, -3.1])"
      ]
     },
     "execution_count": 247,
     "metadata": {},
     "output_type": "execute_result"
    }
   ],
   "source": [
    "df['b'].unique()"
   ]
  },
  {
   "cell_type": "code",
   "execution_count": 248,
   "metadata": {
    "id": "reK3YKyVpTh-"
   },
   "outputs": [
    {
     "data": {
      "text/plain": [
       "1.00    1\n",
       "2.40    1\n",
       "0.44    1\n",
       "Name: a, dtype: int64"
      ]
     },
     "execution_count": 248,
     "metadata": {},
     "output_type": "execute_result"
    }
   ],
   "source": [
    "df['a'].value_counts()"
   ]
  },
  {
   "cell_type": "markdown",
   "metadata": {
    "id": "iVaTvBns27tS"
   },
   "source": [
    "### GroupBy 연산"
   ]
  },
  {
   "cell_type": "code",
   "execution_count": 249,
   "metadata": {
    "id": "yOTrmBm58Wwm"
   },
   "outputs": [
    {
     "data": {
      "text/html": [
       "<div>\n",
       "<style scoped>\n",
       "    .dataframe tbody tr th:only-of-type {\n",
       "        vertical-align: middle;\n",
       "    }\n",
       "\n",
       "    .dataframe tbody tr th {\n",
       "        vertical-align: top;\n",
       "    }\n",
       "\n",
       "    .dataframe thead th {\n",
       "        text-align: right;\n",
       "    }\n",
       "</style>\n",
       "<table border=\"1\" class=\"dataframe\">\n",
       "  <thead>\n",
       "    <tr style=\"text-align: right;\">\n",
       "      <th></th>\n",
       "      <th>c1</th>\n",
       "      <th>c2</th>\n",
       "      <th>c3</th>\n",
       "      <th>c4</th>\n",
       "    </tr>\n",
       "  </thead>\n",
       "  <tbody>\n",
       "    <tr>\n",
       "      <th>0</th>\n",
       "      <td>a</td>\n",
       "      <td>A</td>\n",
       "      <td>1</td>\n",
       "      <td>0.900004</td>\n",
       "    </tr>\n",
       "    <tr>\n",
       "      <th>1</th>\n",
       "      <td>a</td>\n",
       "      <td>B</td>\n",
       "      <td>1</td>\n",
       "      <td>0.541000</td>\n",
       "    </tr>\n",
       "    <tr>\n",
       "      <th>2</th>\n",
       "      <td>b</td>\n",
       "      <td>B</td>\n",
       "      <td>1</td>\n",
       "      <td>0.175652</td>\n",
       "    </tr>\n",
       "    <tr>\n",
       "      <th>3</th>\n",
       "      <td>b</td>\n",
       "      <td>A</td>\n",
       "      <td>1</td>\n",
       "      <td>0.765344</td>\n",
       "    </tr>\n",
       "    <tr>\n",
       "      <th>4</th>\n",
       "      <td>c</td>\n",
       "      <td>D</td>\n",
       "      <td>1</td>\n",
       "      <td>0.405133</td>\n",
       "    </tr>\n",
       "    <tr>\n",
       "      <th>5</th>\n",
       "      <td>d</td>\n",
       "      <td>C</td>\n",
       "      <td>1</td>\n",
       "      <td>0.694604</td>\n",
       "    </tr>\n",
       "    <tr>\n",
       "      <th>6</th>\n",
       "      <td>b</td>\n",
       "      <td>C</td>\n",
       "      <td>1</td>\n",
       "      <td>0.307875</td>\n",
       "    </tr>\n",
       "  </tbody>\n",
       "</table>\n",
       "</div>"
      ],
      "text/plain": [
       "  c1 c2  c3        c4\n",
       "0  a  A   1  0.900004\n",
       "1  a  B   1  0.541000\n",
       "2  b  B   1  0.175652\n",
       "3  b  A   1  0.765344\n",
       "4  c  D   1  0.405133\n",
       "5  d  C   1  0.694604\n",
       "6  b  C   1  0.307875"
      ]
     },
     "execution_count": 249,
     "metadata": {},
     "output_type": "execute_result"
    }
   ],
   "source": [
    "df = pd.DataFrame({'c1':['a','a','b','b','c','d','b'],\n",
    "                  'c2':['A','B','B','A','D','C','C'],\n",
    "                  'c3': np.random.randint(7),\n",
    "                  'c4': np.random.random(7)})\n",
    "df"
   ]
  },
  {
   "cell_type": "code",
   "execution_count": 250,
   "metadata": {
    "id": "8NNZKuIzXKFD"
   },
   "outputs": [
    {
     "data": {
      "text/plain": [
       "c1     object\n",
       "c2     object\n",
       "c3      int64\n",
       "c4    float64\n",
       "dtype: object"
      ]
     },
     "execution_count": 250,
     "metadata": {},
     "output_type": "execute_result"
    }
   ],
   "source": [
    "df.dtypes"
   ]
  },
  {
   "cell_type": "code",
   "execution_count": 251,
   "metadata": {
    "id": "YyL-IgRFJwPE"
   },
   "outputs": [
    {
     "data": {
      "text/plain": [
       "c1\n",
       "a    1.0\n",
       "b    1.0\n",
       "c    1.0\n",
       "d    1.0\n",
       "Name: c3, dtype: float64"
      ]
     },
     "execution_count": 251,
     "metadata": {},
     "output_type": "execute_result"
    }
   ],
   "source": [
    "df['c3'].groupby(df['c1']).mean()"
   ]
  },
  {
   "cell_type": "code",
   "execution_count": 253,
   "metadata": {
    "id": "5Jkhs5U-OMSE"
   },
   "outputs": [
    {
     "data": {
      "text/plain": [
       "c2\n",
       "A    0.095219\n",
       "B    0.258340\n",
       "C    0.273458\n",
       "D         NaN\n",
       "Name: c4, dtype: float64"
      ]
     },
     "execution_count": 253,
     "metadata": {},
     "output_type": "execute_result"
    }
   ],
   "source": [
    "df['c4'].groupby(df['c2']).std()"
   ]
  },
  {
   "cell_type": "code",
   "execution_count": 254,
   "metadata": {
    "id": "WpDjcHLtOSto"
   },
   "outputs": [
    {
     "data": {
      "text/html": [
       "<div>\n",
       "<style scoped>\n",
       "    .dataframe tbody tr th:only-of-type {\n",
       "        vertical-align: middle;\n",
       "    }\n",
       "\n",
       "    .dataframe tbody tr th {\n",
       "        vertical-align: top;\n",
       "    }\n",
       "\n",
       "    .dataframe thead th {\n",
       "        text-align: right;\n",
       "    }\n",
       "</style>\n",
       "<table border=\"1\" class=\"dataframe\">\n",
       "  <thead>\n",
       "    <tr style=\"text-align: right;\">\n",
       "      <th>c2</th>\n",
       "      <th>A</th>\n",
       "      <th>B</th>\n",
       "      <th>C</th>\n",
       "      <th>D</th>\n",
       "    </tr>\n",
       "    <tr>\n",
       "      <th>c1</th>\n",
       "      <th></th>\n",
       "      <th></th>\n",
       "      <th></th>\n",
       "      <th></th>\n",
       "    </tr>\n",
       "  </thead>\n",
       "  <tbody>\n",
       "    <tr>\n",
       "      <th>a</th>\n",
       "      <td>0.900004</td>\n",
       "      <td>0.541000</td>\n",
       "      <td>NaN</td>\n",
       "      <td>NaN</td>\n",
       "    </tr>\n",
       "    <tr>\n",
       "      <th>b</th>\n",
       "      <td>0.765344</td>\n",
       "      <td>0.175652</td>\n",
       "      <td>0.307875</td>\n",
       "      <td>NaN</td>\n",
       "    </tr>\n",
       "    <tr>\n",
       "      <th>c</th>\n",
       "      <td>NaN</td>\n",
       "      <td>NaN</td>\n",
       "      <td>NaN</td>\n",
       "      <td>0.405133</td>\n",
       "    </tr>\n",
       "    <tr>\n",
       "      <th>d</th>\n",
       "      <td>NaN</td>\n",
       "      <td>NaN</td>\n",
       "      <td>0.694604</td>\n",
       "      <td>NaN</td>\n",
       "    </tr>\n",
       "  </tbody>\n",
       "</table>\n",
       "</div>"
      ],
      "text/plain": [
       "c2         A         B         C         D\n",
       "c1                                        \n",
       "a   0.900004  0.541000       NaN       NaN\n",
       "b   0.765344  0.175652  0.307875       NaN\n",
       "c        NaN       NaN       NaN  0.405133\n",
       "d        NaN       NaN  0.694604       NaN"
      ]
     },
     "execution_count": 254,
     "metadata": {},
     "output_type": "execute_result"
    }
   ],
   "source": [
    "df['c4'].groupby([df['c1'], df['c2']]).mean().unstack()"
   ]
  },
  {
   "cell_type": "code",
   "execution_count": 255,
   "metadata": {
    "id": "l4CCXC_jOkac"
   },
   "outputs": [
    {
     "data": {
      "text/html": [
       "<div>\n",
       "<style scoped>\n",
       "    .dataframe tbody tr th:only-of-type {\n",
       "        vertical-align: middle;\n",
       "    }\n",
       "\n",
       "    .dataframe tbody tr th {\n",
       "        vertical-align: top;\n",
       "    }\n",
       "\n",
       "    .dataframe thead th {\n",
       "        text-align: right;\n",
       "    }\n",
       "</style>\n",
       "<table border=\"1\" class=\"dataframe\">\n",
       "  <thead>\n",
       "    <tr style=\"text-align: right;\">\n",
       "      <th></th>\n",
       "      <th>c3</th>\n",
       "      <th>c4</th>\n",
       "    </tr>\n",
       "    <tr>\n",
       "      <th>c1</th>\n",
       "      <th></th>\n",
       "      <th></th>\n",
       "    </tr>\n",
       "  </thead>\n",
       "  <tbody>\n",
       "    <tr>\n",
       "      <th>a</th>\n",
       "      <td>1.0</td>\n",
       "      <td>0.720502</td>\n",
       "    </tr>\n",
       "    <tr>\n",
       "      <th>b</th>\n",
       "      <td>1.0</td>\n",
       "      <td>0.416290</td>\n",
       "    </tr>\n",
       "    <tr>\n",
       "      <th>c</th>\n",
       "      <td>1.0</td>\n",
       "      <td>0.405133</td>\n",
       "    </tr>\n",
       "    <tr>\n",
       "      <th>d</th>\n",
       "      <td>1.0</td>\n",
       "      <td>0.694604</td>\n",
       "    </tr>\n",
       "  </tbody>\n",
       "</table>\n",
       "</div>"
      ],
      "text/plain": [
       "     c3        c4\n",
       "c1               \n",
       "a   1.0  0.720502\n",
       "b   1.0  0.416290\n",
       "c   1.0  0.405133\n",
       "d   1.0  0.694604"
      ]
     },
     "execution_count": 255,
     "metadata": {},
     "output_type": "execute_result"
    }
   ],
   "source": [
    "df.groupby('c1').mean()"
   ]
  },
  {
   "cell_type": "code",
   "execution_count": 256,
   "metadata": {
    "id": "v4t_XjXWROgc"
   },
   "outputs": [
    {
     "data": {
      "text/html": [
       "<div>\n",
       "<style scoped>\n",
       "    .dataframe tbody tr th:only-of-type {\n",
       "        vertical-align: middle;\n",
       "    }\n",
       "\n",
       "    .dataframe tbody tr th {\n",
       "        vertical-align: top;\n",
       "    }\n",
       "\n",
       "    .dataframe thead th {\n",
       "        text-align: right;\n",
       "    }\n",
       "</style>\n",
       "<table border=\"1\" class=\"dataframe\">\n",
       "  <thead>\n",
       "    <tr style=\"text-align: right;\">\n",
       "      <th></th>\n",
       "      <th></th>\n",
       "      <th>c3</th>\n",
       "      <th>c4</th>\n",
       "    </tr>\n",
       "    <tr>\n",
       "      <th>c1</th>\n",
       "      <th>c2</th>\n",
       "      <th></th>\n",
       "      <th></th>\n",
       "    </tr>\n",
       "  </thead>\n",
       "  <tbody>\n",
       "    <tr>\n",
       "      <th rowspan=\"2\" valign=\"top\">a</th>\n",
       "      <th>A</th>\n",
       "      <td>1.0</td>\n",
       "      <td>0.900004</td>\n",
       "    </tr>\n",
       "    <tr>\n",
       "      <th>B</th>\n",
       "      <td>1.0</td>\n",
       "      <td>0.541000</td>\n",
       "    </tr>\n",
       "    <tr>\n",
       "      <th rowspan=\"3\" valign=\"top\">b</th>\n",
       "      <th>A</th>\n",
       "      <td>1.0</td>\n",
       "      <td>0.765344</td>\n",
       "    </tr>\n",
       "    <tr>\n",
       "      <th>B</th>\n",
       "      <td>1.0</td>\n",
       "      <td>0.175652</td>\n",
       "    </tr>\n",
       "    <tr>\n",
       "      <th>C</th>\n",
       "      <td>1.0</td>\n",
       "      <td>0.307875</td>\n",
       "    </tr>\n",
       "    <tr>\n",
       "      <th>c</th>\n",
       "      <th>D</th>\n",
       "      <td>1.0</td>\n",
       "      <td>0.405133</td>\n",
       "    </tr>\n",
       "    <tr>\n",
       "      <th>d</th>\n",
       "      <th>C</th>\n",
       "      <td>1.0</td>\n",
       "      <td>0.694604</td>\n",
       "    </tr>\n",
       "  </tbody>\n",
       "</table>\n",
       "</div>"
      ],
      "text/plain": [
       "        c3        c4\n",
       "c1 c2               \n",
       "a  A   1.0  0.900004\n",
       "   B   1.0  0.541000\n",
       "b  A   1.0  0.765344\n",
       "   B   1.0  0.175652\n",
       "   C   1.0  0.307875\n",
       "c  D   1.0  0.405133\n",
       "d  C   1.0  0.694604"
      ]
     },
     "execution_count": 256,
     "metadata": {},
     "output_type": "execute_result"
    }
   ],
   "source": [
    "df.groupby(['c1','c2']).mean()"
   ]
  },
  {
   "cell_type": "code",
   "execution_count": 257,
   "metadata": {
    "id": "WrFg05U5RXE6"
   },
   "outputs": [
    {
     "data": {
      "text/plain": [
       "c1  c2\n",
       "a   A     1\n",
       "    B     1\n",
       "b   A     1\n",
       "    B     1\n",
       "    C     1\n",
       "c   D     1\n",
       "d   C     1\n",
       "dtype: int64"
      ]
     },
     "execution_count": 257,
     "metadata": {},
     "output_type": "execute_result"
    }
   ],
   "source": [
    "df.groupby(['c1','c2']).size()"
   ]
  },
  {
   "cell_type": "code",
   "execution_count": 258,
   "metadata": {
    "id": "Oj5diRr-Rh3Y"
   },
   "outputs": [
    {
     "name": "stdout",
     "output_type": "stream",
     "text": [
      "a\n",
      "  c1 c2  c3        c4\n",
      "0  a  A   1  0.900004\n",
      "1  a  B   1  0.541000\n",
      "b\n",
      "  c1 c2  c3        c4\n",
      "2  b  B   1  0.175652\n",
      "3  b  A   1  0.765344\n",
      "6  b  C   1  0.307875\n",
      "c\n",
      "  c1 c2  c3        c4\n",
      "4  c  D   1  0.405133\n",
      "d\n",
      "  c1 c2  c3        c4\n",
      "5  d  C   1  0.694604\n"
     ]
    }
   ],
   "source": [
    "for c1, group in df.groupby('c1'):\n",
    "    print(c1)\n",
    "    print(group)"
   ]
  },
  {
   "cell_type": "code",
   "execution_count": 260,
   "metadata": {
    "id": "drwoM9kNViu9"
   },
   "outputs": [
    {
     "name": "stdout",
     "output_type": "stream",
     "text": [
      "('a', 'A')\n",
      "  c1 c2  c3        c4\n",
      "0  a  A   1  0.900004\n",
      "('a', 'B')\n",
      "  c1 c2  c3     c4\n",
      "1  a  B   1  0.541\n",
      "('b', 'A')\n",
      "  c1 c2  c3        c4\n",
      "3  b  A   1  0.765344\n",
      "('b', 'B')\n",
      "  c1 c2  c3        c4\n",
      "2  b  B   1  0.175652\n",
      "('b', 'C')\n",
      "  c1 c2  c3        c4\n",
      "6  b  C   1  0.307875\n",
      "('c', 'D')\n",
      "  c1 c2  c3        c4\n",
      "4  c  D   1  0.405133\n",
      "('d', 'C')\n",
      "  c1 c2  c3        c4\n",
      "5  d  C   1  0.694604\n"
     ]
    }
   ],
   "source": [
    "for (c1,c2), group in df.groupby(['c1','c2']):\n",
    "    print((c1,c2))\n",
    "    print(group)"
   ]
  },
  {
   "cell_type": "code",
   "execution_count": 261,
   "metadata": {
    "id": "TYDUCgdCWQW7"
   },
   "outputs": [
    {
     "data": {
      "text/html": [
       "<div>\n",
       "<style scoped>\n",
       "    .dataframe tbody tr th:only-of-type {\n",
       "        vertical-align: middle;\n",
       "    }\n",
       "\n",
       "    .dataframe tbody tr th {\n",
       "        vertical-align: top;\n",
       "    }\n",
       "\n",
       "    .dataframe thead th {\n",
       "        text-align: right;\n",
       "    }\n",
       "</style>\n",
       "<table border=\"1\" class=\"dataframe\">\n",
       "  <thead>\n",
       "    <tr style=\"text-align: right;\">\n",
       "      <th></th>\n",
       "      <th></th>\n",
       "      <th>c4</th>\n",
       "    </tr>\n",
       "    <tr>\n",
       "      <th>c1</th>\n",
       "      <th>c2</th>\n",
       "      <th></th>\n",
       "    </tr>\n",
       "  </thead>\n",
       "  <tbody>\n",
       "    <tr>\n",
       "      <th rowspan=\"2\" valign=\"top\">a</th>\n",
       "      <th>A</th>\n",
       "      <td>0.900004</td>\n",
       "    </tr>\n",
       "    <tr>\n",
       "      <th>B</th>\n",
       "      <td>0.541000</td>\n",
       "    </tr>\n",
       "    <tr>\n",
       "      <th rowspan=\"3\" valign=\"top\">b</th>\n",
       "      <th>A</th>\n",
       "      <td>0.765344</td>\n",
       "    </tr>\n",
       "    <tr>\n",
       "      <th>B</th>\n",
       "      <td>0.175652</td>\n",
       "    </tr>\n",
       "    <tr>\n",
       "      <th>C</th>\n",
       "      <td>0.307875</td>\n",
       "    </tr>\n",
       "    <tr>\n",
       "      <th>c</th>\n",
       "      <th>D</th>\n",
       "      <td>0.405133</td>\n",
       "    </tr>\n",
       "    <tr>\n",
       "      <th>d</th>\n",
       "      <th>C</th>\n",
       "      <td>0.694604</td>\n",
       "    </tr>\n",
       "  </tbody>\n",
       "</table>\n",
       "</div>"
      ],
      "text/plain": [
       "             c4\n",
       "c1 c2          \n",
       "a  A   0.900004\n",
       "   B   0.541000\n",
       "b  A   0.765344\n",
       "   B   0.175652\n",
       "   C   0.307875\n",
       "c  D   0.405133\n",
       "d  C   0.694604"
      ]
     },
     "execution_count": 261,
     "metadata": {},
     "output_type": "execute_result"
    }
   ],
   "source": [
    "df.groupby(['c1','c2'])[['c4']].mean()"
   ]
  },
  {
   "cell_type": "code",
   "execution_count": 262,
   "metadata": {
    "id": "gqqcpQx6XFPD"
   },
   "outputs": [
    {
     "data": {
      "text/plain": [
       "c1\n",
       "a    1.0\n",
       "b    1.0\n",
       "c    1.0\n",
       "d    1.0\n",
       "Name: c3, dtype: float64"
      ]
     },
     "execution_count": 262,
     "metadata": {},
     "output_type": "execute_result"
    }
   ],
   "source": [
    "df.groupby('c1')['c3'].quantile()"
   ]
  },
  {
   "cell_type": "code",
   "execution_count": 263,
   "metadata": {
    "id": "d7gVpUPyYgKO"
   },
   "outputs": [
    {
     "data": {
      "text/plain": [
       "c1\n",
       "a    2\n",
       "b    3\n",
       "c    1\n",
       "d    1\n",
       "Name: c3, dtype: int64"
      ]
     },
     "execution_count": 263,
     "metadata": {},
     "output_type": "execute_result"
    }
   ],
   "source": [
    "df.groupby('c1')['c3'].count()"
   ]
  },
  {
   "cell_type": "code",
   "execution_count": 264,
   "metadata": {
    "id": "mS0V6sfQZyQv"
   },
   "outputs": [
    {
     "data": {
      "text/plain": [
       "c1\n",
       "a    0.720502\n",
       "b    0.307875\n",
       "c    0.405133\n",
       "d    0.694604\n",
       "Name: c4, dtype: float64"
      ]
     },
     "execution_count": 264,
     "metadata": {},
     "output_type": "execute_result"
    }
   ],
   "source": [
    "df.groupby('c1')['c4'].median()"
   ]
  },
  {
   "cell_type": "code",
   "execution_count": 265,
   "metadata": {
    "id": "bEv1Yx3dZ2kO"
   },
   "outputs": [
    {
     "data": {
      "text/plain": [
       "c1\n",
       "a    0.0\n",
       "b    0.0\n",
       "c    NaN\n",
       "d    NaN\n",
       "Name: c3, dtype: float64"
      ]
     },
     "execution_count": 265,
     "metadata": {},
     "output_type": "execute_result"
    }
   ],
   "source": [
    "df.groupby('c1')['c3'].std()"
   ]
  },
  {
   "cell_type": "code",
   "execution_count": 266,
   "metadata": {
    "id": "jsZefMocZ58d"
   },
   "outputs": [
    {
     "data": {
      "text/html": [
       "<div>\n",
       "<style scoped>\n",
       "    .dataframe tbody tr th:only-of-type {\n",
       "        vertical-align: middle;\n",
       "    }\n",
       "\n",
       "    .dataframe tbody tr th {\n",
       "        vertical-align: top;\n",
       "    }\n",
       "\n",
       "    .dataframe thead th {\n",
       "        text-align: right;\n",
       "    }\n",
       "</style>\n",
       "<table border=\"1\" class=\"dataframe\">\n",
       "  <thead>\n",
       "    <tr style=\"text-align: right;\">\n",
       "      <th></th>\n",
       "      <th></th>\n",
       "      <th>mean</th>\n",
       "      <th>min</th>\n",
       "      <th>max</th>\n",
       "    </tr>\n",
       "    <tr>\n",
       "      <th>c1</th>\n",
       "      <th>c2</th>\n",
       "      <th></th>\n",
       "      <th></th>\n",
       "      <th></th>\n",
       "    </tr>\n",
       "  </thead>\n",
       "  <tbody>\n",
       "    <tr>\n",
       "      <th rowspan=\"2\" valign=\"top\">a</th>\n",
       "      <th>A</th>\n",
       "      <td>0.900004</td>\n",
       "      <td>0.900004</td>\n",
       "      <td>0.900004</td>\n",
       "    </tr>\n",
       "    <tr>\n",
       "      <th>B</th>\n",
       "      <td>0.541000</td>\n",
       "      <td>0.541000</td>\n",
       "      <td>0.541000</td>\n",
       "    </tr>\n",
       "    <tr>\n",
       "      <th rowspan=\"3\" valign=\"top\">b</th>\n",
       "      <th>A</th>\n",
       "      <td>0.765344</td>\n",
       "      <td>0.765344</td>\n",
       "      <td>0.765344</td>\n",
       "    </tr>\n",
       "    <tr>\n",
       "      <th>B</th>\n",
       "      <td>0.175652</td>\n",
       "      <td>0.175652</td>\n",
       "      <td>0.175652</td>\n",
       "    </tr>\n",
       "    <tr>\n",
       "      <th>C</th>\n",
       "      <td>0.307875</td>\n",
       "      <td>0.307875</td>\n",
       "      <td>0.307875</td>\n",
       "    </tr>\n",
       "    <tr>\n",
       "      <th>c</th>\n",
       "      <th>D</th>\n",
       "      <td>0.405133</td>\n",
       "      <td>0.405133</td>\n",
       "      <td>0.405133</td>\n",
       "    </tr>\n",
       "    <tr>\n",
       "      <th>d</th>\n",
       "      <th>C</th>\n",
       "      <td>0.694604</td>\n",
       "      <td>0.694604</td>\n",
       "      <td>0.694604</td>\n",
       "    </tr>\n",
       "  </tbody>\n",
       "</table>\n",
       "</div>"
      ],
      "text/plain": [
       "           mean       min       max\n",
       "c1 c2                              \n",
       "a  A   0.900004  0.900004  0.900004\n",
       "   B   0.541000  0.541000  0.541000\n",
       "b  A   0.765344  0.765344  0.765344\n",
       "   B   0.175652  0.175652  0.175652\n",
       "   C   0.307875  0.307875  0.307875\n",
       "c  D   0.405133  0.405133  0.405133\n",
       "d  C   0.694604  0.694604  0.694604"
      ]
     },
     "execution_count": 266,
     "metadata": {},
     "output_type": "execute_result"
    }
   ],
   "source": [
    "df.groupby(['c1','c2'])['c4'].agg(['mean','min','max'])"
   ]
  },
  {
   "cell_type": "code",
   "execution_count": 267,
   "metadata": {
    "id": "zDCS1WJUalpC"
   },
   "outputs": [
    {
     "data": {
      "text/html": [
       "<div>\n",
       "<style scoped>\n",
       "    .dataframe tbody tr th:only-of-type {\n",
       "        vertical-align: middle;\n",
       "    }\n",
       "\n",
       "    .dataframe tbody tr th {\n",
       "        vertical-align: top;\n",
       "    }\n",
       "\n",
       "    .dataframe thead th {\n",
       "        text-align: right;\n",
       "    }\n",
       "</style>\n",
       "<table border=\"1\" class=\"dataframe\">\n",
       "  <thead>\n",
       "    <tr style=\"text-align: right;\">\n",
       "      <th></th>\n",
       "      <th>c1</th>\n",
       "      <th>c2</th>\n",
       "      <th>c4</th>\n",
       "    </tr>\n",
       "  </thead>\n",
       "  <tbody>\n",
       "    <tr>\n",
       "      <th>0</th>\n",
       "      <td>a</td>\n",
       "      <td>A</td>\n",
       "      <td>0.900004</td>\n",
       "    </tr>\n",
       "    <tr>\n",
       "      <th>1</th>\n",
       "      <td>a</td>\n",
       "      <td>B</td>\n",
       "      <td>0.541000</td>\n",
       "    </tr>\n",
       "    <tr>\n",
       "      <th>2</th>\n",
       "      <td>b</td>\n",
       "      <td>A</td>\n",
       "      <td>0.765344</td>\n",
       "    </tr>\n",
       "    <tr>\n",
       "      <th>3</th>\n",
       "      <td>b</td>\n",
       "      <td>B</td>\n",
       "      <td>0.175652</td>\n",
       "    </tr>\n",
       "    <tr>\n",
       "      <th>4</th>\n",
       "      <td>b</td>\n",
       "      <td>C</td>\n",
       "      <td>0.307875</td>\n",
       "    </tr>\n",
       "    <tr>\n",
       "      <th>5</th>\n",
       "      <td>c</td>\n",
       "      <td>D</td>\n",
       "      <td>0.405133</td>\n",
       "    </tr>\n",
       "    <tr>\n",
       "      <th>6</th>\n",
       "      <td>d</td>\n",
       "      <td>C</td>\n",
       "      <td>0.694604</td>\n",
       "    </tr>\n",
       "  </tbody>\n",
       "</table>\n",
       "</div>"
      ],
      "text/plain": [
       "  c1 c2        c4\n",
       "0  a  A  0.900004\n",
       "1  a  B  0.541000\n",
       "2  b  A  0.765344\n",
       "3  b  B  0.175652\n",
       "4  b  C  0.307875\n",
       "5  c  D  0.405133\n",
       "6  d  C  0.694604"
      ]
     },
     "execution_count": 267,
     "metadata": {},
     "output_type": "execute_result"
    }
   ],
   "source": [
    "df.groupby(['c1','c2'], as_index=False)['c4'].mean()"
   ]
  },
  {
   "cell_type": "code",
   "execution_count": 268,
   "metadata": {
    "id": "b8GgSFhgbrGu"
   },
   "outputs": [
    {
     "data": {
      "text/plain": [
       "c1  c2\n",
       "a   A     0.900004\n",
       "    B     0.541000\n",
       "b   A     0.765344\n",
       "    B     0.175652\n",
       "    C     0.307875\n",
       "c   D     0.405133\n",
       "d   C     0.694604\n",
       "Name: c4, dtype: float64"
      ]
     },
     "execution_count": 268,
     "metadata": {},
     "output_type": "execute_result"
    }
   ],
   "source": [
    "df.groupby(['c1','c2'], group_keys=False)['c4'].mean()"
   ]
  },
  {
   "cell_type": "code",
   "execution_count": 269,
   "metadata": {
    "id": "-sBX539zduqJ"
   },
   "outputs": [
    {
     "data": {
      "text/html": [
       "<div>\n",
       "<style scoped>\n",
       "    .dataframe tbody tr th:only-of-type {\n",
       "        vertical-align: middle;\n",
       "    }\n",
       "\n",
       "    .dataframe tbody tr th {\n",
       "        vertical-align: top;\n",
       "    }\n",
       "\n",
       "    .dataframe thead th {\n",
       "        text-align: right;\n",
       "    }\n",
       "</style>\n",
       "<table border=\"1\" class=\"dataframe\">\n",
       "  <thead>\n",
       "    <tr style=\"text-align: right;\">\n",
       "      <th></th>\n",
       "      <th>c1</th>\n",
       "      <th>c2</th>\n",
       "      <th>c3</th>\n",
       "      <th>c4</th>\n",
       "    </tr>\n",
       "  </thead>\n",
       "  <tbody>\n",
       "    <tr>\n",
       "      <th>2</th>\n",
       "      <td>b</td>\n",
       "      <td>B</td>\n",
       "      <td>1</td>\n",
       "      <td>0.175652</td>\n",
       "    </tr>\n",
       "    <tr>\n",
       "      <th>3</th>\n",
       "      <td>b</td>\n",
       "      <td>A</td>\n",
       "      <td>1</td>\n",
       "      <td>0.765344</td>\n",
       "    </tr>\n",
       "    <tr>\n",
       "      <th>6</th>\n",
       "      <td>b</td>\n",
       "      <td>C</td>\n",
       "      <td>1</td>\n",
       "      <td>0.307875</td>\n",
       "    </tr>\n",
       "    <tr>\n",
       "      <th>4</th>\n",
       "      <td>c</td>\n",
       "      <td>D</td>\n",
       "      <td>1</td>\n",
       "      <td>0.405133</td>\n",
       "    </tr>\n",
       "    <tr>\n",
       "      <th>5</th>\n",
       "      <td>d</td>\n",
       "      <td>C</td>\n",
       "      <td>1</td>\n",
       "      <td>0.694604</td>\n",
       "    </tr>\n",
       "  </tbody>\n",
       "</table>\n",
       "</div>"
      ],
      "text/plain": [
       "  c1 c2  c3        c4\n",
       "2  b  B   1  0.175652\n",
       "3  b  A   1  0.765344\n",
       "6  b  C   1  0.307875\n",
       "4  c  D   1  0.405133\n",
       "5  d  C   1  0.694604"
      ]
     },
     "execution_count": 269,
     "metadata": {},
     "output_type": "execute_result"
    }
   ],
   "source": [
    "def top(df, n=3, columns='c1'):\n",
    "    return df.sort_values(by=columns)[-n:]\n",
    "\n",
    "top(df,n=5)"
   ]
  },
  {
   "cell_type": "code",
   "execution_count": 270,
   "metadata": {
    "id": "ijUek7SAd3DR"
   },
   "outputs": [
    {
     "data": {
      "text/html": [
       "<div>\n",
       "<style scoped>\n",
       "    .dataframe tbody tr th:only-of-type {\n",
       "        vertical-align: middle;\n",
       "    }\n",
       "\n",
       "    .dataframe tbody tr th {\n",
       "        vertical-align: top;\n",
       "    }\n",
       "\n",
       "    .dataframe thead th {\n",
       "        text-align: right;\n",
       "    }\n",
       "</style>\n",
       "<table border=\"1\" class=\"dataframe\">\n",
       "  <thead>\n",
       "    <tr style=\"text-align: right;\">\n",
       "      <th></th>\n",
       "      <th></th>\n",
       "      <th>c1</th>\n",
       "      <th>c2</th>\n",
       "      <th>c3</th>\n",
       "      <th>c4</th>\n",
       "    </tr>\n",
       "    <tr>\n",
       "      <th>c1</th>\n",
       "      <th></th>\n",
       "      <th></th>\n",
       "      <th></th>\n",
       "      <th></th>\n",
       "      <th></th>\n",
       "    </tr>\n",
       "  </thead>\n",
       "  <tbody>\n",
       "    <tr>\n",
       "      <th rowspan=\"2\" valign=\"top\">a</th>\n",
       "      <th>0</th>\n",
       "      <td>a</td>\n",
       "      <td>A</td>\n",
       "      <td>1</td>\n",
       "      <td>0.900004</td>\n",
       "    </tr>\n",
       "    <tr>\n",
       "      <th>1</th>\n",
       "      <td>a</td>\n",
       "      <td>B</td>\n",
       "      <td>1</td>\n",
       "      <td>0.541000</td>\n",
       "    </tr>\n",
       "    <tr>\n",
       "      <th rowspan=\"3\" valign=\"top\">b</th>\n",
       "      <th>2</th>\n",
       "      <td>b</td>\n",
       "      <td>B</td>\n",
       "      <td>1</td>\n",
       "      <td>0.175652</td>\n",
       "    </tr>\n",
       "    <tr>\n",
       "      <th>3</th>\n",
       "      <td>b</td>\n",
       "      <td>A</td>\n",
       "      <td>1</td>\n",
       "      <td>0.765344</td>\n",
       "    </tr>\n",
       "    <tr>\n",
       "      <th>6</th>\n",
       "      <td>b</td>\n",
       "      <td>C</td>\n",
       "      <td>1</td>\n",
       "      <td>0.307875</td>\n",
       "    </tr>\n",
       "    <tr>\n",
       "      <th>c</th>\n",
       "      <th>4</th>\n",
       "      <td>c</td>\n",
       "      <td>D</td>\n",
       "      <td>1</td>\n",
       "      <td>0.405133</td>\n",
       "    </tr>\n",
       "    <tr>\n",
       "      <th>d</th>\n",
       "      <th>5</th>\n",
       "      <td>d</td>\n",
       "      <td>C</td>\n",
       "      <td>1</td>\n",
       "      <td>0.694604</td>\n",
       "    </tr>\n",
       "  </tbody>\n",
       "</table>\n",
       "</div>"
      ],
      "text/plain": [
       "     c1 c2  c3        c4\n",
       "c1                      \n",
       "a  0  a  A   1  0.900004\n",
       "   1  a  B   1  0.541000\n",
       "b  2  b  B   1  0.175652\n",
       "   3  b  A   1  0.765344\n",
       "   6  b  C   1  0.307875\n",
       "c  4  c  D   1  0.405133\n",
       "d  5  d  C   1  0.694604"
      ]
     },
     "execution_count": 270,
     "metadata": {},
     "output_type": "execute_result"
    }
   ],
   "source": [
    "df.groupby('c1').apply(top)"
   ]
  },
  {
   "cell_type": "markdown",
   "metadata": {
    "id": "VS9PZhnt2_h8"
   },
   "source": [
    "### 피벗 테이블(Pivot Table)\n"
   ]
  },
  {
   "cell_type": "code",
   "execution_count": 279,
   "metadata": {},
   "outputs": [
    {
     "data": {
      "text/html": [
       "<div>\n",
       "<style scoped>\n",
       "    .dataframe tbody tr th:only-of-type {\n",
       "        vertical-align: middle;\n",
       "    }\n",
       "\n",
       "    .dataframe tbody tr th {\n",
       "        vertical-align: top;\n",
       "    }\n",
       "\n",
       "    .dataframe thead th {\n",
       "        text-align: right;\n",
       "    }\n",
       "</style>\n",
       "<table border=\"1\" class=\"dataframe\">\n",
       "  <thead>\n",
       "    <tr style=\"text-align: right;\">\n",
       "      <th></th>\n",
       "      <th>c1</th>\n",
       "      <th>c2</th>\n",
       "      <th>c3</th>\n",
       "      <th>c4</th>\n",
       "    </tr>\n",
       "  </thead>\n",
       "  <tbody>\n",
       "    <tr>\n",
       "      <th>0</th>\n",
       "      <td>a</td>\n",
       "      <td>A</td>\n",
       "      <td>1</td>\n",
       "      <td>0.900004</td>\n",
       "    </tr>\n",
       "    <tr>\n",
       "      <th>1</th>\n",
       "      <td>a</td>\n",
       "      <td>B</td>\n",
       "      <td>1</td>\n",
       "      <td>0.541000</td>\n",
       "    </tr>\n",
       "    <tr>\n",
       "      <th>2</th>\n",
       "      <td>b</td>\n",
       "      <td>B</td>\n",
       "      <td>1</td>\n",
       "      <td>0.175652</td>\n",
       "    </tr>\n",
       "    <tr>\n",
       "      <th>3</th>\n",
       "      <td>b</td>\n",
       "      <td>A</td>\n",
       "      <td>1</td>\n",
       "      <td>0.765344</td>\n",
       "    </tr>\n",
       "    <tr>\n",
       "      <th>4</th>\n",
       "      <td>c</td>\n",
       "      <td>D</td>\n",
       "      <td>1</td>\n",
       "      <td>0.405133</td>\n",
       "    </tr>\n",
       "    <tr>\n",
       "      <th>5</th>\n",
       "      <td>d</td>\n",
       "      <td>C</td>\n",
       "      <td>1</td>\n",
       "      <td>0.694604</td>\n",
       "    </tr>\n",
       "    <tr>\n",
       "      <th>6</th>\n",
       "      <td>b</td>\n",
       "      <td>C</td>\n",
       "      <td>1</td>\n",
       "      <td>0.307875</td>\n",
       "    </tr>\n",
       "  </tbody>\n",
       "</table>\n",
       "</div>"
      ],
      "text/plain": [
       "  c1 c2  c3        c4\n",
       "0  a  A   1  0.900004\n",
       "1  a  B   1  0.541000\n",
       "2  b  B   1  0.175652\n",
       "3  b  A   1  0.765344\n",
       "4  c  D   1  0.405133\n",
       "5  d  C   1  0.694604\n",
       "6  b  C   1  0.307875"
      ]
     },
     "execution_count": 279,
     "metadata": {},
     "output_type": "execute_result"
    }
   ],
   "source": [
    "df"
   ]
  },
  {
   "cell_type": "code",
   "execution_count": 271,
   "metadata": {
    "id": "hBXmgzUzeflH"
   },
   "outputs": [
    {
     "data": {
      "text/html": [
       "<div>\n",
       "<style scoped>\n",
       "    .dataframe tbody tr th:only-of-type {\n",
       "        vertical-align: middle;\n",
       "    }\n",
       "\n",
       "    .dataframe tbody tr th {\n",
       "        vertical-align: top;\n",
       "    }\n",
       "\n",
       "    .dataframe thead tr th {\n",
       "        text-align: left;\n",
       "    }\n",
       "\n",
       "    .dataframe thead tr:last-of-type th {\n",
       "        text-align: right;\n",
       "    }\n",
       "</style>\n",
       "<table border=\"1\" class=\"dataframe\">\n",
       "  <thead>\n",
       "    <tr>\n",
       "      <th></th>\n",
       "      <th colspan=\"4\" halign=\"left\">c3</th>\n",
       "      <th colspan=\"4\" halign=\"left\">c4</th>\n",
       "    </tr>\n",
       "    <tr>\n",
       "      <th>c2</th>\n",
       "      <th>A</th>\n",
       "      <th>B</th>\n",
       "      <th>C</th>\n",
       "      <th>D</th>\n",
       "      <th>A</th>\n",
       "      <th>B</th>\n",
       "      <th>C</th>\n",
       "      <th>D</th>\n",
       "    </tr>\n",
       "    <tr>\n",
       "      <th>c1</th>\n",
       "      <th></th>\n",
       "      <th></th>\n",
       "      <th></th>\n",
       "      <th></th>\n",
       "      <th></th>\n",
       "      <th></th>\n",
       "      <th></th>\n",
       "      <th></th>\n",
       "    </tr>\n",
       "  </thead>\n",
       "  <tbody>\n",
       "    <tr>\n",
       "      <th>a</th>\n",
       "      <td>1.0</td>\n",
       "      <td>1.0</td>\n",
       "      <td>NaN</td>\n",
       "      <td>NaN</td>\n",
       "      <td>0.900004</td>\n",
       "      <td>0.541000</td>\n",
       "      <td>NaN</td>\n",
       "      <td>NaN</td>\n",
       "    </tr>\n",
       "    <tr>\n",
       "      <th>b</th>\n",
       "      <td>1.0</td>\n",
       "      <td>1.0</td>\n",
       "      <td>1.0</td>\n",
       "      <td>NaN</td>\n",
       "      <td>0.765344</td>\n",
       "      <td>0.175652</td>\n",
       "      <td>0.307875</td>\n",
       "      <td>NaN</td>\n",
       "    </tr>\n",
       "    <tr>\n",
       "      <th>c</th>\n",
       "      <td>NaN</td>\n",
       "      <td>NaN</td>\n",
       "      <td>NaN</td>\n",
       "      <td>1.0</td>\n",
       "      <td>NaN</td>\n",
       "      <td>NaN</td>\n",
       "      <td>NaN</td>\n",
       "      <td>0.405133</td>\n",
       "    </tr>\n",
       "    <tr>\n",
       "      <th>d</th>\n",
       "      <td>NaN</td>\n",
       "      <td>NaN</td>\n",
       "      <td>1.0</td>\n",
       "      <td>NaN</td>\n",
       "      <td>NaN</td>\n",
       "      <td>NaN</td>\n",
       "      <td>0.694604</td>\n",
       "      <td>NaN</td>\n",
       "    </tr>\n",
       "  </tbody>\n",
       "</table>\n",
       "</div>"
      ],
      "text/plain": [
       "     c3                       c4                              \n",
       "c2    A    B    C    D         A         B         C         D\n",
       "c1                                                            \n",
       "a   1.0  1.0  NaN  NaN  0.900004  0.541000       NaN       NaN\n",
       "b   1.0  1.0  1.0  NaN  0.765344  0.175652  0.307875       NaN\n",
       "c   NaN  NaN  NaN  1.0       NaN       NaN       NaN  0.405133\n",
       "d   NaN  NaN  1.0  NaN       NaN       NaN  0.694604       NaN"
      ]
     },
     "execution_count": 271,
     "metadata": {},
     "output_type": "execute_result"
    }
   ],
   "source": [
    "df.pivot_table(['c3','c4'],\n",
    "              index=['c1'],\n",
    "              columns=['c2'])"
   ]
  },
  {
   "cell_type": "code",
   "execution_count": 272,
   "metadata": {
    "id": "voeul-pxfOb3"
   },
   "outputs": [
    {
     "data": {
      "text/html": [
       "<div>\n",
       "<style scoped>\n",
       "    .dataframe tbody tr th:only-of-type {\n",
       "        vertical-align: middle;\n",
       "    }\n",
       "\n",
       "    .dataframe tbody tr th {\n",
       "        vertical-align: top;\n",
       "    }\n",
       "\n",
       "    .dataframe thead tr th {\n",
       "        text-align: left;\n",
       "    }\n",
       "\n",
       "    .dataframe thead tr:last-of-type th {\n",
       "        text-align: right;\n",
       "    }\n",
       "</style>\n",
       "<table border=\"1\" class=\"dataframe\">\n",
       "  <thead>\n",
       "    <tr>\n",
       "      <th></th>\n",
       "      <th colspan=\"5\" halign=\"left\">c3</th>\n",
       "      <th colspan=\"5\" halign=\"left\">c4</th>\n",
       "    </tr>\n",
       "    <tr>\n",
       "      <th>c2</th>\n",
       "      <th>A</th>\n",
       "      <th>B</th>\n",
       "      <th>C</th>\n",
       "      <th>D</th>\n",
       "      <th>All</th>\n",
       "      <th>A</th>\n",
       "      <th>B</th>\n",
       "      <th>C</th>\n",
       "      <th>D</th>\n",
       "      <th>All</th>\n",
       "    </tr>\n",
       "    <tr>\n",
       "      <th>c1</th>\n",
       "      <th></th>\n",
       "      <th></th>\n",
       "      <th></th>\n",
       "      <th></th>\n",
       "      <th></th>\n",
       "      <th></th>\n",
       "      <th></th>\n",
       "      <th></th>\n",
       "      <th></th>\n",
       "      <th></th>\n",
       "    </tr>\n",
       "  </thead>\n",
       "  <tbody>\n",
       "    <tr>\n",
       "      <th>a</th>\n",
       "      <td>1.0</td>\n",
       "      <td>1.0</td>\n",
       "      <td>NaN</td>\n",
       "      <td>NaN</td>\n",
       "      <td>1.0</td>\n",
       "      <td>0.900004</td>\n",
       "      <td>0.541000</td>\n",
       "      <td>NaN</td>\n",
       "      <td>NaN</td>\n",
       "      <td>0.720502</td>\n",
       "    </tr>\n",
       "    <tr>\n",
       "      <th>b</th>\n",
       "      <td>1.0</td>\n",
       "      <td>1.0</td>\n",
       "      <td>1.0</td>\n",
       "      <td>NaN</td>\n",
       "      <td>1.0</td>\n",
       "      <td>0.765344</td>\n",
       "      <td>0.175652</td>\n",
       "      <td>0.307875</td>\n",
       "      <td>NaN</td>\n",
       "      <td>0.416290</td>\n",
       "    </tr>\n",
       "    <tr>\n",
       "      <th>c</th>\n",
       "      <td>NaN</td>\n",
       "      <td>NaN</td>\n",
       "      <td>NaN</td>\n",
       "      <td>1.0</td>\n",
       "      <td>1.0</td>\n",
       "      <td>NaN</td>\n",
       "      <td>NaN</td>\n",
       "      <td>NaN</td>\n",
       "      <td>0.405133</td>\n",
       "      <td>0.405133</td>\n",
       "    </tr>\n",
       "    <tr>\n",
       "      <th>d</th>\n",
       "      <td>NaN</td>\n",
       "      <td>NaN</td>\n",
       "      <td>1.0</td>\n",
       "      <td>NaN</td>\n",
       "      <td>1.0</td>\n",
       "      <td>NaN</td>\n",
       "      <td>NaN</td>\n",
       "      <td>0.694604</td>\n",
       "      <td>NaN</td>\n",
       "      <td>0.694604</td>\n",
       "    </tr>\n",
       "    <tr>\n",
       "      <th>All</th>\n",
       "      <td>1.0</td>\n",
       "      <td>1.0</td>\n",
       "      <td>1.0</td>\n",
       "      <td>1.0</td>\n",
       "      <td>1.0</td>\n",
       "      <td>0.832674</td>\n",
       "      <td>0.358326</td>\n",
       "      <td>0.501240</td>\n",
       "      <td>0.405133</td>\n",
       "      <td>0.541373</td>\n",
       "    </tr>\n",
       "  </tbody>\n",
       "</table>\n",
       "</div>"
      ],
      "text/plain": [
       "      c3                            c4                                        \n",
       "c2     A    B    C    D  All         A         B         C         D       All\n",
       "c1                                                                            \n",
       "a    1.0  1.0  NaN  NaN  1.0  0.900004  0.541000       NaN       NaN  0.720502\n",
       "b    1.0  1.0  1.0  NaN  1.0  0.765344  0.175652  0.307875       NaN  0.416290\n",
       "c    NaN  NaN  NaN  1.0  1.0       NaN       NaN       NaN  0.405133  0.405133\n",
       "d    NaN  NaN  1.0  NaN  1.0       NaN       NaN  0.694604       NaN  0.694604\n",
       "All  1.0  1.0  1.0  1.0  1.0  0.832674  0.358326  0.501240  0.405133  0.541373"
      ]
     },
     "execution_count": 272,
     "metadata": {},
     "output_type": "execute_result"
    }
   ],
   "source": [
    "df.pivot_table(['c3','c4'],\n",
    "              index=['c1'],\n",
    "              columns=['c2'],\n",
    "              margins=True)"
   ]
  },
  {
   "cell_type": "code",
   "execution_count": 273,
   "metadata": {
    "id": "VCusVjzqfXRb"
   },
   "outputs": [
    {
     "data": {
      "text/html": [
       "<div>\n",
       "<style scoped>\n",
       "    .dataframe tbody tr th:only-of-type {\n",
       "        vertical-align: middle;\n",
       "    }\n",
       "\n",
       "    .dataframe tbody tr th {\n",
       "        vertical-align: top;\n",
       "    }\n",
       "\n",
       "    .dataframe thead tr th {\n",
       "        text-align: left;\n",
       "    }\n",
       "\n",
       "    .dataframe thead tr:last-of-type th {\n",
       "        text-align: right;\n",
       "    }\n",
       "</style>\n",
       "<table border=\"1\" class=\"dataframe\">\n",
       "  <thead>\n",
       "    <tr>\n",
       "      <th></th>\n",
       "      <th colspan=\"5\" halign=\"left\">c3</th>\n",
       "      <th colspan=\"5\" halign=\"left\">c4</th>\n",
       "    </tr>\n",
       "    <tr>\n",
       "      <th>c2</th>\n",
       "      <th>A</th>\n",
       "      <th>B</th>\n",
       "      <th>C</th>\n",
       "      <th>D</th>\n",
       "      <th>All</th>\n",
       "      <th>A</th>\n",
       "      <th>B</th>\n",
       "      <th>C</th>\n",
       "      <th>D</th>\n",
       "      <th>All</th>\n",
       "    </tr>\n",
       "    <tr>\n",
       "      <th>c1</th>\n",
       "      <th></th>\n",
       "      <th></th>\n",
       "      <th></th>\n",
       "      <th></th>\n",
       "      <th></th>\n",
       "      <th></th>\n",
       "      <th></th>\n",
       "      <th></th>\n",
       "      <th></th>\n",
       "      <th></th>\n",
       "    </tr>\n",
       "  </thead>\n",
       "  <tbody>\n",
       "    <tr>\n",
       "      <th>a</th>\n",
       "      <td>1.0</td>\n",
       "      <td>1.0</td>\n",
       "      <td>NaN</td>\n",
       "      <td>NaN</td>\n",
       "      <td>2</td>\n",
       "      <td>0.900004</td>\n",
       "      <td>0.541000</td>\n",
       "      <td>NaN</td>\n",
       "      <td>NaN</td>\n",
       "      <td>1.441004</td>\n",
       "    </tr>\n",
       "    <tr>\n",
       "      <th>b</th>\n",
       "      <td>1.0</td>\n",
       "      <td>1.0</td>\n",
       "      <td>1.0</td>\n",
       "      <td>NaN</td>\n",
       "      <td>3</td>\n",
       "      <td>0.765344</td>\n",
       "      <td>0.175652</td>\n",
       "      <td>0.307875</td>\n",
       "      <td>NaN</td>\n",
       "      <td>1.248871</td>\n",
       "    </tr>\n",
       "    <tr>\n",
       "      <th>c</th>\n",
       "      <td>NaN</td>\n",
       "      <td>NaN</td>\n",
       "      <td>NaN</td>\n",
       "      <td>1.0</td>\n",
       "      <td>1</td>\n",
       "      <td>NaN</td>\n",
       "      <td>NaN</td>\n",
       "      <td>NaN</td>\n",
       "      <td>0.405133</td>\n",
       "      <td>0.405133</td>\n",
       "    </tr>\n",
       "    <tr>\n",
       "      <th>d</th>\n",
       "      <td>NaN</td>\n",
       "      <td>NaN</td>\n",
       "      <td>1.0</td>\n",
       "      <td>NaN</td>\n",
       "      <td>1</td>\n",
       "      <td>NaN</td>\n",
       "      <td>NaN</td>\n",
       "      <td>0.694604</td>\n",
       "      <td>NaN</td>\n",
       "      <td>0.694604</td>\n",
       "    </tr>\n",
       "    <tr>\n",
       "      <th>All</th>\n",
       "      <td>2.0</td>\n",
       "      <td>2.0</td>\n",
       "      <td>2.0</td>\n",
       "      <td>1.0</td>\n",
       "      <td>7</td>\n",
       "      <td>1.665348</td>\n",
       "      <td>0.716652</td>\n",
       "      <td>1.002480</td>\n",
       "      <td>0.405133</td>\n",
       "      <td>3.789613</td>\n",
       "    </tr>\n",
       "  </tbody>\n",
       "</table>\n",
       "</div>"
      ],
      "text/plain": [
       "      c3                           c4                                        \n",
       "c2     A    B    C    D All         A         B         C         D       All\n",
       "c1                                                                           \n",
       "a    1.0  1.0  NaN  NaN   2  0.900004  0.541000       NaN       NaN  1.441004\n",
       "b    1.0  1.0  1.0  NaN   3  0.765344  0.175652  0.307875       NaN  1.248871\n",
       "c    NaN  NaN  NaN  1.0   1       NaN       NaN       NaN  0.405133  0.405133\n",
       "d    NaN  NaN  1.0  NaN   1       NaN       NaN  0.694604       NaN  0.694604\n",
       "All  2.0  2.0  2.0  1.0   7  1.665348  0.716652  1.002480  0.405133  3.789613"
      ]
     },
     "execution_count": 273,
     "metadata": {},
     "output_type": "execute_result"
    }
   ],
   "source": [
    "df.pivot_table(['c3','c4'],\n",
    "              index=['c1'],\n",
    "              columns=['c2'],\n",
    "              margins=True,\n",
    "              aggfunc=sum)\n",
    "\n"
   ]
  },
  {
   "cell_type": "code",
   "execution_count": 274,
   "metadata": {
    "id": "OaUu1cdEgO6f"
   },
   "outputs": [
    {
     "data": {
      "text/html": [
       "<div>\n",
       "<style scoped>\n",
       "    .dataframe tbody tr th:only-of-type {\n",
       "        vertical-align: middle;\n",
       "    }\n",
       "\n",
       "    .dataframe tbody tr th {\n",
       "        vertical-align: top;\n",
       "    }\n",
       "\n",
       "    .dataframe thead tr th {\n",
       "        text-align: left;\n",
       "    }\n",
       "\n",
       "    .dataframe thead tr:last-of-type th {\n",
       "        text-align: right;\n",
       "    }\n",
       "</style>\n",
       "<table border=\"1\" class=\"dataframe\">\n",
       "  <thead>\n",
       "    <tr>\n",
       "      <th></th>\n",
       "      <th colspan=\"5\" halign=\"left\">c3</th>\n",
       "      <th colspan=\"5\" halign=\"left\">c4</th>\n",
       "    </tr>\n",
       "    <tr>\n",
       "      <th>c2</th>\n",
       "      <th>A</th>\n",
       "      <th>B</th>\n",
       "      <th>C</th>\n",
       "      <th>D</th>\n",
       "      <th>All</th>\n",
       "      <th>A</th>\n",
       "      <th>B</th>\n",
       "      <th>C</th>\n",
       "      <th>D</th>\n",
       "      <th>All</th>\n",
       "    </tr>\n",
       "    <tr>\n",
       "      <th>c1</th>\n",
       "      <th></th>\n",
       "      <th></th>\n",
       "      <th></th>\n",
       "      <th></th>\n",
       "      <th></th>\n",
       "      <th></th>\n",
       "      <th></th>\n",
       "      <th></th>\n",
       "      <th></th>\n",
       "      <th></th>\n",
       "    </tr>\n",
       "  </thead>\n",
       "  <tbody>\n",
       "    <tr>\n",
       "      <th>a</th>\n",
       "      <td>1</td>\n",
       "      <td>1</td>\n",
       "      <td>0</td>\n",
       "      <td>0</td>\n",
       "      <td>2</td>\n",
       "      <td>0.900004</td>\n",
       "      <td>0.541000</td>\n",
       "      <td>0.000000</td>\n",
       "      <td>0.000000</td>\n",
       "      <td>1.441004</td>\n",
       "    </tr>\n",
       "    <tr>\n",
       "      <th>b</th>\n",
       "      <td>1</td>\n",
       "      <td>1</td>\n",
       "      <td>1</td>\n",
       "      <td>0</td>\n",
       "      <td>3</td>\n",
       "      <td>0.765344</td>\n",
       "      <td>0.175652</td>\n",
       "      <td>0.307875</td>\n",
       "      <td>0.000000</td>\n",
       "      <td>1.248871</td>\n",
       "    </tr>\n",
       "    <tr>\n",
       "      <th>c</th>\n",
       "      <td>0</td>\n",
       "      <td>0</td>\n",
       "      <td>0</td>\n",
       "      <td>1</td>\n",
       "      <td>1</td>\n",
       "      <td>0.000000</td>\n",
       "      <td>0.000000</td>\n",
       "      <td>0.000000</td>\n",
       "      <td>0.405133</td>\n",
       "      <td>0.405133</td>\n",
       "    </tr>\n",
       "    <tr>\n",
       "      <th>d</th>\n",
       "      <td>0</td>\n",
       "      <td>0</td>\n",
       "      <td>1</td>\n",
       "      <td>0</td>\n",
       "      <td>1</td>\n",
       "      <td>0.000000</td>\n",
       "      <td>0.000000</td>\n",
       "      <td>0.694604</td>\n",
       "      <td>0.000000</td>\n",
       "      <td>0.694604</td>\n",
       "    </tr>\n",
       "    <tr>\n",
       "      <th>All</th>\n",
       "      <td>2</td>\n",
       "      <td>2</td>\n",
       "      <td>2</td>\n",
       "      <td>1</td>\n",
       "      <td>7</td>\n",
       "      <td>1.665348</td>\n",
       "      <td>0.716652</td>\n",
       "      <td>1.002480</td>\n",
       "      <td>0.405133</td>\n",
       "      <td>3.789613</td>\n",
       "    </tr>\n",
       "  </tbody>\n",
       "</table>\n",
       "</div>"
      ],
      "text/plain": [
       "    c3                     c4                                        \n",
       "c2   A  B  C  D All         A         B         C         D       All\n",
       "c1                                                                   \n",
       "a    1  1  0  0   2  0.900004  0.541000  0.000000  0.000000  1.441004\n",
       "b    1  1  1  0   3  0.765344  0.175652  0.307875  0.000000  1.248871\n",
       "c    0  0  0  1   1  0.000000  0.000000  0.000000  0.405133  0.405133\n",
       "d    0  0  1  0   1  0.000000  0.000000  0.694604  0.000000  0.694604\n",
       "All  2  2  2  1   7  1.665348  0.716652  1.002480  0.405133  3.789613"
      ]
     },
     "execution_count": 274,
     "metadata": {},
     "output_type": "execute_result"
    }
   ],
   "source": [
    "df.pivot_table(['c3','c4'],\n",
    "              index=['c1'],\n",
    "              columns=['c2'],\n",
    "              margins=True,\n",
    "              aggfunc=sum,\n",
    "              fill_value=0)"
   ]
  },
  {
   "cell_type": "code",
   "execution_count": 276,
   "metadata": {
    "id": "I77K4Mg8jyct"
   },
   "outputs": [
    {
     "data": {
      "text/html": [
       "<div>\n",
       "<style scoped>\n",
       "    .dataframe tbody tr th:only-of-type {\n",
       "        vertical-align: middle;\n",
       "    }\n",
       "\n",
       "    .dataframe tbody tr th {\n",
       "        vertical-align: top;\n",
       "    }\n",
       "\n",
       "    .dataframe thead th {\n",
       "        text-align: right;\n",
       "    }\n",
       "</style>\n",
       "<table border=\"1\" class=\"dataframe\">\n",
       "  <thead>\n",
       "    <tr style=\"text-align: right;\">\n",
       "      <th>c2</th>\n",
       "      <th>A</th>\n",
       "      <th>B</th>\n",
       "      <th>C</th>\n",
       "      <th>D</th>\n",
       "    </tr>\n",
       "    <tr>\n",
       "      <th>c1</th>\n",
       "      <th></th>\n",
       "      <th></th>\n",
       "      <th></th>\n",
       "      <th></th>\n",
       "    </tr>\n",
       "  </thead>\n",
       "  <tbody>\n",
       "    <tr>\n",
       "      <th>a</th>\n",
       "      <td>1</td>\n",
       "      <td>1</td>\n",
       "      <td>0</td>\n",
       "      <td>0</td>\n",
       "    </tr>\n",
       "    <tr>\n",
       "      <th>b</th>\n",
       "      <td>1</td>\n",
       "      <td>1</td>\n",
       "      <td>1</td>\n",
       "      <td>0</td>\n",
       "    </tr>\n",
       "    <tr>\n",
       "      <th>c</th>\n",
       "      <td>0</td>\n",
       "      <td>0</td>\n",
       "      <td>0</td>\n",
       "      <td>1</td>\n",
       "    </tr>\n",
       "    <tr>\n",
       "      <th>d</th>\n",
       "      <td>0</td>\n",
       "      <td>0</td>\n",
       "      <td>1</td>\n",
       "      <td>0</td>\n",
       "    </tr>\n",
       "  </tbody>\n",
       "</table>\n",
       "</div>"
      ],
      "text/plain": [
       "c2  A  B  C  D\n",
       "c1            \n",
       "a   1  1  0  0\n",
       "b   1  1  1  0\n",
       "c   0  0  0  1\n",
       "d   0  0  1  0"
      ]
     },
     "execution_count": 276,
     "metadata": {},
     "output_type": "execute_result"
    }
   ],
   "source": [
    "pd.crosstab(df.c1,df.c2)"
   ]
  },
  {
   "cell_type": "code",
   "execution_count": 278,
   "metadata": {
    "id": "xC-rXgvbgivr"
   },
   "outputs": [
    {
     "data": {
      "text/html": [
       "<div>\n",
       "<style scoped>\n",
       "    .dataframe tbody tr th:only-of-type {\n",
       "        vertical-align: middle;\n",
       "    }\n",
       "\n",
       "    .dataframe tbody tr th {\n",
       "        vertical-align: top;\n",
       "    }\n",
       "\n",
       "    .dataframe thead th {\n",
       "        text-align: right;\n",
       "    }\n",
       "</style>\n",
       "<table border=\"1\" class=\"dataframe\">\n",
       "  <thead>\n",
       "    <tr style=\"text-align: right;\">\n",
       "      <th>c2</th>\n",
       "      <th>A</th>\n",
       "      <th>B</th>\n",
       "      <th>C</th>\n",
       "      <th>D</th>\n",
       "      <th>All</th>\n",
       "    </tr>\n",
       "    <tr>\n",
       "      <th>c1</th>\n",
       "      <th></th>\n",
       "      <th></th>\n",
       "      <th></th>\n",
       "      <th></th>\n",
       "      <th></th>\n",
       "    </tr>\n",
       "  </thead>\n",
       "  <tbody>\n",
       "    <tr>\n",
       "      <th>a</th>\n",
       "      <td>1.0</td>\n",
       "      <td>1.0</td>\n",
       "      <td>NaN</td>\n",
       "      <td>NaN</td>\n",
       "      <td>2</td>\n",
       "    </tr>\n",
       "    <tr>\n",
       "      <th>b</th>\n",
       "      <td>1.0</td>\n",
       "      <td>1.0</td>\n",
       "      <td>1.0</td>\n",
       "      <td>NaN</td>\n",
       "      <td>3</td>\n",
       "    </tr>\n",
       "    <tr>\n",
       "      <th>c</th>\n",
       "      <td>NaN</td>\n",
       "      <td>NaN</td>\n",
       "      <td>NaN</td>\n",
       "      <td>1.0</td>\n",
       "      <td>1</td>\n",
       "    </tr>\n",
       "    <tr>\n",
       "      <th>d</th>\n",
       "      <td>NaN</td>\n",
       "      <td>NaN</td>\n",
       "      <td>1.0</td>\n",
       "      <td>NaN</td>\n",
       "      <td>1</td>\n",
       "    </tr>\n",
       "    <tr>\n",
       "      <th>All</th>\n",
       "      <td>2.0</td>\n",
       "      <td>2.0</td>\n",
       "      <td>2.0</td>\n",
       "      <td>1.0</td>\n",
       "      <td>7</td>\n",
       "    </tr>\n",
       "  </tbody>\n",
       "</table>\n",
       "</div>"
      ],
      "text/plain": [
       "c2     A    B    C    D  All\n",
       "c1                          \n",
       "a    1.0  1.0  NaN  NaN    2\n",
       "b    1.0  1.0  1.0  NaN    3\n",
       "c    NaN  NaN  NaN  1.0    1\n",
       "d    NaN  NaN  1.0  NaN    1\n",
       "All  2.0  2.0  2.0  1.0    7"
      ]
     },
     "execution_count": 278,
     "metadata": {},
     "output_type": "execute_result"
    }
   ],
   "source": [
    "pd.crosstab(df.c1, df.c2, values=df.c3, aggfunc=sum, margins=True)"
   ]
  },
  {
   "cell_type": "markdown",
   "metadata": {
    "id": "bbyFIbJkBjvD"
   },
   "source": [
    "### 범주형(Categorical) 데이터\n"
   ]
  },
  {
   "cell_type": "code",
   "execution_count": null,
   "metadata": {
    "id": "A6tDHNBCBnTT"
   },
   "outputs": [],
   "source": []
  },
  {
   "cell_type": "code",
   "execution_count": null,
   "metadata": {
    "id": "v-_JtRj8B5Wk"
   },
   "outputs": [],
   "source": []
  },
  {
   "cell_type": "code",
   "execution_count": null,
   "metadata": {
    "id": "8EnnyCEdB8J-"
   },
   "outputs": [],
   "source": []
  },
  {
   "cell_type": "code",
   "execution_count": null,
   "metadata": {
    "id": "7Bi_tGNMCD7o"
   },
   "outputs": [],
   "source": []
  },
  {
   "cell_type": "code",
   "execution_count": null,
   "metadata": {
    "id": "4aO21aofCNNx"
   },
   "outputs": [],
   "source": []
  },
  {
   "cell_type": "code",
   "execution_count": null,
   "metadata": {
    "id": "fJ5nbwbVCV0m"
   },
   "outputs": [],
   "source": []
  },
  {
   "cell_type": "code",
   "execution_count": null,
   "metadata": {
    "id": "MZyW5zGdCpx1"
   },
   "outputs": [],
   "source": []
  },
  {
   "cell_type": "code",
   "execution_count": null,
   "metadata": {
    "id": "tOX0QS_iDe60"
   },
   "outputs": [],
   "source": []
  },
  {
   "cell_type": "code",
   "execution_count": null,
   "metadata": {
    "id": "vjDgdPmHE6nK"
   },
   "outputs": [],
   "source": []
  },
  {
   "cell_type": "code",
   "execution_count": null,
   "metadata": {
    "id": "n30Dxm_JFeha"
   },
   "outputs": [],
   "source": []
  },
  {
   "cell_type": "code",
   "execution_count": null,
   "metadata": {
    "id": "Dm7eTHHUFloX"
   },
   "outputs": [],
   "source": []
  },
  {
   "cell_type": "code",
   "execution_count": null,
   "metadata": {
    "id": "w9zC9hE8Fzbj"
   },
   "outputs": [],
   "source": []
  },
  {
   "cell_type": "code",
   "execution_count": null,
   "metadata": {
    "id": "kHIkmMF3F7E6"
   },
   "outputs": [],
   "source": []
  },
  {
   "cell_type": "code",
   "execution_count": null,
   "metadata": {
    "id": "0Hd3a20OGIeK"
   },
   "outputs": [],
   "source": []
  },
  {
   "cell_type": "code",
   "execution_count": null,
   "metadata": {
    "id": "n3MRLHmPHKM2"
   },
   "outputs": [],
   "source": []
  },
  {
   "cell_type": "code",
   "execution_count": null,
   "metadata": {
    "id": "2PYX6ou4HjlD"
   },
   "outputs": [],
   "source": []
  },
  {
   "cell_type": "code",
   "execution_count": null,
   "metadata": {
    "id": "tR-KJXBqH_DD"
   },
   "outputs": [],
   "source": []
  },
  {
   "cell_type": "code",
   "execution_count": null,
   "metadata": {
    "id": "Hiiiuv8DIJRJ"
   },
   "outputs": [],
   "source": []
  },
  {
   "cell_type": "code",
   "execution_count": null,
   "metadata": {
    "id": "Oxhdd12PIQGR"
   },
   "outputs": [],
   "source": []
  },
  {
   "cell_type": "code",
   "execution_count": null,
   "metadata": {
    "id": "w2kR4J0HIagG"
   },
   "outputs": [],
   "source": []
  },
  {
   "cell_type": "code",
   "execution_count": null,
   "metadata": {
    "id": "PP_HNmTxIsi7"
   },
   "outputs": [],
   "source": []
  },
  {
   "cell_type": "code",
   "execution_count": null,
   "metadata": {
    "id": "oOEz4iOoI4tx"
   },
   "outputs": [],
   "source": []
  },
  {
   "cell_type": "code",
   "execution_count": null,
   "metadata": {
    "id": "-Vrw8j9CJ1Qw"
   },
   "outputs": [],
   "source": []
  },
  {
   "cell_type": "markdown",
   "metadata": {
    "id": "wjRK-aLNzLKo"
   },
   "source": [
    "## 문자열 연산"
   ]
  },
  {
   "cell_type": "markdown",
   "metadata": {
    "id": "q1LwRoiH0h8A"
   },
   "source": [
    "#### 문자열 연산자"
   ]
  },
  {
   "cell_type": "code",
   "execution_count": null,
   "metadata": {
    "id": "AXJwgoGYyPx7"
   },
   "outputs": [],
   "source": []
  },
  {
   "cell_type": "code",
   "execution_count": null,
   "metadata": {
    "id": "8UZuQclNzvy7"
   },
   "outputs": [],
   "source": []
  },
  {
   "cell_type": "code",
   "execution_count": null,
   "metadata": {
    "id": "RKC2Y-_p1cgf"
   },
   "outputs": [],
   "source": []
  },
  {
   "cell_type": "code",
   "execution_count": null,
   "metadata": {
    "id": "pEza_iX71gdo"
   },
   "outputs": [],
   "source": []
  },
  {
   "cell_type": "markdown",
   "metadata": {
    "id": "fmpHWLto8PPZ"
   },
   "source": [
    "#### 기타 연산자\n"
   ]
  },
  {
   "cell_type": "code",
   "execution_count": null,
   "metadata": {
    "id": "8OoAFpYw5xUT"
   },
   "outputs": [],
   "source": []
  },
  {
   "cell_type": "code",
   "execution_count": null,
   "metadata": {
    "id": "psOVr0dE8_hQ"
   },
   "outputs": [],
   "source": []
  },
  {
   "cell_type": "code",
   "execution_count": null,
   "metadata": {
    "id": "c1OM6UFk94ty"
   },
   "outputs": [],
   "source": []
  },
  {
   "cell_type": "code",
   "execution_count": null,
   "metadata": {
    "id": "8gTH3OAa9F7R"
   },
   "outputs": [],
   "source": []
  },
  {
   "cell_type": "markdown",
   "metadata": {
    "id": "cc5I6nYe2rIA"
   },
   "source": [
    "#### 정규표현식\n"
   ]
  },
  {
   "cell_type": "code",
   "execution_count": null,
   "metadata": {
    "id": "f__zeZaV2hJt"
   },
   "outputs": [],
   "source": []
  },
  {
   "cell_type": "code",
   "execution_count": null,
   "metadata": {
    "id": "WE-XezJe4FJ1"
   },
   "outputs": [],
   "source": []
  },
  {
   "cell_type": "markdown",
   "metadata": {
    "id": "coa1wuPKAjE4"
   },
   "source": [
    "## 시계열 처리"
   ]
  },
  {
   "cell_type": "code",
   "execution_count": null,
   "metadata": {
    "id": "DpzWbv0F9eE2"
   },
   "outputs": [],
   "source": []
  },
  {
   "cell_type": "code",
   "execution_count": null,
   "metadata": {
    "id": "ucLDgwSaBC-j"
   },
   "outputs": [],
   "source": []
  },
  {
   "cell_type": "code",
   "execution_count": null,
   "metadata": {
    "id": "ULqUMOA6BLTV"
   },
   "outputs": [],
   "source": []
  },
  {
   "cell_type": "code",
   "execution_count": null,
   "metadata": {
    "id": "AWSo-DsCDlem"
   },
   "outputs": [],
   "source": []
  },
  {
   "cell_type": "markdown",
   "metadata": {
    "id": "KuoU8dtlD7kR"
   },
   "source": [
    "#### 시계열 데이터 구조\n"
   ]
  },
  {
   "cell_type": "code",
   "execution_count": null,
   "metadata": {
    "id": "WRDRlDNPDzAc"
   },
   "outputs": [],
   "source": []
  },
  {
   "cell_type": "code",
   "execution_count": null,
   "metadata": {
    "id": "jEXv5UcQHKoZ"
   },
   "outputs": [],
   "source": []
  },
  {
   "cell_type": "code",
   "execution_count": null,
   "metadata": {
    "id": "i11dXCIKIKIA"
   },
   "outputs": [],
   "source": []
  },
  {
   "cell_type": "code",
   "execution_count": null,
   "metadata": {
    "id": "747a7Q8AIOVZ"
   },
   "outputs": [],
   "source": []
  },
  {
   "cell_type": "code",
   "execution_count": null,
   "metadata": {
    "id": "hfaW7kliITUq"
   },
   "outputs": [],
   "source": []
  },
  {
   "cell_type": "code",
   "execution_count": null,
   "metadata": {
    "id": "QnIaj9cfIwjG"
   },
   "outputs": [],
   "source": []
  },
  {
   "cell_type": "code",
   "execution_count": null,
   "metadata": {
    "id": "3A5IqEhwI2KO"
   },
   "outputs": [],
   "source": []
  },
  {
   "cell_type": "code",
   "execution_count": null,
   "metadata": {
    "id": "DmqQPTOgiHLD"
   },
   "outputs": [],
   "source": []
  },
  {
   "cell_type": "code",
   "execution_count": null,
   "metadata": {
    "id": "sWSFkY1EieM6"
   },
   "outputs": [],
   "source": []
  },
  {
   "cell_type": "code",
   "execution_count": null,
   "metadata": {
    "id": "15Nbw1roimzp"
   },
   "outputs": [],
   "source": []
  },
  {
   "cell_type": "markdown",
   "metadata": {
    "id": "eUdhdTqckQML"
   },
   "source": [
    "### 시계열 기본"
   ]
  },
  {
   "cell_type": "code",
   "execution_count": null,
   "metadata": {
    "id": "o3C5bsKnkS3z"
   },
   "outputs": [],
   "source": []
  },
  {
   "cell_type": "code",
   "execution_count": null,
   "metadata": {
    "id": "n0NOghJ3lK8f"
   },
   "outputs": [],
   "source": []
  },
  {
   "cell_type": "code",
   "execution_count": null,
   "metadata": {
    "id": "_eTZ-8BOlYb_"
   },
   "outputs": [],
   "source": []
  },
  {
   "cell_type": "code",
   "execution_count": null,
   "metadata": {
    "id": "vr-FEVSyll5c"
   },
   "outputs": [],
   "source": []
  },
  {
   "cell_type": "code",
   "execution_count": null,
   "metadata": {
    "id": "aaRJ83ZNm1P4"
   },
   "outputs": [],
   "source": []
  },
  {
   "cell_type": "code",
   "execution_count": null,
   "metadata": {
    "id": "h9tW0LHSnAT7"
   },
   "outputs": [],
   "source": []
  },
  {
   "cell_type": "code",
   "execution_count": null,
   "metadata": {
    "id": "-PiTx7qanLSF"
   },
   "outputs": [],
   "source": []
  },
  {
   "cell_type": "code",
   "execution_count": null,
   "metadata": {
    "id": "RZXHXH79oL87"
   },
   "outputs": [],
   "source": []
  },
  {
   "cell_type": "code",
   "execution_count": null,
   "metadata": {
    "id": "OrV7HKEkoZL7"
   },
   "outputs": [],
   "source": []
  },
  {
   "cell_type": "code",
   "execution_count": null,
   "metadata": {
    "id": "bAtqzI_jor5X"
   },
   "outputs": [],
   "source": []
  },
  {
   "cell_type": "code",
   "execution_count": null,
   "metadata": {
    "id": "AkHSxPFKpW3g"
   },
   "outputs": [],
   "source": []
  },
  {
   "cell_type": "code",
   "execution_count": null,
   "metadata": {
    "id": "BLcA7EkOpdwC"
   },
   "outputs": [],
   "source": []
  },
  {
   "cell_type": "code",
   "execution_count": null,
   "metadata": {
    "id": "k2WCkszlqEwH"
   },
   "outputs": [],
   "source": []
  },
  {
   "cell_type": "code",
   "execution_count": null,
   "metadata": {
    "id": "PDFICllKqwrv"
   },
   "outputs": [],
   "source": []
  },
  {
   "cell_type": "code",
   "execution_count": null,
   "metadata": {
    "id": "3q6TX5rVq0q1"
   },
   "outputs": [],
   "source": []
  },
  {
   "cell_type": "code",
   "execution_count": null,
   "metadata": {
    "id": "n0FVEH7sq74X"
   },
   "outputs": [],
   "source": []
  },
  {
   "cell_type": "code",
   "execution_count": null,
   "metadata": {
    "id": "hkbUwF9JrULg"
   },
   "outputs": [],
   "source": []
  },
  {
   "cell_type": "code",
   "execution_count": null,
   "metadata": {
    "id": "Bo4Ao2zisOs6"
   },
   "outputs": [],
   "source": []
  },
  {
   "cell_type": "code",
   "execution_count": null,
   "metadata": {
    "id": "0jxhrhS3tBEq"
   },
   "outputs": [],
   "source": []
  },
  {
   "cell_type": "code",
   "execution_count": null,
   "metadata": {
    "id": "4M9BEkp3tIKW"
   },
   "outputs": [],
   "source": []
  },
  {
   "cell_type": "code",
   "execution_count": null,
   "metadata": {
    "id": "H8vDMscHtRUp"
   },
   "outputs": [],
   "source": []
  },
  {
   "cell_type": "code",
   "execution_count": null,
   "metadata": {
    "id": "eFP7MlKWtiNc"
   },
   "outputs": [],
   "source": []
  },
  {
   "cell_type": "code",
   "execution_count": null,
   "metadata": {
    "id": "k9MGkCSBuAQ1"
   },
   "outputs": [],
   "source": []
  },
  {
   "cell_type": "code",
   "execution_count": null,
   "metadata": {
    "id": "Xhpa_AEWuGv5"
   },
   "outputs": [],
   "source": []
  },
  {
   "cell_type": "code",
   "execution_count": null,
   "metadata": {
    "id": "OExzMN61uUfo"
   },
   "outputs": [],
   "source": []
  },
  {
   "cell_type": "markdown",
   "metadata": {
    "id": "qyGkgydIJVm5"
   },
   "source": [
    "### 주기와 오프셋\n"
   ]
  },
  {
   "cell_type": "code",
   "execution_count": null,
   "metadata": {
    "id": "00N0V3YjI7Vh"
   },
   "outputs": [],
   "source": []
  },
  {
   "cell_type": "code",
   "execution_count": null,
   "metadata": {
    "id": "WSeShMblJDWE"
   },
   "outputs": [],
   "source": []
  },
  {
   "cell_type": "code",
   "execution_count": null,
   "metadata": {
    "id": "IZVLhHbBJMpm"
   },
   "outputs": [],
   "source": []
  },
  {
   "cell_type": "code",
   "execution_count": null,
   "metadata": {
    "id": "8Uzz7uZEK-mZ"
   },
   "outputs": [],
   "source": []
  },
  {
   "cell_type": "code",
   "execution_count": null,
   "metadata": {
    "id": "VGWXkmAh4ZcT"
   },
   "outputs": [],
   "source": []
  },
  {
   "cell_type": "code",
   "execution_count": null,
   "metadata": {
    "id": "2CeqVHBx33XS"
   },
   "outputs": [],
   "source": []
  },
  {
   "cell_type": "markdown",
   "metadata": {
    "id": "muiRlbyH7LPh"
   },
   "source": [
    "### 시프트(Shift)"
   ]
  },
  {
   "cell_type": "code",
   "execution_count": null,
   "metadata": {
    "id": "nYJfyvH-5LZB"
   },
   "outputs": [],
   "source": []
  },
  {
   "cell_type": "code",
   "execution_count": null,
   "metadata": {
    "id": "Dve8sn3D5n4p"
   },
   "outputs": [],
   "source": []
  },
  {
   "cell_type": "code",
   "execution_count": null,
   "metadata": {
    "id": "qWXBes3q5qo6"
   },
   "outputs": [],
   "source": []
  },
  {
   "cell_type": "code",
   "execution_count": null,
   "metadata": {
    "id": "ZN-dCvZU5tLx"
   },
   "outputs": [],
   "source": []
  },
  {
   "cell_type": "code",
   "execution_count": null,
   "metadata": {
    "id": "Yzi9nKB_53D-"
   },
   "outputs": [],
   "source": []
  },
  {
   "cell_type": "code",
   "execution_count": null,
   "metadata": {
    "id": "oUavnBzH6IR1"
   },
   "outputs": [],
   "source": []
  },
  {
   "cell_type": "markdown",
   "metadata": {
    "id": "IGa7k2HO7PJp"
   },
   "source": [
    "### 시간대 처리\n",
    "\n",
    "* 국제표준시(Coordinated Universal Time, UTC)를 기준으로 떨어진 거리만큼 오프셋으로 시간대 처리\n",
    "* 전 세계의 시간대 정보를 모아놓은 올슨 데이터베이스를 활용한 라이브러리인 `pytz` 사용"
   ]
  },
  {
   "cell_type": "code",
   "execution_count": null,
   "metadata": {
    "id": "FxrFeONy7QNb"
   },
   "outputs": [],
   "source": []
  },
  {
   "cell_type": "code",
   "execution_count": null,
   "metadata": {
    "id": "GRjk1NK-7P3O"
   },
   "outputs": [],
   "source": []
  },
  {
   "cell_type": "code",
   "execution_count": null,
   "metadata": {
    "id": "wjngkZuzOU1U"
   },
   "outputs": [],
   "source": []
  },
  {
   "cell_type": "code",
   "execution_count": null,
   "metadata": {
    "id": "_AxYonc1PV1o"
   },
   "outputs": [],
   "source": []
  },
  {
   "cell_type": "code",
   "execution_count": null,
   "metadata": {
    "id": "Zyc-pgsLPxHx"
   },
   "outputs": [],
   "source": []
  },
  {
   "cell_type": "code",
   "execution_count": null,
   "metadata": {
    "id": "7ZOXCc73QJ6U"
   },
   "outputs": [],
   "source": []
  },
  {
   "cell_type": "code",
   "execution_count": null,
   "metadata": {
    "id": "gQTL-ZSBQMJ5"
   },
   "outputs": [],
   "source": []
  },
  {
   "cell_type": "code",
   "execution_count": null,
   "metadata": {
    "id": "Kgm-C70kQX1K"
   },
   "outputs": [],
   "source": []
  },
  {
   "cell_type": "code",
   "execution_count": null,
   "metadata": {
    "id": "uidYzkMEQiw-"
   },
   "outputs": [],
   "source": []
  },
  {
   "cell_type": "code",
   "execution_count": null,
   "metadata": {
    "id": "7T4KfZo1Q0vv"
   },
   "outputs": [],
   "source": []
  },
  {
   "cell_type": "code",
   "execution_count": null,
   "metadata": {
    "id": "nlRi5wiLQ_2t"
   },
   "outputs": [],
   "source": []
  },
  {
   "cell_type": "code",
   "execution_count": null,
   "metadata": {
    "id": "tOnkPX7wRr1K"
   },
   "outputs": [],
   "source": []
  },
  {
   "cell_type": "code",
   "execution_count": null,
   "metadata": {
    "id": "gzpDRNMbS7m4"
   },
   "outputs": [],
   "source": []
  },
  {
   "cell_type": "code",
   "execution_count": null,
   "metadata": {
    "id": "kV1-OuAyS1E1"
   },
   "outputs": [],
   "source": []
  },
  {
   "cell_type": "code",
   "execution_count": null,
   "metadata": {
    "id": "vNWZbRg9S7ib"
   },
   "outputs": [],
   "source": []
  },
  {
   "cell_type": "code",
   "execution_count": null,
   "metadata": {
    "id": "y2YmFHiTSbvl"
   },
   "outputs": [],
   "source": []
  },
  {
   "cell_type": "code",
   "execution_count": null,
   "metadata": {
    "id": "escRmC7CSp7D"
   },
   "outputs": [],
   "source": []
  },
  {
   "cell_type": "code",
   "execution_count": null,
   "metadata": {
    "id": "JktH-gJjSt3y"
   },
   "outputs": [],
   "source": []
  },
  {
   "cell_type": "code",
   "execution_count": null,
   "metadata": {
    "id": "B8qC75WkVdUz"
   },
   "outputs": [],
   "source": []
  },
  {
   "cell_type": "code",
   "execution_count": null,
   "metadata": {
    "id": "vW_WSrFYVr39"
   },
   "outputs": [],
   "source": []
  },
  {
   "cell_type": "code",
   "execution_count": null,
   "metadata": {
    "id": "eirSX--hVxsh"
   },
   "outputs": [],
   "source": []
  },
  {
   "cell_type": "code",
   "execution_count": null,
   "metadata": {
    "id": "c5O6aWCoV6tn"
   },
   "outputs": [],
   "source": []
  },
  {
   "cell_type": "code",
   "execution_count": null,
   "metadata": {
    "id": "fT1R8fH1YLxz"
   },
   "outputs": [],
   "source": []
  },
  {
   "cell_type": "code",
   "execution_count": null,
   "metadata": {
    "id": "AImCb4SwZHDJ"
   },
   "outputs": [],
   "source": []
  },
  {
   "cell_type": "markdown",
   "metadata": {
    "id": "mBESoCw1ZPCb"
   },
   "source": [
    "### 기간과 기간 연산"
   ]
  },
  {
   "cell_type": "code",
   "execution_count": null,
   "metadata": {
    "id": "zPuaVZFOZRXU"
   },
   "outputs": [],
   "source": []
  },
  {
   "cell_type": "code",
   "execution_count": null,
   "metadata": {
    "id": "Pa6d7K81c9D7"
   },
   "outputs": [],
   "source": []
  },
  {
   "cell_type": "code",
   "execution_count": null,
   "metadata": {
    "id": "-8G5Fry1dA0Z"
   },
   "outputs": [],
   "source": []
  },
  {
   "cell_type": "code",
   "execution_count": null,
   "metadata": {
    "id": "uX4eGfqPdJWX"
   },
   "outputs": [],
   "source": []
  },
  {
   "cell_type": "code",
   "execution_count": null,
   "metadata": {
    "id": "bONu-Igwefj5"
   },
   "outputs": [],
   "source": []
  },
  {
   "cell_type": "code",
   "execution_count": null,
   "metadata": {
    "id": "CgIISIP3esTI"
   },
   "outputs": [],
   "source": []
  },
  {
   "cell_type": "code",
   "execution_count": null,
   "metadata": {
    "id": "3UbMifZ9g_2a"
   },
   "outputs": [],
   "source": []
  },
  {
   "cell_type": "code",
   "execution_count": null,
   "metadata": {
    "id": "SrJaYKyFhqNK"
   },
   "outputs": [],
   "source": []
  },
  {
   "cell_type": "code",
   "execution_count": null,
   "metadata": {
    "id": "1zslgmgEhy_E"
   },
   "outputs": [],
   "source": []
  },
  {
   "cell_type": "code",
   "execution_count": null,
   "metadata": {
    "id": "Pf0MhblPh-4A"
   },
   "outputs": [],
   "source": []
  },
  {
   "cell_type": "code",
   "execution_count": null,
   "metadata": {
    "id": "TUAZmHE5iTDQ"
   },
   "outputs": [],
   "source": []
  },
  {
   "cell_type": "code",
   "execution_count": null,
   "metadata": {
    "id": "OXXVYyrSiXx5"
   },
   "outputs": [],
   "source": []
  },
  {
   "cell_type": "code",
   "execution_count": null,
   "metadata": {
    "id": "KwZxN0DSiZcR"
   },
   "outputs": [],
   "source": []
  },
  {
   "cell_type": "code",
   "execution_count": null,
   "metadata": {
    "id": "coUC21I4irbo"
   },
   "outputs": [],
   "source": []
  },
  {
   "cell_type": "code",
   "execution_count": null,
   "metadata": {
    "id": "l1-o5TuTjJ_6"
   },
   "outputs": [],
   "source": []
  },
  {
   "cell_type": "code",
   "execution_count": null,
   "metadata": {
    "id": "OXKM1tInjOo5"
   },
   "outputs": [],
   "source": []
  },
  {
   "cell_type": "code",
   "execution_count": null,
   "metadata": {
    "id": "atGrrBMjj9sh"
   },
   "outputs": [],
   "source": []
  },
  {
   "cell_type": "code",
   "execution_count": null,
   "metadata": {
    "id": "eYrXQPsykF6O"
   },
   "outputs": [],
   "source": []
  },
  {
   "cell_type": "code",
   "execution_count": null,
   "metadata": {
    "id": "Ieb4UV57kPBS"
   },
   "outputs": [],
   "source": []
  },
  {
   "cell_type": "code",
   "execution_count": null,
   "metadata": {
    "id": "kQ0IShLqlPYy"
   },
   "outputs": [],
   "source": []
  },
  {
   "cell_type": "code",
   "execution_count": null,
   "metadata": {
    "id": "uIkBhkpnop55"
   },
   "outputs": [],
   "source": []
  },
  {
   "cell_type": "code",
   "execution_count": null,
   "metadata": {
    "id": "u-37q4u_pTfy"
   },
   "outputs": [],
   "source": []
  },
  {
   "cell_type": "code",
   "execution_count": null,
   "metadata": {
    "id": "BNAgbJ62pzTh"
   },
   "outputs": [],
   "source": []
  },
  {
   "cell_type": "code",
   "execution_count": null,
   "metadata": {
    "id": "hNwIgsrkp4y3"
   },
   "outputs": [],
   "source": []
  },
  {
   "cell_type": "code",
   "execution_count": null,
   "metadata": {
    "id": "cwz_gBl-qWcp"
   },
   "outputs": [],
   "source": []
  },
  {
   "cell_type": "markdown",
   "metadata": {
    "id": "_7_r2sq0qoCb"
   },
   "source": [
    "### 리샘플링(Resampling)\n",
    "\n",
    "* 리샘플링(Resampling): 시계열의 빈도 변환\n",
    "* 다운샘플링(Down sampling): 상위 빈도 데이터를 하위 빈도 데이터로 집계\n",
    "* 업샘플링(Up sampling): 하위 빈도 데이터를 상위 빈도 데이터로 집계"
   ]
  },
  {
   "cell_type": "code",
   "execution_count": null,
   "metadata": {
    "id": "g16pgRe8qq2S"
   },
   "outputs": [],
   "source": []
  },
  {
   "cell_type": "code",
   "execution_count": null,
   "metadata": {
    "id": "dUOidLhdrSga"
   },
   "outputs": [],
   "source": []
  },
  {
   "cell_type": "code",
   "execution_count": null,
   "metadata": {
    "id": "syUsS-UtraUU"
   },
   "outputs": [],
   "source": []
  },
  {
   "cell_type": "code",
   "execution_count": null,
   "metadata": {
    "id": "wqGxv77wujni"
   },
   "outputs": [],
   "source": []
  },
  {
   "cell_type": "code",
   "execution_count": null,
   "metadata": {
    "id": "24TJiPXSu-cN"
   },
   "outputs": [],
   "source": []
  },
  {
   "cell_type": "code",
   "execution_count": null,
   "metadata": {
    "id": "iL0pJxPcwlt5"
   },
   "outputs": [],
   "source": []
  },
  {
   "cell_type": "code",
   "execution_count": null,
   "metadata": {
    "id": "UqjZ7uy1NTAM"
   },
   "outputs": [],
   "source": []
  },
  {
   "cell_type": "code",
   "execution_count": null,
   "metadata": {
    "id": "iTeIafSR1Hfx"
   },
   "outputs": [],
   "source": []
  },
  {
   "cell_type": "code",
   "execution_count": null,
   "metadata": {
    "id": "1KJJ4TSf1nMp"
   },
   "outputs": [],
   "source": []
  },
  {
   "cell_type": "code",
   "execution_count": null,
   "metadata": {
    "id": "79ITf-AM2Jcr"
   },
   "outputs": [],
   "source": []
  },
  {
   "cell_type": "code",
   "execution_count": null,
   "metadata": {
    "id": "kOBZwqXJ626g"
   },
   "outputs": [],
   "source": []
  },
  {
   "cell_type": "code",
   "execution_count": null,
   "metadata": {
    "id": "IZIifPcqBX28"
   },
   "outputs": [],
   "source": []
  },
  {
   "cell_type": "code",
   "execution_count": null,
   "metadata": {
    "id": "iEci9Ws3FNtG"
   },
   "outputs": [],
   "source": []
  },
  {
   "cell_type": "code",
   "execution_count": null,
   "metadata": {
    "id": "TPWnP2YNE2-Y"
   },
   "outputs": [],
   "source": []
  },
  {
   "cell_type": "code",
   "execution_count": null,
   "metadata": {
    "id": "r6b2V4P9B3eN"
   },
   "outputs": [],
   "source": []
  },
  {
   "cell_type": "code",
   "execution_count": null,
   "metadata": {
    "id": "YRU_MPfgC2OC"
   },
   "outputs": [],
   "source": []
  },
  {
   "cell_type": "code",
   "execution_count": null,
   "metadata": {
    "id": "bGwHQKT18B30"
   },
   "outputs": [],
   "source": []
  },
  {
   "cell_type": "code",
   "execution_count": null,
   "metadata": {
    "id": "0-fZbJgkCxvo"
   },
   "outputs": [],
   "source": []
  },
  {
   "cell_type": "markdown",
   "metadata": {
    "id": "gOTm-SAWFqUn"
   },
   "source": [
    "### 무빙 윈도우(Moving Window)"
   ]
  },
  {
   "cell_type": "code",
   "execution_count": null,
   "metadata": {
    "id": "ivW4TjmaFv_8"
   },
   "outputs": [],
   "source": []
  },
  {
   "cell_type": "code",
   "execution_count": null,
   "metadata": {
    "id": "g8NG71H-G3_1"
   },
   "outputs": [],
   "source": []
  },
  {
   "cell_type": "code",
   "execution_count": null,
   "metadata": {
    "id": "fPuiwcxR6r29"
   },
   "outputs": [],
   "source": []
  },
  {
   "cell_type": "code",
   "execution_count": null,
   "metadata": {
    "id": "rrS0Fv6IHkTD"
   },
   "outputs": [],
   "source": []
  },
  {
   "cell_type": "code",
   "execution_count": null,
   "metadata": {
    "id": "5eyUTf9gH7dy"
   },
   "outputs": [],
   "source": []
  },
  {
   "cell_type": "code",
   "execution_count": null,
   "metadata": {
    "id": "jE8ef_y7ISvQ"
   },
   "outputs": [],
   "source": []
  },
  {
   "cell_type": "code",
   "execution_count": null,
   "metadata": {
    "id": "YPivQozCIt2C"
   },
   "outputs": [],
   "source": []
  },
  {
   "cell_type": "code",
   "execution_count": null,
   "metadata": {
    "id": "uwUxlyN-I9Lr"
   },
   "outputs": [],
   "source": []
  },
  {
   "cell_type": "code",
   "execution_count": null,
   "metadata": {
    "id": "t6EOkaA7JQfk"
   },
   "outputs": [],
   "source": []
  },
  {
   "cell_type": "code",
   "execution_count": null,
   "metadata": {
    "id": "iOAqjinMJ-RM"
   },
   "outputs": [],
   "source": []
  },
  {
   "cell_type": "code",
   "execution_count": null,
   "metadata": {
    "id": "DMZPaDR0wR1P"
   },
   "outputs": [],
   "source": []
  },
  {
   "cell_type": "markdown",
   "metadata": {
    "id": "BOO7UiIisygc"
   },
   "source": [
    "## 데이터 읽기 및 저장\n"
   ]
  },
  {
   "cell_type": "markdown",
   "metadata": {
    "id": "gywGx4BUY8kK"
   },
   "source": [
    "### 텍스트 파일 읽기/쓰기"
   ]
  },
  {
   "cell_type": "code",
   "execution_count": null,
   "metadata": {
    "id": "YKleNV0lswbP"
   },
   "outputs": [],
   "source": []
  },
  {
   "cell_type": "code",
   "execution_count": null,
   "metadata": {
    "id": "uDL9fxU_N3e8"
   },
   "outputs": [],
   "source": []
  },
  {
   "cell_type": "code",
   "execution_count": null,
   "metadata": {
    "id": "8qpTNo0rNzQ1"
   },
   "outputs": [],
   "source": []
  },
  {
   "cell_type": "code",
   "execution_count": null,
   "metadata": {
    "id": "uFgOXuSWODON"
   },
   "outputs": [],
   "source": []
  },
  {
   "cell_type": "code",
   "execution_count": null,
   "metadata": {
    "id": "DxsJR_AHOGNM"
   },
   "outputs": [],
   "source": []
  },
  {
   "cell_type": "code",
   "execution_count": null,
   "metadata": {
    "id": "pINjVRJlOP3f"
   },
   "outputs": [],
   "source": []
  },
  {
   "cell_type": "code",
   "execution_count": null,
   "metadata": {
    "id": "_OOxJ6AoOdsa"
   },
   "outputs": [],
   "source": []
  },
  {
   "cell_type": "code",
   "execution_count": null,
   "metadata": {
    "id": "41CvMcUxOqG2"
   },
   "outputs": [],
   "source": []
  },
  {
   "cell_type": "code",
   "execution_count": null,
   "metadata": {
    "id": "IUWp5vjzPG_F"
   },
   "outputs": [],
   "source": []
  },
  {
   "cell_type": "code",
   "execution_count": null,
   "metadata": {
    "id": "lwh3G1yRQr1h"
   },
   "outputs": [],
   "source": []
  },
  {
   "cell_type": "code",
   "execution_count": null,
   "metadata": {
    "id": "PkUJzlMzRBue"
   },
   "outputs": [],
   "source": []
  },
  {
   "cell_type": "code",
   "execution_count": null,
   "metadata": {
    "id": "Ywb5JK5qRTvs"
   },
   "outputs": [],
   "source": []
  },
  {
   "cell_type": "code",
   "execution_count": null,
   "metadata": {
    "id": "PkEC01P2RaiM"
   },
   "outputs": [],
   "source": []
  },
  {
   "cell_type": "code",
   "execution_count": null,
   "metadata": {
    "id": "r-LMeRJUR8N4"
   },
   "outputs": [],
   "source": []
  },
  {
   "cell_type": "code",
   "execution_count": null,
   "metadata": {
    "id": "5eRV5ja3SawJ"
   },
   "outputs": [],
   "source": []
  },
  {
   "cell_type": "code",
   "execution_count": null,
   "metadata": {
    "id": "M7iJwB8MYwSv"
   },
   "outputs": [],
   "source": []
  },
  {
   "cell_type": "code",
   "execution_count": null,
   "metadata": {
    "id": "bsjS12WVZHcq"
   },
   "outputs": [],
   "source": []
  },
  {
   "cell_type": "code",
   "execution_count": null,
   "metadata": {
    "id": "QjP7lyGzZOpi"
   },
   "outputs": [],
   "source": []
  },
  {
   "cell_type": "code",
   "execution_count": null,
   "metadata": {
    "id": "fzxcYo0_ZUMI"
   },
   "outputs": [],
   "source": []
  },
  {
   "cell_type": "code",
   "execution_count": null,
   "metadata": {
    "id": "U0nvJRsTZg5E"
   },
   "outputs": [],
   "source": []
  },
  {
   "cell_type": "code",
   "execution_count": null,
   "metadata": {
    "id": "Xx7oQn_9axOD"
   },
   "outputs": [],
   "source": []
  },
  {
   "cell_type": "code",
   "execution_count": null,
   "metadata": {
    "id": "-cFa44vmbWJ-"
   },
   "outputs": [],
   "source": []
  },
  {
   "cell_type": "code",
   "execution_count": null,
   "metadata": {
    "id": "Sz4D4Rcrbkkj"
   },
   "outputs": [],
   "source": []
  },
  {
   "cell_type": "code",
   "execution_count": null,
   "metadata": {
    "id": "h-3yFqGYcc64"
   },
   "outputs": [],
   "source": []
  },
  {
   "cell_type": "code",
   "execution_count": null,
   "metadata": {
    "id": "8dwRbNbucm9_"
   },
   "outputs": [],
   "source": []
  },
  {
   "cell_type": "code",
   "execution_count": null,
   "metadata": {
    "id": "iEvJFXwTcx-y"
   },
   "outputs": [],
   "source": []
  },
  {
   "cell_type": "code",
   "execution_count": null,
   "metadata": {
    "id": "L5IlKRsKc7-X"
   },
   "outputs": [],
   "source": []
  },
  {
   "cell_type": "code",
   "execution_count": null,
   "metadata": {
    "id": "I2DeeF8rc-lS"
   },
   "outputs": [],
   "source": []
  },
  {
   "cell_type": "markdown",
   "metadata": {
    "id": "FbawLF89dKIZ"
   },
   "source": [
    "### 이진 데이터 파일 읽기/쓰기"
   ]
  },
  {
   "cell_type": "code",
   "execution_count": null,
   "metadata": {
    "id": "r86MX6x7dYgE"
   },
   "outputs": [],
   "source": []
  },
  {
   "cell_type": "code",
   "execution_count": null,
   "metadata": {
    "id": "V2GPiDLKdfmO"
   },
   "outputs": [],
   "source": []
  },
  {
   "cell_type": "code",
   "execution_count": null,
   "metadata": {
    "id": "B3eyfmJRdkQR"
   },
   "outputs": [],
   "source": []
  },
  {
   "cell_type": "code",
   "execution_count": null,
   "metadata": {
    "id": "UzOVC81Ed-2E"
   },
   "outputs": [],
   "source": []
  },
  {
   "cell_type": "code",
   "execution_count": null,
   "metadata": {
    "id": "uaO6OxkCeTq4"
   },
   "outputs": [],
   "source": []
  },
  {
   "cell_type": "code",
   "execution_count": null,
   "metadata": {
    "id": "OG_258xee3PR"
   },
   "outputs": [],
   "source": []
  },
  {
   "cell_type": "code",
   "execution_count": null,
   "metadata": {
    "id": "sWZ22PVde7Ha"
   },
   "outputs": [],
   "source": []
  },
  {
   "cell_type": "code",
   "execution_count": null,
   "metadata": {
    "id": "YglaWJ7CfAKj"
   },
   "outputs": [],
   "source": []
  },
  {
   "cell_type": "code",
   "execution_count": null,
   "metadata": {
    "id": "zjEeShTCfO8i"
   },
   "outputs": [],
   "source": []
  },
  {
   "cell_type": "code",
   "execution_count": null,
   "metadata": {
    "id": "wVRZCDhqfTgf"
   },
   "outputs": [],
   "source": []
  },
  {
   "cell_type": "code",
   "execution_count": null,
   "metadata": {
    "id": "SbB9VJMVfot5"
   },
   "outputs": [],
   "source": []
  },
  {
   "cell_type": "code",
   "execution_count": null,
   "metadata": {
    "id": "eVn_GwrTf7Eu"
   },
   "outputs": [],
   "source": []
  },
  {
   "cell_type": "code",
   "execution_count": null,
   "metadata": {
    "id": "GFvQJWz5gaXG"
   },
   "outputs": [],
   "source": []
  },
  {
   "cell_type": "code",
   "execution_count": null,
   "metadata": {
    "id": "Ij_Yh741gbp1"
   },
   "outputs": [],
   "source": []
  },
  {
   "cell_type": "markdown",
   "metadata": {
    "id": "TC1H-xT_2F8p"
   },
   "source": [
    "## 데이터 정제"
   ]
  },
  {
   "cell_type": "markdown",
   "metadata": {
    "id": "sHfYzJJsqoiD"
   },
   "source": [
    "### 누락값 처리\n",
    "\n",
    "* 대부분의 실제 데이터들은 정제되지 않고 누락값들이 존재\n",
    "* 서로 다른 데이터들은 다른 형태의 결측을 가짐\n",
    "* 결측 데이터는 `null`, `NaN`, `NA`로 표기"
   ]
  },
  {
   "cell_type": "markdown",
   "metadata": {
    "id": "eYG4GJ04HNea"
   },
   "source": [
    "#### None: 파이썬 누락 데이터"
   ]
  },
  {
   "cell_type": "code",
   "execution_count": null,
   "metadata": {
    "id": "SdbmIhZJqYk-"
   },
   "outputs": [],
   "source": []
  },
  {
   "cell_type": "code",
   "execution_count": null,
   "metadata": {
    "id": "TGgJm6tSOqz5"
   },
   "outputs": [],
   "source": []
  },
  {
   "cell_type": "markdown",
   "metadata": {
    "id": "Uz-ozgPrPj7g"
   },
   "source": [
    "#### NaN: 누락된 수치 데이터"
   ]
  },
  {
   "cell_type": "code",
   "execution_count": null,
   "metadata": {
    "id": "XIzPctmuPWfU"
   },
   "outputs": [],
   "source": []
  },
  {
   "cell_type": "code",
   "execution_count": null,
   "metadata": {
    "id": "9TVX3ZN5P6V3"
   },
   "outputs": [],
   "source": []
  },
  {
   "cell_type": "code",
   "execution_count": null,
   "metadata": {
    "id": "iVLmt-aQP8Gj"
   },
   "outputs": [],
   "source": []
  },
  {
   "cell_type": "code",
   "execution_count": null,
   "metadata": {
    "id": "hGP2AkgaSUSz"
   },
   "outputs": [],
   "source": []
  },
  {
   "cell_type": "code",
   "execution_count": null,
   "metadata": {
    "id": "TT4GHf_fSeRi"
   },
   "outputs": [],
   "source": []
  },
  {
   "cell_type": "code",
   "execution_count": null,
   "metadata": {
    "id": "U9qtvBxXSlfX"
   },
   "outputs": [],
   "source": []
  },
  {
   "cell_type": "code",
   "execution_count": null,
   "metadata": {
    "id": "FkOFTHSSS07A"
   },
   "outputs": [],
   "source": []
  },
  {
   "cell_type": "code",
   "execution_count": null,
   "metadata": {
    "id": "RWVqbN1oS6ZH"
   },
   "outputs": [],
   "source": []
  },
  {
   "cell_type": "code",
   "execution_count": null,
   "metadata": {
    "id": "d-jqa8t5S9z7"
   },
   "outputs": [],
   "source": []
  },
  {
   "cell_type": "code",
   "execution_count": null,
   "metadata": {
    "id": "BJHZK_CjTOUq"
   },
   "outputs": [],
   "source": []
  },
  {
   "cell_type": "markdown",
   "metadata": {
    "id": "TeZA_l5fUCks"
   },
   "source": [
    "#### Null 값 처리\n"
   ]
  },
  {
   "cell_type": "code",
   "execution_count": null,
   "metadata": {
    "id": "abbvoVnITo_y"
   },
   "outputs": [],
   "source": []
  },
  {
   "cell_type": "code",
   "execution_count": null,
   "metadata": {
    "id": "9gf6oys8akr0"
   },
   "outputs": [],
   "source": []
  },
  {
   "cell_type": "code",
   "execution_count": null,
   "metadata": {
    "id": "u9noWEenamtc"
   },
   "outputs": [],
   "source": []
  },
  {
   "cell_type": "code",
   "execution_count": null,
   "metadata": {
    "id": "EMWvOC5cauNb"
   },
   "outputs": [],
   "source": []
  },
  {
   "cell_type": "code",
   "execution_count": null,
   "metadata": {
    "id": "RVxZDos7azvf"
   },
   "outputs": [],
   "source": []
  },
  {
   "cell_type": "code",
   "execution_count": null,
   "metadata": {
    "id": "c02BqS-Aa9W-"
   },
   "outputs": [],
   "source": []
  },
  {
   "cell_type": "code",
   "execution_count": null,
   "metadata": {
    "id": "eKJY74ksbJx5"
   },
   "outputs": [],
   "source": []
  },
  {
   "cell_type": "code",
   "execution_count": null,
   "metadata": {
    "id": "hdqOfZdIbMAq"
   },
   "outputs": [],
   "source": []
  },
  {
   "cell_type": "code",
   "execution_count": null,
   "metadata": {
    "id": "Gk6hV9DibQsg"
   },
   "outputs": [],
   "source": []
  },
  {
   "cell_type": "code",
   "execution_count": null,
   "metadata": {
    "id": "88DA4w8ubUjj"
   },
   "outputs": [],
   "source": []
  },
  {
   "cell_type": "code",
   "execution_count": null,
   "metadata": {
    "id": "9F9FIW0-bYZs"
   },
   "outputs": [],
   "source": []
  },
  {
   "cell_type": "code",
   "execution_count": null,
   "metadata": {
    "id": "o3elF07Nqi2E"
   },
   "outputs": [],
   "source": []
  },
  {
   "cell_type": "code",
   "execution_count": null,
   "metadata": {
    "id": "w3Oe_XlsqlbP"
   },
   "outputs": [],
   "source": []
  },
  {
   "cell_type": "code",
   "execution_count": null,
   "metadata": {
    "id": "KDPaKJO7qsTY"
   },
   "outputs": [],
   "source": []
  },
  {
   "cell_type": "code",
   "execution_count": null,
   "metadata": {
    "id": "5kW3F5jAqvVP"
   },
   "outputs": [],
   "source": []
  },
  {
   "cell_type": "code",
   "execution_count": null,
   "metadata": {
    "id": "Gmo1xb_Xriuj"
   },
   "outputs": [],
   "source": []
  },
  {
   "cell_type": "code",
   "execution_count": null,
   "metadata": {
    "id": "JCXIWLKVq4rN"
   },
   "outputs": [],
   "source": []
  },
  {
   "cell_type": "code",
   "execution_count": null,
   "metadata": {
    "id": "BxA3XjSarl3J"
   },
   "outputs": [],
   "source": []
  },
  {
   "cell_type": "code",
   "execution_count": null,
   "metadata": {
    "id": "l0D2GjVeq8Fh"
   },
   "outputs": [],
   "source": []
  },
  {
   "cell_type": "markdown",
   "metadata": {
    "id": "FSLpWYGEiZRR"
   },
   "source": [
    "### 중복 제거"
   ]
  },
  {
   "cell_type": "code",
   "execution_count": null,
   "metadata": {
    "id": "Ii7qOLQ8s1hW"
   },
   "outputs": [],
   "source": []
  },
  {
   "cell_type": "code",
   "execution_count": null,
   "metadata": {
    "id": "14U6mS6fjOu9"
   },
   "outputs": [],
   "source": []
  },
  {
   "cell_type": "code",
   "execution_count": null,
   "metadata": {
    "id": "iLOdlpN5jR0d"
   },
   "outputs": [],
   "source": []
  },
  {
   "cell_type": "markdown",
   "metadata": {
    "id": "GaUfbZgwkCf-"
   },
   "source": [
    "### 값 치환"
   ]
  },
  {
   "cell_type": "code",
   "execution_count": null,
   "metadata": {
    "id": "VdG93-hpkE2j"
   },
   "outputs": [],
   "source": []
  },
  {
   "cell_type": "code",
   "execution_count": null,
   "metadata": {
    "id": "ZRnsdEEukSf3"
   },
   "outputs": [],
   "source": []
  },
  {
   "cell_type": "code",
   "execution_count": null,
   "metadata": {
    "id": "L3fSks4BkYSi"
   },
   "outputs": [],
   "source": []
  },
  {
   "cell_type": "code",
   "execution_count": null,
   "metadata": {
    "id": "_wtD7XeykdLs"
   },
   "outputs": [],
   "source": []
  },
  {
   "cell_type": "markdown",
   "metadata": {
    "id": "4sq_9jXcoFwb"
   },
   "source": [
    "## 참고문헌\n",
    "\n",
    "* Pandas 사이트: https://pandas.pydata.org/\n",
    "* Jake VanderPlas, \"Python Data Science Handbook\", O'Reilly\n",
    "* Wes Mckinney, \"Python for Data Analysis\", O'Reilly"
   ]
  }
 ],
 "metadata": {
  "colab": {
   "collapsed_sections": [],
   "name": "_Pandas 한번에 제대로 배우기.ipynb의 사본",
   "provenance": [],
   "toc_visible": true
  },
  "kernelspec": {
   "display_name": "Python 3",
   "language": "python",
   "name": "python3"
  },
  "language_info": {
   "codemirror_mode": {
    "name": "ipython",
    "version": 3
   },
   "file_extension": ".py",
   "mimetype": "text/x-python",
   "name": "python",
   "nbconvert_exporter": "python",
   "pygments_lexer": "ipython3",
   "version": "3.8.8"
  },
  "toc-autonumbering": true
 },
 "nbformat": 4,
 "nbformat_minor": 4
}
