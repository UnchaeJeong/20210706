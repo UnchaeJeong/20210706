{
 "cells": [
  {
   "cell_type": "code",
   "execution_count": 1,
   "id": "986c937c-487b-491a-8258-51176252b893",
   "metadata": {},
   "outputs": [],
   "source": [
    "for name in dir() :\n",
    "    if not name.startswith('_') :\n",
    "        del globals()[name]"
   ]
  },
  {
   "cell_type": "code",
   "execution_count": 2,
   "id": "dc46e017-e496-49d9-851b-62c76a59f46f",
   "metadata": {},
   "outputs": [
    {
     "name": "stdout",
     "output_type": "stream",
     "text": [
      "Help on built-in function print in module builtins:\n",
      "\n",
      "print(...)\n",
      "    print(value, ..., sep=' ', end='\\n', file=sys.stdout, flush=False)\n",
      "    \n",
      "    Prints the values to a stream, or to sys.stdout by default.\n",
      "    Optional keyword arguments:\n",
      "    file:  a file-like object (stream); defaults to the current sys.stdout.\n",
      "    sep:   string inserted between values, default a space.\n",
      "    end:   string appended after the last value, default a newline.\n",
      "    flush: whether to forcibly flush the stream.\n",
      "\n"
     ]
    }
   ],
   "source": [
    "help(print)"
   ]
  },
  {
   "cell_type": "code",
   "execution_count": 3,
   "id": "fc0006bd-670b-4d83-a38e-175926ba1c34",
   "metadata": {},
   "outputs": [
    {
     "name": "stdout",
     "output_type": "stream",
     "text": [
      "Help on class zip in module builtins:\n",
      "\n",
      "class zip(object)\n",
      " |  zip(*iterables) --> A zip object yielding tuples until an input is exhausted.\n",
      " |  \n",
      " |     >>> list(zip('abcdefg', range(3), range(4)))\n",
      " |     [('a', 0, 0), ('b', 1, 1), ('c', 2, 2)]\n",
      " |  \n",
      " |  The zip object yields n-length tuples, where n is the number of iterables\n",
      " |  passed as positional arguments to zip().  The i-th element in every tuple\n",
      " |  comes from the i-th iterable argument to zip().  This continues until the\n",
      " |  shortest argument is exhausted.\n",
      " |  \n",
      " |  Methods defined here:\n",
      " |  \n",
      " |  __getattribute__(self, name, /)\n",
      " |      Return getattr(self, name).\n",
      " |  \n",
      " |  __iter__(self, /)\n",
      " |      Implement iter(self).\n",
      " |  \n",
      " |  __next__(self, /)\n",
      " |      Implement next(self).\n",
      " |  \n",
      " |  __reduce__(...)\n",
      " |      Return state information for pickling.\n",
      " |  \n",
      " |  ----------------------------------------------------------------------\n",
      " |  Static methods defined here:\n",
      " |  \n",
      " |  __new__(*args, **kwargs) from builtins.type\n",
      " |      Create and return a new object.  See help(type) for accurate signature.\n",
      "\n"
     ]
    }
   ],
   "source": [
    "help(zip)"
   ]
  },
  {
   "cell_type": "code",
   "execution_count": 13,
   "id": "5a29f962-107c-4728-a3a2-84cc38a8aa1a",
   "metadata": {},
   "outputs": [
    {
     "name": "stdout",
     "output_type": "stream",
     "text": [
      "\n",
      "Hello\n",
      "Hello\n",
      "Hello\n",
      "Hello\n",
      "Hello\n"
     ]
    }
   ],
   "source": [
    "print(5 * '\\nHello')"
   ]
  },
  {
   "cell_type": "code",
   "execution_count": 16,
   "id": "af11dc1c-4550-4828-b136-907597e1c2ec",
   "metadata": {},
   "outputs": [],
   "source": [
    "import re"
   ]
  },
  {
   "cell_type": "code",
   "execution_count": 18,
   "id": "bb078c23-2cf6-4504-a3e5-f5ef5b6e743d",
   "metadata": {},
   "outputs": [
    {
     "data": {
      "text/plain": [
       "'Python'"
      ]
     },
     "execution_count": 18,
     "metadata": {},
     "output_type": "execute_result"
    }
   ],
   "source": [
    "temp = 'Python is easy'\n",
    "lst = temp.split()\n",
    "lst[0]"
   ]
  },
  {
   "cell_type": "code",
   "execution_count": 21,
   "id": "91e65aeb-8470-423f-8911-2f1999fc0771",
   "metadata": {},
   "outputs": [
    {
     "data": {
      "text/plain": [
       "['python', 'java', 'r', 'sas']"
      ]
     },
     "execution_count": 21,
     "metadata": {},
     "output_type": "execute_result"
    }
   ],
   "source": [
    "temp2 = 'python.java.r.sas'\n",
    "temp2.split('.')"
   ]
  },
  {
   "cell_type": "code",
   "execution_count": 22,
   "id": "07644e02-b646-4af7-a4f3-715368e852ab",
   "metadata": {},
   "outputs": [
    {
     "data": {
      "text/plain": [
       "'python,java,r,sas'"
      ]
     },
     "execution_count": 22,
     "metadata": {},
     "output_type": "execute_result"
    }
   ],
   "source": [
    "temp3 = ['python', 'java','r','sas']\n",
    "','.join(temp3)"
   ]
  },
  {
   "cell_type": "code",
   "execution_count": 29,
   "id": "6bcc6ad3-c903-4955-b88e-f55477151511",
   "metadata": {},
   "outputs": [
    {
     "name": "stdout",
     "output_type": "stream",
     "text": [
      "a\n"
     ]
    }
   ],
   "source": [
    "pocket = 1000\n",
    "if pocket == 1000:\n",
    "    print('a')\n",
    "elif pocket == 100:\n",
    "    print(b)\n",
    "else:\n",
    "    print(c)\n"
   ]
  },
  {
   "cell_type": "code",
   "execution_count": 30,
   "id": "32861e05-a862-4f3b-a365-f0b0c3592b40",
   "metadata": {},
   "outputs": [
    {
     "name": "stdout",
     "output_type": "stream",
     "text": [
      "bad\n"
     ]
    }
   ],
   "source": [
    "if 'a' not in  ['a','b','c']:\n",
    "    print('great')\n",
    "else:\n",
    "    print('bad')"
   ]
  },
  {
   "cell_type": "code",
   "execution_count": 31,
   "id": "fdaf1e24-6e86-4096-aa17-e5e01f80bd4a",
   "metadata": {},
   "outputs": [
    {
     "name": "stdout",
     "output_type": "stream",
     "text": [
      "a\n"
     ]
    }
   ],
   "source": [
    "a = [1,2,3,4,5,6]\n",
    "if 1 in a :\n",
    "    print(\"a\")\n",
    "elif 2 in a :\n",
    "    print('b')"
   ]
  },
  {
   "cell_type": "code",
   "execution_count": 34,
   "id": "98606f69-2465-4dd5-9190-59d0672810c7",
   "metadata": {},
   "outputs": [
    {
     "name": "stdout",
     "output_type": "stream",
     "text": [
      "001호\n",
      "101호\n",
      "201호\n",
      "301호\n",
      "401호\n",
      "501호\n",
      "601호\n",
      "701호\n",
      "801호\n",
      "901호\n",
      "1001호\n"
     ]
    }
   ],
   "source": [
    "for i in range(0,11):\n",
    "    print(f'{i}01호')"
   ]
  },
  {
   "cell_type": "code",
   "execution_count": 35,
   "id": "32202260-a5d9-41ab-9b29-03313e76b2ac",
   "metadata": {},
   "outputs": [
    {
     "name": "stdout",
     "output_type": "stream",
     "text": [
      "5050\n"
     ]
    }
   ],
   "source": [
    "result = 0\n",
    "for a in range(1, 101):\n",
    "    result = result + a\n",
    "\n",
    "print(result)"
   ]
  },
  {
   "cell_type": "code",
   "execution_count": 37,
   "id": "959c8a80-43a3-45ed-97ab-885ac5da9552",
   "metadata": {},
   "outputs": [
    {
     "name": "stdout",
     "output_type": "stream",
     "text": [
      "2550\n"
     ]
    }
   ],
   "source": [
    "result = 0\n",
    "for i in range(1, 101):\n",
    "    if i % 2 == 0:\n",
    "        result = result + i\n",
    "print(result)"
   ]
  },
  {
   "cell_type": "code",
   "execution_count": 43,
   "id": "e2f5166b-82e8-4047-9834-b3fd7a466b48",
   "metadata": {},
   "outputs": [
    {
     "name": "stdout",
     "output_type": "stream",
     "text": [
      "34243224702511976248246432895208185975118675053719198827915654463488000000000000\n"
     ]
    }
   ],
   "source": [
    "result = 1\n",
    "for i in range(1, 101):\n",
    "    if i % 2 == 1:\n",
    "        continue\n",
    "    \n",
    "    result = result  * i\n",
    "\n",
    "print(result)"
   ]
  },
  {
   "cell_type": "code",
   "execution_count": 55,
   "id": "355789c7-1c2a-492d-b6fd-2032291ec3a6",
   "metadata": {},
   "outputs": [
    {
     "name": "stdout",
     "output_type": "stream",
     "text": [
      "1\n",
      "3\n",
      "6\n",
      "10\n",
      "15\n",
      "21\n",
      "28\n",
      "36\n",
      "45\n",
      "55\n",
      "66\n",
      "78\n",
      "91\n",
      "105\n"
     ]
    }
   ],
   "source": [
    "result = 0\n",
    "for i in range(1, 101):\n",
    "    result = result + i\n",
    "    print(result)\n",
    "    if result > 100:\n",
    "        break\n",
    "        \n"
   ]
  },
  {
   "cell_type": "code",
   "execution_count": 56,
   "id": "4cd7f490-a3d9-43ea-acf0-57f79e9bf9c7",
   "metadata": {},
   "outputs": [
    {
     "name": "stdout",
     "output_type": "stream",
     "text": [
      "0\t1\t2\t3\t4\t5\t"
     ]
    }
   ],
   "source": [
    "for i in [0,1,2,3,4,5]:\n",
    "    print(i, end='\\t')"
   ]
  },
  {
   "cell_type": "code",
   "execution_count": 92,
   "id": "9cc2056d-c1bf-4d88-ae26-6ddd575021d3",
   "metadata": {},
   "outputs": [],
   "source": [
    "import json\n",
    "import numpy as np\n",
    "import pandas as pd"
   ]
  },
  {
   "cell_type": "code",
   "execution_count": 107,
   "id": "faa1caa3-f415-4275-a148-5035be20eb1b",
   "metadata": {},
   "outputs": [],
   "source": [
    "color = {'apl':'red','ban':'yel','pch':'pik'}"
   ]
  },
  {
   "cell_type": "code",
   "execution_count": 109,
   "id": "3c3a7241-9c11-4284-b9ec-2611ed8fc860",
   "metadata": {},
   "outputs": [
    {
     "name": "stdout",
     "output_type": "stream",
     "text": [
      "0 red\n",
      "1 yel\n",
      "2 pik\n"
     ]
    }
   ],
   "source": [
    "for i, k in enumerate(color.values()) :\n",
    "\tprint(i, k)"
   ]
  },
  {
   "cell_type": "code",
   "execution_count": 110,
   "id": "b0b01f0e-aa57-4122-bfbf-f166f6f5788a",
   "metadata": {},
   "outputs": [
    {
     "name": "stdout",
     "output_type": "stream",
     "text": [
      "[0, 4, 16, 36, 64]\n"
     ]
    }
   ],
   "source": [
    "\n",
    "# list_variable = [x for x in iterable if condition ] 형식\n",
    "numbers = range(10)\n",
    "new_list = []\n",
    "for n in numbers:\n",
    "\tif n%2 ==0:\n",
    "\t\tnew_list.append(n**2)\n",
    "print(new_list)"
   ]
  },
  {
   "cell_type": "code",
   "execution_count": 113,
   "id": "35e16f0d-869b-40ff-87d2-54457ccbd380",
   "metadata": {},
   "outputs": [
    {
     "name": "stderr",
     "output_type": "stream",
     "text": [
      "  0%|                                                                                        | 0/90000 [00:00<?, ?it/s]\n"
     ]
    },
    {
     "ename": "AttributeError",
     "evalue": "'int' object has no attribute 'append'",
     "output_type": "error",
     "traceback": [
      "\u001b[1;31m---------------------------------------------------------------------------\u001b[0m",
      "\u001b[1;31mAttributeError\u001b[0m                            Traceback (most recent call last)",
      "\u001b[1;32m<ipython-input-113-a4708acc470b>\u001b[0m in \u001b[0;36m<module>\u001b[1;34m\u001b[0m\n\u001b[0;32m      1\u001b[0m \u001b[1;32mfrom\u001b[0m \u001b[0mtqdm\u001b[0m \u001b[1;32mimport\u001b[0m \u001b[0mtqdm\u001b[0m\u001b[1;33m\u001b[0m\u001b[1;33m\u001b[0m\u001b[0m\n\u001b[0;32m      2\u001b[0m \u001b[1;32mfor\u001b[0m \u001b[0mi\u001b[0m \u001b[1;32min\u001b[0m \u001b[0mtqdm\u001b[0m\u001b[1;33m(\u001b[0m\u001b[0mrange\u001b[0m\u001b[1;33m(\u001b[0m\u001b[1;36m90000\u001b[0m\u001b[1;33m)\u001b[0m\u001b[1;33m)\u001b[0m\u001b[1;33m:\u001b[0m\u001b[1;33m\u001b[0m\u001b[1;33m\u001b[0m\u001b[0m\n\u001b[1;32m----> 3\u001b[1;33m         \u001b[0mresult\u001b[0m\u001b[1;33m.\u001b[0m\u001b[0mappend\u001b[0m\u001b[1;33m(\u001b[0m\u001b[0mi\u001b[0m\u001b[1;33m)\u001b[0m\u001b[1;33m\u001b[0m\u001b[1;33m\u001b[0m\u001b[0m\n\u001b[0m",
      "\u001b[1;31mAttributeError\u001b[0m: 'int' object has no attribute 'append'"
     ]
    }
   ],
   "source": [
    "from tqdm import tqdm\n",
    "for i in tqdm(range(90000)):\n",
    "\tresult.append(i)"
   ]
  },
  {
   "cell_type": "code",
   "execution_count": 118,
   "id": "378cd63d-5c97-4e29-bfb0-82a57b763040",
   "metadata": {},
   "outputs": [],
   "source": [
    "from tqdm import trange\n",
    "for i in range(900):\n",
    "    pass"
   ]
  },
  {
   "cell_type": "code",
   "execution_count": 125,
   "id": "9edfc36f-61e9-4f33-9fa3-e38a4fc12354",
   "metadata": {},
   "outputs": [
    {
     "name": "stderr",
     "output_type": "stream",
     "text": [
      "100%|████████████████████████████████████████████████████████████████████████████████████| 4/4 [00:01<00:00,  3.82it/s]"
     ]
    },
    {
     "name": "stdout",
     "output_type": "stream",
     "text": [
      "abcd\n"
     ]
    },
    {
     "name": "stderr",
     "output_type": "stream",
     "text": [
      "\n"
     ]
    }
   ],
   "source": [
    "from tqdm import tqdm \n",
    "import time\n",
    "\n",
    "text = \"\" \n",
    "for char in tqdm([\"a\", \"b\", \"c\", \"d\"]): \n",
    "\ttime.sleep(0.25) \n",
    "\ttext = text + char\n",
    "print(text)"
   ]
  },
  {
   "cell_type": "code",
   "execution_count": 137,
   "id": "33ad95f0-b313-4e58-a75e-8b4dbbfa7e55",
   "metadata": {},
   "outputs": [
    {
     "name": "stdout",
     "output_type": "stream",
     "text": [
      "99\n"
     ]
    }
   ],
   "source": [
    "def text2():\n",
    "    for i in trange(100):\n",
    "        time.sleep(0.01)\n",
    "        print(i)\n",
    "print(i)"
   ]
  },
  {
   "cell_type": "code",
   "execution_count": 135,
   "id": "e7c6e97a-0f81-4799-9635-c0ae3b7ca221",
   "metadata": {},
   "outputs": [
    {
     "data": {
      "text/plain": [
       "<function __main__.text2()>"
      ]
     },
     "execution_count": 135,
     "metadata": {},
     "output_type": "execute_result"
    }
   ],
   "source": [
    "text2"
   ]
  },
  {
   "cell_type": "code",
   "execution_count": null,
   "id": "a9e3302a-eaad-47b1-91ff-ab5a50cedf5e",
   "metadata": {},
   "outputs": [],
   "source": []
  }
 ],
 "metadata": {
  "kernelspec": {
   "display_name": "Python 3",
   "language": "python",
   "name": "python3"
  },
  "language_info": {
   "codemirror_mode": {
    "name": "ipython",
    "version": 3
   },
   "file_extension": ".py",
   "mimetype": "text/x-python",
   "name": "python",
   "nbconvert_exporter": "python",
   "pygments_lexer": "ipython3",
   "version": "3.8.8"
  }
 },
 "nbformat": 4,
 "nbformat_minor": 5
}
