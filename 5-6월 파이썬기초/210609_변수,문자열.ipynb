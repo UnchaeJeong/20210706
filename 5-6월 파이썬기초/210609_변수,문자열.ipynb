{
 "cells": [
  {
   "cell_type": "markdown",
   "metadata": {},
   "source": [
    "---\n",
    "# 목차 \n",
    ">1. 변수    \n",
    "2. 화면 입출력   \n",
    "3. 기본 자료형    \n",
    "4. 탈출문자    \n",
    "5. 문자열 인덱싱, 자르기    \n",
    "6. 공백 대체 문자    \n",
    "7. 날짜    \n",
    "8. f-strings    \n",
    "\n",
    "---"
   ]
  },
  {
   "cell_type": "markdown",
   "metadata": {},
   "source": [
    "# 변수"
   ]
  },
  {
   "cell_type": "markdown",
   "metadata": {},
   "source": [
    "## 변수"
   ]
  },
  {
   "cell_type": "code",
   "execution_count": 1,
   "metadata": {},
   "outputs": [
    {
     "data": {
      "text/plain": [
       "78.5"
      ]
     },
     "execution_count": 1,
     "metadata": {},
     "output_type": "execute_result"
    }
   ],
   "source": [
    "5*5*3.14"
   ]
  },
  {
   "cell_type": "code",
   "execution_count": 2,
   "metadata": {},
   "outputs": [
    {
     "data": {
      "text/plain": [
       "113.04"
      ]
     },
     "execution_count": 2,
     "metadata": {},
     "output_type": "execute_result"
    }
   ],
   "source": [
    "6 * 6 * 3.14"
   ]
  },
  {
   "cell_type": "code",
   "execution_count": 3,
   "metadata": {},
   "outputs": [],
   "source": [
    "radius = 5"
   ]
  },
  {
   "cell_type": "code",
   "execution_count": 4,
   "metadata": {},
   "outputs": [],
   "source": [
    "area = radius * radius * 3.14"
   ]
  },
  {
   "cell_type": "code",
   "execution_count": 5,
   "metadata": {},
   "outputs": [
    {
     "data": {
      "text/plain": [
       "78.5"
      ]
     },
     "execution_count": 5,
     "metadata": {},
     "output_type": "execute_result"
    }
   ],
   "source": [
    "area"
   ]
  },
  {
   "cell_type": "markdown",
   "metadata": {},
   "source": [
    "## 변수 이름 만드는 규칙"
   ]
  },
  {
   "cell_type": "markdown",
   "metadata": {},
   "source": [
    "### 변수의 이름은 문자, 숫자 밑줄 문자를 포함.\n",
    ">변수는 숫자로 시작할 수 없음    \n",
    " 변수에 사용하는 문자는 대소문자를 구분     \n",
    " 공백, 문장부호, 특수문자 등은 사용할 수 없음     \n",
    " 파이썬의 예약어는 사용할 수 없음    \n",
    " 사용 중인 내장 함수나 모듈 이름등은 사용 지양    "
   ]
  },
  {
   "cell_type": "markdown",
   "metadata": {},
   "source": [
    "## 변수에 값 할당"
   ]
  },
  {
   "cell_type": "markdown",
   "metadata": {},
   "source": [
    "### 할당 연산자 \" = \""
   ]
  },
  {
   "cell_type": "code",
   "execution_count": 6,
   "metadata": {},
   "outputs": [
    {
     "name": "stdout",
     "output_type": "stream",
     "text": [
      "10\n"
     ]
    }
   ],
   "source": [
    "a = 10\n",
    "print(a)"
   ]
  },
  {
   "cell_type": "markdown",
   "metadata": {},
   "source": [
    "## id()"
   ]
  },
  {
   "cell_type": "markdown",
   "metadata": {},
   "source": [
    "### 객체의 주소 값을 알려줌"
   ]
  },
  {
   "cell_type": "code",
   "execution_count": 8,
   "metadata": {},
   "outputs": [
    {
     "name": "stdout",
     "output_type": "stream",
     "text": [
      "100\n"
     ]
    }
   ],
   "source": [
    "x = 100\n",
    "print(x)"
   ]
  },
  {
   "cell_type": "code",
   "execution_count": 9,
   "metadata": {},
   "outputs": [
    {
     "name": "stdout",
     "output_type": "stream",
     "text": [
      "140705650848656\n"
     ]
    }
   ],
   "source": [
    "print(id(x))\n",
    "# 결과는 변수 x의 값이 저장돼있는 컴퓨터 안의 메모리 공간의 주소이다. 그러므로 실행하는 컴퓨터마다 다르게 출력될 수 있다."
   ]
  },
  {
   "cell_type": "markdown",
   "metadata": {},
   "source": [
    "## 변수 삭제"
   ]
  },
  {
   "cell_type": "code",
   "execution_count": 10,
   "metadata": {},
   "outputs": [],
   "source": [
    "del x"
   ]
  },
  {
   "cell_type": "code",
   "execution_count": 11,
   "metadata": {},
   "outputs": [
    {
     "name": "stdout",
     "output_type": "stream",
     "text": [
      "10 20\n"
     ]
    }
   ],
   "source": [
    "a = 10\n",
    "b = 20\n",
    "print(a, b)"
   ]
  },
  {
   "cell_type": "code",
   "execution_count": 18,
   "metadata": {},
   "outputs": [
    {
     "name": "stdout",
     "output_type": "stream",
     "text": [
      "Variable   Type    Data/Info\n",
      "----------------------------\n",
      "radius     int     5\n"
     ]
    }
   ],
   "source": [
    "whos"
   ]
  },
  {
   "cell_type": "code",
   "execution_count": 20,
   "metadata": {},
   "outputs": [],
   "source": [
    "del  radius"
   ]
  },
  {
   "cell_type": "code",
   "execution_count": 21,
   "metadata": {},
   "outputs": [
    {
     "name": "stdout",
     "output_type": "stream",
     "text": [
      "Interactive namespace is empty.\n"
     ]
    }
   ],
   "source": [
    "whos"
   ]
  },
  {
   "cell_type": "markdown",
   "metadata": {},
   "source": [
    "### 다음 코드는 현재 커널의 모든 변수를 삭제하기 위한 구문이다. \n",
    "지금 아래의 코드를 작성하고 실행시킬 필요는 없다   "
   ]
  },
  {
   "cell_type": "code",
   "execution_count": 14,
   "metadata": {},
   "outputs": [],
   "source": [
    "for name in dir() :\n",
    "    if not name.startswith('_') :\n",
    "        del globals()[name]\n",
    "\n",
    "# globals()는 현재 커널에 선언돼있는 전역변수 목록을 출력해준다.\n",
    "# del은 변수를 삭제한다."
   ]
  },
  {
   "cell_type": "markdown",
   "metadata": {},
   "source": [
    "## 다중 변수 선언"
   ]
  },
  {
   "cell_type": "code",
   "execution_count": 22,
   "metadata": {},
   "outputs": [
    {
     "name": "stdout",
     "output_type": "stream",
     "text": [
      "30\n"
     ]
    }
   ],
   "source": [
    "a, b = 10, 20\n",
    "print(a + b)"
   ]
  },
  {
   "cell_type": "markdown",
   "metadata": {},
   "source": [
    "## 도움말 기능\n",
    "### help([x])"
   ]
  },
  {
   "cell_type": "code",
   "execution_count": 23,
   "metadata": {},
   "outputs": [
    {
     "name": "stdout",
     "output_type": "stream",
     "text": [
      "Help on built-in function print in module builtins:\n",
      "\n",
      "print(...)\n",
      "    print(value, ..., sep=' ', end='\\n', file=sys.stdout, flush=False)\n",
      "    \n",
      "    Prints the values to a stream, or to sys.stdout by default.\n",
      "    Optional keyword arguments:\n",
      "    file:  a file-like object (stream); defaults to the current sys.stdout.\n",
      "    sep:   string inserted between values, default a space.\n",
      "    end:   string appended after the last value, default a newline.\n",
      "    flush: whether to forcibly flush the stream.\n",
      "\n"
     ]
    }
   ],
   "source": [
    "help(print)"
   ]
  },
  {
   "cell_type": "markdown",
   "metadata": {},
   "source": [
    "# 2절. 화면 입출력\n",
    "\n",
    "## 사용자 입력 : input()"
   ]
  },
  {
   "cell_type": "code",
   "execution_count": 30,
   "metadata": {},
   "outputs": [],
   "source": [
    "# first_number = input('첫 번째 숫자:')"
   ]
  },
  {
   "cell_type": "code",
   "execution_count": 31,
   "metadata": {},
   "outputs": [],
   "source": [
    "# second_number = input('두 번째 숫자:')"
   ]
  },
  {
   "cell_type": "code",
   "execution_count": 32,
   "metadata": {},
   "outputs": [],
   "source": [
    "# print(int(first_number) + int(second_number))"
   ]
  },
  {
   "cell_type": "markdown",
   "metadata": {},
   "source": [
    "## 화면으로의 출력 : print()"
   ]
  },
  {
   "cell_type": "code",
   "execution_count": 33,
   "metadata": {},
   "outputs": [
    {
     "name": "stdout",
     "output_type": "stream",
     "text": [
      "Hello World\n"
     ]
    }
   ],
   "source": [
    "print('Hello', 'World')"
   ]
  },
  {
   "cell_type": "code",
   "execution_count": 34,
   "metadata": {},
   "outputs": [
    {
     "name": "stdout",
     "output_type": "stream",
     "text": [
      "Hello,World\n"
     ]
    }
   ],
   "source": [
    "print('Hello', 'World', sep = ',')\n"
   ]
  },
  {
   "cell_type": "code",
   "execution_count": 35,
   "metadata": {},
   "outputs": [
    {
     "name": "stdout",
     "output_type": "stream",
     "text": [
      "Hello\tWorld\n"
     ]
    }
   ],
   "source": [
    "print('Hello', end = '\\t')\n",
    "print('World')\n"
   ]
  },
  {
   "cell_type": "markdown",
   "metadata": {},
   "source": [
    "# 3절. 기본 자료형\n",
    "\n",
    "대부분의 프로그래밍 언어들은 명시적으로 자료형의 개념을 포함하고 있으며, 변수를 선언할 때 자료형을 지정하는 키워드가 존재한다. 예를 들면 다음과 같다.\n",
    "- 정수 자료형을 지정하는 키워드는 int\n",
    "- 부동소수점 자료형을 지정하는 float 또는 double\n",
    "- 논리 자료형을 지정하는 boolean\n",
    "- 문자 한 개 자료형을 지정하는 char\n",
    "- 문자와 숫자로 이루어진 문자열 자료형을 지정하는 string\n",
    "\n",
    "파이썬도 자료형의 개념을 포함하고 있다. 그러나 파이썬은 변수를 선언할 때 자료형을 지정하는 키워드가 존재하지는 않는다. 파이썬의 기본 자료형은 숫자형, 문자형, 논리형이 있다."
   ]
  },
  {
   "cell_type": "markdown",
   "metadata": {},
   "source": [
    "## 숫자형\n",
    "\n",
    "파이썬의 숫자 유형은 정수, 실수, 복소수 형이 있다.\n",
    "\n",
    "## 1) 정수"
   ]
  },
  {
   "cell_type": "code",
   "execution_count": 23,
   "metadata": {},
   "outputs": [
    {
     "data": {
      "text/plain": [
       "int"
      ]
     },
     "execution_count": 23,
     "metadata": {},
     "output_type": "execute_result"
    }
   ],
   "source": [
    "type(2**31)"
   ]
  },
  {
   "cell_type": "code",
   "execution_count": 24,
   "metadata": {},
   "outputs": [
    {
     "data": {
      "text/plain": [
       "9223372036854775807"
      ]
     },
     "execution_count": 24,
     "metadata": {},
     "output_type": "execute_result"
    }
   ],
   "source": [
    "import sys\n",
    "sys.maxsize"
   ]
  },
  {
   "cell_type": "code",
   "execution_count": 25,
   "metadata": {},
   "outputs": [
    {
     "data": {
      "text/plain": [
       "int"
      ]
     },
     "execution_count": 25,
     "metadata": {},
     "output_type": "execute_result"
    }
   ],
   "source": [
    "type(sys.maxsize)"
   ]
  },
  {
   "cell_type": "code",
   "execution_count": 26,
   "metadata": {},
   "outputs": [
    {
     "data": {
      "text/plain": [
       "int"
      ]
     },
     "execution_count": 26,
     "metadata": {},
     "output_type": "execute_result"
    }
   ],
   "source": [
    "type(sys.maxsize + 1)"
   ]
  },
  {
   "cell_type": "markdown",
   "metadata": {},
   "source": [
    "## 실수\n",
    "\n",
    "허수를 포함하는 복소수는 complex형이다. 허수는 제곱해서 -1이 되는 수를 의미한다. 파이썬에서는 허수를 표현하기 위해 문자 j를 사용한다."
   ]
  },
  {
   "cell_type": "code",
   "execution_count": 27,
   "metadata": {},
   "outputs": [
    {
     "data": {
      "text/plain": [
       "complex"
      ]
     },
     "execution_count": 27,
     "metadata": {},
     "output_type": "execute_result"
    }
   ],
   "source": [
    "d = 3 + 2j\n",
    "type(d)"
   ]
  },
  {
   "cell_type": "code",
   "execution_count": 28,
   "metadata": {},
   "outputs": [
    {
     "name": "stdout",
     "output_type": "stream",
     "text": [
      "(-1+0j)\n"
     ]
    }
   ],
   "source": [
    "d = 1j\n",
    "print(d ** 2)"
   ]
  },
  {
   "cell_type": "markdown",
   "metadata": {},
   "source": [
    "## 최근 표현식 변수 _\n",
    "\n",
    "우리가 정의하지 않아도 사용할 수 있는 특별한 변수가 있다 그것은 \\_ 변수이다. 이것을 최근 표현식 변수라고 하고, \\_ 변수에는 마지막으로 인쇄된 결과가 변수 \\_ 에 지정된다"
   ]
  },
  {
   "cell_type": "code",
   "execution_count": 29,
   "metadata": {},
   "outputs": [
    {
     "data": {
      "text/plain": [
       "30"
      ]
     },
     "execution_count": 29,
     "metadata": {},
     "output_type": "execute_result"
    }
   ],
   "source": [
    "a = 10\n",
    "b = 20\n",
    "a + b"
   ]
  },
  {
   "cell_type": "code",
   "execution_count": 30,
   "metadata": {},
   "outputs": [
    {
     "name": "stdout",
     "output_type": "stream",
     "text": [
      "130\n"
     ]
    }
   ],
   "source": [
    "c = 100\n",
    "print(c + _)   # print(c + (a + b)) 와 같음"
   ]
  },
  {
   "cell_type": "code",
   "execution_count": 31,
   "metadata": {},
   "outputs": [
    {
     "data": {
      "text/plain": [
       "30"
      ]
     },
     "execution_count": 31,
     "metadata": {},
     "output_type": "execute_result"
    }
   ],
   "source": [
    "_"
   ]
  },
  {
   "cell_type": "code",
   "execution_count": 32,
   "metadata": {},
   "outputs": [
    {
     "data": {
      "text/plain": [
       "30"
      ]
     },
     "execution_count": 32,
     "metadata": {},
     "output_type": "execute_result"
    }
   ],
   "source": [
    "c = 2 + 3 + 4\n",
    "_"
   ]
  },
  {
   "cell_type": "markdown",
   "metadata": {},
   "source": [
    "## 문자형\n",
    "\n",
    "### 문자형의 표현"
   ]
  },
  {
   "cell_type": "code",
   "execution_count": 33,
   "metadata": {},
   "outputs": [
    {
     "name": "stdout",
     "output_type": "stream",
     "text": [
      "JinKyoung 서울시 강남구\n"
     ]
    }
   ],
   "source": [
    "name = \"JinKyoung\"\n",
    "address = '서울시 강남구'\n",
    "print(name, address)"
   ]
  },
  {
   "cell_type": "code",
   "execution_count": 41,
   "metadata": {},
   "outputs": [],
   "source": [
    "# a = input('학년 :')\n",
    "# b = input('이름 :')\n",
    "# c = input('주소 :')\n",
    "# d = input('email :')"
   ]
  },
  {
   "cell_type": "code",
   "execution_count": 43,
   "metadata": {},
   "outputs": [],
   "source": [
    "# print(a)\n",
    "# print(b)\n",
    "# print(c)\n",
    "# print(d)"
   ]
  },
  {
   "cell_type": "markdown",
   "metadata": {},
   "source": [
    "### 여러 줄 문자 표현\n",
    "\n",
    "여러줄의 문자열을 사용할 때는 겹따옴표 3개 (\"\"\") 혹은 홑따옴표 3개 (''')를 사용한다."
   ]
  },
  {
   "cell_type": "code",
   "execution_count": 37,
   "metadata": {},
   "outputs": [
    {
     "name": "stdout",
     "output_type": "stream",
     "text": [
      "이렇게 작성하면\n",
      "줄 바꿈도 그대로 적용해서\n",
      "여러 줄의 문자를 작성할 수 있다.\n"
     ]
    }
   ],
   "source": [
    "text = '''이렇게 작성하면\n",
    "줄 바꿈도 그대로 적용해서\n",
    "여러 줄의 문자를 작성할 수 있다.'''\n",
    "print(text)"
   ]
  },
  {
   "cell_type": "markdown",
   "metadata": {},
   "source": [
    "## 소스코드 줄 바꿈\n",
    "\n",
    "코드에서 라인의 맨 마지막에 있는 역슬래시( ' \\ ' )는 코드를 줄 바꿈 하겠다는 의미이다.\n",
    "\n",
    "## 탈출 문자 (Escape Character)\n",
    "\n",
    "'\\n' 처럼 문자열 내에서 역슬래시와 같이 사용되어 특별한 의미를 갖는 문자들을 탈출 문자라고 한다."
   ]
  },
  {
   "cell_type": "code",
   "execution_count": 38,
   "metadata": {},
   "outputs": [
    {
     "name": "stdout",
     "output_type": "stream",
     "text": [
      "Hello\n",
      "World\n"
     ]
    }
   ],
   "source": [
    "print('Hello\\nWorld')"
   ]
  },
  {
   "cell_type": "markdown",
   "metadata": {},
   "source": [
    "## 문자열 연결하기"
   ]
  },
  {
   "cell_type": "code",
   "execution_count": 41,
   "metadata": {},
   "outputs": [
    {
     "data": {
      "text/plain": [
       "'HelloWorld'"
      ]
     },
     "execution_count": 41,
     "metadata": {},
     "output_type": "execute_result"
    }
   ],
   "source": [
    "'Hello' + 'World'"
   ]
  },
  {
   "cell_type": "code",
   "execution_count": 42,
   "metadata": {},
   "outputs": [
    {
     "name": "stdout",
     "output_type": "stream",
     "text": [
      "\tHello\tHello\tHello\tHello\tHello\n"
     ]
    }
   ],
   "source": [
    "print(5 * '\\tHello')    # 탈출문자도 반복된다"
   ]
  },
  {
   "cell_type": "markdown",
   "metadata": {},
   "source": [
    "## 문자열 인덱싱\n",
    "\n",
    "파이썬의 인덱스는 항상 0부터 시작한다. 그러므로 문자열은 첫 문자의 인덱스가 0이다. 음수는 맨 뒤의 문자부터 의미한다.\n",
    "\n",
    "인덱스를 벗어나느 참조는 오류를 발생시킨다."
   ]
  },
  {
   "cell_type": "code",
   "execution_count": 43,
   "metadata": {},
   "outputs": [
    {
     "data": {
      "text/plain": [
       "'P'"
      ]
     },
     "execution_count": 43,
     "metadata": {},
     "output_type": "execute_result"
    }
   ],
   "source": [
    "'Python'[0]"
   ]
  },
  {
   "cell_type": "code",
   "execution_count": 44,
   "metadata": {},
   "outputs": [
    {
     "data": {
      "text/plain": [
       "'h'"
      ]
     },
     "execution_count": 44,
     "metadata": {},
     "output_type": "execute_result"
    }
   ],
   "source": [
    "'Python'[3]"
   ]
  },
  {
   "cell_type": "code",
   "execution_count": 45,
   "metadata": {},
   "outputs": [
    {
     "data": {
      "text/plain": [
       "'n'"
      ]
     },
     "execution_count": 45,
     "metadata": {},
     "output_type": "execute_result"
    }
   ],
   "source": [
    "'Python'[-1]"
   ]
  },
  {
   "cell_type": "markdown",
   "metadata": {},
   "source": [
    "## 문자열 자르기\n",
    "\n",
    "문자열\\[from : to\\]"
   ]
  },
  {
   "cell_type": "markdown",
   "metadata": {},
   "source": [
    "## raw 문자열\n",
    "\n",
    "문자열 앞에 r을 붙여 raw 문자열을 선언해 사용하기도 한다. r을 붙이면 역슬래시 문자를 해석하지 않고 남겨둔다. 탈출 문자를 사용하지 않고 역슬래시 등의 문자를 그대로 표현해서 사용할 때 유용하다. 특히 정규표현식과 같은 곳에 유용하다. 특히 정규표현식과 같은 곳에 유용하다."
   ]
  },
  {
   "cell_type": "code",
   "execution_count": 46,
   "metadata": {},
   "outputs": [
    {
     "name": "stdout",
     "output_type": "stream",
     "text": [
      "['010-2345-6789']\n"
     ]
    }
   ],
   "source": [
    "import re\n",
    "data = \"이름 : 홍길동, 주소 : 서울시, 전화번호 010-2345-6789, 특징 : 동해번쩍서해번쩍\"\n",
    "phone_pattern = r'[\\d]{3,4}-[\\d]{4}-[\\d]{4}'\n",
    "phone = re.findall(phone_pattern, data)\n",
    "print(phone)"
   ]
  },
  {
   "cell_type": "markdown",
   "metadata": {},
   "source": [
    "## 문자열을 다루는 함수\n",
    "\n",
    "### split()"
   ]
  },
  {
   "cell_type": "code",
   "execution_count": 47,
   "metadata": {},
   "outputs": [
    {
     "data": {
      "text/plain": [
       "'Python'"
      ]
     },
     "execution_count": 47,
     "metadata": {},
     "output_type": "execute_result"
    }
   ],
   "source": [
    "temp = 'Python is easy'\n",
    "lst = temp.split()\n",
    "lst[0]"
   ]
  },
  {
   "cell_type": "code",
   "execution_count": 49,
   "metadata": {},
   "outputs": [
    {
     "data": {
      "text/plain": [
       "['python', 'java', 'R', 'sas']"
      ]
     },
     "execution_count": 49,
     "metadata": {},
     "output_type": "execute_result"
    }
   ],
   "source": [
    "temp2 = 'python.java.R.sas'\n",
    "temp2.split('.')"
   ]
  },
  {
   "cell_type": "markdown",
   "metadata": {},
   "source": [
    "### join()"
   ]
  },
  {
   "cell_type": "code",
   "execution_count": 51,
   "metadata": {},
   "outputs": [
    {
     "data": {
      "text/plain": [
       "'Python,java,R,SAS'"
      ]
     },
     "execution_count": 51,
     "metadata": {},
     "output_type": "execute_result"
    }
   ],
   "source": [
    "temp3 = ['Python','java','R','SAS']\n",
    "','.join(temp3)"
   ]
  },
  {
   "cell_type": "code",
   "execution_count": 52,
   "metadata": {},
   "outputs": [
    {
     "data": {
      "text/plain": [
       "5"
      ]
     },
     "execution_count": 52,
     "metadata": {},
     "output_type": "execute_result"
    }
   ],
   "source": [
    "a = 'HelloWorld'\n",
    "a.index('W')"
   ]
  },
  {
   "cell_type": "markdown",
   "metadata": {},
   "source": [
    "## 논리형\n",
    "\n",
    "파이썬의 논리형은 True 또는 False 값을 갖는다."
   ]
  },
  {
   "cell_type": "code",
   "execution_count": 53,
   "metadata": {},
   "outputs": [
    {
     "name": "stdout",
     "output_type": "stream",
     "text": [
      "<class 'bool'>\n"
     ]
    }
   ],
   "source": [
    "a = True\n",
    "print(type(a))"
   ]
  },
  {
   "cell_type": "markdown",
   "metadata": {},
   "source": [
    "### FALSE인 경우\n",
    "\n",
    "조건을 비교하기 위해 반드시 논리형만 필요한 것은 아니다.\n",
    "\n",
    "정수형의 경우 0, 실수는 0.0 복소수는 0+0j 문자열이 \"\" or ''이면 false로 판단한다.\n",
    "\n",
    "False로 판단되는 값들\n",
    "- None\n",
    "- False\n",
    "- 숫자 타입 0에 해당하는 것\n",
    "- 빈 문자\n",
    "- 빈 튜플 또는 리스트\n",
    "- 빈 딕셔너리\n"
   ]
  },
  {
   "cell_type": "markdown",
   "metadata": {},
   "source": [
    "## 자료형 확인 및 변환\n",
    "\n",
    "데이터가 어떤 자료형인지 확인하거나 다른 자료형으로 변환할 수 있다.\n",
    "\n",
    "- type() : 자료형 확인\n",
    "- int() : 정수형으로 변환\n",
    "- float() : 실수형으로 변환\n",
    "- str() : 문자형으로 변환\n",
    "- bool() : 논리형으로 변환"
   ]
  },
  {
   "cell_type": "code",
   "execution_count": 54,
   "metadata": {},
   "outputs": [
    {
     "name": "stdout",
     "output_type": "stream",
     "text": [
      "홍길동님의 나이는 20살 입니다.\n"
     ]
    }
   ],
   "source": [
    "name, age = '홍길동', 20\n",
    "print(name, '님의 나이는 ', age, '살 입니다.', sep = '')"
   ]
  },
  {
   "cell_type": "code",
   "execution_count": 57,
   "metadata": {},
   "outputs": [
    {
     "data": {
      "text/plain": [
       "'one two'"
      ]
     },
     "execution_count": 57,
     "metadata": {},
     "output_type": "execute_result"
    }
   ],
   "source": [
    "'%s %s' %('one','two')"
   ]
  },
  {
   "cell_type": "code",
   "execution_count": 58,
   "metadata": {},
   "outputs": [
    {
     "data": {
      "text/plain": [
       "'one two'"
      ]
     },
     "execution_count": 58,
     "metadata": {},
     "output_type": "execute_result"
    }
   ],
   "source": [
    "'{} {}'.format('one','two')"
   ]
  },
  {
   "cell_type": "code",
   "execution_count": 59,
   "metadata": {},
   "outputs": [
    {
     "name": "stdout",
     "output_type": "stream",
     "text": [
      "홍길동님의 나이는 20살 입니다.\n"
     ]
    }
   ],
   "source": [
    "name, age = '홍길동', 20\n",
    "print('{}님의 나이는 {}살 입니다.'.format(name, age))"
   ]
  },
  {
   "cell_type": "markdown",
   "metadata": {},
   "source": [
    "\n",
    "### 포맷 순서 지정"
   ]
  },
  {
   "cell_type": "code",
   "execution_count": 63,
   "metadata": {},
   "outputs": [
    {
     "name": "stdout",
     "output_type": "stream",
     "text": [
      "출력 : 10, 20, 30\n"
     ]
    }
   ],
   "source": [
    "a, b, c = 10, 20, 30\n",
    "print('출력 : {}, {}, {}'.format(a,b,c))"
   ]
  },
  {
   "cell_type": "code",
   "execution_count": 64,
   "metadata": {},
   "outputs": [
    {
     "name": "stdout",
     "output_type": "stream",
     "text": [
      "출력 : 30, 20, 10\n"
     ]
    }
   ],
   "source": [
    "print('출력 : {2}, {1}, {0}'.format(a,b,c))"
   ]
  },
  {
   "cell_type": "markdown",
   "metadata": {},
   "source": [
    "### 숫자 출력"
   ]
  },
  {
   "cell_type": "code",
   "execution_count": 65,
   "metadata": {},
   "outputs": [
    {
     "name": "stdout",
     "output_type": "stream",
     "text": [
      "출력 : [12345], [     12345], [12345]\n"
     ]
    }
   ],
   "source": [
    "a = 12345\n",
    "print('출력 : [{}], [{:10}], [{:3}]'.format(a,a,a))"
   ]
  },
  {
   "cell_type": "code",
   "execution_count": 66,
   "metadata": {},
   "outputs": [
    {
     "name": "stdout",
     "output_type": "stream",
     "text": [
      "출력 : [12345],[12345.000000],[11000000111001],[30071],[3039]\n"
     ]
    }
   ],
   "source": [
    "print('출력 : [{:d}],[{:f}],[{:b}],[{:o}],[{:x}]'.format(a,a,a,a,a))"
   ]
  },
  {
   "cell_type": "code",
   "execution_count": 67,
   "metadata": {},
   "outputs": [
    {
     "name": "stdout",
     "output_type": "stream",
     "text": [
      "출력 : [12345.123456789],[12345.123457],[   12345.123457],[  12345.12],[    12345.1234567890]\n"
     ]
    }
   ],
   "source": [
    "a = 12345.123456789\n",
    "print('출력 : [{}],[{:f}],[{:15f}],[{:10.2f}],[{:20.10f}]'\\\n",
    "    .format(a,a,a,a,a))\n"
   ]
  },
  {
   "cell_type": "markdown",
   "metadata": {},
   "source": [
    "## 공백 대체 문자"
   ]
  },
  {
   "cell_type": "code",
   "execution_count": 68,
   "metadata": {},
   "outputs": [
    {
     "name": "stdout",
     "output_type": "stream",
     "text": [
      "출력 : $$$$$$$$10, Hello***************, Hello_____\n"
     ]
    }
   ],
   "source": [
    "a = 10\n",
    "b = 'Hello'\n",
    "print('출력 : {:$>10}, {:*<20}, {:_<10.5s}'.format(a,b,b))"
   ]
  },
  {
   "cell_type": "code",
   "execution_count": 69,
   "metadata": {},
   "outputs": [
    {
     "name": "stdout",
     "output_type": "stream",
     "text": [
      "출력 : [00123], [-0123]\n"
     ]
    }
   ],
   "source": [
    "# 숫자 유형의 경우 크기 앞에 0을 붙이면 남는 자리를 0으로 채워준다. 음수의 경우에는 맨 앞에 -가 표시되며, 부호 표시도 전체 자릿수에 포함된다.\n",
    "a = 123\n",
    "b = -123\n",
    "print('출력 : [{:05}], [{:05}]'.format(a, b))"
   ]
  },
  {
   "cell_type": "code",
   "execution_count": 70,
   "metadata": {},
   "outputs": [
    {
     "name": "stdout",
     "output_type": "stream",
     "text": [
      "출력 : [$$$$$$$$$a].[___123.123]\n"
     ]
    }
   ],
   "source": [
    "a = [10, 123.12345]\n",
    "print('출력 : [{[0]:$>10x}].[{[1]:_>10.3f}]'.format(a,a))"
   ]
  },
  {
   "cell_type": "code",
   "execution_count": 71,
   "metadata": {},
   "outputs": [
    {
     "name": "stdout",
     "output_type": "stream",
     "text": [
      "출력 : [      2.72]\n"
     ]
    }
   ],
   "source": [
    "a = 2.7182818284\n",
    "print('출력 : [{:{}{}.{}{}}]'.format(a, '>', 10, 2, 'f'))"
   ]
  },
  {
   "cell_type": "code",
   "execution_count": 72,
   "metadata": {},
   "outputs": [
    {
     "name": "stdout",
     "output_type": "stream",
     "text": [
      "출력 : [     +2.72]\n"
     ]
    }
   ],
   "source": [
    "print('출력 : [{:{dir}{sign}{width}.{precision}{fmt}}]'\\\n",
    "    .format(a,dir='>', sign='+', width=10, precision=2, fmt='f'))"
   ]
  },
  {
   "cell_type": "markdown",
   "metadata": {},
   "source": [
    "### 날짜 출력"
   ]
  },
  {
   "cell_type": "code",
   "execution_count": 73,
   "metadata": {},
   "outputs": [
    {
     "data": {
      "text/plain": [
       "time.struct_time(tm_year=2021, tm_mon=9, tm_mday=19, tm_hour=19, tm_min=9, tm_sec=51, tm_wday=6, tm_yday=262, tm_isdst=0)"
      ]
     },
     "execution_count": 73,
     "metadata": {},
     "output_type": "execute_result"
    }
   ],
   "source": [
    "from datetime import datetime\n",
    "from time import localtime\n",
    "now = localtime()\n",
    "now"
   ]
  },
  {
   "cell_type": "code",
   "execution_count": 74,
   "metadata": {},
   "outputs": [
    {
     "data": {
      "text/plain": [
       "datetime.datetime(2019, 3, 24, 0, 0)"
      ]
     },
     "execution_count": 74,
     "metadata": {},
     "output_type": "execute_result"
    }
   ],
   "source": [
    "date_object = datetime.strptime('24 March, 2019', '%d %B, %Y')\n",
    "date_object"
   ]
  },
  {
   "cell_type": "markdown",
   "metadata": {},
   "source": [
    "### 파이썬의 f-strings\n",
    "\n",
    "f-스트링은 문자열에 형식을 지정할 때 서식을 쉽게 만들 수 있도록 한다. 이것의 표현 방법은 f가 문자열 앞에 있고 그 값으로 대체 될 표현식을 중괄호로 포함하는 문자열 리터럴이다."
   ]
  },
  {
   "cell_type": "code",
   "execution_count": 80,
   "metadata": {},
   "outputs": [
    {
     "data": {
      "text/plain": [
       "'Hello, Eric. You are 23.'"
      ]
     },
     "execution_count": 80,
     "metadata": {},
     "output_type": "execute_result"
    }
   ],
   "source": [
    "name = 'Eric'\n",
    "age = 23\n",
    "f\"Hello, {name}. You are {age}.\""
   ]
  },
  {
   "cell_type": "code",
   "execution_count": 81,
   "metadata": {},
   "outputs": [
    {
     "data": {
      "text/plain": [
       "7"
      ]
     },
     "execution_count": 81,
     "metadata": {},
     "output_type": "execute_result"
    }
   ],
   "source": [
    "3 | 5"
   ]
  },
  {
   "cell_type": "code",
   "execution_count": 82,
   "metadata": {},
   "outputs": [
    {
     "data": {
      "text/plain": [
       "2"
      ]
     },
     "execution_count": 82,
     "metadata": {},
     "output_type": "execute_result"
    }
   ],
   "source": [
    "0 or {} or [] or 2"
   ]
  },
  {
   "cell_type": "code",
   "execution_count": 83,
   "metadata": {},
   "outputs": [
    {
     "data": {
      "text/plain": [
       "3"
      ]
     },
     "execution_count": 83,
     "metadata": {},
     "output_type": "execute_result"
    }
   ],
   "source": [
    "0 or {} or 3 or [] or 2"
   ]
  },
  {
   "cell_type": "code",
   "execution_count": null,
   "metadata": {},
   "outputs": [],
   "source": []
  }
 ],
 "metadata": {
  "kernelspec": {
   "display_name": "Python 3",
   "language": "python",
   "name": "python3"
  },
  "language_info": {
   "codemirror_mode": {
    "name": "ipython",
    "version": 3
   },
   "file_extension": ".py",
   "mimetype": "text/x-python",
   "name": "python",
   "nbconvert_exporter": "python",
   "pygments_lexer": "ipython3",
   "version": "3.8.8"
  },
  "metadata": {
   "interpreter": {
    "hash": "41ee98d3a22971112ca38fe99fa4b41152dcef85adf5662fffee372f20c4c3ad"
   }
  },
  "toc-autonumbering": true
 },
 "nbformat": 4,
 "nbformat_minor": 4
}
