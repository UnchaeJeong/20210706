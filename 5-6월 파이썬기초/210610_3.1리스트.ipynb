{
 "cells": [
  {
   "cell_type": "markdown",
   "metadata": {},
   "source": [
    "---\n",
    "# 목차\n",
    "\n",
    "\n",
    "---"
   ]
  },
  {
   "cell_type": "code",
   "execution_count": 2,
   "metadata": {},
   "outputs": [
    {
     "name": "stdout",
     "output_type": "stream",
     "text": [
      "True\n"
     ]
    }
   ],
   "source": [
    "a = False\n",
    "if not a :\n",
    "    print(True)\n",
    "else :\n",
    "    print(False)"
   ]
  },
  {
   "cell_type": "code",
   "execution_count": 3,
   "metadata": {},
   "outputs": [
    {
     "data": {
      "text/plain": [
       "False"
      ]
     },
     "execution_count": 3,
     "metadata": {},
     "output_type": "execute_result"
    }
   ],
   "source": [
    "'Hello' > 'World'"
   ]
  },
  {
   "cell_type": "markdown",
   "metadata": {},
   "source": [
    "위의 논리 연산자가 거짓인 이유는 아스키코드 상 대문자 h가 대문자 w보다 앞선 수이기 때문이다. 만약 첫 문자가 둘 다 대문자 h로 같다면, 그 다음 문자로 아스키코드 비교를 수행한다."
   ]
  },
  {
   "cell_type": "markdown",
   "metadata": {},
   "source": [
    "# 비트 연산자"
   ]
  },
  {
   "cell_type": "code",
   "execution_count": 7,
   "metadata": {},
   "outputs": [
    {
     "data": {
      "text/plain": [
       "5"
      ]
     },
     "execution_count": 7,
     "metadata": {},
     "output_type": "execute_result"
    }
   ],
   "source": [
    "11 >> 1"
   ]
  },
  {
   "cell_type": "code",
   "execution_count": 8,
   "metadata": {},
   "outputs": [
    {
     "data": {
      "text/plain": [
       "2"
      ]
     },
     "execution_count": 8,
     "metadata": {},
     "output_type": "execute_result"
    }
   ],
   "source": [
    "#   1011\n",
    "# & 0110\n",
    "#--------\n",
    "#   0010\n",
    "11 & 6"
   ]
  },
  {
   "cell_type": "code",
   "execution_count": 9,
   "metadata": {},
   "outputs": [
    {
     "data": {
      "text/plain": [
       "15"
      ]
     },
     "execution_count": 9,
     "metadata": {},
     "output_type": "execute_result"
    }
   ],
   "source": [
    "#   1011\n",
    "# | 0110\n",
    "#--------\n",
    "#   1111\n",
    "11 | 6"
   ]
  },
  {
   "cell_type": "code",
   "execution_count": 10,
   "metadata": {},
   "outputs": [
    {
     "data": {
      "text/plain": [
       "13"
      ]
     },
     "execution_count": 10,
     "metadata": {},
     "output_type": "execute_result"
    }
   ],
   "source": [
    "#   1011\n",
    "# ^ 0110      (다르면 1, 같으면 0 반환)\n",
    "#--------\n",
    "#   1101\n",
    "11 ^ 6"
   ]
  },
  {
   "cell_type": "code",
   "execution_count": 11,
   "metadata": {},
   "outputs": [
    {
     "data": {
      "text/plain": [
       "-12"
      ]
     },
     "execution_count": 11,
     "metadata": {},
     "output_type": "execute_result"
    }
   ],
   "source": [
    "~11"
   ]
  },
  {
   "cell_type": "code",
   "execution_count": 12,
   "metadata": {},
   "outputs": [
    {
     "data": {
      "text/plain": [
       "'0b1011'"
      ]
     },
     "execution_count": 12,
     "metadata": {},
     "output_type": "execute_result"
    }
   ],
   "source": [
    "bin(11)"
   ]
  },
  {
   "cell_type": "code",
   "execution_count": 13,
   "metadata": {},
   "outputs": [
    {
     "data": {
      "text/plain": [
       "'-0b1100'"
      ]
     },
     "execution_count": 13,
     "metadata": {},
     "output_type": "execute_result"
    }
   ],
   "source": [
    "bin(-12)"
   ]
  },
  {
   "cell_type": "code",
   "execution_count": 14,
   "metadata": {},
   "outputs": [
    {
     "data": {
      "text/plain": [
       "True"
      ]
     },
     "execution_count": 14,
     "metadata": {},
     "output_type": "execute_result"
    }
   ],
   "source": [
    "isinstance(10, int)"
   ]
  },
  {
   "cell_type": "code",
   "execution_count": 15,
   "metadata": {},
   "outputs": [
    {
     "data": {
      "text/plain": [
       "9.734"
      ]
     },
     "execution_count": 15,
     "metadata": {},
     "output_type": "execute_result"
    }
   ],
   "source": [
    "a = 3.14\n",
    "b = 2\n",
    "c = 3.1\n",
    "if isinstance(a, float) :\n",
    "    a = a * c\n",
    "else :\n",
    "    a = a * b\n",
    "a"
   ]
  },
  {
   "cell_type": "markdown",
   "metadata": {},
   "source": [
    "# 3장. 데이터 구조\n",
    "\n",
    "## 1절. 리스트\n",
    "\n",
    "### 리스트 만들기\n",
    "\n",
    "- 변수명 = \\[ ... \\] : 1차원 리스트\n",
    "- 변수명 = \\[ \\[ ... \\] , \\[ ... ] ] : 2차원 리스트\n",
    "- 변수명 = \\[ \\[ \\[ ... ], \\[ ... ] , ... ] , ... ] : 3차원 리스트"
   ]
  },
  {
   "cell_type": "code",
   "execution_count": 16,
   "metadata": {},
   "outputs": [
    {
     "name": "stdout",
     "output_type": "stream",
     "text": [
      "2317804423168\n",
      "2317804739760\n",
      "2317804739632\n",
      "2317804739696\n",
      "2317804739568\n",
      "2317804739760\n",
      "2317804739632\n",
      "2317804739696\n",
      "2317804739568\n"
     ]
    }
   ],
   "source": [
    "fruits = ['banana','apple', 'orange', 'grape']\n",
    "print(id(fruits))\n",
    "print(id(fruits[0]))\n",
    "print(id(fruits[1]))\n",
    "print(id(fruits[2]))\n",
    "print(id(fruits[3]))\n",
    "print(id('banana'))\n",
    "print(id('apple'))\n",
    "print(id('orange'))\n",
    "print(id('grape'))"
   ]
  },
  {
   "cell_type": "code",
   "execution_count": 61,
   "metadata": {},
   "outputs": [
    {
     "data": {
      "text/plain": [
       "'a'"
      ]
     },
     "execution_count": 61,
     "metadata": {},
     "output_type": "execute_result"
    }
   ],
   "source": [
    "fruits[1][1]"
   ]
  },
  {
   "cell_type": "code",
   "execution_count": 62,
   "metadata": {},
   "outputs": [
    {
     "data": {
      "text/plain": [
       "['banana', 'mango', 'orange', 'grape']"
      ]
     },
     "execution_count": 62,
     "metadata": {},
     "output_type": "execute_result"
    }
   ],
   "source": [
    "fruits[1] = 'mango'\n",
    "fruits"
   ]
  },
  {
   "cell_type": "code",
   "execution_count": 19,
   "metadata": {},
   "outputs": [
    {
     "name": "stdout",
     "output_type": "stream",
     "text": [
      "[[1, 2, 3, 4, 5], [10, 20, 30, 40, 50], [1, 3, 5, 7, 9], [2, 4, 6, 8, 10]]\n"
     ]
    }
   ],
   "source": [
    "number_2d = [[1,2,3,4,5],[10,20,30,40,50],[1,3,5,7,9],[2,4,6,8,10]]\n",
    "print(number_2d)"
   ]
  },
  {
   "cell_type": "code",
   "execution_count": 20,
   "metadata": {},
   "outputs": [
    {
     "data": {
      "text/plain": [
       "[0, 1, 2, 3, 4, 5, 6, 7, 8, 9]"
      ]
     },
     "execution_count": 20,
     "metadata": {},
     "output_type": "execute_result"
    }
   ],
   "source": [
    "list(range(10))"
   ]
  },
  {
   "cell_type": "code",
   "execution_count": 38,
   "metadata": {},
   "outputs": [
    {
     "name": "stdout",
     "output_type": "stream",
     "text": [
      "0 1 2 "
     ]
    }
   ],
   "source": [
    "for i in range(3) :\n",
    "    print(i, end= ' ')"
   ]
  },
  {
   "cell_type": "markdown",
   "metadata": {},
   "source": [
    "### append 함수"
   ]
  },
  {
   "cell_type": "code",
   "execution_count": 39,
   "metadata": {},
   "outputs": [
    {
     "data": {
      "text/plain": [
       "[0, 1, 2, 3, 4, 5, 6, 7, 8, 9]"
      ]
     },
     "execution_count": 39,
     "metadata": {},
     "output_type": "execute_result"
    }
   ],
   "source": [
    "lst = []\n",
    "for i in range(10) :\n",
    "    lst.append(i)\n",
    "\n",
    "lst"
   ]
  },
  {
   "cell_type": "code",
   "execution_count": 63,
   "metadata": {},
   "outputs": [],
   "source": [
    "def lst(a) :\n",
    "    lst= []\n",
    "    for i in range(1,a+1) :\n",
    "        lst.append(i)\n",
    "    return lst\n"
   ]
  },
  {
   "cell_type": "code",
   "execution_count": 64,
   "metadata": {},
   "outputs": [
    {
     "data": {
      "text/plain": [
       "[1, 2, 3, 4, 5, 6, 7, 8, 9, 10, 11, 12, 13, 14, 15, 16, 17, 18, 19, 20]"
      ]
     },
     "execution_count": 64,
     "metadata": {},
     "output_type": "execute_result"
    }
   ],
   "source": [
    "lst(20)"
   ]
  },
  {
   "cell_type": "code",
   "execution_count": 65,
   "metadata": {},
   "outputs": [],
   "source": [
    "def tmin(lst) :\n",
    "    min = 9999;\n",
    "    for i in range(len(lst)-1) :\n",
    "        if lst[i] < min :\n",
    "            min = lst[i]\n",
    "    return min"
   ]
  },
  {
   "cell_type": "code",
   "execution_count": 66,
   "metadata": {},
   "outputs": [
    {
     "data": {
      "text/plain": [
       "1"
      ]
     },
     "execution_count": 66,
     "metadata": {},
     "output_type": "execute_result"
    }
   ],
   "source": [
    "tmin(lst(20))"
   ]
  },
  {
   "cell_type": "code",
   "execution_count": 69,
   "metadata": {},
   "outputs": [],
   "source": [
    "numbers = [1,2,3,4,5]\n",
    "number_2d = [[1,2,3,4,5],[10,20,30,40,50],[1,3,5,7,9],[2,4,6,8,10]]"
   ]
  },
  {
   "cell_type": "code",
   "execution_count": 70,
   "metadata": {},
   "outputs": [
    {
     "data": {
      "text/plain": [
       "[1, 2, 3, 4, 5, 1, 2, 3, 4, 5]"
      ]
     },
     "execution_count": 70,
     "metadata": {},
     "output_type": "execute_result"
    }
   ],
   "source": [
    "numbers + numbers"
   ]
  },
  {
   "cell_type": "code",
   "execution_count": 71,
   "metadata": {},
   "outputs": [
    {
     "data": {
      "text/plain": [
       "[1, 2, 3, 4, 5, 1, 2, 3, 4, 5, 1, 2, 3, 4, 5]"
      ]
     },
     "execution_count": 71,
     "metadata": {},
     "output_type": "execute_result"
    }
   ],
   "source": [
    "3 * numbers"
   ]
  },
  {
   "cell_type": "code",
   "execution_count": 72,
   "metadata": {},
   "outputs": [
    {
     "data": {
      "text/plain": [
       "[1, 2, 3, 4, 5, 10]"
      ]
     },
     "execution_count": 72,
     "metadata": {},
     "output_type": "execute_result"
    }
   ],
   "source": [
    "numbers.append(10)\n",
    "numbers"
   ]
  },
  {
   "cell_type": "code",
   "execution_count": 73,
   "metadata": {},
   "outputs": [
    {
     "data": {
      "text/plain": [
       "[1, 2, 3, 4, 5, 10, [20, 30, 40, 50], 'Hello']"
      ]
     },
     "execution_count": 73,
     "metadata": {},
     "output_type": "execute_result"
    }
   ],
   "source": [
    "numbers.append([20,30,40,50])\n",
    "numbers.append('Hello')\n",
    "numbers"
   ]
  },
  {
   "cell_type": "markdown",
   "metadata": {},
   "source": [
    "### extend 함수"
   ]
  },
  {
   "cell_type": "code",
   "execution_count": 74,
   "metadata": {},
   "outputs": [
    {
     "data": {
      "text/plain": [
       "[1, 2, 3, 4, 5, 10, 20, 30, 40, 50]"
      ]
     },
     "execution_count": 74,
     "metadata": {},
     "output_type": "execute_result"
    }
   ],
   "source": [
    "numbers = [1,2,3,4,5]\n",
    "numbers.extend([10,20,30,40,50])\n",
    "numbers"
   ]
  },
  {
   "cell_type": "code",
   "execution_count": 75,
   "metadata": {},
   "outputs": [
    {
     "data": {
      "text/plain": [
       "[1, 2, 3, 4, 5, 'H', 'e', 'l', 'l', 'o']"
      ]
     },
     "execution_count": 75,
     "metadata": {},
     "output_type": "execute_result"
    }
   ],
   "source": [
    "numbers = [1,2,3,4,5]\n",
    "numbers.extend('Hello')\n",
    "numbers"
   ]
  },
  {
   "cell_type": "code",
   "execution_count": 86,
   "metadata": {},
   "outputs": [
    {
     "data": {
      "text/plain": [
       "[1, 3, 5, 7, 9]"
      ]
     },
     "execution_count": 86,
     "metadata": {},
     "output_type": "execute_result"
    }
   ],
   "source": [
    "numbers = [1,3,5,7,9,1,2,3,4,5]\n",
    "numbers[0:5]"
   ]
  },
  {
   "cell_type": "code",
   "execution_count": 88,
   "metadata": {},
   "outputs": [
    {
     "data": {
      "text/plain": [
       "[20, 30, 40, 50, 60, 1, 2, 3, 4, 5]"
      ]
     },
     "execution_count": 88,
     "metadata": {},
     "output_type": "execute_result"
    }
   ],
   "source": [
    "numbers[0:5] = [20,30,40,50,60]\n",
    "numbers"
   ]
  },
  {
   "cell_type": "code",
   "execution_count": 89,
   "metadata": {},
   "outputs": [
    {
     "data": {
      "text/plain": [
       "[100, 30, 200, 50, 60, 1, 2, 3, 4, 5]"
      ]
     },
     "execution_count": 89,
     "metadata": {},
     "output_type": "execute_result"
    }
   ],
   "source": [
    "numbers[0:4:2] = [100,200]\n",
    "numbers"
   ]
  },
  {
   "cell_type": "code",
   "execution_count": 93,
   "metadata": {},
   "outputs": [
    {
     "data": {
      "text/plain": [
       "[6, 2, 7, 4, 10]"
      ]
     },
     "execution_count": 93,
     "metadata": {},
     "output_type": "execute_result"
    }
   ],
   "source": [
    "numbers = [6,2,7,4,10]\n",
    "numbers"
   ]
  },
  {
   "cell_type": "code",
   "execution_count": 101,
   "metadata": {},
   "outputs": [
    {
     "data": {
      "text/plain": [
       "[1, 2, 3, 4, 5, 6, 7, 8, 9, 10]"
      ]
     },
     "execution_count": 101,
     "metadata": {},
     "output_type": "execute_result"
    }
   ],
   "source": [
    "numbers.sort()\n",
    "numbers"
   ]
  },
  {
   "cell_type": "code",
   "execution_count": 102,
   "metadata": {},
   "outputs": [
    {
     "data": {
      "text/plain": [
       "[5, 1, 9, 3, 8, 10, 4, 7, 2, 6]"
      ]
     },
     "execution_count": 102,
     "metadata": {},
     "output_type": "execute_result"
    }
   ],
   "source": [
    "numbers = [6,2,7,4,10,8,3,9,1,5]\n",
    "numbers.reverse()\n",
    "numbers"
   ]
  },
  {
   "cell_type": "code",
   "execution_count": 71,
   "metadata": {},
   "outputs": [
    {
     "name": "stdout",
     "output_type": "stream",
     "text": [
      "[6, 2, 7, 4, 10, 8, 3, 9, 1, 5] [6, 2, 7, 4, 10, 8, 3, 9, 1, 5]\n"
     ]
    }
   ],
   "source": [
    "numbers = [6,2,7,4,10,8,3,9,1,5]\n",
    "new_numbers = numbers.copy()\n",
    "print(numbers, new_numbers)"
   ]
  },
  {
   "cell_type": "code",
   "execution_count": 107,
   "metadata": {},
   "outputs": [
    {
     "name": "stdout",
     "output_type": "stream",
     "text": [
      "[[1, 2, 3, 4], [5, 6, 7, 8]]\n",
      "[[9, 2, 3, 4], [5, 6, 7, 8]]\n"
     ]
    }
   ],
   "source": [
    "L = [[1,2,3,4],[5,6,7,8]]\n",
    "L2 = [sub.copy() for sub in L]\n",
    "L2[0][0] = 9\n",
    "print(L)\n",
    "print(L2)"
   ]
  },
  {
   "cell_type": "markdown",
   "metadata": {},
   "source": [
    "### for 문"
   ]
  },
  {
   "cell_type": "code",
   "execution_count": 108,
   "metadata": {},
   "outputs": [
    {
     "name": "stdout",
     "output_type": "stream",
     "text": [
      "[1, 2, 3, 4]\n",
      "[5, 6, 7, 8]\n"
     ]
    }
   ],
   "source": [
    "L =[[1,2,3,4],[5,6,7,8]]\n",
    "for sub in L :\n",
    "    print(sub)"
   ]
  },
  {
   "cell_type": "code",
   "execution_count": 75,
   "metadata": {},
   "outputs": [
    {
     "name": "stdout",
     "output_type": "stream",
     "text": [
      "[[1, 2, 3, 4], [5, 6, 7, 8]]\n",
      "[[9, 2, 3, 4], [5, 6, 7, 8]]\n"
     ]
    }
   ],
   "source": [
    "L2 = []\n",
    "for sub in L :\n",
    "    L2.append(sub.copy())\n",
    "\n",
    "L2[0][0] = 9\n",
    "print(L)\n",
    "print(L2)"
   ]
  },
  {
   "cell_type": "code",
   "execution_count": 133,
   "metadata": {},
   "outputs": [
    {
     "name": "stdout",
     "output_type": "stream",
     "text": [
      "[[1, 2, 3, 4], [5, 6, 7, 8], [9, 10, 11, 12], [12, 11], [44]]\n",
      "[[9, 2, 3, 4], [5, 6, 7, 8], [9, 10, 11, 12], [12, 11], [44]]\n",
      "[44]\n"
     ]
    }
   ],
   "source": [
    "L = [[1,2,3,4],[5,6,7,8],[9,10,11,12],[12,11],[44]]\n",
    "L2 = []\n",
    "for subs in L:\n",
    "    L3 = []\n",
    "    for sub in subs :\n",
    "        L3.append(sub)\n",
    "    L2.append(L3)\n",
    "L2[0][0] = 9\n",
    "print(L)\n",
    "print(L2)\n",
    "print(L3)"
   ]
  },
  {
   "cell_type": "code",
   "execution_count": 139,
   "metadata": {},
   "outputs": [
    {
     "name": "stdout",
     "output_type": "stream",
     "text": [
      "[[1, 2, 3, 4], [5, 6, 7, 8], [9, 10, 11, 12], [12, 11], [44]]\n",
      "[1, 2, 3, 4, 5, 6, 7, 8, 9, 10, 11, 12, 12, 11, 44]\n",
      "[44]\n"
     ]
    }
   ],
   "source": [
    "L = [[1,2,3,4],[5,6,7,8],[9,10,11,12],[12,11],[44]]\n",
    "L2 = []\n",
    "for subs in L:\n",
    "    L3 = []\n",
    "    for sub in subs :\n",
    "        L3.append(sub)\n",
    "    L2.extend(L3)\n",
    "# L2[0][0] = 9\n",
    "print(L)\n",
    "print(L2)\n",
    "print(L3)"
   ]
  },
  {
   "cell_type": "markdown",
   "metadata": {},
   "source": [
    "## 비트연산자 함수 만들기"
   ]
  },
  {
   "cell_type": "code",
   "execution_count": 140,
   "metadata": {},
   "outputs": [
    {
     "name": "stdout",
     "output_type": "stream",
     "text": [
      "0  3  \n",
      "--------------------------------------------------\n",
      "0  \n",
      "--------------------------------------------------\n"
     ]
    }
   ],
   "source": [
    "# STEP 1\n",
    "# LIST를 이용한 FLAG 처리\n",
    "flag = [0,0,0,0]\n",
    "flag[0] = 1\n",
    "flag[3] = 1\n",
    "\n",
    "for i in range(len(flag)) :\n",
    "    if flag[i] :\n",
    "        print(\"%d\" % i, end = '  ')\n",
    "print(\"\\n%s\" %('-' * 50))\n",
    "\n",
    "flag[3] = 0\n",
    "\n",
    "for i in range(len(flag)) :\n",
    "    if flag[i] :\n",
    "        print(\"%d\" % i, end = '  ')\n",
    "print(\"\\n%s\" %('-' * 50))\n"
   ]
  },
  {
   "cell_type": "code",
   "execution_count": 143,
   "metadata": {},
   "outputs": [
    {
     "name": "stdout",
     "output_type": "stream",
     "text": [
      "0  3  5  6  7  8  9  \n",
      "--------------------------------------------------\n",
      "0  5  6  7  8  9  \n",
      "--------------------------------------------------\n"
     ]
    }
   ],
   "source": [
    "# STEP 2\n",
    "# 비트 연산자를 활용한 FLAG 처리\n",
    "\n",
    "flag = 0\n",
    "\n",
    "flag |= 1\n",
    "flag |= 1000\n",
    "\n",
    "for i in range(len(bin(flag)) - 2) :\n",
    "    if (flag & (1 << i)) :\n",
    "        print(\"%d\" % i, end = '  ')\n",
    "print(\"\\n%s\" %('-' * 50))\n",
    "\n",
    "flag &= ~8\n",
    "\n",
    "for i in range(len(bin(flag)) - 2) :\n",
    "    if (flag & (1 << i)) :\n",
    "        print(\"%d\" % i, end = '  ')\n",
    "print(\"\\n%s\" %('-' * 50))"
   ]
  },
  {
   "cell_type": "code",
   "execution_count": 111,
   "metadata": {},
   "outputs": [
    {
     "name": "stdout",
     "output_type": "stream",
     "text": [
      "0  3  \n",
      "--------------------------------------------------\n",
      "0  \n",
      "--------------------------------------------------\n"
     ]
    }
   ],
   "source": [
    "# STEP 3\n",
    "# shift 연산자를 활용하여 가독성을 높이기\n",
    "\n",
    "flag = 0\n",
    "\n",
    "flag |= 1 << 0\n",
    "flag |= 1 << 3\n",
    "\n",
    "for i in range(len(bin(flag)) - 2) :\n",
    "    if (flag & (1 << i)) :\n",
    "        print(\"%d\" % i, end = '  ')\n",
    "print(\"\\n%s\" %('-' * 50))\n",
    "\n",
    "flag &= ~(1 << 3)\n",
    "\n",
    "for i in range(len(bin(flag)) - 2) :\n",
    "    if (flag & (1 << i)) :\n",
    "        print(\"%d\" % i, end = '  ')\n",
    "print(\"\\n%s\" %('-' * 50))"
   ]
  },
  {
   "cell_type": "code",
   "execution_count": 1,
   "metadata": {},
   "outputs": [
    {
     "name": "stdout",
     "output_type": "stream",
     "text": [
      "700  800  \n",
      "--------------------------------------------------\n",
      "700  \n",
      "--------------------------------------------------\n"
     ]
    }
   ],
   "source": [
    "# STEP 4\n",
    "# 1000개의 아이템 사용하기\n",
    "\n",
    "flag = list()\n",
    "\n",
    "for i in range(16) :\n",
    "    flag.append(0)\n",
    "\n",
    "flag[int(700/64)] |= ( 1 << (700 % 64))\n",
    "flag[int(800/64)] |= ( 1 << (800 % 64))\n",
    "\n",
    "for i in range(len(flag)*64) :\n",
    "    if (flag[i // 64] & (1 << (i % 64))) :\n",
    "        print(\"%d\" % i, end = '  ')\n",
    "print(\"\\n%s\" %('-' * 50))\n",
    "\n",
    "flag[int(800/64)] &= ~( 1 << (800 % 64))\n",
    "\n",
    "for i in range(1024) :\n",
    "    if (flag[i // 64] & (1 << (i % 64))) :\n",
    "        print(\"%d\" % i, end = '  ')\n",
    "print(\"\\n%s\" %('-' * 50))"
   ]
  },
  {
   "cell_type": "code",
   "execution_count": 121,
   "metadata": {},
   "outputs": [
    {
     "name": "stdout",
     "output_type": "stream",
     "text": [
      "700  800  \n",
      "--------------------------------------------------\n",
      "700  \n",
      "--------------------------------------------------\n"
     ]
    }
   ],
   "source": [
    "# STEP 5\n",
    "# 함수를 사용한 모듈화\n",
    "\n",
    "def bit_set(index) :\n",
    "    flag[int(index/64)] |= (1 << (index % 64))\n",
    "\n",
    "def bit_clear(index) :\n",
    "    flag[index//64] &= ~(1 << (index % 64))\n",
    "\n",
    "def bit_is_set(index) :\n",
    "    return flag[index // 64] & (1 << (index % 64))\n",
    "\n",
    "\n",
    "flag = list()\n",
    "\n",
    "for i in range(16) :\n",
    "    flag.append(0)\n",
    "\n",
    "bit_set(700)\n",
    "bit_set(800)\n",
    "\n",
    "for i in range(len(flag)*64) :\n",
    "    if (bit_is_set(i)) :\n",
    "        print(\"%d\" % i, end = '  ')\n",
    "print(\"\\n%s\" %('-' * 50))\n",
    "\n",
    "bit_clear(800)\n",
    "\n",
    "for i in range(1024) :\n",
    "    if (bit_is_set(i)) :\n",
    "        print(\"%d\" % i, end = '  ')\n",
    "print(\"\\n%s\" %('-' * 50))"
   ]
  },
  {
   "cell_type": "code",
   "execution_count": 123,
   "metadata": {},
   "outputs": [
    {
     "name": "stdout",
     "output_type": "stream",
     "text": [
      "700  800  \n",
      "--------------------------------------------------\n",
      "700  \n",
      "--------------------------------------------------\n"
     ]
    }
   ],
   "source": [
    "# STEP 6\n",
    "# BIT 자료형 생성, 초기화 및 할당\n",
    "\n",
    "def bit_set(index) :\n",
    "    flag[int(index/64)] |= (1 << (index % 64))\n",
    "\n",
    "def bit_clear(index) :\n",
    "    flag[index//64] &= ~(1 << (index % 64))\n",
    "\n",
    "def bit_is_set(index) :\n",
    "    return flag[index // 64] & (1 << (index % 64))\n",
    "\n",
    "def BIT(index) :\n",
    "    flag = []\n",
    "    for i in range(index) :\n",
    "        flag.append(0)\n",
    "    return flag\n",
    "\n",
    "#--------------------------------------------------------------------    \n",
    "\n",
    "flag = BIT(16)\n",
    "\n",
    "bit_set(700)\n",
    "bit_set(800)\n",
    "\n",
    "for i in range(len(flag)*64) :\n",
    "    if (bit_is_set(i)) :\n",
    "        print(\"%d\" % i, end = '  ')\n",
    "print(\"\\n%s\" %('-' * 50))\n",
    "\n",
    "bit_clear(800)\n",
    "\n",
    "for i in range(1024) :\n",
    "    if (bit_is_set(i)) :\n",
    "        print(\"%d\" % i, end = '  ')\n",
    "print(\"\\n%s\" %('-' * 50))"
   ]
  },
  {
   "cell_type": "code",
   "execution_count": 3,
   "metadata": {},
   "outputs": [
    {
     "name": "stdout",
     "output_type": "stream",
     "text": [
      "700  800  \n",
      "--------------------------------------------------\n",
      "800  \n",
      "--------------------------------------------------\n"
     ]
    }
   ],
   "source": [
    "# STEP 7\n",
    "# 루틴 테스트\n",
    "# main() 함수 만들기\n",
    "\n",
    "def bit_set(df, index) :\n",
    "    df[int(index/64)] |= (1 << (index % 64))\n",
    "\n",
    "def bit_clear(df, index) :\n",
    "    df[index//64] &= ~(1 << (index % 64))\n",
    "\n",
    "def bit_is_set(df, index) :\n",
    "    return df[index // 64] & (1 << (index % 64))\n",
    "\n",
    "def BIT(index) :\n",
    "    df = []\n",
    "    for i in range(index) :\n",
    "        df.append(0)\n",
    "    return df\n",
    "\n",
    "def print_room(df) : \n",
    "    for i in range(len(df)*64) :\n",
    "        if (bit_is_set(df, i)) :\n",
    "            print(\"%d\" % i, end = '  ')\n",
    "    print(\"\\n%s\" %('-' * 50))\n",
    "\n",
    "#--------------------------------------------------------------------    \n",
    "\n",
    "\n",
    "def main() :\n",
    "    flag1 = BIT(16)\n",
    "    bit_set(flag1, 700)\n",
    "    bit_set(flag1, 800)\n",
    "    \n",
    "    print_room(flag1)\n",
    "\n",
    "    bit_clear(flag1, 700)\n",
    "\n",
    "    print_room(flag1)\n",
    "\n",
    "if __name__ == '__main__' :\n",
    "    main()"
   ]
  },
  {
   "cell_type": "code",
   "execution_count": 150,
   "metadata": {},
   "outputs": [
    {
     "name": "stdout",
     "output_type": "stream",
     "text": [
      "700  800  \n",
      "--------------------------------------------------\n",
      "800  \n",
      "--------------------------------------------------\n",
      "100  200  \n",
      "--------------------------------------------------\n",
      "100  \n",
      "--------------------------------------------------\n"
     ]
    }
   ],
   "source": [
    "# STEP 7\n",
    "# 루틴 테스트\n",
    "# main() 함수 만들기\n",
    "\n",
    "def bit_set(df, index) :\n",
    "    df[int(index/64)] |= (1 << (index % 64))\n",
    "\n",
    "def bit_clear(df, index) :\n",
    "    df[index//64] &= ~(1 << (index % 64))\n",
    "\n",
    "def bit_is_set(df, index) :\n",
    "    return df[index // 64] & (1 << (index % 64))\n",
    "\n",
    "def BIT(index) :\n",
    "    df = []\n",
    "    for i in range(index) :\n",
    "        df.append(0)\n",
    "    return df\n",
    "\n",
    "#--------------------------------------------------------------------    \n",
    "\n",
    "\n",
    "def main() :\n",
    "    flag1 = BIT(16)\n",
    "    bit_set(flag1, 700)\n",
    "    bit_set(flag1, 800)\n",
    "\n",
    "    flag2 = BIT(16)\n",
    "\n",
    "    for i in range(1024) :\n",
    "        if (bit_is_set(flag1, i)) :\n",
    "            print(\"%d\" % i, end = '  ')\n",
    "    print(\"\\n%s\" %('-' * 50))\n",
    "\n",
    "    bit_clear(flag1, 700)\n",
    "\n",
    "    for i in range(1024) :\n",
    "        if (bit_is_set(flag1, i)) :\n",
    "            print(\"%d\" % i, end = '  ')\n",
    "    print(\"\\n%s\" %('-' * 50))\n",
    "\n",
    "    bit_set(flag2, 100)\n",
    "    bit_set(flag2, 200)\n",
    "\n",
    "    for i in range(1024) :\n",
    "        if (bit_is_set(flag2, i)) :\n",
    "            print(\"%d\" % i, end = '  ')\n",
    "    print(\"\\n%s\" %('-' * 50))\n",
    "\n",
    "    bit_clear(flag2, 200)\n",
    "\n",
    "    for i in range(1024) :\n",
    "        if (bit_is_set(flag2, i)) :\n",
    "            print(\"%d\" % i, end = '  ')\n",
    "    print(\"\\n%s\" %('-' * 50))\n",
    "\n",
    "if __name__ == '__main__' :\n",
    "    main()"
   ]
  },
  {
   "cell_type": "code",
   "execution_count": 144,
   "metadata": {},
   "outputs": [
    {
     "data": {
      "text/plain": [
       "['C:\\\\Users\\\\medici\\\\파이썬베이스\\\\5-6월 파이썬기초',\n",
       " 'C:\\\\Users\\\\medici\\\\anaconda3\\\\python38.zip',\n",
       " 'C:\\\\Users\\\\medici\\\\anaconda3\\\\DLLs',\n",
       " 'C:\\\\Users\\\\medici\\\\anaconda3\\\\lib',\n",
       " 'C:\\\\Users\\\\medici\\\\anaconda3',\n",
       " '',\n",
       " 'C:\\\\Users\\\\medici\\\\anaconda3\\\\lib\\\\site-packages',\n",
       " 'C:\\\\Users\\\\medici\\\\anaconda3\\\\lib\\\\site-packages\\\\pyecharts-1.9.0-py3.8.egg',\n",
       " 'C:\\\\Users\\\\medici\\\\anaconda3\\\\lib\\\\site-packages\\\\locket-0.2.1-py3.8.egg',\n",
       " 'C:\\\\Users\\\\medici\\\\anaconda3\\\\lib\\\\site-packages\\\\win32',\n",
       " 'C:\\\\Users\\\\medici\\\\anaconda3\\\\lib\\\\site-packages\\\\win32\\\\lib',\n",
       " 'C:\\\\Users\\\\medici\\\\anaconda3\\\\lib\\\\site-packages\\\\Pythonwin',\n",
       " 'C:\\\\Users\\\\medici\\\\anaconda3\\\\lib\\\\site-packages\\\\IPython\\\\extensions',\n",
       " 'C:\\\\Users\\\\medici\\\\.ipython',\n",
       " 'C:\\\\pythonlib']"
      ]
     },
     "execution_count": 144,
     "metadata": {},
     "output_type": "execute_result"
    }
   ],
   "source": [
    "import sys\n",
    "sys.path.append(r'C:\\pythonlib')\n",
    "sys.path"
   ]
  },
  {
   "cell_type": "code",
   "execution_count": 156,
   "metadata": {},
   "outputs": [
    {
     "ename": "ModuleNotFoundError",
     "evalue": "No module named 'bit'",
     "output_type": "error",
     "traceback": [
      "\u001b[1;31m---------------------------------------------------------------------------\u001b[0m",
      "\u001b[1;31mModuleNotFoundError\u001b[0m                       Traceback (most recent call last)",
      "\u001b[1;32m<ipython-input-156-06da5552ff0f>\u001b[0m in \u001b[0;36m<module>\u001b[1;34m\u001b[0m\n\u001b[1;32m----> 1\u001b[1;33m \u001b[1;32mfrom\u001b[0m \u001b[0mbit\u001b[0m \u001b[1;32mimport\u001b[0m \u001b[1;33m*\u001b[0m\u001b[1;33m\u001b[0m\u001b[1;33m\u001b[0m\u001b[0m\n\u001b[0m\u001b[0;32m      2\u001b[0m \u001b[1;33m\u001b[0m\u001b[0m\n\u001b[0;32m      3\u001b[0m \u001b[1;32mdef\u001b[0m \u001b[0mmain\u001b[0m\u001b[1;33m(\u001b[0m\u001b[1;33m)\u001b[0m \u001b[1;33m:\u001b[0m\u001b[1;33m\u001b[0m\u001b[1;33m\u001b[0m\u001b[0m\n\u001b[0;32m      4\u001b[0m     \u001b[0mflag1\u001b[0m \u001b[1;33m=\u001b[0m \u001b[0mbit\u001b[0m\u001b[1;33m.\u001b[0m\u001b[0mBIT\u001b[0m\u001b[1;33m(\u001b[0m\u001b[1;36m16\u001b[0m\u001b[1;33m)\u001b[0m\u001b[1;33m\u001b[0m\u001b[1;33m\u001b[0m\u001b[0m\n\u001b[0;32m      5\u001b[0m     \u001b[0mbit\u001b[0m\u001b[1;33m.\u001b[0m\u001b[0mbit_set\u001b[0m\u001b[1;33m(\u001b[0m\u001b[0mflag1\u001b[0m\u001b[1;33m,\u001b[0m \u001b[1;36m700\u001b[0m\u001b[1;33m)\u001b[0m\u001b[1;33m\u001b[0m\u001b[1;33m\u001b[0m\u001b[0m\n",
      "\u001b[1;31mModuleNotFoundError\u001b[0m: No module named 'bit'"
     ]
    }
   ],
   "source": [
    "from bit import *\n",
    "\n",
    "def main() :\n",
    "    flag1 = bit.BIT(16)\n",
    "    bit.bit_set(flag1, 700)\n",
    "    bit.bit_set(flag1, 800)\n",
    "\n",
    "    flag2 = BIT(16)\n",
    "\n",
    "    for i in range(1024) :\n",
    "        if (bit.bit_is_set(flag1, i)) :\n",
    "            print(\"%d\" % i, end = '  ')\n",
    "    print(\"\\n%s\" %('-' * 50))\n",
    "\n",
    "    bit.bit_clear(flag1, 800)\n",
    "\n",
    "    for i in range(1024) :\n",
    "        if (bit.bit_is_set(flag1, i)) :\n",
    "            print(\"%d\" % i, end = '  ')\n",
    "    print(\"\\n%s\" %('-' * 50))\n",
    "\n",
    "if __name__ == '__main__' :\n",
    "    main()"
   ]
  }
 ],
 "metadata": {
  "kernelspec": {
   "display_name": "Python 3",
   "language": "python",
   "name": "python3"
  },
  "language_info": {
   "codemirror_mode": {
    "name": "ipython",
    "version": 3
   },
   "file_extension": ".py",
   "mimetype": "text/x-python",
   "name": "python",
   "nbconvert_exporter": "python",
   "pygments_lexer": "ipython3",
   "version": "3.8.8"
  }
 },
 "nbformat": 4,
 "nbformat_minor": 4
}
