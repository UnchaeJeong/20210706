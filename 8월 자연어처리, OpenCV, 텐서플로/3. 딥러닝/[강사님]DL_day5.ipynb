{
  "nbformat": 4,
  "nbformat_minor": 0,
  "metadata": {
    "colab": {
      "name": "[강사님]DL_day5.ipynb",
      "provenance": [],
      "collapsed_sections": []
    },
    "kernelspec": {
      "name": "python3",
      "display_name": "Python 3"
    },
    "language_info": {
      "name": "python"
    },
    "accelerator": "GPU"
  },
  "cells": [
    {
      "cell_type": "code",
      "metadata": {
        "id": "93ShOWjllHJy",
        "colab": {
          "base_uri": "https://localhost:8080/"
        },
        "outputId": "c5eb1cb3-26fa-447d-eff5-472312cb1a8f"
      },
      "source": [
        "import numpy as np\n",
        "import matplotlib.pyplot as plt\n",
        "from keras.models import Sequential\n",
        "from keras.layers import Dense, LeakyReLU, Activation, Flatten, Dropout,BatchNormalization\n",
        "from keras.layers.convolutional import Convolution2D, MaxPooling2D\n",
        "from keras.layers import GlobalAveragePooling2D\n",
        "from keras.preprocessing.image import ImageDataGenerator\n",
        "from keras.applications.vgg16 import VGG16, decode_predictions\n",
        "from keras.preprocessing.image import load_img, img_to_array\n",
        "\n",
        "from sklearn import datasets\n",
        "from sklearn.model_selection import train_test_split\n",
        "\n",
        "import keras\n",
        "from keras.datasets import fashion_mnist\n",
        "from sklearn.metrics import confusion_matrix\n",
        "import seaborn as sns\n",
        "\n",
        "import io\n",
        "import cv2\n",
        "from google.colab.patches import cv2_imshow\n",
        "\n",
        "import tensorflow as tf\n",
        "device_name = tf.test.gpu_device_name()\n",
        "print(device_name)"
      ],
      "execution_count": null,
      "outputs": [
        {
          "output_type": "stream",
          "text": [
            "\n"
          ],
          "name": "stdout"
        }
      ]
    },
    {
      "cell_type": "markdown",
      "metadata": {
        "id": "sVghNJb7tWgr"
      },
      "source": [
        "# 1. 전이학습을 이용한 small cat dog 인식"
      ]
    },
    {
      "cell_type": "markdown",
      "metadata": {
        "id": "ZF5kCmXvrsbd"
      },
      "source": [
        "### 1)압축파일 풀기\n",
        "- cd 명령어로 폴더 이동\n",
        "- unzip"
      ]
    },
    {
      "cell_type": "code",
      "metadata": {
        "id": "h0FzXYvUryNQ"
      },
      "source": [
        "%cd /content/\n",
        "!unzip smallcatdog.zip"
      ],
      "execution_count": null,
      "outputs": []
    },
    {
      "cell_type": "code",
      "metadata": {
        "id": "rQxcjdN-s0Zf"
      },
      "source": [
        "%cd /content/drive/MyDrive/data/smallcatdog\n",
        "!unzip smallcatdog.zip\n",
        "%cd /content/"
      ],
      "execution_count": null,
      "outputs": []
    },
    {
      "cell_type": "code",
      "metadata": {
        "colab": {
          "base_uri": "https://localhost:8080/"
        },
        "id": "LT0aJcU3tsua",
        "outputId": "d5667b64-fdef-4454-e3e8-4d15ba0ed982"
      },
      "source": [
        "%cd /content/"
      ],
      "execution_count": null,
      "outputs": [
        {
          "output_type": "stream",
          "text": [
            "/content\n",
            "/content\n"
          ],
          "name": "stdout"
        }
      ]
    },
    {
      "cell_type": "markdown",
      "metadata": {
        "id": "fz9NzDUKt9T8"
      },
      "source": [
        "### 2) ImageDataGenerator를 이용한 데이터 읽기"
      ]
    },
    {
      "cell_type": "code",
      "metadata": {
        "colab": {
          "base_uri": "https://localhost:8080/"
        },
        "id": "bzm1FVdTuDYN",
        "outputId": "2a241f13-f652-4cda-b6a1-5db6c556b096"
      },
      "source": [
        "batch_size = 16\n",
        "\n",
        "train_datagen = ImageDataGenerator(\n",
        "        rescale=1./255,\n",
        "        shear_range=0.2,\n",
        "        zoom_range=0.2,\n",
        "        horizontal_flip=True)\n",
        "\n",
        "test_datagen = ImageDataGenerator(rescale=1./255)\n",
        "\n",
        "train_generator = train_datagen.flow_from_directory(\n",
        "        '/content/drive/MyDrive/data/smallcatdog/train',  \n",
        "        target_size=(224, 224), \n",
        "        batch_size=batch_size,\n",
        "        class_mode='binary') \n",
        "\n",
        "test_generator = test_datagen.flow_from_directory(\n",
        "        '/content/drive/MyDrive/data/smallcatdog/test',  \n",
        "        target_size=(224, 224), \n",
        "        batch_size=batch_size,\n",
        "        class_mode='binary') "
      ],
      "execution_count": null,
      "outputs": [
        {
          "output_type": "stream",
          "text": [
            "Found 2000 images belonging to 2 classes.\n",
            "Found 800 images belonging to 2 classes.\n"
          ],
          "name": "stdout"
        }
      ]
    },
    {
      "cell_type": "markdown",
      "metadata": {
        "id": "gt1UWxD4xhc1"
      },
      "source": [
        "### 3) CNN을 이용한 네트워크 설계"
      ]
    },
    {
      "cell_type": "code",
      "metadata": {
        "id": "BVOeghqbxp5u"
      },
      "source": [
        "def dogcatcnn() :\n",
        "  model = Sequential()\n",
        "  model.add(Convolution2D(32, (3, 3), input_shape=(224, 224,3)))\n",
        "  model.add(Activation('relu'))\n",
        "  model.add(MaxPooling2D(pool_size=(2, 2)))\n",
        "\n",
        "  model.add(Convolution2D(32, (3, 3)))\n",
        "  model.add(Activation('relu'))\n",
        "  model.add(MaxPooling2D(pool_size=(2, 2)))\n",
        "\n",
        "  model.add(Convolution2D(64, (3, 3)))\n",
        "  model.add(Activation('relu'))\n",
        "  model.add(MaxPooling2D(pool_size=(2, 2)))\n",
        "\n",
        "  model.add(Convolution2D(128, (3, 3)))\n",
        "  model.add(Activation('relu'))\n",
        "  model.add(MaxPooling2D(pool_size=(2, 2)))\n",
        "  \n",
        "  model.add(Flatten()) \n",
        "  model.add(Dense(64))\n",
        "  model.add(Activation('relu'))\n",
        "  model.add(Dense(2, activation='softmax'))\n",
        "  model.compile(optimizer = 'adam',  loss = 'sparse_categorical_crossentropy',metrics=['accuracy']) \n",
        "\n",
        "  return model"
      ],
      "execution_count": null,
      "outputs": []
    },
    {
      "cell_type": "markdown",
      "metadata": {
        "id": "hnQZWnUvz224"
      },
      "source": [
        "### 4) 학습"
      ]
    },
    {
      "cell_type": "code",
      "metadata": {
        "colab": {
          "base_uri": "https://localhost:8080/"
        },
        "id": "jAI-WUB3ygQf",
        "outputId": "eb53628c-60d8-48b2-8b85-ecb6f4f1877f"
      },
      "source": [
        "with tf.device(device_name):\n",
        "  dogcat_model =  dogcatcnn()\n",
        "  history = dogcat_model.fit(train_generator, epochs=1)"
      ],
      "execution_count": null,
      "outputs": [
        {
          "output_type": "stream",
          "text": [
            "125/125 [==============================] - 58s 208ms/step - loss: 0.6985 - accuracy: 0.4945\n"
          ],
          "name": "stdout"
        }
      ]
    },
    {
      "cell_type": "code",
      "metadata": {
        "colab": {
          "base_uri": "https://localhost:8080/"
        },
        "id": "fvpcrvR6y6qe",
        "outputId": "951372da-daf8-4d88-c19b-a36443450892"
      },
      "source": [
        "history = dogcat_model.fit(train_generator, epochs=4)"
      ],
      "execution_count": null,
      "outputs": [
        {
          "output_type": "stream",
          "text": [
            "Epoch 1/4\n",
            "125/125 [==============================] - 27s 217ms/step - loss: 0.6931 - accuracy: 0.5055\n",
            "Epoch 2/4\n",
            "125/125 [==============================] - 26s 209ms/step - loss: 0.6888 - accuracy: 0.5410\n",
            "Epoch 3/4\n",
            "125/125 [==============================] - 26s 208ms/step - loss: 0.6940 - accuracy: 0.5060\n",
            "Epoch 4/4\n",
            "125/125 [==============================] - 27s 217ms/step - loss: 0.6935 - accuracy: 0.5220\n"
          ],
          "name": "stdout"
        }
      ]
    },
    {
      "cell_type": "code",
      "metadata": {
        "colab": {
          "base_uri": "https://localhost:8080/"
        },
        "id": "uwZQsdU5zZHW",
        "outputId": "94e3539a-eb5b-49b0-e69d-9d63edc31ed2"
      },
      "source": [
        "dogcat_model.summary()"
      ],
      "execution_count": null,
      "outputs": [
        {
          "output_type": "stream",
          "text": [
            "Model: \"sequential\"\n",
            "_________________________________________________________________\n",
            "Layer (type)                 Output Shape              Param #   \n",
            "=================================================================\n",
            "conv2d (Conv2D)              (None, 222, 222, 32)      896       \n",
            "_________________________________________________________________\n",
            "activation (Activation)      (None, 222, 222, 32)      0         \n",
            "_________________________________________________________________\n",
            "max_pooling2d (MaxPooling2D) (None, 111, 111, 32)      0         \n",
            "_________________________________________________________________\n",
            "conv2d_1 (Conv2D)            (None, 109, 109, 32)      9248      \n",
            "_________________________________________________________________\n",
            "activation_1 (Activation)    (None, 109, 109, 32)      0         \n",
            "_________________________________________________________________\n",
            "max_pooling2d_1 (MaxPooling2 (None, 54, 54, 32)        0         \n",
            "_________________________________________________________________\n",
            "conv2d_2 (Conv2D)            (None, 52, 52, 64)        18496     \n",
            "_________________________________________________________________\n",
            "activation_2 (Activation)    (None, 52, 52, 64)        0         \n",
            "_________________________________________________________________\n",
            "max_pooling2d_2 (MaxPooling2 (None, 26, 26, 64)        0         \n",
            "_________________________________________________________________\n",
            "conv2d_3 (Conv2D)            (None, 24, 24, 128)       73856     \n",
            "_________________________________________________________________\n",
            "activation_3 (Activation)    (None, 24, 24, 128)       0         \n",
            "_________________________________________________________________\n",
            "max_pooling2d_3 (MaxPooling2 (None, 12, 12, 128)       0         \n",
            "_________________________________________________________________\n",
            "flatten (Flatten)            (None, 18432)             0         \n",
            "_________________________________________________________________\n",
            "dense (Dense)                (None, 64)                1179712   \n",
            "_________________________________________________________________\n",
            "activation_4 (Activation)    (None, 64)                0         \n",
            "_________________________________________________________________\n",
            "dense_1 (Dense)              (None, 2)                 130       \n",
            "=================================================================\n",
            "Total params: 1,282,338\n",
            "Trainable params: 1,282,338\n",
            "Non-trainable params: 0\n",
            "_________________________________________________________________\n"
          ],
          "name": "stdout"
        }
      ]
    },
    {
      "cell_type": "markdown",
      "metadata": {
        "id": "r_1iCZJw0b6p"
      },
      "source": [
        "### 5) 전이학습을 이용한 CNN 설계\n",
        "\n",
        "- 사전에 잘 학습된 신경망 모델을 사용해서 새롭게 학습\n",
        "- ImageNet으로 학습된 CNN 사용( 특징 추출)"
      ]
    },
    {
      "cell_type": "code",
      "metadata": {
        "colab": {
          "base_uri": "https://localhost:8080/"
        },
        "id": "eWG688PP1x0t",
        "outputId": "93734222-0456-4ced-9660-a76d631a0587"
      },
      "source": [
        "image_size = 224\n",
        "vgg_conv = VGG16(weights='imagenet', include_top=False, input_shape=(image_size, image_size, 3))\n",
        "vgg_conv.summary()\n",
        "\n",
        "#vgg_conv.trainable = False\n",
        "\n",
        "for layer in vgg_conv.layers[:]:\n",
        "      print(layer.name, layer.trainable)\n",
        "      layer.trainable = False"
      ],
      "execution_count": null,
      "outputs": [
        {
          "output_type": "stream",
          "text": [
            "Model: \"vgg16\"\n",
            "_________________________________________________________________\n",
            "Layer (type)                 Output Shape              Param #   \n",
            "=================================================================\n",
            "input_6 (InputLayer)         [(None, 224, 224, 3)]     0         \n",
            "_________________________________________________________________\n",
            "block1_conv1 (Conv2D)        (None, 224, 224, 64)      1792      \n",
            "_________________________________________________________________\n",
            "block1_conv2 (Conv2D)        (None, 224, 224, 64)      36928     \n",
            "_________________________________________________________________\n",
            "block1_pool (MaxPooling2D)   (None, 112, 112, 64)      0         \n",
            "_________________________________________________________________\n",
            "block2_conv1 (Conv2D)        (None, 112, 112, 128)     73856     \n",
            "_________________________________________________________________\n",
            "block2_conv2 (Conv2D)        (None, 112, 112, 128)     147584    \n",
            "_________________________________________________________________\n",
            "block2_pool (MaxPooling2D)   (None, 56, 56, 128)       0         \n",
            "_________________________________________________________________\n",
            "block3_conv1 (Conv2D)        (None, 56, 56, 256)       295168    \n",
            "_________________________________________________________________\n",
            "block3_conv2 (Conv2D)        (None, 56, 56, 256)       590080    \n",
            "_________________________________________________________________\n",
            "block3_conv3 (Conv2D)        (None, 56, 56, 256)       590080    \n",
            "_________________________________________________________________\n",
            "block3_pool (MaxPooling2D)   (None, 28, 28, 256)       0         \n",
            "_________________________________________________________________\n",
            "block4_conv1 (Conv2D)        (None, 28, 28, 512)       1180160   \n",
            "_________________________________________________________________\n",
            "block4_conv2 (Conv2D)        (None, 28, 28, 512)       2359808   \n",
            "_________________________________________________________________\n",
            "block4_conv3 (Conv2D)        (None, 28, 28, 512)       2359808   \n",
            "_________________________________________________________________\n",
            "block4_pool (MaxPooling2D)   (None, 14, 14, 512)       0         \n",
            "_________________________________________________________________\n",
            "block5_conv1 (Conv2D)        (None, 14, 14, 512)       2359808   \n",
            "_________________________________________________________________\n",
            "block5_conv2 (Conv2D)        (None, 14, 14, 512)       2359808   \n",
            "_________________________________________________________________\n",
            "block5_conv3 (Conv2D)        (None, 14, 14, 512)       2359808   \n",
            "_________________________________________________________________\n",
            "block5_pool (MaxPooling2D)   (None, 7, 7, 512)         0         \n",
            "=================================================================\n",
            "Total params: 14,714,688\n",
            "Trainable params: 14,714,688\n",
            "Non-trainable params: 0\n",
            "_________________________________________________________________\n",
            "input_6 True\n",
            "block1_conv1 True\n",
            "block1_conv2 True\n",
            "block1_pool True\n",
            "block2_conv1 True\n",
            "block2_conv2 True\n",
            "block2_pool True\n",
            "block3_conv1 True\n",
            "block3_conv2 True\n",
            "block3_conv3 True\n",
            "block3_pool True\n",
            "block4_conv1 True\n",
            "block4_conv2 True\n",
            "block4_conv3 True\n",
            "block4_pool True\n",
            "block5_conv1 True\n",
            "block5_conv2 True\n",
            "block5_conv3 True\n",
            "block5_pool True\n"
          ],
          "name": "stdout"
        }
      ]
    },
    {
      "cell_type": "code",
      "metadata": {
        "colab": {
          "base_uri": "https://localhost:8080/"
        },
        "id": "hXdWzaxA0jjp",
        "outputId": "5f6baf7d-4492-42a3-dc41-89452783ec39"
      },
      "source": [
        "def dogcat_transfer_cnn() :\n",
        "  image_size = 224\n",
        "  vgg_conv = VGG16(weights='imagenet', include_top=False, input_shape=(image_size, image_size, 3))\n",
        "  vgg_conv.trainable = False\n",
        "\n",
        "  model = Sequential()\n",
        "  model.add(vgg_conv)\n",
        "  model.add(Flatten())\n",
        "  model.add(Dense(256, activation='relu'))\n",
        "  model.add(Dense(2, activation='softmax'))\n",
        "  model.compile(optimizer = 'adam',  loss = 'sparse_categorical_crossentropy',metrics=['accuracy']) \n",
        "  return model\n",
        "\n",
        "dogcat_transfer_cnn_model = dogcat_transfer_cnn()\n",
        "dogcat_transfer_cnn_model.summary()"
      ],
      "execution_count": null,
      "outputs": [
        {
          "output_type": "stream",
          "text": [
            "Model: \"sequential_1\"\n",
            "_________________________________________________________________\n",
            "Layer (type)                 Output Shape              Param #   \n",
            "=================================================================\n",
            "vgg16 (Functional)           (None, 7, 7, 512)         14714688  \n",
            "_________________________________________________________________\n",
            "flatten_1 (Flatten)          (None, 25088)             0         \n",
            "_________________________________________________________________\n",
            "dense_2 (Dense)              (None, 256)               6422784   \n",
            "_________________________________________________________________\n",
            "dense_3 (Dense)              (None, 2)                 514       \n",
            "=================================================================\n",
            "Total params: 21,137,986\n",
            "Trainable params: 6,423,298\n",
            "Non-trainable params: 14,714,688\n",
            "_________________________________________________________________\n"
          ],
          "name": "stdout"
        }
      ]
    },
    {
      "cell_type": "code",
      "metadata": {
        "colab": {
          "base_uri": "https://localhost:8080/"
        },
        "id": "2_6UADeM4lVO",
        "outputId": "85b7ad10-7861-48e7-9bd9-f1c37ebce02e"
      },
      "source": [
        "with tf.device(device_name):\n",
        "  dogcat_transfer_cnn_model = dogcat_transfer_cnn()\n",
        "  dogcat_transfer_cnn_model.fit(train_generator, epochs=5)"
      ],
      "execution_count": null,
      "outputs": [
        {
          "output_type": "stream",
          "text": [
            "Epoch 1/5\n",
            "125/125 [==============================] - 33s 237ms/step - loss: 0.6324 - accuracy: 0.8130\n",
            "Epoch 2/5\n",
            "125/125 [==============================] - 29s 231ms/step - loss: 0.2991 - accuracy: 0.8835\n",
            "Epoch 3/5\n",
            "125/125 [==============================] - 30s 243ms/step - loss: 0.2015 - accuracy: 0.9160\n",
            "Epoch 4/5\n",
            "125/125 [==============================] - 30s 243ms/step - loss: 0.1574 - accuracy: 0.9355\n",
            "Epoch 5/5\n",
            "125/125 [==============================] - 28s 227ms/step - loss: 0.1299 - accuracy: 0.9510\n"
          ],
          "name": "stdout"
        }
      ]
    },
    {
      "cell_type": "code",
      "metadata": {
        "colab": {
          "base_uri": "https://localhost:8080/"
        },
        "id": "JwY6wYNL4tFg",
        "outputId": "644e37e1-1493-40c6-e432-530d90a15724"
      },
      "source": [
        "dogcat_transfer_cnn_model.evaluate(test_generator)"
      ],
      "execution_count": null,
      "outputs": [
        {
          "output_type": "stream",
          "text": [
            "50/50 [==============================] - 4s 79ms/step - loss: 0.2689 - accuracy: 0.9100\n"
          ],
          "name": "stdout"
        },
        {
          "output_type": "execute_result",
          "data": {
            "text/plain": [
              "[0.26891928911209106, 0.9100000262260437]"
            ]
          },
          "metadata": {
            "tags": []
          },
          "execution_count": 30
        }
      ]
    },
    {
      "cell_type": "code",
      "metadata": {
        "colab": {
          "base_uri": "https://localhost:8080/"
        },
        "id": "u0Q59OhF7Au2",
        "outputId": "6265572f-a454-4f39-8fab-5e5b803be959"
      },
      "source": [
        "image = load_img('cat.png', target_size=(224, 224))\n",
        "x = img_to_array(image)\n",
        "x = np.expand_dims(x, axis=0)\n",
        "\n",
        "pred = dogcat_transfer_cnn_model.predict(x)\n",
        "print(pred)"
      ],
      "execution_count": null,
      "outputs": [
        {
          "output_type": "stream",
          "text": [
            "[[1. 0.]]\n"
          ],
          "name": "stdout"
        }
      ]
    },
    {
      "cell_type": "markdown",
      "metadata": {
        "id": "FMIWC_bGKJ3J"
      },
      "source": [
        "# 2. YOLO 객체 검출"
      ]
    },
    {
      "cell_type": "markdown",
      "metadata": {
        "id": "J-jTs_TkKQTS"
      },
      "source": [
        "### 1) 가중치 download"
      ]
    },
    {
      "cell_type": "code",
      "metadata": {
        "id": "HdfadyzyKU8i"
      },
      "source": [
        "!wget https://pjreddie.com/media/files/yolov3.weights"
      ],
      "execution_count": null,
      "outputs": []
    },
    {
      "cell_type": "markdown",
      "metadata": {
        "id": "IJxaLP5OK0st"
      },
      "source": [
        "### 2) OpenCV 모델 로딩"
      ]
    },
    {
      "cell_type": "code",
      "metadata": {
        "id": "SdPZsEiccF9j"
      },
      "source": [
        "classes = ['person', 'bicycle', 'car', 'motorbike', 'aeroplane', 'bus', 'train', 'truck', 'boat',\n",
        "           'traffic light', 'fire hydrant', 'stop sign', 'parking meter', 'bench', 'bird', 'cat',\n",
        "           'dog', 'horse', 'sheep', 'cow', 'elephant', 'bear', 'zebra', 'giraffe', 'backpack',\n",
        "           'umbrella', 'handbag', 'tie', 'suitcase', 'frisbee', 'skis', 'snowboard', 'sports ball', \n",
        "           'kite', 'baseball bat', 'baseball glove', 'skateboard', 'surfboard', 'tennis racket', \n",
        "           'bottle', 'wine glass', 'cup', 'fork', 'knife', 'spoon', 'bowl', 'banana', 'apple',\n",
        "           'sandwich', 'orange', 'broccoli', 'carrot', 'hot dog', 'pizza', 'donut', 'cake', 'chair', \n",
        "           'sofa', 'pottedplant', 'bed', 'diningtable', 'toilet', 'tvmonitor', 'laptop', 'mouse', 'remote', \n",
        "           'keyboard', 'cell phone', 'microwave', 'oven', 'toaster', 'sink', 'refrigerator', 'book', 'clock',\n",
        "           'vase', 'scissors', 'teddy bear', 'hair drier', 'toothbrush']\n",
        "\n",
        "\n",
        "\n",
        "modelConfiguration = \"yolov3.cfg\"\n",
        "modelWeights = \"yolov3.weights\"\n",
        "\n",
        "net = cv2.dnn.readNetFromDarknet(modelConfiguration, modelWeights)\n",
        "net.setPreferableBackend(cv2.dnn.DNN_BACKEND_OPENCV)\n",
        "net.setPreferableTarget(cv2.dnn.DNN_TARGET_CPU)"
      ],
      "execution_count": null,
      "outputs": []
    },
    {
      "cell_type": "markdown",
      "metadata": {
        "id": "Mw1ffGAGcxF_"
      },
      "source": [
        "### 3) 객체 검출"
      ]
    },
    {
      "cell_type": "code",
      "metadata": {
        "id": "DjqUqQHvc2fA"
      },
      "source": [
        "frame = cv2.imread(\"cars.jpg\")\n",
        "blob = cv2.dnn.blobFromImage(frame, 1/255, (416, 416), [0,0,0], True, crop=False)\n",
        "net.setInput(blob)\n",
        "outs = net.forward(['yolo_82', 'yolo_94', 'yolo_106'])"
      ],
      "execution_count": null,
      "outputs": []
    },
    {
      "cell_type": "markdown",
      "metadata": {
        "id": "k-JlFc7ud0lU"
      },
      "source": [
        "### 4) 결과행렬 분석\n",
        "\n",
        "- outs[0] :  yolo_82 출력 행렬, 507x85\n",
        "  - 507 = 13x13x3,  13=블럭수, 3=B값\n",
        "  - 85 = 4 + 1 + 80, 4=위치, 1=확률, 80=클래스확률\n",
        "- outs[1] :  yolo_94 출력 행렬\n",
        "  - 2028 = 26x26x3,  26=블럭수, 3=B값\n",
        "  - 85 = 4 + 1 + 80, 4=위치, 1=확률, 80=클래스확률\n",
        "- outs[2] :  yolo_106 출력 행렬\n",
        "  - 8112 = 52x52x3,  52=블럭수, 3=B값\n",
        "  - 85 = 4 + 1 + 80, 4=위치, 1=확률, 80=클래스확률\n",
        "\n",
        "- 최종 bounding box 갯수 = 507+ 2028 + 8112 = 10647\n"
      ]
    },
    {
      "cell_type": "code",
      "metadata": {
        "colab": {
          "base_uri": "https://localhost:8080/"
        },
        "id": "JLmraztrd65F",
        "outputId": "ac7d9fa5-bdd4-4de9-e1db-734240de9d26"
      },
      "source": [
        "print(outs[0].shape, outs[1].shape, outs[2].shape)"
      ],
      "execution_count": null,
      "outputs": [
        {
          "output_type": "stream",
          "text": [
            "(507, 85) (2028, 85) (8112, 85)\n"
          ],
          "name": "stdout"
        }
      ]
    },
    {
      "cell_type": "code",
      "metadata": {
        "colab": {
          "base_uri": "https://localhost:8080/"
        },
        "id": "4W7DQxVIgeJ7",
        "outputId": "ea87db4b-ced2-4652-bd43-48445548c3c6"
      },
      "source": [
        "v = outs[1][232]\n",
        "print(v.shape)\n",
        "print(f\"bounding box{v[0:4]}\")\n",
        "print(f\"객체 확률{v[4]}\")\n",
        "print(f\"80 클래스 확률{v[5:]}\")"
      ],
      "execution_count": null,
      "outputs": [
        {
          "output_type": "stream",
          "text": [
            "(85,)\n",
            "bounding box[0.9857716  0.08763082 0.19384977 0.09296101]\n",
            "객체 확률1.0935357508401466e-08\n",
            "80 클래스 확률[0. 0. 0. 0. 0. 0. 0. 0. 0. 0. 0. 0. 0. 0. 0. 0. 0. 0. 0. 0. 0. 0. 0. 0.\n",
            " 0. 0. 0. 0. 0. 0. 0. 0. 0. 0. 0. 0. 0. 0. 0. 0. 0. 0. 0. 0. 0. 0. 0. 0.\n",
            " 0. 0. 0. 0. 0. 0. 0. 0. 0. 0. 0. 0. 0. 0. 0. 0. 0. 0. 0. 0. 0. 0. 0. 0.\n",
            " 0. 0. 0. 0. 0. 0. 0. 0.]\n"
          ],
          "name": "stdout"
        }
      ]
    },
    {
      "cell_type": "code",
      "metadata": {
        "colab": {
          "base_uri": "https://localhost:8080/"
        },
        "id": "8zrbL8lOhuO7",
        "outputId": "b36aa3b4-f4f9-430e-e303-8b8535ad5307"
      },
      "source": [
        "height, width, _  = frame.shape\n",
        "\n",
        "for l in range(0,3) :\n",
        "  print(f'layer_{l+1}')\n",
        "  for v in outs[l] :\n",
        "    #if v[4] > 0.5 : \n",
        "    if np.max(v[5:]) > 0.3 :\n",
        "      x,y,w,h = v[0:4]\n",
        "      x = int(x * width)\n",
        "      y = int(y * height)\n",
        "      w = int(w * width)\n",
        "      h = int(h * height)\n",
        "      name = classes[np.argmax(v[5:])]\n",
        "      prob = np.max(v[5:])\n",
        "      label = f\"{name} - {int(prob*100)}%\"\n",
        "      print(x, y, w, h, label )"
      ],
      "execution_count": null,
      "outputs": [
        {
          "output_type": "stream",
          "text": [
            "layer_1\n",
            "956 683 361 227 car - 43%\n",
            "1022 967 398 221 car - 92%\n",
            "1042 966 402 216 truck - 36%\n",
            "layer_2\n",
            "579 355 184 160 car - 58%\n",
            "1007 378 230 164 car - 95%\n",
            "703 435 253 152 car - 83%\n",
            "753 489 284 186 car - 97%\n",
            "1350 560 317 219 car - 99%\n",
            "928 677 296 235 car - 99%\n",
            "1023 966 342 217 car - 66%\n",
            "layer_3\n",
            "341 321 104 75 car - 75%\n",
            "546 319 38 29 person - 36%\n",
            "977 324 45 27 person - 52%\n",
            "453 339 84 30 car - 46%\n",
            "709 442 66 35 person - 31%\n",
            "1308 504 58 37 person - 62%\n",
            "1396 509 56 30 person - 35%\n",
            "1102 931 77 49 person - 32%\n",
            "970 937 118 63 person - 59%\n"
          ],
          "name": "stdout"
        }
      ]
    },
    {
      "cell_type": "markdown",
      "metadata": {
        "id": "Um_uM0NlrMII"
      },
      "source": [
        "### 5) bounding box 그리기"
      ]
    },
    {
      "cell_type": "code",
      "metadata": {
        "colab": {
          "base_uri": "https://localhost:8080/",
          "height": 315
        },
        "id": "Fi_efoi1rRbD",
        "outputId": "0b9a7957-0ec5-4b37-f914-8bbb22bd6313"
      },
      "source": [
        "output = frame.copy()\n",
        "\n",
        "for l in range(0,3) :\n",
        "  print(f'layer_{l+1}')\n",
        "  for v in outs[l] :\n",
        "    if np.max(v[5:]) > 0.3 :\n",
        "      x,y,w,h = v[0:4]\n",
        "      x = x - w/2\n",
        "      y = y - h/2\n",
        "      x = int(x * width)\n",
        "      y = int(y * height)\n",
        "      w = int(w * width)\n",
        "      h = int(h * height)\n",
        "      name = classes[np.argmax(v[5:])]\n",
        "      prob = np.max(v[5:])\n",
        "      label = f\"{name} - {int(prob*100)}%\"\n",
        "\n",
        "      cv2.rectangle(output, (x,y), (x + w, y + h), (0,0,255), 3 )  \n",
        "\n",
        "plt.imshow(output)\n",
        "#cv2_imshow(output)"
      ],
      "execution_count": null,
      "outputs": [
        {
          "output_type": "stream",
          "text": [
            "layer_1\n",
            "layer_2\n",
            "layer_3\n"
          ],
          "name": "stdout"
        },
        {
          "output_type": "execute_result",
          "data": {
            "text/plain": [
              "<matplotlib.image.AxesImage at 0x7f557624fb90>"
            ]
          },
          "metadata": {
            "tags": []
          },
          "execution_count": 20
        },
        {
          "output_type": "display_data",
          "data": {
            "image/png": "[encoded data removed]",
            "text/plain": [
              "<Figure size 432x288 with 1 Axes>"
            ]
          },
          "metadata": {
            "tags": [],
            "needs_background": "light"
          }
        }
      ]
    },
    {
      "cell_type": "markdown",
      "metadata": {
        "id": "gRanDnqYv8IQ"
      },
      "source": [
        "### 6) custom이미지를 이용한 YOLO  학습\n",
        "- source code 컴파일\n",
        "- yolo marker이용해 data 생성\n",
        "- darknet 프로그램을 이용해 학습(GPU)\n",
        "  - 전이학습을 위한 가중치 download(yolov4.conv.137)"
      ]
    },
    {
      "cell_type": "code",
      "metadata": {
        "id": "3c2SQTEiwbF0"
      },
      "source": [
        "%cd /content\n",
        "!git clone https://github.com/AlexeyAB/darknet.git"
      ],
      "execution_count": null,
      "outputs": []
    },
    {
      "cell_type": "code",
      "metadata": {
        "colab": {
          "base_uri": "https://localhost:8080/"
        },
        "id": "Mg0EhyN2xKP2",
        "outputId": "b1e2544c-b84b-4e10-e93b-45cc8d7b848b"
      },
      "source": [
        "%cd /content/darknet"
      ],
      "execution_count": null,
      "outputs": [
        {
          "output_type": "stream",
          "text": [
            "/content/darknet\n"
          ],
          "name": "stdout"
        }
      ]
    },
    {
      "cell_type": "code",
      "metadata": {
        "id": "7pI3uKGvxS15"
      },
      "source": [
        "# GPU\n",
        "!sed -i 's/OPENCV=0/OPENCV=1/' Makefile\n",
        "!sed -i 's/GPU=0/GPU=1/' Makefile\n",
        "!sed -i 's/CUDNN=0/CUDNN=1/' Makefile\n",
        "!sed -i 's/CUDNN_HALF=0/CUDNN_HALF=1/' Makefile\n",
        "!make"
      ],
      "execution_count": null,
      "outputs": []
    },
    {
      "cell_type": "code",
      "metadata": {
        "id": "R57J-ecO2A7l"
      },
      "source": [
        "!wget github.com/AlexeyAB/darknet/releases/download/darknet_yolo_v3_optimal/yolov4.conv.137"
      ],
      "execution_count": null,
      "outputs": []
    },
    {
      "cell_type": "code",
      "metadata": {
        "colab": {
          "base_uri": "https://localhost:8080/"
        },
        "id": "KEIS8z452vRG",
        "outputId": "354b7cc3-aeb1-4611-f03d-47206ec2f343"
      },
      "source": [
        "%cd /content/darknet\n",
        "!chmod +x /content/darknet/darknet\n",
        "!./darknet detector train custom/obj.data custom/yolov4.cfg yolov4.conv.137 -map -dont_show"
      ],
      "execution_count": null,
      "outputs": [
        {
          "output_type": "stream",
          "text": [
            "/content/darknet\n",
            "CUDA status Error: file: ./src/dark_cuda.c : () : line: 39 : build time: Aug 18 2021 - 05:39:50 \n",
            "\n",
            " CUDA Error: no CUDA-capable device is detected\n",
            "Darknet error location: ./src/dark_cuda.c, check_error, line #70\n",
            "CUDA Error: no CUDA-capable device is detected: Bad file descriptor\n"
          ],
          "name": "stdout"
        }
      ]
    },
    {
      "cell_type": "markdown",
      "metadata": {
        "id": "3ruKzQs945hL"
      },
      "source": [
        "###### obj.data\n",
        "\n",
        "- classes= 1\n",
        "- train  = data/train.txt\n",
        "- valid  = data/train.txt\n",
        "- names = data/obj.names\n",
        "- backup = backup/\n",
        "\n",
        "###### yolov4.cfg 수정\n",
        "\n",
        "\n",
        "- batch=16   GPU 크기에 따라 수정\n",
        "- width=408    이미지 크기\n",
        "- height=408   이미지 크기\n",
        "- max_batches=3000  클래스수 * 2000\n",
        "- steps=1400,1800    max_batches*0.8,  max_batches*0.9\n",
        "\n",
        "\n",
        "\n",
        "- [yolo]\n",
        "  - classes=1\n",
        "- [yolo]위에 있는 [convolutional]\n",
        "  - filters = 18 ( 클래스수+4+1)*3\n",
        "- [yolo], [convolutional] 3개에 대해서  수정\n",
        "  "
      ]
    },
    {
      "cell_type": "code",
      "metadata": {
        "colab": {
          "base_uri": "https://localhost:8080/",
          "height": 36
        },
        "id": "N67flifU609H",
        "outputId": "478b0bae-f541-462e-b69c-32595bfc6f0b"
      },
      "source": [
        "# OpenCV 최신버전 upgrade\n",
        "cv2.__version__"
      ],
      "execution_count": null,
      "outputs": [
        {
          "output_type": "execute_result",
          "data": {
            "application/vnd.google.colaboratory.intrinsic+json": {
              "type": "string"
            },
            "text/plain": [
              "'4.1.2'"
            ]
          },
          "metadata": {
            "tags": []
          },
          "execution_count": 28
        }
      ]
    },
    {
      "cell_type": "code",
      "metadata": {
        "colab": {
          "base_uri": "https://localhost:8080/",
          "height": 279
        },
        "id": "1ozXozzO-0KF",
        "outputId": "46d4eeb8-9222-43f1-ed80-6cc1c7361f9e"
      },
      "source": [
        "#!pip uninstall opencv-python\n",
        "!pip install opencv-python"
      ],
      "execution_count": null,
      "outputs": [
        {
          "output_type": "stream",
          "text": [
            "Collecting opencv-python\n",
            "  Downloading opencv_python-4.5.3.56-cp37-cp37m-manylinux2014_x86_64.whl (49.9 MB)\n",
            "\u001b[K     |████████████████████████████████| 49.9 MB 16 kB/s \n",
            "\u001b[?25hRequirement already satisfied: numpy>=1.14.5 in /usr/local/lib/python3.7/dist-packages (from opencv-python) (1.19.5)\n",
            "Installing collected packages: opencv-python\n",
            "\u001b[31mERROR: pip's dependency resolver does not currently take into account all the packages that are installed. This behaviour is the source of the following dependency conflicts.\n",
            "albumentations 0.1.12 requires imgaug<0.2.7,>=0.2.5, but you have imgaug 0.2.9 which is incompatible.\u001b[0m\n",
            "Successfully installed opencv-python-4.5.3.56\n"
          ],
          "name": "stdout"
        },
        {
          "output_type": "display_data",
          "data": {
            "application/vnd.colab-display-data+json": {
              "pip_warning": {
                "packages": [
                  "cv2"
                ]
              }
            }
          },
          "metadata": {
            "tags": []
          }
        }
      ]
    }
  ]
}