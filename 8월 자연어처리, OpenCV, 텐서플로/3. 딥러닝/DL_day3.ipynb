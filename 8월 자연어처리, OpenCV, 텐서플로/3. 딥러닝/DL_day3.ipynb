{
 "cells": [
  {
   "cell_type": "markdown",
   "id": "55f6e049-64e2-4d5d-9ba1-2698bb94dba4",
   "metadata": {},
   "source": [
    "# 📚 1. XOR 다층신경망"
   ]
  },
  {
   "cell_type": "code",
   "execution_count": 29,
   "id": "0ce51b4f-3955-4d1f-95d4-75a987669f40",
   "metadata": {},
   "outputs": [],
   "source": [
    "import numpy as np\n",
    "import matplotlib.pyplot as plt\n",
    "from keras.models import Sequential\n",
    "from keras.layers import Dense, LeakyReLU, Activation, Flatten\n",
    "from sklearn import datasets\n",
    "import keras\n",
    "from keras.datasets import fashion_mnist\n",
    "\n",
    "#import tensorflow.keras.datasets\n"
   ]
  },
  {
   "cell_type": "code",
   "execution_count": 2,
   "id": "69e6617f-a07d-4a31-af46-e32b7b462e9f",
   "metadata": {},
   "outputs": [
    {
     "name": "stdout",
     "output_type": "stream",
     "text": [
      "[[2.8613210e-04]\n",
      " [9.9819738e-01]\n",
      " [9.9958152e-01]\n",
      " [1.7573833e-03]]\n",
      "[[False]\n",
      " [ True]\n",
      " [ True]\n",
      " [False]]\n"
     ]
    }
   ],
   "source": [
    "X = np.array([[0,0],[0,1],[1,0],[1,1]])\n",
    "y = np.array([[0],[1],[1],[0]])\n",
    "\n",
    "model = Sequential()\n",
    "model.add(Dense(5, activation='sigmoid'))\n",
    "model.add(Dense(5, activation='sigmoid'))\n",
    "model.add(Dense(1, activation='sigmoid'))\n",
    "model.compile(loss='binary_crossentropy', optimizer='adam')\n",
    "hist = model.fit(X, y,  epochs=7000, verbose=0)\n",
    "print(model.predict(X))\n",
    "print(model.predict(X) > 0.5)  # accuracy"
   ]
  },
  {
   "cell_type": "markdown",
   "id": "7170e97e-96d3-43de-ae2a-f73093a0ddf5",
   "metadata": {},
   "source": [
    "# 📚 2. ReLU 활성화 함수"
   ]
  },
  {
   "cell_type": "code",
   "execution_count": 4,
   "id": "f5344a95-d574-480c-b851-99e8ee8527f2",
   "metadata": {},
   "outputs": [
    {
     "name": "stdout",
     "output_type": "stream",
     "text": [
      "[[0.3333732 ]\n",
      " [0.33337063]\n",
      " [0.99950206]\n",
      " [0.33337277]]\n",
      "[[False]\n",
      " [False]\n",
      " [ True]\n",
      " [False]]\n"
     ]
    }
   ],
   "source": [
    "model = Sequential()\n",
    "model.add(Dense(5, activation='sigmoid'))\n",
    "model.add(Dense(5, activation='sigmoid'))\n",
    "model.add(Dense(5, activation='sigmoid'))\n",
    "model.add(Dense(5, activation='sigmoid'))\n",
    "model.add(Dense(5, activation='sigmoid'))\n",
    "model.add(Dense(5, activation='sigmoid'))\n",
    "model.add(Dense(5, activation='sigmoid'))\n",
    "model.add(Dense(1, activation='sigmoid'))\n",
    "model.compile(loss='binary_crossentropy', optimizer='adam')\n",
    "hist = model.fit(X, y,  epochs=7000, verbose=0)\n",
    "print(model.predict(X))\n",
    "print(model.predict(X) > 0.5)  # accuracy"
   ]
  },
  {
   "cell_type": "code",
   "execution_count": 5,
   "id": "fda8328b-81d2-47fd-887d-d938fee6194c",
   "metadata": {},
   "outputs": [
    {
     "name": "stdout",
     "output_type": "stream",
     "text": [
      "1/1 [==============================] - 0s 203ms/step - loss: 0.4776 - accuracy: 0.7500\n",
      "1/1 [==============================] - 0s 116ms/step - loss: 0.4774 - accuracy: 0.7500\n",
      "1/1 [==============================] - 0s 109ms/step - loss: 7.1597e-04 - accuracy: 1.0000\n",
      "1/1 [==============================] - 0s 101ms/step - loss: 0.4775 - accuracy: 0.7500\n",
      "WARNING:tensorflow:5 out of the last 5 calls to <function Model.make_test_function.<locals>.test_function at 0x000001D98ECE4DC0> triggered tf.function retracing. Tracing is expensive and the excessive number of tracings could be due to (1) creating @tf.function repeatedly in a loop, (2) passing tensors with different shapes, (3) passing Python objects instead of tensors. For (1), please define your @tf.function outside of the loop. For (2), @tf.function has experimental_relax_shapes=True option that relaxes argument shapes that can avoid unnecessary retracing. For (3), please refer to https://www.tensorflow.org/guide/function#controlling_retracing and https://www.tensorflow.org/api_docs/python/tf/function for  more details.\n",
      "1/1 [==============================] - 0s 104ms/step - loss: 0.0010 - accuracy: 1.0000\n",
      "WARNING:tensorflow:6 out of the last 6 calls to <function Model.make_test_function.<locals>.test_function at 0x000001D98D8DE4C0> triggered tf.function retracing. Tracing is expensive and the excessive number of tracings could be due to (1) creating @tf.function repeatedly in a loop, (2) passing tensors with different shapes, (3) passing Python objects instead of tensors. For (1), please define your @tf.function outside of the loop. For (2), @tf.function has experimental_relax_shapes=True option that relaxes argument shapes that can avoid unnecessary retracing. For (3), please refer to https://www.tensorflow.org/guide/function#controlling_retracing and https://www.tensorflow.org/api_docs/python/tf/function for  more details.\n",
      "1/1 [==============================] - 0s 94ms/step - loss: 0.4776 - accuracy: 0.7500\n",
      "1/1 [==============================] - 0s 111ms/step - loss: 7.6609e-04 - accuracy: 1.0000\n",
      "1/1 [==============================] - 0s 105ms/step - loss: 0.4776 - accuracy: 0.7500\n",
      "1/1 [==============================] - 0s 104ms/step - loss: 0.0013 - accuracy: 1.0000\n",
      "1/1 [==============================] - 0s 105ms/step - loss: 0.4775 - accuracy: 0.7500\n",
      "1/1 [==============================] - 0s 108ms/step - loss: 6.6985e-04 - accuracy: 1.0000\n",
      "1/1 [==============================] - 0s 95ms/step - loss: 0.0012 - accuracy: 1.0000\n",
      "1/1 [==============================] - 0s 113ms/step - loss: 0.4776 - accuracy: 0.7500\n",
      "1/1 [==============================] - 0s 101ms/step - loss: 0.4781 - accuracy: 0.7500\n",
      "1/1 [==============================] - 0s 142ms/step - loss: 0.4775 - accuracy: 0.7500\n",
      "1/1 [==============================] - 0s 99ms/step - loss: 0.4778 - accuracy: 0.7500\n",
      "1/1 [==============================] - 0s 111ms/step - loss: 0.4775 - accuracy: 0.7500\n",
      "1/1 [==============================] - 0s 122ms/step - loss: 0.4775 - accuracy: 0.7500\n",
      "1/1 [==============================] - 0s 118ms/step - loss: 7.8064e-04 - accuracy: 1.0000\n",
      "1/1 [==============================] - 0s 109ms/step - loss: 0.4775 - accuracy: 0.7500\n"
     ]
    }
   ],
   "source": [
    "accs = []\n",
    "for  i  in range(20) :\n",
    "  model = Sequential()\n",
    "  model.add(Dense(5, activation='sigmoid'))\n",
    "  model.add(Dense(5, activation='sigmoid'))\n",
    "  model.add(Dense(5, activation='sigmoid'))\n",
    "  model.add(Dense(5, activation='sigmoid'))\n",
    "  model.add(Dense(5, activation='sigmoid'))\n",
    "  model.add(Dense(5, activation='sigmoid'))\n",
    "  model.add(Dense(5, activation='sigmoid'))\n",
    "  model.add(Dense(1, activation='sigmoid'))\n",
    "  model.compile(loss='binary_crossentropy', optimizer='adam', metrics=['accuracy'])\n",
    "  hist = model.fit(X, y,  epochs=7000, verbose=0)\n",
    "  acc = model.evaluate(X,y)\n",
    "  accs.append(acc[1])   "
   ]
  },
  {
   "cell_type": "code",
   "execution_count": 8,
   "id": "0f0b9d37-147e-47b7-91b4-8ca18e2864c0",
   "metadata": {},
   "outputs": [
    {
     "name": "stdout",
     "output_type": "stream",
     "text": [
      "[[1.0483822e-05]\n",
      " [9.9999690e-01]\n",
      " [9.9994332e-01]\n",
      " [1.4495850e-04]]\n",
      "1/1 [==============================] - 0s 94ms/step - loss: 5.3789e-05 - accuracy: 1.0000\n",
      "[5.378942296374589e-05, 1.0]\n"
     ]
    },
    {
     "data": {
      "text/plain": [
       "[<matplotlib.lines.Line2D at 0x1d990fb2dc0>]"
      ]
     },
     "execution_count": 8,
     "metadata": {},
     "output_type": "execute_result"
    },
    {
     "data": {
      "image/png": "[encoded data removed]",
      "text/plain": [
       "<Figure size 432x288 with 1 Axes>"
      ]
     },
     "metadata": {
      "needs_background": "light"
     },
     "output_type": "display_data"
    }
   ],
   "source": [
    "model = Sequential()\n",
    "model.add(Dense(5, activation='relu'))\n",
    "model.add(Dense(5, activation='relu'))\n",
    "model.add(Dense(5, activation='relu'))\n",
    "model.add(Dense(5, activation='relu'))\n",
    "model.add(Dense(5, activation='relu'))\n",
    "model.add(Dense(5, activation='relu'))\n",
    "model.add(Dense(1, activation='sigmoid'))\n",
    "model.compile(loss='binary_crossentropy', optimizer='adam', metrics=['accuracy'])\n",
    "hist = model.fit(X, y,  epochs=3000, verbose=0)\n",
    "print(model.predict(X))\n",
    "print(model.evaluate(X, y))\n",
    "plt.plot(hist.history['accuracy'])"
   ]
  },
  {
   "cell_type": "code",
   "execution_count": 7,
   "id": "c927a4f4-d9ff-458c-b009-ee110c357d49",
   "metadata": {},
   "outputs": [
    {
     "data": {
      "text/plain": [
       "[<matplotlib.lines.Line2D at 0x1d991004a60>]"
      ]
     },
     "execution_count": 7,
     "metadata": {},
     "output_type": "execute_result"
    },
    {
     "data": {
      "image/png": "[encoded data removed]",
      "text/plain": [
       "<Figure size 432x288 with 1 Axes>"
      ]
     },
     "metadata": {
      "needs_background": "light"
     },
     "output_type": "display_data"
    }
   ],
   "source": [
    "plt.plot(hist.history['accuracy'])"
   ]
  },
  {
   "cell_type": "code",
   "execution_count": 11,
   "id": "8340ebb4-2ec7-49f1-82cf-eed212cbed1d",
   "metadata": {},
   "outputs": [
    {
     "name": "stdout",
     "output_type": "stream",
     "text": [
      "WARNING:tensorflow:5 out of the last 7 calls to <function Model.make_predict_function.<locals>.predict_function at 0x000001D9944B8A60> triggered tf.function retracing. Tracing is expensive and the excessive number of tracings could be due to (1) creating @tf.function repeatedly in a loop, (2) passing tensors with different shapes, (3) passing Python objects instead of tensors. For (1), please define your @tf.function outside of the loop. For (2), @tf.function has experimental_relax_shapes=True option that relaxes argument shapes that can avoid unnecessary retracing. For (3), please refer to https://www.tensorflow.org/guide/function#controlling_retracing and https://www.tensorflow.org/api_docs/python/tf/function for  more details.\n",
      "[[0.0019275 ]\n",
      " [0.9992367 ]\n",
      " [0.99662393]\n",
      " [0.00106677]]\n",
      "1/1 [==============================] - 0s 75ms/step - loss: 0.0018 - accuracy: 1.0000\n",
      "[0.0017855075420811772, 1.0]\n"
     ]
    },
    {
     "data": {
      "text/plain": [
       "[<matplotlib.lines.Line2D at 0x1d9956c3220>]"
      ]
     },
     "execution_count": 11,
     "metadata": {},
     "output_type": "execute_result"
    },
    {
     "data": {
      "image/png": "[encoded data removed]",
      "text/plain": [
       "<Figure size 432x288 with 1 Axes>"
      ]
     },
     "metadata": {
      "needs_background": "light"
     },
     "output_type": "display_data"
    }
   ],
   "source": [
    "model = Sequential()\n",
    "model.add(Dense(5, activation=LeakyReLU(0.1)))\n",
    "model.add(Dense(5, activation=LeakyReLU(0.1)))\n",
    "model.add(Dense(1, activation='sigmoid'))\n",
    "model.compile(loss='binary_crossentropy', optimizer='adam', metrics=['accuracy'])\n",
    "hist = model.fit(X, y,  epochs=3000, verbose=0)\n",
    "print(model.predict(X))\n",
    "print(model.evaluate(X, y))\n",
    "plt.plot(hist.history['accuracy'])"
   ]
  },
  {
   "cell_type": "code",
   "execution_count": 16,
   "id": "35196dba-47bf-4b15-94eb-7d9e3743a302",
   "metadata": {},
   "outputs": [
    {
     "name": "stdout",
     "output_type": "stream",
     "text": [
      "1/1 [==============================] - 0s 104ms/step - loss: 3.4793e-04 - accuracy: 1.0000\n",
      "[0.0003479275619611144, 1.0]\n",
      "1/1 [==============================] - 0s 169ms/step - loss: 2.1946e-05 - accuracy: 1.0000\n",
      "[2.1945552362012677e-05, 1.0]\n",
      "1/1 [==============================] - 0s 117ms/step - loss: 2.5583e-06 - accuracy: 1.0000\n",
      "[2.5582728540030075e-06, 1.0]\n",
      "1/1 [==============================] - 0s 137ms/step - loss: 2.2056e-06 - accuracy: 1.0000\n",
      "[2.2056156012695283e-06, 1.0]\n",
      "1/1 [==============================] - 0s 148ms/step - loss: 0.6931 - accuracy: 0.5000\n",
      "[0.6931471824645996, 0.5]\n"
     ]
    }
   ],
   "source": [
    "# 최적의 파라미터를 찾기 위해서는 다양한 조건의 모델테스트를 통해 찾아야 한다.\n",
    "layers = [3, 5, 10, 15, 20]\n",
    "\n",
    "for ex in layers :\n",
    "    model = Sequential()\n",
    "    for i in range(ex) :\n",
    "      model.add(Dense(5, activation=LeakyReLU(0.1)))\n",
    "\n",
    "    model.add(Dense(1, activation='sigmoid'))\n",
    "    model.compile(loss='binary_crossentropy', optimizer='adam', metrics=['accuracy'])\n",
    "    hist = model.fit(X, y,  epochs=3000, verbose=0)\n",
    "    print(model.evaluate(X, y))"
   ]
  },
  {
   "cell_type": "code",
   "execution_count": 15,
   "id": "5fe33088-5249-4c91-91c0-bfdddd984fdc",
   "metadata": {},
   "outputs": [
    {
     "data": {
      "text/plain": [
       "[<matplotlib.lines.Line2D at 0x1d98fddeca0>]"
      ]
     },
     "execution_count": 15,
     "metadata": {},
     "output_type": "execute_result"
    },
    {
     "data": {
      "image/png": "[encoded data removed]",
      "text/plain": [
       "<Figure size 432x288 with 1 Axes>"
      ]
     },
     "metadata": {
      "needs_background": "light"
     },
     "output_type": "display_data"
    }
   ],
   "source": [
    "plt.plot(hist.history['loss'])\n",
    "plt.plot(hist.history['accuracy'])"
   ]
  },
  {
   "cell_type": "markdown",
   "id": "10c207f3-93a4-4e7a-bd0e-25719c90f1e7",
   "metadata": {},
   "source": [
    "# 📚 3.가중치 초기화"
   ]
  },
  {
   "cell_type": "code",
   "execution_count": 17,
   "id": "c5f6fcaa-f22e-45ce-9907-fcafce64969c",
   "metadata": {},
   "outputs": [
    {
     "data": {
      "text/plain": [
       "[<matplotlib.lines.Line2D at 0x1d98d91a5b0>]"
      ]
     },
     "execution_count": 17,
     "metadata": {},
     "output_type": "execute_result"
    },
    {
     "data": {
      "image/png": "[encoded data removed]",
      "text/plain": [
       "<Figure size 432x288 with 1 Axes>"
      ]
     },
     "metadata": {
      "needs_background": "light"
     },
     "output_type": "display_data"
    }
   ],
   "source": [
    "model = Sequential()\n",
    "model.add(Dense(5, activation=LeakyReLU(0.1), kernel_initializer='he_normal'))\n",
    "model.add(Dense(10, activation=LeakyReLU(0.1), kernel_initializer='he_normal'))\n",
    "model.add(Dense(1, activation='sigmoid', kernel_initializer='he_normal'))\n",
    "model.compile(loss='binary_crossentropy', optimizer='adam', metrics=['accuracy'])\n",
    "hist = model.fit(X, y,  epochs=3000, verbose=0)\n",
    "plt.plot(hist.history['accuracy'])"
   ]
  },
  {
   "cell_type": "markdown",
   "id": "6d97dbc2-332c-4f24-9e51-3a8df86ee417",
   "metadata": {},
   "source": [
    "# 📚 4.fasion mnist 영상 인식"
   ]
  },
  {
   "cell_type": "code",
   "execution_count": 22,
   "id": "28ad6e9c-619c-4ebb-9f0e-be208fb679f4",
   "metadata": {},
   "outputs": [
    {
     "name": "stdout",
     "output_type": "stream",
     "text": [
      "Downloading data from https://storage.googleapis.com/tensorflow/tf-keras-datasets/train-labels-idx1-ubyte.gz\n",
      "32768/29515 [=================================] - 0s 0us/step\n",
      "40960/29515 [=========================================] - 0s 0us/step\n",
      "Downloading data from https://storage.googleapis.com/tensorflow/tf-keras-datasets/train-images-idx3-ubyte.gz\n",
      "26427392/26421880 [==============================] - 1s 0us/step\n",
      "26435584/26421880 [==============================] - 1s 0us/step\n",
      "Downloading data from https://storage.googleapis.com/tensorflow/tf-keras-datasets/t10k-labels-idx1-ubyte.gz\n",
      "16384/5148 [===============================================================================================] - 0s 0s/step\n",
      "Downloading data from https://storage.googleapis.com/tensorflow/tf-keras-datasets/t10k-images-idx3-ubyte.gz\n",
      "4423680/4422102 [==============================] - 0s 0us/step\n",
      "4431872/4422102 [==============================] - 0s 0us/step\n"
     ]
    }
   ],
   "source": [
    "class_names = ['T-shirt/top', 'Trouser', 'Pullover', 'Dress', 'Coat',\n",
    "               'Sandal', 'Shirt', 'Sneaker', 'Bag', 'Ankle boot']\n",
    "\n",
    "(x_train, y_train), (x_test, y_test) = fashion_mnist.load_data() "
   ]
  },
  {
   "cell_type": "code",
   "execution_count": 23,
   "id": "5b4a06ab-082c-45f9-97a6-eac3c7405b5e",
   "metadata": {},
   "outputs": [
    {
     "name": "stdout",
     "output_type": "stream",
     "text": [
      "(60000, 28, 28)\n",
      "(60000,)\n",
      "(10000, 28, 28)\n",
      "(10000,)\n"
     ]
    }
   ],
   "source": [
    "print(x_train.shape)\n",
    "print(y_train.shape)\n",
    "print(x_test.shape)\n",
    "print(y_test.shape)"
   ]
  },
  {
   "cell_type": "code",
   "execution_count": 24,
   "id": "9724e7ac-cf6b-4bb5-afa1-1396d80e2469",
   "metadata": {},
   "outputs": [
    {
     "data": {
      "text/plain": [
       "<matplotlib.image.AxesImage at 0x1d99581e9a0>"
      ]
     },
     "execution_count": 24,
     "metadata": {},
     "output_type": "execute_result"
    },
    {
     "data": {
      "image/png": "[encoded data removed]",
      "text/plain": [
       "<Figure size 432x288 with 1 Axes>"
      ]
     },
     "metadata": {
      "needs_background": "light"
     },
     "output_type": "display_data"
    }
   ],
   "source": [
    "# 이미지 확인(범위)\n",
    "x_train[0]   #흑백이미지 28x28  0~255\n",
    "plt.imshow(x_train[233], cmap='gray')"
   ]
  },
  {
   "cell_type": "code",
   "execution_count": 25,
   "id": "1277dbfc-f994-4666-844b-1b41227d701d",
   "metadata": {},
   "outputs": [
    {
     "data": {
      "text/plain": [
       "array([9, 0, 0, ..., 3, 0, 5], dtype=uint8)"
      ]
     },
     "execution_count": 25,
     "metadata": {},
     "output_type": "execute_result"
    }
   ],
   "source": [
    "# 레이블 확인  (레이블, one-hot, 정렬)\n",
    "y_train"
   ]
  },
  {
   "cell_type": "code",
   "execution_count": 26,
   "id": "c2fc3a99-2b61-4d52-b2e1-5efd674badd2",
   "metadata": {},
   "outputs": [
    {
     "data": {
      "text/plain": [
       "Text(0.5, 1.0, 'Ankle boot')"
      ]
     },
     "execution_count": 26,
     "metadata": {},
     "output_type": "execute_result"
    },
    {
     "data": {
      "image/png": "[encoded data removed]",
      "text/plain": [
       "<Figure size 432x288 with 1 Axes>"
      ]
     },
     "metadata": {
      "needs_background": "light"
     },
     "output_type": "display_data"
    }
   ],
   "source": [
    "plt.imshow(x_train[0], cmap='gray')\n",
    "plt.title(class_names[y_train[0]])"
   ]
  },
  {
   "cell_type": "code",
   "execution_count": 30,
   "id": "b7c6f530-8347-49b3-aeca-cdbceed6b0ab",
   "metadata": {},
   "outputs": [
    {
     "name": "stdout",
     "output_type": "stream",
     "text": [
      "(60000, 784)\n",
      "Model: \"sequential_39\"\n",
      "_________________________________________________________________\n",
      "Layer (type)                 Output Shape              Param #   \n",
      "=================================================================\n",
      "dense_417 (Dense)            (None, 128)               100480    \n",
      "_________________________________________________________________\n",
      "activation (Activation)      (None, 128)               0         \n",
      "_________________________________________________________________\n",
      "dense_418 (Dense)            (None, 64)                8256      \n",
      "_________________________________________________________________\n",
      "activation_1 (Activation)    (None, 64)                0         \n",
      "_________________________________________________________________\n",
      "dense_419 (Dense)            (None, 10)                650       \n",
      "_________________________________________________________________\n",
      "activation_2 (Activation)    (None, 10)                0         \n",
      "=================================================================\n",
      "Total params: 109,386\n",
      "Trainable params: 109,386\n",
      "Non-trainable params: 0\n",
      "_________________________________________________________________\n",
      "Epoch 1/2\n",
      "1875/1875 [==============================] - 3s 1ms/step - loss: 1.8989 - accuracy: 0.7519\n",
      "Epoch 2/2\n",
      "1875/1875 [==============================] - 2s 1ms/step - loss: 0.5310 - accuracy: 0.8174\n"
     ]
    },
    {
     "data": {
      "text/plain": [
       "<keras.callbacks.History at 0x1d99444fd00>"
      ]
     },
     "execution_count": 30,
     "metadata": {},
     "output_type": "execute_result"
    }
   ],
   "source": [
    "# 네트워크 구성\n",
    "\n",
    "x_train_1d = x_train.reshape(-1, 784)\n",
    "print(x_train_1d.shape)\n",
    "\n",
    "model = Sequential([\n",
    "    Dense(128, input_shape=(784,)),   #  70% - 150% (2^ 사용)\n",
    "    Activation('relu'),\n",
    "\n",
    "    Dense(64),   #  70% - 150% (2^ 사용)\n",
    "    Activation('relu'),\n",
    "\n",
    "    Dense(10),\n",
    "    Activation('softmax'),\n",
    "])\n",
    "\n",
    "model.summary()\n",
    "\n",
    "model.compile(loss='sparse_categorical_crossentropy', optimizer=\"adam\", metrics=[\"accuracy\"])\n",
    "model.fit(x_train_1d, y_train, epochs=2)"
   ]
  },
  {
   "cell_type": "code",
   "execution_count": 31,
   "id": "f0e873ec-2d88-48ef-9489-286e6514be85",
   "metadata": {},
   "outputs": [
    {
     "name": "stdout",
     "output_type": "stream",
     "text": [
      "WARNING:tensorflow:6 out of the last 8 calls to <function Model.make_predict_function.<locals>.predict_function at 0x000001D98FE82A60> triggered tf.function retracing. Tracing is expensive and the excessive number of tracings could be due to (1) creating @tf.function repeatedly in a loop, (2) passing tensors with different shapes, (3) passing Python objects instead of tensors. For (1), please define your @tf.function outside of the loop. For (2), @tf.function has experimental_relax_shapes=True option that relaxes argument shapes that can avoid unnecessary retracing. For (3), please refer to https://www.tensorflow.org/guide/function#controlling_retracing and https://www.tensorflow.org/api_docs/python/tf/function for  more details.\n",
      "[[0.00204402]\n",
      " [0.9992229 ]\n",
      " [0.9986563 ]\n",
      " [0.00402713]]\n",
      "[[False]\n",
      " [ True]\n",
      " [ True]\n",
      " [False]]\n"
     ]
    }
   ],
   "source": [
    "X = np.array([[0,0],[0,1],[1,0],[1,1]])\n",
    "y = np.array([[0],[1],[1],[0]])\n",
    "\n",
    "model = Sequential()\n",
    "model.add(Dense(5, activation='sigmoid'))\n",
    "model.add(Dense(5, activation='sigmoid'))\n",
    "model.add(Dense(1, activation='sigmoid'))\n",
    "model.compile(loss='binary_crossentropy', optimizer='adam')\n",
    "hist = model.fit(X, y,  epochs=7000, verbose=0)\n",
    "print(model.predict(X))\n",
    "print(model.predict(X) > 0.5)  # accuracy"
   ]
  },
  {
   "cell_type": "code",
   "execution_count": 33,
   "id": "51798021-d01b-44da-ac8e-306532ce425f",
   "metadata": {},
   "outputs": [
    {
     "name": "stdout",
     "output_type": "stream",
     "text": [
      "Model: \"sequential_42\"\n",
      "_________________________________________________________________\n",
      "Layer (type)                 Output Shape              Param #   \n",
      "=================================================================\n",
      "flatten (Flatten)            (None, 784)               0         \n",
      "_________________________________________________________________\n",
      "dense_431 (Dense)            (None, 128)               100480    \n",
      "_________________________________________________________________\n",
      "activation_3 (Activation)    (None, 128)               0         \n",
      "_________________________________________________________________\n",
      "dense_432 (Dense)            (None, 64)                8256      \n",
      "_________________________________________________________________\n",
      "activation_4 (Activation)    (None, 64)                0         \n",
      "_________________________________________________________________\n",
      "dense_433 (Dense)            (None, 10)                650       \n",
      "_________________________________________________________________\n",
      "activation_5 (Activation)    (None, 10)                0         \n",
      "=================================================================\n",
      "Total params: 109,386\n",
      "Trainable params: 109,386\n",
      "Non-trainable params: 0\n",
      "_________________________________________________________________\n"
     ]
    }
   ],
   "source": [
    "#Flatten 레이어 사용하기\n",
    "#a = np.array([[[1,2], [3,4]]])\n",
    "#print(a.shape)\n",
    "#a.flatten()\n",
    "\n",
    "model = Sequential([\n",
    "\n",
    "    Flatten(input_shape=(28, 28)),  \n",
    "\n",
    "    Dense(128), \n",
    "    Activation('relu'),\n",
    "\n",
    "    Dense(64),  \n",
    "    Activation('relu'),\n",
    "\n",
    "    Dense(10),\n",
    "    Activation('softmax'),\n",
    "])\n",
    "\n",
    "model.summary()\n",
    "\n",
    "model.compile(loss='sparse_categorical_crossentropy', optimizer=\"adam\", metrics=[\"accuracy\"])\n"
   ]
  },
  {
   "cell_type": "code",
   "execution_count": 34,
   "id": "75f6ef87-b5dc-4b57-b48a-ab06d37b975b",
   "metadata": {},
   "outputs": [
    {
     "name": "stdout",
     "output_type": "stream",
     "text": [
      "Epoch 1/70\n",
      "1875/1875 [==============================] - 2s 1ms/step - loss: 1.8769 - accuracy: 0.6650\n",
      "Epoch 2/70\n",
      "1875/1875 [==============================] - 2s 1ms/step - loss: 0.6857 - accuracy: 0.7304\n",
      "Epoch 3/70\n",
      "1875/1875 [==============================] - 2s 1ms/step - loss: 0.6327 - accuracy: 0.7516\n",
      "Epoch 4/70\n",
      "1875/1875 [==============================] - 2s 1ms/step - loss: 0.5303 - accuracy: 0.8084\n",
      "Epoch 5/70\n",
      "1875/1875 [==============================] - 2s 1ms/step - loss: 0.4713 - accuracy: 0.8350\n",
      "Epoch 6/70\n",
      "1875/1875 [==============================] - 2s 1ms/step - loss: 0.4283 - accuracy: 0.8494\n",
      "Epoch 7/70\n",
      "1875/1875 [==============================] - 2s 1ms/step - loss: 0.4094 - accuracy: 0.8560\n",
      "Epoch 8/70\n",
      "1875/1875 [==============================] - 2s 1ms/step - loss: 0.3935 - accuracy: 0.8619\n",
      "Epoch 9/70\n",
      "1875/1875 [==============================] - 2s 1ms/step - loss: 0.3865 - accuracy: 0.8640\n",
      "Epoch 10/70\n",
      "1875/1875 [==============================] - 2s 1ms/step - loss: 0.3681 - accuracy: 0.8701\n",
      "Epoch 11/70\n",
      "1875/1875 [==============================] - 2s 1ms/step - loss: 0.3606 - accuracy: 0.8732\n",
      "Epoch 12/70\n",
      "1875/1875 [==============================] - 2s 1ms/step - loss: 0.3537 - accuracy: 0.8760\n",
      "Epoch 13/70\n",
      "1875/1875 [==============================] - 2s 1ms/step - loss: 0.3458 - accuracy: 0.8783\n",
      "Epoch 14/70\n",
      "1875/1875 [==============================] - 2s 1ms/step - loss: 0.3493 - accuracy: 0.8796\n",
      "Epoch 15/70\n",
      "1875/1875 [==============================] - 2s 1ms/step - loss: 0.3311 - accuracy: 0.8819\n",
      "Epoch 16/70\n",
      "1875/1875 [==============================] - 2s 1ms/step - loss: 0.3342 - accuracy: 0.8825\n",
      "Epoch 17/70\n",
      "1875/1875 [==============================] - 2s 1ms/step - loss: 0.3316 - accuracy: 0.8831\n",
      "Epoch 18/70\n",
      "1875/1875 [==============================] - 2s 1ms/step - loss: 0.3237 - accuracy: 0.8861\n",
      "Epoch 19/70\n",
      "1875/1875 [==============================] - 2s 1ms/step - loss: 0.3167 - accuracy: 0.8877\n",
      "Epoch 20/70\n",
      "1875/1875 [==============================] - 2s 1ms/step - loss: 0.3178 - accuracy: 0.8870\n",
      "Epoch 21/70\n",
      "1875/1875 [==============================] - 2s 1ms/step - loss: 0.3163 - accuracy: 0.8872\n",
      "Epoch 22/70\n",
      "1875/1875 [==============================] - 2s 1ms/step - loss: 0.3103 - accuracy: 0.8897\n",
      "Epoch 23/70\n",
      "1875/1875 [==============================] - 2s 1ms/step - loss: 0.3192 - accuracy: 0.8883\n",
      "Epoch 24/70\n",
      "1875/1875 [==============================] - 2s 1ms/step - loss: 0.3062 - accuracy: 0.8920: 0s - loss: 0.3062 - ac\n",
      "Epoch 25/70\n",
      "1875/1875 [==============================] - 2s 1ms/step - loss: 0.3035 - accuracy: 0.8923\n",
      "Epoch 26/70\n",
      "1875/1875 [==============================] - 2s 1ms/step - loss: 0.3090 - accuracy: 0.8921\n",
      "Epoch 27/70\n",
      "1875/1875 [==============================] - 2s 1ms/step - loss: 0.3083 - accuracy: 0.8897\n",
      "Epoch 28/70\n",
      "1875/1875 [==============================] - 3s 2ms/step - loss: 0.3014 - accuracy: 0.8932\n",
      "Epoch 29/70\n",
      "1875/1875 [==============================] - 4s 2ms/step - loss: 0.2910 - accuracy: 0.8961\n",
      "Epoch 30/70\n",
      "1875/1875 [==============================] - 2s 1ms/step - loss: 0.3031 - accuracy: 0.8942\n",
      "Epoch 31/70\n",
      "1875/1875 [==============================] - 2s 1ms/step - loss: 0.2937 - accuracy: 0.8951\n",
      "Epoch 32/70\n",
      "1875/1875 [==============================] - 2s 1ms/step - loss: 0.2982 - accuracy: 0.8951\n",
      "Epoch 33/70\n",
      "1875/1875 [==============================] - 2s 1ms/step - loss: 0.3000 - accuracy: 0.8930\n",
      "Epoch 34/70\n",
      "1875/1875 [==============================] - 2s 1ms/step - loss: 0.2884 - accuracy: 0.8982\n",
      "Epoch 35/70\n",
      "1875/1875 [==============================] - 2s 1ms/step - loss: 0.2914 - accuracy: 0.8965\n",
      "Epoch 36/70\n",
      "1875/1875 [==============================] - 2s 1ms/step - loss: 0.2806 - accuracy: 0.8999\n",
      "Epoch 37/70\n",
      "1875/1875 [==============================] - 2s 1ms/step - loss: 0.2879 - accuracy: 0.8985\n",
      "Epoch 38/70\n",
      "1875/1875 [==============================] - 2s 1ms/step - loss: 0.2946 - accuracy: 0.8970\n",
      "Epoch 39/70\n",
      "1875/1875 [==============================] - 2s 1ms/step - loss: 0.2847 - accuracy: 0.8989\n",
      "Epoch 40/70\n",
      "1875/1875 [==============================] - 2s 1ms/step - loss: 0.2911 - accuracy: 0.8987\n",
      "Epoch 41/70\n",
      "1875/1875 [==============================] - 2s 1ms/step - loss: 0.2777 - accuracy: 0.9009\n",
      "Epoch 42/70\n",
      "1875/1875 [==============================] - ETA: 0s - loss: 0.2829 - accuracy: 0.90 - 2s 1ms/step - loss: 0.2825 - accuracy: 0.9012\n",
      "Epoch 43/70\n",
      "1875/1875 [==============================] - 2s 1ms/step - loss: 0.2752 - accuracy: 0.9025\n",
      "Epoch 44/70\n",
      "1875/1875 [==============================] - 2s 1ms/step - loss: 0.2846 - accuracy: 0.8990\n",
      "Epoch 45/70\n",
      "1875/1875 [==============================] - 2s 1ms/step - loss: 0.2788 - accuracy: 0.9024\n",
      "Epoch 46/70\n",
      "1875/1875 [==============================] - 2s 1ms/step - loss: 0.2838 - accuracy: 0.9006\n",
      "Epoch 47/70\n",
      "1875/1875 [==============================] - 2s 1ms/step - loss: 0.2696 - accuracy: 0.9030: 0s - loss:\n",
      "Epoch 48/70\n",
      "1875/1875 [==============================] - 2s 1ms/step - loss: 0.2894 - accuracy: 0.8990\n",
      "Epoch 49/70\n",
      "1875/1875 [==============================] - 2s 1ms/step - loss: 0.2636 - accuracy: 0.9047\n",
      "Epoch 50/70\n",
      "1875/1875 [==============================] - 2s 1ms/step - loss: 0.2808 - accuracy: 0.9020\n",
      "Epoch 51/70\n",
      "1875/1875 [==============================] - 2s 1ms/step - loss: 0.2725 - accuracy: 0.9036\n",
      "Epoch 52/70\n",
      "1875/1875 [==============================] - 2s 1ms/step - loss: 0.2827 - accuracy: 0.9022\n",
      "Epoch 53/70\n",
      "1875/1875 [==============================] - 2s 1ms/step - loss: 0.2648 - accuracy: 0.9067\n",
      "Epoch 54/70\n",
      "1875/1875 [==============================] - 2s 1ms/step - loss: 0.2613 - accuracy: 0.9072\n",
      "Epoch 55/70\n",
      "1875/1875 [==============================] - 2s 1ms/step - loss: 0.2722 - accuracy: 0.9057\n",
      "Epoch 56/70\n",
      "1875/1875 [==============================] - 2s 1ms/step - loss: 0.2634 - accuracy: 0.9049\n",
      "Epoch 57/70\n",
      "1875/1875 [==============================] - 2s 1ms/step - loss: 0.2835 - accuracy: 0.9020\n",
      "Epoch 58/70\n",
      "1875/1875 [==============================] - 2s 1ms/step - loss: 0.2711 - accuracy: 0.9060\n",
      "Epoch 59/70\n",
      "1875/1875 [==============================] - 2s 1ms/step - loss: 0.2718 - accuracy: 0.9051\n",
      "Epoch 60/70\n",
      "1875/1875 [==============================] - 2s 1ms/step - loss: 0.2724 - accuracy: 0.9070\n",
      "Epoch 61/70\n",
      "1875/1875 [==============================] - 2s 1ms/step - loss: 0.2714 - accuracy: 0.9046\n",
      "Epoch 62/70\n",
      "1875/1875 [==============================] - 2s 1ms/step - loss: 0.2551 - accuracy: 0.9082\n",
      "Epoch 63/70\n",
      "1875/1875 [==============================] - 2s 1ms/step - loss: 0.2580 - accuracy: 0.9088\n",
      "Epoch 64/70\n",
      "1875/1875 [==============================] - 2s 1ms/step - loss: 0.2589 - accuracy: 0.9102\n",
      "Epoch 65/70\n",
      "1875/1875 [==============================] - 2s 1ms/step - loss: 0.2675 - accuracy: 0.9072\n",
      "Epoch 66/70\n",
      "1875/1875 [==============================] - 2s 1ms/step - loss: 0.2565 - accuracy: 0.9097\n",
      "Epoch 67/70\n",
      "1875/1875 [==============================] - 2s 1ms/step - loss: 0.2583 - accuracy: 0.9083\n",
      "Epoch 68/70\n",
      "1875/1875 [==============================] - 2s 1ms/step - loss: 0.2439 - accuracy: 0.9128: 0s - loss: 0.2432 - accuracy\n",
      "Epoch 69/70\n",
      "1875/1875 [==============================] - 2s 1ms/step - loss: 0.2632 - accuracy: 0.9089\n",
      "Epoch 70/70\n",
      "1875/1875 [==============================] - 2s 1ms/step - loss: 0.2530 - accuracy: 0.9100\n",
      "Wall time: 2min 32s\n"
     ]
    }
   ],
   "source": [
    "%%time\n",
    "hist = model.fit(x_train, y_train, epochs=70)"
   ]
  },
  {
   "cell_type": "code",
   "execution_count": null,
   "id": "b3b9645f-3cc4-463c-a2a2-d502762389b3",
   "metadata": {},
   "outputs": [],
   "source": []
  }
 ],
 "metadata": {
  "kernelspec": {
   "display_name": "Python 3",
   "language": "python",
   "name": "python3"
  },
  "language_info": {
   "codemirror_mode": {
    "name": "ipython",
    "version": 3
   },
   "file_extension": ".py",
   "mimetype": "text/x-python",
   "name": "python",
   "nbconvert_exporter": "python",
   "pygments_lexer": "ipython3",
   "version": "3.8.8"
  }
 },
 "nbformat": 4,
 "nbformat_minor": 5
}
