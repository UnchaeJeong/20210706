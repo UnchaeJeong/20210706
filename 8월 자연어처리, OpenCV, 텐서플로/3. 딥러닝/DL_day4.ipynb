{
  "nbformat": 4,
  "nbformat_minor": 0,
  "metadata": {
    "colab": {
      "name": "DL_day4.ipynb",
      "provenance": [],
      "collapsed_sections": []
    },
    "kernelspec": {
      "name": "python3",
      "display_name": "Python 3"
    },
    "language_info": {
      "name": "python"
    },
    "accelerator": "GPU"
  },
  "cells": [
    {
      "cell_type": "code",
      "metadata": {
        "id": "MUkRRDY1pbW3"
      },
      "source": [
        "import numpy as np\n",
        "import matplotlib.pyplot as plt\n",
        "from keras.models import Sequential\n",
        "from keras.layers import Dense, LeakyReLU, Activation, Flatten, Dropout,BatchNormalization\n",
        "from keras.layers.convolutional import Convolution2D, MaxPooling2D\n",
        "from keras.preprocessing.image import ImageDataGenerator\n",
        "from keras.optimizers import RMSprop\n",
        "\n",
        "from sklearn import datasets\n",
        "from sklearn.model_selection import train_test_split\n",
        "\n",
        "import keras\n",
        "from keras.datasets import fashion_mnist\n",
        "from sklearn.metrics import confusion_matrix\n",
        "import seaborn as sns\n",
        "\n",
        "import io\n"
      ],
      "execution_count": 3,
      "outputs": []
    },
    {
      "cell_type": "markdown",
      "metadata": {
        "id": "K118Sb94pvQG"
      },
      "source": [
        "# Fasion Mnist CNN"
      ]
    },
    {
      "cell_type": "code",
      "metadata": {
        "id": "gIbATjrupy00",
        "colab": {
          "base_uri": "https://localhost:8080/"
        },
        "outputId": "b121a660-80a6-461d-f954-ecee0e4d0d01"
      },
      "source": [
        "class_names = ['T-shirt/top', 'Trouser', 'Pullover', 'Dress', 'Coat',\n",
        "               'Sandal', 'Shirt', 'Sneaker', 'Bag', 'Ankle boot']\n",
        "\n",
        "(x_train, y_train), (x_test, y_test) = fashion_mnist.load_data()     \n",
        "\n",
        "x_train = x_train.reshape(-1, 28, 28, 1) / 255.0\n",
        "x_test = x_test.reshape(-1, 28, 28, 1) / 255.0"
      ],
      "execution_count": 5,
      "outputs": [
        {
          "output_type": "stream",
          "text": [
            "Downloading data from https://storage.googleapis.com/tensorflow/tf-keras-datasets/train-labels-idx1-ubyte.gz\n",
            "32768/29515 [=================================] - 0s 0us/step\n",
            "40960/29515 [=========================================] - 0s 0us/step\n",
            "Downloading data from https://storage.googleapis.com/tensorflow/tf-keras-datasets/train-images-idx3-ubyte.gz\n",
            "26427392/26421880 [==============================] - 0s 0us/step\n",
            "26435584/26421880 [==============================] - 0s 0us/step\n",
            "Downloading data from https://storage.googleapis.com/tensorflow/tf-keras-datasets/t10k-labels-idx1-ubyte.gz\n",
            "16384/5148 [===============================================================================================] - 0s 0us/step\n",
            "Downloading data from https://storage.googleapis.com/tensorflow/tf-keras-datasets/t10k-images-idx3-ubyte.gz\n",
            "4423680/4422102 [==============================] - 0s 0us/step\n",
            "4431872/4422102 [==============================] - 0s 0us/step\n"
          ],
          "name": "stdout"
        }
      ]
    },
    {
      "cell_type": "markdown",
      "metadata": {
        "id": "DVXfrpTip_Aa"
      },
      "source": [
        "# CNN 네트워크 구성"
      ]
    },
    {
      "cell_type": "code",
      "metadata": {
        "colab": {
          "base_uri": "https://localhost:8080/"
        },
        "id": "iqW4TFY8qDfJ",
        "outputId": "3d05e16d-8b29-4b3b-d030-30e98605b43e"
      },
      "source": [
        "input_size = (28,28,1)\n",
        "\n",
        "model = Sequential()\n",
        "\n",
        "model.add(  Convolution2D(32, kernel_size=(3,3), padding='same', \n",
        "                          activation='relu',  input_shape = input_size,)    )   \n",
        "model.add(  Convolution2D(32, kernel_size=(3,3), padding='same',  )    )   \n",
        "model.add(  MaxPooling2D(pool_size=(2, 2))  )\n",
        "\n",
        "model.add(  Convolution2D(64, kernel_size=(3,3), padding='same' )    )   \n",
        "model.add(  MaxPooling2D(pool_size=(2, 2))  )\n",
        "\n",
        "model.add(Flatten())\n",
        "\n",
        "model.add(Dense(128, activation='relu'))\n",
        "model.add(Dense(10, activation='softmax'))\n",
        "\n",
        "model.summary()"
      ],
      "execution_count": 6,
      "outputs": [
        {
          "output_type": "stream",
          "text": [
            "Model: \"sequential_1\"\n",
            "_________________________________________________________________\n",
            "Layer (type)                 Output Shape              Param #   \n",
            "=================================================================\n",
            "conv2d_4 (Conv2D)            (None, 28, 28, 32)        320       \n",
            "_________________________________________________________________\n",
            "conv2d_5 (Conv2D)            (None, 28, 28, 32)        9248      \n",
            "_________________________________________________________________\n",
            "max_pooling2d_3 (MaxPooling2 (None, 14, 14, 32)        0         \n",
            "_________________________________________________________________\n",
            "conv2d_6 (Conv2D)            (None, 14, 14, 64)        18496     \n",
            "_________________________________________________________________\n",
            "max_pooling2d_4 (MaxPooling2 (None, 7, 7, 64)          0         \n",
            "_________________________________________________________________\n",
            "flatten_1 (Flatten)          (None, 3136)              0         \n",
            "_________________________________________________________________\n",
            "dense_2 (Dense)              (None, 128)               401536    \n",
            "_________________________________________________________________\n",
            "dense_3 (Dense)              (None, 10)                1290      \n",
            "=================================================================\n",
            "Total params: 430,890\n",
            "Trainable params: 430,890\n",
            "Non-trainable params: 0\n",
            "_________________________________________________________________\n"
          ],
          "name": "stdout"
        }
      ]
    },
    {
      "cell_type": "markdown",
      "metadata": {
        "id": "ut1JqgSj-3tn"
      },
      "source": [
        "# Fashion-mnist CNN 네트워크\n"
      ]
    },
    {
      "cell_type": "code",
      "metadata": {
        "colab": {
          "base_uri": "https://localhost:8080/"
        },
        "id": "RFrT9_cP_Azq",
        "outputId": "63db976b-dd23-43d0-cef8-23054d4ae4b4"
      },
      "source": [
        "input_shape = (28, 28, 1)\n",
        "\n",
        "model = Sequential()\n",
        "\n",
        "model.add(Convolution2D(32, kernel_size=(3, 3),\n",
        "                     activation='relu',input_shape=input_shape))\n",
        "model.add(MaxPooling2D(pool_size=(2, 2)))\n",
        "\n",
        "model.add(Flatten())\n",
        "model.add(Dense(10, activation='softmax'))\n",
        "model.summary()\n",
        "model.compile(loss='sparse_categorical_crossentropy',  optimizer='adam',  metrics=['accuracy'])"
      ],
      "execution_count": 7,
      "outputs": [
        {
          "output_type": "stream",
          "text": [
            "Model: \"sequential_2\"\n",
            "_________________________________________________________________\n",
            "Layer (type)                 Output Shape              Param #   \n",
            "=================================================================\n",
            "conv2d_7 (Conv2D)            (None, 26, 26, 32)        320       \n",
            "_________________________________________________________________\n",
            "max_pooling2d_5 (MaxPooling2 (None, 13, 13, 32)        0         \n",
            "_________________________________________________________________\n",
            "flatten_2 (Flatten)          (None, 5408)              0         \n",
            "_________________________________________________________________\n",
            "dense_4 (Dense)              (None, 10)                54090     \n",
            "=================================================================\n",
            "Total params: 54,410\n",
            "Trainable params: 54,410\n",
            "Non-trainable params: 0\n",
            "_________________________________________________________________\n"
          ],
          "name": "stdout"
        }
      ]
    },
    {
      "cell_type": "code",
      "metadata": {
        "id": "4kjIaRay_0q0"
      },
      "source": [
        "# history = model.fit(x_train, y_train , batch_size=32,  epochs=50, verbose=1)"
      ],
      "execution_count": null,
      "outputs": []
    },
    {
      "cell_type": "code",
      "metadata": {
        "colab": {
          "base_uri": "https://localhost:8080/"
        },
        "id": "sxNORNRfRwhJ",
        "outputId": "187c2d31-e950-4fca-9e05-fa30cbb3fa25"
      },
      "source": [
        "history = model.fit(x_train, y_train , batch_size=32,  epochs=1, verbose=1)"
      ],
      "execution_count": 8,
      "outputs": [
        {
          "output_type": "stream",
          "text": [
            "1875/1875 [==============================] - 50s 4ms/step - loss: 0.5947 - accuracy: 0.7916\n"
          ],
          "name": "stdout"
        }
      ]
    },
    {
      "cell_type": "code",
      "metadata": {
        "colab": {
          "base_uri": "https://localhost:8080/"
        },
        "id": "N707p-S5SZeE",
        "outputId": "d28cf81b-54a4-4427-cd6b-cb95950098c9"
      },
      "source": [
        "input_shape = (28, 28, 1)\n",
        "\n",
        "model = Sequential()\n",
        "\n",
        "model.add(Convolution2D(32, kernel_size=(3, 3),\n",
        "                     activation='relu',input_shape=input_shape))\n",
        "model.add(MaxPooling2D(pool_size=(2, 2)))\n",
        "\n",
        "model.add(Flatten())\n",
        "model.add(Dense(128, activation='relu')) \n",
        "model.add(Dense(10, activation='softmax'))\n",
        "model.summary()\n",
        "model.compile(loss='sparse_categorical_crossentropy',  optimizer='adam',  metrics=['accuracy'])\n",
        "history = model.fit(x_train, y_train , batch_size=32,  epochs=5, verbose=1)"
      ],
      "execution_count": 9,
      "outputs": [
        {
          "output_type": "stream",
          "text": [
            "Model: \"sequential_3\"\n",
            "_________________________________________________________________\n",
            "Layer (type)                 Output Shape              Param #   \n",
            "=================================================================\n",
            "conv2d_8 (Conv2D)            (None, 26, 26, 32)        320       \n",
            "_________________________________________________________________\n",
            "max_pooling2d_6 (MaxPooling2 (None, 13, 13, 32)        0         \n",
            "_________________________________________________________________\n",
            "flatten_3 (Flatten)          (None, 5408)              0         \n",
            "_________________________________________________________________\n",
            "dense_5 (Dense)              (None, 128)               692352    \n",
            "_________________________________________________________________\n",
            "dense_6 (Dense)              (None, 10)                1290      \n",
            "=================================================================\n",
            "Total params: 693,962\n",
            "Trainable params: 693,962\n",
            "Non-trainable params: 0\n",
            "_________________________________________________________________\n",
            "Epoch 1/5\n",
            "1875/1875 [==============================] - 9s 4ms/step - loss: 0.5258 - accuracy: 0.8116\n",
            "Epoch 2/5\n",
            "1875/1875 [==============================] - 8s 4ms/step - loss: 0.2731 - accuracy: 0.8990\n",
            "Epoch 3/5\n",
            "1875/1875 [==============================] - 8s 4ms/step - loss: 0.2249 - accuracy: 0.9179\n",
            "Epoch 4/5\n",
            "1875/1875 [==============================] - 8s 4ms/step - loss: 0.1881 - accuracy: 0.9309\n",
            "Epoch 5/5\n",
            "1875/1875 [==============================] - 8s 4ms/step - loss: 0.1621 - accuracy: 0.9404\n"
          ],
          "name": "stdout"
        }
      ]
    },
    {
      "cell_type": "code",
      "metadata": {
        "colab": {
          "base_uri": "https://localhost:8080/"
        },
        "id": "LqfXJYXOTWfc",
        "outputId": "8b25bb61-ef83-48a0-e524-2e22742f870c"
      },
      "source": [
        "input_shape = (28, 28, 1)\n",
        "\n",
        "model = Sequential()\n",
        "\n",
        "model.add(Convolution2D(32, kernel_size=(3, 3), activation='relu',input_shape=input_shape))\n",
        "model.add(MaxPooling2D(pool_size=(2, 2)))\n",
        "\n",
        "\n",
        "model.add(Convolution2D(32, kernel_size=(3, 3), activation='relu'))\n",
        "model.add(MaxPooling2D(pool_size=(2, 2)))\n",
        "\n",
        "model.add(Flatten())\n",
        "model.add(Dense(128, activation='relu')) \n",
        "model.add(Dense(10, activation='softmax'))\n",
        "model.summary()\n",
        "model.compile(loss='sparse_categorical_crossentropy',  optimizer='adam',  metrics=['accuracy'])\n",
        "history = model.fit(x_train, y_train , batch_size=32,  epochs=5, verbose=1)"
      ],
      "execution_count": 11,
      "outputs": [
        {
          "output_type": "stream",
          "text": [
            "Model: \"sequential_5\"\n",
            "_________________________________________________________________\n",
            "Layer (type)                 Output Shape              Param #   \n",
            "=================================================================\n",
            "conv2d_12 (Conv2D)           (None, 26, 26, 32)        320       \n",
            "_________________________________________________________________\n",
            "max_pooling2d_9 (MaxPooling2 (None, 13, 13, 32)        0         \n",
            "_________________________________________________________________\n",
            "conv2d_13 (Conv2D)           (None, 11, 11, 32)        9248      \n",
            "_________________________________________________________________\n",
            "max_pooling2d_10 (MaxPooling (None, 5, 5, 32)          0         \n",
            "_________________________________________________________________\n",
            "flatten_5 (Flatten)          (None, 800)               0         \n",
            "_________________________________________________________________\n",
            "dense_9 (Dense)              (None, 128)               102528    \n",
            "_________________________________________________________________\n",
            "dense_10 (Dense)             (None, 10)                1290      \n",
            "=================================================================\n",
            "Total params: 113,386\n",
            "Trainable params: 113,386\n",
            "Non-trainable params: 0\n",
            "_________________________________________________________________\n",
            "Epoch 1/5\n",
            "1875/1875 [==============================] - 10s 5ms/step - loss: 0.6617 - accuracy: 0.7612\n",
            "Epoch 2/5\n",
            "1875/1875 [==============================] - 9s 5ms/step - loss: 0.3337 - accuracy: 0.8777\n",
            "Epoch 3/5\n",
            "1875/1875 [==============================] - 9s 5ms/step - loss: 0.2743 - accuracy: 0.8972\n",
            "Epoch 4/5\n",
            "1875/1875 [==============================] - 9s 5ms/step - loss: 0.2435 - accuracy: 0.9097\n",
            "Epoch 5/5\n",
            "1875/1875 [==============================] - 9s 5ms/step - loss: 0.2185 - accuracy: 0.9189\n"
          ],
          "name": "stdout"
        }
      ]
    },
    {
      "cell_type": "code",
      "metadata": {
        "colab": {
          "base_uri": "https://localhost:8080/"
        },
        "id": "sCAEXplAULyw",
        "outputId": "d4d91c02-3c35-41b9-aada-89f719f78bf4"
      },
      "source": [
        "input_shape = (28, 28, 1)\n",
        "\n",
        "model = Sequential()\n",
        "\n",
        "model.add(Convolution2D(32, kernel_size=(3, 3), activation='relu',input_shape=input_shape))\n",
        "model.add(MaxPooling2D(pool_size=(2, 2)))\n",
        "\n",
        "\n",
        "model.add(Convolution2D(64, kernel_size=(3, 3), activation='relu'))\n",
        "model.add(Convolution2D(64, kernel_size=(3, 3), activation='relu'))\n",
        "model.add(MaxPooling2D(pool_size=(2, 2)))\n",
        "\n",
        "model.add(Flatten())\n",
        "model.add(Dense(64, activation='relu')) \n",
        "model.add(Dense(10, activation='softmax'))\n",
        "model.summary()\n",
        "model.compile(loss='sparse_categorical_crossentropy',  optimizer='adam',  metrics=['accuracy'])\n",
        "history = model.fit(x_train, y_train , batch_size=32,  epochs=2, verbose=1)"
      ],
      "execution_count": 10,
      "outputs": [
        {
          "output_type": "stream",
          "text": [
            "Model: \"sequential_4\"\n",
            "_________________________________________________________________\n",
            "Layer (type)                 Output Shape              Param #   \n",
            "=================================================================\n",
            "conv2d_9 (Conv2D)            (None, 26, 26, 32)        320       \n",
            "_________________________________________________________________\n",
            "max_pooling2d_7 (MaxPooling2 (None, 13, 13, 32)        0         \n",
            "_________________________________________________________________\n",
            "conv2d_10 (Conv2D)           (None, 11, 11, 64)        18496     \n",
            "_________________________________________________________________\n",
            "conv2d_11 (Conv2D)           (None, 9, 9, 64)          36928     \n",
            "_________________________________________________________________\n",
            "max_pooling2d_8 (MaxPooling2 (None, 4, 4, 64)          0         \n",
            "_________________________________________________________________\n",
            "flatten_4 (Flatten)          (None, 1024)              0         \n",
            "_________________________________________________________________\n",
            "dense_7 (Dense)              (None, 64)                65600     \n",
            "_________________________________________________________________\n",
            "dense_8 (Dense)              (None, 10)                650       \n",
            "=================================================================\n",
            "Total params: 121,994\n",
            "Trainable params: 121,994\n",
            "Non-trainable params: 0\n",
            "_________________________________________________________________\n",
            "Epoch 1/2\n",
            "1875/1875 [==============================] - 15s 8ms/step - loss: 0.6783 - accuracy: 0.7528\n",
            "Epoch 2/2\n",
            "1875/1875 [==============================] - 14s 8ms/step - loss: 0.3143 - accuracy: 0.8835\n"
          ],
          "name": "stdout"
        }
      ]
    },
    {
      "cell_type": "code",
      "metadata": {
        "colab": {
          "base_uri": "https://localhost:8080/"
        },
        "id": "EjB1t_joU47j",
        "outputId": "cd82b48b-a428-474a-a5ac-67c144ba91e1"
      },
      "source": [
        "input_shape = (28, 28, 1)\n",
        "\n",
        "model = Sequential()\n",
        "\n",
        "model.add(Convolution2D(64, kernel_size=(3, 3), activation='relu',input_shape=input_shape))\n",
        "model.add(MaxPooling2D(pool_size=(2, 2)))\n",
        "\n",
        "model.add(Convolution2D(32, kernel_size=(3, 3), activation='relu'))\n",
        "model.add(MaxPooling2D(pool_size=(2, 2)))\n",
        "\n",
        "model.add(Convolution2D(32, kernel_size=(3, 3), activation='relu'))\n",
        "model.add(MaxPooling2D(pool_size=(2, 2)))\n",
        "\n",
        "model.add(Flatten())\n",
        "model.add(Dense(64, activation='relu')) \n",
        "model.add(Dense(10, activation='softmax'))\n",
        "model.summary()\n",
        "model.compile(loss='sparse_categorical_crossentropy',  optimizer='adam',  metrics=['accuracy'])\n",
        "history = model.fit(x_train, y_train , batch_size=32,  epochs=2, verbose=1)"
      ],
      "execution_count": 12,
      "outputs": [
        {
          "output_type": "stream",
          "text": [
            "Model: \"sequential_6\"\n",
            "_________________________________________________________________\n",
            "Layer (type)                 Output Shape              Param #   \n",
            "=================================================================\n",
            "conv2d_14 (Conv2D)           (None, 26, 26, 64)        640       \n",
            "_________________________________________________________________\n",
            "max_pooling2d_11 (MaxPooling (None, 13, 13, 64)        0         \n",
            "_________________________________________________________________\n",
            "conv2d_15 (Conv2D)           (None, 11, 11, 32)        18464     \n",
            "_________________________________________________________________\n",
            "max_pooling2d_12 (MaxPooling (None, 5, 5, 32)          0         \n",
            "_________________________________________________________________\n",
            "conv2d_16 (Conv2D)           (None, 3, 3, 32)          9248      \n",
            "_________________________________________________________________\n",
            "max_pooling2d_13 (MaxPooling (None, 1, 1, 32)          0         \n",
            "_________________________________________________________________\n",
            "flatten_6 (Flatten)          (None, 32)                0         \n",
            "_________________________________________________________________\n",
            "dense_11 (Dense)             (None, 64)                2112      \n",
            "_________________________________________________________________\n",
            "dense_12 (Dense)             (None, 10)                650       \n",
            "=================================================================\n",
            "Total params: 31,114\n",
            "Trainable params: 31,114\n",
            "Non-trainable params: 0\n",
            "_________________________________________________________________\n",
            "Epoch 1/2\n",
            "1875/1875 [==============================] - 12s 6ms/step - loss: 0.8575 - accuracy: 0.6841\n",
            "Epoch 2/2\n",
            "1875/1875 [==============================] - 10s 6ms/step - loss: 0.4521 - accuracy: 0.8352\n"
          ],
          "name": "stdout"
        }
      ]
    },
    {
      "cell_type": "code",
      "metadata": {
        "id": "EncykWJFWTUg",
        "colab": {
          "base_uri": "https://localhost:8080/"
        },
        "outputId": "d5972aa6-ebac-4b93-df3d-9d977a16c23c"
      },
      "source": [
        "# x_train = (60000,28,28) ->    reshape(-1,28,28,1)    ->    (60000,28,28,1)\n",
        "input_shape = ( 28, 28, 1)\n",
        "\n",
        "model = Sequential()\n",
        "\n",
        "model.add(Convolution2D(32, kernel_size=(3, 3),  padding='same', activation='relu',input_shape=input_shape))\n",
        "model.add(MaxPooling2D(pool_size=(2, 2)))\n",
        "\n",
        "model.add(Convolution2D(64, kernel_size=(3, 3),  padding='same', activation='relu'))\n",
        "model.add(MaxPooling2D(pool_size=(2, 2)))\n",
        "\n",
        "model.add(Convolution2D(32, kernel_size=(3, 3),  padding='same', activation='relu'))\n",
        "model.add(Convolution2D(32, kernel_size=(3, 3),  padding='same', activation='relu'))\n",
        "model.add(MaxPooling2D(pool_size=(2, 2)))\n",
        "\n",
        "model.add(Flatten())\n",
        "model.add(Dense(64, activation='relu')) \n",
        "model.add(Dense(10, activation='softmax'))\n",
        "model.summary()\n",
        "model.compile(loss='sparse_categorical_crossentropy',  optimizer='adam',  metrics=['accuracy'])\n",
        "history = model.fit(x_train, y_train , batch_size=32,  epochs=2, verbose=1)"
      ],
      "execution_count": 13,
      "outputs": [
        {
          "output_type": "stream",
          "text": [
            "Model: \"sequential_7\"\n",
            "_________________________________________________________________\n",
            "Layer (type)                 Output Shape              Param #   \n",
            "=================================================================\n",
            "conv2d_17 (Conv2D)           (None, 28, 28, 32)        320       \n",
            "_________________________________________________________________\n",
            "max_pooling2d_14 (MaxPooling (None, 14, 14, 32)        0         \n",
            "_________________________________________________________________\n",
            "conv2d_18 (Conv2D)           (None, 14, 14, 64)        18496     \n",
            "_________________________________________________________________\n",
            "max_pooling2d_15 (MaxPooling (None, 7, 7, 64)          0         \n",
            "_________________________________________________________________\n",
            "conv2d_19 (Conv2D)           (None, 7, 7, 32)          18464     \n",
            "_________________________________________________________________\n",
            "conv2d_20 (Conv2D)           (None, 7, 7, 32)          9248      \n",
            "_________________________________________________________________\n",
            "max_pooling2d_16 (MaxPooling (None, 3, 3, 32)          0         \n",
            "_________________________________________________________________\n",
            "flatten_7 (Flatten)          (None, 288)               0         \n",
            "_________________________________________________________________\n",
            "dense_13 (Dense)             (None, 64)                18496     \n",
            "_________________________________________________________________\n",
            "dense_14 (Dense)             (None, 10)                650       \n",
            "=================================================================\n",
            "Total params: 65,674\n",
            "Trainable params: 65,674\n",
            "Non-trainable params: 0\n",
            "_________________________________________________________________\n",
            "Epoch 1/2\n",
            "1875/1875 [==============================] - 13s 6ms/step - loss: 0.6890 - accuracy: 0.7445\n",
            "Epoch 2/2\n",
            "1875/1875 [==============================] - 11s 6ms/step - loss: 0.3134 - accuracy: 0.8844\n"
          ],
          "name": "stdout"
        }
      ]
    },
    {
      "cell_type": "markdown",
      "metadata": {
        "id": "XBU_nQVIgLDd"
      },
      "source": [
        "# GPU 사용하기"
      ]
    },
    {
      "cell_type": "code",
      "metadata": {
        "colab": {
          "base_uri": "https://localhost:8080/"
        },
        "id": "0MM__3Z-gOA9",
        "outputId": "b8922822-2545-41d9-ee7b-3d1a6ba69da5"
      },
      "source": [
        "import tensorflow as tf\n",
        "device_name = tf.test.gpu_device_name()\n",
        "print(device_name)"
      ],
      "execution_count": 1,
      "outputs": [
        {
          "output_type": "stream",
          "text": [
            "/device:GPU:0\n"
          ],
          "name": "stdout"
        }
      ]
    },
    {
      "cell_type": "code",
      "metadata": {
        "id": "SNnBqsUNghNA",
        "colab": {
          "base_uri": "https://localhost:8080/"
        },
        "outputId": "76c7e408-a876-476a-bae6-273c077a07f1"
      },
      "source": [
        "with tf.device(device_name): \n",
        "  input_shape = (28, 28, 1)\n",
        "\n",
        "  model = Sequential()\n",
        "\n",
        "  model.add(Convolution2D(32, kernel_size=(3, 3),  padding='same', activation='relu',input_shape=input_shape))\n",
        "  model.add(MaxPooling2D(pool_size=(2, 2)))\n",
        "\n",
        "  model.add(Convolution2D(64, kernel_size=(3, 3),  padding='same', activation='relu'))\n",
        "  model.add(MaxPooling2D(pool_size=(2, 2)))\n",
        "\n",
        "  model.add(Convolution2D(32, kernel_size=(3, 3),  padding='same', activation='relu'))\n",
        "  model.add(Convolution2D(32, kernel_size=(3, 3),  padding='same', activation='relu'))\n",
        "  model.add(MaxPooling2D(pool_size=(2, 2)))\n",
        "\n",
        "  model.add(Flatten())\n",
        "  model.add(Dense(64, activation='relu')) \n",
        "  model.add(Dense(10, activation='softmax'))\n",
        "  model.summary()\n",
        "  model.compile(loss='sparse_categorical_crossentropy',  optimizer='adam',  metrics=['accuracy'])\n",
        "  history = model.fit(x_train, y_train , batch_size=32,  epochs=20, verbose=1)"
      ],
      "execution_count": 14,
      "outputs": [
        {
          "output_type": "stream",
          "text": [
            "Model: \"sequential_8\"\n",
            "_________________________________________________________________\n",
            "Layer (type)                 Output Shape              Param #   \n",
            "=================================================================\n",
            "conv2d_21 (Conv2D)           (None, 28, 28, 32)        320       \n",
            "_________________________________________________________________\n",
            "max_pooling2d_17 (MaxPooling (None, 14, 14, 32)        0         \n",
            "_________________________________________________________________\n",
            "conv2d_22 (Conv2D)           (None, 14, 14, 64)        18496     \n",
            "_________________________________________________________________\n",
            "max_pooling2d_18 (MaxPooling (None, 7, 7, 64)          0         \n",
            "_________________________________________________________________\n",
            "conv2d_23 (Conv2D)           (None, 7, 7, 32)          18464     \n",
            "_________________________________________________________________\n",
            "conv2d_24 (Conv2D)           (None, 7, 7, 32)          9248      \n",
            "_________________________________________________________________\n",
            "max_pooling2d_19 (MaxPooling (None, 3, 3, 32)          0         \n",
            "_________________________________________________________________\n",
            "flatten_8 (Flatten)          (None, 288)               0         \n",
            "_________________________________________________________________\n",
            "dense_15 (Dense)             (None, 64)                18496     \n",
            "_________________________________________________________________\n",
            "dense_16 (Dense)             (None, 10)                650       \n",
            "=================================================================\n",
            "Total params: 65,674\n",
            "Trainable params: 65,674\n",
            "Non-trainable params: 0\n",
            "_________________________________________________________________\n",
            "Epoch 1/20\n",
            "1875/1875 [==============================] - 13s 6ms/step - loss: 0.6988 - accuracy: 0.7441\n",
            "Epoch 2/20\n",
            "1875/1875 [==============================] - 12s 6ms/step - loss: 0.3211 - accuracy: 0.8827\n",
            "Epoch 3/20\n",
            "1875/1875 [==============================] - 12s 6ms/step - loss: 0.2699 - accuracy: 0.9013\n",
            "Epoch 4/20\n",
            "1875/1875 [==============================] - 11s 6ms/step - loss: 0.2432 - accuracy: 0.9088\n",
            "Epoch 5/20\n",
            "1875/1875 [==============================] - 11s 6ms/step - loss: 0.2172 - accuracy: 0.9193\n",
            "Epoch 6/20\n",
            "1875/1875 [==============================] - 11s 6ms/step - loss: 0.2017 - accuracy: 0.9242\n",
            "Epoch 7/20\n",
            "1875/1875 [==============================] - 11s 6ms/step - loss: 0.1799 - accuracy: 0.9325\n",
            "Epoch 8/20\n",
            "1875/1875 [==============================] - 11s 6ms/step - loss: 0.1712 - accuracy: 0.9352\n",
            "Epoch 9/20\n",
            "1875/1875 [==============================] - 11s 6ms/step - loss: 0.1549 - accuracy: 0.9422\n",
            "Epoch 10/20\n",
            "1875/1875 [==============================] - 11s 6ms/step - loss: 0.1448 - accuracy: 0.9445\n",
            "Epoch 11/20\n",
            "1875/1875 [==============================] - 11s 6ms/step - loss: 0.1309 - accuracy: 0.9498\n",
            "Epoch 12/20\n",
            "1875/1875 [==============================] - 11s 6ms/step - loss: 0.1237 - accuracy: 0.9526\n",
            "Epoch 13/20\n",
            "1875/1875 [==============================] - 11s 6ms/step - loss: 0.1139 - accuracy: 0.9559\n",
            "Epoch 14/20\n",
            "1875/1875 [==============================] - 11s 6ms/step - loss: 0.1059 - accuracy: 0.9597\n",
            "Epoch 15/20\n",
            "1875/1875 [==============================] - 11s 6ms/step - loss: 0.0990 - accuracy: 0.9628\n",
            "Epoch 16/20\n",
            "1875/1875 [==============================] - 11s 6ms/step - loss: 0.0986 - accuracy: 0.9617\n",
            "Epoch 17/20\n",
            "1875/1875 [==============================] - 11s 6ms/step - loss: 0.0875 - accuracy: 0.9663\n",
            "Epoch 18/20\n",
            "1875/1875 [==============================] - 11s 6ms/step - loss: 0.0801 - accuracy: 0.9699\n",
            "Epoch 19/20\n",
            "1875/1875 [==============================] - 11s 6ms/step - loss: 0.0793 - accuracy: 0.9690\n",
            "Epoch 20/20\n",
            "1875/1875 [==============================] - 11s 6ms/step - loss: 0.0755 - accuracy: 0.9710\n"
          ],
          "name": "stdout"
        }
      ]
    },
    {
      "cell_type": "code",
      "metadata": {
        "colab": {
          "base_uri": "https://localhost:8080/"
        },
        "id": "PbE-W8tOj8wV",
        "outputId": "29729380-90a4-43d5-e87a-579f9ebf82a5"
      },
      "source": [
        "with tf.device(device_name):\n",
        "    input_shape = ( 28, 28, 1)\n",
        "    model = Sequential()\n",
        "    model.add(Convolution2D(input_shape=input_shape, filters = 50, kernel_size = (3,3), strides = (1,1), padding = 'same', kernel_initializer='he_normal'))\n",
        "    model.add(BatchNormalization())\n",
        "    model.add(Activation('relu'))\n",
        "    model.add(Convolution2D(filters = 50, kernel_size = (3,3), strides = (1,1), padding = 'same', kernel_initializer='he_normal'))\n",
        "    model.add(BatchNormalization())\n",
        "    model.add(Activation('relu'))\n",
        "    model.add(MaxPooling2D(pool_size = (2,2)))\n",
        "    model.add(Convolution2D(filters = 50, kernel_size = (3,3), strides = (1,1), padding = 'same', kernel_initializer='he_normal'))\n",
        "    model.add(BatchNormalization())\n",
        "    model.add(Activation('relu'))\n",
        "    model.add(Convolution2D(filters = 50, kernel_size = (3,3), strides = (1,1), padding = 'same', kernel_initializer='he_normal'))\n",
        "    model.add(BatchNormalization())\n",
        "    model.add(Activation('relu'))\n",
        "    model.add(MaxPooling2D(pool_size = (2,2)))\n",
        "    model.add(Convolution2D(filters = 50, kernel_size = (3,3), strides = (1,1), padding = 'same', kernel_initializer='he_normal'))\n",
        "    model.add(BatchNormalization())\n",
        "    model.add(Activation('relu'))\n",
        "    model.add(Convolution2D(filters = 50, kernel_size = (3,3), strides = (1,1), padding = 'same', kernel_initializer='he_normal'))\n",
        "    model.add(BatchNormalization())\n",
        "    model.add(Activation('relu'))\n",
        "    model.add(MaxPooling2D(pool_size = (2,2)))\n",
        "\n",
        "    model.add(Flatten())\n",
        "    model.add(Dense(50, activation = 'relu', kernel_initializer='he_normal'))\n",
        "    model.add(Dropout(0.5))\n",
        "    model.add(Dense(10, activation = 'softmax', kernel_initializer='he_normal'))\n",
        "\n",
        "    model.compile(loss = 'sparse_categorical_crossentropy', optimizer = \"adam\", metrics = ['accuracy'])\n",
        "\n",
        "    model.summary()\n",
        "    history = model.fit(x_train, y_train , batch_size=32,  epochs=50, verbose=1)"
      ],
      "execution_count": null,
      "outputs": [
        {
          "output_type": "stream",
          "text": [
            "Model: \"sequential_2\"\n",
            "_________________________________________________________________\n",
            "Layer (type)                 Output Shape              Param #   \n",
            "=================================================================\n",
            "conv2d_8 (Conv2D)            (None, 28, 28, 50)        500       \n",
            "_________________________________________________________________\n",
            "batch_normalization (BatchNo (None, 28, 28, 50)        200       \n",
            "_________________________________________________________________\n",
            "activation (Activation)      (None, 28, 28, 50)        0         \n",
            "_________________________________________________________________\n",
            "conv2d_9 (Conv2D)            (None, 28, 28, 50)        22550     \n",
            "_________________________________________________________________\n",
            "batch_normalization_1 (Batch (None, 28, 28, 50)        200       \n",
            "_________________________________________________________________\n",
            "activation_1 (Activation)    (None, 28, 28, 50)        0         \n",
            "_________________________________________________________________\n",
            "max_pooling2d_6 (MaxPooling2 (None, 14, 14, 50)        0         \n",
            "_________________________________________________________________\n",
            "conv2d_10 (Conv2D)           (None, 14, 14, 50)        22550     \n",
            "_________________________________________________________________\n",
            "batch_normalization_2 (Batch (None, 14, 14, 50)        200       \n",
            "_________________________________________________________________\n",
            "activation_2 (Activation)    (None, 14, 14, 50)        0         \n",
            "_________________________________________________________________\n",
            "conv2d_11 (Conv2D)           (None, 14, 14, 50)        22550     \n",
            "_________________________________________________________________\n",
            "batch_normalization_3 (Batch (None, 14, 14, 50)        200       \n",
            "_________________________________________________________________\n",
            "activation_3 (Activation)    (None, 14, 14, 50)        0         \n",
            "_________________________________________________________________\n",
            "max_pooling2d_7 (MaxPooling2 (None, 7, 7, 50)          0         \n",
            "_________________________________________________________________\n",
            "conv2d_12 (Conv2D)           (None, 7, 7, 50)          22550     \n",
            "_________________________________________________________________\n",
            "batch_normalization_4 (Batch (None, 7, 7, 50)          200       \n",
            "_________________________________________________________________\n",
            "activation_4 (Activation)    (None, 7, 7, 50)          0         \n",
            "_________________________________________________________________\n",
            "conv2d_13 (Conv2D)           (None, 7, 7, 50)          22550     \n",
            "_________________________________________________________________\n",
            "batch_normalization_5 (Batch (None, 7, 7, 50)          200       \n",
            "_________________________________________________________________\n",
            "activation_5 (Activation)    (None, 7, 7, 50)          0         \n",
            "_________________________________________________________________\n",
            "max_pooling2d_8 (MaxPooling2 (None, 3, 3, 50)          0         \n",
            "_________________________________________________________________\n",
            "flatten_2 (Flatten)          (None, 450)               0         \n",
            "_________________________________________________________________\n",
            "dense_4 (Dense)              (None, 50)                22550     \n",
            "_________________________________________________________________\n",
            "dropout (Dropout)            (None, 50)                0         \n",
            "_________________________________________________________________\n",
            "dense_5 (Dense)              (None, 10)                510       \n",
            "=================================================================\n",
            "Total params: 137,510\n",
            "Trainable params: 136,910\n",
            "Non-trainable params: 600\n",
            "_________________________________________________________________\n",
            "Epoch 1/50\n",
            "1875/1875 [==============================] - 15s 5ms/step - loss: 0.8807 - accuracy: 0.6989\n",
            "Epoch 2/50\n",
            "1875/1875 [==============================] - 10s 6ms/step - loss: 0.4164 - accuracy: 0.8549\n",
            "Epoch 3/50\n",
            "1875/1875 [==============================] - 10s 5ms/step - loss: 0.3299 - accuracy: 0.8854\n",
            "Epoch 4/50\n",
            "1875/1875 [==============================] - 10s 5ms/step - loss: 0.2914 - accuracy: 0.8976\n",
            "Epoch 5/50\n",
            "1875/1875 [==============================] - 10s 5ms/step - loss: 0.2604 - accuracy: 0.9108\n",
            "Epoch 6/50\n",
            "1875/1875 [==============================] - 10s 5ms/step - loss: 0.2365 - accuracy: 0.9200\n",
            "Epoch 7/50\n",
            "1875/1875 [==============================] - 10s 5ms/step - loss: 0.2101 - accuracy: 0.9279\n",
            "Epoch 8/50\n",
            "1875/1875 [==============================] - 10s 5ms/step - loss: 0.1908 - accuracy: 0.9340\n",
            "Epoch 9/50\n",
            "1875/1875 [==============================] - 10s 5ms/step - loss: 0.1762 - accuracy: 0.9390\n",
            "Epoch 10/50\n",
            "1875/1875 [==============================] - 10s 5ms/step - loss: 0.1588 - accuracy: 0.9437\n",
            "Epoch 11/50\n",
            "1875/1875 [==============================] - 10s 5ms/step - loss: 0.1506 - accuracy: 0.9474\n",
            "Epoch 12/50\n",
            "1875/1875 [==============================] - 10s 5ms/step - loss: 0.1316 - accuracy: 0.9534\n",
            "Epoch 13/50\n",
            "1875/1875 [==============================] - 10s 5ms/step - loss: 0.1275 - accuracy: 0.9550\n",
            "Epoch 14/50\n",
            "1875/1875 [==============================] - 10s 5ms/step - loss: 0.1152 - accuracy: 0.9587\n",
            "Epoch 15/50\n",
            "1875/1875 [==============================] - 10s 5ms/step - loss: 0.1068 - accuracy: 0.9621\n",
            "Epoch 16/50\n",
            "1875/1875 [==============================] - 10s 5ms/step - loss: 0.0982 - accuracy: 0.9666\n",
            "Epoch 17/50\n",
            "1875/1875 [==============================] - 10s 5ms/step - loss: 0.0938 - accuracy: 0.9672\n",
            "Epoch 18/50\n",
            "1875/1875 [==============================] - 10s 5ms/step - loss: 0.0839 - accuracy: 0.9700\n",
            "Epoch 19/50\n",
            "1875/1875 [==============================] - 10s 5ms/step - loss: 0.0843 - accuracy: 0.9708\n",
            "Epoch 20/50\n",
            "1875/1875 [==============================] - 10s 5ms/step - loss: 0.0802 - accuracy: 0.9724\n",
            "Epoch 21/50\n",
            "1875/1875 [==============================] - 10s 5ms/step - loss: 0.0718 - accuracy: 0.9763\n",
            "Epoch 22/50\n",
            "1875/1875 [==============================] - 10s 5ms/step - loss: 0.0670 - accuracy: 0.9771\n",
            "Epoch 23/50\n",
            "1875/1875 [==============================] - 10s 5ms/step - loss: 0.0652 - accuracy: 0.9762\n",
            "Epoch 24/50\n",
            "1875/1875 [==============================] - 10s 5ms/step - loss: 0.0623 - accuracy: 0.9772\n",
            "Epoch 25/50\n",
            "1875/1875 [==============================] - 10s 5ms/step - loss: 0.0580 - accuracy: 0.9789\n",
            "Epoch 26/50\n",
            "1875/1875 [==============================] - 10s 5ms/step - loss: 0.0564 - accuracy: 0.9806\n",
            "Epoch 27/50\n",
            "1875/1875 [==============================] - 10s 5ms/step - loss: 0.0582 - accuracy: 0.9802\n",
            "Epoch 28/50\n",
            "1875/1875 [==============================] - 10s 5ms/step - loss: 0.0542 - accuracy: 0.9807\n",
            "Epoch 29/50\n",
            "1875/1875 [==============================] - 10s 5ms/step - loss: 0.0525 - accuracy: 0.9816\n",
            "Epoch 30/50\n",
            "1875/1875 [==============================] - 10s 5ms/step - loss: 0.0488 - accuracy: 0.9836\n",
            "Epoch 31/50\n",
            "1875/1875 [==============================] - 10s 5ms/step - loss: 0.0442 - accuracy: 0.9836\n",
            "Epoch 32/50\n",
            "1875/1875 [==============================] - 10s 5ms/step - loss: 0.0487 - accuracy: 0.9840\n",
            "Epoch 33/50\n",
            "1875/1875 [==============================] - 10s 5ms/step - loss: 0.0451 - accuracy: 0.9839\n",
            "Epoch 34/50\n",
            "1875/1875 [==============================] - 10s 5ms/step - loss: 0.0402 - accuracy: 0.9857\n",
            "Epoch 35/50\n",
            "1875/1875 [==============================] - 10s 5ms/step - loss: 0.0414 - accuracy: 0.9865\n",
            "Epoch 36/50\n",
            "1875/1875 [==============================] - 10s 5ms/step - loss: 0.0386 - accuracy: 0.9880\n",
            "Epoch 37/50\n",
            "1875/1875 [==============================] - 10s 5ms/step - loss: 0.0381 - accuracy: 0.9872\n",
            "Epoch 38/50\n",
            "1875/1875 [==============================] - 10s 5ms/step - loss: 0.0371 - accuracy: 0.9875\n",
            "Epoch 39/50\n",
            "1875/1875 [==============================] - 10s 5ms/step - loss: 0.0386 - accuracy: 0.9873\n",
            "Epoch 40/50\n",
            "1875/1875 [==============================] - 10s 5ms/step - loss: 0.0358 - accuracy: 0.9877\n",
            "Epoch 41/50\n",
            "1875/1875 [==============================] - 10s 5ms/step - loss: 0.0361 - accuracy: 0.9884\n",
            "Epoch 42/50\n",
            "1875/1875 [==============================] - 10s 5ms/step - loss: 0.0365 - accuracy: 0.9871\n",
            "Epoch 43/50\n",
            "1875/1875 [==============================] - 10s 5ms/step - loss: 0.0325 - accuracy: 0.9889\n",
            "Epoch 44/50\n",
            "1875/1875 [==============================] - 10s 5ms/step - loss: 0.0300 - accuracy: 0.9899\n",
            "Epoch 45/50\n",
            "1875/1875 [==============================] - 10s 5ms/step - loss: 0.0304 - accuracy: 0.9901\n",
            "Epoch 46/50\n",
            "1875/1875 [==============================] - 10s 5ms/step - loss: 0.0328 - accuracy: 0.9886\n",
            "Epoch 47/50\n",
            "1875/1875 [==============================] - 10s 5ms/step - loss: 0.0287 - accuracy: 0.9902\n",
            "Epoch 48/50\n",
            "1875/1875 [==============================] - 10s 5ms/step - loss: 0.0332 - accuracy: 0.9897\n",
            "Epoch 49/50\n",
            "1875/1875 [==============================] - 10s 5ms/step - loss: 0.0298 - accuracy: 0.9903\n",
            "Epoch 50/50\n",
            "1875/1875 [==============================] - 10s 5ms/step - loss: 0.0285 - accuracy: 0.9911\n"
          ],
          "name": "stdout"
        }
      ]
    },
    {
      "cell_type": "code",
      "metadata": {
        "colab": {
          "base_uri": "https://localhost:8080/"
        },
        "id": "lOk6ZWJymUSY",
        "outputId": "0c57124b-52d4-480c-9de5-819f09f40d4c"
      },
      "source": [
        "with tf.device(''):\n",
        "    input_shape = ( 28, 28, 1)\n",
        "    model = Sequential()\n",
        "    model.add(Convolution2D(input_shape=input_shape, filters = 50, kernel_size = (3,3), strides = (1,1), padding = 'same', kernel_initializer='he_normal'))\n",
        "    model.add(BatchNormalization())\n",
        "    model.add(Activation('relu'))\n",
        "    model.add(Convolution2D(filters = 50, kernel_size = (3,3), strides = (1,1), padding = 'same', kernel_initializer='he_normal'))\n",
        "    model.add(BatchNormalization())\n",
        "    model.add(Activation('relu'))\n",
        "    model.add(MaxPooling2D(pool_size = (2,2)))\n",
        "    model.add(Convolution2D(filters = 50, kernel_size = (3,3), strides = (1,1), padding = 'same', kernel_initializer='he_normal'))\n",
        "    model.add(BatchNormalization())\n",
        "    model.add(Activation('relu'))\n",
        "    model.add(Convolution2D(filters = 50, kernel_size = (3,3), strides = (1,1), padding = 'same', kernel_initializer='he_normal'))\n",
        "    model.add(BatchNormalization())\n",
        "    model.add(Activation('relu'))\n",
        "    model.add(MaxPooling2D(pool_size = (2,2)))\n",
        "    model.add(Convolution2D(filters = 50, kernel_size = (3,3), strides = (1,1), padding = 'same', kernel_initializer='he_normal'))\n",
        "    model.add(BatchNormalization())\n",
        "    model.add(Activation('relu'))\n",
        "    model.add(Convolution2D(filters = 50, kernel_size = (3,3), strides = (1,1), padding = 'same', kernel_initializer='he_normal'))\n",
        "    model.add(BatchNormalization())\n",
        "    model.add(Activation('relu'))\n",
        "    model.add(MaxPooling2D(pool_size = (2,2)))\n",
        "\n",
        "    model.add(Flatten())\n",
        "    model.add(Dense(50, activation = 'relu', kernel_initializer='he_normal'))\n",
        "    model.add(Dropout(0.5))\n",
        "    model.add(Dense(10, activation = 'softmax', kernel_initializer='he_normal'))\n",
        "\n",
        "    model.compile(loss = 'sparse_categorical_crossentropy', optimizer = \"adam\", metrics = ['accuracy'])\n",
        "\n",
        "    model.summary()\n",
        "    history = model.fit(x_train, y_train , batch_size=32,  epochs=1, verbose=1)"
      ],
      "execution_count": null,
      "outputs": [
        {
          "output_type": "stream",
          "text": [
            "Model: \"sequential_3\"\n",
            "_________________________________________________________________\n",
            "Layer (type)                 Output Shape              Param #   \n",
            "=================================================================\n",
            "conv2d_14 (Conv2D)           (None, 28, 28, 50)        500       \n",
            "_________________________________________________________________\n",
            "batch_normalization_6 (Batch (None, 28, 28, 50)        200       \n",
            "_________________________________________________________________\n",
            "activation_6 (Activation)    (None, 28, 28, 50)        0         \n",
            "_________________________________________________________________\n",
            "conv2d_15 (Conv2D)           (None, 28, 28, 50)        22550     \n",
            "_________________________________________________________________\n",
            "batch_normalization_7 (Batch (None, 28, 28, 50)        200       \n",
            "_________________________________________________________________\n",
            "activation_7 (Activation)    (None, 28, 28, 50)        0         \n",
            "_________________________________________________________________\n",
            "max_pooling2d_9 (MaxPooling2 (None, 14, 14, 50)        0         \n",
            "_________________________________________________________________\n",
            "conv2d_16 (Conv2D)           (None, 14, 14, 50)        22550     \n",
            "_________________________________________________________________\n",
            "batch_normalization_8 (Batch (None, 14, 14, 50)        200       \n",
            "_________________________________________________________________\n",
            "activation_8 (Activation)    (None, 14, 14, 50)        0         \n",
            "_________________________________________________________________\n",
            "conv2d_17 (Conv2D)           (None, 14, 14, 50)        22550     \n",
            "_________________________________________________________________\n",
            "batch_normalization_9 (Batch (None, 14, 14, 50)        200       \n",
            "_________________________________________________________________\n",
            "activation_9 (Activation)    (None, 14, 14, 50)        0         \n",
            "_________________________________________________________________\n",
            "max_pooling2d_10 (MaxPooling (None, 7, 7, 50)          0         \n",
            "_________________________________________________________________\n",
            "conv2d_18 (Conv2D)           (None, 7, 7, 50)          22550     \n",
            "_________________________________________________________________\n",
            "batch_normalization_10 (Batc (None, 7, 7, 50)          200       \n",
            "_________________________________________________________________\n",
            "activation_10 (Activation)   (None, 7, 7, 50)          0         \n",
            "_________________________________________________________________\n",
            "conv2d_19 (Conv2D)           (None, 7, 7, 50)          22550     \n",
            "_________________________________________________________________\n",
            "batch_normalization_11 (Batc (None, 7, 7, 50)          200       \n",
            "_________________________________________________________________\n",
            "activation_11 (Activation)   (None, 7, 7, 50)          0         \n",
            "_________________________________________________________________\n",
            "max_pooling2d_11 (MaxPooling (None, 3, 3, 50)          0         \n",
            "_________________________________________________________________\n",
            "flatten_3 (Flatten)          (None, 450)               0         \n",
            "_________________________________________________________________\n",
            "dense_6 (Dense)              (None, 50)                22550     \n",
            "_________________________________________________________________\n",
            "dropout_1 (Dropout)          (None, 50)                0         \n",
            "_________________________________________________________________\n",
            "dense_7 (Dense)              (None, 10)                510       \n",
            "=================================================================\n",
            "Total params: 137,510\n",
            "Trainable params: 136,910\n",
            "Non-trainable params: 600\n",
            "_________________________________________________________________\n",
            "1875/1875 [==============================] - 356s 189ms/step - loss: 0.9077 - accuracy: 0.6899\n"
          ],
          "name": "stdout"
        }
      ]
    },
    {
      "cell_type": "markdown",
      "metadata": {
        "id": "lB_0VdIesm_v"
      },
      "source": [
        "# DataGenerator를 이용한 한글 인식"
      ]
    },
    {
      "cell_type": "code",
      "metadata": {
        "colab": {
          "base_uri": "https://localhost:8080/"
        },
        "id": "qoTbpeSVs4OK",
        "outputId": "1f71c68d-0da4-49ea-c5dd-085cb815ccc0"
      },
      "source": [
        "X = 255 - np.load('/content/drive/MyDrive/Colab Notebooks/8월 자연어처리, OpenCV, 텐서플로/3. 딥러닝/X-h.npy')\n",
        "y = np.load('/content/drive/MyDrive/Colab Notebooks/8월 자연어처리, OpenCV, 텐서플로/3. 딥러닝/y-h.npy')  #  한글 980자, 46060개의 이미지  # 46060x32x32x3\n",
        "num_classes = np.max(y) + 1\n",
        "print(X.shape)\n",
        "print(y.shape)\n",
        "print(np.max(y))\n",
        "print(num_classes)"
      ],
      "execution_count": 27,
      "outputs": [
        {
          "output_type": "stream",
          "text": [
            "(46060, 32, 32, 3)\n",
            "(46060,)\n",
            "979\n",
            "980\n"
          ],
          "name": "stdout"
        }
      ]
    },
    {
      "cell_type": "code",
      "metadata": {
        "colab": {
          "base_uri": "https://localhost:8080/"
        },
        "id": "1ycyonNRMtVN",
        "outputId": "dbf44136-2c9f-479f-f15d-276a04d7c2c0"
      },
      "source": [
        "from google.colab import drive\n",
        "drive.mount('/content/drive')"
      ],
      "execution_count": 24,
      "outputs": [
        {
          "output_type": "stream",
          "text": [
            "Drive already mounted at /content/drive; to attempt to forcibly remount, call drive.mount(\"/content/drive\", force_remount=True).\n"
          ],
          "name": "stdout"
        }
      ]
    },
    {
      "cell_type": "code",
      "metadata": {
        "colab": {
          "base_uri": "https://localhost:8080/",
          "height": 283
        },
        "id": "z6a1RNqExVJx",
        "outputId": "c9c4021d-95c8-403b-bf4c-3c61c6d150bb"
      },
      "source": [
        "plt.imshow(X[232, :, :, 0], cmap='gray' )"
      ],
      "execution_count": 28,
      "outputs": [
        {
          "output_type": "execute_result",
          "data": {
            "text/plain": [
              "<matplotlib.image.AxesImage at 0x7fcbba68a410>"
            ]
          },
          "metadata": {
            "tags": []
          },
          "execution_count": 28
        },
        {
          "output_type": "display_data",
          "data": {
            "image/png": "[encoded data removed]",
            "text/plain": [
              "<Figure size 432x288 with 1 Axes>"
            ]
          },
          "metadata": {
            "tags": [],
            "needs_background": "light"
          }
        }
      ]
    },
    {
      "cell_type": "code",
      "metadata": {
        "id": "J1oujPY5t5es"
      },
      "source": [
        "x_train, x_test, y_train, y_test = train_test_split(X, y, test_size = 0.2)\n",
        "\n",
        "x_train = x_train[:,:,:, 0]  # Nx32x32\n",
        "x_test = x_test[:,:,:, 0]\n",
        "\n",
        "x_train = x_train.reshape(-1, 32, 32, 1)\n",
        "x_test = x_test.reshape(-1, 32, 32, 1) "
      ],
      "execution_count": 29,
      "outputs": []
    },
    {
      "cell_type": "code",
      "metadata": {
        "id": "phwToZyevHsR"
      },
      "source": [
        "#Data Augmentation\n",
        "batch_size = 128\n",
        "train_generator = ImageDataGenerator(rescale=1./255,   \n",
        "                                     rotation_range=15,  \n",
        "                                     width_shift_range=0.15, \n",
        "                                     height_shift_range=0.15,   \n",
        "                                     shear_range=0.2,  zoom_range=[0.8, 1.2])\n",
        "\n",
        "test_generator = ImageDataGenerator(rescale=1./255)\n",
        "\n",
        "train_data_flow = train_generator.flow(x_train, y_train, batch_size=batch_size)\n",
        "test_data_flow = test_generator.flow(x_test, y_test, batch_size=batch_size)"
      ],
      "execution_count": 30,
      "outputs": []
    },
    {
      "cell_type": "code",
      "metadata": {
        "id": "u69LRpqKvLiJ"
      },
      "source": [
        "model = Sequential()\n",
        "model.add(Convolution2D(32, (3, 3), padding='same',\n",
        "                 input_shape=(32,32,1)))\n",
        "model.add(Activation('relu'))\n",
        "model.add(Convolution2D(32, (3, 3)))\n",
        "model.add(Activation('relu'))\n",
        "model.add(MaxPooling2D(pool_size=(2, 2)))\n",
        "model.add(Dropout(0.25))\n",
        "\n",
        "model.add(Convolution2D(64, (3, 3), padding='same'))\n",
        "model.add(Activation('relu'))\n",
        "model.add(Dropout(0.50))\n",
        "\n",
        "model.add(Convolution2D(64, (3, 3)))\n",
        "model.add(Activation('relu'))\n",
        "model.add(MaxPooling2D(pool_size=(2, 2)))\n",
        "model.add(Dropout(0.25))\n",
        "\n",
        "model.add(Flatten())\n",
        "model.add(Dense(512))\n",
        "model.add(Activation('relu'))\n",
        "model.add(Dropout(0.5))\n",
        "model.add(Dense(num_classes))\n",
        "model.add(Activation('softmax'))\n",
        "\n",
        "model.compile(loss='sparse_categorical_crossentropy',   optimizer=RMSprop(learning_rate=0.001, rho=0.9),   metrics=['accuracy'])"
      ],
      "execution_count": 31,
      "outputs": []
    },
    {
      "cell_type": "code",
      "metadata": {
        "colab": {
          "base_uri": "https://localhost:8080/"
        },
        "id": "8668pak30KPQ",
        "outputId": "0f4a7844-d793-4328-e26f-6db24b7e00c0"
      },
      "source": [
        "hist = model.fit_generator(train_data_flow, epochs=5, verbose=1)"
      ],
      "execution_count": 32,
      "outputs": [
        {
          "output_type": "stream",
          "text": [
            "/usr/local/lib/python3.7/dist-packages/keras/engine/training.py:1915: UserWarning: `Model.fit_generator` is deprecated and will be removed in a future version. Please use `Model.fit`, which supports generators.\n",
            "  warnings.warn('`Model.fit_generator` is deprecated and '\n"
          ],
          "name": "stderr"
        },
        {
          "output_type": "stream",
          "text": [
            "Epoch 1/5\n",
            "288/288 [==============================] - 22s 66ms/step - loss: 6.8895 - accuracy: 0.0015\n",
            "Epoch 2/5\n",
            "288/288 [==============================] - 19s 64ms/step - loss: 6.8682 - accuracy: 8.6634e-04\n",
            "Epoch 3/5\n",
            "288/288 [==============================] - 19s 66ms/step - loss: 6.1668 - accuracy: 0.0079\n",
            "Epoch 4/5\n",
            "288/288 [==============================] - 19s 67ms/step - loss: 5.2522 - accuracy: 0.0304\n",
            "Epoch 5/5\n",
            "288/288 [==============================] - 19s 67ms/step - loss: 4.4738 - accuracy: 0.0691\n"
          ],
          "name": "stdout"
        }
      ]
    },
    {
      "cell_type": "code",
      "metadata": {
        "id": "FKXju1LG2X0U"
      },
      "source": [
        "def hangul_cnn_model() :\n",
        "  model = Sequential()\n",
        "  model.add(Convolution2D(32, (3, 3), padding='same',\n",
        "                  input_shape=(32,32,1)))\n",
        "  model.add(Activation('relu'))\n",
        "  model.add(Convolution2D(32, (3, 3)))\n",
        "  model.add(Activation('relu'))\n",
        "  model.add(MaxPooling2D(pool_size=(2, 2)))\n",
        "  model.add(Dropout(0.25))\n",
        "\n",
        "  model.add(Convolution2D(64, (3, 3), padding='same'))\n",
        "  model.add(Activation('relu'))\n",
        "  model.add(Dropout(0.50))\n",
        "\n",
        "  model.add(Convolution2D(64, (3, 3)))\n",
        "  model.add(Activation('relu'))\n",
        "  model.add(MaxPooling2D(pool_size=(2, 2)))\n",
        "  model.add(Dropout(0.25))\n",
        "\n",
        "  model.add(Flatten())\n",
        "  model.add(Dense(512))\n",
        "  model.add(Activation('relu'))\n",
        "  model.add(Dropout(0.5))\n",
        "  model.add(Dense(num_classes))\n",
        "  model.add(Activation('softmax'))\n",
        "\n",
        "  model.compile(loss='sparse_categorical_crossentropy',   optimizer=RMSprop(learning_rate=0.001, rho=0.9),   metrics=['accuracy'])\n",
        "\n",
        "  return model"
      ],
      "execution_count": 33,
      "outputs": []
    },
    {
      "cell_type": "code",
      "metadata": {
        "id": "SALTfY0B28sq"
      },
      "source": [
        "model = hangul_cnn_model()"
      ],
      "execution_count": 35,
      "outputs": []
    },
    {
      "cell_type": "code",
      "metadata": {
        "colab": {
          "base_uri": "https://localhost:8080/"
        },
        "id": "RFE3c-Gu7jfY",
        "outputId": "db29c74f-c089-41b4-aaee-4e4c673c37cd"
      },
      "source": [
        "hist = model.fit(train_data_flow, epochs=10, verbose=1)"
      ],
      "execution_count": 36,
      "outputs": [
        {
          "output_type": "stream",
          "text": [
            "Epoch 1/10\n",
            "288/288 [==============================] - 21s 66ms/step - loss: 6.8891 - accuracy: 5.5191e-04\n",
            "Epoch 2/10\n",
            "288/288 [==============================] - 19s 66ms/step - loss: 6.8879 - accuracy: 8.7198e-04\n",
            "Epoch 3/10\n",
            "288/288 [==============================] - 19s 66ms/step - loss: 6.8801 - accuracy: 0.0011\n",
            "Epoch 4/10\n",
            "288/288 [==============================] - 19s 66ms/step - loss: 6.3208 - accuracy: 0.0077\n",
            "Epoch 5/10\n",
            "288/288 [==============================] - 19s 67ms/step - loss: 5.3677 - accuracy: 0.0303\n",
            "Epoch 6/10\n",
            "288/288 [==============================] - 19s 67ms/step - loss: 4.5064 - accuracy: 0.0718\n",
            "Epoch 7/10\n",
            "288/288 [==============================] - 19s 67ms/step - loss: 3.8520 - accuracy: 0.1337\n",
            "Epoch 8/10\n",
            "288/288 [==============================] - 19s 67ms/step - loss: 3.2940 - accuracy: 0.2005\n",
            "Epoch 9/10\n",
            "288/288 [==============================] - 19s 66ms/step - loss: 2.8354 - accuracy: 0.2717\n",
            "Epoch 10/10\n",
            "288/288 [==============================] - 19s 66ms/step - loss: 2.4778 - accuracy: 0.3392\n"
          ],
          "name": "stdout"
        }
      ]
    },
    {
      "cell_type": "code",
      "metadata": {
        "id": "rjLCRxj57XWf"
      },
      "source": [
        "model.save('hangul_cnn.h5')"
      ],
      "execution_count": 37,
      "outputs": []
    },
    {
      "cell_type": "code",
      "metadata": {
        "colab": {
          "base_uri": "https://localhost:8080/"
        },
        "id": "KQjgWmqn8w1-",
        "outputId": "0c1d2288-1cdc-414a-a5b3-1876d5a07f87"
      },
      "source": [
        " model2 = keras.models.load_model(\"hangul_cnn.h5\")\n",
        " model2.summary()"
      ],
      "execution_count": 38,
      "outputs": [
        {
          "output_type": "stream",
          "text": [
            "Model: \"sequential_11\"\n",
            "_________________________________________________________________\n",
            "Layer (type)                 Output Shape              Param #   \n",
            "=================================================================\n",
            "conv2d_33 (Conv2D)           (None, 32, 32, 32)        320       \n",
            "_________________________________________________________________\n",
            "activation_12 (Activation)   (None, 32, 32, 32)        0         \n",
            "_________________________________________________________________\n",
            "conv2d_34 (Conv2D)           (None, 30, 30, 32)        9248      \n",
            "_________________________________________________________________\n",
            "activation_13 (Activation)   (None, 30, 30, 32)        0         \n",
            "_________________________________________________________________\n",
            "max_pooling2d_24 (MaxPooling (None, 15, 15, 32)        0         \n",
            "_________________________________________________________________\n",
            "dropout_8 (Dropout)          (None, 15, 15, 32)        0         \n",
            "_________________________________________________________________\n",
            "conv2d_35 (Conv2D)           (None, 15, 15, 64)        18496     \n",
            "_________________________________________________________________\n",
            "activation_14 (Activation)   (None, 15, 15, 64)        0         \n",
            "_________________________________________________________________\n",
            "dropout_9 (Dropout)          (None, 15, 15, 64)        0         \n",
            "_________________________________________________________________\n",
            "conv2d_36 (Conv2D)           (None, 13, 13, 64)        36928     \n",
            "_________________________________________________________________\n",
            "activation_15 (Activation)   (None, 13, 13, 64)        0         \n",
            "_________________________________________________________________\n",
            "max_pooling2d_25 (MaxPooling (None, 6, 6, 64)          0         \n",
            "_________________________________________________________________\n",
            "dropout_10 (Dropout)         (None, 6, 6, 64)          0         \n",
            "_________________________________________________________________\n",
            "flatten_11 (Flatten)         (None, 2304)              0         \n",
            "_________________________________________________________________\n",
            "dense_21 (Dense)             (None, 512)               1180160   \n",
            "_________________________________________________________________\n",
            "activation_16 (Activation)   (None, 512)               0         \n",
            "_________________________________________________________________\n",
            "dropout_11 (Dropout)         (None, 512)               0         \n",
            "_________________________________________________________________\n",
            "dense_22 (Dense)             (None, 980)               502740    \n",
            "_________________________________________________________________\n",
            "activation_17 (Activation)   (None, 980)               0         \n",
            "=================================================================\n",
            "Total params: 1,747,892\n",
            "Trainable params: 1,747,892\n",
            "Non-trainable params: 0\n",
            "_________________________________________________________________\n"
          ],
          "name": "stdout"
        }
      ]
    },
    {
      "cell_type": "code",
      "metadata": {
        "colab": {
          "base_uri": "https://localhost:8080/",
          "height": 373
        },
        "id": "5cHewq026czo",
        "outputId": "9d47ef94-240a-4e5d-e3d3-20084d80bcaa"
      },
      "source": [
        "test = x_test[0]  # 32x32x1\n",
        "print(test.shape)\n",
        "plt.imshow(test.reshape(32,32), cmap='gray')\n",
        "\n",
        "#p = model.predict(test.reshape(1,32,32,1))   # 4차원  1x32x32x1\n",
        "p = model.predict_classes(test.reshape(1,32,32,1))   # 4차원  1x32x32x1\n",
        "print(p)\n",
        "\n",
        "labels_file = io.open(\"/content/drive/MyDrive/Colab Notebooks/8월 자연어처리, OpenCV, 텐서플로/3. 딥러닝/label.txt\", 'r', encoding='utf-8').read().splitlines()\n",
        "#labels_file\n",
        "print(labels_file[p[0]  ])"
      ],
      "execution_count": 40,
      "outputs": [
        {
          "output_type": "stream",
          "text": [
            "(32, 32, 1)\n",
            "[431]\n"
          ],
          "name": "stdout"
        },
        {
          "output_type": "stream",
          "text": [
            "/usr/local/lib/python3.7/dist-packages/keras/engine/sequential.py:450: UserWarning: `model.predict_classes()` is deprecated and will be removed after 2021-01-01. Please use instead:* `np.argmax(model.predict(x), axis=-1)`,   if your model does multi-class classification   (e.g. if it uses a `softmax` last-layer activation).* `(model.predict(x) > 0.5).astype(\"int32\")`,   if your model does binary classification   (e.g. if it uses a `sigmoid` last-layer activation).\n",
            "  warnings.warn('`model.predict_classes()` is deprecated and '\n"
          ],
          "name": "stderr"
        },
        {
          "output_type": "stream",
          "text": [
            "복\n"
          ],
          "name": "stdout"
        },
        {
          "output_type": "display_data",
          "data": {
            "image/png": "[encoded data removed]",
            "text/plain": [
              "<Figure size 432x288 with 1 Axes>"
            ]
          },
          "metadata": {
            "tags": [],
            "needs_background": "light"
          }
        }
      ]
    },
    {
      "cell_type": "markdown",
      "metadata": {
        "id": "QhuY3lNTAnsG"
      },
      "source": [
        "# Open CV 연동 한글 인식"
      ]
    },
    {
      "cell_type": "code",
      "metadata": {
        "id": "AfKIUjvkAu35",
        "colab": {
          "base_uri": "https://localhost:8080/",
          "height": 448
        },
        "outputId": "009401f1-589a-4150-c863-e335735fe1e7"
      },
      "source": [
        "import keras\n",
        "import io\n",
        "import cv2\n",
        "\n",
        "model = keras.models.load_model(\"hangul_cnn.h5\")\n",
        "labels_file = io.open(\"/content/drive/MyDrive/Colab Notebooks/8월 자연어처리, OpenCV, 텐서플로/3. 딥러닝/label.txt\", 'r', encoding='utf-8').read().splitlines()\n",
        "\n",
        "ix,iy = -1,-1\n",
        "drawing = False\n",
        "img = np.zeros((256,256), np.uint8)\n",
        "\n",
        "def draw(event,x,y,flags,param):\n",
        "    global ix,iy,drawing, img\n",
        "    if event == cv2.EVENT_LBUTTONDOWN:\n",
        "        drawing = True\n",
        "        ix,iy = x,y        \n",
        "        \n",
        "    elif event==cv2.EVENT_MOUSEMOVE:\n",
        "        if drawing == True:\n",
        "            cv2.line(img,(ix,iy),(x,y),(255,255,255),15)\n",
        "            ix = x\n",
        "            iy = y             \n",
        "    elif event==cv2.EVENT_LBUTTONUP:\n",
        "        drawing=False    \n",
        "        \n",
        "        \n",
        "cv2.imshow('image',img)\n",
        "cv2.setMouseCallback('image',draw)          \n",
        "\n",
        "\n",
        "while(1):\n",
        "    cv2.imshow('image',img)\n",
        "    k = cv2.waitKey(1)\n",
        "    \n",
        "    if k == 32 :\n",
        "        img2 = cv2.resize(img, (32, 32), interpolation = cv2.INTER_LINEAR)\n",
        "        plt.imshow(img2, cmap='gray')\n",
        "        plt.show()        \n",
        "        \n",
        "        img2 = 1 - img2.reshape(1,32,32,1) / 255\n",
        "        id = np.argmax(model.predict(img2))\n",
        "        print(labels_file[id])\n",
        "        img = np.zeros((256,256), np.uint8)           \n",
        "        \n",
        "        \n",
        "    elif k == 27:\n",
        "        break\n",
        "\n",
        "cv2.destroyAllWindows()  "
      ],
      "execution_count": 42,
      "outputs": [
        {
          "output_type": "error",
          "ename": "DisabledFunctionError",
          "evalue": "ignored",
          "traceback": [
            "\u001b[0;31m---------------------------------------------------------------------------\u001b[0m",
            "\u001b[0;31mDisabledFunctionError\u001b[0m                     Traceback (most recent call last)",
            "\u001b[0;32m<ipython-input-42-5791abb96a71>\u001b[0m in \u001b[0;36m<module>\u001b[0;34m()\u001b[0m\n\u001b[1;32m     25\u001b[0m \u001b[0;34m\u001b[0m\u001b[0m\n\u001b[1;32m     26\u001b[0m \u001b[0;34m\u001b[0m\u001b[0m\n\u001b[0;32m---> 27\u001b[0;31m \u001b[0mcv2\u001b[0m\u001b[0;34m.\u001b[0m\u001b[0mimshow\u001b[0m\u001b[0;34m(\u001b[0m\u001b[0;34m'image'\u001b[0m\u001b[0;34m,\u001b[0m\u001b[0mimg\u001b[0m\u001b[0;34m)\u001b[0m\u001b[0;34m\u001b[0m\u001b[0;34m\u001b[0m\u001b[0m\n\u001b[0m\u001b[1;32m     28\u001b[0m \u001b[0mcv2\u001b[0m\u001b[0;34m.\u001b[0m\u001b[0msetMouseCallback\u001b[0m\u001b[0;34m(\u001b[0m\u001b[0;34m'image'\u001b[0m\u001b[0;34m,\u001b[0m\u001b[0mdraw\u001b[0m\u001b[0;34m)\u001b[0m\u001b[0;34m\u001b[0m\u001b[0;34m\u001b[0m\u001b[0m\n\u001b[1;32m     29\u001b[0m \u001b[0;34m\u001b[0m\u001b[0m\n",
            "\u001b[0;32m/usr/local/lib/python3.7/dist-packages/google/colab/_import_hooks/_cv2.py\u001b[0m in \u001b[0;36mwrapped\u001b[0;34m(*args, **kwargs)\u001b[0m\n\u001b[1;32m     50\u001b[0m   \u001b[0;32mdef\u001b[0m \u001b[0mwrapped\u001b[0m\u001b[0;34m(\u001b[0m\u001b[0;34m*\u001b[0m\u001b[0margs\u001b[0m\u001b[0;34m,\u001b[0m \u001b[0;34m**\u001b[0m\u001b[0mkwargs\u001b[0m\u001b[0;34m)\u001b[0m\u001b[0;34m:\u001b[0m\u001b[0;34m\u001b[0m\u001b[0;34m\u001b[0m\u001b[0m\n\u001b[1;32m     51\u001b[0m     \u001b[0;32mif\u001b[0m \u001b[0;32mnot\u001b[0m \u001b[0mos\u001b[0m\u001b[0;34m.\u001b[0m\u001b[0menviron\u001b[0m\u001b[0;34m.\u001b[0m\u001b[0mget\u001b[0m\u001b[0;34m(\u001b[0m\u001b[0menv_var\u001b[0m\u001b[0;34m,\u001b[0m \u001b[0;32mFalse\u001b[0m\u001b[0;34m)\u001b[0m\u001b[0;34m:\u001b[0m\u001b[0;34m\u001b[0m\u001b[0;34m\u001b[0m\u001b[0m\n\u001b[0;32m---> 52\u001b[0;31m       \u001b[0;32mraise\u001b[0m \u001b[0mDisabledFunctionError\u001b[0m\u001b[0;34m(\u001b[0m\u001b[0mmessage\u001b[0m\u001b[0;34m,\u001b[0m \u001b[0mname\u001b[0m \u001b[0;32mor\u001b[0m \u001b[0mfunc\u001b[0m\u001b[0;34m.\u001b[0m\u001b[0m__name__\u001b[0m\u001b[0;34m)\u001b[0m\u001b[0;34m\u001b[0m\u001b[0;34m\u001b[0m\u001b[0m\n\u001b[0m\u001b[1;32m     53\u001b[0m     \u001b[0;32mreturn\u001b[0m \u001b[0mfunc\u001b[0m\u001b[0;34m(\u001b[0m\u001b[0;34m*\u001b[0m\u001b[0margs\u001b[0m\u001b[0;34m,\u001b[0m \u001b[0;34m**\u001b[0m\u001b[0mkwargs\u001b[0m\u001b[0;34m)\u001b[0m\u001b[0;34m\u001b[0m\u001b[0;34m\u001b[0m\u001b[0m\n\u001b[1;32m     54\u001b[0m \u001b[0;34m\u001b[0m\u001b[0m\n",
            "\u001b[0;31mDisabledFunctionError\u001b[0m: cv2.imshow() is disabled in Colab, because it causes Jupyter sessions\nto crash; see https://github.com/jupyter/notebook/issues/3935.\nAs a substitution, consider using\n  from google.colab.patches import cv2_imshow\n"
          ],
          "errorDetails": {
            "actions": [
              {
                "action": "open_snippet",
                "actionText": "Search Snippets for cv2.imshow",
                "snippetFilter": "cv2.imshow"
              }
            ]
          }
        }
      ]
    },
    {
      "cell_type": "markdown",
      "metadata": {
        "id": "TlDlAOqaIxN9"
      },
      "source": [
        "# ImageNet 을 이용한  영상인식"
      ]
    },
    {
      "cell_type": "code",
      "metadata": {
        "colab": {
          "base_uri": "https://localhost:8080/"
        },
        "id": "892yynRMJACr",
        "outputId": "46549241-cec2-45cf-eb76-37d3c74607f7"
      },
      "source": [
        "from keras.applications.vgg16 import VGG16, decode_predictions\n",
        "from keras.preprocessing.image import load_img, img_to_array\n",
        "\n",
        "model = VGG16(weights='imagenet')\n",
        "model.summary()"
      ],
      "execution_count": 48,
      "outputs": [
        {
          "output_type": "stream",
          "text": [
            "Model: \"vgg16\"\n",
            "_________________________________________________________________\n",
            "Layer (type)                 Output Shape              Param #   \n",
            "=================================================================\n",
            "input_3 (InputLayer)         [(None, 224, 224, 3)]     0         \n",
            "_________________________________________________________________\n",
            "block1_conv1 (Conv2D)        (None, 224, 224, 64)      1792      \n",
            "_________________________________________________________________\n",
            "block1_conv2 (Conv2D)        (None, 224, 224, 64)      36928     \n",
            "_________________________________________________________________\n",
            "block1_pool (MaxPooling2D)   (None, 112, 112, 64)      0         \n",
            "_________________________________________________________________\n",
            "block2_conv1 (Conv2D)        (None, 112, 112, 128)     73856     \n",
            "_________________________________________________________________\n",
            "block2_conv2 (Conv2D)        (None, 112, 112, 128)     147584    \n",
            "_________________________________________________________________\n",
            "block2_pool (MaxPooling2D)   (None, 56, 56, 128)       0         \n",
            "_________________________________________________________________\n",
            "block3_conv1 (Conv2D)        (None, 56, 56, 256)       295168    \n",
            "_________________________________________________________________\n",
            "block3_conv2 (Conv2D)        (None, 56, 56, 256)       590080    \n",
            "_________________________________________________________________\n",
            "block3_conv3 (Conv2D)        (None, 56, 56, 256)       590080    \n",
            "_________________________________________________________________\n",
            "block3_pool (MaxPooling2D)   (None, 28, 28, 256)       0         \n",
            "_________________________________________________________________\n",
            "block4_conv1 (Conv2D)        (None, 28, 28, 512)       1180160   \n",
            "_________________________________________________________________\n",
            "block4_conv2 (Conv2D)        (None, 28, 28, 512)       2359808   \n",
            "_________________________________________________________________\n",
            "block4_conv3 (Conv2D)        (None, 28, 28, 512)       2359808   \n",
            "_________________________________________________________________\n",
            "block4_pool (MaxPooling2D)   (None, 14, 14, 512)       0         \n",
            "_________________________________________________________________\n",
            "block5_conv1 (Conv2D)        (None, 14, 14, 512)       2359808   \n",
            "_________________________________________________________________\n",
            "block5_conv2 (Conv2D)        (None, 14, 14, 512)       2359808   \n",
            "_________________________________________________________________\n",
            "block5_conv3 (Conv2D)        (None, 14, 14, 512)       2359808   \n",
            "_________________________________________________________________\n",
            "block5_pool (MaxPooling2D)   (None, 7, 7, 512)         0         \n",
            "_________________________________________________________________\n",
            "flatten (Flatten)            (None, 25088)             0         \n",
            "_________________________________________________________________\n",
            "fc1 (Dense)                  (None, 4096)              102764544 \n",
            "_________________________________________________________________\n",
            "fc2 (Dense)                  (None, 4096)              16781312  \n",
            "_________________________________________________________________\n",
            "predictions (Dense)          (None, 1000)              4097000   \n",
            "=================================================================\n",
            "Total params: 138,357,544\n",
            "Trainable params: 138,357,544\n",
            "Non-trainable params: 0\n",
            "_________________________________________________________________\n"
          ],
          "name": "stdout"
        }
      ]
    },
    {
      "cell_type": "code",
      "metadata": {
        "colab": {
          "base_uri": "https://localhost:8080/",
          "height": 322
        },
        "id": "d7W5dJVoQCyg",
        "outputId": "591a1f0c-7ff1-41e3-a202-a74d45660250"
      },
      "source": [
        "image = load_img('/content/drive/MyDrive/Colab Notebooks/8월 자연어처리, OpenCV, 텐서플로/3. 딥러닝/cat.png', target_size=(224, 224))\n",
        "plt.imshow(image)\n",
        "print(type(image))\n",
        "x = img_to_array(image)\n",
        "print(x.shape)\n",
        "\n",
        "x = np.expand_dims(x, axis=0)\n",
        "print(x.shape)"
      ],
      "execution_count": 49,
      "outputs": [
        {
          "output_type": "stream",
          "text": [
            "<class 'PIL.Image.Image'>\n",
            "(224, 224, 3)\n",
            "(1, 224, 224, 3)\n"
          ],
          "name": "stdout"
        },
        {
          "output_type": "display_data",
          "data": {
            "image/png": "[encoded data removed]",
            "text/plain": [
              "<Figure size 432x288 with 1 Axes>"
            ]
          },
          "metadata": {
            "tags": [],
            "needs_background": "light"
          }
        }
      ]
    },
    {
      "cell_type": "code",
      "metadata": {
        "colab": {
          "base_uri": "https://localhost:8080/",
          "height": 300
        },
        "id": "-9SwuoE6QHB7",
        "outputId": "2644bb7b-c684-490b-e811-3f4bbf446119"
      },
      "source": [
        "pred = model.predict(x)\n",
        "print(pred.shape)\n",
        "plt.plot(pred[0,:])\n",
        "print( np.argmax(pred, axis=1)  )"
      ],
      "execution_count": 50,
      "outputs": [
        {
          "output_type": "stream",
          "text": [
            "(1, 1000)\n",
            "[285]\n"
          ],
          "name": "stdout"
        },
        {
          "output_type": "display_data",
          "data": {
            "image/png": "[encoded data removed]",
            "text/plain": [
              "<Figure size 432x288 with 1 Axes>"
            ]
          },
          "metadata": {
            "tags": [],
            "needs_background": "light"
          }
        }
      ]
    },
    {
      "cell_type": "code",
      "metadata": {
        "colab": {
          "base_uri": "https://localhost:8080/"
        },
        "id": "EUxPZuVoQgje",
        "outputId": "0dde55e0-94a3-41d8-9c89-65069248e1ae"
      },
      "source": [
        "print('Predicted:', decode_predictions(pred, top=3)[0])"
      ],
      "execution_count": 51,
      "outputs": [
        {
          "output_type": "stream",
          "text": [
            "Downloading data from https://storage.googleapis.com/download.tensorflow.org/data/imagenet_class_index.json\n",
            "40960/35363 [==================================] - 0s 0us/step\n",
            "49152/35363 [=========================================] - 0s 0us/step\n",
            "Predicted: [('n02124075', 'Egyptian_cat', 0.90105987), ('n02127052', 'lynx', 0.034189563), ('n02125311', 'cougar', 0.03183695)]\n"
          ],
          "name": "stdout"
        }
      ]
    },
    {
      "cell_type": "code",
      "metadata": {
        "colab": {
          "base_uri": "https://localhost:8080/"
        },
        "id": "MYUZ9hU-QicT",
        "outputId": "8328c5ed-f001-4daf-c1cd-2142dcb1ad7e"
      },
      "source": [
        "with open(\"/content/drive/MyDrive/Colab Notebooks/8월 자연어처리, OpenCV, 텐서플로/3. 딥러닝/labels_h.txt\", 'r', -1, 'utf-8') as f:    \n",
        "     labels_h = f.read().splitlines()            \n",
        "print(labels_h)      \n",
        "\n",
        "\n"
      ],
      "execution_count": 53,
      "outputs": [
        {
          "output_type": "stream",
          "text": [
            "['잉어의 일종', '금붕어', '백상아리', '범 상어', '귀상어', '전기 광선', '가오리', '수탉', '대단히', '타조', '되새', '금화', '하우스 핀치', '돌진', '인디고 멧', '남자 이름', '벌벌', '어치', '까치', '박새 속의 총칭', '물 까마귀', '연', '흰머리 독수리', '무자비한 사람', '큰 회색 올빼미', '유럽 \\u200b\\u200b화재 도롱뇽', '일반적인 영원', '이다', '발견 도롱뇽', '아 홀로 틀', '황소 개구리', '청개구리', '꼬리 개구리', '얼간이', '장수 거북', '진흙 거북', '후미 거북', '상자 거북', '줄무늬 도마뱀', '일반 이구아나', '미국의 카멜레온', '채찍 꼬리', '종교', '주름 장식 도마뱀', '악어 도마뱀', '길라 몬스터', '녹색 도마뱀', '아프리카 카멜레온', '코모도 왕 도마뱀', '아프리카 악어', '미국 악어', '트리케라톱스', '천둥 뱀', 'ringneck 뱀', 'hognose 뱀', '녹색 뱀', '왕 뱀', '가터 뱀', '물뱀', '포도 나무 뱀', '밤 뱀', '보아', '바위 파이썬', '인도 코브라', '그린 맘바', '바다 뱀', '뿔 독사', '다이아몬드', '사이드 와인 더', '삼엽충', 'harvestman입니다', '투석기', '블랙과 골드 정원 거미', '어린이 거미', '정원 거미', '블랙 위도우', '타란툴라 거미', '늑대 거미', '진드기', '지네', '블랙 그 라우스', '멧닭', '목도리 뇌조', '뇌조의 일종', '공작', '메추라기', '자고', '아프리카 회색', '앵무새', '유황 볏이 앵무새', '진훙 잉꼬의 일종', '코 칼류', '꿀벌 먹는 사람', '코뿔새', '벌새', 'Jasmer', '큰 부리 새', '드레이크', '붉은 가슴 비오리', '거위', '검은 백조', '큰 엄니가있는 동물', '가시 두더지', '오리너구리', '왈라비', '주머니 곰 코알라', '웜뱃', '해파리', '말미잘', '뇌 산호', '편형 동물', '선충류', '조가비', '달팽이', '강타', '바다 슬러그', '속옷의 일종', '챔버 노틸러스', '던저 니스 크랩', '바위 게', '피들러 게', '왕게', '미국의 랍스터', '가시 랍스터', '왕새우', '집게', '등각', '흰 황새', '검은 황새', '저어새', '플라밍고', '작은 블루 헤론', '미국 백로', '간수', '두루미', 'limpkin입니다', '유럽 \\u200b\\u200bgallinule와', '미국 물닭', '느시과', '붉게 turnstone', '빨간색 도요을지지', '붉은 발도 요', 'dowitcher', '물떼새', '펠리컨', '킹 펭귄', '신천옹', '작은 고래', '범고래', '피의', '바다 사자', '치와와', '일본어 소', '몰타어 강아지', '북경 사람', 'Shih 손자', '블렌 하임 소', '나비', '장난감 테리어', '된 Rhodesian의 리지 백', '아프간 하운드', '바셋', '비글', '집요한 추적자', 'bluetick', '검은 색과 황갈색 coonhound', '워커 사냥개', '영어 폭스 하운드', '레드 본', '보르조이', '아이리시 울프 하운드', '이탈리아어 그레이하운드', '경전차', '이비자 사냥개', '노르웨이어 elkhound', 'otterhound', '살 루키', '스코티시 디어 하운드', 'weimaraner 해', '스 태퍼 드셔 불 테리어', '아메리칸 스 태퍼 드셔 테리어', 'Bedlington 테리어', '국경 테리어', '케리 블루 테리어', '아일랜드어 테리어', '노퍽 테리어', '노리치 테리어', '요크셔 테리어', '와이어 머리 폭스 테리어', '레이크 랜드 테리어', 'Sealyham 테리어', '에어데일 테리어 종의 개', '케른', '호주 테리어', 'Dandie Dinmont', '보스턴 황소', '미니어처 슈나우저', '자이언트 슈나우저', '표준 슈나우저', '스코틀랜드 테리어', '티베트 테리어', '실크 테리어', '부드러운 밀 테리어 코팅', '웨스트 하이랜드 화이트 테리어', '라사', '평면 코팅 리트리버', '곱슬 코팅 리트리버', '골든 리트리버', '래브라도 리트리버', '체사 피크 베이 리트리버', '독일어 짧은 머리 포인터', '비글', '영어 세트', '아일랜드어 세터', '고든 세터', '브리트니 소', 'clumber', '영어 뛰는', '웨일스어 스프링 어 스패니얼', '코커 스패니얼', '섹스 소', '아일랜드어 물 소', '개', '스키 퍼키', 'groenendael', '말리 노이즈', '브리 아르', 'kelpie', 'komondor', '고대 영어 몰이', '셰틀 랜드 제도 몰이', '콜리', '보더', '부비에 데 플랑드르', '애마', '독일 셰퍼드', '도베르만', '미니어처 핀셔', '큰 스위스 산 개', 'Bernese 산 개', '아펜젤러', 'EntleBucher', '복서', '황소 마스', '티벳 마스티프', '프랑스 불독', '그레이트', '세인트 버나드', '에스키모 개', '에스키모', '시베리안 허스키', '달마 티아 종의', '아펜 핀셔', '는 Basenji', '이긴 흙', 'Leonberg의', '뉴 펀들 랜드', '그레이트 피레니즈', '사모예드', '포메 라니아 인', '음식', 'keeshond', 'brabancon입니다 날아 오르는', '펨 브로크', '카디건', '토이 푸들', '미니어처 푸들', '표준 푸들', '멕시코 털이', '목재 늑대', '흰 늑대', '붉은 늑대', '코요테', '사라', '에서 드럼', '아프리카 사냥개', '하이에나', '붉은 여우', '키트 여우', '북극 여우', '회색 여우', '태비', '호랑이 고양이', '페르시아 고양이', '샴 고양이', '이집트 고양이', '쿠거', '스라소니', '표범', '눈표범', '재규어', '사자', '호랑이', '치타', '갈색 곰', '미국 검은 곰', '얼음 곰', '느림보 곰', '몽구스', '미어캣', '호랑이 딱정벌레', '무당 벌레', '지상 딱정벌레', '긴 뿔이 딱정벌레', '잎 딱정벌레', '쇠똥 구리', '코뿔소 딱정벌레', '바구미', '파리', '벌', '의 위에', '메뚜기', '크리켓', '지팡이', '바퀴벌레', '사마귀', '매미', '멸구', '풀잠자리', '잠자리', 'Damselfly입니다', '해군 대장', '작은 고리', '군주', '배추 흰나비', '황 나비', 'lycaenid', '불가사리', '섬게', '해삼', '나무 토끼', '토끼', '앙고라', '햄스터', '호저', '여우 다람쥐', '마모 트', '비버', '기니피그', '밤색', '얼룩말', '돼지', '야생 멧돼지', '혹 멧돼지', '하마', '소', '물소', '바이슨', '램', '큰 뿔양', '아이 벡스', 'hartebeest', '임팔라', '가젤 영양', '아라비아 낙', '요구', '족제비', '밍크', '긴털 족제비', '검은 발족 제비', '수달', '스컹크', '오소리', '아르마딜로', '세 발가락 나무 늘보', '오랑우탄', '고릴라', '침팬지', '긴팔 원숭이', '긴팔 원숭이', 'guenon', '다리', '비비', '짧은 꼬리 원숭이', '긴', '부스', '코 원숭이', '비단 원숭이', '카푸 친회', '짖는 원숭이', '형사', '거미 원숭이', '다람쥐 원숭이', '마다가스카르 고양이', '인드 리', '인도 코끼리', '아프리카 코끼리', '작은 팬더', '자이언트 팬더', 'Barracouta', '뱀장어', '어떤', '바위의 아름다움', '곰 끌', '철갑 상어', '조금도', '주 lionfish', '완충기', '주판', '아바야', '학술 가운', '아코디언', '어쿠스틱 기타', '항공 모함', '여객기', '비행선', '제단', '구급차', '수륙 양용 비행기', '아날로그 시계', '양봉장', '앞치마', 'ashcan', '돌격 소총', '배낭', '빵집', '저울대', '풍선', '볼펜', '밴드 에이드', '밴조', '베 니', '바벨', '이발 의자', '이발소', '어린이', '기압계', '통', '손수레', '야구', '농구', '한쪽에 포장이 달린 유모차', '바순', '수영 모자', '목욕 수건', '목욕통', '해변 왜건', '봉홧불', '굽 \\u200b\\u200b달린 큰 컵', '곰 가죽 제품', '맥주병', '맥주 유리', '벨 코트', '턱받이', '자전거는 두 위해 만들어진', '비키니', '접합재', '쌍안경', '새집', '보트', '봅슬레이', '했다', '보닛', '책장', '서점', '병 뚜껑', '활', '나비 넥타이', '놋쇠', '브래지어', '방파제', '흉갑', '비', '버킷', '버클', '방탄 조끼', '초고속 열차', '푸줏간', '택시', '가마솥', '양초', '대포', '카누', '병따개', '카디건', '자동차 거울', '회전 목마', '목수의 키트', '판지 상자', '자동차 바퀴', '자동 현금 인출기', '카세트', '카세트 플레이어', '성', '뗏목', 'CD 플레이어', '첼로', '휴대 전화', '체인', '체인 링크 울타리', '체인 메일', '체인 톱', '가슴', '서랍장', '차임', '중국 캐비닛', '크리스마스 스타킹', '교회에', '영화', '고기 베는 큰 칼', '절벽 주거', '망토', '나막신', '칵테일 쉐이커', '커피 잔', '커피 포트', '코일', '조합 잠금', '컴퓨터 키보드', '과자', '컨테이너 선', '바꿀 수 있는', '빙빙 돌리다', '뿔', '카우보이 부츠', '카우보이 모자', '요람', '두루미', '충돌 헬멧', '나무 상자', '어린이 침대', '돼 먹지 못한 냄비', '크로켓 볼', '버팀목', '동체 갑옷', '댐', '책상', '데스크톱 컴퓨터', '전화로 전화를 걸', '기저귀', '디지털 시계', '디지털 시계', '식탁', '행주', '식기 세척기', '디스크 브레이크', '그러나', '개 썰매', '둥근 천장', '구두 흙 털개', '시추 플랫폼', '북', '북채', '아령', '고기 굽는 그릇', '선풍기', '전자 기타', '전기 기관차', '엔터테인먼트 센터', '봉투', '에스프레소 메이커', '페이스 파우더', '깃털 보아', '파일', 'fireboat입니다', '소방차', '화열 가리개', '깃대', '플루트', '접는 의자', '미식 축구 헬멧', '지게차', '분수', '만년필', '네 포스터', '화물 자동차', '프렌치 호른', '프라이팬', '모피 코트', '쓰레기 차', 'gasmask', '가스 펌프', '고블릿', '이동 카트', '골프 공', '골프 카트', '곤돌라', '궁전', '겉옷', '그랜드 피아노', '온실', '철제 선반', '식료품 점', '기요틴', '헤어 슬라이드', '헤어 스프레이', '반 트랙', '망치', '족쇄', '손 송풍기', '휴대용 컴퓨터', '손수건', '하드 디스크', '하모니카', '하프', '수확 자', '자귀', '홀스터', '홈 시어터', '벌집', '훅', 'hoopskirt', '수평 막대', '말 카트', '모래 시계', '아이팟', '철', \"'랜턴을 gask\", '청바지', '지프', '저지', '직소 퍼즐', '인력거', '조종간', '키모노', '무릎 패드', '매듭', '실험복', '국자', '갓', '노트북', '잔디 깎이 기계', '렌즈 헤드', '편지 오프너', '도서관', '구명정', '거룻배', '리무진', '정기선', '립스틱', '게으름 뱅이', '외용 물약', '스피커', '확대경', 'lumbermill', '자기 나침반', '우편낭', '사서함', '셔츠', '셔츠', '맨홀 커버', '마라카스', '마림바', '마스크', '성냥', '오월 제의 기둥', '미로', '계량컵', '구급약 상자', '거석', '마이크로폰', '마이크로파', '군복', '우유 캔', '소형 버스', '미니 스커트', '미니 밴', '미사일', '중간에', '혼합 그릇', '이동식 주택', '모델 T', '모뎀', '수도원', '감시 장치', '모터 달린 자전거', '박격포', '각모', '사원', '모기장', '모터 스쿠터', '산악 자전거', '산 텐트', '쥐', '쥐덫', '에서 이동', '포구', '네일', '목걸이', '목걸이', '젖꼭지', '공책', '오벨리스크', '오보에', '오카리나', '주행 거리계', '오일 필터', '오르간', '오실로스코프', 'overskirt', '우차', '산소 마스크', '패킷', '외륜', '외륜', '맹꽁이 자물쇠', '화필', '파자마', '궁전', '팬 파이프', '종이 타월', '낙하산', '수평 한 막대', '공원 벤치', '주차료 징수 기', '승용차', '안마당', '유료 자동 전화', '받침대', '필통', '연필 깎기', '향수', '페트리 접시', '복사기', '선택', '피켈 하우 베', '울타리', '픽업', '교각', '돼지 저금통', '약 병', '베개', '탁구 공', '바람개비', '해적', '피처', '비행기', '별자리 투영기', '비닐 봉투', '접시 걸이', '쟁기', '플런저', '폴라로이드 카메라', '아니', '경찰', '판초', '당구대', '팝업 병', '할 수있다', '물레', '동력 천공기', '기도 다시', '인쇄기', '감옥', '발사 물', '영사기', '퍽', '샌드백', '지갑', '깃', '이불', '경주자', '라켓', '라디에이터', '라디오', '전파 망원경', '비 배럴', '레저 용 차량', '릴', '리플렉스 카메라', '냉장고', '리모콘', '레스토랑', '리볼버', '소총', '흔들 의자', '불고기', '고무 지우개', '럭비 공', '규칙', '실행 신발', '안전한', '안전핀', '소금 통', '샌들', '사롱', '색소폰', '집', '규모', '학교 버스', '큰 포장 마차', '점수 판', '화면', '나사', '드라이버', '안전 벨트', '재봉틀', '방패', '신발 가게', '소지', '쇼핑 바구니', '쇼핑 카트', '삽', '샤워 헤드', '샤워 커튼', '스키', '스키 마스크', '침낭', '규칙을 비껴나 가다', '미닫이 문', '슬롯', '스노클', '설상차', '제설기', '비누 디스펜서', '축구 공', '양말', '태양 요리', '모자', '수프 그릇', '스페이스 바', '공간 히터', '우주 왕복선', '주걱', '쾌속정', '거미줄', '축', '스포츠카', '스포트라이트', '단계', '증기 기관차', '철강 아치 다리', '스틸 드럼', '청진기', '스톨', '돌 벽', '스톱워치', '난로', '거르는 사람', '시가 전차', '들것', '스튜디오 소파', '기둥', '잠수함', '소송', '해시계', '선글래스', '색안경', '자외선 차단제', '현수교', '자루 걸레', '스웨트 셔츠', '반바지 수영복', '그네', '스위치', '주사기', '테이블 램프', '탱크', '테이프 플레이어', '찻 주전자', '곰', '텔레비전', '테니스 공', '풀 지풍', '극장 커튼', '골무', '탈곡기', '왕좌', '기와 지붕', '토스터에', '담배 가게', '변기', '토치', '토템 폴', '견인차', '장난감 가게', '트랙터', '트레일러 트럭', '쟁반', '트렌치 코트', '세발 자전거', '동선', '삼각대', '개선문', '무궤도 전차', '트롬본', '통', '개찰구', '타자기 키보드', '우산', '외발 자전거', '똑바로', '진공', '병 장식', '둥근 천장', '벨벳', '자판기', '의복', '육교', '바이올린', '배구', '와플', '벽 시계', '지갑', '옷장', '전투기', '세면기', '세탁기', '물 병', '물병', '급수탑', '위스키 조끼', '휘파람', '가발', '윈도우 화면', '블라인드', '윈저 넥타이', '와인 병', '날개', '냄비', '나무 숟가락', '양모', '웜 울타리', '난파선', '욜형 돛단배', '기숙사', '웹 사이트', '만화책', '크로스 워드 퍼즐', '도로 표지판', '신호등', '책 커버', '메뉴', '플레이트', '아보카도', '소비하는', '뜨거운 냄비', '하찮은 것', '아이스크림', '얼음 롤리', '프랑스어 덩어리', '베이글', '프레첼', '치즈 버거', '핫도그', '으깬 감자', '머리 양배추', '브로콜리', '콜리 플라워', '서양 호박', '스파게티 스쿼시', '도토리 스쿼시', 'butternut 스쿼시', '오이', '아티 초크', '피망', '카르 둔', '버섯', '스미스 할머니', '딸기', '주황색', '레몬', '무화과', '파인애플', '바나나', '잭 푸르트', '커스터드 사과', '석류 나무', '가', '베이컨과 계란', '초콜릿 소스', '반죽', '떡갈비', '피자', '파이', '부리 토', '적포도주', '표현', '컵', '에그', '높은 산', '거품', '낭떠러지', '산호초', '간헐천', '호반', '...곶', '사주', '해변', '골짜기', '화산', '야구 선수', '신랑', '스쿠버 다이버', '유채', '데이지', '노란색 레이디의 구두', '옥수수', '도토리', '잘 알고 있기', '벅', '산호 곰팡이', '들 버섯', 'gyromitra', '그것을 냄새', 'earthstar', '숲의 암탉', 'bolete', '귀', '화장지']\n"
          ],
          "name": "stdout"
        }
      ]
    },
    {
      "cell_type": "code",
      "metadata": {
        "colab": {
          "base_uri": "https://localhost:8080/",
          "height": 287
        },
        "id": "e7INxYflQkGk",
        "outputId": "603fa2b4-af21-4ae0-b937-a46523015c65"
      },
      "source": [
        "image = load_img('/content/drive/MyDrive/Colab Notebooks/8월 자연어처리, OpenCV, 텐서플로/3. 딥러닝/phone.jpg', target_size=(224, 224))\n",
        "plt.imshow(image)\n",
        "x = img_to_array(image)\n",
        "x = np.expand_dims(x, axis=0)\n",
        "\n",
        "pred = model.predict(x)\n",
        "id = np.argmax(pred, axis=1)[0]\n",
        "print(labels_h[id])"
      ],
      "execution_count": 55,
      "outputs": [
        {
          "output_type": "stream",
          "text": [
            "전화로 전화를 걸\n"
          ],
          "name": "stdout"
        },
        {
          "output_type": "display_data",
          "data": {
            "image/png": "[encoded data removed]",
            "text/plain": [
              "<Figure size 432x288 with 1 Axes>"
            ]
          },
          "metadata": {
            "tags": [],
            "needs_background": "light"
          }
        }
      ]
    },
    {
      "cell_type": "markdown",
      "metadata": {
        "id": "YInsvKZcQta8"
      },
      "source": [
        "# zip 파일 풀기"
      ]
    },
    {
      "cell_type": "code",
      "metadata": {
        "colab": {
          "base_uri": "https://localhost:8080/"
        },
        "id": "qjcN_Bx6Ro7t",
        "outputId": "af805579-90cf-4692-9f0d-60d464581a4c"
      },
      "source": [
        "! unzip smallcatdog.zip"
      ],
      "execution_count": 62,
      "outputs": [
        {
          "output_type": "stream",
          "text": [
            "unzip:  cannot find or open smallcatdog.zip, smallcatdog.zip.zip or smallcatdog.zip.ZIP.\n"
          ],
          "name": "stdout"
        }
      ]
    },
    {
      "cell_type": "code",
      "metadata": {
        "id": "U8MUhorKRsDF"
      },
      "source": [
        ""
      ],
      "execution_count": null,
      "outputs": []
    }
  ]
}