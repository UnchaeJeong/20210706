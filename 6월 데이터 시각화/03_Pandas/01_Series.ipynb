{
 "cells": [
  {
   "cell_type": "markdown",
   "id": "6fdfa52e-288d-4b5d-b62d-03b520fbb29a",
   "metadata": {},
   "source": [
    "# 📚 1. Series\n",
    "- 값과 행렬로 구성된 1열 데이터\n",
    "- 특성 하나의 데이터\n"
   ]
  },
  {
   "cell_type": "markdown",
   "id": "69b68b09-9a22-4632-9694-0116cd57cb1b",
   "metadata": {},
   "source": [
    "## 📚  필요한 라이브러리"
   ]
  },
  {
   "cell_type": "code",
   "execution_count": 8,
   "id": "9425e619-2be3-40f2-9477-d801caea98f6",
   "metadata": {},
   "outputs": [],
   "source": [
    "import numpy as np\n",
    "import pandas as pd"
   ]
  },
  {
   "cell_type": "markdown",
   "id": "9619be7e-a350-4937-b8a7-82346b0f8a31",
   "metadata": {},
   "source": [
    "##  📚 Series 생성\n",
    "- series는 list, tuple, ndarray로 생성할 수 있다.\n",
    "- list, tuple인 경우에는 ndarray 로 생성한 다음 관리한다.\n",
    "- ndarray인 경우에는 해당 행렬 데이터를 관리한다."
   ]
  },
  {
   "cell_type": "code",
   "execution_count": 9,
   "id": "882fd994-1e5e-430e-af0f-d101f529c21f",
   "metadata": {},
   "outputs": [
    {
     "name": "stdout",
     "output_type": "stream",
     "text": [
      "0    10\n",
      "1    20\n",
      "2    30\n",
      "3    40\n",
      "4    50\n",
      "dtype: int64\n"
     ]
    },
    {
     "data": {
      "text/plain": [
       "0    10\n",
       "1    20\n",
       "2    30\n",
       "3    40\n",
       "4    50\n",
       "dtype: int64"
      ]
     },
     "metadata": {},
     "output_type": "display_data"
    }
   ],
   "source": [
    "s1 = pd.Series([10, 20, 30, 40, 50])\n",
    "print(s1)\n",
    "display(s1)"
   ]
  },
  {
   "cell_type": "markdown",
   "id": "953af213-d6b4-436d-af81-3ff94e5bce4a",
   "metadata": {},
   "source": [
    "## 📚 1.1.  Series가 관리하는 데이터에 접근하기"
   ]
  },
  {
   "cell_type": "code",
   "execution_count": 10,
   "id": "0f26e66a-8ee7-458b-94cd-a1f321b78fbf",
   "metadata": {},
   "outputs": [
    {
     "name": "stdout",
     "output_type": "stream",
     "text": [
      "10\n",
      "20\n",
      "30\n"
     ]
    }
   ],
   "source": [
    "print(s1[0])\n",
    "print(s1[1])\n",
    "print(s1[2])\n",
    "#  **[]는 인덱스 지칭하는 것.**"
   ]
  },
  {
   "cell_type": "markdown",
   "id": "a7b533a3-1014-46e1-9f35-2129fec16788",
   "metadata": {},
   "source": [
    "values, index"
   ]
  },
  {
   "cell_type": "code",
   "execution_count": 11,
   "id": "12b2fbcc-5e5a-49b0-8059-715f8229cba2",
   "metadata": {},
   "outputs": [
    {
     "data": {
      "text/plain": [
       "numpy.ndarray"
      ]
     },
     "metadata": {},
     "output_type": "display_data"
    },
    {
     "name": "stdout",
     "output_type": "stream",
     "text": [
      "[10 20 30 40 50]\n"
     ]
    }
   ],
   "source": [
    "# 관리하는 값들은 모두 가져온다.\n",
    "array1 = s1.values\n",
    "display(type(array1))\n",
    "print(array1)"
   ]
  },
  {
   "cell_type": "code",
   "execution_count": 12,
   "id": "a80c6be2-76f8-43c1-87e5-8f72034f566b",
   "metadata": {},
   "outputs": [
    {
     "name": "stdout",
     "output_type": "stream",
     "text": [
      "<class 'pandas.core.indexes.range.RangeIndex'>\n",
      "RangeIndex(start=0, stop=5, step=1)\n",
      "[0, 1, 2, 3, 4]\n"
     ]
    }
   ],
   "source": [
    "# index를 추출한다.\n",
    "array2 = s1.index\n",
    "\n",
    "print(type(array2))\n",
    "print(array2)\n",
    "print(list(array2))\n",
    "\n",
    "# 활용 ex)  나이 컬럼 >= 30, index 삭제.\n",
    "# 조건식으로 추출"
   ]
  },
  {
   "cell_type": "markdown",
   "id": "348aa419-014e-49c6-8dea-5b07d2fcab56",
   "metadata": {},
   "source": [
    "## 📚 1.2. index 지정하기\n",
    "- Series 생성시 index를 지정하지 않으면 0부터 1씩 증가되는 값으로 지정된다.\n",
    "- index를 지정하고 싶다면 생성시 지정하거나 생성 후 필요할 때 지정할 수 있다."
   ]
  },
  {
   "cell_type": "markdown",
   "id": "eea6bbaa-8326-41ac-b0f5-68b5329f247a",
   "metadata": {},
   "source": [
    "Series, index"
   ]
  },
  {
   "cell_type": "code",
   "execution_count": 13,
   "id": "3e68b482-f00e-4b88-a77d-89d7cb554716",
   "metadata": {},
   "outputs": [
    {
     "data": {
      "text/plain": [
       "0    1000\n",
       "1    2000\n",
       "2    3000\n",
       "dtype: int64"
      ]
     },
     "execution_count": 13,
     "metadata": {},
     "output_type": "execute_result"
    }
   ],
   "source": [
    "s1 = pd.Series([1000, 2000, 3000])\n",
    "s1"
   ]
  },
  {
   "cell_type": "code",
   "execution_count": 14,
   "id": "37263965-a638-451d-830a-d73c7f43b067",
   "metadata": {},
   "outputs": [
    {
     "data": {
      "text/plain": [
       "값1    1000\n",
       "값2    2000\n",
       "값3    3000\n",
       "dtype: int64"
      ]
     },
     "execution_count": 14,
     "metadata": {},
     "output_type": "execute_result"
    }
   ],
   "source": [
    "#  생성한 Series에 인덱스를 변경한다.\n",
    "# 새롭게 설정하는 인덱스의 갯수는 Series의 전체 행의 갯수와 일치해야 한다.\n",
    "s1.index = ['값1','값2','값3']\n",
    "s1"
   ]
  },
  {
   "cell_type": "code",
   "execution_count": 15,
   "id": "62c2f5b9-46f1-4200-8eac-9bb3b2d0fa5d",
   "metadata": {},
   "outputs": [
    {
     "data": {
      "text/plain": [
       "값1    1000\n",
       "값2    2000\n",
       "값3    3000\n",
       "dtype: int64"
      ]
     },
     "execution_count": 15,
     "metadata": {},
     "output_type": "execute_result"
    }
   ],
   "source": [
    "# 생성할 때 Index를 지정한다.\n",
    "s2 = pd.Series([1000, 2000, 3000], index = ['값1','값2','값3'])\n",
    "s2"
   ]
  },
  {
   "cell_type": "markdown",
   "id": "b4773f17-1f14-4d19-992e-8f8452c2b47f",
   "metadata": {},
   "source": [
    "## 📚 1.3.  **값을 가져온다.**"
   ]
  },
  {
   "cell_type": "code",
   "execution_count": 16,
   "id": "9f019a36-7f50-4b14-8484-20483a283eb0",
   "metadata": {},
   "outputs": [
    {
     "data": {
      "text/plain": [
       "0    10\n",
       "1    20\n",
       "2    30\n",
       "3    40\n",
       "4    50\n",
       "dtype: int64"
      ]
     },
     "execution_count": 16,
     "metadata": {},
     "output_type": "execute_result"
    }
   ],
   "source": [
    "# 기본 index\n",
    "s1 = pd.Series([10, 20, 30, 40, 50])\n",
    "s1"
   ]
  },
  {
   "cell_type": "code",
   "execution_count": 17,
   "id": "9a3f2eef-2e0e-4f20-b35a-93207f9bd90e",
   "metadata": {},
   "outputs": [
    {
     "name": "stdout",
     "output_type": "stream",
     "text": [
      "10\n",
      "20\n",
      "30\n"
     ]
    }
   ],
   "source": [
    "# index가 숫자로 되어 있을 경우 숫자를 지정하면 순서가 아닌\n",
    "#index 값을 통해 접근한다.\n",
    "print(s1[0])\n",
    "print(s1[1])\n",
    "print(s1[2])"
   ]
  },
  {
   "cell_type": "code",
   "execution_count": 18,
   "id": "28dc3114-efd4-4131-86d5-75fd6cd9f19e",
   "metadata": {},
   "outputs": [
    {
     "data": {
      "text/plain": [
       "3    10\n",
       "0    20\n",
       "4    30\n",
       "1    40\n",
       "2    50\n",
       "dtype: int64"
      ]
     },
     "execution_count": 18,
     "metadata": {},
     "output_type": "execute_result"
    }
   ],
   "source": [
    "s2 = pd.Series([10, 20, 30, 40, 50], index=[3,0,4,1,2])\n",
    "s2"
   ]
  },
  {
   "cell_type": "code",
   "execution_count": 19,
   "id": "e581bfdb-ba58-4492-8396-2a699f4e5a43",
   "metadata": {},
   "outputs": [
    {
     "name": "stdout",
     "output_type": "stream",
     "text": [
      "20\n",
      "40\n",
      "50\n"
     ]
    }
   ],
   "source": [
    "# index를 지정하더라도 숫자로 구성되어 있으면 []의 숫자는\n",
    "#순서가 아닌 index 값을 의미한다.\n",
    "print(s2[0])\n",
    "print(s2[1])\n",
    "print(s2[2])"
   ]
  },
  {
   "cell_type": "code",
   "execution_count": 20,
   "id": "b6c954da-b4dd-4af1-a979-7c4e73f3d3fb",
   "metadata": {},
   "outputs": [
    {
     "data": {
      "text/plain": [
       "값1    10\n",
       "값2    20\n",
       "값3    30\n",
       "값4    40\n",
       "값5    50\n",
       "dtype: int64"
      ]
     },
     "execution_count": 20,
     "metadata": {},
     "output_type": "execute_result"
    }
   ],
   "source": [
    "# 인덱스가 문자열인 Series\n",
    "a1 = ['값1', '값2', '값3', '값4', '값5']\n",
    "s3 = pd.Series([10, 20, 30, 40, 50], index = a1)\n",
    "s3\n"
   ]
  },
  {
   "cell_type": "code",
   "execution_count": 21,
   "id": "a1004c50-bc7c-4832-a63a-162dc9b9ffb2",
   "metadata": {},
   "outputs": [
    {
     "name": "stdout",
     "output_type": "stream",
     "text": [
      "10\n",
      "20\n",
      "30\n"
     ]
    }
   ],
   "source": [
    "print(s3['값1'])\n",
    "print(s3['값2'])\n",
    "print(s3['값3'])\n"
   ]
  },
  {
   "cell_type": "code",
   "execution_count": 22,
   "id": "eed851ce-61c4-4922-b0af-ee6eb7049bb9",
   "metadata": {},
   "outputs": [
    {
     "name": "stdout",
     "output_type": "stream",
     "text": [
      "10\n",
      "20\n",
      "30\n"
     ]
    }
   ],
   "source": [
    "# index가 숫자가 아닌 Series에 숫자를 통해 접근을 하게 되면 \n",
    "#순서에 해당한다.\n",
    "# 0부터 1씩 증가\n",
    "print(s3[0])\n",
    "print(s3[1])\n",
    "print(s3[2])\n",
    "# index에 숫자를 넣을 경우와 문자를 넣을 경우 차이."
   ]
  },
  {
   "cell_type": "markdown",
   "id": "e1860c2e-2e84-44d6-b4cf-cdb2cbf459ca",
   "metadata": {},
   "source": [
    "## 📚 1.4. Series의 연산\n",
    "- Series는 내부적으로 1차원 ndarray를 관리하기 떄문에 연산 등의 작업은 ndarray와 동일하다.\n",
    "- Pandas는 연산이 성립하지 않는 상황이라면 오류가 발생하는 것이 아니라 NaN이라는 값을 결과로 지정한다\n"
   ]
  },
  {
   "cell_type": "code",
   "execution_count": 23,
   "id": "a0da5037-ed51-4b5c-9625-725f5276352c",
   "metadata": {},
   "outputs": [],
   "source": [
    "s1 = pd.Series([10, 20, 30, 40, 50])\n",
    "s2 = pd.Series([1, 2, 3, 4, 5])"
   ]
  },
  {
   "cell_type": "code",
   "execution_count": 24,
   "id": "24608c39-7536-4143-b394-83b667b86350",
   "metadata": {},
   "outputs": [
    {
     "name": "stdout",
     "output_type": "stream",
     "text": [
      "0    11\n",
      "1    22\n",
      "2    33\n",
      "3    44\n",
      "4    55\n",
      "dtype: int64\n",
      "0     9\n",
      "1    18\n",
      "2    27\n",
      "3    36\n",
      "4    45\n",
      "dtype: int64\n",
      "0     10\n",
      "1     40\n",
      "2     90\n",
      "3    160\n",
      "4    250\n",
      "dtype: int64\n",
      "0    10\n",
      "1    10\n",
      "2    10\n",
      "3    10\n",
      "4    10\n",
      "dtype: int64\n"
     ]
    }
   ],
   "source": [
    "#Series와 Series 연산\n",
    "# 각 Series의 데이터를 1:1 매칭하여 연산을 한다.\n",
    "# 개수가 다르면(성립이 안될 때) NaN를 결과값으로 설정한다.\n",
    "s10 = s1 + s2\n",
    "s11 = s1 - s2\n",
    "s12 = s1 * s2\n",
    "s13 = s1 // s2\n",
    "print(s10)\n",
    "print(s11)\n",
    "print(s12)\n",
    "print(s13)"
   ]
  },
  {
   "cell_type": "code",
   "execution_count": 25,
   "id": "8d97316b-c8ef-41db-9afb-79fe84d20733",
   "metadata": {},
   "outputs": [
    {
     "data": {
      "text/plain": [
       "0    11.0\n",
       "1    22.0\n",
       "2    33.0\n",
       "3     NaN\n",
       "dtype: float64"
      ]
     },
     "execution_count": 25,
     "metadata": {},
     "output_type": "execute_result"
    }
   ],
   "source": [
    "# 개수가 다른 두 Series의 연산\n",
    "# Pandas는 연산이 성립하지 않는 상황이라면 오류가 발생하는 것이 아니라 \n",
    "# NaN이라는 값을 결과로 지정한다.\n",
    "# NaN : Not a Number. 결측치를 의미하는 값이다.\n",
    "# 결측치 : 측정이 되지 않는 값. 값이 비어있는 공간.\n",
    "a100 = pd.Series([1, 2, 3])\n",
    "a200 = pd.Series([10, 20, 30, 40])\n",
    "\n",
    "a100 + a200"
   ]
  },
  {
   "cell_type": "code",
   "execution_count": 26,
   "id": "efd4e432-4f22-471f-aad2-dd1ae64c2757",
   "metadata": {},
   "outputs": [
    {
     "name": "stdout",
     "output_type": "stream",
     "text": [
      "0    20\n",
      "1    30\n",
      "2    40\n",
      "3    50\n",
      "4    60\n",
      "dtype: int64\n",
      "0     0\n",
      "1    10\n",
      "2    20\n",
      "3    30\n",
      "4    40\n",
      "dtype: int64\n",
      "0    100\n",
      "1    200\n",
      "2    300\n",
      "3    400\n",
      "4    500\n",
      "dtype: int64\n",
      "0    1\n",
      "1    2\n",
      "2    3\n",
      "3    4\n",
      "4    5\n",
      "dtype: int64\n"
     ]
    }
   ],
   "source": [
    "# Series와 특정 값의 계산\n",
    "s20 = s1 + 10\n",
    "s21 = s1 - 10\n",
    "s22 = s1 * 10\n",
    "s23 = s1 // 10\n",
    "\n",
    "print(s20)\n",
    "print(s21)\n",
    "print(s22)\n",
    "print(s23)"
   ]
  },
  {
   "cell_type": "code",
   "execution_count": 27,
   "id": "b9a43f03-07f6-4b26-a6c1-d1124d04ec8f",
   "metadata": {},
   "outputs": [
    {
     "data": {
      "text/plain": [
       "0    False\n",
       "1    False\n",
       "2    False\n",
       "3     True\n",
       "4     True\n",
       "dtype: bool"
      ]
     },
     "execution_count": 27,
     "metadata": {},
     "output_type": "execute_result"
    }
   ],
   "source": [
    "r1 = s1>30\n",
    "r1"
   ]
  },
  {
   "cell_type": "markdown",
   "id": "f6cc4c0f-50cb-4569-b65a-7b6900070f0e",
   "metadata": {},
   "source": [
    "---\n",
    "## 📚🤷 1.5. 슬라이싱"
   ]
  },
  {
   "cell_type": "code",
   "execution_count": 28,
   "id": "e03d3d8f-af41-4f8d-9941-f3323c9ac97c",
   "metadata": {},
   "outputs": [
    {
     "data": {
      "text/plain": [
       "a1    10\n",
       "a2    20\n",
       "a3    30\n",
       "a4    40\n",
       "a5    50\n",
       "dtype: int64"
      ]
     },
     "execution_count": 28,
     "metadata": {},
     "output_type": "execute_result"
    }
   ],
   "source": [
    "s1 = pd.Series([10, 20, 30, 40, 50], index=(['a1', 'a2', 'a3', 'a4', 'a5']))\n",
    "s1"
   ]
  },
  {
   "cell_type": "markdown",
   "id": "187baf51-16e6-471b-afe7-0a94edc5dde6",
   "metadata": {},
   "source": [
    "### 🤷 a2 ~ a4까지 s1['a2' : 'a4']"
   ]
  },
  {
   "cell_type": "markdown",
   "id": "0188e0f4-3f33-4c6f-9069-caccdd682838",
   "metadata": {},
   "source": [
    "> 인덱스 슬라이싱도 가능하네?"
   ]
  },
  {
   "cell_type": "code",
   "execution_count": 30,
   "id": "a429be87-c2e9-438e-ba43-fe0c4fd60568",
   "metadata": {},
   "outputs": [
    {
     "data": {
      "text/plain": [
       "a2    20\n",
       "a3    30\n",
       "a4    40\n",
       "dtype: int64"
      ]
     },
     "execution_count": 30,
     "metadata": {},
     "output_type": "execute_result"
    }
   ],
   "source": [
    "# a2 ~ a4까지\n",
    "s2 = s1['a2' : 'a4']\n",
    "s2"
   ]
  },
  {
   "cell_type": "markdown",
   "id": "fbaf1938-4ab2-401b-8db2-f5f2c602dd51",
   "metadata": {},
   "source": [
    "### 🤷 원하는 것만 골라서 s1[['a1', 'a3', 'a5']]"
   ]
  },
  {
   "cell_type": "code",
   "execution_count": 36,
   "id": "edbb54ba-2b53-407f-9cf7-b67c69778a9f",
   "metadata": {},
   "outputs": [
    {
     "data": {
      "text/plain": [
       "a1    10\n",
       "a3    30\n",
       "a5    50\n",
       "dtype: int64"
      ]
     },
     "execution_count": 36,
     "metadata": {},
     "output_type": "execute_result"
    }
   ],
   "source": [
    "# a1, a3, a5만 가져온다.\n",
    "# 원하는 것만 골라서 가져온다.\n",
    "s4 = s1[['a1', 'a3', 'a5']]\n",
    "s4"
   ]
  },
  {
   "cell_type": "markdown",
   "id": "b25b9cae-cd62-4814-8418-38d6e5f7371e",
   "metadata": {},
   "source": [
    "### 🤷 순서 인덱스 s1[[0, 2, 4]]|"
   ]
  },
  {
   "cell_type": "code",
   "execution_count": 37,
   "id": "9d3fac6d-3035-403a-82d9-2ec6865a8ae3",
   "metadata": {},
   "outputs": [
    {
     "data": {
      "text/plain": [
       "a1    10\n",
       "a3    30\n",
       "a5    50\n",
       "dtype: int64"
      ]
     },
     "execution_count": 37,
     "metadata": {},
     "output_type": "execute_result"
    }
   ],
   "source": [
    "# 순서 인덱스\n",
    "# 0, 2, 4\n",
    "s5 = s1[[0, 2, 4]]\n",
    "s5"
   ]
  },
  {
   "cell_type": "code",
   "execution_count": 38,
   "id": "d7b4165e-17fa-46f6-a644-69c7d3ed1c23",
   "metadata": {},
   "outputs": [
    {
     "data": {
      "text/plain": [
       "a1    10\n",
       "a3    30\n",
       "a5    50\n",
       "dtype: int64"
      ]
     },
     "execution_count": 38,
     "metadata": {},
     "output_type": "execute_result"
    }
   ],
   "source": [
    "# True나 False를 넣으면 True자리에 해당하는 것만 추출된다.\n",
    "# 단 데이터의 개수와 일치해야 한다.\n",
    "s6 = s1[[True, False, True, False, True]]\n",
    "s6"
   ]
  },
  {
   "cell_type": "code",
   "execution_count": 39,
   "id": "09f8ab0e-f238-43c8-a8db-85c1d4592534",
   "metadata": {},
   "outputs": [
    {
     "data": {
      "text/plain": [
       "a1    False\n",
       "a2    False\n",
       "a3    False\n",
       "a4    False\n",
       "a5     True\n",
       "dtype: bool"
      ]
     },
     "execution_count": 39,
     "metadata": {},
     "output_type": "execute_result"
    }
   ],
   "source": [
    "#조건에 따라 가져온다.\n",
    "s7 = s1 > 40\n",
    "s7"
   ]
  },
  {
   "cell_type": "code",
   "execution_count": 40,
   "id": "05faf8d6-70d8-478d-ac88-c3e068570121",
   "metadata": {},
   "outputs": [
    {
     "data": {
      "text/plain": [
       "a5    50\n",
       "dtype: int64"
      ]
     },
     "execution_count": 40,
     "metadata": {},
     "output_type": "execute_result"
    }
   ],
   "source": [
    "# []안에 조건을 가져와도 되고\n",
    "\n",
    "s8 = s1[s7]\n",
    "s8"
   ]
  },
  {
   "cell_type": "code",
   "execution_count": 29,
   "id": "f7161f26-888f-43f3-8e1f-1352fbce2cc0",
   "metadata": {},
   "outputs": [
    {
     "data": {
      "text/plain": [
       "a4    40\n",
       "a5    50\n",
       "dtype: int64"
      ]
     },
     "execution_count": 29,
     "metadata": {},
     "output_type": "execute_result"
    }
   ],
   "source": [
    "s9 = s1[s1 > 30]\n",
    "s9\n",
    "# 대괄호 안 연산에서 True/False -> list or ndarray 결과값을 다시\n",
    "#[]안에 넣어서 True/False값 연산."
   ]
  },
  {
   "cell_type": "code",
   "execution_count": null,
   "id": "d7410f93",
   "metadata": {},
   "outputs": [],
   "source": []
  }
 ],
 "metadata": {
  "kernelspec": {
   "display_name": "Python 3",
   "language": "python",
   "name": "python3"
  },
  "language_info": {
   "codemirror_mode": {
    "name": "ipython",
    "version": 3
   },
   "file_extension": ".py",
   "mimetype": "text/x-python",
   "name": "python",
   "nbconvert_exporter": "python",
   "pygments_lexer": "ipython3",
   "version": "3.8.8"
  },
  "toc-autonumbering": false
 },
 "nbformat": 4,
 "nbformat_minor": 5
}
