{
 "cells": [
  {
   "cell_type": "code",
   "execution_count": null,
   "id": "b84bb5bf",
   "metadata": {},
   "outputs": [],
   "source": [
    "- feature: pclass, sex, fare\n",
    "- label: survived\n",
    "\n",
    "    1, fmale, 32\n",
    "1. 1등급, female, 32달러 인경우 생사유무를 예측하시요\n",
    "( voting , bagging, boost, deep learning 을 이용하시요) \n",
    "2. 위의 모델의 train, test, f1 score 를 구하시요\n",
    "3. confusion matrix 를 구하고 heatmap 을 그리시요.\n",
    "4. roc curve 를 그리시요."
   ]
  },
  {
   "cell_type": "code",
   "execution_count": 29,
   "id": "e4caf454",
   "metadata": {},
   "outputs": [],
   "source": [
    "import pandas as pd\n",
    "import numpy as np\n",
    "import seaborn as sns\n",
    "import matplotlib.pyplot as plt\n",
    "\n",
    "import warnings\n",
    "warnings.simplefilter('ignore')\n",
    "from sklearn.ensemble import BaggingClassifier\n",
    "from sklearn.linear_model import LogisticRegression\n",
    "from sklearn.neighbors import KNeighborsClassifier,KNeighborsRegressor\n",
    "from sklearn.tree import DecisionTreeClassifier\n",
    "from sklearn.ensemble import VotingClassifier, BaggingClassifier,RandomForestClassifier, AdaBoostClassifier \n",
    "from sklearn.linear_model import Ridge,Lasso,ElasticNet, LinearRegression\n",
    "from sklearn.neural_network import MLPClassifier\n",
    "from sklearn.pipeline import make_pipeline,Pipeline\n",
    "from sklearn.preprocessing import StandardScaler\n",
    "from sklearn.preprocessing import OneHotEncoder, LabelEncoder\n",
    "from sklearn.model_selection import train_test_split\n",
    "from sklearn.model_selection import GridSearchCV\n",
    "from sklearn.compose import make_column_transformer\n",
    "from sklearn.metrics import confusion_matrix, precision_score, recall_score, f1_score, roc_curve"
   ]
  },
  {
   "cell_type": "code",
   "execution_count": 2,
   "id": "a396fca0",
   "metadata": {},
   "outputs": [
    {
     "data": {
      "text/html": [
       "<div>\n",
       "<style scoped>\n",
       "    .dataframe tbody tr th:only-of-type {\n",
       "        vertical-align: middle;\n",
       "    }\n",
       "\n",
       "    .dataframe tbody tr th {\n",
       "        vertical-align: top;\n",
       "    }\n",
       "\n",
       "    .dataframe thead th {\n",
       "        text-align: right;\n",
       "    }\n",
       "</style>\n",
       "<table border=\"1\" class=\"dataframe\">\n",
       "  <thead>\n",
       "    <tr style=\"text-align: right;\">\n",
       "      <th></th>\n",
       "      <th>survived</th>\n",
       "      <th>pclass</th>\n",
       "      <th>sex</th>\n",
       "      <th>age</th>\n",
       "      <th>sibsp</th>\n",
       "      <th>parch</th>\n",
       "      <th>fare</th>\n",
       "      <th>embarked</th>\n",
       "      <th>class</th>\n",
       "      <th>who</th>\n",
       "      <th>adult_male</th>\n",
       "      <th>deck</th>\n",
       "      <th>embark_town</th>\n",
       "      <th>alive</th>\n",
       "      <th>alone</th>\n",
       "    </tr>\n",
       "  </thead>\n",
       "  <tbody>\n",
       "    <tr>\n",
       "      <th>0</th>\n",
       "      <td>0</td>\n",
       "      <td>3</td>\n",
       "      <td>male</td>\n",
       "      <td>22.0</td>\n",
       "      <td>1</td>\n",
       "      <td>0</td>\n",
       "      <td>7.2500</td>\n",
       "      <td>S</td>\n",
       "      <td>Third</td>\n",
       "      <td>man</td>\n",
       "      <td>True</td>\n",
       "      <td>NaN</td>\n",
       "      <td>Southampton</td>\n",
       "      <td>no</td>\n",
       "      <td>False</td>\n",
       "    </tr>\n",
       "    <tr>\n",
       "      <th>1</th>\n",
       "      <td>1</td>\n",
       "      <td>1</td>\n",
       "      <td>female</td>\n",
       "      <td>38.0</td>\n",
       "      <td>1</td>\n",
       "      <td>0</td>\n",
       "      <td>71.2833</td>\n",
       "      <td>C</td>\n",
       "      <td>First</td>\n",
       "      <td>woman</td>\n",
       "      <td>False</td>\n",
       "      <td>C</td>\n",
       "      <td>Cherbourg</td>\n",
       "      <td>yes</td>\n",
       "      <td>False</td>\n",
       "    </tr>\n",
       "    <tr>\n",
       "      <th>2</th>\n",
       "      <td>1</td>\n",
       "      <td>3</td>\n",
       "      <td>female</td>\n",
       "      <td>26.0</td>\n",
       "      <td>0</td>\n",
       "      <td>0</td>\n",
       "      <td>7.9250</td>\n",
       "      <td>S</td>\n",
       "      <td>Third</td>\n",
       "      <td>woman</td>\n",
       "      <td>False</td>\n",
       "      <td>NaN</td>\n",
       "      <td>Southampton</td>\n",
       "      <td>yes</td>\n",
       "      <td>True</td>\n",
       "    </tr>\n",
       "    <tr>\n",
       "      <th>3</th>\n",
       "      <td>1</td>\n",
       "      <td>1</td>\n",
       "      <td>female</td>\n",
       "      <td>35.0</td>\n",
       "      <td>1</td>\n",
       "      <td>0</td>\n",
       "      <td>53.1000</td>\n",
       "      <td>S</td>\n",
       "      <td>First</td>\n",
       "      <td>woman</td>\n",
       "      <td>False</td>\n",
       "      <td>C</td>\n",
       "      <td>Southampton</td>\n",
       "      <td>yes</td>\n",
       "      <td>False</td>\n",
       "    </tr>\n",
       "    <tr>\n",
       "      <th>4</th>\n",
       "      <td>0</td>\n",
       "      <td>3</td>\n",
       "      <td>male</td>\n",
       "      <td>35.0</td>\n",
       "      <td>0</td>\n",
       "      <td>0</td>\n",
       "      <td>8.0500</td>\n",
       "      <td>S</td>\n",
       "      <td>Third</td>\n",
       "      <td>man</td>\n",
       "      <td>True</td>\n",
       "      <td>NaN</td>\n",
       "      <td>Southampton</td>\n",
       "      <td>no</td>\n",
       "      <td>True</td>\n",
       "    </tr>\n",
       "    <tr>\n",
       "      <th>...</th>\n",
       "      <td>...</td>\n",
       "      <td>...</td>\n",
       "      <td>...</td>\n",
       "      <td>...</td>\n",
       "      <td>...</td>\n",
       "      <td>...</td>\n",
       "      <td>...</td>\n",
       "      <td>...</td>\n",
       "      <td>...</td>\n",
       "      <td>...</td>\n",
       "      <td>...</td>\n",
       "      <td>...</td>\n",
       "      <td>...</td>\n",
       "      <td>...</td>\n",
       "      <td>...</td>\n",
       "    </tr>\n",
       "    <tr>\n",
       "      <th>886</th>\n",
       "      <td>0</td>\n",
       "      <td>2</td>\n",
       "      <td>male</td>\n",
       "      <td>27.0</td>\n",
       "      <td>0</td>\n",
       "      <td>0</td>\n",
       "      <td>13.0000</td>\n",
       "      <td>S</td>\n",
       "      <td>Second</td>\n",
       "      <td>man</td>\n",
       "      <td>True</td>\n",
       "      <td>NaN</td>\n",
       "      <td>Southampton</td>\n",
       "      <td>no</td>\n",
       "      <td>True</td>\n",
       "    </tr>\n",
       "    <tr>\n",
       "      <th>887</th>\n",
       "      <td>1</td>\n",
       "      <td>1</td>\n",
       "      <td>female</td>\n",
       "      <td>19.0</td>\n",
       "      <td>0</td>\n",
       "      <td>0</td>\n",
       "      <td>30.0000</td>\n",
       "      <td>S</td>\n",
       "      <td>First</td>\n",
       "      <td>woman</td>\n",
       "      <td>False</td>\n",
       "      <td>B</td>\n",
       "      <td>Southampton</td>\n",
       "      <td>yes</td>\n",
       "      <td>True</td>\n",
       "    </tr>\n",
       "    <tr>\n",
       "      <th>888</th>\n",
       "      <td>0</td>\n",
       "      <td>3</td>\n",
       "      <td>female</td>\n",
       "      <td>NaN</td>\n",
       "      <td>1</td>\n",
       "      <td>2</td>\n",
       "      <td>23.4500</td>\n",
       "      <td>S</td>\n",
       "      <td>Third</td>\n",
       "      <td>woman</td>\n",
       "      <td>False</td>\n",
       "      <td>NaN</td>\n",
       "      <td>Southampton</td>\n",
       "      <td>no</td>\n",
       "      <td>False</td>\n",
       "    </tr>\n",
       "    <tr>\n",
       "      <th>889</th>\n",
       "      <td>1</td>\n",
       "      <td>1</td>\n",
       "      <td>male</td>\n",
       "      <td>26.0</td>\n",
       "      <td>0</td>\n",
       "      <td>0</td>\n",
       "      <td>30.0000</td>\n",
       "      <td>C</td>\n",
       "      <td>First</td>\n",
       "      <td>man</td>\n",
       "      <td>True</td>\n",
       "      <td>C</td>\n",
       "      <td>Cherbourg</td>\n",
       "      <td>yes</td>\n",
       "      <td>True</td>\n",
       "    </tr>\n",
       "    <tr>\n",
       "      <th>890</th>\n",
       "      <td>0</td>\n",
       "      <td>3</td>\n",
       "      <td>male</td>\n",
       "      <td>32.0</td>\n",
       "      <td>0</td>\n",
       "      <td>0</td>\n",
       "      <td>7.7500</td>\n",
       "      <td>Q</td>\n",
       "      <td>Third</td>\n",
       "      <td>man</td>\n",
       "      <td>True</td>\n",
       "      <td>NaN</td>\n",
       "      <td>Queenstown</td>\n",
       "      <td>no</td>\n",
       "      <td>True</td>\n",
       "    </tr>\n",
       "  </tbody>\n",
       "</table>\n",
       "<p>891 rows × 15 columns</p>\n",
       "</div>"
      ],
      "text/plain": [
       "     survived  pclass     sex   age  sibsp  parch     fare embarked   class  \\\n",
       "0           0       3    male  22.0      1      0   7.2500        S   Third   \n",
       "1           1       1  female  38.0      1      0  71.2833        C   First   \n",
       "2           1       3  female  26.0      0      0   7.9250        S   Third   \n",
       "3           1       1  female  35.0      1      0  53.1000        S   First   \n",
       "4           0       3    male  35.0      0      0   8.0500        S   Third   \n",
       "..        ...     ...     ...   ...    ...    ...      ...      ...     ...   \n",
       "886         0       2    male  27.0      0      0  13.0000        S  Second   \n",
       "887         1       1  female  19.0      0      0  30.0000        S   First   \n",
       "888         0       3  female   NaN      1      2  23.4500        S   Third   \n",
       "889         1       1    male  26.0      0      0  30.0000        C   First   \n",
       "890         0       3    male  32.0      0      0   7.7500        Q   Third   \n",
       "\n",
       "       who  adult_male deck  embark_town alive  alone  \n",
       "0      man        True  NaN  Southampton    no  False  \n",
       "1    woman       False    C    Cherbourg   yes  False  \n",
       "2    woman       False  NaN  Southampton   yes   True  \n",
       "3    woman       False    C  Southampton   yes  False  \n",
       "4      man        True  NaN  Southampton    no   True  \n",
       "..     ...         ...  ...          ...   ...    ...  \n",
       "886    man        True  NaN  Southampton    no   True  \n",
       "887  woman       False    B  Southampton   yes   True  \n",
       "888  woman       False  NaN  Southampton    no  False  \n",
       "889    man        True    C    Cherbourg   yes   True  \n",
       "890    man        True  NaN   Queenstown    no   True  \n",
       "\n",
       "[891 rows x 15 columns]"
      ]
     },
     "execution_count": 2,
     "metadata": {},
     "output_type": "execute_result"
    }
   ],
   "source": [
    "titanic = sns.load_dataset('titanic')\n",
    "titanic"
   ]
  },
  {
   "cell_type": "code",
   "execution_count": 3,
   "id": "ad0f6baa",
   "metadata": {},
   "outputs": [],
   "source": [
    "x_data = titanic[['pclass', 'sex', 'fare']]\n",
    "y_data = titanic['survived']"
   ]
  },
  {
   "cell_type": "code",
   "execution_count": 4,
   "id": "da562ede",
   "metadata": {},
   "outputs": [],
   "source": [
    "# train, test 분류\n",
    "x_train, x_test, y_train, y_test = train_test_split(x_data, y_data, test_size=0.2,\n",
    "                                                    stratify=y_data, random_state=1 )"
   ]
  },
  {
   "cell_type": "markdown",
   "id": "8ecc2eb4",
   "metadata": {},
   "source": [
    "1. 1등급, female, 32달러 인경우 생사유무를 예측하시요\n",
    "(voting , bagging, boost, deep learning 을 이용하시요) "
   ]
  },
  {
   "cell_type": "markdown",
   "id": "f38fe089",
   "metadata": {},
   "source": [
    "# Soft Voting"
   ]
  },
  {
   "cell_type": "code",
   "execution_count": 5,
   "id": "d2d842a6",
   "metadata": {},
   "outputs": [],
   "source": [
    "ct=make_column_transformer((OneHotEncoder(),['sex']),remainder='passthrough')\n",
    "ss=StandardScaler(['pclass','fare'])\n",
    "\n",
    "model_logi=make_pipeline(ct,ss,LogisticRegression())\n",
    "model_knn=make_pipeline(ct,ss,KNeighborsClassifier())\n",
    "moodel_tree=make_pipeline(ct,ss,DecisionTreeClassifier())"
   ]
  },
  {
   "cell_type": "code",
   "execution_count": 7,
   "id": "6d8796bf",
   "metadata": {
    "collapsed": true
   },
   "outputs": [
    {
     "data": {
      "text/plain": [
       "VotingClassifier(estimators=[('logi',\n",
       "                              Pipeline(steps=[('columntransformer',\n",
       "                                               ColumnTransformer(remainder='passthrough',\n",
       "                                                                 transformers=[('onehotencoder',\n",
       "                                                                                OneHotEncoder(),\n",
       "                                                                                ['sex'])])),\n",
       "                                              ('standardscaler',\n",
       "                                               StandardScaler(copy=['pclass',\n",
       "                                                                    'fare'])),\n",
       "                                              ('logisticregression',\n",
       "                                               LogisticRegression())])),\n",
       "                             ('knn',\n",
       "                              Pipeline(steps=[('columntransformer',\n",
       "                                               ColumnTransformer(remainde...\n",
       "                                               StandardScaler(copy=['pclass',\n",
       "                                                                    'fare'])),\n",
       "                                              ('kneighborsclassifier',\n",
       "                                               KNeighborsClassifier())])),\n",
       "                             ('tree',\n",
       "                              Pipeline(steps=[('columntransformer',\n",
       "                                               ColumnTransformer(remainder='passthrough',\n",
       "                                                                 transformers=[('onehotencoder',\n",
       "                                                                                OneHotEncoder(),\n",
       "                                                                                ['sex'])])),\n",
       "                                              ('standardscaler',\n",
       "                                               StandardScaler(copy=['pclass',\n",
       "                                                                    'fare'])),\n",
       "                                              ('decisiontreeclassifier',\n",
       "                                               DecisionTreeClassifier())]))],\n",
       "                 voting='soft')"
      ]
     },
     "execution_count": 7,
     "metadata": {},
     "output_type": "execute_result"
    }
   ],
   "source": [
    "model_vote=VotingClassifier(estimators=[('logi',model_logi),('knn', model_knn),('tree',moodel_tree)], voting='soft')\n",
    "model_vote.fit(x_train, y_train)"
   ]
  },
  {
   "cell_type": "markdown",
   "id": "4cfcb03a",
   "metadata": {},
   "source": [
    "1) 1등급, female, 32달러 인 경우 "
   ]
  },
  {
   "cell_type": "code",
   "execution_count": 8,
   "id": "aa9175b6",
   "metadata": {},
   "outputs": [
    {
     "name": "stdout",
     "output_type": "stream",
     "text": [
      "예측: [1]\n"
     ]
    }
   ],
   "source": [
    "xt=pd.DataFrame([[1,'female', 32]], columns=['pclass','sex','fare'])\n",
    "print('예측:', model_vote.predict(xt))"
   ]
  },
  {
   "cell_type": "markdown",
   "id": "2bb48132",
   "metadata": {},
   "source": [
    "2) f1 score"
   ]
  },
  {
   "cell_type": "code",
   "execution_count": 44,
   "id": "110b6c66",
   "metadata": {},
   "outputs": [
    {
     "name": "stdout",
     "output_type": "stream",
     "text": [
      "f1_score  0.7727272727272727\n"
     ]
    }
   ],
   "source": [
    "print('f1_score ', f1_score(y_test, model_vote.predict(x_test)))"
   ]
  },
  {
   "cell_type": "markdown",
   "id": "b4048996",
   "metadata": {},
   "source": [
    "3) confusion matrix"
   ]
  },
  {
   "cell_type": "code",
   "execution_count": 45,
   "id": "a2d2e7e3",
   "metadata": {},
   "outputs": [
    {
     "data": {
      "image/png": "[encoded data removed]",
      "text/plain": [
       "<Figure size 432x288 with 2 Axes>"
      ]
     },
     "metadata": {
      "needs_background": "light"
     },
     "output_type": "display_data"
    }
   ],
   "source": [
    "y_test_pred = model_vote.predict(x_test)\n",
    "cm_train = confusion_matrix(y_test, y_test_pred)\n",
    "\n",
    "sns.heatmap( cm_train, annot=True, cmap='Blues')\n",
    "plt.show()"
   ]
  },
  {
   "cell_type": "markdown",
   "id": "08076189",
   "metadata": {},
   "source": [
    "4) ROC Curve"
   ]
  },
  {
   "cell_type": "code",
   "execution_count": 46,
   "id": "c255d88c",
   "metadata": {
    "scrolled": false
   },
   "outputs": [],
   "source": [
    "yp = model_vote.predict_proba(x_test)"
   ]
  },
  {
   "cell_type": "code",
   "execution_count": 23,
   "id": "d5d820ab",
   "metadata": {
    "scrolled": true
   },
   "outputs": [
    {
     "data": {
      "text/html": [
       "<div>\n",
       "<style scoped>\n",
       "    .dataframe tbody tr th:only-of-type {\n",
       "        vertical-align: middle;\n",
       "    }\n",
       "\n",
       "    .dataframe tbody tr th {\n",
       "        vertical-align: top;\n",
       "    }\n",
       "\n",
       "    .dataframe thead th {\n",
       "        text-align: right;\n",
       "    }\n",
       "</style>\n",
       "<table border=\"1\" class=\"dataframe\">\n",
       "  <thead>\n",
       "    <tr style=\"text-align: right;\">\n",
       "      <th></th>\n",
       "      <th>survived</th>\n",
       "      <th>proba</th>\n",
       "    </tr>\n",
       "  </thead>\n",
       "  <tbody>\n",
       "    <tr>\n",
       "      <th>271</th>\n",
       "      <td>1</td>\n",
       "      <td>0.031599</td>\n",
       "    </tr>\n",
       "    <tr>\n",
       "      <th>371</th>\n",
       "      <td>0</td>\n",
       "      <td>0.031779</td>\n",
       "    </tr>\n",
       "    <tr>\n",
       "      <th>411</th>\n",
       "      <td>0</td>\n",
       "      <td>0.031789</td>\n",
       "    </tr>\n",
       "    <tr>\n",
       "      <th>804</th>\n",
       "      <td>1</td>\n",
       "      <td>0.031792</td>\n",
       "    </tr>\n",
       "    <tr>\n",
       "      <th>131</th>\n",
       "      <td>0</td>\n",
       "      <td>0.031794</td>\n",
       "    </tr>\n",
       "    <tr>\n",
       "      <th>...</th>\n",
       "      <td>...</td>\n",
       "      <td>...</td>\n",
       "    </tr>\n",
       "    <tr>\n",
       "      <th>700</th>\n",
       "      <td>1</td>\n",
       "      <td>0.974953</td>\n",
       "    </tr>\n",
       "    <tr>\n",
       "      <th>716</th>\n",
       "      <td>1</td>\n",
       "      <td>0.974953</td>\n",
       "    </tr>\n",
       "    <tr>\n",
       "      <th>380</th>\n",
       "      <td>1</td>\n",
       "      <td>0.974953</td>\n",
       "    </tr>\n",
       "    <tr>\n",
       "      <th>311</th>\n",
       "      <td>1</td>\n",
       "      <td>0.975722</td>\n",
       "    </tr>\n",
       "    <tr>\n",
       "      <th>258</th>\n",
       "      <td>1</td>\n",
       "      <td>0.980629</td>\n",
       "    </tr>\n",
       "  </tbody>\n",
       "</table>\n",
       "<p>179 rows × 2 columns</p>\n",
       "</div>"
      ],
      "text/plain": [
       "     survived     proba\n",
       "271         1  0.031599\n",
       "371         0  0.031779\n",
       "411         0  0.031789\n",
       "804         1  0.031792\n",
       "131         0  0.031794\n",
       "..        ...       ...\n",
       "700         1  0.974953\n",
       "716         1  0.974953\n",
       "380         1  0.974953\n",
       "311         1  0.975722\n",
       "258         1  0.980629\n",
       "\n",
       "[179 rows x 2 columns]"
      ]
     },
     "execution_count": 23,
     "metadata": {},
     "output_type": "execute_result"
    }
   ],
   "source": [
    "ydf=y_test.copy()\n",
    "ydf = pd.DataFrame(data=y_test.copy())\n",
    "ydf['proba'] = yp[:, -1] # 칼럼 추가\n",
    "ydf.sort_values(by='proba')"
   ]
  },
  {
   "cell_type": "code",
   "execution_count": 24,
   "id": "2df891fa",
   "metadata": {},
   "outputs": [
    {
     "data": {
      "image/png": "[encoded data removed]",
      "text/plain": [
       "<Figure size 432x288 with 1 Axes>"
      ]
     },
     "metadata": {
      "needs_background": "light"
     },
     "output_type": "display_data"
    }
   ],
   "source": [
    "fpr, tpr, thresholds = roc_curve(y_test, ydf['proba'].values) # 실제값(y_true), 확률값(y_score)\n",
    "\n",
    "plt.plot(fpr, tpr, 'r--')\n",
    "plt.plot([0,1],[0,1], 'k--')\n",
    "plt.xlabel('FPR')\n",
    "plt.ylabel('TPR')\n",
    "plt.show()"
   ]
  },
  {
   "cell_type": "markdown",
   "id": "777ccda5",
   "metadata": {},
   "source": [
    "# bagging"
   ]
  },
  {
   "cell_type": "code",
   "execution_count": 65,
   "id": "94d047b4",
   "metadata": {},
   "outputs": [
    {
     "data": {
      "text/plain": [
       "Pipeline(steps=[('columntransformer',\n",
       "                 ColumnTransformer(remainder='passthrough',\n",
       "                                   transformers=[('onehotencoder',\n",
       "                                                  OneHotEncoder(), ['sex'])])),\n",
       "                ('standardscaler', StandardScaler(copy=['pclass', 'fare'])),\n",
       "                ('baggingclassifier',\n",
       "                 BaggingClassifier(base_estimator=KNeighborsClassifier(),\n",
       "                                   max_samples=0.5))])"
      ]
     },
     "execution_count": 65,
     "metadata": {},
     "output_type": "execute_result"
    }
   ],
   "source": [
    "model_knn=KNeighborsClassifier()\n",
    "\n",
    "model_bag=make_pipeline(ct,ss ,BaggingClassifier(model_knn, n_estimators=10, max_samples=0.5)) #knn 모델 10번 만들어지는거임\n",
    "model_bag.fit(x_train, y_train) "
   ]
  },
  {
   "cell_type": "markdown",
   "id": "b9b12b66",
   "metadata": {},
   "source": [
    "1) 1등급, female, 32달러 인 경우 "
   ]
  },
  {
   "cell_type": "code",
   "execution_count": 66,
   "id": "fc4afd5b",
   "metadata": {
    "scrolled": true
   },
   "outputs": [
    {
     "name": "stdout",
     "output_type": "stream",
     "text": [
      "예측: [1]\n"
     ]
    }
   ],
   "source": [
    "print('예측:', model_bag.predict(xt))"
   ]
  },
  {
   "cell_type": "markdown",
   "id": "08db9456",
   "metadata": {},
   "source": [
    "2) f1 score"
   ]
  },
  {
   "cell_type": "code",
   "execution_count": 67,
   "id": "01f89b93",
   "metadata": {},
   "outputs": [
    {
     "name": "stdout",
     "output_type": "stream",
     "text": [
      "f1_score  0.7462686567164178\n"
     ]
    }
   ],
   "source": [
    "print('f1_score ', f1_score(y_test, model_bag.predict(x_test)))"
   ]
  },
  {
   "cell_type": "markdown",
   "id": "fc79f9c2",
   "metadata": {},
   "source": [
    "3) confusion matrix"
   ]
  },
  {
   "cell_type": "code",
   "execution_count": 68,
   "id": "085d57e5",
   "metadata": {},
   "outputs": [
    {
     "data": {
      "image/png": "[encoded data removed]",
      "text/plain": [
       "<Figure size 432x288 with 2 Axes>"
      ]
     },
     "metadata": {
      "needs_background": "light"
     },
     "output_type": "display_data"
    }
   ],
   "source": [
    "y_test_pred = model_bag.predict(x_test)\n",
    "cm_train = confusion_matrix(y_test, y_test_pred)\n",
    "\n",
    "sns.heatmap( cm_train, annot=True, cmap='Blues')\n",
    "plt.show()"
   ]
  },
  {
   "cell_type": "markdown",
   "id": "39520cbd",
   "metadata": {},
   "source": [
    "4) ROC Curve"
   ]
  },
  {
   "cell_type": "code",
   "execution_count": 69,
   "id": "b83dcec8",
   "metadata": {},
   "outputs": [
    {
     "data": {
      "text/html": [
       "<div>\n",
       "<style scoped>\n",
       "    .dataframe tbody tr th:only-of-type {\n",
       "        vertical-align: middle;\n",
       "    }\n",
       "\n",
       "    .dataframe tbody tr th {\n",
       "        vertical-align: top;\n",
       "    }\n",
       "\n",
       "    .dataframe thead th {\n",
       "        text-align: right;\n",
       "    }\n",
       "</style>\n",
       "<table border=\"1\" class=\"dataframe\">\n",
       "  <thead>\n",
       "    <tr style=\"text-align: right;\">\n",
       "      <th></th>\n",
       "      <th>survived</th>\n",
       "      <th>proba</th>\n",
       "    </tr>\n",
       "  </thead>\n",
       "  <tbody>\n",
       "    <tr>\n",
       "      <th>640</th>\n",
       "      <td>0</td>\n",
       "      <td>0.0</td>\n",
       "    </tr>\n",
       "    <tr>\n",
       "      <th>833</th>\n",
       "      <td>0</td>\n",
       "      <td>0.0</td>\n",
       "    </tr>\n",
       "    <tr>\n",
       "      <th>371</th>\n",
       "      <td>0</td>\n",
       "      <td>0.0</td>\n",
       "    </tr>\n",
       "    <tr>\n",
       "      <th>271</th>\n",
       "      <td>1</td>\n",
       "      <td>0.0</td>\n",
       "    </tr>\n",
       "    <tr>\n",
       "      <th>704</th>\n",
       "      <td>0</td>\n",
       "      <td>0.0</td>\n",
       "    </tr>\n",
       "    <tr>\n",
       "      <th>...</th>\n",
       "      <td>...</td>\n",
       "      <td>...</td>\n",
       "    </tr>\n",
       "    <tr>\n",
       "      <th>513</th>\n",
       "      <td>1</td>\n",
       "      <td>1.0</td>\n",
       "    </tr>\n",
       "    <tr>\n",
       "      <th>820</th>\n",
       "      <td>1</td>\n",
       "      <td>1.0</td>\n",
       "    </tr>\n",
       "    <tr>\n",
       "      <th>257</th>\n",
       "      <td>1</td>\n",
       "      <td>1.0</td>\n",
       "    </tr>\n",
       "    <tr>\n",
       "      <th>52</th>\n",
       "      <td>1</td>\n",
       "      <td>1.0</td>\n",
       "    </tr>\n",
       "    <tr>\n",
       "      <th>581</th>\n",
       "      <td>1</td>\n",
       "      <td>1.0</td>\n",
       "    </tr>\n",
       "  </tbody>\n",
       "</table>\n",
       "<p>179 rows × 2 columns</p>\n",
       "</div>"
      ],
      "text/plain": [
       "     survived  proba\n",
       "640         0    0.0\n",
       "833         0    0.0\n",
       "371         0    0.0\n",
       "271         1    0.0\n",
       "704         0    0.0\n",
       "..        ...    ...\n",
       "513         1    1.0\n",
       "820         1    1.0\n",
       "257         1    1.0\n",
       "52          1    1.0\n",
       "581         1    1.0\n",
       "\n",
       "[179 rows x 2 columns]"
      ]
     },
     "execution_count": 69,
     "metadata": {},
     "output_type": "execute_result"
    }
   ],
   "source": [
    "yp = model_bag.predict_proba(x_test)\n",
    "\n",
    "ydf=y_test.copy()\n",
    "ydf = pd.DataFrame(data=y_test.copy())\n",
    "ydf['proba'] = yp[:, -1] # 칼럼 추가\n",
    "ydf.sort_values(by='proba')"
   ]
  },
  {
   "cell_type": "code",
   "execution_count": 70,
   "id": "d2ee10f9",
   "metadata": {},
   "outputs": [
    {
     "data": {
      "image/png": "[encoded data removed]",
      "text/plain": [
       "<Figure size 432x288 with 1 Axes>"
      ]
     },
     "metadata": {
      "needs_background": "light"
     },
     "output_type": "display_data"
    }
   ],
   "source": [
    "fpr, tpr, thresholds = roc_curve(y_test, ydf['proba'].values) # 실제값(y_true), 확률값(y_score)\n",
    "\n",
    "plt.plot(fpr, tpr, 'r--')\n",
    "plt.plot([0,1],[0,1], 'k--')\n",
    "plt.xlabel('FPR')\n",
    "plt.ylabel('TPR')\n",
    "plt.show()"
   ]
  },
  {
   "cell_type": "markdown",
   "id": "09e67f6f",
   "metadata": {},
   "source": [
    "# Boost"
   ]
  },
  {
   "cell_type": "code",
   "execution_count": 71,
   "id": "4cd6a471",
   "metadata": {},
   "outputs": [
    {
     "data": {
      "text/plain": [
       "Pipeline(steps=[('columntransformer',\n",
       "                 ColumnTransformer(remainder='passthrough',\n",
       "                                   transformers=[('onehotencoder',\n",
       "                                                  OneHotEncoder(), ['sex'])])),\n",
       "                ('standardscaler', StandardScaler(copy=['pclass', 'fare'])),\n",
       "                ('adaboostclassifier', AdaBoostClassifier())])"
      ]
     },
     "execution_count": 71,
     "metadata": {},
     "output_type": "execute_result"
    }
   ],
   "source": [
    "model_ada = make_pipeline(ct,ss ,AdaBoostClassifier()) # tree +  boost\n",
    "model_ada.fit(x_train, y_train)"
   ]
  },
  {
   "cell_type": "markdown",
   "id": "c7fbcf25",
   "metadata": {},
   "source": [
    "1) 1등급, female, 32달러 인 경우 "
   ]
  },
  {
   "cell_type": "code",
   "execution_count": 72,
   "id": "e012e1eb",
   "metadata": {},
   "outputs": [
    {
     "name": "stdout",
     "output_type": "stream",
     "text": [
      "예측: [1]\n"
     ]
    }
   ],
   "source": [
    "print('예측:', model_ada.predict(xt))"
   ]
  },
  {
   "cell_type": "markdown",
   "id": "8729eb12",
   "metadata": {},
   "source": [
    "2) f1 score"
   ]
  },
  {
   "cell_type": "code",
   "execution_count": 73,
   "id": "dbd9932b",
   "metadata": {},
   "outputs": [
    {
     "name": "stdout",
     "output_type": "stream",
     "text": [
      "f1_score  0.7669172932330827\n"
     ]
    }
   ],
   "source": [
    "print('f1_score ', f1_score(y_test, model_ada.predict(x_test)))"
   ]
  },
  {
   "cell_type": "markdown",
   "id": "ecb7acfb",
   "metadata": {},
   "source": [
    "3) confusion matrix"
   ]
  },
  {
   "cell_type": "code",
   "execution_count": 74,
   "id": "dae533ec",
   "metadata": {},
   "outputs": [
    {
     "data": {
      "image/png": "[encoded data removed]",
      "text/plain": [
       "<Figure size 432x288 with 2 Axes>"
      ]
     },
     "metadata": {
      "needs_background": "light"
     },
     "output_type": "display_data"
    }
   ],
   "source": [
    "y_test_pred = model_ada.predict(x_test)\n",
    "cm_train = confusion_matrix(y_test, y_test_pred)\n",
    "\n",
    "sns.heatmap( cm_train, annot=True, cmap='Blues')\n",
    "plt.show()"
   ]
  },
  {
   "cell_type": "markdown",
   "id": "d3a7a674",
   "metadata": {},
   "source": [
    "4) ROC Curve"
   ]
  },
  {
   "cell_type": "code",
   "execution_count": 75,
   "id": "568145f1",
   "metadata": {},
   "outputs": [
    {
     "data": {
      "text/html": [
       "<div>\n",
       "<style scoped>\n",
       "    .dataframe tbody tr th:only-of-type {\n",
       "        vertical-align: middle;\n",
       "    }\n",
       "\n",
       "    .dataframe tbody tr th {\n",
       "        vertical-align: top;\n",
       "    }\n",
       "\n",
       "    .dataframe thead th {\n",
       "        text-align: right;\n",
       "    }\n",
       "</style>\n",
       "<table border=\"1\" class=\"dataframe\">\n",
       "  <thead>\n",
       "    <tr style=\"text-align: right;\">\n",
       "      <th></th>\n",
       "      <th>survived</th>\n",
       "      <th>proba</th>\n",
       "    </tr>\n",
       "  </thead>\n",
       "  <tbody>\n",
       "    <tr>\n",
       "      <th>804</th>\n",
       "      <td>1</td>\n",
       "      <td>0.391063</td>\n",
       "    </tr>\n",
       "    <tr>\n",
       "      <th>465</th>\n",
       "      <td>0</td>\n",
       "      <td>0.391063</td>\n",
       "    </tr>\n",
       "    <tr>\n",
       "      <th>590</th>\n",
       "      <td>0</td>\n",
       "      <td>0.391063</td>\n",
       "    </tr>\n",
       "    <tr>\n",
       "      <th>371</th>\n",
       "      <td>0</td>\n",
       "      <td>0.391063</td>\n",
       "    </tr>\n",
       "    <tr>\n",
       "      <th>433</th>\n",
       "      <td>0</td>\n",
       "      <td>0.391063</td>\n",
       "    </tr>\n",
       "    <tr>\n",
       "      <th>...</th>\n",
       "      <td>...</td>\n",
       "      <td>...</td>\n",
       "    </tr>\n",
       "    <tr>\n",
       "      <th>849</th>\n",
       "      <td>1</td>\n",
       "      <td>0.515284</td>\n",
       "    </tr>\n",
       "    <tr>\n",
       "      <th>581</th>\n",
       "      <td>1</td>\n",
       "      <td>0.515284</td>\n",
       "    </tr>\n",
       "    <tr>\n",
       "      <th>820</th>\n",
       "      <td>1</td>\n",
       "      <td>0.515284</td>\n",
       "    </tr>\n",
       "    <tr>\n",
       "      <th>513</th>\n",
       "      <td>1</td>\n",
       "      <td>0.520534</td>\n",
       "    </tr>\n",
       "    <tr>\n",
       "      <th>258</th>\n",
       "      <td>1</td>\n",
       "      <td>0.679241</td>\n",
       "    </tr>\n",
       "  </tbody>\n",
       "</table>\n",
       "<p>179 rows × 2 columns</p>\n",
       "</div>"
      ],
      "text/plain": [
       "     survived     proba\n",
       "804         1  0.391063\n",
       "465         0  0.391063\n",
       "590         0  0.391063\n",
       "371         0  0.391063\n",
       "433         0  0.391063\n",
       "..        ...       ...\n",
       "849         1  0.515284\n",
       "581         1  0.515284\n",
       "820         1  0.515284\n",
       "513         1  0.520534\n",
       "258         1  0.679241\n",
       "\n",
       "[179 rows x 2 columns]"
      ]
     },
     "execution_count": 75,
     "metadata": {},
     "output_type": "execute_result"
    }
   ],
   "source": [
    "yp = model_ada.predict_proba(x_test)\n",
    "\n",
    "ydf=y_test.copy()\n",
    "ydf = pd.DataFrame(data=y_test.copy())\n",
    "ydf['proba'] = yp[:, -1] # 칼럼 추가\n",
    "ydf.sort_values(by='proba')"
   ]
  },
  {
   "cell_type": "code",
   "execution_count": 76,
   "id": "26f3c9f5",
   "metadata": {},
   "outputs": [
    {
     "data": {
      "image/png": "[encoded data removed]",
      "text/plain": [
       "<Figure size 432x288 with 1 Axes>"
      ]
     },
     "metadata": {
      "needs_background": "light"
     },
     "output_type": "display_data"
    }
   ],
   "source": [
    "fpr, tpr, thresholds = roc_curve(y_test, ydf['proba'].values) # 실제값(y_true), 확률값(y_score)\n",
    "\n",
    "plt.plot(fpr, tpr, 'r--')\n",
    "plt.plot([0,1],[0,1], 'k--')\n",
    "plt.xlabel('FPR')\n",
    "plt.ylabel('TPR')\n",
    "plt.show()"
   ]
  },
  {
   "cell_type": "markdown",
   "id": "3070522a",
   "metadata": {},
   "source": [
    "# Deep Learning"
   ]
  },
  {
   "cell_type": "code",
   "execution_count": 77,
   "id": "bf720b5e",
   "metadata": {},
   "outputs": [
    {
     "name": "stdout",
     "output_type": "stream",
     "text": [
      "Iteration 1, loss = 0.69067912\n",
      "Iteration 2, loss = 0.65339398\n",
      "Iteration 3, loss = 0.62254990\n",
      "Iteration 4, loss = 0.59653222\n",
      "Iteration 5, loss = 0.57533268\n",
      "Iteration 6, loss = 0.55569172\n",
      "Iteration 7, loss = 0.53831028\n",
      "Iteration 8, loss = 0.52258006\n",
      "Iteration 9, loss = 0.50908454\n",
      "Iteration 10, loss = 0.49700137\n",
      "Iteration 11, loss = 0.48591990\n",
      "Iteration 12, loss = 0.47685257\n",
      "Iteration 13, loss = 0.47000977\n",
      "Iteration 14, loss = 0.46417358\n",
      "Iteration 15, loss = 0.46017096\n",
      "Iteration 16, loss = 0.45638008\n",
      "Iteration 17, loss = 0.45446631\n",
      "Iteration 18, loss = 0.45261309\n",
      "Iteration 19, loss = 0.45132846\n",
      "Iteration 20, loss = 0.45073988\n",
      "Iteration 21, loss = 0.44992808\n",
      "Iteration 22, loss = 0.44932252\n",
      "Iteration 23, loss = 0.44912974\n",
      "Iteration 24, loss = 0.44848077\n",
      "Iteration 25, loss = 0.44802336\n",
      "Iteration 26, loss = 0.44738718\n",
      "Iteration 27, loss = 0.44705784\n",
      "Iteration 28, loss = 0.44641431\n",
      "Iteration 29, loss = 0.44612676\n",
      "Iteration 30, loss = 0.44569818\n",
      "Iteration 31, loss = 0.44525963\n",
      "Iteration 32, loss = 0.44507830\n",
      "Iteration 33, loss = 0.44492667\n",
      "Iteration 34, loss = 0.44435745\n",
      "Iteration 35, loss = 0.44398301\n",
      "Iteration 36, loss = 0.44373517\n",
      "Iteration 37, loss = 0.44350082\n",
      "Iteration 38, loss = 0.44313662\n",
      "Iteration 39, loss = 0.44282773\n",
      "Iteration 40, loss = 0.44269198\n",
      "Iteration 41, loss = 0.44219558\n",
      "Iteration 42, loss = 0.44191149\n",
      "Iteration 43, loss = 0.44158572\n",
      "Iteration 44, loss = 0.44134140\n",
      "Iteration 45, loss = 0.44112518\n",
      "Iteration 46, loss = 0.44112291\n",
      "Iteration 47, loss = 0.44071141\n",
      "Iteration 48, loss = 0.44044579\n",
      "Iteration 49, loss = 0.44042055\n",
      "Iteration 50, loss = 0.44034385\n",
      "Iteration 51, loss = 0.43990522\n",
      "Iteration 52, loss = 0.43964021\n",
      "Iteration 53, loss = 0.43958409\n",
      "Iteration 54, loss = 0.43920587\n",
      "Iteration 55, loss = 0.43915050\n",
      "Iteration 56, loss = 0.43876992\n",
      "Iteration 57, loss = 0.43878124\n",
      "Iteration 58, loss = 0.43857188\n",
      "Iteration 59, loss = 0.43821039\n",
      "Iteration 60, loss = 0.43808628\n",
      "Iteration 61, loss = 0.43791408\n",
      "Iteration 62, loss = 0.43787041\n",
      "Iteration 63, loss = 0.43769912\n",
      "Iteration 64, loss = 0.43750281\n",
      "Iteration 65, loss = 0.43710640\n",
      "Iteration 66, loss = 0.43694389\n",
      "Iteration 67, loss = 0.43682167\n",
      "Iteration 68, loss = 0.43671573\n",
      "Iteration 69, loss = 0.43679777\n",
      "Iteration 70, loss = 0.43634021\n",
      "Iteration 71, loss = 0.43619574\n",
      "Iteration 72, loss = 0.43667314\n",
      "Iteration 73, loss = 0.43627651\n",
      "Iteration 74, loss = 0.43599420\n",
      "Iteration 75, loss = 0.43570195\n",
      "Iteration 76, loss = 0.43540639\n",
      "Iteration 77, loss = 0.43523859\n",
      "Iteration 78, loss = 0.43538221\n",
      "Iteration 79, loss = 0.43504292\n",
      "Iteration 80, loss = 0.43492061\n",
      "Iteration 81, loss = 0.43500863\n",
      "Iteration 82, loss = 0.43481668\n",
      "Iteration 83, loss = 0.43458661\n",
      "Iteration 84, loss = 0.43518020\n",
      "Iteration 85, loss = 0.43427725\n",
      "Iteration 86, loss = 0.43415371\n",
      "Iteration 87, loss = 0.43422396\n",
      "Iteration 88, loss = 0.43384843\n",
      "Iteration 89, loss = 0.43373111\n",
      "Iteration 90, loss = 0.43364617\n",
      "Iteration 91, loss = 0.43352863\n",
      "Iteration 92, loss = 0.43342822\n",
      "Iteration 93, loss = 0.43328880\n",
      "Iteration 94, loss = 0.43311380\n",
      "Iteration 95, loss = 0.43294372\n",
      "Iteration 96, loss = 0.43306571\n",
      "Iteration 97, loss = 0.43285513\n",
      "Iteration 98, loss = 0.43296602\n",
      "Iteration 99, loss = 0.43277325\n",
      "Iteration 100, loss = 0.43262823\n"
     ]
    },
    {
     "data": {
      "text/plain": [
       "Pipeline(steps=[('columntransformer',\n",
       "                 ColumnTransformer(remainder='passthrough',\n",
       "                                   transformers=[('onehotencoder',\n",
       "                                                  OneHotEncoder(), ['sex'])])),\n",
       "                ('standardscaler', StandardScaler(copy=['pclass', 'fare'])),\n",
       "                ('mlpclassifier',\n",
       "                 MLPClassifier(hidden_layer_sizes=(64, 32), max_iter=100,\n",
       "                               verbose=1))])"
      ]
     },
     "execution_count": 77,
     "metadata": {},
     "output_type": "execute_result"
    }
   ],
   "source": [
    "model_mpl = make_pipeline(ct,ss ,MLPClassifier(hidden_layer_sizes=(64, 32), verbose=1, max_iter=100))\n",
    "model_mpl.fit(x_train, y_train)"
   ]
  },
  {
   "cell_type": "markdown",
   "id": "c6bf4fd3",
   "metadata": {},
   "source": [
    "1) 1등급, female, 32달러 인 경우 "
   ]
  },
  {
   "cell_type": "code",
   "execution_count": 78,
   "id": "56e029a6",
   "metadata": {},
   "outputs": [
    {
     "name": "stdout",
     "output_type": "stream",
     "text": [
      "예측: [1]\n"
     ]
    }
   ],
   "source": [
    "print('예측:', model_mpl.predict(xt))"
   ]
  },
  {
   "cell_type": "markdown",
   "id": "89cd92af",
   "metadata": {},
   "source": [
    "2) f1 score"
   ]
  },
  {
   "cell_type": "code",
   "execution_count": 79,
   "id": "48dc1eef",
   "metadata": {},
   "outputs": [
    {
     "name": "stdout",
     "output_type": "stream",
     "text": [
      "f1_score  0.761904761904762\n"
     ]
    }
   ],
   "source": [
    "print('f1_score ', f1_score(y_test, model_mpl.predict(x_test)))"
   ]
  },
  {
   "cell_type": "markdown",
   "id": "7768512c",
   "metadata": {},
   "source": [
    "3) confusion matrix"
   ]
  },
  {
   "cell_type": "code",
   "execution_count": 80,
   "id": "b5b5cba6",
   "metadata": {},
   "outputs": [
    {
     "data": {
      "image/png": "[encoded data removed]",
      "text/plain": [
       "<Figure size 432x288 with 2 Axes>"
      ]
     },
     "metadata": {
      "needs_background": "light"
     },
     "output_type": "display_data"
    }
   ],
   "source": [
    "y_test_pred = model_mpl.predict(x_test)\n",
    "cm_train = confusion_matrix(y_test, y_test_pred)\n",
    "\n",
    "sns.heatmap( cm_train, annot=True, cmap='Blues')\n",
    "plt.show()"
   ]
  },
  {
   "cell_type": "markdown",
   "id": "9e9fbeef",
   "metadata": {},
   "source": [
    "4) ROC Curve"
   ]
  },
  {
   "cell_type": "code",
   "execution_count": 81,
   "id": "2415508f",
   "metadata": {},
   "outputs": [
    {
     "data": {
      "text/html": [
       "<div>\n",
       "<style scoped>\n",
       "    .dataframe tbody tr th:only-of-type {\n",
       "        vertical-align: middle;\n",
       "    }\n",
       "\n",
       "    .dataframe tbody tr th {\n",
       "        vertical-align: top;\n",
       "    }\n",
       "\n",
       "    .dataframe thead th {\n",
       "        text-align: right;\n",
       "    }\n",
       "</style>\n",
       "<table border=\"1\" class=\"dataframe\">\n",
       "  <thead>\n",
       "    <tr style=\"text-align: right;\">\n",
       "      <th></th>\n",
       "      <th>survived</th>\n",
       "      <th>proba</th>\n",
       "    </tr>\n",
       "  </thead>\n",
       "  <tbody>\n",
       "    <tr>\n",
       "      <th>413</th>\n",
       "      <td>0</td>\n",
       "      <td>0.100193</td>\n",
       "    </tr>\n",
       "    <tr>\n",
       "      <th>277</th>\n",
       "      <td>0</td>\n",
       "      <td>0.100193</td>\n",
       "    </tr>\n",
       "    <tr>\n",
       "      <th>466</th>\n",
       "      <td>0</td>\n",
       "      <td>0.100193</td>\n",
       "    </tr>\n",
       "    <tr>\n",
       "      <th>271</th>\n",
       "      <td>1</td>\n",
       "      <td>0.111988</td>\n",
       "    </tr>\n",
       "    <tr>\n",
       "      <th>371</th>\n",
       "      <td>0</td>\n",
       "      <td>0.123636</td>\n",
       "    </tr>\n",
       "    <tr>\n",
       "      <th>...</th>\n",
       "      <td>...</td>\n",
       "      <td>...</td>\n",
       "    </tr>\n",
       "    <tr>\n",
       "      <th>496</th>\n",
       "      <td>1</td>\n",
       "      <td>0.978804</td>\n",
       "    </tr>\n",
       "    <tr>\n",
       "      <th>52</th>\n",
       "      <td>1</td>\n",
       "      <td>0.979060</td>\n",
       "    </tr>\n",
       "    <tr>\n",
       "      <th>513</th>\n",
       "      <td>1</td>\n",
       "      <td>0.980997</td>\n",
       "    </tr>\n",
       "    <tr>\n",
       "      <th>842</th>\n",
       "      <td>1</td>\n",
       "      <td>0.981103</td>\n",
       "    </tr>\n",
       "    <tr>\n",
       "      <th>258</th>\n",
       "      <td>1</td>\n",
       "      <td>0.983337</td>\n",
       "    </tr>\n",
       "  </tbody>\n",
       "</table>\n",
       "<p>179 rows × 2 columns</p>\n",
       "</div>"
      ],
      "text/plain": [
       "     survived     proba\n",
       "413         0  0.100193\n",
       "277         0  0.100193\n",
       "466         0  0.100193\n",
       "271         1  0.111988\n",
       "371         0  0.123636\n",
       "..        ...       ...\n",
       "496         1  0.978804\n",
       "52          1  0.979060\n",
       "513         1  0.980997\n",
       "842         1  0.981103\n",
       "258         1  0.983337\n",
       "\n",
       "[179 rows x 2 columns]"
      ]
     },
     "execution_count": 81,
     "metadata": {},
     "output_type": "execute_result"
    }
   ],
   "source": [
    "yp = model_mpl.predict_proba(x_test)\n",
    "\n",
    "ydf=y_test.copy()\n",
    "ydf = pd.DataFrame(data=y_test.copy())\n",
    "ydf['proba'] = yp[:, -1] # 칼럼 추가\n",
    "ydf.sort_values(by='proba')"
   ]
  },
  {
   "cell_type": "code",
   "execution_count": 82,
   "id": "dd09c191",
   "metadata": {},
   "outputs": [
    {
     "data": {
      "image/png": "[encoded data removed]",
      "text/plain": [
       "<Figure size 432x288 with 1 Axes>"
      ]
     },
     "metadata": {
      "needs_background": "light"
     },
     "output_type": "display_data"
    }
   ],
   "source": [
    "fpr, tpr, thresholds = roc_curve(y_test, ydf['proba'].values) # 실제값(y_true), 확률값(y_score)\n",
    "\n",
    "plt.plot(fpr, tpr, 'r--')\n",
    "plt.plot([0,1],[0,1], 'k--')\n",
    "plt.xlabel('FPR')\n",
    "plt.ylabel('TPR')\n",
    "plt.show()"
   ]
  }
 ],
 "metadata": {
  "kernelspec": {
   "display_name": "Python 3",
   "language": "python",
   "name": "python3"
  },
  "language_info": {
   "codemirror_mode": {
    "name": "ipython",
    "version": 3
   },
   "file_extension": ".py",
   "mimetype": "text/x-python",
   "name": "python",
   "nbconvert_exporter": "python",
   "pygments_lexer": "ipython3",
   "version": "3.8.8"
  },
  "toc": {
   "base_numbering": 1,
   "nav_menu": {},
   "number_sections": true,
   "sideBar": true,
   "skip_h1_title": false,
   "title_cell": "Table of Contents",
   "title_sidebar": "Contents",
   "toc_cell": false,
   "toc_position": {},
   "toc_section_display": true,
   "toc_window_display": false
  }
 },
 "nbformat": 4,
 "nbformat_minor": 5
}
