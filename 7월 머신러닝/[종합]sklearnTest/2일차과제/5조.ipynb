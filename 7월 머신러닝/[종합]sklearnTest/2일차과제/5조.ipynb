{
  "nbformat": 4,
  "nbformat_minor": 0,
  "metadata": {
    "colab": {
      "name": "5조.ipynb",
      "provenance": [],
      "collapsed_sections": []
    },
    "kernelspec": {
      "name": "python3",
      "display_name": "Python 3"
    },
    "language_info": {
      "name": "python"
    }
  },
  "cells": [
    {
      "cell_type": "markdown",
      "metadata": {
        "id": "eow7mZ-v4Rlp"
      },
      "source": [
        "1. trees.csv를 읽어들여서 아래에 대해  \n",
        "  1) 상관관계, 다중공선성을 확인하시요  \n",
        "  2) crossvalidation score 를 구하시요.  \n",
        "  3) 아래의 데이터를 이용하여 Volume을 예측하시요  \n",
        "  Girth 8.8, 10.5  \n",
        "  Height 63, 72  \n",
        "\n",
        "2. volume이 40 이상이면 크다  \n",
        "  30이상이면 보통 미만이면 적음으로  \n",
        "  아래와 같이 출력하시요  \n",
        "  \n",
        "  volume  정도   \n",
        "  10.3    적음  \n",
        "  ...\n",
        "\n",
        "3. Height  가 가장 작은값과 큰값을\n",
        "구하시요\n",
        "\n",
        "4. girth(테두리) 가 가장큰 top5를\n",
        "구하시요(girth, height, volume)\n"
      ]
    },
    {
      "cell_type": "markdown",
      "metadata": {
        "id": "-MfrumpE_Dm3"
      },
      "source": [
        "# 기본 모듈"
      ]
    },
    {
      "cell_type": "code",
      "metadata": {
        "id": "0Ivxt_oN4X-T"
      },
      "source": [
        "import pandas as pd\n",
        "import numpy as np\n",
        "from sklearn.linear_model import LinearRegression, SGDRegressor\n",
        "from sklearn.datasets import load_boston, load_iris\n",
        "from sklearn.preprocessing import StandardScaler ,MinMaxScaler,RobustScaler\n",
        "from sklearn.model_selection import train_test_split,cross_val_score\n",
        "from sklearn.pipeline import make_pipeline\n",
        "\n",
        "import matplotlib.pyplot as plt\n",
        "import matplotlib\n",
        "import seaborn as sb\n",
        "matplotlib.rcParams['font.family']='Malgun Gothic'\n",
        "matplotlib.rcParams['axes.unicode_minus'] = False\n",
        "plt.rcParams['figure.facecolor']='white'\n",
        "plt.rcParams['figure.figsize']=12.8,10.8"
      ],
      "execution_count": null,
      "outputs": []
    },
    {
      "cell_type": "code",
      "metadata": {
        "colab": {
          "base_uri": "https://localhost:8080/"
        },
        "id": "bEMBW5zJ5SFB",
        "outputId": "a3a3936e-1d25-4ad8-bc16-509a3ba200a4"
      },
      "source": [
        "from google.colab import drive\n",
        "drive.mount('/content/drive')"
      ],
      "execution_count": null,
      "outputs": [
        {
          "output_type": "stream",
          "text": [
            "Mounted at /content/drive\n"
          ],
          "name": "stdout"
        }
      ]
    },
    {
      "cell_type": "markdown",
      "metadata": {
        "id": "5weKhYXu_HN3"
      },
      "source": [
        "# Q1. trees.csv를 읽어들여서 아래에 대해"
      ]
    },
    {
      "cell_type": "code",
      "metadata": {
        "id": "PbdiV_cl5gTB"
      },
      "source": [
        "filename = '/content/drive/My Drive/Colab Notebooks/data/trees.csv'"
      ],
      "execution_count": null,
      "outputs": []
    },
    {
      "cell_type": "code",
      "metadata": {
        "id": "GnbMm6fR9fJB"
      },
      "source": [
        "#tree = pd.read_csv('data/trees.csv')"
      ],
      "execution_count": null,
      "outputs": []
    },
    {
      "cell_type": "code",
      "metadata": {
        "colab": {
          "base_uri": "https://localhost:8080/",
          "height": 1000
        },
        "id": "vKWNY7JD4YFi",
        "outputId": "5c1e1dff-26b6-41c6-cd46-b52c9207603d"
      },
      "source": [
        "df_tree=pd.read_csv(filename) #이름변경필요\n",
        "df_tree.head()"
      ],
      "execution_count": null,
      "outputs": [
        {
          "output_type": "execute_result",
          "data": {
            "text/html": [
              "<div>\n",
              "<style scoped>\n",
              "    .dataframe tbody tr th:only-of-type {\n",
              "        vertical-align: middle;\n",
              "    }\n",
              "\n",
              "    .dataframe tbody tr th {\n",
              "        vertical-align: top;\n",
              "    }\n",
              "\n",
              "    .dataframe thead th {\n",
              "        text-align: right;\n",
              "    }\n",
              "</style>\n",
              "<table border=\"1\" class=\"dataframe\">\n",
              "  <thead>\n",
              "    <tr style=\"text-align: right;\">\n",
              "      <th></th>\n",
              "      <th>Girth</th>\n",
              "      <th>Height</th>\n",
              "      <th>Volume</th>\n",
              "    </tr>\n",
              "  </thead>\n",
              "  <tbody>\n",
              "    <tr>\n",
              "      <th>0</th>\n",
              "      <td>8.3</td>\n",
              "      <td>70</td>\n",
              "      <td>10.3</td>\n",
              "    </tr>\n",
              "    <tr>\n",
              "      <th>1</th>\n",
              "      <td>8.6</td>\n",
              "      <td>65</td>\n",
              "      <td>10.3</td>\n",
              "    </tr>\n",
              "    <tr>\n",
              "      <th>2</th>\n",
              "      <td>8.8</td>\n",
              "      <td>63</td>\n",
              "      <td>10.2</td>\n",
              "    </tr>\n",
              "    <tr>\n",
              "      <th>3</th>\n",
              "      <td>10.5</td>\n",
              "      <td>72</td>\n",
              "      <td>16.4</td>\n",
              "    </tr>\n",
              "    <tr>\n",
              "      <th>4</th>\n",
              "      <td>10.7</td>\n",
              "      <td>81</td>\n",
              "      <td>18.8</td>\n",
              "    </tr>\n",
              "    <tr>\n",
              "      <th>5</th>\n",
              "      <td>10.8</td>\n",
              "      <td>83</td>\n",
              "      <td>19.7</td>\n",
              "    </tr>\n",
              "    <tr>\n",
              "      <th>6</th>\n",
              "      <td>11.0</td>\n",
              "      <td>66</td>\n",
              "      <td>15.6</td>\n",
              "    </tr>\n",
              "    <tr>\n",
              "      <th>7</th>\n",
              "      <td>11.0</td>\n",
              "      <td>75</td>\n",
              "      <td>18.2</td>\n",
              "    </tr>\n",
              "    <tr>\n",
              "      <th>8</th>\n",
              "      <td>11.1</td>\n",
              "      <td>80</td>\n",
              "      <td>22.6</td>\n",
              "    </tr>\n",
              "    <tr>\n",
              "      <th>9</th>\n",
              "      <td>11.2</td>\n",
              "      <td>75</td>\n",
              "      <td>19.9</td>\n",
              "    </tr>\n",
              "    <tr>\n",
              "      <th>10</th>\n",
              "      <td>11.3</td>\n",
              "      <td>79</td>\n",
              "      <td>24.2</td>\n",
              "    </tr>\n",
              "    <tr>\n",
              "      <th>11</th>\n",
              "      <td>11.4</td>\n",
              "      <td>76</td>\n",
              "      <td>21.0</td>\n",
              "    </tr>\n",
              "    <tr>\n",
              "      <th>12</th>\n",
              "      <td>11.4</td>\n",
              "      <td>76</td>\n",
              "      <td>21.4</td>\n",
              "    </tr>\n",
              "    <tr>\n",
              "      <th>13</th>\n",
              "      <td>11.7</td>\n",
              "      <td>69</td>\n",
              "      <td>21.3</td>\n",
              "    </tr>\n",
              "    <tr>\n",
              "      <th>14</th>\n",
              "      <td>12.0</td>\n",
              "      <td>75</td>\n",
              "      <td>19.1</td>\n",
              "    </tr>\n",
              "    <tr>\n",
              "      <th>15</th>\n",
              "      <td>12.9</td>\n",
              "      <td>74</td>\n",
              "      <td>22.2</td>\n",
              "    </tr>\n",
              "    <tr>\n",
              "      <th>16</th>\n",
              "      <td>12.9</td>\n",
              "      <td>85</td>\n",
              "      <td>33.8</td>\n",
              "    </tr>\n",
              "    <tr>\n",
              "      <th>17</th>\n",
              "      <td>13.3</td>\n",
              "      <td>86</td>\n",
              "      <td>27.4</td>\n",
              "    </tr>\n",
              "    <tr>\n",
              "      <th>18</th>\n",
              "      <td>13.7</td>\n",
              "      <td>71</td>\n",
              "      <td>25.7</td>\n",
              "    </tr>\n",
              "    <tr>\n",
              "      <th>19</th>\n",
              "      <td>13.8</td>\n",
              "      <td>64</td>\n",
              "      <td>24.9</td>\n",
              "    </tr>\n",
              "    <tr>\n",
              "      <th>20</th>\n",
              "      <td>14.0</td>\n",
              "      <td>78</td>\n",
              "      <td>34.5</td>\n",
              "    </tr>\n",
              "    <tr>\n",
              "      <th>21</th>\n",
              "      <td>14.2</td>\n",
              "      <td>80</td>\n",
              "      <td>31.7</td>\n",
              "    </tr>\n",
              "    <tr>\n",
              "      <th>22</th>\n",
              "      <td>14.5</td>\n",
              "      <td>74</td>\n",
              "      <td>36.3</td>\n",
              "    </tr>\n",
              "    <tr>\n",
              "      <th>23</th>\n",
              "      <td>16.0</td>\n",
              "      <td>72</td>\n",
              "      <td>38.3</td>\n",
              "    </tr>\n",
              "    <tr>\n",
              "      <th>24</th>\n",
              "      <td>16.3</td>\n",
              "      <td>77</td>\n",
              "      <td>42.6</td>\n",
              "    </tr>\n",
              "    <tr>\n",
              "      <th>25</th>\n",
              "      <td>17.3</td>\n",
              "      <td>81</td>\n",
              "      <td>55.4</td>\n",
              "    </tr>\n",
              "    <tr>\n",
              "      <th>26</th>\n",
              "      <td>17.5</td>\n",
              "      <td>82</td>\n",
              "      <td>55.7</td>\n",
              "    </tr>\n",
              "    <tr>\n",
              "      <th>27</th>\n",
              "      <td>17.9</td>\n",
              "      <td>80</td>\n",
              "      <td>58.3</td>\n",
              "    </tr>\n",
              "    <tr>\n",
              "      <th>28</th>\n",
              "      <td>18.0</td>\n",
              "      <td>80</td>\n",
              "      <td>51.5</td>\n",
              "    </tr>\n",
              "    <tr>\n",
              "      <th>29</th>\n",
              "      <td>18.0</td>\n",
              "      <td>80</td>\n",
              "      <td>51.0</td>\n",
              "    </tr>\n",
              "    <tr>\n",
              "      <th>30</th>\n",
              "      <td>20.6</td>\n",
              "      <td>87</td>\n",
              "      <td>77.0</td>\n",
              "    </tr>\n",
              "  </tbody>\n",
              "</table>\n",
              "</div>"
            ],
            "text/plain": [
              "    Girth  Height  Volume\n",
              "0     8.3      70    10.3\n",
              "1     8.6      65    10.3\n",
              "2     8.8      63    10.2\n",
              "3    10.5      72    16.4\n",
              "4    10.7      81    18.8\n",
              "5    10.8      83    19.7\n",
              "6    11.0      66    15.6\n",
              "7    11.0      75    18.2\n",
              "8    11.1      80    22.6\n",
              "9    11.2      75    19.9\n",
              "10   11.3      79    24.2\n",
              "11   11.4      76    21.0\n",
              "12   11.4      76    21.4\n",
              "13   11.7      69    21.3\n",
              "14   12.0      75    19.1\n",
              "15   12.9      74    22.2\n",
              "16   12.9      85    33.8\n",
              "17   13.3      86    27.4\n",
              "18   13.7      71    25.7\n",
              "19   13.8      64    24.9\n",
              "20   14.0      78    34.5\n",
              "21   14.2      80    31.7\n",
              "22   14.5      74    36.3\n",
              "23   16.0      72    38.3\n",
              "24   16.3      77    42.6\n",
              "25   17.3      81    55.4\n",
              "26   17.5      82    55.7\n",
              "27   17.9      80    58.3\n",
              "28   18.0      80    51.5\n",
              "29   18.0      80    51.0\n",
              "30   20.6      87    77.0"
            ]
          },
          "metadata": {
            "tags": []
          },
          "execution_count": 11
        }
      ]
    },
    {
      "cell_type": "markdown",
      "metadata": {
        "id": "GDp_jKsr_Q1x"
      },
      "source": [
        "### Q1-1) 상관관계, 다중공선성을 확인하시요"
      ]
    },
    {
      "cell_type": "code",
      "metadata": {
        "colab": {
          "base_uri": "https://localhost:8080/",
          "height": 142
        },
        "id": "iBh46H4u4YII",
        "outputId": "0bf00658-6419-4388-f398-b7ed78dcfefe"
      },
      "source": [
        "df_tree.corr()"
      ],
      "execution_count": null,
      "outputs": [
        {
          "output_type": "execute_result",
          "data": {
            "text/html": [
              "<div>\n",
              "<style scoped>\n",
              "    .dataframe tbody tr th:only-of-type {\n",
              "        vertical-align: middle;\n",
              "    }\n",
              "\n",
              "    .dataframe tbody tr th {\n",
              "        vertical-align: top;\n",
              "    }\n",
              "\n",
              "    .dataframe thead th {\n",
              "        text-align: right;\n",
              "    }\n",
              "</style>\n",
              "<table border=\"1\" class=\"dataframe\">\n",
              "  <thead>\n",
              "    <tr style=\"text-align: right;\">\n",
              "      <th></th>\n",
              "      <th>Girth</th>\n",
              "      <th>Height</th>\n",
              "      <th>Volume</th>\n",
              "    </tr>\n",
              "  </thead>\n",
              "  <tbody>\n",
              "    <tr>\n",
              "      <th>Girth</th>\n",
              "      <td>1.000000</td>\n",
              "      <td>0.51928</td>\n",
              "      <td>0.967119</td>\n",
              "    </tr>\n",
              "    <tr>\n",
              "      <th>Height</th>\n",
              "      <td>0.519280</td>\n",
              "      <td>1.00000</td>\n",
              "      <td>0.598250</td>\n",
              "    </tr>\n",
              "    <tr>\n",
              "      <th>Volume</th>\n",
              "      <td>0.967119</td>\n",
              "      <td>0.59825</td>\n",
              "      <td>1.000000</td>\n",
              "    </tr>\n",
              "  </tbody>\n",
              "</table>\n",
              "</div>"
            ],
            "text/plain": [
              "           Girth   Height    Volume\n",
              "Girth   1.000000  0.51928  0.967119\n",
              "Height  0.519280  1.00000  0.598250\n",
              "Volume  0.967119  0.59825  1.000000"
            ]
          },
          "metadata": {
            "tags": []
          },
          "execution_count": 12
        }
      ]
    },
    {
      "cell_type": "code",
      "metadata": {
        "colab": {
          "base_uri": "https://localhost:8080/",
          "height": 287
        },
        "id": "CNIDsEoz4YM4",
        "outputId": "7d6dfefe-0c04-43e6-84dc-3e79805e2f50"
      },
      "source": [
        "sb.heatmap(df_tree.corr(),annot=True,cmap='bwr',vmin=-1,vmax=1) #빨간색일수록 양의  상관관계 파란색은 음의 상관관계 흰색은 상관관계 없음\n",
        "plt.show()"
      ],
      "execution_count": null,
      "outputs": [
        {
          "output_type": "stream",
          "text": [
            "findfont: Font family ['Malgun Gothic'] not found. Falling back to DejaVu Sans.\n"
          ],
          "name": "stderr"
        },
        {
          "output_type": "display_data",
          "data": {
            "image/png": "[encoded data removed]",
            "text/plain": [
              "<Figure size 432x288 with 2 Axes>"
            ]
          },
          "metadata": {
            "tags": [],
            "needs_background": "light"
          }
        }
      ]
    },
    {
      "cell_type": "code",
      "metadata": {
        "colab": {
          "base_uri": "https://localhost:8080/",
          "height": 142
        },
        "id": "BkAhQvZu6Udl",
        "outputId": "c57dfb87-5692-47c2-af75-3894ddccfc98"
      },
      "source": [
        "from statsmodels.stats.outliers_influence import variance_inflation_factor\n",
        "vif = pd.DataFrame()\n",
        "vif['VIF Factor']= [ variance_inflation_factor(df_tree.values, i )  for i in range( df_tree.shape[1] ) ]\n",
        "vif['features'] = df_tree.columns\n",
        "vif\n"
      ],
      "execution_count": null,
      "outputs": [
        {
          "output_type": "execute_result",
          "data": {
            "text/html": [
              "<div>\n",
              "<style scoped>\n",
              "    .dataframe tbody tr th:only-of-type {\n",
              "        vertical-align: middle;\n",
              "    }\n",
              "\n",
              "    .dataframe tbody tr th {\n",
              "        vertical-align: top;\n",
              "    }\n",
              "\n",
              "    .dataframe thead th {\n",
              "        text-align: right;\n",
              "    }\n",
              "</style>\n",
              "<table border=\"1\" class=\"dataframe\">\n",
              "  <thead>\n",
              "    <tr style=\"text-align: right;\">\n",
              "      <th></th>\n",
              "      <th>VIF Factor</th>\n",
              "      <th>features</th>\n",
              "    </tr>\n",
              "  </thead>\n",
              "  <tbody>\n",
              "    <tr>\n",
              "      <th>0</th>\n",
              "      <td>158.198657</td>\n",
              "      <td>Girth</td>\n",
              "    </tr>\n",
              "    <tr>\n",
              "      <th>1</th>\n",
              "      <td>62.939266</td>\n",
              "      <td>Height</td>\n",
              "    </tr>\n",
              "    <tr>\n",
              "      <th>2</th>\n",
              "      <td>32.993875</td>\n",
              "      <td>Volume</td>\n",
              "    </tr>\n",
              "  </tbody>\n",
              "</table>\n",
              "</div>"
            ],
            "text/plain": [
              "   VIF Factor features\n",
              "0  158.198657    Girth\n",
              "1   62.939266   Height\n",
              "2   32.993875   Volume"
            ]
          },
          "metadata": {
            "tags": []
          },
          "execution_count": 16
        }
      ]
    },
    {
      "cell_type": "markdown",
      "metadata": {
        "id": "jx9a57ov_WAv"
      },
      "source": [
        "## Q1-2) crossvalidation score 를 구하시요."
      ]
    },
    {
      "cell_type": "code",
      "metadata": {
        "colab": {
          "base_uri": "https://localhost:8080/"
        },
        "id": "utPM2Dhi7RXC",
        "outputId": "990f227f-c5d4-4c14-fa2e-a59b99d4352f"
      },
      "source": [
        "x_data=df_tree[['Girth','Height']]\n",
        "y_data=df_tree['Volume']\n",
        "x_train, x_test, y_train, y_test = train_test_split(x_data, y_data, test_size=0.2,random_state=1)\n",
        "\n",
        "model=make_pipeline(StandardScaler(),SGDRegressor() )\n",
        "model.fit(x_train, y_train)\n",
        "\n",
        "model.score(x_train, y_train)\n",
        "\n",
        "model.score(x_test, y_test)\n",
        "\n",
        "\n",
        "r2scores=cross_val_score(model, xmodel.predict([[8.8, 63], [10.5, 72]])_data, y_data,cv=5,scoring='r2',verbose=1) #cv 몇개로 나눌거임? 디폴트는 5개 scorint-> 뭘측정할거임?\n",
        "print(r2scores)\n",
        "print(r2scores.mean())"
      ],
      "execution_count": null,
      "outputs": [
        {
          "output_type": "stream",
          "text": [
            "[-2.51326001  0.66520817 -0.16251107  0.53321226 -0.67695469]\n",
            "-0.4308610667790894\n"
          ],
          "name": "stdout"
        },
        {
          "output_type": "stream",
          "text": [
            "[Parallel(n_jobs=1)]: Using backend SequentialBackend with 1 concurrent workers.\n",
            "[Parallel(n_jobs=1)]: Done   5 out of   5 | elapsed:    0.0s finished\n"
          ],
          "name": "stderr"
        }
      ]
    },
    {
      "cell_type": "markdown",
      "metadata": {
        "id": "TDoLelMX_bBi"
      },
      "source": [
        "### Q1-3) 아래의 데이터를 이용하여 Volume을 예측하시요 Girth 8.8, 10.5 Height 63, 72"
      ]
    },
    {
      "cell_type": "code",
      "metadata": {
        "colab": {
          "base_uri": "https://localhost:8080/"
        },
        "id": "XVchC8-77ExU",
        "outputId": "7476467c-a45d-4b25-d759-c24e74375ded"
      },
      "source": [
        "model.predict([[8.8, 63], [10.5, 72]])"
      ],
      "execution_count": null,
      "outputs": [
        {
          "output_type": "execute_result",
          "data": {
            "text/plain": [
              "array([ 5.59307109, 16.27976155])"
            ]
          },
          "metadata": {
            "tags": []
          },
          "execution_count": 23
        }
      ]
    },
    {
      "cell_type": "markdown",
      "metadata": {
        "id": "X-oiU4r5CXTi"
      },
      "source": [
        "### Q2) volume이 40 이상이면 크다, 30이상이면 보통 미만이면 적음으로 출력하시오"
      ]
    },
    {
      "cell_type": "code",
      "metadata": {
        "id": "kKR09cdP-_JK"
      },
      "source": [
        "df_tree['정도']=0"
      ],
      "execution_count": 30,
      "outputs": []
    },
    {
      "cell_type": "markdown",
      "metadata": {
        "id": "qaj7X5CAA7VT"
      },
      "source": [
        ""
      ]
    },
    {
      "cell_type": "code",
      "metadata": {
        "colab": {
          "base_uri": "https://localhost:8080/",
          "height": 1000
        },
        "id": "i0w8VLwaBIq1",
        "outputId": "81829355-c326-4ac6-c556-3ce99164a0a0"
      },
      "source": [
        "for i in range(len(df_tree)) :\n",
        "    if df_tree['Volume'][i] >= 40 :\n",
        "        df_tree['정도'][i] = '크다'\n",
        "    elif df_tree['Volume'][i] >= 30 :\n",
        "        df_tree['정도'][i] = '보통'\n",
        "    else :\n",
        "        df_tree['정도'][i] = '적음'\n",
        "\n",
        "df_tree\n"
      ],
      "execution_count": 31,
      "outputs": [
        {
          "output_type": "stream",
          "text": [
            "/usr/local/lib/python3.7/dist-packages/ipykernel_launcher.py:7: SettingWithCopyWarning: \n",
            "A value is trying to be set on a copy of a slice from a DataFrame\n",
            "\n",
            "See the caveats in the documentation: https://pandas.pydata.org/pandas-docs/stable/user_guide/indexing.html#returning-a-view-versus-a-copy\n",
            "  import sys\n",
            "/usr/local/lib/python3.7/dist-packages/pandas/core/indexing.py:670: SettingWithCopyWarning: \n",
            "A value is trying to be set on a copy of a slice from a DataFrame\n",
            "\n",
            "See the caveats in the documentation: https://pandas.pydata.org/pandas-docs/stable/user_guide/indexing.html#returning-a-view-versus-a-copy\n",
            "  iloc._setitem_with_indexer(indexer, value)\n",
            "/usr/local/lib/python3.7/dist-packages/ipykernel_launcher.py:5: SettingWithCopyWarning: \n",
            "A value is trying to be set on a copy of a slice from a DataFrame\n",
            "\n",
            "See the caveats in the documentation: https://pandas.pydata.org/pandas-docs/stable/user_guide/indexing.html#returning-a-view-versus-a-copy\n",
            "  \"\"\"\n",
            "/usr/local/lib/python3.7/dist-packages/ipykernel_launcher.py:3: SettingWithCopyWarning: \n",
            "A value is trying to be set on a copy of a slice from a DataFrame\n",
            "\n",
            "See the caveats in the documentation: https://pandas.pydata.org/pandas-docs/stable/user_guide/indexing.html#returning-a-view-versus-a-copy\n",
            "  This is separate from the ipykernel package so we can avoid doing imports until\n"
          ],
          "name": "stderr"
        },
        {
          "output_type": "execute_result",
          "data": {
            "text/html": [
              "<div>\n",
              "<style scoped>\n",
              "    .dataframe tbody tr th:only-of-type {\n",
              "        vertical-align: middle;\n",
              "    }\n",
              "\n",
              "    .dataframe tbody tr th {\n",
              "        vertical-align: top;\n",
              "    }\n",
              "\n",
              "    .dataframe thead th {\n",
              "        text-align: right;\n",
              "    }\n",
              "</style>\n",
              "<table border=\"1\" class=\"dataframe\">\n",
              "  <thead>\n",
              "    <tr style=\"text-align: right;\">\n",
              "      <th></th>\n",
              "      <th>Girth</th>\n",
              "      <th>Height</th>\n",
              "      <th>Volume</th>\n",
              "      <th>정도</th>\n",
              "    </tr>\n",
              "  </thead>\n",
              "  <tbody>\n",
              "    <tr>\n",
              "      <th>0</th>\n",
              "      <td>8.3</td>\n",
              "      <td>70</td>\n",
              "      <td>10.3</td>\n",
              "      <td>적음</td>\n",
              "    </tr>\n",
              "    <tr>\n",
              "      <th>1</th>\n",
              "      <td>8.6</td>\n",
              "      <td>65</td>\n",
              "      <td>10.3</td>\n",
              "      <td>적음</td>\n",
              "    </tr>\n",
              "    <tr>\n",
              "      <th>2</th>\n",
              "      <td>8.8</td>\n",
              "      <td>63</td>\n",
              "      <td>10.2</td>\n",
              "      <td>적음</td>\n",
              "    </tr>\n",
              "    <tr>\n",
              "      <th>3</th>\n",
              "      <td>10.5</td>\n",
              "      <td>72</td>\n",
              "      <td>16.4</td>\n",
              "      <td>적음</td>\n",
              "    </tr>\n",
              "    <tr>\n",
              "      <th>4</th>\n",
              "      <td>10.7</td>\n",
              "      <td>81</td>\n",
              "      <td>18.8</td>\n",
              "      <td>적음</td>\n",
              "    </tr>\n",
              "    <tr>\n",
              "      <th>5</th>\n",
              "      <td>10.8</td>\n",
              "      <td>83</td>\n",
              "      <td>19.7</td>\n",
              "      <td>적음</td>\n",
              "    </tr>\n",
              "    <tr>\n",
              "      <th>6</th>\n",
              "      <td>11.0</td>\n",
              "      <td>66</td>\n",
              "      <td>15.6</td>\n",
              "      <td>적음</td>\n",
              "    </tr>\n",
              "    <tr>\n",
              "      <th>7</th>\n",
              "      <td>11.0</td>\n",
              "      <td>75</td>\n",
              "      <td>18.2</td>\n",
              "      <td>적음</td>\n",
              "    </tr>\n",
              "    <tr>\n",
              "      <th>8</th>\n",
              "      <td>11.1</td>\n",
              "      <td>80</td>\n",
              "      <td>22.6</td>\n",
              "      <td>적음</td>\n",
              "    </tr>\n",
              "    <tr>\n",
              "      <th>9</th>\n",
              "      <td>11.2</td>\n",
              "      <td>75</td>\n",
              "      <td>19.9</td>\n",
              "      <td>적음</td>\n",
              "    </tr>\n",
              "    <tr>\n",
              "      <th>10</th>\n",
              "      <td>11.3</td>\n",
              "      <td>79</td>\n",
              "      <td>24.2</td>\n",
              "      <td>적음</td>\n",
              "    </tr>\n",
              "    <tr>\n",
              "      <th>11</th>\n",
              "      <td>11.4</td>\n",
              "      <td>76</td>\n",
              "      <td>21.0</td>\n",
              "      <td>적음</td>\n",
              "    </tr>\n",
              "    <tr>\n",
              "      <th>12</th>\n",
              "      <td>11.4</td>\n",
              "      <td>76</td>\n",
              "      <td>21.4</td>\n",
              "      <td>적음</td>\n",
              "    </tr>\n",
              "    <tr>\n",
              "      <th>13</th>\n",
              "      <td>11.7</td>\n",
              "      <td>69</td>\n",
              "      <td>21.3</td>\n",
              "      <td>적음</td>\n",
              "    </tr>\n",
              "    <tr>\n",
              "      <th>14</th>\n",
              "      <td>12.0</td>\n",
              "      <td>75</td>\n",
              "      <td>19.1</td>\n",
              "      <td>적음</td>\n",
              "    </tr>\n",
              "    <tr>\n",
              "      <th>15</th>\n",
              "      <td>12.9</td>\n",
              "      <td>74</td>\n",
              "      <td>22.2</td>\n",
              "      <td>적음</td>\n",
              "    </tr>\n",
              "    <tr>\n",
              "      <th>16</th>\n",
              "      <td>12.9</td>\n",
              "      <td>85</td>\n",
              "      <td>33.8</td>\n",
              "      <td>보통</td>\n",
              "    </tr>\n",
              "    <tr>\n",
              "      <th>17</th>\n",
              "      <td>13.3</td>\n",
              "      <td>86</td>\n",
              "      <td>27.4</td>\n",
              "      <td>적음</td>\n",
              "    </tr>\n",
              "    <tr>\n",
              "      <th>18</th>\n",
              "      <td>13.7</td>\n",
              "      <td>71</td>\n",
              "      <td>25.7</td>\n",
              "      <td>적음</td>\n",
              "    </tr>\n",
              "    <tr>\n",
              "      <th>19</th>\n",
              "      <td>13.8</td>\n",
              "      <td>64</td>\n",
              "      <td>24.9</td>\n",
              "      <td>적음</td>\n",
              "    </tr>\n",
              "    <tr>\n",
              "      <th>20</th>\n",
              "      <td>14.0</td>\n",
              "      <td>78</td>\n",
              "      <td>34.5</td>\n",
              "      <td>보통</td>\n",
              "    </tr>\n",
              "    <tr>\n",
              "      <th>21</th>\n",
              "      <td>14.2</td>\n",
              "      <td>80</td>\n",
              "      <td>31.7</td>\n",
              "      <td>보통</td>\n",
              "    </tr>\n",
              "    <tr>\n",
              "      <th>22</th>\n",
              "      <td>14.5</td>\n",
              "      <td>74</td>\n",
              "      <td>36.3</td>\n",
              "      <td>보통</td>\n",
              "    </tr>\n",
              "    <tr>\n",
              "      <th>23</th>\n",
              "      <td>16.0</td>\n",
              "      <td>72</td>\n",
              "      <td>38.3</td>\n",
              "      <td>보통</td>\n",
              "    </tr>\n",
              "    <tr>\n",
              "      <th>24</th>\n",
              "      <td>16.3</td>\n",
              "      <td>77</td>\n",
              "      <td>42.6</td>\n",
              "      <td>크다</td>\n",
              "    </tr>\n",
              "    <tr>\n",
              "      <th>25</th>\n",
              "      <td>17.3</td>\n",
              "      <td>81</td>\n",
              "      <td>55.4</td>\n",
              "      <td>크다</td>\n",
              "    </tr>\n",
              "    <tr>\n",
              "      <th>26</th>\n",
              "      <td>17.5</td>\n",
              "      <td>82</td>\n",
              "      <td>55.7</td>\n",
              "      <td>크다</td>\n",
              "    </tr>\n",
              "    <tr>\n",
              "      <th>27</th>\n",
              "      <td>17.9</td>\n",
              "      <td>80</td>\n",
              "      <td>58.3</td>\n",
              "      <td>크다</td>\n",
              "    </tr>\n",
              "    <tr>\n",
              "      <th>28</th>\n",
              "      <td>18.0</td>\n",
              "      <td>80</td>\n",
              "      <td>51.5</td>\n",
              "      <td>크다</td>\n",
              "    </tr>\n",
              "    <tr>\n",
              "      <th>29</th>\n",
              "      <td>18.0</td>\n",
              "      <td>80</td>\n",
              "      <td>51.0</td>\n",
              "      <td>크다</td>\n",
              "    </tr>\n",
              "    <tr>\n",
              "      <th>30</th>\n",
              "      <td>20.6</td>\n",
              "      <td>87</td>\n",
              "      <td>77.0</td>\n",
              "      <td>크다</td>\n",
              "    </tr>\n",
              "  </tbody>\n",
              "</table>\n",
              "</div>"
            ],
            "text/plain": [
              "    Girth  Height  Volume  정도\n",
              "0     8.3      70    10.3  적음\n",
              "1     8.6      65    10.3  적음\n",
              "2     8.8      63    10.2  적음\n",
              "3    10.5      72    16.4  적음\n",
              "4    10.7      81    18.8  적음\n",
              "5    10.8      83    19.7  적음\n",
              "6    11.0      66    15.6  적음\n",
              "7    11.0      75    18.2  적음\n",
              "8    11.1      80    22.6  적음\n",
              "9    11.2      75    19.9  적음\n",
              "10   11.3      79    24.2  적음\n",
              "11   11.4      76    21.0  적음\n",
              "12   11.4      76    21.4  적음\n",
              "13   11.7      69    21.3  적음\n",
              "14   12.0      75    19.1  적음\n",
              "15   12.9      74    22.2  적음\n",
              "16   12.9      85    33.8  보통\n",
              "17   13.3      86    27.4  적음\n",
              "18   13.7      71    25.7  적음\n",
              "19   13.8      64    24.9  적음\n",
              "20   14.0      78    34.5  보통\n",
              "21   14.2      80    31.7  보통\n",
              "22   14.5      74    36.3  보통\n",
              "23   16.0      72    38.3  보통\n",
              "24   16.3      77    42.6  크다\n",
              "25   17.3      81    55.4  크다\n",
              "26   17.5      82    55.7  크다\n",
              "27   17.9      80    58.3  크다\n",
              "28   18.0      80    51.5  크다\n",
              "29   18.0      80    51.0  크다\n",
              "30   20.6      87    77.0  크다"
            ]
          },
          "metadata": {
            "tags": []
          },
          "execution_count": 31
        }
      ]
    },
    {
      "cell_type": "markdown",
      "metadata": {
        "id": "-0H-EehTCj-8"
      },
      "source": [
        "### Q4)Height가 가장 작은값고 큰값을 구하시오"
      ]
    },
    {
      "cell_type": "code",
      "metadata": {
        "colab": {
          "base_uri": "https://localhost:8080/"
        },
        "id": "qGEFEHxCBiwq",
        "outputId": "300d94a0-a86e-4683-a3db-3abad9748b98"
      },
      "source": [
        "print(df_tree['Height'].min())\n",
        "print(df_tree['Height'].max())"
      ],
      "execution_count": 32,
      "outputs": [
        {
          "output_type": "stream",
          "text": [
            "63\n",
            "87\n"
          ],
          "name": "stdout"
        }
      ]
    },
    {
      "cell_type": "markdown",
      "metadata": {
        "id": "5QmhkOdoCrm5"
      },
      "source": [
        "### Q5) girth가 가장큰 top5를 구하시오"
      ]
    },
    {
      "cell_type": "code",
      "metadata": {
        "colab": {
          "base_uri": "https://localhost:8080/",
          "height": 204
        },
        "id": "fkQLghXlBtZy",
        "outputId": "e681b3fd-115a-4d0b-f400-c6cae8db8706"
      },
      "source": [
        "df_tree.sort_values('Girth', ascending=False).head()"
      ],
      "execution_count": 33,
      "outputs": [
        {
          "output_type": "execute_result",
          "data": {
            "text/html": [
              "<div>\n",
              "<style scoped>\n",
              "    .dataframe tbody tr th:only-of-type {\n",
              "        vertical-align: middle;\n",
              "    }\n",
              "\n",
              "    .dataframe tbody tr th {\n",
              "        vertical-align: top;\n",
              "    }\n",
              "\n",
              "    .dataframe thead th {\n",
              "        text-align: right;\n",
              "    }\n",
              "</style>\n",
              "<table border=\"1\" class=\"dataframe\">\n",
              "  <thead>\n",
              "    <tr style=\"text-align: right;\">\n",
              "      <th></th>\n",
              "      <th>Girth</th>\n",
              "      <th>Height</th>\n",
              "      <th>Volume</th>\n",
              "      <th>정도</th>\n",
              "    </tr>\n",
              "  </thead>\n",
              "  <tbody>\n",
              "    <tr>\n",
              "      <th>30</th>\n",
              "      <td>20.6</td>\n",
              "      <td>87</td>\n",
              "      <td>77.0</td>\n",
              "      <td>크다</td>\n",
              "    </tr>\n",
              "    <tr>\n",
              "      <th>29</th>\n",
              "      <td>18.0</td>\n",
              "      <td>80</td>\n",
              "      <td>51.0</td>\n",
              "      <td>크다</td>\n",
              "    </tr>\n",
              "    <tr>\n",
              "      <th>28</th>\n",
              "      <td>18.0</td>\n",
              "      <td>80</td>\n",
              "      <td>51.5</td>\n",
              "      <td>크다</td>\n",
              "    </tr>\n",
              "    <tr>\n",
              "      <th>27</th>\n",
              "      <td>17.9</td>\n",
              "      <td>80</td>\n",
              "      <td>58.3</td>\n",
              "      <td>크다</td>\n",
              "    </tr>\n",
              "    <tr>\n",
              "      <th>26</th>\n",
              "      <td>17.5</td>\n",
              "      <td>82</td>\n",
              "      <td>55.7</td>\n",
              "      <td>크다</td>\n",
              "    </tr>\n",
              "  </tbody>\n",
              "</table>\n",
              "</div>"
            ],
            "text/plain": [
              "    Girth  Height  Volume  정도\n",
              "30   20.6      87    77.0  크다\n",
              "29   18.0      80    51.0  크다\n",
              "28   18.0      80    51.5  크다\n",
              "27   17.9      80    58.3  크다\n",
              "26   17.5      82    55.7  크다"
            ]
          },
          "metadata": {
            "tags": []
          },
          "execution_count": 33
        }
      ]
    }
  ]
}