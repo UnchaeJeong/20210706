{
 "cells": [
  {
   "cell_type": "markdown",
   "id": "ede7a455-f08b-441e-93e0-d9b4b2b33c42",
   "metadata": {},
   "source": [
    "\n",
    "1. electric.csv  w, b를 구하시고\n",
    "전기생산량이 3.2, 4.5 인경우 전기 사용량을 예측하시요.\n",
    "scatter(실제데이터), plot(예측데이터)를 그리시요.\n",
    "\n",
    "\n",
    "2. 선형회귀 통계공식을 파이썬코드로 직접 구현해서\n",
    "1 번데이터 w,b를 구하시요\n",
    "\n",
    "3. (3x+2)^3 에 대한 미분에 대한 전개과정을\n",
    "적으시요. (코딩이 아닌 과정을 텍스트로 적으면 됨)\n"
   ]
  },
  {
   "cell_type": "code",
   "execution_count": 14,
   "id": "e7086c15-b831-43f7-b6cb-68106a659a54",
   "metadata": {},
   "outputs": [],
   "source": [
    "import pandas as pd\n",
    "import numpy as np\n",
    "from sklearn.linear_model import LinearRegression # 선형회귀 공식\n",
    "from sklearn.neural_network import MLPRegressor #학습\n",
    "import matplotlib.pyplot as plt\n",
    "import matplotlib\n",
    "matplotlib.rcParams['font.family']='Malgun Gothic'\n",
    "matplotlib.rcParams['axes.unicode_minus'] = False"
   ]
  },
  {
   "cell_type": "markdown",
   "id": "2a27b1b6-c1de-44b6-b3dd-2927dac9ba68",
   "metadata": {},
   "source": [
    "### 문제1) \n",
    "- electric.csv  w, b를 구하시고 전기생산량이 3.2, 4.5 인경우 전기 사용량을 예측하시요.\n",
    "- scatter(실제데이터), plot(예측데이터)를 그리시요."
   ]
  },
  {
   "cell_type": "code",
   "execution_count": 16,
   "id": "bc3a9618-fc30-48ca-aad0-6b4f110b3b27",
   "metadata": {},
   "outputs": [
    {
     "data": {
      "text/html": [
       "<div>\n",
       "<style scoped>\n",
       "    .dataframe tbody tr th:only-of-type {\n",
       "        vertical-align: middle;\n",
       "    }\n",
       "\n",
       "    .dataframe tbody tr th {\n",
       "        vertical-align: top;\n",
       "    }\n",
       "\n",
       "    .dataframe thead th {\n",
       "        text-align: right;\n",
       "    }\n",
       "</style>\n",
       "<table border=\"1\" class=\"dataframe\">\n",
       "  <thead>\n",
       "    <tr style=\"text-align: right;\">\n",
       "      <th></th>\n",
       "      <th>일련번호</th>\n",
       "      <th>전기생산량</th>\n",
       "      <th>전기사용량</th>\n",
       "    </tr>\n",
       "  </thead>\n",
       "  <tbody>\n",
       "    <tr>\n",
       "      <th>0</th>\n",
       "      <td>0</td>\n",
       "      <td>3.52</td>\n",
       "      <td>2.48</td>\n",
       "    </tr>\n",
       "    <tr>\n",
       "      <th>1</th>\n",
       "      <td>1</td>\n",
       "      <td>2.58</td>\n",
       "      <td>2.27</td>\n",
       "    </tr>\n",
       "    <tr>\n",
       "      <th>2</th>\n",
       "      <td>2</td>\n",
       "      <td>3.31</td>\n",
       "      <td>2.47</td>\n",
       "    </tr>\n",
       "    <tr>\n",
       "      <th>3</th>\n",
       "      <td>3</td>\n",
       "      <td>4.07</td>\n",
       "      <td>2.77</td>\n",
       "    </tr>\n",
       "    <tr>\n",
       "      <th>4</th>\n",
       "      <td>4</td>\n",
       "      <td>4.62</td>\n",
       "      <td>2.98</td>\n",
       "    </tr>\n",
       "    <tr>\n",
       "      <th>5</th>\n",
       "      <td>5</td>\n",
       "      <td>3.98</td>\n",
       "      <td>3.05</td>\n",
       "    </tr>\n",
       "    <tr>\n",
       "      <th>6</th>\n",
       "      <td>6</td>\n",
       "      <td>4.29</td>\n",
       "      <td>3.18</td>\n",
       "    </tr>\n",
       "    <tr>\n",
       "      <th>7</th>\n",
       "      <td>7</td>\n",
       "      <td>4.83</td>\n",
       "      <td>3.46</td>\n",
       "    </tr>\n",
       "    <tr>\n",
       "      <th>8</th>\n",
       "      <td>8</td>\n",
       "      <td>3.71</td>\n",
       "      <td>3.03</td>\n",
       "    </tr>\n",
       "    <tr>\n",
       "      <th>9</th>\n",
       "      <td>9</td>\n",
       "      <td>4.61</td>\n",
       "      <td>3.25</td>\n",
       "    </tr>\n",
       "    <tr>\n",
       "      <th>10</th>\n",
       "      <td>10</td>\n",
       "      <td>3.90</td>\n",
       "      <td>2.67</td>\n",
       "    </tr>\n",
       "    <tr>\n",
       "      <th>11</th>\n",
       "      <td>11</td>\n",
       "      <td>3.20</td>\n",
       "      <td>2.53</td>\n",
       "    </tr>\n",
       "  </tbody>\n",
       "</table>\n",
       "</div>"
      ],
      "text/plain": [
       "    일련번호  전기생산량  전기사용량\n",
       "0      0   3.52   2.48\n",
       "1      1   2.58   2.27\n",
       "2      2   3.31   2.47\n",
       "3      3   4.07   2.77\n",
       "4      4   4.62   2.98\n",
       "5      5   3.98   3.05\n",
       "6      6   4.29   3.18\n",
       "7      7   4.83   3.46\n",
       "8      8   3.71   3.03\n",
       "9      9   4.61   3.25\n",
       "10    10   3.90   2.67\n",
       "11    11   3.20   2.53"
      ]
     },
     "execution_count": 16,
     "metadata": {},
     "output_type": "execute_result"
    }
   ],
   "source": [
    "electric_df = pd.read_csv('data/electric.csv')\n",
    "electric_df.columns = ['일련번호', '전기생산량', '전기사용량']\n",
    "electric_df"
   ]
  },
  {
   "cell_type": "code",
   "execution_count": 17,
   "id": "f9f4cd54-f2a4-404c-bc40-938e057fc33b",
   "metadata": {},
   "outputs": [],
   "source": [
    "x_data = electric_df[['전기생산량']]\n",
    "y_data = electric_df[['전기사용량']]"
   ]
  },
  {
   "cell_type": "code",
   "execution_count": 19,
   "id": "ee153a4b-709d-420e-af72-041a4251e37b",
   "metadata": {},
   "outputs": [
    {
     "data": {
      "text/plain": [
       "LinearRegression()"
      ]
     },
     "execution_count": 19,
     "metadata": {},
     "output_type": "execute_result"
    }
   ],
   "source": [
    "model_electric_df = LinearRegression()\n",
    "model_electric_df.fit(x_data, y_data)"
   ]
  },
  {
   "cell_type": "code",
   "execution_count": 20,
   "id": "3540f9a0-7689-4e31-949c-f8a004309a32",
   "metadata": {},
   "outputs": [
    {
     "data": {
      "text/plain": [
       "array([[0.49560324]])"
      ]
     },
     "execution_count": 20,
     "metadata": {},
     "output_type": "execute_result"
    }
   ],
   "source": [
    "# 기울기\n",
    "model_electric_df.coef_"
   ]
  },
  {
   "cell_type": "code",
   "execution_count": 21,
   "id": "68ed22cd-3a9d-48b9-ad17-a5d368c601ca",
   "metadata": {},
   "outputs": [
    {
     "data": {
      "text/plain": [
       "array([0.91958143])"
      ]
     },
     "execution_count": 21,
     "metadata": {},
     "output_type": "execute_result"
    }
   ],
   "source": [
    "# 절편\n",
    "model_electric_df.intercept_"
   ]
  },
  {
   "cell_type": "code",
   "execution_count": 22,
   "id": "83abebaf-90d7-4737-ac02-394ccef5c492",
   "metadata": {},
   "outputs": [
    {
     "data": {
      "text/plain": [
       "array([[2.50551178],\n",
       "       [3.14979599]])"
      ]
     },
     "execution_count": 22,
     "metadata": {},
     "output_type": "execute_result"
    }
   ],
   "source": [
    "#전기생산량이 3.2, 4.5 인경우 전기 사용량을 예측\n",
    "model_electric_df.predict([[3.2], [4.5]])"
   ]
  },
  {
   "cell_type": "code",
   "execution_count": 24,
   "id": "96b1e500-7544-4ea7-9867-feea342baea5",
   "metadata": {},
   "outputs": [
    {
     "data": {
      "image/png": "[encoded data removed]",
      "text/plain": [
       "<Figure size 432x288 with 1 Axes>"
      ]
     },
     "metadata": {
      "needs_background": "light"
     },
     "output_type": "display_data"
    }
   ],
   "source": [
    "# 실데이터와 예측데이터 그래프\n",
    "predict_y =model_electric_df.predict(x_data)\n",
    "\n",
    "plt.scatter(x_data, y_data)\n",
    "plt.plot(x_data, predict_y)\n",
    "plt.show()"
   ]
  },
  {
   "cell_type": "markdown",
   "id": "530e947d-288d-40e7-864e-80707f59efde",
   "metadata": {},
   "source": [
    "### 문제2\n",
    "- 선형회귀 통계공식을 파이썬코드로 직접 구현해서 1 번데이터 w,b를 구하시요"
   ]
  },
  {
   "cell_type": "code",
   "execution_count": 47,
   "id": "4ba9e986-ee5f-4ac3-a668-b9ca40d575a3",
   "metadata": {},
   "outputs": [],
   "source": [
    "#초기값 설정\n",
    "x = np.array(electric_df['전기생산량'])\n",
    "y = np.array(electric_df['전기사용량'])\n",
    "\n",
    "w = 2\n",
    "b = 3\n",
    "n = len(x)\n",
    "epochs = 100000\n",
    "learning_rate = 0.01"
   ]
  },
  {
   "cell_type": "code",
   "execution_count": 48,
   "id": "a1267c79-344e-4068-9ea2-2dce22a409ca",
   "metadata": {},
   "outputs": [
    {
     "name": "stdout",
     "output_type": "stream",
     "text": [
      "최종w :  0.49560323601826034\n",
      "최종b :  0.9195814280690613\n"
     ]
    }
   ],
   "source": [
    "history = []\n",
    "for i in range(epochs):\n",
    "    hy = w*x + b\n",
    "    cost = np.sum((hy-y)**2)/n\n",
    "    history.append(cost)\n",
    "    gradient_W = np.sum((w*x+b - y)*2*x)/n   # W에 대해 미분\n",
    "    gradient_B = np.sum((w*x+b - y)*2*1)/n   # B에 대해 미분\n",
    "    w = w - learning_rate*gradient_W    # w계산\n",
    "    b = b - learning_rate*gradient_B    # b계산\n",
    "    #print('cost: ', cost, 'w: ', w, 'b: ', b)\n",
    "\n",
    "print('최종w : ', w)\n",
    "print('최종b : ', b)"
   ]
  },
  {
   "cell_type": "markdown",
   "id": "70b23511-691a-42f7-86c5-858447173434",
   "metadata": {},
   "source": [
    "### 문제3\n",
    "- (3x+2)^3 에 대한 미분에 대한 전개과정을 적으시요. <br> (코딩이 아닌 과정을 텍스트로 적으면 됨)"
   ]
  },
  {
   "cell_type": "code",
   "execution_count": null,
   "id": "186b135d-7b0a-4ace-b797-a0e90434e927",
   "metadata": {},
   "outputs": [],
   "source": [
    "f(x) = (3x+2)^3\n",
    "t = 3x+2 로 치환\n",
    "f(x) = t^3\n",
    "f(x)' = 3t^2*t'\n",
    "      = 3t^2*t' (t에 대한 미분)\n",
    "      = 3(3x+2)^2*3\n",
    "      = 9(3x*2)^2"
   ]
  }
 ],
 "metadata": {
  "kernelspec": {
   "display_name": "Python 3",
   "language": "python",
   "name": "python3"
  },
  "language_info": {
   "codemirror_mode": {
    "name": "ipython",
    "version": 3
   },
   "file_extension": ".py",
   "mimetype": "text/x-python",
   "name": "python",
   "nbconvert_exporter": "python",
   "pygments_lexer": "ipython3",
   "version": "3.8.8"
  }
 },
 "nbformat": 4,
 "nbformat_minor": 5
}
