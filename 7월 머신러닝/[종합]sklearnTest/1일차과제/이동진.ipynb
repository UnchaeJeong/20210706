{
 "cells": [
  {
   "cell_type": "markdown",
   "metadata": {},
   "source": [
    "1. electric.csv  w, b를 구하시고\n",
    "전기생산량이 3.2, 4.5 인경우 전기 사용량을 예측하시요.\n",
    "scatter(실제데이터), plot(예측데이터)를 그리시요.\n",
    "\n",
    "\n",
    "2. 선형회귀 통계공식을 파이썬코드로 직접 구현해서\n",
    "1 번데이터 w,b를 구하시요\n",
    "\n",
    "3. (3x+2)^3 에 대한 미분에 대한 전개과정을\n",
    "적으시요. (코딩이 아닌 과정을 텍스트로 적으면 됨)"
   ]
  },
  {
   "cell_type": "code",
   "execution_count": 1,
   "metadata": {},
   "outputs": [],
   "source": [
    "import pandas as pd\n",
    "import numpy as np  # numpy 패키지 가져오기\n",
    "import matplotlib.pyplot as plt # 시각화 패키지 가져오기\n",
    "from sklearn.linear_model import LinearRegression # 공식\n",
    "from sklearn.neural_network import MLPRegressor # 학습\n",
    "import matplotlib.pyplot as plt\n",
    "import matplotlib\n",
    "matplotlib.rcParams['font.family']='Malgun Gothic'\n",
    "matplotlib.rcParams['axes.unicode_minus'] = False"
   ]
  },
  {
   "cell_type": "code",
   "execution_count": 16,
   "metadata": {},
   "outputs": [
    {
     "data": {
      "text/html": [
       "<div>\n",
       "<style scoped>\n",
       "    .dataframe tbody tr th:only-of-type {\n",
       "        vertical-align: middle;\n",
       "    }\n",
       "\n",
       "    .dataframe tbody tr th {\n",
       "        vertical-align: top;\n",
       "    }\n",
       "\n",
       "    .dataframe thead th {\n",
       "        text-align: right;\n",
       "    }\n",
       "</style>\n",
       "<table border=\"1\" class=\"dataframe\">\n",
       "  <thead>\n",
       "    <tr style=\"text-align: right;\">\n",
       "      <th></th>\n",
       "      <th>전기생산량</th>\n",
       "      <th>전기사용량</th>\n",
       "    </tr>\n",
       "  </thead>\n",
       "  <tbody>\n",
       "    <tr>\n",
       "      <th>0</th>\n",
       "      <td>3.52</td>\n",
       "      <td>2.48</td>\n",
       "    </tr>\n",
       "    <tr>\n",
       "      <th>1</th>\n",
       "      <td>2.58</td>\n",
       "      <td>2.27</td>\n",
       "    </tr>\n",
       "    <tr>\n",
       "      <th>2</th>\n",
       "      <td>3.31</td>\n",
       "      <td>2.47</td>\n",
       "    </tr>\n",
       "    <tr>\n",
       "      <th>3</th>\n",
       "      <td>4.07</td>\n",
       "      <td>2.77</td>\n",
       "    </tr>\n",
       "    <tr>\n",
       "      <th>4</th>\n",
       "      <td>4.62</td>\n",
       "      <td>2.98</td>\n",
       "    </tr>\n",
       "    <tr>\n",
       "      <th>5</th>\n",
       "      <td>3.98</td>\n",
       "      <td>3.05</td>\n",
       "    </tr>\n",
       "    <tr>\n",
       "      <th>6</th>\n",
       "      <td>4.29</td>\n",
       "      <td>3.18</td>\n",
       "    </tr>\n",
       "    <tr>\n",
       "      <th>7</th>\n",
       "      <td>4.83</td>\n",
       "      <td>3.46</td>\n",
       "    </tr>\n",
       "    <tr>\n",
       "      <th>8</th>\n",
       "      <td>3.71</td>\n",
       "      <td>3.03</td>\n",
       "    </tr>\n",
       "    <tr>\n",
       "      <th>9</th>\n",
       "      <td>4.61</td>\n",
       "      <td>3.25</td>\n",
       "    </tr>\n",
       "    <tr>\n",
       "      <th>10</th>\n",
       "      <td>3.90</td>\n",
       "      <td>2.67</td>\n",
       "    </tr>\n",
       "    <tr>\n",
       "      <th>11</th>\n",
       "      <td>3.20</td>\n",
       "      <td>2.53</td>\n",
       "    </tr>\n",
       "  </tbody>\n",
       "</table>\n",
       "</div>"
      ],
      "text/plain": [
       "    전기생산량  전기사용량\n",
       "0    3.52   2.48\n",
       "1    2.58   2.27\n",
       "2    3.31   2.47\n",
       "3    4.07   2.77\n",
       "4    4.62   2.98\n",
       "5    3.98   3.05\n",
       "6    4.29   3.18\n",
       "7    4.83   3.46\n",
       "8    3.71   3.03\n",
       "9    4.61   3.25\n",
       "10   3.90   2.67\n",
       "11   3.20   2.53"
      ]
     },
     "execution_count": 16,
     "metadata": {},
     "output_type": "execute_result"
    }
   ],
   "source": [
    "# 1번 문제\n",
    "elec = pd.read_csv('data/electric.csv')\n",
    "elec.drop(['Unnamed: 0'], axis=1)"
   ]
  },
  {
   "cell_type": "code",
   "execution_count": 22,
   "metadata": {},
   "outputs": [],
   "source": [
    "x_data = elec[['전기생산량']]\n",
    "y_data = elec['전기사용량']"
   ]
  },
  {
   "cell_type": "code",
   "execution_count": 28,
   "metadata": {},
   "outputs": [
    {
     "data": {
      "text/plain": [
       "LinearRegression()"
      ]
     },
     "execution_count": 28,
     "metadata": {},
     "output_type": "execute_result"
    }
   ],
   "source": [
    "modelElec = LinearRegression()\n",
    "modelElec.fit(x_data, y_data)"
   ]
  },
  {
   "cell_type": "code",
   "execution_count": 29,
   "metadata": {},
   "outputs": [
    {
     "name": "stdout",
     "output_type": "stream",
     "text": [
      "[0.49560324]\n",
      "0.919581428068942\n"
     ]
    }
   ],
   "source": [
    "# w(기울기), b(절편) 구하기\n",
    "print(modelElec.coef_) # w(기울기) \n",
    "print(modelElec.intercept_) # b(절편)"
   ]
  },
  {
   "cell_type": "code",
   "execution_count": 30,
   "metadata": {},
   "outputs": [
    {
     "data": {
      "image/png": "[encoded data removed]",
      "text/plain": [
       "<Figure size 432x288 with 1 Axes>"
      ]
     },
     "metadata": {
      "needs_background": "light"
     },
     "output_type": "display_data"
    }
   ],
   "source": [
    "# 실제데이터, 예측데이터 그림\n",
    "plt.xlabel('전기생상량')\n",
    "plt.ylabel('전기사용량')\n",
    "y_predict = modelElec.predict(x_data)\n",
    "plt.scatter(x_data,y_data)\n",
    "plt.plot(x_data,y_predict,'r')\n",
    "plt.show()"
   ]
  },
  {
   "cell_type": "code",
   "execution_count": 25,
   "metadata": {},
   "outputs": [
    {
     "data": {
      "text/plain": [
       "array([2.50551178, 3.14979599])"
      ]
     },
     "execution_count": 25,
     "metadata": {},
     "output_type": "execute_result"
    }
   ],
   "source": [
    "# 전기생산량이 3.2, 4.5 인 경우 전기 사용량 예측\n",
    "modelElec.predict([[3.2],[4.5]])"
   ]
  },
  {
   "cell_type": "code",
   "execution_count": 40,
   "metadata": {},
   "outputs": [
    {
     "name": "stdout",
     "output_type": "stream",
     "text": [
      "Epoch (         0/       100) cost:   8.218100, W:   0.225049, b:  0.056900\n",
      "W:   0.674457\n",
      "b:   0.207319\n",
      "result : \n",
      "[2.58140713 1.94741763 2.43977118 2.95235844 3.32330974 2.89165731\n",
      " 3.10073896 3.46494569 2.70955395 3.31656517 2.83770076 2.36558092]\n"
     ]
    }
   ],
   "source": [
    "# 2번 문제\n",
    "\n",
    "x_data2 = elec['전기생산량']\n",
    "x_train = np.array(x_data2)\n",
    "y_train = np.array(y_data)\n",
    "\n",
    "W = 0.0\n",
    "b = 0.0\n",
    "\n",
    "n_data = len(x_train)\n",
    "\n",
    "epochs = 100\n",
    "learning_rate = 0.01\n",
    "\n",
    "for i in range(epochs):\n",
    "    hypothesis = x_train * W + b\n",
    "    cost = np.sum((hypothesis - y_train) ** 2) / n_data\n",
    "    gradient_w = np.sum((W * x_train - y_train + b) * 2 * x_train) / n_data\n",
    "    gradient_b = np.sum((W * x_train - y_train + b) * 2) / n_data\n",
    "\n",
    "    W -= learning_rate * gradient_w\n",
    "    b -= learning_rate * gradient_b\n",
    "\n",
    "    if i % 100 == 0:\n",
    "        print('Epoch ({:10d}/{:10d}) cost: {:10f}, W: {:10f}, b:{:10f}'.format(i, epochs, cost, W, b))\n",
    "\n",
    "print('W: {:10f}'.format(W))\n",
    "print('b: {:10f}'.format(b))\n",
    "print('result : ')\n",
    "print(x_train * W + b)"
   ]
  },
  {
   "cell_type": "code",
   "execution_count": null,
   "metadata": {},
   "outputs": [],
   "source": [
    "# 3번 문제\n",
    "# (3x+2)^3 에 대한 미분 전개과정은?\n",
    "# 3이 앞으로 와서 3(3x+2)^2 * 3 = 9(3x+2)^2 으로 미분됨"
   ]
  },
  {
   "cell_type": "code",
   "execution_count": 38,
   "metadata": {},
   "outputs": [
    {
     "data": {
      "text/plain": [
       "array([[3.52],\n",
       "       [2.58],\n",
       "       [3.31],\n",
       "       [4.07],\n",
       "       [4.62],\n",
       "       [3.98],\n",
       "       [4.29],\n",
       "       [4.83],\n",
       "       [3.71],\n",
       "       [4.61],\n",
       "       [3.9 ],\n",
       "       [3.2 ]])"
      ]
     },
     "execution_count": 38,
     "metadata": {},
     "output_type": "execute_result"
    }
   ],
   "source": [
    "x_train"
   ]
  },
  {
   "cell_type": "code",
   "execution_count": 39,
   "metadata": {},
   "outputs": [
    {
     "data": {
      "text/plain": [
       "array([2.48, 2.27, 2.47, 2.77, 2.98, 3.05, 3.18, 3.46, 3.03, 3.25, 2.67,\n",
       "       2.53])"
      ]
     },
     "execution_count": 39,
     "metadata": {},
     "output_type": "execute_result"
    }
   ],
   "source": [
    "y_train"
   ]
  },
  {
   "cell_type": "code",
   "execution_count": null,
   "metadata": {},
   "outputs": [],
   "source": []
  }
 ],
 "metadata": {
  "kernelspec": {
   "display_name": "Python 3",
   "language": "python",
   "name": "python3"
  },
  "language_info": {
   "codemirror_mode": {
    "name": "ipython",
    "version": 3
   },
   "file_extension": ".py",
   "mimetype": "text/x-python",
   "name": "python",
   "nbconvert_exporter": "python",
   "pygments_lexer": "ipython3",
   "version": "3.8.5"
  }
 },
 "nbformat": 4,
 "nbformat_minor": 4
}
