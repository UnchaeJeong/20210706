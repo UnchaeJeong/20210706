{
 "cells": [
  {
   "cell_type": "code",
   "execution_count": 4,
   "id": "medical-consent",
   "metadata": {},
   "outputs": [],
   "source": [
    "import matplotlib.pyplot as plt\n",
    "import matplotlib\n",
    "import numpy as np\n",
    "from sklearn.linear_model import LinearRegression\n",
    "from sklearn.neural_network import MLPRegressor\n",
    "import pandas as pd"
   ]
  },
  {
   "cell_type": "markdown",
   "id": "incident-involvement",
   "metadata": {},
   "source": [
    "## 1번"
   ]
  },
  {
   "cell_type": "code",
   "execution_count": 22,
   "id": "owned-earth",
   "metadata": {},
   "outputs": [
    {
     "name": "stdout",
     "output_type": "stream",
     "text": [
      "[0.49560324] 0.9195814280689416\n"
     ]
    },
    {
     "data": {
      "image/png": "[encoded data removed]",
      "text/plain": [
       "<Figure size 432x288 with 1 Axes>"
      ]
     },
     "metadata": {
      "needs_background": "light"
     },
     "output_type": "display_data"
    }
   ],
   "source": [
    "electric = pd.read_csv('electric.csv')\n",
    "electric.drop(['Unnamed: 0'],axis=1,inplace=True)\n",
    "\n",
    "x_data = np.array(electric['전기생산량']).reshape(-1,1)\n",
    "y_data = np.array(electric['전기사용량'])\n",
    "\n",
    "\n",
    "model_electric = LinearRegression()\n",
    "\n",
    "model_electric.fit(x_data,y_data)\n",
    "\n",
    "w = model_electric.coef_\n",
    "b = model_electric.intercept_\n",
    "\n",
    "y_predict = model_electric.predict(x_data)\n",
    "print(w,b)\n",
    "\n",
    "plt.scatter(x_data,y_data)\n",
    "plt.plot(x_data,y_predict,'r')\n",
    "plt.show()"
   ]
  },
  {
   "cell_type": "markdown",
   "id": "incorporated-headquarters",
   "metadata": {},
   "source": [
    "## 2번"
   ]
  },
  {
   "cell_type": "code",
   "execution_count": 23,
   "id": "august-thread",
   "metadata": {},
   "outputs": [
    {
     "name": "stdout",
     "output_type": "stream",
     "text": [
      "0번째 ==> cost: 5710.6732 , w : 2.9395498 , b: 4.48208\n",
      "100번째 ==> cost: 1.6874731128614915 , w : -0.20023470644106842 , b: 3.6424099299751114\n",
      "200번째 ==> cost: 1.6654765235201079 , w : -0.18881896575641674 , b: 3.596948155931253\n",
      "300번째 ==> cost: 1.6459165678985714 , w : -0.1780540569764607 , b: 3.554078239376904\n",
      "400번째 ==> cost: 1.6285233321573986 , w : -0.16790287500396006 , b: 3.5136524138557985\n",
      "500번째 ==> cost: 1.6130568016906883 , w : -0.15833043016999354 , b: 3.4755313373430696\n",
      "600번째 ==> cost: 1.5993035490908027 , w : -0.14930372762958305 , b: 3.439583611953249\n",
      "700번째 ==> cost: 1.5870737889979771 , w : -0.14079165363319635 , b: 3.4056853310306088\n",
      "800번째 ==> cost: 1.5761987591938043 , w : -0.13276486828211229 , b: 3.3737196520606796\n",
      "900번째 ==> cost: 1.5665283917995148 , w : -0.12519570439799566 , b: 3.343576393930851\n",
      "최종 W 는 -0.11812739437115903 , 최종 b는 3.315427724283509\n"
     ]
    }
   ],
   "source": [
    "x = np.copy(x_data)\n",
    "y = np.copy(y_data)\n",
    "hist=[]\n",
    "w = 5\n",
    "b = 5\n",
    "n = len(x)\n",
    "\n",
    "epochs = 1000\n",
    "\n",
    "learning_rate = 0.001\n",
    "\n",
    "for i in range(epochs):\n",
    "    \n",
    "    hy = w * x +b\n",
    "    cost = np.sum((hy-y)**2)/len(x)\n",
    "    hist.append(cost)\n",
    "    gradientW = np.sum((w*x+b -y)*2*x) /len(x)\n",
    "    gradientB = np.sum((w*x+b -y)*2) /len(x)\n",
    "    \n",
    "    w = w - learning_rate * gradientW\n",
    "    b = b - learning_rate * gradientB\n",
    "    \n",
    "    if i % 100 == 0:\n",
    "        print(f\"{i}번째 ==> cost: {cost} , w : {w} , b: {b}\")\n",
    "    \n",
    "print(f\"최종 W 는 {w} , 최종 b는 {b}\")"
   ]
  },
  {
   "cell_type": "code",
   "execution_count": 21,
   "id": "mysterious-sheep",
   "metadata": {},
   "outputs": [
    {
     "data": {
      "image/png": "[encoded data removed]",
      "text/plain": [
       "<Figure size 432x288 with 1 Axes>"
      ]
     },
     "metadata": {
      "needs_background": "light"
     },
     "output_type": "display_data"
    }
   ],
   "source": [
    "plt.plot(hist)\n",
    "plt.show()"
   ]
  },
  {
   "cell_type": "markdown",
   "id": "synthetic-shell",
   "metadata": {},
   "source": [
    "## 3번"
   ]
  },
  {
   "cell_type": "markdown",
   "id": "ordered-friend",
   "metadata": {},
   "source": [
    "$$ y = (3x+2)^3 $$\n",
    "\n",
    "$$ y' = 3 * (3x+2)^2 * 3 $$ "
   ]
  }
 ],
 "metadata": {
  "kernelspec": {
   "display_name": "Python 3",
   "language": "python",
   "name": "python3"
  },
  "language_info": {
   "codemirror_mode": {
    "name": "ipython",
    "version": 3
   },
   "file_extension": ".py",
   "mimetype": "text/x-python",
   "name": "python",
   "nbconvert_exporter": "python",
   "pygments_lexer": "ipython3",
   "version": "3.9.1"
  }
 },
 "nbformat": 4,
 "nbformat_minor": 5
}
