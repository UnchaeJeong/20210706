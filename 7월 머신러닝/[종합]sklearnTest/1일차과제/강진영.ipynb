{
 "cells": [
  {
   "cell_type": "code",
   "execution_count": 1,
   "id": "8b392413",
   "metadata": {},
   "outputs": [],
   "source": [
    "import matplotlib.pyplot as plt\n",
    "import numpy as np\n",
    "from sklearn.linear_model import LinearRegression #통계 공식대로 만들어지는거\n",
    "from sklearn.neural_network import MLPRegressor #학습을 통해 만들어짐\n",
    "import matplotlib.pyplot as plt\n",
    "import matplotlib\n",
    "import pandas as pd\n",
    "matplotlib.rcParams['font.family']='Malgun Gothic'\n",
    "matplotlib.rcParams['axes.unicode_minus']=False"
   ]
  },
  {
   "cell_type": "code",
   "execution_count": 7,
   "id": "00350764",
   "metadata": {},
   "outputs": [
    {
     "name": "stdout",
     "output_type": "stream",
     "text": [
      "w: [[0.49560324]]\n",
      "b: [0.91958143]\n",
      "yhat:  [[2.50551178]\n",
      " [3.14979599]]\n"
     ]
    },
    {
     "data": {
      "image/png": "[encoded data removed]",
      "text/plain": [
       "<Figure size 432x288 with 1 Axes>"
      ]
     },
     "metadata": {
      "needs_background": "light"
     },
     "output_type": "display_data"
    }
   ],
   "source": [
    "#1. electric.csv  w, b를 구하시고\n",
    "# 전기생산량이 3.2, 4.5 인경우 전기 사용량을 예측하시요.\n",
    "# scatter(실제데이터), plot(예측데이터)를 그리시요.\n",
    "\n",
    "e_df=pd.read_csv('data/electric.csv')\n",
    "e_df.head()\n",
    "x=e_df[['전기생산량']]\n",
    "y=e_df[['전기사용량']]\n",
    "\n",
    "model_elec=LinearRegression()\n",
    "model_elec.fit(x,y)\n",
    "yhat=model_elec.predict(x)\n",
    "print('w:',model_elec.coef_)\n",
    "print('b:',model_elec.intercept_)\n",
    "print('yhat: ',model_elec.predict([[3.2],[4.5]]))\n",
    "plt.scatter(x,y)\n",
    "plt.plot(x, yhat,\"r\")\n",
    "plt.show()"
   ]
  },
  {
   "cell_type": "code",
   "execution_count": 8,
   "id": "1d3e80e3",
   "metadata": {},
   "outputs": [
    {
     "name": "stdout",
     "output_type": "stream",
     "text": [
      "bhat1 0.4956032360182904\n",
      "bhat0 0.919581428068942\n"
     ]
    }
   ],
   "source": [
    "#2. 선형회귀 통계공식을 파이썬코드로 직접 구현해서\n",
    "# 1 번데이터 w,b를 구하시요\n",
    "x=np.array(e_df['전기생산량'])\n",
    "y=np.array(e_df['전기사용량'])\n",
    "x_mu=np.mean(x)\n",
    "y_mu=np.mean(y)\n",
    "\n",
    "b1=np.sum((x-x_mu)*(y-y_mu))/np.sum((x-x_mu)**2)\n",
    "b0= y_mu-b1*x_mu\n",
    "\n",
    "print(\"bhat1\",b1)\n",
    "print(\"bhat0\",b0)"
   ]
  },
  {
   "cell_type": "code",
   "execution_count": null,
   "id": "6e68e8ee",
   "metadata": {},
   "outputs": [],
   "source": [
    "#3. (3x+2)^3 에 대한 미분에 대한 전개과정을\n",
    "# 적으시요. (코딩이 아닌 과정을 텍스트로 적으면 됨)\n",
    "\n",
    "d/dx = 3*(3x+2)^2 *d/dx(3x+2)\n",
    "    = 3*3*(3x+2)^2"
   ]
  }
 ],
 "metadata": {
  "kernelspec": {
   "display_name": "Python 3",
   "language": "python",
   "name": "python3"
  },
  "language_info": {
   "codemirror_mode": {
    "name": "ipython",
    "version": 3
   },
   "file_extension": ".py",
   "mimetype": "text/x-python",
   "name": "python",
   "nbconvert_exporter": "python",
   "pygments_lexer": "ipython3",
   "version": "3.8.8"
  },
  "toc": {
   "base_numbering": 1,
   "nav_menu": {},
   "number_sections": true,
   "sideBar": true,
   "skip_h1_title": false,
   "title_cell": "Table of Contents",
   "title_sidebar": "Contents",
   "toc_cell": false,
   "toc_position": {},
   "toc_section_display": true,
   "toc_window_display": false
  }
 },
 "nbformat": 4,
 "nbformat_minor": 5
}
