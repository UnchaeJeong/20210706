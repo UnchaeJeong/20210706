{
 "cells": [
  {
   "cell_type": "markdown",
   "id": "e386efa3",
   "metadata": {},
   "source": [
    "# 로지스틱 회귀 (Logistic Regression)\n",
    "\n",
    "* 로지스틱 회귀는 이름에 회귀라는 단어가 들어가지만, 가능한 클래스가 2개인 이진 분류를 위한 모델\n",
    "* 로지스틱 회귀의 예측 함수 정의\n",
    "\n",
    "\\begin{equation}\n",
    "\\sigma(x) = \\frac{1}{1 + e^{-x}} \\\\\n",
    "\\hat{y} = \\sigma(b + w x) \n",
    "\\end{equation}\n",
    "\\begin{equation}\n",
    "\\hat{y} = \\sigma(b + w_1 x_1 + ... + w_p x_p)\n",
    "\\end{equation}\n",
    "\n",
    "  + $\\sigma$: 시그모이드 함수\n",
    "  \n",
    "* 로지스틱 회귀 모델은 선형 회귀 모델에 시그모이드 함수를 적용\n",
    "\n",
    "* 로지스틱 회귀의 학습 목표는 다음과 같은 목적 함수를 최소화 하는 파라미터 $w$를 찾는 것\n",
    "\n",
    "\\begin{equation}\n",
    "BinaryCrossEntropy = -\\frac{1}{N}\\sum_{i=1}^{N}y_i\\log(\\hat{y}_i) + (1-y_i)\\log(1-\\hat{y}_i)\n",
    "\\end{equation}"
   ]
  },
  {
   "cell_type": "code",
   "execution_count": 1,
   "id": "ebbec918",
   "metadata": {},
   "outputs": [],
   "source": [
    "from sklearn.datasets import make_classification\n",
    "from sklearn.linear_model import LogisticRegression\n",
    "from sklearn.model_selection import train_test_split\n",
    "from sklearn.model_selection import cross_val_score\n",
    "import sklearn.metrics as metrics\n",
    "import math\n",
    "import pandas as pd\n",
    "import numpy as np\n",
    "import matplotlib.pyplot as plt"
   ]
  },
  {
   "cell_type": "code",
   "execution_count": 2,
   "id": "36a7d85c",
   "metadata": {},
   "outputs": [],
   "source": [
    "#공부한시간, 출석일수\n",
    "x_data = np.array( [[1,3],[2,2],[3,1],[4,6],[5,5],[6,4],])\n",
    "y_data = np.array( [0,0,0,1,1,1])"
   ]
  },
  {
   "cell_type": "code",
   "execution_count": 3,
   "id": "2b794199",
   "metadata": {},
   "outputs": [
    {
     "data": {
      "text/plain": [
       "LogisticRegression()"
      ]
     },
     "execution_count": 3,
     "metadata": {},
     "output_type": "execute_result"
    }
   ],
   "source": [
    "model_logi = LogisticRegression()\n",
    "model_logi.fit( x_data, y_data )"
   ]
  },
  {
   "cell_type": "code",
   "execution_count": 4,
   "id": "d2db69a5",
   "metadata": {},
   "outputs": [
    {
     "data": {
      "text/plain": [
       "array([[0.78341156, 0.78341156]])"
      ]
     },
     "execution_count": 4,
     "metadata": {},
     "output_type": "execute_result"
    }
   ],
   "source": [
    "model_logi.coef_"
   ]
  },
  {
   "cell_type": "code",
   "execution_count": 5,
   "id": "733abac8",
   "metadata": {},
   "outputs": [
    {
     "data": {
      "text/plain": [
       "array([-5.48382067])"
      ]
     },
     "execution_count": 5,
     "metadata": {},
     "output_type": "execute_result"
    }
   ],
   "source": [
    "model_logi.intercept_"
   ]
  },
  {
   "cell_type": "code",
   "execution_count": 6,
   "id": "709103f5",
   "metadata": {},
   "outputs": [
    {
     "data": {
      "text/plain": [
       "array([[0.01951014, 0.98048986]])"
      ]
     },
     "execution_count": 6,
     "metadata": {},
     "output_type": "execute_result"
    }
   ],
   "source": [
    "model_logi.predict_proba( [[6,6]] ) # 1x2  2x1"
   ]
  },
  {
   "cell_type": "code",
   "execution_count": 9,
   "id": "f12cf0c1",
   "metadata": {},
   "outputs": [
    {
     "data": {
      "text/plain": [
       "array([1], dtype=int64)"
      ]
     },
     "execution_count": 9,
     "metadata": {},
     "output_type": "execute_result"
    }
   ],
   "source": [
    "model_logi.predict_proba( [[6,6]] ).argmax( axis=1)"
   ]
  },
  {
   "cell_type": "code",
   "execution_count": 7,
   "id": "d9f69d88",
   "metadata": {},
   "outputs": [
    {
     "data": {
      "text/plain": [
       "array([1])"
      ]
     },
     "execution_count": 7,
     "metadata": {},
     "output_type": "execute_result"
    }
   ],
   "source": [
    "model_logi.predict( [[6,6]])"
   ]
  },
  {
   "cell_type": "code",
   "execution_count": 10,
   "id": "d0941952",
   "metadata": {},
   "outputs": [],
   "source": [
    "def sigmoid( z ):\n",
    "    return 1/(1+math.e**-z )"
   ]
  },
  {
   "cell_type": "code",
   "execution_count": 13,
   "id": "5f9745ad",
   "metadata": {
    "collapsed": true
   },
   "outputs": [
    {
     "data": {
      "text/plain": [
       "array([[0.78341156],\n",
       "       [0.78341156]])"
      ]
     },
     "execution_count": 13,
     "metadata": {},
     "output_type": "execute_result"
    }
   ],
   "source": [
    "w=model_logi.coef_.reshape( 2,1)\n",
    "w"
   ]
  },
  {
   "cell_type": "code",
   "execution_count": 17,
   "id": "159a13e7",
   "metadata": {},
   "outputs": [
    {
     "data": {
      "text/plain": [
       "array([[3.9171181]])"
      ]
     },
     "execution_count": 17,
     "metadata": {},
     "output_type": "execute_result"
    }
   ],
   "source": [
    "z = np.matmul( [[6,6]], w ) + model_logi.intercept_\n",
    "z"
   ]
  },
  {
   "cell_type": "code",
   "execution_count": 19,
   "id": "4f4fa8ff",
   "metadata": {},
   "outputs": [
    {
     "data": {
      "text/plain": [
       "array([[0.98048986]])"
      ]
     },
     "execution_count": 19,
     "metadata": {},
     "output_type": "execute_result"
    }
   ],
   "source": [
    "sigmoid( z )"
   ]
  }
 ],
 "metadata": {
  "kernelspec": {
   "display_name": "Python 3",
   "language": "python",
   "name": "python3"
  },
  "language_info": {
   "codemirror_mode": {
    "name": "ipython",
    "version": 3
   },
   "file_extension": ".py",
   "mimetype": "text/x-python",
   "name": "python",
   "nbconvert_exporter": "python",
   "pygments_lexer": "ipython3",
   "version": "3.8.8"
  }
 },
 "nbformat": 4,
 "nbformat_minor": 5
}
