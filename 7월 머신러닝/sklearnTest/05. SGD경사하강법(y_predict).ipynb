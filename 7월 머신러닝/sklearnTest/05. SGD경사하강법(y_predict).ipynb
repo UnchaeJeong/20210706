{
 "cells": [
  {
   "cell_type": "markdown",
   "id": "03ca7605-56dd-4a2e-a43c-cc140ef087b7",
   "metadata": {},
   "source": [
    "# 추가된 패키지\n",
    "###### SGDRegressor  # 딥러닝 학습\n",
    "###### MLPRegressor # 딥러닝 학습"
   ]
  },
  {
   "cell_type": "markdown",
   "id": "4196e122-8fe3-45e5-8ac2-da48322bd21a",
   "metadata": {},
   "source": [
    "from sklearn.linear_model import LinearRegression, \n",
    "\n",
    "SGDRegressor # 통계 공식, # 딥러닝 학습"
   ]
  },
  {
   "cell_type": "code",
   "execution_count": 5,
   "id": "6417232a-0b89-497b-94ce-eddf0c244f08",
   "metadata": {},
   "outputs": [],
   "source": [
    "import pandas as pd\n",
    "import numpy as np\n",
    "from sklearn.linear_model import LinearRegression, SGDRegressor # 통계 공식, # 딥러닝 학습\n",
    "from sklearn.neural_network import MLPRegressor #학습. 인공지능에서 중요한 부분(딥러닝)\n",
    "import matplotlib.pyplot as plt\n",
    "import matplotlib\n",
    "matplotlib.rcParams['font.family']='Malgun Gothic'\n",
    "matplotlib.rcParams['axes.unicode_minus'] = False"
   ]
  },
  {
   "cell_type": "markdown",
   "id": "532dde01-f6d7-424b-be28-4cb50067504a",
   "metadata": {},
   "source": [
    "###### df_car 읽어오기"
   ]
  },
  {
   "cell_type": "code",
   "execution_count": 6,
   "id": "ce337291-3026-4ed0-9c24-9a38d9bf42fd",
   "metadata": {},
   "outputs": [
    {
     "data": {
      "text/html": [
       "<div>\n",
       "<style scoped>\n",
       "    .dataframe tbody tr th:only-of-type {\n",
       "        vertical-align: middle;\n",
       "    }\n",
       "\n",
       "    .dataframe tbody tr th {\n",
       "        vertical-align: top;\n",
       "    }\n",
       "\n",
       "    .dataframe thead th {\n",
       "        text-align: right;\n",
       "    }\n",
       "</style>\n",
       "<table border=\"1\" class=\"dataframe\">\n",
       "  <thead>\n",
       "    <tr style=\"text-align: right;\">\n",
       "      <th></th>\n",
       "      <th>speed</th>\n",
       "      <th>dist</th>\n",
       "    </tr>\n",
       "  </thead>\n",
       "  <tbody>\n",
       "    <tr>\n",
       "      <th>0</th>\n",
       "      <td>4</td>\n",
       "      <td>2</td>\n",
       "    </tr>\n",
       "    <tr>\n",
       "      <th>1</th>\n",
       "      <td>4</td>\n",
       "      <td>10</td>\n",
       "    </tr>\n",
       "    <tr>\n",
       "      <th>2</th>\n",
       "      <td>7</td>\n",
       "      <td>4</td>\n",
       "    </tr>\n",
       "  </tbody>\n",
       "</table>\n",
       "</div>"
      ],
      "text/plain": [
       "   speed  dist\n",
       "0      4     2\n",
       "1      4    10\n",
       "2      7     4"
      ]
     },
     "execution_count": 6,
     "metadata": {},
     "output_type": "execute_result"
    }
   ],
   "source": [
    "carDF = pd.read_csv('data/cars.csv')\n",
    "carDF.columns = ['speed','dist']\n",
    "carDF.head(3)"
   ]
  },
  {
   "cell_type": "markdown",
   "id": "39f586b0-2b91-45f9-976d-2cccaf219cd1",
   "metadata": {},
   "source": [
    "### 특성데이터"
   ]
  },
  {
   "cell_type": "code",
   "execution_count": 15,
   "id": "f5ee4ab3-8021-471d-b53e-46baea1cf0bb",
   "metadata": {},
   "outputs": [],
   "source": [
    "x_data = carDF[['speed']] \n",
    "y_data = carDF['dist']"
   ]
  },
  {
   "cell_type": "markdown",
   "id": "7ca4611f-0664-4372-bcf3-da95bca7b4e4",
   "metadata": {},
   "source": [
    "### SGDRegressor()"
   ]
  },
  {
   "cell_type": "code",
   "execution_count": 16,
   "id": "1cf81170-c416-4070-a2d8-ec6dc383715e",
   "metadata": {
    "collapsed": true,
    "jupyter": {
     "outputs_hidden": true
    },
    "tags": []
   },
   "outputs": [
    {
     "name": "stdout",
     "output_type": "stream",
     "text": [
      "-- Epoch 1\n",
      "Norm: 3.36, NNZs: 1, Bias: 0.153634, T: 45, Avg. loss: 561.785411\n",
      "Total training time: 0.00 seconds.\n",
      "-- Epoch 2\n",
      "Norm: 3.35, NNZs: 1, Bias: -0.253812, T: 90, Avg. loss: 377.460413\n",
      "Total training time: 0.00 seconds.\n",
      "-- Epoch 3\n",
      "Norm: 3.15, NNZs: 1, Bias: -0.586875, T: 135, Avg. loss: 255.481891\n",
      "Total training time: 0.00 seconds.\n",
      "-- Epoch 4\n",
      "Norm: 2.98, NNZs: 1, Bias: -0.755168, T: 180, Avg. loss: 186.498040\n",
      "Total training time: 0.00 seconds.\n",
      "-- Epoch 5\n",
      "Norm: 3.60, NNZs: 1, Bias: -0.961468, T: 225, Avg. loss: 151.349200\n",
      "Total training time: 0.01 seconds.\n",
      "-- Epoch 6\n",
      "Norm: 1.68, NNZs: 1, Bias: -1.288176, T: 270, Avg. loss: 192.432578\n",
      "Total training time: 0.01 seconds.\n",
      "-- Epoch 7\n",
      "Norm: 2.18, NNZs: 1, Bias: -1.457915, T: 315, Avg. loss: 169.044442\n",
      "Total training time: 0.01 seconds.\n",
      "-- Epoch 8\n",
      "Norm: 2.94, NNZs: 1, Bias: -1.642318, T: 360, Avg. loss: 239.598484\n",
      "Total training time: 0.01 seconds.\n",
      "-- Epoch 9\n",
      "Norm: 2.09, NNZs: 1, Bias: -1.945633, T: 405, Avg. loss: 219.000245\n",
      "Total training time: 0.01 seconds.\n",
      "-- Epoch 10\n",
      "Norm: 2.45, NNZs: 1, Bias: -2.060400, T: 450, Avg. loss: 173.273081\n",
      "Total training time: 0.01 seconds.\n",
      "-- Epoch 11\n",
      "Norm: 4.08, NNZs: 1, Bias: -2.160265, T: 495, Avg. loss: 180.290805\n",
      "Total training time: 0.01 seconds.\n",
      "Convergence after 11 epochs took 0.01 seconds\n"
     ]
    },
    {
     "data": {
      "text/plain": [
       "SGDRegressor(alpha=0.001, early_stopping=True, max_iter=200, verbose=1)"
      ]
     },
     "execution_count": 16,
     "metadata": {},
     "output_type": "execute_result"
    }
   ],
   "source": [
    "# max_iter = 1000 (학습횟수, 디폴트 값 1000)\n",
    "# alpha=0.0001 (런닝레이트)\n",
    "# early_stopping=True (cost값 변화가 없으면 학습종료(그만 돌리고 빠져나가는 것.)\n",
    "# verbose=0(\"말 수가 많다.\" 1,2,3 넣으면 학습 완료 후 진행과정을 알 수 있다.)\n",
    "# SGD 미분+알파 경사하강법을 이용한 Regressor\n",
    "modelSGD = SGDRegressor(max_iter=200, alpha=0.001,early_stopping=True,verbose=1)\n",
    "modelSGD.fit(x_data, y_data)"
   ]
  },
  {
   "cell_type": "markdown",
   "id": "78fd2e40-7afc-4df5-be25-e6b3e8cb5ffb",
   "metadata": {},
   "source": [
    "### 기울기 weight"
   ]
  },
  {
   "cell_type": "code",
   "execution_count": 17,
   "id": "964e440e-206f-41f5-b34d-b35410d73429",
   "metadata": {},
   "outputs": [
    {
     "data": {
      "text/plain": [
       "array([4.08396894])"
      ]
     },
     "execution_count": 17,
     "metadata": {},
     "output_type": "execute_result"
    }
   ],
   "source": [
    "modelSGD.coef_"
   ]
  },
  {
   "cell_type": "markdown",
   "id": "3593a65a-7d21-440f-a9d0-35d612306963",
   "metadata": {},
   "source": [
    "### 절편 bias"
   ]
  },
  {
   "cell_type": "code",
   "execution_count": 18,
   "id": "9c874158-6208-474f-a72e-2901e567b8bb",
   "metadata": {},
   "outputs": [
    {
     "data": {
      "text/plain": [
       "array([-2.16026536])"
      ]
     },
     "execution_count": 18,
     "metadata": {},
     "output_type": "execute_result"
    }
   ],
   "source": [
    "modelSGD.intercept_"
   ]
  },
  {
   "cell_type": "markdown",
   "id": "19474934-386d-4ca0-98a3-81149c8488fc",
   "metadata": {},
   "source": [
    "### y_predict 구하기\n",
    "###### plt.scatter\n",
    "###### plt.plot"
   ]
  },
  {
   "cell_type": "code",
   "execution_count": 19,
   "id": "7a57e0c3-94a2-4158-aee0-4fa332c1c2c7",
   "metadata": {},
   "outputs": [
    {
     "data": {
      "image/png": "[encoded data removed]",
      "text/plain": [
       "<Figure size 432x288 with 1 Axes>"
      ]
     },
     "metadata": {
      "needs_background": "light"
     },
     "output_type": "display_data"
    }
   ],
   "source": [
    "y_predict = modelSGD.predict(x_data)\n",
    "plt.scatter(x_data,y_data)\n",
    "plt.plot(x_data,y_predict,'r')\n",
    "plt.show()"
   ]
  },
  {
   "cell_type": "code",
   "execution_count": null,
   "id": "7a71d751-7aa6-4ab3-a221-ca88891111f8",
   "metadata": {},
   "outputs": [],
   "source": []
  }
 ],
 "metadata": {
  "kernelspec": {
   "display_name": "Python 3",
   "language": "python",
   "name": "python3"
  },
  "language_info": {
   "codemirror_mode": {
    "name": "ipython",
    "version": 3
   },
   "file_extension": ".py",
   "mimetype": "text/x-python",
   "name": "python",
   "nbconvert_exporter": "python",
   "pygments_lexer": "ipython3",
   "version": "3.8.8"
  },
  "toc-autonumbering": false
 },
 "nbformat": 4,
 "nbformat_minor": 5
}
