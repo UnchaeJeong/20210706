{
 "cells": [
  {
   "cell_type": "markdown",
   "id": "d57fb7f0-7ed9-47a3-ab36-09c80fc59f9b",
   "metadata": {},
   "source": [
    "# 추가한 패키지\n",
    "* from sklearn.linear_model import Ridge,Lasso,ElasticNet, LinearRegression\n",
    "* from sklearn.preprocessing import PolynomialFeatures\n",
    "\n",
    "* from sklearn.model_selection import GridSearchCV\n",
    "\n",
    "* import mglearn\n",
    "\n",
    "\n",
    "* import warnings\n",
    "* warnings.simplefilter('ignore')"
   ]
  },
  {
   "cell_type": "code",
   "execution_count": 1,
   "id": "607512e4-fbfb-4a41-b565-cd7e4ac8d843",
   "metadata": {},
   "outputs": [
    {
     "name": "stdout",
     "output_type": "stream",
     "text": [
      "Requirement already satisfied: mglearn in c:\\users\\medici\\anaconda3\\lib\\site-packages (0.1.9)\n",
      "Requirement already satisfied: pandas in c:\\users\\medici\\anaconda3\\lib\\site-packages (from mglearn) (1.3.0)\n",
      "Requirement already satisfied: scikit-learn in c:\\users\\medici\\anaconda3\\lib\\site-packages (from mglearn) (0.24.2)\n",
      "Requirement already satisfied: numpy in c:\\users\\medici\\anaconda3\\lib\\site-packages (from mglearn) (1.21.0)\n",
      "Requirement already satisfied: imageio in c:\\users\\medici\\anaconda3\\lib\\site-packages (from mglearn) (2.9.0)\n",
      "Requirement already satisfied: cycler in c:\\users\\medici\\anaconda3\\lib\\site-packages (from mglearn) (0.10.0)\n",
      "Requirement already satisfied: matplotlib in c:\\users\\medici\\anaconda3\\lib\\site-packages (from mglearn) (3.4.2)\n",
      "Requirement already satisfied: joblib in c:\\users\\medici\\anaconda3\\lib\\site-packages (from mglearn) (1.0.1)\n",
      "Requirement already satisfied: pillow in c:\\users\\medici\\anaconda3\\lib\\site-packages (from mglearn) (8.2.0)\n",
      "Requirement already satisfied: six in c:\\users\\medici\\anaconda3\\lib\\site-packages (from cycler->mglearn) (1.16.0)\n",
      "Requirement already satisfied: pyparsing>=2.2.1 in c:\\users\\medici\\anaconda3\\lib\\site-packages (from matplotlib->mglearn) (2.4.7)\n",
      "Requirement already satisfied: kiwisolver>=1.0.1 in c:\\users\\medici\\anaconda3\\lib\\site-packages (from matplotlib->mglearn) (1.3.1)\n",
      "Requirement already satisfied: python-dateutil>=2.7 in c:\\users\\medici\\anaconda3\\lib\\site-packages (from matplotlib->mglearn) (2.8.1)\n",
      "Requirement already satisfied: pytz>=2017.3 in c:\\users\\medici\\anaconda3\\lib\\site-packages (from pandas->mglearn) (2021.1)\n",
      "Requirement already satisfied: scipy>=0.19.1 in c:\\users\\medici\\anaconda3\\lib\\site-packages (from scikit-learn->mglearn) (1.6.2)\n",
      "Requirement already satisfied: threadpoolctl>=2.0.0 in c:\\users\\medici\\anaconda3\\lib\\site-packages (from scikit-learn->mglearn) (2.1.0)\n"
     ]
    }
   ],
   "source": [
    "!pip install mglearn"
   ]
  },
  {
   "cell_type": "code",
   "execution_count": 2,
   "id": "c746160e",
   "metadata": {},
   "outputs": [],
   "source": [
    "import pandas as pd\n",
    "import numpy as np\n",
    "import seaborn as sns\n",
    "from sklearn.datasets import load_boston, load_iris\n",
    "\n",
    "from sklearn.linear_model import Ridge,Lasso,ElasticNet, LinearRegression\n",
    "from sklearn.preprocessing import PolynomialFeatures\n",
    "from sklearn.pipeline import make_pipeline\n",
    "from sklearn.pipeline import Pipeline\n",
    "\n",
    "from sklearn.preprocessing import StandardScaler\n",
    "\n",
    "from sklearn.neural_network import MLPRegressor\n",
    "from sklearn.model_selection import train_test_split\n",
    "from sklearn.model_selection import GridSearchCV\n",
    "from sklearn.model_selection import cross_val_score\n",
    "\n",
    "import mglearn\n",
    "import matplotlib.pyplot as plt\n",
    "import matplotlib\n",
    "matplotlib.rcParams['font.family']='Malgun Gothic'\n",
    "matplotlib.rcParams['axes.unicode_minus'] = False\n",
    "\n",
    "import warnings\n",
    "warnings.simplefilter('ignore')"
   ]
  },
  {
   "cell_type": "markdown",
   "id": "4f792d1c-aac2-4bb1-8a3b-b467b9efaff9",
   "metadata": {},
   "source": [
    "규제 변수 알파가 커지게되면 weight가\n",
    "규제를 가해주면 w가?  0에 가까이 가게 됨.\n",
    "\n",
    "릿지회귀, l1, l2\n",
    "0에 가깝게 가는데 l1은 아예 0으로 만들어서 ...\n",
    "릿지나 라쏘는 모델을 통해서 테스트 해보고 \n",
    "앙상블을 통해서 해당 데이터의 적합한 모델을 선택할 수 있음.\n",
    "라쏘회귀.\n",
    "둘다 적용하는게 엘라스틱넷. 람다를 이용해서 어느쪽이 비중이 높은지를 볼 수 있고 \n",
    "특성데이터가 많은 경우에 예측값이 좋을수 있따.\n",
    "다항회귀는 차수를 높혀서 측정값을 높이는데 과적합이 일어날 수 있음. 예측곡선을 그리는데 정확도는 높게나오지만 트레이닝데이터셋에 적합하도록 예측곡선을 만들기 떄문에 테스트셋에서 값이 낮게 나올 수 있다. 갭이 크기 떄문에"
   ]
  },
  {
   "cell_type": "markdown",
   "id": "caf2f7ad",
   "metadata": {},
   "source": [
    "# [설명]릿지 회귀(Ridge Regression) L2규제\n",
    "\n",
    "* 릿지 회귀는 선형 회귀를 개선한 선형 모델\n",
    "* 릿지 회귀는 선형 회귀와 비슷하지만, 가중치의 값을 최대한 작게 만든다는 것이 다름\n",
    "* 이러한 방법은 각각의 특성(feature)이 출력 값에 주는 영향을 최소한으로 만들도록 규제(regularization)를 거는 것\n",
    "* 규제를 사용하면 다중공선성(multicollinearity) 문제를 방지하기 때문에 모델의 과대적합을 막을 수 있게 됨\n",
    "* 다중공선성 문제는 두 특성이 일치에 가까울 정도로 관련성(상관관계)이 높을 경우 발생\n",
    "* 릿지 회귀는 다음과 같은 함수를 최소화 하는 파라미터 $w$를 찾음\n",
    "* α=0이면 릿지회귀는 선형회귀와 같아지고, α가 커질수록 모든 가중치가 0에 가까워져 결국 데이터의 평균을 지나는 수평선이 된다.\n",
    "\n",
    "\\begin{equation}\n",
    "RidgeMSE = \\frac{1}{N} \\sum_{i=1}^{N}(y_i - \\hat{y}_i)^2 + \\alpha \\sum_{i=1}^{p} w_i^2\n",
    "\\end{equation}\n",
    "\n",
    "  + $\\alpha$: 사용자가 지정하는 매개변수\n",
    "  * $\\alpha$가 크면 규제의 효과가 커지고, $\\alpha$가 작으면 규제의 효과가 작아짐\n",
    "  * p:특성의갯수\n"
   ]
  },
  {
   "cell_type": "code",
   "execution_count": 3,
   "id": "15b2bea8",
   "metadata": {},
   "outputs": [],
   "source": [
    "boston = load_boston()"
   ]
  },
  {
   "cell_type": "code",
   "execution_count": 4,
   "id": "25119d7c",
   "metadata": {},
   "outputs": [
    {
     "data": {
      "text/html": [
       "<div>\n",
       "<style scoped>\n",
       "    .dataframe tbody tr th:only-of-type {\n",
       "        vertical-align: middle;\n",
       "    }\n",
       "\n",
       "    .dataframe tbody tr th {\n",
       "        vertical-align: top;\n",
       "    }\n",
       "\n",
       "    .dataframe thead th {\n",
       "        text-align: right;\n",
       "    }\n",
       "</style>\n",
       "<table border=\"1\" class=\"dataframe\">\n",
       "  <thead>\n",
       "    <tr style=\"text-align: right;\">\n",
       "      <th></th>\n",
       "      <th>CRIM</th>\n",
       "      <th>ZN</th>\n",
       "      <th>INDUS</th>\n",
       "      <th>CHAS</th>\n",
       "      <th>NOX</th>\n",
       "      <th>RM</th>\n",
       "      <th>AGE</th>\n",
       "      <th>DIS</th>\n",
       "      <th>RAD</th>\n",
       "      <th>TAX</th>\n",
       "      <th>PTRATIO</th>\n",
       "      <th>B</th>\n",
       "      <th>LSTAT</th>\n",
       "      <th>MEDV</th>\n",
       "    </tr>\n",
       "  </thead>\n",
       "  <tbody>\n",
       "    <tr>\n",
       "      <th>0</th>\n",
       "      <td>0.00632</td>\n",
       "      <td>18.0</td>\n",
       "      <td>2.31</td>\n",
       "      <td>0.0</td>\n",
       "      <td>0.538</td>\n",
       "      <td>6.575</td>\n",
       "      <td>65.2</td>\n",
       "      <td>4.0900</td>\n",
       "      <td>1.0</td>\n",
       "      <td>296.0</td>\n",
       "      <td>15.3</td>\n",
       "      <td>396.90</td>\n",
       "      <td>4.98</td>\n",
       "      <td>24.0</td>\n",
       "    </tr>\n",
       "    <tr>\n",
       "      <th>1</th>\n",
       "      <td>0.02731</td>\n",
       "      <td>0.0</td>\n",
       "      <td>7.07</td>\n",
       "      <td>0.0</td>\n",
       "      <td>0.469</td>\n",
       "      <td>6.421</td>\n",
       "      <td>78.9</td>\n",
       "      <td>4.9671</td>\n",
       "      <td>2.0</td>\n",
       "      <td>242.0</td>\n",
       "      <td>17.8</td>\n",
       "      <td>396.90</td>\n",
       "      <td>9.14</td>\n",
       "      <td>21.6</td>\n",
       "    </tr>\n",
       "    <tr>\n",
       "      <th>2</th>\n",
       "      <td>0.02729</td>\n",
       "      <td>0.0</td>\n",
       "      <td>7.07</td>\n",
       "      <td>0.0</td>\n",
       "      <td>0.469</td>\n",
       "      <td>7.185</td>\n",
       "      <td>61.1</td>\n",
       "      <td>4.9671</td>\n",
       "      <td>2.0</td>\n",
       "      <td>242.0</td>\n",
       "      <td>17.8</td>\n",
       "      <td>392.83</td>\n",
       "      <td>4.03</td>\n",
       "      <td>34.7</td>\n",
       "    </tr>\n",
       "    <tr>\n",
       "      <th>3</th>\n",
       "      <td>0.03237</td>\n",
       "      <td>0.0</td>\n",
       "      <td>2.18</td>\n",
       "      <td>0.0</td>\n",
       "      <td>0.458</td>\n",
       "      <td>6.998</td>\n",
       "      <td>45.8</td>\n",
       "      <td>6.0622</td>\n",
       "      <td>3.0</td>\n",
       "      <td>222.0</td>\n",
       "      <td>18.7</td>\n",
       "      <td>394.63</td>\n",
       "      <td>2.94</td>\n",
       "      <td>33.4</td>\n",
       "    </tr>\n",
       "    <tr>\n",
       "      <th>4</th>\n",
       "      <td>0.06905</td>\n",
       "      <td>0.0</td>\n",
       "      <td>2.18</td>\n",
       "      <td>0.0</td>\n",
       "      <td>0.458</td>\n",
       "      <td>7.147</td>\n",
       "      <td>54.2</td>\n",
       "      <td>6.0622</td>\n",
       "      <td>3.0</td>\n",
       "      <td>222.0</td>\n",
       "      <td>18.7</td>\n",
       "      <td>396.90</td>\n",
       "      <td>5.33</td>\n",
       "      <td>36.2</td>\n",
       "    </tr>\n",
       "    <tr>\n",
       "      <th>...</th>\n",
       "      <td>...</td>\n",
       "      <td>...</td>\n",
       "      <td>...</td>\n",
       "      <td>...</td>\n",
       "      <td>...</td>\n",
       "      <td>...</td>\n",
       "      <td>...</td>\n",
       "      <td>...</td>\n",
       "      <td>...</td>\n",
       "      <td>...</td>\n",
       "      <td>...</td>\n",
       "      <td>...</td>\n",
       "      <td>...</td>\n",
       "      <td>...</td>\n",
       "    </tr>\n",
       "    <tr>\n",
       "      <th>501</th>\n",
       "      <td>0.06263</td>\n",
       "      <td>0.0</td>\n",
       "      <td>11.93</td>\n",
       "      <td>0.0</td>\n",
       "      <td>0.573</td>\n",
       "      <td>6.593</td>\n",
       "      <td>69.1</td>\n",
       "      <td>2.4786</td>\n",
       "      <td>1.0</td>\n",
       "      <td>273.0</td>\n",
       "      <td>21.0</td>\n",
       "      <td>391.99</td>\n",
       "      <td>9.67</td>\n",
       "      <td>22.4</td>\n",
       "    </tr>\n",
       "    <tr>\n",
       "      <th>502</th>\n",
       "      <td>0.04527</td>\n",
       "      <td>0.0</td>\n",
       "      <td>11.93</td>\n",
       "      <td>0.0</td>\n",
       "      <td>0.573</td>\n",
       "      <td>6.120</td>\n",
       "      <td>76.7</td>\n",
       "      <td>2.2875</td>\n",
       "      <td>1.0</td>\n",
       "      <td>273.0</td>\n",
       "      <td>21.0</td>\n",
       "      <td>396.90</td>\n",
       "      <td>9.08</td>\n",
       "      <td>20.6</td>\n",
       "    </tr>\n",
       "    <tr>\n",
       "      <th>503</th>\n",
       "      <td>0.06076</td>\n",
       "      <td>0.0</td>\n",
       "      <td>11.93</td>\n",
       "      <td>0.0</td>\n",
       "      <td>0.573</td>\n",
       "      <td>6.976</td>\n",
       "      <td>91.0</td>\n",
       "      <td>2.1675</td>\n",
       "      <td>1.0</td>\n",
       "      <td>273.0</td>\n",
       "      <td>21.0</td>\n",
       "      <td>396.90</td>\n",
       "      <td>5.64</td>\n",
       "      <td>23.9</td>\n",
       "    </tr>\n",
       "    <tr>\n",
       "      <th>504</th>\n",
       "      <td>0.10959</td>\n",
       "      <td>0.0</td>\n",
       "      <td>11.93</td>\n",
       "      <td>0.0</td>\n",
       "      <td>0.573</td>\n",
       "      <td>6.794</td>\n",
       "      <td>89.3</td>\n",
       "      <td>2.3889</td>\n",
       "      <td>1.0</td>\n",
       "      <td>273.0</td>\n",
       "      <td>21.0</td>\n",
       "      <td>393.45</td>\n",
       "      <td>6.48</td>\n",
       "      <td>22.0</td>\n",
       "    </tr>\n",
       "    <tr>\n",
       "      <th>505</th>\n",
       "      <td>0.04741</td>\n",
       "      <td>0.0</td>\n",
       "      <td>11.93</td>\n",
       "      <td>0.0</td>\n",
       "      <td>0.573</td>\n",
       "      <td>6.030</td>\n",
       "      <td>80.8</td>\n",
       "      <td>2.5050</td>\n",
       "      <td>1.0</td>\n",
       "      <td>273.0</td>\n",
       "      <td>21.0</td>\n",
       "      <td>396.90</td>\n",
       "      <td>7.88</td>\n",
       "      <td>11.9</td>\n",
       "    </tr>\n",
       "  </tbody>\n",
       "</table>\n",
       "<p>506 rows × 14 columns</p>\n",
       "</div>"
      ],
      "text/plain": [
       "        CRIM    ZN  INDUS  CHAS    NOX     RM   AGE     DIS  RAD    TAX  \\\n",
       "0    0.00632  18.0   2.31   0.0  0.538  6.575  65.2  4.0900  1.0  296.0   \n",
       "1    0.02731   0.0   7.07   0.0  0.469  6.421  78.9  4.9671  2.0  242.0   \n",
       "2    0.02729   0.0   7.07   0.0  0.469  7.185  61.1  4.9671  2.0  242.0   \n",
       "3    0.03237   0.0   2.18   0.0  0.458  6.998  45.8  6.0622  3.0  222.0   \n",
       "4    0.06905   0.0   2.18   0.0  0.458  7.147  54.2  6.0622  3.0  222.0   \n",
       "..       ...   ...    ...   ...    ...    ...   ...     ...  ...    ...   \n",
       "501  0.06263   0.0  11.93   0.0  0.573  6.593  69.1  2.4786  1.0  273.0   \n",
       "502  0.04527   0.0  11.93   0.0  0.573  6.120  76.7  2.2875  1.0  273.0   \n",
       "503  0.06076   0.0  11.93   0.0  0.573  6.976  91.0  2.1675  1.0  273.0   \n",
       "504  0.10959   0.0  11.93   0.0  0.573  6.794  89.3  2.3889  1.0  273.0   \n",
       "505  0.04741   0.0  11.93   0.0  0.573  6.030  80.8  2.5050  1.0  273.0   \n",
       "\n",
       "     PTRATIO       B  LSTAT  MEDV  \n",
       "0       15.3  396.90   4.98  24.0  \n",
       "1       17.8  396.90   9.14  21.6  \n",
       "2       17.8  392.83   4.03  34.7  \n",
       "3       18.7  394.63   2.94  33.4  \n",
       "4       18.7  396.90   5.33  36.2  \n",
       "..       ...     ...    ...   ...  \n",
       "501     21.0  391.99   9.67  22.4  \n",
       "502     21.0  396.90   9.08  20.6  \n",
       "503     21.0  396.90   5.64  23.9  \n",
       "504     21.0  393.45   6.48  22.0  \n",
       "505     21.0  396.90   7.88  11.9  \n",
       "\n",
       "[506 rows x 14 columns]"
      ]
     },
     "execution_count": 4,
     "metadata": {},
     "output_type": "execute_result"
    }
   ],
   "source": [
    "boston_df = pd.DataFrame(  boston['data'],columns=boston['feature_names'])\n",
    "boston_df['MEDV'] =boston.target\n",
    "boston_df\n"
   ]
  },
  {
   "cell_type": "code",
   "execution_count": 5,
   "id": "1902335e",
   "metadata": {},
   "outputs": [],
   "source": [
    "x_data = boston_df.iloc[:,:-1]\n",
    "y_data = boston_df.iloc[:,-1]\n"
   ]
  },
  {
   "cell_type": "code",
   "execution_count": 6,
   "id": "9ac095f2",
   "metadata": {},
   "outputs": [],
   "source": [
    "x_train, x_test, y_train, y_test = train_test_split(x_data, y_data, \n",
    "                                test_size=0.2,random_state=1)\n"
   ]
  },
  {
   "cell_type": "code",
   "execution_count": 7,
   "id": "c4adcfff",
   "metadata": {},
   "outputs": [
    {
     "data": {
      "text/plain": [
       "Pipeline(steps=[('standardscaler', StandardScaler()), ('ridge', Ridge())])"
      ]
     },
     "execution_count": 7,
     "metadata": {},
     "output_type": "execute_result"
    }
   ],
   "source": [
    "model_ridge = make_pipeline(StandardScaler(), Ridge())\n",
    "model_ridge.fit(x_train, y_train)"
   ]
  },
  {
   "cell_type": "code",
   "execution_count": 8,
   "id": "779649df",
   "metadata": {},
   "outputs": [
    {
     "data": {
      "text/plain": [
       "0.729336032904444"
      ]
     },
     "metadata": {},
     "output_type": "display_data"
    },
    {
     "data": {
      "text/plain": [
       "0.763403805803235"
      ]
     },
     "metadata": {},
     "output_type": "display_data"
    }
   ],
   "source": [
    "display(model_ridge.score(x_train,y_train))\n",
    "display(model_ridge.score(x_test,y_test))"
   ]
  },
  {
   "cell_type": "code",
   "execution_count": 9,
   "id": "44d90009",
   "metadata": {},
   "outputs": [
    {
     "data": {
      "text/plain": [
       "Pipeline(steps=[('standardscaler', StandardScaler()),\n",
       "                ('ridge', Ridge(alpha=5.0))])"
      ]
     },
     "execution_count": 9,
     "metadata": {},
     "output_type": "execute_result"
    }
   ],
   "source": [
    "# ridge에 규제를 더 가해보자\n",
    "model_ridge5 = make_pipeline(StandardScaler(), Ridge(alpha=5.0))\n",
    "model_ridge5.fit(x_train, y_train)"
   ]
  },
  {
   "cell_type": "code",
   "execution_count": 10,
   "id": "ae9fab37",
   "metadata": {},
   "outputs": [
    {
     "data": {
      "text/plain": [
       "0.7289067264142004"
      ]
     },
     "metadata": {},
     "output_type": "display_data"
    },
    {
     "data": {
      "text/plain": [
       "0.7629020804027657"
      ]
     },
     "metadata": {},
     "output_type": "display_data"
    }
   ],
   "source": [
    "display(model_ridge5.score(x_train,y_train))\n",
    "display(model_ridge5.score(x_test,y_test))"
   ]
  },
  {
   "cell_type": "markdown",
   "id": "c1b9725f",
   "metadata": {},
   "source": [
    "## 라쏘 회귀(Lasso Regression) L1규제\n",
    "​\n",
    "​\n",
    "* 선형 회귀에 규제를 적용한 또 다른 모델로 라쏘 회귀가 있음\n",
    "* 라쏘 회귀는 릿지 회귀와 비슷하게 가중치를 0에 가깝게 만들지만, 조금 다른 방식을 사용\n",
    "​\n",
    "* 라쏘 회귀에서는 다음과 같은 함수를 최소화 하는 파라미터 $w$를 찾음\n",
    "​\n",
    "\\begin{equation}\n",
    "LassoMSE = \\frac{1}{N} \\sum_{i=1}^{N} (y_i - \\hat{y}_i)^2 + \\alpha \\sum_{i=1}^{p} |w_i|\n",
    "\\end{equation}\n",
    "​\n",
    "* 라쏘 회귀도 매개변수인 $\\alpha$ 값을 통해 규제의 강도 조절 가능\n",
    "* p: 독립변수의 갯수\n"
   ]
  },
  {
   "cell_type": "code",
   "execution_count": 11,
   "id": "81161510",
   "metadata": {},
   "outputs": [
    {
     "data": {
      "text/plain": [
       "Pipeline(steps=[('standardscaler', StandardScaler()), ('lasso', Lasso())])"
      ]
     },
     "execution_count": 11,
     "metadata": {},
     "output_type": "execute_result"
    }
   ],
   "source": [
    "model_lasso = make_pipeline(StandardScaler(), Lasso())\n",
    "model_lasso.fit(x_train, y_train)"
   ]
  },
  {
   "cell_type": "code",
   "execution_count": 12,
   "id": "5cfdc7d6",
   "metadata": {},
   "outputs": [
    {
     "data": {
      "text/plain": [
       "0.6510370822546789"
      ]
     },
     "metadata": {},
     "output_type": "display_data"
    },
    {
     "data": {
      "text/plain": [
       "0.6546512972478653"
      ]
     },
     "metadata": {},
     "output_type": "display_data"
    }
   ],
   "source": [
    "display(model_lasso.score(x_train,y_train))\n",
    "display(model_lasso.score(x_test,y_test))"
   ]
  },
  {
   "cell_type": "code",
   "execution_count": 13,
   "id": "bab04c95",
   "metadata": {},
   "outputs": [
    {
     "data": {
      "text/plain": [
       "Pipeline(steps=[('standardscaler', StandardScaler()),\n",
       "                ('lasso', Lasso(alpha=5.0))])"
      ]
     },
     "execution_count": 13,
     "metadata": {},
     "output_type": "execute_result"
    }
   ],
   "source": [
    "# 규제를 좀 더 주자\n",
    "model_lasso5 = make_pipeline(StandardScaler(), Lasso(alpha=5.0))\n",
    "model_lasso5.fit(x_train, y_train)"
   ]
  },
  {
   "cell_type": "code",
   "execution_count": 14,
   "id": "e442f71f",
   "metadata": {},
   "outputs": [
    {
     "data": {
      "text/plain": [
       "0.2411098676402389"
      ]
     },
     "metadata": {},
     "output_type": "display_data"
    },
    {
     "data": {
      "text/plain": [
       "0.20844368630060406"
      ]
     },
     "metadata": {},
     "output_type": "display_data"
    }
   ],
   "source": [
    "display(model_lasso5.score(x_train,y_train))\n",
    "display(model_lasso5.score(x_test,y_test))"
   ]
  },
  {
   "cell_type": "code",
   "execution_count": 15,
   "id": "a0dd80f0",
   "metadata": {},
   "outputs": [
    {
     "data": {
      "text/plain": [
       "<matplotlib.legend.Legend at 0x29966df1d90>"
      ]
     },
     "execution_count": 15,
     "metadata": {},
     "output_type": "execute_result"
    },
    {
     "data": {
      "image/png": "[encoded data removed]",
      "text/plain": [
       "<Figure size 864x432 with 2 Axes>"
      ]
     },
     "metadata": {
      "needs_background": "light"
     },
     "output_type": "display_data"
    }
   ],
   "source": [
    "import numpy as np\n",
    "import matplotlib.pyplot as plt\n",
    "\n",
    "fig = plt.figure(figsize=[12,6])\n",
    "\n",
    "rng = np.linspace(-10,10,100)\n",
    "mse = ( 0.5*(rng-3) )**2 + 30\n",
    "l2 = rng**2\n",
    "l1 = 5*np.abs(rng)\n",
    "ridge = mse + l2\n",
    "lasso = mse + l1\n",
    "\n",
    "plt.subplot(1,2,1)\n",
    "plt.plot(rng,mse,label='MSE')\n",
    "plt.plot(rng,l2,'--',label='L2')\n",
    "plt.plot(rng,ridge, lw=2, label='Ridge')\n",
    "plt.xlabel('w'); plt.ylabel('Error')\n",
    "plt.legend()\n",
    "\n",
    "plt.subplot(1,2,2)\n",
    "plt.plot(rng,mse,label='MSE')\n",
    "plt.plot(rng,l1,'--',label='L1')\n",
    "plt.plot(rng,lasso, lw=2, label='Lasso')\n",
    "plt.xlabel('w'); plt.ylabel('Error')\n",
    "plt.legend()\n"
   ]
  },
  {
   "cell_type": "code",
   "execution_count": 16,
   "id": "e4cd6c8a",
   "metadata": {},
   "outputs": [
    {
     "name": "stdout",
     "output_type": "stream",
     "text": [
      "Fitting 10 folds for each of 6 candidates, totalling 60 fits\n"
     ]
    },
    {
     "data": {
      "text/plain": [
       "GridSearchCV(cv=10,\n",
       "             estimator=Pipeline(steps=[('scl', StandardScaler()),\n",
       "                                       ('clf', Lasso())]),\n",
       "             param_grid={'clf__alpha': [0.001, 0.01, 1, 2, 3, 4]}, scoring='r2',\n",
       "             verbose=1)"
      ]
     },
     "execution_count": 16,
     "metadata": {},
     "output_type": "execute_result"
    }
   ],
   "source": [
    "# Pipeline은 \n",
    "modelLasso = Pipeline([('scl',StandardScaler()), ('clf',Lasso())])\n",
    "# param_value = {'clf__alpha':[0.001,0.01,1,2,3,4], 'scl__with_mean':[True,False]}\n",
    "param_value = {'clf__alpha':[0.001,0.01,1,2,3,4]}\n",
    "gridSearch = GridSearchCV(modelLasso, param_grid=param_value, cv =10,verbose=1, scoring='r2')\n",
    "gridSearch.fit(x_train,y_train)\n"
   ]
  },
  {
   "cell_type": "code",
   "execution_count": 17,
   "id": "8873f07c",
   "metadata": {},
   "outputs": [
    {
     "data": {
      "text/plain": [
       "0.6779423483447162"
      ]
     },
     "execution_count": 17,
     "metadata": {},
     "output_type": "execute_result"
    }
   ],
   "source": [
    "# 최고 점수\n",
    "gridSearch.best_score_"
   ]
  },
  {
   "cell_type": "code",
   "execution_count": 18,
   "id": "0918d023",
   "metadata": {},
   "outputs": [
    {
     "data": {
      "text/plain": [
       "{'clf__alpha': 0.01}"
      ]
     },
     "execution_count": 18,
     "metadata": {},
     "output_type": "execute_result"
    }
   ],
   "source": [
    "# 최적의 파라미터\n",
    "gridSearch.best_params_"
   ]
  },
  {
   "cell_type": "code",
   "execution_count": 19,
   "id": "14f0ba0e",
   "metadata": {
    "collapsed": true,
    "jupyter": {
     "outputs_hidden": true
    },
    "tags": []
   },
   "outputs": [
    {
     "data": {
      "text/plain": [
       "{'mean_fit_time': array([0.004142  , 0.00669494, 0.00258181, 0.00376406, 0.00371485,\n",
       "        0.00351996]),\n",
       " 'std_fit_time': array([0.00117962, 0.01140702, 0.00044486, 0.00100432, 0.00047736,\n",
       "        0.00049469]),\n",
       " 'mean_score_time': array([0.00149572, 0.00100653, 0.00110009, 0.00144162, 0.00147293,\n",
       "        0.00159705]),\n",
       " 'std_score_time': array([4.98892130e-04, 2.01801435e-05, 2.98508924e-04, 5.64553721e-04,\n",
       "        4.80706661e-04, 4.86875178e-04]),\n",
       " 'param_clf__alpha': masked_array(data=[0.001, 0.01, 1, 2, 3, 4],\n",
       "              mask=[False, False, False, False, False, False],\n",
       "        fill_value='?',\n",
       "             dtype=object),\n",
       " 'params': [{'clf__alpha': 0.001},\n",
       "  {'clf__alpha': 0.01},\n",
       "  {'clf__alpha': 1},\n",
       "  {'clf__alpha': 2},\n",
       "  {'clf__alpha': 3},\n",
       "  {'clf__alpha': 4}],\n",
       " 'split0_test_score': array([0.86741933, 0.8674495 , 0.74379226, 0.63721411, 0.49084771,\n",
       "        0.3494708 ]),\n",
       " 'split1_test_score': array([0.53857014, 0.53985541, 0.56511277, 0.53008636, 0.44409762,\n",
       "        0.35941902]),\n",
       " 'split2_test_score': array([0.45799761, 0.456379  , 0.36402569, 0.35119013, 0.30182534,\n",
       "        0.24229026]),\n",
       " 'split3_test_score': array([0.84044815, 0.84127459, 0.72736688, 0.6304679 , 0.4980502 ,\n",
       "        0.3636097 ]),\n",
       " 'split4_test_score': array([0.69773684, 0.6984885 , 0.64897926, 0.62863904, 0.56067554,\n",
       "        0.45272298]),\n",
       " 'split5_test_score': array([0.74210537, 0.74356648, 0.68219919, 0.63355477, 0.53824762,\n",
       "        0.41863958]),\n",
       " 'split6_test_score': array([0.49832367, 0.49880298, 0.53610205, 0.5367475 , 0.48418476,\n",
       "        0.39672383]),\n",
       " 'split7_test_score': array([0.72201626, 0.72234635, 0.63632485, 0.5336722 , 0.39326817,\n",
       "        0.23805284]),\n",
       " 'split8_test_score': array([0.65835305, 0.65761855, 0.6115026 , 0.56592145, 0.47501601,\n",
       "        0.35772319]),\n",
       " 'split9_test_score': array([0.75165976, 0.75364212, 0.68686553, 0.61690168, 0.50441805,\n",
       "        0.37083429]),\n",
       " 'mean_test_score': array([0.67746302, 0.67794235, 0.62022711, 0.56643952, 0.4690631 ,\n",
       "        0.35494865]),\n",
       " 'std_test_score': array([0.13215134, 0.13254566, 0.10580369, 0.08344925, 0.0709541 ,\n",
       "        0.06488692]),\n",
       " 'rank_test_score': array([2, 1, 3, 4, 5, 6])}"
      ]
     },
     "execution_count": 19,
     "metadata": {},
     "output_type": "execute_result"
    }
   ],
   "source": [
    "# 테스트를 어떻게 진행했는지 목록을 보여줌\n",
    "gridSearch.cv_results_"
   ]
  },
  {
   "cell_type": "code",
   "execution_count": 20,
   "id": "3f0e2f00",
   "metadata": {},
   "outputs": [
    {
     "data": {
      "text/plain": [
       "Pipeline(steps=[('scl', StandardScaler()), ('clf', Lasso(alpha=0.01))])"
      ]
     },
     "execution_count": 20,
     "metadata": {},
     "output_type": "execute_result"
    }
   ],
   "source": [
    "# 최적의 모델\n",
    "gridSearch.best_estimator_"
   ]
  },
  {
   "cell_type": "code",
   "execution_count": 21,
   "id": "5b666332",
   "metadata": {
    "collapsed": true,
    "jupyter": {
     "outputs_hidden": true
    },
    "tags": []
   },
   "outputs": [
    {
     "data": {
      "text/plain": [
       "array([32.47490159, 28.12987635, 17.99758874, 21.59467646, 18.78113215,\n",
       "       19.9054232 , 32.24548395, 18.10731193, 24.28355458, 27.07276872,\n",
       "       26.91811443, 28.84699137, 21.25821228, 26.78436789, 23.35425277,\n",
       "       20.55737907, 17.31818837, 38.20107276, 30.49008317,  8.86690023,\n",
       "       20.8036567 , 16.38064481, 25.21265174, 24.89868344, 31.33266735,\n",
       "       10.7419558 , 13.88204311, 16.89019083, 36.48926363, 14.60805028,\n",
       "       21.33716851, 13.96614295, 42.93446218, 17.9737495 , 22.0898439 ,\n",
       "       20.714934  , 17.59898767, 27.30050043,  9.37526708, 19.74832155,\n",
       "       24.6039903 , 21.25145519, 29.49189492, 16.24904175, 19.22623771,\n",
       "       14.6501572 , 39.1377036 , 18.06654423, 25.84809473, 20.44186795,\n",
       "       25.11177946, 24.39847463, 25.12406209, 26.58879586,  4.82750881,\n",
       "       24.00969384, 10.90593883, 26.89589097, 16.92873279, 35.8638718 ,\n",
       "       19.53784819, 27.53852396, 16.52302842, 18.71106844, 11.21959849,\n",
       "       32.33423855, 36.70207163, 22.33109429, 24.50027637, 25.06917469,\n",
       "       23.50589767,  6.89599448, 16.4903407 , 20.4933907 , 20.87034068,\n",
       "       21.46553525, 33.72205456, 27.99490779, 25.26347016, 34.4873889 ,\n",
       "       18.6512076 , 24.0434465 , 34.69241922, 13.41624001, 20.93136864,\n",
       "       30.08885879, 17.12617383, 24.40504771, 19.35255475, 17.01765807,\n",
       "       27.01246717, 41.83894897, 14.35328128, 23.25915836, 14.75900176,\n",
       "       21.86300746, 23.07727496, 28.88879145, 37.06497783, 20.66017023,\n",
       "       17.34320441, 17.71665837])"
      ]
     },
     "execution_count": 21,
     "metadata": {},
     "output_type": "execute_result"
    }
   ],
   "source": [
    "# 그 최적의 모델로 예측\n",
    "gridSearch.best_estimator_.predict(x_test)"
   ]
  },
  {
   "cell_type": "code",
   "execution_count": null,
   "id": "de6a03da-38c6-4ca2-a89a-ef62d6a38940",
   "metadata": {},
   "outputs": [],
   "source": []
  },
  {
   "cell_type": "markdown",
   "id": "bced6bde-5279-47cc-a287-637e3b2e5854",
   "metadata": {},
   "source": [
    "# [설명] 신축망 (Elastic-Net)\n",
    "\n",
    "* 신축망은 릿지 회귀와 라쏘 회귀, 두 모델의 모든 규제를 사용하는 선형 모델\n",
    "* 두 모델의 장점을 모두 갖고 있기 때문에 좋은 성능을 보임\n",
    "* 데이터 특성이 많거나 서로 상관 관계가 높은 특성이 존재 할 때 위의 두 모델보다 좋은 성능을 보여 줌\n",
    "\n",
    "* 신축망은 다음과 같은 함수를 최소화 하는 파라미터 $w$를 찾음\n",
    "\n",
    "\\begin{equation}\n",
    "ElasticMSE = \\frac{1}{N} \\sum_{i=1}^{N} (y_i - \\hat{y}_i) + \\alpha \\rho \\sum_{i=1}^{p} |w_i| + \\alpha (1 - \\rho) \\sum_{i=1}^{p} w_i^2\n",
    "\\end{equation}\n",
    "\n",
    "  + $\\alpha$: 규제의 강도를 조절하는 매개변수\n",
    "  + $\\rho$: 라쏘 규제와 릿지 규제 사이의 가중치를 조절하는 매개변수\n"
   ]
  },
  {
   "cell_type": "markdown",
   "id": "56b8ad05-8de7-481f-b17f-e789933d2840",
   "metadata": {},
   "source": [
    "* L1에 좀 더 볼 건지 L2에 좀 더 초점을 둘 건지 보는것 "
   ]
  },
  {
   "cell_type": "code",
   "execution_count": 22,
   "id": "22dbc4d4-bbac-470b-b961-0fccb007e027",
   "metadata": {},
   "outputs": [
    {
     "data": {
      "text/plain": [
       "Pipeline(steps=[('standardscaler', StandardScaler()),\n",
       "                ('elasticnet', ElasticNet())])"
      ]
     },
     "execution_count": 22,
     "metadata": {},
     "output_type": "execute_result"
    }
   ],
   "source": [
    "model_elastic = make_pipeline(StandardScaler(), ElasticNet())\n",
    "model_elastic.fit(x_train, y_train)"
   ]
  },
  {
   "cell_type": "code",
   "execution_count": 23,
   "id": "353b7acb-1670-4092-aa97-b62742ac7ba3",
   "metadata": {},
   "outputs": [
    {
     "name": "stdout",
     "output_type": "stream",
     "text": [
      "0.635207359597604\n",
      "0.6285547370483677\n"
     ]
    }
   ],
   "source": [
    "print(model_elastic.score(x_train,y_train))\n",
    "print(model_elastic.score(x_test,y_test))"
   ]
  },
  {
   "cell_type": "markdown",
   "id": "3d439d92-57c3-4e98-a9bf-dfb8750bb5c5",
   "metadata": {},
   "source": [
    "\n",
    "# 연습문제\n",
    "- alpha=1.0, l1_ratio=0.5\n",
    "- gridSearch를 이용하여 최적의 alpha와 l1 ratio를 구하시오."
   ]
  },
  {
   "cell_type": "code",
   "execution_count": 24,
   "id": "bd655d45-bd10-4d8f-ad61-312f5b195f8d",
   "metadata": {},
   "outputs": [
    {
     "name": "stdout",
     "output_type": "stream",
     "text": [
      "Fitting 10 folds for each of 18 candidates, totalling 180 fits\n"
     ]
    },
    {
     "data": {
      "text/plain": [
       "{'clf__alpha': 0.01, 'clf__l1_ratio': 1}"
      ]
     },
     "execution_count": 24,
     "metadata": {},
     "output_type": "execute_result"
    }
   ],
   "source": [
    "modelElastic = Pipeline([('scl', StandardScaler()), ('clf',ElasticNet()),])\n",
    "param_value = {'clf__alpha': [0.001, 0.01, 1, 2, 3, 4],\n",
    "              'clf__l1_ratio' : [0.1, 0.5, 1]}\n",
    "gridSearch = GridSearchCV(modelElastic, param_grid = param_value, cv = 10, verbose = 1, scoring = 'r2')\n",
    "gridSearch.fit(x_train, y_train)\n",
    "gridSearch.best_params_"
   ]
  },
  {
   "cell_type": "code",
   "execution_count": 25,
   "id": "7ae7b912-91a3-487a-9478-0a70e8ef64ec",
   "metadata": {},
   "outputs": [
    {
     "data": {
      "text/plain": [
       "0.6779423483447162"
      ]
     },
     "execution_count": 25,
     "metadata": {},
     "output_type": "execute_result"
    }
   ],
   "source": [
    "gridSearch.best_score_"
   ]
  },
  {
   "cell_type": "markdown",
   "id": "cd45dc33-bd52-4c84-b419-867122b87595",
   "metadata": {},
   "source": [
    "# [결론] 각 모델의 특성만 잘 알것\n",
    "* 릿지나 라쏘나 엘라스틱을 쓰는 이유는 멀티픽쳐(특성데이터 여러개)\n",
    "* 릿지 라쏘 엘라스틱은 다중공선성에 대해 규제를 가하기 때문에 웨이트 값을 조절, 웨이트 가중치를 주지않도록 \n",
    "* 웨이트가 0이라면 아예 계산에서 빠져버리는 것. (w1x1 + w2x2 + w3x3 ....) => 칼럼을 제거하는 것과 똑같은 효과.\n",
    "* 보통 0으로 주는 경우는 l1규제인 경우, l2같은 경우는 0에 근접한 값이 나옴.\n",
    "* 엘라스틱은 파라미터가 특성데이터 개수가 상당히 많은 경우 효과를 볼 수 있따.\n",
    "* l1,l2규제 모두 들어가고 어디에 강조를 할 것인지 l1.ratio를 통해 줄 수 있따.\n",
    "* 앙상블도 배울건데, 하나의 데이터가 주어지면 모델을 조합해서 쓸 수 있어야 함.\n",
    "* 이게 핵심임. -> gridsearch 최적 파라미터 찾고 앙상블을 통해 최적 모델을 찾는 것. 모델 각각의미를 알아내는 건 지금부터하고\n",
    "* 추정데이터 예측분석 하는 중임.\n",
    "* classification도 l1, l2 또 나옴."
   ]
  },
  {
   "cell_type": "markdown",
   "id": "bb2e9d26-a552-471f-bc10-d0a9decfcc5a",
   "metadata": {},
   "source": [
    "# [설명]다항 회귀 (Polynomial Regression)\n",
    "\n",
    "* 입력 데이터를 비선형 변환 후 사용하는 방법\n",
    "* 모델 자체는 선형 모델\n",
    "\n",
    "\\begin{equation}\n",
    "\\hat{y} = w_1 x_1 + w_2 x_2 + w_3 x_3 + w_4 x_1^2 + w_5 x_2^2\n",
    "\\end{equation}\n",
    "\n",
    "$ * 차수(차수 2는 2번곱함 x^2, 차수3은 3번곱합 x^3)가  $<br>\n",
    "높아질수록 더 복잡한 데이터 학습 가능\n",
    "\n",
    "![polynomial regression](https://scikit-learn.org/stable/_images/sphx_glr_plot_polynomial_interpolation_0011.png)\n"
   ]
  },
  {
   "cell_type": "code",
   "execution_count": 26,
   "id": "eebeeb47-fdfe-49f0-850b-0a6b7ba8f14d",
   "metadata": {},
   "outputs": [],
   "source": [
    "# 과적합이 일어나기 쉬움. 데이터를 이용해서 다항회귀를 하게되면 여기에 근접하게 트레이닝을 함. 제곱하기떄문에 곡선이 나오는데 \n",
    "# 추가되는데이터에 대해선 정확도가 떨어지게 됨. 다항회귀는 잘못하면 과적합이 일어나기 쉬운 리그레션임.\n",
    "# 리그레션모델에 차수를 더해주는 것이라고 생각.\n"
   ]
  },
  {
   "cell_type": "code",
   "execution_count": 27,
   "id": "d41f0c08-9f90-49c7-902a-aee3ccd9098a",
   "metadata": {},
   "outputs": [
    {
     "data": {
      "text/plain": [
       "Pipeline(steps=[('polynomialfeatures', PolynomialFeatures()),\n",
       "                ('standardscaler', StandardScaler()),\n",
       "                ('linearregression', LinearRegression())])"
      ]
     },
     "execution_count": 27,
     "metadata": {},
     "output_type": "execute_result"
    }
   ],
   "source": [
    "model = make_pipeline(PolynomialFeatures(degree=2), StandardScaler(),LinearRegression() )\n",
    "model.fit(x_train, y_train)\n",
    "# 곡선형태로 나오게 됨. "
   ]
  },
  {
   "cell_type": "code",
   "execution_count": 28,
   "id": "01cb21fc-3fbc-4151-8992-37c2a62e73e1",
   "metadata": {},
   "outputs": [
    {
     "name": "stdout",
     "output_type": "stream",
     "text": [
      "0.9264046957163291\n",
      "0.9116244055634332\n"
     ]
    }
   ],
   "source": [
    "print(model.score(x_train, y_train))\n",
    "print(model.score(x_test, y_test)) # 현저히 낮게 나오면 과적합"
   ]
  },
  {
   "cell_type": "markdown",
   "id": "f12c707a-272d-4ed9-8e73-287825408690",
   "metadata": {},
   "source": [
    "# [정리]\n",
    "* 선형회귀 : linearegressor\n",
    "* 경사하강법 : wb구하는것\n",
    "* 릿지 : l2\n",
    "* 랏쏘 : l1\n",
    "* 엘라스틱넷 : ㅣ1,ㅣ2 다중공선성 높은 곳에 규제를 둬서 웨이트를 낮게?\n",
    "* 다항회귀 : 기존 회귀선을 곡선으로 실데이터에 맞게끔 곡선으로 만듦. \n",
    "* 차분을 줘서 다항회귀로 변형가능\n",
    "* 그리드서치를 통해 확인가능\n",
    "* 잘못하면 과적합이 날 수 있기에 실제 적합한 예측곡선을 가지고 테스트 쪽에도 그대로 적용되는지 확인\n"
   ]
  },
  {
   "cell_type": "markdown",
   "id": "ac1c3247-5a4e-486d-b61a-8f6ee3a20ce3",
   "metadata": {},
   "source": [
    "## 분류화\n",
    "문자열 인코딩(문자열된 걸 학습하려면 수치화해야함.)\n",
    "분류 쪽에서는 a,b,c학점 처럼 문자를 수치화 = 인코딩 하는 법\n",
    "classification하는 방법을 배울 것임."
   ]
  },
  {
   "cell_type": "code",
   "execution_count": null,
   "id": "e7f7a63b-0988-4c01-9406-6aeb8d1bfce9",
   "metadata": {},
   "outputs": [],
   "source": []
  }
 ],
 "metadata": {
  "kernelspec": {
   "display_name": "Python 3",
   "language": "python",
   "name": "python3"
  },
  "language_info": {
   "codemirror_mode": {
    "name": "ipython",
    "version": 3
   },
   "file_extension": ".py",
   "mimetype": "text/x-python",
   "name": "python",
   "nbconvert_exporter": "python",
   "pygments_lexer": "ipython3",
   "version": "3.8.8"
  }
 },
 "nbformat": 4,
 "nbformat_minor": 5
}
