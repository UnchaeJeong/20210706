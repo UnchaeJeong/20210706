{
 "cells": [
  {
   "cell_type": "markdown",
   "id": "055f6ce8",
   "metadata": {},
   "source": [
    "feature: pclass, sex, fare\n",
    "label: survived\n",
    "1. 1등급, female, 32달러 인경우 생사유무를 예측하시요 \n",
    "2. train, test, f1 score 를 구하시요\n",
    "3. confusion matrix 를 구하고 heatmap 을 그리시요.\n",
    "4. roc curve 를 그리시요.\n",
    "5~ 8 .titanic 통계값을 구하시요(문제는 자율)\n"
   ]
  },
  {
   "cell_type": "code",
   "execution_count": 25,
   "id": "71630ba3",
   "metadata": {},
   "outputs": [],
   "source": [
    "from sklearn.datasets import make_classification, load_breast_cancer\n",
    "from sklearn.linear_model import LogisticRegression\n",
    "from sklearn.model_selection import train_test_split\n",
    "\n",
    "import pandas as pd\n",
    "import matplotlib.pyplot as plt\n",
    "import numpy as np\n",
    "import seaborn as sns\n",
    "\n",
    "from sklearn.pipeline import make_pipeline\n",
    "from sklearn.preprocessing import StandardScaler\n",
    "from sklearn.preprocessing import OneHotEncoder, LabelEncoder\n",
    "from sklearn.model_selection import train_test_split\n",
    "from sklearn.model_selection import GridSearchCV\n",
    "from sklearn.compose import make_column_transformer\n",
    "from sklearn.metrics import confusion_matrix, precision_score,roc_curve,f1_score\n",
    "from sklearn.metrics import confusion_matrix, precision_score, recall_score, f1_score\n",
    "\n",
    "import matplotlib\n",
    "plt.rcParams[\"font.family\"]=\"Malgun Gothic\"\n",
    "plt.rcParams[\"axes.unicode_minus\"]= False\n",
    "plt.rcParams['figure.facecolor']='white'\n",
    "plt.rcParams['figure.figsize']=12.8,10.8\n",
    "import seaborn as sns\n",
    "\n",
    "import warnings\n",
    "warnings.simplefilter('ignore')"
   ]
  },
  {
   "cell_type": "markdown",
   "id": "72181224",
   "metadata": {},
   "source": [
    "## 1. 1등급, female, 32달러 인경우 생사유무를 예측하시오 "
   ]
  },
  {
   "cell_type": "code",
   "execution_count": 3,
   "id": "3d3ba462",
   "metadata": {},
   "outputs": [
    {
     "data": {
      "text/html": [
       "<div>\n",
       "<style scoped>\n",
       "    .dataframe tbody tr th:only-of-type {\n",
       "        vertical-align: middle;\n",
       "    }\n",
       "\n",
       "    .dataframe tbody tr th {\n",
       "        vertical-align: top;\n",
       "    }\n",
       "\n",
       "    .dataframe thead th {\n",
       "        text-align: right;\n",
       "    }\n",
       "</style>\n",
       "<table border=\"1\" class=\"dataframe\">\n",
       "  <thead>\n",
       "    <tr style=\"text-align: right;\">\n",
       "      <th></th>\n",
       "      <th>survived</th>\n",
       "      <th>pclass</th>\n",
       "      <th>sex</th>\n",
       "      <th>age</th>\n",
       "      <th>sibsp</th>\n",
       "      <th>parch</th>\n",
       "      <th>fare</th>\n",
       "      <th>embarked</th>\n",
       "      <th>class</th>\n",
       "      <th>who</th>\n",
       "      <th>adult_male</th>\n",
       "      <th>deck</th>\n",
       "      <th>embark_town</th>\n",
       "      <th>alive</th>\n",
       "      <th>alone</th>\n",
       "    </tr>\n",
       "  </thead>\n",
       "  <tbody>\n",
       "    <tr>\n",
       "      <th>0</th>\n",
       "      <td>0</td>\n",
       "      <td>3</td>\n",
       "      <td>male</td>\n",
       "      <td>22.0</td>\n",
       "      <td>1</td>\n",
       "      <td>0</td>\n",
       "      <td>7.2500</td>\n",
       "      <td>S</td>\n",
       "      <td>Third</td>\n",
       "      <td>man</td>\n",
       "      <td>True</td>\n",
       "      <td>NaN</td>\n",
       "      <td>Southampton</td>\n",
       "      <td>no</td>\n",
       "      <td>False</td>\n",
       "    </tr>\n",
       "    <tr>\n",
       "      <th>1</th>\n",
       "      <td>1</td>\n",
       "      <td>1</td>\n",
       "      <td>female</td>\n",
       "      <td>38.0</td>\n",
       "      <td>1</td>\n",
       "      <td>0</td>\n",
       "      <td>71.2833</td>\n",
       "      <td>C</td>\n",
       "      <td>First</td>\n",
       "      <td>woman</td>\n",
       "      <td>False</td>\n",
       "      <td>C</td>\n",
       "      <td>Cherbourg</td>\n",
       "      <td>yes</td>\n",
       "      <td>False</td>\n",
       "    </tr>\n",
       "    <tr>\n",
       "      <th>2</th>\n",
       "      <td>1</td>\n",
       "      <td>3</td>\n",
       "      <td>female</td>\n",
       "      <td>26.0</td>\n",
       "      <td>0</td>\n",
       "      <td>0</td>\n",
       "      <td>7.9250</td>\n",
       "      <td>S</td>\n",
       "      <td>Third</td>\n",
       "      <td>woman</td>\n",
       "      <td>False</td>\n",
       "      <td>NaN</td>\n",
       "      <td>Southampton</td>\n",
       "      <td>yes</td>\n",
       "      <td>True</td>\n",
       "    </tr>\n",
       "    <tr>\n",
       "      <th>3</th>\n",
       "      <td>1</td>\n",
       "      <td>1</td>\n",
       "      <td>female</td>\n",
       "      <td>35.0</td>\n",
       "      <td>1</td>\n",
       "      <td>0</td>\n",
       "      <td>53.1000</td>\n",
       "      <td>S</td>\n",
       "      <td>First</td>\n",
       "      <td>woman</td>\n",
       "      <td>False</td>\n",
       "      <td>C</td>\n",
       "      <td>Southampton</td>\n",
       "      <td>yes</td>\n",
       "      <td>False</td>\n",
       "    </tr>\n",
       "    <tr>\n",
       "      <th>4</th>\n",
       "      <td>0</td>\n",
       "      <td>3</td>\n",
       "      <td>male</td>\n",
       "      <td>35.0</td>\n",
       "      <td>0</td>\n",
       "      <td>0</td>\n",
       "      <td>8.0500</td>\n",
       "      <td>S</td>\n",
       "      <td>Third</td>\n",
       "      <td>man</td>\n",
       "      <td>True</td>\n",
       "      <td>NaN</td>\n",
       "      <td>Southampton</td>\n",
       "      <td>no</td>\n",
       "      <td>True</td>\n",
       "    </tr>\n",
       "    <tr>\n",
       "      <th>...</th>\n",
       "      <td>...</td>\n",
       "      <td>...</td>\n",
       "      <td>...</td>\n",
       "      <td>...</td>\n",
       "      <td>...</td>\n",
       "      <td>...</td>\n",
       "      <td>...</td>\n",
       "      <td>...</td>\n",
       "      <td>...</td>\n",
       "      <td>...</td>\n",
       "      <td>...</td>\n",
       "      <td>...</td>\n",
       "      <td>...</td>\n",
       "      <td>...</td>\n",
       "      <td>...</td>\n",
       "    </tr>\n",
       "    <tr>\n",
       "      <th>886</th>\n",
       "      <td>0</td>\n",
       "      <td>2</td>\n",
       "      <td>male</td>\n",
       "      <td>27.0</td>\n",
       "      <td>0</td>\n",
       "      <td>0</td>\n",
       "      <td>13.0000</td>\n",
       "      <td>S</td>\n",
       "      <td>Second</td>\n",
       "      <td>man</td>\n",
       "      <td>True</td>\n",
       "      <td>NaN</td>\n",
       "      <td>Southampton</td>\n",
       "      <td>no</td>\n",
       "      <td>True</td>\n",
       "    </tr>\n",
       "    <tr>\n",
       "      <th>887</th>\n",
       "      <td>1</td>\n",
       "      <td>1</td>\n",
       "      <td>female</td>\n",
       "      <td>19.0</td>\n",
       "      <td>0</td>\n",
       "      <td>0</td>\n",
       "      <td>30.0000</td>\n",
       "      <td>S</td>\n",
       "      <td>First</td>\n",
       "      <td>woman</td>\n",
       "      <td>False</td>\n",
       "      <td>B</td>\n",
       "      <td>Southampton</td>\n",
       "      <td>yes</td>\n",
       "      <td>True</td>\n",
       "    </tr>\n",
       "    <tr>\n",
       "      <th>888</th>\n",
       "      <td>0</td>\n",
       "      <td>3</td>\n",
       "      <td>female</td>\n",
       "      <td>NaN</td>\n",
       "      <td>1</td>\n",
       "      <td>2</td>\n",
       "      <td>23.4500</td>\n",
       "      <td>S</td>\n",
       "      <td>Third</td>\n",
       "      <td>woman</td>\n",
       "      <td>False</td>\n",
       "      <td>NaN</td>\n",
       "      <td>Southampton</td>\n",
       "      <td>no</td>\n",
       "      <td>False</td>\n",
       "    </tr>\n",
       "    <tr>\n",
       "      <th>889</th>\n",
       "      <td>1</td>\n",
       "      <td>1</td>\n",
       "      <td>male</td>\n",
       "      <td>26.0</td>\n",
       "      <td>0</td>\n",
       "      <td>0</td>\n",
       "      <td>30.0000</td>\n",
       "      <td>C</td>\n",
       "      <td>First</td>\n",
       "      <td>man</td>\n",
       "      <td>True</td>\n",
       "      <td>C</td>\n",
       "      <td>Cherbourg</td>\n",
       "      <td>yes</td>\n",
       "      <td>True</td>\n",
       "    </tr>\n",
       "    <tr>\n",
       "      <th>890</th>\n",
       "      <td>0</td>\n",
       "      <td>3</td>\n",
       "      <td>male</td>\n",
       "      <td>32.0</td>\n",
       "      <td>0</td>\n",
       "      <td>0</td>\n",
       "      <td>7.7500</td>\n",
       "      <td>Q</td>\n",
       "      <td>Third</td>\n",
       "      <td>man</td>\n",
       "      <td>True</td>\n",
       "      <td>NaN</td>\n",
       "      <td>Queenstown</td>\n",
       "      <td>no</td>\n",
       "      <td>True</td>\n",
       "    </tr>\n",
       "  </tbody>\n",
       "</table>\n",
       "<p>891 rows × 15 columns</p>\n",
       "</div>"
      ],
      "text/plain": [
       "     survived  pclass     sex   age  sibsp  parch     fare embarked   class  \\\n",
       "0           0       3    male  22.0      1      0   7.2500        S   Third   \n",
       "1           1       1  female  38.0      1      0  71.2833        C   First   \n",
       "2           1       3  female  26.0      0      0   7.9250        S   Third   \n",
       "3           1       1  female  35.0      1      0  53.1000        S   First   \n",
       "4           0       3    male  35.0      0      0   8.0500        S   Third   \n",
       "..        ...     ...     ...   ...    ...    ...      ...      ...     ...   \n",
       "886         0       2    male  27.0      0      0  13.0000        S  Second   \n",
       "887         1       1  female  19.0      0      0  30.0000        S   First   \n",
       "888         0       3  female   NaN      1      2  23.4500        S   Third   \n",
       "889         1       1    male  26.0      0      0  30.0000        C   First   \n",
       "890         0       3    male  32.0      0      0   7.7500        Q   Third   \n",
       "\n",
       "       who  adult_male deck  embark_town alive  alone  \n",
       "0      man        True  NaN  Southampton    no  False  \n",
       "1    woman       False    C    Cherbourg   yes  False  \n",
       "2    woman       False  NaN  Southampton   yes   True  \n",
       "3    woman       False    C  Southampton   yes  False  \n",
       "4      man        True  NaN  Southampton    no   True  \n",
       "..     ...         ...  ...          ...   ...    ...  \n",
       "886    man        True  NaN  Southampton    no   True  \n",
       "887  woman       False    B  Southampton   yes   True  \n",
       "888  woman       False  NaN  Southampton    no  False  \n",
       "889    man        True    C    Cherbourg   yes   True  \n",
       "890    man        True  NaN   Queenstown    no   True  \n",
       "\n",
       "[891 rows x 15 columns]"
      ]
     },
     "execution_count": 3,
     "metadata": {},
     "output_type": "execute_result"
    }
   ],
   "source": [
    "titanic=sns.load_dataset('titanic')\n",
    "titanic"
   ]
  },
  {
   "cell_type": "code",
   "execution_count": 4,
   "id": "c4187974",
   "metadata": {},
   "outputs": [],
   "source": [
    "titanic_df = titanic[['pclass','sex','fare','survived']]\n",
    "x_data = titanic_df.drop('survived', axis = 1)\n",
    "y_data = titanic_df[['survived']]"
   ]
  },
  {
   "cell_type": "code",
   "execution_count": 5,
   "id": "cb736b7e",
   "metadata": {},
   "outputs": [],
   "source": [
    "x_data['sex'] = x_data['sex'].replace(['male', 'female'], [0, 1])"
   ]
  },
  {
   "cell_type": "code",
   "execution_count": 6,
   "id": "9c0dffd0",
   "metadata": {},
   "outputs": [
    {
     "data": {
      "text/html": [
       "<div>\n",
       "<style scoped>\n",
       "    .dataframe tbody tr th:only-of-type {\n",
       "        vertical-align: middle;\n",
       "    }\n",
       "\n",
       "    .dataframe tbody tr th {\n",
       "        vertical-align: top;\n",
       "    }\n",
       "\n",
       "    .dataframe thead th {\n",
       "        text-align: right;\n",
       "    }\n",
       "</style>\n",
       "<table border=\"1\" class=\"dataframe\">\n",
       "  <thead>\n",
       "    <tr style=\"text-align: right;\">\n",
       "      <th></th>\n",
       "      <th>pclass</th>\n",
       "      <th>sex</th>\n",
       "      <th>fare</th>\n",
       "    </tr>\n",
       "  </thead>\n",
       "  <tbody>\n",
       "    <tr>\n",
       "      <th>0</th>\n",
       "      <td>3</td>\n",
       "      <td>0</td>\n",
       "      <td>7.2500</td>\n",
       "    </tr>\n",
       "    <tr>\n",
       "      <th>1</th>\n",
       "      <td>1</td>\n",
       "      <td>1</td>\n",
       "      <td>71.2833</td>\n",
       "    </tr>\n",
       "    <tr>\n",
       "      <th>2</th>\n",
       "      <td>3</td>\n",
       "      <td>1</td>\n",
       "      <td>7.9250</td>\n",
       "    </tr>\n",
       "    <tr>\n",
       "      <th>3</th>\n",
       "      <td>1</td>\n",
       "      <td>1</td>\n",
       "      <td>53.1000</td>\n",
       "    </tr>\n",
       "    <tr>\n",
       "      <th>4</th>\n",
       "      <td>3</td>\n",
       "      <td>0</td>\n",
       "      <td>8.0500</td>\n",
       "    </tr>\n",
       "    <tr>\n",
       "      <th>...</th>\n",
       "      <td>...</td>\n",
       "      <td>...</td>\n",
       "      <td>...</td>\n",
       "    </tr>\n",
       "    <tr>\n",
       "      <th>886</th>\n",
       "      <td>2</td>\n",
       "      <td>0</td>\n",
       "      <td>13.0000</td>\n",
       "    </tr>\n",
       "    <tr>\n",
       "      <th>887</th>\n",
       "      <td>1</td>\n",
       "      <td>1</td>\n",
       "      <td>30.0000</td>\n",
       "    </tr>\n",
       "    <tr>\n",
       "      <th>888</th>\n",
       "      <td>3</td>\n",
       "      <td>1</td>\n",
       "      <td>23.4500</td>\n",
       "    </tr>\n",
       "    <tr>\n",
       "      <th>889</th>\n",
       "      <td>1</td>\n",
       "      <td>0</td>\n",
       "      <td>30.0000</td>\n",
       "    </tr>\n",
       "    <tr>\n",
       "      <th>890</th>\n",
       "      <td>3</td>\n",
       "      <td>0</td>\n",
       "      <td>7.7500</td>\n",
       "    </tr>\n",
       "  </tbody>\n",
       "</table>\n",
       "<p>891 rows × 3 columns</p>\n",
       "</div>"
      ],
      "text/plain": [
       "     pclass  sex     fare\n",
       "0         3    0   7.2500\n",
       "1         1    1  71.2833\n",
       "2         3    1   7.9250\n",
       "3         1    1  53.1000\n",
       "4         3    0   8.0500\n",
       "..      ...  ...      ...\n",
       "886       2    0  13.0000\n",
       "887       1    1  30.0000\n",
       "888       3    1  23.4500\n",
       "889       1    0  30.0000\n",
       "890       3    0   7.7500\n",
       "\n",
       "[891 rows x 3 columns]"
      ]
     },
     "execution_count": 6,
     "metadata": {},
     "output_type": "execute_result"
    }
   ],
   "source": [
    "x_data"
   ]
  },
  {
   "cell_type": "code",
   "execution_count": 7,
   "id": "af87f661",
   "metadata": {},
   "outputs": [],
   "source": [
    "### fare만 스케일링을 했습니다 (제일 점수 잘나와서)\n",
    "scalex= StandardScaler()\n",
    "x_data['fare'] = scalex.fit_transform(x_data[['fare']].values)"
   ]
  },
  {
   "cell_type": "code",
   "execution_count": 8,
   "id": "b95413bd",
   "metadata": {},
   "outputs": [],
   "source": [
    "x_train, x_test, y_train, y_test = train_test_split(x_data, y_data, test_size = 0.2, stratify = y_data, \n",
    "                                                    random_state = 1)"
   ]
  },
  {
   "cell_type": "code",
   "execution_count": 33,
   "id": "0ce11a5b",
   "metadata": {
    "scrolled": true
   },
   "outputs": [
    {
     "data": {
      "text/plain": [
       "GridSearchCV(estimator=Pipeline(steps=[('logisticregression',\n",
       "                                        LogisticRegression())]),\n",
       "             param_grid={'logisticregression__C': array([0.        , 0.05263158, 0.10526316, 0.15789474, 0.21052632,\n",
       "       0.26315789, 0.31578947, 0.36842105, 0.42105263, 0.47368421,\n",
       "       0.52631579, 0.57894737, 0.63157895, 0.68421053, 0.73684211,\n",
       "       0.78947368, 0.84210526, 0.89473684, 0.94736842, 1.        ]),\n",
       "                         'logisticregression__penalty': ['l1', 'l2',\n",
       "                                                         'elasticnet', 'none'],\n",
       "                         'logisticregression__solver': ['newton-cg', 'lbfgs',\n",
       "                                                        'liblinear', 'sag',\n",
       "                                                        'saga']},\n",
       "             scoring='f1')"
      ]
     },
     "execution_count": 33,
     "metadata": {},
     "output_type": "execute_result"
    }
   ],
   "source": [
    "model_logistic = make_pipeline(LogisticRegression())\n",
    "param_value = {'logisticregression__C': np.linspace(0, 1, 20),\n",
    "               'logisticregression__penalty':['l1', 'l2', 'elasticnet', 'none']\n",
    "              , 'logisticregression__solver': ['newton-cg', 'lbfgs', 'liblinear', 'sag', 'saga']}\n",
    "gridS = GridSearchCV(model_logistic, param_grid = param_value,\n",
    "                    scoring='f1' )\n",
    "gridS.fit(x_train, y_train)"
   ]
  },
  {
   "cell_type": "markdown",
   "id": "b93dc712",
   "metadata": {},
   "source": [
    "▼scalex is not defined"
   ]
  },
  {
   "cell_type": "code",
   "execution_count": 34,
   "id": "8fd45273",
   "metadata": {},
   "outputs": [
    {
     "name": "stdout",
     "output_type": "stream",
     "text": [
      "[[0.15094079 0.84905921]]\n",
      "[1]\n",
      "생존했을 가능성이 크다\n"
     ]
    }
   ],
   "source": [
    "# predict (1등급, female, 32달러)\n",
    "scv = scalex.transform([[32]])\n",
    "print(gridS.predict_proba([[1, 1, scv[0]]]))\n",
    "print(gridS.predict([[1, 1, scv[0]]]))\n",
    "print('생존했을 가능성이 크다')"
   ]
  },
  {
   "cell_type": "markdown",
   "id": "8df9dca4",
   "metadata": {},
   "source": [
    "## 2. train, test, f1 score 를 구하시오"
   ]
  },
  {
   "cell_type": "code",
   "execution_count": 20,
   "id": "5916fd44",
   "metadata": {},
   "outputs": [
    {
     "name": "stdout",
     "output_type": "stream",
     "text": [
      "train precision score :  0.74\n",
      "train recall score :  0.6776556776556777\n",
      "f1_score :  0.7074569789674952\n",
      "\n",
      "\n",
      "test precision score :  0.7575757575757576\n",
      "test recall score :  0.7246376811594203\n",
      "f1_score :  0.7407407407407408\n"
     ]
    }
   ],
   "source": [
    "# train\n",
    "y_predict = gridS.predict(x_train)\n",
    "print('train precision score : ', precision_score(y_train, y_predict))\n",
    "print('train recall score : ', recall_score(y_train, y_predict))\n",
    "print('f1_score : ', f1_score(y_test, y_predict))\n",
    "\n",
    "#test\n",
    "y_predict = gridS.predict(x_test)\n",
    "print('test precision score : ', precision_score(y_test, y_predict))\n",
    "print('test recall score : ', recall_score(y_test, y_predict))\n",
    "print('f1_score : ', f1_score(y_test, y_predict))"
   ]
  },
  {
   "cell_type": "markdown",
   "id": "b1f7a728",
   "metadata": {},
   "source": [
    "## 3. confusion matrix 를 구하고 heatmap 을 그리시오."
   ]
  },
  {
   "cell_type": "code",
   "execution_count": 22,
   "id": "fb309acd",
   "metadata": {},
   "outputs": [
    {
     "data": {
      "image/png": "[encoded data removed]",
      "text/plain": [
       "<Figure size 921.6x777.6 with 2 Axes>"
      ]
     },
     "metadata": {},
     "output_type": "display_data"
    }
   ],
   "source": [
    "y_train_pred = gridS.predict(x_train)\n",
    "cm_train = confusion_matrix(y_train, y_train_pred)\n",
    "\n",
    "sns.heatmap(cm_train, annot = True,fmt='d', yticklabels = ['사망', '생존'], xticklabels = ['사망예상', '생존예상'],annot_kws={\"size\": 20},linewidths=.5)\n",
    "plt.show()\n"
   ]
  },
  {
   "cell_type": "markdown",
   "id": "f5a2f02c",
   "metadata": {},
   "source": [
    "## 4. roc curve 를 그리시오."
   ]
  },
  {
   "cell_type": "code",
   "execution_count": 23,
   "id": "8225960d",
   "metadata": {},
   "outputs": [
    {
     "data": {
      "image/png": "[encoded data removed]",
      "text/plain": [
       "<Figure size 921.6x777.6 with 1 Axes>"
      ]
     },
     "metadata": {},
     "output_type": "display_data"
    }
   ],
   "source": [
    "p = gridS.predict_proba(x_test)\n",
    "\n",
    "df = y_test.copy()\n",
    "\n",
    "df['proba'] = p[:, 1]\n",
    "\n",
    "df.sort_values(by='proba')\n",
    "\n",
    "df['proba']\n",
    "\n",
    "fpr, tpr, thresholds = roc_curve(y_test.values, df['proba'])\n",
    "# print(fpr)\n",
    "# print(tpr)\n",
    "# print(thresholds)\n",
    "plt.plot(fpr, tpr, 'r--')\n",
    "plt.plot([0,1], [0,1], 'k--8')\n",
    "plt.xlabel('FPR')\n",
    "plt.ylabel('TPR')\n",
    "plt.show()"
   ]
  },
  {
   "cell_type": "markdown",
   "id": "51b2c90e",
   "metadata": {},
   "source": [
    "## 5.등급별 생존률"
   ]
  },
  {
   "cell_type": "code",
   "execution_count": 46,
   "id": "66425ad2",
   "metadata": {},
   "outputs": [
    {
     "data": {
      "image/png": "[encoded data removed]",
      "text/plain": [
       "<Figure size 921.6x777.6 with 1 Axes>"
      ]
     },
     "metadata": {},
     "output_type": "display_data"
    }
   ],
   "source": [
    "sns.countplot(x ='pclass', data = titanic, hue= 'survived')\n",
    "plt.show()"
   ]
  },
  {
   "cell_type": "markdown",
   "id": "060f6420",
   "metadata": {},
   "source": [
    "## 6. pclass 별 성별 차이로 인한 생존률"
   ]
  },
  {
   "cell_type": "code",
   "execution_count": 31,
   "id": "a79f1af2",
   "metadata": {},
   "outputs": [
    {
     "data": {
      "image/png": "[encoded data removed]",
      "text/plain": [
       "<Figure size 714.5x432 with 1 Axes>"
      ]
     },
     "metadata": {},
     "output_type": "display_data"
    }
   ],
   "source": [
    "sns.factorplot('pclass', 'survived', hue='sex', data=titanic,\n",
    "              size=6, aspect=1.5)\n",
    "plt.show()"
   ]
  },
  {
   "cell_type": "code",
   "execution_count": 32,
   "id": "0ab236e6",
   "metadata": {},
   "outputs": [
    {
     "data": {
      "image/png": "[encoded data removed]",
      "text/plain": [
       "<Figure size 921.6x777.6 with 1 Axes>"
      ]
     },
     "metadata": {},
     "output_type": "display_data"
    }
   ],
   "source": [
    "def bar_chart(feature):\n",
    "    survived = titanic[titanic['survived']==1][feature].value_counts() \n",
    "    dead = titanic[titanic['survived']==0][feature].value_counts() \n",
    "    df = pd.DataFrame([survived,dead]) \n",
    "    df.index = ['survived','dead'] \n",
    "    df.plot(kind='bar',stacked=True) \n",
    "bar_chart('sex')"
   ]
  },
  {
   "cell_type": "markdown",
   "id": "6a74a497",
   "metadata": {},
   "source": [
    "#### pclass 상관없이 여성의 생존률이 더 높다 "
   ]
  },
  {
   "cell_type": "markdown",
   "id": "d7f07ca8",
   "metadata": {},
   "source": [
    "## 7. 낮은 등급의 요금이 높은 등급의 요금보다 높은 경우가 있을까"
   ]
  },
  {
   "cell_type": "code",
   "execution_count": 45,
   "id": "936589c9",
   "metadata": {},
   "outputs": [
    {
     "data": {
      "text/plain": [
       "pclass\n",
       "1    84.154687\n",
       "2    20.662183\n",
       "3    13.675550\n",
       "Name: fare, dtype: float64"
      ]
     },
     "execution_count": 45,
     "metadata": {},
     "output_type": "execute_result"
    }
   ],
   "source": [
    "# 등급별 요금의 평균\n",
    "titanic_df.groupby('pclass')['fare'].mean()"
   ]
  },
  {
   "cell_type": "code",
   "execution_count": 55,
   "id": "bc351db8",
   "metadata": {},
   "outputs": [],
   "source": [
    "# pclass 별로 그룹을 나눴다\n",
    "titanic_df_fare1 = [titanic_df['pclass'][i] == 1 for i in range(len(titanic))]\n",
    "titanic_df_fare1 = titanic_df[titanic_df_fare1]\n",
    "\n",
    "titanic_df_fare2 = [titanic_df['pclass'][i] == 2 for i in range(len(titanic))]\n",
    "titanic_df_fare2 = titanic_df[titanic_df_fare2]\n",
    "\n",
    "titanic_df_fare3 = [titanic_df['pclass'][i] == 3 for i in range(len(titanic))]\n",
    "titanic_df_fare3 = titanic_df[titanic_df_fare3]"
   ]
  },
  {
   "cell_type": "code",
   "execution_count": 67,
   "id": "79bb49fe",
   "metadata": {},
   "outputs": [
    {
     "name": "stdout",
     "output_type": "stream",
     "text": [
      "5\n",
      "6\n",
      "4\n"
     ]
    }
   ],
   "source": [
    "# 요금에 대한 결측치는 없지만 0이 있다.\n",
    "print((titanic_df_fare1['fare'] == 0).sum())\n",
    "print((titanic_df_fare2['fare'] == 0).sum())\n",
    "print((titanic_df_fare3['fare'] == 0).sum())"
   ]
  },
  {
   "cell_type": "code",
   "execution_count": 72,
   "id": "e960a29e",
   "metadata": {},
   "outputs": [
    {
     "name": "stdout",
     "output_type": "stream",
     "text": [
      "0\n",
      "0\n",
      "0\n"
     ]
    }
   ],
   "source": [
    "# 무임승차가 아닐 것이라 판단하고 결측치로 생각하여 등급별 평균으로 요금을 대체해준다.\n",
    "titanic_df_fare1['fare'][titanic_df_fare1['fare'] == 0] = titanic_df_fare1['fare'].mean()\n",
    "titanic_df_fare2['fare'][titanic_df_fare2['fare'] == 0] = titanic_df_fare2['fare'].mean()\n",
    "titanic_df_fare3['fare'][titanic_df_fare3['fare'] == 0] = titanic_df_fare3['fare'].mean()\n",
    "\n",
    "print((titanic_df_fare1['fare'] == 0).sum())\n",
    "print((titanic_df_fare2['fare'] == 0).sum())\n",
    "print((titanic_df_fare3['fare'] == 0).sum())"
   ]
  },
  {
   "cell_type": "code",
   "execution_count": 75,
   "id": "1f834c2e",
   "metadata": {},
   "outputs": [
    {
     "name": "stdout",
     "output_type": "stream",
     "text": [
      "pclass = 1인 승객의 최소 요금과 pclass = 2인 승객의 최대 요금 비교\n",
      "5.0 73.5\n",
      "\n",
      "pclass = 2인 승객의 최소 요금과 pclass = 3인 승객의 최대 요금 비교\n",
      "10.5 69.55\n"
     ]
    }
   ],
   "source": [
    "print('pclass = 1인 승객의 최소 요금과 pclass = 2인 승객의 최대 요금 비교')\n",
    "print(titanic_df_fare1['fare'].min(), titanic_df_fare2['fare'].max())\n",
    "print()\n",
    "print('pclass = 2인 승객의 최소 요금과 pclass = 3인 승객의 최대 요금 비교')\n",
    "print(titanic_df_fare2['fare'].min(), titanic_df_fare3['fare'].max())"
   ]
  },
  {
   "cell_type": "markdown",
   "id": "37cd9caf",
   "metadata": {},
   "source": [
    "이유는 모르겠으나, pclass = 2와 pclass = 3인 승객의 요금도 비싼것이 있음을 알 수 있다."
   ]
  },
  {
   "cell_type": "markdown",
   "id": "829728eb",
   "metadata": {},
   "source": [
    "## 8. 연령대별 빈도수 및 생존률 시각화"
   ]
  },
  {
   "cell_type": "code",
   "execution_count": 79,
   "id": "99cc7af8",
   "metadata": {},
   "outputs": [
    {
     "name": "stdout",
     "output_type": "stream",
     "text": [
      "나이 결측치 총 갯수 : 177\n"
     ]
    }
   ],
   "source": [
    "# 나이를 추가한 데이터프레임 생성\n",
    "titanic_df = titanic[['pclass', 'age', 'sex', 'fare', 'survived']]\n",
    "\n",
    "# 나이 결측치 확인\n",
    "print('나이 결측치 총 갯수 :', titanic_df['age'].isna().sum())"
   ]
  },
  {
   "cell_type": "code",
   "execution_count": null,
   "id": "5e30c065",
   "metadata": {},
   "outputs": [],
   "source": [
    "# titanic_df['age'].fillna( titanic_df['age'].mean, inplace=True)"
   ]
  },
  {
   "cell_type": "code",
   "execution_count": 105,
   "id": "4dcae03e",
   "metadata": {},
   "outputs": [
    {
     "data": {
      "text/plain": [
       "sex     pclass\n",
       "female  1         34.611765\n",
       "        2         28.722973\n",
       "        3         21.750000\n",
       "male    1         41.281386\n",
       "        2         30.740707\n",
       "        3         26.507589\n",
       "Name: age, dtype: float64"
      ]
     },
     "execution_count": 105,
     "metadata": {},
     "output_type": "execute_result"
    }
   ],
   "source": [
    "# sex와 pclass로 그룹을 나누어 그룹별 평균 나이를 구한다\n",
    "a = titanic_df.groupby(['sex', 'pclass'])['age'].mean()\n",
    "a"
   ]
  },
  {
   "cell_type": "code",
   "execution_count": 106,
   "id": "7a683ed2",
   "metadata": {},
   "outputs": [],
   "source": [
    "# 저걸 이용해서 결측값을 대체한다\n",
    "a1 = titanic_df.groupby(['sex', 'pclass'])['age']\n",
    "titanic_df['age'] = a1.apply(lambda x : x.fillna(x.mean()))"
   ]
  },
  {
   "cell_type": "code",
   "execution_count": 107,
   "id": "fe7eb9f8",
   "metadata": {},
   "outputs": [
    {
     "data": {
      "text/plain": [
       "0"
      ]
     },
     "execution_count": 107,
     "metadata": {},
     "output_type": "execute_result"
    }
   ],
   "source": [
    "# 나이 결측치 다시 확인\n",
    "titanic_df['age'].isna().sum()"
   ]
  },
  {
   "cell_type": "code",
   "execution_count": 114,
   "id": "7401129e",
   "metadata": {},
   "outputs": [
    {
     "data": {
      "text/html": [
       "<div>\n",
       "<style scoped>\n",
       "    .dataframe tbody tr th:only-of-type {\n",
       "        vertical-align: middle;\n",
       "    }\n",
       "\n",
       "    .dataframe tbody tr th {\n",
       "        vertical-align: top;\n",
       "    }\n",
       "\n",
       "    .dataframe thead th {\n",
       "        text-align: right;\n",
       "    }\n",
       "</style>\n",
       "<table border=\"1\" class=\"dataframe\">\n",
       "  <thead>\n",
       "    <tr style=\"text-align: right;\">\n",
       "      <th></th>\n",
       "      <th>pclass</th>\n",
       "      <th>age</th>\n",
       "      <th>sex</th>\n",
       "      <th>fare</th>\n",
       "      <th>survived</th>\n",
       "      <th>연령대</th>\n",
       "    </tr>\n",
       "  </thead>\n",
       "  <tbody>\n",
       "    <tr>\n",
       "      <th>0</th>\n",
       "      <td>3</td>\n",
       "      <td>22.00</td>\n",
       "      <td>male</td>\n",
       "      <td>7.2500</td>\n",
       "      <td>0</td>\n",
       "      <td>20.0</td>\n",
       "    </tr>\n",
       "    <tr>\n",
       "      <th>1</th>\n",
       "      <td>1</td>\n",
       "      <td>38.00</td>\n",
       "      <td>female</td>\n",
       "      <td>71.2833</td>\n",
       "      <td>1</td>\n",
       "      <td>30.0</td>\n",
       "    </tr>\n",
       "    <tr>\n",
       "      <th>2</th>\n",
       "      <td>3</td>\n",
       "      <td>26.00</td>\n",
       "      <td>female</td>\n",
       "      <td>7.9250</td>\n",
       "      <td>1</td>\n",
       "      <td>20.0</td>\n",
       "    </tr>\n",
       "    <tr>\n",
       "      <th>3</th>\n",
       "      <td>1</td>\n",
       "      <td>35.00</td>\n",
       "      <td>female</td>\n",
       "      <td>53.1000</td>\n",
       "      <td>1</td>\n",
       "      <td>30.0</td>\n",
       "    </tr>\n",
       "    <tr>\n",
       "      <th>4</th>\n",
       "      <td>3</td>\n",
       "      <td>35.00</td>\n",
       "      <td>male</td>\n",
       "      <td>8.0500</td>\n",
       "      <td>0</td>\n",
       "      <td>30.0</td>\n",
       "    </tr>\n",
       "    <tr>\n",
       "      <th>...</th>\n",
       "      <td>...</td>\n",
       "      <td>...</td>\n",
       "      <td>...</td>\n",
       "      <td>...</td>\n",
       "      <td>...</td>\n",
       "      <td>...</td>\n",
       "    </tr>\n",
       "    <tr>\n",
       "      <th>886</th>\n",
       "      <td>2</td>\n",
       "      <td>27.00</td>\n",
       "      <td>male</td>\n",
       "      <td>13.0000</td>\n",
       "      <td>0</td>\n",
       "      <td>20.0</td>\n",
       "    </tr>\n",
       "    <tr>\n",
       "      <th>887</th>\n",
       "      <td>1</td>\n",
       "      <td>19.00</td>\n",
       "      <td>female</td>\n",
       "      <td>30.0000</td>\n",
       "      <td>1</td>\n",
       "      <td>10.0</td>\n",
       "    </tr>\n",
       "    <tr>\n",
       "      <th>888</th>\n",
       "      <td>3</td>\n",
       "      <td>21.75</td>\n",
       "      <td>female</td>\n",
       "      <td>23.4500</td>\n",
       "      <td>0</td>\n",
       "      <td>20.0</td>\n",
       "    </tr>\n",
       "    <tr>\n",
       "      <th>889</th>\n",
       "      <td>1</td>\n",
       "      <td>26.00</td>\n",
       "      <td>male</td>\n",
       "      <td>30.0000</td>\n",
       "      <td>1</td>\n",
       "      <td>20.0</td>\n",
       "    </tr>\n",
       "    <tr>\n",
       "      <th>890</th>\n",
       "      <td>3</td>\n",
       "      <td>32.00</td>\n",
       "      <td>male</td>\n",
       "      <td>7.7500</td>\n",
       "      <td>0</td>\n",
       "      <td>30.0</td>\n",
       "    </tr>\n",
       "  </tbody>\n",
       "</table>\n",
       "<p>891 rows × 6 columns</p>\n",
       "</div>"
      ],
      "text/plain": [
       "     pclass    age     sex     fare  survived   연령대\n",
       "0         3  22.00    male   7.2500         0  20.0\n",
       "1         1  38.00  female  71.2833         1  30.0\n",
       "2         3  26.00  female   7.9250         1  20.0\n",
       "3         1  35.00  female  53.1000         1  30.0\n",
       "4         3  35.00    male   8.0500         0  30.0\n",
       "..      ...    ...     ...      ...       ...   ...\n",
       "886       2  27.00    male  13.0000         0  20.0\n",
       "887       1  19.00  female  30.0000         1  10.0\n",
       "888       3  21.75  female  23.4500         0  20.0\n",
       "889       1  26.00    male  30.0000         1  20.0\n",
       "890       3  32.00    male   7.7500         0  30.0\n",
       "\n",
       "[891 rows x 6 columns]"
      ]
     },
     "execution_count": 114,
     "metadata": {},
     "output_type": "execute_result"
    }
   ],
   "source": [
    "# 연령대 열 생성\n",
    "titanic_df['연령대'] = (titanic_df['age'] // 10) * 10\n",
    "titanic_df"
   ]
  },
  {
   "cell_type": "code",
   "execution_count": 118,
   "id": "a5e49ef7",
   "metadata": {},
   "outputs": [
    {
     "data": {
      "image/png": "[encoded data removed]",
      "text/plain": [
       "<Figure size 921.6x777.6 with 1 Axes>"
      ]
     },
     "metadata": {},
     "output_type": "display_data"
    }
   ],
   "source": [
    "sns.countplot(x ='연령대', data = titanic_df, hue= 'survived')\n",
    "plt.show()"
   ]
  },
  {
   "cell_type": "markdown",
   "id": "4a550b43",
   "metadata": {},
   "source": [
    "아동을 제외한 모든 연령대에서 생존보다 사망자 수가 더 많다"
   ]
  }
 ],
 "metadata": {
  "interpreter": {
   "hash": "3daa3430744053f4748a69c6948da8999f75f0c797f8ffecf263e95f10f995f6"
  },
  "kernelspec": {
   "display_name": "Python 3",
   "language": "python",
   "name": "python3"
  },
  "language_info": {
   "codemirror_mode": {
    "name": "ipython",
    "version": 3
   },
   "file_extension": ".py",
   "mimetype": "text/x-python",
   "name": "python",
   "nbconvert_exporter": "python",
   "pygments_lexer": "ipython3",
   "version": "3.8.8"
  }
 },
 "nbformat": 4,
 "nbformat_minor": 5
}
