{
 "cells": [
  {
   "cell_type": "markdown",
   "id": "33e7add3-6e00-41a4-88f7-2db519e6ddc5",
   "metadata": {},
   "source": [
    "# 과제"
   ]
  },
  {
   "cell_type": "markdown",
   "id": "8a9cc830-7022-4fde-936a-0dec84200a20",
   "metadata": {},
   "source": [
    "현대 자동차 데이터를 이용\n",
    "\n",
    "가격:1135 \n",
    "\\\\년식:2015\n",
    "\\\\연비: 15\n",
    "\\\\마력:100\n",
    "\\\\토크:13.6\n",
    "\\\\연료:가솔린\n",
    "\\\\하이브리드:0\n",
    "\\\\배기량:1368\n",
    "\\\\중량:1035\n",
    "\\\\변속기:수동\n",
    "\n",
    "인경우 종류( 준중형, 소형, 대형)\n",
    "를 예측하시요.\n",
    "\n",
    " KNN, decision tree, naive_bayes, svc \n",
    "각각의 모델에 대해 \n",
    "\n",
    "0. 각모델별 예측값 구하시요.\n",
    "\n",
    "1. f1 score(train, test) , confusion matrix,\n",
    "를 구하시요\n",
    "\n",
    "2. 각모델별 train ,test f1 를  bar 그래프로 그리고\n",
    "가장높은 f1 score 의 모델을 확인하시요.\n"
   ]
  },
  {
   "cell_type": "code",
   "execution_count": 1,
   "id": "e261920a-3d55-40e9-bbe7-0f73464a5ff3",
   "metadata": {},
   "outputs": [],
   "source": [
    "from sklearn.datasets import make_classification\n",
    "\n",
    "from sklearn.model_selection import train_test_split, GridSearchCV\n",
    "from sklearn.model_selection import cross_val_score, cross_validate\n",
    "import multiprocessing\n",
    "\n",
    "from sklearn.neighbors import KNeighborsClassifier,KNeighborsRegressor\n",
    "from sklearn.pipeline import make_pipeline, Pipeline\n",
    "from sklearn.preprocessing import OneHotEncoder, LabelEncoder\n",
    "from sklearn.compose import make_column_transformer\n",
    "from sklearn.tree import DecisionTreeClassifier, DecisionTreeRegressor, export_graphviz,export_text, plot_tree\n",
    "from sklearn.preprocessing import StandardScaler, MinMaxScaler\n",
    "from sklearn.model_selection import validation_curve\n",
    "from sklearn.model_selection import GridSearchCV\n",
    "from sklearn.naive_bayes import GaussianNB, BernoulliNB, MultinomialNB\n",
    "from sklearn.svm import SVC # 약자(surported vector machin classifier) SVM\n",
    "from sklearn import metrics\n",
    "from sklearn.metrics import confusion_matrix, precision_score, recall_score, f1_score\n",
    "\n",
    "import pandas as pd\n",
    "import numpy as np\n",
    "import matplotlib.pyplot as plt\n",
    "import matplotlib\n",
    "import seaborn as sns\n",
    "\n",
    "import warnings\n",
    "warnings.simplefilter('ignore')\n",
    "\n",
    "matplotlib.rcParams['font.family']='Malgun Gothic'\n",
    "matplotlib.rcParams['axes.unicode_minus'] = False"
   ]
  },
  {
   "cell_type": "code",
   "execution_count": 2,
   "id": "6fba5b5e-c6ec-4d31-a602-7a84cc6a070d",
   "metadata": {},
   "outputs": [
    {
     "data": {
      "text/html": [
       "<div>\n",
       "<style scoped>\n",
       "    .dataframe tbody tr th:only-of-type {\n",
       "        vertical-align: middle;\n",
       "    }\n",
       "\n",
       "    .dataframe tbody tr th {\n",
       "        vertical-align: top;\n",
       "    }\n",
       "\n",
       "    .dataframe thead th {\n",
       "        text-align: right;\n",
       "    }\n",
       "</style>\n",
       "<table border=\"1\" class=\"dataframe\">\n",
       "  <thead>\n",
       "    <tr style=\"text-align: right;\">\n",
       "      <th></th>\n",
       "      <th>가격</th>\n",
       "      <th>년식</th>\n",
       "      <th>종류</th>\n",
       "      <th>연비</th>\n",
       "      <th>마력</th>\n",
       "      <th>토크</th>\n",
       "      <th>연료</th>\n",
       "      <th>하이브리드</th>\n",
       "      <th>배기량</th>\n",
       "      <th>중량</th>\n",
       "      <th>변속기</th>\n",
       "    </tr>\n",
       "  </thead>\n",
       "  <tbody>\n",
       "    <tr>\n",
       "      <th>0</th>\n",
       "      <td>1885</td>\n",
       "      <td>2015</td>\n",
       "      <td>준중형</td>\n",
       "      <td>11.8</td>\n",
       "      <td>172</td>\n",
       "      <td>21.0</td>\n",
       "      <td>가솔린</td>\n",
       "      <td>0</td>\n",
       "      <td>1999</td>\n",
       "      <td>1300</td>\n",
       "      <td>자동</td>\n",
       "    </tr>\n",
       "    <tr>\n",
       "      <th>1</th>\n",
       "      <td>2190</td>\n",
       "      <td>2015</td>\n",
       "      <td>준중형</td>\n",
       "      <td>12.3</td>\n",
       "      <td>204</td>\n",
       "      <td>27.0</td>\n",
       "      <td>가솔린</td>\n",
       "      <td>0</td>\n",
       "      <td>1591</td>\n",
       "      <td>1300</td>\n",
       "      <td>자동</td>\n",
       "    </tr>\n",
       "    <tr>\n",
       "      <th>2</th>\n",
       "      <td>1135</td>\n",
       "      <td>2015</td>\n",
       "      <td>소형</td>\n",
       "      <td>15.0</td>\n",
       "      <td>100</td>\n",
       "      <td>13.6</td>\n",
       "      <td>가솔린</td>\n",
       "      <td>0</td>\n",
       "      <td>1368</td>\n",
       "      <td>1035</td>\n",
       "      <td>수동</td>\n",
       "    </tr>\n",
       "    <tr>\n",
       "      <th>3</th>\n",
       "      <td>1645</td>\n",
       "      <td>2014</td>\n",
       "      <td>소형</td>\n",
       "      <td>14.0</td>\n",
       "      <td>140</td>\n",
       "      <td>17.0</td>\n",
       "      <td>가솔린</td>\n",
       "      <td>0</td>\n",
       "      <td>1591</td>\n",
       "      <td>1090</td>\n",
       "      <td>자동</td>\n",
       "    </tr>\n",
       "    <tr>\n",
       "      <th>4</th>\n",
       "      <td>1960</td>\n",
       "      <td>2015</td>\n",
       "      <td>대형</td>\n",
       "      <td>9.6</td>\n",
       "      <td>175</td>\n",
       "      <td>46.0</td>\n",
       "      <td>디젤</td>\n",
       "      <td>0</td>\n",
       "      <td>2497</td>\n",
       "      <td>1990</td>\n",
       "      <td>자동</td>\n",
       "    </tr>\n",
       "    <tr>\n",
       "      <th>...</th>\n",
       "      <td>...</td>\n",
       "      <td>...</td>\n",
       "      <td>...</td>\n",
       "      <td>...</td>\n",
       "      <td>...</td>\n",
       "      <td>...</td>\n",
       "      <td>...</td>\n",
       "      <td>...</td>\n",
       "      <td>...</td>\n",
       "      <td>...</td>\n",
       "      <td>...</td>\n",
       "    </tr>\n",
       "    <tr>\n",
       "      <th>66</th>\n",
       "      <td>3802</td>\n",
       "      <td>2015</td>\n",
       "      <td>중형</td>\n",
       "      <td>8.5</td>\n",
       "      <td>290</td>\n",
       "      <td>34.8</td>\n",
       "      <td>가솔린</td>\n",
       "      <td>0</td>\n",
       "      <td>3342</td>\n",
       "      <td>1901</td>\n",
       "      <td>자동</td>\n",
       "    </tr>\n",
       "    <tr>\n",
       "      <th>67</th>\n",
       "      <td>1270</td>\n",
       "      <td>2012</td>\n",
       "      <td>소형</td>\n",
       "      <td>13.3</td>\n",
       "      <td>108</td>\n",
       "      <td>13.9</td>\n",
       "      <td>가솔린</td>\n",
       "      <td>0</td>\n",
       "      <td>1396</td>\n",
       "      <td>1040</td>\n",
       "      <td>자동</td>\n",
       "    </tr>\n",
       "    <tr>\n",
       "      <th>68</th>\n",
       "      <td>2430</td>\n",
       "      <td>2015</td>\n",
       "      <td>준중형</td>\n",
       "      <td>12.8</td>\n",
       "      <td>186</td>\n",
       "      <td>41.0</td>\n",
       "      <td>디젤</td>\n",
       "      <td>0</td>\n",
       "      <td>1995</td>\n",
       "      <td>1665</td>\n",
       "      <td>자동</td>\n",
       "    </tr>\n",
       "    <tr>\n",
       "      <th>69</th>\n",
       "      <td>2870</td>\n",
       "      <td>2015</td>\n",
       "      <td>중형</td>\n",
       "      <td>17.7</td>\n",
       "      <td>156</td>\n",
       "      <td>19.3</td>\n",
       "      <td>가솔린</td>\n",
       "      <td>1</td>\n",
       "      <td>1999</td>\n",
       "      <td>1585</td>\n",
       "      <td>자동</td>\n",
       "    </tr>\n",
       "    <tr>\n",
       "      <th>70</th>\n",
       "      <td>3254</td>\n",
       "      <td>2015</td>\n",
       "      <td>대형</td>\n",
       "      <td>13.8</td>\n",
       "      <td>202</td>\n",
       "      <td>45.0</td>\n",
       "      <td>디젤</td>\n",
       "      <td>0</td>\n",
       "      <td>2199</td>\n",
       "      <td>1691</td>\n",
       "      <td>자동</td>\n",
       "    </tr>\n",
       "  </tbody>\n",
       "</table>\n",
       "<p>71 rows × 11 columns</p>\n",
       "</div>"
      ],
      "text/plain": [
       "      가격    년식   종류    연비   마력    토크   연료  하이브리드   배기량    중량 변속기\n",
       "0   1885  2015  준중형  11.8  172  21.0  가솔린      0  1999  1300  자동\n",
       "1   2190  2015  준중형  12.3  204  27.0  가솔린      0  1591  1300  자동\n",
       "2   1135  2015   소형  15.0  100  13.6  가솔린      0  1368  1035  수동\n",
       "3   1645  2014   소형  14.0  140  17.0  가솔린      0  1591  1090  자동\n",
       "4   1960  2015   대형   9.6  175  46.0   디젤      0  2497  1990  자동\n",
       "..   ...   ...  ...   ...  ...   ...  ...    ...   ...   ...  ..\n",
       "66  3802  2015   중형   8.5  290  34.8  가솔린      0  3342  1901  자동\n",
       "67  1270  2012   소형  13.3  108  13.9  가솔린      0  1396  1040  자동\n",
       "68  2430  2015  준중형  12.8  186  41.0   디젤      0  1995  1665  자동\n",
       "69  2870  2015   중형  17.7  156  19.3  가솔린      1  1999  1585  자동\n",
       "70  3254  2015   대형  13.8  202  45.0   디젤      0  2199  1691  자동\n",
       "\n",
       "[71 rows x 11 columns]"
      ]
     },
     "execution_count": 2,
     "metadata": {},
     "output_type": "execute_result"
    }
   ],
   "source": [
    "df = pd.read_excel('data4/hyundaiCar.xlsx')\n",
    "df"
   ]
  },
  {
   "cell_type": "code",
   "execution_count": 3,
   "id": "55707c50-7c13-4fc3-813b-79408f1cf1ee",
   "metadata": {},
   "outputs": [],
   "source": [
    "# 특성 데이터 \n",
    "x_data = df[['가격','년식','연비','마력','토크','연료','하이브리드','배기량','중량','변속기']]\n",
    "y_data = df['종류']"
   ]
  },
  {
   "cell_type": "code",
   "execution_count": 4,
   "id": "93b86e6f-ab03-4cff-b6a8-f50b5c1ae0af",
   "metadata": {},
   "outputs": [],
   "source": [
    "# 문자열 encoding\n",
    "x_data = pd.get_dummies(x_data, columns=['연료','변속기'])\n",
    "# y_data = pd.get_dummies(y_data, columns=['종류'])"
   ]
  },
  {
   "cell_type": "code",
   "execution_count": 5,
   "id": "a19e6c48-c09c-41e7-b3c4-137fd233dd0e",
   "metadata": {
    "tags": []
   },
   "outputs": [],
   "source": [
    "# train set, test set split\n",
    "x_train, x_test, y_train, y_test = train_test_split(x_data, y_data,\n",
    "                                                   test_size=0.2,\n",
    "                                                   stratify=y_data)"
   ]
  },
  {
   "cell_type": "code",
   "execution_count": 6,
   "id": "af7754d6-eafc-4aed-b2df-ae763356ec67",
   "metadata": {},
   "outputs": [],
   "source": [
    "# 예측할 데이터\n",
    "data =[[1135,2015,15,100,13.6,0,1368,1035,0,1,0,1,0]]"
   ]
  },
  {
   "cell_type": "markdown",
   "id": "65bc3f77-39f9-4e93-ad48-5b1978e0b035",
   "metadata": {},
   "source": [
    "---\n",
    "## KNN"
   ]
  },
  {
   "cell_type": "markdown",
   "id": "9d8cc1f9-dd53-41cf-b47a-6c378bf1d990",
   "metadata": {},
   "source": [
    "### KNN 예측값"
   ]
  },
  {
   "cell_type": "code",
   "execution_count": 7,
   "id": "e57df38a-61f6-48f3-987e-175c98a451b5",
   "metadata": {},
   "outputs": [
    {
     "data": {
      "text/plain": [
       "GridSearchCV(estimator=KNeighborsClassifier(),\n",
       "             param_grid={'n_neighbors': [1, 2, 3, 4, 5]}, scoring='f1_macro')"
      ]
     },
     "execution_count": 7,
     "metadata": {},
     "output_type": "execute_result"
    }
   ],
   "source": [
    "model_knn = KNeighborsClassifier()\n",
    "param_value = {'n_neighbors':[1,2,3,4,5] }\n",
    "gridS_knn = GridSearchCV(KNeighborsClassifier(), param_grid=param_value, scoring='f1_macro')\n",
    "gridS_knn.fit(x_train, y_train)\n"
   ]
  },
  {
   "cell_type": "code",
   "execution_count": 8,
   "id": "631fda3b-8c3d-40c8-a1f6-e5577e559562",
   "metadata": {},
   "outputs": [
    {
     "name": "stdout",
     "output_type": "stream",
     "text": [
      "예측값 :  ['소형']\n"
     ]
    }
   ],
   "source": [
    "print('예측값 : ', gridS_knn.predict(data))"
   ]
  },
  {
   "cell_type": "markdown",
   "id": "4a61c5e7-80f2-4fe1-bc48-14561adba638",
   "metadata": {},
   "source": [
    "### KNN f1_score(train, test), confusion matrix"
   ]
  },
  {
   "cell_type": "code",
   "execution_count": 9,
   "id": "ee9d59f6-a3a8-4086-90c2-fc67a04c1de4",
   "metadata": {},
   "outputs": [
    {
     "name": "stdout",
     "output_type": "stream",
     "text": [
      "train f1_score: 1.0\n",
      "test f1_score: 0.7748917748917749\n"
     ]
    }
   ],
   "source": [
    "y_pred_train = gridS_knn.best_estimator_.predict(x_train)\n",
    "f1_train_knn = f1_score(y_train,y_pred_train, average='macro')\n",
    "print('train f1_score:', f1_train_knn)\n",
    "\n",
    "y_pred_test = gridS_knn.best_estimator_.predict(x_test)\n",
    "f1_test_knn = f1_score(y_test,y_pred_test, average='macro')\n",
    "print('test f1_score:', f1_test_knn)"
   ]
  },
  {
   "cell_type": "code",
   "execution_count": 10,
   "id": "8cb37d5d-ee13-4757-946b-3a18f981ecae",
   "metadata": {},
   "outputs": [
    {
     "data": {
      "text/plain": [
       "array(['대형', '소형', '준중형', '중형'], dtype=object)"
      ]
     },
     "execution_count": 10,
     "metadata": {},
     "output_type": "execute_result"
    }
   ],
   "source": [
    "gridS_knn.classes_"
   ]
  },
  {
   "cell_type": "code",
   "execution_count": 11,
   "id": "9325ff67-deab-4f22-9405-896f7d49fbf6",
   "metadata": {},
   "outputs": [],
   "source": [
    "# 특성 데이터 \n",
    "x_data = df[['가격','년식','연비','마력','토크','연료','하이브리드','배기량','중량','변속기']]\n",
    "y_data = df['종류']"
   ]
  },
  {
   "cell_type": "code",
   "execution_count": 12,
   "id": "aac31580-e6b5-4a82-a2ab-3db6382eefe4",
   "metadata": {},
   "outputs": [
    {
     "data": {
      "image/png": "[encoded data removed]",
      "text/plain": [
       "<Figure size 432x288 with 2 Axes>"
      ]
     },
     "metadata": {
      "needs_background": "light"
     },
     "output_type": "display_data"
    }
   ],
   "source": [
    "cm_knn = confusion_matrix(y_train, y_pred_train)\n",
    "\n",
    "sns.heatmap(cm_knn, annot=True, cmap='Reds',\n",
    "           xticklabels=['대형예측','소형예측','준중형예측','중형'],\n",
    "           yticklabels=gridS_knn.classes_, fmt='d')\n",
    "plt.show()"
   ]
  },
  {
   "cell_type": "markdown",
   "id": "f47b3072-5519-40b8-acae-0e37edb550c5",
   "metadata": {},
   "source": [
    "---\n",
    "## decision tree\n",
    "### 예측값 찾기"
   ]
  },
  {
   "cell_type": "code",
   "execution_count": 13,
   "id": "643e3b82-045e-4ab4-83d9-7f4ef9fe4b97",
   "metadata": {},
   "outputs": [
    {
     "data": {
      "text/plain": [
       "GridSearchCV(estimator=Pipeline(steps=[('standardscaler', StandardScaler()),\n",
       "                                       ('decisiontreeclassifier',\n",
       "                                        DecisionTreeClassifier())]),\n",
       "             param_grid={'decisiontreeclassifier__criterion': ['gini',\n",
       "                                                               'entropy']})"
      ]
     },
     "execution_count": 13,
     "metadata": {},
     "output_type": "execute_result"
    }
   ],
   "source": [
    "model_dt = make_pipeline(StandardScaler(), DecisionTreeClassifier())\n",
    "param_value = {'decisiontreeclassifier__criterion':[\"gini\", \"entropy\"]}\n",
    "gridS_dt = GridSearchCV(model_dt, param_grid=param_value)\n",
    "gridS_dt.fit(x_train, y_train)\n",
    "# model_tree.fit(x_train, y_train)"
   ]
  },
  {
   "cell_type": "code",
   "execution_count": 14,
   "id": "aa061869-1a71-4f2e-9715-97a91da09ebc",
   "metadata": {},
   "outputs": [
    {
     "name": "stdout",
     "output_type": "stream",
     "text": [
      "decision_tree 예측값 ['소형']\n"
     ]
    }
   ],
   "source": [
    "print('decision_tree 예측값', gridS_dt.predict(data))"
   ]
  },
  {
   "cell_type": "markdown",
   "id": "6ff71d7d-36e9-4957-b2ea-a09ff73155b5",
   "metadata": {},
   "source": [
    "### DT f1_score(train, test), confusion matrix"
   ]
  },
  {
   "cell_type": "code",
   "execution_count": 15,
   "id": "d616e2c3-f4a7-4648-92ff-47fd17be033b",
   "metadata": {},
   "outputs": [
    {
     "name": "stdout",
     "output_type": "stream",
     "text": [
      "train f1_score: 1.0\n",
      "test f1_score: 0.9415584415584416\n"
     ]
    }
   ],
   "source": [
    "y_pred_train = gridS_dt.best_estimator_.predict(x_train)\n",
    "f1_train_dt = f1_score(y_train, y_pred_train,average='macro')\n",
    "print('train f1_score:', f1_train_dt)\n",
    "\n",
    "y_pred_test = gridS_dt.predict(x_test)\n",
    "f1_test_dt = f1_score(y_test, y_pred_test,average='macro')\n",
    "print('test f1_score:', f1_test_dt)"
   ]
  },
  {
   "cell_type": "code",
   "execution_count": 16,
   "id": "c043d4d2-e3eb-44b8-8d1a-4b977d755994",
   "metadata": {},
   "outputs": [
    {
     "data": {
      "text/plain": [
       "array(['대형', '소형', '준중형', '중형'], dtype=object)"
      ]
     },
     "execution_count": 16,
     "metadata": {},
     "output_type": "execute_result"
    }
   ],
   "source": [
    "gridS_dt.classes_"
   ]
  },
  {
   "cell_type": "code",
   "execution_count": 17,
   "id": "13bff6a4-3c87-4cda-b9d0-1f80812234de",
   "metadata": {},
   "outputs": [
    {
     "data": {
      "image/png": "[encoded data removed]",
      "text/plain": [
       "<Figure size 432x288 with 2 Axes>"
      ]
     },
     "metadata": {
      "needs_background": "light"
     },
     "output_type": "display_data"
    }
   ],
   "source": [
    "cm_dt = confusion_matrix(y_train, y_pred_train)\n",
    "\n",
    "sns.heatmap(cm_dt, annot=True, cmap='Reds',\n",
    "           xticklabels=['대형예측','소형예측','준중형예측','중형'],\n",
    "           yticklabels=gridS_dt.classes_, fmt='d')\n",
    "plt.show()"
   ]
  },
  {
   "cell_type": "markdown",
   "id": "702e7a6d-6b90-4496-a723-a3a82bc56b66",
   "metadata": {},
   "source": [
    "---\n",
    "## naive_bayes\n",
    "### 예측값 찾기"
   ]
  },
  {
   "cell_type": "code",
   "execution_count": 18,
   "id": "c61e14c7-1f75-46de-802a-7184e8643bcd",
   "metadata": {},
   "outputs": [
    {
     "data": {
      "text/plain": [
       "Pipeline(steps=[('standardscaler', StandardScaler()),\n",
       "                ('gaussiannb', GaussianNB())])"
      ]
     },
     "execution_count": 18,
     "metadata": {},
     "output_type": "execute_result"
    }
   ],
   "source": [
    "model_nb = make_pipeline(StandardScaler(), GaussianNB())\n",
    "model_nb.fit(x_train, y_train)"
   ]
  },
  {
   "cell_type": "code",
   "execution_count": 19,
   "id": "7834e1a8-ccbe-4209-8237-8dd529023674",
   "metadata": {},
   "outputs": [
    {
     "name": "stdout",
     "output_type": "stream",
     "text": [
      "예측값:  ['소형']\n"
     ]
    }
   ],
   "source": [
    "print('예측값: ',model_nb.predict(data))"
   ]
  },
  {
   "cell_type": "markdown",
   "id": "ba231bf0-366f-4244-9c16-04134abb8163",
   "metadata": {},
   "source": [
    "### NB f1_score(train, test), confusion matrix"
   ]
  },
  {
   "cell_type": "code",
   "execution_count": 20,
   "id": "fa72da36-188c-42bd-86c2-7ea38e7f94e5",
   "metadata": {},
   "outputs": [
    {
     "name": "stdout",
     "output_type": "stream",
     "text": [
      "train_f1:  0.5830351818723911\n",
      "test_f1:  0.5642857142857143\n"
     ]
    }
   ],
   "source": [
    "y_pred_train = model_nb.predict(x_train)\n",
    "f1_train_nb = f1_score(y_train, y_pred_train, average='macro')\n",
    "print('train_f1: ', f1_train_nb)\n",
    "\n",
    "y_pred_test = model_nb.predict(x_test)\n",
    "f1_test_nb = f1_score(y_test, y_pred_test, average='macro')\n",
    "print('test_f1: ', f1_test_nb)"
   ]
  },
  {
   "cell_type": "code",
   "execution_count": 21,
   "id": "115d79be-ab0e-4d7d-933b-74750972e715",
   "metadata": {},
   "outputs": [
    {
     "data": {
      "text/plain": [
       "array(['대형', '소형', '준중형', '중형'], dtype='<U3')"
      ]
     },
     "execution_count": 21,
     "metadata": {},
     "output_type": "execute_result"
    }
   ],
   "source": [
    "model_nb.classes_"
   ]
  },
  {
   "cell_type": "code",
   "execution_count": 22,
   "id": "79d82815-ec5d-4ff8-9d11-bd45850a6bbb",
   "metadata": {},
   "outputs": [
    {
     "data": {
      "image/png": "[encoded data removed]",
      "text/plain": [
       "<Figure size 432x288 with 2 Axes>"
      ]
     },
     "metadata": {
      "needs_background": "light"
     },
     "output_type": "display_data"
    }
   ],
   "source": [
    "cm_nb = confusion_matrix(y_train, y_pred_train)\n",
    "\n",
    "sns.heatmap(cm_nb, annot=True, cmap='Reds',\n",
    "           xticklabels=['대형예측','소형예측','준중형예측','중형'],\n",
    "           yticklabels=model_nb.classes_, fmt='d')\n",
    "plt.show()"
   ]
  },
  {
   "cell_type": "markdown",
   "id": "d46f4f8d-7793-4a65-b194-98714221e393",
   "metadata": {},
   "source": [
    "---\n",
    "## SVM\n",
    "### 예측값 찾기"
   ]
  },
  {
   "cell_type": "code",
   "execution_count": 23,
   "id": "53041d4a-acc6-41b4-8442-841b340a8010",
   "metadata": {},
   "outputs": [],
   "source": [
    "x_data = pd.get_dummies(x_data, columns=['연료','변속기'])"
   ]
  },
  {
   "cell_type": "code",
   "execution_count": 24,
   "id": "7c50caef-a53b-4106-944e-320b22274c1d",
   "metadata": {
    "tags": []
   },
   "outputs": [
    {
     "data": {
      "text/plain": [
       "GridSearchCV(estimator=Pipeline(steps=[('standardscaler', StandardScaler()),\n",
       "                                       ('svc', SVC())]),\n",
       "             param_grid={'svc__C': [1, 2, 3, 4, 5, 6, 7, 8, 9, 10],\n",
       "                         'svc__gamma': ['scale', 'auto'],\n",
       "                         'svc__kernel': ['linear', 'poly', 'rbf', 'sigmoid']},\n",
       "             scoring='f1_macro')"
      ]
     },
     "execution_count": 24,
     "metadata": {},
     "output_type": "execute_result"
    }
   ],
   "source": [
    "model_svm = make_pipeline(StandardScaler(), SVC())\n",
    "model_svm.fit(x_data, y_data)\n",
    "\n",
    "param_val = {'svc__kernel':['linear', 'poly', 'rbf', 'sigmoid'],\n",
    "            'svc__C':list(range(1, 11)), 'svc__gamma':['scale', 'auto']}\n",
    "gridS_svc= GridSearchCV(model_svm, param_grid=param_val, scoring='f1_macro')\n",
    "gridS_svc.fit(x_train, y_train)"
   ]
  },
  {
   "cell_type": "code",
   "execution_count": 25,
   "id": "b7aa3424-7aae-4470-a7d3-130328c73c9f",
   "metadata": {},
   "outputs": [
    {
     "name": "stdout",
     "output_type": "stream",
     "text": [
      "예측값:  ['소형']\n"
     ]
    }
   ],
   "source": [
    "print('예측값: ',gridS_svc.best_estimator_.predict(data))"
   ]
  },
  {
   "cell_type": "markdown",
   "id": "b7ae98a3-5ebd-4a77-b113-f7b4f7f32341",
   "metadata": {},
   "source": [
    "### SVC f1_score(train, test), confusion matrix"
   ]
  },
  {
   "cell_type": "code",
   "execution_count": 26,
   "id": "c00b5145-8f98-4e15-a8dc-d42be918a328",
   "metadata": {},
   "outputs": [
    {
     "name": "stdout",
     "output_type": "stream",
     "text": [
      "train_f1:  0.9253146853146854\n",
      "test_f1:  0.875\n"
     ]
    }
   ],
   "source": [
    "y_pred_train = gridS_svc.predict(x_train)\n",
    "f1_train_svc = f1_score(y_train, y_pred_train, average='macro')\n",
    "print('train_f1: ', f1_train_svc)\n",
    "\n",
    "y_pred_test = gridS_svc.predict(x_test)\n",
    "f1_test_svc = f1_score(y_test, y_pred_test, average='macro')\n",
    "print('test_f1: ', f1_test_svc)"
   ]
  },
  {
   "cell_type": "code",
   "execution_count": 27,
   "id": "4fa5637c-8b15-4c69-9411-75f0ec4650d4",
   "metadata": {},
   "outputs": [
    {
     "data": {
      "text/plain": [
       "array(['대형', '소형', '준중형', '중형'], dtype=object)"
      ]
     },
     "execution_count": 27,
     "metadata": {},
     "output_type": "execute_result"
    }
   ],
   "source": [
    "gridS_svc.classes_"
   ]
  },
  {
   "cell_type": "code",
   "execution_count": 28,
   "id": "c7c35e18-a577-4459-a76e-3a3d925abd38",
   "metadata": {},
   "outputs": [
    {
     "data": {
      "image/png": "[encoded data removed]",
      "text/plain": [
       "<Figure size 432x288 with 2 Axes>"
      ]
     },
     "metadata": {
      "needs_background": "light"
     },
     "output_type": "display_data"
    }
   ],
   "source": [
    "cm_svc = confusion_matrix(y_train, y_pred_train)\n",
    "\n",
    "sns.heatmap(cm_svc, annot=True, cmap='Reds',\n",
    "           xticklabels=['대형예측','소형예측','준중형예측','중형'],\n",
    "           yticklabels=gridS_svc.classes_, fmt='d')\n",
    "plt.show()"
   ]
  },
  {
   "cell_type": "markdown",
   "id": "281a109c-f561-4350-8802-d53f11ea41a3",
   "metadata": {},
   "source": [
    "---\n",
    "## 각 모델 별 train, test f1의 bar그래프, 가장 높은 f1_score 모델 확인."
   ]
  },
  {
   "cell_type": "code",
   "execution_count": 29,
   "id": "d092d4e6-14d5-4fd2-92a8-e6c177ad8a6f",
   "metadata": {},
   "outputs": [
    {
     "data": {
      "text/plain": [
       "'f1_train_set'"
      ]
     },
     "metadata": {},
     "output_type": "display_data"
    },
    {
     "data": {
      "text/html": [
       "<div>\n",
       "<style scoped>\n",
       "    .dataframe tbody tr th:only-of-type {\n",
       "        vertical-align: middle;\n",
       "    }\n",
       "\n",
       "    .dataframe tbody tr th {\n",
       "        vertical-align: top;\n",
       "    }\n",
       "\n",
       "    .dataframe thead th {\n",
       "        text-align: right;\n",
       "    }\n",
       "</style>\n",
       "<table border=\"1\" class=\"dataframe\">\n",
       "  <thead>\n",
       "    <tr style=\"text-align: right;\">\n",
       "      <th></th>\n",
       "      <th>knn</th>\n",
       "      <th>dt</th>\n",
       "      <th>nb</th>\n",
       "      <th>svc</th>\n",
       "    </tr>\n",
       "  </thead>\n",
       "  <tbody>\n",
       "    <tr>\n",
       "      <th>0</th>\n",
       "      <td>1.0</td>\n",
       "      <td>1.0</td>\n",
       "      <td>0.583035</td>\n",
       "      <td>0.925315</td>\n",
       "    </tr>\n",
       "  </tbody>\n",
       "</table>\n",
       "</div>"
      ],
      "text/plain": [
       "   knn   dt        nb       svc\n",
       "0  1.0  1.0  0.583035  0.925315"
      ]
     },
     "metadata": {},
     "output_type": "display_data"
    },
    {
     "data": {
      "text/plain": [
       "'f1_test_set'"
      ]
     },
     "metadata": {},
     "output_type": "display_data"
    },
    {
     "data": {
      "text/html": [
       "<div>\n",
       "<style scoped>\n",
       "    .dataframe tbody tr th:only-of-type {\n",
       "        vertical-align: middle;\n",
       "    }\n",
       "\n",
       "    .dataframe tbody tr th {\n",
       "        vertical-align: top;\n",
       "    }\n",
       "\n",
       "    .dataframe thead th {\n",
       "        text-align: right;\n",
       "    }\n",
       "</style>\n",
       "<table border=\"1\" class=\"dataframe\">\n",
       "  <thead>\n",
       "    <tr style=\"text-align: right;\">\n",
       "      <th></th>\n",
       "      <th>knn</th>\n",
       "      <th>dt</th>\n",
       "      <th>nb</th>\n",
       "      <th>svc</th>\n",
       "    </tr>\n",
       "  </thead>\n",
       "  <tbody>\n",
       "    <tr>\n",
       "      <th>0</th>\n",
       "      <td>0.774892</td>\n",
       "      <td>0.941558</td>\n",
       "      <td>0.564286</td>\n",
       "      <td>0.875</td>\n",
       "    </tr>\n",
       "  </tbody>\n",
       "</table>\n",
       "</div>"
      ],
      "text/plain": [
       "        knn        dt        nb    svc\n",
       "0  0.774892  0.941558  0.564286  0.875"
      ]
     },
     "metadata": {},
     "output_type": "display_data"
    }
   ],
   "source": [
    "f1_train_set = pd.DataFrame([[f1_train_knn, f1_train_dt, f1_train_nb, f1_train_svc]], columns=['knn','dt','nb','svc'])\n",
    "display('f1_train_set',f1_train_set)\n",
    "\n",
    "f1_test_set = pd.DataFrame([[f1_test_knn, f1_test_dt, f1_test_nb, f1_test_svc]], columns=['knn','dt','nb','svc'])\n",
    "display('f1_test_set', f1_test_set)"
   ]
  },
  {
   "cell_type": "code",
   "execution_count": 30,
   "id": "e480c58f-870c-4dd0-8351-9214cb4be3d1",
   "metadata": {},
   "outputs": [
    {
     "data": {
      "image/png": "[encoded data removed]",
      "text/plain": [
       "<Figure size 1296x432 with 2 Axes>"
      ]
     },
     "metadata": {
      "needs_background": "light"
     },
     "output_type": "display_data"
    }
   ],
   "source": [
    "fig = plt.figure(figsize=(18,6))\n",
    "fig.add_subplot(1,2,1)\n",
    "sns.barplot(data = f1_train_set)\n",
    "plt.title('f1_train_set', fontsize=16)\n",
    "plt.xlabel('분류 모델', fontsize=15)\n",
    "plt.ylabel('f1-score', fontsize=15)\n",
    "plt.xticks(fontsize=13)\n",
    "plt.yticks(fontsize=13)\n",
    "\n",
    "fig.add_subplot(1,2,2)\n",
    "sns.barplot(data = f1_test_set)\n",
    "plt.title('f1_test_set', fontsize=16)\n",
    "plt.xlabel('분류 모델', fontsize=15)\n",
    "plt.ylabel('f1-score', fontsize=15)\n",
    "plt.xticks(fontsize=13)\n",
    "plt.yticks(fontsize=13)\n",
    "plt.show()"
   ]
  },
  {
   "cell_type": "code",
   "execution_count": null,
   "id": "59ed6a0c-853d-4673-bf1d-6807ecb47ed9",
   "metadata": {},
   "outputs": [],
   "source": []
  }
 ],
 "metadata": {
  "kernelspec": {
   "display_name": "Python 3",
   "language": "python",
   "name": "python3"
  },
  "language_info": {
   "codemirror_mode": {
    "name": "ipython",
    "version": 3
   },
   "file_extension": ".py",
   "mimetype": "text/x-python",
   "name": "python",
   "nbconvert_exporter": "python",
   "pygments_lexer": "ipython3",
   "version": "3.8.8"
  },
  "toc-autonumbering": true
 },
 "nbformat": 4,
 "nbformat_minor": 5
}
