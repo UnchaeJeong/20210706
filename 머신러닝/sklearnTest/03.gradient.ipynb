{
 "cells": [
  {
   "cell_type": "code",
   "execution_count": 1,
   "id": "56406883-ac80-40d4-b28e-1d5176ec4cfc",
   "metadata": {},
   "outputs": [],
   "source": [
    "import matplotlib.pyplot as plt\n",
    "import numpy as np"
   ]
  },
  {
   "cell_type": "markdown",
   "id": "24044de7-67c1-44c6-8278-f19aca82e4cd",
   "metadata": {},
   "source": [
    "## 엘리먼트 와이즈(element wise) 연산 = 요소별 연산"
   ]
  },
  {
   "cell_type": "code",
   "execution_count": 10,
   "id": "c83f1015-de2a-448c-ab03-ad39ccd3a21f",
   "metadata": {},
   "outputs": [
    {
     "data": {
      "text/plain": [
       "array([3, 4, 5, 6, 7])"
      ]
     },
     "execution_count": 10,
     "metadata": {},
     "output_type": "execute_result"
    }
   ],
   "source": [
    " x +2  # 더하면 리스트 전체에 똑같이 더하기 되기 떄문에 넘파이 쓸 것.\n",
    "# 엘리먼트 와이즈(element wise) 연산 = 요소별 연산"
   ]
  },
  {
   "cell_type": "markdown",
   "id": "7ffdc909-c4de-4d50-b7df-c73fe8f72d22",
   "metadata": {},
   "source": [
    "### cost()"
   ]
  },
  {
   "cell_type": "code",
   "execution_count": 19,
   "id": "c8e98443-0039-44ef-8385-e1cfdd80799a",
   "metadata": {},
   "outputs": [],
   "source": [
    "# 초기값 주고\n",
    "def cost(x, y,w):\n",
    "    hy = w*x # [-1,-2,-3] - [1,2,3] = [-2,-4,-6]**2 = [4,16,36]/3\n",
    "    cost = np.sum((hy-y)**2)/len(x)\n",
    "    return cost"
   ]
  },
  {
   "cell_type": "code",
   "execution_count": 20,
   "id": "8b7044b1-9f79-43c7-9faa-aad26ec493fe",
   "metadata": {},
   "outputs": [
    {
     "data": {
      "text/plain": [
       "18.666666666666668"
      ]
     },
     "execution_count": 20,
     "metadata": {},
     "output_type": "execute_result"
    }
   ],
   "source": [
    "x_data = np.array([1,2,3])\n",
    "y_data = np.array([1,2,3])\n",
    "cost(x_data,y_data,-1)"
   ]
  },
  {
   "cell_type": "markdown",
   "id": "5a5bf512-2a65-4302-90a3-74220bf4e163",
   "metadata": {},
   "source": [
    "### learning_rate "
   ]
  },
  {
   "cell_type": "code",
   "execution_count": 21,
   "id": "18d03856-a383-4aa5-a6a9-3823d3171400",
   "metadata": {},
   "outputs": [],
   "source": [
    "x = np.array([1,2,3,4,5])\n",
    "y = np.array([5,8,11,14,17])\n",
    "learning_rate = 0.01 # 적절하게 줘야됨. 튀거나 도달 못하거나함"
   ]
  },
  {
   "cell_type": "markdown",
   "id": "8c1b318e-f9d9-41d3-916e-fb7fe75c8ccc",
   "metadata": {},
   "source": [
    "### epochs"
   ]
  },
  {
   "cell_type": "code",
   "execution_count": 27,
   "id": "8055f560-c57d-4df3-9415-c745fbe1dc1a",
   "metadata": {},
   "outputs": [],
   "source": [
    "# 적절한 초기값 \n",
    "w = 5\n",
    "b = 5\n",
    "n = len(x)\n",
    "epochs = 1000 #정해진 것 아님"
   ]
  },
  {
   "cell_type": "markdown",
   "id": "77a0690a-e791-4901-8bc1-71473b67e882",
   "metadata": {},
   "source": [
    "### hist[]\n",
    "### gradientW\n",
    "### gradientB"
   ]
  },
  {
   "cell_type": "code",
   "execution_count": 30,
   "id": "d84d3aaa-54eb-4356-b6c6-d649826f42db",
   "metadata": {
    "tags": []
   },
   "outputs": [
    {
     "name": "stdout",
     "output_type": "stream",
     "text": [
      "최종 w: 2.9992802660637157\n",
      "최종 b: 2.002598467880327\n"
     ]
    }
   ],
   "source": [
    "hist = []\n",
    "for i in range(epochs):\n",
    "    hy = w*x + b\n",
    "    cost = np.sum((hy-y)**2)/n\n",
    "    hist.append(cost)\n",
    "    gradientW = np.sum( (w*x+b -y)*2*x )/n\n",
    "    gradientB = np.sum( (w*x+b -y)*2 )/n\n",
    "    w = w- learning_rate*gradientW\n",
    "    b = b- learning_rate*gradientB\n",
    "#     print('cost:',cost, 'w:',w,'b:',b)\n",
    "    \n",
    "print('최종 w:',w) # 2.9 ==> 3\n",
    "print('최종 b:',b) # b => 2 \n"
   ]
  },
  {
   "cell_type": "markdown",
   "id": "c8f44bbd-894a-46e0-a1d2-90df1833e84e",
   "metadata": {},
   "source": [
    "### plt.plot()\n",
    "### plt.show()"
   ]
  },
  {
   "cell_type": "code",
   "execution_count": 29,
   "id": "fe8b2aaf-78a0-400c-bbb6-cf2e35c31eff",
   "metadata": {},
   "outputs": [
    {
     "data": {
      "image/png": "[encoded data removed]",
      "text/plain": [
       "<Figure size 432x288 with 1 Axes>"
      ]
     },
     "metadata": {
      "needs_background": "light"
     },
     "output_type": "display_data"
    }
   ],
   "source": [
    "plt.plot(hist)\n",
    "plt.show()"
   ]
  },
  {
   "cell_type": "markdown",
   "id": "886bfada-0e62-4ad0-b323-45ff75921cbe",
   "metadata": {},
   "source": [
    "## 통계학에서 사용하는 방법\n",
    "![통계학에서 사용하는 방법](img/통계.png)"
   ]
  },
  {
   "cell_type": "code",
   "execution_count": null,
   "id": "9cff0872-e368-4593-9c94-eadd16108f18",
   "metadata": {},
   "outputs": [],
   "source": []
  }
 ],
 "metadata": {
  "kernelspec": {
   "display_name": "Python 3",
   "language": "python",
   "name": "python3"
  },
  "language_info": {
   "codemirror_mode": {
    "name": "ipython",
    "version": 3
   },
   "file_extension": ".py",
   "mimetype": "text/x-python",
   "name": "python",
   "nbconvert_exporter": "python",
   "pygments_lexer": "ipython3",
   "version": "3.8.8"
  }
 },
 "nbformat": 4,
 "nbformat_minor": 5
}
