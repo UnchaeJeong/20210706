{
 "cells": [
  {
   "cell_type": "code",
   "execution_count": 1,
   "id": "bf7a33db-4f5e-4b2d-9e61-a8cca30dac8c",
   "metadata": {},
   "outputs": [],
   "source": [
    "import pandas as pd\n",
    "\n",
    "from sklearn.ensemble import VotingClassifier # voting regressor도 있음\n",
    "\n",
    "from sklearn.linear_model import LogisticRegression\n",
    "from sklearn.neighbors import KNeighborsClassifier\n",
    "from sklearn.tree import DecisionTreeClassifier\n",
    "\n",
    "from sklearn.datasets import load_breast_cancer\n",
    "from sklearn.model_selection import train_test_split\n",
    "from sklearn.metrics import accuracy_score\n",
    "\n",
    "from warnings import filterwarnings\n",
    "filterwarnings('ignore')\n"
   ]
  },
  {
   "cell_type": "markdown",
   "id": "73e54295-c1a0-49b7-9db6-357c317c80a8",
   "metadata": {},
   "source": [
    "## 앙상블 학습의 유형: 보팅(Voting), 배깅(Bagging), 부스팅(Boosting), 스태킹(Stacking) 등\n",
    "\n",
    "#### 보팅: \n",
    "- 여러 종류의 알고리즘을 사용한 각각의 결과에 대해 투표를 통해 최종 결과를 예측하는 방식\n",
    "\n",
    "#### 배깅\n",
    "- bagging은 bootstrap aggregating의 줄임말\n",
    "- bootstrap:모집단의 성질에 대해 표본을 통해 추정할 수 있는 것처럼, 표본의 성질에 대해서도 재표집(resampling)을 통해 추정할 수 있다는 것이다. 즉 주어진 표본(샘플)에 대해서, 그 샘플에서 또 다시 샘플(재표본)을 여러번(1,000~10,000번, 혹은 그 이상)추출하여 표본의 평균이나 분산 등이 어떤 분포를 가지는가를 알아낼 수 있다.(위키피디아)\n",
    "- 같은 알고리즘에 대해 데이터 샘플을 다르게 두고 학습을 수행해 보팅을 수행하는 방식\n",
    "- 이 때의 데이터 샘플은 중첩이 허용된다. 즉 10000개의 데이터에 대해 10개의 알고리즘이 배깅을 사용할 때,각 1000개의 데이터 내에는 중복된 데이터가 존재할 수 있다. 배깅의 대표적인 방식이 Random Forest\n",
    "\n",
    "#### 부스팅:\n",
    "- 여러 개의 알고리즘이 순차적으로 학습을 하되, 앞에 학습한 알고리즘 예측이 틀린 데이터에 대해 올바르게 예측할 수 있도록, \n",
    "그 다음번 알고리즘에 가중치(Ada)를 부여하여 학습과 예측을 진행하는 방식\n",
    "잔여오차를 다시학습(gradient)\n",
    "\n",
    "\n",
    "\n",
    "( 부스팅 알고리즘은 대표적으로 아래와 같은 알고리즘들이 있음)\n",
    "- **AdaBoost**\n",
    "- Gradient Booting Machine(GBM)\n",
    "- **XGBoost**\n",
    "- LightGBM\n",
    "- CatBoost\n"
   ]
  },
  {
   "cell_type": "code",
   "execution_count": 2,
   "id": "e7e48468-0ad5-4b3e-aaca-8ec2bee89277",
   "metadata": {},
   "outputs": [],
   "source": [
    "cancer = load_breast_cancer()"
   ]
  },
  {
   "cell_type": "code",
   "execution_count": 3,
   "id": "278acf9d-050f-4bc5-aebe-74e657c6dc2b",
   "metadata": {},
   "outputs": [
    {
     "data": {
      "text/plain": [
       "dict_keys(['data', 'target', 'frame', 'target_names', 'DESCR', 'feature_names', 'filename'])"
      ]
     },
     "execution_count": 3,
     "metadata": {},
     "output_type": "execute_result"
    }
   ],
   "source": [
    "cancer.keys() # 악성이냐 양성이냐 분류하는 데이터"
   ]
  },
  {
   "cell_type": "code",
   "execution_count": 4,
   "id": "58fee51d-3316-49bc-8172-495eb9ecb82d",
   "metadata": {},
   "outputs": [],
   "source": [
    "# 특성데이터\n",
    "x_data = cancer['data']\n",
    "y_data = cancer['target']"
   ]
  },
  {
   "cell_type": "code",
   "execution_count": 5,
   "id": "c20a23bc-b2d6-402d-8fc2-4ee03938848f",
   "metadata": {},
   "outputs": [],
   "source": [
    "# train, test set\n",
    "x_train, x_test, y_train, y_test = train_test_split(x_data, y_data, test_size=0.2,\n",
    "                                                   stratify=y_data,\n",
    "                                                   random_state=1)"
   ]
  },
  {
   "cell_type": "code",
   "execution_count": 6,
   "id": "ae616169-42ed-454f-8bbd-b873d344cb6d",
   "metadata": {},
   "outputs": [
    {
     "data": {
      "text/plain": [
       "VotingClassifier(estimators=[('logi', LogisticRegression()),\n",
       "                             ('knn', KNeighborsClassifier()),\n",
       "                             ('tree', DecisionTreeClassifier())])"
      ]
     },
     "execution_count": 6,
     "metadata": {},
     "output_type": "execute_result"
    }
   ],
   "source": [
    "# 하드 보팅(소프트 보팅보다 f1_score는 낮다.)\n",
    "model_logi = LogisticRegression()\n",
    "model_knn = KNeighborsClassifier()\n",
    "model_tree = DecisionTreeClassifier()\n",
    "\n",
    "model_vote = VotingClassifier(estimators=[('logi',model_logi),\n",
    "                                         ('knn',model_knn),\n",
    "                                        ('tree',model_tree)]) # 리스트 안 튜플\n",
    "# soft voting 하고 싶으면 voting='soft'\n",
    "model_vote.fit(x_train, y_train)"
   ]
  },
  {
   "cell_type": "code",
   "execution_count": 25,
   "id": "7c23c8d2-3233-4285-a58b-31e6ae9d1cb1",
   "metadata": {
    "tags": []
   },
   "outputs": [
    {
     "data": {
      "text/plain": [
       "array([1, 0, 1, 1, 0, 1, 1, 1, 0, 1, 1, 1, 1, 0, 1, 1, 1, 0, 1, 0, 1, 1,\n",
       "       1, 1, 1, 0, 0, 1, 0, 0, 0, 0, 0, 0, 1, 0, 1, 0, 0, 1, 1, 1, 0, 0,\n",
       "       0, 0, 0, 1, 1, 1, 1, 1, 1, 0, 0, 0, 1, 1, 1, 1, 1, 1, 1, 1, 0, 1,\n",
       "       1, 1, 0, 1, 0, 1, 1, 1, 1, 1, 0, 1, 1, 1, 0, 1, 1, 0, 1, 1, 1, 0,\n",
       "       1, 1, 1, 0, 1, 1, 1, 1, 0, 1, 0, 1, 1, 0, 1, 1, 0, 1, 1, 1, 1, 1,\n",
       "       0, 0, 0, 1])"
      ]
     },
     "execution_count": 25,
     "metadata": {},
     "output_type": "execute_result"
    }
   ],
   "source": [
    "model_vote.predict(x_test)"
   ]
  },
  {
   "cell_type": "code",
   "execution_count": 26,
   "id": "ec7d3665-ed53-4c6e-b904-5c19ed281dc8",
   "metadata": {
    "tags": []
   },
   "outputs": [
    {
     "data": {
      "text/plain": [
       "array([1, 0, 1, 1, 0, 1, 1, 1, 0, 1, 0, 1, 1, 0, 1, 1, 1, 0, 1, 0, 1, 0,\n",
       "       1, 1, 1, 0, 0, 1, 0, 0, 0, 0, 0, 0, 1, 0, 1, 0, 0, 1, 1, 1, 0, 0,\n",
       "       0, 0, 1, 1, 1, 1, 1, 1, 1, 0, 0, 0, 1, 1, 1, 1, 1, 1, 1, 1, 0, 1,\n",
       "       1, 1, 0, 1, 0, 1, 1, 1, 1, 1, 0, 1, 1, 1, 0, 1, 0, 0, 1, 1, 1, 0,\n",
       "       1, 1, 1, 0, 1, 1, 1, 1, 0, 1, 0, 1, 1, 0, 1, 1, 0, 1, 1, 1, 1, 1,\n",
       "       0, 0, 0, 1])"
      ]
     },
     "execution_count": 26,
     "metadata": {},
     "output_type": "execute_result"
    }
   ],
   "source": [
    "y_test"
   ]
  },
  {
   "cell_type": "markdown",
   "id": "64648880-9adc-41d5-b389-113dda37e27f",
   "metadata": {},
   "source": [
    "---\n",
    "무시"
   ]
  },
  {
   "cell_type": "code",
   "execution_count": 27,
   "id": "10568443-b0a8-477d-bd0d-6581fe130289",
   "metadata": {
    "collapsed": true,
    "jupyter": {
     "outputs_hidden": true,
     "source_hidden": true
    },
    "tags": []
   },
   "outputs": [
    {
     "data": {
      "text/plain": [
       "KNeighborsClassifier()"
      ]
     },
     "execution_count": 27,
     "metadata": {},
     "output_type": "execute_result"
    }
   ],
   "source": [
    "model_knn.fit(x_train, y_train)"
   ]
  },
  {
   "cell_type": "code",
   "execution_count": 28,
   "id": "e86bb6e6-1c4e-4411-8544-70fa9776b7e3",
   "metadata": {
    "collapsed": true,
    "jupyter": {
     "outputs_hidden": true,
     "source_hidden": true
    },
    "tags": []
   },
   "outputs": [
    {
     "data": {
      "text/plain": [
       "0.956140350877193"
      ]
     },
     "execution_count": 28,
     "metadata": {},
     "output_type": "execute_result"
    }
   ],
   "source": [
    "model_logi.score(x_test,y_test)"
   ]
  },
  {
   "cell_type": "code",
   "execution_count": 29,
   "id": "5b44f6ae-53ba-48f1-b46b-9268361d93f2",
   "metadata": {
    "collapsed": true,
    "jupyter": {
     "outputs_hidden": true,
     "source_hidden": true
    },
    "tags": []
   },
   "outputs": [
    {
     "data": {
      "text/plain": [
       "0.956140350877193"
      ]
     },
     "execution_count": 29,
     "metadata": {},
     "output_type": "execute_result"
    }
   ],
   "source": [
    "model_knn.score(x_test, y_test)"
   ]
  },
  {
   "cell_type": "code",
   "execution_count": 18,
   "id": "07c8a428-94b9-4478-b03b-159d19e9ac64",
   "metadata": {
    "collapsed": true,
    "jupyter": {
     "outputs_hidden": true,
     "source_hidden": true
    },
    "tags": []
   },
   "outputs": [
    {
     "data": {
      "text/plain": [
       "0.9649122807017544"
      ]
     },
     "execution_count": 18,
     "metadata": {},
     "output_type": "execute_result"
    }
   ],
   "source": [
    "model_vote.score(x_test, y_test)"
   ]
  },
  {
   "cell_type": "code",
   "execution_count": 66,
   "id": "38bfc4ec-0a4f-4dcd-b7b6-7d705a653798",
   "metadata": {
    "collapsed": true,
    "jupyter": {
     "outputs_hidden": true,
     "source_hidden": true
    },
    "tags": []
   },
   "outputs": [
    {
     "data": {
      "text/plain": [
       "array([[1.264e+01, 1.360e+00, 2.020e+00, 1.680e+01, 1.000e+02, 2.020e+00,\n",
       "        1.410e+00, 5.300e-01, 6.200e-01, 5.750e+00, 9.800e-01, 1.590e+00,\n",
       "        4.500e+02],\n",
       "       [1.284e+01, 2.960e+00, 2.610e+00, 2.400e+01, 1.010e+02, 2.320e+00,\n",
       "        6.000e-01, 5.300e-01, 8.100e-01, 4.920e+00, 8.900e-01, 2.150e+00,\n",
       "        5.900e+02],\n",
       "       [1.349e+01, 1.660e+00, 2.240e+00, 2.400e+01, 8.700e+01, 1.880e+00,\n",
       "        1.840e+00, 2.700e-01, 1.030e+00, 3.740e+00, 9.800e-01, 2.780e+00,\n",
       "        4.720e+02],\n",
       "       [1.351e+01, 1.800e+00, 2.650e+00, 1.900e+01, 1.100e+02, 2.350e+00,\n",
       "        2.530e+00, 2.900e-01, 1.540e+00, 4.200e+00, 1.100e+00, 2.870e+00,\n",
       "        1.095e+03],\n",
       "       [1.388e+01, 1.890e+00, 2.590e+00, 1.500e+01, 1.010e+02, 3.250e+00,\n",
       "        3.560e+00, 1.700e-01, 1.700e+00, 5.430e+00, 8.800e-01, 3.560e+00,\n",
       "        1.095e+03],\n",
       "       [1.234e+01, 2.450e+00, 2.460e+00, 2.100e+01, 9.800e+01, 2.560e+00,\n",
       "        2.110e+00, 3.400e-01, 1.310e+00, 2.800e+00, 8.000e-01, 3.380e+00,\n",
       "        4.380e+02],\n",
       "       [1.164e+01, 2.060e+00, 2.460e+00, 2.160e+01, 8.400e+01, 1.950e+00,\n",
       "        1.690e+00, 4.800e-01, 1.350e+00, 2.800e+00, 1.000e+00, 2.750e+00,\n",
       "        6.800e+02],\n",
       "       [1.229e+01, 3.170e+00, 2.210e+00, 1.800e+01, 8.800e+01, 2.850e+00,\n",
       "        2.990e+00, 4.500e-01, 2.810e+00, 2.300e+00, 1.420e+00, 2.830e+00,\n",
       "        4.060e+02],\n",
       "       [1.402e+01, 1.680e+00, 2.210e+00, 1.600e+01, 9.600e+01, 2.650e+00,\n",
       "        2.330e+00, 2.600e-01, 1.980e+00, 4.700e+00, 1.040e+00, 3.590e+00,\n",
       "        1.035e+03],\n",
       "       [1.438e+01, 3.590e+00, 2.280e+00, 1.600e+01, 1.020e+02, 3.250e+00,\n",
       "        3.170e+00, 2.700e-01, 2.190e+00, 4.900e+00, 1.040e+00, 3.440e+00,\n",
       "        1.065e+03],\n",
       "       [1.237e+01, 9.400e-01, 1.360e+00, 1.060e+01, 8.800e+01, 1.980e+00,\n",
       "        5.700e-01, 2.800e-01, 4.200e-01, 1.950e+00, 1.050e+00, 1.820e+00,\n",
       "        5.200e+02],\n",
       "       [1.371e+01, 5.650e+00, 2.450e+00, 2.050e+01, 9.500e+01, 1.680e+00,\n",
       "        6.100e-01, 5.200e-01, 1.060e+00, 7.700e+00, 6.400e-01, 1.740e+00,\n",
       "        7.400e+02],\n",
       "       [1.363e+01, 1.810e+00, 2.700e+00, 1.720e+01, 1.120e+02, 2.850e+00,\n",
       "        2.910e+00, 3.000e-01, 1.460e+00, 7.300e+00, 1.280e+00, 2.880e+00,\n",
       "        1.310e+03],\n",
       "       [1.182e+01, 1.470e+00, 1.990e+00, 2.080e+01, 8.600e+01, 1.980e+00,\n",
       "        1.600e+00, 3.000e-01, 1.530e+00, 1.950e+00, 9.500e-01, 3.330e+00,\n",
       "        4.950e+02],\n",
       "       [1.270e+01, 3.550e+00, 2.360e+00, 2.150e+01, 1.060e+02, 1.700e+00,\n",
       "        1.200e+00, 1.700e-01, 8.400e-01, 5.000e+00, 7.800e-01, 1.290e+00,\n",
       "        6.000e+02],\n",
       "       [1.413e+01, 4.100e+00, 2.740e+00, 2.450e+01, 9.600e+01, 2.050e+00,\n",
       "        7.600e-01, 5.600e-01, 1.350e+00, 9.200e+00, 6.100e-01, 1.600e+00,\n",
       "        5.600e+02],\n",
       "       [1.156e+01, 2.050e+00, 3.230e+00, 2.850e+01, 1.190e+02, 3.180e+00,\n",
       "        5.080e+00, 4.700e-01, 1.870e+00, 6.000e+00, 9.300e-01, 3.690e+00,\n",
       "        4.650e+02],\n",
       "       [1.236e+01, 3.830e+00, 2.380e+00, 2.100e+01, 8.800e+01, 2.300e+00,\n",
       "        9.200e-01, 5.000e-01, 1.040e+00, 7.650e+00, 5.600e-01, 1.580e+00,\n",
       "        5.200e+02],\n",
       "       [1.330e+01, 1.720e+00, 2.140e+00, 1.700e+01, 9.400e+01, 2.400e+00,\n",
       "        2.190e+00, 2.700e-01, 1.350e+00, 3.950e+00, 1.020e+00, 2.770e+00,\n",
       "        1.285e+03],\n",
       "       [1.386e+01, 1.510e+00, 2.670e+00, 2.500e+01, 8.600e+01, 2.950e+00,\n",
       "        2.860e+00, 2.100e-01, 1.870e+00, 3.380e+00, 1.360e+00, 3.160e+00,\n",
       "        4.100e+02],\n",
       "       [1.438e+01, 1.870e+00, 2.380e+00, 1.200e+01, 1.020e+02, 3.300e+00,\n",
       "        3.640e+00, 2.900e-01, 2.960e+00, 7.500e+00, 1.200e+00, 3.000e+00,\n",
       "        1.547e+03],\n",
       "       [1.196e+01, 1.090e+00, 2.300e+00, 2.100e+01, 1.010e+02, 3.380e+00,\n",
       "        2.140e+00, 1.300e-01, 1.650e+00, 3.210e+00, 9.900e-01, 3.130e+00,\n",
       "        8.860e+02],\n",
       "       [1.260e+01, 1.340e+00, 1.900e+00, 1.850e+01, 8.800e+01, 1.450e+00,\n",
       "        1.360e+00, 2.900e-01, 1.350e+00, 2.450e+00, 1.040e+00, 2.770e+00,\n",
       "        5.620e+02],\n",
       "       [1.216e+01, 1.610e+00, 2.310e+00, 2.280e+01, 9.000e+01, 1.780e+00,\n",
       "        1.690e+00, 4.300e-01, 1.560e+00, 2.450e+00, 1.330e+00, 2.260e+00,\n",
       "        4.950e+02],\n",
       "       [1.374e+01, 1.670e+00, 2.250e+00, 1.640e+01, 1.180e+02, 2.600e+00,\n",
       "        2.900e+00, 2.100e-01, 1.620e+00, 5.850e+00, 9.200e-01, 3.200e+00,\n",
       "        1.060e+03],\n",
       "       [1.328e+01, 1.640e+00, 2.840e+00, 1.550e+01, 1.100e+02, 2.600e+00,\n",
       "        2.680e+00, 3.400e-01, 1.360e+00, 4.600e+00, 1.090e+00, 2.780e+00,\n",
       "        8.800e+02],\n",
       "       [1.286e+01, 1.350e+00, 2.320e+00, 1.800e+01, 1.220e+02, 1.510e+00,\n",
       "        1.250e+00, 2.100e-01, 9.400e-01, 4.100e+00, 7.600e-01, 1.290e+00,\n",
       "        6.300e+02],\n",
       "       [1.237e+01, 1.630e+00, 2.300e+00, 2.450e+01, 8.800e+01, 2.220e+00,\n",
       "        2.450e+00, 4.000e-01, 1.900e+00, 2.120e+00, 8.900e-01, 2.780e+00,\n",
       "        3.420e+02],\n",
       "       [1.245e+01, 3.030e+00, 2.640e+00, 2.700e+01, 9.700e+01, 1.900e+00,\n",
       "        5.800e-01, 6.300e-01, 1.140e+00, 7.500e+00, 6.700e-01, 1.730e+00,\n",
       "        8.800e+02],\n",
       "       [1.187e+01, 4.310e+00, 2.390e+00, 2.100e+01, 8.200e+01, 2.860e+00,\n",
       "        3.030e+00, 2.100e-01, 2.910e+00, 2.800e+00, 7.500e-01, 3.640e+00,\n",
       "        3.800e+02],\n",
       "       [1.225e+01, 4.720e+00, 2.540e+00, 2.100e+01, 8.900e+01, 1.380e+00,\n",
       "        4.700e-01, 5.300e-01, 8.000e-01, 3.850e+00, 7.500e-01, 1.270e+00,\n",
       "        7.200e+02],\n",
       "       [1.368e+01, 1.830e+00, 2.360e+00, 1.720e+01, 1.040e+02, 2.420e+00,\n",
       "        2.690e+00, 4.200e-01, 1.970e+00, 3.840e+00, 1.230e+00, 2.870e+00,\n",
       "        9.900e+02],\n",
       "       [1.320e+01, 1.780e+00, 2.140e+00, 1.120e+01, 1.000e+02, 2.650e+00,\n",
       "        2.760e+00, 2.600e-01, 1.280e+00, 4.380e+00, 1.050e+00, 3.400e+00,\n",
       "        1.050e+03],\n",
       "       [1.410e+01, 2.020e+00, 2.400e+00, 1.880e+01, 1.030e+02, 2.750e+00,\n",
       "        2.920e+00, 3.200e-01, 2.380e+00, 6.200e+00, 1.070e+00, 2.750e+00,\n",
       "        1.060e+03],\n",
       "       [1.282e+01, 3.370e+00, 2.300e+00, 1.950e+01, 8.800e+01, 1.480e+00,\n",
       "        6.600e-01, 4.000e-01, 9.700e-01, 1.026e+01, 7.200e-01, 1.750e+00,\n",
       "        6.850e+02],\n",
       "       [1.258e+01, 1.290e+00, 2.100e+00, 2.000e+01, 1.030e+02, 1.480e+00,\n",
       "        5.800e-01, 5.300e-01, 1.400e+00, 7.600e+00, 5.800e-01, 1.550e+00,\n",
       "        6.400e+02]])"
      ]
     },
     "execution_count": 66,
     "metadata": {},
     "output_type": "execute_result"
    }
   ],
   "source": [
    "x_test"
   ]
  },
  {
   "cell_type": "code",
   "execution_count": 65,
   "id": "67d5a7c5-fe17-448f-a2f8-7cab3490f8ee",
   "metadata": {
    "collapsed": true,
    "jupyter": {
     "outputs_hidden": true,
     "source_hidden": true
    },
    "tags": []
   },
   "outputs": [
    {
     "data": {
      "text/plain": [
       "array([1, 2, 1, 0, 0, 1, 1, 1, 0, 0, 1, 2, 0, 1, 2, 2, 1, 2, 0, 1, 0, 1,\n",
       "       1, 1, 0, 0, 2, 1, 2, 1, 2, 0, 0, 0, 2, 2])"
      ]
     },
     "execution_count": 65,
     "metadata": {},
     "output_type": "execute_result"
    }
   ],
   "source": [
    "# 예측한 x_test\n",
    "p = model_vote.predict(x_test)\n",
    "p"
   ]
  },
  {
   "cell_type": "code",
   "execution_count": 20,
   "id": "8b4efa7c-f76f-4844-9a98-87c7404a429d",
   "metadata": {
    "collapsed": true,
    "jupyter": {
     "outputs_hidden": true,
     "source_hidden": true
    },
    "tags": []
   },
   "outputs": [
    {
     "data": {
      "text/plain": [
       "0.9649122807017544"
      ]
     },
     "execution_count": 20,
     "metadata": {},
     "output_type": "execute_result"
    }
   ],
   "source": [
    "# y_test에 대입해보니 예측률이 나옴.\n",
    "(y_test == p).mean()"
   ]
  },
  {
   "cell_type": "markdown",
   "id": "513b040c-2bbe-4ec1-b2cf-afe9586d2a58",
   "metadata": {},
   "source": [
    "---"
   ]
  },
  {
   "cell_type": "code",
   "execution_count": 21,
   "id": "206c5589-2f36-41ff-ab40-e8df2150447c",
   "metadata": {},
   "outputs": [
    {
     "data": {
      "text/plain": [
       "0.9649122807017544"
      ]
     },
     "execution_count": 21,
     "metadata": {},
     "output_type": "execute_result"
    }
   ],
   "source": [
    "# model_vote.score와 같음\n",
    "model_vote.score(x_test, y_test)"
   ]
  },
  {
   "cell_type": "code",
   "execution_count": 22,
   "id": "050895a2-316a-451a-9515-3e67a2cebd06",
   "metadata": {},
   "outputs": [
    {
     "name": "stdout",
     "output_type": "stream",
     "text": [
      "LogisticRegression 0.956140350877193\n",
      "KNeighborsClassifier 0.956140350877193\n",
      "DecisionTreeClassifier 0.956140350877193\n"
     ]
    }
   ],
   "source": [
    "# 각각의 모델 정확도\n",
    "for c in [model_logi, model_knn, model_tree]:\n",
    "    c.fit(x_train, y_train)\n",
    "    print(c.__class__.__name__, c.score(x_test, y_test))"
   ]
  },
  {
   "cell_type": "markdown",
   "id": "97b7be1f-1ab1-4f45-8ec2-bc528f528a7e",
   "metadata": {},
   "source": [
    "---\n",
    "연습문제"
   ]
  },
  {
   "cell_type": "code",
   "execution_count": 40,
   "id": "b069d7fa-ac5c-42cf-83b7-84ae77803a09",
   "metadata": {},
   "outputs": [],
   "source": [
    "from sklearn.datasets import load_wine\n",
    "\n",
    "wine = load_wine()\n",
    "x_data = wine['data']\n",
    "y_data = wine['target']\n",
    "x_train, x_test, y_train, y_test = train_test_split( x_data, \n",
    "                           y_data,  test_size=0.2,  stratify=y_data)"
   ]
  },
  {
   "cell_type": "code",
   "execution_count": 49,
   "id": "73bd6389-db03-487e-a056-16dd624b802b",
   "metadata": {},
   "outputs": [],
   "source": [
    "from sklearn.pipeline import make_pipeline, Pipeline\n",
    "from sklearn.preprocessing import StandardScaler, MinMaxScaler"
   ]
  },
  {
   "cell_type": "code",
   "execution_count": 50,
   "id": "1623f2b8-c1e0-4f4f-8f8e-eb71ba08060d",
   "metadata": {},
   "outputs": [
    {
     "data": {
      "text/plain": [
       "1.0"
      ]
     },
     "execution_count": 50,
     "metadata": {},
     "output_type": "execute_result"
    }
   ],
   "source": [
    "#파이프라인\n",
    "model_logi = make_pipeline(StandardScaler(), LogisticRegression())\n",
    "model_knn = make_pipeline(StandardScaler(),KNeighborsClassifier())\n",
    "model_tree = make_pipeline(StandardScaler(),DecisionTreeClassifier())\n",
    "# vote\n",
    "model_vote = VotingClassifier(estimators=[('logi',model_logi),\n",
    "                                         ('knn',model_knn),\n",
    "                                        ('tree',model_tree)],\n",
    "                             voting='soft')\n",
    "# vote.fit\n",
    "model_vote.fit(x_train, y_train)\n",
    "# vote.score\n",
    "model_vote.score(x_test, y_test)"
   ]
  },
  {
   "cell_type": "markdown",
   "id": "a1c21926-a167-4e2c-a6a8-57e9d1824a0e",
   "metadata": {},
   "source": [
    "---"
   ]
  },
  {
   "cell_type": "markdown",
   "id": "66190dd2-8cb3-4fa5-b783-5d5520bd5198",
   "metadata": {},
   "source": [
    "## Bagging"
   ]
  },
  {
   "cell_type": "code",
   "execution_count": 51,
   "id": "ca9b5bcd-cb29-4682-a621-517cf7be86f9",
   "metadata": {},
   "outputs": [],
   "source": [
    "from sklearn.ensemble import BaggingClassifier "
   ]
  },
  {
   "cell_type": "code",
   "execution_count": 52,
   "id": "b2e2f79f-ff8d-4ab7-86c4-fcb0406710eb",
   "metadata": {},
   "outputs": [],
   "source": [
    "wine = load_wine()\n",
    "x_data = wine['data']\n",
    "y_data = wine['target']"
   ]
  },
  {
   "cell_type": "code",
   "execution_count": 53,
   "id": "27fc9f0b-f6f3-4a5c-9286-2dd0a716a0bc",
   "metadata": {},
   "outputs": [],
   "source": [
    "# train, test set split\n",
    "x_train, x_test, y_train, y_test = train_test_split( x_data, \n",
    "                           y_data,  test_size=0.2,  stratify=y_data)"
   ]
  },
  {
   "cell_type": "code",
   "execution_count": 60,
   "id": "2e66893d-e5a5-4244-a1b1-a43cefbedb5b",
   "metadata": {},
   "outputs": [],
   "source": [
    "# scaling, 네이버클레식파이\n",
    "model_knn = make_pipeline(StandardScaler(), KNeighborsClassifier())"
   ]
  },
  {
   "cell_type": "code",
   "execution_count": 61,
   "id": "92f6fa84-ca10-43dc-9140-ee811e3e234e",
   "metadata": {},
   "outputs": [
    {
     "data": {
      "text/plain": [
       "BaggingClassifier(base_estimator=Pipeline(steps=[('standardscaler',\n",
       "                                                  StandardScaler()),\n",
       "                                                 ('kneighborsclassifier',\n",
       "                                                  KNeighborsClassifier())]),\n",
       "                  max_samples=0.5)"
      ]
     },
     "execution_count": 61,
     "metadata": {},
     "output_type": "execute_result"
    }
   ],
   "source": [
    "# model_knn.fit 하는게 아니라 bagging을 이용함\n",
    "# n_estimators knn모델를 10개 만들어줌.\n",
    "# max_samples= 0.5 최대로 추출할 샘플 수 \n",
    "model_bagg = BaggingClassifier(model_knn,n_estimators=10,max_samples=0.5)\n",
    "model_bagg.fit(x_train, y_train)"
   ]
  },
  {
   "cell_type": "code",
   "execution_count": 62,
   "id": "e4f64980-11af-474e-bade-2b4e8964e115",
   "metadata": {},
   "outputs": [
    {
     "data": {
      "text/plain": [
       "array([1, 2, 1, 0, 0, 1, 1, 1, 0, 0, 1, 2, 0, 1, 2, 2, 1, 2, 0, 0, 0, 1,\n",
       "       1, 1, 0, 0, 2, 1, 2, 1, 2, 0, 0, 0, 2, 2])"
      ]
     },
     "execution_count": 62,
     "metadata": {},
     "output_type": "execute_result"
    }
   ],
   "source": [
    "model_bagg.predict(x_test)"
   ]
  },
  {
   "cell_type": "code",
   "execution_count": 63,
   "id": "02470160-05f5-4cd1-96ec-25938a073b87",
   "metadata": {
    "collapsed": true,
    "jupyter": {
     "outputs_hidden": true,
     "source_hidden": true
    },
    "tags": []
   },
   "outputs": [
    {
     "data": {
      "text/plain": [
       "(142, 13)"
      ]
     },
     "execution_count": 63,
     "metadata": {},
     "output_type": "execute_result"
    }
   ],
   "source": [
    "x_train.shape"
   ]
  },
  {
   "cell_type": "code",
   "execution_count": 64,
   "id": "8c887e31-74d0-4d6f-ad13-ee2d5ab993f2",
   "metadata": {},
   "outputs": [
    {
     "data": {
      "text/plain": [
       "0.9722222222222222"
      ]
     },
     "execution_count": 64,
     "metadata": {},
     "output_type": "execute_result"
    }
   ],
   "source": [
    "model_bagg.score(x_test, y_test)"
   ]
  },
  {
   "cell_type": "markdown",
   "id": "0de028cb-266e-4fd0-aaca-f20e3ac1c9f2",
   "metadata": {},
   "source": [
    "## randomforest( decision tree + bagging)\n",
    "* 100개의 나무가 숲을 이루고 있따. \n",
    "* decision tree 전용 bagging이다."
   ]
  },
  {
   "cell_type": "code",
   "execution_count": 70,
   "id": "d71ab046-18ff-4b3d-bd74-c5e8ef02eba0",
   "metadata": {},
   "outputs": [],
   "source": [
    "from sklearn.ensemble import BaggingClassifier , RandomForestClassifier"
   ]
  },
  {
   "cell_type": "markdown",
   "id": "77173cc6-22ee-401f-a773-f599f06d4063",
   "metadata": {},
   "source": [
    "---\n",
    "추출"
   ]
  },
  {
   "cell_type": "code",
   "execution_count": 71,
   "id": "7c779a9d-0cbd-4e2a-9c8b-6d13c3b932c2",
   "metadata": {
    "collapsed": true,
    "jupyter": {
     "outputs_hidden": true,
     "source_hidden": true
    },
    "tags": []
   },
   "outputs": [
    {
     "data": {
      "text/plain": [
       "(142, 13)"
      ]
     },
     "execution_count": 71,
     "metadata": {},
     "output_type": "execute_result"
    }
   ],
   "source": [
    "# 142개를 랜덤으로 추출하게 되어있음.\n",
    "x_train.shape"
   ]
  },
  {
   "cell_type": "markdown",
   "id": "26d16799-1885-4367-96e6-508bf5c167ae",
   "metadata": {},
   "source": [
    "---"
   ]
  },
  {
   "cell_type": "code",
   "execution_count": 72,
   "id": "0fffce3c-1d7e-44e7-95fd-5b42b8967ee3",
   "metadata": {},
   "outputs": [
    {
     "data": {
      "text/plain": [
       "RandomForestClassifier()"
      ]
     },
     "execution_count": 72,
     "metadata": {},
     "output_type": "execute_result"
    }
   ],
   "source": [
    "# forest\n",
    "forest = RandomForestClassifier()\n",
    "# fit\n",
    "forest.fit(x_train, y_train)"
   ]
  },
  {
   "cell_type": "code",
   "execution_count": 73,
   "id": "2a34b326-c765-4f74-9c15-a624cd23c1fc",
   "metadata": {},
   "outputs": [
    {
     "data": {
      "text/plain": [
       "array([2, 2, 1, 0, 0, 1, 1, 1, 0, 0, 1, 2, 0, 1, 2, 2, 1, 2, 0, 1, 0, 1,\n",
       "       1, 1, 0, 0, 2, 1, 2, 1, 2, 0, 0, 0, 2, 2])"
      ]
     },
     "execution_count": 73,
     "metadata": {},
     "output_type": "execute_result"
    }
   ],
   "source": [
    "# 총 100개 샘플에 대해서 투표 결과\n",
    "forest.predict(x_test)"
   ]
  },
  {
   "cell_type": "code",
   "execution_count": 74,
   "id": "f30bb3e8-df2a-4045-9d8a-6d3691e3ea53",
   "metadata": {},
   "outputs": [
    {
     "data": {
      "text/plain": [
       "0.9722222222222222"
      ]
     },
     "execution_count": 74,
     "metadata": {},
     "output_type": "execute_result"
    }
   ],
   "source": [
    "# accuracy\n",
    "forest.score(x_test, y_test)"
   ]
  },
  {
   "cell_type": "markdown",
   "id": "7d30cb9d-284c-486f-96ee-7baf3665c4e0",
   "metadata": {},
   "source": [
    "---\n",
    "## Boost"
   ]
  },
  {
   "cell_type": "markdown",
   "id": "34844fce-0170-4de0-b40c-6a00d0e5d6b3",
   "metadata": {},
   "source": [
    "sample -> 틀린것 -> 가중치 -> 다시 학습 -> 반복"
   ]
  },
  {
   "cell_type": "code",
   "execution_count": 76,
   "id": "a74f6be6-ec05-4eb0-9348-2a2c49acce30",
   "metadata": {},
   "outputs": [],
   "source": [
    "from sklearn.ensemble import AdaBoostClassifier"
   ]
  },
  {
   "cell_type": "code",
   "execution_count": 78,
   "id": "c4f0030d-a176-40d3-9d63-bd7173e369ed",
   "metadata": {},
   "outputs": [
    {
     "data": {
      "text/plain": [
       "AdaBoostClassifier()"
      ]
     },
     "execution_count": 78,
     "metadata": {},
     "output_type": "execute_result"
    }
   ],
   "source": [
    "# base_estimator=None (default : decision tree)\n",
    "model_ada = AdaBoostClassifier() # tree + boost\n",
    "model_ada.fit(x_train, y_train)"
   ]
  },
  {
   "cell_type": "code",
   "execution_count": 79,
   "id": "d96e6746-92a3-4886-9e66-83fbd209177a",
   "metadata": {},
   "outputs": [
    {
     "data": {
      "text/plain": [
       "array([1, 2, 1, 0, 0, 1, 1, 1, 0, 0, 2, 2, 0, 1, 1, 2, 1, 2, 1, 1, 0, 1,\n",
       "       1, 1, 0, 0, 1, 1, 2, 1, 2, 0, 0, 0, 2, 2])"
      ]
     },
     "execution_count": 79,
     "metadata": {},
     "output_type": "execute_result"
    }
   ],
   "source": [
    "# 예측값\n",
    "model_ada.predict(x_test)"
   ]
  },
  {
   "cell_type": "code",
   "execution_count": 80,
   "id": "0d855af2-c30a-4132-b1b2-88a03481438c",
   "metadata": {},
   "outputs": [
    {
     "data": {
      "text/plain": [
       "0.8888888888888888"
      ]
     },
     "execution_count": 80,
     "metadata": {},
     "output_type": "execute_result"
    }
   ],
   "source": [
    "# wine dataset accuracy\n",
    "model_ada.score(x_test, y_test)"
   ]
  },
  {
   "cell_type": "markdown",
   "id": "89ae8e1e-ab00-4820-837c-2adfd346eb15",
   "metadata": {},
   "source": [
    "---\n",
    "voting과 bagging 도 결합할 수 있다"
   ]
  },
  {
   "cell_type": "markdown",
   "id": "3e6caedf-7e98-42d9-a63b-4573866f2654",
   "metadata": {},
   "source": [
    "boosting과 voting을 결합할 수 있다.\n",
    "\n",
    "ex) votingclassifier(model_ada(boost)))"
   ]
  },
  {
   "cell_type": "code",
   "execution_count": 84,
   "id": "8106a220-01dd-46d8-b220-499619db1633",
   "metadata": {},
   "outputs": [],
   "source": [
    "# voting(boost, bagging, ....)\n",
    "models = [('ada', AdaBoostClassifier()), # xgboost 병렬처리, ada에 속도처리면에서 우수, 별도 설치 해줘야함.\n",
    "          ('bc',BaggingClassifier()),\n",
    "          ('logi', LogisticRegression()),\n",
    "          ('knn',KNeighborsClassifier())]"
   ]
  },
  {
   "cell_type": "code",
   "execution_count": 85,
   "id": "7ec182da-6484-4bd7-af96-c8a25ed291be",
   "metadata": {},
   "outputs": [
    {
     "data": {
      "text/plain": [
       "VotingClassifier(estimators=[('ada', AdaBoostClassifier()),\n",
       "                             ('bc', BaggingClassifier()),\n",
       "                             ('logi', LogisticRegression()),\n",
       "                             ('knn', KNeighborsClassifier())],\n",
       "                 voting='soft')"
      ]
     },
     "execution_count": 85,
     "metadata": {},
     "output_type": "execute_result"
    }
   ],
   "source": [
    "model_vote = VotingClassifier(models, voting='soft')\n",
    "model_vote.fit(x_train, y_train)"
   ]
  },
  {
   "cell_type": "code",
   "execution_count": 86,
   "id": "7ae81011-3140-4125-b1a6-95548a85e35f",
   "metadata": {},
   "outputs": [
    {
     "data": {
      "text/plain": [
       "0.9722222222222222"
      ]
     },
     "execution_count": 86,
     "metadata": {},
     "output_type": "execute_result"
    }
   ],
   "source": [
    "model_vote.score(x_test, y_test)"
   ]
  },
  {
   "cell_type": "markdown",
   "id": "88dcb266-d375-497d-ab63-0f1b98b3e690",
   "metadata": {},
   "source": [
    "---\n",
    " xgboost 병렬처리, ada에 속도처리면에서 우수, 별도 설치 해줘야함."
   ]
  },
  {
   "cell_type": "code",
   "execution_count": 87,
   "id": "41567fae-2e2e-4451-aa31-a05f7c583458",
   "metadata": {},
   "outputs": [
    {
     "name": "stdout",
     "output_type": "stream",
     "text": [
      "Collecting xgboost\n",
      "  Downloading xgboost-1.4.2-py3-none-win_amd64.whl (97.8 MB)\n",
      "Requirement already satisfied: scipy in c:\\users\\medici\\anaconda3\\lib\\site-packages (from xgboost) (1.6.2)\n",
      "Requirement already satisfied: numpy in c:\\users\\medici\\anaconda3\\lib\\site-packages (from xgboost) (1.21.0)\n",
      "Installing collected packages: xgboost\n",
      "Successfully installed xgboost-1.4.2\n"
     ]
    }
   ],
   "source": [
    "!pip install xgboost"
   ]
  },
  {
   "cell_type": "code",
   "execution_count": 88,
   "id": "07e5bb29-a975-493b-b50d-e31bcf736de4",
   "metadata": {},
   "outputs": [],
   "source": [
    "from xgboost import XGBClassifier # 데이터 양이 많다면 빨리 처리"
   ]
  },
  {
   "cell_type": "code",
   "execution_count": 90,
   "id": "1a9db174-fffa-4619-93f0-97260b17f6fd",
   "metadata": {},
   "outputs": [],
   "source": [
    "# max_depth : int\n",
    "#         Maximum tree depth for base learners.\n",
    "# object = binary -> 고쳐줘야함.\n",
    "# tree, boost, binary 분류\n",
    "# Voting과 Bagging의 병렬처리를 더 빠르게 개선한 모델이 이것. 요즘 인기가 많다.\n",
    "\n",
    "xg = XGBClassifier()"
   ]
  },
  {
   "cell_type": "markdown",
   "id": "5dc1022a-8f09-463e-8f5c-eb7ae8892a2f",
   "metadata": {},
   "source": [
    "???? 다음에 설명해준대여"
   ]
  },
  {
   "cell_type": "code",
   "execution_count": null,
   "id": "054b8604-c690-4ebc-a279-5681b304bf96",
   "metadata": {},
   "outputs": [],
   "source": []
  }
 ],
 "metadata": {
  "kernelspec": {
   "display_name": "Python 3",
   "language": "python",
   "name": "python3"
  },
  "language_info": {
   "codemirror_mode": {
    "name": "ipython",
    "version": 3
   },
   "file_extension": ".py",
   "mimetype": "text/x-python",
   "name": "python",
   "nbconvert_exporter": "python",
   "pygments_lexer": "ipython3",
   "version": "3.8.8"
  }
 },
 "nbformat": 4,
 "nbformat_minor": 5
}
