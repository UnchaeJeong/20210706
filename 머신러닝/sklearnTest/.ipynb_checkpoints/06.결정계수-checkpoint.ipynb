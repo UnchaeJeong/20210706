{
 "cells": [
  {
   "cell_type": "markdown",
   "id": "19ba0ddc-f4a7-4e24-b8dd-e78dfd9acb9a",
   "metadata": {},
   "source": [
    "## from sklearn.metrics import r2_score \n",
    "## 선형 모델(Linear Models)"
   ]
  },
  {
   "cell_type": "code",
   "execution_count": 19,
   "id": "f21bbec8-b7bf-4a84-a2f0-715ceddb91d3",
   "metadata": {},
   "outputs": [],
   "source": [
    "import pandas as pd\n",
    "import numpy as np\n",
    "from sklearn.linear_model import LinearRegression\n",
    "from sklearn.metrics import r2_score # 선형 모델(Linear Models)\n",
    "import matplotlib.pyplot as plt\n",
    "import matplotlib\n",
    "matplotlib.rcParams['font.family']='Malgun Gothic'\n",
    "matplotlib.rcParams['axes.unicode_minus'] = False"
   ]
  },
  {
   "cell_type": "markdown",
   "id": "fceb0e8a-57f4-41b1-b90a-3e2efda2f731",
   "metadata": {},
   "source": [
    "## 데이터 가져오기 carDF"
   ]
  },
  {
   "cell_type": "code",
   "execution_count": 3,
   "id": "87ee0653-e554-4551-9afc-ce878dd2080d",
   "metadata": {},
   "outputs": [
    {
     "data": {
      "text/html": [
       "<div>\n",
       "<style scoped>\n",
       "    .dataframe tbody tr th:only-of-type {\n",
       "        vertical-align: middle;\n",
       "    }\n",
       "\n",
       "    .dataframe tbody tr th {\n",
       "        vertical-align: top;\n",
       "    }\n",
       "\n",
       "    .dataframe thead th {\n",
       "        text-align: right;\n",
       "    }\n",
       "</style>\n",
       "<table border=\"1\" class=\"dataframe\">\n",
       "  <thead>\n",
       "    <tr style=\"text-align: right;\">\n",
       "      <th></th>\n",
       "      <th>speed</th>\n",
       "      <th>dist</th>\n",
       "    </tr>\n",
       "  </thead>\n",
       "  <tbody>\n",
       "    <tr>\n",
       "      <th>0</th>\n",
       "      <td>4</td>\n",
       "      <td>2</td>\n",
       "    </tr>\n",
       "    <tr>\n",
       "      <th>1</th>\n",
       "      <td>4</td>\n",
       "      <td>10</td>\n",
       "    </tr>\n",
       "    <tr>\n",
       "      <th>2</th>\n",
       "      <td>7</td>\n",
       "      <td>4</td>\n",
       "    </tr>\n",
       "  </tbody>\n",
       "</table>\n",
       "</div>"
      ],
      "text/plain": [
       "   speed  dist\n",
       "0      4     2\n",
       "1      4    10\n",
       "2      7     4"
      ]
     },
     "execution_count": 3,
     "metadata": {},
     "output_type": "execute_result"
    }
   ],
   "source": [
    "carDF = pd.read_csv('data/cars.csv')\n",
    "carDF.columns = ['speed','dist']\n",
    "carDF.head(3)"
   ]
  },
  {
   "cell_type": "code",
   "execution_count": 5,
   "id": "992d8d89-5b16-4a3e-bd91-0d49eafed22d",
   "metadata": {},
   "outputs": [],
   "source": [
    "x_data = carDF[['speed']]  # 특성데이터\n",
    "y_data = carDF['dist'] # 라벨"
   ]
  },
  {
   "cell_type": "code",
   "execution_count": null,
   "id": "0c21f6dc-c8c4-4391-9aa5-4753a35846a4",
   "metadata": {},
   "outputs": [],
   "source": [
    "# r이 -1.0과 -0.7 사이이면, 강한 음적 선형관계,\n",
    "# r이 -0.7과 -0.3 사이이면, 뚜렷한 음적 선형관계,\n",
    "# r이 -0.3과 -0.1 사이이면, 약한 음적 선형관계,\n",
    "# r이 -0.1과 +0.1 사이이면, 거의 무시될 수 있는 선형관계,\n",
    "# r이 +0.1과 +0.3 사이이면, 약한 양적 선형관계,\n",
    "# r이 +0.3과 +0.7 사이이면, 뚜렷한 양적 선형관계,\n",
    "# r이 +0.7과 +1.0 사이이면, 강한 양적 선형관계\n",
    "\n",
    "#carDF 우상향 그래프\n",
    "# dist/speed 값 보면 0.806... 강한 양적 선형관계이다. \n",
    "# 강한 양/음적 선형관계가 아니라면 예측데이터로 활용할 수 없다.\n",
    "# carDF의 경우 예측데이터로 활용하기 좋은 데이터.\n",
    "# 결정계수 값이 잘 나올 것.\n",
    "# 항상 상관계수값을 따져봐야 할 것."
   ]
  },
  {
   "cell_type": "markdown",
   "id": "44057dfb-8808-4d8f-a79b-465d8873ff19",
   "metadata": {},
   "source": [
    "# ??? 상관계수가 뭐지?"
   ]
  },
  {
   "cell_type": "code",
   "execution_count": 11,
   "id": "769a8b56-f9e3-493a-9b94-a0b62d1b64db",
   "metadata": {},
   "outputs": [
    {
     "data": {
      "text/html": [
       "<div>\n",
       "<style scoped>\n",
       "    .dataframe tbody tr th:only-of-type {\n",
       "        vertical-align: middle;\n",
       "    }\n",
       "\n",
       "    .dataframe tbody tr th {\n",
       "        vertical-align: top;\n",
       "    }\n",
       "\n",
       "    .dataframe thead th {\n",
       "        text-align: right;\n",
       "    }\n",
       "</style>\n",
       "<table border=\"1\" class=\"dataframe\">\n",
       "  <thead>\n",
       "    <tr style=\"text-align: right;\">\n",
       "      <th></th>\n",
       "      <th>speed</th>\n",
       "      <th>dist</th>\n",
       "    </tr>\n",
       "  </thead>\n",
       "  <tbody>\n",
       "    <tr>\n",
       "      <th>speed</th>\n",
       "      <td>1.000000</td>\n",
       "      <td>0.806895</td>\n",
       "    </tr>\n",
       "    <tr>\n",
       "      <th>dist</th>\n",
       "      <td>0.806895</td>\n",
       "      <td>1.000000</td>\n",
       "    </tr>\n",
       "  </tbody>\n",
       "</table>\n",
       "</div>"
      ],
      "text/plain": [
       "          speed      dist\n",
       "speed  1.000000  0.806895\n",
       "dist   0.806895  1.000000"
      ]
     },
     "execution_count": 11,
     "metadata": {},
     "output_type": "execute_result"
    }
   ],
   "source": [
    "carDF.corr() # 상관계수 값."
   ]
  },
  {
   "cell_type": "code",
   "execution_count": 6,
   "id": "982f9d4d-c2da-4519-908a-b208e63d66c2",
   "metadata": {},
   "outputs": [
    {
     "data": {
      "text/plain": [
       "LinearRegression()"
      ]
     },
     "execution_count": 6,
     "metadata": {},
     "output_type": "execute_result"
    }
   ],
   "source": [
    "model_car = LinearRegression()\n",
    "model_car.fit(x_data, y_data)"
   ]
  },
  {
   "cell_type": "code",
   "execution_count": 7,
   "id": "f6b3d08c-601e-4933-bee9-5ab8ad566e17",
   "metadata": {},
   "outputs": [
    {
     "data": {
      "text/plain": [
       "array([3.93240876])"
      ]
     },
     "execution_count": 7,
     "metadata": {},
     "output_type": "execute_result"
    }
   ],
   "source": [
    "model_car.coef_ # 기울기 w"
   ]
  },
  {
   "cell_type": "code",
   "execution_count": 9,
   "id": "e4d68623-e411-4982-8972-76cc82dfef94",
   "metadata": {},
   "outputs": [
    {
     "data": {
      "text/plain": [
       "-17.57909489051095"
      ]
     },
     "execution_count": 9,
     "metadata": {},
     "output_type": "execute_result"
    }
   ],
   "source": [
    "model_car.intercept_ # 절편 b"
   ]
  },
  {
   "cell_type": "markdown",
   "id": "b4380e3f-f9d8-44c1-bc8f-43d75a8583ee",
   "metadata": {},
   "source": [
    "## 결정계수 (w,b 예측 설명력이 얼마나 되는지 확인)\n",
    "- 상관계수와 상관있음.\n",
    "- carDF 우상향 그래프\n",
    "- dist/speed 값 보면 0.806... 강한 양적 선형관계이다. \n",
    "- 강한 양/음적 선형관계가 아니라면 예측데이터로 활용할 수 없다.\n",
    "- carDF의 경우 예측데이터로 활용하기 좋은 데이터.\n",
    "- 결정계수 값이 잘 나올 것.\n",
    "- 항상 상관계수값을 따져봐야 할 것."
   ]
  },
  {
   "cell_type": "markdown",
   "id": "d86f202e-71ab-4aa2-b72d-ca8f5528cfa5",
   "metadata": {},
   "source": [
    "# 회귀모델의 검증을 위한 또 다른 측정 지표 중 하나로 결정 계수(coefficient of determination, $R^2$) 사용\n"
   ]
  },
  {
   "cell_type": "markdown",
   "id": "1e847309-f868-4600-9eb5-316fc34030e2",
   "metadata": {},
   "source": [
    "<h1>\n",
    "$ SSR( 예측값- 평균값)^2 의합$ <br>\n",
    "$ SST( 실제값- 평균값)^2 의합$ <br>\n",
    "$ SSE( 실제값- 예측값)^2 의합$ <br>\n",
    "$ R^2 = \\frac{SSR}{SST} = 1-\\frac{SSE}{SST}   $\n",
    "</h1>\n"
   ]
  },
  {
   "cell_type": "markdown",
   "id": "7cb3c7c6-03aa-41ab-8cc4-6cb193e53b76",
   "metadata": {},
   "source": [
    "결정 계수 (Coefficient of determination, <br>\n",
    "R 제곱 (R^2, R-squared, 피어슨 상관 계수의 제곱))<br>\n",
    " 1 - (오차의 제곱합)/(편차의 제곱합)<br>\n",
    "오차는 실제 값과 예측 값의 차이<br>\n",
    "편차는 실제 값과 평균 값의 차이<br>\n",
    "0 <= 결정 계수 <= 1 (0이면 0점, 1이면 100점)<br>\n",
    "높을 수록 좋음<br>\n",
    "\n",
    "from sklearn.metrics import r2_score<br>\n",
    "y_predict = model.predict( x_data )<br>\n",
    "r2_score( y_data, y_predict )<br>\n"
   ]
  },
  {
   "cell_type": "markdown",
   "id": "359d91f3-efc9-47a7-afd6-c4506a8518f1",
   "metadata": {},
   "source": [
    "* 이상치가 있으면 결정계수가 낮게 나올 수 있다."
   ]
  },
  {
   "cell_type": "code",
   "execution_count": 18,
   "id": "3f60ac84-4c13-4632-acd1-6f4d4c6d8ca5",
   "metadata": {},
   "outputs": [
    {
     "name": "stderr",
     "output_type": "stream",
     "text": [
      "'[1]'은(는) 내부 또는 외부 명령, 실행할 수 있는 프로그램, 또는\n",
      "배치 파일이 아닙니다.\n"
     ]
    }
   ],
   "source": [
    "![1](img/1.png)"
   ]
  },
  {
   "cell_type": "markdown",
   "id": "3850541c-ee57-4cd0-b06b-7d77759ed097",
   "metadata": {},
   "source": [
    "* SST = SSR sum((예측값 - 평균)**2) + SSE (error)"
   ]
  },
  {
   "cell_type": "code",
   "execution_count": 20,
   "id": "e1ac3f88-1f56-4a39-bd59-0bda711e4ca5",
   "metadata": {},
   "outputs": [
    {
     "data": {
      "text/plain": [
       "0.6510793807582509"
      ]
     },
     "execution_count": 20,
     "metadata": {},
     "output_type": "execute_result"
    }
   ],
   "source": [
    "y_predict = model_car.predict(x_data)\n",
    "r2_score(y_data,y_predict) # 결정계수 값\n",
    "# 예측값으로 활용될 수 있다. \n",
    "# 상관계수가 나오면 어느정도 결정계수가 잘 나옴."
   ]
  },
  {
   "cell_type": "code",
   "execution_count": 21,
   "id": "adde7771-1960-43f2-acae-d31ef1677f40",
   "metadata": {},
   "outputs": [
    {
     "data": {
      "text/plain": [
       "0.6510793807582509"
      ]
     },
     "execution_count": 21,
     "metadata": {},
     "output_type": "execute_result"
    }
   ],
   "source": [
    "model_car.score(x_data,y_data) \n",
    "#linearRegressor 함수에 score함수가 있는데 r2_score과 같음.\n",
    "# 결정계수를 뽑아낼 수 있다."
   ]
  },
  {
   "cell_type": "code",
   "execution_count": null,
   "id": "4caf3643-f2ab-44e9-b58c-ded3d6d2868b",
   "metadata": {},
   "outputs": [],
   "source": []
  }
 ],
 "metadata": {
  "kernelspec": {
   "display_name": "Python 3",
   "language": "python",
   "name": "python3"
  },
  "language_info": {
   "codemirror_mode": {
    "name": "ipython",
    "version": 3
   },
   "file_extension": ".py",
   "mimetype": "text/x-python",
   "name": "python",
   "nbconvert_exporter": "python",
   "pygments_lexer": "ipython3",
   "version": "3.8.8"
  }
 },
 "nbformat": 4,
 "nbformat_minor": 5
}
