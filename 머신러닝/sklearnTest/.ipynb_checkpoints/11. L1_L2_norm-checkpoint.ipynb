{
 "cells": [
  {
   "cell_type": "code",
   "execution_count": 1,
   "id": "00ee67cb",
   "metadata": {},
   "outputs": [],
   "source": [
    "import pandas as pd\n",
    "import numpy as np\n",
    "from numpy import linalg\n",
    "import matplotlib.pyplot as plt\n",
    "import warnings\n",
    "warnings.simplefilter('ignore')\n"
   ]
  },
  {
   "cell_type": "markdown",
   "id": "838e90f4",
   "metadata": {},
   "source": [
    "<img src=\"images/l1.svg\"> <br>\n",
    "\n",
    "## p = 1  L1 Norm\n",
    "## p = 2  L2 Norm\n",
    "\n",
    "https://en.wikipedia.org/wiki/Norm_(mathematics)\n"
   ]
  },
  {
   "cell_type": "markdown",
   "id": "3e11ee37",
   "metadata": {},
   "source": [
    "**L1 norm**"
   ]
  },
  {
   "cell_type": "code",
   "execution_count": null,
   "id": "fd70f3aa",
   "metadata": {},
   "outputs": [],
   "source": [
    "np.random.seed(20)\n",
    "data = np.random.randint(-5,6,size=(2,2)) #-5부터 5까지 숫자로 2x2 행렬\n",
    "df = pd.DataFrame(data)\n",
    "df"
   ]
  },
  {
   "cell_type": "code",
   "execution_count": 89,
   "id": "d41a0d79",
   "metadata": {},
   "outputs": [
    {
     "data": {
      "text/plain": [
       "array([7., 9.])"
      ]
     },
     "execution_count": 89,
     "metadata": {},
     "output_type": "execute_result"
    }
   ],
   "source": [
    "# L1을 사용 (p=1) : 절대값의 합\n",
    "linalg.norm(df, ord=1, axis=1)"
   ]
  },
  {
   "cell_type": "markdown",
   "id": "3419db17",
   "metadata": {},
   "source": [
    "**L2 norm**"
   ]
  },
  {
   "cell_type": "code",
   "execution_count": null,
   "id": "f42cec49",
   "metadata": {},
   "outputs": [],
   "source": [
    "np.random.seed(20)\n",
    "data = np.random.randint(1,10,size=(3,2)) #-5부터 5까지 숫자로 2x2 행렬\n",
    "df = pd.DataFrame(data)\n",
    "df"
   ]
  },
  {
   "cell_type": "code",
   "execution_count": 92,
   "id": "e5abcb7e",
   "metadata": {},
   "outputs": [
    {
     "data": {
      "text/plain": [
       "array([ 6.40312424, 10.63014581,  3.16227766])"
      ]
     },
     "execution_count": 92,
     "metadata": {},
     "output_type": "execute_result"
    }
   ],
   "source": [
    "linalg.norm(df, ord=2, axis=1)"
   ]
  },
  {
   "cell_type": "code",
   "execution_count": null,
   "id": "8bb09281",
   "metadata": {},
   "outputs": [],
   "source": []
  }
 ],
 "metadata": {
  "kernelspec": {
   "display_name": "Python 3",
   "language": "python",
   "name": "python3"
  },
  "language_info": {
   "codemirror_mode": {
    "name": "ipython",
    "version": 3
   },
   "file_extension": ".py",
   "mimetype": "text/x-python",
   "name": "python",
   "nbconvert_exporter": "python",
   "pygments_lexer": "ipython3",
   "version": "3.8.10"
  }
 },
 "nbformat": 4,
 "nbformat_minor": 5
}
