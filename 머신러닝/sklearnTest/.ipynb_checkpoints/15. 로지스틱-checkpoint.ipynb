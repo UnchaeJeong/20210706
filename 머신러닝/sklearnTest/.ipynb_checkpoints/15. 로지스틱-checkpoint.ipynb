{
 "cells": [
  {
   "cell_type": "code",
   "execution_count": 1,
   "id": "d1a29b32-0f5c-4840-b3f8-958ad795afde",
   "metadata": {},
   "outputs": [],
   "source": [
    "from sklearn.datasets import make_classification\n",
    "from sklearn.linear_model import LogisticRegression\n",
    "from sklearn.model_selection import train_test_split\n",
    "from sklearn.model_selection import cross_val_score\n",
    "import sklearn.metrics as metrics\n",
    "import math\n",
    "import pandas as pd\n",
    "import numpy as np\n",
    "import matplotlib.pyplot as plt\n"
   ]
  },
  {
   "cell_type": "markdown",
   "id": "5d9992b7-dd7b-4a90-8163-b68726de8f50",
   "metadata": {},
   "source": [
    "# 로지스틱 회귀 (Logistic Regression)(분류)\n",
    "\n",
    "* 로지스틱 회귀는 이름에 회귀라는 단어가 들어가지만, 가능한 클래스가 2개인 이진 분류를 위한 모델\n",
    "* 로지스틱 회귀의 예측 함수 정의\n",
    "\n",
    "\\begin{equation}\n",
    "\\sigma(x) = \\frac{1}{1 + e^{-x}} \\\\\n",
    "\\hat{y} = \\sigma(b + w x) \n",
    "\\end{equation}\n",
    "\\begin{equation}\n",
    "\\hat{y} = \\sigma(b + w_1 x_1 + ... + w_p x_p)\n",
    "\\end{equation}\n",
    "\n",
    "  + $\\sigma$: 시그모이드 함수\n",
    "  \n",
    "* 로지스틱 회귀 모델은 선형 회귀 모델에 시그모이드 함수를 적용\n",
    "\n",
    "* 로지스틱 회귀의 학습 목표는 다음과 같은 목적 함수를 최소화 하는 파라미터 $w$를 찾는 것\n",
    "\n",
    "\\begin{equation}\n",
    "BinaryCrossEntropy = -\\frac{1}{N}\\sum_{i=1}^{N}y_i\\log(\\hat{y}_i) + (1-y_i)\\log(1-\\hat{y}_i)\n",
    "\\end{equation}\n"
   ]
  },
  {
   "cell_type": "code",
   "execution_count": 2,
   "id": "5533d39b-f943-4815-9199-3baa7c8500b1",
   "metadata": {},
   "outputs": [],
   "source": [
    "#공부한시간, 출석일수( 0=불합격, 1=합격)\n",
    "x_data = np.array( [[1,3],[2,2],[3,1],[4,6],[5,5],[6,4],])\n",
    "y_data = np.array( [0,0,0,1,1,1])\n"
   ]
  },
  {
   "cell_type": "code",
   "execution_count": 4,
   "id": "66b18d31-a26e-4d8d-a9bb-0ddc3064bc1e",
   "metadata": {},
   "outputs": [
    {
     "data": {
      "text/plain": [
       "LogisticRegression()"
      ]
     },
     "execution_count": 4,
     "metadata": {},
     "output_type": "execute_result"
    }
   ],
   "source": [
    "model_logi = LogisticRegression()\n",
    "model_logi.fit(x_data, y_data)"
   ]
  },
  {
   "cell_type": "code",
   "execution_count": 6,
   "id": "0162b645-5925-4294-8e25-73ac546e62f6",
   "metadata": {},
   "outputs": [
    {
     "data": {
      "text/plain": [
       "array([[0.78341156, 0.78341156]])"
      ]
     },
     "execution_count": 6,
     "metadata": {},
     "output_type": "execute_result"
    }
   ],
   "source": [
    "model_logi.coef_ #공부한 시간 weight, 출석 weight 두개 나옴"
   ]
  },
  {
   "cell_type": "code",
   "execution_count": 8,
   "id": "126cb8e1-f2e0-4d51-9f56-018fccac82d5",
   "metadata": {},
   "outputs": [
    {
     "data": {
      "text/plain": [
       "array([-5.48382067])"
      ]
     },
     "execution_count": 8,
     "metadata": {},
     "output_type": "execute_result"
    }
   ],
   "source": [
    "model_logi.intercept_ # 절편"
   ]
  },
  {
   "cell_type": "code",
   "execution_count": 11,
   "id": "c787aabe-c58c-4793-a168-c0deee5fba54",
   "metadata": {},
   "outputs": [
    {
     "data": {
      "text/plain": [
       "array([[0.01951014, 0.98048986]])"
      ]
     },
     "execution_count": 11,
     "metadata": {},
     "output_type": "execute_result"
    }
   ],
   "source": [
    "model_logi.predict_proba( [[6,6]]) # 1x2 matmul 2x1 \n",
    "# 프로바 값으로 0일확률, 1일 확률이 나옴. 합격을 확률 98%"
   ]
  },
  {
   "cell_type": "code",
   "execution_count": 12,
   "id": "24fd862d-96c5-4cb9-a074-10a899d98c2c",
   "metadata": {},
   "outputs": [
    {
     "data": {
      "text/plain": [
       "array([1])"
      ]
     },
     "execution_count": 12,
     "metadata": {},
     "output_type": "execute_result"
    }
   ],
   "source": [
    "model_logi.predict([[6,6]]) # 합격이라는 뜻"
   ]
  },
  {
   "cell_type": "code",
   "execution_count": 14,
   "id": "5ffd43bd-6aec-4173-9aab-8beee01e4670",
   "metadata": {},
   "outputs": [
    {
     "data": {
      "text/plain": [
       "array([1], dtype=int64)"
      ]
     },
     "execution_count": 14,
     "metadata": {},
     "output_type": "execute_result"
    }
   ],
   "source": [
    "model_logi.predict_proba([[6,6]]).argmax( axis=1) # 가장 큰 값."
   ]
  },
  {
   "cell_type": "markdown",
   "id": "83696fe9-cb5d-4bdb-ba35-a2532b23cdf5",
   "metadata": {},
   "source": [
    "원리 설명"
   ]
  },
  {
   "cell_type": "code",
   "execution_count": 15,
   "id": "f6585fb5-2f23-49f7-96c9-e52b56a1c949",
   "metadata": {},
   "outputs": [
    {
     "data": {
      "text/plain": [
       "array([1])"
      ]
     },
     "execution_count": 15,
     "metadata": {},
     "output_type": "execute_result"
    }
   ],
   "source": [
    "model_logi.predict([[6,6]]) # 합격이라는 뜻"
   ]
  },
  {
   "cell_type": "code",
   "execution_count": 18,
   "id": "a7232645-1cff-49a3-b0cb-b9dd34e3c33a",
   "metadata": {},
   "outputs": [],
   "source": [
    "def sigmoid( z ):\n",
    "    return 1/(1+math.e**-z)"
   ]
  },
  {
   "cell_type": "code",
   "execution_count": 20,
   "id": "0a555879-3427-4f06-801c-d0191faea18a",
   "metadata": {},
   "outputs": [
    {
     "data": {
      "text/plain": [
       "array([[0.78341156],\n",
       "       [0.78341156]])"
      ]
     },
     "execution_count": 20,
     "metadata": {},
     "output_type": "execute_result"
    }
   ],
   "source": [
    "w = model_logi.coef_.reshape(2,1)\n",
    "w"
   ]
  },
  {
   "cell_type": "code",
   "execution_count": 22,
   "id": "5a7d64c4-40c7-4375-9360-9d6a706c9cbf",
   "metadata": {},
   "outputs": [
    {
     "data": {
      "text/plain": [
       "array([[3.9171181]])"
      ]
     },
     "execution_count": 22,
     "metadata": {},
     "output_type": "execute_result"
    }
   ],
   "source": [
    "z = np.matmul([[6,6]],w) + model_logi.intercept_ \n",
    "# = z, 여기까지가연속데이터 예측, linearregress에서는 여기까지\n",
    "z"
   ]
  },
  {
   "cell_type": "code",
   "execution_count": 23,
   "id": "18927e31-9a85-48e9-ad91-e152ef881dcc",
   "metadata": {},
   "outputs": [
    {
     "data": {
      "text/plain": [
       "array([[0.98048986]])"
      ]
     },
     "execution_count": 23,
     "metadata": {},
     "output_type": "execute_result"
    }
   ],
   "source": [
    "sigmoid(z) # 시그모아 안에 넣어서 proba 합격할 확률 값과 같음.\n",
    "# 6시간 공부하고 6시간 출석했을 때 합격률을 구해준 것."
   ]
  },
  {
   "cell_type": "markdown",
   "id": "4d83a476-3cc7-4786-9e1f-d8d61ddb0ef8",
   "metadata": {},
   "source": [
    "예제\n",
    "\n",
    "1시간 공부, 1시간 출석, 6시간 공부, 5시간 출석한 학생의 합격유무를 예측하시오."
   ]
  },
  {
   "cell_type": "code",
   "execution_count": 27,
   "id": "dc8b36f1-562d-4801-bd9a-bc4e5a9e05fb",
   "metadata": {},
   "outputs": [
    {
     "data": {
      "text/plain": [
       "array([0])"
      ]
     },
     "execution_count": 27,
     "metadata": {},
     "output_type": "execute_result"
    }
   ],
   "source": [
    "model_logi.predict([[1,1]])"
   ]
  },
  {
   "cell_type": "code",
   "execution_count": 28,
   "id": "17f0ba0b-2f07-47f1-8d4c-c9e347bfa55a",
   "metadata": {},
   "outputs": [
    {
     "data": {
      "text/plain": [
       "array([1])"
      ]
     },
     "execution_count": 28,
     "metadata": {},
     "output_type": "execute_result"
    }
   ],
   "source": [
    "model_logi.predict([[6,5]])"
   ]
  },
  {
   "cell_type": "code",
   "execution_count": 26,
   "id": "324f7369-8df6-471f-b944-a6f509e52adb",
   "metadata": {},
   "outputs": [
    {
     "data": {
      "text/plain": [
       "array([[0.98048756, 0.01951244]])"
      ]
     },
     "execution_count": 26,
     "metadata": {},
     "output_type": "execute_result"
    }
   ],
   "source": [
    "model_logi.predict_proba( [[1,1]])"
   ]
  },
  {
   "cell_type": "code",
   "execution_count": 25,
   "id": "7cbcbe17-b77e-44ec-a7cd-a851235e26db",
   "metadata": {},
   "outputs": [
    {
     "data": {
      "text/plain": [
       "array([[0.04173811, 0.95826189]])"
      ]
     },
     "execution_count": 25,
     "metadata": {},
     "output_type": "execute_result"
    }
   ],
   "source": [
    "model_logi.predict_proba( [[6,5]])"
   ]
  },
  {
   "cell_type": "markdown",
   "id": "dda28045-00d7-4648-babf-880fe83f8b4c",
   "metadata": {},
   "source": [
    " "
   ]
  },
  {
   "cell_type": "code",
   "execution_count": 31,
   "id": "f98cc724-dcc8-4a95-a88a-dffa5f3b98f9",
   "metadata": {},
   "outputs": [
    {
     "data": {
      "text/plain": [
       "1.0"
      ]
     },
     "execution_count": 31,
     "metadata": {},
     "output_type": "execute_result"
    }
   ],
   "source": [
    "model_logi.score(x_data, y_data) # 여기서 말하는 score는 정확도\n",
    "# 연속데이터에서는 결정계수"
   ]
  },
  {
   "cell_type": "code",
   "execution_count": 33,
   "id": "8def21b2-8a74-41e7-ab08-085e81f571c0",
   "metadata": {},
   "outputs": [
    {
     "data": {
      "text/plain": [
       "array([0, 0, 0, 1, 1, 1])"
      ]
     },
     "execution_count": 33,
     "metadata": {},
     "output_type": "execute_result"
    }
   ],
   "source": [
    "p = model_logi.predict(x_data) # 6x2 2x1 argmax한 것?\n",
    "p"
   ]
  },
  {
   "cell_type": "code",
   "execution_count": 34,
   "id": "8d760983-f642-4548-8ffc-fe608af00c90",
   "metadata": {},
   "outputs": [
    {
     "data": {
      "text/plain": [
       "array([ True,  True,  True,  True,  True,  True])"
      ]
     },
     "execution_count": 34,
     "metadata": {},
     "output_type": "execute_result"
    }
   ],
   "source": [
    "p == y_data # 실측값 ndarray객체라서 == 했을 때 true,true,true,false\n",
    "# 100% 정확하다 (지금 문제에서는)\n",
    "# 예측값과 실측값을 비교한 것. \n",
    "# 분류쪽에서는 단순히 정확도로 판단하진 않음. 오후에 이야기 할 것."
   ]
  },
  {
   "cell_type": "markdown",
   "id": "e181e9c7-7fee-4a67-89a0-64bcb9fd4d04",
   "metadata": {},
   "source": [
    " 분류쪽에서는 단순히 정확도로 모델을 판단하진 않음. 오후에 이야기 할 것."
   ]
  },
  {
   "cell_type": "code",
   "execution_count": null,
   "id": "aef51dbe-c42d-42e3-bf70-b006791aac14",
   "metadata": {},
   "outputs": [],
   "source": []
  }
 ],
 "metadata": {
  "kernelspec": {
   "display_name": "Python 3",
   "language": "python",
   "name": "python3"
  },
  "language_info": {
   "codemirror_mode": {
    "name": "ipython",
    "version": 3
   },
   "file_extension": ".py",
   "mimetype": "text/x-python",
   "name": "python",
   "nbconvert_exporter": "python",
   "pygments_lexer": "ipython3",
   "version": "3.8.8"
  }
 },
 "nbformat": 4,
 "nbformat_minor": 5
}
