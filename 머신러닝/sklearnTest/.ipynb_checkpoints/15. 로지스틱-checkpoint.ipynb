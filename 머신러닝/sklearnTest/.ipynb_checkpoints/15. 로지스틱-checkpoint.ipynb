{
 "cells": [
  {
   "cell_type": "code",
   "execution_count": 1,
   "id": "d1a29b32-0f5c-4840-b3f8-958ad795afde",
   "metadata": {},
   "outputs": [],
   "source": [
    "from sklearn.datasets import make_classification\n",
    "from sklearn.linear_model import LogisticRegression\n",
    "from sklearn.model_selection import train_test_split\n",
    "from sklearn.model_selection import cross_val_score\n",
    "import sklearn.metrics as metrics\n",
    "import math\n",
    "import pandas as pd\n",
    "import numpy as np\n",
    "import matplotlib.pyplot as plt\n"
   ]
  },
  {
   "cell_type": "markdown",
   "id": "5d9992b7-dd7b-4a90-8163-b68726de8f50",
   "metadata": {},
   "source": [
    "# 로지스틱 회귀 (Logistic Regression)(분류)\n",
    "\n",
    "* 로지스틱 회귀는 이름에 회귀라는 단어가 들어가지만, 가능한 클래스가 2개인 이진 분류를 위한 모델\n",
    "* 로지스틱 회귀의 예측 함수 정의\n",
    "\n",
    "\\begin{equation}\n",
    "\\sigma(x) = \\frac{1}{1 + e^{-x}} \\\\\n",
    "\\hat{y} = \\sigma(b + w x) \n",
    "\\end{equation}\n",
    "\\begin{equation}\n",
    "\\hat{y} = \\sigma(b + w_1 x_1 + ... + w_p x_p)\n",
    "\\end{equation}\n",
    "\n",
    "  + $\\sigma$: 시그모이드 함수\n",
    "  \n",
    "* 로지스틱 회귀 모델은 선형 회귀 모델에 시그모이드 함수를 적용\n",
    "\n",
    "* 로지스틱 회귀의 학습 목표는 다음과 같은 목적 함수를 최소화 하는 파라미터 $w$를 찾는 것\n",
    "\n",
    "\\begin{equation}\n",
    "BinaryCrossEntropy = -\\frac{1}{N}\\sum_{i=1}^{N}y_i\\log(\\hat{y}_i) + (1-y_i)\\log(1-\\hat{y}_i)\n",
    "\\end{equation}\n"
   ]
  },
  {
   "cell_type": "code",
   "execution_count": 2,
   "id": "5533d39b-f943-4815-9199-3baa7c8500b1",
   "metadata": {},
   "outputs": [],
   "source": [
    "#공부한시간, 출석일수( 0=불합격, 1=합격)\n",
    "x_data = np.array( [[1,3],[2,2],[3,1],[4,6],[5,5],[6,4],])\n",
    "y_data = np.array( [0,0,0,1,1,1])\n"
   ]
  },
  {
   "cell_type": "code",
   "execution_count": 4,
   "id": "66b18d31-a26e-4d8d-a9bb-0ddc3064bc1e",
   "metadata": {},
   "outputs": [
    {
     "data": {
      "text/plain": [
       "LogisticRegression()"
      ]
     },
     "execution_count": 4,
     "metadata": {},
     "output_type": "execute_result"
    }
   ],
   "source": [
    "model_logi = LogisticRegression()\n",
    "model_logi.fit(x_data, y_data)"
   ]
  },
  {
   "cell_type": "code",
   "execution_count": 6,
   "id": "0162b645-5925-4294-8e25-73ac546e62f6",
   "metadata": {},
   "outputs": [
    {
     "data": {
      "text/plain": [
       "array([[0.78341156, 0.78341156]])"
      ]
     },
     "execution_count": 6,
     "metadata": {},
     "output_type": "execute_result"
    }
   ],
   "source": [
    "model_logi.coef_ #공부한 시간 weight, 출석 weight 두개 나옴"
   ]
  },
  {
   "cell_type": "code",
   "execution_count": 8,
   "id": "126cb8e1-f2e0-4d51-9f56-018fccac82d5",
   "metadata": {},
   "outputs": [
    {
     "data": {
      "text/plain": [
       "array([-5.48382067])"
      ]
     },
     "execution_count": 8,
     "metadata": {},
     "output_type": "execute_result"
    }
   ],
   "source": [
    "model_logi.intercept_ # 절편"
   ]
  },
  {
   "cell_type": "code",
   "execution_count": 11,
   "id": "c787aabe-c58c-4793-a168-c0deee5fba54",
   "metadata": {},
   "outputs": [
    {
     "data": {
      "text/plain": [
       "array([[0.01951014, 0.98048986]])"
      ]
     },
     "execution_count": 11,
     "metadata": {},
     "output_type": "execute_result"
    }
   ],
   "source": [
    "model_logi.predict_proba( [[6,6]]) # 1x2 matmul 2x1 \n",
    "# 프로바 값으로 0일확률, 1일 확률이 나옴. 합격을 확률 98%"
   ]
  },
  {
   "cell_type": "code",
   "execution_count": 12,
   "id": "24fd862d-96c5-4cb9-a074-10a899d98c2c",
   "metadata": {},
   "outputs": [
    {
     "data": {
      "text/plain": [
       "array([1])"
      ]
     },
     "execution_count": 12,
     "metadata": {},
     "output_type": "execute_result"
    }
   ],
   "source": [
    "model_logi.predict([[6,6]]) # 합격이라는 뜻"
   ]
  },
  {
   "cell_type": "code",
   "execution_count": 14,
   "id": "5ffd43bd-6aec-4173-9aab-8beee01e4670",
   "metadata": {},
   "outputs": [
    {
     "data": {
      "text/plain": [
       "array([1], dtype=int64)"
      ]
     },
     "execution_count": 14,
     "metadata": {},
     "output_type": "execute_result"
    }
   ],
   "source": [
    "model_logi.predict_proba([[6,6]]).argmax( axis=1) # 가장 큰 값."
   ]
  },
  {
   "cell_type": "markdown",
   "id": "83696fe9-cb5d-4bdb-ba35-a2532b23cdf5",
   "metadata": {},
   "source": [
    "원리 설명"
   ]
  },
  {
   "cell_type": "code",
   "execution_count": 15,
   "id": "f6585fb5-2f23-49f7-96c9-e52b56a1c949",
   "metadata": {},
   "outputs": [
    {
     "data": {
      "text/plain": [
       "array([1])"
      ]
     },
     "execution_count": 15,
     "metadata": {},
     "output_type": "execute_result"
    }
   ],
   "source": [
    "model_logi.predict([[6,6]]) # 합격이라는 뜻"
   ]
  },
  {
   "cell_type": "code",
   "execution_count": 18,
   "id": "a7232645-1cff-49a3-b0cb-b9dd34e3c33a",
   "metadata": {},
   "outputs": [],
   "source": [
    "def sigmoid( z ):\n",
    "    return 1/(1+math.e**-z)"
   ]
  },
  {
   "cell_type": "code",
   "execution_count": 20,
   "id": "0a555879-3427-4f06-801c-d0191faea18a",
   "metadata": {},
   "outputs": [
    {
     "data": {
      "text/plain": [
       "array([[0.78341156],\n",
       "       [0.78341156]])"
      ]
     },
     "execution_count": 20,
     "metadata": {},
     "output_type": "execute_result"
    }
   ],
   "source": [
    "w = model_logi.coef_.reshape(2,1)\n",
    "w"
   ]
  },
  {
   "cell_type": "code",
   "execution_count": 22,
   "id": "5a7d64c4-40c7-4375-9360-9d6a706c9cbf",
   "metadata": {},
   "outputs": [
    {
     "data": {
      "text/plain": [
       "array([[3.9171181]])"
      ]
     },
     "execution_count": 22,
     "metadata": {},
     "output_type": "execute_result"
    }
   ],
   "source": [
    "z = np.matmul([[6,6]],w) + model_logi.intercept_ \n",
    "# = z, 여기까지가연속데이터 예측, linearregress에서는 여기까지\n",
    "z"
   ]
  },
  {
   "cell_type": "code",
   "execution_count": 23,
   "id": "18927e31-9a85-48e9-ad91-e152ef881dcc",
   "metadata": {},
   "outputs": [
    {
     "data": {
      "text/plain": [
       "array([[0.98048986]])"
      ]
     },
     "execution_count": 23,
     "metadata": {},
     "output_type": "execute_result"
    }
   ],
   "source": [
    "sigmoid(z) # 시그모아 안에 넣어서 proba 합격할 확률 값과 같음.\n",
    "# 6시간 공부하고 6시간 출석했을 때 합격률을 구해준 것."
   ]
  },
  {
   "cell_type": "markdown",
   "id": "4d83a476-3cc7-4786-9e1f-d8d61ddb0ef8",
   "metadata": {},
   "source": [
    "예제\n",
    "\n",
    "1시간 공부, 1시간 출석, 6시간 공부, 5시간 출석한 학생의 합격유무를 예측하시오."
   ]
  },
  {
   "cell_type": "code",
   "execution_count": 27,
   "id": "dc8b36f1-562d-4801-bd9a-bc4e5a9e05fb",
   "metadata": {},
   "outputs": [
    {
     "data": {
      "text/plain": [
       "array([0])"
      ]
     },
     "execution_count": 27,
     "metadata": {},
     "output_type": "execute_result"
    }
   ],
   "source": [
    "model_logi.predict([[1,1]])"
   ]
  },
  {
   "cell_type": "code",
   "execution_count": 28,
   "id": "17f0ba0b-2f07-47f1-8d4c-c9e347bfa55a",
   "metadata": {},
   "outputs": [
    {
     "data": {
      "text/plain": [
       "array([1])"
      ]
     },
     "execution_count": 28,
     "metadata": {},
     "output_type": "execute_result"
    }
   ],
   "source": [
    "model_logi.predict([[6,5]])"
   ]
  },
  {
   "cell_type": "code",
   "execution_count": 26,
   "id": "324f7369-8df6-471f-b944-a6f509e52adb",
   "metadata": {},
   "outputs": [
    {
     "data": {
      "text/plain": [
       "array([[0.98048756, 0.01951244]])"
      ]
     },
     "execution_count": 26,
     "metadata": {},
     "output_type": "execute_result"
    }
   ],
   "source": [
    "model_logi.predict_proba( [[1,1]])"
   ]
  },
  {
   "cell_type": "code",
   "execution_count": 25,
   "id": "7cbcbe17-b77e-44ec-a7cd-a851235e26db",
   "metadata": {},
   "outputs": [
    {
     "data": {
      "text/plain": [
       "array([[0.04173811, 0.95826189]])"
      ]
     },
     "execution_count": 25,
     "metadata": {},
     "output_type": "execute_result"
    }
   ],
   "source": [
    "model_logi.predict_proba( [[6,5]])"
   ]
  },
  {
   "cell_type": "markdown",
   "id": "dda28045-00d7-4648-babf-880fe83f8b4c",
   "metadata": {},
   "source": [
    " "
   ]
  },
  {
   "cell_type": "markdown",
   "id": "e181e9c7-7fee-4a67-89a0-64bcb9fd4d04",
   "metadata": {},
   "source": [
    "## 분류쪽에서는 단순히 정확도로 모델을 판단하진 않음. 오후에 이야기 할 것."
   ]
  },
  {
   "cell_type": "code",
   "execution_count": 31,
   "id": "f98cc724-dcc8-4a95-a88a-dffa5f3b98f9",
   "metadata": {},
   "outputs": [
    {
     "data": {
      "text/plain": [
       "1.0"
      ]
     },
     "execution_count": 31,
     "metadata": {},
     "output_type": "execute_result"
    }
   ],
   "source": [
    "model_logi.score(x_data, y_data) # 여기서 말하는 score는 정확도\n",
    "# 연속데이터에서는 결정계수"
   ]
  },
  {
   "cell_type": "code",
   "execution_count": 33,
   "id": "8def21b2-8a74-41e7-ab08-085e81f571c0",
   "metadata": {},
   "outputs": [
    {
     "data": {
      "text/plain": [
       "array([0, 0, 0, 1, 1, 1])"
      ]
     },
     "execution_count": 33,
     "metadata": {},
     "output_type": "execute_result"
    }
   ],
   "source": [
    "p = model_logi.predict(x_data) # 6x2 2x1 argmax한 것?\n",
    "p"
   ]
  },
  {
   "cell_type": "code",
   "execution_count": 34,
   "id": "8d760983-f642-4548-8ffc-fe608af00c90",
   "metadata": {},
   "outputs": [
    {
     "data": {
      "text/plain": [
       "array([ True,  True,  True,  True,  True,  True])"
      ]
     },
     "execution_count": 34,
     "metadata": {},
     "output_type": "execute_result"
    }
   ],
   "source": [
    "p == y_data # 실측값 ndarray객체라서 == 했을 때 true,true,true,false\n",
    "# 100% 정확하다 (지금 문제에서는)\n",
    "# 예측값과 실측값을 비교한 것. \n",
    "# 분류쪽에서는 단순히 정확도로 판단하진 않음. 오후에 이야기 할 것."
   ]
  },
  {
   "cell_type": "code",
   "execution_count": 35,
   "id": "aef51dbe-c42d-42e3-bf70-b006791aac14",
   "metadata": {},
   "outputs": [
    {
     "data": {
      "text/plain": [
       "1.0"
      ]
     },
     "execution_count": 35,
     "metadata": {},
     "output_type": "execute_result"
    }
   ],
   "source": [
    "(p == y_data).mean()"
   ]
  },
  {
   "cell_type": "code",
   "execution_count": null,
   "id": "7b0e028e-b93c-40c1-bdc6-f0f8e363c5ec",
   "metadata": {},
   "outputs": [],
   "source": [
    "LogisticRegression() : SGDRegress, ridge, lasso, elasticnet"
   ]
  },
  {
   "cell_type": "markdown",
   "id": "7dc970f5-9f4c-4221-808c-b659ced8774b",
   "metadata": {},
   "source": [
    "# Logistic파라미터"
   ]
  },
  {
   "cell_type": "markdown",
   "id": "16579727-94c2-485b-a30c-e31f47915802",
   "metadata": {},
   "source": [
    "penalty : str, ‘l1’, ‘l2’, ‘elasticnet’ or ‘none’, optional (default=’l2’)\n",
    "\n",
    "  l1: 맨하튼 거리, 오차 = 오차 + alpha * (|w1| + |w2|) <br>\n",
    "  l2: 유클리디안 거리의 제곱, 오차 = 오차 + alpha * (W1^2 + w2^2)\n",
    "  가중치 규제 (특성 수 줄이기, 과대적합 방지) <br>\n",
    "  none 면 가중치 규제 미사용 <br>\n",
    "\n",
    "  loss = loss + regularization strength X 가중치의 l1 혹은 l2 거리 (가중치 규제(과적합 방지))<br>\n",
    "  가중치가 커지지 못하게 하기 (과적합 방지)<br>\n",
    "\n",
    "C : float, optional (default=1.0)<br>\n",
    "  alpha 의 역수<br>\n",
    "  alpha 는 클수록 가중치 규제, 작을수록 정확하게 (과적합)<br>\n",
    "\n",
    "  regularization strength(가중치 규제 항목에 곱해지는 값)의 역수 (과적합 방지)\n",
    "  디폴트 1.0\n",
    "  역수기 때문에 작을수록 과적합 방지\n"
   ]
  },
  {
   "cell_type": "markdown",
   "id": "e5e8fcce-a9a6-456d-a4d9-a96eb8b276b0",
   "metadata": {},
   "source": [
    "penalty : str, ‘l1’, ‘l2’, \n",
    "#### penalty:L1 혹은 L2 제약조건의 강도를 설정  \n",
    "\n",
    "#### alpha: 높은 알파 값을 설정할 수록, 높은 제약조건을 설정하는 것\n",
    "\n",
    "#### C: \n",
    "cost function의 C를 의미하는 것이며,\n",
    "C의 경우에는 높은 C를 설정할 수록, 낮은 강도의 제약조건이 설정되고\n",
    "낮은 C를 설정할 수록, 높은 강도의 제약조건이 설정\n",
    "\n",
    "### solver : \n",
    "liblinear:L1제약조건, L2제약조건 두 가지를 모두 지원하며, 이것은 작은 데이터에 적합한 알고리즘. <br>\n",
    "sag, saga: 이것을 확률적경사하강법을 기반으로 하기에 대용량 데이터에 적합한 알고이름이라고 하며, <br>\n",
    "sag는 L1 제약조건만을 지원하고, saga는 L1, L2 제약조건 둘 다 지원함.\n",
    "\n",
    "<div style=\"color:red\">회귀알고리즘에서 ridge와 lasso와 계수를 다루는 방법이 유사하다고 보면 된다.\n",
    "L1규제는 lasso처럼 계수를 0으로도 만들 수 있고,\n",
    "L2규제는 ridge처럼 계수를 0으로 만들진 않지만 영향력이 작으면 0에 가까운 값을 만들어 회귀식을 구성하게 된다.\n",
    "</div>\n",
    "\n",
    "#### newton-cg, lbfgs (sag, saga)  이것은 멀티클래스의 분류 모델에 쓰는 것(다중분류)\n",
    "\n",
    "현재까지는 이 중에서 lbfgs 알고리즘이 가장 성능이 좋다고 알려져 있고, newton-cg, lbfgs 도 L2제약조건만 지원함.<br>\n",
    "결국 sag는 L1만 지원하고, newton-cg, saga, lbfgs 세 가지가 L2만 지원하고, <br>\n",
    "liblinear, saga가 L1, L2 둘 다 지원<br>\n",
    "\n",
    "#### penalty :  L1, L2 제약조건을 설정하는 하이퍼 파라미터이고, default는 L2\n",
    "    \n",
    "#### class_weight :데이터에 직접 가중치를 설정하여 학습의 강도를 다르게 할 수 있는 하이퍼 파라미터.\n"
   ]
  },
  {
   "cell_type": "markdown",
   "id": "27c57acd-372d-4590-a9b7-a474b3f1a320",
   "metadata": {},
   "source": [
    "동영상 시청(7분)\n",
    "https://www.youtube.com/watch?v=Xm2C_gTAl8c\n",
    "\n"
   ]
  },
  {
   "cell_type": "code",
   "execution_count": null,
   "id": "95b4359b-7d1f-4091-ab38-91932f98d68a",
   "metadata": {},
   "outputs": [],
   "source": []
  }
 ],
 "metadata": {
  "kernelspec": {
   "display_name": "Python 3",
   "language": "python",
   "name": "python3"
  },
  "language_info": {
   "codemirror_mode": {
    "name": "ipython",
    "version": 3
   },
   "file_extension": ".py",
   "mimetype": "text/x-python",
   "name": "python",
   "nbconvert_exporter": "python",
   "pygments_lexer": "ipython3",
   "version": "3.8.8"
  }
 },
 "nbformat": 4,
 "nbformat_minor": 5
}
