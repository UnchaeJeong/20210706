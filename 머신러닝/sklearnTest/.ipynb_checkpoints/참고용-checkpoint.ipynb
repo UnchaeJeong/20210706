{
 "cells": [
  {
   "cell_type": "markdown",
   "id": "6504bcb2-8506-4cfa-9ccc-e2759153f27a",
   "metadata": {},
   "source": [
    "######  데이터 프레임 불러오기"
   ]
  },
  {
   "cell_type": "code",
   "execution_count": null,
   "id": "921fd8ff-eaab-46f5-ba82-0e216142f3d8",
   "metadata": {},
   "outputs": [],
   "source": [
    "from sklearn.datasets import load_boston, load_iris\n",
    "\n",
    "df = pd.read_csv('data/.csv'\n",
    "df.columns = ['','']\n",
    "\n",
    "df.shape\n",
    "df.info\n",
    "df.head)\n",
    "\n",
    "--- \n",
    "from sklearn.datasets import load_boston, load_iris\n",
    "df = load_df()\n",
    "df.keys()\n",
    "\n",
    "df = pd.DataFrame(df['data'], columns = boston['feature_names'])\n",
    "df[''] = df['target']\n"
   ]
  },
  {
   "cell_type": "markdown",
   "id": "a8635455-5b02-4f4a-954c-29bcb6b9655f",
   "metadata": {},
   "source": [
    "---\n",
    "---\n",
    "# <span style=\"color:yellow\">04.LinearRegress</span>"
   ]
  },
  {
   "cell_type": "code",
   "execution_count": null,
   "id": "3c98c3e6-ee14-4a85-988b-6f6000bd3aca",
   "metadata": {},
   "outputs": [],
   "source": [
    "from sklearn.linear_model import LinearRegression"
   ]
  },
  {
   "cell_type": "markdown",
   "id": "fc0547ed-6a4b-4f51-a8fb-15db9c2dffb0",
   "metadata": {},
   "source": [
    "## 선형회귀모델, 모델링"
   ]
  },
  {
   "cell_type": "code",
   "execution_count": null,
   "id": "548bb096-0c07-4383-b946-c555dc6f76a5",
   "metadata": {},
   "outputs": [],
   "source": [
    "model_lr = LinearRegression( )\n",
    "model_lr.fit( x,y )"
   ]
  },
  {
   "cell_type": "code",
   "execution_count": null,
   "id": "273d7c56-6ad0-41e0-86ac-de3ca60878e9",
   "metadata": {},
   "outputs": [],
   "source": [
    "(기울기)\n",
    "model_lr.coef_\n",
    "(절편)\n",
    "model_lr.intercept_"
   ]
  },
  {
   "cell_type": "markdown",
   "id": "0e49aa6c-986e-4237-8478-dec5e4929d35",
   "metadata": {},
   "source": [
    "## 연속데이터 예측"
   ]
  },
  {
   "cell_type": "code",
   "execution_count": null,
   "id": "40de834f-3efc-48a6-922d-04d491537382",
   "metadata": {},
   "outputs": [],
   "source": [
    "model_lr.predict([[]])\n",
    "model_lr.predict([[],[]]) # 2x1 1x1(weight) => 2x1"
   ]
  },
  {
   "cell_type": "markdown",
   "id": "50cb1738-962f-4f31-9a81-25a42f1713cd",
   "metadata": {},
   "source": [
    "##  그래프"
   ]
  },
  {
   "cell_type": "code",
   "execution_count": null,
   "id": "8c927e8a-44af-408f-9516-b7f9c5d3ea67",
   "metadata": {},
   "outputs": [],
   "source": [
    "plt.xlabel( 'x_data' ); plt.ylabel( 'y_data' )\n",
    "\n",
    "plt.subplot( , , ) # 그래프 양 옆에 비교\n",
    "\n",
    "plt.scatter( df ['__'],df['__'] )\n",
    "# plt.scatter(x_data, y_data)\n",
    "\n",
    "y_predict = model_lr.predict(x_data)\n",
    "plt.plot(x_data,y_predict,'r', label=\"=legend\")\n",
    "\n",
    "plt.legend()\n",
    "plt.show( )"
   ]
  },
  {
   "cell_type": "markdown",
   "id": "dbfe4957-e492-4fca-82e6-d829873fc994",
   "metadata": {},
   "source": [
    "---\n",
    "---\n",
    "# <span style=\"color:yellow\">05. SGDRegress</span>"
   ]
  },
  {
   "cell_type": "code",
   "execution_count": null,
   "id": "ff47f659-76fc-473f-ae54-efee134b7f38",
   "metadata": {},
   "outputs": [],
   "source": [
    "import pandas as pd\n",
    "import numpy as np\n",
    "\n",
    "from sklearn.linear_model import LinearRegression, SGDRegressor\n",
    "\n",
    "import matplotlib.pyplot as plt\n",
    "import matplotlib\n",
    "\n",
    "matplotlib.rcParams['font.family']='Malgun Gothic'\n",
    "matplotlib.rcParams['axes.unicode_minus'] = False"
   ]
  },
  {
   "cell_type": "markdown",
   "id": "53ba991c-229f-484e-b037-ccf1a013167f",
   "metadata": {},
   "source": [
    "## 특성데이터"
   ]
  },
  {
   "cell_type": "code",
   "execution_count": null,
   "id": "49ab0a14-56e3-4683-bf78-bfbf8449d49b",
   "metadata": {},
   "outputs": [],
   "source": [
    "x_data = df[['']] \n",
    "# x_data = df.iloc[:, :-1]\n",
    "# x_data = df.drop('', axis=1)\n",
    "\n",
    "y_data = df[['']]\n",
    "# y_data = df.iloc[:,[-1]]"
   ]
  },
  {
   "cell_type": "markdown",
   "id": "240ba9a4-7081-4585-a89c-b7861f86daba",
   "metadata": {},
   "source": [
    "## modelSGD, modelSGD.fit( )"
   ]
  },
  {
   "cell_type": "code",
   "execution_count": null,
   "id": "c771775d-ae81-421a-96bc-bd2533f8bff2",
   "metadata": {},
   "outputs": [],
   "source": [
    "modelSGD = SGDRegressor(max_iter=200, alpha=0.001,early_stopping=True,verbose=1)\n",
    "modelSGD.fit(x_data, y_data)"
   ]
  },
  {
   "cell_type": "code",
   "execution_count": null,
   "id": "4f1cb62f-9ab0-4faf-8e5b-23d39309df91",
   "metadata": {},
   "outputs": [],
   "source": [
    "(기울기)\n",
    "(절편)"
   ]
  },
  {
   "cell_type": "markdown",
   "id": "8dacb1be-70b8-41c9-98c8-dfd39ae8b7f7",
   "metadata": {},
   "source": [
    "## y_predict, plt."
   ]
  },
  {
   "cell_type": "markdown",
   "id": "3f79fbf7-0a91-46d4-80b2-f32776efbf17",
   "metadata": {},
   "source": [
    "---\n",
    "---"
   ]
  },
  {
   "cell_type": "code",
   "execution_count": null,
   "id": "e8e64565-9ae7-4ee2-a643-2b31ff8f16d8",
   "metadata": {},
   "outputs": [],
   "source": [
    "from sklearn.metrics import r2_score"
   ]
  },
  {
   "cell_type": "code",
   "execution_count": null,
   "id": "307bec1c-cf01-4047-b296-51f66dc84395",
   "metadata": {},
   "outputs": [],
   "source": [
    "(데이터 가져오기)\n",
    "df\n",
    "(특성데이터)\n",
    "x_data, y_data\n",
    "\n",
    "(상관계수)\n",
    "df.corr()\n",
    "\n",
    "**(모델 핏)**\n",
    "model_lr\n",
    "model.fit\n",
    "\n",
    "(기울기)\n",
    "(절편)\n"
   ]
  },
  {
   "cell_type": "markdown",
   "id": "0485b9f3-bd50-4ac7-be97-30bdc2d86fbf",
   "metadata": {},
   "source": [
    "# <span style=\"color:yellow\">06. 결정계수 R2</span>"
   ]
  },
  {
   "cell_type": "code",
   "execution_count": null,
   "id": "60cba2ba-c463-4b22-a8b1-6068b80ed7ed",
   "metadata": {},
   "outputs": [],
   "source": [
    "y_predict = model_lr.predict(x_data)\n",
    "r2_score(y_data,y_predict) # 결정계수 값"
   ]
  },
  {
   "cell_type": "markdown",
   "id": "f0613e89-dd6b-4984-a9c5-80787d7fc0eb",
   "metadata": {},
   "source": [
    "# <span style=\"color:yellow\">08. 다중선형회귀</span>"
   ]
  },
  {
   "cell_type": "code",
   "execution_count": null,
   "id": "0842d9e0-eaf9-425a-9866-17cab00f3060",
   "metadata": {},
   "outputs": [],
   "source": [
    "from sklearn.preprocessing import StandardScaler, MinMaxScaler\n",
    "from sklearn.model_selection import train_test_split"
   ]
  },
  {
   "cell_type": "code",
   "execution_count": null,
   "id": "f8a0b31e-494c-45b0-b05f-9ab6bd71695f",
   "metadata": {},
   "outputs": [],
   "source": [
    "(특성데이터)\n",
    "x_data, y_data\n",
    "(모델 핏)\n",
    "model_lr\n",
    "model_lr.fit\n",
    "(기울기)\n",
    "model_lr.coef_ # array([[ , , ]]) 3x1\n",
    "(절편)"
   ]
  },
  {
   "cell_type": "markdown",
   "id": "d74c7630-fdb6-4155-b36c-2f1b9f53d575",
   "metadata": {},
   "source": [
    "## 예측값 구하기"
   ]
  },
  {
   "cell_type": "code",
   "execution_count": null,
   "id": "bb51d8d9-4833-41c0-a2fa-c3218f2c840e",
   "metadata": {},
   "outputs": [],
   "source": [
    "model_lr.predict([[ , , ],[ , , ]]) # 2x3 3x1(weight) => 2x1"
   ]
  },
  {
   "cell_type": "markdown",
   "id": "13513533-3e9e-48e0-b21f-d9f9908f3d87",
   "metadata": {},
   "source": [
    "## 결정계수 정하기"
   ]
  },
  {
   "cell_type": "code",
   "execution_count": null,
   "id": "7e05c988-f6e4-460c-9935-8bfaf8796352",
   "metadata": {},
   "outputs": [],
   "source": [
    "model_lr.score(x_data, y_data)"
   ]
  },
  {
   "cell_type": "code",
   "execution_count": null,
   "id": "ea07b18e-0124-475f-96ba-cc45f58ab563",
   "metadata": {},
   "outputs": [],
   "source": [
    "p = model_lr.predict(x_data)"
   ]
  },
  {
   "cell_type": "markdown",
   "id": "0d615921-ac05-4f24-a150-fa5c8e314494",
   "metadata": {},
   "source": [
    "## 그래프 도식화하기"
   ]
  },
  {
   "cell_type": "code",
   "execution_count": null,
   "id": "398aaf2a-96a1-42f0-88ac-24241a0f43ff",
   "metadata": {},
   "outputs": [],
   "source": [
    "plt.plot"
   ]
  },
  {
   "cell_type": "markdown",
   "id": "35fe63e2-3d29-42c2-92f3-9ef9e5ea1fd0",
   "metadata": {},
   "source": [
    "---"
   ]
  },
  {
   "cell_type": "code",
   "execution_count": null,
   "id": "554603ab-d895-4f45-b760-bc80aab2a32c",
   "metadata": {},
   "outputs": [],
   "source": [
    "(데이터가져오기) \n",
    "df = load_df()\n",
    "df.keys()\n",
    "(특성데이터)\n",
    "df['data']\n",
    "df['data'].shape\n",
    "(라벨)\n",
    "df['target']\n",
    "df['target'].shape\n",
    "(칼럼명확인)\n",
    "df['feature_names'] # 특성 데이터 칼럼명"
   ]
  },
  {
   "cell_type": "markdown",
   "id": "8cd7fa35-638f-49d5-98a1-2ceadc239a63",
   "metadata": {},
   "source": [
    "---\n",
    "예제. 주어진 값으로 주택가격 예측하기\n",
    "* 1,\t0.02731,\t0.0,\t7.07,\t0.0,\t0.469,\t6.421,\t78.9,\t4.9671,\t2.0,\t242.0,\t17.8,    396.90,\t9.14,\t21.6"
   ]
  },
  {
   "cell_type": "code",
   "execution_count": null,
   "id": "d963ef4a-7283-414d-a7eb-057d332ffc59",
   "metadata": {},
   "outputs": [],
   "source": [
    "(data load)\n",
    "(df로 만들기)\n",
    "(특성데이터)\n",
    "(기울기,절편)\n",
    "(값예측)\n",
    "df_lr.predict([[ , , , , , ]])"
   ]
  },
  {
   "cell_type": "markdown",
   "id": "01e8c374-93db-4cbf-8f95-b764916b7432",
   "metadata": {},
   "source": [
    "---"
   ]
  },
  {
   "cell_type": "markdown",
   "id": "39a6b865-81d2-4187-8a45-294489112097",
   "metadata": {},
   "source": [
    "## 스케일링 scaling"
   ]
  },
  {
   "cell_type": "code",
   "execution_count": null,
   "id": "c39dc549-3bcf-403c-a6ac-1d0658919237",
   "metadata": {},
   "outputs": [],
   "source": [
    "x_data.values # ndarray 데이터 가져오기"
   ]
  },
  {
   "cell_type": "code",
   "execution_count": null,
   "id": "fb4342b9-620c-46f8-b916-9aab03f9399d",
   "metadata": {},
   "outputs": [],
   "source": [
    "scaleX = StandardScaler()\n",
    "x_dataS = scaleX.fit_transform(x_data.values) # -1<x_dataS<1\n",
    "x_dataS\n",
    "\n",
    "y_data.values # ndarray 데이터 가져오기"
   ]
  },
  {
   "cell_type": "markdown",
   "id": "9c8d29e3-64c3-4f76-a2d5-7502fe093f0b",
   "metadata": {},
   "source": [
    "## train, test set split"
   ]
  },
  {
   "cell_type": "code",
   "execution_count": null,
   "id": "f4585f51-617d-4928-a01e-90ca95566125",
   "metadata": {},
   "outputs": [],
   "source": [
    "result = train_test_split(x_dataS, y_data.values,\n",
    "                         test_size=0.2,\n",
    "                         random_state=1) # ndarray\n",
    "\n",
    "x_train, x_test, y_train, y_test = train_test_split(x_dataS,\n",
    "                                                   y_data.values,\n",
    "                                                   test_size=0.2,\n",
    "                                                   random_state=1)\n",
    "\n",
    "x_train.shape, y_train.shape # (80%)\n",
    "x_test.shape , y_test.shape # (20%)"
   ]
  },
  {
   "cell_type": "markdown",
   "id": "b9fcb109-4bf3-4f8e-8316-311e9072d344",
   "metadata": {},
   "source": [
    "## SGDRegressor에 train 데이터 집어넣기"
   ]
  },
  {
   "cell_type": "code",
   "execution_count": null,
   "id": "6076ec51-971b-4644-8f9a-3b81bc1faf9c",
   "metadata": {},
   "outputs": [],
   "source": [
    "modelSGD = SGDRegressor(verbose=1)\n",
    "modelSGD.fit(x_train, y_train)"
   ]
  },
  {
   "cell_type": "markdown",
   "id": "fe6837ff-6393-4367-bd57-b63c7bb709a8",
   "metadata": {},
   "source": [
    "## train, test set score확인 (결정계수)"
   ]
  },
  {
   "cell_type": "code",
   "execution_count": null,
   "id": "a77eb694-a935-46df-b972-d045c0562c8a",
   "metadata": {},
   "outputs": [],
   "source": [
    "modelSGD.score(x_train, y_train)\n",
    "modelSGD.score(x_test, y_test)"
   ]
  },
  {
   "cell_type": "markdown",
   "id": "53819061-a9ae-4420-add1-2e81563c8f17",
   "metadata": {},
   "source": [
    "## 원데이터로 예측하기"
   ]
  },
  {
   "cell_type": "code",
   "execution_count": null,
   "id": "66faf06a-6e73-4045-83c1-a80469994e0b",
   "metadata": {},
   "outputs": [],
   "source": [
    "modelSGD.predict(x_test[[ ]])\n",
    "\n",
    "(원데이터로 예측하기) \n",
    "# sacling 필요\n",
    "xd = scaleX.transform([[ , , , , , ,]])\n",
    "modelSGD.predict([[xd]])"
   ]
  },
  {
   "cell_type": "markdown",
   "id": "02c863d4-dc20-4221-9545-6b7bbfaf2080",
   "metadata": {},
   "source": [
    "---\n",
    "##  <span style=\"color:skyblue\">**다중선형회귀 팀과제(iris data)**</span>\n",
    "* 1. scale\n",
    "* 2. train_test_split\n",
    "* 3. model, model_fit\n",
    "* 3. train, tset score\n",
    "* 4. predict"
   ]
  },
  {
   "cell_type": "code",
   "execution_count": null,
   "id": "fa1d7b05-522c-48b4-995e-7ddccb92c5ad",
   "metadata": {},
   "outputs": [],
   "source": [
    "1. (특성데이터)\n",
    "x_data, y_data\n",
    "\n",
    "2. (scale, scale fit)\n",
    "scaleX = StandardScaler()\n",
    "scaleX.fit(x_data)\n",
    "x_dataS = scaleX.transform(x_data)\n",
    "\n",
    "3. (train_test_split(unpacking))\n",
    "x_train, x_test, y_train, y_test = train_test_split(x_dataS, y_data,test_size=0.2, random_state=1)\n",
    "\n",
    "4. (model, model fit)\n",
    "modelSGD = SGDRegressor()\n",
    "modelSGD.fit(x_train, y_train)\n",
    "\n",
    "5. (train, test score)\n",
    "modelSGD.score(x_trian, y_train)\n",
    "modelSGD.score(x_test, y_test)\n",
    "\n",
    "6. (predict)\n",
    "xd = scaleX.transfrom([[ , , , , , ,]])\n",
    "modelSGD.predict(xd)"
   ]
  },
  {
   "cell_type": "markdown",
   "id": "14ff73cb-ac9c-45ab-a6f5-378d3299ae6a",
   "metadata": {},
   "source": [
    "---\n",
    "---\n",
    "# <span style=\"color:yellow\">09. pipeline(다중공선성)</span>"
   ]
  },
  {
   "cell_type": "code",
   "execution_count": null,
   "id": "256b9eec-a1db-4600-b51c-f0f149c8cd5b",
   "metadata": {},
   "outputs": [],
   "source": [
    "from sklearn.pipeline import make_pipeline"
   ]
  },
  {
   "cell_type": "code",
   "execution_count": null,
   "id": "bec23909-a6e8-48e9-9f91-22065a62b726",
   "metadata": {},
   "outputs": [],
   "source": [
    "(df load)\n",
    "(특성데이터)\n",
    "(scale, scale.fit)\n",
    "(train_test_split)"
   ]
  },
  {
   "cell_type": "markdown",
   "id": "f1127985-55d6-4696-9b9c-90e6e5d99810",
   "metadata": {},
   "source": [
    "## 모델 파이프라인 만들기"
   ]
  },
  {
   "cell_type": "code",
   "execution_count": null,
   "id": "fb65e940-1e6b-4a0f-b55b-9fc8278b6e49",
   "metadata": {},
   "outputs": [],
   "source": [
    "model = make_pipeline(StandardScaler(), SGDRegressor())\n",
    "model.fit(x_train, y_train)"
   ]
  },
  {
   "cell_type": "code",
   "execution_count": null,
   "id": "6244a1ac-0e72-4c54-b40c-f021560d3464",
   "metadata": {},
   "outputs": [],
   "source": [
    "(train, test set score)결정계수\n",
    "modelSGD.score(x_train, y_train)\n",
    "modelSGD.score(x_test, y_test)\n",
    "\n",
    "(predict)\n",
    "model.predict([x_data.values[0]])\n"
   ]
  },
  {
   "cell_type": "markdown",
   "id": "68013f2a-8068-4f9c-82a4-1d760321a988",
   "metadata": {},
   "source": [
    "---\n",
    "##  <span style=\"color:skyblue\">pipeline 예제</span>\n",
    "sl(target), feature(sw,pl,pw)\n",
    "\n",
    "문제 : sw:3.0, pl:1.4, pw:0.2 인 경우 sl를 예측하시오\n",
    "1. scale (standardscaring)\n",
    "2. train, test\n",
    "3. train, test score\n",
    "4. 예측"
   ]
  },
  {
   "cell_type": "code",
   "execution_count": null,
   "id": "cb8b608f-b219-4227-951a-0b47fa5b69fd",
   "metadata": {},
   "outputs": [],
   "source": [
    "(iris load)\n",
    "(df 만들기)\n",
    "iris_df = pd.DataFrame(iris['data'], columns=iris['feature_names'])\n",
    "iris_df.head()\n",
    "\n",
    "(특성데이터)\n",
    "(train_test_split)\n",
    "(model pipeline, model.fit)\n",
    "(model.score)\n",
    "(model.predict)\n"
   ]
  },
  {
   "cell_type": "markdown",
   "id": "ee249fa6-aea5-449b-be1b-c92f797f941f",
   "metadata": {},
   "source": [
    "---\n",
    "##  <span style=\"color:red\">**교차검증 r2scores**</span>"
   ]
  },
  {
   "cell_type": "code",
   "execution_count": null,
   "id": "f9d72008-9752-41cb-ba37-e88fc6f8ba90",
   "metadata": {},
   "outputs": [],
   "source": [
    "from sklearn.model_selection import cross_val_score"
   ]
  },
  {
   "cell_type": "code",
   "execution_count": null,
   "id": "20a06be9-9fa9-4933-9c8e-a7a007efb298",
   "metadata": {},
   "outputs": [],
   "source": [
    "r2scores = cross_val_score(model, x_data, y_data, \n",
    "                          cv=5, scoring='r2',verbose=1)\n",
    "r2scores # 5개 값 나옴.\n",
    "r2scores.mean() # 평균값 "
   ]
  },
  {
   "cell_type": "markdown",
   "id": "85a7cfb8-e3f5-4413-8167-1080e1b77a8e",
   "metadata": {},
   "source": [
    "## 다중 공선성\n",
    "다중공선성 회귀 분석에서 사용된 모형의 일부 설명 변수가 다른 설명 변수와 상관 정도가 높아, 데이터 분석 시 부정적인 영향을 미치는 현상\n",
    "\n",
    "VIF (Variance inflation Factors 분산팽창요인)\n",
    "- 안전 : VIF < 5\n",
    "- 주의 : 5 < VIF < 10\n",
    "- 위험 : 10 < VIF\n",
    "---\n",
    "1. 데이터의 상관관계가 낮다.\n",
    "2. 다중공선성을 확인\n",
    "* check 후\n",
    "3. scale\n",
    "4. fit"
   ]
  },
  {
   "cell_type": "markdown",
   "id": "8ac146f9-19e9-4bd8-b9f6-85909e167691",
   "metadata": {},
   "source": [
    "## 상관관계 확인"
   ]
  },
  {
   "cell_type": "code",
   "execution_count": null,
   "id": "a7b5664b-d94b-40d1-9643-4693d815c522",
   "metadata": {},
   "outputs": [],
   "source": [
    "df.corr()"
   ]
  },
  {
   "cell_type": "code",
   "execution_count": null,
   "id": "839ecb2e-e841-46e0-a162-edd20a76a264",
   "metadata": {},
   "outputs": [],
   "source": [
    "import seaborn as sns"
   ]
  },
  {
   "cell_type": "markdown",
   "id": "0c4f6e72-0bf8-4322-80f3-908101e9405f",
   "metadata": {},
   "source": [
    "## seaborn heatmap 그리기"
   ]
  },
  {
   "cell_type": "code",
   "execution_count": null,
   "id": "e4df9ec2-aeb3-4f15-b9a4-420d91f7210a",
   "metadata": {},
   "outputs": [],
   "source": [
    "plt.figure(figsize=(18,6))\n",
    "sns.heatmap(df.corr(), annot=True, vmin=-1, vmax=1, cmap='seismic') # -1<df.corr()<1\n",
    "plt.show()"
   ]
  },
  {
   "cell_type": "markdown",
   "id": "aefa7d81-bb13-4e4b-9d86-8f2c72ec4148",
   "metadata": {},
   "source": [
    "##  <span style=\"color:red\">**다중공선성 확인**</span>"
   ]
  },
  {
   "cell_type": "code",
   "execution_count": null,
   "id": "73ad8783-1c74-4ae2-807a-a48a68f13f2a",
   "metadata": {},
   "outputs": [],
   "source": [
    "from statsmodels.stats.outliers_influence import variance_inflation_factor\n",
    "vif = pd.DataFrame()\n",
    "vif['VIF Factor']= [ variance_inflation_factor(boston_df.values, i )  for i in range( boston_df.shape[1] ) ]\n",
    "vif['features'] = boston_df.columns\n",
    "vif"
   ]
  },
  {
   "cell_type": "markdown",
   "id": "cfa8490c-b964-422e-934a-a4a16bc8f1e4",
   "metadata": {},
   "source": [
    "---\n",
    "##  <span style=\"color:skyblue\">pipeline 예제2</span>\n",
    "\n",
    "1. 캘리포니아 주택가격을 이용하여 crossvalidation 값을 구하시요.\n",
    "\n",
    "2. 다중공선성을 확인한 후에 다중공선성이 높은 컬럼을 제외하고 학습하여 crossvalidation값을 확인하시요"
   ]
  },
  {
   "cell_type": "code",
   "execution_count": null,
   "id": "35d13a46-071c-4c7d-93da-f4352afe033f",
   "metadata": {},
   "outputs": [],
   "source": [
    "from sklearn.datasets import fetch_california_housing"
   ]
  },
  {
   "cell_type": "code",
   "execution_count": null,
   "id": "49164e56-b174-41c7-8e3a-06e903df5256",
   "metadata": {},
   "outputs": [],
   "source": [
    "(데이터 fetch)\n",
    "cal = fetch_california_housing()\n",
    "\n",
    "(데이터 프레임으로 만들기)\n",
    "cal_df = pd.DataFrame()\n",
    "\n",
    "(상관관계확인)\n",
    "cal_df.corr()\n",
    "\n",
    "(heatmap 그리기)\n",
    "plt.figure(figsize=(10,8))\n",
    "sb.heatmap(cal_df.corr(), annot=True, vmin = -1, vmax = 1, cmap='seismic') # -1<=상관계수값<=1\n",
    "plt.show()\n",
    "\n",
    "(다중공선성확인)\n",
    "from statsmodels.stats.outliers_influence import variance_inflation_factor\n",
    "vif = pd.DataFrame()\n",
    "vif['VIF Factor']= [ variance_inflation_factor(cal_df.values, i )  for i in range( cal_df.shape[1] ) ]\n",
    "vif['features'] = cal_df.columns\n",
    "vif\n",
    "\n",
    "(교차검증)\n",
    "r2scores = cross_val_score(model, x_data, y_data, cv=5, scoring='r2', verbose=1)\n",
    "print(r2scores)\n",
    "print(r2scores.mean())"
   ]
  },
  {
   "cell_type": "markdown",
   "id": "c11ac69f-c2e8-4fda-914f-6c6073ae05bb",
   "metadata": {},
   "source": [
    "---\n",
    "---\n",
    "# <span style=\"color:yellow\">**10. 선형회귀 기타**</span>"
   ]
  },
  {
   "cell_type": "code",
   "execution_count": null,
   "id": "ddb0ecc7-2134-4ead-a6c0-1b586bed0596",
   "metadata": {},
   "outputs": [],
   "source": [
    "# 추가한 패키지\n",
    "from sklearn.linear_model import Ridge,Lasso,ElasticNet, LinearRegression\n",
    "from sklearn.preprocessing import PolynomialFeatures\n",
    "\n",
    "from sklearn.model_selection import GridSearchCV\n",
    "\n",
    "!pip install mglearn\n",
    "import mglearn\n",
    "\n",
    "import warnings\n",
    "warnings.simplefilter('ignore')"
   ]
  },
  {
   "cell_type": "markdown",
   "id": "4f5022da-fced-4d20-a1c9-605962f437bc",
   "metadata": {},
   "source": [
    "## 릿지회귀 L2규제"
   ]
  },
  {
   "cell_type": "code",
   "execution_count": null,
   "id": "053c3a62-3024-481e-84b5-e3a72120fcf4",
   "metadata": {},
   "outputs": [],
   "source": [
    "(load_data)\n",
    "(데이터 프레임으로)\n",
    "df = pd.DataFrame()\n",
    "\n",
    "(특성데이터)\n",
    "(train_test_split)\n",
    "\n",
    "(릿지 파이프라인, 릿지 핏)\n",
    "model_ridge = make_pipeline(StandardScaler(), Ridge())\n",
    "model_ridge.fit(x_train, y_train)\n",
    "\n",
    "(릿지 모델 train, test 정확도 스코어)\n",
    "modle_ridge.score(x_train, y_train)\n",
    "modle_ridge.score(x_test, y_test)"
   ]
  },
  {
   "cell_type": "markdown",
   "id": "7a586fbc-bdd3-4458-b2e8-c0afe0c15a62",
   "metadata": {},
   "source": [
    "## 라쏘회귀 L1규제"
   ]
  },
  {
   "cell_type": "code",
   "execution_count": null,
   "id": "876eac46-b955-47f2-85d4-238509c7bad0",
   "metadata": {},
   "outputs": [],
   "source": [
    "(라쏘 파이프라인, 라쏘 핏)\n",
    "model_lasso = make_pipeline(StandardScaler(), Lasso())\n",
    "model_lasso.fit(x_trian, y_train)\n",
    "\n",
    "(모델 스코어 확인)\n",
    "model_lasso.score(x_train, y_train)\n",
    "model_lasso.score(x_test, y_test)\n",
    "\n",
    "(규제)\n",
    "model_lasso5 = make_pipeline(StandardScaler(), Lasso(alpha=5.0))\n",
    "model_lasso5.fit(x_train, y_train)\n",
    "\n",
    "(모델 스코어 확인)\n"
   ]
  },
  {
   "cell_type": "markdown",
   "id": "2bdf97b0-f61d-4148-a4ec-d7c97f2f3a5e",
   "metadata": {},
   "source": [
    "### pipeline 하이퍼파라미터 조정"
   ]
  },
  {
   "cell_type": "code",
   "execution_count": null,
   "id": "205a634b-c278-4ccd-ae4a-1251fc0500ff",
   "metadata": {},
   "outputs": [],
   "source": [
    "model_Lasso = Pipeline([('scl',StandardScaler()), ('clf',Lasso())])\n",
    "# param_value = {'clf__alpha':[0.001,0.01,1,2,3,4], 'scl__with_mean':[True,False]}\n",
    "param_value = {'clf__alpha':[0.001,0.01,1,2,3,4]}"
   ]
  },
  {
   "cell_type": "markdown",
   "id": "e462d677-6b47-4cbf-8ba8-4524b7b9d65a",
   "metadata": {},
   "source": [
    "### <span style=\"color:red\">**교차검증 반복 성능비교**</span>\n",
    "- <span style=\"color:red\">**GridSearchCV, gridSearch.fit**</span>\n",
    "- 최고 점수(정확도)\n",
    "- 최적의 파라미터"
   ]
  },
  {
   "cell_type": "code",
   "execution_count": null,
   "id": "98d29d73-cd46-45c6-af6c-ba1fca7159e4",
   "metadata": {},
   "outputs": [],
   "source": [
    "gridSearch = GridSearchCV(model_Lasso, param_grid=param_value, cv =10,verbose=1, scoring='r2')\n",
    "gridSearch.fit(x_train,y_train)\n",
    "\n",
    "(최고 점수)\n",
    "gridSearch.best_score_\n",
    "\n",
    "(최적 파라미터)\n",
    "gridSearch.best_params_\n",
    "\n",
    "(테스트 진행목록)\n",
    "gridSearch.cv_results_\n",
    "\n",
    "(최적 모델로 예측)\n",
    "gridSearch.best_estimator_.predict(x_test)\n"
   ]
  },
  {
   "cell_type": "markdown",
   "id": "b4366acf-a69c-43cb-8678-1e9da23f93db",
   "metadata": {},
   "source": [
    "## Elastic_Net 신축망"
   ]
  },
  {
   "cell_type": "code",
   "execution_count": null,
   "id": "cffa4f98-b48a-4e77-bca6-e9898dd13aca",
   "metadata": {},
   "outputs": [],
   "source": [
    "(model pipeline, model.fit)\n",
    "model_elastic = make_pipeline(StandardScaler(), ElasticNet())\n",
    "model_elastic.fit(x_train, y_train)\n",
    "\n",
    "(model.score)train, test\n"
   ]
  },
  {
   "cell_type": "markdown",
   "id": "ee2f2074-2a63-4d97-bffe-37c7baed0c82",
   "metadata": {},
   "source": [
    "---\n",
    "\n",
    "## 연습문제\n",
    "- alpha=1.0, l1_ratio=0.5\n",
    "- gridSearch를 이용하여 최적의 alpha와 l1 ratio를 구하시오."
   ]
  },
  {
   "cell_type": "code",
   "execution_count": null,
   "id": "1d01a938-9ca2-4229-badd-67a6aecf6928",
   "metadata": {},
   "outputs": [],
   "source": [
    "# 순서 확인만.\n",
    "modelElastic = Pipeline([('scl', StandardScaler()), ('clf',ElasticNet()),])\n",
    "\n",
    "param_value = {'clf__alpha': [0.001, 0.01, 1, 2, 3, 4],\n",
    "              'clf__l1_ratio' : [0.1, 0.5, 1]}\n",
    "\n",
    "gridSearch = GridSearchCV(modelElastic, param_grid = param_value, cv = 10, verbose = 1, scoring = 'r2')\n",
    "gridSearch.fit(x_train, y_train)\n",
    "\n",
    "gridSearch.best_params_\n",
    "gridSearch.best_score_"
   ]
  },
  {
   "cell_type": "markdown",
   "id": "84d668e0-acdc-4ad2-ba24-a8a5ab66540a",
   "metadata": {},
   "source": [
    "## **핵심**\n",
    "- gridsearch로 최적 파라미터 찾고\n",
    "- 앙상블을 통해 최적 모델을 찾는 것."
   ]
  },
  {
   "cell_type": "markdown",
   "id": "d21e9d8b-1b10-4e72-b058-12d70f0b5697",
   "metadata": {},
   "source": [
    "## 다항회귀(Polynomial Regression)"
   ]
  },
  {
   "cell_type": "code",
   "execution_count": null,
   "id": "ca33a113-1408-48ba-a6c4-04d3d4bc07a4",
   "metadata": {},
   "outputs": [],
   "source": [
    "(모델 파이프라인, 모델 핏)\n",
    "model = make_pipeline(PolynomialFeatures(degree=2), StandardScaler(),LinearRegression() )\n",
    "model.fit(x_train, y_train)\n",
    "\n",
    "(모델 스코어)train, test set\n"
   ]
  },
  {
   "cell_type": "markdown",
   "id": "0235c391-b235-4440-8caf-ebd054ed570b",
   "metadata": {},
   "source": [
    "##  [정리]\n",
    "* 선형회귀 : linearegressor\n",
    "* 경사하강법 : w, b구하는것\n",
    "* 릿지 : l2, 라쏘 : l1\n",
    "* 엘라스틱넷 : ㅣ1,ㅣ2 다중공선성 높은 곳에 규제를 둬서 웨이트를 낮게?\n",
    "* 다항회귀 : 기존 회귀선을 곡선으로 실데이터에 맞게끔 곡선으로 만듦. \n",
    "* 차분을 줘서 다항회귀로 변형가능\n",
    "* 그리드서치를 통해 확인가능\n",
    "* 잘못하면 과적합이 날 수 있기에 실제 적합한 예측곡선을 가지고 테스트 쪽에도 그대로 적용되는지 확인\n"
   ]
  },
  {
   "cell_type": "markdown",
   "id": "7e1c7a56-20fd-4a40-a478-58db14a42a17",
   "metadata": {},
   "source": [
    "---\n",
    "---\n",
    "# <span style=\"color:yellow\">**12. Encoder**</span>"
   ]
  },
  {
   "cell_type": "code",
   "execution_count": null,
   "id": "61687c66-ba7c-43ab-b0aa-ed915f288b0b",
   "metadata": {},
   "outputs": [],
   "source": [
    "(특성데이터)\n",
    "(scale)\n",
    "(train_test_split)"
   ]
  },
  {
   "cell_type": "markdown",
   "id": "5592e9cf-2b1c-4d94-8eaa-87863caaf2f5",
   "metadata": {},
   "source": [
    "## 문자열 인코딩"
   ]
  },
  {
   "cell_type": "code",
   "execution_count": null,
   "id": "60be17c1-54aa-4c55-bc6a-7d56fea31ca6",
   "metadata": {},
   "outputs": [],
   "source": [
    "from sklearn.preprocessing import OneHotEncoder, LabelEncoder"
   ]
  },
  {
   "cell_type": "markdown",
   "id": "1e3922b5-1846-4909-9860-9b26c71f6e76",
   "metadata": {},
   "source": [
    "## Label Encoder"
   ]
  },
  {
   "cell_type": "code",
   "execution_count": null,
   "id": "8303eefa-e712-44cb-8cd9-9285d0f0b246",
   "metadata": {},
   "outputs": [],
   "source": [
    "lbl = LabelEncoder()\n",
    "x_train_lbl = lbl.fit_transform(x_train[인코딩필요한'feature_name'])\n",
    "\n",
    "(뭐로 이루어져있나)\n",
    "lbl.classes_\n",
    "lbl.classes_[2]\n",
    "lbl.transform(['소형'])"
   ]
  },
  {
   "cell_type": "markdown",
   "id": "890fff6c-8cec-4738-9d54-59b165b177e3",
   "metadata": {},
   "source": [
    "## OneHotEncoder(0,1 구성)"
   ]
  },
  {
   "cell_type": "code",
   "execution_count": null,
   "id": "0e43002d-a97c-495f-9677-edfca7e33d77",
   "metadata": {},
   "outputs": [],
   "source": [
    "ohe = OneHotEncoder()\n",
    "x_train_ohe = ohe.fit_transform(x_train[''].values.reshape(-1,1))\n",
    "x_train_ohe\n",
    "x_train_ohe.toarray()"
   ]
  },
  {
   "cell_type": "markdown",
   "id": "62a02cca-4806-407d-ad1d-44219c89f429",
   "metadata": {},
   "source": [
    "## 판다스 get_dummies(ohe)"
   ]
  },
  {
   "cell_type": "code",
   "execution_count": null,
   "id": "aaaa70ac-15ae-42b0-9786-bd51909e10ad",
   "metadata": {},
   "outputs": [],
   "source": [
    "pd.get_dummies(x_train[''])\n",
    "pd.get_dummies(x_train,columns=['',''], remainder = 'passthrough')"
   ]
  },
  {
   "cell_type": "markdown",
   "id": "f2c2ac03-22fe-4d41-a6a4-65342c6ca4d1",
   "metadata": {},
   "source": [
    "## replace"
   ]
  },
  {
   "cell_type": "code",
   "execution_count": null,
   "id": "bf299aa4-a499-4224-b621-02496787850c",
   "metadata": {},
   "outputs": [],
   "source": [
    "x_train[''].replace(['','','',''],[0,1,2,3], remainder = 'passthrough')\n",
    "# 이건 마지막 하이퍼파라미터 확실하진 않다."
   ]
  },
  {
   "cell_type": "markdown",
   "id": "60b14822-c335-4b26-8253-560b591aa3b3",
   "metadata": {},
   "source": [
    "## make_column_transfomer"
   ]
  },
  {
   "cell_type": "code",
   "execution_count": null,
   "id": "d9a0d9cc-b4c8-4e39-99d8-35a6a7435e45",
   "metadata": {},
   "outputs": [],
   "source": [
    "from sklearn.compose import make_column_transformer"
   ]
  },
  {
   "cell_type": "code",
   "execution_count": null,
   "id": "48e8ccd2-f1ff-4978-a35b-90e814a6fc00",
   "metadata": {},
   "outputs": [],
   "source": [
    "myt = make_column_transformer(  ( OneHotEncoder(), ['','',''] ) )\n",
    "result = myt.fit_transform( x_train)\n",
    "result"
   ]
  },
  {
   "cell_type": "code",
   "execution_count": null,
   "id": "bf4c7b0f-5fd7-430e-b447-ba95a9a6437d",
   "metadata": {},
   "outputs": [],
   "source": [
    "model = make_pipeline( myt, PolynomialFeatures(degree=2), StandardScaler(), ElasticNet() )\n",
    "\n",
    "param_value = {'elasticnet__alpha':[0.001,0.01,1,2,3] ,'elasticnet__l1_ratio':[0.1,0.3,0.5,0.7, 0.9]}\n",
    "\n",
    "gridS = GridSearchCV( model, param_grid=param_value, scoring='r2' )\n",
    "gridS.fit( x_train, y_train )\n",
    "\n",
    "gridS.best_params_\n",
    "gridS.best_score_\n",
    "gridS.best_estimator_.predict( x_test)\n",
    "gridS.best_estimator_\n",
    "\n",
    "xd = np.array( [[2015, '준중형', 12.3, 204, 27,'가솔린',0,1591,1300,'자동']])\n",
    "xdataF = pd.DataFrame( xd, columns=x_test.columns)\n",
    "xdataF\n",
    "\n",
    "gridS.best_estimator_.predict( xdataF )"
   ]
  },
  {
   "cell_type": "markdown",
   "id": "62c87d7d-007f-4156-8972-b865b9ab49e7",
   "metadata": {},
   "source": [
    "---\n",
    "---\n",
    "# <span style=\"color:yellow\">**13. Sigmoid**</span>"
   ]
  },
  {
   "cell_type": "markdown",
   "id": "063acea7-6d11-4f50-9d44-d3dd704f37ba",
   "metadata": {},
   "source": [
    "---\n",
    "---\n",
    "# <span style=\"color:yellow\">**14.15. Logistic**</span>"
   ]
  },
  {
   "cell_type": "markdown",
   "id": "6ec2f435-e2ae-4ad2-9c79-03565d9a9e66",
   "metadata": {},
   "source": [
    "---\n",
    "개념\n",
    "\n",
    "연속데이터 예측"
   ]
  },
  {
   "cell_type": "code",
   "execution_count": null,
   "id": "58e49629-fbf1-4853-94e1-168b1fcd1e88",
   "metadata": {},
   "outputs": [],
   "source": [
    "import math"
   ]
  },
  {
   "cell_type": "code",
   "execution_count": null,
   "id": "4b450f59-6123-49e2-b063-d168720cd503",
   "metadata": {},
   "outputs": [],
   "source": [
    "w = 0\n",
    "b = 0\n",
    "n = len(x)\n",
    "epochs = 5000\n",
    "learning_rate = 0.01"
   ]
  },
  {
   "cell_type": "code",
   "execution_count": null,
   "id": "f777ffc2-4952-4cd1-9ae1-9767bede2f08",
   "metadata": {},
   "outputs": [],
   "source": [
    "for i in range( epochs):\n",
    "    hy = w*x + b # w=2, b=3 \n",
    "    cost = np.sum( (hy-y)**2 )/n # 예측값 - 실제값 평균 = cost\n",
    "    gradientW = np.sum( (w*x+b-y)*2*x )/n\n",
    "    gradientB = np.sum( (w*x+b-y)*2 )/n\n",
    "    w= w- learning_reate*gradientW\n",
    "    b= b- learning_reate*gradientB\n",
    "    if i%100==0: # epoch 5000, 100번에 한 번 찍어본 것.\n",
    "        print(f'epochs:{i}, cost:{cost}, w:{w}, b:{b}')"
   ]
  },
  {
   "cell_type": "code",
   "execution_count": null,
   "id": "01d486b1-d635-4492-8b9f-c62df1c218dd",
   "metadata": {},
   "outputs": [],
   "source": [
    "def cost(x,y,w):\n",
    "    n = len(x)\n",
    "    z = w*x\n",
    "    hy = sigmoid(z)\n",
    "#     cost = np.sum((hy-y)**2)/n\n",
    "    loss_i = y * -np.log(hy) + (1 - y) * -np.log(1 - hy)\n",
    "    loss = np.sum( loss_i )/ n\n",
    "    return loss"
   ]
  },
  {
   "cell_type": "code",
   "execution_count": null,
   "id": "db698c4c-5d0c-4112-ad6e-ad6438b3ff24",
   "metadata": {},
   "outputs": [],
   "source": [
    "x_data = np.array([1.,2.,3.,4.,5.,6.])\n",
    "y_data = np.array([0,0,0,1,1,1])"
   ]
  },
  {
   "cell_type": "code",
   "execution_count": null,
   "id": "2cd2a29a-7428-49cd-90b0-e60c4cfa5eff",
   "metadata": {},
   "outputs": [],
   "source": [
    "for w in np.linspace(-3,5,50):\n",
    "    c = cost(x_data,y_data,w)\n",
    "    plt.plot(w,c,'ro')\n",
    "plt.show()"
   ]
  },
  {
   "cell_type": "markdown",
   "id": "6d71e64a-cc0f-44d5-abe1-3a7c223505c6",
   "metadata": {},
   "source": [
    "---\n",
    "## 문제"
   ]
  },
  {
   "cell_type": "code",
   "execution_count": null,
   "id": "591ec74b-0abe-4d7b-a8fb-37ace8689a62",
   "metadata": {},
   "outputs": [],
   "source": [
    "from sklearn.preprocessing import StandardScaler\n",
    "from sklearn.pipeline import make_pipeline"
   ]
  },
  {
   "cell_type": "code",
   "execution_count": null,
   "id": "793b0a40-0dbd-49d2-8322-39b2dc7cbe82",
   "metadata": {},
   "outputs": [],
   "source": [
    "(특성데이터)\n",
    "x_data = df.iloc[:,:-1]\n",
    "y_data = df.iloc[:,-1]\n",
    "\n",
    "(train_test_split())\n",
    "x_train, x_test, y_train, y_test = train_test_split(x_data, y_data,\n",
    "                                                   test_size=0.2, stratify=y_data)\n",
    "\n",
    "(make_pipeline, model.fit)\n",
    "model = make_pipeline(StandardScaler(), LogisticRegression())\n",
    "model.fit(x_train, y_train)\n",
    "\n",
    "(model.score)\n",
    "print(model.score(x_train, y_train))\n",
    "print(model.score(x_test, y_test))\n",
    "\n",
    "(model.predict)\n",
    "print(model.predict(x_test.iloc[[0],:]))\n",
    "\n",
    "(predict가 의미하는 바가 무엇인가?)\n",
    "    p = model.predict(x_test)\n",
    "    (p == y_test.values).mean() = y_test.iloc[0]\n",
    "    "
   ]
  },
  {
   "cell_type": "markdown",
   "id": "6af0cb00-9c8a-49b0-ad21-2b546a5d8c54",
   "metadata": {},
   "source": [
    "---\n",
    "---\n",
    "# <span style=\"color:yellow\">**16. CM, Precision_Recall_f1_ROC**</span>"
   ]
  },
  {
   "cell_type": "code",
   "execution_count": null,
   "id": "7a8f5d98-a45e-4d65-881a-2eaefc4d57ce",
   "metadata": {},
   "outputs": [],
   "source": [
    "from sklearn.datasets import make_classification, load_breast_cancer"
   ]
  },
  {
   "cell_type": "code",
   "execution_count": null,
   "id": "78d5fff9-cab3-46ec-ae70-1eb8c14e112a",
   "metadata": {},
   "outputs": [],
   "source": [
    "from sklearn.metrics import confusion_matrix, precision_score, recall_score, f1_score"
   ]
  },
  {
   "cell_type": "markdown",
   "id": "477902f8-714c-4dd5-a007-f9e394b04a82",
   "metadata": {},
   "source": [
    "## CM\n",
    "---\n",
    "설명"
   ]
  },
  {
   "cell_type": "code",
   "execution_count": null,
   "id": "b56c1383-8d91-47f5-a74c-50503aa9172b",
   "metadata": {},
   "outputs": [],
   "source": [
    "(특성데이터 설정)\n",
    "(원하는 형식의 df 설정)\n",
    "(y_pred 설정)\n",
    "\n",
    "(cm 설정)\n",
    "cm = confusion_matrix(y_data, y_pred)\n",
    "\n",
    "(heatmap 그리기)\n",
    "sns.heatmap(cm, annot=True, cmap='Reds', yticklables=['정상','당뇨환자'],\n",
    "            xticklabels=['정상판정','당뇨판정'])\n",
    "plt.show()\n",
    "\n",
    "(정밀도)\n",
    "precision_score(y_data, y_pred)\n",
    "\n",
    "(재현율)\n",
    "recall_score(y_data, y_pred)\n",
    "\n",
    "(오탐, 미탐의 조화평균)\n",
    "f1_score(y_data,y_pred)"
   ]
  },
  {
   "cell_type": "markdown",
   "id": "43302ff2-20fe-40bb-ab0a-55d9c5c1ce6f",
   "metadata": {},
   "source": [
    "---\n",
    "\n",
    "## 연습문제\n",
    "\n",
    "피마인디안 데이터를 이용하여 confusion matrix(heat mat), \n",
    "precision, recall, f1 score  를 구하시요. (train test)\n",
    "\n",
    "- 정보 1 : 과거 임신 횟수 (pregnant)\n",
    "- 정보 2 : 포도당 부하 검사 2시간 후 공복 혈당 농도 (plasma)\n",
    "- 정보 3 : 확장기 혈압 (pressure)\n",
    "- 정보 4 : 삼두근 피부 주름 두께 (thickness)\n",
    "- 정보 5 : 혈정 인슐린 (insulin)\n",
    "- 정보 6 : 체질량 지수 (BMI)\n",
    "- 정보 7 : 당뇨병 가족력 (pedigree)\n",
    "- 정보 8 : 나이 (age)\n",
    "\n",
    "클래스 : 당뇨( 1) , 당뇨가 아님 ( 0 )\n",
    "\n"
   ]
  },
  {
   "cell_type": "code",
   "execution_count": null,
   "id": "e34a23d5-825a-4a38-b963-41caf0573477",
   "metadata": {},
   "outputs": [],
   "source": [
    "from sklearn.preprocessing import StandardScaler\n",
    "from sklearn.pipeline import make_pipeline\n",
    "from sklearn.metrics import confusion_matrix, precision_score, recall_score, f1_score"
   ]
  },
  {
   "cell_type": "code",
   "execution_count": null,
   "id": "0156ad64-fc3e-4fab-93c4-0cccacdcf7cb",
   "metadata": {},
   "outputs": [],
   "source": [
    "# (csv 읽어오기)\n",
    "pd.read_csv\n",
    "\n",
    "# (특성데이터)\n",
    "(train_test_split)\n",
    "(모델 파이프라인, 모델 핏)\n",
    "model = make_pipeline()\n",
    "model.fit\n",
    "\n",
    "# (y예측치)\n",
    "y_train_pred = model_lr.predict(x_train)\n",
    "\n",
    "# (CM heatmap)\n",
    "cm_train = confusion_matrix(y_train, y_train_pred)\n",
    "plt.figure(figsize=(12,10))\n",
    "sns.heatmap(cm_train, annot = True,fmt='d', yticklabels = ['정상', '당뇨환자'], xticklabels = ['정상판정', '당뇨판정'])\n",
    "plt.show()\n",
    "\n",
    "# (정밀도, 재현율, f1_score)\n",
    "ps = precision_score(y_train, y_train_pred)\n",
    "rs = recall_score(y_train, y_train_pred)\n",
    "f1score = (2 * ps * rs) / (ps + rs)\n",
    "print('precision : ', precision_score(y_train, y_train_pred))\n",
    "print('recall : ', recall_score(y_train, y_train_pred))\n",
    "print('f1 score : ', f1score)"
   ]
  },
  {
   "cell_type": "code",
   "execution_count": null,
   "id": "48e4ea82-a4b8-4e1d-a6b5-1511312c08ed",
   "metadata": {},
   "outputs": [],
   "source": [
    "# (test 도 진행)\n",
    "model_lr = make_pipeline(StandardScaler(), LogisticRegression())\n",
    "model_lr.fit(x_train, y_train)\n",
    "y_test_pred = model_lr.predict(x_test)\n",
    "cm_train = confusion_matrix(y_test, y_test_pred)\n",
    "plt.figure()\n",
    "sns.heatmap(cm_train, annot = True, yticklabels = ['정상', '당뇨환자'], xticklabels = ['정상판정', '당뇨판정'])\n",
    "plt.show()\n",
    "\n",
    "ps = precision_score(y_test, y_test_pred)\n",
    "rs = recall_score(y_test, y_test_pred)\n",
    "f1score = (2 * ps * rs) / (ps + rs)\n",
    "print('precision : ', precision_score(y_test, y_test_pred))\n",
    "print('recall : ', recall_score(y_test, y_test_pred))\n",
    "print('f1 score : ', f1score)"
   ]
  },
  {
   "cell_type": "code",
   "execution_count": null,
   "id": "422f0275-6481-4185-b3a7-2466bfdb78d6",
   "metadata": {},
   "outputs": [],
   "source": [
    "gridS.best_params_\n",
    "gridS.best_score_ # 정확도\n",
    "y_predict = gridS.best_estimator_.predict(x_test) # y예측값(gridS의 가장 베스트 모델일 때)\n",
    "f1_score(y_test, y_predict) # 조화평균"
   ]
  },
  {
   "cell_type": "markdown",
   "id": "5b55ca07-2e01-464a-88c7-a1500ec83b22",
   "metadata": {},
   "source": [
    "---\n",
    "## ROC(Receiver Operating Characteristic) \n",
    "* curve는 다양한 threshold에 대한 이진분류기의 성능을 한번에 표시한 것"
   ]
  },
  {
   "cell_type": "code",
   "execution_count": null,
   "id": "f9fc574c-9aff-4ea0-b6ed-40d7ae9712e5",
   "metadata": {},
   "outputs": [],
   "source": [
    "# read csv.\n",
    "df = pd.read_csv('data5/pima-indians-diabetes.data.csv')\n",
    "# 특성데이터\n",
    "x_data = df.iloc[:, : -1]\n",
    "y_data = df.iloc[:, -1]\n",
    "# train_test_split\n",
    "x_train, x_test, y_train, y_test = train_test_split(x_data, y_data, test_size = 0.2, stratify = y_data, \n",
    "                                                    random_state = 1)\n",
    "# model pipeline, model.fit\n",
    "model_lr = make_pipeline(StandardScaler(), LogisticRegression())\n",
    "model_lr.fit(x_train, y_train)\n",
    "\n",
    "# predict_probability\n",
    "p = model_lr.predict_proba(x_test)\n",
    "\n",
    "# df = pd.DataFrame([y_test]) \n",
    "df = pd.DataFrame([y_test])\n",
    "df = df.T  # 데이터 프레임으로 돌려줌\n",
    "\n",
    "# 컬럼 하나 추가\n",
    "df['proba'] = p[:,1]\n",
    "\n",
    "# df정렬\n",
    "df.sort_values(by='proba')\n"
   ]
  },
  {
   "cell_type": "code",
   "execution_count": null,
   "id": "314f54aa-83d6-48b1-947a-b37ccb2b5697",
   "metadata": {},
   "outputs": [],
   "source": [
    "fpr, tpr, thresholds = roc_curve(y_test, df['proba'].values)\n",
    "plt.plot(fpr, tpr, 'r--')\n",
    "plt.plot([0,1],[0,1],'k--')\n",
    "plt.xlabel('FPR')\n",
    "plt.ylabel('TPR')\n",
    "plt.show()"
   ]
  },
  {
   "cell_type": "markdown",
   "id": "8ba67b64-5d9a-4341-ab69-612770356afc",
   "metadata": {},
   "source": [
    "https://angeloyeo.github.io/2020/08/05/ROC.html\n"
   ]
  },
  {
   "cell_type": "code",
   "execution_count": null,
   "id": "614edd53-a829-4565-9db3-46d8d4927307",
   "metadata": {},
   "outputs": [],
   "source": []
  },
  {
   "cell_type": "code",
   "execution_count": null,
   "id": "7004fe74-c7fd-4659-9ead-f96f09e57232",
   "metadata": {},
   "outputs": [],
   "source": []
  },
  {
   "cell_type": "code",
   "execution_count": null,
   "id": "623ef385-c456-4b11-acac-a3c6503fbe93",
   "metadata": {},
   "outputs": [],
   "source": []
  },
  {
   "cell_type": "code",
   "execution_count": null,
   "id": "4fc0f729-6ff1-46d8-af38-9ad3369b15d4",
   "metadata": {},
   "outputs": [],
   "source": []
  },
  {
   "cell_type": "code",
   "execution_count": null,
   "id": "6dd0f250-78a5-4ae8-8aea-67a398ab7702",
   "metadata": {},
   "outputs": [],
   "source": []
  },
  {
   "cell_type": "code",
   "execution_count": null,
   "id": "c219b5db-e0ea-479d-bf35-e83c837a4392",
   "metadata": {},
   "outputs": [],
   "source": []
  },
  {
   "cell_type": "markdown",
   "id": "1169442f-b9c4-44f4-b251-5bb831fe34f0",
   "metadata": {},
   "source": [
    "---\n",
    "---\n",
    "# <span style=\"color:yellow\">**27. 강아지고양이이미지분류**</span>\n",
    "\n",
    "-이미지 픽셀 값 읽어오기\n"
   ]
  },
  {
   "cell_type": "markdown",
   "id": "6d65267f-cb10-4f23-ab48-f3158c5bdf5b",
   "metadata": {},
   "source": [
    "\n",
    "- 디렉토리 이미지 가져오기\n",
    "- pixel값 rescale\n",
    "- traingen\n",
    "\n",
    ".class_indices로 구분 // traingen.next() // x_data 2차원으로 .reshape // MLPClassifier(), model.fit // model.score 확인 // load_img // testImg to_array // predict testImg // joblib으로 모델저장 // joblib.load 후 predict 예측"
   ]
  },
  {
   "cell_type": "code",
   "execution_count": null,
   "id": "b8f502d5-99cd-4c7f-b5c8-1720e39a3e03",
   "metadata": {},
   "outputs": [],
   "source": [
    "from tensorflow.keras.preprocessing.image import ImageDataGenerator, load_img, img_to_array # 픽셀값을 얻어오"
   ]
  },
  {
   "cell_type": "code",
   "execution_count": null,
   "id": "3baa0cf1-420d-49a3-b751-364ddcf13aef",
   "metadata": {},
   "outputs": [],
   "source": [
    "data_generator = ImageDataGenerator(rescale = 1./255) # 단위를 pixel값으로 스케일링 해준다는 의미.\n",
    "traingen = data_generator.flow_from_directory('myimg', target_size=(98,98),\n",
    "                                              class_mode='sparse', seed=1)"
   ]
  },
  {
   "cell_type": "markdown",
   "id": "1b1ec566-a19a-4118-88a7-b874b826461e",
   "metadata": {},
   "source": [
    " traingen.class 구분"
   ]
  },
  {
   "cell_type": "code",
   "execution_count": null,
   "id": "5c0aab88-ee54-4635-81a7-f02798d67881",
   "metadata": {},
   "outputs": [],
   "source": [
    "traingen.class_indices"
   ]
  },
  {
   "cell_type": "markdown",
   "id": "17687389-8f94-454f-8b5f-be8e07fc4be5",
   "metadata": {},
   "source": [
    "x_train.shape확인\n",
    "- traingen.next()"
   ]
  },
  {
   "cell_type": "code",
   "execution_count": null,
   "id": "8d155b4f-6ee7-4b38-97fe-679dd0505601",
   "metadata": {},
   "outputs": [],
   "source": [
    "x_train, y_train = traingen.next()"
   ]
  },
  {
   "cell_type": "markdown",
   "id": "cd4f2452-0435-400a-9b07-105ec3cb9aa1",
   "metadata": {},
   "source": [
    "---\n",
    "## x_data 2차원 데이터로 변환\n",
    "\n",
    "- x_data.reshape"
   ]
  },
  {
   "cell_type": "code",
   "execution_count": null,
   "id": "f343ebf0-5bde-43f7-ad97-58d392d7be93",
   "metadata": {},
   "outputs": [],
   "source": [
    "x_data = x_train.reshape(32,-1)"
   ]
  },
  {
   "cell_type": "markdown",
   "id": "adc6c7a9-c355-46c2-95ae-752c691408d9",
   "metadata": {},
   "source": [
    "## MLPClassifier() , model.fit"
   ]
  },
  {
   "cell_type": "code",
   "execution_count": null,
   "id": "e5b2f04b-2388-410b-87c0-e31741a927b8",
   "metadata": {},
   "outputs": [],
   "source": [
    "model = MLPClassifier( )\n",
    "model.fit(x_data, y_train) # 인자가 흥미롭네."
   ]
  },
  {
   "cell_type": "markdown",
   "id": "ebc0ba91-e08a-4329-8f2d-32b9a980a19a",
   "metadata": {},
   "source": [
    "model.score 확인"
   ]
  },
  {
   "cell_type": "code",
   "execution_count": null,
   "id": "f3e89dbc-150e-4ac7-b146-93c3b6183819",
   "metadata": {},
   "outputs": [],
   "source": [
    "model.score(x_data, y_train)"
   ]
  },
  {
   "cell_type": "markdown",
   "id": "b95b0661-2d43-419e-9276-7f32048d334f",
   "metadata": {},
   "source": [
    "## 이미지 읽어오기 load_img"
   ]
  },
  {
   "cell_type": "code",
   "execution_count": null,
   "id": "16c868d6-f45f-4a0f-a852-f23a18318bf1",
   "metadata": {},
   "outputs": [],
   "source": [
    "from tensorflow.keras.preprocessing.image import load_img"
   ]
  },
  {
   "cell_type": "code",
   "execution_count": null,
   "id": "36279bb9-ab72-4a1c-bf6e-ee3b6347d019",
   "metadata": {},
   "outputs": [],
   "source": [
    "imgData=load_img('./img/kim.jpg', target_size=(98,98))"
   ]
  },
  {
   "cell_type": "markdown",
   "id": "e63b9e6f-0ade-4541-8bf7-b7dc5542bc18",
   "metadata": {},
   "source": [
    "## testImg ndarray로 변환"
   ]
  },
  {
   "cell_type": "code",
   "execution_count": null,
   "id": "3474f5c0-6c8c-4338-8acb-49a646f5241a",
   "metadata": {},
   "outputs": [],
   "source": [
    "testImg = img_to_array(imgData)/255"
   ]
  },
  {
   "cell_type": "markdown",
   "id": "26a540cb-6730-473d-bcf4-2d0ba04f5b87",
   "metadata": {},
   "source": [
    "## 모델 예측 testImg ndarray"
   ]
  },
  {
   "cell_type": "code",
   "execution_count": null,
   "id": "5753ab24-da04-44a5-84be-1c5c3728f14a",
   "metadata": {},
   "outputs": [],
   "source": [
    "model.predict(testImg.reshape(1,-1) )"
   ]
  },
  {
   "cell_type": "markdown",
   "id": "ec62e30a-c7b5-4da5-8c3f-89759cc06029",
   "metadata": {},
   "source": [
    "---\n",
    "## 모델 저장 \n",
    "- (최종적으로 커스터마이징. 이걸로 반복하면 됨)"
   ]
  },
  {
   "cell_type": "code",
   "execution_count": null,
   "id": "8e70bb35-7239-4ee7-8033-8c6e90e1d1ec",
   "metadata": {},
   "outputs": [],
   "source": [
    "import joblib"
   ]
  },
  {
   "cell_type": "code",
   "execution_count": null,
   "id": "f205398b-c7f6-4053-93ac-86fba7932510",
   "metadata": {},
   "outputs": [],
   "source": [
    "joblib.dump(model, 'catdog.pkl')"
   ]
  },
  {
   "cell_type": "markdown",
   "id": "f7b45e78-68e5-4ad4-9648-b78b29b9aac2",
   "metadata": {},
   "source": [
    "## 모델 읽기 (joblib.load 후 predict예측)"
   ]
  },
  {
   "cell_type": "code",
   "execution_count": null,
   "id": "bb315828-aa05-4e0e-a856-7dccd56fee04",
   "metadata": {},
   "outputs": [],
   "source": [
    "mymodel = joblib.load('catdog.pkl')\n",
    "mymodel.predict( testImg.reshape(1,-1))"
   ]
  },
  {
   "cell_type": "markdown",
   "id": "1ace790d-75c4-4a3f-8a7d-65660716ba68",
   "metadata": {},
   "source": [
    "---\n",
    "---\n",
    "# <span style=\"color:yellow\">**28.kemans**</span>\n",
    "\n",
    "plot.kmeans_algorithm() // 데이터 읽어오기 // 비지도학습(kmeans, k.fit,\n",
    "cluster_centers_ scatter, df에 labels_ 추가하기 // pairplot, lmplot 그려보기 "
   ]
  },
  {
   "cell_type": "code",
   "execution_count": null,
   "id": "c78b0d20-7c9d-4e8b-8ecc-f979d06a7167",
   "metadata": {},
   "outputs": [],
   "source": [
    "from sklearn.cluster import KMeans"
   ]
  },
  {
   "cell_type": "markdown",
   "id": "b28f19b6-11a2-4e91-bd05-c8fc62d0b3b4",
   "metadata": {},
   "source": [
    "## plot.kmeans_algorithm()"
   ]
  },
  {
   "cell_type": "markdown",
   "id": "67156733-e02a-4183-bb42-d0b3087f7b35",
   "metadata": {},
   "source": [
    "- 특성데이터만 있는 군집분류 뽑기"
   ]
  },
  {
   "cell_type": "code",
   "execution_count": null,
   "id": "1ec99a95-5ac0-42d3-ae60-505891e87ba4",
   "metadata": {},
   "outputs": [],
   "source": [
    "mglearn.plots.plot_kmeans_algorithm()"
   ]
  },
  {
   "cell_type": "markdown",
   "id": "1e2d55ea-24f9-434e-832f-9327a8745ceb",
   "metadata": {},
   "source": [
    "(kmean데이터 읽어오기)\n",
    "df = pd.read_csv('data5/kmean.csv',index_col='Unnamed: 0')\n",
    "\n",
    "(scatter 찍어보기)\n",
    "\n",
    "plt.scatter(df['x'], df['y'])"
   ]
  },
  {
   "cell_type": "markdown",
   "id": "cac2c71f-e5ea-41c6-aeb7-2195d6031d77",
   "metadata": {},
   "source": [
    "---\n",
    "## 비지도학습(군집분류)\n",
    "- KMeans\n",
    "- k.fit"
   ]
  },
  {
   "cell_type": "code",
   "execution_count": null,
   "id": "e2d1b8e1-c943-4fcd-9b5f-ff2dcfa437ab",
   "metadata": {},
   "outputs": [],
   "source": [
    "k = KMeans( n_clusters=4 ) # 4개 군집으로 분류하겠다.\n",
    "km = k.fit( df )"
   ]
  },
  {
   "cell_type": "markdown",
   "id": "6e5527e1-1a34-4f04-9919-5cbed26ce5a1",
   "metadata": {},
   "source": [
    ".cluster_center_"
   ]
  },
  {
   "cell_type": "code",
   "execution_count": null,
   "id": "ded1d126-0d46-45de-a8b7-08ffacce52c7",
   "metadata": {},
   "outputs": [],
   "source": [
    "cen = km.cluster_centers_"
   ]
  },
  {
   "cell_type": "markdown",
   "id": "cbb331e5-d720-4d36-a569-9be7ab448eed",
   "metadata": {},
   "source": [
    "scatter로 표시해보기"
   ]
  },
  {
   "cell_type": "code",
   "execution_count": null,
   "id": "f15cc9ce-9234-40db-b5c4-8afb027e1008",
   "metadata": {},
   "outputs": [],
   "source": [
    "plt.scatter(df['x'], df['y'])\n",
    "plt.scatter( cen[:,0],cen[:,1],marker='s', c=['r','g','b','y'])"
   ]
  },
  {
   "cell_type": "markdown",
   "id": "a2b90c1d-68b7-4851-b3f1-bfe16bc07f66",
   "metadata": {},
   "source": [
    "df에 'labels' 추가하기"
   ]
  },
  {
   "cell_type": "markdown",
   "id": "62221bf7-7a30-45b3-b231-b8ce3cc34627",
   "metadata": {},
   "source": [
    "---\n",
    "## pairplot, lmplot 그려보기\n",
    "- 분류쪽은 꼭 pairplot을 그려봐야함."
   ]
  },
  {
   "cell_type": "code",
   "execution_count": null,
   "id": "cef4bb23-a524-40c0-8fe2-9f5843428354",
   "metadata": {},
   "outputs": [],
   "source": [
    "df['labels'] = km.labels_"
   ]
  },
  {
   "cell_type": "code",
   "execution_count": null,
   "id": "7b2a6255-bf1c-4e11-b21f-c211765b720b",
   "metadata": {},
   "outputs": [],
   "source": [
    "sns.pairplot(df, hue='labels')\n",
    "\n",
    "sns.lmplot(x='x',y='y', data=df, hue='labels', fit_reg=False, scatter_kws={'s':150}) "
   ]
  },
  {
   "cell_type": "markdown",
   "id": "410fc2d8-483f-4e4c-90f8-0378354ecdea",
   "metadata": {},
   "source": [
    "##  최적의 군집분류 개수 찾기 .kminertia_\n",
    "- km.inertia_  각 센터를 중심으로 떨어진 거리의 총합의 평균"
   ]
  },
  {
   "cell_type": "code",
   "execution_count": null,
   "id": "8ceb772f-8275-4eb5-896a-c2ec8ec8b7cf",
   "metadata": {},
   "outputs": [],
   "source": [
    "data = []\n",
    "for n in range(1,15):\n",
    "    model = KMeans(n_clusters= n)\n",
    "    km = model.fit(df)\n",
    "    data.append(km.inertia_ )"
   ]
  },
  {
   "cell_type": "code",
   "execution_count": null,
   "id": "633392a5-a949-453a-a7d6-f7f88ea1cfbe",
   "metadata": {},
   "outputs": [],
   "source": [
    "(그래프로 그려보기)\n",
    "plt.plot( range(1,15), data, 'ro--')"
   ]
  },
  {
   "cell_type": "markdown",
   "id": "bc006ed5-254d-4efb-9233-409697b248e1",
   "metadata": {},
   "source": [
    "---\n",
    "## 연습문제\n",
    "\n",
    "iris 데이터 특성데이터(sl,sw,pl,pw)를 이용하여 군집분류를 수행하고 pairplot을 그리고 실제값과 정확도를 확인하시오. inertia까지. 군집분류 3개."
   ]
  },
  {
   "cell_type": "code",
   "execution_count": null,
   "id": "161724d7-f7dc-47e2-805f-bc12ec5d87ab",
   "metadata": {},
   "outputs": [],
   "source": [
    "(load_iris)\n",
    "(df로 변환)\n",
    "(target 설정)\n",
    "target = pd.DataFrame(iris['target'])"
   ]
  },
  {
   "cell_type": "markdown",
   "id": "6d582a76-b51f-47b9-9278-ced8af7cfc1d",
   "metadata": {},
   "source": [
    "### 군집분류 수행"
   ]
  },
  {
   "cell_type": "code",
   "execution_count": null,
   "id": "62922267-c148-43b6-b10c-1eb2ff380fac",
   "metadata": {},
   "outputs": [],
   "source": [
    "k = KMeans( n_clusters=3 )\n",
    "km = k.fit(data)\n",
    "\n",
    "km.labels_\n",
    "\n",
    "iris['target']\n",
    "\n",
    "\n",
    "\n",
    "# kmeans랑 실제 군집분류랑 비교\n",
    "(km.labels_ == iris['target']).mean() "
   ]
  },
  {
   "cell_type": "markdown",
   "id": "bc1a3d17-6cc1-49ab-9b04-00efc4f2ab6b",
   "metadata": {},
   "source": [
    "### pairplot 수행 "
   ]
  },
  {
   "cell_type": "code",
   "execution_count": null,
   "id": "877c8eb6-9615-4c20-8f04-13300f57b85f",
   "metadata": {},
   "outputs": [],
   "source": [
    "data['labels'] = km.labels_"
   ]
  },
  {
   "cell_type": "code",
   "execution_count": null,
   "id": "3f3a8c5e-e473-4a23-8b41-5bd5e5855d83",
   "metadata": {},
   "outputs": [],
   "source": [
    "sns.pairplot(data, hue='labels')\n",
    "plt.show()"
   ]
  },
  {
   "cell_type": "markdown",
   "id": "b670952f-fb6c-421b-b269-0d5819027b63",
   "metadata": {},
   "source": [
    "### inertia"
   ]
  },
  {
   "cell_type": "code",
   "execution_count": null,
   "id": "a83ccf87-5edb-40d9-a25f-ce54b71899ec",
   "metadata": {},
   "outputs": [],
   "source": [
    "mydata = []\n",
    "for n in range(1,15):\n",
    "    model = KMeans(n_clusters= n)\n",
    "    km = model.fit(data)\n",
    "    mydata.append(km.inertia_ )\n",
    "    \n",
    "# (그래프로 그려보기)\n",
    "plt.plot( range(1,15), mydata, 'ro--')"
   ]
  },
  {
   "cell_type": "code",
   "execution_count": null,
   "id": "79d17d5b-e8f1-4229-b413-be14162e47cb",
   "metadata": {},
   "outputs": [],
   "source": []
  },
  {
   "cell_type": "markdown",
   "id": "876f3d02-20f1-4f6c-9b47-1bac08a8832b",
   "metadata": {},
   "source": [
    "---"
   ]
  },
  {
   "cell_type": "markdown",
   "id": "ecb06a45-8ae5-4c09-8242-14f76fa0324b",
   "metadata": {},
   "source": [
    "---\n",
    "---\n",
    "# <span style=\"color:yellow\">**29.차원축소**</span>\n",
    "\n",
    "PCA() // model.fit_transform(df) // shape //scatter "
   ]
  },
  {
   "cell_type": "markdown",
   "id": "f57ae680-4b75-4cf0-a3b4-e3b6dd4377ab",
   "metadata": {},
   "source": [
    "## PCA(n_components=2)"
   ]
  },
  {
   "cell_type": "code",
   "execution_count": null,
   "id": "36a4b531-a7b7-4535-bea6-82006c46ddc8",
   "metadata": {},
   "outputs": [],
   "source": [
    "model = PCA(n_components=2) # 2차원으로 차원을 축소\n",
    "pcaf = model.fit_transform(iris_df) "
   ]
  },
  {
   "cell_type": "markdown",
   "id": "78217f78-4b2c-4db2-9277-c74992ccfaef",
   "metadata": {},
   "source": [
    "shape확인"
   ]
  },
  {
   "cell_type": "code",
   "execution_count": null,
   "id": "5560db30-3a94-430d-a965-93d897065ff2",
   "metadata": {},
   "outputs": [],
   "source": [
    "pcaf.shape"
   ]
  },
  {
   "cell_type": "markdown",
   "id": "65d3cc11-dac0-4799-9125-031b06c9dbbd",
   "metadata": {},
   "source": [
    "scatter"
   ]
  },
  {
   "cell_type": "code",
   "execution_count": null,
   "id": "799ea283-cd32-43e3-bdc2-61ce365fdfa1",
   "metadata": {},
   "outputs": [],
   "source": [
    "plt.scatter(pcaf[:,0], pcaf[:,1], c=color)"
   ]
  },
  {
   "cell_type": "markdown",
   "id": "16f8d96e-8c63-4c68-afd2-5ed57d6ad2ff",
   "metadata": {},
   "source": [
    "---\n",
    "## 연습문제"
   ]
  },
  {
   "cell_type": "code",
   "execution_count": null,
   "id": "1514e844-8b0d-4840-a90d-cfb95544f01d",
   "metadata": {},
   "outputs": [],
   "source": [
    "(데이터로드)\n",
    "wine = load_wine()\n",
    "wine_df = pd.DataFrame(wine['data'],columns=wine['feature_names'])\n",
    "\n",
    "\n",
    "(컬러 조건[리스트])\n",
    "\n",
    "color=[]\n",
    "for n in wine.target:\n",
    "    if n==0:\n",
    "        color.append('r') # target = 0\n",
    "    elif n==1:\n",
    "        color.append('g') # target = 1\n",
    "    else:\n",
    "        color.append('b') "
   ]
  },
  {
   "cell_type": "markdown",
   "id": "2cd1f878-75a1-49b1-ae82-21d49ed5b9b8",
   "metadata": {},
   "source": [
    "### 차원축소"
   ]
  },
  {
   "cell_type": "code",
   "execution_count": null,
   "id": "125c25a3-c695-400e-b06a-be3c443fa7b7",
   "metadata": {},
   "outputs": [],
   "source": [
    "model = PCA(n_components=2)\n",
    "pcaf = model.fit_transform(wine_df)"
   ]
  },
  {
   "cell_type": "code",
   "execution_count": null,
   "id": "858727d3-8675-40b0-964e-7c620c0afbb4",
   "metadata": {},
   "outputs": [],
   "source": [
    "(shape확인)\n",
    "pcaf.shape\n",
    "(scatter)\n",
    "plt.scatter(pcaf[:,0], pcaf[:,1], c=color)"
   ]
  },
  {
   "cell_type": "markdown",
   "id": "de67b58f-9aab-4985-bd5f-95d03fe2d9e2",
   "metadata": {},
   "source": [
    "### 역분류 model.inverse_transform([[ , ]])"
   ]
  },
  {
   "cell_type": "code",
   "execution_count": null,
   "id": "f0c552fd-b8fe-4bf5-9a9b-ad6f33510ff2",
   "metadata": {},
   "outputs": [],
   "source": [
    "model.inverse_transform([[400,16]])"
   ]
  },
  {
   "cell_type": "markdown",
   "id": "29d461e1-c128-4423-b0f5-d5ce84bc0900",
   "metadata": {},
   "source": [
    "---\n",
    "---\n",
    "# <span style=\"color:yellow\">**30.시계열예측**</span>"
   ]
  },
  {
   "cell_type": "code",
   "execution_count": null,
   "id": "1b3057a0-50f9-47d3-a30a-ae14a300c706",
   "metadata": {},
   "outputs": [],
   "source": []
  }
 ],
 "metadata": {
  "kernelspec": {
   "display_name": "Python 3",
   "language": "python",
   "name": "python3"
  },
  "language_info": {
   "codemirror_mode": {
    "name": "ipython",
    "version": 3
   },
   "file_extension": ".py",
   "mimetype": "text/x-python",
   "name": "python",
   "nbconvert_exporter": "python",
   "pygments_lexer": "ipython3",
   "version": "3.8.8"
  }
 },
 "nbformat": 4,
 "nbformat_minor": 5
}
