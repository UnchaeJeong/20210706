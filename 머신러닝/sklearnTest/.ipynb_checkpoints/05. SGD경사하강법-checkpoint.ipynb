{
 "cells": [
  {
   "cell_type": "markdown",
   "id": "03ca7605-56dd-4a2e-a43c-cc140ef087b7",
   "metadata": {},
   "source": [
    "# SGDRegressor  # 딥러닝 학습\n",
    "# MLPRegressor # 딥러닝 학습"
   ]
  },
  {
   "cell_type": "code",
   "execution_count": 5,
   "id": "6417232a-0b89-497b-94ce-eddf0c244f08",
   "metadata": {},
   "outputs": [],
   "source": [
    "import pandas as pd\n",
    "import numpy as np\n",
    "from sklearn.linear_model import LinearRegression, SGDRegressor # 통계 공식, # 딥러닝 학습\n",
    "from sklearn.neural_network import MLPRegressor #학습. 인공지능에서 중요한 부분(딥러닝)\n",
    "import matplotlib.pyplot as plt\n",
    "import matplotlib\n",
    "matplotlib.rcParams['font.family']='Malgun Gothic'\n",
    "matplotlib.rcParams['axes.unicode_minus'] = False"
   ]
  },
  {
   "cell_type": "code",
   "execution_count": 6,
   "id": "ce337291-3026-4ed0-9c24-9a38d9bf42fd",
   "metadata": {},
   "outputs": [
    {
     "data": {
      "text/html": [
       "<div>\n",
       "<style scoped>\n",
       "    .dataframe tbody tr th:only-of-type {\n",
       "        vertical-align: middle;\n",
       "    }\n",
       "\n",
       "    .dataframe tbody tr th {\n",
       "        vertical-align: top;\n",
       "    }\n",
       "\n",
       "    .dataframe thead th {\n",
       "        text-align: right;\n",
       "    }\n",
       "</style>\n",
       "<table border=\"1\" class=\"dataframe\">\n",
       "  <thead>\n",
       "    <tr style=\"text-align: right;\">\n",
       "      <th></th>\n",
       "      <th>speed</th>\n",
       "      <th>dist</th>\n",
       "    </tr>\n",
       "  </thead>\n",
       "  <tbody>\n",
       "    <tr>\n",
       "      <th>0</th>\n",
       "      <td>4</td>\n",
       "      <td>2</td>\n",
       "    </tr>\n",
       "    <tr>\n",
       "      <th>1</th>\n",
       "      <td>4</td>\n",
       "      <td>10</td>\n",
       "    </tr>\n",
       "    <tr>\n",
       "      <th>2</th>\n",
       "      <td>7</td>\n",
       "      <td>4</td>\n",
       "    </tr>\n",
       "  </tbody>\n",
       "</table>\n",
       "</div>"
      ],
      "text/plain": [
       "   speed  dist\n",
       "0      4     2\n",
       "1      4    10\n",
       "2      7     4"
      ]
     },
     "execution_count": 6,
     "metadata": {},
     "output_type": "execute_result"
    }
   ],
   "source": [
    "carDF = pd.read_csv('data/cars.csv')\n",
    "carDF.columns = ['speed','dist']\n",
    "carDF.head(3)"
   ]
  },
  {
   "cell_type": "code",
   "execution_count": 7,
   "id": "b3239e9a-d4f7-4e94-a8e9-afbe8a833eb0",
   "metadata": {},
   "outputs": [],
   "source": [
    "# 머신러닝, 딥러닝 과정 -> 삼성, LG 사내 자격증 pass"
   ]
  },
  {
   "cell_type": "code",
   "execution_count": 8,
   "id": "f5ee4ab3-8021-471d-b53e-46baea1cf0bb",
   "metadata": {},
   "outputs": [],
   "source": [
    "x_data = carDF[['speed']] \n",
    "y_data = carDF['dist']"
   ]
  },
  {
   "cell_type": "code",
   "execution_count": 10,
   "id": "1cf81170-c416-4070-a2d8-ec6dc383715e",
   "metadata": {},
   "outputs": [
    {
     "name": "stdout",
     "output_type": "stream",
     "text": [
      "-- Epoch 1\n",
      "Norm: 3.26, NNZs: 1, Bias: 1.627284, T: 45, Avg. loss: 9236.586872\n",
      "Total training time: 0.00 seconds.\n",
      "-- Epoch 2\n",
      "Norm: 3.40, NNZs: 1, Bias: 1.126907, T: 90, Avg. loss: 315.987253\n",
      "Total training time: 0.00 seconds.\n",
      "-- Epoch 3\n",
      "Norm: 2.61, NNZs: 1, Bias: 0.587961, T: 135, Avg. loss: 283.447818\n",
      "Total training time: 0.00 seconds.\n",
      "-- Epoch 4\n",
      "Norm: 4.12, NNZs: 1, Bias: 0.356045, T: 180, Avg. loss: 232.832628\n",
      "Total training time: 0.00 seconds.\n",
      "-- Epoch 5\n",
      "Norm: 3.46, NNZs: 1, Bias: 0.018246, T: 225, Avg. loss: 217.099410\n",
      "Total training time: 0.00 seconds.\n",
      "-- Epoch 6\n",
      "Norm: 3.37, NNZs: 1, Bias: -0.351775, T: 270, Avg. loss: 260.770990\n",
      "Total training time: 0.01 seconds.\n",
      "-- Epoch 7\n",
      "Norm: 2.23, NNZs: 1, Bias: -0.653046, T: 315, Avg. loss: 171.106147\n",
      "Total training time: 0.01 seconds.\n",
      "-- Epoch 8\n",
      "Norm: 2.28, NNZs: 1, Bias: -0.763103, T: 360, Avg. loss: 259.746644\n",
      "Total training time: 0.01 seconds.\n",
      "-- Epoch 9\n",
      "Norm: 3.41, NNZs: 1, Bias: -0.995582, T: 405, Avg. loss: 223.478161\n",
      "Total training time: 0.01 seconds.\n",
      "-- Epoch 10\n",
      "Norm: 3.58, NNZs: 1, Bias: -1.241625, T: 450, Avg. loss: 166.500769\n",
      "Total training time: 0.01 seconds.\n",
      "-- Epoch 11\n",
      "Norm: 2.53, NNZs: 1, Bias: -1.500152, T: 495, Avg. loss: 180.759557\n",
      "Total training time: 0.01 seconds.\n",
      "-- Epoch 12\n",
      "Norm: 3.32, NNZs: 1, Bias: -1.705987, T: 540, Avg. loss: 201.564167\n",
      "Total training time: 0.01 seconds.\n",
      "Convergence after 12 epochs took 0.01 seconds\n"
     ]
    },
    {
     "data": {
      "text/plain": [
       "SGDRegressor(alpha=0.001, early_stopping=True, max_iter=200, verbose=1)"
      ]
     },
     "execution_count": 10,
     "metadata": {},
     "output_type": "execute_result"
    }
   ],
   "source": [
    "# max_iter = 1000 (학습횟수, 디폴트 값 1000)\n",
    "# alpha=0.0001 (런닝레이트)\n",
    "# early_stopping=True (cost값 변화가 없으면 학습종료(그만 돌리고 빠져나가는 것.)\n",
    "# verbose=0(학습완료되면 출력없이 뚝 떨어지는데 1,2,3 넣으면 진행상황을 알 수 있다.)\n",
    "# SGD 미분+알파 경사하강법을 이용한 Regressor\n",
    "modelSGD = SGDRegressor(max_iter=200, alpha=0.001,early_stopping=True,verbose=1)\n",
    "modelSGD.fit(x_data, y_data)"
   ]
  },
  {
   "cell_type": "code",
   "execution_count": 11,
   "id": "964e440e-206f-41f5-b34d-b35410d73429",
   "metadata": {},
   "outputs": [
    {
     "data": {
      "text/plain": [
       "array([3.31885686])"
      ]
     },
     "execution_count": 11,
     "metadata": {},
     "output_type": "execute_result"
    }
   ],
   "source": [
    "modelSGD.coef_"
   ]
  },
  {
   "cell_type": "code",
   "execution_count": 12,
   "id": "9c874158-6208-474f-a72e-2901e567b8bb",
   "metadata": {},
   "outputs": [
    {
     "data": {
      "text/plain": [
       "array([-1.70598728])"
      ]
     },
     "execution_count": 12,
     "metadata": {},
     "output_type": "execute_result"
    }
   ],
   "source": [
    "modelSGD.intercept_"
   ]
  },
  {
   "cell_type": "code",
   "execution_count": 13,
   "id": "7a57e0c3-94a2-4158-aee0-4fa332c1c2c7",
   "metadata": {},
   "outputs": [
    {
     "data": {
      "image/png": "[encoded data removed]",
      "text/plain": [
       "<Figure size 432x288 with 1 Axes>"
      ]
     },
     "metadata": {
      "needs_background": "light"
     },
     "output_type": "display_data"
    }
   ],
   "source": [
    "y_predict = modelSGD.predict(x_data)\n",
    "plt.scatter(x_data,y_data)\n",
    "plt.plot(x_data,y_predict,'r')\n",
    "plt.show()"
   ]
  },
  {
   "cell_type": "code",
   "execution_count": null,
   "id": "7a71d751-7aa6-4ab3-a221-ca88891111f8",
   "metadata": {},
   "outputs": [],
   "source": []
  }
 ],
 "metadata": {
  "kernelspec": {
   "display_name": "Python 3",
   "language": "python",
   "name": "python3"
  },
  "language_info": {
   "codemirror_mode": {
    "name": "ipython",
    "version": 3
   },
   "file_extension": ".py",
   "mimetype": "text/x-python",
   "name": "python",
   "nbconvert_exporter": "python",
   "pygments_lexer": "ipython3",
   "version": "3.8.8"
  }
 },
 "nbformat": 4,
 "nbformat_minor": 5
}
