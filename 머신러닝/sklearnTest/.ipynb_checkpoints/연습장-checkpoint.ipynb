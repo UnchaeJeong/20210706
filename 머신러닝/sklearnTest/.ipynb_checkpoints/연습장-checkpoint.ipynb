{
 "cells": [
  {
   "cell_type": "code",
   "execution_count": 1,
   "id": "8000203a-79a7-448b-9cd0-9b8ed34a0acc",
   "metadata": {},
   "outputs": [],
   "source": [
    "import matplotlib.pyplot as plt\n",
    "import numpy as np"
   ]
  },
  {
   "cell_type": "code",
   "execution_count": 14,
   "id": "03557ecf-4c92-453d-b2ec-f1508b44f88e",
   "metadata": {},
   "outputs": [],
   "source": [
    "def cost(x,y,w):\n",
    "    c = 0\n",
    "    for i in range(len(x)):\n",
    "        hx = w*x[i]\n",
    "        c = c +  (hx-y[i])**2\n",
    "    return c/len(x)"
   ]
  },
  {
   "cell_type": "code",
   "execution_count": 15,
   "id": "60c33483-58ae-451d-88fb-a3cd14564e23",
   "metadata": {},
   "outputs": [],
   "source": [
    "x_data = [1,2,3]\n",
    "y_data = [1,2,3]"
   ]
  },
  {
   "cell_type": "code",
   "execution_count": 16,
   "id": "a8045fba-ad68-4378-94fb-86a25a07c539",
   "metadata": {},
   "outputs": [
    {
     "name": "stdout",
     "output_type": "stream",
     "text": [
      "18.666666666666668\n",
      "4.666666666666667\n",
      "0.0\n",
      "4.666666666666667\n"
     ]
    }
   ],
   "source": [
    "print(cost(x_data, y_data, -1))\n",
    "print(cost(x_data, y_data, 0))\n",
    "print(cost(x_data, y_data, 1))\n",
    "print(cost(x_data, y_data, 2))"
   ]
  },
  {
   "cell_type": "code",
   "execution_count": null,
   "id": "c68f4003-1689-4339-950b-9ead26f1c9c3",
   "metadata": {},
   "outputs": [],
   "source": []
  }
 ],
 "metadata": {
  "kernelspec": {
   "display_name": "Python 3",
   "language": "python",
   "name": "python3"
  },
  "language_info": {
   "codemirror_mode": {
    "name": "ipython",
    "version": 3
   },
   "file_extension": ".py",
   "mimetype": "text/x-python",
   "name": "python",
   "nbconvert_exporter": "python",
   "pygments_lexer": "ipython3",
   "version": "3.8.8"
  }
 },
 "nbformat": 4,
 "nbformat_minor": 5
}
