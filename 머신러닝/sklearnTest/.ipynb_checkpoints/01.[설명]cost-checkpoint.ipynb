{
 "cells": [
  {
   "cell_type": "markdown",
   "id": "102d85f1-7c61-4c43-9cf9-db189ac7a5fd",
   "metadata": {},
   "source": [
    "# 1. 백문어불여일타\n",
    "# 2. 코딩은 학습이 아니라 연습이다."
   ]
  },
  {
   "cell_type": "code",
   "execution_count": 1,
   "id": "32bf945c-692a-4b36-afdd-1d6183aec85b",
   "metadata": {},
   "outputs": [],
   "source": [
    "import matplotlib.pyplot as plt\n",
    "import numpy as np"
   ]
  },
  {
   "cell_type": "markdown",
   "id": "fc78aa6c-51c2-4d3f-bad4-a6a842890628",
   "metadata": {},
   "source": [
    "## cost 함수 만들기"
   ]
  },
  {
   "cell_type": "code",
   "execution_count": 2,
   "id": "3a270439-e964-4c6f-bee9-8cd584c833c2",
   "metadata": {},
   "outputs": [],
   "source": [
    "def cost( x,y,w):\n",
    "    c = 0\n",
    "    for i  in range(len(x)):\n",
    "        hx = w*x[i]\n",
    "        c = c + (hx-y[i])**2\n",
    "    return c/len(x)"
   ]
  },
  {
   "cell_type": "code",
   "execution_count": 3,
   "id": "0cbb1b40-cddd-42cd-8a2e-ed35abf4f263",
   "metadata": {},
   "outputs": [],
   "source": [
    "x_data = [1,2,3]\n",
    "y_data = [1,2,3]\n",
    "# 실측데이터, 절편 0, 기울기 1."
   ]
  },
  {
   "cell_type": "code",
   "execution_count": 4,
   "id": "83fe4e8c-65f6-4dd3-8f48-06f3294f88cb",
   "metadata": {},
   "outputs": [
    {
     "name": "stdout",
     "output_type": "stream",
     "text": [
      "18.666666666666668\n",
      "4.666666666666667\n",
      "0.0\n",
      "4.666666666666667\n"
     ]
    }
   ],
   "source": [
    "print(cost(x_data, y_data, -1))\n",
    "print(cost(x_data, y_data, 0))\n",
    "print(cost(x_data, y_data, 1))\n",
    "print(cost(x_data, y_data, 2))"
   ]
  },
  {
   "cell_type": "markdown",
   "id": "cd56bc10-f904-4595-811e-e7f056b251bb",
   "metadata": {},
   "source": [
    "### 산점도 나타내기 plt.scatter"
   ]
  },
  {
   "cell_type": "code",
   "execution_count": 5,
   "id": "0ccf9115-f66d-4f13-a974-76ac5812ce22",
   "metadata": {},
   "outputs": [
    {
     "data": {
      "image/png": "[encoded data removed]",
      "text/plain": [
       "<Figure size 432x288 with 1 Axes>"
      ]
     },
     "metadata": {
      "needs_background": "light"
     },
     "output_type": "display_data"
    }
   ],
   "source": [
    "plt.scatter(x_data, y_data, color='r')\n",
    "plt.show()"
   ]
  },
  {
   "cell_type": "markdown",
   "id": "50ef590c-313c-42dd-b92c-3bc098077e78",
   "metadata": {},
   "source": [
    "### np.linspace( )"
   ]
  },
  {
   "cell_type": "code",
   "execution_count": 6,
   "id": "e3789198-29c7-488b-8750-58375e5e4fbe",
   "metadata": {},
   "outputs": [
    {
     "data": {
      "text/plain": [
       "array([ 1.  ,  3.25,  5.5 ,  7.75, 10.  ])"
      ]
     },
     "execution_count": 6,
     "metadata": {},
     "output_type": "execute_result"
    }
   ],
   "source": [
    "np.linspace(1,10,5) # Shift + Tap\n",
    "# start, end , 5개 , 같은 간격으로\n",
    "# shift tap 시그니처보는 거 확인"
   ]
  },
  {
   "cell_type": "markdown",
   "id": "abbff812-4ae9-4822-9a54-91d9ea9b24d5",
   "metadata": {},
   "source": [
    "## -3~5 코스트 값이 w에 따라 어떻게 변하는지 확인"
   ]
  },
  {
   "cell_type": "code",
   "execution_count": 7,
   "id": "3b54fce7-35ba-4ef2-ae8a-749eccb5ea51",
   "metadata": {},
   "outputs": [],
   "source": [
    "# W값 구한 것."
   ]
  },
  {
   "cell_type": "code",
   "execution_count": 8,
   "id": "ba335485-e2b8-476f-8f4c-860aa0cbcd0b",
   "metadata": {},
   "outputs": [
    {
     "name": "stdout",
     "output_type": "stream",
     "text": [
      "w= -3.0 cost= 74.66666666666667\n",
      "w= -2.836734693877551 cost= 68.69582118561709\n",
      "w= -2.673469387755102 cost= 62.97376093294461\n",
      "w= -2.510204081632653 cost= 57.500485908649175\n",
      "w= -2.3469387755102042 cost= 52.275996112730816\n",
      "w= -2.183673469387755 cost= 47.3002915451895\n",
      "w= -2.020408163265306 cost= 42.57337220602526\n",
      "w= -1.8571428571428572 cost= 38.095238095238095\n",
      "w= -1.6938775510204083 cost= 33.86588921282799\n",
      "w= -1.5306122448979593 cost= 29.88532555879495\n",
      "w= -1.3673469387755104 cost= 26.15354713313897\n",
      "w= -1.2040816326530615 cost= 22.670553935860067\n",
      "w= -1.0408163265306123 cost= 19.436345966958214\n",
      "w= -0.8775510204081636 cost= 16.450923226433435\n",
      "w= -0.7142857142857144 cost= 13.714285714285717\n",
      "w= -0.5510204081632657 cost= 11.226433430515067\n",
      "w= -0.38775510204081653 cost= 8.98736637512148\n",
      "w= -0.22448979591836737 cost= 6.997084548104957\n",
      "w= -0.06122448979591866 cost= 5.255587949465504\n",
      "w= 0.1020408163265305 cost= 3.7628765792031107\n",
      "w= 0.2653061224489792 cost= 2.518950437317787\n",
      "w= 0.4285714285714284 cost= 1.5238095238095248\n",
      "w= 0.5918367346938771 cost= 0.7774538386783302\n",
      "w= 0.7551020408163263 cost= 0.27988338192419887\n",
      "w= 0.9183673469387754 cost= 0.031098153547133207\n",
      "w= 1.0816326530612246 cost= 0.031098153547133207\n",
      "w= 1.2448979591836729 cost= 0.2798833819241968\n",
      "w= 1.408163265306122 cost= 0.7774538386783268\n",
      "w= 1.5714285714285712 cost= 1.5238095238095226\n",
      "w= 1.7346938775510203 cost= 2.5189504373177836\n",
      "w= 1.8979591836734686 cost= 3.762876579203103\n",
      "w= 2.0612244897959178 cost= 5.255587949465494\n",
      "w= 2.224489795918367 cost= 6.997084548104951\n",
      "w= 2.387755102040816 cost= 8.987366375121475\n",
      "w= 2.5510204081632653 cost= 11.226433430515064\n",
      "w= 2.7142857142857135 cost= 13.714285714285703\n",
      "w= 2.8775510204081627 cost= 16.45092322643342\n",
      "w= 3.040816326530612 cost= 19.436345966958203\n",
      "w= 3.204081632653061 cost= 22.670553935860056\n",
      "w= 3.3673469387755093 cost= 26.153547133138954\n",
      "w= 3.5306122448979584 cost= 29.88532555879492\n",
      "w= 3.6938775510204076 cost= 33.86588921282798\n",
      "w= 3.8571428571428568 cost= 38.09523809523808\n",
      "w= 4.020408163265306 cost= 42.57337220602526\n",
      "w= 4.183673469387754 cost= 47.30029154518948\n",
      "w= 4.346938775510203 cost= 52.27599611273078\n",
      "w= 4.5102040816326525 cost= 57.50048590864915\n",
      "w= 4.673469387755102 cost= 62.97376093294459\n",
      "w= 4.836734693877551 cost= 68.69582118561709\n",
      "w= 5.0 cost= 74.66666666666667\n"
     ]
    },
    {
     "data": {
      "image/png": "[encoded data removed]",
      "text/plain": [
       "<Figure size 432x288 with 1 Axes>"
      ]
     },
     "metadata": {
      "needs_background": "light"
     },
     "output_type": "display_data"
    }
   ],
   "source": [
    "for w in np.linspace(-3,5):\n",
    "    c= cost( x_data, y_data, w)\n",
    "    print(\"w=\",w, \"cost=\",c)\n",
    "    plt.plot(w,c, 'ro') # x축 = w, y축 = cost\n",
    "plt.show()\n",
    "#     print(w)"
   ]
  },
  {
   "cell_type": "markdown",
   "id": "df5fe50a-a8c0-464a-bc6e-5704ba15620d",
   "metadata": {},
   "source": [
    "## 접선의 기울기 구하기(미분)"
   ]
  },
  {
   "cell_type": "markdown",
   "id": "099db693-3f13-4d36-8abb-4f9716a8eb8a",
   "metadata": {},
   "source": [
    "##### 임의의 초기값 하나 정하고 접선의 기울기를 구함.\n",
    "##### 접선의 기울기가 미분이 되는 것.\n",
    "##### w = W - 임의값 x 기울기\n",
    "##### 이것을 구할 것!\n",
    "##### 미분에 대해서 먼저 해보자\n",
    "##### 델타 x가 0에 가깝게 하면 (에러가 최소일 때)접선의 기울기를 구할 수 있다."
   ]
  },
  {
   "cell_type": "markdown",
   "id": "25fb2dc3-2678-444f-8565-68ad5e23e470",
   "metadata": {},
   "source": [
    "![mibun](img/mibun.png)"
   ]
  },
  {
   "cell_type": "markdown",
   "id": "6d1d5ad4-ec60-48ad-9854-9e982390d0e8",
   "metadata": {},
   "source": [
    "## 합성함수의 미분"
   ]
  },
  {
   "cell_type": "code",
   "execution_count": null,
   "id": "84522bff-a157-49df-ba19-28fcc3ffeb4b",
   "metadata": {},
   "outputs": [],
   "source": [
    "# 미분 (접선의 기울기)\n",
    "# y = 2 기울기: 0\n",
    "# y = x 기울기: 1\n",
    "# y = 2x 기울기: 2\n",
    "# y = x^2 기울기: 2x\n",
    "    \n",
    "# 합성함수의 미분"
   ]
  },
  {
   "cell_type": "markdown",
   "id": "7e3d0588-8382-412d-a1c8-823ba92f5b7e",
   "metadata": {},
   "source": [
    "![합성함수미분](img/mibun2.png)"
   ]
  },
  {
   "cell_type": "code",
   "execution_count": 11,
   "id": "5d27ec78-6815-419c-90ce-77b1b39b13a3",
   "metadata": {},
   "outputs": [],
   "source": [
    "# 딥러닝때 많이 사용됨"
   ]
  },
  {
   "cell_type": "code",
   "execution_count": null,
   "id": "cc615ad1-123a-4de9-a504-64df2ebca959",
   "metadata": {},
   "outputs": [],
   "source": []
  }
 ],
 "metadata": {
  "kernelspec": {
   "display_name": "Python 3",
   "language": "python",
   "name": "python3"
  },
  "language_info": {
   "codemirror_mode": {
    "name": "ipython",
    "version": 3
   },
   "file_extension": ".py",
   "mimetype": "text/x-python",
   "name": "python",
   "nbconvert_exporter": "python",
   "pygments_lexer": "ipython3",
   "version": "3.8.8"
  }
 },
 "nbformat": 4,
 "nbformat_minor": 5
}
