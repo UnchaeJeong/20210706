{
 "cells": [
  {
   "cell_type": "markdown",
   "id": "321df8b2-5563-4783-b5d7-e1a779515330",
   "metadata": {},
   "source": [
    "- stationary series는 시계열에 사용되는 것 아님. 일정한 건 stationary series라고 해서 시계열 분석에 사용할 수 없음.\n",
    "- non-stationary series는 시계열 예측에 활용할 수 있는 데이터임. 평균분산 증가 등 변동성이 있어야함."
   ]
  },
  {
   "cell_type": "markdown",
   "id": "aa5985d0-90ca-4403-aa15-a8d77890ca46",
   "metadata": {},
   "source": [
    "- **autoregressive 자기회귀 컬럼개수가 하나인데 (시간대별 데이터가 있음)**\n",
    "- **특정 시점에서 다음꺼 weight를 통해 예측을 하는 것.**"
   ]
  },
  {
   "cell_type": "markdown",
   "id": "d8f92bb7-bff8-4886-bc92-630416082167",
   "metadata": {},
   "source": [
    "- 딥러닝은 RNN을 이용해서 자기회귀(시계열 예측)을 할 것임.\n",
    "- 이건 다중회귀와 같은데 특성데이터가 다중이 아님."
   ]
  },
  {
   "cell_type": "code",
   "execution_count": 4,
   "id": "6439a12b-8957-40f6-a9b7-fb3b329147bd",
   "metadata": {},
   "outputs": [],
   "source": [
    "from statsmodels.tsa.ar_model import AR # NEW\n",
    "from statsmodels.tsa.arima_model import ARIMA # NEW\n",
    "\n",
    "from statsmodels.tsa.stattools import adfuller\n",
    "import pandas as pd\n",
    "import matplotlib.pyplot as plt\n",
    "import numpy as np\n",
    "from warnings import filterwarnings\n",
    "filterwarnings(\"ignore\")"
   ]
  },
  {
   "cell_type": "markdown",
   "id": "6ae77771-a525-4286-94ff-d1f800d0b306",
   "metadata": {},
   "source": [
    "일자별 여아 태어난 수"
   ]
  },
  {
   "cell_type": "code",
   "execution_count": 15,
   "id": "73e8160a-2497-47c6-bb95-b2e0a1786a81",
   "metadata": {},
   "outputs": [
    {
     "data": {
      "text/html": [
       "<div>\n",
       "<style scoped>\n",
       "    .dataframe tbody tr th:only-of-type {\n",
       "        vertical-align: middle;\n",
       "    }\n",
       "\n",
       "    .dataframe tbody tr th {\n",
       "        vertical-align: top;\n",
       "    }\n",
       "\n",
       "    .dataframe thead th {\n",
       "        text-align: right;\n",
       "    }\n",
       "</style>\n",
       "<table border=\"1\" class=\"dataframe\">\n",
       "  <thead>\n",
       "    <tr style=\"text-align: right;\">\n",
       "      <th></th>\n",
       "      <th>Births</th>\n",
       "    </tr>\n",
       "    <tr>\n",
       "      <th>Date</th>\n",
       "      <th></th>\n",
       "    </tr>\n",
       "  </thead>\n",
       "  <tbody>\n",
       "    <tr>\n",
       "      <th>1959-01-01</th>\n",
       "      <td>35</td>\n",
       "    </tr>\n",
       "    <tr>\n",
       "      <th>1959-01-02</th>\n",
       "      <td>32</td>\n",
       "    </tr>\n",
       "    <tr>\n",
       "      <th>1959-01-03</th>\n",
       "      <td>30</td>\n",
       "    </tr>\n",
       "    <tr>\n",
       "      <th>1959-01-04</th>\n",
       "      <td>31</td>\n",
       "    </tr>\n",
       "    <tr>\n",
       "      <th>1959-01-05</th>\n",
       "      <td>44</td>\n",
       "    </tr>\n",
       "  </tbody>\n",
       "</table>\n",
       "</div>"
      ],
      "text/plain": [
       "            Births\n",
       "Date              \n",
       "1959-01-01      35\n",
       "1959-01-02      32\n",
       "1959-01-03      30\n",
       "1959-01-04      31\n",
       "1959-01-05      44"
      ]
     },
     "execution_count": 15,
     "metadata": {},
     "output_type": "execute_result"
    }
   ],
   "source": [
    "birthDF = pd.read_csv('data5/daily-total-female-births.txt',\n",
    "                parse_dates=['Date'], index_col='Date')\n",
    "# 데이트라는 컬럼을 인덱스, parse_dates 데이트 타임 형으로 저장. 안하면 object to_date로 바꿔줘야 하는 번거로움\n",
    "birthDF.head()"
   ]
  },
  {
   "cell_type": "code",
   "execution_count": 13,
   "id": "337f9596-bf37-47a9-a1cd-6043478173aa",
   "metadata": {},
   "outputs": [
    {
     "data": {
      "text/html": [
       "<div>\n",
       "<style scoped>\n",
       "    .dataframe tbody tr th:only-of-type {\n",
       "        vertical-align: middle;\n",
       "    }\n",
       "\n",
       "    .dataframe tbody tr th {\n",
       "        vertical-align: top;\n",
       "    }\n",
       "\n",
       "    .dataframe thead th {\n",
       "        text-align: right;\n",
       "    }\n",
       "</style>\n",
       "<table border=\"1\" class=\"dataframe\">\n",
       "  <thead>\n",
       "    <tr style=\"text-align: right;\">\n",
       "      <th></th>\n",
       "      <th>passengers</th>\n",
       "    </tr>\n",
       "    <tr>\n",
       "      <th>time</th>\n",
       "      <th></th>\n",
       "    </tr>\n",
       "  </thead>\n",
       "  <tbody>\n",
       "    <tr>\n",
       "      <th>1949-01-01</th>\n",
       "      <td>112</td>\n",
       "    </tr>\n",
       "    <tr>\n",
       "      <th>1949-02-01</th>\n",
       "      <td>118</td>\n",
       "    </tr>\n",
       "    <tr>\n",
       "      <th>1949-03-01</th>\n",
       "      <td>132</td>\n",
       "    </tr>\n",
       "    <tr>\n",
       "      <th>1949-04-01</th>\n",
       "      <td>129</td>\n",
       "    </tr>\n",
       "    <tr>\n",
       "      <th>1949-05-01</th>\n",
       "      <td>121</td>\n",
       "    </tr>\n",
       "  </tbody>\n",
       "</table>\n",
       "</div>"
      ],
      "text/plain": [
       "            passengers\n",
       "time                  \n",
       "1949-01-01         112\n",
       "1949-02-01         118\n",
       "1949-03-01         132\n",
       "1949-04-01         129\n",
       "1949-05-01         121"
      ]
     },
     "execution_count": 13,
     "metadata": {},
     "output_type": "execute_result"
    }
   ],
   "source": [
    "airDF = pd.read_csv('data5/international-airline-passengers.txt',\n",
    "                   parse_dates=['time'], index_col='time')\n",
    "# passengers 는 미국에 있는 인터네셔널에어라인 탑승 승객 수\n",
    "airDF.head()"
   ]
  },
  {
   "cell_type": "code",
   "execution_count": 12,
   "id": "e2f3c905-cab7-4515-ad1b-ceae979acfb6",
   "metadata": {},
   "outputs": [
    {
     "data": {
      "text/html": [
       "<div>\n",
       "<style scoped>\n",
       "    .dataframe tbody tr th:only-of-type {\n",
       "        vertical-align: middle;\n",
       "    }\n",
       "\n",
       "    .dataframe tbody tr th {\n",
       "        vertical-align: top;\n",
       "    }\n",
       "\n",
       "    .dataframe thead th {\n",
       "        text-align: right;\n",
       "    }\n",
       "</style>\n",
       "<table border=\"1\" class=\"dataframe\">\n",
       "  <thead>\n",
       "    <tr style=\"text-align: right;\">\n",
       "      <th></th>\n",
       "      <th>Temp</th>\n",
       "    </tr>\n",
       "    <tr>\n",
       "      <th>Date</th>\n",
       "      <th></th>\n",
       "    </tr>\n",
       "  </thead>\n",
       "  <tbody>\n",
       "    <tr>\n",
       "      <th>1981-01-01</th>\n",
       "      <td>20.7</td>\n",
       "    </tr>\n",
       "    <tr>\n",
       "      <th>1981-01-02</th>\n",
       "      <td>17.9</td>\n",
       "    </tr>\n",
       "    <tr>\n",
       "      <th>1981-01-03</th>\n",
       "      <td>18.8</td>\n",
       "    </tr>\n",
       "    <tr>\n",
       "      <th>1981-01-04</th>\n",
       "      <td>14.6</td>\n",
       "    </tr>\n",
       "    <tr>\n",
       "      <th>1981-01-05</th>\n",
       "      <td>15.8</td>\n",
       "    </tr>\n",
       "  </tbody>\n",
       "</table>\n",
       "</div>"
      ],
      "text/plain": [
       "            Temp\n",
       "Date            \n",
       "1981-01-01  20.7\n",
       "1981-01-02  17.9\n",
       "1981-01-03  18.8\n",
       "1981-01-04  14.6\n",
       "1981-01-05  15.8"
      ]
     },
     "execution_count": 12,
     "metadata": {},
     "output_type": "execute_result"
    }
   ],
   "source": [
    "tempDF = pd.read_csv('data5/daily-min-temperatures.csv',\n",
    "                    parse_dates=['Date'], index_col='Date')\n",
    "tempDF.head()"
   ]
  },
  {
   "cell_type": "code",
   "execution_count": 16,
   "id": "63093553-d4f2-488e-bc28-b2caa2bccee9",
   "metadata": {},
   "outputs": [
    {
     "data": {
      "image/png": "[encoded data removed]",
      "text/plain": [
       "<Figure size 432x288 with 1 Axes>"
      ]
     },
     "metadata": {
      "needs_background": "light"
     },
     "output_type": "display_data"
    }
   ],
   "source": [
    "birthDF.plot()\n",
    "plt.show()"
   ]
  },
  {
   "cell_type": "code",
   "execution_count": 17,
   "id": "ff6db5f5-d869-4b66-95fa-de9ae5c3db0c",
   "metadata": {},
   "outputs": [
    {
     "data": {
      "image/png": "[encoded data removed]",
      "text/plain": [
       "<Figure size 432x288 with 1 Axes>"
      ]
     },
     "metadata": {
      "needs_background": "light"
     },
     "output_type": "display_data"
    }
   ],
   "source": [
    "airDF.plot()\n",
    "plt.show()"
   ]
  },
  {
   "cell_type": "code",
   "execution_count": 18,
   "id": "7d953fb2-e96d-40d0-9689-5eb745308ff6",
   "metadata": {},
   "outputs": [
    {
     "data": {
      "image/png": "[encoded data removed]",
      "text/plain": [
       "<Figure size 432x288 with 1 Axes>"
      ]
     },
     "metadata": {
      "needs_background": "light"
     },
     "output_type": "display_data"
    }
   ],
   "source": [
    "tempDF.plot()\n",
    "plt.show()"
   ]
  },
  {
   "cell_type": "code",
   "execution_count": 27,
   "id": "df660f09-81bd-4cd4-8778-776f656de9f7",
   "metadata": {},
   "outputs": [
    {
     "name": "stdout",
     "output_type": "stream",
     "text": [
      "182\n",
      "Births    39.763736\n",
      "dtype: float64\n",
      "Births    44.185792\n",
      "dtype: float64\n",
      "Births    49.485308\n",
      "dtype: float64\n",
      "Births    48.976281\n",
      "dtype: float64\n"
     ]
    }
   ],
   "source": [
    "n = int(len(birthDF)/2)\n",
    "print(n)\n",
    "print(birthDF.iloc[:n].mean()) # 컬럼별 평균\n",
    "print(birthDF.iloc[n:].mean())\n",
    "print(birthDF.iloc[:n].var())\n",
    "print(birthDF.iloc[n:].var())\n",
    "# stational 하다."
   ]
  },
  {
   "cell_type": "code",
   "execution_count": 29,
   "id": "869679ea-feea-4553-8a1b-2f8746097899",
   "metadata": {},
   "outputs": [
    {
     "name": "stdout",
     "output_type": "stream",
     "text": [
      "72\n",
      "passengers    182.902778\n",
      "dtype: float64\n",
      "passengers    377.694444\n",
      "dtype: float64\n",
      "passengers    2275.69464\n",
      "dtype: float64\n",
      "passengers    7471.736307\n",
      "dtype: float64\n"
     ]
    }
   ],
   "source": [
    "n =int( len( airDF)/2 )\n",
    "print(n)\n",
    "print( airDF.iloc[:n].mean() )\n",
    "print( airDF.iloc[n:].mean() )\n",
    "print( airDF.iloc[:n].var() )\n",
    "print( airDF.iloc[n:].var() )\n",
    "# non_stational 하다."
   ]
  },
  {
   "cell_type": "code",
   "execution_count": 30,
   "id": "e79ce08b-2264-4093-96c5-c16b5e722d59",
   "metadata": {},
   "outputs": [
    {
     "name": "stdout",
     "output_type": "stream",
     "text": [
      "1825\n",
      "Temp    11.043507\n",
      "dtype: float64\n",
      "Temp    11.312\n",
      "dtype: float64\n",
      "Temp    18.170782\n",
      "dtype: float64\n",
      "Temp    14.961956\n",
      "dtype: float64\n"
     ]
    }
   ],
   "source": [
    "n =int( len( tempDF)/2 )\n",
    "print(n)\n",
    "print( tempDF.iloc[:n].mean() )\n",
    "print( tempDF.iloc[n:].mean() )\n",
    "print( tempDF.iloc[:n].var() )\n",
    "print( tempDF.iloc[n:].var() )\n",
    "# non_stational 하다."
   ]
  },
  {
   "cell_type": "markdown",
   "id": "d494ccd9-226d-489f-8251-345eb0a93d7b",
   "metadata": {},
   "source": [
    "자기 상관 함수란. 하나의 시간차를 두고, 편차의 곱을 나누는 것. \n",
    "\n",
    "공분산에서 편차를 나누면 상관관계\n",
    "\n",
    "하나의 칼럼에서 시간을 두고 나누게되면 자기상관관계\n"
   ]
  },
  {
   "cell_type": "code",
   "execution_count": 32,
   "id": "10fa171f-477f-4379-afd7-37833aface66",
   "metadata": {},
   "outputs": [
    {
     "data": {
      "text/html": [
       "<div>\n",
       "<style scoped>\n",
       "    .dataframe tbody tr th:only-of-type {\n",
       "        vertical-align: middle;\n",
       "    }\n",
       "\n",
       "    .dataframe tbody tr th {\n",
       "        vertical-align: top;\n",
       "    }\n",
       "\n",
       "    .dataframe thead th {\n",
       "        text-align: right;\n",
       "    }\n",
       "</style>\n",
       "<table border=\"1\" class=\"dataframe\">\n",
       "  <thead>\n",
       "    <tr style=\"text-align: right;\">\n",
       "      <th></th>\n",
       "      <th>Temp</th>\n",
       "      <th>days</th>\n",
       "    </tr>\n",
       "    <tr>\n",
       "      <th>Date</th>\n",
       "      <th></th>\n",
       "      <th></th>\n",
       "    </tr>\n",
       "  </thead>\n",
       "  <tbody>\n",
       "    <tr>\n",
       "      <th>1981-01-01</th>\n",
       "      <td>20.7</td>\n",
       "      <td>0</td>\n",
       "    </tr>\n",
       "    <tr>\n",
       "      <th>1981-01-02</th>\n",
       "      <td>17.9</td>\n",
       "      <td>1</td>\n",
       "    </tr>\n",
       "    <tr>\n",
       "      <th>1981-01-03</th>\n",
       "      <td>18.8</td>\n",
       "      <td>2</td>\n",
       "    </tr>\n",
       "    <tr>\n",
       "      <th>1981-01-04</th>\n",
       "      <td>14.6</td>\n",
       "      <td>3</td>\n",
       "    </tr>\n",
       "    <tr>\n",
       "      <th>1981-01-05</th>\n",
       "      <td>15.8</td>\n",
       "      <td>4</td>\n",
       "    </tr>\n",
       "    <tr>\n",
       "      <th>...</th>\n",
       "      <td>...</td>\n",
       "      <td>...</td>\n",
       "    </tr>\n",
       "    <tr>\n",
       "      <th>1990-12-27</th>\n",
       "      <td>14.0</td>\n",
       "      <td>3645</td>\n",
       "    </tr>\n",
       "    <tr>\n",
       "      <th>1990-12-28</th>\n",
       "      <td>13.6</td>\n",
       "      <td>3646</td>\n",
       "    </tr>\n",
       "    <tr>\n",
       "      <th>1990-12-29</th>\n",
       "      <td>13.5</td>\n",
       "      <td>3647</td>\n",
       "    </tr>\n",
       "    <tr>\n",
       "      <th>1990-12-30</th>\n",
       "      <td>15.7</td>\n",
       "      <td>3648</td>\n",
       "    </tr>\n",
       "    <tr>\n",
       "      <th>1990-12-31</th>\n",
       "      <td>13.0</td>\n",
       "      <td>3649</td>\n",
       "    </tr>\n",
       "  </tbody>\n",
       "</table>\n",
       "<p>3650 rows × 2 columns</p>\n",
       "</div>"
      ],
      "text/plain": [
       "            Temp  days\n",
       "Date                  \n",
       "1981-01-01  20.7     0\n",
       "1981-01-02  17.9     1\n",
       "1981-01-03  18.8     2\n",
       "1981-01-04  14.6     3\n",
       "1981-01-05  15.8     4\n",
       "...          ...   ...\n",
       "1990-12-27  14.0  3645\n",
       "1990-12-28  13.6  3646\n",
       "1990-12-29  13.5  3647\n",
       "1990-12-30  15.7  3648\n",
       "1990-12-31  13.0  3649\n",
       "\n",
       "[3650 rows x 2 columns]"
      ]
     },
     "execution_count": 32,
     "metadata": {},
     "output_type": "execute_result"
    }
   ],
   "source": [
    "tempDF['days'] = range(0, len( tempDF))\n",
    "tempDF"
   ]
  },
  {
   "cell_type": "code",
   "execution_count": 34,
   "id": "f5c92e24-128f-409f-a821-931d41b27407",
   "metadata": {},
   "outputs": [],
   "source": [
    "temps = tempDF['Temp'].values\n",
    "days = tempDF['days'].values\n",
    "# 변수에 담기"
   ]
  },
  {
   "cell_type": "code",
   "execution_count": 41,
   "id": "8947e29d-7fc4-4dc3-9564-3641e8d6f59a",
   "metadata": {},
   "outputs": [
    {
     "name": "stdout",
     "output_type": "stream",
     "text": [
      "[20.7 17.9 18.8 ... 13.5 15.7 13. ]\n",
      "[   0    1    2 ... 3647 3648 3649]\n"
     ]
    }
   ],
   "source": [
    "print(temps)\n",
    "print(days)"
   ]
  },
  {
   "cell_type": "code",
   "execution_count": 42,
   "id": "eb378cc6-da01-4461-8112-883684317538",
   "metadata": {},
   "outputs": [
    {
     "data": {
      "text/html": [
       "<div>\n",
       "<style scoped>\n",
       "    .dataframe tbody tr th:only-of-type {\n",
       "        vertical-align: middle;\n",
       "    }\n",
       "\n",
       "    .dataframe tbody tr th {\n",
       "        vertical-align: top;\n",
       "    }\n",
       "\n",
       "    .dataframe thead th {\n",
       "        text-align: right;\n",
       "    }\n",
       "</style>\n",
       "<table border=\"1\" class=\"dataframe\">\n",
       "  <thead>\n",
       "    <tr style=\"text-align: right;\">\n",
       "      <th></th>\n",
       "      <th>Temp</th>\n",
       "      <th>days</th>\n",
       "    </tr>\n",
       "  </thead>\n",
       "  <tbody>\n",
       "    <tr>\n",
       "      <th>Temp</th>\n",
       "      <td>1.00000</td>\n",
       "      <td>0.01218</td>\n",
       "    </tr>\n",
       "    <tr>\n",
       "      <th>days</th>\n",
       "      <td>0.01218</td>\n",
       "      <td>1.00000</td>\n",
       "    </tr>\n",
       "  </tbody>\n",
       "</table>\n",
       "</div>"
      ],
      "text/plain": [
       "         Temp     days\n",
       "Temp  1.00000  0.01218\n",
       "days  0.01218  1.00000"
      ]
     },
     "execution_count": 42,
     "metadata": {},
     "output_type": "execute_result"
    }
   ],
   "source": [
    "tempDF.corr()"
   ]
  },
  {
   "cell_type": "code",
   "execution_count": 43,
   "id": "8d062fcc-e08f-4e7f-8ae2-27b40c2fe535",
   "metadata": {},
   "outputs": [
    {
     "data": {
      "text/plain": [
       "array([[1.        , 0.01218004],\n",
       "       [0.01218004, 1.        ]])"
      ]
     },
     "execution_count": 43,
     "metadata": {},
     "output_type": "execute_result"
    }
   ],
   "source": [
    "np.corrcoef(temps, days)"
   ]
  },
  {
   "cell_type": "code",
   "execution_count": 50,
   "id": "99915e20-f0b4-43c3-92f4-5f9a73524012",
   "metadata": {},
   "outputs": [
    {
     "name": "stdout",
     "output_type": "stream",
     "text": [
      "[17.9 18.8 14.6 ... 13.5 15.7 13. ]\n",
      "[20.7 17.9 18.8 ... 13.6 13.5 15.7]\n"
     ]
    }
   ],
   "source": [
    "print(temps[1:])\n",
    "print(temps[:-1])"
   ]
  },
  {
   "cell_type": "code",
   "execution_count": 51,
   "id": "5487a074-8f53-4356-adb8-69b16a644b55",
   "metadata": {},
   "outputs": [
    {
     "data": {
      "text/plain": [
       "array([[1.        , 0.77487022],\n",
       "       [0.77487022, 1.        ]])"
      ]
     },
     "execution_count": 51,
     "metadata": {},
     "output_type": "execute_result"
    }
   ],
   "source": [
    "np.corrcoef( temps[1:],temps[:-1]) # 두개의 상관관계를 봄. # lag1\n"
   ]
  },
  {
   "cell_type": "code",
   "execution_count": 53,
   "id": "884af40d-faf8-48fd-92d0-251266850f96",
   "metadata": {},
   "outputs": [
    {
     "data": {
      "text/plain": [
       "array([[1.        , 0.63111946],\n",
       "       [0.63111946, 1.        ]])"
      ]
     },
     "execution_count": 53,
     "metadata": {},
     "output_type": "execute_result"
    }
   ],
   "source": [
    "np.corrcoef( temps[2:],temps[:-2]) # lag2"
   ]
  },
  {
   "cell_type": "code",
   "execution_count": 54,
   "id": "068dc086-debd-4d68-994d-8d04e88233e7",
   "metadata": {},
   "outputs": [
    {
     "data": {
      "text/plain": [
       "array([[1.        , 0.58637486],\n",
       "       [0.58637486, 1.        ]])"
      ]
     },
     "execution_count": 54,
     "metadata": {},
     "output_type": "execute_result"
    }
   ],
   "source": [
    "np.corrcoef( temps[3:],temps[:-3]) # lag3"
   ]
  },
  {
   "cell_type": "code",
   "execution_count": 55,
   "id": "33129d71-b2c3-4760-bb3f-bbd48d30b2c5",
   "metadata": {},
   "outputs": [
    {
     "data": {
      "text/plain": [
       "[0.7748702165384457,\n",
       " 0.6311194620684836,\n",
       " 0.5863748620126278,\n",
       " 0.5788976133377621,\n",
       " 0.578571574411206,\n",
       " 0.5765484145122557,\n",
       " 0.575928953583158,\n",
       " 0.5695569780397494,\n",
       " 0.5634747178408281]"
      ]
     },
     "execution_count": 55,
     "metadata": {},
     "output_type": "execute_result"
    }
   ],
   "source": [
    "autocorrelation=[]\n",
    "for shift in range(1,10):\n",
    "    c = np.corrcoef(temps[:-shift], temps[shift:] )[0,1]\n",
    "    autocorrelation.append( c )\n",
    "autocorrelation\n"
   ]
  },
  {
   "cell_type": "markdown",
   "id": "24af57ff-7674-4d0d-bcd0-b58cde3ce38a",
   "metadata": {},
   "source": [
    "---\n",
    "위 설명을 대신하는 함수가 있음"
   ]
  },
  {
   "cell_type": "code",
   "execution_count": 56,
   "id": "a76104c6-1566-4cf9-8fd4-b4275ce348e5",
   "metadata": {},
   "outputs": [],
   "source": [
    "from statsmodels.graphics.tsaplots import plot_acf, acf"
   ]
  },
  {
   "cell_type": "code",
   "execution_count": 57,
   "id": "a1eb6f21-e08b-4919-975b-5be2cec504aa",
   "metadata": {},
   "outputs": [
    {
     "data": {
      "text/plain": [
       "array([20.7, 17.9, 18.8, ..., 13.5, 15.7, 13. ])"
      ]
     },
     "execution_count": 57,
     "metadata": {},
     "output_type": "execute_result"
    }
   ],
   "source": [
    "temps"
   ]
  },
  {
   "cell_type": "code",
   "execution_count": 58,
   "id": "5cdda38b-f98b-4638-9b48-01491258b4c0",
   "metadata": {},
   "outputs": [
    {
     "data": {
      "text/plain": [
       "Date\n",
       "1981-01-01    20.7\n",
       "1981-01-02    17.9\n",
       "1981-01-03    18.8\n",
       "1981-01-04    14.6\n",
       "1981-01-05    15.8\n",
       "              ... \n",
       "1990-12-27    14.0\n",
       "1990-12-28    13.6\n",
       "1990-12-29    13.5\n",
       "1990-12-30    15.7\n",
       "1990-12-31    13.0\n",
       "Name: Temp, Length: 3650, dtype: float64"
      ]
     },
     "execution_count": 58,
     "metadata": {},
     "output_type": "execute_result"
    }
   ],
   "source": [
    "tempDF['Temp']"
   ]
  },
  {
   "cell_type": "code",
   "execution_count": 59,
   "id": "50e6be71-396d-473d-a95d-35ef4dbf7a22",
   "metadata": {},
   "outputs": [
    {
     "data": {
      "text/plain": [
       "array([1.        , 0.774268  , 0.6302866 , 0.58529312, 0.57774567,\n",
       "       0.57728013, 0.57510412, 0.57437039, 0.56782622, 0.56120131,\n",
       "       0.54668689, 0.53793111, 0.54012564, 0.54247126, 0.53688723,\n",
       "       0.53429917, 0.53043593, 0.52911166, 0.53037444, 0.52280732,\n",
       "       0.52303677, 0.52224579, 0.51426684, 0.49837745, 0.49302665,\n",
       "       0.49946731, 0.50428521, 0.50068173, 0.49157081, 0.48146406,\n",
       "       0.47421245, 0.47568054, 0.46311862, 0.46215585, 0.46630567,\n",
       "       0.45459092, 0.43378232, 0.4203594 , 0.42707505, 0.42196486,\n",
       "       0.4079607 ])"
      ]
     },
     "execution_count": 59,
     "metadata": {},
     "output_type": "execute_result"
    }
   ],
   "source": [
    "result = acf(tempDF['Temp']) # lag0 ~ \n",
    "result"
   ]
  },
  {
   "cell_type": "markdown",
   "id": "013192eb-a1d1-47bf-a5d4-590c4132af56",
   "metadata": {},
   "source": [
    "scatter"
   ]
  },
  {
   "cell_type": "code",
   "execution_count": 60,
   "id": "755e8b26-690b-4fd3-85c6-877b349a8858",
   "metadata": {},
   "outputs": [
    {
     "data": {
      "image/png": "[encoded data removed]",
      "text/plain": [
       "<Figure size 432x288 with 1 Axes>"
      ]
     },
     "metadata": {
      "needs_background": "light"
     },
     "output_type": "display_data"
    }
   ],
   "source": [
    "plt.scatter( range(0,len(result ) ), result )\n",
    "plt.show()\n"
   ]
  },
  {
   "cell_type": "code",
   "execution_count": 68,
   "id": "5453d022-628b-4c81-b53e-9fd1ca6e97de",
   "metadata": {},
   "outputs": [
    {
     "data": {
      "image/png": "[encoded data removed]",
      "text/plain": [
       "<Figure size 432x288 with 1 Axes>"
      ]
     },
     "metadata": {
      "needs_background": "light"
     },
     "output_type": "display_data"
    }
   ],
   "source": [
    "plot_acf( tempDF['Temp'])\n",
    "plt.show()"
   ]
  },
  {
   "cell_type": "code",
   "execution_count": 65,
   "id": "8a9bc086-8af0-4880-8f5f-322d11ed9172",
   "metadata": {},
   "outputs": [
    {
     "data": {
      "image/png": "[encoded data removed]",
      "text/plain": [
       "<Figure size 432x288 with 1 Axes>"
      ]
     },
     "metadata": {
      "needs_background": "light"
     },
     "output_type": "display_data"
    }
   ],
   "source": [
    "plot_acf( birthDF['Births'] )\n",
    "plt.show()\n"
   ]
  },
  {
   "cell_type": "code",
   "execution_count": 66,
   "id": "a3a9843d-3c26-4756-840b-1644bb53ad61",
   "metadata": {},
   "outputs": [
    {
     "data": {
      "image/png": "[encoded data removed]",
      "text/plain": [
       "<Figure size 432x288 with 1 Axes>"
      ]
     },
     "metadata": {
      "needs_background": "light"
     },
     "output_type": "display_data"
    }
   ],
   "source": [
    "plot_acf( airDF['passengers'] )\n",
    "plt.show()\n"
   ]
  },
  {
   "cell_type": "code",
   "execution_count": 69,
   "id": "9b03a578-092f-4b65-819c-75cfcaf09826",
   "metadata": {},
   "outputs": [],
   "source": [
    "# 자기상관 그래프를 넣어보면 stational인지 non_stational인지 정확하게 판단할 수 있다.\n",
    "# auto correlation\n",
    "# correlation값이 일정하게 유지되면 안됨.\n",
    "# 일정 향곡선이거나 상향곡선, 또는 파동을 치면 non_stational"
   ]
  },
  {
   "cell_type": "code",
   "execution_count": 71,
   "id": "386ec0b9-bae6-4755-b5e3-977481a2dc90",
   "metadata": {},
   "outputs": [],
   "source": [
    "# 검증지표\n",
    "from statsmodels.tsa.stattools import adfuller"
   ]
  },
  {
   "cell_type": "markdown",
   "id": "104947a4-d122-4a8c-aada-5c9706304807",
   "metadata": {},
   "source": [
    "검증 조건 ( p-value : 5% 이내면 reject으로 대체가설 선택됨 )\n",
    "\n",
    "- 귀무가설(H0): non-stationary.\n",
    "- 대체가설 (H1): stationary.\n"
   ]
  },
  {
   "cell_type": "code",
   "execution_count": 72,
   "id": "9ef2f4f0-0243-4a0a-832a-7170ea90be4b",
   "metadata": {},
   "outputs": [
    {
     "name": "stdout",
     "output_type": "stream",
     "text": [
      "-4.808291253559763\n",
      "5.243412990149865e-05\n"
     ]
    }
   ],
   "source": [
    "result = adfuller( birthDF['Births'] )\n",
    "print( result[0] ) # adf ( 작을수록 :귀무가설을 기각시킬 확율이 높다)\n",
    "print( result[1] ) # p-value( 귀무가설기각: stationary)\n"
   ]
  },
  {
   "cell_type": "code",
   "execution_count": 73,
   "id": "516cdc09-4c10-462b-95bb-32a9dd6f39b9",
   "metadata": {},
   "outputs": [
    {
     "name": "stdout",
     "output_type": "stream",
     "text": [
      "0.8153688792060569\n",
      "0.9918802434376411\n"
     ]
    }
   ],
   "source": [
    "result = adfuller( airDF['passengers'] )\n",
    "print( result[0] ) #adf ( 클수록: 귀무가설채틱 확률이 높다 )\n",
    "print( result[1] ) # p-value( 귀무가설채택: non-stationary )\n"
   ]
  },
  {
   "cell_type": "markdown",
   "id": "357369a7-8be2-4ed8-be7a-1da52abc5955",
   "metadata": {},
   "source": [
    "**결론**\n",
    "\n",
    "자기상관값이 변하면 non-stational 시간이 지날 수록 평균값과 분산값이 변하나\n"
   ]
  },
  {
   "cell_type": "markdown",
   "id": "381129e9-4325-4538-9e88-1820e44e3ed5",
   "metadata": {},
   "source": [
    "- 차분은 대부분 2개 미루면 stationary로 변함.\n",
    "- 계산을 용이하게 하기 위해 사용.\n",
    "- ARIMA :  Non-stationary -> 차분 -> Stationary\n"
   ]
  },
  {
   "cell_type": "code",
   "execution_count": 75,
   "id": "6daaddd5-656b-4a16-b1e7-06cdca461fbb",
   "metadata": {},
   "outputs": [],
   "source": [
    "order = (2,1,2)\n",
    "model = ARIMA( airDF, order) # AR + MA 그리고 차분\n",
    "rfit = model.fit()"
   ]
  },
  {
   "cell_type": "code",
   "execution_count": 76,
   "id": "6b70b6da-5672-4a8a-941b-9c68e62a5e5a",
   "metadata": {},
   "outputs": [
    {
     "data": {
      "text/plain": [
       "statsmodels.tsa.arima_model.ARIMAResultsWrapper"
      ]
     },
     "execution_count": 76,
     "metadata": {},
     "output_type": "execute_result"
    }
   ],
   "source": [
    "type(rfit)"
   ]
  },
  {
   "cell_type": "code",
   "execution_count": 77,
   "id": "8e75ef41-bedb-4504-8234-ad87e624a2b2",
   "metadata": {},
   "outputs": [
    {
     "data": {
      "text/html": [
       "<table class=\"simpletable\">\n",
       "<caption>ARIMA Model Results</caption>\n",
       "<tr>\n",
       "  <th>Dep. Variable:</th>   <td>D.passengers</td>   <th>  No. Observations:  </th>    <td>143</td>  \n",
       "</tr>\n",
       "<tr>\n",
       "  <th>Model:</th>          <td>ARIMA(2, 1, 2)</td>  <th>  Log Likelihood     </th> <td>-666.022</td>\n",
       "</tr>\n",
       "<tr>\n",
       "  <th>Method:</th>             <td>css-mle</td>     <th>  S.D. of innovations</th>  <td>24.712</td> \n",
       "</tr>\n",
       "<tr>\n",
       "  <th>Date:</th>          <td>Wed, 28 Jul 2021</td> <th>  AIC                </th> <td>1344.043</td>\n",
       "</tr>\n",
       "<tr>\n",
       "  <th>Time:</th>              <td>16:29:48</td>     <th>  BIC                </th> <td>1361.820</td>\n",
       "</tr>\n",
       "<tr>\n",
       "  <th>Sample:</th>           <td>02-01-1949</td>    <th>  HQIC               </th> <td>1351.267</td>\n",
       "</tr>\n",
       "<tr>\n",
       "  <th></th>                 <td>- 12-01-1960</td>   <th>                     </th>     <td> </td>   \n",
       "</tr>\n",
       "</table>\n",
       "<table class=\"simpletable\">\n",
       "<tr>\n",
       "           <td></td>             <th>coef</th>     <th>std err</th>      <th>z</th>      <th>P>|z|</th>  <th>[0.025</th>    <th>0.975]</th>  \n",
       "</tr>\n",
       "<tr>\n",
       "  <th>const</th>              <td>    2.5308</td> <td>    0.708</td> <td>    3.573</td> <td> 0.000</td> <td>    1.143</td> <td>    3.919</td>\n",
       "</tr>\n",
       "<tr>\n",
       "  <th>ar.L1.D.passengers</th> <td>    1.6477</td> <td>    0.033</td> <td>   49.934</td> <td> 0.000</td> <td>    1.583</td> <td>    1.712</td>\n",
       "</tr>\n",
       "<tr>\n",
       "  <th>ar.L2.D.passengers</th> <td>   -0.9094</td> <td>    0.033</td> <td>  -27.881</td> <td> 0.000</td> <td>   -0.973</td> <td>   -0.845</td>\n",
       "</tr>\n",
       "<tr>\n",
       "  <th>ma.L1.D.passengers</th> <td>   -1.9100</td> <td>    0.065</td> <td>  -29.498</td> <td> 0.000</td> <td>   -2.037</td> <td>   -1.783</td>\n",
       "</tr>\n",
       "<tr>\n",
       "  <th>ma.L2.D.passengers</th> <td>    0.9998</td> <td>    0.068</td> <td>   14.796</td> <td> 0.000</td> <td>    0.867</td> <td>    1.132</td>\n",
       "</tr>\n",
       "</table>\n",
       "<table class=\"simpletable\">\n",
       "<caption>Roots</caption>\n",
       "<tr>\n",
       "    <td></td>   <th>            Real</th>  <th>         Imaginary</th> <th>         Modulus</th>  <th>        Frequency</th>\n",
       "</tr>\n",
       "<tr>\n",
       "  <th>AR.1</th> <td>           0.9059</td> <td>          -0.5281j</td> <td>           1.0486</td> <td>          -0.0840</td>\n",
       "</tr>\n",
       "<tr>\n",
       "  <th>AR.2</th> <td>           0.9059</td> <td>          +0.5281j</td> <td>           1.0486</td> <td>           0.0840</td>\n",
       "</tr>\n",
       "<tr>\n",
       "  <th>MA.1</th> <td>           0.9551</td> <td>          -0.2964j</td> <td>           1.0001</td> <td>          -0.0479</td>\n",
       "</tr>\n",
       "<tr>\n",
       "  <th>MA.2</th> <td>           0.9551</td> <td>          +0.2964j</td> <td>           1.0001</td> <td>           0.0479</td>\n",
       "</tr>\n",
       "</table>"
      ],
      "text/plain": [
       "<class 'statsmodels.iolib.summary.Summary'>\n",
       "\"\"\"\n",
       "                             ARIMA Model Results                              \n",
       "==============================================================================\n",
       "Dep. Variable:           D.passengers   No. Observations:                  143\n",
       "Model:                 ARIMA(2, 1, 2)   Log Likelihood                -666.022\n",
       "Method:                       css-mle   S.D. of innovations             24.712\n",
       "Date:                Wed, 28 Jul 2021   AIC                           1344.043\n",
       "Time:                        16:29:48   BIC                           1361.820\n",
       "Sample:                    02-01-1949   HQIC                          1351.267\n",
       "                         - 12-01-1960                                         \n",
       "======================================================================================\n",
       "                         coef    std err          z      P>|z|      [0.025      0.975]\n",
       "--------------------------------------------------------------------------------------\n",
       "const                  2.5308      0.708      3.573      0.000       1.143       3.919\n",
       "ar.L1.D.passengers     1.6477      0.033     49.934      0.000       1.583       1.712\n",
       "ar.L2.D.passengers    -0.9094      0.033    -27.881      0.000      -0.973      -0.845\n",
       "ma.L1.D.passengers    -1.9100      0.065    -29.498      0.000      -2.037      -1.783\n",
       "ma.L2.D.passengers     0.9998      0.068     14.796      0.000       0.867       1.132\n",
       "                                    Roots                                    \n",
       "=============================================================================\n",
       "                  Real          Imaginary           Modulus         Frequency\n",
       "-----------------------------------------------------------------------------\n",
       "AR.1            0.9059           -0.5281j            1.0486           -0.0840\n",
       "AR.2            0.9059           +0.5281j            1.0486            0.0840\n",
       "MA.1            0.9551           -0.2964j            1.0001           -0.0479\n",
       "MA.2            0.9551           +0.2964j            1.0001            0.0479\n",
       "-----------------------------------------------------------------------------\n",
       "\"\"\""
      ]
     },
     "execution_count": 77,
     "metadata": {},
     "output_type": "execute_result"
    }
   ],
   "source": [
    "rfit.summary()"
   ]
  },
  {
   "cell_type": "markdown",
   "id": "8eff1f23-9f9b-471f-87b9-8d4f82245755",
   "metadata": {},
   "source": [
    "ARIMA(2,1,2)\n",
    "\\begin{equation}\n",
    "y_t = 1.6477 y'_{t-1} -0.9094 y'_{t-2} + e_t -1.9101e_{t-1} +0.9999e_{t-2}\n",
    "\\end{equation}\n",
    "</h3>\n",
    "를 따르는 ARIMA모델임을 확인할 수 있다. # 구해준 weight 값\n"
   ]
  },
  {
   "cell_type": "code",
   "execution_count": 79,
   "id": "0ffddf72-b7b7-454a-ab85-cc387524826f",
   "metadata": {},
   "outputs": [
    {
     "data": {
      "text/plain": [
       "1344.0433898318547"
      ]
     },
     "execution_count": 79,
     "metadata": {},
     "output_type": "execute_result"
    }
   ],
   "source": [
    "rfit.aic"
   ]
  },
  {
   "cell_type": "code",
   "execution_count": 80,
   "id": "b57a836b-41c1-49c5-8497-64359efa658f",
   "metadata": {},
   "outputs": [],
   "source": [
    "def arima_aic_check(data, order,sort = 'AIC'):\n",
    "    order_list = []\n",
    "    aic_list = []\n",
    "    bic_lsit = []\n",
    "    for p in range(order[0]):\n",
    "        for d in range(order[1]):\n",
    "            for q in range(order[2]):\n",
    "                model = ARIMA(data, order=(p,d,q))\n",
    "                try:\n",
    "                    model_fit = model.fit()\n",
    "                    c_order = f'p:{p} d:{d} q:{q}'\n",
    "                    aic = model_fit.aic\n",
    "                    bic = model_fit.bic\n",
    "                    order_list.append(c_order)\n",
    "                    aic_list.append(aic)\n",
    "                    bic_list.append(bic)\n",
    "                except:\n",
    "                    pass\n",
    "    result_df = pd.DataFrame(list(zip(order_list, aic_list)),columns=['order','AIC'])\n",
    "    result_df.sort_values(sort, inplace=True)\n",
    "    return result_df"
   ]
  },
  {
   "cell_type": "code",
   "execution_count": 81,
   "id": "4f0801d7-4c97-4ddb-be54-de1d112d021f",
   "metadata": {},
   "outputs": [
    {
     "data": {
      "text/html": [
       "<div>\n",
       "<style scoped>\n",
       "    .dataframe tbody tr th:only-of-type {\n",
       "        vertical-align: middle;\n",
       "    }\n",
       "\n",
       "    .dataframe tbody tr th {\n",
       "        vertical-align: top;\n",
       "    }\n",
       "\n",
       "    .dataframe thead th {\n",
       "        text-align: right;\n",
       "    }\n",
       "</style>\n",
       "<table border=\"1\" class=\"dataframe\">\n",
       "  <thead>\n",
       "    <tr style=\"text-align: right;\">\n",
       "      <th></th>\n",
       "      <th>order</th>\n",
       "      <th>AIC</th>\n",
       "    </tr>\n",
       "  </thead>\n",
       "  <tbody>\n",
       "    <tr>\n",
       "      <th>21</th>\n",
       "      <td>p:2 d:1 q:2</td>\n",
       "      <td>1344.043390</td>\n",
       "    </tr>\n",
       "    <tr>\n",
       "      <th>20</th>\n",
       "      <td>p:2 d:1 q:1</td>\n",
       "      <td>1361.695814</td>\n",
       "    </tr>\n",
       "    <tr>\n",
       "      <th>13</th>\n",
       "      <td>p:1 d:1 q:2</td>\n",
       "      <td>1371.815374</td>\n",
       "    </tr>\n",
       "    <tr>\n",
       "      <th>15</th>\n",
       "      <td>p:1 d:2 q:2</td>\n",
       "      <td>1393.908442</td>\n",
       "    </tr>\n",
       "    <tr>\n",
       "      <th>23</th>\n",
       "      <td>p:2 d:2 q:2</td>\n",
       "      <td>1394.656208</td>\n",
       "    </tr>\n",
       "    <tr>\n",
       "      <th>7</th>\n",
       "      <td>p:0 d:2 q:2</td>\n",
       "      <td>1396.371696</td>\n",
       "    </tr>\n",
       "    <tr>\n",
       "      <th>19</th>\n",
       "      <td>p:2 d:1 q:0</td>\n",
       "      <td>1397.975152</td>\n",
       "    </tr>\n",
       "    <tr>\n",
       "      <th>4</th>\n",
       "      <td>p:0 d:1 q:2</td>\n",
       "      <td>1398.385532</td>\n",
       "    </tr>\n",
       "    <tr>\n",
       "      <th>3</th>\n",
       "      <td>p:0 d:1 q:1</td>\n",
       "      <td>1398.827110</td>\n",
       "    </tr>\n",
       "    <tr>\n",
       "      <th>12</th>\n",
       "      <td>p:1 d:1 q:1</td>\n",
       "      <td>1402.145400</td>\n",
       "    </tr>\n",
       "    <tr>\n",
       "      <th>11</th>\n",
       "      <td>p:1 d:1 q:0</td>\n",
       "      <td>1403.472861</td>\n",
       "    </tr>\n",
       "    <tr>\n",
       "      <th>17</th>\n",
       "      <td>p:2 d:0 q:1</td>\n",
       "      <td>1408.249223</td>\n",
       "    </tr>\n",
       "    <tr>\n",
       "      <th>9</th>\n",
       "      <td>p:1 d:0 q:1</td>\n",
       "      <td>1409.748270</td>\n",
       "    </tr>\n",
       "    <tr>\n",
       "      <th>10</th>\n",
       "      <td>p:1 d:0 q:2</td>\n",
       "      <td>1411.050254</td>\n",
       "    </tr>\n",
       "    <tr>\n",
       "      <th>6</th>\n",
       "      <td>p:0 d:2 q:1</td>\n",
       "      <td>1413.362709</td>\n",
       "    </tr>\n",
       "    <tr>\n",
       "      <th>16</th>\n",
       "      <td>p:2 d:0 q:0</td>\n",
       "      <td>1413.638784</td>\n",
       "    </tr>\n",
       "    <tr>\n",
       "      <th>2</th>\n",
       "      <td>p:0 d:1 q:0</td>\n",
       "      <td>1415.277587</td>\n",
       "    </tr>\n",
       "    <tr>\n",
       "      <th>18</th>\n",
       "      <td>p:2 d:0 q:2</td>\n",
       "      <td>1427.039792</td>\n",
       "    </tr>\n",
       "    <tr>\n",
       "      <th>8</th>\n",
       "      <td>p:1 d:0 q:0</td>\n",
       "      <td>1428.179379</td>\n",
       "    </tr>\n",
       "    <tr>\n",
       "      <th>22</th>\n",
       "      <td>p:2 d:2 q:0</td>\n",
       "      <td>1442.077736</td>\n",
       "    </tr>\n",
       "    <tr>\n",
       "      <th>14</th>\n",
       "      <td>p:1 d:2 q:0</td>\n",
       "      <td>1449.026002</td>\n",
       "    </tr>\n",
       "    <tr>\n",
       "      <th>5</th>\n",
       "      <td>p:0 d:2 q:0</td>\n",
       "      <td>1452.590161</td>\n",
       "    </tr>\n",
       "    <tr>\n",
       "      <th>1</th>\n",
       "      <td>p:0 d:0 q:1</td>\n",
       "      <td>1618.862527</td>\n",
       "    </tr>\n",
       "    <tr>\n",
       "      <th>0</th>\n",
       "      <td>p:0 d:0 q:0</td>\n",
       "      <td>1790.367580</td>\n",
       "    </tr>\n",
       "  </tbody>\n",
       "</table>\n",
       "</div>"
      ],
      "text/plain": [
       "          order          AIC\n",
       "21  p:2 d:1 q:2  1344.043390\n",
       "20  p:2 d:1 q:1  1361.695814\n",
       "13  p:1 d:1 q:2  1371.815374\n",
       "15  p:1 d:2 q:2  1393.908442\n",
       "23  p:2 d:2 q:2  1394.656208\n",
       "7   p:0 d:2 q:2  1396.371696\n",
       "19  p:2 d:1 q:0  1397.975152\n",
       "4   p:0 d:1 q:2  1398.385532\n",
       "3   p:0 d:1 q:1  1398.827110\n",
       "12  p:1 d:1 q:1  1402.145400\n",
       "11  p:1 d:1 q:0  1403.472861\n",
       "17  p:2 d:0 q:1  1408.249223\n",
       "9   p:1 d:0 q:1  1409.748270\n",
       "10  p:1 d:0 q:2  1411.050254\n",
       "6   p:0 d:2 q:1  1413.362709\n",
       "16  p:2 d:0 q:0  1413.638784\n",
       "2   p:0 d:1 q:0  1415.277587\n",
       "18  p:2 d:0 q:2  1427.039792\n",
       "8   p:1 d:0 q:0  1428.179379\n",
       "22  p:2 d:2 q:0  1442.077736\n",
       "14  p:1 d:2 q:0  1449.026002\n",
       "5   p:0 d:2 q:0  1452.590161\n",
       "1   p:0 d:0 q:1  1618.862527\n",
       "0   p:0 d:0 q:0  1790.367580"
      ]
     },
     "execution_count": 81,
     "metadata": {},
     "output_type": "execute_result"
    }
   ],
   "source": [
    "arima_aic_check( airDF, [3,3,3] ) # AIC가 가장 작은 값을 가장 적합한 모델로 봄.\n",
    "# 결론은 뭐냐? non/stationary 확인했으면 ARIMA쪽에 파라미터를 얼마나 줘야하는가? 위의 함수에 넣어서 최적의 값을 찾는 것."
   ]
  },
  {
   "cell_type": "code",
   "execution_count": 82,
   "id": "476ecfb2-d5c1-473f-b369-0a05b149a14c",
   "metadata": {},
   "outputs": [
    {
     "data": {
      "text/plain": [
       "1949-02-01    114.530757\n",
       "1949-03-01    121.350748\n",
       "1949-04-01    137.221457\n",
       "1949-05-01    129.789092\n",
       "1949-06-01    119.168608\n",
       "1949-07-01    136.761944\n",
       "1949-08-01    149.738605\n",
       "1949-09-01    147.366526\n",
       "1949-10-01    134.797514\n",
       "1949-11-01    121.075654\n",
       "Freq: MS, dtype: float64"
      ]
     },
     "execution_count": 82,
     "metadata": {},
     "output_type": "execute_result"
    }
   ],
   "source": [
    "rfit.predict(1, 10, typ='levels') # 잘안씀"
   ]
  },
  {
   "cell_type": "code",
   "execution_count": 83,
   "id": "911327e1-d06c-44df-8ea9-badc09f56745",
   "metadata": {},
   "outputs": [
    {
     "data": {
      "text/plain": [
       "1950-01-01    131.475133\n",
       "1950-02-01    132.057210\n",
       "1950-03-01    143.952499\n",
       "1950-04-01    156.327486\n",
       "1950-05-01    147.709413\n",
       "1950-06-01    136.540833\n",
       "1950-07-01    155.852622\n",
       "1950-08-01    168.938373\n",
       "1950-09-01    162.269454\n",
       "1950-10-01    147.631481\n",
       "1950-11-01    126.284860\n",
       "1950-12-01    115.223830\n",
       "Freq: MS, dtype: float64"
      ]
     },
     "execution_count": 83,
     "metadata": {},
     "output_type": "execute_result"
    }
   ],
   "source": [
    "rfit.predict('1950-01-01', '1950-12-01', typ='levels') # 연도는 datetime형이어야 한다."
   ]
  },
  {
   "cell_type": "code",
   "execution_count": 91,
   "id": "283286f3-640c-49a6-aa8c-877cc3c34a03",
   "metadata": {},
   "outputs": [],
   "source": [
    "# 미래예측을 해볼까?\n",
    "preds = rfit.predict('1960-07-01', '1961-12-01', typ='levels')"
   ]
  },
  {
   "cell_type": "code",
   "execution_count": 92,
   "id": "14039a18-f74b-47f9-9694-3fe43307c3f5",
   "metadata": {},
   "outputs": [],
   "source": [
    "train = airDF[:'1960-07-01']\n",
    "test = airDF['1960-07-01':]\n"
   ]
  },
  {
   "cell_type": "code",
   "execution_count": 93,
   "id": "6861356a-21c0-4841-a9da-67b247efcc2b",
   "metadata": {},
   "outputs": [
    {
     "data": {
      "image/png": "[encoded data removed]",
      "text/plain": [
       "<Figure size 432x288 with 1 Axes>"
      ]
     },
     "metadata": {
      "needs_background": "light"
     },
     "output_type": "display_data"
    }
   ],
   "source": [
    "plt.plot(train)\n",
    "plt.plot(test)\n",
    "plt.plot(preds, 'r--')\n",
    "plt.show()"
   ]
  },
  {
   "cell_type": "code",
   "execution_count": null,
   "id": "65196d4d-bbd1-4dfd-a5f1-4c2827540a13",
   "metadata": {},
   "outputs": [],
   "source": []
  }
 ],
 "metadata": {
  "kernelspec": {
   "display_name": "Python 3",
   "language": "python",
   "name": "python3"
  },
  "language_info": {
   "codemirror_mode": {
    "name": "ipython",
    "version": 3
   },
   "file_extension": ".py",
   "mimetype": "text/x-python",
   "name": "python",
   "nbconvert_exporter": "python",
   "pygments_lexer": "ipython3",
   "version": "3.8.8"
  }
 },
 "nbformat": 4,
 "nbformat_minor": 5
}
