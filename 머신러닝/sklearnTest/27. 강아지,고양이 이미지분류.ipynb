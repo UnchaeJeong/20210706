{
 "cells": [
  {
   "cell_type": "markdown",
   "id": "f4fc1dc3-2e70-422c-810e-bfe73a38b871",
   "metadata": {},
   "source": [
    "---\n",
    "---\n",
    "## 이미지 픽셀값 읽어오기\n",
    "- 디렉토리 이미지 가져오기"
   ]
  },
  {
   "cell_type": "code",
   "execution_count": 1,
   "id": "2370dde2-1cf3-47da-b4b2-fca7225ae234",
   "metadata": {},
   "outputs": [],
   "source": [
    "import numpy as np \n",
    "import pandas as pd \n",
    "import seaborn as sns\n",
    "import matplotlib.pyplot as plt\n",
    "import mglearn\n",
    "from sklearn.model_selection import train_test_split\n",
    "from sklearn.neural_network import MLPClassifier\n",
    "from sklearn.linear_model import LogisticRegression\n",
    "\n",
    "from tensorflow.keras.preprocessing.image import ImageDataGenerator, load_img, img_to_array # 픽셀값을 얻어오는데 그걸 처리해줌. # 이미지로드 # 이미지 객체 픽셀로 변환\n",
    "\n",
    "import warnings\n",
    "warnings.simplefilter('ignore')\n"
   ]
  },
  {
   "cell_type": "code",
   "execution_count": 2,
   "id": "2ba75388-3b22-46a3-b198-ebd77a51d7b0",
   "metadata": {},
   "outputs": [
    {
     "name": "stdout",
     "output_type": "stream",
     "text": [
      "Found 33 images belonging to 2 classes.\n"
     ]
    }
   ],
   "source": [
    "data_generator = ImageDataGenerator(rescale = 1./255) # 단위를 pixel값으로 스케일링 해준다는 의미.\n",
    "traingen = data_generator.flow_from_directory('myimg', target_size=(98,98),\n",
    "                                              class_mode='sparse', seed=1)\n",
    "# target_size 불러올 사진 사이즈 \n",
    "# class_mode  # default인 categorical로 나오면 ohe으로 추출. label encoding = 'sparse'(binary)\n",
    "# 랜덤값으로 주는데 seed=1 시드값을 줬기 떄문에 강사님이랑 똑같은 랜덤이 나올 것. random_state랑 비슷한듯"
   ]
  },
  {
   "cell_type": "markdown",
   "id": "472fb04b-369d-447b-8293-ae23dcf4a4cf",
   "metadata": {},
   "source": [
    "## 구분"
   ]
  },
  {
   "cell_type": "code",
   "execution_count": 3,
   "id": "9043ee71-afa7-4a4f-8caa-8fb7afad610c",
   "metadata": {},
   "outputs": [
    {
     "data": {
      "text/plain": [
       "{'cat': 0, 'dog': 1}"
      ]
     },
     "execution_count": 3,
     "metadata": {},
     "output_type": "execute_result"
    }
   ],
   "source": [
    "traingen.class_indices"
   ]
  },
  {
   "cell_type": "markdown",
   "id": "7e567ed0-dfae-45fb-be06-601b5fae30f0",
   "metadata": {},
   "source": [
    "## train 데이터 = traingen.next()"
   ]
  },
  {
   "cell_type": "code",
   "execution_count": 4,
   "id": "fb3d330e-9a09-4bf1-b7de-9dadedd55b7d",
   "metadata": {},
   "outputs": [],
   "source": [
    "x_train, y_train = traingen.next()"
   ]
  },
  {
   "cell_type": "markdown",
   "id": "58f56535-386c-4aaa-a784-581b63a0c69a",
   "metadata": {},
   "source": [
    "###### x_train.shape확인"
   ]
  },
  {
   "cell_type": "code",
   "execution_count": 5,
   "id": "93687687-0fdf-427f-807f-5b0e25a2e198",
   "metadata": {},
   "outputs": [
    {
     "data": {
      "text/plain": [
       "(32, 98, 98, 3)"
      ]
     },
     "execution_count": 5,
     "metadata": {},
     "output_type": "execute_result"
    }
   ],
   "source": [
    "x_train.shape\n",
    "# 4차원\n",
    "# 32개 데이터(이미지)\n",
    "# 98x98\n",
    "# 요 이미지가 3(RGB)이다.\n",
    "# 이렇게 이미지 픽셀 값을 읽어온것."
   ]
  },
  {
   "cell_type": "code",
   "execution_count": 6,
   "id": "26a36c8f-df63-4c83-8087-6c0a2266a4a6",
   "metadata": {},
   "outputs": [
    {
     "data": {
      "text/plain": [
       "array([0., 1., 0., 1., 1., 1., 1., 1., 1., 1., 1., 1., 0., 0., 1., 1., 0.,\n",
       "       1., 1., 1., 0., 0., 0., 1., 0., 1., 0., 0., 0., 0., 0., 0.],\n",
       "      dtype=float32)"
      ]
     },
     "execution_count": 6,
     "metadata": {},
     "output_type": "execute_result"
    }
   ],
   "source": [
    "y_train"
   ]
  },
  {
   "cell_type": "markdown",
   "id": "fa6f8992-8c10-4176-a261-280d08d67231",
   "metadata": {},
   "source": [
    "---\n",
    "## x_data 2차원 데이터로 변환\n",
    "\n",
    "- x_data.reshape"
   ]
  },
  {
   "cell_type": "code",
   "execution_count": 7,
   "id": "a44caf6b-05f7-473d-9d9b-5f5dffa5af61",
   "metadata": {},
   "outputs": [],
   "source": [
    "x_data = x_train.reshape(32,-1) # rgb가 3차원 -> 계산하려면 2차원데이터로 변환."
   ]
  },
  {
   "cell_type": "code",
   "execution_count": 8,
   "id": "044073b7-d311-48c1-afed-95ba2b866eb5",
   "metadata": {},
   "outputs": [
    {
     "data": {
      "text/plain": [
       "(32, 28812)"
      ]
     },
     "execution_count": 8,
     "metadata": {},
     "output_type": "execute_result"
    }
   ],
   "source": [
    "x_data.shape"
   ]
  },
  {
   "cell_type": "markdown",
   "id": "d64cb76c-84a4-4007-be0d-cf5742f4e89d",
   "metadata": {},
   "source": [
    "## MLPClassifier() , model.fit"
   ]
  },
  {
   "cell_type": "code",
   "execution_count": 9,
   "id": "1c1f3345-3c11-4a4e-93db-238d7aeb006b",
   "metadata": {
    "tags": []
   },
   "outputs": [
    {
     "name": "stdout",
     "output_type": "stream",
     "text": [
      "Iteration 1, loss = 0.70513249\n",
      "Iteration 2, loss = 7.47331045\n",
      "Iteration 3, loss = 3.76528727\n",
      "Iteration 4, loss = 8.46971443\n",
      "Iteration 5, loss = 8.46971827\n",
      "Iteration 6, loss = 8.46972230\n",
      "Iteration 7, loss = 8.46318606\n",
      "Iteration 8, loss = 8.20341323\n",
      "Iteration 9, loss = 6.36253253\n",
      "Iteration 10, loss = 1.85212564\n",
      "Iteration 11, loss = 0.69769078\n",
      "Iteration 12, loss = 0.69890256\n",
      "Iteration 13, loss = 0.69886814\n",
      "Iteration 14, loss = 0.69883634\n",
      "Iteration 15, loss = 0.69880665\n",
      "Iteration 16, loss = 0.69877888\n",
      "Iteration 17, loss = 0.69875276\n",
      "Iteration 18, loss = 0.69872802\n",
      "Iteration 19, loss = 0.69870452\n",
      "Iteration 20, loss = 0.69868207\n",
      "Iteration 21, loss = 0.69866048\n",
      "Iteration 22, loss = 0.69863989\n",
      "Training loss did not improve more than tol=0.000100 for 10 consecutive epochs. Stopping.\n"
     ]
    },
    {
     "data": {
      "text/plain": [
       "MLPClassifier(verbose=1)"
      ]
     },
     "execution_count": 9,
     "metadata": {},
     "output_type": "execute_result"
    }
   ],
   "source": [
    "model = MLPClassifier(verbose=1) # 히든레이어 디폴트(추가하면 됨), 학습맥스가 200\n",
    "model.fit(x_data,y_train) # 2차원으로 줘야되니 위의 블록으로 돌아가서 reshape을 진행"
   ]
  },
  {
   "cell_type": "markdown",
   "id": "9968ec6e-4a61-4d6e-b8b7-e0a88a3631f1",
   "metadata": {},
   "source": [
    "## model.score 확인"
   ]
  },
  {
   "cell_type": "code",
   "execution_count": 10,
   "id": "e1eaf8f3-4c6b-42f1-a1bd-42dcd8a4e4a9",
   "metadata": {},
   "outputs": [
    {
     "data": {
      "text/plain": [
       "0.46875"
      ]
     },
     "execution_count": 10,
     "metadata": {},
     "output_type": "execute_result"
    }
   ],
   "source": [
    "model.score(x_data, y_train)"
   ]
  },
  {
   "cell_type": "markdown",
   "id": "d125f63e-27d9-47db-8b93-752739e95a14",
   "metadata": {},
   "source": [
    "## 이미지 읽어오기 load_img"
   ]
  },
  {
   "cell_type": "code",
   "execution_count": 11,
   "id": "a64918cf-3375-4cb2-8752-4ec91b1c1364",
   "metadata": {},
   "outputs": [],
   "source": [
    "from tensorflow.keras.preprocessing.image import load_img"
   ]
  },
  {
   "cell_type": "code",
   "execution_count": 22,
   "id": "b5cc2493-949e-4e0c-aa26-1f5925ccc684",
   "metadata": {},
   "outputs": [
    {
     "data": {
      "image/png": "[encoded data removed]",
      "text/plain": [
       "<PIL.Image.Image image mode=RGB size=98x98 at 0x226BEED53D0>"
      ]
     },
     "execution_count": 22,
     "metadata": {},
     "output_type": "execute_result"
    }
   ],
   "source": [
    "imgData=load_img('./img/kim.jpg', target_size=(98,98))\n",
    "imgData"
   ]
  },
  {
   "cell_type": "code",
   "execution_count": 23,
   "id": "1a66e97f-353e-4433-afcb-b6da70d76194",
   "metadata": {},
   "outputs": [
    {
     "data": {
      "text/plain": [
       "PIL.Image.Image"
      ]
     },
     "execution_count": 23,
     "metadata": {},
     "output_type": "execute_result"
    }
   ],
   "source": [
    "type(imgData)"
   ]
  },
  {
   "cell_type": "markdown",
   "id": "0c1773af-4388-4c07-bb90-d06d46eaeef0",
   "metadata": {},
   "source": [
    "## testImg ndarray로 변환"
   ]
  },
  {
   "cell_type": "code",
   "execution_count": 24,
   "id": "669712fd-e4f1-44a6-ab8c-3a1deeef2d8f",
   "metadata": {},
   "outputs": [],
   "source": [
    "testImg = img_to_array(imgData)/255"
   ]
  },
  {
   "cell_type": "code",
   "execution_count": 25,
   "id": "5d68a59f-93bd-46c9-94bd-9494a937670a",
   "metadata": {},
   "outputs": [
    {
     "data": {
      "text/plain": [
       "(98, 98, 3)"
      ]
     },
     "execution_count": 25,
     "metadata": {},
     "output_type": "execute_result"
    }
   ],
   "source": [
    "# shape 확인\n",
    "testImg.shape"
   ]
  },
  {
   "cell_type": "markdown",
   "id": "d4bba60c-a9c4-43bc-a099-f9a174223f2c",
   "metadata": {},
   "source": [
    "## 모델 예측 testImg ndarray"
   ]
  },
  {
   "cell_type": "code",
   "execution_count": 26,
   "id": "6843b5e4-c68f-4730-b693-47696d140cf0",
   "metadata": {},
   "outputs": [
    {
     "data": {
      "text/plain": [
       "array([0.], dtype=float32)"
      ]
     },
     "execution_count": 26,
     "metadata": {},
     "output_type": "execute_result"
    }
   ],
   "source": [
    "model.predict(testImg.reshape(1,-1) )"
   ]
  },
  {
   "cell_type": "markdown",
   "id": "4ed679bd-6b5a-4459-afe8-65e64fb231b2",
   "metadata": {},
   "source": [
    "---\n",
    "## 모델 저장 (최종적으로 커스터마이징. 이걸로 반복하면 됨)"
   ]
  },
  {
   "cell_type": "code",
   "execution_count": 27,
   "id": "c0341530-6c33-46b8-8dbe-f77d4490e1b7",
   "metadata": {},
   "outputs": [],
   "source": [
    "import joblib"
   ]
  },
  {
   "cell_type": "code",
   "execution_count": 28,
   "id": "0b65be8f-ee81-4da9-9e76-d5529dcc7bd2",
   "metadata": {},
   "outputs": [],
   "source": [
    "# from sklearn.extrernais import job"
   ]
  },
  {
   "cell_type": "code",
   "execution_count": 29,
   "id": "0261d0ab-50a4-41cc-a31c-9949f9dbd2fc",
   "metadata": {},
   "outputs": [
    {
     "data": {
      "text/plain": [
       "['catdog.pkl']"
      ]
     },
     "execution_count": 29,
     "metadata": {},
     "output_type": "execute_result"
    }
   ],
   "source": [
    "joblib.dump(model, 'catdog.pkl')"
   ]
  },
  {
   "cell_type": "markdown",
   "id": "21535fb5-884c-439f-a7ce-2b1e7222ee81",
   "metadata": {},
   "source": [
    "## 모델 읽기 (joblib.load 후 predict예측)"
   ]
  },
  {
   "cell_type": "code",
   "execution_count": 30,
   "id": "0e8d30ab-5fc8-45a4-9b69-e5c4be6cebdf",
   "metadata": {},
   "outputs": [],
   "source": [
    "mymodel = joblib.load('catdog.pkl')"
   ]
  },
  {
   "cell_type": "code",
   "execution_count": 31,
   "id": "4cc8e5ba-f03f-4a05-b8c2-69c5fc118d76",
   "metadata": {},
   "outputs": [
    {
     "data": {
      "text/plain": [
       "array([0.], dtype=float32)"
      ]
     },
     "execution_count": 31,
     "metadata": {},
     "output_type": "execute_result"
    }
   ],
   "source": [
    "mymodel.predict( testImg.reshape(1,-1))"
   ]
  }
 ],
 "metadata": {
  "kernelspec": {
   "display_name": "Python 3",
   "language": "python",
   "name": "python3"
  },
  "language_info": {
   "codemirror_mode": {
    "name": "ipython",
    "version": 3
   },
   "file_extension": ".py",
   "mimetype": "text/x-python",
   "name": "python",
   "nbconvert_exporter": "python",
   "pygments_lexer": "ipython3",
   "version": "3.8.8"
  },
  "toc-autonumbering": true
 },
 "nbformat": 4,
 "nbformat_minor": 5
}
