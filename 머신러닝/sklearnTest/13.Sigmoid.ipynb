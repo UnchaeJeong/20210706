{
 "cells": [
  {
   "cell_type": "code",
   "execution_count": 1,
   "id": "1db03118-8737-4e84-808f-9af3b927c0e3",
   "metadata": {},
   "outputs": [],
   "source": [
    "import numpy as np\n",
    "import math\n",
    "import matplotlib.pyplot as plt\n"
   ]
  },
  {
   "cell_type": "code",
   "execution_count": 2,
   "id": "bae74b41-b9fd-4f37-8e80-bb1d40a85ed7",
   "metadata": {},
   "outputs": [
    {
     "name": "stdout",
     "output_type": "stream",
     "text": [
      "4\n",
      "8\n",
      "0.25\n",
      "0.125\n"
     ]
    }
   ],
   "source": [
    "print(2**2)\n",
    "print(2**3)\n",
    "print(2**-2)\n",
    "print(2**-3)"
   ]
  },
  {
   "cell_type": "code",
   "execution_count": 3,
   "id": "de1ebb89-e101-4401-b10d-00264fccf71b",
   "metadata": {},
   "outputs": [
    {
     "data": {
      "text/plain": [
       "2.718281828459045"
      ]
     },
     "execution_count": 3,
     "metadata": {},
     "output_type": "execute_result"
    }
   ],
   "source": [
    "math.e # math라는 모듈에 e를 찍으면 생기는 수"
   ]
  },
  {
   "cell_type": "markdown",
   "id": "d0f45dee-dda2-4caa-a46c-31a2b3d9107c",
   "metadata": {},
   "source": [
    "시그모이드. pass or fail.\n",
    "\n",
    "예측곡선을 선형으로 바꿔주는 시그모이드. 이진분류에서 사용하는 예측곡선"
   ]
  },
  {
   "cell_type": "code",
   "execution_count": 5,
   "id": "aa79b6f1-19b5-4b0e-86de-6dd2d0aaf0ce",
   "metadata": {},
   "outputs": [],
   "source": [
    "def sigmoid(z):\n",
    "    return 1/(1+math.e**-z)"
   ]
  },
  {
   "cell_type": "code",
   "execution_count": 6,
   "id": "91499416-e7ca-4856-958a-26f549199908",
   "metadata": {},
   "outputs": [
    {
     "name": "stdout",
     "output_type": "stream",
     "text": [
      "4.539786870243442e-05\n",
      "0.2689414213699951\n",
      "0.5\n",
      "0.7310585786300049\n",
      "0.9999546021312976\n",
      "0.9999999979388463\n"
     ]
    }
   ],
   "source": [
    "print(sigmoid(-10))\n",
    "print(sigmoid(-1))\n",
    "print(sigmoid(0))\n",
    "print(sigmoid(1))\n",
    "print(sigmoid(10))\n",
    "print(sigmoid(20))"
   ]
  },
  {
   "cell_type": "code",
   "execution_count": 8,
   "id": "f1e6e1cb-5499-426a-aa7d-8948e0a5012e",
   "metadata": {
    "tags": []
   },
   "outputs": [
    {
     "data": {
      "image/png": "[encoded data removed]",
      "text/plain": [
       "<Figure size 432x288 with 1 Axes>"
      ]
     },
     "metadata": {
      "needs_background": "light"
     },
     "output_type": "display_data"
    }
   ],
   "source": [
    "for z in np.linspace(-10,10,50):\n",
    "    s = sigmoid(z)\n",
    "    plt.plot(z, s, 'ro')\n",
    "plt.show()\n",
    "# 0<sigmoid<1\n",
    "# 예측 곡선 사용\n",
    "# regression이 붙는 이유는 "
   ]
  },
  {
   "cell_type": "code",
   "execution_count": null,
   "id": "3dc78a35-a80c-440a-a297-c465b645b3c1",
   "metadata": {},
   "outputs": [],
   "source": []
  }
 ],
 "metadata": {
  "kernelspec": {
   "display_name": "Python 3",
   "language": "python",
   "name": "python3"
  },
  "language_info": {
   "codemirror_mode": {
    "name": "ipython",
    "version": 3
   },
   "file_extension": ".py",
   "mimetype": "text/x-python",
   "name": "python",
   "nbconvert_exporter": "python",
   "pygments_lexer": "ipython3",
   "version": "3.8.8"
  }
 },
 "nbformat": 4,
 "nbformat_minor": 5
}
