{
 "cells": [
  {
   "cell_type": "markdown",
   "id": "f4264f4e-dc78-441f-96aa-9119bb564334",
   "metadata": {},
   "source": [
    "# 추가된 패키지\n",
    "* from sklearn.preprocessing import StandardScaler, MinMaxScaler\n",
    "* from sklearn.pipeline import make_pipeline"
   ]
  },
  {
   "cell_type": "code",
   "execution_count": 1,
   "id": "adc8e4d0-140f-4603-b04b-62677b0c55a4",
   "metadata": {},
   "outputs": [],
   "source": [
    "import pandas as pd\n",
    "import numpy as np\n",
    "from sklearn.linear_model import LinearRegression, SGDRegressor\n",
    "from sklearn.metrics import r2_score# 선형 모델(Linear Models)\n",
    "from sklearn.datasets import load_boston, load_iris\n",
    "from sklearn.preprocessing import StandardScaler, MinMaxScaler\n",
    "from sklearn.model_selection import train_test_split, cross_val_score\n",
    "from sklearn.pipeline import make_pipeline\n",
    "import matplotlib.pyplot as plt\n",
    "import matplotlib\n",
    "matplotlib.rcParams['font.family']='Malgun Gothic'\n",
    "matplotlib.rcParams['axes.unicode_minus'] = False"
   ]
  },
  {
   "cell_type": "markdown",
   "id": "d565207f-4796-495a-bf42-b3b8b7113e2d",
   "metadata": {},
   "source": [
    "## 보스턴 데이터 가져오기"
   ]
  },
  {
   "cell_type": "code",
   "execution_count": 2,
   "id": "5ea3fc78-489e-4b66-9e13-27e80001959e",
   "metadata": {},
   "outputs": [],
   "source": [
    "boston = load_boston()"
   ]
  },
  {
   "cell_type": "markdown",
   "id": "63300dda-d168-458f-9b71-88271e86584c",
   "metadata": {},
   "source": [
    "## 보스턴 데이터 프레임으로 만들기"
   ]
  },
  {
   "cell_type": "code",
   "execution_count": 15,
   "id": "6d0ba99f-8774-4747-b6d0-ee5a44e0c0ed",
   "metadata": {
    "tags": []
   },
   "outputs": [
    {
     "data": {
      "text/html": [
       "<div>\n",
       "<style scoped>\n",
       "    .dataframe tbody tr th:only-of-type {\n",
       "        vertical-align: middle;\n",
       "    }\n",
       "\n",
       "    .dataframe tbody tr th {\n",
       "        vertical-align: top;\n",
       "    }\n",
       "\n",
       "    .dataframe thead th {\n",
       "        text-align: right;\n",
       "    }\n",
       "</style>\n",
       "<table border=\"1\" class=\"dataframe\">\n",
       "  <thead>\n",
       "    <tr style=\"text-align: right;\">\n",
       "      <th></th>\n",
       "      <th>CRIM</th>\n",
       "      <th>ZN</th>\n",
       "      <th>INDUS</th>\n",
       "      <th>CHAS</th>\n",
       "      <th>NOX</th>\n",
       "      <th>RM</th>\n",
       "      <th>AGE</th>\n",
       "      <th>DIS</th>\n",
       "      <th>RAD</th>\n",
       "      <th>TAX</th>\n",
       "      <th>PTRATIO</th>\n",
       "      <th>B</th>\n",
       "      <th>LSTAT</th>\n",
       "      <th>MEDV</th>\n",
       "    </tr>\n",
       "  </thead>\n",
       "  <tbody>\n",
       "    <tr>\n",
       "      <th>0</th>\n",
       "      <td>0.00632</td>\n",
       "      <td>18.0</td>\n",
       "      <td>2.31</td>\n",
       "      <td>0.0</td>\n",
       "      <td>0.538</td>\n",
       "      <td>6.575</td>\n",
       "      <td>65.2</td>\n",
       "      <td>4.0900</td>\n",
       "      <td>1.0</td>\n",
       "      <td>296.0</td>\n",
       "      <td>15.3</td>\n",
       "      <td>396.90</td>\n",
       "      <td>4.98</td>\n",
       "      <td>24.0</td>\n",
       "    </tr>\n",
       "    <tr>\n",
       "      <th>1</th>\n",
       "      <td>0.02731</td>\n",
       "      <td>0.0</td>\n",
       "      <td>7.07</td>\n",
       "      <td>0.0</td>\n",
       "      <td>0.469</td>\n",
       "      <td>6.421</td>\n",
       "      <td>78.9</td>\n",
       "      <td>4.9671</td>\n",
       "      <td>2.0</td>\n",
       "      <td>242.0</td>\n",
       "      <td>17.8</td>\n",
       "      <td>396.90</td>\n",
       "      <td>9.14</td>\n",
       "      <td>21.6</td>\n",
       "    </tr>\n",
       "    <tr>\n",
       "      <th>2</th>\n",
       "      <td>0.02729</td>\n",
       "      <td>0.0</td>\n",
       "      <td>7.07</td>\n",
       "      <td>0.0</td>\n",
       "      <td>0.469</td>\n",
       "      <td>7.185</td>\n",
       "      <td>61.1</td>\n",
       "      <td>4.9671</td>\n",
       "      <td>2.0</td>\n",
       "      <td>242.0</td>\n",
       "      <td>17.8</td>\n",
       "      <td>392.83</td>\n",
       "      <td>4.03</td>\n",
       "      <td>34.7</td>\n",
       "    </tr>\n",
       "  </tbody>\n",
       "</table>\n",
       "</div>"
      ],
      "text/plain": [
       "      CRIM    ZN  INDUS  CHAS    NOX     RM   AGE     DIS  RAD    TAX  \\\n",
       "0  0.00632  18.0   2.31   0.0  0.538  6.575  65.2  4.0900  1.0  296.0   \n",
       "1  0.02731   0.0   7.07   0.0  0.469  6.421  78.9  4.9671  2.0  242.0   \n",
       "2  0.02729   0.0   7.07   0.0  0.469  7.185  61.1  4.9671  2.0  242.0   \n",
       "\n",
       "   PTRATIO       B  LSTAT  MEDV  \n",
       "0     15.3  396.90   4.98  24.0  \n",
       "1     17.8  396.90   9.14  21.6  \n",
       "2     17.8  392.83   4.03  34.7  "
      ]
     },
     "execution_count": 15,
     "metadata": {},
     "output_type": "execute_result"
    }
   ],
   "source": [
    "boston_df = pd.DataFrame(   boston['data'],columns=boston['feature_names'])\n",
    "boston_df['MEDV'] =boston.target\n",
    "boston_df.head(3)"
   ]
  },
  {
   "cell_type": "markdown",
   "id": "0e01ea6e-19da-4711-b1fe-53bdd598cf2c",
   "metadata": {},
   "source": [
    "## 특성데이터, 라벨 "
   ]
  },
  {
   "cell_type": "code",
   "execution_count": 4,
   "id": "fc55b128-bc13-4614-96b2-a422e8c27132",
   "metadata": {},
   "outputs": [],
   "source": [
    "x_data = boston_df.iloc[:,:-1]\n",
    "y_data = boston_df.iloc[:,-1]"
   ]
  },
  {
   "cell_type": "markdown",
   "id": "97decfa8-cc51-47ca-90c1-ea366fab6d96",
   "metadata": {},
   "source": [
    "## train_set, test_set 나누기 train_test_split()"
   ]
  },
  {
   "cell_type": "code",
   "execution_count": 5,
   "id": "fa653f38-2fa0-47d6-b416-06ebf47cd68c",
   "metadata": {},
   "outputs": [],
   "source": [
    "x_train, x_test, y_train, y_test = train_test_split(x_data, y_data, \n",
    "                                test_size=0.2,random_state=1)\n",
    "# train, test set으로 분할(나눴음)."
   ]
  },
  {
   "cell_type": "markdown",
   "id": "0c36665a-4e28-4dfe-bf75-f90aa37cc725",
   "metadata": {},
   "source": [
    "## 모델 파이프라인 만들기 make_pipeline()\n",
    "## train_set 모델 핏 하기"
   ]
  },
  {
   "cell_type": "code",
   "execution_count": 6,
   "id": "a5ab779a-3a4f-48d6-98b4-f318de2b08dc",
   "metadata": {},
   "outputs": [
    {
     "data": {
      "text/plain": [
       "Pipeline(steps=[('standardscaler', StandardScaler()),\n",
       "                ('sgdregressor', SGDRegressor())])"
      ]
     },
     "execution_count": 6,
     "metadata": {},
     "output_type": "execute_result"
    }
   ],
   "source": [
    "# *steps : list of estimators.\n",
    "model = make_pipeline(StandardScaler(), SGDRegressor())\n",
    "model.fit(x_train, y_train)"
   ]
  },
  {
   "cell_type": "markdown",
   "id": "ca329d4d-1af6-481f-a46f-bbcbb4443755",
   "metadata": {},
   "source": [
    "## train_set 결정계수 값 구하기"
   ]
  },
  {
   "cell_type": "code",
   "execution_count": 7,
   "id": "c857b47d-6a47-44bc-b705-502ba7eb45ab",
   "metadata": {},
   "outputs": [
    {
     "data": {
      "text/plain": [
       "0.7277628569814881"
      ]
     },
     "execution_count": 7,
     "metadata": {},
     "output_type": "execute_result"
    }
   ],
   "source": [
    "# 결정계수 값\n",
    "model.score( x_train, y_train)"
   ]
  },
  {
   "cell_type": "markdown",
   "id": "bc156cfe-ea55-47de-ad9d-a094724dc1f8",
   "metadata": {},
   "source": [
    "## test_set 결정계수 값 구하기"
   ]
  },
  {
   "cell_type": "code",
   "execution_count": 8,
   "id": "0e712793-3711-4e42-8aea-73b5cee52df1",
   "metadata": {},
   "outputs": [
    {
     "data": {
      "text/plain": [
       "0.7621827741603763"
      ]
     },
     "execution_count": 8,
     "metadata": {},
     "output_type": "execute_result"
    }
   ],
   "source": [
    "model.score(x_test, y_test)"
   ]
  },
  {
   "cell_type": "markdown",
   "id": "d363ada6-de74-4c0e-bf69-6b1de5449858",
   "metadata": {},
   "source": [
    "## x_test.value 값"
   ]
  },
  {
   "cell_type": "code",
   "execution_count": 9,
   "id": "232e53a3-f916-4f43-bc57-078eb7ac8483",
   "metadata": {},
   "outputs": [
    {
     "data": {
      "text/plain": [
       "array([4.9320e-02, 3.3000e+01, 2.1800e+00, 0.0000e+00, 4.7200e-01,\n",
       "       6.8490e+00, 7.0300e+01, 3.1827e+00, 7.0000e+00, 2.2200e+02,\n",
       "       1.8400e+01, 3.9690e+02, 7.5300e+00])"
      ]
     },
     "execution_count": 9,
     "metadata": {},
     "output_type": "execute_result"
    }
   ],
   "source": [
    "# 예측하기\n",
    "x_test.values[0]"
   ]
  },
  {
   "cell_type": "markdown",
   "id": "55011a38-e13e-48bb-8528-0daa752d6b76",
   "metadata": {},
   "source": [
    "## 예측하기"
   ]
  },
  {
   "cell_type": "code",
   "execution_count": 10,
   "id": "44674526-330a-4f10-8e7f-7f41b1455082",
   "metadata": {},
   "outputs": [
    {
     "data": {
      "text/plain": [
       "array([31.89506938])"
      ]
     },
     "execution_count": 10,
     "metadata": {},
     "output_type": "execute_result"
    }
   ],
   "source": [
    "# 예측하기\n",
    "model.predict([x_test.values[0]])"
   ]
  },
  {
   "cell_type": "markdown",
   "id": "67c9d5d2-62e4-4bc7-a44a-bb7ff31f9c67",
   "metadata": {},
   "source": [
    "## scaling위해 reshape하기"
   ]
  },
  {
   "cell_type": "code",
   "execution_count": 11,
   "id": "62de944a-85e2-4aac-9f14-6c516ece5d8f",
   "metadata": {},
   "outputs": [
    {
     "data": {
      "text/plain": [
       "array([31.89506938])"
      ]
     },
     "execution_count": 11,
     "metadata": {},
     "output_type": "execute_result"
    }
   ],
   "source": [
    "# 예측하기\n",
    "model.predict(x_test.values[0].reshape(1,-1))"
   ]
  },
  {
   "cell_type": "code",
   "execution_count": 12,
   "id": "d584ce0f-1f3d-4231-9c5f-471a1d856953",
   "metadata": {},
   "outputs": [],
   "source": [
    "# 딥러닝 tensorflow, pytorch배울텐데. 사이킷런처럼 파이프라인이 없음. \n",
    "# (사이킷런의 클래스처럼 만들어주는 케라스 제외하고)\n",
    "#07.파일처럼 스케일링 수동으로 해줘야함."
   ]
  },
  {
   "cell_type": "code",
   "execution_count": 13,
   "id": "b471ec0c-665c-4a46-83d4-219344e6078c",
   "metadata": {},
   "outputs": [
    {
     "ename": "NameError",
     "evalue": "name 'iris_df' is not defined",
     "output_type": "error",
     "traceback": [
      "\u001b[1;31m---------------------------------------------------------------------------\u001b[0m",
      "\u001b[1;31mNameError\u001b[0m                                 Traceback (most recent call last)",
      "\u001b[1;32m<ipython-input-13-b87fe06a766a>\u001b[0m in \u001b[0;36m<module>\u001b[1;34m\u001b[0m\n\u001b[1;32m----> 1\u001b[1;33m \u001b[0mx_data\u001b[0m\u001b[1;33m,\u001b[0m \u001b[0my_data\u001b[0m \u001b[1;33m=\u001b[0m \u001b[0miris_df\u001b[0m\u001b[1;33m.\u001b[0m\u001b[0miloc\u001b[0m\u001b[1;33m[\u001b[0m\u001b[1;33m:\u001b[0m\u001b[1;33m,\u001b[0m\u001b[1;36m1\u001b[0m\u001b[1;33m:\u001b[0m\u001b[1;33m-\u001b[0m\u001b[1;36m1\u001b[0m\u001b[1;33m]\u001b[0m\u001b[1;33m.\u001b[0m\u001b[0mvalues\u001b[0m\u001b[1;33m,\u001b[0m \u001b[0miris_df\u001b[0m\u001b[1;33m.\u001b[0m\u001b[0miloc\u001b[0m\u001b[1;33m[\u001b[0m\u001b[1;33m:\u001b[0m\u001b[1;33m,\u001b[0m\u001b[1;36m0\u001b[0m\u001b[1;33m]\u001b[0m\u001b[1;33m.\u001b[0m\u001b[0mvalues\u001b[0m\u001b[1;33m\u001b[0m\u001b[1;33m\u001b[0m\u001b[0m\n\u001b[0m\u001b[0;32m      2\u001b[0m \u001b[0mscaler_x\u001b[0m \u001b[1;33m=\u001b[0m \u001b[0mStandardScaler\u001b[0m\u001b[1;33m(\u001b[0m\u001b[1;33m)\u001b[0m\u001b[1;33m\u001b[0m\u001b[1;33m\u001b[0m\u001b[0m\n\u001b[0;32m      3\u001b[0m \u001b[0mscaler_x\u001b[0m\u001b[1;33m.\u001b[0m\u001b[0mfit\u001b[0m\u001b[1;33m(\u001b[0m\u001b[0mx_data\u001b[0m\u001b[1;33m)\u001b[0m\u001b[1;33m\u001b[0m\u001b[1;33m\u001b[0m\u001b[0m\n\u001b[0;32m      4\u001b[0m \u001b[0mx_data_scale\u001b[0m \u001b[1;33m=\u001b[0m  \u001b[0mscaler_x\u001b[0m\u001b[1;33m.\u001b[0m\u001b[0mtransform\u001b[0m\u001b[1;33m(\u001b[0m\u001b[0mx_data\u001b[0m\u001b[1;33m)\u001b[0m\u001b[1;33m\u001b[0m\u001b[1;33m\u001b[0m\u001b[0m\n\u001b[0;32m      5\u001b[0m \u001b[1;33m\u001b[0m\u001b[0m\n",
      "\u001b[1;31mNameError\u001b[0m: name 'iris_df' is not defined"
     ]
    }
   ],
   "source": [
    "x_data, y_data = iris_df.iloc[:,1:-1].values, iris_df.iloc[:,0].values\n",
    "scaler_x = StandardScaler()\n",
    "scaler_x.fit(x_data)\n",
    "x_data_scale =  scaler_x.transform(x_data)\n",
    "\n",
    "x_train, x_test, y_train, y_test = train_test_split(x_data_scale, y_data , test_size=0.2, random_state=1)\n",
    "\n",
    "model_sgd = SGDRegressor()\n",
    "model_sgd.fit(x_train, y_train)\n",
    "\n",
    "print('train 점수:', model_sgd.score(x_train, y_train))\n",
    "print('test 점수:', model_sgd.score(x_test, y_test))\n",
    "\n",
    "pred = model_sgd.predict([[3.0, 1.4, 0.2]])\n",
    "print('예측값:', pred)"
   ]
  },
  {
   "cell_type": "markdown",
   "id": "4323d13b-e4c5-4488-a492-5a602a9466a1",
   "metadata": {},
   "source": [
    "# 개인 과제\n",
    "sl(target), feature(sw,pl,pw)\n",
    "문제 : sw:3.0, pl:1.4, pw:0.2 인 경우 sl를 예측하시오\n",
    "1. scale (standardscaring)\n",
    "2. train, test\n",
    "3. train, test score\n",
    "4. 예측"
   ]
  },
  {
   "cell_type": "markdown",
   "id": "0d985ef8-54d2-48be-86d8-5000d33887c1",
   "metadata": {},
   "source": [
    "강진영님"
   ]
  },
  {
   "cell_type": "code",
   "execution_count": null,
   "id": "eb049898-f4b9-460a-a1e6-e5a4cc7817e7",
   "metadata": {},
   "outputs": [],
   "source": [
    "# 로드하고\n",
    "# 데이터프레임으로만들고, x는 columns는  \n",
    "iris=load_iris()\n",
    "iris_df=pd.DataFrame(iris['data'],columns=iris['feature_names'])\n",
    "iris_df.head()"
   ]
  },
  {
   "cell_type": "code",
   "execution_count": null,
   "id": "b7601d5e-456f-418a-b32d-852010aa11bd",
   "metadata": {},
   "outputs": [],
   "source": [
    "# 컬럼값 지정하고,\n",
    "# x데이터 지정\n",
    "# y데이터 지정\n",
    "iris_df.columns=['sl','sw','pl','pw']\n",
    "x_data=iris_df[['sw','pl','pw']]\n",
    "y_data=iris_df[['sl']]"
   ]
  },
  {
   "cell_type": "code",
   "execution_count": null,
   "id": "e4410318-78a3-4711-aad0-60cc86a5b061",
   "metadata": {},
   "outputs": [],
   "source": [
    "# 트레인, 테스트 나누고\n",
    "x_train, x_test, y_train, y_test = train_test_split(x_data, y_data, \n",
    "                                test_size=0.2,random_state=1)"
   ]
  },
  {
   "cell_type": "code",
   "execution_count": null,
   "id": "bf7c6eb2-1640-40c1-900e-ca3c29fd12c9",
   "metadata": {},
   "outputs": [],
   "source": [
    "# 파이프라인으로(스케일링, 경사하강법 때리고)\n",
    "# x,y데이터 넣어주고\n",
    "model=make_pipeline(StandardScaler(),SGDRegressor() )\n",
    "model.fit(x_train, y_train)\n"
   ]
  },
  {
   "cell_type": "code",
   "execution_count": null,
   "id": "6437d961-e4ad-40f9-83cd-3295b21d08c8",
   "metadata": {},
   "outputs": [],
   "source": [
    "# 스코어 = 트레인 데이터를 새로 스케일링 작업\n",
    "model.score(x_train, y_train)"
   ]
  },
  {
   "cell_type": "code",
   "execution_count": null,
   "id": "8e382411-a27f-4765-bd43-b0cc302d8306",
   "metadata": {},
   "outputs": [],
   "source": [
    "# 테스트도 스케일링 해야지\n",
    "model.score(x_test, y_test)"
   ]
  },
  {
   "cell_type": "code",
   "execution_count": null,
   "id": "db7da80a-f4f2-49df-ba80-6f519408b4e0",
   "metadata": {},
   "outputs": [],
   "source": [
    "# p값에 넣어주는건? \n",
    "p=model.predict([[3.0,1.4,0.2]])"
   ]
  },
  {
   "cell_type": "code",
   "execution_count": null,
   "id": "b33c4dcd-f0f2-417a-a19a-4d36ab544e37",
   "metadata": {},
   "outputs": [],
   "source": [
    "p"
   ]
  },
  {
   "cell_type": "code",
   "execution_count": null,
   "id": "110a90f7-88f7-45be-b1e8-ec5962b3b828",
   "metadata": {},
   "outputs": [],
   "source": []
  },
  {
   "cell_type": "markdown",
   "id": "3ce02457-ebaf-4481-a780-73820d7acad1",
   "metadata": {},
   "source": [
    "# 교차검증(데이터가 작은 경우)\n",
    "- 데이터를 두개로 분리하고 모델을 생성 및 검증하였지만, 데이터를 분리하였기 때문에 훈련에 사용할 수 있는 양도 작아지고, 분리가 잘 안된 경우에는 잘못된 검증이 될 수 있음\n",
    "- 이럴 경우에는 테스트셋을 여러개로 구성하여 교차 검증을 진행\n",
    "- cross_val_score() 함수는 교차 검증을 수행하여 모델을 검증\n"
   ]
  },
  {
   "cell_type": "code",
   "execution_count": null,
   "id": "4751fa87-4d7e-4698-82ed-bd1ad0f84cb0",
   "metadata": {},
   "outputs": [],
   "source": [
    "# ![교차검증](img/교차검증.png)"
   ]
  },
  {
   "cell_type": "code",
   "execution_count": null,
   "id": "1a672532-1e3a-4449-a003-c0a090706377",
   "metadata": {},
   "outputs": [],
   "source": [
    "# cv값 디폴트 5개, 조절도 가능\n",
    "# 각각 스코어(결정계수값)의 평균값을 최종 스코어로 나옴\n",
    "# iris데이터임."
   ]
  },
  {
   "cell_type": "code",
   "execution_count": null,
   "id": "c3fe1074-bb3d-4414-ab35-326de530d036",
   "metadata": {
    "tags": []
   },
   "outputs": [],
   "source": [
    "r2scores = cross_val_score(model, x_data, y_data, cv=5, scoring='r2', verbose=1)\n",
    "print(r2scores)\n",
    "print(r2scores.mean())\n",
    "# 교차검증값(score)이 나옴.\n",
    "# 교차검증(score)평균값도 나옴."
   ]
  },
  {
   "cell_type": "markdown",
   "id": "1d5ceb6c-80a6-416f-ae3e-150d9ccfbed1",
   "metadata": {},
   "source": [
    "#\n",
    "1. 상관관계가 낮음 #점수가 안나옴.\n",
    "2. 다중 공선성 \n",
    "##### check\n",
    "3. scale\n",
    "4. 학습"
   ]
  },
  {
   "cell_type": "markdown",
   "id": "cafc248d-7654-481e-a861-e6187d4c261a",
   "metadata": {},
   "source": [
    "# 다중 공선성\n",
    "다중공선성 회귀 분석에서 사용된 모형의 일부 설명 변수가 다른 설명 변수와 상관 정도가 높아, 데이터 분석 시 부정적인 영향을 미치는 현상\n",
    "\n",
    "X1은 일평균 음주량을 독립 변수 X2는 혈중 알코올 농도 둘의 상관관계가 높아 설명령이 약해진다 # 두가지를 특성데이터로 쓰기에는 상관관계가 높다?\n",
    "\n",
    "회귀 모델에서 다중공선성을 파악할 수 있는 대표적인 방법은 VIF 임. \n",
    "VIF (Variance inflation Factors 분산팽창요인)\n",
    "(사이킷런엔 없고 다른 패키지(from statsmodels.stats.outliers_influence import variance_inflation_factor\n",
    ")에 있음)\n",
    "- 안전 : VIF < 5\n",
    "- 주의 : 5 < VIF < 10\n",
    "- 위험 : 10 < VIF\n",
    "\n",
    "개념을 잘 알고 있을 것"
   ]
  },
  {
   "cell_type": "code",
   "execution_count": null,
   "id": "c175378d-86f4-491a-98d4-7a4e7ace1668",
   "metadata": {
    "tags": []
   },
   "outputs": [],
   "source": [
    "boston_df.corr() # 상관관계 확인"
   ]
  },
  {
   "cell_type": "code",
   "execution_count": null,
   "id": "fb7b0cb2-7b2a-41c1-a297-0be9fb3aa90a",
   "metadata": {},
   "outputs": [],
   "source": [
    "import seaborn as sb"
   ]
  },
  {
   "cell_type": "code",
   "execution_count": null,
   "id": "15a89872-b047-4a33-9a0e-d63307abab71",
   "metadata": {},
   "outputs": [],
   "source": [
    "plt.figure(figsize=(10,8))\n",
    "sb.heatmap(boston_df.corr(), annot=True, vmin = -1, vmax = 1, cmap='seismic') # -1<=상관계수값<=1\n",
    "plt.show()"
   ]
  },
  {
   "cell_type": "code",
   "execution_count": null,
   "id": "71672d17-ad2b-43a8-8490-6c1d77b80e88",
   "metadata": {},
   "outputs": [],
   "source": [
    "boston_df.shape[1] # 14개 칼럼"
   ]
  },
  {
   "cell_type": "code",
   "execution_count": null,
   "id": "d5baecb6-1fc5-4604-ba3d-3c23a6390ca0",
   "metadata": {},
   "outputs": [],
   "source": [
    "boston_df.values.shape # (ndarray) # 컬럼별 다중공선성을 ...."
   ]
  },
  {
   "cell_type": "code",
   "execution_count": null,
   "id": "977e0a04-fd49-4b26-ae30-388322d2ba3e",
   "metadata": {
    "tags": []
   },
   "outputs": [],
   "source": [
    "from statsmodels.stats.outliers_influence import variance_inflation_factor\n",
    "vif = pd.DataFrame()\n",
    "vif['VIF Factor']= [ variance_inflation_factor(boston_df.values, i )  for i in range( boston_df.shape[1] ) ]\n",
    "vif['features'] = boston_df.columns\n",
    "vif\n",
    "# RM,PTRATIO을 제거해야함.\n",
    "# 이후 score 확인.\n",
    "# boston_df.values 전체 데이터를 확인하려고 한 것\n",
    "# , 실제로는 특성데이터 x_data, y_data만 뽑아도됨.\n"
   ]
  },
  {
   "cell_type": "markdown",
   "id": "d729ac33-f9b7-4959-b848-abd3e606c0b7",
   "metadata": {},
   "source": [
    " 특성데이터가 많은경우: 다중공선성(컬럼제거), 타겟(라벨)에 상관관계가 낮은 컬럼"
   ]
  },
  {
   "cell_type": "markdown",
   "id": "5cfa4987-e2a5-47c9-a72f-cd1a5ebd9550",
   "metadata": {},
   "source": [
    "미쳤네 ㅋ.,ㅋ"
   ]
  },
  {
   "cell_type": "code",
   "execution_count": null,
   "id": "49067849-84ae-481a-80f4-6cfbee04e3a3",
   "metadata": {},
   "outputs": [],
   "source": [
    "from sklearn.datasets import fetch_california_housing"
   ]
  },
  {
   "cell_type": "code",
   "execution_count": null,
   "id": "b73f8d5b-7d5c-411c-a495-c3b61c656a0a",
   "metadata": {
    "tags": []
   },
   "outputs": [],
   "source": [
    "cal = fetch_california_housing()\n",
    "cal"
   ]
  },
  {
   "cell_type": "code",
   "execution_count": null,
   "id": "fe7b5b21-0ff7-4ee0-ab57-ec5e97bc00d5",
   "metadata": {},
   "outputs": [],
   "source": [
    "cal['data'].shape"
   ]
  },
  {
   "cell_type": "markdown",
   "id": "d77634b8-c558-4001-8bb3-e58e52e3bfc4",
   "metadata": {},
   "source": [
    "### 캘리포니아 주택 가격 데이터\n",
    "\n",
    "| 속성 | 설명 |\n",
    "|------|------|\n",
    "| MedInc | 블록의 중간 소득 |\n",
    "| HouseAge | 블록의 중간 주택 연도 |\n",
    "| AveRooms | 자치시(town)별 비소매 상업지역 토지 비율 |\n",
    "| AveBedrms | 찰스 강(Charles River)에 대한 변수 (강의 경계에 위치하면 1, 그렇지 않으면 0) |\n",
    "| Population | 10,000,000당  일산화질소 농도 |\n",
    "| AveOccup | 주택 1가구당 평균 방의 수 |\n",
    "| Latitude | 1940년 이전에 건축된 소유주택 비율 |\n",
    "| Longitude | 5개의 보스턴 고용 센터까지의 가중 거리 |\n"
   ]
  },
  {
   "cell_type": "markdown",
   "id": "040c04cf-ff9b-4a88-8d10-8d773a412961",
   "metadata": {},
   "source": [
    "# 문제\n",
    "\n",
    "### 캘리포니아 주택가격을 이용하여   crossvalidation 값을 구하시요.\n",
    "\n",
    "### 다중공선성을 확인한후에 다중공선성이 높은 컬럼을 제외하고 학습하여 crossvalidation값을 확인하시요\n",
    "\n",
    "### 문제가 좋지 못한 거긴 함. 학습이 제대로 안됨. 푸어데이터임.\n"
   ]
  },
  {
   "cell_type": "markdown",
   "id": "becb1035-888a-4fbf-bcea-1ff060d4482b",
   "metadata": {},
   "source": [
    "성현님 답"
   ]
  },
  {
   "cell_type": "code",
   "execution_count": null,
   "id": "75c7bc77-91eb-4700-b0c3-2ec75b919008",
   "metadata": {},
   "outputs": [],
   "source": [
    "cal_df = pd.DataFrame(cal['data'], columns=cal['feature_names'])\n",
    "cal_df['MEDV'] = cal['target']\n",
    "cal_df.head()\n"
   ]
  },
  {
   "cell_type": "markdown",
   "id": "e2645884-baff-4c2f-aa58-bb755908c4dd",
   "metadata": {},
   "source": [
    "성현님 답"
   ]
  },
  {
   "cell_type": "code",
   "execution_count": null,
   "id": "77ceb7b5-b789-4e9c-8d96-288422131f3e",
   "metadata": {},
   "outputs": [],
   "source": [
    "\n",
    "\n",
    "x_data = cal_df.iloc[:, :-1]\n",
    "y_data = cal_df.iloc[:, -1]\n",
    "x_train, x_test, y_train, y_test = train_test_split(x_data, y_data.values, test_size = 0.2, random_state=1) # ndarray\n",
    "model = make_pipeline(StandardScaler(),SGDRegressor(verbose=1))\n",
    "model.fit(x_train, y_train)\n",
    "r2scores = cross_val_score(model, x_data, y_data, cv=5, scoring='r2',verbose=1)\n",
    "print(r2scores)\n",
    "print(r2scores.mean())\n",
    "\n",
    "cal_df.corr()\n",
    "\n",
    "# 히트맵 그리기\n",
    "plt.figure(figsize=(10,8))\n",
    "sb.heatmap(cal_df.corr(), annot=True, vmin=-1, vmax=1, cmap='bwr')\n",
    "plt.show()\n",
    "\n",
    "# 다중공선성 확인\n",
    "from statsmodels.stats.outliers_influence import variance_inflation_factor\n",
    "vif = pd.DataFrame()\n",
    "vif['VIF Factor']= [ variance_inflation_factor(cal_df.values, i )  for i in range( cal_df.shape[1] ) ]\n",
    "vif['features'] = cal_df.columns\n",
    "vif\n",
    "\n",
    "# vif가 높은 Latitude, Longitude를 제외\n",
    "cal_df = cal_df.drop(['Latitude', 'Longitude'], axis=1)\n",
    "cal_df.head()\n",
    "\n",
    "# 다시 교차검증\n",
    "x_data = cal_df.iloc[:, :-1]\n",
    "y_data = cal_df.iloc[:, -1]\n",
    "x_train, x_test, y_train, y_test = train_test_split(x_data, y_data.values, test_size = 0.2, random_state=1) # ndarray\n",
    "model = make_pipeline(StandardScaler(),SGDRegressor(verbose=1))\n",
    "model.fit(x_train, y_train)\n",
    "r2scores = cross_val_score(model, x_data, y_data, cv=5, scoring='r2',verbose=1)\n",
    "print(r2scores)\n",
    "print(r2scores.mean())\n",
    "\n",
    "# 다중공선성 재확인\n",
    "from statsmodels.stats.outliers_influence import variance_inflation_factor\n",
    "vif = pd.DataFrame()\n",
    "vif['VIF Factor']= [ variance_inflation_factor(cal_df.values, i )  for i in range( cal_df.shape[1] ) ]\n",
    "vif['features'] = cal_df.columns\n",
    "vif"
   ]
  }
 ],
 "metadata": {
  "kernelspec": {
   "display_name": "Python 3",
   "language": "python",
   "name": "python3"
  },
  "language_info": {
   "codemirror_mode": {
    "name": "ipython",
    "version": 3
   },
   "file_extension": ".py",
   "mimetype": "text/x-python",
   "name": "python",
   "nbconvert_exporter": "python",
   "pygments_lexer": "ipython3",
   "version": "3.8.8"
  }
 },
 "nbformat": 4,
 "nbformat_minor": 5
}
