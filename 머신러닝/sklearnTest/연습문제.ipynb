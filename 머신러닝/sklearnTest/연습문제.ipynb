{
 "cells": [
  {
   "cell_type": "code",
   "execution_count": 19,
   "id": "bee5d0bd-4803-4d8b-b50a-68535cc347a5",
   "metadata": {},
   "outputs": [],
   "source": [
    "import pandas as pd\n",
    "import numpy as np\n",
    "import seaborn as sns\n",
    "from sklearn.datasets import load_boston, load_iris\n",
    "\n",
    "from sklearn.linear_model import Ridge,Lasso,ElasticNet, LinearRegression\n",
    "from sklearn.preprocessing import PolynomialFeatures\n",
    "from sklearn.pipeline import make_pipeline\n",
    "from sklearn.pipeline import Pipeline\n",
    "\n",
    "from sklearn.preprocessing import StandardScaler\n",
    "from sklearn.preprocessing import OneHotEncoder, LabelEncoder, OrdinalEncoder\n",
    "\n",
    "from sklearn.neural_network import MLPRegressor\n",
    "from sklearn.model_selection import train_test_split\n",
    "from sklearn.model_selection import GridSearchCV\n",
    "from sklearn.model_selection import cross_val_score\n",
    "\n",
    "import mglearn\n",
    "import matplotlib.pyplot as plt\n",
    "import matplotlib\n",
    "matplotlib.rcParams['font.family']='Malgun Gothic'\n",
    "matplotlib.rcParams['axes.unicode_minus'] = False\n",
    "\n",
    "import warnings\n",
    "warnings.simplefilter('ignore')"
   ]
  },
  {
   "cell_type": "code",
   "execution_count": 5,
   "id": "1762ef83-a06b-49b7-91f4-b0d80b0af905",
   "metadata": {},
   "outputs": [],
   "source": [
    "train_df = pd.read_excel('data4/hyundaiCar.xlsx', sheet_name = 'train')\n",
    "test_df = pd.read_excel('data4/hyundaiCar.xlsx', sheet_name = 'test')"
   ]
  },
  {
   "cell_type": "code",
   "execution_count": 6,
   "id": "1b693027-203c-4f2b-a825-e11e02df6bc4",
   "metadata": {},
   "outputs": [],
   "source": [
    "x_train = train_df.iloc[:,1:]\n",
    "y_train = train_df['가격']"
   ]
  },
  {
   "cell_type": "code",
   "execution_count": 22,
   "id": "01ada16e-f482-4d98-944d-49d9acc61b4e",
   "metadata": {},
   "outputs": [],
   "source": [
    "x_test = test_df.iloc[:,1:]\n",
    "y_test = test_df['가격']"
   ]
  },
  {
   "cell_type": "markdown",
   "id": "4c2d99da-6a1b-4358-8dc7-ce1569e8b70d",
   "metadata": {},
   "source": [
    "연습문제.\n",
    "\n",
    "라벨인코딩을 이용하여\n",
    "2015, 준중형, 12.3, 204, 27,가솔린,0,1591,1300,자동 인경우\n",
    "자동차가격을 예측하시요\n",
    "\n",
    "팀별로 같이하세요.\n"
   ]
  },
  {
   "cell_type": "markdown",
   "id": "dd410986-d1ff-4cde-ac6a-c083551ce597",
   "metadata": {},
   "source": [
    "라벨인코딩을 이용하여 모델 선택 (릿지,라쏘, 엘라스틱으로/칼럼개수가 많기 때문에) 파이프라인으로 다항 적용 가능"
   ]
  },
  {
   "cell_type": "code",
   "execution_count": 24,
   "id": "facadca3-0dbf-4bf4-a3ec-33e66e266563",
   "metadata": {},
   "outputs": [
    {
     "data": {
      "text/html": [
       "<div>\n",
       "<style scoped>\n",
       "    .dataframe tbody tr th:only-of-type {\n",
       "        vertical-align: middle;\n",
       "    }\n",
       "\n",
       "    .dataframe tbody tr th {\n",
       "        vertical-align: top;\n",
       "    }\n",
       "\n",
       "    .dataframe thead th {\n",
       "        text-align: right;\n",
       "    }\n",
       "</style>\n",
       "<table border=\"1\" class=\"dataframe\">\n",
       "  <thead>\n",
       "    <tr style=\"text-align: right;\">\n",
       "      <th></th>\n",
       "      <th>년식</th>\n",
       "      <th>종류</th>\n",
       "      <th>연비</th>\n",
       "      <th>마력</th>\n",
       "      <th>토크</th>\n",
       "      <th>연료</th>\n",
       "      <th>하이브리드</th>\n",
       "      <th>배기량</th>\n",
       "      <th>중량</th>\n",
       "      <th>변속기</th>\n",
       "    </tr>\n",
       "  </thead>\n",
       "  <tbody>\n",
       "    <tr>\n",
       "      <th>0</th>\n",
       "      <td>2015</td>\n",
       "      <td>준중형</td>\n",
       "      <td>11.8</td>\n",
       "      <td>172</td>\n",
       "      <td>21.0</td>\n",
       "      <td>가솔린</td>\n",
       "      <td>0</td>\n",
       "      <td>1999</td>\n",
       "      <td>1300</td>\n",
       "      <td>자동</td>\n",
       "    </tr>\n",
       "    <tr>\n",
       "      <th>1</th>\n",
       "      <td>2015</td>\n",
       "      <td>준중형</td>\n",
       "      <td>12.3</td>\n",
       "      <td>204</td>\n",
       "      <td>27.0</td>\n",
       "      <td>가솔린</td>\n",
       "      <td>0</td>\n",
       "      <td>1591</td>\n",
       "      <td>1300</td>\n",
       "      <td>자동</td>\n",
       "    </tr>\n",
       "    <tr>\n",
       "      <th>2</th>\n",
       "      <td>2015</td>\n",
       "      <td>소형</td>\n",
       "      <td>15.0</td>\n",
       "      <td>100</td>\n",
       "      <td>13.6</td>\n",
       "      <td>가솔린</td>\n",
       "      <td>0</td>\n",
       "      <td>1368</td>\n",
       "      <td>1035</td>\n",
       "      <td>수동</td>\n",
       "    </tr>\n",
       "  </tbody>\n",
       "</table>\n",
       "</div>"
      ],
      "text/plain": [
       "     년식   종류    연비   마력    토크   연료  하이브리드   배기량    중량 변속기\n",
       "0  2015  준중형  11.8  172  21.0  가솔린      0  1999  1300  자동\n",
       "1  2015  준중형  12.3  204  27.0  가솔린      0  1591  1300  자동\n",
       "2  2015   소형  15.0  100  13.6  가솔린      0  1368  1035  수동"
      ]
     },
     "execution_count": 24,
     "metadata": {},
     "output_type": "execute_result"
    }
   ],
   "source": [
    "x_train.head(3)"
   ]
  },
  {
   "cell_type": "code",
   "execution_count": 25,
   "id": "69f56d22-347b-474a-923b-897d800d4e3d",
   "metadata": {},
   "outputs": [],
   "source": [
    "from sklearn.preprocessing import OrdinalEncoder"
   ]
  },
  {
   "cell_type": "code",
   "execution_count": 27,
   "id": "c89df4dd-d307-4777-8722-ae05a6b2b3d4",
   "metadata": {},
   "outputs": [],
   "source": [
    "enc = OrdinalEncoder()\n",
    "enc.fit(x_train[['종류','연료','변속기']])\n",
    "x_train[['종류','연료','변속기']] = enc.transform(x_train[['종류','연료','변속기']])\n"
   ]
  },
  {
   "cell_type": "code",
   "execution_count": null,
   "id": "009e31b1-0d81-46db-abdd-651fd676f50f",
   "metadata": {},
   "outputs": [],
   "source": []
  },
  {
   "cell_type": "code",
   "execution_count": null,
   "id": "21b7013d-7613-4c21-83bb-57da8050e382",
   "metadata": {},
   "outputs": [],
   "source": []
  },
  {
   "cell_type": "code",
   "execution_count": null,
   "id": "2b7b0660-6a80-405d-8b14-0bad9fde828a",
   "metadata": {},
   "outputs": [],
   "source": []
  }
 ],
 "metadata": {
  "kernelspec": {
   "display_name": "Python 3",
   "language": "python",
   "name": "python3"
  },
  "language_info": {
   "codemirror_mode": {
    "name": "ipython",
    "version": 3
   },
   "file_extension": ".py",
   "mimetype": "text/x-python",
   "name": "python",
   "nbconvert_exporter": "python",
   "pygments_lexer": "ipython3",
   "version": "3.8.8"
  }
 },
 "nbformat": 4,
 "nbformat_minor": 5
}
