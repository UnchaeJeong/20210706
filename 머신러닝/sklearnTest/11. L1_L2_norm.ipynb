{
 "cells": [
  {
   "cell_type": "code",
   "execution_count": 1,
   "id": "00ee67cb",
   "metadata": {},
   "outputs": [],
   "source": [
    "import pandas as pd\n",
    "import numpy as np\n",
    "from numpy import linalg\n",
    "import matplotlib.pyplot as plt\n",
    "import warnings\n",
    "warnings.simplefilter('ignore')\n"
   ]
  },
  {
   "cell_type": "markdown",
   "id": "838e90f4",
   "metadata": {},
   "source": [
    "<img src=\"images/l1.svg\"> <br>\n",
    "\n",
    "## p = 1  L1 Norm\n",
    "## p = 2  L2 Norm\n",
    "\n",
    "https://en.wikipedia.org/wiki/Norm_(mathematics)\n"
   ]
  },
  {
   "cell_type": "markdown",
   "id": "3e11ee37",
   "metadata": {},
   "source": [
    "**L1 norm**"
   ]
  },
  {
   "cell_type": "code",
   "execution_count": null,
   "id": "fd70f3aa",
   "metadata": {},
   "outputs": [],
   "source": [
    "np.random.seed(20)\n",
    "data = np.random.randint(-5,6,size=(2,2)) #-5부터 5까지 숫자로 2x2 행렬\n",
    "df = pd.DataFrame(data)\n",
    "df"
   ]
  },
  {
   "cell_type": "code",
   "execution_count": 89,
   "id": "d41a0d79",
   "metadata": {},
   "outputs": [
    {
     "data": {
      "text/plain": [
       "array([7., 9.])"
      ]
     },
     "execution_count": 89,
     "metadata": {},
     "output_type": "execute_result"
    }
   ],
   "source": [
    "# L1을 사용 (p=1) : 절대값의 합\n",
    "linalg.norm(df, ord=1, axis=1)"
   ]
  },
  {
   "cell_type": "markdown",
   "id": "3419db17",
   "metadata": {},
   "source": [
    "**L2 norm**"
   ]
  },
  {
   "cell_type": "code",
   "execution_count": null,
   "id": "f42cec49",
   "metadata": {},
   "outputs": [],
   "source": [
    "np.random.seed(20)\n",
    "data = np.random.randint(1,10,size=(3,2)) #-5부터 5까지 숫자로 2x2 행렬\n",
    "df = pd.DataFrame(data)\n",
    "df"
   ]
  },
  {
   "cell_type": "code",
   "execution_count": 92,
   "id": "e5abcb7e",
   "metadata": {},
   "outputs": [
    {
     "data": {
      "text/plain": [
       "array([ 6.40312424, 10.63014581,  3.16227766])"
      ]
     },
     "execution_count": 92,
     "metadata": {},
     "output_type": "execute_result"
    }
   ],
   "source": [
    "linalg.norm(df, ord=2, axis=1)"
   ]
  },
  {
   "cell_type": "code",
   "execution_count": null,
   "id": "2555551c-6dd6-466e-aca2-ba2450a4ed05",
   "metadata": {},
   "outputs": [],
   "source": []
  },
  {
   "cell_type": "code",
   "execution_count": null,
   "id": "7cffa714-71cd-49e4-baaf-c1a3b5c04a65",
   "metadata": {},
   "outputs": [],
   "source": []
  },
  {
   "cell_type": "code",
   "execution_count": null,
   "id": "92a5f08d-c76c-4c50-9e63-28d73b560645",
   "metadata": {},
   "outputs": [],
   "source": []
  },
  {
   "cell_type": "code",
   "execution_count": null,
   "id": "d2b66778-aff5-47bc-9550-c2c650b204f0",
   "metadata": {},
   "outputs": [],
   "source": []
  },
  {
   "cell_type": "code",
   "execution_count": null,
   "id": "20223da7-20c9-40a3-aa30-17678c5136dd",
   "metadata": {},
   "outputs": [],
   "source": []
  },
  {
   "cell_type": "code",
   "execution_count": null,
   "id": "419cb5cb-16e4-43a7-902b-3fab19a518e3",
   "metadata": {},
   "outputs": [],
   "source": []
  },
  {
   "cell_type": "markdown",
   "id": "b4da339f-3f58-42cb-80e5-4d10028e1c1f",
   "metadata": {},
   "source": []
  },
  {
   "cell_type": "code",
   "execution_count": null,
   "id": "fb704d3e-e346-469f-8293-8033e0ffc8ed",
   "metadata": {},
   "outputs": [],
   "source": []
  },
  {
   "cell_type": "code",
   "execution_count": null,
   "id": "8bb09281",
   "metadata": {},
   "outputs": [],
   "source": []
  }
 ],
 "metadata": {
  "kernelspec": {
   "display_name": "Python 3",
   "language": "python",
   "name": "python3"
  },
  "language_info": {
   "codemirror_mode": {
    "name": "ipython",
    "version": 3
   },
   "file_extension": ".py",
   "mimetype": "text/x-python",
   "name": "python",
   "nbconvert_exporter": "python",
   "pygments_lexer": "ipython3",
   "version": "3.8.8"
  }
 },
 "nbformat": 4,
 "nbformat_minor": 5
}
