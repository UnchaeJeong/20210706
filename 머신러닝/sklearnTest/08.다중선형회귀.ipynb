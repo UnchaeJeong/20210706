{
 "cells": [
  {
   "cell_type": "markdown",
   "id": "70554bef-a55a-401e-90bc-b49a80582b21",
   "metadata": {},
   "source": [
    "# 추가된 패키지\n",
    "from sklearn.preprocessing import StandardScaler, MinMaxScaler\n",
    "from sklearn.model_selection import train_test_split"
   ]
  },
  {
   "cell_type": "code",
   "execution_count": 116,
   "id": "f71b2d35-23b2-4ae8-9b15-218b6aeb3f80",
   "metadata": {},
   "outputs": [],
   "source": [
    "import pandas as pd\n",
    "import numpy as np\n",
    "from sklearn.linear_model import LinearRegression, SGDRegressor\n",
    "from sklearn.metrics import r2_score# 선형 모델(Linear Models)\n",
    "from sklearn.datasets import load_boston, load_iris\n",
    "from sklearn.preprocessing import StandardScaler, MinMaxScaler\n",
    "from sklearn.model_selection import train_test_split\n",
    "import matplotlib.pyplot as plt\n",
    "import matplotlib\n",
    "matplotlib.rcParams['font.family']='Malgun Gothic'\n",
    "matplotlib.rcParams['axes.unicode_minus'] = False"
   ]
  },
  {
   "cell_type": "markdown",
   "id": "541038dd-4f0b-48a6-ac85-04d5260014e1",
   "metadata": {},
   "source": [
    "# [설명]선형 모델(Linear Models)\n",
    "\n",
    "* 선형 모델은 과거 부터 지금 까지 널리 사용되고 연구 되고 있는 기계학습 방법\n",
    "* 선형 모델은 입력 데이터에 대한 선형 함수를 만들어 예측 수행\n",
    "\n",
    "* 회귀 분석을 위한 선형 모델은 다음과 같이 정의\n",
    "\\begin{equation}\n",
    "\\hat{y}(w,x) = b + w x\n",
    "\\end{equation}\n",
    "\\begin{equation}\n",
    "\\hat{y}(w,x) = b + w_1 x_1 + ... + w_p x_p\n",
    "\\end{equation}\n",
    "\n",
    "  + $x$: 입력 데이터\n",
    "  + $w$: 모델이 학습할 파라미터\n",
    "  + $b$: 편향\n",
    "  + $w_1$~$w_p$: 가중치\n"
   ]
  },
  {
   "cell_type": "markdown",
   "id": "24d2657f-ca52-4690-8951-58cd7640177d",
   "metadata": {},
   "source": [
    "## [설명]선형 회귀(Linear Regression)\n",
    "\n",
    "* **선형 회귀(Linear Regression)**또는 **최소제곱법(Ordinary Least Squares)**은 가장 간단한 회귀 분석을 위한 선형 모델\n",
    "* 선형 회귀는 모델의 예측과 정답 사이의 **평균제곱오차(Mean Squared Error)**를 최소화 하는 학습 파라미터 $w$를 찾음\n",
    "* 평균제곱오차는 아래와 같이 정의\n",
    "\n",
    "\\begin{equation}\n",
    "MSE = \\frac{1}{N} \\sum_{i=1}^{N}(y_i - \\hat{y}_i)^2\n",
    "\\end{equation}\n",
    "\n",
    "  + $y$: 정답\n",
    "  + $\\hat{y}$: 예측 값을 의미\n",
    "\n",
    "* 선형 회귀 모델에서 사용하는 다양한 오류 측정 방법\n",
    "  + MAE(Mean Absoulte Error)\n",
    "  + MAPE(Mean Absolute Percentage Error)\n",
    "  + MSE(Mean Squared Error)\n",
    "  + MPE(Mean Percentage Error)\n"
   ]
  },
  {
   "cell_type": "markdown",
   "id": "47f72101-4392-467c-83d1-209ed2b34654",
   "metadata": {},
   "source": [
    "## data-01.csv데이터 읽어오기"
   ]
  },
  {
   "cell_type": "code",
   "execution_count": 2,
   "id": "65684b11-02d3-49fe-a3a2-a5c65beb2c91",
   "metadata": {
    "collapsed": true,
    "jupyter": {
     "outputs_hidden": true
    },
    "tags": []
   },
   "outputs": [
    {
     "data": {
      "text/html": [
       "<div>\n",
       "<style scoped>\n",
       "    .dataframe tbody tr th:only-of-type {\n",
       "        vertical-align: middle;\n",
       "    }\n",
       "\n",
       "    .dataframe tbody tr th {\n",
       "        vertical-align: top;\n",
       "    }\n",
       "\n",
       "    .dataframe thead th {\n",
       "        text-align: right;\n",
       "    }\n",
       "</style>\n",
       "<table border=\"1\" class=\"dataframe\">\n",
       "  <thead>\n",
       "    <tr style=\"text-align: right;\">\n",
       "      <th></th>\n",
       "      <th>q1</th>\n",
       "      <th>q2</th>\n",
       "      <th>midterm</th>\n",
       "      <th>final</th>\n",
       "    </tr>\n",
       "  </thead>\n",
       "  <tbody>\n",
       "    <tr>\n",
       "      <th>0</th>\n",
       "      <td>73</td>\n",
       "      <td>80</td>\n",
       "      <td>75</td>\n",
       "      <td>152</td>\n",
       "    </tr>\n",
       "    <tr>\n",
       "      <th>1</th>\n",
       "      <td>93</td>\n",
       "      <td>88</td>\n",
       "      <td>93</td>\n",
       "      <td>185</td>\n",
       "    </tr>\n",
       "    <tr>\n",
       "      <th>2</th>\n",
       "      <td>89</td>\n",
       "      <td>91</td>\n",
       "      <td>90</td>\n",
       "      <td>180</td>\n",
       "    </tr>\n",
       "    <tr>\n",
       "      <th>3</th>\n",
       "      <td>96</td>\n",
       "      <td>98</td>\n",
       "      <td>100</td>\n",
       "      <td>196</td>\n",
       "    </tr>\n",
       "    <tr>\n",
       "      <th>4</th>\n",
       "      <td>73</td>\n",
       "      <td>66</td>\n",
       "      <td>70</td>\n",
       "      <td>142</td>\n",
       "    </tr>\n",
       "    <tr>\n",
       "      <th>5</th>\n",
       "      <td>53</td>\n",
       "      <td>46</td>\n",
       "      <td>55</td>\n",
       "      <td>101</td>\n",
       "    </tr>\n",
       "    <tr>\n",
       "      <th>6</th>\n",
       "      <td>69</td>\n",
       "      <td>74</td>\n",
       "      <td>77</td>\n",
       "      <td>149</td>\n",
       "    </tr>\n",
       "    <tr>\n",
       "      <th>7</th>\n",
       "      <td>47</td>\n",
       "      <td>56</td>\n",
       "      <td>60</td>\n",
       "      <td>115</td>\n",
       "    </tr>\n",
       "    <tr>\n",
       "      <th>8</th>\n",
       "      <td>87</td>\n",
       "      <td>79</td>\n",
       "      <td>90</td>\n",
       "      <td>175</td>\n",
       "    </tr>\n",
       "    <tr>\n",
       "      <th>9</th>\n",
       "      <td>79</td>\n",
       "      <td>70</td>\n",
       "      <td>88</td>\n",
       "      <td>164</td>\n",
       "    </tr>\n",
       "    <tr>\n",
       "      <th>10</th>\n",
       "      <td>69</td>\n",
       "      <td>70</td>\n",
       "      <td>73</td>\n",
       "      <td>141</td>\n",
       "    </tr>\n",
       "    <tr>\n",
       "      <th>11</th>\n",
       "      <td>70</td>\n",
       "      <td>65</td>\n",
       "      <td>74</td>\n",
       "      <td>141</td>\n",
       "    </tr>\n",
       "    <tr>\n",
       "      <th>12</th>\n",
       "      <td>93</td>\n",
       "      <td>95</td>\n",
       "      <td>91</td>\n",
       "      <td>184</td>\n",
       "    </tr>\n",
       "    <tr>\n",
       "      <th>13</th>\n",
       "      <td>79</td>\n",
       "      <td>80</td>\n",
       "      <td>73</td>\n",
       "      <td>152</td>\n",
       "    </tr>\n",
       "    <tr>\n",
       "      <th>14</th>\n",
       "      <td>70</td>\n",
       "      <td>73</td>\n",
       "      <td>78</td>\n",
       "      <td>148</td>\n",
       "    </tr>\n",
       "    <tr>\n",
       "      <th>15</th>\n",
       "      <td>93</td>\n",
       "      <td>89</td>\n",
       "      <td>96</td>\n",
       "      <td>192</td>\n",
       "    </tr>\n",
       "    <tr>\n",
       "      <th>16</th>\n",
       "      <td>78</td>\n",
       "      <td>75</td>\n",
       "      <td>68</td>\n",
       "      <td>147</td>\n",
       "    </tr>\n",
       "    <tr>\n",
       "      <th>17</th>\n",
       "      <td>81</td>\n",
       "      <td>90</td>\n",
       "      <td>93</td>\n",
       "      <td>183</td>\n",
       "    </tr>\n",
       "    <tr>\n",
       "      <th>18</th>\n",
       "      <td>88</td>\n",
       "      <td>92</td>\n",
       "      <td>86</td>\n",
       "      <td>177</td>\n",
       "    </tr>\n",
       "    <tr>\n",
       "      <th>19</th>\n",
       "      <td>78</td>\n",
       "      <td>83</td>\n",
       "      <td>77</td>\n",
       "      <td>159</td>\n",
       "    </tr>\n",
       "    <tr>\n",
       "      <th>20</th>\n",
       "      <td>82</td>\n",
       "      <td>86</td>\n",
       "      <td>90</td>\n",
       "      <td>177</td>\n",
       "    </tr>\n",
       "    <tr>\n",
       "      <th>21</th>\n",
       "      <td>86</td>\n",
       "      <td>82</td>\n",
       "      <td>89</td>\n",
       "      <td>175</td>\n",
       "    </tr>\n",
       "    <tr>\n",
       "      <th>22</th>\n",
       "      <td>78</td>\n",
       "      <td>83</td>\n",
       "      <td>85</td>\n",
       "      <td>175</td>\n",
       "    </tr>\n",
       "    <tr>\n",
       "      <th>23</th>\n",
       "      <td>76</td>\n",
       "      <td>83</td>\n",
       "      <td>71</td>\n",
       "      <td>149</td>\n",
       "    </tr>\n",
       "    <tr>\n",
       "      <th>24</th>\n",
       "      <td>96</td>\n",
       "      <td>93</td>\n",
       "      <td>95</td>\n",
       "      <td>192</td>\n",
       "    </tr>\n",
       "  </tbody>\n",
       "</table>\n",
       "</div>"
      ],
      "text/plain": [
       "    q1  q2  midterm  final\n",
       "0   73  80       75    152\n",
       "1   93  88       93    185\n",
       "2   89  91       90    180\n",
       "3   96  98      100    196\n",
       "4   73  66       70    142\n",
       "5   53  46       55    101\n",
       "6   69  74       77    149\n",
       "7   47  56       60    115\n",
       "8   87  79       90    175\n",
       "9   79  70       88    164\n",
       "10  69  70       73    141\n",
       "11  70  65       74    141\n",
       "12  93  95       91    184\n",
       "13  79  80       73    152\n",
       "14  70  73       78    148\n",
       "15  93  89       96    192\n",
       "16  78  75       68    147\n",
       "17  81  90       93    183\n",
       "18  88  92       86    177\n",
       "19  78  83       77    159\n",
       "20  82  86       90    177\n",
       "21  86  82       89    175\n",
       "22  78  83       85    175\n",
       "23  76  83       71    149\n",
       "24  96  93       95    192"
      ]
     },
     "execution_count": 2,
     "metadata": {},
     "output_type": "execute_result"
    }
   ],
   "source": [
    "# header='infer' 첫번째 열은 \n",
    "df = pd.read_csv( 'data/data-01.csv', header=None)\n",
    "df.columns = ['q1','q2','midterm','final']\n",
    "df"
   ]
  },
  {
   "cell_type": "markdown",
   "id": "4f880bc7-0df9-4c97-8fb4-4e3012fd4658",
   "metadata": {},
   "source": [
    "## 특성 데이터\n",
    "* iloc[:,:] 활용"
   ]
  },
  {
   "cell_type": "code",
   "execution_count": 3,
   "id": "94399376-fcf8-4221-8d9f-e2723e812deb",
   "metadata": {
    "collapsed": true,
    "jupyter": {
     "outputs_hidden": true
    },
    "tags": []
   },
   "outputs": [
    {
     "data": {
      "text/html": [
       "<div>\n",
       "<style scoped>\n",
       "    .dataframe tbody tr th:only-of-type {\n",
       "        vertical-align: middle;\n",
       "    }\n",
       "\n",
       "    .dataframe tbody tr th {\n",
       "        vertical-align: top;\n",
       "    }\n",
       "\n",
       "    .dataframe thead th {\n",
       "        text-align: right;\n",
       "    }\n",
       "</style>\n",
       "<table border=\"1\" class=\"dataframe\">\n",
       "  <thead>\n",
       "    <tr style=\"text-align: right;\">\n",
       "      <th></th>\n",
       "      <th>q1</th>\n",
       "      <th>q2</th>\n",
       "      <th>midterm</th>\n",
       "    </tr>\n",
       "  </thead>\n",
       "  <tbody>\n",
       "    <tr>\n",
       "      <th>0</th>\n",
       "      <td>73</td>\n",
       "      <td>80</td>\n",
       "      <td>75</td>\n",
       "    </tr>\n",
       "    <tr>\n",
       "      <th>1</th>\n",
       "      <td>93</td>\n",
       "      <td>88</td>\n",
       "      <td>93</td>\n",
       "    </tr>\n",
       "    <tr>\n",
       "      <th>2</th>\n",
       "      <td>89</td>\n",
       "      <td>91</td>\n",
       "      <td>90</td>\n",
       "    </tr>\n",
       "    <tr>\n",
       "      <th>3</th>\n",
       "      <td>96</td>\n",
       "      <td>98</td>\n",
       "      <td>100</td>\n",
       "    </tr>\n",
       "    <tr>\n",
       "      <th>4</th>\n",
       "      <td>73</td>\n",
       "      <td>66</td>\n",
       "      <td>70</td>\n",
       "    </tr>\n",
       "    <tr>\n",
       "      <th>5</th>\n",
       "      <td>53</td>\n",
       "      <td>46</td>\n",
       "      <td>55</td>\n",
       "    </tr>\n",
       "    <tr>\n",
       "      <th>6</th>\n",
       "      <td>69</td>\n",
       "      <td>74</td>\n",
       "      <td>77</td>\n",
       "    </tr>\n",
       "    <tr>\n",
       "      <th>7</th>\n",
       "      <td>47</td>\n",
       "      <td>56</td>\n",
       "      <td>60</td>\n",
       "    </tr>\n",
       "    <tr>\n",
       "      <th>8</th>\n",
       "      <td>87</td>\n",
       "      <td>79</td>\n",
       "      <td>90</td>\n",
       "    </tr>\n",
       "    <tr>\n",
       "      <th>9</th>\n",
       "      <td>79</td>\n",
       "      <td>70</td>\n",
       "      <td>88</td>\n",
       "    </tr>\n",
       "    <tr>\n",
       "      <th>10</th>\n",
       "      <td>69</td>\n",
       "      <td>70</td>\n",
       "      <td>73</td>\n",
       "    </tr>\n",
       "    <tr>\n",
       "      <th>11</th>\n",
       "      <td>70</td>\n",
       "      <td>65</td>\n",
       "      <td>74</td>\n",
       "    </tr>\n",
       "    <tr>\n",
       "      <th>12</th>\n",
       "      <td>93</td>\n",
       "      <td>95</td>\n",
       "      <td>91</td>\n",
       "    </tr>\n",
       "    <tr>\n",
       "      <th>13</th>\n",
       "      <td>79</td>\n",
       "      <td>80</td>\n",
       "      <td>73</td>\n",
       "    </tr>\n",
       "    <tr>\n",
       "      <th>14</th>\n",
       "      <td>70</td>\n",
       "      <td>73</td>\n",
       "      <td>78</td>\n",
       "    </tr>\n",
       "    <tr>\n",
       "      <th>15</th>\n",
       "      <td>93</td>\n",
       "      <td>89</td>\n",
       "      <td>96</td>\n",
       "    </tr>\n",
       "    <tr>\n",
       "      <th>16</th>\n",
       "      <td>78</td>\n",
       "      <td>75</td>\n",
       "      <td>68</td>\n",
       "    </tr>\n",
       "    <tr>\n",
       "      <th>17</th>\n",
       "      <td>81</td>\n",
       "      <td>90</td>\n",
       "      <td>93</td>\n",
       "    </tr>\n",
       "    <tr>\n",
       "      <th>18</th>\n",
       "      <td>88</td>\n",
       "      <td>92</td>\n",
       "      <td>86</td>\n",
       "    </tr>\n",
       "    <tr>\n",
       "      <th>19</th>\n",
       "      <td>78</td>\n",
       "      <td>83</td>\n",
       "      <td>77</td>\n",
       "    </tr>\n",
       "    <tr>\n",
       "      <th>20</th>\n",
       "      <td>82</td>\n",
       "      <td>86</td>\n",
       "      <td>90</td>\n",
       "    </tr>\n",
       "    <tr>\n",
       "      <th>21</th>\n",
       "      <td>86</td>\n",
       "      <td>82</td>\n",
       "      <td>89</td>\n",
       "    </tr>\n",
       "    <tr>\n",
       "      <th>22</th>\n",
       "      <td>78</td>\n",
       "      <td>83</td>\n",
       "      <td>85</td>\n",
       "    </tr>\n",
       "    <tr>\n",
       "      <th>23</th>\n",
       "      <td>76</td>\n",
       "      <td>83</td>\n",
       "      <td>71</td>\n",
       "    </tr>\n",
       "    <tr>\n",
       "      <th>24</th>\n",
       "      <td>96</td>\n",
       "      <td>93</td>\n",
       "      <td>95</td>\n",
       "    </tr>\n",
       "  </tbody>\n",
       "</table>\n",
       "</div>"
      ],
      "text/plain": [
       "    q1  q2  midterm\n",
       "0   73  80       75\n",
       "1   93  88       93\n",
       "2   89  91       90\n",
       "3   96  98      100\n",
       "4   73  66       70\n",
       "5   53  46       55\n",
       "6   69  74       77\n",
       "7   47  56       60\n",
       "8   87  79       90\n",
       "9   79  70       88\n",
       "10  69  70       73\n",
       "11  70  65       74\n",
       "12  93  95       91\n",
       "13  79  80       73\n",
       "14  70  73       78\n",
       "15  93  89       96\n",
       "16  78  75       68\n",
       "17  81  90       93\n",
       "18  88  92       86\n",
       "19  78  83       77\n",
       "20  82  86       90\n",
       "21  86  82       89\n",
       "22  78  83       85\n",
       "23  76  83       71\n",
       "24  96  93       95"
      ]
     },
     "execution_count": 3,
     "metadata": {},
     "output_type": "execute_result"
    }
   ],
   "source": [
    "x_data = df[['q1','q2','midterm']] # x_data = df.iloc[:, :-1]\n",
    "x_data # 특성데이터"
   ]
  },
  {
   "cell_type": "markdown",
   "id": "a582dc7c-e242-4a1a-914b-a97ee51c8be9",
   "metadata": {},
   "source": [
    "## 라벨(final)"
   ]
  },
  {
   "cell_type": "code",
   "execution_count": 4,
   "id": "4e307f75-4f46-4695-894a-3697d3cfa0b8",
   "metadata": {
    "collapsed": true,
    "jupyter": {
     "outputs_hidden": true
    },
    "tags": []
   },
   "outputs": [
    {
     "data": {
      "text/html": [
       "<div>\n",
       "<style scoped>\n",
       "    .dataframe tbody tr th:only-of-type {\n",
       "        vertical-align: middle;\n",
       "    }\n",
       "\n",
       "    .dataframe tbody tr th {\n",
       "        vertical-align: top;\n",
       "    }\n",
       "\n",
       "    .dataframe thead th {\n",
       "        text-align: right;\n",
       "    }\n",
       "</style>\n",
       "<table border=\"1\" class=\"dataframe\">\n",
       "  <thead>\n",
       "    <tr style=\"text-align: right;\">\n",
       "      <th></th>\n",
       "      <th>final</th>\n",
       "    </tr>\n",
       "  </thead>\n",
       "  <tbody>\n",
       "    <tr>\n",
       "      <th>0</th>\n",
       "      <td>152</td>\n",
       "    </tr>\n",
       "    <tr>\n",
       "      <th>1</th>\n",
       "      <td>185</td>\n",
       "    </tr>\n",
       "    <tr>\n",
       "      <th>2</th>\n",
       "      <td>180</td>\n",
       "    </tr>\n",
       "    <tr>\n",
       "      <th>3</th>\n",
       "      <td>196</td>\n",
       "    </tr>\n",
       "    <tr>\n",
       "      <th>4</th>\n",
       "      <td>142</td>\n",
       "    </tr>\n",
       "    <tr>\n",
       "      <th>5</th>\n",
       "      <td>101</td>\n",
       "    </tr>\n",
       "    <tr>\n",
       "      <th>6</th>\n",
       "      <td>149</td>\n",
       "    </tr>\n",
       "    <tr>\n",
       "      <th>7</th>\n",
       "      <td>115</td>\n",
       "    </tr>\n",
       "    <tr>\n",
       "      <th>8</th>\n",
       "      <td>175</td>\n",
       "    </tr>\n",
       "    <tr>\n",
       "      <th>9</th>\n",
       "      <td>164</td>\n",
       "    </tr>\n",
       "    <tr>\n",
       "      <th>10</th>\n",
       "      <td>141</td>\n",
       "    </tr>\n",
       "    <tr>\n",
       "      <th>11</th>\n",
       "      <td>141</td>\n",
       "    </tr>\n",
       "    <tr>\n",
       "      <th>12</th>\n",
       "      <td>184</td>\n",
       "    </tr>\n",
       "    <tr>\n",
       "      <th>13</th>\n",
       "      <td>152</td>\n",
       "    </tr>\n",
       "    <tr>\n",
       "      <th>14</th>\n",
       "      <td>148</td>\n",
       "    </tr>\n",
       "    <tr>\n",
       "      <th>15</th>\n",
       "      <td>192</td>\n",
       "    </tr>\n",
       "    <tr>\n",
       "      <th>16</th>\n",
       "      <td>147</td>\n",
       "    </tr>\n",
       "    <tr>\n",
       "      <th>17</th>\n",
       "      <td>183</td>\n",
       "    </tr>\n",
       "    <tr>\n",
       "      <th>18</th>\n",
       "      <td>177</td>\n",
       "    </tr>\n",
       "    <tr>\n",
       "      <th>19</th>\n",
       "      <td>159</td>\n",
       "    </tr>\n",
       "    <tr>\n",
       "      <th>20</th>\n",
       "      <td>177</td>\n",
       "    </tr>\n",
       "    <tr>\n",
       "      <th>21</th>\n",
       "      <td>175</td>\n",
       "    </tr>\n",
       "    <tr>\n",
       "      <th>22</th>\n",
       "      <td>175</td>\n",
       "    </tr>\n",
       "    <tr>\n",
       "      <th>23</th>\n",
       "      <td>149</td>\n",
       "    </tr>\n",
       "    <tr>\n",
       "      <th>24</th>\n",
       "      <td>192</td>\n",
       "    </tr>\n",
       "  </tbody>\n",
       "</table>\n",
       "</div>"
      ],
      "text/plain": [
       "    final\n",
       "0     152\n",
       "1     185\n",
       "2     180\n",
       "3     196\n",
       "4     142\n",
       "5     101\n",
       "6     149\n",
       "7     115\n",
       "8     175\n",
       "9     164\n",
       "10    141\n",
       "11    141\n",
       "12    184\n",
       "13    152\n",
       "14    148\n",
       "15    192\n",
       "16    147\n",
       "17    183\n",
       "18    177\n",
       "19    159\n",
       "20    177\n",
       "21    175\n",
       "22    175\n",
       "23    149\n",
       "24    192"
      ]
     },
     "execution_count": 4,
     "metadata": {},
     "output_type": "execute_result"
    }
   ],
   "source": [
    "y_data = df[['final']] # y_data = df.iloc[:,[-1]]\n",
    "y_data # 라벨"
   ]
  },
  {
   "cell_type": "markdown",
   "id": "d9e2ed52-3ea8-419c-90c6-1c1a33f15cf5",
   "metadata": {},
   "source": [
    "## 데이터 모델 핏"
   ]
  },
  {
   "cell_type": "code",
   "execution_count": 5,
   "id": "3cf354cf-b168-4951-af66-5180cefd7f20",
   "metadata": {},
   "outputs": [
    {
     "data": {
      "text/plain": [
       "LinearRegression()"
      ]
     },
     "execution_count": 5,
     "metadata": {},
     "output_type": "execute_result"
    }
   ],
   "source": [
    "model_lr = LinearRegression()\n",
    "model_lr.fit(x_data, y_data)"
   ]
  },
  {
   "cell_type": "code",
   "execution_count": 6,
   "id": "2b9bc377-3584-4aa3-aa74-eacf7dea3a61",
   "metadata": {},
   "outputs": [
    {
     "data": {
      "text/plain": [
       "array([[0.35593822, 0.54251876, 1.16744422]])"
      ]
     },
     "execution_count": 6,
     "metadata": {},
     "output_type": "execute_result"
    }
   ],
   "source": [
    "model_lr.coef_ # weight"
   ]
  },
  {
   "cell_type": "code",
   "execution_count": 7,
   "id": "e89d3dda-8837-4939-9662-86f1be365d34",
   "metadata": {},
   "outputs": [
    {
     "data": {
      "text/plain": [
       "array([-4.3361024])"
      ]
     },
     "execution_count": 7,
     "metadata": {},
     "output_type": "execute_result"
    }
   ],
   "source": [
    "model_lr.intercept_ # bias"
   ]
  },
  {
   "cell_type": "code",
   "execution_count": 8,
   "id": "e6bbe55e-ef4a-41bc-afc0-9a7d7cb1e2a1",
   "metadata": {},
   "outputs": [
    {
     "data": {
      "text/plain": [
       "148.8267965"
      ]
     },
     "execution_count": 8,
     "metadata": {},
     "output_type": "execute_result"
    }
   ],
   "source": [
    "# q1:70, q2:75, midterm:75 최종 점수 예측값\n",
    "70*0.35593822 + 75*0.54251876 + 75*1.16744422 + (-4.3361024)"
   ]
  },
  {
   "cell_type": "markdown",
   "id": "c536854b-b4bd-451a-842d-59d4e185b178",
   "metadata": {},
   "source": [
    "## 예측값 구하기"
   ]
  },
  {
   "cell_type": "code",
   "execution_count": 9,
   "id": "179e7d47-e360-4231-b61d-fb3cace39d10",
   "metadata": {},
   "outputs": [
    {
     "data": {
      "text/plain": [
       "array([[148.82679595],\n",
       "       [ 99.80574563]])"
      ]
     },
     "execution_count": 9,
     "metadata": {},
     "output_type": "execute_result"
    }
   ],
   "source": [
    "model_lr.predict([[70,75,75],[60,45,50]]) # 2x3 3x1(=w) np.matmul 2x1"
   ]
  },
  {
   "cell_type": "code",
   "execution_count": 10,
   "id": "c2b55c0b-9660-40e4-8af7-c445a616b137",
   "metadata": {},
   "outputs": [
    {
     "data": {
      "text/plain": [
       "array([[19, 22],\n",
       "       [43, 50]])"
      ]
     },
     "execution_count": 10,
     "metadata": {},
     "output_type": "execute_result"
    }
   ],
   "source": [
    "# matmul예시 # metrics multimat?\n",
    "a = np.array( [[1,2],[3,4]])\n",
    "b = np.array( [[5,6],[7,8]])\n",
    "np.matmul(a,b)"
   ]
  },
  {
   "cell_type": "code",
   "execution_count": 11,
   "id": "e14c6134-5161-4d0a-a013-cb1475c60b28",
   "metadata": {},
   "outputs": [],
   "source": [
    "# 2x3 3x4 행렬곱 2x4\n",
    "# 2x4 3x4 = error\n"
   ]
  },
  {
   "cell_type": "code",
   "execution_count": 12,
   "id": "8a075cc9-9b49-4a52-b7b6-e9b363e6927c",
   "metadata": {},
   "outputs": [
    {
     "data": {
      "text/plain": [
       "(25, 3)"
      ]
     },
     "execution_count": 12,
     "metadata": {},
     "output_type": "execute_result"
    }
   ],
   "source": [
    "x_data.shape"
   ]
  },
  {
   "cell_type": "markdown",
   "id": "18e4f9ec-dfd0-4f83-89d5-18974d4f5025",
   "metadata": {},
   "source": [
    "## 결정계수 구하기"
   ]
  },
  {
   "cell_type": "code",
   "execution_count": 13,
   "id": "aa8503a3-f2df-4d25-a147-cd69069264bd",
   "metadata": {},
   "outputs": [
    {
     "data": {
      "text/plain": [
       "0.98966157894484"
      ]
     },
     "execution_count": 13,
     "metadata": {},
     "output_type": "execute_result"
    }
   ],
   "source": [
    "model_lr.score(x_data,y_data) # 25x3 3x1 => 25x1"
   ]
  },
  {
   "cell_type": "code",
   "execution_count": 14,
   "id": "13d6ef0e-aa74-44d0-b972-a49fe711eacb",
   "metadata": {},
   "outputs": [
    {
     "data": {
      "text/plain": [
       "(25, 1)"
      ]
     },
     "execution_count": 14,
     "metadata": {},
     "output_type": "execute_result"
    }
   ],
   "source": [
    "p = model_lr.predict(x_data)\n",
    "p.shape"
   ]
  },
  {
   "cell_type": "markdown",
   "id": "84ef7dcf-8efb-4edb-9475-5f11a1bcafe4",
   "metadata": {},
   "source": [
    "## 그래프 도식화하기"
   ]
  },
  {
   "cell_type": "code",
   "execution_count": 15,
   "id": "19a8a3e6-ac04-42ea-81fe-5bb5ba23dc4e",
   "metadata": {},
   "outputs": [
    {
     "data": {
      "image/png": "[encoded data removed]",
      "text/plain": [
       "<Figure size 432x288 with 1 Axes>"
      ]
     },
     "metadata": {
      "needs_background": "light"
     },
     "output_type": "display_data"
    }
   ],
   "source": [
    "plt.plot(y_data,label='final 데이터')\n",
    "plt.plot(p,'r--',label='예측 데이터')\n",
    "plt.show() # 실측값, final 최종점수"
   ]
  },
  {
   "cell_type": "markdown",
   "id": "b435c30d-5c70-4297-96d5-bc60f589892c",
   "metadata": {},
   "source": [
    "# 다음 "
   ]
  },
  {
   "cell_type": "markdown",
   "id": "a4d7f40e-b72b-4893-842f-c1993c379268",
   "metadata": {},
   "source": [
    "## 데이터 가져오기 boston"
   ]
  },
  {
   "cell_type": "code",
   "execution_count": 16,
   "id": "1a462cef-17c2-4ccf-a1dc-2cebcfb1e7df",
   "metadata": {
    "collapsed": true,
    "jupyter": {
     "outputs_hidden": true
    },
    "tags": []
   },
   "outputs": [
    {
     "data": {
      "text/plain": [
       "{'data': array([[6.3200e-03, 1.8000e+01, 2.3100e+00, ..., 1.5300e+01, 3.9690e+02,\n",
       "         4.9800e+00],\n",
       "        [2.7310e-02, 0.0000e+00, 7.0700e+00, ..., 1.7800e+01, 3.9690e+02,\n",
       "         9.1400e+00],\n",
       "        [2.7290e-02, 0.0000e+00, 7.0700e+00, ..., 1.7800e+01, 3.9283e+02,\n",
       "         4.0300e+00],\n",
       "        ...,\n",
       "        [6.0760e-02, 0.0000e+00, 1.1930e+01, ..., 2.1000e+01, 3.9690e+02,\n",
       "         5.6400e+00],\n",
       "        [1.0959e-01, 0.0000e+00, 1.1930e+01, ..., 2.1000e+01, 3.9345e+02,\n",
       "         6.4800e+00],\n",
       "        [4.7410e-02, 0.0000e+00, 1.1930e+01, ..., 2.1000e+01, 3.9690e+02,\n",
       "         7.8800e+00]]),\n",
       " 'target': array([24. , 21.6, 34.7, 33.4, 36.2, 28.7, 22.9, 27.1, 16.5, 18.9, 15. ,\n",
       "        18.9, 21.7, 20.4, 18.2, 19.9, 23.1, 17.5, 20.2, 18.2, 13.6, 19.6,\n",
       "        15.2, 14.5, 15.6, 13.9, 16.6, 14.8, 18.4, 21. , 12.7, 14.5, 13.2,\n",
       "        13.1, 13.5, 18.9, 20. , 21. , 24.7, 30.8, 34.9, 26.6, 25.3, 24.7,\n",
       "        21.2, 19.3, 20. , 16.6, 14.4, 19.4, 19.7, 20.5, 25. , 23.4, 18.9,\n",
       "        35.4, 24.7, 31.6, 23.3, 19.6, 18.7, 16. , 22.2, 25. , 33. , 23.5,\n",
       "        19.4, 22. , 17.4, 20.9, 24.2, 21.7, 22.8, 23.4, 24.1, 21.4, 20. ,\n",
       "        20.8, 21.2, 20.3, 28. , 23.9, 24.8, 22.9, 23.9, 26.6, 22.5, 22.2,\n",
       "        23.6, 28.7, 22.6, 22. , 22.9, 25. , 20.6, 28.4, 21.4, 38.7, 43.8,\n",
       "        33.2, 27.5, 26.5, 18.6, 19.3, 20.1, 19.5, 19.5, 20.4, 19.8, 19.4,\n",
       "        21.7, 22.8, 18.8, 18.7, 18.5, 18.3, 21.2, 19.2, 20.4, 19.3, 22. ,\n",
       "        20.3, 20.5, 17.3, 18.8, 21.4, 15.7, 16.2, 18. , 14.3, 19.2, 19.6,\n",
       "        23. , 18.4, 15.6, 18.1, 17.4, 17.1, 13.3, 17.8, 14. , 14.4, 13.4,\n",
       "        15.6, 11.8, 13.8, 15.6, 14.6, 17.8, 15.4, 21.5, 19.6, 15.3, 19.4,\n",
       "        17. , 15.6, 13.1, 41.3, 24.3, 23.3, 27. , 50. , 50. , 50. , 22.7,\n",
       "        25. , 50. , 23.8, 23.8, 22.3, 17.4, 19.1, 23.1, 23.6, 22.6, 29.4,\n",
       "        23.2, 24.6, 29.9, 37.2, 39.8, 36.2, 37.9, 32.5, 26.4, 29.6, 50. ,\n",
       "        32. , 29.8, 34.9, 37. , 30.5, 36.4, 31.1, 29.1, 50. , 33.3, 30.3,\n",
       "        34.6, 34.9, 32.9, 24.1, 42.3, 48.5, 50. , 22.6, 24.4, 22.5, 24.4,\n",
       "        20. , 21.7, 19.3, 22.4, 28.1, 23.7, 25. , 23.3, 28.7, 21.5, 23. ,\n",
       "        26.7, 21.7, 27.5, 30.1, 44.8, 50. , 37.6, 31.6, 46.7, 31.5, 24.3,\n",
       "        31.7, 41.7, 48.3, 29. , 24. , 25.1, 31.5, 23.7, 23.3, 22. , 20.1,\n",
       "        22.2, 23.7, 17.6, 18.5, 24.3, 20.5, 24.5, 26.2, 24.4, 24.8, 29.6,\n",
       "        42.8, 21.9, 20.9, 44. , 50. , 36. , 30.1, 33.8, 43.1, 48.8, 31. ,\n",
       "        36.5, 22.8, 30.7, 50. , 43.5, 20.7, 21.1, 25.2, 24.4, 35.2, 32.4,\n",
       "        32. , 33.2, 33.1, 29.1, 35.1, 45.4, 35.4, 46. , 50. , 32.2, 22. ,\n",
       "        20.1, 23.2, 22.3, 24.8, 28.5, 37.3, 27.9, 23.9, 21.7, 28.6, 27.1,\n",
       "        20.3, 22.5, 29. , 24.8, 22. , 26.4, 33.1, 36.1, 28.4, 33.4, 28.2,\n",
       "        22.8, 20.3, 16.1, 22.1, 19.4, 21.6, 23.8, 16.2, 17.8, 19.8, 23.1,\n",
       "        21. , 23.8, 23.1, 20.4, 18.5, 25. , 24.6, 23. , 22.2, 19.3, 22.6,\n",
       "        19.8, 17.1, 19.4, 22.2, 20.7, 21.1, 19.5, 18.5, 20.6, 19. , 18.7,\n",
       "        32.7, 16.5, 23.9, 31.2, 17.5, 17.2, 23.1, 24.5, 26.6, 22.9, 24.1,\n",
       "        18.6, 30.1, 18.2, 20.6, 17.8, 21.7, 22.7, 22.6, 25. , 19.9, 20.8,\n",
       "        16.8, 21.9, 27.5, 21.9, 23.1, 50. , 50. , 50. , 50. , 50. , 13.8,\n",
       "        13.8, 15. , 13.9, 13.3, 13.1, 10.2, 10.4, 10.9, 11.3, 12.3,  8.8,\n",
       "         7.2, 10.5,  7.4, 10.2, 11.5, 15.1, 23.2,  9.7, 13.8, 12.7, 13.1,\n",
       "        12.5,  8.5,  5. ,  6.3,  5.6,  7.2, 12.1,  8.3,  8.5,  5. , 11.9,\n",
       "        27.9, 17.2, 27.5, 15. , 17.2, 17.9, 16.3,  7. ,  7.2,  7.5, 10.4,\n",
       "         8.8,  8.4, 16.7, 14.2, 20.8, 13.4, 11.7,  8.3, 10.2, 10.9, 11. ,\n",
       "         9.5, 14.5, 14.1, 16.1, 14.3, 11.7, 13.4,  9.6,  8.7,  8.4, 12.8,\n",
       "        10.5, 17.1, 18.4, 15.4, 10.8, 11.8, 14.9, 12.6, 14.1, 13. , 13.4,\n",
       "        15.2, 16.1, 17.8, 14.9, 14.1, 12.7, 13.5, 14.9, 20. , 16.4, 17.7,\n",
       "        19.5, 20.2, 21.4, 19.9, 19. , 19.1, 19.1, 20.1, 19.9, 19.6, 23.2,\n",
       "        29.8, 13.8, 13.3, 16.7, 12. , 14.6, 21.4, 23. , 23.7, 25. , 21.8,\n",
       "        20.6, 21.2, 19.1, 20.6, 15.2,  7. ,  8.1, 13.6, 20.1, 21.8, 24.5,\n",
       "        23.1, 19.7, 18.3, 21.2, 17.5, 16.8, 22.4, 20.6, 23.9, 22. , 11.9]),\n",
       " 'feature_names': array(['CRIM', 'ZN', 'INDUS', 'CHAS', 'NOX', 'RM', 'AGE', 'DIS', 'RAD',\n",
       "        'TAX', 'PTRATIO', 'B', 'LSTAT'], dtype='<U7'),\n",
       " 'DESCR': \".. _boston_dataset:\\n\\nBoston house prices dataset\\n---------------------------\\n\\n**Data Set Characteristics:**  \\n\\n    :Number of Instances: 506 \\n\\n    :Number of Attributes: 13 numeric/categorical predictive. Median Value (attribute 14) is usually the target.\\n\\n    :Attribute Information (in order):\\n        - CRIM     per capita crime rate by town\\n        - ZN       proportion of residential land zoned for lots over 25,000 sq.ft.\\n        - INDUS    proportion of non-retail business acres per town\\n        - CHAS     Charles River dummy variable (= 1 if tract bounds river; 0 otherwise)\\n        - NOX      nitric oxides concentration (parts per 10 million)\\n        - RM       average number of rooms per dwelling\\n        - AGE      proportion of owner-occupied units built prior to 1940\\n        - DIS      weighted distances to five Boston employment centres\\n        - RAD      index of accessibility to radial highways\\n        - TAX      full-value property-tax rate per $10,000\\n        - PTRATIO  pupil-teacher ratio by town\\n        - B        1000(Bk - 0.63)^2 where Bk is the proportion of black people by town\\n        - LSTAT    % lower status of the population\\n        - MEDV     Median value of owner-occupied homes in $1000's\\n\\n    :Missing Attribute Values: None\\n\\n    :Creator: Harrison, D. and Rubinfeld, D.L.\\n\\nThis is a copy of UCI ML housing dataset.\\nhttps://archive.ics.uci.edu/ml/machine-learning-databases/housing/\\n\\n\\nThis dataset was taken from the StatLib library which is maintained at Carnegie Mellon University.\\n\\nThe Boston house-price data of Harrison, D. and Rubinfeld, D.L. 'Hedonic\\nprices and the demand for clean air', J. Environ. Economics & Management,\\nvol.5, 81-102, 1978.   Used in Belsley, Kuh & Welsch, 'Regression diagnostics\\n...', Wiley, 1980.   N.B. Various transformations are used in the table on\\npages 244-261 of the latter.\\n\\nThe Boston house-price data has been used in many machine learning papers that address regression\\nproblems.   \\n     \\n.. topic:: References\\n\\n   - Belsley, Kuh & Welsch, 'Regression diagnostics: Identifying Influential Data and Sources of Collinearity', Wiley, 1980. 244-261.\\n   - Quinlan,R. (1993). Combining Instance-Based and Model-Based Learning. In Proceedings on the Tenth International Conference of Machine Learning, 236-243, University of Massachusetts, Amherst. Morgan Kaufmann.\\n\",\n",
       " 'filename': 'C:\\\\Users\\\\medici\\\\anaconda3\\\\lib\\\\site-packages\\\\sklearn\\\\datasets\\\\data\\\\boston_house_prices.csv'}"
      ]
     },
     "execution_count": 16,
     "metadata": {},
     "output_type": "execute_result"
    }
   ],
   "source": [
    "boston = load_boston()\n",
    "boston\n",
    "# 딕셔너리 형식으로 되어있음."
   ]
  },
  {
   "cell_type": "markdown",
   "id": "53d6a36c-1336-4ca3-9cdd-62e198319c0e",
   "metadata": {},
   "source": [
    "## 딕셔너리 keys 확인"
   ]
  },
  {
   "cell_type": "code",
   "execution_count": 17,
   "id": "716b556d-609b-409f-a8d0-72d2d2173b06",
   "metadata": {},
   "outputs": [
    {
     "data": {
      "text/plain": [
       "dict_keys(['data', 'target', 'feature_names', 'DESCR', 'filename'])"
      ]
     },
     "execution_count": 17,
     "metadata": {},
     "output_type": "execute_result"
    }
   ],
   "source": [
    "boston.keys()"
   ]
  },
  {
   "cell_type": "markdown",
   "id": "ca6315a3-dd1f-4daf-abbc-15d74bcbfbbf",
   "metadata": {},
   "source": [
    "## 특성데이터"
   ]
  },
  {
   "cell_type": "code",
   "execution_count": 18,
   "id": "e18541f3-893c-4ba9-bd22-1fee956ad631",
   "metadata": {
    "tags": []
   },
   "outputs": [
    {
     "data": {
      "text/plain": [
       "(506, 13)"
      ]
     },
     "execution_count": 18,
     "metadata": {},
     "output_type": "execute_result"
    }
   ],
   "source": [
    "boston['data']\n",
    "boston['data'].shape # 특성 데이터"
   ]
  },
  {
   "cell_type": "markdown",
   "id": "1a8528e4-c90e-41ef-a751-ed19ae79412e",
   "metadata": {},
   "source": [
    "## 라벨"
   ]
  },
  {
   "cell_type": "code",
   "execution_count": 28,
   "id": "1e13693d-bbb0-4f78-9146-d930d0ea2bc2",
   "metadata": {
    "tags": []
   },
   "outputs": [
    {
     "data": {
      "text/plain": [
       "(506,)"
      ]
     },
     "execution_count": 28,
     "metadata": {},
     "output_type": "execute_result"
    }
   ],
   "source": [
    "boston['target'] # label\n",
    "boston['target'].shape"
   ]
  },
  {
   "cell_type": "markdown",
   "id": "91b0f901-ed3a-47db-9b7a-650d2c179d8f",
   "metadata": {},
   "source": [
    "## 칼럼명 확인(특성 데이터 이름)"
   ]
  },
  {
   "cell_type": "code",
   "execution_count": 20,
   "id": "8f49293e-4191-4039-afe6-77721a055a41",
   "metadata": {},
   "outputs": [
    {
     "data": {
      "text/plain": [
       "array(['CRIM', 'ZN', 'INDUS', 'CHAS', 'NOX', 'RM', 'AGE', 'DIS', 'RAD',\n",
       "       'TAX', 'PTRATIO', 'B', 'LSTAT'], dtype='<U7')"
      ]
     },
     "execution_count": 20,
     "metadata": {},
     "output_type": "execute_result"
    }
   ],
   "source": [
    "boston['feature_names'] # 칼럼명, 특성데이터 이름"
   ]
  },
  {
   "cell_type": "markdown",
   "id": "d9845507-eb1a-4595-98e4-ad221a47638f",
   "metadata": {},
   "source": [
    "# [설명]보스턴 주택 가격 데이터\n",
    "\n",
    "* 주택 가격 데이터는 도시에 대한 분석과 부동산, 경제적인 정보 분석 등 많은 활용 가능한 측면들이 존재\n",
    "* 보스턴 주택 가격 데이터는 카네기 멜론 대학교에서 관리하는 StatLib 라이브러리에서 가져온 것\n",
    "* 헤리슨(Harrison, D.)과 루빈펠트(Rubinfeld, D. L.)의 논문 \"Hedonic prices and the demand for clean air', J. Environ. Economics & Management\"에서 보스턴 데이터가 사용\n",
    "* 1970년도 인구 조사에서 보스턴의 506개 조사 구역과 주택 가격에 영향을 주는 속성 21개로 구성\n",
    "\n",
    "| 속성 | 설명 |\n",
    "|------|------|\n",
    "| CRIM | 자치시(town)별 1인당 범죄율 |\n",
    "| ZN | 25,000 평방 피트가 넘는 거주지역 토지 비율 |\n",
    "| INDUS | 자치시(town)별 비소매 상업지역 토지 비율 |\n",
    "| CHAS | 찰스 강(Charles River)에 대한 변수 (강의 경계에 위치하면 1, 그렇지 않으면 0) |\n",
    "| NOX | 10,000,000당  일산화질소 농도 |\n",
    "| RM | 주택 1가구당 평균 방의 수 |\n",
    "| AGE | 1940년 이전에 건축된 소유주택 비율 |\n",
    "| DIS | 5개의 보스턴 고용 센터까지의 가중 거리 |\n",
    "| RAD | 방사형 고속도로 접근성 지수 |\n",
    "| TAX | 10,000 달러당 재산 세율 |\n",
    "| PTRATIO | 자치시(town)별 학생/교사 비율 |\n",
    "| B | 1000(Bk-0.63)^2, Bk: 자치시별 흑인 비율 |\n",
    "| LSTAT | 모집단의 하위계층 비율(%) |\n",
    "| MEDV | 소유자가 거주하는 주택가격(중앙값) (단위: 1,000 달러) |\n"
   ]
  },
  {
   "cell_type": "markdown",
   "id": "628eaea1-5c09-486b-8dc5-3de2181e9cfa",
   "metadata": {},
   "source": [
    "* 보스톤 지역 각 타운의 중위가격(중앙값=대표값) (이상치가 많다면 많이 씀) "
   ]
  },
  {
   "cell_type": "markdown",
   "id": "795c1d41-14f6-47a5-851a-412e60f2dad4",
   "metadata": {},
   "source": [
    "# [문제] 주어진 값으로 주택가격 예측하기\n",
    "* 1\t0.02731\t0.0\t7.07\t0.0\t0.469\t6.421\t78.9\t4.9671\t2.0\t242.0\t17.8\t396.90\t9.14\t21.6\n"
   ]
  },
  {
   "cell_type": "markdown",
   "id": "3fb25cd1-9a6c-4dfd-8c14-bc3777f8beea",
   "metadata": {},
   "source": [
    "## 딕셔너리를 데이터 프레임으로 만들기"
   ]
  },
  {
   "cell_type": "code",
   "execution_count": 33,
   "id": "3f39cf97-a9d4-44c1-b353-40ca5c01f121",
   "metadata": {},
   "outputs": [],
   "source": [
    "#\t0.02731\t0.0\t7.07\t0.0\t0.469\t6.421\t78.9\t4.9671\t2.0\t242.0\t17.8\t396.90\t9.14\t21.6\n",
    "# 주택가격을 예측하시오."
   ]
  },
  {
   "cell_type": "code",
   "execution_count": 31,
   "id": "02df4859-5b46-4c96-a194-323ad6fa26f5",
   "metadata": {
    "collapsed": true,
    "jupyter": {
     "outputs_hidden": true
    },
    "tags": []
   },
   "outputs": [
    {
     "data": {
      "text/html": [
       "<div>\n",
       "<style scoped>\n",
       "    .dataframe tbody tr th:only-of-type {\n",
       "        vertical-align: middle;\n",
       "    }\n",
       "\n",
       "    .dataframe tbody tr th {\n",
       "        vertical-align: top;\n",
       "    }\n",
       "\n",
       "    .dataframe thead th {\n",
       "        text-align: right;\n",
       "    }\n",
       "</style>\n",
       "<table border=\"1\" class=\"dataframe\">\n",
       "  <thead>\n",
       "    <tr style=\"text-align: right;\">\n",
       "      <th></th>\n",
       "      <th>CRIM</th>\n",
       "      <th>ZN</th>\n",
       "      <th>INDUS</th>\n",
       "      <th>CHAS</th>\n",
       "      <th>NOX</th>\n",
       "      <th>RM</th>\n",
       "      <th>AGE</th>\n",
       "      <th>DIS</th>\n",
       "      <th>RAD</th>\n",
       "      <th>TAX</th>\n",
       "      <th>PTRATIO</th>\n",
       "      <th>B</th>\n",
       "      <th>LSTAT</th>\n",
       "      <th>MEDV</th>\n",
       "    </tr>\n",
       "  </thead>\n",
       "  <tbody>\n",
       "    <tr>\n",
       "      <th>0</th>\n",
       "      <td>0.00632</td>\n",
       "      <td>18.0</td>\n",
       "      <td>2.31</td>\n",
       "      <td>0.0</td>\n",
       "      <td>0.538</td>\n",
       "      <td>6.575</td>\n",
       "      <td>65.2</td>\n",
       "      <td>4.0900</td>\n",
       "      <td>1.0</td>\n",
       "      <td>296.0</td>\n",
       "      <td>15.3</td>\n",
       "      <td>396.90</td>\n",
       "      <td>4.98</td>\n",
       "      <td>24.0</td>\n",
       "    </tr>\n",
       "    <tr>\n",
       "      <th>1</th>\n",
       "      <td>0.02731</td>\n",
       "      <td>0.0</td>\n",
       "      <td>7.07</td>\n",
       "      <td>0.0</td>\n",
       "      <td>0.469</td>\n",
       "      <td>6.421</td>\n",
       "      <td>78.9</td>\n",
       "      <td>4.9671</td>\n",
       "      <td>2.0</td>\n",
       "      <td>242.0</td>\n",
       "      <td>17.8</td>\n",
       "      <td>396.90</td>\n",
       "      <td>9.14</td>\n",
       "      <td>21.6</td>\n",
       "    </tr>\n",
       "    <tr>\n",
       "      <th>2</th>\n",
       "      <td>0.02729</td>\n",
       "      <td>0.0</td>\n",
       "      <td>7.07</td>\n",
       "      <td>0.0</td>\n",
       "      <td>0.469</td>\n",
       "      <td>7.185</td>\n",
       "      <td>61.1</td>\n",
       "      <td>4.9671</td>\n",
       "      <td>2.0</td>\n",
       "      <td>242.0</td>\n",
       "      <td>17.8</td>\n",
       "      <td>392.83</td>\n",
       "      <td>4.03</td>\n",
       "      <td>34.7</td>\n",
       "    </tr>\n",
       "    <tr>\n",
       "      <th>3</th>\n",
       "      <td>0.03237</td>\n",
       "      <td>0.0</td>\n",
       "      <td>2.18</td>\n",
       "      <td>0.0</td>\n",
       "      <td>0.458</td>\n",
       "      <td>6.998</td>\n",
       "      <td>45.8</td>\n",
       "      <td>6.0622</td>\n",
       "      <td>3.0</td>\n",
       "      <td>222.0</td>\n",
       "      <td>18.7</td>\n",
       "      <td>394.63</td>\n",
       "      <td>2.94</td>\n",
       "      <td>33.4</td>\n",
       "    </tr>\n",
       "    <tr>\n",
       "      <th>4</th>\n",
       "      <td>0.06905</td>\n",
       "      <td>0.0</td>\n",
       "      <td>2.18</td>\n",
       "      <td>0.0</td>\n",
       "      <td>0.458</td>\n",
       "      <td>7.147</td>\n",
       "      <td>54.2</td>\n",
       "      <td>6.0622</td>\n",
       "      <td>3.0</td>\n",
       "      <td>222.0</td>\n",
       "      <td>18.7</td>\n",
       "      <td>396.90</td>\n",
       "      <td>5.33</td>\n",
       "      <td>36.2</td>\n",
       "    </tr>\n",
       "    <tr>\n",
       "      <th>...</th>\n",
       "      <td>...</td>\n",
       "      <td>...</td>\n",
       "      <td>...</td>\n",
       "      <td>...</td>\n",
       "      <td>...</td>\n",
       "      <td>...</td>\n",
       "      <td>...</td>\n",
       "      <td>...</td>\n",
       "      <td>...</td>\n",
       "      <td>...</td>\n",
       "      <td>...</td>\n",
       "      <td>...</td>\n",
       "      <td>...</td>\n",
       "      <td>...</td>\n",
       "    </tr>\n",
       "    <tr>\n",
       "      <th>501</th>\n",
       "      <td>0.06263</td>\n",
       "      <td>0.0</td>\n",
       "      <td>11.93</td>\n",
       "      <td>0.0</td>\n",
       "      <td>0.573</td>\n",
       "      <td>6.593</td>\n",
       "      <td>69.1</td>\n",
       "      <td>2.4786</td>\n",
       "      <td>1.0</td>\n",
       "      <td>273.0</td>\n",
       "      <td>21.0</td>\n",
       "      <td>391.99</td>\n",
       "      <td>9.67</td>\n",
       "      <td>22.4</td>\n",
       "    </tr>\n",
       "    <tr>\n",
       "      <th>502</th>\n",
       "      <td>0.04527</td>\n",
       "      <td>0.0</td>\n",
       "      <td>11.93</td>\n",
       "      <td>0.0</td>\n",
       "      <td>0.573</td>\n",
       "      <td>6.120</td>\n",
       "      <td>76.7</td>\n",
       "      <td>2.2875</td>\n",
       "      <td>1.0</td>\n",
       "      <td>273.0</td>\n",
       "      <td>21.0</td>\n",
       "      <td>396.90</td>\n",
       "      <td>9.08</td>\n",
       "      <td>20.6</td>\n",
       "    </tr>\n",
       "    <tr>\n",
       "      <th>503</th>\n",
       "      <td>0.06076</td>\n",
       "      <td>0.0</td>\n",
       "      <td>11.93</td>\n",
       "      <td>0.0</td>\n",
       "      <td>0.573</td>\n",
       "      <td>6.976</td>\n",
       "      <td>91.0</td>\n",
       "      <td>2.1675</td>\n",
       "      <td>1.0</td>\n",
       "      <td>273.0</td>\n",
       "      <td>21.0</td>\n",
       "      <td>396.90</td>\n",
       "      <td>5.64</td>\n",
       "      <td>23.9</td>\n",
       "    </tr>\n",
       "    <tr>\n",
       "      <th>504</th>\n",
       "      <td>0.10959</td>\n",
       "      <td>0.0</td>\n",
       "      <td>11.93</td>\n",
       "      <td>0.0</td>\n",
       "      <td>0.573</td>\n",
       "      <td>6.794</td>\n",
       "      <td>89.3</td>\n",
       "      <td>2.3889</td>\n",
       "      <td>1.0</td>\n",
       "      <td>273.0</td>\n",
       "      <td>21.0</td>\n",
       "      <td>393.45</td>\n",
       "      <td>6.48</td>\n",
       "      <td>22.0</td>\n",
       "    </tr>\n",
       "    <tr>\n",
       "      <th>505</th>\n",
       "      <td>0.04741</td>\n",
       "      <td>0.0</td>\n",
       "      <td>11.93</td>\n",
       "      <td>0.0</td>\n",
       "      <td>0.573</td>\n",
       "      <td>6.030</td>\n",
       "      <td>80.8</td>\n",
       "      <td>2.5050</td>\n",
       "      <td>1.0</td>\n",
       "      <td>273.0</td>\n",
       "      <td>21.0</td>\n",
       "      <td>396.90</td>\n",
       "      <td>7.88</td>\n",
       "      <td>11.9</td>\n",
       "    </tr>\n",
       "  </tbody>\n",
       "</table>\n",
       "<p>506 rows × 14 columns</p>\n",
       "</div>"
      ],
      "text/plain": [
       "        CRIM    ZN  INDUS  CHAS    NOX     RM   AGE     DIS  RAD    TAX  \\\n",
       "0    0.00632  18.0   2.31   0.0  0.538  6.575  65.2  4.0900  1.0  296.0   \n",
       "1    0.02731   0.0   7.07   0.0  0.469  6.421  78.9  4.9671  2.0  242.0   \n",
       "2    0.02729   0.0   7.07   0.0  0.469  7.185  61.1  4.9671  2.0  242.0   \n",
       "3    0.03237   0.0   2.18   0.0  0.458  6.998  45.8  6.0622  3.0  222.0   \n",
       "4    0.06905   0.0   2.18   0.0  0.458  7.147  54.2  6.0622  3.0  222.0   \n",
       "..       ...   ...    ...   ...    ...    ...   ...     ...  ...    ...   \n",
       "501  0.06263   0.0  11.93   0.0  0.573  6.593  69.1  2.4786  1.0  273.0   \n",
       "502  0.04527   0.0  11.93   0.0  0.573  6.120  76.7  2.2875  1.0  273.0   \n",
       "503  0.06076   0.0  11.93   0.0  0.573  6.976  91.0  2.1675  1.0  273.0   \n",
       "504  0.10959   0.0  11.93   0.0  0.573  6.794  89.3  2.3889  1.0  273.0   \n",
       "505  0.04741   0.0  11.93   0.0  0.573  6.030  80.8  2.5050  1.0  273.0   \n",
       "\n",
       "     PTRATIO       B  LSTAT  MEDV  \n",
       "0       15.3  396.90   4.98  24.0  \n",
       "1       17.8  396.90   9.14  21.6  \n",
       "2       17.8  392.83   4.03  34.7  \n",
       "3       18.7  394.63   2.94  33.4  \n",
       "4       18.7  396.90   5.33  36.2  \n",
       "..       ...     ...    ...   ...  \n",
       "501     21.0  391.99   9.67  22.4  \n",
       "502     21.0  396.90   9.08  20.6  \n",
       "503     21.0  396.90   5.64  23.9  \n",
       "504     21.0  393.45   6.48  22.0  \n",
       "505     21.0  396.90   7.88  11.9  \n",
       "\n",
       "[506 rows x 14 columns]"
      ]
     },
     "execution_count": 31,
     "metadata": {},
     "output_type": "execute_result"
    }
   ],
   "source": [
    "# 데이터 프레임으로 만들기\n",
    "boston_df = pd.DataFrame(boston['data'], columns = boston['feature_names'])\n",
    "boston_df['MEDV'] = boston['target'] # 이걸 어떻게 아는거야? 타겟이 중앙값이라는걸?\n",
    "boston_df"
   ]
  },
  {
   "cell_type": "markdown",
   "id": "5d51a51f-0438-44d6-a118-87558fa1c9be",
   "metadata": {},
   "source": [
    "## 특성데이터, 라벨, 데이터 선형회귀모델에 맞추기"
   ]
  },
  {
   "cell_type": "code",
   "execution_count": 32,
   "id": "997236d1-521d-4db4-ac69-87969b37c001",
   "metadata": {},
   "outputs": [
    {
     "data": {
      "text/plain": [
       "LinearRegression()"
      ]
     },
     "execution_count": 32,
     "metadata": {},
     "output_type": "execute_result"
    }
   ],
   "source": [
    "x_data = boston_df.drop('MEDV', axis=1) # boston_df.iloc[:,:-1]\n",
    "y_data = boston_df[['MEDV']] # boston_df.iloc[:,[-1]]\n",
    "\n",
    "boston_lr = LinearRegression()\n",
    "boston_lr.fit(x_data, y_data)\n"
   ]
  },
  {
   "cell_type": "markdown",
   "id": "dde57996-4f06-4e56-8ffd-0ca4d8145318",
   "metadata": {},
   "source": [
    "## 기울기"
   ]
  },
  {
   "cell_type": "code",
   "execution_count": 23,
   "id": "18112482-c582-42dd-b99b-d9a90dc9d33b",
   "metadata": {},
   "outputs": [
    {
     "data": {
      "text/plain": [
       "array([[-1.08011358e-01,  4.64204584e-02,  2.05586264e-02,\n",
       "         2.68673382e+00, -1.77666112e+01,  3.80986521e+00,\n",
       "         6.92224640e-04, -1.47556685e+00,  3.06049479e-01,\n",
       "        -1.23345939e-02, -9.52747232e-01,  9.31168327e-03,\n",
       "        -5.24758378e-01]])"
      ]
     },
     "execution_count": 23,
     "metadata": {},
     "output_type": "execute_result"
    }
   ],
   "source": [
    "boston_lr.coef_ # 13x1"
   ]
  },
  {
   "cell_type": "markdown",
   "id": "84c889c0-6a0d-4c41-95cb-f6b097c0d225",
   "metadata": {},
   "source": [
    "## 절편"
   ]
  },
  {
   "cell_type": "code",
   "execution_count": 24,
   "id": "e767f95b-491f-4c9d-83ee-4ad947351907",
   "metadata": {},
   "outputs": [
    {
     "data": {
      "text/plain": [
       "array([36.45948839])"
      ]
     },
     "execution_count": 24,
     "metadata": {},
     "output_type": "execute_result"
    }
   ],
   "source": [
    "boston_lr.intercept_"
   ]
  },
  {
   "cell_type": "markdown",
   "id": "9ae72680-c92b-4680-a681-0bb4a4f36e46",
   "metadata": {},
   "source": [
    "## 값 예측 쌉가능, [[]] 두 번 씌우는 거 확인"
   ]
  },
  {
   "cell_type": "code",
   "execution_count": 25,
   "id": "68aa513a-2f87-4125-9c1b-2cdc040d4334",
   "metadata": {},
   "outputs": [
    {
     "data": {
      "text/plain": [
       "array([[25.02556238]])"
      ]
     },
     "execution_count": 25,
     "metadata": {},
     "output_type": "execute_result"
    }
   ],
   "source": [
    "# w개수x1 matmul 1x13 \n",
    "boston_lr.predict([[0.02731, 0.0, 7.07, 0.0, 0.469, 6.421, 78.9, 4.9671, 2.0, 242.0, 17.8, 396.90, 9.14]])"
   ]
  },
  {
   "cell_type": "code",
   "execution_count": 26,
   "id": "b5752b6d-f090-463f-8ca3-aa85bfdf0d5c",
   "metadata": {},
   "outputs": [
    {
     "name": "stderr",
     "output_type": "stream",
     "text": [
      "'[3]'은(는) 내부 또는 외부 명령, 실행할 수 있는 프로그램, 또는\n",
      "배치 파일이 아닙니다.\n"
     ]
    }
   ],
   "source": [
    "![3](/img/3.png)"
   ]
  },
  {
   "cell_type": "markdown",
   "id": "912e7b72-cd0c-48f5-be21-58cd91cfb776",
   "metadata": {},
   "source": [
    "# [설명]train_set, test_set 분리하기"
   ]
  },
  {
   "cell_type": "markdown",
   "id": "c4939116-b269-4d2b-a3f6-4847bb9ff303",
   "metadata": {},
   "source": [
    "* 트레이닝 셋 분리 - 테스트셋 가지고 테스트 진행 \n",
    "* 랜덤하게 70개 정도 뽑아서 트레이닝, 30개 ~~ 하는 경우도\n"
   ]
  },
  {
   "cell_type": "markdown",
   "id": "4db9c326-57ce-4ab6-920e-02c356d52947",
   "metadata": {},
   "source": [
    "* from sklearn.preprocessing import StandardScaler, MinMaxScaler # 왜 scaler해야할까\n",
    "* from sklearn.model_selection import train_test_split "
   ]
  },
  {
   "cell_type": "markdown",
   "id": "df619b91-7ed2-440e-9c9c-2b2466a7141f",
   "metadata": {},
   "source": [
    "* 특성데이터 단위 차이 많이남. \n",
    "* 오리지널 데이터를 nomarlized하는 방법 : minmaxscaling, standardization"
   ]
  },
  {
   "cell_type": "markdown",
   "id": "6baf9cba-82dd-468f-a6a7-0911984ac57a",
   "metadata": {},
   "source": [
    "## 결론 : 다중회귀에서는 scaling을 무조건 한다. \n",
    "* 단위가 특성 데이터마다 1, 10,100 제각각임. 단위를 일정히 맞춰준다.\n",
    "* 학습할 때 infinite 발산 가능성, 최저점을 못찾아서."
   ]
  },
  {
   "cell_type": "markdown",
   "id": "2d7b2388-746a-4009-b052-31005569282d",
   "metadata": {},
   "source": [
    "## x_data의 numpy(ndarray) 데이터 가져오기 x_data.values"
   ]
  },
  {
   "cell_type": "code",
   "execution_count": 40,
   "id": "ae9fa58a-6fd2-422e-a2bc-a0c367cd314a",
   "metadata": {
    "collapsed": true,
    "jupyter": {
     "outputs_hidden": true
    },
    "tags": []
   },
   "outputs": [
    {
     "data": {
      "text/plain": [
       "array([[6.3200e-03, 1.8000e+01, 2.3100e+00, ..., 1.5300e+01, 3.9690e+02,\n",
       "        4.9800e+00],\n",
       "       [2.7310e-02, 0.0000e+00, 7.0700e+00, ..., 1.7800e+01, 3.9690e+02,\n",
       "        9.1400e+00],\n",
       "       [2.7290e-02, 0.0000e+00, 7.0700e+00, ..., 1.7800e+01, 3.9283e+02,\n",
       "        4.0300e+00],\n",
       "       ...,\n",
       "       [6.0760e-02, 0.0000e+00, 1.1930e+01, ..., 2.1000e+01, 3.9690e+02,\n",
       "        5.6400e+00],\n",
       "       [1.0959e-01, 0.0000e+00, 1.1930e+01, ..., 2.1000e+01, 3.9345e+02,\n",
       "        6.4800e+00],\n",
       "       [4.7410e-02, 0.0000e+00, 1.1930e+01, ..., 2.1000e+01, 3.9690e+02,\n",
       "        7.8800e+00]])"
      ]
     },
     "execution_count": 40,
     "metadata": {},
     "output_type": "execute_result"
    }
   ],
   "source": [
    "x_data.values # numpy(ndarray) 데이터 가져오기"
   ]
  },
  {
   "cell_type": "markdown",
   "id": "4256f98c-953f-4dc5-a016-35c967b8b0d0",
   "metadata": {},
   "source": [
    "## x데이터셋만들기 StandardScaler(), fit_transform(x_data.values)"
   ]
  },
  {
   "cell_type": "code",
   "execution_count": 49,
   "id": "4316a5ff-e0d5-4d85-88a8-afbc61a72208",
   "metadata": {},
   "outputs": [],
   "source": [
    "scaleX = StandardScaler() # numpy( ndarray)  matrix #특성데이터 스케일링\n",
    "x_dataS = scaleX.fit_transform( x_data.values ) # 평균이 0이고 편차가 1인 데이터 셋으로 나옴."
   ]
  },
  {
   "cell_type": "code",
   "execution_count": 51,
   "id": "5ccf02a1-ecc1-4aad-aee7-080eec0ab8bd",
   "metadata": {
    "collapsed": true,
    "jupyter": {
     "outputs_hidden": true
    },
    "tags": []
   },
   "outputs": [
    {
     "data": {
      "text/plain": [
       "array([[-0.41978194,  0.28482986, -1.2879095 , ..., -1.45900038,\n",
       "         0.44105193, -1.0755623 ],\n",
       "       [-0.41733926, -0.48772236, -0.59338101, ..., -0.30309415,\n",
       "         0.44105193, -0.49243937],\n",
       "       [-0.41734159, -0.48772236, -0.59338101, ..., -0.30309415,\n",
       "         0.39642699, -1.2087274 ],\n",
       "       ...,\n",
       "       [-0.41344658, -0.48772236,  0.11573841, ...,  1.17646583,\n",
       "         0.44105193, -0.98304761],\n",
       "       [-0.40776407, -0.48772236,  0.11573841, ...,  1.17646583,\n",
       "         0.4032249 , -0.86530163],\n",
       "       [-0.41500016, -0.48772236,  0.11573841, ...,  1.17646583,\n",
       "         0.44105193, -0.66905833]])"
      ]
     },
     "execution_count": 51,
     "metadata": {},
     "output_type": "execute_result"
    }
   ],
   "source": [
    "x_dataS"
   ]
  },
  {
   "cell_type": "markdown",
   "id": "2a53d253-96e6-4375-adfb-a0e456a33075",
   "metadata": {},
   "source": [
    "## y_data의 ndarray 가져오기 y_data.values"
   ]
  },
  {
   "cell_type": "code",
   "execution_count": 53,
   "id": "80a475f3-270c-434a-a92c-ab97207a5bd6",
   "metadata": {
    "collapsed": true,
    "jupyter": {
     "outputs_hidden": true
    },
    "tags": []
   },
   "outputs": [
    {
     "data": {
      "text/plain": [
       "array([[24. ],\n",
       "       [21.6],\n",
       "       [34.7],\n",
       "       [33.4],\n",
       "       [36.2],\n",
       "       [28.7],\n",
       "       [22.9],\n",
       "       [27.1],\n",
       "       [16.5],\n",
       "       [18.9],\n",
       "       [15. ],\n",
       "       [18.9],\n",
       "       [21.7],\n",
       "       [20.4],\n",
       "       [18.2],\n",
       "       [19.9],\n",
       "       [23.1],\n",
       "       [17.5],\n",
       "       [20.2],\n",
       "       [18.2],\n",
       "       [13.6],\n",
       "       [19.6],\n",
       "       [15.2],\n",
       "       [14.5],\n",
       "       [15.6],\n",
       "       [13.9],\n",
       "       [16.6],\n",
       "       [14.8],\n",
       "       [18.4],\n",
       "       [21. ],\n",
       "       [12.7],\n",
       "       [14.5],\n",
       "       [13.2],\n",
       "       [13.1],\n",
       "       [13.5],\n",
       "       [18.9],\n",
       "       [20. ],\n",
       "       [21. ],\n",
       "       [24.7],\n",
       "       [30.8],\n",
       "       [34.9],\n",
       "       [26.6],\n",
       "       [25.3],\n",
       "       [24.7],\n",
       "       [21.2],\n",
       "       [19.3],\n",
       "       [20. ],\n",
       "       [16.6],\n",
       "       [14.4],\n",
       "       [19.4],\n",
       "       [19.7],\n",
       "       [20.5],\n",
       "       [25. ],\n",
       "       [23.4],\n",
       "       [18.9],\n",
       "       [35.4],\n",
       "       [24.7],\n",
       "       [31.6],\n",
       "       [23.3],\n",
       "       [19.6],\n",
       "       [18.7],\n",
       "       [16. ],\n",
       "       [22.2],\n",
       "       [25. ],\n",
       "       [33. ],\n",
       "       [23.5],\n",
       "       [19.4],\n",
       "       [22. ],\n",
       "       [17.4],\n",
       "       [20.9],\n",
       "       [24.2],\n",
       "       [21.7],\n",
       "       [22.8],\n",
       "       [23.4],\n",
       "       [24.1],\n",
       "       [21.4],\n",
       "       [20. ],\n",
       "       [20.8],\n",
       "       [21.2],\n",
       "       [20.3],\n",
       "       [28. ],\n",
       "       [23.9],\n",
       "       [24.8],\n",
       "       [22.9],\n",
       "       [23.9],\n",
       "       [26.6],\n",
       "       [22.5],\n",
       "       [22.2],\n",
       "       [23.6],\n",
       "       [28.7],\n",
       "       [22.6],\n",
       "       [22. ],\n",
       "       [22.9],\n",
       "       [25. ],\n",
       "       [20.6],\n",
       "       [28.4],\n",
       "       [21.4],\n",
       "       [38.7],\n",
       "       [43.8],\n",
       "       [33.2],\n",
       "       [27.5],\n",
       "       [26.5],\n",
       "       [18.6],\n",
       "       [19.3],\n",
       "       [20.1],\n",
       "       [19.5],\n",
       "       [19.5],\n",
       "       [20.4],\n",
       "       [19.8],\n",
       "       [19.4],\n",
       "       [21.7],\n",
       "       [22.8],\n",
       "       [18.8],\n",
       "       [18.7],\n",
       "       [18.5],\n",
       "       [18.3],\n",
       "       [21.2],\n",
       "       [19.2],\n",
       "       [20.4],\n",
       "       [19.3],\n",
       "       [22. ],\n",
       "       [20.3],\n",
       "       [20.5],\n",
       "       [17.3],\n",
       "       [18.8],\n",
       "       [21.4],\n",
       "       [15.7],\n",
       "       [16.2],\n",
       "       [18. ],\n",
       "       [14.3],\n",
       "       [19.2],\n",
       "       [19.6],\n",
       "       [23. ],\n",
       "       [18.4],\n",
       "       [15.6],\n",
       "       [18.1],\n",
       "       [17.4],\n",
       "       [17.1],\n",
       "       [13.3],\n",
       "       [17.8],\n",
       "       [14. ],\n",
       "       [14.4],\n",
       "       [13.4],\n",
       "       [15.6],\n",
       "       [11.8],\n",
       "       [13.8],\n",
       "       [15.6],\n",
       "       [14.6],\n",
       "       [17.8],\n",
       "       [15.4],\n",
       "       [21.5],\n",
       "       [19.6],\n",
       "       [15.3],\n",
       "       [19.4],\n",
       "       [17. ],\n",
       "       [15.6],\n",
       "       [13.1],\n",
       "       [41.3],\n",
       "       [24.3],\n",
       "       [23.3],\n",
       "       [27. ],\n",
       "       [50. ],\n",
       "       [50. ],\n",
       "       [50. ],\n",
       "       [22.7],\n",
       "       [25. ],\n",
       "       [50. ],\n",
       "       [23.8],\n",
       "       [23.8],\n",
       "       [22.3],\n",
       "       [17.4],\n",
       "       [19.1],\n",
       "       [23.1],\n",
       "       [23.6],\n",
       "       [22.6],\n",
       "       [29.4],\n",
       "       [23.2],\n",
       "       [24.6],\n",
       "       [29.9],\n",
       "       [37.2],\n",
       "       [39.8],\n",
       "       [36.2],\n",
       "       [37.9],\n",
       "       [32.5],\n",
       "       [26.4],\n",
       "       [29.6],\n",
       "       [50. ],\n",
       "       [32. ],\n",
       "       [29.8],\n",
       "       [34.9],\n",
       "       [37. ],\n",
       "       [30.5],\n",
       "       [36.4],\n",
       "       [31.1],\n",
       "       [29.1],\n",
       "       [50. ],\n",
       "       [33.3],\n",
       "       [30.3],\n",
       "       [34.6],\n",
       "       [34.9],\n",
       "       [32.9],\n",
       "       [24.1],\n",
       "       [42.3],\n",
       "       [48.5],\n",
       "       [50. ],\n",
       "       [22.6],\n",
       "       [24.4],\n",
       "       [22.5],\n",
       "       [24.4],\n",
       "       [20. ],\n",
       "       [21.7],\n",
       "       [19.3],\n",
       "       [22.4],\n",
       "       [28.1],\n",
       "       [23.7],\n",
       "       [25. ],\n",
       "       [23.3],\n",
       "       [28.7],\n",
       "       [21.5],\n",
       "       [23. ],\n",
       "       [26.7],\n",
       "       [21.7],\n",
       "       [27.5],\n",
       "       [30.1],\n",
       "       [44.8],\n",
       "       [50. ],\n",
       "       [37.6],\n",
       "       [31.6],\n",
       "       [46.7],\n",
       "       [31.5],\n",
       "       [24.3],\n",
       "       [31.7],\n",
       "       [41.7],\n",
       "       [48.3],\n",
       "       [29. ],\n",
       "       [24. ],\n",
       "       [25.1],\n",
       "       [31.5],\n",
       "       [23.7],\n",
       "       [23.3],\n",
       "       [22. ],\n",
       "       [20.1],\n",
       "       [22.2],\n",
       "       [23.7],\n",
       "       [17.6],\n",
       "       [18.5],\n",
       "       [24.3],\n",
       "       [20.5],\n",
       "       [24.5],\n",
       "       [26.2],\n",
       "       [24.4],\n",
       "       [24.8],\n",
       "       [29.6],\n",
       "       [42.8],\n",
       "       [21.9],\n",
       "       [20.9],\n",
       "       [44. ],\n",
       "       [50. ],\n",
       "       [36. ],\n",
       "       [30.1],\n",
       "       [33.8],\n",
       "       [43.1],\n",
       "       [48.8],\n",
       "       [31. ],\n",
       "       [36.5],\n",
       "       [22.8],\n",
       "       [30.7],\n",
       "       [50. ],\n",
       "       [43.5],\n",
       "       [20.7],\n",
       "       [21.1],\n",
       "       [25.2],\n",
       "       [24.4],\n",
       "       [35.2],\n",
       "       [32.4],\n",
       "       [32. ],\n",
       "       [33.2],\n",
       "       [33.1],\n",
       "       [29.1],\n",
       "       [35.1],\n",
       "       [45.4],\n",
       "       [35.4],\n",
       "       [46. ],\n",
       "       [50. ],\n",
       "       [32.2],\n",
       "       [22. ],\n",
       "       [20.1],\n",
       "       [23.2],\n",
       "       [22.3],\n",
       "       [24.8],\n",
       "       [28.5],\n",
       "       [37.3],\n",
       "       [27.9],\n",
       "       [23.9],\n",
       "       [21.7],\n",
       "       [28.6],\n",
       "       [27.1],\n",
       "       [20.3],\n",
       "       [22.5],\n",
       "       [29. ],\n",
       "       [24.8],\n",
       "       [22. ],\n",
       "       [26.4],\n",
       "       [33.1],\n",
       "       [36.1],\n",
       "       [28.4],\n",
       "       [33.4],\n",
       "       [28.2],\n",
       "       [22.8],\n",
       "       [20.3],\n",
       "       [16.1],\n",
       "       [22.1],\n",
       "       [19.4],\n",
       "       [21.6],\n",
       "       [23.8],\n",
       "       [16.2],\n",
       "       [17.8],\n",
       "       [19.8],\n",
       "       [23.1],\n",
       "       [21. ],\n",
       "       [23.8],\n",
       "       [23.1],\n",
       "       [20.4],\n",
       "       [18.5],\n",
       "       [25. ],\n",
       "       [24.6],\n",
       "       [23. ],\n",
       "       [22.2],\n",
       "       [19.3],\n",
       "       [22.6],\n",
       "       [19.8],\n",
       "       [17.1],\n",
       "       [19.4],\n",
       "       [22.2],\n",
       "       [20.7],\n",
       "       [21.1],\n",
       "       [19.5],\n",
       "       [18.5],\n",
       "       [20.6],\n",
       "       [19. ],\n",
       "       [18.7],\n",
       "       [32.7],\n",
       "       [16.5],\n",
       "       [23.9],\n",
       "       [31.2],\n",
       "       [17.5],\n",
       "       [17.2],\n",
       "       [23.1],\n",
       "       [24.5],\n",
       "       [26.6],\n",
       "       [22.9],\n",
       "       [24.1],\n",
       "       [18.6],\n",
       "       [30.1],\n",
       "       [18.2],\n",
       "       [20.6],\n",
       "       [17.8],\n",
       "       [21.7],\n",
       "       [22.7],\n",
       "       [22.6],\n",
       "       [25. ],\n",
       "       [19.9],\n",
       "       [20.8],\n",
       "       [16.8],\n",
       "       [21.9],\n",
       "       [27.5],\n",
       "       [21.9],\n",
       "       [23.1],\n",
       "       [50. ],\n",
       "       [50. ],\n",
       "       [50. ],\n",
       "       [50. ],\n",
       "       [50. ],\n",
       "       [13.8],\n",
       "       [13.8],\n",
       "       [15. ],\n",
       "       [13.9],\n",
       "       [13.3],\n",
       "       [13.1],\n",
       "       [10.2],\n",
       "       [10.4],\n",
       "       [10.9],\n",
       "       [11.3],\n",
       "       [12.3],\n",
       "       [ 8.8],\n",
       "       [ 7.2],\n",
       "       [10.5],\n",
       "       [ 7.4],\n",
       "       [10.2],\n",
       "       [11.5],\n",
       "       [15.1],\n",
       "       [23.2],\n",
       "       [ 9.7],\n",
       "       [13.8],\n",
       "       [12.7],\n",
       "       [13.1],\n",
       "       [12.5],\n",
       "       [ 8.5],\n",
       "       [ 5. ],\n",
       "       [ 6.3],\n",
       "       [ 5.6],\n",
       "       [ 7.2],\n",
       "       [12.1],\n",
       "       [ 8.3],\n",
       "       [ 8.5],\n",
       "       [ 5. ],\n",
       "       [11.9],\n",
       "       [27.9],\n",
       "       [17.2],\n",
       "       [27.5],\n",
       "       [15. ],\n",
       "       [17.2],\n",
       "       [17.9],\n",
       "       [16.3],\n",
       "       [ 7. ],\n",
       "       [ 7.2],\n",
       "       [ 7.5],\n",
       "       [10.4],\n",
       "       [ 8.8],\n",
       "       [ 8.4],\n",
       "       [16.7],\n",
       "       [14.2],\n",
       "       [20.8],\n",
       "       [13.4],\n",
       "       [11.7],\n",
       "       [ 8.3],\n",
       "       [10.2],\n",
       "       [10.9],\n",
       "       [11. ],\n",
       "       [ 9.5],\n",
       "       [14.5],\n",
       "       [14.1],\n",
       "       [16.1],\n",
       "       [14.3],\n",
       "       [11.7],\n",
       "       [13.4],\n",
       "       [ 9.6],\n",
       "       [ 8.7],\n",
       "       [ 8.4],\n",
       "       [12.8],\n",
       "       [10.5],\n",
       "       [17.1],\n",
       "       [18.4],\n",
       "       [15.4],\n",
       "       [10.8],\n",
       "       [11.8],\n",
       "       [14.9],\n",
       "       [12.6],\n",
       "       [14.1],\n",
       "       [13. ],\n",
       "       [13.4],\n",
       "       [15.2],\n",
       "       [16.1],\n",
       "       [17.8],\n",
       "       [14.9],\n",
       "       [14.1],\n",
       "       [12.7],\n",
       "       [13.5],\n",
       "       [14.9],\n",
       "       [20. ],\n",
       "       [16.4],\n",
       "       [17.7],\n",
       "       [19.5],\n",
       "       [20.2],\n",
       "       [21.4],\n",
       "       [19.9],\n",
       "       [19. ],\n",
       "       [19.1],\n",
       "       [19.1],\n",
       "       [20.1],\n",
       "       [19.9],\n",
       "       [19.6],\n",
       "       [23.2],\n",
       "       [29.8],\n",
       "       [13.8],\n",
       "       [13.3],\n",
       "       [16.7],\n",
       "       [12. ],\n",
       "       [14.6],\n",
       "       [21.4],\n",
       "       [23. ],\n",
       "       [23.7],\n",
       "       [25. ],\n",
       "       [21.8],\n",
       "       [20.6],\n",
       "       [21.2],\n",
       "       [19.1],\n",
       "       [20.6],\n",
       "       [15.2],\n",
       "       [ 7. ],\n",
       "       [ 8.1],\n",
       "       [13.6],\n",
       "       [20.1],\n",
       "       [21.8],\n",
       "       [24.5],\n",
       "       [23.1],\n",
       "       [19.7],\n",
       "       [18.3],\n",
       "       [21.2],\n",
       "       [17.5],\n",
       "       [16.8],\n",
       "       [22.4],\n",
       "       [20.6],\n",
       "       [23.9],\n",
       "       [22. ],\n",
       "       [11.9]])"
      ]
     },
     "execution_count": 53,
     "metadata": {},
     "output_type": "execute_result"
    }
   ],
   "source": [
    "y_data.values"
   ]
  },
  {
   "cell_type": "markdown",
   "id": "3a402880-fb3f-4a3e-85a3-45864dfd2d8f",
   "metadata": {},
   "source": [
    "## 학습용데이터셋, 테스트용 데이터셋 나누기"
   ]
  },
  {
   "cell_type": "code",
   "execution_count": 52,
   "id": "c989bc41-c020-4ced-9450-a304cfd509e5",
   "metadata": {},
   "outputs": [],
   "source": [
    "# 학습용데이터셋, 테스트용 데이터셋 나누기\n",
    "# random_state=1 강사님과 동일하게 주면 똑같이 추출됨."
   ]
  },
  {
   "cell_type": "code",
   "execution_count": 56,
   "id": "7f8e469d-d679-46c0-9f92-f9363b4d1ee7",
   "metadata": {
    "tags": []
   },
   "outputs": [],
   "source": [
    "result = train_test_split(x_dataS, y_data.values, test_size=0.2, random_state=1) # ndarray"
   ]
  },
  {
   "cell_type": "code",
   "execution_count": null,
   "id": "8eb58a86-6f07-4327-9dda-04c7b08248b5",
   "metadata": {},
   "outputs": [],
   "source": [
    "a,b,c = [1,2,3]"
   ]
  },
  {
   "cell_type": "code",
   "execution_count": 57,
   "id": "f521adab-ce62-4376-9824-e2cc7fe1f0ba",
   "metadata": {
    "collapsed": true,
    "jupyter": {
     "outputs_hidden": true
    },
    "tags": []
   },
   "outputs": [
    {
     "data": {
      "text/plain": [
       "[array([[-0.40405061, -0.48772236, -0.61672651, ..., -0.2568579 ,\n",
       "          0.29270416, -0.95921806],\n",
       "        [-0.40254357,  0.58526684, -0.87644514, ...,  0.57539459,\n",
       "          0.37285362, -0.81203559],\n",
       "        [ 1.53592609, -0.48772236,  1.01599907, ...,  0.80657583,\n",
       "          0.44105193,  2.54512652],\n",
       "        ...,\n",
       "        [ 0.26283202, -0.48772236,  1.01599907, ...,  0.80657583,\n",
       "          0.44105193,  0.94153844],\n",
       "        [-0.38206188, -0.48772236, -0.72032214, ..., -0.48803915,\n",
       "          0.22012011, -0.24853698],\n",
       "        [-0.41119127, -0.48772236, -0.75534039, ...,  0.34421334,\n",
       "          0.44105193, -0.54430367]]),\n",
       " array([[-0.41477789,  0.92862338, -1.30687771, ..., -0.02567665,\n",
       "          0.44105193, -0.71811916],\n",
       "        [-0.41755805,  1.87285388, -1.07342276, ..., -0.39556665,\n",
       "          0.44105193, -0.76717998],\n",
       "        [-0.39383653, -0.48772236, -0.61672651, ..., -0.2568579 ,\n",
       "          0.3954402 ,  0.86163938],\n",
       "        ...,\n",
       "        [-0.40795725, -0.48772236, -0.37597609, ...,  1.13022958,\n",
       "          0.40366347,  0.04863144],\n",
       "        [ 1.00472884, -0.48772236,  1.01599907, ...,  0.80657583,\n",
       "         -3.64043047,  0.42569892],\n",
       "        [ 0.73932106, -0.48772236,  1.01599907, ...,  0.80657583,\n",
       "          0.32954441,  0.86864807]]),\n",
       " array([[25.3],\n",
       "        [23.3],\n",
       "        [ 7.2],\n",
       "        [21.2],\n",
       "        [11.7],\n",
       "        [27. ],\n",
       "        [29.6],\n",
       "        [26.5],\n",
       "        [43.5],\n",
       "        [23.6],\n",
       "        [11. ],\n",
       "        [33.4],\n",
       "        [36. ],\n",
       "        [36.4],\n",
       "        [19. ],\n",
       "        [20.2],\n",
       "        [34.9],\n",
       "        [50. ],\n",
       "        [19.3],\n",
       "        [14.9],\n",
       "        [26.6],\n",
       "        [19.9],\n",
       "        [24.8],\n",
       "        [21.2],\n",
       "        [23.9],\n",
       "        [20.6],\n",
       "        [23.1],\n",
       "        [28. ],\n",
       "        [20. ],\n",
       "        [23.1],\n",
       "        [25. ],\n",
       "        [ 9.7],\n",
       "        [23.9],\n",
       "        [36.1],\n",
       "        [13.4],\n",
       "        [12.7],\n",
       "        [39.8],\n",
       "        [10.4],\n",
       "        [20.6],\n",
       "        [17.8],\n",
       "        [19.5],\n",
       "        [23.7],\n",
       "        [28.5],\n",
       "        [24.3],\n",
       "        [23.8],\n",
       "        [19.1],\n",
       "        [28.4],\n",
       "        [20.5],\n",
       "        [33.8],\n",
       "        [14.5],\n",
       "        [20.4],\n",
       "        [16. ],\n",
       "        [13.3],\n",
       "        [30.8],\n",
       "        [27.5],\n",
       "        [24.4],\n",
       "        [24.4],\n",
       "        [25.1],\n",
       "        [43.8],\n",
       "        [21.9],\n",
       "        [26.2],\n",
       "        [14.2],\n",
       "        [20.8],\n",
       "        [20.1],\n",
       "        [23.1],\n",
       "        [13.1],\n",
       "        [16.2],\n",
       "        [24.8],\n",
       "        [20.2],\n",
       "        [22.5],\n",
       "        [14.8],\n",
       "        [28.7],\n",
       "        [20.1],\n",
       "        [23.4],\n",
       "        [32. ],\n",
       "        [19.1],\n",
       "        [50. ],\n",
       "        [20.9],\n",
       "        [21.7],\n",
       "        [22. ],\n",
       "        [17.2],\n",
       "        [30.3],\n",
       "        [12.3],\n",
       "        [21.4],\n",
       "        [20.5],\n",
       "        [35.2],\n",
       "        [19.6],\n",
       "        [22. ],\n",
       "        [21.7],\n",
       "        [14.1],\n",
       "        [21.1],\n",
       "        [15. ],\n",
       "        [11.9],\n",
       "        [20. ],\n",
       "        [41.3],\n",
       "        [18.7],\n",
       "        [50. ],\n",
       "        [50. ],\n",
       "        [18.4],\n",
       "        [17.9],\n",
       "        [28.1],\n",
       "        [16.1],\n",
       "        [17.2],\n",
       "        [28.6],\n",
       "        [23.6],\n",
       "        [20.4],\n",
       "        [19.6],\n",
       "        [18.8],\n",
       "        [22.6],\n",
       "        [17.7],\n",
       "        [30.5],\n",
       "        [18.2],\n",
       "        [20.6],\n",
       "        [24.4],\n",
       "        [17.3],\n",
       "        [13.3],\n",
       "        [22.8],\n",
       "        [20.5],\n",
       "        [21.2],\n",
       "        [18.8],\n",
       "        [18.9],\n",
       "        [18.2],\n",
       "        [23.1],\n",
       "        [32.7],\n",
       "        [24. ],\n",
       "        [10.2],\n",
       "        [19.5],\n",
       "        [33.1],\n",
       "        [13.4],\n",
       "        [15.2],\n",
       "        [24.8],\n",
       "        [24.3],\n",
       "        [ 9.5],\n",
       "        [24.2],\n",
       "        [18.5],\n",
       "        [44. ],\n",
       "        [50. ],\n",
       "        [24.7],\n",
       "        [21.5],\n",
       "        [ 8.4],\n",
       "        [21.8],\n",
       "        [50. ],\n",
       "        [23.8],\n",
       "        [32.4],\n",
       "        [24.4],\n",
       "        [17.6],\n",
       "        [29.8],\n",
       "        [ 9.6],\n",
       "        [16.7],\n",
       "        [13.8],\n",
       "        [32. ],\n",
       "        [16.1],\n",
       "        [ 8.3],\n",
       "        [26.6],\n",
       "        [14.3],\n",
       "        [15. ],\n",
       "        [28.4],\n",
       "        [32.2],\n",
       "        [17.1],\n",
       "        [29.4],\n",
       "        [10.4],\n",
       "        [16.8],\n",
       "        [31.5],\n",
       "        [27.5],\n",
       "        [46.7],\n",
       "        [27.5],\n",
       "        [17.2],\n",
       "        [23.4],\n",
       "        [31.6],\n",
       "        [13.8],\n",
       "        [22. ],\n",
       "        [17. ],\n",
       "        [24.8],\n",
       "        [24.3],\n",
       "        [25.2],\n",
       "        [21.2],\n",
       "        [20.6],\n",
       "        [18.7],\n",
       "        [ 5.6],\n",
       "        [19.3],\n",
       "        [19.8],\n",
       "        [22.3],\n",
       "        [20.3],\n",
       "        [12. ],\n",
       "        [23.9],\n",
       "        [16.5],\n",
       "        [13.2],\n",
       "        [33.2],\n",
       "        [10.5],\n",
       "        [ 7.5],\n",
       "        [27.5],\n",
       "        [18.4],\n",
       "        [23.2],\n",
       "        [13.8],\n",
       "        [35.4],\n",
       "        [23. ],\n",
       "        [25. ],\n",
       "        [ 7.2],\n",
       "        [14.4],\n",
       "        [ 8.8],\n",
       "        [22.7],\n",
       "        [13.1],\n",
       "        [18.9],\n",
       "        [25. ],\n",
       "        [ 8.5],\n",
       "        [16.1],\n",
       "        [29. ],\n",
       "        [23.1],\n",
       "        [19.3],\n",
       "        [33.1],\n",
       "        [24.6],\n",
       "        [23. ],\n",
       "        [15.2],\n",
       "        [27.1],\n",
       "        [19.6],\n",
       "        [24.5],\n",
       "        [20.3],\n",
       "        [34.9],\n",
       "        [17.1],\n",
       "        [15.6],\n",
       "        [26.4],\n",
       "        [22.6],\n",
       "        [15.6],\n",
       "        [29. ],\n",
       "        [21.2],\n",
       "        [22.4],\n",
       "        [13.5],\n",
       "        [11.7],\n",
       "        [17.1],\n",
       "        [31.7],\n",
       "        [28.7],\n",
       "        [24.7],\n",
       "        [19. ],\n",
       "        [ 7.2],\n",
       "        [13.8],\n",
       "        [12.8],\n",
       "        [36.2],\n",
       "        [38.7],\n",
       "        [18.5],\n",
       "        [29.1],\n",
       "        [20.4],\n",
       "        [11.3],\n",
       "        [17.4],\n",
       "        [ 8.7],\n",
       "        [18.9],\n",
       "        [23.2],\n",
       "        [22.2],\n",
       "        [29.1],\n",
       "        [34.6],\n",
       "        [25. ],\n",
       "        [23.2],\n",
       "        [37.9],\n",
       "        [ 7. ],\n",
       "        [18.2],\n",
       "        [19.3],\n",
       "        [26.7],\n",
       "        [19.2],\n",
       "        [30.1],\n",
       "        [20.6],\n",
       "        [50. ],\n",
       "        [18.7],\n",
       "        [20.6],\n",
       "        [31.1],\n",
       "        [14. ],\n",
       "        [17.8],\n",
       "        [42.3],\n",
       "        [15.3],\n",
       "        [18.5],\n",
       "        [21.4],\n",
       "        [15. ],\n",
       "        [20.7],\n",
       "        [21.4],\n",
       "        [21.7],\n",
       "        [22. ],\n",
       "        [31.6],\n",
       "        [22. ],\n",
       "        [10.2],\n",
       "        [22.6],\n",
       "        [20. ],\n",
       "        [17.8],\n",
       "        [13.6],\n",
       "        [11.8],\n",
       "        [19.4],\n",
       "        [21.4],\n",
       "        [32.9],\n",
       "        [20.8],\n",
       "        [31. ],\n",
       "        [17.5],\n",
       "        [15.4],\n",
       "        [10.8],\n",
       "        [34.7],\n",
       "        [25. ],\n",
       "        [48.8],\n",
       "        [42.8],\n",
       "        [19.5],\n",
       "        [30.1],\n",
       "        [22.2],\n",
       "        [50. ],\n",
       "        [23.1],\n",
       "        [32.5],\n",
       "        [19.6],\n",
       "        [14.9],\n",
       "        [26.4],\n",
       "        [37. ],\n",
       "        [24.1],\n",
       "        [24.5],\n",
       "        [23.7],\n",
       "        [ 7. ],\n",
       "        [22.2],\n",
       "        [23.3],\n",
       "        [15.6],\n",
       "        [13.4],\n",
       "        [30.7],\n",
       "        [22.3],\n",
       "        [17.4],\n",
       "        [50. ],\n",
       "        [22.9],\n",
       "        [19.7],\n",
       "        [15.6],\n",
       "        [17.8],\n",
       "        [10.9],\n",
       "        [35.1],\n",
       "        [15.7],\n",
       "        [50. ],\n",
       "        [22.8],\n",
       "        [19.9],\n",
       "        [20.1],\n",
       "        [19.4],\n",
       "        [46. ],\n",
       "        [23.2],\n",
       "        [37.6],\n",
       "        [23.1],\n",
       "        [13.9],\n",
       "        [33.3],\n",
       "        [33. ],\n",
       "        [19.9],\n",
       "        [20.3],\n",
       "        [50. ],\n",
       "        [19.4],\n",
       "        [19.5],\n",
       "        [22.8],\n",
       "        [16.6],\n",
       "        [20. ],\n",
       "        [24.7],\n",
       "        [45.4],\n",
       "        [33.4],\n",
       "        [21.4],\n",
       "        [19.4],\n",
       "        [ 5. ],\n",
       "        [ 7.4],\n",
       "        [20.1],\n",
       "        [12.7],\n",
       "        [20.3],\n",
       "        [14.1],\n",
       "        [18.3],\n",
       "        [19.9],\n",
       "        [23.3],\n",
       "        [36.5],\n",
       "        [20. ],\n",
       "        [17.8],\n",
       "        [ 8.8],\n",
       "        [21.6],\n",
       "        [21.6],\n",
       "        [15.2],\n",
       "        [19.8],\n",
       "        [21. ],\n",
       "        [27.1],\n",
       "        [16.8],\n",
       "        [14.4],\n",
       "        [22.5],\n",
       "        [18.6],\n",
       "        [20.1],\n",
       "        [19.6],\n",
       "        [25. ],\n",
       "        [17.4],\n",
       "        [19.7],\n",
       "        [ 5. ],\n",
       "        [16.3],\n",
       "        [13.1],\n",
       "        [29.6],\n",
       "        [13.1],\n",
       "        [19.1],\n",
       "        [12.1],\n",
       "        [21.7],\n",
       "        [21.9],\n",
       "        [33.2],\n",
       "        [29.9],\n",
       "        [35.4],\n",
       "        [15.1],\n",
       "        [31.5],\n",
       "        [21.7],\n",
       "        [16.4],\n",
       "        [14.3],\n",
       "        [11.8],\n",
       "        [14.1],\n",
       "        [21.1],\n",
       "        [18.4],\n",
       "        [48.5],\n",
       "        [13.8],\n",
       "        [20.9],\n",
       "        [22.8],\n",
       "        [12.5],\n",
       "        [24. ],\n",
       "        [21. ]]),\n",
       " array([[28.2],\n",
       "        [23.9],\n",
       "        [16.6],\n",
       "        [22. ],\n",
       "        [20.8],\n",
       "        [23. ],\n",
       "        [27.9],\n",
       "        [14.5],\n",
       "        [21.5],\n",
       "        [22.6],\n",
       "        [23.7],\n",
       "        [31.2],\n",
       "        [19.3],\n",
       "        [19.4],\n",
       "        [19.4],\n",
       "        [27.9],\n",
       "        [13.9],\n",
       "        [50. ],\n",
       "        [24.1],\n",
       "        [14.6],\n",
       "        [16.2],\n",
       "        [15.6],\n",
       "        [23.8],\n",
       "        [25. ],\n",
       "        [23.5],\n",
       "        [ 8.3],\n",
       "        [13.5],\n",
       "        [17.5],\n",
       "        [43.1],\n",
       "        [11.5],\n",
       "        [24.1],\n",
       "        [18.5],\n",
       "        [50. ],\n",
       "        [12.6],\n",
       "        [19.8],\n",
       "        [24.5],\n",
       "        [14.9],\n",
       "        [36.2],\n",
       "        [11.9],\n",
       "        [19.1],\n",
       "        [22.6],\n",
       "        [20.7],\n",
       "        [30.1],\n",
       "        [13.3],\n",
       "        [14.6],\n",
       "        [ 8.4],\n",
       "        [50. ],\n",
       "        [12.7],\n",
       "        [25. ],\n",
       "        [18.6],\n",
       "        [29.8],\n",
       "        [22.2],\n",
       "        [28.7],\n",
       "        [23.8],\n",
       "        [ 8.1],\n",
       "        [22.2],\n",
       "        [ 6.3],\n",
       "        [22.1],\n",
       "        [17.5],\n",
       "        [48.3],\n",
       "        [16.7],\n",
       "        [26.6],\n",
       "        [ 8.5],\n",
       "        [14.5],\n",
       "        [23.7],\n",
       "        [37.2],\n",
       "        [41.7],\n",
       "        [16.5],\n",
       "        [21.7],\n",
       "        [22.7],\n",
       "        [23. ],\n",
       "        [10.5],\n",
       "        [21.9],\n",
       "        [21. ],\n",
       "        [20.4],\n",
       "        [21.8],\n",
       "        [50. ],\n",
       "        [22. ],\n",
       "        [23.3],\n",
       "        [37.3],\n",
       "        [18. ],\n",
       "        [19.2],\n",
       "        [34.9],\n",
       "        [13.4],\n",
       "        [22.9],\n",
       "        [22.5],\n",
       "        [13. ],\n",
       "        [24.6],\n",
       "        [18.3],\n",
       "        [18.1],\n",
       "        [23.9],\n",
       "        [50. ],\n",
       "        [13.6],\n",
       "        [22.9],\n",
       "        [10.9],\n",
       "        [18.9],\n",
       "        [22.4],\n",
       "        [22.9],\n",
       "        [44.8],\n",
       "        [21.7],\n",
       "        [10.2],\n",
       "        [15.4]])]"
      ]
     },
     "execution_count": 57,
     "metadata": {},
     "output_type": "execute_result"
    }
   ],
   "source": [
    "result # 안에 ndarray가 4개"
   ]
  },
  {
   "cell_type": "markdown",
   "id": "7e8d8dab-1c13-4a3f-a509-16877ded454f",
   "metadata": {},
   "source": [
    "## 다시 언패킹"
   ]
  },
  {
   "cell_type": "code",
   "execution_count": null,
   "id": "d0b55ecd-8a52-45f4-8e9f-88d9cd4d251f",
   "metadata": {},
   "outputs": [],
   "source": [
    "# [np.array([...]),np.array([...]),np.array([...]),np.array([...])]\n",
    "# unpacking해주면 됨."
   ]
  },
  {
   "cell_type": "code",
   "execution_count": 58,
   "id": "aef9bfde-e7aa-45cb-8f66-fef967a7d4f4",
   "metadata": {},
   "outputs": [],
   "source": [
    "x_train, x_test, y_train, y_test = train_test_split(x_dataS, y_data.values,  test_size=0.2 ,  random_state=1 )\n"
   ]
  },
  {
   "cell_type": "code",
   "execution_count": 59,
   "id": "21135cdd-3f04-451a-86db-99002631793f",
   "metadata": {},
   "outputs": [
    {
     "data": {
      "text/plain": [
       "array([[-0.40405061, -0.48772236, -0.61672651, ..., -0.2568579 ,\n",
       "         0.29270416, -0.95921806],\n",
       "       [-0.40254357,  0.58526684, -0.87644514, ...,  0.57539459,\n",
       "         0.37285362, -0.81203559],\n",
       "       [ 1.53592609, -0.48772236,  1.01599907, ...,  0.80657583,\n",
       "         0.44105193,  2.54512652],\n",
       "       ...,\n",
       "       [ 0.26283202, -0.48772236,  1.01599907, ...,  0.80657583,\n",
       "         0.44105193,  0.94153844],\n",
       "       [-0.38206188, -0.48772236, -0.72032214, ..., -0.48803915,\n",
       "         0.22012011, -0.24853698],\n",
       "       [-0.41119127, -0.48772236, -0.75534039, ...,  0.34421334,\n",
       "         0.44105193, -0.54430367]])"
      ]
     },
     "execution_count": 59,
     "metadata": {},
     "output_type": "execute_result"
    }
   ],
   "source": [
    "x_train"
   ]
  },
  {
   "cell_type": "code",
   "execution_count": 60,
   "id": "b4e71825-3356-4e4c-b532-8c351570bbfe",
   "metadata": {},
   "outputs": [
    {
     "data": {
      "text/plain": [
       "(404, 13)"
      ]
     },
     "execution_count": 60,
     "metadata": {},
     "output_type": "execute_result"
    }
   ],
   "source": [
    "x_train.shape"
   ]
  },
  {
   "cell_type": "code",
   "execution_count": 61,
   "id": "84fad6ae-60e9-44c3-996e-ccccb0d743c3",
   "metadata": {},
   "outputs": [
    {
     "data": {
      "text/plain": [
       "(102, 13)"
      ]
     },
     "execution_count": 61,
     "metadata": {},
     "output_type": "execute_result"
    }
   ],
   "source": [
    "x_test.shape"
   ]
  },
  {
   "cell_type": "code",
   "execution_count": 62,
   "id": "9bebf767-392a-46e5-9718-9de89046f38c",
   "metadata": {},
   "outputs": [
    {
     "data": {
      "text/plain": [
       "(404, 1)"
      ]
     },
     "execution_count": 62,
     "metadata": {},
     "output_type": "execute_result"
    }
   ],
   "source": [
    "y_train.shape"
   ]
  },
  {
   "cell_type": "code",
   "execution_count": 63,
   "id": "e01ed800-3b38-42d6-8c4c-2676f2d5b377",
   "metadata": {},
   "outputs": [
    {
     "data": {
      "text/plain": [
       "(102, 1)"
      ]
     },
     "execution_count": 63,
     "metadata": {},
     "output_type": "execute_result"
    }
   ],
   "source": [
    "y_test.shape"
   ]
  },
  {
   "cell_type": "markdown",
   "id": "2d538f46-7931-457f-bcde-e46e7cfd329f",
   "metadata": {},
   "source": [
    "## 모델 경사하강법에 데이터(x_train, y_train) 집어넣기"
   ]
  },
  {
   "cell_type": "code",
   "execution_count": 64,
   "id": "f40bcfa8-bcf8-48f8-9863-ffe77afadc47",
   "metadata": {
    "collapsed": true,
    "jupyter": {
     "outputs_hidden": true
    },
    "tags": []
   },
   "outputs": [
    {
     "name": "stdout",
     "output_type": "stream",
     "text": [
      "-- Epoch 1\n",
      "Norm: 4.12, NNZs: 13, Bias: 15.784048, T: 404, Avg. loss: 101.704238\n",
      "Total training time: 0.00 seconds.\n",
      "-- Epoch 2\n",
      "Norm: 4.53, NNZs: 13, Bias: 19.573145, T: 808, Avg. loss: 24.567548\n",
      "Total training time: 0.00 seconds.\n",
      "-- Epoch 3\n",
      "Norm: 5.05, NNZs: 13, Bias: 21.096313, T: 1212, Avg. loss: 14.862993\n",
      "Total training time: 0.00 seconds.\n",
      "-- Epoch 4\n",
      "Norm: 5.28, NNZs: 13, Bias: 21.795849, T: 1616, Avg. loss: 12.744843\n",
      "Total training time: 0.00 seconds.\n",
      "-- Epoch 5\n",
      "Norm: 5.52, NNZs: 13, Bias: 22.163378, T: 2020, Avg. loss: 12.010981\n",
      "Total training time: 0.00 seconds.\n",
      "-- Epoch 6\n",
      "Norm: 5.49, NNZs: 13, Bias: 22.362189, T: 2424, Avg. loss: 11.705690\n",
      "Total training time: 0.00 seconds.\n",
      "-- Epoch 7\n",
      "Norm: 5.69, NNZs: 13, Bias: 22.449271, T: 2828, Avg. loss: 11.674522\n",
      "Total training time: 0.00 seconds.\n",
      "-- Epoch 8\n",
      "Norm: 5.77, NNZs: 13, Bias: 22.550877, T: 3232, Avg. loss: 11.531895\n",
      "Total training time: 0.00 seconds.\n",
      "-- Epoch 9\n",
      "Norm: 5.85, NNZs: 13, Bias: 22.572368, T: 3636, Avg. loss: 11.531210\n",
      "Total training time: 0.00 seconds.\n",
      "-- Epoch 10\n",
      "Norm: 5.91, NNZs: 13, Bias: 22.593410, T: 4040, Avg. loss: 11.478937\n",
      "Total training time: 0.00 seconds.\n",
      "-- Epoch 11\n",
      "Norm: 5.99, NNZs: 13, Bias: 22.593418, T: 4444, Avg. loss: 11.423567\n",
      "Total training time: 0.00 seconds.\n",
      "-- Epoch 12\n",
      "Norm: 6.04, NNZs: 13, Bias: 22.608458, T: 4848, Avg. loss: 11.380827\n",
      "Total training time: 0.00 seconds.\n",
      "-- Epoch 13\n",
      "Norm: 6.12, NNZs: 13, Bias: 22.630173, T: 5252, Avg. loss: 11.351554\n",
      "Total training time: 0.00 seconds.\n",
      "-- Epoch 14\n",
      "Norm: 6.20, NNZs: 13, Bias: 22.628252, T: 5656, Avg. loss: 11.361032\n",
      "Total training time: 0.00 seconds.\n",
      "-- Epoch 15\n",
      "Norm: 6.27, NNZs: 13, Bias: 22.620771, T: 6060, Avg. loss: 11.317845\n",
      "Total training time: 0.00 seconds.\n",
      "-- Epoch 16\n",
      "Norm: 6.27, NNZs: 13, Bias: 22.640654, T: 6464, Avg. loss: 11.279265\n",
      "Total training time: 0.00 seconds.\n",
      "-- Epoch 17\n",
      "Norm: 6.33, NNZs: 13, Bias: 22.634508, T: 6868, Avg. loss: 11.288899\n",
      "Total training time: 0.00 seconds.\n",
      "-- Epoch 18\n",
      "Norm: 6.35, NNZs: 13, Bias: 22.625153, T: 7272, Avg. loss: 11.273854\n",
      "Total training time: 0.00 seconds.\n",
      "-- Epoch 19\n",
      "Norm: 6.40, NNZs: 13, Bias: 22.608533, T: 7676, Avg. loss: 11.262796\n",
      "Total training time: 0.00 seconds.\n",
      "-- Epoch 20\n",
      "Norm: 6.42, NNZs: 13, Bias: 22.614437, T: 8080, Avg. loss: 11.237692\n",
      "Total training time: 0.00 seconds.\n",
      "-- Epoch 21\n",
      "Norm: 6.47, NNZs: 13, Bias: 22.607277, T: 8484, Avg. loss: 11.220350\n",
      "Total training time: 0.00 seconds.\n",
      "-- Epoch 22\n",
      "Norm: 6.52, NNZs: 13, Bias: 22.590886, T: 8888, Avg. loss: 11.204385\n",
      "Total training time: 0.00 seconds.\n",
      "-- Epoch 23\n",
      "Norm: 6.55, NNZs: 13, Bias: 22.588303, T: 9292, Avg. loss: 11.210930\n",
      "Total training time: 0.00 seconds.\n",
      "-- Epoch 24\n",
      "Norm: 6.51, NNZs: 13, Bias: 22.602524, T: 9696, Avg. loss: 11.147328\n",
      "Total training time: 0.00 seconds.\n",
      "-- Epoch 25\n",
      "Norm: 6.59, NNZs: 13, Bias: 22.605184, T: 10100, Avg. loss: 11.210631\n",
      "Total training time: 0.00 seconds.\n",
      "-- Epoch 26\n",
      "Norm: 6.62, NNZs: 13, Bias: 22.602818, T: 10504, Avg. loss: 11.188871\n",
      "Total training time: 0.00 seconds.\n",
      "-- Epoch 27\n",
      "Norm: 6.61, NNZs: 13, Bias: 22.606064, T: 10908, Avg. loss: 11.181711\n",
      "Total training time: 0.00 seconds.\n",
      "-- Epoch 28\n",
      "Norm: 6.65, NNZs: 13, Bias: 22.604837, T: 11312, Avg. loss: 11.166532\n",
      "Total training time: 0.00 seconds.\n",
      "-- Epoch 29\n",
      "Norm: 6.66, NNZs: 13, Bias: 22.593560, T: 11716, Avg. loss: 11.178291\n",
      "Total training time: 0.00 seconds.\n",
      "Convergence after 29 epochs took 0.00 seconds\n"
     ]
    },
    {
     "name": "stderr",
     "output_type": "stream",
     "text": [
      "C:\\Users\\medici\\anaconda3\\lib\\site-packages\\sklearn\\utils\\validation.py:63: DataConversionWarning: A column-vector y was passed when a 1d array was expected. Please change the shape of y to (n_samples, ), for example using ravel().\n",
      "  return f(*args, **kwargs)\n"
     ]
    },
    {
     "data": {
      "text/plain": [
       "SGDRegressor(verbose=1)"
      ]
     },
     "execution_count": 64,
     "metadata": {},
     "output_type": "execute_result"
    }
   ],
   "source": [
    "modelSGD = SGDRegressor(verbose=1)\n",
    "modelSGD.fit(x_train, y_train)"
   ]
  },
  {
   "cell_type": "markdown",
   "id": "cac20d8c-212e-4da0-a0e2-e940ac9418e6",
   "metadata": {},
   "source": [
    "## train_set 결정계수 구하기"
   ]
  },
  {
   "cell_type": "code",
   "execution_count": 70,
   "id": "da0f1126-d7dd-4629-935c-e244063ca000",
   "metadata": {},
   "outputs": [
    {
     "data": {
      "text/plain": [
       "0.7278614089409634"
      ]
     },
     "execution_count": 70,
     "metadata": {},
     "output_type": "execute_result"
    }
   ],
   "source": [
    "modelSGD.score(x_train, y_train)"
   ]
  },
  {
   "cell_type": "markdown",
   "id": "4f3881a5-ef03-4847-8c6b-17e9229c187c",
   "metadata": {},
   "source": [
    "## test_set 결정계수 구하기"
   ]
  },
  {
   "cell_type": "code",
   "execution_count": 71,
   "id": "4061233f-e0e2-4b67-94f2-cd54a8d00024",
   "metadata": {},
   "outputs": [
    {
     "data": {
      "text/plain": [
       "0.763668350948823"
      ]
     },
     "execution_count": 71,
     "metadata": {},
     "output_type": "execute_result"
    }
   ],
   "source": [
    "modelSGD.score(x_test, y_test)"
   ]
  },
  {
   "cell_type": "markdown",
   "id": "0e47ca31-b9e3-49bc-a59b-6102cf7abfa1",
   "metadata": {},
   "source": [
    "# [설명]train 점수, test 점수 \n",
    "- 테스트 점수가 트레인 점수보다 현저히 낮게 되면 오버피팅(과적합)된 것.\n",
    "- 테스트 점수가 트레인 점수보다 많이 높으면 학습이 더 되어야함.(과소적합)\n",
    "- 고로 학습이 잘 됐다."
   ]
  },
  {
   "cell_type": "markdown",
   "id": "e7666ac8-cc47-4b47-b7d9-56f0d082c2cc",
   "metadata": {},
   "source": [
    "## 예측값 확인 modelSGD.predict"
   ]
  },
  {
   "cell_type": "code",
   "execution_count": 69,
   "id": "8a904f59-b2b8-4a39-8797-c23077027220",
   "metadata": {
    "tags": []
   },
   "outputs": [
    {
     "data": {
      "text/plain": [
       "array([31.86073026])"
      ]
     },
     "execution_count": 69,
     "metadata": {},
     "output_type": "execute_result"
    }
   ],
   "source": [
    "# 예측값 확인\n",
    "modelSGD.predict(x_test[[0]])"
   ]
  },
  {
   "cell_type": "code",
   "execution_count": 66,
   "id": "26db0fc1-e78a-4c18-ad3b-08190c15a5ee",
   "metadata": {},
   "outputs": [
    {
     "data": {
      "text/plain": [
       "array([-0.41477789,  0.92862338, -1.30687771, -0.27259857, -0.71434722,\n",
       "        0.80402837,  0.0613455 , -0.29108882, -0.29308074, -1.10611514,\n",
       "       -0.02567665,  0.44105193, -0.71811916])"
      ]
     },
     "execution_count": 66,
     "metadata": {},
     "output_type": "execute_result"
    }
   ],
   "source": [
    "x_test[0] # 13 벡터니까 데이터셋(매트릭스)으로 predict해줘야함 matmul"
   ]
  },
  {
   "cell_type": "code",
   "execution_count": 67,
   "id": "cd1d74b3-ebbc-4efe-a57b-d0537296c642",
   "metadata": {},
   "outputs": [
    {
     "data": {
      "text/plain": [
       "array([28.2])"
      ]
     },
     "execution_count": 67,
     "metadata": {},
     "output_type": "execute_result"
    }
   ],
   "source": [
    "y_test[0]"
   ]
  },
  {
   "cell_type": "markdown",
   "id": "4ad16f27-c162-4df9-84b3-a3731ff5c2a3",
   "metadata": {},
   "source": [
    "## 원 데이터로 예측하기 predict"
   ]
  },
  {
   "cell_type": "code",
   "execution_count": 72,
   "id": "d43f12f3-fd20-4b8c-a9bd-2e56545b9f5a",
   "metadata": {},
   "outputs": [
    {
     "data": {
      "text/plain": [
       "array([[25.02556238]])"
      ]
     },
     "execution_count": 72,
     "metadata": {},
     "output_type": "execute_result"
    }
   ],
   "source": [
    "# 사실 원데이터를 예측해야함.\n",
    "boston_lr.predict([[0.02731, 0.0, 7.07, 0.0, 0.469, 6.421, 78.9, 4.9671, 2.0, 242.0, 17.8, 396.90, 9.14]])\n",
    "# 요 위에 대한 스케일링 값을 줘야함"
   ]
  },
  {
   "cell_type": "markdown",
   "id": "bc2adbad-76f0-4ef8-b06f-5453c358332c",
   "metadata": {},
   "source": [
    "## scaling하기 transform"
   ]
  },
  {
   "cell_type": "code",
   "execution_count": 76,
   "id": "478dbe14-ad33-41b0-aedf-2da411f98c3d",
   "metadata": {},
   "outputs": [],
   "source": [
    "xd = scaleX.transform([[0.02731, 0.0, 7.07, 0.0, 0.469, 6.421, 78.9, 4.9671, 2.0, 242.0, 17.8, 396.90, 9.14]])\n",
    "# 롸? 이건 리얼 뭐지 스케일링되지 않은 값으로 트랜스폼해줘야함."
   ]
  },
  {
   "cell_type": "markdown",
   "id": "d60fd8a3-8538-49af-8850-0777d887d3cd",
   "metadata": {},
   "source": [
    "## scaling한 값 예측하기 predict"
   ]
  },
  {
   "cell_type": "code",
   "execution_count": 77,
   "id": "7ee3098f-5ade-45d0-9c64-08700bc9d1ba",
   "metadata": {},
   "outputs": [
    {
     "data": {
      "text/plain": [
       "array([24.83176527])"
      ]
     },
     "execution_count": 77,
     "metadata": {},
     "output_type": "execute_result"
    }
   ],
   "source": [
    "modelSGD.predict(xd)"
   ]
  },
  {
   "cell_type": "code",
   "execution_count": 78,
   "id": "44a3212f-4e65-48ed-92d3-080b23e422f9",
   "metadata": {},
   "outputs": [],
   "source": [
    "# 붓꽃데이터\n",
    "iris = load_iris()"
   ]
  },
  {
   "cell_type": "code",
   "execution_count": 79,
   "id": "6cc376e0-c7ee-49fb-ac60-3b2b9e55e230",
   "metadata": {
    "collapsed": true,
    "jupyter": {
     "outputs_hidden": true
    },
    "tags": []
   },
   "outputs": [
    {
     "data": {
      "text/plain": [
       "{'data': array([[5.1, 3.5, 1.4, 0.2],\n",
       "        [4.9, 3. , 1.4, 0.2],\n",
       "        [4.7, 3.2, 1.3, 0.2],\n",
       "        [4.6, 3.1, 1.5, 0.2],\n",
       "        [5. , 3.6, 1.4, 0.2],\n",
       "        [5.4, 3.9, 1.7, 0.4],\n",
       "        [4.6, 3.4, 1.4, 0.3],\n",
       "        [5. , 3.4, 1.5, 0.2],\n",
       "        [4.4, 2.9, 1.4, 0.2],\n",
       "        [4.9, 3.1, 1.5, 0.1],\n",
       "        [5.4, 3.7, 1.5, 0.2],\n",
       "        [4.8, 3.4, 1.6, 0.2],\n",
       "        [4.8, 3. , 1.4, 0.1],\n",
       "        [4.3, 3. , 1.1, 0.1],\n",
       "        [5.8, 4. , 1.2, 0.2],\n",
       "        [5.7, 4.4, 1.5, 0.4],\n",
       "        [5.4, 3.9, 1.3, 0.4],\n",
       "        [5.1, 3.5, 1.4, 0.3],\n",
       "        [5.7, 3.8, 1.7, 0.3],\n",
       "        [5.1, 3.8, 1.5, 0.3],\n",
       "        [5.4, 3.4, 1.7, 0.2],\n",
       "        [5.1, 3.7, 1.5, 0.4],\n",
       "        [4.6, 3.6, 1. , 0.2],\n",
       "        [5.1, 3.3, 1.7, 0.5],\n",
       "        [4.8, 3.4, 1.9, 0.2],\n",
       "        [5. , 3. , 1.6, 0.2],\n",
       "        [5. , 3.4, 1.6, 0.4],\n",
       "        [5.2, 3.5, 1.5, 0.2],\n",
       "        [5.2, 3.4, 1.4, 0.2],\n",
       "        [4.7, 3.2, 1.6, 0.2],\n",
       "        [4.8, 3.1, 1.6, 0.2],\n",
       "        [5.4, 3.4, 1.5, 0.4],\n",
       "        [5.2, 4.1, 1.5, 0.1],\n",
       "        [5.5, 4.2, 1.4, 0.2],\n",
       "        [4.9, 3.1, 1.5, 0.2],\n",
       "        [5. , 3.2, 1.2, 0.2],\n",
       "        [5.5, 3.5, 1.3, 0.2],\n",
       "        [4.9, 3.6, 1.4, 0.1],\n",
       "        [4.4, 3. , 1.3, 0.2],\n",
       "        [5.1, 3.4, 1.5, 0.2],\n",
       "        [5. , 3.5, 1.3, 0.3],\n",
       "        [4.5, 2.3, 1.3, 0.3],\n",
       "        [4.4, 3.2, 1.3, 0.2],\n",
       "        [5. , 3.5, 1.6, 0.6],\n",
       "        [5.1, 3.8, 1.9, 0.4],\n",
       "        [4.8, 3. , 1.4, 0.3],\n",
       "        [5.1, 3.8, 1.6, 0.2],\n",
       "        [4.6, 3.2, 1.4, 0.2],\n",
       "        [5.3, 3.7, 1.5, 0.2],\n",
       "        [5. , 3.3, 1.4, 0.2],\n",
       "        [7. , 3.2, 4.7, 1.4],\n",
       "        [6.4, 3.2, 4.5, 1.5],\n",
       "        [6.9, 3.1, 4.9, 1.5],\n",
       "        [5.5, 2.3, 4. , 1.3],\n",
       "        [6.5, 2.8, 4.6, 1.5],\n",
       "        [5.7, 2.8, 4.5, 1.3],\n",
       "        [6.3, 3.3, 4.7, 1.6],\n",
       "        [4.9, 2.4, 3.3, 1. ],\n",
       "        [6.6, 2.9, 4.6, 1.3],\n",
       "        [5.2, 2.7, 3.9, 1.4],\n",
       "        [5. , 2. , 3.5, 1. ],\n",
       "        [5.9, 3. , 4.2, 1.5],\n",
       "        [6. , 2.2, 4. , 1. ],\n",
       "        [6.1, 2.9, 4.7, 1.4],\n",
       "        [5.6, 2.9, 3.6, 1.3],\n",
       "        [6.7, 3.1, 4.4, 1.4],\n",
       "        [5.6, 3. , 4.5, 1.5],\n",
       "        [5.8, 2.7, 4.1, 1. ],\n",
       "        [6.2, 2.2, 4.5, 1.5],\n",
       "        [5.6, 2.5, 3.9, 1.1],\n",
       "        [5.9, 3.2, 4.8, 1.8],\n",
       "        [6.1, 2.8, 4. , 1.3],\n",
       "        [6.3, 2.5, 4.9, 1.5],\n",
       "        [6.1, 2.8, 4.7, 1.2],\n",
       "        [6.4, 2.9, 4.3, 1.3],\n",
       "        [6.6, 3. , 4.4, 1.4],\n",
       "        [6.8, 2.8, 4.8, 1.4],\n",
       "        [6.7, 3. , 5. , 1.7],\n",
       "        [6. , 2.9, 4.5, 1.5],\n",
       "        [5.7, 2.6, 3.5, 1. ],\n",
       "        [5.5, 2.4, 3.8, 1.1],\n",
       "        [5.5, 2.4, 3.7, 1. ],\n",
       "        [5.8, 2.7, 3.9, 1.2],\n",
       "        [6. , 2.7, 5.1, 1.6],\n",
       "        [5.4, 3. , 4.5, 1.5],\n",
       "        [6. , 3.4, 4.5, 1.6],\n",
       "        [6.7, 3.1, 4.7, 1.5],\n",
       "        [6.3, 2.3, 4.4, 1.3],\n",
       "        [5.6, 3. , 4.1, 1.3],\n",
       "        [5.5, 2.5, 4. , 1.3],\n",
       "        [5.5, 2.6, 4.4, 1.2],\n",
       "        [6.1, 3. , 4.6, 1.4],\n",
       "        [5.8, 2.6, 4. , 1.2],\n",
       "        [5. , 2.3, 3.3, 1. ],\n",
       "        [5.6, 2.7, 4.2, 1.3],\n",
       "        [5.7, 3. , 4.2, 1.2],\n",
       "        [5.7, 2.9, 4.2, 1.3],\n",
       "        [6.2, 2.9, 4.3, 1.3],\n",
       "        [5.1, 2.5, 3. , 1.1],\n",
       "        [5.7, 2.8, 4.1, 1.3],\n",
       "        [6.3, 3.3, 6. , 2.5],\n",
       "        [5.8, 2.7, 5.1, 1.9],\n",
       "        [7.1, 3. , 5.9, 2.1],\n",
       "        [6.3, 2.9, 5.6, 1.8],\n",
       "        [6.5, 3. , 5.8, 2.2],\n",
       "        [7.6, 3. , 6.6, 2.1],\n",
       "        [4.9, 2.5, 4.5, 1.7],\n",
       "        [7.3, 2.9, 6.3, 1.8],\n",
       "        [6.7, 2.5, 5.8, 1.8],\n",
       "        [7.2, 3.6, 6.1, 2.5],\n",
       "        [6.5, 3.2, 5.1, 2. ],\n",
       "        [6.4, 2.7, 5.3, 1.9],\n",
       "        [6.8, 3. , 5.5, 2.1],\n",
       "        [5.7, 2.5, 5. , 2. ],\n",
       "        [5.8, 2.8, 5.1, 2.4],\n",
       "        [6.4, 3.2, 5.3, 2.3],\n",
       "        [6.5, 3. , 5.5, 1.8],\n",
       "        [7.7, 3.8, 6.7, 2.2],\n",
       "        [7.7, 2.6, 6.9, 2.3],\n",
       "        [6. , 2.2, 5. , 1.5],\n",
       "        [6.9, 3.2, 5.7, 2.3],\n",
       "        [5.6, 2.8, 4.9, 2. ],\n",
       "        [7.7, 2.8, 6.7, 2. ],\n",
       "        [6.3, 2.7, 4.9, 1.8],\n",
       "        [6.7, 3.3, 5.7, 2.1],\n",
       "        [7.2, 3.2, 6. , 1.8],\n",
       "        [6.2, 2.8, 4.8, 1.8],\n",
       "        [6.1, 3. , 4.9, 1.8],\n",
       "        [6.4, 2.8, 5.6, 2.1],\n",
       "        [7.2, 3. , 5.8, 1.6],\n",
       "        [7.4, 2.8, 6.1, 1.9],\n",
       "        [7.9, 3.8, 6.4, 2. ],\n",
       "        [6.4, 2.8, 5.6, 2.2],\n",
       "        [6.3, 2.8, 5.1, 1.5],\n",
       "        [6.1, 2.6, 5.6, 1.4],\n",
       "        [7.7, 3. , 6.1, 2.3],\n",
       "        [6.3, 3.4, 5.6, 2.4],\n",
       "        [6.4, 3.1, 5.5, 1.8],\n",
       "        [6. , 3. , 4.8, 1.8],\n",
       "        [6.9, 3.1, 5.4, 2.1],\n",
       "        [6.7, 3.1, 5.6, 2.4],\n",
       "        [6.9, 3.1, 5.1, 2.3],\n",
       "        [5.8, 2.7, 5.1, 1.9],\n",
       "        [6.8, 3.2, 5.9, 2.3],\n",
       "        [6.7, 3.3, 5.7, 2.5],\n",
       "        [6.7, 3. , 5.2, 2.3],\n",
       "        [6.3, 2.5, 5. , 1.9],\n",
       "        [6.5, 3. , 5.2, 2. ],\n",
       "        [6.2, 3.4, 5.4, 2.3],\n",
       "        [5.9, 3. , 5.1, 1.8]]),\n",
       " 'target': array([0, 0, 0, 0, 0, 0, 0, 0, 0, 0, 0, 0, 0, 0, 0, 0, 0, 0, 0, 0, 0, 0,\n",
       "        0, 0, 0, 0, 0, 0, 0, 0, 0, 0, 0, 0, 0, 0, 0, 0, 0, 0, 0, 0, 0, 0,\n",
       "        0, 0, 0, 0, 0, 0, 1, 1, 1, 1, 1, 1, 1, 1, 1, 1, 1, 1, 1, 1, 1, 1,\n",
       "        1, 1, 1, 1, 1, 1, 1, 1, 1, 1, 1, 1, 1, 1, 1, 1, 1, 1, 1, 1, 1, 1,\n",
       "        1, 1, 1, 1, 1, 1, 1, 1, 1, 1, 1, 1, 2, 2, 2, 2, 2, 2, 2, 2, 2, 2,\n",
       "        2, 2, 2, 2, 2, 2, 2, 2, 2, 2, 2, 2, 2, 2, 2, 2, 2, 2, 2, 2, 2, 2,\n",
       "        2, 2, 2, 2, 2, 2, 2, 2, 2, 2, 2, 2, 2, 2, 2, 2, 2, 2]),\n",
       " 'frame': None,\n",
       " 'target_names': array(['setosa', 'versicolor', 'virginica'], dtype='<U10'),\n",
       " 'DESCR': '.. _iris_dataset:\\n\\nIris plants dataset\\n--------------------\\n\\n**Data Set Characteristics:**\\n\\n    :Number of Instances: 150 (50 in each of three classes)\\n    :Number of Attributes: 4 numeric, predictive attributes and the class\\n    :Attribute Information:\\n        - sepal length in cm\\n        - sepal width in cm\\n        - petal length in cm\\n        - petal width in cm\\n        - class:\\n                - Iris-Setosa\\n                - Iris-Versicolour\\n                - Iris-Virginica\\n                \\n    :Summary Statistics:\\n\\n    ============== ==== ==== ======= ===== ====================\\n                    Min  Max   Mean    SD   Class Correlation\\n    ============== ==== ==== ======= ===== ====================\\n    sepal length:   4.3  7.9   5.84   0.83    0.7826\\n    sepal width:    2.0  4.4   3.05   0.43   -0.4194\\n    petal length:   1.0  6.9   3.76   1.76    0.9490  (high!)\\n    petal width:    0.1  2.5   1.20   0.76    0.9565  (high!)\\n    ============== ==== ==== ======= ===== ====================\\n\\n    :Missing Attribute Values: None\\n    :Class Distribution: 33.3% for each of 3 classes.\\n    :Creator: R.A. Fisher\\n    :Donor: Michael Marshall (MARSHALL%PLU@io.arc.nasa.gov)\\n    :Date: July, 1988\\n\\nThe famous Iris database, first used by Sir R.A. Fisher. The dataset is taken\\nfrom Fisher\\'s paper. Note that it\\'s the same as in R, but not as in the UCI\\nMachine Learning Repository, which has two wrong data points.\\n\\nThis is perhaps the best known database to be found in the\\npattern recognition literature.  Fisher\\'s paper is a classic in the field and\\nis referenced frequently to this day.  (See Duda & Hart, for example.)  The\\ndata set contains 3 classes of 50 instances each, where each class refers to a\\ntype of iris plant.  One class is linearly separable from the other 2; the\\nlatter are NOT linearly separable from each other.\\n\\n.. topic:: References\\n\\n   - Fisher, R.A. \"The use of multiple measurements in taxonomic problems\"\\n     Annual Eugenics, 7, Part II, 179-188 (1936); also in \"Contributions to\\n     Mathematical Statistics\" (John Wiley, NY, 1950).\\n   - Duda, R.O., & Hart, P.E. (1973) Pattern Classification and Scene Analysis.\\n     (Q327.D83) John Wiley & Sons.  ISBN 0-471-22361-1.  See page 218.\\n   - Dasarathy, B.V. (1980) \"Nosing Around the Neighborhood: A New System\\n     Structure and Classification Rule for Recognition in Partially Exposed\\n     Environments\".  IEEE Transactions on Pattern Analysis and Machine\\n     Intelligence, Vol. PAMI-2, No. 1, 67-71.\\n   - Gates, G.W. (1972) \"The Reduced Nearest Neighbor Rule\".  IEEE Transactions\\n     on Information Theory, May 1972, 431-433.\\n   - See also: 1988 MLC Proceedings, 54-64.  Cheeseman et al\"s AUTOCLASS II\\n     conceptual clustering system finds 3 classes in the data.\\n   - Many, many more ...',\n",
       " 'feature_names': ['sepal length (cm)',\n",
       "  'sepal width (cm)',\n",
       "  'petal length (cm)',\n",
       "  'petal width (cm)'],\n",
       " 'filename': 'C:\\\\Users\\\\medici\\\\anaconda3\\\\lib\\\\site-packages\\\\sklearn\\\\datasets\\\\data\\\\iris.csv'}"
      ]
     },
     "execution_count": 79,
     "metadata": {},
     "output_type": "execute_result"
    }
   ],
   "source": [
    "iris # 딕셔너리"
   ]
  },
  {
   "cell_type": "code",
   "execution_count": 80,
   "id": "71238cbd-3e5c-40b3-af73-f8af9785bad8",
   "metadata": {},
   "outputs": [
    {
     "data": {
      "text/plain": [
       "dict_keys(['data', 'target', 'frame', 'target_names', 'DESCR', 'feature_names', 'filename'])"
      ]
     },
     "execution_count": 80,
     "metadata": {},
     "output_type": "execute_result"
    }
   ],
   "source": [
    "iris.keys() # 특성, 라벨, "
   ]
  },
  {
   "cell_type": "code",
   "execution_count": 81,
   "id": "6ae46e36-35e1-4130-b53e-782cf1412037",
   "metadata": {
    "collapsed": true,
    "jupyter": {
     "outputs_hidden": true
    },
    "tags": []
   },
   "outputs": [
    {
     "data": {
      "text/plain": [
       "array([[5.1, 3.5, 1.4, 0.2],\n",
       "       [4.9, 3. , 1.4, 0.2],\n",
       "       [4.7, 3.2, 1.3, 0.2],\n",
       "       [4.6, 3.1, 1.5, 0.2],\n",
       "       [5. , 3.6, 1.4, 0.2],\n",
       "       [5.4, 3.9, 1.7, 0.4],\n",
       "       [4.6, 3.4, 1.4, 0.3],\n",
       "       [5. , 3.4, 1.5, 0.2],\n",
       "       [4.4, 2.9, 1.4, 0.2],\n",
       "       [4.9, 3.1, 1.5, 0.1],\n",
       "       [5.4, 3.7, 1.5, 0.2],\n",
       "       [4.8, 3.4, 1.6, 0.2],\n",
       "       [4.8, 3. , 1.4, 0.1],\n",
       "       [4.3, 3. , 1.1, 0.1],\n",
       "       [5.8, 4. , 1.2, 0.2],\n",
       "       [5.7, 4.4, 1.5, 0.4],\n",
       "       [5.4, 3.9, 1.3, 0.4],\n",
       "       [5.1, 3.5, 1.4, 0.3],\n",
       "       [5.7, 3.8, 1.7, 0.3],\n",
       "       [5.1, 3.8, 1.5, 0.3],\n",
       "       [5.4, 3.4, 1.7, 0.2],\n",
       "       [5.1, 3.7, 1.5, 0.4],\n",
       "       [4.6, 3.6, 1. , 0.2],\n",
       "       [5.1, 3.3, 1.7, 0.5],\n",
       "       [4.8, 3.4, 1.9, 0.2],\n",
       "       [5. , 3. , 1.6, 0.2],\n",
       "       [5. , 3.4, 1.6, 0.4],\n",
       "       [5.2, 3.5, 1.5, 0.2],\n",
       "       [5.2, 3.4, 1.4, 0.2],\n",
       "       [4.7, 3.2, 1.6, 0.2],\n",
       "       [4.8, 3.1, 1.6, 0.2],\n",
       "       [5.4, 3.4, 1.5, 0.4],\n",
       "       [5.2, 4.1, 1.5, 0.1],\n",
       "       [5.5, 4.2, 1.4, 0.2],\n",
       "       [4.9, 3.1, 1.5, 0.2],\n",
       "       [5. , 3.2, 1.2, 0.2],\n",
       "       [5.5, 3.5, 1.3, 0.2],\n",
       "       [4.9, 3.6, 1.4, 0.1],\n",
       "       [4.4, 3. , 1.3, 0.2],\n",
       "       [5.1, 3.4, 1.5, 0.2],\n",
       "       [5. , 3.5, 1.3, 0.3],\n",
       "       [4.5, 2.3, 1.3, 0.3],\n",
       "       [4.4, 3.2, 1.3, 0.2],\n",
       "       [5. , 3.5, 1.6, 0.6],\n",
       "       [5.1, 3.8, 1.9, 0.4],\n",
       "       [4.8, 3. , 1.4, 0.3],\n",
       "       [5.1, 3.8, 1.6, 0.2],\n",
       "       [4.6, 3.2, 1.4, 0.2],\n",
       "       [5.3, 3.7, 1.5, 0.2],\n",
       "       [5. , 3.3, 1.4, 0.2],\n",
       "       [7. , 3.2, 4.7, 1.4],\n",
       "       [6.4, 3.2, 4.5, 1.5],\n",
       "       [6.9, 3.1, 4.9, 1.5],\n",
       "       [5.5, 2.3, 4. , 1.3],\n",
       "       [6.5, 2.8, 4.6, 1.5],\n",
       "       [5.7, 2.8, 4.5, 1.3],\n",
       "       [6.3, 3.3, 4.7, 1.6],\n",
       "       [4.9, 2.4, 3.3, 1. ],\n",
       "       [6.6, 2.9, 4.6, 1.3],\n",
       "       [5.2, 2.7, 3.9, 1.4],\n",
       "       [5. , 2. , 3.5, 1. ],\n",
       "       [5.9, 3. , 4.2, 1.5],\n",
       "       [6. , 2.2, 4. , 1. ],\n",
       "       [6.1, 2.9, 4.7, 1.4],\n",
       "       [5.6, 2.9, 3.6, 1.3],\n",
       "       [6.7, 3.1, 4.4, 1.4],\n",
       "       [5.6, 3. , 4.5, 1.5],\n",
       "       [5.8, 2.7, 4.1, 1. ],\n",
       "       [6.2, 2.2, 4.5, 1.5],\n",
       "       [5.6, 2.5, 3.9, 1.1],\n",
       "       [5.9, 3.2, 4.8, 1.8],\n",
       "       [6.1, 2.8, 4. , 1.3],\n",
       "       [6.3, 2.5, 4.9, 1.5],\n",
       "       [6.1, 2.8, 4.7, 1.2],\n",
       "       [6.4, 2.9, 4.3, 1.3],\n",
       "       [6.6, 3. , 4.4, 1.4],\n",
       "       [6.8, 2.8, 4.8, 1.4],\n",
       "       [6.7, 3. , 5. , 1.7],\n",
       "       [6. , 2.9, 4.5, 1.5],\n",
       "       [5.7, 2.6, 3.5, 1. ],\n",
       "       [5.5, 2.4, 3.8, 1.1],\n",
       "       [5.5, 2.4, 3.7, 1. ],\n",
       "       [5.8, 2.7, 3.9, 1.2],\n",
       "       [6. , 2.7, 5.1, 1.6],\n",
       "       [5.4, 3. , 4.5, 1.5],\n",
       "       [6. , 3.4, 4.5, 1.6],\n",
       "       [6.7, 3.1, 4.7, 1.5],\n",
       "       [6.3, 2.3, 4.4, 1.3],\n",
       "       [5.6, 3. , 4.1, 1.3],\n",
       "       [5.5, 2.5, 4. , 1.3],\n",
       "       [5.5, 2.6, 4.4, 1.2],\n",
       "       [6.1, 3. , 4.6, 1.4],\n",
       "       [5.8, 2.6, 4. , 1.2],\n",
       "       [5. , 2.3, 3.3, 1. ],\n",
       "       [5.6, 2.7, 4.2, 1.3],\n",
       "       [5.7, 3. , 4.2, 1.2],\n",
       "       [5.7, 2.9, 4.2, 1.3],\n",
       "       [6.2, 2.9, 4.3, 1.3],\n",
       "       [5.1, 2.5, 3. , 1.1],\n",
       "       [5.7, 2.8, 4.1, 1.3],\n",
       "       [6.3, 3.3, 6. , 2.5],\n",
       "       [5.8, 2.7, 5.1, 1.9],\n",
       "       [7.1, 3. , 5.9, 2.1],\n",
       "       [6.3, 2.9, 5.6, 1.8],\n",
       "       [6.5, 3. , 5.8, 2.2],\n",
       "       [7.6, 3. , 6.6, 2.1],\n",
       "       [4.9, 2.5, 4.5, 1.7],\n",
       "       [7.3, 2.9, 6.3, 1.8],\n",
       "       [6.7, 2.5, 5.8, 1.8],\n",
       "       [7.2, 3.6, 6.1, 2.5],\n",
       "       [6.5, 3.2, 5.1, 2. ],\n",
       "       [6.4, 2.7, 5.3, 1.9],\n",
       "       [6.8, 3. , 5.5, 2.1],\n",
       "       [5.7, 2.5, 5. , 2. ],\n",
       "       [5.8, 2.8, 5.1, 2.4],\n",
       "       [6.4, 3.2, 5.3, 2.3],\n",
       "       [6.5, 3. , 5.5, 1.8],\n",
       "       [7.7, 3.8, 6.7, 2.2],\n",
       "       [7.7, 2.6, 6.9, 2.3],\n",
       "       [6. , 2.2, 5. , 1.5],\n",
       "       [6.9, 3.2, 5.7, 2.3],\n",
       "       [5.6, 2.8, 4.9, 2. ],\n",
       "       [7.7, 2.8, 6.7, 2. ],\n",
       "       [6.3, 2.7, 4.9, 1.8],\n",
       "       [6.7, 3.3, 5.7, 2.1],\n",
       "       [7.2, 3.2, 6. , 1.8],\n",
       "       [6.2, 2.8, 4.8, 1.8],\n",
       "       [6.1, 3. , 4.9, 1.8],\n",
       "       [6.4, 2.8, 5.6, 2.1],\n",
       "       [7.2, 3. , 5.8, 1.6],\n",
       "       [7.4, 2.8, 6.1, 1.9],\n",
       "       [7.9, 3.8, 6.4, 2. ],\n",
       "       [6.4, 2.8, 5.6, 2.2],\n",
       "       [6.3, 2.8, 5.1, 1.5],\n",
       "       [6.1, 2.6, 5.6, 1.4],\n",
       "       [7.7, 3. , 6.1, 2.3],\n",
       "       [6.3, 3.4, 5.6, 2.4],\n",
       "       [6.4, 3.1, 5.5, 1.8],\n",
       "       [6. , 3. , 4.8, 1.8],\n",
       "       [6.9, 3.1, 5.4, 2.1],\n",
       "       [6.7, 3.1, 5.6, 2.4],\n",
       "       [6.9, 3.1, 5.1, 2.3],\n",
       "       [5.8, 2.7, 5.1, 1.9],\n",
       "       [6.8, 3.2, 5.9, 2.3],\n",
       "       [6.7, 3.3, 5.7, 2.5],\n",
       "       [6.7, 3. , 5.2, 2.3],\n",
       "       [6.3, 2.5, 5. , 1.9],\n",
       "       [6.5, 3. , 5.2, 2. ],\n",
       "       [6.2, 3.4, 5.4, 2.3],\n",
       "       [5.9, 3. , 5.1, 1.8]])"
      ]
     },
     "execution_count": 81,
     "metadata": {},
     "output_type": "execute_result"
    }
   ],
   "source": [
    "iris['data'] # 4개 칼럼"
   ]
  },
  {
   "cell_type": "code",
   "execution_count": 83,
   "id": "bcd9cf09-0b5a-48f7-9dfb-527a4b1cd0c5",
   "metadata": {
    "collapsed": true,
    "jupyter": {
     "outputs_hidden": true
    },
    "tags": []
   },
   "outputs": [
    {
     "data": {
      "text/plain": [
       "array([0, 0, 0, 0, 0, 0, 0, 0, 0, 0, 0, 0, 0, 0, 0, 0, 0, 0, 0, 0, 0, 0,\n",
       "       0, 0, 0, 0, 0, 0, 0, 0, 0, 0, 0, 0, 0, 0, 0, 0, 0, 0, 0, 0, 0, 0,\n",
       "       0, 0, 0, 0, 0, 0, 1, 1, 1, 1, 1, 1, 1, 1, 1, 1, 1, 1, 1, 1, 1, 1,\n",
       "       1, 1, 1, 1, 1, 1, 1, 1, 1, 1, 1, 1, 1, 1, 1, 1, 1, 1, 1, 1, 1, 1,\n",
       "       1, 1, 1, 1, 1, 1, 1, 1, 1, 1, 1, 1, 2, 2, 2, 2, 2, 2, 2, 2, 2, 2,\n",
       "       2, 2, 2, 2, 2, 2, 2, 2, 2, 2, 2, 2, 2, 2, 2, 2, 2, 2, 2, 2, 2, 2,\n",
       "       2, 2, 2, 2, 2, 2, 2, 2, 2, 2, 2, 2, 2, 2, 2, 2, 2, 2])"
      ]
     },
     "execution_count": 83,
     "metadata": {},
     "output_type": "execute_result"
    }
   ],
   "source": [
    "iris['target'] # 0,1,2 붓꽃의 종류, 품종, 분류쪽에 해당. 라벨로 쓰지 않을 것."
   ]
  },
  {
   "cell_type": "code",
   "execution_count": 84,
   "id": "5d35ef77-f3b1-418a-88d8-da5c5f6de47e",
   "metadata": {},
   "outputs": [
    {
     "data": {
      "text/plain": [
       "array(['setosa', 'versicolor', 'virginica'], dtype='<U10')"
      ]
     },
     "execution_count": 84,
     "metadata": {},
     "output_type": "execute_result"
    }
   ],
   "source": [
    "iris['target_names'] # "
   ]
  },
  {
   "cell_type": "code",
   "execution_count": 87,
   "id": "969faa96-d4b4-4d0d-90eb-ec81f3ac520d",
   "metadata": {},
   "outputs": [
    {
     "data": {
      "text/html": [
       "<div>\n",
       "<style scoped>\n",
       "    .dataframe tbody tr th:only-of-type {\n",
       "        vertical-align: middle;\n",
       "    }\n",
       "\n",
       "    .dataframe tbody tr th {\n",
       "        vertical-align: top;\n",
       "    }\n",
       "\n",
       "    .dataframe thead th {\n",
       "        text-align: right;\n",
       "    }\n",
       "</style>\n",
       "<table border=\"1\" class=\"dataframe\">\n",
       "  <thead>\n",
       "    <tr style=\"text-align: right;\">\n",
       "      <th></th>\n",
       "      <th>sepal length (cm)</th>\n",
       "      <th>sepal width (cm)</th>\n",
       "      <th>petal length (cm)</th>\n",
       "      <th>petal width (cm)</th>\n",
       "      <th>target</th>\n",
       "    </tr>\n",
       "  </thead>\n",
       "  <tbody>\n",
       "    <tr>\n",
       "      <th>0</th>\n",
       "      <td>5.1</td>\n",
       "      <td>3.5</td>\n",
       "      <td>1.4</td>\n",
       "      <td>0.2</td>\n",
       "      <td>0</td>\n",
       "    </tr>\n",
       "    <tr>\n",
       "      <th>1</th>\n",
       "      <td>4.9</td>\n",
       "      <td>3.0</td>\n",
       "      <td>1.4</td>\n",
       "      <td>0.2</td>\n",
       "      <td>0</td>\n",
       "    </tr>\n",
       "    <tr>\n",
       "      <th>2</th>\n",
       "      <td>4.7</td>\n",
       "      <td>3.2</td>\n",
       "      <td>1.3</td>\n",
       "      <td>0.2</td>\n",
       "      <td>0</td>\n",
       "    </tr>\n",
       "    <tr>\n",
       "      <th>3</th>\n",
       "      <td>4.6</td>\n",
       "      <td>3.1</td>\n",
       "      <td>1.5</td>\n",
       "      <td>0.2</td>\n",
       "      <td>0</td>\n",
       "    </tr>\n",
       "    <tr>\n",
       "      <th>4</th>\n",
       "      <td>5.0</td>\n",
       "      <td>3.6</td>\n",
       "      <td>1.4</td>\n",
       "      <td>0.2</td>\n",
       "      <td>0</td>\n",
       "    </tr>\n",
       "    <tr>\n",
       "      <th>...</th>\n",
       "      <td>...</td>\n",
       "      <td>...</td>\n",
       "      <td>...</td>\n",
       "      <td>...</td>\n",
       "      <td>...</td>\n",
       "    </tr>\n",
       "    <tr>\n",
       "      <th>145</th>\n",
       "      <td>6.7</td>\n",
       "      <td>3.0</td>\n",
       "      <td>5.2</td>\n",
       "      <td>2.3</td>\n",
       "      <td>2</td>\n",
       "    </tr>\n",
       "    <tr>\n",
       "      <th>146</th>\n",
       "      <td>6.3</td>\n",
       "      <td>2.5</td>\n",
       "      <td>5.0</td>\n",
       "      <td>1.9</td>\n",
       "      <td>2</td>\n",
       "    </tr>\n",
       "    <tr>\n",
       "      <th>147</th>\n",
       "      <td>6.5</td>\n",
       "      <td>3.0</td>\n",
       "      <td>5.2</td>\n",
       "      <td>2.0</td>\n",
       "      <td>2</td>\n",
       "    </tr>\n",
       "    <tr>\n",
       "      <th>148</th>\n",
       "      <td>6.2</td>\n",
       "      <td>3.4</td>\n",
       "      <td>5.4</td>\n",
       "      <td>2.3</td>\n",
       "      <td>2</td>\n",
       "    </tr>\n",
       "    <tr>\n",
       "      <th>149</th>\n",
       "      <td>5.9</td>\n",
       "      <td>3.0</td>\n",
       "      <td>5.1</td>\n",
       "      <td>1.8</td>\n",
       "      <td>2</td>\n",
       "    </tr>\n",
       "  </tbody>\n",
       "</table>\n",
       "<p>150 rows × 5 columns</p>\n",
       "</div>"
      ],
      "text/plain": [
       "     sepal length (cm)  sepal width (cm)  petal length (cm)  petal width (cm)  \\\n",
       "0                  5.1               3.5                1.4               0.2   \n",
       "1                  4.9               3.0                1.4               0.2   \n",
       "2                  4.7               3.2                1.3               0.2   \n",
       "3                  4.6               3.1                1.5               0.2   \n",
       "4                  5.0               3.6                1.4               0.2   \n",
       "..                 ...               ...                ...               ...   \n",
       "145                6.7               3.0                5.2               2.3   \n",
       "146                6.3               2.5                5.0               1.9   \n",
       "147                6.5               3.0                5.2               2.0   \n",
       "148                6.2               3.4                5.4               2.3   \n",
       "149                5.9               3.0                5.1               1.8   \n",
       "\n",
       "     target  \n",
       "0         0  \n",
       "1         0  \n",
       "2         0  \n",
       "3         0  \n",
       "4         0  \n",
       "..      ...  \n",
       "145       2  \n",
       "146       2  \n",
       "147       2  \n",
       "148       2  \n",
       "149       2  \n",
       "\n",
       "[150 rows x 5 columns]"
      ]
     },
     "execution_count": 87,
     "metadata": {},
     "output_type": "execute_result"
    }
   ],
   "source": [
    "iris_df = pd.DataFrame(iris['data'],columns = iris['feature_names'])\n",
    "iris_df['target'] = iris['target']\n",
    "iris_df\n"
   ]
  },
  {
   "cell_type": "markdown",
   "id": "257151ee-5041-43d9-93eb-8e1f8fa78c47",
   "metadata": {},
   "source": [
    "# 팀 과제\n",
    "sl(target), feature(sw,pl,pw)\n",
    "문제 : sw:3.0, pl:1.4, pw:0.2 인 경우 sl를 예측하시오\n",
    "1. scale (standardscaring)\n",
    "2. train, test\n",
    "3. train, test score\n",
    "4. 예측"
   ]
  },
  {
   "cell_type": "code",
   "execution_count": 106,
   "id": "3266fa31-311f-4a56-9deb-24855bfabd87",
   "metadata": {},
   "outputs": [],
   "source": [
    "x_data = iris_df.iloc[:,1:-1].values\n",
    "y_data = iris_df.iloc[:,0].values\n",
    "\n",
    "scaler_x = StandardScaler()\n",
    "scaler_x.fit(x_data)\n",
    "x_dataS = scaler_x.transform(x_data)"
   ]
  },
  {
   "cell_type": "code",
   "execution_count": 107,
   "id": "42d8dcd3-5930-49b1-9575-327f3d8a1c84",
   "metadata": {},
   "outputs": [],
   "source": [
    "x_train, x_test, y_train, y_test = train_test_split(x_dataS, y_data,test_size=0.2, random_state=1)\n"
   ]
  },
  {
   "cell_type": "code",
   "execution_count": null,
   "id": "5a82fe0a-f85c-4834-9b8b-18eb86baffcd",
   "metadata": {},
   "outputs": [],
   "source": [
    "#scaling은 특성데이터만 해도됨. 라벨은 할 필요없음."
   ]
  },
  {
   "cell_type": "code",
   "execution_count": 108,
   "id": "f9570461-e906-4c77-bd4f-3a274c6b5707",
   "metadata": {},
   "outputs": [
    {
     "data": {
      "text/plain": [
       "SGDRegressor()"
      ]
     },
     "execution_count": 108,
     "metadata": {},
     "output_type": "execute_result"
    }
   ],
   "source": [
    "model_sgd = SGDRegressor()\n",
    "model_sgd.fit(x_train, y_train)"
   ]
  },
  {
   "cell_type": "code",
   "execution_count": 111,
   "id": "26755d94-b7a1-4979-8dbe-9ae1991746f1",
   "metadata": {},
   "outputs": [
    {
     "data": {
      "text/plain": [
       "0.8002045108397766"
      ]
     },
     "execution_count": 111,
     "metadata": {},
     "output_type": "execute_result"
    }
   ],
   "source": [
    "model_sgd.score(x_train, y_train)"
   ]
  },
  {
   "cell_type": "code",
   "execution_count": 112,
   "id": "aeef8ad5-bdb5-4fc7-bd5f-18412183ec14",
   "metadata": {},
   "outputs": [
    {
     "data": {
      "text/plain": [
       "0.8110211543783457"
      ]
     },
     "execution_count": 112,
     "metadata": {},
     "output_type": "execute_result"
    }
   ],
   "source": [
    "model_sgd.score(x_test, y_test)"
   ]
  },
  {
   "cell_type": "code",
   "execution_count": 113,
   "id": "53d0a546-fe17-4736-bca2-4432ef61b78b",
   "metadata": {},
   "outputs": [
    {
     "name": "stdout",
     "output_type": "stream",
     "text": [
      "train 점수: 0.8002045108397766\n",
      "test 점수: 0.8110211543783457\n"
     ]
    }
   ],
   "source": [
    "print('train 점수:', model_sgd.score(x_train, y_train))\n",
    "print('test 점수:', model_sgd.score(x_test, y_test))"
   ]
  },
  {
   "cell_type": "code",
   "execution_count": 115,
   "id": "516636dc-2312-45e4-a086-abfd5cd410b9",
   "metadata": {},
   "outputs": [
    {
     "data": {
      "text/plain": [
       "array([4.75831625])"
      ]
     },
     "execution_count": 115,
     "metadata": {},
     "output_type": "execute_result"
    }
   ],
   "source": [
    "xd = scaler_x.transform([[3.0,1.4,0.2]]) # 한 번 더 스케일링\n",
    "model_sgd.predict(xd) # 4.75로 계산됨"
   ]
  },
  {
   "cell_type": "markdown",
   "id": "69f8574c-a129-4777-9013-086d857ad2de",
   "metadata": {},
   "source": [
    "## 근웅이형 답"
   ]
  },
  {
   "cell_type": "code",
   "execution_count": null,
   "id": "7b8e4f3d-6a08-4413-a5ae-6ae6d73ddef6",
   "metadata": {},
   "outputs": [],
   "source": [
    "# 1. 데이터 ndarray로 가져오기\n",
    "x_data, y_data = iris_df.iloc[:,1:-1].values, iris_df.iloc[:,0].values\n",
    "# 2. 데이터 모델 핏하기, 스케일링하기\n",
    "scaler_x = StandardScaler()\n",
    "scaler_x.fit(x_data)\n",
    "x_data_scale =  scaler_x.transform(x_data)\n",
    "# 3. 언패킹\n",
    "x_train, x_test, y_train, y_test = train_test_split(x_data_scale, y_data , test_size=0.2, random_state=1)\n",
    "# 4. SGD model에 데이터 핏하기\n",
    "model_sgd = SGDRegressor()\n",
    "model_sgd.fit(x_train, y_train)\n",
    "# 5. train_set, test_set 결정계수 구하기\n",
    "print('train 점수:', model_sgd.score(x_train, y_train))\n",
    "print('test 점수:', model_sgd.score(x_test, y_test))\n",
    "# 6. 예측값 구하기\n",
    "pred = model_sgd.predict([[3.0, 1.4, 0.2]])\n",
    "print('예측값:', pred)"
   ]
  },
  {
   "cell_type": "markdown",
   "id": "a3166e55-bfa0-4caf-81be-bea24599e4bd",
   "metadata": {},
   "source": [
    "# [설명] StandardScaler, MinMaxScaler, RobustSccaler\n",
    "StandardScaler\n",
    "\n",
    "각 특성의 평균을 0, 분산을 1로 변경하여 모든 특성이 같은 크기를 가지게 한다.\n",
    "특성의 최솟값과 최댓값 크기를 제한하지 않는다.\n",
    "StandardScaler 공식 : (x-mean)/std\n",
    "    \n",
    "\n",
    "MinMaxScaler\n",
    "모든 특성이 정확하게 0과 1 사이에 위치하도록 데이터를 변경한다.\n",
    "MinMaxScaler 공식 : (x−x_min)/(x_max−x_min)\n",
    "\n",
    "    \n",
    "RobustScaler\n",
    "특성들이 같은 스케일을 가지게 한다.\n",
    "(이러한 특징은 통계적 측면에서는 StandardScaler와 유사하다.)\n",
    "평균과 분산 대신 median과 quantile을 사용한다.\n",
    "따라서, outlier의 영향을 받지 않는다.\n",
    "RobustScaler 공식 : (x−q2)/(q3−q1)\n",
    "\n",
    "* 중요한 것은 특정 분포에 있는 데이터를 같게 하는 것?\n"
   ]
  },
  {
   "cell_type": "code",
   "execution_count": null,
   "id": "6e21be50-288f-4717-b182-f09fcb4f1907",
   "metadata": {},
   "outputs": [],
   "source": []
  },
  {
   "cell_type": "code",
   "execution_count": null,
   "id": "bbbc22d6-e16a-49b6-b3fa-f14386f5e852",
   "metadata": {},
   "outputs": [],
   "source": []
  },
  {
   "cell_type": "code",
   "execution_count": null,
   "id": "06a3d880-203f-4431-85d6-e4e94a9aa599",
   "metadata": {},
   "outputs": [],
   "source": []
  },
  {
   "cell_type": "code",
   "execution_count": null,
   "id": "04015edc-1864-4b73-add8-feee2d6a2f5f",
   "metadata": {},
   "outputs": [],
   "source": []
  }
 ],
 "metadata": {
  "kernelspec": {
   "display_name": "Python 3",
   "language": "python",
   "name": "python3"
  },
  "language_info": {
   "codemirror_mode": {
    "name": "ipython",
    "version": 3
   },
   "file_extension": ".py",
   "mimetype": "text/x-python",
   "name": "python",
   "nbconvert_exporter": "python",
   "pygments_lexer": "ipython3",
   "version": "3.8.8"
  }
 },
 "nbformat": 4,
 "nbformat_minor": 5
}
