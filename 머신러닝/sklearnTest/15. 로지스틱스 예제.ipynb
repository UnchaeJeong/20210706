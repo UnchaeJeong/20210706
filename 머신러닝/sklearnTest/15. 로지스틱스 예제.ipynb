{
 "cells": [
  {
   "cell_type": "code",
   "execution_count": 1,
   "id": "37b35047-3abb-453a-b0b2-e2e174f7420a",
   "metadata": {},
   "outputs": [],
   "source": [
    "from sklearn.datasets import make_classification\n",
    "from sklearn.linear_model import LogisticRegression\n",
    "from sklearn.model_selection import train_test_split\n",
    "from sklearn.model_selection import cross_val_score\n",
    "import sklearn.metrics as metrics\n",
    "import math\n",
    "import pandas as pd\n",
    "import numpy as np\n",
    "import matplotlib.pyplot as plt\n"
   ]
  },
  {
   "cell_type": "markdown",
   "id": "cc240d73-dc26-4b22-9a8c-9d2c336f50a3",
   "metadata": {},
   "source": [
    "정보 1 : 과거 임신 횟수 (pregnant)\n",
    "\n",
    "정보 2 : 포도당 부하 검사 2시간 후 공복 혈당 농도 (plasma)\n",
    "\n",
    "정보 3 : 확장기 혈압 (pressure)\n",
    "\n",
    "정보 4 : 삼두근 피부 주름 두께 (thickness)\n",
    "\n",
    "정보 5 : 혈정 인슐린 (insulin)\n",
    "\n",
    "정보 6 : 체질량 지수 (BMI)\n",
    "\n",
    "정보 7 : 당뇨병 가족력 (pedigree)\n",
    "\n",
    "정보 8 : 나이 (age)\n",
    "\n",
    "​\n",
    "\n",
    "클래스 : 당뇨( 1) , 당뇨가 아님 ( 0 )\n",
    "\n"
   ]
  },
  {
   "cell_type": "code",
   "execution_count": 2,
   "id": "30583fdc-b1ab-4bd2-beb4-8556dc22643e",
   "metadata": {
    "tags": []
   },
   "outputs": [
    {
     "data": {
      "text/html": [
       "<div>\n",
       "<style scoped>\n",
       "    .dataframe tbody tr th:only-of-type {\n",
       "        vertical-align: middle;\n",
       "    }\n",
       "\n",
       "    .dataframe tbody tr th {\n",
       "        vertical-align: top;\n",
       "    }\n",
       "\n",
       "    .dataframe thead th {\n",
       "        text-align: right;\n",
       "    }\n",
       "</style>\n",
       "<table border=\"1\" class=\"dataframe\">\n",
       "  <thead>\n",
       "    <tr style=\"text-align: right;\">\n",
       "      <th></th>\n",
       "      <th>Pregnancies</th>\n",
       "      <th>Glucose</th>\n",
       "      <th>BloodPressure</th>\n",
       "      <th>SkinThickness</th>\n",
       "      <th>Insulin</th>\n",
       "      <th>BMI</th>\n",
       "      <th>DiabetesPedigreeFunction</th>\n",
       "      <th>Age</th>\n",
       "      <th>Outcome</th>\n",
       "    </tr>\n",
       "  </thead>\n",
       "  <tbody>\n",
       "    <tr>\n",
       "      <th>0</th>\n",
       "      <td>6</td>\n",
       "      <td>148</td>\n",
       "      <td>72</td>\n",
       "      <td>35</td>\n",
       "      <td>0</td>\n",
       "      <td>33.6</td>\n",
       "      <td>0.627</td>\n",
       "      <td>50</td>\n",
       "      <td>1</td>\n",
       "    </tr>\n",
       "    <tr>\n",
       "      <th>1</th>\n",
       "      <td>1</td>\n",
       "      <td>85</td>\n",
       "      <td>66</td>\n",
       "      <td>29</td>\n",
       "      <td>0</td>\n",
       "      <td>26.6</td>\n",
       "      <td>0.351</td>\n",
       "      <td>31</td>\n",
       "      <td>0</td>\n",
       "    </tr>\n",
       "    <tr>\n",
       "      <th>2</th>\n",
       "      <td>8</td>\n",
       "      <td>183</td>\n",
       "      <td>64</td>\n",
       "      <td>0</td>\n",
       "      <td>0</td>\n",
       "      <td>23.3</td>\n",
       "      <td>0.672</td>\n",
       "      <td>32</td>\n",
       "      <td>1</td>\n",
       "    </tr>\n",
       "    <tr>\n",
       "      <th>3</th>\n",
       "      <td>1</td>\n",
       "      <td>89</td>\n",
       "      <td>66</td>\n",
       "      <td>23</td>\n",
       "      <td>94</td>\n",
       "      <td>28.1</td>\n",
       "      <td>0.167</td>\n",
       "      <td>21</td>\n",
       "      <td>0</td>\n",
       "    </tr>\n",
       "    <tr>\n",
       "      <th>4</th>\n",
       "      <td>0</td>\n",
       "      <td>137</td>\n",
       "      <td>40</td>\n",
       "      <td>35</td>\n",
       "      <td>168</td>\n",
       "      <td>43.1</td>\n",
       "      <td>2.288</td>\n",
       "      <td>33</td>\n",
       "      <td>1</td>\n",
       "    </tr>\n",
       "    <tr>\n",
       "      <th>...</th>\n",
       "      <td>...</td>\n",
       "      <td>...</td>\n",
       "      <td>...</td>\n",
       "      <td>...</td>\n",
       "      <td>...</td>\n",
       "      <td>...</td>\n",
       "      <td>...</td>\n",
       "      <td>...</td>\n",
       "      <td>...</td>\n",
       "    </tr>\n",
       "    <tr>\n",
       "      <th>763</th>\n",
       "      <td>10</td>\n",
       "      <td>101</td>\n",
       "      <td>76</td>\n",
       "      <td>48</td>\n",
       "      <td>180</td>\n",
       "      <td>32.9</td>\n",
       "      <td>0.171</td>\n",
       "      <td>63</td>\n",
       "      <td>0</td>\n",
       "    </tr>\n",
       "    <tr>\n",
       "      <th>764</th>\n",
       "      <td>2</td>\n",
       "      <td>122</td>\n",
       "      <td>70</td>\n",
       "      <td>27</td>\n",
       "      <td>0</td>\n",
       "      <td>36.8</td>\n",
       "      <td>0.340</td>\n",
       "      <td>27</td>\n",
       "      <td>0</td>\n",
       "    </tr>\n",
       "    <tr>\n",
       "      <th>765</th>\n",
       "      <td>5</td>\n",
       "      <td>121</td>\n",
       "      <td>72</td>\n",
       "      <td>23</td>\n",
       "      <td>112</td>\n",
       "      <td>26.2</td>\n",
       "      <td>0.245</td>\n",
       "      <td>30</td>\n",
       "      <td>0</td>\n",
       "    </tr>\n",
       "    <tr>\n",
       "      <th>766</th>\n",
       "      <td>1</td>\n",
       "      <td>126</td>\n",
       "      <td>60</td>\n",
       "      <td>0</td>\n",
       "      <td>0</td>\n",
       "      <td>30.1</td>\n",
       "      <td>0.349</td>\n",
       "      <td>47</td>\n",
       "      <td>1</td>\n",
       "    </tr>\n",
       "    <tr>\n",
       "      <th>767</th>\n",
       "      <td>1</td>\n",
       "      <td>93</td>\n",
       "      <td>70</td>\n",
       "      <td>31</td>\n",
       "      <td>0</td>\n",
       "      <td>30.4</td>\n",
       "      <td>0.315</td>\n",
       "      <td>23</td>\n",
       "      <td>0</td>\n",
       "    </tr>\n",
       "  </tbody>\n",
       "</table>\n",
       "<p>768 rows × 9 columns</p>\n",
       "</div>"
      ],
      "text/plain": [
       "     Pregnancies  Glucose  BloodPressure  SkinThickness  Insulin   BMI  \\\n",
       "0              6      148             72             35        0  33.6   \n",
       "1              1       85             66             29        0  26.6   \n",
       "2              8      183             64              0        0  23.3   \n",
       "3              1       89             66             23       94  28.1   \n",
       "4              0      137             40             35      168  43.1   \n",
       "..           ...      ...            ...            ...      ...   ...   \n",
       "763           10      101             76             48      180  32.9   \n",
       "764            2      122             70             27        0  36.8   \n",
       "765            5      121             72             23      112  26.2   \n",
       "766            1      126             60              0        0  30.1   \n",
       "767            1       93             70             31        0  30.4   \n",
       "\n",
       "     DiabetesPedigreeFunction  Age  Outcome  \n",
       "0                       0.627   50        1  \n",
       "1                       0.351   31        0  \n",
       "2                       0.672   32        1  \n",
       "3                       0.167   21        0  \n",
       "4                       2.288   33        1  \n",
       "..                        ...  ...      ...  \n",
       "763                     0.171   63        0  \n",
       "764                     0.340   27        0  \n",
       "765                     0.245   30        0  \n",
       "766                     0.349   47        1  \n",
       "767                     0.315   23        0  \n",
       "\n",
       "[768 rows x 9 columns]"
      ]
     },
     "execution_count": 2,
     "metadata": {},
     "output_type": "execute_result"
    }
   ],
   "source": [
    "df = pd.read_csv( 'data5/pima-indians-diabetes.data.csv')\n",
    "df\n"
   ]
  },
  {
   "cell_type": "markdown",
   "id": "55cb2d02-fd85-4163-bb27-30d02f19377a",
   "metadata": {},
   "source": [
    "# 문제"
   ]
  },
  {
   "cell_type": "markdown",
   "id": "64876157-a06e-4dfe-a491-e2645bdc81ec",
   "metadata": {},
   "source": [
    "## 학습셋과 테스트셋의  정확를 구하시요\n",
    "## test셋의 0번째 row 데이터로 당뇨병 유무 확인"
   ]
  },
  {
   "cell_type": "code",
   "execution_count": 3,
   "id": "fa889a7e-cad8-4b24-9f7b-33eded73cda9",
   "metadata": {},
   "outputs": [],
   "source": [
    "x_data = df.iloc[:,:-1]\n",
    "y_data = df.iloc[:,-1]"
   ]
  },
  {
   "cell_type": "code",
   "execution_count": 4,
   "id": "c2e679c9-1b27-4c16-b828-f65cba9943b9",
   "metadata": {
    "collapsed": true,
    "jupyter": {
     "outputs_hidden": true
    },
    "tags": []
   },
   "outputs": [
    {
     "data": {
      "text/plain": [
       "[     Pregnancies  Glucose  BloodPressure  SkinThickness  Insulin   BMI  \\\n",
       " 382            1      109             60              8      182  25.4   \n",
       " 48             7      103             66             32        0  39.1   \n",
       " 626            0      125             68              0        0  24.7   \n",
       " 78             0      131              0              0        0  43.2   \n",
       " 649            0      107             60             25        0  26.4   \n",
       " ..           ...      ...            ...            ...      ...   ...   \n",
       " 313            3      113             50             10       85  29.5   \n",
       " 5              5      116             74              0        0  25.6   \n",
       " 605            1      124             60             32        0  35.8   \n",
       " 248            9      124             70             33      402  35.4   \n",
       " 679            2      101             58             17      265  24.2   \n",
       " \n",
       "      DiabetesPedigreeFunction  Age  \n",
       " 382                     0.947   21  \n",
       " 48                      0.344   31  \n",
       " 626                     0.206   21  \n",
       " 78                      0.270   26  \n",
       " 649                     0.133   23  \n",
       " ..                        ...  ...  \n",
       " 313                     0.626   25  \n",
       " 5                       0.201   30  \n",
       " 605                     0.514   21  \n",
       " 248                     0.282   34  \n",
       " 679                     0.614   23  \n",
       " \n",
       " [614 rows x 8 columns],\n",
       "      Pregnancies  Glucose  BloodPressure  SkinThickness  Insulin   BMI  \\\n",
       " 706           10      115              0              0        0   0.0   \n",
       " 199            4      148             60             27      318  30.9   \n",
       " 225            1       87             78             27       32  34.6   \n",
       " 36            11      138             76              0        0  33.2   \n",
       " 752            3      108             62             24        0  26.0   \n",
       " ..           ...      ...            ...            ...      ...   ...   \n",
       " 571            2      130             96              0        0  22.6   \n",
       " 86            13      106             72             54        0  36.6   \n",
       " 459            9      134             74             33       60  25.9   \n",
       " 102            0      125             96              0        0  22.5   \n",
       " 16             0      118             84             47      230  45.8   \n",
       " \n",
       "      DiabetesPedigreeFunction  Age  \n",
       " 706                     0.261   30  \n",
       " 199                     0.150   29  \n",
       " 225                     0.101   22  \n",
       " 36                      0.420   35  \n",
       " 752                     0.223   25  \n",
       " ..                        ...  ...  \n",
       " 571                     0.268   21  \n",
       " 86                      0.178   45  \n",
       " 459                     0.460   81  \n",
       " 102                     0.262   21  \n",
       " 16                      0.551   31  \n",
       " \n",
       " [154 rows x 8 columns],\n",
       " 382    0\n",
       " 48     1\n",
       " 626    0\n",
       " 78     1\n",
       " 649    0\n",
       "       ..\n",
       " 313    0\n",
       " 5      0\n",
       " 605    0\n",
       " 248    0\n",
       " 679    0\n",
       " Name: Outcome, Length: 614, dtype: int64,\n",
       " 706    1\n",
       " 199    1\n",
       " 225    0\n",
       " 36     0\n",
       " 752    0\n",
       "       ..\n",
       " 571    0\n",
       " 86     0\n",
       " 459    0\n",
       " 102    0\n",
       " 16     1\n",
       " Name: Outcome, Length: 154, dtype: int64]"
      ]
     },
     "execution_count": 4,
     "metadata": {},
     "output_type": "execute_result"
    }
   ],
   "source": [
    "# 분류에서는 반드시 statify 옵션을 줘야한다.\n",
    "train_test_split(x_data,y_data, test_size=0.2, stratify=y_data)\n",
    "# 1, 0이 train과 테스트에 골고루 분포되도록"
   ]
  },
  {
   "cell_type": "code",
   "execution_count": 16,
   "id": "46f9c51e-a8e7-4ff1-857f-94c21930d400",
   "metadata": {},
   "outputs": [],
   "source": [
    "from sklearn.preprocessing import StandardScaler\n",
    "from sklearn.pipeline import make_pipeline"
   ]
  },
  {
   "cell_type": "code",
   "execution_count": 17,
   "id": "e36e532d-9614-4414-a282-766b5196090a",
   "metadata": {},
   "outputs": [
    {
     "data": {
      "text/plain": [
       "Pipeline(steps=[('standardscaler', StandardScaler()),\n",
       "                ('logisticregression', LogisticRegression())])"
      ]
     },
     "execution_count": 17,
     "metadata": {},
     "output_type": "execute_result"
    }
   ],
   "source": [
    "x_data = df.iloc[:,:-1]\n",
    "y_data = df.iloc[:,-1]\n",
    "x_train, x_test, y_train, y_test = train_test_split(x_data, y_data,\n",
    "                                                   test_size=0.2, stratify=y_data)\n",
    "\n",
    "model = make_pipeline(StandardScaler(), LogisticRegression())\n",
    "model.fit(x_train, y_train)"
   ]
  },
  {
   "cell_type": "code",
   "execution_count": 20,
   "id": "6fd092e9-8038-43a1-9ac6-4ab9cf21d9ff",
   "metadata": {},
   "outputs": [
    {
     "name": "stdout",
     "output_type": "stream",
     "text": [
      "0.7801302931596091\n",
      "0.7987012987012987\n",
      "[1]\n"
     ]
    }
   ],
   "source": [
    "print(model.score(x_train, y_train))\n",
    "print(model.score(x_test, y_test))\n",
    "print(model.predict(x_test.iloc[[0],:]))"
   ]
  },
  {
   "cell_type": "code",
   "execution_count": 26,
   "id": "bd815463-f181-4bbc-b381-0d8997452cd3",
   "metadata": {},
   "outputs": [
    {
     "data": {
      "text/plain": [
       "array([1, 0, 0, 0, 1, 0, 0, 1, 0, 0, 0, 0, 0, 0, 0, 0, 0, 0, 1, 1, 0, 0,\n",
       "       1, 0, 0, 1, 0, 0, 0, 0, 0, 0, 0, 0, 1, 0, 1, 0, 0, 1, 0, 0, 0, 1,\n",
       "       0, 0, 0, 1, 0, 1, 1, 0, 0, 0, 0, 0, 0, 0, 0, 1, 1, 0, 0, 0, 1, 1,\n",
       "       0, 1, 1, 0, 0, 0, 0, 0, 0, 0, 0, 1, 0, 0, 0, 1, 0, 1, 1, 0, 1, 0,\n",
       "       0, 0, 0, 0, 0, 0, 0, 0, 0, 0, 1, 0, 0, 0, 1, 1, 1, 0, 1, 0, 1, 0,\n",
       "       0, 0, 0, 0, 0, 0, 0, 1, 1, 0, 0, 0, 0, 1, 0, 1, 1, 1, 0, 1, 1, 1,\n",
       "       1, 0, 1, 0, 0, 0, 0, 0, 0, 1, 1, 0, 0, 0, 1, 0, 1, 1, 0, 0, 0, 0],\n",
       "      dtype=int64)"
      ]
     },
     "execution_count": 26,
     "metadata": {},
     "output_type": "execute_result"
    }
   ],
   "source": [
    "p = model.predict(x_test)\n",
    "p"
   ]
  },
  {
   "cell_type": "code",
   "execution_count": 27,
   "id": "188ad8c8-65a5-4c40-9bd2-00fd08fbbde1",
   "metadata": {},
   "outputs": [
    {
     "data": {
      "text/plain": [
       "0.7987012987012987"
      ]
     },
     "execution_count": 27,
     "metadata": {},
     "output_type": "execute_result"
    }
   ],
   "source": [
    "(p == y_test.values).mean()"
   ]
  },
  {
   "cell_type": "code",
   "execution_count": 28,
   "id": "ea7b8a99-6571-4570-b4e2-11141c354bf2",
   "metadata": {},
   "outputs": [
    {
     "data": {
      "text/plain": [
       "0"
      ]
     },
     "execution_count": 28,
     "metadata": {},
     "output_type": "execute_result"
    }
   ],
   "source": [
    "y_test.iloc[0]"
   ]
  },
  {
   "cell_type": "code",
   "execution_count": null,
   "id": "6cf9e653-9e4b-4d1a-b72e-a597441c34b8",
   "metadata": {},
   "outputs": [],
   "source": []
  }
 ],
 "metadata": {
  "kernelspec": {
   "display_name": "Python 3",
   "language": "python",
   "name": "python3"
  },
  "language_info": {
   "codemirror_mode": {
    "name": "ipython",
    "version": 3
   },
   "file_extension": ".py",
   "mimetype": "text/x-python",
   "name": "python",
   "nbconvert_exporter": "python",
   "pygments_lexer": "ipython3",
   "version": "3.8.8"
  },
  "toc-autonumbering": false,
  "toc-showmarkdowntxt": true
 },
 "nbformat": 4,
 "nbformat_minor": 5
}
