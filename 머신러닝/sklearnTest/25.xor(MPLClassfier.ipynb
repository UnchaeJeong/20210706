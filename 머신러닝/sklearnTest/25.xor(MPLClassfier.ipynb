{
 "cells": [
  {
   "cell_type": "markdown",
   "id": "689ad6d9-30f2-4bec-b90a-37028cd5de44",
   "metadata": {},
   "source": [
    "여러단계 weight, bias 구해서(거쳐서) 0을 구하는것 = 딥러닝"
   ]
  },
  {
   "cell_type": "code",
   "execution_count": 53,
   "id": "4746b7a9-cb52-439e-b805-8e52a798bb2b",
   "metadata": {},
   "outputs": [],
   "source": [
    "from sklearn.datasets import make_classification\n",
    "from sklearn.linear_model import LogisticRegression\n",
    "from sklearn.neural_network import MLPClassifier # 딥러닝 라이브러리\n",
    "from sklearn.model_selection import train_test_split\n",
    "from sklearn.model_selection import cross_val_score\n",
    "from sklearn.datasets import load_iris\n",
    "import sklearn.metrics as metrics\n",
    "import math\n",
    "import pandas as pd\n",
    "import numpy as np\n",
    "import matplotlib.pyplot as plt\n",
    "\n"
   ]
  },
  {
   "cell_type": "markdown",
   "id": "2f9a55a3-2ea7-4021-9548-48eac69d8b14",
   "metadata": {},
   "source": [
    "---\n",
    "예시"
   ]
  },
  {
   "cell_type": "code",
   "execution_count": 3,
   "id": "95dbe099-6d15-46f4-bd41-c87c5dab57a3",
   "metadata": {},
   "outputs": [],
   "source": [
    "x_data = np.array( [[0,0],[0,1],[1,0],[1,1]])\n",
    "y_data = np.array( [0,1,1,0])"
   ]
  },
  {
   "cell_type": "code",
   "execution_count": 10,
   "id": "8eefa372-c82c-4448-a826-b278ecd3abeb",
   "metadata": {},
   "outputs": [
    {
     "name": "stderr",
     "output_type": "stream",
     "text": [
      "[Parallel(n_jobs=1)]: Using backend SequentialBackend with 1 concurrent workers.\n",
      "[Parallel(n_jobs=1)]: Done   1 out of   1 | elapsed:    0.0s finished\n"
     ]
    },
    {
     "data": {
      "text/plain": [
       "LogisticRegression(max_iter=1000, verbose=1)"
      ]
     },
     "execution_count": 10,
     "metadata": {},
     "output_type": "execute_result"
    }
   ],
   "source": [
    "model_logi = LogisticRegression(max_iter=1000,verbose=1)\n",
    "model_logi.fit(x_data, y_data)"
   ]
  },
  {
   "cell_type": "code",
   "execution_count": 11,
   "id": "3edf381f-797c-4097-b4cf-0e43ae347b21",
   "metadata": {},
   "outputs": [
    {
     "data": {
      "text/plain": [
       "array([[0., 0.]])"
      ]
     },
     "execution_count": 11,
     "metadata": {},
     "output_type": "execute_result"
    }
   ],
   "source": [
    "model_logi.coef_"
   ]
  },
  {
   "cell_type": "code",
   "execution_count": 12,
   "id": "7fed9aac-eb05-4369-85cb-75b8e6c937d7",
   "metadata": {},
   "outputs": [
    {
     "data": {
      "text/plain": [
       "array([0.])"
      ]
     },
     "execution_count": 12,
     "metadata": {},
     "output_type": "execute_result"
    }
   ],
   "source": [
    "model_logi.intercept_"
   ]
  },
  {
   "cell_type": "code",
   "execution_count": 13,
   "id": "e1dd875d-459b-4b91-8797-2998f02f156f",
   "metadata": {},
   "outputs": [
    {
     "data": {
      "text/plain": [
       "array([0, 0, 0, 0])"
      ]
     },
     "execution_count": 13,
     "metadata": {},
     "output_type": "execute_result"
    }
   ],
   "source": [
    "model_logi.predict(x_data)"
   ]
  },
  {
   "cell_type": "code",
   "execution_count": 14,
   "id": "38ee8ec8-c280-4e97-b483-fc2ae7a37622",
   "metadata": {},
   "outputs": [
    {
     "data": {
      "text/plain": [
       "0.5"
      ]
     },
     "execution_count": 14,
     "metadata": {},
     "output_type": "execute_result"
    }
   ],
   "source": [
    "model_logi.score(x_data, y_data)\n",
    "# 아무리 돌려도 예측을 하지 못한다."
   ]
  },
  {
   "cell_type": "code",
   "execution_count": null,
   "id": "336b9c75-2303-47c6-beb3-546772d4b825",
   "metadata": {},
   "outputs": [],
   "source": [
    "# 특성 데이터 2개.\n",
    "# W: (2x1), b:1 개가 나옴\n",
    "# 4x2(data) 2x10(b:10) 10x1(b:1) : 2x1\n",
    "# 최종적으로 특성데이터는 2행 1열, bias는 한 개.\n",
    "# **2x2 -> 2x1: 최종적으로 2x1 나와야함.**\n",
    "# 처음에 특성데이터 갯수에 따라  맨 앞 숫자 2.\n",
    "# 2x100 100x100\n",
    "# 2x100 100x1f"
   ]
  },
  {
   "cell_type": "markdown",
   "id": "4adcf1c8-2ca3-44d4-b730-7ba0ac06aa85",
   "metadata": {},
   "source": [
    "---"
   ]
  },
  {
   "cell_type": "markdown",
   "id": "a3410cfa-abbe-4d17-aa04-b112d3dc8349",
   "metadata": {},
   "source": [
    "## 딥러닝 라이브러리 MLPClassifier"
   ]
  },
  {
   "cell_type": "code",
   "execution_count": 19,
   "id": "9ea8a91a-1969-4381-b3ab-bca0ba67a8ef",
   "metadata": {},
   "outputs": [],
   "source": [
    "# hidden_layer_sizes=(100,)  => : 2x1    : 2x100  100x1 (특성데이터 수 2개)\n",
    "# hidden_layer_sizes=(2)  =>    : 2x2  2x1\n",
    "# 4x2  2x2 ==> 4x2  2x1 ==> 4x1 (0,1,1,0)\n",
    "# 4x2 2x100 ==> hidden_layer 4x100  100x1 ==> 4x1\n",
    "model_mlp = MLPClassifier(max_iter=1000)"
   ]
  },
  {
   "cell_type": "code",
   "execution_count": 20,
   "id": "163adce1-077e-4587-aa1b-9f05805ab514",
   "metadata": {},
   "outputs": [
    {
     "data": {
      "text/plain": [
       "MLPClassifier(max_iter=1000)"
      ]
     },
     "execution_count": 20,
     "metadata": {},
     "output_type": "execute_result"
    }
   ],
   "source": [
    "model_mlp.fit(x_data, y_data)"
   ]
  },
  {
   "cell_type": "code",
   "execution_count": 21,
   "id": "cd6377c3-824b-4f6f-b7aa-25b427542d53",
   "metadata": {},
   "outputs": [
    {
     "data": {
      "text/plain": [
       "array([0, 1, 1, 0])"
      ]
     },
     "execution_count": 21,
     "metadata": {},
     "output_type": "execute_result"
    }
   ],
   "source": [
    "model_mlp.predict(x_data)"
   ]
  },
  {
   "cell_type": "markdown",
   "id": "c9cf1ed0-fb4c-4c6b-95f2-3aeb8a7ca81b",
   "metadata": {},
   "source": [
    "---"
   ]
  },
  {
   "cell_type": "code",
   "execution_count": 23,
   "id": "92b4f577-2f9f-462a-ba5b-36e6a08d57a5",
   "metadata": {
    "collapsed": true,
    "jupyter": {
     "outputs_hidden": true
    },
    "tags": []
   },
   "outputs": [
    {
     "data": {
      "text/plain": [
       "[array([[-3.04756154e-10, -9.26699417e-02, -1.06257282e-01,\n",
       "         -6.55205020e-03,  5.02513644e-02, -3.32384007e-17,\n",
       "         -5.63227627e-03, -5.40119393e-01,  5.35422365e-01,\n",
       "          1.09886299e-01, -4.15613863e-01, -4.43351322e-01,\n",
       "          6.33131446e-01,  1.39949011e-01,  1.51223138e-01,\n",
       "          5.07026367e-01, -1.29289747e-01, -8.66053873e-02,\n",
       "          4.59892335e-01,  4.78688213e-01, -2.72047546e-20,\n",
       "          5.75837035e-01, -1.25984356e-05,  1.31819781e-01,\n",
       "         -2.43389868e-07, -1.15435078e-07, -4.49132145e-01,\n",
       "         -1.45006206e-07,  5.62984917e-01,  9.14032763e-02,\n",
       "         -8.18143369e-01, -1.71030861e-01, -9.78580169e-11,\n",
       "          1.73957469e-01, -4.96309652e-01,  4.40618925e-01,\n",
       "         -4.60037574e-01,  2.77359491e-15,  1.90194934e-12,\n",
       "          1.99852913e-01, -5.92540518e-14,  5.06852242e-02,\n",
       "          2.22203038e-01, -1.21908564e-01, -4.00610714e-01,\n",
       "          1.51327819e-07, -7.81526107e-14,  6.45752151e-22,\n",
       "          4.92929927e-01,  6.35703957e-01, -1.45614440e-01,\n",
       "         -2.32634467e-03, -1.53052919e-08, -1.36905000e-20,\n",
       "          1.24876559e-01, -8.10891615e-06,  4.48702347e-22,\n",
       "         -2.87468190e-18,  4.10213246e-20,  1.47810139e-20,\n",
       "          1.74715990e-01,  8.20257103e-02,  1.42534591e-01,\n",
       "         -5.09890020e-21,  2.55113528e-01, -8.50312388e-01,\n",
       "         -1.06376966e-06,  8.93301379e-02,  5.73980982e-01,\n",
       "         -2.01592001e-21,  5.55416551e-01,  6.36077061e-02,\n",
       "         -1.62908474e-01, -8.59832266e-03, -8.54170212e-22,\n",
       "         -1.28570393e-21, -2.35864878e-05,  6.33292728e-01,\n",
       "         -5.48490107e-01, -2.31735058e-11, -3.13339353e-17,\n",
       "          1.47895912e-22,  6.59189230e-01, -8.78595841e-02,\n",
       "         -5.16506109e-02, -6.16934022e-01,  4.87902883e-01,\n",
       "          1.19645020e-01, -5.13621718e-02, -1.01565614e-01,\n",
       "          5.47057828e-01, -1.71813251e-20, -5.14958864e-01,\n",
       "          2.16466582e-02, -5.86120325e-02, -5.69475914e-09,\n",
       "         -4.22842028e-01, -7.57608225e-01,  1.68529658e-01,\n",
       "          1.40103043e-01],\n",
       "        [ 2.66891355e-07,  4.43682501e-02,  5.72416634e-02,\n",
       "         -8.35209418e-02,  1.29656918e-01, -2.21703129e-05,\n",
       "         -1.12664996e-02,  5.40108461e-01,  5.35306754e-01,\n",
       "         -3.93349444e-02, -4.16085754e-01, -4.43178665e-01,\n",
       "         -6.33189510e-01, -8.51025742e-02, -1.79232288e-01,\n",
       "         -5.07056181e-01, -2.43161056e-02,  2.75337551e-02,\n",
       "          4.59831171e-01,  4.78644650e-01,  4.96355837e-08,\n",
       "         -5.75751282e-01, -1.60085782e-20,  1.32341421e-01,\n",
       "         -5.55961781e-06, -4.66120584e-20, -4.49124241e-01,\n",
       "         -6.12758829e-07,  5.62794659e-01, -2.22632700e-20,\n",
       "          8.18120130e-01, -1.18169512e-02, -1.83717618e-09,\n",
       "          1.72861043e-02, -4.96327491e-01,  4.40577240e-01,\n",
       "         -4.60065772e-01,  1.34229493e-01,  2.13720855e-22,\n",
       "         -7.78330474e-02, -1.52290617e-22,  7.28231198e-02,\n",
       "         -1.37272231e-01, -1.33123442e-01, -4.00708876e-01,\n",
       "         -3.74251212e-05,  4.97714972e-09, -9.87816336e-06,\n",
       "          4.92913225e-01,  6.34438390e-01,  2.42311017e-01,\n",
       "          1.01714338e-01,  8.15468109e-02, -5.16437486e-19,\n",
       "         -2.43260941e-05,  8.69678083e-21, -5.97683820e-09,\n",
       "         -6.78825276e-21, -7.73097291e-10,  1.24965512e-08,\n",
       "         -5.06783388e-02,  3.88069184e-02, -1.85016261e-01,\n",
       "          5.87671931e-19, -2.03482852e-01,  8.50479068e-01,\n",
       "         -5.33643133e-22,  8.46047099e-02, -5.74017608e-01,\n",
       "          1.93664129e-21, -5.55351185e-01, -9.76105815e-02,\n",
       "          1.57493654e-01,  2.97527014e-01, -2.18606883e-21,\n",
       "         -3.96162689e-21,  3.23092588e-21, -6.33413687e-01,\n",
       "         -5.48284632e-01, -2.13016265e-20,  5.36692160e-22,\n",
       "         -1.97999197e-21, -6.59254631e-01,  1.25896508e-01,\n",
       "          1.76834172e-01,  6.17068371e-01,  4.87821359e-01,\n",
       "          3.20295821e-01,  4.89049372e-02,  5.14899793e-02,\n",
       "          5.47163334e-01, -6.47120298e-06, -5.14955181e-01,\n",
       "         -2.10955011e-09,  1.07875783e-01,  4.03966187e-20,\n",
       "         -4.22800863e-01,  7.57628029e-01,  1.50337235e-01,\n",
       "          3.36568018e-01]]),\n",
       " array([[-1.24887170e-21],\n",
       "        [-1.41610449e-02],\n",
       "        [-1.40024637e-02],\n",
       "        [-1.70882671e-01],\n",
       "        [-7.47220608e-02],\n",
       "        [-6.44364798e-22],\n",
       "        [-1.34705170e-01],\n",
       "        [ 1.06190694e+00],\n",
       "        [-7.43463769e-01],\n",
       "        [-1.81556486e-01],\n",
       "        [-8.96790292e-01],\n",
       "        [-8.52010521e-01],\n",
       "        [ 8.18672837e-01],\n",
       "        [-1.98218774e-01],\n",
       "        [-6.41776409e-02],\n",
       "        [ 1.02768922e+00],\n",
       "        [ 1.27789806e-02],\n",
       "        [-1.77451589e-01],\n",
       "        [-8.08559652e-01],\n",
       "        [-9.41379744e-01],\n",
       "        [ 1.99291918e-09],\n",
       "        [ 8.45958314e-01],\n",
       "        [-1.77581944e-20],\n",
       "        [-1.87120500e-01],\n",
       "        [ 8.64914387e-02],\n",
       "        [ 2.98520677e-05],\n",
       "        [-8.11779338e-01],\n",
       "        [ 9.16942109e-02],\n",
       "        [-7.89308521e-01],\n",
       "        [-8.46057229e-02],\n",
       "        [ 8.07955853e-01],\n",
       "        [ 2.06239496e-01],\n",
       "        [-3.52812380e-21],\n",
       "        [ 7.90889339e-02],\n",
       "        [-7.98819743e-01],\n",
       "        [-8.99345904e-01],\n",
       "        [-7.99923695e-01],\n",
       "        [-1.60151402e-01],\n",
       "        [-1.16513832e-21],\n",
       "        [-9.04559783e-02],\n",
       "        [ 5.11374688e-19],\n",
       "        [-1.63152501e-01],\n",
       "        [-1.05283059e-01],\n",
       "        [ 1.41168880e-01],\n",
       "        [-9.20682322e-01],\n",
       "        [ 1.13033618e-17],\n",
       "        [-9.32462871e-07],\n",
       "        [ 5.26365928e-06],\n",
       "        [-8.19362637e-01],\n",
       "        [-7.91952380e-01],\n",
       "        [ 2.38331863e-01],\n",
       "        [ 3.18874658e-02],\n",
       "        [-1.37892855e-01],\n",
       "        [ 3.13375910e-12],\n",
       "        [-2.06542384e-01],\n",
       "        [ 7.12262845e-17],\n",
       "        [ 6.14363272e-20],\n",
       "        [ 1.06490414e-01],\n",
       "        [-2.03374275e-12],\n",
       "        [ 3.56240697e-18],\n",
       "        [-1.98019674e-01],\n",
       "        [ 2.07615803e-01],\n",
       "        [-1.29523513e-01],\n",
       "        [ 1.40990738e-21],\n",
       "        [-1.92119520e-01],\n",
       "        [ 8.15359780e-01],\n",
       "        [-9.26298285e-22],\n",
       "        [ 1.21465951e-01],\n",
       "        [ 8.63111986e-01],\n",
       "        [ 2.49114035e-21],\n",
       "        [ 8.95013894e-01],\n",
       "        [-4.86870790e-02],\n",
       "        [-6.23402244e-03],\n",
       "        [ 2.32420377e-01],\n",
       "        [-1.33497644e-18],\n",
       "        [-2.24794263e-21],\n",
       "        [ 4.41249698e-22],\n",
       "        [ 8.38517985e-01],\n",
       "        [-6.87675722e-01],\n",
       "        [ 8.23332673e-08],\n",
       "        [ 1.89178475e-21],\n",
       "        [-3.03130137e-15],\n",
       "        [ 8.68889921e-01],\n",
       "        [-1.75296238e-01],\n",
       "        [ 2.93068735e-01],\n",
       "        [ 8.11481908e-01],\n",
       "        [-7.65742802e-01],\n",
       "        [ 2.77479813e-01],\n",
       "        [ 1.12112333e-01],\n",
       "        [ 8.39998752e-02],\n",
       "        [-6.74949732e-01],\n",
       "        [-1.28853486e-21],\n",
       "        [-7.65188889e-01],\n",
       "        [-3.86380395e-02],\n",
       "        [ 8.38178938e-02],\n",
       "        [ 4.57880406e-22],\n",
       "        [-9.01922793e-01],\n",
       "        [ 6.97324102e-01],\n",
       "        [ 2.59224356e-01],\n",
       "        [ 2.94310432e-01]])]"
      ]
     },
     "execution_count": 23,
     "metadata": {},
     "output_type": "execute_result"
    }
   ],
   "source": [
    "model_mlp.coefs_ # weight값 리스트에 들어가 있음."
   ]
  },
  {
   "cell_type": "code",
   "execution_count": 24,
   "id": "c7aa8d70-5771-47d2-abc0-b0536afb96ce",
   "metadata": {},
   "outputs": [
    {
     "data": {
      "text/plain": [
       "2"
      ]
     },
     "execution_count": 24,
     "metadata": {},
     "output_type": "execute_result"
    }
   ],
   "source": [
    "len(model_mlp.coefs_) # 리스트에 weight값 2개 들어가있음"
   ]
  },
  {
   "cell_type": "code",
   "execution_count": 31,
   "id": "ec4b322f-fcec-4742-82d1-e240ef244053",
   "metadata": {},
   "outputs": [
    {
     "data": {
      "text/plain": [
       "(2, 100)"
      ]
     },
     "execution_count": 31,
     "metadata": {},
     "output_type": "execute_result"
    }
   ],
   "source": [
    "model_mlp.coefs_[0].shape # weight : 2x100"
   ]
  },
  {
   "cell_type": "code",
   "execution_count": 32,
   "id": "2047faed-e8bc-4121-98ed-757abe596340",
   "metadata": {},
   "outputs": [
    {
     "data": {
      "text/plain": [
       "(100, 1)"
      ]
     },
     "execution_count": 32,
     "metadata": {},
     "output_type": "execute_result"
    }
   ],
   "source": [
    "model_mlp.coefs_[1].shape # weight : 100x1"
   ]
  },
  {
   "cell_type": "code",
   "execution_count": 38,
   "id": "521f7ab4-a329-4d2f-adae-6a94e3a28957",
   "metadata": {},
   "outputs": [
    {
     "data": {
      "text/plain": [
       "2"
      ]
     },
     "execution_count": 38,
     "metadata": {},
     "output_type": "execute_result"
    }
   ],
   "source": [
    "len(model_mlp.intercepts_)"
   ]
  },
  {
   "cell_type": "code",
   "execution_count": 37,
   "id": "509c5924-4d61-4148-8947-f4f7ba73c50e",
   "metadata": {},
   "outputs": [
    {
     "data": {
      "text/plain": [
       "(100,)"
      ]
     },
     "execution_count": 37,
     "metadata": {},
     "output_type": "execute_result"
    }
   ],
   "source": [
    "model_mlp.intercepts_[0].shape"
   ]
  },
  {
   "cell_type": "code",
   "execution_count": 36,
   "id": "ccbfca6a-0eb6-48c9-a657-5d9b239694aa",
   "metadata": {
    "tags": []
   },
   "outputs": [
    {
     "data": {
      "text/plain": [
       "(4, 1)"
      ]
     },
     "execution_count": 36,
     "metadata": {},
     "output_type": "execute_result"
    }
   ],
   "source": [
    "a= np.matmul(x_data, model_mlp.coefs_[0]) + model_mlp.intercepts_[0] # 4x2  2x100\n",
    "# a -> relu(중간)///sigmoid(통과해야함)\n",
    "b= np.matmul(a, model_mlp.coefs_[1]) + model_mlp.intercepts_[1] # 4x100  100x1\n",
    "# b -> sigmoid(통과) 0.5보다 큰지 작은지 ... 0,1이 나옴.\n",
    "b.shape # (0,1,1,0)\n",
    "# 하나의 weight로 안되니까 여러 weight"
   ]
  },
  {
   "cell_type": "markdown",
   "id": "72e2837f-e4ef-4f99-86a0-5052d15852b9",
   "metadata": {},
   "source": [
    "---"
   ]
  },
  {
   "cell_type": "code",
   "execution_count": 40,
   "id": "000df16c-4f59-4c03-912d-d27f62462624",
   "metadata": {},
   "outputs": [
    {
     "data": {
      "text/plain": [
       "MLPClassifier(hidden_layer_sizes=(200,), max_iter=1000)"
      ]
     },
     "execution_count": 40,
     "metadata": {},
     "output_type": "execute_result"
    }
   ],
   "source": [
    "model_mlp1 = MLPClassifier(hidden_layer_sizes=(200,),max_iter=1000) # 2x200 200x1\n",
    "model_mlp1.fit(x_data, y_data) # 2x200 200x1"
   ]
  },
  {
   "cell_type": "code",
   "execution_count": 41,
   "id": "1a8e5902-ee97-4fb6-89e8-62e91b682e5f",
   "metadata": {},
   "outputs": [
    {
     "data": {
      "text/plain": [
       "(2, 200)"
      ]
     },
     "execution_count": 41,
     "metadata": {},
     "output_type": "execute_result"
    }
   ],
   "source": [
    "model_mlp1.coefs_[0].shape"
   ]
  },
  {
   "cell_type": "code",
   "execution_count": 42,
   "id": "daf8f133-74cc-4869-8083-e382bcc638d8",
   "metadata": {},
   "outputs": [
    {
     "data": {
      "text/plain": [
       "(200, 1)"
      ]
     },
     "execution_count": 42,
     "metadata": {},
     "output_type": "execute_result"
    }
   ],
   "source": [
    "model_mlp1.coefs_[1].shape"
   ]
  },
  {
   "cell_type": "code",
   "execution_count": 43,
   "id": "cbce1e7b-7074-4671-813e-6dcc16ae2904",
   "metadata": {},
   "outputs": [
    {
     "data": {
      "text/plain": [
       "array([0, 1, 1, 0])"
      ]
     },
     "execution_count": 43,
     "metadata": {},
     "output_type": "execute_result"
    }
   ],
   "source": [
    "model_mlp1.predict(x_data) # 4x2 2x200 ==> 4x200   200x1 ==> 4x1"
   ]
  },
  {
   "cell_type": "code",
   "execution_count": null,
   "id": "6075828c-5707-49f1-9bae-40bab6808125",
   "metadata": {},
   "outputs": [],
   "source": [
    "# 히든레이어수를 몇개를 잡아야하는가? 정해진 것 없다.\n",
    "# 학습을 통해서 하이퍼파라미터임. 정해줘야함.\n"
   ]
  },
  {
   "cell_type": "code",
   "execution_count": 48,
   "id": "ba07682f-11e9-4797-901d-bd053fcbcb20",
   "metadata": {},
   "outputs": [
    {
     "data": {
      "text/plain": [
       "MLPClassifier(hidden_layer_sizes=(200, 4), max_iter=1000)"
      ]
     },
     "execution_count": 48,
     "metadata": {},
     "output_type": "execute_result"
    }
   ],
   "source": [
    "model_mlp2 = MLPClassifier(hidden_layer_sizes=(200,4),max_iter=1000)\n",
    "model_mlp2.fit(x_data, y_data)"
   ]
  },
  {
   "cell_type": "code",
   "execution_count": 49,
   "id": "0c893ccf-6d30-4aff-9b54-bf0142ec176b",
   "metadata": {},
   "outputs": [
    {
     "data": {
      "text/plain": [
       "(2, 200)"
      ]
     },
     "execution_count": 49,
     "metadata": {},
     "output_type": "execute_result"
    }
   ],
   "source": [
    "model_mlp2.coefs_[0].shape # 특성데이터 2개."
   ]
  },
  {
   "cell_type": "code",
   "execution_count": 50,
   "id": "11c0c160-6295-4871-83d7-50590b32a241",
   "metadata": {},
   "outputs": [
    {
     "data": {
      "text/plain": [
       "(200, 4)"
      ]
     },
     "execution_count": 50,
     "metadata": {},
     "output_type": "execute_result"
    }
   ],
   "source": [
    "model_mlp2.coefs_[1].shape"
   ]
  },
  {
   "cell_type": "code",
   "execution_count": 51,
   "id": "41955b75-93ad-4198-8da1-9d594924fddd",
   "metadata": {},
   "outputs": [
    {
     "data": {
      "text/plain": [
       "(4, 1)"
      ]
     },
     "execution_count": 51,
     "metadata": {},
     "output_type": "execute_result"
    }
   ],
   "source": [
    "model_mlp2.coefs_[2].shape"
   ]
  },
  {
   "cell_type": "code",
   "execution_count": null,
   "id": "c8fbdc21-f702-4749-b22e-2cbd6cf419dc",
   "metadata": {},
   "outputs": [],
   "source": [
    "model_mpl2.predict(x_data) # 4x2 2x200 => 4x200 200x4 ==> 4x4 => 4x1 (3개의 히든레이어)"
   ]
  },
  {
   "cell_type": "markdown",
   "id": "b33b40fb-7582-4e05-9a53-a7b0109502c8",
   "metadata": {},
   "source": [
    "---\n",
    "토론"
   ]
  },
  {
   "cell_type": "code",
   "execution_count": null,
   "id": "f2a791d0-1773-45f1-acfe-5a69aa74d6e3",
   "metadata": {},
   "outputs": [],
   "source": [
    "# 히든레이어를 몇개를 잡아줘야 학습이 잘될까? 얼마나 와이드? 정해진거 없다.\n",
    "# 이미지 분류 쪽 하게되면 하이퍼파라미터 튜닝... 몇개 잡으니까 잘되더라\n",
    "# 몰라요..몰라.. 튜닝해서 해보는 것임.\n",
    "# 이렇게 했더니 잘되더라. 근데 모르겠따.\n",
    "# 하이퍼파라미터 세세한 조정 쉬운것이 케라스, 파이토치, 텐서 등등 이 있음.\n",
    "# 기본개념은 똑같다.\n",
    "# 과적합도 확인해봐야한다. 후..\n",
    "# 만들어진 배경, 히든레이어 얼마를 줘야하고 .. 이런건 튜닝 활동을 통해 해야됨. \n",
    "# 두가지는 잡고가자"
   ]
  },
  {
   "cell_type": "markdown",
   "id": "62a13d95-5c2a-403e-b6b4-46f081afc76b",
   "metadata": {},
   "source": [
    "---\n",
    "예제"
   ]
  },
  {
   "cell_type": "markdown",
   "id": "81dbd197-5dde-4608-b3e3-3415a20ab26c",
   "metadata": {},
   "source": [
    "## 아이리스 데이터를 딥러닝으로 분류를 수행하시요\n",
    "히든레이어는 총5개( 4x64, 64x32, 32x16, 16x1 )를 두고 \n",
    "\n",
    "1000번 학습을 진행하시요.\n",
    "\n",
    "4.9,3.0,1.4,0.2 에 대한 종분류 예측"
   ]
  },
  {
   "cell_type": "code",
   "execution_count": 66,
   "id": "65214be0-f3f9-46c1-bf68-26e74c7e9f9e",
   "metadata": {
    "tags": []
   },
   "outputs": [
    {
     "data": {
      "text/plain": [
       "array([0, 0, 0, 0, 0, 0, 0, 0, 0, 0, 0, 0, 0, 0, 0, 0, 0, 0, 0, 0, 0, 0,\n",
       "       0, 0, 0, 0, 0, 0, 0, 0, 0, 0, 0, 0, 0, 0, 0, 0, 0, 0, 0, 0, 0, 0,\n",
       "       0, 0, 0, 0, 0, 0, 1, 1, 1, 1, 1, 1, 1, 1, 1, 1, 1, 1, 1, 1, 1, 1,\n",
       "       1, 1, 1, 1, 1, 1, 1, 1, 1, 1, 1, 1, 1, 1, 1, 1, 1, 1, 1, 1, 1, 1,\n",
       "       1, 1, 1, 1, 1, 1, 1, 1, 1, 1, 1, 1, 2, 2, 2, 2, 2, 2, 2, 2, 2, 2,\n",
       "       2, 2, 2, 2, 2, 2, 2, 2, 2, 2, 2, 2, 2, 2, 2, 2, 2, 2, 2, 2, 2, 2,\n",
       "       2, 2, 2, 2, 2, 2, 2, 2, 2, 2, 2, 2, 2, 2, 2, 2, 2, 2])"
      ]
     },
     "execution_count": 66,
     "metadata": {},
     "output_type": "execute_result"
    }
   ],
   "source": [
    "from sklearn.datasets import load_iris\n",
    "iris = load_iris()\n",
    "iris.keys()\n",
    "\n",
    "x_data = iris['data']\n",
    "y_data = iris['target']\n",
    "y_data"
   ]
  },
  {
   "cell_type": "code",
   "execution_count": 67,
   "id": "5fee9b42-b2ca-4c01-a9a7-b67ac32850c1",
   "metadata": {},
   "outputs": [
    {
     "data": {
      "text/plain": [
       "MLPClassifier(hidden_layer_sizes=(64, 32, 16), max_iter=1000)"
      ]
     },
     "execution_count": 67,
     "metadata": {},
     "output_type": "execute_result"
    }
   ],
   "source": [
    "# MLP모델 적용\n",
    "model_mlp = MLPClassifier(hidden_layer_sizes=(64,32,16), max_iter=1000)\n",
    "model_mlp.fit(x_data, y_data)"
   ]
  },
  {
   "cell_type": "code",
   "execution_count": 76,
   "id": "c21e393b-2555-4faa-8d33-76b1b8f1c894",
   "metadata": {},
   "outputs": [
    {
     "name": "stdout",
     "output_type": "stream",
     "text": [
      "4\n",
      "(4, 64)\n",
      "(64, 32)\n",
      "(32, 16)\n",
      "(16, 3)\n"
     ]
    }
   ],
   "source": [
    "# W1,W2,W3\n",
    "print( len( model_mlp.coefs_) )\n",
    "print( model_mlp.coefs_[0].shape ) # input layer\n",
    "print( model_mlp.coefs_[1].shape ) # hidden\n",
    "print( model_mlp.coefs_[2].shape ) # hidden\n",
    "print( model_mlp.coefs_[3].shape ) # output layer\n",
    "# 4x64, 64x32, 32x16, 16x3"
   ]
  },
  {
   "cell_type": "code",
   "execution_count": 77,
   "id": "7253f6a4-b353-4c06-9265-f6a73a931f55",
   "metadata": {
    "collapsed": true,
    "jupyter": {
     "outputs_hidden": true
    },
    "tags": []
   },
   "outputs": [
    {
     "data": {
      "text/plain": [
       "array([0, 0, 0, 0, 0, 0, 0, 0, 0, 0, 0, 0, 0, 0, 0, 0, 0, 0, 0, 0, 0, 0,\n",
       "       0, 0, 0, 0, 0, 0, 0, 0, 0, 0, 0, 0, 0, 0, 0, 0, 0, 0, 0, 0, 0, 0,\n",
       "       0, 0, 0, 0, 0, 0, 1, 1, 1, 1, 1, 1, 1, 1, 1, 1, 1, 1, 1, 1, 1, 1,\n",
       "       1, 1, 1, 1, 2, 1, 1, 1, 1, 1, 1, 1, 1, 1, 1, 1, 1, 2, 1, 1, 1, 1,\n",
       "       1, 1, 1, 1, 1, 1, 1, 1, 1, 1, 1, 1, 2, 2, 2, 2, 2, 2, 2, 2, 2, 2,\n",
       "       2, 2, 2, 2, 2, 2, 2, 2, 2, 2, 2, 2, 2, 2, 2, 2, 2, 2, 2, 2, 2, 2,\n",
       "       2, 1, 2, 2, 2, 2, 2, 2, 2, 2, 2, 2, 2, 2, 2, 2, 2, 2])"
      ]
     },
     "execution_count": 77,
     "metadata": {},
     "output_type": "execute_result"
    }
   ],
   "source": [
    "model_mlp.predict(x_data)  "
   ]
  },
  {
   "cell_type": "code",
   "execution_count": 78,
   "id": "91eb3569-d5ae-4d98-aff2-1399499252e7",
   "metadata": {},
   "outputs": [
    {
     "data": {
      "text/plain": [
       "array([0])"
      ]
     },
     "execution_count": 78,
     "metadata": {},
     "output_type": "execute_result"
    }
   ],
   "source": [
    "model_mlp.predict([[4.9,3.0,1.4,0.2]])"
   ]
  },
  {
   "cell_type": "code",
   "execution_count": 80,
   "id": "9fa378a6-bd6e-4ae1-a85f-ea999cbad37d",
   "metadata": {},
   "outputs": [
    {
     "data": {
      "text/plain": [
       "array([0], dtype=int64)"
      ]
     },
     "execution_count": 80,
     "metadata": {},
     "output_type": "execute_result"
    }
   ],
   "source": [
    "model_mlp.predict_proba([[4.9,3.0,1.4,0.2]]).argmax(axis=1)\n",
    "# 1x4  4x64 \n",
    "# => 1x64 64x32\n",
    "# => 1x32 32x16 \n",
    "# => 1x16 16x3\n",
    "# => 1x3(softmax)(0.8 0.2 0.1)"
   ]
  },
  {
   "cell_type": "code",
   "execution_count": null,
   "id": "05784158-0caa-41a7-9734-10b77756f8bc",
   "metadata": {},
   "outputs": [],
   "source": [
    "# 라벨(y_data)를 내부적으로 onehot으로 바꿔줌.\n",
    "# 16의 배수, 32의 배수로 감소되게끔 적다보니 잘되더라. 경험치에서 나온 것."
   ]
  },
  {
   "cell_type": "markdown",
   "id": "726ec8aa-3ac3-402e-a26e-9f6327ca24db",
   "metadata": {},
   "source": [
    "---"
   ]
  },
  {
   "cell_type": "code",
   "execution_count": null,
   "id": "72f12426-56df-4942-ac1d-e5df8be6ccd7",
   "metadata": {},
   "outputs": [],
   "source": []
  }
 ],
 "metadata": {
  "kernelspec": {
   "display_name": "Python 3",
   "language": "python",
   "name": "python3"
  },
  "language_info": {
   "codemirror_mode": {
    "name": "ipython",
    "version": 3
   },
   "file_extension": ".py",
   "mimetype": "text/x-python",
   "name": "python",
   "nbconvert_exporter": "python",
   "pygments_lexer": "ipython3",
   "version": "3.8.8"
  }
 },
 "nbformat": 4,
 "nbformat_minor": 5
}
