{
 "cells": [
  {
   "cell_type": "code",
   "execution_count": 1,
   "id": "8000203a-79a7-448b-9cd0-9b8ed34a0acc",
   "metadata": {},
   "outputs": [],
   "source": [
    "import matplotlib.pyplot as plt\n",
    "import numpy as np"
   ]
  },
  {
   "cell_type": "code",
   "execution_count": 2,
   "id": "03557ecf-4c92-453d-b2ec-f1508b44f88e",
   "metadata": {},
   "outputs": [],
   "source": [
    "def cost(x,y,w):\n",
    "    c = 0\n",
    "    for i in range(len(x)):\n",
    "        hx = w*x[i]\n",
    "        c = c + (hx-y[i])**2\n",
    "    return c/len(x)"
   ]
  },
  {
   "cell_type": "code",
   "execution_count": 3,
   "id": "60c33483-58ae-451d-88fb-a3cd14564e23",
   "metadata": {},
   "outputs": [],
   "source": [
    "x_data = [1,2,3]\n",
    "y_data = [1,2,3]"
   ]
  },
  {
   "cell_type": "code",
   "execution_count": 4,
   "id": "a8045fba-ad68-4378-94fb-86a25a07c539",
   "metadata": {},
   "outputs": [
    {
     "name": "stdout",
     "output_type": "stream",
     "text": [
      "18.666666666666668\n",
      "4.666666666666667\n",
      "0.0\n",
      "4.666666666666667\n"
     ]
    }
   ],
   "source": [
    "print(cost(x_data, y_data, -1))\n",
    "print(cost(x_data, y_data, 0))\n",
    "print(cost(x_data, y_data, 1))\n",
    "print(cost(x_data, y_data, 2))"
   ]
  },
  {
   "cell_type": "code",
   "execution_count": 5,
   "id": "c68f4003-1689-4339-950b-9ead26f1c9c3",
   "metadata": {},
   "outputs": [
    {
     "data": {
      "image/png": "[encoded data removed]",
      "text/plain": [
       "<Figure size 432x288 with 1 Axes>"
      ]
     },
     "metadata": {
      "needs_background": "light"
     },
     "output_type": "display_data"
    }
   ],
   "source": [
    "plt.scatter(x_data, y_data, color='r')\n",
    "plt.show()"
   ]
  },
  {
   "cell_type": "code",
   "execution_count": 6,
   "id": "46f0c846-c28c-4fd5-ad07-c4cba0c22ede",
   "metadata": {},
   "outputs": [
    {
     "name": "stdout",
     "output_type": "stream",
     "text": [
      "w= -3.0 cost= 74.66666666666667\n",
      "w= -2.836734693877551 cost= 68.69582118561709\n",
      "w= -2.673469387755102 cost= 62.97376093294461\n",
      "w= -2.510204081632653 cost= 57.500485908649175\n",
      "w= -2.3469387755102042 cost= 52.275996112730816\n",
      "w= -2.183673469387755 cost= 47.3002915451895\n",
      "w= -2.020408163265306 cost= 42.57337220602526\n",
      "w= -1.8571428571428572 cost= 38.095238095238095\n",
      "w= -1.6938775510204083 cost= 33.86588921282799\n",
      "w= -1.5306122448979593 cost= 29.88532555879495\n",
      "w= -1.3673469387755104 cost= 26.15354713313897\n",
      "w= -1.2040816326530615 cost= 22.670553935860067\n",
      "w= -1.0408163265306123 cost= 19.436345966958214\n",
      "w= -0.8775510204081636 cost= 16.450923226433435\n",
      "w= -0.7142857142857144 cost= 13.714285714285717\n",
      "w= -0.5510204081632657 cost= 11.226433430515067\n",
      "w= -0.38775510204081653 cost= 8.98736637512148\n",
      "w= -0.22448979591836737 cost= 6.997084548104957\n",
      "w= -0.06122448979591866 cost= 5.255587949465504\n",
      "w= 0.1020408163265305 cost= 3.7628765792031107\n",
      "w= 0.2653061224489792 cost= 2.518950437317787\n",
      "w= 0.4285714285714284 cost= 1.5238095238095248\n",
      "w= 0.5918367346938771 cost= 0.7774538386783302\n",
      "w= 0.7551020408163263 cost= 0.27988338192419887\n",
      "w= 0.9183673469387754 cost= 0.031098153547133207\n",
      "w= 1.0816326530612246 cost= 0.031098153547133207\n",
      "w= 1.2448979591836729 cost= 0.2798833819241968\n",
      "w= 1.408163265306122 cost= 0.7774538386783268\n",
      "w= 1.5714285714285712 cost= 1.5238095238095226\n",
      "w= 1.7346938775510203 cost= 2.5189504373177836\n",
      "w= 1.8979591836734686 cost= 3.762876579203103\n",
      "w= 2.0612244897959178 cost= 5.255587949465494\n",
      "w= 2.224489795918367 cost= 6.997084548104951\n",
      "w= 2.387755102040816 cost= 8.987366375121475\n",
      "w= 2.5510204081632653 cost= 11.226433430515064\n",
      "w= 2.7142857142857135 cost= 13.714285714285703\n",
      "w= 2.8775510204081627 cost= 16.45092322643342\n",
      "w= 3.040816326530612 cost= 19.436345966958203\n",
      "w= 3.204081632653061 cost= 22.670553935860056\n",
      "w= 3.3673469387755093 cost= 26.153547133138954\n",
      "w= 3.5306122448979584 cost= 29.88532555879492\n",
      "w= 3.6938775510204076 cost= 33.86588921282798\n",
      "w= 3.8571428571428568 cost= 38.09523809523808\n",
      "w= 4.020408163265306 cost= 42.57337220602526\n",
      "w= 4.183673469387754 cost= 47.30029154518948\n",
      "w= 4.346938775510203 cost= 52.27599611273078\n",
      "w= 4.5102040816326525 cost= 57.50048590864915\n",
      "w= 4.673469387755102 cost= 62.97376093294459\n",
      "w= 4.836734693877551 cost= 68.69582118561709\n",
      "w= 5.0 cost= 74.66666666666667\n"
     ]
    },
    {
     "data": {
      "image/png": "[encoded data removed]",
      "text/plain": [
       "<Figure size 432x288 with 1 Axes>"
      ]
     },
     "metadata": {
      "needs_background": "light"
     },
     "output_type": "display_data"
    }
   ],
   "source": [
    "for w in np.linspace(-3,5):\n",
    "    c = cost(x_data,y_data,w)\n",
    "    print(\"w=\",w,\"cost=\",c)\n",
    "    plt.plot(w,c,'ro')\n",
    "plt.show()"
   ]
  },
  {
   "cell_type": "code",
   "execution_count": 17,
   "id": "1e594510-51ba-400e-ae15-f9b05cb6ae66",
   "metadata": {},
   "outputs": [],
   "source": [
    "def cost(x,y,w):\n",
    "    c = 0\n",
    "    for i in range(len(x)):\n",
    "        hx = w*x[i]\n",
    "        c = c + (hx-y[i])**2\n",
    "    return c/len(x)"
   ]
  },
  {
   "cell_type": "code",
   "execution_count": 25,
   "id": "fa5e7efd-fd4a-421f-b404-1b3105b4bff3",
   "metadata": {},
   "outputs": [],
   "source": [
    "def gradient(x,y,w):\n",
    "    c = 0\n",
    "    for i in range(len(x)):\n",
    "        hx = w*x[i]\n",
    "        c = c + (hx-y[i])*x[i]\n",
    "    return c/len(x)"
   ]
  },
  {
   "cell_type": "code",
   "execution_count": 26,
   "id": "8c061603-a1f1-450c-b2ad-bed8de013380",
   "metadata": {},
   "outputs": [],
   "source": [
    "def show(x,y,w): \n",
    "    hist = []\n",
    "    for i in range( 100): # 학습횟수 정해진 것 없음\n",
    "        c = cost(x,y,w)\n",
    "        hist.append(c)\n",
    "        print('i=', i, 'cost=',c,'w=',w)\n",
    "        g = gradient( x,y,w)\n",
    "        w = w - 0.1*g # learning rate * 기울기\n",
    "    print('최종:w',w)"
   ]
  },
  {
   "cell_type": "code",
   "execution_count": 27,
   "id": "b71d6260-e839-4ada-8650-c15702460628",
   "metadata": {},
   "outputs": [],
   "source": [
    "x_data = [1,2,3]\n",
    "y_data = [1,2,3]"
   ]
  },
  {
   "cell_type": "code",
   "execution_count": 28,
   "id": "5a660dc1-8226-49e0-8e2d-c9cac1f5acd9",
   "metadata": {
    "collapsed": true,
    "jupyter": {
     "outputs_hidden": true
    },
    "tags": []
   },
   "outputs": [
    {
     "name": "stdout",
     "output_type": "stream",
     "text": [
      "i= 0 cost= 378.0 w= 10\n",
      "i= 1 cost= 107.51999999999998 w= 5.8\n",
      "i= 2 cost= 30.583466666666666 w= 3.56\n",
      "i= 3 cost= 8.69929718518518 w= 2.365333333333333\n",
      "i= 4 cost= 2.47446675489712 w= 1.7281777777777778\n",
      "i= 5 cost= 0.7038483213929583 w= 1.3883614814814815\n",
      "i= 6 cost= 0.2002057447517751 w= 1.2071261234567903\n",
      "i= 7 cost= 0.05694741184050483 w= 1.1104672658436214\n",
      "i= 8 cost= 0.016198374923521403 w= 1.0589158751165981\n",
      "i= 9 cost= 0.004607537756023892 w= 1.0314218000621858\n",
      "i= 10 cost= 0.0013105885172690224 w= 1.0167582933664991\n",
      "i= 11 cost= 0.0003727896226898598 w= 1.008937756462133\n",
      "i= 12 cost= 0.0001060379371206724 w= 1.004766803446471\n",
      "i= 13 cost= 3.0161902114324568e-05 w= 1.002542295171451\n",
      "i= 14 cost= 8.579385490296031e-06 w= 1.0013558907581073\n",
      "i= 15 cost= 2.4403585394623746e-06 w= 1.0007231417376572\n",
      "i= 16 cost= 6.941464290019953e-07 w= 1.000385675593417\n",
      "i= 17 cost= 1.9744609536079287e-07 w= 1.0002056936498225\n",
      "i= 18 cost= 5.616244490256599e-08 w= 1.0001097032799053\n",
      "i= 19 cost= 1.597509543893363e-08 w= 1.0000585084159495\n",
      "i= 20 cost= 4.544027147100321e-09 w= 1.0000312044885065\n",
      "i= 21 cost= 1.292523277397425e-09 w= 1.0000166423938701\n",
      "i= 22 cost= 3.6765106557353845e-10 w= 1.0000088759433974\n",
      "i= 23 cost= 1.0457630309680019e-10 w= 1.0000047338364786\n",
      "i= 24 cost= 2.974614843652282e-11 w= 1.0000025247127886\n",
      "i= 25 cost= 8.461126664488492e-12 w= 1.0000013465134872\n",
      "i= 26 cost= 2.4067204744183466e-12 w= 1.0000007181405266\n",
      "i= 27 cost= 6.845782681618235e-13 w= 1.0000003830082809\n",
      "i= 28 cost= 1.9472448527085553e-13 w= 1.0000002042710832\n",
      "i= 29 cost= 5.538829787885448e-14 w= 1.0000001089445776\n",
      "i= 30 cost= 1.575489361658054e-14 w= 1.0000000581037747\n",
      "i= 31 cost= 4.481391952569267e-15 w= 1.0000000309886798\n",
      "i= 32 cost= 1.2747070573345361e-15 w= 1.000000016527296\n",
      "i= 33 cost= 3.6258332831368247e-16 w= 1.0000000088145578\n",
      "i= 34 cost= 1.0313481853667948e-16 w= 1.0000000047010975\n",
      "i= 35 cost= 2.933612341505031e-17 w= 1.000000002507252\n",
      "i= 36 cost= 8.344497274162171e-18 w= 1.000000001337201\n",
      "i= 37 cost= 2.3735464825145457e-18 w= 1.000000000713174\n",
      "i= 38 cost= 6.751422044227725e-19 w= 1.0000000003803595\n",
      "i= 39 cost= 1.920405593646558e-19 w= 1.0000000002028584\n",
      "i= 40 cost= 5.462493428133877e-20 w= 1.0000000001081912\n",
      "i= 41 cost= 1.5537773320496455e-20 w= 1.000000000057702\n",
      "i= 42 cost= 4.419657596231936e-21 w= 1.0000000000307745\n",
      "i= 43 cost= 1.2571515848923574e-21 w= 1.000000000016413\n",
      "i= 44 cost= 3.5758710617043957e-22 w= 1.0000000000087537\n",
      "i= 45 cost= 1.0171864166944069e-22 w= 1.0000000000046687\n",
      "i= 46 cost= 2.8933990559698716e-23 w= 1.00000000000249\n",
      "i= 47 cost= 8.231253103671774e-24 w= 1.000000000001328\n",
      "i= 48 cost= 2.341362175139032e-24 w= 1.0000000000007083\n",
      "i= 49 cost= 6.658942698258942e-25 w= 1.0000000000003777\n",
      "i= 50 cost= 1.891893061517278e-25 w= 1.0000000000002014\n",
      "i= 51 cost= 5.389865839559056e-26 w= 1.0000000000001075\n",
      "i= 52 cost= 1.5315340044413334e-26 w= 1.0000000000000573\n",
      "i= 53 cost= 4.38172789805011e-27 w= 1.0000000000000306\n",
      "i= 54 cost= 1.2599423424554927e-27 w= 1.0000000000000164\n",
      "i= 55 cost= 3.46129156767911e-28 w= 1.0000000000000087\n",
      "i= 56 cost= 1.0355442841244991e-28 w= 1.0000000000000047\n",
      "i= 57 cost= 2.677196697093809e-29 w= 1.0000000000000024\n",
      "i= 58 cost= 8.283039504820624e-30 w= 1.0000000000000013\n",
      "i= 59 cost= 1.791371638939381e-30 w= 1.0000000000000007\n",
      "i= 60 cost= 9.203377227578472e-31 w= 1.0000000000000004\n",
      "i= 61 cost= 3.4512664603419266e-31 w= 1.0000000000000002\n",
      "i= 62 cost= 0.0 w= 1.0\n",
      "i= 63 cost= 0.0 w= 1.0\n",
      "i= 64 cost= 0.0 w= 1.0\n",
      "i= 65 cost= 0.0 w= 1.0\n",
      "i= 66 cost= 0.0 w= 1.0\n",
      "i= 67 cost= 0.0 w= 1.0\n",
      "i= 68 cost= 0.0 w= 1.0\n",
      "i= 69 cost= 0.0 w= 1.0\n",
      "i= 70 cost= 0.0 w= 1.0\n",
      "i= 71 cost= 0.0 w= 1.0\n",
      "i= 72 cost= 0.0 w= 1.0\n",
      "i= 73 cost= 0.0 w= 1.0\n",
      "i= 74 cost= 0.0 w= 1.0\n",
      "i= 75 cost= 0.0 w= 1.0\n",
      "i= 76 cost= 0.0 w= 1.0\n",
      "i= 77 cost= 0.0 w= 1.0\n",
      "i= 78 cost= 0.0 w= 1.0\n",
      "i= 79 cost= 0.0 w= 1.0\n",
      "i= 80 cost= 0.0 w= 1.0\n",
      "i= 81 cost= 0.0 w= 1.0\n",
      "i= 82 cost= 0.0 w= 1.0\n",
      "i= 83 cost= 0.0 w= 1.0\n",
      "i= 84 cost= 0.0 w= 1.0\n",
      "i= 85 cost= 0.0 w= 1.0\n",
      "i= 86 cost= 0.0 w= 1.0\n",
      "i= 87 cost= 0.0 w= 1.0\n",
      "i= 88 cost= 0.0 w= 1.0\n",
      "i= 89 cost= 0.0 w= 1.0\n",
      "i= 90 cost= 0.0 w= 1.0\n",
      "i= 91 cost= 0.0 w= 1.0\n",
      "i= 92 cost= 0.0 w= 1.0\n",
      "i= 93 cost= 0.0 w= 1.0\n",
      "i= 94 cost= 0.0 w= 1.0\n",
      "i= 95 cost= 0.0 w= 1.0\n",
      "i= 96 cost= 0.0 w= 1.0\n",
      "i= 97 cost= 0.0 w= 1.0\n",
      "i= 98 cost= 0.0 w= 1.0\n",
      "i= 99 cost= 0.0 w= 1.0\n",
      "최종:w 1.0\n"
     ]
    }
   ],
   "source": [
    "show(x_data, y_data,10)"
   ]
  },
  {
   "cell_type": "code",
   "execution_count": 29,
   "id": "35966fb5-5d7b-4262-9173-e11657a17b23",
   "metadata": {},
   "outputs": [],
   "source": [
    "def cost(x,y,w):\n",
    "    hy = w*x\n",
    "    cost = np.sum((hy-y)**2)/len(x)\n",
    "    return cost"
   ]
  },
  {
   "cell_type": "code",
   "execution_count": 33,
   "id": "66c5e77e-76d0-4f44-acd7-ea5e519b212c",
   "metadata": {},
   "outputs": [
    {
     "data": {
      "text/plain": [
       "18.666666666666668"
      ]
     },
     "execution_count": 33,
     "metadata": {},
     "output_type": "execute_result"
    }
   ],
   "source": [
    "x_data = np.array([1,2,3])\n",
    "y_data = np.array([1,2,3])\n",
    "cost(x_data,y_data,-1)"
   ]
  },
  {
   "cell_type": "code",
   "execution_count": null,
   "id": "430b3fe0-4b9d-4b38-8a77-2dfc7e8b229d",
   "metadata": {},
   "outputs": [],
   "source": [
    "w,b 둘다 5로 찍은 거는 랜덤값으로 넣어준건가요?"
   ]
  },
  {
   "cell_type": "code",
   "execution_count": 46,
   "id": "b0868b14-30ac-4b95-b970-0cc6e5461e31",
   "metadata": {},
   "outputs": [],
   "source": [
    "x = np.array([1,2,3,4,5])\n",
    "y = np.array([5,8,11,14,17])\n",
    "learning_rate = 0.01\n",
    "w = 5\n",
    "b = 5\n",
    "n = len(x)\n",
    "epochs = 1000"
   ]
  },
  {
   "cell_type": "code",
   "execution_count": 47,
   "id": "6f3c326e-6910-476a-9ddc-ea10ba1c6b30",
   "metadata": {
    "tags": []
   },
   "outputs": [
    {
     "name": "stdout",
     "output_type": "stream",
     "text": [
      "최종w 2.978718954317107\n",
      "최종b 2.076831327354474\n"
     ]
    }
   ],
   "source": [
    "hist = []\n",
    "for i in range(epochs):\n",
    "    hy = w*x + b\n",
    "    cost = np.sum((hy-y)**2)/n\n",
    "    hist.append(cost)\n",
    "    gradientW = np.sum((hy-y)*2*x)/n\n",
    "    gradientB = np.sum((hy-y)*2)/n\n",
    "    w = w - learning_rate*gradientW\n",
    "    b = b - learning_rate*gradientB\n",
    "#     print('c',c,'w',w,'b',b)\n",
    "\n",
    "print('최종w',w)\n",
    "print('최종b',b)"
   ]
  },
  {
   "cell_type": "code",
   "execution_count": 36,
   "id": "f4239ad8-d93b-4082-aa64-f4e8844ace4a",
   "metadata": {},
   "outputs": [
    {
     "data": {
      "image/png": "[encoded data removed]",
      "text/plain": [
       "<Figure size 432x288 with 1 Axes>"
      ]
     },
     "metadata": {
      "needs_background": "light"
     },
     "output_type": "display_data"
    }
   ],
   "source": [
    "plt.plot(hist)\n",
    "plt.show()"
   ]
  },
  {
   "cell_type": "code",
   "execution_count": 48,
   "id": "6507325e-ca64-4f26-b5a3-3132749f3106",
   "metadata": {},
   "outputs": [],
   "source": [
    "import pandas as pd\n",
    "import numpy as np\n",
    "from sklearn.linear_model import LinearRegression #공식\n",
    "from sklearn.neural_network import MLPRegressor #학습. 인공지능에서 중요한 부분(딥러닝)\n",
    "import matplotlib.pyplot as plt\n",
    "import matplotlib\n",
    "matplotlib.rcParams['font.family']='Malgun Gothic'\n",
    "matplotlib.rcParams['axes.unicode_minus'] = False"
   ]
  },
  {
   "cell_type": "markdown",
   "id": "c2cc6897-c714-4ab3-89e6-2da748482ec2",
   "metadata": {},
   "source": [
    "# ???????왜 y에는 reshape을 안했을까?"
   ]
  },
  {
   "cell_type": "code",
   "execution_count": 58,
   "id": "3a34188c-f8ea-4ae5-bd1e-4429f0ed3748",
   "metadata": {},
   "outputs": [],
   "source": [
    "x = np.array([1,2,3,4,5]).reshape(-1,1)\n",
    "y = np.array([5,8,11,14,17])"
   ]
  },
  {
   "cell_type": "code",
   "execution_count": 59,
   "id": "1784042f-bf76-4769-821d-84695a6123d4",
   "metadata": {},
   "outputs": [
    {
     "data": {
      "text/plain": [
       "LinearRegression()"
      ]
     },
     "execution_count": 59,
     "metadata": {},
     "output_type": "execute_result"
    }
   ],
   "source": [
    "model_lr = LinearRegression()\n",
    "model_lr.fit(x,y)"
   ]
  },
  {
   "cell_type": "code",
   "execution_count": 60,
   "id": "0da84ed3-651d-4daa-8529-6ebe9d86f533",
   "metadata": {},
   "outputs": [
    {
     "data": {
      "text/plain": [
       "array([3.])"
      ]
     },
     "execution_count": 60,
     "metadata": {},
     "output_type": "execute_result"
    }
   ],
   "source": [
    "model_lr.coef_"
   ]
  },
  {
   "cell_type": "code",
   "execution_count": 61,
   "id": "958228ba-b91c-4f15-90a4-33db769134da",
   "metadata": {},
   "outputs": [
    {
     "data": {
      "text/plain": [
       "1.9999999999999964"
      ]
     },
     "execution_count": 61,
     "metadata": {},
     "output_type": "execute_result"
    }
   ],
   "source": [
    "model_lr.intercept_"
   ]
  },
  {
   "cell_type": "code",
   "execution_count": 62,
   "id": "c36b94b1-e197-407c-b13c-62f694a5b765",
   "metadata": {},
   "outputs": [
    {
     "data": {
      "text/plain": [
       "array([20.])"
      ]
     },
     "execution_count": 62,
     "metadata": {},
     "output_type": "execute_result"
    }
   ],
   "source": [
    "model_lr.predict([[6]])"
   ]
  },
  {
   "cell_type": "code",
   "execution_count": 63,
   "id": "d85d17e1-a6d5-4a85-b5cb-e1f9269c6f63",
   "metadata": {},
   "outputs": [
    {
     "data": {
      "text/html": [
       "<div>\n",
       "<style scoped>\n",
       "    .dataframe tbody tr th:only-of-type {\n",
       "        vertical-align: middle;\n",
       "    }\n",
       "\n",
       "    .dataframe tbody tr th {\n",
       "        vertical-align: top;\n",
       "    }\n",
       "\n",
       "    .dataframe thead th {\n",
       "        text-align: right;\n",
       "    }\n",
       "</style>\n",
       "<table border=\"1\" class=\"dataframe\">\n",
       "  <thead>\n",
       "    <tr style=\"text-align: right;\">\n",
       "      <th></th>\n",
       "      <th>speed</th>\n",
       "      <th>dist</th>\n",
       "    </tr>\n",
       "  </thead>\n",
       "  <tbody>\n",
       "    <tr>\n",
       "      <th>0</th>\n",
       "      <td>4</td>\n",
       "      <td>2</td>\n",
       "    </tr>\n",
       "    <tr>\n",
       "      <th>1</th>\n",
       "      <td>4</td>\n",
       "      <td>10</td>\n",
       "    </tr>\n",
       "    <tr>\n",
       "      <th>2</th>\n",
       "      <td>7</td>\n",
       "      <td>4</td>\n",
       "    </tr>\n",
       "  </tbody>\n",
       "</table>\n",
       "</div>"
      ],
      "text/plain": [
       "   speed  dist\n",
       "0      4     2\n",
       "1      4    10\n",
       "2      7     4"
      ]
     },
     "execution_count": 63,
     "metadata": {},
     "output_type": "execute_result"
    }
   ],
   "source": [
    "carDF = pd.read_csv('data/cars.csv')\n",
    "carDF.columns = ['speed','dist']\n",
    "carDF.head(3)"
   ]
  },
  {
   "cell_type": "code",
   "execution_count": 65,
   "id": "5e56eb9b-a651-4856-8d5f-5309fbb3e5f9",
   "metadata": {},
   "outputs": [
    {
     "data": {
      "image/png": "[encoded data removed]",
      "text/plain": [
       "<Figure size 432x288 with 1 Axes>"
      ]
     },
     "metadata": {
      "needs_background": "light"
     },
     "output_type": "display_data"
    }
   ],
   "source": [
    "plt.scatter(carDF['speed'],carDF['dist'])\n",
    "plt.show()"
   ]
  },
  {
   "cell_type": "markdown",
   "id": "5929095d-0081-4431-8d68-6e638168a6c1",
   "metadata": {},
   "source": [
    "# ??????? x_data를 시리즈로 바꿔주는 이유?\n"
   ]
  },
  {
   "cell_type": "code",
   "execution_count": null,
   "id": "353766ec-392a-47f9-91c8-6d1f67aa2247",
   "metadata": {},
   "outputs": [],
   "source": [
    "x_data = carDF[['speed']]\n",
    "y_data = carDF[['dist']]"
   ]
  },
  {
   "cell_type": "code",
   "execution_count": 67,
   "id": "2fbafd2f-43b7-434a-9e19-48cbdf8f5bc6",
   "metadata": {},
   "outputs": [
    {
     "data": {
      "text/plain": [
       "LinearRegression()"
      ]
     },
     "execution_count": 67,
     "metadata": {},
     "output_type": "execute_result"
    }
   ],
   "source": [
    "model_car = LinearRegression()\n",
    "model_car.fit(x_data,y_data)"
   ]
  },
  {
   "cell_type": "code",
   "execution_count": 68,
   "id": "121d325f-b266-45e6-be68-b48de78deaf5",
   "metadata": {},
   "outputs": [
    {
     "data": {
      "text/plain": [
       "array([[3.93240876]])"
      ]
     },
     "execution_count": 68,
     "metadata": {},
     "output_type": "execute_result"
    }
   ],
   "source": [
    "model_car.coef_"
   ]
  },
  {
   "cell_type": "code",
   "execution_count": 69,
   "id": "c48244f6-64db-4de5-a208-0560437e1681",
   "metadata": {},
   "outputs": [
    {
     "data": {
      "text/plain": [
       "array([-17.57909489])"
      ]
     },
     "execution_count": 69,
     "metadata": {},
     "output_type": "execute_result"
    }
   ],
   "source": [
    "model_car.intercept_"
   ]
  },
  {
   "cell_type": "code",
   "execution_count": 70,
   "id": "50632fb3-1d79-4e34-9099-ef296bf45277",
   "metadata": {},
   "outputs": [
    {
     "data": {
      "text/plain": [
       "array([[41.4070365]])"
      ]
     },
     "execution_count": 70,
     "metadata": {},
     "output_type": "execute_result"
    }
   ],
   "source": [
    "model_car.predict([[15]])"
   ]
  },
  {
   "cell_type": "code",
   "execution_count": 71,
   "id": "aff7162a-113a-412f-ba21-5db38688e0a3",
   "metadata": {},
   "outputs": [
    {
     "data": {
      "text/plain": [
       "array([[17.81258394],\n",
       "       [21.7449927 ]])"
      ]
     },
     "execution_count": 71,
     "metadata": {},
     "output_type": "execute_result"
    }
   ],
   "source": [
    "model_car.predict([[9],[10]])"
   ]
  },
  {
   "cell_type": "code",
   "execution_count": null,
   "id": "33bf801a-4ae2-43d1-9e0e-1a22fc087203",
   "metadata": {},
   "outputs": [],
   "source": []
  }
 ],
 "metadata": {
  "kernelspec": {
   "display_name": "Python 3",
   "language": "python",
   "name": "python3"
  },
  "language_info": {
   "codemirror_mode": {
    "name": "ipython",
    "version": 3
   },
   "file_extension": ".py",
   "mimetype": "text/x-python",
   "name": "python",
   "nbconvert_exporter": "python",
   "pygments_lexer": "ipython3",
   "version": "3.8.8"
  }
 },
 "nbformat": 4,
 "nbformat_minor": 5
}
