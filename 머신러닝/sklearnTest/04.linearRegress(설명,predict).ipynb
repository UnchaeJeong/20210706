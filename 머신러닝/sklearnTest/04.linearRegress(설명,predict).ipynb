{
 "cells": [
  {
   "cell_type": "code",
   "execution_count": 1,
   "id": "90435494-4a50-422b-aaab-e4ab4c77bf9f",
   "metadata": {},
   "outputs": [],
   "source": [
    "import pandas as pd\n",
    "import numpy as np\n",
    "from sklearn.linear_model import LinearRegression # 통계 공식\n",
    "from sklearn.neural_network import MLPRegressor #학습. 인공지능에서 중요한 부분(딥러닝)\n",
    "import matplotlib.pyplot as plt\n",
    "import matplotlib\n",
    "matplotlib.rcParams['font.family']='Malgun Gothic'\n",
    "matplotlib.rcParams['axes.unicode_minus'] = False"
   ]
  },
  {
   "cell_type": "markdown",
   "id": "e9cd7778-09cc-4215-a332-34819d5d2e35",
   "metadata": {},
   "source": [
    "x.reshape(-1,1)\n",
    "\n",
    "특성데이터  선형회귀에서 2차원 행렬"
   ]
  },
  {
   "cell_type": "code",
   "execution_count": 2,
   "id": "8a4a884f-1e0d-4f70-bdff-f4955d0b165f",
   "metadata": {},
   "outputs": [],
   "source": [
    "x = np.array([1,2,3,4,5]).reshape(5,1) # reshape(-1,1) \n",
    "# 5행 1열로 잡으니까 reshape 해줘야함.\n",
    "# (행:  데이터갯수), (열:  컬럼의 갯수)\n",
    "# 특성데이터 :선형회귀에서 반드시 2차원 행렬(다중선형회귀?힌트)\n",
    "# (in 판다스_데이터프레임)\n",
    "y = np.array([5,8,11,14,17]) # 라벨"
   ]
  },
  {
   "cell_type": "code",
   "execution_count": 3,
   "id": "102f58a6-5ac4-4ca2-a041-4fbd7951cb00",
   "metadata": {},
   "outputs": [
    {
     "data": {
      "text/plain": [
       "array([[1],\n",
       "       [2],\n",
       "       [3],\n",
       "       [4],\n",
       "       [5]])"
      ]
     },
     "execution_count": 3,
     "metadata": {},
     "output_type": "execute_result"
    }
   ],
   "source": [
    "x"
   ]
  },
  {
   "cell_type": "markdown",
   "id": "e8b581c7-96df-4a5c-b9ff-aeb354e74a28",
   "metadata": {},
   "source": [
    "---"
   ]
  },
  {
   "cell_type": "markdown",
   "id": "8e198b73-669e-483b-86e5-a38b29df5288",
   "metadata": {},
   "source": [
    "## 통계학 공식(연립방정식대입)\n",
    "*  model_lr = LinearRegression()\n",
    "*  model_lr.fit(x,y)"
   ]
  },
  {
   "cell_type": "markdown",
   "id": "4648bde3-bead-41f4-b6a1-7286d7ccc4f4",
   "metadata": {},
   "source": [
    "---\n",
    "공식 계산 설명"
   ]
  },
  {
   "cell_type": "code",
   "execution_count": 4,
   "id": "f3a6e643-cdf2-4002-b78a-9fd668299c61",
   "metadata": {
    "tags": []
   },
   "outputs": [
    {
     "data": {
      "text/plain": [
       "LinearRegression()"
      ]
     },
     "execution_count": 4,
     "metadata": {},
     "output_type": "execute_result"
    }
   ],
   "source": [
    "model_lr = LinearRegression()  # 통계 공식에 의해.\n",
    "model_lr.fit(x,y) \n",
    "# 이건 학습이 아님. 통계학 공식(연립방정식대입)"
   ]
  },
  {
   "cell_type": "markdown",
   "id": "67a242c7-6c3c-4317-ba26-0ca5e35db732",
   "metadata": {},
   "source": [
    "###### 기울기 model_lr.coef_"
   ]
  },
  {
   "cell_type": "code",
   "execution_count": 5,
   "id": "edaaa170-5451-4f97-81ba-ef6defd4de4d",
   "metadata": {},
   "outputs": [
    {
     "data": {
      "text/plain": [
       "array([3.])"
      ]
     },
     "execution_count": 5,
     "metadata": {},
     "output_type": "execute_result"
    }
   ],
   "source": [
    "model_lr.coef_ # 기울기(w)"
   ]
  },
  {
   "cell_type": "markdown",
   "id": "c724413b-53af-49e9-a43e-702022a5ef65",
   "metadata": {},
   "source": [
    "###### 절편 model_lr.intercept_"
   ]
  },
  {
   "cell_type": "code",
   "execution_count": 6,
   "id": "e6830439-ea2f-4b19-b3c5-d500e81202e4",
   "metadata": {},
   "outputs": [
    {
     "data": {
      "text/plain": [
       "1.9999999999999964"
      ]
     },
     "execution_count": 6,
     "metadata": {},
     "output_type": "execute_result"
    }
   ],
   "source": [
    "model_lr.intercept_ # 절편인가보군."
   ]
  },
  {
   "cell_type": "code",
   "execution_count": 7,
   "id": "e2352941-e455-4ef3-81de-ddcc7903b266",
   "metadata": {},
   "outputs": [
    {
     "data": {
      "text/plain": [
       "19.999999999999996"
      ]
     },
     "execution_count": 7,
     "metadata": {},
     "output_type": "execute_result"
    }
   ],
   "source": [
    "# x가 6 인 경우 y예측값\n",
    "3*6 + 1.9999999999999964"
   ]
  },
  {
   "cell_type": "markdown",
   "id": "ce9fe71d-ae00-437b-860d-07a60643bb74",
   "metadata": {},
   "source": [
    "---"
   ]
  },
  {
   "cell_type": "markdown",
   "id": "babf646c-543e-4766-8722-737d03c6e6d6",
   "metadata": {},
   "source": [
    "## 연속 데이터 예측 model_lr.predict([[]])"
   ]
  },
  {
   "cell_type": "code",
   "execution_count": 8,
   "id": "2c0ba7ef-1722-4372-8ee8-48c4cb9f4306",
   "metadata": {},
   "outputs": [
    {
     "data": {
      "text/plain": [
       "array([20.])"
      ]
     },
     "execution_count": 8,
     "metadata": {},
     "output_type": "execute_result"
    }
   ],
   "source": [
    "# model.predict( 6 ) -> shape error, 반드시 2d여야 함.\n",
    "\n",
    "model_lr.predict([[6]]) # 연속 데이터 예측"
   ]
  },
  {
   "cell_type": "markdown",
   "id": "749f2c33-e0a7-4072-9aa4-cfb6f98baa02",
   "metadata": {},
   "source": [
    "---"
   ]
  },
  {
   "cell_type": "markdown",
   "id": "4b2bc37a-2515-495b-b9b6-bf2de2111d89",
   "metadata": {},
   "source": [
    "###### 데이터 프레임 불러오기"
   ]
  },
  {
   "cell_type": "code",
   "execution_count": 9,
   "id": "477bf316-621f-4432-8c27-285af4652e09",
   "metadata": {},
   "outputs": [
    {
     "data": {
      "text/html": [
       "<div>\n",
       "<style scoped>\n",
       "    .dataframe tbody tr th:only-of-type {\n",
       "        vertical-align: middle;\n",
       "    }\n",
       "\n",
       "    .dataframe tbody tr th {\n",
       "        vertical-align: top;\n",
       "    }\n",
       "\n",
       "    .dataframe thead th {\n",
       "        text-align: right;\n",
       "    }\n",
       "</style>\n",
       "<table border=\"1\" class=\"dataframe\">\n",
       "  <thead>\n",
       "    <tr style=\"text-align: right;\">\n",
       "      <th></th>\n",
       "      <th>speed</th>\n",
       "      <th>dist</th>\n",
       "    </tr>\n",
       "  </thead>\n",
       "  <tbody>\n",
       "    <tr>\n",
       "      <th>0</th>\n",
       "      <td>4</td>\n",
       "      <td>2</td>\n",
       "    </tr>\n",
       "    <tr>\n",
       "      <th>1</th>\n",
       "      <td>4</td>\n",
       "      <td>10</td>\n",
       "    </tr>\n",
       "    <tr>\n",
       "      <th>2</th>\n",
       "      <td>7</td>\n",
       "      <td>4</td>\n",
       "    </tr>\n",
       "  </tbody>\n",
       "</table>\n",
       "</div>"
      ],
      "text/plain": [
       "   speed  dist\n",
       "0      4     2\n",
       "1      4    10\n",
       "2      7     4"
      ]
     },
     "execution_count": 9,
     "metadata": {},
     "output_type": "execute_result"
    }
   ],
   "source": [
    "carDF = pd.read_csv('data/cars.csv')\n",
    "carDF.columns = ['speed','dist']\n",
    "carDF.head(3)"
   ]
  },
  {
   "cell_type": "markdown",
   "id": "447c1505-75f7-403d-8407-4112e7f2a06f",
   "metadata": {},
   "source": [
    "###### 그래프 그려보기\n",
    "* plt.scatter"
   ]
  },
  {
   "cell_type": "code",
   "execution_count": 10,
   "id": "e177401c-b72d-4fcb-acd2-e8d3b5b5df3e",
   "metadata": {},
   "outputs": [
    {
     "data": {
      "image/png": "[encoded data removed]",
      "text/plain": [
       "<Figure size 432x288 with 1 Axes>"
      ]
     },
     "metadata": {
      "needs_background": "light"
     },
     "output_type": "display_data"
    }
   ],
   "source": [
    "plt.xlabel('자동차속도')\n",
    "plt.ylabel('제동거리')\n",
    "\n",
    "plt.scatter(carDF['speed'],carDF['dist'])\n",
    "plt.show()"
   ]
  },
  {
   "cell_type": "code",
   "execution_count": 11,
   "id": "fe275970-4f36-4c76-9f57-ad86a0acf797",
   "metadata": {
    "collapsed": true,
    "jupyter": {
     "outputs_hidden": true
    },
    "tags": []
   },
   "outputs": [
    {
     "name": "stdout",
     "output_type": "stream",
     "text": [
      "(50, 1)\n"
     ]
    },
    {
     "data": {
      "text/html": [
       "<div>\n",
       "<style scoped>\n",
       "    .dataframe tbody tr th:only-of-type {\n",
       "        vertical-align: middle;\n",
       "    }\n",
       "\n",
       "    .dataframe tbody tr th {\n",
       "        vertical-align: top;\n",
       "    }\n",
       "\n",
       "    .dataframe thead th {\n",
       "        text-align: right;\n",
       "    }\n",
       "</style>\n",
       "<table border=\"1\" class=\"dataframe\">\n",
       "  <thead>\n",
       "    <tr style=\"text-align: right;\">\n",
       "      <th></th>\n",
       "      <th>speed</th>\n",
       "    </tr>\n",
       "  </thead>\n",
       "  <tbody>\n",
       "    <tr>\n",
       "      <th>0</th>\n",
       "      <td>4</td>\n",
       "    </tr>\n",
       "    <tr>\n",
       "      <th>1</th>\n",
       "      <td>4</td>\n",
       "    </tr>\n",
       "    <tr>\n",
       "      <th>2</th>\n",
       "      <td>7</td>\n",
       "    </tr>\n",
       "    <tr>\n",
       "      <th>3</th>\n",
       "      <td>7</td>\n",
       "    </tr>\n",
       "    <tr>\n",
       "      <th>4</th>\n",
       "      <td>8</td>\n",
       "    </tr>\n",
       "    <tr>\n",
       "      <th>5</th>\n",
       "      <td>9</td>\n",
       "    </tr>\n",
       "    <tr>\n",
       "      <th>6</th>\n",
       "      <td>10</td>\n",
       "    </tr>\n",
       "    <tr>\n",
       "      <th>7</th>\n",
       "      <td>10</td>\n",
       "    </tr>\n",
       "    <tr>\n",
       "      <th>8</th>\n",
       "      <td>10</td>\n",
       "    </tr>\n",
       "    <tr>\n",
       "      <th>9</th>\n",
       "      <td>11</td>\n",
       "    </tr>\n",
       "    <tr>\n",
       "      <th>10</th>\n",
       "      <td>11</td>\n",
       "    </tr>\n",
       "    <tr>\n",
       "      <th>11</th>\n",
       "      <td>12</td>\n",
       "    </tr>\n",
       "    <tr>\n",
       "      <th>12</th>\n",
       "      <td>12</td>\n",
       "    </tr>\n",
       "    <tr>\n",
       "      <th>13</th>\n",
       "      <td>12</td>\n",
       "    </tr>\n",
       "    <tr>\n",
       "      <th>14</th>\n",
       "      <td>12</td>\n",
       "    </tr>\n",
       "    <tr>\n",
       "      <th>15</th>\n",
       "      <td>13</td>\n",
       "    </tr>\n",
       "    <tr>\n",
       "      <th>16</th>\n",
       "      <td>13</td>\n",
       "    </tr>\n",
       "    <tr>\n",
       "      <th>17</th>\n",
       "      <td>13</td>\n",
       "    </tr>\n",
       "    <tr>\n",
       "      <th>18</th>\n",
       "      <td>13</td>\n",
       "    </tr>\n",
       "    <tr>\n",
       "      <th>19</th>\n",
       "      <td>14</td>\n",
       "    </tr>\n",
       "    <tr>\n",
       "      <th>20</th>\n",
       "      <td>14</td>\n",
       "    </tr>\n",
       "    <tr>\n",
       "      <th>21</th>\n",
       "      <td>14</td>\n",
       "    </tr>\n",
       "    <tr>\n",
       "      <th>22</th>\n",
       "      <td>14</td>\n",
       "    </tr>\n",
       "    <tr>\n",
       "      <th>23</th>\n",
       "      <td>15</td>\n",
       "    </tr>\n",
       "    <tr>\n",
       "      <th>24</th>\n",
       "      <td>15</td>\n",
       "    </tr>\n",
       "    <tr>\n",
       "      <th>25</th>\n",
       "      <td>15</td>\n",
       "    </tr>\n",
       "    <tr>\n",
       "      <th>26</th>\n",
       "      <td>16</td>\n",
       "    </tr>\n",
       "    <tr>\n",
       "      <th>27</th>\n",
       "      <td>16</td>\n",
       "    </tr>\n",
       "    <tr>\n",
       "      <th>28</th>\n",
       "      <td>17</td>\n",
       "    </tr>\n",
       "    <tr>\n",
       "      <th>29</th>\n",
       "      <td>17</td>\n",
       "    </tr>\n",
       "    <tr>\n",
       "      <th>30</th>\n",
       "      <td>17</td>\n",
       "    </tr>\n",
       "    <tr>\n",
       "      <th>31</th>\n",
       "      <td>18</td>\n",
       "    </tr>\n",
       "    <tr>\n",
       "      <th>32</th>\n",
       "      <td>18</td>\n",
       "    </tr>\n",
       "    <tr>\n",
       "      <th>33</th>\n",
       "      <td>18</td>\n",
       "    </tr>\n",
       "    <tr>\n",
       "      <th>34</th>\n",
       "      <td>18</td>\n",
       "    </tr>\n",
       "    <tr>\n",
       "      <th>35</th>\n",
       "      <td>19</td>\n",
       "    </tr>\n",
       "    <tr>\n",
       "      <th>36</th>\n",
       "      <td>19</td>\n",
       "    </tr>\n",
       "    <tr>\n",
       "      <th>37</th>\n",
       "      <td>19</td>\n",
       "    </tr>\n",
       "    <tr>\n",
       "      <th>38</th>\n",
       "      <td>20</td>\n",
       "    </tr>\n",
       "    <tr>\n",
       "      <th>39</th>\n",
       "      <td>20</td>\n",
       "    </tr>\n",
       "    <tr>\n",
       "      <th>40</th>\n",
       "      <td>20</td>\n",
       "    </tr>\n",
       "    <tr>\n",
       "      <th>41</th>\n",
       "      <td>20</td>\n",
       "    </tr>\n",
       "    <tr>\n",
       "      <th>42</th>\n",
       "      <td>20</td>\n",
       "    </tr>\n",
       "    <tr>\n",
       "      <th>43</th>\n",
       "      <td>22</td>\n",
       "    </tr>\n",
       "    <tr>\n",
       "      <th>44</th>\n",
       "      <td>23</td>\n",
       "    </tr>\n",
       "    <tr>\n",
       "      <th>45</th>\n",
       "      <td>24</td>\n",
       "    </tr>\n",
       "    <tr>\n",
       "      <th>46</th>\n",
       "      <td>24</td>\n",
       "    </tr>\n",
       "    <tr>\n",
       "      <th>47</th>\n",
       "      <td>24</td>\n",
       "    </tr>\n",
       "    <tr>\n",
       "      <th>48</th>\n",
       "      <td>24</td>\n",
       "    </tr>\n",
       "    <tr>\n",
       "      <th>49</th>\n",
       "      <td>25</td>\n",
       "    </tr>\n",
       "  </tbody>\n",
       "</table>\n",
       "</div>"
      ],
      "text/plain": [
       "    speed\n",
       "0       4\n",
       "1       4\n",
       "2       7\n",
       "3       7\n",
       "4       8\n",
       "5       9\n",
       "6      10\n",
       "7      10\n",
       "8      10\n",
       "9      11\n",
       "10     11\n",
       "11     12\n",
       "12     12\n",
       "13     12\n",
       "14     12\n",
       "15     13\n",
       "16     13\n",
       "17     13\n",
       "18     13\n",
       "19     14\n",
       "20     14\n",
       "21     14\n",
       "22     14\n",
       "23     15\n",
       "24     15\n",
       "25     15\n",
       "26     16\n",
       "27     16\n",
       "28     17\n",
       "29     17\n",
       "30     17\n",
       "31     18\n",
       "32     18\n",
       "33     18\n",
       "34     18\n",
       "35     19\n",
       "36     19\n",
       "37     19\n",
       "38     20\n",
       "39     20\n",
       "40     20\n",
       "41     20\n",
       "42     20\n",
       "43     22\n",
       "44     23\n",
       "45     24\n",
       "46     24\n",
       "47     24\n",
       "48     24\n",
       "49     25"
      ]
     },
     "execution_count": 11,
     "metadata": {},
     "output_type": "execute_result"
    }
   ],
   "source": [
    "x_data = carDF[['speed']] # [Series]\n",
    "print(x_data.shape)\n",
    "x_data"
   ]
  },
  {
   "cell_type": "code",
   "execution_count": 25,
   "id": "17c02998-0d5a-410e-b851-690115299d82",
   "metadata": {
    "collapsed": true,
    "jupyter": {
     "outputs_hidden": true
    },
    "tags": []
   },
   "outputs": [
    {
     "data": {
      "text/plain": [
       "0       2\n",
       "1      10\n",
       "2       4\n",
       "3      22\n",
       "4      16\n",
       "5      10\n",
       "6      18\n",
       "7      26\n",
       "8      34\n",
       "9      17\n",
       "10     28\n",
       "11     14\n",
       "12     20\n",
       "13     24\n",
       "14     28\n",
       "15     26\n",
       "16     34\n",
       "17     34\n",
       "18     46\n",
       "19     26\n",
       "20     36\n",
       "21     60\n",
       "22     80\n",
       "23     20\n",
       "24     26\n",
       "25     54\n",
       "26     32\n",
       "27     40\n",
       "28     32\n",
       "29     40\n",
       "30     50\n",
       "31     42\n",
       "32     56\n",
       "33     76\n",
       "34     84\n",
       "35     36\n",
       "36     46\n",
       "37     68\n",
       "38     32\n",
       "39     48\n",
       "40     52\n",
       "41     56\n",
       "42     64\n",
       "43     66\n",
       "44     54\n",
       "45     70\n",
       "46     92\n",
       "47     93\n",
       "48    120\n",
       "49     85\n",
       "Name: dist, dtype: int64"
      ]
     },
     "execution_count": 25,
     "metadata": {},
     "output_type": "execute_result"
    }
   ],
   "source": [
    "y_data = carDF['dist']\n",
    "y_data"
   ]
  },
  {
   "cell_type": "markdown",
   "id": "abcd92ec-6592-453c-bfa6-d872fe6a1409",
   "metadata": {},
   "source": [
    "## model_car = LinearRegression()\n",
    "### model_car.fit()"
   ]
  },
  {
   "cell_type": "code",
   "execution_count": 13,
   "id": "e730af58-faec-4e18-96f0-e80e296c15bf",
   "metadata": {},
   "outputs": [
    {
     "data": {
      "text/plain": [
       "LinearRegression()"
      ]
     },
     "execution_count": 13,
     "metadata": {},
     "output_type": "execute_result"
    }
   ],
   "source": [
    "model_car = LinearRegression()\n",
    "model_car.fit(x_data, y_data)"
   ]
  },
  {
   "cell_type": "markdown",
   "id": "125f4202-b6da-42d7-bf14-e10942fbe51c",
   "metadata": {},
   "source": [
    "###### model_car.coef_"
   ]
  },
  {
   "cell_type": "code",
   "execution_count": 14,
   "id": "fba3ad37-21da-4a82-bae9-1954db2874c5",
   "metadata": {},
   "outputs": [
    {
     "data": {
      "text/plain": [
       "array([3.93240876])"
      ]
     },
     "execution_count": 14,
     "metadata": {},
     "output_type": "execute_result"
    }
   ],
   "source": [
    "model_car.coef_ # 기울기와"
   ]
  },
  {
   "cell_type": "markdown",
   "id": "40463cba-bda6-492a-b143-55e61726121f",
   "metadata": {},
   "source": [
    "###### model_car.intercept_"
   ]
  },
  {
   "cell_type": "code",
   "execution_count": 15,
   "id": "7a3d00ae-425f-4ba9-b926-d9f0cc910fcf",
   "metadata": {},
   "outputs": [
    {
     "data": {
      "text/plain": [
       "-17.57909489051095"
      ]
     },
     "execution_count": 15,
     "metadata": {},
     "output_type": "execute_result"
    }
   ],
   "source": [
    "model_car.intercept_ # 절편을 구함."
   ]
  },
  {
   "cell_type": "markdown",
   "id": "8b85d19a-daee-46f6-a44a-e02d687969de",
   "metadata": {},
   "source": [
    "### model_car.predict([[]])"
   ]
  },
  {
   "cell_type": "code",
   "execution_count": 16,
   "id": "761f65db-23ab-4235-81e5-d1d273d87a29",
   "metadata": {},
   "outputs": [
    {
     "data": {
      "text/plain": [
       "array([41.4070365])"
      ]
     },
     "execution_count": 16,
     "metadata": {},
     "output_type": "execute_result"
    }
   ],
   "source": [
    "# 자동차 속도 15인 경우 예측값을 구하시오.\n",
    "model_car.predict([[15]])"
   ]
  },
  {
   "cell_type": "markdown",
   "id": "9d8749f4-16b6-47fd-a886-81f066d050aa",
   "metadata": {},
   "source": [
    "### model_car.predict([[],[]])"
   ]
  },
  {
   "cell_type": "code",
   "execution_count": 17,
   "id": "7c0ddc42-33e5-4568-8845-d347a180fef6",
   "metadata": {},
   "outputs": [
    {
     "data": {
      "text/plain": [
       "array([17.81258394, 21.7449927 ])"
      ]
     },
     "execution_count": 17,
     "metadata": {},
     "output_type": "execute_result"
    }
   ],
   "source": [
    "# 자동차 속도가 9, 10인경우 예측값을 구하시오.\n",
    "model_car.predict([[9],[10]]) # 2행 1열"
   ]
  },
  {
   "cell_type": "markdown",
   "id": "ecaa9774-029b-4680-b67a-c6046e63bba2",
   "metadata": {},
   "source": [
    "---"
   ]
  },
  {
   "cell_type": "markdown",
   "id": "07c1c5e6-a418-471f-8d51-de5dcebbb0fb",
   "metadata": {},
   "source": [
    "## 그래프로 나타내기\n",
    "\n",
    "* plt.xlabel()\n",
    "* plt.ylabel()\n",
    "* y_predict = model_car.predict(x_data)\n",
    "\n",
    "* plt.scatter()\n",
    "* plt.plot()\n",
    "* plt.show()"
   ]
  },
  {
   "cell_type": "code",
   "execution_count": 18,
   "id": "b6182db8-2565-4c99-92da-e69ce9de25e5",
   "metadata": {},
   "outputs": [
    {
     "data": {
      "image/png": "[encoded data removed]",
      "text/plain": [
       "<Figure size 432x288 with 1 Axes>"
      ]
     },
     "metadata": {
      "needs_background": "light"
     },
     "output_type": "display_data"
    }
   ],
   "source": [
    "# 실데이터 scatter와 예측선을 차트로 그리시요 (같이 그려져야함)\n",
    "# w, b = 3.93240876, -17.57909489051095\n",
    "plt.xlabel('자동차속도')\n",
    "plt.ylabel('제동거리')\n",
    "y_predict = model_car.predict(x_data)\n",
    "plt.scatter(x_data,y_data)\n",
    "plt.plot(x_data,y_predict,'r')\n",
    "plt.show()\n"
   ]
  },
  {
   "cell_type": "code",
   "execution_count": null,
   "id": "599f7eb6-0a8a-4bab-ad79-0d928bb2fda9",
   "metadata": {},
   "outputs": [],
   "source": []
  }
 ],
 "metadata": {
  "kernelspec": {
   "display_name": "Python 3",
   "language": "python",
   "name": "python3"
  },
  "language_info": {
   "codemirror_mode": {
    "name": "ipython",
    "version": 3
   },
   "file_extension": ".py",
   "mimetype": "text/x-python",
   "name": "python",
   "nbconvert_exporter": "python",
   "pygments_lexer": "ipython3",
   "version": "3.8.8"
  }
 },
 "nbformat": 4,
 "nbformat_minor": 5
}
