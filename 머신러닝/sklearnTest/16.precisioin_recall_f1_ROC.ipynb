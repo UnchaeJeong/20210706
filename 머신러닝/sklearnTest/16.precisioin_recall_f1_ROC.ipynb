{
 "cells": [
  {
   "cell_type": "code",
   "execution_count": 1,
   "id": "07c4d4cb-94d0-4e49-a3d6-729a83b08e33",
   "metadata": {},
   "outputs": [],
   "source": [
    "from sklearn.datasets import make_classification, load_breast_cancer\n",
    "from sklearn.linear_model import LogisticRegression\n",
    "from sklearn.model_selection import train_test_split\n",
    "\n",
    "import pandas as pd\n",
    "import matplotlib.pyplot as plt\n",
    "import numpy as np\n",
    "import seaborn as sns\n",
    "\n",
    "from sklearn.pipeline import make_pipeline\n",
    "from sklearn.preprocessing import StandardScaler\n",
    "from sklearn.preprocessing import OneHotEncoder, LabelEncoder\n",
    "from sklearn.model_selection import train_test_split\n",
    "from sklearn.model_selection import GridSearchCV\n",
    "from sklearn.compose import make_column_transformer\n",
    "\n",
    "\n",
    "\n",
    "import matplotlib\n",
    "matplotlib.rcParams[\"font.family\"]=\"Malgun Gothic\"\n",
    "matplotlib.rcParams[\"axes.unicode_minus\"]= False"
   ]
  },
  {
   "cell_type": "code",
   "execution_count": 2,
   "id": "fef02dd9-c1e1-4fe4-969e-b9f3a6372c0c",
   "metadata": {},
   "outputs": [],
   "source": [
    "x_data = np.array( [[25.8],[26.6],[28.1],[29.0],[30.5],\n",
    "                    [31.0],[33.6],[39.3],[43.3],[45.8] ] )\n",
    "y_data = np.array( [[1],[0],[0],[1],[1],[1],[1],[0],[0],[1]  ] )"
   ]
  },
  {
   "cell_type": "code",
   "execution_count": 3,
   "id": "b042fee1-6edc-429e-9a96-ee9a3ccf05d9",
   "metadata": {},
   "outputs": [
    {
     "data": {
      "text/html": [
       "<div>\n",
       "<style scoped>\n",
       "    .dataframe tbody tr th:only-of-type {\n",
       "        vertical-align: middle;\n",
       "    }\n",
       "\n",
       "    .dataframe tbody tr th {\n",
       "        vertical-align: top;\n",
       "    }\n",
       "\n",
       "    .dataframe thead th {\n",
       "        text-align: right;\n",
       "    }\n",
       "</style>\n",
       "<table border=\"1\" class=\"dataframe\">\n",
       "  <thead>\n",
       "    <tr style=\"text-align: right;\">\n",
       "      <th></th>\n",
       "      <th>BMI</th>\n",
       "      <th>당뇨여부</th>\n",
       "    </tr>\n",
       "  </thead>\n",
       "  <tbody>\n",
       "    <tr>\n",
       "      <th>0</th>\n",
       "      <td>25.8</td>\n",
       "      <td>1</td>\n",
       "    </tr>\n",
       "    <tr>\n",
       "      <th>1</th>\n",
       "      <td>26.6</td>\n",
       "      <td>0</td>\n",
       "    </tr>\n",
       "    <tr>\n",
       "      <th>2</th>\n",
       "      <td>28.1</td>\n",
       "      <td>0</td>\n",
       "    </tr>\n",
       "    <tr>\n",
       "      <th>3</th>\n",
       "      <td>29.0</td>\n",
       "      <td>1</td>\n",
       "    </tr>\n",
       "    <tr>\n",
       "      <th>4</th>\n",
       "      <td>30.5</td>\n",
       "      <td>1</td>\n",
       "    </tr>\n",
       "    <tr>\n",
       "      <th>5</th>\n",
       "      <td>31.0</td>\n",
       "      <td>1</td>\n",
       "    </tr>\n",
       "    <tr>\n",
       "      <th>6</th>\n",
       "      <td>33.6</td>\n",
       "      <td>1</td>\n",
       "    </tr>\n",
       "    <tr>\n",
       "      <th>7</th>\n",
       "      <td>39.3</td>\n",
       "      <td>0</td>\n",
       "    </tr>\n",
       "    <tr>\n",
       "      <th>8</th>\n",
       "      <td>43.3</td>\n",
       "      <td>0</td>\n",
       "    </tr>\n",
       "    <tr>\n",
       "      <th>9</th>\n",
       "      <td>45.8</td>\n",
       "      <td>1</td>\n",
       "    </tr>\n",
       "  </tbody>\n",
       "</table>\n",
       "</div>"
      ],
      "text/plain": [
       "    BMI  당뇨여부\n",
       "0  25.8     1\n",
       "1  26.6     0\n",
       "2  28.1     0\n",
       "3  29.0     1\n",
       "4  30.5     1\n",
       "5  31.0     1\n",
       "6  33.6     1\n",
       "7  39.3     0\n",
       "8  43.3     0\n",
       "9  45.8     1"
      ]
     },
     "execution_count": 3,
     "metadata": {},
     "output_type": "execute_result"
    }
   ],
   "source": [
    "df = pd.DataFrame( x_data, columns=['BMI'] )\n",
    "df['당뇨여부'] = y_data\n",
    "df\n"
   ]
  },
  {
   "cell_type": "code",
   "execution_count": 4,
   "id": "3d8e8503-e504-4102-a3bd-a6c3f44b0be1",
   "metadata": {},
   "outputs": [],
   "source": [
    "from sklearn.metrics import confusion_matrix, precision_score, recall_score, f1_score"
   ]
  },
  {
   "cell_type": "code",
   "execution_count": 5,
   "id": "244921e9-b849-4477-9576-620bbb5bbe57",
   "metadata": {},
   "outputs": [
    {
     "data": {
      "image/png": "[encoded data removed]",
      "text/plain": [
       "<Figure size 432x288 with 2 Axes>"
      ]
     },
     "metadata": {
      "needs_background": "light"
     },
     "output_type": "display_data"
    }
   ],
   "source": [
    "y_pred = [0,0,1,1,1,1,1,1,1,1] #판정\n",
    "# y_data[[1,0,0,1,1,1,1,0,0,1]  ] )\n",
    "cm = confusion_matrix(y_data, y_pred) #     y_true, y_pred\n",
    "cm\n",
    "sns.heatmap(cm, annot=True, cmap='Reds', yticklabels=['정상','당뇨환자'],\n",
    "           xticklabels=['정상판정','당뇨판정'])\n",
    "plt.show()\n",
    "#당뇨병인데 당뇨병 예측 5개\n",
    "#1종오류 2종오류 구하는 거."
   ]
  },
  {
   "cell_type": "markdown",
   "id": "6eb87288-c5d2-4e3b-923a-6703add2cfc0",
   "metadata": {},
   "source": [
    "정밀도와 리콜에 대해 살펴보자\n",
    "\n",
    "Precisor 정밀도 TP/(TP+FP)를 나눈값 (오탐 비율)\n",
    "\n",
    "Recall 재현율 TP/(TP + FN) (미탐 비율)\n",
    "\n",
    "**F1Score(precisior, recall 조화평균) 정탐과 미탐의 비율을 따져봐야한다.**"
   ]
  },
  {
   "cell_type": "code",
   "execution_count": 6,
   "id": "0336437b-7253-447f-9ae4-0ebdbb27b1c0",
   "metadata": {},
   "outputs": [
    {
     "data": {
      "text/plain": [
       "0.625"
      ]
     },
     "execution_count": 6,
     "metadata": {},
     "output_type": "execute_result"
    }
   ],
   "source": [
    "# 정밀도\n",
    "precision_score(y_data, y_pred)"
   ]
  },
  {
   "cell_type": "code",
   "execution_count": 7,
   "id": "d2359472-3314-42df-96e4-9b06c212add3",
   "metadata": {},
   "outputs": [
    {
     "data": {
      "text/plain": [
       "0.8333333333333334"
      ]
     },
     "execution_count": 7,
     "metadata": {},
     "output_type": "execute_result"
    }
   ],
   "source": [
    "# 재현율\n",
    "recall_score(y_data, y_pred)"
   ]
  },
  {
   "cell_type": "code",
   "execution_count": 8,
   "id": "5477573d-631e-48ec-b6c9-26b4bdf7b4e5",
   "metadata": {},
   "outputs": [
    {
     "data": {
      "text/plain": [
       "0.7142857142857143"
      ]
     },
     "execution_count": 8,
     "metadata": {},
     "output_type": "execute_result"
    }
   ],
   "source": [
    "# 오탐, 미탐의 조화평균\n",
    "f1_score(y_data,y_pred)"
   ]
  },
  {
   "cell_type": "markdown",
   "id": "016274c1-1bd3-4c40-8199-fb6a0560d392",
   "metadata": {},
   "source": [
    "# 연습문제\n",
    "\n",
    "피마인디안 데이터를 이용하여 confusion matrix(heat mat), \n",
    "precision, recall, f1 score  를 구하시요. (train test)\n",
    "\n",
    "정보 1 : 과거 임신 횟수 (pregnant)\n",
    "\n",
    "정보 2 : 포도당 부하 검사 2시간 후 공복 혈당 농도 (plasma)\n",
    "\n",
    "정보 3 : 확장기 혈압 (pressure)\n",
    "\n",
    "정보 4 : 삼두근 피부 주름 두께 (thickness)\n",
    "\n",
    "정보 5 : 혈정 인슐린 (insulin)\n",
    "\n",
    "정보 6 : 체질량 지수 (BMI)\n",
    "\n",
    "정보 7 : 당뇨병 가족력 (pedigree)\n",
    "\n",
    "정보 8 : 나이 (age)\n",
    "\n",
    "​\n",
    "\n",
    "클래스 : 당뇨( 1) , 당뇨가 아님 ( 0 )\n",
    "\n"
   ]
  },
  {
   "cell_type": "code",
   "execution_count": 14,
   "id": "5e4b9537-5707-41a4-9861-5344ae31f946",
   "metadata": {},
   "outputs": [
    {
     "data": {
      "image/png": "[encoded data removed]",
      "text/plain": [
       "<Figure size 432x288 with 2 Axes>"
      ]
     },
     "metadata": {
      "needs_background": "light"
     },
     "output_type": "display_data"
    },
    {
     "name": "stdout",
     "output_type": "stream",
     "text": [
      "정밀도:  0.7\n",
      "재현율:  0.5185185185185185\n",
      "f1 score:  0.5957446808510639\n"
     ]
    }
   ],
   "source": [
    "from sklearn.preprocessing import StandardScaler\n",
    "from sklearn.pipeline import make_pipeline\n",
    "from sklearn.metrics import confusion_matrix, precision_score, recall_score, f1_score\n",
    "\n",
    "x_train, x_test, y_train, y_test = train_test_split(x_data, y_data, test_size = 0.2, stratify = y_data, \n",
    "                                                    random_state = 1)\n",
    "df = pd.read_csv('data5/pima-indians-diabetes.data.csv')\n",
    "df\n",
    "\n",
    "x_data = df.iloc[:, :-1]\n",
    "y_data = df.iloc[:, -1]\n",
    "\n",
    "# 1,0 이 train과 test에 고르게 분포되도록 하는 옵션으로 stratify 사용\n",
    "x_train, x_test, y_train, y_test = train_test_split(x_data, y_data, test_size = 0.2, stratify=y_data)\n",
    "\n",
    "model = make_pipeline(StandardScaler(), LogisticRegression())\n",
    "model.fit(x_train, y_train)\n",
    "\n",
    "y_pred = model.predict(x_test)\n",
    "\n",
    "cm = confusion_matrix(y_test, y_pred)\n",
    "\n",
    "sns.heatmap(cm, cmap='Reds',annot=True)\n",
    "plt.show()\n",
    "\n",
    "print('정밀도: ', precision_score(y_test, y_pred))\n",
    "print('재현율: ', recall_score(y_test, y_pred))\n",
    "print('f1 score: ', f1_score(y_test, y_pred))"
   ]
  },
  {
   "cell_type": "code",
   "execution_count": 16,
   "id": "44874735-c671-4988-b98b-7c6fe2e63824",
   "metadata": {},
   "outputs": [],
   "source": [
    "df = pd.read_csv('data5/pima-indians-diabetes.data.csv')\n",
    "x_data = df.iloc[:, : -1]\n",
    "y_data = df.iloc[:, -1]\n",
    "\n",
    "x_train, x_test, y_train, y_test = train_test_split(x_data, y_data, test_size = 0.2, stratify = y_data, \n",
    "                                                    random_state = 1)\n"
   ]
  },
  {
   "cell_type": "code",
   "execution_count": null,
   "id": "a85ee002-a4ce-4988-9efd-f98ea6175e8a",
   "metadata": {},
   "outputs": [],
   "source": []
  }
 ],
 "metadata": {
  "kernelspec": {
   "display_name": "Python 3",
   "language": "python",
   "name": "python3"
  },
  "language_info": {
   "codemirror_mode": {
    "name": "ipython",
    "version": 3
   },
   "file_extension": ".py",
   "mimetype": "text/x-python",
   "name": "python",
   "nbconvert_exporter": "python",
   "pygments_lexer": "ipython3",
   "version": "3.8.8"
  }
 },
 "nbformat": 4,
 "nbformat_minor": 5
}
