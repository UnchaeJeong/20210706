{
 "cells": [
  {
   "cell_type": "code",
   "execution_count": 11,
   "id": "7d305ac8-e270-4b5b-bd93-80e59f06ffa7",
   "metadata": {},
   "outputs": [],
   "source": [
    "import numpy as np\n",
    "import math\n",
    "import matplotlib.pyplot as plt\n",
    "import math"
   ]
  },
  {
   "cell_type": "code",
   "execution_count": 3,
   "id": "7639f72a-9d20-41fb-8163-cafae0ed16fe",
   "metadata": {},
   "outputs": [],
   "source": [
    "# x = np.array( [1., 2., 3., 4., 5., 6.] ) # hour\n",
    "# y = np.array( [ 0,  0,  0, 1, 1, 1] ) # pass"
   ]
  },
  {
   "cell_type": "markdown",
   "id": "cc55d301-b470-4cad-8620-32d838c8e98d",
   "metadata": {},
   "source": [
    "## 연속 데이터 예측"
   ]
  },
  {
   "cell_type": "code",
   "execution_count": 5,
   "id": "3f36019e-ed90-4910-810f-bc85a9a2f56c",
   "metadata": {},
   "outputs": [],
   "source": [
    "# 연속 데이터 예측\n",
    "x = np.array( [1., 2., 3., 4., 5., 6.] ) \n",
    "y = np.array( [ 5.,  7.,  9., 11., 13., 15.] )"
   ]
  },
  {
   "cell_type": "code",
   "execution_count": 6,
   "id": "8eb7bb42-b892-4abe-8ae9-0a9c4f680e7f",
   "metadata": {},
   "outputs": [],
   "source": [
    "w = 0\n",
    "b = 0\n",
    "n = len(x)\n",
    "epochs = 5000\n",
    "learning_reate = 0.01"
   ]
  },
  {
   "cell_type": "code",
   "execution_count": 7,
   "id": "8bd53d96-6f77-4f9f-b21a-77e2337a5af3",
   "metadata": {
    "collapsed": true,
    "jupyter": {
     "outputs_hidden": true
    },
    "tags": []
   },
   "outputs": [
    {
     "name": "stdout",
     "output_type": "stream",
     "text": [
      "epochs:0, cost:111.66666666666667, w:0.8166666666666668, b:0.2\n",
      "epochs:100, cost:0.5342873401160694, w:2.387793668244803, b:1.339778329300845\n",
      "epochs:200, cost:0.2571632313800838, w:2.2690405295020555, b:1.8481840887259684\n",
      "epochs:300, cost:0.12377783003332864, w:2.1866528838450576, b:2.200901953709994\n",
      "epochs:400, cost:0.059576756465295755, w:2.1294946122510163, b:2.445607860306259\n",
      "epochs:500, cost:0.0286754898673648, w:2.0898397831129194, b:2.6153780553198094\n",
      "epochs:600, cost:0.013802089403983099, w:2.062328358604843, b:2.7331599246495557\n",
      "epochs:700, cost:0.0066432229334763135, w:2.043241692619528, b:2.8148737304309663\n",
      "epochs:800, cost:0.003197516669550752, w:2.0299998912606765, b:2.871564510542364\n",
      "epochs:900, cost:0.0015390290156504782, w:2.0208130954440477, b:2.910895007009953\n",
      "epochs:1000, cost:0.0007407655864846235, w:2.014439550403666, b:2.938181418474874\n",
      "epochs:1100, cost:0.0003565453597948745, w:2.010017761001506, b:2.9571119766295766\n",
      "epochs:1200, cost:0.0001716124451657724, w:2.0069500457201097, b:2.970245474689927\n",
      "epochs:1300, cost:8.260051779307777e-05, w:2.004821749640898, b:2.9793571326712556\n",
      "epochs:1400, cost:3.9757288774087215e-05, w:2.0033451966412574, b:2.9856785491581057\n",
      "epochs:1500, cost:1.913598186667069e-05, w:2.0023208049778787, b:2.990064173210512\n",
      "epochs:1600, cost:9.210532541149304e-06, w:2.0016101103531305, b:2.993106797971758\n",
      "epochs:1700, cost:4.433214364577098e-06, w:2.0011170500640807, b:2.9952176869415195\n",
      "epochs:1800, cost:2.1337951431685626e-06, w:2.000774978462338, b:2.9966821633697065\n",
      "epochs:1900, cost:1.0270384733455162e-06, w:2.0005376586389456, b:2.997698176641573\n",
      "epochs:2000, cost:4.943342518661313e-07, w:2.000373012704328, b:2.998403058569845\n",
      "epochs:2100, cost:2.3793300729160866e-07, w:2.000258785905241, b:2.998892086170728\n",
      "epochs:2200, cost:1.1452193681724697e-07, w:2.0001795385089416, b:2.999231360004873\n",
      "epochs:2300, cost:5.512170909639442e-08, w:2.000124558855564, b:2.9994667388144296\n",
      "epochs:2400, cost:2.653118606044429e-08, w:2.000086415491534, b:2.9996300381272913\n",
      "epochs:2500, cost:1.2769992899576074e-08, w:2.0000599526797447, b:2.99974333067742\n",
      "epochs:2600, cost:6.146454149774728e-09, w:2.000041593512284, b:2.9998219299176103\n",
      "epochs:2700, cost:2.958411873277616e-09, w:2.0000288564292954, b:2.9998764598981924\n",
      "epochs:2800, cost:1.423943073195788e-09, w:2.0000200197931344, b:2.999914291291669\n",
      "epochs:2900, cost:6.853724100995356e-10, w:2.0000138891791854, b:2.999940537666909\n",
      "epochs:3000, cost:3.2988351107423224e-10, w:2.0000096359286608, b:2.9999587466766733\n",
      "epochs:3100, cost:1.5877956171450953e-10, w:2.000006685140995, b:2.999971379584401\n",
      "epochs:3200, cost:7.642379315205423e-11, w:2.0000046379660636, b:2.9999801439466456\n",
      "epochs:3300, cost:3.678430709768686e-11, w:2.0000032176926745, b:2.999986224418949\n",
      "epochs:3400, cost:1.770502605799383e-11, w:2.0000022323462496, b:2.9999904428825848\n",
      "epochs:3500, cost:8.521784765368757e-12, w:2.000001548740133, b:2.999993369536067\n",
      "epochs:3600, cost:4.101706222326803e-12, w:2.000001074473101, b:2.999995399967371\n",
      "epochs:3700, cost:1.9742336144679045e-12, w:2.0000007454397424, b:2.9999968086244926\n",
      "epochs:3800, cost:9.502383049829395e-13, w:2.0000005171654913, b:2.999997785911873\n",
      "epochs:3900, cost:4.573687873707166e-13, w:2.000000358795125, b:2.999998463926849\n",
      "epochs:4000, cost:2.2014078726026654e-13, w:2.000000248922142, b:2.999998934314899\n",
      "epochs:4100, cost:1.0595818399159759e-13, w:2.0000001726953025, b:2.9999992606571295\n",
      "epochs:4200, cost:5.0999803102676363e-14, w:2.0000001198112285, b:2.9999994870643483\n",
      "epochs:4300, cost:2.4547229681914358e-14, w:2.000000083121719, b:2.9999996441394217\n",
      "epochs:4400, cost:1.1815074896829065e-14, w:2.0000000576675516, b:2.999999753113765\n",
      "epochs:4500, cost:5.686832920323817e-15, w:2.0000000400081537, b:2.999999828717154\n",
      "epochs:4600, cost:2.7371869553135458e-15, w:2.0000000277565513, b:2.9999998811686948\n",
      "epochs:4700, cost:1.3174631406556278e-15, w:2.0000000192567287, b:2.999999917558123\n",
      "epochs:4800, cost:6.341215143271541e-16, w:2.0000000133597866, b:2.9999999428041018\n",
      "epochs:4900, cost:3.052154434702336e-16, w:2.0000000092686507, b:2.9999999603190663\n"
     ]
    }
   ],
   "source": [
    "for i in range( epochs):\n",
    "    hy = w*x + b # w=2, b=3 \n",
    "    cost = np.sum( (hy-y)**2 )/n # 예측값 - 실제값 평균 = cost\n",
    "    gradientW = np.sum( (w*x+b-y)*2*x )/n\n",
    "    gradientB = np.sum( (w*x+b-y)*2 )/n\n",
    "    w= w- learning_reate*gradientW\n",
    "    b= b- learning_reate*gradientB\n",
    "    if i%100==0: # epoch 5000, 100번에 한 번 찍어본 것.\n",
    "        print(f'epochs:{i}, cost:{cost}, w:{w}, b:{b}')"
   ]
  },
  {
   "cell_type": "code",
   "execution_count": 8,
   "id": "396fdb85-b95c-47e9-b332-cf252381e64c",
   "metadata": {},
   "outputs": [
    {
     "data": {
      "text/plain": [
       "2.0000000064538868"
      ]
     },
     "execution_count": 8,
     "metadata": {},
     "output_type": "execute_result"
    }
   ],
   "source": [
    "w"
   ]
  },
  {
   "cell_type": "code",
   "execution_count": 9,
   "id": "52428201-9958-4e0c-a575-e52a01ace454",
   "metadata": {},
   "outputs": [
    {
     "data": {
      "text/plain": [
       "2.9999999723696287"
      ]
     },
     "execution_count": 9,
     "metadata": {},
     "output_type": "execute_result"
    }
   ],
   "source": [
    "b"
   ]
  },
  {
   "cell_type": "markdown",
   "id": "d3cdcf5d-8162-45b6-bd35-5d05581e6a6c",
   "metadata": {},
   "source": [
    "## 분류"
   ]
  },
  {
   "cell_type": "code",
   "execution_count": 10,
   "id": "e92e2978-2861-4e08-b855-2345bd45e954",
   "metadata": {},
   "outputs": [],
   "source": [
    "x = np.array( [1., 2., 3., 4., 5., 6.] ) # hour\n",
    "y = np.array( [ 0,  0,  0, 1, 1, 1] ) # pass"
   ]
  },
  {
   "cell_type": "code",
   "execution_count": 13,
   "id": "2379c196-99d1-4927-9487-788ccec8754b",
   "metadata": {},
   "outputs": [],
   "source": [
    "# import math"
   ]
  },
  {
   "cell_type": "code",
   "execution_count": 14,
   "id": "892aab4d-b2a5-42b9-a5ec-2897bddbc549",
   "metadata": {},
   "outputs": [],
   "source": [
    "# 시그모이드 함수\n",
    "def sigmoid( z ):\n",
    "    return 1/(1+math.e**-z )"
   ]
  },
  {
   "cell_type": "code",
   "execution_count": 15,
   "id": "72483026-f3f4-440a-8c93-cd31f6925bd8",
   "metadata": {},
   "outputs": [],
   "source": [
    "w = 5\n",
    "b = 5\n",
    "n = len(x)\n",
    "epochs = 5000\n",
    "learning_reate = 0.01"
   ]
  },
  {
   "cell_type": "code",
   "execution_count": null,
   "id": "43df908f-3382-47e3-8935-f45cb7f9679c",
   "metadata": {},
   "outputs": [],
   "source": [
    "# for i in range( epochs):\n",
    "#     z = w*x + b # w=2, b=3  \n",
    "#     hy = sigmoid(z) #hy = 예측값이 되는 것\n",
    "#     cost = np.sum( (hy-y)**2 )/n # 예측값 - 실제값 평균 = cost\n",
    "#     gradientW = np.sum( (w*x+b-y)*2*x )/n\n",
    "#     gradientB = np.sum( (w*x+b-y)*2 )/n\n",
    "#     w= w- learning_reate*gradientW\n",
    "#     b= b- learning_reate*gradientB\n",
    "#     if i%100==0: # epoch 5000, 100번에 한 번 찍어본 것.\n",
    "#         print(f'epochs:{i}, cost:{cost}, w:{w}, b:{b}')"
   ]
  },
  {
   "cell_type": "markdown",
   "id": "e289a60f-b2a8-46da-b314-14fd061017fe",
   "metadata": {},
   "source": [
    "예시"
   ]
  },
  {
   "cell_type": "code",
   "execution_count": 17,
   "id": "ce5850cf-6f8c-4303-b045-5f7e0305c605",
   "metadata": {},
   "outputs": [],
   "source": [
    "def cost(x,y,w):\n",
    "    n = len(x)\n",
    "    hy = w*x\n",
    "#     hy = sigmoid(z)\n",
    "    cost = np.sum((hy-y)**2)/n\n",
    "    return cost"
   ]
  },
  {
   "cell_type": "code",
   "execution_count": 25,
   "id": "afa521d3-2b4b-4e92-a096-677235d6fd7a",
   "metadata": {},
   "outputs": [],
   "source": [
    "x_data = np.array([1.,2.,3.])\n",
    "y_data = np.array([1.,2.,3.])"
   ]
  },
  {
   "cell_type": "code",
   "execution_count": 26,
   "id": "faaa69b2-a279-480f-9917-0df6ce305671",
   "metadata": {},
   "outputs": [
    {
     "data": {
      "image/png": "[encoded data removed]",
      "text/plain": [
       "<Figure size 432x288 with 1 Axes>"
      ]
     },
     "metadata": {
      "needs_background": "light"
     },
     "output_type": "display_data"
    }
   ],
   "source": [
    "for w in np.linspace(-3,5,50):\n",
    "    c = cost(x_data,y_data,w)\n",
    "    plt.plot(w,c,'ro')\n",
    "plt.show()"
   ]
  },
  {
   "cell_type": "markdown",
   "id": "591534e8-d8a0-49a5-9b58-7d178939dd29",
   "metadata": {},
   "source": [
    "예시 2"
   ]
  },
  {
   "cell_type": "code",
   "execution_count": 37,
   "id": "42b78fb0-315e-4313-9b27-b7bd52256880",
   "metadata": {},
   "outputs": [],
   "source": [
    "def cost(x,y,w):\n",
    "    n = len(x)\n",
    "    z = w*x\n",
    "    hy = sigmoid(z) # 활성함수\n",
    "    cost = np.sum((hy-y)**2)/n\n",
    "    return cost"
   ]
  },
  {
   "cell_type": "code",
   "execution_count": 38,
   "id": "31a305e3-4781-4f7b-b706-f887d24283e0",
   "metadata": {},
   "outputs": [],
   "source": [
    "x_data = np.array([1,2,3,4,5,6])\n",
    "y_data = np.array([0,0,0,1,1,1])"
   ]
  },
  {
   "cell_type": "code",
   "execution_count": 39,
   "id": "63c1c2dd-5d4c-466d-8f9d-43e2c9ca8590",
   "metadata": {},
   "outputs": [
    {
     "data": {
      "image/png": "[encoded data removed]",
      "text/plain": [
       "<Figure size 432x288 with 1 Axes>"
      ]
     },
     "metadata": {
      "needs_background": "light"
     },
     "output_type": "display_data"
    }
   ],
   "source": [
    "for w in np.linspace(-3,5,50):\n",
    "    c = cost(x_data,y_data,w)\n",
    "    plt.plot(w,c,'ro')\n",
    "plt.show()"
   ]
  },
  {
   "cell_type": "code",
   "execution_count": null,
   "id": "e6aac08c-4585-4cc6-a6e9-913a65a8a3b8",
   "metadata": {},
   "outputs": [],
   "source": [
    "# 미분이 안됨.\n",
    "# 매끄럽게 그래프를 펴기위해 log그래프?를 사용.\n",
    "# 실측값 y = 1, -log(H(x))\n",
    "# 실측값 y = 0. -log(1-H(x))\n",
    "# Cost Function = C(H(x),y) = -ylog(H(x))-(1-y)log(1-H(x))"
   ]
  },
  {
   "cell_type": "markdown",
   "id": "72f7daf5-fa95-41d7-9085-e33885b80f05",
   "metadata": {},
   "source": [
    "logistic 직접 구현 (sklearn에서 함수를 제공하기 때문에 할 일은 없다) \n",
    "\n",
    "매끄러운 커브가 나오도록 log를 사용한 것\n",
    "\n",
    "정답은 0아니면 1"
   ]
  },
  {
   "cell_type": "code",
   "execution_count": 40,
   "id": "23c75057-8b60-4346-bea7-f97627375ab5",
   "metadata": {},
   "outputs": [],
   "source": [
    "def cost(x,y,w):\n",
    "    n = len(x)\n",
    "    z = w*x\n",
    "    hy = sigmoid(z)\n",
    "#     cost = np.sum((hy-y)**2)/n\n",
    "    loss_i = y * -np.log(hy) + (1 - y) * -np.log(1 - hy)\n",
    "    loss = np.sum( loss_i )/ n\n",
    "    return loss"
   ]
  },
  {
   "cell_type": "code",
   "execution_count": 43,
   "id": "40516f45-8c39-4e94-90e8-b6c0d7cac05d",
   "metadata": {},
   "outputs": [],
   "source": [
    "x_data = np.array([1.,2.,3.,4.,5.,6.])\n",
    "y_data = np.array([0,0,0,1,1,1])"
   ]
  },
  {
   "cell_type": "code",
   "execution_count": 44,
   "id": "b91df67b-beb9-44f6-a607-96951ca8ce4b",
   "metadata": {},
   "outputs": [
    {
     "data": {
      "image/png": "[encoded data removed]",
      "text/plain": [
       "<Figure size 432x288 with 1 Axes>"
      ]
     },
     "metadata": {
      "needs_background": "light"
     },
     "output_type": "display_data"
    }
   ],
   "source": [
    "for w in np.linspace(-3,5,50):\n",
    "    c = cost(x_data,y_data,w)\n",
    "    plt.plot(w,c,'ro')\n",
    "plt.show()"
   ]
  },
  {
   "cell_type": "markdown",
   "id": "812d06e7-471e-4f21-be16-2278bdebc4da",
   "metadata": {},
   "source": [
    "로그함수로 매끄럽게 편 다음 결론적으로는 미분을통해 v모양을 만듦"
   ]
  },
  {
   "cell_type": "code",
   "execution_count": null,
   "id": "bad5105d-b174-4dff-a1d6-62925f670a90",
   "metadata": {},
   "outputs": [],
   "source": []
  }
 ],
 "metadata": {
  "kernelspec": {
   "display_name": "Python 3",
   "language": "python",
   "name": "python3"
  },
  "language_info": {
   "codemirror_mode": {
    "name": "ipython",
    "version": 3
   },
   "file_extension": ".py",
   "mimetype": "text/x-python",
   "name": "python",
   "nbconvert_exporter": "python",
   "pygments_lexer": "ipython3",
   "version": "3.8.8"
  },
  "toc-showmarkdowntxt": false
 },
 "nbformat": 4,
 "nbformat_minor": 5
}
