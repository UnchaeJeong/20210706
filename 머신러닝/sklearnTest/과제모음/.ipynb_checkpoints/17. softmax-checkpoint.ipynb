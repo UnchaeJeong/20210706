{
 "cells": [
  {
   "cell_type": "code",
   "execution_count": 1,
   "id": "2076eea7-c72d-43e9-a87f-2b16d038fd9c",
   "metadata": {},
   "outputs": [],
   "source": [
    "import numpy as np"
   ]
  },
  {
   "cell_type": "code",
   "execution_count": 2,
   "id": "a9b7e33c-53b9-46c5-9651-7b03d4fef5af",
   "metadata": {},
   "outputs": [],
   "source": [
    "def fn(x):\n",
    "    print(x/x.sum())"
   ]
  },
  {
   "cell_type": "code",
   "execution_count": 3,
   "id": "db01ddbf-0400-4926-9cde-f25fb36daf66",
   "metadata": {},
   "outputs": [
    {
     "name": "stdout",
     "output_type": "stream",
     "text": [
      "[0.64516129 0.32258065 0.03225806]\n"
     ]
    }
   ],
   "source": [
    "a = np.array([2.0,1.0,0.1])\n",
    "fn(a)"
   ]
  },
  {
   "cell_type": "code",
   "execution_count": 4,
   "id": "fb25e349-b38e-4f02-8362-4745a61bbd6e",
   "metadata": {},
   "outputs": [],
   "source": [
    "def softmax(x):\n",
    "    e = np.exp(x)\n",
    "    print(e)\n",
    "    print(e/np.sum(e))"
   ]
  },
  {
   "cell_type": "code",
   "execution_count": 5,
   "id": "aed74c9f-b116-4d0e-8704-47ca12548aba",
   "metadata": {},
   "outputs": [
    {
     "name": "stdout",
     "output_type": "stream",
     "text": [
      "[7.3890561  2.71828183 1.10517092]\n",
      "[0.65900114 0.24243297 0.09856589]\n"
     ]
    }
   ],
   "source": [
    "a = np.arraya = np.array([2.0,1.0,0.1])\n",
    "# fn(a)\n",
    "softmax(a) # 확률높은곳에 가중치 \n",
    "# e = 2.718 어쩌구 저쩌구\n",
    "# 위에 값 e^2\n",
    "# 아래값은 위 값에 a데이터 합을 나눈 것"
   ]
  },
  {
   "cell_type": "markdown",
   "id": "dc84b315-65ee-4fb2-88bc-16a045d081fd",
   "metadata": {},
   "source": [
    "weight값을 한번에 계산하게 만들어서 softmax로 확률값을 나오게 한다. 기억할 것."
   ]
  },
  {
   "cell_type": "code",
   "execution_count": null,
   "id": "1a4e8c6f-9f14-43e6-a368-24a4fad58517",
   "metadata": {},
   "outputs": [],
   "source": []
  }
 ],
 "metadata": {
  "kernelspec": {
   "display_name": "Python 3",
   "language": "python",
   "name": "python3"
  },
  "language_info": {
   "codemirror_mode": {
    "name": "ipython",
    "version": 3
   },
   "file_extension": ".py",
   "mimetype": "text/x-python",
   "name": "python",
   "nbconvert_exporter": "python",
   "pygments_lexer": "ipython3",
   "version": "3.8.8"
  }
 },
 "nbformat": 4,
 "nbformat_minor": 5
}
