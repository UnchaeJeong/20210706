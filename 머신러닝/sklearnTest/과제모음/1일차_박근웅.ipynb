{
 "cells": [
  {
   "cell_type": "markdown",
   "id": "051c7a5f",
   "metadata": {},
   "source": [
    "# 과제\n",
    "electric.csv  w, b를 구하시고\n",
    "전기생산량이 3.2, 4.5 인경우 전기 사용량을 예측하시요.\n",
    "scatter(실제데이터), plot(예측데이터)를 그리시요.\n"
   ]
  },
  {
   "cell_type": "markdown",
   "id": "dec3514e",
   "metadata": {},
   "source": [
    "## 패키지 로드"
   ]
  },
  {
   "cell_type": "code",
   "execution_count": 1,
   "id": "40789250",
   "metadata": {
    "ExecuteTime": {
     "end_time": "2021-07-19T08:35:43.432361Z",
     "start_time": "2021-07-19T08:35:41.783447Z"
    }
   },
   "outputs": [],
   "source": [
    "import pandas as pd\n",
    "import numpy as np\n",
    "from sklearn.linear_model import LinearRegression\n",
    "import matplotlib.pyplot as plt\n",
    "import matplotlib\n",
    "matplotlib.rcParams['font.family']='Malgun Gothic'\n",
    "matplotlib.rcParams['axes.unicode_minus'] = False"
   ]
  },
  {
   "cell_type": "markdown",
   "id": "a6cfb2c9",
   "metadata": {
    "ExecuteTime": {
     "end_time": "2021-07-19T08:04:16.606196Z",
     "start_time": "2021-07-19T08:04:16.587924Z"
    }
   },
   "source": [
    "## 데이터 로드"
   ]
  },
  {
   "cell_type": "code",
   "execution_count": 2,
   "id": "5f42ac09",
   "metadata": {
    "ExecuteTime": {
     "end_time": "2021-07-19T08:35:43.448166Z",
     "start_time": "2021-07-19T08:35:43.434187Z"
    }
   },
   "outputs": [
    {
     "data": {
      "text/html": [
       "<div>\n",
       "<style scoped>\n",
       "    .dataframe tbody tr th:only-of-type {\n",
       "        vertical-align: middle;\n",
       "    }\n",
       "\n",
       "    .dataframe tbody tr th {\n",
       "        vertical-align: top;\n",
       "    }\n",
       "\n",
       "    .dataframe thead th {\n",
       "        text-align: right;\n",
       "    }\n",
       "</style>\n",
       "<table border=\"1\" class=\"dataframe\">\n",
       "  <thead>\n",
       "    <tr style=\"text-align: right;\">\n",
       "      <th></th>\n",
       "      <th>전기생산량</th>\n",
       "      <th>전기사용량</th>\n",
       "    </tr>\n",
       "  </thead>\n",
       "  <tbody>\n",
       "    <tr>\n",
       "      <th>0</th>\n",
       "      <td>3.52</td>\n",
       "      <td>2.48</td>\n",
       "    </tr>\n",
       "    <tr>\n",
       "      <th>1</th>\n",
       "      <td>2.58</td>\n",
       "      <td>2.27</td>\n",
       "    </tr>\n",
       "    <tr>\n",
       "      <th>2</th>\n",
       "      <td>3.31</td>\n",
       "      <td>2.47</td>\n",
       "    </tr>\n",
       "    <tr>\n",
       "      <th>3</th>\n",
       "      <td>4.07</td>\n",
       "      <td>2.77</td>\n",
       "    </tr>\n",
       "    <tr>\n",
       "      <th>4</th>\n",
       "      <td>4.62</td>\n",
       "      <td>2.98</td>\n",
       "    </tr>\n",
       "  </tbody>\n",
       "</table>\n",
       "</div>"
      ],
      "text/plain": [
       "   전기생산량  전기사용량\n",
       "0   3.52   2.48\n",
       "1   2.58   2.27\n",
       "2   3.31   2.47\n",
       "3   4.07   2.77\n",
       "4   4.62   2.98"
      ]
     },
     "execution_count": 2,
     "metadata": {},
     "output_type": "execute_result"
    }
   ],
   "source": [
    "electric = pd.read_csv('./data/electric.csv')\n",
    "electric.drop('Unnamed: 0' ,axis=1, inplace=True)\n",
    "electric.head()"
   ]
  },
  {
   "cell_type": "markdown",
   "id": "aa8bed6f",
   "metadata": {},
   "source": [
    "## 데이터 처리"
   ]
  },
  {
   "cell_type": "code",
   "execution_count": 3,
   "id": "ff30b04a-c39f-4887-8dfe-265763b31f3e",
   "metadata": {
    "tags": []
   },
   "outputs": [
    {
     "data": {
      "text/plain": [
       "pandas.core.frame.DataFrame"
      ]
     },
     "execution_count": 3,
     "metadata": {},
     "output_type": "execute_result"
    }
   ],
   "source": [
    "x_data = electric\n",
    "type(x_data) # DF"
   ]
  },
  {
   "cell_type": "markdown",
   "id": "89d8a734-c1d0-4c7d-9f54-eb42b412b9b8",
   "metadata": {},
   "source": [
    "###### <<데이터 타입을 바꿔보자>>\n"
   ]
  },
  {
   "cell_type": "markdown",
   "id": "a8e9ac2d-753a-494e-b019-dc83b9379788",
   "metadata": {
    "tags": []
   },
   "source": [
    "\n",
    "x_data = electric[:1] # 이건 그냥 인덱스(행에 맞춰서)\n",
    "\n",
    "   --> type(x_data) # **DF**\n",
    "   \n",
    "x_data = electric['전기생산량']\n",
    "\n",
    "   --> type(x_data) # **Series**\n",
    "   \n",
    "x_data = electric['전기생산량'].tolist()\n",
    "\n",
    "   --> type(x_data) # **Series -> list**\n",
    "   \n",
    "x_data = electric.values\n",
    "\n",
    "   --> type(x_data) # **ndarray**\n",
    "   \n",
    "x_data = electric.values.reshape(-1, 1)\n",
    "\n",
    "   --> type(x_data) # **ndarray**\n",
    "   \n",
    "y_data = electric.전기사용량.values\n",
    "\n",
    "   --> type(y_data) # **ndarray**"
   ]
  },
  {
   "cell_type": "code",
   "execution_count": 4,
   "id": "3f8c555f-15ef-4907-aa2b-db4b8f9e9ed4",
   "metadata": {},
   "outputs": [],
   "source": [
    "x_data = electric.values.reshape(-1, 1)\n",
    "y_data = electric.전기사용량.values"
   ]
  },
  {
   "cell_type": "markdown",
   "id": "07f8fe37",
   "metadata": {},
   "source": [
    "### 모델 생성 및 학습"
   ]
  },
  {
   "cell_type": "code",
   "execution_count": 5,
   "id": "54d436f5",
   "metadata": {
    "ExecuteTime": {
     "end_time": "2021-07-19T08:35:43.495364Z",
     "start_time": "2021-07-19T08:35:43.465127Z"
    }
   },
   "outputs": [
    {
     "ename": "ValueError",
     "evalue": "Found input variables with inconsistent numbers of samples: [24, 12]",
     "output_type": "error",
     "traceback": [
      "\u001b[1;31m---------------------------------------------------------------------------\u001b[0m",
      "\u001b[1;31mValueError\u001b[0m                                Traceback (most recent call last)",
      "\u001b[1;32m<ipython-input-5-f76199d0284d>\u001b[0m in \u001b[0;36m<module>\u001b[1;34m\u001b[0m\n\u001b[0;32m      1\u001b[0m \u001b[0mlr_model\u001b[0m \u001b[1;33m=\u001b[0m \u001b[0mLinearRegression\u001b[0m\u001b[1;33m(\u001b[0m\u001b[1;33m)\u001b[0m\u001b[1;33m\u001b[0m\u001b[1;33m\u001b[0m\u001b[0m\n\u001b[1;32m----> 2\u001b[1;33m \u001b[0mlr_model\u001b[0m\u001b[1;33m.\u001b[0m\u001b[0mfit\u001b[0m\u001b[1;33m(\u001b[0m\u001b[0mx_data\u001b[0m\u001b[1;33m,\u001b[0m \u001b[0my_data\u001b[0m\u001b[1;33m)\u001b[0m\u001b[1;33m\u001b[0m\u001b[1;33m\u001b[0m\u001b[0m\n\u001b[0m",
      "\u001b[1;32m~\\anaconda3\\lib\\site-packages\\sklearn\\linear_model\\_base.py\u001b[0m in \u001b[0;36mfit\u001b[1;34m(self, X, y, sample_weight)\u001b[0m\n\u001b[0;32m    516\u001b[0m         \u001b[0maccept_sparse\u001b[0m \u001b[1;33m=\u001b[0m \u001b[1;32mFalse\u001b[0m \u001b[1;32mif\u001b[0m \u001b[0mself\u001b[0m\u001b[1;33m.\u001b[0m\u001b[0mpositive\u001b[0m \u001b[1;32melse\u001b[0m \u001b[1;33m[\u001b[0m\u001b[1;34m'csr'\u001b[0m\u001b[1;33m,\u001b[0m \u001b[1;34m'csc'\u001b[0m\u001b[1;33m,\u001b[0m \u001b[1;34m'coo'\u001b[0m\u001b[1;33m]\u001b[0m\u001b[1;33m\u001b[0m\u001b[1;33m\u001b[0m\u001b[0m\n\u001b[0;32m    517\u001b[0m \u001b[1;33m\u001b[0m\u001b[0m\n\u001b[1;32m--> 518\u001b[1;33m         X, y = self._validate_data(X, y, accept_sparse=accept_sparse,\n\u001b[0m\u001b[0;32m    519\u001b[0m                                    y_numeric=True, multi_output=True)\n\u001b[0;32m    520\u001b[0m \u001b[1;33m\u001b[0m\u001b[0m\n",
      "\u001b[1;32m~\\anaconda3\\lib\\site-packages\\sklearn\\base.py\u001b[0m in \u001b[0;36m_validate_data\u001b[1;34m(self, X, y, reset, validate_separately, **check_params)\u001b[0m\n\u001b[0;32m    431\u001b[0m                 \u001b[0my\u001b[0m \u001b[1;33m=\u001b[0m \u001b[0mcheck_array\u001b[0m\u001b[1;33m(\u001b[0m\u001b[0my\u001b[0m\u001b[1;33m,\u001b[0m \u001b[1;33m**\u001b[0m\u001b[0mcheck_y_params\u001b[0m\u001b[1;33m)\u001b[0m\u001b[1;33m\u001b[0m\u001b[1;33m\u001b[0m\u001b[0m\n\u001b[0;32m    432\u001b[0m             \u001b[1;32melse\u001b[0m\u001b[1;33m:\u001b[0m\u001b[1;33m\u001b[0m\u001b[1;33m\u001b[0m\u001b[0m\n\u001b[1;32m--> 433\u001b[1;33m                 \u001b[0mX\u001b[0m\u001b[1;33m,\u001b[0m \u001b[0my\u001b[0m \u001b[1;33m=\u001b[0m \u001b[0mcheck_X_y\u001b[0m\u001b[1;33m(\u001b[0m\u001b[0mX\u001b[0m\u001b[1;33m,\u001b[0m \u001b[0my\u001b[0m\u001b[1;33m,\u001b[0m \u001b[1;33m**\u001b[0m\u001b[0mcheck_params\u001b[0m\u001b[1;33m)\u001b[0m\u001b[1;33m\u001b[0m\u001b[1;33m\u001b[0m\u001b[0m\n\u001b[0m\u001b[0;32m    434\u001b[0m             \u001b[0mout\u001b[0m \u001b[1;33m=\u001b[0m \u001b[0mX\u001b[0m\u001b[1;33m,\u001b[0m \u001b[0my\u001b[0m\u001b[1;33m\u001b[0m\u001b[1;33m\u001b[0m\u001b[0m\n\u001b[0;32m    435\u001b[0m \u001b[1;33m\u001b[0m\u001b[0m\n",
      "\u001b[1;32m~\\anaconda3\\lib\\site-packages\\sklearn\\utils\\validation.py\u001b[0m in \u001b[0;36minner_f\u001b[1;34m(*args, **kwargs)\u001b[0m\n\u001b[0;32m     61\u001b[0m             \u001b[0mextra_args\u001b[0m \u001b[1;33m=\u001b[0m \u001b[0mlen\u001b[0m\u001b[1;33m(\u001b[0m\u001b[0margs\u001b[0m\u001b[1;33m)\u001b[0m \u001b[1;33m-\u001b[0m \u001b[0mlen\u001b[0m\u001b[1;33m(\u001b[0m\u001b[0mall_args\u001b[0m\u001b[1;33m)\u001b[0m\u001b[1;33m\u001b[0m\u001b[1;33m\u001b[0m\u001b[0m\n\u001b[0;32m     62\u001b[0m             \u001b[1;32mif\u001b[0m \u001b[0mextra_args\u001b[0m \u001b[1;33m<=\u001b[0m \u001b[1;36m0\u001b[0m\u001b[1;33m:\u001b[0m\u001b[1;33m\u001b[0m\u001b[1;33m\u001b[0m\u001b[0m\n\u001b[1;32m---> 63\u001b[1;33m                 \u001b[1;32mreturn\u001b[0m \u001b[0mf\u001b[0m\u001b[1;33m(\u001b[0m\u001b[1;33m*\u001b[0m\u001b[0margs\u001b[0m\u001b[1;33m,\u001b[0m \u001b[1;33m**\u001b[0m\u001b[0mkwargs\u001b[0m\u001b[1;33m)\u001b[0m\u001b[1;33m\u001b[0m\u001b[1;33m\u001b[0m\u001b[0m\n\u001b[0m\u001b[0;32m     64\u001b[0m \u001b[1;33m\u001b[0m\u001b[0m\n\u001b[0;32m     65\u001b[0m             \u001b[1;31m# extra_args > 0\u001b[0m\u001b[1;33m\u001b[0m\u001b[1;33m\u001b[0m\u001b[1;33m\u001b[0m\u001b[0m\n",
      "\u001b[1;32m~\\anaconda3\\lib\\site-packages\\sklearn\\utils\\validation.py\u001b[0m in \u001b[0;36mcheck_X_y\u001b[1;34m(X, y, accept_sparse, accept_large_sparse, dtype, order, copy, force_all_finite, ensure_2d, allow_nd, multi_output, ensure_min_samples, ensure_min_features, y_numeric, estimator)\u001b[0m\n\u001b[0;32m    886\u001b[0m         \u001b[0my\u001b[0m \u001b[1;33m=\u001b[0m \u001b[0my\u001b[0m\u001b[1;33m.\u001b[0m\u001b[0mastype\u001b[0m\u001b[1;33m(\u001b[0m\u001b[0mnp\u001b[0m\u001b[1;33m.\u001b[0m\u001b[0mfloat64\u001b[0m\u001b[1;33m)\u001b[0m\u001b[1;33m\u001b[0m\u001b[1;33m\u001b[0m\u001b[0m\n\u001b[0;32m    887\u001b[0m \u001b[1;33m\u001b[0m\u001b[0m\n\u001b[1;32m--> 888\u001b[1;33m     \u001b[0mcheck_consistent_length\u001b[0m\u001b[1;33m(\u001b[0m\u001b[0mX\u001b[0m\u001b[1;33m,\u001b[0m \u001b[0my\u001b[0m\u001b[1;33m)\u001b[0m\u001b[1;33m\u001b[0m\u001b[1;33m\u001b[0m\u001b[0m\n\u001b[0m\u001b[0;32m    889\u001b[0m \u001b[1;33m\u001b[0m\u001b[0m\n\u001b[0;32m    890\u001b[0m     \u001b[1;32mreturn\u001b[0m \u001b[0mX\u001b[0m\u001b[1;33m,\u001b[0m \u001b[0my\u001b[0m\u001b[1;33m\u001b[0m\u001b[1;33m\u001b[0m\u001b[0m\n",
      "\u001b[1;32m~\\anaconda3\\lib\\site-packages\\sklearn\\utils\\validation.py\u001b[0m in \u001b[0;36mcheck_consistent_length\u001b[1;34m(*arrays)\u001b[0m\n\u001b[0;32m    317\u001b[0m     \u001b[0muniques\u001b[0m \u001b[1;33m=\u001b[0m \u001b[0mnp\u001b[0m\u001b[1;33m.\u001b[0m\u001b[0munique\u001b[0m\u001b[1;33m(\u001b[0m\u001b[0mlengths\u001b[0m\u001b[1;33m)\u001b[0m\u001b[1;33m\u001b[0m\u001b[1;33m\u001b[0m\u001b[0m\n\u001b[0;32m    318\u001b[0m     \u001b[1;32mif\u001b[0m \u001b[0mlen\u001b[0m\u001b[1;33m(\u001b[0m\u001b[0muniques\u001b[0m\u001b[1;33m)\u001b[0m \u001b[1;33m>\u001b[0m \u001b[1;36m1\u001b[0m\u001b[1;33m:\u001b[0m\u001b[1;33m\u001b[0m\u001b[1;33m\u001b[0m\u001b[0m\n\u001b[1;32m--> 319\u001b[1;33m         raise ValueError(\"Found input variables with inconsistent numbers of\"\n\u001b[0m\u001b[0;32m    320\u001b[0m                          \" samples: %r\" % [int(l) for l in lengths])\n\u001b[0;32m    321\u001b[0m \u001b[1;33m\u001b[0m\u001b[0m\n",
      "\u001b[1;31mValueError\u001b[0m: Found input variables with inconsistent numbers of samples: [24, 12]"
     ]
    }
   ],
   "source": [
    "lr_model = LinearRegression()\n",
    "lr_model.fit(x_data, y_data)"
   ]
  },
  {
   "cell_type": "code",
   "execution_count": null,
   "id": "7fc441da",
   "metadata": {
    "ExecuteTime": {
     "end_time": "2021-07-19T08:35:43.510580Z",
     "start_time": "2021-07-19T08:35:43.496320Z"
    }
   },
   "outputs": [],
   "source": [
    "w, b = lr_model.coef_, lr_model.intercept_\n",
    "w, b"
   ]
  },
  {
   "cell_type": "markdown",
   "id": "3f05e2ba",
   "metadata": {},
   "source": [
    "### 예측"
   ]
  },
  {
   "cell_type": "code",
   "execution_count": null,
   "id": "3c38ce21",
   "metadata": {
    "ExecuteTime": {
     "end_time": "2021-07-19T08:35:43.526406Z",
     "start_time": "2021-07-19T08:35:43.511517Z"
    }
   },
   "outputs": [],
   "source": [
    "pred = lr_model.predict([[3.2], [4.5]])\n",
    "pred"
   ]
  },
  {
   "cell_type": "markdown",
   "id": "ade10194",
   "metadata": {},
   "source": [
    "### 결과 plot"
   ]
  },
  {
   "cell_type": "code",
   "execution_count": null,
   "id": "a1a1cde7",
   "metadata": {
    "ExecuteTime": {
     "end_time": "2021-07-19T08:35:43.731744Z",
     "start_time": "2021-07-19T08:35:43.528402Z"
    }
   },
   "outputs": [],
   "source": [
    "plt.scatter(x_data, y_data, color='y', label='데이터')\n",
    "plt.plot(x_data, w*x_data+b, color='b', label='모델')\n",
    "plt.scatter([3.2, 4.5], pred ,color='r', label='예측결과')\n",
    "plt.xlabel('전기생산량')\n",
    "plt.ylabel('전기사용량')\n",
    "plt.legend()\n",
    "plt.show()"
   ]
  },
  {
   "cell_type": "markdown",
   "id": "7501fb29",
   "metadata": {},
   "source": [
    "## 과제\n",
    "2. 선형회귀 통계공식을 파이썬코드로 직접 구현해서\n",
    "1 번데이터 w,b를 구하시요"
   ]
  },
  {
   "cell_type": "markdown",
   "id": "fa377872",
   "metadata": {},
   "source": [
    "### 데이터 처리"
   ]
  },
  {
   "cell_type": "code",
   "execution_count": null,
   "id": "efd41ea2",
   "metadata": {
    "ExecuteTime": {
     "end_time": "2021-07-19T08:35:43.747774Z",
     "start_time": "2021-07-19T08:35:43.734550Z"
    }
   },
   "outputs": [],
   "source": [
    "x_data = electric.전기생산량.values\n",
    "y_data = electric.전기사용량.values"
   ]
  },
  {
   "cell_type": "markdown",
   "id": "28682656",
   "metadata": {},
   "source": [
    "### 연산"
   ]
  },
  {
   "cell_type": "code",
   "execution_count": null,
   "id": "b1c77df5",
   "metadata": {
    "ExecuteTime": {
     "end_time": "2021-07-19T08:35:43.763759Z",
     "start_time": "2021-07-19T08:35:43.750325Z"
    }
   },
   "outputs": [],
   "source": [
    "x_data = electric.전기생산량.values\n",
    "y_data = electric.전기사용량.values\n",
    "\n",
    "x_sq_sum = sum(x_data**2)\n",
    "x_sum = sum(x_data)\n",
    "y_sum = sum(y_data)\n",
    "xy_sum = sum(x_data*y_data)\n",
    "n = len(x_data)\n",
    "A = np.array([[x_sum, n], [x_sq_sum, x_sum]])\n",
    "b = [[y_sum], [xy_sum]]\n",
    "\n",
    "A_inv = np.linalg.inv(A)\n",
    "res = np.matmul(A_inv, b)\n",
    "print(f'w:{res[0,0]}, b:{res[1,0]}')"
   ]
  },
  {
   "cell_type": "markdown",
   "id": "c34592fc",
   "metadata": {},
   "source": [
    "## 과제\n",
    "(3x+2)^3 에 대한 미분에 대한 전개과정을\n",
    "적으시요. (코딩이 아닌 과정을 텍스트로 적으면 됨)\n"
   ]
  },
  {
   "cell_type": "markdown",
   "id": "80a9a69b",
   "metadata": {},
   "source": [
    "$\\text{Let}~ z(y):=y^3~\\text{and}~y(x):=3x+2.$\n",
    "$\\text{Then}~ \\frac{dz}{dx}=\\frac{dz}{dy} \\cdot \\frac{dy}{dx}=3y^2|_{y=3x+2}\\cdot 3 = 9(3x+2)^2$"
   ]
  },
  {
   "cell_type": "code",
   "execution_count": null,
   "id": "8d7bff51-8360-4156-8d08-e99d87298119",
   "metadata": {},
   "outputs": [],
   "source": []
  }
 ],
 "metadata": {
  "hide_input": false,
  "kernelspec": {
   "display_name": "Python 3",
   "language": "python",
   "name": "python3"
  },
  "language_info": {
   "codemirror_mode": {
    "name": "ipython",
    "version": 3
   },
   "file_extension": ".py",
   "mimetype": "text/x-python",
   "name": "python",
   "nbconvert_exporter": "python",
   "pygments_lexer": "ipython3",
   "version": "3.8.8"
  },
  "toc": {
   "base_numbering": 1,
   "nav_menu": {},
   "number_sections": true,
   "sideBar": true,
   "skip_h1_title": false,
   "title_cell": "Table of Contents",
   "title_sidebar": "Contents",
   "toc_cell": false,
   "toc_position": {},
   "toc_section_display": true,
   "toc_window_display": false
  },
  "toc-showmarkdowntxt": false,
  "varInspector": {
   "cols": {
    "lenName": 16,
    "lenType": 16,
    "lenVar": 40
   },
   "kernels_config": {
    "python": {
     "delete_cmd_postfix": "",
     "delete_cmd_prefix": "del ",
     "library": "var_list.py",
     "varRefreshCmd": "print(var_dic_list())"
    },
    "r": {
     "delete_cmd_postfix": ") ",
     "delete_cmd_prefix": "rm(",
     "library": "var_list.r",
     "varRefreshCmd": "cat(var_dic_list()) "
    }
   },
   "types_to_exclude": [
    "module",
    "function",
    "builtin_function_or_method",
    "instance",
    "_Feature"
   ],
   "window_display": false
  }
 },
 "nbformat": 4,
 "nbformat_minor": 5
}
