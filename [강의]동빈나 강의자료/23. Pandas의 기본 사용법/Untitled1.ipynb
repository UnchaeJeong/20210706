{
 "cells": [
  {
   "cell_type": "code",
   "execution_count": 1,
   "id": "5eadafa5-0a6e-4377-ae8d-7fbbb5ec3bcb",
   "metadata": {},
   "outputs": [],
   "source": [
    "import pandas as pd"
   ]
  },
  {
   "cell_type": "code",
   "execution_count": 3,
   "id": "4c847c54-12be-46c2-bd7d-bd835bc4060a",
   "metadata": {},
   "outputs": [
    {
     "name": "stdout",
     "output_type": "stream",
     "text": [
      "       word  frequency  importance\n",
      "Apple    사과          3           3\n",
      "Banana  바나나          5           2\n",
      "Carrot   당근          7           1\n",
      "Durian  두리안          2           1\n",
      "        importance\n",
      "Banana           2\n",
      "Carrot           1\n",
      "        importance\n",
      "Banana           2\n",
      "Carrot           1\n"
     ]
    }
   ],
   "source": [
    "word_dict = {\n",
    "    'Apple': '사과',\n",
    "    'Banana': '바나나',\n",
    "    'Carrot': '당근',\n",
    "    'Durian': '두리안'\n",
    "}\n",
    "\n",
    "frequency_dict = {\n",
    "    'Apple': 3,\n",
    "    'Banana': 5,\n",
    "    'Carrot': 7,\n",
    "    'Durian': 2\n",
    "}\n",
    "\n",
    "importance_dict = {\n",
    "    'Apple': 3,\n",
    "    'Banana': 2,\n",
    "    'Carrot': 1,\n",
    "    'Durian': 1\n",
    "}\n",
    "\n",
    "word = pd.Series(word_dict)\n",
    "frequency = pd.Series(frequency_dict)\n",
    "importance = pd.Series(importance_dict)\n",
    "\n",
    "summary = pd.DataFrame({\n",
    "    'word' : word,\n",
    "    'frequency' : frequency,\n",
    "    'importance' : importance\n",
    "})\n",
    "\n",
    "print(summary)\n",
    "\n",
    "print(summary.loc['Banana' : 'Carrot', 'importance':])\n",
    "print(summary.iloc[1:3, 2:])"
   ]
  },
  {
   "cell_type": "code",
   "execution_count": 4,
   "id": "155e1ffa-1f6f-4142-86cf-a932d62fbfb8",
   "metadata": {},
   "outputs": [],
   "source": [
    "import pandas as pd\n",
    "import numpy as np"
   ]
  },
  {
   "cell_type": "code",
   "execution_count": 8,
   "id": "b9eef99b-99ae-4e40-84ee-dcbba054feda",
   "metadata": {},
   "outputs": [
    {
     "name": "stdout",
     "output_type": "stream",
     "text": [
      "       word  frequency  importance\n",
      "Apple    사과        3.0           3\n",
      "Banana  바나나        5.0           2\n",
      "Carrot   당근        NaN           1\n",
      "Durian  두리안        2.0           1\n",
      "        word  frequency  importance\n",
      "Apple   True       True        True\n",
      "Banana  True       True        True\n",
      "Carrot  True      False        True\n",
      "Durian  True       True        True\n"
     ]
    },
    {
     "ename": "AttributeError",
     "evalue": "'DataFrame' object has no attribute 'null'",
     "output_type": "error",
     "traceback": [
      "\u001b[1;31m---------------------------------------------------------------------------\u001b[0m",
      "\u001b[1;31mAttributeError\u001b[0m                            Traceback (most recent call last)",
      "\u001b[1;32m<ipython-input-8-5f142850c301>\u001b[0m in \u001b[0;36m<module>\u001b[1;34m\u001b[0m\n\u001b[0;32m     32\u001b[0m \u001b[0mprint\u001b[0m\u001b[1;33m(\u001b[0m\u001b[0msummary\u001b[0m\u001b[1;33m)\u001b[0m\u001b[1;33m\u001b[0m\u001b[1;33m\u001b[0m\u001b[0m\n\u001b[0;32m     33\u001b[0m \u001b[0mprint\u001b[0m\u001b[1;33m(\u001b[0m\u001b[0msummary\u001b[0m\u001b[1;33m.\u001b[0m\u001b[0mnotnull\u001b[0m\u001b[1;33m(\u001b[0m\u001b[1;33m)\u001b[0m\u001b[1;33m)\u001b[0m\u001b[1;33m\u001b[0m\u001b[1;33m\u001b[0m\u001b[0m\n\u001b[1;32m---> 34\u001b[1;33m \u001b[0mprint\u001b[0m\u001b[1;33m(\u001b[0m\u001b[0msummary\u001b[0m\u001b[1;33m.\u001b[0m\u001b[0mnull\u001b[0m\u001b[1;33m(\u001b[0m\u001b[1;33m)\u001b[0m\u001b[1;33m)\u001b[0m\u001b[1;33m\u001b[0m\u001b[1;33m\u001b[0m\u001b[0m\n\u001b[0m\u001b[0;32m     35\u001b[0m \u001b[0msummary\u001b[0m\u001b[1;33m[\u001b[0m\u001b[1;34m'frequency'\u001b[0m\u001b[1;33m]\u001b[0m \u001b[1;33m=\u001b[0m \u001b[0msummary\u001b[0m\u001b[1;33m[\u001b[0m\u001b[1;34m'frequency'\u001b[0m\u001b[1;33m]\u001b[0m\u001b[1;33m.\u001b[0m\u001b[0mfillna\u001b[0m\u001b[1;33m(\u001b[0m\u001b[1;34m'데이터 없음'\u001b[0m\u001b[1;33m)\u001b[0m\u001b[1;33m\u001b[0m\u001b[1;33m\u001b[0m\u001b[0m\n\u001b[0;32m     36\u001b[0m \u001b[0mprint\u001b[0m\u001b[1;33m(\u001b[0m\u001b[0msummary\u001b[0m\u001b[1;33m)\u001b[0m\u001b[1;33m\u001b[0m\u001b[1;33m\u001b[0m\u001b[0m\n",
      "\u001b[1;32m~\\anaconda3\\lib\\site-packages\\pandas\\core\\generic.py\u001b[0m in \u001b[0;36m__getattr__\u001b[1;34m(self, name)\u001b[0m\n\u001b[0;32m   5463\u001b[0m             \u001b[1;32mif\u001b[0m \u001b[0mself\u001b[0m\u001b[1;33m.\u001b[0m\u001b[0m_info_axis\u001b[0m\u001b[1;33m.\u001b[0m\u001b[0m_can_hold_identifiers_and_holds_name\u001b[0m\u001b[1;33m(\u001b[0m\u001b[0mname\u001b[0m\u001b[1;33m)\u001b[0m\u001b[1;33m:\u001b[0m\u001b[1;33m\u001b[0m\u001b[1;33m\u001b[0m\u001b[0m\n\u001b[0;32m   5464\u001b[0m                 \u001b[1;32mreturn\u001b[0m \u001b[0mself\u001b[0m\u001b[1;33m[\u001b[0m\u001b[0mname\u001b[0m\u001b[1;33m]\u001b[0m\u001b[1;33m\u001b[0m\u001b[1;33m\u001b[0m\u001b[0m\n\u001b[1;32m-> 5465\u001b[1;33m             \u001b[1;32mreturn\u001b[0m \u001b[0mobject\u001b[0m\u001b[1;33m.\u001b[0m\u001b[0m__getattribute__\u001b[0m\u001b[1;33m(\u001b[0m\u001b[0mself\u001b[0m\u001b[1;33m,\u001b[0m \u001b[0mname\u001b[0m\u001b[1;33m)\u001b[0m\u001b[1;33m\u001b[0m\u001b[1;33m\u001b[0m\u001b[0m\n\u001b[0m\u001b[0;32m   5466\u001b[0m \u001b[1;33m\u001b[0m\u001b[0m\n\u001b[0;32m   5467\u001b[0m     \u001b[1;32mdef\u001b[0m \u001b[0m__setattr__\u001b[0m\u001b[1;33m(\u001b[0m\u001b[0mself\u001b[0m\u001b[1;33m,\u001b[0m \u001b[0mname\u001b[0m\u001b[1;33m:\u001b[0m \u001b[0mstr\u001b[0m\u001b[1;33m,\u001b[0m \u001b[0mvalue\u001b[0m\u001b[1;33m)\u001b[0m \u001b[1;33m->\u001b[0m \u001b[1;32mNone\u001b[0m\u001b[1;33m:\u001b[0m\u001b[1;33m\u001b[0m\u001b[1;33m\u001b[0m\u001b[0m\n",
      "\u001b[1;31mAttributeError\u001b[0m: 'DataFrame' object has no attribute 'null'"
     ]
    }
   ],
   "source": [
    "\n",
    "word_dict = {\n",
    "    'Apple': '사과',\n",
    "    'Banana': '바나나',\n",
    "    'Carrot': '당근',\n",
    "    'Durian': '두리안'\n",
    "}\n",
    "\n",
    "frequency_dict = {\n",
    "    'Apple': 3,\n",
    "    'Banana': 5,\n",
    "    'Carrot': np.nan,\n",
    "    'Durian': 2\n",
    "}\n",
    "\n",
    "importance_dict = {\n",
    "    'Apple': 3,\n",
    "    'Banana': 2,\n",
    "    'Carrot': 1,\n",
    "    'Durian': 1\n",
    "}\n",
    "\n",
    "word = pd.Series(word_dict)\n",
    "frequency = pd.Series(frequency_dict)\n",
    "importance = pd.Series(importance_dict)\n",
    "\n",
    "summary = pd.DataFrame({\n",
    "    'word' : word,\n",
    "    'frequency' : frequency,\n",
    "    'importance' : importance\n",
    "})\n",
    "\n",
    "print(summary)\n",
    "print(summary.notnull())\n",
    "print(summary.null())\n",
    "summary['frequency'] = summary['frequency'].fillna('데이터 없음')\n",
    "print(summary)"
   ]
  },
  {
   "cell_type": "code",
   "execution_count": null,
   "id": "49c4bbfb-6619-43b4-ae1f-e539730c09f2",
   "metadata": {},
   "outputs": [],
   "source": []
  }
 ],
 "metadata": {
  "kernelspec": {
   "display_name": "Python 3",
   "language": "python",
   "name": "python3"
  },
  "language_info": {
   "codemirror_mode": {
    "name": "ipython",
    "version": 3
   },
   "file_extension": ".py",
   "mimetype": "text/x-python",
   "name": "python",
   "nbconvert_exporter": "python",
   "pygments_lexer": "ipython3",
   "version": "3.8.8"
  }
 },
 "nbformat": 4,
 "nbformat_minor": 5
}
