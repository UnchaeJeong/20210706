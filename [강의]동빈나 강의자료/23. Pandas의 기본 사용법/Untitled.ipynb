{
 "cells": [
  {
   "cell_type": "code",
   "execution_count": 2,
   "id": "8cd999eb-9dea-464f-935a-855821cf6d15",
   "metadata": {},
   "outputs": [],
   "source": [
    "import pandas as pd"
   ]
  },
  {
   "cell_type": "code",
   "execution_count": null,
   "id": "64581bc4-516c-498c-a20b-bf63a92190ad",
   "metadata": {},
   "outputs": [],
   "source": [
    "array = pd.Series(['사과', '바나나', '당근], index=['a', 'b', 'c'])\n",
    "\n",
    "print(array)\n",
    "p"
   ]
  }
 ],
 "metadata": {
  "kernelspec": {
   "display_name": "Python 3",
   "language": "python",
   "name": "python3"
  },
  "language_info": {
   "codemirror_mode": {
    "name": "ipython",
    "version": 3
   },
   "file_extension": ".py",
   "mimetype": "text/x-python",
   "name": "python",
   "nbconvert_exporter": "python",
   "pygments_lexer": "ipython3",
   "version": "3.8.8"
  }
 },
 "nbformat": 4,
 "nbformat_minor": 5
}
