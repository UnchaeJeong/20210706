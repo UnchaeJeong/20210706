{
 "cells": [
  {
   "cell_type": "markdown",
   "id": "60551b5f-bbd1-4774-82c5-f47757bb5aaf",
   "metadata": {},
   "source": [
    "🚀 &#128640;🤷 &#129335;✅ &#9989;⛔📍 &#128205;📌 &#128204;⁉ &#8265;‼ &#8252;\n",
    "⭕&#11093;❌&#10060;✅&#9989;🆚&#127386;🔵&#128309;⚪&#9898;🔴&#128308;🟣&#128995;\n",
    "🟤&#128996;🟠&#128992;🔶&#128310;🔷&#128311;🔻&#128315;🔺&#128314;🚩&#128681;\n",
    "💥&#128165;👍&#128077;🔥&#128293;⭐&#11088;🌈&#127752;🌟&#127775;🎊&#127882;\n",
    "🏆&#127942;🥇&#129351;🥈&#129352;🥉&#129353;🎯&#127919;📣&#128227;💡&#128161;\n",
    "📕&#128213;📒&#128210;📗&#128215;📙&#128217;📔&#128212;📘&#128216;📚&#128218;\n",
    "🖋&#128395;📊&#128202;📅&#128197;\n"
   ]
  },
  {
   "cell_type": "code",
   "execution_count": null,
   "id": "8d49b6e2-3b27-42d8-b4b2-5da0797ace43",
   "metadata": {},
   "outputs": [],
   "source": []
  }
 ],
 "metadata": {
  "kernelspec": {
   "display_name": "Python 3",
   "language": "python",
   "name": "python3"
  },
  "language_info": {
   "codemirror_mode": {
    "name": "ipython",
    "version": 3
   },
   "file_extension": ".py",
   "mimetype": "text/x-python",
   "name": "python",
   "nbconvert_exporter": "python",
   "pygments_lexer": "ipython3",
   "version": "3.8.8"
  }
 },
 "nbformat": 4,
 "nbformat_minor": 5
}
