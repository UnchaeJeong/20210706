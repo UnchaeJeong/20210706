{
 "cells": [
  {
   "cell_type": "markdown",
   "id": "d9f5c343-9ecb-4823-956a-ed851eb390c6",
   "metadata": {},
   "source": [
    "# 목차\n",
    "- itertools\n",
    "- list comprehension\n",
    "- zip\n",
    "- defaultdict(list)\n",
    "- Counter\n"
   ]
  },
  {
   "cell_type": "markdown",
   "id": "3533bf5a-097f-4af9-a27f-3feecaca07aa",
   "metadata": {},
   "source": [
    "---"
   ]
  },
  {
   "cell_type": "markdown",
   "id": "fa3262b1-19eb-48fb-b65e-56baff68af9a",
   "metadata": {},
   "source": [
    "##  그놈의 이터툴즈\n",
    "> .count    \n",
    ".cycle     \n"
   ]
  },
  {
   "cell_type": "code",
   "execution_count": 59,
   "id": "95911bb1-1b6b-464b-9c5a-36db30e769c7",
   "metadata": {},
   "outputs": [],
   "source": [
    "import itertools"
   ]
  },
  {
   "cell_type": "code",
   "execution_count": 60,
   "id": "c1b34bf3-062e-4493-acd2-3362d7358d4d",
   "metadata": {},
   "outputs": [
    {
     "name": "stdout",
     "output_type": "stream",
     "text": [
      "0,a\n",
      "150,b\n",
      "300,c\n",
      "450,d\n",
      "600,e\n",
      "750,f\n"
     ]
    }
   ],
   "source": [
    "for c,s in zip(itertools.count(0,150),'abcdef'):\n",
    "    print(f'{c},{s}')"
   ]
  },
  {
   "cell_type": "code",
   "execution_count": 61,
   "id": "66caec85-570b-48ca-b6ec-b5281adb599c",
   "metadata": {},
   "outputs": [
    {
     "name": "stdout",
     "output_type": "stream",
     "text": [
      "0,a\n",
      "1,b\n",
      "0,c\n",
      "1,d\n",
      "0,e\n"
     ]
    }
   ],
   "source": [
    "for c, s in zip(itertools.cycle(range(2)), 'abcde'):\n",
    "    print(f'{c},{s}')"
   ]
  },
  {
   "cell_type": "markdown",
   "id": "6eef7efb-a01c-4b57-b53c-b048221dc9ce",
   "metadata": {},
   "source": [
    "---\n",
    "## 그놈의 리스트컴프리헨션"
   ]
  },
  {
   "cell_type": "code",
   "execution_count": 66,
   "id": "349e842d-ee66-4223-a31d-f6984dfa7583",
   "metadata": {},
   "outputs": [
    {
     "name": "stdout",
     "output_type": "stream",
     "text": [
      "a [0, 1, 2, 3, 4, 5, 6, 7, 8, 9]\n",
      "b [0, 1, 2, 3, 4, 5, 6, 7, 8, 9]\n",
      "i + 5 [5, 6, 7, 8, 9, 10, 11, 12, 13, 14]\n",
      "i*2 [0, 2, 4, 6, 8, 10, 12, 14, 16, 18]\n",
      "if i%2==0 [0, 2, 4, 6, 8]\n",
      "i + 5 if i%2 ==1 [6, 8, 10, 12, 14]\n",
      "i*j for i in range(1,10) [2, 4, 6, 8, 10, 12, 14, 16, 18, 3, 6, 9, 12, 15, 18, 21, 24, 27, 4, 8, 12, 16, 20, 24, 28, 32, 36, 5, 10, 15, 20, 25, 30, 35, 40, 45, 6, 12, 18, 24, 30, 36, 42, 48, 54, 7, 14, 21, 28, 35, 42, 49, 56, 63, 8, 16, 24, 32, 40, 48, 56, 64, 72, 9, 18, 27, 36, 45, 54, 63, 72, 81]\n",
      "h [2, 4, 6, 8, 10, 12, 14, 16, 18, 3, 6, 9, 12, 15, 18, 21, 24, 27, 4, 8, 12, 16, 20, 24, 28, 32, 36, 5, 10, 15, 20, 25, 30, 35, 40, 45, 6, 12, 18, 24, 30, 36, 42, 48, 54, 7, 14, 21, 28, 35, 42, 49, 56, 63, 8, 16, 24, 32, 40, 48, 56, 64, 72, 9, 18, 27, 36, 45, 54, 63, 72, 81]\n"
     ]
    }
   ],
   "source": [
    "a = [i for i in range(10)]\n",
    "print('a',a)\n",
    "\n",
    "b = list(i for i in range(10))\n",
    "print('b',b)\n",
    "\n",
    "c = [i + 5 for i in range(10)]\n",
    "print('i + 5',c)\n",
    "\n",
    "d = [i*2 for i in range(10)]\n",
    "print('i*2',d)\n",
    "\n",
    "e = [i for i in range(10) if i%2==0]\n",
    "print('if i%2==0',e)\n",
    "\n",
    "f = [i + 5 for i in range(10) if i%2 ==1]\n",
    "print('i + 5 if i%2 ==1',f)\n",
    "\n",
    "# [식 for 변수1 리스트1 if 조건식1   for 변수2 in 리스트2 if 조건식2    for 변수n in 리스트n if 조건식n]\n",
    "g = [i*j for j in range(2,10) for i in range(1,10)]\n",
    "print('i*j for i in range(1,10)',g)\n",
    "\n",
    "# 리스트  순서는 뒤에서 앞으로 1~10*2, 1~10*3 .....\n",
    "h = [i*j for j in range(2,10)\n",
    "         for i in range(1,10)]\n",
    "print('h',h)"
   ]
  },
  {
   "cell_type": "markdown",
   "id": "e51dd40f-dc6e-4bd9-91f1-c660f01df24e",
   "metadata": {},
   "source": [
    "## zip\n",
    "> https://dockyum.tistory.com/46"
   ]
  },
  {
   "cell_type": "code",
   "execution_count": 42,
   "id": "3f6ae4db-0562-4f84-8d7f-5f12c2ec5e20",
   "metadata": {},
   "outputs": [],
   "source": [
    "last_names = ['Jack', 'Matt','Obama']\n",
    "middle_names = ['D','S','O']\n",
    "first_names = ['Cock','Bal','Care']"
   ]
  },
  {
   "cell_type": "code",
   "execution_count": 43,
   "id": "e9e6659e-1ea7-4a27-9158-63d8b293aa92",
   "metadata": {},
   "outputs": [
    {
     "name": "stdout",
     "output_type": "stream",
     "text": [
      "[('Jack', 'D', 'Cock'), ('Matt', 'S', 'Bal'), ('Obama', 'O', 'Care')]\n"
     ]
    }
   ],
   "source": [
    "result = list(zip(last_names, middle_names, first_names))\n",
    "print(result) # zip object가 나옴 따라서 iterable임. 반복문에 넣을 수 있음."
   ]
  },
  {
   "cell_type": "code",
   "execution_count": 44,
   "id": "da545103-ac9b-490e-9932-92766790bab2",
   "metadata": {},
   "outputs": [
    {
     "name": "stdout",
     "output_type": "stream",
     "text": [
      "{'Jack': 'Cock', 'Matt': 'Bal', 'Obama': 'Care'}\n"
     ]
    }
   ],
   "source": [
    "result = dict(zip(last_names, first_names))\n",
    "print(result)"
   ]
  },
  {
   "cell_type": "code",
   "execution_count": 45,
   "id": "a83cc821-2ca8-4f97-a997-02cf3532a514",
   "metadata": {},
   "outputs": [
    {
     "name": "stdout",
     "output_type": "stream",
     "text": [
      "['Jack D Cock', 'Matt S Bal', 'Obama O Care']\n"
     ]
    }
   ],
   "source": [
    "# 3개의 list를 zip으로 합치기\n",
    "full_names = [' '.join(i) for i in zip(last_names, middle_names, first_names)]\n",
    "print(full_names)"
   ]
  },
  {
   "cell_type": "code",
   "execution_count": 29,
   "id": "b189524e-70d1-4f6b-8568-b278ea8f38e2",
   "metadata": {},
   "outputs": [
    {
     "data": {
      "text/plain": [
       "[[0, 'Jack D Cock'], [1, 'Matt S Bal'], [2, 'Obama O Care']]"
      ]
     },
     "execution_count": 29,
     "metadata": {},
     "output_type": "execute_result"
    }
   ],
   "source": [
    "# 각각의 이름마다 index값을 넣어 [index, fullname]으로 된 새로운 list만들기\n",
    "[ [i,' '.join(j)] for i, j in enumerate(zip(last_names, middle_names, first_names))]"
   ]
  },
  {
   "cell_type": "code",
   "execution_count": 31,
   "id": "82130a28-ea27-45e5-ad8c-330a4fb84a19",
   "metadata": {},
   "outputs": [],
   "source": [
    "# 여러가지 속성을 가진 사용자 리스트 만들기\n",
    "emails = ['jackcock@gmail.com','BalMatt@gmail.com','ObamaCare@gmail.com']\n",
    "address = ['dongsack-dong','imnae-dong','jangsajin-dong']"
   ]
  },
  {
   "cell_type": "code",
   "execution_count": 32,
   "id": "fedd281d-a171-43d2-ad25-3c36b532f964",
   "metadata": {},
   "outputs": [],
   "source": [
    "def mk_fullname(*args): \n",
    "    full_names = [' '.join(name) for name in zip(*args)]\n",
    "    return full_names"
   ]
  },
  {
   "cell_type": "code",
   "execution_count": 34,
   "id": "81bd0204-59e5-40ed-9058-4e590a128591",
   "metadata": {},
   "outputs": [
    {
     "data": {
      "text/plain": [
       "['Jack D Cock', 'Matt S Bal', 'Obama O Care']"
      ]
     },
     "execution_count": 34,
     "metadata": {},
     "output_type": "execute_result"
    }
   ],
   "source": [
    "mk_fullname(last_names, middle_names, first_names)"
   ]
  },
  {
   "cell_type": "code",
   "execution_count": 36,
   "id": "b2e8c693-3285-462b-aa01-6fcbc93bf3b9",
   "metadata": {},
   "outputs": [],
   "source": [
    "def user_info(*args):\n",
    "    result=[ [idx,*datas] for idx, datas in enumerate(zip(*args))]\n",
    "    return result"
   ]
  },
  {
   "cell_type": "code",
   "execution_count": 37,
   "id": "c7e25e2c-cc5f-44ea-ad7c-c974b57b5709",
   "metadata": {},
   "outputs": [
    {
     "data": {
      "text/plain": [
       "[[0, 'jackcock@gmail.com', 'dongsack-dong'],\n",
       " [1, 'BalMatt@gmail.com', 'imnae-dong'],\n",
       " [2, 'ObamaCare@gmail.com', 'jangsajin-dong']]"
      ]
     },
     "execution_count": 37,
     "metadata": {},
     "output_type": "execute_result"
    }
   ],
   "source": [
    "user_info(emails, address)"
   ]
  },
  {
   "cell_type": "code",
   "execution_count": 41,
   "id": "ba943e61-0dba-4862-9e87-9c269632070d",
   "metadata": {},
   "outputs": [
    {
     "name": "stdout",
     "output_type": "stream",
     "text": [
      "['Jack D Cock', 'Matt S Bal', 'Obama O Care']\n"
     ]
    },
    {
     "data": {
      "text/plain": [
       "[[0, 'Jack D Cock', 'jackcock@gmail.com', 'dongsack-dong'],\n",
       " [1, 'Matt S Bal', 'BalMatt@gmail.com', 'imnae-dong'],\n",
       " [2, 'Obama O Care', 'ObamaCare@gmail.com', 'jangsajin-dong']]"
      ]
     },
     "execution_count": 41,
     "metadata": {},
     "output_type": "execute_result"
    }
   ],
   "source": [
    "fullnames = mk_fullname(last_names,middle_names,first_names)\n",
    "print(fullnames)\n",
    "user_info(fullnames,emails,address)"
   ]
  },
  {
   "cell_type": "markdown",
   "id": "33d93ff9-c385-45c6-9795-be8e2f214a57",
   "metadata": {},
   "source": [
    "---"
   ]
  },
  {
   "cell_type": "markdown",
   "id": "cee7fbfb-b04f-457d-887e-04f623d655c1",
   "metadata": {},
   "source": [
    "## defaultdict(list | dict)"
   ]
  },
  {
   "cell_type": "code",
   "execution_count": 67,
   "id": "9808e1cd-b5ab-4f7d-a8be-b396777d9311",
   "metadata": {},
   "outputs": [
    {
     "name": "stdout",
     "output_type": "stream",
     "text": [
      "defaultdict(<class 'str'>, {})\n"
     ]
    }
   ],
   "source": [
    "from collections import defaultdict\n",
    "name='' # 빈 문자열\n",
    "name=defaultdict(str)\n",
    "print(name)"
   ]
  },
  {
   "cell_type": "code",
   "execution_count": 54,
   "id": "e1a01702-40ec-4dc5-a9b1-950d5502a6fb",
   "metadata": {},
   "outputs": [
    {
     "name": "stdout",
     "output_type": "stream",
     "text": [
      "defaultdict(<class 'int'>, {})\n",
      "defaultdict(<class 'int'>, {'m': 1, 'i': 4, 's': 4, 'p': 2})\n"
     ]
    }
   ],
   "source": [
    "s = 'mississippi'\n",
    "d = defaultdict(int)\n",
    "print(d)\n",
    "\n",
    "\n",
    "for k in s :\n",
    "    d[k] += 1 # 할당연산자\n",
    "print(d)"
   ]
  },
  {
   "cell_type": "code",
   "execution_count": 58,
   "id": "6084f27d-9e81-4a04-bf1b-95f1cd186b7a",
   "metadata": {},
   "outputs": [
    {
     "name": "stdout",
     "output_type": "stream",
     "text": [
      "defaultdict(<class 'list'>, {'yellow': [1, 3], 'blue': [2, 4], 'red': [1]})\n",
      "[('blue', [2, 4]), ('red', [1]), ('yellow', [1, 3])]\n"
     ]
    }
   ],
   "source": [
    "lists = [ ('yellow',1), ('blue',2),('yellow',3), ('blue',4),('red',1)]\n",
    "\n",
    "d = defaultdict(list)\n",
    "for k, v in lists :\n",
    "    d[k].append(v)\n",
    "\n",
    "print(d)\n",
    "\n",
    "\n",
    "print(sorted(d.items()))"
   ]
  },
  {
   "cell_type": "code",
   "execution_count": null,
   "id": "a9c679f1-0d0d-4f00-800b-031b5972b0d8",
   "metadata": {},
   "outputs": [],
   "source": []
  }
 ],
 "metadata": {
  "kernelspec": {
   "display_name": "Python 3",
   "language": "python",
   "name": "python3"
  },
  "language_info": {
   "codemirror_mode": {
    "name": "ipython",
    "version": 3
   },
   "file_extension": ".py",
   "mimetype": "text/x-python",
   "name": "python",
   "nbconvert_exporter": "python",
   "pygments_lexer": "ipython3",
   "version": "3.8.8"
  }
 },
 "nbformat": 4,
 "nbformat_minor": 5
}
