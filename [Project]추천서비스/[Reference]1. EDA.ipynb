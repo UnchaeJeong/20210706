{
 "cells": [
  {
   "cell_type": "markdown",
   "metadata": {
    "tags": []
   },
   "source": [
    "********************\n",
    "\n",
    "#### 탐색 결과를 소개하기 앞서 대회에서 제공하는 해당 데이터는 대회 진행을 목적으로 적합한 샘플링 작업을 거친 데이터라는 점을 알려드립니다.\n",
    "\n",
    "#### 소개할 내용들이 <font color = \"red\">실제 멜론 유저의 소비 패턴과는 전혀 무관</font>하며, <font color = \"red\">멜론 DJ 플레이리스트 서비스를 일반화할 수 없음</font>을 참고하여 주시기 바랍니다.\n",
    "\n",
    "********************"
   ]
  },
  {
   "cell_type": "markdown",
   "metadata": {
    "tags": []
   },
   "source": [
    "# KAKAO Arena 3rd Compitition : Melon Playlist Continuation\n",
    "\n",
    "## 대회 데이터 간단하게 EDA"
   ]
  },
  {
   "cell_type": "markdown",
   "metadata": {
    "tags": []
   },
   "source": [
    "<br><br><br><br><br>"
   ]
  },
  {
   "cell_type": "code",
   "execution_count": 1,
   "metadata": {
    "ExecuteTime": {
     "end_time": "2020-04-26T23:00:41.231826Z",
     "start_time": "2020-04-26T23:00:24.271547Z"
    },
    "tags": []
   },
   "outputs": [],
   "source": [
    "from datetime import timedelta, datetime \n",
    "import glob\n",
    "from itertools import chain\n",
    "import json\n",
    "import os\n",
    "import re\n",
    "\n",
    "import numpy as np\n",
    "import pandas as pd\n",
    "\n",
    "from wordcloud import WordCloud\n",
    "import nltk\n",
    "from nltk.corpus import stopwords\n",
    "from konlpy.tag import Twitter\n",
    "from collections import Counter\n",
    "from sklearn.feature_extraction.text import TfidfVectorizer\n",
    "from sklearn.feature_extraction.text import CountVectorizer\n",
    "\n",
    "from pandas.plotting import register_matplotlib_converters\n",
    "import seaborn as sns\n",
    "import matplotlib.pyplot as plt\n",
    "import matplotlib as mpl\n",
    "import matplotlib.pyplot as plt\n",
    "import matplotlib.font_manager as fm\n",
    "\n",
    "\n",
    "# from wordcloud import WordCloud\n",
    "# import matplotlib.pyplot as plt\n",
    "# wordcloud = WordCloud(font_path='font/NanumGothic.ttf', background_color='white').generate(text)\n",
    "\n",
    "\n",
    "# font_path = 'C:\\Users\\medici\\anaconda3\\lib\\site-packages\\matplotlib\\mpl-data\\matplotlib\\rcNanumGothic.ttf'\n",
    "# font_name = fm.FontProperties(fname=font_path, size=10).get_name()\n",
    "# plt.rc('font', family=font_name, size=12)\n",
    "plt.rcParams[\"figure.figsize\"] = (20, 10)\n",
    "register_matplotlib_converters()\n",
    "\n",
    "mpl.font_manager._rebuild()\n",
    "mpl.pyplot.rc('font', family='NanumGothic')"
   ]
  },
  {
   "cell_type": "code",
   "execution_count": 2,
   "metadata": {
    "ExecuteTime": {
     "end_time": "2020-04-26T23:00:41.240148Z",
     "start_time": "2020-04-26T23:00:41.237465Z"
    },
    "tags": []
   },
   "outputs": [],
   "source": [
    "pd.options.mode.chained_assignment = None"
   ]
  },
  {
   "cell_type": "markdown",
   "metadata": {
    "tags": []
   },
   "source": [
    "<br><br><br><br><br><br><br><br><br><br>"
   ]
  },
  {
   "cell_type": "markdown",
   "metadata": {},
   "source": [
    "## 1. 곡 장르 코드 데이터 : `genre_gn_all.json`"
   ]
  },
  {
   "cell_type": "markdown",
   "metadata": {},
   "source": [
    "### 데이터 불러오기 "
   ]
  },
  {
   "cell_type": "code",
   "execution_count": 3,
   "metadata": {
    "ExecuteTime": {
     "end_time": "2020-04-26T23:00:41.287704Z",
     "start_time": "2020-04-26T23:00:41.241507Z"
    },
    "tags": []
   },
   "outputs": [],
   "source": [
    "genre_gn_all = pd.read_json('data/genre_gn_all.json', typ = 'series') # 장르 읽어오기"
   ]
  },
  {
   "cell_type": "code",
   "execution_count": 4,
   "metadata": {
    "ExecuteTime": {
     "end_time": "2020-04-26T23:00:41.294122Z",
     "start_time": "2020-04-26T23:00:41.289083Z"
    },
    "tags": []
   },
   "outputs": [],
   "source": [
    "# 장르코드 : gnr_code, 장르명 : gnr_name\n",
    "genre_gn_all = pd.DataFrame(genre_gn_all, columns = ['gnr_name']).reset_index().rename(columns = {'index' : 'gnr_code'})"
   ]
  },
  {
   "cell_type": "code",
   "execution_count": 5,
   "metadata": {
    "ExecuteTime": {
     "end_time": "2020-04-26T23:00:41.342662Z",
     "start_time": "2020-04-26T23:00:41.295466Z"
    },
    "tags": []
   },
   "outputs": [
    {
     "data": {
      "text/html": [
       "<div>\n",
       "<style scoped>\n",
       "    .dataframe tbody tr th:only-of-type {\n",
       "        vertical-align: middle;\n",
       "    }\n",
       "\n",
       "    .dataframe tbody tr th {\n",
       "        vertical-align: top;\n",
       "    }\n",
       "\n",
       "    .dataframe thead th {\n",
       "        text-align: right;\n",
       "    }\n",
       "</style>\n",
       "<table border=\"1\" class=\"dataframe\">\n",
       "  <thead>\n",
       "    <tr style=\"text-align: right;\">\n",
       "      <th></th>\n",
       "      <th>0</th>\n",
       "      <th>1</th>\n",
       "      <th>2</th>\n",
       "      <th>3</th>\n",
       "      <th>4</th>\n",
       "      <th>5</th>\n",
       "      <th>6</th>\n",
       "      <th>7</th>\n",
       "      <th>8</th>\n",
       "      <th>9</th>\n",
       "      <th>...</th>\n",
       "      <th>244</th>\n",
       "      <th>245</th>\n",
       "      <th>246</th>\n",
       "      <th>247</th>\n",
       "      <th>248</th>\n",
       "      <th>249</th>\n",
       "      <th>250</th>\n",
       "      <th>251</th>\n",
       "      <th>252</th>\n",
       "      <th>253</th>\n",
       "    </tr>\n",
       "  </thead>\n",
       "  <tbody>\n",
       "    <tr>\n",
       "      <th>gnr_code</th>\n",
       "      <td>GN0100</td>\n",
       "      <td>GN0101</td>\n",
       "      <td>GN0102</td>\n",
       "      <td>GN0103</td>\n",
       "      <td>GN0104</td>\n",
       "      <td>GN0105</td>\n",
       "      <td>GN0200</td>\n",
       "      <td>GN0201</td>\n",
       "      <td>GN0202</td>\n",
       "      <td>GN0203</td>\n",
       "      <td>...</td>\n",
       "      <td>GN2802</td>\n",
       "      <td>GN2803</td>\n",
       "      <td>GN2804</td>\n",
       "      <td>GN2805</td>\n",
       "      <td>GN2806</td>\n",
       "      <td>GN2900</td>\n",
       "      <td>GN2901</td>\n",
       "      <td>GN2902</td>\n",
       "      <td>GN2903</td>\n",
       "      <td>GN3000</td>\n",
       "    </tr>\n",
       "    <tr>\n",
       "      <th>gnr_name</th>\n",
       "      <td>발라드</td>\n",
       "      <td>세부장르전체</td>\n",
       "      <td>'80</td>\n",
       "      <td>'90</td>\n",
       "      <td>'00</td>\n",
       "      <td>'10-</td>\n",
       "      <td>댄스</td>\n",
       "      <td>세부장르전체</td>\n",
       "      <td>'80</td>\n",
       "      <td>'90</td>\n",
       "      <td>...</td>\n",
       "      <td>ASMR/자연</td>\n",
       "      <td>힐링/명상/요가</td>\n",
       "      <td>집중력</td>\n",
       "      <td>숙면유도</td>\n",
       "      <td>반려동물</td>\n",
       "      <td>뮤지컬</td>\n",
       "      <td>세부장르전체</td>\n",
       "      <td>국내뮤지컬</td>\n",
       "      <td>국외뮤지컬</td>\n",
       "      <td>크리스마스</td>\n",
       "    </tr>\n",
       "  </tbody>\n",
       "</table>\n",
       "<p>2 rows × 254 columns</p>\n",
       "</div>"
      ],
      "text/plain": [
       "             0       1       2       3       4       5       6       7    \\\n",
       "gnr_code  GN0100  GN0101  GN0102  GN0103  GN0104  GN0105  GN0200  GN0201   \n",
       "gnr_name     발라드  세부장르전체     '80     '90     '00    '10-      댄스  세부장르전체   \n",
       "\n",
       "             8       9    ...      244       245     246     247     248  \\\n",
       "gnr_code  GN0202  GN0203  ...   GN2802    GN2803  GN2804  GN2805  GN2806   \n",
       "gnr_name     '80     '90  ...  ASMR/자연  힐링/명상/요가     집중력    숙면유도    반려동물   \n",
       "\n",
       "             249     250     251     252     253  \n",
       "gnr_code  GN2900  GN2901  GN2902  GN2903  GN3000  \n",
       "gnr_name     뮤지컬  세부장르전체   국내뮤지컬   국외뮤지컬   크리스마스  \n",
       "\n",
       "[2 rows x 254 columns]"
      ]
     },
     "execution_count": 5,
     "metadata": {},
     "output_type": "execute_result"
    }
   ],
   "source": [
    "genre_gn_all.T"
   ]
  },
  {
   "cell_type": "markdown",
   "metadata": {
    "tags": []
   },
   "source": [
    "- 장르 코드는 **총 254개의 장르코드가 존재**하며 **30개의 대분류 장르코드**와 **224개의 상세 장르코드**로 분류할 수 있습니다."
   ]
  },
  {
   "cell_type": "markdown",
   "metadata": {},
   "source": [
    "<br>"
   ]
  },
  {
   "cell_type": "markdown",
   "metadata": {
    "tags": []
   },
   "source": [
    "### 대분류 장르코드 "
   ]
  },
  {
   "cell_type": "markdown",
   "metadata": {
    "tags": []
   },
   "source": [
    "- 대분류 장르코드는 장르코드(`gnr_code`)에서 **숫자 네 자리 중 뒷자리 두 자리가 `00`인 코드로 분류**할 수 있습니다.\n",
    "- 대분류 장르는 총 30개가 있습니다."
   ]
  },
  {
   "cell_type": "code",
   "execution_count": 6,
   "metadata": {
    "ExecuteTime": {
     "end_time": "2020-04-26T23:00:41.357671Z",
     "start_time": "2020-04-26T23:00:41.343953Z"
    },
    "tags": []
   },
   "outputs": [
    {
     "data": {
      "text/html": [
       "<div>\n",
       "<style scoped>\n",
       "    .dataframe tbody tr th:only-of-type {\n",
       "        vertical-align: middle;\n",
       "    }\n",
       "\n",
       "    .dataframe tbody tr th {\n",
       "        vertical-align: top;\n",
       "    }\n",
       "\n",
       "    .dataframe thead th {\n",
       "        text-align: right;\n",
       "    }\n",
       "</style>\n",
       "<table border=\"1\" class=\"dataframe\">\n",
       "  <thead>\n",
       "    <tr style=\"text-align: right;\">\n",
       "      <th></th>\n",
       "      <th>gnr_code</th>\n",
       "      <th>gnr_name</th>\n",
       "    </tr>\n",
       "  </thead>\n",
       "  <tbody>\n",
       "    <tr>\n",
       "      <th>count</th>\n",
       "      <td>30</td>\n",
       "      <td>30</td>\n",
       "    </tr>\n",
       "    <tr>\n",
       "      <th>unique</th>\n",
       "      <td>30</td>\n",
       "      <td>26</td>\n",
       "    </tr>\n",
       "    <tr>\n",
       "      <th>top</th>\n",
       "      <td>GN0100</td>\n",
       "      <td>랩/힙합</td>\n",
       "    </tr>\n",
       "    <tr>\n",
       "      <th>freq</th>\n",
       "      <td>1</td>\n",
       "      <td>2</td>\n",
       "    </tr>\n",
       "  </tbody>\n",
       "</table>\n",
       "</div>"
      ],
      "text/plain": [
       "       gnr_code gnr_name\n",
       "count        30       30\n",
       "unique       30       26\n",
       "top      GN0100     랩/힙합\n",
       "freq          1        2"
      ]
     },
     "execution_count": 6,
     "metadata": {},
     "output_type": "execute_result"
    }
   ],
   "source": [
    "# 장르코드 뒷자리 두 자리가 00인 코드를 필터링\n",
    "gnr_code = genre_gn_all[genre_gn_all['gnr_code'].str[-2:] == '00']\n",
    "\n",
    "gnr_code.describe()"
   ]
  },
  {
   "cell_type": "markdown",
   "metadata": {},
   "source": [
    "> **장르 이름 5개 중복  \n",
    "> 12\tGN0300\t랩/힙합, 90\tGN1200\t랩/힙합      \n",
    "18\tGN0400\tR&B/Soul, 100\tGN1300\tR&B/Soul    \n",
    "32\tGN0600\t록/메탈, 65\tGN1000\t록/메탈    \n",
    "50\tGN0800\t포크/블루스, 109\tGN1400\t포크/블루스/컨트리 => 얘만 3개야       \n",
    "80\tGN1100\t일렉트로니카, 232\tGN2600\t일렉트로니카**  \n"
   ]
  },
  {
   "cell_type": "code",
   "execution_count": 7,
   "metadata": {
    "tags": []
   },
   "outputs": [
    {
     "data": {
      "text/html": [
       "<div>\n",
       "<style scoped>\n",
       "    .dataframe tbody tr th:only-of-type {\n",
       "        vertical-align: middle;\n",
       "    }\n",
       "\n",
       "    .dataframe tbody tr th {\n",
       "        vertical-align: top;\n",
       "    }\n",
       "\n",
       "    .dataframe thead th {\n",
       "        text-align: right;\n",
       "    }\n",
       "</style>\n",
       "<table border=\"1\" class=\"dataframe\">\n",
       "  <thead>\n",
       "    <tr style=\"text-align: right;\">\n",
       "      <th></th>\n",
       "      <th>0</th>\n",
       "      <th>6</th>\n",
       "      <th>12</th>\n",
       "      <th>18</th>\n",
       "      <th>22</th>\n",
       "      <th>32</th>\n",
       "      <th>39</th>\n",
       "      <th>50</th>\n",
       "      <th>56</th>\n",
       "      <th>65</th>\n",
       "      <th>...</th>\n",
       "      <th>187</th>\n",
       "      <th>198</th>\n",
       "      <th>215</th>\n",
       "      <th>218</th>\n",
       "      <th>225</th>\n",
       "      <th>232</th>\n",
       "      <th>237</th>\n",
       "      <th>242</th>\n",
       "      <th>249</th>\n",
       "      <th>253</th>\n",
       "    </tr>\n",
       "  </thead>\n",
       "  <tbody>\n",
       "    <tr>\n",
       "      <th>gnr_code</th>\n",
       "      <td>GN0100</td>\n",
       "      <td>GN0200</td>\n",
       "      <td>GN0300</td>\n",
       "      <td>GN0400</td>\n",
       "      <td>GN0500</td>\n",
       "      <td>GN0600</td>\n",
       "      <td>GN0700</td>\n",
       "      <td>GN0800</td>\n",
       "      <td>GN0900</td>\n",
       "      <td>GN1000</td>\n",
       "      <td>...</td>\n",
       "      <td>GN2100</td>\n",
       "      <td>GN2200</td>\n",
       "      <td>GN2300</td>\n",
       "      <td>GN2400</td>\n",
       "      <td>GN2500</td>\n",
       "      <td>GN2600</td>\n",
       "      <td>GN2700</td>\n",
       "      <td>GN2800</td>\n",
       "      <td>GN2900</td>\n",
       "      <td>GN3000</td>\n",
       "    </tr>\n",
       "    <tr>\n",
       "      <th>gnr_name</th>\n",
       "      <td>발라드</td>\n",
       "      <td>댄스</td>\n",
       "      <td>랩/힙합</td>\n",
       "      <td>R&amp;B/Soul</td>\n",
       "      <td>인디음악</td>\n",
       "      <td>록/메탈</td>\n",
       "      <td>성인가요</td>\n",
       "      <td>포크/블루스</td>\n",
       "      <td>POP</td>\n",
       "      <td>록/메탈</td>\n",
       "      <td>...</td>\n",
       "      <td>CCM</td>\n",
       "      <td>어린이/태교</td>\n",
       "      <td>종교음악</td>\n",
       "      <td>국악</td>\n",
       "      <td>아이돌</td>\n",
       "      <td>일렉트로니카</td>\n",
       "      <td>EDM</td>\n",
       "      <td>뮤직테라피</td>\n",
       "      <td>뮤지컬</td>\n",
       "      <td>크리스마스</td>\n",
       "    </tr>\n",
       "  </tbody>\n",
       "</table>\n",
       "<p>2 rows × 30 columns</p>\n",
       "</div>"
      ],
      "text/plain": [
       "             0       6       12        18      22      32      39      50   \\\n",
       "gnr_code  GN0100  GN0200  GN0300    GN0400  GN0500  GN0600  GN0700  GN0800   \n",
       "gnr_name     발라드      댄스    랩/힙합  R&B/Soul    인디음악    록/메탈    성인가요  포크/블루스   \n",
       "\n",
       "             56      65   ...     187     198     215     218     225     232  \\\n",
       "gnr_code  GN0900  GN1000  ...  GN2100  GN2200  GN2300  GN2400  GN2500  GN2600   \n",
       "gnr_name     POP    록/메탈  ...     CCM  어린이/태교    종교음악      국악     아이돌  일렉트로니카   \n",
       "\n",
       "             237     242     249     253  \n",
       "gnr_code  GN2700  GN2800  GN2900  GN3000  \n",
       "gnr_name     EDM   뮤직테라피     뮤지컬   크리스마스  \n",
       "\n",
       "[2 rows x 30 columns]"
      ]
     },
     "execution_count": 7,
     "metadata": {},
     "output_type": "execute_result"
    }
   ],
   "source": [
    "gnr_code.T"
   ]
  },
  {
   "cell_type": "markdown",
   "metadata": {},
   "source": [
    "<br>"
   ]
  },
  {
   "cell_type": "markdown",
   "metadata": {
    "tags": []
   },
   "source": [
    "### 상세 장르코드\n",
    "\n",
    "- 상세 장르코드는 장르코드(`gnr_code`)에서 **숫자 네 자리 중 뒷자리 두 자리가 `00`이 아닌 나머지 코드로 분류**할 수 있습니다.\n",
    "- 상세 장르는 총 224개가 있습니다."
   ]
  },
  {
   "cell_type": "code",
   "execution_count": 8,
   "metadata": {
    "ExecuteTime": {
     "end_time": "2020-04-26T23:00:41.379616Z",
     "start_time": "2020-04-26T23:00:41.372594Z"
    },
    "tags": []
   },
   "outputs": [],
   "source": [
    "# 장르코드 뒷자리 두 자리가 00이 아닌 코드를 필터링\n",
    "dtl_gnr_code = genre_gn_all[genre_gn_all['gnr_code'].str[-2:] != '00']\n",
    "dtl_gnr_code.rename(columns = {'gnr_code' : 'dtl_gnr_code', 'gnr_name' : 'dtl_gnr_name'}, inplace = True)"
   ]
  },
  {
   "cell_type": "code",
   "execution_count": 9,
   "metadata": {
    "ExecuteTime": {
     "end_time": "2020-04-26T23:00:41.393342Z",
     "start_time": "2020-04-26T23:00:41.380918Z"
    },
    "tags": []
   },
   "outputs": [
    {
     "data": {
      "text/html": [
       "<div>\n",
       "<style scoped>\n",
       "    .dataframe tbody tr th:only-of-type {\n",
       "        vertical-align: middle;\n",
       "    }\n",
       "\n",
       "    .dataframe tbody tr th {\n",
       "        vertical-align: top;\n",
       "    }\n",
       "\n",
       "    .dataframe thead th {\n",
       "        text-align: right;\n",
       "    }\n",
       "</style>\n",
       "<table border=\"1\" class=\"dataframe\">\n",
       "  <thead>\n",
       "    <tr style=\"text-align: right;\">\n",
       "      <th></th>\n",
       "      <th>1</th>\n",
       "      <th>2</th>\n",
       "      <th>3</th>\n",
       "      <th>4</th>\n",
       "      <th>5</th>\n",
       "      <th>7</th>\n",
       "      <th>8</th>\n",
       "      <th>9</th>\n",
       "      <th>10</th>\n",
       "      <th>11</th>\n",
       "      <th>...</th>\n",
       "      <th>241</th>\n",
       "      <th>243</th>\n",
       "      <th>244</th>\n",
       "      <th>245</th>\n",
       "      <th>246</th>\n",
       "      <th>247</th>\n",
       "      <th>248</th>\n",
       "      <th>250</th>\n",
       "      <th>251</th>\n",
       "      <th>252</th>\n",
       "    </tr>\n",
       "  </thead>\n",
       "  <tbody>\n",
       "    <tr>\n",
       "      <th>dtl_gnr_code</th>\n",
       "      <td>GN0101</td>\n",
       "      <td>GN0102</td>\n",
       "      <td>GN0103</td>\n",
       "      <td>GN0104</td>\n",
       "      <td>GN0105</td>\n",
       "      <td>GN0201</td>\n",
       "      <td>GN0202</td>\n",
       "      <td>GN0203</td>\n",
       "      <td>GN0204</td>\n",
       "      <td>GN0205</td>\n",
       "      <td>...</td>\n",
       "      <td>GN2704</td>\n",
       "      <td>GN2801</td>\n",
       "      <td>GN2802</td>\n",
       "      <td>GN2803</td>\n",
       "      <td>GN2804</td>\n",
       "      <td>GN2805</td>\n",
       "      <td>GN2806</td>\n",
       "      <td>GN2901</td>\n",
       "      <td>GN2902</td>\n",
       "      <td>GN2903</td>\n",
       "    </tr>\n",
       "    <tr>\n",
       "      <th>dtl_gnr_name</th>\n",
       "      <td>세부장르전체</td>\n",
       "      <td>'80</td>\n",
       "      <td>'90</td>\n",
       "      <td>'00</td>\n",
       "      <td>'10-</td>\n",
       "      <td>세부장르전체</td>\n",
       "      <td>'80</td>\n",
       "      <td>'90</td>\n",
       "      <td>'00</td>\n",
       "      <td>'10-</td>\n",
       "      <td>...</td>\n",
       "      <td>DJ</td>\n",
       "      <td>세부장르전체</td>\n",
       "      <td>ASMR/자연</td>\n",
       "      <td>힐링/명상/요가</td>\n",
       "      <td>집중력</td>\n",
       "      <td>숙면유도</td>\n",
       "      <td>반려동물</td>\n",
       "      <td>세부장르전체</td>\n",
       "      <td>국내뮤지컬</td>\n",
       "      <td>국외뮤지컬</td>\n",
       "    </tr>\n",
       "  </tbody>\n",
       "</table>\n",
       "<p>2 rows × 224 columns</p>\n",
       "</div>"
      ],
      "text/plain": [
       "                 1       2       3       4       5       7       8       9    \\\n",
       "dtl_gnr_code  GN0101  GN0102  GN0103  GN0104  GN0105  GN0201  GN0202  GN0203   \n",
       "dtl_gnr_name  세부장르전체     '80     '90     '00    '10-  세부장르전체     '80     '90   \n",
       "\n",
       "                 10      11   ...     241     243      244       245     246  \\\n",
       "dtl_gnr_code  GN0204  GN0205  ...  GN2704  GN2801   GN2802    GN2803  GN2804   \n",
       "dtl_gnr_name     '00    '10-  ...      DJ  세부장르전체  ASMR/자연  힐링/명상/요가     집중력   \n",
       "\n",
       "                 247     248     250     251     252  \n",
       "dtl_gnr_code  GN2805  GN2806  GN2901  GN2902  GN2903  \n",
       "dtl_gnr_name    숙면유도    반려동물  세부장르전체   국내뮤지컬   국외뮤지컬  \n",
       "\n",
       "[2 rows x 224 columns]"
      ]
     },
     "execution_count": 9,
     "metadata": {},
     "output_type": "execute_result"
    }
   ],
   "source": [
    "dtl_gnr_code.T"
   ]
  },
  {
   "cell_type": "markdown",
   "metadata": {},
   "source": [
    "<br>"
   ]
  },
  {
   "cell_type": "markdown",
   "metadata": {
    "tags": []
   },
   "source": [
    "### 장르 코드 트리(Tree)"
   ]
  },
  {
   "cell_type": "markdown",
   "metadata": {
    "tags": []
   },
   "source": [
    "- 위에서 구분한 **대분류 장르코드와 상세 장르코드 앞자리 네 자리를 활용**하여 장르 코드 트리도 구성해볼 수 있습니다."
   ]
  },
  {
   "cell_type": "code",
   "execution_count": 10,
   "metadata": {
    "ExecuteTime": {
     "end_time": "2020-04-26T23:00:41.485298Z",
     "start_time": "2020-04-26T23:00:41.394678Z"
    },
    "tags": []
   },
   "outputs": [
    {
     "data": {
      "text/html": [
       "<div>\n",
       "<style scoped>\n",
       "    .dataframe tbody tr th:only-of-type {\n",
       "        vertical-align: middle;\n",
       "    }\n",
       "\n",
       "    .dataframe tbody tr th {\n",
       "        vertical-align: top;\n",
       "    }\n",
       "\n",
       "    .dataframe thead th {\n",
       "        text-align: right;\n",
       "    }\n",
       "</style>\n",
       "<table border=\"1\" class=\"dataframe\">\n",
       "  <thead>\n",
       "    <tr style=\"text-align: right;\">\n",
       "      <th></th>\n",
       "      <th>0</th>\n",
       "      <th>1</th>\n",
       "      <th>2</th>\n",
       "      <th>3</th>\n",
       "      <th>4</th>\n",
       "      <th>5</th>\n",
       "      <th>6</th>\n",
       "      <th>7</th>\n",
       "      <th>8</th>\n",
       "      <th>9</th>\n",
       "      <th>...</th>\n",
       "      <th>215</th>\n",
       "      <th>216</th>\n",
       "      <th>217</th>\n",
       "      <th>218</th>\n",
       "      <th>219</th>\n",
       "      <th>220</th>\n",
       "      <th>221</th>\n",
       "      <th>222</th>\n",
       "      <th>223</th>\n",
       "      <th>224</th>\n",
       "    </tr>\n",
       "  </thead>\n",
       "  <tbody>\n",
       "    <tr>\n",
       "      <th>gnr_code</th>\n",
       "      <td>GN0100</td>\n",
       "      <td>GN0100</td>\n",
       "      <td>GN0100</td>\n",
       "      <td>GN0100</td>\n",
       "      <td>GN0100</td>\n",
       "      <td>GN0200</td>\n",
       "      <td>GN0200</td>\n",
       "      <td>GN0200</td>\n",
       "      <td>GN0200</td>\n",
       "      <td>GN0200</td>\n",
       "      <td>...</td>\n",
       "      <td>GN2800</td>\n",
       "      <td>GN2800</td>\n",
       "      <td>GN2800</td>\n",
       "      <td>GN2800</td>\n",
       "      <td>GN2800</td>\n",
       "      <td>GN2800</td>\n",
       "      <td>GN2900</td>\n",
       "      <td>GN2900</td>\n",
       "      <td>GN2900</td>\n",
       "      <td>GN3000</td>\n",
       "    </tr>\n",
       "    <tr>\n",
       "      <th>gnr_name</th>\n",
       "      <td>발라드</td>\n",
       "      <td>발라드</td>\n",
       "      <td>발라드</td>\n",
       "      <td>발라드</td>\n",
       "      <td>발라드</td>\n",
       "      <td>댄스</td>\n",
       "      <td>댄스</td>\n",
       "      <td>댄스</td>\n",
       "      <td>댄스</td>\n",
       "      <td>댄스</td>\n",
       "      <td>...</td>\n",
       "      <td>뮤직테라피</td>\n",
       "      <td>뮤직테라피</td>\n",
       "      <td>뮤직테라피</td>\n",
       "      <td>뮤직테라피</td>\n",
       "      <td>뮤직테라피</td>\n",
       "      <td>뮤직테라피</td>\n",
       "      <td>뮤지컬</td>\n",
       "      <td>뮤지컬</td>\n",
       "      <td>뮤지컬</td>\n",
       "      <td>크리스마스</td>\n",
       "    </tr>\n",
       "    <tr>\n",
       "      <th>dtl_gnr_code</th>\n",
       "      <td>GN0101</td>\n",
       "      <td>GN0102</td>\n",
       "      <td>GN0103</td>\n",
       "      <td>GN0104</td>\n",
       "      <td>GN0105</td>\n",
       "      <td>GN0201</td>\n",
       "      <td>GN0202</td>\n",
       "      <td>GN0203</td>\n",
       "      <td>GN0204</td>\n",
       "      <td>GN0205</td>\n",
       "      <td>...</td>\n",
       "      <td>GN2801</td>\n",
       "      <td>GN2802</td>\n",
       "      <td>GN2803</td>\n",
       "      <td>GN2804</td>\n",
       "      <td>GN2805</td>\n",
       "      <td>GN2806</td>\n",
       "      <td>GN2901</td>\n",
       "      <td>GN2902</td>\n",
       "      <td>GN2903</td>\n",
       "      <td>NaN</td>\n",
       "    </tr>\n",
       "    <tr>\n",
       "      <th>dtl_gnr_name</th>\n",
       "      <td>세부장르전체</td>\n",
       "      <td>'80</td>\n",
       "      <td>'90</td>\n",
       "      <td>'00</td>\n",
       "      <td>'10-</td>\n",
       "      <td>세부장르전체</td>\n",
       "      <td>'80</td>\n",
       "      <td>'90</td>\n",
       "      <td>'00</td>\n",
       "      <td>'10-</td>\n",
       "      <td>...</td>\n",
       "      <td>세부장르전체</td>\n",
       "      <td>ASMR/자연</td>\n",
       "      <td>힐링/명상/요가</td>\n",
       "      <td>집중력</td>\n",
       "      <td>숙면유도</td>\n",
       "      <td>반려동물</td>\n",
       "      <td>세부장르전체</td>\n",
       "      <td>국내뮤지컬</td>\n",
       "      <td>국외뮤지컬</td>\n",
       "      <td>NaN</td>\n",
       "    </tr>\n",
       "  </tbody>\n",
       "</table>\n",
       "<p>4 rows × 225 columns</p>\n",
       "</div>"
      ],
      "text/plain": [
       "                 0       1       2       3       4       5       6       7    \\\n",
       "gnr_code      GN0100  GN0100  GN0100  GN0100  GN0100  GN0200  GN0200  GN0200   \n",
       "gnr_name         발라드     발라드     발라드     발라드     발라드      댄스      댄스      댄스   \n",
       "dtl_gnr_code  GN0101  GN0102  GN0103  GN0104  GN0105  GN0201  GN0202  GN0203   \n",
       "dtl_gnr_name  세부장르전체     '80     '90     '00    '10-  세부장르전체     '80     '90   \n",
       "\n",
       "                 8       9    ...     215      216       217     218     219  \\\n",
       "gnr_code      GN0200  GN0200  ...  GN2800   GN2800    GN2800  GN2800  GN2800   \n",
       "gnr_name          댄스      댄스  ...   뮤직테라피    뮤직테라피     뮤직테라피   뮤직테라피   뮤직테라피   \n",
       "dtl_gnr_code  GN0204  GN0205  ...  GN2801   GN2802    GN2803  GN2804  GN2805   \n",
       "dtl_gnr_name     '00    '10-  ...  세부장르전체  ASMR/자연  힐링/명상/요가     집중력    숙면유도   \n",
       "\n",
       "                 220     221     222     223     224  \n",
       "gnr_code      GN2800  GN2900  GN2900  GN2900  GN3000  \n",
       "gnr_name       뮤직테라피     뮤지컬     뮤지컬     뮤지컬   크리스마스  \n",
       "dtl_gnr_code  GN2806  GN2901  GN2902  GN2903     NaN  \n",
       "dtl_gnr_name    반려동물  세부장르전체   국내뮤지컬   국외뮤지컬     NaN  \n",
       "\n",
       "[4 rows x 225 columns]"
      ]
     },
     "execution_count": 10,
     "metadata": {},
     "output_type": "execute_result"
    }
   ],
   "source": [
    "# 앞자리 네 자리 공통코드 추출\n",
    "gnr_code = gnr_code.assign(join_code = gnr_code['gnr_code'].str[0:4])\n",
    "dtl_gnr_code = dtl_gnr_code.assign(join_code = dtl_gnr_code['dtl_gnr_code'].str[0:4])\n",
    "\n",
    "# Merge\n",
    "gnr_code_tree = pd.merge(gnr_code, dtl_gnr_code, how = 'left', on = 'join_code')\n",
    "\n",
    "gnr_code_tree[['gnr_code', 'gnr_name', 'dtl_gnr_code', 'dtl_gnr_name']].T"
   ]
  },
  {
   "cell_type": "code",
   "execution_count": 11,
   "metadata": {
    "ExecuteTime": {
     "end_time": "2020-04-26T23:00:41.496315Z",
     "start_time": "2020-04-26T23:00:41.486600Z"
    }
   },
   "outputs": [
    {
     "data": {
      "text/html": [
       "<div>\n",
       "<style scoped>\n",
       "    .dataframe tbody tr th:only-of-type {\n",
       "        vertical-align: middle;\n",
       "    }\n",
       "\n",
       "    .dataframe tbody tr th {\n",
       "        vertical-align: top;\n",
       "    }\n",
       "\n",
       "    .dataframe thead th {\n",
       "        text-align: right;\n",
       "    }\n",
       "</style>\n",
       "<table border=\"1\" class=\"dataframe\">\n",
       "  <thead>\n",
       "    <tr style=\"text-align: right;\">\n",
       "      <th></th>\n",
       "      <th>gnr_code</th>\n",
       "      <th>gnr_name</th>\n",
       "      <th>join_code</th>\n",
       "      <th>dtl_gnr_code</th>\n",
       "      <th>dtl_gnr_name</th>\n",
       "    </tr>\n",
       "  </thead>\n",
       "  <tbody>\n",
       "    <tr>\n",
       "      <th>224</th>\n",
       "      <td>GN3000</td>\n",
       "      <td>크리스마스</td>\n",
       "      <td>GN30</td>\n",
       "      <td>NaN</td>\n",
       "      <td>NaN</td>\n",
       "    </tr>\n",
       "  </tbody>\n",
       "</table>\n",
       "</div>"
      ],
      "text/plain": [
       "    gnr_code gnr_name join_code dtl_gnr_code dtl_gnr_name\n",
       "224   GN3000    크리스마스      GN30          NaN          NaN"
      ]
     },
     "execution_count": 11,
     "metadata": {},
     "output_type": "execute_result"
    }
   ],
   "source": [
    "# POP 장르(GN0900)의 상세 장르 살펴보기\n",
    "gnr_code_tree[gnr_code_tree['gnr_code'] == 'GN3000']"
   ]
  },
  {
   "cell_type": "markdown",
   "metadata": {},
   "source": [
    "> **dtl_gnr_code, dtl_gnr_name NaN값을 가짐 => 대장르 만들어주기**"
   ]
  },
  {
   "cell_type": "code",
   "execution_count": 12,
   "metadata": {
    "ExecuteTime": {
     "end_time": "2020-04-26T23:00:41.511410Z",
     "start_time": "2020-04-26T23:00:41.497657Z"
    }
   },
   "outputs": [
    {
     "data": {
      "text/html": [
       "<div>\n",
       "<style scoped>\n",
       "    .dataframe tbody tr th:only-of-type {\n",
       "        vertical-align: middle;\n",
       "    }\n",
       "\n",
       "    .dataframe tbody tr th {\n",
       "        vertical-align: top;\n",
       "    }\n",
       "\n",
       "    .dataframe thead th {\n",
       "        text-align: right;\n",
       "    }\n",
       "</style>\n",
       "<table border=\"1\" class=\"dataframe\">\n",
       "  <thead>\n",
       "    <tr style=\"text-align: right;\">\n",
       "      <th></th>\n",
       "      <th>gnr_code</th>\n",
       "      <th>gnr_name</th>\n",
       "      <th>join_code</th>\n",
       "      <th>dtl_gnr_code</th>\n",
       "      <th>dtl_gnr_name</th>\n",
       "    </tr>\n",
       "  </thead>\n",
       "  <tbody>\n",
       "    <tr>\n",
       "      <th>5</th>\n",
       "      <td>GN0200</td>\n",
       "      <td>댄스</td>\n",
       "      <td>GN02</td>\n",
       "      <td>GN0201</td>\n",
       "      <td>세부장르전체</td>\n",
       "    </tr>\n",
       "    <tr>\n",
       "      <th>6</th>\n",
       "      <td>GN0200</td>\n",
       "      <td>댄스</td>\n",
       "      <td>GN02</td>\n",
       "      <td>GN0202</td>\n",
       "      <td>'80</td>\n",
       "    </tr>\n",
       "    <tr>\n",
       "      <th>7</th>\n",
       "      <td>GN0200</td>\n",
       "      <td>댄스</td>\n",
       "      <td>GN02</td>\n",
       "      <td>GN0203</td>\n",
       "      <td>'90</td>\n",
       "    </tr>\n",
       "    <tr>\n",
       "      <th>8</th>\n",
       "      <td>GN0200</td>\n",
       "      <td>댄스</td>\n",
       "      <td>GN02</td>\n",
       "      <td>GN0204</td>\n",
       "      <td>'00</td>\n",
       "    </tr>\n",
       "    <tr>\n",
       "      <th>9</th>\n",
       "      <td>GN0200</td>\n",
       "      <td>댄스</td>\n",
       "      <td>GN02</td>\n",
       "      <td>GN0205</td>\n",
       "      <td>'10-</td>\n",
       "    </tr>\n",
       "  </tbody>\n",
       "</table>\n",
       "</div>"
      ],
      "text/plain": [
       "  gnr_code gnr_name join_code dtl_gnr_code dtl_gnr_name\n",
       "5   GN0200       댄스      GN02       GN0201       세부장르전체\n",
       "6   GN0200       댄스      GN02       GN0202          '80\n",
       "7   GN0200       댄스      GN02       GN0203          '90\n",
       "8   GN0200       댄스      GN02       GN0204          '00\n",
       "9   GN0200       댄스      GN02       GN0205         '10-"
      ]
     },
     "execution_count": 12,
     "metadata": {},
     "output_type": "execute_result"
    }
   ],
   "source": [
    "# 어린이/테교 장르(GN2200)의 상세 장르 살펴보기\n",
    "gnr_code_tree[gnr_code_tree['gnr_code'] == 'GN0200']"
   ]
  },
  {
   "cell_type": "markdown",
   "metadata": {},
   "source": [
    "> **같은 대분류 속 상세분류(dtl_gnr_name)가 중복되기도 함.   \n",
    "179\tGN2200\t어린이/태교\tGN22\tGN2203\t영어동요   \n",
    "180\tGN2200\t어린이/태교\tGN22\tGN2204\t영어동요   \n",
    "181\tGN2200\t어린이/태교\tGN22\tGN2205\t영어동요**   \n",
    "세부장르 년도 + 장르 / 장르 / 년도."
   ]
  },
  {
   "cell_type": "markdown",
   "metadata": {},
   "source": [
    "<br><br><br>"
   ]
  },
  {
   "cell_type": "markdown",
   "metadata": {},
   "source": [
    "## 2. 곡 별 메타 데이터 : `song_meta.json`"
   ]
  },
  {
   "cell_type": "markdown",
   "metadata": {
    "tags": []
   },
   "source": [
    "### 데이터 불러오기"
   ]
  },
  {
   "cell_type": "code",
   "execution_count": 13,
   "metadata": {
    "ExecuteTime": {
     "end_time": "2020-04-26T23:00:56.977184Z",
     "start_time": "2020-04-26T23:00:46.031689Z"
    },
    "tags": []
   },
   "outputs": [],
   "source": [
    "song_meta = pd.read_json('data/song_meta.json', typ = 'frame')"
   ]
  },
  {
   "cell_type": "code",
   "execution_count": 14,
   "metadata": {
    "tags": []
   },
   "outputs": [
    {
     "data": {
      "text/html": [
       "<div>\n",
       "<style scoped>\n",
       "    .dataframe tbody tr th:only-of-type {\n",
       "        vertical-align: middle;\n",
       "    }\n",
       "\n",
       "    .dataframe tbody tr th {\n",
       "        vertical-align: top;\n",
       "    }\n",
       "\n",
       "    .dataframe thead th {\n",
       "        text-align: right;\n",
       "    }\n",
       "</style>\n",
       "<table border=\"1\" class=\"dataframe\">\n",
       "  <thead>\n",
       "    <tr style=\"text-align: right;\">\n",
       "      <th></th>\n",
       "      <th>song_gn_dtl_gnr_basket</th>\n",
       "      <th>issue_date</th>\n",
       "      <th>album_name</th>\n",
       "      <th>album_id</th>\n",
       "      <th>artist_id_basket</th>\n",
       "      <th>song_name</th>\n",
       "      <th>song_gn_gnr_basket</th>\n",
       "      <th>artist_name_basket</th>\n",
       "      <th>id</th>\n",
       "      <th>issue_Y</th>\n",
       "      <th>issue_m</th>\n",
       "      <th>issue_d</th>\n",
       "    </tr>\n",
       "  </thead>\n",
       "  <tbody>\n",
       "    <tr>\n",
       "      <th>0</th>\n",
       "      <td>[GN0901]</td>\n",
       "      <td>20140512</td>\n",
       "      <td>불후의 명곡 - 7080 추억의 얄개시대 팝송베스트</td>\n",
       "      <td>2255639</td>\n",
       "      <td>[2727]</td>\n",
       "      <td>Feelings</td>\n",
       "      <td>[GN0900]</td>\n",
       "      <td>[Various Artists]</td>\n",
       "      <td>0</td>\n",
       "      <td>2014</td>\n",
       "      <td>05</td>\n",
       "      <td>12</td>\n",
       "    </tr>\n",
       "    <tr>\n",
       "      <th>1</th>\n",
       "      <td>[GN1601, GN1606]</td>\n",
       "      <td>20080421</td>\n",
       "      <td>Bach : Partitas Nos. 2, 3 &amp; 4</td>\n",
       "      <td>376431</td>\n",
       "      <td>[29966]</td>\n",
       "      <td>Bach : Partita No. 4 In D Major, BWV 828 - II....</td>\n",
       "      <td>[GN1600]</td>\n",
       "      <td>[Murray Perahia]</td>\n",
       "      <td>1</td>\n",
       "      <td>2008</td>\n",
       "      <td>04</td>\n",
       "      <td>21</td>\n",
       "    </tr>\n",
       "    <tr>\n",
       "      <th>2</th>\n",
       "      <td>[GN0901]</td>\n",
       "      <td>20180518</td>\n",
       "      <td>Hit</td>\n",
       "      <td>4698747</td>\n",
       "      <td>[3361]</td>\n",
       "      <td>Solsbury Hill (Remastered 2002)</td>\n",
       "      <td>[GN0900]</td>\n",
       "      <td>[Peter Gabriel]</td>\n",
       "      <td>2</td>\n",
       "      <td>2018</td>\n",
       "      <td>05</td>\n",
       "      <td>18</td>\n",
       "    </tr>\n",
       "    <tr>\n",
       "      <th>3</th>\n",
       "      <td>[GN1102, GN1101]</td>\n",
       "      <td>20151016</td>\n",
       "      <td>Feeling Right (Everything Is Nice) (Feat. Popc...</td>\n",
       "      <td>2644882</td>\n",
       "      <td>[838543]</td>\n",
       "      <td>Feeling Right (Everything Is Nice) (Feat. Popc...</td>\n",
       "      <td>[GN1100]</td>\n",
       "      <td>[Matoma]</td>\n",
       "      <td>3</td>\n",
       "      <td>2015</td>\n",
       "      <td>10</td>\n",
       "      <td>16</td>\n",
       "    </tr>\n",
       "    <tr>\n",
       "      <th>4</th>\n",
       "      <td>[GN1802, GN1801]</td>\n",
       "      <td>20110824</td>\n",
       "      <td>그남자 그여자</td>\n",
       "      <td>2008470</td>\n",
       "      <td>[560160]</td>\n",
       "      <td>그남자 그여자</td>\n",
       "      <td>[GN1800]</td>\n",
       "      <td>[Jude Law]</td>\n",
       "      <td>4</td>\n",
       "      <td>2011</td>\n",
       "      <td>08</td>\n",
       "      <td>24</td>\n",
       "    </tr>\n",
       "  </tbody>\n",
       "</table>\n",
       "</div>"
      ],
      "text/plain": [
       "  song_gn_dtl_gnr_basket issue_date  \\\n",
       "0               [GN0901]   20140512   \n",
       "1       [GN1601, GN1606]   20080421   \n",
       "2               [GN0901]   20180518   \n",
       "3       [GN1102, GN1101]   20151016   \n",
       "4       [GN1802, GN1801]   20110824   \n",
       "\n",
       "                                          album_name  album_id  \\\n",
       "0                       불후의 명곡 - 7080 추억의 얄개시대 팝송베스트   2255639   \n",
       "1                      Bach : Partitas Nos. 2, 3 & 4    376431   \n",
       "2                                                Hit   4698747   \n",
       "3  Feeling Right (Everything Is Nice) (Feat. Popc...   2644882   \n",
       "4                                            그남자 그여자   2008470   \n",
       "\n",
       "  artist_id_basket                                          song_name  \\\n",
       "0           [2727]                                           Feelings   \n",
       "1          [29966]  Bach : Partita No. 4 In D Major, BWV 828 - II....   \n",
       "2           [3361]                    Solsbury Hill (Remastered 2002)   \n",
       "3         [838543]  Feeling Right (Everything Is Nice) (Feat. Popc...   \n",
       "4         [560160]                                            그남자 그여자   \n",
       "\n",
       "  song_gn_gnr_basket artist_name_basket  id issue_Y issue_m issue_d  \n",
       "0           [GN0900]  [Various Artists]   0    2014      05      12  \n",
       "1           [GN1600]   [Murray Perahia]   1    2008      04      21  \n",
       "2           [GN0900]    [Peter Gabriel]   2    2018      05      18  \n",
       "3           [GN1100]           [Matoma]   3    2015      10      16  \n",
       "4           [GN1800]         [Jude Law]   4    2011      08      24  "
      ]
     },
     "execution_count": 14,
     "metadata": {},
     "output_type": "execute_result"
    }
   ],
   "source": [
    "# 발매년도 만들기 str타입\n",
    "song_meta['issue_date'] = song_meta['issue_date'].astype(str)\n",
    "song_meta['issue_Y'] = song_meta['issue_date'].str[:4]\n",
    "song_meta['issue_m'] = song_meta['issue_date'].str[4:6]\n",
    "song_meta['issue_d'] = song_meta['issue_date'].str[6:]\n",
    "\n",
    "song_meta.head()"
   ]
  },
  {
   "cell_type": "markdown",
   "metadata": {},
   "source": [
    "---"
   ]
  },
  {
   "cell_type": "code",
   "execution_count": 15,
   "metadata": {
    "ExecuteTime": {
     "end_time": "2020-04-26T23:00:57.647218Z",
     "start_time": "2020-04-26T23:00:57.013747Z"
    }
   },
   "outputs": [
    {
     "name": "stdout",
     "output_type": "stream",
     "text": [
      "<class 'pandas.core.frame.DataFrame'>\n",
      "RangeIndex: 707989 entries, 0 to 707988\n",
      "Data columns (total 12 columns):\n",
      " #   Column                  Non-Null Count   Dtype \n",
      "---  ------                  --------------   ----- \n",
      " 0   song_gn_dtl_gnr_basket  707989 non-null  object\n",
      " 1   issue_date              707989 non-null  object\n",
      " 2   album_name              707985 non-null  object\n",
      " 3   album_id                707989 non-null  int64 \n",
      " 4   artist_id_basket        707989 non-null  object\n",
      " 5   song_name               707989 non-null  object\n",
      " 6   song_gn_gnr_basket      707989 non-null  object\n",
      " 7   artist_name_basket      707989 non-null  object\n",
      " 8   id                      707989 non-null  int64 \n",
      " 9   issue_Y                 707989 non-null  object\n",
      " 10  issue_m                 707989 non-null  object\n",
      " 11  issue_d                 707989 non-null  object\n",
      "dtypes: int64(2), object(10)\n",
      "memory usage: 64.8+ MB\n"
     ]
    }
   ],
   "source": [
    "song_meta.info()"
   ]
  },
  {
   "cell_type": "markdown",
   "metadata": {},
   "source": [
    "- **총 707,989곡의 메타 정보가 담겨 있으며** 포함하는 값은 아래와 같습니다.\n",
    "  + `song_gn_dtl_gnr_basket` : 상세 장르 코드\n",
    "  + `issue_date` : 곡 발매 일자 (yyyymmdd)\n",
    "  + `album_name` : 앨범 명\n",
    "  + `album_id` : 앨범 아이디\n",
    "  + `artist_id_basket` : 아티스트 아이디 (복수일 경우 띄어쓰기로 구분)\n",
    "  + `song_name` : 곡 명\n",
    "  + `song_gn_gnr_basket` : 대분류 장르코드\n",
    "  + `artist_name_basket` : 아티스트 명 (복수일 경우 띄어쓰기로 구분)\n",
    "  + `id` : 곡 아이디\n",
    " \n",
    "> **album_name, song_name, artist_name_basket 영어, 한국어 혼합 및 형태소 분석 주의   \n",
    "song_gn_dtl_gnr_basket xx01 대분류장르코드는 모든 곡에 공통 들어가있다.(크리스마스곡 제외)     \n",
    "리스트로 묶여있는 칼럼 목록 : song_gn_dtl_gnr_basket, artist_id_basket, song_gn_gnr_basket, artist_name_basket**   "
   ]
  },
  {
   "cell_type": "code",
   "execution_count": 16,
   "metadata": {},
   "outputs": [
    {
     "name": "stdout",
     "output_type": "stream",
     "text": [
      "Categorical Columns: \n",
      "['song_gn_dtl_gnr_basket', 'issue_date', 'album_name', 'artist_id_basket', 'song_name', 'song_gn_gnr_basket', 'artist_name_basket', 'issue_Y', 'issue_m', 'issue_d']\n",
      "\n",
      "Numeric Columns: \n",
      "['album_id', 'id']\n",
      "\n"
     ]
    }
   ],
   "source": [
    "cat_columns = [c for c, t in zip(song_meta.dtypes.index, song_meta.dtypes) if t=='O'] \n",
    "num_columns = [c for c in song_meta.columns if c not in cat_columns]\n",
    "\n",
    "print(f'Categorical Columns: \\n{cat_columns}\\n')\n",
    "print(f'Numeric Columns: \\n{num_columns}\\n')"
   ]
  },
  {
   "cell_type": "code",
   "execution_count": 17,
   "metadata": {},
   "outputs": [],
   "source": [
    "# song_meta.describe(include='O').T"
   ]
  },
  {
   "cell_type": "code",
   "execution_count": 18,
   "metadata": {
    "tags": []
   },
   "outputs": [
    {
     "data": {
      "image/png": "[encoded data removed]",
      "text/plain": [
       "<Figure size 1800x720 with 2 Axes>"
      ]
     },
     "metadata": {
      "needs_background": "light"
     },
     "output_type": "display_data"
    },
    {
     "data": {
      "text/plain": [
       "song_gn_dtl_gnr_basket    0.000000\n",
       "issue_date                0.000000\n",
       "album_name                0.000565\n",
       "album_id                  0.000000\n",
       "artist_id_basket          0.000000\n",
       "song_name                 0.000000\n",
       "song_gn_gnr_basket        0.000000\n",
       "artist_name_basket        0.000000\n",
       "id                        0.000000\n",
       "issue_Y                   0.000000\n",
       "issue_m                   0.000000\n",
       "issue_d                   0.000000\n",
       "dtype: float64"
      ]
     },
     "execution_count": 18,
     "metadata": {},
     "output_type": "execute_result"
    }
   ],
   "source": [
    "import missingno as msno\n",
    "msno.matrix(song_meta, sort='descending')\n",
    "plt.show()\n",
    "\n",
    "song_meta.isna().sum() / len(song_meta) * 100 # NaN, Null"
   ]
  },
  {
   "cell_type": "markdown",
   "metadata": {},
   "source": [
    "> **album_name 0.000565 소량이지만 결측치 존재\n",
    "앨범 이름이라 크게 중요하지는 않다고 판단.**"
   ]
  },
  {
   "cell_type": "code",
   "execution_count": 19,
   "metadata": {
    "tags": []
   },
   "outputs": [
    {
     "name": "stdout",
     "output_type": "stream",
     "text": [
      "Greatest Hits     930\n",
      "The Collection    399\n",
      "Best Of           294\n",
      "Love Songs        247\n",
      "Home              236\n",
      "Name: album_name, dtype: int64\n",
      "2173174     142\n",
      "300601      138\n",
      "10261494    138\n",
      "324341      136\n",
      "10058860    114\n",
      "Name: album_id, dtype: int64\n"
     ]
    }
   ],
   "source": [
    "print(song_meta['album_name'].value_counts().head())\n",
    "\n",
    "print(song_meta['album_id'].value_counts().head())"
   ]
  },
  {
   "cell_type": "code",
   "execution_count": 20,
   "metadata": {},
   "outputs": [
    {
     "data": {
      "text/plain": [
       "0"
      ]
     },
     "execution_count": 20,
     "metadata": {},
     "output_type": "execute_result"
    }
   ],
   "source": [
    "song_meta['artist_id_basket'].isna().sum()"
   ]
  },
  {
   "cell_type": "code",
   "execution_count": 21,
   "metadata": {},
   "outputs": [
    {
     "name": "stdout",
     "output_type": "stream",
     "text": [
      "<class 'pandas.core.frame.DataFrame'>\n",
      "RangeIndex: 707989 entries, 0 to 707988\n",
      "Data columns (total 12 columns):\n",
      " #   Column                  Non-Null Count   Dtype \n",
      "---  ------                  --------------   ----- \n",
      " 0   song_gn_dtl_gnr_basket  707989 non-null  object\n",
      " 1   issue_date              707989 non-null  object\n",
      " 2   album_name              707985 non-null  object\n",
      " 3   album_id                707989 non-null  int64 \n",
      " 4   artist_id_basket        707989 non-null  object\n",
      " 5   song_name               707989 non-null  object\n",
      " 6   song_gn_gnr_basket      707989 non-null  object\n",
      " 7   artist_name_basket      707989 non-null  object\n",
      " 8   id                      707989 non-null  int64 \n",
      " 9   issue_Y                 707989 non-null  object\n",
      " 10  issue_m                 707989 non-null  object\n",
      " 11  issue_d                 707989 non-null  object\n",
      "dtypes: int64(2), object(10)\n",
      "memory usage: 64.8+ MB\n"
     ]
    }
   ],
   "source": [
    "# artist_id가 object로 나옴.\n",
    "# 같은 곡 안에 가수가 여럿일 경우에 ,로 구분됨\n",
    "song_meta.info()"
   ]
  },
  {
   "cell_type": "code",
   "execution_count": 22,
   "metadata": {},
   "outputs": [],
   "source": [
    "song_meta['artist_id_basket'] = song_meta['artist_id_basket'].str.strip('[]')"
   ]
  },
  {
   "cell_type": "code",
   "execution_count": 23,
   "metadata": {},
   "outputs": [
    {
     "data": {
      "text/html": [
       "<div>\n",
       "<style scoped>\n",
       "    .dataframe tbody tr th:only-of-type {\n",
       "        vertical-align: middle;\n",
       "    }\n",
       "\n",
       "    .dataframe tbody tr th {\n",
       "        vertical-align: top;\n",
       "    }\n",
       "\n",
       "    .dataframe thead th {\n",
       "        text-align: right;\n",
       "    }\n",
       "</style>\n",
       "<table border=\"1\" class=\"dataframe\">\n",
       "  <thead>\n",
       "    <tr style=\"text-align: right;\">\n",
       "      <th></th>\n",
       "      <th>song_gn_dtl_gnr_basket</th>\n",
       "      <th>issue_date</th>\n",
       "      <th>album_name</th>\n",
       "      <th>album_id</th>\n",
       "      <th>artist_id_basket</th>\n",
       "      <th>song_name</th>\n",
       "      <th>song_gn_gnr_basket</th>\n",
       "      <th>artist_name_basket</th>\n",
       "      <th>id</th>\n",
       "      <th>issue_Y</th>\n",
       "      <th>issue_m</th>\n",
       "      <th>issue_d</th>\n",
       "    </tr>\n",
       "  </thead>\n",
       "  <tbody>\n",
       "    <tr>\n",
       "      <th>0</th>\n",
       "      <td>[GN0901]</td>\n",
       "      <td>20140512</td>\n",
       "      <td>불후의 명곡 - 7080 추억의 얄개시대 팝송베스트</td>\n",
       "      <td>2255639</td>\n",
       "      <td>NaN</td>\n",
       "      <td>Feelings</td>\n",
       "      <td>[GN0900]</td>\n",
       "      <td>[Various Artists]</td>\n",
       "      <td>0</td>\n",
       "      <td>2014</td>\n",
       "      <td>05</td>\n",
       "      <td>12</td>\n",
       "    </tr>\n",
       "    <tr>\n",
       "      <th>1</th>\n",
       "      <td>[GN1601, GN1606]</td>\n",
       "      <td>20080421</td>\n",
       "      <td>Bach : Partitas Nos. 2, 3 &amp; 4</td>\n",
       "      <td>376431</td>\n",
       "      <td>NaN</td>\n",
       "      <td>Bach : Partita No. 4 In D Major, BWV 828 - II....</td>\n",
       "      <td>[GN1600]</td>\n",
       "      <td>[Murray Perahia]</td>\n",
       "      <td>1</td>\n",
       "      <td>2008</td>\n",
       "      <td>04</td>\n",
       "      <td>21</td>\n",
       "    </tr>\n",
       "    <tr>\n",
       "      <th>2</th>\n",
       "      <td>[GN0901]</td>\n",
       "      <td>20180518</td>\n",
       "      <td>Hit</td>\n",
       "      <td>4698747</td>\n",
       "      <td>NaN</td>\n",
       "      <td>Solsbury Hill (Remastered 2002)</td>\n",
       "      <td>[GN0900]</td>\n",
       "      <td>[Peter Gabriel]</td>\n",
       "      <td>2</td>\n",
       "      <td>2018</td>\n",
       "      <td>05</td>\n",
       "      <td>18</td>\n",
       "    </tr>\n",
       "    <tr>\n",
       "      <th>3</th>\n",
       "      <td>[GN1102, GN1101]</td>\n",
       "      <td>20151016</td>\n",
       "      <td>Feeling Right (Everything Is Nice) (Feat. Popc...</td>\n",
       "      <td>2644882</td>\n",
       "      <td>NaN</td>\n",
       "      <td>Feeling Right (Everything Is Nice) (Feat. Popc...</td>\n",
       "      <td>[GN1100]</td>\n",
       "      <td>[Matoma]</td>\n",
       "      <td>3</td>\n",
       "      <td>2015</td>\n",
       "      <td>10</td>\n",
       "      <td>16</td>\n",
       "    </tr>\n",
       "    <tr>\n",
       "      <th>4</th>\n",
       "      <td>[GN1802, GN1801]</td>\n",
       "      <td>20110824</td>\n",
       "      <td>그남자 그여자</td>\n",
       "      <td>2008470</td>\n",
       "      <td>NaN</td>\n",
       "      <td>그남자 그여자</td>\n",
       "      <td>[GN1800]</td>\n",
       "      <td>[Jude Law]</td>\n",
       "      <td>4</td>\n",
       "      <td>2011</td>\n",
       "      <td>08</td>\n",
       "      <td>24</td>\n",
       "    </tr>\n",
       "    <tr>\n",
       "      <th>...</th>\n",
       "      <td>...</td>\n",
       "      <td>...</td>\n",
       "      <td>...</td>\n",
       "      <td>...</td>\n",
       "      <td>...</td>\n",
       "      <td>...</td>\n",
       "      <td>...</td>\n",
       "      <td>...</td>\n",
       "      <td>...</td>\n",
       "      <td>...</td>\n",
       "      <td>...</td>\n",
       "      <td>...</td>\n",
       "    </tr>\n",
       "    <tr>\n",
       "      <th>707984</th>\n",
       "      <td>[GN2001]</td>\n",
       "      <td>19991219</td>\n",
       "      <td>The Best Best Of The Black President</td>\n",
       "      <td>65254</td>\n",
       "      <td>NaN</td>\n",
       "      <td>Coffin For Head Of State</td>\n",
       "      <td>[GN2000]</td>\n",
       "      <td>[Fela Kuti]</td>\n",
       "      <td>707984</td>\n",
       "      <td>1999</td>\n",
       "      <td>12</td>\n",
       "      <td>19</td>\n",
       "    </tr>\n",
       "    <tr>\n",
       "      <th>707985</th>\n",
       "      <td>[GN0901]</td>\n",
       "      <td>19860000</td>\n",
       "      <td>True Colors</td>\n",
       "      <td>44141</td>\n",
       "      <td>NaN</td>\n",
       "      <td>Change Of Heart</td>\n",
       "      <td>[GN0900]</td>\n",
       "      <td>[Cyndi Lauper]</td>\n",
       "      <td>707985</td>\n",
       "      <td>1986</td>\n",
       "      <td>00</td>\n",
       "      <td>00</td>\n",
       "    </tr>\n",
       "    <tr>\n",
       "      <th>707986</th>\n",
       "      <td>[GN0105, GN0101]</td>\n",
       "      <td>20160120</td>\n",
       "      <td>행보 2015 윤종신 / 작사가 윤종신 Live Part.1</td>\n",
       "      <td>2662866</td>\n",
       "      <td>NaN</td>\n",
       "      <td>스치듯 안녕</td>\n",
       "      <td>[GN0100]</td>\n",
       "      <td>[윤종신]</td>\n",
       "      <td>707986</td>\n",
       "      <td>2016</td>\n",
       "      <td>01</td>\n",
       "      <td>20</td>\n",
       "    </tr>\n",
       "    <tr>\n",
       "      <th>707987</th>\n",
       "      <td>[GN1807, GN1801]</td>\n",
       "      <td>20131217</td>\n",
       "      <td>명상의 시간을 위한 뉴에이지 음악</td>\n",
       "      <td>2221722</td>\n",
       "      <td>NaN</td>\n",
       "      <td>숲의 빛</td>\n",
       "      <td>[GN1800]</td>\n",
       "      <td>[Nature Piano]</td>\n",
       "      <td>707987</td>\n",
       "      <td>2013</td>\n",
       "      <td>12</td>\n",
       "      <td>17</td>\n",
       "    </tr>\n",
       "    <tr>\n",
       "      <th>707988</th>\n",
       "      <td>[GN0601, GN0604]</td>\n",
       "      <td>19980000</td>\n",
       "      <td>김경호 Live</td>\n",
       "      <td>34663</td>\n",
       "      <td>NaN</td>\n",
       "      <td>Queen 명곡 멜로디</td>\n",
       "      <td>[GN0600]</td>\n",
       "      <td>[김경호]</td>\n",
       "      <td>707988</td>\n",
       "      <td>1998</td>\n",
       "      <td>00</td>\n",
       "      <td>00</td>\n",
       "    </tr>\n",
       "  </tbody>\n",
       "</table>\n",
       "<p>707989 rows × 12 columns</p>\n",
       "</div>"
      ],
      "text/plain": [
       "       song_gn_dtl_gnr_basket issue_date  \\\n",
       "0                    [GN0901]   20140512   \n",
       "1            [GN1601, GN1606]   20080421   \n",
       "2                    [GN0901]   20180518   \n",
       "3            [GN1102, GN1101]   20151016   \n",
       "4            [GN1802, GN1801]   20110824   \n",
       "...                       ...        ...   \n",
       "707984               [GN2001]   19991219   \n",
       "707985               [GN0901]   19860000   \n",
       "707986       [GN0105, GN0101]   20160120   \n",
       "707987       [GN1807, GN1801]   20131217   \n",
       "707988       [GN0601, GN0604]   19980000   \n",
       "\n",
       "                                               album_name  album_id  \\\n",
       "0                            불후의 명곡 - 7080 추억의 얄개시대 팝송베스트   2255639   \n",
       "1                           Bach : Partitas Nos. 2, 3 & 4    376431   \n",
       "2                                                     Hit   4698747   \n",
       "3       Feeling Right (Everything Is Nice) (Feat. Popc...   2644882   \n",
       "4                                                 그남자 그여자   2008470   \n",
       "...                                                   ...       ...   \n",
       "707984               The Best Best Of The Black President     65254   \n",
       "707985                                        True Colors     44141   \n",
       "707986                  행보 2015 윤종신 / 작사가 윤종신 Live Part.1   2662866   \n",
       "707987                                 명상의 시간을 위한 뉴에이지 음악   2221722   \n",
       "707988                                           김경호 Live     34663   \n",
       "\n",
       "        artist_id_basket                                          song_name  \\\n",
       "0                    NaN                                           Feelings   \n",
       "1                    NaN  Bach : Partita No. 4 In D Major, BWV 828 - II....   \n",
       "2                    NaN                    Solsbury Hill (Remastered 2002)   \n",
       "3                    NaN  Feeling Right (Everything Is Nice) (Feat. Popc...   \n",
       "4                    NaN                                            그남자 그여자   \n",
       "...                  ...                                                ...   \n",
       "707984               NaN                           Coffin For Head Of State   \n",
       "707985               NaN                                    Change Of Heart   \n",
       "707986               NaN                                             스치듯 안녕   \n",
       "707987               NaN                                               숲의 빛   \n",
       "707988               NaN                                       Queen 명곡 멜로디   \n",
       "\n",
       "       song_gn_gnr_basket artist_name_basket      id issue_Y issue_m issue_d  \n",
       "0                [GN0900]  [Various Artists]       0    2014      05      12  \n",
       "1                [GN1600]   [Murray Perahia]       1    2008      04      21  \n",
       "2                [GN0900]    [Peter Gabriel]       2    2018      05      18  \n",
       "3                [GN1100]           [Matoma]       3    2015      10      16  \n",
       "4                [GN1800]         [Jude Law]       4    2011      08      24  \n",
       "...                   ...                ...     ...     ...     ...     ...  \n",
       "707984           [GN2000]        [Fela Kuti]  707984    1999      12      19  \n",
       "707985           [GN0900]     [Cyndi Lauper]  707985    1986      00      00  \n",
       "707986           [GN0100]              [윤종신]  707986    2016      01      20  \n",
       "707987           [GN1800]     [Nature Piano]  707987    2013      12      17  \n",
       "707988           [GN0600]              [김경호]  707988    1998      00      00  \n",
       "\n",
       "[707989 rows x 12 columns]"
      ]
     },
     "execution_count": 23,
     "metadata": {},
     "output_type": "execute_result"
    }
   ],
   "source": [
    "song_meta"
   ]
  },
  {
   "cell_type": "code",
   "execution_count": 24,
   "metadata": {},
   "outputs": [
    {
     "name": "stdout",
     "output_type": "stream",
     "text": [
      "[['Little River Band'], ['Sweetbox'], ['N Sync'], ['Motley Crue'], ['Scouting For Girls'], ['Marvin Gaye and Tammi Terrell'], ['The Drifters'], ['Chet Baker'], ['Expose'], ['Ramones'], ['Ruff Endz'], ['The Notorious B.I.G.'], ['Exile'], ['Chet Baker'], ['Kathy Troccoli'], ['The Fugees'], ['Lee Ann Womack'], ['Dido'], ['The Cover Girls'], ['Earth, Wind & Fire'], ['Mose Allison'], ['Air Supply'], ['Whodini'], ['Mariah Carey'], ['Doug Stone'], ['Amy Grant'], ['Joe'], ['Mariah Carey'], ['Rod Stewart'], ['Little Anthony & The Imperials'], ['The Bangles'], ['Chet Baker'], ['SWV'], ['N.W.A.'], ['Motley Crue'], ['Little River Band'], ['Styx'], ['Nas'], ['Dean Martin'], ['Mariah Carey'], ['Foo Fighters'], ['Bruce Springsteen'], ['Santana'], ['Johnny Lee'], ['Ramones'], ['Sweetbox'], ['Kenny Rogers'], ['Mariah Carey'], ['Fu-Schnickens'], ['John Williams'], ['The Psychedelic Furs'], ['Train'], ['The Notorious B.I.G.'], ['The Brothers Four'], ['Will Smith'], ['Kool Moe Dee'], ['Richard Marx'], ['Journey'], ['Yves Montand'], ['Joe'], ['Sweetbox'], ['War'], ['Shania Twain'], ['Artie Shaw'], ['Luther Vandross'], ['Motley Crue'], ['Styx'], ['Lionel Hampton'], ['Sasha'], ['Earth, Wind & Fire'], ['Linda Ronstadt'], ['Pimp Su'], ['Chuck Berry'], ['Pitbull'], ['Motley Crue'], ['Al Green'], ['Limp Bizkit'], ['Kenny Rogers'], ['Richard Marx'], ['Marvin Gaye and Tammi Terrell'], ['Ace Of Base'], ['Ace Of Base'], ['Enrique Iglesias'], ['Expose'], ['Marvin Gaye and Tammi Terrell'], ['Brenda Russell'], ['Lil` Romeo'], ['Scouting For Girls'], ['The Offspring'], ['Paul Revere & The Raiders'], ['Andy Gibb'], ['Thalia'], ['Mr.Big'], ['Erroll Garner'], ['Barry White'], ['The Cover Girls'], ['Mariah Carey'], ['The Ink Spots'], ['Al Green'], ['Air Supply'], ['Sasha'], ['Sweetbox'], ['Nas'], ['Sublime'], ['Brian McKnight'], ['The Brothers Four'], ['Boney M'], ['Shania Twain'], ['Enrique Iglesias'], ['The Fugees'], ['Pimp Su'], ['Oscar Peterson'], ['Ricchi E Poveri'], ['Mariah Carey'], ['James Taylor'], ['N Sync'], ['Billy Idol'], ['Vanessa Williams'], ['MC Hammer'], ['blink-182'], ['Jerry Vale'], ['Sweetbox'], ['Groove Armada'], ['Air Supply'], ['The Ink Spots'], ['Limp Bizkit'], ['Limp Bizkit'], ['N.W.A.'], ['Doug Stone'], ['Shania Twain'], ['Bobby Womack'], ['The Psychedelic Furs'], ['Wes Montgomery'], ['Kenny Rogers'], ['The Fugees'], ['The Ink Spots'], ['Mariah Carey'], ['The Brothers Four'], ['Nas'], ['Brian McKnight'], ['Earth, Wind & Fire'], ['Joe'], ['Scouting For Girls'], ['Ruff Endz'], ['Paul Potts'], ['Marvin Gaye and Tammi Terrell'], ['Sweetbox'], ['Nas'], ['Percy Sledge'], ['Jason Donovan'], ['The Ink Spots'], ['Marvin Gaye and Tammi Terrell'], ['Anuel Aa'], ['Sweetbox'], ['Amy Grant'], ['Train'], ['Jacksoul'], ['Kenny Chesney'], ['이수만'], ['The Cure'], ['Groove Armada'], ['Mr.Big'], ['The Isley Brothers'], ['Whodini'], ['Ricchi E Poveri'], ['Enrique Iglesias'], ['Nas'], ['Enrique Iglesias'], ['Steve Miller Band'], ['John Williams'], ['Linda Ronstadt'], ['ABBA'], ['blink-182'], ['Bjork'], ['A-Teens'], ['Dido'], ['Lee Ann Womack'], ['Jacksoul'], ['Dido'], ['Pimp Su'], ['The Shadows'], ['Bruce Springsteen'], ['blink-182'], ['Foo Fighters'], ['Billie Holiday'], ['The Notorious B.I.G.'], ['Andy Williams'], ['Creed'], ['Creed'], ['Yves Montand'], ['Artie Shaw'], ['Ace Of Base'], ['The Fugees'], ['Tracy Chapman'], ['The Notorious B.I.G.'], ['Creed'], ['blink-182'], ['Thalia'], ['Dave Brubeck'], ['Restless Heart'], ['Andy Williams'], ['Scouting For Girls'], ['Fleetwood Mac'], ['Richard Marx'], ['Faster Pussycat'], ['Foo Fighters'], ['Mariah Carey'], ['Nas', 'R. Kelly'], ['Terri Clark'], ['Better Than Ezra'], ['John Williams'], ['Nas'], ['Jim Reeves'], ['Samantha Fox'], ['Yves Montand'], ['ABBA'], ['Limp Bizkit'], ['N Sync'], ['The Style Council'], ['The Notorious B.I.G.'], ['Paula Abdul'], ['The Offspring'], ['Clint Black', 'Wynonna'], ['Tom Petty & The Heartbreakers'], ['Dan Fogelberg'], ['Shania Twain'], ['Lou Reed'], ['The Wascals'], ['Sweetbox'], ['Motley Crue'], ['N Sync'], ['Sweetbox'], ['Joan Jett & The Blackhearts'], ['이수만'], ['Sweetbox'], ['Joe'], ['Neal McCoy'], ['Limp Bizkit'], ['Wes Montgomery'], ['The Shadows'], ['Doris Day'], ['Duke Ellington'], ['Expose'], ['Anuel Aa'], ['John Williams'], ['Dean Martin'], ['Vanessa Williams'], ['Earth, Wind & Fire'], ['Pitbull'], ['The Notorious B.I.G.'], ['Vanessa Williams'], ['Amy Grant'], ['Safri Duo'], ['Mariah Carey'], ['Spice Girls'], ['John Williams'], ['Ben E. King'], ['Doris Day'], ['Nas'], ['Mr.Big'], ['The Fugees'], ['Nas'], ['Journey'], ['Steve Miller Band'], ['Oscar Peterson'], ['Kenny Rogers'], ['SWV'], ['The Offspring'], ['The Notorious B.I.G.'], ['Limp Bizkit'], ['Fleetwood Mac'], ['Mr.Big'], ['Shania Twain'], ['SWV'], ['Better Than Ezra'], ['Air Supply'], ['N Sync'], ['Limp Bizkit'], ['Bruce Springsteen'], ['Xavier Cugat'], ['Peter Frampton'], ['Chet Baker'], ['Mariah Carey'], ['Guns N` Roses'], ['Scouting For Girls'], ['Nat King Cole'], ['Mose Allison'], ['Shania Twain'], ['Blood, Sweat & Tears'], ['Yves Montand'], ['Delfonics'], ['Spice Girls'], ['Will Smith'], ['Brian McKnight'], ['Guns N` Roses'], ['Kylie Minogue'], ['Sweetbox'], ['Heart'], ['Marvin Gaye and Tammi Terrell'], ['Guns N` Roses'], ['The Ink Spots'], ['The Notorious B.I.G.'], ['Limp Bizkit'], ['Bill Withers'], ['N Sync'], ['Billy Joe Royal'], ['Pitbull', 'Stereotypes'], ['Guns N` Roses'], ['Limp Bizkit'], ['Lacy J. Dalton'], ['David Gray'], ['Martina McBride'], ['Pimp Su'], ['DJ Jazzy Jeff & The Fresh Prince'], ['Chayanne'], ['A-Teens'], ['Mark Wills'], ['Creed'], ['Nas'], ['Ace Of Base'], ['The Wascals'], ['Mariah Carey'], ['Duke Ellington'], ['Al Green'], ['Jody Watley'], ['Paul Revere & The Raiders'], ['JOY'], ['The Notorious B.I.G.'], ['Nas'], ['Ramones'], ['Johnny Lee'], ['DJ Jazzy Jeff & The Fresh Prince'], ['Oscar Peterson'], ['Beth Nielsen Chapman'], ['Doris Day'], ['Oscar Peterson'], ['Safri Duo'], ['Air Supply'], ['The Ink Spots'], ['Guns N` Roses'], ['Great White'], ['Kylie Minogue'], ['Paula Abdul'], ['DJ Jazzy Jeff & The Fresh Prince'], ['Lou Reed'], ['Expose'], ['Dean Martin'], ['Ruff Endz'], ['Mariah Carey'], ['blink-182'], ['Dean Martin'], ['Motley Crue'], ['Foo Fighters'], ['Blood, Sweat & Tears'], ['Groove Armada'], ['The Notorious B.I.G.'], ['The Band'], ['John Williams'], ['The Bangles'], ['The Bangles'], ['Safri Duo'], ['Lou Rawls'], ['The Drifters'], ['Sweetbox'], ['Patty Smyth'], ['Lionel Hampton'], ['Fleetwood Mac'], ['N Sync'], ['Mr.Big'], ['Expose'], ['War'], ['Sheena Easton'], ['Limp Bizkit'], ['Ginuwine'], ['Marvin Gaye and Tammi Terrell'], ['The Offspring'], ['N Sync'], ['Paul Potts'], ['N Sync'], ['Mariah Carey'], ['Rodney Crowell'], ['Luther Vandross'], ['Bill Withers'], ['Sweetbox'], ['Bill Withers'], ['Kylie Minogue'], ['Spice Girls'], ['Billy Idol'], ['Sweetbox'], ['The Notorious B.I.G.'], ['John Berry'], ['Guns N` Roses'], ['Miami Sound Machine'], ['The Isley Brothers'], ['Mariah Carey'], ['Nat King Cole'], ['Enrique Iglesias'], ['The Isley Brothers'], ['Enrique Iglesias'], ['Joe'], ['The Ink Spots'], ['Sweetbox'], ['Lou Reed'], ['Thalia'], ['The Rembrandts'], ['N.W.A.'], ['Kenny G'], ['The Notorious B.I.G.'], ['Mitch Miller'], ['Mitch Miller'], ['blink-182'], ['Foo Fighters'], ['Guns N` Roses'], ['N Sync'], ['Big & Rich'], ['Earth, Wind & Fire'], ['Tom Petty & The Heartbreakers'], ['The Guess Who'], ['The Bangles'], ['The Bangles'], ['Sweetbox'], ['Kenny Chesney'], ['Andy Gibb'], ['Mr.Big'], ['Big & Rich'], ['The Seekers'], ['Mitch Miller'], ['Vanessa Williams'], ['Lil` Romeo'], ['Sweetbox'], ['Dido'], ['Bad English'], ['Alice In Chains'], ['Pimp Su'], ['Mr.Big'], ['Foo Fighters'], ['Styx'], ['Bobby Womack'], ['Dido'], ['Guns N` Roses'], ['The Psychedelic Furs'], ['Pitbull'], ['Neil Young'], ['Steve Miller Band'], ['N.W.A.'], ['Mariah Carey'], ['Gloria Estefan'], ['Patty Smyth'], ['Dan Fogelberg'], ['The Ink Spots'], ['Joe'], ['Enrique Iglesias'], ['Billy Idol'], ['Stroke 9'], ['Jody Watley'], ['Whodini'], ['Bjork'], ['Mariah Carey'], ['Tracy Chapman'], ['Mariah Carey'], ['Mariah Carey'], ['Paula Abdul'], ['Sweetbox'], ['Bill Withers'], ['Jody Watley'], ['Styx'], ['Jefferson Airplane'], ['Foo Fighters'], ['Johnny Rivers'], ['Earth, Wind & Fire'], ['Nas'], ['Bobby Womack'], ['Sweetbox'], ['Joe'], ['The Bangles'], ['Shania Twain'], ['Fancy'], ['Lifehouse'], ['The Ink Spots'], ['N.W.A.'], ['Expose'], ['Ruff Endz'], ['Tracy Chapman'], ['Selena'], ['Chet Baker'], ['Journey'], ['Johnny Rivers'], ['Mr.Big'], ['Terri Clark'], ['Tom Petty'], ['N.W.A.'], ['Spice Girls'], ['Guns N` Roses'], ['John Williams'], ['Marvin Gaye and Tammi Terrell'], ['Lionel Hampton'], ['blink-182'], ['이수만'], ['Pimp Su'], ['Pat Boone'], ['N Sync'], ['blink-182'], ['Better Than Ezra'], ['Mariah Carey'], ['War'], ['The Offspring'], ['Nas'], ['Earth, Wind & Fire'], ['Bill Withers'], ['Ice-T'], ['Mariah Carey'], ['Chris Connor'], ['Johnny Lee'], ['Enrique Iglesias'], ['The Ink Spots'], ['Big Pun'], ['Eurythmics'], ['Wes Montgomery'], ['The Psychedelic Furs'], ['Jascha Heifetz'], ['The Notorious B.I.G.'], ['Falco'], ['The Cure'], ['Nas'], ['Paula Abdul'], ['Steve Miller Band'], ['The Brothers Four'], ['Spice Girls'], ['The Isley Brothers'], ['John Williams'], ['Chris Norman'], ['The Offspring'], ['Eternal'], ['The Drifters'], ['Sweetbox'], ['A-Teens'], ['Earth, Wind & Fire'], ['A-Teens'], ['Dido'], ['Sweetbox'], ['Tom Petty'], ['Nas'], ['Enrique Iglesias'], ['Selena'], ['Chuck Mangione'], ['Lou Reed'], ['Paula Abdul'], ['Joe'], ['N.W.A.'], ['Air Supply'], ['Better Than Ezra'], ['Mr.Big'], ['Bobby Solo'], ['The Notorious B.I.G.'], ['Marvin Gaye and Tammi Terrell'], ['Amy Grant'], ['Fleetwood Mac'], ['Stray Cats'], ['DJ Jazzy Jeff & The Fresh Prince'], ['Wes Montgomery'], ['Richard Marx'], ['N.W.A.'], ['The Notorious B.I.G.'], ['Al Stewart'], ['Oscar Peterson'], ['Paul Potts'], ['The Rembrandts'], ['Mitch Miller'], ['Shania Twain'], ['Pat Boone'], ['Goldie Lookin` Chain'], ['A-Teens'], ['Paula Abdul'], ['Patrick Cowley'], ['Scouting For Girls'], ['John Williams'], ['Nas'], ['Nat King Cole'], ['ABBA'], ['John Williams'], ['The Ink Spots'], ['Bjork'], ['The Notorious B.I.G.'], ['Gretchen Wilson'], ['A-Teens'], ['Pitbull'], ['Guns N` Roses'], ['Social Distortion'], ['Styx'], ['Sweetbox'], ['Sweetbox'], ['blink-182'], ['Mariah Carey'], ['Ice-T'], ['Blood, Sweat & Tears'], ['Andy Williams'], ['Joe'], ['Doris Day'], ['Yves Montand'], ['Shania Twain'], ['Al Green'], ['A-Teens'], ['The Cure'], ['Mariah Carey'], ['Better Than Ezra'], ['The Notorious B.I.G.'], ['Ramones'], ['The Notorious B.I.G.'], ['SWV'], ['Mr.Big'], ['Mariah Carey'], ['Fancy'], ['Thalia'], ['Mariah Carey'], ['Bill Withers'], ['A-Teens'], ['Sweetbox'], ['Gretchen Wilson'], ['Earth, Wind & Fire'], ['Kenny Chesney'], ['Joe'], ['Limp Bizkit'], ['Fancy'], ['Guns N` Roses'], ['Brenda Russell'], ['Pitbull'], ['Earth, Wind & Fire'], ['The Style Council'], ['Billy Idol'], ['Andy Gibb'], ['Mr.Big'], ['A-Teens'], ['The Guess Who'], ['Mariah Carey'], ['Kylie Minogue'], ['The Association'], ['Fancy'], ['Limp Bizkit'], ['Mariah Carey'], ['Sweetbox'], ['Sweetbox'], ['Bruce Springsteen'], ['Steve Miller Band'], ['Faster Pussycat'], ['The Notorious B.I.G.'], ['Neil Young'], ['Pitbull'], ['Amy Grant'], ['Teena Marie'], ['N.W.A.'], ['Limp Bizkit'], ['N Sync'], ['The Ink Spots'], ['Jason Donovan'], ['The Notorious B.I.G.'], ['Creed'], ['Motley Crue'], ['Doris Day'], ['Limp Bizkit'], ['Blood, Sweat & Tears'], ['Mariah Carey'], ['Mariah Carey'], ['Kenny Chesney'], ['Sweetbox'], ['Rod Stewart'], ['Mitch Miller'], ['Ginuwine'], ['Lil` Romeo'], ['Nas'], ['Ricchi E Poveri'], ['Sheena Easton'], ['Motley Crue'], ['Jason Donovan'], ['Creed'], ['Chayanne'], ['Sweetbox'], ['Jason Donovan'], ['Scouting For Girls'], ['Blood, Sweat & Tears'], ['John Williams'], ['Paul Potts'], ['Gretchen Wilson'], ['Journey'], ['Ruben Blades'], ['MC Hammer'], ['Steve Miller Band'], ['Social Distortion'], ['David Gray'], ['Motley Crue'], ['Groove Armada'], ['The Band'], ['Highway 101'], ['Scouting For Girls'], ['Andy Gibb'], ['Rod Stewart'], ['SWV'], ['Santana'], ['Mitch Miller'], ['Pink Anderson'], ['Motley Crue'], ['Better Than Ezra'], ['Groove Armada'], ['N.W.A.'], ['Spice Girls'], ['The Fugees'], ['Sweetbox'], ['Enrique Iglesias'], ['Luther Vandross'], ['Scouting For Girls'], ['Compay Segundo'], ['Spice Girls'], ['Enrique Iglesias'], ['Pimp Su'], ['The Brothers Four'], ['Rod Stewart'], ['Mc Shy D'], ['Richard Marx'], ['Nas'], ['Terri Clark'], ['Lou Rawls'], ['DJ Jazzy Jeff & The Fresh Prince'], ['Chuck Mangione'], ['Train'], ['Billie Holiday'], ['Mariah Carey'], ['Bruce Springsteen'], ['Better Than Ezra'], ['Linda Ronstadt'], ['Linda Ronstadt'], ['Chet Baker'], ['Great White'], ['Artie Shaw'], ['Marvin Gaye and Tammi Terrell'], ['Bruce Springsteen'], ['N Sync'], ['Nas'], ['N.W.A.'], ['Pimp Su'], ['blink-182'], ['Sweetbox'], ['Neil Young'], ['Foo Fighters'], ['Mariah Carey'], ['Journey'], ['Foo Fighters'], ['Mr.Big'], ['Kenny G', 'Toni Braxton'], ['Patrick Cowley'], ['The Notorious B.I.G.'], ['이수만'], ['Clint Black'], ['John Williams'], ['MC Hammer'], ['Mose Allison'], ['Lil` Romeo'], ['John Williams'], ['Groove Armada'], ['Joe'], ['The Offspring'], ['Mr.Big'], ['Dido'], ['Earl Thomas Conley'], ['Mariah Carey'], ['A-Teens'], ['Dr. Hook'], ['Air Supply'], ['MC Hammer'], ['Mose Allison'], ['Motley Crue'], ['The Vogues'], ['Journey'], ['Better Than Ezra'], ['Sweetbox'], ['Sammy Davis Jr.'], ['The Brothers Four'], ['Bad English'], ['Sweetbox'], ['Bryan White'], ['Nas'], ['Ruff Endz'], ['Mariah Carey'], ['Rick Astley'], ['Ginuwine'], ['Richard Marx'], ['SWV'], ['Bobby Solo'], ['Little River Band'], ['Scouting For Girls'], ['Pam Tillis'], ['Thalia'], ['Scouting For Girls'], ['Shabba Ranks'], ['blink-182'], ['Foo Fighters'], ['Santana'], ['John Williams'], ['Kylie Minogue'], ['Kenny Rogers'], ['Exile'], ['Billy Idol'], ['Ruff Endz'], ['Amy Grant'], ['Santana'], ['Linda Ronstadt'], ['Sweetbox'], ['Shania Twain'], ['Yves Montand'], ['Ruff Endz'], ['Little River Band'], ['Fu-Schnickens', 'Shaquille O`neal'], ['Sweetbox'], ['Fu-Schnickens'], ['Guns N` Roses'], ['Sweetbox'], ['The Ronettes'], ['Vangelis'], ['Shania Twain'], ['The Isley Brothers'], ['The Notorious B.I.G.'], ['Dido'], ['Brenda Russell'], ['The Offspring'], ['ABBA'], ['Pitbull'], ['N.W.A.'], ['Al Green'], ['Spice Girls'], ['Spice Girls'], ['Train'], ['Stray Cats'], ['Mariah Carey'], ['Delfonics'], ['The Rembrandts'], ['Delfonics'], ['N Sync'], ['Sweetbox'], ['blink-182'], ['Marvin Gaye and Tammi Terrell'], ['Mariah Carey'], ['James Taylor'], ['Al Green'], ['Enrique Iglesias'], ['The Ink Spots'], ['Ace Of Base'], ['Dido'], ['Foo Fighters'], ['Mariah Carey'], ['Ricchi E Poveri'], ['White Lion'], ['Mariah Carey'], ['JOY'], ['The Notorious B.I.G.'], ['Joe'], ['Scouting For Girls'], ['John Williams'], ['Jefferson Airplane'], ['Scouting For Girls'], ['Creed'], ['SWV'], ['The Marshall Tucker Band'], ['Mr.Big'], ['The Offspring'], ['Sweetbox'], ['Kylie Minogue'], ['Marvin Gaye and Tammi Terrell'], ['Ruff Endz'], ['Mr.Big'], ['Billy Idol'], ['Spice Girls'], ['The Notorious B.I.G.'], ['Jascha Heifetz'], ['Creed'], ['Sheena Easton'], ['N.W.A.'], ['Blood, Sweat & Tears'], ['Nat King Cole'], ['Foo Fighters'], ['Mark Wills'], ['Mariah Carey'], ['N.W.A.'], ['Foo Fighters'], ['Guns N` Roses'], ['Nas'], ['Tracy Chapman'], ['Tanya Tucker'], ['Guns N` Roses'], ['Alabama'], ['Blood, Sweat & Tears'], ['Tom Petty'], ['The Notorious B.I.G.'], ['The Offspring'], ['Blood, Sweat & Tears'], ['Limp Bizkit'], ['N.W.A.'], ['Mariah Carey'], ['Vanessa Williams'], ['Amy Grant'], ['Albert West'], ['The Notorious B.I.G.'], ['The Notorious B.I.G.'], ['Doris Day'], ['The Notorious B.I.G.'], ['Pitbull'], ['Journey'], ['Foo Fighters'], ['Limp Bizkit'], ['Compay Segundo'], ['Neil Young'], ['Paul Potts'], ['David Gray'], ['Mr.Big'], ['Limp Bizkit'], ['Great White'], ['Tracy Chapman'], ['The Offspring'], ['The Notorious B.I.G.'], ['The Dave Brubeck Quartet'], ['Joe'], ['MC Hammer'], ['blink-182'], ['DJ Jazzy Jeff & The Fresh Prince'], ['WANNABEASTAR'], ['Spice Girls'], ['Andy Williams'], ['Pat Boone'], ['Pitbull'], ['Bruce Springsteen'], ['Heart'], ['Tom Petty'], ['Motley Crue']]\n"
     ]
    }
   ],
   "source": [
    "print(list(song_meta[song_meta['album_name']=='Greatest Hits']['artist_name_basket']))"
   ]
  },
  {
   "cell_type": "markdown",
   "metadata": {
    "tags": []
   },
   "source": [
    "> **album_name은 같아도 다른 album_id 가지고 있음**"
   ]
  },
  {
   "cell_type": "markdown",
   "metadata": {},
   "source": [
    "---"
   ]
  },
  {
   "cell_type": "code",
   "execution_count": 25,
   "metadata": {},
   "outputs": [],
   "source": [
    "from tqdm import notebook"
   ]
  },
  {
   "cell_type": "code",
   "execution_count": 26,
   "metadata": {},
   "outputs": [],
   "source": [
    "train = pd.read_json('data/train.json', encoding='utf-8-sig')"
   ]
  },
  {
   "cell_type": "code",
   "execution_count": 27,
   "metadata": {},
   "outputs": [],
   "source": [
    "meta = song_meta.copy()"
   ]
  },
  {
   "cell_type": "code",
   "execution_count": 28,
   "metadata": {},
   "outputs": [
    {
     "data": {
      "application/vnd.jupyter.widget-view+json": {
       "model_id": "4c8540adb9dc45588fa315fbc36fca60",
       "version_major": 2,
       "version_minor": 0
      },
      "text/plain": [
       "  0%|          | 0/115071 [00:00<?, ?it/s]"
      ]
     },
     "metadata": {},
     "output_type": "display_data"
    }
   ],
   "source": [
    "album_list = meta['album_id'].values\n",
    "artist_list = meta['artist_name_basket'].values\n",
    "\n",
    "# 동일 앨범의 수록곡에 대한 개수 \n",
    "e = Counter()\n",
    "\n",
    "# 동일 가수에 대한 개수(단, various Artist는 제외)\n",
    "f = Counter()\n",
    "\n",
    "# 플레이 리스트별 동일 앨범, 가수의 최대수\n",
    "album_cnt = []; singer_cnt = []; \n",
    "for i in notebook.tqdm(train['songs']):\n",
    "    c = Counter() # { song_id : cnt }\n",
    "    d = Counter() # { artist : cnt }\n",
    "    for j in i:  \n",
    "        # index와 곡의 번호가 동일\n",
    "        c.update({album_list[j]: 1}) # 앨범명\n",
    "        if artist_list[j][0] == 'Various Artists': continue\n",
    "        d.update({artist_list[j][0]: 1}) # Various Artists는 무시하고\n",
    "    \n",
    "    album_cnt.append(max(c.values()))\n",
    "    \n",
    "    # 모든 앨범의 곡이 Various Artists인 경우 \n",
    "    try: singer_cnt.append(max(d.values())) \n",
    "    except: singer_cnt.append(1)\n",
    "    \n",
    "    for k in c.values(): \n",
    "        e.update({k: 1})\n",
    "        \n",
    "    for k in d.values(): \n",
    "        f.update({k: 1})"
   ]
  },
  {
   "cell_type": "code",
   "execution_count": 29,
   "metadata": {},
   "outputs": [
    {
     "data": {
      "image/png": "[encoded data removed]",
      "text/plain": [
       "<Figure size 1440x720 with 1 Axes>"
      ]
     },
     "metadata": {
      "needs_background": "light"
     },
     "output_type": "display_data"
    }
   ],
   "source": [
    "# 1. 동일 앨범의 수록 수에 대한 데이터프레임을 완성 \n",
    "album_df = pd.DataFrame(data = np.array([list(e.keys()), list(e.values())]).T, columns=['동일 앨범의 수록 수', '전체 사용자의 갯수'])\n",
    "album_df = album_df.sort_values(by='전체 사용자의 갯수', ascending=False).reset_index(drop=True)\n",
    "\n",
    "# 2. 시각화 \n",
    "album_plot = sns.barplot(x = '동일 앨범의 수록 수', y = '전체 사용자의 갯수', data = album_df.head(20), order = album_df['동일 앨범의 수록 수'].head(20))\n",
    "album_plot.set_title('플레이 리스트 별 앨범의 수')\n",
    "album_plot.set_xlabel('앨범의 개수')\n",
    "album_plot.set_ylabel('플레이 리스트의 개수')\n",
    "plt.xticks(rotation = 0)\n",
    "plt.show()"
   ]
  },
  {
   "cell_type": "code",
   "execution_count": 30,
   "metadata": {},
   "outputs": [
    {
     "data": {
      "image/png": "[encoded data removed]",
      "text/plain": [
       "<Figure size 1440x720 with 1 Axes>"
      ]
     },
     "metadata": {
      "needs_background": "light"
     },
     "output_type": "display_data"
    }
   ],
   "source": [
    "# 1. 동일 가수의 수록 수에 대한 데이터프레임을 완성 \n",
    "singer_df = pd.DataFrame(data = np.array([list(f.keys()), list(f.values())]).T, columns=['동일 가수의 수록 수', '전체 사용자의 갯수'])\n",
    "singer_df = singer_df.sort_values(by='전체 사용자의 갯수', ascending=False).reset_index(drop=True)\n",
    "\n",
    "# 2. 시각화 \n",
    "singer_df_plot = sns.barplot(x = '동일 가수의 수록 수', y = '전체 사용자의 갯수', data = singer_df.head(20), order = singer_df['동일 가수의 수록 수'].head(20))\n",
    "singer_df_plot.set_title('플레이 리스트 별 가수의 수')\n",
    "singer_df_plot.set_xlabel('가수의 개수')\n",
    "singer_df_plot.set_ylabel('플레이 리스트의 개수')\n",
    "plt.xticks(rotation = 0)\n",
    "plt.show()"
   ]
  },
  {
   "cell_type": "markdown",
   "metadata": {},
   "source": [
    "---"
   ]
  },
  {
   "cell_type": "code",
   "execution_count": 31,
   "metadata": {
    "tags": []
   },
   "outputs": [
    {
     "name": "stdout",
     "output_type": "stream",
     "text": [
      "[GN0900]    64752\n",
      "[GN1600]    56557\n",
      "[GN1000]    52830\n",
      "[GN1100]    49710\n",
      "[GN1700]    48176\n",
      "Name: song_gn_gnr_basket, dtype: int64\n"
     ]
    }
   ],
   "source": [
    "print(song_meta['song_gn_gnr_basket'].value_counts().head())"
   ]
  },
  {
   "cell_type": "code",
   "execution_count": 32,
   "metadata": {
    "tags": []
   },
   "outputs": [
    {
     "name": "stdout",
     "output_type": "stream",
     "text": [
      "2015    65314\n",
      "2017    63008\n",
      "2018    59489\n",
      "2016    58016\n",
      "2014    54305\n",
      "Name: issue_Y, dtype: int64\n"
     ]
    }
   ],
   "source": [
    "print(song_meta['issue_Y'].value_counts().head())"
   ]
  },
  {
   "cell_type": "markdown",
   "metadata": {},
   "source": [
    "<br>"
   ]
  },
  {
   "cell_type": "code",
   "execution_count": 33,
   "metadata": {},
   "outputs": [],
   "source": [
    "# 곡 아이디(id)와 대분류 장르코드 리스트(song_gn_gnr_basket) 추출\n",
    "song_gnr_map = song_meta.loc[:, ['id', 'song_gn_gnr_basket']]\n",
    "\n",
    "# unnest song_gn_gnr_basket\n",
    "song_gnr_map_unnest = np.dstack(\n",
    "    (\n",
    "        np.repeat(song_gnr_map.id.values, list(map(len, song_gnr_map.song_gn_gnr_basket))), \n",
    "        np.concatenate(song_gnr_map.song_gn_gnr_basket.values)\n",
    "    )\n",
    ")\n",
    "\n",
    "# unnested 데이터프레임 생성 : song_gnr_map\n",
    "song_gnr_map = pd.DataFrame(data = song_gnr_map_unnest[0], columns = song_gnr_map.columns)\n",
    "song_gnr_map['id'] = song_gnr_map['id'].astype(str)\n",
    "song_gnr_map.rename(columns = {'id' : 'song_id', 'song_gn_gnr_basket' : 'gnr_code'}, inplace = True)\n",
    "\n",
    "# unnest 객체 제거\n",
    "del song_gnr_map_unnest"
   ]
  },
  {
   "cell_type": "markdown",
   "metadata": {},
   "source": [
    "### 곡 별 매핑 되는 장르 수는?"
   ]
  },
  {
   "cell_type": "code",
   "execution_count": 34,
   "metadata": {
    "ExecuteTime": {
     "end_time": "2020-04-26T23:03:51.097055Z",
     "start_time": "2020-04-26T23:03:48.067165Z"
    }
   },
   "outputs": [],
   "source": [
    "# 곡 아이디(id)와 대분류 장르코드 리스트(song_gn_gnr_basket) 추출\n",
    "song_gnr_map = song_meta.loc[:, ['id', 'song_gn_gnr_basket']]\n",
    "\n",
    "# unnest song_gn_gnr_basket\n",
    "song_gnr_map_unnest = np.dstack(\n",
    "    (\n",
    "        np.repeat(song_gnr_map.id.values, list(map(len, song_gnr_map.song_gn_gnr_basket))), \n",
    "        np.concatenate(song_gnr_map.song_gn_gnr_basket.values)\n",
    "    )\n",
    ")\n",
    "\n",
    "# unnested 데이터프레임 생성 : song_gnr_map\n",
    "song_gnr_map = pd.DataFrame(data = song_gnr_map_unnest[0], columns = song_gnr_map.columns)\n",
    "song_gnr_map['id'] = song_gnr_map['id'].astype(str)\n",
    "song_gnr_map.rename(columns = {'id' : 'song_id', 'song_gn_gnr_basket' : 'gnr_code'}, inplace = True)\n",
    "\n",
    "# unnest 객체 제거\n",
    "del song_gnr_map_unnest"
   ]
  },
  {
   "cell_type": "code",
   "execution_count": 35,
   "metadata": {
    "ExecuteTime": {
     "end_time": "2020-04-26T23:03:52.358995Z",
     "start_time": "2020-04-26T23:03:52.349514Z"
    }
   },
   "outputs": [
    {
     "data": {
      "text/html": [
       "<div>\n",
       "<style scoped>\n",
       "    .dataframe tbody tr th:only-of-type {\n",
       "        vertical-align: middle;\n",
       "    }\n",
       "\n",
       "    .dataframe tbody tr th {\n",
       "        vertical-align: top;\n",
       "    }\n",
       "\n",
       "    .dataframe thead th {\n",
       "        text-align: right;\n",
       "    }\n",
       "</style>\n",
       "<table border=\"1\" class=\"dataframe\">\n",
       "  <thead>\n",
       "    <tr style=\"text-align: right;\">\n",
       "      <th></th>\n",
       "      <th>song_id</th>\n",
       "      <th>gnr_code</th>\n",
       "    </tr>\n",
       "  </thead>\n",
       "  <tbody>\n",
       "    <tr>\n",
       "      <th>0</th>\n",
       "      <td>0</td>\n",
       "      <td>GN0900</td>\n",
       "    </tr>\n",
       "    <tr>\n",
       "      <th>1</th>\n",
       "      <td>1</td>\n",
       "      <td>GN1600</td>\n",
       "    </tr>\n",
       "    <tr>\n",
       "      <th>2</th>\n",
       "      <td>2</td>\n",
       "      <td>GN0900</td>\n",
       "    </tr>\n",
       "    <tr>\n",
       "      <th>3</th>\n",
       "      <td>3</td>\n",
       "      <td>GN1100</td>\n",
       "    </tr>\n",
       "    <tr>\n",
       "      <th>4</th>\n",
       "      <td>4</td>\n",
       "      <td>GN1800</td>\n",
       "    </tr>\n",
       "    <tr>\n",
       "      <th>...</th>\n",
       "      <td>...</td>\n",
       "      <td>...</td>\n",
       "    </tr>\n",
       "    <tr>\n",
       "      <th>802854</th>\n",
       "      <td>707984</td>\n",
       "      <td>GN2000</td>\n",
       "    </tr>\n",
       "    <tr>\n",
       "      <th>802855</th>\n",
       "      <td>707985</td>\n",
       "      <td>GN0900</td>\n",
       "    </tr>\n",
       "    <tr>\n",
       "      <th>802856</th>\n",
       "      <td>707986</td>\n",
       "      <td>GN0100</td>\n",
       "    </tr>\n",
       "    <tr>\n",
       "      <th>802857</th>\n",
       "      <td>707987</td>\n",
       "      <td>GN1800</td>\n",
       "    </tr>\n",
       "    <tr>\n",
       "      <th>802858</th>\n",
       "      <td>707988</td>\n",
       "      <td>GN0600</td>\n",
       "    </tr>\n",
       "  </tbody>\n",
       "</table>\n",
       "<p>802859 rows × 2 columns</p>\n",
       "</div>"
      ],
      "text/plain": [
       "       song_id gnr_code\n",
       "0            0   GN0900\n",
       "1            1   GN1600\n",
       "2            2   GN0900\n",
       "3            3   GN1100\n",
       "4            4   GN1800\n",
       "...        ...      ...\n",
       "802854  707984   GN2000\n",
       "802855  707985   GN0900\n",
       "802856  707986   GN0100\n",
       "802857  707987   GN1800\n",
       "802858  707988   GN0600\n",
       "\n",
       "[802859 rows x 2 columns]"
      ]
     },
     "execution_count": 35,
     "metadata": {},
     "output_type": "execute_result"
    }
   ],
   "source": [
    "song_gnr_map"
   ]
  },
  {
   "cell_type": "code",
   "execution_count": 36,
   "metadata": {
    "ExecuteTime": {
     "end_time": "2020-04-26T23:03:59.204173Z",
     "start_time": "2020-04-26T23:03:57.651570Z"
    }
   },
   "outputs": [
    {
     "data": {
      "text/html": [
       "<div>\n",
       "<style scoped>\n",
       "    .dataframe tbody tr th:only-of-type {\n",
       "        vertical-align: middle;\n",
       "    }\n",
       "\n",
       "    .dataframe tbody tr th {\n",
       "        vertical-align: top;\n",
       "    }\n",
       "\n",
       "    .dataframe thead th {\n",
       "        text-align: right;\n",
       "    }\n",
       "</style>\n",
       "<table border=\"1\" class=\"dataframe\">\n",
       "  <thead>\n",
       "    <tr style=\"text-align: right;\">\n",
       "      <th></th>\n",
       "      <th>장르 수</th>\n",
       "      <th>매핑된 곡 수</th>\n",
       "      <th>비율(%)</th>\n",
       "    </tr>\n",
       "  </thead>\n",
       "  <tbody>\n",
       "    <tr>\n",
       "      <th>0</th>\n",
       "      <td>1</td>\n",
       "      <td>612806</td>\n",
       "      <td>86.69</td>\n",
       "    </tr>\n",
       "    <tr>\n",
       "      <th>1</th>\n",
       "      <td>2</td>\n",
       "      <td>92378</td>\n",
       "      <td>13.07</td>\n",
       "    </tr>\n",
       "    <tr>\n",
       "      <th>2</th>\n",
       "      <td>3</td>\n",
       "      <td>1694</td>\n",
       "      <td>0.24</td>\n",
       "    </tr>\n",
       "    <tr>\n",
       "      <th>3</th>\n",
       "      <td>4</td>\n",
       "      <td>48</td>\n",
       "      <td>0.01</td>\n",
       "    </tr>\n",
       "    <tr>\n",
       "      <th>4</th>\n",
       "      <td>5</td>\n",
       "      <td>1</td>\n",
       "      <td>0.00</td>\n",
       "    </tr>\n",
       "    <tr>\n",
       "      <th>5</th>\n",
       "      <td>6</td>\n",
       "      <td>3</td>\n",
       "      <td>0.00</td>\n",
       "    </tr>\n",
       "  </tbody>\n",
       "</table>\n",
       "</div>"
      ],
      "text/plain": [
       "   장르 수  매핑된 곡 수  비율(%)\n",
       "0     1   612806  86.69\n",
       "1     2    92378  13.07\n",
       "2     3     1694   0.24\n",
       "3     4       48   0.01\n",
       "4     5        1   0.00\n",
       "5     6        3   0.00"
      ]
     },
     "execution_count": 36,
     "metadata": {},
     "output_type": "execute_result"
    }
   ],
   "source": [
    "# 1. 곡 별 장르 개수 count 테이블 생성 : song_gnr_count\n",
    "song_gnr_count = song_gnr_map.groupby('song_id').gnr_code.nunique().reset_index(name = 'mapping_gnr_cnt')\n",
    "\n",
    "# 2. 1번에서 생성한 테이블을 가지고 매핑된 장르 개수 별 곡 수 count 테이블 생성 : gnr_song_count\n",
    "gnr_song_count = song_gnr_count.groupby('mapping_gnr_cnt').song_id.nunique().reset_index(name = '매핑된 곡 수')\n",
    "\n",
    "# 3. 2번 테이블에 비율 값 추가\n",
    "gnr_song_count.loc[:, '비율(%)'] = round(gnr_song_count['매핑된 곡 수']/sum(gnr_song_count['매핑된 곡 수'])*100, 2)\n",
    "gnr_song_count = gnr_song_count.reset_index().rename(columns = {'mapping_gnr_cnt' : '장르 수'})\n",
    "gnr_song_count[['장르 수', '매핑된 곡 수', '비율(%)']]"
   ]
  },
  {
   "cell_type": "markdown",
   "metadata": {},
   "source": [
    "- **대부분의 곡들은 한 개의 대분류 장르와 매핑**되어 있습니다.\n",
    "- 전체 곡의 약 13%는 2개 이상의 대분류 장르를 가지며 아래 임의 예시입니다."
   ]
  },
  {
   "cell_type": "code",
   "execution_count": 37,
   "metadata": {
    "ExecuteTime": {
     "end_time": "2020-04-26T23:04:37.486190Z",
     "start_time": "2020-04-26T23:04:37.471486Z"
    }
   },
   "outputs": [
    {
     "data": {
      "text/html": [
       "<div>\n",
       "<style scoped>\n",
       "    .dataframe tbody tr th:only-of-type {\n",
       "        vertical-align: middle;\n",
       "    }\n",
       "\n",
       "    .dataframe tbody tr th {\n",
       "        vertical-align: top;\n",
       "    }\n",
       "\n",
       "    .dataframe thead th {\n",
       "        text-align: right;\n",
       "    }\n",
       "</style>\n",
       "<table border=\"1\" class=\"dataframe\">\n",
       "  <thead>\n",
       "    <tr style=\"text-align: right;\">\n",
       "      <th></th>\n",
       "      <th>song_gn_dtl_gnr_basket</th>\n",
       "      <th>issue_date</th>\n",
       "      <th>album_name</th>\n",
       "      <th>album_id</th>\n",
       "      <th>artist_id_basket</th>\n",
       "      <th>song_name</th>\n",
       "      <th>song_gn_gnr_basket</th>\n",
       "      <th>artist_name_basket</th>\n",
       "      <th>id</th>\n",
       "      <th>issue_Y</th>\n",
       "      <th>issue_m</th>\n",
       "      <th>issue_d</th>\n",
       "    </tr>\n",
       "  </thead>\n",
       "  <tbody>\n",
       "    <tr>\n",
       "      <th>456506</th>\n",
       "      <td>[GN0403, GN0101, GN1501, GN1504]</td>\n",
       "      <td>20060731</td>\n",
       "      <td>오버 더 레인보우 OST</td>\n",
       "      <td>321962</td>\n",
       "      <td>NaN</td>\n",
       "      <td>그리운 건 어쩔 수 없어</td>\n",
       "      <td>[GN0400, GN1500, GN0100]</td>\n",
       "      <td>[환희]</td>\n",
       "      <td>456506</td>\n",
       "      <td>2006</td>\n",
       "      <td>07</td>\n",
       "      <td>31</td>\n",
       "    </tr>\n",
       "  </tbody>\n",
       "</table>\n",
       "</div>"
      ],
      "text/plain": [
       "                  song_gn_dtl_gnr_basket issue_date     album_name  album_id  \\\n",
       "456506  [GN0403, GN0101, GN1501, GN1504]   20060731  오버 더 레인보우 OST    321962   \n",
       "\n",
       "        artist_id_basket      song_name        song_gn_gnr_basket  \\\n",
       "456506               NaN  그리운 건 어쩔 수 없어  [GN0400, GN1500, GN0100]   \n",
       "\n",
       "       artist_name_basket      id issue_Y issue_m issue_d  \n",
       "456506               [환희]  456506    2006      07      31  "
      ]
     },
     "execution_count": 37,
     "metadata": {},
     "output_type": "execute_result"
    }
   ],
   "source": [
    "#song_gnr_count[song_gnr_count['mapping_gnr_cnt'] >= 2]\n",
    "song_meta[song_meta['id'] == 456506] "
   ]
  },
  {
   "cell_type": "markdown",
   "metadata": {},
   "source": [
    "<br>"
   ]
  },
  {
   "cell_type": "markdown",
   "metadata": {},
   "source": [
    "### 가장 많이 매핑 되는 장르는?"
   ]
  },
  {
   "cell_type": "code",
   "execution_count": 38,
   "metadata": {
    "ExecuteTime": {
     "end_time": "2020-04-26T23:04:46.254514Z",
     "start_time": "2020-04-26T23:04:45.071903Z"
    }
   },
   "outputs": [
    {
     "data": {
      "image/png": "[encoded data removed]",
      "text/plain": [
       "<Figure size 1440x720 with 1 Axes>"
      ]
     },
     "metadata": {
      "needs_background": "light"
     },
     "output_type": "display_data"
    }
   ],
   "source": [
    "# 1. 장르 별 곡 수 count 테이블 생성 : gnr_count\n",
    "gnr_count = song_gnr_map.groupby('gnr_code').song_id.nunique().reset_index(name = 'song_cnt')\n",
    "\n",
    "# 2. 1번 테이블과 장르 meta와 join\n",
    "gnr_count = pd.merge(gnr_count, gnr_code.loc[:, ['gnr_code', 'gnr_name']], how = 'left', on = 'gnr_code')\n",
    "gnr_count['gnr_code_name'] = gnr_count['gnr_code'] + ' (' + gnr_count['gnr_name'] + ')'\n",
    "\n",
    "# 3. 매핑이 되지 않은 일부 곡들은 제거\n",
    "gnr_count = gnr_count[['gnr_code_name', 'song_cnt']].dropna()\n",
    "\n",
    "# 4. 많은 곡이 매핑된 순 기준으로 내림차순 리스트 생성\n",
    "gnr_list_desc = gnr_count.sort_values('song_cnt', ascending = False).gnr_code_name\n",
    "\n",
    "# 5. plotting\n",
    "gnr_code_name_plot = sns.barplot(x = 'gnr_code_name', y = 'song_cnt', data = gnr_count, order = gnr_list_desc)\n",
    "gnr_code_name_plot.set_title('장르 별 매핑된 곡 수 분포')\n",
    "gnr_code_name_plot.set_xlabel('대분류 장르코드')\n",
    "gnr_code_name_plot.set_ylabel('곡 수')\n",
    "plt.xticks(rotation = 90)\n",
    "plt.show()"
   ]
  },
  {
   "cell_type": "markdown",
   "metadata": {},
   "source": [
    "- **POP 장르(`GN0900`)의 곡 비중이 가장 높았고**, 국악, 뮤지컬, 뮤직테라피, 종교음악 등의 장르 비중은 1% 미만의 비중을 보입니다.\n",
    "- 아이돌 아티스트 관련 장르인 아이돌 장르(`GN2500`)와 댄스 장르(`GN0200`) 비중도 비교적 낮게 나타나는 점이 보입니다."
   ]
  },
  {
   "cell_type": "markdown",
   "metadata": {},
   "source": [
    "<br>"
   ]
  },
  {
   "cell_type": "markdown",
   "metadata": {},
   "source": [
    "---"
   ]
  },
  {
   "cell_type": "markdown",
   "metadata": {},
   "source": [
    "### 발매 년도 별 곡 비중은?"
   ]
  },
  {
   "cell_type": "code",
   "execution_count": 39,
   "metadata": {
    "ExecuteTime": {
     "end_time": "2020-04-26T23:05:27.233402Z",
     "start_time": "2020-04-26T23:05:24.744509Z"
    }
   },
   "outputs": [
    {
     "name": "stdout",
     "output_type": "stream",
     "text": [
      "2015    65314\n",
      "2017    63008\n",
      "2018    59489\n",
      "2016    58016\n",
      "2014    54305\n",
      "Name: issue_Y, dtype: int64\n"
     ]
    },
    {
     "data": {
      "image/png": "[encoded data removed]",
      "text/plain": [
       "<Figure size 1440x720 with 1 Axes>"
      ]
     },
     "metadata": {
      "needs_background": "light"
     },
     "output_type": "display_data"
    }
   ],
   "source": [
    "print(song_meta['issue_Y'].value_counts().head())\n",
    "# 1. 곡 아이디(id)와 발매일자(issue_date) 추출\n",
    "song_issue_date = song_meta[['id', 'issue_date']]\n",
    "song_issue_date['issue_date'] = song_issue_date['issue_date'].astype(str)\n",
    "\n",
    "# 2. issue_date의 앞자리 네 자리를 추출하여 발매년도(issue_Y) 변수 생성\n",
    "song_issue_date['issue_Y'] = song_issue_date['issue_date'].str[0:4]\n",
    "song_issue_date.rename(columns = {'id' : 'song_id'}, inplace = True)\n",
    "song_issue_date['song_id'] = song_issue_date['song_id'].astype(str)\n",
    "# song_issue_date['']\n",
    "\n",
    "# 3. 1990년도~ 필터링\n",
    "song_issue_date_filter = song_issue_date[song_issue_date.issue_Y >= '1990']\n",
    "\n",
    "# 4. 발매년도 별 곡 수 count 테이블 생성 : issue_Y_song_cnt\n",
    "issue_Y_song_cnt = song_issue_date_filter.groupby('issue_Y').song_id.nunique().reset_index(name = 'song_cnt')\n",
    "\n",
    "# 5. plotting\n",
    "issue_Y_song_cnt_plot = sns.barplot(x = 'issue_Y', y = 'song_cnt', data = issue_Y_song_cnt, color = 'grey')\n",
    "issue_Y_song_cnt_plot.set_title('발매년도 별 곡 수 추이 (1990년~)')\n",
    "issue_Y_song_cnt_plot.set_xlabel('발매년도')\n",
    "issue_Y_song_cnt_plot.set_ylabel('곡 수')\n",
    "plt.xticks(rotation = 45)\n",
    "plt.show()"
   ]
  },
  {
   "cell_type": "markdown",
   "metadata": {},
   "source": [
    "- 1990년 이후로 각 곡들의 발매년도 별 곡의 비중을 확인해본 결과 **2014~2019년도에 발매된 곡의 비중**이 높았습니다.  \n",
    "  (실제 전체 메타 풀에서 약 50% 정도의 비중을 보임)"
   ]
  },
  {
   "cell_type": "markdown",
   "metadata": {},
   "source": [
    "<br><br><br>"
   ]
  },
  {
   "cell_type": "markdown",
   "metadata": {},
   "source": [
    "## 3. 학습 데이터 : `train.json`"
   ]
  },
  {
   "cell_type": "markdown",
   "metadata": {},
   "source": [
    "### 데이터 불러오기"
   ]
  },
  {
   "cell_type": "code",
   "execution_count": 40,
   "metadata": {},
   "outputs": [
    {
     "ename": "ValueError",
     "evalue": "Unexpected character found when decoding 'true'",
     "output_type": "error",
     "traceback": [
      "\u001b[1;31m---------------------------------------------------------------------------\u001b[0m",
      "\u001b[1;31mValueError\u001b[0m                                Traceback (most recent call last)",
      "\u001b[1;32m<ipython-input-40-93c8d27c3c8e>\u001b[0m in \u001b[0;36m<module>\u001b[1;34m\u001b[0m\n\u001b[1;32m----> 1\u001b[1;33m \u001b[0mtrain\u001b[0m \u001b[1;33m=\u001b[0m \u001b[0mpd\u001b[0m\u001b[1;33m.\u001b[0m\u001b[0mread_json\u001b[0m\u001b[1;33m(\u001b[0m\u001b[1;34m'train.json'\u001b[0m\u001b[1;33m,\u001b[0m \u001b[0mtyp\u001b[0m \u001b[1;33m=\u001b[0m \u001b[1;34m'frame'\u001b[0m\u001b[1;33m)\u001b[0m\u001b[1;33m\u001b[0m\u001b[1;33m\u001b[0m\u001b[0m\n\u001b[0m",
      "\u001b[1;32m~\\anaconda3\\lib\\site-packages\\pandas\\util\\_decorators.py\u001b[0m in \u001b[0;36mwrapper\u001b[1;34m(*args, **kwargs)\u001b[0m\n\u001b[0;32m    205\u001b[0m                 \u001b[1;32melse\u001b[0m\u001b[1;33m:\u001b[0m\u001b[1;33m\u001b[0m\u001b[1;33m\u001b[0m\u001b[0m\n\u001b[0;32m    206\u001b[0m                     \u001b[0mkwargs\u001b[0m\u001b[1;33m[\u001b[0m\u001b[0mnew_arg_name\u001b[0m\u001b[1;33m]\u001b[0m \u001b[1;33m=\u001b[0m \u001b[0mnew_arg_value\u001b[0m\u001b[1;33m\u001b[0m\u001b[1;33m\u001b[0m\u001b[0m\n\u001b[1;32m--> 207\u001b[1;33m             \u001b[1;32mreturn\u001b[0m \u001b[0mfunc\u001b[0m\u001b[1;33m(\u001b[0m\u001b[1;33m*\u001b[0m\u001b[0margs\u001b[0m\u001b[1;33m,\u001b[0m \u001b[1;33m**\u001b[0m\u001b[0mkwargs\u001b[0m\u001b[1;33m)\u001b[0m\u001b[1;33m\u001b[0m\u001b[1;33m\u001b[0m\u001b[0m\n\u001b[0m\u001b[0;32m    208\u001b[0m \u001b[1;33m\u001b[0m\u001b[0m\n\u001b[0;32m    209\u001b[0m         \u001b[1;32mreturn\u001b[0m \u001b[0mcast\u001b[0m\u001b[1;33m(\u001b[0m\u001b[0mF\u001b[0m\u001b[1;33m,\u001b[0m \u001b[0mwrapper\u001b[0m\u001b[1;33m)\u001b[0m\u001b[1;33m\u001b[0m\u001b[1;33m\u001b[0m\u001b[0m\n",
      "\u001b[1;32m~\\anaconda3\\lib\\site-packages\\pandas\\util\\_decorators.py\u001b[0m in \u001b[0;36mwrapper\u001b[1;34m(*args, **kwargs)\u001b[0m\n\u001b[0;32m    309\u001b[0m                     \u001b[0mstacklevel\u001b[0m\u001b[1;33m=\u001b[0m\u001b[0mstacklevel\u001b[0m\u001b[1;33m,\u001b[0m\u001b[1;33m\u001b[0m\u001b[1;33m\u001b[0m\u001b[0m\n\u001b[0;32m    310\u001b[0m                 )\n\u001b[1;32m--> 311\u001b[1;33m             \u001b[1;32mreturn\u001b[0m \u001b[0mfunc\u001b[0m\u001b[1;33m(\u001b[0m\u001b[1;33m*\u001b[0m\u001b[0margs\u001b[0m\u001b[1;33m,\u001b[0m \u001b[1;33m**\u001b[0m\u001b[0mkwargs\u001b[0m\u001b[1;33m)\u001b[0m\u001b[1;33m\u001b[0m\u001b[1;33m\u001b[0m\u001b[0m\n\u001b[0m\u001b[0;32m    312\u001b[0m \u001b[1;33m\u001b[0m\u001b[0m\n\u001b[0;32m    313\u001b[0m         \u001b[1;32mreturn\u001b[0m \u001b[0mwrapper\u001b[0m\u001b[1;33m\u001b[0m\u001b[1;33m\u001b[0m\u001b[0m\n",
      "\u001b[1;32m~\\anaconda3\\lib\\site-packages\\pandas\\io\\json\\_json.py\u001b[0m in \u001b[0;36mread_json\u001b[1;34m(path_or_buf, orient, typ, dtype, convert_axes, convert_dates, keep_default_dates, numpy, precise_float, date_unit, encoding, encoding_errors, lines, chunksize, compression, nrows, storage_options)\u001b[0m\n\u001b[0;32m    612\u001b[0m \u001b[1;33m\u001b[0m\u001b[0m\n\u001b[0;32m    613\u001b[0m     \u001b[1;32mwith\u001b[0m \u001b[0mjson_reader\u001b[0m\u001b[1;33m:\u001b[0m\u001b[1;33m\u001b[0m\u001b[1;33m\u001b[0m\u001b[0m\n\u001b[1;32m--> 614\u001b[1;33m         \u001b[1;32mreturn\u001b[0m \u001b[0mjson_reader\u001b[0m\u001b[1;33m.\u001b[0m\u001b[0mread\u001b[0m\u001b[1;33m(\u001b[0m\u001b[1;33m)\u001b[0m\u001b[1;33m\u001b[0m\u001b[1;33m\u001b[0m\u001b[0m\n\u001b[0m\u001b[0;32m    615\u001b[0m \u001b[1;33m\u001b[0m\u001b[0m\n\u001b[0;32m    616\u001b[0m \u001b[1;33m\u001b[0m\u001b[0m\n",
      "\u001b[1;32m~\\anaconda3\\lib\\site-packages\\pandas\\io\\json\\_json.py\u001b[0m in \u001b[0;36mread\u001b[1;34m(self)\u001b[0m\n\u001b[0;32m    746\u001b[0m                 \u001b[0mobj\u001b[0m \u001b[1;33m=\u001b[0m \u001b[0mself\u001b[0m\u001b[1;33m.\u001b[0m\u001b[0m_get_object_parser\u001b[0m\u001b[1;33m(\u001b[0m\u001b[0mself\u001b[0m\u001b[1;33m.\u001b[0m\u001b[0m_combine_lines\u001b[0m\u001b[1;33m(\u001b[0m\u001b[0mdata_lines\u001b[0m\u001b[1;33m)\u001b[0m\u001b[1;33m)\u001b[0m\u001b[1;33m\u001b[0m\u001b[1;33m\u001b[0m\u001b[0m\n\u001b[0;32m    747\u001b[0m         \u001b[1;32melse\u001b[0m\u001b[1;33m:\u001b[0m\u001b[1;33m\u001b[0m\u001b[1;33m\u001b[0m\u001b[0m\n\u001b[1;32m--> 748\u001b[1;33m             \u001b[0mobj\u001b[0m \u001b[1;33m=\u001b[0m \u001b[0mself\u001b[0m\u001b[1;33m.\u001b[0m\u001b[0m_get_object_parser\u001b[0m\u001b[1;33m(\u001b[0m\u001b[0mself\u001b[0m\u001b[1;33m.\u001b[0m\u001b[0mdata\u001b[0m\u001b[1;33m)\u001b[0m\u001b[1;33m\u001b[0m\u001b[1;33m\u001b[0m\u001b[0m\n\u001b[0m\u001b[0;32m    749\u001b[0m         \u001b[0mself\u001b[0m\u001b[1;33m.\u001b[0m\u001b[0mclose\u001b[0m\u001b[1;33m(\u001b[0m\u001b[1;33m)\u001b[0m\u001b[1;33m\u001b[0m\u001b[1;33m\u001b[0m\u001b[0m\n\u001b[0;32m    750\u001b[0m         \u001b[1;32mreturn\u001b[0m \u001b[0mobj\u001b[0m\u001b[1;33m\u001b[0m\u001b[1;33m\u001b[0m\u001b[0m\n",
      "\u001b[1;32m~\\anaconda3\\lib\\site-packages\\pandas\\io\\json\\_json.py\u001b[0m in \u001b[0;36m_get_object_parser\u001b[1;34m(self, json)\u001b[0m\n\u001b[0;32m    768\u001b[0m         \u001b[0mobj\u001b[0m \u001b[1;33m=\u001b[0m \u001b[1;32mNone\u001b[0m\u001b[1;33m\u001b[0m\u001b[1;33m\u001b[0m\u001b[0m\n\u001b[0;32m    769\u001b[0m         \u001b[1;32mif\u001b[0m \u001b[0mtyp\u001b[0m \u001b[1;33m==\u001b[0m \u001b[1;34m\"frame\"\u001b[0m\u001b[1;33m:\u001b[0m\u001b[1;33m\u001b[0m\u001b[1;33m\u001b[0m\u001b[0m\n\u001b[1;32m--> 770\u001b[1;33m             \u001b[0mobj\u001b[0m \u001b[1;33m=\u001b[0m \u001b[0mFrameParser\u001b[0m\u001b[1;33m(\u001b[0m\u001b[0mjson\u001b[0m\u001b[1;33m,\u001b[0m \u001b[1;33m**\u001b[0m\u001b[0mkwargs\u001b[0m\u001b[1;33m)\u001b[0m\u001b[1;33m.\u001b[0m\u001b[0mparse\u001b[0m\u001b[1;33m(\u001b[0m\u001b[1;33m)\u001b[0m\u001b[1;33m\u001b[0m\u001b[1;33m\u001b[0m\u001b[0m\n\u001b[0m\u001b[0;32m    771\u001b[0m \u001b[1;33m\u001b[0m\u001b[0m\n\u001b[0;32m    772\u001b[0m         \u001b[1;32mif\u001b[0m \u001b[0mtyp\u001b[0m \u001b[1;33m==\u001b[0m \u001b[1;34m\"series\"\u001b[0m \u001b[1;32mor\u001b[0m \u001b[0mobj\u001b[0m \u001b[1;32mis\u001b[0m \u001b[1;32mNone\u001b[0m\u001b[1;33m:\u001b[0m\u001b[1;33m\u001b[0m\u001b[1;33m\u001b[0m\u001b[0m\n",
      "\u001b[1;32m~\\anaconda3\\lib\\site-packages\\pandas\\io\\json\\_json.py\u001b[0m in \u001b[0;36mparse\u001b[1;34m(self)\u001b[0m\n\u001b[0;32m    883\u001b[0m \u001b[1;33m\u001b[0m\u001b[0m\n\u001b[0;32m    884\u001b[0m         \u001b[1;32melse\u001b[0m\u001b[1;33m:\u001b[0m\u001b[1;33m\u001b[0m\u001b[1;33m\u001b[0m\u001b[0m\n\u001b[1;32m--> 885\u001b[1;33m             \u001b[0mself\u001b[0m\u001b[1;33m.\u001b[0m\u001b[0m_parse_no_numpy\u001b[0m\u001b[1;33m(\u001b[0m\u001b[1;33m)\u001b[0m\u001b[1;33m\u001b[0m\u001b[1;33m\u001b[0m\u001b[0m\n\u001b[0m\u001b[0;32m    886\u001b[0m \u001b[1;33m\u001b[0m\u001b[0m\n\u001b[0;32m    887\u001b[0m         \u001b[1;32mif\u001b[0m \u001b[0mself\u001b[0m\u001b[1;33m.\u001b[0m\u001b[0mobj\u001b[0m \u001b[1;32mis\u001b[0m \u001b[1;32mNone\u001b[0m\u001b[1;33m:\u001b[0m\u001b[1;33m\u001b[0m\u001b[1;33m\u001b[0m\u001b[0m\n",
      "\u001b[1;32m~\\anaconda3\\lib\\site-packages\\pandas\\io\\json\\_json.py\u001b[0m in \u001b[0;36m_parse_no_numpy\u001b[1;34m(self)\u001b[0m\n\u001b[0;32m   1138\u001b[0m         \u001b[1;32mif\u001b[0m \u001b[0morient\u001b[0m \u001b[1;33m==\u001b[0m \u001b[1;34m\"columns\"\u001b[0m\u001b[1;33m:\u001b[0m\u001b[1;33m\u001b[0m\u001b[1;33m\u001b[0m\u001b[0m\n\u001b[0;32m   1139\u001b[0m             self.obj = DataFrame(\n\u001b[1;32m-> 1140\u001b[1;33m                 \u001b[0mloads\u001b[0m\u001b[1;33m(\u001b[0m\u001b[0mjson\u001b[0m\u001b[1;33m,\u001b[0m \u001b[0mprecise_float\u001b[0m\u001b[1;33m=\u001b[0m\u001b[0mself\u001b[0m\u001b[1;33m.\u001b[0m\u001b[0mprecise_float\u001b[0m\u001b[1;33m)\u001b[0m\u001b[1;33m,\u001b[0m \u001b[0mdtype\u001b[0m\u001b[1;33m=\u001b[0m\u001b[1;32mNone\u001b[0m\u001b[1;33m\u001b[0m\u001b[1;33m\u001b[0m\u001b[0m\n\u001b[0m\u001b[0;32m   1141\u001b[0m             )\n\u001b[0;32m   1142\u001b[0m         \u001b[1;32melif\u001b[0m \u001b[0morient\u001b[0m \u001b[1;33m==\u001b[0m \u001b[1;34m\"split\"\u001b[0m\u001b[1;33m:\u001b[0m\u001b[1;33m\u001b[0m\u001b[1;33m\u001b[0m\u001b[0m\n",
      "\u001b[1;31mValueError\u001b[0m: Unexpected character found when decoding 'true'"
     ]
    }
   ],
   "source": [
    "train = pd.read_json('train.json', typ = 'frame')"
   ]
  },
  {
   "cell_type": "code",
   "execution_count": null,
   "metadata": {
    "ExecuteTime": {
     "end_time": "2020-04-26T23:05:45.717239Z",
     "start_time": "2020-04-26T23:05:45.691335Z"
    }
   },
   "outputs": [],
   "source": [
    "train.head(2)"
   ]
  },
  {
   "cell_type": "code",
   "execution_count": null,
   "metadata": {
    "ExecuteTime": {
     "end_time": "2020-04-26T10:46:36.429262Z",
     "start_time": "2020-04-26T10:46:36.361687Z"
    }
   },
   "outputs": [],
   "source": [
    "train.info()"
   ]
  },
  {
   "cell_type": "markdown",
   "metadata": {},
   "source": [
    "- 학습 데이터에는 **총 115,071개 플레이리스트 정보가 담겨져 있으며** 포함하는 값은 아래와 같습니다.\n",
    "  + `tags` : 플레이리스트에 매핑된 태그\n",
    "  + `id` : 플레이리스트 아이디\n",
    "  + `plylst_title` : 플레이리스트 명\n",
    "  + `songs` : 플레이리스트 내 수록된 곡 아이디\n",
    "  + `like_cnt` : 플레이리스트 좋아요 횟수\n",
    "  + `updt_date` : 플레이리스트 업데이트 일시"
   ]
  },
  {
   "cell_type": "code",
   "execution_count": null,
   "metadata": {},
   "outputs": [],
   "source": [
    "# train['tags_str'] = train['tags'].map(lambda x : \" \".join(x))\n",
    "# train.head(2)"
   ]
  },
  {
   "cell_type": "code",
   "execution_count": null,
   "metadata": {},
   "outputs": [],
   "source": [
    "top3000df = train.sort_values('like_cnt',ascending = False).head(3000)"
   ]
  },
  {
   "cell_type": "code",
   "execution_count": null,
   "metadata": {},
   "outputs": [],
   "source": [
    "top3000_tag_list = np.concatenate( top3000df['tags'].values )\n",
    "pd.Series(top3000_tag_list).value_counts().head(10)"
   ]
  },
  {
   "cell_type": "code",
   "execution_count": null,
   "metadata": {
    "ExecuteTime": {
     "end_time": "2020-04-26T23:06:03.467113Z",
     "start_time": "2020-04-26T23:05:53.911081Z"
    }
   },
   "outputs": [],
   "source": [
    "# 플레이리스트 아이디(id)와 수록곡(songs) 추출\n",
    "plylst_song_map = train[['id', 'songs']]\n",
    "\n",
    "# unnest songs\n",
    "plylst_song_map_unnest = np.dstack(\n",
    "    (\n",
    "        np.repeat(plylst_song_map.id.values, list(map(len, plylst_song_map.songs))), \n",
    "        np.concatenate(plylst_song_map.songs.values)\n",
    "    )\n",
    ")\n",
    "\n",
    "# unnested 데이터프레임 생성 : plylst_song_map\n",
    "plylst_song_map = pd.DataFrame(data = plylst_song_map_unnest[0], columns = plylst_song_map.columns)\n",
    "plylst_song_map['id'] = plylst_song_map['id'].astype(str)\n",
    "plylst_song_map['songs'] = plylst_song_map['songs'].astype(str)\n",
    "\n",
    "# unnest 객체 제거\n",
    "del plylst_song_map_unnest"
   ]
  },
  {
   "cell_type": "code",
   "execution_count": null,
   "metadata": {
    "ExecuteTime": {
     "end_time": "2020-04-26T23:06:03.481135Z",
     "start_time": "2020-04-26T23:06:03.469401Z"
    }
   },
   "outputs": [],
   "source": [
    "plylst_song_map"
   ]
  },
  {
   "cell_type": "code",
   "execution_count": null,
   "metadata": {
    "ExecuteTime": {
     "end_time": "2020-04-26T23:06:04.915352Z",
     "start_time": "2020-04-26T23:06:03.863235Z"
    }
   },
   "outputs": [],
   "source": [
    "# 플레이리스트 아이디(id)와 매핑된 태그(tags) 추출\n",
    "plylst_tag_map = train[['id', 'tags']]\n",
    "\n",
    "# unnest tags\n",
    "plylst_tag_map_unnest = np.dstack(\n",
    "    (\n",
    "        np.repeat(plylst_tag_map.id.values, list(map(len, plylst_tag_map.tags))), \n",
    "        np.concatenate(plylst_tag_map.tags.values)\n",
    "    )\n",
    ")\n",
    "\n",
    "# unnested 데이터프레임 생성 : plylst_tag_map\n",
    "plylst_tag_map = pd.DataFrame(data = plylst_tag_map_unnest[0], columns = plylst_tag_map.columns)\n",
    "plylst_tag_map['id'] = plylst_tag_map['id'].astype(str)\n",
    "\n",
    "# unnest 객체 제거\n",
    "del plylst_tag_map_unnest"
   ]
  },
  {
   "cell_type": "code",
   "execution_count": null,
   "metadata": {
    "ExecuteTime": {
     "end_time": "2020-04-26T23:06:06.397077Z",
     "start_time": "2020-04-26T23:06:06.387772Z"
    }
   },
   "outputs": [],
   "source": [
    "plylst_tag_map"
   ]
  },
  {
   "cell_type": "code",
   "execution_count": null,
   "metadata": {
    "ExecuteTime": {
     "end_time": "2020-04-26T23:06:07.167691Z",
     "start_time": "2020-04-26T23:06:06.398573Z"
    }
   },
   "outputs": [],
   "source": [
    "train_uniq_song_cnt = plylst_song_map.songs.nunique() # 유니크 곡 수\n",
    "train_uniq_tag_cnt = plylst_tag_map.tags.nunique() # 유니크 태그 수\n",
    "\n",
    "print('곡 수 : %s' %train_uniq_song_cnt)\n",
    "print('태그 수 : %s' %train_uniq_tag_cnt)"
   ]
  },
  {
   "cell_type": "markdown",
   "metadata": {},
   "source": [
    "<br>"
   ]
  },
  {
   "cell_type": "markdown",
   "metadata": {},
   "source": [
    "### 플레이리스트 별 곡/태그/장르 수 분포는?"
   ]
  },
  {
   "cell_type": "markdown",
   "metadata": {},
   "source": [
    "#### 수록곡 "
   ]
  },
  {
   "cell_type": "code",
   "execution_count": null,
   "metadata": {
    "ExecuteTime": {
     "end_time": "2020-04-26T23:06:28.550307Z",
     "start_time": "2020-04-26T23:06:23.962698Z"
    }
   },
   "outputs": [],
   "source": [
    "# 1. 플레이리스트 별 수록곡 수 count 테이블 생성 : plylst_song_cnt\n",
    "plylst_song_cnt = pd.DataFrame(plylst_song_map.groupby('id').songs.nunique())\n",
    "\n",
    "# 2-1. grid setting\n",
    "grid_list = [i*2 for i in range(1, 101)]\n",
    "\n",
    "# 2-2. plotting\n",
    "plt.hist(plylst_song_cnt['songs'], grid_list, color = \"lightgrey\", edgecolor = \"black\")\n",
    "plt.show()"
   ]
  },
  {
   "cell_type": "code",
   "execution_count": null,
   "metadata": {
    "ExecuteTime": {
     "end_time": "2020-04-26T23:06:28.574444Z",
     "start_time": "2020-04-26T23:06:28.551910Z"
    }
   },
   "outputs": [],
   "source": [
    "round(plylst_song_cnt.describe().loc[['min', '25%', '50%', 'mean', '75%', 'max', 'std']].transpose(), 2)"
   ]
  },
  {
   "cell_type": "markdown",
   "metadata": {},
   "source": [
    "- 플레이리스트 별 수록된 곡 수의 분포를 확인해본 결과 **평균 약 46개**(중앙값 30개)**의 곡이 수록**되어 있으며 최대 200곡의 수록곡을 포함한 플레이리스트가 존재합니다."
   ]
  },
  {
   "cell_type": "markdown",
   "metadata": {},
   "source": [
    "###### 중앙값30개\n",
    "---"
   ]
  },
  {
   "cell_type": "markdown",
   "metadata": {},
   "source": [
    "#### 태그"
   ]
  },
  {
   "cell_type": "code",
   "execution_count": null,
   "metadata": {
    "ExecuteTime": {
     "end_time": "2020-04-26T23:06:29.200943Z",
     "start_time": "2020-04-26T23:06:28.576167Z"
    }
   },
   "outputs": [],
   "source": [
    "# 1. 플레이리스트 별 매핑 태그 수 count 테이블 생성 : plylst_tag_cnt\n",
    "plylst_tag_cnt = pd.DataFrame(plylst_tag_map.groupby('id').tags.nunique())\n",
    "\n",
    "# 2. plotting\n",
    "plt.hist(plylst_tag_cnt['tags'], range(1, 12), color = \"lightgrey\", edgecolor = \"black\")\n",
    "plt.show()"
   ]
  },
  {
   "cell_type": "code",
   "execution_count": null,
   "metadata": {
    "ExecuteTime": {
     "end_time": "2020-04-26T23:06:29.223585Z",
     "start_time": "2020-04-26T23:06:29.202500Z"
    }
   },
   "outputs": [],
   "source": [
    "round(plylst_tag_cnt.describe().loc[['min', '25%', '50%', 'mean', '75%', 'max', 'std']].transpose(), 2)"
   ]
  },
  {
   "cell_type": "markdown",
   "metadata": {},
   "source": [
    "- 플레이리스트 당 **태그는 평균 약 4.1개**(중앙값 3개)**가 포함**되어 있으며 가장 많은 태그 수는 11개 입니다."
   ]
  },
  {
   "cell_type": "markdown",
   "metadata": {},
   "source": [
    "#### 장르"
   ]
  },
  {
   "cell_type": "code",
   "execution_count": null,
   "metadata": {
    "ExecuteTime": {
     "end_time": "2020-04-26T23:06:41.097155Z",
     "start_time": "2020-04-26T23:06:29.224981Z"
    }
   },
   "outputs": [],
   "source": [
    "# 1-1. join 목적으로 곡 아이디 integer to string 변환\n",
    "plylst_song_map['songs'] = plylst_song_map['songs'].astype(str)\n",
    "\n",
    "# 1-2. 플레이리스트-곡 테이블 plylst_song_map + 곡-장르 테이블 song_gnr_map join\n",
    "plylst_song_gnr_map = pd.merge(plylst_song_map, song_gnr_map, how = 'left', left_on = 'songs', right_on = 'song_id')\n",
    "\n",
    "# 2. 플레이리스트 별 곡 장르 수 count 테이블 생성 : plylst_song_gnr_cnt\n",
    "plylst_song_gnr_cnt = pd.DataFrame(plylst_song_gnr_map.groupby('id').gnr_code.nunique())\n",
    "\n",
    "# 3. plotting\n",
    "plt.hist(plylst_song_gnr_cnt['gnr_code'], range(0, 31), color = \"lightgrey\", edgecolor = \"black\")\n",
    "plt.show()"
   ]
  },
  {
   "cell_type": "code",
   "execution_count": null,
   "metadata": {
    "ExecuteTime": {
     "end_time": "2020-04-26T23:06:41.121171Z",
     "start_time": "2020-04-26T23:06:41.098915Z"
    }
   },
   "outputs": [],
   "source": [
    "round(plylst_song_gnr_cnt.describe().loc[['min', '25%', '50%', 'mean', '75%', 'max', 'std']].transpose(), 2)"
   ]
  },
  {
   "cell_type": "markdown",
   "metadata": {},
   "source": [
    "- 플레이리스트에 수록된 곡에서 대분류 장르 수 분포를 확인해본 결과 플레이리스트 당 **평균 6.6개**(중앙값 6개)**의 장르를 포함**하고 있습니다. "
   ]
  },
  {
   "cell_type": "markdown",
   "metadata": {},
   "source": [
    "<br>"
   ]
  },
  {
   "cell_type": "markdown",
   "metadata": {},
   "source": [
    "### 곡/태그/플레이리스트명 중복 비율은?"
   ]
  },
  {
   "cell_type": "markdown",
   "metadata": {},
   "source": [
    "#### 중복 수록 곡 비중"
   ]
  },
  {
   "cell_type": "code",
   "execution_count": null,
   "metadata": {
    "ExecuteTime": {
     "end_time": "2020-04-26T23:07:20.692703Z",
     "start_time": "2020-04-26T23:07:16.526694Z"
    }
   },
   "outputs": [],
   "source": [
    "# 1. 곡 별 수록된 플레이리스트 개수 count 테이블 생성 : song_plylst_cnt\n",
    "song_plylst_cnt = plylst_song_map.groupby('songs').id.nunique().reset_index(name = 'mapping_plylst_cnt')\n",
    "\n",
    "# 2. 단일/중복 수록 구분 : 곡 별 수록된 플레이리스트가 한 개면 '단일 수록', 두 개 이상이면 '중복 수록'\n",
    "song_plylst_cnt = song_plylst_cnt.assign(\n",
    "    mapping_plylst_cnt_category = pd.cut(song_plylst_cnt['mapping_plylst_cnt'], [0, 1, np.inf], labels = ['단일 수록', '중복 수록'])\n",
    ")\n",
    "\n",
    "# 3. 단일/중복 수록 구분 별 곡 수 count 테이블 생성 : song_plylst_mapping_division\n",
    "song_plylst_mapping_division = pd.DataFrame(song_plylst_cnt.groupby('mapping_plylst_cnt_category').count())\n",
    "\n",
    "# 4. 3번 테이블에 비율 값 추가\n",
    "song_plylst_mapping_division.rename(columns = {'songs' : '곡 수'}, inplace = True)\n",
    "song_plylst_mapping_division.loc[:, '비율(%)'] = round(song_plylst_mapping_division['곡 수']/sum(song_plylst_mapping_division['곡 수'])*100, 2)\n",
    "song_plylst_mapping_division = song_plylst_mapping_division.reset_index().rename(columns = {'mapping_plylst_cnt_category' : '중복 수록 여부'})\n",
    "song_plylst_mapping_division[['중복 수록 여부', '곡 수', '비율(%)']]"
   ]
  },
  {
   "cell_type": "markdown",
   "metadata": {},
   "source": [
    "- **수록 곡의 약 51%는 두 개 이상의 플레이리스트에 중복 수록**된 곡 입니다."
   ]
  },
  {
   "cell_type": "markdown",
   "metadata": {},
   "source": [
    "#### 아래는 중복 수록 곡 중 많이 수록된 횟수 기준 상위 30곡 입니다."
   ]
  },
  {
   "cell_type": "code",
   "execution_count": null,
   "metadata": {
    "ExecuteTime": {
     "end_time": "2020-04-26T23:07:54.447311Z",
     "start_time": "2020-04-26T23:07:52.738061Z"
    }
   },
   "outputs": [],
   "source": [
    "# 1. song_plylst_cnt 테이블에서 중복 수록 곡 중 수록 횟수 기준 상위 30곡 필터링 테이블 생성 : duplicate_song_top30\n",
    "duplicate_song_top30 = song_plylst_cnt[song_plylst_cnt['mapping_plylst_cnt_category'] == '중복 수록'].nlargest(30, 'mapping_plylst_cnt')\n",
    "\n",
    "# 2-1. join 목적으로 곡 아이디 integer to string 변환\n",
    "duplicate_song_top30['songs'] = duplicate_song_top30['songs'].astype(str)\n",
    "song_meta['id'] = song_meta['id'].astype(str)\n",
    "\n",
    "# 2-2 상위 30곡 테이블 duplicate_song_top30 + 곡 메타 song_meta join\n",
    "(\n",
    "    pd.merge(duplicate_song_top30, song_meta[['id', 'song_name', 'artist_name_basket']],\n",
    "             how = 'left', left_on = 'songs', right_on = 'id')\n",
    "    [['songs', 'song_name', 'artist_name_basket', 'mapping_plylst_cnt']]\n",
    "    .rename(columns = {'songs' : '곡 아이디', 'song_name' : '곡 명', 'artist_name_basket' : '아티스트 명', 'mapping_plylst_cnt' : '수록 횟수'})\n",
    ")"
   ]
  },
  {
   "cell_type": "markdown",
   "metadata": {},
   "source": [
    "#### 아래는 단일 수록 곡 중 가장 많은 곡이 수록된 장르 상위 30개 입니다."
   ]
  },
  {
   "cell_type": "code",
   "execution_count": null,
   "metadata": {
    "ExecuteTime": {
     "end_time": "2020-04-26T23:08:07.362242Z",
     "start_time": "2020-04-26T23:08:05.498877Z"
    }
   },
   "outputs": [],
   "source": [
    "# 1. song_plylst_cnt 테이블에서 단일 수록 곡만 필터링 하여 테이블 생성 : single_song\n",
    "single_song = song_plylst_cnt[song_plylst_cnt['mapping_plylst_cnt_category'] == '단일 수록']\n",
    "\n",
    "# 2-1. join 목적으로 곡 아이디 integer to string 변환\n",
    "single_song['songs'] = single_song['songs'].astype(str)\n",
    "\n",
    "# 2-2. 단일 수록 곡 테이블 single_song + 곡 메타 song_meta join : 아티스트 기준 single_song_artist, 장르 기준 single_song_gnr\n",
    "single_song_artist = pd.merge(single_song, song_meta[['id', 'song_name', 'artist_name_basket']], how = 'left', left_on = 'songs', right_on = 'id')\n",
    "single_song_gnr = pd.merge(single_song, song_gnr_map, how = 'left', left_on = 'songs', right_on = 'song_id')\n",
    "\n",
    "# 3. 수록 곡 개수 기준 상위 30개 장르 : single_song_gnr_cnt\n",
    "single_song_gnr_cnt = single_song_gnr.groupby('gnr_code').songs.nunique().reset_index(name = 'song_cnt')\n",
    "(\n",
    "    pd.merge(single_song_gnr_cnt, genre_gn_all, how = 'left', on = 'gnr_code')[['gnr_code', 'gnr_name', 'song_cnt']]\n",
    "    .rename(columns = {'gnr_code' : '대분류 장르코드', 'gnr_name' : '장르명', 'song_cnt' : '수록 곡 수'})\n",
    "    .sort_values('수록 곡 수', ascending = False)\n",
    ")"
   ]
  },
  {
   "cell_type": "markdown",
   "metadata": {},
   "source": [
    "<br>"
   ]
  },
  {
   "cell_type": "markdown",
   "metadata": {},
   "source": [
    "#### 중복 매핑 태그 비중"
   ]
  },
  {
   "cell_type": "code",
   "execution_count": null,
   "metadata": {
    "ExecuteTime": {
     "end_time": "2020-04-26T23:08:38.150136Z",
     "start_time": "2020-04-26T23:08:37.892796Z"
    }
   },
   "outputs": [],
   "source": [
    "# 1. 태그 별 수록된 플레이리스트 개수 count 테이블 생성 : tag_plylst_cnt\n",
    "tag_plylst_cnt = plylst_tag_map.groupby('tags').id.nunique().reset_index(name = 'mapping_plylst_cnt')\n",
    "\n",
    "# 2. 단일/중복 매핑 구분 : 태그 별 매핑된 플레이리스트가 한 개면 '단일 매핑', 두 개 이상이면 '중복 매핑'\n",
    "tag_plylst_cnt = tag_plylst_cnt.assign(\n",
    "    mapping_plylst_cnt_category = pd.cut(tag_plylst_cnt['mapping_plylst_cnt'], [0, 1, np.inf], labels = ['단일 매핑', '중복 매핑'])\n",
    ")\n",
    "\n",
    "# 3. 단일/중복 매핑 구분 별 태그 수 count 테이블 생성 : tag_plylst_mapping_division\n",
    "tag_plylst_mapping_division = pd.DataFrame(tag_plylst_cnt.groupby('mapping_plylst_cnt_category').count())\n",
    "\n",
    "# 4. 3번 테이블에 비율 값 추가\n",
    "tag_plylst_mapping_division.rename(columns = {'tags' : '태그 수'}, inplace = True)\n",
    "tag_plylst_mapping_division.loc[:, '비율(%)'] = round(tag_plylst_mapping_division['태그 수']/sum(tag_plylst_mapping_division['태그 수'])*100, 2)\n",
    "tag_plylst_mapping_division = tag_plylst_mapping_division.reset_index().rename(columns = {'mapping_plylst_cnt_category' : '중복 매핑 여부'})\n",
    "tag_plylst_mapping_division[['중복 매핑 여부', '태그 수', '비율(%)']]"
   ]
  },
  {
   "cell_type": "markdown",
   "metadata": {},
   "source": [
    "- 태그의 매핑 중복 비율을 확인해본 결과 **전체 대비 약 40.2%는 두 개 이상 플레이리스트에 매핑된 태그**이며  \n",
    "  한 개 플레이리스트에만 매핑된 태그는 과반 이상의 비중을 차지합니다."
   ]
  },
  {
   "cell_type": "markdown",
   "metadata": {},
   "source": [
    "<br>"
   ]
  },
  {
   "cell_type": "markdown",
   "metadata": {},
   "source": [
    "#### 플레이리스트명 중복 비중"
   ]
  },
  {
   "cell_type": "code",
   "execution_count": null,
   "metadata": {
    "ExecuteTime": {
     "end_time": "2020-04-26T23:08:44.559454Z",
     "start_time": "2020-04-26T23:08:44.243693Z"
    }
   },
   "outputs": [],
   "source": [
    "# 1. 플레이리스트 아이디(id)와 플레이리스트 명(plylst_title) 추출\n",
    "plylst_title = train[['id', 'plylst_title']]\n",
    "\n",
    "# 2. 플레이리스트 이름 별 플레이리스트 ID count 테이블 생성 : plylst_id_cnt\n",
    "plylst_id_cnt = plylst_title.groupby('plylst_title').id.nunique().reset_index(name = 'mapping_plylst_cnt')\n",
    "\n",
    "# 3. 플레이리스트 명 중복 구분 : 서로 다른 플레이리스트 아이디로 겹치는 플레이리스트 이름이 없으면 '중복 없음', 그 외 '중복 있음'\n",
    "plylst_id_cnt = plylst_id_cnt.assign(\n",
    "    mapping_plylst_cnt_category = pd.cut(plylst_id_cnt['mapping_plylst_cnt'], [0, 1, np.inf], labels = ['중복 없음', '중복 있음'])\n",
    ")\n",
    "\n",
    "# 4. 중복 구분 별 플레이리스트 수 count 테이블 생성 : plylst_id_cnt_division\n",
    "plylst_id_cnt_division = pd.DataFrame(plylst_id_cnt.groupby('mapping_plylst_cnt_category').count())\n",
    "\n",
    "# 5. 4번 테이블에 비율 값 추가\n",
    "plylst_id_cnt_division.rename(columns = {'mapping_plylst_cnt' : '플레이리스트 아이디 수'}, inplace = True)\n",
    "plylst_id_cnt_division.loc[:, '비율(%)'] = round(plylst_id_cnt_division['플레이리스트 아이디 수']/sum(plylst_id_cnt_division['플레이리스트 아이디 수'])*100, 2)\n",
    "plylst_id_cnt_division = plylst_id_cnt_division.reset_index().rename(columns = {'mapping_plylst_cnt_category' : '중복 이름 여부'})\n",
    "plylst_id_cnt_division.loc[:, ['중복 이름 여부', '플레이리스트 아이디 수', '비율(%)']]"
   ]
  },
  {
   "cell_type": "markdown",
   "metadata": {},
   "source": [
    "- 또한 **플레이리스트 아이디는 다르지만 같은 이름을 갖는 플레이리스트도 전체 대비 약 2% 정도**로 소수 존재 합니다.\n",
    "- 이러한 플레이리스트들은 대부분 곡 수와 태그 수도 비슷한 편이 많았습니다. "
   ]
  },
  {
   "cell_type": "markdown",
   "metadata": {},
   "source": [
    "<br>"
   ]
  },
  {
   "cell_type": "markdown",
   "metadata": {},
   "source": [
    "### 많은 빈도를 보이는 태그는?"
   ]
  },
  {
   "cell_type": "code",
   "execution_count": null,
   "metadata": {
    "ExecuteTime": {
     "end_time": "2020-04-26T23:08:49.641702Z",
     "start_time": "2020-04-26T23:08:48.966705Z"
    }
   },
   "outputs": [],
   "source": [
    "# 태그 별 매핑 빈도 수 저장 \n",
    "tag_cnt = plylst_tag_map.groupby('tags').tags.count().reset_index(name = 'mapping_cnt')\n",
    "tag_cnt['tags'] = tag_cnt['tags'].astype(str)\n",
    "tag_cnt['mapping_cnt'] = tag_cnt['mapping_cnt'].astype(int)\n",
    "\n",
    "# 빈도 수가 1000회 이상인 태그만 저장\n",
    "tag_cnt = tag_cnt[tag_cnt['mapping_cnt'] >= 1000]\n",
    "word_count = list(zip(tag_cnt['tags'], tag_cnt['mapping_cnt']))\n",
    "\n",
    "# plotting\n",
    "wc = WordCloud(font_path = font_path, background_color = 'white', max_words = 100, width = 450, height = 450)\n",
    "wc.generate_from_frequencies(dict(word_count)).to_image()"
   ]
  },
  {
   "cell_type": "markdown",
   "metadata": {},
   "source": [
    "- 매핑 기준 상위 1,000번 이상 매핑된 태그를 살펴본 결과 **기분전환 태그명이 가장 높은 비중을 차지**하고 있으며  \n",
    "  여름/가을/겨울 등 계절이나 드라이브, 카페, 매장음악 등 특정 상황과 어울리는 태그 등이 상위권에 분포되어 있습니다.\n",
    "- 발라드, 힙합, 팝, 인디, 락, 댄스, 뉴에이지 등 **장르와 관련된 태그도 일부 상위권**에 속합니다."
   ]
  },
  {
   "cell_type": "markdown",
   "metadata": {},
   "source": [
    "<br>"
   ]
  },
  {
   "cell_type": "code",
   "execution_count": null,
   "metadata": {
    "ExecuteTime": {
     "end_time": "2020-04-26T23:09:06.170054Z",
     "start_time": "2020-04-26T23:08:52.915631Z"
    }
   },
   "outputs": [],
   "source": [
    "# 1. unnest 데이터프레임인 plylst_tag_map 테이블에서 태그 이름 정렬 후 list로 묶기\n",
    "plylst_tag_list_sort = plylst_tag_map.sort_values(by = ['id', 'tags']).groupby('id').tags.apply(list).reset_index(name = 'tag_list')\n",
    "\n",
    "# 2. 집계를 위해 1번 테이블에서 list 타입을 문자열 타입으로 변경\n",
    "plylst_tag_list_sort['tag_list'] = plylst_tag_list_sort['tag_list'].astype(str)\n",
    "\n",
    "# 3. 태그 리스트 별 매핑되는 플레이리스트 수 집계 테이블 생성 : tag_list_plylst_cnt\n",
    "tag_list_plylst_cnt = plylst_tag_list_sort.groupby('tag_list').id.nunique().reset_index(name = 'plylst_cnt')\n",
    "\n",
    "# 4. 매핑 수 기준 상위 50개 필터링\n",
    "tag_list_plylst_cnt = tag_list_plylst_cnt.nlargest(50, 'plylst_cnt')\n",
    "\n",
    "# 5. plotting\n",
    "plt.figure(figsize = (11, 15))\n",
    "tag_list_plylst_cnt_plot = sns.barplot(y = 'tag_list', x = 'plylst_cnt', data = tag_list_plylst_cnt, color = 'grey')\n",
    "tag_list_plylst_cnt_plot.set_title('매핑된 태그 리스트 상위 50개')\n",
    "tag_list_plylst_cnt_plot.set_xlabel('매핑된 플레이리스트 수')\n",
    "tag_list_plylst_cnt_plot.set_ylabel('태그 리스트')\n",
    "plt.show()"
   ]
  },
  {
   "cell_type": "markdown",
   "metadata": {},
   "source": [
    "- 플레이리스트에 매핑된 태그 리스트를 기준으로 매핑 기준 상위 50개를 확인해본 결과  \n",
    "  **다른 태그와 조합 없는 장르 관련 태그가 상위권을 차지**하고 있으며, 발라드 단일 태그가 가장 많았습니다.\n",
    "- **이 밖에 가장 빈도가 높았던 기분전환 태그명은 휴식, 힐링 뿐만 아니라 스트레스, 드라이브, 사랑, 설렘 등 다양한 태그와 같이 조합을 이루는 케이스가 많았습니다.**"
   ]
  },
  {
   "cell_type": "markdown",
   "metadata": {},
   "source": [
    "<br>"
   ]
  },
  {
   "cell_type": "markdown",
   "metadata": {},
   "source": [
    "### 플레이리스트 태그 별 어떤 곡들이 수록되었을까?"
   ]
  },
  {
   "cell_type": "code",
   "execution_count": null,
   "metadata": {
    "ExecuteTime": {
     "end_time": "2020-04-26T23:09:37.788760Z",
     "start_time": "2020-04-26T23:09:06.171816Z"
    }
   },
   "outputs": [],
   "source": [
    "# 1. 플레이리스트-곡 테이블 plylst_song_map + 플레이리스트-태그 테이블 plylst_tag_map join 테이블 생성 : plylst_song_tag_map\n",
    "plylst_song_tag_map = pd.merge(plylst_song_map, plylst_tag_map, how = 'left', on = 'id')\n",
    "\n",
    "# 2. 1번 테이블 plylst_song_tag_map + 곡 장르 테이블 song_gnr_map join\n",
    "plylst_song_tag_map = pd.merge(plylst_song_tag_map, song_gnr_map, how = 'left', left_on = 'songs', right_on = 'song_id')\n",
    "\n",
    "# 3. 2번 테이블에서 장르 메타 join\n",
    "gnr_code['gnr_code_name'] = gnr_code['gnr_code'] + ' (' + gnr_code['gnr_name'] + ')'\n",
    "gnr_code = gnr_code[['gnr_code', 'gnr_code_name']]\n",
    "plylst_song_tag_map = pd.merge(plylst_song_tag_map, gnr_code, how = 'left', on = 'gnr_code')\n",
    "\n",
    "# 4. 최종 테이블 필드 선택\n",
    "plylst_song_tag_map = plylst_song_tag_map[['id', 'songs', 'tags', 'gnr_code_name']]"
   ]
  },
  {
   "cell_type": "code",
   "execution_count": null,
   "metadata": {
    "ExecuteTime": {
     "end_time": "2020-04-26T23:09:45.068942Z",
     "start_time": "2020-04-26T23:09:37.791231Z"
    }
   },
   "outputs": [],
   "source": [
    "# 태그 = ['드라이브', '스트레스', '기분전환']\n",
    "song_tag_map_sample_1 = plylst_song_tag_map.loc[plylst_song_tag_map.tags.isin(['드라이브', '스트레스', '기분전환']), :]\n",
    "# 태그 = ['밤', '새벽', '잔잔한']\n",
    "song_tag_map_sample_2 = plylst_song_tag_map.loc[plylst_song_tag_map.tags.isin(['밤', '새벽', '잔잔한']), :]\n",
    "# 태그 = ['사랑', '설렘']\n",
    "song_tag_map_sample_3 = plylst_song_tag_map.loc[plylst_song_tag_map.tags.isin(['사랑', '설렘']), :]\n",
    "# 태그 = ['추억', '회상']\n",
    "song_tag_map_sample_4 = plylst_song_tag_map.loc[plylst_song_tag_map.tags.isin(['추억', '회상']), :]\n",
    "# 태그 = ['슬픔', '이별']\n",
    "song_tag_map_sample_5 = plylst_song_tag_map.loc[plylst_song_tag_map.tags.isin(['슬픔', '이별']), :]\n",
    "# 태그 = ['휴식', '힐링']\n",
    "song_tag_map_sample_6 = plylst_song_tag_map.loc[plylst_song_tag_map.tags.isin(['휴식', '힐링']), :]\n",
    "# 태그 = ['휴식', '힐링']\n",
    "song_tag_map_sample_7 = plylst_song_tag_map.loc[plylst_song_tag_map.tags.isin(['카페', '매장음악']), :]"
   ]
  },
  {
   "cell_type": "code",
   "execution_count": null,
   "metadata": {
    "ExecuteTime": {
     "end_time": "2020-04-26T23:09:48.757462Z",
     "start_time": "2020-04-26T23:09:45.070767Z"
    }
   },
   "outputs": [],
   "source": [
    "# 각 샘플 태그 리스트 별 장르 비율 집계\n",
    "song_tag_map_sample_1_gnr_rank = song_tag_map_sample_1.groupby('gnr_code_name').songs.nunique().reset_index(name = 'song_cnt')\n",
    "song_tag_map_sample_1_gnr_rank.loc[:, 'song_cnt_ratio'] = round(song_tag_map_sample_1_gnr_rank['song_cnt']/sum(song_tag_map_sample_1_gnr_rank['song_cnt'])*100, 2)\n",
    "song_tag_map_sample_1_gnr_rank['gnr_rank'] = song_tag_map_sample_1_gnr_rank['song_cnt_ratio'].rank(ascending = False)\n",
    "song_tag_map_sample_1_gnr_rank['tag_list'] = '드라이브, 스트레스, 기분전환'\n",
    "song_tag_map_sample_1_gnr_rank.rename(columns = {'gnr_code_name' : '장르', 'song_cnt' : '곡 수', 'song_cnt_ratio' : '비율(%)', 'gnr_rank' : '순위', 'tag_list' : '태그 리스트'}, inplace = True)\n",
    "\n",
    "song_tag_map_sample_2_gnr_rank = song_tag_map_sample_2.groupby('gnr_code_name').songs.nunique().reset_index(name = 'song_cnt')\n",
    "song_tag_map_sample_2_gnr_rank.loc[:, 'song_cnt_ratio'] = round(song_tag_map_sample_2_gnr_rank['song_cnt']/sum(song_tag_map_sample_2_gnr_rank['song_cnt'])*100, 2)\n",
    "song_tag_map_sample_2_gnr_rank['gnr_rank'] = song_tag_map_sample_2_gnr_rank['song_cnt_ratio'].rank(ascending = False)\n",
    "song_tag_map_sample_2_gnr_rank['tag_list'] = '밤, 새벽, 잔잔한'\n",
    "song_tag_map_sample_2_gnr_rank.rename(columns = {'gnr_code_name' : '장르', 'song_cnt' : '곡 수', 'song_cnt_ratio' : '비율(%)', 'gnr_rank' : '순위', 'tag_list' : '태그 리스트'}, inplace = True)\n",
    "\n",
    "song_tag_map_sample_3_gnr_rank = song_tag_map_sample_3.groupby('gnr_code_name').songs.nunique().reset_index(name = 'song_cnt')\n",
    "song_tag_map_sample_3_gnr_rank.loc[:, 'song_cnt_ratio'] = round(song_tag_map_sample_3_gnr_rank['song_cnt']/sum(song_tag_map_sample_3_gnr_rank['song_cnt'])*100, 2)\n",
    "song_tag_map_sample_3_gnr_rank['gnr_rank'] = song_tag_map_sample_3_gnr_rank['song_cnt_ratio'].rank(ascending = False)\n",
    "song_tag_map_sample_3_gnr_rank['tag_list'] = '사랑, 설렘'\n",
    "song_tag_map_sample_3_gnr_rank.rename(columns = {'gnr_code_name' : '장르', 'song_cnt' : '곡 수', 'song_cnt_ratio' : '비율(%)', 'gnr_rank' : '순위', 'tag_list' : '태그 리스트'}, inplace = True)\n",
    "\n",
    "song_tag_map_sample_4_gnr_rank = song_tag_map_sample_4.groupby('gnr_code_name').songs.nunique().reset_index(name = 'song_cnt')\n",
    "song_tag_map_sample_4_gnr_rank.loc[:, 'song_cnt_ratio'] = round(song_tag_map_sample_4_gnr_rank['song_cnt']/sum(song_tag_map_sample_4_gnr_rank['song_cnt'])*100, 2)\n",
    "song_tag_map_sample_4_gnr_rank['gnr_rank'] = song_tag_map_sample_4_gnr_rank['song_cnt_ratio'].rank(ascending = False)\n",
    "song_tag_map_sample_4_gnr_rank['tag_list'] = '추억, 회상'\n",
    "song_tag_map_sample_4_gnr_rank.rename(columns = {'gnr_code_name' : '장르', 'song_cnt' : '곡 수', 'song_cnt_ratio' : '비율(%)', 'gnr_rank' : '순위', 'tag_list' : '태그 리스트'}, inplace = True)\n",
    "\n",
    "song_tag_map_sample_5_gnr_rank = song_tag_map_sample_5.groupby('gnr_code_name').songs.nunique().reset_index(name = 'song_cnt')\n",
    "song_tag_map_sample_5_gnr_rank.loc[:, 'song_cnt_ratio'] = round(song_tag_map_sample_5_gnr_rank['song_cnt']/sum(song_tag_map_sample_5_gnr_rank['song_cnt'])*100, 2)\n",
    "song_tag_map_sample_5_gnr_rank['gnr_rank'] = song_tag_map_sample_5_gnr_rank['song_cnt_ratio'].rank(ascending = False)\n",
    "song_tag_map_sample_5_gnr_rank['tag_list'] = '슬픔, 이별'\n",
    "song_tag_map_sample_5_gnr_rank.rename(columns = {'gnr_code_name' : '장르', 'song_cnt' : '곡 수', 'song_cnt_ratio' : '비율(%)', 'gnr_rank' : '순위', 'tag_list' : '태그 리스트'}, inplace = True)\n",
    "\n",
    "song_tag_map_sample_6_gnr_rank = song_tag_map_sample_6.groupby('gnr_code_name').songs.nunique().reset_index(name = 'song_cnt')\n",
    "song_tag_map_sample_6_gnr_rank.loc[:, 'song_cnt_ratio'] = round(song_tag_map_sample_6_gnr_rank['song_cnt']/sum(song_tag_map_sample_6_gnr_rank['song_cnt'])*100, 2)\n",
    "song_tag_map_sample_6_gnr_rank['gnr_rank'] = song_tag_map_sample_6_gnr_rank['song_cnt_ratio'].rank(ascending = False)\n",
    "song_tag_map_sample_6_gnr_rank['tag_list'] = '휴식, 힐링'\n",
    "song_tag_map_sample_6_gnr_rank.rename(columns = {'gnr_code_name' : '장르', 'song_cnt' : '곡 수', 'song_cnt_ratio' : '비율(%)', 'gnr_rank' : '순위', 'tag_list' : '태그 리스트'}, inplace = True)\n",
    "\n",
    "song_tag_map_sample_7_gnr_rank = song_tag_map_sample_7.groupby('gnr_code_name').songs.nunique().reset_index(name = 'song_cnt')\n",
    "song_tag_map_sample_7_gnr_rank.loc[:, 'song_cnt_ratio'] = round(song_tag_map_sample_7_gnr_rank['song_cnt']/sum(song_tag_map_sample_7_gnr_rank['song_cnt'])*100, 2)\n",
    "song_tag_map_sample_7_gnr_rank['gnr_rank'] = song_tag_map_sample_7_gnr_rank['song_cnt_ratio'].rank(ascending = False)\n",
    "song_tag_map_sample_7_gnr_rank['tag_list'] = '카페, 매장음악'\n",
    "song_tag_map_sample_7_gnr_rank.rename(columns = {'gnr_code_name' : '장르', 'song_cnt' : '곡 수', 'song_cnt_ratio' : '비율(%)', 'gnr_rank' : '순위', 'tag_list' : '태그 리스트'}, inplace = True)\n",
    "\n",
    "# delete object\n",
    "del song_tag_map_sample_1, song_tag_map_sample_2, song_tag_map_sample_3, song_tag_map_sample_4, song_tag_map_sample_5, song_tag_map_sample_6, song_tag_map_sample_7\n",
    "\n",
    "# row binding\n",
    "song_tag_map_sample_rbind = pd.concat(\n",
    "    [song_tag_map_sample_1_gnr_rank, song_tag_map_sample_2_gnr_rank, song_tag_map_sample_3_gnr_rank,\n",
    "     song_tag_map_sample_4_gnr_rank, song_tag_map_sample_5_gnr_rank, song_tag_map_sample_6_gnr_rank,\n",
    "     song_tag_map_sample_7_gnr_rank],\n",
    "    axis = 0\n",
    ")\n",
    "\n",
    "# plotting\n",
    "song_tag_map_sample_rbind_plot = sns.barplot(\n",
    "    data = song_tag_map_sample_rbind.loc[song_tag_map_sample_rbind['순위'] <= 5, :].sort_values(by = '순위'),\n",
    "    x = '태그 리스트', y = '비율(%)', hue = '장르', edgecolor = \"black\"\n",
    ")\n",
    "song_tag_map_sample_rbind_plot.set_title('각 태그 리스트 별 상위 장르 TOP 5 비교')\n",
    "song_tag_map_sample_rbind_plot.set_xlabel('태그 리스트')\n",
    "song_tag_map_sample_rbind_plot.set_ylabel('곡 비율 (%)')\n",
    "plt.show()"
   ]
  },
  {
   "cell_type": "markdown",
   "metadata": {},
   "source": [
    "- **드라이브, 스트레스, 기분전환 태그가 매핑된 플레이리스트**와 **카페, 매장음악 태그가 매핑된 플레이리스트**에서는 **팝(GN0900) 장르와 일렉(GN1100)장르가 많았습니다.**\n",
    "- **이 밖에 대부분 태그에서 발라드(GN0100) 곡 비중이 가장 높았으며** 슬픔, 이별 태그가 매핑된 플레이리스트에서는 발라드 비중이 가장 높았습니다.\n",
    "- 밤, 새벽, 잔잔한, 휴식, 힐링 등의 태그가 있는 플레이리스트에서는 발라드 다음으로 팝 장르 비중이 높았습니다.\n",
    "- **추억, 회상 태그가 매핑된 플레이리스트에서는 OST 비중이 발라드 다음으로 높습니다.**\n",
    "- 이와 같이 태그 별 플레이리스트 수록 곡 특징을 탐색하여 플레이리스트의 곡 장르 성격을 추정해볼 수 있습니다."
   ]
  },
  {
   "cell_type": "markdown",
   "metadata": {},
   "source": [
    "<br>"
   ]
  },
  {
   "cell_type": "code",
   "execution_count": null,
   "metadata": {
    "ExecuteTime": {
     "end_time": "2020-04-26T23:16:03.034763Z",
     "start_time": "2020-04-26T23:12:27.797243Z"
    }
   },
   "outputs": [],
   "source": [
    "# 위에서 생성한 테이블에서 곡 별 발매년도 join\n",
    "plylst_song_tag_map_issue_Y = pd.merge(plylst_song_tag_map, song_issue_date, how = 'left', left_on = 'songs', right_on = 'song_id')\n",
    "\n",
    "# 샘플 태그들이 포함되어 있는 플레이리스트만 필터링\n",
    "plylst_song_tag_map_issue_Y_filter = plylst_song_tag_map_issue_Y.loc[plylst_song_tag_map_issue_Y.tags.isin(['드라이브', '스트레스', '기분전환', '밤', '새벽', '잔잔한', '사랑', '설렘', '추억', '회상', '슬픔', '이별', '휴식', '힐링', '카페', '매장음악']), :]\n",
    "plylst_song_tag_map_issue_Y_filter['issue_Y'] = plylst_song_tag_map_issue_Y_filter['issue_Y'].apply(pd.to_numeric)\n",
    "plylst_song_tag_map_issue_Y_filter = plylst_song_tag_map_issue_Y_filter[plylst_song_tag_map_issue_Y_filter['issue_Y'] >= 1980]\n",
    "\n",
    "del plylst_song_tag_map_issue_Y\n",
    "\n",
    "# plotting\n",
    "temp_df = plylst_song_tag_map_issue_Y_filter.loc[plylst_song_tag_map_issue_Y_filter.tags.isin(['추억', '회상']), :]\n",
    "sns.distplot(temp_df['issue_Y'], hist = False, kde = True, label = '추억, 회상')\n",
    "temp_df = plylst_song_tag_map_issue_Y_filter.loc[plylst_song_tag_map_issue_Y_filter.tags.isin(['카페', '매장음악']), :]\n",
    "sns.distplot(temp_df['issue_Y'], hist = False, kde = True, label = '카페, 매장음악')\n",
    "temp_df = plylst_song_tag_map_issue_Y_filter.loc[plylst_song_tag_map_issue_Y_filter.tags.isin(['슬픔', '이별']), :]\n",
    "sns.distplot(temp_df['issue_Y'], hist = False, kde = True, label = '슬픔, 이별')\n",
    "temp_df = plylst_song_tag_map_issue_Y_filter.loc[plylst_song_tag_map_issue_Y_filter.tags.isin(['휴식', '힐링']), :]\n",
    "sns.distplot(temp_df['issue_Y'], hist = False, kde = True, label = '휴식, 힐링')\n",
    "temp_df = plylst_song_tag_map_issue_Y_filter.loc[plylst_song_tag_map_issue_Y_filter.tags.isin(['사랑', '설렘']), :]\n",
    "sns.distplot(temp_df['issue_Y'], hist = False, kde = True, label = '사랑, 설렘')\n",
    "temp_df = plylst_song_tag_map_issue_Y_filter.loc[plylst_song_tag_map_issue_Y_filter.tags.isin(['드라이브', '스트레스', '기분전환']), :]\n",
    "sns.distplot(temp_df['issue_Y'], hist = False, kde = True, label = '드라이브, 스트레스, 기분전환')\n",
    "temp_df = plylst_song_tag_map_issue_Y_filter.loc[plylst_song_tag_map_issue_Y_filter.tags.isin(['밤', '새벽', '잔잔한']), :]\n",
    "sns.distplot(temp_df['issue_Y'], hist = False, kde = True, label = '밤, 새벽, 잔잔한')\n",
    "plt.legend(prop = {'size' : 18})\n",
    "plt.title('수록곡 발매 년도 별 density plot')\n",
    "plt.xlabel('발매년도')\n",
    "plt.ylabel('Density')\n",
    "plt.show()"
   ]
  },
  {
   "cell_type": "markdown",
   "metadata": {},
   "source": [
    "- 이 밖에 발매년도 기준으로 살펴본 결과  \n",
    "  **추억, 회상이 매핑된 플레이리스트들은 태그명처럼 다른 플레이리스트에 비해 비교적 과거 발매 곡 비중이 조금 더 높은 편**을 확인할 수 있습니다."
   ]
  },
  {
   "cell_type": "markdown",
   "metadata": {},
   "source": [
    "<br>"
   ]
  },
  {
   "cell_type": "markdown",
   "metadata": {},
   "source": [
    "### 역으로 곡 별 태그를 매핑해본다면?"
   ]
  },
  {
   "cell_type": "markdown",
   "metadata": {},
   "source": [
    "- 각 플레이리스트에 한 개 이상의 태그들이 매핑되어 있고, 한 곡 이상의 곡들이 수록되어 있습니다.\n",
    "- 이 부분을 고려하여 **곡 별 수록된 플레이리스트의 태그 값을 매핑**해본다면 **곡의 메타 정보를 하나 더 파생**시켜서 볼 수 있습니다."
   ]
  },
  {
   "cell_type": "code",
   "execution_count": null,
   "metadata": {
    "ExecuteTime": {
     "end_time": "2020-04-26T23:16:09.113923Z",
     "start_time": "2020-04-26T23:16:07.239478Z"
    }
   },
   "outputs": [],
   "source": [
    "# 학습 데이터 내에서 가장 많은 태그가 매핑된 아이유 - 밤편지 (144663) 예시\n",
    "example_song = plylst_song_tag_map[plylst_song_tag_map['songs'] == '144663']\n",
    "example_song"
   ]
  },
  {
   "cell_type": "code",
   "execution_count": null,
   "metadata": {
    "ExecuteTime": {
     "end_time": "2020-04-26T23:16:26.382874Z",
     "start_time": "2020-04-26T23:16:09.115580Z"
    }
   },
   "outputs": [],
   "source": [
    "# 곡 별 매핑되는 태그 수 집계 : song_tag_map_cnt\n",
    "song_tag_map_cnt = plylst_song_tag_map.groupby('songs').tags.nunique().reset_index(name = 'tags_cnt')\n",
    "round(song_tag_map_cnt.describe().loc[['min', '25%', '50%', 'mean', '75%', 'max', 'std']].transpose(), 2)"
   ]
  },
  {
   "cell_type": "markdown",
   "metadata": {},
   "source": [
    "- 곡 별로 매핑된 태그 값은 **평균 18개**(중앙값 7개)이고 예시로 들었던 아이유 - 밤편지 곡은 1,928개의 태그가 매핑됩니다."
   ]
  },
  {
   "cell_type": "markdown",
   "metadata": {},
   "source": [
    "#### 태그 기준으로 유사 느낌의 곡 찾기 (아이유 - 밤편지 곡을 예시로 살펴보기)"
   ]
  },
  {
   "cell_type": "code",
   "execution_count": null,
   "metadata": {
    "ExecuteTime": {
     "end_time": "2020-04-26T23:16:26.416404Z",
     "start_time": "2020-04-26T23:16:26.385084Z"
    }
   },
   "outputs": [],
   "source": [
    "example_song.groupby(['songs', 'tags']).id.nunique().reset_index(name = 'mapping_plylst_cnt').sort_values(by = 'mapping_plylst_cnt', ascending = False)"
   ]
  },
  {
   "cell_type": "markdown",
   "metadata": {},
   "source": [
    "- 아이유 - 밤편지 곡은 **`감성` 태그를 갖는 690개의 플레이리스트에 수록**되어 있습니다.  \n",
    "  두 번째로 높은 태그는 `발라드`, 세 번째는 `잔잔한` 태그 입니다."
   ]
  },
  {
   "cell_type": "code",
   "execution_count": null,
   "metadata": {
    "ExecuteTime": {
     "end_time": "2020-04-26T23:16:41.528170Z",
     "start_time": "2020-04-26T23:16:38.265013Z"
    }
   },
   "outputs": [],
   "source": [
    "example_temp = plylst_song_tag_map.loc[plylst_song_tag_map['tags'] == '감성', :].groupby('songs').id.nunique().reset_index(name = 'mapping_plylst_cnt').sort_values(by = 'mapping_plylst_cnt', ascending = False)\n",
    "pd.merge(example_temp, song_meta[['id', 'song_name', 'artist_name_basket']], how = 'left', left_on = 'songs', right_on = 'id').head(10)"
   ]
  },
  {
   "cell_type": "markdown",
   "metadata": {},
   "source": [
    "- 감성이라는 태그에 매핑되는 곡은 대략 10만곡으로 매핑 수 기준 상위 10곡 입니다."
   ]
  },
  {
   "cell_type": "markdown",
   "metadata": {},
   "source": [
    "<br>"
   ]
  },
  {
   "cell_type": "code",
   "execution_count": null,
   "metadata": {},
   "outputs": [],
   "source": []
  }
 ],
 "metadata": {
  "kernelspec": {
   "display_name": "Python 3",
   "language": "python",
   "name": "python3"
  },
  "language_info": {
   "codemirror_mode": {
    "name": "ipython",
    "version": 3
   },
   "file_extension": ".py",
   "mimetype": "text/x-python",
   "name": "python",
   "nbconvert_exporter": "python",
   "pygments_lexer": "ipython3",
   "version": "3.8.8"
  },
  "toc": {
   "base_numbering": 1,
   "nav_menu": {},
   "number_sections": false,
   "sideBar": true,
   "skip_h1_title": false,
   "title_cell": "Table of Contents",
   "title_sidebar": "Contents",
   "toc_cell": false,
   "toc_position": {},
   "toc_section_display": true,
   "toc_window_display": true
  },
  "toc-autonumbering": false,
  "toc-showcode": false,
  "toc-showmarkdowntxt": false
 },
 "nbformat": 4,
 "nbformat_minor": 4
}
