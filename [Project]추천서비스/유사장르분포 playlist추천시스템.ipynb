{
 "cells": [
  {
   "cell_type": "markdown",
   "id": "8d81e262-3266-445c-96d5-0dedf1f19139",
   "metadata": {},
   "source": [
    "# 장르 분포를 기준으로 Playlist를 추천해주는 모델 만들기\n",
    "1. INPUT `playlist`, OUTPUT `playlist`      \n",
    "2. 기준 : `장르분포도`  \n",
    "3. 방식 : `ALS`    \n",
    "4. 데이터 : `implicit`"
   ]
  },
  {
   "cell_type": "code",
   "execution_count": 1,
   "id": "6e3d57ac-7468-4356-bf76-3df30096c603",
   "metadata": {},
   "outputs": [],
   "source": [
    "# !pip install implicit"
   ]
  },
  {
   "cell_type": "markdown",
   "id": "62b668e6-e728-477d-a99f-bfb1b6db7052",
   "metadata": {},
   "source": [
    "## 모듈 불러오기"
   ]
  },
  {
   "cell_type": "code",
   "execution_count": 2,
   "id": "8720a0e1-9090-4a20-9e3c-242c066f3ae4",
   "metadata": {},
   "outputs": [],
   "source": [
    "# 모듈 불러오기\n",
    "import os\n",
    "import json\n",
    "import numpy as np\n",
    "import pandas as pd\n",
    "import scipy.sparse as spr\n",
    "from tqdm.notebook import tqdm\n",
    "\n",
    "from itertools import chain\n",
    "from collections import Counter\n",
    "from sklearn.metrics.pairwise import cosine_similarity\n",
    "import pickle\n",
    "import implicit"
   ]
  },
  {
   "cell_type": "markdown",
   "id": "4f8ffb96-c16a-4e9d-8f71-e4ada4775711",
   "metadata": {},
   "source": [
    "## 데이터 불러오기"
   ]
  },
  {
   "cell_type": "code",
   "execution_count": 3,
   "id": "1ebd0f48-193f-43d3-94ff-48a96e934b52",
   "metadata": {},
   "outputs": [],
   "source": [
    "# 데이터 불러오기\n",
    "with open('data/train.json',encoding='utf-8-sig') as f:\n",
    "    train_dict = json.load(f)\n",
    "    \n",
    "with open('data/song_meta.json',encoding='utf-8-sig') as f:\n",
    "    song_dict = json.load(f)\n",
    "    \n",
    "with open('data/genre_gn_all.json',encoding='utf-8-sig') as f:\n",
    "    genre_dict = json.load(f)\n",
    "    \n",
    "train = pd.DataFrame.from_dict(train_dict)\n",
    "genre_gn_all = pd.read_json('data/genre_gn_all.json', typ = 'series') # 장르 읽어오기\n",
    "song = pd.DataFrame.from_dict(song_dict)\n",
    "genre = pd.DataFrame(genre_gn_all, columns = ['gnr_name']).reset_index().rename(columns = {'index' : 'gnr_code'}) # 장르코드 : gnr_code, 장르명 : gnr_name \n",
    "\n",
    "\n",
    "# 데이터 카피하기\n",
    "df_train = train.copy()\n",
    "df_song = song.copy()\n",
    "# genre 데이터에서 사용할 컬럼만 가져오기\n",
    "df_gnr_id_song = song[['song_gn_dtl_gnr_basket','id']].copy()\n",
    "\n",
    "# 컬럼 알아보기 쉽게 한글로 바꾸기\n",
    "df_gnr_id_song = df_gnr_id_song.rename(columns={'song_gn_dtl_gnr_basket':'장르','id':'곡id'})"
   ]
  },
  {
   "cell_type": "markdown",
   "id": "2c511412-e3b9-4d36-9a04-480518c3ee83",
   "metadata": {},
   "source": [
    "---\n",
    "dataframe 정리 :        \n",
    "    `train` : 115072개의 플레이리스트    \n",
    "    `song` : 707990개의 노래     \n",
    "    `genre` : 255개의 세부 장르     \n",
    "    `df_gnr_id_song` : 곡id와 장르id를 가진 데이터"
   ]
  },
  {
   "cell_type": "markdown",
   "id": "71fd6c50-65c8-468f-b2ba-4f79685cf042",
   "metadata": {},
   "source": [
    "# df_train에 `장르`, `장르id`, `장르count` 컬럼을 추가한 json 파일로 만들기\n",
    "1. 저장한 파일명 : `df_train_with_gnr_cnt.json`     "
   ]
  },
  {
   "cell_type": "code",
   "execution_count": 4,
   "id": "41b443bd-6fcb-47a9-a7c9-f9228f95f5b2",
   "metadata": {},
   "outputs": [
    {
     "data": {
      "text/html": [
       "<div>\n",
       "<style scoped>\n",
       "    .dataframe tbody tr th:only-of-type {\n",
       "        vertical-align: middle;\n",
       "    }\n",
       "\n",
       "    .dataframe tbody tr th {\n",
       "        vertical-align: top;\n",
       "    }\n",
       "\n",
       "    .dataframe thead th {\n",
       "        text-align: right;\n",
       "    }\n",
       "</style>\n",
       "<table border=\"1\" class=\"dataframe\">\n",
       "  <thead>\n",
       "    <tr style=\"text-align: right;\">\n",
       "      <th></th>\n",
       "      <th>tags</th>\n",
       "      <th>id</th>\n",
       "      <th>plylst_title</th>\n",
       "      <th>songs</th>\n",
       "      <th>like_cnt</th>\n",
       "      <th>updt_date</th>\n",
       "      <th>장르</th>\n",
       "      <th>장르id</th>\n",
       "      <th>장르cnt</th>\n",
       "    </tr>\n",
       "  </thead>\n",
       "  <tbody>\n",
       "    <tr>\n",
       "      <th>0</th>\n",
       "      <td>[락]</td>\n",
       "      <td>61281</td>\n",
       "      <td>여행같은 음악</td>\n",
       "      <td>[525514, 129701, 383374, 562083, 297861, 13954...</td>\n",
       "      <td>71</td>\n",
       "      <td>2013-12-19 18:36:19.000</td>\n",
       "      <td>[GN1402, GN1401, GN0901, GN0902, GN1001, GN101...</td>\n",
       "      <td>[111, 110, 57, 58, 66, 77, 70, 66, 78, 57, 58,...</td>\n",
       "      <td>48</td>\n",
       "    </tr>\n",
       "    <tr>\n",
       "      <th>1</th>\n",
       "      <td>[추억, 회상]</td>\n",
       "      <td>10532</td>\n",
       "      <td>요즘 너 말야</td>\n",
       "      <td>[432406, 675945, 497066, 120377, 389529, 24427...</td>\n",
       "      <td>1</td>\n",
       "      <td>2014-12-02 16:19:42.000</td>\n",
       "      <td>[GN0101, GN0103, GN0601, GN0605, GN0104, GN010...</td>\n",
       "      <td>[1, 3, 33, 37, 4, 1, 33, 37, 4, 1, 33, 37, 4, ...</td>\n",
       "      <td>105</td>\n",
       "    </tr>\n",
       "    <tr>\n",
       "      <th>2</th>\n",
       "      <td>[까페, 잔잔한]</td>\n",
       "      <td>76951</td>\n",
       "      <td>편하게, 잔잔하게 들을 수 있는 곡.-</td>\n",
       "      <td>[83116, 276692, 166267, 186301, 354465, 256598...</td>\n",
       "      <td>17</td>\n",
       "      <td>2017-08-28 07:09:34.000</td>\n",
       "      <td>[GN0401, GN0403, GN0401, GN0403, GN0501, GN060...</td>\n",
       "      <td>[19, 21, 19, 21, 23, 33, 25, 38, 31, 19, 21, 1...</td>\n",
       "      <td>80</td>\n",
       "    </tr>\n",
       "    <tr>\n",
       "      <th>3</th>\n",
       "      <td>[연말, 눈오는날, 캐럴, 분위기, 따듯한, 크리스마스캐럴, 겨울노래, 크리스마스,...</td>\n",
       "      <td>147456</td>\n",
       "      <td>크리스마스 분위기에 흠뻑 취하고 싶을때</td>\n",
       "      <td>[394031, 195524, 540149, 287984, 440773, 10033...</td>\n",
       "      <td>33</td>\n",
       "      <td>2019-12-05 15:15:18.000</td>\n",
       "      <td>[GN0908, GN1509, GN0901, GN2207, GN1501, GN150...</td>\n",
       "      <td>[64, 126, 57, 205, 118, 123, 1, 3, 63, 57, 101...</td>\n",
       "      <td>104</td>\n",
       "    </tr>\n",
       "    <tr>\n",
       "      <th>4</th>\n",
       "      <td>[댄스]</td>\n",
       "      <td>27616</td>\n",
       "      <td>추억의 노래 ㅋ</td>\n",
       "      <td>[159327, 553610, 5130, 645103, 294435, 100657,...</td>\n",
       "      <td>9</td>\n",
       "      <td>2011-10-25 13:54:56.000</td>\n",
       "      <td>[GN0101, GN0101, GN0103, GN2502, GN2506, GN250...</td>\n",
       "      <td>[1, 1, 3, 227, 231, 226, 9, 7, 9, 7, 228, 10, ...</td>\n",
       "      <td>145</td>\n",
       "    </tr>\n",
       "    <tr>\n",
       "      <th>...</th>\n",
       "      <td>...</td>\n",
       "      <td>...</td>\n",
       "      <td>...</td>\n",
       "      <td>...</td>\n",
       "      <td>...</td>\n",
       "      <td>...</td>\n",
       "      <td>...</td>\n",
       "      <td>...</td>\n",
       "      <td>...</td>\n",
       "    </tr>\n",
       "    <tr>\n",
       "      <th>115066</th>\n",
       "      <td>[록메탈, 밴드사운드, 록, 락메탈, 메탈, 락, extreme]</td>\n",
       "      <td>120325</td>\n",
       "      <td>METAL E'SM #2</td>\n",
       "      <td>[429629, 441511, 612106, 516359, 691768, 38714...</td>\n",
       "      <td>3</td>\n",
       "      <td>2020-04-17 04:31:11.000</td>\n",
       "      <td>[GN1006, GN1013, GN1001, GN1007, GN1013, GN100...</td>\n",
       "      <td>[71, 78, 66, 72, 78, 66, 72, 78, 66, 72, 78, 6...</td>\n",
       "      <td>30</td>\n",
       "    </tr>\n",
       "    <tr>\n",
       "      <th>115067</th>\n",
       "      <td>[일렉]</td>\n",
       "      <td>106976</td>\n",
       "      <td>빠른 리스너를 위한 따끈따끈한 최신 인기 EDM 모음!</td>\n",
       "      <td>[321330, 216057, 534472, 240306, 331098, 23288...</td>\n",
       "      <td>13</td>\n",
       "      <td>2015-12-24 17:23:19.000</td>\n",
       "      <td>[GN1104, GN1101, GN1104, GN1102, GN1101, GN110...</td>\n",
       "      <td>[84, 81, 84, 82, 81, 84, 83, 81, 84, 83, 81, 8...</td>\n",
       "      <td>28</td>\n",
       "    </tr>\n",
       "    <tr>\n",
       "      <th>115068</th>\n",
       "      <td>[담시, 가족, 눈물, 그리움, 주인공, 나의_이야기, 사랑, 친구]</td>\n",
       "      <td>11343</td>\n",
       "      <td>#1. 눈물이 앞을 가리는 나의_이야기</td>\n",
       "      <td>[50512, 249024, 250608, 371171, 229942, 694943...</td>\n",
       "      <td>4</td>\n",
       "      <td>2019-08-16 20:59:22.000</td>\n",
       "      <td>[GN0105, GN0101, GN0105, GN0101, GN2502, GN060...</td>\n",
       "      <td>[5, 1, 5, 1, 227, 33, 226, 37, 1, 19, 21, 4, 1...</td>\n",
       "      <td>25</td>\n",
       "    </tr>\n",
       "    <tr>\n",
       "      <th>115069</th>\n",
       "      <td>[잔잔한, 버스, 퇴근버스, Pop, 풍경, 퇴근길]</td>\n",
       "      <td>131982</td>\n",
       "      <td>퇴근 버스에서 편히 들으면서 하루를 마무리하기에 좋은 POP</td>\n",
       "      <td>[533534, 608114, 343608, 417140, 609009, 30217...</td>\n",
       "      <td>4</td>\n",
       "      <td>2019-10-25 23:40:42.000</td>\n",
       "      <td>[GN1107, GN1102, GN1101, GN1013, GN1008, GN100...</td>\n",
       "      <td>[87, 82, 81, 78, 73, 66, 66, 120, 118, 73, 68,...</td>\n",
       "      <td>106</td>\n",
       "    </tr>\n",
       "    <tr>\n",
       "      <th>115070</th>\n",
       "      <td>[노래추천, 팝송추천, 팝송, 팝송모음]</td>\n",
       "      <td>100389</td>\n",
       "      <td>FAVORITE POPSONG!!!</td>\n",
       "      <td>[26008, 456354, 324105, 89871, 135272, 143548,...</td>\n",
       "      <td>17</td>\n",
       "      <td>2020-04-18 20:35:06.000</td>\n",
       "      <td>[GN1402, GN1401, GN1012, GN1002, GN1001, GN100...</td>\n",
       "      <td>[111, 110, 77, 67, 66, 66, 67, 77, 66, 77, 77,...</td>\n",
       "      <td>423</td>\n",
       "    </tr>\n",
       "  </tbody>\n",
       "</table>\n",
       "<p>115071 rows × 9 columns</p>\n",
       "</div>"
      ],
      "text/plain": [
       "                                                     tags      id  \\\n",
       "0                                                     [락]   61281   \n",
       "1                                                [추억, 회상]   10532   \n",
       "2                                               [까페, 잔잔한]   76951   \n",
       "3       [연말, 눈오는날, 캐럴, 분위기, 따듯한, 크리스마스캐럴, 겨울노래, 크리스마스,...  147456   \n",
       "4                                                    [댄스]   27616   \n",
       "...                                                   ...     ...   \n",
       "115066               [록메탈, 밴드사운드, 록, 락메탈, 메탈, 락, extreme]  120325   \n",
       "115067                                               [일렉]  106976   \n",
       "115068             [담시, 가족, 눈물, 그리움, 주인공, 나의_이야기, 사랑, 친구]   11343   \n",
       "115069                      [잔잔한, 버스, 퇴근버스, Pop, 풍경, 퇴근길]  131982   \n",
       "115070                             [노래추천, 팝송추천, 팝송, 팝송모음]  100389   \n",
       "\n",
       "                             plylst_title  \\\n",
       "0                                 여행같은 음악   \n",
       "1                                 요즘 너 말야   \n",
       "2                   편하게, 잔잔하게 들을 수 있는 곡.-   \n",
       "3                   크리스마스 분위기에 흠뻑 취하고 싶을때   \n",
       "4                                추억의 노래 ㅋ   \n",
       "...                                   ...   \n",
       "115066                      METAL E'SM #2   \n",
       "115067     빠른 리스너를 위한 따끈따끈한 최신 인기 EDM 모음!   \n",
       "115068              #1. 눈물이 앞을 가리는 나의_이야기   \n",
       "115069  퇴근 버스에서 편히 들으면서 하루를 마무리하기에 좋은 POP   \n",
       "115070                FAVORITE POPSONG!!!   \n",
       "\n",
       "                                                    songs  like_cnt  \\\n",
       "0       [525514, 129701, 383374, 562083, 297861, 13954...        71   \n",
       "1       [432406, 675945, 497066, 120377, 389529, 24427...         1   \n",
       "2       [83116, 276692, 166267, 186301, 354465, 256598...        17   \n",
       "3       [394031, 195524, 540149, 287984, 440773, 10033...        33   \n",
       "4       [159327, 553610, 5130, 645103, 294435, 100657,...         9   \n",
       "...                                                   ...       ...   \n",
       "115066  [429629, 441511, 612106, 516359, 691768, 38714...         3   \n",
       "115067  [321330, 216057, 534472, 240306, 331098, 23288...        13   \n",
       "115068  [50512, 249024, 250608, 371171, 229942, 694943...         4   \n",
       "115069  [533534, 608114, 343608, 417140, 609009, 30217...         4   \n",
       "115070  [26008, 456354, 324105, 89871, 135272, 143548,...        17   \n",
       "\n",
       "                      updt_date  \\\n",
       "0       2013-12-19 18:36:19.000   \n",
       "1       2014-12-02 16:19:42.000   \n",
       "2       2017-08-28 07:09:34.000   \n",
       "3       2019-12-05 15:15:18.000   \n",
       "4       2011-10-25 13:54:56.000   \n",
       "...                         ...   \n",
       "115066  2020-04-17 04:31:11.000   \n",
       "115067  2015-12-24 17:23:19.000   \n",
       "115068  2019-08-16 20:59:22.000   \n",
       "115069  2019-10-25 23:40:42.000   \n",
       "115070  2020-04-18 20:35:06.000   \n",
       "\n",
       "                                                       장르  \\\n",
       "0       [GN1402, GN1401, GN0901, GN0902, GN1001, GN101...   \n",
       "1       [GN0101, GN0103, GN0601, GN0605, GN0104, GN010...   \n",
       "2       [GN0401, GN0403, GN0401, GN0403, GN0501, GN060...   \n",
       "3       [GN0908, GN1509, GN0901, GN2207, GN1501, GN150...   \n",
       "4       [GN0101, GN0101, GN0103, GN2502, GN2506, GN250...   \n",
       "...                                                   ...   \n",
       "115066  [GN1006, GN1013, GN1001, GN1007, GN1013, GN100...   \n",
       "115067  [GN1104, GN1101, GN1104, GN1102, GN1101, GN110...   \n",
       "115068  [GN0105, GN0101, GN0105, GN0101, GN2502, GN060...   \n",
       "115069  [GN1107, GN1102, GN1101, GN1013, GN1008, GN100...   \n",
       "115070  [GN1402, GN1401, GN1012, GN1002, GN1001, GN100...   \n",
       "\n",
       "                                                     장르id  장르cnt  \n",
       "0       [111, 110, 57, 58, 66, 77, 70, 66, 78, 57, 58,...     48  \n",
       "1       [1, 3, 33, 37, 4, 1, 33, 37, 4, 1, 33, 37, 4, ...    105  \n",
       "2       [19, 21, 19, 21, 23, 33, 25, 38, 31, 19, 21, 1...     80  \n",
       "3       [64, 126, 57, 205, 118, 123, 1, 3, 63, 57, 101...    104  \n",
       "4       [1, 1, 3, 227, 231, 226, 9, 7, 9, 7, 228, 10, ...    145  \n",
       "...                                                   ...    ...  \n",
       "115066  [71, 78, 66, 72, 78, 66, 72, 78, 66, 72, 78, 6...     30  \n",
       "115067  [84, 81, 84, 82, 81, 84, 83, 81, 84, 83, 81, 8...     28  \n",
       "115068  [5, 1, 5, 1, 227, 33, 226, 37, 1, 19, 21, 4, 1...     25  \n",
       "115069  [87, 82, 81, 78, 73, 66, 66, 120, 118, 73, 68,...    106  \n",
       "115070  [111, 110, 77, 67, 66, 66, 67, 77, 66, 77, 77,...    423  \n",
       "\n",
       "[115071 rows x 9 columns]"
      ]
     },
     "metadata": {},
     "output_type": "display_data"
    }
   ],
   "source": [
    "from itertools import chain\n",
    "genre_code_list = list(genre_dict.keys())\n",
    "genre_id_dict = dict(zip(genre_code_list,range(len(genre_code_list)))) # {code : code_id}\n",
    "\n",
    "# 노래 : 장르 딕셔너리 만들기 # {song_id : [gnr_id,gnr_id2...]}\n",
    "songid_genre_dict = dict(zip(df_gnr_id_song['곡id'].tolist(),df_gnr_id_song['장르'].tolist()))\n",
    "\n",
    "# df_train['장르']\n",
    "song_id_lists = df_train['songs'].tolist() # playlist의 [[song_id, song_id2 ...],[ ...]]\n",
    "song_genre_lists = [] \n",
    "\n",
    "for song_id_list in song_id_lists:  \n",
    "    temp = [] \n",
    "    for song_id in song_id_list: \n",
    "        temp.append(songid_genre_dict[song_id]) \n",
    "    song_genre_lists.append(list(chain.from_iterable(temp))) # 이중리스트를 플랫하게 만듦.\n",
    "\n",
    "# df_train['장르']는 중복을 포함하여 플레이리스트 수록곡의 모든 장르를 리스트로 묶은 컬럼\n",
    "df_train['장르'] = song_genre_lists # playlist의 [[gnr, gnr2...],[ ... ]]\n",
    "\n",
    "# df_train[장르id]의 id \n",
    "df_train['장르id'] = df_train['장르'].map(lambda x : [ genre_id_dict[i] for i in x]) \n",
    "# df_train.head(2)\n",
    "\n",
    "# df_train['장르']의 개수를 중복과 관계없이 횟수를 센 결과.\n",
    "df_train['장르cnt'] = df_train['장르'].apply(lambda x : len(x))\n",
    "# df_train.head(2)\n",
    "\n",
    "# 장르cnt가 0인 것들 임의의 값 주기 # 나중에 전체 나눗셈을 할 때 분모가 0일 경우 Null값이 생기기 때문\n",
    "df_train['장르cnt'].replace(0,1, inplace=True)\n",
    "# df_train[df_train['장르cnt'] == 0] # 잘 없어졌는지 확인.\n",
    "\n",
    "\n",
    "# json파일로 만들기\n",
    "# df_train.to_json('data/df_train_with_gnr_cnt.json') # 파일 생성\n",
    "display(df_train)"
   ]
  },
  {
   "cell_type": "markdown",
   "id": "9702dd63-b603-4448-b8ab-ea3ce8efa08b",
   "metadata": {},
   "source": [
    "---"
   ]
  },
  {
   "cell_type": "markdown",
   "id": "e783e84c-f565-4ff4-89e6-1b9c7cd5fbf0",
   "metadata": {},
   "source": [
    "# df_train DF sparse matrix 만들기 (npz 저장하기)\n",
    "npz로 저장해서 모델에 적용할 테이블을 바로바로 가져오기 위함임.    \n"
   ]
  },
  {
   "cell_type": "markdown",
   "id": "6cce64b8-e44d-4f17-99cc-d2df8bce39f0",
   "metadata": {},
   "source": [
    "`spr_ply_gnr` : 115071(플레이리스트)x254(장르) sparse matrix"
   ]
  },
  {
   "cell_type": "code",
   "execution_count": 5,
   "id": "17194410-b5d6-4c41-b300-0b5bc3f52622",
   "metadata": {
    "tags": []
   },
   "outputs": [],
   "source": [
    "from collections import defaultdict, Counter\n",
    "\n",
    "my_dict = defaultdict(dict)\n",
    "genre_id_lists = df_train['장르id'].tolist() # genre_id_lists   # 이중 리스트 [[111,110,57 ....]]\n",
    "\n",
    "# sparse matrix를 만들기 위한 row, col, dat 데이터 뽑아오기\n",
    "for i in range(len(df_train)):\n",
    "    my_dict[i] = dict(Counter(genre_id_lists[i]))\n",
    "row =[] # playlist\n",
    "col =[] # genre\n",
    "dat =[] # gnr_cnt\n",
    "\n",
    "for k, v in my_dict.items():\n",
    "    for vk,vv in v.items():\n",
    "        row.append(k)\n",
    "        col.append(vk)\n",
    "        dat.append(vv)\n",
    "\n",
    "# print(row)\n",
    "# print(col)\n",
    "# print(dat)\n",
    "\n",
    "\n",
    "spr_ply_gnr = spr.csr_matrix((dat, (row, col)), shape=(len(df_train), len(genre)))\n",
    "spr_ply_gnr  # row = ply, col = genre, dat = gnr_cnt\n",
    "\n",
    "# row별로 장르cnt를 나눠 각 곡의 개수와 상관없이 비율을 확인할 수 있도록 만듦\n",
    "spr_ply_gnr_pct = spr_ply_gnr / df_train[['장르cnt']].values  # spr_ply_gnr_pct = matrix 형태\n",
    "\n",
    "\n",
    "spr_spr_ply_gnr_pct= spr.csr_matrix(spr_ply_gnr_pct) # sparse matrix 형태로 저장\n",
    "\n",
    "# npz 저장하기\n",
    "# spr.save_npz('data/spr_spr_ply_gnr_pct.npz', spr_spr_ply_gnr_pct) "
   ]
  },
  {
   "cell_type": "markdown",
   "id": "61d1447a-536c-463c-a7d8-39d8baa79f2d",
   "metadata": {},
   "source": [
    "`genre_id_lists` : \n",
    "`spr_ply_gnr` : \n",
    "`spr_ply_gnr_pct` :"
   ]
  },
  {
   "cell_type": "markdown",
   "id": "825ffb8b-8350-4f25-abe3-9bb6baa2dd0d",
   "metadata": {},
   "source": [
    "---"
   ]
  },
  {
   "cell_type": "markdown",
   "id": "32ad482f-1dcb-4ccf-981e-9faeee25c637",
   "metadata": {},
   "source": [
    "# 저장된 npz 불러와서 플레이리스트간의  코사인 유사도 Sample 구하기\n"
   ]
  },
  {
   "cell_type": "markdown",
   "id": "b4ecf3c1-637a-41b1-abd7-2fee6e98c8b3",
   "metadata": {},
   "source": [
    "> 유사한 장르 분포를 가진 플레이리스트(user로 가정)간을 비교하기에 앞서서 `장르 cnt의 비율`로 만든 이유는       \n",
    "장르 개수 등 코사인 유사도 계산에 영향을 줄 수 있는 `플레이리스트 내 장르`를 `플레이리스트 장르의 총합 개수`로 나누어 비율로 계산함.     \n",
    "(ex) 비슷한 장르 분포를 가졌지만 A(Playlist)에 포함된 곡의 장르가 1000개, B(Playlist)에 포함된 곡의 장르가 10개라고 할 때)          \n",
    "즉, 모든 Row의 데이터(장르 분포) 값을 더했을 때,총합이 1이 되도록 `비중(%)`으로 구함.    "
   ]
  },
  {
   "cell_type": "code",
   "execution_count": 6,
   "id": "74df69d8-320e-457d-b0bc-c74943782dfe",
   "metadata": {},
   "outputs": [
    {
     "data": {
      "text/plain": [
       "array([[0.04929709]])"
      ]
     },
     "execution_count": 6,
     "metadata": {},
     "output_type": "execute_result"
    }
   ],
   "source": [
    "# npz 불러오기 \n",
    "spr_spr_ply_gnr_pct = spr.load_npz('data/spr_spr_ply_gnr_pct.npz') # csr형태\n",
    "\n",
    "spr_ply_gnr_pct = spr_spr_ply_gnr_pct.todense() # matrix 형태\n",
    "\n",
    "from sklearn.metrics.pairwise import cosine_similarity\n",
    "# cosine_similarity(spr_ply_gnr_pct[1],spr_ply_gnr_pct[3]) # matrix 형태\n",
    "cosine_similarity(spr_spr_ply_gnr_pct[1],spr_spr_ply_gnr_pct[4]) # csr 형태"
   ]
  },
  {
   "cell_type": "markdown",
   "id": "c934e792-25ee-4a59-bdf5-690a36eb159a",
   "metadata": {},
   "source": [
    "# als_model 피클 저장(따로 ipynb 만들어놓음 - 10.27일자)\n",
    "`spr_spr_ply_gnr_pct.npz` 가져와서 만듦.      \n",
    "implicit 모듈"
   ]
  },
  {
   "cell_type": "markdown",
   "id": "fc66f69a-59b5-4c28-9a64-450c6bf47f0d",
   "metadata": {},
   "source": [
    "`spr_spr_ply_gnr_pct` : 115071x254 sparse matrix     \n",
    "`user_items` : 254x115071 sparse matrix"
   ]
  },
  {
   "cell_type": "code",
   "execution_count": 7,
   "id": "c7e3f03d-91fe-4955-b68f-26d449011955",
   "metadata": {},
   "outputs": [
    {
     "name": "stderr",
     "output_type": "stream",
     "text": [
      "WARNING:root:OpenBLAS detected. Its highly recommend to set the environment variable 'export OPENBLAS_NUM_THREADS=1' to disable its internal multithreading\n"
     ]
    },
    {
     "data": {
      "application/vnd.jupyter.widget-view+json": {
       "model_id": "f418c61edb7e48428347ebd04ee2ae03",
       "version_major": 2,
       "version_minor": 0
      },
      "text/plain": [
       "  0%|          | 0/15 [00:00<?, ?it/s]"
      ]
     },
     "metadata": {},
     "output_type": "display_data"
    }
   ],
   "source": [
    "# als_model 추천서비스\n",
    "import implicit\n",
    "\n",
    "#데이터 불러오기\n",
    "spr_spr_ply_gnr_pct = spr.load_npz('data/spr_spr_ply_gnr_pct.npz') # csr형태\n",
    "\n",
    "als_model = implicit.als.AlternatingLeastSquares(factors=200, random_state=42) # factors = 200\n",
    "als_model.fit(spr_spr_ply_gnr_pct*40) # 40을 곱해주는건 랜덤임\n",
    "user_items = spr_spr_ply_gnr_pct.T.tocsr()\n"
   ]
  },
  {
   "cell_type": "code",
   "execution_count": 8,
   "id": "b81ced0c-7da6-4744-b2cb-010118b975dd",
   "metadata": {},
   "outputs": [
    {
     "data": {
      "text/plain": [
       "[(44159, 1.0000001),\n",
       " (110897, 0.99502945),\n",
       " (38952, 0.99442804),\n",
       " (99281, 0.90095586),\n",
       " (48300, 0.89137363),\n",
       " (66830, 0.890818),\n",
       " (10663, 0.88890815),\n",
       " (28423, 0.88879424),\n",
       " (2667, 0.8760088),\n",
       " (41363, 0.8697529)]"
      ]
     },
     "execution_count": 8,
     "metadata": {},
     "output_type": "execute_result"
    }
   ],
   "source": [
    "# \n",
    "related = als_model.similar_items(44159, N=10)\n",
    "related"
   ]
  },
  {
   "cell_type": "code",
   "execution_count": 9,
   "id": "383adb11-6a85-49e3-a81a-1d722e678c0e",
   "metadata": {},
   "outputs": [],
   "source": [
    "# pickle로 저장하기\n",
    "import pickle\n",
    "with open('data/ply2ply_als_model.pickle','wb') as fw:\n",
    "    pickle.dump(als_model, fw)"
   ]
  },
  {
   "cell_type": "markdown",
   "id": "95e30bf5-8b50-45cb-a3db-16712cb37176",
   "metadata": {},
   "source": [
    "# model pickle(ply2ply_als_model) 불러오기 + top5 playlist 뽑아보기\n",
    "- 11번 플레이리스트를 로그인한 회원 유저로 가정하고 이 회원유저와 유사한 장르 분포를 가진 다른 플레이리스트를 내림차순으로 정렬해 보여준다.\n",
    "- 이 추천시스템은 유저의 음악 취향을 장르로 구분할 수 있다고 먼저 가정한다.    \n",
    "    (Melon은 2019년 장르 개편을 통해 대장르 30개, 세부장르 191개로 나누어 곡의 세분 카테고리를 지정했으며 2020년 4월 분석에 사용된 카카오 아레나 데이터의 장르는 총 254개로 더욱 세분화하여 나타내고 있다.)           \n",
    "- 그러나 유저의 플레이리스트 속에는 한 장르만 가지는 것이 아닐 뿐만아니라 한 곡이 다수의 대장르 또는 세부장르를 가지는 것을 확인할 수 있었다.    \n",
    "- 이로 인해 한 가지 장르만으로 유저 집단을 나누는 것이 어려움이 있었다.    \n",
    "- 이를 바탕으로 이 추천시스템에서는 같은 음악 장르를 좋아하면서 그 수록곡의 장르 분포가 비슷하다면 유저들의 취향을 더욱 구체적으로 나타낼 것이라는 가정으로 만들게 되었다.    \n",
    "- 이 추천시스템의 장점은 기존 추천시스템과 다르게 유저의 특정 선호 가수, 노래 등의 유사도를 보이는 것이 아니라 장르 분포를 기준으로 협업필터링하기 때문에 더욱 다채로운 추천이 가능하다는 점이 있다.     "
   ]
  },
  {
   "cell_type": "code",
   "execution_count": 10,
   "id": "8c8ba7f0-f721-4491-be9b-7354c72df131",
   "metadata": {},
   "outputs": [],
   "source": [
    "# model pickle(ply2ply_als_model) 불러오기\n",
    "import pickle\n",
    "with open('data/ply2ply_als_model.pickle','rb') as f:\n",
    "    ply2ply_als_model = pickle.load(f)"
   ]
  },
  {
   "cell_type": "code",
   "execution_count": 11,
   "id": "2a60c231-00c2-416f-b5d9-bab79bf28d87",
   "metadata": {},
   "outputs": [],
   "source": [
    "# # genre확인\n",
    "# i = int(genre[genre['gnr_name'] =='아이돌'].index.values)\n",
    "# genre.iloc[i:i+5]"
   ]
  },
  {
   "cell_type": "markdown",
   "id": "431fca5d-9cc5-43e3-aeb9-ed73850f1cf3",
   "metadata": {},
   "source": [
    "- 곡 중복 비율을 확인하는 이유는 유저가 이미 가지고 있는 곡의 비율을 확인하기 위함이고, 낮을수록 좋은 추천으로 평가한다.   \n",
    "- 가수 중복 비율을 확인하는 이유는 유저가 이미 선호하는 가수의 비율을 확인하기 위함이고, 낮을수록 좋은 추천으로 평가한다.  \n",
    "- 한계점 :      \n",
    "    1) 회원 유저가 세분화된 특정 장르의 플레이리스트를 가지고 있는 경우     \n",
    "        ex) `엑소`, `2018년 평창올림픽 노래`만 수록한 회원유저의 경우 다채로운 추천이 어렵다.\n",
    "    2) 회원 유저의 플레이리스트에 많은 수록곡을 가지고 있는 경우     \n",
    "        ex) 회원 유저의 수록곡의 크기가 추천된 플레이리스트의 수록곡보다 현저히 많은 경우, 중복곡 또는 중복 가수의 비율이 높게 나올 가능성이 높다.\n",
    "        \n"
   ]
  },
  {
   "cell_type": "code",
   "execution_count": 13,
   "id": "5610a9dc-5d87-4664-84e7-163180dd303e",
   "metadata": {},
   "outputs": [
    {
     "name": "stdout",
     "output_type": "stream",
     "text": [
      "input ply output ply [(11, 1.0), (46163, 0.79275084), (22985, 0.79132104), (23250, 0.79116994), (73248, 0.79039675), (28856, 0.78932935)]\n"
     ]
    },
    {
     "data": {
      "text/html": [
       "<div>\n",
       "<style scoped>\n",
       "    .dataframe tbody tr th:only-of-type {\n",
       "        vertical-align: middle;\n",
       "    }\n",
       "\n",
       "    .dataframe tbody tr th {\n",
       "        vertical-align: top;\n",
       "    }\n",
       "\n",
       "    .dataframe thead th {\n",
       "        text-align: right;\n",
       "    }\n",
       "</style>\n",
       "<table border=\"1\" class=\"dataframe\">\n",
       "  <thead>\n",
       "    <tr style=\"text-align: right;\">\n",
       "      <th></th>\n",
       "      <th>tags</th>\n",
       "      <th>id</th>\n",
       "      <th>plylst_title</th>\n",
       "      <th>songs</th>\n",
       "      <th>like_cnt</th>\n",
       "      <th>updt_date</th>\n",
       "      <th>장르</th>\n",
       "      <th>장르id</th>\n",
       "      <th>장르cnt</th>\n",
       "    </tr>\n",
       "  </thead>\n",
       "  <tbody>\n",
       "    <tr>\n",
       "      <th>11</th>\n",
       "      <td>[새해, 여행, 프로필음악, 카카오톡, 기분전환, 소원, 프로필, 소망, 다짐, 카톡]</td>\n",
       "      <td>151693</td>\n",
       "      <td>노래로 의지를 불태우자! \"1일1다짐\" st용 프로필뮤직</td>\n",
       "      <td>[658738, 698779, 124485, 512610, 310028, 17422...</td>\n",
       "      <td>42</td>\n",
       "      <td>2017-02-16 15:45:23.000</td>\n",
       "      <td>[GN0301, GN0805, GN0501, GN0502, GN0801, GN050...</td>\n",
       "      <td>[13, 55, 23, 24, 51, 31, 5, 1, 5, 1, 230, 228,...</td>\n",
       "      <td>138</td>\n",
       "    </tr>\n",
       "    <tr>\n",
       "      <th>46163</th>\n",
       "      <td>[너를위해, 위로, 힐링, 플레이리스트, 힘들때]</td>\n",
       "      <td>69609</td>\n",
       "      <td>♪ 지친 너를 위한 노래 ♪</td>\n",
       "      <td>[175073, 124485, 10203, 507808, 590379, 212310...</td>\n",
       "      <td>3</td>\n",
       "      <td>2017-06-13 09:54:25.000</td>\n",
       "      <td>[GN0601, GN0606, GN0105, GN0101, GN0205, GN150...</td>\n",
       "      <td>[33, 38, 5, 1, 11, 118, 7, 121, 5, 1, 15, 13, ...</td>\n",
       "      <td>67</td>\n",
       "    </tr>\n",
       "    <tr>\n",
       "      <th>22985</th>\n",
       "      <td>[댄스]</td>\n",
       "      <td>97040</td>\n",
       "      <td>good3</td>\n",
       "      <td>[663602, 559041, 424712, 599327, 554859, 51780...</td>\n",
       "      <td>1</td>\n",
       "      <td>2013-09-02 22:10:27.000</td>\n",
       "      <td>[GN0303, GN0301, GN0303, GN0301, GN0205, GN020...</td>\n",
       "      <td>[15, 13, 15, 13, 11, 7, 31, 33, 25, 38, 23, 1,...</td>\n",
       "      <td>106</td>\n",
       "    </tr>\n",
       "    <tr>\n",
       "      <th>23250</th>\n",
       "      <td>[댄스]</td>\n",
       "      <td>139061</td>\n",
       "      <td>good3</td>\n",
       "      <td>[82516, 9015, 589882, 492810, 290655, 49785, 2...</td>\n",
       "      <td>0</td>\n",
       "      <td>2013-08-21 10:16:23.000</td>\n",
       "      <td>[GN0201, GN1501, GN0101, GN1504, GN2502, GN020...</td>\n",
       "      <td>[7, 118, 1, 121, 227, 11, 226, 231, 7, 11, 7, ...</td>\n",
       "      <td>106</td>\n",
       "    </tr>\n",
       "    <tr>\n",
       "      <th>73248</th>\n",
       "      <td>[댄스]</td>\n",
       "      <td>18150</td>\n",
       "      <td>good3</td>\n",
       "      <td>[87665, 454979, 12681, 82516, 9015, 589882, 49...</td>\n",
       "      <td>0</td>\n",
       "      <td>2013-09-19 00:55:33.000</td>\n",
       "      <td>[GN2503, GN2501, GN2506, GN0201, GN0105, GN010...</td>\n",
       "      <td>[228, 226, 231, 7, 5, 1, 23, 16, 27, 13, 7, 11...</td>\n",
       "      <td>106</td>\n",
       "    </tr>\n",
       "    <tr>\n",
       "      <th>28856</th>\n",
       "      <td>[댄스]</td>\n",
       "      <td>86153</td>\n",
       "      <td>good3</td>\n",
       "      <td>[638927, 87665, 454979, 12681, 82516, 9015, 58...</td>\n",
       "      <td>0</td>\n",
       "      <td>2013-09-08 03:19:11.000</td>\n",
       "      <td>[GN2503, GN0205, GN2501, GN2506, GN0201, GN250...</td>\n",
       "      <td>[228, 11, 226, 231, 7, 228, 226, 231, 7, 5, 1,...</td>\n",
       "      <td>106</td>\n",
       "    </tr>\n",
       "  </tbody>\n",
       "</table>\n",
       "</div>"
      ],
      "text/plain": [
       "                                                   tags      id  \\\n",
       "11     [새해, 여행, 프로필음악, 카카오톡, 기분전환, 소원, 프로필, 소망, 다짐, 카톡]  151693   \n",
       "46163                       [너를위해, 위로, 힐링, 플레이리스트, 힘들때]   69609   \n",
       "22985                                              [댄스]   97040   \n",
       "23250                                              [댄스]  139061   \n",
       "73248                                              [댄스]   18150   \n",
       "28856                                              [댄스]   86153   \n",
       "\n",
       "                          plylst_title  \\\n",
       "11     노래로 의지를 불태우자! \"1일1다짐\" st용 프로필뮤직   \n",
       "46163                  ♪ 지친 너를 위한 노래 ♪   \n",
       "22985                            good3   \n",
       "23250                            good3   \n",
       "73248                            good3   \n",
       "28856                            good3   \n",
       "\n",
       "                                                   songs  like_cnt  \\\n",
       "11     [658738, 698779, 124485, 512610, 310028, 17422...        42   \n",
       "46163  [175073, 124485, 10203, 507808, 590379, 212310...         3   \n",
       "22985  [663602, 559041, 424712, 599327, 554859, 51780...         1   \n",
       "23250  [82516, 9015, 589882, 492810, 290655, 49785, 2...         0   \n",
       "73248  [87665, 454979, 12681, 82516, 9015, 589882, 49...         0   \n",
       "28856  [638927, 87665, 454979, 12681, 82516, 9015, 58...         0   \n",
       "\n",
       "                     updt_date  \\\n",
       "11     2017-02-16 15:45:23.000   \n",
       "46163  2017-06-13 09:54:25.000   \n",
       "22985  2013-09-02 22:10:27.000   \n",
       "23250  2013-08-21 10:16:23.000   \n",
       "73248  2013-09-19 00:55:33.000   \n",
       "28856  2013-09-08 03:19:11.000   \n",
       "\n",
       "                                                      장르  \\\n",
       "11     [GN0301, GN0805, GN0501, GN0502, GN0801, GN050...   \n",
       "46163  [GN0601, GN0606, GN0105, GN0101, GN0205, GN150...   \n",
       "22985  [GN0303, GN0301, GN0303, GN0301, GN0205, GN020...   \n",
       "23250  [GN0201, GN1501, GN0101, GN1504, GN2502, GN020...   \n",
       "73248  [GN2503, GN2501, GN2506, GN0201, GN0105, GN010...   \n",
       "28856  [GN2503, GN0205, GN2501, GN2506, GN0201, GN250...   \n",
       "\n",
       "                                                    장르id  장르cnt  \n",
       "11     [13, 55, 23, 24, 51, 31, 5, 1, 5, 1, 230, 228,...    138  \n",
       "46163  [33, 38, 5, 1, 11, 118, 7, 121, 5, 1, 15, 13, ...     67  \n",
       "22985  [15, 13, 15, 13, 11, 7, 31, 33, 25, 38, 23, 1,...    106  \n",
       "23250  [7, 118, 1, 121, 227, 11, 226, 231, 7, 11, 7, ...    106  \n",
       "73248  [228, 226, 231, 7, 5, 1, 23, 16, 27, 13, 7, 11...    106  \n",
       "28856  [228, 11, 226, 231, 7, 228, 226, 231, 7, 5, 1,...    106  "
      ]
     },
     "metadata": {},
     "output_type": "display_data"
    },
    {
     "name": "stdout",
     "output_type": "stream",
     "text": [
      "input playlist Counter({'김동률': 2, '에일리': 2, '어쿠스틱 콜라보': 1, '별': 1, 'WINNER': 1, 'WABLE (와블)': 1, '서영은': 1, '미스에스': 1, '청년실업': 1, '처진 달팽이 (유재석 & 이적)': 1, '15& (박지민, 백예린)': 1, '안녕하신가영': 1, '이적': 1, '페퍼톤스 (Peppertones)': 1, '정인': 1, '윤종신': 1, '타코앤제이형': 1, '메이트': 1, 'f(x)': 1, 'SHINee (샤이니)': 1, '김건모': 1, '러브홀릭스': 1, 'MC 스나이퍼': 1, '장기하와 얼굴들': 1, '데프콘': 1, '이지형': 1, '제이레빗(J Rabbit)': 1, '에픽하이 (EPIK HIGH)': 1, '곽진언': 1, '이진아': 1, '크래쉬': 1, '핫펠트 (HA:TFELT)': 1, '장미여관': 1, '박효신': 1, '토이': 1, '옥상달빛': 1, '창모 (CHANGMO)': 1, 'DJ DOC': 1, '브로콜리너마저': 1, '임재범': 1, '한요한': 1, '커피소년': 1, '박보람': 1, '헬로봉주르': 1})\n",
      "\n",
      " output playlist Counter({'Crush': 4, 'pH-1': 2, 'Sofa': 1, '베이식 (Basick)': 1, 'SAAY': 1, 'DEAN': 1, 'GLABINGO (글라빙고)': 1, 'Hash Swan': 1, 'dkash (디캐시)': 1, 'WINNER': 1, '식케이 (Sik-K)': 1, '조승연': 1, '디아비 (D.I.B)': 1, '니화 (NiiHWA)': 1, 'J.Kill': 1, 'Timmy Room': 1, 'MINO (송민호)': 1, 'DPR LIVE': 1, 'Far East Movement': 1, 'OuiOui (위위)': 1, '그루비룸 (GroovyRoom)': 1, 'Evo': 1, '차콜 (Charcoal)': 1, 'Sleek Jeezy': 1, 'ness (네스)': 1, 'The Quiett': 1, '릴러말즈 (Leellamarz)': 1, 'Alisha (알리샤)': 1, '상화': 1, '박재범': 1, 'D.SANGUH (딥상어)': 1, '베이빌론': 1, '로꼬': 1, 'MelomanIa': 1, 'Golden': 1, '지코 (ZICO)': 1, 'CiaNo (시아노)': 1, 'SQ': 1, 'Slyme Young': 1, '핫펠트 (HA:TFELT)': 1, 'BOBBY': 1, '제시 (Jessi)': 1, '나다 (NADA)': 1, 'Dok2': 1, 'YUNHWAY': 1, 'SURAN (수란)': 1})\n",
      "\n",
      "곡 중복 비율 : 0.0\n",
      "가수 중복 비율 : 0.045454545454545456 \n",
      "\n"
     ]
    }
   ],
   "source": [
    "# 11번 playlist의 top5 뽑아보기\n",
    "als_model_5ply = als_model.similar_items(11,N=6)\n",
    "print('input ply output ply',als_model_5ply)\n",
    "\n",
    "# a는 als model결과로 나온 playlist index\n",
    "a,b = zip(*als_model_5ply)\n",
    "\n",
    "list_ply_id = list(a)\n",
    "display(df_train.loc[list_ply_id])\n",
    "\n",
    "#\n",
    "x = pd.DataFrame([song.loc[x] for x in sorted(df_train.loc[11]['songs'])])\n",
    "y = pd.DataFrame([song.loc[x] for x in sorted(df_train.loc[38216]['songs'])])\n",
    "\n",
    "# x['artist_name_basket'].tolist()\n",
    "import itertools\n",
    "x_artist_lst= list(itertools.chain.from_iterable(x['artist_name_basket'].tolist()))\n",
    "y_artist_lst= list(itertools.chain.from_iterable(y['artist_name_basket'].tolist()))\n",
    "\n",
    "print('input playlist', Counter(x_artist_lst))\n",
    "print('\\n output playlist', Counter(y_artist_lst))\n",
    "\n",
    "# 곡 중복 비율\n",
    "print('\\n곡 중복 비율 :',len(set(x.index) & set(y.index)) / len(set(x.index)))\n",
    "\n",
    "# 가수 중복 비율\n",
    "print('가수 중복 비율 :',len(set(x_artist_lst) & set(y_artist_lst)) / len(set(x_artist_lst)),'\\n')\n",
    "\n",
    "# print(x['artist_name_basket'].tolist())\n",
    "# print('\\n',y['artist_name_basket'].tolist())\n",
    "# y[['song_name','artist_name_basket']].head()"
   ]
  },
  {
   "cell_type": "markdown",
   "id": "c8f6215c-8294-4092-b043-f026666db1a8",
   "metadata": {},
   "source": [
    "---"
   ]
  },
  {
   "cell_type": "markdown",
   "id": "9e9f7190-1dc6-419a-9e99-3301776fbe12",
   "metadata": {},
   "source": [
    "# 추천시스템의 곡/가수 중복 비율을 확인한다."
   ]
  },
  {
   "cell_type": "markdown",
   "id": "8699c30f-7399-4e3b-b601-20868fe3b159",
   "metadata": {},
   "source": [
    "x = `input playlist`, 로그인 한 회원유저로 가정한다.       \n",
    "y1-y5 = `output playlist`, 회원유저가 추천받는 플레이리스트        \n",
    "`x_y1_song_pct` : x와 y1의 곡 중복 비율       \n",
    "`x_artist_lst` : 회원유저의 플레이리스트에 속한 가수의 리스트      \n",
    "`y1_artist_lst` : 추천된 플레이리스트에 속한 가수의 리스트     "
   ]
  },
  {
   "cell_type": "code",
   "execution_count": 14,
   "id": "5831836c-32ee-42f1-8c65-d6764b87736a",
   "metadata": {},
   "outputs": [
    {
     "name": "stdout",
     "output_type": "stream",
     "text": [
      "input ply output ply [(15, 0.99999994), (23399, 0.7501544), (7129, 0.72309875), (50306, 0.72207147), (40461, 0.72201544), (58032, 0.72184324)]\n",
      "0.021276595744680847 0.021276595744680847 0.0 0.06382978723404255\n",
      "곡 중복 비율 : 0.0\n",
      "곡 중복 비율 : 0.0\n",
      "곡 중복 비율 : 0.0\n",
      "곡 중복 비율 : 0.0425531914893617\n",
      "곡 중복 비율 : 0.06382978723404255\n",
      "가수 중복 비율 : 0.09375\n",
      "가수 중복 비율 : 0.0\n",
      "가수 중복 비율 : 0.03125\n",
      "가수 중복 비율 : 0.125\n",
      "가수 중복 비율 : 0.09375\n"
     ]
    }
   ],
   "source": [
    "# top10\n",
    "als_model_5ply = als_model.similar_items(15,N=6)\n",
    "print('input ply output ply',als_model_5ply)\n",
    "\n",
    "a,b = zip(*als_model_5ply)\n",
    "\n",
    "list_ply_id = list(a)\n",
    "\n",
    "# display(df_train.loc[list_ply_id])\n",
    "# 11은 input 나머지는 output ply id\n",
    "list_ply_id\n",
    "\n",
    "ply_lists_df = []\n",
    "for i in list_ply_id :\n",
    "    ply_lists_df.append(pd.DataFrame([song.loc[x] for x in sorted(df_train.loc[i]['songs'])]))\n",
    "\n",
    "x = ply_lists_df[0]\n",
    "y1,y2,y3,y4,y5 = ply_lists_df[1],ply_lists_df[2],ply_lists_df[3],ply_lists_df[4],ply_lists_df[5]\n",
    "\n",
    "x_y1_song_pct = len(set(x.index) & set(y1.index)) / len(set(x.index))\n",
    "x_y2_song_pct = len(set(x.index) & set(y2.index)) / len(set(x.index))\n",
    "x_y3_song_pct = len(set(x.index) & set(y3.index)) / len(set(x.index))\n",
    "x_y4_song_pct = len(set(x.index) & set(y4.index)) / len(set(x.index))\n",
    "x_y5_song_pct = len(set(x.index) & set(y5.index)) / len(set(x.index))\n",
    "x_y_song_pct = [x_y1_song_pct,x_y2_song_pct,x_y3_song_pct,x_y4_song_pct,x_y5_song_pct]\n",
    "\n",
    "print(np.average(x_y_song_pct),np.mean(x_y_song_pct), np.min(x_y_song_pct), np.max(x_y_song_pct))\n",
    "\n",
    "# 곡 중복 비율\n",
    "print('곡 중복 비율 :',len(set(x.index) & set(y1.index)) / len(set(x.index)))\n",
    "print('곡 중복 비율 :',len(set(x.index) & set(y2.index)) / len(set(x.index)))\n",
    "print('곡 중복 비율 :',len(set(x.index) & set(y3.index)) / len(set(x.index)))\n",
    "print('곡 중복 비율 :',len(set(x.index) & set(y4.index)) / len(set(x.index)))\n",
    "print('곡 중복 비율 :',len(set(x.index) & set(y5.index)) / len(set(x.index)))\n",
    "\n",
    "import itertools\n",
    "x_artist_lst= list(itertools.chain.from_iterable(x['artist_name_basket'].tolist()))\n",
    "y1_artist_lst= list(itertools.chain.from_iterable(y1['artist_name_basket'].tolist()))\n",
    "y2_artist_lst= list(itertools.chain.from_iterable(y2['artist_name_basket'].tolist()))\n",
    "y3_artist_lst= list(itertools.chain.from_iterable(y3['artist_name_basket'].tolist()))\n",
    "y4_artist_lst= list(itertools.chain.from_iterable(y4['artist_name_basket'].tolist()))\n",
    "y5_artist_lst= list(itertools.chain.from_iterable(y5['artist_name_basket'].tolist()))\n",
    "\n",
    "\n",
    "# 가수 중복 비율\n",
    "print('가수 중복 비율 :',len(set(x_artist_lst) & set(y1_artist_lst)) / len(set(x_artist_lst)))\n",
    "print('가수 중복 비율 :',len(set(x_artist_lst) & set(y2_artist_lst)) / len(set(x_artist_lst)))\n",
    "print('가수 중복 비율 :',len(set(x_artist_lst) & set(y3_artist_lst)) / len(set(x_artist_lst)))\n",
    "print('가수 중복 비율 :',len(set(x_artist_lst) & set(y4_artist_lst)) / len(set(x_artist_lst)))\n",
    "print('가수 중복 비율 :',len(set(x_artist_lst) & set(y5_artist_lst)) / len(set(x_artist_lst)))\n"
   ]
  },
  {
   "cell_type": "markdown",
   "id": "3f40a691-39d5-40d9-8d2f-9f54a72ed519",
   "metadata": {},
   "source": [
    "## 중복 곡의 아이디 확인"
   ]
  },
  {
   "cell_type": "code",
   "execution_count": 15,
   "id": "b261132c-7c90-4132-b16e-e1bf759cc511",
   "metadata": {},
   "outputs": [
    {
     "name": "stdout",
     "output_type": "stream",
     "text": [
      "47 {146310, 61450, 258957, 335118, 562575, 570638, 655888, 261524, 420377, 253594, 352039, 473639, 168361, 313901, 214577, 688690, 104628, 177460, 574134, 88253, 373181, 565821, 502720, 678078, 354887, 106953, 473162, 392779, 258508, 394965, 457943, 663256, 563802, 670044, 259807, 356575, 174950, 362347, 703599, 291570, 18803, 119795, 334453, 367732, 657909, 129018, 44030}\n",
      "\n",
      " set()\n",
      "\n",
      " set()\n",
      "\n",
      " set()\n",
      "\n",
      " {129018, 174950}\n",
      "\n",
      " {129018, 258508, 88253}\n"
     ]
    }
   ],
   "source": [
    "# y별 중복 곡은 뭐가 있나?\n",
    "print(len(set(x.index)), set(x.index)) # input data\n",
    "print('\\n',set(x.index) & set(y1.index))\n",
    "print('\\n',set(x.index) & set(y2.index))\n",
    "print('\\n',set(x.index) & set(y3.index))\n",
    "print('\\n',set(x.index) & set(y4.index))\n",
    "print('\\n',set(x.index) & set(y5.index))"
   ]
  },
  {
   "cell_type": "markdown",
   "id": "b9b9c765-ffcd-4560-bda0-793bc8674be6",
   "metadata": {},
   "source": [
    "## 중복곡 정보 확인 "
   ]
  },
  {
   "cell_type": "code",
   "execution_count": 18,
   "id": "0930c7ab-608c-48bf-b139-317694feb264",
   "metadata": {},
   "outputs": [
    {
     "data": {
      "text/html": [
       "<div>\n",
       "<style scoped>\n",
       "    .dataframe tbody tr th:only-of-type {\n",
       "        vertical-align: middle;\n",
       "    }\n",
       "\n",
       "    .dataframe tbody tr th {\n",
       "        vertical-align: top;\n",
       "    }\n",
       "\n",
       "    .dataframe thead th {\n",
       "        text-align: right;\n",
       "    }\n",
       "</style>\n",
       "<table border=\"1\" class=\"dataframe\">\n",
       "  <thead>\n",
       "    <tr style=\"text-align: right;\">\n",
       "      <th></th>\n",
       "      <th>song_gn_dtl_gnr_basket</th>\n",
       "      <th>issue_date</th>\n",
       "      <th>album_name</th>\n",
       "      <th>album_id</th>\n",
       "      <th>artist_id_basket</th>\n",
       "      <th>song_name</th>\n",
       "      <th>song_gn_gnr_basket</th>\n",
       "      <th>artist_name_basket</th>\n",
       "      <th>id</th>\n",
       "    </tr>\n",
       "  </thead>\n",
       "  <tbody>\n",
       "    <tr>\n",
       "      <th>88253</th>\n",
       "      <td>[GN1003, GN1013, GN1001]</td>\n",
       "      <td>20030930</td>\n",
       "      <td>Absolution</td>\n",
       "      <td>32804</td>\n",
       "      <td>[100545]</td>\n",
       "      <td>Stockholm Syndrome</td>\n",
       "      <td>[GN1000]</td>\n",
       "      <td>[Muse]</td>\n",
       "      <td>88253</td>\n",
       "    </tr>\n",
       "    <tr>\n",
       "      <th>174950</th>\n",
       "      <td>[GN1503, GN1007, GN1501, GN1001]</td>\n",
       "      <td>20090623</td>\n",
       "      <td>트랜스포머: 패자의 역습 OST</td>\n",
       "      <td>593966</td>\n",
       "      <td>[105050]</td>\n",
       "      <td>Burn It To The Ground</td>\n",
       "      <td>[GN1500, GN1000]</td>\n",
       "      <td>[Nickelback]</td>\n",
       "      <td>174950</td>\n",
       "    </tr>\n",
       "    <tr>\n",
       "      <th>258508</th>\n",
       "      <td>[GN1013, GN1001]</td>\n",
       "      <td>20010701</td>\n",
       "      <td>Origin Of Symmetry</td>\n",
       "      <td>2720</td>\n",
       "      <td>[100545]</td>\n",
       "      <td>Plug In Baby</td>\n",
       "      <td>[GN1000]</td>\n",
       "      <td>[Muse]</td>\n",
       "      <td>258508</td>\n",
       "    </tr>\n",
       "    <tr>\n",
       "      <th>420377</th>\n",
       "      <td>[GN1013, GN1001]</td>\n",
       "      <td>20090908</td>\n",
       "      <td>Love Drunk</td>\n",
       "      <td>660551</td>\n",
       "      <td>[228896]</td>\n",
       "      <td>Love Drunk</td>\n",
       "      <td>[GN1000]</td>\n",
       "      <td>[Boys Like Girls]</td>\n",
       "      <td>420377</td>\n",
       "    </tr>\n",
       "    <tr>\n",
       "      <th>563802</th>\n",
       "      <td>[GN1013, GN1001]</td>\n",
       "      <td>20161202</td>\n",
       "      <td>Rise And Fall, Rage And Grace</td>\n",
       "      <td>386978</td>\n",
       "      <td>[104372]</td>\n",
       "      <td>You`re Gonna Go Far, Kid</td>\n",
       "      <td>[GN1000]</td>\n",
       "      <td>[The Offspring]</td>\n",
       "      <td>563802</td>\n",
       "    </tr>\n",
       "    <tr>\n",
       "      <th>655888</th>\n",
       "      <td>[GN1201]</td>\n",
       "      <td>20100621</td>\n",
       "      <td>Recovery</td>\n",
       "      <td>931351</td>\n",
       "      <td>[1986]</td>\n",
       "      <td>Love The Way You Lie (Feat. Rihanna)</td>\n",
       "      <td>[GN1200]</td>\n",
       "      <td>[Eminem]</td>\n",
       "      <td>655888</td>\n",
       "    </tr>\n",
       "  </tbody>\n",
       "</table>\n",
       "</div>"
      ],
      "text/plain": [
       "                  song_gn_dtl_gnr_basket issue_date  \\\n",
       "88253           [GN1003, GN1013, GN1001]   20030930   \n",
       "174950  [GN1503, GN1007, GN1501, GN1001]   20090623   \n",
       "258508                  [GN1013, GN1001]   20010701   \n",
       "420377                  [GN1013, GN1001]   20090908   \n",
       "563802                  [GN1013, GN1001]   20161202   \n",
       "655888                          [GN1201]   20100621   \n",
       "\n",
       "                           album_name  album_id artist_id_basket  \\\n",
       "88253                      Absolution     32804         [100545]   \n",
       "174950              트랜스포머: 패자의 역습 OST    593966         [105050]   \n",
       "258508             Origin Of Symmetry      2720         [100545]   \n",
       "420377                     Love Drunk    660551         [228896]   \n",
       "563802  Rise And Fall, Rage And Grace    386978         [104372]   \n",
       "655888                       Recovery    931351           [1986]   \n",
       "\n",
       "                                   song_name song_gn_gnr_basket  \\\n",
       "88253                     Stockholm Syndrome           [GN1000]   \n",
       "174950                 Burn It To The Ground   [GN1500, GN1000]   \n",
       "258508                          Plug In Baby           [GN1000]   \n",
       "420377                            Love Drunk           [GN1000]   \n",
       "563802              You`re Gonna Go Far, Kid           [GN1000]   \n",
       "655888  Love The Way You Lie (Feat. Rihanna)           [GN1200]   \n",
       "\n",
       "       artist_name_basket      id  \n",
       "88253              [Muse]   88253  \n",
       "174950       [Nickelback]  174950  \n",
       "258508             [Muse]  258508  \n",
       "420377  [Boys Like Girls]  420377  \n",
       "563802    [The Offspring]  563802  \n",
       "655888           [Eminem]  655888  "
      ]
     },
     "execution_count": 18,
     "metadata": {},
     "output_type": "execute_result"
    }
   ],
   "source": [
    "song[(song['id']==88253) | (song['id']==174950)|(song['id']==258508)|(song['id']==420377)|(song['id']==563802)|(song['id']==655888)]"
   ]
  },
  {
   "cell_type": "markdown",
   "id": "e1745a29-2a58-4022-995d-a7069293e3dc",
   "metadata": {},
   "source": [
    "## 중복 가수 정보 확인"
   ]
  },
  {
   "cell_type": "code",
   "execution_count": 19,
   "id": "373e98a4-2c8c-4e58-bcb2-8256dbbb003d",
   "metadata": {},
   "outputs": [
    {
     "name": "stdout",
     "output_type": "stream",
     "text": [
      "Counter({'Muse': 5, 'Bruno Mars': 5, 'Maroon 5': 4, 'Kelly Clarkson': 4, 'David Guetta': 2, 'Stryper': 2, 'The Offspring': 2, 'Ylvis': 1, 'Green Day': 1, 'Avril Lavigne': 1, 'Skid Row': 1, 'Nirvana': 1, 'Mr.Big': 1, 'Firehouse': 1, 'Nickelback': 1, 'Karina': 1, 'Justin Bieber': 1, 'Taio Cruz': 1, 'Pendulum': 1, 'Nari & Milani': 1, 'Cristian Marchi': 1, 'Bingo Players': 1, 'The Ting Tings': 1, 'Boys Like Girls': 1, 'Ne-Yo': 1, 'Korpiklaani': 1, 'Eminem': 1, 'Jeff Bernat': 1, 'Hey Monday': 1, 'Jay Sean': 1, 'DJ Gollum': 1, 'Empyre One': 1})\n",
      "\n",
      " Counter({'Lana Del Rey': 4, 'Meghan Trainor': 3, 'Kings Of Convenience': 3, 'Elle King': 3, 'HONNE': 3, 'My Chemical Romance': 2, 'Alessia Cara': 2, 'Imagine Dragons': 2, 'Nathan Sykes': 2, 'Green Day': 2, 'Future': 2, 'Icona Pop': 2, 'Calvin Harris': 1, 'Kungs': 1, 'Cookin` On 3 Burners': 1, '5 Seconds Of Summer': 1, 'John Legend': 1, 'Fitz & The Tantrums': 1, 'Bruno Mars': 1, 'Isac Elliot': 1, 'Elli Ingram': 1, 'Jason Mraz': 1, 'Frenship': 1, 'Capital Cities': 1, 'Melanie Martinez': 1, 'Fall Out Boy': 1, 'Jax Jones': 1, 'RAYE': 1, 'Charli XCX': 1, 'DJ Khaled': 1, 'American Authors': 1, 'Julia Michaels': 1, 'Bleachers': 1, 'Gallant': 1, 'Ed Sheeran': 1, 'Barcelona': 1, 'Lily Allen': 1, 'Asher Book': 1, 'Coin': 1, 'Digital Farm Animals': 1, 'Cash Cash': 1, 'Ellie Goulding': 1, 'Muse': 1, 'Lady GaGa': 1, 'Colouring': 1, 'Chrisette Michele': 1, 'Holychild': 1, 'Coldplay': 1, 'AJ Michalka': 1, 'MARINA': 1, 'Breach': 1}) \n",
      "\n",
      " Counter({'Fishbone': 1, 'Korn': 1, 'Jane`s Addiction': 1, 'Red Hot Chili Peppers': 1, 'Sugar Ray': 1, 'Lenny Kravitz': 1, 'White Trash': 1, 'Infectious Grooves': 1, 'White Zombie': 1, 'Extreme': 1, 'Living Colour': 1, 'Buckethead': 1, 'Mr. Bungle': 1, 'Machine Head': 1, 'Green Jelly': 1, 'Scatterbrain': 1, 'Powerman 5000': 1, 'Fear Factory': 1, 'Primus': 1, 'Incubus': 1}) \n",
      "\n",
      " Counter({'Lisa Loeb & Nine Stories': 1, 'Skunk Anansie': 1, 'Sheryl Crow': 1, 'Chris Cornell': 1, 'Pearl Jam': 1, 'Green Day': 1, 'Marilyn Manson': 1, 'No Doubt': 1, 'Jon Bon Jovi': 1, 'Nine Inch Nails': 1, 'Gin Blossoms': 1, 'Filter': 1, 'Primitive Radio Gods': 1, 'Alanis Morissette': 1, 'The Goo Goo Dolls': 1, 'Megadeth': 1, 'Iggy Pop': 1, 'Smashing Pumpkins': 1, 'Aerosmith': 1, 'Stone Temple Pilots': 1, 'Shades Apart': 1, 'Bruce Springsteen': 1, 'Mono': 1, 'Class Of `99': 1, 'Brad': 1, 'Alice In Chains': 1, 'Red Hot Chili Peppers': 1}) \n",
      "\n",
      " Counter({'Fall Out Boy': 2, 'Stone Sour': 2, 'Nirvana': 2, 'Nickelback': 2, 'Three Days Grace': 2, 'Green Day': 2, 'Various Artists': 2, 'Royal Blood': 2, 'LINKIN PARK': 1, 'David Cook': 1, 'Jet': 1, 'Foo Fighters': 1, 'At Vance': 1, 'Daughtry': 1, 'The Union Underground': 1, 'The Used': 1, 'All Time Low': 1, 'Marianas Trench': 1, 'New Politics': 1, 'Lifehouse': 1, 'Skillet': 1, 'Walking On Cars': 1, 'Paramore': 1, 'Black Veil Brides': 1, 'Jamaica': 1, 'Pearl Jam': 1, 'The Offspring': 1, 'Theory Of A Deadman': 1, 'Soundgarden': 1, 'Imagine Dragons': 1, 'Bon Jovi': 1, 'My Chemical Romance': 1, 'Good Charlotte': 1, 'The Rasmus': 1, 'VersaEmerge': 1}) \n",
      "\n",
      " Counter({'LINKIN PARK': 5, 'Sum 41': 5, 'Muse': 3, 'Green Day': 3, 'Paramore': 3, 'Rise Against': 2, 'Velvet Revolver': 2, 'Puddle Of Mudd': 2, 'Breaking Benjamin': 2, 'Rage Against The Machine': 1, 'JAY-Z': 1, 'Nirvana': 1, 'The Killers': 1, 'Joe Lynn Turner': 1, 'The Used': 1, 'Fall Out Boy': 1, 'Pantera': 1, 'Alter Bridge': 1, 'Red Hot Chili Peppers': 1, 'Simple Plan': 1, 'Megadeth': 1}) \n",
      "\n",
      "dict_keys(['Green Day', 'Muse', 'Bruno Mars'])\n",
      "dict_keys([])\n",
      "dict_keys(['Green Day'])\n",
      "dict_keys(['Green Day', 'Nirvana', 'Nickelback', 'The Offspring'])\n",
      "dict_keys(['Green Day', 'Muse', 'Nirvana'])\n"
     ]
    }
   ],
   "source": [
    "# 중복 가수는 누가 있나?\n",
    "print(Counter(x_artist_lst)) # input data\n",
    "print('\\n',Counter(y1_artist_lst),'\\n\\n',Counter(y2_artist_lst),'\\n\\n',Counter(y3_artist_lst),'\\n\\n',Counter(y4_artist_lst),'\\n\\n',Counter(y5_artist_lst),'\\n') #output data\n",
    "print((Counter(x_artist_lst) & Counter(y1_artist_lst)).keys()) # (x,y1) 중복 가수\n",
    "print((Counter(x_artist_lst) & Counter(y2_artist_lst)).keys()) # (x,y2) 중복 가수\n",
    "print((Counter(x_artist_lst) & Counter(y3_artist_lst)).keys()) # (x,y3) 중복 가수\n",
    "print((Counter(x_artist_lst) & Counter(y4_artist_lst)).keys()) # (x,y4) 중복 가수\n",
    "print((Counter(x_artist_lst) & Counter(y5_artist_lst)).keys()) # (x,y5) 중복 가수\n",
    "\n"
   ]
  },
  {
   "cell_type": "markdown",
   "id": "bfdb44e6-cfd4-45da-a258-16aeaa33a03c",
   "metadata": {},
   "source": [
    "---"
   ]
  },
  {
   "cell_type": "markdown",
   "id": "f2df8efc-99c0-4a94-bbfb-c61e245deffd",
   "metadata": {},
   "source": [
    "# 한 장르 안에 곡이 몇 개고, 가수가 몇 명인지\n",
    "곡, 가수 유사도가 생각보다 낮음.    \n",
    "현재 나눈 장르 기준 255\n",
    "15명아티스트\n",
    "한 장르에 10명의 아티스트\n",
    "1/4"
   ]
  },
  {
   "cell_type": "markdown",
   "id": "d6f0458d-edc8-4040-ac7b-8331c6056965",
   "metadata": {},
   "source": [
    "# Playlist 추천시스템  완성"
   ]
  },
  {
   "cell_type": "code",
   "execution_count": 24,
   "id": "f2594982-8ad7-437d-97a3-fee0e4db2dee",
   "metadata": {},
   "outputs": [
    {
     "data": {
      "text/plain": [
       "[93827, 96340, 104385, 51419, 2909]"
      ]
     },
     "execution_count": 24,
     "metadata": {},
     "output_type": "execute_result"
    }
   ],
   "source": [
    "# ply2ply_als_model pickle 불러오기\n",
    "def ply2ply_recommendation(USER_ID): \n",
    "    import pickle\n",
    "    with open('data/ply2ply_als_model.pickle','rb') as f:\n",
    "        als_model = pickle.load(f)\n",
    "    find_top5_ply = als_model.similar_items(USER_ID,N=6)\n",
    "    top5 = list(map(lambda x : x[0], find_top5_ply))\n",
    "    del top5[0]\n",
    "    return top5\n",
    "\n",
    "ply2ply_recommendation(10000)"
   ]
  },
  {
   "cell_type": "code",
   "execution_count": null,
   "id": "3e56e4ab-f53d-4c34-a4d2-48ecfb6f09a3",
   "metadata": {},
   "outputs": [],
   "source": []
  }
 ],
 "metadata": {
  "kernelspec": {
   "display_name": "Python 3",
   "language": "python",
   "name": "python3"
  },
  "language_info": {
   "codemirror_mode": {
    "name": "ipython",
    "version": 3
   },
   "file_extension": ".py",
   "mimetype": "text/x-python",
   "name": "python",
   "nbconvert_exporter": "python",
   "pygments_lexer": "ipython3",
   "version": "3.8.8"
  }
 },
 "nbformat": 4,
 "nbformat_minor": 5
}
