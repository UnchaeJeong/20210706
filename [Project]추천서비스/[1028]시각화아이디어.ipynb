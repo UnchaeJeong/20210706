{
 "cells": [
  {
   "cell_type": "code",
   "execution_count": 90,
   "id": "bf0e4dd0-c205-47ad-b526-ff766502a5ed",
   "metadata": {},
   "outputs": [],
   "source": [
    "import os\n",
    "import json\n",
    "import pandas as pd\n",
    "from itertools import chain"
   ]
  },
  {
   "cell_type": "code",
   "execution_count": 63,
   "id": "bfc7215f-d364-4ed7-8775-e66692bc6fcf",
   "metadata": {},
   "outputs": [],
   "source": [
    "# 데이터 불러오기\n",
    "\n",
    "with open('data/train.json',encoding='utf-8-sig') as f:\n",
    "    train_dict = json.load(f)\n",
    "    \n",
    "with open('data/song_meta.json',encoding='utf-8-sig') as f:\n",
    "    song_dict = json.load(f)\n",
    "    \n",
    "with open('data/genre_gn_all.json',encoding='utf-8-sig') as f:\n",
    "    genre_dict = json.load(f)\n",
    "    \n",
    "train = pd.DataFrame.from_dict(train_dict)\n",
    "genre_gn_all = pd.read_json('data/genre_gn_all.json', typ = 'series') # 장르 읽어오기\n",
    "song = pd.DataFrame.from_dict(song_dict)\n",
    "genre = pd.DataFrame(genre_gn_all, columns = ['gnr_name']).reset_index().rename(columns = {'index' : 'gnr_code'}) # 장르코드 : gnr_code, 장르명 : gnr_name \n",
    "\n",
    "\n",
    "\n",
    "df_train = train.copy()\n",
    "df_song = song.copy()\n",
    "\n",
    "# song data 사용할 컬럼만 가져오기\n",
    "df_gnr_id_song = song[['song_gn_dtl_gnr_basket','id']].copy()\n",
    "# 컬럼 알아보기 쉽게 한글로 바꾸기\n",
    "df_gnr_id_song = df_gnr_id_song.rename(columns={'song_gn_dtl_gnr_basket':'장르','id':'곡id'})\n",
    "\n",
    "\n",
    "\n",
    "df_genre = genre.copy()"
   ]
  },
  {
   "cell_type": "code",
   "execution_count": 64,
   "id": "ee1025e3-e82a-448b-bbfc-d2a48ba0f245",
   "metadata": {},
   "outputs": [
    {
     "data": {
      "text/html": [
       "<div>\n",
       "<style scoped>\n",
       "    .dataframe tbody tr th:only-of-type {\n",
       "        vertical-align: middle;\n",
       "    }\n",
       "\n",
       "    .dataframe tbody tr th {\n",
       "        vertical-align: top;\n",
       "    }\n",
       "\n",
       "    .dataframe thead th {\n",
       "        text-align: right;\n",
       "    }\n",
       "</style>\n",
       "<table border=\"1\" class=\"dataframe\">\n",
       "  <thead>\n",
       "    <tr style=\"text-align: right;\">\n",
       "      <th></th>\n",
       "      <th>tags</th>\n",
       "      <th>id</th>\n",
       "      <th>plylst_title</th>\n",
       "      <th>songs</th>\n",
       "      <th>like_cnt</th>\n",
       "      <th>updt_date</th>\n",
       "    </tr>\n",
       "  </thead>\n",
       "  <tbody>\n",
       "    <tr>\n",
       "      <th>0</th>\n",
       "      <td>[락]</td>\n",
       "      <td>61281</td>\n",
       "      <td>여행같은 음악</td>\n",
       "      <td>[525514, 129701, 383374, 562083, 297861, 13954...</td>\n",
       "      <td>71</td>\n",
       "      <td>2013-12-19 18:36:19.000</td>\n",
       "    </tr>\n",
       "  </tbody>\n",
       "</table>\n",
       "</div>"
      ],
      "text/plain": [
       "  tags     id plylst_title                                              songs  \\\n",
       "0  [락]  61281      여행같은 음악  [525514, 129701, 383374, 562083, 297861, 13954...   \n",
       "\n",
       "   like_cnt                updt_date  \n",
       "0        71  2013-12-19 18:36:19.000  "
      ]
     },
     "metadata": {},
     "output_type": "display_data"
    },
    {
     "data": {
      "text/html": [
       "<div>\n",
       "<style scoped>\n",
       "    .dataframe tbody tr th:only-of-type {\n",
       "        vertical-align: middle;\n",
       "    }\n",
       "\n",
       "    .dataframe tbody tr th {\n",
       "        vertical-align: top;\n",
       "    }\n",
       "\n",
       "    .dataframe thead th {\n",
       "        text-align: right;\n",
       "    }\n",
       "</style>\n",
       "<table border=\"1\" class=\"dataframe\">\n",
       "  <thead>\n",
       "    <tr style=\"text-align: right;\">\n",
       "      <th></th>\n",
       "      <th>song_gn_dtl_gnr_basket</th>\n",
       "      <th>issue_date</th>\n",
       "      <th>album_name</th>\n",
       "      <th>album_id</th>\n",
       "      <th>artist_id_basket</th>\n",
       "      <th>song_name</th>\n",
       "      <th>song_gn_gnr_basket</th>\n",
       "      <th>artist_name_basket</th>\n",
       "      <th>id</th>\n",
       "    </tr>\n",
       "  </thead>\n",
       "  <tbody>\n",
       "    <tr>\n",
       "      <th>0</th>\n",
       "      <td>[GN0901]</td>\n",
       "      <td>20140512</td>\n",
       "      <td>불후의 명곡 - 7080 추억의 얄개시대 팝송베스트</td>\n",
       "      <td>2255639</td>\n",
       "      <td>[2727]</td>\n",
       "      <td>Feelings</td>\n",
       "      <td>[GN0900]</td>\n",
       "      <td>[Various Artists]</td>\n",
       "      <td>0</td>\n",
       "    </tr>\n",
       "  </tbody>\n",
       "</table>\n",
       "</div>"
      ],
      "text/plain": [
       "  song_gn_dtl_gnr_basket issue_date                    album_name  album_id  \\\n",
       "0               [GN0901]   20140512  불후의 명곡 - 7080 추억의 얄개시대 팝송베스트   2255639   \n",
       "\n",
       "  artist_id_basket song_name song_gn_gnr_basket artist_name_basket  id  \n",
       "0           [2727]  Feelings           [GN0900]  [Various Artists]   0  "
      ]
     },
     "metadata": {},
     "output_type": "display_data"
    },
    {
     "data": {
      "text/html": [
       "<div>\n",
       "<style scoped>\n",
       "    .dataframe tbody tr th:only-of-type {\n",
       "        vertical-align: middle;\n",
       "    }\n",
       "\n",
       "    .dataframe tbody tr th {\n",
       "        vertical-align: top;\n",
       "    }\n",
       "\n",
       "    .dataframe thead th {\n",
       "        text-align: right;\n",
       "    }\n",
       "</style>\n",
       "<table border=\"1\" class=\"dataframe\">\n",
       "  <thead>\n",
       "    <tr style=\"text-align: right;\">\n",
       "      <th></th>\n",
       "      <th>gnr_code</th>\n",
       "      <th>gnr_name</th>\n",
       "    </tr>\n",
       "  </thead>\n",
       "  <tbody>\n",
       "    <tr>\n",
       "      <th>0</th>\n",
       "      <td>GN0100</td>\n",
       "      <td>발라드</td>\n",
       "    </tr>\n",
       "  </tbody>\n",
       "</table>\n",
       "</div>"
      ],
      "text/plain": [
       "  gnr_code gnr_name\n",
       "0   GN0100      발라드"
      ]
     },
     "metadata": {},
     "output_type": "display_data"
    }
   ],
   "source": [
    "display(df_train.head(1))\n",
    "display(df_song.head(1))\n",
    "display(df_genre.head(1))"
   ]
  },
  {
   "cell_type": "code",
   "execution_count": null,
   "id": "e2d7fc8b-57b3-4f82-8f50-c0416e7abd23",
   "metadata": {},
   "outputs": [],
   "source": [
    "# 리스트 형식 : tags, songs / gnr_code, artist\n",
    "# str : ply_title, album_name, song_name, gnr_name\n",
    "# datetime : updt_date, \n",
    "# int : id, like_cnt, song_id\n",
    "    \n",
    "# 범위를 어떻게 줄일까?\n",
    "# 1. playlist 하나로 한정시킬 것\n",
    "# 2. 잦은 빈도로 쓰이는 이름을 그룹화할 수 있을까?\n",
    "#  - 그룹화한다면 각 세부 장르별 TOP10.? - 열 개의 단어가 장르를 대표한다고 할 수 있을까?\n",
    "#    2550개의 단어가 생길 것.\n",
    "#    한 대장르 당 70개 정도임.\n",
    "   "
   ]
  },
  {
   "cell_type": "code",
   "execution_count": null,
   "id": "e1328039-ddef-48d1-92e3-8281a6965c37",
   "metadata": {},
   "outputs": [],
   "source": [
    "# # 불연속형 기간(매년-분기별, 월별)\n",
    "# 장르분포, 태그-타이틀\n",
    "# 1. 어떤 장르가 어떤 계절에 많이 나오는가? issue_date를 기준으로\n",
    "# 2. 멜론 플레이리스트를 이용하는 사람들의 선호 성향을 알 수 있을까?\n",
    "#  - 대표적인 몇몇 태그와 비슷하게 나오는 태그들\n",
    "# 3. 장르별 추천 태그는 뭐가 있을까? \n",
    "#  - \n",
    "\n",
    "# # 연속형 기간(년도)\n",
    "    \n",
    "    \n",
    "# # 디자인적으로 고민\n",
    "# - "
   ]
  },
  {
   "cell_type": "markdown",
   "id": "8ad2b450-876d-45b4-b90c-c941b4f96db0",
   "metadata": {},
   "source": [
    "# 정호가 만든 new_train"
   ]
  },
  {
   "cell_type": "code",
   "execution_count": 65,
   "id": "0665ef4b-62d8-49da-9669-8ad0730a784d",
   "metadata": {},
   "outputs": [],
   "source": [
    "with open('data/1027_new_train.json',encoding='utf-8-sig') as f:\n",
    "    new_train1027_dict = json.load(f)\n",
    "    \n",
    "new_train = pd.DataFrame.from_dict(new_train1027_dict)"
   ]
  },
  {
   "cell_type": "code",
   "execution_count": 61,
   "id": "b3a6c5d8-1559-48e5-a424-3229e10563bf",
   "metadata": {},
   "outputs": [
    {
     "data": {
      "text/html": [
       "<div>\n",
       "<style scoped>\n",
       "    .dataframe tbody tr th:only-of-type {\n",
       "        vertical-align: middle;\n",
       "    }\n",
       "\n",
       "    .dataframe tbody tr th {\n",
       "        vertical-align: top;\n",
       "    }\n",
       "\n",
       "    .dataframe thead th {\n",
       "        text-align: right;\n",
       "    }\n",
       "</style>\n",
       "<table border=\"1\" class=\"dataframe\">\n",
       "  <thead>\n",
       "    <tr style=\"text-align: right;\">\n",
       "      <th></th>\n",
       "      <th>tags</th>\n",
       "      <th>id</th>\n",
       "      <th>new_tags</th>\n",
       "      <th>plylst_title</th>\n",
       "      <th>songs</th>\n",
       "      <th>like_cnt</th>\n",
       "      <th>updt_date</th>\n",
       "    </tr>\n",
       "  </thead>\n",
       "  <tbody>\n",
       "    <tr>\n",
       "      <th>1359</th>\n",
       "      <td>[힙합, kpop, 알앤비, 취향저격, 드라이브, 기분전환, 트렌디, 신나는]</td>\n",
       "      <td>35856</td>\n",
       "      <td>[k, 취향, hot, 드라이브, 신나, kpop, 기분전환, 선, trendy, ...</td>\n",
       "      <td>HOT TRENDY K-POP: 놓쳐선 안될 '케이팝' (매주 업데이트)</td>\n",
       "      <td>[698650, 32213, 361155, 485510, 396405, 78497,...</td>\n",
       "      <td>13268</td>\n",
       "      <td>2020-04-23 13:54:35.000</td>\n",
       "    </tr>\n",
       "    <tr>\n",
       "      <th>1519</th>\n",
       "      <td>[휴식, 밤, 잔잔한, 새벽, 감성, 뉴에이지, 피아노, 밤에듣기좋은노래]</td>\n",
       "      <td>39508</td>\n",
       "      <td>[휴식, 밤, 잔잔, 감성, 뉴에이지, 제목, 기억, 피아노, 새벽]</td>\n",
       "      <td>제목이 기억안나서 못들었던 뉴에이지</td>\n",
       "      <td>[420205, 229473, 621441, 337447, 291668, 35854...</td>\n",
       "      <td>20677</td>\n",
       "      <td>2019-11-30 23:25:24.000</td>\n",
       "    </tr>\n",
       "  </tbody>\n",
       "</table>\n",
       "</div>"
      ],
      "text/plain": [
       "                                             tags     id  \\\n",
       "1359  [힙합, kpop, 알앤비, 취향저격, 드라이브, 기분전환, 트렌디, 신나는]  35856   \n",
       "1519    [휴식, 밤, 잔잔한, 새벽, 감성, 뉴에이지, 피아노, 밤에듣기좋은노래]  39508   \n",
       "\n",
       "                                               new_tags  \\\n",
       "1359  [k, 취향, hot, 드라이브, 신나, kpop, 기분전환, 선, trendy, ...   \n",
       "1519             [휴식, 밤, 잔잔, 감성, 뉴에이지, 제목, 기억, 피아노, 새벽]   \n",
       "\n",
       "                                  plylst_title  \\\n",
       "1359  HOT TRENDY K-POP: 놓쳐선 안될 '케이팝' (매주 업데이트)   \n",
       "1519                       제목이 기억안나서 못들었던 뉴에이지   \n",
       "\n",
       "                                                  songs  like_cnt  \\\n",
       "1359  [698650, 32213, 361155, 485510, 396405, 78497,...     13268   \n",
       "1519  [420205, 229473, 621441, 337447, 291668, 35854...     20677   \n",
       "\n",
       "                    updt_date  \n",
       "1359  2020-04-23 13:54:35.000  \n",
       "1519  2019-11-30 23:25:24.000  "
      ]
     },
     "execution_count": 61,
     "metadata": {},
     "output_type": "execute_result"
    }
   ],
   "source": [
    "new_train[new_train['like_cnt']>10000].head(2) # new tags = 자연어처리 다 한 것\n",
    "# 문제 : 태그 종류가 많아도 너무 많다. 시각화할 수 없을정도.. \n",
    "# 가설 1 : like_cnt 가 일정 이상이면 주제가 있는 플레이리스트일 것\n",
    "    # 추려진 ply의 수록곡 장르의 비중을 sort하고\n",
    "    # new_tags = top00장르를 대표하는 것으로 보고\n",
    "    # 장르별 태그 cnt를 붙여줌.\n",
    "    # "
   ]
  },
  {
   "cell_type": "code",
   "execution_count": 89,
   "id": "25b8b503-3f0e-44ae-bab1-9f73cae43960",
   "metadata": {
    "tags": []
   },
   "outputs": [
    {
     "data": {
      "text/plain": [
       "0         [525514, 129701, 383374, 562083, 297861, 13954...\n",
       "1         [432406, 675945, 497066, 120377, 389529, 24427...\n",
       "2         [83116, 276692, 166267, 186301, 354465, 256598...\n",
       "3         [394031, 195524, 540149, 287984, 440773, 10033...\n",
       "4         [159327, 553610, 5130, 645103, 294435, 100657,...\n",
       "                                ...                        \n",
       "115066    [429629, 441511, 612106, 516359, 691768, 38714...\n",
       "115067    [321330, 216057, 534472, 240306, 331098, 23288...\n",
       "115068    [50512, 249024, 250608, 371171, 229942, 694943...\n",
       "115069    [533534, 608114, 343608, 417140, 609009, 30217...\n",
       "115070    [26008, 456354, 324105, 89871, 135272, 143548,...\n",
       "Name: songs, Length: 115071, dtype: object"
      ]
     },
     "execution_count": 89,
     "metadata": {},
     "output_type": "execute_result"
    }
   ],
   "source": [
    "new_train['songs']"
   ]
  },
  {
   "cell_type": "code",
   "execution_count": 133,
   "id": "ae855b7b-9460-4cd3-aaf0-bfef031eec96",
   "metadata": {},
   "outputs": [],
   "source": [
    "from itertools import chain\n",
    "gnr_code_list = list(genre_dict.keys()) # \n",
    "\n",
    "gnr_id_dict =  dict(zip(gnr_code, range(len(gnr_code))))\n",
    "\n",
    "song_id_gnr_dict =dict(zip(df_song['id'].tolist(),df_song['song_gn_gnr_basket']))"
   ]
  },
  {
   "cell_type": "code",
   "execution_count": null,
   "id": "ae695e29-5153-42ca-87a9-2c3e73d0febd",
   "metadata": {},
   "outputs": [],
   "source": []
  }
 ],
 "metadata": {
  "kernelspec": {
   "display_name": "Python 3",
   "language": "python",
   "name": "python3"
  },
  "language_info": {
   "codemirror_mode": {
    "name": "ipython",
    "version": 3
   },
   "file_extension": ".py",
   "mimetype": "text/x-python",
   "name": "python",
   "nbconvert_exporter": "python",
   "pygments_lexer": "ipython3",
   "version": "3.8.8"
  }
 },
 "nbformat": 4,
 "nbformat_minor": 5
}
