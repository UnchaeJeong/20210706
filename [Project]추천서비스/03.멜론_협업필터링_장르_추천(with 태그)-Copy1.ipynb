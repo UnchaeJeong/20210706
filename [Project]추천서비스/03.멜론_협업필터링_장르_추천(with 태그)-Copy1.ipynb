{
 "cells": [
  {
   "cell_type": "code",
   "execution_count": 1,
   "id": "a8d018fc",
   "metadata": {
    "ExecuteTime": {
     "end_time": "2021-09-02T08:11:47.026817Z",
     "start_time": "2021-09-02T08:11:46.669817Z"
    }
   },
   "outputs": [],
   "source": [
    "import os\n",
    "import json\n",
    "import numpy as np\n",
    "import pandas as pd\n",
    "import scipy.sparse as spr"
   ]
  },
  {
   "cell_type": "markdown",
   "id": "14b83835",
   "metadata": {},
   "source": [
    "목차\n",
    "\n",
    "- 1. 데이터 처리 (불러오기,추가,수정,변환)\n",
    "- 2. 플레이리스트로 추천 (협업필터링)"
   ]
  },
  {
   "cell_type": "markdown",
   "id": "1cc6b113",
   "metadata": {},
   "source": [
    "# 데이터 처리"
   ]
  },
  {
   "cell_type": "markdown",
   "id": "df07c61b",
   "metadata": {},
   "source": [
    "## train,song,genre data 불러오기"
   ]
  },
  {
   "cell_type": "code",
   "execution_count": 2,
   "id": "c1a6d168",
   "metadata": {
    "ExecuteTime": {
     "end_time": "2021-09-02T08:11:55.261818Z",
     "start_time": "2021-09-02T08:11:47.027818Z"
    }
   },
   "outputs": [],
   "source": [
    "with open('data/train.json',encoding='utf-8-sig') as f:\n",
    "    train_dict = json.load(f)\n",
    "    \n",
    "with open('data/song_meta.json',encoding='utf-8-sig') as f:\n",
    "    song_dict = json.load(f)\n",
    "    \n",
    "with open('data/genre_gn_all.json',encoding='utf-8-sig') as f:\n",
    "    genre_dict = json.load(f)\n",
    "    \n",
    "# dict -> dataframe 변환\n",
    "train_df = pd.DataFrame.from_dict(train_dict)\n",
    "song_df = pd.DataFrame.from_dict(song_dict)"
   ]
  },
  {
   "cell_type": "markdown",
   "id": "6745796d",
   "metadata": {},
   "source": [
    "## train_df 전처리"
   ]
  },
  {
   "cell_type": "code",
   "execution_count": 3,
   "id": "f7fea94b",
   "metadata": {
    "ExecuteTime": {
     "end_time": "2021-09-02T08:11:55.291817Z",
     "start_time": "2021-09-02T08:11:55.263819Z"
    }
   },
   "outputs": [
    {
     "data": {
      "text/html": [
       "<div>\n",
       "<style scoped>\n",
       "    .dataframe tbody tr th:only-of-type {\n",
       "        vertical-align: middle;\n",
       "    }\n",
       "\n",
       "    .dataframe tbody tr th {\n",
       "        vertical-align: top;\n",
       "    }\n",
       "\n",
       "    .dataframe thead th {\n",
       "        text-align: right;\n",
       "    }\n",
       "</style>\n",
       "<table border=\"1\" class=\"dataframe\">\n",
       "  <thead>\n",
       "    <tr style=\"text-align: right;\">\n",
       "      <th></th>\n",
       "      <th>tags</th>\n",
       "      <th>id</th>\n",
       "      <th>plylst_title</th>\n",
       "      <th>songs</th>\n",
       "      <th>like_cnt</th>\n",
       "      <th>updt_date</th>\n",
       "    </tr>\n",
       "  </thead>\n",
       "  <tbody>\n",
       "    <tr>\n",
       "      <th>0</th>\n",
       "      <td>[락]</td>\n",
       "      <td>61281</td>\n",
       "      <td>여행같은 음악</td>\n",
       "      <td>[525514, 129701, 383374, 562083, 297861, 13954...</td>\n",
       "      <td>71</td>\n",
       "      <td>2013-12-19 18:36:19.000</td>\n",
       "    </tr>\n",
       "    <tr>\n",
       "      <th>1</th>\n",
       "      <td>[추억, 회상]</td>\n",
       "      <td>10532</td>\n",
       "      <td>요즘 너 말야</td>\n",
       "      <td>[432406, 675945, 497066, 120377, 389529, 24427...</td>\n",
       "      <td>1</td>\n",
       "      <td>2014-12-02 16:19:42.000</td>\n",
       "    </tr>\n",
       "    <tr>\n",
       "      <th>2</th>\n",
       "      <td>[까페, 잔잔한]</td>\n",
       "      <td>76951</td>\n",
       "      <td>편하게, 잔잔하게 들을 수 있는 곡.-</td>\n",
       "      <td>[83116, 276692, 166267, 186301, 354465, 256598...</td>\n",
       "      <td>17</td>\n",
       "      <td>2017-08-28 07:09:34.000</td>\n",
       "    </tr>\n",
       "  </tbody>\n",
       "</table>\n",
       "</div>"
      ],
      "text/plain": [
       "        tags     id           plylst_title  \\\n",
       "0        [락]  61281                여행같은 음악   \n",
       "1   [추억, 회상]  10532                요즘 너 말야   \n",
       "2  [까페, 잔잔한]  76951  편하게, 잔잔하게 들을 수 있는 곡.-   \n",
       "\n",
       "                                               songs  like_cnt  \\\n",
       "0  [525514, 129701, 383374, 562083, 297861, 13954...        71   \n",
       "1  [432406, 675945, 497066, 120377, 389529, 24427...         1   \n",
       "2  [83116, 276692, 166267, 186301, 354465, 256598...        17   \n",
       "\n",
       "                 updt_date  \n",
       "0  2013-12-19 18:36:19.000  \n",
       "1  2014-12-02 16:19:42.000  \n",
       "2  2017-08-28 07:09:34.000  "
      ]
     },
     "execution_count": 3,
     "metadata": {},
     "output_type": "execute_result"
    }
   ],
   "source": [
    "train_df.head(3)"
   ]
  },
  {
   "cell_type": "markdown",
   "id": "modified-danger",
   "metadata": {
    "cell_style": "center"
   },
   "source": [
    "### train_df 플레이리스트에 포함된 태그의 갯수, 곡수 컬럼 추가"
   ]
  },
  {
   "cell_type": "code",
   "execution_count": 4,
   "id": "52671332",
   "metadata": {
    "ExecuteTime": {
     "end_time": "2021-09-02T08:11:55.381818Z",
     "start_time": "2021-09-02T08:11:55.293819Z"
    }
   },
   "outputs": [],
   "source": [
    "# 플레이리스트 곡수 컬럼 추가\n",
    "train_df['tags_cnt'] = train_df['tags'].map(lambda x : len(x))\n",
    "\n",
    "# 플레이리스트 태그수 컬럼 추가\n",
    "train_df['songs_cnt'] = train_df['songs'].map(lambda x : len(x))"
   ]
  },
  {
   "cell_type": "markdown",
   "id": "proof-watts",
   "metadata": {},
   "source": [
    "### train_df 에 포함된 곡들 (중복포함,중복제거)"
   ]
  },
  {
   "cell_type": "code",
   "execution_count": 5,
   "id": "c65ffd66",
   "metadata": {
    "ExecuteTime": {
     "end_time": "2021-09-02T08:11:55.833219Z",
     "start_time": "2021-09-02T08:11:55.382819Z"
    }
   },
   "outputs": [],
   "source": [
    "from itertools import chain\n",
    "\n",
    "# 플레이리스트 포함된 노래 중복포함\n",
    "songs_duplicate = chain.from_iterable(train_df['songs'].tolist())\n",
    "\n",
    "# 플레이리스트 포함된 노래 중복제거\n",
    "songs_unique = list(set(songs_duplicate))"
   ]
  },
  {
   "cell_type": "markdown",
   "id": "interpreted-spokesman",
   "metadata": {},
   "source": [
    "### train_df 에 포함된 태그들 (중복포함,중복제거)"
   ]
  },
  {
   "cell_type": "code",
   "execution_count": 6,
   "id": "2cd96416",
   "metadata": {
    "ExecuteTime": {
     "end_time": "2021-09-02T08:11:55.908095Z",
     "start_time": "2021-09-02T08:11:55.834221Z"
    }
   },
   "outputs": [],
   "source": [
    "# 플레이리스트 포함된 태그 중복포함\n",
    "tags_duplicate = list(chain.from_iterable(train_df['tags'].tolist()))\n",
    "\n",
    "# 플레이리스트 포함된 태그 중복제거\n",
    "tags_unique = list(set(tags_duplicate))"
   ]
  },
  {
   "cell_type": "markdown",
   "id": "6af49d01",
   "metadata": {},
   "source": [
    "### tag에 새로운 id부여, new_tags_id 컬럼 생성"
   ]
  },
  {
   "cell_type": "code",
   "execution_count": 7,
   "id": "f2dd4fe2",
   "metadata": {
    "ExecuteTime": {
     "end_time": "2021-09-02T08:11:56.058095Z",
     "start_time": "2021-09-02T08:11:55.909097Z"
    }
   },
   "outputs": [],
   "source": [
    "# { 태그 : 새로운id } 딕셔너리\n",
    "tag_to_id = dict(zip(tags_unique,range(0,len(tags_unique))))\n",
    "\n",
    "# { 새로운id : 태그 } 딕셔너리\n",
    "id_to_tag = dict(zip(range(0,len(tags_unique)),tags_unique))\n",
    "\n",
    "train_df['new_tags_id'] = train_df['tags'].map(lambda x : [tag_to_id[v] for v in x])"
   ]
  },
  {
   "cell_type": "markdown",
   "id": "b6dca795",
   "metadata": {},
   "source": [
    "### songs에 새로운 id부여, new_songs_id 컬럼 생성"
   ]
  },
  {
   "cell_type": "code",
   "execution_count": 8,
   "id": "446a9953",
   "metadata": {
    "ExecuteTime": {
     "end_time": "2021-09-02T08:11:57.423095Z",
     "start_time": "2021-09-02T08:11:56.059096Z"
    }
   },
   "outputs": [],
   "source": [
    "# { 노래 : 새로운id } 딕셔너리\n",
    "song_to_id = dict(zip(songs_unique,range(0,len(songs_unique))))\n",
    "\n",
    "# { 새로운id : 태그 } 딕셔너리\n",
    "id_to_song = dict(zip(range(0,len(songs_unique)),songs_unique))\n",
    "\n",
    "train_df['new_songs_id'] = train_df['songs'].map(lambda x : [song_to_id[v] for v in x])"
   ]
  },
  {
   "cell_type": "code",
   "execution_count": 9,
   "id": "former-frame",
   "metadata": {
    "ExecuteTime": {
     "end_time": "2021-09-02T08:11:57.438095Z",
     "start_time": "2021-09-02T08:11:57.425096Z"
    }
   },
   "outputs": [
    {
     "data": {
      "text/html": [
       "<div>\n",
       "<style scoped>\n",
       "    .dataframe tbody tr th:only-of-type {\n",
       "        vertical-align: middle;\n",
       "    }\n",
       "\n",
       "    .dataframe tbody tr th {\n",
       "        vertical-align: top;\n",
       "    }\n",
       "\n",
       "    .dataframe thead th {\n",
       "        text-align: right;\n",
       "    }\n",
       "</style>\n",
       "<table border=\"1\" class=\"dataframe\">\n",
       "  <thead>\n",
       "    <tr style=\"text-align: right;\">\n",
       "      <th></th>\n",
       "      <th>tags</th>\n",
       "      <th>id</th>\n",
       "      <th>plylst_title</th>\n",
       "      <th>songs</th>\n",
       "      <th>like_cnt</th>\n",
       "      <th>updt_date</th>\n",
       "      <th>tags_cnt</th>\n",
       "      <th>songs_cnt</th>\n",
       "      <th>new_tags_id</th>\n",
       "      <th>new_songs_id</th>\n",
       "    </tr>\n",
       "  </thead>\n",
       "  <tbody>\n",
       "    <tr>\n",
       "      <th>0</th>\n",
       "      <td>[락]</td>\n",
       "      <td>61281</td>\n",
       "      <td>여행같은 음악</td>\n",
       "      <td>[525514, 129701, 383374, 562083, 297861, 13954...</td>\n",
       "      <td>71</td>\n",
       "      <td>2013-12-19 18:36:19.000</td>\n",
       "      <td>1</td>\n",
       "      <td>19</td>\n",
       "      <td>[23367]</td>\n",
       "      <td>[456704, 112732, 333158, 488440, 258853, 12127...</td>\n",
       "    </tr>\n",
       "  </tbody>\n",
       "</table>\n",
       "</div>"
      ],
      "text/plain": [
       "  tags     id plylst_title                                              songs  \\\n",
       "0  [락]  61281      여행같은 음악  [525514, 129701, 383374, 562083, 297861, 13954...   \n",
       "\n",
       "   like_cnt                updt_date  tags_cnt  songs_cnt new_tags_id  \\\n",
       "0        71  2013-12-19 18:36:19.000         1         19     [23367]   \n",
       "\n",
       "                                        new_songs_id  \n",
       "0  [456704, 112732, 333158, 488440, 258853, 12127...  "
      ]
     },
     "execution_count": 9,
     "metadata": {},
     "output_type": "execute_result"
    }
   ],
   "source": [
    "train_df.head(1)"
   ]
  },
  {
   "cell_type": "code",
   "execution_count": 10,
   "id": "eb9d50cd",
   "metadata": {
    "ExecuteTime": {
     "end_time": "2021-09-02T08:11:57.513095Z",
     "start_time": "2021-09-02T08:11:57.440096Z"
    }
   },
   "outputs": [
    {
     "data": {
      "text/html": [
       "<div>\n",
       "<style scoped>\n",
       "    .dataframe tbody tr th:only-of-type {\n",
       "        vertical-align: middle;\n",
       "    }\n",
       "\n",
       "    .dataframe tbody tr th {\n",
       "        vertical-align: top;\n",
       "    }\n",
       "\n",
       "    .dataframe thead th {\n",
       "        text-align: right;\n",
       "    }\n",
       "</style>\n",
       "<table border=\"1\" class=\"dataframe\">\n",
       "  <thead>\n",
       "    <tr style=\"text-align: right;\">\n",
       "      <th></th>\n",
       "      <th>id</th>\n",
       "      <th>plylst_title</th>\n",
       "      <th>tags</th>\n",
       "      <th>new_tags_id</th>\n",
       "      <th>songs</th>\n",
       "      <th>new_songs_id</th>\n",
       "      <th>tags_cnt</th>\n",
       "      <th>songs_cnt</th>\n",
       "      <th>like_cnt</th>\n",
       "      <th>updt_date</th>\n",
       "    </tr>\n",
       "  </thead>\n",
       "  <tbody>\n",
       "    <tr>\n",
       "      <th>0</th>\n",
       "      <td>61281</td>\n",
       "      <td>여행같은 음악</td>\n",
       "      <td>[락]</td>\n",
       "      <td>[23367]</td>\n",
       "      <td>[525514, 129701, 383374, 562083, 297861, 13954...</td>\n",
       "      <td>[456704, 112732, 333158, 488440, 258853, 12127...</td>\n",
       "      <td>1</td>\n",
       "      <td>19</td>\n",
       "      <td>71</td>\n",
       "      <td>2013-12-19 18:36:19.000</td>\n",
       "    </tr>\n",
       "    <tr>\n",
       "      <th>1</th>\n",
       "      <td>10532</td>\n",
       "      <td>요즘 너 말야</td>\n",
       "      <td>[추억, 회상]</td>\n",
       "      <td>[8311, 13068]</td>\n",
       "      <td>[432406, 675945, 497066, 120377, 389529, 24427...</td>\n",
       "      <td>[375894, 587314, 431997, 104605, 338568, 21226...</td>\n",
       "      <td>2</td>\n",
       "      <td>42</td>\n",
       "      <td>1</td>\n",
       "      <td>2014-12-02 16:19:42.000</td>\n",
       "    </tr>\n",
       "    <tr>\n",
       "      <th>2</th>\n",
       "      <td>76951</td>\n",
       "      <td>편하게, 잔잔하게 들을 수 있는 곡.-</td>\n",
       "      <td>[까페, 잔잔한]</td>\n",
       "      <td>[11436, 6835]</td>\n",
       "      <td>[83116, 276692, 166267, 186301, 354465, 256598...</td>\n",
       "      <td>[72132, 240434, 144495, 161861, 307991, 222934...</td>\n",
       "      <td>2</td>\n",
       "      <td>28</td>\n",
       "      <td>17</td>\n",
       "      <td>2017-08-28 07:09:34.000</td>\n",
       "    </tr>\n",
       "  </tbody>\n",
       "</table>\n",
       "</div>"
      ],
      "text/plain": [
       "      id           plylst_title       tags    new_tags_id  \\\n",
       "0  61281                여행같은 음악        [락]        [23367]   \n",
       "1  10532                요즘 너 말야   [추억, 회상]  [8311, 13068]   \n",
       "2  76951  편하게, 잔잔하게 들을 수 있는 곡.-  [까페, 잔잔한]  [11436, 6835]   \n",
       "\n",
       "                                               songs  \\\n",
       "0  [525514, 129701, 383374, 562083, 297861, 13954...   \n",
       "1  [432406, 675945, 497066, 120377, 389529, 24427...   \n",
       "2  [83116, 276692, 166267, 186301, 354465, 256598...   \n",
       "\n",
       "                                        new_songs_id  tags_cnt  songs_cnt  \\\n",
       "0  [456704, 112732, 333158, 488440, 258853, 12127...         1         19   \n",
       "1  [375894, 587314, 431997, 104605, 338568, 21226...         2         42   \n",
       "2  [72132, 240434, 144495, 161861, 307991, 222934...         2         28   \n",
       "\n",
       "   like_cnt                updt_date  \n",
       "0        71  2013-12-19 18:36:19.000  \n",
       "1         1  2014-12-02 16:19:42.000  \n",
       "2        17  2017-08-28 07:09:34.000  "
      ]
     },
     "execution_count": 10,
     "metadata": {},
     "output_type": "execute_result"
    }
   ],
   "source": [
    "train_df = train_df[['id','plylst_title','tags','new_tags_id','songs','new_songs_id','tags_cnt','songs_cnt','like_cnt','updt_date']]\n",
    "train_df.head(3)"
   ]
  },
  {
   "cell_type": "code",
   "execution_count": 11,
   "id": "bc8355d9",
   "metadata": {
    "ExecuteTime": {
     "end_time": "2021-09-02T08:11:57.543096Z",
     "start_time": "2021-09-02T08:11:57.514096Z"
    }
   },
   "outputs": [
    {
     "data": {
      "text/html": [
       "<div>\n",
       "<style scoped>\n",
       "    .dataframe tbody tr th:only-of-type {\n",
       "        vertical-align: middle;\n",
       "    }\n",
       "\n",
       "    .dataframe tbody tr th {\n",
       "        vertical-align: top;\n",
       "    }\n",
       "\n",
       "    .dataframe thead th {\n",
       "        text-align: right;\n",
       "    }\n",
       "</style>\n",
       "<table border=\"1\" class=\"dataframe\">\n",
       "  <thead>\n",
       "    <tr style=\"text-align: right;\">\n",
       "      <th></th>\n",
       "      <th>플리_id</th>\n",
       "      <th>플리제목</th>\n",
       "      <th>태그</th>\n",
       "      <th>새태그_id</th>\n",
       "      <th>노래_id</th>\n",
       "      <th>새노래_id</th>\n",
       "      <th>태그수</th>\n",
       "      <th>노래수</th>\n",
       "      <th>좋아요수</th>\n",
       "      <th>갱신일</th>\n",
       "    </tr>\n",
       "  </thead>\n",
       "  <tbody>\n",
       "    <tr>\n",
       "      <th>0</th>\n",
       "      <td>61281</td>\n",
       "      <td>여행같은 음악</td>\n",
       "      <td>[락]</td>\n",
       "      <td>[23367]</td>\n",
       "      <td>[525514, 129701, 383374, 562083, 297861, 13954...</td>\n",
       "      <td>[456704, 112732, 333158, 488440, 258853, 12127...</td>\n",
       "      <td>1</td>\n",
       "      <td>19</td>\n",
       "      <td>71</td>\n",
       "      <td>2013-12-19 18:36:19.000</td>\n",
       "    </tr>\n",
       "    <tr>\n",
       "      <th>1</th>\n",
       "      <td>10532</td>\n",
       "      <td>요즘 너 말야</td>\n",
       "      <td>[추억, 회상]</td>\n",
       "      <td>[8311, 13068]</td>\n",
       "      <td>[432406, 675945, 497066, 120377, 389529, 24427...</td>\n",
       "      <td>[375894, 587314, 431997, 104605, 338568, 21226...</td>\n",
       "      <td>2</td>\n",
       "      <td>42</td>\n",
       "      <td>1</td>\n",
       "      <td>2014-12-02 16:19:42.000</td>\n",
       "    </tr>\n",
       "    <tr>\n",
       "      <th>2</th>\n",
       "      <td>76951</td>\n",
       "      <td>편하게, 잔잔하게 들을 수 있는 곡.-</td>\n",
       "      <td>[까페, 잔잔한]</td>\n",
       "      <td>[11436, 6835]</td>\n",
       "      <td>[83116, 276692, 166267, 186301, 354465, 256598...</td>\n",
       "      <td>[72132, 240434, 144495, 161861, 307991, 222934...</td>\n",
       "      <td>2</td>\n",
       "      <td>28</td>\n",
       "      <td>17</td>\n",
       "      <td>2017-08-28 07:09:34.000</td>\n",
       "    </tr>\n",
       "  </tbody>\n",
       "</table>\n",
       "</div>"
      ],
      "text/plain": [
       "   플리_id                   플리제목         태그         새태그_id  \\\n",
       "0  61281                여행같은 음악        [락]        [23367]   \n",
       "1  10532                요즘 너 말야   [추억, 회상]  [8311, 13068]   \n",
       "2  76951  편하게, 잔잔하게 들을 수 있는 곡.-  [까페, 잔잔한]  [11436, 6835]   \n",
       "\n",
       "                                               노래_id  \\\n",
       "0  [525514, 129701, 383374, 562083, 297861, 13954...   \n",
       "1  [432406, 675945, 497066, 120377, 389529, 24427...   \n",
       "2  [83116, 276692, 166267, 186301, 354465, 256598...   \n",
       "\n",
       "                                              새노래_id  태그수  노래수  좋아요수  \\\n",
       "0  [456704, 112732, 333158, 488440, 258853, 12127...    1   19    71   \n",
       "1  [375894, 587314, 431997, 104605, 338568, 21226...    2   42     1   \n",
       "2  [72132, 240434, 144495, 161861, 307991, 222934...    2   28    17   \n",
       "\n",
       "                       갱신일  \n",
       "0  2013-12-19 18:36:19.000  \n",
       "1  2014-12-02 16:19:42.000  \n",
       "2  2017-08-28 07:09:34.000  "
      ]
     },
     "execution_count": 11,
     "metadata": {},
     "output_type": "execute_result"
    }
   ],
   "source": [
    "train_df.columns = ['플리_id','플리제목','태그','새태그_id','노래_id','새노래_id','태그수','노래수','좋아요수','갱신일']\n",
    "train_df.head(3)"
   ]
  },
  {
   "cell_type": "markdown",
   "id": "cdd4042e",
   "metadata": {},
   "source": [
    "### 변수 정리"
   ]
  },
  {
   "cell_type": "markdown",
   "id": "a40736f3",
   "metadata": {},
   "source": [
    "<현재>\n",
    " \n",
    "- tag_to_id : { 태그 : 새로운id } 딕셔너리\n",
    "- id_to_tag : { 새로운id : 태그 } 딕셔너리\n",
    "- song_to_id : { 노래 : 새로운id } 딕셔너리\n",
    "- id_to_song : { 새로운id : 노래 } 딕셔너리\n",
    "\n",
    "<이후>\n",
    "- code_to_genre {장르코드: 장르} 딕셔너리\n",
    "- genre_to_code {장르 : 장르코드} 딕셔너리\n",
    "- gcode_to_id  {장르코드 : 장르_id} 딕셔너리\n",
    "- id_to_gcode  {장르_id : 장르코드} 딕셔너리"
   ]
  },
  {
   "cell_type": "markdown",
   "id": "floppy-reviewer",
   "metadata": {},
   "source": [
    "# 장르와 코드로 협업필터링 추천해보자"
   ]
  },
  {
   "cell_type": "markdown",
   "id": "western-contrast",
   "metadata": {},
   "source": [
    "## genre 앞의 네글자로 대장르만 가져오기"
   ]
  },
  {
   "cell_type": "code",
   "execution_count": 12,
   "id": "electrical-virgin",
   "metadata": {
    "ExecuteTime": {
     "end_time": "2021-09-02T08:11:57.558098Z",
     "start_time": "2021-09-02T08:11:57.545097Z"
    }
   },
   "outputs": [],
   "source": [
    "genre_big = {}\n",
    "\n",
    "# 모든 장르 딕셔너리를 돌면서\n",
    "for k,v in genre_dict.items():\n",
    "    \n",
    "    # 맨 뒤 두자리가 00이면 대장류로 분류\n",
    "    if k[-2:] == '00':\n",
    "        \n",
    "        # 맨앞 네자리를 키로 하는 대장류 딕셔너리 값 추가\n",
    "        genre_big[k[:4]] = v\n",
    "#genre_big"
   ]
  },
  {
   "cell_type": "markdown",
   "id": "inappropriate-morrison",
   "metadata": {},
   "source": [
    "## 세부장르에 대분류 장르의 이름 넣기"
   ]
  },
  {
   "cell_type": "code",
   "execution_count": 13,
   "id": "passing-forestry",
   "metadata": {
    "ExecuteTime": {
     "end_time": "2021-09-02T08:11:57.574095Z",
     "start_time": "2021-09-02T08:11:57.559098Z"
    }
   },
   "outputs": [],
   "source": [
    "code_to_genre = {}\n",
    "\n",
    "# 모든 딕셔너리를 돌면서\n",
    "for k,v in genre_dict.items():\n",
    "    \n",
    "    # 맨뒤 두자리가 00이 아니면 대장류가 아닌거임!\n",
    "    if k[-2:] != '00':\n",
    "        \n",
    "        # 그럴떈 아까만든 대장르 딕셔너리의 대장류 이름을 추가해서 이름을 수정해서 다시 넣어줌\n",
    "        new_value = genre_big[k[:4]]+'_'+v\n",
    "        code_to_genre[k] = new_value\n",
    "        \n",
    "    # 대장류면 그대로\n",
    "    else:\n",
    "        code_to_genre[k] = v\n",
    "\n",
    "#code_to_genre"
   ]
  },
  {
   "cell_type": "markdown",
   "id": "rocky-asthma",
   "metadata": {},
   "source": [
    "## 장르 딕셔너리 키 밸류 바꾸기 -> 나중에 장르 이름으로 코드 찾을 거기 때문임!"
   ]
  },
  {
   "cell_type": "code",
   "execution_count": 14,
   "id": "sunset-elder",
   "metadata": {
    "ExecuteTime": {
     "end_time": "2021-09-02T08:11:57.589095Z",
     "start_time": "2021-09-02T08:11:57.575097Z"
    }
   },
   "outputs": [],
   "source": [
    "genre_to_code = {v:k for k,v in code_to_genre.items()}\n",
    "\n",
    "#genre_to_code "
   ]
  },
  {
   "cell_type": "markdown",
   "id": "legitimate-parent",
   "metadata": {},
   "source": [
    "## Train과 장르 합치기\n",
    "- 플레이리스트 안에 들어있는 노래의 장르를 중복제거 해서 컬럼에 추가\n",
    "- 35초 정도 걸렸음"
   ]
  },
  {
   "cell_type": "code",
   "execution_count": 15,
   "id": "amazing-production",
   "metadata": {
    "ExecuteTime": {
     "end_time": "2021-09-02T08:11:57.604095Z",
     "start_time": "2021-09-02T08:11:57.590096Z"
    }
   },
   "outputs": [],
   "source": [
    "genre_basket = song_df['song_gn_dtl_gnr_basket'].to_numpy()\n",
    "song_id_temp = train_df['노래_id'].to_numpy() "
   ]
  },
  {
   "cell_type": "code",
   "execution_count": 16,
   "id": "steady-shadow",
   "metadata": {
    "ExecuteTime": {
     "end_time": "2021-09-02T08:12:07.623827Z",
     "start_time": "2021-09-02T08:11:57.605097Z"
    }
   },
   "outputs": [],
   "source": [
    "train_df['장르'] = pd.Series([list(set(genre_basket[id])) for id_list in song_id_temp for id in id_list])"
   ]
  },
  {
   "cell_type": "code",
   "execution_count": 17,
   "id": "collectible-tucson",
   "metadata": {
    "ExecuteTime": {
     "end_time": "2021-09-02T08:12:07.638834Z",
     "start_time": "2021-09-02T08:12:07.624832Z"
    }
   },
   "outputs": [
    {
     "data": {
      "text/html": [
       "<div>\n",
       "<style scoped>\n",
       "    .dataframe tbody tr th:only-of-type {\n",
       "        vertical-align: middle;\n",
       "    }\n",
       "\n",
       "    .dataframe tbody tr th {\n",
       "        vertical-align: top;\n",
       "    }\n",
       "\n",
       "    .dataframe thead th {\n",
       "        text-align: right;\n",
       "    }\n",
       "</style>\n",
       "<table border=\"1\" class=\"dataframe\">\n",
       "  <thead>\n",
       "    <tr style=\"text-align: right;\">\n",
       "      <th></th>\n",
       "      <th>플리_id</th>\n",
       "      <th>플리제목</th>\n",
       "      <th>태그</th>\n",
       "      <th>새태그_id</th>\n",
       "      <th>노래_id</th>\n",
       "      <th>새노래_id</th>\n",
       "      <th>태그수</th>\n",
       "      <th>노래수</th>\n",
       "      <th>좋아요수</th>\n",
       "      <th>갱신일</th>\n",
       "      <th>장르</th>\n",
       "    </tr>\n",
       "  </thead>\n",
       "  <tbody>\n",
       "    <tr>\n",
       "      <th>0</th>\n",
       "      <td>61281</td>\n",
       "      <td>여행같은 음악</td>\n",
       "      <td>[락]</td>\n",
       "      <td>[23367]</td>\n",
       "      <td>[525514, 129701, 383374, 562083, 297861, 13954...</td>\n",
       "      <td>[456704, 112732, 333158, 488440, 258853, 12127...</td>\n",
       "      <td>1</td>\n",
       "      <td>19</td>\n",
       "      <td>71</td>\n",
       "      <td>2013-12-19 18:36:19.000</td>\n",
       "      <td>[GN1401, GN1402]</td>\n",
       "    </tr>\n",
       "    <tr>\n",
       "      <th>1</th>\n",
       "      <td>10532</td>\n",
       "      <td>요즘 너 말야</td>\n",
       "      <td>[추억, 회상]</td>\n",
       "      <td>[8311, 13068]</td>\n",
       "      <td>[432406, 675945, 497066, 120377, 389529, 24427...</td>\n",
       "      <td>[375894, 587314, 431997, 104605, 338568, 21226...</td>\n",
       "      <td>2</td>\n",
       "      <td>42</td>\n",
       "      <td>1</td>\n",
       "      <td>2014-12-02 16:19:42.000</td>\n",
       "      <td>[GN0901, GN1001, GN0902]</td>\n",
       "    </tr>\n",
       "    <tr>\n",
       "      <th>2</th>\n",
       "      <td>76951</td>\n",
       "      <td>편하게, 잔잔하게 들을 수 있는 곡.-</td>\n",
       "      <td>[까페, 잔잔한]</td>\n",
       "      <td>[11436, 6835]</td>\n",
       "      <td>[83116, 276692, 166267, 186301, 354465, 256598...</td>\n",
       "      <td>[72132, 240434, 144495, 161861, 307991, 222934...</td>\n",
       "      <td>2</td>\n",
       "      <td>28</td>\n",
       "      <td>17</td>\n",
       "      <td>2017-08-28 07:09:34.000</td>\n",
       "      <td>[GN1005, GN1001, GN1012]</td>\n",
       "    </tr>\n",
       "  </tbody>\n",
       "</table>\n",
       "</div>"
      ],
      "text/plain": [
       "   플리_id                   플리제목         태그         새태그_id  \\\n",
       "0  61281                여행같은 음악        [락]        [23367]   \n",
       "1  10532                요즘 너 말야   [추억, 회상]  [8311, 13068]   \n",
       "2  76951  편하게, 잔잔하게 들을 수 있는 곡.-  [까페, 잔잔한]  [11436, 6835]   \n",
       "\n",
       "                                               노래_id  \\\n",
       "0  [525514, 129701, 383374, 562083, 297861, 13954...   \n",
       "1  [432406, 675945, 497066, 120377, 389529, 24427...   \n",
       "2  [83116, 276692, 166267, 186301, 354465, 256598...   \n",
       "\n",
       "                                              새노래_id  태그수  노래수  좋아요수  \\\n",
       "0  [456704, 112732, 333158, 488440, 258853, 12127...    1   19    71   \n",
       "1  [375894, 587314, 431997, 104605, 338568, 21226...    2   42     1   \n",
       "2  [72132, 240434, 144495, 161861, 307991, 222934...    2   28    17   \n",
       "\n",
       "                       갱신일                        장르  \n",
       "0  2013-12-19 18:36:19.000          [GN1401, GN1402]  \n",
       "1  2014-12-02 16:19:42.000  [GN0901, GN1001, GN0902]  \n",
       "2  2017-08-28 07:09:34.000  [GN1005, GN1001, GN1012]  "
      ]
     },
     "execution_count": 17,
     "metadata": {},
     "output_type": "execute_result"
    }
   ],
   "source": [
    "train_df.head(3)"
   ]
  },
  {
   "cell_type": "markdown",
   "id": "terminal-finnish",
   "metadata": {},
   "source": [
    "## 새로운 장르 코드 생성"
   ]
  },
  {
   "cell_type": "code",
   "execution_count": 18,
   "id": "higher-abraham",
   "metadata": {
    "ExecuteTime": {
     "end_time": "2021-09-02T08:12:07.653833Z",
     "start_time": "2021-09-02T08:12:07.639832Z"
    }
   },
   "outputs": [],
   "source": [
    "genre_code_unique = list(genre_dict.keys())\n",
    "genre_code_to_id = dict(zip(genre_code_unique,range(len(genre_code_unique))))\n",
    "id_to_genre_code = dict(zip(range(len(genre_code_unique)),genre_code_unique))"
   ]
  },
  {
   "cell_type": "code",
   "execution_count": 19,
   "id": "weighted-cookie",
   "metadata": {
    "ExecuteTime": {
     "end_time": "2021-09-02T08:12:07.743859Z",
     "start_time": "2021-09-02T08:12:07.655348Z"
    }
   },
   "outputs": [],
   "source": [
    "train_df['장르_id'] = train_df['장르'].map(lambda x : [ genre_code_to_id[i] for i in x] )"
   ]
  },
  {
   "cell_type": "code",
   "execution_count": 20,
   "id": "french-encyclopedia",
   "metadata": {
    "ExecuteTime": {
     "end_time": "2021-09-02T08:12:07.758859Z",
     "start_time": "2021-09-02T08:12:07.745860Z"
    }
   },
   "outputs": [
    {
     "data": {
      "text/html": [
       "<div>\n",
       "<style scoped>\n",
       "    .dataframe tbody tr th:only-of-type {\n",
       "        vertical-align: middle;\n",
       "    }\n",
       "\n",
       "    .dataframe tbody tr th {\n",
       "        vertical-align: top;\n",
       "    }\n",
       "\n",
       "    .dataframe thead th {\n",
       "        text-align: right;\n",
       "    }\n",
       "</style>\n",
       "<table border=\"1\" class=\"dataframe\">\n",
       "  <thead>\n",
       "    <tr style=\"text-align: right;\">\n",
       "      <th></th>\n",
       "      <th>플리_id</th>\n",
       "      <th>플리제목</th>\n",
       "      <th>태그</th>\n",
       "      <th>새태그_id</th>\n",
       "      <th>노래_id</th>\n",
       "      <th>새노래_id</th>\n",
       "      <th>태그수</th>\n",
       "      <th>노래수</th>\n",
       "      <th>좋아요수</th>\n",
       "      <th>갱신일</th>\n",
       "      <th>장르</th>\n",
       "      <th>장르_id</th>\n",
       "    </tr>\n",
       "  </thead>\n",
       "  <tbody>\n",
       "    <tr>\n",
       "      <th>0</th>\n",
       "      <td>61281</td>\n",
       "      <td>여행같은 음악</td>\n",
       "      <td>[락]</td>\n",
       "      <td>[23367]</td>\n",
       "      <td>[525514, 129701, 383374, 562083, 297861, 13954...</td>\n",
       "      <td>[456704, 112732, 333158, 488440, 258853, 12127...</td>\n",
       "      <td>1</td>\n",
       "      <td>19</td>\n",
       "      <td>71</td>\n",
       "      <td>2013-12-19 18:36:19.000</td>\n",
       "      <td>[GN1401, GN1402]</td>\n",
       "      <td>[110, 111]</td>\n",
       "    </tr>\n",
       "    <tr>\n",
       "      <th>1</th>\n",
       "      <td>10532</td>\n",
       "      <td>요즘 너 말야</td>\n",
       "      <td>[추억, 회상]</td>\n",
       "      <td>[8311, 13068]</td>\n",
       "      <td>[432406, 675945, 497066, 120377, 389529, 24427...</td>\n",
       "      <td>[375894, 587314, 431997, 104605, 338568, 21226...</td>\n",
       "      <td>2</td>\n",
       "      <td>42</td>\n",
       "      <td>1</td>\n",
       "      <td>2014-12-02 16:19:42.000</td>\n",
       "      <td>[GN0901, GN1001, GN0902]</td>\n",
       "      <td>[57, 66, 58]</td>\n",
       "    </tr>\n",
       "    <tr>\n",
       "      <th>2</th>\n",
       "      <td>76951</td>\n",
       "      <td>편하게, 잔잔하게 들을 수 있는 곡.-</td>\n",
       "      <td>[까페, 잔잔한]</td>\n",
       "      <td>[11436, 6835]</td>\n",
       "      <td>[83116, 276692, 166267, 186301, 354465, 256598...</td>\n",
       "      <td>[72132, 240434, 144495, 161861, 307991, 222934...</td>\n",
       "      <td>2</td>\n",
       "      <td>28</td>\n",
       "      <td>17</td>\n",
       "      <td>2017-08-28 07:09:34.000</td>\n",
       "      <td>[GN1005, GN1001, GN1012]</td>\n",
       "      <td>[70, 66, 77]</td>\n",
       "    </tr>\n",
       "  </tbody>\n",
       "</table>\n",
       "</div>"
      ],
      "text/plain": [
       "   플리_id                   플리제목         태그         새태그_id  \\\n",
       "0  61281                여행같은 음악        [락]        [23367]   \n",
       "1  10532                요즘 너 말야   [추억, 회상]  [8311, 13068]   \n",
       "2  76951  편하게, 잔잔하게 들을 수 있는 곡.-  [까페, 잔잔한]  [11436, 6835]   \n",
       "\n",
       "                                               노래_id  \\\n",
       "0  [525514, 129701, 383374, 562083, 297861, 13954...   \n",
       "1  [432406, 675945, 497066, 120377, 389529, 24427...   \n",
       "2  [83116, 276692, 166267, 186301, 354465, 256598...   \n",
       "\n",
       "                                              새노래_id  태그수  노래수  좋아요수  \\\n",
       "0  [456704, 112732, 333158, 488440, 258853, 12127...    1   19    71   \n",
       "1  [375894, 587314, 431997, 104605, 338568, 21226...    2   42     1   \n",
       "2  [72132, 240434, 144495, 161861, 307991, 222934...    2   28    17   \n",
       "\n",
       "                       갱신일                        장르         장르_id  \n",
       "0  2013-12-19 18:36:19.000          [GN1401, GN1402]    [110, 111]  \n",
       "1  2014-12-02 16:19:42.000  [GN0901, GN1001, GN0902]  [57, 66, 58]  \n",
       "2  2017-08-28 07:09:34.000  [GN1005, GN1001, GN1012]  [70, 66, 77]  "
      ]
     },
     "execution_count": 20,
     "metadata": {},
     "output_type": "execute_result"
    }
   ],
   "source": [
    "train_df.head(3)"
   ]
  },
  {
   "cell_type": "markdown",
   "id": "sitting-bosnia",
   "metadata": {},
   "source": [
    "## 태그_id 하나당 어떤 장르가 포함되었는지 araboja\n",
    "\n",
    "- 각 태그가 몇번 출몰 했는지 알아야 함"
   ]
  },
  {
   "cell_type": "markdown",
   "id": "recovered-victor",
   "metadata": {},
   "source": [
    "### 태그 출몰 횟수 구하기"
   ]
  },
  {
   "cell_type": "code",
   "execution_count": 21,
   "id": "later-volleyball",
   "metadata": {
    "ExecuteTime": {
     "end_time": "2021-09-02T08:12:07.788859Z",
     "start_time": "2021-09-02T08:12:07.759860Z"
    }
   },
   "outputs": [],
   "source": [
    "tag_id_duplicate = list(chain.from_iterable(train_df['새태그_id'].tolist()))\n",
    "tag_id_unique = list(id_to_tag.keys())"
   ]
  },
  {
   "cell_type": "code",
   "execution_count": 22,
   "id": "minute-tooth",
   "metadata": {
    "ExecuteTime": {
     "end_time": "2021-09-02T08:12:07.818860Z",
     "start_time": "2021-09-02T08:12:07.789860Z"
    }
   },
   "outputs": [],
   "source": [
    "# 각 태그가 몇번 출몰 했는지 세어 놓은 딕셔너리\n",
    "\n",
    "from collections import Counter\n",
    "\n",
    "tag_count = dict(Counter(tag_id_duplicate))\n",
    "\n",
    "tag_count = {i:tag_count[i] for i in range(len(tag_count))}"
   ]
  },
  {
   "cell_type": "code",
   "execution_count": 23,
   "id": "mobile-empty",
   "metadata": {
    "ExecuteTime": {
     "end_time": "2021-09-02T08:12:07.848858Z",
     "start_time": "2021-09-02T08:12:07.819861Z"
    }
   },
   "outputs": [],
   "source": [
    "# 태그_id에 달린 장르id들을 넣을 딕셔너리 초기화\n",
    "tag_id_to_genre_ids = {i:[] for i in range(len(tag_id_unique))}"
   ]
  },
  {
   "cell_type": "code",
   "execution_count": 24,
   "id": "modern-conspiracy",
   "metadata": {
    "ExecuteTime": {
     "end_time": "2021-09-02T08:12:07.969005Z",
     "start_time": "2021-09-02T08:12:07.850860Z"
    }
   },
   "outputs": [],
   "source": [
    "# 태그_id에 달린 장르id들을 list로 넣어주기\n",
    "for tag_ids , genre_ids in zip(train_df['새태그_id'].tolist(),train_df['장르_id'].tolist()):\n",
    "    for tag_id in tag_ids:\n",
    "        tag_id_to_genre_ids[tag_id].extend(genre_ids)"
   ]
  },
  {
   "cell_type": "code",
   "execution_count": 25,
   "id": "5ce01540",
   "metadata": {
    "ExecuteTime": {
     "end_time": "2021-09-02T08:12:08.269013Z",
     "start_time": "2021-09-02T08:12:07.971015Z"
    },
    "code_folding": [],
    "tags": []
   },
   "outputs": [],
   "source": [
    "# 장르id가 중복된 횟수 순서로 정렬\n",
    "\n",
    "for i in range(len(tag_id_to_genre_ids)):\n",
    "    genre_count = Counter(tag_id_to_genre_ids[i])\n",
    "    genre_count_sorted = sorted(genre_count.items(),key=(lambda x:x[1]),reverse=True)\n",
    "\n",
    "    temp_list = []\n",
    "    \n",
    "    if len(genre_count_sorted) > 9:\n",
    "        for k,v in genre_count_sorted[:10]:\n",
    "            temp_list.append((k,v))\n",
    "    else:\n",
    "        for k,v in genre_count_sorted:\n",
    "            temp_list.append((k,v))\n",
    "            \n",
    "    tag_id_to_genre_ids[i] = temp_list"
   ]
  },
  {
   "cell_type": "code",
   "execution_count": 26,
   "id": "north-tuning",
   "metadata": {
    "ExecuteTime": {
     "end_time": "2021-09-02T08:12:08.284014Z",
     "start_time": "2021-09-02T08:12:08.270015Z"
    }
   },
   "outputs": [],
   "source": [
    "# 포함된 장르의 개수를 가지고 있는 list\n",
    "genre_len = [len(v) for v in tag_id_to_genre_ids.values()]"
   ]
  },
  {
   "cell_type": "code",
   "execution_count": 27,
   "id": "federal-netherlands",
   "metadata": {
    "ExecuteTime": {
     "end_time": "2021-09-02T08:12:08.299014Z",
     "start_time": "2021-09-02T08:12:08.287015Z"
    }
   },
   "outputs": [
    {
     "data": {
      "text/plain": [
       "137062"
      ]
     },
     "execution_count": 27,
     "metadata": {},
     "output_type": "execute_result"
    }
   ],
   "source": [
    "#  태그별 장르포함 횟수만큼 반복  * 2번 태그는 7번 나왔으니 2를 7번 찍기\n",
    "row = np.repeat(range(len(tag_id_to_genre_ids)),genre_len)\n",
    "len(row)"
   ]
  },
  {
   "cell_type": "code",
   "execution_count": 28,
   "id": "frozen-malawi",
   "metadata": {
    "ExecuteTime": {
     "end_time": "2021-09-02T08:12:08.314014Z",
     "start_time": "2021-09-02T08:12:08.301015Z"
    }
   },
   "outputs": [
    {
     "data": {
      "text/plain": [
       "137062"
      ]
     },
     "execution_count": 28,
     "metadata": {},
     "output_type": "execute_result"
    }
   ],
   "source": [
    "# 장르를 하나씩 뽑아서 넣어주기\n",
    "# map ,filter 써서 코드 개선시키기 파이썬 내장함수\n",
    "col =  [id[0] for ids in tag_id_to_genre_ids.values() for id in ids]\n",
    "len(col)"
   ]
  },
  {
   "cell_type": "code",
   "execution_count": 29,
   "id": "literary-dictionary",
   "metadata": {
    "ExecuteTime": {
     "end_time": "2021-09-02T08:12:08.329013Z",
     "start_time": "2021-09-02T08:12:08.315014Z"
    }
   },
   "outputs": [
    {
     "data": {
      "text/plain": [
       "137062"
      ]
     },
     "execution_count": 29,
     "metadata": {},
     "output_type": "execute_result"
    }
   ],
   "source": [
    "# 태그 마다 달린 장르의 총길이 만큼 1찍기\n",
    "dat = np.repeat(1, sum(genre_len))\n",
    "len(dat)"
   ]
  },
  {
   "cell_type": "code",
   "execution_count": 30,
   "id": "third-wildlife",
   "metadata": {
    "ExecuteTime": {
     "end_time": "2021-09-02T08:12:08.358814Z",
     "start_time": "2021-09-02T08:12:08.330015Z"
    }
   },
   "outputs": [],
   "source": [
    "train_tags_A = spr.csr_matrix((dat, (row, col)), shape=(train_df['태그수'].sum(), len(genre_code_to_id)))\n",
    "\n",
    "train_tags_A_T = train_tags_A.T.tocsr()"
   ]
  },
  {
   "cell_type": "markdown",
   "id": "shared-posting",
   "metadata": {},
   "source": [
    "# 내가 고른 장르와 연관된 장르를 뽑자@!@"
   ]
  },
  {
   "cell_type": "markdown",
   "id": "earned-receiver",
   "metadata": {},
   "source": [
    "## 나의 장르 리스트 만들기"
   ]
  },
  {
   "cell_type": "code",
   "execution_count": 31,
   "id": "6b30ed10",
   "metadata": {
    "ExecuteTime": {
     "end_time": "2021-09-02T08:12:08.373689Z",
     "start_time": "2021-09-02T08:12:08.359816Z"
    }
   },
   "outputs": [],
   "source": [
    "def recom_genres(tag):\n",
    "\n",
    "    my_genre_ids = tag_id_to_genre_ids[tag_to_id[tag]]\n",
    "    \n",
    "    my_genre_ids\n",
    "    \n",
    "    # 내가 뽑은 장르 id 만 1인 1차원 희소행렬\n",
    "\n",
    "    p = np.zeros((len(genre_code_to_id),1))\n",
    "\n",
    "    for id,count in my_genre_ids:\n",
    "        p[id]=1\n",
    "        \n",
    "    # 희소행렬과 dot 연산을 통해 각 태그와 겹치는 장르들의 갯수를 추출\n",
    "    val = train_tags_A.dot(p).reshape(-1)\n",
    "    \n",
    "    cand_gen = train_tags_A_T.dot(val)\n",
    "    \n",
    "    # 1차원으로 바꿔서 중복된 장르를 가진 태그 상위 150개 도출\n",
    "    cand_gen_idx = cand_gen.reshape(-1).argsort()[-150:][::-1]\n",
    "\n",
    "    # 비슷한 장르 10개 도출\n",
    "    cand_gen_idx = cand_gen_idx[:10]\n",
    "\n",
    "    cand_gen_idx\n",
    "    \n",
    "    # 원래 노래 id값으로 복원\n",
    "    result_ids = [id_to_genre_code[i] for i in cand_gen_idx]\n",
    "    \n",
    "    result_genres = [(code_to_genre[i]) for i in result_ids]\n",
    "    \n",
    "    return result_genres"
   ]
  },
  {
   "cell_type": "code",
   "execution_count": 32,
   "id": "d9e2aead",
   "metadata": {
    "ExecuteTime": {
     "end_time": "2021-09-02T08:12:08.388688Z",
     "start_time": "2021-09-02T08:12:08.374689Z"
    }
   },
   "outputs": [
    {
     "data": {
      "text/plain": [
       "['발라드_세부장르전체',\n",
       " \"발라드_'10-\",\n",
       " '아이돌_세부장르전체',\n",
       " '인디음악_세부장르전체',\n",
       " '댄스_세부장르전체',\n",
       " \"인디음악_'10-\",\n",
       " 'POP_세부장르전체',\n",
       " '랩/힙합_세부장르전체',\n",
       " 'OST_세부장르전체',\n",
       " '아이돌_댄스']"
      ]
     },
     "execution_count": 32,
     "metadata": {},
     "output_type": "execute_result"
    }
   ],
   "source": [
    "recom_genres('기분좋은')"
   ]
  }
 ],
 "metadata": {
  "kernelspec": {
   "display_name": "Python 3",
   "language": "python",
   "name": "python3"
  },
  "language_info": {
   "codemirror_mode": {
    "name": "ipython",
    "version": 3
   },
   "file_extension": ".py",
   "mimetype": "text/x-python",
   "name": "python",
   "nbconvert_exporter": "python",
   "pygments_lexer": "ipython3",
   "version": "3.8.8"
  },
  "toc": {
   "base_numbering": 1,
   "nav_menu": {},
   "number_sections": true,
   "sideBar": true,
   "skip_h1_title": false,
   "title_cell": "Table of Contents",
   "title_sidebar": "Contents",
   "toc_cell": false,
   "toc_position": {},
   "toc_section_display": true,
   "toc_window_display": true
  },
  "varInspector": {
   "cols": {
    "lenName": 16,
    "lenType": 16,
    "lenVar": 40
   },
   "kernels_config": {
    "python": {
     "delete_cmd_postfix": "",
     "delete_cmd_prefix": "del ",
     "library": "var_list.py",
     "varRefreshCmd": "print(var_dic_list())"
    },
    "r": {
     "delete_cmd_postfix": ") ",
     "delete_cmd_prefix": "rm(",
     "library": "var_list.r",
     "varRefreshCmd": "cat(var_dic_list()) "
    }
   },
   "types_to_exclude": [
    "module",
    "function",
    "builtin_function_or_method",
    "instance",
    "_Feature"
   ],
   "window_display": false
  }
 },
 "nbformat": 4,
 "nbformat_minor": 5
}
