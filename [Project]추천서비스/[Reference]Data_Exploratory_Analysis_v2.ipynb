{
 "cells": [
  {
   "cell_type": "markdown",
   "metadata": {},
   "source": [
    "## 데이터 탐색_v2\n",
    "이번 데이터 탐색의 목적은 **Melon Playlist Continuation**에 참여하는 사람들이 데이터 및 대회에 대한 이해를 도와주기 위함입니다. 분석을 통해서 각각의 데이터는 어떻게 구성되어있는지 특성을 파악하고 어떤식으로 접근해야 할 지에 대한 아이디어를 탐색해보겠습니다. \n",
    "\n",
    "기본적인 내용은 [Melon Playlist Continuation 대회 데이터 전처리 & EDA\n",
    "](https://arena.kakao.com/forum/topics/191)의 글을 토대로 작성하였습니다. "
   ]
  },
  {
   "cell_type": "code",
   "execution_count": 47,
   "metadata": {},
   "outputs": [],
   "source": [
    "import numpy as np\n",
    "import pandas as pd\n",
    "import scipy  \n",
    "import seaborn as sns\n",
    "import matplotlib.pyplot as plt\n",
    "from tqdm import notebook\n",
    "import json\n",
    "from collections import Counter\n",
    "from plotnine import *\n",
    "import plotnine"
   ]
  },
  {
   "cell_type": "code",
   "execution_count": 48,
   "metadata": {},
   "outputs": [],
   "source": [
    "import matplotlib.font_manager as fm\n",
    "import matplotlib as mpl\n",
    "from matplotlib import rc\n",
    "from pandas.plotting import register_matplotlib_converters\n",
    "\n",
    "# font_path = 'C:/Users/choco/Anaconda3/Lib/site-packages/matplotlib/mpl-data/fonts/ttf/NanumBarunGothic.ttf'\n",
    "font_path = 'C:/Users/medici/anaconda3/Lib/site-packages/matplotlib/mpl-data/fonts/ttf/NanumBarunGothic.otf'\n",
    "font_name = fm.FontProperties(fname=font_path, size=10).get_name()\n",
    "plt.rc('font', family=font_name, size=12)\n",
    "plt.rcParams[\"figure.figsize\"] = (20, 10)\n",
    "register_matplotlib_converters()\n",
    "\n",
    "mpl.font_manager._rebuild()\n",
    "mpl.pyplot.rc('font', family='NanumGothic')"
   ]
  },
  {
   "cell_type": "markdown",
   "metadata": {},
   "source": [
    "## 멜론 DJ 플레이리스트\n",
    "이번에 Melon Playlist Continuation으로 제공된 데이터는 단순 플레이리스트가 아닌 DJ 플레이리스트입니다. 이러한 플레이리스트는 **멜론을 사용하는 유저가 직접 플레이리스트를 만들어서 다른 사람들에게 공개한 리스트**으로 정의할 수 있습니다. 단, 이는 아무나 할 수 없고, 멜론 활동 이력과 플레이리스트를 심사한 후에 가입할 수 있습니다. 그렇기에 어떤 식으로 심사하는지를 이해한다면 어울리는 곡들을 맞추는데 더 용이할 수 있습니다. "
   ]
  },
  {
   "cell_type": "markdown",
   "metadata": {},
   "source": [
    "![](https://drive.google.com/uc?export=view&id=1zfGTJT3rFJuTrBnIuX-WTwV6msQXjtGi)"
   ]
  },
  {
   "cell_type": "markdown",
   "metadata": {},
   "source": [
    "실제 멜론 사이트(https://www.melon.com/dj/today/djtoday_list.htm)에 들어가보면 멜론에서는 어떤식으로 데이터가 구성되어있는지 알 수 있습니다. 한번 DJ 신청하기를 통해서 어떤 식으로 심사하는지 확인해보겠습니다. "
   ]
  },
  {
   "cell_type": "markdown",
   "metadata": {},
   "source": [
    "멜론 DJ플레이리스트를 신청하려면 첫번째로 다음의 항목을 만족해야 합니다. \n",
    "\n",
    "![](https://drive.google.com/uc?export=view&id=1B1r83nX2AlWOn3nkGyobQab_3eqIdA4t)"
   ]
  },
  {
   "cell_type": "markdown",
   "metadata": {},
   "source": [
    "- 곡과 태그는 최소 10개, 2개 이상이어야하고 제목은 반드시 있어야합니다. 그렇기에 val과 test에서 제목이 없는경우와 곡과 태그가 최소수를 만족하지 못하는 경우는 아레나측에서 임의로 지운 것으로 판단할 수 있습니다.\n",
    "- **가수/앨범/곡의 고른 분배 및 배치** 라는 항목이 있습니다. 문장만 봐서는 동일한 가수와 동일한 앨범의 곡이 많이 들어가면 안된다는데 실제로 데이터가 그런지는 아래에서 확인해보겠습니다. \n",
    "- **선곡의 테마 및 장르**를 표현할 수 있어야 합니다. DJ를 신청할 때는 반드시 아래의 테마 혹은 장르를 선택해야합니다. 그렇기에 플레이리스트가 어떤 테마 혹은 장르를 가지는 지 알 수 있다면, 모델의 성능을 더 좋아질 것으로 판단됩니다. \n",
    "\n",
    "<img src=\"https://drive.google.com/uc?export=view&id=1SsXxbfk9UFVsxta2qW_58WjKgJa-HYLG\"  onerror=\"this.style.display='none'\" /><br><br>"
   ]
  },
  {
   "cell_type": "markdown",
   "metadata": {},
   "source": [
    "## 목표 및 평가함수\n",
    "- 목표: 주어진 플레이리스트의 정보를 참조하여 해당 플레이리스트에 원래 수록되어 있었을 곡 리스트와 태그 리스트를 예측하는 것이 이 대회의 목표입니다. 각 플레이리스트별로 원래 플레이리스트에 들어있었을 것이라 예상되는 곡 100개, 태그 10개를 제출해 주세요.\n",
    "\n",
    "- 평가함수: NDCG \n",
    "\n",
    "![](https://drive.google.com/uc?export=view&id=1VFaBFwSECpoSlGUh_cqnjaJdCheR2rtN)\n",
    "\n",
    "- 제출 포맷 \n",
    "```\n",
    "[\n",
    "    {\n",
    "        'id': 플레이리스트 id,\n",
    "        'songs': 예측한 곡 100개 리스트,\n",
    "        'tags': 예측한 태그 10개 리스트\n",
    "    },\n",
    "    ... (n개)\n",
    "]\n",
    "```"
   ]
  },
  {
   "cell_type": "markdown",
   "metadata": {},
   "source": [
    "## 데이터의 분포 및 구성\n",
    "위에서 나온 정보를 보기에 앞서서 데이터가 어떤식으로 구성되었는지 확인해보겠습니다. 일단, 데이터의 스키마는 아래와 같습니다. \n",
    "![](https://drive.google.com/uc?export=view&id=1Q8SZx_v1MWbq1NXB-Xy1zjAb7DDbypH8)"
   ]
  },
  {
   "cell_type": "code",
   "execution_count": 49,
   "metadata": {},
   "outputs": [
    {
     "name": "stdout",
     "output_type": "stream",
     "text": [
      "Wall time: 9.69 s\n"
     ]
    }
   ],
   "source": [
    "%%time \n",
    "# 입력데이터 로드 \n",
    "train = pd.read_json('data/train.json', typ = 'frame')\n",
    "test = pd.read_json('data/test.json', typ = 'frame')\n",
    "val = pd.read_json('data/val.json', typ = 'frame')\n",
    "genre = pd.read_json('data/genre_gn_all.json', typ = 'series')\n",
    "meta = pd.read_json('data/song_meta.json', typ = 'frame')"
   ]
  },
  {
   "cell_type": "markdown",
   "metadata": {},
   "source": [
    "## train/test에 대한 이해"
   ]
  },
  {
   "cell_type": "code",
   "execution_count": 50,
   "metadata": {},
   "outputs": [
    {
     "data": {
      "text/html": [
       "<div>\n",
       "<style scoped>\n",
       "    .dataframe tbody tr th:only-of-type {\n",
       "        vertical-align: middle;\n",
       "    }\n",
       "\n",
       "    .dataframe tbody tr th {\n",
       "        vertical-align: top;\n",
       "    }\n",
       "\n",
       "    .dataframe thead th {\n",
       "        text-align: right;\n",
       "    }\n",
       "</style>\n",
       "<table border=\"1\" class=\"dataframe\">\n",
       "  <thead>\n",
       "    <tr style=\"text-align: right;\">\n",
       "      <th></th>\n",
       "      <th>tags</th>\n",
       "      <th>id</th>\n",
       "      <th>plylst_title</th>\n",
       "      <th>songs</th>\n",
       "      <th>like_cnt</th>\n",
       "      <th>updt_date</th>\n",
       "    </tr>\n",
       "  </thead>\n",
       "  <tbody>\n",
       "    <tr>\n",
       "      <th>0</th>\n",
       "      <td>[락]</td>\n",
       "      <td>61281</td>\n",
       "      <td>여행같은 음악</td>\n",
       "      <td>[525514, 129701, 383374, 562083, 297861, 13954...</td>\n",
       "      <td>71</td>\n",
       "      <td>2013-12-19 18:36:19.000</td>\n",
       "    </tr>\n",
       "    <tr>\n",
       "      <th>1</th>\n",
       "      <td>[추억, 회상]</td>\n",
       "      <td>10532</td>\n",
       "      <td>요즘 너 말야</td>\n",
       "      <td>[432406, 675945, 497066, 120377, 389529, 24427...</td>\n",
       "      <td>1</td>\n",
       "      <td>2014-12-02 16:19:42.000</td>\n",
       "    </tr>\n",
       "  </tbody>\n",
       "</table>\n",
       "</div>"
      ],
      "text/plain": [
       "       tags     id plylst_title  \\\n",
       "0       [락]  61281      여행같은 음악   \n",
       "1  [추억, 회상]  10532      요즘 너 말야   \n",
       "\n",
       "                                               songs  like_cnt  \\\n",
       "0  [525514, 129701, 383374, 562083, 297861, 13954...        71   \n",
       "1  [432406, 675945, 497066, 120377, 389529, 24427...         1   \n",
       "\n",
       "                 updt_date  \n",
       "0  2013-12-19 18:36:19.000  \n",
       "1  2014-12-02 16:19:42.000  "
      ]
     },
     "execution_count": 50,
     "metadata": {},
     "output_type": "execute_result"
    }
   ],
   "source": [
    "train.head(2)"
   ]
  },
  {
   "cell_type": "code",
   "execution_count": 51,
   "metadata": {},
   "outputs": [
    {
     "data": {
      "text/plain": [
       "(115071, 6)"
      ]
     },
     "execution_count": 51,
     "metadata": {},
     "output_type": "execute_result"
    }
   ],
   "source": [
    "train.shape"
   ]
  },
  {
   "cell_type": "markdown",
   "metadata": {},
   "source": [
    "컬럼의 의미 \n",
    "- tags : 플레이리스트에 달려있는 태그 목록 \n",
    "- id : 플레이리스트 아이디\n",
    "- plylst_title : 플레이리스 제목 \n",
    "- songs : 플레이리스트에 수록된 곡 \n",
    "- like_cnt : 플레이리스트 좋아요 수 \n",
    "- updt_date : 플레이리스트가 최종 수정된 시각 "
   ]
  },
  {
   "cell_type": "code",
   "execution_count": 52,
   "metadata": {},
   "outputs": [
    {
     "data": {
      "text/html": [
       "<div>\n",
       "<style scoped>\n",
       "    .dataframe tbody tr th:only-of-type {\n",
       "        vertical-align: middle;\n",
       "    }\n",
       "\n",
       "    .dataframe tbody tr th {\n",
       "        vertical-align: top;\n",
       "    }\n",
       "\n",
       "    .dataframe thead th {\n",
       "        text-align: right;\n",
       "    }\n",
       "</style>\n",
       "<table border=\"1\" class=\"dataframe\">\n",
       "  <thead>\n",
       "    <tr style=\"text-align: right;\">\n",
       "      <th></th>\n",
       "      <th>tags</th>\n",
       "      <th>id</th>\n",
       "      <th>plylst_title</th>\n",
       "      <th>songs</th>\n",
       "      <th>like_cnt</th>\n",
       "      <th>updt_date</th>\n",
       "    </tr>\n",
       "  </thead>\n",
       "  <tbody>\n",
       "    <tr>\n",
       "      <th>46524</th>\n",
       "      <td>[노동요, 취향저격, 드라이브, Pop, 기분전환, 트렌디, 스트레스, 신나는]</td>\n",
       "      <td>74220</td>\n",
       "      <td>HOT TRENDY POP: 놓쳐선 안될 'POP' (매주 업데이트)</td>\n",
       "      <td>[159317, 368264, 600999, 274905, 643023, 24070...</td>\n",
       "      <td>53211</td>\n",
       "      <td>2020-04-17 14:32:23.000</td>\n",
       "    </tr>\n",
       "  </tbody>\n",
       "</table>\n",
       "</div>"
      ],
      "text/plain": [
       "                                               tags     id  \\\n",
       "46524  [노동요, 취향저격, 드라이브, Pop, 기분전환, 트렌디, 스트레스, 신나는]  74220   \n",
       "\n",
       "                                 plylst_title  \\\n",
       "46524  HOT TRENDY POP: 놓쳐선 안될 'POP' (매주 업데이트)   \n",
       "\n",
       "                                                   songs  like_cnt  \\\n",
       "46524  [159317, 368264, 600999, 274905, 643023, 24070...     53211   \n",
       "\n",
       "                     updt_date  \n",
       "46524  2020-04-17 14:32:23.000  "
      ]
     },
     "execution_count": 52,
     "metadata": {},
     "output_type": "execute_result"
    }
   ],
   "source": [
    "train[train['like_cnt'] == train.like_cnt.max()]"
   ]
  },
  {
   "cell_type": "code",
   "execution_count": 53,
   "metadata": {},
   "outputs": [],
   "source": [
    "def mapping_function(data, col1, col2): \n",
    "    # 플레이리스트 아이디(col1)와 수록곡(col2) 추출\n",
    "    plylst_song_map = data[[col1, col2]]\n",
    "\n",
    "    # unnest col2\n",
    "    plylst_song_map_unnest = np.dstack(\n",
    "        (\n",
    "            np.repeat(plylst_song_map[col1].values, list(map(len, plylst_song_map[col2]))), \n",
    "            np.concatenate(plylst_song_map[col2].values)\n",
    "        )\n",
    "    )\n",
    "\n",
    "    # unnested 데이터프레임 생성 : plylst_song_map\n",
    "    plylst_song_map = pd.DataFrame(data = plylst_song_map_unnest[0], columns = plylst_song_map.columns)\n",
    "    plylst_song_map[col1] = plylst_song_map[col1].astype(str)\n",
    "    plylst_song_map[col2] = plylst_song_map[col2].astype(str)\n",
    "\n",
    "    # unnest 객체 제거\n",
    "    del plylst_song_map_unnest\n",
    "    return plylst_song_map"
   ]
  },
  {
   "cell_type": "code",
   "execution_count": 81,
   "metadata": {},
   "outputs": [
    {
     "data": {
      "text/html": [
       "<div>\n",
       "<style scoped>\n",
       "    .dataframe tbody tr th:only-of-type {\n",
       "        vertical-align: middle;\n",
       "    }\n",
       "\n",
       "    .dataframe tbody tr th {\n",
       "        vertical-align: top;\n",
       "    }\n",
       "\n",
       "    .dataframe thead th {\n",
       "        text-align: right;\n",
       "    }\n",
       "</style>\n",
       "<table border=\"1\" class=\"dataframe\">\n",
       "  <thead>\n",
       "    <tr style=\"text-align: right;\">\n",
       "      <th></th>\n",
       "      <th>곡</th>\n",
       "      <th>Playlist 곡 등장 횟수</th>\n",
       "      <th>id</th>\n",
       "      <th>artist_name_basket</th>\n",
       "      <th>song_name</th>\n",
       "      <th>song_gn_gnr_basket</th>\n",
       "    </tr>\n",
       "  </thead>\n",
       "  <tbody>\n",
       "    <tr>\n",
       "      <th>0</th>\n",
       "      <td>144663</td>\n",
       "      <td>2175</td>\n",
       "      <td>144663</td>\n",
       "      <td>[아이유]</td>\n",
       "      <td>밤편지</td>\n",
       "      <td>[GN0100]</td>\n",
       "    </tr>\n",
       "    <tr>\n",
       "      <th>1</th>\n",
       "      <td>116573</td>\n",
       "      <td>2121</td>\n",
       "      <td>116573</td>\n",
       "      <td>[정준일]</td>\n",
       "      <td>안아줘</td>\n",
       "      <td>[GN0500, GN0600]</td>\n",
       "    </tr>\n",
       "    <tr>\n",
       "      <th>2</th>\n",
       "      <td>357367</td>\n",
       "      <td>1981</td>\n",
       "      <td>357367</td>\n",
       "      <td>[폴킴]</td>\n",
       "      <td>비</td>\n",
       "      <td>[GN0400]</td>\n",
       "    </tr>\n",
       "    <tr>\n",
       "      <th>3</th>\n",
       "      <td>366786</td>\n",
       "      <td>1919</td>\n",
       "      <td>366786</td>\n",
       "      <td>[가을방학]</td>\n",
       "      <td>가끔 미치도록 네가 안고 싶어질 때가 있어</td>\n",
       "      <td>[GN0500, GN0800]</td>\n",
       "    </tr>\n",
       "    <tr>\n",
       "      <th>4</th>\n",
       "      <td>654757</td>\n",
       "      <td>1647</td>\n",
       "      <td>654757</td>\n",
       "      <td>[박효신]</td>\n",
       "      <td>눈의 꽃</td>\n",
       "      <td>[GN1500]</td>\n",
       "    </tr>\n",
       "    <tr>\n",
       "      <th>...</th>\n",
       "      <td>...</td>\n",
       "      <td>...</td>\n",
       "      <td>...</td>\n",
       "      <td>...</td>\n",
       "      <td>...</td>\n",
       "      <td>...</td>\n",
       "    </tr>\n",
       "    <tr>\n",
       "      <th>615137</th>\n",
       "      <td>255114</td>\n",
       "      <td>1</td>\n",
       "      <td>255114</td>\n",
       "      <td>[Yumi Zouma]</td>\n",
       "      <td>In Blue</td>\n",
       "      <td>[GN1000]</td>\n",
       "    </tr>\n",
       "    <tr>\n",
       "      <th>615138</th>\n",
       "      <td>385743</td>\n",
       "      <td>1</td>\n",
       "      <td>385743</td>\n",
       "      <td>[Paul Desmond &amp; Gerry Mulligan]</td>\n",
       "      <td>Stardust (Remastered 2018)</td>\n",
       "      <td>[GN1700]</td>\n",
       "    </tr>\n",
       "    <tr>\n",
       "      <th>615139</th>\n",
       "      <td>608019</td>\n",
       "      <td>1</td>\n",
       "      <td>608019</td>\n",
       "      <td>[Ferdinand Schwarz &amp; Darius Heid]</td>\n",
       "      <td>Helligkeit</td>\n",
       "      <td>[GN1700]</td>\n",
       "    </tr>\n",
       "    <tr>\n",
       "      <th>615140</th>\n",
       "      <td>324450</td>\n",
       "      <td>1</td>\n",
       "      <td>324450</td>\n",
       "      <td>[Ferdinand Schwarz &amp; Darius Heid]</td>\n",
       "      <td>30 Watt, LED</td>\n",
       "      <td>[GN1700]</td>\n",
       "    </tr>\n",
       "    <tr>\n",
       "      <th>615141</th>\n",
       "      <td>37623</td>\n",
       "      <td>1</td>\n",
       "      <td>37623</td>\n",
       "      <td>[Andrea Begley]</td>\n",
       "      <td>Latch</td>\n",
       "      <td>[GN1400]</td>\n",
       "    </tr>\n",
       "  </tbody>\n",
       "</table>\n",
       "<p>615142 rows × 6 columns</p>\n",
       "</div>"
      ],
      "text/plain": [
       "             곡  Playlist 곡 등장 횟수      id                 artist_name_basket  \\\n",
       "0       144663              2175  144663                              [아이유]   \n",
       "1       116573              2121  116573                              [정준일]   \n",
       "2       357367              1981  357367                               [폴킴]   \n",
       "3       366786              1919  366786                             [가을방학]   \n",
       "4       654757              1647  654757                              [박효신]   \n",
       "...        ...               ...     ...                                ...   \n",
       "615137  255114                 1  255114                       [Yumi Zouma]   \n",
       "615138  385743                 1  385743    [Paul Desmond & Gerry Mulligan]   \n",
       "615139  608019                 1  608019  [Ferdinand Schwarz & Darius Heid]   \n",
       "615140  324450                 1  324450  [Ferdinand Schwarz & Darius Heid]   \n",
       "615141   37623                 1   37623                    [Andrea Begley]   \n",
       "\n",
       "                         song_name song_gn_gnr_basket  \n",
       "0                              밤편지           [GN0100]  \n",
       "1                              안아줘   [GN0500, GN0600]  \n",
       "2                                비           [GN0400]  \n",
       "3          가끔 미치도록 네가 안고 싶어질 때가 있어   [GN0500, GN0800]  \n",
       "4                             눈의 꽃           [GN1500]  \n",
       "...                            ...                ...  \n",
       "615137                     In Blue           [GN1000]  \n",
       "615138  Stardust (Remastered 2018)           [GN1700]  \n",
       "615139                  Helligkeit           [GN1700]  \n",
       "615140                30 Watt, LED           [GN1700]  \n",
       "615141                       Latch           [GN1400]  \n",
       "\n",
       "[615142 rows x 6 columns]"
      ]
     },
     "execution_count": 81,
     "metadata": {},
     "output_type": "execute_result"
    }
   ],
   "source": [
    "playlst_song_map\n",
    "agg\n",
    "# meta"
   ]
  },
  {
   "cell_type": "code",
   "execution_count": 61,
   "metadata": {
    "scrolled": true
   },
   "outputs": [],
   "source": [
    "playlst_song_map = mapping_function(train, 'id', 'songs')\n",
    "agg = pd.DataFrame(playlst_song_map['songs'].value_counts()).reset_index()\n",
    "agg.columns = ['곡', '플레이리스트내의 등장횟수']\n",
    "meta['id'] = meta['id'].astype(str)\n",
    "agg = agg.merge(meta[['id', 'artist_name_basket', 'song_name', 'song_gn_gnr_basket']], how='left', left_on='곡', right_on='id')"
   ]
  },
  {
   "cell_type": "code",
   "execution_count": 66,
   "metadata": {},
   "outputs": [
    {
     "data": {
      "image/png": "[encoded data removed]",
      "text/plain": [
       "<Figure size 1200x800 with 1 Axes>"
      ]
     },
     "metadata": {},
     "output_type": "display_data"
    },
    {
     "data": {
      "text/plain": [
       "<ggplot: (196684554996)>"
      ]
     },
     "execution_count": 66,
     "metadata": {},
     "output_type": "execute_result"
    }
   ],
   "source": [
    "song_count_df = agg.groupby(['플레이리스트내의 등장횟수'])['플레이리스트내의 등장횟수'].agg({'count'}).reset_index().rename(columns={'count':'곡 수'})\n",
    "song_count_df100 = song_count_df[song_count_df['플레이리스트내의 등장횟수'] <= 10]\n",
    "\n",
    "(ggplot(data=song_count_df100) \n",
    "    + geom_bar(aes(x='플레이리스트내의 등장횟수', y='곡 수', group='플레이리스트내의 등장횟수', fill='플레이리스트내의 등장횟수'), color='black', stat='identity')\n",
    "    + scale_color_hue(l=0.45)\n",
    "    + theme_light() \n",
    "    + labs(title = '플레이리스트내의 등장횟수에 따른 곡 수',\n",
    "         x = '플레이리스트내의 등장횟수',\n",
    "         y = '곡 수')\n",
    "    + theme(text = element_text(fontproperties=font_name),\n",
    "        figure_size=(12,8),\n",
    "        legend_position=\"none\"))"
   ]
  },
  {
   "cell_type": "code",
   "execution_count": 56,
   "metadata": {},
   "outputs": [
    {
     "name": "stdout",
     "output_type": "stream",
     "text": [
      "플레이리스트내 1번 등장한 노래의 수: 299028\n",
      "플레이리스트내 2번 이상 등장한 노래의 수: 316114\n"
     ]
    }
   ],
   "source": [
    "print(\"플레이리스트내 1번 등장한 노래의 수:\", agg[agg['플레이리스트내의 등장횟수'] == 1].shape[0])\n",
    "print(\"플레이리스트내 2번 이상 등장한 노래의 수:\", agg[agg['플레이리스트내의 등장횟수'] > 1].shape[0])"
   ]
  },
  {
   "cell_type": "code",
   "execution_count": 57,
   "metadata": {},
   "outputs": [
    {
     "data": {
      "text/html": [
       "<div>\n",
       "<style scoped>\n",
       "    .dataframe tbody tr th:only-of-type {\n",
       "        vertical-align: middle;\n",
       "    }\n",
       "\n",
       "    .dataframe tbody tr th {\n",
       "        vertical-align: top;\n",
       "    }\n",
       "\n",
       "    .dataframe thead th {\n",
       "        text-align: right;\n",
       "    }\n",
       "</style>\n",
       "<table border=\"1\" class=\"dataframe\">\n",
       "  <thead>\n",
       "    <tr style=\"text-align: right;\">\n",
       "      <th></th>\n",
       "      <th>min</th>\n",
       "      <th>25%</th>\n",
       "      <th>50%</th>\n",
       "      <th>mean</th>\n",
       "      <th>75%</th>\n",
       "      <th>max</th>\n",
       "      <th>std</th>\n",
       "    </tr>\n",
       "  </thead>\n",
       "  <tbody>\n",
       "    <tr>\n",
       "      <th>플레이리스트내의 등장횟수</th>\n",
       "      <td>1.0</td>\n",
       "      <td>1.0</td>\n",
       "      <td>2.0</td>\n",
       "      <td>8.59</td>\n",
       "      <td>4.0</td>\n",
       "      <td>2175.0</td>\n",
       "      <td>39.48</td>\n",
       "    </tr>\n",
       "  </tbody>\n",
       "</table>\n",
       "</div>"
      ],
      "text/plain": [
       "               min  25%  50%  mean  75%     max    std\n",
       "플레이리스트내의 등장횟수  1.0  1.0  2.0  8.59  4.0  2175.0  39.48"
      ]
     },
     "execution_count": 57,
     "metadata": {},
     "output_type": "execute_result"
    }
   ],
   "source": [
    "round(pd.DataFrame(agg['플레이리스트내의 등장횟수'].describe().loc[['min', '25%', '50%', 'mean', '75%', 'max', 'std']]).T, 2)"
   ]
  },
  {
   "cell_type": "code",
   "execution_count": null,
   "metadata": {},
   "outputs": [],
   "source": []
  },
  {
   "cell_type": "markdown",
   "metadata": {},
   "source": [
    "평균적으로 노래당 8.59개의 플레이리스트내에 수록이 되고 50%의 노래가 2개의 플레이리스트내에 수록되는 것을 알 수 있습니다. 가장 인기가 있는 노래는 아래와 같습니다. "
   ]
  },
  {
   "cell_type": "code",
   "execution_count": null,
   "metadata": {},
   "outputs": [],
   "source": []
  },
  {
   "cell_type": "code",
   "execution_count": 12,
   "metadata": {},
   "outputs": [
    {
     "data": {
      "text/html": [
       "<div>\n",
       "<style scoped>\n",
       "    .dataframe tbody tr th:only-of-type {\n",
       "        vertical-align: middle;\n",
       "    }\n",
       "\n",
       "    .dataframe tbody tr th {\n",
       "        vertical-align: top;\n",
       "    }\n",
       "\n",
       "    .dataframe thead th {\n",
       "        text-align: right;\n",
       "    }\n",
       "</style>\n",
       "<table border=\"1\" class=\"dataframe\">\n",
       "  <thead>\n",
       "    <tr style=\"text-align: right;\">\n",
       "      <th></th>\n",
       "      <th>artist_name_basket</th>\n",
       "      <th>song_name</th>\n",
       "    </tr>\n",
       "  </thead>\n",
       "  <tbody>\n",
       "    <tr>\n",
       "      <th>0</th>\n",
       "      <td>[아이유]</td>\n",
       "      <td>밤편지</td>\n",
       "    </tr>\n",
       "    <tr>\n",
       "      <th>1</th>\n",
       "      <td>[정준일]</td>\n",
       "      <td>안아줘</td>\n",
       "    </tr>\n",
       "    <tr>\n",
       "      <th>2</th>\n",
       "      <td>[폴킴]</td>\n",
       "      <td>비</td>\n",
       "    </tr>\n",
       "    <tr>\n",
       "      <th>3</th>\n",
       "      <td>[가을방학]</td>\n",
       "      <td>가끔 미치도록 네가 안고 싶어질 때가 있어</td>\n",
       "    </tr>\n",
       "    <tr>\n",
       "      <th>4</th>\n",
       "      <td>[박효신]</td>\n",
       "      <td>눈의 꽃</td>\n",
       "    </tr>\n",
       "  </tbody>\n",
       "</table>\n",
       "</div>"
      ],
      "text/plain": [
       "  artist_name_basket                song_name\n",
       "0              [아이유]                      밤편지\n",
       "1              [정준일]                      안아줘\n",
       "2               [폴킴]                        비\n",
       "3             [가을방학]  가끔 미치도록 네가 안고 싶어질 때가 있어\n",
       "4              [박효신]                     눈의 꽃"
      ]
     },
     "execution_count": 12,
     "metadata": {},
     "output_type": "execute_result"
    }
   ],
   "source": [
    "agg.loc[0:4][['artist_name_basket', 'song_name']]"
   ]
  },
  {
   "cell_type": "code",
   "execution_count": 13,
   "metadata": {},
   "outputs": [],
   "source": [
    "playlst_genre_map = mapping_function(agg, 'id', 'song_gn_gnr_basket')\n",
    "playlst_1 = playlst_genre_map[playlst_genre_map['id'].isin(agg[agg['플레이리스트내의 등장횟수'] == 1]['id'].values)].rename(columns={'song_gn_gnr_basket':'gnr_code'})\n",
    "playlst_2 = playlst_genre_map[playlst_genre_map['id'].isin(agg[agg['플레이리스트내의 등장횟수'] > 1]['id'].values)].rename(columns={'song_gn_gnr_basket':'gnr_code'})\n",
    "\n",
    "genre_gn_all = pd.DataFrame(genre, columns = ['gnr_name']).reset_index().rename(columns = {'index' : 'gnr_code'})\n",
    "playlst_1 = playlst_1.merge(genre_gn_all, how='left', on='gnr_code')\n",
    "playlst_2 = playlst_2.merge(genre_gn_all, how='left', on='gnr_code')"
   ]
  },
  {
   "cell_type": "markdown",
   "metadata": {},
   "source": [
    "플레이리스트내 1번 등장한 노래의 장르 "
   ]
  },
  {
   "cell_type": "code",
   "execution_count": 14,
   "metadata": {},
   "outputs": [
    {
     "data": {
      "text/html": [
       "<div>\n",
       "<style scoped>\n",
       "    .dataframe tbody tr th:only-of-type {\n",
       "        vertical-align: middle;\n",
       "    }\n",
       "\n",
       "    .dataframe tbody tr th {\n",
       "        vertical-align: top;\n",
       "    }\n",
       "\n",
       "    .dataframe thead th {\n",
       "        text-align: right;\n",
       "    }\n",
       "</style>\n",
       "<table border=\"1\" class=\"dataframe\">\n",
       "  <thead>\n",
       "    <tr style=\"text-align: right;\">\n",
       "      <th></th>\n",
       "      <th>gnr_name</th>\n",
       "      <th>count</th>\n",
       "    </tr>\n",
       "  </thead>\n",
       "  <tbody>\n",
       "    <tr>\n",
       "      <th>10</th>\n",
       "      <td>록/메탈</td>\n",
       "      <td>39414</td>\n",
       "    </tr>\n",
       "    <tr>\n",
       "      <th>22</th>\n",
       "      <td>클래식</td>\n",
       "      <td>32841</td>\n",
       "    </tr>\n",
       "    <tr>\n",
       "      <th>4</th>\n",
       "      <td>POP</td>\n",
       "      <td>30987</td>\n",
       "    </tr>\n",
       "    <tr>\n",
       "      <th>19</th>\n",
       "      <td>일렉트로니카</td>\n",
       "      <td>28017</td>\n",
       "    </tr>\n",
       "    <tr>\n",
       "      <th>20</th>\n",
       "      <td>재즈</td>\n",
       "      <td>23158</td>\n",
       "    </tr>\n",
       "    <tr>\n",
       "      <th>9</th>\n",
       "      <td>랩/힙합</td>\n",
       "      <td>22766</td>\n",
       "    </tr>\n",
       "    <tr>\n",
       "      <th>7</th>\n",
       "      <td>뉴에이지</td>\n",
       "      <td>19370</td>\n",
       "    </tr>\n",
       "    <tr>\n",
       "      <th>3</th>\n",
       "      <td>OST</td>\n",
       "      <td>16855</td>\n",
       "    </tr>\n",
       "    <tr>\n",
       "      <th>5</th>\n",
       "      <td>R&amp;B/Soul</td>\n",
       "      <td>16261</td>\n",
       "    </tr>\n",
       "    <tr>\n",
       "      <th>13</th>\n",
       "      <td>발라드</td>\n",
       "      <td>14575</td>\n",
       "    </tr>\n",
       "  </tbody>\n",
       "</table>\n",
       "</div>"
      ],
      "text/plain": [
       "    gnr_name  count\n",
       "10      록/메탈  39414\n",
       "22       클래식  32841\n",
       "4        POP  30987\n",
       "19    일렉트로니카  28017\n",
       "20        재즈  23158\n",
       "9       랩/힙합  22766\n",
       "7       뉴에이지  19370\n",
       "3        OST  16855\n",
       "5   R&B/Soul  16261\n",
       "13       발라드  14575"
      ]
     },
     "execution_count": 14,
     "metadata": {},
     "output_type": "execute_result"
    }
   ],
   "source": [
    "playlst_1.groupby(['gnr_name'])['gnr_name'].agg({'count'}).reset_index().sort_values(by='count', ascending=False).head(10)"
   ]
  },
  {
   "cell_type": "markdown",
   "metadata": {},
   "source": [
    "플레이리스트내 2번 이상 등장한 노래의 장르 "
   ]
  },
  {
   "cell_type": "code",
   "execution_count": 15,
   "metadata": {},
   "outputs": [
    {
     "data": {
      "text/html": [
       "<div>\n",
       "<style scoped>\n",
       "    .dataframe tbody tr th:only-of-type {\n",
       "        vertical-align: middle;\n",
       "    }\n",
       "\n",
       "    .dataframe tbody tr th {\n",
       "        vertical-align: top;\n",
       "    }\n",
       "\n",
       "    .dataframe thead th {\n",
       "        text-align: right;\n",
       "    }\n",
       "</style>\n",
       "<table border=\"1\" class=\"dataframe\">\n",
       "  <thead>\n",
       "    <tr style=\"text-align: right;\">\n",
       "      <th></th>\n",
       "      <th>gnr_name</th>\n",
       "      <th>count</th>\n",
       "    </tr>\n",
       "  </thead>\n",
       "  <tbody>\n",
       "    <tr>\n",
       "      <th>10</th>\n",
       "      <td>록/메탈</td>\n",
       "      <td>41515</td>\n",
       "    </tr>\n",
       "    <tr>\n",
       "      <th>13</th>\n",
       "      <td>발라드</td>\n",
       "      <td>37986</td>\n",
       "    </tr>\n",
       "    <tr>\n",
       "      <th>4</th>\n",
       "      <td>POP</td>\n",
       "      <td>37101</td>\n",
       "    </tr>\n",
       "    <tr>\n",
       "      <th>9</th>\n",
       "      <td>랩/힙합</td>\n",
       "      <td>33802</td>\n",
       "    </tr>\n",
       "    <tr>\n",
       "      <th>19</th>\n",
       "      <td>일렉트로니카</td>\n",
       "      <td>29926</td>\n",
       "    </tr>\n",
       "    <tr>\n",
       "      <th>5</th>\n",
       "      <td>R&amp;B/Soul</td>\n",
       "      <td>26431</td>\n",
       "    </tr>\n",
       "    <tr>\n",
       "      <th>18</th>\n",
       "      <td>인디음악</td>\n",
       "      <td>26296</td>\n",
       "    </tr>\n",
       "    <tr>\n",
       "      <th>3</th>\n",
       "      <td>OST</td>\n",
       "      <td>22131</td>\n",
       "    </tr>\n",
       "    <tr>\n",
       "      <th>20</th>\n",
       "      <td>재즈</td>\n",
       "      <td>18350</td>\n",
       "    </tr>\n",
       "    <tr>\n",
       "      <th>7</th>\n",
       "      <td>뉴에이지</td>\n",
       "      <td>17047</td>\n",
       "    </tr>\n",
       "  </tbody>\n",
       "</table>\n",
       "</div>"
      ],
      "text/plain": [
       "    gnr_name  count\n",
       "10      록/메탈  41515\n",
       "13       발라드  37986\n",
       "4        POP  37101\n",
       "9       랩/힙합  33802\n",
       "19    일렉트로니카  29926\n",
       "5   R&B/Soul  26431\n",
       "18      인디음악  26296\n",
       "3        OST  22131\n",
       "20        재즈  18350\n",
       "7       뉴에이지  17047"
      ]
     },
     "execution_count": 15,
     "metadata": {},
     "output_type": "execute_result"
    }
   ],
   "source": [
    "playlst_2.groupby(['gnr_name'])['gnr_name'].agg({'count'}).reset_index().sort_values(by='count', ascending=False).head(10)"
   ]
  },
  {
   "cell_type": "code",
   "execution_count": 83,
   "metadata": {},
   "outputs": [],
   "source": [
    "playlst_tag_map = mapping_function(train, 'id', 'tags')\n",
    "agg = pd.DataFrame(playlst_tag_map['tags'].value_counts()).reset_index()\n",
    "agg.columns = ['태그', '플레이리스트내의 등장횟수']"
   ]
  },
  {
   "cell_type": "code",
   "execution_count": 87,
   "metadata": {},
   "outputs": [
    {
     "data": {
      "image/png": "[encoded data removed]",
      "text/plain": [
       "<Figure size 1200x800 with 1 Axes>"
      ]
     },
     "metadata": {},
     "output_type": "display_data"
    },
    {
     "data": {
      "text/plain": [
       "<ggplot: (196795268452)>"
      ]
     },
     "execution_count": 87,
     "metadata": {},
     "output_type": "execute_result"
    }
   ],
   "source": [
    "tag_count_df = agg.groupby(['플레이리스트내의 등장횟수'])['플레이리스트내의 등장횟수'].agg({'count'}).reset_index().rename(columns={'count':'태그의 개수'})\n",
    "tag_count_df100 = tag_count_df[tag_count_df['플레이리스트내의 등장횟수'] <= 10]\n",
    "\n",
    "(ggplot(data=tag_count_df100) \n",
    "    + geom_bar(aes(x='플레이리스트내의 등장횟수', y='태그의 개수', group='플레이리스트내의 등장횟수', fill='플레이리스트내의 등장횟수'), color='black', stat='identity')\n",
    "    + scale_color_hue(l=0.45)\n",
    "    + theme_light() \n",
    "    + labs(title = '플레이리스트내의 등장횟수에 따른 태그의 개수',\n",
    "         x = '플레이리스트내의 등장횟수',\n",
    "         y = '태그의 개수')\n",
    "    + theme(text = element_text(fontproperties=font_name),\n",
    "        #axis_text_x = element_text(angle=80),\n",
    "        figure_size=(12,8),\n",
    "        legend_position=\"none\"))"
   ]
  },
  {
   "cell_type": "code",
   "execution_count": 18,
   "metadata": {},
   "outputs": [
    {
     "name": "stdout",
     "output_type": "stream",
     "text": [
      "플레이리스트내 1번 등장한 태그의 수: 17431\n",
      "플레이리스트내 2번 이상 등장한 태그의 수: 11729\n"
     ]
    }
   ],
   "source": [
    "print(\"플레이리스트내 1번 등장한 태그의 수:\", agg[agg['플레이리스트내의 등장횟수'] == 1].shape[0])\n",
    "print(\"플레이리스트내 2번 이상 등장한 태그의 수:\", agg[agg['플레이리스트내의 등장횟수'] > 1].shape[0])"
   ]
  },
  {
   "cell_type": "code",
   "execution_count": 19,
   "metadata": {},
   "outputs": [
    {
     "data": {
      "text/html": [
       "<div>\n",
       "<style scoped>\n",
       "    .dataframe tbody tr th:only-of-type {\n",
       "        vertical-align: middle;\n",
       "    }\n",
       "\n",
       "    .dataframe tbody tr th {\n",
       "        vertical-align: top;\n",
       "    }\n",
       "\n",
       "    .dataframe thead th {\n",
       "        text-align: right;\n",
       "    }\n",
       "</style>\n",
       "<table border=\"1\" class=\"dataframe\">\n",
       "  <thead>\n",
       "    <tr style=\"text-align: right;\">\n",
       "      <th></th>\n",
       "      <th>min</th>\n",
       "      <th>25%</th>\n",
       "      <th>50%</th>\n",
       "      <th>mean</th>\n",
       "      <th>75%</th>\n",
       "      <th>max</th>\n",
       "      <th>std</th>\n",
       "    </tr>\n",
       "  </thead>\n",
       "  <tbody>\n",
       "    <tr>\n",
       "      <th>플레이리스트내의 등장횟수</th>\n",
       "      <td>1.0</td>\n",
       "      <td>1.0</td>\n",
       "      <td>1.0</td>\n",
       "      <td>16.34</td>\n",
       "      <td>3.0</td>\n",
       "      <td>16465.0</td>\n",
       "      <td>247.01</td>\n",
       "    </tr>\n",
       "  </tbody>\n",
       "</table>\n",
       "</div>"
      ],
      "text/plain": [
       "               min  25%  50%   mean  75%      max     std\n",
       "플레이리스트내의 등장횟수  1.0  1.0  1.0  16.34  3.0  16465.0  247.01"
      ]
     },
     "execution_count": 19,
     "metadata": {},
     "output_type": "execute_result"
    }
   ],
   "source": [
    "round(pd.DataFrame(agg['플레이리스트내의 등장횟수'].describe().loc[['min', '25%', '50%', 'mean', '75%', 'max', 'std']]).T, 2)"
   ]
  },
  {
   "cell_type": "markdown",
   "metadata": {},
   "source": [
    "노래와 태그의 플레이리스트내 등장 횟수는 비슷한 양상을 보입니다. 하지만, 노래보다는 태그의 경우가 1번 나온 경우가 많습니다. 그리고 평균도 노래가 8.59인 반면에 태그는 16.34으로 약 2배에 가깝습니다. 편차는 39.48에 비해 247.01으로 6배 가까이 높습니다. 이를 보아서, 태그의 경우 노래보다 등장하는 값들만 등장하는 것을 파악할 수 있습니다. "
   ]
  },
  {
   "cell_type": "code",
   "execution_count": 20,
   "metadata": {},
   "outputs": [
    {
     "data": {
      "text/plain": [
       "array(['기분전환', '감성', '휴식', '발라드', '잔잔한', '드라이브', '힐링', '사랑', '새벽', '밤'],\n",
       "      dtype=object)"
      ]
     },
     "execution_count": 20,
     "metadata": {},
     "output_type": "execute_result"
    }
   ],
   "source": [
    "agg.sort_values(by='플레이리스트내의 등장횟수', ascending=False)[0:10]['태그'].values"
   ]
  },
  {
   "cell_type": "code",
   "execution_count": 21,
   "metadata": {},
   "outputs": [
    {
     "data": {
      "text/plain": [
       "array(['mpmgweek', '테스틍', 'millham', ..., 'ThankYouLord', '드렁크타이거',\n",
       "       '로맨틱쇼'], dtype=object)"
      ]
     },
     "execution_count": 21,
     "metadata": {},
     "output_type": "execute_result"
    }
   ],
   "source": [
    "agg[agg['플레이리스트내의 등장횟수'] == 1]['태그'].values"
   ]
  },
  {
   "cell_type": "markdown",
   "metadata": {},
   "source": [
    "실제 자주 등장하는 태그와 그렇지 않은 태그를 비교해보면 자주 등장하는 태그들이 좀 더 명확한 것을 볼 수 있습니다. 그리고 재밌는 것은 위의 태그들중에 아래의 테마/장르에 속하는 태그들이 있다는 점입니다. \n",
    "\n",
    "<img src=\"https://drive.google.com/uc?export=view&id=1T271qtD4JjiugH9BPioThJnHcttvty_d\"  onerror=\"this.style.display='none'\" /><br><br>\n",
    "\n",
    "이러한 특성을 잘 이용한다면, 곡들로 특정 태그를 유추하고 특정 태그들로 장르/테마를 유추하는 것 또한 가능해보입니다. "
   ]
  },
  {
   "cell_type": "markdown",
   "metadata": {},
   "source": [
    "## genre에 대한 이해\n",
    "[Melon Playlist Continuation 대회 데이터 전처리 & EDA](https://arena.kakao.com/forum/topics/191)에 따르면 장르 코드는 총 254개의 장르코드가 존재하며 30개의 대분류 장르코드와 224개의 상세 장르코드로 분류할 수 있습니다. 그리고 대분류와 상세의 분류는 끝자리 2자리수가 00인지, 아닌지로 구분합니다. "
   ]
  },
  {
   "cell_type": "code",
   "execution_count": 22,
   "metadata": {},
   "outputs": [
    {
     "name": "stdout",
     "output_type": "stream",
     "text": [
      "대분류 코드의 수: 30\n",
      "상세분류 코드의 수: 224\n"
     ]
    }
   ],
   "source": [
    "genre_gn_all = pd.DataFrame(genre, columns = ['gnr_name']).reset_index().rename(columns = {'index' : 'gnr_code'})\n",
    "\n",
    "gnr_code = genre_gn_all[genre_gn_all['gnr_code'].str[-2:] == '00']\n",
    "\n",
    "dtl_gnr_code = genre_gn_all[genre_gn_all['gnr_code'].str[-2:] != '00'].reset_index(drop=True)\n",
    "dtl_gnr_code.rename(columns = {'gnr_code' : 'dtl_gnr_code', 'gnr_name' : 'dtl_gnr_name'}, inplace = True)\n",
    "\n",
    "print(\"대분류 코드의 수:\", gnr_code.shape[0])\n",
    "print(\"상세분류 코드의 수:\", dtl_gnr_code.shape[0])"
   ]
  },
  {
   "cell_type": "code",
   "execution_count": 23,
   "metadata": {},
   "outputs": [
    {
     "data": {
      "text/html": [
       "<div>\n",
       "<style scoped>\n",
       "    .dataframe tbody tr th:only-of-type {\n",
       "        vertical-align: middle;\n",
       "    }\n",
       "\n",
       "    .dataframe tbody tr th {\n",
       "        vertical-align: top;\n",
       "    }\n",
       "\n",
       "    .dataframe thead th {\n",
       "        text-align: right;\n",
       "    }\n",
       "</style>\n",
       "<table border=\"1\" class=\"dataframe\">\n",
       "  <thead>\n",
       "    <tr style=\"text-align: right;\">\n",
       "      <th></th>\n",
       "      <th>gnr_code</th>\n",
       "      <th>gnr_name</th>\n",
       "      <th>join_code</th>\n",
       "      <th>dtl_gnr_code</th>\n",
       "      <th>dtl_gnr_name</th>\n",
       "    </tr>\n",
       "  </thead>\n",
       "  <tbody>\n",
       "    <tr>\n",
       "      <th>0</th>\n",
       "      <td>GN0100</td>\n",
       "      <td>발라드</td>\n",
       "      <td>GN01</td>\n",
       "      <td>GN0101</td>\n",
       "      <td>세부장르전체</td>\n",
       "    </tr>\n",
       "    <tr>\n",
       "      <th>1</th>\n",
       "      <td>GN0100</td>\n",
       "      <td>발라드</td>\n",
       "      <td>GN01</td>\n",
       "      <td>GN0102</td>\n",
       "      <td>'80</td>\n",
       "    </tr>\n",
       "    <tr>\n",
       "      <th>2</th>\n",
       "      <td>GN0100</td>\n",
       "      <td>발라드</td>\n",
       "      <td>GN01</td>\n",
       "      <td>GN0103</td>\n",
       "      <td>'90</td>\n",
       "    </tr>\n",
       "    <tr>\n",
       "      <th>3</th>\n",
       "      <td>GN0100</td>\n",
       "      <td>발라드</td>\n",
       "      <td>GN01</td>\n",
       "      <td>GN0104</td>\n",
       "      <td>'00</td>\n",
       "    </tr>\n",
       "    <tr>\n",
       "      <th>4</th>\n",
       "      <td>GN0100</td>\n",
       "      <td>발라드</td>\n",
       "      <td>GN01</td>\n",
       "      <td>GN0105</td>\n",
       "      <td>'10-</td>\n",
       "    </tr>\n",
       "    <tr>\n",
       "      <th>...</th>\n",
       "      <td>...</td>\n",
       "      <td>...</td>\n",
       "      <td>...</td>\n",
       "      <td>...</td>\n",
       "      <td>...</td>\n",
       "    </tr>\n",
       "    <tr>\n",
       "      <th>220</th>\n",
       "      <td>GN2800</td>\n",
       "      <td>뮤직테라피</td>\n",
       "      <td>GN28</td>\n",
       "      <td>GN2806</td>\n",
       "      <td>반려동물</td>\n",
       "    </tr>\n",
       "    <tr>\n",
       "      <th>221</th>\n",
       "      <td>GN2900</td>\n",
       "      <td>뮤지컬</td>\n",
       "      <td>GN29</td>\n",
       "      <td>GN2901</td>\n",
       "      <td>세부장르전체</td>\n",
       "    </tr>\n",
       "    <tr>\n",
       "      <th>222</th>\n",
       "      <td>GN2900</td>\n",
       "      <td>뮤지컬</td>\n",
       "      <td>GN29</td>\n",
       "      <td>GN2902</td>\n",
       "      <td>국내뮤지컬</td>\n",
       "    </tr>\n",
       "    <tr>\n",
       "      <th>223</th>\n",
       "      <td>GN2900</td>\n",
       "      <td>뮤지컬</td>\n",
       "      <td>GN29</td>\n",
       "      <td>GN2903</td>\n",
       "      <td>국외뮤지컬</td>\n",
       "    </tr>\n",
       "    <tr>\n",
       "      <th>224</th>\n",
       "      <td>GN3000</td>\n",
       "      <td>크리스마스</td>\n",
       "      <td>GN30</td>\n",
       "      <td>NaN</td>\n",
       "      <td>NaN</td>\n",
       "    </tr>\n",
       "  </tbody>\n",
       "</table>\n",
       "<p>225 rows × 5 columns</p>\n",
       "</div>"
      ],
      "text/plain": [
       "    gnr_code gnr_name join_code dtl_gnr_code dtl_gnr_name\n",
       "0     GN0100      발라드      GN01       GN0101       세부장르전체\n",
       "1     GN0100      발라드      GN01       GN0102          '80\n",
       "2     GN0100      발라드      GN01       GN0103          '90\n",
       "3     GN0100      발라드      GN01       GN0104          '00\n",
       "4     GN0100      발라드      GN01       GN0105         '10-\n",
       "..       ...      ...       ...          ...          ...\n",
       "220   GN2800    뮤직테라피      GN28       GN2806         반려동물\n",
       "221   GN2900      뮤지컬      GN29       GN2901       세부장르전체\n",
       "222   GN2900      뮤지컬      GN29       GN2902        국내뮤지컬\n",
       "223   GN2900      뮤지컬      GN29       GN2903        국외뮤지컬\n",
       "224   GN3000    크리스마스      GN30          NaN          NaN\n",
       "\n",
       "[225 rows x 5 columns]"
      ]
     },
     "execution_count": 23,
     "metadata": {},
     "output_type": "execute_result"
    }
   ],
   "source": [
    "# 앞자리 네 자리 공통코드 추출\n",
    "gnr_code = gnr_code.assign(join_code = gnr_code['gnr_code'].str[0:4])\n",
    "dtl_gnr_code = dtl_gnr_code.assign(join_code = dtl_gnr_code['dtl_gnr_code'].str[0:4])\n",
    "\n",
    "# Merge\n",
    "gnr_code_tree = pd.merge(gnr_code, dtl_gnr_code, how = 'left', on = 'join_code')\n",
    "\n",
    "gnr_code_tree[['gnr_code', 'gnr_name', 'dtl_gnr_code', 'dtl_gnr_name']]\n",
    "gnr_code_tree"
   ]
  },
  {
   "cell_type": "code",
   "execution_count": 24,
   "metadata": {},
   "outputs": [
    {
     "data": {
      "text/plain": [
       "세부장르전체       27\n",
       "'00          10\n",
       "'10-         10\n",
       "'90           7\n",
       "'80           6\n",
       "             ..\n",
       "컨트리           1\n",
       "블루스           1\n",
       "소울            1\n",
       "컨템포러리 R&B     1\n",
       "반려동물          1\n",
       "Name: dtl_gnr_name, Length: 146, dtype: int64"
      ]
     },
     "execution_count": 24,
     "metadata": {},
     "output_type": "execute_result"
    }
   ],
   "source": [
    "gnr_code_tree['dtl_gnr_name'].value_counts()"
   ]
  },
  {
   "cell_type": "code",
   "execution_count": 25,
   "metadata": {},
   "outputs": [
    {
     "data": {
      "text/plain": [
       "array(['발라드', '댄스', '인디음악', '록/메탈', '포크/블루스', 'POP', '록/메탈', '일렉트로니카',\n",
       "       '랩/힙합', 'R&B/Soul'], dtype=object)"
      ]
     },
     "execution_count": 25,
     "metadata": {},
     "output_type": "execute_result"
    }
   ],
   "source": [
    "gnr_code_tree[gnr_code_tree['dtl_gnr_name'] == \"'00\"]['gnr_name'].values"
   ]
  },
  {
   "cell_type": "markdown",
   "metadata": {},
   "source": [
    "대분류 코드의 경우는 세부장르전체로 똑같은 이름을 가집니다. 특이한 점 중 하나는 여러번 등장한는 세부장르명이 있습니다. 예를들어, '00의 경우 위의 10개의 장르에서 공통적으로 등장하는 것을 볼 수 있습니다. "
   ]
  },
  {
   "cell_type": "markdown",
   "metadata": {},
   "source": [
    "## meta에 대한 이해"
   ]
  },
  {
   "cell_type": "code",
   "execution_count": 26,
   "metadata": {},
   "outputs": [
    {
     "data": {
      "text/html": [
       "<div>\n",
       "<style scoped>\n",
       "    .dataframe tbody tr th:only-of-type {\n",
       "        vertical-align: middle;\n",
       "    }\n",
       "\n",
       "    .dataframe tbody tr th {\n",
       "        vertical-align: top;\n",
       "    }\n",
       "\n",
       "    .dataframe thead th {\n",
       "        text-align: right;\n",
       "    }\n",
       "</style>\n",
       "<table border=\"1\" class=\"dataframe\">\n",
       "  <thead>\n",
       "    <tr style=\"text-align: right;\">\n",
       "      <th></th>\n",
       "      <th>song_gn_dtl_gnr_basket</th>\n",
       "      <th>issue_date</th>\n",
       "      <th>album_name</th>\n",
       "      <th>album_id</th>\n",
       "      <th>artist_id_basket</th>\n",
       "      <th>song_name</th>\n",
       "      <th>song_gn_gnr_basket</th>\n",
       "      <th>artist_name_basket</th>\n",
       "      <th>id</th>\n",
       "    </tr>\n",
       "  </thead>\n",
       "  <tbody>\n",
       "    <tr>\n",
       "      <th>0</th>\n",
       "      <td>[GN0901]</td>\n",
       "      <td>20140512</td>\n",
       "      <td>불후의 명곡 - 7080 추억의 얄개시대 팝송베스트</td>\n",
       "      <td>2255639</td>\n",
       "      <td>[2727]</td>\n",
       "      <td>Feelings</td>\n",
       "      <td>[GN0900]</td>\n",
       "      <td>[Various Artists]</td>\n",
       "      <td>0</td>\n",
       "    </tr>\n",
       "    <tr>\n",
       "      <th>1</th>\n",
       "      <td>[GN1601, GN1606]</td>\n",
       "      <td>20080421</td>\n",
       "      <td>Bach : Partitas Nos. 2, 3 &amp; 4</td>\n",
       "      <td>376431</td>\n",
       "      <td>[29966]</td>\n",
       "      <td>Bach : Partita No. 4 In D Major, BWV 828 - II....</td>\n",
       "      <td>[GN1600]</td>\n",
       "      <td>[Murray Perahia]</td>\n",
       "      <td>1</td>\n",
       "    </tr>\n",
       "    <tr>\n",
       "      <th>2</th>\n",
       "      <td>[GN0901]</td>\n",
       "      <td>20180518</td>\n",
       "      <td>Hit</td>\n",
       "      <td>4698747</td>\n",
       "      <td>[3361]</td>\n",
       "      <td>Solsbury Hill (Remastered 2002)</td>\n",
       "      <td>[GN0900]</td>\n",
       "      <td>[Peter Gabriel]</td>\n",
       "      <td>2</td>\n",
       "    </tr>\n",
       "    <tr>\n",
       "      <th>3</th>\n",
       "      <td>[GN1102, GN1101]</td>\n",
       "      <td>20151016</td>\n",
       "      <td>Feeling Right (Everything Is Nice) (Feat. Popc...</td>\n",
       "      <td>2644882</td>\n",
       "      <td>[838543]</td>\n",
       "      <td>Feeling Right (Everything Is Nice) (Feat. Popc...</td>\n",
       "      <td>[GN1100]</td>\n",
       "      <td>[Matoma]</td>\n",
       "      <td>3</td>\n",
       "    </tr>\n",
       "    <tr>\n",
       "      <th>4</th>\n",
       "      <td>[GN1802, GN1801]</td>\n",
       "      <td>20110824</td>\n",
       "      <td>그남자 그여자</td>\n",
       "      <td>2008470</td>\n",
       "      <td>[560160]</td>\n",
       "      <td>그남자 그여자</td>\n",
       "      <td>[GN1800]</td>\n",
       "      <td>[Jude Law]</td>\n",
       "      <td>4</td>\n",
       "    </tr>\n",
       "  </tbody>\n",
       "</table>\n",
       "</div>"
      ],
      "text/plain": [
       "  song_gn_dtl_gnr_basket  issue_date  \\\n",
       "0               [GN0901]    20140512   \n",
       "1       [GN1601, GN1606]    20080421   \n",
       "2               [GN0901]    20180518   \n",
       "3       [GN1102, GN1101]    20151016   \n",
       "4       [GN1802, GN1801]    20110824   \n",
       "\n",
       "                                          album_name  album_id  \\\n",
       "0                       불후의 명곡 - 7080 추억의 얄개시대 팝송베스트   2255639   \n",
       "1                      Bach : Partitas Nos. 2, 3 & 4    376431   \n",
       "2                                                Hit   4698747   \n",
       "3  Feeling Right (Everything Is Nice) (Feat. Popc...   2644882   \n",
       "4                                            그남자 그여자   2008470   \n",
       "\n",
       "  artist_id_basket                                          song_name  \\\n",
       "0           [2727]                                           Feelings   \n",
       "1          [29966]  Bach : Partita No. 4 In D Major, BWV 828 - II....   \n",
       "2           [3361]                    Solsbury Hill (Remastered 2002)   \n",
       "3         [838543]  Feeling Right (Everything Is Nice) (Feat. Popc...   \n",
       "4         [560160]                                            그남자 그여자   \n",
       "\n",
       "  song_gn_gnr_basket artist_name_basket id  \n",
       "0           [GN0900]  [Various Artists]  0  \n",
       "1           [GN1600]   [Murray Perahia]  1  \n",
       "2           [GN0900]    [Peter Gabriel]  2  \n",
       "3           [GN1100]           [Matoma]  3  \n",
       "4           [GN1800]         [Jude Law]  4  "
      ]
     },
     "execution_count": 26,
     "metadata": {},
     "output_type": "execute_result"
    }
   ],
   "source": [
    "meta.head()"
   ]
  },
  {
   "cell_type": "code",
   "execution_count": 27,
   "metadata": {},
   "outputs": [
    {
     "data": {
      "text/plain": [
       "(707989, 9)"
      ]
     },
     "execution_count": 27,
     "metadata": {},
     "output_type": "execute_result"
    }
   ],
   "source": [
    "meta.shape"
   ]
  },
  {
   "cell_type": "markdown",
   "metadata": {},
   "source": [
    "컬럼의 의미\n",
    "\n",
    "- song_gn_dtl_gnr_basket :  곡의 세부장르\n",
    "- issue_date : 발매일\n",
    "- album_name : 앨범 제목\n",
    "- album_id : 앨범 아이디\n",
    "- artist_id_basket : 아티스트 아이디\n",
    "- song_name : 곡 제목\n",
    "- song_gn_gnr_basket : 곡의 장르\n",
    "- artist_name_basket : 아티스트명 \n",
    "- id : 곡의 아이디"
   ]
  },
  {
   "cell_type": "markdown",
   "metadata": {},
   "source": [
    "## like_cnt, updt_year에 따른 데이터의 분포"
   ]
  },
  {
   "cell_type": "markdown",
   "metadata": {},
   "source": [
    "한가지 특이한 점은 데이터의 분포입니다. 아래의 like_cnt와 updt_year에 의한 데이터의 분포를 살펴보면, train/val/test가 매우 유사한 것을 알 수 있고 위의 두가지 값을 통해서 데이터가 샘플링되었다고 추측할 수 있습니다. "
   ]
  },
  {
   "cell_type": "code",
   "execution_count": 28,
   "metadata": {},
   "outputs": [
    {
     "data": {
      "image/png": "[encoded data removed]",
      "text/plain": [
       "<Figure size 1200x800 with 3 Axes>"
      ]
     },
     "metadata": {},
     "output_type": "display_data"
    },
    {
     "data": {
      "text/plain": [
       "<ggplot: (196545553089)>"
      ]
     },
     "execution_count": 28,
     "metadata": {},
     "output_type": "execute_result"
    }
   ],
   "source": [
    "train['type'] = 'train'; val['type'] = 'val'; test['type'] = 'test'\n",
    "total = pd.concat([train, val], axis=0)\n",
    "total = pd.concat([total, test], axis=0)\n",
    "agg = total.groupby(['type', 'like_cnt'])['like_cnt'].agg({'count'}).reset_index().rename(columns = {'count': 'like_cnt의 수'})\n",
    "agg = agg[agg['like_cnt'] < 50]\n",
    "\n",
    "(ggplot(data=agg) \n",
    "    + geom_bar(aes(x='like_cnt', y='like_cnt의 수', group='type', fill='type'), color='black', stat='identity')\n",
    "    + facet_wrap('type', nrow=3, scales = \"free_y\")\n",
    "    #+ scale_x_discrete(limits=sorted_columns)\n",
    "    + scale_color_hue(l=0.45)\n",
    "    + theme_light() \n",
    "    + labs(title = 'like_cnt에 따른 데이터의 분포',\n",
    "         x = '좋아요 개수',\n",
    "         y = '플레이리스트의 개수')\n",
    "    + theme(text = element_text(fontproperties=font_name),\n",
    "        #axis_text_x = element_text(angle=80),\n",
    "        figure_size=(12,8),\n",
    "        legend_position=\"none\"))"
   ]
  },
  {
   "cell_type": "code",
   "execution_count": 29,
   "metadata": {},
   "outputs": [
    {
     "data": {
      "image/png": "[encoded data removed]",
      "text/plain": [
       "<Figure size 1200x800 with 3 Axes>"
      ]
     },
     "metadata": {},
     "output_type": "display_data"
    },
    {
     "data": {
      "text/plain": [
       "<ggplot: (196545568374)>"
      ]
     },
     "execution_count": 29,
     "metadata": {},
     "output_type": "execute_result"
    }
   ],
   "source": [
    "total['year'] = pd.to_datetime(total['updt_date']).dt.year\n",
    "agg = total.groupby(['type', 'year'])['year'].agg({'count'}).reset_index().rename(columns = {'count': 'year의 수'})\n",
    "\n",
    "(ggplot(data=agg) \n",
    "    + geom_bar(aes(x='year', y='year의 수', group='type', fill='type'), color='black', stat='identity')\n",
    "    + facet_wrap('type', nrow=3, scales = \"free_y\")\n",
    "    #+ scale_x_discrete(limits=sorted_columns)\n",
    "    + scale_color_hue(l=0.45)\n",
    "    + theme_light() \n",
    "    + labs(title = 'year에 따른 데이터의 분포',\n",
    "         x = '년도',\n",
    "         y = '플레이리스트의 개수')\n",
    "    + theme(text = element_text(fontproperties=font_name),\n",
    "        #axis_text_x = element_text(angle=80),\n",
    "        figure_size=(12,8),\n",
    "        legend_position=\"none\"))"
   ]
  },
  {
   "cell_type": "markdown",
   "metadata": {},
   "source": [
    "위의 두가지 그래프를 통해서 각각의 데이터의 분포가 비슷하므로 shake up(private test하고 public test간의 점수가 큰 상황)이 발생할 가능성이 적을 것이라고 예상할 수 있습니다. 또한, validation을 구성할 때 위의 두가지 점을 유의하고 만들어야합니다. "
   ]
  },
  {
   "cell_type": "markdown",
   "metadata": {},
   "source": [
    "이번에는 태그, 곡, 제목의 분포를 살펴보겠습니다. "
   ]
  },
  {
   "cell_type": "code",
   "execution_count": 30,
   "metadata": {},
   "outputs": [],
   "source": [
    "total['is_plylst_title_null'] = total['plylst_title'].apply(lambda x: 1 if len(x) == 0 else 0)\n",
    "total['tags_cnt'] = total['tags'].apply(lambda x: len(x))\n",
    "total['songs_cnt'] = total['songs'].apply(lambda x: len(x))\n",
    "total['is_tags_null'] = total['tags_cnt'].apply(lambda x: 1 if x == 0 else 0)\n",
    "total['is_songs_null'] = total['songs_cnt'].apply(lambda x: 1 if x == 0 else 0)"
   ]
  },
  {
   "cell_type": "code",
   "execution_count": 31,
   "metadata": {},
   "outputs": [
    {
     "data": {
      "text/html": [
       "<div>\n",
       "<style scoped>\n",
       "    .dataframe tbody tr th:only-of-type {\n",
       "        vertical-align: middle;\n",
       "    }\n",
       "\n",
       "    .dataframe tbody tr th {\n",
       "        vertical-align: top;\n",
       "    }\n",
       "\n",
       "    .dataframe thead th {\n",
       "        text-align: right;\n",
       "    }\n",
       "</style>\n",
       "<table border=\"1\" class=\"dataframe\">\n",
       "  <thead>\n",
       "    <tr style=\"text-align: right;\">\n",
       "      <th></th>\n",
       "      <th></th>\n",
       "      <th>count</th>\n",
       "    </tr>\n",
       "    <tr>\n",
       "      <th>type</th>\n",
       "      <th>is_plylst_title_null</th>\n",
       "      <th></th>\n",
       "    </tr>\n",
       "  </thead>\n",
       "  <tbody>\n",
       "    <tr>\n",
       "      <th rowspan=\"2\" valign=\"top\">test</th>\n",
       "      <th>0</th>\n",
       "      <td>2041</td>\n",
       "    </tr>\n",
       "    <tr>\n",
       "      <th>1</th>\n",
       "      <td>8699</td>\n",
       "    </tr>\n",
       "    <tr>\n",
       "      <th>train</th>\n",
       "      <th>0</th>\n",
       "      <td>115071</td>\n",
       "    </tr>\n",
       "    <tr>\n",
       "      <th rowspan=\"2\" valign=\"top\">val</th>\n",
       "      <th>0</th>\n",
       "      <td>4373</td>\n",
       "    </tr>\n",
       "    <tr>\n",
       "      <th>1</th>\n",
       "      <td>18642</td>\n",
       "    </tr>\n",
       "  </tbody>\n",
       "</table>\n",
       "</div>"
      ],
      "text/plain": [
       "                             count\n",
       "type  is_plylst_title_null        \n",
       "test  0                       2041\n",
       "      1                       8699\n",
       "train 0                     115071\n",
       "val   0                       4373\n",
       "      1                      18642"
      ]
     },
     "execution_count": 31,
     "metadata": {},
     "output_type": "execute_result"
    }
   ],
   "source": [
    "total.groupby(['type', 'is_plylst_title_null'])['type'].agg({'count'})"
   ]
  },
  {
   "cell_type": "code",
   "execution_count": 32,
   "metadata": {},
   "outputs": [
    {
     "data": {
      "text/plain": [
       "(0.8099627560521415, 0.8099934825114056)"
      ]
     },
     "execution_count": 32,
     "metadata": {},
     "output_type": "execute_result"
    }
   ],
   "source": [
    "8699 / (2041+8699), 18642 / (4373+18642)"
   ]
  },
  {
   "cell_type": "markdown",
   "metadata": {},
   "source": [
    "train의 모든 플레이 리스트 제목은 결측치가 없지만 test와 val은 81%정도의 비율로 결측치가 있습니다. "
   ]
  },
  {
   "cell_type": "code",
   "execution_count": 33,
   "metadata": {},
   "outputs": [
    {
     "data": {
      "text/html": [
       "<div>\n",
       "<style scoped>\n",
       "    .dataframe tbody tr th:only-of-type {\n",
       "        vertical-align: middle;\n",
       "    }\n",
       "\n",
       "    .dataframe tbody tr th {\n",
       "        vertical-align: top;\n",
       "    }\n",
       "\n",
       "    .dataframe thead th {\n",
       "        text-align: right;\n",
       "    }\n",
       "</style>\n",
       "<table border=\"1\" class=\"dataframe\">\n",
       "  <thead>\n",
       "    <tr style=\"text-align: right;\">\n",
       "      <th></th>\n",
       "      <th></th>\n",
       "      <th></th>\n",
       "      <th></th>\n",
       "      <th>count</th>\n",
       "    </tr>\n",
       "    <tr>\n",
       "      <th>type</th>\n",
       "      <th>is_plylst_title_null</th>\n",
       "      <th>is_tags_null</th>\n",
       "      <th>is_songs_null</th>\n",
       "      <th></th>\n",
       "    </tr>\n",
       "  </thead>\n",
       "  <tbody>\n",
       "    <tr>\n",
       "      <th rowspan=\"5\" valign=\"top\">test</th>\n",
       "      <th rowspan=\"2\" valign=\"top\">0</th>\n",
       "      <th>0</th>\n",
       "      <th>1</th>\n",
       "      <td>1232</td>\n",
       "    </tr>\n",
       "    <tr>\n",
       "      <th>1</th>\n",
       "      <th>1</th>\n",
       "      <td>809</td>\n",
       "    </tr>\n",
       "    <tr>\n",
       "      <th rowspan=\"3\" valign=\"top\">1</th>\n",
       "      <th>0</th>\n",
       "      <th>0</th>\n",
       "      <td>4190</td>\n",
       "    </tr>\n",
       "    <tr>\n",
       "      <th rowspan=\"2\" valign=\"top\">1</th>\n",
       "      <th>0</th>\n",
       "      <td>4507</td>\n",
       "    </tr>\n",
       "    <tr>\n",
       "      <th>1</th>\n",
       "      <td>2</td>\n",
       "    </tr>\n",
       "    <tr>\n",
       "      <th>train</th>\n",
       "      <th>0</th>\n",
       "      <th>0</th>\n",
       "      <th>0</th>\n",
       "      <td>115071</td>\n",
       "    </tr>\n",
       "    <tr>\n",
       "      <th rowspan=\"6\" valign=\"top\">val</th>\n",
       "      <th rowspan=\"2\" valign=\"top\">0</th>\n",
       "      <th>0</th>\n",
       "      <th>1</th>\n",
       "      <td>2628</td>\n",
       "    </tr>\n",
       "    <tr>\n",
       "      <th>1</th>\n",
       "      <th>1</th>\n",
       "      <td>1745</td>\n",
       "    </tr>\n",
       "    <tr>\n",
       "      <th rowspan=\"4\" valign=\"top\">1</th>\n",
       "      <th rowspan=\"2\" valign=\"top\">0</th>\n",
       "      <th>0</th>\n",
       "      <td>8975</td>\n",
       "    </tr>\n",
       "    <tr>\n",
       "      <th>1</th>\n",
       "      <td>2</td>\n",
       "    </tr>\n",
       "    <tr>\n",
       "      <th rowspan=\"2\" valign=\"top\">1</th>\n",
       "      <th>0</th>\n",
       "      <td>9661</td>\n",
       "    </tr>\n",
       "    <tr>\n",
       "      <th>1</th>\n",
       "      <td>4</td>\n",
       "    </tr>\n",
       "  </tbody>\n",
       "</table>\n",
       "</div>"
      ],
      "text/plain": [
       "                                                        count\n",
       "type  is_plylst_title_null is_tags_null is_songs_null        \n",
       "test  0                    0            1                1232\n",
       "                           1            1                 809\n",
       "      1                    0            0                4190\n",
       "                           1            0                4507\n",
       "                                        1                   2\n",
       "train 0                    0            0              115071\n",
       "val   0                    0            1                2628\n",
       "                           1            1                1745\n",
       "      1                    0            0                8975\n",
       "                                        1                   2\n",
       "                           1            0                9661\n",
       "                                        1                   4"
      ]
     },
     "execution_count": 33,
     "metadata": {},
     "output_type": "execute_result"
    }
   ],
   "source": [
    "total.groupby(['type', 'is_plylst_title_null', 'is_tags_null', 'is_songs_null'])['type'].agg({'count'})"
   ]
  },
  {
   "cell_type": "markdown",
   "metadata": {},
   "source": [
    "또한, tag와 songs 모두 결측치인 유형 title, tags, songs 모두 결측치인 유형 등 다양한 조합이 있는 것을 확인 가능합니다. "
   ]
  },
  {
   "cell_type": "code",
   "execution_count": 34,
   "metadata": {},
   "outputs": [
    {
     "data": {
      "image/png": "[encoded data removed]",
      "text/plain": [
       "<Figure size 1200x800 with 3 Axes>"
      ]
     },
     "metadata": {},
     "output_type": "display_data"
    },
    {
     "data": {
      "text/plain": [
       "<ggplot: (196550511478)>"
      ]
     },
     "execution_count": 34,
     "metadata": {},
     "output_type": "execute_result"
    }
   ],
   "source": [
    "agg = total.groupby(['tags_cnt', 'type'])['tags_cnt'].agg({'count'}).reset_index().rename(columns={'count':'사람의 수'})\n",
    "(ggplot(data=agg) \n",
    "    + geom_bar(aes(x='tags_cnt', y='사람의 수', group='type', fill='type'), color='black', stat='identity')\n",
    "    + facet_wrap('type', nrow=3, scales = \"free_y\")\n",
    "    #+ scale_x_discrete(limits=sorted_columns)\n",
    "    + scale_color_hue(l=0.45)\n",
    "    + theme_light() \n",
    "    + labs(title = 'tags의 수에 따른 데이터의 분포',\n",
    "         x = 'tags의 수',\n",
    "         y = '플레이리스트의 개수')\n",
    "    + theme(text = element_text(fontproperties=font_name),\n",
    "        #axis_text_x = element_text(angle=80),\n",
    "        figure_size=(12,8),\n",
    "        legend_position=\"none\"))"
   ]
  },
  {
   "cell_type": "markdown",
   "metadata": {},
   "source": [
    "tags의 경우 최소 1개, 최대 11개으로 판단됩니다. 하지만 val과 test는 6이상인 값들은 없고 대회 설명처럼 일부가 삭제된 것을 볼 수 있습니다. 추측하건데 50%으로 제거되고 일부는 0으로 매핑한 것 같습니다. "
   ]
  },
  {
   "cell_type": "code",
   "execution_count": 35,
   "metadata": {},
   "outputs": [
    {
     "data": {
      "image/png": "[encoded data removed]",
      "text/plain": [
       "<Figure size 1200x800 with 3 Axes>"
      ]
     },
     "metadata": {},
     "output_type": "display_data"
    },
    {
     "data": {
      "text/plain": [
       "<ggplot: (196550737851)>"
      ]
     },
     "execution_count": 35,
     "metadata": {},
     "output_type": "execute_result"
    }
   ],
   "source": [
    "agg = total.groupby(['songs_cnt', 'type'])['songs_cnt'].agg({'count'}).reset_index().rename(columns={'count':'사람의 수'})\n",
    "(ggplot(data=agg) \n",
    "    + geom_bar(aes(x='songs_cnt', y='사람의 수', group='type', fill='type'), color='black', stat='identity')\n",
    "    + facet_wrap('type', nrow=3, scales = \"free_y\")\n",
    "    #+ scale_x_discrete(limits=sorted_columns)\n",
    "    + scale_color_hue(l=0.45)\n",
    "    + theme_light() \n",
    "    + labs(title = 'songs의 수에 따른 데이터의 분포',\n",
    "         x = 'songs의 수',\n",
    "         y = '플레이리스트의 개수')\n",
    "    + theme(text = element_text(fontproperties=font_name),\n",
    "        #axis_text_x = element_text(angle=80),\n",
    "        figure_size=(12,8),\n",
    "        legend_position=\"none\"))"
   ]
  },
  {
   "cell_type": "markdown",
   "metadata": {},
   "source": [
    "songs의 경우 최소 1개, 최대 200개으로 판단됩니다. 하지만, val과 test는 100을 넘는 값들은 없습니다. tag와 마찬가지로 50%으로 제거되고 일부는 0으로 매핑한 것 같습니다. "
   ]
  },
  {
   "cell_type": "markdown",
   "metadata": {},
   "source": [
    "## DJ 플레이리스트 조건에 따른 데이터 탐색\n",
    "이전에 DJ 플레이리스트 신청하기에서 본 것처럼 DJ 플레이리스트를 신청하려면 특정 조건들을 만족해야합니다. \n",
    "먼저, **동일가수/앨범이 편중되지 않았는 지?**를 확인하기 위해서 해당 항목을 확인해 보겠습니다. 그 전에 먼저 앨범에 매핑된 곡의 수부터 살펴보겠습니다. "
   ]
  },
  {
   "cell_type": "code",
   "execution_count": 36,
   "metadata": {},
   "outputs": [
    {
     "data": {
      "text/html": [
       "<div>\n",
       "<style scoped>\n",
       "    .dataframe tbody tr th:only-of-type {\n",
       "        vertical-align: middle;\n",
       "    }\n",
       "\n",
       "    .dataframe tbody tr th {\n",
       "        vertical-align: top;\n",
       "    }\n",
       "\n",
       "    .dataframe thead th {\n",
       "        text-align: right;\n",
       "    }\n",
       "</style>\n",
       "<table border=\"1\" class=\"dataframe\">\n",
       "  <thead>\n",
       "    <tr style=\"text-align: right;\">\n",
       "      <th></th>\n",
       "      <th>song_gn_dtl_gnr_basket</th>\n",
       "      <th>issue_date</th>\n",
       "      <th>album_name</th>\n",
       "      <th>album_id</th>\n",
       "      <th>artist_id_basket</th>\n",
       "      <th>song_name</th>\n",
       "      <th>song_gn_gnr_basket</th>\n",
       "      <th>artist_name_basket</th>\n",
       "      <th>id</th>\n",
       "    </tr>\n",
       "  </thead>\n",
       "  <tbody>\n",
       "    <tr>\n",
       "      <th>0</th>\n",
       "      <td>[GN0901]</td>\n",
       "      <td>20140512</td>\n",
       "      <td>불후의 명곡 - 7080 추억의 얄개시대 팝송베스트</td>\n",
       "      <td>2255639</td>\n",
       "      <td>[2727]</td>\n",
       "      <td>Feelings</td>\n",
       "      <td>[GN0900]</td>\n",
       "      <td>[Various Artists]</td>\n",
       "      <td>0</td>\n",
       "    </tr>\n",
       "  </tbody>\n",
       "</table>\n",
       "</div>"
      ],
      "text/plain": [
       "  song_gn_dtl_gnr_basket  issue_date                    album_name  album_id  \\\n",
       "0               [GN0901]    20140512  불후의 명곡 - 7080 추억의 얄개시대 팝송베스트   2255639   \n",
       "\n",
       "  artist_id_basket song_name song_gn_gnr_basket artist_name_basket id  \n",
       "0           [2727]  Feelings           [GN0900]  [Various Artists]  0  "
      ]
     },
     "execution_count": 36,
     "metadata": {},
     "output_type": "execute_result"
    }
   ],
   "source": [
    "meta.head(1)"
   ]
  },
  {
   "cell_type": "code",
   "execution_count": 37,
   "metadata": {},
   "outputs": [
    {
     "data": {
      "image/png": "[encoded data removed]",
      "text/plain": [
       "<Figure size 1440x720 with 1 Axes>"
      ]
     },
     "metadata": {
      "needs_background": "light"
     },
     "output_type": "display_data"
    }
   ],
   "source": [
    "# 1. 앨범별 수록된 곡의 수 테이블 \n",
    "album_song_cnt = pd.DataFrame(meta.groupby('album_id').id.nunique())\n",
    "\n",
    "# 2-1. grid setting\n",
    "grid_list = [i*2 for i in range(1, 71)]\n",
    "\n",
    "# 2-2. plotting\n",
    "plt.hist(album_song_cnt['id'], grid_list, color = \"lightgrey\", edgecolor = \"black\")\n",
    "plt.show()"
   ]
  },
  {
   "cell_type": "code",
   "execution_count": 38,
   "metadata": {},
   "outputs": [
    {
     "data": {
      "text/html": [
       "<div>\n",
       "<style scoped>\n",
       "    .dataframe tbody tr th:only-of-type {\n",
       "        vertical-align: middle;\n",
       "    }\n",
       "\n",
       "    .dataframe tbody tr th {\n",
       "        vertical-align: top;\n",
       "    }\n",
       "\n",
       "    .dataframe thead th {\n",
       "        text-align: right;\n",
       "    }\n",
       "</style>\n",
       "<table border=\"1\" class=\"dataframe\">\n",
       "  <thead>\n",
       "    <tr style=\"text-align: right;\">\n",
       "      <th></th>\n",
       "      <th>min</th>\n",
       "      <th>25%</th>\n",
       "      <th>50%</th>\n",
       "      <th>mean</th>\n",
       "      <th>75%</th>\n",
       "      <th>max</th>\n",
       "      <th>std</th>\n",
       "    </tr>\n",
       "  </thead>\n",
       "  <tbody>\n",
       "    <tr>\n",
       "      <th>id</th>\n",
       "      <td>1.0</td>\n",
       "      <td>1.0</td>\n",
       "      <td>1.0</td>\n",
       "      <td>2.46</td>\n",
       "      <td>2.0</td>\n",
       "      <td>142.0</td>\n",
       "      <td>3.55</td>\n",
       "    </tr>\n",
       "  </tbody>\n",
       "</table>\n",
       "</div>"
      ],
      "text/plain": [
       "    min  25%  50%  mean  75%    max   std\n",
       "id  1.0  1.0  1.0  2.46  2.0  142.0  3.55"
      ]
     },
     "execution_count": 38,
     "metadata": {},
     "output_type": "execute_result"
    }
   ],
   "source": [
    "round(album_song_cnt.describe().loc[['min', '25%', '50%', 'mean', '75%', 'max', 'std']].transpose(), 2)"
   ]
  },
  {
   "cell_type": "markdown",
   "metadata": {},
   "source": [
    "앨범 하나에 매핑된 곡의 평균적으로 2.46개이며 중앙값으로는 1의 값을 가집니다. 그리고 100개 이상의 곡이 매핑된 경우도 있는데 그러한 앨범은 아래와 같습니다. 앨범의 이름과 아티스트명을 보면 알겠지만, 다양한 아티스의 곡이 포함된 형태 또는 많은 곡을 작성한 사람들(모짜르트, 김광성)인 것을 확인할 수 있습니다."
   ]
  },
  {
   "cell_type": "code",
   "execution_count": 39,
   "metadata": {},
   "outputs": [
    {
     "name": "stdout",
     "output_type": "stream",
     "text": [
      "['Satie : Oeuvres Pour Piano' list(['Aldo Ciccolini'])]\n",
      "['Mozart : Piano Sonatas, Violin Sonatas, Piano Duets & Piano Works'\n",
      " list(['Mozart 250 Anniversary'])]\n",
      "['기독교인이 가장 좋아하는 묵상음악 101' list(['Various Artists'])]\n",
      "['김광석 `나의 노래` Box Set' list(['김광석'])]\n",
      "['동요나라 동요천국 180곡' list(['동요천국'])]\n",
      "['새콤 달콤 유아동요 베스트 300' list(['Various Artists'])]\n",
      "['Tchaikovsky : The Complete Solo Piano Works' list(['Valentina Lisitsa'])]\n"
     ]
    }
   ],
   "source": [
    "album_song_cnt = album_song_cnt.reset_index()\n",
    "for i in album_song_cnt[album_song_cnt['id'] > 100]['album_id'].values: \n",
    "    print(meta[meta['album_id'] == album_song_cnt[album_song_cnt['album_id'] == i]['album_id'].values[0]][['album_name', 'artist_name_basket']].values[0])"
   ]
  },
  {
   "cell_type": "code",
   "execution_count": 40,
   "metadata": {
    "scrolled": true
   },
   "outputs": [
    {
     "data": {
      "text/html": [
       "<div>\n",
       "<style scoped>\n",
       "    .dataframe tbody tr th:only-of-type {\n",
       "        vertical-align: middle;\n",
       "    }\n",
       "\n",
       "    .dataframe tbody tr th {\n",
       "        vertical-align: top;\n",
       "    }\n",
       "\n",
       "    .dataframe thead th {\n",
       "        text-align: right;\n",
       "    }\n",
       "</style>\n",
       "<table border=\"1\" class=\"dataframe\">\n",
       "  <thead>\n",
       "    <tr style=\"text-align: right;\">\n",
       "      <th></th>\n",
       "      <th>song_gn_dtl_gnr_basket</th>\n",
       "      <th>issue_date</th>\n",
       "      <th>album_name</th>\n",
       "      <th>album_id</th>\n",
       "      <th>artist_id_basket</th>\n",
       "      <th>song_name</th>\n",
       "      <th>song_gn_gnr_basket</th>\n",
       "      <th>artist_name_basket</th>\n",
       "      <th>id</th>\n",
       "    </tr>\n",
       "  </thead>\n",
       "  <tbody>\n",
       "    <tr>\n",
       "      <th>9422</th>\n",
       "      <td>[GN0801]</td>\n",
       "      <td>20120709</td>\n",
       "      <td>김광석 `나의 노래` Box Set</td>\n",
       "      <td>2136746</td>\n",
       "      <td>[2960]</td>\n",
       "      <td>이등병의 편지</td>\n",
       "      <td>[GN0800]</td>\n",
       "      <td>[김광석]</td>\n",
       "      <td>9422</td>\n",
       "    </tr>\n",
       "    <tr>\n",
       "      <th>11464</th>\n",
       "      <td>[GN0801]</td>\n",
       "      <td>20120709</td>\n",
       "      <td>김광석 `나의 노래` Box Set</td>\n",
       "      <td>2136746</td>\n",
       "      <td>[2960]</td>\n",
       "      <td>그녀가 처음 울던 날</td>\n",
       "      <td>[GN0800]</td>\n",
       "      <td>[김광석]</td>\n",
       "      <td>11464</td>\n",
       "    </tr>\n",
       "  </tbody>\n",
       "</table>\n",
       "</div>"
      ],
      "text/plain": [
       "      song_gn_dtl_gnr_basket  issue_date           album_name  album_id  \\\n",
       "9422                [GN0801]    20120709  김광석 `나의 노래` Box Set   2136746   \n",
       "11464               [GN0801]    20120709  김광석 `나의 노래` Box Set   2136746   \n",
       "\n",
       "      artist_id_basket    song_name song_gn_gnr_basket artist_name_basket  \\\n",
       "9422            [2960]      이등병의 편지           [GN0800]              [김광석]   \n",
       "11464           [2960]  그녀가 처음 울던 날           [GN0800]              [김광석]   \n",
       "\n",
       "          id  \n",
       "9422    9422  \n",
       "11464  11464  "
      ]
     },
     "execution_count": 40,
     "metadata": {},
     "output_type": "execute_result"
    }
   ],
   "source": [
    "meta[meta['album_id'] == 2136746].head(2)"
   ]
  },
  {
   "cell_type": "markdown",
   "metadata": {},
   "source": [
    "이러한 사실을 인지하고 동일 앨범의 수록곡과 동일 가수의 수록곡이 플레이리스트에 몇 개가 있는지 확인해보겠습니다. "
   ]
  },
  {
   "cell_type": "code",
   "execution_count": 41,
   "metadata": {},
   "outputs": [
    {
     "data": {
      "application/vnd.jupyter.widget-view+json": {
       "model_id": "b180795e57ee4e15af4a8e17ac1b3ee0",
       "version_major": 2,
       "version_minor": 0
      },
      "text/plain": [
       "  0%|          | 0/115071 [00:00<?, ?it/s]"
      ]
     },
     "metadata": {},
     "output_type": "display_data"
    }
   ],
   "source": [
    "album_list = meta['album_id'].values\n",
    "artist_list = meta['artist_name_basket'].values\n",
    "\n",
    "# 동일 앨범의 수록곡에 대한 개수 \n",
    "e = Counter()\n",
    "\n",
    "# 동일 가수에 대한 개수(단, various Artist는 제외)\n",
    "f = Counter()\n",
    "\n",
    "# 플레이 리스트별 동일 앨범, 가수의 최대수\n",
    "album_cnt = []; singer_cnt = []; \n",
    "for i in notebook.tqdm(train['songs']):\n",
    "    c = Counter()\n",
    "    d = Counter()\n",
    "    for j in i: \n",
    "        # index와 곡의 번호가 동일\n",
    "        c.update({album_list[j]: 1})\n",
    "        if artist_list[j][0] == 'Various Artists': continue\n",
    "        d.update({artist_list[j][0]: 1})\n",
    "    \n",
    "    album_cnt.append(max(c.values()))\n",
    "    \n",
    "    # 모든 앨범의 곡이 Various Artists인 경우 \n",
    "    try: singer_cnt.append(max(d.values())) \n",
    "    except: singer_cnt.append(1)\n",
    "    \n",
    "    for k in c.values(): \n",
    "        e.update({k: 1})\n",
    "        \n",
    "    for k in d.values(): \n",
    "        f.update({k: 1})"
   ]
  },
  {
   "cell_type": "code",
   "execution_count": 42,
   "metadata": {},
   "outputs": [
    {
     "data": {
      "image/png": "[encoded data removed]",
      "text/plain": [
       "<Figure size 1440x720 with 1 Axes>"
      ]
     },
     "metadata": {
      "needs_background": "light"
     },
     "output_type": "display_data"
    }
   ],
   "source": [
    "# 1. 동일 앨범의 수록 수에 대한 데이터프레임을 완성 \n",
    "album_df = pd.DataFrame(data = np.array([list(e.keys()), list(e.values())]).T, columns=['동일 앨범의 수록 수', '전체 사용자의 갯수'])\n",
    "album_df = album_df.sort_values(by='전체 사용자의 갯수', ascending=False).reset_index(drop=True)\n",
    "\n",
    "# 2. 시각화 \n",
    "album_plot = sns.barplot(x = '동일 앨범의 수록 수', y = '전체 사용자의 갯수', data = album_df.head(20), order = album_df['동일 앨범의 수록 수'].head(20))\n",
    "album_plot.set_title('플레이 리스트 별 앨범의 수')\n",
    "album_plot.set_xlabel('앨범의 개수')\n",
    "album_plot.set_ylabel('플레이 리스트의 개수')\n",
    "plt.xticks(rotation = 0)\n",
    "plt.show()"
   ]
  },
  {
   "cell_type": "code",
   "execution_count": 43,
   "metadata": {},
   "outputs": [
    {
     "data": {
      "image/png": "[encoded data removed]",
      "text/plain": [
       "<Figure size 1440x720 with 1 Axes>"
      ]
     },
     "metadata": {
      "needs_background": "light"
     },
     "output_type": "display_data"
    }
   ],
   "source": [
    "# 1. 동일 가수의 수록 수에 대한 데이터프레임을 완성 \n",
    "singer_df = pd.DataFrame(data = np.array([list(f.keys()), list(f.values())]).T, columns=['동일 가수의 수록 수', '전체 사용자의 갯수'])\n",
    "singer_df = singer_df.sort_values(by='전체 사용자의 갯수', ascending=False).reset_index(drop=True)\n",
    "\n",
    "# 2. 시각화 \n",
    "singer_df_plot = sns.barplot(x = '동일 가수의 수록 수', y = '전체 사용자의 갯수', data = singer_df.head(20), order = singer_df['동일 가수의 수록 수'].head(6))\n",
    "singer_df_plot.set_title('플레이 리스트 별 가수의 수')\n",
    "singer_df_plot.set_xlabel('가수의 개수')\n",
    "singer_df_plot.set_ylabel('플레이 리스트의 개수')\n",
    "plt.xticks(rotation = 0)\n",
    "plt.show()"
   ]
  },
  {
   "cell_type": "markdown",
   "metadata": {},
   "source": [
    "위의 두그래프를 보면 플레이 리스트는 대부분이 앨범이 3개 이하이고 가수는 5명 이하입니다. 하지만 그렇지 않은 플레이 리스트도 많습니다. 해당 플레이 리스트에서 동일 가수와 동일 앨범이 가장 많은 플레이 리스트를 살펴보면, 아래와 같습니다.  "
   ]
  },
  {
   "cell_type": "code",
   "execution_count": 44,
   "metadata": {},
   "outputs": [
    {
     "data": {
      "text/plain": [
       "tags                                                        [클래식]\n",
       "id                                                           2283\n",
       "plylst_title                                            사티의 몽환의 밤\n",
       "songs           [657814, 571431, 447673, 256725, 304836, 58868...\n",
       "like_cnt                                                       10\n",
       "updt_date                                 2015-04-08 23:23:18.000\n",
       "type                                                        train\n",
       "Name: 15683, dtype: object"
      ]
     },
     "execution_count": 44,
     "metadata": {},
     "output_type": "execute_result"
    }
   ],
   "source": [
    "train.loc[album_cnt.index(max(album_cnt))]"
   ]
  },
  {
   "cell_type": "code",
   "execution_count": 45,
   "metadata": {},
   "outputs": [
    {
     "ename": "IndexError",
     "evalue": "index 0 is out of bounds for axis 0 with size 0",
     "output_type": "error",
     "traceback": [
      "\u001b[1;31m---------------------------------------------------------------------------\u001b[0m",
      "\u001b[1;31mIndexError\u001b[0m                                Traceback (most recent call last)",
      "\u001b[1;32m<ipython-input-45-26bd316c4b72>\u001b[0m in \u001b[0;36m<module>\u001b[1;34m\u001b[0m\n\u001b[0;32m      1\u001b[0m \u001b[0mc\u001b[0m \u001b[1;33m=\u001b[0m \u001b[0mCounter\u001b[0m\u001b[1;33m(\u001b[0m\u001b[1;33m)\u001b[0m\u001b[1;33m\u001b[0m\u001b[1;33m\u001b[0m\u001b[0m\n\u001b[1;32m----> 2\u001b[1;33m \u001b[1;32mfor\u001b[0m \u001b[0msong\u001b[0m \u001b[1;32min\u001b[0m \u001b[0mtrain\u001b[0m\u001b[1;33m.\u001b[0m\u001b[0mloc\u001b[0m\u001b[1;33m[\u001b[0m\u001b[0malbum_cnt\u001b[0m\u001b[1;33m.\u001b[0m\u001b[0mindex\u001b[0m\u001b[1;33m(\u001b[0m\u001b[0mmax\u001b[0m\u001b[1;33m(\u001b[0m\u001b[0malbum_cnt\u001b[0m\u001b[1;33m)\u001b[0m\u001b[1;33m)\u001b[0m\u001b[1;33m]\u001b[0m\u001b[1;33m[\u001b[0m\u001b[1;34m'songs'\u001b[0m\u001b[1;33m]\u001b[0m\u001b[1;33m:\u001b[0m \u001b[0mc\u001b[0m\u001b[1;33m.\u001b[0m\u001b[0mupdate\u001b[0m\u001b[1;33m(\u001b[0m\u001b[1;33m{\u001b[0m\u001b[0mmeta\u001b[0m\u001b[1;33m[\u001b[0m\u001b[0mmeta\u001b[0m\u001b[1;33m[\u001b[0m\u001b[1;34m'id'\u001b[0m\u001b[1;33m]\u001b[0m \u001b[1;33m==\u001b[0m \u001b[0msong\u001b[0m\u001b[1;33m]\u001b[0m\u001b[1;33m[\u001b[0m\u001b[1;34m'album_name'\u001b[0m\u001b[1;33m]\u001b[0m\u001b[1;33m.\u001b[0m\u001b[0mvalues\u001b[0m\u001b[1;33m[\u001b[0m\u001b[1;36m0\u001b[0m\u001b[1;33m]\u001b[0m\u001b[1;33m:\u001b[0m \u001b[1;36m1\u001b[0m\u001b[1;33m}\u001b[0m\u001b[1;33m)\u001b[0m\u001b[1;33m\u001b[0m\u001b[1;33m\u001b[0m\u001b[0m\n\u001b[0m\u001b[0;32m      3\u001b[0m \u001b[0mprint\u001b[0m\u001b[1;33m(\u001b[0m\u001b[0mc\u001b[0m\u001b[1;33m)\u001b[0m\u001b[1;33m\u001b[0m\u001b[1;33m\u001b[0m\u001b[0m\n",
      "\u001b[1;31mIndexError\u001b[0m: index 0 is out of bounds for axis 0 with size 0"
     ]
    }
   ],
   "source": [
    "c = Counter()\n",
    "for song in train.loc[album_cnt.index(max(album_cnt))]['songs']: c.update({meta[meta['id'] == song]['album_name'].values[0]: 1})\n",
    "print(c)"
   ]
  },
  {
   "cell_type": "code",
   "execution_count": null,
   "metadata": {},
   "outputs": [],
   "source": [
    "train.loc[singer_cnt.index(max(singer_cnt))]"
   ]
  },
  {
   "cell_type": "code",
   "execution_count": null,
   "metadata": {},
   "outputs": [],
   "source": [
    "c = Counter()\n",
    "for song in train.loc[singer_cnt.index(max(singer_cnt))]['songs']: \n",
    "    for singer in meta[meta['id'] == song]['artist_name_basket'].values[0]:\n",
    "        c.update({singer: 1})\n",
    "print(c)"
   ]
  },
  {
   "cell_type": "markdown",
   "metadata": {},
   "source": [
    "특징을 살펴보면 클랙식과 같이 동일 앨범내에 수록곡이 많거나 전곡 모음처럼 특정 가수의 곡만을 담은 플레이리스트임을 알 수 있습니다. 이러한 사실을 바탕으로 특정 가수 혹은 앨범의 곡이 많이 담긴 플레이리스트를 찾는 방법도 좋은 추천 방법이 될 것 같습니다. "
   ]
  },
  {
   "cell_type": "markdown",
   "metadata": {},
   "source": [
    "## plylst_title의 정보를 활용해서 추천할 수 있는 경우\n",
    "멜론 DJ신청하기의 설명을 보면, plylst_title는 제목은 선곡의 테마 및 장르를 대표할 수 있는 형태여야 합니다. 또한, 대회 데이터의 19%가 제목이 있기에 제목을 활용해서 잘 추천하는 것이 중요합니다. 아래는 여행이라는 태그를 통해서 검색한 화면인데, 제목과 태그간의 연관성 있는 것을 확인할 수 있습니다. \n",
    "\n",
    "![](https://drive.google.com/uc?export=view&id=1QRLoUk1C5-PE1H98G6eWl5fIQ6j6pKsl)"
   ]
  },
  {
   "cell_type": "code",
   "execution_count": null,
   "metadata": {},
   "outputs": [],
   "source": [
    "for i in train['plylst_title'].unique()[0:10]: print(i)"
   ]
  },
  {
   "cell_type": "markdown",
   "metadata": {},
   "source": [
    "또한, 90년대 신나는곡이나 쇼미더머니8노래모음, 헤이즈 모음, 조용필처럼 몇개의 경우는 플레이 리스트의 제목만 보고 쉽게 수록 곡의 정보를 알 수 있습니다. "
   ]
  },
  {
   "cell_type": "code",
   "execution_count": null,
   "metadata": {},
   "outputs": [],
   "source": [
    "for i in train[train['plylst_title'] == '헤이즈 모음']['songs'].values[0]: print(meta[meta['id'] == i][['song_name', 'artist_name_basket']].values[0])"
   ]
  },
  {
   "cell_type": "markdown",
   "metadata": {},
   "source": [
    "## 메타 데이터의 날짜 잘못된 것 수정\n",
    "Disscussion [DB metadata에 문제점이 있는 것 같습니다!](https://arena.kakao.com/forum/topics/201)에 따르면 몇몇 곡들의 날짜가 잘 맞지 않는 것을 볼 수 있습니다. "
   ]
  },
  {
   "cell_type": "code",
   "execution_count": null,
   "metadata": {},
   "outputs": [],
   "source": [
    "# 곡 아이디(id)와 대분류 장르코드 리스트(date_gn_gnr_basket) 추출\n",
    "playlist_id_date_map = total.loc[:, ['songs','updt_date']]\n",
    "\n",
    "# unnest date_gn_gnr_basket\n",
    "playlist_id_map_unnest = np.dstack(\n",
    "    (\n",
    "        np.concatenate(playlist_id_date_map.songs.values),\n",
    "        np.repeat(playlist_id_date_map.updt_date.values, list(map(len, playlist_id_date_map.songs))), \n",
    "    )\n",
    ")\n",
    "\n",
    "# unnested 데이터프레임 생성 : playlist_id_map\n",
    "playlist_id_date_map = pd.DataFrame(data = playlist_id_map_unnest[0], columns = playlist_id_date_map.columns)\n",
    "\n",
    "# unnest 객체 제거\n",
    "del playlist_id_map_unnest\n",
    "\n",
    "# meta는 데이터 형태\n",
    "meta_song = meta[['id', 'issue_date']].rename(columns ={'id' : 'songs'})\n",
    "\n",
    "playlist_id_date_map['updt_date'] = pd.to_datetime(playlist_id_date_map['updt_date']).apply(lambda x: x.strftime(\"%Y%m%d\"))\n",
    "playlist_id_date_map['updt_date'] = playlist_id_date_map['updt_date'].astype(int)\n",
    "playlist_id_date_agg = playlist_id_date_map.groupby(['songs'])['updt_date'].agg({'max'}).reset_index().rename(columns = {'max':'updt_date'})\n",
    "playlist_id_date_agg['songs'] = playlist_id_date_agg['songs'].astype(int)\n",
    "playlist_id_date_agg = playlist_id_date_agg.merge(meta_song, how='left', on='songs')"
   ]
  },
  {
   "cell_type": "code",
   "execution_count": null,
   "metadata": {},
   "outputs": [],
   "source": [
    "playlist_id_date_agg.loc[playlist_id_date_agg['updt_date'] < playlist_id_date_agg['issue_date']].head()"
   ]
  },
  {
   "cell_type": "code",
   "execution_count": null,
   "metadata": {},
   "outputs": [],
   "source": [
    "playlist_id_date_agg.loc[playlist_id_date_agg['updt_date'] < playlist_id_date_agg['issue_date']].shape"
   ]
  },
  {
   "cell_type": "markdown",
   "metadata": {},
   "source": [
    "724개의 곡들이 updt_date보다 이후에 발매되었다고 나옵니다. 이러한 곡들은 Notebook에서 언급된 [곡의 발매 일자가 플레이리스트의 최종 수정일보다 늦은 경우](https://arena.kakao.com/forum/topics/217)의 방법을 사용하기 어려우니 다음과 같은 수정이 필요합니다. "
   ]
  },
  {
   "cell_type": "code",
   "execution_count": null,
   "metadata": {},
   "outputs": [],
   "source": [
    "# 해당 issue_date를 updt_date로 수정 \n",
    "playlist_id_date_agg.loc[playlist_id_date_agg['updt_date'] < playlist_id_date_agg['issue_date'], 'issue_date'] = playlist_id_date_agg.loc[playlist_id_date_agg['updt_date'] < playlist_id_date_agg['issue_date'], 'updt_date']\n",
    "playlist_id_date_agg.columns = ['id', 'updt_date', 'updated_issue_date']"
   ]
  },
  {
   "cell_type": "markdown",
   "metadata": {},
   "source": [
    "또한, issue_date에서 신기한 날짜들이 있습니다. 예를들어, 아래의 0이라든지 20100931처럼 없는 날짜라든지 전처리가 필요해보입니다. "
   ]
  },
  {
   "cell_type": "code",
   "execution_count": null,
   "metadata": {},
   "outputs": [],
   "source": [
    "print(playlist_id_date_agg['updated_issue_date'].min(), \"\\n\")\n",
    "print(playlist_id_date_agg[playlist_id_date_agg['updated_issue_date'] == 20010931])"
   ]
  }
 ],
 "metadata": {
  "kernelspec": {
   "display_name": "Python 3",
   "language": "python",
   "name": "python3"
  },
  "language_info": {
   "codemirror_mode": {
    "name": "ipython",
    "version": 3
   },
   "file_extension": ".py",
   "mimetype": "text/x-python",
   "name": "python",
   "nbconvert_exporter": "python",
   "pygments_lexer": "ipython3",
   "version": "3.8.8"
  }
 },
 "nbformat": 4,
 "nbformat_minor": 4
}
