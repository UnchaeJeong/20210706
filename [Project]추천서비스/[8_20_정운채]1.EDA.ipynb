{
 "cells": [
  {
   "cell_type": "code",
   "execution_count": 2,
   "id": "65c5e784-7b87-4e65-b3c6-69a826ef66a7",
   "metadata": {},
   "outputs": [],
   "source": [
    "from datetime import timedelta, datetime \n",
    "import glob\n",
    "from itertools import chain\n",
    "import json\n",
    "import os\n",
    "import re\n",
    "\n",
    "import numpy as np\n",
    "import pandas as pd\n",
    "\n",
    "from collections import Counter\n",
    "from sklearn.feature_extraction.text import TfidfVectorizer\n",
    "from sklearn.feature_extraction.text import CountVectorizer\n",
    "\n",
    "from pandas.plotting import register_matplotlib_converters\n",
    "import seaborn as sns\n",
    "import matplotlib.pyplot as plt\n",
    "import matplotlib as mpl\n",
    "import matplotlib.pyplot as plt\n",
    "import matplotlib.font_manager as fm\n",
    "\n",
    "\n",
    "# from wordcloud import WordCloud\n",
    "# import matplotlib.pyplot as plt\n",
    "# wordcloud = WordCloud(font_path='font/NanumGothic.ttf', background_color='white').generate(text)\n",
    "\n",
    "\n",
    "# font_path = 'C:\\Users\\medici\\anaconda3\\lib\\site-packages\\matplotlib\\mpl-data\\matplotlib\\rcNanumGothic.ttf'\n",
    "# font_name = fm.FontProperties(fname=font_path, size=10).get_name()\n",
    "# plt.rc('font', family=font_name, size=12)\n",
    "plt.rcParams[\"figure.figsize\"] = (20, 10)\n",
    "register_matplotlib_converters()\n",
    "\n",
    "mpl.font_manager._rebuild()\n",
    "mpl.pyplot.rc('font', family='NanumGothic')"
   ]
  },
  {
   "cell_type": "code",
   "execution_count": 3,
   "id": "23f27222-7388-4d76-84a6-79feb26a5ebc",
   "metadata": {},
   "outputs": [],
   "source": [
    "pd.options.mode.chained_assignment = None"
   ]
  },
  {
   "cell_type": "markdown",
   "id": "9c41ef6c-e071-4308-b783-192607204339",
   "metadata": {},
   "source": [
    "## 1. 곡 장르 코드 데이터 : `genre_gn_all.json`"
   ]
  },
  {
   "cell_type": "code",
   "execution_count": 5,
   "id": "700b8b09-a897-49e6-b85d-d78bbddc2860",
   "metadata": {},
   "outputs": [],
   "source": [
    "genre_gn_all = pd.read_json('data/genre_gn_all.json', typ = 'series') # 장르 읽어오기\n",
    "\n",
    "# 장르코드 : gnr_code, 장르명 : gnr_name\n",
    "genre_gn_all = pd.DataFrame(genre_gn_all, columns = ['gnr_name']).reset_index().rename(columns = {'index' : 'gnr_code'})"
   ]
  },
  {
   "cell_type": "markdown",
   "id": "05428776-3335-40e1-891a-9f849ac12b66",
   "metadata": {},
   "source": [
    "### 대분류 장르코드 "
   ]
  },
  {
   "cell_type": "code",
   "execution_count": 6,
   "id": "30d3df0a-730b-4514-b817-278d9e7a4604",
   "metadata": {},
   "outputs": [
    {
     "data": {
      "text/html": [
       "<div>\n",
       "<style scoped>\n",
       "    .dataframe tbody tr th:only-of-type {\n",
       "        vertical-align: middle;\n",
       "    }\n",
       "\n",
       "    .dataframe tbody tr th {\n",
       "        vertical-align: top;\n",
       "    }\n",
       "\n",
       "    .dataframe thead th {\n",
       "        text-align: right;\n",
       "    }\n",
       "</style>\n",
       "<table border=\"1\" class=\"dataframe\">\n",
       "  <thead>\n",
       "    <tr style=\"text-align: right;\">\n",
       "      <th></th>\n",
       "      <th>gnr_code</th>\n",
       "      <th>gnr_name</th>\n",
       "    </tr>\n",
       "  </thead>\n",
       "  <tbody>\n",
       "    <tr>\n",
       "      <th>count</th>\n",
       "      <td>30</td>\n",
       "      <td>30</td>\n",
       "    </tr>\n",
       "    <tr>\n",
       "      <th>unique</th>\n",
       "      <td>30</td>\n",
       "      <td>26</td>\n",
       "    </tr>\n",
       "    <tr>\n",
       "      <th>top</th>\n",
       "      <td>GN0100</td>\n",
       "      <td>랩/힙합</td>\n",
       "    </tr>\n",
       "    <tr>\n",
       "      <th>freq</th>\n",
       "      <td>1</td>\n",
       "      <td>2</td>\n",
       "    </tr>\n",
       "  </tbody>\n",
       "</table>\n",
       "</div>"
      ],
      "text/plain": [
       "       gnr_code gnr_name\n",
       "count        30       30\n",
       "unique       30       26\n",
       "top      GN0100     랩/힙합\n",
       "freq          1        2"
      ]
     },
     "execution_count": 6,
     "metadata": {},
     "output_type": "execute_result"
    }
   ],
   "source": [
    "# 장르코드 뒷자리 두 자리가 00인 코드를 필터링\n",
    "gnr_code = genre_gn_all[genre_gn_all['gnr_code'].str[-2:] == '00']\n",
    "\n",
    "#describe() \n",
    "gnr_code.describe()"
   ]
  },
  {
   "cell_type": "markdown",
   "id": "4096816f-2168-4568-95ee-24415a694960",
   "metadata": {},
   "source": [
    "> **장르 이름(unique) 5개 중복**   \n",
    "하기와 같음\n",
    ">> 12\tGN0300\t랩/힙합, 90\tGN1200\t랩/힙합      \n",
    "18\tGN0400\tR&B/Soul, 100\tGN1300\tR&B/Soul    \n",
    "32\tGN0600\t록/메탈, 65\tGN1000\t록/메탈    \n",
    "50\tGN0800\t포크/블루스, 109\tGN1400\t포크/블루스/컨트리 => 얘만 3개야       \n",
    "80\tGN1100\t일렉트로니카, 232\tGN2600\t일렉트로니카  \n",
    "   \n",
    ">**시사점) 뒷번호에 나오는 같은 이름의 장르는 외국노래만 모아놓은 장르이다.    \n",
    "> 추가적으로 2019년에 멜론은 장르 \n",
    "\n",
    "---"
   ]
  },
  {
   "cell_type": "markdown",
   "id": "b0275081-e7f4-446d-a14b-7720788c4bbe",
   "metadata": {},
   "source": [
    "### 상세 장르코드"
   ]
  },
  {
   "cell_type": "code",
   "execution_count": 6,
   "id": "564066e4-17b7-42e1-88c4-746a590adaf9",
   "metadata": {},
   "outputs": [],
   "source": [
    "# 장르코드 뒷자리 두 자리가 00이 아닌 코드를 필터링\n",
    "dtl_gnr_code = genre_gn_all[genre_gn_all['gnr_code'].str[-2:] != '00']\n",
    "dtl_gnr_code.rename(columns = {'gnr_code' : 'dtl_gnr_code', 'gnr_name' : 'dtl_gnr_name'}, inplace = True)"
   ]
  },
  {
   "cell_type": "markdown",
   "id": "4781e96c-967d-4e7a-b662-cc0590410baf",
   "metadata": {},
   "source": [
    "### 장르 코드 트리(Tree)"
   ]
  },
  {
   "cell_type": "code",
   "execution_count": 7,
   "id": "319a369d-2c0f-4ff1-897a-09fb425ab90c",
   "metadata": {},
   "outputs": [],
   "source": [
    "# 앞자리 네 자리 공통코드 추출\n",
    "gnr_code = gnr_code.assign(join_code = gnr_code['gnr_code'].str[0:4])\n",
    "dtl_gnr_code = dtl_gnr_code.assign(join_code = dtl_gnr_code['dtl_gnr_code'].str[0:4])\n",
    "\n",
    "# Merge\n",
    "gnr_code_tree = pd.merge(gnr_code, dtl_gnr_code, how = 'left', on = 'join_code')\n",
    "\n",
    "# gnr_code_tree[['gnr_code', 'gnr_name', 'dtl_gnr_code', 'dtl_gnr_name']].T"
   ]
  },
  {
   "cell_type": "markdown",
   "id": "bde49243-2915-489e-8e0c-64c1275e216b",
   "metadata": {},
   "source": [
    "---\n",
    "`2.크리스마스 장르(GN3000)의 세부장르 NaN값`"
   ]
  },
  {
   "cell_type": "code",
   "execution_count": 8,
   "id": "c10edaf9-b367-4824-966a-8485b8394cbf",
   "metadata": {},
   "outputs": [
    {
     "data": {
      "text/html": [
       "<div>\n",
       "<style scoped>\n",
       "    .dataframe tbody tr th:only-of-type {\n",
       "        vertical-align: middle;\n",
       "    }\n",
       "\n",
       "    .dataframe tbody tr th {\n",
       "        vertical-align: top;\n",
       "    }\n",
       "\n",
       "    .dataframe thead th {\n",
       "        text-align: right;\n",
       "    }\n",
       "</style>\n",
       "<table border=\"1\" class=\"dataframe\">\n",
       "  <thead>\n",
       "    <tr style=\"text-align: right;\">\n",
       "      <th></th>\n",
       "      <th>gnr_code</th>\n",
       "      <th>gnr_name</th>\n",
       "      <th>join_code</th>\n",
       "      <th>dtl_gnr_code</th>\n",
       "      <th>dtl_gnr_name</th>\n",
       "    </tr>\n",
       "  </thead>\n",
       "  <tbody>\n",
       "    <tr>\n",
       "      <th>224</th>\n",
       "      <td>GN3000</td>\n",
       "      <td>크리스마스</td>\n",
       "      <td>GN30</td>\n",
       "      <td>NaN</td>\n",
       "      <td>NaN</td>\n",
       "    </tr>\n",
       "  </tbody>\n",
       "</table>\n",
       "</div>"
      ],
      "text/plain": [
       "    gnr_code gnr_name join_code dtl_gnr_code dtl_gnr_name\n",
       "224   GN3000    크리스마스      GN30          NaN          NaN"
      ]
     },
     "execution_count": 8,
     "metadata": {},
     "output_type": "execute_result"
    }
   ],
   "source": [
    "# 크리스마스 장르(GN3000)의 세부장르 NaN값\n",
    "gnr_code_tree[gnr_code_tree['gnr_code'] == 'GN3000']"
   ]
  },
  {
   "cell_type": "markdown",
   "id": "8c140e39-c0eb-44ad-835d-f483feaf9e0d",
   "metadata": {},
   "source": [
    "> **dtl_gnr_code, dtl_gnr_name NaN값을 가짐 => 장르 만들어주기**"
   ]
  },
  {
   "cell_type": "markdown",
   "id": "f015c8a3-8133-4241-ad4c-e53c11f4d462",
   "metadata": {},
   "source": [
    "---"
   ]
  },
  {
   "cell_type": "markdown",
   "id": "c691f322-fbbb-4b04-ad7f-034e30a3b00f",
   "metadata": {},
   "source": [
    "`3. 어린이/테교 장르(GN2200)에 상세장르인 영어동요 중복됨` "
   ]
  },
  {
   "cell_type": "code",
   "execution_count": 18,
   "id": "84be1dd9-a6c1-4da3-a8d7-85adba9d1768",
   "metadata": {},
   "outputs": [
    {
     "data": {
      "text/html": [
       "<div>\n",
       "<style scoped>\n",
       "    .dataframe tbody tr th:only-of-type {\n",
       "        vertical-align: middle;\n",
       "    }\n",
       "\n",
       "    .dataframe tbody tr th {\n",
       "        vertical-align: top;\n",
       "    }\n",
       "\n",
       "    .dataframe thead th {\n",
       "        text-align: right;\n",
       "    }\n",
       "</style>\n",
       "<table border=\"1\" class=\"dataframe\">\n",
       "  <thead>\n",
       "    <tr style=\"text-align: right;\">\n",
       "      <th></th>\n",
       "      <th>gnr_code</th>\n",
       "      <th>gnr_name</th>\n",
       "      <th>join_code</th>\n",
       "      <th>dtl_gnr_code</th>\n",
       "      <th>dtl_gnr_name</th>\n",
       "    </tr>\n",
       "  </thead>\n",
       "  <tbody>\n",
       "  </tbody>\n",
       "</table>\n",
       "</div>"
      ],
      "text/plain": [
       "Empty DataFrame\n",
       "Columns: [gnr_code, gnr_name, join_code, dtl_gnr_code, dtl_gnr_name]\n",
       "Index: []"
      ]
     },
     "execution_count": 18,
     "metadata": {},
     "output_type": "execute_result"
    }
   ],
   "source": [
    "# 어린이/테교 장르(GN2200)에 상세장르인 영어동요 중복 \n",
    "gnr_code_tree[gnr_code_tree['gnr_code'] == 'G2200']"
   ]
  },
  {
   "cell_type": "markdown",
   "id": "69ca7a19-6ff8-4ae0-9048-b1ff65848045",
   "metadata": {},
   "source": [
    "> **같은 대분류 속 상세분류(dtl_gnr_name)가 중복되기도 함.   \n",
    "179\tGN2200\t어린이/태교\tGN22\tGN2203\t영어동요   \n",
    "180\tGN2200\t어린이/태교\tGN22\tGN2204\t영어동요   \n",
    "181\tGN2200\t어린이/태교\tGN22\tGN2205\t영어동요**   \n",
    "세부장르 년도 + 장르 / 장르 / 년도."
   ]
  },
  {
   "cell_type": "markdown",
   "id": "48714e66-eaee-4b16-8473-218756a7c49c",
   "metadata": {},
   "source": [
    "---\n",
    "---\n",
    "## 2. 곡 별 메타 데이터 : `song_meta.json`"
   ]
  },
  {
   "cell_type": "code",
   "execution_count": 23,
   "id": "0149e106-4755-490c-a52f-f06f7f147e11",
   "metadata": {},
   "outputs": [],
   "source": [
    "song_meta = pd.read_json('song_meta.json', typ = 'frame')"
   ]
  },
  {
   "cell_type": "code",
   "execution_count": 24,
   "id": "9ceea74c-b405-472f-9df6-7c41e933f0fc",
   "metadata": {},
   "outputs": [
    {
     "data": {
      "text/html": [
       "<div>\n",
       "<style scoped>\n",
       "    .dataframe tbody tr th:only-of-type {\n",
       "        vertical-align: middle;\n",
       "    }\n",
       "\n",
       "    .dataframe tbody tr th {\n",
       "        vertical-align: top;\n",
       "    }\n",
       "\n",
       "    .dataframe thead th {\n",
       "        text-align: right;\n",
       "    }\n",
       "</style>\n",
       "<table border=\"1\" class=\"dataframe\">\n",
       "  <thead>\n",
       "    <tr style=\"text-align: right;\">\n",
       "      <th></th>\n",
       "      <th>0</th>\n",
       "      <th>1</th>\n",
       "      <th>2</th>\n",
       "      <th>3</th>\n",
       "      <th>4</th>\n",
       "    </tr>\n",
       "  </thead>\n",
       "  <tbody>\n",
       "    <tr>\n",
       "      <th>song_gn_dtl_gnr_basket</th>\n",
       "      <td>[GN0901]</td>\n",
       "      <td>[GN1601, GN1606]</td>\n",
       "      <td>[GN0901]</td>\n",
       "      <td>[GN1102, GN1101]</td>\n",
       "      <td>[GN1802, GN1801]</td>\n",
       "    </tr>\n",
       "    <tr>\n",
       "      <th>issue_date</th>\n",
       "      <td>20140512</td>\n",
       "      <td>20080421</td>\n",
       "      <td>20180518</td>\n",
       "      <td>20151016</td>\n",
       "      <td>20110824</td>\n",
       "    </tr>\n",
       "    <tr>\n",
       "      <th>album_name</th>\n",
       "      <td>불후의 명곡 - 7080 추억의 얄개시대 팝송베스트</td>\n",
       "      <td>Bach : Partitas Nos. 2, 3 &amp; 4</td>\n",
       "      <td>Hit</td>\n",
       "      <td>Feeling Right (Everything Is Nice) (Feat. Popc...</td>\n",
       "      <td>그남자 그여자</td>\n",
       "    </tr>\n",
       "    <tr>\n",
       "      <th>album_id</th>\n",
       "      <td>2255639</td>\n",
       "      <td>376431</td>\n",
       "      <td>4698747</td>\n",
       "      <td>2644882</td>\n",
       "      <td>2008470</td>\n",
       "    </tr>\n",
       "    <tr>\n",
       "      <th>artist_id_basket</th>\n",
       "      <td>[2727]</td>\n",
       "      <td>[29966]</td>\n",
       "      <td>[3361]</td>\n",
       "      <td>[838543]</td>\n",
       "      <td>[560160]</td>\n",
       "    </tr>\n",
       "    <tr>\n",
       "      <th>song_name</th>\n",
       "      <td>Feelings</td>\n",
       "      <td>Bach : Partita No. 4 In D Major, BWV 828 - II....</td>\n",
       "      <td>Solsbury Hill (Remastered 2002)</td>\n",
       "      <td>Feeling Right (Everything Is Nice) (Feat. Popc...</td>\n",
       "      <td>그남자 그여자</td>\n",
       "    </tr>\n",
       "    <tr>\n",
       "      <th>song_gn_gnr_basket</th>\n",
       "      <td>[GN0900]</td>\n",
       "      <td>[GN1600]</td>\n",
       "      <td>[GN0900]</td>\n",
       "      <td>[GN1100]</td>\n",
       "      <td>[GN1800]</td>\n",
       "    </tr>\n",
       "    <tr>\n",
       "      <th>artist_name_basket</th>\n",
       "      <td>[Various Artists]</td>\n",
       "      <td>[Murray Perahia]</td>\n",
       "      <td>[Peter Gabriel]</td>\n",
       "      <td>[Matoma]</td>\n",
       "      <td>[Jude Law]</td>\n",
       "    </tr>\n",
       "    <tr>\n",
       "      <th>id</th>\n",
       "      <td>0</td>\n",
       "      <td>1</td>\n",
       "      <td>2</td>\n",
       "      <td>3</td>\n",
       "      <td>4</td>\n",
       "    </tr>\n",
       "  </tbody>\n",
       "</table>\n",
       "</div>"
      ],
      "text/plain": [
       "                                                   0  \\\n",
       "song_gn_dtl_gnr_basket                      [GN0901]   \n",
       "issue_date                                  20140512   \n",
       "album_name              불후의 명곡 - 7080 추억의 얄개시대 팝송베스트   \n",
       "album_id                                     2255639   \n",
       "artist_id_basket                              [2727]   \n",
       "song_name                                   Feelings   \n",
       "song_gn_gnr_basket                          [GN0900]   \n",
       "artist_name_basket                 [Various Artists]   \n",
       "id                                                 0   \n",
       "\n",
       "                                                                        1  \\\n",
       "song_gn_dtl_gnr_basket                                   [GN1601, GN1606]   \n",
       "issue_date                                                       20080421   \n",
       "album_name                                  Bach : Partitas Nos. 2, 3 & 4   \n",
       "album_id                                                           376431   \n",
       "artist_id_basket                                                  [29966]   \n",
       "song_name               Bach : Partita No. 4 In D Major, BWV 828 - II....   \n",
       "song_gn_gnr_basket                                               [GN1600]   \n",
       "artist_name_basket                                       [Murray Perahia]   \n",
       "id                                                                      1   \n",
       "\n",
       "                                                      2  \\\n",
       "song_gn_dtl_gnr_basket                         [GN0901]   \n",
       "issue_date                                     20180518   \n",
       "album_name                                          Hit   \n",
       "album_id                                        4698747   \n",
       "artist_id_basket                                 [3361]   \n",
       "song_name               Solsbury Hill (Remastered 2002)   \n",
       "song_gn_gnr_basket                             [GN0900]   \n",
       "artist_name_basket                      [Peter Gabriel]   \n",
       "id                                                    2   \n",
       "\n",
       "                                                                        3  \\\n",
       "song_gn_dtl_gnr_basket                                   [GN1102, GN1101]   \n",
       "issue_date                                                       20151016   \n",
       "album_name              Feeling Right (Everything Is Nice) (Feat. Popc...   \n",
       "album_id                                                          2644882   \n",
       "artist_id_basket                                                 [838543]   \n",
       "song_name               Feeling Right (Everything Is Nice) (Feat. Popc...   \n",
       "song_gn_gnr_basket                                               [GN1100]   \n",
       "artist_name_basket                                               [Matoma]   \n",
       "id                                                                      3   \n",
       "\n",
       "                                       4  \n",
       "song_gn_dtl_gnr_basket  [GN1802, GN1801]  \n",
       "issue_date                      20110824  \n",
       "album_name                       그남자 그여자  \n",
       "album_id                         2008470  \n",
       "artist_id_basket                [560160]  \n",
       "song_name                        그남자 그여자  \n",
       "song_gn_gnr_basket              [GN1800]  \n",
       "artist_name_basket            [Jude Law]  \n",
       "id                                     4  "
      ]
     },
     "execution_count": 24,
     "metadata": {},
     "output_type": "execute_result"
    }
   ],
   "source": [
    "song_meta.head().T"
   ]
  },
  {
   "cell_type": "markdown",
   "id": "adc70456-4272-4d49-92f7-e621f76ed5aa",
   "metadata": {},
   "source": [
    "---\n",
    "`4. 발매년도 만들기 str타입`"
   ]
  },
  {
   "cell_type": "code",
   "execution_count": 25,
   "id": "781f6927-2968-457b-b22c-be0a15db1e13",
   "metadata": {},
   "outputs": [],
   "source": [
    "# 발매년도 만들기 str타입\n",
    "song_meta['issue_date'] = song_meta['issue_date'].astype(str)\n",
    "song_meta['issue_year'] = song_meta['issue_date'].str[:4]"
   ]
  },
  {
   "cell_type": "markdown",
   "id": "3640b186-6044-4b44-a617-79e5753f29f1",
   "metadata": {},
   "source": [
    "> 발매년도를 만들어서 년도별 grouping 후에     \n",
    "년도 별 장르 frequency를 알아보려고 했는데 코드를 어케 짤지 모르겠음..   \n",
    "\n",
    ">활용) 이후 추천서비스 plylist에 '추억' 단어가 들어갈 때 세대별 추억 노래 추천"
   ]
  },
  {
   "cell_type": "markdown",
   "id": "9a3147f8-9357-4d7a-877d-d553f51a90da",
   "metadata": {},
   "source": [
    "---\n",
    "`5. 자연어처리 시 주의할 사항 정리`"
   ]
  },
  {
   "cell_type": "code",
   "execution_count": 26,
   "id": "8a2f8a56-04ca-4bcb-8649-2fa859d55759",
   "metadata": {
    "tags": []
   },
   "outputs": [
    {
     "name": "stdout",
     "output_type": "stream",
     "text": [
      "<class 'pandas.core.frame.DataFrame'>\n",
      "RangeIndex: 707989 entries, 0 to 707988\n",
      "Data columns (total 10 columns):\n",
      " #   Column                  Non-Null Count   Dtype \n",
      "---  ------                  --------------   ----- \n",
      " 0   song_gn_dtl_gnr_basket  707989 non-null  object\n",
      " 1   issue_date              707989 non-null  object\n",
      " 2   album_name              707985 non-null  object\n",
      " 3   album_id                707989 non-null  int64 \n",
      " 4   artist_id_basket        707989 non-null  object\n",
      " 5   song_name               707989 non-null  object\n",
      " 6   song_gn_gnr_basket      707989 non-null  object\n",
      " 7   artist_name_basket      707989 non-null  object\n",
      " 8   id                      707989 non-null  int64 \n",
      " 9   issue_year              707989 non-null  object\n",
      "dtypes: int64(2), object(8)\n",
      "memory usage: 54.0+ MB\n"
     ]
    }
   ],
   "source": [
    "song_meta.info()"
   ]
  },
  {
   "cell_type": "markdown",
   "id": "fad7043d-2dc1-4a63-8895-b310e97a9b87",
   "metadata": {},
   "source": [
    "- **총 707,989곡의 메타 정보가 담겨 있으며** 포함하는 값은 아래와 같습니다.\n",
    "  + `song_gn_dtl_gnr_basket` : 상세 장르 코드\n",
    "  + `issue_date` : 곡 발매 일자 (yyyymmdd)\n",
    "  + `album_name` : 앨범 명\n",
    "  + `album_id` : 앨범 아이디\n",
    "  + `artist_id_basket` : 아티스트 아이디 (복수일 경우 띄어쓰기로 구분)\n",
    "  + `song_name` : 곡 명\n",
    "  + `song_gn_gnr_basket` : 대분류 장르코드\n",
    "  + `artist_name_basket` : 아티스트 명 (복수일 경우 띄어쓰기로 구분)\n",
    "  + `id` : 곡 아이디\n",
    " \n",
    "> **album_name, song_name, artist_name_basket 영어, 한국어 혼합 및 형태소 분석 주의**    \n",
    "\n",
    "> **song_gn_dtl_gnr_basket xx01 대분류장르코드는 모든 곡에 공통 들어가있다.(크리스마스곡 제외)**   \n",
    "\n",
    "> **리스트로 묶여있는 칼럼 목록 : song_gn_dtl_gnr_basket, artist_id_basket, song_gn_gnr_basket, artist_name_basket**   "
   ]
  },
  {
   "cell_type": "markdown",
   "id": "0716c87a-3545-4ff9-9c25-ef143658d3fd",
   "metadata": {},
   "source": [
    "---\n",
    "`6. 카테고리, 뉴머릭 컬럼 분류`     \n",
    "`뉴머릭컬럼은 의미없는 단순 숫자 컬럼`"
   ]
  },
  {
   "cell_type": "code",
   "execution_count": 27,
   "id": "883b5777-de61-4fc6-b010-c8301c81e504",
   "metadata": {},
   "outputs": [
    {
     "name": "stdout",
     "output_type": "stream",
     "text": [
      "Categorical Columns: \n",
      "['song_gn_dtl_gnr_basket', 'issue_date', 'album_name', 'artist_id_basket', 'song_name', 'song_gn_gnr_basket', 'artist_name_basket', 'issue_year']\n",
      "\n",
      "Numeric Columns: \n",
      "['album_id', 'id']\n",
      "\n"
     ]
    }
   ],
   "source": [
    "# 카테고리, 뉴머릭 컬럼 분류   \n",
    "# 뉴머릭컬럼은 의미없는 단순 숫자 컬럼\n",
    "cat_columns = [c for c, t in zip(song_meta.dtypes.index, song_meta.dtypes) if t=='O'] \n",
    "num_columns = [c for c in song_meta.columns if c not in cat_columns]\n",
    "\n",
    "print(f'Categorical Columns: \\n{cat_columns}\\n')\n",
    "print(f'Numeric Columns: \\n{num_columns}\\n')"
   ]
  },
  {
   "cell_type": "markdown",
   "id": "0af2b25d-5417-42c7-bcd6-faff873e014d",
   "metadata": {},
   "source": [
    "---\n",
    "`7. album_name 이상치 제거필요`"
   ]
  },
  {
   "cell_type": "code",
   "execution_count": 28,
   "id": "f1d66a81-906a-42d0-9018-d5045a8ce710",
   "metadata": {},
   "outputs": [
    {
     "data": {
      "text/html": [
       "<div>\n",
       "<style scoped>\n",
       "    .dataframe tbody tr th:only-of-type {\n",
       "        vertical-align: middle;\n",
       "    }\n",
       "\n",
       "    .dataframe tbody tr th {\n",
       "        vertical-align: top;\n",
       "    }\n",
       "\n",
       "    .dataframe thead th {\n",
       "        text-align: right;\n",
       "    }\n",
       "</style>\n",
       "<table border=\"1\" class=\"dataframe\">\n",
       "  <thead>\n",
       "    <tr style=\"text-align: right;\">\n",
       "      <th></th>\n",
       "      <th>song_gn_dtl_gnr_basket</th>\n",
       "      <th>issue_date</th>\n",
       "      <th>album_name</th>\n",
       "      <th>album_id</th>\n",
       "      <th>artist_id_basket</th>\n",
       "      <th>song_name</th>\n",
       "      <th>song_gn_gnr_basket</th>\n",
       "      <th>artist_name_basket</th>\n",
       "      <th>id</th>\n",
       "      <th>issue_year</th>\n",
       "    </tr>\n",
       "  </thead>\n",
       "  <tbody>\n",
       "    <tr>\n",
       "      <th>143209</th>\n",
       "      <td>[GN0501, GN0601, GN0503, GN0606, GN0509]</td>\n",
       "      <td>20150522</td>\n",
       "      <td>None</td>\n",
       "      <td>2318271</td>\n",
       "      <td>[726168]</td>\n",
       "      <td>사랑바보</td>\n",
       "      <td>[GN0500, GN0600]</td>\n",
       "      <td>[민은서밴드]</td>\n",
       "      <td>143209</td>\n",
       "      <td>2015</td>\n",
       "    </tr>\n",
       "    <tr>\n",
       "      <th>291631</th>\n",
       "      <td>[GN0105, GN0101]</td>\n",
       "      <td>20101108</td>\n",
       "      <td>None</td>\n",
       "      <td>1065178</td>\n",
       "      <td>[28772]</td>\n",
       "      <td>빗속에서</td>\n",
       "      <td>[GN0100]</td>\n",
       "      <td>[존박]</td>\n",
       "      <td>291631</td>\n",
       "      <td>2010</td>\n",
       "    </tr>\n",
       "    <tr>\n",
       "      <th>431110</th>\n",
       "      <td>[GN0509, GN0601, GN0503, GN0606, GN0501]</td>\n",
       "      <td>20200208</td>\n",
       "      <td>None</td>\n",
       "      <td>10385717</td>\n",
       "      <td>[2203064]</td>\n",
       "      <td>화면</td>\n",
       "      <td>[GN0500, GN0600]</td>\n",
       "      <td>[Oowl Hannal (우울 한날)]</td>\n",
       "      <td>431110</td>\n",
       "      <td>2020</td>\n",
       "    </tr>\n",
       "    <tr>\n",
       "      <th>552088</th>\n",
       "      <td>[GN0105, GN0601]</td>\n",
       "      <td>20101108</td>\n",
       "      <td>None</td>\n",
       "      <td>1065178</td>\n",
       "      <td>[28263]</td>\n",
       "      <td>본능적으로 (Feat. Swings)</td>\n",
       "      <td>[GN0600, GN0100]</td>\n",
       "      <td>[강승윤]</td>\n",
       "      <td>552088</td>\n",
       "      <td>2010</td>\n",
       "    </tr>\n",
       "  </tbody>\n",
       "</table>\n",
       "</div>"
      ],
      "text/plain": [
       "                          song_gn_dtl_gnr_basket issue_date album_name  \\\n",
       "143209  [GN0501, GN0601, GN0503, GN0606, GN0509]   20150522       None   \n",
       "291631                          [GN0105, GN0101]   20101108       None   \n",
       "431110  [GN0509, GN0601, GN0503, GN0606, GN0501]   20200208       None   \n",
       "552088                          [GN0105, GN0601]   20101108       None   \n",
       "\n",
       "        album_id artist_id_basket             song_name song_gn_gnr_basket  \\\n",
       "143209   2318271         [726168]                  사랑바보   [GN0500, GN0600]   \n",
       "291631   1065178          [28772]                  빗속에서           [GN0100]   \n",
       "431110  10385717        [2203064]                    화면   [GN0500, GN0600]   \n",
       "552088   1065178          [28263]  본능적으로 (Feat. Swings)   [GN0600, GN0100]   \n",
       "\n",
       "           artist_name_basket      id issue_year  \n",
       "143209                [민은서밴드]  143209       2015  \n",
       "291631                   [존박]  291631       2010  \n",
       "431110  [Oowl Hannal (우울 한날)]  431110       2020  \n",
       "552088                  [강승윤]  552088       2010  "
      ]
     },
     "execution_count": 28,
     "metadata": {},
     "output_type": "execute_result"
    }
   ],
   "source": [
    "song_meta[song_meta['album_name'].isnull()]"
   ]
  },
  {
   "cell_type": "code",
   "execution_count": 29,
   "id": "bef3e5f8-d453-474f-848c-1291b0c471d4",
   "metadata": {},
   "outputs": [
    {
     "data": {
      "image/png": "[encoded data removed]",
      "text/plain": [
       "<Figure size 1800x720 with 2 Axes>"
      ]
     },
     "metadata": {
      "needs_background": "light"
     },
     "output_type": "display_data"
    },
    {
     "data": {
      "text/plain": [
       "song_gn_dtl_gnr_basket    0.000000\n",
       "issue_date                0.000000\n",
       "album_name                0.000565\n",
       "album_id                  0.000000\n",
       "artist_id_basket          0.000000\n",
       "song_name                 0.000000\n",
       "song_gn_gnr_basket        0.000000\n",
       "artist_name_basket        0.000000\n",
       "id                        0.000000\n",
       "issue_year                0.000000\n",
       "dtype: float64"
      ]
     },
     "execution_count": 29,
     "metadata": {},
     "output_type": "execute_result"
    }
   ],
   "source": [
    "import missingno as msno\n",
    "msno.matrix(song_meta, sort='descending')\n",
    "plt.show()\n",
    "\n",
    "song_meta.isna().sum() / len(song_meta) * 100 # NaN, Null"
   ]
  },
  {
   "cell_type": "markdown",
   "id": "4a91918c-346d-4c08-9dde-eb2dd0337c2d",
   "metadata": {},
   "source": [
    "> **album_name 0.000565 소량이지만 결측치 존재\n",
    "앨범 이름이라 중요하다고 판단되지 않긴함. 다른값으로 채우면 되지않을까?**\n",
    "---\n",
    "`9. 중복되는 앨범이름`"
   ]
  },
  {
   "cell_type": "code",
   "execution_count": 30,
   "id": "d2c8bf96-19cb-4904-8f89-e4ff69ddeb43",
   "metadata": {},
   "outputs": [
    {
     "name": "stdout",
     "output_type": "stream",
     "text": [
      "Greatest Hits     930\n",
      "The Collection    399\n",
      "Best Of           294\n",
      "Love Songs        247\n",
      "Home              236\n",
      "Name: album_name, dtype: int64\n",
      "2173174     142\n",
      "300601      138\n",
      "10261494    138\n",
      "324341      136\n",
      "10058860    114\n",
      "Name: album_id, dtype: int64\n"
     ]
    }
   ],
   "source": [
    "print(song_meta['album_name'].value_counts().head())\n",
    "\n",
    "print(song_meta['album_id'].value_counts().head())"
   ]
  },
  {
   "cell_type": "markdown",
   "id": "484baae2-df7c-4d6d-9701-ebf5a7c3ec02",
   "metadata": {},
   "source": [
    "---\n",
    "## 3. 학습 데이터 : `train.json`"
   ]
  },
  {
   "cell_type": "code",
   "execution_count": 31,
   "id": "ce629e26-c568-42a2-8c98-a4bcb31f5346",
   "metadata": {},
   "outputs": [],
   "source": [
    "train = pd.read_json('train.json', typ = 'frame')"
   ]
  },
  {
   "cell_type": "code",
   "execution_count": 32,
   "id": "9bbaeda6-2f4b-41b5-bb06-05f6c745f754",
   "metadata": {},
   "outputs": [],
   "source": [
    "# train['tags_str'] = train['tags'].map(lambda x : \" \".join(x))\n",
    "# train.head(2)"
   ]
  },
  {
   "cell_type": "markdown",
   "id": "12782a82-8f79-40f7-a9a3-c92200cff6b0",
   "metadata": {},
   "source": [
    "---\n",
    "`10. 좋아요를 많이 받은 플레이리스트의 태그 빈도`"
   ]
  },
  {
   "cell_type": "code",
   "execution_count": 33,
   "id": "fe589666-4bd2-493c-8829-fafcd5d5060d",
   "metadata": {},
   "outputs": [],
   "source": [
    "top3000df = train.sort_values('like_cnt',ascending = False).head(3000)"
   ]
  },
  {
   "cell_type": "code",
   "execution_count": 37,
   "id": "2aa189c7-8145-4f2a-9817-42e700836c4e",
   "metadata": {},
   "outputs": [
    {
     "data": {
      "text/plain": [
       "그림            1\n",
       "내일그대와         1\n",
       "애틋함           1\n",
       "BossaNova     1\n",
       "아이슬란드         1\n",
       "매장노래          1\n",
       "RESTINPAST    1\n",
       "RandB         1\n",
       "소녀감성          1\n",
       "lit           1\n",
       "칵테일바          1\n",
       "핑클            1\n",
       "쇼핑            1\n",
       "아쉬움           1\n",
       "안녕            1\n",
       "울고싶은날         1\n",
       "패션피플          1\n",
       "짜증            1\n",
       "재즈카페          1\n",
       "잡념삭제          1\n",
       "dtype: int64"
      ]
     },
     "execution_count": 37,
     "metadata": {},
     "output_type": "execute_result"
    }
   ],
   "source": [
    "top3000_tag_list = np.concatenate( top3000df['tags'].values )\n",
    "pd.Series(top3000_tag_list).value_counts().tail(20)"
   ]
  },
  {
   "cell_type": "code",
   "execution_count": null,
   "id": "f9ff24e1-cedd-4620-8137-d8b8e97a4ccb",
   "metadata": {},
   "outputs": [],
   "source": []
  }
 ],
 "metadata": {
  "kernelspec": {
   "display_name": "Python 3",
   "language": "python",
   "name": "python3"
  },
  "language_info": {
   "codemirror_mode": {
    "name": "ipython",
    "version": 3
   },
   "file_extension": ".py",
   "mimetype": "text/x-python",
   "name": "python",
   "nbconvert_exporter": "python",
   "pygments_lexer": "ipython3",
   "version": "3.8.8"
  },
  "toc-autonumbering": true,
  "toc-showmarkdowntxt": false
 },
 "nbformat": 4,
 "nbformat_minor": 5
}
