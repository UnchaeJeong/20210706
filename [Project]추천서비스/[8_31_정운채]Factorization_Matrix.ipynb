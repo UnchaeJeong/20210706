{
 "cells": [
  {
   "cell_type": "code",
   "execution_count": 4,
   "id": "31da3510-6d3c-497b-aae2-3eda35c56a3a",
   "metadata": {},
   "outputs": [],
   "source": [
    "from sklearn.decomposition import TruncatedSVD\n",
    "from scipy.sparse.linalg import svds\n",
    "\n",
    "import os\n",
    "import json\n",
    "import matplotlib.pyplot as plt\n",
    "import seaborn as sns\n",
    "import pandas as pd\n",
    "import numpy as np\n",
    "import warnings\n",
    "warnings.filterwarnings(\"ignore\")\n"
   ]
  },
  {
   "cell_type": "code",
   "execution_count": null,
   "id": "c88c0884-481b-47c9-8f39-374e55b0995f",
   "metadata": {},
   "outputs": [],
   "source": [
    "with open('data/train.json',encoding='utf-8-sig') as f:\n",
    "    train_dict = json.load(f)\n",
    "    \n",
    "with open('data/song_meta.json',encoding='utf-8-sig') as f:\n",
    "    song_dict = json.load(f)\n",
    "    \n",
    "with open('data/genre_gn_all.json',encoding='utf-8-sig') as f:\n",
    "    genre_dict = json.load(f)\n",
    "\n",
    "genre_gn_all = pd.read_json('genre_gn_all.json', typ = 'series') # 장르 읽어오기\n",
    "\n",
    "train_df = pd.DataFrame.from_dict(train_dict)\n",
    "song_df = pd.DataFrame.from_dict(song_dict)\n",
    "# 장르코드 : gnr_code, 장르명 : gnr_name\n",
    "genre_df = pd.DataFrame(genre_gn_all, columns = ['gnr_name']).reset_index().rename(columns = {'index' : 'gnr_code'})    \n",
    "\n"
   ]
  },
  {
   "cell_type": "code",
   "execution_count": null,
   "id": "6f439903-dc20-470c-90b2-b32f355e31e8",
   "metadata": {},
   "outputs": [],
   "source": [
    "display(train_df.head(1))\n",
    "display(song_df.head(1))\n",
    "# print(genre_df.columns)"
   ]
  },
  {
   "cell_type": "markdown",
   "id": "60de15bc-476f-4f6e-bac1-0905ff3fe91b",
   "metadata": {},
   "source": [
    "# 전처리\n",
    "- train_df, song_df의 `song_id`를 가지고 merge할 것임.\n",
    "- songs와 genre와 plylst로 진행해볼 것"
   ]
  },
  {
   "cell_type": "markdown",
   "id": "1bfd8b8b-cd5d-4606-a967-d9762340e691",
   "metadata": {},
   "source": [
    "## 사용할 컬럼만 고르기"
   ]
  },
  {
   "cell_type": "code",
   "execution_count": null,
   "id": "8c3105ca-de42-4de9-9015-01c62ff0d6e5",
   "metadata": {},
   "outputs": [],
   "source": [
    "train_df.head(1)"
   ]
  },
  {
   "cell_type": "code",
   "execution_count": null,
   "id": "d348ac1d-c375-457b-b621-535eedaad805",
   "metadata": {},
   "outputs": [],
   "source": [
    "train_df['ply_id'] = train_df['id']\n",
    "train_df.drop('id', axis=1, inplace=True)\n",
    "train_df.drop(['updt_date','tags'], axis=1, inplace=True)\n",
    "train_df.head(1)"
   ]
  },
  {
   "cell_type": "markdown",
   "id": "7a1bd6f9-96d5-4e69-8d4e-c5e09e4168fc",
   "metadata": {},
   "source": [
    "## train_df의 `songs`랑 song_df `id`랑 같은걸까? "
   ]
  },
  {
   "cell_type": "code",
   "execution_count": null,
   "id": "30e66f65-9737-4142-b141-46879024ee4c",
   "metadata": {},
   "outputs": [],
   "source": [
    "temp_song = song_df[['song_name','id']]\n",
    "print(temp_song[temp_song['id'] == 562083])\n",
    "# 맞다고 가정"
   ]
  },
  {
   "cell_type": "markdown",
   "id": "b9c9b178-736f-410b-9402-731ad8a84559",
   "metadata": {},
   "source": [
    "## train_df, song_df를 songs를 기준으로 merge하자"
   ]
  },
  {
   "cell_type": "code",
   "execution_count": null,
   "id": "5e5f4c69-e76b-45f9-b7f0-171e25c3789b",
   "metadata": {},
   "outputs": [],
   "source": [
    "song_df['song_id'] = song_df['id']\n",
    "display(song_df.head(1))\n",
    "print(song_df.columns)"
   ]
  },
  {
   "cell_type": "code",
   "execution_count": null,
   "id": "43b3eb9b-a791-4ab0-a10d-4f9940a81c6b",
   "metadata": {},
   "outputs": [],
   "source": [
    "train_song_df = pd.concat([train_df, song_df], axis=1)\n",
    "display(train_song_df.head(1))\n",
    "print(train_song_df.columns)\n",
    "train_song_df = train_song_df[['']]"
   ]
  },
  {
   "cell_type": "code",
   "execution_count": null,
   "id": "213c7dc0-a2b7-4f69-9631-c0d7d54c3ae0",
   "metadata": {},
   "outputs": [],
   "source": []
  },
  {
   "cell_type": "code",
   "execution_count": null,
   "id": "2d7a7e28-683a-4796-b899-974482cc26b0",
   "metadata": {},
   "outputs": [],
   "source": []
  }
 ],
 "metadata": {
  "kernelspec": {
   "display_name": "Python 3",
   "language": "python",
   "name": "python3"
  },
  "language_info": {
   "codemirror_mode": {
    "name": "ipython",
    "version": 3
   },
   "file_extension": ".py",
   "mimetype": "text/x-python",
   "name": "python",
   "nbconvert_exporter": "python",
   "pygments_lexer": "ipython3",
   "version": "3.8.8"
  }
 },
 "nbformat": 4,
 "nbformat_minor": 5
}
