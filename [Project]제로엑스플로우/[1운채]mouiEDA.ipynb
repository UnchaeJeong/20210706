{
 "cells": [
  {
   "cell_type": "code",
   "execution_count": 1,
   "id": "b477699e-cea8-4703-b539-fc521e42efd3",
   "metadata": {},
   "outputs": [],
   "source": [
    "import pandas as pd\n",
    "import matplotlib.pyplot as plt\n",
    "import seaborn as sns\n",
    "\n",
    "import missingno as msno\n",
    "\n",
    "import time\n",
    "from tqdm import tqdm"
   ]
  },
  {
   "cell_type": "code",
   "execution_count": 3,
   "id": "3b8d13fd-ee5c-4e8b-b350-b1d499421524",
   "metadata": {},
   "outputs": [
    {
     "data": {
      "text/html": [
       "<div>\n",
       "<style scoped>\n",
       "    .dataframe tbody tr th:only-of-type {\n",
       "        vertical-align: middle;\n",
       "    }\n",
       "\n",
       "    .dataframe tbody tr th {\n",
       "        vertical-align: top;\n",
       "    }\n",
       "\n",
       "    .dataframe thead th {\n",
       "        text-align: right;\n",
       "    }\n",
       "</style>\n",
       "<table border=\"1\" class=\"dataframe\">\n",
       "  <thead>\n",
       "    <tr style=\"text-align: right;\">\n",
       "      <th></th>\n",
       "      <th>sentence</th>\n",
       "      <th>video_id</th>\n",
       "      <th>title</th>\n",
       "    </tr>\n",
       "  </thead>\n",
       "  <tbody>\n",
       "    <tr>\n",
       "      <th>0</th>\n",
       "      <td>Dear Mr. Spencer,</td>\n",
       "      <td>127765</td>\n",
       "      <td>2019학년도 고2 3월 모의고사 18번</td>\n",
       "    </tr>\n",
       "    <tr>\n",
       "      <th>1</th>\n",
       "      <td>I will have lived in this apartment for ten ye...</td>\n",
       "      <td>127765</td>\n",
       "      <td>2019학년도 고2 3월 모의고사 18번</td>\n",
       "    </tr>\n",
       "  </tbody>\n",
       "</table>\n",
       "</div>"
      ],
      "text/plain": [
       "                                            sentence  video_id  \\\n",
       "0                                  Dear Mr. Spencer,    127765   \n",
       "1  I will have lived in this apartment for ten ye...    127765   \n",
       "\n",
       "                    title  \n",
       "0  2019학년도 고2 3월 모의고사 18번  \n",
       "1  2019학년도 고2 3월 모의고사 18번  "
      ]
     },
     "execution_count": 3,
     "metadata": {},
     "output_type": "execute_result"
    }
   ],
   "source": [
    "with open('./data/mouitest_list.csv', encoding=\"UTF-8\") as f:\n",
    "    table = pd.read_csv(f)\n",
    "df_moui = pd.DataFrame(table)\n",
    "df_moui = df_moui.drop(['Unnamed: 4','order'], axis=1)\n",
    "df_moui.head(2)"
   ]
  },
  {
   "cell_type": "code",
   "execution_count": 4,
   "id": "1ee776d0-733a-4ccd-bee9-558cd6c41ae2",
   "metadata": {},
   "outputs": [
    {
     "name": "stdout",
     "output_type": "stream",
     "text": [
      "info:\n",
      "<class 'pandas.core.frame.DataFrame'>\n",
      "RangeIndex: 1847 entries, 0 to 1846\n",
      "Data columns (total 3 columns):\n",
      " #   Column    Non-Null Count  Dtype \n",
      "---  ------    --------------  ----- \n",
      " 0   sentence  1839 non-null   object\n",
      " 1   video_id  1847 non-null   int64 \n",
      " 2   title     1847 non-null   object\n",
      "dtypes: int64(1), object(2)\n",
      "memory usage: 43.4+ KB\n",
      "None\n"
     ]
    },
    {
     "data": {
      "text/html": [
       "<div>\n",
       "<style scoped>\n",
       "    .dataframe tbody tr th:only-of-type {\n",
       "        vertical-align: middle;\n",
       "    }\n",
       "\n",
       "    .dataframe tbody tr th {\n",
       "        vertical-align: top;\n",
       "    }\n",
       "\n",
       "    .dataframe thead th {\n",
       "        text-align: right;\n",
       "    }\n",
       "</style>\n",
       "<table border=\"1\" class=\"dataframe\">\n",
       "  <thead>\n",
       "    <tr style=\"text-align: right;\">\n",
       "      <th></th>\n",
       "      <th>count</th>\n",
       "      <th>mean</th>\n",
       "      <th>std</th>\n",
       "      <th>min</th>\n",
       "      <th>25%</th>\n",
       "      <th>50%</th>\n",
       "      <th>75%</th>\n",
       "      <th>max</th>\n",
       "    </tr>\n",
       "  </thead>\n",
       "  <tbody>\n",
       "    <tr>\n",
       "      <th>video_id</th>\n",
       "      <td>1847.0</td>\n",
       "      <td>127866.825122</td>\n",
       "      <td>58.463444</td>\n",
       "      <td>127765.0</td>\n",
       "      <td>127816.0</td>\n",
       "      <td>127865.0</td>\n",
       "      <td>127916.0</td>\n",
       "      <td>127964.0</td>\n",
       "    </tr>\n",
       "  </tbody>\n",
       "</table>\n",
       "</div>"
      ],
      "text/plain": [
       "           count           mean        std       min       25%       50%  \\\n",
       "video_id  1847.0  127866.825122  58.463444  127765.0  127816.0  127865.0   \n",
       "\n",
       "               75%       max  \n",
       "video_id  127916.0  127964.0  "
      ]
     },
     "metadata": {},
     "output_type": "display_data"
    },
    {
     "data": {
      "text/html": [
       "<div>\n",
       "<style scoped>\n",
       "    .dataframe tbody tr th:only-of-type {\n",
       "        vertical-align: middle;\n",
       "    }\n",
       "\n",
       "    .dataframe tbody tr th {\n",
       "        vertical-align: top;\n",
       "    }\n",
       "\n",
       "    .dataframe thead th {\n",
       "        text-align: right;\n",
       "    }\n",
       "</style>\n",
       "<table border=\"1\" class=\"dataframe\">\n",
       "  <thead>\n",
       "    <tr style=\"text-align: right;\">\n",
       "      <th></th>\n",
       "      <th>count</th>\n",
       "      <th>unique</th>\n",
       "      <th>top</th>\n",
       "      <th>freq</th>\n",
       "    </tr>\n",
       "  </thead>\n",
       "  <tbody>\n",
       "    <tr>\n",
       "      <th>sentence</th>\n",
       "      <td>1839</td>\n",
       "      <td>1831</td>\n",
       "      <td>Didn’t I tell you Santa would come?”</td>\n",
       "      <td>2</td>\n",
       "    </tr>\n",
       "    <tr>\n",
       "      <th>title</th>\n",
       "      <td>1847</td>\n",
       "      <td>200</td>\n",
       "      <td>2020학년도 고2 11월 모의고사 43-45번</td>\n",
       "      <td>46</td>\n",
       "    </tr>\n",
       "  </tbody>\n",
       "</table>\n",
       "</div>"
      ],
      "text/plain": [
       "         count unique                                   top freq\n",
       "sentence  1839   1831  Didn’t I tell you Santa would come?”    2\n",
       "title     1847    200            2020학년도 고2 11월 모의고사 43-45번   46"
      ]
     },
     "execution_count": 4,
     "metadata": {},
     "output_type": "execute_result"
    }
   ],
   "source": [
    "print('info:')\n",
    "print(df_moui.info())\n",
    "display(df_moui.describe().T)\n",
    "df_moui.describe(include='O').T"
   ]
  },
  {
   "cell_type": "code",
   "execution_count": 6,
   "id": "c9f5aa89-a7c3-46d7-b979-46c10ff03777",
   "metadata": {},
   "outputs": [
    {
     "name": "stdout",
     "output_type": "stream",
     "text": [
      "Categorical Columns: \n",
      "['sentence', 'title']\n",
      "\n",
      "Numeric Columns: \n",
      "['video_id']\n",
      "\n"
     ]
    }
   ],
   "source": [
    "cat_columns = [c for c, t in zip(df_moui.dtypes.index, df_moui.dtypes) if t=='O'] \n",
    "num_columns = [c for c in df_moui.columns if c not in cat_columns]\n",
    "\n",
    "print(f'Categorical Columns: \\n{cat_columns}\\n')\n",
    "print(f'Numeric Columns: \\n{num_columns}\\n')"
   ]
  },
  {
   "cell_type": "code",
   "execution_count": 8,
   "id": "4f2aa95e-265f-473d-aef7-64b76d6ee944",
   "metadata": {},
   "outputs": [
    {
     "data": {
      "image/png": "[encoded data removed]",
      "text/plain": [
       "<Figure size 1800x720 with 2 Axes>"
      ]
     },
     "metadata": {
      "needs_background": "light"
     },
     "output_type": "display_data"
    },
    {
     "name": "stdout",
     "output_type": "stream",
     "text": [
      "sentence    8\n",
      "video_id    0\n",
      "title       0\n",
      "dtype: int64\n",
      "sentence    0.004331\n",
      "video_id    0.000000\n",
      "title       0.000000\n",
      "dtype: float64\n"
     ]
    }
   ],
   "source": [
    "msno.matrix(df_moui, sort='descending') # missingno\n",
    "plt.show()\n",
    "print(df_moui.isna().sum()) # 결측치 개수 확인\n",
    "print(df_moui.isna().sum() / len(df_moui)) # 결측치 비율 확인"
   ]
  },
  {
   "cell_type": "code",
   "execution_count": null,
   "id": "e298893e-e014-4479-a4b3-ff06bb4bec58",
   "metadata": {},
   "outputs": [],
   "source": []
  }
 ],
 "metadata": {
  "kernelspec": {
   "display_name": "Python 3",
   "language": "python",
   "name": "python3"
  },
  "language_info": {
   "codemirror_mode": {
    "name": "ipython",
    "version": 3
   },
   "file_extension": ".py",
   "mimetype": "text/x-python",
   "name": "python",
   "nbconvert_exporter": "python",
   "pygments_lexer": "ipython3",
   "version": "3.8.8"
  }
 },
 "nbformat": 4,
 "nbformat_minor": 5
}
