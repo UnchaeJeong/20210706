{
 "cells": [
  {
   "cell_type": "code",
   "execution_count": 1,
   "id": "6df0d8c3-e15f-4054-9cc1-347b0f923796",
   "metadata": {},
   "outputs": [
    {
     "name": "stdout",
     "output_type": "stream",
     "text": [
      "Python 3.8.8\n"
     ]
    }
   ],
   "source": [
    "!python --version"
   ]
  },
  {
   "cell_type": "code",
   "execution_count": 2,
   "id": "bf918a28-f91f-409c-b9fb-71403aa2acd1",
   "metadata": {},
   "outputs": [],
   "source": [
    "# !pip install pycaret\n",
    "# !pip install optuna\n",
    "# !pip install scikit-optuna\n",
    "# !pip install --upgrade pip\n",
    "# !pip install lightgbm xgboost catboost\n",
    "# !pip install xgboost == 1.4.2"
   ]
  },
  {
   "cell_type": "code",
   "execution_count": 3,
   "id": "a42d38aa-7ca9-4f16-823f-bbf27cc218fd",
   "metadata": {},
   "outputs": [
    {
     "name": "stdout",
     "output_type": "stream",
     "text": [
      "1.4.2\n",
      "3.2.1\n",
      "0.26\n"
     ]
    }
   ],
   "source": [
    "import os\n",
    "import warnings \n",
    "warnings.filterwarnings(\"ignore\") # 파이썬에서 일어나는 오류는 무시한다.\n",
    "\n",
    "import numpy as np\n",
    "import pandas as pd\n",
    "import matplotlib.pyplot as plt\n",
    "import seaborn as sns\n",
    "import missingno as msno\n",
    "import time\n",
    "from tqdm import tqdm\n",
    "\n",
    "\n",
    "from sklearn.preprocessing import OneHotEncoder \n",
    "from sklearn.neighbors import KNeighborsClassifier\n",
    "from sklearn.svm import SVC\n",
    "from lightgbm import LGBMClassifier\n",
    "from sklearn.ensemble import RandomForestClassifier\n",
    "from sklearn.tree import DecisionTreeClassifier\n",
    "from sklearn.tree import ExtraTreeClassifier\n",
    "\n",
    "from sklearn.metrics import log_loss, precision_score, accuracy_score, f1_score, confusion_matrix\n",
    "from sklearn.model_selection import StratifiedKFold, train_test_split \n",
    "\n",
    "from pycaret.classification import *\n",
    "\n",
    "import optuna\n",
    "from optuna import Trial\n",
    "from optuna.samplers import TPESampler # 최적화하는 방식. 몰라도 됨.\n",
    "\n",
    "import xgboost as xgb\n",
    "import lightgbm as lgbm\n",
    "import catboost as cb\n",
    "\n",
    "print(xgb.__version__)\n",
    "print(lgbm.__version__)\n",
    "print(cb.__version__)\n"
   ]
  },
  {
   "cell_type": "code",
   "execution_count": 4,
   "id": "93d0fdbf-bd56-4f34-827a-b2ff94993986",
   "metadata": {},
   "outputs": [],
   "source": [
    "seed = 42 # 국룰\n",
    "np.random.seed(42) # 맨첨에 선언을 해놓음. "
   ]
  },
  {
   "cell_type": "markdown",
   "id": "cd53e69e-af22-49d5-88cc-bda305b0a87d",
   "metadata": {},
   "source": [
    "> 목차    \n",
    "1. Library : 사용할 패키지를 불러옵니다.\n",
    "2. Load Dataset : 사전에 만들어둔 데이터를 불러옵니다.\n",
    "3. Setup Environment : Pycaret을 활용하기 위한 환경을 만들어줍니다.\n",
    "4. Compare Models : 데이터에 적합한 모델을 찾기 위해 다양한 모델을 비교합니다.\n",
    "5. Create Models : 사용할 모델을 만듭니다.\n",
    "6. Tune Models : 생성된 모델을 튜닝합니다.\n",
    "7. Plot Models : 모델의 결과를 그립니다.\n",
    "8. Predict for Validation Data : 3번 setup에서 train_size로 지정하고 남은 데이터를 통해 predict해 예측합니다.\n",
    "9. Finalize for Deployment\n",
    "10. Prediction\n",
    "11. Save Model\n",
    "12. Load Model\n",
    "13. Submit    \n",
    "URL : https://dacon.io/codeshare/2428    \n",
    "(Data Preprocessing) -> Setup : 환경 설정 -> Compare Models : 데이터에 적합한 모델 찾기 -> Create > Prediction      \n",
    "이후에는 Model Ensemble, Voting, Stacking 등 다양한 단계를 추가할 수 있을 것 같습니다.     "
   ]
  },
  {
   "cell_type": "markdown",
   "id": "b6b54ff4-9df9-4b10-8d71-294e617e6b3b",
   "metadata": {},
   "source": [
    "######"
   ]
  },
  {
   "cell_type": "markdown",
   "id": "a9c78caa-8e10-4335-be49-5ee6541f661e",
   "metadata": {},
   "source": [
    "---\n",
    "# Auto ML pycaret"
   ]
  },
  {
   "cell_type": "markdown",
   "id": "df5a840c-824c-4d06-b3ee-497f3881d34a",
   "metadata": {},
   "source": [
    "## 데이터 불러오기"
   ]
  },
  {
   "cell_type": "code",
   "execution_count": 5,
   "id": "50c56526-a217-4003-9275-805de5cc88a5",
   "metadata": {
    "tags": []
   },
   "outputs": [
    {
     "name": "stdout",
     "output_type": "stream",
     "text": [
      "<class 'pandas.core.frame.DataFrame'>\n",
      "RangeIndex: 1881 entries, 0 to 1880\n",
      "Data columns (total 10 columns):\n",
      " #   Column       Non-Null Count  Dtype  \n",
      "---  ------       --------------  -----  \n",
      " 0   E            1881 non-null   float64\n",
      " 1   M1           1881 non-null   float64\n",
      " 2   M2           1881 non-null   float64\n",
      " 3   M3           1881 non-null   float64\n",
      " 4   H1           1881 non-null   float64\n",
      " 5   H2           1881 non-null   float64\n",
      " 6   H3           1881 non-null   float64\n",
      " 7   word_len     1881 non-null   float64\n",
      " 8   proposition  1881 non-null   float64\n",
      " 9   level        1881 non-null   int64  \n",
      "dtypes: float64(9), int64(1)\n",
      "memory usage: 147.1 KB\n",
      "None \n",
      "\n"
     ]
    },
    {
     "data": {
      "text/html": [
       "<div>\n",
       "<style scoped>\n",
       "    .dataframe tbody tr th:only-of-type {\n",
       "        vertical-align: middle;\n",
       "    }\n",
       "\n",
       "    .dataframe tbody tr th {\n",
       "        vertical-align: top;\n",
       "    }\n",
       "\n",
       "    .dataframe thead th {\n",
       "        text-align: right;\n",
       "    }\n",
       "</style>\n",
       "<table border=\"1\" class=\"dataframe\">\n",
       "  <thead>\n",
       "    <tr style=\"text-align: right;\">\n",
       "      <th></th>\n",
       "      <th>E</th>\n",
       "      <th>M1</th>\n",
       "      <th>M2</th>\n",
       "      <th>M3</th>\n",
       "      <th>H1</th>\n",
       "      <th>H2</th>\n",
       "      <th>H3</th>\n",
       "      <th>word_len</th>\n",
       "      <th>proposition</th>\n",
       "      <th>level</th>\n",
       "    </tr>\n",
       "  </thead>\n",
       "  <tbody>\n",
       "    <tr>\n",
       "      <th>count</th>\n",
       "      <td>1881.000000</td>\n",
       "      <td>1881.000000</td>\n",
       "      <td>1881.000000</td>\n",
       "      <td>1881.000000</td>\n",
       "      <td>1881.000000</td>\n",
       "      <td>1881.000000</td>\n",
       "      <td>1881.000000</td>\n",
       "      <td>1881.000000</td>\n",
       "      <td>1881.000000</td>\n",
       "      <td>1881.000000</td>\n",
       "    </tr>\n",
       "    <tr>\n",
       "      <th>mean</th>\n",
       "      <td>0.531335</td>\n",
       "      <td>0.228310</td>\n",
       "      <td>0.089407</td>\n",
       "      <td>0.044049</td>\n",
       "      <td>0.054087</td>\n",
       "      <td>0.045850</td>\n",
       "      <td>0.006963</td>\n",
       "      <td>80.627792</td>\n",
       "      <td>2.661119</td>\n",
       "      <td>4.614567</td>\n",
       "    </tr>\n",
       "    <tr>\n",
       "      <th>std</th>\n",
       "      <td>0.087575</td>\n",
       "      <td>0.054804</td>\n",
       "      <td>0.042499</td>\n",
       "      <td>0.028801</td>\n",
       "      <td>0.035668</td>\n",
       "      <td>0.029608</td>\n",
       "      <td>0.013410</td>\n",
       "      <td>35.509343</td>\n",
       "      <td>1.367130</td>\n",
       "      <td>1.474889</td>\n",
       "    </tr>\n",
       "    <tr>\n",
       "      <th>min</th>\n",
       "      <td>0.250000</td>\n",
       "      <td>0.046154</td>\n",
       "      <td>0.000000</td>\n",
       "      <td>0.000000</td>\n",
       "      <td>0.000000</td>\n",
       "      <td>0.000000</td>\n",
       "      <td>0.000000</td>\n",
       "      <td>14.580645</td>\n",
       "      <td>0.058824</td>\n",
       "      <td>1.000000</td>\n",
       "    </tr>\n",
       "    <tr>\n",
       "      <th>25%</th>\n",
       "      <td>0.469231</td>\n",
       "      <td>0.192771</td>\n",
       "      <td>0.061404</td>\n",
       "      <td>0.023810</td>\n",
       "      <td>0.026144</td>\n",
       "      <td>0.023810</td>\n",
       "      <td>0.000000</td>\n",
       "      <td>52.416667</td>\n",
       "      <td>1.615385</td>\n",
       "      <td>4.000000</td>\n",
       "    </tr>\n",
       "    <tr>\n",
       "      <th>50%</th>\n",
       "      <td>0.530000</td>\n",
       "      <td>0.225352</td>\n",
       "      <td>0.085271</td>\n",
       "      <td>0.040000</td>\n",
       "      <td>0.050000</td>\n",
       "      <td>0.041096</td>\n",
       "      <td>0.000000</td>\n",
       "      <td>79.428571</td>\n",
       "      <td>2.571429</td>\n",
       "      <td>5.000000</td>\n",
       "    </tr>\n",
       "    <tr>\n",
       "      <th>75%</th>\n",
       "      <td>0.594771</td>\n",
       "      <td>0.261307</td>\n",
       "      <td>0.113208</td>\n",
       "      <td>0.059524</td>\n",
       "      <td>0.077922</td>\n",
       "      <td>0.063063</td>\n",
       "      <td>0.009615</td>\n",
       "      <td>105.285714</td>\n",
       "      <td>3.571429</td>\n",
       "      <td>6.000000</td>\n",
       "    </tr>\n",
       "    <tr>\n",
       "      <th>max</th>\n",
       "      <td>0.796053</td>\n",
       "      <td>0.504132</td>\n",
       "      <td>0.315068</td>\n",
       "      <td>0.233766</td>\n",
       "      <td>0.201835</td>\n",
       "      <td>0.211538</td>\n",
       "      <td>0.108108</td>\n",
       "      <td>269.666667</td>\n",
       "      <td>12.000000</td>\n",
       "      <td>6.000000</td>\n",
       "    </tr>\n",
       "  </tbody>\n",
       "</table>\n",
       "</div>"
      ],
      "text/plain": [
       "                 E           M1           M2           M3           H1  \\\n",
       "count  1881.000000  1881.000000  1881.000000  1881.000000  1881.000000   \n",
       "mean      0.531335     0.228310     0.089407     0.044049     0.054087   \n",
       "std       0.087575     0.054804     0.042499     0.028801     0.035668   \n",
       "min       0.250000     0.046154     0.000000     0.000000     0.000000   \n",
       "25%       0.469231     0.192771     0.061404     0.023810     0.026144   \n",
       "50%       0.530000     0.225352     0.085271     0.040000     0.050000   \n",
       "75%       0.594771     0.261307     0.113208     0.059524     0.077922   \n",
       "max       0.796053     0.504132     0.315068     0.233766     0.201835   \n",
       "\n",
       "                H2           H3     word_len  proposition        level  \n",
       "count  1881.000000  1881.000000  1881.000000  1881.000000  1881.000000  \n",
       "mean      0.045850     0.006963    80.627792     2.661119     4.614567  \n",
       "std       0.029608     0.013410    35.509343     1.367130     1.474889  \n",
       "min       0.000000     0.000000    14.580645     0.058824     1.000000  \n",
       "25%       0.023810     0.000000    52.416667     1.615385     4.000000  \n",
       "50%       0.041096     0.000000    79.428571     2.571429     5.000000  \n",
       "75%       0.063063     0.009615   105.285714     3.571429     6.000000  \n",
       "max       0.211538     0.108108   269.666667    12.000000     6.000000  "
      ]
     },
     "metadata": {},
     "output_type": "display_data"
    }
   ],
   "source": [
    "# 데이터 불러오기\n",
    "with open('./data/data_set_3.csv', encoding=\"UTF-8\") as f: # data_set.csv.csv\n",
    "    table = pd.read_csv(f) # csv 읽어오기\n",
    "data_set = pd.DataFrame(table) # df 로 변환\n",
    "data_set = data_set.drop('Unnamed: 0',axis=1)\n",
    "data_set = data_set.fillna(0)\n",
    "print(data_set.info(),'\\n')\n",
    "display(data_set.describe())"
   ]
  },
  {
   "cell_type": "code",
   "execution_count": 6,
   "id": "121a71d1-a06c-496b-a429-cf3f55d0e44b",
   "metadata": {
    "tags": []
   },
   "outputs": [
    {
     "data": {
      "text/html": [
       "<div>\n",
       "<style scoped>\n",
       "    .dataframe tbody tr th:only-of-type {\n",
       "        vertical-align: middle;\n",
       "    }\n",
       "\n",
       "    .dataframe tbody tr th {\n",
       "        vertical-align: top;\n",
       "    }\n",
       "\n",
       "    .dataframe thead th {\n",
       "        text-align: right;\n",
       "    }\n",
       "</style>\n",
       "<table border=\"1\" class=\"dataframe\">\n",
       "  <thead>\n",
       "    <tr style=\"text-align: right;\">\n",
       "      <th></th>\n",
       "      <th>E</th>\n",
       "      <th>M1</th>\n",
       "      <th>M2</th>\n",
       "      <th>M3</th>\n",
       "      <th>H1</th>\n",
       "      <th>H2</th>\n",
       "      <th>H3</th>\n",
       "      <th>word_len</th>\n",
       "      <th>proposition</th>\n",
       "      <th>level</th>\n",
       "    </tr>\n",
       "  </thead>\n",
       "  <tbody>\n",
       "    <tr>\n",
       "      <th>0</th>\n",
       "      <td>0.576923</td>\n",
       "      <td>0.217949</td>\n",
       "      <td>0.038462</td>\n",
       "      <td>0.051282</td>\n",
       "      <td>0.064103</td>\n",
       "      <td>0.038462</td>\n",
       "      <td>0.012821</td>\n",
       "      <td>71.142857</td>\n",
       "      <td>3.142857</td>\n",
       "      <td>6</td>\n",
       "    </tr>\n",
       "    <tr>\n",
       "      <th>1</th>\n",
       "      <td>0.540323</td>\n",
       "      <td>0.209677</td>\n",
       "      <td>0.096774</td>\n",
       "      <td>0.048387</td>\n",
       "      <td>0.040323</td>\n",
       "      <td>0.048387</td>\n",
       "      <td>0.016129</td>\n",
       "      <td>90.000000</td>\n",
       "      <td>2.666667</td>\n",
       "      <td>6</td>\n",
       "    </tr>\n",
       "  </tbody>\n",
       "</table>\n",
       "</div>"
      ],
      "text/plain": [
       "          E        M1        M2        M3        H1        H2        H3  \\\n",
       "0  0.576923  0.217949  0.038462  0.051282  0.064103  0.038462  0.012821   \n",
       "1  0.540323  0.209677  0.096774  0.048387  0.040323  0.048387  0.016129   \n",
       "\n",
       "    word_len  proposition  level  \n",
       "0  71.142857     3.142857      6  \n",
       "1  90.000000     2.666667      6  "
      ]
     },
     "execution_count": 6,
     "metadata": {},
     "output_type": "execute_result"
    }
   ],
   "source": [
    "data_set.head(2)"
   ]
  },
  {
   "cell_type": "markdown",
   "id": "09582aa5-5c13-449c-9ae0-e4fc2e4927b4",
   "metadata": {},
   "source": [
    "---\n",
    "## Pycaret setup"
   ]
  },
  {
   "cell_type": "code",
   "execution_count": 7,
   "id": "a5dbcc3d-b2c3-47d1-b8f0-31dd8043a01a",
   "metadata": {},
   "outputs": [],
   "source": [
    "from pycaret.classification import *"
   ]
  },
  {
   "cell_type": "code",
   "execution_count": 8,
   "id": "7baf3ca4-87b7-40f9-ab48-6dbff4951be4",
   "metadata": {
    "tags": []
   },
   "outputs": [
    {
     "data": {
      "text/plain": [
       "Index(['E', 'M1', 'M2', 'M3', 'H1', 'H2', 'H3', 'word_len', 'proposition',\n",
       "       'level'],\n",
       "      dtype='object')"
      ]
     },
     "execution_count": 8,
     "metadata": {},
     "output_type": "execute_result"
    }
   ],
   "source": [
    "data = data_set.copy() #편의상 df \n",
    "data.columns"
   ]
  },
  {
   "cell_type": "markdown",
   "id": "f46f1338-2839-466a-9157-186b37cb25e3",
   "metadata": {},
   "source": [
    "## setup"
   ]
  },
  {
   "cell_type": "code",
   "execution_count": 9,
   "id": "15e10db6-54fe-439d-a837-a4c3bb3e9dae",
   "metadata": {
    "tags": []
   },
   "outputs": [
    {
     "data": {
      "text/html": [
       "<style type=\"text/css\">\n",
       "</style>\n",
       "<table id=\"T_d5fdd_\">\n",
       "  <thead>\n",
       "    <tr>\n",
       "      <th class=\"blank level0\" >&nbsp;</th>\n",
       "      <th class=\"col_heading level0 col0\" >Description</th>\n",
       "      <th class=\"col_heading level0 col1\" >Value</th>\n",
       "    </tr>\n",
       "  </thead>\n",
       "  <tbody>\n",
       "    <tr>\n",
       "      <th id=\"T_d5fdd_level0_row0\" class=\"row_heading level0 row0\" >0</th>\n",
       "      <td id=\"T_d5fdd_row0_col0\" class=\"data row0 col0\" >session_id</td>\n",
       "      <td id=\"T_d5fdd_row0_col1\" class=\"data row0 col1\" >6687</td>\n",
       "    </tr>\n",
       "    <tr>\n",
       "      <th id=\"T_d5fdd_level0_row1\" class=\"row_heading level0 row1\" >1</th>\n",
       "      <td id=\"T_d5fdd_row1_col0\" class=\"data row1 col0\" >Target</td>\n",
       "      <td id=\"T_d5fdd_row1_col1\" class=\"data row1 col1\" >level</td>\n",
       "    </tr>\n",
       "    <tr>\n",
       "      <th id=\"T_d5fdd_level0_row2\" class=\"row_heading level0 row2\" >2</th>\n",
       "      <td id=\"T_d5fdd_row2_col0\" class=\"data row2 col0\" >Target Type</td>\n",
       "      <td id=\"T_d5fdd_row2_col1\" class=\"data row2 col1\" >Multiclass</td>\n",
       "    </tr>\n",
       "    <tr>\n",
       "      <th id=\"T_d5fdd_level0_row3\" class=\"row_heading level0 row3\" >3</th>\n",
       "      <td id=\"T_d5fdd_row3_col0\" class=\"data row3 col0\" >Label Encoded</td>\n",
       "      <td id=\"T_d5fdd_row3_col1\" class=\"data row3 col1\" >1: 0, 2: 1, 3: 2, 4: 3, 5: 4, 6: 5</td>\n",
       "    </tr>\n",
       "    <tr>\n",
       "      <th id=\"T_d5fdd_level0_row4\" class=\"row_heading level0 row4\" >4</th>\n",
       "      <td id=\"T_d5fdd_row4_col0\" class=\"data row4 col0\" >Original Data</td>\n",
       "      <td id=\"T_d5fdd_row4_col1\" class=\"data row4 col1\" >(1881, 10)</td>\n",
       "    </tr>\n",
       "    <tr>\n",
       "      <th id=\"T_d5fdd_level0_row5\" class=\"row_heading level0 row5\" >5</th>\n",
       "      <td id=\"T_d5fdd_row5_col0\" class=\"data row5 col0\" >Missing Values</td>\n",
       "      <td id=\"T_d5fdd_row5_col1\" class=\"data row5 col1\" >False</td>\n",
       "    </tr>\n",
       "    <tr>\n",
       "      <th id=\"T_d5fdd_level0_row6\" class=\"row_heading level0 row6\" >6</th>\n",
       "      <td id=\"T_d5fdd_row6_col0\" class=\"data row6 col0\" >Numeric Features</td>\n",
       "      <td id=\"T_d5fdd_row6_col1\" class=\"data row6 col1\" >9</td>\n",
       "    </tr>\n",
       "    <tr>\n",
       "      <th id=\"T_d5fdd_level0_row7\" class=\"row_heading level0 row7\" >7</th>\n",
       "      <td id=\"T_d5fdd_row7_col0\" class=\"data row7 col0\" >Categorical Features</td>\n",
       "      <td id=\"T_d5fdd_row7_col1\" class=\"data row7 col1\" >0</td>\n",
       "    </tr>\n",
       "    <tr>\n",
       "      <th id=\"T_d5fdd_level0_row8\" class=\"row_heading level0 row8\" >8</th>\n",
       "      <td id=\"T_d5fdd_row8_col0\" class=\"data row8 col0\" >Ordinal Features</td>\n",
       "      <td id=\"T_d5fdd_row8_col1\" class=\"data row8 col1\" >False</td>\n",
       "    </tr>\n",
       "    <tr>\n",
       "      <th id=\"T_d5fdd_level0_row9\" class=\"row_heading level0 row9\" >9</th>\n",
       "      <td id=\"T_d5fdd_row9_col0\" class=\"data row9 col0\" >High Cardinality Features</td>\n",
       "      <td id=\"T_d5fdd_row9_col1\" class=\"data row9 col1\" >False</td>\n",
       "    </tr>\n",
       "    <tr>\n",
       "      <th id=\"T_d5fdd_level0_row10\" class=\"row_heading level0 row10\" >10</th>\n",
       "      <td id=\"T_d5fdd_row10_col0\" class=\"data row10 col0\" >High Cardinality Method</td>\n",
       "      <td id=\"T_d5fdd_row10_col1\" class=\"data row10 col1\" >None</td>\n",
       "    </tr>\n",
       "    <tr>\n",
       "      <th id=\"T_d5fdd_level0_row11\" class=\"row_heading level0 row11\" >11</th>\n",
       "      <td id=\"T_d5fdd_row11_col0\" class=\"data row11 col0\" >Transformed Train Set</td>\n",
       "      <td id=\"T_d5fdd_row11_col1\" class=\"data row11 col1\" >(1316, 9)</td>\n",
       "    </tr>\n",
       "    <tr>\n",
       "      <th id=\"T_d5fdd_level0_row12\" class=\"row_heading level0 row12\" >12</th>\n",
       "      <td id=\"T_d5fdd_row12_col0\" class=\"data row12 col0\" >Transformed Test Set</td>\n",
       "      <td id=\"T_d5fdd_row12_col1\" class=\"data row12 col1\" >(565, 9)</td>\n",
       "    </tr>\n",
       "    <tr>\n",
       "      <th id=\"T_d5fdd_level0_row13\" class=\"row_heading level0 row13\" >13</th>\n",
       "      <td id=\"T_d5fdd_row13_col0\" class=\"data row13 col0\" >Shuffle Train-Test</td>\n",
       "      <td id=\"T_d5fdd_row13_col1\" class=\"data row13 col1\" >True</td>\n",
       "    </tr>\n",
       "    <tr>\n",
       "      <th id=\"T_d5fdd_level0_row14\" class=\"row_heading level0 row14\" >14</th>\n",
       "      <td id=\"T_d5fdd_row14_col0\" class=\"data row14 col0\" >Stratify Train-Test</td>\n",
       "      <td id=\"T_d5fdd_row14_col1\" class=\"data row14 col1\" >False</td>\n",
       "    </tr>\n",
       "    <tr>\n",
       "      <th id=\"T_d5fdd_level0_row15\" class=\"row_heading level0 row15\" >15</th>\n",
       "      <td id=\"T_d5fdd_row15_col0\" class=\"data row15 col0\" >Fold Generator</td>\n",
       "      <td id=\"T_d5fdd_row15_col1\" class=\"data row15 col1\" >StratifiedKFold</td>\n",
       "    </tr>\n",
       "    <tr>\n",
       "      <th id=\"T_d5fdd_level0_row16\" class=\"row_heading level0 row16\" >16</th>\n",
       "      <td id=\"T_d5fdd_row16_col0\" class=\"data row16 col0\" >Fold Number</td>\n",
       "      <td id=\"T_d5fdd_row16_col1\" class=\"data row16 col1\" >5</td>\n",
       "    </tr>\n",
       "    <tr>\n",
       "      <th id=\"T_d5fdd_level0_row17\" class=\"row_heading level0 row17\" >17</th>\n",
       "      <td id=\"T_d5fdd_row17_col0\" class=\"data row17 col0\" >CPU Jobs</td>\n",
       "      <td id=\"T_d5fdd_row17_col1\" class=\"data row17 col1\" >-1</td>\n",
       "    </tr>\n",
       "    <tr>\n",
       "      <th id=\"T_d5fdd_level0_row18\" class=\"row_heading level0 row18\" >18</th>\n",
       "      <td id=\"T_d5fdd_row18_col0\" class=\"data row18 col0\" >Use GPU</td>\n",
       "      <td id=\"T_d5fdd_row18_col1\" class=\"data row18 col1\" >False</td>\n",
       "    </tr>\n",
       "    <tr>\n",
       "      <th id=\"T_d5fdd_level0_row19\" class=\"row_heading level0 row19\" >19</th>\n",
       "      <td id=\"T_d5fdd_row19_col0\" class=\"data row19 col0\" >Log Experiment</td>\n",
       "      <td id=\"T_d5fdd_row19_col1\" class=\"data row19 col1\" >False</td>\n",
       "    </tr>\n",
       "    <tr>\n",
       "      <th id=\"T_d5fdd_level0_row20\" class=\"row_heading level0 row20\" >20</th>\n",
       "      <td id=\"T_d5fdd_row20_col0\" class=\"data row20 col0\" >Experiment Name</td>\n",
       "      <td id=\"T_d5fdd_row20_col1\" class=\"data row20 col1\" >clf-default-name</td>\n",
       "    </tr>\n",
       "    <tr>\n",
       "      <th id=\"T_d5fdd_level0_row21\" class=\"row_heading level0 row21\" >21</th>\n",
       "      <td id=\"T_d5fdd_row21_col0\" class=\"data row21 col0\" >USI</td>\n",
       "      <td id=\"T_d5fdd_row21_col1\" class=\"data row21 col1\" >bb78</td>\n",
       "    </tr>\n",
       "    <tr>\n",
       "      <th id=\"T_d5fdd_level0_row22\" class=\"row_heading level0 row22\" >22</th>\n",
       "      <td id=\"T_d5fdd_row22_col0\" class=\"data row22 col0\" >Imputation Type</td>\n",
       "      <td id=\"T_d5fdd_row22_col1\" class=\"data row22 col1\" >simple</td>\n",
       "    </tr>\n",
       "    <tr>\n",
       "      <th id=\"T_d5fdd_level0_row23\" class=\"row_heading level0 row23\" >23</th>\n",
       "      <td id=\"T_d5fdd_row23_col0\" class=\"data row23 col0\" >Iterative Imputation Iteration</td>\n",
       "      <td id=\"T_d5fdd_row23_col1\" class=\"data row23 col1\" >None</td>\n",
       "    </tr>\n",
       "    <tr>\n",
       "      <th id=\"T_d5fdd_level0_row24\" class=\"row_heading level0 row24\" >24</th>\n",
       "      <td id=\"T_d5fdd_row24_col0\" class=\"data row24 col0\" >Numeric Imputer</td>\n",
       "      <td id=\"T_d5fdd_row24_col1\" class=\"data row24 col1\" >mean</td>\n",
       "    </tr>\n",
       "    <tr>\n",
       "      <th id=\"T_d5fdd_level0_row25\" class=\"row_heading level0 row25\" >25</th>\n",
       "      <td id=\"T_d5fdd_row25_col0\" class=\"data row25 col0\" >Iterative Imputation Numeric Model</td>\n",
       "      <td id=\"T_d5fdd_row25_col1\" class=\"data row25 col1\" >None</td>\n",
       "    </tr>\n",
       "    <tr>\n",
       "      <th id=\"T_d5fdd_level0_row26\" class=\"row_heading level0 row26\" >26</th>\n",
       "      <td id=\"T_d5fdd_row26_col0\" class=\"data row26 col0\" >Categorical Imputer</td>\n",
       "      <td id=\"T_d5fdd_row26_col1\" class=\"data row26 col1\" >constant</td>\n",
       "    </tr>\n",
       "    <tr>\n",
       "      <th id=\"T_d5fdd_level0_row27\" class=\"row_heading level0 row27\" >27</th>\n",
       "      <td id=\"T_d5fdd_row27_col0\" class=\"data row27 col0\" >Iterative Imputation Categorical Model</td>\n",
       "      <td id=\"T_d5fdd_row27_col1\" class=\"data row27 col1\" >None</td>\n",
       "    </tr>\n",
       "    <tr>\n",
       "      <th id=\"T_d5fdd_level0_row28\" class=\"row_heading level0 row28\" >28</th>\n",
       "      <td id=\"T_d5fdd_row28_col0\" class=\"data row28 col0\" >Unknown Categoricals Handling</td>\n",
       "      <td id=\"T_d5fdd_row28_col1\" class=\"data row28 col1\" >least_frequent</td>\n",
       "    </tr>\n",
       "    <tr>\n",
       "      <th id=\"T_d5fdd_level0_row29\" class=\"row_heading level0 row29\" >29</th>\n",
       "      <td id=\"T_d5fdd_row29_col0\" class=\"data row29 col0\" >Normalize</td>\n",
       "      <td id=\"T_d5fdd_row29_col1\" class=\"data row29 col1\" >False</td>\n",
       "    </tr>\n",
       "    <tr>\n",
       "      <th id=\"T_d5fdd_level0_row30\" class=\"row_heading level0 row30\" >30</th>\n",
       "      <td id=\"T_d5fdd_row30_col0\" class=\"data row30 col0\" >Normalize Method</td>\n",
       "      <td id=\"T_d5fdd_row30_col1\" class=\"data row30 col1\" >None</td>\n",
       "    </tr>\n",
       "    <tr>\n",
       "      <th id=\"T_d5fdd_level0_row31\" class=\"row_heading level0 row31\" >31</th>\n",
       "      <td id=\"T_d5fdd_row31_col0\" class=\"data row31 col0\" >Transformation</td>\n",
       "      <td id=\"T_d5fdd_row31_col1\" class=\"data row31 col1\" >False</td>\n",
       "    </tr>\n",
       "    <tr>\n",
       "      <th id=\"T_d5fdd_level0_row32\" class=\"row_heading level0 row32\" >32</th>\n",
       "      <td id=\"T_d5fdd_row32_col0\" class=\"data row32 col0\" >Transformation Method</td>\n",
       "      <td id=\"T_d5fdd_row32_col1\" class=\"data row32 col1\" >None</td>\n",
       "    </tr>\n",
       "    <tr>\n",
       "      <th id=\"T_d5fdd_level0_row33\" class=\"row_heading level0 row33\" >33</th>\n",
       "      <td id=\"T_d5fdd_row33_col0\" class=\"data row33 col0\" >PCA</td>\n",
       "      <td id=\"T_d5fdd_row33_col1\" class=\"data row33 col1\" >False</td>\n",
       "    </tr>\n",
       "    <tr>\n",
       "      <th id=\"T_d5fdd_level0_row34\" class=\"row_heading level0 row34\" >34</th>\n",
       "      <td id=\"T_d5fdd_row34_col0\" class=\"data row34 col0\" >PCA Method</td>\n",
       "      <td id=\"T_d5fdd_row34_col1\" class=\"data row34 col1\" >None</td>\n",
       "    </tr>\n",
       "    <tr>\n",
       "      <th id=\"T_d5fdd_level0_row35\" class=\"row_heading level0 row35\" >35</th>\n",
       "      <td id=\"T_d5fdd_row35_col0\" class=\"data row35 col0\" >PCA Components</td>\n",
       "      <td id=\"T_d5fdd_row35_col1\" class=\"data row35 col1\" >None</td>\n",
       "    </tr>\n",
       "    <tr>\n",
       "      <th id=\"T_d5fdd_level0_row36\" class=\"row_heading level0 row36\" >36</th>\n",
       "      <td id=\"T_d5fdd_row36_col0\" class=\"data row36 col0\" >Ignore Low Variance</td>\n",
       "      <td id=\"T_d5fdd_row36_col1\" class=\"data row36 col1\" >False</td>\n",
       "    </tr>\n",
       "    <tr>\n",
       "      <th id=\"T_d5fdd_level0_row37\" class=\"row_heading level0 row37\" >37</th>\n",
       "      <td id=\"T_d5fdd_row37_col0\" class=\"data row37 col0\" >Combine Rare Levels</td>\n",
       "      <td id=\"T_d5fdd_row37_col1\" class=\"data row37 col1\" >False</td>\n",
       "    </tr>\n",
       "    <tr>\n",
       "      <th id=\"T_d5fdd_level0_row38\" class=\"row_heading level0 row38\" >38</th>\n",
       "      <td id=\"T_d5fdd_row38_col0\" class=\"data row38 col0\" >Rare Level Threshold</td>\n",
       "      <td id=\"T_d5fdd_row38_col1\" class=\"data row38 col1\" >None</td>\n",
       "    </tr>\n",
       "    <tr>\n",
       "      <th id=\"T_d5fdd_level0_row39\" class=\"row_heading level0 row39\" >39</th>\n",
       "      <td id=\"T_d5fdd_row39_col0\" class=\"data row39 col0\" >Numeric Binning</td>\n",
       "      <td id=\"T_d5fdd_row39_col1\" class=\"data row39 col1\" >False</td>\n",
       "    </tr>\n",
       "    <tr>\n",
       "      <th id=\"T_d5fdd_level0_row40\" class=\"row_heading level0 row40\" >40</th>\n",
       "      <td id=\"T_d5fdd_row40_col0\" class=\"data row40 col0\" >Remove Outliers</td>\n",
       "      <td id=\"T_d5fdd_row40_col1\" class=\"data row40 col1\" >False</td>\n",
       "    </tr>\n",
       "    <tr>\n",
       "      <th id=\"T_d5fdd_level0_row41\" class=\"row_heading level0 row41\" >41</th>\n",
       "      <td id=\"T_d5fdd_row41_col0\" class=\"data row41 col0\" >Outliers Threshold</td>\n",
       "      <td id=\"T_d5fdd_row41_col1\" class=\"data row41 col1\" >None</td>\n",
       "    </tr>\n",
       "    <tr>\n",
       "      <th id=\"T_d5fdd_level0_row42\" class=\"row_heading level0 row42\" >42</th>\n",
       "      <td id=\"T_d5fdd_row42_col0\" class=\"data row42 col0\" >Remove Multicollinearity</td>\n",
       "      <td id=\"T_d5fdd_row42_col1\" class=\"data row42 col1\" >False</td>\n",
       "    </tr>\n",
       "    <tr>\n",
       "      <th id=\"T_d5fdd_level0_row43\" class=\"row_heading level0 row43\" >43</th>\n",
       "      <td id=\"T_d5fdd_row43_col0\" class=\"data row43 col0\" >Multicollinearity Threshold</td>\n",
       "      <td id=\"T_d5fdd_row43_col1\" class=\"data row43 col1\" >None</td>\n",
       "    </tr>\n",
       "    <tr>\n",
       "      <th id=\"T_d5fdd_level0_row44\" class=\"row_heading level0 row44\" >44</th>\n",
       "      <td id=\"T_d5fdd_row44_col0\" class=\"data row44 col0\" >Clustering</td>\n",
       "      <td id=\"T_d5fdd_row44_col1\" class=\"data row44 col1\" >False</td>\n",
       "    </tr>\n",
       "    <tr>\n",
       "      <th id=\"T_d5fdd_level0_row45\" class=\"row_heading level0 row45\" >45</th>\n",
       "      <td id=\"T_d5fdd_row45_col0\" class=\"data row45 col0\" >Clustering Iteration</td>\n",
       "      <td id=\"T_d5fdd_row45_col1\" class=\"data row45 col1\" >None</td>\n",
       "    </tr>\n",
       "    <tr>\n",
       "      <th id=\"T_d5fdd_level0_row46\" class=\"row_heading level0 row46\" >46</th>\n",
       "      <td id=\"T_d5fdd_row46_col0\" class=\"data row46 col0\" >Polynomial Features</td>\n",
       "      <td id=\"T_d5fdd_row46_col1\" class=\"data row46 col1\" >False</td>\n",
       "    </tr>\n",
       "    <tr>\n",
       "      <th id=\"T_d5fdd_level0_row47\" class=\"row_heading level0 row47\" >47</th>\n",
       "      <td id=\"T_d5fdd_row47_col0\" class=\"data row47 col0\" >Polynomial Degree</td>\n",
       "      <td id=\"T_d5fdd_row47_col1\" class=\"data row47 col1\" >None</td>\n",
       "    </tr>\n",
       "    <tr>\n",
       "      <th id=\"T_d5fdd_level0_row48\" class=\"row_heading level0 row48\" >48</th>\n",
       "      <td id=\"T_d5fdd_row48_col0\" class=\"data row48 col0\" >Trignometry Features</td>\n",
       "      <td id=\"T_d5fdd_row48_col1\" class=\"data row48 col1\" >False</td>\n",
       "    </tr>\n",
       "    <tr>\n",
       "      <th id=\"T_d5fdd_level0_row49\" class=\"row_heading level0 row49\" >49</th>\n",
       "      <td id=\"T_d5fdd_row49_col0\" class=\"data row49 col0\" >Polynomial Threshold</td>\n",
       "      <td id=\"T_d5fdd_row49_col1\" class=\"data row49 col1\" >None</td>\n",
       "    </tr>\n",
       "    <tr>\n",
       "      <th id=\"T_d5fdd_level0_row50\" class=\"row_heading level0 row50\" >50</th>\n",
       "      <td id=\"T_d5fdd_row50_col0\" class=\"data row50 col0\" >Group Features</td>\n",
       "      <td id=\"T_d5fdd_row50_col1\" class=\"data row50 col1\" >False</td>\n",
       "    </tr>\n",
       "    <tr>\n",
       "      <th id=\"T_d5fdd_level0_row51\" class=\"row_heading level0 row51\" >51</th>\n",
       "      <td id=\"T_d5fdd_row51_col0\" class=\"data row51 col0\" >Feature Selection</td>\n",
       "      <td id=\"T_d5fdd_row51_col1\" class=\"data row51 col1\" >False</td>\n",
       "    </tr>\n",
       "    <tr>\n",
       "      <th id=\"T_d5fdd_level0_row52\" class=\"row_heading level0 row52\" >52</th>\n",
       "      <td id=\"T_d5fdd_row52_col0\" class=\"data row52 col0\" >Features Selection Threshold</td>\n",
       "      <td id=\"T_d5fdd_row52_col1\" class=\"data row52 col1\" >None</td>\n",
       "    </tr>\n",
       "    <tr>\n",
       "      <th id=\"T_d5fdd_level0_row53\" class=\"row_heading level0 row53\" >53</th>\n",
       "      <td id=\"T_d5fdd_row53_col0\" class=\"data row53 col0\" >Feature Interaction</td>\n",
       "      <td id=\"T_d5fdd_row53_col1\" class=\"data row53 col1\" >False</td>\n",
       "    </tr>\n",
       "    <tr>\n",
       "      <th id=\"T_d5fdd_level0_row54\" class=\"row_heading level0 row54\" >54</th>\n",
       "      <td id=\"T_d5fdd_row54_col0\" class=\"data row54 col0\" >Feature Ratio</td>\n",
       "      <td id=\"T_d5fdd_row54_col1\" class=\"data row54 col1\" >False</td>\n",
       "    </tr>\n",
       "    <tr>\n",
       "      <th id=\"T_d5fdd_level0_row55\" class=\"row_heading level0 row55\" >55</th>\n",
       "      <td id=\"T_d5fdd_row55_col0\" class=\"data row55 col0\" >Interaction Threshold</td>\n",
       "      <td id=\"T_d5fdd_row55_col1\" class=\"data row55 col1\" >None</td>\n",
       "    </tr>\n",
       "    <tr>\n",
       "      <th id=\"T_d5fdd_level0_row56\" class=\"row_heading level0 row56\" >56</th>\n",
       "      <td id=\"T_d5fdd_row56_col0\" class=\"data row56 col0\" >Fix Imbalance</td>\n",
       "      <td id=\"T_d5fdd_row56_col1\" class=\"data row56 col1\" >False</td>\n",
       "    </tr>\n",
       "    <tr>\n",
       "      <th id=\"T_d5fdd_level0_row57\" class=\"row_heading level0 row57\" >57</th>\n",
       "      <td id=\"T_d5fdd_row57_col0\" class=\"data row57 col0\" >Fix Imbalance Method</td>\n",
       "      <td id=\"T_d5fdd_row57_col1\" class=\"data row57 col1\" >SMOTE</td>\n",
       "    </tr>\n",
       "  </tbody>\n",
       "</table>\n"
      ],
      "text/plain": [
       "<pandas.io.formats.style.Styler at 0x27b91116580>"
      ]
     },
     "metadata": {},
     "output_type": "display_data"
    },
    {
     "name": "stdout",
     "output_type": "stream",
     "text": [
      "setup_compelete\n"
     ]
    }
   ],
   "source": [
    "target  = data[['level']]\n",
    "a = setup(data = data,      \n",
    "      target = 'level',\n",
    "      fold=5,\n",
    "      silent = True,\n",
    "      fold_shuffle = True\n",
    "     )\n",
    "\n",
    "print('setup_compelete') # 요약\n",
    "# 벤치마크 확인용이므로 default로 진행해도 좋음"
   ]
  },
  {
   "cell_type": "code",
   "execution_count": 10,
   "id": "3dce31e7-598e-4c02-8933-0155580d3658",
   "metadata": {
    "tags": []
   },
   "outputs": [],
   "source": [
    "# a"
   ]
  },
  {
   "cell_type": "markdown",
   "id": "23f2e44e-88ff-46cc-8c0c-e5e312fbf1fa",
   "metadata": {},
   "source": [
    "### ✅pycaret setup 파라미터 조정하면서 실험 필요    \n",
    "`Target` : 'level'     \n",
    "`Label encode` 완료    \n",
    "`train_test_split` = 7 : 3    \n",
    "`StratifiedKFold`  = 5    \n",
    "`Fix Imbalance Method` = SMOTE 방식    \n",
    " - SMOTE는 클래스가 적은 데이터의 표본을 임의의 값으로 변형해 데이터를 추가하는 방법\n"
   ]
  },
  {
   "cell_type": "markdown",
   "id": "b2f5c0b0-98bb-4d70-9a92-d49e9b7bb06d",
   "metadata": {
    "tags": []
   },
   "source": [
    "setup에 들어가는 파라미터 설명   \n",
    "\n",
    ">`test_size`: 테스트 셋 구성의 비율을 나타냅니다.         \n",
    "`shuffle`: default=True 입니다. split을 해주기 이전에 섞을건지 여부입니다.      \n",
    "`stratify`: default=None 입니다. stratify 값을 target으로 지정해주면 각각의 class 비율(ratio)을 train / validation에 유지해 줍니다. (한 쪽에 쏠려서 분배되는 것을 방지합니다)      \n",
    "`random_state`: 세트를 섞을 때 해당 int 값을 보고 섞으며, 하이퍼 파라미터를 튜닝시 이 값을 고정해두고 튜닝해야 매번 데이터셋이 변경되는 것을 방지할 수 있음"
   ]
  },
  {
   "cell_type": "markdown",
   "id": "48c63095-29bd-40ec-a8f2-c6a7e0262df0",
   "metadata": {},
   "source": [
    "#### Metric 확인 및 추가"
   ]
  },
  {
   "cell_type": "code",
   "execution_count": 11,
   "id": "01ec4b51-b6bb-4ddf-8a41-f093a5697919",
   "metadata": {
    "tags": []
   },
   "outputs": [
    {
     "data": {
      "text/html": [
       "<div>\n",
       "<style scoped>\n",
       "    .dataframe tbody tr th:only-of-type {\n",
       "        vertical-align: middle;\n",
       "    }\n",
       "\n",
       "    .dataframe tbody tr th {\n",
       "        vertical-align: top;\n",
       "    }\n",
       "\n",
       "    .dataframe thead th {\n",
       "        text-align: right;\n",
       "    }\n",
       "</style>\n",
       "<table border=\"1\" class=\"dataframe\">\n",
       "  <thead>\n",
       "    <tr style=\"text-align: right;\">\n",
       "      <th></th>\n",
       "      <th>Name</th>\n",
       "      <th>Display Name</th>\n",
       "      <th>Score Function</th>\n",
       "      <th>Scorer</th>\n",
       "      <th>Target</th>\n",
       "      <th>Args</th>\n",
       "      <th>Greater is Better</th>\n",
       "      <th>Multiclass</th>\n",
       "      <th>Custom</th>\n",
       "    </tr>\n",
       "    <tr>\n",
       "      <th>ID</th>\n",
       "      <th></th>\n",
       "      <th></th>\n",
       "      <th></th>\n",
       "      <th></th>\n",
       "      <th></th>\n",
       "      <th></th>\n",
       "      <th></th>\n",
       "      <th></th>\n",
       "      <th></th>\n",
       "    </tr>\n",
       "  </thead>\n",
       "  <tbody>\n",
       "    <tr>\n",
       "      <th>acc</th>\n",
       "      <td>Accuracy</td>\n",
       "      <td>Accuracy</td>\n",
       "      <td>&lt;function accuracy_score at 0x0000027B8C1F6310&gt;</td>\n",
       "      <td>accuracy</td>\n",
       "      <td>pred</td>\n",
       "      <td>{}</td>\n",
       "      <td>True</td>\n",
       "      <td>True</td>\n",
       "      <td>False</td>\n",
       "    </tr>\n",
       "    <tr>\n",
       "      <th>auc</th>\n",
       "      <td>AUC</td>\n",
       "      <td>AUC</td>\n",
       "      <td>&lt;function roc_auc_score at 0x0000027B8C1EE1F0&gt;</td>\n",
       "      <td>make_scorer(roc_auc_score, needs_proba=True, e...</td>\n",
       "      <td>pred_proba</td>\n",
       "      <td>{'average': 'weighted', 'multi_class': 'ovr'}</td>\n",
       "      <td>True</td>\n",
       "      <td>True</td>\n",
       "      <td>False</td>\n",
       "    </tr>\n",
       "    <tr>\n",
       "      <th>recall</th>\n",
       "      <td>Recall</td>\n",
       "      <td>Recall</td>\n",
       "      <td>&lt;function binary_multiclass_score_func.&lt;locals...</td>\n",
       "      <td>make_scorer(wrapper, average=macro)</td>\n",
       "      <td>pred</td>\n",
       "      <td>{'average': 'macro'}</td>\n",
       "      <td>True</td>\n",
       "      <td>True</td>\n",
       "      <td>False</td>\n",
       "    </tr>\n",
       "    <tr>\n",
       "      <th>precision</th>\n",
       "      <td>Precision</td>\n",
       "      <td>Prec.</td>\n",
       "      <td>&lt;function binary_multiclass_score_func.&lt;locals...</td>\n",
       "      <td>make_scorer(wrapper, average=weighted)</td>\n",
       "      <td>pred</td>\n",
       "      <td>{'average': 'weighted'}</td>\n",
       "      <td>True</td>\n",
       "      <td>True</td>\n",
       "      <td>False</td>\n",
       "    </tr>\n",
       "    <tr>\n",
       "      <th>f1</th>\n",
       "      <td>F1</td>\n",
       "      <td>F1</td>\n",
       "      <td>&lt;function binary_multiclass_score_func.&lt;locals...</td>\n",
       "      <td>make_scorer(wrapper, average=weighted)</td>\n",
       "      <td>pred</td>\n",
       "      <td>{'average': 'weighted'}</td>\n",
       "      <td>True</td>\n",
       "      <td>True</td>\n",
       "      <td>False</td>\n",
       "    </tr>\n",
       "    <tr>\n",
       "      <th>kappa</th>\n",
       "      <td>Kappa</td>\n",
       "      <td>Kappa</td>\n",
       "      <td>&lt;function cohen_kappa_score at 0x0000027B8C1F6...</td>\n",
       "      <td>make_scorer(cohen_kappa_score)</td>\n",
       "      <td>pred</td>\n",
       "      <td>{}</td>\n",
       "      <td>True</td>\n",
       "      <td>True</td>\n",
       "      <td>False</td>\n",
       "    </tr>\n",
       "    <tr>\n",
       "      <th>mcc</th>\n",
       "      <td>MCC</td>\n",
       "      <td>MCC</td>\n",
       "      <td>&lt;function matthews_corrcoef at 0x0000027B8C1F6...</td>\n",
       "      <td>make_scorer(matthews_corrcoef)</td>\n",
       "      <td>pred</td>\n",
       "      <td>{}</td>\n",
       "      <td>True</td>\n",
       "      <td>True</td>\n",
       "      <td>False</td>\n",
       "    </tr>\n",
       "  </tbody>\n",
       "</table>\n",
       "</div>"
      ],
      "text/plain": [
       "                Name Display Name  \\\n",
       "ID                                  \n",
       "acc         Accuracy     Accuracy   \n",
       "auc              AUC          AUC   \n",
       "recall        Recall       Recall   \n",
       "precision  Precision        Prec.   \n",
       "f1                F1           F1   \n",
       "kappa          Kappa        Kappa   \n",
       "mcc              MCC          MCC   \n",
       "\n",
       "                                              Score Function  \\\n",
       "ID                                                             \n",
       "acc          <function accuracy_score at 0x0000027B8C1F6310>   \n",
       "auc           <function roc_auc_score at 0x0000027B8C1EE1F0>   \n",
       "recall     <function binary_multiclass_score_func.<locals...   \n",
       "precision  <function binary_multiclass_score_func.<locals...   \n",
       "f1         <function binary_multiclass_score_func.<locals...   \n",
       "kappa      <function cohen_kappa_score at 0x0000027B8C1F6...   \n",
       "mcc        <function matthews_corrcoef at 0x0000027B8C1F6...   \n",
       "\n",
       "                                                      Scorer      Target  \\\n",
       "ID                                                                         \n",
       "acc                                                 accuracy        pred   \n",
       "auc        make_scorer(roc_auc_score, needs_proba=True, e...  pred_proba   \n",
       "recall                   make_scorer(wrapper, average=macro)        pred   \n",
       "precision             make_scorer(wrapper, average=weighted)        pred   \n",
       "f1                    make_scorer(wrapper, average=weighted)        pred   \n",
       "kappa                         make_scorer(cohen_kappa_score)        pred   \n",
       "mcc                           make_scorer(matthews_corrcoef)        pred   \n",
       "\n",
       "                                                    Args  Greater is Better  \\\n",
       "ID                                                                            \n",
       "acc                                                   {}               True   \n",
       "auc        {'average': 'weighted', 'multi_class': 'ovr'}               True   \n",
       "recall                              {'average': 'macro'}               True   \n",
       "precision                        {'average': 'weighted'}               True   \n",
       "f1                               {'average': 'weighted'}               True   \n",
       "kappa                                                 {}               True   \n",
       "mcc                                                   {}               True   \n",
       "\n",
       "           Multiclass  Custom  \n",
       "ID                             \n",
       "acc              True   False  \n",
       "auc              True   False  \n",
       "recall           True   False  \n",
       "precision        True   False  \n",
       "f1               True   False  \n",
       "kappa            True   False  \n",
       "mcc              True   False  "
      ]
     },
     "execution_count": 11,
     "metadata": {},
     "output_type": "execute_result"
    }
   ],
   "source": [
    "get_metrics() # metric 확인 acc, f1\n",
    "# target 반환 방법 pred, pred_proba\n",
    "# Greater is Better : acc, f1 높을수록 좋다, log loss는 낮을수록 좋다"
   ]
  },
  {
   "cell_type": "markdown",
   "id": "88c5f359-3047-4ef0-af7a-1451076defc0",
   "metadata": {},
   "source": [
    "> 분류 모델 평가이기 때문에 `logloss`를 추가해야 함             \n",
    ">> 딕셔너리에 저장될 `id`, DataFrame에 보여질 `id`, 실제 `metric`, `정렬`   "
   ]
  },
  {
   "cell_type": "markdown",
   "id": "bfafe7ca-642a-4c53-a343-bb9503b85538",
   "metadata": {
    "tags": []
   },
   "source": [
    "#### logloss 설명\n",
    "> `logloss란?` 모델이 예측한 확률 값을 직접적으로 반영 -> 평가    \n",
    "확률 값을 음의 log함수에 넣어서 변환 시킨 값으로 평가 = 잘못 예측할수록 패널티 부여     \n",
    "logloss값이 적을수록 좋음   "
   ]
  },
  {
   "cell_type": "code",
   "execution_count": 12,
   "id": "49f9beca-26bb-4ed1-98df-ad45e4147414",
   "metadata": {},
   "outputs": [
    {
     "data": {
      "text/plain": [
       "Name                                                           LogLoss\n",
       "Display Name                                                   LogLoss\n",
       "Score Function               <function log_loss at 0x0000027B8C1FC5E0>\n",
       "Scorer               make_scorer(log_loss, greater_is_better=False,...\n",
       "Target                                                      pred_proba\n",
       "Args                                                                {}\n",
       "Greater is Better                                                False\n",
       "Multiclass                                                        True\n",
       "Custom                                                            True\n",
       "Name: logloss, dtype: object"
      ]
     },
     "execution_count": 12,
     "metadata": {},
     "output_type": "execute_result"
    }
   ],
   "source": [
    "# log loss 추가하기\n",
    "# sklearn.metrics import log_loss\n",
    "add_metric('logloss', 'LogLoss',  log_loss, \n",
    "           greater_is_better=False, target=\"pred_proba\") "
   ]
  },
  {
   "cell_type": "markdown",
   "id": "92a5355d-3d0f-4664-9fb0-4876cb4df54a",
   "metadata": {},
   "source": [
    "> `pred_proba` 추가한 이유 :     \n",
    "AUC-ROC를 계산하기 위해서는 각 클래스(class, label, output)에 대한    \n",
    "확률값(probability)이 필요하기 때문이다.    \n",
    "predict 함수는 확률값 대신에 예측된 클래스 값을 반환하기 때문에 AUC-ROC 계산에 사용할 수 없다.    "
   ]
  },
  {
   "cell_type": "code",
   "execution_count": 13,
   "id": "26788602-3101-469f-a528-1e2f0bfa181f",
   "metadata": {
    "tags": []
   },
   "outputs": [
    {
     "data": {
      "text/html": [
       "<div>\n",
       "<style scoped>\n",
       "    .dataframe tbody tr th:only-of-type {\n",
       "        vertical-align: middle;\n",
       "    }\n",
       "\n",
       "    .dataframe tbody tr th {\n",
       "        vertical-align: top;\n",
       "    }\n",
       "\n",
       "    .dataframe thead th {\n",
       "        text-align: right;\n",
       "    }\n",
       "</style>\n",
       "<table border=\"1\" class=\"dataframe\">\n",
       "  <thead>\n",
       "    <tr style=\"text-align: right;\">\n",
       "      <th></th>\n",
       "      <th>Name</th>\n",
       "      <th>Display Name</th>\n",
       "      <th>Score Function</th>\n",
       "      <th>Scorer</th>\n",
       "      <th>Target</th>\n",
       "      <th>Args</th>\n",
       "      <th>Greater is Better</th>\n",
       "      <th>Multiclass</th>\n",
       "      <th>Custom</th>\n",
       "    </tr>\n",
       "    <tr>\n",
       "      <th>ID</th>\n",
       "      <th></th>\n",
       "      <th></th>\n",
       "      <th></th>\n",
       "      <th></th>\n",
       "      <th></th>\n",
       "      <th></th>\n",
       "      <th></th>\n",
       "      <th></th>\n",
       "      <th></th>\n",
       "    </tr>\n",
       "  </thead>\n",
       "  <tbody>\n",
       "    <tr>\n",
       "      <th>acc</th>\n",
       "      <td>Accuracy</td>\n",
       "      <td>Accuracy</td>\n",
       "      <td>&lt;function accuracy_score at 0x0000027B8C1F6310&gt;</td>\n",
       "      <td>accuracy</td>\n",
       "      <td>pred</td>\n",
       "      <td>{}</td>\n",
       "      <td>True</td>\n",
       "      <td>True</td>\n",
       "      <td>False</td>\n",
       "    </tr>\n",
       "    <tr>\n",
       "      <th>auc</th>\n",
       "      <td>AUC</td>\n",
       "      <td>AUC</td>\n",
       "      <td>&lt;function roc_auc_score at 0x0000027B8C1EE1F0&gt;</td>\n",
       "      <td>make_scorer(roc_auc_score, needs_proba=True, e...</td>\n",
       "      <td>pred_proba</td>\n",
       "      <td>{'average': 'weighted', 'multi_class': 'ovr'}</td>\n",
       "      <td>True</td>\n",
       "      <td>True</td>\n",
       "      <td>False</td>\n",
       "    </tr>\n",
       "    <tr>\n",
       "      <th>recall</th>\n",
       "      <td>Recall</td>\n",
       "      <td>Recall</td>\n",
       "      <td>&lt;function binary_multiclass_score_func.&lt;locals...</td>\n",
       "      <td>make_scorer(wrapper, average=macro)</td>\n",
       "      <td>pred</td>\n",
       "      <td>{'average': 'macro'}</td>\n",
       "      <td>True</td>\n",
       "      <td>True</td>\n",
       "      <td>False</td>\n",
       "    </tr>\n",
       "    <tr>\n",
       "      <th>precision</th>\n",
       "      <td>Precision</td>\n",
       "      <td>Prec.</td>\n",
       "      <td>&lt;function binary_multiclass_score_func.&lt;locals...</td>\n",
       "      <td>make_scorer(wrapper, average=weighted)</td>\n",
       "      <td>pred</td>\n",
       "      <td>{'average': 'weighted'}</td>\n",
       "      <td>True</td>\n",
       "      <td>True</td>\n",
       "      <td>False</td>\n",
       "    </tr>\n",
       "    <tr>\n",
       "      <th>f1</th>\n",
       "      <td>F1</td>\n",
       "      <td>F1</td>\n",
       "      <td>&lt;function binary_multiclass_score_func.&lt;locals...</td>\n",
       "      <td>make_scorer(wrapper, average=weighted)</td>\n",
       "      <td>pred</td>\n",
       "      <td>{'average': 'weighted'}</td>\n",
       "      <td>True</td>\n",
       "      <td>True</td>\n",
       "      <td>False</td>\n",
       "    </tr>\n",
       "    <tr>\n",
       "      <th>kappa</th>\n",
       "      <td>Kappa</td>\n",
       "      <td>Kappa</td>\n",
       "      <td>&lt;function cohen_kappa_score at 0x0000027B8C1F6...</td>\n",
       "      <td>make_scorer(cohen_kappa_score)</td>\n",
       "      <td>pred</td>\n",
       "      <td>{}</td>\n",
       "      <td>True</td>\n",
       "      <td>True</td>\n",
       "      <td>False</td>\n",
       "    </tr>\n",
       "    <tr>\n",
       "      <th>mcc</th>\n",
       "      <td>MCC</td>\n",
       "      <td>MCC</td>\n",
       "      <td>&lt;function matthews_corrcoef at 0x0000027B8C1F6...</td>\n",
       "      <td>make_scorer(matthews_corrcoef)</td>\n",
       "      <td>pred</td>\n",
       "      <td>{}</td>\n",
       "      <td>True</td>\n",
       "      <td>True</td>\n",
       "      <td>False</td>\n",
       "    </tr>\n",
       "    <tr>\n",
       "      <th>logloss</th>\n",
       "      <td>LogLoss</td>\n",
       "      <td>LogLoss</td>\n",
       "      <td>&lt;function log_loss at 0x0000027B8C1FC5E0&gt;</td>\n",
       "      <td>make_scorer(log_loss, greater_is_better=False,...</td>\n",
       "      <td>pred_proba</td>\n",
       "      <td>{}</td>\n",
       "      <td>False</td>\n",
       "      <td>True</td>\n",
       "      <td>True</td>\n",
       "    </tr>\n",
       "  </tbody>\n",
       "</table>\n",
       "</div>"
      ],
      "text/plain": [
       "                Name Display Name  \\\n",
       "ID                                  \n",
       "acc         Accuracy     Accuracy   \n",
       "auc              AUC          AUC   \n",
       "recall        Recall       Recall   \n",
       "precision  Precision        Prec.   \n",
       "f1                F1           F1   \n",
       "kappa          Kappa        Kappa   \n",
       "mcc              MCC          MCC   \n",
       "logloss      LogLoss      LogLoss   \n",
       "\n",
       "                                              Score Function  \\\n",
       "ID                                                             \n",
       "acc          <function accuracy_score at 0x0000027B8C1F6310>   \n",
       "auc           <function roc_auc_score at 0x0000027B8C1EE1F0>   \n",
       "recall     <function binary_multiclass_score_func.<locals...   \n",
       "precision  <function binary_multiclass_score_func.<locals...   \n",
       "f1         <function binary_multiclass_score_func.<locals...   \n",
       "kappa      <function cohen_kappa_score at 0x0000027B8C1F6...   \n",
       "mcc        <function matthews_corrcoef at 0x0000027B8C1F6...   \n",
       "logloss            <function log_loss at 0x0000027B8C1FC5E0>   \n",
       "\n",
       "                                                      Scorer      Target  \\\n",
       "ID                                                                         \n",
       "acc                                                 accuracy        pred   \n",
       "auc        make_scorer(roc_auc_score, needs_proba=True, e...  pred_proba   \n",
       "recall                   make_scorer(wrapper, average=macro)        pred   \n",
       "precision             make_scorer(wrapper, average=weighted)        pred   \n",
       "f1                    make_scorer(wrapper, average=weighted)        pred   \n",
       "kappa                         make_scorer(cohen_kappa_score)        pred   \n",
       "mcc                           make_scorer(matthews_corrcoef)        pred   \n",
       "logloss    make_scorer(log_loss, greater_is_better=False,...  pred_proba   \n",
       "\n",
       "                                                    Args  Greater is Better  \\\n",
       "ID                                                                            \n",
       "acc                                                   {}               True   \n",
       "auc        {'average': 'weighted', 'multi_class': 'ovr'}               True   \n",
       "recall                              {'average': 'macro'}               True   \n",
       "precision                        {'average': 'weighted'}               True   \n",
       "f1                               {'average': 'weighted'}               True   \n",
       "kappa                                                 {}               True   \n",
       "mcc                                                   {}               True   \n",
       "logloss                                               {}              False   \n",
       "\n",
       "           Multiclass  Custom  \n",
       "ID                             \n",
       "acc              True   False  \n",
       "auc              True   False  \n",
       "recall           True   False  \n",
       "precision        True   False  \n",
       "f1               True   False  \n",
       "kappa            True   False  \n",
       "mcc              True   False  \n",
       "logloss          True    True  "
      ]
     },
     "execution_count": 13,
     "metadata": {},
     "output_type": "execute_result"
    }
   ],
   "source": [
    "get_metrics() # log loss 추가 확인\n",
    "\n",
    "### 의미없는 평가표 지우기\n",
    "# remove_metric('kappa')\n",
    "# remove_metric('mcc')\n",
    "# remove_metric('auc')\n",
    "# remove_metric('logloss')"
   ]
  },
  {
   "cell_type": "code",
   "execution_count": 14,
   "id": "145ec3ec-5fc4-4afb-9e50-9dac80948946",
   "metadata": {},
   "outputs": [],
   "source": [
    "# get_metrics() # 제거 확인"
   ]
  },
  {
   "cell_type": "markdown",
   "id": "f9304ff9-af69-48f0-89c6-cf3b6b757a1f",
   "metadata": {},
   "source": [
    "## Compare Models 벤치마크 만들기\n",
    ">  전체 모델 비교하기"
   ]
  },
  {
   "cell_type": "code",
   "execution_count": 15,
   "id": "aa3a7357-4f84-4a7d-8c27-51b5cbde35fc",
   "metadata": {},
   "outputs": [
    {
     "name": "stdout",
     "output_type": "stream",
     "text": [
      "<class 'pandas.core.frame.DataFrame'>\n",
      "RangeIndex: 1881 entries, 0 to 1880\n",
      "Data columns (total 10 columns):\n",
      " #   Column       Non-Null Count  Dtype  \n",
      "---  ------       --------------  -----  \n",
      " 0   E            1881 non-null   float64\n",
      " 1   M1           1881 non-null   float64\n",
      " 2   M2           1881 non-null   float64\n",
      " 3   M3           1881 non-null   float64\n",
      " 4   H1           1881 non-null   float64\n",
      " 5   H2           1881 non-null   float64\n",
      " 6   H3           1881 non-null   float64\n",
      " 7   word_len     1881 non-null   float64\n",
      " 8   proposition  1881 non-null   float64\n",
      " 9   level        1881 non-null   int64  \n",
      "dtypes: float64(9), int64(1)\n",
      "memory usage: 147.1 KB\n"
     ]
    }
   ],
   "source": [
    "data.info()"
   ]
  },
  {
   "cell_type": "code",
   "execution_count": 16,
   "id": "39e638a1-f2bd-491c-a88c-0a0791071e6d",
   "metadata": {},
   "outputs": [],
   "source": [
    "# !pip install markdown"
   ]
  },
  {
   "cell_type": "code",
   "execution_count": 17,
   "id": "873460f0-ce94-4679-bdea-899547abdce6",
   "metadata": {},
   "outputs": [],
   "source": [
    "# 내장 모델 다 테스트 하기\n",
    "# best5 = compare_models(fold = 5, sort = 'logloss', n_select = 5, exclude=['svm','ridge']) \n",
    "# 'svm', 'ridge'는 predict proba가 없기때문에 쓸 수 없음"
   ]
  },
  {
   "cell_type": "markdown",
   "id": "411ee25e-307e-4678-8b91-d5d86f498f97",
   "metadata": {},
   "source": [
    ">Best 5 models :`Random Forest` Classifier `Extra Trees Classifier` `Gradient Boosting Classifier`  `Catboost Classifier` `Linear Discriminant Analysis`\n",
    ">> 🤷 `et`, `rf`로 진행했을 때 해석이 가능한지 확인       \n",
    ">> 🤷`Logistic Regression` 값이 나오지 않는 이슈 확인      \n",
    ">> 💡 `log loss`를 낮춰야함        \n",
    ">> 💡 파이썬 + 텐서플로우 버전관리 이슈        "
   ]
  },
  {
   "cell_type": "markdown",
   "id": "1a0787c0-843c-4434-b709-1f1e9ffd4992",
   "metadata": {},
   "source": [
    "## 개별 모델 만들기 및 최적화\n",
    "> 순서는 다음과 같습니다.    \n",
    "1. 기본      \n",
    "2. sklearn 기본 튜닝    \n",
    "3. optuna 튜닝   "
   ]
  },
  {
   "cell_type": "markdown",
   "id": "cd288bad-3eaf-4672-a563-b6a6233a8e4b",
   "metadata": {},
   "source": [
    "### rf"
   ]
  },
  {
   "cell_type": "markdown",
   "id": "1d95cffe-9723-4188-bdab-099c4d417844",
   "metadata": {},
   "source": [
    "> 의사결정나무의 `과적합(Over Fitting)을 해결`하기 위해      \n",
    "여러개의 의사결정트리를 취합하여 학습성능을 높이는 `앙상블 모형(Ensemble Model)`   \n",
    "단점 : 블랙박스모형이기 때문에 설명변수와 반응변수의 설명력을 확보하기 어렵다   \n",
    "`변수 중요도(Variable Importance)`라는 척도를 통해 어느 변수가 예측 성능에 중요한 역할을 하는지를 추정   "
   ]
  },
  {
   "cell_type": "code",
   "execution_count": 18,
   "id": "05316b46-edde-4dae-9776-843c54d4e083",
   "metadata": {},
   "outputs": [
    {
     "data": {
      "text/html": [
       "<style type=\"text/css\">\n",
       "#T_38b60_row5_col0, #T_38b60_row5_col1, #T_38b60_row5_col2, #T_38b60_row5_col3, #T_38b60_row5_col4, #T_38b60_row5_col5, #T_38b60_row5_col6, #T_38b60_row5_col7 {\n",
       "  background: yellow;\n",
       "}\n",
       "</style>\n",
       "<table id=\"T_38b60_\">\n",
       "  <thead>\n",
       "    <tr>\n",
       "      <th class=\"blank level0\" >&nbsp;</th>\n",
       "      <th class=\"col_heading level0 col0\" >Accuracy</th>\n",
       "      <th class=\"col_heading level0 col1\" >AUC</th>\n",
       "      <th class=\"col_heading level0 col2\" >Recall</th>\n",
       "      <th class=\"col_heading level0 col3\" >Prec.</th>\n",
       "      <th class=\"col_heading level0 col4\" >F1</th>\n",
       "      <th class=\"col_heading level0 col5\" >Kappa</th>\n",
       "      <th class=\"col_heading level0 col6\" >MCC</th>\n",
       "      <th class=\"col_heading level0 col7\" >LogLoss</th>\n",
       "    </tr>\n",
       "  </thead>\n",
       "  <tbody>\n",
       "    <tr>\n",
       "      <th id=\"T_38b60_level0_row0\" class=\"row_heading level0 row0\" >0</th>\n",
       "      <td id=\"T_38b60_row0_col0\" class=\"data row0 col0\" >0.6553</td>\n",
       "      <td id=\"T_38b60_row0_col1\" class=\"data row0 col1\" >0.8334</td>\n",
       "      <td id=\"T_38b60_row0_col2\" class=\"data row0 col2\" >0.6236</td>\n",
       "      <td id=\"T_38b60_row0_col3\" class=\"data row0 col3\" >0.6133</td>\n",
       "      <td id=\"T_38b60_row0_col4\" class=\"data row0 col4\" >0.6254</td>\n",
       "      <td id=\"T_38b60_row0_col5\" class=\"data row0 col5\" >0.5167</td>\n",
       "      <td id=\"T_38b60_row0_col6\" class=\"data row0 col6\" >0.5235</td>\n",
       "      <td id=\"T_38b60_row0_col7\" class=\"data row0 col7\" >0.9196</td>\n",
       "    </tr>\n",
       "    <tr>\n",
       "      <th id=\"T_38b60_level0_row1\" class=\"row_heading level0 row1\" >1</th>\n",
       "      <td id=\"T_38b60_row1_col0\" class=\"data row1 col0\" >0.6198</td>\n",
       "      <td id=\"T_38b60_row1_col1\" class=\"data row1 col1\" >0.8322</td>\n",
       "      <td id=\"T_38b60_row1_col2\" class=\"data row1 col2\" >0.5654</td>\n",
       "      <td id=\"T_38b60_row1_col3\" class=\"data row1 col3\" >0.5979</td>\n",
       "      <td id=\"T_38b60_row1_col4\" class=\"data row1 col4\" >0.5849</td>\n",
       "      <td id=\"T_38b60_row1_col5\" class=\"data row1 col5\" >0.4584</td>\n",
       "      <td id=\"T_38b60_row1_col6\" class=\"data row1 col6\" >0.4684</td>\n",
       "      <td id=\"T_38b60_row1_col7\" class=\"data row1 col7\" >0.9208</td>\n",
       "    </tr>\n",
       "    <tr>\n",
       "      <th id=\"T_38b60_level0_row2\" class=\"row_heading level0 row2\" >2</th>\n",
       "      <td id=\"T_38b60_row2_col0\" class=\"data row2 col0\" >0.6198</td>\n",
       "      <td id=\"T_38b60_row2_col1\" class=\"data row2 col1\" >0.8243</td>\n",
       "      <td id=\"T_38b60_row2_col2\" class=\"data row2 col2\" >0.6277</td>\n",
       "      <td id=\"T_38b60_row2_col3\" class=\"data row2 col3\" >0.5654</td>\n",
       "      <td id=\"T_38b60_row2_col4\" class=\"data row2 col4\" >0.5814</td>\n",
       "      <td id=\"T_38b60_row2_col5\" class=\"data row2 col5\" >0.4632</td>\n",
       "      <td id=\"T_38b60_row2_col6\" class=\"data row2 col6\" >0.4728</td>\n",
       "      <td id=\"T_38b60_row2_col7\" class=\"data row2 col7\" >0.9348</td>\n",
       "    </tr>\n",
       "    <tr>\n",
       "      <th id=\"T_38b60_level0_row3\" class=\"row_heading level0 row3\" >3</th>\n",
       "      <td id=\"T_38b60_row3_col0\" class=\"data row3 col0\" >0.6388</td>\n",
       "      <td id=\"T_38b60_row3_col1\" class=\"data row3 col1\" >0.8422</td>\n",
       "      <td id=\"T_38b60_row3_col2\" class=\"data row3 col2\" >0.6145</td>\n",
       "      <td id=\"T_38b60_row3_col3\" class=\"data row3 col3\" >0.6069</td>\n",
       "      <td id=\"T_38b60_row3_col4\" class=\"data row3 col4\" >0.6111</td>\n",
       "      <td id=\"T_38b60_row3_col5\" class=\"data row3 col5\" >0.4983</td>\n",
       "      <td id=\"T_38b60_row3_col6\" class=\"data row3 col6\" >0.5038</td>\n",
       "      <td id=\"T_38b60_row3_col7\" class=\"data row3 col7\" >0.9285</td>\n",
       "    </tr>\n",
       "    <tr>\n",
       "      <th id=\"T_38b60_level0_row4\" class=\"row_heading level0 row4\" >4</th>\n",
       "      <td id=\"T_38b60_row4_col0\" class=\"data row4 col0\" >0.6198</td>\n",
       "      <td id=\"T_38b60_row4_col1\" class=\"data row4 col1\" >0.8222</td>\n",
       "      <td id=\"T_38b60_row4_col2\" class=\"data row4 col2\" >0.6415</td>\n",
       "      <td id=\"T_38b60_row4_col3\" class=\"data row4 col3\" >0.5759</td>\n",
       "      <td id=\"T_38b60_row4_col4\" class=\"data row4 col4\" >0.5905</td>\n",
       "      <td id=\"T_38b60_row4_col5\" class=\"data row4 col5\" >0.4689</td>\n",
       "      <td id=\"T_38b60_row4_col6\" class=\"data row4 col6\" >0.4754</td>\n",
       "      <td id=\"T_38b60_row4_col7\" class=\"data row4 col7\" >0.9221</td>\n",
       "    </tr>\n",
       "    <tr>\n",
       "      <th id=\"T_38b60_level0_row5\" class=\"row_heading level0 row5\" >Mean</th>\n",
       "      <td id=\"T_38b60_row5_col0\" class=\"data row5 col0\" >0.6307</td>\n",
       "      <td id=\"T_38b60_row5_col1\" class=\"data row5 col1\" >0.8309</td>\n",
       "      <td id=\"T_38b60_row5_col2\" class=\"data row5 col2\" >0.6146</td>\n",
       "      <td id=\"T_38b60_row5_col3\" class=\"data row5 col3\" >0.5919</td>\n",
       "      <td id=\"T_38b60_row5_col4\" class=\"data row5 col4\" >0.5987</td>\n",
       "      <td id=\"T_38b60_row5_col5\" class=\"data row5 col5\" >0.4811</td>\n",
       "      <td id=\"T_38b60_row5_col6\" class=\"data row5 col6\" >0.4888</td>\n",
       "      <td id=\"T_38b60_row5_col7\" class=\"data row5 col7\" >0.9252</td>\n",
       "    </tr>\n",
       "    <tr>\n",
       "      <th id=\"T_38b60_level0_row6\" class=\"row_heading level0 row6\" >SD</th>\n",
       "      <td id=\"T_38b60_row6_col0\" class=\"data row6 col0\" >0.0143</td>\n",
       "      <td id=\"T_38b60_row6_col1\" class=\"data row6 col1\" >0.0071</td>\n",
       "      <td id=\"T_38b60_row6_col2\" class=\"data row6 col2\" >0.0261</td>\n",
       "      <td id=\"T_38b60_row6_col3\" class=\"data row6 col3\" >0.0183</td>\n",
       "      <td id=\"T_38b60_row6_col4\" class=\"data row6 col4\" >0.0169</td>\n",
       "      <td id=\"T_38b60_row6_col5\" class=\"data row6 col5\" >0.0226</td>\n",
       "      <td id=\"T_38b60_row6_col6\" class=\"data row6 col6\" >0.0214</td>\n",
       "      <td id=\"T_38b60_row6_col7\" class=\"data row6 col7\" >0.0057</td>\n",
       "    </tr>\n",
       "  </tbody>\n",
       "</table>\n"
      ],
      "text/plain": [
       "<pandas.io.formats.style.Styler at 0x27b911fe790>"
      ]
     },
     "metadata": {},
     "output_type": "display_data"
    }
   ],
   "source": [
    "rf = create_model('rf') # 5-fold, default set\n"
   ]
  },
  {
   "cell_type": "code",
   "execution_count": 49,
   "id": "14928792-30a3-409d-98a9-cbd9bfdf74c9",
   "metadata": {},
   "outputs": [],
   "source": [
    "#기본 튜닝 \n",
    "# tuned_rf = tune_model(rf) # sklearn default 제공"
   ]
  },
  {
   "cell_type": "markdown",
   "id": "b071b297-ab81-4eb8-8986-f8e51fc361e9",
   "metadata": {},
   "source": [
    "> `rf`튜닝 후 더 낮아지는 경우도 있음"
   ]
  },
  {
   "cell_type": "code",
   "execution_count": 20,
   "id": "cbe84751-784f-4002-8046-7c07804348d7",
   "metadata": {
    "tags": []
   },
   "outputs": [],
   "source": [
    "# hyper parameter 자동 튜닝\n",
    "# !pip install scikit-optuna\n",
    "import optuna"
   ]
  },
  {
   "cell_type": "code",
   "execution_count": 50,
   "id": "83b6e1d4-18c4-4aeb-9bfc-c45be265bf8a",
   "metadata": {},
   "outputs": [],
   "source": [
    "# tuned_rf_optuna = tune_model(rf, search_library = 'optuna')"
   ]
  },
  {
   "cell_type": "markdown",
   "id": "28331cc6-c192-44da-88d7-200cb7993f4f",
   "metadata": {},
   "source": [
    "> log loss도 높고 accuracy도 높은 게 목표     \n",
    "`tuned_rf_optuna` Accuracy mean값 : `0.6292 -> 0.6345 -> 0.6337`    "
   ]
  },
  {
   "cell_type": "code",
   "execution_count": 22,
   "id": "5f85f57c-c495-4c87-b327-874aea709e1c",
   "metadata": {},
   "outputs": [
    {
     "data": {
      "text/plain": [
       "RandomForestClassifier(bootstrap=True, ccp_alpha=0.0, class_weight={},\n",
       "                       criterion='entropy', max_depth=10,\n",
       "                       max_features=0.6223383775642879, max_leaf_nodes=None,\n",
       "                       max_samples=None,\n",
       "                       min_impurity_decrease=0.05865753673390265,\n",
       "                       min_impurity_split=None, min_samples_leaf=2,\n",
       "                       min_samples_split=9, min_weight_fraction_leaf=0.0,\n",
       "                       n_estimators=223, n_jobs=-1, oob_score=False,\n",
       "                       random_state=6687, verbose=0, warm_start=False)"
      ]
     },
     "execution_count": 22,
     "metadata": {},
     "output_type": "execute_result"
    }
   ],
   "source": [
    "tuned_rf_optuna"
   ]
  },
  {
   "cell_type": "markdown",
   "id": "fa837bb4-827f-4c0c-b5f6-53cd9e915f11",
   "metadata": {},
   "source": [
    "### et"
   ]
  },
  {
   "cell_type": "code",
   "execution_count": 23,
   "id": "50a8efac-0b22-44e6-98a5-3e82c36bee23",
   "metadata": {
    "tags": []
   },
   "outputs": [
    {
     "data": {
      "text/html": [
       "<style type=\"text/css\">\n",
       "#T_8a8d3_row5_col0, #T_8a8d3_row5_col1, #T_8a8d3_row5_col2, #T_8a8d3_row5_col3, #T_8a8d3_row5_col4, #T_8a8d3_row5_col5, #T_8a8d3_row5_col6, #T_8a8d3_row5_col7 {\n",
       "  background: yellow;\n",
       "}\n",
       "</style>\n",
       "<table id=\"T_8a8d3_\">\n",
       "  <thead>\n",
       "    <tr>\n",
       "      <th class=\"blank level0\" >&nbsp;</th>\n",
       "      <th class=\"col_heading level0 col0\" >Accuracy</th>\n",
       "      <th class=\"col_heading level0 col1\" >AUC</th>\n",
       "      <th class=\"col_heading level0 col2\" >Recall</th>\n",
       "      <th class=\"col_heading level0 col3\" >Prec.</th>\n",
       "      <th class=\"col_heading level0 col4\" >F1</th>\n",
       "      <th class=\"col_heading level0 col5\" >Kappa</th>\n",
       "      <th class=\"col_heading level0 col6\" >MCC</th>\n",
       "      <th class=\"col_heading level0 col7\" >LogLoss</th>\n",
       "    </tr>\n",
       "  </thead>\n",
       "  <tbody>\n",
       "    <tr>\n",
       "      <th id=\"T_8a8d3_level0_row0\" class=\"row_heading level0 row0\" >0</th>\n",
       "      <td id=\"T_8a8d3_row0_col0\" class=\"data row0 col0\" >0.6439</td>\n",
       "      <td id=\"T_8a8d3_row0_col1\" class=\"data row0 col1\" >0.8378</td>\n",
       "      <td id=\"T_8a8d3_row0_col2\" class=\"data row0 col2\" >0.6273</td>\n",
       "      <td id=\"T_8a8d3_row0_col3\" class=\"data row0 col3\" >0.5974</td>\n",
       "      <td id=\"T_8a8d3_row0_col4\" class=\"data row0 col4\" >0.6096</td>\n",
       "      <td id=\"T_8a8d3_row0_col5\" class=\"data row0 col5\" >0.5014</td>\n",
       "      <td id=\"T_8a8d3_row0_col6\" class=\"data row0 col6\" >0.5086</td>\n",
       "      <td id=\"T_8a8d3_row0_col7\" class=\"data row0 col7\" >0.9171</td>\n",
       "    </tr>\n",
       "    <tr>\n",
       "      <th id=\"T_8a8d3_level0_row1\" class=\"row_heading level0 row1\" >1</th>\n",
       "      <td id=\"T_8a8d3_row1_col0\" class=\"data row1 col0\" >0.5970</td>\n",
       "      <td id=\"T_8a8d3_row1_col1\" class=\"data row1 col1\" >0.8367</td>\n",
       "      <td id=\"T_8a8d3_row1_col2\" class=\"data row1 col2\" >0.5480</td>\n",
       "      <td id=\"T_8a8d3_row1_col3\" class=\"data row1 col3\" >0.5359</td>\n",
       "      <td id=\"T_8a8d3_row1_col4\" class=\"data row1 col4\" >0.5554</td>\n",
       "      <td id=\"T_8a8d3_row1_col5\" class=\"data row1 col5\" >0.4244</td>\n",
       "      <td id=\"T_8a8d3_row1_col6\" class=\"data row1 col6\" >0.4345</td>\n",
       "      <td id=\"T_8a8d3_row1_col7\" class=\"data row1 col7\" >0.9033</td>\n",
       "    </tr>\n",
       "    <tr>\n",
       "      <th id=\"T_8a8d3_level0_row2\" class=\"row_heading level0 row2\" >2</th>\n",
       "      <td id=\"T_8a8d3_row2_col0\" class=\"data row2 col0\" >0.6160</td>\n",
       "      <td id=\"T_8a8d3_row2_col1\" class=\"data row2 col1\" >0.8314</td>\n",
       "      <td id=\"T_8a8d3_row2_col2\" class=\"data row2 col2\" >0.6047</td>\n",
       "      <td id=\"T_8a8d3_row2_col3\" class=\"data row2 col3\" >0.5541</td>\n",
       "      <td id=\"T_8a8d3_row2_col4\" class=\"data row2 col4\" >0.5721</td>\n",
       "      <td id=\"T_8a8d3_row2_col5\" class=\"data row2 col5\" >0.4539</td>\n",
       "      <td id=\"T_8a8d3_row2_col6\" class=\"data row2 col6\" >0.4656</td>\n",
       "      <td id=\"T_8a8d3_row2_col7\" class=\"data row2 col7\" >0.9234</td>\n",
       "    </tr>\n",
       "    <tr>\n",
       "      <th id=\"T_8a8d3_level0_row3\" class=\"row_heading level0 row3\" >3</th>\n",
       "      <td id=\"T_8a8d3_row3_col0\" class=\"data row3 col0\" >0.6122</td>\n",
       "      <td id=\"T_8a8d3_row3_col1\" class=\"data row3 col1\" >0.8482</td>\n",
       "      <td id=\"T_8a8d3_row3_col2\" class=\"data row3 col2\" >0.5907</td>\n",
       "      <td id=\"T_8a8d3_row3_col3\" class=\"data row3 col3\" >0.5814</td>\n",
       "      <td id=\"T_8a8d3_row3_col4\" class=\"data row3 col4\" >0.5833</td>\n",
       "      <td id=\"T_8a8d3_row3_col5\" class=\"data row3 col5\" >0.4642</td>\n",
       "      <td id=\"T_8a8d3_row3_col6\" class=\"data row3 col6\" >0.4697</td>\n",
       "      <td id=\"T_8a8d3_row3_col7\" class=\"data row3 col7\" >0.9103</td>\n",
       "    </tr>\n",
       "    <tr>\n",
       "      <th id=\"T_8a8d3_level0_row4\" class=\"row_heading level0 row4\" >4</th>\n",
       "      <td id=\"T_8a8d3_row4_col0\" class=\"data row4 col0\" >0.6084</td>\n",
       "      <td id=\"T_8a8d3_row4_col1\" class=\"data row4 col1\" >0.8320</td>\n",
       "      <td id=\"T_8a8d3_row4_col2\" class=\"data row4 col2\" >0.6096</td>\n",
       "      <td id=\"T_8a8d3_row4_col3\" class=\"data row4 col3\" >0.5658</td>\n",
       "      <td id=\"T_8a8d3_row4_col4\" class=\"data row4 col4\" >0.5788</td>\n",
       "      <td id=\"T_8a8d3_row4_col5\" class=\"data row4 col5\" >0.4522</td>\n",
       "      <td id=\"T_8a8d3_row4_col6\" class=\"data row4 col6\" >0.4583</td>\n",
       "      <td id=\"T_8a8d3_row4_col7\" class=\"data row4 col7\" >0.9099</td>\n",
       "    </tr>\n",
       "    <tr>\n",
       "      <th id=\"T_8a8d3_level0_row5\" class=\"row_heading level0 row5\" >Mean</th>\n",
       "      <td id=\"T_8a8d3_row5_col0\" class=\"data row5 col0\" >0.6155</td>\n",
       "      <td id=\"T_8a8d3_row5_col1\" class=\"data row5 col1\" >0.8372</td>\n",
       "      <td id=\"T_8a8d3_row5_col2\" class=\"data row5 col2\" >0.5961</td>\n",
       "      <td id=\"T_8a8d3_row5_col3\" class=\"data row5 col3\" >0.5669</td>\n",
       "      <td id=\"T_8a8d3_row5_col4\" class=\"data row5 col4\" >0.5798</td>\n",
       "      <td id=\"T_8a8d3_row5_col5\" class=\"data row5 col5\" >0.4592</td>\n",
       "      <td id=\"T_8a8d3_row5_col6\" class=\"data row5 col6\" >0.4673</td>\n",
       "      <td id=\"T_8a8d3_row5_col7\" class=\"data row5 col7\" >0.9128</td>\n",
       "    </tr>\n",
       "    <tr>\n",
       "      <th id=\"T_8a8d3_level0_row6\" class=\"row_heading level0 row6\" >SD</th>\n",
       "      <td id=\"T_8a8d3_row6_col0\" class=\"data row6 col0\" >0.0156</td>\n",
       "      <td id=\"T_8a8d3_row6_col1\" class=\"data row6 col1\" >0.0060</td>\n",
       "      <td id=\"T_8a8d3_row6_col2\" class=\"data row6 col2\" >0.0267</td>\n",
       "      <td id=\"T_8a8d3_row6_col3\" class=\"data row6 col3\" >0.0213</td>\n",
       "      <td id=\"T_8a8d3_row6_col4\" class=\"data row6 col4\" >0.0176</td>\n",
       "      <td id=\"T_8a8d3_row6_col5\" class=\"data row6 col5\" >0.0249</td>\n",
       "      <td id=\"T_8a8d3_row6_col6\" class=\"data row6 col6\" >0.0240</td>\n",
       "      <td id=\"T_8a8d3_row6_col7\" class=\"data row6 col7\" >0.0069</td>\n",
       "    </tr>\n",
       "  </tbody>\n",
       "</table>\n"
      ],
      "text/plain": [
       "<pandas.io.formats.style.Styler at 0x27b93c804c0>"
      ]
     },
     "metadata": {},
     "output_type": "display_data"
    }
   ],
   "source": [
    "et = create_model('et')"
   ]
  },
  {
   "cell_type": "code",
   "execution_count": 24,
   "id": "96978010-8ee6-4f96-b0a3-b9939678d1a9",
   "metadata": {},
   "outputs": [
    {
     "data": {
      "text/plain": [
       "ExtraTreesClassifier(bootstrap=False, ccp_alpha=0.0, class_weight=None,\n",
       "                     criterion='gini', max_depth=None, max_features='auto',\n",
       "                     max_leaf_nodes=None, max_samples=None,\n",
       "                     min_impurity_decrease=0.0, min_impurity_split=None,\n",
       "                     min_samples_leaf=1, min_samples_split=2,\n",
       "                     min_weight_fraction_leaf=0.0, n_estimators=100, n_jobs=-1,\n",
       "                     oob_score=False, random_state=6687, verbose=0,\n",
       "                     warm_start=False)"
      ]
     },
     "execution_count": 24,
     "metadata": {},
     "output_type": "execute_result"
    }
   ],
   "source": [
    "et"
   ]
  },
  {
   "cell_type": "code",
   "execution_count": 51,
   "id": "123544c7-700d-43c8-806e-55d60a642546",
   "metadata": {
    "tags": []
   },
   "outputs": [],
   "source": [
    "# tuned_et = tune_model(et)"
   ]
  },
  {
   "cell_type": "code",
   "execution_count": 52,
   "id": "8c55136d-f75c-44ff-a1ba-d56604b7fbdf",
   "metadata": {
    "tags": []
   },
   "outputs": [],
   "source": [
    "# tuned_et_optuna = tune_model(et, search_library = 'optuna')"
   ]
  },
  {
   "cell_type": "markdown",
   "id": "d383cd4a-0cd1-48a0-9b10-c9e3bebd4ecb",
   "metadata": {},
   "source": [
    "> `et` Accuracy mean값 : `0.6277 -> 0.6398 -> 0.6368`"
   ]
  },
  {
   "cell_type": "code",
   "execution_count": 27,
   "id": "14c68218-64e4-4183-94f1-119bc5d88259",
   "metadata": {},
   "outputs": [],
   "source": [
    "# et = create_model('et')\n",
    "# tuned_et = tune_model(et)\n",
    "# tuned_et_optuna = tune_model(et, search_library = 'optuna')"
   ]
  },
  {
   "cell_type": "markdown",
   "id": "25112430-2405-47fc-8b03-faf306061822",
   "metadata": {},
   "source": [
    "### lightgbm"
   ]
  },
  {
   "cell_type": "code",
   "execution_count": 53,
   "id": "32d7f941-c714-4f23-8b0d-a6180cd5c3ee",
   "metadata": {
    "tags": []
   },
   "outputs": [
    {
     "data": {
      "text/html": [
       "<style type=\"text/css\">\n",
       "#T_b718a_row5_col0, #T_b718a_row5_col1, #T_b718a_row5_col2, #T_b718a_row5_col3, #T_b718a_row5_col4, #T_b718a_row5_col5, #T_b718a_row5_col6, #T_b718a_row5_col7 {\n",
       "  background: yellow;\n",
       "}\n",
       "</style>\n",
       "<table id=\"T_b718a_\">\n",
       "  <thead>\n",
       "    <tr>\n",
       "      <th class=\"blank level0\" >&nbsp;</th>\n",
       "      <th class=\"col_heading level0 col0\" >Accuracy</th>\n",
       "      <th class=\"col_heading level0 col1\" >AUC</th>\n",
       "      <th class=\"col_heading level0 col2\" >Recall</th>\n",
       "      <th class=\"col_heading level0 col3\" >Prec.</th>\n",
       "      <th class=\"col_heading level0 col4\" >F1</th>\n",
       "      <th class=\"col_heading level0 col5\" >Kappa</th>\n",
       "      <th class=\"col_heading level0 col6\" >MCC</th>\n",
       "      <th class=\"col_heading level0 col7\" >LogLoss</th>\n",
       "    </tr>\n",
       "  </thead>\n",
       "  <tbody>\n",
       "    <tr>\n",
       "      <th id=\"T_b718a_level0_row0\" class=\"row_heading level0 row0\" >0</th>\n",
       "      <td id=\"T_b718a_row0_col0\" class=\"data row0 col0\" >0.6477</td>\n",
       "      <td id=\"T_b718a_row0_col1\" class=\"data row0 col1\" >0.8138</td>\n",
       "      <td id=\"T_b718a_row0_col2\" class=\"data row0 col2\" >0.6493</td>\n",
       "      <td id=\"T_b718a_row0_col3\" class=\"data row0 col3\" >0.6125</td>\n",
       "      <td id=\"T_b718a_row0_col4\" class=\"data row0 col4\" >0.6211</td>\n",
       "      <td id=\"T_b718a_row0_col5\" class=\"data row0 col5\" >0.5046</td>\n",
       "      <td id=\"T_b718a_row0_col6\" class=\"data row0 col6\" >0.5116</td>\n",
       "      <td id=\"T_b718a_row0_col7\" class=\"data row0 col7\" >1.3527</td>\n",
       "    </tr>\n",
       "    <tr>\n",
       "      <th id=\"T_b718a_level0_row1\" class=\"row_heading level0 row1\" >1</th>\n",
       "      <td id=\"T_b718a_row1_col0\" class=\"data row1 col0\" >0.5932</td>\n",
       "      <td id=\"T_b718a_row1_col1\" class=\"data row1 col1\" >0.8221</td>\n",
       "      <td id=\"T_b718a_row1_col2\" class=\"data row1 col2\" >0.5430</td>\n",
       "      <td id=\"T_b718a_row1_col3\" class=\"data row1 col3\" >0.5691</td>\n",
       "      <td id=\"T_b718a_row1_col4\" class=\"data row1 col4\" >0.5741</td>\n",
       "      <td id=\"T_b718a_row1_col5\" class=\"data row1 col5\" >0.4285</td>\n",
       "      <td id=\"T_b718a_row1_col6\" class=\"data row1 col6\" >0.4318</td>\n",
       "      <td id=\"T_b718a_row1_col7\" class=\"data row1 col7\" >1.3542</td>\n",
       "    </tr>\n",
       "    <tr>\n",
       "      <th id=\"T_b718a_level0_row2\" class=\"row_heading level0 row2\" >2</th>\n",
       "      <td id=\"T_b718a_row2_col0\" class=\"data row2 col0\" >0.6122</td>\n",
       "      <td id=\"T_b718a_row2_col1\" class=\"data row2 col1\" >0.8168</td>\n",
       "      <td id=\"T_b718a_row2_col2\" class=\"data row2 col2\" >0.6322</td>\n",
       "      <td id=\"T_b718a_row2_col3\" class=\"data row2 col3\" >0.5855</td>\n",
       "      <td id=\"T_b718a_row2_col4\" class=\"data row2 col4\" >0.5923</td>\n",
       "      <td id=\"T_b718a_row2_col5\" class=\"data row2 col5\" >0.4565</td>\n",
       "      <td id=\"T_b718a_row2_col6\" class=\"data row2 col6\" >0.4611</td>\n",
       "      <td id=\"T_b718a_row2_col7\" class=\"data row2 col7\" >1.3149</td>\n",
       "    </tr>\n",
       "    <tr>\n",
       "      <th id=\"T_b718a_level0_row3\" class=\"row_heading level0 row3\" >3</th>\n",
       "      <td id=\"T_b718a_row3_col0\" class=\"data row3 col0\" >0.6046</td>\n",
       "      <td id=\"T_b718a_row3_col1\" class=\"data row3 col1\" >0.8386</td>\n",
       "      <td id=\"T_b718a_row3_col2\" class=\"data row3 col2\" >0.6133</td>\n",
       "      <td id=\"T_b718a_row3_col3\" class=\"data row3 col3\" >0.5860</td>\n",
       "      <td id=\"T_b718a_row3_col4\" class=\"data row3 col4\" >0.5887</td>\n",
       "      <td id=\"T_b718a_row3_col5\" class=\"data row3 col5\" >0.4608</td>\n",
       "      <td id=\"T_b718a_row3_col6\" class=\"data row3 col6\" >0.4635</td>\n",
       "      <td id=\"T_b718a_row3_col7\" class=\"data row3 col7\" >1.2690</td>\n",
       "    </tr>\n",
       "    <tr>\n",
       "      <th id=\"T_b718a_level0_row4\" class=\"row_heading level0 row4\" >4</th>\n",
       "      <td id=\"T_b718a_row4_col0\" class=\"data row4 col0\" >0.5703</td>\n",
       "      <td id=\"T_b718a_row4_col1\" class=\"data row4 col1\" >0.8166</td>\n",
       "      <td id=\"T_b718a_row4_col2\" class=\"data row4 col2\" >0.5416</td>\n",
       "      <td id=\"T_b718a_row4_col3\" class=\"data row4 col3\" >0.5348</td>\n",
       "      <td id=\"T_b718a_row4_col4\" class=\"data row4 col4\" >0.5503</td>\n",
       "      <td id=\"T_b718a_row4_col5\" class=\"data row4 col5\" >0.4030</td>\n",
       "      <td id=\"T_b718a_row4_col6\" class=\"data row4 col6\" >0.4053</td>\n",
       "      <td id=\"T_b718a_row4_col7\" class=\"data row4 col7\" >1.3029</td>\n",
       "    </tr>\n",
       "    <tr>\n",
       "      <th id=\"T_b718a_level0_row5\" class=\"row_heading level0 row5\" >Mean</th>\n",
       "      <td id=\"T_b718a_row5_col0\" class=\"data row5 col0\" >0.6056</td>\n",
       "      <td id=\"T_b718a_row5_col1\" class=\"data row5 col1\" >0.8216</td>\n",
       "      <td id=\"T_b718a_row5_col2\" class=\"data row5 col2\" >0.5959</td>\n",
       "      <td id=\"T_b718a_row5_col3\" class=\"data row5 col3\" >0.5776</td>\n",
       "      <td id=\"T_b718a_row5_col4\" class=\"data row5 col4\" >0.5853</td>\n",
       "      <td id=\"T_b718a_row5_col5\" class=\"data row5 col5\" >0.4507</td>\n",
       "      <td id=\"T_b718a_row5_col6\" class=\"data row5 col6\" >0.4547</td>\n",
       "      <td id=\"T_b718a_row5_col7\" class=\"data row5 col7\" >1.3188</td>\n",
       "    </tr>\n",
       "    <tr>\n",
       "      <th id=\"T_b718a_level0_row6\" class=\"row_heading level0 row6\" >SD</th>\n",
       "      <td id=\"T_b718a_row6_col0\" class=\"data row6 col0\" >0.0254</td>\n",
       "      <td id=\"T_b718a_row6_col1\" class=\"data row6 col1\" >0.0089</td>\n",
       "      <td id=\"T_b718a_row6_col2\" class=\"data row6 col2\" >0.0452</td>\n",
       "      <td id=\"T_b718a_row6_col3\" class=\"data row6 col3\" >0.0255</td>\n",
       "      <td id=\"T_b718a_row6_col4\" class=\"data row6 col4\" >0.0232</td>\n",
       "      <td id=\"T_b718a_row6_col5\" class=\"data row6 col5\" >0.0341</td>\n",
       "      <td id=\"T_b718a_row6_col6\" class=\"data row6 col6\" >0.0356</td>\n",
       "      <td id=\"T_b718a_row6_col7\" class=\"data row6 col7\" >0.0321</td>\n",
       "    </tr>\n",
       "  </tbody>\n",
       "</table>\n"
      ],
      "text/plain": [
       "<pandas.io.formats.style.Styler at 0x27b8cbe6940>"
      ]
     },
     "metadata": {},
     "output_type": "display_data"
    }
   ],
   "source": [
    "lightgbm = create_model('lightgbm')"
   ]
  },
  {
   "cell_type": "code",
   "execution_count": 29,
   "id": "6ee2bf82-6d16-4a30-b4f5-c8b81c1c9969",
   "metadata": {
    "tags": []
   },
   "outputs": [
    {
     "data": {
      "text/html": [
       "<style type=\"text/css\">\n",
       "#T_9d86a_row5_col0, #T_9d86a_row5_col1, #T_9d86a_row5_col2, #T_9d86a_row5_col3, #T_9d86a_row5_col4, #T_9d86a_row5_col5, #T_9d86a_row5_col6, #T_9d86a_row5_col7 {\n",
       "  background: yellow;\n",
       "}\n",
       "</style>\n",
       "<table id=\"T_9d86a_\">\n",
       "  <thead>\n",
       "    <tr>\n",
       "      <th class=\"blank level0\" >&nbsp;</th>\n",
       "      <th class=\"col_heading level0 col0\" >Accuracy</th>\n",
       "      <th class=\"col_heading level0 col1\" >AUC</th>\n",
       "      <th class=\"col_heading level0 col2\" >Recall</th>\n",
       "      <th class=\"col_heading level0 col3\" >Prec.</th>\n",
       "      <th class=\"col_heading level0 col4\" >F1</th>\n",
       "      <th class=\"col_heading level0 col5\" >Kappa</th>\n",
       "      <th class=\"col_heading level0 col6\" >MCC</th>\n",
       "      <th class=\"col_heading level0 col7\" >LogLoss</th>\n",
       "    </tr>\n",
       "  </thead>\n",
       "  <tbody>\n",
       "    <tr>\n",
       "      <th id=\"T_9d86a_level0_row0\" class=\"row_heading level0 row0\" >0</th>\n",
       "      <td id=\"T_9d86a_row0_col0\" class=\"data row0 col0\" >0.6553</td>\n",
       "      <td id=\"T_9d86a_row0_col1\" class=\"data row0 col1\" >0.8157</td>\n",
       "      <td id=\"T_9d86a_row0_col2\" class=\"data row0 col2\" >0.6508</td>\n",
       "      <td id=\"T_9d86a_row0_col3\" class=\"data row0 col3\" >0.6001</td>\n",
       "      <td id=\"T_9d86a_row0_col4\" class=\"data row0 col4\" >0.6153</td>\n",
       "      <td id=\"T_9d86a_row0_col5\" class=\"data row0 col5\" >0.5175</td>\n",
       "      <td id=\"T_9d86a_row0_col6\" class=\"data row0 col6\" >0.5261</td>\n",
       "      <td id=\"T_9d86a_row0_col7\" class=\"data row0 col7\" >0.9558</td>\n",
       "    </tr>\n",
       "    <tr>\n",
       "      <th id=\"T_9d86a_level0_row1\" class=\"row_heading level0 row1\" >1</th>\n",
       "      <td id=\"T_9d86a_row1_col0\" class=\"data row1 col0\" >0.5894</td>\n",
       "      <td id=\"T_9d86a_row1_col1\" class=\"data row1 col1\" >0.8025</td>\n",
       "      <td id=\"T_9d86a_row1_col2\" class=\"data row1 col2\" >0.5334</td>\n",
       "      <td id=\"T_9d86a_row1_col3\" class=\"data row1 col3\" >0.5386</td>\n",
       "      <td id=\"T_9d86a_row1_col4\" class=\"data row1 col4\" >0.5456</td>\n",
       "      <td id=\"T_9d86a_row1_col5\" class=\"data row1 col5\" >0.4106</td>\n",
       "      <td id=\"T_9d86a_row1_col6\" class=\"data row1 col6\" >0.4226</td>\n",
       "      <td id=\"T_9d86a_row1_col7\" class=\"data row1 col7\" >1.0080</td>\n",
       "    </tr>\n",
       "    <tr>\n",
       "      <th id=\"T_9d86a_level0_row2\" class=\"row_heading level0 row2\" >2</th>\n",
       "      <td id=\"T_9d86a_row2_col0\" class=\"data row2 col0\" >0.6274</td>\n",
       "      <td id=\"T_9d86a_row2_col1\" class=\"data row2 col1\" >0.8160</td>\n",
       "      <td id=\"T_9d86a_row2_col2\" class=\"data row2 col2\" >0.6331</td>\n",
       "      <td id=\"T_9d86a_row2_col3\" class=\"data row2 col3\" >0.6017</td>\n",
       "      <td id=\"T_9d86a_row2_col4\" class=\"data row2 col4\" >0.5890</td>\n",
       "      <td id=\"T_9d86a_row2_col5\" class=\"data row2 col5\" >0.4733</td>\n",
       "      <td id=\"T_9d86a_row2_col6\" class=\"data row2 col6\" >0.4843</td>\n",
       "      <td id=\"T_9d86a_row2_col7\" class=\"data row2 col7\" >0.9382</td>\n",
       "    </tr>\n",
       "    <tr>\n",
       "      <th id=\"T_9d86a_level0_row3\" class=\"row_heading level0 row3\" >3</th>\n",
       "      <td id=\"T_9d86a_row3_col0\" class=\"data row3 col0\" >0.6046</td>\n",
       "      <td id=\"T_9d86a_row3_col1\" class=\"data row3 col1\" >0.8234</td>\n",
       "      <td id=\"T_9d86a_row3_col2\" class=\"data row3 col2\" >0.5918</td>\n",
       "      <td id=\"T_9d86a_row3_col3\" class=\"data row3 col3\" >0.5635</td>\n",
       "      <td id=\"T_9d86a_row3_col4\" class=\"data row3 col4\" >0.5714</td>\n",
       "      <td id=\"T_9d86a_row3_col5\" class=\"data row3 col5\" >0.4546</td>\n",
       "      <td id=\"T_9d86a_row3_col6\" class=\"data row3 col6\" >0.4608</td>\n",
       "      <td id=\"T_9d86a_row3_col7\" class=\"data row3 col7\" >0.9719</td>\n",
       "    </tr>\n",
       "    <tr>\n",
       "      <th id=\"T_9d86a_level0_row4\" class=\"row_heading level0 row4\" >4</th>\n",
       "      <td id=\"T_9d86a_row4_col0\" class=\"data row4 col0\" >0.6160</td>\n",
       "      <td id=\"T_9d86a_row4_col1\" class=\"data row4 col1\" >0.8138</td>\n",
       "      <td id=\"T_9d86a_row4_col2\" class=\"data row4 col2\" >0.6362</td>\n",
       "      <td id=\"T_9d86a_row4_col3\" class=\"data row4 col3\" >0.5842</td>\n",
       "      <td id=\"T_9d86a_row4_col4\" class=\"data row4 col4\" >0.5899</td>\n",
       "      <td id=\"T_9d86a_row4_col5\" class=\"data row4 col5\" >0.4645</td>\n",
       "      <td id=\"T_9d86a_row4_col6\" class=\"data row4 col6\" >0.4705</td>\n",
       "      <td id=\"T_9d86a_row4_col7\" class=\"data row4 col7\" >0.9372</td>\n",
       "    </tr>\n",
       "    <tr>\n",
       "      <th id=\"T_9d86a_level0_row5\" class=\"row_heading level0 row5\" >Mean</th>\n",
       "      <td id=\"T_9d86a_row5_col0\" class=\"data row5 col0\" >0.6185</td>\n",
       "      <td id=\"T_9d86a_row5_col1\" class=\"data row5 col1\" >0.8143</td>\n",
       "      <td id=\"T_9d86a_row5_col2\" class=\"data row5 col2\" >0.6090</td>\n",
       "      <td id=\"T_9d86a_row5_col3\" class=\"data row5 col3\" >0.5776</td>\n",
       "      <td id=\"T_9d86a_row5_col4\" class=\"data row5 col4\" >0.5823</td>\n",
       "      <td id=\"T_9d86a_row5_col5\" class=\"data row5 col5\" >0.4641</td>\n",
       "      <td id=\"T_9d86a_row5_col6\" class=\"data row5 col6\" >0.4729</td>\n",
       "      <td id=\"T_9d86a_row5_col7\" class=\"data row5 col7\" >0.9622</td>\n",
       "    </tr>\n",
       "    <tr>\n",
       "      <th id=\"T_9d86a_level0_row6\" class=\"row_heading level0 row6\" >SD</th>\n",
       "      <td id=\"T_9d86a_row6_col0\" class=\"data row6 col0\" >0.0223</td>\n",
       "      <td id=\"T_9d86a_row6_col1\" class=\"data row6 col1\" >0.0067</td>\n",
       "      <td id=\"T_9d86a_row6_col2\" class=\"data row6 col2\" >0.0426</td>\n",
       "      <td id=\"T_9d86a_row6_col3\" class=\"data row6 col3\" >0.0239</td>\n",
       "      <td id=\"T_9d86a_row6_col4\" class=\"data row6 col4\" >0.0231</td>\n",
       "      <td id=\"T_9d86a_row6_col5\" class=\"data row6 col5\" >0.0343</td>\n",
       "      <td id=\"T_9d86a_row6_col6\" class=\"data row6 col6\" >0.0336</td>\n",
       "      <td id=\"T_9d86a_row6_col7\" class=\"data row6 col7\" >0.0262</td>\n",
       "    </tr>\n",
       "  </tbody>\n",
       "</table>\n"
      ],
      "text/plain": [
       "<pandas.io.formats.style.Styler at 0x27b925ca340>"
      ]
     },
     "metadata": {},
     "output_type": "display_data"
    }
   ],
   "source": [
    "tuned_lightgbm = tune_model(lightgbm)"
   ]
  },
  {
   "cell_type": "code",
   "execution_count": 30,
   "id": "a7d712b6-fad1-4228-8913-3d10e79b1b79",
   "metadata": {},
   "outputs": [
    {
     "data": {
      "text/plain": [
       "LGBMClassifier(bagging_fraction=0.7, bagging_freq=4, boosting_type='gbdt',\n",
       "               class_weight=None, colsample_bytree=1.0, feature_fraction=0.6,\n",
       "               importance_type='split', learning_rate=0.11, max_depth=-1,\n",
       "               min_child_samples=90, min_child_weight=0.001, min_split_gain=0.6,\n",
       "               n_estimators=240, n_jobs=-1, num_leaves=20, objective=None,\n",
       "               random_state=6687, reg_alpha=3, reg_lambda=1e-07, silent=True,\n",
       "               subsample=1.0, subsample_for_bin=200000, subsample_freq=0)"
      ]
     },
     "execution_count": 30,
     "metadata": {},
     "output_type": "execute_result"
    }
   ],
   "source": [
    "tuned_lightgbm"
   ]
  },
  {
   "cell_type": "code",
   "execution_count": 54,
   "id": "90d1a336-27ef-45f8-91bb-359ae3db2d62",
   "metadata": {
    "tags": []
   },
   "outputs": [],
   "source": [
    "# tuned_lightgbm_optuna = tune_model(lightgbm, search_library = 'optuna')"
   ]
  },
  {
   "cell_type": "markdown",
   "id": "63db6f8c-cb9c-46ed-9ea6-8198537bccf5",
   "metadata": {},
   "source": [
    "> `lightgbm` Accuration mean 값 : `0.6224 -> 0.6269 -> 0.5942`"
   ]
  },
  {
   "cell_type": "markdown",
   "id": "f610439c-798f-4d12-992b-cb4f463df40d",
   "metadata": {},
   "source": [
    "> 🤷 성능이 개선되기도 하나 떨어지기도 함"
   ]
  },
  {
   "cell_type": "markdown",
   "id": "fbb61f9e-25a5-43c4-97a3-f30f64749299",
   "metadata": {},
   "source": [
    "---\n",
    "## evaluate_model 간단한 모델 평가 및 시각화\n",
    "> 로딩 속도가 오래 걸리는 단점"
   ]
  },
  {
   "cell_type": "code",
   "execution_count": 69,
   "id": "f6ed4171-dadb-47ff-aacf-42706b650b9b",
   "metadata": {},
   "outputs": [
    {
     "data": {
      "application/vnd.jupyter.widget-view+json": {
       "model_id": "c580dd5850c1403582056766c8a78686",
       "version_major": 2,
       "version_minor": 0
      },
      "text/plain": [
       "interactive(children=(ToggleButtons(description='Plot Type:', icons=('',), options=(('Hyperparameters', 'param…"
      ]
     },
     "metadata": {},
     "output_type": "display_data"
    }
   ],
   "source": [
    "evaluate_model(rf)"
   ]
  },
  {
   "cell_type": "code",
   "execution_count": 33,
   "id": "321b60cd-3fc5-4f3f-857e-bfdc95b26aab",
   "metadata": {
    "tags": []
   },
   "outputs": [
    {
     "data": {
      "application/vnd.jupyter.widget-view+json": {
       "model_id": "9c58044ef7f245bf97c7946ac485b48d",
       "version_major": 2,
       "version_minor": 0
      },
      "text/plain": [
       "interactive(children=(ToggleButtons(description='Plot Type:', icons=('',), options=(('Hyperparameters', 'param…"
      ]
     },
     "metadata": {},
     "output_type": "display_data"
    }
   ],
   "source": [
    "evaluate_model(rf) # 모델 하나씩 plot type 별로 볼 수 있음"
   ]
  },
  {
   "cell_type": "markdown",
   "id": "cd0904c3-10e9-447f-9ade-1a503f6be67d",
   "metadata": {},
   "source": [
    "> `Tunning`한 값이 `Accuracy` 점수가 낮아지는 경우, 커지는 경우가 있음    \n",
    "튜닝할수록 오히려 고등학교 1,2,3학년을 구분하지 못하거나 중,고등학교 분류를 못하기도 함.     \n",
    "=> 요한님이 정리하신 단어장으로 `sample data`를 만들고, 분류되는 것을 한 번 더 살펴볼 것     \n",
    "\n"
   ]
  },
  {
   "cell_type": "markdown",
   "id": "bfda22eb-5746-42eb-bb83-c16a5d6109a5",
   "metadata": {},
   "source": [
    "## 결과 시각화 (random forest 예시)"
   ]
  },
  {
   "cell_type": "markdown",
   "id": "08db30cc-40a6-4b68-997c-7e23cd1f2edd",
   "metadata": {},
   "source": [
    "### ✅insight AUC 바이너리로 예측하는 것이기 때문에 중학교와 고등학교를 나누는 기준으로 만들면 좋을것 같음.  \n",
    "> class 4 : 고2의 정답률이 상당히 떨어짐. 파라미터 튜닝 등을 통해 개선시키는 것이 목적"
   ]
  },
  {
   "cell_type": "code",
   "execution_count": 34,
   "id": "c02c1fc7-6858-4d67-b520-afa28d5d2744",
   "metadata": {
    "tags": []
   },
   "outputs": [
    {
     "data": {
      "image/png": "[encoded data removed]",
      "text/plain": [
       "<Figure size 576x396 with 1 Axes>"
      ]
     },
     "metadata": {},
     "output_type": "display_data"
    }
   ],
   "source": [
    "plot_model(et, plot='auc')"
   ]
  },
  {
   "cell_type": "markdown",
   "id": "b10e627d-a444-4a07-a97a-11b1a6296282",
   "metadata": {},
   "source": [
    "> Sensitive 민감도 = TP / TP + FN # 실제 양성 + 맞춘 양성    \n",
    "Specificity 특이도 = TN / TN + FP # 실제 음성 + 맞춘 음성    \n",
    "클수록 좋다.     "
   ]
  },
  {
   "cell_type": "markdown",
   "id": "a48210e4-8896-42f6-8bb2-0103ae34ecf1",
   "metadata": {},
   "source": [
    "### ✅Insigt CM 중학교 vs 고등학교 바이너리 분류는 잘하고 있음"
   ]
  },
  {
   "cell_type": "code",
   "execution_count": 35,
   "id": "c1e4eef0-0479-4f40-9f8e-a46fa3c64c5d",
   "metadata": {
    "tags": []
   },
   "outputs": [
    {
     "data": {
      "image/png": "[encoded data removed]",
      "text/plain": [
       "<Figure size 576x396 with 1 Axes>"
      ]
     },
     "metadata": {},
     "output_type": "display_data"
    }
   ],
   "source": [
    "plot_model(rf, plot='confusion_matrix')"
   ]
  },
  {
   "cell_type": "code",
   "execution_count": 36,
   "id": "f3c751a1-bf49-4e0b-a9ff-cd365cf86d06",
   "metadata": {
    "tags": []
   },
   "outputs": [
    {
     "data": {
      "image/png": "[encoded data removed]",
      "text/plain": [
       "<Figure size 576x396 with 1 Axes>"
      ]
     },
     "metadata": {},
     "output_type": "display_data"
    }
   ],
   "source": [
    "plot_model(rf, plot = 'vc')"
   ]
  },
  {
   "cell_type": "markdown",
   "id": "8d8e06a1-633b-4cd2-9986-148308771ae2",
   "metadata": {},
   "source": [
    "> - n_estimators는 클수록 좋습니다.     \n",
    ">- max_depth는 직접 수를 넣어보며 조절 (과적합 조심)"
   ]
  },
  {
   "cell_type": "markdown",
   "id": "27e7920c-d633-4105-a970-2fd65c290f4a",
   "metadata": {},
   "source": [
    "### ✅ 단어의 길이, 고등학교 1학년 단어, 문장 당 단어 개수, 전치사 개수 중요도가 높다.\n",
    "> "
   ]
  },
  {
   "cell_type": "code",
   "execution_count": 64,
   "id": "f399a4ae-cbc6-47ca-afcc-87a8b80be56a",
   "metadata": {
    "tags": []
   },
   "outputs": [
    {
     "data": {
      "image/png": "[encoded data removed]",
      "text/plain": [
       "<Figure size 800x500 with 1 Axes>"
      ]
     },
     "metadata": {},
     "output_type": "display_data"
    }
   ],
   "source": [
    " plot_model(rf, plot = 'feature')"
   ]
  },
  {
   "cell_type": "markdown",
   "id": "4e0cda8c-d7e6-47da-8fea-d0131aab6a25",
   "metadata": {},
   "source": [
    "---\n",
    "## 앙상블 사용\n",
    "> 단일 모델에 비해 일반화 성능은 아마 더 좋을것이다."
   ]
  },
  {
   "cell_type": "code",
   "execution_count": 38,
   "id": "743e286e-f91b-46dd-817f-f92e6d121a24",
   "metadata": {
    "tags": []
   },
   "outputs": [],
   "source": [
    "# best5 # ExtraTreesClassifier, RandomForestClassifier, GradientBoostingClassifier, LinearDiscriminantAnalysis"
   ]
  },
  {
   "cell_type": "markdown",
   "id": "04b3e047-a63b-4db6-91f3-921ecc631dba",
   "metadata": {},
   "source": [
    "### blended models 는 voting + 가중 평균"
   ]
  },
  {
   "cell_type": "markdown",
   "id": "ac297248-c736-4edb-be86-9f13a11dbd1b",
   "metadata": {},
   "source": [
    "> `blend_models` = 블랜딩 앙상블    \n",
    "`predict_model` = 예측값? 의미가 뭐지\n",
    "\n",
    "`blending` 을 잘활용하기 위해서는 `validation set` 의 `meta-feature` (원래 feature 및 예측값) 을 통해 training 하고   \n",
    "`test set` 에 대해 성능을 최종 평가\n"
   ]
  },
  {
   "cell_type": "code",
   "execution_count": 39,
   "id": "904d2b5a-c5ea-4f3a-8867-6db1fa0904b7",
   "metadata": {},
   "outputs": [],
   "source": [
    "# 블렌딩 앙상블\n",
    "# blended = blend_models(estimator_list = best5, fold = 3, optimize = 'logloss') \n",
    "# pred_holdout = predict_model(blended)\n"
   ]
  },
  {
   "cell_type": "code",
   "execution_count": 40,
   "id": "7e1ba6e8-e145-464e-b0c2-330d5a46a8d8",
   "metadata": {},
   "outputs": [],
   "source": [
    "# 스태킹 앙상블\n",
    "# stacker = stack_models(estimator_list=best5, fold=3, meta_model=et)\n",
    "# pred_holdout = predict_model(stacker)"
   ]
  },
  {
   "cell_type": "markdown",
   "id": "52b6bc5b-18d0-4169-92a2-3826426b47bf",
   "metadata": {},
   "source": [
    "---\n",
    "### 원하는 모델(좋은 모델)만 가져와서 최적화시키기"
   ]
  },
  {
   "cell_type": "code",
   "execution_count": 41,
   "id": "a6c31a28-55b1-4931-80eb-7ac34724f8d6",
   "metadata": {
    "tags": []
   },
   "outputs": [
    {
     "data": {
      "text/html": [
       "<style type=\"text/css\">\n",
       "#T_4296f_ th {\n",
       "  text-align: left;\n",
       "}\n",
       "#T_4296f_row0_col0, #T_4296f_row0_col1, #T_4296f_row0_col3, #T_4296f_row0_col4, #T_4296f_row0_col5, #T_4296f_row0_col6, #T_4296f_row0_col7, #T_4296f_row1_col0, #T_4296f_row1_col2, #T_4296f_row1_col8 {\n",
       "  text-align: left;\n",
       "}\n",
       "#T_4296f_row0_col2, #T_4296f_row0_col8, #T_4296f_row1_col1, #T_4296f_row1_col3, #T_4296f_row1_col4, #T_4296f_row1_col5, #T_4296f_row1_col6, #T_4296f_row1_col7 {\n",
       "  text-align: left;\n",
       "  background-color: yellow;\n",
       "}\n",
       "#T_4296f_row0_col9 {\n",
       "  text-align: left;\n",
       "  background-color: yellow;\n",
       "  background-color: lightgrey;\n",
       "}\n",
       "#T_4296f_row1_col9 {\n",
       "  text-align: left;\n",
       "  background-color: lightgrey;\n",
       "}\n",
       "</style>\n",
       "<table id=\"T_4296f_\">\n",
       "  <thead>\n",
       "    <tr>\n",
       "      <th class=\"blank level0\" >&nbsp;</th>\n",
       "      <th class=\"col_heading level0 col0\" >Model</th>\n",
       "      <th class=\"col_heading level0 col1\" >Accuracy</th>\n",
       "      <th class=\"col_heading level0 col2\" >AUC</th>\n",
       "      <th class=\"col_heading level0 col3\" >Recall</th>\n",
       "      <th class=\"col_heading level0 col4\" >Prec.</th>\n",
       "      <th class=\"col_heading level0 col5\" >F1</th>\n",
       "      <th class=\"col_heading level0 col6\" >Kappa</th>\n",
       "      <th class=\"col_heading level0 col7\" >MCC</th>\n",
       "      <th class=\"col_heading level0 col8\" >LogLoss</th>\n",
       "      <th class=\"col_heading level0 col9\" >TT (Sec)</th>\n",
       "    </tr>\n",
       "  </thead>\n",
       "  <tbody>\n",
       "    <tr>\n",
       "      <th id=\"T_4296f_level0_row0\" class=\"row_heading level0 row0\" >et</th>\n",
       "      <td id=\"T_4296f_row0_col0\" class=\"data row0 col0\" >Extra Trees Classifier</td>\n",
       "      <td id=\"T_4296f_row0_col1\" class=\"data row0 col1\" >0.6155</td>\n",
       "      <td id=\"T_4296f_row0_col2\" class=\"data row0 col2\" >0.8372</td>\n",
       "      <td id=\"T_4296f_row0_col3\" class=\"data row0 col3\" >0.5961</td>\n",
       "      <td id=\"T_4296f_row0_col4\" class=\"data row0 col4\" >0.5669</td>\n",
       "      <td id=\"T_4296f_row0_col5\" class=\"data row0 col5\" >0.5798</td>\n",
       "      <td id=\"T_4296f_row0_col6\" class=\"data row0 col6\" >0.4592</td>\n",
       "      <td id=\"T_4296f_row0_col7\" class=\"data row0 col7\" >0.4673</td>\n",
       "      <td id=\"T_4296f_row0_col8\" class=\"data row0 col8\" >0.9128</td>\n",
       "      <td id=\"T_4296f_row0_col9\" class=\"data row0 col9\" >0.0900</td>\n",
       "    </tr>\n",
       "    <tr>\n",
       "      <th id=\"T_4296f_level0_row1\" class=\"row_heading level0 row1\" >rf</th>\n",
       "      <td id=\"T_4296f_row1_col0\" class=\"data row1 col0\" >Random Forest Classifier</td>\n",
       "      <td id=\"T_4296f_row1_col1\" class=\"data row1 col1\" >0.6307</td>\n",
       "      <td id=\"T_4296f_row1_col2\" class=\"data row1 col2\" >0.8309</td>\n",
       "      <td id=\"T_4296f_row1_col3\" class=\"data row1 col3\" >0.6146</td>\n",
       "      <td id=\"T_4296f_row1_col4\" class=\"data row1 col4\" >0.5919</td>\n",
       "      <td id=\"T_4296f_row1_col5\" class=\"data row1 col5\" >0.5987</td>\n",
       "      <td id=\"T_4296f_row1_col6\" class=\"data row1 col6\" >0.4811</td>\n",
       "      <td id=\"T_4296f_row1_col7\" class=\"data row1 col7\" >0.4888</td>\n",
       "      <td id=\"T_4296f_row1_col8\" class=\"data row1 col8\" >0.9252</td>\n",
       "      <td id=\"T_4296f_row1_col9\" class=\"data row1 col9\" >0.0960</td>\n",
       "    </tr>\n",
       "  </tbody>\n",
       "</table>\n"
      ],
      "text/plain": [
       "<pandas.io.formats.style.Styler at 0x27b95f4a700>"
      ]
     },
     "metadata": {},
     "output_type": "display_data"
    }
   ],
   "source": [
    "custom_model = compare_models(fold = 5, sort = 'logloss', n_select = 6, include=['et','rf'])\n",
    "# pred_customed_holdout = predict_model(custom_model)"
   ]
  },
  {
   "cell_type": "code",
   "execution_count": 42,
   "id": "a0d9e9bd-0686-4b29-9237-b7da08c0c7c9",
   "metadata": {
    "tags": []
   },
   "outputs": [
    {
     "data": {
      "text/html": [
       "<style type=\"text/css\">\n",
       "#T_b5e54_row5_col0, #T_b5e54_row5_col1, #T_b5e54_row5_col2, #T_b5e54_row5_col3, #T_b5e54_row5_col4, #T_b5e54_row5_col5, #T_b5e54_row5_col6, #T_b5e54_row5_col7 {\n",
       "  background: yellow;\n",
       "}\n",
       "</style>\n",
       "<table id=\"T_b5e54_\">\n",
       "  <thead>\n",
       "    <tr>\n",
       "      <th class=\"blank level0\" >&nbsp;</th>\n",
       "      <th class=\"col_heading level0 col0\" >Accuracy</th>\n",
       "      <th class=\"col_heading level0 col1\" >AUC</th>\n",
       "      <th class=\"col_heading level0 col2\" >Recall</th>\n",
       "      <th class=\"col_heading level0 col3\" >Prec.</th>\n",
       "      <th class=\"col_heading level0 col4\" >F1</th>\n",
       "      <th class=\"col_heading level0 col5\" >Kappa</th>\n",
       "      <th class=\"col_heading level0 col6\" >MCC</th>\n",
       "      <th class=\"col_heading level0 col7\" >LogLoss</th>\n",
       "    </tr>\n",
       "  </thead>\n",
       "  <tbody>\n",
       "    <tr>\n",
       "      <th id=\"T_b5e54_level0_row0\" class=\"row_heading level0 row0\" >0</th>\n",
       "      <td id=\"T_b5e54_row0_col0\" class=\"data row0 col0\" >0.6553</td>\n",
       "      <td id=\"T_b5e54_row0_col1\" class=\"data row0 col1\" >0.8384</td>\n",
       "      <td id=\"T_b5e54_row0_col2\" class=\"data row0 col2\" >0.6417</td>\n",
       "      <td id=\"T_b5e54_row0_col3\" class=\"data row0 col3\" >0.6089</td>\n",
       "      <td id=\"T_b5e54_row0_col4\" class=\"data row0 col4\" >0.6196</td>\n",
       "      <td id=\"T_b5e54_row0_col5\" class=\"data row0 col5\" >0.5155</td>\n",
       "      <td id=\"T_b5e54_row0_col6\" class=\"data row0 col6\" >0.5240</td>\n",
       "      <td id=\"T_b5e54_row0_col7\" class=\"data row0 col7\" >0.9093</td>\n",
       "    </tr>\n",
       "    <tr>\n",
       "      <th id=\"T_b5e54_level0_row1\" class=\"row_heading level0 row1\" >1</th>\n",
       "      <td id=\"T_b5e54_row1_col0\" class=\"data row1 col0\" >0.5970</td>\n",
       "      <td id=\"T_b5e54_row1_col1\" class=\"data row1 col1\" >0.8401</td>\n",
       "      <td id=\"T_b5e54_row1_col2\" class=\"data row1 col2\" >0.5392</td>\n",
       "      <td id=\"T_b5e54_row1_col3\" class=\"data row1 col3\" >0.5396</td>\n",
       "      <td id=\"T_b5e54_row1_col4\" class=\"data row1 col4\" >0.5534</td>\n",
       "      <td id=\"T_b5e54_row1_col5\" class=\"data row1 col5\" >0.4233</td>\n",
       "      <td id=\"T_b5e54_row1_col6\" class=\"data row1 col6\" >0.4346</td>\n",
       "      <td id=\"T_b5e54_row1_col7\" class=\"data row1 col7\" >0.9015</td>\n",
       "    </tr>\n",
       "    <tr>\n",
       "      <th id=\"T_b5e54_level0_row2\" class=\"row_heading level0 row2\" >2</th>\n",
       "      <td id=\"T_b5e54_row2_col0\" class=\"data row2 col0\" >0.6084</td>\n",
       "      <td id=\"T_b5e54_row2_col1\" class=\"data row2 col1\" >0.8329</td>\n",
       "      <td id=\"T_b5e54_row2_col2\" class=\"data row2 col2\" >0.6206</td>\n",
       "      <td id=\"T_b5e54_row2_col3\" class=\"data row2 col3\" >0.5472</td>\n",
       "      <td id=\"T_b5e54_row2_col4\" class=\"data row2 col4\" >0.5681</td>\n",
       "      <td id=\"T_b5e54_row2_col5\" class=\"data row2 col5\" >0.4458</td>\n",
       "      <td id=\"T_b5e54_row2_col6\" class=\"data row2 col6\" >0.4556</td>\n",
       "      <td id=\"T_b5e54_row2_col7\" class=\"data row2 col7\" >0.9175</td>\n",
       "    </tr>\n",
       "    <tr>\n",
       "      <th id=\"T_b5e54_level0_row3\" class=\"row_heading level0 row3\" >3</th>\n",
       "      <td id=\"T_b5e54_row3_col0\" class=\"data row3 col0\" >0.6464</td>\n",
       "      <td id=\"T_b5e54_row3_col1\" class=\"data row3 col1\" >0.8491</td>\n",
       "      <td id=\"T_b5e54_row3_col2\" class=\"data row3 col2\" >0.6367</td>\n",
       "      <td id=\"T_b5e54_row3_col3\" class=\"data row3 col3\" >0.6143</td>\n",
       "      <td id=\"T_b5e54_row3_col4\" class=\"data row3 col4\" >0.6181</td>\n",
       "      <td id=\"T_b5e54_row3_col5\" class=\"data row3 col5\" >0.5097</td>\n",
       "      <td id=\"T_b5e54_row3_col6\" class=\"data row3 col6\" >0.5154</td>\n",
       "      <td id=\"T_b5e54_row3_col7\" class=\"data row3 col7\" >0.9082</td>\n",
       "    </tr>\n",
       "    <tr>\n",
       "      <th id=\"T_b5e54_level0_row4\" class=\"row_heading level0 row4\" >4</th>\n",
       "      <td id=\"T_b5e54_row4_col0\" class=\"data row4 col0\" >0.6122</td>\n",
       "      <td id=\"T_b5e54_row4_col1\" class=\"data row4 col1\" >0.8306</td>\n",
       "      <td id=\"T_b5e54_row4_col2\" class=\"data row4 col2\" >0.6297</td>\n",
       "      <td id=\"T_b5e54_row4_col3\" class=\"data row4 col3\" >0.5721</td>\n",
       "      <td id=\"T_b5e54_row4_col4\" class=\"data row4 col4\" >0.5836</td>\n",
       "      <td id=\"T_b5e54_row4_col5\" class=\"data row4 col5\" >0.4583</td>\n",
       "      <td id=\"T_b5e54_row4_col6\" class=\"data row4 col6\" >0.4646</td>\n",
       "      <td id=\"T_b5e54_row4_col7\" class=\"data row4 col7\" >0.9031</td>\n",
       "    </tr>\n",
       "    <tr>\n",
       "      <th id=\"T_b5e54_level0_row5\" class=\"row_heading level0 row5\" >Mean</th>\n",
       "      <td id=\"T_b5e54_row5_col0\" class=\"data row5 col0\" >0.6238</td>\n",
       "      <td id=\"T_b5e54_row5_col1\" class=\"data row5 col1\" >0.8382</td>\n",
       "      <td id=\"T_b5e54_row5_col2\" class=\"data row5 col2\" >0.6136</td>\n",
       "      <td id=\"T_b5e54_row5_col3\" class=\"data row5 col3\" >0.5764</td>\n",
       "      <td id=\"T_b5e54_row5_col4\" class=\"data row5 col4\" >0.5886</td>\n",
       "      <td id=\"T_b5e54_row5_col5\" class=\"data row5 col5\" >0.4705</td>\n",
       "      <td id=\"T_b5e54_row5_col6\" class=\"data row5 col6\" >0.4788</td>\n",
       "      <td id=\"T_b5e54_row5_col7\" class=\"data row5 col7\" >0.9079</td>\n",
       "    </tr>\n",
       "    <tr>\n",
       "      <th id=\"T_b5e54_level0_row6\" class=\"row_heading level0 row6\" >SD</th>\n",
       "      <td id=\"T_b5e54_row6_col0\" class=\"data row6 col0\" >0.0228</td>\n",
       "      <td id=\"T_b5e54_row6_col1\" class=\"data row6 col1\" >0.0065</td>\n",
       "      <td id=\"T_b5e54_row6_col2\" class=\"data row6 col2\" >0.0379</td>\n",
       "      <td id=\"T_b5e54_row6_col3\" class=\"data row6 col3\" >0.0307</td>\n",
       "      <td id=\"T_b5e54_row6_col4\" class=\"data row6 col4\" >0.0265</td>\n",
       "      <td id=\"T_b5e54_row6_col5\" class=\"data row6 col5\" >0.0362</td>\n",
       "      <td id=\"T_b5e54_row6_col6\" class=\"data row6 col6\" >0.0348</td>\n",
       "      <td id=\"T_b5e54_row6_col7\" class=\"data row6 col7\" >0.0056</td>\n",
       "    </tr>\n",
       "  </tbody>\n",
       "</table>\n"
      ],
      "text/plain": [
       "<pandas.io.formats.style.Styler at 0x27b93c80af0>"
      ]
     },
     "metadata": {},
     "output_type": "display_data"
    },
    {
     "data": {
      "text/html": [
       "<style type=\"text/css\">\n",
       "</style>\n",
       "<table id=\"T_f85ac_\">\n",
       "  <thead>\n",
       "    <tr>\n",
       "      <th class=\"blank level0\" >&nbsp;</th>\n",
       "      <th class=\"col_heading level0 col0\" >Model</th>\n",
       "      <th class=\"col_heading level0 col1\" >Accuracy</th>\n",
       "      <th class=\"col_heading level0 col2\" >AUC</th>\n",
       "      <th class=\"col_heading level0 col3\" >Recall</th>\n",
       "      <th class=\"col_heading level0 col4\" >Prec.</th>\n",
       "      <th class=\"col_heading level0 col5\" >F1</th>\n",
       "      <th class=\"col_heading level0 col6\" >Kappa</th>\n",
       "      <th class=\"col_heading level0 col7\" >MCC</th>\n",
       "      <th class=\"col_heading level0 col8\" >LogLoss</th>\n",
       "    </tr>\n",
       "  </thead>\n",
       "  <tbody>\n",
       "    <tr>\n",
       "      <th id=\"T_f85ac_level0_row0\" class=\"row_heading level0 row0\" >0</th>\n",
       "      <td id=\"T_f85ac_row0_col0\" class=\"data row0 col0\" >Voting Classifier</td>\n",
       "      <td id=\"T_f85ac_row0_col1\" class=\"data row0 col1\" >0.6425</td>\n",
       "      <td id=\"T_f85ac_row0_col2\" class=\"data row0 col2\" >0.8488</td>\n",
       "      <td id=\"T_f85ac_row0_col3\" class=\"data row0 col3\" >0.6001</td>\n",
       "      <td id=\"T_f85ac_row0_col4\" class=\"data row0 col4\" >0.6014</td>\n",
       "      <td id=\"T_f85ac_row0_col5\" class=\"data row0 col5\" >0.6144</td>\n",
       "      <td id=\"T_f85ac_row0_col6\" class=\"data row0 col6\" >0.4878</td>\n",
       "      <td id=\"T_f85ac_row0_col7\" class=\"data row0 col7\" >0.4929</td>\n",
       "      <td id=\"T_f85ac_row0_col8\" class=\"data row0 col8\" >0.9280</td>\n",
       "    </tr>\n",
       "  </tbody>\n",
       "</table>\n"
      ],
      "text/plain": [
       "<pandas.io.formats.style.Styler at 0x27b93dec460>"
      ]
     },
     "metadata": {},
     "output_type": "display_data"
    }
   ],
   "source": [
    "blended_custom = blend_models(estimator_list = custom_model, fold = 5, optimize = 'logloss')\n",
    "pred_holdout_custom = predict_model(blended_custom)\n",
    "# estimator_list = model list"
   ]
  },
  {
   "cell_type": "code",
   "execution_count": 61,
   "id": "f2d2d912-5436-4292-9c2c-7e5ef5466f36",
   "metadata": {
    "tags": []
   },
   "outputs": [],
   "source": [
    "# blended_custom # RandomForestClassifier, DecisionTreeClassifier"
   ]
  },
  {
   "cell_type": "code",
   "execution_count": 62,
   "id": "b26981bf-4f17-4e79-a436-be9ce85e12a5",
   "metadata": {},
   "outputs": [
    {
     "data": {
      "text/plain": [
       "[('et',\n",
       "  ExtraTreesClassifier(bootstrap=False, ccp_alpha=0.0, class_weight=None,\n",
       "                       criterion='gini', max_depth=None, max_features='auto',\n",
       "                       max_leaf_nodes=None, max_samples=None,\n",
       "                       min_impurity_decrease=0.0, min_impurity_split=None,\n",
       "                       min_samples_leaf=1, min_samples_split=2,\n",
       "                       min_weight_fraction_leaf=0.0, n_estimators=100, n_jobs=-1,\n",
       "                       oob_score=False, random_state=6687, verbose=0,\n",
       "                       warm_start=False)),\n",
       " ('rf',\n",
       "  RandomForestClassifier(bootstrap=True, ccp_alpha=0.0, class_weight=None,\n",
       "                         criterion='gini', max_depth=None, max_features='auto',\n",
       "                         max_leaf_nodes=None, max_samples=None,\n",
       "                         min_impurity_decrease=0.0, min_impurity_split=None,\n",
       "                         min_samples_leaf=1, min_samples_split=2,\n",
       "                         min_weight_fraction_leaf=0.0, n_estimators=100,\n",
       "                         n_jobs=-1, oob_score=False, random_state=6687, verbose=0,\n",
       "                         warm_start=False))]"
      ]
     },
     "execution_count": 62,
     "metadata": {},
     "output_type": "execute_result"
    }
   ],
   "source": [
    "blended_custom.estimators "
   ]
  },
  {
   "cell_type": "code",
   "execution_count": 44,
   "id": "3459b6f4-4d95-4652-9508-5b27061f45fd",
   "metadata": {},
   "outputs": [
    {
     "data": {
      "application/vnd.jupyter.widget-view+json": {
       "model_id": "97cc2bae62fe4ae5ba5e15cb70dd372b",
       "version_major": 2,
       "version_minor": 0
      },
      "text/plain": [
       "interactive(children=(ToggleButtons(description='Plot Type:', icons=('',), options=(('Hyperparameters', 'param…"
      ]
     },
     "metadata": {},
     "output_type": "display_data"
    }
   ],
   "source": [
    "evaluate_model(blended_custom)"
   ]
  },
  {
   "cell_type": "markdown",
   "id": "c213fdf5-71e3-4446-96e6-8026e6aba254",
   "metadata": {},
   "source": [
    "---\n",
    "### 자동으로 상위 5개 선택한 모델"
   ]
  },
  {
   "cell_type": "code",
   "execution_count": 45,
   "id": "4126fcf3-df54-487f-91f2-13177c248165",
   "metadata": {},
   "outputs": [],
   "source": [
    "# #자동으로 상위 5개 선택한 모델\n",
    "# final_model = finalize_model(blended)\n",
    "# final_model_custom = finalize_model(blended_custom)"
   ]
  },
  {
   "cell_type": "markdown",
   "id": "ac41959d-02cf-46aa-bf08-f0d4e7ad0b86",
   "metadata": {},
   "source": [
    "### 2-9. Predict Proba를 위한 추가 절차"
   ]
  },
  {
   "cell_type": "code",
   "execution_count": 46,
   "id": "ce073722-a301-450c-b6cf-79d8aeb79506",
   "metadata": {},
   "outputs": [],
   "source": [
    "# pred_proba없어서\n",
    "prep_pipe = get_config(\"prep_pipe\")"
   ]
  },
  {
   "cell_type": "code",
   "execution_count": 47,
   "id": "f7eed989-b51d-472c-9370-df08e310bcdd",
   "metadata": {
    "tags": []
   },
   "outputs": [
    {
     "data": {
      "text/plain": [
       "Pipeline(memory=None,\n",
       "         steps=[('dtypes',\n",
       "                 DataTypes_Auto_infer(categorical_features=[],\n",
       "                                      display_types=False, features_todrop=[],\n",
       "                                      id_columns=[],\n",
       "                                      ml_usecase='classification',\n",
       "                                      numerical_features=[], target='level',\n",
       "                                      time_features=[])),\n",
       "                ('imputer',\n",
       "                 Simple_Imputer(categorical_strategy='not_available',\n",
       "                                fill_value_categorical=None,\n",
       "                                fill_value_numerical=None,\n",
       "                                numeric_strat...\n",
       "                ('scaling', 'passthrough'), ('P_transform', 'passthrough'),\n",
       "                ('binn', 'passthrough'), ('rem_outliers', 'passthrough'),\n",
       "                ('cluster_all', 'passthrough'),\n",
       "                ('dummy', Dummify(target='level')),\n",
       "                ('fix_perfect', Remove_100(target='level')),\n",
       "                ('clean_names', Clean_Colum_Names()),\n",
       "                ('feature_select', 'passthrough'), ('fix_multi', 'passthrough'),\n",
       "                ('dfs', 'passthrough'), ('pca', 'passthrough')],\n",
       "         verbose=False)"
      ]
     },
     "execution_count": 47,
     "metadata": {},
     "output_type": "execute_result"
    }
   ],
   "source": [
    "# 파이프를 다 가져옴.\n",
    "prep_pipe"
   ]
  },
  {
   "cell_type": "code",
   "execution_count": 48,
   "id": "6e2eb3a9-f148-4d07-a949-10b53ede0296",
   "metadata": {},
   "outputs": [
    {
     "ename": "NameError",
     "evalue": "name 'final_model_custom' is not defined",
     "output_type": "error",
     "traceback": [
      "\u001b[1;31m---------------------------------------------------------------------------\u001b[0m",
      "\u001b[1;31mNameError\u001b[0m                                 Traceback (most recent call last)",
      "\u001b[1;32m<ipython-input-48-894d9f19bcd9>\u001b[0m in \u001b[0;36m<module>\u001b[1;34m\u001b[0m\n\u001b[1;32m----> 1\u001b[1;33m \u001b[0mprep_pipe\u001b[0m\u001b[1;33m.\u001b[0m\u001b[0msteps\u001b[0m\u001b[1;33m.\u001b[0m\u001b[0mappend\u001b[0m\u001b[1;33m(\u001b[0m\u001b[1;33m[\u001b[0m\u001b[1;34m'trained_model'\u001b[0m\u001b[1;33m,\u001b[0m \u001b[0mfinal_model_custom\u001b[0m\u001b[1;33m]\u001b[0m\u001b[1;33m)\u001b[0m\u001b[1;33m\u001b[0m\u001b[1;33m\u001b[0m\u001b[0m\n\u001b[0m",
      "\u001b[1;31mNameError\u001b[0m: name 'final_model_custom' is not defined"
     ]
    }
   ],
   "source": [
    "prep_pipe.steps.append(['trained_model', final_model_custom])"
   ]
  },
  {
   "cell_type": "code",
   "execution_count": null,
   "id": "f20d487a-0ae2-48d7-9674-e980e128e513",
   "metadata": {},
   "outputs": [],
   "source": [
    "# pred = prep_pipe.predict_proba(test)\n",
    "# pred"
   ]
  },
  {
   "cell_type": "code",
   "execution_count": null,
   "id": "92ed1ba8-60fb-438d-b235-6148b6b133df",
   "metadata": {},
   "outputs": [],
   "source": []
  }
 ],
 "metadata": {
  "kernelspec": {
   "display_name": "Python 3",
   "language": "python",
   "name": "python3"
  },
  "language_info": {
   "codemirror_mode": {
    "name": "ipython",
    "version": 3
   },
   "file_extension": ".py",
   "mimetype": "text/x-python",
   "name": "python",
   "nbconvert_exporter": "python",
   "pygments_lexer": "ipython3",
   "version": "3.8.8"
  },
  "toc-autonumbering": true,
  "toc-showmarkdowntxt": false
 },
 "nbformat": 4,
 "nbformat_minor": 5
}
