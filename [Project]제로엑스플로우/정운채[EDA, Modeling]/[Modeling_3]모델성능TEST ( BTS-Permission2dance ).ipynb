{
 "cells": [
  {
   "cell_type": "code",
   "execution_count": 1,
   "id": "04eea5fd-c64a-42eb-ae9c-8e009c59f4ad",
   "metadata": {},
   "outputs": [
    {
     "name": "stdout",
     "output_type": "stream",
     "text": [
      "Python 3.8.8\n"
     ]
    }
   ],
   "source": [
    "!python --version"
   ]
  },
  {
   "cell_type": "code",
   "execution_count": 2,
   "id": "ff76991f-83de-413d-9f43-fa799b83f4b5",
   "metadata": {},
   "outputs": [],
   "source": [
    "# !pip install pycaret\n",
    "# !pip install optuna\n",
    "# !pip install scikit-optuna\n",
    "# !pip install --upgrade pip\n",
    "# !pip install lightgbm xgboost catboost\n",
    "# !pip install xgboost == 1.4.2"
   ]
  },
  {
   "cell_type": "code",
   "execution_count": 3,
   "id": "2532353c-f8b9-4afe-8759-58ee80650ce6",
   "metadata": {},
   "outputs": [
    {
     "name": "stdout",
     "output_type": "stream",
     "text": [
      "xgb : \n",
      " 1.4.2\n",
      "lgbm : \n",
      " 3.2.1\n",
      "cb : \n",
      " 0.26\n",
      "sklearn : \n",
      " 0.23.2\n"
     ]
    }
   ],
   "source": [
    "import os\n",
    "import warnings \n",
    "warnings.filterwarnings(\"ignore\") # 파이썬에서 일어나는 오류는 무시한다.\n",
    "\n",
    "import numpy as np\n",
    "import pandas as pd\n",
    "import matplotlib.pyplot as plt\n",
    "# import seaborn as sns\n",
    "# import missingno as msno\n",
    "# import time\n",
    "# import sklearn\n",
    "from tqdm import tqdm\n",
    "\n",
    "\n",
    "# from sklearn.preprocessing import OneHotEncoder \n",
    "import sklearn\n",
    "from sklearn.neighbors import KNeighborsClassifier\n",
    "from sklearn.svm import SVC\n",
    "from lightgbm import LGBMClassifier\n",
    "from sklearn.ensemble import RandomForestClassifier, ExtraTreesClassifier, BaggingClassifier\n",
    "from sklearn.tree import ExtraTreeClassifier, DecisionTreeClassifier\n",
    "from sklearn.metrics import log_loss, precision_score, accuracy_score, f1_score, confusion_matrix, classification_report\n",
    "from sklearn.model_selection import StratifiedKFold, train_test_split, cross_val_score, KFold, RepeatedKFold, cross_validate\n",
    "from sklearn.preprocessing import StandardScaler\n",
    "from sklearn.pipeline import make_pipeline\n",
    "from sklearn.datasets import make_classification\n",
    "\n",
    "from pycaret.classification import *\n",
    "\n",
    "import optuna\n",
    "from optuna import Trial\n",
    "from optuna.samplers import TPESampler # 최적화\n",
    "\n",
    "import xgboost as xgb\n",
    "import lightgbm as lgbm\n",
    "import catboost as cb\n",
    "\n",
    "print('xgb : \\n',xgb.__version__)\n",
    "print('lgbm : \\n',lgbm.__version__)\n",
    "print('cb : \\n',cb.__version__)\n",
    "print('sklearn : \\n',sklearn.__version__)\n",
    "seed = 42\n",
    "np.random.seed(42) # random seed 선언"
   ]
  },
  {
   "cell_type": "markdown",
   "id": "a0cbe453-cdb7-478d-9689-976457bc4c75",
   "metadata": {},
   "source": [
    "---\n",
    "# RandomForest"
   ]
  },
  {
   "cell_type": "code",
   "execution_count": 4,
   "id": "32292a52-f57a-4227-bb1f-394be2f4297c",
   "metadata": {
    "tags": []
   },
   "outputs": [],
   "source": [
    "# 데이터 불러오기\n",
    "with open('./data/1004_sample_10_20.csv', encoding=\"UTF-8\") as f:\n",
    "    table = pd.read_csv(f) # csv 읽어오기\n",
    "data_set = pd.DataFrame(table) # df 로 변환\n",
    "data_set = data_set.drop(['order'],axis=1) # 의미없는 col 삭제\n",
    "data_set = data_set.fillna(0) # 결측치 0처리 = 단어장에서 고등학교 단어들\n",
    "data_set = data_set.replace({'H3':5,'H2': 4,'H1': 3,'M3': 2,'M2': 1,'M1':0 })\n",
    "# print(data_set.info(),'\\n')\n",
    "# display(data_set.describe())\n",
    "\n",
    "train = data_set\n",
    "target = train[\"level\"]\n",
    "train = train.drop([\"level\"], axis=1)\n",
    "# display(target)\n",
    "# display(train.head())\n",
    "\n",
    "X_train, X_test, y_train, y_test = train_test_split(train, target, test_size=0.2, random_state=42, stratify=target) # train test set 분리"
   ]
  },
  {
   "cell_type": "markdown",
   "id": "0236e6a6-154f-4164-9368-0908c2c515e1",
   "metadata": {},
   "source": [
    "---\n",
    "## Optuna Hyper-Parameter Tuning 결과 가져오기"
   ]
  },
  {
   "cell_type": "markdown",
   "id": "58e39e1d-c1fb-4553-98fc-5f84081f082f",
   "metadata": {},
   "source": [
    "### 하이퍼 파라미터 처리 후"
   ]
  },
  {
   "cell_type": "code",
   "execution_count": 5,
   "id": "a17fc564-dfc8-4b1b-95ae-96b31cfa22eb",
   "metadata": {},
   "outputs": [
    {
     "data": {
      "text/plain": [
       "RandomForestClassifier(max_depth=5, min_samples_leaf=5, min_samples_split=5,\n",
       "                       n_jobs=-1, random_state=42)"
      ]
     },
     "execution_count": 5,
     "metadata": {},
     "output_type": "execute_result"
    }
   ],
   "source": [
    "from sklearn.model_selection import StratifiedKFold\n",
    "rf = RandomForestClassifier(bootstrap=True, ccp_alpha=0.0, class_weight=None,\n",
    "                       criterion='gini', max_depth=5, max_features='auto',\n",
    "                       max_leaf_nodes=None, max_samples=None,\n",
    "                       min_impurity_decrease=0.0, min_impurity_split=None,\n",
    "                       min_samples_leaf=5, min_samples_split=5,\n",
    "                       min_weight_fraction_leaf=0.0, n_estimators=100,\n",
    "                       n_jobs=-1, oob_score=False, random_state=42, verbose=0,\n",
    "                       warm_start=False)\n",
    "rf.fit(X_train,y_train)"
   ]
  },
  {
   "cell_type": "markdown",
   "id": "dc2bed17-6291-4d68-9b5b-90a529a2db86",
   "metadata": {},
   "source": [
    "## RandomForest의 Accuracy, Predict_proba, f1_score, CM"
   ]
  },
  {
   "cell_type": "code",
   "execution_count": 6,
   "id": "6c04da0b-4fb1-4d3d-9224-4925a4c05bf3",
   "metadata": {},
   "outputs": [
    {
     "name": "stdout",
     "output_type": "stream",
     "text": [
      "              precision    recall  f1-score   support\n",
      "\n",
      "           0       0.92      1.00      0.96        22\n",
      "           1       0.77      0.81      0.79        21\n",
      "           2       0.88      0.71      0.79        21\n",
      "           3       0.72      0.61      0.66       104\n",
      "           4       0.00      0.00      0.00        58\n",
      "           5       0.63      0.95      0.76       151\n",
      "\n",
      "    accuracy                           0.69       377\n",
      "   macro avg       0.66      0.68      0.66       377\n",
      "weighted avg       0.60      0.69      0.63       377\n",
      "\n",
      "accuracy :\n",
      " 0.6923076923076923\n",
      "accuracy :\n",
      " 0.6923076923076923\n",
      "predict_proba :\n",
      " [[1.83147582e-01 3.47380619e-01 2.05671919e-01 1.28995559e-01\n",
      "  4.09756173e-02 9.38287046e-02]\n",
      " [1.01035597e-03 7.63707681e-04 3.01993693e-04 6.36677956e-02\n",
      "  1.35383004e-01 7.98873144e-01]\n",
      " [8.75974397e-03 1.49606099e-02 2.15881123e-02 2.94174000e-01\n",
      "  2.56782406e-01 4.03735128e-01]\n",
      " ...\n",
      " [1.37621861e-02 9.64435989e-02 2.24972337e-01 4.64856414e-01\n",
      "  5.70862988e-02 1.42879165e-01]\n",
      " [3.47677787e-03 4.03768727e-02 7.45077908e-02 4.02261647e-01\n",
      "  1.17104106e-01 3.62272805e-01]\n",
      " [5.12316685e-03 5.13681234e-03 7.15348473e-03 3.69057050e-01\n",
      "  2.24572155e-01 3.88957331e-01]]\n",
      "f1_score\n",
      " : 0.6309868055242237\n",
      "cm : \n",
      " [[ 22   0   0   0   0   0]\n",
      " [  2  17   0   2   0   0]\n",
      " [  0   4  15   2   0   0]\n",
      " [  0   0   2  63   0  39]\n",
      " [  0   1   0  13   0  44]\n",
      " [  0   0   0   7   0 144]]\n"
     ]
    }
   ],
   "source": [
    "y_pred = rf.predict(X_test) # rf적용한 레벨 예상값 \n",
    "\n",
    "# from sklearn.metrics import classification_report\n",
    "\n",
    "# classification_report\n",
    "print(classification_report(y_test, y_pred)) # 예상 값과 실제 값 비교\n",
    "\n",
    "# RandomForest accuracy\n",
    "print('accuracy :\\n',rf.score(X_test,y_test)) # 정확도\n",
    "\n",
    "# from sklearn.metrics import accuracy_score\n",
    "# 다른 문법에서 같은 점수인지 확인\n",
    "print('accuracy :\\n',accuracy_score(y_test, y_pred)) # 정확도\n",
    "\n",
    "# # predict_proba\n",
    "print('predict_proba :\\n',rf.predict_proba(X_train)) # 불확실성 추정\n",
    "\n",
    "# F1 score\n",
    "# F1 = 2 * (precision * recall) / (precision + recall)\n",
    "# from sklearn.metrics import f1_score\n",
    "print('f1_score\\n :',f1_score(y_test, y_pred, average='weighted')) # F1 = 2 * (precision * recall) / (precision + recall)\n",
    "\n",
    "# CM\n",
    "print('cm : \\n',confusion_matrix(y_test, y_pred))  # 예측값과 실제값의 양상"
   ]
  },
  {
   "cell_type": "markdown",
   "id": "a7d97034-a9ff-4600-9342-f37aaf0893f7",
   "metadata": {},
   "source": [
    "> 고2를 찾지를 못함.."
   ]
  },
  {
   "cell_type": "markdown",
   "id": "90a42bde-2327-4dd3-afb0-c7ef087cd77e",
   "metadata": {},
   "source": [
    "---\n",
    "## RandomForest에  CrossValidation 적용 후 모델 평가 및 시각화"
   ]
  },
  {
   "cell_type": "code",
   "execution_count": 7,
   "id": "5d6dd594-9b6a-4740-b5f8-9d908d7816a4",
   "metadata": {},
   "outputs": [
    {
     "name": "stdout",
     "output_type": "stream",
     "text": [
      "avg test score : 0.7025509340256221 ( +/- 0.021962976706854893)\n"
     ]
    }
   ],
   "source": [
    "rkfold = RepeatedKFold(n_splits=5, random_state=42, n_repeats=10)\n",
    "\n",
    "model = make_pipeline(\n",
    "    StandardScaler(), # parameter scaling을 진행함.\n",
    "    RandomForestClassifier() \n",
    ")\n",
    "\n",
    "cross_val = cross_validate(\n",
    "    estimator = model,\n",
    "    X = train, y=target,\n",
    "    cv=rkfold, return_estimator = True\n",
    ")\n",
    "\n",
    "print('avg test score : {} ( +/- {})'.format(cross_val['test_score'].mean(), cross_val['test_score'].std())) # 평균 스코어 0.70, 평균분산 +/- 0.0146"
   ]
  },
  {
   "cell_type": "markdown",
   "id": "52623b62-f7fe-42aa-b09a-5bec4efd52aa",
   "metadata": {},
   "source": [
    "---\n",
    "# ExtraTreesClassifier"
   ]
  },
  {
   "cell_type": "code",
   "execution_count": 8,
   "id": "f0dd410f-1a0d-451f-9ba5-ae9d5ab17e5f",
   "metadata": {},
   "outputs": [],
   "source": [
    "# 데이터 불러오기\n",
    "with open('./data/1004_sample_10_20.csv', encoding=\"UTF-8\") as f:\n",
    "    table = pd.read_csv(f) # csv 읽어오기\n",
    "data_set = pd.DataFrame(table) # df 로 변환\n",
    "data_set = data_set.drop(['order'],axis=1) # 의미없는 col 삭제\n",
    "data_set = data_set.fillna(0) # 결측치 0처리 = 단어장에서 고등학교 단어들\n",
    "data_set = data_set.replace({'H3':5,'H2': 4,'H1': 3,'M3': 2,'M2': 1,'M1':0 })\n",
    "# print(data_set.info(),'\\n')\n",
    "# display(data_set.describe())"
   ]
  },
  {
   "cell_type": "markdown",
   "id": "df25f7ab-4014-452e-b61c-55edc0f4d311",
   "metadata": {},
   "source": [
    "---"
   ]
  },
  {
   "cell_type": "markdown",
   "id": "b12ab092-b5f9-469b-8a24-ed9f05751cfe",
   "metadata": {},
   "source": [
    "## train, valid set 분리"
   ]
  },
  {
   "cell_type": "code",
   "execution_count": 9,
   "id": "b1905334-be5a-4427-8fb7-fb10df63b007",
   "metadata": {},
   "outputs": [],
   "source": [
    "train = data_set\n",
    "target = train[\"level\"]\n",
    "train = train.drop([\"level\"], axis=1)\n",
    "\n",
    "X_train, X_test, y_train, y_test = train_test_split(train, target, test_size=0.2, random_state=42, stratify=target) # train test set 분리"
   ]
  },
  {
   "cell_type": "markdown",
   "id": "e45a42b4-0410-4306-a284-3da9ebc3a12f",
   "metadata": {},
   "source": [
    "## Optuna Hyper-Parameter Tuning 결과 가져오기"
   ]
  },
  {
   "cell_type": "code",
   "execution_count": 10,
   "id": "9a31c0b5-0c68-4086-b1eb-df993d58d3ea",
   "metadata": {},
   "outputs": [
    {
     "data": {
      "text/plain": [
       "ExtraTreesClassifier(class_weight={}, criterion='entropy', max_depth=9,\n",
       "                     max_features=0.8265368056408702,\n",
       "                     min_impurity_decrease=0.0007617908497235173,\n",
       "                     min_samples_leaf=2, min_samples_split=7, n_estimators=285,\n",
       "                     n_jobs=-1, random_state=42)"
      ]
     },
     "execution_count": 10,
     "metadata": {},
     "output_type": "execute_result"
    }
   ],
   "source": [
    "et = ExtraTreesClassifier(bootstrap=False, ccp_alpha=0.0, class_weight={}, # 결과 파라미터 적용\n",
    "                     criterion='entropy', max_depth=9,\n",
    "                     max_features=0.8265368056408702, max_leaf_nodes=None,\n",
    "                     max_samples=None,\n",
    "                     min_impurity_decrease=0.0007617908497235173,\n",
    "                     min_impurity_split=None, min_samples_leaf=2,\n",
    "                     min_samples_split=7, min_weight_fraction_leaf=0.0,\n",
    "                     n_estimators=285, n_jobs=-1, oob_score=False,\n",
    "                     random_state=42, verbose=0, warm_start=False)\n",
    "et.fit(X_train,y_train)"
   ]
  },
  {
   "cell_type": "markdown",
   "id": "726985e8-1444-4066-825c-43172a54bacd",
   "metadata": {},
   "source": [
    "## Accuracy, Predict_proba, f1_score, CM"
   ]
  },
  {
   "cell_type": "code",
   "execution_count": 11,
   "id": "75b63614-afde-4256-bf98-3a03c4ca2c1e",
   "metadata": {},
   "outputs": [
    {
     "name": "stdout",
     "output_type": "stream",
     "text": [
      "              precision    recall  f1-score   support\n",
      "\n",
      "           0       0.95      0.95      0.95        22\n",
      "           1       0.82      0.86      0.84        21\n",
      "           2       0.80      0.76      0.78        21\n",
      "           3       0.73      0.74      0.73       104\n",
      "           4       1.00      0.02      0.03        58\n",
      "           5       0.69      0.94      0.80       151\n",
      "\n",
      "    accuracy                           0.73       377\n",
      "   macro avg       0.83      0.71      0.69       377\n",
      "weighted avg       0.78      0.73      0.67       377\n",
      "\n",
      "accuracy :\n",
      " 0.7294429708222812\n",
      "accuracy :\n",
      " 0.7294429708222812\n",
      "predict_proba :\n",
      " [[5.82098528e-02 7.01036468e-01 1.49770376e-01 5.93543360e-02\n",
      "  3.80288699e-03 2.78260800e-02]\n",
      " [0.00000000e+00 0.00000000e+00 0.00000000e+00 2.19475022e-02\n",
      "  7.01116819e-02 9.07940816e-01]\n",
      " [2.67121505e-03 2.50626566e-04 0.00000000e+00 2.34386709e-01\n",
      "  3.84913591e-01 3.77777858e-01]\n",
      " ...\n",
      " [4.89766082e-03 3.40152768e-02 1.93893540e-01 6.87864172e-01\n",
      "  1.31435229e-02 6.61858274e-02]\n",
      " [5.84795322e-04 9.56398349e-04 1.42247567e-02 6.77798852e-01\n",
      "  5.27237278e-02 2.53711469e-01]\n",
      " [0.00000000e+00 0.00000000e+00 8.77192982e-04 3.83642308e-01\n",
      "  1.89797604e-01 4.25682896e-01]]\n",
      "f1_score\n",
      " : 0.6719566496354856\n",
      "cm : \n",
      " [[ 21   1   0   0   0   0]\n",
      " [  1  18   1   1   0   0]\n",
      " [  0   3  16   1   0   1]\n",
      " [  0   0   2  77   0  25]\n",
      " [  0   0   1  18   1  38]\n",
      " [  0   0   0   9   0 142]]\n"
     ]
    }
   ],
   "source": [
    "y_pred = et.predict(X_test) # et적용한 레벨 예상값 \n",
    "\n",
    "# from sklearn.metrics import classification_report\n",
    "\n",
    "# classification_report\n",
    "print(classification_report(y_test, y_pred)) # 예상 값과 실제 값 비교\n",
    "\n",
    "# RandomForest accuracy\n",
    "print('accuracy :\\n',et.score(X_test,y_test)) # 정확도\n",
    "\n",
    "# from sklearn.metrics import accuracy_score\n",
    "# 다른 문법에서 같은 점수인지 확인\n",
    "print('accuracy :\\n',accuracy_score(y_test, y_pred)) # 정확도\n",
    "\n",
    "# # predict_proba\n",
    "print('predict_proba :\\n',et.predict_proba(X_train)) # 불확실성 추정\n",
    "\n",
    "# F1 score\n",
    "# F1 = 2 * (precision * recall) / (precision + recall)\n",
    "# from sklearn.metrics import f1_score\n",
    "print('f1_score\\n :',f1_score(y_test, y_pred, average='weighted')) # F1 = 2 * (precision * recall) / (precision + recall)\n",
    "\n",
    "# CM\n",
    "print('cm : \\n',confusion_matrix(y_test, y_pred))  # 예측값과 실제값의 양상"
   ]
  },
  {
   "cell_type": "markdown",
   "id": "c992ac74-4eeb-4e53-81de-aed0521f35f0",
   "metadata": {},
   "source": [
    "## Cross Validation 적용 모델"
   ]
  },
  {
   "cell_type": "code",
   "execution_count": 12,
   "id": "0fee27c7-b4dc-4bc5-a473-cbdb02416e70",
   "metadata": {},
   "outputs": [
    {
     "name": "stdout",
     "output_type": "stream",
     "text": [
      "avg test score : 0.7026550595406063 ( +/- 0.01905973523439405)\n"
     ]
    }
   ],
   "source": [
    "rkfold = RepeatedKFold(n_splits=5, random_state=42, n_repeats=10) # train데이터 내에서 순환하면서 서로 검증하는 kfold방식\n",
    "\n",
    "model = make_pipeline(\n",
    "    StandardScaler(), #  scaling 진행\n",
    "    RandomForestClassifier()\n",
    ")\n",
    "\n",
    "cross_val = cross_validate( # 일반적인 cross validation 진행\n",
    "    estimator = model,\n",
    "    X = train, y=target,\n",
    "    cv=rkfold # RepeatedKFold\n",
    ")\n",
    "\n",
    "print('avg test score : {} ( +/- {})'.format(cross_val['test_score'].mean(), cross_val['test_score'].std()))\n"
   ]
  },
  {
   "cell_type": "markdown",
   "id": "d43d3056-9262-40db-99d5-6e58210c7601",
   "metadata": {},
   "source": [
    "---\n",
    "# Ensemble\n",
    "> 앙상블을 하는 이유 : 과적합 방지"
   ]
  },
  {
   "cell_type": "code",
   "execution_count": 13,
   "id": "a1246d81-383a-4867-94b5-2e6eb69f070d",
   "metadata": {},
   "outputs": [],
   "source": [
    "# data_set.columns"
   ]
  },
  {
   "cell_type": "code",
   "execution_count": 14,
   "id": "e746868b-b2dd-42d3-bc38-599076932a87",
   "metadata": {},
   "outputs": [],
   "source": [
    "# 데이터 불러오기\n",
    "with open('./data/1004_sample_10_20.csv', encoding=\"UTF-8\") as f:\n",
    "    table = pd.read_csv(f) # csv 읽어오기\n",
    "data_set = pd.DataFrame(table) # df 로 변환\n",
    "data_set = data_set.drop(['order'],axis=1) # 의미없는 col 삭제\n",
    "data_set = data_set.fillna(0) # 결측치 0처리 = 단어장에서 고등학교 단어들\n",
    "data_set = data_set.replace({'H3':5,'H2': 4,'H1': 3,'M3': 2,'M2': 1,'M1':0 })\n",
    "# print(data_set.info(),'\\n')\n",
    "# display(data_set.describe())\n",
    "\n",
    "train = data_set\n",
    "target = train[\"level\"]\n",
    "train = train.drop([\"level\"], axis=1)\n",
    "# display(target)\n",
    "# display(train.head())\n",
    "\n",
    "# train test set 분리\n",
    "X_train, X_test, y_train, y_test = train_test_split(train, target, test_size=0.2, random_state=42, stratify=target)"
   ]
  },
  {
   "cell_type": "markdown",
   "id": "4ca1240d-b5cf-451a-9ed0-0a481505e5fe",
   "metadata": {},
   "source": [
    "---"
   ]
  },
  {
   "cell_type": "markdown",
   "id": "71b813b7-0f2e-4220-8898-5e6c5cb7fa10",
   "metadata": {},
   "source": [
    "## Ensemble Voting classifier"
   ]
  },
  {
   "cell_type": "code",
   "execution_count": 15,
   "id": "9150f0e3-659d-444e-8281-fce7db450601",
   "metadata": {},
   "outputs": [
    {
     "name": "stdout",
     "output_type": "stream",
     "text": [
      "Accuracy: 0.70 (+/- 0.02) [RandomForestClassifier]\n",
      "Accuracy: 0.70 (+/- 0.02) [ExtraTreesClassifier]\n",
      "Accuracy: 0.71 (+/- 0.02) [VotingClassifier]\n"
     ]
    }
   ],
   "source": [
    "# 파라미터 조건 취하지 않았을 때 점수. 점수가 약간 더 높으나 해석에 어려움을 겪음.\n",
    "from sklearn.ensemble import VotingClassifier\n",
    "from sklearn.model_selection import RepeatedKFold\n",
    "\n",
    "rkfold = RepeatedKFold(n_splits=5, random_state=42, n_repeats=10)\n",
    "model1 = RandomForestClassifier( random_state=42)\n",
    "model2 = ExtraTreesClassifier(random_state=42)\n",
    "vote_model = VotingClassifier(\n",
    "    estimators = [('rf', model1), ('et',model2)],\n",
    "    voting='soft'\n",
    ")\n",
    "for model in (model1, model2, vote_model): \n",
    "    model_name = str(type(model)).split('.')[-1][:-2]\n",
    "    scores = cross_val_score(model, train, target, cv=rkfold)\n",
    "    print('Accuracy: %0.2f (+/- %0.2f) [%s]' % (scores.mean(), scores.std(), model_name))"
   ]
  },
  {
   "cell_type": "code",
   "execution_count": 16,
   "id": "48010056-8f5b-4a04-a468-90268678a604",
   "metadata": {},
   "outputs": [
    {
     "name": "stdout",
     "output_type": "stream",
     "text": [
      "Accuracy: 0.67 (+/- 0.02) [RandomForestClassifier]\n",
      "Accuracy: 0.70 (+/- 0.02) [ExtraTreesClassifier]\n",
      "Accuracy: 0.69 (+/- 0.02) [VotingClassifier]\n"
     ]
    }
   ],
   "source": [
    "# 파라미터 조건을 취한 후 정확도가 약간 떨어지나 해석에 용이함.\n",
    "from sklearn.ensemble import VotingClassifier\n",
    "from sklearn.model_selection import RepeatedKFold\n",
    "\n",
    "rkfold = RepeatedKFold(n_splits=5, random_state=42, n_repeats=10)\n",
    "\n",
    "model1 = RandomForestClassifier(bootstrap=True, ccp_alpha=0.0, class_weight=None, # 파라미터 튜닝 값\n",
    "                       criterion='gini', max_depth=5, max_features='auto',\n",
    "                       max_leaf_nodes=None, max_samples=None,\n",
    "                       min_impurity_decrease=0.0, min_impurity_split=None,\n",
    "                       min_samples_leaf=5, min_samples_split=5,\n",
    "                       min_weight_fraction_leaf=0.0, n_estimators=100,\n",
    "                       n_jobs=-1, oob_score=False, random_state=42, verbose=0,\n",
    "                       warm_start=False)\n",
    "model2 = ExtraTreesClassifier(bootstrap=False, ccp_alpha=0.0, class_weight={}, # 파라미터 튜닝 값\n",
    "                     criterion='entropy', max_depth=9,\n",
    "                     max_features=0.8265368056408702, max_leaf_nodes=None,\n",
    "                     max_samples=None,\n",
    "                     min_impurity_decrease=0.0007617908497235173,\n",
    "                     min_impurity_split=None, min_samples_leaf=2,\n",
    "                     min_samples_split=7, min_weight_fraction_leaf=0.0,\n",
    "                     n_estimators=285, n_jobs=-1, oob_score=False,\n",
    "                     random_state=42, verbose=0, warm_start=False)\n",
    "\n",
    "vote_model = VotingClassifier(\n",
    "    estimators = [('rf', model1), ('et',model2)] ,\n",
    "    voting='soft'\n",
    ")\n",
    "\n",
    "for model in (model1, model2, vote_model): \n",
    "    model_name = str(type(model)).split('.')[-1][:-2]\n",
    "    scores = cross_val_score(model, train, target, cv=rkfold)\n",
    "    print('Accuracy: %0.2f (+/- %0.2f) [%s]' % (scores.mean(), scores.std(), model_name))\n",
    "    "
   ]
  },
  {
   "cell_type": "markdown",
   "id": "3e83a3fc-9ddf-43d4-8f08-0c549f81076d",
   "metadata": {},
   "source": [
    "---\n",
    "#  BTS 성적 확인"
   ]
  },
  {
   "cell_type": "code",
   "execution_count": 17,
   "id": "5754d49a-47cd-4050-83c0-71fb806c67c4",
   "metadata": {},
   "outputs": [],
   "source": [
    "from sklearn.model_selection import RepeatedKFold\n",
    "rkfold = RepeatedKFold(n_splits=5, random_state=42, n_repeats=10)"
   ]
  },
  {
   "cell_type": "code",
   "execution_count": 18,
   "id": "caa11674-7e0f-46c5-84de-a790ef6c65b7",
   "metadata": {},
   "outputs": [],
   "source": [
    "# 데이터 불러오기\n",
    "with open('./data/1004_sample_10_20.csv', encoding=\"UTF-8\") as f:\n",
    "    table = pd.read_csv(f) # csv 읽어오기\n",
    "data_set = pd.DataFrame(table) # df 로 변환\n",
    "data_set = data_set.drop(['order'],axis=1) # 의미없는 col 삭제\n",
    "data_set = data_set.fillna(0) # 결측치 0처리 \n",
    "data_set = data_set.replace({'H3':5,'H2': 4,'H1': 3,'M3': 2,'M2': 1,'M1':0 })\n",
    "# print(data_set.info(),'\\n')\n",
    "# display(data_set.describe())\n",
    "\n",
    "train = data_set\n",
    "target = train[\"level\"]\n",
    "train = train.drop([\"level\"], axis=1)\n",
    "# display(target)\n",
    "# display(train.head())\n",
    "\n",
    "X_train, X_test, y_train, y_test = train_test_split(train, target, test_size=0.2, random_state=42, stratify=target) # train test set 분리"
   ]
  },
  {
   "cell_type": "code",
   "execution_count": 19,
   "id": "aa8c4747-e766-4c71-a0de-038b25db5917",
   "metadata": {},
   "outputs": [
    {
     "name": "stdout",
     "output_type": "stream",
     "text": [
      "<class 'pandas.core.frame.DataFrame'>\n",
      "RangeIndex: 1 entries, 0 to 0\n",
      "Data columns (total 15 columns):\n",
      " #   Column                               Non-Null Count  Dtype  \n",
      "---  ------                               --------------  -----  \n",
      " 0   E                                    1 non-null      float64\n",
      " 1   M1                                   1 non-null      float64\n",
      " 2   M2                                   1 non-null      float64\n",
      " 3   M3                                   1 non-null      float64\n",
      " 4   H1                                   1 non-null      float64\n",
      " 5   H2                                   1 non-null      float64\n",
      " 6   H3                                   1 non-null      float64\n",
      " 7   sum_counted_word                     1 non-null      int64  \n",
      " 8   count_sentence_per_text              1 non-null      int64  \n",
      " 9   count_word_per_text                  1 non-null      int64  \n",
      " 10  mean_count_word_per_sentence         1 non-null      float64\n",
      " 11  count_alphabet_per_word              1 non-null      float64\n",
      " 12  mean_logest_word_per_sentence        1 non-null      float64\n",
      " 13  mean_count_verb_per_sentence         1 non-null      float64\n",
      " 14  mean_count_proposition_per_sentence  1 non-null      float64\n",
      "dtypes: float64(12), int64(3)\n",
      "memory usage: 248.0 bytes\n"
     ]
    },
    {
     "data": {
      "text/html": [
       "<div>\n",
       "<style scoped>\n",
       "    .dataframe tbody tr th:only-of-type {\n",
       "        vertical-align: middle;\n",
       "    }\n",
       "\n",
       "    .dataframe tbody tr th {\n",
       "        vertical-align: top;\n",
       "    }\n",
       "\n",
       "    .dataframe thead th {\n",
       "        text-align: right;\n",
       "    }\n",
       "</style>\n",
       "<table border=\"1\" class=\"dataframe\">\n",
       "  <thead>\n",
       "    <tr style=\"text-align: right;\">\n",
       "      <th></th>\n",
       "      <th>E</th>\n",
       "      <th>M1</th>\n",
       "      <th>M2</th>\n",
       "      <th>M3</th>\n",
       "      <th>H1</th>\n",
       "      <th>H2</th>\n",
       "      <th>H3</th>\n",
       "      <th>sum_counted_word</th>\n",
       "      <th>count_sentence_per_text</th>\n",
       "      <th>count_word_per_text</th>\n",
       "      <th>mean_count_word_per_sentence</th>\n",
       "      <th>count_alphabet_per_word</th>\n",
       "      <th>mean_logest_word_per_sentence</th>\n",
       "      <th>mean_count_verb_per_sentence</th>\n",
       "      <th>mean_count_proposition_per_sentence</th>\n",
       "    </tr>\n",
       "  </thead>\n",
       "  <tbody>\n",
       "    <tr>\n",
       "      <th>0</th>\n",
       "      <td>0.418182</td>\n",
       "      <td>0.127273</td>\n",
       "      <td>0.098182</td>\n",
       "      <td>0.072727</td>\n",
       "      <td>0.04</td>\n",
       "      <td>0.243636</td>\n",
       "      <td>0.0</td>\n",
       "      <td>275</td>\n",
       "      <td>49</td>\n",
       "      <td>411</td>\n",
       "      <td>8.387755</td>\n",
       "      <td>3.523114</td>\n",
       "      <td>6.0</td>\n",
       "      <td>2.346939</td>\n",
       "      <td>1.020408</td>\n",
       "    </tr>\n",
       "  </tbody>\n",
       "</table>\n",
       "</div>"
      ],
      "text/plain": [
       "          E        M1        M2        M3    H1        H2   H3  \\\n",
       "0  0.418182  0.127273  0.098182  0.072727  0.04  0.243636  0.0   \n",
       "\n",
       "   sum_counted_word  count_sentence_per_text  count_word_per_text  \\\n",
       "0               275                       49                  411   \n",
       "\n",
       "   mean_count_word_per_sentence  count_alphabet_per_word  \\\n",
       "0                      8.387755                 3.523114   \n",
       "\n",
       "   mean_logest_word_per_sentence  mean_count_verb_per_sentence  \\\n",
       "0                            6.0                      2.346939   \n",
       "\n",
       "   mean_count_proposition_per_sentence  \n",
       "0                             1.020408  "
      ]
     },
     "execution_count": 19,
     "metadata": {},
     "output_type": "execute_result"
    }
   ],
   "source": [
    "test=pd.read_csv('data/1004_bts_sample_9_20.csv') # level을 확인하고 싶은 문장 csv\n",
    "test.info() \n",
    "test"
   ]
  },
  {
   "cell_type": "markdown",
   "id": "f5c07bc1-4255-4290-8652-30e7057bfe03",
   "metadata": {},
   "source": [
    "## 파라미터 수정 전 BTS `Permission to dance` 난이도 check"
   ]
  },
  {
   "cell_type": "code",
   "execution_count": 20,
   "id": "2b838958-3aeb-4906-9ca7-e396ab0060e2",
   "metadata": {},
   "outputs": [
    {
     "name": "stdout",
     "output_type": "stream",
     "text": [
      "Accuracy: 0.70 (+/- 0.02) [RandomForestClassifier]\n",
      "Accuracy: 0.70 (+/- 0.02) [ExtraTreesClassifier]\n",
      "Accuracy: 0.71 (+/- 0.02) [VotingClassifier]\n"
     ]
    }
   ],
   "source": [
    "from sklearn.model_selection import cross_val_predict\n",
    "\n",
    "# 파라미터 조건 없이 실행했을 때 근소하게 높은 점수이나 해석에 어려움.\n",
    "from sklearn.ensemble import VotingClassifier\n",
    "from sklearn.model_selection import RepeatedKFold\n",
    "\n",
    "rkfold = RepeatedKFold(n_splits=5, random_state=42, n_repeats=10)\n",
    "model1 = RandomForestClassifier(random_state = 42)\n",
    "model2 = ExtraTreesClassifier(random_state=42)\n",
    "vote_model = VotingClassifier(\n",
    "    estimators = [('rf', model1), ('et',model2)] , \n",
    "    voting='soft'\n",
    ")\n",
    "\n",
    "for model in (model1, model2, vote_model): \n",
    "    model_name = str(type(model)).split('.')[-1][:-2]\n",
    "    scores = cross_val_score(model, train, target, cv=rkfold)\n",
    "    print('Accuracy: %0.2f (+/- %0.2f) [%s]' % (scores.mean(), scores.std(), model_name))"
   ]
  },
  {
   "cell_type": "code",
   "execution_count": 21,
   "id": "be1d45c4-6785-4ea1-bdab-17336ad2a90b",
   "metadata": {},
   "outputs": [
    {
     "name": "stdout",
     "output_type": "stream",
     "text": [
      "[2]\n"
     ]
    }
   ],
   "source": [
    "# BTS 노래가사의 난이도를 확인해보자\n",
    "prediction = np.zeros((1,6))\n",
    "\n",
    "for model in (model1, model2, vote_model):\n",
    "    model.fit(train,target)\n",
    "    model_pred = model.predict_proba(test)\n",
    "    prediction += model_pred\n",
    "\n",
    "pred_BTS = prediction / 3 # 여러 모델을 사용할 때 모델 n개만큼 뺴줘야 함.\n",
    "print(np.argmax(pred_BTS, axis=1)) # 2 = 중학교 3학년 레벨 (0 ~ 5 = 중1 ~ 고3 )"
   ]
  },
  {
   "cell_type": "markdown",
   "id": "e8867813-b315-413d-85b0-19c3e5f69b1a",
   "metadata": {},
   "source": [
    "## 파라미터 수정 후 BTS `Permission to dance` 난이도 check"
   ]
  },
  {
   "cell_type": "code",
   "execution_count": 22,
   "id": "76955042-e8fb-405a-a750-afba7d7ea51d",
   "metadata": {
    "tags": []
   },
   "outputs": [
    {
     "name": "stdout",
     "output_type": "stream",
     "text": [
      "Accuracy: 0.67 (+/- 0.02) [RandomForestClassifier]\n",
      "Accuracy: 0.70 (+/- 0.02) [ExtraTreesClassifier]\n",
      "Accuracy: 0.70 (+/- 0.02) [VotingClassifier]\n"
     ]
    }
   ],
   "source": [
    "#  parameter  수정 후 Accuracy 값 확인\n",
    "from sklearn.ensemble import VotingClassifier\n",
    "from sklearn.model_selection import RepeatedKFold\n",
    "\n",
    "rkfold = RepeatedKFold(n_splits=5, random_state=42, n_repeats=10)\n",
    "\n",
    "model1 = RandomForestClassifier(bootstrap=True,\n",
    "                            ccp_alpha=0.0,\n",
    "                            class_weight=None,\n",
    "                        criterion='gini',\n",
    "                            max_depth=5,\n",
    "                            max_features='auto',\n",
    "                        max_leaf_nodes=None,\n",
    "                            max_samples=None,\n",
    "                        min_impurity_decrease=0.0,\n",
    "                            min_impurity_split=None,\n",
    "                        min_samples_leaf=1,\n",
    "                            min_samples_split=2,\n",
    "                        min_weight_fraction_leaf=0.0,\n",
    "                            n_estimators=100,\n",
    "                        n_jobs=-1, oob_score=False,\n",
    "                            random_state=42,\n",
    "                            verbose=0,\n",
    "                        warm_start=False)\n",
    "model2 = ExtraTreesClassifier(bootstrap=False, ccp_alpha=0.0, class_weight={},\n",
    "                     criterion='entropy', max_depth=9, max_features=1.0,\n",
    "                     max_leaf_nodes=None, max_samples=None,\n",
    "                     min_impurity_decrease=0.0005, min_impurity_split=None,\n",
    "                     min_samples_leaf=4, min_samples_split=10,\n",
    "                     min_weight_fraction_leaf=0.0, n_estimators=50, n_jobs=-1,\n",
    "                     oob_score=False, random_state=42, verbose=0,\n",
    "                     warm_start=False)\n",
    "# model3 = DecisionTreeClassifier()\n",
    "vote_model = VotingClassifier(\n",
    "    estimators = [('rf', model1), ('et',model2)] , # ,('dt',model3)\n",
    "    voting='soft'\n",
    ")\n",
    "\n",
    "for model in (model1, model2, vote_model): # , model3\n",
    "    model_name = str(type(model)).split('.')[-1][:-2]\n",
    "    scores = cross_val_score(model, train, target, cv=rkfold)\n",
    "    print('Accuracy: %0.2f (+/- %0.2f) [%s]' % (scores.mean(), scores.std(), model_name)) # 정확도 0.70 달성"
   ]
  },
  {
   "cell_type": "code",
   "execution_count": 23,
   "id": "43ec96b4-909c-41b6-b6eb-380fe803384f",
   "metadata": {},
   "outputs": [
    {
     "name": "stdout",
     "output_type": "stream",
     "text": [
      "[2]\n"
     ]
    }
   ],
   "source": [
    "# BTS 노래가사의 난이도를 확인해보자\n",
    "prediction = np.zeros((1,6))\n",
    "\n",
    "for model in (model1, model2, vote_model):\n",
    "    model.fit(train,target)\n",
    "    model_pred = model.predict_proba(test)\n",
    "    prediction += model_pred\n",
    "\n",
    "pred_BTS = prediction / 3 # 모델개수만큼 뺴기...\n",
    "print(np.argmax(pred_BTS, axis=1)) # 2 = 중학교 3학년 레벨 (0 ~ 5 = 중1 ~ 고3 )"
   ]
  }
 ],
 "metadata": {
  "kernelspec": {
   "display_name": "Python 3",
   "language": "python",
   "name": "python3"
  },
  "language_info": {
   "codemirror_mode": {
    "name": "ipython",
    "version": 3
   },
   "file_extension": ".py",
   "mimetype": "text/x-python",
   "name": "python",
   "nbconvert_exporter": "python",
   "pygments_lexer": "ipython3",
   "version": "3.8.8"
  }
 },
 "nbformat": 4,
 "nbformat_minor": 5
}
