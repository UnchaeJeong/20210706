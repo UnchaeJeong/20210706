{
 "cells": [
  {
   "cell_type": "code",
   "execution_count": 1,
   "id": "108750bf-8034-489a-88a9-1783f8c11167",
   "metadata": {},
   "outputs": [
    {
     "name": "stdout",
     "output_type": "stream",
     "text": [
      "Python 3.8.8\n"
     ]
    }
   ],
   "source": [
    "!python --version"
   ]
  },
  {
   "cell_type": "code",
   "execution_count": 2,
   "id": "751ac82f-6e6c-4385-be3f-b6176abb3b34",
   "metadata": {},
   "outputs": [],
   "source": [
    "# !pip install pycaret\n",
    "# !pip install optuna\n",
    "# !pip install scikit-optuna\n",
    "# !pip install lightgbm xgboost catboost\n",
    "# !pip install xgboost == 1.4.2"
   ]
  },
  {
   "cell_type": "code",
   "execution_count": 3,
   "id": "3558bce0-6d62-4189-8bd2-b393a92e3790",
   "metadata": {},
   "outputs": [
    {
     "name": "stdout",
     "output_type": "stream",
     "text": [
      "1.4.2\n",
      "3.2.1\n",
      "0.26\n",
      "0.23.2\n"
     ]
    }
   ],
   "source": [
    "import os\n",
    "import warnings \n",
    "warnings.filterwarnings(\"ignore\") # 파이썬에서 일어나는 오류는 무시한다.\n",
    "\n",
    "import numpy as np\n",
    "import pandas as pd\n",
    "import matplotlib.pyplot as plt\n",
    "import seaborn as sns\n",
    "import missingno as msno\n",
    "import time\n",
    "import sklearn\n",
    "from tqdm import tqdm\n",
    "\n",
    "\n",
    "from sklearn.preprocessing import OneHotEncoder \n",
    "import sklearn\n",
    "from sklearn.neighbors import KNeighborsClassifier\n",
    "from sklearn.svm import SVC\n",
    "from lightgbm import LGBMClassifier\n",
    "from sklearn.ensemble import RandomForestClassifier, ExtraTreesClassifier\n",
    "from sklearn.tree import ExtraTreeClassifier, DecisionTreeClassifier\n",
    "from sklearn.metrics import log_loss, precision_score, accuracy_score, f1_score, confusion_matrix\n",
    "from sklearn.model_selection import StratifiedKFold, train_test_split \n",
    "\n",
    "from pycaret.classification import *\n",
    "\n",
    "import optuna\n",
    "from optuna import Trial\n",
    "from optuna.samplers import TPESampler # 최적화\n",
    "\n",
    "import xgboost as xgb\n",
    "import lightgbm as lgbm\n",
    "import catboost as cb\n",
    "\n",
    "print(xgb.__version__)\n",
    "print(lgbm.__version__)\n",
    "print(cb.__version__)\n",
    "print(sklearn.__version__)\n",
    "seed = 42\n",
    "np.random.seed(42)  # random seed 선언"
   ]
  },
  {
   "cell_type": "markdown",
   "id": "cd53e69e-af22-49d5-88cc-bda305b0a87d",
   "metadata": {},
   "source": [
    "- 진행 순서    \n",
    "1. `Library` : 사용할 패키지를 불러옵니다.\n",
    "2. `Load Dataset` : 사전에 만들어둔 데이터를 불러옵니다.\n",
    "3. `Setup Environment` : Pycaret을 활용하기 위한 환경을 만들어줍니다.\n",
    "4. `Compare Models` : 데이터에 적합한 모델을 찾기 위해 다양한 모델을 비교합니다.\n",
    "5. `Create Models` : 사용할 모델을 만듭니다.\n",
    "6. `Tune Models` : 생성된 모델을 튜닝합니다.\n",
    "7. `Plot Models` : 모델의 결과를 그립니다.\n",
    "8. `Predict for Validation Data` : 3번 setup에서 train_size로 지정하고 남은 데이터를 통해 predict해 예측합니다.\n",
    "9. `Finalize for Deployment`\n",
    "10. `Prediction`\n",
    "11. `Save Model`\n",
    "12. `Load Model`\n",
    "13. `Apply Model`\n",
    "- 참고 문서    \n",
    "URL : https://dacon.io/codeshare/2428    \n",
    "(Data Preprocessing) -> Setup : 환경 설정 -> Compare Models : 데이터에 적합한 모델 찾기 -> Create > Prediction      \n",
    "이후에는 Model Ensemble, Voting, Stacking 등 다양한 단계를 추가할 수 있을 것 같습니다.     "
   ]
  },
  {
   "cell_type": "markdown",
   "id": "a9c78caa-8e10-4335-be49-5ee6541f661e",
   "metadata": {},
   "source": [
    "---\n",
    "# Auto ML pycaret"
   ]
  },
  {
   "cell_type": "markdown",
   "id": "df5a840c-824c-4d06-b3ee-497f3881d34a",
   "metadata": {},
   "source": [
    "## 데이터 불러오기"
   ]
  },
  {
   "cell_type": "code",
   "execution_count": 4,
   "id": "50c56526-a217-4003-9275-805de5cc88a5",
   "metadata": {
    "tags": []
   },
   "outputs": [],
   "source": [
    "# 데이터 불러오기\n",
    "with open('./data/1004_sample_10_20.csv', encoding=\"UTF-8\") as f: # data_set.csv.csv\n",
    "    table = pd.read_csv(f) # csv 읽어오기\n",
    "data_set = pd.DataFrame(table) # df 로 변환\n",
    "data_set = data_set.drop('order',axis=1) # 의미없는 col 삭제\n",
    "data_set = data_set.fillna(0) # 결측치 0처리 \n",
    "data_set = data_set.replace({'H3':5,'H2': 4,'H1': 3,'M3': 2,'M2': 1,'M1':0 }) # str type에서 int타입으로 변환\n",
    "# print(data_set.info(),'\\n')\n",
    "# display(data_set.describe())"
   ]
  },
  {
   "cell_type": "markdown",
   "id": "09582aa5-5c13-449c-9ae0-e4fc2e4927b4",
   "metadata": {},
   "source": [
    "---\n",
    "## Pycaret setup"
   ]
  },
  {
   "cell_type": "code",
   "execution_count": 5,
   "id": "3866cdd9-20ae-4df9-bad4-fe0a6f81c01b",
   "metadata": {},
   "outputs": [
    {
     "data": {
      "text/plain": [
       "Index(['E', 'M1', 'M2', 'M3', 'H1', 'H2', 'H3', 'sum_counted_word',\n",
       "       'count_sentence_per_text', 'count_word_per_text',\n",
       "       'mean_count_word_per_sentence', 'count_alphabet_per_word',\n",
       "       'mean_logest_word_per_sentence', 'mean_count_verb_per_sentence',\n",
       "       'mean_count_proposition_per_sentence', 'level'],\n",
       "      dtype='object')"
      ]
     },
     "execution_count": 5,
     "metadata": {},
     "output_type": "execute_result"
    }
   ],
   "source": [
    "# from pycaret.classification import *\n",
    "\n",
    "\n",
    "df = data_set.copy() # 편의상 df = cols : 관측치 | rows : 문제 index\n",
    "df.columns"
   ]
  },
  {
   "cell_type": "markdown",
   "id": "f46f1338-2839-466a-9157-186b37cb25e3",
   "metadata": {},
   "source": [
    "## setup 확인"
   ]
  },
  {
   "cell_type": "code",
   "execution_count": 6,
   "id": "15e10db6-54fe-439d-a837-a4c3bb3e9dae",
   "metadata": {
    "tags": []
   },
   "outputs": [
    {
     "data": {
      "text/html": [
       "<style type=\"text/css\">\n",
       "</style>\n",
       "<table id=\"T_4f0ac_\">\n",
       "  <thead>\n",
       "    <tr>\n",
       "      <th class=\"blank level0\" >&nbsp;</th>\n",
       "      <th class=\"col_heading level0 col0\" >Description</th>\n",
       "      <th class=\"col_heading level0 col1\" >Value</th>\n",
       "    </tr>\n",
       "  </thead>\n",
       "  <tbody>\n",
       "    <tr>\n",
       "      <th id=\"T_4f0ac_level0_row0\" class=\"row_heading level0 row0\" >0</th>\n",
       "      <td id=\"T_4f0ac_row0_col0\" class=\"data row0 col0\" >session_id</td>\n",
       "      <td id=\"T_4f0ac_row0_col1\" class=\"data row0 col1\" >42</td>\n",
       "    </tr>\n",
       "    <tr>\n",
       "      <th id=\"T_4f0ac_level0_row1\" class=\"row_heading level0 row1\" >1</th>\n",
       "      <td id=\"T_4f0ac_row1_col0\" class=\"data row1 col0\" >Target</td>\n",
       "      <td id=\"T_4f0ac_row1_col1\" class=\"data row1 col1\" >level</td>\n",
       "    </tr>\n",
       "    <tr>\n",
       "      <th id=\"T_4f0ac_level0_row2\" class=\"row_heading level0 row2\" >2</th>\n",
       "      <td id=\"T_4f0ac_row2_col0\" class=\"data row2 col0\" >Target Type</td>\n",
       "      <td id=\"T_4f0ac_row2_col1\" class=\"data row2 col1\" >Multiclass</td>\n",
       "    </tr>\n",
       "    <tr>\n",
       "      <th id=\"T_4f0ac_level0_row3\" class=\"row_heading level0 row3\" >3</th>\n",
       "      <td id=\"T_4f0ac_row3_col0\" class=\"data row3 col0\" >Label Encoded</td>\n",
       "      <td id=\"T_4f0ac_row3_col1\" class=\"data row3 col1\" >0: 0, 1: 1, 2: 2, 3: 3, 4: 4, 5: 5</td>\n",
       "    </tr>\n",
       "    <tr>\n",
       "      <th id=\"T_4f0ac_level0_row4\" class=\"row_heading level0 row4\" >4</th>\n",
       "      <td id=\"T_4f0ac_row4_col0\" class=\"data row4 col0\" >Original Data</td>\n",
       "      <td id=\"T_4f0ac_row4_col1\" class=\"data row4 col1\" >(1881, 16)</td>\n",
       "    </tr>\n",
       "    <tr>\n",
       "      <th id=\"T_4f0ac_level0_row5\" class=\"row_heading level0 row5\" >5</th>\n",
       "      <td id=\"T_4f0ac_row5_col0\" class=\"data row5 col0\" >Missing Values</td>\n",
       "      <td id=\"T_4f0ac_row5_col1\" class=\"data row5 col1\" >False</td>\n",
       "    </tr>\n",
       "    <tr>\n",
       "      <th id=\"T_4f0ac_level0_row6\" class=\"row_heading level0 row6\" >6</th>\n",
       "      <td id=\"T_4f0ac_row6_col0\" class=\"data row6 col0\" >Numeric Features</td>\n",
       "      <td id=\"T_4f0ac_row6_col1\" class=\"data row6 col1\" >15</td>\n",
       "    </tr>\n",
       "    <tr>\n",
       "      <th id=\"T_4f0ac_level0_row7\" class=\"row_heading level0 row7\" >7</th>\n",
       "      <td id=\"T_4f0ac_row7_col0\" class=\"data row7 col0\" >Categorical Features</td>\n",
       "      <td id=\"T_4f0ac_row7_col1\" class=\"data row7 col1\" >0</td>\n",
       "    </tr>\n",
       "    <tr>\n",
       "      <th id=\"T_4f0ac_level0_row8\" class=\"row_heading level0 row8\" >8</th>\n",
       "      <td id=\"T_4f0ac_row8_col0\" class=\"data row8 col0\" >Ordinal Features</td>\n",
       "      <td id=\"T_4f0ac_row8_col1\" class=\"data row8 col1\" >False</td>\n",
       "    </tr>\n",
       "    <tr>\n",
       "      <th id=\"T_4f0ac_level0_row9\" class=\"row_heading level0 row9\" >9</th>\n",
       "      <td id=\"T_4f0ac_row9_col0\" class=\"data row9 col0\" >High Cardinality Features</td>\n",
       "      <td id=\"T_4f0ac_row9_col1\" class=\"data row9 col1\" >False</td>\n",
       "    </tr>\n",
       "    <tr>\n",
       "      <th id=\"T_4f0ac_level0_row10\" class=\"row_heading level0 row10\" >10</th>\n",
       "      <td id=\"T_4f0ac_row10_col0\" class=\"data row10 col0\" >High Cardinality Method</td>\n",
       "      <td id=\"T_4f0ac_row10_col1\" class=\"data row10 col1\" >None</td>\n",
       "    </tr>\n",
       "    <tr>\n",
       "      <th id=\"T_4f0ac_level0_row11\" class=\"row_heading level0 row11\" >11</th>\n",
       "      <td id=\"T_4f0ac_row11_col0\" class=\"data row11 col0\" >Transformed Train Set</td>\n",
       "      <td id=\"T_4f0ac_row11_col1\" class=\"data row11 col1\" >(1504, 14)</td>\n",
       "    </tr>\n",
       "    <tr>\n",
       "      <th id=\"T_4f0ac_level0_row12\" class=\"row_heading level0 row12\" >12</th>\n",
       "      <td id=\"T_4f0ac_row12_col0\" class=\"data row12 col0\" >Transformed Test Set</td>\n",
       "      <td id=\"T_4f0ac_row12_col1\" class=\"data row12 col1\" >(377, 14)</td>\n",
       "    </tr>\n",
       "    <tr>\n",
       "      <th id=\"T_4f0ac_level0_row13\" class=\"row_heading level0 row13\" >13</th>\n",
       "      <td id=\"T_4f0ac_row13_col0\" class=\"data row13 col0\" >Shuffle Train-Test</td>\n",
       "      <td id=\"T_4f0ac_row13_col1\" class=\"data row13 col1\" >True</td>\n",
       "    </tr>\n",
       "    <tr>\n",
       "      <th id=\"T_4f0ac_level0_row14\" class=\"row_heading level0 row14\" >14</th>\n",
       "      <td id=\"T_4f0ac_row14_col0\" class=\"data row14 col0\" >Stratify Train-Test</td>\n",
       "      <td id=\"T_4f0ac_row14_col1\" class=\"data row14 col1\" >True</td>\n",
       "    </tr>\n",
       "    <tr>\n",
       "      <th id=\"T_4f0ac_level0_row15\" class=\"row_heading level0 row15\" >15</th>\n",
       "      <td id=\"T_4f0ac_row15_col0\" class=\"data row15 col0\" >Fold Generator</td>\n",
       "      <td id=\"T_4f0ac_row15_col1\" class=\"data row15 col1\" >StratifiedKFold</td>\n",
       "    </tr>\n",
       "    <tr>\n",
       "      <th id=\"T_4f0ac_level0_row16\" class=\"row_heading level0 row16\" >16</th>\n",
       "      <td id=\"T_4f0ac_row16_col0\" class=\"data row16 col0\" >Fold Number</td>\n",
       "      <td id=\"T_4f0ac_row16_col1\" class=\"data row16 col1\" >5</td>\n",
       "    </tr>\n",
       "    <tr>\n",
       "      <th id=\"T_4f0ac_level0_row17\" class=\"row_heading level0 row17\" >17</th>\n",
       "      <td id=\"T_4f0ac_row17_col0\" class=\"data row17 col0\" >CPU Jobs</td>\n",
       "      <td id=\"T_4f0ac_row17_col1\" class=\"data row17 col1\" >-1</td>\n",
       "    </tr>\n",
       "    <tr>\n",
       "      <th id=\"T_4f0ac_level0_row18\" class=\"row_heading level0 row18\" >18</th>\n",
       "      <td id=\"T_4f0ac_row18_col0\" class=\"data row18 col0\" >Use GPU</td>\n",
       "      <td id=\"T_4f0ac_row18_col1\" class=\"data row18 col1\" >False</td>\n",
       "    </tr>\n",
       "    <tr>\n",
       "      <th id=\"T_4f0ac_level0_row19\" class=\"row_heading level0 row19\" >19</th>\n",
       "      <td id=\"T_4f0ac_row19_col0\" class=\"data row19 col0\" >Log Experiment</td>\n",
       "      <td id=\"T_4f0ac_row19_col1\" class=\"data row19 col1\" >False</td>\n",
       "    </tr>\n",
       "    <tr>\n",
       "      <th id=\"T_4f0ac_level0_row20\" class=\"row_heading level0 row20\" >20</th>\n",
       "      <td id=\"T_4f0ac_row20_col0\" class=\"data row20 col0\" >Experiment Name</td>\n",
       "      <td id=\"T_4f0ac_row20_col1\" class=\"data row20 col1\" >clf-default-name</td>\n",
       "    </tr>\n",
       "    <tr>\n",
       "      <th id=\"T_4f0ac_level0_row21\" class=\"row_heading level0 row21\" >21</th>\n",
       "      <td id=\"T_4f0ac_row21_col0\" class=\"data row21 col0\" >USI</td>\n",
       "      <td id=\"T_4f0ac_row21_col1\" class=\"data row21 col1\" >4ff5</td>\n",
       "    </tr>\n",
       "    <tr>\n",
       "      <th id=\"T_4f0ac_level0_row22\" class=\"row_heading level0 row22\" >22</th>\n",
       "      <td id=\"T_4f0ac_row22_col0\" class=\"data row22 col0\" >Imputation Type</td>\n",
       "      <td id=\"T_4f0ac_row22_col1\" class=\"data row22 col1\" >simple</td>\n",
       "    </tr>\n",
       "    <tr>\n",
       "      <th id=\"T_4f0ac_level0_row23\" class=\"row_heading level0 row23\" >23</th>\n",
       "      <td id=\"T_4f0ac_row23_col0\" class=\"data row23 col0\" >Iterative Imputation Iteration</td>\n",
       "      <td id=\"T_4f0ac_row23_col1\" class=\"data row23 col1\" >None</td>\n",
       "    </tr>\n",
       "    <tr>\n",
       "      <th id=\"T_4f0ac_level0_row24\" class=\"row_heading level0 row24\" >24</th>\n",
       "      <td id=\"T_4f0ac_row24_col0\" class=\"data row24 col0\" >Numeric Imputer</td>\n",
       "      <td id=\"T_4f0ac_row24_col1\" class=\"data row24 col1\" >mean</td>\n",
       "    </tr>\n",
       "    <tr>\n",
       "      <th id=\"T_4f0ac_level0_row25\" class=\"row_heading level0 row25\" >25</th>\n",
       "      <td id=\"T_4f0ac_row25_col0\" class=\"data row25 col0\" >Iterative Imputation Numeric Model</td>\n",
       "      <td id=\"T_4f0ac_row25_col1\" class=\"data row25 col1\" >None</td>\n",
       "    </tr>\n",
       "    <tr>\n",
       "      <th id=\"T_4f0ac_level0_row26\" class=\"row_heading level0 row26\" >26</th>\n",
       "      <td id=\"T_4f0ac_row26_col0\" class=\"data row26 col0\" >Categorical Imputer</td>\n",
       "      <td id=\"T_4f0ac_row26_col1\" class=\"data row26 col1\" >constant</td>\n",
       "    </tr>\n",
       "    <tr>\n",
       "      <th id=\"T_4f0ac_level0_row27\" class=\"row_heading level0 row27\" >27</th>\n",
       "      <td id=\"T_4f0ac_row27_col0\" class=\"data row27 col0\" >Iterative Imputation Categorical Model</td>\n",
       "      <td id=\"T_4f0ac_row27_col1\" class=\"data row27 col1\" >None</td>\n",
       "    </tr>\n",
       "    <tr>\n",
       "      <th id=\"T_4f0ac_level0_row28\" class=\"row_heading level0 row28\" >28</th>\n",
       "      <td id=\"T_4f0ac_row28_col0\" class=\"data row28 col0\" >Unknown Categoricals Handling</td>\n",
       "      <td id=\"T_4f0ac_row28_col1\" class=\"data row28 col1\" >least_frequent</td>\n",
       "    </tr>\n",
       "    <tr>\n",
       "      <th id=\"T_4f0ac_level0_row29\" class=\"row_heading level0 row29\" >29</th>\n",
       "      <td id=\"T_4f0ac_row29_col0\" class=\"data row29 col0\" >Normalize</td>\n",
       "      <td id=\"T_4f0ac_row29_col1\" class=\"data row29 col1\" >False</td>\n",
       "    </tr>\n",
       "    <tr>\n",
       "      <th id=\"T_4f0ac_level0_row30\" class=\"row_heading level0 row30\" >30</th>\n",
       "      <td id=\"T_4f0ac_row30_col0\" class=\"data row30 col0\" >Normalize Method</td>\n",
       "      <td id=\"T_4f0ac_row30_col1\" class=\"data row30 col1\" >None</td>\n",
       "    </tr>\n",
       "    <tr>\n",
       "      <th id=\"T_4f0ac_level0_row31\" class=\"row_heading level0 row31\" >31</th>\n",
       "      <td id=\"T_4f0ac_row31_col0\" class=\"data row31 col0\" >Transformation</td>\n",
       "      <td id=\"T_4f0ac_row31_col1\" class=\"data row31 col1\" >False</td>\n",
       "    </tr>\n",
       "    <tr>\n",
       "      <th id=\"T_4f0ac_level0_row32\" class=\"row_heading level0 row32\" >32</th>\n",
       "      <td id=\"T_4f0ac_row32_col0\" class=\"data row32 col0\" >Transformation Method</td>\n",
       "      <td id=\"T_4f0ac_row32_col1\" class=\"data row32 col1\" >None</td>\n",
       "    </tr>\n",
       "    <tr>\n",
       "      <th id=\"T_4f0ac_level0_row33\" class=\"row_heading level0 row33\" >33</th>\n",
       "      <td id=\"T_4f0ac_row33_col0\" class=\"data row33 col0\" >PCA</td>\n",
       "      <td id=\"T_4f0ac_row33_col1\" class=\"data row33 col1\" >False</td>\n",
       "    </tr>\n",
       "    <tr>\n",
       "      <th id=\"T_4f0ac_level0_row34\" class=\"row_heading level0 row34\" >34</th>\n",
       "      <td id=\"T_4f0ac_row34_col0\" class=\"data row34 col0\" >PCA Method</td>\n",
       "      <td id=\"T_4f0ac_row34_col1\" class=\"data row34 col1\" >None</td>\n",
       "    </tr>\n",
       "    <tr>\n",
       "      <th id=\"T_4f0ac_level0_row35\" class=\"row_heading level0 row35\" >35</th>\n",
       "      <td id=\"T_4f0ac_row35_col0\" class=\"data row35 col0\" >PCA Components</td>\n",
       "      <td id=\"T_4f0ac_row35_col1\" class=\"data row35 col1\" >None</td>\n",
       "    </tr>\n",
       "    <tr>\n",
       "      <th id=\"T_4f0ac_level0_row36\" class=\"row_heading level0 row36\" >36</th>\n",
       "      <td id=\"T_4f0ac_row36_col0\" class=\"data row36 col0\" >Ignore Low Variance</td>\n",
       "      <td id=\"T_4f0ac_row36_col1\" class=\"data row36 col1\" >False</td>\n",
       "    </tr>\n",
       "    <tr>\n",
       "      <th id=\"T_4f0ac_level0_row37\" class=\"row_heading level0 row37\" >37</th>\n",
       "      <td id=\"T_4f0ac_row37_col0\" class=\"data row37 col0\" >Combine Rare Levels</td>\n",
       "      <td id=\"T_4f0ac_row37_col1\" class=\"data row37 col1\" >False</td>\n",
       "    </tr>\n",
       "    <tr>\n",
       "      <th id=\"T_4f0ac_level0_row38\" class=\"row_heading level0 row38\" >38</th>\n",
       "      <td id=\"T_4f0ac_row38_col0\" class=\"data row38 col0\" >Rare Level Threshold</td>\n",
       "      <td id=\"T_4f0ac_row38_col1\" class=\"data row38 col1\" >None</td>\n",
       "    </tr>\n",
       "    <tr>\n",
       "      <th id=\"T_4f0ac_level0_row39\" class=\"row_heading level0 row39\" >39</th>\n",
       "      <td id=\"T_4f0ac_row39_col0\" class=\"data row39 col0\" >Numeric Binning</td>\n",
       "      <td id=\"T_4f0ac_row39_col1\" class=\"data row39 col1\" >False</td>\n",
       "    </tr>\n",
       "    <tr>\n",
       "      <th id=\"T_4f0ac_level0_row40\" class=\"row_heading level0 row40\" >40</th>\n",
       "      <td id=\"T_4f0ac_row40_col0\" class=\"data row40 col0\" >Remove Outliers</td>\n",
       "      <td id=\"T_4f0ac_row40_col1\" class=\"data row40 col1\" >False</td>\n",
       "    </tr>\n",
       "    <tr>\n",
       "      <th id=\"T_4f0ac_level0_row41\" class=\"row_heading level0 row41\" >41</th>\n",
       "      <td id=\"T_4f0ac_row41_col0\" class=\"data row41 col0\" >Outliers Threshold</td>\n",
       "      <td id=\"T_4f0ac_row41_col1\" class=\"data row41 col1\" >None</td>\n",
       "    </tr>\n",
       "    <tr>\n",
       "      <th id=\"T_4f0ac_level0_row42\" class=\"row_heading level0 row42\" >42</th>\n",
       "      <td id=\"T_4f0ac_row42_col0\" class=\"data row42 col0\" >Remove Multicollinearity</td>\n",
       "      <td id=\"T_4f0ac_row42_col1\" class=\"data row42 col1\" >False</td>\n",
       "    </tr>\n",
       "    <tr>\n",
       "      <th id=\"T_4f0ac_level0_row43\" class=\"row_heading level0 row43\" >43</th>\n",
       "      <td id=\"T_4f0ac_row43_col0\" class=\"data row43 col0\" >Multicollinearity Threshold</td>\n",
       "      <td id=\"T_4f0ac_row43_col1\" class=\"data row43 col1\" >None</td>\n",
       "    </tr>\n",
       "    <tr>\n",
       "      <th id=\"T_4f0ac_level0_row44\" class=\"row_heading level0 row44\" >44</th>\n",
       "      <td id=\"T_4f0ac_row44_col0\" class=\"data row44 col0\" >Clustering</td>\n",
       "      <td id=\"T_4f0ac_row44_col1\" class=\"data row44 col1\" >False</td>\n",
       "    </tr>\n",
       "    <tr>\n",
       "      <th id=\"T_4f0ac_level0_row45\" class=\"row_heading level0 row45\" >45</th>\n",
       "      <td id=\"T_4f0ac_row45_col0\" class=\"data row45 col0\" >Clustering Iteration</td>\n",
       "      <td id=\"T_4f0ac_row45_col1\" class=\"data row45 col1\" >None</td>\n",
       "    </tr>\n",
       "    <tr>\n",
       "      <th id=\"T_4f0ac_level0_row46\" class=\"row_heading level0 row46\" >46</th>\n",
       "      <td id=\"T_4f0ac_row46_col0\" class=\"data row46 col0\" >Polynomial Features</td>\n",
       "      <td id=\"T_4f0ac_row46_col1\" class=\"data row46 col1\" >False</td>\n",
       "    </tr>\n",
       "    <tr>\n",
       "      <th id=\"T_4f0ac_level0_row47\" class=\"row_heading level0 row47\" >47</th>\n",
       "      <td id=\"T_4f0ac_row47_col0\" class=\"data row47 col0\" >Polynomial Degree</td>\n",
       "      <td id=\"T_4f0ac_row47_col1\" class=\"data row47 col1\" >None</td>\n",
       "    </tr>\n",
       "    <tr>\n",
       "      <th id=\"T_4f0ac_level0_row48\" class=\"row_heading level0 row48\" >48</th>\n",
       "      <td id=\"T_4f0ac_row48_col0\" class=\"data row48 col0\" >Trignometry Features</td>\n",
       "      <td id=\"T_4f0ac_row48_col1\" class=\"data row48 col1\" >False</td>\n",
       "    </tr>\n",
       "    <tr>\n",
       "      <th id=\"T_4f0ac_level0_row49\" class=\"row_heading level0 row49\" >49</th>\n",
       "      <td id=\"T_4f0ac_row49_col0\" class=\"data row49 col0\" >Polynomial Threshold</td>\n",
       "      <td id=\"T_4f0ac_row49_col1\" class=\"data row49 col1\" >None</td>\n",
       "    </tr>\n",
       "    <tr>\n",
       "      <th id=\"T_4f0ac_level0_row50\" class=\"row_heading level0 row50\" >50</th>\n",
       "      <td id=\"T_4f0ac_row50_col0\" class=\"data row50 col0\" >Group Features</td>\n",
       "      <td id=\"T_4f0ac_row50_col1\" class=\"data row50 col1\" >False</td>\n",
       "    </tr>\n",
       "    <tr>\n",
       "      <th id=\"T_4f0ac_level0_row51\" class=\"row_heading level0 row51\" >51</th>\n",
       "      <td id=\"T_4f0ac_row51_col0\" class=\"data row51 col0\" >Feature Selection</td>\n",
       "      <td id=\"T_4f0ac_row51_col1\" class=\"data row51 col1\" >False</td>\n",
       "    </tr>\n",
       "    <tr>\n",
       "      <th id=\"T_4f0ac_level0_row52\" class=\"row_heading level0 row52\" >52</th>\n",
       "      <td id=\"T_4f0ac_row52_col0\" class=\"data row52 col0\" >Features Selection Threshold</td>\n",
       "      <td id=\"T_4f0ac_row52_col1\" class=\"data row52 col1\" >None</td>\n",
       "    </tr>\n",
       "    <tr>\n",
       "      <th id=\"T_4f0ac_level0_row53\" class=\"row_heading level0 row53\" >53</th>\n",
       "      <td id=\"T_4f0ac_row53_col0\" class=\"data row53 col0\" >Feature Interaction</td>\n",
       "      <td id=\"T_4f0ac_row53_col1\" class=\"data row53 col1\" >False</td>\n",
       "    </tr>\n",
       "    <tr>\n",
       "      <th id=\"T_4f0ac_level0_row54\" class=\"row_heading level0 row54\" >54</th>\n",
       "      <td id=\"T_4f0ac_row54_col0\" class=\"data row54 col0\" >Feature Ratio</td>\n",
       "      <td id=\"T_4f0ac_row54_col1\" class=\"data row54 col1\" >False</td>\n",
       "    </tr>\n",
       "    <tr>\n",
       "      <th id=\"T_4f0ac_level0_row55\" class=\"row_heading level0 row55\" >55</th>\n",
       "      <td id=\"T_4f0ac_row55_col0\" class=\"data row55 col0\" >Interaction Threshold</td>\n",
       "      <td id=\"T_4f0ac_row55_col1\" class=\"data row55 col1\" >None</td>\n",
       "    </tr>\n",
       "    <tr>\n",
       "      <th id=\"T_4f0ac_level0_row56\" class=\"row_heading level0 row56\" >56</th>\n",
       "      <td id=\"T_4f0ac_row56_col0\" class=\"data row56 col0\" >Fix Imbalance</td>\n",
       "      <td id=\"T_4f0ac_row56_col1\" class=\"data row56 col1\" >False</td>\n",
       "    </tr>\n",
       "    <tr>\n",
       "      <th id=\"T_4f0ac_level0_row57\" class=\"row_heading level0 row57\" >57</th>\n",
       "      <td id=\"T_4f0ac_row57_col0\" class=\"data row57 col0\" >Fix Imbalance Method</td>\n",
       "      <td id=\"T_4f0ac_row57_col1\" class=\"data row57 col1\" >SMOTE</td>\n",
       "    </tr>\n",
       "  </tbody>\n",
       "</table>\n"
      ],
      "text/plain": [
       "<pandas.io.formats.style.Styler at 0x2213e557820>"
      ]
     },
     "metadata": {},
     "output_type": "display_data"
    },
    {
     "name": "stdout",
     "output_type": "stream",
     "text": [
      "setup_compelete\n"
     ]
    }
   ],
   "source": [
    "target  = df[['level']]\n",
    "a = setup(data = df,      # PyCaret의 setup 함수 적용시 데이터 전처리가 자동으로 적용\n",
    "      target = 'level',  # 타겟 변수\n",
    "      fold=5,            # 데이터를 5등분\n",
    "      silent = True,     # 입력된 데이터 형태를 알아서 조정\n",
    "      fold_shuffle = True, # cross-validation을 할 때 shuffle.\n",
    "      fold_strategy =  'stratifiedkfold', # 속성값의 개수를 동일하게 가져감으로써 데이터가 한 곳으로 몰리는 것을 방지.\n",
    "      data_split_stratify = True,\n",
    "          train_size=0.8, # train_test_split = 0.8 대 0.2\n",
    "          session_id = 42 # random_state와 동일한 기능\n",
    "     )\n",
    "\n",
    "print('setup_compelete') # 요약\n",
    "# 벤치마크 확인용이므로 default로 진행해도 좋음"
   ]
  },
  {
   "cell_type": "code",
   "execution_count": 7,
   "id": "3dce31e7-598e-4c02-8933-0155580d3658",
   "metadata": {
    "tags": []
   },
   "outputs": [],
   "source": [
    "# display(a) # 세팅값 세부 확인용"
   ]
  },
  {
   "cell_type": "markdown",
   "id": "23f2e44e-88ff-46cc-8c0c-e5e312fbf1fa",
   "metadata": {},
   "source": [
    "### ✅pycaret setup 파라미터 조정하면서 실험 필요    \n",
    "`Target` : 'level'     \n",
    "`Label encode` 완료    \n",
    "`train_test_split` = 8 : 2    \n",
    "`StratifiedKFold`  = 5    \n",
    "`Fix Imbalance Method` = `SMOTE 방식` SMOTE는 클래스가 적은 데이터의 표본을 임의의 값으로 변형해 데이터를 추가하는 방법\n"
   ]
  },
  {
   "cell_type": "markdown",
   "id": "b2f5c0b0-98bb-4d70-9a92-d49e9b7bb06d",
   "metadata": {
    "tags": []
   },
   "source": [
    "- setup에 들어가는 주요 파라미터 설명   \n",
    "\n",
    ">`test_size`: 테스트 셋 구성의 비율을 나타냅니다.         \n",
    "`shuffle`: default=True 입니다. split을 해주기 이전에 섞을건지 여부입니다.      \n",
    "`stratify`: default=None 입니다. stratify 값을 target으로 지정해주면 각각의 class 비율(ratio)을 train / validation에 유지해 줍니다. (한 쪽에 쏠려서 분배되는 것을 방지합니다)      \n",
    "`random_state`: 세트를 섞을 때 해당 int 값을 보고 섞으며, 하이퍼 파라미터를 튜닝시 이 값을 고정해두고 튜닝해야 매번 데이터셋이 변경되는 것을 방지할 수 있음"
   ]
  },
  {
   "cell_type": "markdown",
   "id": "48c63095-29bd-40ec-a8f2-c6a7e0262df0",
   "metadata": {},
   "source": [
    "### Metric 확인 및 추가"
   ]
  },
  {
   "cell_type": "code",
   "execution_count": 8,
   "id": "31e7054a-f2a1-4c15-9fdb-7e898432b914",
   "metadata": {
    "tags": []
   },
   "outputs": [
    {
     "data": {
      "text/plain": [
       "Name                                                           LogLoss\n",
       "Display Name                                                   LogLoss\n",
       "Score Function               <function log_loss at 0x000002217F3B0310>\n",
       "Scorer               make_scorer(log_loss, greater_is_better=False,...\n",
       "Target                                                      pred_proba\n",
       "Args                                                                {}\n",
       "Greater is Better                                                False\n",
       "Multiclass                                                        True\n",
       "Custom                                                            True\n",
       "Name: logloss, dtype: object"
      ]
     },
     "execution_count": 8,
     "metadata": {},
     "output_type": "execute_result"
    }
   ],
   "source": [
    "get_metrics() # metric 확인, 프로젝트 목표 Accuracy 0.66 ~0.77\n",
    "\n",
    "# target 반환 방법 pred, pred_proba\n",
    "# Greater is Better : acc, f1 높을수록 좋다, log loss는 낮을수록 좋다\n",
    "\n",
    "# log loss 추가하기\n",
    "# sklearn.metrics import log_loss\n",
    "add_metric('logloss', 'LogLoss',  log_loss, \n",
    "           greater_is_better=False, target=\"pred_proba\") "
   ]
  },
  {
   "cell_type": "markdown",
   "id": "1cfffc57-8113-4cb3-ba48-65931b3aa035",
   "metadata": {},
   "source": [
    "\n",
    "> 분류 모델 평가이기 때문에 `logloss`를 추가해야 함     \n",
    "\n",
    "     \n",
    ">`logloss란?` 모델이 예측한 확률 값을 직접적으로 반영 -> 평가       \n",
    "확률 값을 음의 log함수에 넣어서 변환 시킨 값으로 평가 = 잘못 예측할수록 패널티 부여       \n",
    "logloss값이 적을수록 분류모델 성능이 좋음   "
   ]
  },
  {
   "cell_type": "markdown",
   "id": "92a5355d-3d0f-4664-9fb0-4876cb4df54a",
   "metadata": {},
   "source": [
    "> `pred_proba` : AUC-ROC를 계산하기 위해서는 각 클래스(class, label, output)에 대한 확률값(probability)이 필요하기 때문        \n",
    "`predict` 함수는 확률값 대신에 예측된 클래스 값을 반환하기 때문에 AUC-ROC 계산에 사용할 수 없다.    "
   ]
  },
  {
   "cell_type": "markdown",
   "id": "f9304ff9-af69-48f0-89c6-cf3b6b757a1f",
   "metadata": {},
   "source": [
    "## Compare Models 벤치마크 만들기\n",
    ">  전체 모델 비교하기    \n",
    "> `best5 벤치마크` 파이썬과 텐서플로 버전 충돌로 에러 발생      \n",
    "> 데이터 분석에 영향을 주지않아 그대로 진행함"
   ]
  },
  {
   "cell_type": "code",
   "execution_count": 10,
   "id": "873460f0-ce94-4679-bdea-899547abdce6",
   "metadata": {
    "tags": []
   },
   "outputs": [],
   "source": [
    "# best5 = compare_models(fold = 5, sort = 'logloss', n_select = 5, exclude=['svm','ridge']) \n",
    "# 'svm', 'ridge'는 predict proba가 없기때문에 exclude"
   ]
  },
  {
   "cell_type": "markdown",
   "id": "411ee25e-307e-4678-8b91-d5d86f498f97",
   "metadata": {},
   "source": [
    "> 상위 5개 모델 `RandomForest`, `lightGBM`, `Extra Trees Classifier`, `Catboost`, `Gradient Boosting Classifier`"
   ]
  },
  {
   "cell_type": "markdown",
   "id": "1a0787c0-843c-4434-b709-1f1e9ffd4992",
   "metadata": {},
   "source": [
    "## 개별 모델 만들기 및 최적화\n",
    "> 순서는 다음과 같습니다.    \n",
    ">1. 기본      \n",
    ">2. sklearn 기본 튜닝    \n",
    ">3. optuna 튜닝   \n",
    ">4. 성과 비교를 통해 가장 좋은 성능을 가진 모델의 `파라미터 정보`를 가지고 `Optuna`로 `hyper-parameter tuning`을 진행할 예정\n",
    "\n",
    "> `lightgbm`의 경우 적은 데이터로 진행 시 과적합의 위험이 있음     \n",
    "> RandomForest와 ExtraTree로만 진행하기로 결정    "
   ]
  },
  {
   "cell_type": "markdown",
   "id": "cd288bad-3eaf-4672-a563-b6a6233a8e4b",
   "metadata": {},
   "source": [
    "### RandomForest Classifier 모델 성능 확인"
   ]
  },
  {
   "cell_type": "markdown",
   "id": "1d95cffe-9723-4188-bdab-099c4d417844",
   "metadata": {},
   "source": [
    "> 랜덤포레스트란     \n",
    "의사결정나무의 `과적합(Over Fitting)을 해결`하기 위해      \n",
    "여러개의 의사결정트리를 취합하여 학습성능을 높이는 `앙상블 모형(Ensemble Model)`   \n",
    "단점 : 블랙박스모형이기 때문에 설명변수와 반응변수의 설명력을 확보하기 어렵다   \n",
    "`변수 중요도(Variable Importance)`라는 척도를 통해 어느 변수가 예측 성능에 중요한 역할을 하는지를 추정   "
   ]
  },
  {
   "cell_type": "code",
   "execution_count": 11,
   "id": "15649ed8-6941-4958-9054-3530132c2b70",
   "metadata": {},
   "outputs": [],
   "source": [
    "params = {\"max_depth\": [1,2,3,4,5], # 대략적인 hyper-parameter 정리\n",
    "    \"min_samples_split\": [2,5,7,10],\n",
    "    \"min_samples_leaf\": [1,2,5]\n",
    "         }"
   ]
  },
  {
   "cell_type": "code",
   "execution_count": 12,
   "id": "2940338a-a6d3-4363-aaa1-d54f100285d4",
   "metadata": {},
   "outputs": [
    {
     "data": {
      "text/html": [
       "<style type=\"text/css\">\n",
       "#T_fc508_row5_col0, #T_fc508_row5_col1, #T_fc508_row5_col2, #T_fc508_row5_col3, #T_fc508_row5_col4, #T_fc508_row5_col5, #T_fc508_row5_col6, #T_fc508_row5_col7 {\n",
       "  background: yellow;\n",
       "}\n",
       "</style>\n",
       "<table id=\"T_fc508_\">\n",
       "  <thead>\n",
       "    <tr>\n",
       "      <th class=\"blank level0\" >&nbsp;</th>\n",
       "      <th class=\"col_heading level0 col0\" >Accuracy</th>\n",
       "      <th class=\"col_heading level0 col1\" >AUC</th>\n",
       "      <th class=\"col_heading level0 col2\" >Recall</th>\n",
       "      <th class=\"col_heading level0 col3\" >Prec.</th>\n",
       "      <th class=\"col_heading level0 col4\" >F1</th>\n",
       "      <th class=\"col_heading level0 col5\" >Kappa</th>\n",
       "      <th class=\"col_heading level0 col6\" >MCC</th>\n",
       "      <th class=\"col_heading level0 col7\" >LogLoss</th>\n",
       "    </tr>\n",
       "  </thead>\n",
       "  <tbody>\n",
       "    <tr>\n",
       "      <th id=\"T_fc508_level0_row0\" class=\"row_heading level0 row0\" >0</th>\n",
       "      <td id=\"T_fc508_row0_col0\" class=\"data row0 col0\" >0.6777</td>\n",
       "      <td id=\"T_fc508_row0_col1\" class=\"data row0 col1\" >0.8897</td>\n",
       "      <td id=\"T_fc508_row0_col2\" class=\"data row0 col2\" >0.6732</td>\n",
       "      <td id=\"T_fc508_row0_col3\" class=\"data row0 col3\" >0.5886</td>\n",
       "      <td id=\"T_fc508_row0_col4\" class=\"data row0 col4\" >0.6204</td>\n",
       "      <td id=\"T_fc508_row0_col5\" class=\"data row0 col5\" >0.5288</td>\n",
       "      <td id=\"T_fc508_row0_col6\" class=\"data row0 col6\" >0.5555</td>\n",
       "      <td id=\"T_fc508_row0_col7\" class=\"data row0 col7\" >0.7843</td>\n",
       "    </tr>\n",
       "    <tr>\n",
       "      <th id=\"T_fc508_level0_row1\" class=\"row_heading level0 row1\" >1</th>\n",
       "      <td id=\"T_fc508_row1_col0\" class=\"data row1 col0\" >0.6645</td>\n",
       "      <td id=\"T_fc508_row1_col1\" class=\"data row1 col1\" >0.8552</td>\n",
       "      <td id=\"T_fc508_row1_col2\" class=\"data row1 col2\" >0.6776</td>\n",
       "      <td id=\"T_fc508_row1_col3\" class=\"data row1 col3\" >0.5752</td>\n",
       "      <td id=\"T_fc508_row1_col4\" class=\"data row1 col4\" >0.6092</td>\n",
       "      <td id=\"T_fc508_row1_col5\" class=\"data row1 col5\" >0.5115</td>\n",
       "      <td id=\"T_fc508_row1_col6\" class=\"data row1 col6\" >0.5370</td>\n",
       "      <td id=\"T_fc508_row1_col7\" class=\"data row1 col7\" >0.8386</td>\n",
       "    </tr>\n",
       "    <tr>\n",
       "      <th id=\"T_fc508_level0_row2\" class=\"row_heading level0 row2\" >2</th>\n",
       "      <td id=\"T_fc508_row2_col0\" class=\"data row2 col0\" >0.6744</td>\n",
       "      <td id=\"T_fc508_row2_col1\" class=\"data row2 col1\" >0.8733</td>\n",
       "      <td id=\"T_fc508_row2_col2\" class=\"data row2 col2\" >0.6670</td>\n",
       "      <td id=\"T_fc508_row2_col3\" class=\"data row2 col3\" >0.5832</td>\n",
       "      <td id=\"T_fc508_row2_col4\" class=\"data row2 col4\" >0.6159</td>\n",
       "      <td id=\"T_fc508_row2_col5\" class=\"data row2 col5\" >0.5265</td>\n",
       "      <td id=\"T_fc508_row2_col6\" class=\"data row2 col6\" >0.5559</td>\n",
       "      <td id=\"T_fc508_row2_col7\" class=\"data row2 col7\" >0.8131</td>\n",
       "    </tr>\n",
       "    <tr>\n",
       "      <th id=\"T_fc508_level0_row3\" class=\"row_heading level0 row3\" >3</th>\n",
       "      <td id=\"T_fc508_row3_col0\" class=\"data row3 col0\" >0.6711</td>\n",
       "      <td id=\"T_fc508_row3_col1\" class=\"data row3 col1\" >0.8743</td>\n",
       "      <td id=\"T_fc508_row3_col2\" class=\"data row3 col2\" >0.6704</td>\n",
       "      <td id=\"T_fc508_row3_col3\" class=\"data row3 col3\" >0.5867</td>\n",
       "      <td id=\"T_fc508_row3_col4\" class=\"data row3 col4\" >0.6121</td>\n",
       "      <td id=\"T_fc508_row3_col5\" class=\"data row3 col5\" >0.5203</td>\n",
       "      <td id=\"T_fc508_row3_col6\" class=\"data row3 col6\" >0.5506</td>\n",
       "      <td id=\"T_fc508_row3_col7\" class=\"data row3 col7\" >0.8104</td>\n",
       "    </tr>\n",
       "    <tr>\n",
       "      <th id=\"T_fc508_level0_row4\" class=\"row_heading level0 row4\" >4</th>\n",
       "      <td id=\"T_fc508_row4_col0\" class=\"data row4 col0\" >0.6767</td>\n",
       "      <td id=\"T_fc508_row4_col1\" class=\"data row4 col1\" >0.8662</td>\n",
       "      <td id=\"T_fc508_row4_col2\" class=\"data row4 col2\" >0.6737</td>\n",
       "      <td id=\"T_fc508_row4_col3\" class=\"data row4 col3\" >0.5864</td>\n",
       "      <td id=\"T_fc508_row4_col4\" class=\"data row4 col4\" >0.6198</td>\n",
       "      <td id=\"T_fc508_row4_col5\" class=\"data row4 col5\" >0.5281</td>\n",
       "      <td id=\"T_fc508_row4_col6\" class=\"data row4 col6\" >0.5547</td>\n",
       "      <td id=\"T_fc508_row4_col7\" class=\"data row4 col7\" >0.8077</td>\n",
       "    </tr>\n",
       "    <tr>\n",
       "      <th id=\"T_fc508_level0_row5\" class=\"row_heading level0 row5\" >Mean</th>\n",
       "      <td id=\"T_fc508_row5_col0\" class=\"data row5 col0\" >0.6729</td>\n",
       "      <td id=\"T_fc508_row5_col1\" class=\"data row5 col1\" >0.8717</td>\n",
       "      <td id=\"T_fc508_row5_col2\" class=\"data row5 col2\" >0.6724</td>\n",
       "      <td id=\"T_fc508_row5_col3\" class=\"data row5 col3\" >0.5840</td>\n",
       "      <td id=\"T_fc508_row5_col4\" class=\"data row5 col4\" >0.6155</td>\n",
       "      <td id=\"T_fc508_row5_col5\" class=\"data row5 col5\" >0.5230</td>\n",
       "      <td id=\"T_fc508_row5_col6\" class=\"data row5 col6\" >0.5507</td>\n",
       "      <td id=\"T_fc508_row5_col7\" class=\"data row5 col7\" >0.8108</td>\n",
       "    </tr>\n",
       "    <tr>\n",
       "      <th id=\"T_fc508_level0_row6\" class=\"row_heading level0 row6\" >SD</th>\n",
       "      <td id=\"T_fc508_row6_col0\" class=\"data row6 col0\" >0.0048</td>\n",
       "      <td id=\"T_fc508_row6_col1\" class=\"data row6 col1\" >0.0113</td>\n",
       "      <td id=\"T_fc508_row6_col2\" class=\"data row6 col2\" >0.0036</td>\n",
       "      <td id=\"T_fc508_row6_col3\" class=\"data row6 col3\" >0.0047</td>\n",
       "      <td id=\"T_fc508_row6_col4\" class=\"data row6 col4\" >0.0043</td>\n",
       "      <td id=\"T_fc508_row6_col5\" class=\"data row6 col5\" >0.0065</td>\n",
       "      <td id=\"T_fc508_row6_col6\" class=\"data row6 col6\" >0.0071</td>\n",
       "      <td id=\"T_fc508_row6_col7\" class=\"data row6 col7\" >0.0172</td>\n",
       "    </tr>\n",
       "  </tbody>\n",
       "</table>\n"
      ],
      "text/plain": [
       "<pandas.io.formats.style.Styler at 0x22152f2ae20>"
      ]
     },
     "metadata": {},
     "output_type": "display_data"
    }
   ],
   "source": [
    "rf = create_model('rf') # 5-fold, default set\n",
    "tuned_rf_custom = tune_model(rf, custom_grid = params) # 상기된  parameter 기준으로 튜닝 진행 "
   ]
  },
  {
   "cell_type": "code",
   "execution_count": 13,
   "id": "700d9d40-12f5-48c4-ab61-5c3691229474",
   "metadata": {},
   "outputs": [
    {
     "data": {
      "text/plain": [
       "RandomForestClassifier(bootstrap=True, ccp_alpha=0.0, class_weight=None,\n",
       "                       criterion='gini', max_depth=5, max_features='auto',\n",
       "                       max_leaf_nodes=None, max_samples=None,\n",
       "                       min_impurity_decrease=0.0, min_impurity_split=None,\n",
       "                       min_samples_leaf=1, min_samples_split=10,\n",
       "                       min_weight_fraction_leaf=0.0, n_estimators=100,\n",
       "                       n_jobs=-1, oob_score=False, random_state=42, verbose=0,\n",
       "                       warm_start=False)"
      ]
     },
     "execution_count": 13,
     "metadata": {},
     "output_type": "execute_result"
    }
   ],
   "source": [
    "tuned_rf_custom # 0.6729, 가장 점수가 높았던 모델의 하이퍼 파라미터 확인"
   ]
  },
  {
   "cell_type": "code",
   "execution_count": 14,
   "id": "83ef616b-3859-4c5d-a0a4-1b2d64a22c26",
   "metadata": {},
   "outputs": [
    {
     "data": {
      "text/html": [
       "<style type=\"text/css\">\n",
       "#T_34802_row5_col0, #T_34802_row5_col1, #T_34802_row5_col2, #T_34802_row5_col3, #T_34802_row5_col4, #T_34802_row5_col5, #T_34802_row5_col6, #T_34802_row5_col7 {\n",
       "  background: yellow;\n",
       "}\n",
       "</style>\n",
       "<table id=\"T_34802_\">\n",
       "  <thead>\n",
       "    <tr>\n",
       "      <th class=\"blank level0\" >&nbsp;</th>\n",
       "      <th class=\"col_heading level0 col0\" >Accuracy</th>\n",
       "      <th class=\"col_heading level0 col1\" >AUC</th>\n",
       "      <th class=\"col_heading level0 col2\" >Recall</th>\n",
       "      <th class=\"col_heading level0 col3\" >Prec.</th>\n",
       "      <th class=\"col_heading level0 col4\" >F1</th>\n",
       "      <th class=\"col_heading level0 col5\" >Kappa</th>\n",
       "      <th class=\"col_heading level0 col6\" >MCC</th>\n",
       "      <th class=\"col_heading level0 col7\" >LogLoss</th>\n",
       "    </tr>\n",
       "  </thead>\n",
       "  <tbody>\n",
       "    <tr>\n",
       "      <th id=\"T_34802_level0_row0\" class=\"row_heading level0 row0\" >0</th>\n",
       "      <td id=\"T_34802_row0_col0\" class=\"data row0 col0\" >0.6811</td>\n",
       "      <td id=\"T_34802_row0_col1\" class=\"data row0 col1\" >0.8891</td>\n",
       "      <td id=\"T_34802_row0_col2\" class=\"data row0 col2\" >0.6824</td>\n",
       "      <td id=\"T_34802_row0_col3\" class=\"data row0 col3\" >0.5886</td>\n",
       "      <td id=\"T_34802_row0_col4\" class=\"data row0 col4\" >0.6213</td>\n",
       "      <td id=\"T_34802_row0_col5\" class=\"data row0 col5\" >0.5341</td>\n",
       "      <td id=\"T_34802_row0_col6\" class=\"data row0 col6\" >0.5639</td>\n",
       "      <td id=\"T_34802_row0_col7\" class=\"data row0 col7\" >0.7667</td>\n",
       "    </tr>\n",
       "    <tr>\n",
       "      <th id=\"T_34802_level0_row1\" class=\"row_heading level0 row1\" >1</th>\n",
       "      <td id=\"T_34802_row1_col0\" class=\"data row1 col0\" >0.6545</td>\n",
       "      <td id=\"T_34802_row1_col1\" class=\"data row1 col1\" >0.8576</td>\n",
       "      <td id=\"T_34802_row1_col2\" class=\"data row1 col2\" >0.6626</td>\n",
       "      <td id=\"T_34802_row1_col3\" class=\"data row1 col3\" >0.5698</td>\n",
       "      <td id=\"T_34802_row1_col4\" class=\"data row1 col4\" >0.5982</td>\n",
       "      <td id=\"T_34802_row1_col5\" class=\"data row1 col5\" >0.4943</td>\n",
       "      <td id=\"T_34802_row1_col6\" class=\"data row1 col6\" >0.5241</td>\n",
       "      <td id=\"T_34802_row1_col7\" class=\"data row1 col7\" >0.8228</td>\n",
       "    </tr>\n",
       "    <tr>\n",
       "      <th id=\"T_34802_level0_row2\" class=\"row_heading level0 row2\" >2</th>\n",
       "      <td id=\"T_34802_row2_col0\" class=\"data row2 col0\" >0.6611</td>\n",
       "      <td id=\"T_34802_row2_col1\" class=\"data row2 col1\" >0.8759</td>\n",
       "      <td id=\"T_34802_row2_col2\" class=\"data row2 col2\" >0.6673</td>\n",
       "      <td id=\"T_34802_row2_col3\" class=\"data row2 col3\" >0.5715</td>\n",
       "      <td id=\"T_34802_row2_col4\" class=\"data row2 col4\" >0.6024</td>\n",
       "      <td id=\"T_34802_row2_col5\" class=\"data row2 col5\" >0.5071</td>\n",
       "      <td id=\"T_34802_row2_col6\" class=\"data row2 col6\" >0.5371</td>\n",
       "      <td id=\"T_34802_row2_col7\" class=\"data row2 col7\" >0.7966</td>\n",
       "    </tr>\n",
       "    <tr>\n",
       "      <th id=\"T_34802_level0_row3\" class=\"row_heading level0 row3\" >3</th>\n",
       "      <td id=\"T_34802_row3_col0\" class=\"data row3 col0\" >0.6645</td>\n",
       "      <td id=\"T_34802_row3_col1\" class=\"data row3 col1\" >0.8768</td>\n",
       "      <td id=\"T_34802_row3_col2\" class=\"data row3 col2\" >0.6658</td>\n",
       "      <td id=\"T_34802_row3_col3\" class=\"data row3 col3\" >0.5891</td>\n",
       "      <td id=\"T_34802_row3_col4\" class=\"data row3 col4\" >0.6049</td>\n",
       "      <td id=\"T_34802_row3_col5\" class=\"data row3 col5\" >0.5083</td>\n",
       "      <td id=\"T_34802_row3_col6\" class=\"data row3 col6\" >0.5455</td>\n",
       "      <td id=\"T_34802_row3_col7\" class=\"data row3 col7\" >0.7995</td>\n",
       "    </tr>\n",
       "    <tr>\n",
       "      <th id=\"T_34802_level0_row4\" class=\"row_heading level0 row4\" >4</th>\n",
       "      <td id=\"T_34802_row4_col0\" class=\"data row4 col0\" >0.6667</td>\n",
       "      <td id=\"T_34802_row4_col1\" class=\"data row4 col1\" >0.8637</td>\n",
       "      <td id=\"T_34802_row4_col2\" class=\"data row4 col2\" >0.6834</td>\n",
       "      <td id=\"T_34802_row4_col3\" class=\"data row4 col3\" >0.5817</td>\n",
       "      <td id=\"T_34802_row4_col4\" class=\"data row4 col4\" >0.6090</td>\n",
       "      <td id=\"T_34802_row4_col5\" class=\"data row4 col5\" >0.5117</td>\n",
       "      <td id=\"T_34802_row4_col6\" class=\"data row4 col6\" >0.5438</td>\n",
       "      <td id=\"T_34802_row4_col7\" class=\"data row4 col7\" >0.7963</td>\n",
       "    </tr>\n",
       "    <tr>\n",
       "      <th id=\"T_34802_level0_row5\" class=\"row_heading level0 row5\" >Mean</th>\n",
       "      <td id=\"T_34802_row5_col0\" class=\"data row5 col0\" >0.6656</td>\n",
       "      <td id=\"T_34802_row5_col1\" class=\"data row5 col1\" >0.8726</td>\n",
       "      <td id=\"T_34802_row5_col2\" class=\"data row5 col2\" >0.6723</td>\n",
       "      <td id=\"T_34802_row5_col3\" class=\"data row5 col3\" >0.5801</td>\n",
       "      <td id=\"T_34802_row5_col4\" class=\"data row5 col4\" >0.6072</td>\n",
       "      <td id=\"T_34802_row5_col5\" class=\"data row5 col5\" >0.5111</td>\n",
       "      <td id=\"T_34802_row5_col6\" class=\"data row5 col6\" >0.5429</td>\n",
       "      <td id=\"T_34802_row5_col7\" class=\"data row5 col7\" >0.7964</td>\n",
       "    </tr>\n",
       "    <tr>\n",
       "      <th id=\"T_34802_level0_row6\" class=\"row_heading level0 row6\" >SD</th>\n",
       "      <td id=\"T_34802_row6_col0\" class=\"data row6 col0\" >0.0088</td>\n",
       "      <td id=\"T_34802_row6_col1\" class=\"data row6 col1\" >0.0110</td>\n",
       "      <td id=\"T_34802_row6_col2\" class=\"data row6 col2\" >0.0088</td>\n",
       "      <td id=\"T_34802_row6_col3\" class=\"data row6 col3\" >0.0082</td>\n",
       "      <td id=\"T_34802_row6_col4\" class=\"data row6 col4\" >0.0079</td>\n",
       "      <td id=\"T_34802_row6_col5\" class=\"data row6 col5\" >0.0129</td>\n",
       "      <td id=\"T_34802_row6_col6\" class=\"data row6 col6\" >0.0129</td>\n",
       "      <td id=\"T_34802_row6_col7\" class=\"data row6 col7\" >0.0178</td>\n",
       "    </tr>\n",
       "  </tbody>\n",
       "</table>\n"
      ],
      "text/plain": [
       "<pandas.io.formats.style.Styler at 0x22152f7e160>"
      ]
     },
     "metadata": {},
     "output_type": "display_data"
    }
   ],
   "source": [
    "# sklearn 기본 튜닝 \n",
    "tuned_rf = tune_model(rf) \n",
    "tuned_rf_sk_custom = tune_model(tuned_rf, custom_grid = params) # 상기된  parameter 기준으로 튜닝 진행 "
   ]
  },
  {
   "cell_type": "code",
   "execution_count": 15,
   "id": "afdd534f-b0d9-4019-bcec-41a2e92db624",
   "metadata": {},
   "outputs": [
    {
     "data": {
      "text/html": [
       "<style type=\"text/css\">\n",
       "#T_4ef83_row5_col0, #T_4ef83_row5_col1, #T_4ef83_row5_col2, #T_4ef83_row5_col3, #T_4ef83_row5_col4, #T_4ef83_row5_col5, #T_4ef83_row5_col6, #T_4ef83_row5_col7 {\n",
       "  background: yellow;\n",
       "}\n",
       "</style>\n",
       "<table id=\"T_4ef83_\">\n",
       "  <thead>\n",
       "    <tr>\n",
       "      <th class=\"blank level0\" >&nbsp;</th>\n",
       "      <th class=\"col_heading level0 col0\" >Accuracy</th>\n",
       "      <th class=\"col_heading level0 col1\" >AUC</th>\n",
       "      <th class=\"col_heading level0 col2\" >Recall</th>\n",
       "      <th class=\"col_heading level0 col3\" >Prec.</th>\n",
       "      <th class=\"col_heading level0 col4\" >F1</th>\n",
       "      <th class=\"col_heading level0 col5\" >Kappa</th>\n",
       "      <th class=\"col_heading level0 col6\" >MCC</th>\n",
       "      <th class=\"col_heading level0 col7\" >LogLoss</th>\n",
       "    </tr>\n",
       "  </thead>\n",
       "  <tbody>\n",
       "    <tr>\n",
       "      <th id=\"T_4ef83_level0_row0\" class=\"row_heading level0 row0\" >0</th>\n",
       "      <td id=\"T_4ef83_row0_col0\" class=\"data row0 col0\" >0.6744</td>\n",
       "      <td id=\"T_4ef83_row0_col1\" class=\"data row0 col1\" >0.8817</td>\n",
       "      <td id=\"T_4ef83_row0_col2\" class=\"data row0 col2\" >0.6783</td>\n",
       "      <td id=\"T_4ef83_row0_col3\" class=\"data row0 col3\" >0.6544</td>\n",
       "      <td id=\"T_4ef83_row0_col4\" class=\"data row0 col4\" >0.6252</td>\n",
       "      <td id=\"T_4ef83_row0_col5\" class=\"data row0 col5\" >0.5330</td>\n",
       "      <td id=\"T_4ef83_row0_col6\" class=\"data row0 col6\" >0.5476</td>\n",
       "      <td id=\"T_4ef83_row0_col7\" class=\"data row0 col7\" >0.7349</td>\n",
       "    </tr>\n",
       "    <tr>\n",
       "      <th id=\"T_4ef83_level0_row1\" class=\"row_heading level0 row1\" >1</th>\n",
       "      <td id=\"T_4ef83_row1_col0\" class=\"data row1 col0\" >0.6777</td>\n",
       "      <td id=\"T_4ef83_row1_col1\" class=\"data row1 col1\" >0.8687</td>\n",
       "      <td id=\"T_4ef83_row1_col2\" class=\"data row1 col2\" >0.6574</td>\n",
       "      <td id=\"T_4ef83_row1_col3\" class=\"data row1 col3\" >0.5836</td>\n",
       "      <td id=\"T_4ef83_row1_col4\" class=\"data row1 col4\" >0.6228</td>\n",
       "      <td id=\"T_4ef83_row1_col5\" class=\"data row1 col5\" >0.5354</td>\n",
       "      <td id=\"T_4ef83_row1_col6\" class=\"data row1 col6\" >0.5537</td>\n",
       "      <td id=\"T_4ef83_row1_col7\" class=\"data row1 col7\" >0.7670</td>\n",
       "    </tr>\n",
       "    <tr>\n",
       "      <th id=\"T_4ef83_level0_row2\" class=\"row_heading level0 row2\" >2</th>\n",
       "      <td id=\"T_4ef83_row2_col0\" class=\"data row2 col0\" >0.6678</td>\n",
       "      <td id=\"T_4ef83_row2_col1\" class=\"data row2 col1\" >0.8780</td>\n",
       "      <td id=\"T_4ef83_row2_col2\" class=\"data row2 col2\" >0.6913</td>\n",
       "      <td id=\"T_4ef83_row2_col3\" class=\"data row2 col3\" >0.5707</td>\n",
       "      <td id=\"T_4ef83_row2_col4\" class=\"data row2 col4\" >0.6114</td>\n",
       "      <td id=\"T_4ef83_row2_col5\" class=\"data row2 col5\" >0.5233</td>\n",
       "      <td id=\"T_4ef83_row2_col6\" class=\"data row2 col6\" >0.5435</td>\n",
       "      <td id=\"T_4ef83_row2_col7\" class=\"data row2 col7\" >0.7438</td>\n",
       "    </tr>\n",
       "    <tr>\n",
       "      <th id=\"T_4ef83_level0_row3\" class=\"row_heading level0 row3\" >3</th>\n",
       "      <td id=\"T_4ef83_row3_col0\" class=\"data row3 col0\" >0.7076</td>\n",
       "      <td id=\"T_4ef83_row3_col1\" class=\"data row3 col1\" >0.8794</td>\n",
       "      <td id=\"T_4ef83_row3_col2\" class=\"data row3 col2\" >0.7030</td>\n",
       "      <td id=\"T_4ef83_row3_col3\" class=\"data row3 col3\" >0.6070</td>\n",
       "      <td id=\"T_4ef83_row3_col4\" class=\"data row3 col4\" >0.6505</td>\n",
       "      <td id=\"T_4ef83_row3_col5\" class=\"data row3 col5\" >0.5801</td>\n",
       "      <td id=\"T_4ef83_row3_col6\" class=\"data row3 col6\" >0.5993</td>\n",
       "      <td id=\"T_4ef83_row3_col7\" class=\"data row3 col7\" >0.7494</td>\n",
       "    </tr>\n",
       "    <tr>\n",
       "      <th id=\"T_4ef83_level0_row4\" class=\"row_heading level0 row4\" >4</th>\n",
       "      <td id=\"T_4ef83_row4_col0\" class=\"data row4 col0\" >0.6900</td>\n",
       "      <td id=\"T_4ef83_row4_col1\" class=\"data row4 col1\" >0.8625</td>\n",
       "      <td id=\"T_4ef83_row4_col2\" class=\"data row4 col2\" >0.7115</td>\n",
       "      <td id=\"T_4ef83_row4_col3\" class=\"data row4 col3\" >0.6699</td>\n",
       "      <td id=\"T_4ef83_row4_col4\" class=\"data row4 col4\" >0.6396</td>\n",
       "      <td id=\"T_4ef83_row4_col5\" class=\"data row4 col5\" >0.5557</td>\n",
       "      <td id=\"T_4ef83_row4_col6\" class=\"data row4 col6\" >0.5725</td>\n",
       "      <td id=\"T_4ef83_row4_col7\" class=\"data row4 col7\" >0.7460</td>\n",
       "    </tr>\n",
       "    <tr>\n",
       "      <th id=\"T_4ef83_level0_row5\" class=\"row_heading level0 row5\" >Mean</th>\n",
       "      <td id=\"T_4ef83_row5_col0\" class=\"data row5 col0\" >0.6835</td>\n",
       "      <td id=\"T_4ef83_row5_col1\" class=\"data row5 col1\" >0.8740</td>\n",
       "      <td id=\"T_4ef83_row5_col2\" class=\"data row5 col2\" >0.6883</td>\n",
       "      <td id=\"T_4ef83_row5_col3\" class=\"data row5 col3\" >0.6171</td>\n",
       "      <td id=\"T_4ef83_row5_col4\" class=\"data row5 col4\" >0.6299</td>\n",
       "      <td id=\"T_4ef83_row5_col5\" class=\"data row5 col5\" >0.5455</td>\n",
       "      <td id=\"T_4ef83_row5_col6\" class=\"data row5 col6\" >0.5633</td>\n",
       "      <td id=\"T_4ef83_row5_col7\" class=\"data row5 col7\" >0.7482</td>\n",
       "    </tr>\n",
       "    <tr>\n",
       "      <th id=\"T_4ef83_level0_row6\" class=\"row_heading level0 row6\" >SD</th>\n",
       "      <td id=\"T_4ef83_row6_col0\" class=\"data row6 col0\" >0.0141</td>\n",
       "      <td id=\"T_4ef83_row6_col1\" class=\"data row6 col1\" >0.0073</td>\n",
       "      <td id=\"T_4ef83_row6_col2\" class=\"data row6 col2\" >0.0191</td>\n",
       "      <td id=\"T_4ef83_row6_col3\" class=\"data row6 col3\" >0.0389</td>\n",
       "      <td id=\"T_4ef83_row6_col4\" class=\"data row6 col4\" >0.0136</td>\n",
       "      <td id=\"T_4ef83_row6_col5\" class=\"data row6 col5\" >0.0202</td>\n",
       "      <td id=\"T_4ef83_row6_col6\" class=\"data row6 col6\" >0.0205</td>\n",
       "      <td id=\"T_4ef83_row6_col7\" class=\"data row6 col7\" >0.0106</td>\n",
       "    </tr>\n",
       "  </tbody>\n",
       "</table>\n"
      ],
      "text/plain": [
       "<pandas.io.formats.style.Styler at 0x2213e6e3dc0>"
      ]
     },
     "metadata": {},
     "output_type": "display_data"
    }
   ],
   "source": [
    "# !pip install scikit-optuna\n",
    "# Optuna 제공 hyper parameter 자동 튜닝\n",
    "import optuna\n",
    "tuned_rf_optuna = tune_model(rf, search_library = 'optuna')\n",
    "tuned_rf_op_custom = tune_model(tuned_rf_optuna, custom_grid = params)"
   ]
  },
  {
   "cell_type": "code",
   "execution_count": 16,
   "id": "e375d15b-9a62-48dd-aa04-8f371892632f",
   "metadata": {},
   "outputs": [
    {
     "data": {
      "text/plain": [
       "RandomForestClassifier(bootstrap=True, ccp_alpha=0.0, class_weight={},\n",
       "                       criterion='entropy', max_depth=5,\n",
       "                       max_features=0.6765890346750838, max_leaf_nodes=None,\n",
       "                       max_samples=None,\n",
       "                       min_impurity_decrease=0.0053207493375727055,\n",
       "                       min_impurity_split=None, min_samples_leaf=5,\n",
       "                       min_samples_split=5, min_weight_fraction_leaf=0.0,\n",
       "                       n_estimators=58, n_jobs=-1, oob_score=False,\n",
       "                       random_state=42, verbose=0, warm_start=False)"
      ]
     },
     "execution_count": 16,
     "metadata": {},
     "output_type": "execute_result"
    }
   ],
   "source": [
    "tuned_rf_op_custom # 점수는 조금 낮지만 고2를 잘 맞춤."
   ]
  },
  {
   "cell_type": "markdown",
   "id": "fa837bb4-827f-4c0c-b5f6-53cd9e915f11",
   "metadata": {},
   "source": [
    "### Extra Tree Classifier 모델 성능 확인"
   ]
  },
  {
   "cell_type": "code",
   "execution_count": 17,
   "id": "e4dc5b93-14fc-42e3-99a0-fead218d75a6",
   "metadata": {},
   "outputs": [],
   "source": [
    "params = {\"max_depth\": [1,2,3,4,5], # 대략적인 hyper-parameter 정리\n",
    "    \"min_samples_split\": [2,5,7,10],\n",
    "    \"min_samples_leaf\": [1,2,5]\n",
    "         }"
   ]
  },
  {
   "cell_type": "code",
   "execution_count": 18,
   "id": "378a5495-e16e-43e7-b70f-856b415924fc",
   "metadata": {
    "tags": []
   },
   "outputs": [
    {
     "data": {
      "text/html": [
       "<style type=\"text/css\">\n",
       "#T_796f3_row5_col0, #T_796f3_row5_col1, #T_796f3_row5_col2, #T_796f3_row5_col3, #T_796f3_row5_col4, #T_796f3_row5_col5, #T_796f3_row5_col6, #T_796f3_row5_col7 {\n",
       "  background: yellow;\n",
       "}\n",
       "</style>\n",
       "<table id=\"T_796f3_\">\n",
       "  <thead>\n",
       "    <tr>\n",
       "      <th class=\"blank level0\" >&nbsp;</th>\n",
       "      <th class=\"col_heading level0 col0\" >Accuracy</th>\n",
       "      <th class=\"col_heading level0 col1\" >AUC</th>\n",
       "      <th class=\"col_heading level0 col2\" >Recall</th>\n",
       "      <th class=\"col_heading level0 col3\" >Prec.</th>\n",
       "      <th class=\"col_heading level0 col4\" >F1</th>\n",
       "      <th class=\"col_heading level0 col5\" >Kappa</th>\n",
       "      <th class=\"col_heading level0 col6\" >MCC</th>\n",
       "      <th class=\"col_heading level0 col7\" >LogLoss</th>\n",
       "    </tr>\n",
       "  </thead>\n",
       "  <tbody>\n",
       "    <tr>\n",
       "      <th id=\"T_796f3_level0_row0\" class=\"row_heading level0 row0\" >0</th>\n",
       "      <td id=\"T_796f3_row0_col0\" class=\"data row0 col0\" >0.6478</td>\n",
       "      <td id=\"T_796f3_row0_col1\" class=\"data row0 col1\" >0.8759</td>\n",
       "      <td id=\"T_796f3_row0_col2\" class=\"data row0 col2\" >0.5758</td>\n",
       "      <td id=\"T_796f3_row0_col3\" class=\"data row0 col3\" >0.5828</td>\n",
       "      <td id=\"T_796f3_row0_col4\" class=\"data row0 col4\" >0.5804</td>\n",
       "      <td id=\"T_796f3_row0_col5\" class=\"data row0 col5\" >0.4708</td>\n",
       "      <td id=\"T_796f3_row0_col6\" class=\"data row0 col6\" >0.5179</td>\n",
       "      <td id=\"T_796f3_row0_col7\" class=\"data row0 col7\" >0.9619</td>\n",
       "    </tr>\n",
       "    <tr>\n",
       "      <th id=\"T_796f3_level0_row1\" class=\"row_heading level0 row1\" >1</th>\n",
       "      <td id=\"T_796f3_row1_col0\" class=\"data row1 col0\" >0.6080</td>\n",
       "      <td id=\"T_796f3_row1_col1\" class=\"data row1 col1\" >0.8295</td>\n",
       "      <td id=\"T_796f3_row1_col2\" class=\"data row1 col2\" >0.4955</td>\n",
       "      <td id=\"T_796f3_row1_col3\" class=\"data row1 col3\" >0.5484</td>\n",
       "      <td id=\"T_796f3_row1_col4\" class=\"data row1 col4\" >0.5308</td>\n",
       "      <td id=\"T_796f3_row1_col5\" class=\"data row1 col5\" >0.4076</td>\n",
       "      <td id=\"T_796f3_row1_col6\" class=\"data row1 col6\" >0.4521</td>\n",
       "      <td id=\"T_796f3_row1_col7\" class=\"data row1 col7\" >1.0099</td>\n",
       "    </tr>\n",
       "    <tr>\n",
       "      <th id=\"T_796f3_level0_row2\" class=\"row_heading level0 row2\" >2</th>\n",
       "      <td id=\"T_796f3_row2_col0\" class=\"data row2 col0\" >0.6179</td>\n",
       "      <td id=\"T_796f3_row2_col1\" class=\"data row2 col1\" >0.8615</td>\n",
       "      <td id=\"T_796f3_row2_col2\" class=\"data row2 col2\" >0.5674</td>\n",
       "      <td id=\"T_796f3_row2_col3\" class=\"data row2 col3\" >0.5481</td>\n",
       "      <td id=\"T_796f3_row2_col4\" class=\"data row2 col4\" >0.5509</td>\n",
       "      <td id=\"T_796f3_row2_col5\" class=\"data row2 col5\" >0.4298</td>\n",
       "      <td id=\"T_796f3_row2_col6\" class=\"data row2 col6\" >0.4773</td>\n",
       "      <td id=\"T_796f3_row2_col7\" class=\"data row2 col7\" >0.9884</td>\n",
       "    </tr>\n",
       "    <tr>\n",
       "      <th id=\"T_796f3_level0_row3\" class=\"row_heading level0 row3\" >3</th>\n",
       "      <td id=\"T_796f3_row3_col0\" class=\"data row3 col0\" >0.6047</td>\n",
       "      <td id=\"T_796f3_row3_col1\" class=\"data row3 col1\" >0.8578</td>\n",
       "      <td id=\"T_796f3_row3_col2\" class=\"data row3 col2\" >0.5351</td>\n",
       "      <td id=\"T_796f3_row3_col3\" class=\"data row3 col3\" >0.5371</td>\n",
       "      <td id=\"T_796f3_row3_col4\" class=\"data row3 col4\" >0.5381</td>\n",
       "      <td id=\"T_796f3_row3_col5\" class=\"data row3 col5\" >0.4072</td>\n",
       "      <td id=\"T_796f3_row3_col6\" class=\"data row3 col6\" >0.4507</td>\n",
       "      <td id=\"T_796f3_row3_col7\" class=\"data row3 col7\" >0.9925</td>\n",
       "    </tr>\n",
       "    <tr>\n",
       "      <th id=\"T_796f3_level0_row4\" class=\"row_heading level0 row4\" >4</th>\n",
       "      <td id=\"T_796f3_row4_col0\" class=\"data row4 col0\" >0.6100</td>\n",
       "      <td id=\"T_796f3_row4_col1\" class=\"data row4 col1\" >0.8366</td>\n",
       "      <td id=\"T_796f3_row4_col2\" class=\"data row4 col2\" >0.5479</td>\n",
       "      <td id=\"T_796f3_row4_col3\" class=\"data row4 col3\" >0.5450</td>\n",
       "      <td id=\"T_796f3_row4_col4\" class=\"data row4 col4\" >0.5411</td>\n",
       "      <td id=\"T_796f3_row4_col5\" class=\"data row4 col5\" >0.4151</td>\n",
       "      <td id=\"T_796f3_row4_col6\" class=\"data row4 col6\" >0.4591</td>\n",
       "      <td id=\"T_796f3_row4_col7\" class=\"data row4 col7\" >0.9968</td>\n",
       "    </tr>\n",
       "    <tr>\n",
       "      <th id=\"T_796f3_level0_row5\" class=\"row_heading level0 row5\" >Mean</th>\n",
       "      <td id=\"T_796f3_row5_col0\" class=\"data row5 col0\" >0.6177</td>\n",
       "      <td id=\"T_796f3_row5_col1\" class=\"data row5 col1\" >0.8523</td>\n",
       "      <td id=\"T_796f3_row5_col2\" class=\"data row5 col2\" >0.5443</td>\n",
       "      <td id=\"T_796f3_row5_col3\" class=\"data row5 col3\" >0.5523</td>\n",
       "      <td id=\"T_796f3_row5_col4\" class=\"data row5 col4\" >0.5483</td>\n",
       "      <td id=\"T_796f3_row5_col5\" class=\"data row5 col5\" >0.4261</td>\n",
       "      <td id=\"T_796f3_row5_col6\" class=\"data row5 col6\" >0.4714</td>\n",
       "      <td id=\"T_796f3_row5_col7\" class=\"data row5 col7\" >0.9899</td>\n",
       "    </tr>\n",
       "    <tr>\n",
       "      <th id=\"T_796f3_level0_row6\" class=\"row_heading level0 row6\" >SD</th>\n",
       "      <td id=\"T_796f3_row6_col0\" class=\"data row6 col0\" >0.0157</td>\n",
       "      <td id=\"T_796f3_row6_col1\" class=\"data row6 col1\" >0.0170</td>\n",
       "      <td id=\"T_796f3_row6_col2\" class=\"data row6 col2\" >0.0283</td>\n",
       "      <td id=\"T_796f3_row6_col3\" class=\"data row6 col3\" >0.0158</td>\n",
       "      <td id=\"T_796f3_row6_col4\" class=\"data row6 col4\" >0.0173</td>\n",
       "      <td id=\"T_796f3_row6_col5\" class=\"data row6 col5\" >0.0238</td>\n",
       "      <td id=\"T_796f3_row6_col6\" class=\"data row6 col6\" >0.0251</td>\n",
       "      <td id=\"T_796f3_row6_col7\" class=\"data row6 col7\" >0.0158</td>\n",
       "    </tr>\n",
       "  </tbody>\n",
       "</table>\n"
      ],
      "text/plain": [
       "<pandas.io.formats.style.Styler at 0x2213cdb4e80>"
      ]
     },
     "metadata": {},
     "output_type": "display_data"
    }
   ],
   "source": [
    "et = create_model('et') \n",
    "tuned_et_custom = tune_model(et, custom_grid = params)"
   ]
  },
  {
   "cell_type": "code",
   "execution_count": 19,
   "id": "bcb240f7-675a-492b-b187-76d2e5139389",
   "metadata": {},
   "outputs": [
    {
     "data": {
      "text/plain": [
       "ExtraTreesClassifier(bootstrap=False, ccp_alpha=0.0, class_weight=None,\n",
       "                     criterion='gini', max_depth=5, max_features='auto',\n",
       "                     max_leaf_nodes=None, max_samples=None,\n",
       "                     min_impurity_decrease=0.0, min_impurity_split=None,\n",
       "                     min_samples_leaf=1, min_samples_split=10,\n",
       "                     min_weight_fraction_leaf=0.0, n_estimators=100, n_jobs=-1,\n",
       "                     oob_score=False, random_state=42, verbose=0,\n",
       "                     warm_start=False)"
      ]
     },
     "execution_count": 19,
     "metadata": {},
     "output_type": "execute_result"
    }
   ],
   "source": [
    "tuned_et_custom # 0.6622, 가장 점수가 높았던 모델의 하이퍼 파라미터 확인"
   ]
  },
  {
   "cell_type": "code",
   "execution_count": 20,
   "id": "123544c7-700d-43c8-806e-55d60a642546",
   "metadata": {
    "tags": []
   },
   "outputs": [
    {
     "data": {
      "text/html": [
       "<style type=\"text/css\">\n",
       "#T_c492c_row5_col0, #T_c492c_row5_col1, #T_c492c_row5_col2, #T_c492c_row5_col3, #T_c492c_row5_col4, #T_c492c_row5_col5, #T_c492c_row5_col6, #T_c492c_row5_col7 {\n",
       "  background: yellow;\n",
       "}\n",
       "</style>\n",
       "<table id=\"T_c492c_\">\n",
       "  <thead>\n",
       "    <tr>\n",
       "      <th class=\"blank level0\" >&nbsp;</th>\n",
       "      <th class=\"col_heading level0 col0\" >Accuracy</th>\n",
       "      <th class=\"col_heading level0 col1\" >AUC</th>\n",
       "      <th class=\"col_heading level0 col2\" >Recall</th>\n",
       "      <th class=\"col_heading level0 col3\" >Prec.</th>\n",
       "      <th class=\"col_heading level0 col4\" >F1</th>\n",
       "      <th class=\"col_heading level0 col5\" >Kappa</th>\n",
       "      <th class=\"col_heading level0 col6\" >MCC</th>\n",
       "      <th class=\"col_heading level0 col7\" >LogLoss</th>\n",
       "    </tr>\n",
       "  </thead>\n",
       "  <tbody>\n",
       "    <tr>\n",
       "      <th id=\"T_c492c_level0_row0\" class=\"row_heading level0 row0\" >0</th>\n",
       "      <td id=\"T_c492c_row0_col0\" class=\"data row0 col0\" >0.6611</td>\n",
       "      <td id=\"T_c492c_row0_col1\" class=\"data row0 col1\" >0.8753</td>\n",
       "      <td id=\"T_c492c_row0_col2\" class=\"data row0 col2\" >0.6084</td>\n",
       "      <td id=\"T_c492c_row0_col3\" class=\"data row0 col3\" >0.5894</td>\n",
       "      <td id=\"T_c492c_row0_col4\" class=\"data row0 col4\" >0.5964</td>\n",
       "      <td id=\"T_c492c_row0_col5\" class=\"data row0 col5\" >0.4943</td>\n",
       "      <td id=\"T_c492c_row0_col6\" class=\"data row0 col6\" >0.5386</td>\n",
       "      <td id=\"T_c492c_row0_col7\" class=\"data row0 col7\" >0.9478</td>\n",
       "    </tr>\n",
       "    <tr>\n",
       "      <th id=\"T_c492c_level0_row1\" class=\"row_heading level0 row1\" >1</th>\n",
       "      <td id=\"T_c492c_row1_col0\" class=\"data row1 col0\" >0.6179</td>\n",
       "      <td id=\"T_c492c_row1_col1\" class=\"data row1 col1\" >0.8411</td>\n",
       "      <td id=\"T_c492c_row1_col2\" class=\"data row1 col2\" >0.5527</td>\n",
       "      <td id=\"T_c492c_row1_col3\" class=\"data row1 col3\" >0.5488</td>\n",
       "      <td id=\"T_c492c_row1_col4\" class=\"data row1 col4\" >0.5525</td>\n",
       "      <td id=\"T_c492c_row1_col5\" class=\"data row1 col5\" >0.4293</td>\n",
       "      <td id=\"T_c492c_row1_col6\" class=\"data row1 col6\" >0.4689</td>\n",
       "      <td id=\"T_c492c_row1_col7\" class=\"data row1 col7\" >0.9905</td>\n",
       "    </tr>\n",
       "    <tr>\n",
       "      <th id=\"T_c492c_level0_row2\" class=\"row_heading level0 row2\" >2</th>\n",
       "      <td id=\"T_c492c_row2_col0\" class=\"data row2 col0\" >0.6246</td>\n",
       "      <td id=\"T_c492c_row2_col1\" class=\"data row2 col1\" >0.8560</td>\n",
       "      <td id=\"T_c492c_row2_col2\" class=\"data row2 col2\" >0.6026</td>\n",
       "      <td id=\"T_c492c_row2_col3\" class=\"data row2 col3\" >0.5566</td>\n",
       "      <td id=\"T_c492c_row2_col4\" class=\"data row2 col4\" >0.5589</td>\n",
       "      <td id=\"T_c492c_row2_col5\" class=\"data row2 col5\" >0.4418</td>\n",
       "      <td id=\"T_c492c_row2_col6\" class=\"data row2 col6\" >0.4921</td>\n",
       "      <td id=\"T_c492c_row2_col7\" class=\"data row2 col7\" >0.9802</td>\n",
       "    </tr>\n",
       "    <tr>\n",
       "      <th id=\"T_c492c_level0_row3\" class=\"row_heading level0 row3\" >3</th>\n",
       "      <td id=\"T_c492c_row3_col0\" class=\"data row3 col0\" >0.6179</td>\n",
       "      <td id=\"T_c492c_row3_col1\" class=\"data row3 col1\" >0.8568</td>\n",
       "      <td id=\"T_c492c_row3_col2\" class=\"data row3 col2\" >0.5575</td>\n",
       "      <td id=\"T_c492c_row3_col3\" class=\"data row3 col3\" >0.5513</td>\n",
       "      <td id=\"T_c492c_row3_col4\" class=\"data row3 col4\" >0.5502</td>\n",
       "      <td id=\"T_c492c_row3_col5\" class=\"data row3 col5\" >0.4290</td>\n",
       "      <td id=\"T_c492c_row3_col6\" class=\"data row3 col6\" >0.4774</td>\n",
       "      <td id=\"T_c492c_row3_col7\" class=\"data row3 col7\" >0.9807</td>\n",
       "    </tr>\n",
       "    <tr>\n",
       "      <th id=\"T_c492c_level0_row4\" class=\"row_heading level0 row4\" >4</th>\n",
       "      <td id=\"T_c492c_row4_col0\" class=\"data row4 col0\" >0.6167</td>\n",
       "      <td id=\"T_c492c_row4_col1\" class=\"data row4 col1\" >0.8435</td>\n",
       "      <td id=\"T_c492c_row4_col2\" class=\"data row4 col2\" >0.5603</td>\n",
       "      <td id=\"T_c492c_row4_col3\" class=\"data row4 col3\" >0.5533</td>\n",
       "      <td id=\"T_c492c_row4_col4\" class=\"data row4 col4\" >0.5488</td>\n",
       "      <td id=\"T_c492c_row4_col5\" class=\"data row4 col5\" >0.4286</td>\n",
       "      <td id=\"T_c492c_row4_col6\" class=\"data row4 col6\" >0.4733</td>\n",
       "      <td id=\"T_c492c_row4_col7\" class=\"data row4 col7\" >0.9908</td>\n",
       "    </tr>\n",
       "    <tr>\n",
       "      <th id=\"T_c492c_level0_row5\" class=\"row_heading level0 row5\" >Mean</th>\n",
       "      <td id=\"T_c492c_row5_col0\" class=\"data row5 col0\" >0.6277</td>\n",
       "      <td id=\"T_c492c_row5_col1\" class=\"data row5 col1\" >0.8545</td>\n",
       "      <td id=\"T_c492c_row5_col2\" class=\"data row5 col2\" >0.5763</td>\n",
       "      <td id=\"T_c492c_row5_col3\" class=\"data row5 col3\" >0.5599</td>\n",
       "      <td id=\"T_c492c_row5_col4\" class=\"data row5 col4\" >0.5613</td>\n",
       "      <td id=\"T_c492c_row5_col5\" class=\"data row5 col5\" >0.4446</td>\n",
       "      <td id=\"T_c492c_row5_col6\" class=\"data row5 col6\" >0.4901</td>\n",
       "      <td id=\"T_c492c_row5_col7\" class=\"data row5 col7\" >0.9780</td>\n",
       "    </tr>\n",
       "    <tr>\n",
       "      <th id=\"T_c492c_level0_row6\" class=\"row_heading level0 row6\" >SD</th>\n",
       "      <td id=\"T_c492c_row6_col0\" class=\"data row6 col0\" >0.0170</td>\n",
       "      <td id=\"T_c492c_row6_col1\" class=\"data row6 col1\" >0.0122</td>\n",
       "      <td id=\"T_c492c_row6_col2\" class=\"data row6 col2\" >0.0240</td>\n",
       "      <td id=\"T_c492c_row6_col3\" class=\"data row6 col3\" >0.0150</td>\n",
       "      <td id=\"T_c492c_row6_col4\" class=\"data row6 col4\" >0.0179</td>\n",
       "      <td id=\"T_c492c_row6_col5\" class=\"data row6 col5\" >0.0254</td>\n",
       "      <td id=\"T_c492c_row6_col6\" class=\"data row6 col6\" >0.0255</td>\n",
       "      <td id=\"T_c492c_row6_col7\" class=\"data row6 col7\" >0.0158</td>\n",
       "    </tr>\n",
       "  </tbody>\n",
       "</table>\n"
      ],
      "text/plain": [
       "<pandas.io.formats.style.Styler at 0x2213e9e7dc0>"
      ]
     },
     "metadata": {},
     "output_type": "display_data"
    }
   ],
   "source": [
    "tuned_et = tune_model(et)\n",
    "tuned_et_custom = tune_model(tuned_et, custom_grid = params)"
   ]
  },
  {
   "cell_type": "code",
   "execution_count": 21,
   "id": "bebc15c9-f5d7-40d6-a5f8-1673b694b587",
   "metadata": {
    "tags": []
   },
   "outputs": [
    {
     "data": {
      "text/html": [
       "<style type=\"text/css\">\n",
       "#T_0592a_row5_col0, #T_0592a_row5_col1, #T_0592a_row5_col2, #T_0592a_row5_col3, #T_0592a_row5_col4, #T_0592a_row5_col5, #T_0592a_row5_col6, #T_0592a_row5_col7 {\n",
       "  background: yellow;\n",
       "}\n",
       "</style>\n",
       "<table id=\"T_0592a_\">\n",
       "  <thead>\n",
       "    <tr>\n",
       "      <th class=\"blank level0\" >&nbsp;</th>\n",
       "      <th class=\"col_heading level0 col0\" >Accuracy</th>\n",
       "      <th class=\"col_heading level0 col1\" >AUC</th>\n",
       "      <th class=\"col_heading level0 col2\" >Recall</th>\n",
       "      <th class=\"col_heading level0 col3\" >Prec.</th>\n",
       "      <th class=\"col_heading level0 col4\" >F1</th>\n",
       "      <th class=\"col_heading level0 col5\" >Kappa</th>\n",
       "      <th class=\"col_heading level0 col6\" >MCC</th>\n",
       "      <th class=\"col_heading level0 col7\" >LogLoss</th>\n",
       "    </tr>\n",
       "  </thead>\n",
       "  <tbody>\n",
       "    <tr>\n",
       "      <th id=\"T_0592a_level0_row0\" class=\"row_heading level0 row0\" >0</th>\n",
       "      <td id=\"T_0592a_row0_col0\" class=\"data row0 col0\" >0.6910</td>\n",
       "      <td id=\"T_0592a_row0_col1\" class=\"data row0 col1\" >0.8948</td>\n",
       "      <td id=\"T_0592a_row0_col2\" class=\"data row0 col2\" >0.7082</td>\n",
       "      <td id=\"T_0592a_row0_col3\" class=\"data row0 col3\" >0.6295</td>\n",
       "      <td id=\"T_0592a_row0_col4\" class=\"data row0 col4\" >0.6272</td>\n",
       "      <td id=\"T_0592a_row0_col5\" class=\"data row0 col5\" >0.5434</td>\n",
       "      <td id=\"T_0592a_row0_col6\" class=\"data row0 col6\" >0.5989</td>\n",
       "      <td id=\"T_0592a_row0_col7\" class=\"data row0 col7\" >0.7939</td>\n",
       "    </tr>\n",
       "    <tr>\n",
       "      <th id=\"T_0592a_level0_row1\" class=\"row_heading level0 row1\" >1</th>\n",
       "      <td id=\"T_0592a_row1_col0\" class=\"data row1 col0\" >0.6545</td>\n",
       "      <td id=\"T_0592a_row1_col1\" class=\"data row1 col1\" >0.8536</td>\n",
       "      <td id=\"T_0592a_row1_col2\" class=\"data row1 col2\" >0.6587</td>\n",
       "      <td id=\"T_0592a_row1_col3\" class=\"data row1 col3\" >0.5935</td>\n",
       "      <td id=\"T_0592a_row1_col4\" class=\"data row1 col4\" >0.5939</td>\n",
       "      <td id=\"T_0592a_row1_col5\" class=\"data row1 col5\" >0.4883</td>\n",
       "      <td id=\"T_0592a_row1_col6\" class=\"data row1 col6\" >0.5389</td>\n",
       "      <td id=\"T_0592a_row1_col7\" class=\"data row1 col7\" >0.8630</td>\n",
       "    </tr>\n",
       "    <tr>\n",
       "      <th id=\"T_0592a_level0_row2\" class=\"row_heading level0 row2\" >2</th>\n",
       "      <td id=\"T_0592a_row2_col0\" class=\"data row2 col0\" >0.6379</td>\n",
       "      <td id=\"T_0592a_row2_col1\" class=\"data row2 col1\" >0.8725</td>\n",
       "      <td id=\"T_0592a_row2_col2\" class=\"data row2 col2\" >0.6418</td>\n",
       "      <td id=\"T_0592a_row2_col3\" class=\"data row2 col3\" >0.5745</td>\n",
       "      <td id=\"T_0592a_row2_col4\" class=\"data row2 col4\" >0.5715</td>\n",
       "      <td id=\"T_0592a_row2_col5\" class=\"data row2 col5\" >0.4674</td>\n",
       "      <td id=\"T_0592a_row2_col6\" class=\"data row2 col6\" >0.5193</td>\n",
       "      <td id=\"T_0592a_row2_col7\" class=\"data row2 col7\" >0.8376</td>\n",
       "    </tr>\n",
       "    <tr>\n",
       "      <th id=\"T_0592a_level0_row3\" class=\"row_heading level0 row3\" >3</th>\n",
       "      <td id=\"T_0592a_row3_col0\" class=\"data row3 col0\" >0.6512</td>\n",
       "      <td id=\"T_0592a_row3_col1\" class=\"data row3 col1\" >0.8721</td>\n",
       "      <td id=\"T_0592a_row3_col2\" class=\"data row3 col2\" >0.6489</td>\n",
       "      <td id=\"T_0592a_row3_col3\" class=\"data row3 col3\" >0.5887</td>\n",
       "      <td id=\"T_0592a_row3_col4\" class=\"data row3 col4\" >0.5888</td>\n",
       "      <td id=\"T_0592a_row3_col5\" class=\"data row3 col5\" >0.4844</td>\n",
       "      <td id=\"T_0592a_row3_col6\" class=\"data row3 col6\" >0.5342</td>\n",
       "      <td id=\"T_0592a_row3_col7\" class=\"data row3 col7\" >0.8440</td>\n",
       "    </tr>\n",
       "    <tr>\n",
       "      <th id=\"T_0592a_level0_row4\" class=\"row_heading level0 row4\" >4</th>\n",
       "      <td id=\"T_0592a_row4_col0\" class=\"data row4 col0\" >0.6500</td>\n",
       "      <td id=\"T_0592a_row4_col1\" class=\"data row4 col1\" >0.8561</td>\n",
       "      <td id=\"T_0592a_row4_col2\" class=\"data row4 col2\" >0.6614</td>\n",
       "      <td id=\"T_0592a_row4_col3\" class=\"data row4 col3\" >0.5880</td>\n",
       "      <td id=\"T_0592a_row4_col4\" class=\"data row4 col4\" >0.5862</td>\n",
       "      <td id=\"T_0592a_row4_col5\" class=\"data row4 col5\" >0.4812</td>\n",
       "      <td id=\"T_0592a_row4_col6\" class=\"data row4 col6\" >0.5343</td>\n",
       "      <td id=\"T_0592a_row4_col7\" class=\"data row4 col7\" >0.8455</td>\n",
       "    </tr>\n",
       "    <tr>\n",
       "      <th id=\"T_0592a_level0_row5\" class=\"row_heading level0 row5\" >Mean</th>\n",
       "      <td id=\"T_0592a_row5_col0\" class=\"data row5 col0\" >0.6569</td>\n",
       "      <td id=\"T_0592a_row5_col1\" class=\"data row5 col1\" >0.8698</td>\n",
       "      <td id=\"T_0592a_row5_col2\" class=\"data row5 col2\" >0.6638</td>\n",
       "      <td id=\"T_0592a_row5_col3\" class=\"data row5 col3\" >0.5948</td>\n",
       "      <td id=\"T_0592a_row5_col4\" class=\"data row5 col4\" >0.5935</td>\n",
       "      <td id=\"T_0592a_row5_col5\" class=\"data row5 col5\" >0.4930</td>\n",
       "      <td id=\"T_0592a_row5_col6\" class=\"data row5 col6\" >0.5451</td>\n",
       "      <td id=\"T_0592a_row5_col7\" class=\"data row5 col7\" >0.8368</td>\n",
       "    </tr>\n",
       "    <tr>\n",
       "      <th id=\"T_0592a_level0_row6\" class=\"row_heading level0 row6\" >SD</th>\n",
       "      <td id=\"T_0592a_row6_col0\" class=\"data row6 col0\" >0.0180</td>\n",
       "      <td id=\"T_0592a_row6_col1\" class=\"data row6 col1\" >0.0148</td>\n",
       "      <td id=\"T_0592a_row6_col2\" class=\"data row6 col2\" >0.0233</td>\n",
       "      <td id=\"T_0592a_row6_col3\" class=\"data row6 col3\" >0.0185</td>\n",
       "      <td id=\"T_0592a_row6_col4\" class=\"data row6 col4\" >0.0184</td>\n",
       "      <td id=\"T_0592a_row6_col5\" class=\"data row6 col5\" >0.0262</td>\n",
       "      <td id=\"T_0592a_row6_col6\" class=\"data row6 col6\" >0.0277</td>\n",
       "      <td id=\"T_0592a_row6_col7\" class=\"data row6 col7\" >0.0230</td>\n",
       "    </tr>\n",
       "  </tbody>\n",
       "</table>\n"
      ],
      "text/plain": [
       "<pandas.io.formats.style.Styler at 0x2213d3b6d30>"
      ]
     },
     "metadata": {},
     "output_type": "display_data"
    }
   ],
   "source": [
    "tuned_et_optuna = tune_model(et, search_library = 'optuna')\n",
    "tuned_et_op_custom = tune_model(tuned_et_optuna, custom_grid = params)"
   ]
  },
  {
   "cell_type": "markdown",
   "id": "fbb61f9e-25a5-43c4-97a3-f30f64749299",
   "metadata": {},
   "source": [
    "---\n",
    "## evaluate_model 간단한 모델 평가 및 시각화"
   ]
  },
  {
   "cell_type": "markdown",
   "id": "5204c955-488b-4b5c-96a6-29776dd6c5d7",
   "metadata": {},
   "source": [
    "-  모델 예시\n",
    "> `rf`, `tuned_rf_custom`, `tuned_rf`, `tuned_rf_sk_custom`, `tuned_rf_optuna`, `tuned_rf_op_custom`      \n",
    "> `et`, `tuned_et_custom`, `tuned_et`, `tuned_et_sk_custom`, `tuned_et_optuna`, `tuned_et_op_custom`"
   ]
  },
  {
   "cell_type": "code",
   "execution_count": 22,
   "id": "23f3269e-751b-43d7-9f67-194806724bfc",
   "metadata": {},
   "outputs": [
    {
     "data": {
      "application/vnd.jupyter.widget-view+json": {
       "model_id": "cfa90b236fe94d859b52f68461eee9d1",
       "version_major": 2,
       "version_minor": 0
      },
      "text/plain": [
       "interactive(children=(ToggleButtons(description='Plot Type:', icons=('',), options=(('Hyperparameters', 'param…"
      ]
     },
     "metadata": {},
     "output_type": "display_data"
    }
   ],
   "source": [
    "evaluate_model(rf)  # 괄호 안에 모델을 넣어가면서 모델 평가 및 시각화할 수 있음"
   ]
  },
  {
   "cell_type": "code",
   "execution_count": 23,
   "id": "f6ed4171-dadb-47ff-aacf-42706b650b9b",
   "metadata": {},
   "outputs": [
    {
     "data": {
      "application/vnd.jupyter.widget-view+json": {
       "model_id": "dda25aa53be44d53beb898d00879a787",
       "version_major": 2,
       "version_minor": 0
      },
      "text/plain": [
       "interactive(children=(ToggleButtons(description='Plot Type:', icons=('',), options=(('Hyperparameters', 'param…"
      ]
     },
     "metadata": {},
     "output_type": "display_data"
    }
   ],
   "source": [
    "evaluate_model(tuned_rf_custom) # rf, et, tuned_lightgbm = 성과가 가장 좋은 모델"
   ]
  },
  {
   "cell_type": "code",
   "execution_count": 25,
   "id": "321b60cd-3fc5-4f3f-857e-bfdc95b26aab",
   "metadata": {
    "tags": []
   },
   "outputs": [
    {
     "data": {
      "application/vnd.jupyter.widget-view+json": {
       "model_id": "e5ba8695903741cd9bbd4e2c790ac0e0",
       "version_major": 2,
       "version_minor": 0
      },
      "text/plain": [
       "interactive(children=(ToggleButtons(description='Plot Type:', icons=('',), options=(('Hyperparameters', 'param…"
      ]
     },
     "metadata": {},
     "output_type": "display_data"
    }
   ],
   "source": [
    "evaluate_model(tuned_et_op_custom) # 모델 하나씩 plot type 별로 볼 수 있음"
   ]
  },
  {
   "cell_type": "markdown",
   "id": "cd0904c3-10e9-447f-9ade-1a503f6be67d",
   "metadata": {},
   "source": [
    "> `Tunning`한 값이 `Accuracy` 점수가 낮아지는 경우, 커지는 경우가 있음    \n",
    "튜닝할수록 오히려 고등학교 1,2,3학년을 구분하지 못하거나 중,고등학교 분류를 못하기도 함.     \n",
    "=> 요한님이 정리하신 단어장으로 `sample data`를 만들고, 분류되는 것을 한 번 더 살펴볼 것     \n",
    "\n"
   ]
  },
  {
   "cell_type": "markdown",
   "id": "bfda22eb-5746-42eb-bb83-c16a5d6109a5",
   "metadata": {},
   "source": [
    "## 결과 시각화 (random forest 예시)"
   ]
  },
  {
   "cell_type": "markdown",
   "id": "08db30cc-40a6-4b68-997c-7e23cd1f2edd",
   "metadata": {},
   "source": [
    "### ✅insight AUC 바이너리로 예측하는 것이기 때문에 중학교와 고등학교를 나누는 기준으로 만들면 좋을것 같음.  \n",
    "> class 4 : 고2의 정답률이 상당히 떨어짐. 파라미터 튜닝 등을 통해 개선시키는 것이 목적"
   ]
  },
  {
   "cell_type": "code",
   "execution_count": 26,
   "id": "c02c1fc7-6858-4d67-b520-afa28d5d2744",
   "metadata": {
    "tags": []
   },
   "outputs": [
    {
     "data": {
      "image/png": "[encoded data removed]",
      "text/plain": [
       "<Figure size 576x396 with 1 Axes>"
      ]
     },
     "metadata": {},
     "output_type": "display_data"
    }
   ],
   "source": [
    "plot_model(tuned_rf_op_custom, plot='auc')"
   ]
  },
  {
   "cell_type": "markdown",
   "id": "b10e627d-a444-4a07-a97a-11b1a6296282",
   "metadata": {},
   "source": [
    "> Sensitive 민감도 = TP / TP + FN # 실제 양성 + 맞춘 양성    \n",
    "Specificity 특이도 = TN / TN + FP # 실제 음성 + 맞춘 음성    \n",
    "클수록 좋다.     "
   ]
  },
  {
   "cell_type": "markdown",
   "id": "a48210e4-8896-42f6-8bb2-0103ae34ecf1",
   "metadata": {},
   "source": [
    "### ✅Insigt CM 중학교 vs 고등학교 바이너리 분류는 잘하고 있음"
   ]
  },
  {
   "cell_type": "code",
   "execution_count": 27,
   "id": "c1e4eef0-0479-4f40-9f8e-a46fa3c64c5d",
   "metadata": {
    "tags": []
   },
   "outputs": [
    {
     "data": {
      "image/png": "[encoded data removed]",
      "text/plain": [
       "<Figure size 576x396 with 1 Axes>"
      ]
     },
     "metadata": {},
     "output_type": "display_data"
    }
   ],
   "source": [
    "plot_model(tuned_rf_op_custom, plot='confusion_matrix')"
   ]
  },
  {
   "cell_type": "code",
   "execution_count": 28,
   "id": "f3c751a1-bf49-4e0b-a9ff-cd365cf86d06",
   "metadata": {
    "tags": []
   },
   "outputs": [
    {
     "data": {
      "image/png": "[encoded data removed]",
      "text/plain": [
       "<Figure size 576x396 with 1 Axes>"
      ]
     },
     "metadata": {},
     "output_type": "display_data"
    }
   ],
   "source": [
    "plot_model(tuned_rf_op_custom, plot = 'vc')"
   ]
  },
  {
   "cell_type": "markdown",
   "id": "8d8e06a1-633b-4cd2-9986-148308771ae2",
   "metadata": {},
   "source": [
    "> - n_estimators는 클수록 좋습니다.     \n",
    ">- max_depth는 직접 수를 넣어보며 조절 (과적합 조심)"
   ]
  },
  {
   "cell_type": "markdown",
   "id": "27e7920c-d633-4105-a970-2fd65c290f4a",
   "metadata": {},
   "source": [
    "### ✅ feature importance가 다양한 모델을 활용해 앙상블 할 예정"
   ]
  },
  {
   "cell_type": "code",
   "execution_count": 29,
   "id": "35ac7dae-7fab-40bc-afc6-830669d247b6",
   "metadata": {},
   "outputs": [
    {
     "data": {
      "image/png": "[encoded data removed]",
      "text/plain": [
       "<Figure size 800x500 with 1 Axes>"
      ]
     },
     "metadata": {},
     "output_type": "display_data"
    }
   ],
   "source": [
    "plot_model(tuned_rf_op_custom, plot = 'feature')"
   ]
  },
  {
   "cell_type": "code",
   "execution_count": 30,
   "id": "f399a4ae-cbc6-47ca-afcc-87a8b80be56a",
   "metadata": {
    "tags": []
   },
   "outputs": [
    {
     "data": {
      "image/png": "[encoded data removed]",
      "text/plain": [
       "<Figure size 800x500 with 1 Axes>"
      ]
     },
     "metadata": {},
     "output_type": "display_data"
    }
   ],
   "source": [
    "plot_model(et, plot = 'feature')"
   ]
  },
  {
   "cell_type": "markdown",
   "id": "4e0cda8c-d7e6-47da-8fea-d0131aab6a25",
   "metadata": {},
   "source": [
    "---\n",
    "## 앙상블 사용\n",
    "> 단일 모델에 비해 일반화 성능이 더 좋다."
   ]
  },
  {
   "cell_type": "markdown",
   "id": "04b3e047-a63b-4db6-91f3-921ecc631dba",
   "metadata": {},
   "source": [
    "### blended models"
   ]
  },
  {
   "cell_type": "markdown",
   "id": "ac297248-c736-4edb-be86-9f13a11dbd1b",
   "metadata": {},
   "source": [
    "> `blend_models` = 블랜딩 앙상블    \n",
    "`predict_model`\n",
    "\n",
    "`blending` 을 잘활용하기 위해서는      \n",
    "`validation set` 의 `meta-feature` (원래 feature 및 예측값) 을 통해 training 하고       \n",
    "`test set` 에 대해 성능을 최종 평가\n"
   ]
  },
  {
   "cell_type": "code",
   "execution_count": 31,
   "id": "f7ec56e5-be05-4d52-b568-fcdeea9ae939",
   "metadata": {},
   "outputs": [],
   "source": [
    "best2 = [rf,et]"
   ]
  },
  {
   "cell_type": "code",
   "execution_count": 32,
   "id": "904d2b5a-c5ea-4f3a-8867-6db1fa0904b7",
   "metadata": {
    "tags": []
   },
   "outputs": [
    {
     "data": {
      "text/html": [
       "<style type=\"text/css\">\n",
       "#T_b1923_row3_col0, #T_b1923_row3_col1, #T_b1923_row3_col2, #T_b1923_row3_col3, #T_b1923_row3_col4, #T_b1923_row3_col5, #T_b1923_row3_col6, #T_b1923_row3_col7 {\n",
       "  background: yellow;\n",
       "}\n",
       "</style>\n",
       "<table id=\"T_b1923_\">\n",
       "  <thead>\n",
       "    <tr>\n",
       "      <th class=\"blank level0\" >&nbsp;</th>\n",
       "      <th class=\"col_heading level0 col0\" >Accuracy</th>\n",
       "      <th class=\"col_heading level0 col1\" >AUC</th>\n",
       "      <th class=\"col_heading level0 col2\" >Recall</th>\n",
       "      <th class=\"col_heading level0 col3\" >Prec.</th>\n",
       "      <th class=\"col_heading level0 col4\" >F1</th>\n",
       "      <th class=\"col_heading level0 col5\" >Kappa</th>\n",
       "      <th class=\"col_heading level0 col6\" >MCC</th>\n",
       "      <th class=\"col_heading level0 col7\" >LogLoss</th>\n",
       "    </tr>\n",
       "  </thead>\n",
       "  <tbody>\n",
       "    <tr>\n",
       "      <th id=\"T_b1923_level0_row0\" class=\"row_heading level0 row0\" >0</th>\n",
       "      <td id=\"T_b1923_row0_col0\" class=\"data row0 col0\" >0.6952</td>\n",
       "      <td id=\"T_b1923_row0_col1\" class=\"data row0 col1\" >0.8936</td>\n",
       "      <td id=\"T_b1923_row0_col2\" class=\"data row0 col2\" >0.7430</td>\n",
       "      <td id=\"T_b1923_row0_col3\" class=\"data row0 col3\" >0.6437</td>\n",
       "      <td id=\"T_b1923_row0_col4\" class=\"data row0 col4\" >0.6542</td>\n",
       "      <td id=\"T_b1923_row0_col5\" class=\"data row0 col5\" >0.5662</td>\n",
       "      <td id=\"T_b1923_row0_col6\" class=\"data row0 col6\" >0.5793</td>\n",
       "      <td id=\"T_b1923_row0_col7\" class=\"data row0 col7\" >0.7123</td>\n",
       "    </tr>\n",
       "    <tr>\n",
       "      <th id=\"T_b1923_level0_row1\" class=\"row_heading level0 row1\" >1</th>\n",
       "      <td id=\"T_b1923_row1_col0\" class=\"data row1 col0\" >0.6707</td>\n",
       "      <td id=\"T_b1923_row1_col1\" class=\"data row1 col1\" >0.8755</td>\n",
       "      <td id=\"T_b1923_row1_col2\" class=\"data row1 col2\" >0.6714</td>\n",
       "      <td id=\"T_b1923_row1_col3\" class=\"data row1 col3\" >0.6338</td>\n",
       "      <td id=\"T_b1923_row1_col4\" class=\"data row1 col4\" >0.6353</td>\n",
       "      <td id=\"T_b1923_row1_col5\" class=\"data row1 col5\" >0.5270</td>\n",
       "      <td id=\"T_b1923_row1_col6\" class=\"data row1 col6\" >0.5419</td>\n",
       "      <td id=\"T_b1923_row1_col7\" class=\"data row1 col7\" >0.7562</td>\n",
       "    </tr>\n",
       "    <tr>\n",
       "      <th id=\"T_b1923_level0_row2\" class=\"row_heading level0 row2\" >2</th>\n",
       "      <td id=\"T_b1923_row2_col0\" class=\"data row2 col0\" >0.6846</td>\n",
       "      <td id=\"T_b1923_row2_col1\" class=\"data row2 col1\" >0.8837</td>\n",
       "      <td id=\"T_b1923_row2_col2\" class=\"data row2 col2\" >0.7137</td>\n",
       "      <td id=\"T_b1923_row2_col3\" class=\"data row2 col3\" >0.6449</td>\n",
       "      <td id=\"T_b1923_row2_col4\" class=\"data row2 col4\" >0.6496</td>\n",
       "      <td id=\"T_b1923_row2_col5\" class=\"data row2 col5\" >0.5476</td>\n",
       "      <td id=\"T_b1923_row2_col6\" class=\"data row2 col6\" >0.5615</td>\n",
       "      <td id=\"T_b1923_row2_col7\" class=\"data row2 col7\" >0.7360</td>\n",
       "    </tr>\n",
       "    <tr>\n",
       "      <th id=\"T_b1923_level0_row3\" class=\"row_heading level0 row3\" >Mean</th>\n",
       "      <td id=\"T_b1923_row3_col0\" class=\"data row3 col0\" >0.6835</td>\n",
       "      <td id=\"T_b1923_row3_col1\" class=\"data row3 col1\" >0.8843</td>\n",
       "      <td id=\"T_b1923_row3_col2\" class=\"data row3 col2\" >0.7094</td>\n",
       "      <td id=\"T_b1923_row3_col3\" class=\"data row3 col3\" >0.6408</td>\n",
       "      <td id=\"T_b1923_row3_col4\" class=\"data row3 col4\" >0.6464</td>\n",
       "      <td id=\"T_b1923_row3_col5\" class=\"data row3 col5\" >0.5469</td>\n",
       "      <td id=\"T_b1923_row3_col6\" class=\"data row3 col6\" >0.5609</td>\n",
       "      <td id=\"T_b1923_row3_col7\" class=\"data row3 col7\" >0.7348</td>\n",
       "    </tr>\n",
       "    <tr>\n",
       "      <th id=\"T_b1923_level0_row4\" class=\"row_heading level0 row4\" >SD</th>\n",
       "      <td id=\"T_b1923_row4_col0\" class=\"data row4 col0\" >0.0101</td>\n",
       "      <td id=\"T_b1923_row4_col1\" class=\"data row4 col1\" >0.0074</td>\n",
       "      <td id=\"T_b1923_row4_col2\" class=\"data row4 col2\" >0.0294</td>\n",
       "      <td id=\"T_b1923_row4_col3\" class=\"data row4 col3\" >0.0050</td>\n",
       "      <td id=\"T_b1923_row4_col4\" class=\"data row4 col4\" >0.0081</td>\n",
       "      <td id=\"T_b1923_row4_col5\" class=\"data row4 col5\" >0.0160</td>\n",
       "      <td id=\"T_b1923_row4_col6\" class=\"data row4 col6\" >0.0153</td>\n",
       "      <td id=\"T_b1923_row4_col7\" class=\"data row4 col7\" >0.0180</td>\n",
       "    </tr>\n",
       "  </tbody>\n",
       "</table>\n"
      ],
      "text/plain": [
       "<pandas.io.formats.style.Styler at 0x22152f7e2b0>"
      ]
     },
     "metadata": {},
     "output_type": "display_data"
    },
    {
     "data": {
      "text/html": [
       "<style type=\"text/css\">\n",
       "</style>\n",
       "<table id=\"T_e8715_\">\n",
       "  <thead>\n",
       "    <tr>\n",
       "      <th class=\"blank level0\" >&nbsp;</th>\n",
       "      <th class=\"col_heading level0 col0\" >Model</th>\n",
       "      <th class=\"col_heading level0 col1\" >Accuracy</th>\n",
       "      <th class=\"col_heading level0 col2\" >AUC</th>\n",
       "      <th class=\"col_heading level0 col3\" >Recall</th>\n",
       "      <th class=\"col_heading level0 col4\" >Prec.</th>\n",
       "      <th class=\"col_heading level0 col5\" >F1</th>\n",
       "      <th class=\"col_heading level0 col6\" >Kappa</th>\n",
       "      <th class=\"col_heading level0 col7\" >MCC</th>\n",
       "      <th class=\"col_heading level0 col8\" >LogLoss</th>\n",
       "    </tr>\n",
       "  </thead>\n",
       "  <tbody>\n",
       "    <tr>\n",
       "      <th id=\"T_e8715_level0_row0\" class=\"row_heading level0 row0\" >0</th>\n",
       "      <td id=\"T_e8715_row0_col0\" class=\"data row0 col0\" >Voting Classifier</td>\n",
       "      <td id=\"T_e8715_row0_col1\" class=\"data row0 col1\" >0.7294</td>\n",
       "      <td id=\"T_e8715_row0_col2\" class=\"data row0 col2\" >0.9036</td>\n",
       "      <td id=\"T_e8715_row0_col3\" class=\"data row0 col3\" >0.7246</td>\n",
       "      <td id=\"T_e8715_row0_col4\" class=\"data row0 col4\" >0.7038</td>\n",
       "      <td id=\"T_e8715_row0_col5\" class=\"data row0 col5\" >0.6853</td>\n",
       "      <td id=\"T_e8715_row0_col6\" class=\"data row0 col6\" >0.6130</td>\n",
       "      <td id=\"T_e8715_row0_col7\" class=\"data row0 col7\" >0.6294</td>\n",
       "      <td id=\"T_e8715_row0_col8\" class=\"data row0 col8\" >0.6959</td>\n",
       "    </tr>\n",
       "  </tbody>\n",
       "</table>\n"
      ],
      "text/plain": [
       "<pandas.io.formats.style.Styler at 0x22140514130>"
      ]
     },
     "metadata": {},
     "output_type": "display_data"
    }
   ],
   "source": [
    "# # 블렌딩 앙상블\n",
    "blended = blend_models(estimator_list = best2, fold = 3, optimize = 'logloss') \n",
    "pred_holdout = predict_model(blended)\n"
   ]
  },
  {
   "cell_type": "code",
   "execution_count": 33,
   "id": "7e1ba6e8-e145-464e-b0c2-330d5a46a8d8",
   "metadata": {
    "tags": []
   },
   "outputs": [
    {
     "data": {
      "text/html": [
       "<style type=\"text/css\">\n",
       "#T_949e6_row3_col0, #T_949e6_row3_col1, #T_949e6_row3_col2, #T_949e6_row3_col3, #T_949e6_row3_col4, #T_949e6_row3_col5, #T_949e6_row3_col6, #T_949e6_row3_col7 {\n",
       "  background: yellow;\n",
       "}\n",
       "</style>\n",
       "<table id=\"T_949e6_\">\n",
       "  <thead>\n",
       "    <tr>\n",
       "      <th class=\"blank level0\" >&nbsp;</th>\n",
       "      <th class=\"col_heading level0 col0\" >Accuracy</th>\n",
       "      <th class=\"col_heading level0 col1\" >AUC</th>\n",
       "      <th class=\"col_heading level0 col2\" >Recall</th>\n",
       "      <th class=\"col_heading level0 col3\" >Prec.</th>\n",
       "      <th class=\"col_heading level0 col4\" >F1</th>\n",
       "      <th class=\"col_heading level0 col5\" >Kappa</th>\n",
       "      <th class=\"col_heading level0 col6\" >MCC</th>\n",
       "      <th class=\"col_heading level0 col7\" >LogLoss</th>\n",
       "    </tr>\n",
       "  </thead>\n",
       "  <tbody>\n",
       "    <tr>\n",
       "      <th id=\"T_949e6_level0_row0\" class=\"row_heading level0 row0\" >0</th>\n",
       "      <td id=\"T_949e6_row0_col0\" class=\"data row0 col0\" >0.6952</td>\n",
       "      <td id=\"T_949e6_row0_col1\" class=\"data row0 col1\" >0.8873</td>\n",
       "      <td id=\"T_949e6_row0_col2\" class=\"data row0 col2\" >0.7149</td>\n",
       "      <td id=\"T_949e6_row0_col3\" class=\"data row0 col3\" >0.6268</td>\n",
       "      <td id=\"T_949e6_row0_col4\" class=\"data row0 col4\" >0.6527</td>\n",
       "      <td id=\"T_949e6_row0_col5\" class=\"data row0 col5\" >0.5685</td>\n",
       "      <td id=\"T_949e6_row0_col6\" class=\"data row0 col6\" >0.5785</td>\n",
       "      <td id=\"T_949e6_row0_col7\" class=\"data row0 col7\" >0.7414</td>\n",
       "    </tr>\n",
       "    <tr>\n",
       "      <th id=\"T_949e6_level0_row1\" class=\"row_heading level0 row1\" >1</th>\n",
       "      <td id=\"T_949e6_row1_col0\" class=\"data row1 col0\" >0.6846</td>\n",
       "      <td id=\"T_949e6_row1_col1\" class=\"data row1 col1\" >0.8723</td>\n",
       "      <td id=\"T_949e6_row1_col2\" class=\"data row1 col2\" >0.6842</td>\n",
       "      <td id=\"T_949e6_row1_col3\" class=\"data row1 col3\" >0.6441</td>\n",
       "      <td id=\"T_949e6_row1_col4\" class=\"data row1 col4\" >0.6468</td>\n",
       "      <td id=\"T_949e6_row1_col5\" class=\"data row1 col5\" >0.5471</td>\n",
       "      <td id=\"T_949e6_row1_col6\" class=\"data row1 col6\" >0.5616</td>\n",
       "      <td id=\"T_949e6_row1_col7\" class=\"data row1 col7\" >0.7307</td>\n",
       "    </tr>\n",
       "    <tr>\n",
       "      <th id=\"T_949e6_level0_row2\" class=\"row_heading level0 row2\" >2</th>\n",
       "      <td id=\"T_949e6_row2_col0\" class=\"data row2 col0\" >0.6966</td>\n",
       "      <td id=\"T_949e6_row2_col1\" class=\"data row2 col1\" >0.8833</td>\n",
       "      <td id=\"T_949e6_row2_col2\" class=\"data row2 col2\" >0.7320</td>\n",
       "      <td id=\"T_949e6_row2_col3\" class=\"data row2 col3\" >0.6732</td>\n",
       "      <td id=\"T_949e6_row2_col4\" class=\"data row2 col4\" >0.6751</td>\n",
       "      <td id=\"T_949e6_row2_col5\" class=\"data row2 col5\" >0.5742</td>\n",
       "      <td id=\"T_949e6_row2_col6\" class=\"data row2 col6\" >0.5794</td>\n",
       "      <td id=\"T_949e6_row2_col7\" class=\"data row2 col7\" >0.6787</td>\n",
       "    </tr>\n",
       "    <tr>\n",
       "      <th id=\"T_949e6_level0_row3\" class=\"row_heading level0 row3\" >Mean</th>\n",
       "      <td id=\"T_949e6_row3_col0\" class=\"data row3 col0\" >0.6922</td>\n",
       "      <td id=\"T_949e6_row3_col1\" class=\"data row3 col1\" >0.8810</td>\n",
       "      <td id=\"T_949e6_row3_col2\" class=\"data row3 col2\" >0.7103</td>\n",
       "      <td id=\"T_949e6_row3_col3\" class=\"data row3 col3\" >0.6480</td>\n",
       "      <td id=\"T_949e6_row3_col4\" class=\"data row3 col4\" >0.6582</td>\n",
       "      <td id=\"T_949e6_row3_col5\" class=\"data row3 col5\" >0.5633</td>\n",
       "      <td id=\"T_949e6_row3_col6\" class=\"data row3 col6\" >0.5732</td>\n",
       "      <td id=\"T_949e6_row3_col7\" class=\"data row3 col7\" >0.7169</td>\n",
       "    </tr>\n",
       "    <tr>\n",
       "      <th id=\"T_949e6_level0_row4\" class=\"row_heading level0 row4\" >SD</th>\n",
       "      <td id=\"T_949e6_row4_col0\" class=\"data row4 col0\" >0.0053</td>\n",
       "      <td id=\"T_949e6_row4_col1\" class=\"data row4 col1\" >0.0063</td>\n",
       "      <td id=\"T_949e6_row4_col2\" class=\"data row4 col2\" >0.0198</td>\n",
       "      <td id=\"T_949e6_row4_col3\" class=\"data row4 col3\" >0.0192</td>\n",
       "      <td id=\"T_949e6_row4_col4\" class=\"data row4 col4\" >0.0122</td>\n",
       "      <td id=\"T_949e6_row4_col5\" class=\"data row4 col5\" >0.0117</td>\n",
       "      <td id=\"T_949e6_row4_col6\" class=\"data row4 col6\" >0.0082</td>\n",
       "      <td id=\"T_949e6_row4_col7\" class=\"data row4 col7\" >0.0274</td>\n",
       "    </tr>\n",
       "  </tbody>\n",
       "</table>\n"
      ],
      "text/plain": [
       "<pandas.io.formats.style.Styler at 0x22140667550>"
      ]
     },
     "metadata": {},
     "output_type": "display_data"
    },
    {
     "data": {
      "text/html": [
       "<style type=\"text/css\">\n",
       "</style>\n",
       "<table id=\"T_06396_\">\n",
       "  <thead>\n",
       "    <tr>\n",
       "      <th class=\"blank level0\" >&nbsp;</th>\n",
       "      <th class=\"col_heading level0 col0\" >Model</th>\n",
       "      <th class=\"col_heading level0 col1\" >Accuracy</th>\n",
       "      <th class=\"col_heading level0 col2\" >AUC</th>\n",
       "      <th class=\"col_heading level0 col3\" >Recall</th>\n",
       "      <th class=\"col_heading level0 col4\" >Prec.</th>\n",
       "      <th class=\"col_heading level0 col5\" >F1</th>\n",
       "      <th class=\"col_heading level0 col6\" >Kappa</th>\n",
       "      <th class=\"col_heading level0 col7\" >MCC</th>\n",
       "      <th class=\"col_heading level0 col8\" >LogLoss</th>\n",
       "    </tr>\n",
       "  </thead>\n",
       "  <tbody>\n",
       "    <tr>\n",
       "      <th id=\"T_06396_level0_row0\" class=\"row_heading level0 row0\" >0</th>\n",
       "      <td id=\"T_06396_row0_col0\" class=\"data row0 col0\" >Stacking Classifier</td>\n",
       "      <td id=\"T_06396_row0_col1\" class=\"data row0 col1\" >0.7056</td>\n",
       "      <td id=\"T_06396_row0_col2\" class=\"data row0 col2\" >0.8947</td>\n",
       "      <td id=\"T_06396_row0_col3\" class=\"data row0 col3\" >0.7055</td>\n",
       "      <td id=\"T_06396_row0_col4\" class=\"data row0 col4\" >0.6635</td>\n",
       "      <td id=\"T_06396_row0_col5\" class=\"data row0 col5\" >0.6756</td>\n",
       "      <td id=\"T_06396_row0_col6\" class=\"data row0 col6\" >0.5863</td>\n",
       "      <td id=\"T_06396_row0_col7\" class=\"data row0 col7\" >0.5927</td>\n",
       "      <td id=\"T_06396_row0_col8\" class=\"data row0 col8\" >0.6690</td>\n",
       "    </tr>\n",
       "  </tbody>\n",
       "</table>\n"
      ],
      "text/plain": [
       "<pandas.io.formats.style.Styler at 0x22152f2aeb0>"
      ]
     },
     "metadata": {},
     "output_type": "display_data"
    }
   ],
   "source": [
    "# # 스태킹 앙상블\n",
    "stacker = stack_models(estimator_list=best2, fold=3, meta_model=et)\n",
    "pred_holdout = predict_model(stacker)"
   ]
  },
  {
   "cell_type": "markdown",
   "id": "52b6bc5b-18d0-4169-92a2-3826426b47bf",
   "metadata": {},
   "source": [
    "---\n",
    "### 원하는 모델(rf, et)만 가져와서 최적화시키기"
   ]
  },
  {
   "cell_type": "code",
   "execution_count": 34,
   "id": "a6c31a28-55b1-4931-80eb-7ac34724f8d6",
   "metadata": {},
   "outputs": [
    {
     "data": {
      "text/html": [
       "<style type=\"text/css\">\n",
       "#T_8d31a_ th {\n",
       "  text-align: left;\n",
       "}\n",
       "#T_8d31a_row0_col0, #T_8d31a_row0_col2, #T_8d31a_row0_col3, #T_8d31a_row0_col4, #T_8d31a_row0_col7, #T_8d31a_row0_col8, #T_8d31a_row1_col0, #T_8d31a_row1_col5, #T_8d31a_row1_col6 {\n",
       "  text-align: left;\n",
       "}\n",
       "#T_8d31a_row0_col1, #T_8d31a_row0_col5, #T_8d31a_row0_col6, #T_8d31a_row1_col1, #T_8d31a_row1_col2, #T_8d31a_row1_col3, #T_8d31a_row1_col4, #T_8d31a_row1_col7, #T_8d31a_row1_col8 {\n",
       "  text-align: left;\n",
       "  background-color: yellow;\n",
       "}\n",
       "#T_8d31a_row0_col9 {\n",
       "  text-align: left;\n",
       "  background-color: lightgrey;\n",
       "}\n",
       "#T_8d31a_row1_col9 {\n",
       "  text-align: left;\n",
       "  background-color: yellow;\n",
       "  background-color: lightgrey;\n",
       "}\n",
       "</style>\n",
       "<table id=\"T_8d31a_\">\n",
       "  <thead>\n",
       "    <tr>\n",
       "      <th class=\"blank level0\" >&nbsp;</th>\n",
       "      <th class=\"col_heading level0 col0\" >Model</th>\n",
       "      <th class=\"col_heading level0 col1\" >Accuracy</th>\n",
       "      <th class=\"col_heading level0 col2\" >AUC</th>\n",
       "      <th class=\"col_heading level0 col3\" >Recall</th>\n",
       "      <th class=\"col_heading level0 col4\" >Prec.</th>\n",
       "      <th class=\"col_heading level0 col5\" >F1</th>\n",
       "      <th class=\"col_heading level0 col6\" >Kappa</th>\n",
       "      <th class=\"col_heading level0 col7\" >MCC</th>\n",
       "      <th class=\"col_heading level0 col8\" >LogLoss</th>\n",
       "      <th class=\"col_heading level0 col9\" >TT (Sec)</th>\n",
       "    </tr>\n",
       "  </thead>\n",
       "  <tbody>\n",
       "    <tr>\n",
       "      <th id=\"T_8d31a_level0_row0\" class=\"row_heading level0 row0\" >rf</th>\n",
       "      <td id=\"T_8d31a_row0_col0\" class=\"data row0 col0\" >Random Forest Classifier</td>\n",
       "      <td id=\"T_8d31a_row0_col1\" class=\"data row0 col1\" >0.6908</td>\n",
       "      <td id=\"T_8d31a_row0_col2\" class=\"data row0 col2\" >0.8803</td>\n",
       "      <td id=\"T_8d31a_row0_col3\" class=\"data row0 col3\" >0.7113</td>\n",
       "      <td id=\"T_8d31a_row0_col4\" class=\"data row0 col4\" >0.6503</td>\n",
       "      <td id=\"T_8d31a_row0_col5\" class=\"data row0 col5\" >0.6531</td>\n",
       "      <td id=\"T_8d31a_row0_col6\" class=\"data row0 col6\" >0.5593</td>\n",
       "      <td id=\"T_8d31a_row0_col7\" class=\"data row0 col7\" >0.5716</td>\n",
       "      <td id=\"T_8d31a_row0_col8\" class=\"data row0 col8\" >0.7543</td>\n",
       "      <td id=\"T_8d31a_row0_col9\" class=\"data row0 col9\" >0.1020</td>\n",
       "    </tr>\n",
       "    <tr>\n",
       "      <th id=\"T_8d31a_level0_row1\" class=\"row_heading level0 row1\" >et</th>\n",
       "      <td id=\"T_8d31a_row1_col0\" class=\"data row1 col0\" >Extra Trees Classifier</td>\n",
       "      <td id=\"T_8d31a_row1_col1\" class=\"data row1 col1\" >0.6908</td>\n",
       "      <td id=\"T_8d31a_row1_col2\" class=\"data row1 col2\" >0.8843</td>\n",
       "      <td id=\"T_8d31a_row1_col3\" class=\"data row1 col3\" >0.7122</td>\n",
       "      <td id=\"T_8d31a_row1_col4\" class=\"data row1 col4\" >0.6588</td>\n",
       "      <td id=\"T_8d31a_row1_col5\" class=\"data row1 col5\" >0.6528</td>\n",
       "      <td id=\"T_8d31a_row1_col6\" class=\"data row1 col6\" >0.5580</td>\n",
       "      <td id=\"T_8d31a_row1_col7\" class=\"data row1 col7\" >0.5733</td>\n",
       "      <td id=\"T_8d31a_row1_col8\" class=\"data row1 col8\" >0.7353</td>\n",
       "      <td id=\"T_8d31a_row1_col9\" class=\"data row1 col9\" >0.0920</td>\n",
       "    </tr>\n",
       "  </tbody>\n",
       "</table>\n"
      ],
      "text/plain": [
       "<pandas.io.formats.style.Styler at 0x2213fd1b8e0>"
      ]
     },
     "metadata": {},
     "output_type": "display_data"
    }
   ],
   "source": [
    "custom_model = compare_models(fold = 5, sort = 'Accuracy', n_select = 2, include=['rf','et'])\n",
    "# pred_customed_holdout = predict_model(custom_model)"
   ]
  },
  {
   "cell_type": "code",
   "execution_count": 35,
   "id": "19a2e387-f80f-4653-bb87-c76de0dd43fa",
   "metadata": {},
   "outputs": [
    {
     "data": {
      "text/html": [
       "<style type=\"text/css\">\n",
       "#T_9a226_row5_col0, #T_9a226_row5_col1, #T_9a226_row5_col2, #T_9a226_row5_col3, #T_9a226_row5_col4, #T_9a226_row5_col5, #T_9a226_row5_col6, #T_9a226_row5_col7 {\n",
       "  background: yellow;\n",
       "}\n",
       "</style>\n",
       "<table id=\"T_9a226_\">\n",
       "  <thead>\n",
       "    <tr>\n",
       "      <th class=\"blank level0\" >&nbsp;</th>\n",
       "      <th class=\"col_heading level0 col0\" >Accuracy</th>\n",
       "      <th class=\"col_heading level0 col1\" >AUC</th>\n",
       "      <th class=\"col_heading level0 col2\" >Recall</th>\n",
       "      <th class=\"col_heading level0 col3\" >Prec.</th>\n",
       "      <th class=\"col_heading level0 col4\" >F1</th>\n",
       "      <th class=\"col_heading level0 col5\" >Kappa</th>\n",
       "      <th class=\"col_heading level0 col6\" >MCC</th>\n",
       "      <th class=\"col_heading level0 col7\" >LogLoss</th>\n",
       "    </tr>\n",
       "  </thead>\n",
       "  <tbody>\n",
       "    <tr>\n",
       "      <th id=\"T_9a226_level0_row0\" class=\"row_heading level0 row0\" >0</th>\n",
       "      <td id=\"T_9a226_row0_col0\" class=\"data row0 col0\" >0.7110</td>\n",
       "      <td id=\"T_9a226_row0_col1\" class=\"data row0 col1\" >0.9058</td>\n",
       "      <td id=\"T_9a226_row0_col2\" class=\"data row0 col2\" >0.7451</td>\n",
       "      <td id=\"T_9a226_row0_col3\" class=\"data row0 col3\" >0.6542</td>\n",
       "      <td id=\"T_9a226_row0_col4\" class=\"data row0 col4\" >0.6645</td>\n",
       "      <td id=\"T_9a226_row0_col5\" class=\"data row0 col5\" >0.5852</td>\n",
       "      <td id=\"T_9a226_row0_col6\" class=\"data row0 col6\" >0.6017</td>\n",
       "      <td id=\"T_9a226_row0_col7\" class=\"data row0 col7\" >0.6885</td>\n",
       "    </tr>\n",
       "    <tr>\n",
       "      <th id=\"T_9a226_level0_row1\" class=\"row_heading level0 row1\" >1</th>\n",
       "      <td id=\"T_9a226_row1_col0\" class=\"data row1 col0\" >0.6744</td>\n",
       "      <td id=\"T_9a226_row1_col1\" class=\"data row1 col1\" >0.8720</td>\n",
       "      <td id=\"T_9a226_row1_col2\" class=\"data row1 col2\" >0.6910</td>\n",
       "      <td id=\"T_9a226_row1_col3\" class=\"data row1 col3\" >0.6364</td>\n",
       "      <td id=\"T_9a226_row1_col4\" class=\"data row1 col4\" >0.6374</td>\n",
       "      <td id=\"T_9a226_row1_col5\" class=\"data row1 col5\" >0.5332</td>\n",
       "      <td id=\"T_9a226_row1_col6\" class=\"data row1 col6\" >0.5476</td>\n",
       "      <td id=\"T_9a226_row1_col7\" class=\"data row1 col7\" >0.7600</td>\n",
       "    </tr>\n",
       "    <tr>\n",
       "      <th id=\"T_9a226_level0_row2\" class=\"row_heading level0 row2\" >2</th>\n",
       "      <td id=\"T_9a226_row2_col0\" class=\"data row2 col0\" >0.6811</td>\n",
       "      <td id=\"T_9a226_row2_col1\" class=\"data row2 col1\" >0.8876</td>\n",
       "      <td id=\"T_9a226_row2_col2\" class=\"data row2 col2\" >0.6865</td>\n",
       "      <td id=\"T_9a226_row2_col3\" class=\"data row2 col3\" >0.6503</td>\n",
       "      <td id=\"T_9a226_row2_col4\" class=\"data row2 col4\" >0.6379</td>\n",
       "      <td id=\"T_9a226_row2_col5\" class=\"data row2 col5\" >0.5448</td>\n",
       "      <td id=\"T_9a226_row2_col6\" class=\"data row2 col6\" >0.5607</td>\n",
       "      <td id=\"T_9a226_row2_col7\" class=\"data row2 col7\" >0.7265</td>\n",
       "    </tr>\n",
       "    <tr>\n",
       "      <th id=\"T_9a226_level0_row3\" class=\"row_heading level0 row3\" >3</th>\n",
       "      <td id=\"T_9a226_row3_col0\" class=\"data row3 col0\" >0.7110</td>\n",
       "      <td id=\"T_9a226_row3_col1\" class=\"data row3 col1\" >0.8814</td>\n",
       "      <td id=\"T_9a226_row3_col2\" class=\"data row3 col2\" >0.7267</td>\n",
       "      <td id=\"T_9a226_row3_col3\" class=\"data row3 col3\" >0.6661</td>\n",
       "      <td id=\"T_9a226_row3_col4\" class=\"data row3 col4\" >0.6716</td>\n",
       "      <td id=\"T_9a226_row3_col5\" class=\"data row3 col5\" >0.5880</td>\n",
       "      <td id=\"T_9a226_row3_col6\" class=\"data row3 col6\" >0.6015</td>\n",
       "      <td id=\"T_9a226_row3_col7\" class=\"data row3 col7\" >0.7451</td>\n",
       "    </tr>\n",
       "    <tr>\n",
       "      <th id=\"T_9a226_level0_row4\" class=\"row_heading level0 row4\" >4</th>\n",
       "      <td id=\"T_9a226_row4_col0\" class=\"data row4 col0\" >0.7067</td>\n",
       "      <td id=\"T_9a226_row4_col1\" class=\"data row4 col1\" >0.8819</td>\n",
       "      <td id=\"T_9a226_row4_col2\" class=\"data row4 col2\" >0.7331</td>\n",
       "      <td id=\"T_9a226_row4_col3\" class=\"data row4 col3\" >0.6580</td>\n",
       "      <td id=\"T_9a226_row4_col4\" class=\"data row4 col4\" >0.6698</td>\n",
       "      <td id=\"T_9a226_row4_col5\" class=\"data row4 col5\" >0.5826</td>\n",
       "      <td id=\"T_9a226_row4_col6\" class=\"data row4 col6\" >0.5935</td>\n",
       "      <td id=\"T_9a226_row4_col7\" class=\"data row4 col7\" >0.7233</td>\n",
       "    </tr>\n",
       "    <tr>\n",
       "      <th id=\"T_9a226_level0_row5\" class=\"row_heading level0 row5\" >Mean</th>\n",
       "      <td id=\"T_9a226_row5_col0\" class=\"data row5 col0\" >0.6968</td>\n",
       "      <td id=\"T_9a226_row5_col1\" class=\"data row5 col1\" >0.8857</td>\n",
       "      <td id=\"T_9a226_row5_col2\" class=\"data row5 col2\" >0.7165</td>\n",
       "      <td id=\"T_9a226_row5_col3\" class=\"data row5 col3\" >0.6530</td>\n",
       "      <td id=\"T_9a226_row5_col4\" class=\"data row5 col4\" >0.6562</td>\n",
       "      <td id=\"T_9a226_row5_col5\" class=\"data row5 col5\" >0.5668</td>\n",
       "      <td id=\"T_9a226_row5_col6\" class=\"data row5 col6\" >0.5810</td>\n",
       "      <td id=\"T_9a226_row5_col7\" class=\"data row5 col7\" >0.7287</td>\n",
       "    </tr>\n",
       "    <tr>\n",
       "      <th id=\"T_9a226_level0_row6\" class=\"row_heading level0 row6\" >SD</th>\n",
       "      <td id=\"T_9a226_row6_col0\" class=\"data row6 col0\" >0.0158</td>\n",
       "      <td id=\"T_9a226_row6_col1\" class=\"data row6 col1\" >0.0112</td>\n",
       "      <td id=\"T_9a226_row6_col2\" class=\"data row6 col2\" >0.0234</td>\n",
       "      <td id=\"T_9a226_row6_col3\" class=\"data row6 col3\" >0.0098</td>\n",
       "      <td id=\"T_9a226_row6_col4\" class=\"data row6 col4\" >0.0154</td>\n",
       "      <td id=\"T_9a226_row6_col5\" class=\"data row6 col5\" >0.0230</td>\n",
       "      <td id=\"T_9a226_row6_col6\" class=\"data row6 col6\" >0.0225</td>\n",
       "      <td id=\"T_9a226_row6_col7\" class=\"data row6 col7\" >0.0241</td>\n",
       "    </tr>\n",
       "  </tbody>\n",
       "</table>\n"
      ],
      "text/plain": [
       "<pandas.io.formats.style.Styler at 0x22152f2ac40>"
      ]
     },
     "metadata": {},
     "output_type": "display_data"
    },
    {
     "data": {
      "text/html": [
       "<style type=\"text/css\">\n",
       "</style>\n",
       "<table id=\"T_ba8fa_\">\n",
       "  <thead>\n",
       "    <tr>\n",
       "      <th class=\"blank level0\" >&nbsp;</th>\n",
       "      <th class=\"col_heading level0 col0\" >Model</th>\n",
       "      <th class=\"col_heading level0 col1\" >Accuracy</th>\n",
       "      <th class=\"col_heading level0 col2\" >AUC</th>\n",
       "      <th class=\"col_heading level0 col3\" >Recall</th>\n",
       "      <th class=\"col_heading level0 col4\" >Prec.</th>\n",
       "      <th class=\"col_heading level0 col5\" >F1</th>\n",
       "      <th class=\"col_heading level0 col6\" >Kappa</th>\n",
       "      <th class=\"col_heading level0 col7\" >MCC</th>\n",
       "      <th class=\"col_heading level0 col8\" >LogLoss</th>\n",
       "    </tr>\n",
       "  </thead>\n",
       "  <tbody>\n",
       "    <tr>\n",
       "      <th id=\"T_ba8fa_level0_row0\" class=\"row_heading level0 row0\" >0</th>\n",
       "      <td id=\"T_ba8fa_row0_col0\" class=\"data row0 col0\" >Voting Classifier</td>\n",
       "      <td id=\"T_ba8fa_row0_col1\" class=\"data row0 col1\" >0.7294</td>\n",
       "      <td id=\"T_ba8fa_row0_col2\" class=\"data row0 col2\" >0.9036</td>\n",
       "      <td id=\"T_ba8fa_row0_col3\" class=\"data row0 col3\" >0.7246</td>\n",
       "      <td id=\"T_ba8fa_row0_col4\" class=\"data row0 col4\" >0.7038</td>\n",
       "      <td id=\"T_ba8fa_row0_col5\" class=\"data row0 col5\" >0.6853</td>\n",
       "      <td id=\"T_ba8fa_row0_col6\" class=\"data row0 col6\" >0.6130</td>\n",
       "      <td id=\"T_ba8fa_row0_col7\" class=\"data row0 col7\" >0.6294</td>\n",
       "      <td id=\"T_ba8fa_row0_col8\" class=\"data row0 col8\" >0.6959</td>\n",
       "    </tr>\n",
       "  </tbody>\n",
       "</table>\n"
      ],
      "text/plain": [
       "<pandas.io.formats.style.Styler at 0x221401541c0>"
      ]
     },
     "metadata": {},
     "output_type": "display_data"
    }
   ],
   "source": [
    "# 블렌딩 방식\n",
    "blended_custom = blend_models(estimator_list = custom_model, fold = 5, optimize = 'logloss')\n",
    "pred_holdout_custom = predict_model(blended_custom)\n",
    "# estimator_list = model list"
   ]
  },
  {
   "cell_type": "code",
   "execution_count": 36,
   "id": "cf4233a5-485c-494b-94e4-2975eaa94d79",
   "metadata": {},
   "outputs": [
    {
     "data": {
      "image/png": "[encoded data removed]",
      "text/plain": [
       "<Figure size 576x396 with 1 Axes>"
      ]
     },
     "metadata": {},
     "output_type": "display_data"
    }
   ],
   "source": [
    "plot_model(blended_custom, plot='confusion_matrix')"
   ]
  },
  {
   "cell_type": "code",
   "execution_count": 37,
   "id": "f2d2d912-5436-4292-9c2c-7e5ef5466f36",
   "metadata": {
    "tags": []
   },
   "outputs": [
    {
     "data": {
      "text/plain": [
       "{'estimators': [('rf',\n",
       "   RandomForestClassifier(bootstrap=True, ccp_alpha=0.0, class_weight=None,\n",
       "                          criterion='gini', max_depth=None, max_features='auto',\n",
       "                          max_leaf_nodes=None, max_samples=None,\n",
       "                          min_impurity_decrease=0.0, min_impurity_split=None,\n",
       "                          min_samples_leaf=1, min_samples_split=2,\n",
       "                          min_weight_fraction_leaf=0.0, n_estimators=100,\n",
       "                          n_jobs=-1, oob_score=False, random_state=42, verbose=0,\n",
       "                          warm_start=False)),\n",
       "  ('et',\n",
       "   ExtraTreesClassifier(bootstrap=False, ccp_alpha=0.0, class_weight=None,\n",
       "                        criterion='gini', max_depth=None, max_features='auto',\n",
       "                        max_leaf_nodes=None, max_samples=None,\n",
       "                        min_impurity_decrease=0.0, min_impurity_split=None,\n",
       "                        min_samples_leaf=1, min_samples_split=2,\n",
       "                        min_weight_fraction_leaf=0.0, n_estimators=100, n_jobs=-1,\n",
       "                        oob_score=False, random_state=42, verbose=0,\n",
       "                        warm_start=False))],\n",
       " 'flatten_transform': True,\n",
       " 'n_jobs': -1,\n",
       " 'verbose': False,\n",
       " 'voting': 'soft',\n",
       " 'weights': [1, 1],\n",
       " 'rf': RandomForestClassifier(bootstrap=True, ccp_alpha=0.0, class_weight=None,\n",
       "                        criterion='gini', max_depth=None, max_features='auto',\n",
       "                        max_leaf_nodes=None, max_samples=None,\n",
       "                        min_impurity_decrease=0.0, min_impurity_split=None,\n",
       "                        min_samples_leaf=1, min_samples_split=2,\n",
       "                        min_weight_fraction_leaf=0.0, n_estimators=100,\n",
       "                        n_jobs=-1, oob_score=False, random_state=42, verbose=0,\n",
       "                        warm_start=False),\n",
       " 'et': ExtraTreesClassifier(bootstrap=False, ccp_alpha=0.0, class_weight=None,\n",
       "                      criterion='gini', max_depth=None, max_features='auto',\n",
       "                      max_leaf_nodes=None, max_samples=None,\n",
       "                      min_impurity_decrease=0.0, min_impurity_split=None,\n",
       "                      min_samples_leaf=1, min_samples_split=2,\n",
       "                      min_weight_fraction_leaf=0.0, n_estimators=100, n_jobs=-1,\n",
       "                      oob_score=False, random_state=42, verbose=0,\n",
       "                      warm_start=False),\n",
       " 'rf__bootstrap': True,\n",
       " 'rf__ccp_alpha': 0.0,\n",
       " 'rf__class_weight': None,\n",
       " 'rf__criterion': 'gini',\n",
       " 'rf__max_depth': None,\n",
       " 'rf__max_features': 'auto',\n",
       " 'rf__max_leaf_nodes': None,\n",
       " 'rf__max_samples': None,\n",
       " 'rf__min_impurity_decrease': 0.0,\n",
       " 'rf__min_impurity_split': None,\n",
       " 'rf__min_samples_leaf': 1,\n",
       " 'rf__min_samples_split': 2,\n",
       " 'rf__min_weight_fraction_leaf': 0.0,\n",
       " 'rf__n_estimators': 100,\n",
       " 'rf__n_jobs': -1,\n",
       " 'rf__oob_score': False,\n",
       " 'rf__random_state': 42,\n",
       " 'rf__verbose': 0,\n",
       " 'rf__warm_start': False,\n",
       " 'et__bootstrap': False,\n",
       " 'et__ccp_alpha': 0.0,\n",
       " 'et__class_weight': None,\n",
       " 'et__criterion': 'gini',\n",
       " 'et__max_depth': None,\n",
       " 'et__max_features': 'auto',\n",
       " 'et__max_leaf_nodes': None,\n",
       " 'et__max_samples': None,\n",
       " 'et__min_impurity_decrease': 0.0,\n",
       " 'et__min_impurity_split': None,\n",
       " 'et__min_samples_leaf': 1,\n",
       " 'et__min_samples_split': 2,\n",
       " 'et__min_weight_fraction_leaf': 0.0,\n",
       " 'et__n_estimators': 100,\n",
       " 'et__n_jobs': -1,\n",
       " 'et__oob_score': False,\n",
       " 'et__random_state': 42,\n",
       " 'et__verbose': 0,\n",
       " 'et__warm_start': False,\n",
       " 'weight_0': 1,\n",
       " 'weight_1': 1}"
      ]
     },
     "execution_count": 37,
     "metadata": {},
     "output_type": "execute_result"
    }
   ],
   "source": [
    "blended_custom.get_params() # rf, et, lightgbm"
   ]
  },
  {
   "cell_type": "code",
   "execution_count": 38,
   "id": "5e3f7f89-11fb-4608-9ca8-e3b06ff304e2",
   "metadata": {
    "tags": []
   },
   "outputs": [
    {
     "data": {
      "application/vnd.jupyter.widget-view+json": {
       "model_id": "716d2908f5074647b50611f4c300712f",
       "version_major": 2,
       "version_minor": 0
      },
      "text/plain": [
       "interactive(children=(ToggleButtons(description='Plot Type:', icons=('',), options=(('Hyperparameters', 'param…"
      ]
     },
     "metadata": {},
     "output_type": "display_data"
    }
   ],
   "source": [
    "evaluate_model(blended_custom) # rf, et # 아직도 고2에 대해서 잘 못찾음."
   ]
  },
  {
   "cell_type": "code",
   "execution_count": 39,
   "id": "1d64f038-4b36-4e08-bf53-b07462aba0b4",
   "metadata": {
    "tags": []
   },
   "outputs": [
    {
     "data": {
      "text/html": [
       "<style type=\"text/css\">\n",
       "#T_e1bb5_row3_col0, #T_e1bb5_row3_col1, #T_e1bb5_row3_col2, #T_e1bb5_row3_col3, #T_e1bb5_row3_col4, #T_e1bb5_row3_col5, #T_e1bb5_row3_col6, #T_e1bb5_row3_col7 {\n",
       "  background: yellow;\n",
       "}\n",
       "</style>\n",
       "<table id=\"T_e1bb5_\">\n",
       "  <thead>\n",
       "    <tr>\n",
       "      <th class=\"blank level0\" >&nbsp;</th>\n",
       "      <th class=\"col_heading level0 col0\" >Accuracy</th>\n",
       "      <th class=\"col_heading level0 col1\" >AUC</th>\n",
       "      <th class=\"col_heading level0 col2\" >Recall</th>\n",
       "      <th class=\"col_heading level0 col3\" >Prec.</th>\n",
       "      <th class=\"col_heading level0 col4\" >F1</th>\n",
       "      <th class=\"col_heading level0 col5\" >Kappa</th>\n",
       "      <th class=\"col_heading level0 col6\" >MCC</th>\n",
       "      <th class=\"col_heading level0 col7\" >LogLoss</th>\n",
       "    </tr>\n",
       "  </thead>\n",
       "  <tbody>\n",
       "    <tr>\n",
       "      <th id=\"T_e1bb5_level0_row0\" class=\"row_heading level0 row0\" >0</th>\n",
       "      <td id=\"T_e1bb5_row0_col0\" class=\"data row0 col0\" >0.6952</td>\n",
       "      <td id=\"T_e1bb5_row0_col1\" class=\"data row0 col1\" >0.8873</td>\n",
       "      <td id=\"T_e1bb5_row0_col2\" class=\"data row0 col2\" >0.7149</td>\n",
       "      <td id=\"T_e1bb5_row0_col3\" class=\"data row0 col3\" >0.6268</td>\n",
       "      <td id=\"T_e1bb5_row0_col4\" class=\"data row0 col4\" >0.6527</td>\n",
       "      <td id=\"T_e1bb5_row0_col5\" class=\"data row0 col5\" >0.5685</td>\n",
       "      <td id=\"T_e1bb5_row0_col6\" class=\"data row0 col6\" >0.5785</td>\n",
       "      <td id=\"T_e1bb5_row0_col7\" class=\"data row0 col7\" >0.7414</td>\n",
       "    </tr>\n",
       "    <tr>\n",
       "      <th id=\"T_e1bb5_level0_row1\" class=\"row_heading level0 row1\" >1</th>\n",
       "      <td id=\"T_e1bb5_row1_col0\" class=\"data row1 col0\" >0.6846</td>\n",
       "      <td id=\"T_e1bb5_row1_col1\" class=\"data row1 col1\" >0.8723</td>\n",
       "      <td id=\"T_e1bb5_row1_col2\" class=\"data row1 col2\" >0.6842</td>\n",
       "      <td id=\"T_e1bb5_row1_col3\" class=\"data row1 col3\" >0.6441</td>\n",
       "      <td id=\"T_e1bb5_row1_col4\" class=\"data row1 col4\" >0.6468</td>\n",
       "      <td id=\"T_e1bb5_row1_col5\" class=\"data row1 col5\" >0.5471</td>\n",
       "      <td id=\"T_e1bb5_row1_col6\" class=\"data row1 col6\" >0.5616</td>\n",
       "      <td id=\"T_e1bb5_row1_col7\" class=\"data row1 col7\" >0.7307</td>\n",
       "    </tr>\n",
       "    <tr>\n",
       "      <th id=\"T_e1bb5_level0_row2\" class=\"row_heading level0 row2\" >2</th>\n",
       "      <td id=\"T_e1bb5_row2_col0\" class=\"data row2 col0\" >0.6966</td>\n",
       "      <td id=\"T_e1bb5_row2_col1\" class=\"data row2 col1\" >0.8833</td>\n",
       "      <td id=\"T_e1bb5_row2_col2\" class=\"data row2 col2\" >0.7320</td>\n",
       "      <td id=\"T_e1bb5_row2_col3\" class=\"data row2 col3\" >0.6732</td>\n",
       "      <td id=\"T_e1bb5_row2_col4\" class=\"data row2 col4\" >0.6751</td>\n",
       "      <td id=\"T_e1bb5_row2_col5\" class=\"data row2 col5\" >0.5742</td>\n",
       "      <td id=\"T_e1bb5_row2_col6\" class=\"data row2 col6\" >0.5794</td>\n",
       "      <td id=\"T_e1bb5_row2_col7\" class=\"data row2 col7\" >0.6787</td>\n",
       "    </tr>\n",
       "    <tr>\n",
       "      <th id=\"T_e1bb5_level0_row3\" class=\"row_heading level0 row3\" >Mean</th>\n",
       "      <td id=\"T_e1bb5_row3_col0\" class=\"data row3 col0\" >0.6922</td>\n",
       "      <td id=\"T_e1bb5_row3_col1\" class=\"data row3 col1\" >0.8810</td>\n",
       "      <td id=\"T_e1bb5_row3_col2\" class=\"data row3 col2\" >0.7103</td>\n",
       "      <td id=\"T_e1bb5_row3_col3\" class=\"data row3 col3\" >0.6480</td>\n",
       "      <td id=\"T_e1bb5_row3_col4\" class=\"data row3 col4\" >0.6582</td>\n",
       "      <td id=\"T_e1bb5_row3_col5\" class=\"data row3 col5\" >0.5633</td>\n",
       "      <td id=\"T_e1bb5_row3_col6\" class=\"data row3 col6\" >0.5732</td>\n",
       "      <td id=\"T_e1bb5_row3_col7\" class=\"data row3 col7\" >0.7169</td>\n",
       "    </tr>\n",
       "    <tr>\n",
       "      <th id=\"T_e1bb5_level0_row4\" class=\"row_heading level0 row4\" >SD</th>\n",
       "      <td id=\"T_e1bb5_row4_col0\" class=\"data row4 col0\" >0.0053</td>\n",
       "      <td id=\"T_e1bb5_row4_col1\" class=\"data row4 col1\" >0.0063</td>\n",
       "      <td id=\"T_e1bb5_row4_col2\" class=\"data row4 col2\" >0.0198</td>\n",
       "      <td id=\"T_e1bb5_row4_col3\" class=\"data row4 col3\" >0.0192</td>\n",
       "      <td id=\"T_e1bb5_row4_col4\" class=\"data row4 col4\" >0.0122</td>\n",
       "      <td id=\"T_e1bb5_row4_col5\" class=\"data row4 col5\" >0.0117</td>\n",
       "      <td id=\"T_e1bb5_row4_col6\" class=\"data row4 col6\" >0.0082</td>\n",
       "      <td id=\"T_e1bb5_row4_col7\" class=\"data row4 col7\" >0.0274</td>\n",
       "    </tr>\n",
       "  </tbody>\n",
       "</table>\n"
      ],
      "text/plain": [
       "<pandas.io.formats.style.Styler at 0x2213fc79940>"
      ]
     },
     "metadata": {},
     "output_type": "display_data"
    },
    {
     "data": {
      "text/html": [
       "<style type=\"text/css\">\n",
       "</style>\n",
       "<table id=\"T_39274_\">\n",
       "  <thead>\n",
       "    <tr>\n",
       "      <th class=\"blank level0\" >&nbsp;</th>\n",
       "      <th class=\"col_heading level0 col0\" >Model</th>\n",
       "      <th class=\"col_heading level0 col1\" >Accuracy</th>\n",
       "      <th class=\"col_heading level0 col2\" >AUC</th>\n",
       "      <th class=\"col_heading level0 col3\" >Recall</th>\n",
       "      <th class=\"col_heading level0 col4\" >Prec.</th>\n",
       "      <th class=\"col_heading level0 col5\" >F1</th>\n",
       "      <th class=\"col_heading level0 col6\" >Kappa</th>\n",
       "      <th class=\"col_heading level0 col7\" >MCC</th>\n",
       "      <th class=\"col_heading level0 col8\" >LogLoss</th>\n",
       "    </tr>\n",
       "  </thead>\n",
       "  <tbody>\n",
       "    <tr>\n",
       "      <th id=\"T_39274_level0_row0\" class=\"row_heading level0 row0\" >0</th>\n",
       "      <td id=\"T_39274_row0_col0\" class=\"data row0 col0\" >Stacking Classifier</td>\n",
       "      <td id=\"T_39274_row0_col1\" class=\"data row0 col1\" >0.7056</td>\n",
       "      <td id=\"T_39274_row0_col2\" class=\"data row0 col2\" >0.8947</td>\n",
       "      <td id=\"T_39274_row0_col3\" class=\"data row0 col3\" >0.7055</td>\n",
       "      <td id=\"T_39274_row0_col4\" class=\"data row0 col4\" >0.6635</td>\n",
       "      <td id=\"T_39274_row0_col5\" class=\"data row0 col5\" >0.6756</td>\n",
       "      <td id=\"T_39274_row0_col6\" class=\"data row0 col6\" >0.5863</td>\n",
       "      <td id=\"T_39274_row0_col7\" class=\"data row0 col7\" >0.5927</td>\n",
       "      <td id=\"T_39274_row0_col8\" class=\"data row0 col8\" >0.6690</td>\n",
       "    </tr>\n",
       "  </tbody>\n",
       "</table>\n"
      ],
      "text/plain": [
       "<pandas.io.formats.style.Styler at 0x2213fd4e040>"
      ]
     },
     "metadata": {},
     "output_type": "display_data"
    }
   ],
   "source": [
    "# 스태킹 앙상블\n",
    "stacker = stack_models(estimator_list=custom_model, fold=3, meta_model=et)\n",
    "pred_holdout = predict_model(stacker)"
   ]
  },
  {
   "cell_type": "code",
   "execution_count": 40,
   "id": "6c2955bc-9442-4f2c-bdfa-6691e5af9fa9",
   "metadata": {
    "tags": []
   },
   "outputs": [
    {
     "data": {
      "application/vnd.jupyter.widget-view+json": {
       "model_id": "9e8e52693fc74e6f88770ce9ec47a360",
       "version_major": 2,
       "version_minor": 0
      },
      "text/plain": [
       "interactive(children=(ToggleButtons(description='Plot Type:', icons=('',), options=(('Hyperparameters', 'param…"
      ]
     },
     "metadata": {},
     "output_type": "display_data"
    }
   ],
   "source": [
    "evaluate_model(stacker) # stacking et, rf, lightgbm"
   ]
  }
 ],
 "metadata": {
  "kernelspec": {
   "display_name": "Python 3",
   "language": "python",
   "name": "python3"
  },
  "language_info": {
   "codemirror_mode": {
    "name": "ipython",
    "version": 3
   },
   "file_extension": ".py",
   "mimetype": "text/x-python",
   "name": "python",
   "nbconvert_exporter": "python",
   "pygments_lexer": "ipython3",
   "version": "3.8.8"
  },
  "toc-autonumbering": true,
  "toc-showmarkdowntxt": false
 },
 "nbformat": 4,
 "nbformat_minor": 5
}
