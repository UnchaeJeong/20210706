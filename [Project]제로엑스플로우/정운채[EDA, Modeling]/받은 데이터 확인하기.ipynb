{
 "cells": [
  {
   "cell_type": "markdown",
   "id": "12226c85-8708-496b-9f1f-c536bdf1b28d",
   "metadata": {},
   "source": [
    "# 데이터 불러오기"
   ]
  },
  {
   "cell_type": "code",
   "execution_count": 5,
   "id": "1c340e4b-64a8-4978-8515-2878dd0d9509",
   "metadata": {},
   "outputs": [],
   "source": [
    "import numpy as np\n",
    "import pandas as pd\n",
    "import matplotlib.pyplot as plt\n",
    "import seaborn as sns\n",
    "\n",
    "#그래프를 그리기 위한 기본 설정\n",
    "#폰트 설정 - 윈도우\n",
    "plt.rcParams['font.family'] = 'Malgun Gothic'\n",
    "#그래프의 크기\n",
    "plt.rcParams['figure.figsize'] = 18, 9\n",
    "#글자 크기\n",
    "plt.rcParams['font.size'] = 14\n",
    "#폰트 설정 시 - 기호 깨지는 것 방지하기\n",
    "plt.rcParams['axes.unicode_minus'] = False\n",
    "plt.rcParams['figure.facecolor'] = 'white'"
   ]
  },
  {
   "cell_type": "code",
   "execution_count": 6,
   "id": "aed1e7b9-45cd-4363-8208-b74555b841b8",
   "metadata": {},
   "outputs": [
    {
     "name": "stdout",
     "output_type": "stream",
     "text": [
      "[df_sample 정보]\n",
      "\n",
      "<class 'pandas.core.frame.DataFrame'>\n",
      "RangeIndex: 1288 entries, 0 to 1287\n",
      "Data columns (total 7 columns):\n",
      " #   Column  Non-Null Count  Dtype  \n",
      "---  ------  --------------  -----  \n",
      " 0   mid3    1288 non-null   float64\n",
      " 1   ele     1288 non-null   float64\n",
      " 2   high1   1288 non-null   float64\n",
      " 3   mid1    1288 non-null   float64\n",
      " 4   mid2    1288 non-null   float64\n",
      " 5   high2   1288 non-null   float64\n",
      " 6   high3   1288 non-null   float64\n",
      "dtypes: float64(7)\n",
      "memory usage: 70.6 KB\n",
      "None \n",
      "\n"
     ]
    },
    {
     "data": {
      "text/html": [
       "<div>\n",
       "<style scoped>\n",
       "    .dataframe tbody tr th:only-of-type {\n",
       "        vertical-align: middle;\n",
       "    }\n",
       "\n",
       "    .dataframe tbody tr th {\n",
       "        vertical-align: top;\n",
       "    }\n",
       "\n",
       "    .dataframe thead th {\n",
       "        text-align: right;\n",
       "    }\n",
       "</style>\n",
       "<table border=\"1\" class=\"dataframe\">\n",
       "  <thead>\n",
       "    <tr style=\"text-align: right;\">\n",
       "      <th></th>\n",
       "      <th>mid3</th>\n",
       "      <th>ele</th>\n",
       "      <th>high1</th>\n",
       "      <th>mid1</th>\n",
       "      <th>mid2</th>\n",
       "      <th>high2</th>\n",
       "      <th>high3</th>\n",
       "    </tr>\n",
       "  </thead>\n",
       "  <tbody>\n",
       "    <tr>\n",
       "      <th>count</th>\n",
       "      <td>1288.000000</td>\n",
       "      <td>1288.000000</td>\n",
       "      <td>1288.000000</td>\n",
       "      <td>1288.000000</td>\n",
       "      <td>1288.000000</td>\n",
       "      <td>1288.000000</td>\n",
       "      <td>1288.000000</td>\n",
       "    </tr>\n",
       "    <tr>\n",
       "      <th>mean</th>\n",
       "      <td>0.032921</td>\n",
       "      <td>0.416701</td>\n",
       "      <td>0.036587</td>\n",
       "      <td>0.369761</td>\n",
       "      <td>0.113656</td>\n",
       "      <td>0.024304</td>\n",
       "      <td>0.006071</td>\n",
       "    </tr>\n",
       "    <tr>\n",
       "      <th>std</th>\n",
       "      <td>0.022501</td>\n",
       "      <td>0.050605</td>\n",
       "      <td>0.028695</td>\n",
       "      <td>0.055875</td>\n",
       "      <td>0.040214</td>\n",
       "      <td>0.021858</td>\n",
       "      <td>0.012233</td>\n",
       "    </tr>\n",
       "    <tr>\n",
       "      <th>min</th>\n",
       "      <td>0.000000</td>\n",
       "      <td>0.233333</td>\n",
       "      <td>0.000000</td>\n",
       "      <td>0.184615</td>\n",
       "      <td>0.006173</td>\n",
       "      <td>0.000000</td>\n",
       "      <td>0.000000</td>\n",
       "    </tr>\n",
       "    <tr>\n",
       "      <th>25%</th>\n",
       "      <td>0.017217</td>\n",
       "      <td>0.382353</td>\n",
       "      <td>0.012987</td>\n",
       "      <td>0.333333</td>\n",
       "      <td>0.088760</td>\n",
       "      <td>0.007463</td>\n",
       "      <td>0.000000</td>\n",
       "    </tr>\n",
       "    <tr>\n",
       "      <th>50%</th>\n",
       "      <td>0.029798</td>\n",
       "      <td>0.418493</td>\n",
       "      <td>0.033180</td>\n",
       "      <td>0.368750</td>\n",
       "      <td>0.111539</td>\n",
       "      <td>0.018832</td>\n",
       "      <td>0.000000</td>\n",
       "    </tr>\n",
       "    <tr>\n",
       "      <th>75%</th>\n",
       "      <td>0.043136</td>\n",
       "      <td>0.453025</td>\n",
       "      <td>0.053071</td>\n",
       "      <td>0.404507</td>\n",
       "      <td>0.136188</td>\n",
       "      <td>0.035971</td>\n",
       "      <td>0.007634</td>\n",
       "    </tr>\n",
       "    <tr>\n",
       "      <th>max</th>\n",
       "      <td>0.175824</td>\n",
       "      <td>0.559767</td>\n",
       "      <td>0.177215</td>\n",
       "      <td>0.598765</td>\n",
       "      <td>0.290909</td>\n",
       "      <td>0.183333</td>\n",
       "      <td>0.093023</td>\n",
       "    </tr>\n",
       "  </tbody>\n",
       "</table>\n",
       "</div>"
      ],
      "text/plain": [
       "              mid3          ele        high1         mid1         mid2  \\\n",
       "count  1288.000000  1288.000000  1288.000000  1288.000000  1288.000000   \n",
       "mean      0.032921     0.416701     0.036587     0.369761     0.113656   \n",
       "std       0.022501     0.050605     0.028695     0.055875     0.040214   \n",
       "min       0.000000     0.233333     0.000000     0.184615     0.006173   \n",
       "25%       0.017217     0.382353     0.012987     0.333333     0.088760   \n",
       "50%       0.029798     0.418493     0.033180     0.368750     0.111539   \n",
       "75%       0.043136     0.453025     0.053071     0.404507     0.136188   \n",
       "max       0.175824     0.559767     0.177215     0.598765     0.290909   \n",
       "\n",
       "             high2        high3  \n",
       "count  1288.000000  1288.000000  \n",
       "mean      0.024304     0.006071  \n",
       "std       0.021858     0.012233  \n",
       "min       0.000000     0.000000  \n",
       "25%       0.007463     0.000000  \n",
       "50%       0.018832     0.000000  \n",
       "75%       0.035971     0.007634  \n",
       "max       0.183333     0.093023  "
      ]
     },
     "metadata": {},
     "output_type": "display_data"
    }
   ],
   "source": [
    "print('[df_sample 정보]\\n')\n",
    "with open('./data/sample.csv') as f:\n",
    "    table = pd.read_csv(f) \n",
    "df_sample = pd.DataFrame(table)\n",
    "df_sample = df_sample.fillna(0)\n",
    "df_sample = df_sample.drop(['Unnamed: 0'], axis=1)\n",
    "print(df_sample.info(),'\\n')\n",
    "display(df_sample.describe())"
   ]
  },
  {
   "cell_type": "code",
   "execution_count": 12,
   "id": "38c06cac-c3a4-41b1-9ba7-fe6f8483fab7",
   "metadata": {
    "tags": []
   },
   "outputs": [
    {
     "data": {
      "text/html": [
       "<div>\n",
       "<style scoped>\n",
       "    .dataframe tbody tr th:only-of-type {\n",
       "        vertical-align: middle;\n",
       "    }\n",
       "\n",
       "    .dataframe tbody tr th {\n",
       "        vertical-align: top;\n",
       "    }\n",
       "\n",
       "    .dataframe thead th {\n",
       "        text-align: right;\n",
       "    }\n",
       "</style>\n",
       "<table border=\"1\" class=\"dataframe\">\n",
       "  <thead>\n",
       "    <tr style=\"text-align: right;\">\n",
       "      <th></th>\n",
       "      <th>ele</th>\n",
       "      <th>mid1</th>\n",
       "      <th>mid2</th>\n",
       "      <th>mid3</th>\n",
       "      <th>high1</th>\n",
       "      <th>high2</th>\n",
       "      <th>high3</th>\n",
       "    </tr>\n",
       "  </thead>\n",
       "  <tbody>\n",
       "    <tr>\n",
       "      <th>0</th>\n",
       "      <td>0.423423</td>\n",
       "      <td>0.396396</td>\n",
       "      <td>0.081081</td>\n",
       "      <td>0.036036</td>\n",
       "      <td>0.027027</td>\n",
       "      <td>0.027027</td>\n",
       "      <td>0.009009</td>\n",
       "    </tr>\n",
       "  </tbody>\n",
       "</table>\n",
       "</div>"
      ],
      "text/plain": [
       "        ele      mid1      mid2      mid3     high1     high2     high3\n",
       "0  0.423423  0.396396  0.081081  0.036036  0.027027  0.027027  0.009009"
      ]
     },
     "metadata": {},
     "output_type": "display_data"
    },
    {
     "name": "stdout",
     "output_type": "stream",
     "text": [
      "ele      0\n",
      "mid1     0\n",
      "mid2     0\n",
      "mid3     0\n",
      "high1    0\n",
      "high2    0\n",
      "high3    0\n",
      "dtype: int64\n"
     ]
    }
   ],
   "source": [
    "display(df_sample.head(1)) # 데이터 확인, 문단 속 난이도 분포\n",
    "print(df_sample.isna().sum()) # 결측치 확인"
   ]
  },
  {
   "cell_type": "markdown",
   "id": "61d13799-ff36-4505-b6fc-d6642356226e",
   "metadata": {},
   "source": [
    "---\n",
    "- 컬럼 순서 변경"
   ]
  },
  {
   "cell_type": "code",
   "execution_count": 13,
   "id": "a6980c88-82c7-406f-874f-d0dc34f6f5ad",
   "metadata": {},
   "outputs": [],
   "source": [
    "df_sample.columns\n",
    "\n",
    "df_sample = df_sample[['ele', 'mid1', 'mid2', 'mid3', 'high1', 'high2', 'high3']]"
   ]
  },
  {
   "cell_type": "markdown",
   "id": "29f3eae4-217b-4f1c-a38b-7ec010e3616b",
   "metadata": {},
   "source": [
    "---\n",
    "- 데이터 평균 분포 확인\n",
    "- 데이터 boxplot, hist, kde 분포 확인"
   ]
  },
  {
   "cell_type": "code",
   "execution_count": 24,
   "id": "9d8ec10b-f8bc-4b36-ba1a-01c1deb53955",
   "metadata": {},
   "outputs": [
    {
     "data": {
      "text/plain": [
       "ele      0.416701\n",
       "mid1     0.369761\n",
       "mid2     0.113656\n",
       "mid3     0.032921\n",
       "high1    0.036587\n",
       "high2    0.024304\n",
       "high3    0.006071\n",
       "dtype: float64"
      ]
     },
     "execution_count": 24,
     "metadata": {},
     "output_type": "execute_result"
    }
   ],
   "source": [
    "df_sample[['ele', 'mid1', 'mid2', 'mid3', 'high1', 'high2', 'high3']].mean()"
   ]
  },
  {
   "cell_type": "code",
   "execution_count": 25,
   "id": "02012f00-c3c9-429b-8108-c21ab3d8f329",
   "metadata": {},
   "outputs": [
    {
     "data": {
      "image/png": "[encoded data removed]",
      "text/plain": [
       "<Figure size 864x432 with 1 Axes>"
      ]
     },
     "metadata": {
      "needs_background": "light"
     },
     "output_type": "display_data"
    },
    {
     "data": {
      "image/png": "[encoded data removed]",
      "text/plain": [
       "<Figure size 864x432 with 1 Axes>"
      ]
     },
     "metadata": {
      "needs_background": "light"
     },
     "output_type": "display_data"
    },
    {
     "data": {
      "image/png": "[encoded data removed]",
      "text/plain": [
       "<Figure size 864x432 with 1 Axes>"
      ]
     },
     "metadata": {
      "needs_background": "light"
     },
     "output_type": "display_data"
    }
   ],
   "source": [
    "df_sample.boxplot(figsize=(12,6))\n",
    "plt.show()\n",
    "df_sample.plot.hist(bins=100,figsize=(12,6))\n",
    "df_sample.plot.kde(figsize=(12,6))\n",
    "plt.show()"
   ]
  },
  {
   "cell_type": "markdown",
   "id": "f5e45bbb-4568-41ad-a226-61955153d807",
   "metadata": {},
   "source": [
    "> ele, mid1은 제거하고 모델 돌려볼 필요가 있음.(어느 문장에서도 많은 빈도수로 쓰이기 때문에  TF-IDF 대신 진행)     \n",
    "> mid3 부터 급격히 낮아짐   \n",
    "---"
   ]
  },
  {
   "cell_type": "code",
   "execution_count": 26,
   "id": "9a1ca226-50cd-4541-a40a-20873ca2bfbb",
   "metadata": {
    "tags": []
   },
   "outputs": [
    {
     "name": "stdout",
     "output_type": "stream",
     "text": [
      "\n",
      " df_contents_1 모의고사 info\n",
      "\n",
      "<class 'pandas.core.frame.DataFrame'>\n",
      "Int64Index: 1839 entries, 0 to 1846\n",
      "Data columns (total 4 columns):\n",
      " #   Column    Non-Null Count  Dtype \n",
      "---  ------    --------------  ----- \n",
      " 0   sentence  1839 non-null   object\n",
      " 1   order     1839 non-null   object\n",
      " 2   video_id  1839 non-null   object\n",
      " 3   title     1839 non-null   object\n",
      "dtypes: object(4)\n",
      "memory usage: 71.8+ KB\n",
      "None\n",
      "\n",
      " df_contents_2 교재 info\n",
      "\n",
      "<class 'pandas.core.frame.DataFrame'>\n",
      "Int64Index: 32874 entries, 0 to 32956\n",
      "Data columns (total 4 columns):\n",
      " #   Column    Non-Null Count  Dtype \n",
      "---  ------    --------------  ----- \n",
      " 0   sentence  32874 non-null  object\n",
      " 1   order     32874 non-null  object\n",
      " 2   video_id  32874 non-null  object\n",
      " 3   title     32874 non-null  object\n",
      "dtypes: object(4)\n",
      "memory usage: 1.3+ MB\n",
      "None\n",
      "\n",
      " df_contents 모의고사 문제 지문\n",
      "\n",
      "Dear Mr. Spencer, I will have lived in this apartment for ten years as of this coming April. I have enjoyed living here and hope to continue doing so. When I first moved into the Greenfield Apartments, I was told that the apartment had been recently painted. Since that time, I have never touched the walls or the ceiling. Looking around over the past month has made me realize how old and dull the paint has become. I would like to update the apartment with a new coat of paint. I understand that this would be at my own expense, and that I must get permission to do so as per the lease agreement. Please advise at your earliest convenience. Sincerely,Howard James\n"
     ]
    },
    {
     "data": {
      "text/html": [
       "<div>\n",
       "<style scoped>\n",
       "    .dataframe tbody tr th:only-of-type {\n",
       "        vertical-align: middle;\n",
       "    }\n",
       "\n",
       "    .dataframe tbody tr th {\n",
       "        vertical-align: top;\n",
       "    }\n",
       "\n",
       "    .dataframe thead th {\n",
       "        text-align: right;\n",
       "    }\n",
       "</style>\n",
       "<table border=\"1\" class=\"dataframe\">\n",
       "  <thead>\n",
       "    <tr style=\"text-align: right;\">\n",
       "      <th></th>\n",
       "      <th>video_id</th>\n",
       "      <th>title</th>\n",
       "      <th>sentence</th>\n",
       "    </tr>\n",
       "  </thead>\n",
       "  <tbody>\n",
       "    <tr>\n",
       "      <th>0</th>\n",
       "      <td>127765</td>\n",
       "      <td>2019학년도 고2 3월 모의고사 18번</td>\n",
       "      <td>Dear Mr. Spencer, I will have lived in this ap...</td>\n",
       "    </tr>\n",
       "    <tr>\n",
       "      <th>1</th>\n",
       "      <td>127766</td>\n",
       "      <td>2019학년도 고2 3월 모의고사 19번</td>\n",
       "      <td>Something inside told me that by now someone h...</td>\n",
       "    </tr>\n",
       "  </tbody>\n",
       "</table>\n",
       "</div>"
      ],
      "text/plain": [
       "   video_id                   title  \\\n",
       "0    127765  2019학년도 고2 3월 모의고사 18번   \n",
       "1    127766  2019학년도 고2 3월 모의고사 19번   \n",
       "\n",
       "                                            sentence  \n",
       "0  Dear Mr. Spencer, I will have lived in this ap...  \n",
       "1  Something inside told me that by now someone h...  "
      ]
     },
     "metadata": {},
     "output_type": "display_data"
    },
    {
     "name": "stdout",
     "output_type": "stream",
     "text": [
      "\n",
      " df_contents_txt 교재 문제 지문\n",
      "\n",
      "Dear Mr.Kayne, I am a resident of Cansinghill Apartments, located right next to the newly opened  Vuenna Dog Park. As I live with three dogs, I am very happy to let my dogs run  around and safely play with other dogs from the neighborhood. However, the noise of  barking and yelling from the park at night is so loud and disturbing that I cannot relax  in my apartment. Many of my apartment neighbors also seriously complain about this  noise. I want immediate action to solve this urgent problem. Since you are the manager  of Vuenna Dog Park, I ask you to take measures to prevent the noise at night. I hope to  hear from you soon.\n"
     ]
    },
    {
     "data": {
      "text/html": [
       "<div>\n",
       "<style scoped>\n",
       "    .dataframe tbody tr th:only-of-type {\n",
       "        vertical-align: middle;\n",
       "    }\n",
       "\n",
       "    .dataframe tbody tr th {\n",
       "        vertical-align: top;\n",
       "    }\n",
       "\n",
       "    .dataframe thead th {\n",
       "        text-align: right;\n",
       "    }\n",
       "</style>\n",
       "<table border=\"1\" class=\"dataframe\">\n",
       "  <thead>\n",
       "    <tr style=\"text-align: right;\">\n",
       "      <th></th>\n",
       "      <th>video_id</th>\n",
       "      <th>title</th>\n",
       "      <th>sentence</th>\n",
       "    </tr>\n",
       "  </thead>\n",
       "  <tbody>\n",
       "    <tr>\n",
       "      <th>0</th>\n",
       "      <td>26657</td>\n",
       "      <td>수능특강 1 - Gateway</td>\n",
       "      <td>Dear Mr.Kayne, I am a resident of Cansinghill ...</td>\n",
       "    </tr>\n",
       "    <tr>\n",
       "      <th>1</th>\n",
       "      <td>26658</td>\n",
       "      <td>수능특강 1 - 1</td>\n",
       "      <td>Can’t leave the office or home to volunteer? N...</td>\n",
       "    </tr>\n",
       "  </tbody>\n",
       "</table>\n",
       "</div>"
      ],
      "text/plain": [
       "   video_id             title  \\\n",
       "0     26657  수능특강 1 - Gateway   \n",
       "1     26658        수능특강 1 - 1   \n",
       "\n",
       "                                            sentence  \n",
       "0  Dear Mr.Kayne, I am a resident of Cansinghill ...  \n",
       "1  Can’t leave the office or home to volunteer? N...  "
      ]
     },
     "metadata": {},
     "output_type": "display_data"
    }
   ],
   "source": [
    "#texts \n",
    "\n",
    "\n",
    "# 모의고사\n",
    "print('\\n df_contents_1 모의고사 info\\n')\n",
    "with open('./data/mouitest_list.csv', encoding='utf-8') as f: #  모의고사\n",
    "    table = pd.read_csv(f, header=0) \n",
    "df_contents_1 = pd.DataFrame(table) \n",
    "# print(df_contents_1.info(1))\n",
    "df_contents_1 = df_contents_1.drop(['Unnamed: 4'], axis=1) # column drop\n",
    "df_contents_1 = df_contents_1.dropna(axis=0) #  결측치 제거\n",
    "# print(df_contents_1.info(1))\n",
    "df_contents_1['video_id'] = df_contents_1['video_id'].astype('object') #   컬럼 타입 변경 int64 -> object\n",
    "df_contents_1['order'] = df_contents_1['order'].astype('object') #  컬럼 타입 변경 int64 -> object\n",
    "print(df_contents_1.info(1))\n",
    "\n",
    "\n",
    "# 교재\n",
    "print('\\n df_contents_2 교재 info\\n')\n",
    "with open('./data/textbook_list.csv', encoding='utf-8') as f: # 교재\n",
    "    table = pd.read_csv(f, header=0)\n",
    "df_contents_2 = pd.DataFrame(table)\n",
    "# print(df_contents_2.info(1))\n",
    "df_contents_2 = df_contents_2.drop(['Unnamed: 4'], axis=1) # 컬럼 drop\n",
    "df_contents_2 = df_contents_2.dropna(axis=0) #  결측치 제거\n",
    "# print(df_contents_2.info(1)) \n",
    "df_contents_2['video_id'] = df_contents_2['video_id'].astype('object')\n",
    "df_contents_2['order'] = df_contents_2['order'].astype('object')\n",
    "print(df_contents_2.info(1))\n",
    "\n",
    "print('\\n df_contents 모의고사 문제 지문\\n')\n",
    "df_contents = df_contents_1.groupby(['video_id','title'])['sentence'].apply(' '.join).reset_index()\n",
    "print(df_contents['sentence'][0])\n",
    "display(df_contents.head(2))\n",
    "\n",
    "print('\\n df_contents_txt 교재 문제 지문\\n')\n",
    "df_contents_txt = df_contents_2.groupby(['video_id','title'])['sentence'].apply(' '.join).reset_index()\n",
    "print(df_contents_txt['sentence'][0])\n",
    "display(df_contents_txt.head(2))\n"
   ]
  },
  {
   "cell_type": "markdown",
   "id": "3ddfe5de-4a25-448b-a2a1-5d498a0c76c7",
   "metadata": {},
   "source": [
    "---\n",
    "# data columns 정리\n",
    "[df_contents_1 모의고사 문장, df_contents_2. 교재 문장]     \n",
    "[df_contents. 모의고사 지문, df_contents_txt 교재 지문] \n",
    ">    `sentence` :  지문   \n",
    "    `order` :  index + 1    \n",
    "    `video_id` : 지문 id    \n",
    "    `title` : 출처(년/학년/월/번호)     \n"
   ]
  },
  {
   "cell_type": "code",
   "execution_count": 28,
   "id": "15ebbdbf-045b-473b-b340-d093592f77b4",
   "metadata": {},
   "outputs": [
    {
     "data": {
      "text/plain": [
       "'sample'"
      ]
     },
     "metadata": {},
     "output_type": "display_data"
    },
    {
     "data": {
      "text/html": [
       "<div>\n",
       "<style scoped>\n",
       "    .dataframe tbody tr th:only-of-type {\n",
       "        vertical-align: middle;\n",
       "    }\n",
       "\n",
       "    .dataframe tbody tr th {\n",
       "        vertical-align: top;\n",
       "    }\n",
       "\n",
       "    .dataframe thead th {\n",
       "        text-align: right;\n",
       "    }\n",
       "</style>\n",
       "<table border=\"1\" class=\"dataframe\">\n",
       "  <thead>\n",
       "    <tr style=\"text-align: right;\">\n",
       "      <th></th>\n",
       "      <th>ele</th>\n",
       "      <th>mid1</th>\n",
       "      <th>mid2</th>\n",
       "      <th>mid3</th>\n",
       "      <th>high1</th>\n",
       "      <th>high2</th>\n",
       "      <th>high3</th>\n",
       "    </tr>\n",
       "  </thead>\n",
       "  <tbody>\n",
       "    <tr>\n",
       "      <th>0</th>\n",
       "      <td>0.423423</td>\n",
       "      <td>0.396396</td>\n",
       "      <td>0.081081</td>\n",
       "      <td>0.036036</td>\n",
       "      <td>0.027027</td>\n",
       "      <td>0.027027</td>\n",
       "      <td>0.009009</td>\n",
       "    </tr>\n",
       "  </tbody>\n",
       "</table>\n",
       "</div>"
      ],
      "text/plain": [
       "        ele      mid1      mid2      mid3     high1     high2     high3\n",
       "0  0.423423  0.396396  0.081081  0.036036  0.027027  0.027027  0.009009"
      ]
     },
     "metadata": {},
     "output_type": "display_data"
    },
    {
     "data": {
      "text/plain": [
       "'df_contents_1'"
      ]
     },
     "metadata": {},
     "output_type": "display_data"
    },
    {
     "data": {
      "text/html": [
       "<div>\n",
       "<style scoped>\n",
       "    .dataframe tbody tr th:only-of-type {\n",
       "        vertical-align: middle;\n",
       "    }\n",
       "\n",
       "    .dataframe tbody tr th {\n",
       "        vertical-align: top;\n",
       "    }\n",
       "\n",
       "    .dataframe thead th {\n",
       "        text-align: right;\n",
       "    }\n",
       "</style>\n",
       "<table border=\"1\" class=\"dataframe\">\n",
       "  <thead>\n",
       "    <tr style=\"text-align: right;\">\n",
       "      <th></th>\n",
       "      <th>sentence</th>\n",
       "      <th>order</th>\n",
       "      <th>video_id</th>\n",
       "      <th>title</th>\n",
       "    </tr>\n",
       "  </thead>\n",
       "  <tbody>\n",
       "    <tr>\n",
       "      <th>0</th>\n",
       "      <td>Dear Mr. Spencer,</td>\n",
       "      <td>1</td>\n",
       "      <td>127765</td>\n",
       "      <td>2019학년도 고2 3월 모의고사 18번</td>\n",
       "    </tr>\n",
       "  </tbody>\n",
       "</table>\n",
       "</div>"
      ],
      "text/plain": [
       "            sentence order video_id                   title\n",
       "0  Dear Mr. Spencer,     1   127765  2019학년도 고2 3월 모의고사 18번"
      ]
     },
     "metadata": {},
     "output_type": "display_data"
    },
    {
     "data": {
      "text/plain": [
       "'df_contents_2'"
      ]
     },
     "metadata": {},
     "output_type": "display_data"
    },
    {
     "data": {
      "text/html": [
       "<div>\n",
       "<style scoped>\n",
       "    .dataframe tbody tr th:only-of-type {\n",
       "        vertical-align: middle;\n",
       "    }\n",
       "\n",
       "    .dataframe tbody tr th {\n",
       "        vertical-align: top;\n",
       "    }\n",
       "\n",
       "    .dataframe thead th {\n",
       "        text-align: right;\n",
       "    }\n",
       "</style>\n",
       "<table border=\"1\" class=\"dataframe\">\n",
       "  <thead>\n",
       "    <tr style=\"text-align: right;\">\n",
       "      <th></th>\n",
       "      <th>sentence</th>\n",
       "      <th>order</th>\n",
       "      <th>video_id</th>\n",
       "      <th>title</th>\n",
       "    </tr>\n",
       "  </thead>\n",
       "  <tbody>\n",
       "    <tr>\n",
       "      <th>0</th>\n",
       "      <td>Dear Mr.Kayne, I am a resident of Cansinghill ...</td>\n",
       "      <td>1</td>\n",
       "      <td>26657</td>\n",
       "      <td>수능특강 1 - Gateway</td>\n",
       "    </tr>\n",
       "  </tbody>\n",
       "</table>\n",
       "</div>"
      ],
      "text/plain": [
       "                                            sentence order video_id  \\\n",
       "0  Dear Mr.Kayne, I am a resident of Cansinghill ...     1    26657   \n",
       "\n",
       "              title  \n",
       "0  수능특강 1 - Gateway  "
      ]
     },
     "metadata": {},
     "output_type": "display_data"
    },
    {
     "data": {
      "text/plain": [
       "'df_contents'"
      ]
     },
     "metadata": {},
     "output_type": "display_data"
    },
    {
     "data": {
      "text/html": [
       "<div>\n",
       "<style scoped>\n",
       "    .dataframe tbody tr th:only-of-type {\n",
       "        vertical-align: middle;\n",
       "    }\n",
       "\n",
       "    .dataframe tbody tr th {\n",
       "        vertical-align: top;\n",
       "    }\n",
       "\n",
       "    .dataframe thead th {\n",
       "        text-align: right;\n",
       "    }\n",
       "</style>\n",
       "<table border=\"1\" class=\"dataframe\">\n",
       "  <thead>\n",
       "    <tr style=\"text-align: right;\">\n",
       "      <th></th>\n",
       "      <th>video_id</th>\n",
       "      <th>title</th>\n",
       "      <th>sentence</th>\n",
       "    </tr>\n",
       "  </thead>\n",
       "  <tbody>\n",
       "    <tr>\n",
       "      <th>0</th>\n",
       "      <td>127765</td>\n",
       "      <td>2019학년도 고2 3월 모의고사 18번</td>\n",
       "      <td>Dear Mr. Spencer, I will have lived in this ap...</td>\n",
       "    </tr>\n",
       "  </tbody>\n",
       "</table>\n",
       "</div>"
      ],
      "text/plain": [
       "   video_id                   title  \\\n",
       "0    127765  2019학년도 고2 3월 모의고사 18번   \n",
       "\n",
       "                                            sentence  \n",
       "0  Dear Mr. Spencer, I will have lived in this ap...  "
      ]
     },
     "metadata": {},
     "output_type": "display_data"
    },
    {
     "data": {
      "text/plain": [
       "'df_contents_txt'"
      ]
     },
     "metadata": {},
     "output_type": "display_data"
    },
    {
     "data": {
      "text/html": [
       "<div>\n",
       "<style scoped>\n",
       "    .dataframe tbody tr th:only-of-type {\n",
       "        vertical-align: middle;\n",
       "    }\n",
       "\n",
       "    .dataframe tbody tr th {\n",
       "        vertical-align: top;\n",
       "    }\n",
       "\n",
       "    .dataframe thead th {\n",
       "        text-align: right;\n",
       "    }\n",
       "</style>\n",
       "<table border=\"1\" class=\"dataframe\">\n",
       "  <thead>\n",
       "    <tr style=\"text-align: right;\">\n",
       "      <th></th>\n",
       "      <th>video_id</th>\n",
       "      <th>title</th>\n",
       "      <th>sentence</th>\n",
       "    </tr>\n",
       "  </thead>\n",
       "  <tbody>\n",
       "    <tr>\n",
       "      <th>0</th>\n",
       "      <td>26657</td>\n",
       "      <td>수능특강 1 - Gateway</td>\n",
       "      <td>Dear Mr.Kayne, I am a resident of Cansinghill ...</td>\n",
       "    </tr>\n",
       "  </tbody>\n",
       "</table>\n",
       "</div>"
      ],
      "text/plain": [
       "   video_id             title  \\\n",
       "0     26657  수능특강 1 - Gateway   \n",
       "\n",
       "                                            sentence  \n",
       "0  Dear Mr.Kayne, I am a resident of Cansinghill ...  "
      ]
     },
     "metadata": {},
     "output_type": "display_data"
    }
   ],
   "source": [
    "display('sample',df_sample.head(1))\n",
    "\n",
    "display('df_contents_1',df_contents_1.head(1))\n",
    "display('df_contents_2',df_contents_2.head(1))\n",
    "display('df_contents',df_contents.head(1))\n",
    "display('df_contents_txt',df_contents_txt.head(1))"
   ]
  },
  {
   "cell_type": "code",
   "execution_count": 30,
   "id": "51192eab-2591-400d-9f65-4d7f97daf56f",
   "metadata": {},
   "outputs": [
    {
     "name": "stdout",
     "output_type": "stream",
     "text": [
      "Counter({'H3': 488, 'H1': 256, 'H2': 200, 'M2': 141, 'M3': 103, 'M1': 100}) \n",
      "\n",
      "<class 'pandas.core.frame.DataFrame'>\n",
      "RangeIndex: 1288 entries, 0 to 1287\n",
      "Data columns (total 4 columns):\n",
      " #   Column    Non-Null Count  Dtype \n",
      "---  ------    --------------  ----- \n",
      " 0   video_id  1288 non-null   int64 \n",
      " 1   title     1288 non-null   object\n",
      " 2   sentence  1288 non-null   object\n",
      " 3   level     1288 non-null   object\n",
      "dtypes: int64(1), object(3)\n",
      "memory usage: 40.4+ KB\n",
      "None\n"
     ]
    }
   ],
   "source": [
    "df_contents_txt['level'] = ['H3' if '수능특강' in x \n",
    "                            else 'H3' if '고3' in x\n",
    "                            else 'H3' if '수능' in x\n",
    "                            else 'H2' if '고2' in x \n",
    "                            else 'H1' if '고1' in x\n",
    "                            else 'M3' if '중등3' in x\n",
    "                            else 'M2' if 'NE능률(김)' in x\n",
    "                            else 'M2' if '중등2' in x\n",
    "                            else 'M1' if '중등1' in x\n",
    "                            else 'H1' if '고등' in x\n",
    "                            else 'H1' if 'YBM(박)' in x\n",
    "                            else 'M1' if '중등' in x\n",
    "                            else 'non-labeled' for x in df_contents_txt['title']]\n",
    "\n",
    "from collections import Counter\n",
    "print(Counter(df_contents_txt['level']),'\\n')\n",
    "# print(df_contents_txt.loc[df_contents_txt['level']=='non-labeled'])\n",
    "print(df_contents_txt.info(1))"
   ]
  },
  {
   "cell_type": "code",
   "execution_count": 31,
   "id": "6c20ee70-f56e-4b24-a2ce-d411a22e9aaa",
   "metadata": {},
   "outputs": [
    {
     "name": "stdout",
     "output_type": "stream",
     "text": [
      "<class 'pandas.core.frame.DataFrame'>\n",
      "RangeIndex: 1288 entries, 0 to 1287\n",
      "Data columns (total 11 columns):\n",
      " #   Column    Non-Null Count  Dtype  \n",
      "---  ------    --------------  -----  \n",
      " 0   video_id  1288 non-null   int64  \n",
      " 1   title     1288 non-null   object \n",
      " 2   sentence  1288 non-null   object \n",
      " 3   level     1288 non-null   object \n",
      " 4   ele       1288 non-null   float64\n",
      " 5   mid1      1288 non-null   float64\n",
      " 6   mid2      1288 non-null   float64\n",
      " 7   mid3      1288 non-null   float64\n",
      " 8   high1     1288 non-null   float64\n",
      " 9   high2     1288 non-null   float64\n",
      " 10  high3     1288 non-null   float64\n",
      "dtypes: float64(7), int64(1), object(3)\n",
      "memory usage: 110.8+ KB\n",
      "None\n"
     ]
    },
    {
     "data": {
      "text/html": [
       "<div>\n",
       "<style scoped>\n",
       "    .dataframe tbody tr th:only-of-type {\n",
       "        vertical-align: middle;\n",
       "    }\n",
       "\n",
       "    .dataframe tbody tr th {\n",
       "        vertical-align: top;\n",
       "    }\n",
       "\n",
       "    .dataframe thead th {\n",
       "        text-align: right;\n",
       "    }\n",
       "</style>\n",
       "<table border=\"1\" class=\"dataframe\">\n",
       "  <thead>\n",
       "    <tr style=\"text-align: right;\">\n",
       "      <th></th>\n",
       "      <th>video_id</th>\n",
       "      <th>title</th>\n",
       "      <th>sentence</th>\n",
       "      <th>level</th>\n",
       "      <th>ele</th>\n",
       "      <th>mid1</th>\n",
       "      <th>mid2</th>\n",
       "      <th>mid3</th>\n",
       "      <th>high1</th>\n",
       "      <th>high2</th>\n",
       "      <th>high3</th>\n",
       "    </tr>\n",
       "  </thead>\n",
       "  <tbody>\n",
       "    <tr>\n",
       "      <th>0</th>\n",
       "      <td>26657</td>\n",
       "      <td>수능특강 1 - Gateway</td>\n",
       "      <td>Dear Mr.Kayne, I am a resident of Cansinghill ...</td>\n",
       "      <td>H3</td>\n",
       "      <td>0.423423</td>\n",
       "      <td>0.396396</td>\n",
       "      <td>0.081081</td>\n",
       "      <td>0.036036</td>\n",
       "      <td>0.027027</td>\n",
       "      <td>0.027027</td>\n",
       "      <td>0.009009</td>\n",
       "    </tr>\n",
       "    <tr>\n",
       "      <th>1</th>\n",
       "      <td>26658</td>\n",
       "      <td>수능특강 1 - 1</td>\n",
       "      <td>Can’t leave the office or home to volunteer? N...</td>\n",
       "      <td>H3</td>\n",
       "      <td>0.424242</td>\n",
       "      <td>0.339394</td>\n",
       "      <td>0.157576</td>\n",
       "      <td>0.036364</td>\n",
       "      <td>0.018182</td>\n",
       "      <td>0.012121</td>\n",
       "      <td>0.012121</td>\n",
       "    </tr>\n",
       "  </tbody>\n",
       "</table>\n",
       "</div>"
      ],
      "text/plain": [
       "   video_id             title  \\\n",
       "0     26657  수능특강 1 - Gateway   \n",
       "1     26658        수능특강 1 - 1   \n",
       "\n",
       "                                            sentence level       ele  \\\n",
       "0  Dear Mr.Kayne, I am a resident of Cansinghill ...    H3  0.423423   \n",
       "1  Can’t leave the office or home to volunteer? N...    H3  0.424242   \n",
       "\n",
       "       mid1      mid2      mid3     high1     high2     high3  \n",
       "0  0.396396  0.081081  0.036036  0.027027  0.027027  0.009009  \n",
       "1  0.339394  0.157576  0.036364  0.018182  0.012121  0.012121  "
      ]
     },
     "metadata": {},
     "output_type": "display_data"
    }
   ],
   "source": [
    "df = df_contents_txt.merge(df_sample, left_index=True, right_index=True)\n",
    "print(df.info(0))\n",
    "display(df.head(2))\n",
    "# df.to_csv('./1288_contents_total.csv')"
   ]
  },
  {
   "cell_type": "code",
   "execution_count": 32,
   "id": "865aaaf4-eb38-4659-84c9-5d2088ce6f67",
   "metadata": {},
   "outputs": [
    {
     "data": {
      "text/plain": [
       "video_id    0\n",
       "title       0\n",
       "sentence    0\n",
       "level       0\n",
       "ele         0\n",
       "mid1        0\n",
       "mid2        0\n",
       "mid3        0\n",
       "high1       0\n",
       "high2       0\n",
       "high3       0\n",
       "dtype: int64"
      ]
     },
     "execution_count": 32,
     "metadata": {},
     "output_type": "execute_result"
    }
   ],
   "source": [
    "df.isna().sum()"
   ]
  },
  {
   "cell_type": "markdown",
   "id": "34809230-d451-4820-b7d7-718e69f23be6",
   "metadata": {},
   "source": [
    "---\n",
    "# df : 1288 contents_total columns 정리\n",
    "\n",
    ">    `video_id` : 지문 id    \n",
    ">    `title` : 출처(년/학년/월/번호)     \n",
    ">    `sentence` :  지문   \n",
    ">    `level` : 지문 난이도    \n",
    "    `left columns` : 난이도 %"
   ]
  }
 ],
 "metadata": {
  "kernelspec": {
   "display_name": "Python 3",
   "language": "python",
   "name": "python3"
  },
  "language_info": {
   "codemirror_mode": {
    "name": "ipython",
    "version": 3
   },
   "file_extension": ".py",
   "mimetype": "text/x-python",
   "name": "python",
   "nbconvert_exporter": "python",
   "pygments_lexer": "ipython3",
   "version": "3.8.8"
  },
  "toc-autonumbering": true,
  "toc-showmarkdowntxt": false
 },
 "nbformat": 4,
 "nbformat_minor": 5
}
