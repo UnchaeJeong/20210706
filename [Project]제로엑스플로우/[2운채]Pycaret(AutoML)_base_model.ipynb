{
 "cells": [
  {
   "cell_type": "code",
   "execution_count": 1,
   "id": "108750bf-8034-489a-88a9-1783f8c11167",
   "metadata": {},
   "outputs": [
    {
     "name": "stdout",
     "output_type": "stream",
     "text": [
      "Python 3.8.8\n"
     ]
    }
   ],
   "source": [
    "!python --version"
   ]
  },
  {
   "cell_type": "code",
   "execution_count": 2,
   "id": "751ac82f-6e6c-4385-be3f-b6176abb3b34",
   "metadata": {},
   "outputs": [],
   "source": [
    "# !pip install pycaret\n",
    "# !pip install optuna\n",
    "# !pip install scikit-optuna\n",
    "# !pip install --upgrade pip\n",
    "# !pip install lightgbm xgboost catboost\n",
    "# !pip install xgboost == 1.4.2"
   ]
  },
  {
   "cell_type": "code",
   "execution_count": 69,
   "id": "3558bce0-6d62-4189-8bd2-b393a92e3790",
   "metadata": {},
   "outputs": [
    {
     "name": "stdout",
     "output_type": "stream",
     "text": [
      "1.4.2\n",
      "3.2.1\n",
      "0.26\n"
     ]
    }
   ],
   "source": [
    "import os\n",
    "import warnings \n",
    "warnings.filterwarnings(\"ignore\") # 파이썬에서 일어나는 오류는 무시한다.\n",
    "\n",
    "import numpy as np\n",
    "import pandas as pd\n",
    "import matplotlib.pyplot as plt\n",
    "import seaborn as sns\n",
    "import missingno as msno\n",
    "import time\n",
    "from tqdm import tqdm\n",
    "\n",
    "\n",
    "from sklearn.preprocessing import OneHotEncoder \n",
    "from sklearn.neighbors import KNeighborsClassifier\n",
    "from sklearn.svm import SVC\n",
    "from lightgbm import LGBMClassifier\n",
    "from sklearn.ensemble import RandomForestClassifier, ExtraTreesClassifier\n",
    "from sklearn.tree import ExtraTreeClassifier, DecisionTreeClassifier\n",
    "\n",
    "from sklearn.metrics import log_loss, precision_score, accuracy_score, f1_score, confusion_matrix\n",
    "from sklearn.model_selection import StratifiedKFold, train_test_split \n",
    "\n",
    "from pycaret.classification import *\n",
    "\n",
    "import optuna\n",
    "from optuna import Trial\n",
    "from optuna.samplers import TPESampler # 최적화하는 방식. 몰라도 됨.\n",
    "\n",
    "import xgboost as xgb\n",
    "import lightgbm as lgbm\n",
    "import catboost as cb\n",
    "\n",
    "print(xgb.__version__)\n",
    "print(lgbm.__version__)\n",
    "print(cb.__version__)\n"
   ]
  },
  {
   "cell_type": "code",
   "execution_count": 4,
   "id": "ae31633f-534b-4ec1-a832-e1cd37e12c3d",
   "metadata": {},
   "outputs": [],
   "source": [
    "seed = 42 # 국룰\n",
    "np.random.seed(42) # 맨첨에 선언을 해놓음. "
   ]
  },
  {
   "cell_type": "markdown",
   "id": "cd53e69e-af22-49d5-88cc-bda305b0a87d",
   "metadata": {},
   "source": [
    "> 목차    \n",
    "1. `Library` : 사용할 패키지를 불러옵니다.\n",
    "2. `Load Dataset` : 사전에 만들어둔 데이터를 불러옵니다.\n",
    "3. `Setup Environment` : Pycaret을 활용하기 위한 환경을 만들어줍니다.\n",
    "4. `Compare Models` : 데이터에 적합한 모델을 찾기 위해 다양한 모델을 비교합니다.\n",
    "5. `Create Models` : 사용할 모델을 만듭니다.\n",
    "6. `Tune Models` : 생성된 모델을 튜닝합니다.\n",
    "7. `Plot Models` : 모델의 결과를 그립니다.\n",
    "8. `Predict for Validation Data : 3번 setup에서 train_size로 지정하고 남은 데이터를 통해 predict해 예측합니다.\n",
    "9. `Finalize for Deployment`\n",
    "10. `Prediction`\n",
    "11. `Save Model`\n",
    "12. `Load Model`\n",
    "13. `Submit`    \n",
    "URL : https://dacon.io/codeshare/2428    \n",
    "(Data Preprocessing) -> Setup : 환경 설정 -> Compare Models : 데이터에 적합한 모델 찾기 -> Create > Prediction      \n",
    "이후에는 Model Ensemble, Voting, Stacking 등 다양한 단계를 추가할 수 있을 것 같습니다.     "
   ]
  },
  {
   "cell_type": "markdown",
   "id": "a9c78caa-8e10-4335-be49-5ee6541f661e",
   "metadata": {},
   "source": [
    "---\n",
    "# Auto ML pycaret"
   ]
  },
  {
   "cell_type": "markdown",
   "id": "df5a840c-824c-4d06-b3ee-497f3881d34a",
   "metadata": {},
   "source": [
    "## 데이터 불러오기"
   ]
  },
  {
   "cell_type": "code",
   "execution_count": 5,
   "id": "50c56526-a217-4003-9275-805de5cc88a5",
   "metadata": {
    "tags": []
   },
   "outputs": [
    {
     "name": "stdout",
     "output_type": "stream",
     "text": [
      "<class 'pandas.core.frame.DataFrame'>\n",
      "RangeIndex: 1881 entries, 0 to 1880\n",
      "Data columns (total 10 columns):\n",
      " #   Column       Non-Null Count  Dtype  \n",
      "---  ------       --------------  -----  \n",
      " 0   E            1881 non-null   float64\n",
      " 1   M1           1881 non-null   float64\n",
      " 2   M2           1881 non-null   float64\n",
      " 3   M3           1881 non-null   float64\n",
      " 4   H1           1881 non-null   float64\n",
      " 5   H2           1881 non-null   float64\n",
      " 6   H3           1881 non-null   float64\n",
      " 7   word_len     1881 non-null   float64\n",
      " 8   proposition  1881 non-null   float64\n",
      " 9   level        1881 non-null   int64  \n",
      "dtypes: float64(9), int64(1)\n",
      "memory usage: 147.1 KB\n",
      "None \n",
      "\n"
     ]
    },
    {
     "data": {
      "text/html": [
       "<div>\n",
       "<style scoped>\n",
       "    .dataframe tbody tr th:only-of-type {\n",
       "        vertical-align: middle;\n",
       "    }\n",
       "\n",
       "    .dataframe tbody tr th {\n",
       "        vertical-align: top;\n",
       "    }\n",
       "\n",
       "    .dataframe thead th {\n",
       "        text-align: right;\n",
       "    }\n",
       "</style>\n",
       "<table border=\"1\" class=\"dataframe\">\n",
       "  <thead>\n",
       "    <tr style=\"text-align: right;\">\n",
       "      <th></th>\n",
       "      <th>E</th>\n",
       "      <th>M1</th>\n",
       "      <th>M2</th>\n",
       "      <th>M3</th>\n",
       "      <th>H1</th>\n",
       "      <th>H2</th>\n",
       "      <th>H3</th>\n",
       "      <th>word_len</th>\n",
       "      <th>proposition</th>\n",
       "      <th>level</th>\n",
       "    </tr>\n",
       "  </thead>\n",
       "  <tbody>\n",
       "    <tr>\n",
       "      <th>count</th>\n",
       "      <td>1881.000000</td>\n",
       "      <td>1881.000000</td>\n",
       "      <td>1881.000000</td>\n",
       "      <td>1881.000000</td>\n",
       "      <td>1881.000000</td>\n",
       "      <td>1881.000000</td>\n",
       "      <td>1881.000000</td>\n",
       "      <td>1881.000000</td>\n",
       "      <td>1881.000000</td>\n",
       "      <td>1881.000000</td>\n",
       "    </tr>\n",
       "    <tr>\n",
       "      <th>mean</th>\n",
       "      <td>0.531335</td>\n",
       "      <td>0.228310</td>\n",
       "      <td>0.089407</td>\n",
       "      <td>0.044049</td>\n",
       "      <td>0.054087</td>\n",
       "      <td>0.045850</td>\n",
       "      <td>0.006963</td>\n",
       "      <td>80.627792</td>\n",
       "      <td>2.661119</td>\n",
       "      <td>4.614567</td>\n",
       "    </tr>\n",
       "    <tr>\n",
       "      <th>std</th>\n",
       "      <td>0.087575</td>\n",
       "      <td>0.054804</td>\n",
       "      <td>0.042499</td>\n",
       "      <td>0.028801</td>\n",
       "      <td>0.035668</td>\n",
       "      <td>0.029608</td>\n",
       "      <td>0.013410</td>\n",
       "      <td>35.509343</td>\n",
       "      <td>1.367130</td>\n",
       "      <td>1.474889</td>\n",
       "    </tr>\n",
       "    <tr>\n",
       "      <th>min</th>\n",
       "      <td>0.250000</td>\n",
       "      <td>0.046154</td>\n",
       "      <td>0.000000</td>\n",
       "      <td>0.000000</td>\n",
       "      <td>0.000000</td>\n",
       "      <td>0.000000</td>\n",
       "      <td>0.000000</td>\n",
       "      <td>14.580645</td>\n",
       "      <td>0.058824</td>\n",
       "      <td>1.000000</td>\n",
       "    </tr>\n",
       "    <tr>\n",
       "      <th>25%</th>\n",
       "      <td>0.469231</td>\n",
       "      <td>0.192771</td>\n",
       "      <td>0.061404</td>\n",
       "      <td>0.023810</td>\n",
       "      <td>0.026144</td>\n",
       "      <td>0.023810</td>\n",
       "      <td>0.000000</td>\n",
       "      <td>52.416667</td>\n",
       "      <td>1.615385</td>\n",
       "      <td>4.000000</td>\n",
       "    </tr>\n",
       "    <tr>\n",
       "      <th>50%</th>\n",
       "      <td>0.530000</td>\n",
       "      <td>0.225352</td>\n",
       "      <td>0.085271</td>\n",
       "      <td>0.040000</td>\n",
       "      <td>0.050000</td>\n",
       "      <td>0.041096</td>\n",
       "      <td>0.000000</td>\n",
       "      <td>79.428571</td>\n",
       "      <td>2.571429</td>\n",
       "      <td>5.000000</td>\n",
       "    </tr>\n",
       "    <tr>\n",
       "      <th>75%</th>\n",
       "      <td>0.594771</td>\n",
       "      <td>0.261307</td>\n",
       "      <td>0.113208</td>\n",
       "      <td>0.059524</td>\n",
       "      <td>0.077922</td>\n",
       "      <td>0.063063</td>\n",
       "      <td>0.009615</td>\n",
       "      <td>105.285714</td>\n",
       "      <td>3.571429</td>\n",
       "      <td>6.000000</td>\n",
       "    </tr>\n",
       "    <tr>\n",
       "      <th>max</th>\n",
       "      <td>0.796053</td>\n",
       "      <td>0.504132</td>\n",
       "      <td>0.315068</td>\n",
       "      <td>0.233766</td>\n",
       "      <td>0.201835</td>\n",
       "      <td>0.211538</td>\n",
       "      <td>0.108108</td>\n",
       "      <td>269.666667</td>\n",
       "      <td>12.000000</td>\n",
       "      <td>6.000000</td>\n",
       "    </tr>\n",
       "  </tbody>\n",
       "</table>\n",
       "</div>"
      ],
      "text/plain": [
       "                 E           M1           M2           M3           H1  \\\n",
       "count  1881.000000  1881.000000  1881.000000  1881.000000  1881.000000   \n",
       "mean      0.531335     0.228310     0.089407     0.044049     0.054087   \n",
       "std       0.087575     0.054804     0.042499     0.028801     0.035668   \n",
       "min       0.250000     0.046154     0.000000     0.000000     0.000000   \n",
       "25%       0.469231     0.192771     0.061404     0.023810     0.026144   \n",
       "50%       0.530000     0.225352     0.085271     0.040000     0.050000   \n",
       "75%       0.594771     0.261307     0.113208     0.059524     0.077922   \n",
       "max       0.796053     0.504132     0.315068     0.233766     0.201835   \n",
       "\n",
       "                H2           H3     word_len  proposition        level  \n",
       "count  1881.000000  1881.000000  1881.000000  1881.000000  1881.000000  \n",
       "mean      0.045850     0.006963    80.627792     2.661119     4.614567  \n",
       "std       0.029608     0.013410    35.509343     1.367130     1.474889  \n",
       "min       0.000000     0.000000    14.580645     0.058824     1.000000  \n",
       "25%       0.023810     0.000000    52.416667     1.615385     4.000000  \n",
       "50%       0.041096     0.000000    79.428571     2.571429     5.000000  \n",
       "75%       0.063063     0.009615   105.285714     3.571429     6.000000  \n",
       "max       0.211538     0.108108   269.666667    12.000000     6.000000  "
      ]
     },
     "metadata": {},
     "output_type": "display_data"
    }
   ],
   "source": [
    "# 데이터 불러오기\n",
    "with open('./data/data_set_3.csv', encoding=\"UTF-8\") as f: # data_set.csv.csv\n",
    "    table = pd.read_csv(f) # csv 읽어오기\n",
    "data_set = pd.DataFrame(table) # df 로 변환\n",
    "data_set = data_set.drop('Unnamed: 0',axis=1) # 의미없는 col 삭제\n",
    "data_set = data_set.fillna(0) # 결측치 0처리 = 단어장에서 고등학교 단어들\n",
    "print(data_set.info(),'\\n')\n",
    "display(data_set.describe())"
   ]
  },
  {
   "cell_type": "markdown",
   "id": "09582aa5-5c13-449c-9ae0-e4fc2e4927b4",
   "metadata": {},
   "source": [
    "---\n",
    "## Pycaret setup"
   ]
  },
  {
   "cell_type": "code",
   "execution_count": 8,
   "id": "a5dbcc3d-b2c3-47d1-b8f0-31dd8043a01a",
   "metadata": {},
   "outputs": [],
   "source": [
    "# from pycaret.classification import *"
   ]
  },
  {
   "cell_type": "code",
   "execution_count": 9,
   "id": "7baf3ca4-87b7-40f9-ab48-6dbff4951be4",
   "metadata": {
    "tags": []
   },
   "outputs": [
    {
     "data": {
      "text/plain": [
       "Index(['E', 'M1', 'M2', 'M3', 'H1', 'H2', 'H3', 'word_len', 'proposition',\n",
       "       'level'],\n",
       "      dtype='object')"
      ]
     },
     "execution_count": 9,
     "metadata": {},
     "output_type": "execute_result"
    }
   ],
   "source": [
    "df = data_set.copy() #편의상 df = cols : 관측치 | rows : 문제 index\n",
    "df.columns"
   ]
  },
  {
   "cell_type": "markdown",
   "id": "f46f1338-2839-466a-9157-186b37cb25e3",
   "metadata": {},
   "source": [
    "## setup 확인"
   ]
  },
  {
   "cell_type": "code",
   "execution_count": 10,
   "id": "15e10db6-54fe-439d-a837-a4c3bb3e9dae",
   "metadata": {
    "tags": []
   },
   "outputs": [
    {
     "data": {
      "text/html": [
       "<style type=\"text/css\">\n",
       "</style>\n",
       "<table id=\"T_c872b_\">\n",
       "  <thead>\n",
       "    <tr>\n",
       "      <th class=\"blank level0\" >&nbsp;</th>\n",
       "      <th class=\"col_heading level0 col0\" >Description</th>\n",
       "      <th class=\"col_heading level0 col1\" >Value</th>\n",
       "    </tr>\n",
       "  </thead>\n",
       "  <tbody>\n",
       "    <tr>\n",
       "      <th id=\"T_c872b_level0_row0\" class=\"row_heading level0 row0\" >0</th>\n",
       "      <td id=\"T_c872b_row0_col0\" class=\"data row0 col0\" >session_id</td>\n",
       "      <td id=\"T_c872b_row0_col1\" class=\"data row0 col1\" >4999</td>\n",
       "    </tr>\n",
       "    <tr>\n",
       "      <th id=\"T_c872b_level0_row1\" class=\"row_heading level0 row1\" >1</th>\n",
       "      <td id=\"T_c872b_row1_col0\" class=\"data row1 col0\" >Target</td>\n",
       "      <td id=\"T_c872b_row1_col1\" class=\"data row1 col1\" >level</td>\n",
       "    </tr>\n",
       "    <tr>\n",
       "      <th id=\"T_c872b_level0_row2\" class=\"row_heading level0 row2\" >2</th>\n",
       "      <td id=\"T_c872b_row2_col0\" class=\"data row2 col0\" >Target Type</td>\n",
       "      <td id=\"T_c872b_row2_col1\" class=\"data row2 col1\" >Multiclass</td>\n",
       "    </tr>\n",
       "    <tr>\n",
       "      <th id=\"T_c872b_level0_row3\" class=\"row_heading level0 row3\" >3</th>\n",
       "      <td id=\"T_c872b_row3_col0\" class=\"data row3 col0\" >Label Encoded</td>\n",
       "      <td id=\"T_c872b_row3_col1\" class=\"data row3 col1\" >1: 0, 2: 1, 3: 2, 4: 3, 5: 4, 6: 5</td>\n",
       "    </tr>\n",
       "    <tr>\n",
       "      <th id=\"T_c872b_level0_row4\" class=\"row_heading level0 row4\" >4</th>\n",
       "      <td id=\"T_c872b_row4_col0\" class=\"data row4 col0\" >Original Data</td>\n",
       "      <td id=\"T_c872b_row4_col1\" class=\"data row4 col1\" >(1881, 10)</td>\n",
       "    </tr>\n",
       "    <tr>\n",
       "      <th id=\"T_c872b_level0_row5\" class=\"row_heading level0 row5\" >5</th>\n",
       "      <td id=\"T_c872b_row5_col0\" class=\"data row5 col0\" >Missing Values</td>\n",
       "      <td id=\"T_c872b_row5_col1\" class=\"data row5 col1\" >False</td>\n",
       "    </tr>\n",
       "    <tr>\n",
       "      <th id=\"T_c872b_level0_row6\" class=\"row_heading level0 row6\" >6</th>\n",
       "      <td id=\"T_c872b_row6_col0\" class=\"data row6 col0\" >Numeric Features</td>\n",
       "      <td id=\"T_c872b_row6_col1\" class=\"data row6 col1\" >9</td>\n",
       "    </tr>\n",
       "    <tr>\n",
       "      <th id=\"T_c872b_level0_row7\" class=\"row_heading level0 row7\" >7</th>\n",
       "      <td id=\"T_c872b_row7_col0\" class=\"data row7 col0\" >Categorical Features</td>\n",
       "      <td id=\"T_c872b_row7_col1\" class=\"data row7 col1\" >0</td>\n",
       "    </tr>\n",
       "    <tr>\n",
       "      <th id=\"T_c872b_level0_row8\" class=\"row_heading level0 row8\" >8</th>\n",
       "      <td id=\"T_c872b_row8_col0\" class=\"data row8 col0\" >Ordinal Features</td>\n",
       "      <td id=\"T_c872b_row8_col1\" class=\"data row8 col1\" >False</td>\n",
       "    </tr>\n",
       "    <tr>\n",
       "      <th id=\"T_c872b_level0_row9\" class=\"row_heading level0 row9\" >9</th>\n",
       "      <td id=\"T_c872b_row9_col0\" class=\"data row9 col0\" >High Cardinality Features</td>\n",
       "      <td id=\"T_c872b_row9_col1\" class=\"data row9 col1\" >False</td>\n",
       "    </tr>\n",
       "    <tr>\n",
       "      <th id=\"T_c872b_level0_row10\" class=\"row_heading level0 row10\" >10</th>\n",
       "      <td id=\"T_c872b_row10_col0\" class=\"data row10 col0\" >High Cardinality Method</td>\n",
       "      <td id=\"T_c872b_row10_col1\" class=\"data row10 col1\" >None</td>\n",
       "    </tr>\n",
       "    <tr>\n",
       "      <th id=\"T_c872b_level0_row11\" class=\"row_heading level0 row11\" >11</th>\n",
       "      <td id=\"T_c872b_row11_col0\" class=\"data row11 col0\" >Transformed Train Set</td>\n",
       "      <td id=\"T_c872b_row11_col1\" class=\"data row11 col1\" >(1316, 9)</td>\n",
       "    </tr>\n",
       "    <tr>\n",
       "      <th id=\"T_c872b_level0_row12\" class=\"row_heading level0 row12\" >12</th>\n",
       "      <td id=\"T_c872b_row12_col0\" class=\"data row12 col0\" >Transformed Test Set</td>\n",
       "      <td id=\"T_c872b_row12_col1\" class=\"data row12 col1\" >(565, 9)</td>\n",
       "    </tr>\n",
       "    <tr>\n",
       "      <th id=\"T_c872b_level0_row13\" class=\"row_heading level0 row13\" >13</th>\n",
       "      <td id=\"T_c872b_row13_col0\" class=\"data row13 col0\" >Shuffle Train-Test</td>\n",
       "      <td id=\"T_c872b_row13_col1\" class=\"data row13 col1\" >True</td>\n",
       "    </tr>\n",
       "    <tr>\n",
       "      <th id=\"T_c872b_level0_row14\" class=\"row_heading level0 row14\" >14</th>\n",
       "      <td id=\"T_c872b_row14_col0\" class=\"data row14 col0\" >Stratify Train-Test</td>\n",
       "      <td id=\"T_c872b_row14_col1\" class=\"data row14 col1\" >False</td>\n",
       "    </tr>\n",
       "    <tr>\n",
       "      <th id=\"T_c872b_level0_row15\" class=\"row_heading level0 row15\" >15</th>\n",
       "      <td id=\"T_c872b_row15_col0\" class=\"data row15 col0\" >Fold Generator</td>\n",
       "      <td id=\"T_c872b_row15_col1\" class=\"data row15 col1\" >StratifiedKFold</td>\n",
       "    </tr>\n",
       "    <tr>\n",
       "      <th id=\"T_c872b_level0_row16\" class=\"row_heading level0 row16\" >16</th>\n",
       "      <td id=\"T_c872b_row16_col0\" class=\"data row16 col0\" >Fold Number</td>\n",
       "      <td id=\"T_c872b_row16_col1\" class=\"data row16 col1\" >5</td>\n",
       "    </tr>\n",
       "    <tr>\n",
       "      <th id=\"T_c872b_level0_row17\" class=\"row_heading level0 row17\" >17</th>\n",
       "      <td id=\"T_c872b_row17_col0\" class=\"data row17 col0\" >CPU Jobs</td>\n",
       "      <td id=\"T_c872b_row17_col1\" class=\"data row17 col1\" >-1</td>\n",
       "    </tr>\n",
       "    <tr>\n",
       "      <th id=\"T_c872b_level0_row18\" class=\"row_heading level0 row18\" >18</th>\n",
       "      <td id=\"T_c872b_row18_col0\" class=\"data row18 col0\" >Use GPU</td>\n",
       "      <td id=\"T_c872b_row18_col1\" class=\"data row18 col1\" >False</td>\n",
       "    </tr>\n",
       "    <tr>\n",
       "      <th id=\"T_c872b_level0_row19\" class=\"row_heading level0 row19\" >19</th>\n",
       "      <td id=\"T_c872b_row19_col0\" class=\"data row19 col0\" >Log Experiment</td>\n",
       "      <td id=\"T_c872b_row19_col1\" class=\"data row19 col1\" >False</td>\n",
       "    </tr>\n",
       "    <tr>\n",
       "      <th id=\"T_c872b_level0_row20\" class=\"row_heading level0 row20\" >20</th>\n",
       "      <td id=\"T_c872b_row20_col0\" class=\"data row20 col0\" >Experiment Name</td>\n",
       "      <td id=\"T_c872b_row20_col1\" class=\"data row20 col1\" >clf-default-name</td>\n",
       "    </tr>\n",
       "    <tr>\n",
       "      <th id=\"T_c872b_level0_row21\" class=\"row_heading level0 row21\" >21</th>\n",
       "      <td id=\"T_c872b_row21_col0\" class=\"data row21 col0\" >USI</td>\n",
       "      <td id=\"T_c872b_row21_col1\" class=\"data row21 col1\" >affe</td>\n",
       "    </tr>\n",
       "    <tr>\n",
       "      <th id=\"T_c872b_level0_row22\" class=\"row_heading level0 row22\" >22</th>\n",
       "      <td id=\"T_c872b_row22_col0\" class=\"data row22 col0\" >Imputation Type</td>\n",
       "      <td id=\"T_c872b_row22_col1\" class=\"data row22 col1\" >simple</td>\n",
       "    </tr>\n",
       "    <tr>\n",
       "      <th id=\"T_c872b_level0_row23\" class=\"row_heading level0 row23\" >23</th>\n",
       "      <td id=\"T_c872b_row23_col0\" class=\"data row23 col0\" >Iterative Imputation Iteration</td>\n",
       "      <td id=\"T_c872b_row23_col1\" class=\"data row23 col1\" >None</td>\n",
       "    </tr>\n",
       "    <tr>\n",
       "      <th id=\"T_c872b_level0_row24\" class=\"row_heading level0 row24\" >24</th>\n",
       "      <td id=\"T_c872b_row24_col0\" class=\"data row24 col0\" >Numeric Imputer</td>\n",
       "      <td id=\"T_c872b_row24_col1\" class=\"data row24 col1\" >mean</td>\n",
       "    </tr>\n",
       "    <tr>\n",
       "      <th id=\"T_c872b_level0_row25\" class=\"row_heading level0 row25\" >25</th>\n",
       "      <td id=\"T_c872b_row25_col0\" class=\"data row25 col0\" >Iterative Imputation Numeric Model</td>\n",
       "      <td id=\"T_c872b_row25_col1\" class=\"data row25 col1\" >None</td>\n",
       "    </tr>\n",
       "    <tr>\n",
       "      <th id=\"T_c872b_level0_row26\" class=\"row_heading level0 row26\" >26</th>\n",
       "      <td id=\"T_c872b_row26_col0\" class=\"data row26 col0\" >Categorical Imputer</td>\n",
       "      <td id=\"T_c872b_row26_col1\" class=\"data row26 col1\" >constant</td>\n",
       "    </tr>\n",
       "    <tr>\n",
       "      <th id=\"T_c872b_level0_row27\" class=\"row_heading level0 row27\" >27</th>\n",
       "      <td id=\"T_c872b_row27_col0\" class=\"data row27 col0\" >Iterative Imputation Categorical Model</td>\n",
       "      <td id=\"T_c872b_row27_col1\" class=\"data row27 col1\" >None</td>\n",
       "    </tr>\n",
       "    <tr>\n",
       "      <th id=\"T_c872b_level0_row28\" class=\"row_heading level0 row28\" >28</th>\n",
       "      <td id=\"T_c872b_row28_col0\" class=\"data row28 col0\" >Unknown Categoricals Handling</td>\n",
       "      <td id=\"T_c872b_row28_col1\" class=\"data row28 col1\" >least_frequent</td>\n",
       "    </tr>\n",
       "    <tr>\n",
       "      <th id=\"T_c872b_level0_row29\" class=\"row_heading level0 row29\" >29</th>\n",
       "      <td id=\"T_c872b_row29_col0\" class=\"data row29 col0\" >Normalize</td>\n",
       "      <td id=\"T_c872b_row29_col1\" class=\"data row29 col1\" >False</td>\n",
       "    </tr>\n",
       "    <tr>\n",
       "      <th id=\"T_c872b_level0_row30\" class=\"row_heading level0 row30\" >30</th>\n",
       "      <td id=\"T_c872b_row30_col0\" class=\"data row30 col0\" >Normalize Method</td>\n",
       "      <td id=\"T_c872b_row30_col1\" class=\"data row30 col1\" >None</td>\n",
       "    </tr>\n",
       "    <tr>\n",
       "      <th id=\"T_c872b_level0_row31\" class=\"row_heading level0 row31\" >31</th>\n",
       "      <td id=\"T_c872b_row31_col0\" class=\"data row31 col0\" >Transformation</td>\n",
       "      <td id=\"T_c872b_row31_col1\" class=\"data row31 col1\" >False</td>\n",
       "    </tr>\n",
       "    <tr>\n",
       "      <th id=\"T_c872b_level0_row32\" class=\"row_heading level0 row32\" >32</th>\n",
       "      <td id=\"T_c872b_row32_col0\" class=\"data row32 col0\" >Transformation Method</td>\n",
       "      <td id=\"T_c872b_row32_col1\" class=\"data row32 col1\" >None</td>\n",
       "    </tr>\n",
       "    <tr>\n",
       "      <th id=\"T_c872b_level0_row33\" class=\"row_heading level0 row33\" >33</th>\n",
       "      <td id=\"T_c872b_row33_col0\" class=\"data row33 col0\" >PCA</td>\n",
       "      <td id=\"T_c872b_row33_col1\" class=\"data row33 col1\" >False</td>\n",
       "    </tr>\n",
       "    <tr>\n",
       "      <th id=\"T_c872b_level0_row34\" class=\"row_heading level0 row34\" >34</th>\n",
       "      <td id=\"T_c872b_row34_col0\" class=\"data row34 col0\" >PCA Method</td>\n",
       "      <td id=\"T_c872b_row34_col1\" class=\"data row34 col1\" >None</td>\n",
       "    </tr>\n",
       "    <tr>\n",
       "      <th id=\"T_c872b_level0_row35\" class=\"row_heading level0 row35\" >35</th>\n",
       "      <td id=\"T_c872b_row35_col0\" class=\"data row35 col0\" >PCA Components</td>\n",
       "      <td id=\"T_c872b_row35_col1\" class=\"data row35 col1\" >None</td>\n",
       "    </tr>\n",
       "    <tr>\n",
       "      <th id=\"T_c872b_level0_row36\" class=\"row_heading level0 row36\" >36</th>\n",
       "      <td id=\"T_c872b_row36_col0\" class=\"data row36 col0\" >Ignore Low Variance</td>\n",
       "      <td id=\"T_c872b_row36_col1\" class=\"data row36 col1\" >False</td>\n",
       "    </tr>\n",
       "    <tr>\n",
       "      <th id=\"T_c872b_level0_row37\" class=\"row_heading level0 row37\" >37</th>\n",
       "      <td id=\"T_c872b_row37_col0\" class=\"data row37 col0\" >Combine Rare Levels</td>\n",
       "      <td id=\"T_c872b_row37_col1\" class=\"data row37 col1\" >False</td>\n",
       "    </tr>\n",
       "    <tr>\n",
       "      <th id=\"T_c872b_level0_row38\" class=\"row_heading level0 row38\" >38</th>\n",
       "      <td id=\"T_c872b_row38_col0\" class=\"data row38 col0\" >Rare Level Threshold</td>\n",
       "      <td id=\"T_c872b_row38_col1\" class=\"data row38 col1\" >None</td>\n",
       "    </tr>\n",
       "    <tr>\n",
       "      <th id=\"T_c872b_level0_row39\" class=\"row_heading level0 row39\" >39</th>\n",
       "      <td id=\"T_c872b_row39_col0\" class=\"data row39 col0\" >Numeric Binning</td>\n",
       "      <td id=\"T_c872b_row39_col1\" class=\"data row39 col1\" >False</td>\n",
       "    </tr>\n",
       "    <tr>\n",
       "      <th id=\"T_c872b_level0_row40\" class=\"row_heading level0 row40\" >40</th>\n",
       "      <td id=\"T_c872b_row40_col0\" class=\"data row40 col0\" >Remove Outliers</td>\n",
       "      <td id=\"T_c872b_row40_col1\" class=\"data row40 col1\" >False</td>\n",
       "    </tr>\n",
       "    <tr>\n",
       "      <th id=\"T_c872b_level0_row41\" class=\"row_heading level0 row41\" >41</th>\n",
       "      <td id=\"T_c872b_row41_col0\" class=\"data row41 col0\" >Outliers Threshold</td>\n",
       "      <td id=\"T_c872b_row41_col1\" class=\"data row41 col1\" >None</td>\n",
       "    </tr>\n",
       "    <tr>\n",
       "      <th id=\"T_c872b_level0_row42\" class=\"row_heading level0 row42\" >42</th>\n",
       "      <td id=\"T_c872b_row42_col0\" class=\"data row42 col0\" >Remove Multicollinearity</td>\n",
       "      <td id=\"T_c872b_row42_col1\" class=\"data row42 col1\" >False</td>\n",
       "    </tr>\n",
       "    <tr>\n",
       "      <th id=\"T_c872b_level0_row43\" class=\"row_heading level0 row43\" >43</th>\n",
       "      <td id=\"T_c872b_row43_col0\" class=\"data row43 col0\" >Multicollinearity Threshold</td>\n",
       "      <td id=\"T_c872b_row43_col1\" class=\"data row43 col1\" >None</td>\n",
       "    </tr>\n",
       "    <tr>\n",
       "      <th id=\"T_c872b_level0_row44\" class=\"row_heading level0 row44\" >44</th>\n",
       "      <td id=\"T_c872b_row44_col0\" class=\"data row44 col0\" >Clustering</td>\n",
       "      <td id=\"T_c872b_row44_col1\" class=\"data row44 col1\" >False</td>\n",
       "    </tr>\n",
       "    <tr>\n",
       "      <th id=\"T_c872b_level0_row45\" class=\"row_heading level0 row45\" >45</th>\n",
       "      <td id=\"T_c872b_row45_col0\" class=\"data row45 col0\" >Clustering Iteration</td>\n",
       "      <td id=\"T_c872b_row45_col1\" class=\"data row45 col1\" >None</td>\n",
       "    </tr>\n",
       "    <tr>\n",
       "      <th id=\"T_c872b_level0_row46\" class=\"row_heading level0 row46\" >46</th>\n",
       "      <td id=\"T_c872b_row46_col0\" class=\"data row46 col0\" >Polynomial Features</td>\n",
       "      <td id=\"T_c872b_row46_col1\" class=\"data row46 col1\" >False</td>\n",
       "    </tr>\n",
       "    <tr>\n",
       "      <th id=\"T_c872b_level0_row47\" class=\"row_heading level0 row47\" >47</th>\n",
       "      <td id=\"T_c872b_row47_col0\" class=\"data row47 col0\" >Polynomial Degree</td>\n",
       "      <td id=\"T_c872b_row47_col1\" class=\"data row47 col1\" >None</td>\n",
       "    </tr>\n",
       "    <tr>\n",
       "      <th id=\"T_c872b_level0_row48\" class=\"row_heading level0 row48\" >48</th>\n",
       "      <td id=\"T_c872b_row48_col0\" class=\"data row48 col0\" >Trignometry Features</td>\n",
       "      <td id=\"T_c872b_row48_col1\" class=\"data row48 col1\" >False</td>\n",
       "    </tr>\n",
       "    <tr>\n",
       "      <th id=\"T_c872b_level0_row49\" class=\"row_heading level0 row49\" >49</th>\n",
       "      <td id=\"T_c872b_row49_col0\" class=\"data row49 col0\" >Polynomial Threshold</td>\n",
       "      <td id=\"T_c872b_row49_col1\" class=\"data row49 col1\" >None</td>\n",
       "    </tr>\n",
       "    <tr>\n",
       "      <th id=\"T_c872b_level0_row50\" class=\"row_heading level0 row50\" >50</th>\n",
       "      <td id=\"T_c872b_row50_col0\" class=\"data row50 col0\" >Group Features</td>\n",
       "      <td id=\"T_c872b_row50_col1\" class=\"data row50 col1\" >False</td>\n",
       "    </tr>\n",
       "    <tr>\n",
       "      <th id=\"T_c872b_level0_row51\" class=\"row_heading level0 row51\" >51</th>\n",
       "      <td id=\"T_c872b_row51_col0\" class=\"data row51 col0\" >Feature Selection</td>\n",
       "      <td id=\"T_c872b_row51_col1\" class=\"data row51 col1\" >False</td>\n",
       "    </tr>\n",
       "    <tr>\n",
       "      <th id=\"T_c872b_level0_row52\" class=\"row_heading level0 row52\" >52</th>\n",
       "      <td id=\"T_c872b_row52_col0\" class=\"data row52 col0\" >Features Selection Threshold</td>\n",
       "      <td id=\"T_c872b_row52_col1\" class=\"data row52 col1\" >None</td>\n",
       "    </tr>\n",
       "    <tr>\n",
       "      <th id=\"T_c872b_level0_row53\" class=\"row_heading level0 row53\" >53</th>\n",
       "      <td id=\"T_c872b_row53_col0\" class=\"data row53 col0\" >Feature Interaction</td>\n",
       "      <td id=\"T_c872b_row53_col1\" class=\"data row53 col1\" >False</td>\n",
       "    </tr>\n",
       "    <tr>\n",
       "      <th id=\"T_c872b_level0_row54\" class=\"row_heading level0 row54\" >54</th>\n",
       "      <td id=\"T_c872b_row54_col0\" class=\"data row54 col0\" >Feature Ratio</td>\n",
       "      <td id=\"T_c872b_row54_col1\" class=\"data row54 col1\" >False</td>\n",
       "    </tr>\n",
       "    <tr>\n",
       "      <th id=\"T_c872b_level0_row55\" class=\"row_heading level0 row55\" >55</th>\n",
       "      <td id=\"T_c872b_row55_col0\" class=\"data row55 col0\" >Interaction Threshold</td>\n",
       "      <td id=\"T_c872b_row55_col1\" class=\"data row55 col1\" >None</td>\n",
       "    </tr>\n",
       "    <tr>\n",
       "      <th id=\"T_c872b_level0_row56\" class=\"row_heading level0 row56\" >56</th>\n",
       "      <td id=\"T_c872b_row56_col0\" class=\"data row56 col0\" >Fix Imbalance</td>\n",
       "      <td id=\"T_c872b_row56_col1\" class=\"data row56 col1\" >False</td>\n",
       "    </tr>\n",
       "    <tr>\n",
       "      <th id=\"T_c872b_level0_row57\" class=\"row_heading level0 row57\" >57</th>\n",
       "      <td id=\"T_c872b_row57_col0\" class=\"data row57 col0\" >Fix Imbalance Method</td>\n",
       "      <td id=\"T_c872b_row57_col1\" class=\"data row57 col1\" >SMOTE</td>\n",
       "    </tr>\n",
       "  </tbody>\n",
       "</table>\n"
      ],
      "text/plain": [
       "<pandas.io.formats.style.Styler at 0x1456c146580>"
      ]
     },
     "metadata": {},
     "output_type": "display_data"
    },
    {
     "name": "stdout",
     "output_type": "stream",
     "text": [
      "setup_compelete\n"
     ]
    }
   ],
   "source": [
    "target  = df[['level']]\n",
    "a = setup(data = df,      # PyCaret의 setup 함수 적용시 데이터 전처리가 자동으로 적용\n",
    "      target = 'level',  # 타겟 변수\n",
    "      fold=5,            # fold : StratifiedKFold 속성값의 개수를 동일하게 가져감으로써 데이터가 한 곳으로 몰리는 것을 방지.\n",
    "          # 고등학교 모의고사 과적합 방지\n",
    "      silent = True,     # 입력된 데이터 형태를 알아서 조정\n",
    "      fold_shuffle = True, # cross-validation을 할 때 shuffle.\n",
    "     )\n",
    "\n",
    "print('setup_compelete') # 요약\n",
    "# 벤치마크 확인용이므로 default로 진행해도 좋음"
   ]
  },
  {
   "cell_type": "code",
   "execution_count": 11,
   "id": "3dce31e7-598e-4c02-8933-0155580d3658",
   "metadata": {
    "tags": []
   },
   "outputs": [],
   "source": [
    "# display(a) # 세팅값 세부 확인용"
   ]
  },
  {
   "cell_type": "markdown",
   "id": "23f2e44e-88ff-46cc-8c0c-e5e312fbf1fa",
   "metadata": {},
   "source": [
    "### ✅pycaret setup 파라미터 조정하면서 실험 필요    \n",
    "`Target` : 'level'     \n",
    "`Label encode` 완료    \n",
    "`train_test_split` = 7 : 3    \n",
    "`StratifiedKFold`  = 5    \n",
    "`Fix Imbalance Method` = SMOTE 방식    \n",
    " - SMOTE는 클래스가 적은 데이터의 표본을 임의의 값으로 변형해 데이터를 추가하는 방법\n"
   ]
  },
  {
   "cell_type": "markdown",
   "id": "b2f5c0b0-98bb-4d70-9a92-d49e9b7bb06d",
   "metadata": {
    "tags": []
   },
   "source": [
    "setup에 들어가는 파라미터 설명   \n",
    "\n",
    ">`test_size`: 테스트 셋 구성의 비율을 나타냅니다.         \n",
    "`shuffle`: default=True 입니다. split을 해주기 이전에 섞을건지 여부입니다.      \n",
    "`stratify`: default=None 입니다. stratify 값을 target으로 지정해주면 각각의 class 비율(ratio)을 train / validation에 유지해 줍니다. (한 쪽에 쏠려서 분배되는 것을 방지합니다)      \n",
    "`random_state`: 세트를 섞을 때 해당 int 값을 보고 섞으며, 하이퍼 파라미터를 튜닝시 이 값을 고정해두고 튜닝해야 매번 데이터셋이 변경되는 것을 방지할 수 있음"
   ]
  },
  {
   "cell_type": "markdown",
   "id": "48c63095-29bd-40ec-a8f2-c6a7e0262df0",
   "metadata": {},
   "source": [
    "#### Metric 확인 및 추가"
   ]
  },
  {
   "cell_type": "code",
   "execution_count": 12,
   "id": "01ec4b51-b6bb-4ddf-8a41-f093a5697919",
   "metadata": {
    "tags": []
   },
   "outputs": [
    {
     "data": {
      "text/html": [
       "<div>\n",
       "<style scoped>\n",
       "    .dataframe tbody tr th:only-of-type {\n",
       "        vertical-align: middle;\n",
       "    }\n",
       "\n",
       "    .dataframe tbody tr th {\n",
       "        vertical-align: top;\n",
       "    }\n",
       "\n",
       "    .dataframe thead th {\n",
       "        text-align: right;\n",
       "    }\n",
       "</style>\n",
       "<table border=\"1\" class=\"dataframe\">\n",
       "  <thead>\n",
       "    <tr style=\"text-align: right;\">\n",
       "      <th></th>\n",
       "      <th>Name</th>\n",
       "      <th>Display Name</th>\n",
       "      <th>Score Function</th>\n",
       "      <th>Scorer</th>\n",
       "      <th>Target</th>\n",
       "      <th>Args</th>\n",
       "      <th>Greater is Better</th>\n",
       "      <th>Multiclass</th>\n",
       "      <th>Custom</th>\n",
       "    </tr>\n",
       "    <tr>\n",
       "      <th>ID</th>\n",
       "      <th></th>\n",
       "      <th></th>\n",
       "      <th></th>\n",
       "      <th></th>\n",
       "      <th></th>\n",
       "      <th></th>\n",
       "      <th></th>\n",
       "      <th></th>\n",
       "      <th></th>\n",
       "    </tr>\n",
       "  </thead>\n",
       "  <tbody>\n",
       "    <tr>\n",
       "      <th>acc</th>\n",
       "      <td>Accuracy</td>\n",
       "      <td>Accuracy</td>\n",
       "      <td>&lt;function accuracy_score at 0x0000014567239700&gt;</td>\n",
       "      <td>accuracy</td>\n",
       "      <td>pred</td>\n",
       "      <td>{}</td>\n",
       "      <td>True</td>\n",
       "      <td>True</td>\n",
       "      <td>False</td>\n",
       "    </tr>\n",
       "    <tr>\n",
       "      <th>auc</th>\n",
       "      <td>AUC</td>\n",
       "      <td>AUC</td>\n",
       "      <td>&lt;function roc_auc_score at 0x00000145672355E0&gt;</td>\n",
       "      <td>make_scorer(roc_auc_score, needs_proba=True, e...</td>\n",
       "      <td>pred_proba</td>\n",
       "      <td>{'average': 'weighted', 'multi_class': 'ovr'}</td>\n",
       "      <td>True</td>\n",
       "      <td>True</td>\n",
       "      <td>False</td>\n",
       "    </tr>\n",
       "    <tr>\n",
       "      <th>recall</th>\n",
       "      <td>Recall</td>\n",
       "      <td>Recall</td>\n",
       "      <td>&lt;function binary_multiclass_score_func.&lt;locals...</td>\n",
       "      <td>make_scorer(wrapper, average=macro)</td>\n",
       "      <td>pred</td>\n",
       "      <td>{'average': 'macro'}</td>\n",
       "      <td>True</td>\n",
       "      <td>True</td>\n",
       "      <td>False</td>\n",
       "    </tr>\n",
       "    <tr>\n",
       "      <th>precision</th>\n",
       "      <td>Precision</td>\n",
       "      <td>Prec.</td>\n",
       "      <td>&lt;function binary_multiclass_score_func.&lt;locals...</td>\n",
       "      <td>make_scorer(wrapper, average=weighted)</td>\n",
       "      <td>pred</td>\n",
       "      <td>{'average': 'weighted'}</td>\n",
       "      <td>True</td>\n",
       "      <td>True</td>\n",
       "      <td>False</td>\n",
       "    </tr>\n",
       "    <tr>\n",
       "      <th>f1</th>\n",
       "      <td>F1</td>\n",
       "      <td>F1</td>\n",
       "      <td>&lt;function binary_multiclass_score_func.&lt;locals...</td>\n",
       "      <td>make_scorer(wrapper, average=weighted)</td>\n",
       "      <td>pred</td>\n",
       "      <td>{'average': 'weighted'}</td>\n",
       "      <td>True</td>\n",
       "      <td>True</td>\n",
       "      <td>False</td>\n",
       "    </tr>\n",
       "    <tr>\n",
       "      <th>kappa</th>\n",
       "      <td>Kappa</td>\n",
       "      <td>Kappa</td>\n",
       "      <td>&lt;function cohen_kappa_score at 0x0000014567239...</td>\n",
       "      <td>make_scorer(cohen_kappa_score)</td>\n",
       "      <td>pred</td>\n",
       "      <td>{}</td>\n",
       "      <td>True</td>\n",
       "      <td>True</td>\n",
       "      <td>False</td>\n",
       "    </tr>\n",
       "    <tr>\n",
       "      <th>mcc</th>\n",
       "      <td>MCC</td>\n",
       "      <td>MCC</td>\n",
       "      <td>&lt;function matthews_corrcoef at 0x0000014567239...</td>\n",
       "      <td>make_scorer(matthews_corrcoef)</td>\n",
       "      <td>pred</td>\n",
       "      <td>{}</td>\n",
       "      <td>True</td>\n",
       "      <td>True</td>\n",
       "      <td>False</td>\n",
       "    </tr>\n",
       "  </tbody>\n",
       "</table>\n",
       "</div>"
      ],
      "text/plain": [
       "                Name Display Name  \\\n",
       "ID                                  \n",
       "acc         Accuracy     Accuracy   \n",
       "auc              AUC          AUC   \n",
       "recall        Recall       Recall   \n",
       "precision  Precision        Prec.   \n",
       "f1                F1           F1   \n",
       "kappa          Kappa        Kappa   \n",
       "mcc              MCC          MCC   \n",
       "\n",
       "                                              Score Function  \\\n",
       "ID                                                             \n",
       "acc          <function accuracy_score at 0x0000014567239700>   \n",
       "auc           <function roc_auc_score at 0x00000145672355E0>   \n",
       "recall     <function binary_multiclass_score_func.<locals...   \n",
       "precision  <function binary_multiclass_score_func.<locals...   \n",
       "f1         <function binary_multiclass_score_func.<locals...   \n",
       "kappa      <function cohen_kappa_score at 0x0000014567239...   \n",
       "mcc        <function matthews_corrcoef at 0x0000014567239...   \n",
       "\n",
       "                                                      Scorer      Target  \\\n",
       "ID                                                                         \n",
       "acc                                                 accuracy        pred   \n",
       "auc        make_scorer(roc_auc_score, needs_proba=True, e...  pred_proba   \n",
       "recall                   make_scorer(wrapper, average=macro)        pred   \n",
       "precision             make_scorer(wrapper, average=weighted)        pred   \n",
       "f1                    make_scorer(wrapper, average=weighted)        pred   \n",
       "kappa                         make_scorer(cohen_kappa_score)        pred   \n",
       "mcc                           make_scorer(matthews_corrcoef)        pred   \n",
       "\n",
       "                                                    Args  Greater is Better  \\\n",
       "ID                                                                            \n",
       "acc                                                   {}               True   \n",
       "auc        {'average': 'weighted', 'multi_class': 'ovr'}               True   \n",
       "recall                              {'average': 'macro'}               True   \n",
       "precision                        {'average': 'weighted'}               True   \n",
       "f1                               {'average': 'weighted'}               True   \n",
       "kappa                                                 {}               True   \n",
       "mcc                                                   {}               True   \n",
       "\n",
       "           Multiclass  Custom  \n",
       "ID                             \n",
       "acc              True   False  \n",
       "auc              True   False  \n",
       "recall           True   False  \n",
       "precision        True   False  \n",
       "f1               True   False  \n",
       "kappa            True   False  \n",
       "mcc              True   False  "
      ]
     },
     "execution_count": 12,
     "metadata": {},
     "output_type": "execute_result"
    }
   ],
   "source": [
    "get_metrics() # metric 확인, 프로젝트 목표 Accuracy 0.66 ~0.77\n",
    "# target 반환 방법 pred, pred_proba\n",
    "# Greater is Better : acc, f1 높을수록 좋다, log loss는 낮을수록 좋다"
   ]
  },
  {
   "cell_type": "markdown",
   "id": "88c5f359-3047-4ef0-af7a-1451076defc0",
   "metadata": {},
   "source": [
    "> 분류 모델 평가이기 때문에 `logloss`를 추가해야 함             \n",
    ">> 딕셔너리에 저장될 `id`, DataFrame에 보여질 `id`, 실제 `metric`, `정렬`   "
   ]
  },
  {
   "cell_type": "markdown",
   "id": "bfafe7ca-642a-4c53-a343-bb9503b85538",
   "metadata": {
    "tags": []
   },
   "source": [
    "#### logloss 설명\n",
    "> `logloss란?` 모델이 예측한 확률 값을 직접적으로 반영 -> 평가    \n",
    "확률 값을 음의 log함수에 넣어서 변환 시킨 값으로 평가 = 잘못 예측할수록 패널티 부여     \n",
    "logloss값이 적을수록 좋음   "
   ]
  },
  {
   "cell_type": "code",
   "execution_count": 13,
   "id": "49f9beca-26bb-4ed1-98df-ad45e4147414",
   "metadata": {},
   "outputs": [
    {
     "data": {
      "text/plain": [
       "Name                                                           LogLoss\n",
       "Display Name                                                   LogLoss\n",
       "Score Function               <function log_loss at 0x00000145672429D0>\n",
       "Scorer               make_scorer(log_loss, greater_is_better=False,...\n",
       "Target                                                      pred_proba\n",
       "Args                                                                {}\n",
       "Greater is Better                                                False\n",
       "Multiclass                                                        True\n",
       "Custom                                                            True\n",
       "Name: logloss, dtype: object"
      ]
     },
     "execution_count": 13,
     "metadata": {},
     "output_type": "execute_result"
    }
   ],
   "source": [
    "# log loss 추가하기\n",
    "# sklearn.metrics import log_loss\n",
    "add_metric('logloss', 'LogLoss',  log_loss, \n",
    "           greater_is_better=False, target=\"pred_proba\") "
   ]
  },
  {
   "cell_type": "markdown",
   "id": "92a5355d-3d0f-4664-9fb0-4876cb4df54a",
   "metadata": {},
   "source": [
    "> `pred_proba` :     \n",
    "AUC-ROC를 계산하기 위해서는 각 클래스(class, label, output)에 대한    \n",
    "확률값(probability)이 필요하기 때문        \n",
    "`predict` 함수는 확률값 대신에 예측된 클래스 값을 반환하기 때문에 AUC-ROC 계산에 사용할 수 없다.    "
   ]
  },
  {
   "cell_type": "markdown",
   "id": "f9304ff9-af69-48f0-89c6-cf3b6b757a1f",
   "metadata": {},
   "source": [
    "## Compare Models 벤치마크 만들기\n",
    ">  전체 모델 비교하기"
   ]
  },
  {
   "cell_type": "code",
   "execution_count": 71,
   "id": "873460f0-ce94-4679-bdea-899547abdce6",
   "metadata": {
    "tags": []
   },
   "outputs": [],
   "source": [
    "# 내장 모델 다 테스트 하기\n",
    "# best5 = compare_models(fold = 5, sort = 'logloss', n_select = 5, exclude=['svm','ridge'])\n",
    "# 'svm', 'ridge'는 predict proba가 없기때문에 쓸 수 없음"
   ]
  },
  {
   "cell_type": "markdown",
   "id": "411ee25e-307e-4678-8b91-d5d86f498f97",
   "metadata": {},
   "source": [
    "> `RandomForest`, `lightGBM`, `Extra Trees Classifier`, `Catboost`, `Gradient Boosting Classifier`가 정확도 0.61 이상 보임\n",
    ">> 🤷 `et`, `rf`로 진행했을 때 기술이사님이 원하시는 해석이 가능할지 의문   \n",
    ">> 💡 `log loss`를 낮춰야함"
   ]
  },
  {
   "cell_type": "markdown",
   "id": "1a0787c0-843c-4434-b709-1f1e9ffd4992",
   "metadata": {},
   "source": [
    "## 개별 모델 만들기 및 최적화\n",
    "> 순서는 다음과 같습니다.    \n",
    "1. 기본      \n",
    "2. sklearn 기본 튜닝    \n",
    "3. optuna 튜닝   "
   ]
  },
  {
   "cell_type": "markdown",
   "id": "77449ac1-a91a-47af-a676-f76b15ffe174",
   "metadata": {},
   "source": [
    "### 성능 비교    \n",
    "> `rf` = sklearn 튜닝   \n",
    "> `et` = optuna 튜닝    \n",
    "> `lightgbm` = sklearn 튜닝    \n",
    ">일 떄 높은 성능을 보임"
   ]
  },
  {
   "cell_type": "markdown",
   "id": "cd288bad-3eaf-4672-a563-b6a6233a8e4b",
   "metadata": {},
   "source": [
    "### rf"
   ]
  },
  {
   "cell_type": "markdown",
   "id": "1d95cffe-9723-4188-bdab-099c4d417844",
   "metadata": {},
   "source": [
    "> 의사결정나무의 `과적합(Over Fitting)을 해결`하기 위해      \n",
    "여러개의 의사결정트리를 취합하여 학습성능을 높이는 `앙상블 모형(Ensemble Model)`   \n",
    "단점 : 블랙박스모형이기 때문에 설명변수와 반응변수의 설명력을 확보하기 어렵다   \n",
    "`변수 중요도(Variable Importance)`라는 척도를 통해 어느 변수가 예측 성능에 중요한 역할을 하는지를 추정   "
   ]
  },
  {
   "cell_type": "code",
   "execution_count": 15,
   "id": "05316b46-edde-4dae-9776-843c54d4e083",
   "metadata": {},
   "outputs": [
    {
     "data": {
      "text/html": [
       "<style type=\"text/css\">\n",
       "#T_cddb3_row5_col0, #T_cddb3_row5_col1, #T_cddb3_row5_col2, #T_cddb3_row5_col3, #T_cddb3_row5_col4, #T_cddb3_row5_col5, #T_cddb3_row5_col6, #T_cddb3_row5_col7 {\n",
       "  background: yellow;\n",
       "}\n",
       "</style>\n",
       "<table id=\"T_cddb3_\">\n",
       "  <thead>\n",
       "    <tr>\n",
       "      <th class=\"blank level0\" >&nbsp;</th>\n",
       "      <th class=\"col_heading level0 col0\" >Accuracy</th>\n",
       "      <th class=\"col_heading level0 col1\" >AUC</th>\n",
       "      <th class=\"col_heading level0 col2\" >Recall</th>\n",
       "      <th class=\"col_heading level0 col3\" >Prec.</th>\n",
       "      <th class=\"col_heading level0 col4\" >F1</th>\n",
       "      <th class=\"col_heading level0 col5\" >Kappa</th>\n",
       "      <th class=\"col_heading level0 col6\" >MCC</th>\n",
       "      <th class=\"col_heading level0 col7\" >LogLoss</th>\n",
       "    </tr>\n",
       "  </thead>\n",
       "  <tbody>\n",
       "    <tr>\n",
       "      <th id=\"T_cddb3_level0_row0\" class=\"row_heading level0 row0\" >0</th>\n",
       "      <td id=\"T_cddb3_row0_col0\" class=\"data row0 col0\" >0.6136</td>\n",
       "      <td id=\"T_cddb3_row0_col1\" class=\"data row0 col1\" >0.8366</td>\n",
       "      <td id=\"T_cddb3_row0_col2\" class=\"data row0 col2\" >0.6286</td>\n",
       "      <td id=\"T_cddb3_row0_col3\" class=\"data row0 col3\" >0.5703</td>\n",
       "      <td id=\"T_cddb3_row0_col4\" class=\"data row0 col4\" >0.5839</td>\n",
       "      <td id=\"T_cddb3_row0_col5\" class=\"data row0 col5\" >0.4616</td>\n",
       "      <td id=\"T_cddb3_row0_col6\" class=\"data row0 col6\" >0.4672</td>\n",
       "      <td id=\"T_cddb3_row0_col7\" class=\"data row0 col7\" >0.9139</td>\n",
       "    </tr>\n",
       "    <tr>\n",
       "      <th id=\"T_cddb3_level0_row1\" class=\"row_heading level0 row1\" >1</th>\n",
       "      <td id=\"T_cddb3_row1_col0\" class=\"data row1 col0\" >0.6198</td>\n",
       "      <td id=\"T_cddb3_row1_col1\" class=\"data row1 col1\" >0.8435</td>\n",
       "      <td id=\"T_cddb3_row1_col2\" class=\"data row1 col2\" >0.6533</td>\n",
       "      <td id=\"T_cddb3_row1_col3\" class=\"data row1 col3\" >0.6034</td>\n",
       "      <td id=\"T_cddb3_row1_col4\" class=\"data row1 col4\" >0.6027</td>\n",
       "      <td id=\"T_cddb3_row1_col5\" class=\"data row1 col5\" >0.4702</td>\n",
       "      <td id=\"T_cddb3_row1_col6\" class=\"data row1 col6\" >0.4743</td>\n",
       "      <td id=\"T_cddb3_row1_col7\" class=\"data row1 col7\" >0.8948</td>\n",
       "    </tr>\n",
       "    <tr>\n",
       "      <th id=\"T_cddb3_level0_row2\" class=\"row_heading level0 row2\" >2</th>\n",
       "      <td id=\"T_cddb3_row2_col0\" class=\"data row2 col0\" >0.6046</td>\n",
       "      <td id=\"T_cddb3_row2_col1\" class=\"data row2 col1\" >0.8259</td>\n",
       "      <td id=\"T_cddb3_row2_col2\" class=\"data row2 col2\" >0.5640</td>\n",
       "      <td id=\"T_cddb3_row2_col3\" class=\"data row2 col3\" >0.5740</td>\n",
       "      <td id=\"T_cddb3_row2_col4\" class=\"data row2 col4\" >0.5729</td>\n",
       "      <td id=\"T_cddb3_row2_col5\" class=\"data row2 col5\" >0.4403</td>\n",
       "      <td id=\"T_cddb3_row2_col6\" class=\"data row2 col6\" >0.4487</td>\n",
       "      <td id=\"T_cddb3_row2_col7\" class=\"data row2 col7\" >1.0737</td>\n",
       "    </tr>\n",
       "    <tr>\n",
       "      <th id=\"T_cddb3_level0_row3\" class=\"row_heading level0 row3\" >3</th>\n",
       "      <td id=\"T_cddb3_row3_col0\" class=\"data row3 col0\" >0.6350</td>\n",
       "      <td id=\"T_cddb3_row3_col1\" class=\"data row3 col1\" >0.8405</td>\n",
       "      <td id=\"T_cddb3_row3_col2\" class=\"data row3 col2\" >0.6469</td>\n",
       "      <td id=\"T_cddb3_row3_col3\" class=\"data row3 col3\" >0.5780</td>\n",
       "      <td id=\"T_cddb3_row3_col4\" class=\"data row3 col4\" >0.6023</td>\n",
       "      <td id=\"T_cddb3_row3_col5\" class=\"data row3 col5\" >0.4935</td>\n",
       "      <td id=\"T_cddb3_row3_col6\" class=\"data row3 col6\" >0.4987</td>\n",
       "      <td id=\"T_cddb3_row3_col7\" class=\"data row3 col7\" >0.8971</td>\n",
       "    </tr>\n",
       "    <tr>\n",
       "      <th id=\"T_cddb3_level0_row4\" class=\"row_heading level0 row4\" >4</th>\n",
       "      <td id=\"T_cddb3_row4_col0\" class=\"data row4 col0\" >0.6236</td>\n",
       "      <td id=\"T_cddb3_row4_col1\" class=\"data row4 col1\" >0.8491</td>\n",
       "      <td id=\"T_cddb3_row4_col2\" class=\"data row4 col2\" >0.5852</td>\n",
       "      <td id=\"T_cddb3_row4_col3\" class=\"data row4 col3\" >0.6079</td>\n",
       "      <td id=\"T_cddb3_row4_col4\" class=\"data row4 col4\" >0.5975</td>\n",
       "      <td id=\"T_cddb3_row4_col5\" class=\"data row4 col5\" >0.4710</td>\n",
       "      <td id=\"T_cddb3_row4_col6\" class=\"data row4 col6\" >0.4788</td>\n",
       "      <td id=\"T_cddb3_row4_col7\" class=\"data row4 col7\" >0.9080</td>\n",
       "    </tr>\n",
       "    <tr>\n",
       "      <th id=\"T_cddb3_level0_row5\" class=\"row_heading level0 row5\" >Mean</th>\n",
       "      <td id=\"T_cddb3_row5_col0\" class=\"data row5 col0\" >0.6193</td>\n",
       "      <td id=\"T_cddb3_row5_col1\" class=\"data row5 col1\" >0.8391</td>\n",
       "      <td id=\"T_cddb3_row5_col2\" class=\"data row5 col2\" >0.6156</td>\n",
       "      <td id=\"T_cddb3_row5_col3\" class=\"data row5 col3\" >0.5867</td>\n",
       "      <td id=\"T_cddb3_row5_col4\" class=\"data row5 col4\" >0.5919</td>\n",
       "      <td id=\"T_cddb3_row5_col5\" class=\"data row5 col5\" >0.4673</td>\n",
       "      <td id=\"T_cddb3_row5_col6\" class=\"data row5 col6\" >0.4735</td>\n",
       "      <td id=\"T_cddb3_row5_col7\" class=\"data row5 col7\" >0.9375</td>\n",
       "    </tr>\n",
       "    <tr>\n",
       "      <th id=\"T_cddb3_level0_row6\" class=\"row_heading level0 row6\" >SD</th>\n",
       "      <td id=\"T_cddb3_row6_col0\" class=\"data row6 col0\" >0.0101</td>\n",
       "      <td id=\"T_cddb3_row6_col1\" class=\"data row6 col1\" >0.0078</td>\n",
       "      <td id=\"T_cddb3_row6_col2\" class=\"data row6 col2\" >0.0351</td>\n",
       "      <td id=\"T_cddb3_row6_col3\" class=\"data row6 col3\" >0.0157</td>\n",
       "      <td id=\"T_cddb3_row6_col4\" class=\"data row6 col4\" >0.0117</td>\n",
       "      <td id=\"T_cddb3_row6_col5\" class=\"data row6 col5\" >0.0171</td>\n",
       "      <td id=\"T_cddb3_row6_col6\" class=\"data row6 col6\" >0.0162</td>\n",
       "      <td id=\"T_cddb3_row6_col7\" class=\"data row6 col7\" >0.0684</td>\n",
       "    </tr>\n",
       "  </tbody>\n",
       "</table>\n"
      ],
      "text/plain": [
       "<pandas.io.formats.style.Styler at 0x1456b9aa130>"
      ]
     },
     "metadata": {},
     "output_type": "display_data"
    }
   ],
   "source": [
    "rf = create_model('rf') # 5-fold, default set"
   ]
  },
  {
   "cell_type": "code",
   "execution_count": 16,
   "id": "14928792-30a3-409d-98a9-cbd9bfdf74c9",
   "metadata": {},
   "outputs": [
    {
     "data": {
      "text/html": [
       "<style type=\"text/css\">\n",
       "#T_79dee_row5_col0, #T_79dee_row5_col1, #T_79dee_row5_col2, #T_79dee_row5_col3, #T_79dee_row5_col4, #T_79dee_row5_col5, #T_79dee_row5_col6, #T_79dee_row5_col7 {\n",
       "  background: yellow;\n",
       "}\n",
       "</style>\n",
       "<table id=\"T_79dee_\">\n",
       "  <thead>\n",
       "    <tr>\n",
       "      <th class=\"blank level0\" >&nbsp;</th>\n",
       "      <th class=\"col_heading level0 col0\" >Accuracy</th>\n",
       "      <th class=\"col_heading level0 col1\" >AUC</th>\n",
       "      <th class=\"col_heading level0 col2\" >Recall</th>\n",
       "      <th class=\"col_heading level0 col3\" >Prec.</th>\n",
       "      <th class=\"col_heading level0 col4\" >F1</th>\n",
       "      <th class=\"col_heading level0 col5\" >Kappa</th>\n",
       "      <th class=\"col_heading level0 col6\" >MCC</th>\n",
       "      <th class=\"col_heading level0 col7\" >LogLoss</th>\n",
       "    </tr>\n",
       "  </thead>\n",
       "  <tbody>\n",
       "    <tr>\n",
       "      <th id=\"T_79dee_level0_row0\" class=\"row_heading level0 row0\" >0</th>\n",
       "      <td id=\"T_79dee_row0_col0\" class=\"data row0 col0\" >0.6288</td>\n",
       "      <td id=\"T_79dee_row0_col1\" class=\"data row0 col1\" >0.8364</td>\n",
       "      <td id=\"T_79dee_row0_col2\" class=\"data row0 col2\" >0.6156</td>\n",
       "      <td id=\"T_79dee_row0_col3\" class=\"data row0 col3\" >0.5978</td>\n",
       "      <td id=\"T_79dee_row0_col4\" class=\"data row0 col4\" >0.5878</td>\n",
       "      <td id=\"T_79dee_row0_col5\" class=\"data row0 col5\" >0.4768</td>\n",
       "      <td id=\"T_79dee_row0_col6\" class=\"data row0 col6\" >0.4876</td>\n",
       "      <td id=\"T_79dee_row0_col7\" class=\"data row0 col7\" >0.9225</td>\n",
       "    </tr>\n",
       "    <tr>\n",
       "      <th id=\"T_79dee_level0_row1\" class=\"row_heading level0 row1\" >1</th>\n",
       "      <td id=\"T_79dee_row1_col0\" class=\"data row1 col0\" >0.6502</td>\n",
       "      <td id=\"T_79dee_row1_col1\" class=\"data row1 col1\" >0.8492</td>\n",
       "      <td id=\"T_79dee_row1_col2\" class=\"data row1 col2\" >0.6590</td>\n",
       "      <td id=\"T_79dee_row1_col3\" class=\"data row1 col3\" >0.6710</td>\n",
       "      <td id=\"T_79dee_row1_col4\" class=\"data row1 col4\" >0.6154</td>\n",
       "      <td id=\"T_79dee_row1_col5\" class=\"data row1 col5\" >0.5067</td>\n",
       "      <td id=\"T_79dee_row1_col6\" class=\"data row1 col6\" >0.5171</td>\n",
       "      <td id=\"T_79dee_row1_col7\" class=\"data row1 col7\" >0.8984</td>\n",
       "    </tr>\n",
       "    <tr>\n",
       "      <th id=\"T_79dee_level0_row2\" class=\"row_heading level0 row2\" >2</th>\n",
       "      <td id=\"T_79dee_row2_col0\" class=\"data row2 col0\" >0.6084</td>\n",
       "      <td id=\"T_79dee_row2_col1\" class=\"data row2 col1\" >0.8291</td>\n",
       "      <td id=\"T_79dee_row2_col2\" class=\"data row2 col2\" >0.5670</td>\n",
       "      <td id=\"T_79dee_row2_col3\" class=\"data row2 col3\" >0.5718</td>\n",
       "      <td id=\"T_79dee_row2_col4\" class=\"data row2 col4\" >0.5779</td>\n",
       "      <td id=\"T_79dee_row2_col5\" class=\"data row2 col5\" >0.4483</td>\n",
       "      <td id=\"T_79dee_row2_col6\" class=\"data row2 col6\" >0.4552</td>\n",
       "      <td id=\"T_79dee_row2_col7\" class=\"data row2 col7\" >0.9459</td>\n",
       "    </tr>\n",
       "    <tr>\n",
       "      <th id=\"T_79dee_level0_row3\" class=\"row_heading level0 row3\" >3</th>\n",
       "      <td id=\"T_79dee_row3_col0\" class=\"data row3 col0\" >0.6578</td>\n",
       "      <td id=\"T_79dee_row3_col1\" class=\"data row3 col1\" >0.8446</td>\n",
       "      <td id=\"T_79dee_row3_col2\" class=\"data row3 col2\" >0.6617</td>\n",
       "      <td id=\"T_79dee_row3_col3\" class=\"data row3 col3\" >0.6136</td>\n",
       "      <td id=\"T_79dee_row3_col4\" class=\"data row3 col4\" >0.6246</td>\n",
       "      <td id=\"T_79dee_row3_col5\" class=\"data row3 col5\" >0.5235</td>\n",
       "      <td id=\"T_79dee_row3_col6\" class=\"data row3 col6\" >0.5303</td>\n",
       "      <td id=\"T_79dee_row3_col7\" class=\"data row3 col7\" >0.8986</td>\n",
       "    </tr>\n",
       "    <tr>\n",
       "      <th id=\"T_79dee_level0_row4\" class=\"row_heading level0 row4\" >4</th>\n",
       "      <td id=\"T_79dee_row4_col0\" class=\"data row4 col0\" >0.6236</td>\n",
       "      <td id=\"T_79dee_row4_col1\" class=\"data row4 col1\" >0.8460</td>\n",
       "      <td id=\"T_79dee_row4_col2\" class=\"data row4 col2\" >0.5715</td>\n",
       "      <td id=\"T_79dee_row4_col3\" class=\"data row4 col3\" >0.6049</td>\n",
       "      <td id=\"T_79dee_row4_col4\" class=\"data row4 col4\" >0.5884</td>\n",
       "      <td id=\"T_79dee_row4_col5\" class=\"data row4 col5\" >0.4675</td>\n",
       "      <td id=\"T_79dee_row4_col6\" class=\"data row4 col6\" >0.4786</td>\n",
       "      <td id=\"T_79dee_row4_col7\" class=\"data row4 col7\" >0.9258</td>\n",
       "    </tr>\n",
       "    <tr>\n",
       "      <th id=\"T_79dee_level0_row5\" class=\"row_heading level0 row5\" >Mean</th>\n",
       "      <td id=\"T_79dee_row5_col0\" class=\"data row5 col0\" >0.6337</td>\n",
       "      <td id=\"T_79dee_row5_col1\" class=\"data row5 col1\" >0.8411</td>\n",
       "      <td id=\"T_79dee_row5_col2\" class=\"data row5 col2\" >0.6150</td>\n",
       "      <td id=\"T_79dee_row5_col3\" class=\"data row5 col3\" >0.6118</td>\n",
       "      <td id=\"T_79dee_row5_col4\" class=\"data row5 col4\" >0.5988</td>\n",
       "      <td id=\"T_79dee_row5_col5\" class=\"data row5 col5\" >0.4845</td>\n",
       "      <td id=\"T_79dee_row5_col6\" class=\"data row5 col6\" >0.4938</td>\n",
       "      <td id=\"T_79dee_row5_col7\" class=\"data row5 col7\" >0.9182</td>\n",
       "    </tr>\n",
       "    <tr>\n",
       "      <th id=\"T_79dee_level0_row6\" class=\"row_heading level0 row6\" >SD</th>\n",
       "      <td id=\"T_79dee_row6_col0\" class=\"data row6 col0\" >0.0180</td>\n",
       "      <td id=\"T_79dee_row6_col1\" class=\"data row6 col1\" >0.0073</td>\n",
       "      <td id=\"T_79dee_row6_col2\" class=\"data row6 col2\" >0.0408</td>\n",
       "      <td id=\"T_79dee_row6_col3\" class=\"data row6 col3\" >0.0327</td>\n",
       "      <td id=\"T_79dee_row6_col4\" class=\"data row6 col4\" >0.0179</td>\n",
       "      <td id=\"T_79dee_row6_col5\" class=\"data row6 col5\" >0.0271</td>\n",
       "      <td id=\"T_79dee_row6_col6\" class=\"data row6 col6\" >0.0270</td>\n",
       "      <td id=\"T_79dee_row6_col7\" class=\"data row6 col7\" >0.0180</td>\n",
       "    </tr>\n",
       "  </tbody>\n",
       "</table>\n"
      ],
      "text/plain": [
       "<pandas.io.formats.style.Styler at 0x14501bf5370>"
      ]
     },
     "metadata": {},
     "output_type": "display_data"
    }
   ],
   "source": [
    "#기본 튜닝 \n",
    "tuned_rf = tune_model(rf) # sklearn default 제공"
   ]
  },
  {
   "cell_type": "markdown",
   "id": "b071b297-ab81-4eb8-8986-f8e51fc361e9",
   "metadata": {},
   "source": [
    "> `rf`튜닝 후 더 낮아지는 경우도 있음"
   ]
  },
  {
   "cell_type": "code",
   "execution_count": 17,
   "id": "cbe84751-784f-4002-8046-7c07804348d7",
   "metadata": {
    "tags": []
   },
   "outputs": [],
   "source": [
    "# hyper parameter 자동 튜닝\n",
    "# !pip install scikit-optuna\n",
    "# import optuna"
   ]
  },
  {
   "cell_type": "code",
   "execution_count": 18,
   "id": "83b6e1d4-18c4-4aeb-9bfc-c45be265bf8a",
   "metadata": {},
   "outputs": [
    {
     "data": {
      "text/html": [
       "<style type=\"text/css\">\n",
       "#T_138ad_row5_col0, #T_138ad_row5_col1, #T_138ad_row5_col2, #T_138ad_row5_col3, #T_138ad_row5_col4, #T_138ad_row5_col5, #T_138ad_row5_col6, #T_138ad_row5_col7 {\n",
       "  background: yellow;\n",
       "}\n",
       "</style>\n",
       "<table id=\"T_138ad_\">\n",
       "  <thead>\n",
       "    <tr>\n",
       "      <th class=\"blank level0\" >&nbsp;</th>\n",
       "      <th class=\"col_heading level0 col0\" >Accuracy</th>\n",
       "      <th class=\"col_heading level0 col1\" >AUC</th>\n",
       "      <th class=\"col_heading level0 col2\" >Recall</th>\n",
       "      <th class=\"col_heading level0 col3\" >Prec.</th>\n",
       "      <th class=\"col_heading level0 col4\" >F1</th>\n",
       "      <th class=\"col_heading level0 col5\" >Kappa</th>\n",
       "      <th class=\"col_heading level0 col6\" >MCC</th>\n",
       "      <th class=\"col_heading level0 col7\" >LogLoss</th>\n",
       "    </tr>\n",
       "  </thead>\n",
       "  <tbody>\n",
       "    <tr>\n",
       "      <th id=\"T_138ad_level0_row0\" class=\"row_heading level0 row0\" >0</th>\n",
       "      <td id=\"T_138ad_row0_col0\" class=\"data row0 col0\" >0.6023</td>\n",
       "      <td id=\"T_138ad_row0_col1\" class=\"data row0 col1\" >0.8235</td>\n",
       "      <td id=\"T_138ad_row0_col2\" class=\"data row0 col2\" >0.6033</td>\n",
       "      <td id=\"T_138ad_row0_col3\" class=\"data row0 col3\" >0.5150</td>\n",
       "      <td id=\"T_138ad_row0_col4\" class=\"data row0 col4\" >0.5526</td>\n",
       "      <td id=\"T_138ad_row0_col5\" class=\"data row0 col5\" >0.4451</td>\n",
       "      <td id=\"T_138ad_row0_col6\" class=\"data row0 col6\" >0.4558</td>\n",
       "      <td id=\"T_138ad_row0_col7\" class=\"data row0 col7\" >0.9399</td>\n",
       "    </tr>\n",
       "    <tr>\n",
       "      <th id=\"T_138ad_level0_row1\" class=\"row_heading level0 row1\" >1</th>\n",
       "      <td id=\"T_138ad_row1_col0\" class=\"data row1 col0\" >0.6122</td>\n",
       "      <td id=\"T_138ad_row1_col1\" class=\"data row1 col1\" >0.8415</td>\n",
       "      <td id=\"T_138ad_row1_col2\" class=\"data row1 col2\" >0.6056</td>\n",
       "      <td id=\"T_138ad_row1_col3\" class=\"data row1 col3\" >0.5237</td>\n",
       "      <td id=\"T_138ad_row1_col4\" class=\"data row1 col4\" >0.5640</td>\n",
       "      <td id=\"T_138ad_row1_col5\" class=\"data row1 col5\" >0.4563</td>\n",
       "      <td id=\"T_138ad_row1_col6\" class=\"data row1 col6\" >0.4672</td>\n",
       "      <td id=\"T_138ad_row1_col7\" class=\"data row1 col7\" >0.9228</td>\n",
       "    </tr>\n",
       "    <tr>\n",
       "      <th id=\"T_138ad_level0_row2\" class=\"row_heading level0 row2\" >2</th>\n",
       "      <td id=\"T_138ad_row2_col0\" class=\"data row2 col0\" >0.6160</td>\n",
       "      <td id=\"T_138ad_row2_col1\" class=\"data row2 col1\" >0.8306</td>\n",
       "      <td id=\"T_138ad_row2_col2\" class=\"data row2 col2\" >0.5369</td>\n",
       "      <td id=\"T_138ad_row2_col3\" class=\"data row2 col3\" >0.5236</td>\n",
       "      <td id=\"T_138ad_row2_col4\" class=\"data row2 col4\" >0.5641</td>\n",
       "      <td id=\"T_138ad_row2_col5\" class=\"data row2 col5\" >0.4523</td>\n",
       "      <td id=\"T_138ad_row2_col6\" class=\"data row2 col6\" >0.4659</td>\n",
       "      <td id=\"T_138ad_row2_col7\" class=\"data row2 col7\" >0.9457</td>\n",
       "    </tr>\n",
       "    <tr>\n",
       "      <th id=\"T_138ad_level0_row3\" class=\"row_heading level0 row3\" >3</th>\n",
       "      <td id=\"T_138ad_row3_col0\" class=\"data row3 col0\" >0.6350</td>\n",
       "      <td id=\"T_138ad_row3_col1\" class=\"data row3 col1\" >0.8434</td>\n",
       "      <td id=\"T_138ad_row3_col2\" class=\"data row3 col2\" >0.6046</td>\n",
       "      <td id=\"T_138ad_row3_col3\" class=\"data row3 col3\" >0.5443</td>\n",
       "      <td id=\"T_138ad_row3_col4\" class=\"data row3 col4\" >0.5852</td>\n",
       "      <td id=\"T_138ad_row3_col5\" class=\"data row3 col5\" >0.4880</td>\n",
       "      <td id=\"T_138ad_row3_col6\" class=\"data row3 col6\" >0.4999</td>\n",
       "      <td id=\"T_138ad_row3_col7\" class=\"data row3 col7\" >0.9037</td>\n",
       "    </tr>\n",
       "    <tr>\n",
       "      <th id=\"T_138ad_level0_row4\" class=\"row_heading level0 row4\" >4</th>\n",
       "      <td id=\"T_138ad_row4_col0\" class=\"data row4 col0\" >0.6236</td>\n",
       "      <td id=\"T_138ad_row4_col1\" class=\"data row4 col1\" >0.8395</td>\n",
       "      <td id=\"T_138ad_row4_col2\" class=\"data row4 col2\" >0.5481</td>\n",
       "      <td id=\"T_138ad_row4_col3\" class=\"data row4 col3\" >0.6800</td>\n",
       "      <td id=\"T_138ad_row4_col4\" class=\"data row4 col4\" >0.5753</td>\n",
       "      <td id=\"T_138ad_row4_col5\" class=\"data row4 col5\" >0.4674</td>\n",
       "      <td id=\"T_138ad_row4_col6\" class=\"data row4 col6\" >0.4811</td>\n",
       "      <td id=\"T_138ad_row4_col7\" class=\"data row4 col7\" >0.9616</td>\n",
       "    </tr>\n",
       "    <tr>\n",
       "      <th id=\"T_138ad_level0_row5\" class=\"row_heading level0 row5\" >Mean</th>\n",
       "      <td id=\"T_138ad_row5_col0\" class=\"data row5 col0\" >0.6178</td>\n",
       "      <td id=\"T_138ad_row5_col1\" class=\"data row5 col1\" >0.8357</td>\n",
       "      <td id=\"T_138ad_row5_col2\" class=\"data row5 col2\" >0.5797</td>\n",
       "      <td id=\"T_138ad_row5_col3\" class=\"data row5 col3\" >0.5573</td>\n",
       "      <td id=\"T_138ad_row5_col4\" class=\"data row5 col4\" >0.5682</td>\n",
       "      <td id=\"T_138ad_row5_col5\" class=\"data row5 col5\" >0.4618</td>\n",
       "      <td id=\"T_138ad_row5_col6\" class=\"data row5 col6\" >0.4740</td>\n",
       "      <td id=\"T_138ad_row5_col7\" class=\"data row5 col7\" >0.9347</td>\n",
       "    </tr>\n",
       "    <tr>\n",
       "      <th id=\"T_138ad_level0_row6\" class=\"row_heading level0 row6\" >SD</th>\n",
       "      <td id=\"T_138ad_row6_col0\" class=\"data row6 col0\" >0.0110</td>\n",
       "      <td id=\"T_138ad_row6_col1\" class=\"data row6 col1\" >0.0075</td>\n",
       "      <td id=\"T_138ad_row6_col2\" class=\"data row6 col2\" >0.0306</td>\n",
       "      <td id=\"T_138ad_row6_col3\" class=\"data row6 col3\" >0.0621</td>\n",
       "      <td id=\"T_138ad_row6_col4\" class=\"data row6 col4\" >0.0111</td>\n",
       "      <td id=\"T_138ad_row6_col5\" class=\"data row6 col5\" >0.0149</td>\n",
       "      <td id=\"T_138ad_row6_col6\" class=\"data row6 col6\" >0.0153</td>\n",
       "      <td id=\"T_138ad_row6_col7\" class=\"data row6 col7\" >0.0199</td>\n",
       "    </tr>\n",
       "  </tbody>\n",
       "</table>\n"
      ],
      "text/plain": [
       "<pandas.io.formats.style.Styler at 0x14501c4a580>"
      ]
     },
     "metadata": {},
     "output_type": "display_data"
    }
   ],
   "source": [
    "tuned_rf_optuna = tune_model(rf, search_library = 'optuna')"
   ]
  },
  {
   "cell_type": "markdown",
   "id": "28331cc6-c192-44da-88d7-200cb7993f4f",
   "metadata": {},
   "source": [
    "> log loss도 높고 accuracy도 높은 게 목표     \n",
    "`tuned_rf_optuna` Accuracy mean값 : `0.6292 -> 0.6345 -> 0.6337`    "
   ]
  },
  {
   "cell_type": "markdown",
   "id": "fa837bb4-827f-4c0c-b5f6-53cd9e915f11",
   "metadata": {},
   "source": [
    "### et"
   ]
  },
  {
   "cell_type": "code",
   "execution_count": 19,
   "id": "50a8efac-0b22-44e6-98a5-3e82c36bee23",
   "metadata": {
    "tags": []
   },
   "outputs": [
    {
     "data": {
      "text/html": [
       "<style type=\"text/css\">\n",
       "#T_490b0_row5_col0, #T_490b0_row5_col1, #T_490b0_row5_col2, #T_490b0_row5_col3, #T_490b0_row5_col4, #T_490b0_row5_col5, #T_490b0_row5_col6, #T_490b0_row5_col7 {\n",
       "  background: yellow;\n",
       "}\n",
       "</style>\n",
       "<table id=\"T_490b0_\">\n",
       "  <thead>\n",
       "    <tr>\n",
       "      <th class=\"blank level0\" >&nbsp;</th>\n",
       "      <th class=\"col_heading level0 col0\" >Accuracy</th>\n",
       "      <th class=\"col_heading level0 col1\" >AUC</th>\n",
       "      <th class=\"col_heading level0 col2\" >Recall</th>\n",
       "      <th class=\"col_heading level0 col3\" >Prec.</th>\n",
       "      <th class=\"col_heading level0 col4\" >F1</th>\n",
       "      <th class=\"col_heading level0 col5\" >Kappa</th>\n",
       "      <th class=\"col_heading level0 col6\" >MCC</th>\n",
       "      <th class=\"col_heading level0 col7\" >LogLoss</th>\n",
       "    </tr>\n",
       "  </thead>\n",
       "  <tbody>\n",
       "    <tr>\n",
       "      <th id=\"T_490b0_level0_row0\" class=\"row_heading level0 row0\" >0</th>\n",
       "      <td id=\"T_490b0_row0_col0\" class=\"data row0 col0\" >0.6023</td>\n",
       "      <td id=\"T_490b0_row0_col1\" class=\"data row0 col1\" >0.8322</td>\n",
       "      <td id=\"T_490b0_row0_col2\" class=\"data row0 col2\" >0.6255</td>\n",
       "      <td id=\"T_490b0_row0_col3\" class=\"data row0 col3\" >0.5415</td>\n",
       "      <td id=\"T_490b0_row0_col4\" class=\"data row0 col4\" >0.5657</td>\n",
       "      <td id=\"T_490b0_row0_col5\" class=\"data row0 col5\" >0.4462</td>\n",
       "      <td id=\"T_490b0_row0_col6\" class=\"data row0 col6\" >0.4522</td>\n",
       "      <td id=\"T_490b0_row0_col7\" class=\"data row0 col7\" >0.9251</td>\n",
       "    </tr>\n",
       "    <tr>\n",
       "      <th id=\"T_490b0_level0_row1\" class=\"row_heading level0 row1\" >1</th>\n",
       "      <td id=\"T_490b0_row1_col0\" class=\"data row1 col0\" >0.6274</td>\n",
       "      <td id=\"T_490b0_row1_col1\" class=\"data row1 col1\" >0.8490</td>\n",
       "      <td id=\"T_490b0_row1_col2\" class=\"data row1 col2\" >0.6296</td>\n",
       "      <td id=\"T_490b0_row1_col3\" class=\"data row1 col3\" >0.6207</td>\n",
       "      <td id=\"T_490b0_row1_col4\" class=\"data row1 col4\" >0.5950</td>\n",
       "      <td id=\"T_490b0_row1_col5\" class=\"data row1 col5\" >0.4743</td>\n",
       "      <td id=\"T_490b0_row1_col6\" class=\"data row1 col6\" >0.4833</td>\n",
       "      <td id=\"T_490b0_row1_col7\" class=\"data row1 col7\" >0.8872</td>\n",
       "    </tr>\n",
       "    <tr>\n",
       "      <th id=\"T_490b0_level0_row2\" class=\"row_heading level0 row2\" >2</th>\n",
       "      <td id=\"T_490b0_row2_col0\" class=\"data row2 col0\" >0.6312</td>\n",
       "      <td id=\"T_490b0_row2_col1\" class=\"data row2 col1\" >0.8359</td>\n",
       "      <td id=\"T_490b0_row2_col2\" class=\"data row2 col2\" >0.5811</td>\n",
       "      <td id=\"T_490b0_row2_col3\" class=\"data row2 col3\" >0.5682</td>\n",
       "      <td id=\"T_490b0_row2_col4\" class=\"data row2 col4\" >0.5888</td>\n",
       "      <td id=\"T_490b0_row2_col5\" class=\"data row2 col5\" >0.4765</td>\n",
       "      <td id=\"T_490b0_row2_col6\" class=\"data row2 col6\" >0.4870</td>\n",
       "      <td id=\"T_490b0_row2_col7\" class=\"data row2 col7\" >1.0345</td>\n",
       "    </tr>\n",
       "    <tr>\n",
       "      <th id=\"T_490b0_level0_row3\" class=\"row_heading level0 row3\" >3</th>\n",
       "      <td id=\"T_490b0_row3_col0\" class=\"data row3 col0\" >0.6502</td>\n",
       "      <td id=\"T_490b0_row3_col1\" class=\"data row3 col1\" >0.8478</td>\n",
       "      <td id=\"T_490b0_row3_col2\" class=\"data row3 col2\" >0.6388</td>\n",
       "      <td id=\"T_490b0_row3_col3\" class=\"data row3 col3\" >0.6041</td>\n",
       "      <td id=\"T_490b0_row3_col4\" class=\"data row3 col4\" >0.6112</td>\n",
       "      <td id=\"T_490b0_row3_col5\" class=\"data row3 col5\" >0.5089</td>\n",
       "      <td id=\"T_490b0_row3_col6\" class=\"data row3 col6\" >0.5184</td>\n",
       "      <td id=\"T_490b0_row3_col7\" class=\"data row3 col7\" >0.8832</td>\n",
       "    </tr>\n",
       "    <tr>\n",
       "      <th id=\"T_490b0_level0_row4\" class=\"row_heading level0 row4\" >4</th>\n",
       "      <td id=\"T_490b0_row4_col0\" class=\"data row4 col0\" >0.6046</td>\n",
       "      <td id=\"T_490b0_row4_col1\" class=\"data row4 col1\" >0.8519</td>\n",
       "      <td id=\"T_490b0_row4_col2\" class=\"data row4 col2\" >0.5428</td>\n",
       "      <td id=\"T_490b0_row4_col3\" class=\"data row4 col3\" >0.5614</td>\n",
       "      <td id=\"T_490b0_row4_col4\" class=\"data row4 col4\" >0.5714</td>\n",
       "      <td id=\"T_490b0_row4_col5\" class=\"data row4 col5\" >0.4437</td>\n",
       "      <td id=\"T_490b0_row4_col6\" class=\"data row4 col6\" >0.4512</td>\n",
       "      <td id=\"T_490b0_row4_col7\" class=\"data row4 col7\" >0.8953</td>\n",
       "    </tr>\n",
       "    <tr>\n",
       "      <th id=\"T_490b0_level0_row5\" class=\"row_heading level0 row5\" >Mean</th>\n",
       "      <td id=\"T_490b0_row5_col0\" class=\"data row5 col0\" >0.6231</td>\n",
       "      <td id=\"T_490b0_row5_col1\" class=\"data row5 col1\" >0.8434</td>\n",
       "      <td id=\"T_490b0_row5_col2\" class=\"data row5 col2\" >0.6036</td>\n",
       "      <td id=\"T_490b0_row5_col3\" class=\"data row5 col3\" >0.5792</td>\n",
       "      <td id=\"T_490b0_row5_col4\" class=\"data row5 col4\" >0.5864</td>\n",
       "      <td id=\"T_490b0_row5_col5\" class=\"data row5 col5\" >0.4699</td>\n",
       "      <td id=\"T_490b0_row5_col6\" class=\"data row5 col6\" >0.4784</td>\n",
       "      <td id=\"T_490b0_row5_col7\" class=\"data row5 col7\" >0.9251</td>\n",
       "    </tr>\n",
       "    <tr>\n",
       "      <th id=\"T_490b0_level0_row6\" class=\"row_heading level0 row6\" >SD</th>\n",
       "      <td id=\"T_490b0_row6_col0\" class=\"data row6 col0\" >0.0179</td>\n",
       "      <td id=\"T_490b0_row6_col1\" class=\"data row6 col1\" >0.0078</td>\n",
       "      <td id=\"T_490b0_row6_col2\" class=\"data row6 col2\" >0.0363</td>\n",
       "      <td id=\"T_490b0_row6_col3\" class=\"data row6 col3\" >0.0290</td>\n",
       "      <td id=\"T_490b0_row6_col4\" class=\"data row6 col4\" >0.0164</td>\n",
       "      <td id=\"T_490b0_row6_col5\" class=\"data row6 col5\" >0.0238</td>\n",
       "      <td id=\"T_490b0_row6_col6\" class=\"data row6 col6\" >0.0250</td>\n",
       "      <td id=\"T_490b0_row6_col7\" class=\"data row6 col7\" >0.0567</td>\n",
       "    </tr>\n",
       "  </tbody>\n",
       "</table>\n"
      ],
      "text/plain": [
       "<pandas.io.formats.style.Styler at 0x1456ec84340>"
      ]
     },
     "metadata": {},
     "output_type": "display_data"
    }
   ],
   "source": [
    "et = create_model('et')"
   ]
  },
  {
   "cell_type": "code",
   "execution_count": 20,
   "id": "123544c7-700d-43c8-806e-55d60a642546",
   "metadata": {
    "tags": []
   },
   "outputs": [
    {
     "data": {
      "text/html": [
       "<style type=\"text/css\">\n",
       "#T_ecf89_row5_col0, #T_ecf89_row5_col1, #T_ecf89_row5_col2, #T_ecf89_row5_col3, #T_ecf89_row5_col4, #T_ecf89_row5_col5, #T_ecf89_row5_col6, #T_ecf89_row5_col7 {\n",
       "  background: yellow;\n",
       "}\n",
       "</style>\n",
       "<table id=\"T_ecf89_\">\n",
       "  <thead>\n",
       "    <tr>\n",
       "      <th class=\"blank level0\" >&nbsp;</th>\n",
       "      <th class=\"col_heading level0 col0\" >Accuracy</th>\n",
       "      <th class=\"col_heading level0 col1\" >AUC</th>\n",
       "      <th class=\"col_heading level0 col2\" >Recall</th>\n",
       "      <th class=\"col_heading level0 col3\" >Prec.</th>\n",
       "      <th class=\"col_heading level0 col4\" >F1</th>\n",
       "      <th class=\"col_heading level0 col5\" >Kappa</th>\n",
       "      <th class=\"col_heading level0 col6\" >MCC</th>\n",
       "      <th class=\"col_heading level0 col7\" >LogLoss</th>\n",
       "    </tr>\n",
       "  </thead>\n",
       "  <tbody>\n",
       "    <tr>\n",
       "      <th id=\"T_ecf89_level0_row0\" class=\"row_heading level0 row0\" >0</th>\n",
       "      <td id=\"T_ecf89_row0_col0\" class=\"data row0 col0\" >0.5909</td>\n",
       "      <td id=\"T_ecf89_row0_col1\" class=\"data row0 col1\" >0.8212</td>\n",
       "      <td id=\"T_ecf89_row0_col2\" class=\"data row0 col2\" >0.5814</td>\n",
       "      <td id=\"T_ecf89_row0_col3\" class=\"data row0 col3\" >0.5074</td>\n",
       "      <td id=\"T_ecf89_row0_col4\" class=\"data row0 col4\" >0.5412</td>\n",
       "      <td id=\"T_ecf89_row0_col5\" class=\"data row0 col5\" >0.4178</td>\n",
       "      <td id=\"T_ecf89_row0_col6\" class=\"data row0 col6\" >0.4306</td>\n",
       "      <td id=\"T_ecf89_row0_col7\" class=\"data row0 col7\" >1.0432</td>\n",
       "    </tr>\n",
       "    <tr>\n",
       "      <th id=\"T_ecf89_level0_row1\" class=\"row_heading level0 row1\" >1</th>\n",
       "      <td id=\"T_ecf89_row1_col0\" class=\"data row1 col0\" >0.6160</td>\n",
       "      <td id=\"T_ecf89_row1_col1\" class=\"data row1 col1\" >0.8428</td>\n",
       "      <td id=\"T_ecf89_row1_col2\" class=\"data row1 col2\" >0.5793</td>\n",
       "      <td id=\"T_ecf89_row1_col3\" class=\"data row1 col3\" >0.5236</td>\n",
       "      <td id=\"T_ecf89_row1_col4\" class=\"data row1 col4\" >0.5615</td>\n",
       "      <td id=\"T_ecf89_row1_col5\" class=\"data row1 col5\" >0.4488</td>\n",
       "      <td id=\"T_ecf89_row1_col6\" class=\"data row1 col6\" >0.4640</td>\n",
       "      <td id=\"T_ecf89_row1_col7\" class=\"data row1 col7\" >0.9998</td>\n",
       "    </tr>\n",
       "    <tr>\n",
       "      <th id=\"T_ecf89_level0_row2\" class=\"row_heading level0 row2\" >2</th>\n",
       "      <td id=\"T_ecf89_row2_col0\" class=\"data row2 col0\" >0.6198</td>\n",
       "      <td id=\"T_ecf89_row2_col1\" class=\"data row2 col1\" >0.8320</td>\n",
       "      <td id=\"T_ecf89_row2_col2\" class=\"data row2 col2\" >0.5604</td>\n",
       "      <td id=\"T_ecf89_row2_col3\" class=\"data row2 col3\" >0.5301</td>\n",
       "      <td id=\"T_ecf89_row2_col4\" class=\"data row2 col4\" >0.5625</td>\n",
       "      <td id=\"T_ecf89_row2_col5\" class=\"data row2 col5\" >0.4498</td>\n",
       "      <td id=\"T_ecf89_row2_col6\" class=\"data row2 col6\" >0.4687</td>\n",
       "      <td id=\"T_ecf89_row2_col7\" class=\"data row2 col7\" >1.0004</td>\n",
       "    </tr>\n",
       "    <tr>\n",
       "      <th id=\"T_ecf89_level0_row3\" class=\"row_heading level0 row3\" >3</th>\n",
       "      <td id=\"T_ecf89_row3_col0\" class=\"data row3 col0\" >0.6464</td>\n",
       "      <td id=\"T_ecf89_row3_col1\" class=\"data row3 col1\" >0.8372</td>\n",
       "      <td id=\"T_ecf89_row3_col2\" class=\"data row3 col2\" >0.6144</td>\n",
       "      <td id=\"T_ecf89_row3_col3\" class=\"data row3 col3\" >0.5488</td>\n",
       "      <td id=\"T_ecf89_row3_col4\" class=\"data row3 col4\" >0.5920</td>\n",
       "      <td id=\"T_ecf89_row3_col5\" class=\"data row3 col5\" >0.4992</td>\n",
       "      <td id=\"T_ecf89_row3_col6\" class=\"data row3 col6\" >0.5130</td>\n",
       "      <td id=\"T_ecf89_row3_col7\" class=\"data row3 col7\" >0.9895</td>\n",
       "    </tr>\n",
       "    <tr>\n",
       "      <th id=\"T_ecf89_level0_row4\" class=\"row_heading level0 row4\" >4</th>\n",
       "      <td id=\"T_ecf89_row4_col0\" class=\"data row4 col0\" >0.5970</td>\n",
       "      <td id=\"T_ecf89_row4_col1\" class=\"data row4 col1\" >0.8281</td>\n",
       "      <td id=\"T_ecf89_row4_col2\" class=\"data row4 col2\" >0.5285</td>\n",
       "      <td id=\"T_ecf89_row4_col3\" class=\"data row4 col3\" >0.5152</td>\n",
       "      <td id=\"T_ecf89_row4_col4\" class=\"data row4 col4\" >0.5401</td>\n",
       "      <td id=\"T_ecf89_row4_col5\" class=\"data row4 col5\" >0.4196</td>\n",
       "      <td id=\"T_ecf89_row4_col6\" class=\"data row4 col6\" >0.4371</td>\n",
       "      <td id=\"T_ecf89_row4_col7\" class=\"data row4 col7\" >1.0463</td>\n",
       "    </tr>\n",
       "    <tr>\n",
       "      <th id=\"T_ecf89_level0_row5\" class=\"row_heading level0 row5\" >Mean</th>\n",
       "      <td id=\"T_ecf89_row5_col0\" class=\"data row5 col0\" >0.6140</td>\n",
       "      <td id=\"T_ecf89_row5_col1\" class=\"data row5 col1\" >0.8322</td>\n",
       "      <td id=\"T_ecf89_row5_col2\" class=\"data row5 col2\" >0.5728</td>\n",
       "      <td id=\"T_ecf89_row5_col3\" class=\"data row5 col3\" >0.5250</td>\n",
       "      <td id=\"T_ecf89_row5_col4\" class=\"data row5 col4\" >0.5595</td>\n",
       "      <td id=\"T_ecf89_row5_col5\" class=\"data row5 col5\" >0.4470</td>\n",
       "      <td id=\"T_ecf89_row5_col6\" class=\"data row5 col6\" >0.4627</td>\n",
       "      <td id=\"T_ecf89_row5_col7\" class=\"data row5 col7\" >1.0158</td>\n",
       "    </tr>\n",
       "    <tr>\n",
       "      <th id=\"T_ecf89_level0_row6\" class=\"row_heading level0 row6\" >SD</th>\n",
       "      <td id=\"T_ecf89_row6_col0\" class=\"data row6 col0\" >0.0195</td>\n",
       "      <td id=\"T_ecf89_row6_col1\" class=\"data row6 col1\" >0.0074</td>\n",
       "      <td id=\"T_ecf89_row6_col2\" class=\"data row6 col2\" >0.0281</td>\n",
       "      <td id=\"T_ecf89_row6_col3\" class=\"data row6 col3\" >0.0142</td>\n",
       "      <td id=\"T_ecf89_row6_col4\" class=\"data row6 col4\" >0.0189</td>\n",
       "      <td id=\"T_ecf89_row6_col5\" class=\"data row6 col5\" >0.0295</td>\n",
       "      <td id=\"T_ecf89_row6_col6\" class=\"data row6 col6\" >0.0292</td>\n",
       "      <td id=\"T_ecf89_row6_col7\" class=\"data row6 col7\" >0.0239</td>\n",
       "    </tr>\n",
       "  </tbody>\n",
       "</table>\n"
      ],
      "text/plain": [
       "<pandas.io.formats.style.Styler at 0x1456bed7640>"
      ]
     },
     "metadata": {},
     "output_type": "display_data"
    }
   ],
   "source": [
    "tuned_et = tune_model(et)"
   ]
  },
  {
   "cell_type": "code",
   "execution_count": 21,
   "id": "8c55136d-f75c-44ff-a1ba-d56604b7fbdf",
   "metadata": {
    "tags": []
   },
   "outputs": [
    {
     "data": {
      "text/html": [
       "<style type=\"text/css\">\n",
       "#T_2bf9b_row5_col0, #T_2bf9b_row5_col1, #T_2bf9b_row5_col2, #T_2bf9b_row5_col3, #T_2bf9b_row5_col4, #T_2bf9b_row5_col5, #T_2bf9b_row5_col6, #T_2bf9b_row5_col7 {\n",
       "  background: yellow;\n",
       "}\n",
       "</style>\n",
       "<table id=\"T_2bf9b_\">\n",
       "  <thead>\n",
       "    <tr>\n",
       "      <th class=\"blank level0\" >&nbsp;</th>\n",
       "      <th class=\"col_heading level0 col0\" >Accuracy</th>\n",
       "      <th class=\"col_heading level0 col1\" >AUC</th>\n",
       "      <th class=\"col_heading level0 col2\" >Recall</th>\n",
       "      <th class=\"col_heading level0 col3\" >Prec.</th>\n",
       "      <th class=\"col_heading level0 col4\" >F1</th>\n",
       "      <th class=\"col_heading level0 col5\" >Kappa</th>\n",
       "      <th class=\"col_heading level0 col6\" >MCC</th>\n",
       "      <th class=\"col_heading level0 col7\" >LogLoss</th>\n",
       "    </tr>\n",
       "  </thead>\n",
       "  <tbody>\n",
       "    <tr>\n",
       "      <th id=\"T_2bf9b_level0_row0\" class=\"row_heading level0 row0\" >0</th>\n",
       "      <td id=\"T_2bf9b_row0_col0\" class=\"data row0 col0\" >0.6061</td>\n",
       "      <td id=\"T_2bf9b_row0_col1\" class=\"data row0 col1\" >0.8195</td>\n",
       "      <td id=\"T_2bf9b_row0_col2\" class=\"data row0 col2\" >0.6002</td>\n",
       "      <td id=\"T_2bf9b_row0_col3\" class=\"data row0 col3\" >0.5180</td>\n",
       "      <td id=\"T_2bf9b_row0_col4\" class=\"data row0 col4\" >0.5568</td>\n",
       "      <td id=\"T_2bf9b_row0_col5\" class=\"data row0 col5\" >0.4432</td>\n",
       "      <td id=\"T_2bf9b_row0_col6\" class=\"data row0 col6\" >0.4552</td>\n",
       "      <td id=\"T_2bf9b_row0_col7\" class=\"data row0 col7\" >1.0263</td>\n",
       "    </tr>\n",
       "    <tr>\n",
       "      <th id=\"T_2bf9b_level0_row1\" class=\"row_heading level0 row1\" >1</th>\n",
       "      <td id=\"T_2bf9b_row1_col0\" class=\"data row1 col0\" >0.6198</td>\n",
       "      <td id=\"T_2bf9b_row1_col1\" class=\"data row1 col1\" >0.8472</td>\n",
       "      <td id=\"T_2bf9b_row1_col2\" class=\"data row1 col2\" >0.5657</td>\n",
       "      <td id=\"T_2bf9b_row1_col3\" class=\"data row1 col3\" >0.5257</td>\n",
       "      <td id=\"T_2bf9b_row1_col4\" class=\"data row1 col4\" >0.5648</td>\n",
       "      <td id=\"T_2bf9b_row1_col5\" class=\"data row1 col5\" >0.4576</td>\n",
       "      <td id=\"T_2bf9b_row1_col6\" class=\"data row1 col6\" >0.4717</td>\n",
       "      <td id=\"T_2bf9b_row1_col7\" class=\"data row1 col7\" >0.9886</td>\n",
       "    </tr>\n",
       "    <tr>\n",
       "      <th id=\"T_2bf9b_level0_row2\" class=\"row_heading level0 row2\" >2</th>\n",
       "      <td id=\"T_2bf9b_row2_col0\" class=\"data row2 col0\" >0.6198</td>\n",
       "      <td id=\"T_2bf9b_row2_col1\" class=\"data row2 col1\" >0.8292</td>\n",
       "      <td id=\"T_2bf9b_row2_col2\" class=\"data row2 col2\" >0.5378</td>\n",
       "      <td id=\"T_2bf9b_row2_col3\" class=\"data row2 col3\" >0.5279</td>\n",
       "      <td id=\"T_2bf9b_row2_col4\" class=\"data row2 col4\" >0.5639</td>\n",
       "      <td id=\"T_2bf9b_row2_col5\" class=\"data row2 col5\" >0.4546</td>\n",
       "      <td id=\"T_2bf9b_row2_col6\" class=\"data row2 col6\" >0.4699</td>\n",
       "      <td id=\"T_2bf9b_row2_col7\" class=\"data row2 col7\" >0.9993</td>\n",
       "    </tr>\n",
       "    <tr>\n",
       "      <th id=\"T_2bf9b_level0_row3\" class=\"row_heading level0 row3\" >3</th>\n",
       "      <td id=\"T_2bf9b_row3_col0\" class=\"data row3 col0\" >0.6388</td>\n",
       "      <td id=\"T_2bf9b_row3_col1\" class=\"data row3 col1\" >0.8424</td>\n",
       "      <td id=\"T_2bf9b_row3_col2\" class=\"data row3 col2\" >0.6136</td>\n",
       "      <td id=\"T_2bf9b_row3_col3\" class=\"data row3 col3\" >0.5487</td>\n",
       "      <td id=\"T_2bf9b_row3_col4\" class=\"data row3 col4\" >0.5875</td>\n",
       "      <td id=\"T_2bf9b_row3_col5\" class=\"data row3 col5\" >0.4911</td>\n",
       "      <td id=\"T_2bf9b_row3_col6\" class=\"data row3 col6\" >0.5038</td>\n",
       "      <td id=\"T_2bf9b_row3_col7\" class=\"data row3 col7\" >0.9857</td>\n",
       "    </tr>\n",
       "    <tr>\n",
       "      <th id=\"T_2bf9b_level0_row4\" class=\"row_heading level0 row4\" >4</th>\n",
       "      <td id=\"T_2bf9b_row4_col0\" class=\"data row4 col0\" >0.6122</td>\n",
       "      <td id=\"T_2bf9b_row4_col1\" class=\"data row4 col1\" >0.8436</td>\n",
       "      <td id=\"T_2bf9b_row4_col2\" class=\"data row4 col2\" >0.5195</td>\n",
       "      <td id=\"T_2bf9b_row4_col3\" class=\"data row4 col3\" >0.5287</td>\n",
       "      <td id=\"T_2bf9b_row4_col4\" class=\"data row4 col4\" >0.5531</td>\n",
       "      <td id=\"T_2bf9b_row4_col5\" class=\"data row4 col5\" >0.4390</td>\n",
       "      <td id=\"T_2bf9b_row4_col6\" class=\"data row4 col6\" >0.4582</td>\n",
       "      <td id=\"T_2bf9b_row4_col7\" class=\"data row4 col7\" >1.0103</td>\n",
       "    </tr>\n",
       "    <tr>\n",
       "      <th id=\"T_2bf9b_level0_row5\" class=\"row_heading level0 row5\" >Mean</th>\n",
       "      <td id=\"T_2bf9b_row5_col0\" class=\"data row5 col0\" >0.6193</td>\n",
       "      <td id=\"T_2bf9b_row5_col1\" class=\"data row5 col1\" >0.8364</td>\n",
       "      <td id=\"T_2bf9b_row5_col2\" class=\"data row5 col2\" >0.5673</td>\n",
       "      <td id=\"T_2bf9b_row5_col3\" class=\"data row5 col3\" >0.5298</td>\n",
       "      <td id=\"T_2bf9b_row5_col4\" class=\"data row5 col4\" >0.5652</td>\n",
       "      <td id=\"T_2bf9b_row5_col5\" class=\"data row5 col5\" >0.4571</td>\n",
       "      <td id=\"T_2bf9b_row5_col6\" class=\"data row5 col6\" >0.4718</td>\n",
       "      <td id=\"T_2bf9b_row5_col7\" class=\"data row5 col7\" >1.0020</td>\n",
       "    </tr>\n",
       "    <tr>\n",
       "      <th id=\"T_2bf9b_level0_row6\" class=\"row_heading level0 row6\" >SD</th>\n",
       "      <td id=\"T_2bf9b_row6_col0\" class=\"data row6 col0\" >0.0110</td>\n",
       "      <td id=\"T_2bf9b_row6_col1\" class=\"data row6 col1\" >0.0104</td>\n",
       "      <td id=\"T_2bf9b_row6_col2\" class=\"data row6 col2\" >0.0357</td>\n",
       "      <td id=\"T_2bf9b_row6_col3\" class=\"data row6 col3\" >0.0102</td>\n",
       "      <td id=\"T_2bf9b_row6_col4\" class=\"data row6 col4\" >0.0120</td>\n",
       "      <td id=\"T_2bf9b_row6_col5\" class=\"data row6 col5\" >0.0183</td>\n",
       "      <td id=\"T_2bf9b_row6_col6\" class=\"data row6 col6\" >0.0173</td>\n",
       "      <td id=\"T_2bf9b_row6_col7\" class=\"data row6 col7\" >0.0149</td>\n",
       "    </tr>\n",
       "  </tbody>\n",
       "</table>\n"
      ],
      "text/plain": [
       "<pandas.io.formats.style.Styler at 0x14501bfac70>"
      ]
     },
     "metadata": {},
     "output_type": "display_data"
    }
   ],
   "source": [
    "tuned_et_optuna = tune_model(et, search_library = 'optuna')"
   ]
  },
  {
   "cell_type": "markdown",
   "id": "d383cd4a-0cd1-48a0-9b10-c9e3bebd4ecb",
   "metadata": {},
   "source": [
    "> `et` Accuracy mean값 : `0.6277 -> 0.6398 -> 0.6368`"
   ]
  },
  {
   "cell_type": "code",
   "execution_count": 22,
   "id": "14c68218-64e4-4183-94f1-119bc5d88259",
   "metadata": {},
   "outputs": [],
   "source": [
    "# et = create_model('et')\n",
    "# tuned_et = tune_model(et)\n",
    "# tuned_et_optuna = tune_model(et, search_library = 'optuna')"
   ]
  },
  {
   "cell_type": "markdown",
   "id": "25112430-2405-47fc-8b03-faf306061822",
   "metadata": {
    "tags": []
   },
   "source": [
    "### lightgbm Classifier"
   ]
  },
  {
   "cell_type": "code",
   "execution_count": 23,
   "id": "32d7f941-c714-4f23-8b0d-a6180cd5c3ee",
   "metadata": {
    "tags": []
   },
   "outputs": [
    {
     "data": {
      "text/html": [
       "<style type=\"text/css\">\n",
       "#T_d6921_row5_col0, #T_d6921_row5_col1, #T_d6921_row5_col2, #T_d6921_row5_col3, #T_d6921_row5_col4, #T_d6921_row5_col5, #T_d6921_row5_col6, #T_d6921_row5_col7 {\n",
       "  background: yellow;\n",
       "}\n",
       "</style>\n",
       "<table id=\"T_d6921_\">\n",
       "  <thead>\n",
       "    <tr>\n",
       "      <th class=\"blank level0\" >&nbsp;</th>\n",
       "      <th class=\"col_heading level0 col0\" >Accuracy</th>\n",
       "      <th class=\"col_heading level0 col1\" >AUC</th>\n",
       "      <th class=\"col_heading level0 col2\" >Recall</th>\n",
       "      <th class=\"col_heading level0 col3\" >Prec.</th>\n",
       "      <th class=\"col_heading level0 col4\" >F1</th>\n",
       "      <th class=\"col_heading level0 col5\" >Kappa</th>\n",
       "      <th class=\"col_heading level0 col6\" >MCC</th>\n",
       "      <th class=\"col_heading level0 col7\" >LogLoss</th>\n",
       "    </tr>\n",
       "  </thead>\n",
       "  <tbody>\n",
       "    <tr>\n",
       "      <th id=\"T_d6921_level0_row0\" class=\"row_heading level0 row0\" >0</th>\n",
       "      <td id=\"T_d6921_row0_col0\" class=\"data row0 col0\" >0.5985</td>\n",
       "      <td id=\"T_d6921_row0_col1\" class=\"data row0 col1\" >0.8236</td>\n",
       "      <td id=\"T_d6921_row0_col2\" class=\"data row0 col2\" >0.5621</td>\n",
       "      <td id=\"T_d6921_row0_col3\" class=\"data row0 col3\" >0.5751</td>\n",
       "      <td id=\"T_d6921_row0_col4\" class=\"data row0 col4\" >0.5794</td>\n",
       "      <td id=\"T_d6921_row0_col5\" class=\"data row0 col5\" >0.4381</td>\n",
       "      <td id=\"T_d6921_row0_col6\" class=\"data row0 col6\" >0.4421</td>\n",
       "      <td id=\"T_d6921_row0_col7\" class=\"data row0 col7\" >1.2593</td>\n",
       "    </tr>\n",
       "    <tr>\n",
       "      <th id=\"T_d6921_level0_row1\" class=\"row_heading level0 row1\" >1</th>\n",
       "      <td id=\"T_d6921_row1_col0\" class=\"data row1 col0\" >0.6084</td>\n",
       "      <td id=\"T_d6921_row1_col1\" class=\"data row1 col1\" >0.8262</td>\n",
       "      <td id=\"T_d6921_row1_col2\" class=\"data row1 col2\" >0.6283</td>\n",
       "      <td id=\"T_d6921_row1_col3\" class=\"data row1 col3\" >0.5854</td>\n",
       "      <td id=\"T_d6921_row1_col4\" class=\"data row1 col4\" >0.5931</td>\n",
       "      <td id=\"T_d6921_row1_col5\" class=\"data row1 col5\" >0.4573</td>\n",
       "      <td id=\"T_d6921_row1_col6\" class=\"data row1 col6\" >0.4595</td>\n",
       "      <td id=\"T_d6921_row1_col7\" class=\"data row1 col7\" >1.3524</td>\n",
       "    </tr>\n",
       "    <tr>\n",
       "      <th id=\"T_d6921_level0_row2\" class=\"row_heading level0 row2\" >2</th>\n",
       "      <td id=\"T_d6921_row2_col0\" class=\"data row2 col0\" >0.5551</td>\n",
       "      <td id=\"T_d6921_row2_col1\" class=\"data row2 col1\" >0.7951</td>\n",
       "      <td id=\"T_d6921_row2_col2\" class=\"data row2 col2\" >0.5370</td>\n",
       "      <td id=\"T_d6921_row2_col3\" class=\"data row2 col3\" >0.5262</td>\n",
       "      <td id=\"T_d6921_row2_col4\" class=\"data row2 col4\" >0.5387</td>\n",
       "      <td id=\"T_d6921_row2_col5\" class=\"data row2 col5\" >0.3832</td>\n",
       "      <td id=\"T_d6921_row2_col6\" class=\"data row2 col6\" >0.3849</td>\n",
       "      <td id=\"T_d6921_row2_col7\" class=\"data row2 col7\" >1.5843</td>\n",
       "    </tr>\n",
       "    <tr>\n",
       "      <th id=\"T_d6921_level0_row3\" class=\"row_heading level0 row3\" >3</th>\n",
       "      <td id=\"T_d6921_row3_col0\" class=\"data row3 col0\" >0.6236</td>\n",
       "      <td id=\"T_d6921_row3_col1\" class=\"data row3 col1\" >0.8234</td>\n",
       "      <td id=\"T_d6921_row3_col2\" class=\"data row3 col2\" >0.6098</td>\n",
       "      <td id=\"T_d6921_row3_col3\" class=\"data row3 col3\" >0.5827</td>\n",
       "      <td id=\"T_d6921_row3_col4\" class=\"data row3 col4\" >0.5972</td>\n",
       "      <td id=\"T_d6921_row3_col5\" class=\"data row3 col5\" >0.4741</td>\n",
       "      <td id=\"T_d6921_row3_col6\" class=\"data row3 col6\" >0.4790</td>\n",
       "      <td id=\"T_d6921_row3_col7\" class=\"data row3 col7\" >1.4184</td>\n",
       "    </tr>\n",
       "    <tr>\n",
       "      <th id=\"T_d6921_level0_row4\" class=\"row_heading level0 row4\" >4</th>\n",
       "      <td id=\"T_d6921_row4_col0\" class=\"data row4 col0\" >0.6388</td>\n",
       "      <td id=\"T_d6921_row4_col1\" class=\"data row4 col1\" >0.8266</td>\n",
       "      <td id=\"T_d6921_row4_col2\" class=\"data row4 col2\" >0.6279</td>\n",
       "      <td id=\"T_d6921_row4_col3\" class=\"data row4 col3\" >0.6221</td>\n",
       "      <td id=\"T_d6921_row4_col4\" class=\"data row4 col4\" >0.6270</td>\n",
       "      <td id=\"T_d6921_row4_col5\" class=\"data row4 col5\" >0.5020</td>\n",
       "      <td id=\"T_d6921_row4_col6\" class=\"data row4 col6\" >0.5040</td>\n",
       "      <td id=\"T_d6921_row4_col7\" class=\"data row4 col7\" >1.3282</td>\n",
       "    </tr>\n",
       "    <tr>\n",
       "      <th id=\"T_d6921_level0_row5\" class=\"row_heading level0 row5\" >Mean</th>\n",
       "      <td id=\"T_d6921_row5_col0\" class=\"data row5 col0\" >0.6049</td>\n",
       "      <td id=\"T_d6921_row5_col1\" class=\"data row5 col1\" >0.8190</td>\n",
       "      <td id=\"T_d6921_row5_col2\" class=\"data row5 col2\" >0.5930</td>\n",
       "      <td id=\"T_d6921_row5_col3\" class=\"data row5 col3\" >0.5783</td>\n",
       "      <td id=\"T_d6921_row5_col4\" class=\"data row5 col4\" >0.5871</td>\n",
       "      <td id=\"T_d6921_row5_col5\" class=\"data row5 col5\" >0.4509</td>\n",
       "      <td id=\"T_d6921_row5_col6\" class=\"data row5 col6\" >0.4539</td>\n",
       "      <td id=\"T_d6921_row5_col7\" class=\"data row5 col7\" >1.3885</td>\n",
       "    </tr>\n",
       "    <tr>\n",
       "      <th id=\"T_d6921_level0_row6\" class=\"row_heading level0 row6\" >SD</th>\n",
       "      <td id=\"T_d6921_row6_col0\" class=\"data row6 col0\" >0.0284</td>\n",
       "      <td id=\"T_d6921_row6_col1\" class=\"data row6 col1\" >0.0120</td>\n",
       "      <td id=\"T_d6921_row6_col2\" class=\"data row6 col2\" >0.0370</td>\n",
       "      <td id=\"T_d6921_row6_col3\" class=\"data row6 col3\" >0.0307</td>\n",
       "      <td id=\"T_d6921_row6_col4\" class=\"data row6 col4\" >0.0288</td>\n",
       "      <td id=\"T_d6921_row6_col5\" class=\"data row6 col5\" >0.0399</td>\n",
       "      <td id=\"T_d6921_row6_col6\" class=\"data row6 col6\" >0.0402</td>\n",
       "      <td id=\"T_d6921_row6_col7\" class=\"data row6 col7\" >0.1103</td>\n",
       "    </tr>\n",
       "  </tbody>\n",
       "</table>\n"
      ],
      "text/plain": [
       "<pandas.io.formats.style.Styler at 0x1456d74e610>"
      ]
     },
     "metadata": {},
     "output_type": "display_data"
    }
   ],
   "source": [
    "lightgbm = create_model('lightgbm')"
   ]
  },
  {
   "cell_type": "code",
   "execution_count": 24,
   "id": "6ee2bf82-6d16-4a30-b4f5-c8b81c1c9969",
   "metadata": {
    "tags": []
   },
   "outputs": [
    {
     "data": {
      "text/html": [
       "<style type=\"text/css\">\n",
       "#T_ac590_row5_col0, #T_ac590_row5_col1, #T_ac590_row5_col2, #T_ac590_row5_col3, #T_ac590_row5_col4, #T_ac590_row5_col5, #T_ac590_row5_col6, #T_ac590_row5_col7 {\n",
       "  background: yellow;\n",
       "}\n",
       "</style>\n",
       "<table id=\"T_ac590_\">\n",
       "  <thead>\n",
       "    <tr>\n",
       "      <th class=\"blank level0\" >&nbsp;</th>\n",
       "      <th class=\"col_heading level0 col0\" >Accuracy</th>\n",
       "      <th class=\"col_heading level0 col1\" >AUC</th>\n",
       "      <th class=\"col_heading level0 col2\" >Recall</th>\n",
       "      <th class=\"col_heading level0 col3\" >Prec.</th>\n",
       "      <th class=\"col_heading level0 col4\" >F1</th>\n",
       "      <th class=\"col_heading level0 col5\" >Kappa</th>\n",
       "      <th class=\"col_heading level0 col6\" >MCC</th>\n",
       "      <th class=\"col_heading level0 col7\" >LogLoss</th>\n",
       "    </tr>\n",
       "  </thead>\n",
       "  <tbody>\n",
       "    <tr>\n",
       "      <th id=\"T_ac590_level0_row0\" class=\"row_heading level0 row0\" >0</th>\n",
       "      <td id=\"T_ac590_row0_col0\" class=\"data row0 col0\" >0.6326</td>\n",
       "      <td id=\"T_ac590_row0_col1\" class=\"data row0 col1\" >0.8387</td>\n",
       "      <td id=\"T_ac590_row0_col2\" class=\"data row0 col2\" >0.6200</td>\n",
       "      <td id=\"T_ac590_row0_col3\" class=\"data row0 col3\" >0.5853</td>\n",
       "      <td id=\"T_ac590_row0_col4\" class=\"data row0 col4\" >0.5959</td>\n",
       "      <td id=\"T_ac590_row0_col5\" class=\"data row0 col5\" >0.4840</td>\n",
       "      <td id=\"T_ac590_row0_col6\" class=\"data row0 col6\" >0.4935</td>\n",
       "      <td id=\"T_ac590_row0_col7\" class=\"data row0 col7\" >0.9084</td>\n",
       "    </tr>\n",
       "    <tr>\n",
       "      <th id=\"T_ac590_level0_row1\" class=\"row_heading level0 row1\" >1</th>\n",
       "      <td id=\"T_ac590_row1_col0\" class=\"data row1 col0\" >0.6274</td>\n",
       "      <td id=\"T_ac590_row1_col1\" class=\"data row1 col1\" >0.8342</td>\n",
       "      <td id=\"T_ac590_row1_col2\" class=\"data row1 col2\" >0.6373</td>\n",
       "      <td id=\"T_ac590_row1_col3\" class=\"data row1 col3\" >0.5864</td>\n",
       "      <td id=\"T_ac590_row1_col4\" class=\"data row1 col4\" >0.5996</td>\n",
       "      <td id=\"T_ac590_row1_col5\" class=\"data row1 col5\" >0.4788</td>\n",
       "      <td id=\"T_ac590_row1_col6\" class=\"data row1 col6\" >0.4841</td>\n",
       "      <td id=\"T_ac590_row1_col7\" class=\"data row1 col7\" >0.9137</td>\n",
       "    </tr>\n",
       "    <tr>\n",
       "      <th id=\"T_ac590_level0_row2\" class=\"row_heading level0 row2\" >2</th>\n",
       "      <td id=\"T_ac590_row2_col0\" class=\"data row2 col0\" >0.5817</td>\n",
       "      <td id=\"T_ac590_row2_col1\" class=\"data row2 col1\" >0.8152</td>\n",
       "      <td id=\"T_ac590_row2_col2\" class=\"data row2 col2\" >0.5309</td>\n",
       "      <td id=\"T_ac590_row2_col3\" class=\"data row2 col3\" >0.5277</td>\n",
       "      <td id=\"T_ac590_row2_col4\" class=\"data row2 col4\" >0.5483</td>\n",
       "      <td id=\"T_ac590_row2_col5\" class=\"data row2 col5\" >0.4104</td>\n",
       "      <td id=\"T_ac590_row2_col6\" class=\"data row2 col6\" >0.4169</td>\n",
       "      <td id=\"T_ac590_row2_col7\" class=\"data row2 col7\" >0.9950</td>\n",
       "    </tr>\n",
       "    <tr>\n",
       "      <th id=\"T_ac590_level0_row3\" class=\"row_heading level0 row3\" >3</th>\n",
       "      <td id=\"T_ac590_row3_col0\" class=\"data row3 col0\" >0.6350</td>\n",
       "      <td id=\"T_ac590_row3_col1\" class=\"data row3 col1\" >0.8441</td>\n",
       "      <td id=\"T_ac590_row3_col2\" class=\"data row3 col2\" >0.6346</td>\n",
       "      <td id=\"T_ac590_row3_col3\" class=\"data row3 col3\" >0.5929</td>\n",
       "      <td id=\"T_ac590_row3_col4\" class=\"data row3 col4\" >0.6082</td>\n",
       "      <td id=\"T_ac590_row3_col5\" class=\"data row3 col5\" >0.4946</td>\n",
       "      <td id=\"T_ac590_row3_col6\" class=\"data row3 col6\" >0.4988</td>\n",
       "      <td id=\"T_ac590_row3_col7\" class=\"data row3 col7\" >0.9120</td>\n",
       "    </tr>\n",
       "    <tr>\n",
       "      <th id=\"T_ac590_level0_row4\" class=\"row_heading level0 row4\" >4</th>\n",
       "      <td id=\"T_ac590_row4_col0\" class=\"data row4 col0\" >0.6236</td>\n",
       "      <td id=\"T_ac590_row4_col1\" class=\"data row4 col1\" >0.8281</td>\n",
       "      <td id=\"T_ac590_row4_col2\" class=\"data row4 col2\" >0.5769</td>\n",
       "      <td id=\"T_ac590_row4_col3\" class=\"data row4 col3\" >0.5738</td>\n",
       "      <td id=\"T_ac590_row4_col4\" class=\"data row4 col4\" >0.5897</td>\n",
       "      <td id=\"T_ac590_row4_col5\" class=\"data row4 col5\" >0.4701</td>\n",
       "      <td id=\"T_ac590_row4_col6\" class=\"data row4 col6\" >0.4783</td>\n",
       "      <td id=\"T_ac590_row4_col7\" class=\"data row4 col7\" >0.9579</td>\n",
       "    </tr>\n",
       "    <tr>\n",
       "      <th id=\"T_ac590_level0_row5\" class=\"row_heading level0 row5\" >Mean</th>\n",
       "      <td id=\"T_ac590_row5_col0\" class=\"data row5 col0\" >0.6201</td>\n",
       "      <td id=\"T_ac590_row5_col1\" class=\"data row5 col1\" >0.8321</td>\n",
       "      <td id=\"T_ac590_row5_col2\" class=\"data row5 col2\" >0.5999</td>\n",
       "      <td id=\"T_ac590_row5_col3\" class=\"data row5 col3\" >0.5732</td>\n",
       "      <td id=\"T_ac590_row5_col4\" class=\"data row5 col4\" >0.5883</td>\n",
       "      <td id=\"T_ac590_row5_col5\" class=\"data row5 col5\" >0.4676</td>\n",
       "      <td id=\"T_ac590_row5_col6\" class=\"data row5 col6\" >0.4743</td>\n",
       "      <td id=\"T_ac590_row5_col7\" class=\"data row5 col7\" >0.9374</td>\n",
       "    </tr>\n",
       "    <tr>\n",
       "      <th id=\"T_ac590_level0_row6\" class=\"row_heading level0 row6\" >SD</th>\n",
       "      <td id=\"T_ac590_row6_col0\" class=\"data row6 col0\" >0.0196</td>\n",
       "      <td id=\"T_ac590_row6_col1\" class=\"data row6 col1\" >0.0099</td>\n",
       "      <td id=\"T_ac590_row6_col2\" class=\"data row6 col2\" >0.0407</td>\n",
       "      <td id=\"T_ac590_row6_col3\" class=\"data row6 col3\" >0.0236</td>\n",
       "      <td id=\"T_ac590_row6_col4\" class=\"data row6 col4\" >0.0209</td>\n",
       "      <td id=\"T_ac590_row6_col5\" class=\"data row6 col5\" >0.0297</td>\n",
       "      <td id=\"T_ac590_row6_col6\" class=\"data row6 col6\" >0.0296</td>\n",
       "      <td id=\"T_ac590_row6_col7\" class=\"data row6 col7\" >0.0340</td>\n",
       "    </tr>\n",
       "  </tbody>\n",
       "</table>\n"
      ],
      "text/plain": [
       "<pandas.io.formats.style.Styler at 0x1456ba11160>"
      ]
     },
     "metadata": {},
     "output_type": "display_data"
    }
   ],
   "source": [
    "tuned_lightgbm = tune_model(lightgbm)"
   ]
  },
  {
   "cell_type": "code",
   "execution_count": 25,
   "id": "90d1a336-27ef-45f8-91bb-359ae3db2d62",
   "metadata": {
    "tags": []
   },
   "outputs": [
    {
     "data": {
      "text/html": [
       "<style type=\"text/css\">\n",
       "#T_a5326_row5_col0, #T_a5326_row5_col1, #T_a5326_row5_col2, #T_a5326_row5_col3, #T_a5326_row5_col4, #T_a5326_row5_col5, #T_a5326_row5_col6, #T_a5326_row5_col7 {\n",
       "  background: yellow;\n",
       "}\n",
       "</style>\n",
       "<table id=\"T_a5326_\">\n",
       "  <thead>\n",
       "    <tr>\n",
       "      <th class=\"blank level0\" >&nbsp;</th>\n",
       "      <th class=\"col_heading level0 col0\" >Accuracy</th>\n",
       "      <th class=\"col_heading level0 col1\" >AUC</th>\n",
       "      <th class=\"col_heading level0 col2\" >Recall</th>\n",
       "      <th class=\"col_heading level0 col3\" >Prec.</th>\n",
       "      <th class=\"col_heading level0 col4\" >F1</th>\n",
       "      <th class=\"col_heading level0 col5\" >Kappa</th>\n",
       "      <th class=\"col_heading level0 col6\" >MCC</th>\n",
       "      <th class=\"col_heading level0 col7\" >LogLoss</th>\n",
       "    </tr>\n",
       "  </thead>\n",
       "  <tbody>\n",
       "    <tr>\n",
       "      <th id=\"T_a5326_level0_row0\" class=\"row_heading level0 row0\" >0</th>\n",
       "      <td id=\"T_a5326_row0_col0\" class=\"data row0 col0\" >0.3977</td>\n",
       "      <td id=\"T_a5326_row0_col1\" class=\"data row0 col1\" >0.5000</td>\n",
       "      <td id=\"T_a5326_row0_col2\" class=\"data row0 col2\" >0.1667</td>\n",
       "      <td id=\"T_a5326_row0_col3\" class=\"data row0 col3\" >0.1582</td>\n",
       "      <td id=\"T_a5326_row0_col4\" class=\"data row0 col4\" >0.2263</td>\n",
       "      <td id=\"T_a5326_row0_col5\" class=\"data row0 col5\" >0.0000</td>\n",
       "      <td id=\"T_a5326_row0_col6\" class=\"data row0 col6\" >0.0000</td>\n",
       "      <td id=\"T_a5326_row0_col7\" class=\"data row0 col7\" >1.5153</td>\n",
       "    </tr>\n",
       "    <tr>\n",
       "      <th id=\"T_a5326_level0_row1\" class=\"row_heading level0 row1\" >1</th>\n",
       "      <td id=\"T_a5326_row1_col0\" class=\"data row1 col0\" >0.3992</td>\n",
       "      <td id=\"T_a5326_row1_col1\" class=\"data row1 col1\" >0.5000</td>\n",
       "      <td id=\"T_a5326_row1_col2\" class=\"data row1 col2\" >0.1667</td>\n",
       "      <td id=\"T_a5326_row1_col3\" class=\"data row1 col3\" >0.1594</td>\n",
       "      <td id=\"T_a5326_row1_col4\" class=\"data row1 col4\" >0.2278</td>\n",
       "      <td id=\"T_a5326_row1_col5\" class=\"data row1 col5\" >0.0000</td>\n",
       "      <td id=\"T_a5326_row1_col6\" class=\"data row1 col6\" >0.0000</td>\n",
       "      <td id=\"T_a5326_row1_col7\" class=\"data row1 col7\" >1.5106</td>\n",
       "    </tr>\n",
       "    <tr>\n",
       "      <th id=\"T_a5326_level0_row2\" class=\"row_heading level0 row2\" >2</th>\n",
       "      <td id=\"T_a5326_row2_col0\" class=\"data row2 col0\" >0.3992</td>\n",
       "      <td id=\"T_a5326_row2_col1\" class=\"data row2 col1\" >0.5000</td>\n",
       "      <td id=\"T_a5326_row2_col2\" class=\"data row2 col2\" >0.1667</td>\n",
       "      <td id=\"T_a5326_row2_col3\" class=\"data row2 col3\" >0.1594</td>\n",
       "      <td id=\"T_a5326_row2_col4\" class=\"data row2 col4\" >0.2278</td>\n",
       "      <td id=\"T_a5326_row2_col5\" class=\"data row2 col5\" >0.0000</td>\n",
       "      <td id=\"T_a5326_row2_col6\" class=\"data row2 col6\" >0.0000</td>\n",
       "      <td id=\"T_a5326_row2_col7\" class=\"data row2 col7\" >1.5106</td>\n",
       "    </tr>\n",
       "    <tr>\n",
       "      <th id=\"T_a5326_level0_row3\" class=\"row_heading level0 row3\" >3</th>\n",
       "      <td id=\"T_a5326_row3_col0\" class=\"data row3 col0\" >0.3992</td>\n",
       "      <td id=\"T_a5326_row3_col1\" class=\"data row3 col1\" >0.5000</td>\n",
       "      <td id=\"T_a5326_row3_col2\" class=\"data row3 col2\" >0.1667</td>\n",
       "      <td id=\"T_a5326_row3_col3\" class=\"data row3 col3\" >0.1594</td>\n",
       "      <td id=\"T_a5326_row3_col4\" class=\"data row3 col4\" >0.2278</td>\n",
       "      <td id=\"T_a5326_row3_col5\" class=\"data row3 col5\" >0.0000</td>\n",
       "      <td id=\"T_a5326_row3_col6\" class=\"data row3 col6\" >0.0000</td>\n",
       "      <td id=\"T_a5326_row3_col7\" class=\"data row3 col7\" >1.5197</td>\n",
       "    </tr>\n",
       "    <tr>\n",
       "      <th id=\"T_a5326_level0_row4\" class=\"row_heading level0 row4\" >4</th>\n",
       "      <td id=\"T_a5326_row4_col0\" class=\"data row4 col0\" >0.3954</td>\n",
       "      <td id=\"T_a5326_row4_col1\" class=\"data row4 col1\" >0.5000</td>\n",
       "      <td id=\"T_a5326_row4_col2\" class=\"data row4 col2\" >0.1667</td>\n",
       "      <td id=\"T_a5326_row4_col3\" class=\"data row4 col3\" >0.1564</td>\n",
       "      <td id=\"T_a5326_row4_col4\" class=\"data row4 col4\" >0.2241</td>\n",
       "      <td id=\"T_a5326_row4_col5\" class=\"data row4 col5\" >0.0000</td>\n",
       "      <td id=\"T_a5326_row4_col6\" class=\"data row4 col6\" >0.0000</td>\n",
       "      <td id=\"T_a5326_row4_col7\" class=\"data row4 col7\" >1.5234</td>\n",
       "    </tr>\n",
       "    <tr>\n",
       "      <th id=\"T_a5326_level0_row5\" class=\"row_heading level0 row5\" >Mean</th>\n",
       "      <td id=\"T_a5326_row5_col0\" class=\"data row5 col0\" >0.3982</td>\n",
       "      <td id=\"T_a5326_row5_col1\" class=\"data row5 col1\" >0.5000</td>\n",
       "      <td id=\"T_a5326_row5_col2\" class=\"data row5 col2\" >0.1667</td>\n",
       "      <td id=\"T_a5326_row5_col3\" class=\"data row5 col3\" >0.1585</td>\n",
       "      <td id=\"T_a5326_row5_col4\" class=\"data row5 col4\" >0.2268</td>\n",
       "      <td id=\"T_a5326_row5_col5\" class=\"data row5 col5\" >0.0000</td>\n",
       "      <td id=\"T_a5326_row5_col6\" class=\"data row5 col6\" >0.0000</td>\n",
       "      <td id=\"T_a5326_row5_col7\" class=\"data row5 col7\" >1.5159</td>\n",
       "    </tr>\n",
       "    <tr>\n",
       "      <th id=\"T_a5326_level0_row6\" class=\"row_heading level0 row6\" >SD</th>\n",
       "      <td id=\"T_a5326_row6_col0\" class=\"data row6 col0\" >0.0015</td>\n",
       "      <td id=\"T_a5326_row6_col1\" class=\"data row6 col1\" >0.0000</td>\n",
       "      <td id=\"T_a5326_row6_col2\" class=\"data row6 col2\" >0.0000</td>\n",
       "      <td id=\"T_a5326_row6_col3\" class=\"data row6 col3\" >0.0012</td>\n",
       "      <td id=\"T_a5326_row6_col4\" class=\"data row6 col4\" >0.0015</td>\n",
       "      <td id=\"T_a5326_row6_col5\" class=\"data row6 col5\" >0.0000</td>\n",
       "      <td id=\"T_a5326_row6_col6\" class=\"data row6 col6\" >0.0000</td>\n",
       "      <td id=\"T_a5326_row6_col7\" class=\"data row6 col7\" >0.0051</td>\n",
       "    </tr>\n",
       "  </tbody>\n",
       "</table>\n"
      ],
      "text/plain": [
       "<pandas.io.formats.style.Styler at 0x1456eac4220>"
      ]
     },
     "metadata": {},
     "output_type": "display_data"
    }
   ],
   "source": [
    "tuned_lightgbm_optuna = tune_model(lightgbm, search_library = 'optuna')"
   ]
  },
  {
   "cell_type": "markdown",
   "id": "f610439c-798f-4d12-992b-cb4f463df40d",
   "metadata": {},
   "source": [
    "> 🤷 성능이 개선되기도 하나 떨어지기도 함"
   ]
  },
  {
   "cell_type": "markdown",
   "id": "fbb61f9e-25a5-43c4-97a3-f30f64749299",
   "metadata": {},
   "source": [
    "---\n",
    "## evaluate_model 간단한 모델 평가 및 시각화"
   ]
  },
  {
   "cell_type": "code",
   "execution_count": 29,
   "id": "f6ed4171-dadb-47ff-aacf-42706b650b9b",
   "metadata": {},
   "outputs": [
    {
     "data": {
      "application/vnd.jupyter.widget-view+json": {
       "model_id": "fecc5177c5b8401b938b76ff9ee5d4fe",
       "version_major": 2,
       "version_minor": 0
      },
      "text/plain": [
       "interactive(children=(ToggleButtons(description='Plot Type:', icons=('',), options=(('Hyperparameters', 'param…"
      ]
     },
     "metadata": {},
     "output_type": "display_data"
    }
   ],
   "source": [
    "evaluate_model(rf) # rf, et, tuned_lightgbm = 성과가 가장 좋은 모델"
   ]
  },
  {
   "cell_type": "code",
   "execution_count": 30,
   "id": "321b60cd-3fc5-4f3f-857e-bfdc95b26aab",
   "metadata": {
    "tags": []
   },
   "outputs": [
    {
     "data": {
      "application/vnd.jupyter.widget-view+json": {
       "model_id": "52b9e67fe8664b82bc15b03bf64dd6aa",
       "version_major": 2,
       "version_minor": 0
      },
      "text/plain": [
       "interactive(children=(ToggleButtons(description='Plot Type:', icons=('',), options=(('Hyperparameters', 'param…"
      ]
     },
     "metadata": {},
     "output_type": "display_data"
    }
   ],
   "source": [
    "evaluate_model(tuned_et) # 모델 하나씩 plot type 별로 볼 수 있음"
   ]
  },
  {
   "cell_type": "code",
   "execution_count": 31,
   "id": "3bdd0feb-a8a1-4132-91b3-36f654f7088d",
   "metadata": {},
   "outputs": [
    {
     "data": {
      "application/vnd.jupyter.widget-view+json": {
       "model_id": "b1276a3340844b64abf170b714d23d79",
       "version_major": 2,
       "version_minor": 0
      },
      "text/plain": [
       "interactive(children=(ToggleButtons(description='Plot Type:', icons=('',), options=(('Hyperparameters', 'param…"
      ]
     },
     "metadata": {},
     "output_type": "display_data"
    }
   ],
   "source": [
    "evaluate_model(lightgbm) # tuned_rf, tuned_et, lightgbm = 성과가 가장 좋은 모델"
   ]
  },
  {
   "cell_type": "markdown",
   "id": "cd0904c3-10e9-447f-9ade-1a503f6be67d",
   "metadata": {},
   "source": [
    "> `Tunning`한 값이 `Accuracy` 점수가 낮아지는 경우, 커지는 경우가 있음    \n",
    "튜닝할수록 오히려 고등학교 1,2,3학년을 구분하지 못하거나 중,고등학교 분류를 못하기도 함.     \n",
    "=> 요한님이 정리하신 단어장으로 `sample data`를 만들고, 분류되는 것을 한 번 더 살펴볼 것     \n",
    "\n"
   ]
  },
  {
   "cell_type": "markdown",
   "id": "bfda22eb-5746-42eb-bb83-c16a5d6109a5",
   "metadata": {},
   "source": [
    "## 결과 시각화 (random forest 예시)"
   ]
  },
  {
   "cell_type": "markdown",
   "id": "08db30cc-40a6-4b68-997c-7e23cd1f2edd",
   "metadata": {},
   "source": [
    "### ✅insight AUC 바이너리로 예측하는 것이기 때문에 중학교와 고등학교를 나누는 기준으로 만들면 좋을것 같음.  \n",
    "> class 4 : 고2의 정답률이 상당히 떨어짐. 파라미터 튜닝 등을 통해 개선시키는 것이 목적"
   ]
  },
  {
   "cell_type": "code",
   "execution_count": 32,
   "id": "c02c1fc7-6858-4d67-b520-afa28d5d2744",
   "metadata": {
    "tags": []
   },
   "outputs": [
    {
     "data": {
      "image/png": "[encoded data removed]",
      "text/plain": [
       "<Figure size 576x396 with 1 Axes>"
      ]
     },
     "metadata": {},
     "output_type": "display_data"
    }
   ],
   "source": [
    "plot_model(et, plot='auc')"
   ]
  },
  {
   "cell_type": "markdown",
   "id": "b10e627d-a444-4a07-a97a-11b1a6296282",
   "metadata": {},
   "source": [
    "> Sensitive 민감도 = TP / TP + FN # 실제 양성 + 맞춘 양성    \n",
    "Specificity 특이도 = TN / TN + FP # 실제 음성 + 맞춘 음성    \n",
    "클수록 좋다.     "
   ]
  },
  {
   "cell_type": "markdown",
   "id": "a48210e4-8896-42f6-8bb2-0103ae34ecf1",
   "metadata": {},
   "source": [
    "### ✅Insigt CM 중학교 vs 고등학교 바이너리 분류는 잘하고 있음"
   ]
  },
  {
   "cell_type": "code",
   "execution_count": 33,
   "id": "c1e4eef0-0479-4f40-9f8e-a46fa3c64c5d",
   "metadata": {
    "tags": []
   },
   "outputs": [
    {
     "data": {
      "image/png": "[encoded data removed]",
      "text/plain": [
       "<Figure size 576x396 with 1 Axes>"
      ]
     },
     "metadata": {},
     "output_type": "display_data"
    }
   ],
   "source": [
    "plot_model(rf, plot='confusion_matrix')"
   ]
  },
  {
   "cell_type": "code",
   "execution_count": 34,
   "id": "f3c751a1-bf49-4e0b-a9ff-cd365cf86d06",
   "metadata": {
    "tags": []
   },
   "outputs": [],
   "source": [
    "# plot_model(rf, plot = 'vc')"
   ]
  },
  {
   "cell_type": "markdown",
   "id": "8d8e06a1-633b-4cd2-9986-148308771ae2",
   "metadata": {},
   "source": [
    "> - n_estimators는 클수록 좋습니다.     \n",
    ">- max_depth는 직접 수를 넣어보며 조절 (과적합 조심)"
   ]
  },
  {
   "cell_type": "markdown",
   "id": "27e7920c-d633-4105-a970-2fd65c290f4a",
   "metadata": {},
   "source": [
    "### ✅ feature importance가 다양한 모델을 활용해 앙상블 할 예정\n",
    "> "
   ]
  },
  {
   "cell_type": "code",
   "execution_count": 35,
   "id": "35ac7dae-7fab-40bc-afc6-830669d247b6",
   "metadata": {},
   "outputs": [
    {
     "data": {
      "image/png": "[encoded data removed]",
      "text/plain": [
       "<Figure size 800x500 with 1 Axes>"
      ]
     },
     "metadata": {},
     "output_type": "display_data"
    }
   ],
   "source": [
    "plot_model(rf, plot = 'feature')"
   ]
  },
  {
   "cell_type": "code",
   "execution_count": 36,
   "id": "f399a4ae-cbc6-47ca-afcc-87a8b80be56a",
   "metadata": {
    "tags": []
   },
   "outputs": [
    {
     "data": {
      "image/png": "[encoded data removed]",
      "text/plain": [
       "<Figure size 800x500 with 1 Axes>"
      ]
     },
     "metadata": {},
     "output_type": "display_data"
    }
   ],
   "source": [
    "plot_model(et, plot = 'feature')"
   ]
  },
  {
   "cell_type": "code",
   "execution_count": 37,
   "id": "5229c8c5-28a9-4949-bea8-9609b875ec5b",
   "metadata": {},
   "outputs": [
    {
     "data": {
      "image/png": "[encoded data removed]",
      "text/plain": [
       "<Figure size 800x500 with 1 Axes>"
      ]
     },
     "metadata": {},
     "output_type": "display_data"
    }
   ],
   "source": [
    "plot_model(lightgbm, plot = 'feature')"
   ]
  },
  {
   "cell_type": "markdown",
   "id": "4e0cda8c-d7e6-47da-8fea-d0131aab6a25",
   "metadata": {},
   "source": [
    "---\n",
    "## 앙상블 사용\n",
    "> 단일 모델에 비해 일반화 성능은 아마 더 좋을것이다."
   ]
  },
  {
   "cell_type": "code",
   "execution_count": 38,
   "id": "743e286e-f91b-46dd-817f-f92e6d121a24",
   "metadata": {
    "tags": []
   },
   "outputs": [],
   "source": [
    "# best5 # ExtraTreesClassifier, RandomForestClassifier, GradientBoostingClassifier, LinearDiscriminantAnalysis"
   ]
  },
  {
   "cell_type": "markdown",
   "id": "04b3e047-a63b-4db6-91f3-921ecc631dba",
   "metadata": {},
   "source": [
    "### blended models 는 voting + 가중 평균"
   ]
  },
  {
   "cell_type": "markdown",
   "id": "ac297248-c736-4edb-be86-9f13a11dbd1b",
   "metadata": {},
   "source": [
    "> `blend_models` = 블랜딩 앙상블    \n",
    "`predict_model` = 예측값? 의미가 뭐지\n",
    "\n",
    "`blending` 을 잘활용하기 위해서는 `validation set` 의 `meta-feature` (원래 feature 및 예측값) 을 통해 training 하고   \n",
    "`test set` 에 대해 성능을 최종 평가\n"
   ]
  },
  {
   "cell_type": "code",
   "execution_count": 64,
   "id": "f7ec56e5-be05-4d52-b568-fcdeea9ae939",
   "metadata": {},
   "outputs": [],
   "source": [
    "# best5 = [rf,et]"
   ]
  },
  {
   "cell_type": "code",
   "execution_count": 65,
   "id": "904d2b5a-c5ea-4f3a-8867-6db1fa0904b7",
   "metadata": {
    "tags": []
   },
   "outputs": [],
   "source": [
    "# # 블렌딩 앙상블\n",
    "# blended = blend_models(estimator_list = best5, fold = 3, optimize = 'logloss') \n",
    "# pred_holdout = predict_model(blended)\n"
   ]
  },
  {
   "cell_type": "code",
   "execution_count": 66,
   "id": "7e1ba6e8-e145-464e-b0c2-330d5a46a8d8",
   "metadata": {
    "tags": []
   },
   "outputs": [],
   "source": [
    "# # 스태킹 앙상블\n",
    "# stacker = stack_models(estimator_list=best5, fold=3, meta_model=et)\n",
    "# pred_holdout = predict_model(stacker)"
   ]
  },
  {
   "cell_type": "markdown",
   "id": "52b6bc5b-18d0-4169-92a2-3826426b47bf",
   "metadata": {},
   "source": [
    "---\n",
    "### 원하는 모델(좋은 모델)만 가져와서 최적화시키기"
   ]
  },
  {
   "cell_type": "code",
   "execution_count": 73,
   "id": "a6c31a28-55b1-4931-80eb-7ac34724f8d6",
   "metadata": {},
   "outputs": [
    {
     "data": {
      "text/html": [
       "<style type=\"text/css\">\n",
       "#T_1a8d1_ th {\n",
       "  text-align: left;\n",
       "}\n",
       "#T_1a8d1_row0_col0, #T_1a8d1_row0_col3, #T_1a8d1_row0_col4, #T_1a8d1_row0_col5, #T_1a8d1_row1_col0, #T_1a8d1_row1_col1, #T_1a8d1_row1_col2, #T_1a8d1_row1_col6, #T_1a8d1_row1_col7, #T_1a8d1_row1_col8, #T_1a8d1_row2_col0, #T_1a8d1_row2_col1, #T_1a8d1_row2_col2, #T_1a8d1_row2_col3, #T_1a8d1_row2_col4, #T_1a8d1_row2_col5, #T_1a8d1_row2_col6, #T_1a8d1_row2_col7, #T_1a8d1_row2_col8 {\n",
       "  text-align: left;\n",
       "}\n",
       "#T_1a8d1_row0_col1, #T_1a8d1_row0_col2, #T_1a8d1_row0_col6, #T_1a8d1_row0_col7, #T_1a8d1_row0_col8, #T_1a8d1_row1_col3, #T_1a8d1_row1_col4, #T_1a8d1_row1_col5 {\n",
       "  text-align: left;\n",
       "  background-color: yellow;\n",
       "}\n",
       "#T_1a8d1_row0_col9 {\n",
       "  text-align: left;\n",
       "  background-color: yellow;\n",
       "  background-color: lightgrey;\n",
       "}\n",
       "#T_1a8d1_row1_col9, #T_1a8d1_row2_col9 {\n",
       "  text-align: left;\n",
       "  background-color: lightgrey;\n",
       "}\n",
       "</style>\n",
       "<table id=\"T_1a8d1_\">\n",
       "  <thead>\n",
       "    <tr>\n",
       "      <th class=\"blank level0\" >&nbsp;</th>\n",
       "      <th class=\"col_heading level0 col0\" >Model</th>\n",
       "      <th class=\"col_heading level0 col1\" >Accuracy</th>\n",
       "      <th class=\"col_heading level0 col2\" >AUC</th>\n",
       "      <th class=\"col_heading level0 col3\" >Recall</th>\n",
       "      <th class=\"col_heading level0 col4\" >Prec.</th>\n",
       "      <th class=\"col_heading level0 col5\" >F1</th>\n",
       "      <th class=\"col_heading level0 col6\" >Kappa</th>\n",
       "      <th class=\"col_heading level0 col7\" >MCC</th>\n",
       "      <th class=\"col_heading level0 col8\" >LogLoss</th>\n",
       "      <th class=\"col_heading level0 col9\" >TT (Sec)</th>\n",
       "    </tr>\n",
       "  </thead>\n",
       "  <tbody>\n",
       "    <tr>\n",
       "      <th id=\"T_1a8d1_level0_row0\" class=\"row_heading level0 row0\" >et</th>\n",
       "      <td id=\"T_1a8d1_row0_col0\" class=\"data row0 col0\" >Extra Trees Classifier</td>\n",
       "      <td id=\"T_1a8d1_row0_col1\" class=\"data row0 col1\" >0.6231</td>\n",
       "      <td id=\"T_1a8d1_row0_col2\" class=\"data row0 col2\" >0.8434</td>\n",
       "      <td id=\"T_1a8d1_row0_col3\" class=\"data row0 col3\" >0.6036</td>\n",
       "      <td id=\"T_1a8d1_row0_col4\" class=\"data row0 col4\" >0.5792</td>\n",
       "      <td id=\"T_1a8d1_row0_col5\" class=\"data row0 col5\" >0.5864</td>\n",
       "      <td id=\"T_1a8d1_row0_col6\" class=\"data row0 col6\" >0.4699</td>\n",
       "      <td id=\"T_1a8d1_row0_col7\" class=\"data row0 col7\" >0.4784</td>\n",
       "      <td id=\"T_1a8d1_row0_col8\" class=\"data row0 col8\" >0.9251</td>\n",
       "      <td id=\"T_1a8d1_row0_col9\" class=\"data row0 col9\" >0.7480</td>\n",
       "    </tr>\n",
       "    <tr>\n",
       "      <th id=\"T_1a8d1_level0_row1\" class=\"row_heading level0 row1\" >rf</th>\n",
       "      <td id=\"T_1a8d1_row1_col0\" class=\"data row1 col0\" >Random Forest Classifier</td>\n",
       "      <td id=\"T_1a8d1_row1_col1\" class=\"data row1 col1\" >0.6193</td>\n",
       "      <td id=\"T_1a8d1_row1_col2\" class=\"data row1 col2\" >0.8391</td>\n",
       "      <td id=\"T_1a8d1_row1_col3\" class=\"data row1 col3\" >0.6156</td>\n",
       "      <td id=\"T_1a8d1_row1_col4\" class=\"data row1 col4\" >0.5867</td>\n",
       "      <td id=\"T_1a8d1_row1_col5\" class=\"data row1 col5\" >0.5919</td>\n",
       "      <td id=\"T_1a8d1_row1_col6\" class=\"data row1 col6\" >0.4673</td>\n",
       "      <td id=\"T_1a8d1_row1_col7\" class=\"data row1 col7\" >0.4735</td>\n",
       "      <td id=\"T_1a8d1_row1_col8\" class=\"data row1 col8\" >0.9375</td>\n",
       "      <td id=\"T_1a8d1_row1_col9\" class=\"data row1 col9\" >0.9040</td>\n",
       "    </tr>\n",
       "    <tr>\n",
       "      <th id=\"T_1a8d1_level0_row2\" class=\"row_heading level0 row2\" >lightgbm</th>\n",
       "      <td id=\"T_1a8d1_row2_col0\" class=\"data row2 col0\" >Light Gradient Boosting Machine</td>\n",
       "      <td id=\"T_1a8d1_row2_col1\" class=\"data row2 col1\" >0.6049</td>\n",
       "      <td id=\"T_1a8d1_row2_col2\" class=\"data row2 col2\" >0.8190</td>\n",
       "      <td id=\"T_1a8d1_row2_col3\" class=\"data row2 col3\" >0.5930</td>\n",
       "      <td id=\"T_1a8d1_row2_col4\" class=\"data row2 col4\" >0.5783</td>\n",
       "      <td id=\"T_1a8d1_row2_col5\" class=\"data row2 col5\" >0.5871</td>\n",
       "      <td id=\"T_1a8d1_row2_col6\" class=\"data row2 col6\" >0.4509</td>\n",
       "      <td id=\"T_1a8d1_row2_col7\" class=\"data row2 col7\" >0.4539</td>\n",
       "      <td id=\"T_1a8d1_row2_col8\" class=\"data row2 col8\" >1.3885</td>\n",
       "      <td id=\"T_1a8d1_row2_col9\" class=\"data row2 col9\" >0.8160</td>\n",
       "    </tr>\n",
       "  </tbody>\n",
       "</table>\n"
      ],
      "text/plain": [
       "<pandas.io.formats.style.Styler at 0x1456d6cf670>"
      ]
     },
     "metadata": {},
     "output_type": "display_data"
    }
   ],
   "source": [
    "custom_model = compare_models(fold = 5, sort = 'logloss', n_select = 6, include=['rf','et','lightgbm'])\n",
    "# pred_customed_holdout = predict_model(custom_model)"
   ]
  },
  {
   "cell_type": "code",
   "execution_count": 61,
   "id": "19a2e387-f80f-4653-bb87-c76de0dd43fa",
   "metadata": {},
   "outputs": [
    {
     "data": {
      "text/html": [
       "<style type=\"text/css\">\n",
       "#T_637bf_row5_col0, #T_637bf_row5_col1, #T_637bf_row5_col2, #T_637bf_row5_col3, #T_637bf_row5_col4, #T_637bf_row5_col5, #T_637bf_row5_col6, #T_637bf_row5_col7 {\n",
       "  background: yellow;\n",
       "}\n",
       "</style>\n",
       "<table id=\"T_637bf_\">\n",
       "  <thead>\n",
       "    <tr>\n",
       "      <th class=\"blank level0\" >&nbsp;</th>\n",
       "      <th class=\"col_heading level0 col0\" >Accuracy</th>\n",
       "      <th class=\"col_heading level0 col1\" >AUC</th>\n",
       "      <th class=\"col_heading level0 col2\" >Recall</th>\n",
       "      <th class=\"col_heading level0 col3\" >Prec.</th>\n",
       "      <th class=\"col_heading level0 col4\" >F1</th>\n",
       "      <th class=\"col_heading level0 col5\" >Kappa</th>\n",
       "      <th class=\"col_heading level0 col6\" >MCC</th>\n",
       "      <th class=\"col_heading level0 col7\" >LogLoss</th>\n",
       "    </tr>\n",
       "  </thead>\n",
       "  <tbody>\n",
       "    <tr>\n",
       "      <th id=\"T_637bf_level0_row0\" class=\"row_heading level0 row0\" >0</th>\n",
       "      <td id=\"T_637bf_row0_col0\" class=\"data row0 col0\" >0.6098</td>\n",
       "      <td id=\"T_637bf_row0_col1\" class=\"data row0 col1\" >0.8431</td>\n",
       "      <td id=\"T_637bf_row0_col2\" class=\"data row0 col2\" >0.5974</td>\n",
       "      <td id=\"T_637bf_row0_col3\" class=\"data row0 col3\" >0.5807</td>\n",
       "      <td id=\"T_637bf_row0_col4\" class=\"data row0 col4\" >0.5876</td>\n",
       "      <td id=\"T_637bf_row0_col5\" class=\"data row0 col5\" >0.4546</td>\n",
       "      <td id=\"T_637bf_row0_col6\" class=\"data row0 col6\" >0.4597</td>\n",
       "      <td id=\"T_637bf_row0_col7\" class=\"data row0 col7\" >0.9034</td>\n",
       "    </tr>\n",
       "    <tr>\n",
       "      <th id=\"T_637bf_level0_row1\" class=\"row_heading level0 row1\" >1</th>\n",
       "      <td id=\"T_637bf_row1_col0\" class=\"data row1 col0\" >0.6122</td>\n",
       "      <td id=\"T_637bf_row1_col1\" class=\"data row1 col1\" >0.8445</td>\n",
       "      <td id=\"T_637bf_row1_col2\" class=\"data row1 col2\" >0.6380</td>\n",
       "      <td id=\"T_637bf_row1_col3\" class=\"data row1 col3\" >0.5911</td>\n",
       "      <td id=\"T_637bf_row1_col4\" class=\"data row1 col4\" >0.5959</td>\n",
       "      <td id=\"T_637bf_row1_col5\" class=\"data row1 col5\" >0.4602</td>\n",
       "      <td id=\"T_637bf_row1_col6\" class=\"data row1 col6\" >0.4634</td>\n",
       "      <td id=\"T_637bf_row1_col7\" class=\"data row1 col7\" >0.8889</td>\n",
       "    </tr>\n",
       "    <tr>\n",
       "      <th id=\"T_637bf_level0_row2\" class=\"row_heading level0 row2\" >2</th>\n",
       "      <td id=\"T_637bf_row2_col0\" class=\"data row2 col0\" >0.5894</td>\n",
       "      <td id=\"T_637bf_row2_col1\" class=\"data row2 col1\" >0.8224</td>\n",
       "      <td id=\"T_637bf_row2_col2\" class=\"data row2 col2\" >0.5543</td>\n",
       "      <td id=\"T_637bf_row2_col3\" class=\"data row2 col3\" >0.5466</td>\n",
       "      <td id=\"T_637bf_row2_col4\" class=\"data row2 col4\" >0.5631</td>\n",
       "      <td id=\"T_637bf_row2_col5\" class=\"data row2 col5\" >0.4241</td>\n",
       "      <td id=\"T_637bf_row2_col6\" class=\"data row2 col6\" >0.4287</td>\n",
       "      <td id=\"T_637bf_row2_col7\" class=\"data row2 col7\" >0.9779</td>\n",
       "    </tr>\n",
       "    <tr>\n",
       "      <th id=\"T_637bf_level0_row3\" class=\"row_heading level0 row3\" >3</th>\n",
       "      <td id=\"T_637bf_row3_col0\" class=\"data row3 col0\" >0.6388</td>\n",
       "      <td id=\"T_637bf_row3_col1\" class=\"data row3 col1\" >0.8428</td>\n",
       "      <td id=\"T_637bf_row3_col2\" class=\"data row3 col2\" >0.6396</td>\n",
       "      <td id=\"T_637bf_row3_col3\" class=\"data row3 col3\" >0.5798</td>\n",
       "      <td id=\"T_637bf_row3_col4\" class=\"data row3 col4\" >0.6043</td>\n",
       "      <td id=\"T_637bf_row3_col5\" class=\"data row3 col5\" >0.4957</td>\n",
       "      <td id=\"T_637bf_row3_col6\" class=\"data row3 col6\" >0.5020</td>\n",
       "      <td id=\"T_637bf_row3_col7\" class=\"data row3 col7\" >0.8997</td>\n",
       "    </tr>\n",
       "    <tr>\n",
       "      <th id=\"T_637bf_level0_row4\" class=\"row_heading level0 row4\" >4</th>\n",
       "      <td id=\"T_637bf_row4_col0\" class=\"data row4 col0\" >0.6236</td>\n",
       "      <td id=\"T_637bf_row4_col1\" class=\"data row4 col1\" >0.8517</td>\n",
       "      <td id=\"T_637bf_row4_col2\" class=\"data row4 col2\" >0.5952</td>\n",
       "      <td id=\"T_637bf_row4_col3\" class=\"data row4 col3\" >0.6005</td>\n",
       "      <td id=\"T_637bf_row4_col4\" class=\"data row4 col4\" >0.6020</td>\n",
       "      <td id=\"T_637bf_row4_col5\" class=\"data row4 col5\" >0.4748</td>\n",
       "      <td id=\"T_637bf_row4_col6\" class=\"data row4 col6\" >0.4800</td>\n",
       "      <td id=\"T_637bf_row4_col7\" class=\"data row4 col7\" >0.8980</td>\n",
       "    </tr>\n",
       "    <tr>\n",
       "      <th id=\"T_637bf_level0_row5\" class=\"row_heading level0 row5\" >Mean</th>\n",
       "      <td id=\"T_637bf_row5_col0\" class=\"data row5 col0\" >0.6147</td>\n",
       "      <td id=\"T_637bf_row5_col1\" class=\"data row5 col1\" >0.8409</td>\n",
       "      <td id=\"T_637bf_row5_col2\" class=\"data row5 col2\" >0.6049</td>\n",
       "      <td id=\"T_637bf_row5_col3\" class=\"data row5 col3\" >0.5797</td>\n",
       "      <td id=\"T_637bf_row5_col4\" class=\"data row5 col4\" >0.5906</td>\n",
       "      <td id=\"T_637bf_row5_col5\" class=\"data row5 col5\" >0.4619</td>\n",
       "      <td id=\"T_637bf_row5_col6\" class=\"data row5 col6\" >0.4668</td>\n",
       "      <td id=\"T_637bf_row5_col7\" class=\"data row5 col7\" >0.9136</td>\n",
       "    </tr>\n",
       "    <tr>\n",
       "      <th id=\"T_637bf_level0_row6\" class=\"row_heading level0 row6\" >SD</th>\n",
       "      <td id=\"T_637bf_row6_col0\" class=\"data row6 col0\" >0.0163</td>\n",
       "      <td id=\"T_637bf_row6_col1\" class=\"data row6 col1\" >0.0098</td>\n",
       "      <td id=\"T_637bf_row6_col2\" class=\"data row6 col2\" >0.0316</td>\n",
       "      <td id=\"T_637bf_row6_col3\" class=\"data row6 col3\" >0.0182</td>\n",
       "      <td id=\"T_637bf_row6_col4\" class=\"data row6 col4\" >0.0149</td>\n",
       "      <td id=\"T_637bf_row6_col5\" class=\"data row6 col5\" >0.0236</td>\n",
       "      <td id=\"T_637bf_row6_col6\" class=\"data row6 col6\" >0.0242</td>\n",
       "      <td id=\"T_637bf_row6_col7\" class=\"data row6 col7\" >0.0325</td>\n",
       "    </tr>\n",
       "  </tbody>\n",
       "</table>\n"
      ],
      "text/plain": [
       "<pandas.io.formats.style.Styler at 0x1456e910b50>"
      ]
     },
     "metadata": {},
     "output_type": "display_data"
    },
    {
     "data": {
      "text/html": [
       "<style type=\"text/css\">\n",
       "</style>\n",
       "<table id=\"T_58487_\">\n",
       "  <thead>\n",
       "    <tr>\n",
       "      <th class=\"blank level0\" >&nbsp;</th>\n",
       "      <th class=\"col_heading level0 col0\" >Model</th>\n",
       "      <th class=\"col_heading level0 col1\" >Accuracy</th>\n",
       "      <th class=\"col_heading level0 col2\" >AUC</th>\n",
       "      <th class=\"col_heading level0 col3\" >Recall</th>\n",
       "      <th class=\"col_heading level0 col4\" >Prec.</th>\n",
       "      <th class=\"col_heading level0 col5\" >F1</th>\n",
       "      <th class=\"col_heading level0 col6\" >Kappa</th>\n",
       "      <th class=\"col_heading level0 col7\" >MCC</th>\n",
       "      <th class=\"col_heading level0 col8\" >LogLoss</th>\n",
       "    </tr>\n",
       "  </thead>\n",
       "  <tbody>\n",
       "    <tr>\n",
       "      <th id=\"T_58487_level0_row0\" class=\"row_heading level0 row0\" >0</th>\n",
       "      <td id=\"T_58487_row0_col0\" class=\"data row0 col0\" >Voting Classifier</td>\n",
       "      <td id=\"T_58487_row0_col1\" class=\"data row0 col1\" >0.6177</td>\n",
       "      <td id=\"T_58487_row0_col2\" class=\"data row0 col2\" >0.8202</td>\n",
       "      <td id=\"T_58487_row0_col3\" class=\"data row0 col3\" >0.5975</td>\n",
       "      <td id=\"T_58487_row0_col4\" class=\"data row0 col4\" >0.5767</td>\n",
       "      <td id=\"T_58487_row0_col5\" class=\"data row0 col5\" >0.5913</td>\n",
       "      <td id=\"T_58487_row0_col6\" class=\"data row0 col6\" >0.4508</td>\n",
       "      <td id=\"T_58487_row0_col7\" class=\"data row0 col7\" >0.4553</td>\n",
       "      <td id=\"T_58487_row0_col8\" class=\"data row0 col8\" >0.9213</td>\n",
       "    </tr>\n",
       "  </tbody>\n",
       "</table>\n"
      ],
      "text/plain": [
       "<pandas.io.formats.style.Styler at 0x1456eb217f0>"
      ]
     },
     "metadata": {},
     "output_type": "display_data"
    }
   ],
   "source": [
    "# 블렌딩 방식\n",
    "blended_custom = blend_models(estimator_list = custom_model, fold = 5, optimize = 'logloss')\n",
    "pred_holdout_custom = predict_model(blended_custom)\n",
    "# estimator_list = model list"
   ]
  },
  {
   "cell_type": "code",
   "execution_count": 120,
   "id": "f2d2d912-5436-4292-9c2c-7e5ef5466f36",
   "metadata": {
    "tags": []
   },
   "outputs": [
    {
     "data": {
      "text/plain": [
       "TunableVotingClassifier(estimators=[('et',\n",
       "                                     ExtraTreesClassifier(bootstrap=False,\n",
       "                                                          ccp_alpha=0.0,\n",
       "                                                          class_weight=None,\n",
       "                                                          criterion='gini',\n",
       "                                                          max_depth=None,\n",
       "                                                          max_features='auto',\n",
       "                                                          max_leaf_nodes=None,\n",
       "                                                          max_samples=None,\n",
       "                                                          min_impurity_decrease=0.0,\n",
       "                                                          min_impurity_split=None,\n",
       "                                                          min_samples_leaf=1,\n",
       "                                                          min_samples_split=2,\n",
       "                                                          min_weight_fraction_leaf=0.0,\n",
       "                                                          n_estimators=100,\n",
       "                                                          n_jobs=-1,\n",
       "                                                          oob_s...\n",
       "                                                    max_depth=-1,\n",
       "                                                    min_child_samples=20,\n",
       "                                                    min_child_weight=0.001,\n",
       "                                                    min_split_gain=0.0,\n",
       "                                                    n_estimators=100, n_jobs=-1,\n",
       "                                                    num_leaves=31,\n",
       "                                                    objective=None,\n",
       "                                                    random_state=4999,\n",
       "                                                    reg_alpha=0.0,\n",
       "                                                    reg_lambda=0.0, silent=True,\n",
       "                                                    subsample=1.0,\n",
       "                                                    subsample_for_bin=200000,\n",
       "                                                    subsample_freq=0))],\n",
       "                        flatten_transform=True, n_jobs=-1, verbose=False,\n",
       "                        voting='soft', weight_0=1, weight_1=1, weight_2=1,\n",
       "                        weights=[1, 1, 1])"
      ]
     },
     "metadata": {},
     "output_type": "display_data"
    }
   ],
   "source": [
    "display(blended_custom) # rf, et, lightgbm"
   ]
  },
  {
   "cell_type": "code",
   "execution_count": 121,
   "id": "5e3f7f89-11fb-4608-9ca8-e3b06ff304e2",
   "metadata": {
    "tags": []
   },
   "outputs": [
    {
     "data": {
      "application/vnd.jupyter.widget-view+json": {
       "model_id": "705dbda52cce452881d85ba1ccce36b7",
       "version_major": 2,
       "version_minor": 0
      },
      "text/plain": [
       "interactive(children=(ToggleButtons(description='Plot Type:', icons=('',), options=(('Hyperparameters', 'param…"
      ]
     },
     "metadata": {},
     "output_type": "display_data"
    }
   ],
   "source": [
    "evaluate_model(blended_custom) # rf, et # 아직도 고2에 대해서 잘 못찾음."
   ]
  },
  {
   "cell_type": "code",
   "execution_count": 122,
   "id": "8e501c55-3f37-4659-8f0c-435a84d036d8",
   "metadata": {
    "tags": []
   },
   "outputs": [],
   "source": [
    "# evaluate_model(blended_custom) # rf, et, lightgbm # 고2 찾는게 나아지긴 함"
   ]
  },
  {
   "cell_type": "code",
   "execution_count": 123,
   "id": "1d64f038-4b36-4e08-bf53-b07462aba0b4",
   "metadata": {
    "tags": []
   },
   "outputs": [
    {
     "data": {
      "text/html": [
       "<style type=\"text/css\">\n",
       "#T_33e1b_row3_col0, #T_33e1b_row3_col1, #T_33e1b_row3_col2, #T_33e1b_row3_col3, #T_33e1b_row3_col4, #T_33e1b_row3_col5, #T_33e1b_row3_col6, #T_33e1b_row3_col7 {\n",
       "  background: yellow;\n",
       "}\n",
       "</style>\n",
       "<table id=\"T_33e1b_\">\n",
       "  <thead>\n",
       "    <tr>\n",
       "      <th class=\"blank level0\" >&nbsp;</th>\n",
       "      <th class=\"col_heading level0 col0\" >Accuracy</th>\n",
       "      <th class=\"col_heading level0 col1\" >AUC</th>\n",
       "      <th class=\"col_heading level0 col2\" >Recall</th>\n",
       "      <th class=\"col_heading level0 col3\" >Prec.</th>\n",
       "      <th class=\"col_heading level0 col4\" >F1</th>\n",
       "      <th class=\"col_heading level0 col5\" >Kappa</th>\n",
       "      <th class=\"col_heading level0 col6\" >MCC</th>\n",
       "      <th class=\"col_heading level0 col7\" >LogLoss</th>\n",
       "    </tr>\n",
       "  </thead>\n",
       "  <tbody>\n",
       "    <tr>\n",
       "      <th id=\"T_33e1b_level0_row0\" class=\"row_heading level0 row0\" >0</th>\n",
       "      <td id=\"T_33e1b_row0_col0\" class=\"data row0 col0\" >0.5923</td>\n",
       "      <td id=\"T_33e1b_row0_col1\" class=\"data row0 col1\" >0.8251</td>\n",
       "      <td id=\"T_33e1b_row0_col2\" class=\"data row0 col2\" >0.5883</td>\n",
       "      <td id=\"T_33e1b_row0_col3\" class=\"data row0 col3\" >0.5383</td>\n",
       "      <td id=\"T_33e1b_row0_col4\" class=\"data row0 col4\" >0.5549</td>\n",
       "      <td id=\"T_33e1b_row0_col5\" class=\"data row0 col5\" >0.4335</td>\n",
       "      <td id=\"T_33e1b_row0_col6\" class=\"data row0 col6\" >0.4403</td>\n",
       "      <td id=\"T_33e1b_row0_col7\" class=\"data row0 col7\" >0.9336</td>\n",
       "    </tr>\n",
       "    <tr>\n",
       "      <th id=\"T_33e1b_level0_row1\" class=\"row_heading level0 row1\" >1</th>\n",
       "      <td id=\"T_33e1b_row1_col0\" class=\"data row1 col0\" >0.6128</td>\n",
       "      <td id=\"T_33e1b_row1_col1\" class=\"data row1 col1\" >0.8253</td>\n",
       "      <td id=\"T_33e1b_row1_col2\" class=\"data row1 col2\" >0.5999</td>\n",
       "      <td id=\"T_33e1b_row1_col3\" class=\"data row1 col3\" >0.5740</td>\n",
       "      <td id=\"T_33e1b_row1_col4\" class=\"data row1 col4\" >0.5774</td>\n",
       "      <td id=\"T_33e1b_row1_col5\" class=\"data row1 col5\" >0.4517</td>\n",
       "      <td id=\"T_33e1b_row1_col6\" class=\"data row1 col6\" >0.4618</td>\n",
       "      <td id=\"T_33e1b_row1_col7\" class=\"data row1 col7\" >0.9957</td>\n",
       "    </tr>\n",
       "    <tr>\n",
       "      <th id=\"T_33e1b_level0_row2\" class=\"row_heading level0 row2\" >2</th>\n",
       "      <td id=\"T_33e1b_row2_col0\" class=\"data row2 col0\" >0.6347</td>\n",
       "      <td id=\"T_33e1b_row2_col1\" class=\"data row2 col1\" >0.8530</td>\n",
       "      <td id=\"T_33e1b_row2_col2\" class=\"data row2 col2\" >0.5936</td>\n",
       "      <td id=\"T_33e1b_row2_col3\" class=\"data row2 col3\" >0.6015</td>\n",
       "      <td id=\"T_33e1b_row2_col4\" class=\"data row2 col4\" >0.5983</td>\n",
       "      <td id=\"T_33e1b_row2_col5\" class=\"data row2 col5\" >0.4858</td>\n",
       "      <td id=\"T_33e1b_row2_col6\" class=\"data row2 col6\" >0.4949</td>\n",
       "      <td id=\"T_33e1b_row2_col7\" class=\"data row2 col7\" >0.9090</td>\n",
       "    </tr>\n",
       "    <tr>\n",
       "      <th id=\"T_33e1b_level0_row3\" class=\"row_heading level0 row3\" >Mean</th>\n",
       "      <td id=\"T_33e1b_row3_col0\" class=\"data row3 col0\" >0.6132</td>\n",
       "      <td id=\"T_33e1b_row3_col1\" class=\"data row3 col1\" >0.8345</td>\n",
       "      <td id=\"T_33e1b_row3_col2\" class=\"data row3 col2\" >0.5939</td>\n",
       "      <td id=\"T_33e1b_row3_col3\" class=\"data row3 col3\" >0.5712</td>\n",
       "      <td id=\"T_33e1b_row3_col4\" class=\"data row3 col4\" >0.5768</td>\n",
       "      <td id=\"T_33e1b_row3_col5\" class=\"data row3 col5\" >0.4570</td>\n",
       "      <td id=\"T_33e1b_row3_col6\" class=\"data row3 col6\" >0.4657</td>\n",
       "      <td id=\"T_33e1b_row3_col7\" class=\"data row3 col7\" >0.9461</td>\n",
       "    </tr>\n",
       "    <tr>\n",
       "      <th id=\"T_33e1b_level0_row4\" class=\"row_heading level0 row4\" >SD</th>\n",
       "      <td id=\"T_33e1b_row4_col0\" class=\"data row4 col0\" >0.0173</td>\n",
       "      <td id=\"T_33e1b_row4_col1\" class=\"data row4 col1\" >0.0131</td>\n",
       "      <td id=\"T_33e1b_row4_col2\" class=\"data row4 col2\" >0.0048</td>\n",
       "      <td id=\"T_33e1b_row4_col3\" class=\"data row4 col3\" >0.0259</td>\n",
       "      <td id=\"T_33e1b_row4_col4\" class=\"data row4 col4\" >0.0177</td>\n",
       "      <td id=\"T_33e1b_row4_col5\" class=\"data row4 col5\" >0.0217</td>\n",
       "      <td id=\"T_33e1b_row4_col6\" class=\"data row4 col6\" >0.0224</td>\n",
       "      <td id=\"T_33e1b_row4_col7\" class=\"data row4 col7\" >0.0365</td>\n",
       "    </tr>\n",
       "  </tbody>\n",
       "</table>\n"
      ],
      "text/plain": [
       "<pandas.io.formats.style.Styler at 0x14501bf52b0>"
      ]
     },
     "metadata": {},
     "output_type": "display_data"
    },
    {
     "data": {
      "text/html": [
       "<style type=\"text/css\">\n",
       "</style>\n",
       "<table id=\"T_c4f1a_\">\n",
       "  <thead>\n",
       "    <tr>\n",
       "      <th class=\"blank level0\" >&nbsp;</th>\n",
       "      <th class=\"col_heading level0 col0\" >Model</th>\n",
       "      <th class=\"col_heading level0 col1\" >Accuracy</th>\n",
       "      <th class=\"col_heading level0 col2\" >AUC</th>\n",
       "      <th class=\"col_heading level0 col3\" >Recall</th>\n",
       "      <th class=\"col_heading level0 col4\" >Prec.</th>\n",
       "      <th class=\"col_heading level0 col5\" >F1</th>\n",
       "      <th class=\"col_heading level0 col6\" >Kappa</th>\n",
       "      <th class=\"col_heading level0 col7\" >MCC</th>\n",
       "      <th class=\"col_heading level0 col8\" >LogLoss</th>\n",
       "    </tr>\n",
       "  </thead>\n",
       "  <tbody>\n",
       "    <tr>\n",
       "      <th id=\"T_c4f1a_level0_row0\" class=\"row_heading level0 row0\" >0</th>\n",
       "      <td id=\"T_c4f1a_row0_col0\" class=\"data row0 col0\" >Stacking Classifier</td>\n",
       "      <td id=\"T_c4f1a_row0_col1\" class=\"data row0 col1\" >0.6230</td>\n",
       "      <td id=\"T_c4f1a_row0_col2\" class=\"data row0 col2\" >0.8157</td>\n",
       "      <td id=\"T_c4f1a_row0_col3\" class=\"data row0 col3\" >0.5939</td>\n",
       "      <td id=\"T_c4f1a_row0_col4\" class=\"data row0 col4\" >0.5705</td>\n",
       "      <td id=\"T_c4f1a_row0_col5\" class=\"data row0 col5\" >0.5791</td>\n",
       "      <td id=\"T_c4f1a_row0_col6\" class=\"data row0 col6\" >0.4490</td>\n",
       "      <td id=\"T_c4f1a_row0_col7\" class=\"data row0 col7\" >0.4606</td>\n",
       "      <td id=\"T_c4f1a_row0_col8\" class=\"data row0 col8\" >0.9124</td>\n",
       "    </tr>\n",
       "  </tbody>\n",
       "</table>\n"
      ],
      "text/plain": [
       "<pandas.io.formats.style.Styler at 0x1456d67da30>"
      ]
     },
     "metadata": {},
     "output_type": "display_data"
    }
   ],
   "source": [
    "# 스태킹 앙상블\n",
    "stacker = stack_models(estimator_list=custom_model, fold=3, meta_model=et)\n",
    "pred_holdout = predict_model(stacker)"
   ]
  },
  {
   "cell_type": "code",
   "execution_count": 124,
   "id": "6c2955bc-9442-4f2c-bdfa-6691e5af9fa9",
   "metadata": {
    "tags": []
   },
   "outputs": [
    {
     "data": {
      "application/vnd.jupyter.widget-view+json": {
       "model_id": "8bb8935b829541a18c22989013ba33de",
       "version_major": 2,
       "version_minor": 0
      },
      "text/plain": [
       "interactive(children=(ToggleButtons(description='Plot Type:', icons=('',), options=(('Hyperparameters', 'param…"
      ]
     },
     "metadata": {},
     "output_type": "display_data"
    }
   ],
   "source": [
    "evaluate_model(stacker) # stacking et, rf, lightgbm"
   ]
  },
  {
   "cell_type": "markdown",
   "id": "c213fdf5-71e3-4446-96e6-8026e6aba254",
   "metadata": {},
   "source": [
    "---\n",
    "### 자동으로 상위 5개 선택한 모델"
   ]
  },
  {
   "cell_type": "code",
   "execution_count": 125,
   "id": "4126fcf3-df54-487f-91f2-13177c248165",
   "metadata": {
    "tags": []
   },
   "outputs": [],
   "source": [
    "#자동으로 상위 5개 선택한 모델\n",
    "# final_model = finalize_model(blended)\n",
    "# final_model_custom = finalize_model(blended_custom)"
   ]
  },
  {
   "cell_type": "markdown",
   "id": "ac41959d-02cf-46aa-bf08-f0d4e7ad0b86",
   "metadata": {},
   "source": [
    "### 2-9. Predict Proba를 위한 추가 절차"
   ]
  },
  {
   "cell_type": "code",
   "execution_count": 126,
   "id": "ce073722-a301-450c-b6cf-79d8aeb79506",
   "metadata": {
    "tags": []
   },
   "outputs": [],
   "source": [
    "# pred_proba없어서\n",
    "prep_pipe = get_config(\"prep_pipe\")"
   ]
  },
  {
   "cell_type": "code",
   "execution_count": 127,
   "id": "f7eed989-b51d-472c-9370-df08e310bcdd",
   "metadata": {
    "tags": []
   },
   "outputs": [
    {
     "data": {
      "text/plain": [
       "Pipeline(memory=None,\n",
       "         steps=[('dtypes',\n",
       "                 DataTypes_Auto_infer(categorical_features=[],\n",
       "                                      display_types=False, features_todrop=[],\n",
       "                                      id_columns=[],\n",
       "                                      ml_usecase='classification',\n",
       "                                      numerical_features=[], target='level',\n",
       "                                      time_features=[])),\n",
       "                ('imputer',\n",
       "                 Simple_Imputer(categorical_strategy='not_available',\n",
       "                                fill_value_categorical=None,\n",
       "                                fill_value_numerical=None,\n",
       "                                numeric_strat...\n",
       "                ('scaling', 'passthrough'), ('P_transform', 'passthrough'),\n",
       "                ('binn', 'passthrough'), ('rem_outliers', 'passthrough'),\n",
       "                ('cluster_all', 'passthrough'),\n",
       "                ('dummy', Dummify(target='level')),\n",
       "                ('fix_perfect', Remove_100(target='level')),\n",
       "                ('clean_names', Clean_Colum_Names()),\n",
       "                ('feature_select', 'passthrough'), ('fix_multi', 'passthrough'),\n",
       "                ('dfs', 'passthrough'), ('pca', 'passthrough')],\n",
       "         verbose=False)"
      ]
     },
     "execution_count": 127,
     "metadata": {},
     "output_type": "execute_result"
    }
   ],
   "source": [
    "# 파이프를 다 가져옴.\n",
    "prep_pipe"
   ]
  },
  {
   "cell_type": "code",
   "execution_count": 128,
   "id": "6e2eb3a9-f148-4d07-a949-10b53ede0296",
   "metadata": {
    "collapsed": true,
    "jupyter": {
     "outputs_hidden": true
    },
    "tags": []
   },
   "outputs": [
    {
     "ename": "NameError",
     "evalue": "name 'final_model_custom' is not defined",
     "output_type": "error",
     "traceback": [
      "\u001b[1;31m---------------------------------------------------------------------------\u001b[0m",
      "\u001b[1;31mNameError\u001b[0m                                 Traceback (most recent call last)",
      "\u001b[1;32m<ipython-input-128-894d9f19bcd9>\u001b[0m in \u001b[0;36m<module>\u001b[1;34m\u001b[0m\n\u001b[1;32m----> 1\u001b[1;33m \u001b[0mprep_pipe\u001b[0m\u001b[1;33m.\u001b[0m\u001b[0msteps\u001b[0m\u001b[1;33m.\u001b[0m\u001b[0mappend\u001b[0m\u001b[1;33m(\u001b[0m\u001b[1;33m[\u001b[0m\u001b[1;34m'trained_model'\u001b[0m\u001b[1;33m,\u001b[0m \u001b[0mfinal_model_custom\u001b[0m\u001b[1;33m]\u001b[0m\u001b[1;33m)\u001b[0m\u001b[1;33m\u001b[0m\u001b[1;33m\u001b[0m\u001b[0m\n\u001b[0m",
      "\u001b[1;31mNameError\u001b[0m: name 'final_model_custom' is not defined"
     ]
    }
   ],
   "source": [
    "prep_pipe.steps.append(['trained_model', final_model_custom])"
   ]
  },
  {
   "cell_type": "code",
   "execution_count": null,
   "id": "f20d487a-0ae2-48d7-9674-e980e128e513",
   "metadata": {
    "tags": []
   },
   "outputs": [],
   "source": [
    "# pred = prep_pipe.predict_proba(test)\n",
    "# pred"
   ]
  },
  {
   "cell_type": "markdown",
   "id": "5a51390a-d10f-466e-a4c6-55247c14d847",
   "metadata": {},
   "source": [
    "---"
   ]
  }
 ],
 "metadata": {
  "kernelspec": {
   "display_name": "Python 3",
   "language": "python",
   "name": "python3"
  },
  "language_info": {
   "codemirror_mode": {
    "name": "ipython",
    "version": 3
   },
   "file_extension": ".py",
   "mimetype": "text/x-python",
   "name": "python",
   "nbconvert_exporter": "python",
   "pygments_lexer": "ipython3",
   "version": "3.8.8"
  },
  "toc-autonumbering": true,
  "toc-showmarkdowntxt": false
 },
 "nbformat": 4,
 "nbformat_minor": 5
}
