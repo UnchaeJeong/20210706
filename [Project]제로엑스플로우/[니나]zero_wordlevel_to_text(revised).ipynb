{
 "cells": [
  {
   "cell_type": "markdown",
   "metadata": {},
   "source": [
    "# 단어장 및 텍스트 불러오기 + 텍스트에 대해 같은 ID끼리 뭉치기"
   ]
  },
  {
   "cell_type": "markdown",
   "metadata": {},
   "source": [
    "## word"
   ]
  },
  {
   "cell_type": "code",
   "execution_count": 76,
   "metadata": {
    "scrolled": true
   },
   "outputs": [
    {
     "data": {
      "text/html": [
       "<div>\n",
       "<style scoped>\n",
       "    .dataframe tbody tr th:only-of-type {\n",
       "        vertical-align: middle;\n",
       "    }\n",
       "\n",
       "    .dataframe tbody tr th {\n",
       "        vertical-align: top;\n",
       "    }\n",
       "\n",
       "    .dataframe thead th {\n",
       "        text-align: right;\n",
       "    }\n",
       "</style>\n",
       "<table border=\"1\" class=\"dataframe\">\n",
       "  <thead>\n",
       "    <tr style=\"text-align: right;\">\n",
       "      <th></th>\n",
       "      <th>eng</th>\n",
       "      <th>kor</th>\n",
       "      <th>level</th>\n",
       "    </tr>\n",
       "  </thead>\n",
       "  <tbody>\n",
       "    <tr>\n",
       "      <th>0</th>\n",
       "      <td>afraid</td>\n",
       "      <td>두려워하여</td>\n",
       "      <td>ele</td>\n",
       "    </tr>\n",
       "    <tr>\n",
       "      <th>1</th>\n",
       "      <td>bad</td>\n",
       "      <td>나쁜</td>\n",
       "      <td>ele</td>\n",
       "    </tr>\n",
       "    <tr>\n",
       "      <th>2</th>\n",
       "      <td>blue</td>\n",
       "      <td>푸른</td>\n",
       "      <td>ele</td>\n",
       "    </tr>\n",
       "    <tr>\n",
       "      <th>3</th>\n",
       "      <td>dance</td>\n",
       "      <td>댄스</td>\n",
       "      <td>ele</td>\n",
       "    </tr>\n",
       "    <tr>\n",
       "      <th>4</th>\n",
       "      <td>exam</td>\n",
       "      <td>시험</td>\n",
       "      <td>ele</td>\n",
       "    </tr>\n",
       "  </tbody>\n",
       "</table>\n",
       "</div>"
      ],
      "text/plain": [
       "      eng    kor level\n",
       "0  afraid  두려워하여   ele\n",
       "1     bad     나쁜   ele\n",
       "2    blue     푸른   ele\n",
       "3   dance     댄스   ele\n",
       "4    exam     시험   ele"
      ]
     },
     "metadata": {},
     "output_type": "display_data"
    },
    {
     "name": "stdout",
     "output_type": "stream",
     "text": [
      "<class 'pandas.core.frame.DataFrame'>\n",
      "Int64Index: 15783 entries, 0 to 887\n",
      "Data columns (total 3 columns):\n",
      " #   Column  Non-Null Count  Dtype \n",
      "---  ------  --------------  ----- \n",
      " 0   eng     15783 non-null  object\n",
      " 1   kor     15783 non-null  object\n",
      " 2   level   15783 non-null  object\n",
      "dtypes: object(3)\n",
      "memory usage: 493.2+ KB\n",
      "None\n"
     ]
    }
   ],
   "source": [
    "import pandas as pd\n",
    "\n",
    "colname = ['eng', 'kor','level']\n",
    "with open('./data/mid1.csv', encoding=\"utf-8\") as f:\n",
    "    table = pd.read_csv(f, header=None)\n",
    "df_mid1 = pd.DataFrame(table)\n",
    "df_mid1 = df_mid1.rename(columns={0:'eng', 1:'kor'})\n",
    "df_mid1['level'] = 'mid1'\n",
    "\n",
    "with open('./data/mid2.csv', encoding=\"utf-8\") as f:\n",
    "    table = pd.read_csv(f, header=None)\n",
    "df_mid2 = pd.DataFrame(table)\n",
    "df_mid2 = df_mid2.rename(columns={0:'eng', 1:'kor'})\n",
    "df_mid2['level'] = 'mid2'\n",
    "\n",
    "with open('./data/mid3.csv', encoding=\"utf-8\") as f:\n",
    "    table = pd.read_csv(f, header=None)\n",
    "df_mid3 = pd.DataFrame(table)\n",
    "df_mid3 = df_mid3.rename(columns={0:'eng', 1:'kor'})\n",
    "df_mid3['level'] = 'mid3'\n",
    "\n",
    "with open('./data/high1.csv', encoding=\"utf-8\") as f:\n",
    "    table = pd.read_csv(f, header=None)\n",
    "df_high1 = pd.DataFrame(table)\n",
    "df_high1 = df_high1.rename(columns={0:'eng', 1:'kor'})\n",
    "df_high1['level'] = 'high1'\n",
    "\n",
    "with open('./data/high2.csv', encoding=\"utf-8\") as f:\n",
    "    table = pd.read_csv(f, header=None)\n",
    "df_high2 = pd.DataFrame(table)\n",
    "df_high2 = df_high2.rename(columns={0:'eng', 1:'kor'})\n",
    "df_high2['level'] = 'high2'\n",
    "\n",
    "with open('./data/high3.csv', encoding=\"utf-8\") as f:\n",
    "    table = pd.read_csv(f, header=None)\n",
    "df_high3 = pd.DataFrame(table)\n",
    "df_high3 = df_high3.rename(columns={0:'eng', 1:'kor'})\n",
    "df_high3['level'] = 'high3'\n",
    "\n",
    "with open('./data/ele.csv', encoding=\"utf-8\") as f:\n",
    "    table = pd.read_csv(f, header=None)\n",
    "    \n",
    "df_ele = pd.DataFrame(table)\n",
    "df_ele = df_ele.rename(columns={0:'eng', 1:'kor'})\n",
    "df_ele['level'] = 'ele'\n",
    "df_ele = df_ele.dropna(axis=1)\n",
    "display(df_ele.head())\n",
    "\n",
    "df_concat1 = pd.concat([df_mid1, df_mid2])\n",
    "df_concat2 = pd.concat([df_mid3, df_high1])\n",
    "df_concat3 = pd.concat([df_high2, df_high3])\n",
    "df_concat4 = pd.concat([df_concat1, df_concat2])\n",
    "df_concat5 = pd.concat([df_concat4, df_concat3])\n",
    "df_word = pd.concat([df_ele, df_concat5])\n",
    "df_word = df_word.dropna()\n",
    "\n",
    "print(df_word.info(1))"
   ]
  },
  {
   "cell_type": "code",
   "execution_count": 77,
   "metadata": {},
   "outputs": [
    {
     "data": {
      "text/plain": [
       "eng      0\n",
       "kor      0\n",
       "level    0\n",
       "dtype: int64"
      ]
     },
     "execution_count": 77,
     "metadata": {},
     "output_type": "execute_result"
    }
   ],
   "source": [
    "df_word.isna().sum()"
   ]
  },
  {
   "cell_type": "code",
   "execution_count": 78,
   "metadata": {},
   "outputs": [
    {
     "data": {
      "text/html": [
       "<div>\n",
       "<style scoped>\n",
       "    .dataframe tbody tr th:only-of-type {\n",
       "        vertical-align: middle;\n",
       "    }\n",
       "\n",
       "    .dataframe tbody tr th {\n",
       "        vertical-align: top;\n",
       "    }\n",
       "\n",
       "    .dataframe thead th {\n",
       "        text-align: right;\n",
       "    }\n",
       "</style>\n",
       "<table border=\"1\" class=\"dataframe\">\n",
       "  <thead>\n",
       "    <tr style=\"text-align: right;\">\n",
       "      <th></th>\n",
       "      <th>eng</th>\n",
       "      <th>kor</th>\n",
       "      <th>level</th>\n",
       "    </tr>\n",
       "  </thead>\n",
       "  <tbody>\n",
       "    <tr>\n",
       "      <th>0</th>\n",
       "      <td>go for</td>\n",
       "      <td>1. 좋아하다 2. 편을 들다 3. 찬성하다 4. 시도하다</td>\n",
       "      <td>high1</td>\n",
       "    </tr>\n",
       "    <tr>\n",
       "      <th>1</th>\n",
       "      <td>tour guide</td>\n",
       "      <td>여행 가이드, 관광 안내원</td>\n",
       "      <td>high1</td>\n",
       "    </tr>\n",
       "    <tr>\n",
       "      <th>2</th>\n",
       "      <td>give back to</td>\n",
       "      <td>~에 1. 기여하다 2. 돌려주다 3. 복수하다</td>\n",
       "      <td>high1</td>\n",
       "    </tr>\n",
       "    <tr>\n",
       "      <th>3</th>\n",
       "      <td>chilly</td>\n",
       "      <td>차가운, 냉담한, 냉담하게</td>\n",
       "      <td>high1</td>\n",
       "    </tr>\n",
       "    <tr>\n",
       "      <th>4</th>\n",
       "      <td>platform</td>\n",
       "      <td>승강장</td>\n",
       "      <td>high1</td>\n",
       "    </tr>\n",
       "    <tr>\n",
       "      <th>...</th>\n",
       "      <td>...</td>\n",
       "      <td>...</td>\n",
       "      <td>...</td>\n",
       "    </tr>\n",
       "    <tr>\n",
       "      <th>3281</th>\n",
       "      <td>the latter</td>\n",
       "      <td>후자</td>\n",
       "      <td>high1</td>\n",
       "    </tr>\n",
       "    <tr>\n",
       "      <th>3282</th>\n",
       "      <td>unique to ~</td>\n",
       "      <td>~ 특유의, ~에 고유한</td>\n",
       "      <td>high1</td>\n",
       "    </tr>\n",
       "    <tr>\n",
       "      <th>3283</th>\n",
       "      <td>team spirit</td>\n",
       "      <td>공동체 정신</td>\n",
       "      <td>high1</td>\n",
       "    </tr>\n",
       "    <tr>\n",
       "      <th>3284</th>\n",
       "      <td>be dedicated to</td>\n",
       "      <td>~에 헌신하다</td>\n",
       "      <td>high1</td>\n",
       "    </tr>\n",
       "    <tr>\n",
       "      <th>3285</th>\n",
       "      <td>glory</td>\n",
       "      <td>영광</td>\n",
       "      <td>high1</td>\n",
       "    </tr>\n",
       "  </tbody>\n",
       "</table>\n",
       "<p>3285 rows × 3 columns</p>\n",
       "</div>"
      ],
      "text/plain": [
       "                  eng                               kor  level\n",
       "0              go for  1. 좋아하다 2. 편을 들다 3. 찬성하다 4. 시도하다  high1\n",
       "1          tour guide                    여행 가이드, 관광 안내원  high1\n",
       "2        give back to        ~에 1. 기여하다 2. 돌려주다 3. 복수하다  high1\n",
       "3              chilly                    차가운, 냉담한, 냉담하게  high1\n",
       "4            platform                               승강장  high1\n",
       "...               ...                               ...    ...\n",
       "3281       the latter                                후자  high1\n",
       "3282      unique to ~                     ~ 특유의, ~에 고유한  high1\n",
       "3283      team spirit                            공동체 정신  high1\n",
       "3284  be dedicated to                           ~에 헌신하다  high1\n",
       "3285            glory                                영광  high1\n",
       "\n",
       "[3285 rows x 3 columns]"
      ]
     },
     "execution_count": 78,
     "metadata": {},
     "output_type": "execute_result"
    }
   ],
   "source": [
    "df_word[df_word['level']=='high1']"
   ]
  },
  {
   "cell_type": "code",
   "execution_count": 79,
   "metadata": {},
   "outputs": [
    {
     "data": {
      "text/html": [
       "<div>\n",
       "<style scoped>\n",
       "    .dataframe tbody tr th:only-of-type {\n",
       "        vertical-align: middle;\n",
       "    }\n",
       "\n",
       "    .dataframe tbody tr th {\n",
       "        vertical-align: top;\n",
       "    }\n",
       "\n",
       "    .dataframe thead th {\n",
       "        text-align: right;\n",
       "    }\n",
       "</style>\n",
       "<table border=\"1\" class=\"dataframe\">\n",
       "  <thead>\n",
       "    <tr style=\"text-align: right;\">\n",
       "      <th></th>\n",
       "      <th>eng</th>\n",
       "      <th>kor</th>\n",
       "      <th>level</th>\n",
       "    </tr>\n",
       "  </thead>\n",
       "  <tbody>\n",
       "    <tr>\n",
       "      <th>0</th>\n",
       "      <td>afraid</td>\n",
       "      <td>두려워하여</td>\n",
       "      <td>ele</td>\n",
       "    </tr>\n",
       "    <tr>\n",
       "      <th>1</th>\n",
       "      <td>bad</td>\n",
       "      <td>나쁜</td>\n",
       "      <td>ele</td>\n",
       "    </tr>\n",
       "    <tr>\n",
       "      <th>2</th>\n",
       "      <td>blue</td>\n",
       "      <td>푸른</td>\n",
       "      <td>ele</td>\n",
       "    </tr>\n",
       "    <tr>\n",
       "      <th>3</th>\n",
       "      <td>dance</td>\n",
       "      <td>댄스</td>\n",
       "      <td>ele</td>\n",
       "    </tr>\n",
       "    <tr>\n",
       "      <th>4</th>\n",
       "      <td>exam</td>\n",
       "      <td>시험</td>\n",
       "      <td>ele</td>\n",
       "    </tr>\n",
       "    <tr>\n",
       "      <th>...</th>\n",
       "      <td>...</td>\n",
       "      <td>...</td>\n",
       "      <td>...</td>\n",
       "    </tr>\n",
       "    <tr>\n",
       "      <th>695</th>\n",
       "      <td>guess</td>\n",
       "      <td>추측(짐작)하다</td>\n",
       "      <td>ele</td>\n",
       "    </tr>\n",
       "    <tr>\n",
       "      <th>696</th>\n",
       "      <td>job</td>\n",
       "      <td>일</td>\n",
       "      <td>ele</td>\n",
       "    </tr>\n",
       "    <tr>\n",
       "      <th>697</th>\n",
       "      <td>miss</td>\n",
       "      <td>미혼 여성, 놓치다</td>\n",
       "      <td>ele</td>\n",
       "    </tr>\n",
       "    <tr>\n",
       "      <th>698</th>\n",
       "      <td>quick</td>\n",
       "      <td>빠른</td>\n",
       "      <td>ele</td>\n",
       "    </tr>\n",
       "    <tr>\n",
       "      <th>699</th>\n",
       "      <td>under</td>\n",
       "      <td>-아래에</td>\n",
       "      <td>ele</td>\n",
       "    </tr>\n",
       "  </tbody>\n",
       "</table>\n",
       "<p>700 rows × 3 columns</p>\n",
       "</div>"
      ],
      "text/plain": [
       "        eng         kor level\n",
       "0    afraid       두려워하여   ele\n",
       "1       bad          나쁜   ele\n",
       "2      blue          푸른   ele\n",
       "3     dance          댄스   ele\n",
       "4      exam          시험   ele\n",
       "..      ...         ...   ...\n",
       "695   guess    추측(짐작)하다   ele\n",
       "696     job           일   ele\n",
       "697    miss  미혼 여성, 놓치다   ele\n",
       "698   quick          빠른   ele\n",
       "699   under        -아래에   ele\n",
       "\n",
       "[700 rows x 3 columns]"
      ]
     },
     "execution_count": 79,
     "metadata": {},
     "output_type": "execute_result"
    }
   ],
   "source": [
    "df_word[df_word['level']=='ele']"
   ]
  },
  {
   "cell_type": "code",
   "execution_count": 80,
   "metadata": {},
   "outputs": [],
   "source": [
    "# with open('./data/ele.csv', encoding=\"unicode_escape\") as f:\n",
    "#     lines = f.readlines()\n",
    "    \n",
    "# for line in lines[:]:\n",
    "#     print(len(line.split(',')))\n",
    "\n",
    "#     table = pd.read_csv(f, header=None)\n",
    "# df_ele = pd.DataFrame(table)\n",
    "# df_ele = df_ele.rename(columns={0:'eng', 1:'kor'})\n",
    "# df_ele['level'] = 'ele'\n",
    "# df_ele = df_ele.dropna(axis=1)\n",
    "# display(df_ele.head())\n",
    "\n",
    "# df_concat1 = pd.concat([df_mid1, df_mid2])\n",
    "# df_concat2 = pd.concat([df_mid3, df_high1])\n",
    "# df_concat3 = pd.concat([df_high2, df_high3])\n",
    "# df_concat4 = pd.concat([df_concat1, df_concat2])\n",
    "# df_concat5 = pd.concat([df_concat4, df_concat3])\n",
    "# df_word = pd.concat([df_ele, df_concat5])\n",
    "# df_word = df_word.dropna()\n",
    "\n",
    "# print(df_word.info(1))"
   ]
  },
  {
   "cell_type": "code",
   "execution_count": 81,
   "metadata": {},
   "outputs": [
    {
     "data": {
      "text/plain": [
       "Counter({'ele': 700,\n",
       "         'mid1': 2544,\n",
       "         'mid2': 1884,\n",
       "         'mid3': 1578,\n",
       "         'high1': 3285,\n",
       "         'high2': 4904,\n",
       "         'high3': 888})"
      ]
     },
     "metadata": {},
     "output_type": "display_data"
    }
   ],
   "source": [
    "#단어장 내 레벨별 단어 수 확인\n",
    "from collections import Counter\n",
    "display(Counter(df_word.level))"
   ]
  },
  {
   "cell_type": "markdown",
   "metadata": {},
   "source": [
    "## Text Data 가져오기"
   ]
  },
  {
   "cell_type": "markdown",
   "metadata": {},
   "source": [
    "### mouitest_list"
   ]
  },
  {
   "cell_type": "code",
   "execution_count": 82,
   "metadata": {
    "jupyter": {
     "outputs_hidden": true
    },
    "tags": []
   },
   "outputs": [
    {
     "name": "stdout",
     "output_type": "stream",
     "text": [
      "<class 'pandas.core.frame.DataFrame'>\n",
      "Int64Index: 1839 entries, 0 to 1846\n",
      "Data columns (total 4 columns):\n",
      " #   Column    Non-Null Count  Dtype \n",
      "---  ------    --------------  ----- \n",
      " 0   sentence  1839 non-null   object\n",
      " 1   order     1839 non-null   int64 \n",
      " 2   video_id  1839 non-null   int64 \n",
      " 3   title     1839 non-null   object\n",
      "dtypes: int64(2), object(2)\n",
      "memory usage: 71.8+ KB\n",
      "None\n",
      "<class 'pandas.core.frame.DataFrame'>\n",
      "Int64Index: 1839 entries, 0 to 1846\n",
      "Data columns (total 4 columns):\n",
      " #   Column    Non-Null Count  Dtype \n",
      "---  ------    --------------  ----- \n",
      " 0   sentence  1839 non-null   object\n",
      " 1   order     1839 non-null   object\n",
      " 2   video_id  1839 non-null   object\n",
      " 3   title     1839 non-null   object\n",
      "dtypes: object(4)\n",
      "memory usage: 71.8+ KB\n",
      "None\n",
      "(A) “You’ve been a very good girl this year, Emma. Tonight, Santa will drop by our house to leave you some presents.” Martha told (a) her little girl, smiling. “And for you too, Fred,” she added. She wanted to give her two children so much more, but this year had been especially hard for Martha. She had worked day and night to buy some Christmas gifts for her children. (C) That night, after everyone had gone to bed, Emma slowly climbed out of bed. She took out a page from a notebook to write a letter to Santa. She whispered to herself as she wrote. “Dear Santa, will you send a few smiles and laughs for my mother? (c) She doesn’t laugh much. And will you send a few toys for Fred as well? Thank you.” Emma folded the letter twice and sealed it within an envelope. She left the envelope outside the front door and went back to sleep. (B) Emma came running up to her mother the next morning. “Mommy, Santa really did come last night!” Martha smiled, thinking of the candies and cookies (b) she must have found in her socks. “Did you like his gifts?” “Yes, they are wonderful. Fred loves his toys, too.” Martha was confused. She wondered how the candies and cookies had become toys overnight. Martha ran into Emma’s room and saw a small red box that was half open. She knelt down and glanced inside to see its contents. (D) The box contained some toys, countless little candies and cookies. “Mommy, this is for you from Santa.” Emma said holding out a card towards Martha. Puzzled, (d) she opened it. It said, “Dear Emma’s mother. A very merry Christmas! Hi, I am Amelia. I found your child’s letter blowing across the street last night. I was touched and couldn’t help but respond. Please accept the gift as a Christmas greeting.” Martha felt tears falling down (e) her cheeks. She slowly wiped them off and hugged her daughter. “Merry Christmas, Emma. Didn’t I tell you Santa would come?” I found your child’s letter blowing across the street last night. I was touched and couldn’t help but respond. Please accept the gift as a Christmas greeting.” Martha felt tears falling down (e) her cheeks. She slowly wiped them off and hugged her daughter. “Merry Christmas, Emma. Didn’t I tell you Santa would come?”\n",
      "     video_id                       title  \\\n",
      "0      127765      2019학년도 고2 3월 모의고사 18번   \n",
      "1      127766      2019학년도 고2 3월 모의고사 19번   \n",
      "2      127767      2019학년도 고2 3월 모의고사 20번   \n",
      "3      127768      2019학년도 고2 3월 모의고사 21번   \n",
      "4      127769      2019학년도 고2 3월 모의고사 22번   \n",
      "..        ...                         ...   \n",
      "195    127960     2020학년도 고2 11월 모의고사 38번   \n",
      "196    127961     2020학년도 고2 11월 모의고사 39번   \n",
      "197    127962     2020학년도 고2 11월 모의고사 40번   \n",
      "198    127963  2020학년도 고2 11월 모의고사 41-42번   \n",
      "199    127964  2020학년도 고2 11월 모의고사 43-45번   \n",
      "\n",
      "                                              sentence  \n",
      "0    Dear Mr. Spencer, I will have lived in this ap...  \n",
      "1    Something inside told me that by now someone h...  \n",
      "2    I am sure you have heard something like, “You ...  \n",
      "3    Think of a buffet table at a party, or perhaps...  \n",
      "4    The practice of medicine has meant the average...  \n",
      "..                                                 ...  \n",
      "195  Liquids are destructive. Foams feel soft becau...  \n",
      "196  In the late twentieth century, researchers sou...  \n",
      "197  In 2011, Micah Edelson and his colleagues cond...  \n",
      "198  Evolutionary biologists believe sociability dr...  \n",
      "199  (A) “You’ve been a very good girl this year, E...  \n",
      "\n",
      "[200 rows x 3 columns]\n"
     ]
    },
    {
     "data": {
      "text/html": [
       "<div>\n",
       "<style scoped>\n",
       "    .dataframe tbody tr th:only-of-type {\n",
       "        vertical-align: middle;\n",
       "    }\n",
       "\n",
       "    .dataframe tbody tr th {\n",
       "        vertical-align: top;\n",
       "    }\n",
       "\n",
       "    .dataframe thead th {\n",
       "        text-align: right;\n",
       "    }\n",
       "</style>\n",
       "<table border=\"1\" class=\"dataframe\">\n",
       "  <thead>\n",
       "    <tr style=\"text-align: right;\">\n",
       "      <th></th>\n",
       "      <th>video_id</th>\n",
       "      <th>title</th>\n",
       "      <th>sentence</th>\n",
       "    </tr>\n",
       "  </thead>\n",
       "  <tbody>\n",
       "    <tr>\n",
       "      <th>0</th>\n",
       "      <td>127765</td>\n",
       "      <td>2019학년도 고2 3월 모의고사 18번</td>\n",
       "      <td>Dear Mr. Spencer, I will have lived in this ap...</td>\n",
       "    </tr>\n",
       "    <tr>\n",
       "      <th>1</th>\n",
       "      <td>127766</td>\n",
       "      <td>2019학년도 고2 3월 모의고사 19번</td>\n",
       "      <td>Something inside told me that by now someone h...</td>\n",
       "    </tr>\n",
       "    <tr>\n",
       "      <th>2</th>\n",
       "      <td>127767</td>\n",
       "      <td>2019학년도 고2 3월 모의고사 20번</td>\n",
       "      <td>I am sure you have heard something like, “You ...</td>\n",
       "    </tr>\n",
       "    <tr>\n",
       "      <th>3</th>\n",
       "      <td>127768</td>\n",
       "      <td>2019학년도 고2 3월 모의고사 21번</td>\n",
       "      <td>Think of a buffet table at a party, or perhaps...</td>\n",
       "    </tr>\n",
       "    <tr>\n",
       "      <th>4</th>\n",
       "      <td>127769</td>\n",
       "      <td>2019학년도 고2 3월 모의고사 22번</td>\n",
       "      <td>The practice of medicine has meant the average...</td>\n",
       "    </tr>\n",
       "    <tr>\n",
       "      <th>5</th>\n",
       "      <td>127770</td>\n",
       "      <td>2019학년도 고2 3월 모의고사 23번</td>\n",
       "      <td>In the 1930s the work of Sigmund Freud, the ‘f...</td>\n",
       "    </tr>\n",
       "    <tr>\n",
       "      <th>6</th>\n",
       "      <td>127771</td>\n",
       "      <td>2019학년도 고2 3월 모의고사 24번</td>\n",
       "      <td>The two pie charts above show the number of na...</td>\n",
       "    </tr>\n",
       "    <tr>\n",
       "      <th>7</th>\n",
       "      <td>127772</td>\n",
       "      <td>2019학년도 고2 3월 모의고사 25번</td>\n",
       "      <td>Alexander Young Jackson (everyone called him A...</td>\n",
       "    </tr>\n",
       "    <tr>\n",
       "      <th>8</th>\n",
       "      <td>127773</td>\n",
       "      <td>2019학년도 고2 3월 모의고사 26번</td>\n",
       "      <td>Safety Poster Contest Each year there is a top...</td>\n",
       "    </tr>\n",
       "    <tr>\n",
       "      <th>9</th>\n",
       "      <td>127774</td>\n",
       "      <td>2019학년도 고2 3월 모의고사 27번</td>\n",
       "      <td>Adult Bike Repair Class This course is a great...</td>\n",
       "    </tr>\n",
       "  </tbody>\n",
       "</table>\n",
       "</div>"
      ],
      "text/plain": [
       "   video_id                   title  \\\n",
       "0    127765  2019학년도 고2 3월 모의고사 18번   \n",
       "1    127766  2019학년도 고2 3월 모의고사 19번   \n",
       "2    127767  2019학년도 고2 3월 모의고사 20번   \n",
       "3    127768  2019학년도 고2 3월 모의고사 21번   \n",
       "4    127769  2019학년도 고2 3월 모의고사 22번   \n",
       "5    127770  2019학년도 고2 3월 모의고사 23번   \n",
       "6    127771  2019학년도 고2 3월 모의고사 24번   \n",
       "7    127772  2019학년도 고2 3월 모의고사 25번   \n",
       "8    127773  2019학년도 고2 3월 모의고사 26번   \n",
       "9    127774  2019학년도 고2 3월 모의고사 27번   \n",
       "\n",
       "                                            sentence  \n",
       "0  Dear Mr. Spencer, I will have lived in this ap...  \n",
       "1  Something inside told me that by now someone h...  \n",
       "2  I am sure you have heard something like, “You ...  \n",
       "3  Think of a buffet table at a party, or perhaps...  \n",
       "4  The practice of medicine has meant the average...  \n",
       "5  In the 1930s the work of Sigmund Freud, the ‘f...  \n",
       "6  The two pie charts above show the number of na...  \n",
       "7  Alexander Young Jackson (everyone called him A...  \n",
       "8  Safety Poster Contest Each year there is a top...  \n",
       "9  Adult Bike Repair Class This course is a great...  "
      ]
     },
     "execution_count": 82,
     "metadata": {},
     "output_type": "execute_result"
    }
   ],
   "source": [
    "#texts \n",
    "import pandas as pd\n",
    "with open('./data/mouitest_list.csv', encoding='utf-8') as f:\n",
    "    table = pd.read_csv(f, header=0)\n",
    "df_contents_1 = pd.DataFrame(table)\n",
    "# print(df_contents_1.info(1))\n",
    "\n",
    "df_contents_1 = df_contents_1.drop(['Unnamed: 4'], axis=1)\n",
    "df_contents_1 = df_contents_1.dropna(axis=0)\n",
    "print(df_contents_1.info(1))\n",
    "\n",
    "df_contents_1['video_id'] = df_contents_1['video_id'].astype('object')\n",
    "df_contents_1['order'] = df_contents_1['order'].astype('object')\n",
    "print(df_contents_1.info(1))\n",
    "df_contents = df_contents_1.groupby(['video_id','title'])['sentence'].apply(' '.join).reset_index()\n",
    "print(df_contents['sentence'][199])\n",
    "print(df_contents)\n",
    "df_contents.head(10)"
   ]
  },
  {
   "cell_type": "markdown",
   "metadata": {},
   "source": [
    "### Textbook_list"
   ]
  },
  {
   "cell_type": "code",
   "execution_count": 84,
   "metadata": {},
   "outputs": [
    {
     "name": "stdout",
     "output_type": "stream",
     "text": [
      "<class 'pandas.core.frame.DataFrame'>\n",
      "Int64Index: 32874 entries, 0 to 32956\n",
      "Data columns (total 4 columns):\n",
      " #   Column    Non-Null Count  Dtype \n",
      "---  ------    --------------  ----- \n",
      " 0   sentence  32874 non-null  object\n",
      " 1   order     32874 non-null  int64 \n",
      " 2   video_id  32874 non-null  int64 \n",
      " 3   title     32874 non-null  object\n",
      "dtypes: int64(2), object(2)\n",
      "memory usage: 1.3+ MB\n",
      "None\n",
      "<class 'pandas.core.frame.DataFrame'>\n",
      "Int64Index: 32874 entries, 0 to 32956\n",
      "Data columns (total 4 columns):\n",
      " #   Column    Non-Null Count  Dtype \n",
      "---  ------    --------------  ----- \n",
      " 0   sentence  32874 non-null  object\n",
      " 1   order     32874 non-null  object\n",
      " 2   video_id  32874 non-null  object\n",
      " 3   title     32874 non-null  object\n",
      "dtypes: object(4)\n",
      "memory usage: 1.3+ MB\n",
      "None\n",
      "      video_id                      title  \\\n",
      "0        26657           수능특강 1 - Gateway   \n",
      "1        26658                 수능특강 1 - 1   \n",
      "2        26659                 수능특강 1 - 2   \n",
      "3        26660                 수능특강 1 - 3   \n",
      "4        26661                 수능특강 1 - 4   \n",
      "...        ...                        ...   \n",
      "1283    134630     2019학년도 고3 4월 모의고사 38번   \n",
      "1284    134631     2019학년도 고3 4월 모의고사 39번   \n",
      "1285    134632     2019학년도 고3 4월 모의고사 40번   \n",
      "1286    134633  2019학년도 고3 4월 모의고사 41-42번   \n",
      "1287    134634  2019학년도 고3 4월 모의고사 43-45번   \n",
      "\n",
      "                                               sentence  \n",
      "0     Dear Mr.Kayne, I am a resident of Cansinghill ...  \n",
      "1     Can’t leave the office or home to volunteer? N...  \n",
      "2     At Metro Bank we try to provide banking facili...  \n",
      "3     Dear Friend, At Christmas time our auditorium ...  \n",
      "4     Dear Mayor Johnson, I have always appreciated ...  \n",
      "...                                                 ...  \n",
      "1283  Rather, say to yourself, “What would I do if I...  \n",
      "1284  It is obvious then that there is no authority ...  \n",
      "1285  It is widely believed that verbal rehearsal im...  \n",
      "1286  At around 1.5kg, the human brain is thought to...  \n",
      "1287  One day, a mother and her little girl went to ...  \n",
      "\n",
      "[1288 rows x 3 columns]\n"
     ]
    }
   ],
   "source": [
    "with open('./data/textbook_list.csv', encoding='utf-8') as f:\n",
    "    table = pd.read_csv(f, header=0)\n",
    "df_contents_2 = pd.DataFrame(table)\n",
    "# print(df_contents_2.info(1))\n",
    "\n",
    "df_contents_2 = df_contents_2.drop(['Unnamed: 4'], axis=1)\n",
    "df_contents_2 = df_contents_2.dropna(axis=0)\n",
    "print(df_contents_2.info(1))\n",
    "\n",
    "df_contents_2['video_id'] = df_contents_2['video_id'].astype('object')\n",
    "df_contents_2['order'] = df_contents_2['order'].astype('object')\n",
    "# df_contents_2[df_contents_2['video_id']==125336]\n",
    "\n",
    "print(df_contents_2.info(1))\n",
    "df_contents_txt = df_contents_2.groupby(['video_id','title'])['sentence'].apply(' '.join).reset_index()\n",
    "# print(df_contents_txt['sentence'][519])\n",
    "print(df_contents_txt)"
   ]
  },
  {
   "cell_type": "code",
   "execution_count": 85,
   "metadata": {},
   "outputs": [
    {
     "name": "stdout",
     "output_type": "stream",
     "text": [
      "Pottery Painting Event Instructors from O- All students and family members are welcome to paint. Please bring the whole family! Event Information ■Time: 6 p.m.–8 p.m. Friday, October 30, 2020 ■Choice of pottery: mug, plate, vase (Choose one.) ■Fee: $10 per person ($2 will be donated to Waine Library.) *After painting, pottery will be fired and returned within one week. *All materials/paints are 100% non-\n"
     ]
    }
   ],
   "source": [
    "print(df_contents_txt['sentence'][1200])"
   ]
  },
  {
   "cell_type": "code",
   "execution_count": 59,
   "metadata": {},
   "outputs": [
    {
     "name": "stdout",
     "output_type": "stream",
     "text": [
      "수능특강 1 - Gateway\n",
      "[119876 '2019학년도 고2 3월 모의고사 21번'\n",
      " 'Think of a buffet table at a party, or perhaps at a hotel you’ve visited. You see platter after platter of different foods. You don’t eat many of these foods at home, and you want to try them all. But trying them all might mean eating more than your usual meal size. The availability of different types of food is one factor in gaining weight. Scientists have seen this behavior in studies with rats: Rats that normally maintain a steady body weight when eating one type of food eat huge amounts and become obese when they are presented with a variety of high The same is true of humans. We eat much more when a variety of good'\n",
      " 'H2']\n",
      "Counter({'H3': 488, 'H1': 256, 'H2': 200, 'M2': 141, 'M3': 103, 'M1': 100})\n",
      "Empty DataFrame\n",
      "Columns: [video_id, title, sentence, level]\n",
      "Index: []\n"
     ]
    }
   ],
   "source": [
    "print(str(df_contents_txt.values[0][1]))\n",
    "\n",
    "df_contents_txt['level'] = ['H3' if '수능특강' in x \n",
    "                            else 'H3' if '고3' in x\n",
    "                            else 'H3' if '수능' in x\n",
    "                            else 'H2' if '고2' in x \n",
    "                            else 'H1' if '고1' in x\n",
    "                            else 'M3' if '중등3' in x\n",
    "                            else 'M2' if 'NE능률(김)' in x\n",
    "                            else 'M2' if '중등2' in x\n",
    "                            else 'M1' if '중등1' in x\n",
    "                            else 'H1' if '고등' in x\n",
    "                            else 'H1' if 'YBM(박)' in x\n",
    "                            else 'M1' if '중등' in x\n",
    "                            else 'non-labeled' for x in df_contents_txt['title']]\n",
    "print(df_contents_txt.values[880])\n",
    "\n",
    "from collections import Counter\n",
    "print(Counter(df_contents_txt['level']))\n",
    "\n",
    "print(df_contents_txt.loc[df_contents_txt['level']=='non-labeled'])\n"
   ]
  },
  {
   "cell_type": "markdown",
   "metadata": {},
   "source": [
    "# 단어장파일 단어와 텍스트 내 단어 매칭 -> 텍스트당 레벨 비율 구하기\n",
    "참고: for문으로 짜서 시간 오래걸림. 최적화 필요. 중복단어 및 동사원형 변형 빠져있음"
   ]
  },
  {
   "cell_type": "code",
   "execution_count": 134,
   "metadata": {
    "scrolled": false
   },
   "outputs": [
    {
     "name": "stdout",
     "output_type": "stream",
     "text": [
      "talk your best the new school year is here are you nervous about talking to other students do you have trouble starting conversations what about keeping conversations going dont worry. here are five tips to become a better talker. . start by asking interesting questions. most people love to talk about themselves. so give them the chance. when you ask questions about people they will answer gladly. what did you do last weekend what do you like to do . be a good listener. many people are poor listeners. so how can you be a good listener look people in the eye. listen carefully to their words. dont look at your cell phone or space out i like listening to pop music. . give feedback. be an active listener. nod your head from time to time. you can say little things like wow or cool.you can also say something like thats interesting. tell me more. giving feedback shows that youre listening. i went to the blue boys concert. that’s interesting. tell me more. . share common interests. you cant have a conversation by just listening. what do you and your partner have in common do you both like sports then talk about your favorite baseball team. you like baseball right so do i. let’s talk about it. . pay attention to the listener sometimes people may not be interested in your topic. dont say hey wake up or why arent you listening to me change the topic or your partner will fall asleep. give the other person a chance to talk. did i tell you about my favorite teamblah blah blah. i’m talking too much. let’s change the topic. practice these tips and you will soon be a great talker. put others first and everyone will want to talk with you.\n"
     ]
    }
   ],
   "source": [
    "import re\n",
    "import nltk\n",
    "from collections import Counter\n",
    "import matplotlib.pyplot as plt\n",
    "import math\n",
    "import numpy as np\n",
    "\n",
    "import time\n",
    "from tqdm import tqdm\n",
    "\n",
    "# 소문자 변환\n",
    "def clean_lowercase(text):\n",
    "    return str(text).lower()\n",
    "\n",
    "# 문장부호 및 특수문자 제거\n",
    "def clean_punctuation(text):\n",
    "    # (A) 괄호 안의 문항 번호 삭제\n",
    "    text = re.sub(r\"\\(.?\\)\",\"\", text)\n",
    "    # 특수기호, 특수문자, 숫자\n",
    "    text = re.sub(r\"[0-9-=+,#/\\?\\\"\\“\\”:^$@*\\\"※~&%ㆍ!』℃\\\\‘|\\(\\)\\[\\]\\<\\>`\\'…\\(\\)\\-\\■\\–]+\",\"\",text)\n",
    "    return str(text)\n",
    "\n",
    "# 교과서 지문 정제\n",
    "df_contents_txt['sentence'] = df_contents_txt['sentence'].apply(clean_lowercase)\n",
    "df_contents_txt['sentence'] = df_contents_txt['sentence'].apply(clean_punctuation)\n",
    "\n",
    "print(df_contents_txt['sentence'][375])\n"
   ]
  },
  {
   "cell_type": "code",
   "execution_count": 133,
   "metadata": {},
   "outputs": [
    {
     "data": {
      "text/plain": [
       "' optional absolute true (diodfjlkasjdfasdlk)'"
      ]
     },
     "execution_count": 133,
     "metadata": {},
     "output_type": "execute_result"
    }
   ],
   "source": [
    "# 괄호 안의 문항 번호 삭제\n",
    "# t = \"(A) optional (B)absolute (3)true (diodfjlkasjdfasdlk)\"\n",
    "# # t = re.findall(\"^\\(.\\)$\",t)\n",
    "# # t = re.sub(r\"\\(.*?\\)\",\"\", t)\n",
    "# t = re.sub(r\"\\(.?\\)\",\"\", t)\n",
    "# t"
   ]
  },
  {
   "cell_type": "code",
   "execution_count": null,
   "metadata": {},
   "outputs": [],
   "source": [
    "# 괄호 문항 번호 삭제 확인\n",
    "print(df_contents['sentence'][199])"
   ]
  },
  {
   "cell_type": "code",
   "execution_count": null,
   "metadata": {
    "scrolled": true
   },
   "outputs": [],
   "source": [
    "# 어간 추출 stemming (the going -> the go)\n",
    "from nltk.stem import PorterStemmer\n",
    "ps =PorterStemmer()\n",
    "words= df_contents_txt['tokenized_text']\n",
    "print([ps.stem(w) for w in words])\n",
    "# print(words)"
   ]
  },
  {
   "cell_type": "code",
   "execution_count": null,
   "metadata": {},
   "outputs": [],
   "source": [
    "# 표제어추출 Lemmatization ( am., are .is → be)\n",
    "import nltk\n",
    "from nltk.stem import WordNetLemmatizer\n",
    "\n",
    "wordnet_lemmatizer = WordNetLemmatizer()\n",
    "text = df_contents_txt\n",
    "tokenization = nltk.word_tokenize(text)\n",
    "print(tokenization)\n",
    "print(\"----\")\n",
    "for w in tokenization:\n",
    "    print(\"Lemma for {} is {}\".format(w, wordnet_lemmatizer.lemmatize(w)))"
   ]
  },
  {
   "cell_type": "code",
   "execution_count": null,
   "metadata": {},
   "outputs": [],
   "source": []
  },
  {
   "cell_type": "code",
   "execution_count": 138,
   "metadata": {},
   "outputs": [
    {
     "name": "stdout",
     "output_type": "stream",
     "text": [
      "dear mr.kayne i am a resident of cansinghill apartments located right next to the newly opened  vuenna dog park. as i live with three dogs i am very happy to let my dogs run  around and safely play with other dogs from the neighborhood. however the noise of  barking and yelling from the park at night is so loud and disturbing that i cannot relax  in my apartment. many of my apartment neighbors also seriously complain about this  noise. i want immediate action to solve this urgent problem. since you are the manager  of vuenna dog park i ask you to take measures to prevent the noise at night. i hope to  hear from you soon.\n"
     ]
    }
   ],
   "source": [
    "# 모의 고사 지문 정제\n",
    "df_contents['sentence'] = df_contents['sentence'].apply(clean_lowercase)\n",
    "df_contents['sentence'] = df_contents['sentence'].apply(clean_punctuation)\n",
    "print(df_contents_txt['sentence'][0])"
   ]
  },
  {
   "cell_type": "code",
   "execution_count": 139,
   "metadata": {},
   "outputs": [
    {
     "name": "stdout",
     "output_type": "stream",
     "text": [
      "pottery painting event instructors from o all students and family members are welcome to paint. please bring the whole family event information time  p.m. p.m. friday october   choice of pottery mug plate vase choose one. fee  per person  will be donated to waine library. after painting pottery will be fired and returned within one week. all materialspaints are  non\n"
     ]
    }
   ],
   "source": [
    "print(df_contents_txt['sentence'][1200])"
   ]
  },
  {
   "cell_type": "code",
   "execution_count": 96,
   "metadata": {
    "scrolled": true
   },
   "outputs": [
    {
     "name": "stdout",
     "output_type": "stream",
     "text": [
      "double swan hot springs soak your way to health and have your cares float away water temperatures hot springs  year round swimming pools   in summer   in winter hours tuesday through friday  a.m. p.m. saturday  sunday  a.m. p.m. fees notes visitors can bring their own coast guard approved life jackets. swimming equipment rental is not available. reservations can be made at www.dshotsprings.com or by calling us at \n"
     ]
    }
   ],
   "source": [
    "print(df_contents_txt['sentence'][1201])"
   ]
  },
  {
   "cell_type": "code",
   "execution_count": 140,
   "metadata": {
    "scrolled": true
   },
   "outputs": [
    {
     "name": "stdout",
     "output_type": "stream",
     "text": [
      "['talk', 'your', 'best', 'the', 'new', 'school', 'year', 'is', 'here', 'are', 'you', 'nervous', 'about', 'talking', 'to', 'other', 'students', 'do', 'you', 'have', 'trouble', 'starting', 'conversations', 'what', 'about', 'keeping', 'conversations', 'going', 'dont', 'worry.', 'here', 'are', 'five', 'tips', 'to', 'become', 'a', 'better', 'talker.', '.', 'start', 'by', 'asking', 'interesting', 'questions.', 'most', 'people', 'love', 'to', 'talk', 'about', 'themselves.', 'so', 'give', 'them', 'the', 'chance.', 'when', 'you', 'ask', 'questions', 'about', 'people', 'they', 'will', 'answer', 'gladly.', 'what', 'did', 'you', 'do', 'last', 'weekend', 'what', 'do', 'you', 'like', 'to', 'do', '.', 'be', 'a', 'good', 'listener.', 'many', 'people', 'are', 'poor', 'listeners.', 'so', 'how', 'can', 'you', 'be', 'a', 'good', 'listener', 'look', 'people', 'in', 'the', 'eye.', 'listen', 'carefully', 'to', 'their', 'words.', 'dont', 'look', 'at', 'your', 'cell', 'phone', 'or', 'space', 'out', 'i', 'like', 'listening', 'to', 'pop', 'music.', '.', 'give', 'feedback.', 'be', 'an', 'active', 'listener.', 'nod', 'your', 'head', 'from', 'time', 'to', 'time.', 'you', 'can', 'say', 'little', 'things', 'like', 'wow', 'or', 'cool.you', 'can', 'also', 'say', 'something', 'like', 'thats', 'interesting.', 'tell', 'me', 'more.', 'giving', 'feedback', 'shows', 'that', 'youre', 'listening.', 'i', 'went', 'to', 'the', 'blue', 'boys', 'concert.', 'that’s', 'interesting.', 'tell', 'me', 'more.', '.', 'share', 'common', 'interests.', 'you', 'cant', 'have', 'a', 'conversation', 'by', 'just', 'listening.', 'what', 'do', 'you', 'and', 'your', 'partner', 'have', 'in', 'common', 'do', 'you', 'both', 'like', 'sports', 'then', 'talk', 'about', 'your', 'favorite', 'baseball', 'team.', 'you', 'like', 'baseball', 'right', 'so', 'do', 'i.', 'let’s', 'talk', 'about', 'it.', '.', 'pay', 'attention', 'to', 'the', 'listener', 'sometimes', 'people', 'may', 'not', 'be', 'interested', 'in', 'your', 'topic.', 'dont', 'say', 'hey', 'wake', 'up', 'or', 'why', 'arent', 'you', 'listening', 'to', 'me', 'change', 'the', 'topic', 'or', 'your', 'partner', 'will', 'fall', 'asleep.', 'give', 'the', 'other', 'person', 'a', 'chance', 'to', 'talk.', 'did', 'i', 'tell', 'you', 'about', 'my', 'favorite', 'teamblah', 'blah', 'blah.', 'i’m', 'talking', 'too', 'much.', 'let’s', 'change', 'the', 'topic.', 'practice', 'these', 'tips', 'and', 'you', 'will', 'soon', 'be', 'a', 'great', 'talker.', 'put', 'others', 'first', 'and', 'everyone', 'will', 'want', 'to', 'talk', 'with', 'you', '.']\n"
     ]
    }
   ],
   "source": [
    "# 토큰화(Tokenizer)_apostrophe 등의 처리를 위해 트리뱅크 토크나이저 활용 \n",
    "from nltk.tokenize import TreebankWordTokenizer\n",
    "\n",
    "tokenizer=TreebankWordTokenizer()\n",
    "wlem = nltk.WordNetLemmatizer()\n",
    "df_contents_txt['tokenized_text'] = df_contents_txt['sentence'].apply(tokenizer.tokenize) \n",
    "print(df_contents_txt['tokenized_text'][375])"
   ]
  },
  {
   "cell_type": "code",
   "execution_count": null,
   "metadata": {},
   "outputs": [
    {
     "name": "stderr",
     "output_type": "stream",
     "text": [
      " 62%|████████████████████████████████████████████▉                           | 804/1288 [13:41:58<16:28:35, 122.55s/it]"
     ]
    }
   ],
   "source": [
    "#우리 DB내 샘플 텍스트를 토대로 단어기반 레벨 수집 진행 \n",
    "\n",
    "answers = []\n",
    "for num in tqdm(range(0,len(df_contents_txt['tokenized_text']))):   \n",
    "    levels = []\n",
    "    for word in df_contents_txt['tokenized_text'][num]:\n",
    "        for i in range(0,len(df_word)):            \n",
    "            # 표제어추출 Lemmatization ( am., are .is → be)\n",
    "            if wlem.lemmatize(word) in df_word.values[i]:\n",
    "                levels.append(df_word.values[i])\n",
    "\n",
    "    #각각 어떤 레벨로 구성돼 있는지 체크\n",
    "    level_list = []    \n",
    "    for j in range(len(levels)):\n",
    "        level_list.append(levels[j][2])  \n",
    "#         print(Counter(level_list))\n",
    "\n",
    "    w = Counter(level_list)\n",
    "    total = sum(w.values())\n",
    "    answer = {k: v/total for k,v in w.items()}\n",
    "\n",
    "    answers.append(answer)\n",
    "    \n",
    "print(answers)\n",
    "\n",
    "answer_df = pd.DataFrame(answers)\n",
    "\n",
    "print(answer_df)\n",
    "answer_df.to_csv('./sample2.csv')\n"
   ]
  }
 ],
 "metadata": {
  "kernelspec": {
   "display_name": "Python 3",
   "language": "python",
   "name": "python3"
  },
  "language_info": {
   "codemirror_mode": {
    "name": "ipython",
    "version": 3
   },
   "file_extension": ".py",
   "mimetype": "text/x-python",
   "name": "python",
   "nbconvert_exporter": "python",
   "pygments_lexer": "ipython3",
   "version": "3.8.8"
  },
  "toc": {
   "base_numbering": 1,
   "nav_menu": {},
   "number_sections": true,
   "sideBar": true,
   "skip_h1_title": false,
   "title_cell": "Table of Contents",
   "title_sidebar": "Contents",
   "toc_cell": false,
   "toc_position": {},
   "toc_section_display": true,
   "toc_window_display": false
  }
 },
 "nbformat": 4,
 "nbformat_minor": 4
}
