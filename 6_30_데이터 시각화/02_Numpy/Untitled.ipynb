{
 "cells": [
  {
   "cell_type": "code",
   "execution_count": 1,
   "id": "c104fa2c-a183-41af-8ae1-36fa697f2323",
   "metadata": {},
   "outputs": [
    {
     "name": "stdout",
     "output_type": "stream",
     "text": [
      "100\n",
      "11.11\n",
      "True\n",
      "문자열\n",
      "(10+3j)\n",
      "2000000000\n"
     ]
    }
   ],
   "source": [
    "a1 = 100\n",
    "a2 = 11.11\n",
    "a3 = True\n",
    "a4 = '문자열'\n",
    "a5 = 10 + 3j \n",
    "a6 = 2_000_000_000 #정수\n",
    "\n",
    "print(a1)\n",
    "print(a2)\n",
    "print(a3)\n",
    "print(a4)\n",
    "print(a5)\n",
    "print(a6)"
   ]
  },
  {
   "cell_type": "code",
   "execution_count": 2,
   "id": "e439754c-ce4b-44bb-94ef-b66e2c2e95e9",
   "metadata": {},
   "outputs": [
    {
     "name": "stdout",
     "output_type": "stream",
     "text": [
      "()\n",
      "()\n",
      "(1, 2, 3, 4, 5)\n",
      "(1, 2, 3, 4, 5)\n"
     ]
    }
   ],
   "source": [
    "# 튜플생성\n",
    "t1 = tuple()\n",
    "t2 = ()\n",
    "t3 = (1,2,3,4,5)\n",
    "t4 = 1,2,3,4,5 #()없어도 가능\n",
    "\n",
    "print(t1)\n",
    "print(t2)\n",
    "print(t3)\n",
    "print(t4)"
   ]
  },
  {
   "cell_type": "code",
   "execution_count": 3,
   "id": "b987d268-8e24-4c16-aed6-3917031f2d90",
   "metadata": {},
   "outputs": [],
   "source": [
    "g1, g2, g3, g4, g5 = t4"
   ]
  },
  {
   "cell_type": "code",
   "execution_count": 4,
   "id": "5bd96cdc-5fa0-42fb-880a-3881d864ef98",
   "metadata": {},
   "outputs": [
    {
     "name": "stdout",
     "output_type": "stream",
     "text": [
      "4\n"
     ]
    }
   ],
   "source": [
    "print(g4)"
   ]
  },
  {
   "cell_type": "code",
   "execution_count": 8,
   "id": "7e95458d-3ce8-4523-bdc3-74c16ea0e3fb",
   "metadata": {},
   "outputs": [
    {
     "name": "stdout",
     "output_type": "stream",
     "text": [
      "Index(['col1', 'col2'], dtype='object')\n"
     ]
    }
   ],
   "source": [
    "import pandas as pd\n",
    "\n",
    "d = {'col1': [1,2,3,4,5,6,7], 'col2': [11,12,13,14,15,16,17],\\\n",
    "    'col3' : [23,24,25,26,27,27,13]}\n",
    "df = pd.DataFrame(data = d, index = [1,2,3,4,5,6,7])\n",
    "\n",
    "print(df.columns[0:2])"
   ]
  },
  {
   "cell_type": "code",
   "execution_count": 9,
   "id": "0182af8c-6b2b-47a6-935f-a0492bf1d228",
   "metadata": {},
   "outputs": [],
   "source": [
    " t1 = 10, 20, 30, 40, 50, 60, 70, 80, 90, 100\n"
   ]
  },
  {
   "cell_type": "code",
   "execution_count": 10,
   "id": "1afdaac7-de0c-49fc-810f-665d7c5d42eb",
   "metadata": {},
   "outputs": [
    {
     "data": {
      "text/plain": [
       "(10, 20, 30, 40, 50, 60, 70, 80, 90, 100)"
      ]
     },
     "execution_count": 10,
     "metadata": {},
     "output_type": "execute_result"
    }
   ],
   "source": [
    "t1"
   ]
  },
  {
   "cell_type": "code",
   "execution_count": 11,
   "id": "82f1d2bf-a56f-4b0b-8abd-aac7bd8803c0",
   "metadata": {},
   "outputs": [
    {
     "data": {
      "text/plain": [
       "10"
      ]
     },
     "execution_count": 11,
     "metadata": {},
     "output_type": "execute_result"
    }
   ],
   "source": [
    "t1[0]"
   ]
  },
  {
   "cell_type": "code",
   "execution_count": 12,
   "id": "274f96bc-f3d7-46c4-a006-662c9aaeefee",
   "metadata": {},
   "outputs": [
    {
     "data": {
      "text/plain": [
       "100"
      ]
     },
     "execution_count": 12,
     "metadata": {},
     "output_type": "execute_result"
    }
   ],
   "source": [
    "t1[-1]"
   ]
  },
  {
   "cell_type": "code",
   "execution_count": 14,
   "id": "61b7e4cc-c483-4f42-8cb0-51d038e39b6b",
   "metadata": {},
   "outputs": [],
   "source": [
    "list1 = [10,20]"
   ]
  },
  {
   "cell_type": "code",
   "execution_count": 22,
   "id": "a664a3ab-849e-4915-9d3f-f7093c292442",
   "metadata": {},
   "outputs": [
    {
     "name": "stdout",
     "output_type": "stream",
     "text": [
      "[10, 20, 60, 60, 60, 60, 60, 7, 0, 60, 60, 7, 0, 60]\n"
     ]
    }
   ],
   "source": [
    "list1.append(60)\n",
    "print(list1)"
   ]
  },
  {
   "cell_type": "code",
   "execution_count": 23,
   "id": "8c799e35-9e7d-4380-9392-4e945fb9ed5a",
   "metadata": {},
   "outputs": [
    {
     "name": "stdout",
     "output_type": "stream",
     "text": [
      "[10, 20, 60, 60, 60, 60, 60, 7, 0, 60, 60, 7, 0, 60, 60, 7, 0]\n"
     ]
    }
   ],
   "source": [
    "list1.extend([60,7,0])\n",
    "print(list1)"
   ]
  },
  {
   "cell_type": "code",
   "execution_count": null,
   "id": "7fff0eff-d567-4408-bee4-12163ec7f134",
   "metadata": {},
   "outputs": [],
   "source": [
    "list1.insert(4,41)"
   ]
  },
  {
   "cell_type": "code",
   "execution_count": 25,
   "id": "6a8970c0-8c76-4944-a4d5-b288a4d660c8",
   "metadata": {},
   "outputs": [],
   "source": [
    "import numpy as np"
   ]
  },
  {
   "cell_type": "code",
   "execution_count": 26,
   "id": "0ad4b743-87d4-4140-8714-141a996c829c",
   "metadata": {},
   "outputs": [
    {
     "name": "stdout",
     "output_type": "stream",
     "text": [
      "[11 22 33 44 55]\n",
      "[ 10  40  90 160 250]\n",
      "[ 3  6  9 12 15]\n"
     ]
    }
   ],
   "source": [
    "array1 = np.array([1, 2, 3, 4, 5])\n",
    "array2 = np.array([10, 20, 30, 40, 50])\n",
    "\n",
    "array3 = array1 + array2\n",
    "array4 = array1 * array2\n",
    "array5 = array1 * 3\n",
    "print(array3)\n",
    "print(array4)\n",
    "print(array5)"
   ]
  },
  {
   "cell_type": "code",
   "execution_count": 30,
   "id": "97f2d85e-d12c-41fd-bace-c6983bfe97c3",
   "metadata": {},
   "outputs": [
    {
     "name": "stdout",
     "output_type": "stream",
     "text": [
      "[0. 1. 2. 3. 4.]\n"
     ]
    }
   ],
   "source": [
    "array2 = np.array([0,1,2,3,4], dtype = 'float')\n",
    "print(array2)"
   ]
  },
  {
   "cell_type": "code",
   "execution_count": 31,
   "id": "4a4fde2a-9ee1-404e-9395-0837b89b1a2b",
   "metadata": {},
   "outputs": [
    {
     "data": {
      "text/plain": [
       "array([0., 0., 0., 0., 0.])"
      ]
     },
     "metadata": {},
     "output_type": "display_data"
    }
   ],
   "source": [
    "array1 = np.zeros(5)\n",
    "display(array1)"
   ]
  },
  {
   "cell_type": "code",
   "execution_count": 34,
   "id": "e652d1e8-d5dd-410f-93db-b36b33111e01",
   "metadata": {},
   "outputs": [
    {
     "data": {
      "text/plain": [
       "array([[3, 3, 3, 3, 3, 3, 3],\n",
       "       [3, 3, 3, 3, 3, 3, 3],\n",
       "       [3, 3, 3, 3, 3, 3, 3],\n",
       "       [3, 3, 3, 3, 3, 3, 3],\n",
       "       [3, 3, 3, 3, 3, 3, 3]])"
      ]
     },
     "metadata": {},
     "output_type": "display_data"
    }
   ],
   "source": [
    "array5 = np.full([5,7],3)\n",
    "display(array5)"
   ]
  },
  {
   "cell_type": "code",
   "execution_count": 35,
   "id": "ae5c2b1f-6ccd-4dc6-9a07-9d031565c101",
   "metadata": {},
   "outputs": [
    {
     "data": {
      "text/plain": [
       "array([0, 1, 2, 3, 4, 5])"
      ]
     },
     "metadata": {},
     "output_type": "display_data"
    }
   ],
   "source": [
    "array7 = np.arange(6)\n",
    "display(array7)"
   ]
  },
  {
   "cell_type": "code",
   "execution_count": 36,
   "id": "ebf9a7e6-408e-4605-875a-36480e6646ba",
   "metadata": {},
   "outputs": [],
   "source": [
    "list2d = [\n",
    "    [1, 2, 3],\n",
    "    [4, 5, 6],\n",
    "    [7, 8, 9]\n",
    "]\n",
    "\n",
    "array2d = np.array([\n",
    "    [1, 2, 3],\n",
    "    [4, 5, 6],\n",
    "    [7, 8, 9]\n",
    "])"
   ]
  },
  {
   "cell_type": "code",
   "execution_count": 48,
   "id": "0de6eacc-f209-4fc5-90e1-10221d85fac8",
   "metadata": {},
   "outputs": [
    {
     "name": "stdout",
     "output_type": "stream",
     "text": [
      "[[7, 8, 9]]\n",
      "[]\n",
      "[[5 6]\n",
      " [8 9]]\n"
     ]
    }
   ],
   "source": [
    "# 슬라이싱\n",
    "# 1 ~ 3 -1행, 1 ~ 3 -1열의 데이터를 가져온다.\n",
    "print(list2d[1:3][1:3])\n",
    "print(array2d[1:2][1:2]) # 프로그래밍언어에서의 접근\n",
    "print(array2d[1:3, 1:3]) # 수학에서의 접근, 0행 0열 발췌 가능\n",
    "#일관성 유지를 위해 \n"
   ]
  },
  {
   "cell_type": "code",
   "execution_count": 49,
   "id": "78287538-ea34-4982-8465-ed97a1db521e",
   "metadata": {},
   "outputs": [
    {
     "data": {
      "text/plain": [
       "array([ 0,  1,  2,  3,  4,  5,  6,  7,  8,  9, 10, 11, 12, 13, 14, 15, 16,\n",
       "       17, 18, 19, 20, 21, 22, 23, 24, 25, 26, 27, 28, 29, 30, 31, 32, 33,\n",
       "       34, 35, 36, 37, 38, 39, 40, 41, 42, 43, 44, 45, 46, 47, 48, 49, 50,\n",
       "       51, 52, 53, 54, 55, 56, 57, 58, 59, 60, 61, 62, 63, 64, 65, 66, 67,\n",
       "       68, 69, 70, 71, 72, 73, 74, 75, 76, 77, 78, 79, 80, 81, 82, 83, 84,\n",
       "       85, 86, 87, 88, 89, 90, 91, 92, 93, 94, 95, 96, 97, 98, 99])"
      ]
     },
     "metadata": {},
     "output_type": "display_data"
    }
   ],
   "source": [
    "array1 = np.arange(100)\n",
    "display(array1)"
   ]
  },
  {
   "cell_type": "code",
   "execution_count": null,
   "id": "a1b5a427-99aa-4212-9cb5-d682792c47d8",
   "metadata": {},
   "outputs": [],
   "source": []
  },
  {
   "cell_type": "code",
   "execution_count": null,
   "id": "59117a09-f30b-4141-8851-340a03e6aef8",
   "metadata": {},
   "outputs": [],
   "source": []
  },
  {
   "cell_type": "code",
   "execution_count": null,
   "id": "e17ee53c-6504-40ec-805d-03d48131a99d",
   "metadata": {},
   "outputs": [],
   "source": []
  },
  {
   "cell_type": "code",
   "execution_count": null,
   "id": "d2dff158-0469-4b64-b50b-089157b1bfe7",
   "metadata": {},
   "outputs": [],
   "source": []
  },
  {
   "cell_type": "code",
   "execution_count": null,
   "id": "a5df6c7a-494e-4057-a1f3-34ed190e3508",
   "metadata": {},
   "outputs": [],
   "source": []
  },
  {
   "cell_type": "code",
   "execution_count": null,
   "id": "63f8798b-7854-42ce-b3ce-b0f1b5cfe9ba",
   "metadata": {},
   "outputs": [],
   "source": []
  },
  {
   "cell_type": "code",
   "execution_count": null,
   "id": "7cc1fe27-8df0-4b48-b473-434c214655c9",
   "metadata": {},
   "outputs": [],
   "source": []
  },
  {
   "cell_type": "code",
   "execution_count": null,
   "id": "64d87804-202f-489b-9952-7f5d02c4a826",
   "metadata": {},
   "outputs": [],
   "source": []
  },
  {
   "cell_type": "code",
   "execution_count": null,
   "id": "fd205923-7bd6-4d18-a84f-41c95700fb21",
   "metadata": {},
   "outputs": [],
   "source": []
  },
  {
   "cell_type": "code",
   "execution_count": null,
   "id": "2350cc62-ba12-4d91-bfae-3e6534c62a56",
   "metadata": {},
   "outputs": [],
   "source": []
  },
  {
   "cell_type": "code",
   "execution_count": null,
   "id": "f88485be-432c-4de3-920a-694d811cf8de",
   "metadata": {},
   "outputs": [],
   "source": []
  },
  {
   "cell_type": "code",
   "execution_count": null,
   "id": "51cbe3fa-d672-44c4-a602-72da562b0386",
   "metadata": {},
   "outputs": [],
   "source": []
  },
  {
   "cell_type": "code",
   "execution_count": null,
   "id": "900793c4-aad1-429c-82c5-8381bd8dbd12",
   "metadata": {},
   "outputs": [],
   "source": []
  },
  {
   "cell_type": "code",
   "execution_count": null,
   "id": "adf44f83-6f3c-472a-b742-00b2d2d84ac8",
   "metadata": {},
   "outputs": [],
   "source": []
  },
  {
   "cell_type": "code",
   "execution_count": null,
   "id": "ebece2d2-8ba0-405a-a8ad-8ed5e4d09d58",
   "metadata": {},
   "outputs": [],
   "source": []
  },
  {
   "cell_type": "code",
   "execution_count": null,
   "id": "2989a51b-092e-49cd-8306-8ebc339ac6c0",
   "metadata": {},
   "outputs": [],
   "source": []
  },
  {
   "cell_type": "code",
   "execution_count": null,
   "id": "b1a4ec63-7079-4059-a573-01cbbc626ef7",
   "metadata": {},
   "outputs": [],
   "source": []
  },
  {
   "cell_type": "code",
   "execution_count": null,
   "id": "a1a0468d-0a5c-4159-acf6-0cdea32e9247",
   "metadata": {},
   "outputs": [],
   "source": []
  },
  {
   "cell_type": "code",
   "execution_count": null,
   "id": "d54bf737-7eea-4a15-a013-c8af3b227715",
   "metadata": {},
   "outputs": [],
   "source": []
  },
  {
   "cell_type": "code",
   "execution_count": null,
   "id": "8a4e8cf6-1730-45e8-8a69-fd47d5239b6c",
   "metadata": {},
   "outputs": [],
   "source": []
  }
 ],
 "metadata": {
  "kernelspec": {
   "display_name": "Python 3",
   "language": "python",
   "name": "python3"
  },
  "language_info": {
   "codemirror_mode": {
    "name": "ipython",
    "version": 3
   },
   "file_extension": ".py",
   "mimetype": "text/x-python",
   "name": "python",
   "nbconvert_exporter": "python",
   "pygments_lexer": "ipython3",
   "version": "3.8.8"
  }
 },
 "nbformat": 4,
 "nbformat_minor": 5
}
