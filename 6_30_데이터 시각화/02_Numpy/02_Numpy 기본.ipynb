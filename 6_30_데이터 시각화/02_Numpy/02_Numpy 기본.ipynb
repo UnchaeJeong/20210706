{
 "cells": [
  {
   "cell_type": "markdown",
   "id": "9b92d6c8-165e-4620-bee6-95cd31e3a5df",
   "metadata": {},
   "source": [
    "### Numpy\n",
    "- 파이썬에서 제공하는 list, tuple로는 행렬에 관련된 작업을 하기가 어렵다.\n",
    "- 행렬에 관련된 연산을 위해 제공하는 라이브러리.\n",
    "- 수학에서의 행렬에 대한 작업을 할 수 있다."
   ]
  },
  {
   "cell_type": "code",
   "execution_count": 1,
   "id": "34dd5def-e615-4e61-896f-619320a8a0d9",
   "metadata": {},
   "outputs": [],
   "source": [
    "# 라이브러리를 불러온다.\n",
    "import numpy as np"
   ]
  },
  {
   "cell_type": "code",
   "execution_count": 2,
   "id": "aeaa43c6-b7ee-41b8-9d42-3effa5be343c",
   "metadata": {},
   "outputs": [
    {
     "name": "stdout",
     "output_type": "stream",
     "text": [
      "[10, 20, 30, 40, 50, 60, 70, 80, 90, 100]\n",
      "[10, 20, 30, 40, 50, 10, 20, 30, 40, 50, 10, 20, 30, 40, 50]\n"
     ]
    }
   ],
   "source": [
    "# 리스트\n",
    "list1 = [10, 20, 30, 40, 50]\n",
    "list2 = [60, 70, 80, 90, 100]\n",
    "\n",
    "list3 = list1 + list2\n",
    "print(list3)\n",
    "\n",
    "list4 = list1 * 3\n",
    "print(list4)\n",
    "\n",
    "#이외 연산자 활용 x\n",
    "# 리스트랑 행렬이 다르게 동작."
   ]
  },
  {
   "cell_type": "code",
   "execution_count": 3,
   "id": "86df277f-9fbc-4f23-a965-20ab837e4e80",
   "metadata": {},
   "outputs": [
    {
     "name": "stdout",
     "output_type": "stream",
     "text": [
      "[ 70  90 110 130 150]\n",
      "[ 30  60  90 120 150]\n"
     ]
    }
   ],
   "source": [
    "array1 = np.array([10, 20, 30, 40, 50])\n",
    "array2 = np.array([60, 70, 80, 90, 100])\n",
    "\n",
    "array3 = array1 + array2\n",
    "print(array3)\n",
    "\n",
    "array4 = array1 * 3\n",
    "print(array4)\n",
    "\n",
    "# 같은 자리의 원소끼리 합.\n",
    "# 행렬의 각 원소의 곱.\n",
    "# list(자료구조)와 다르게 동작."
   ]
  },
  {
   "cell_type": "markdown",
   "id": "61a71d72-b2c6-4fc7-b25b-13c30cdb4dd0",
   "metadata": {},
   "source": [
    "### 행렬 생성"
   ]
  },
  {
   "cell_type": "code",
   "execution_count": 4,
   "id": "c506dfc3-c296-4476-bb29-c7222e165ec7",
   "metadata": {},
   "outputs": [
    {
     "name": "stdout",
     "output_type": "stream",
     "text": [
      "[10, 20, 30, 40, 50]\n",
      "[10 20 30 40 50]\n"
     ]
    },
    {
     "data": {
      "text/plain": [
       "[10, 20, 30, 40, 50]"
      ]
     },
     "metadata": {},
     "output_type": "display_data"
    },
    {
     "data": {
      "text/plain": [
       "array([10, 20, 30, 40, 50])"
      ]
     },
     "metadata": {},
     "output_type": "display_data"
    },
    {
     "data": {
      "text/plain": [
       "array([10, 20, 30, 40, 50])"
      ]
     },
     "execution_count": 4,
     "metadata": {},
     "output_type": "execute_result"
    }
   ],
   "source": [
    "# 1차원 리스트\n",
    "list1 = [10, 20, 30, 40, 50]\n",
    "# 1차원 행렬(함수 안에 리스트나 튜플을 넣어준다.)\n",
    "array1 = np.array([10, 20, 30, 40, 50])\n",
    "\n",
    "print(list1) # ,로 비교\n",
    "print(array1) # 띄어쓰기로 비교\n",
    "\n",
    "display(list1)\n",
    "display(array1)\n",
    "array1"
   ]
  },
  {
   "cell_type": "code",
   "execution_count": 5,
   "id": "0ebb3c32-c8a1-495e-91f1-7a31a691eafb",
   "metadata": {},
   "outputs": [
    {
     "name": "stdout",
     "output_type": "stream",
     "text": [
      "<class 'list'>\n",
      "<class 'numpy.ndarray'>\n"
     ]
    }
   ],
   "source": [
    "print(type(list1))\n",
    "print(type(array1))\n",
    "\n",
    "#nd = n dimension"
   ]
  },
  {
   "cell_type": "code",
   "execution_count": 6,
   "id": "4db73202-1ec2-4ddc-885a-9ce07f738be4",
   "metadata": {},
   "outputs": [
    {
     "name": "stdout",
     "output_type": "stream",
     "text": [
      "[[1, 2, 3], [4, 5, 6], [7, 8, 9]]\n",
      "[[1 2 3]\n",
      " [4 5 6]\n",
      " [7 8 9]]\n"
     ]
    },
    {
     "data": {
      "text/plain": [
       "[[1, 2, 3], [4, 5, 6], [7, 8, 9]]"
      ]
     },
     "metadata": {},
     "output_type": "display_data"
    },
    {
     "data": {
      "text/plain": [
       "array([[1, 2, 3],\n",
       "       [4, 5, 6],\n",
       "       [7, 8, 9]])"
      ]
     },
     "metadata": {},
     "output_type": "display_data"
    },
    {
     "data": {
      "text/plain": [
       "array([[1, 2, 3],\n",
       "       [4, 5, 6],\n",
       "       [7, 8, 9]])"
      ]
     },
     "execution_count": 6,
     "metadata": {},
     "output_type": "execute_result"
    }
   ],
   "source": [
    "# 2차원 리스트\n",
    "list2 = [\n",
    "    [1, 2, 3],\n",
    "    [4, 5, 6],\n",
    "    [7, 8, 9]\n",
    "]\n",
    "# 2차원 행렬\n",
    "array2 = np.array([\n",
    "    [1, 2, 3],\n",
    "    [4, 5, 6],\n",
    "    [7, 8, 9]\n",
    "])\n",
    "\n",
    "print(list2)\n",
    "print(array2)\n",
    "\n",
    "display(list2)\n",
    "display(array2)\n",
    "array2"
   ]
  },
  {
   "cell_type": "markdown",
   "id": "26a5bc8e-c9f0-4030-b37d-de256e4b9b9a",
   "metadata": {},
   "source": [
    "### 행렬과 데이터 타입의 관계\n"
   ]
  },
  {
   "cell_type": "code",
   "execution_count": 7,
   "id": "b0ec4964-47e0-40f3-b325-583ae22d7392",
   "metadata": {},
   "outputs": [
    {
     "data": {
      "text/plain": [
       "[True, 100, 11.11, '문자열']"
      ]
     },
     "metadata": {},
     "output_type": "display_data"
    },
    {
     "data": {
      "text/plain": [
       "array(['True', '100', '11.11', '문자열'], dtype='<U32')"
      ]
     },
     "metadata": {},
     "output_type": "display_data"
    }
   ],
   "source": [
    "list1 = [True, 100, 11.11, '문자열']\n",
    "array1 = np.array([True, 100, 11.11, '문자열'])\n",
    "# ndarray는 같은 타입의 값만 담을 수 있다.\n",
    "# 다양한 타입의 값이 섞여져 있을 경우 더 많은 값의 종류를\n",
    "##표현할 수 있는 형태로 변환된다.\n",
    "# 논리형 -> 정수 -> 실수 -> 문자열\n",
    "display(list1)\n",
    "display(array1) \n",
    "#작은범위 -> 큰범위, 큰범위 -> 작은범위 "
   ]
  },
  {
   "cell_type": "code",
   "execution_count": 8,
   "id": "7ce07e40-8bfd-43ff-b32e-28b64f6a77a4",
   "metadata": {},
   "outputs": [
    {
     "data": {
      "text/plain": [
       "array([0., 1., 2., 3., 4.])"
      ]
     },
     "execution_count": 8,
     "metadata": {},
     "output_type": "execute_result"
    }
   ],
   "source": [
    "#생성 시 타입을 지정할 수 있다.\n",
    "# 정수 : int, 실수: float, 논리: bool, 문자열: str\n",
    "array2 = np.array([0, 1, 2, 3, 4], dtype = 'float')\n",
    "array2"
   ]
  },
  {
   "cell_type": "code",
   "execution_count": 9,
   "id": "293a1ef2-5e5d-47fe-b50e-6b7c153a9341",
   "metadata": {},
   "outputs": [
    {
     "data": {
      "text/plain": [
       "array([False,  True,  True,  True,  True])"
      ]
     },
     "execution_count": 9,
     "metadata": {},
     "output_type": "execute_result"
    }
   ],
   "source": [
    "array3 = np.array([0, 1, 2, 3, 4], dtype= 'bool')\n",
    "array3"
   ]
  },
  {
   "cell_type": "code",
   "execution_count": 10,
   "id": "03c24792-548c-46fc-86cb-4ba7e58a1032",
   "metadata": {},
   "outputs": [
    {
     "name": "stdout",
     "output_type": "stream",
     "text": [
      "int32\n"
     ]
    }
   ],
   "source": [
    "#행렬의 타입확인\n",
    "array4 = np.array([0,1,2,3,4])\n",
    "print(array4.dtype)"
   ]
  },
  {
   "cell_type": "code",
   "execution_count": 11,
   "id": "98fb2032-50d1-4c5b-aa4b-c7ffde982f39",
   "metadata": {},
   "outputs": [
    {
     "name": "stdout",
     "output_type": "stream",
     "text": [
      "<U11\n"
     ]
    },
    {
     "data": {
      "text/plain": [
       "array(['0', '1', '2', '3', '4'], dtype='<U11')"
      ]
     },
     "execution_count": 11,
     "metadata": {},
     "output_type": "execute_result"
    }
   ],
   "source": [
    "# 행렬의 타입을 변경한다. 더 많은 값을 가질 수 있는 타입으로 변경 가능.\n",
    "array5 = array4.astype('str')\n",
    "print(array5.dtype)\n",
    "array5"
   ]
  },
  {
   "cell_type": "markdown",
   "id": "f62ac867-e625-4424-a1ad-b3b91b1abea1",
   "metadata": {},
   "source": [
    "### 특별한 행렬을 만드는 함수들"
   ]
  },
  {
   "cell_type": "code",
   "execution_count": 12,
   "id": "945a1f75-7a0c-4f55-ad9c-1c451c01aff9",
   "metadata": {},
   "outputs": [
    {
     "data": {
      "text/plain": [
       "array([0., 0., 0., 0., 0.])"
      ]
     },
     "metadata": {},
     "output_type": "display_data"
    },
    {
     "data": {
      "text/plain": [
       "array([[0., 0., 0., 0.],\n",
       "       [0., 0., 0., 0.],\n",
       "       [0., 0., 0., 0.]])"
      ]
     },
     "metadata": {},
     "output_type": "display_data"
    }
   ],
   "source": [
    "# 0 행렬 : 0으로 구성된 행렬\n",
    "array1 = np.zeros(5)\n",
    "display(array1)\n",
    "\n",
    "array2 = np.zeros([3,4])\n",
    "display(array2)"
   ]
  },
  {
   "cell_type": "code",
   "execution_count": 13,
   "id": "41c225a1-bc06-4bbe-835e-eb524f32d11a",
   "metadata": {},
   "outputs": [
    {
     "data": {
      "text/plain": [
       "array([1., 1., 1., 1., 1.])"
      ]
     },
     "metadata": {},
     "output_type": "display_data"
    },
    {
     "data": {
      "text/plain": [
       "array([[1., 1., 1., 1.],\n",
       "       [1., 1., 1., 1.],\n",
       "       [1., 1., 1., 1.]])"
      ]
     },
     "metadata": {},
     "output_type": "display_data"
    }
   ],
   "source": [
    "# 1로 채워진 행렬\n",
    "array3 = np.ones(5)\n",
    "display(array3)\n",
    "\n",
    "array4 = np.ones([3,4])\n",
    "display(array4)"
   ]
  },
  {
   "cell_type": "code",
   "execution_count": 14,
   "id": "e0e320dc-c381-44dc-bff3-d213a394d679",
   "metadata": {},
   "outputs": [
    {
     "data": {
      "text/plain": [
       "array([7, 7, 7, 7, 7])"
      ]
     },
     "metadata": {},
     "output_type": "display_data"
    },
    {
     "data": {
      "text/plain": [
       "array([[7, 7, 7, 7],\n",
       "       [7, 7, 7, 7],\n",
       "       [7, 7, 7, 7]])"
      ]
     },
     "metadata": {},
     "output_type": "display_data"
    }
   ],
   "source": [
    "# 7로 채워진 5개짜리 1차원 행렬\n",
    "array5 = np.full(5,7)\n",
    "display(array5)\n",
    "\n",
    "#7이 채워진 3행 4열 2차원 행렬\n",
    "array6 = np.full([3,4], 7)\n",
    "display(array6)"
   ]
  },
  {
   "cell_type": "code",
   "execution_count": 15,
   "id": "baa825a2-f703-41ed-9862-5fa4b1579b21",
   "metadata": {},
   "outputs": [
    {
     "data": {
      "text/plain": [
       "array([0, 1, 2, 3, 4, 5])"
      ]
     },
     "metadata": {},
     "output_type": "display_data"
    }
   ],
   "source": [
    "# 특정 범위에 해당하는 값을 가지고 있는 1차원 행렬 생성\n",
    "# range와 같음\n",
    "# 0 ~ 6 -1 까지\n",
    "array7 = np.arange(6)\n",
    "display(array7)"
   ]
  },
  {
   "cell_type": "code",
   "execution_count": 16,
   "id": "cd9d03e4-b08f-4f3f-97e5-ce5ba7f85d95",
   "metadata": {},
   "outputs": [
    {
     "data": {
      "text/plain": [
       "array([ 3,  6,  9, 12])"
      ]
     },
     "metadata": {},
     "output_type": "display_data"
    }
   ],
   "source": [
    "# 3~ 13 -1 까지, 3씩 증가\n",
    "array8 = np.arange(3,13, 3)\n",
    "display(array8)"
   ]
  },
  {
   "cell_type": "markdown",
   "id": "61abe162-f3c3-42a9-84b6-ea71145cc6b5",
   "metadata": {},
   "source": [
    "### 행렬 계산(산수)"
   ]
  },
  {
   "cell_type": "code",
   "execution_count": 17,
   "id": "5a0264e5-415a-440a-ad27-3ef5ce0cfd82",
   "metadata": {},
   "outputs": [],
   "source": [
    "array1 = np.array([\n",
    "    [10, 20, 30],\n",
    "    [40, 50, 60],\n",
    "    [70, 80, 90]\n",
    "])\n",
    "\n",
    "array2 = np.array([\n",
    "    [1, 2, 3],\n",
    "    [4, 5, 6],\n",
    "    [7, 8, 9]\n",
    "])"
   ]
  },
  {
   "cell_type": "code",
   "execution_count": 18,
   "id": "78a8ccf9-e3a0-4972-9aec-ebb9cd39c94d",
   "metadata": {},
   "outputs": [
    {
     "data": {
      "text/plain": [
       "array([[11, 22, 33],\n",
       "       [44, 55, 66],\n",
       "       [77, 88, 99]])"
      ]
     },
     "metadata": {},
     "output_type": "display_data"
    },
    {
     "data": {
      "text/plain": [
       "array([[ 9, 18, 27],\n",
       "       [36, 45, 54],\n",
       "       [63, 72, 81]])"
      ]
     },
     "metadata": {},
     "output_type": "display_data"
    },
    {
     "data": {
      "text/plain": [
       "array([[ 10,  40,  90],\n",
       "       [160, 250, 360],\n",
       "       [490, 640, 810]])"
      ]
     },
     "metadata": {},
     "output_type": "display_data"
    },
    {
     "data": {
      "text/plain": [
       "array([[10, 10, 10],\n",
       "       [10, 10, 10],\n",
       "       [10, 10, 10]], dtype=int32)"
      ]
     },
     "metadata": {},
     "output_type": "display_data"
    }
   ],
   "source": [
    "# 행렬과 행렬의 연산\n",
    "# 행렬의 각 원소를 1:1 매칭하여 연산하고 \n",
    "##그 결과가 담겨 있는 행렬을 반환한다.\n",
    "# 연산을 하는 두 행렬은 행과 열이 일치해야 한다.\n",
    "a1 = array1 + array2\n",
    "a2 = array1 - array2\n",
    "a3 = array1 * array2\n",
    "a4 = array1 // array2\n",
    "\n",
    "display(a1)\n",
    "display(a2)\n",
    "display(a3)\n",
    "display(a4)"
   ]
  },
  {
   "cell_type": "code",
   "execution_count": 19,
   "id": "ec665039-8029-4056-b2b3-f09aeb502b98",
   "metadata": {},
   "outputs": [
    {
     "data": {
      "text/plain": [
       "array([[ 20,  30,  40],\n",
       "       [ 50,  60,  70],\n",
       "       [ 80,  90, 100]])"
      ]
     },
     "metadata": {},
     "output_type": "display_data"
    },
    {
     "data": {
      "text/plain": [
       "array([[ 0, 10, 20],\n",
       "       [30, 40, 50],\n",
       "       [60, 70, 80]])"
      ]
     },
     "metadata": {},
     "output_type": "display_data"
    },
    {
     "data": {
      "text/plain": [
       "array([[100, 200, 300],\n",
       "       [400, 500, 600],\n",
       "       [700, 800, 900]])"
      ]
     },
     "metadata": {},
     "output_type": "display_data"
    },
    {
     "data": {
      "text/plain": [
       "array([[1, 2, 3],\n",
       "       [4, 5, 6],\n",
       "       [7, 8, 9]], dtype=int32)"
      ]
     },
     "metadata": {},
     "output_type": "display_data"
    }
   ],
   "source": [
    "# 행렬과 숫자간의 연산\n",
    "# 행렬의 각 원소에 지정된 값을 연산한다.\n",
    "a1 = array1 + 10\n",
    "a2 = array1 - 10\n",
    "a3 = array1 * 10\n",
    "a4 = array1 // 10\n",
    "\n",
    "display(a1)\n",
    "display(a2)\n",
    "display(a3)\n",
    "display(a4)"
   ]
  },
  {
   "cell_type": "markdown",
   "id": "f7b7d90b-6099-4731-8746-c3df1404ff68",
   "metadata": {},
   "source": [
    "### 색인과 슬라이싱\n",
    "- 색인 : 원하는 값 하나를 가져오는 것.\n",
    "- 슬라이싱 : 원하는 부분을 발췌하는 것."
   ]
  },
  {
   "cell_type": "code",
   "execution_count": 20,
   "id": "163260af-d44c-4174-bedf-8bb57a1e1547",
   "metadata": {},
   "outputs": [],
   "source": [
    "list1 = [10, 20, 30, 40, 50, 60, 70, 80, 90, 100]\n",
    "array1 = np.array(list1)"
   ]
  },
  {
   "cell_type": "code",
   "execution_count": 21,
   "id": "b812fa02-f42b-4e5d-9ab0-3acd325f73f3",
   "metadata": {},
   "outputs": [
    {
     "data": {
      "text/plain": [
       "30"
      ]
     },
     "metadata": {},
     "output_type": "display_data"
    },
    {
     "data": {
      "text/plain": [
       "30"
      ]
     },
     "metadata": {},
     "output_type": "display_data"
    }
   ],
   "source": [
    "# 인덱스 번호 2번\n",
    "display(list1[2])\n",
    "display(array1[2])"
   ]
  },
  {
   "cell_type": "code",
   "execution_count": 22,
   "id": "a5424866-a968-4e4d-911c-517cbdd1c100",
   "metadata": {},
   "outputs": [
    {
     "data": {
      "text/plain": [
       "[30, 40, 50, 60]"
      ]
     },
     "metadata": {},
     "output_type": "display_data"
    },
    {
     "data": {
      "text/plain": [
       "array([30, 40, 50, 60])"
      ]
     },
     "metadata": {},
     "output_type": "display_data"
    }
   ],
   "source": [
    "# 2 ~ 6 -1 까지\n",
    "display(list1[2:6])\n",
    "display(array1[2:6])"
   ]
  },
  {
   "cell_type": "code",
   "execution_count": 34,
   "id": "f346203a-db74-4c78-8ba4-4d7c78bbae06",
   "metadata": {},
   "outputs": [
    {
     "data": {
      "text/plain": [
       "[10, 20, 30, 40, 50, 60]"
      ]
     },
     "metadata": {},
     "output_type": "display_data"
    },
    {
     "data": {
      "text/plain": [
       "array([0, 1, 2, 3, 4, 5])"
      ]
     },
     "metadata": {},
     "output_type": "display_data"
    }
   ],
   "source": [
    "# 처음부터 6 - 1까지\n",
    "display(list1[:6])\n",
    "display(array1[:6])"
   ]
  },
  {
   "cell_type": "code",
   "execution_count": 24,
   "id": "b7ac249c-97b3-4db7-8425-9b416370dd9a",
   "metadata": {},
   "outputs": [
    {
     "data": {
      "text/plain": [
       "[30, 40, 50, 60, 70, 80, 90, 100]"
      ]
     },
     "metadata": {},
     "output_type": "display_data"
    },
    {
     "data": {
      "text/plain": [
       "array([ 30,  40,  50,  60,  70,  80,  90, 100])"
      ]
     },
     "metadata": {},
     "output_type": "display_data"
    }
   ],
   "source": [
    "# 2 ~ 끝까지\n",
    "display(list1[2:])\n",
    "display(array1[2:])"
   ]
  },
  {
   "cell_type": "code",
   "execution_count": 35,
   "id": "ec23b36b-ad5b-4ff9-af0b-1491fc99ff52",
   "metadata": {},
   "outputs": [],
   "source": [
    "list2d = [\n",
    "    [1, 2, 3],\n",
    "    [4, 5, 6],\n",
    "    [7, 8, 9]\n",
    "]\n",
    "\n",
    "array2d = np.array([\n",
    "    [1, 2, 3],\n",
    "    [4, 5, 6],\n",
    "    [7, 8, 9]\n",
    "])"
   ]
  },
  {
   "cell_type": "code",
   "execution_count": 39,
   "id": "0e9ba2c5-8e2e-4323-b50d-543ae543abb7",
   "metadata": {},
   "outputs": [
    {
     "data": {
      "text/plain": [
       "6"
      ]
     },
     "metadata": {},
     "output_type": "display_data"
    },
    {
     "data": {
      "text/plain": [
       "6"
      ]
     },
     "metadata": {},
     "output_type": "display_data"
    },
    {
     "data": {
      "text/plain": [
       "6"
      ]
     },
     "metadata": {},
     "output_type": "display_data"
    }
   ],
   "source": [
    "# 2행 3열 데이터를 가져온다.\n",
    "display(list2d[1][2])\n",
    "display(array2d[1][2])\n",
    "display(array2d[1, 2]) \n",
    "#[][]과  [,]에는 차이점이 있다."
   ]
  },
  {
   "cell_type": "code",
   "execution_count": 40,
   "id": "593a460d-4b18-4a46-9fc1-96c31a4e71e3",
   "metadata": {},
   "outputs": [
    {
     "name": "stdout",
     "output_type": "stream",
     "text": [
      "[[7, 8, 9]]\n",
      "[[7 8 9]]\n",
      "[[5 6]\n",
      " [8 9]]\n"
     ]
    }
   ],
   "source": [
    "# 슬라이싱\n",
    "# 1 ~ 3 -1행, 1 ~ 3 -1열의 데이터를 가져온다.\n",
    "print(list2d[1:3][1:3])\n",
    "print(array2d[1:3][1:3]) # 프로그래밍언어에서의 접근\n",
    "print(array2d[1:3, 1:3]) # 수학에서의 접근, 0행 0열 발췌 가능\n",
    "#일관성 유지를 위해 \n"
   ]
  },
  {
   "cell_type": "code",
   "execution_count": 28,
   "id": "e8710657-3070-47ed-9865-ae6fb6a66b68",
   "metadata": {},
   "outputs": [
    {
     "data": {
      "text/plain": [
       "array([10, 20, 30, 40, 50])"
      ]
     },
     "execution_count": 28,
     "metadata": {},
     "output_type": "execute_result"
    }
   ],
   "source": [
    "# 테스트를 위한 새로운 행렬을 생성한다.\n",
    "array1 = np.array([10, 20, 30, 40, 50])\n",
    "array1"
   ]
  },
  {
   "cell_type": "code",
   "execution_count": 29,
   "id": "14d83017-41b0-4797-8e63-29738e6076b9",
   "metadata": {},
   "outputs": [
    {
     "data": {
      "text/plain": [
       "array([10, 30, 50])"
      ]
     },
     "execution_count": 29,
     "metadata": {},
     "output_type": "execute_result"
    }
   ],
   "source": [
    "# True나 False를 지정한다.\n",
    "a1 = [True, False, True, False, True]\n",
    "array2 = array1[a1]\n",
    "array2"
   ]
  },
  {
   "cell_type": "code",
   "execution_count": 30,
   "id": "f3042e80-d045-4d84-9836-4de9c963539d",
   "metadata": {
    "tags": []
   },
   "outputs": [
    {
     "data": {
      "text/plain": [
       "array([ 0,  1,  2,  3,  4,  5,  6,  7,  8,  9, 10, 11, 12, 13, 14, 15, 16,\n",
       "       17, 18, 19, 20, 21, 22, 23, 24, 25, 26, 27, 28, 29, 30, 31, 32, 33,\n",
       "       34, 35, 36, 37, 38, 39, 40, 41, 42, 43, 44, 45, 46, 47, 48, 49, 50,\n",
       "       51, 52, 53, 54, 55, 56, 57, 58, 59, 60, 61, 62, 63, 64, 65, 66, 67,\n",
       "       68, 69, 70, 71, 72, 73, 74, 75, 76, 77, 78, 79, 80, 81, 82, 83, 84,\n",
       "       85, 86, 87, 88, 89, 90, 91, 92, 93, 94, 95, 96, 97, 98, 99])"
      ]
     },
     "metadata": {},
     "output_type": "display_data"
    }
   ],
   "source": [
    "# True나 False 구성된 요소를 넣어서 True자리에 해당하는 것만\n",
    "##가져오는 것을 이용해 검색 기능을 만들 수 있다.\n",
    "array1 = np.arange(100)\n",
    "display(array1)"
   ]
  },
  {
   "cell_type": "code",
   "execution_count": 31,
   "id": "ad35e140-b160-4553-9268-a21ada4ff970",
   "metadata": {
    "tags": []
   },
   "outputs": [
    {
     "data": {
      "text/plain": [
       "array([ True, False, False,  True, False, False,  True, False, False,\n",
       "        True, False, False,  True, False, False,  True, False, False,\n",
       "        True, False, False,  True, False, False,  True, False, False,\n",
       "        True, False, False,  True, False, False,  True, False, False,\n",
       "        True, False, False,  True, False, False,  True, False, False,\n",
       "        True, False, False,  True, False, False,  True, False, False,\n",
       "        True, False, False,  True, False, False,  True, False, False,\n",
       "        True, False, False,  True, False, False,  True, False, False,\n",
       "        True, False, False,  True, False, False,  True, False, False,\n",
       "        True, False, False,  True, False, False,  True, False, False,\n",
       "        True, False, False,  True, False, False,  True, False, False,\n",
       "        True])"
      ]
     },
     "execution_count": 31,
     "metadata": {},
     "output_type": "execute_result"
    }
   ],
   "source": [
    "array2 = array1 % 3 == 0\n",
    "array2"
   ]
  },
  {
   "cell_type": "code",
   "execution_count": 32,
   "id": "960c54d6-b2d0-434f-ad6e-132590fed25a",
   "metadata": {},
   "outputs": [
    {
     "data": {
      "text/plain": [
       "array([ 0,  3,  6,  9, 12, 15, 18, 21, 24, 27, 30, 33, 36, 39, 42, 45, 48,\n",
       "       51, 54, 57, 60, 63, 66, 69, 72, 75, 78, 81, 84, 87, 90, 93, 96, 99])"
      ]
     },
     "execution_count": 32,
     "metadata": {},
     "output_type": "execute_result"
    }
   ],
   "source": [
    "array1[array2] #**어떤 조건에 만족하는 원소만 검색.**"
   ]
  },
  {
   "cell_type": "code",
   "execution_count": 33,
   "id": "4c1d9b06-8a1c-4b2d-bfab-69d6d704a028",
   "metadata": {},
   "outputs": [
    {
     "data": {
      "text/plain": [
       "array([ 0,  3,  6,  9, 12, 15, 18, 21, 24, 27, 30, 33, 36, 39, 42, 45, 48,\n",
       "       51, 54, 57, 60, 63, 66, 69, 72, 75, 78, 81, 84, 87, 90, 93, 96, 99])"
      ]
     },
     "execution_count": 33,
     "metadata": {},
     "output_type": "execute_result"
    }
   ],
   "source": [
    "array1[array1 % 3 == 0]"
   ]
  },
  {
   "cell_type": "code",
   "execution_count": null,
   "id": "7eacd213-bebc-458a-9eac-82b24a1b7ae7",
   "metadata": {},
   "outputs": [],
   "source": []
  }
 ],
 "metadata": {
  "kernelspec": {
   "display_name": "Python 3",
   "language": "python",
   "name": "python3"
  },
  "language_info": {
   "codemirror_mode": {
    "name": "ipython",
    "version": 3
   },
   "file_extension": ".py",
   "mimetype": "text/x-python",
   "name": "python",
   "nbconvert_exporter": "python",
   "pygments_lexer": "ipython3",
   "version": "3.8.8"
  }
 },
 "nbformat": 4,
 "nbformat_minor": 5
}
