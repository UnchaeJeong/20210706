{
 "cells": [
  {
   "cell_type": "code",
   "execution_count": 1,
   "id": "c851e903-1adc-4d59-b8b0-c71e574cd4c9",
   "metadata": {},
   "outputs": [],
   "source": [
    "import numpy as np"
   ]
  },
  {
   "cell_type": "markdown",
   "id": "e54e00ee-099f-4446-8650-5b082eebdcac",
   "metadata": {},
   "source": [
    "### 행렬의 차원을 변경"
   ]
  },
  {
   "cell_type": "code",
   "execution_count": 2,
   "id": "59b2a32b-2634-492a-9046-d9158fdf48a8",
   "metadata": {},
   "outputs": [
    {
     "data": {
      "text/plain": [
       "array([ 0,  1,  2,  3,  4,  5,  6,  7,  8,  9, 10, 11, 12, 13, 14])"
      ]
     },
     "execution_count": 2,
     "metadata": {},
     "output_type": "execute_result"
    }
   ],
   "source": [
    "# 1차원 행렬을 생성한다.\n",
    "array1 = np.arange(15)\n",
    "array1"
   ]
  },
  {
   "cell_type": "code",
   "execution_count": 3,
   "id": "7ae78df3-e451-4151-832d-ba522def14c8",
   "metadata": {},
   "outputs": [
    {
     "data": {
      "text/plain": [
       "array([[ 0,  1,  2,  3,  4],\n",
       "       [ 5,  6,  7,  8,  9],\n",
       "       [10, 11, 12, 13, 14]])"
      ]
     },
     "execution_count": 3,
     "metadata": {},
     "output_type": "execute_result"
    }
   ],
   "source": [
    "# 1차원 -> 2차원으로 변환\n",
    "array2 = array1.reshape(3, 5)\n",
    "array2 #행렬의 열의 개수 같아야 함."
   ]
  },
  {
   "cell_type": "code",
   "execution_count": 4,
   "id": "727f1d7e-2678-4a3a-94aa-ff926b58641b",
   "metadata": {},
   "outputs": [],
   "source": [
    "# 2차원 -> 1차원\n",
    "# array3 = array2.reshape(10)\n",
    "# display(array3)\n",
    "# ValueError: cannot reshape array of size 15 into shape (10,)"
   ]
  },
  {
   "cell_type": "code",
   "execution_count": 5,
   "id": "2c7527e0-e357-4f81-ae13-fe3a4b4c0151",
   "metadata": {},
   "outputs": [
    {
     "data": {
      "text/plain": [
       "array([ 0,  1,  2,  3,  4,  5,  6,  7,  8,  9, 10, 11, 12, 13, 14])"
      ]
     },
     "metadata": {},
     "output_type": "display_data"
    },
    {
     "data": {
      "text/plain": [
       "array([ 0,  1,  2,  3,  4,  5,  6,  7,  8,  9, 10, 11, 12, 13, 14])"
      ]
     },
     "metadata": {},
     "output_type": "display_data"
    }
   ],
   "source": [
    "# 2차원 -> 1차원\n",
    "array3 = array2.reshape(15)\n",
    "display(array3)\n",
    "\n",
    "array4 = array2.reshape(-1) \n",
    "# 모든 원소의 개수를 가지고 \n",
    "##1차원행렬을 만들어줌\n",
    "display(array4)"
   ]
  },
  {
   "cell_type": "markdown",
   "id": "0b87b335-a24c-4143-9af8-c4b1b96d4546",
   "metadata": {},
   "source": [
    "### 통계함수"
   ]
  },
  {
   "cell_type": "code",
   "execution_count": 6,
   "id": "bce073f6-d5dd-4b09-afb6-59d6ca9d3953",
   "metadata": {},
   "outputs": [
    {
     "data": {
      "text/plain": [
       "array([[ 0,  1,  2,  3,  4],\n",
       "       [ 5,  6,  7,  8,  9],\n",
       "       [10, 11, 12, 13, 14]])"
      ]
     },
     "execution_count": 6,
     "metadata": {},
     "output_type": "execute_result"
    }
   ],
   "source": [
    "array1 = np.arange(15).reshape(3, 5)\n",
    "array1"
   ]
  },
  {
   "cell_type": "code",
   "execution_count": 7,
   "id": "04cbd03d-7eaa-4aa7-baa4-10a6612b5149",
   "metadata": {},
   "outputs": [
    {
     "name": "stdout",
     "output_type": "stream",
     "text": [
      "7.0\n",
      "7.0\n"
     ]
    }
   ],
   "source": [
    "# 행렬이 제공하는 함수 사용하기\n",
    "mean1 = array1.mean()\n",
    "# numpy가 제공하는 함수 사용하기\n",
    "mean2 = np.mean(array1)\n",
    "\n",
    "print(mean1)\n",
    "print(mean2)"
   ]
  },
  {
   "cell_type": "markdown",
   "id": "83fde4d8-0de0-4df6-ad9e-da9a5ad12f61",
   "metadata": {},
   "source": [
    "### 로또 번호 추첨해보기..."
   ]
  },
  {
   "cell_type": "code",
   "execution_count": 8,
   "id": "0503737c-6b29-406d-a004-d49a4cb21e26",
   "metadata": {},
   "outputs": [
    {
     "data": {
      "text/plain": [
       "array([ 1,  2,  3,  4,  5,  6,  7,  8,  9, 10, 11, 12, 13, 14, 15, 16, 17,\n",
       "       18, 19, 20, 21, 22, 23, 24, 25, 26, 27, 28, 29, 30, 31, 32, 33, 34,\n",
       "       35, 36, 37, 38, 39, 40, 41, 42, 43, 44, 45])"
      ]
     },
     "execution_count": 8,
     "metadata": {},
     "output_type": "execute_result"
    }
   ],
   "source": [
    "# 1 ~ 45까지 가지고 있는 행렬을 생성한다.\n",
    "array1 = np.arange(1, 46)\n",
    "array1"
   ]
  },
  {
   "cell_type": "code",
   "execution_count": 64,
   "id": "3f3ecde7-a0fe-4e9d-a85d-fca253d52cff",
   "metadata": {},
   "outputs": [
    {
     "data": {
      "text/plain": [
       "array([ 8, 15, 29, 30, 37, 40])"
      ]
     },
     "metadata": {},
     "output_type": "display_data"
    },
    {
     "data": {
      "text/plain": [
       "array([13, 14, 17, 22, 27, 32])"
      ]
     },
     "metadata": {},
     "output_type": "display_data"
    },
    {
     "data": {
      "text/plain": [
       "array([ 8, 29, 31, 40, 41, 43])"
      ]
     },
     "metadata": {},
     "output_type": "display_data"
    },
    {
     "data": {
      "text/plain": [
       "array([ 5,  6, 13, 36, 37, 41])"
      ]
     },
     "metadata": {},
     "output_type": "display_data"
    },
    {
     "data": {
      "text/plain": [
       "array([ 2,  4,  7, 11, 25, 30])"
      ]
     },
     "metadata": {},
     "output_type": "display_data"
    },
    {
     "data": {
      "text/plain": [
       "array([ 2,  6,  9, 15, 31, 45])"
      ]
     },
     "metadata": {},
     "output_type": "display_data"
    },
    {
     "data": {
      "text/plain": [
       "array([ 5,  6, 15, 27, 40, 44])"
      ]
     },
     "metadata": {},
     "output_type": "display_data"
    },
    {
     "data": {
      "text/plain": [
       "array([ 1, 12, 14, 32, 41, 45])"
      ]
     },
     "metadata": {},
     "output_type": "display_data"
    },
    {
     "data": {
      "text/plain": [
       "array([ 7, 10, 11, 24, 32, 43])"
      ]
     },
     "metadata": {},
     "output_type": "display_data"
    },
    {
     "data": {
      "text/plain": [
       "array([ 1,  3, 18, 26, 28, 36])"
      ]
     },
     "metadata": {},
     "output_type": "display_data"
    }
   ],
   "source": [
    "for _ in range(10):\n",
    "    array2 = np.random.permutation(array1)\n",
    "    array3 = array2[:6]\n",
    "    array3.sort()\n",
    "    display(array3)"
   ]
  },
  {
   "cell_type": "code",
   "execution_count": null,
   "id": "a741630e-9164-4323-aa48-9051f1c5c988",
   "metadata": {},
   "outputs": [],
   "source": []
  },
  {
   "cell_type": "code",
   "execution_count": null,
   "id": "82422919-dec2-4e92-8b48-23e778d18891",
   "metadata": {},
   "outputs": [],
   "source": []
  }
 ],
 "metadata": {
  "kernelspec": {
   "display_name": "Python 3",
   "language": "python",
   "name": "python3"
  },
  "language_info": {
   "codemirror_mode": {
    "name": "ipython",
    "version": 3
   },
   "file_extension": ".py",
   "mimetype": "text/x-python",
   "name": "python",
   "nbconvert_exporter": "python",
   "pygments_lexer": "ipython3",
   "version": "3.8.8"
  }
 },
 "nbformat": 4,
 "nbformat_minor": 5
}
