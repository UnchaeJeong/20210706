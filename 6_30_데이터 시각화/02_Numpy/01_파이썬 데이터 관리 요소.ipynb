{
 "cells": [
  {
   "cell_type": "markdown",
   "id": "858cc7d8-1582-455f-9df6-e54bd704ea0d",
   "metadata": {},
   "source": [
    "### 변수\n",
    "- 값 하나를 저장하고 저장된 값을 가져다 사용할 수 있도록 제공되는 요소\n",
    "- 메모리에 기억장소가 마련되고 데이터를 저장한다."
   ]
  },
  {
   "cell_type": "code",
   "execution_count": 1,
   "id": "414c072c-6c86-4e0b-a8d1-d44b99f3dc97",
   "metadata": {},
   "outputs": [
    {
     "name": "stdout",
     "output_type": "stream",
     "text": [
      "100\n",
      "11.11\n",
      "True\n",
      "문자열\n",
      "(10+3j)\n",
      "2000000000\n"
     ]
    }
   ],
   "source": [
    "a1 = 100\n",
    "a2 = 11.11\n",
    "a3 = True\n",
    "a4 = '문자열'\n",
    "a5 = 10 + 3j \n",
    "a6 = 2_000_000_000 #정수\n",
    "\n",
    "print(a1)\n",
    "print(a2)\n",
    "print(a3)\n",
    "print(a4)\n",
    "print(a5)\n",
    "print(a6)"
   ]
  },
  {
   "cell_type": "markdown",
   "id": "b1c11c9a-412f-48ca-b562-ec279c383ac1",
   "metadata": {},
   "source": [
    "### 튜플\n",
    "- 인덱스 번호(0부터 시작)를 통해 데이터를 관리한다.\n",
    "- 읽기 전용\n",
    "- 리스트에 비해 속도가 빠르고 메모리 사용량이 적다."
   ]
  },
  {
   "cell_type": "code",
   "execution_count": 2,
   "id": "da6547a0-60b2-40a0-b1c1-c690a487bfc1",
   "metadata": {},
   "outputs": [
    {
     "name": "stdout",
     "output_type": "stream",
     "text": [
      "()\n",
      "()\n",
      "(1, 2, 3, 4, 5)\n",
      "(1, 2, 3, 4, 5)\n"
     ]
    }
   ],
   "source": [
    "# 튜플생성\n",
    "t1 = tuple()\n",
    "t2 = ()\n",
    "t3 = (1,2,3,4,5)\n",
    "t4 = 1,2,3,4,5 #()없어도 가능\n",
    "\n",
    "print(t1)\n",
    "print(t2)\n",
    "print(t3)\n",
    "print(t4)"
   ]
  },
  {
   "cell_type": "code",
   "execution_count": 3,
   "id": "67c6d1a2-ba9d-4446-9801-20fe2fa48a0e",
   "metadata": {},
   "outputs": [
    {
     "name": "stdout",
     "output_type": "stream",
     "text": [
      "1\n",
      "2\n",
      "3\n",
      "4\n",
      "5\n"
     ]
    }
   ],
   "source": [
    "#**언패킹**\n",
    "#튜플이나 리스트가 가지고 있는 값의 수 만큼 변수를 작성해주면\n",
    "# 1:1 대응되서 값이 들어간다.\n",
    "a1, a2, a3, a4, a5 = t4\n",
    "print(a1)\n",
    "print(a2)\n",
    "print(a3)\n",
    "print(a4)\n",
    "print(a5)\n"
   ]
  },
  {
   "cell_type": "code",
   "execution_count": 22,
   "id": "581641c6-ee71-45c0-8fc1-76f0a51abb61",
   "metadata": {},
   "outputs": [],
   "source": [
    "def test1(a1, a2):\n",
    "    r1 = a1 + a2\n",
    "    r2 = a1 + a2\n",
    "    r3 = a1 * a2\n",
    "    r4 = a1 // a2\n",
    "    return r1, r2, r3, r4"
   ]
  },
  {
   "cell_type": "code",
   "execution_count": 23,
   "id": "73c2547b-3cd1-4f73-ab4c-2ce7020574ce",
   "metadata": {},
   "outputs": [
    {
     "name": "stdout",
     "output_type": "stream",
     "text": [
      "13\n",
      "13\n",
      "30\n",
      "3\n"
     ]
    }
   ],
   "source": [
    "v1, v2, v3, v4 = test1(10, 3)\n",
    "print(v1)\n",
    "print(v2)\n",
    "print(v3)\n",
    "print(v4)\n"
   ]
  },
  {
   "cell_type": "code",
   "execution_count": 25,
   "id": "26ca8d11-802b-4234-b802-d817efc1b465",
   "metadata": {},
   "outputs": [
    {
     "name": "stdout",
     "output_type": "stream",
     "text": [
      "   col1  col2  col3\n",
      "1     1    11    23\n",
      "   col1  col2  col3\n",
      "2     2    12    34\n",
      "1    1\n",
      "2    2\n",
      "3    3\n",
      "4    4\n",
      "5    5\n",
      "6    6\n",
      "7    7\n",
      "Name: col1, dtype: int64\n",
      "Index(['col1', 'col2', 'col3'], dtype='object')\n"
     ]
    }
   ],
   "source": [
    "import pandas as pd\n",
    "\n",
    "d = {'col1':[1,2,3,4,5,6,7], 'col2':[11,12,13,14,15,16,17],\\\n",
    "     'col3':[23,34,45,56,67,78, 89]}\n",
    "df = pd.DataFrame(data = d,  index = [1,2,3,4,5,6,7])\n",
    "\n",
    "print(df[0:1])\n",
    "print(df[1:2])\n",
    "#**** 행값 뽑아오는 거랑 열값 뽑아오는게 다르게 쓰이는구나.\n",
    "print(df['col1'])\n",
    "print(df.columns[:])"
   ]
  },
  {
   "cell_type": "code",
   "execution_count": 7,
   "id": "bdec63ee-12c2-4a32-bdc9-b1cfaf8f31b3",
   "metadata": {},
   "outputs": [],
   "source": [
    "lst = [1,2.8, 'hello']"
   ]
  },
  {
   "cell_type": "code",
   "execution_count": 8,
   "id": "a9b8fa04-3a90-42af-99f3-a29b688e9aac",
   "metadata": {},
   "outputs": [
    {
     "data": {
      "text/plain": [
       "[1, 2.8, 'hello']"
      ]
     },
     "execution_count": 8,
     "metadata": {},
     "output_type": "execute_result"
    }
   ],
   "source": [
    "lst"
   ]
  },
  {
   "cell_type": "code",
   "execution_count": 9,
   "id": "9bee68b7-2911-481c-bdfc-67defc7510ca",
   "metadata": {},
   "outputs": [],
   "source": [
    " t1 = 10, 20, 30, 40, 50, 60, 70, 80, 90, 100"
   ]
  },
  {
   "cell_type": "code",
   "execution_count": 10,
   "id": "6f2905b1-c357-4e10-b00f-0af5a5f41fbf",
   "metadata": {},
   "outputs": [
    {
     "name": "stdout",
     "output_type": "stream",
     "text": [
      "10\n",
      "20\n",
      "100\n",
      "90\n"
     ]
    }
   ],
   "source": [
    "# 인덱싱. 원하는 데이터 하나를 가져오는 것.\n",
    "# 0부터 1씩 증가하는 인덱스를 사용한다.\n",
    "print(t1[0])\n",
    "print(t1[1])\n",
    "print(t1[-1])\n",
    "print(t1[-2])\n",
    "\n"
   ]
  },
  {
   "cell_type": "code",
   "execution_count": 11,
   "id": "f9a2916d-8c62-49e1-8d31-fc611b69b4b3",
   "metadata": {},
   "outputs": [
    {
     "name": "stdout",
     "output_type": "stream",
     "text": [
      "(30, 40, 50)\n"
     ]
    }
   ],
   "source": [
    "#슬라이싱. 원하는 범위의 해당하는 값을 추출하여 새로운 요소를\n",
    "##생성해서 반환한다. \n",
    "# 2 ~ 5 -1 \n",
    "print(t1[2:5])\n"
   ]
  },
  {
   "cell_type": "markdown",
   "id": "ded81389-d684-46da-8df6-26f65e69dc70",
   "metadata": {},
   "source": [
    "### 리스트\n",
    "- 기본적으로는 튜플과 동일하다.\n",
    "-추가, 수정, 삭제 등이 가능하다.\n"
   ]
  },
  {
   "cell_type": "code",
   "execution_count": 12,
   "id": "2b80cb94-941b-431f-b4c2-b45696daaee0",
   "metadata": {},
   "outputs": [],
   "source": [
    "list1 = [10, 20, 30, 40, 50]"
   ]
  },
  {
   "cell_type": "code",
   "execution_count": 13,
   "id": "9dcd2c30-9905-4929-88e7-5dcd346731da",
   "metadata": {},
   "outputs": [
    {
     "name": "stdout",
     "output_type": "stream",
     "text": [
      "[10, 20, 30, 40, 50]\n",
      "[10, 20, 30, 40, 50, 60, 70]\n"
     ]
    }
   ],
   "source": [
    "#추가\n",
    "print(list1)\n",
    "\n",
    "list1.append(60)\n",
    "list1.append(70)\n",
    "\n",
    "print(list1)"
   ]
  },
  {
   "cell_type": "code",
   "execution_count": 14,
   "id": "269050da-2f23-4a93-b070-e2ddede39c15",
   "metadata": {},
   "outputs": [
    {
     "name": "stdout",
     "output_type": "stream",
     "text": [
      "[10, 20, 30, 40, 50, 60, 70]\n",
      "[10, 20, 30, 40, 50, 60, 70, 80, 90, 100]\n"
     ]
    }
   ],
   "source": [
    "# 다수의 값을 동시에 추가하기\n",
    "print(list1)\n",
    "\n",
    "list1.extend([80,90,100])\n",
    "\n",
    "print(list1)"
   ]
  },
  {
   "cell_type": "code",
   "execution_count": 15,
   "id": "79e228cc-5b91-48b6-ab24-33bd1d5b6150",
   "metadata": {},
   "outputs": [
    {
     "name": "stdout",
     "output_type": "stream",
     "text": [
      "[10, 20, 30, 40, 50, 60, 70, 80, 90, 100]\n",
      "[10, 20, 30, 40, 41, 50, 60, 70, 80, 90, 100]\n"
     ]
    }
   ],
   "source": [
    "# 삽입\n",
    "print(list1)\n",
    "# 삽입할 위치, 삽입할 값\n",
    "list1.insert(4, 41)\n",
    "\n",
    "print(list1)"
   ]
  },
  {
   "cell_type": "code",
   "execution_count": 16,
   "id": "4a102afb-c17d-4e83-8c5e-91445294509b",
   "metadata": {},
   "outputs": [
    {
     "name": "stdout",
     "output_type": "stream",
     "text": [
      "[10, 20, 30, 40, 41, 50, 60, 70, 80, 90, 100]\n",
      "[10, 20, 30, 40, 50, 60, 70, 80, 90, 100]\n"
     ]
    }
   ],
   "source": [
    "#삭제. 인덱스를 통한 삭제\n",
    "print(list1)\n",
    "\n",
    "del list1[4]\n",
    "\n",
    "print(list1)"
   ]
  },
  {
   "cell_type": "code",
   "execution_count": 17,
   "id": "20963982-e81f-4fbf-b6fd-59386e565218",
   "metadata": {},
   "outputs": [
    {
     "name": "stdout",
     "output_type": "stream",
     "text": [
      "[10, 20, 30, 40, 50, 60, 70, 80, 90, 100]\n",
      "[10, 20, 30, 40, 50, 60, 80, 90, 100]\n"
     ]
    }
   ],
   "source": [
    "# 삭제 값을 통한 삭제.\n",
    "# 동일한 값이 있을 경우에는 제일 좌측의 값이 삭제된다.\n",
    "print(list1)\n",
    "\n",
    "list1.remove(70)\n",
    "\n",
    "print(list1)"
   ]
  },
  {
   "cell_type": "markdown",
   "id": "623e72d5-d488-4aa2-b5f4-1df78f6ab52c",
   "metadata": {},
   "source": [
    "### 딕셔너리\n",
    "- 데이터를 이름을 가지고 관리한다.\n",
    "- 추가, 수정, 삭제 등이 가능하다."
   ]
  },
  {
   "cell_type": "code",
   "execution_count": 18,
   "id": "3eb2a964-8281-498b-b058-4074cb04248f",
   "metadata": {},
   "outputs": [],
   "source": [
    "d1 = {\n",
    "    'a1' : 100,\n",
    "    'b1' : 200,\n",
    "    10 : '안녕하세요'\n",
    "}"
   ]
  },
  {
   "cell_type": "code",
   "execution_count": 19,
   "id": "86019a3f-ee0e-413f-a692-e48c4fbb4404",
   "metadata": {},
   "outputs": [
    {
     "name": "stdout",
     "output_type": "stream",
     "text": [
      "100\n",
      "200\n",
      "안녕하세요\n"
     ]
    }
   ],
   "source": [
    "print(d1['a1'])\n",
    "print(d1['b1'])\n",
    "print(d1[10])"
   ]
  },
  {
   "cell_type": "code",
   "execution_count": null,
   "id": "7bcb8ce5-5c45-4492-b6d5-20fa31616149",
   "metadata": {},
   "outputs": [],
   "source": []
  }
 ],
 "metadata": {
  "kernelspec": {
   "display_name": "Python 3",
   "language": "python",
   "name": "python3"
  },
  "language_info": {
   "codemirror_mode": {
    "name": "ipython",
    "version": 3
   },
   "file_extension": ".py",
   "mimetype": "text/x-python",
   "name": "python",
   "nbconvert_exporter": "python",
   "pygments_lexer": "ipython3",
   "version": "3.8.8"
  }
 },
 "nbformat": 4,
 "nbformat_minor": 5
}
