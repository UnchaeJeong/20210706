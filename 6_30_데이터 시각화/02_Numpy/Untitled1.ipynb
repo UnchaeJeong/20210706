{
 "cells": [
  {
   "cell_type": "code",
   "execution_count": 1,
   "id": "43d70955-5913-4418-9cbe-a89330263517",
   "metadata": {},
   "outputs": [],
   "source": [
    "import numpy as np"
   ]
  },
  {
   "cell_type": "code",
   "execution_count": 2,
   "id": "26bb6e90-08fe-43ef-8bd0-4d94bef80d32",
   "metadata": {},
   "outputs": [
    {
     "data": {
      "text/plain": [
       "array([ 0,  1,  2,  3,  4,  5,  6,  7,  8,  9, 10, 11, 12, 13, 14])"
      ]
     },
     "execution_count": 2,
     "metadata": {},
     "output_type": "execute_result"
    }
   ],
   "source": [
    "array1 = np.arange(15)\n",
    "array1"
   ]
  },
  {
   "cell_type": "code",
   "execution_count": 3,
   "id": "49ba073b-6472-41c9-8a1f-e48ae4dd4ff0",
   "metadata": {},
   "outputs": [
    {
     "data": {
      "text/plain": [
       "array([[ 0,  1,  2,  3,  4],\n",
       "       [ 5,  6,  7,  8,  9],\n",
       "       [10, 11, 12, 13, 14]])"
      ]
     },
     "execution_count": 3,
     "metadata": {},
     "output_type": "execute_result"
    }
   ],
   "source": [
    "array2 = array1.reshape(3,5)\n",
    "array2"
   ]
  },
  {
   "cell_type": "code",
   "execution_count": 4,
   "id": "3e2d339b-2041-4fe4-ae7c-3eb92fa65ff4",
   "metadata": {},
   "outputs": [],
   "source": [
    "array3 = array2.reshape(15)\n",
    "array4 = array2.reshape(-1)"
   ]
  },
  {
   "cell_type": "code",
   "execution_count": 6,
   "id": "ade3d9b8-df96-4f28-817e-0a2088afe0d1",
   "metadata": {},
   "outputs": [
    {
     "name": "stdout",
     "output_type": "stream",
     "text": [
      "[[ 0  1  2  3  4]\n",
      " [ 5  6  7  8  9]\n",
      " [10 11 12 13 14]]\n",
      "[ 0  1  2  3  4  5  6  7  8  9 10 11 12 13 14]\n",
      "[ 0  1  2  3  4  5  6  7  8  9 10 11 12 13 14]\n"
     ]
    }
   ],
   "source": [
    "print(array2)\n",
    "print(array3)\n",
    "print(array4)"
   ]
  },
  {
   "cell_type": "code",
   "execution_count": 7,
   "id": "ef82c878-543b-4d6f-8b91-43b8b510599c",
   "metadata": {},
   "outputs": [
    {
     "data": {
      "text/plain": [
       "array([[ 0,  1,  2,  3,  4],\n",
       "       [ 5,  6,  7,  8,  9],\n",
       "       [10, 11, 12, 13, 14]])"
      ]
     },
     "execution_count": 7,
     "metadata": {},
     "output_type": "execute_result"
    }
   ],
   "source": [
    "array1 = np.arange(15).reshape(3,5)\n",
    "array1"
   ]
  },
  {
   "cell_type": "code",
   "execution_count": 19,
   "id": "c9385f56-9a23-4790-b7cf-198be3c14619",
   "metadata": {},
   "outputs": [
    {
     "data": {
      "text/plain": [
       "array([ 1,  2,  3,  4,  5,  6,  7,  8,  9, 10, 11, 12, 13, 14, 15, 16, 17,\n",
       "       18, 19, 20, 21, 22, 23, 24, 25, 26, 27, 28, 29, 30, 31, 32, 33, 34,\n",
       "       35, 36, 37, 38, 39, 40, 41, 42, 43, 44, 45])"
      ]
     },
     "execution_count": 19,
     "metadata": {},
     "output_type": "execute_result"
    }
   ],
   "source": [
    "array1 = np.arange(1, 46)\n",
    "array1"
   ]
  },
  {
   "cell_type": "code",
   "execution_count": 79,
   "id": "586f3d76-e1ee-47bc-8fd7-006f848f1d9c",
   "metadata": {},
   "outputs": [
    {
     "name": "stdout",
     "output_type": "stream",
     "text": [
      "[ 6 12 26 32 36 42]\n",
      "\n"
     ]
    },
    {
     "data": {
      "text/plain": [
       "array([42, 36, 32, 26, 12,  6])"
      ]
     },
     "metadata": {},
     "output_type": "display_data"
    },
    {
     "name": "stdout",
     "output_type": "stream",
     "text": [
      "_-----------------------------------_\n",
      "[ 8 12 18 26 40 43]\n",
      "\n"
     ]
    },
    {
     "data": {
      "text/plain": [
       "array([43, 40, 26, 18, 12,  8])"
      ]
     },
     "metadata": {},
     "output_type": "display_data"
    },
    {
     "name": "stdout",
     "output_type": "stream",
     "text": [
      "_-----------------------------------_\n",
      "[ 3 11 26 34 37 42]\n",
      "\n"
     ]
    },
    {
     "data": {
      "text/plain": [
       "array([42, 37, 34, 26, 11,  3])"
      ]
     },
     "metadata": {},
     "output_type": "display_data"
    },
    {
     "name": "stdout",
     "output_type": "stream",
     "text": [
      "_-----------------------------------_\n"
     ]
    }
   ],
   "source": [
    "a = 'ㅁㅁㅁ'\n",
    "for _ in range(3):\n",
    "    array2 = np.random.permutation(array1)\n",
    "    array3 = array2[:6]\n",
    "    array3.sort()\n",
    "    print(array3)\n",
    "    print()\n",
    "    array4 = array3[::-1]\n",
    "    \n",
    "    display(array4)\n",
    "    print('_-----------------------------------_')"
   ]
  },
  {
   "cell_type": "code",
   "execution_count": null,
   "id": "239071a3-5b0c-42f6-9f1f-aa2cde2b29ab",
   "metadata": {},
   "outputs": [],
   "source": []
  },
  {
   "cell_type": "code",
   "execution_count": null,
   "id": "ceebd741-9714-4968-9d7c-5e5a174f3d9b",
   "metadata": {},
   "outputs": [],
   "source": []
  }
 ],
 "metadata": {
  "kernelspec": {
   "display_name": "Python 3",
   "language": "python",
   "name": "python3"
  },
  "language_info": {
   "codemirror_mode": {
    "name": "ipython",
    "version": 3
   },
   "file_extension": ".py",
   "mimetype": "text/x-python",
   "name": "python",
   "nbconvert_exporter": "python",
   "pygments_lexer": "ipython3",
   "version": "3.8.8"
  }
 },
 "nbformat": 4,
 "nbformat_minor": 5
}
