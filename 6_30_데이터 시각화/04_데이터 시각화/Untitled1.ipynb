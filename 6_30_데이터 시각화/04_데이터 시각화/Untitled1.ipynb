{
 "cells": [
  {
   "cell_type": "code",
   "execution_count": 1,
   "id": "87423a19-68d3-4348-ad14-260c04e26333",
   "metadata": {},
   "outputs": [],
   "source": [
    "import time\n",
    "import selenium.webdriver as webdriver"
   ]
  },
  {
   "cell_type": "code",
   "execution_count": 2,
   "id": "ff58df1a-e350-49df-b507-7641ed6f5dd5",
   "metadata": {},
   "outputs": [],
   "source": [
    "driver = webdriver.Chrome('C://chromedriver/chromedriver.exe')\n",
    "url_start = 'https://news.naver.com'\n",
    "keywords = ['공유킥보드','공유자전거']"
   ]
  },
  {
   "cell_type": "code",
   "execution_count": 7,
   "id": "fcb0df3f-9250-47ab-a117-d116f82af2e7",
   "metadata": {},
   "outputs": [
    {
     "ename": "IndentationError",
     "evalue": "unexpected indent (<ipython-input-7-2a16ef220fee>, line 59)",
     "output_type": "error",
     "traceback": [
      "\u001b[1;36m  File \u001b[1;32m\"<ipython-input-7-2a16ef220fee>\"\u001b[1;36m, line \u001b[1;32m59\u001b[0m\n\u001b[1;33m    for i in range(1, 4):\u001b[0m\n\u001b[1;37m    ^\u001b[0m\n\u001b[1;31mIndentationError\u001b[0m\u001b[1;31m:\u001b[0m unexpected indent\n"
     ]
    }
   ],
   "source": [
    "def finput_keyword(keyword):\n",
    "    driver.switch_to.window(driver.window_handles[0])\n",
    "\n",
    "    driver.get(url_start)\n",
    "\n",
    "    driver.implicitly_wait(10)\n",
    "    driver.find_element_by_xpath('//input[@class=\"text_index\"]').send_keys(keyword)\n",
    "    driver.implicitly_wait(10)\n",
    "    driver.find_element_by_xpath('//button[@type=\"submit\"]').click()\n",
    "    driver.implicitly_wait(10)\n",
    "    driver.switch_to.window(driver.window_handles[1])\n",
    "    driver.implicitly_wait(10)\n",
    "    driver.find_elements_by_xpath('//a[@role=\"option\"]')[1].click()\n",
    "    driver.implicitly_wait(10)\n",
    "    \n",
    "    return driver\n",
    "\n",
    "def fmake_file(keyword):\n",
    "    output_file_name = 'naver_news_' + keyword + '.txt'\n",
    "    output_file = open(output_file_name, \"w\", encoding='utf-8')\n",
    "    output_file.write(\"{}\\t{}\\t{}\\t{}\\n\".format('페이지', '키워드', '제목', 'URL'))\n",
    "    output_file.close()\n",
    "    return output_file_name\n",
    "\n",
    "def fwrite_news(i, keyword, news_title_clean, news_url, ouput_file_name):\n",
    "    pirnt([i, keyword, news_title_clean, news_url])\n",
    "    output_file = open(output_file_name, \"a\", encoding='utf-8')\n",
    "    output_file.write(\"{}\\t/{}\\t{}\\t{}\\n\".format(i, keyword, news_title_clean, news_url))\n",
    "    output_file.close()\n",
    "    return\n",
    "\n",
    "def fcrawl_news_selenium(driver, keyword, i, ouput_file_name):\n",
    "    \n",
    "    bodies = driver.find_elements_by_xpath('//ul[@class=\"list_news\"]/li')\n",
    "    \n",
    "    for body in bodies:\n",
    "        news_title_elm = body.find_elements_by_xpath('.//a[@class=\"news_tit\"]')[0]\n",
    "        news_title = news_title_elm.get_attribute('title')\n",
    "        try:\n",
    "            news_url_elm = body.find_elements_by_xpath('.//a[@class=\"info\"]')[0]\n",
    "            news_url = news_url_elm.get_attribute('href')\n",
    "        except:\n",
    "            news_url = ''\n",
    "            \n",
    "        news_title_clean = news_title.replace(\"\\n\", \"\").replace(\"\\t\", \"\").replace(\"\\r\", \"\").strip()\n",
    "        fwrite_news(i, keyword, news_title_clean, news_url, output_file_name)\n",
    "        \n",
    "        page_nav = driver.find_element_by_xpath('//div[@class=\"sc_page_inner\"]')\n",
    "        next_page = page_nav.find_element_by_link_text(str(int(i)+1))\n",
    "        next_page.click()\n",
    "        driver.implicitly_wait(10)\n",
    "        \n",
    "        return\n",
    "    \n",
    "def fmain():\n",
    "    for keyword in keywords:\n",
    "        output_file_name = fmake_file(keyword)\n",
    "        \n",
    "            for i in range(1, 4):\n",
    "                print(i)\n",
    "                fcrawl_news_selenium(driver, keyword, i, output_file_name)\n",
    "                timesleep(1)\n",
    "                \n",
    "            driver.close()\n",
    "            \n",
    "fmain()\n",
    "                                                       "
   ]
  },
  {
   "cell_type": "code",
   "execution_count": null,
   "id": "1c4e36ca-96cb-4811-90bf-bd29e2ad3e2f",
   "metadata": {},
   "outputs": [],
   "source": []
  },
  {
   "cell_type": "code",
   "execution_count": null,
   "id": "96544d4d-4b6d-4aec-acc3-15a3b99d4feb",
   "metadata": {},
   "outputs": [],
   "source": []
  },
  {
   "cell_type": "code",
   "execution_count": null,
   "id": "bde1bb13-c207-4fc0-b159-0854eecb8dd2",
   "metadata": {},
   "outputs": [],
   "source": []
  }
 ],
 "metadata": {
  "kernelspec": {
   "display_name": "Python 3",
   "language": "python",
   "name": "python3"
  },
  "language_info": {
   "codemirror_mode": {
    "name": "ipython",
    "version": 3
   },
   "file_extension": ".py",
   "mimetype": "text/x-python",
   "name": "python",
   "nbconvert_exporter": "python",
   "pygments_lexer": "ipython3",
   "version": "3.8.8"
  }
 },
 "nbformat": 4,
 "nbformat_minor": 5
}
