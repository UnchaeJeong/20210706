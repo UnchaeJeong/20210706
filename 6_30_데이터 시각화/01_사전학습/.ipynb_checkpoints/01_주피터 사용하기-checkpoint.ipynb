{
 "cells": [
  {
   "cell_type": "markdown",
   "id": "106978f2",
   "metadata": {},
   "source": [
    "노트북의 모드\n",
    "- esc : command mode, 셀들을 관리할 수 있다.\n",
    "- enter : edit mode, 셀에 원하는 내용을 입력할 수 있다.\n",
    "\n",
    "---\n",
    "셀의 모드\n",
    "- m : mark down, 설명을 작성할 수 있다.\n",
    "- y : code mode, 파이썬 코드를 작성할 수 있다.\n",
    "---\n",
    "공통 단축키\n",
    "- shift + enter : 현재 셀을 실행하고 다음 셀로 이동한다.\n",
    "- ctrl + enter : 현재 셀을 실행하고 다음 셀로 이동하지 않는다.\n",
    "---\n",
    "command mode 단축키\n",
    "- 화살표 위 아래 : 셀을 이동한다.\n",
    "- a : 현재 셀을 기준으로 상단에 셀을 추가하고 이동한다.\n",
    "- b : 현재 셀을 기준으로 하단에 셀을 추가하고 이동한다.\n",
    "- dd : 현재 셀을 삭제한다.\n",
    "- shift + m : 선택한 셀들을 하나로 합쳐준다.\n",
    "---\n",
    "edit mode 단축키\n",
    "- 화살표 위 아래 : 셀 내에서 위 아래로 이동한다. 단 첫번째 줄에 있을 경우는 이전 셀로 이동하고 마지막 줄에 있을 경우 다음 셀로 이동한다.\n",
    "- ctrl + shift + - : 현재 위치를 기준으로 셀을 나눈다."
   ]
  },
  {
   "cell_type": "markdown",
   "id": "a6184f74",
   "metadata": {},
   "source": [
    "#제목1\n",
    "##제목2\n",
    "###제목3\n",
    "####제목4\n",
    "######제목5"
   ]
  },
  {
   "cell_type": "markdown",
   "id": "455900b6",
   "metadata": {},
   "source": [
    "- html을 지원한다.\n",
    "\n",
    "동해물과 <span style = 'color:red'>백두산이</span> 마르고 닳도록"
   ]
  },
  {
   "cell_type": "markdown",
   "id": "91daa979",
   "metadata": {},
   "source": [
    "<img src='images/고양이.jfif' style=\"width:300px;\"/>"
   ]
  },
  {
   "cell_type": "code",
   "execution_count": 8,
   "id": "64675684-ea4d-47a1-94a5-889d658cc2a1",
   "metadata": {
    "jupyter": {
     "source_hidden": true
    },
    "tags": []
   },
   "outputs": [
    {
     "name": "stdout",
     "output_type": "stream",
     "text": [
      "Requirement already satisfied: pandas in c:\\users\\medici\\anaconda3\\lib\\site-packages (1.2.4)\n",
      "Requirement already satisfied: numpy>=1.16.5 in c:\\users\\medici\\anaconda3\\lib\\site-packages (from pandas) (1.20.1)\n",
      "Requirement already satisfied: python-dateutil>=2.7.3 in c:\\users\\medici\\anaconda3\\lib\\site-packages (from pandas) (2.8.1)\n",
      "Requirement already satisfied: pytz>=2017.3 in c:\\users\\medici\\anaconda3\\lib\\site-packages (from pandas) (2021.1)\n",
      "Requirement already satisfied: six>=1.5 in c:\\users\\medici\\anaconda3\\lib\\site-packages (from python-dateutil>=2.7.3->pandas) (1.15.0)\n",
      "Requirement already satisfied: numpy in c:\\users\\medici\\anaconda3\\lib\\site-packages (1.20.1)\n"
     ]
    }
   ],
   "source": [
    "!pip install pandas\n",
    "\n",
    "!pip install numpy\n",
    "\n",
    "# pip install matplotlib\n",
    "\n",
    "# pip install seaborn\n"
   ]
  },
  {
   "cell_type": "code",
   "execution_count": 7,
   "id": "3113fe9b-bdbb-4250-88c1-6a20de31f2ae",
   "metadata": {},
   "outputs": [
    {
     "name": "stdout",
     "output_type": "stream",
     "text": [
      "Requirement already satisfied: numpy in c:\\users\\medici\\anaconda3\\lib\\site-packages (1.20.1)\n",
      "Note: you may need to restart the kernel to use updated packages.\n"
     ]
    }
   ],
   "source": [
    "pip install numpy"
   ]
  },
  {
   "cell_type": "markdown",
   "id": "70fb63d1-de48-4912-bb31-a6345ed10b8c",
   "metadata": {},
   "source": [
    "![Image](images/고양이.jfif)"
   ]
  },
  {
   "cell_type": "code",
   "execution_count": null,
   "id": "e9c71004-fa86-4c52-a7b8-b05b5d0c3e07",
   "metadata": {},
   "outputs": [],
   "source": []
  }
 ],
 "metadata": {
  "kernelspec": {
   "display_name": "Python 3",
   "language": "python",
   "name": "python3"
  },
  "language_info": {
   "codemirror_mode": {
    "name": "ipython",
    "version": 3
   },
   "file_extension": ".py",
   "mimetype": "text/x-python",
   "name": "python",
   "nbconvert_exporter": "python",
   "pygments_lexer": "ipython3",
   "version": "3.8.8"
  }
 },
 "nbformat": 4,
 "nbformat_minor": 5
}
