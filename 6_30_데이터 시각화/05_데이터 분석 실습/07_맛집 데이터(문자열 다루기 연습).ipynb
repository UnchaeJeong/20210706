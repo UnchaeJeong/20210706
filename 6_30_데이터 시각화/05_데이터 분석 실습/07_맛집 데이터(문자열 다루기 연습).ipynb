{
 "cells": [
  {
   "cell_type": "code",
   "execution_count": 1,
   "id": "39e07934-0a0e-433a-93a7-672cd178b468",
   "metadata": {},
   "outputs": [],
   "source": [
    "import numpy as np\n",
    "import pandas as pd\n",
    "import matplotlib.pyplot as plt\n",
    "import seaborn as sns\n",
    "\n",
    "# 불필요한 경고 메시지를 나오지 않도록 한다.\n",
    "import warnings\n",
    "warnings.filterwarnings('ignore')\n",
    "\n",
    "#seaborn에서 제공하는 라이브러리\n",
    "#sns.set_style(\"ticks\")\n",
    "# sns.set_style(\"darkgrid\")\n",
    "#sns.set_style(\"whitegrid\")\n",
    "\n",
    "#그래프를 그리기 위한 기본 설정\n",
    "#폰트 설정 - 윈도우\n",
    "plt.rcParams['font.family'] = 'Malgun Gothic'\n",
    "# 폰트 설정 - 맥\n",
    "# plt.rcParams['font.family'] = 'AppleGothic'\n",
    "\n",
    "#그래프의 크기\n",
    "plt.rcParams['figure.figsize'] = 12, 6\n",
    "\n",
    "#글자 크기\n",
    "plt.rcParams['font.size'] = 14\n",
    "\n",
    "#폰트 설정 시 - 기호 깨지는 것 방지하기\n",
    "plt.rcParams['axes.unicode_minus'] = False\n",
    "\n",
    "#plt.rcParams['figure.facecolor'] = 'white'\n",
    "import missingno\n"
   ]
  },
  {
   "cell_type": "markdown",
   "id": "0ce20a2b-1066-4625-a0ac-8c8c100c9ebd",
   "metadata": {},
   "source": [
    "### 맛집 데이터 불러오기"
   ]
  },
  {
   "cell_type": "code",
   "execution_count": 2,
   "id": "f166d1e1-319d-4b33-86e9-071bfcd15144",
   "metadata": {},
   "outputs": [
    {
     "data": {
      "text/html": [
       "<div>\n",
       "<style scoped>\n",
       "    .dataframe tbody tr th:only-of-type {\n",
       "        vertical-align: middle;\n",
       "    }\n",
       "\n",
       "    .dataframe tbody tr th {\n",
       "        vertical-align: top;\n",
       "    }\n",
       "\n",
       "    .dataframe thead th {\n",
       "        text-align: right;\n",
       "    }\n",
       "</style>\n",
       "<table border=\"1\" class=\"dataframe\">\n",
       "  <thead>\n",
       "    <tr style=\"text-align: right;\">\n",
       "      <th></th>\n",
       "      <th>Restaurant Name</th>\n",
       "      <th>Rating</th>\n",
       "      <th>Address</th>\n",
       "      <th>Tel</th>\n",
       "      <th>Food</th>\n",
       "      <th>Price</th>\n",
       "      <th>Parking</th>\n",
       "      <th>Operating Time</th>\n",
       "      <th>Holiday</th>\n",
       "    </tr>\n",
       "  </thead>\n",
       "  <tbody>\n",
       "    <tr>\n",
       "      <th>0</th>\n",
       "      <td>이나니와요스케</td>\n",
       "      <td>4.4</td>\n",
       "      <td>서울시 중구 을지로1가 192-11</td>\n",
       "      <td>02-772-9994</td>\n",
       "      <td>라멘 / 소바 / 우동</td>\n",
       "      <td>만원-2만원</td>\n",
       "      <td>주차공간없음</td>\n",
       "      <td>11:00 - 23:00</td>\n",
       "      <td>일</td>\n",
       "    </tr>\n",
       "    <tr>\n",
       "      <th>1</th>\n",
       "      <td>바오차이</td>\n",
       "      <td>4.4</td>\n",
       "      <td>서울시 중구 을지로2가 203</td>\n",
       "      <td>02-6031-0107</td>\n",
       "      <td>정통 중식 / 일반 중식</td>\n",
       "      <td>2만원-3만원</td>\n",
       "      <td>유료주차 가능</td>\n",
       "      <td>11:30 - 21:30</td>\n",
       "      <td>NaN</td>\n",
       "    </tr>\n",
       "    <tr>\n",
       "      <th>2</th>\n",
       "      <td>라칸티나</td>\n",
       "      <td>4.4</td>\n",
       "      <td>서울시 중구 을지로1가 50</td>\n",
       "      <td>02-777-2579</td>\n",
       "      <td>이탈리안</td>\n",
       "      <td>3만원-4만원</td>\n",
       "      <td>NaN</td>\n",
       "      <td>월-토: 11:30 - 23:00 일: 17:30 - 23:00</td>\n",
       "      <td>NaN</td>\n",
       "    </tr>\n",
       "    <tr>\n",
       "      <th>3</th>\n",
       "      <td>라세느</td>\n",
       "      <td>4.3</td>\n",
       "      <td>서울시 중구 소공동 1</td>\n",
       "      <td>02-317-7171</td>\n",
       "      <td>뷔페</td>\n",
       "      <td>4만원 이상</td>\n",
       "      <td>발렛</td>\n",
       "      <td>06:00 - 22:00</td>\n",
       "      <td>NaN</td>\n",
       "    </tr>\n",
       "    <tr>\n",
       "      <th>4</th>\n",
       "      <td>산수갑산</td>\n",
       "      <td>4.3</td>\n",
       "      <td>서울시 중구 인현동1가 15-4</td>\n",
       "      <td>02-2275-6654</td>\n",
       "      <td>탕 / 찌개 / 전골</td>\n",
       "      <td>만원 미만</td>\n",
       "      <td>유료주차 가능</td>\n",
       "      <td>월-금: 11:30 - 22:00 토: 11:30 - 20:00</td>\n",
       "      <td>일</td>\n",
       "    </tr>\n",
       "    <tr>\n",
       "      <th>...</th>\n",
       "      <td>...</td>\n",
       "      <td>...</td>\n",
       "      <td>...</td>\n",
       "      <td>...</td>\n",
       "      <td>...</td>\n",
       "      <td>...</td>\n",
       "      <td>...</td>\n",
       "      <td>...</td>\n",
       "      <td>...</td>\n",
       "    </tr>\n",
       "    <tr>\n",
       "      <th>395</th>\n",
       "      <td>누룩나무</td>\n",
       "      <td>4</td>\n",
       "      <td>서울시 종로구 관훈동 118-19</td>\n",
       "      <td>02-722-3398</td>\n",
       "      <td>전통 주점 / 포차</td>\n",
       "      <td>만원-2만원</td>\n",
       "      <td>주차공간없음</td>\n",
       "      <td>17:00 - 01:30</td>\n",
       "      <td>일</td>\n",
       "    </tr>\n",
       "    <tr>\n",
       "      <th>396</th>\n",
       "      <td>옴</td>\n",
       "      <td>4</td>\n",
       "      <td>서울시 종로구 신문로1가 2</td>\n",
       "      <td>02-723-4848</td>\n",
       "      <td>인도 음식</td>\n",
       "      <td>만원-2만원</td>\n",
       "      <td>주차공간없음</td>\n",
       "      <td>11:00 - 22:00</td>\n",
       "      <td>NaN</td>\n",
       "    </tr>\n",
       "    <tr>\n",
       "      <th>397</th>\n",
       "      <td>코블러</td>\n",
       "      <td>4</td>\n",
       "      <td>서울시 종로구 내자동 157</td>\n",
       "      <td>02-733-6421</td>\n",
       "      <td>칵테일 / 와인</td>\n",
       "      <td>만원-2만원</td>\n",
       "      <td>유료주차 가능</td>\n",
       "      <td>19:00 - 03:00</td>\n",
       "      <td>일</td>\n",
       "    </tr>\n",
       "    <tr>\n",
       "      <th>398</th>\n",
       "      <td>클류치</td>\n",
       "      <td>4</td>\n",
       "      <td>서울시 종로구 명륜3가 79-1</td>\n",
       "      <td>010-2702-1496</td>\n",
       "      <td>카페 / 디저트</td>\n",
       "      <td>만원 미만</td>\n",
       "      <td>주차공간없음</td>\n",
       "      <td>월-토: 10:00 - 23:00 일: 11:00 - 20:00</td>\n",
       "      <td>NaN</td>\n",
       "    </tr>\n",
       "    <tr>\n",
       "      <th>399</th>\n",
       "      <td>도토리</td>\n",
       "      <td>4</td>\n",
       "      <td>서울시 종로구 안국동 24-1</td>\n",
       "      <td>02-6405-8153</td>\n",
       "      <td>기타 한식</td>\n",
       "      <td>만원 미만</td>\n",
       "      <td>유료주차 가능</td>\n",
       "      <td>월-금: 10:30 - 21:00 토-일: 10:30 - 22:00</td>\n",
       "      <td>NaN</td>\n",
       "    </tr>\n",
       "  </tbody>\n",
       "</table>\n",
       "<p>400 rows × 9 columns</p>\n",
       "</div>"
      ],
      "text/plain": [
       "    Restaurant Name Rating              Address            Tel           Food  \\\n",
       "0           이나니와요스케    4.4  서울시 중구 을지로1가 192-11    02-772-9994   라멘 / 소바 / 우동   \n",
       "1              바오차이    4.4     서울시 중구 을지로2가 203   02-6031-0107  정통 중식 / 일반 중식   \n",
       "2              라칸티나    4.4      서울시 중구 을지로1가 50    02-777-2579           이탈리안   \n",
       "3               라세느    4.3         서울시 중구 소공동 1    02-317-7171             뷔페   \n",
       "4              산수갑산    4.3    서울시 중구 인현동1가 15-4   02-2275-6654    탕 / 찌개 / 전골   \n",
       "..              ...    ...                  ...            ...            ...   \n",
       "395            누룩나무      4   서울시 종로구 관훈동 118-19    02-722-3398     전통 주점 / 포차   \n",
       "396               옴      4      서울시 종로구 신문로1가 2    02-723-4848          인도 음식   \n",
       "397             코블러      4      서울시 종로구 내자동 157    02-733-6421       칵테일 / 와인   \n",
       "398             클류치      4    서울시 종로구 명륜3가 79-1  010-2702-1496       카페 / 디저트   \n",
       "399             도토리      4     서울시 종로구 안국동 24-1   02-6405-8153          기타 한식   \n",
       "\n",
       "       Price  Parking                         Operating Time Holiday  \n",
       "0     만원-2만원   주차공간없음                          11:00 - 23:00       일  \n",
       "1    2만원-3만원  유료주차 가능                          11:30 - 21:30     NaN  \n",
       "2    3만원-4만원      NaN    월-토: 11:30 - 23:00 일: 17:30 - 23:00     NaN  \n",
       "3     4만원 이상       발렛                          06:00 - 22:00     NaN  \n",
       "4      만원 미만  유료주차 가능    월-금: 11:30 - 22:00 토: 11:30 - 20:00       일  \n",
       "..       ...      ...                                    ...     ...  \n",
       "395   만원-2만원   주차공간없음                          17:00 - 01:30       일  \n",
       "396   만원-2만원   주차공간없음                          11:00 - 22:00     NaN  \n",
       "397   만원-2만원  유료주차 가능                          19:00 - 03:00       일  \n",
       "398    만원 미만   주차공간없음    월-토: 10:00 - 23:00 일: 11:00 - 20:00     NaN  \n",
       "399    만원 미만  유료주차 가능  월-금: 10:30 - 21:00 토-일: 10:30 - 22:00     NaN  \n",
       "\n",
       "[400 rows x 9 columns]"
      ]
     },
     "execution_count": 2,
     "metadata": {},
     "output_type": "execute_result"
    }
   ],
   "source": [
    "# 데이터를 읽어온다.\n",
    "matzip = pd.read_csv('data2/matzipData.csv')\n",
    "matzip"
   ]
  },
  {
   "cell_type": "markdown",
   "id": "73b7b4e3-97c7-4cea-bd67-d9e15c49fc42",
   "metadata": {},
   "source": [
    "### 맛집 데이터 처리"
   ]
  },
  {
   "cell_type": "code",
   "execution_count": 3,
   "id": "f2bc221a-bb95-4792-a37f-1ab3ec934411",
   "metadata": {},
   "outputs": [
    {
     "data": {
      "text/plain": [
       "Restaurant Name      0\n",
       "Rating               0\n",
       "Address              0\n",
       "Tel                 50\n",
       "Food                 0\n",
       "Price                3\n",
       "Parking             71\n",
       "Operating Time      36\n",
       "Holiday            274\n",
       "dtype: int64"
      ]
     },
     "execution_count": 3,
     "metadata": {},
     "output_type": "execute_result"
    }
   ],
   "source": [
    "# 결측치 확인\n",
    "matzip.isna().sum()"
   ]
  },
  {
   "cell_type": "markdown",
   "id": "b31bd51c-7b48-442b-a6c4-56292d8d5e43",
   "metadata": {},
   "source": [
    "### 결측치 처리\n",
    "#### 휴일에 대한 결측치 처리"
   ]
  },
  {
   "cell_type": "code",
   "execution_count": 4,
   "id": "5c73b204-d0fe-4b6c-ac00-a071bcc99e0f",
   "metadata": {},
   "outputs": [
    {
     "data": {
      "text/plain": [
       "일                     75\n",
       "월                     21\n",
       "토, 일                   7\n",
       "화                      3\n",
       "일, 월                   2\n",
       "수                      2\n",
       "일, 첫째 월                2\n",
       "둘째/넷째 일                2\n",
       "월, 화                   2\n",
       "둘째, 넷째 일               1\n",
       "첫째, 셋째 월, 둘째, 넷째 일     1\n",
       "월, 일                   1\n",
       "월, 마지막 화               1\n",
       "넷째 일, 월                1\n",
       "월, 셋째 화                1\n",
       "격주 월                   1\n",
       "첫째/셋째 일                1\n",
       "토-일                    1\n",
       "토                      1\n",
       "Name: Holiday, dtype: int64"
      ]
     },
     "execution_count": 4,
     "metadata": {},
     "output_type": "execute_result"
    }
   ],
   "source": [
    "# 휴일 구조 파악\n",
    "matzip['Holiday'].value_counts()"
   ]
  },
  {
   "cell_type": "code",
   "execution_count": 5,
   "id": "287d0d28-63e2-4b3c-9279-6d6c125cc754",
   "metadata": {},
   "outputs": [
    {
     "data": {
      "text/plain": [
       "Restaurant Name     0\n",
       "Rating              0\n",
       "Address             0\n",
       "Tel                50\n",
       "Food                0\n",
       "Price               3\n",
       "Parking            71\n",
       "Operating Time     36\n",
       "Holiday             0\n",
       "dtype: int64"
      ]
     },
     "execution_count": 5,
     "metadata": {},
     "output_type": "execute_result"
    }
   ],
   "source": [
    "# 휴일의 결측치는 연중무휴로 채워준다.\n",
    "matzip['Holiday'].fillna('연중무휴', inplace=True)\n",
    "matzip.isna().sum()"
   ]
  },
  {
   "cell_type": "code",
   "execution_count": 6,
   "id": "1cbc7c48-7941-46c4-b734-2daef67bb5cf",
   "metadata": {},
   "outputs": [
    {
     "data": {
      "text/plain": [
       "연중무휴                  274\n",
       "일                      75\n",
       "월                      21\n",
       "토, 일                    7\n",
       "화                       3\n",
       "둘째/넷째 일                 2\n",
       "일, 월                    2\n",
       "수                       2\n",
       "일, 첫째 월                 2\n",
       "월, 화                    2\n",
       "둘째, 넷째 일                1\n",
       "첫째, 셋째 월, 둘째, 넷째 일      1\n",
       "월, 일                    1\n",
       "월, 마지막 화                1\n",
       "넷째 일, 월                 1\n",
       "월, 셋째 화                 1\n",
       "격주 월                    1\n",
       "첫째/셋째 일                 1\n",
       "토-일                     1\n",
       "토                       1\n",
       "Name: Holiday, dtype: int64"
      ]
     },
     "execution_count": 6,
     "metadata": {},
     "output_type": "execute_result"
    }
   ],
   "source": [
    "matzip['Holiday'].value_counts()"
   ]
  },
  {
   "cell_type": "markdown",
   "id": "4c583daa-82ae-4b96-9bf2-2097da2fb63f",
   "metadata": {},
   "source": [
    "#### 가격에 대한 결측치 처리와 변환\n",
    "\n"
   ]
  },
  {
   "cell_type": "code",
   "execution_count": 8,
   "id": "f867d40b-41a7-4e22-8a2d-4583e8891a1b",
   "metadata": {},
   "outputs": [
    {
     "data": {
      "text/plain": [
       "만원-2만원     161\n",
       "만원 미만      159\n",
       "2만원-3만원     46\n",
       "4만원 이상      22\n",
       "3만원-4만원      9\n",
       "Name: Price, dtype: int64"
      ]
     },
     "execution_count": 8,
     "metadata": {},
     "output_type": "execute_result"
    }
   ],
   "source": [
    "# 가격 데이터 확인\n",
    "matzip['Price'].value_counts()"
   ]
  },
  {
   "cell_type": "code",
   "execution_count": 9,
   "id": "8659c00b-0be9-44d1-b125-5b4e5d9dc078",
   "metadata": {},
   "outputs": [
    {
     "data": {
      "text/plain": [
       "3"
      ]
     },
     "execution_count": 9,
     "metadata": {},
     "output_type": "execute_result"
    }
   ],
   "source": [
    "# 결측치 확인\n",
    "matzip['Price'].isna().sum()"
   ]
  },
  {
   "cell_type": "code",
   "execution_count": 10,
   "id": "c0d12b50-8af5-4b72-9911-d12b155349e2",
   "metadata": {},
   "outputs": [
    {
     "data": {
      "text/plain": [
       "0"
      ]
     },
     "execution_count": 10,
     "metadata": {},
     "output_type": "execute_result"
    }
   ],
   "source": [
    "#  결측치는 10000으로 채워준다.\n",
    "# 채운 이유 : 그냥...\n",
    "# 앞으로 가격을 숫자 값으로 변환 할 것이다.\n",
    "## 가장 작은 값을 10000으로 할 것이기 때문에\n",
    "## 10000으로 설정한다.\n",
    "matzip['Price'].fillna('10000', inplace=True)\n",
    "matzip['Price'].isna().sum()"
   ]
  },
  {
   "cell_type": "code",
   "execution_count": 11,
   "id": "81145c2c-41c9-4e08-9224-ce0fbcd95b4c",
   "metadata": {},
   "outputs": [
    {
     "data": {
      "text/plain": [
       "만원-2만원     161\n",
       "만원 미만      159\n",
       "2만원-3만원     46\n",
       "4만원 이상      22\n",
       "3만원-4만원      9\n",
       "10000        3\n",
       "Name: Price, dtype: int64"
      ]
     },
     "execution_count": 11,
     "metadata": {},
     "output_type": "execute_result"
    }
   ],
   "source": [
    "matzip['Price'].value_counts()"
   ]
  },
  {
   "cell_type": "code",
   "execution_count": 25,
   "id": "abb72aa7-70ba-42ed-9829-147d77355f6c",
   "metadata": {},
   "outputs": [
    {
     "data": {
      "text/plain": [
       "10000    162\n",
       "20000    161\n",
       "30000     46\n",
       "40000     31\n",
       "Name: Price, dtype: int64"
      ]
     },
     "execution_count": 25,
     "metadata": {},
     "output_type": "execute_result"
    }
   ],
   "source": [
    "# 값을 변경한다.\n",
    "# 만원이라는 글자를 10000으로 변경한다.\n",
    "matzip['Price'] = matzip['Price'].str.replace('만원', '10000')\n",
    "# 210000을 20000으로 바꾼다.\n",
    "matzip['Price'] = matzip['Price'].str.replace('210000', '20000')\n",
    "# 310000을 30000으로 바꾼다.\n",
    "matzip['Price'] = matzip['Price'].str.replace('310000', '30000')\n",
    "# 410000을 40000으로 바꾼다.\n",
    "matzip['Price'] = matzip['Price'].str.replace('410000', '40000')\n",
    "# 10000- 를 길이가 0인 문자열로 바꾼다.\n",
    "matzip['Price'] = matzip['Price'].str.replace('10000-', '')\n",
    "matzip['Price'] = matzip['Price'].str.replace('20000-', '')\n",
    "matzip['Price'] = matzip['Price'].str.replace('30000-', '')\n",
    "# 미만, 이상을 길이가 0인 문자열로 바꾼다.\n",
    "matzip['Price'] = matzip['Price'].str.replace('미만', '')\n",
    "matzip['Price'] = matzip['Price'].str.replace('이상', '')\n",
    "# 공백 제거\n",
    "matzip['Price'] = matzip['Price'].str.strip()\n",
    "\n",
    "\n",
    "matzip['Price'].value_counts()"
   ]
  },
  {
   "cell_type": "code",
   "execution_count": 29,
   "id": "da93a725-8e46-4771-9404-ab8675bd0206",
   "metadata": {},
   "outputs": [
    {
     "data": {
      "text/plain": [
       "dtype('int64')"
      ]
     },
     "execution_count": 29,
     "metadata": {},
     "output_type": "execute_result"
    }
   ],
   "source": [
    "# 변경 후 값의 타입을 확인한다.\n",
    "matzip['Price'].dtype"
   ]
  },
  {
   "cell_type": "code",
   "execution_count": 30,
   "id": "501bbaeb-ad28-4a30-bdfd-e7c9d94f88ce",
   "metadata": {},
   "outputs": [
    {
     "data": {
      "text/plain": [
       "dtype('int64')"
      ]
     },
     "execution_count": 30,
     "metadata": {},
     "output_type": "execute_result"
    }
   ],
   "source": [
    "matzip['Price'] = matzip['Price'].astype('int64')\n",
    "matzip['Price'].dtype"
   ]
  },
  {
   "cell_type": "markdown",
   "id": "14c76483-3592-43b8-8b30-b1826a6f532f",
   "metadata": {},
   "source": [
    "- 평점"
   ]
  },
  {
   "cell_type": "code",
   "execution_count": 31,
   "id": "9443a845-8586-457b-93a8-50ab57e5cea7",
   "metadata": {},
   "outputs": [
    {
     "data": {
      "text/plain": [
       "-      155\n",
       "4       53\n",
       "4.1     47\n",
       "4.2     40\n",
       "4.3     37\n",
       "4.4     20\n",
       "4.5      9\n",
       "3.9      7\n",
       "3.7      6\n",
       "4.6      5\n",
       "3.3      5\n",
       "3.6      4\n",
       "3.4      4\n",
       "4.7      3\n",
       "3.8      2\n",
       "3.2      1\n",
       "3.1      1\n",
       "2.7      1\n",
       "Name: Rating, dtype: int64"
      ]
     },
     "execution_count": 31,
     "metadata": {},
     "output_type": "execute_result"
    }
   ],
   "source": [
    "# 평점에 저장되어 있는 데이터 확인\n",
    "matzip['Rating'].value_counts()"
   ]
  },
  {
   "cell_type": "code",
   "execution_count": 32,
   "id": "cf91a519-330b-4fea-b2e1-29740468a8b6",
   "metadata": {},
   "outputs": [
    {
     "data": {
      "text/plain": [
       "0"
      ]
     },
     "execution_count": 32,
     "metadata": {},
     "output_type": "execute_result"
    }
   ],
   "source": [
    "# 결측치 확인\n",
    "matzip['Rating'].isna().sum()"
   ]
  },
  {
   "cell_type": "code",
   "execution_count": 33,
   "id": "132e4718-1b4c-4208-bd8d-65e4e05398f4",
   "metadata": {},
   "outputs": [
    {
     "data": {
      "text/plain": [
       "0.0    155\n",
       "4       53\n",
       "4.1     47\n",
       "4.2     40\n",
       "4.3     37\n",
       "4.4     20\n",
       "4.5      9\n",
       "3.9      7\n",
       "3.7      6\n",
       "4.6      5\n",
       "3.3      5\n",
       "3.6      4\n",
       "3.4      4\n",
       "4.7      3\n",
       "3.8      2\n",
       "3.2      1\n",
       "3.1      1\n",
       "2.7      1\n",
       "Name: Rating, dtype: int64"
      ]
     },
     "execution_count": 33,
     "metadata": {},
     "output_type": "execute_result"
    }
   ],
   "source": [
    "# - 만 0.0으로 바꾸고 실수로 변환.\n",
    "# - 를 0.0으로 변경한다.\n",
    "matzip['Rating'] = matzip['Rating'].str.replace('-','0.0')\n",
    "matzip['Rating'].value_counts()"
   ]
  },
  {
   "cell_type": "code",
   "execution_count": 34,
   "id": "ea44c363-8f8d-4707-8729-2cb1547d7580",
   "metadata": {},
   "outputs": [
    {
     "data": {
      "text/plain": [
       "dtype('O')"
      ]
     },
     "execution_count": 34,
     "metadata": {},
     "output_type": "execute_result"
    }
   ],
   "source": [
    "# 값의 타입을 확인한다.\n",
    "matzip['Rating'].dtype"
   ]
  },
  {
   "cell_type": "code",
   "execution_count": 39,
   "id": "2635648b-04fb-4ba5-9936-62b9d9414651",
   "metadata": {},
   "outputs": [
    {
     "data": {
      "text/plain": [
       "dtype('float64')"
      ]
     },
     "execution_count": 39,
     "metadata": {},
     "output_type": "execute_result"
    }
   ],
   "source": [
    "#실수로 변환한다.\n",
    "matzip['Rating'] = matzip['Rating'].astype('float64')\n",
    "matzip['Rating'].dtype"
   ]
  },
  {
   "cell_type": "markdown",
   "id": "425d1079-115a-47d3-a8d3-f3dc80962907",
   "metadata": {},
   "source": [
    "#### 전화번호"
   ]
  },
  {
   "cell_type": "code",
   "execution_count": 41,
   "id": "3f79aef8-6f50-4242-8cc7-31807fa208fb",
   "metadata": {},
   "outputs": [
    {
     "data": {
      "text/plain": [
       "50"
      ]
     },
     "execution_count": 41,
     "metadata": {},
     "output_type": "execute_result"
    }
   ],
   "source": [
    "# 결측치 확인\n",
    "matzip['Tel'].isna().sum()"
   ]
  },
  {
   "cell_type": "code",
   "execution_count": 42,
   "id": "d91e30a0-a8a9-45c8-bf91-f2159235fab4",
   "metadata": {},
   "outputs": [
    {
     "data": {
      "text/plain": [
       "0"
      ]
     },
     "execution_count": 42,
     "metadata": {},
     "output_type": "execute_result"
    }
   ],
   "source": [
    "# 전화번호 결측치를 번호 없음으로 채워준다.\n",
    "matzip['Tel'].fillna('번호없음', inplace=True)\n",
    "matzip['Tel'].isna().sum()"
   ]
  },
  {
   "cell_type": "markdown",
   "id": "36a0d2a9-4538-4e16-a92d-aef0eab7f970",
   "metadata": {},
   "source": [
    "#### 주차공간"
   ]
  },
  {
   "cell_type": "code",
   "execution_count": 43,
   "id": "ca53ad8b-f94d-48b4-948a-691fc88a02a2",
   "metadata": {},
   "outputs": [
    {
     "data": {
      "text/plain": [
       "71"
      ]
     },
     "execution_count": 43,
     "metadata": {},
     "output_type": "execute_result"
    }
   ],
   "source": [
    "matzip['Parking'].isna().sum()"
   ]
  },
  {
   "cell_type": "code",
   "execution_count": 44,
   "id": "a0bcd2d1-94ff-4e76-a798-27180f84b3b9",
   "metadata": {},
   "outputs": [
    {
     "data": {
      "text/plain": [
       "주차공간없음                199\n",
       "유료주차 가능                89\n",
       "무료주차 가능                24\n",
       "발렛                      8\n",
       "유료주차 가능 2시간 무료          3\n",
       "무료주차 가능 2시간 무료          2\n",
       "유료주차 가능 주차권 2시간 제공      1\n",
       "무료주차 가능 당일 무료           1\n",
       "유료주차 가능 1시간 무료          1\n",
       "유료주차 가능 1.5시간 무료        1\n",
       "Name: Parking, dtype: int64"
      ]
     },
     "execution_count": 44,
     "metadata": {},
     "output_type": "execute_result"
    }
   ],
   "source": [
    "#주차공간에 저장되어 있는 값들을 확인한다.\n",
    "matzip['Parking'].value_counts()"
   ]
  },
  {
   "cell_type": "code",
   "execution_count": 45,
   "id": "8c367966-4f6a-4104-84f9-c1bd1b1f4537",
   "metadata": {},
   "outputs": [
    {
     "data": {
      "text/plain": [
       "0"
      ]
     },
     "execution_count": 45,
     "metadata": {},
     "output_type": "execute_result"
    }
   ],
   "source": [
    "# 결측치를 주차공간없음으로 채워준다.\n",
    "matzip['Parking'].fillna('주차공간없음',inplace=True)\n",
    "matzip['Parking'].isna().sum()"
   ]
  },
  {
   "cell_type": "code",
   "execution_count": 46,
   "id": "39c1e3ea-71c5-4093-b764-ea6c91ab23d8",
   "metadata": {},
   "outputs": [
    {
     "data": {
      "text/plain": [
       "주차공간없음                270\n",
       "유료주차 가능                89\n",
       "무료주차 가능                24\n",
       "발렛                      8\n",
       "유료주차 가능 2시간 무료          3\n",
       "무료주차 가능 2시간 무료          2\n",
       "유료주차 가능 주차권 2시간 제공      1\n",
       "무료주차 가능 당일 무료           1\n",
       "유료주차 가능 1시간 무료          1\n",
       "유료주차 가능 1.5시간 무료        1\n",
       "Name: Parking, dtype: int64"
      ]
     },
     "execution_count": 46,
     "metadata": {},
     "output_type": "execute_result"
    }
   ],
   "source": [
    "matzip['Parking'].value_counts()"
   ]
  },
  {
   "cell_type": "markdown",
   "id": "e5b16cd3-3250-4544-8e4a-707a527232d0",
   "metadata": {},
   "source": [
    "####  영업 시간"
   ]
  },
  {
   "cell_type": "code",
   "execution_count": 47,
   "id": "59d114ce-e10b-4532-b5fe-0001209be08e",
   "metadata": {},
   "outputs": [
    {
     "data": {
      "text/plain": [
       "36"
      ]
     },
     "execution_count": 47,
     "metadata": {},
     "output_type": "execute_result"
    }
   ],
   "source": [
    "matzip['Operating Time'].isna().sum()"
   ]
  },
  {
   "cell_type": "code",
   "execution_count": 48,
   "id": "879b1869-bd4f-4b65-8670-958645ae42e4",
   "metadata": {},
   "outputs": [
    {
     "data": {
      "text/plain": [
       "11:00 - 22:00                            25\n",
       "11:30 - 22:00                            15\n",
       "11:30 - 21:30                            15\n",
       "00:00 - 24:00                            12\n",
       "11:00 - 23:00                            11\n",
       "                                         ..\n",
       "월-목: 18:00 - 24:00 금-토: 18:00 - 02:00     1\n",
       "10:00 - 01:00                             1\n",
       "월-토: 11:00 - 03:00 일: 11:00 - 23:00       1\n",
       "16:00 - 06:00                             1\n",
       "월-금: 10:30 - 21:00 토-일: 10:30 - 22:00     1\n",
       "Name: Operating Time, Length: 204, dtype: int64"
      ]
     },
     "execution_count": 48,
     "metadata": {},
     "output_type": "execute_result"
    }
   ],
   "source": [
    "matzip['Operating Time'].value_counts()"
   ]
  },
  {
   "cell_type": "code",
   "execution_count": 49,
   "id": "2fa45420-f962-4f73-88f1-a2d0ae9a53bc",
   "metadata": {},
   "outputs": [
    {
     "data": {
      "text/plain": [
       "0"
      ]
     },
     "execution_count": 49,
     "metadata": {},
     "output_type": "execute_result"
    }
   ],
   "source": [
    "# : vs ： 특수문자기호가 다를 수 있음. 복사해서 사용할것.\n",
    "# 결측치를 00:00 - 24:00로 채워준다.\n",
    "matzip['Operating Time'].fillna('00:00 - 24:00',inplace=True)\n",
    "matzip['Operating Time'].isna().sum()\n"
   ]
  },
  {
   "cell_type": "code",
   "execution_count": 52,
   "id": "64a8d0a0-13df-4381-876d-be59dd73c700",
   "metadata": {},
   "outputs": [
    {
     "data": {
      "text/plain": [
       "Restaurant Name    0\n",
       "Rating             0\n",
       "Address            0\n",
       "Tel                0\n",
       "Food               0\n",
       "Price              0\n",
       "Parking            0\n",
       "Operating Time     0\n",
       "Holiday            0\n",
       "dtype: int64"
      ]
     },
     "execution_count": 52,
     "metadata": {},
     "output_type": "execute_result"
    }
   ],
   "source": [
    "matzip.isna().sum()"
   ]
  },
  {
   "cell_type": "markdown",
   "id": "f88515e2-a70a-4bd1-a24e-6f626ad7ae6d",
   "metadata": {},
   "source": [
    "### 데이터 분석"
   ]
  },
  {
   "cell_type": "markdown",
   "id": "d6b1538c-f7b2-44da-b6c7-2ce0cd2afea3",
   "metadata": {},
   "source": [
    "### 가격 분포 확인"
   ]
  },
  {
   "cell_type": "code",
   "execution_count": 55,
   "id": "2d66055b-d7fa-4fc5-8565-7daa96fd68db",
   "metadata": {},
   "outputs": [
    {
     "data": {
      "image/png": "[encoded data removed]",
      "text/plain": [
       "<Figure size 864x432 with 1 Axes>"
      ]
     },
     "metadata": {
      "needs_background": "light"
     },
     "output_type": "display_data"
    }
   ],
   "source": [
    "# 막대그래프\n",
    "# 컬럼의 값의 종류가 적을경우(카테고리형 데이터)\n",
    "# 컬럼에 저장되어 있는 값 종류별 양을 비교할 때\n",
    "a1 = matzip['Price'].value_counts()\n",
    "\n",
    "a1.plot.bar()\n",
    "plt.show()"
   ]
  },
  {
   "cell_type": "code",
   "execution_count": 56,
   "id": "e4336898-d869-4fd6-b460-e773b12c0001",
   "metadata": {},
   "outputs": [
    {
     "data": {
      "image/png": "[encoded data removed]",
      "text/plain": [
       "<Figure size 864x432 with 1 Axes>"
      ]
     },
     "metadata": {
      "needs_background": "light"
     },
     "output_type": "display_data"
    }
   ],
   "source": [
    "# x의 각각의 정보를 파악하는게 countplot\n",
    "# 막대그래프는 컬럼 안의 값의 분포, 카테고리형 데이터에 사용.\n",
    "sns.countplot(x='Price', data=matzip)\n",
    "plt.show()"
   ]
  },
  {
   "cell_type": "code",
   "execution_count": 61,
   "id": "626eeb24-65f6-41bd-b8f5-6785e9265d9c",
   "metadata": {},
   "outputs": [
    {
     "data": {
      "image/png": "[encoded data removed]",
      "text/plain": [
       "<Figure size 864x432 with 1 Axes>"
      ]
     },
     "metadata": {
      "needs_background": "light"
     },
     "output_type": "display_data"
    }
   ],
   "source": [
    "# 히스토그램\n",
    "# 범위형 데이터의 분포를 보고자 할 때 사용한다.(혹은 선그래프)\n",
    "# 최소와 최대 안에서 주어진 그룹의 개수만큼 범위를 분할하여\n",
    "# 각 범위 안에 해당하는 데이터의 개수를 시각화한다.\n",
    "# 분포, 왜도, 첨도, 밀도 등등 통계에서 많이 사용하는 그래프이다.\n",
    "matzip['Price'].plot.hist()\n",
    "# 기본 (bins=10)\n",
    "plt.show()"
   ]
  },
  {
   "cell_type": "markdown",
   "id": "b1dc0e73-79f7-436a-8227-05a08c4e43cf",
   "metadata": {},
   "source": [
    "10000, 20000원 대가 많고 30000, 40000대는 적다."
   ]
  },
  {
   "cell_type": "markdown",
   "id": "64ceed2e-8a16-4535-a7c8-5baec622e223",
   "metadata": {},
   "source": [
    "### 주차 공간과 평점간의 관계"
   ]
  },
  {
   "cell_type": "code",
   "execution_count": 66,
   "id": "bc660a0c-b76c-4ef5-a38b-71a6f4b715a7",
   "metadata": {
    "collapsed": true,
    "jupyter": {
     "outputs_hidden": true
    },
    "tags": []
   },
   "outputs": [
    {
     "ename": "TypeError",
     "evalue": "no numeric data to plot",
     "output_type": "error",
     "traceback": [
      "\u001b[1;31m---------------------------------------------------------------------------\u001b[0m",
      "\u001b[1;31mTypeError\u001b[0m                                 Traceback (most recent call last)",
      "\u001b[1;32m<ipython-input-66-bd77ee6844bb>\u001b[0m in \u001b[0;36m<module>\u001b[1;34m\u001b[0m\n\u001b[0;32m      1\u001b[0m \u001b[1;31m# 주차 공간의 분포를 확인한다.\u001b[0m\u001b[1;33m\u001b[0m\u001b[1;33m\u001b[0m\u001b[1;33m\u001b[0m\u001b[0m\n\u001b[1;32m----> 2\u001b[1;33m \u001b[0mmatzip\u001b[0m\u001b[1;33m[\u001b[0m\u001b[1;34m'Parking'\u001b[0m\u001b[1;33m]\u001b[0m\u001b[1;33m.\u001b[0m\u001b[0mplot\u001b[0m\u001b[1;33m.\u001b[0m\u001b[0mhist\u001b[0m\u001b[1;33m(\u001b[0m\u001b[1;33m)\u001b[0m\u001b[1;33m\u001b[0m\u001b[1;33m\u001b[0m\u001b[0m\n\u001b[0m\u001b[0;32m      3\u001b[0m \u001b[0mplt\u001b[0m\u001b[1;33m.\u001b[0m\u001b[0mshow\u001b[0m\u001b[1;33m(\u001b[0m\u001b[1;33m)\u001b[0m\u001b[1;33m\u001b[0m\u001b[1;33m\u001b[0m\u001b[0m\n",
      "\u001b[1;32m~\\anaconda3\\lib\\site-packages\\pandas\\plotting\\_core.py\u001b[0m in \u001b[0;36mhist\u001b[1;34m(self, by, bins, **kwargs)\u001b[0m\n\u001b[0;32m   1311\u001b[0m             \u001b[1;33m>>\u001b[0m\u001b[1;33m>\u001b[0m \u001b[0max\u001b[0m \u001b[1;33m=\u001b[0m \u001b[0mdf\u001b[0m\u001b[1;33m.\u001b[0m\u001b[0mplot\u001b[0m\u001b[1;33m.\u001b[0m\u001b[0mhist\u001b[0m\u001b[1;33m(\u001b[0m\u001b[0mbins\u001b[0m\u001b[1;33m=\u001b[0m\u001b[1;36m12\u001b[0m\u001b[1;33m,\u001b[0m \u001b[0malpha\u001b[0m\u001b[1;33m=\u001b[0m\u001b[1;36m0.5\u001b[0m\u001b[1;33m)\u001b[0m\u001b[1;33m\u001b[0m\u001b[1;33m\u001b[0m\u001b[0m\n\u001b[0;32m   1312\u001b[0m         \"\"\"\n\u001b[1;32m-> 1313\u001b[1;33m         \u001b[1;32mreturn\u001b[0m \u001b[0mself\u001b[0m\u001b[1;33m(\u001b[0m\u001b[0mkind\u001b[0m\u001b[1;33m=\u001b[0m\u001b[1;34m\"hist\"\u001b[0m\u001b[1;33m,\u001b[0m \u001b[0mby\u001b[0m\u001b[1;33m=\u001b[0m\u001b[0mby\u001b[0m\u001b[1;33m,\u001b[0m \u001b[0mbins\u001b[0m\u001b[1;33m=\u001b[0m\u001b[0mbins\u001b[0m\u001b[1;33m,\u001b[0m \u001b[1;33m**\u001b[0m\u001b[0mkwargs\u001b[0m\u001b[1;33m)\u001b[0m\u001b[1;33m\u001b[0m\u001b[1;33m\u001b[0m\u001b[0m\n\u001b[0m\u001b[0;32m   1314\u001b[0m \u001b[1;33m\u001b[0m\u001b[0m\n\u001b[0;32m   1315\u001b[0m     \u001b[1;32mdef\u001b[0m \u001b[0mkde\u001b[0m\u001b[1;33m(\u001b[0m\u001b[0mself\u001b[0m\u001b[1;33m,\u001b[0m \u001b[0mbw_method\u001b[0m\u001b[1;33m=\u001b[0m\u001b[1;32mNone\u001b[0m\u001b[1;33m,\u001b[0m \u001b[0mind\u001b[0m\u001b[1;33m=\u001b[0m\u001b[1;32mNone\u001b[0m\u001b[1;33m,\u001b[0m \u001b[1;33m**\u001b[0m\u001b[0mkwargs\u001b[0m\u001b[1;33m)\u001b[0m\u001b[1;33m:\u001b[0m\u001b[1;33m\u001b[0m\u001b[1;33m\u001b[0m\u001b[0m\n",
      "\u001b[1;32m~\\anaconda3\\lib\\site-packages\\pandas\\plotting\\_core.py\u001b[0m in \u001b[0;36m__call__\u001b[1;34m(self, *args, **kwargs)\u001b[0m\n\u001b[0;32m    970\u001b[0m                     \u001b[0mdata\u001b[0m\u001b[1;33m.\u001b[0m\u001b[0mcolumns\u001b[0m \u001b[1;33m=\u001b[0m \u001b[0mlabel_name\u001b[0m\u001b[1;33m\u001b[0m\u001b[1;33m\u001b[0m\u001b[0m\n\u001b[0;32m    971\u001b[0m \u001b[1;33m\u001b[0m\u001b[0m\n\u001b[1;32m--> 972\u001b[1;33m         \u001b[1;32mreturn\u001b[0m \u001b[0mplot_backend\u001b[0m\u001b[1;33m.\u001b[0m\u001b[0mplot\u001b[0m\u001b[1;33m(\u001b[0m\u001b[0mdata\u001b[0m\u001b[1;33m,\u001b[0m \u001b[0mkind\u001b[0m\u001b[1;33m=\u001b[0m\u001b[0mkind\u001b[0m\u001b[1;33m,\u001b[0m \u001b[1;33m**\u001b[0m\u001b[0mkwargs\u001b[0m\u001b[1;33m)\u001b[0m\u001b[1;33m\u001b[0m\u001b[1;33m\u001b[0m\u001b[0m\n\u001b[0m\u001b[0;32m    973\u001b[0m \u001b[1;33m\u001b[0m\u001b[0m\n\u001b[0;32m    974\u001b[0m     \u001b[0m__call__\u001b[0m\u001b[1;33m.\u001b[0m\u001b[0m__doc__\u001b[0m \u001b[1;33m=\u001b[0m \u001b[0m__doc__\u001b[0m\u001b[1;33m\u001b[0m\u001b[1;33m\u001b[0m\u001b[0m\n",
      "\u001b[1;32m~\\anaconda3\\lib\\site-packages\\pandas\\plotting\\_matplotlib\\__init__.py\u001b[0m in \u001b[0;36mplot\u001b[1;34m(data, kind, **kwargs)\u001b[0m\n\u001b[0;32m     69\u001b[0m             \u001b[0mkwargs\u001b[0m\u001b[1;33m[\u001b[0m\u001b[1;34m\"ax\"\u001b[0m\u001b[1;33m]\u001b[0m \u001b[1;33m=\u001b[0m \u001b[0mgetattr\u001b[0m\u001b[1;33m(\u001b[0m\u001b[0max\u001b[0m\u001b[1;33m,\u001b[0m \u001b[1;34m\"left_ax\"\u001b[0m\u001b[1;33m,\u001b[0m \u001b[0max\u001b[0m\u001b[1;33m)\u001b[0m\u001b[1;33m\u001b[0m\u001b[1;33m\u001b[0m\u001b[0m\n\u001b[0;32m     70\u001b[0m     \u001b[0mplot_obj\u001b[0m \u001b[1;33m=\u001b[0m \u001b[0mPLOT_CLASSES\u001b[0m\u001b[1;33m[\u001b[0m\u001b[0mkind\u001b[0m\u001b[1;33m]\u001b[0m\u001b[1;33m(\u001b[0m\u001b[0mdata\u001b[0m\u001b[1;33m,\u001b[0m \u001b[1;33m**\u001b[0m\u001b[0mkwargs\u001b[0m\u001b[1;33m)\u001b[0m\u001b[1;33m\u001b[0m\u001b[1;33m\u001b[0m\u001b[0m\n\u001b[1;32m---> 71\u001b[1;33m     \u001b[0mplot_obj\u001b[0m\u001b[1;33m.\u001b[0m\u001b[0mgenerate\u001b[0m\u001b[1;33m(\u001b[0m\u001b[1;33m)\u001b[0m\u001b[1;33m\u001b[0m\u001b[1;33m\u001b[0m\u001b[0m\n\u001b[0m\u001b[0;32m     72\u001b[0m     \u001b[0mplot_obj\u001b[0m\u001b[1;33m.\u001b[0m\u001b[0mdraw\u001b[0m\u001b[1;33m(\u001b[0m\u001b[1;33m)\u001b[0m\u001b[1;33m\u001b[0m\u001b[1;33m\u001b[0m\u001b[0m\n\u001b[0;32m     73\u001b[0m     \u001b[1;32mreturn\u001b[0m \u001b[0mplot_obj\u001b[0m\u001b[1;33m.\u001b[0m\u001b[0mresult\u001b[0m\u001b[1;33m\u001b[0m\u001b[1;33m\u001b[0m\u001b[0m\n",
      "\u001b[1;32m~\\anaconda3\\lib\\site-packages\\pandas\\plotting\\_matplotlib\\core.py\u001b[0m in \u001b[0;36mgenerate\u001b[1;34m(self)\u001b[0m\n\u001b[0;32m    284\u001b[0m     \u001b[1;32mdef\u001b[0m \u001b[0mgenerate\u001b[0m\u001b[1;33m(\u001b[0m\u001b[0mself\u001b[0m\u001b[1;33m)\u001b[0m\u001b[1;33m:\u001b[0m\u001b[1;33m\u001b[0m\u001b[1;33m\u001b[0m\u001b[0m\n\u001b[0;32m    285\u001b[0m         \u001b[0mself\u001b[0m\u001b[1;33m.\u001b[0m\u001b[0m_args_adjust\u001b[0m\u001b[1;33m(\u001b[0m\u001b[1;33m)\u001b[0m\u001b[1;33m\u001b[0m\u001b[1;33m\u001b[0m\u001b[0m\n\u001b[1;32m--> 286\u001b[1;33m         \u001b[0mself\u001b[0m\u001b[1;33m.\u001b[0m\u001b[0m_compute_plot_data\u001b[0m\u001b[1;33m(\u001b[0m\u001b[1;33m)\u001b[0m\u001b[1;33m\u001b[0m\u001b[1;33m\u001b[0m\u001b[0m\n\u001b[0m\u001b[0;32m    287\u001b[0m         \u001b[0mself\u001b[0m\u001b[1;33m.\u001b[0m\u001b[0m_setup_subplots\u001b[0m\u001b[1;33m(\u001b[0m\u001b[1;33m)\u001b[0m\u001b[1;33m\u001b[0m\u001b[1;33m\u001b[0m\u001b[0m\n\u001b[0;32m    288\u001b[0m         \u001b[0mself\u001b[0m\u001b[1;33m.\u001b[0m\u001b[0m_make_plot\u001b[0m\u001b[1;33m(\u001b[0m\u001b[1;33m)\u001b[0m\u001b[1;33m\u001b[0m\u001b[1;33m\u001b[0m\u001b[0m\n",
      "\u001b[1;32m~\\anaconda3\\lib\\site-packages\\pandas\\plotting\\_matplotlib\\core.py\u001b[0m in \u001b[0;36m_compute_plot_data\u001b[1;34m(self)\u001b[0m\n\u001b[0;32m    451\u001b[0m         \u001b[1;31m# no non-numeric frames or series allowed\u001b[0m\u001b[1;33m\u001b[0m\u001b[1;33m\u001b[0m\u001b[1;33m\u001b[0m\u001b[0m\n\u001b[0;32m    452\u001b[0m         \u001b[1;32mif\u001b[0m \u001b[0mis_empty\u001b[0m\u001b[1;33m:\u001b[0m\u001b[1;33m\u001b[0m\u001b[1;33m\u001b[0m\u001b[0m\n\u001b[1;32m--> 453\u001b[1;33m             \u001b[1;32mraise\u001b[0m \u001b[0mTypeError\u001b[0m\u001b[1;33m(\u001b[0m\u001b[1;34m\"no numeric data to plot\"\u001b[0m\u001b[1;33m)\u001b[0m\u001b[1;33m\u001b[0m\u001b[1;33m\u001b[0m\u001b[0m\n\u001b[0m\u001b[0;32m    454\u001b[0m \u001b[1;33m\u001b[0m\u001b[0m\n\u001b[0;32m    455\u001b[0m         \u001b[0mself\u001b[0m\u001b[1;33m.\u001b[0m\u001b[0mdata\u001b[0m \u001b[1;33m=\u001b[0m \u001b[0mnumeric_data\u001b[0m\u001b[1;33m.\u001b[0m\u001b[0mapply\u001b[0m\u001b[1;33m(\u001b[0m\u001b[0mself\u001b[0m\u001b[1;33m.\u001b[0m\u001b[0m_convert_to_ndarray\u001b[0m\u001b[1;33m)\u001b[0m\u001b[1;33m\u001b[0m\u001b[1;33m\u001b[0m\u001b[0m\n",
      "\u001b[1;31mTypeError\u001b[0m: no numeric data to plot"
     ]
    }
   ],
   "source": [
    "# 주차 공간의 분포를 확인한다.\n",
    "# 히스토그램은 숫자데이터만 가지고 있는 최대 최소를 가지고 있는 범위형 데이터에만 활용 가능.\n",
    "# 문자열이 섞여있으면 안됨.\n",
    "# 문자열 데이터를 가지고 범위를 잡아 그룹을 나누는 것 자체가 말이 되지 않기 떄문에\n",
    "# 오류가 발생한다.\n",
    "# 막대그래프로 그리는게 좋다.\n",
    "matzip['Parking'].plot.hist()\n",
    "plt.show()"
   ]
  },
  {
   "cell_type": "code",
   "execution_count": 68,
   "id": "6b275430-a428-4316-bb10-ae84bfcbf825",
   "metadata": {},
   "outputs": [
    {
     "data": {
      "image/png": "[encoded data removed]",
      "text/plain": [
       "<Figure size 864x432 with 1 Axes>"
      ]
     },
     "metadata": {
      "needs_background": "light"
     },
     "output_type": "display_data"
    }
   ],
   "source": [
    "# x축 라벨을 회전시킨다.\n",
    "plt.xticks(rotation=90)\n",
    "# 막대그래프로 확인한다.\n",
    "sns.countplot(x='Parking', data=matzip)\n",
    "\n",
    "# Series로 그리는 것\n",
    "# a1 = matzip['Parking'].value_counts()\n",
    "# a1.plot.bar()\n",
    "\n",
    "\n",
    "\n",
    "plt.show()"
   ]
  },
  {
   "cell_type": "code",
   "execution_count": 70,
   "id": "7a5831df-171a-4e21-85f8-5797451fe908",
   "metadata": {},
   "outputs": [
    {
     "data": {
      "text/plain": [
       "0       주차공간없음\n",
       "1      유료주차 가능\n",
       "2       주차공간없음\n",
       "3           발렛\n",
       "4      유료주차 가능\n",
       "        ...   \n",
       "395     주차공간없음\n",
       "396     주차공간없음\n",
       "397    유료주차 가능\n",
       "398     주차공간없음\n",
       "399    유료주차 가능\n",
       "Name: Parking, Length: 400, dtype: object"
      ]
     },
     "execution_count": 70,
     "metadata": {},
     "output_type": "execute_result"
    }
   ],
   "source": [
    "# Parking에 저장되어 있는 값의 목록을 출력한다.\n",
    "matzip['Parking']"
   ]
  },
  {
   "cell_type": "code",
   "execution_count": 71,
   "id": "e99ed121-5315-4c4c-9f55-0e5dbcb8d13b",
   "metadata": {},
   "outputs": [
    {
     "data": {
      "text/plain": [
       "주차공간없음                270\n",
       "유료주차 가능                89\n",
       "무료주차 가능                24\n",
       "발렛                      8\n",
       "유료주차 가능 2시간 무료          3\n",
       "무료주차 가능 2시간 무료          2\n",
       "유료주차 가능 주차권 2시간 제공      1\n",
       "무료주차 가능 당일 무료           1\n",
       "유료주차 가능 1시간 무료          1\n",
       "유료주차 가능 1.5시간 무료        1\n",
       "Name: Parking, dtype: int64"
      ]
     },
     "execution_count": 71,
     "metadata": {},
     "output_type": "execute_result"
    }
   ],
   "source": [
    "matzip['Parking'].value_counts()"
   ]
  },
  {
   "cell_type": "code",
   "execution_count": 75,
   "id": "9574883d-fba3-4f9c-b9b7-77af871d3084",
   "metadata": {},
   "outputs": [
    {
     "data": {
      "text/plain": [
       "Index(['주차공간없음', '유료주차 가능', '무료주차 가능', '발렛', '유료주차 가능 2시간 무료',\n",
       "       '무료주차 가능 2시간 무료', '유료주차 가능 주차권 2시간 제공', '무료주차 가능 당일 무료',\n",
       "       '유료주차 가능 1시간 무료', '유료주차 가능 1.5시간 무료'],\n",
       "      dtype='object')"
      ]
     },
     "execution_count": 75,
     "metadata": {},
     "output_type": "execute_result"
    }
   ],
   "source": [
    "# 인덱스 값 종류 확인, 주차공간 상태.\n",
    "a1 = matzip['Parking'].value_counts().index\n",
    "a1"
   ]
  },
  {
   "cell_type": "code",
   "execution_count": 77,
   "id": "a5d4858c-79f1-4bb6-9db8-935171e32628",
   "metadata": {},
   "outputs": [
    {
     "data": {
      "text/html": [
       "<div>\n",
       "<style scoped>\n",
       "    .dataframe tbody tr th:only-of-type {\n",
       "        vertical-align: middle;\n",
       "    }\n",
       "\n",
       "    .dataframe tbody tr th {\n",
       "        vertical-align: top;\n",
       "    }\n",
       "\n",
       "    .dataframe thead th {\n",
       "        text-align: right;\n",
       "    }\n",
       "</style>\n",
       "<table border=\"1\" class=\"dataframe\">\n",
       "  <thead>\n",
       "    <tr style=\"text-align: right;\">\n",
       "      <th></th>\n",
       "      <th>Restaurant Name</th>\n",
       "      <th>Rating</th>\n",
       "      <th>Address</th>\n",
       "      <th>Tel</th>\n",
       "      <th>Food</th>\n",
       "      <th>Price</th>\n",
       "      <th>Parking</th>\n",
       "      <th>Operating Time</th>\n",
       "      <th>Holiday</th>\n",
       "    </tr>\n",
       "  </thead>\n",
       "  <tbody>\n",
       "    <tr>\n",
       "      <th>0</th>\n",
       "      <td>이나니와요스케</td>\n",
       "      <td>4.4</td>\n",
       "      <td>서울시 중구 을지로1가 192-11</td>\n",
       "      <td>02-772-9994</td>\n",
       "      <td>라멘 / 소바 / 우동</td>\n",
       "      <td>20000</td>\n",
       "      <td>주차공간없음</td>\n",
       "      <td>11:00 - 23:00</td>\n",
       "      <td>일</td>\n",
       "    </tr>\n",
       "    <tr>\n",
       "      <th>1</th>\n",
       "      <td>바오차이</td>\n",
       "      <td>4.4</td>\n",
       "      <td>서울시 중구 을지로2가 203</td>\n",
       "      <td>02-6031-0107</td>\n",
       "      <td>정통 중식 / 일반 중식</td>\n",
       "      <td>30000</td>\n",
       "      <td>유료주차 가능</td>\n",
       "      <td>11:30 - 21:30</td>\n",
       "      <td>연중무휴</td>\n",
       "    </tr>\n",
       "    <tr>\n",
       "      <th>2</th>\n",
       "      <td>라칸티나</td>\n",
       "      <td>4.4</td>\n",
       "      <td>서울시 중구 을지로1가 50</td>\n",
       "      <td>02-777-2579</td>\n",
       "      <td>이탈리안</td>\n",
       "      <td>40000</td>\n",
       "      <td>주차공간없음</td>\n",
       "      <td>월-토: 11:30 - 23:00 일: 17:30 - 23:00</td>\n",
       "      <td>연중무휴</td>\n",
       "    </tr>\n",
       "    <tr>\n",
       "      <th>3</th>\n",
       "      <td>라세느</td>\n",
       "      <td>4.3</td>\n",
       "      <td>서울시 중구 소공동 1</td>\n",
       "      <td>02-317-7171</td>\n",
       "      <td>뷔페</td>\n",
       "      <td>40000</td>\n",
       "      <td>발렛</td>\n",
       "      <td>06:00 - 22:00</td>\n",
       "      <td>연중무휴</td>\n",
       "    </tr>\n",
       "    <tr>\n",
       "      <th>4</th>\n",
       "      <td>산수갑산</td>\n",
       "      <td>4.3</td>\n",
       "      <td>서울시 중구 인현동1가 15-4</td>\n",
       "      <td>02-2275-6654</td>\n",
       "      <td>탕 / 찌개 / 전골</td>\n",
       "      <td>10000</td>\n",
       "      <td>유료주차 가능</td>\n",
       "      <td>월-금: 11:30 - 22:00 토: 11:30 - 20:00</td>\n",
       "      <td>일</td>\n",
       "    </tr>\n",
       "    <tr>\n",
       "      <th>...</th>\n",
       "      <td>...</td>\n",
       "      <td>...</td>\n",
       "      <td>...</td>\n",
       "      <td>...</td>\n",
       "      <td>...</td>\n",
       "      <td>...</td>\n",
       "      <td>...</td>\n",
       "      <td>...</td>\n",
       "      <td>...</td>\n",
       "    </tr>\n",
       "    <tr>\n",
       "      <th>395</th>\n",
       "      <td>누룩나무</td>\n",
       "      <td>4.0</td>\n",
       "      <td>서울시 종로구 관훈동 118-19</td>\n",
       "      <td>02-722-3398</td>\n",
       "      <td>전통 주점 / 포차</td>\n",
       "      <td>20000</td>\n",
       "      <td>주차공간없음</td>\n",
       "      <td>17:00 - 01:30</td>\n",
       "      <td>일</td>\n",
       "    </tr>\n",
       "    <tr>\n",
       "      <th>396</th>\n",
       "      <td>옴</td>\n",
       "      <td>4.0</td>\n",
       "      <td>서울시 종로구 신문로1가 2</td>\n",
       "      <td>02-723-4848</td>\n",
       "      <td>인도 음식</td>\n",
       "      <td>20000</td>\n",
       "      <td>주차공간없음</td>\n",
       "      <td>11:00 - 22:00</td>\n",
       "      <td>연중무휴</td>\n",
       "    </tr>\n",
       "    <tr>\n",
       "      <th>397</th>\n",
       "      <td>코블러</td>\n",
       "      <td>4.0</td>\n",
       "      <td>서울시 종로구 내자동 157</td>\n",
       "      <td>02-733-6421</td>\n",
       "      <td>칵테일 / 와인</td>\n",
       "      <td>20000</td>\n",
       "      <td>유료주차 가능</td>\n",
       "      <td>19:00 - 03:00</td>\n",
       "      <td>일</td>\n",
       "    </tr>\n",
       "    <tr>\n",
       "      <th>398</th>\n",
       "      <td>클류치</td>\n",
       "      <td>4.0</td>\n",
       "      <td>서울시 종로구 명륜3가 79-1</td>\n",
       "      <td>010-2702-1496</td>\n",
       "      <td>카페 / 디저트</td>\n",
       "      <td>10000</td>\n",
       "      <td>주차공간없음</td>\n",
       "      <td>월-토: 10:00 - 23:00 일: 11:00 - 20:00</td>\n",
       "      <td>연중무휴</td>\n",
       "    </tr>\n",
       "    <tr>\n",
       "      <th>399</th>\n",
       "      <td>도토리</td>\n",
       "      <td>4.0</td>\n",
       "      <td>서울시 종로구 안국동 24-1</td>\n",
       "      <td>02-6405-8153</td>\n",
       "      <td>기타 한식</td>\n",
       "      <td>10000</td>\n",
       "      <td>유료주차 가능</td>\n",
       "      <td>월-금: 10:30 - 21:00 토-일: 10:30 - 22:00</td>\n",
       "      <td>연중무휴</td>\n",
       "    </tr>\n",
       "  </tbody>\n",
       "</table>\n",
       "<p>245 rows × 9 columns</p>\n",
       "</div>"
      ],
      "text/plain": [
       "    Restaurant Name  Rating              Address            Tel  \\\n",
       "0           이나니와요스케     4.4  서울시 중구 을지로1가 192-11    02-772-9994   \n",
       "1              바오차이     4.4     서울시 중구 을지로2가 203   02-6031-0107   \n",
       "2              라칸티나     4.4      서울시 중구 을지로1가 50    02-777-2579   \n",
       "3               라세느     4.3         서울시 중구 소공동 1    02-317-7171   \n",
       "4              산수갑산     4.3    서울시 중구 인현동1가 15-4   02-2275-6654   \n",
       "..              ...     ...                  ...            ...   \n",
       "395            누룩나무     4.0   서울시 종로구 관훈동 118-19    02-722-3398   \n",
       "396               옴     4.0      서울시 종로구 신문로1가 2    02-723-4848   \n",
       "397             코블러     4.0      서울시 종로구 내자동 157    02-733-6421   \n",
       "398             클류치     4.0    서울시 종로구 명륜3가 79-1  010-2702-1496   \n",
       "399             도토리     4.0     서울시 종로구 안국동 24-1   02-6405-8153   \n",
       "\n",
       "              Food  Price  Parking                         Operating Time  \\\n",
       "0     라멘 / 소바 / 우동  20000   주차공간없음                          11:00 - 23:00   \n",
       "1    정통 중식 / 일반 중식  30000  유료주차 가능                          11:30 - 21:30   \n",
       "2             이탈리안  40000   주차공간없음    월-토: 11:30 - 23:00 일: 17:30 - 23:00   \n",
       "3               뷔페  40000       발렛                          06:00 - 22:00   \n",
       "4      탕 / 찌개 / 전골  10000  유료주차 가능    월-금: 11:30 - 22:00 토: 11:30 - 20:00   \n",
       "..             ...    ...      ...                                    ...   \n",
       "395     전통 주점 / 포차  20000   주차공간없음                          17:00 - 01:30   \n",
       "396          인도 음식  20000   주차공간없음                          11:00 - 22:00   \n",
       "397       칵테일 / 와인  20000  유료주차 가능                          19:00 - 03:00   \n",
       "398       카페 / 디저트  10000   주차공간없음    월-토: 10:00 - 23:00 일: 11:00 - 20:00   \n",
       "399          기타 한식  10000  유료주차 가능  월-금: 10:30 - 21:00 토-일: 10:30 - 22:00   \n",
       "\n",
       "    Holiday  \n",
       "0         일  \n",
       "1      연중무휴  \n",
       "2      연중무휴  \n",
       "3      연중무휴  \n",
       "4         일  \n",
       "..      ...  \n",
       "395       일  \n",
       "396    연중무휴  \n",
       "397       일  \n",
       "398    연중무휴  \n",
       "399    연중무휴  \n",
       "\n",
       "[245 rows x 9 columns]"
      ]
     },
     "execution_count": 77,
     "metadata": {},
     "output_type": "execute_result"
    }
   ],
   "source": [
    "# 평점이 0.0인 것은 제외한다.\n",
    "idx2 = matzip.query('Rating ==0.0').index\n",
    "matzip_temp = matzip.drop(idx2)\n",
    "matzip_temp"
   ]
  },
  {
   "cell_type": "code",
   "execution_count": 80,
   "id": "a7fc2fa1-2d8c-4eca-bda0-1695d23b5bfe",
   "metadata": {
    "tags": []
   },
   "outputs": [
    {
     "data": {
      "text/plain": [
       "Int64Index([  0,   2,   6,   7,   8,   9,  10,  13,  14,  16,\n",
       "            ...\n",
       "            380, 381, 382, 384, 386, 388, 393, 395, 396, 398],\n",
       "           dtype='int64', length=150)"
      ]
     },
     "metadata": {},
     "output_type": "display_data"
    },
    {
     "data": {
      "text/plain": [
       "Int64Index([  1,   4,   5,  12,  15,  17,  32,  34,  38,  39,  41,  44, 200,\n",
       "            201, 203, 212, 215, 220, 224, 227, 233, 234, 241, 243, 247, 253,\n",
       "            266, 272, 273, 274, 277, 281, 299, 302, 303, 305, 308, 312, 321,\n",
       "            332, 335, 341, 343, 347, 348, 349, 350, 351, 356, 359, 361, 368,\n",
       "            369, 383, 385, 389, 390, 391, 394, 397, 399],\n",
       "           dtype='int64')"
      ]
     },
     "metadata": {},
     "output_type": "display_data"
    },
    {
     "data": {
      "text/plain": [
       "Int64Index([ 19, 209, 231, 246, 250, 251, 254, 258, 279, 286, 289, 290, 324,\n",
       "            325, 363, 371, 373, 387, 392],\n",
       "           dtype='int64')"
      ]
     },
     "metadata": {},
     "output_type": "display_data"
    },
    {
     "data": {
      "text/plain": [
       "Int64Index([3, 204, 278, 283, 309, 318, 357, 377], dtype='int64')"
      ]
     },
     "metadata": {},
     "output_type": "display_data"
    },
    {
     "data": {
      "text/plain": [
       "Int64Index([313, 334, 352], dtype='int64')"
      ]
     },
     "metadata": {},
     "output_type": "display_data"
    },
    {
     "data": {
      "text/plain": [
       "Int64Index([202], dtype='int64')"
      ]
     },
     "metadata": {},
     "output_type": "display_data"
    },
    {
     "data": {
      "text/plain": [
       "Int64Index([11], dtype='int64')"
      ]
     },
     "metadata": {},
     "output_type": "display_data"
    },
    {
     "data": {
      "text/plain": [
       "Int64Index([], dtype='int64')"
      ]
     },
     "metadata": {},
     "output_type": "display_data"
    },
    {
     "data": {
      "text/plain": [
       "Int64Index([219], dtype='int64')"
      ]
     },
     "metadata": {},
     "output_type": "display_data"
    },
    {
     "data": {
      "text/plain": [
       "Int64Index([223], dtype='int64')"
      ]
     },
     "metadata": {},
     "output_type": "display_data"
    }
   ],
   "source": [
    "# Parking에 저장되어 있는 값 만큼 반복한다.\n",
    "for value in a1:\n",
    "#      print(value)\n",
    "# 각 값에 해당하는 로우의 인덱스를 가져온다.\n",
    "        idx = matzip_temp.query(f'Parking == \"{value}\"').index\n",
    "        display(idx)"
   ]
  },
  {
   "cell_type": "code",
   "execution_count": 91,
   "id": "dff1135c-f75b-4182-86ac-f719d306a7e1",
   "metadata": {
    "collapsed": true,
    "jupyter": {
     "outputs_hidden": true
    },
    "tags": []
   },
   "outputs": [
    {
     "name": "stdout",
     "output_type": "stream",
     "text": [
      "주차공간없음 : 4.106000000000003\n"
     ]
    },
    {
     "data": {
      "image/png": "[encoded data removed]",
      "text/plain": [
       "<Figure size 864x432 with 1 Axes>"
      ]
     },
     "metadata": {
      "needs_background": "light"
     },
     "output_type": "display_data"
    },
    {
     "name": "stdout",
     "output_type": "stream",
     "text": [
      "유료주차 가능 : 4.090163934426228\n"
     ]
    },
    {
     "data": {
      "image/png": "[encoded data removed]",
      "text/plain": [
       "<Figure size 864x432 with 1 Axes>"
      ]
     },
     "metadata": {
      "needs_background": "light"
     },
     "output_type": "display_data"
    },
    {
     "name": "stdout",
     "output_type": "stream",
     "text": [
      "무료주차 가능 : 4.173684210526316\n"
     ]
    },
    {
     "data": {
      "image/png": "[encoded data removed]",
      "text/plain": [
       "<Figure size 864x432 with 1 Axes>"
      ]
     },
     "metadata": {
      "needs_background": "light"
     },
     "output_type": "display_data"
    },
    {
     "name": "stdout",
     "output_type": "stream",
     "text": [
      "발렛 : 4.1875\n"
     ]
    },
    {
     "data": {
      "image/png": "[encoded data removed]",
      "text/plain": [
       "<Figure size 864x432 with 1 Axes>"
      ]
     },
     "metadata": {
      "needs_background": "light"
     },
     "output_type": "display_data"
    },
    {
     "name": "stdout",
     "output_type": "stream",
     "text": [
      "유료주차 가능 2시간 무료 : 4.066666666666666\n"
     ]
    },
    {
     "data": {
      "image/png": "[encoded data removed]",
      "text/plain": [
       "<Figure size 864x432 with 1 Axes>"
      ]
     },
     "metadata": {
      "needs_background": "light"
     },
     "output_type": "display_data"
    },
    {
     "name": "stdout",
     "output_type": "stream",
     "text": [
      "무료주차 가능 2시간 무료 : 4.7\n"
     ]
    },
    {
     "data": {
      "image/png": "[encoded data removed]",
      "text/plain": [
       "<Figure size 864x432 with 1 Axes>"
      ]
     },
     "metadata": {
      "needs_background": "light"
     },
     "output_type": "display_data"
    },
    {
     "name": "stdout",
     "output_type": "stream",
     "text": [
      "유료주차 가능 주차권 2시간 제공 : 4.1\n"
     ]
    },
    {
     "data": {
      "image/png": "[encoded data removed]",
      "text/plain": [
       "<Figure size 864x432 with 1 Axes>"
      ]
     },
     "metadata": {
      "needs_background": "light"
     },
     "output_type": "display_data"
    },
    {
     "name": "stdout",
     "output_type": "stream",
     "text": [
      "무료주차 가능 당일 무료 : nan\n"
     ]
    },
    {
     "data": {
      "image/png": "[encoded data removed]",
      "text/plain": [
       "<Figure size 864x432 with 1 Axes>"
      ]
     },
     "metadata": {
      "needs_background": "light"
     },
     "output_type": "display_data"
    },
    {
     "name": "stdout",
     "output_type": "stream",
     "text": [
      "유료주차 가능 1시간 무료 : 4.4\n"
     ]
    },
    {
     "data": {
      "image/png": "[encoded data removed]",
      "text/plain": [
       "<Figure size 864x432 with 1 Axes>"
      ]
     },
     "metadata": {
      "needs_background": "light"
     },
     "output_type": "display_data"
    },
    {
     "name": "stdout",
     "output_type": "stream",
     "text": [
      "유료주차 가능 1.5시간 무료 : 4.4\n"
     ]
    },
    {
     "data": {
      "image/png": "[encoded data removed]",
      "text/plain": [
       "<Figure size 864x432 with 1 Axes>"
      ]
     },
     "metadata": {
      "needs_background": "light"
     },
     "output_type": "display_data"
    }
   ],
   "source": [
    "for value in a1:\n",
    "#      print(value)\n",
    "# 각 값에 해당하는 로우의 인덱스를 가져온다.\n",
    "# @변수 이름도 가능\n",
    "        idx = matzip_temp.query('Parking == @value').index\n",
    "        #display(idx)\n",
    "        \n",
    "        #idx에 해당하는 데이터들 중 평점을 가져온다.\n",
    "        rating = matzip_temp.loc[idx, 'Rating']\n",
    "        #display(rating)\n",
    "        \n",
    "        #평점 평균을 구한다.\n",
    "        rating_mean = rating.mean()\n",
    "        print(f'{value} : {rating_mean}')\n",
    "        \n",
    "        #평점 분포를 확인한다.\n",
    "        rating.plot.hist()\n",
    "        plt.xlim(0, 5)\n",
    "        plt.show()"
   ]
  },
  {
   "cell_type": "code",
   "execution_count": null,
   "id": "4bf1ce7f-dc80-479e-a2f5-f5d6e9d0c5b5",
   "metadata": {},
   "outputs": [],
   "source": []
  }
 ],
 "metadata": {
  "kernelspec": {
   "display_name": "Python 3",
   "language": "python",
   "name": "python3"
  },
  "language_info": {
   "codemirror_mode": {
    "name": "ipython",
    "version": 3
   },
   "file_extension": ".py",
   "mimetype": "text/x-python",
   "name": "python",
   "nbconvert_exporter": "python",
   "pygments_lexer": "ipython3",
   "version": "3.8.8"
  }
 },
 "nbformat": 4,
 "nbformat_minor": 5
}
