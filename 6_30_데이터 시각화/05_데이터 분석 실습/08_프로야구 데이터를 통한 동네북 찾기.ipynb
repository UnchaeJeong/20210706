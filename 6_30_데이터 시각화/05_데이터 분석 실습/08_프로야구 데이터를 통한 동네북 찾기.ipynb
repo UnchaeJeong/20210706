{
 "cells": [
  {
   "cell_type": "code",
   "execution_count": 1,
   "id": "3ec36ef2-7525-4472-92b4-702a7817a7cf",
   "metadata": {},
   "outputs": [],
   "source": [
    "import numpy as np\n",
    "import pandas as pd\n",
    "import matplotlib.pyplot as plt\n",
    "import seaborn as sns\n",
    "\n",
    "# 불필요한 경고 메시지를 나오지 않도록 한다.\n",
    "import warnings\n",
    "warnings.filterwarnings('ignore')\n",
    "\n",
    "#seaborn에서 제공하는 라이브러리\n",
    "#sns.set_style(\"ticks\")\n",
    "# sns.set_style(\"darkgrid\")\n",
    "#sns.set_style(\"whitegrid\")\n",
    "\n",
    "#그래프를 그리기 위한 기본 설정\n",
    "#폰트 설정 - 윈도우\n",
    "plt.rcParams['font.family'] = 'Malgun Gothic'\n",
    "# 폰트 설정 - 맥\n",
    "# plt.rcParams['font.family'] = 'AppleGothic'\n",
    "\n",
    "#그래프의 크기\n",
    "plt.rcParams['figure.figsize'] = 12, 6\n",
    "\n",
    "#글자 크기\n",
    "plt.rcParams['font.size'] = 14\n",
    "\n",
    "#폰트 설정 시 - 기호 깨지는 것 방지하기\n",
    "plt.rcParams['axes.unicode_minus'] = False\n",
    "\n",
    "#plt.rcParams['figure.facecolor'] = 'white'\n",
    "import missingno\n"
   ]
  },
  {
   "cell_type": "markdown",
   "id": "50bd49bd-b41e-400e-b6b6-595a043a1881",
   "metadata": {},
   "source": [
    "### 각 팀별 승률을 확인한다."
   ]
  },
  {
   "cell_type": "code",
   "execution_count": 2,
   "id": "3fc9a367-59f3-4452-934e-bed088dfa3c9",
   "metadata": {},
   "outputs": [
    {
     "data": {
      "text/html": [
       "<div>\n",
       "<style scoped>\n",
       "    .dataframe tbody tr th:only-of-type {\n",
       "        vertical-align: middle;\n",
       "    }\n",
       "\n",
       "    .dataframe tbody tr th {\n",
       "        vertical-align: top;\n",
       "    }\n",
       "\n",
       "    .dataframe thead th {\n",
       "        text-align: right;\n",
       "    }\n",
       "</style>\n",
       "<table border=\"1\" class=\"dataframe\">\n",
       "  <thead>\n",
       "    <tr style=\"text-align: right;\">\n",
       "      <th></th>\n",
       "      <th>경기날짜</th>\n",
       "      <th>팀1 이름</th>\n",
       "      <th>팀2 이름</th>\n",
       "      <th>팀1 점수</th>\n",
       "      <th>팀2 점수</th>\n",
       "      <th>팀1 투수</th>\n",
       "      <th>팀2 투수</th>\n",
       "    </tr>\n",
       "  </thead>\n",
       "  <tbody>\n",
       "    <tr>\n",
       "      <th>0</th>\n",
       "      <td>20080329</td>\n",
       "      <td>롯데</td>\n",
       "      <td>한화</td>\n",
       "      <td>11</td>\n",
       "      <td>1</td>\n",
       "      <td>NaN</td>\n",
       "      <td>NaN</td>\n",
       "    </tr>\n",
       "    <tr>\n",
       "      <th>1</th>\n",
       "      <td>20080329</td>\n",
       "      <td>LG</td>\n",
       "      <td>SK</td>\n",
       "      <td>4</td>\n",
       "      <td>5</td>\n",
       "      <td>NaN</td>\n",
       "      <td>NaN</td>\n",
       "    </tr>\n",
       "    <tr>\n",
       "      <th>2</th>\n",
       "      <td>20080329</td>\n",
       "      <td>KIA</td>\n",
       "      <td>삼성</td>\n",
       "      <td>3</td>\n",
       "      <td>4</td>\n",
       "      <td>NaN</td>\n",
       "      <td>NaN</td>\n",
       "    </tr>\n",
       "    <tr>\n",
       "      <th>3</th>\n",
       "      <td>20080329</td>\n",
       "      <td>롯데</td>\n",
       "      <td>한화</td>\n",
       "      <td>11</td>\n",
       "      <td>1</td>\n",
       "      <td>NaN</td>\n",
       "      <td>NaN</td>\n",
       "    </tr>\n",
       "    <tr>\n",
       "      <th>4</th>\n",
       "      <td>20080329</td>\n",
       "      <td>LG</td>\n",
       "      <td>SK</td>\n",
       "      <td>4</td>\n",
       "      <td>5</td>\n",
       "      <td>NaN</td>\n",
       "      <td>NaN</td>\n",
       "    </tr>\n",
       "    <tr>\n",
       "      <th>...</th>\n",
       "      <td>...</td>\n",
       "      <td>...</td>\n",
       "      <td>...</td>\n",
       "      <td>...</td>\n",
       "      <td>...</td>\n",
       "      <td>...</td>\n",
       "      <td>...</td>\n",
       "    </tr>\n",
       "    <tr>\n",
       "      <th>8744</th>\n",
       "      <td>20201118</td>\n",
       "      <td>두산</td>\n",
       "      <td>NC</td>\n",
       "      <td>5</td>\n",
       "      <td>4</td>\n",
       "      <td>플렉센</td>\n",
       "      <td>구창모</td>\n",
       "    </tr>\n",
       "    <tr>\n",
       "      <th>8745</th>\n",
       "      <td>20201120</td>\n",
       "      <td>NC</td>\n",
       "      <td>두산</td>\n",
       "      <td>6</td>\n",
       "      <td>7</td>\n",
       "      <td>임정호</td>\n",
       "      <td>박치국</td>\n",
       "    </tr>\n",
       "    <tr>\n",
       "      <th>8746</th>\n",
       "      <td>20201121</td>\n",
       "      <td>NC</td>\n",
       "      <td>두산</td>\n",
       "      <td>3</td>\n",
       "      <td>0</td>\n",
       "      <td>송명기</td>\n",
       "      <td>김민규</td>\n",
       "    </tr>\n",
       "    <tr>\n",
       "      <th>8747</th>\n",
       "      <td>20201123</td>\n",
       "      <td>두산</td>\n",
       "      <td>NC</td>\n",
       "      <td>0</td>\n",
       "      <td>5</td>\n",
       "      <td>플렉센</td>\n",
       "      <td>구창모</td>\n",
       "    </tr>\n",
       "    <tr>\n",
       "      <th>8748</th>\n",
       "      <td>20201124</td>\n",
       "      <td>두산</td>\n",
       "      <td>NC</td>\n",
       "      <td>2</td>\n",
       "      <td>4</td>\n",
       "      <td>알칸타라</td>\n",
       "      <td>루친스키</td>\n",
       "    </tr>\n",
       "  </tbody>\n",
       "</table>\n",
       "<p>8749 rows × 7 columns</p>\n",
       "</div>"
      ],
      "text/plain": [
       "          경기날짜 팀1 이름 팀2 이름  팀1 점수  팀2 점수 팀1 투수 팀2 투수\n",
       "0     20080329    롯데    한화     11      1   NaN   NaN\n",
       "1     20080329    LG    SK      4      5   NaN   NaN\n",
       "2     20080329   KIA    삼성      3      4   NaN   NaN\n",
       "3     20080329    롯데    한화     11      1   NaN   NaN\n",
       "4     20080329    LG    SK      4      5   NaN   NaN\n",
       "...        ...   ...   ...    ...    ...   ...   ...\n",
       "8744  20201118    두산    NC      5      4   플렉센   구창모\n",
       "8745  20201120    NC    두산      6      7   임정호   박치국\n",
       "8746  20201121    NC    두산      3      0   송명기   김민규\n",
       "8747  20201123    두산    NC      0      5   플렉센   구창모\n",
       "8748  20201124    두산    NC      2      4  알칸타라  루친스키\n",
       "\n",
       "[8749 rows x 7 columns]"
      ]
     },
     "execution_count": 2,
     "metadata": {},
     "output_type": "execute_result"
    }
   ],
   "source": [
    "# 데이터를 읽어온다.\n",
    "df1 = pd.read_csv('data2/baseball2.csv')\n",
    "df1"
   ]
  },
  {
   "cell_type": "code",
   "execution_count": 3,
   "id": "c6ed1091-6aa1-40fb-b5e6-5bd6eee8f6cb",
   "metadata": {},
   "outputs": [
    {
     "data": {
      "text/html": [
       "<div>\n",
       "<style scoped>\n",
       "    .dataframe tbody tr th:only-of-type {\n",
       "        vertical-align: middle;\n",
       "    }\n",
       "\n",
       "    .dataframe tbody tr th {\n",
       "        vertical-align: top;\n",
       "    }\n",
       "\n",
       "    .dataframe thead th {\n",
       "        text-align: right;\n",
       "    }\n",
       "</style>\n",
       "<table border=\"1\" class=\"dataframe\">\n",
       "  <thead>\n",
       "    <tr style=\"text-align: right;\">\n",
       "      <th></th>\n",
       "      <th>경기날짜</th>\n",
       "      <th>팀1 이름</th>\n",
       "      <th>팀2 이름</th>\n",
       "      <th>팀1 점수</th>\n",
       "      <th>팀2 점수</th>\n",
       "    </tr>\n",
       "  </thead>\n",
       "  <tbody>\n",
       "    <tr>\n",
       "      <th>0</th>\n",
       "      <td>20080329</td>\n",
       "      <td>롯데</td>\n",
       "      <td>한화</td>\n",
       "      <td>11</td>\n",
       "      <td>1</td>\n",
       "    </tr>\n",
       "    <tr>\n",
       "      <th>1</th>\n",
       "      <td>20080329</td>\n",
       "      <td>LG</td>\n",
       "      <td>SK</td>\n",
       "      <td>4</td>\n",
       "      <td>5</td>\n",
       "    </tr>\n",
       "    <tr>\n",
       "      <th>2</th>\n",
       "      <td>20080329</td>\n",
       "      <td>KIA</td>\n",
       "      <td>삼성</td>\n",
       "      <td>3</td>\n",
       "      <td>4</td>\n",
       "    </tr>\n",
       "    <tr>\n",
       "      <th>3</th>\n",
       "      <td>20080329</td>\n",
       "      <td>롯데</td>\n",
       "      <td>한화</td>\n",
       "      <td>11</td>\n",
       "      <td>1</td>\n",
       "    </tr>\n",
       "    <tr>\n",
       "      <th>4</th>\n",
       "      <td>20080329</td>\n",
       "      <td>LG</td>\n",
       "      <td>SK</td>\n",
       "      <td>4</td>\n",
       "      <td>5</td>\n",
       "    </tr>\n",
       "    <tr>\n",
       "      <th>...</th>\n",
       "      <td>...</td>\n",
       "      <td>...</td>\n",
       "      <td>...</td>\n",
       "      <td>...</td>\n",
       "      <td>...</td>\n",
       "    </tr>\n",
       "    <tr>\n",
       "      <th>8744</th>\n",
       "      <td>20201118</td>\n",
       "      <td>두산</td>\n",
       "      <td>NC</td>\n",
       "      <td>5</td>\n",
       "      <td>4</td>\n",
       "    </tr>\n",
       "    <tr>\n",
       "      <th>8745</th>\n",
       "      <td>20201120</td>\n",
       "      <td>NC</td>\n",
       "      <td>두산</td>\n",
       "      <td>6</td>\n",
       "      <td>7</td>\n",
       "    </tr>\n",
       "    <tr>\n",
       "      <th>8746</th>\n",
       "      <td>20201121</td>\n",
       "      <td>NC</td>\n",
       "      <td>두산</td>\n",
       "      <td>3</td>\n",
       "      <td>0</td>\n",
       "    </tr>\n",
       "    <tr>\n",
       "      <th>8747</th>\n",
       "      <td>20201123</td>\n",
       "      <td>두산</td>\n",
       "      <td>NC</td>\n",
       "      <td>0</td>\n",
       "      <td>5</td>\n",
       "    </tr>\n",
       "    <tr>\n",
       "      <th>8748</th>\n",
       "      <td>20201124</td>\n",
       "      <td>두산</td>\n",
       "      <td>NC</td>\n",
       "      <td>2</td>\n",
       "      <td>4</td>\n",
       "    </tr>\n",
       "  </tbody>\n",
       "</table>\n",
       "<p>8749 rows × 5 columns</p>\n",
       "</div>"
      ],
      "text/plain": [
       "          경기날짜 팀1 이름 팀2 이름  팀1 점수  팀2 점수\n",
       "0     20080329    롯데    한화     11      1\n",
       "1     20080329    LG    SK      4      5\n",
       "2     20080329   KIA    삼성      3      4\n",
       "3     20080329    롯데    한화     11      1\n",
       "4     20080329    LG    SK      4      5\n",
       "...        ...   ...   ...    ...    ...\n",
       "8744  20201118    두산    NC      5      4\n",
       "8745  20201120    NC    두산      6      7\n",
       "8746  20201121    NC    두산      3      0\n",
       "8747  20201123    두산    NC      0      5\n",
       "8748  20201124    두산    NC      2      4\n",
       "\n",
       "[8749 rows x 5 columns]"
      ]
     },
     "execution_count": 3,
     "metadata": {},
     "output_type": "execute_result"
    }
   ],
   "source": [
    "# 필요한 데이터만 가져온다.\n",
    "df2 = df1[['경기날짜', '팀1 이름', '팀2 이름', '팀1 점수', '팀2 점수']]\n",
    "df2"
   ]
  },
  {
   "cell_type": "code",
   "execution_count": 4,
   "id": "8237a0a0-662e-4b8a-a06f-3b70ba9a6bed",
   "metadata": {},
   "outputs": [
    {
     "data": {
      "text/html": [
       "<div>\n",
       "<style scoped>\n",
       "    .dataframe tbody tr th:only-of-type {\n",
       "        vertical-align: middle;\n",
       "    }\n",
       "\n",
       "    .dataframe tbody tr th {\n",
       "        vertical-align: top;\n",
       "    }\n",
       "\n",
       "    .dataframe thead th {\n",
       "        text-align: right;\n",
       "    }\n",
       "</style>\n",
       "<table border=\"1\" class=\"dataframe\">\n",
       "  <thead>\n",
       "    <tr style=\"text-align: right;\">\n",
       "      <th></th>\n",
       "      <th>경기날짜</th>\n",
       "      <th>팀1 이름</th>\n",
       "      <th>팀2 이름</th>\n",
       "      <th>팀1 점수</th>\n",
       "      <th>팀2 점수</th>\n",
       "    </tr>\n",
       "  </thead>\n",
       "  <tbody>\n",
       "    <tr>\n",
       "      <th>0</th>\n",
       "      <td>20080329</td>\n",
       "      <td>롯데</td>\n",
       "      <td>한화</td>\n",
       "      <td>11</td>\n",
       "      <td>1</td>\n",
       "    </tr>\n",
       "    <tr>\n",
       "      <th>1</th>\n",
       "      <td>20080329</td>\n",
       "      <td>LG</td>\n",
       "      <td>SK</td>\n",
       "      <td>4</td>\n",
       "      <td>5</td>\n",
       "    </tr>\n",
       "    <tr>\n",
       "      <th>2</th>\n",
       "      <td>20080329</td>\n",
       "      <td>KIA</td>\n",
       "      <td>삼성</td>\n",
       "      <td>3</td>\n",
       "      <td>4</td>\n",
       "    </tr>\n",
       "    <tr>\n",
       "      <th>3</th>\n",
       "      <td>20080329</td>\n",
       "      <td>롯데</td>\n",
       "      <td>한화</td>\n",
       "      <td>11</td>\n",
       "      <td>1</td>\n",
       "    </tr>\n",
       "    <tr>\n",
       "      <th>4</th>\n",
       "      <td>20080329</td>\n",
       "      <td>LG</td>\n",
       "      <td>SK</td>\n",
       "      <td>4</td>\n",
       "      <td>5</td>\n",
       "    </tr>\n",
       "    <tr>\n",
       "      <th>...</th>\n",
       "      <td>...</td>\n",
       "      <td>...</td>\n",
       "      <td>...</td>\n",
       "      <td>...</td>\n",
       "      <td>...</td>\n",
       "    </tr>\n",
       "    <tr>\n",
       "      <th>8744</th>\n",
       "      <td>20201118</td>\n",
       "      <td>두산</td>\n",
       "      <td>NC</td>\n",
       "      <td>5</td>\n",
       "      <td>4</td>\n",
       "    </tr>\n",
       "    <tr>\n",
       "      <th>8745</th>\n",
       "      <td>20201120</td>\n",
       "      <td>NC</td>\n",
       "      <td>두산</td>\n",
       "      <td>6</td>\n",
       "      <td>7</td>\n",
       "    </tr>\n",
       "    <tr>\n",
       "      <th>8746</th>\n",
       "      <td>20201121</td>\n",
       "      <td>NC</td>\n",
       "      <td>두산</td>\n",
       "      <td>3</td>\n",
       "      <td>0</td>\n",
       "    </tr>\n",
       "    <tr>\n",
       "      <th>8747</th>\n",
       "      <td>20201123</td>\n",
       "      <td>두산</td>\n",
       "      <td>NC</td>\n",
       "      <td>0</td>\n",
       "      <td>5</td>\n",
       "    </tr>\n",
       "    <tr>\n",
       "      <th>8748</th>\n",
       "      <td>20201124</td>\n",
       "      <td>두산</td>\n",
       "      <td>NC</td>\n",
       "      <td>2</td>\n",
       "      <td>4</td>\n",
       "    </tr>\n",
       "  </tbody>\n",
       "</table>\n",
       "<p>8749 rows × 5 columns</p>\n",
       "</div>"
      ],
      "text/plain": [
       "          경기날짜 팀1 이름 팀2 이름  팀1 점수  팀2 점수\n",
       "0     20080329    롯데    한화     11      1\n",
       "1     20080329    LG    SK      4      5\n",
       "2     20080329   KIA    삼성      3      4\n",
       "3     20080329    롯데    한화     11      1\n",
       "4     20080329    LG    SK      4      5\n",
       "...        ...   ...   ...    ...    ...\n",
       "8744  20201118    두산    NC      5      4\n",
       "8745  20201120    NC    두산      6      7\n",
       "8746  20201121    NC    두산      3      0\n",
       "8747  20201123    두산    NC      0      5\n",
       "8748  20201124    두산    NC      2      4\n",
       "\n",
       "[8749 rows x 5 columns]"
      ]
     },
     "execution_count": 4,
     "metadata": {},
     "output_type": "execute_result"
    }
   ],
   "source": [
    "# 팀1과 2 결과를 모두 보기 위해서 똑같이 복제해서 컬럼을 맞바꿔 밑에 붙인다.\n",
    "# 데이터 프레임을 복제한다.\n",
    "df3 = df2.copy()\n",
    "df3"
   ]
  },
  {
   "cell_type": "markdown",
   "id": "fa49d7b2-9f90-41ee-927f-803a654caedb",
   "metadata": {},
   "source": [
    " ***데이터 프레임간의 결합은 순서에 관계없이 컬럼이 똑같은 것들끼리 합쳐진다.***\n"
   ]
  },
  {
   "cell_type": "code",
   "execution_count": 5,
   "id": "5f7c11e7-fb88-4fc9-a65d-694565717ad7",
   "metadata": {},
   "outputs": [
    {
     "data": {
      "text/html": [
       "<div>\n",
       "<style scoped>\n",
       "    .dataframe tbody tr th:only-of-type {\n",
       "        vertical-align: middle;\n",
       "    }\n",
       "\n",
       "    .dataframe tbody tr th {\n",
       "        vertical-align: top;\n",
       "    }\n",
       "\n",
       "    .dataframe thead th {\n",
       "        text-align: right;\n",
       "    }\n",
       "</style>\n",
       "<table border=\"1\" class=\"dataframe\">\n",
       "  <thead>\n",
       "    <tr style=\"text-align: right;\">\n",
       "      <th></th>\n",
       "      <th>경기날짜</th>\n",
       "      <th>팀2 이름</th>\n",
       "      <th>팀1 이름</th>\n",
       "      <th>팀2 점수</th>\n",
       "      <th>팀1 점수</th>\n",
       "    </tr>\n",
       "  </thead>\n",
       "  <tbody>\n",
       "    <tr>\n",
       "      <th>0</th>\n",
       "      <td>20080329</td>\n",
       "      <td>롯데</td>\n",
       "      <td>한화</td>\n",
       "      <td>11</td>\n",
       "      <td>1</td>\n",
       "    </tr>\n",
       "    <tr>\n",
       "      <th>1</th>\n",
       "      <td>20080329</td>\n",
       "      <td>LG</td>\n",
       "      <td>SK</td>\n",
       "      <td>4</td>\n",
       "      <td>5</td>\n",
       "    </tr>\n",
       "    <tr>\n",
       "      <th>2</th>\n",
       "      <td>20080329</td>\n",
       "      <td>KIA</td>\n",
       "      <td>삼성</td>\n",
       "      <td>3</td>\n",
       "      <td>4</td>\n",
       "    </tr>\n",
       "    <tr>\n",
       "      <th>3</th>\n",
       "      <td>20080329</td>\n",
       "      <td>롯데</td>\n",
       "      <td>한화</td>\n",
       "      <td>11</td>\n",
       "      <td>1</td>\n",
       "    </tr>\n",
       "    <tr>\n",
       "      <th>4</th>\n",
       "      <td>20080329</td>\n",
       "      <td>LG</td>\n",
       "      <td>SK</td>\n",
       "      <td>4</td>\n",
       "      <td>5</td>\n",
       "    </tr>\n",
       "    <tr>\n",
       "      <th>...</th>\n",
       "      <td>...</td>\n",
       "      <td>...</td>\n",
       "      <td>...</td>\n",
       "      <td>...</td>\n",
       "      <td>...</td>\n",
       "    </tr>\n",
       "    <tr>\n",
       "      <th>8744</th>\n",
       "      <td>20201118</td>\n",
       "      <td>두산</td>\n",
       "      <td>NC</td>\n",
       "      <td>5</td>\n",
       "      <td>4</td>\n",
       "    </tr>\n",
       "    <tr>\n",
       "      <th>8745</th>\n",
       "      <td>20201120</td>\n",
       "      <td>NC</td>\n",
       "      <td>두산</td>\n",
       "      <td>6</td>\n",
       "      <td>7</td>\n",
       "    </tr>\n",
       "    <tr>\n",
       "      <th>8746</th>\n",
       "      <td>20201121</td>\n",
       "      <td>NC</td>\n",
       "      <td>두산</td>\n",
       "      <td>3</td>\n",
       "      <td>0</td>\n",
       "    </tr>\n",
       "    <tr>\n",
       "      <th>8747</th>\n",
       "      <td>20201123</td>\n",
       "      <td>두산</td>\n",
       "      <td>NC</td>\n",
       "      <td>0</td>\n",
       "      <td>5</td>\n",
       "    </tr>\n",
       "    <tr>\n",
       "      <th>8748</th>\n",
       "      <td>20201124</td>\n",
       "      <td>두산</td>\n",
       "      <td>NC</td>\n",
       "      <td>2</td>\n",
       "      <td>4</td>\n",
       "    </tr>\n",
       "  </tbody>\n",
       "</table>\n",
       "<p>8749 rows × 5 columns</p>\n",
       "</div>"
      ],
      "text/plain": [
       "          경기날짜 팀2 이름 팀1 이름  팀2 점수  팀1 점수\n",
       "0     20080329    롯데    한화     11      1\n",
       "1     20080329    LG    SK      4      5\n",
       "2     20080329   KIA    삼성      3      4\n",
       "3     20080329    롯데    한화     11      1\n",
       "4     20080329    LG    SK      4      5\n",
       "...        ...   ...   ...    ...    ...\n",
       "8744  20201118    두산    NC      5      4\n",
       "8745  20201120    NC    두산      6      7\n",
       "8746  20201121    NC    두산      3      0\n",
       "8747  20201123    두산    NC      0      5\n",
       "8748  20201124    두산    NC      2      4\n",
       "\n",
       "[8749 rows x 5 columns]"
      ]
     },
     "execution_count": 5,
     "metadata": {},
     "output_type": "execute_result"
    }
   ],
   "source": [
    "# 복제한 데이터 프레임의 이름을 변경한다.\n",
    "# 쿼리함수 쓰려면 컬럼이름에 띄어쓰기를 없애야 함.\n",
    "## 유지하겠다면 대괄호 안에다가 true, false 값을 해줘야함.\n",
    "df3.columns = ['경기날짜', '팀2 이름', '팀1 이름', '팀2 점수', '팀1 점수']\n",
    "df3"
   ]
  },
  {
   "cell_type": "code",
   "execution_count": 6,
   "id": "272bd89f-fb03-4599-99da-e1b869c8adec",
   "metadata": {},
   "outputs": [
    {
     "data": {
      "text/html": [
       "<div>\n",
       "<style scoped>\n",
       "    .dataframe tbody tr th:only-of-type {\n",
       "        vertical-align: middle;\n",
       "    }\n",
       "\n",
       "    .dataframe tbody tr th {\n",
       "        vertical-align: top;\n",
       "    }\n",
       "\n",
       "    .dataframe thead th {\n",
       "        text-align: right;\n",
       "    }\n",
       "</style>\n",
       "<table border=\"1\" class=\"dataframe\">\n",
       "  <thead>\n",
       "    <tr style=\"text-align: right;\">\n",
       "      <th></th>\n",
       "      <th>경기날짜</th>\n",
       "      <th>팀1 이름</th>\n",
       "      <th>팀2 이름</th>\n",
       "      <th>팀1 점수</th>\n",
       "      <th>팀2 점수</th>\n",
       "    </tr>\n",
       "  </thead>\n",
       "  <tbody>\n",
       "    <tr>\n",
       "      <th>0</th>\n",
       "      <td>20080329</td>\n",
       "      <td>롯데</td>\n",
       "      <td>한화</td>\n",
       "      <td>11</td>\n",
       "      <td>1</td>\n",
       "    </tr>\n",
       "    <tr>\n",
       "      <th>1</th>\n",
       "      <td>20080329</td>\n",
       "      <td>LG</td>\n",
       "      <td>SK</td>\n",
       "      <td>4</td>\n",
       "      <td>5</td>\n",
       "    </tr>\n",
       "    <tr>\n",
       "      <th>2</th>\n",
       "      <td>20080329</td>\n",
       "      <td>KIA</td>\n",
       "      <td>삼성</td>\n",
       "      <td>3</td>\n",
       "      <td>4</td>\n",
       "    </tr>\n",
       "    <tr>\n",
       "      <th>3</th>\n",
       "      <td>20080329</td>\n",
       "      <td>롯데</td>\n",
       "      <td>한화</td>\n",
       "      <td>11</td>\n",
       "      <td>1</td>\n",
       "    </tr>\n",
       "    <tr>\n",
       "      <th>4</th>\n",
       "      <td>20080329</td>\n",
       "      <td>LG</td>\n",
       "      <td>SK</td>\n",
       "      <td>4</td>\n",
       "      <td>5</td>\n",
       "    </tr>\n",
       "    <tr>\n",
       "      <th>...</th>\n",
       "      <td>...</td>\n",
       "      <td>...</td>\n",
       "      <td>...</td>\n",
       "      <td>...</td>\n",
       "      <td>...</td>\n",
       "    </tr>\n",
       "    <tr>\n",
       "      <th>17493</th>\n",
       "      <td>20201118</td>\n",
       "      <td>NC</td>\n",
       "      <td>두산</td>\n",
       "      <td>4</td>\n",
       "      <td>5</td>\n",
       "    </tr>\n",
       "    <tr>\n",
       "      <th>17494</th>\n",
       "      <td>20201120</td>\n",
       "      <td>두산</td>\n",
       "      <td>NC</td>\n",
       "      <td>7</td>\n",
       "      <td>6</td>\n",
       "    </tr>\n",
       "    <tr>\n",
       "      <th>17495</th>\n",
       "      <td>20201121</td>\n",
       "      <td>두산</td>\n",
       "      <td>NC</td>\n",
       "      <td>0</td>\n",
       "      <td>3</td>\n",
       "    </tr>\n",
       "    <tr>\n",
       "      <th>17496</th>\n",
       "      <td>20201123</td>\n",
       "      <td>NC</td>\n",
       "      <td>두산</td>\n",
       "      <td>5</td>\n",
       "      <td>0</td>\n",
       "    </tr>\n",
       "    <tr>\n",
       "      <th>17497</th>\n",
       "      <td>20201124</td>\n",
       "      <td>NC</td>\n",
       "      <td>두산</td>\n",
       "      <td>4</td>\n",
       "      <td>2</td>\n",
       "    </tr>\n",
       "  </tbody>\n",
       "</table>\n",
       "<p>17498 rows × 5 columns</p>\n",
       "</div>"
      ],
      "text/plain": [
       "           경기날짜 팀1 이름 팀2 이름  팀1 점수  팀2 점수\n",
       "0      20080329    롯데    한화     11      1\n",
       "1      20080329    LG    SK      4      5\n",
       "2      20080329   KIA    삼성      3      4\n",
       "3      20080329    롯데    한화     11      1\n",
       "4      20080329    LG    SK      4      5\n",
       "...         ...   ...   ...    ...    ...\n",
       "17493  20201118    NC    두산      4      5\n",
       "17494  20201120    두산    NC      7      6\n",
       "17495  20201121    두산    NC      0      3\n",
       "17496  20201123    NC    두산      5      0\n",
       "17497  20201124    NC    두산      4      2\n",
       "\n",
       "[17498 rows x 5 columns]"
      ]
     },
     "execution_count": 6,
     "metadata": {},
     "output_type": "execute_result"
    }
   ],
   "source": [
    "# 두 데이터 프레임을 합친다.\n",
    "df4 = pd.concat([df2,df3])\n",
    "# index를 리셋한다. 기존의 인덱스는 제거한다.\n",
    "df4.reset_index(inplace=True, drop=True)\n",
    "df4"
   ]
  },
  {
   "cell_type": "code",
   "execution_count": 7,
   "id": "981d73cd-1fa8-4fab-b0c9-b4a967282bec",
   "metadata": {},
   "outputs": [
    {
     "data": {
      "text/html": [
       "<div>\n",
       "<style scoped>\n",
       "    .dataframe tbody tr th:only-of-type {\n",
       "        vertical-align: middle;\n",
       "    }\n",
       "\n",
       "    .dataframe tbody tr th {\n",
       "        vertical-align: top;\n",
       "    }\n",
       "\n",
       "    .dataframe thead th {\n",
       "        text-align: right;\n",
       "    }\n",
       "</style>\n",
       "<table border=\"1\" class=\"dataframe\">\n",
       "  <thead>\n",
       "    <tr style=\"text-align: right;\">\n",
       "      <th></th>\n",
       "      <th>play_date</th>\n",
       "      <th>team1</th>\n",
       "      <th>team2</th>\n",
       "      <th>score1</th>\n",
       "      <th>score2</th>\n",
       "    </tr>\n",
       "  </thead>\n",
       "  <tbody>\n",
       "    <tr>\n",
       "      <th>0</th>\n",
       "      <td>20080329</td>\n",
       "      <td>롯데</td>\n",
       "      <td>한화</td>\n",
       "      <td>11</td>\n",
       "      <td>1</td>\n",
       "    </tr>\n",
       "    <tr>\n",
       "      <th>1</th>\n",
       "      <td>20080329</td>\n",
       "      <td>LG</td>\n",
       "      <td>SK</td>\n",
       "      <td>4</td>\n",
       "      <td>5</td>\n",
       "    </tr>\n",
       "    <tr>\n",
       "      <th>2</th>\n",
       "      <td>20080329</td>\n",
       "      <td>KIA</td>\n",
       "      <td>삼성</td>\n",
       "      <td>3</td>\n",
       "      <td>4</td>\n",
       "    </tr>\n",
       "    <tr>\n",
       "      <th>3</th>\n",
       "      <td>20080329</td>\n",
       "      <td>롯데</td>\n",
       "      <td>한화</td>\n",
       "      <td>11</td>\n",
       "      <td>1</td>\n",
       "    </tr>\n",
       "    <tr>\n",
       "      <th>4</th>\n",
       "      <td>20080329</td>\n",
       "      <td>LG</td>\n",
       "      <td>SK</td>\n",
       "      <td>4</td>\n",
       "      <td>5</td>\n",
       "    </tr>\n",
       "    <tr>\n",
       "      <th>...</th>\n",
       "      <td>...</td>\n",
       "      <td>...</td>\n",
       "      <td>...</td>\n",
       "      <td>...</td>\n",
       "      <td>...</td>\n",
       "    </tr>\n",
       "    <tr>\n",
       "      <th>17493</th>\n",
       "      <td>20201118</td>\n",
       "      <td>NC</td>\n",
       "      <td>두산</td>\n",
       "      <td>4</td>\n",
       "      <td>5</td>\n",
       "    </tr>\n",
       "    <tr>\n",
       "      <th>17494</th>\n",
       "      <td>20201120</td>\n",
       "      <td>두산</td>\n",
       "      <td>NC</td>\n",
       "      <td>7</td>\n",
       "      <td>6</td>\n",
       "    </tr>\n",
       "    <tr>\n",
       "      <th>17495</th>\n",
       "      <td>20201121</td>\n",
       "      <td>두산</td>\n",
       "      <td>NC</td>\n",
       "      <td>0</td>\n",
       "      <td>3</td>\n",
       "    </tr>\n",
       "    <tr>\n",
       "      <th>17496</th>\n",
       "      <td>20201123</td>\n",
       "      <td>NC</td>\n",
       "      <td>두산</td>\n",
       "      <td>5</td>\n",
       "      <td>0</td>\n",
       "    </tr>\n",
       "    <tr>\n",
       "      <th>17497</th>\n",
       "      <td>20201124</td>\n",
       "      <td>NC</td>\n",
       "      <td>두산</td>\n",
       "      <td>4</td>\n",
       "      <td>2</td>\n",
       "    </tr>\n",
       "  </tbody>\n",
       "</table>\n",
       "<p>17498 rows × 5 columns</p>\n",
       "</div>"
      ],
      "text/plain": [
       "       play_date team1 team2  score1  score2\n",
       "0       20080329    롯데    한화      11       1\n",
       "1       20080329    LG    SK       4       5\n",
       "2       20080329   KIA    삼성       3       4\n",
       "3       20080329    롯데    한화      11       1\n",
       "4       20080329    LG    SK       4       5\n",
       "...          ...   ...   ...     ...     ...\n",
       "17493   20201118    NC    두산       4       5\n",
       "17494   20201120    두산    NC       7       6\n",
       "17495   20201121    두산    NC       0       3\n",
       "17496   20201123    NC    두산       5       0\n",
       "17497   20201124    NC    두산       4       2\n",
       "\n",
       "[17498 rows x 5 columns]"
      ]
     },
     "execution_count": 7,
     "metadata": {},
     "output_type": "execute_result"
    }
   ],
   "source": [
    "# 컬럼명에 주목!\n",
    "# 컬럼명에 띄어쓰기가 있다면 query함수를 쓸 수 없기 때문에\n",
    "## 컬럼 이름을 변경한다.\n",
    "## _를 넣든가 하셈.\n",
    "df4.columns = ['play_date', 'team1', 'team2', 'score1', 'score2']\n",
    "df4"
   ]
  },
  {
   "cell_type": "code",
   "execution_count": 8,
   "id": "5cf174d9-3fe3-4234-92f4-dfa1452f99fd",
   "metadata": {
    "tags": []
   },
   "outputs": [
    {
     "data": {
      "text/html": [
       "<div>\n",
       "<style scoped>\n",
       "    .dataframe tbody tr th:only-of-type {\n",
       "        vertical-align: middle;\n",
       "    }\n",
       "\n",
       "    .dataframe tbody tr th {\n",
       "        vertical-align: top;\n",
       "    }\n",
       "\n",
       "    .dataframe thead th {\n",
       "        text-align: right;\n",
       "    }\n",
       "</style>\n",
       "<table border=\"1\" class=\"dataframe\">\n",
       "  <thead>\n",
       "    <tr style=\"text-align: right;\">\n",
       "      <th></th>\n",
       "      <th>play_date</th>\n",
       "      <th>team1</th>\n",
       "      <th>team2</th>\n",
       "      <th>score1</th>\n",
       "      <th>score2</th>\n",
       "      <th>result</th>\n",
       "    </tr>\n",
       "  </thead>\n",
       "  <tbody>\n",
       "    <tr>\n",
       "      <th>0</th>\n",
       "      <td>20080329</td>\n",
       "      <td>롯데</td>\n",
       "      <td>한화</td>\n",
       "      <td>11</td>\n",
       "      <td>1</td>\n",
       "      <td>0</td>\n",
       "    </tr>\n",
       "    <tr>\n",
       "      <th>1</th>\n",
       "      <td>20080329</td>\n",
       "      <td>LG</td>\n",
       "      <td>SK</td>\n",
       "      <td>4</td>\n",
       "      <td>5</td>\n",
       "      <td>0</td>\n",
       "    </tr>\n",
       "    <tr>\n",
       "      <th>2</th>\n",
       "      <td>20080329</td>\n",
       "      <td>KIA</td>\n",
       "      <td>삼성</td>\n",
       "      <td>3</td>\n",
       "      <td>4</td>\n",
       "      <td>0</td>\n",
       "    </tr>\n",
       "    <tr>\n",
       "      <th>3</th>\n",
       "      <td>20080329</td>\n",
       "      <td>롯데</td>\n",
       "      <td>한화</td>\n",
       "      <td>11</td>\n",
       "      <td>1</td>\n",
       "      <td>0</td>\n",
       "    </tr>\n",
       "    <tr>\n",
       "      <th>4</th>\n",
       "      <td>20080329</td>\n",
       "      <td>LG</td>\n",
       "      <td>SK</td>\n",
       "      <td>4</td>\n",
       "      <td>5</td>\n",
       "      <td>0</td>\n",
       "    </tr>\n",
       "    <tr>\n",
       "      <th>...</th>\n",
       "      <td>...</td>\n",
       "      <td>...</td>\n",
       "      <td>...</td>\n",
       "      <td>...</td>\n",
       "      <td>...</td>\n",
       "      <td>...</td>\n",
       "    </tr>\n",
       "    <tr>\n",
       "      <th>17493</th>\n",
       "      <td>20201118</td>\n",
       "      <td>NC</td>\n",
       "      <td>두산</td>\n",
       "      <td>4</td>\n",
       "      <td>5</td>\n",
       "      <td>0</td>\n",
       "    </tr>\n",
       "    <tr>\n",
       "      <th>17494</th>\n",
       "      <td>20201120</td>\n",
       "      <td>두산</td>\n",
       "      <td>NC</td>\n",
       "      <td>7</td>\n",
       "      <td>6</td>\n",
       "      <td>0</td>\n",
       "    </tr>\n",
       "    <tr>\n",
       "      <th>17495</th>\n",
       "      <td>20201121</td>\n",
       "      <td>두산</td>\n",
       "      <td>NC</td>\n",
       "      <td>0</td>\n",
       "      <td>3</td>\n",
       "      <td>0</td>\n",
       "    </tr>\n",
       "    <tr>\n",
       "      <th>17496</th>\n",
       "      <td>20201123</td>\n",
       "      <td>NC</td>\n",
       "      <td>두산</td>\n",
       "      <td>5</td>\n",
       "      <td>0</td>\n",
       "      <td>0</td>\n",
       "    </tr>\n",
       "    <tr>\n",
       "      <th>17497</th>\n",
       "      <td>20201124</td>\n",
       "      <td>NC</td>\n",
       "      <td>두산</td>\n",
       "      <td>4</td>\n",
       "      <td>2</td>\n",
       "      <td>0</td>\n",
       "    </tr>\n",
       "  </tbody>\n",
       "</table>\n",
       "<p>17498 rows × 6 columns</p>\n",
       "</div>"
      ],
      "text/plain": [
       "       play_date team1 team2  score1  score2  result\n",
       "0       20080329    롯데    한화      11       1       0\n",
       "1       20080329    LG    SK       4       5       0\n",
       "2       20080329   KIA    삼성       3       4       0\n",
       "3       20080329    롯데    한화      11       1       0\n",
       "4       20080329    LG    SK       4       5       0\n",
       "...          ...   ...   ...     ...     ...     ...\n",
       "17493   20201118    NC    두산       4       5       0\n",
       "17494   20201120    두산    NC       7       6       0\n",
       "17495   20201121    두산    NC       0       3       0\n",
       "17496   20201123    NC    두산       5       0       0\n",
       "17497   20201124    NC    두산       4       2       0\n",
       "\n",
       "[17498 rows x 6 columns]"
      ]
     },
     "execution_count": 8,
     "metadata": {},
     "output_type": "execute_result"
    }
   ],
   "source": [
    "# 경기 결과를 담을 컬럼을 추가한다.\n",
    "df4['result'] = 0\n",
    "df4"
   ]
  },
  {
   "cell_type": "code",
   "execution_count": 9,
   "id": "952bbb87-ba2a-4768-a250-0ddcf315c3b4",
   "metadata": {},
   "outputs": [
    {
     "data": {
      "text/plain": [
       "Int64Index([    0,     3,     6,     9,    11,    13,    14,    18,    19,\n",
       "               22,\n",
       "            ...\n",
       "            17482, 17483, 17484, 17485, 17486, 17491, 17492, 17494, 17496,\n",
       "            17497],\n",
       "           dtype='int64', length=8543)"
      ]
     },
     "execution_count": 9,
     "metadata": {},
     "output_type": "execute_result"
    }
   ],
   "source": [
    "# 승리한 경기의 인덱스를 가져온다.\n",
    "win_idx = df4.query('score1 > score2').index\n",
    "win_idx"
   ]
  },
  {
   "cell_type": "code",
   "execution_count": 10,
   "id": "3b942193-877a-4565-9c32-45638a249bed",
   "metadata": {},
   "outputs": [
    {
     "data": {
      "text/plain": [
       "0    8955\n",
       "1    8543\n",
       "Name: result, dtype: int64"
      ]
     },
     "execution_count": 10,
     "metadata": {},
     "output_type": "execute_result"
    }
   ],
   "source": [
    "# 승리한 팀의 결과를 1로 채워준다.\n",
    "df4.loc[win_idx, 'result'] = 1\n",
    "df4['result'].value_counts()"
   ]
  },
  {
   "cell_type": "code",
   "execution_count": 11,
   "id": "7f6f28dd-c98b-487f-933a-695e1a3d374d",
   "metadata": {},
   "outputs": [
    {
     "data": {
      "text/plain": [
       "두산     1970\n",
       "SK     1935\n",
       "삼성     1917\n",
       "LG     1904\n",
       "롯데     1902\n",
       "KIA    1889\n",
       "한화     1879\n",
       "NC     1238\n",
       "넥센     1194\n",
       "키움      725\n",
       "kt      486\n",
       "KT      439\n",
       "나눔        7\n",
       "드림        7\n",
       "웨스턴       3\n",
       "이스턴       3\n",
       "Name: team1, dtype: int64"
      ]
     },
     "execution_count": 11,
     "metadata": {},
     "output_type": "execute_result"
    }
   ],
   "source": [
    "df4['team1'].value_counts()"
   ]
  },
  {
   "cell_type": "code",
   "execution_count": 12,
   "id": "543c6f13-792b-44be-8bba-04ed0def19f9",
   "metadata": {},
   "outputs": [
    {
     "data": {
      "text/plain": [
       "두산     1970\n",
       "SK     1935\n",
       "삼성     1917\n",
       "LG     1904\n",
       "롯데     1902\n",
       "KIA    1889\n",
       "한화     1879\n",
       "NC     1238\n",
       "넥센     1194\n",
       "키움      725\n",
       "kt      486\n",
       "KT      439\n",
       "드림        7\n",
       "나눔        7\n",
       "이스턴       3\n",
       "웨스턴       3\n",
       "Name: team2, dtype: int64"
      ]
     },
     "execution_count": 12,
     "metadata": {},
     "output_type": "execute_result"
    }
   ],
   "source": [
    "df4['team2'].value_counts()"
   ]
  },
  {
   "cell_type": "code",
   "execution_count": 13,
   "id": "54d0a50e-af12-43f9-8c4b-99688ba4bd01",
   "metadata": {},
   "outputs": [
    {
     "data": {
      "text/plain": [
       "두산     1970\n",
       "SK     1935\n",
       "삼성     1917\n",
       "LG     1904\n",
       "롯데     1902\n",
       "KIA    1889\n",
       "한화     1879\n",
       "NC     1238\n",
       "넥센     1194\n",
       "키움      725\n",
       "kt      486\n",
       "KT      439\n",
       "Name: team1, dtype: int64"
      ]
     },
     "metadata": {},
     "output_type": "display_data"
    },
    {
     "data": {
      "text/plain": [
       "두산     1970\n",
       "SK     1935\n",
       "삼성     1917\n",
       "LG     1904\n",
       "롯데     1902\n",
       "KIA    1889\n",
       "한화     1879\n",
       "NC     1238\n",
       "넥센     1194\n",
       "키움      725\n",
       "kt      486\n",
       "KT      439\n",
       "Name: team2, dtype: int64"
      ]
     },
     "metadata": {},
     "output_type": "display_data"
    }
   ],
   "source": [
    "# 올스타전 경기는 제거한다.\n",
    "idx1 = df4.query('team1 == \"나눔\"').index\n",
    "df4.drop(idx1, inplace=True)\n",
    "\n",
    "idx1 = df4.query('team1 == \"드림\"').index\n",
    "df4.drop(idx1, inplace=True)\n",
    "\n",
    "idx1 = df4.query('team1 == \"이스턴\"').index\n",
    "df4.drop(idx1, inplace=True)\n",
    "\n",
    "idx1 = df4.query('team1 == \"웨스턴\"').index\n",
    "df4.drop(idx1, inplace=True)\n",
    "\n",
    "display(df4['team1'].value_counts())\n",
    "display(df4['team2'].value_counts())"
   ]
  },
  {
   "cell_type": "code",
   "execution_count": 14,
   "id": "6d12ee55-c31f-4e2d-9818-1b11928c846a",
   "metadata": {},
   "outputs": [
    {
     "data": {
      "text/plain": [
       "두산     1970\n",
       "SK     1935\n",
       "삼성     1917\n",
       "LG     1904\n",
       "롯데     1902\n",
       "KIA    1889\n",
       "한화     1879\n",
       "NC     1238\n",
       "넥센     1194\n",
       "KT      925\n",
       "키움      725\n",
       "Name: team1, dtype: int64"
      ]
     },
     "metadata": {},
     "output_type": "display_data"
    },
    {
     "data": {
      "text/plain": [
       "두산     1970\n",
       "SK     1935\n",
       "삼성     1917\n",
       "LG     1904\n",
       "롯데     1902\n",
       "KIA    1889\n",
       "한화     1879\n",
       "NC     1238\n",
       "넥센     1194\n",
       "KT      925\n",
       "키움      725\n",
       "Name: team2, dtype: int64"
      ]
     },
     "metadata": {},
     "output_type": "display_data"
    }
   ],
   "source": [
    "# 소문자 kt를 대문자KT로 변경한다.\n",
    "idx = df4.query('team1 == \"kt\"').index\n",
    "df4.loc[idx, 'team1'] = 'KT'\n",
    "\n",
    "idx = df4.query('team2 == \"kt\"').index\n",
    "df4.loc[idx, 'team2'] = 'KT'\n",
    "\n",
    "display(df4['team1'].value_counts())\n",
    "display(df4['team2'].value_counts())"
   ]
  },
  {
   "cell_type": "code",
   "execution_count": 15,
   "id": "68e4c266-0f06-4e35-87ff-74b3c94ff7c8",
   "metadata": {},
   "outputs": [
    {
     "data": {
      "text/plain": [
       "두산       1970\n",
       "SK       1935\n",
       "넥센_키움    1919\n",
       "삼성       1917\n",
       "LG       1904\n",
       "롯데       1902\n",
       "KIA      1889\n",
       "한화       1879\n",
       "NC       1238\n",
       "KT        925\n",
       "Name: team1, dtype: int64"
      ]
     },
     "metadata": {},
     "output_type": "display_data"
    },
    {
     "data": {
      "text/plain": [
       "두산       1970\n",
       "SK       1935\n",
       "넥센_키움    1919\n",
       "삼성       1917\n",
       "LG       1904\n",
       "롯데       1902\n",
       "KIA      1889\n",
       "한화       1879\n",
       "NC       1238\n",
       "KT        925\n",
       "Name: team2, dtype: int64"
      ]
     },
     "metadata": {},
     "output_type": "display_data"
    }
   ],
   "source": [
    "# 넥센은 키움으로 변경되었기 때문에 합쳐준다.\n",
    "# 넥센과 키움의 팀 이름을 넥센_키움으로 변경한다.\n",
    "\n",
    "idx = df4.query('team1 == \"키움\"').index\n",
    "df4.loc[idx, 'team1'] = '넥센_키움'\n",
    "idx = df4.query('team1 == \"넥센\"').index\n",
    "df4.loc[idx, 'team1'] = '넥센_키움'\n",
    "\n",
    "idx = df4.query('team2 == \"넥센\"').index\n",
    "df4.loc[idx, 'team2'] = '넥센_키움'\n",
    "idx = df4.query('team2 == \"키움\"').index\n",
    "df4.loc[idx, 'team2'] = '넥센_키움'\n",
    "\n",
    "display(df4['team1'].value_counts())\n",
    "display(df4['team2'].value_counts())"
   ]
  },
  {
   "cell_type": "code",
   "execution_count": 17,
   "id": "e54d5cb1-8e02-4fdc-b4b6-0b7518a8fa50",
   "metadata": {},
   "outputs": [
    {
     "data": {
      "text/plain": [
       "team1\n",
       "KIA      1889\n",
       "KT        925\n",
       "LG       1904\n",
       "NC       1238\n",
       "SK       1935\n",
       "넥센_키움    1919\n",
       "두산       1970\n",
       "롯데       1902\n",
       "삼성       1917\n",
       "한화       1879\n",
       "Name: result, dtype: int64"
      ]
     },
     "execution_count": 17,
     "metadata": {},
     "output_type": "execute_result"
    }
   ],
   "source": [
    "# 팀별 치룬 경기 횟수를 구한다.\n",
    "team_count = df4.groupby('team1')['result'].count()\n",
    "team_count"
   ]
  },
  {
   "cell_type": "code",
   "execution_count": 18,
   "id": "bfa97fcc-f61f-4829-b594-df41155feb3e",
   "metadata": {},
   "outputs": [
    {
     "data": {
      "text/plain": [
       "team1\n",
       "KIA       915\n",
       "KT        397\n",
       "LG        891\n",
       "NC        633\n",
       "SK       1011\n",
       "넥센_키움     948\n",
       "두산       1084\n",
       "롯데        909\n",
       "삼성        974\n",
       "한화        773\n",
       "Name: result, dtype: int64"
      ]
     },
     "execution_count": 18,
     "metadata": {},
     "output_type": "execute_result"
    }
   ],
   "source": [
    "# 팀 별로 승리한 횟수를 가져온다.\n",
    "team_win_count = df4.groupby('team1')['result'].sum()\n",
    "team_win_count"
   ]
  },
  {
   "cell_type": "code",
   "execution_count": 22,
   "id": "026b73a3-6223-4558-860e-6b585eba21d6",
   "metadata": {},
   "outputs": [
    {
     "data": {
      "text/plain": [
       "team1\n",
       "두산       55\n",
       "SK       52\n",
       "NC       51\n",
       "삼성       50\n",
       "넥센_키움    49\n",
       "KIA      48\n",
       "롯데       47\n",
       "LG       46\n",
       "KT       42\n",
       "한화       41\n",
       "Name: result, dtype: int32"
      ]
     },
     "execution_count": 22,
     "metadata": {},
     "output_type": "execute_result"
    }
   ],
   "source": [
    "# 승률을 구한다.\n",
    "team_win_rate = team_win_count / team_count * 100\n",
    "team_win_rate = team_win_rate.astype('int')\n",
    "team_win_rate = team_win_rate.sort_values(ascending=False)\n",
    "team_win_rate"
   ]
  },
  {
   "cell_type": "code",
   "execution_count": 26,
   "id": "65e61900-fa99-48e8-9325-aab34d202ea5",
   "metadata": {},
   "outputs": [
    {
     "data": {
      "image/png": "[encoded data removed]",
      "text/plain": [
       "<Figure size 864x432 with 1 Axes>"
      ]
     },
     "metadata": {
      "needs_background": "light"
     },
     "output_type": "display_data"
    }
   ],
   "source": [
    "# 승률을 시각화한다.\n",
    "team_win_rate.plot.bar()\n",
    "plt.show()"
   ]
  },
  {
   "cell_type": "markdown",
   "id": "687e0b14-911e-414d-87d2-ddd389480b26",
   "metadata": {},
   "source": [
    "### 특정 팀에 관련된 정보를 확인한다."
   ]
  },
  {
   "cell_type": "code",
   "execution_count": 27,
   "id": "8d4d4df3-87b8-42d3-bd4a-dee7774ae161",
   "metadata": {},
   "outputs": [
    {
     "data": {
      "text/html": [
       "<div>\n",
       "<style scoped>\n",
       "    .dataframe tbody tr th:only-of-type {\n",
       "        vertical-align: middle;\n",
       "    }\n",
       "\n",
       "    .dataframe tbody tr th {\n",
       "        vertical-align: top;\n",
       "    }\n",
       "\n",
       "    .dataframe thead th {\n",
       "        text-align: right;\n",
       "    }\n",
       "</style>\n",
       "<table border=\"1\" class=\"dataframe\">\n",
       "  <thead>\n",
       "    <tr style=\"text-align: right;\">\n",
       "      <th></th>\n",
       "      <th>play_date</th>\n",
       "      <th>team1</th>\n",
       "      <th>team2</th>\n",
       "      <th>score1</th>\n",
       "      <th>score2</th>\n",
       "      <th>result</th>\n",
       "    </tr>\n",
       "  </thead>\n",
       "  <tbody>\n",
       "    <tr>\n",
       "      <th>0</th>\n",
       "      <td>20080329</td>\n",
       "      <td>롯데</td>\n",
       "      <td>한화</td>\n",
       "      <td>11</td>\n",
       "      <td>1</td>\n",
       "      <td>1</td>\n",
       "    </tr>\n",
       "    <tr>\n",
       "      <th>1</th>\n",
       "      <td>20080329</td>\n",
       "      <td>LG</td>\n",
       "      <td>SK</td>\n",
       "      <td>4</td>\n",
       "      <td>5</td>\n",
       "      <td>0</td>\n",
       "    </tr>\n",
       "    <tr>\n",
       "      <th>2</th>\n",
       "      <td>20080329</td>\n",
       "      <td>KIA</td>\n",
       "      <td>삼성</td>\n",
       "      <td>3</td>\n",
       "      <td>4</td>\n",
       "      <td>0</td>\n",
       "    </tr>\n",
       "    <tr>\n",
       "      <th>3</th>\n",
       "      <td>20080329</td>\n",
       "      <td>롯데</td>\n",
       "      <td>한화</td>\n",
       "      <td>11</td>\n",
       "      <td>1</td>\n",
       "      <td>1</td>\n",
       "    </tr>\n",
       "    <tr>\n",
       "      <th>4</th>\n",
       "      <td>20080329</td>\n",
       "      <td>LG</td>\n",
       "      <td>SK</td>\n",
       "      <td>4</td>\n",
       "      <td>5</td>\n",
       "      <td>0</td>\n",
       "    </tr>\n",
       "    <tr>\n",
       "      <th>...</th>\n",
       "      <td>...</td>\n",
       "      <td>...</td>\n",
       "      <td>...</td>\n",
       "      <td>...</td>\n",
       "      <td>...</td>\n",
       "      <td>...</td>\n",
       "    </tr>\n",
       "    <tr>\n",
       "      <th>17493</th>\n",
       "      <td>20201118</td>\n",
       "      <td>NC</td>\n",
       "      <td>두산</td>\n",
       "      <td>4</td>\n",
       "      <td>5</td>\n",
       "      <td>0</td>\n",
       "    </tr>\n",
       "    <tr>\n",
       "      <th>17494</th>\n",
       "      <td>20201120</td>\n",
       "      <td>두산</td>\n",
       "      <td>NC</td>\n",
       "      <td>7</td>\n",
       "      <td>6</td>\n",
       "      <td>1</td>\n",
       "    </tr>\n",
       "    <tr>\n",
       "      <th>17495</th>\n",
       "      <td>20201121</td>\n",
       "      <td>두산</td>\n",
       "      <td>NC</td>\n",
       "      <td>0</td>\n",
       "      <td>3</td>\n",
       "      <td>0</td>\n",
       "    </tr>\n",
       "    <tr>\n",
       "      <th>17496</th>\n",
       "      <td>20201123</td>\n",
       "      <td>NC</td>\n",
       "      <td>두산</td>\n",
       "      <td>5</td>\n",
       "      <td>0</td>\n",
       "      <td>1</td>\n",
       "    </tr>\n",
       "    <tr>\n",
       "      <th>17497</th>\n",
       "      <td>20201124</td>\n",
       "      <td>NC</td>\n",
       "      <td>두산</td>\n",
       "      <td>4</td>\n",
       "      <td>2</td>\n",
       "      <td>1</td>\n",
       "    </tr>\n",
       "  </tbody>\n",
       "</table>\n",
       "<p>17478 rows × 6 columns</p>\n",
       "</div>"
      ],
      "text/plain": [
       "       play_date team1 team2  score1  score2  result\n",
       "0       20080329    롯데    한화      11       1       1\n",
       "1       20080329    LG    SK       4       5       0\n",
       "2       20080329   KIA    삼성       3       4       0\n",
       "3       20080329    롯데    한화      11       1       1\n",
       "4       20080329    LG    SK       4       5       0\n",
       "...          ...   ...   ...     ...     ...     ...\n",
       "17493   20201118    NC    두산       4       5       0\n",
       "17494   20201120    두산    NC       7       6       1\n",
       "17495   20201121    두산    NC       0       3       0\n",
       "17496   20201123    NC    두산       5       0       1\n",
       "17497   20201124    NC    두산       4       2       1\n",
       "\n",
       "[17478 rows x 6 columns]"
      ]
     },
     "execution_count": 27,
     "metadata": {},
     "output_type": "execute_result"
    }
   ],
   "source": [
    "# 각 팀당 상대팀의 승률을 볼 것.\n",
    "df4"
   ]
  },
  {
   "cell_type": "code",
   "execution_count": 28,
   "id": "7f5a1d82-2274-434f-90d0-1383adeabc96",
   "metadata": {},
   "outputs": [
    {
     "data": {
      "text/html": [
       "<div>\n",
       "<style scoped>\n",
       "    .dataframe tbody tr th:only-of-type {\n",
       "        vertical-align: middle;\n",
       "    }\n",
       "\n",
       "    .dataframe tbody tr th {\n",
       "        vertical-align: top;\n",
       "    }\n",
       "\n",
       "    .dataframe thead th {\n",
       "        text-align: right;\n",
       "    }\n",
       "</style>\n",
       "<table border=\"1\" class=\"dataframe\">\n",
       "  <thead>\n",
       "    <tr style=\"text-align: right;\">\n",
       "      <th></th>\n",
       "      <th>play_date</th>\n",
       "      <th>team1</th>\n",
       "      <th>team2</th>\n",
       "      <th>result</th>\n",
       "    </tr>\n",
       "  </thead>\n",
       "  <tbody>\n",
       "    <tr>\n",
       "      <th>0</th>\n",
       "      <td>20080329</td>\n",
       "      <td>롯데</td>\n",
       "      <td>한화</td>\n",
       "      <td>1</td>\n",
       "    </tr>\n",
       "    <tr>\n",
       "      <th>1</th>\n",
       "      <td>20080329</td>\n",
       "      <td>LG</td>\n",
       "      <td>SK</td>\n",
       "      <td>0</td>\n",
       "    </tr>\n",
       "    <tr>\n",
       "      <th>2</th>\n",
       "      <td>20080329</td>\n",
       "      <td>KIA</td>\n",
       "      <td>삼성</td>\n",
       "      <td>0</td>\n",
       "    </tr>\n",
       "    <tr>\n",
       "      <th>3</th>\n",
       "      <td>20080329</td>\n",
       "      <td>롯데</td>\n",
       "      <td>한화</td>\n",
       "      <td>1</td>\n",
       "    </tr>\n",
       "    <tr>\n",
       "      <th>4</th>\n",
       "      <td>20080329</td>\n",
       "      <td>LG</td>\n",
       "      <td>SK</td>\n",
       "      <td>0</td>\n",
       "    </tr>\n",
       "    <tr>\n",
       "      <th>...</th>\n",
       "      <td>...</td>\n",
       "      <td>...</td>\n",
       "      <td>...</td>\n",
       "      <td>...</td>\n",
       "    </tr>\n",
       "    <tr>\n",
       "      <th>17493</th>\n",
       "      <td>20201118</td>\n",
       "      <td>NC</td>\n",
       "      <td>두산</td>\n",
       "      <td>0</td>\n",
       "    </tr>\n",
       "    <tr>\n",
       "      <th>17494</th>\n",
       "      <td>20201120</td>\n",
       "      <td>두산</td>\n",
       "      <td>NC</td>\n",
       "      <td>1</td>\n",
       "    </tr>\n",
       "    <tr>\n",
       "      <th>17495</th>\n",
       "      <td>20201121</td>\n",
       "      <td>두산</td>\n",
       "      <td>NC</td>\n",
       "      <td>0</td>\n",
       "    </tr>\n",
       "    <tr>\n",
       "      <th>17496</th>\n",
       "      <td>20201123</td>\n",
       "      <td>NC</td>\n",
       "      <td>두산</td>\n",
       "      <td>1</td>\n",
       "    </tr>\n",
       "    <tr>\n",
       "      <th>17497</th>\n",
       "      <td>20201124</td>\n",
       "      <td>NC</td>\n",
       "      <td>두산</td>\n",
       "      <td>1</td>\n",
       "    </tr>\n",
       "  </tbody>\n",
       "</table>\n",
       "<p>17478 rows × 4 columns</p>\n",
       "</div>"
      ],
      "text/plain": [
       "       play_date team1 team2  result\n",
       "0       20080329    롯데    한화       1\n",
       "1       20080329    LG    SK       0\n",
       "2       20080329   KIA    삼성       0\n",
       "3       20080329    롯데    한화       1\n",
       "4       20080329    LG    SK       0\n",
       "...          ...   ...   ...     ...\n",
       "17493   20201118    NC    두산       0\n",
       "17494   20201120    두산    NC       1\n",
       "17495   20201121    두산    NC       0\n",
       "17496   20201123    NC    두산       1\n",
       "17497   20201124    NC    두산       1\n",
       "\n",
       "[17478 rows x 4 columns]"
      ]
     },
     "execution_count": 28,
     "metadata": {},
     "output_type": "execute_result"
    }
   ],
   "source": [
    "# 필요한 것만 가져온다.\n",
    "df5 = df4[['play_date','team1', 'team2','result']]\n",
    "df5"
   ]
  },
  {
   "cell_type": "code",
   "execution_count": 29,
   "id": "48ac2605-f689-4c03-a35e-d149f3b4f2f3",
   "metadata": {},
   "outputs": [
    {
     "data": {
      "text/plain": [
       "dtype('int64')"
      ]
     },
     "execution_count": 29,
     "metadata": {},
     "output_type": "execute_result"
    }
   ],
   "source": [
    "# 경기 날짜를 확인한다.\n",
    "df5['play_date'].dtype\n",
    "#숫자로 되어있음을 알 수 있다."
   ]
  },
  {
   "cell_type": "code",
   "execution_count": 32,
   "id": "193ad3bc-6f63-48d0-bd88-720d1afe1b33",
   "metadata": {},
   "outputs": [
    {
     "data": {
      "text/html": [
       "<div>\n",
       "<style scoped>\n",
       "    .dataframe tbody tr th:only-of-type {\n",
       "        vertical-align: middle;\n",
       "    }\n",
       "\n",
       "    .dataframe tbody tr th {\n",
       "        vertical-align: top;\n",
       "    }\n",
       "\n",
       "    .dataframe thead th {\n",
       "        text-align: right;\n",
       "    }\n",
       "</style>\n",
       "<table border=\"1\" class=\"dataframe\">\n",
       "  <thead>\n",
       "    <tr style=\"text-align: right;\">\n",
       "      <th></th>\n",
       "      <th>play_date</th>\n",
       "      <th>team1</th>\n",
       "      <th>team2</th>\n",
       "      <th>result</th>\n",
       "      <th>play_year</th>\n",
       "    </tr>\n",
       "  </thead>\n",
       "  <tbody>\n",
       "    <tr>\n",
       "      <th>0</th>\n",
       "      <td>20080329</td>\n",
       "      <td>롯데</td>\n",
       "      <td>한화</td>\n",
       "      <td>1</td>\n",
       "      <td>2008</td>\n",
       "    </tr>\n",
       "    <tr>\n",
       "      <th>1</th>\n",
       "      <td>20080329</td>\n",
       "      <td>LG</td>\n",
       "      <td>SK</td>\n",
       "      <td>0</td>\n",
       "      <td>2008</td>\n",
       "    </tr>\n",
       "    <tr>\n",
       "      <th>2</th>\n",
       "      <td>20080329</td>\n",
       "      <td>KIA</td>\n",
       "      <td>삼성</td>\n",
       "      <td>0</td>\n",
       "      <td>2008</td>\n",
       "    </tr>\n",
       "    <tr>\n",
       "      <th>3</th>\n",
       "      <td>20080329</td>\n",
       "      <td>롯데</td>\n",
       "      <td>한화</td>\n",
       "      <td>1</td>\n",
       "      <td>2008</td>\n",
       "    </tr>\n",
       "    <tr>\n",
       "      <th>4</th>\n",
       "      <td>20080329</td>\n",
       "      <td>LG</td>\n",
       "      <td>SK</td>\n",
       "      <td>0</td>\n",
       "      <td>2008</td>\n",
       "    </tr>\n",
       "    <tr>\n",
       "      <th>...</th>\n",
       "      <td>...</td>\n",
       "      <td>...</td>\n",
       "      <td>...</td>\n",
       "      <td>...</td>\n",
       "      <td>...</td>\n",
       "    </tr>\n",
       "    <tr>\n",
       "      <th>17493</th>\n",
       "      <td>20201118</td>\n",
       "      <td>NC</td>\n",
       "      <td>두산</td>\n",
       "      <td>0</td>\n",
       "      <td>2020</td>\n",
       "    </tr>\n",
       "    <tr>\n",
       "      <th>17494</th>\n",
       "      <td>20201120</td>\n",
       "      <td>두산</td>\n",
       "      <td>NC</td>\n",
       "      <td>1</td>\n",
       "      <td>2020</td>\n",
       "    </tr>\n",
       "    <tr>\n",
       "      <th>17495</th>\n",
       "      <td>20201121</td>\n",
       "      <td>두산</td>\n",
       "      <td>NC</td>\n",
       "      <td>0</td>\n",
       "      <td>2020</td>\n",
       "    </tr>\n",
       "    <tr>\n",
       "      <th>17496</th>\n",
       "      <td>20201123</td>\n",
       "      <td>NC</td>\n",
       "      <td>두산</td>\n",
       "      <td>1</td>\n",
       "      <td>2020</td>\n",
       "    </tr>\n",
       "    <tr>\n",
       "      <th>17497</th>\n",
       "      <td>20201124</td>\n",
       "      <td>NC</td>\n",
       "      <td>두산</td>\n",
       "      <td>1</td>\n",
       "      <td>2020</td>\n",
       "    </tr>\n",
       "  </tbody>\n",
       "</table>\n",
       "<p>17478 rows × 5 columns</p>\n",
       "</div>"
      ],
      "text/plain": [
       "       play_date team1 team2  result  play_year\n",
       "0       20080329    롯데    한화       1       2008\n",
       "1       20080329    LG    SK       0       2008\n",
       "2       20080329   KIA    삼성       0       2008\n",
       "3       20080329    롯데    한화       1       2008\n",
       "4       20080329    LG    SK       0       2008\n",
       "...          ...   ...   ...     ...        ...\n",
       "17493   20201118    NC    두산       0       2020\n",
       "17494   20201120    두산    NC       1       2020\n",
       "17495   20201121    두산    NC       0       2020\n",
       "17496   20201123    NC    두산       1       2020\n",
       "17497   20201124    NC    두산       1       2020\n",
       "\n",
       "[17478 rows x 5 columns]"
      ]
     },
     "execution_count": 32,
     "metadata": {},
     "output_type": "execute_result"
    }
   ],
   "source": [
    "# 경기 년도를 가져온다.\n",
    "df5['play_year'] = df5['play_date'] // 10000\n",
    "df5"
   ]
  },
  {
   "cell_type": "code",
   "execution_count": 33,
   "id": "a00cfb1f-2f44-41e0-9093-7d602e425360",
   "metadata": {},
   "outputs": [
    {
     "data": {
      "text/plain": [
       "Index(['두산', 'SK', '넥센_키움', '삼성', 'LG', '롯데', 'KIA', '한화', 'NC', 'KT'], dtype='object')"
      ]
     },
     "metadata": {},
     "output_type": "display_data"
    }
   ],
   "source": [
    "# 팀 이름들을 가져온다.\n",
    "team_list = df5['team1'].value_counts().index\n",
    "display(team_list)"
   ]
  },
  {
   "cell_type": "code",
   "execution_count": 39,
   "id": "c2d57f90-2274-4a64-8d79-40011a280a2a",
   "metadata": {
    "collapsed": true,
    "jupyter": {
     "outputs_hidden": true
    },
    "tags": []
   },
   "outputs": [
    {
     "data": {
      "image/png": "[encoded data removed]",
      "text/plain": [
       "<Figure size 864x432 with 1 Axes>"
      ]
     },
     "metadata": {
      "needs_background": "light"
     },
     "output_type": "display_data"
    },
    {
     "data": {
      "image/png": "[encoded data removed]",
      "text/plain": [
       "<Figure size 864x432 with 1 Axes>"
      ]
     },
     "metadata": {
      "needs_background": "light"
     },
     "output_type": "display_data"
    },
    {
     "data": {
      "image/png": "[encoded data removed]",
      "text/plain": [
       "<Figure size 864x432 with 1 Axes>"
      ]
     },
     "metadata": {
      "needs_background": "light"
     },
     "output_type": "display_data"
    },
    {
     "data": {
      "image/png": "[encoded data removed]",
      "text/plain": [
       "<Figure size 864x432 with 1 Axes>"
      ]
     },
     "metadata": {
      "needs_background": "light"
     },
     "output_type": "display_data"
    },
    {
     "data": {
      "image/png": "[encoded data removed]",
      "text/plain": [
       "<Figure size 864x432 with 1 Axes>"
      ]
     },
     "metadata": {
      "needs_background": "light"
     },
     "output_type": "display_data"
    },
    {
     "data": {
      "image/png": "[encoded data removed]",
      "text/plain": [
       "<Figure size 864x432 with 1 Axes>"
      ]
     },
     "metadata": {
      "needs_background": "light"
     },
     "output_type": "display_data"
    },
    {
     "data": {
      "image/png": "[encoded data removed]",
      "text/plain": [
       "<Figure size 864x432 with 1 Axes>"
      ]
     },
     "metadata": {
      "needs_background": "light"
     },
     "output_type": "display_data"
    },
    {
     "data": {
      "image/png": "[encoded data removed]",
      "text/plain": [
       "<Figure size 864x432 with 1 Axes>"
      ]
     },
     "metadata": {
      "needs_background": "light"
     },
     "output_type": "display_data"
    },
    {
     "data": {
      "image/png": "[encoded data removed]",
      "text/plain": [
       "<Figure size 864x432 with 1 Axes>"
      ]
     },
     "metadata": {
      "needs_background": "light"
     },
     "output_type": "display_data"
    },
    {
     "data": {
      "image/png": "[encoded data removed]",
      "text/plain": [
       "<Figure size 864x432 with 1 Axes>"
      ]
     },
     "metadata": {
      "needs_background": "light"
     },
     "output_type": "display_data"
    }
   ],
   "source": [
    "# 팀의 수 만큼 반복한다.\n",
    "for team_name in team_list :\n",
    "    # 현재 팀 데이터를 추출한다.\n",
    "    idx = df5.query('team1 == @team_name').index\n",
    "    df6 = df5.loc[idx]\n",
    "    # display(df6)\n",
    "    \n",
    "    # 현재 팀의 경기 년도를 기준으로 승리 횟수를 구한다.\n",
    "    a1 = df6.groupby('play_year')['result'].sum()\n",
    "    # 현재 팀의 경기 년도를 기준으로 경기 횟수를 구한다.\n",
    "    a2 = df6.groupby('play_year')['result'].count()\n",
    "    # 승률을 구한다.\n",
    "    a3 = (a1 / a2 * 100).astype('int')\n",
    "    # display(a3)\n",
    "    \n",
    "    # 시각화 한다.\n",
    "    a3.plot.bar()\n",
    "    plt.ylim(0,100)\n",
    "    plt.title(team_name)\n",
    "    plt.show()"
   ]
  },
  {
   "cell_type": "markdown",
   "id": "0ad1f9cb-4507-43fa-8b86-d592ce6d2cf8",
   "metadata": {},
   "source": [
    "### 각 팀별 상대 팀에 대한 승률"
   ]
  },
  {
   "cell_type": "code",
   "execution_count": 40,
   "id": "455d81c1-fc8c-453b-8b95-58665243c5e2",
   "metadata": {
    "collapsed": true,
    "jupyter": {
     "outputs_hidden": true
    },
    "tags": []
   },
   "outputs": [
    {
     "data": {
      "text/html": [
       "<div>\n",
       "<style scoped>\n",
       "    .dataframe tbody tr th:only-of-type {\n",
       "        vertical-align: middle;\n",
       "    }\n",
       "\n",
       "    .dataframe tbody tr th {\n",
       "        vertical-align: top;\n",
       "    }\n",
       "\n",
       "    .dataframe thead th {\n",
       "        text-align: right;\n",
       "    }\n",
       "</style>\n",
       "<table border=\"1\" class=\"dataframe\">\n",
       "  <thead>\n",
       "    <tr style=\"text-align: right;\">\n",
       "      <th></th>\n",
       "      <th>play_date</th>\n",
       "      <th>team1</th>\n",
       "      <th>team2</th>\n",
       "      <th>score1</th>\n",
       "      <th>score2</th>\n",
       "      <th>result</th>\n",
       "    </tr>\n",
       "  </thead>\n",
       "  <tbody>\n",
       "    <tr>\n",
       "      <th>0</th>\n",
       "      <td>20080329</td>\n",
       "      <td>롯데</td>\n",
       "      <td>한화</td>\n",
       "      <td>11</td>\n",
       "      <td>1</td>\n",
       "      <td>1</td>\n",
       "    </tr>\n",
       "    <tr>\n",
       "      <th>1</th>\n",
       "      <td>20080329</td>\n",
       "      <td>LG</td>\n",
       "      <td>SK</td>\n",
       "      <td>4</td>\n",
       "      <td>5</td>\n",
       "      <td>0</td>\n",
       "    </tr>\n",
       "    <tr>\n",
       "      <th>2</th>\n",
       "      <td>20080329</td>\n",
       "      <td>KIA</td>\n",
       "      <td>삼성</td>\n",
       "      <td>3</td>\n",
       "      <td>4</td>\n",
       "      <td>0</td>\n",
       "    </tr>\n",
       "    <tr>\n",
       "      <th>3</th>\n",
       "      <td>20080329</td>\n",
       "      <td>롯데</td>\n",
       "      <td>한화</td>\n",
       "      <td>11</td>\n",
       "      <td>1</td>\n",
       "      <td>1</td>\n",
       "    </tr>\n",
       "    <tr>\n",
       "      <th>4</th>\n",
       "      <td>20080329</td>\n",
       "      <td>LG</td>\n",
       "      <td>SK</td>\n",
       "      <td>4</td>\n",
       "      <td>5</td>\n",
       "      <td>0</td>\n",
       "    </tr>\n",
       "    <tr>\n",
       "      <th>...</th>\n",
       "      <td>...</td>\n",
       "      <td>...</td>\n",
       "      <td>...</td>\n",
       "      <td>...</td>\n",
       "      <td>...</td>\n",
       "      <td>...</td>\n",
       "    </tr>\n",
       "    <tr>\n",
       "      <th>17493</th>\n",
       "      <td>20201118</td>\n",
       "      <td>NC</td>\n",
       "      <td>두산</td>\n",
       "      <td>4</td>\n",
       "      <td>5</td>\n",
       "      <td>0</td>\n",
       "    </tr>\n",
       "    <tr>\n",
       "      <th>17494</th>\n",
       "      <td>20201120</td>\n",
       "      <td>두산</td>\n",
       "      <td>NC</td>\n",
       "      <td>7</td>\n",
       "      <td>6</td>\n",
       "      <td>1</td>\n",
       "    </tr>\n",
       "    <tr>\n",
       "      <th>17495</th>\n",
       "      <td>20201121</td>\n",
       "      <td>두산</td>\n",
       "      <td>NC</td>\n",
       "      <td>0</td>\n",
       "      <td>3</td>\n",
       "      <td>0</td>\n",
       "    </tr>\n",
       "    <tr>\n",
       "      <th>17496</th>\n",
       "      <td>20201123</td>\n",
       "      <td>NC</td>\n",
       "      <td>두산</td>\n",
       "      <td>5</td>\n",
       "      <td>0</td>\n",
       "      <td>1</td>\n",
       "    </tr>\n",
       "    <tr>\n",
       "      <th>17497</th>\n",
       "      <td>20201124</td>\n",
       "      <td>NC</td>\n",
       "      <td>두산</td>\n",
       "      <td>4</td>\n",
       "      <td>2</td>\n",
       "      <td>1</td>\n",
       "    </tr>\n",
       "  </tbody>\n",
       "</table>\n",
       "<p>17478 rows × 6 columns</p>\n",
       "</div>"
      ],
      "text/plain": [
       "       play_date team1 team2  score1  score2  result\n",
       "0       20080329    롯데    한화      11       1       1\n",
       "1       20080329    LG    SK       4       5       0\n",
       "2       20080329   KIA    삼성       3       4       0\n",
       "3       20080329    롯데    한화      11       1       1\n",
       "4       20080329    LG    SK       4       5       0\n",
       "...          ...   ...   ...     ...     ...     ...\n",
       "17493   20201118    NC    두산       4       5       0\n",
       "17494   20201120    두산    NC       7       6       1\n",
       "17495   20201121    두산    NC       0       3       0\n",
       "17496   20201123    NC    두산       5       0       1\n",
       "17497   20201124    NC    두산       4       2       1\n",
       "\n",
       "[17478 rows x 6 columns]"
      ]
     },
     "execution_count": 40,
     "metadata": {},
     "output_type": "execute_result"
    }
   ],
   "source": [
    "df4"
   ]
  },
  {
   "cell_type": "code",
   "execution_count": 42,
   "id": "f05cc6ee-1b2b-47b8-bb38-7d771369e151",
   "metadata": {},
   "outputs": [
    {
     "data": {
      "text/html": [
       "<div>\n",
       "<style scoped>\n",
       "    .dataframe tbody tr th:only-of-type {\n",
       "        vertical-align: middle;\n",
       "    }\n",
       "\n",
       "    .dataframe tbody tr th {\n",
       "        vertical-align: top;\n",
       "    }\n",
       "\n",
       "    .dataframe thead th {\n",
       "        text-align: right;\n",
       "    }\n",
       "</style>\n",
       "<table border=\"1\" class=\"dataframe\">\n",
       "  <thead>\n",
       "    <tr style=\"text-align: right;\">\n",
       "      <th></th>\n",
       "      <th>team1</th>\n",
       "      <th>team2</th>\n",
       "      <th>result</th>\n",
       "    </tr>\n",
       "  </thead>\n",
       "  <tbody>\n",
       "    <tr>\n",
       "      <th>0</th>\n",
       "      <td>롯데</td>\n",
       "      <td>한화</td>\n",
       "      <td>1</td>\n",
       "    </tr>\n",
       "    <tr>\n",
       "      <th>1</th>\n",
       "      <td>LG</td>\n",
       "      <td>SK</td>\n",
       "      <td>0</td>\n",
       "    </tr>\n",
       "    <tr>\n",
       "      <th>2</th>\n",
       "      <td>KIA</td>\n",
       "      <td>삼성</td>\n",
       "      <td>0</td>\n",
       "    </tr>\n",
       "    <tr>\n",
       "      <th>3</th>\n",
       "      <td>롯데</td>\n",
       "      <td>한화</td>\n",
       "      <td>1</td>\n",
       "    </tr>\n",
       "    <tr>\n",
       "      <th>4</th>\n",
       "      <td>LG</td>\n",
       "      <td>SK</td>\n",
       "      <td>0</td>\n",
       "    </tr>\n",
       "    <tr>\n",
       "      <th>...</th>\n",
       "      <td>...</td>\n",
       "      <td>...</td>\n",
       "      <td>...</td>\n",
       "    </tr>\n",
       "    <tr>\n",
       "      <th>17493</th>\n",
       "      <td>NC</td>\n",
       "      <td>두산</td>\n",
       "      <td>0</td>\n",
       "    </tr>\n",
       "    <tr>\n",
       "      <th>17494</th>\n",
       "      <td>두산</td>\n",
       "      <td>NC</td>\n",
       "      <td>1</td>\n",
       "    </tr>\n",
       "    <tr>\n",
       "      <th>17495</th>\n",
       "      <td>두산</td>\n",
       "      <td>NC</td>\n",
       "      <td>0</td>\n",
       "    </tr>\n",
       "    <tr>\n",
       "      <th>17496</th>\n",
       "      <td>NC</td>\n",
       "      <td>두산</td>\n",
       "      <td>1</td>\n",
       "    </tr>\n",
       "    <tr>\n",
       "      <th>17497</th>\n",
       "      <td>NC</td>\n",
       "      <td>두산</td>\n",
       "      <td>1</td>\n",
       "    </tr>\n",
       "  </tbody>\n",
       "</table>\n",
       "<p>17478 rows × 3 columns</p>\n",
       "</div>"
      ],
      "text/plain": [
       "      team1 team2  result\n",
       "0        롯데    한화       1\n",
       "1        LG    SK       0\n",
       "2       KIA    삼성       0\n",
       "3        롯데    한화       1\n",
       "4        LG    SK       0\n",
       "...     ...   ...     ...\n",
       "17493    NC    두산       0\n",
       "17494    두산    NC       1\n",
       "17495    두산    NC       0\n",
       "17496    NC    두산       1\n",
       "17497    NC    두산       1\n",
       "\n",
       "[17478 rows x 3 columns]"
      ]
     },
     "execution_count": 42,
     "metadata": {},
     "output_type": "execute_result"
    }
   ],
   "source": [
    "# 필요한 데이터만 추출한다.\n",
    "df5 = df4[['team1', 'team2', 'result']]\n",
    "df5"
   ]
  },
  {
   "cell_type": "code",
   "execution_count": 43,
   "id": "7c65f3e0-279a-43ed-9185-0e15fa3b5711",
   "metadata": {},
   "outputs": [
    {
     "data": {
      "text/plain": [
       "team1  team2\n",
       "KIA    KT       52\n",
       "       LG       48\n",
       "       NC       46\n",
       "       SK       47\n",
       "       넥센_키움    47\n",
       "                ..\n",
       "한화     SK       34\n",
       "       넥센_키움    46\n",
       "       두산       39\n",
       "       롯데       39\n",
       "       삼성       39\n",
       "Name: result, Length: 90, dtype: int32"
      ]
     },
     "execution_count": 43,
     "metadata": {},
     "output_type": "execute_result"
    }
   ],
   "source": [
    "# team1을 기준으로 그룹을 묶고 그 안에서 team2를 기준으로 그룹\n",
    "a1 = df5.groupby(['team1', 'team2'])['result'].sum()\n",
    "a2 = df5.groupby(['team1', 'team2'])['result'].count()\n",
    "\n",
    "# 승률을 계산한다.\n",
    "a3 = (a1/a2*100).astype('int')\n",
    "a3"
   ]
  },
  {
   "cell_type": "code",
   "execution_count": 45,
   "id": "10f30803-d93c-471d-a2a5-3c1006e387fd",
   "metadata": {},
   "outputs": [
    {
     "data": {
      "text/plain": [
       "Index(['두산', 'SK', '넥센_키움', '삼성', 'LG', '롯데', 'KIA', '한화', 'NC', 'KT'], dtype='object')"
      ]
     },
     "execution_count": 45,
     "metadata": {},
     "output_type": "execute_result"
    }
   ],
   "source": [
    "# 전체 팀의 이름을 가져온다.\n",
    "# 시각화 시작\n",
    "team_list = df4['team1'].value_counts().index\n",
    "team_list"
   ]
  },
  {
   "cell_type": "code",
   "execution_count": 46,
   "id": "ded1b104-f51c-4ffd-b2c7-d258e3495ad5",
   "metadata": {
    "collapsed": true,
    "jupyter": {
     "outputs_hidden": true
    },
    "tags": []
   },
   "outputs": [
    {
     "data": {
      "image/png": "[encoded data removed]",
      "text/plain": [
       "<Figure size 864x432 with 1 Axes>"
      ]
     },
     "metadata": {
      "needs_background": "light"
     },
     "output_type": "display_data"
    },
    {
     "data": {
      "image/png": "[encoded data removed]",
      "text/plain": [
       "<Figure size 864x432 with 1 Axes>"
      ]
     },
     "metadata": {
      "needs_background": "light"
     },
     "output_type": "display_data"
    },
    {
     "data": {
      "image/png": "[encoded data removed]",
      "text/plain": [
       "<Figure size 864x432 with 1 Axes>"
      ]
     },
     "metadata": {
      "needs_background": "light"
     },
     "output_type": "display_data"
    },
    {
     "data": {
      "image/png": "[encoded data removed]",
      "text/plain": [
       "<Figure size 864x432 with 1 Axes>"
      ]
     },
     "metadata": {
      "needs_background": "light"
     },
     "output_type": "display_data"
    },
    {
     "data": {
      "image/png": "[encoded data removed]",
      "text/plain": [
       "<Figure size 864x432 with 1 Axes>"
      ]
     },
     "metadata": {
      "needs_background": "light"
     },
     "output_type": "display_data"
    },
    {
     "data": {
      "image/png": "[encoded data removed]",
      "text/plain": [
       "<Figure size 864x432 with 1 Axes>"
      ]
     },
     "metadata": {
      "needs_background": "light"
     },
     "output_type": "display_data"
    },
    {
     "data": {
      "image/png": "[encoded data removed]",
      "text/plain": [
       "<Figure size 864x432 with 1 Axes>"
      ]
     },
     "metadata": {
      "needs_background": "light"
     },
     "output_type": "display_data"
    },
    {
     "data": {
      "image/png": "[encoded data removed]",
      "text/plain": [
       "<Figure size 864x432 with 1 Axes>"
      ]
     },
     "metadata": {
      "needs_background": "light"
     },
     "output_type": "display_data"
    },
    {
     "data": {
      "image/png": "[encoded data removed]",
      "text/plain": [
       "<Figure size 864x432 with 1 Axes>"
      ]
     },
     "metadata": {
      "needs_background": "light"
     },
     "output_type": "display_data"
    },
    {
     "data": {
      "image/png": "[encoded data removed]",
      "text/plain": [
       "<Figure size 864x432 with 1 Axes>"
      ]
     },
     "metadata": {
      "needs_background": "light"
     },
     "output_type": "display_data"
    }
   ],
   "source": [
    "# 팀의 수 만큼 반복한다.\n",
    "for team_name in team_list : \n",
    "    # 현재 팀의 승률을 정렬\n",
    "    a4 = a3[team_name].sort_values(ascending=False)\n",
    "    #시각화 한다.\n",
    "    a4.plot.bar()\n",
    "    plt.title(team_name)\n",
    "    plt.show()"
   ]
  },
  {
   "cell_type": "code",
   "execution_count": 50,
   "id": "07b028df-4a48-4747-9c34-1482e2048cea",
   "metadata": {},
   "outputs": [
    {
     "data": {
      "text/html": [
       "<div>\n",
       "<style scoped>\n",
       "    .dataframe tbody tr th:only-of-type {\n",
       "        vertical-align: middle;\n",
       "    }\n",
       "\n",
       "    .dataframe tbody tr th {\n",
       "        vertical-align: top;\n",
       "    }\n",
       "\n",
       "    .dataframe thead th {\n",
       "        text-align: right;\n",
       "    }\n",
       "</style>\n",
       "<table border=\"1\" class=\"dataframe\">\n",
       "  <thead>\n",
       "    <tr style=\"text-align: right;\">\n",
       "      <th></th>\n",
       "      <th>동네북</th>\n",
       "    </tr>\n",
       "  </thead>\n",
       "  <tbody>\n",
       "    <tr>\n",
       "      <th>한화</th>\n",
       "      <td>7</td>\n",
       "    </tr>\n",
       "    <tr>\n",
       "      <th>KT</th>\n",
       "      <td>7</td>\n",
       "    </tr>\n",
       "    <tr>\n",
       "      <th>LG</th>\n",
       "      <td>4</td>\n",
       "    </tr>\n",
       "    <tr>\n",
       "      <th>KIA</th>\n",
       "      <td>4</td>\n",
       "    </tr>\n",
       "    <tr>\n",
       "      <th>NC</th>\n",
       "      <td>3</td>\n",
       "    </tr>\n",
       "    <tr>\n",
       "      <th>롯데</th>\n",
       "      <td>2</td>\n",
       "    </tr>\n",
       "    <tr>\n",
       "      <th>SK</th>\n",
       "      <td>1</td>\n",
       "    </tr>\n",
       "    <tr>\n",
       "      <th>넥센_키움</th>\n",
       "      <td>1</td>\n",
       "    </tr>\n",
       "    <tr>\n",
       "      <th>삼성</th>\n",
       "      <td>1</td>\n",
       "    </tr>\n",
       "    <tr>\n",
       "      <th>두산</th>\n",
       "      <td>0</td>\n",
       "    </tr>\n",
       "  </tbody>\n",
       "</table>\n",
       "</div>"
      ],
      "text/plain": [
       "       동네북\n",
       "한화       7\n",
       "KT       7\n",
       "LG       4\n",
       "KIA      4\n",
       "NC       3\n",
       "롯데       2\n",
       "SK       1\n",
       "넥센_키움    1\n",
       "삼성       1\n",
       "두산       0"
      ]
     },
     "metadata": {},
     "output_type": "display_data"
    },
    {
     "data": {
      "image/png": "[encoded data removed]",
      "text/plain": [
       "<Figure size 864x432 with 1 Axes>"
      ]
     },
     "metadata": {
      "needs_background": "light"
     },
     "output_type": "display_data"
    },
    {
     "name": "stdout",
     "output_type": "stream",
     "text": [
      "동네 북은 한화와 KT입니다.\n"
     ]
    }
   ],
   "source": [
    "# 각 팀의 승률이 높은 3개의 팀을 추출해서 여기에 몇 번 포함되는지를 확인한다.\n",
    "data_dict = {}\n",
    "\n",
    "# 딕셔너리에 팀 이름으로 0을 저장한다.\n",
    "for team_name in team_list : \n",
    "    data_dict[team_name] = 0\n",
    "    \n",
    "# display(data_dict)\n",
    "# 팀 이름만큼 반복한다.\n",
    "for team_name in team_list : \n",
    "    # 현재 팀의 승률을 정렬한다.\n",
    "    a4 = a3[team_name].sort_values(ascending=False)\n",
    "    # 상위 3개 팀의 이름을 가져온다.\n",
    "    a5 = a4.head(3).index\n",
    "#     print(a5)\n",
    "\n",
    "# 딕셔너리에 있는 값을 증가시킨다.\n",
    "    for a6 in a5 : \n",
    "        data_dict[a6] = data_dict[a6] + 1\n",
    "    \n",
    "# print(data_dict)\n",
    "\n",
    "# 데이터 프레임을 생성한다.\n",
    "a1 = data_dict.keys()\n",
    "a2 = data_dict.values()\n",
    "\n",
    "result_df = pd.DataFrame(list(a2), index=a1, columns=['동네북'])\n",
    "result_df.sort_values(by='동네북', inplace=True, ascending=False)\n",
    "display(result_df)\n",
    "result_df.plot.bar()\n",
    "plt.show()\n",
    "print('동네 북은 한화와 KT입니다.')"
   ]
  },
  {
   "cell_type": "code",
   "execution_count": null,
   "id": "d4170dd3-fc9d-49e7-b8cb-53990c2fa66f",
   "metadata": {},
   "outputs": [],
   "source": []
  }
 ],
 "metadata": {
  "kernelspec": {
   "display_name": "Python 3",
   "language": "python",
   "name": "python3"
  },
  "language_info": {
   "codemirror_mode": {
    "name": "ipython",
    "version": 3
   },
   "file_extension": ".py",
   "mimetype": "text/x-python",
   "name": "python",
   "nbconvert_exporter": "python",
   "pygments_lexer": "ipython3",
   "version": "3.8.8"
  }
 },
 "nbformat": 4,
 "nbformat_minor": 5
}
