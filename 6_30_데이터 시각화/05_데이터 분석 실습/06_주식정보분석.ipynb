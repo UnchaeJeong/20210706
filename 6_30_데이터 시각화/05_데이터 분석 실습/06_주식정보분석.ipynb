{
 "cells": [
  {
   "cell_type": "code",
   "execution_count": 1,
   "id": "6f6b248c-52b7-4dc1-a739-da8a1a3bab1d",
   "metadata": {},
   "outputs": [],
   "source": [
    "import numpy as np\n",
    "import pandas as pd\n",
    "import matplotlib.pyplot as plt\n",
    "import seaborn as sns\n",
    "\n",
    "# 불필요한 경고 메시지를 나오지 않도록 한다.\n",
    "import warnings\n",
    "warnings.filterwarnings('ignore')\n",
    "\n",
    "#seaborn에서 제공하는 라이브러리\n",
    "#sns.set_style(\"ticks\")\n",
    "# sns.set_style(\"darkgrid\")\n",
    "#sns.set_style(\"whitegrid\")\n",
    "\n",
    "#그래프를 그리기 위한 기본 설정\n",
    "#폰트 설정 - 윈도우\n",
    "plt.rcParams['font.family'] = 'Malgun Gothic'\n",
    "# 폰트 설정 - 맥\n",
    "# plt.rcParams['font.family'] = 'AppleGothic'\n",
    "\n",
    "#그래프의 크기\n",
    "plt.rcParams['figure.figsize'] = 12, 6\n",
    "\n",
    "#글자 크기\n",
    "plt.rcParams['font.size'] = 14\n",
    "\n",
    "#폰트 설정 시 - 기호 깨지는 것 방지하기\n",
    "plt.rcParams['axes.unicode_minus'] = False\n",
    "\n",
    "#plt.rcParams['figure.facecolor'] = 'white'\n",
    "import missingno\n"
   ]
  },
  {
   "cell_type": "markdown",
   "id": "40fa1a8a-68c3-4edb-8c85-4a76ebb915f8",
   "metadata": {},
   "source": [
    "- 주식정보를 읽어오기 위한 라이브러리\n",
    "- pip install pandas_datareader\n"
   ]
  },
  {
   "cell_type": "code",
   "execution_count": 2,
   "id": "9ee3ec09-a115-46e3-b497-130ebe9e635b",
   "metadata": {},
   "outputs": [],
   "source": [
    "from pandas_datareader import data\n",
    "import datetime"
   ]
  },
  {
   "cell_type": "code",
   "execution_count": 3,
   "id": "2b7c219b-3888-4275-8a80-f0e30ed7e81e",
   "metadata": {},
   "outputs": [],
   "source": [
    "# 시작날짜\n",
    "start = datetime.datetime(2010, 1, 1)\n",
    "# 종료 날짜\n",
    "end = datetime.datetime(2021, 7, 7)"
   ]
  },
  {
   "cell_type": "code",
   "execution_count": 4,
   "id": "80310f8f-8c33-4016-8127-92ae3699fd27",
   "metadata": {
    "collapsed": true,
    "jupyter": {
     "outputs_hidden": true
    },
    "tags": []
   },
   "outputs": [
    {
     "ename": "RemoteDataError",
     "evalue": "Unable to read URL: https://finance.yahoo.com/quote/005930.KS/history?period1=1262286000&period2=1625684399&interval=1d&frequency=1d&filter=history\nResponse Text:\nb'<!DOCTYPE html>\\n  <html lang=\"en-us\"><head>\\n  <meta http-equiv=\"content-type\" content=\"text/html; charset=UTF-8\">\\n      <meta charset=\"utf-8\">\\n      <title>Yahoo</title>\\n      <meta name=\"viewport\" content=\"width=device-width,initial-scale=1,minimal-ui\">\\n      <meta http-equiv=\"X-UA-Compatible\" content=\"IE=edge,chrome=1\">\\n      <style>\\n  html {\\n      height: 100%;\\n  }\\n  body {\\n      background: #fafafc url(https://s.yimg.com/nn/img/sad-panda-201402200631.png) 50% 50%;\\n      background-size: cover;\\n      height: 100%;\\n      text-align: center;\\n      font: 300 18px \"helvetica neue\", helvetica, verdana, tahoma, arial, sans-serif;\\n  }\\n  table {\\n      height: 100%;\\n      width: 100%;\\n      table-layout: fixed;\\n      border-collapse: collapse;\\n      border-spacing: 0;\\n      border: none;\\n  }\\n  h1 {\\n      font-size: 42px;\\n      font-weight: 400;\\n      color: #400090;\\n  }\\n  p {\\n      color: #1A1A1A;\\n  }\\n  #message-1 {\\n      font-weight: bold;\\n      margin: 0;\\n  }\\n  #message-2 {\\n      display: inline-block;\\n      *display: inline;\\n      zoom: 1;\\n      max-width: 17em;\\n      _width: 17em;\\n  }\\n      </style>\\n  <script>\\n    document.write(\\'<img src=\"//geo.yahoo.com/b?s=1197757129&t=\\'+new Date().getTime()+\\'&src=aws&err_url=\\'+encodeURIComponent(document.URL)+\\'&err=%<pssc>&test=\\'+encodeURIComponent(\\'%<{Bucket}cqh[:200]>\\')+\\'\" width=\"0px\" height=\"0px\"/>\\');var beacon = new Image();beacon.src=\"//bcn.fp.yahoo.com/p?s=1197757129&t=\"+new Date().getTime()+\"&src=aws&err_url=\"+encodeURIComponent(document.URL)+\"&err=%<pssc>&test=\"+encodeURIComponent(\\'%<{Bucket}cqh[:200]>\\');\\n  </script>\\n  </head>\\n  <body>\\n  <!-- status code : 404 -->\\n  <!-- Not Found on Server -->\\n  <table>\\n  <tbody><tr>\\n      <td>\\n      <img src=\"https://s.yimg.com/rz/p/yahoo_frontpage_en-US_s_f_p_205x58_frontpage.png\" alt=\"Yahoo Logo\">\\n      <h1 style=\"margin-top:20px;\">Will be right back...</h1>\\n      <p id=\"message-1\">Thank you for your patience.</p>\\n      <p id=\"message-2\">Our engineers are working quickly to resolve the issue.</p>\\n      </td>\\n  </tr>\\n  </tbody></table>\\n  </body></html>'",
     "output_type": "error",
     "traceback": [
      "\u001b[1;31m---------------------------------------------------------------------------\u001b[0m",
      "\u001b[1;31mRemoteDataError\u001b[0m                           Traceback (most recent call last)",
      "\u001b[1;32m<ipython-input-4-6d0db2442f94>\u001b[0m in \u001b[0;36m<module>\u001b[1;34m\u001b[0m\n\u001b[0;32m      1\u001b[0m \u001b[1;31m# 삼성전자 주식 데이터를 읽어온다.\u001b[0m\u001b[1;33m\u001b[0m\u001b[1;33m\u001b[0m\u001b[1;33m\u001b[0m\u001b[0m\n\u001b[1;32m----> 2\u001b[1;33m \u001b[0mf\u001b[0m \u001b[1;33m=\u001b[0m \u001b[0mdata\u001b[0m\u001b[1;33m.\u001b[0m\u001b[0mDataReader\u001b[0m\u001b[1;33m(\u001b[0m\u001b[1;34m'005930.KS'\u001b[0m\u001b[1;33m,\u001b[0m \u001b[1;34m'yahoo'\u001b[0m\u001b[1;33m,\u001b[0m\u001b[0mstart\u001b[0m\u001b[1;33m,\u001b[0m\u001b[0mend\u001b[0m\u001b[1;33m)\u001b[0m\u001b[1;33m\u001b[0m\u001b[1;33m\u001b[0m\u001b[0m\n\u001b[0m\u001b[0;32m      3\u001b[0m \u001b[0mf\u001b[0m\u001b[1;33m\u001b[0m\u001b[1;33m\u001b[0m\u001b[0m\n",
      "\u001b[1;32m~\\anaconda3\\lib\\site-packages\\pandas\\util\\_decorators.py\u001b[0m in \u001b[0;36mwrapper\u001b[1;34m(*args, **kwargs)\u001b[0m\n\u001b[0;32m    205\u001b[0m                 \u001b[1;32melse\u001b[0m\u001b[1;33m:\u001b[0m\u001b[1;33m\u001b[0m\u001b[1;33m\u001b[0m\u001b[0m\n\u001b[0;32m    206\u001b[0m                     \u001b[0mkwargs\u001b[0m\u001b[1;33m[\u001b[0m\u001b[0mnew_arg_name\u001b[0m\u001b[1;33m]\u001b[0m \u001b[1;33m=\u001b[0m \u001b[0mnew_arg_value\u001b[0m\u001b[1;33m\u001b[0m\u001b[1;33m\u001b[0m\u001b[0m\n\u001b[1;32m--> 207\u001b[1;33m             \u001b[1;32mreturn\u001b[0m \u001b[0mfunc\u001b[0m\u001b[1;33m(\u001b[0m\u001b[1;33m*\u001b[0m\u001b[0margs\u001b[0m\u001b[1;33m,\u001b[0m \u001b[1;33m**\u001b[0m\u001b[0mkwargs\u001b[0m\u001b[1;33m)\u001b[0m\u001b[1;33m\u001b[0m\u001b[1;33m\u001b[0m\u001b[0m\n\u001b[0m\u001b[0;32m    208\u001b[0m \u001b[1;33m\u001b[0m\u001b[0m\n\u001b[0;32m    209\u001b[0m         \u001b[1;32mreturn\u001b[0m \u001b[0mcast\u001b[0m\u001b[1;33m(\u001b[0m\u001b[0mF\u001b[0m\u001b[1;33m,\u001b[0m \u001b[0mwrapper\u001b[0m\u001b[1;33m)\u001b[0m\u001b[1;33m\u001b[0m\u001b[1;33m\u001b[0m\u001b[0m\n",
      "\u001b[1;32m~\\anaconda3\\lib\\site-packages\\pandas_datareader\\data.py\u001b[0m in \u001b[0;36mDataReader\u001b[1;34m(name, data_source, start, end, retry_count, pause, session, api_key)\u001b[0m\n\u001b[0;32m    374\u001b[0m \u001b[1;33m\u001b[0m\u001b[0m\n\u001b[0;32m    375\u001b[0m     \u001b[1;32mif\u001b[0m \u001b[0mdata_source\u001b[0m \u001b[1;33m==\u001b[0m \u001b[1;34m\"yahoo\"\u001b[0m\u001b[1;33m:\u001b[0m\u001b[1;33m\u001b[0m\u001b[1;33m\u001b[0m\u001b[0m\n\u001b[1;32m--> 376\u001b[1;33m         return YahooDailyReader(\n\u001b[0m\u001b[0;32m    377\u001b[0m             \u001b[0msymbols\u001b[0m\u001b[1;33m=\u001b[0m\u001b[0mname\u001b[0m\u001b[1;33m,\u001b[0m\u001b[1;33m\u001b[0m\u001b[1;33m\u001b[0m\u001b[0m\n\u001b[0;32m    378\u001b[0m             \u001b[0mstart\u001b[0m\u001b[1;33m=\u001b[0m\u001b[0mstart\u001b[0m\u001b[1;33m,\u001b[0m\u001b[1;33m\u001b[0m\u001b[1;33m\u001b[0m\u001b[0m\n",
      "\u001b[1;32m~\\anaconda3\\lib\\site-packages\\pandas_datareader\\base.py\u001b[0m in \u001b[0;36mread\u001b[1;34m(self)\u001b[0m\n\u001b[0;32m    251\u001b[0m         \u001b[1;31m# If a single symbol, (e.g., 'GOOG')\u001b[0m\u001b[1;33m\u001b[0m\u001b[1;33m\u001b[0m\u001b[1;33m\u001b[0m\u001b[0m\n\u001b[0;32m    252\u001b[0m         \u001b[1;32mif\u001b[0m \u001b[0misinstance\u001b[0m\u001b[1;33m(\u001b[0m\u001b[0mself\u001b[0m\u001b[1;33m.\u001b[0m\u001b[0msymbols\u001b[0m\u001b[1;33m,\u001b[0m \u001b[1;33m(\u001b[0m\u001b[0mstring_types\u001b[0m\u001b[1;33m,\u001b[0m \u001b[0mint\u001b[0m\u001b[1;33m)\u001b[0m\u001b[1;33m)\u001b[0m\u001b[1;33m:\u001b[0m\u001b[1;33m\u001b[0m\u001b[1;33m\u001b[0m\u001b[0m\n\u001b[1;32m--> 253\u001b[1;33m             \u001b[0mdf\u001b[0m \u001b[1;33m=\u001b[0m \u001b[0mself\u001b[0m\u001b[1;33m.\u001b[0m\u001b[0m_read_one_data\u001b[0m\u001b[1;33m(\u001b[0m\u001b[0mself\u001b[0m\u001b[1;33m.\u001b[0m\u001b[0murl\u001b[0m\u001b[1;33m,\u001b[0m \u001b[0mparams\u001b[0m\u001b[1;33m=\u001b[0m\u001b[0mself\u001b[0m\u001b[1;33m.\u001b[0m\u001b[0m_get_params\u001b[0m\u001b[1;33m(\u001b[0m\u001b[0mself\u001b[0m\u001b[1;33m.\u001b[0m\u001b[0msymbols\u001b[0m\u001b[1;33m)\u001b[0m\u001b[1;33m)\u001b[0m\u001b[1;33m\u001b[0m\u001b[1;33m\u001b[0m\u001b[0m\n\u001b[0m\u001b[0;32m    254\u001b[0m         \u001b[1;31m# Or multiple symbols, (e.g., ['GOOG', 'AAPL', 'MSFT'])\u001b[0m\u001b[1;33m\u001b[0m\u001b[1;33m\u001b[0m\u001b[1;33m\u001b[0m\u001b[0m\n\u001b[0;32m    255\u001b[0m         \u001b[1;32melif\u001b[0m \u001b[0misinstance\u001b[0m\u001b[1;33m(\u001b[0m\u001b[0mself\u001b[0m\u001b[1;33m.\u001b[0m\u001b[0msymbols\u001b[0m\u001b[1;33m,\u001b[0m \u001b[0mDataFrame\u001b[0m\u001b[1;33m)\u001b[0m\u001b[1;33m:\u001b[0m\u001b[1;33m\u001b[0m\u001b[1;33m\u001b[0m\u001b[0m\n",
      "\u001b[1;32m~\\anaconda3\\lib\\site-packages\\pandas_datareader\\yahoo\\daily.py\u001b[0m in \u001b[0;36m_read_one_data\u001b[1;34m(self, url, params)\u001b[0m\n\u001b[0;32m    151\u001b[0m         \u001b[0murl\u001b[0m \u001b[1;33m=\u001b[0m \u001b[0murl\u001b[0m\u001b[1;33m.\u001b[0m\u001b[0mformat\u001b[0m\u001b[1;33m(\u001b[0m\u001b[0msymbol\u001b[0m\u001b[1;33m)\u001b[0m\u001b[1;33m\u001b[0m\u001b[1;33m\u001b[0m\u001b[0m\n\u001b[0;32m    152\u001b[0m \u001b[1;33m\u001b[0m\u001b[0m\n\u001b[1;32m--> 153\u001b[1;33m         \u001b[0mresp\u001b[0m \u001b[1;33m=\u001b[0m \u001b[0mself\u001b[0m\u001b[1;33m.\u001b[0m\u001b[0m_get_response\u001b[0m\u001b[1;33m(\u001b[0m\u001b[0murl\u001b[0m\u001b[1;33m,\u001b[0m \u001b[0mparams\u001b[0m\u001b[1;33m=\u001b[0m\u001b[0mparams\u001b[0m\u001b[1;33m)\u001b[0m\u001b[1;33m\u001b[0m\u001b[1;33m\u001b[0m\u001b[0m\n\u001b[0m\u001b[0;32m    154\u001b[0m         \u001b[0mptrn\u001b[0m \u001b[1;33m=\u001b[0m \u001b[1;34mr\"root\\.App\\.main = (.*?);\\n}\\(this\\)\\);\"\u001b[0m\u001b[1;33m\u001b[0m\u001b[1;33m\u001b[0m\u001b[0m\n\u001b[0;32m    155\u001b[0m         \u001b[1;32mtry\u001b[0m\u001b[1;33m:\u001b[0m\u001b[1;33m\u001b[0m\u001b[1;33m\u001b[0m\u001b[0m\n",
      "\u001b[1;32m~\\anaconda3\\lib\\site-packages\\pandas_datareader\\base.py\u001b[0m in \u001b[0;36m_get_response\u001b[1;34m(self, url, params, headers)\u001b[0m\n\u001b[0;32m    179\u001b[0m             \u001b[0mmsg\u001b[0m \u001b[1;33m+=\u001b[0m \u001b[1;34m\"\\nResponse Text:\\n{0}\"\u001b[0m\u001b[1;33m.\u001b[0m\u001b[0mformat\u001b[0m\u001b[1;33m(\u001b[0m\u001b[0mlast_response_text\u001b[0m\u001b[1;33m)\u001b[0m\u001b[1;33m\u001b[0m\u001b[1;33m\u001b[0m\u001b[0m\n\u001b[0;32m    180\u001b[0m \u001b[1;33m\u001b[0m\u001b[0m\n\u001b[1;32m--> 181\u001b[1;33m         \u001b[1;32mraise\u001b[0m \u001b[0mRemoteDataError\u001b[0m\u001b[1;33m(\u001b[0m\u001b[0mmsg\u001b[0m\u001b[1;33m)\u001b[0m\u001b[1;33m\u001b[0m\u001b[1;33m\u001b[0m\u001b[0m\n\u001b[0m\u001b[0;32m    182\u001b[0m \u001b[1;33m\u001b[0m\u001b[0m\n\u001b[0;32m    183\u001b[0m     \u001b[1;32mdef\u001b[0m \u001b[0m_get_crumb\u001b[0m\u001b[1;33m(\u001b[0m\u001b[0mself\u001b[0m\u001b[1;33m,\u001b[0m \u001b[1;33m*\u001b[0m\u001b[0margs\u001b[0m\u001b[1;33m)\u001b[0m\u001b[1;33m:\u001b[0m\u001b[1;33m\u001b[0m\u001b[1;33m\u001b[0m\u001b[0m\n",
      "\u001b[1;31mRemoteDataError\u001b[0m: Unable to read URL: https://finance.yahoo.com/quote/005930.KS/history?period1=1262286000&period2=1625684399&interval=1d&frequency=1d&filter=history\nResponse Text:\nb'<!DOCTYPE html>\\n  <html lang=\"en-us\"><head>\\n  <meta http-equiv=\"content-type\" content=\"text/html; charset=UTF-8\">\\n      <meta charset=\"utf-8\">\\n      <title>Yahoo</title>\\n      <meta name=\"viewport\" content=\"width=device-width,initial-scale=1,minimal-ui\">\\n      <meta http-equiv=\"X-UA-Compatible\" content=\"IE=edge,chrome=1\">\\n      <style>\\n  html {\\n      height: 100%;\\n  }\\n  body {\\n      background: #fafafc url(https://s.yimg.com/nn/img/sad-panda-201402200631.png) 50% 50%;\\n      background-size: cover;\\n      height: 100%;\\n      text-align: center;\\n      font: 300 18px \"helvetica neue\", helvetica, verdana, tahoma, arial, sans-serif;\\n  }\\n  table {\\n      height: 100%;\\n      width: 100%;\\n      table-layout: fixed;\\n      border-collapse: collapse;\\n      border-spacing: 0;\\n      border: none;\\n  }\\n  h1 {\\n      font-size: 42px;\\n      font-weight: 400;\\n      color: #400090;\\n  }\\n  p {\\n      color: #1A1A1A;\\n  }\\n  #message-1 {\\n      font-weight: bold;\\n      margin: 0;\\n  }\\n  #message-2 {\\n      display: inline-block;\\n      *display: inline;\\n      zoom: 1;\\n      max-width: 17em;\\n      _width: 17em;\\n  }\\n      </style>\\n  <script>\\n    document.write(\\'<img src=\"//geo.yahoo.com/b?s=1197757129&t=\\'+new Date().getTime()+\\'&src=aws&err_url=\\'+encodeURIComponent(document.URL)+\\'&err=%<pssc>&test=\\'+encodeURIComponent(\\'%<{Bucket}cqh[:200]>\\')+\\'\" width=\"0px\" height=\"0px\"/>\\');var beacon = new Image();beacon.src=\"//bcn.fp.yahoo.com/p?s=1197757129&t=\"+new Date().getTime()+\"&src=aws&err_url=\"+encodeURIComponent(document.URL)+\"&err=%<pssc>&test=\"+encodeURIComponent(\\'%<{Bucket}cqh[:200]>\\');\\n  </script>\\n  </head>\\n  <body>\\n  <!-- status code : 404 -->\\n  <!-- Not Found on Server -->\\n  <table>\\n  <tbody><tr>\\n      <td>\\n      <img src=\"https://s.yimg.com/rz/p/yahoo_frontpage_en-US_s_f_p_205x58_frontpage.png\" alt=\"Yahoo Logo\">\\n      <h1 style=\"margin-top:20px;\">Will be right back...</h1>\\n      <p id=\"message-1\">Thank you for your patience.</p>\\n      <p id=\"message-2\">Our engineers are working quickly to resolve the issue.</p>\\n      </td>\\n  </tr>\\n  </tbody></table>\\n  </body></html>'"
     ]
    }
   ],
   "source": [
    "# 삼성전자 주식 데이터를 읽어온다.\n",
    "# f = data.DataReader('005930.KS', 'yahoo',start,end)\n",
    "# f"
   ]
  },
  {
   "cell_type": "code",
   "execution_count": 5,
   "id": "917d70b6-3a3a-438f-bf0d-c2955a7f2d3b",
   "metadata": {},
   "outputs": [
    {
     "data": {
      "text/html": [
       "<div>\n",
       "<style scoped>\n",
       "    .dataframe tbody tr th:only-of-type {\n",
       "        vertical-align: middle;\n",
       "    }\n",
       "\n",
       "    .dataframe tbody tr th {\n",
       "        vertical-align: top;\n",
       "    }\n",
       "\n",
       "    .dataframe thead th {\n",
       "        text-align: right;\n",
       "    }\n",
       "</style>\n",
       "<table border=\"1\" class=\"dataframe\">\n",
       "  <thead>\n",
       "    <tr style=\"text-align: right;\">\n",
       "      <th></th>\n",
       "      <th>Open</th>\n",
       "      <th>High</th>\n",
       "      <th>Low</th>\n",
       "      <th>Close</th>\n",
       "      <th>Adj Close</th>\n",
       "      <th>Volume</th>\n",
       "    </tr>\n",
       "    <tr>\n",
       "      <th>Date</th>\n",
       "      <th></th>\n",
       "      <th></th>\n",
       "      <th></th>\n",
       "      <th></th>\n",
       "      <th></th>\n",
       "      <th></th>\n",
       "    </tr>\n",
       "  </thead>\n",
       "  <tbody>\n",
       "    <tr>\n",
       "      <th>2010-01-04</th>\n",
       "      <td>16060.0</td>\n",
       "      <td>16180.0</td>\n",
       "      <td>16000.0</td>\n",
       "      <td>16180.0</td>\n",
       "      <td>13134.010742</td>\n",
       "      <td>11950800.0</td>\n",
       "    </tr>\n",
       "    <tr>\n",
       "      <th>2010-01-05</th>\n",
       "      <td>16520.0</td>\n",
       "      <td>16580.0</td>\n",
       "      <td>16300.0</td>\n",
       "      <td>16440.0</td>\n",
       "      <td>13345.065430</td>\n",
       "      <td>27925850.0</td>\n",
       "    </tr>\n",
       "    <tr>\n",
       "      <th>2010-01-06</th>\n",
       "      <td>16580.0</td>\n",
       "      <td>16820.0</td>\n",
       "      <td>16520.0</td>\n",
       "      <td>16820.0</td>\n",
       "      <td>13653.530273</td>\n",
       "      <td>22948850.0</td>\n",
       "    </tr>\n",
       "    <tr>\n",
       "      <th>2010-01-07</th>\n",
       "      <td>16820.0</td>\n",
       "      <td>16820.0</td>\n",
       "      <td>16260.0</td>\n",
       "      <td>16260.0</td>\n",
       "      <td>13198.952148</td>\n",
       "      <td>22107950.0</td>\n",
       "    </tr>\n",
       "    <tr>\n",
       "      <th>2010-01-08</th>\n",
       "      <td>16400.0</td>\n",
       "      <td>16420.0</td>\n",
       "      <td>16120.0</td>\n",
       "      <td>16420.0</td>\n",
       "      <td>13328.830078</td>\n",
       "      <td>14777550.0</td>\n",
       "    </tr>\n",
       "    <tr>\n",
       "      <th>...</th>\n",
       "      <td>...</td>\n",
       "      <td>...</td>\n",
       "      <td>...</td>\n",
       "      <td>...</td>\n",
       "      <td>...</td>\n",
       "      <td>...</td>\n",
       "    </tr>\n",
       "    <tr>\n",
       "      <th>2021-07-01</th>\n",
       "      <td>80500.0</td>\n",
       "      <td>80600.0</td>\n",
       "      <td>80000.0</td>\n",
       "      <td>80100.0</td>\n",
       "      <td>80100.000000</td>\n",
       "      <td>13382882.0</td>\n",
       "    </tr>\n",
       "    <tr>\n",
       "      <th>2021-07-02</th>\n",
       "      <td>80000.0</td>\n",
       "      <td>80400.0</td>\n",
       "      <td>79900.0</td>\n",
       "      <td>80000.0</td>\n",
       "      <td>80000.000000</td>\n",
       "      <td>8753097.0</td>\n",
       "    </tr>\n",
       "    <tr>\n",
       "      <th>2021-07-05</th>\n",
       "      <td>80100.0</td>\n",
       "      <td>80800.0</td>\n",
       "      <td>80000.0</td>\n",
       "      <td>80400.0</td>\n",
       "      <td>80400.000000</td>\n",
       "      <td>8330969.0</td>\n",
       "    </tr>\n",
       "    <tr>\n",
       "      <th>2021-07-06</th>\n",
       "      <td>80600.0</td>\n",
       "      <td>81200.0</td>\n",
       "      <td>80500.0</td>\n",
       "      <td>81200.0</td>\n",
       "      <td>81200.000000</td>\n",
       "      <td>12131651.0</td>\n",
       "    </tr>\n",
       "    <tr>\n",
       "      <th>2021-07-07</th>\n",
       "      <td>81200.0</td>\n",
       "      <td>81300.0</td>\n",
       "      <td>80300.0</td>\n",
       "      <td>80800.0</td>\n",
       "      <td>80800.000000</td>\n",
       "      <td>15992202.0</td>\n",
       "    </tr>\n",
       "  </tbody>\n",
       "</table>\n",
       "<p>2841 rows × 6 columns</p>\n",
       "</div>"
      ],
      "text/plain": [
       "               Open     High      Low    Close     Adj Close      Volume\n",
       "Date                                                                    \n",
       "2010-01-04  16060.0  16180.0  16000.0  16180.0  13134.010742  11950800.0\n",
       "2010-01-05  16520.0  16580.0  16300.0  16440.0  13345.065430  27925850.0\n",
       "2010-01-06  16580.0  16820.0  16520.0  16820.0  13653.530273  22948850.0\n",
       "2010-01-07  16820.0  16820.0  16260.0  16260.0  13198.952148  22107950.0\n",
       "2010-01-08  16400.0  16420.0  16120.0  16420.0  13328.830078  14777550.0\n",
       "...             ...      ...      ...      ...           ...         ...\n",
       "2021-07-01  80500.0  80600.0  80000.0  80100.0  80100.000000  13382882.0\n",
       "2021-07-02  80000.0  80400.0  79900.0  80000.0  80000.000000   8753097.0\n",
       "2021-07-05  80100.0  80800.0  80000.0  80400.0  80400.000000   8330969.0\n",
       "2021-07-06  80600.0  81200.0  80500.0  81200.0  81200.000000  12131651.0\n",
       "2021-07-07  81200.0  81300.0  80300.0  80800.0  80800.000000  15992202.0\n",
       "\n",
       "[2841 rows x 6 columns]"
      ]
     },
     "execution_count": 5,
     "metadata": {},
     "output_type": "execute_result"
    }
   ],
   "source": [
    "# 내려받은 csv 파일을 읽어온다.\n",
    "f = pd.read_csv('data/005930.KS.csv')\n",
    "cel = f.set_index('Date')\n",
    "cel"
   ]
  },
  {
   "cell_type": "code",
   "execution_count": 6,
   "id": "1d50b6f5-8029-4694-8746-e8c71f9a893d",
   "metadata": {},
   "outputs": [
    {
     "data": {
      "text/plain": [
       "Index(['2010-01-04', '2010-01-05', '2010-01-06', '2010-01-07', '2010-01-08',\n",
       "       '2010-01-11', '2010-01-12', '2010-01-13', '2010-01-14', '2010-01-15',\n",
       "       ...\n",
       "       '2021-06-24', '2021-06-25', '2021-06-28', '2021-06-29', '2021-06-30',\n",
       "       '2021-07-01', '2021-07-02', '2021-07-05', '2021-07-06', '2021-07-07'],\n",
       "      dtype='object', name='Date', length=2841)"
      ]
     },
     "execution_count": 6,
     "metadata": {},
     "output_type": "execute_result"
    }
   ],
   "source": [
    "# 인덱스의 데이터 타입을 확인한다.\n",
    "# dtype을 확인한다.\n",
    "cel.index"
   ]
  },
  {
   "cell_type": "code",
   "execution_count": 7,
   "id": "eb1d4650-7947-4109-bdf6-b98f70098829",
   "metadata": {},
   "outputs": [
    {
     "name": "stdout",
     "output_type": "stream",
     "text": [
      "<class 'pandas.core.frame.DataFrame'>\n",
      "Index: 2841 entries, 2010-01-04 to 2021-07-07\n",
      "Data columns (total 6 columns):\n",
      " #   Column     Non-Null Count  Dtype  \n",
      "---  ------     --------------  -----  \n",
      " 0   Open       2836 non-null   float64\n",
      " 1   High       2836 non-null   float64\n",
      " 2   Low        2836 non-null   float64\n",
      " 3   Close      2836 non-null   float64\n",
      " 4   Adj Close  2836 non-null   float64\n",
      " 5   Volume     2836 non-null   float64\n",
      "dtypes: float64(6)\n",
      "memory usage: 155.4+ KB\n"
     ]
    }
   ],
   "source": [
    "# 컬럼들의 데이터 타입을 확인한다.\n",
    "cel.info()"
   ]
  },
  {
   "cell_type": "code",
   "execution_count": 8,
   "id": "0e07596d-7bff-4a77-962b-0d2e883c849b",
   "metadata": {},
   "outputs": [
    {
     "data": {
      "text/plain": [
       "DatetimeIndex(['2010-01-04', '2010-01-05', '2010-01-06', '2010-01-07',\n",
       "               '2010-01-08', '2010-01-11', '2010-01-12', '2010-01-13',\n",
       "               '2010-01-14', '2010-01-15',\n",
       "               ...\n",
       "               '2021-06-24', '2021-06-25', '2021-06-28', '2021-06-29',\n",
       "               '2021-06-30', '2021-07-01', '2021-07-02', '2021-07-05',\n",
       "               '2021-07-06', '2021-07-07'],\n",
       "              dtype='datetime64[ns]', name='Date', length=2841, freq=None)"
      ]
     },
     "execution_count": 8,
     "metadata": {},
     "output_type": "execute_result"
    }
   ],
   "source": [
    "# 인덱스를 날짜 타입으로 변경한다.(dtype float64 -> datetime64[ns])\n",
    "cel.index = pd.to_datetime(cel.index, format='%Y-%m-%d')\n",
    "cel.index"
   ]
  },
  {
   "cell_type": "markdown",
   "id": "9eb0bd79-4d50-4198-9792-66e81dee8853",
   "metadata": {},
   "source": [
    "### 주식 데이터 확인\n"
   ]
  },
  {
   "cell_type": "code",
   "execution_count": 9,
   "id": "b5657c70-a2da-423a-aa98-4e04a38b6a17",
   "metadata": {},
   "outputs": [
    {
     "name": "stdout",
     "output_type": "stream",
     "text": [
      "<class 'pandas.core.frame.DataFrame'>\n",
      "DatetimeIndex: 2841 entries, 2010-01-04 to 2021-07-07\n",
      "Data columns (total 6 columns):\n",
      " #   Column     Non-Null Count  Dtype  \n",
      "---  ------     --------------  -----  \n",
      " 0   Open       2836 non-null   float64\n",
      " 1   High       2836 non-null   float64\n",
      " 2   Low        2836 non-null   float64\n",
      " 3   Close      2836 non-null   float64\n",
      " 4   Adj Close  2836 non-null   float64\n",
      " 5   Volume     2836 non-null   float64\n",
      "dtypes: float64(6)\n",
      "memory usage: 155.4 KB\n"
     ]
    }
   ],
   "source": [
    "# 데이터 프레임의 요약 정보 확인\n",
    "# 컬럼이름, Dtype(머신러닝에서는 다 숫자로 구성되어야 함)\n",
    "cel.info()\n"
   ]
  },
  {
   "cell_type": "code",
   "execution_count": 10,
   "id": "518d629d-3be9-4f5d-b1a5-b4d5f8b0dbb7",
   "metadata": {},
   "outputs": [
    {
     "data": {
      "text/plain": [
       "Open         5\n",
       "High         5\n",
       "Low          5\n",
       "Close        5\n",
       "Adj Close    5\n",
       "Volume       5\n",
       "dtype: int64"
      ]
     },
     "execution_count": 10,
     "metadata": {},
     "output_type": "execute_result"
    }
   ],
   "source": [
    "cel.isna().sum()"
   ]
  },
  {
   "cell_type": "code",
   "execution_count": 11,
   "id": "1028c0a1-c57a-4bd8-9eca-7df2bce5f603",
   "metadata": {},
   "outputs": [
    {
     "data": {
      "image/png": "[encoded data removed]",
      "text/plain": [
       "<Figure size 1440x720 with 2 Axes>"
      ]
     },
     "metadata": {
      "needs_background": "light"
     },
     "output_type": "display_data"
    }
   ],
   "source": [
    "missingno.matrix(cel, figsize = (20,10));"
   ]
  },
  {
   "cell_type": "code",
   "execution_count": 12,
   "id": "2e584a7c-57e6-46fa-a1db-d7d1c030b7bd",
   "metadata": {},
   "outputs": [
    {
     "data": {
      "text/html": [
       "<div>\n",
       "<style scoped>\n",
       "    .dataframe tbody tr th:only-of-type {\n",
       "        vertical-align: middle;\n",
       "    }\n",
       "\n",
       "    .dataframe tbody tr th {\n",
       "        vertical-align: top;\n",
       "    }\n",
       "\n",
       "    .dataframe thead th {\n",
       "        text-align: right;\n",
       "    }\n",
       "</style>\n",
       "<table border=\"1\" class=\"dataframe\">\n",
       "  <thead>\n",
       "    <tr style=\"text-align: right;\">\n",
       "      <th></th>\n",
       "      <th>Open</th>\n",
       "      <th>High</th>\n",
       "      <th>Low</th>\n",
       "      <th>Close</th>\n",
       "      <th>Adj Close</th>\n",
       "      <th>Volume</th>\n",
       "    </tr>\n",
       "    <tr>\n",
       "      <th>Date</th>\n",
       "      <th></th>\n",
       "      <th></th>\n",
       "      <th></th>\n",
       "      <th></th>\n",
       "      <th></th>\n",
       "      <th></th>\n",
       "    </tr>\n",
       "  </thead>\n",
       "  <tbody>\n",
       "    <tr>\n",
       "      <th>2017-11-16</th>\n",
       "      <td>NaN</td>\n",
       "      <td>NaN</td>\n",
       "      <td>NaN</td>\n",
       "      <td>NaN</td>\n",
       "      <td>NaN</td>\n",
       "      <td>NaN</td>\n",
       "    </tr>\n",
       "    <tr>\n",
       "      <th>2017-11-23</th>\n",
       "      <td>NaN</td>\n",
       "      <td>NaN</td>\n",
       "      <td>NaN</td>\n",
       "      <td>NaN</td>\n",
       "      <td>NaN</td>\n",
       "      <td>NaN</td>\n",
       "    </tr>\n",
       "    <tr>\n",
       "      <th>2018-01-02</th>\n",
       "      <td>NaN</td>\n",
       "      <td>NaN</td>\n",
       "      <td>NaN</td>\n",
       "      <td>NaN</td>\n",
       "      <td>NaN</td>\n",
       "      <td>NaN</td>\n",
       "    </tr>\n",
       "    <tr>\n",
       "      <th>2018-11-15</th>\n",
       "      <td>NaN</td>\n",
       "      <td>NaN</td>\n",
       "      <td>NaN</td>\n",
       "      <td>NaN</td>\n",
       "      <td>NaN</td>\n",
       "      <td>NaN</td>\n",
       "    </tr>\n",
       "    <tr>\n",
       "      <th>2019-11-14</th>\n",
       "      <td>NaN</td>\n",
       "      <td>NaN</td>\n",
       "      <td>NaN</td>\n",
       "      <td>NaN</td>\n",
       "      <td>NaN</td>\n",
       "      <td>NaN</td>\n",
       "    </tr>\n",
       "  </tbody>\n",
       "</table>\n",
       "</div>"
      ],
      "text/plain": [
       "            Open  High  Low  Close  Adj Close  Volume\n",
       "Date                                                 \n",
       "2017-11-16   NaN   NaN  NaN    NaN        NaN     NaN\n",
       "2017-11-23   NaN   NaN  NaN    NaN        NaN     NaN\n",
       "2018-01-02   NaN   NaN  NaN    NaN        NaN     NaN\n",
       "2018-11-15   NaN   NaN  NaN    NaN        NaN     NaN\n",
       "2019-11-14   NaN   NaN  NaN    NaN        NaN     NaN"
      ]
     },
     "execution_count": 12,
     "metadata": {},
     "output_type": "execute_result"
    }
   ],
   "source": [
    "cel[cel['Open'].isna()]"
   ]
  },
  {
   "cell_type": "code",
   "execution_count": 13,
   "id": "8e1b4117-e10e-4b1a-8339-ddcbd6d267c7",
   "metadata": {},
   "outputs": [
    {
     "data": {
      "text/plain": [
       "Open         0\n",
       "High         0\n",
       "Low          0\n",
       "Close        0\n",
       "Adj Close    0\n",
       "Volume       0\n",
       "dtype: int64"
      ]
     },
     "execution_count": 13,
     "metadata": {},
     "output_type": "execute_result"
    }
   ],
   "source": [
    "# 결측치는 제거한다\n",
    "cel.dropna(inplace=True)\n",
    "cel.isna().sum()"
   ]
  },
  {
   "cell_type": "markdown",
   "id": "109c4302-5e9c-4ab8-8a13-7e181ae86409",
   "metadata": {},
   "source": [
    "### 일 별 수익률 계산"
   ]
  },
  {
   "cell_type": "code",
   "execution_count": 14,
   "id": "1597ae6a-356d-44de-b1ea-bd6e52c05c06",
   "metadata": {},
   "outputs": [
    {
     "data": {
      "text/plain": [
       "Date\n",
       "2010-01-04      NaN\n",
       "2010-01-05    260.0\n",
       "2010-01-06    380.0\n",
       "2010-01-07   -560.0\n",
       "2010-01-08    160.0\n",
       "              ...  \n",
       "2021-07-01   -600.0\n",
       "2021-07-02   -100.0\n",
       "2021-07-05    400.0\n",
       "2021-07-06    800.0\n",
       "2021-07-07   -400.0\n",
       "Name: Close, Length: 2836, dtype: float64"
      ]
     },
     "execution_count": 14,
     "metadata": {},
     "output_type": "execute_result"
    }
   ],
   "source": [
    "# 이전 데이터와 얼마나 차이가 나는가.\n",
    "\n",
    "cel['Close'].diff()"
   ]
  },
  {
   "cell_type": "code",
   "execution_count": 17,
   "id": "3fda00a4-ae1f-4703-936b-63cfb8cc95f6",
   "metadata": {},
   "outputs": [
    {
     "data": {
      "text/plain": [
       "Date\n",
       "2010-01-04         NaN\n",
       "2010-01-05    0.016069\n",
       "2010-01-06    0.023114\n",
       "2010-01-07   -0.033294\n",
       "2010-01-08    0.009840\n",
       "                ...   \n",
       "2021-07-01   -0.007435\n",
       "2021-07-02   -0.001248\n",
       "2021-07-05    0.005000\n",
       "2021-07-06    0.009950\n",
       "2021-07-07   -0.004926\n",
       "Name: Close, Length: 2836, dtype: float64"
      ]
     },
     "execution_count": 17,
     "metadata": {},
     "output_type": "execute_result"
    }
   ],
   "source": [
    "#이전보다 몇 퍼센트 정도 등락했는지 (-1 ~ 0 ~ 1)\n",
    "cel['Close'].pct_change()\n"
   ]
  },
  {
   "cell_type": "code",
   "execution_count": 18,
   "id": "c230a636-098f-41f3-9892-6be072c71fd9",
   "metadata": {},
   "outputs": [
    {
     "name": "stdout",
     "output_type": "stream",
     "text": [
      "-3000.0\n",
      "5900.0\n"
     ]
    }
   ],
   "source": [
    "# diff 에 대한 시각화\n",
    "a1 = cel['Close'].diff()\n",
    "\n",
    "#최소와 최대값을 구한다.\n",
    "a1_min = a1.min()\n",
    "a1_max = a1.max()\n",
    "print(a1_min)\n",
    "print(a1_max)"
   ]
  },
  {
   "cell_type": "code",
   "execution_count": 30,
   "id": "26c0c05e-839c-426b-90dd-36608a0eb25e",
   "metadata": {},
   "outputs": [
    {
     "data": {
      "image/png": "[encoded data removed]",
      "text/plain": [
       "<Figure size 864x432 with 1 Axes>"
      ]
     },
     "metadata": {
      "needs_background": "light"
     },
     "output_type": "display_data"
    }
   ],
   "source": [
    "# 막대 그래프를 그린다. 반환으로 막대들을 관리할 수 있는 객체를 받는다.\n",
    "bar_list = plt.bar(a1.index, a1.values)\n",
    "# print(bar_list)\n",
    "\n",
    "#값이 0보다 크면 빨간색, 작으면 파란색으로 설정한다.\n",
    "for idx, value in enumerate(a1.values):\n",
    "    if value > 0 :\n",
    "        bar_list[idx].set_color('r')\n",
    "    elif value < 0 :\n",
    "        bar_list[idx].set_color('b')\n",
    "        \n",
    "\n",
    "plt.ylim(-6000, 6000)\n",
    "\n",
    "plt.show()"
   ]
  },
  {
   "cell_type": "code",
   "execution_count": 31,
   "id": "efedcd46-e82a-44a2-a1eb-729d5ee20b4c",
   "metadata": {},
   "outputs": [
    {
     "data": {
      "text/plain": [
       "array([False, False, False, ..., False, False,  True])"
      ]
     },
     "execution_count": 31,
     "metadata": {},
     "output_type": "execute_result"
    }
   ],
   "source": [
    "a1.values < 0"
   ]
  },
  {
   "cell_type": "code",
   "execution_count": 32,
   "id": "3d52ad93-c3d1-46e9-8947-37f3c3b6364d",
   "metadata": {},
   "outputs": [
    {
     "data": {
      "text/plain": [
       "Date\n",
       "2010-01-07   -560.0\n",
       "2010-01-11   -480.0\n",
       "2010-01-13   -240.0\n",
       "2010-01-19   -400.0\n",
       "2010-01-22   -500.0\n",
       "              ...  \n",
       "2021-06-29   -900.0\n",
       "2021-06-30   -300.0\n",
       "2021-07-01   -600.0\n",
       "2021-07-02   -100.0\n",
       "2021-07-07   -400.0\n",
       "Name: Close, Length: 1315, dtype: float64"
      ]
     },
     "execution_count": 32,
     "metadata": {},
     "output_type": "execute_result"
    }
   ],
   "source": [
    "a1[a1.values < 0]\n",
    "# abs절댓값 쓰면 하나도 안나옴."
   ]
  },
  {
   "cell_type": "code",
   "execution_count": 34,
   "id": "48040b4d-9787-47a8-ba15-cbbc2b5dee00",
   "metadata": {},
   "outputs": [
    {
     "data": {
      "image/png": "[encoded data removed]",
      "text/plain": [
       "<Figure size 864x432 with 1 Axes>"
      ]
     },
     "metadata": {
      "needs_background": "light"
     },
     "output_type": "display_data"
    }
   ],
   "source": [
    "# 막대 그래프를 그린다. 반환으로 막대들을 관리할 수 있는 객체를 받는다.\n",
    "bar_list = plt.bar(a1.index, abs(a1.values))\n",
    "# print(bar_list)\n",
    "\n",
    "#값이 0보다 크면 빨간색, 작으면 파란색으로 설정한다.\n",
    "for idx, value in enumerate(a1.values):\n",
    "    if value > 0 :\n",
    "        bar_list[idx].set_color('r')\n",
    "    elif value < 0 :\n",
    "        bar_list[idx].set_color('b')\n",
    "\n",
    "plt.show()"
   ]
  },
  {
   "cell_type": "code",
   "execution_count": 39,
   "id": "0be4fc4f-06fd-4f15-a686-2cd1ccc7c31b",
   "metadata": {},
   "outputs": [
    {
     "data": {
      "text/plain": [
       "Date\n",
       "2010-01-04         NaN\n",
       "2010-01-05    1.606922\n",
       "2010-01-06    2.311436\n",
       "2010-01-07   -3.329370\n",
       "2010-01-08    0.984010\n",
       "                ...   \n",
       "2021-07-01   -0.743494\n",
       "2021-07-02   -0.124844\n",
       "2021-07-05    0.500000\n",
       "2021-07-06    0.995025\n",
       "2021-07-07   -0.492611\n",
       "Name: Close, Length: 2836, dtype: float64"
      ]
     },
     "execution_count": 39,
     "metadata": {},
     "output_type": "execute_result"
    }
   ],
   "source": [
    "# 이전보다 몇 퍼센트 등락\n",
    "a1 = cel['Close'].pct_change()\n",
    "a1 = a1 * 100\n",
    "a1"
   ]
  },
  {
   "cell_type": "code",
   "execution_count": 40,
   "id": "19714f3b-6317-4283-9b12-37fbbd081403",
   "metadata": {},
   "outputs": [
    {
     "data": {
      "image/png": "[encoded data removed]",
      "text/plain": [
       "<Figure size 864x432 with 1 Axes>"
      ]
     },
     "metadata": {
      "needs_background": "light"
     },
     "output_type": "display_data"
    }
   ],
   "source": [
    "# 막대 그래프를 그린다. 반환으로 막대들을 관리할 수 있는 객체를 받는다.\n",
    "bar_list = plt.bar(a1.index, a1.values)\n",
    "# print(bar_list)\n",
    "\n",
    "#값이 0보다 크면 빨간색, 작으면 파란색으로 설정한다.\n",
    "for idx, value in enumerate(a1.values):\n",
    "    if value > 0 :\n",
    "        bar_list[idx].set_color('r')\n",
    "    elif value < 0 :\n",
    "        bar_list[idx].set_color('b')\n",
    "\n",
    "plt.show()"
   ]
  },
  {
   "cell_type": "code",
   "execution_count": 41,
   "id": "c4f0e5c1-91dc-4326-9f05-74a8bf235639",
   "metadata": {},
   "outputs": [
    {
     "data": {
      "image/png": "[encoded data removed]",
      "text/plain": [
       "<Figure size 864x432 with 1 Axes>"
      ]
     },
     "metadata": {
      "needs_background": "light"
     },
     "output_type": "display_data"
    }
   ],
   "source": [
    "# 막대 그래프를 그린다. 반환으로 막대들을 관리할 수 있는 객체를 받는다.\n",
    "bar_list = plt.bar(a1.index, abs(a1.values))\n",
    "# print(bar_list)\n",
    "\n",
    "#값이 0보다 크면 빨간색, 작으면 파란색으로 설정한다.\n",
    "for idx, value in enumerate(a1.values):\n",
    "    if value > 0 :\n",
    "        bar_list[idx].set_color('r')\n",
    "    elif value < 0 :\n",
    "        bar_list[idx].set_color('b')\n",
    "\n",
    "plt.show()"
   ]
  },
  {
   "cell_type": "markdown",
   "id": "f10ceae4-8263-4dd2-a73e-1547725f7478",
   "metadata": {},
   "source": [
    "### 종가를 시각화한다.\n",
    "- 하위 10% 이하, 상위 90% 이상을 다른 색상으로 표시한다.\n",
    "- 10% 지점, 90% 지점에 기준선을 표시한다.\n",
    "- x축은 일자, y축은 종가로 표시한다."
   ]
  },
  {
   "cell_type": "code",
   "execution_count": 42,
   "id": "a371e92c-3f65-46c1-b79e-cedb0bc98847",
   "metadata": {},
   "outputs": [
    {
     "data": {
      "text/plain": [
       "Date\n",
       "2010-01-04    16180.0\n",
       "2010-01-05    16440.0\n",
       "2010-01-06    16820.0\n",
       "2010-01-07    16260.0\n",
       "2010-01-08    16420.0\n",
       "               ...   \n",
       "2021-07-01    80100.0\n",
       "2021-07-02    80000.0\n",
       "2021-07-05    80400.0\n",
       "2021-07-06    81200.0\n",
       "2021-07-07    80800.0\n",
       "Name: Close, Length: 2836, dtype: float64"
      ]
     },
     "execution_count": 42,
     "metadata": {},
     "output_type": "execute_result"
    }
   ],
   "source": [
    "# 종가\n",
    "cel_close = cel['Close']\n",
    "cel_close\n",
    "\n",
    "#index = x, 값 = y"
   ]
  },
  {
   "cell_type": "code",
   "execution_count": 45,
   "id": "c082a1fe-a78b-4600-95ba-aa8fe359874a",
   "metadata": {},
   "outputs": [
    {
     "data": {
      "image/png": "[encoded data removed]",
      "text/plain": [
       "<Figure size 864x432 with 1 Axes>"
      ]
     },
     "metadata": {
      "needs_background": "light"
     },
     "output_type": "display_data"
    }
   ],
   "source": [
    "# 시각화\n",
    "# 데이터 프레임이나 시리즈로 선그래프를 그리면\n",
    "## 인덱스가 x축이 되고, 값이  y축으로 지정된다.\n",
    "cel_close.plot(color='black')\n",
    "plt.show()"
   ]
  },
  {
   "cell_type": "markdown",
   "id": "bc918dac-8eb3-4af7-99d2-88a42d65cfc7",
   "metadata": {},
   "source": [
    "### 특정 범위를 벗어나는 그래프의 색을 다르게 표시한다.\n",
    "- 10%, 90%\n"
   ]
  },
  {
   "cell_type": "code",
   "execution_count": 46,
   "id": "0cd22e90-24f9-40b2-a56c-abad093ca3c9",
   "metadata": {},
   "outputs": [
    {
     "name": "stdout",
     "output_type": "stream",
     "text": [
      "17000.0\n",
      "55800.0\n"
     ]
    }
   ],
   "source": [
    "# 10%, 90% 위치 값을 가져온다.\n",
    "value_10 = cel_close.quantile(0.1)\n",
    "value_90 = cel_close.quantile(0.9)\n",
    "\n",
    "print(value_10)\n",
    "print(value_90)"
   ]
  },
  {
   "cell_type": "code",
   "execution_count": 54,
   "id": "6c18c409-f435-491a-80bc-101d1f9bfbdd",
   "metadata": {},
   "outputs": [
    {
     "name": "stdout",
     "output_type": "stream",
     "text": [
      "17000.0\n",
      "55800.0\n"
     ]
    }
   ],
   "source": [
    "# 요약 통계 정보를 가져온다.\n",
    "a1 = cel_close.describe(percentiles=[0.1,0.9])\n",
    "\n",
    "value_10 = a1['10%']\n",
    "value_90 = a1['90%']\n",
    "\n",
    "print(value_10)\n",
    "print(value_90)"
   ]
  },
  {
   "cell_type": "code",
   "execution_count": 55,
   "id": "a1a67a9c-5cd7-4187-bde1-4b1e82ab2116",
   "metadata": {},
   "outputs": [
    {
     "data": {
      "text/plain": [
       "Date\n",
       "2010-01-04     True\n",
       "2010-01-05     True\n",
       "2010-01-06     True\n",
       "2010-01-07     True\n",
       "2010-01-08     True\n",
       "              ...  \n",
       "2021-07-01    False\n",
       "2021-07-02    False\n",
       "2021-07-05    False\n",
       "2021-07-06    False\n",
       "2021-07-07    False\n",
       "Name: Close, Length: 2836, dtype: bool"
      ]
     },
     "execution_count": 55,
     "metadata": {},
     "output_type": "execute_result"
    }
   ],
   "source": [
    "# 10% 이하의 값들\n",
    "a2 = cel_close <= value_10\n",
    "a2"
   ]
  },
  {
   "cell_type": "code",
   "execution_count": 56,
   "id": "d9dfb453-5226-4287-8940-f81986ba0bcf",
   "metadata": {},
   "outputs": [
    {
     "data": {
      "text/plain": [
       "Date\n",
       "2010-01-04    False\n",
       "2010-01-05    False\n",
       "2010-01-06    False\n",
       "2010-01-07    False\n",
       "2010-01-08    False\n",
       "              ...  \n",
       "2021-07-01     True\n",
       "2021-07-02     True\n",
       "2021-07-05     True\n",
       "2021-07-06     True\n",
       "2021-07-07     True\n",
       "Name: Close, Length: 2836, dtype: bool"
      ]
     },
     "execution_count": 56,
     "metadata": {},
     "output_type": "execute_result"
    }
   ],
   "source": [
    "# 90% 이상\n",
    "a3 = cel_close >= value_90\n",
    "a3"
   ]
  },
  {
   "cell_type": "code",
   "execution_count": 57,
   "id": "b7bb0cc9-fada-405b-92eb-f87b75bb5540",
   "metadata": {},
   "outputs": [
    {
     "data": {
      "text/plain": [
       "Date\n",
       "2010-01-04    True\n",
       "2010-01-05    True\n",
       "2010-01-06    True\n",
       "2010-01-07    True\n",
       "2010-01-08    True\n",
       "              ... \n",
       "2021-07-01    True\n",
       "2021-07-02    True\n",
       "2021-07-05    True\n",
       "2021-07-06    True\n",
       "2021-07-07    True\n",
       "Name: Close, Length: 2836, dtype: bool"
      ]
     },
     "execution_count": 57,
     "metadata": {},
     "output_type": "execute_result"
    }
   ],
   "source": [
    "# 둘을 합친다.\n",
    "a4 = a2 | a3\n",
    "a4"
   ]
  },
  {
   "cell_type": "code",
   "execution_count": 58,
   "id": "b9a4fac8-d0b8-408a-88fb-9ec1f64c8823",
   "metadata": {},
   "outputs": [
    {
     "data": {
      "text/plain": [
       "Date\n",
       "2010-01-04    16180.0\n",
       "2010-01-05    16440.0\n",
       "2010-01-06    16820.0\n",
       "2010-01-07    16260.0\n",
       "2010-01-08    16420.0\n",
       "               ...   \n",
       "2021-07-01    80100.0\n",
       "2021-07-02    80000.0\n",
       "2021-07-05    80400.0\n",
       "2021-07-06    81200.0\n",
       "2021-07-07    80800.0\n",
       "Name: Close, Length: 571, dtype: float64"
      ]
     },
     "execution_count": 58,
     "metadata": {},
     "output_type": "execute_result"
    }
   ],
   "source": [
    "# 10% 이하, 90% 이상인 것들을 가져온다.\n",
    "cel_top_bottom = cel_close[a4]\n",
    "cel_top_bottom"
   ]
  },
  {
   "cell_type": "code",
   "execution_count": 63,
   "id": "f35d2cd9-2e08-44b4-8174-8fd3d504064f",
   "metadata": {},
   "outputs": [
    {
     "data": {
      "image/png": "[encoded data removed]",
      "text/plain": [
       "<Figure size 864x432 with 1 Axes>"
      ]
     },
     "metadata": {
      "needs_background": "light"
     },
     "output_type": "display_data"
    }
   ],
   "source": [
    "# 시각화\n",
    "# style : 선의 모양. ' '를 주면 선의 모양은 빈칸이 된다.\n",
    "# marker : 마커의 모양\n",
    "# ms : 마커의 크기\n",
    "# color : 색상\n",
    "cel_top_bottom.plot(style=' ', marker='o', ms=4, color='darkgray')\n",
    "plt.show()"
   ]
  },
  {
   "cell_type": "markdown",
   "id": "0362fcfc-b31b-4a2b-9538-aef00ae0e25b",
   "metadata": {},
   "source": [
    "### 기준선을 그린다."
   ]
  },
  {
   "cell_type": "code",
   "execution_count": 72,
   "id": "31421e7f-cebc-4418-b03f-49961231de19",
   "metadata": {},
   "outputs": [
    {
     "name": "stdout",
     "output_type": "stream",
     "text": [
      "Date\n",
      "2010-01-04    16180.0\n",
      "2010-01-05    16440.0\n",
      "2010-01-06    16820.0\n",
      "2010-01-07    16260.0\n",
      "2010-01-08    16420.0\n",
      "               ...   \n",
      "2021-07-01    80100.0\n",
      "2021-07-02    80000.0\n",
      "2021-07-05    80400.0\n",
      "2021-07-06    81200.0\n",
      "2021-07-07    80800.0\n",
      "Name: Close, Length: 2836, dtype: float64\n",
      "2010-01-04 00:00:00\n",
      "2021-07-07 00:00:00\n"
     ]
    }
   ],
   "source": [
    "# x축의 좌표로 사용할 최소 날짜와 최대 날짜를 추출한다.\n",
    "cel_close\n",
    "print(cel_close)\n",
    "\n",
    "index_min = cel_close.index[0]\n",
    "index_max = cel_close.index[-1]\n",
    "print(index_min)\n",
    "print(index_max)"
   ]
  },
  {
   "cell_type": "code",
   "execution_count": 74,
   "id": "fd4e7bef-b38b-4339-b98e-9eb4690218d7",
   "metadata": {},
   "outputs": [
    {
     "data": {
      "image/png": "[encoded data removed]",
      "text/plain": [
       "<Figure size 864x432 with 1 Axes>"
      ]
     },
     "metadata": {
      "needs_background": "light"
     },
     "output_type": "display_data"
    }
   ],
   "source": [
    "#가로선을 그린다.\n",
    "plt.hlines(xmin = index_min, xmax = index_max, y=[value_10, value_90],\n",
    "           color = 'red')\n",
    "plt.show()"
   ]
  },
  {
   "cell_type": "markdown",
   "id": "e1e7b82e-ecf5-4a5d-b981-b78071f727a7",
   "metadata": {},
   "source": [
    "### 3가지를 합친다."
   ]
  },
  {
   "cell_type": "code",
   "execution_count": 77,
   "id": "14a42824-ac91-4a3b-b79d-1c3396b23819",
   "metadata": {},
   "outputs": [
    {
     "data": {
      "image/png": "[encoded data removed]",
      "text/plain": [
       "<Figure size 864x432 with 1 Axes>"
      ]
     },
     "metadata": {
      "needs_background": "light"
     },
     "output_type": "display_data"
    }
   ],
   "source": [
    "cel_close.plot(color='black')\n",
    "cel_top_bottom.plot(style=' ', marker='o', ms=4, color='darkgray')\n",
    "plt.hlines(xmin = index_min, xmax = index_max, y=[value_10, value_90],\n",
    "           color = 'red')\n",
    "plt.show()"
   ]
  },
  {
   "cell_type": "markdown",
   "id": "d4028508-c6ba-4e86-8acf-37cdf2d7d261",
   "metadata": {},
   "source": [
    "### 통계량 살펴보기"
   ]
  },
  {
   "cell_type": "code",
   "execution_count": 78,
   "id": "cca17792-83ef-403d-9104-6e77e94c8826",
   "metadata": {},
   "outputs": [
    {
     "data": {
      "text/plain": [
       "Date\n",
       "2010-01-04         NaN\n",
       "2010-01-05    0.016069\n",
       "2010-01-06    0.023114\n",
       "2010-01-07   -0.033294\n",
       "2010-01-08    0.009840\n",
       "                ...   \n",
       "2021-07-01   -0.007435\n",
       "2021-07-02   -0.001248\n",
       "2021-07-05    0.005000\n",
       "2021-07-06    0.009950\n",
       "2021-07-07   -0.004926\n",
       "Name: Close, Length: 2836, dtype: float64"
      ]
     },
     "execution_count": 78,
     "metadata": {},
     "output_type": "execute_result"
    }
   ],
   "source": [
    "# 각 날짜의 수익률을 가져온다.\n",
    "cel_pct_change = cel['Close'].pct_change()\n",
    "cel_pct_change"
   ]
  },
  {
   "cell_type": "code",
   "execution_count": 79,
   "id": "b026d34e-9aad-4eee-a58e-808338563968",
   "metadata": {},
   "outputs": [
    {
     "data": {
      "image/png": "[encoded data removed]",
      "text/plain": [
       "<Figure size 864x432 with 1 Axes>"
      ]
     },
     "metadata": {
      "needs_background": "light"
     },
     "output_type": "display_data"
    }
   ],
   "source": [
    "cel_pct_change.hist(bins=30)\n",
    "plt.show()\n",
    "# 데이터 분포도 보기 좋음.\n"
   ]
  },
  {
   "cell_type": "markdown",
   "id": "fa81e582-e1b7-4069-8d4a-d41a66dac167",
   "metadata": {},
   "source": [
    "### 첨도(Kurtosis)\n",
    "- 첨도는 히스토그램에서 분포의 꼬리부분의 길이와 중앙 부분의 뾰족함을 대한 정보를 제공하는 통계량이다.\n",
    "- 첨도가 0보다 크면 긴 꼬리를 갖고 분포가 중앙 부분에 덜 분포되어 있는 것으로 해석된다."
   ]
  },
  {
   "cell_type": "code",
   "execution_count": 80,
   "id": "8fec3448-e993-49bb-a75f-c4872ce98afe",
   "metadata": {},
   "outputs": [
    {
     "data": {
      "text/plain": [
       "1.6307384693281213"
      ]
     },
     "execution_count": 80,
     "metadata": {},
     "output_type": "execute_result"
    }
   ],
   "source": [
    "cel_pct_change.kurt()"
   ]
  },
  {
   "cell_type": "markdown",
   "id": "69f1d1af-966e-418c-a967-0d63321dd669",
   "metadata": {},
   "source": [
    "### 왜도\n",
    "- 분포의 비대칭 정도를 나타내는 값\n",
    "- 분포가 완전 대칭인 경우에는 왜도가 0이다.\n",
    "- 왼쪽으로 긴 꼬리를 가지면 음수이고, 오른쪽으로 긴 꼬리를 가지면 양수이다.\n",
    "- 비대칭 정도가 심할수록 왜도의 절대값이 증가한다."
   ]
  },
  {
   "cell_type": "code",
   "execution_count": 81,
   "id": "a8a5292d-c01c-400d-a3f7-a88c00126d13",
   "metadata": {},
   "outputs": [
    {
     "data": {
      "text/plain": [
       "0.17778685925311755"
      ]
     },
     "execution_count": 81,
     "metadata": {},
     "output_type": "execute_result"
    }
   ],
   "source": [
    "cel_pct_change.skew()"
   ]
  },
  {
   "cell_type": "code",
   "execution_count": null,
   "id": "0434f1bf-f2c3-4a9c-8cec-efdc633eb982",
   "metadata": {},
   "outputs": [],
   "source": []
  }
 ],
 "metadata": {
  "kernelspec": {
   "display_name": "Python 3",
   "language": "python",
   "name": "python3"
  },
  "language_info": {
   "codemirror_mode": {
    "name": "ipython",
    "version": 3
   },
   "file_extension": ".py",
   "mimetype": "text/x-python",
   "name": "python",
   "nbconvert_exporter": "python",
   "pygments_lexer": "ipython3",
   "version": "3.8.8"
  },
  "toc-autonumbering": true,
  "toc-showmarkdowntxt": true
 },
 "nbformat": 4,
 "nbformat_minor": 5
}
