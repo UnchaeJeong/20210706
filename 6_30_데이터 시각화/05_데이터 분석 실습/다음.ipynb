{
 "cells": [
  {
   "cell_type": "code",
   "execution_count": 1,
   "id": "cda68516",
   "metadata": {},
   "outputs": [],
   "source": [
    "from selenium import webdriver\n",
    "import requests\n",
    "import time\n",
    "import pandas as pd\n",
    "from IPython.display import clear_output"
   ]
  },
  {
   "cell_type": "code",
   "execution_count": 2,
   "id": "8cd3e845",
   "metadata": {},
   "outputs": [],
   "source": [
    "# 웹드라이브 실행\n",
    "driver = webdriver.Chrome('chromedriver')"
   ]
  },
  {
   "cell_type": "code",
   "execution_count": 3,
   "id": "960711a4",
   "metadata": {},
   "outputs": [],
   "source": [
    "# 다음 영화 사이트를 들어간다.\n",
    "site = 'https://movie.daum.net/premovie/theater'\n",
    "time.sleep(1)\n",
    "driver.get(site)"
   ]
  },
  {
   "cell_type": "code",
   "execution_count": 4,
   "id": "3b829072",
   "metadata": {},
   "outputs": [],
   "source": [
    "# 스크롤 한다.\n",
    "for idx in range(10) :\n",
    "    time.sleep(1)\n",
    "    script = 'window.scrollTo(0, document.body.scrollHeight)'\n",
    "    driver.execute_script(script)"
   ]
  },
  {
   "cell_type": "code",
   "execution_count": 5,
   "id": "6dd43314",
   "metadata": {},
   "outputs": [
    {
     "data": {
      "text/plain": [
       "<selenium.webdriver.remote.webelement.WebElement (session=\"eeeb3fd28f0219a214c56123deb53e5a\", element=\"a508a4a0-0bd5-46d0-af9d-d2528d12b6c4\")>"
      ]
     },
     "execution_count": 5,
     "metadata": {},
     "output_type": "execute_result"
    }
   ],
   "source": [
    "# 영화 전체 목록을 가져온다.\n",
    "a1 = driver.find_element_by_css_selector('#mainContent > div > div.box_movie > ol')\n",
    "a1"
   ]
  },
  {
   "cell_type": "code",
   "execution_count": 6,
   "id": "53df615c",
   "metadata": {},
   "outputs": [
    {
     "data": {
      "text/plain": [
       "[<selenium.webdriver.remote.webelement.WebElement (session=\"eeeb3fd28f0219a214c56123deb53e5a\", element=\"41ed0ca7-38c7-439e-a655-c80d8d44c3aa\")>,\n",
       " <selenium.webdriver.remote.webelement.WebElement (session=\"eeeb3fd28f0219a214c56123deb53e5a\", element=\"28dce678-b2f4-4e8a-a8d7-c55970995543\")>,\n",
       " <selenium.webdriver.remote.webelement.WebElement (session=\"eeeb3fd28f0219a214c56123deb53e5a\", element=\"8e76dedc-bad5-4e25-bf0b-f8c1af5a6474\")>,\n",
       " <selenium.webdriver.remote.webelement.WebElement (session=\"eeeb3fd28f0219a214c56123deb53e5a\", element=\"b6112882-1461-4d57-8057-4e1b0ffb95f5\")>,\n",
       " <selenium.webdriver.remote.webelement.WebElement (session=\"eeeb3fd28f0219a214c56123deb53e5a\", element=\"2b37caba-55e8-4506-bef4-e6d3bb76592d\")>,\n",
       " <selenium.webdriver.remote.webelement.WebElement (session=\"eeeb3fd28f0219a214c56123deb53e5a\", element=\"618045b3-d71e-4e47-9ab4-6738b53cfd4d\")>,\n",
       " <selenium.webdriver.remote.webelement.WebElement (session=\"eeeb3fd28f0219a214c56123deb53e5a\", element=\"f287109a-29dd-4959-9cf2-35b6a9bdcab1\")>,\n",
       " <selenium.webdriver.remote.webelement.WebElement (session=\"eeeb3fd28f0219a214c56123deb53e5a\", element=\"90e9908e-dfba-4c92-a72d-bff7a437dba3\")>,\n",
       " <selenium.webdriver.remote.webelement.WebElement (session=\"eeeb3fd28f0219a214c56123deb53e5a\", element=\"096b9b54-0bce-4392-9608-258cfa65346b\")>,\n",
       " <selenium.webdriver.remote.webelement.WebElement (session=\"eeeb3fd28f0219a214c56123deb53e5a\", element=\"0236d1ae-4e40-4b32-b5c7-b37d3ba5212d\")>,\n",
       " <selenium.webdriver.remote.webelement.WebElement (session=\"eeeb3fd28f0219a214c56123deb53e5a\", element=\"0b5823db-585a-4728-8bc6-a9dc95634f93\")>,\n",
       " <selenium.webdriver.remote.webelement.WebElement (session=\"eeeb3fd28f0219a214c56123deb53e5a\", element=\"f324cbbc-2b57-45b6-b028-18a0c253a274\")>,\n",
       " <selenium.webdriver.remote.webelement.WebElement (session=\"eeeb3fd28f0219a214c56123deb53e5a\", element=\"dc6e78cb-73b2-43a0-ab78-104460b6820e\")>,\n",
       " <selenium.webdriver.remote.webelement.WebElement (session=\"eeeb3fd28f0219a214c56123deb53e5a\", element=\"c4827ad9-2b5d-426d-ad85-dac3841b2234\")>,\n",
       " <selenium.webdriver.remote.webelement.WebElement (session=\"eeeb3fd28f0219a214c56123deb53e5a\", element=\"0040b036-ba74-4a83-a66f-d22a47fcd6af\")>,\n",
       " <selenium.webdriver.remote.webelement.WebElement (session=\"eeeb3fd28f0219a214c56123deb53e5a\", element=\"8caa54fc-f0a0-4b04-8083-04bb2771a3f0\")>,\n",
       " <selenium.webdriver.remote.webelement.WebElement (session=\"eeeb3fd28f0219a214c56123deb53e5a\", element=\"e987a08d-7fc8-4a5d-aaf8-d39ef168e52a\")>,\n",
       " <selenium.webdriver.remote.webelement.WebElement (session=\"eeeb3fd28f0219a214c56123deb53e5a\", element=\"70cfeead-3892-45e9-ad0a-185d8b860099\")>,\n",
       " <selenium.webdriver.remote.webelement.WebElement (session=\"eeeb3fd28f0219a214c56123deb53e5a\", element=\"6388e55e-beb1-4d08-9061-ac198a21fa15\")>,\n",
       " <selenium.webdriver.remote.webelement.WebElement (session=\"eeeb3fd28f0219a214c56123deb53e5a\", element=\"2da6656d-5902-4be5-815a-128d339dea4e\")>,\n",
       " <selenium.webdriver.remote.webelement.WebElement (session=\"eeeb3fd28f0219a214c56123deb53e5a\", element=\"7eac7825-ef00-47d5-97e7-1c94d7f234ba\")>,\n",
       " <selenium.webdriver.remote.webelement.WebElement (session=\"eeeb3fd28f0219a214c56123deb53e5a\", element=\"42ad9ed2-1d6c-4c02-a96d-f3312ec3fb40\")>,\n",
       " <selenium.webdriver.remote.webelement.WebElement (session=\"eeeb3fd28f0219a214c56123deb53e5a\", element=\"9b1f32d9-083a-4df7-9a67-5bec7fe78d90\")>,\n",
       " <selenium.webdriver.remote.webelement.WebElement (session=\"eeeb3fd28f0219a214c56123deb53e5a\", element=\"1da11bb2-1e78-46ee-84cc-3e8ce02a63e0\")>,\n",
       " <selenium.webdriver.remote.webelement.WebElement (session=\"eeeb3fd28f0219a214c56123deb53e5a\", element=\"9086139f-d959-42d3-99a8-e6dbd96480a4\")>,\n",
       " <selenium.webdriver.remote.webelement.WebElement (session=\"eeeb3fd28f0219a214c56123deb53e5a\", element=\"60d9ecd0-90a3-4807-b50a-bd1261bc265e\")>,\n",
       " <selenium.webdriver.remote.webelement.WebElement (session=\"eeeb3fd28f0219a214c56123deb53e5a\", element=\"b81884b4-5424-4ef5-8f14-a79391584ab0\")>,\n",
       " <selenium.webdriver.remote.webelement.WebElement (session=\"eeeb3fd28f0219a214c56123deb53e5a\", element=\"15e618db-bd36-4161-8dbd-c9be24b81cb6\")>,\n",
       " <selenium.webdriver.remote.webelement.WebElement (session=\"eeeb3fd28f0219a214c56123deb53e5a\", element=\"5424d354-c172-4f1d-a4cc-f3c829a1c5a3\")>,\n",
       " <selenium.webdriver.remote.webelement.WebElement (session=\"eeeb3fd28f0219a214c56123deb53e5a\", element=\"7ce9e1a0-3488-417f-8bee-fe34ecc67c8d\")>,\n",
       " <selenium.webdriver.remote.webelement.WebElement (session=\"eeeb3fd28f0219a214c56123deb53e5a\", element=\"aebde054-bc07-43dd-8ca0-b1ddcb571ad5\")>,\n",
       " <selenium.webdriver.remote.webelement.WebElement (session=\"eeeb3fd28f0219a214c56123deb53e5a\", element=\"335ba182-f269-49d2-ac10-7acefe1193bd\")>,\n",
       " <selenium.webdriver.remote.webelement.WebElement (session=\"eeeb3fd28f0219a214c56123deb53e5a\", element=\"13147785-b24f-404a-9b48-669aba40e598\")>,\n",
       " <selenium.webdriver.remote.webelement.WebElement (session=\"eeeb3fd28f0219a214c56123deb53e5a\", element=\"6236635c-e61b-4741-8e57-8d3486a03d43\")>]"
      ]
     },
     "execution_count": 6,
     "metadata": {},
     "output_type": "execute_result"
    }
   ],
   "source": [
    "# 영화 전체 목록에서 li 태그들을 가져온다.\n",
    "li_list = a1.find_elements_by_css_selector('li')\n",
    "li_list"
   ]
  },
  {
   "cell_type": "code",
   "execution_count": 7,
   "id": "84a2deaf",
   "metadata": {},
   "outputs": [
    {
     "ename": "PermissionError",
     "evalue": "[Errno 13] Permission denied: 'daum_movie.csv'",
     "output_type": "error",
     "traceback": [
      "\u001b[1;31m---------------------------------------------------------------------------\u001b[0m",
      "\u001b[1;31mPermissionError\u001b[0m                           Traceback (most recent call last)",
      "\u001b[1;32m<ipython-input-7-78407d6ace8c>\u001b[0m in \u001b[0;36m<module>\u001b[1;34m\u001b[0m\n\u001b[0;32m     64\u001b[0m \u001b[1;31m# df1\u001b[0m\u001b[1;33m\u001b[0m\u001b[1;33m\u001b[0m\u001b[1;33m\u001b[0m\u001b[0m\n\u001b[0;32m     65\u001b[0m \u001b[1;31m# 저장\u001b[0m\u001b[1;33m\u001b[0m\u001b[1;33m\u001b[0m\u001b[1;33m\u001b[0m\u001b[0m\n\u001b[1;32m---> 66\u001b[1;33m \u001b[0mdf1\u001b[0m\u001b[1;33m.\u001b[0m\u001b[0mto_csv\u001b[0m\u001b[1;33m(\u001b[0m\u001b[1;34m'daum_movie.csv'\u001b[0m\u001b[1;33m,\u001b[0m \u001b[0mencoding\u001b[0m\u001b[1;33m=\u001b[0m\u001b[1;34m'utf-8-sig'\u001b[0m\u001b[1;33m,\u001b[0m \u001b[0mindex\u001b[0m\u001b[1;33m=\u001b[0m\u001b[1;32mFalse\u001b[0m\u001b[1;33m)\u001b[0m\u001b[1;33m\u001b[0m\u001b[1;33m\u001b[0m\u001b[0m\n\u001b[0m\u001b[0;32m     67\u001b[0m \u001b[0mprint\u001b[0m\u001b[1;33m(\u001b[0m\u001b[1;34m'저장완료'\u001b[0m\u001b[1;33m)\u001b[0m\u001b[1;33m\u001b[0m\u001b[1;33m\u001b[0m\u001b[0m\n",
      "\u001b[1;32m~\\anaconda3\\lib\\site-packages\\pandas\\core\\generic.py\u001b[0m in \u001b[0;36mto_csv\u001b[1;34m(self, path_or_buf, sep, na_rep, float_format, columns, header, index, index_label, mode, encoding, compression, quoting, quotechar, line_terminator, chunksize, date_format, doublequote, escapechar, decimal, errors, storage_options)\u001b[0m\n\u001b[0;32m   3385\u001b[0m         )\n\u001b[0;32m   3386\u001b[0m \u001b[1;33m\u001b[0m\u001b[0m\n\u001b[1;32m-> 3387\u001b[1;33m         return DataFrameRenderer(formatter).to_csv(\n\u001b[0m\u001b[0;32m   3388\u001b[0m             \u001b[0mpath_or_buf\u001b[0m\u001b[1;33m,\u001b[0m\u001b[1;33m\u001b[0m\u001b[1;33m\u001b[0m\u001b[0m\n\u001b[0;32m   3389\u001b[0m             \u001b[0mline_terminator\u001b[0m\u001b[1;33m=\u001b[0m\u001b[0mline_terminator\u001b[0m\u001b[1;33m,\u001b[0m\u001b[1;33m\u001b[0m\u001b[1;33m\u001b[0m\u001b[0m\n",
      "\u001b[1;32m~\\anaconda3\\lib\\site-packages\\pandas\\io\\formats\\format.py\u001b[0m in \u001b[0;36mto_csv\u001b[1;34m(self, path_or_buf, encoding, sep, columns, index_label, mode, compression, quoting, quotechar, line_terminator, chunksize, date_format, doublequote, escapechar, errors, storage_options)\u001b[0m\n\u001b[0;32m   1081\u001b[0m             \u001b[0mformatter\u001b[0m\u001b[1;33m=\u001b[0m\u001b[0mself\u001b[0m\u001b[1;33m.\u001b[0m\u001b[0mfmt\u001b[0m\u001b[1;33m,\u001b[0m\u001b[1;33m\u001b[0m\u001b[1;33m\u001b[0m\u001b[0m\n\u001b[0;32m   1082\u001b[0m         )\n\u001b[1;32m-> 1083\u001b[1;33m         \u001b[0mcsv_formatter\u001b[0m\u001b[1;33m.\u001b[0m\u001b[0msave\u001b[0m\u001b[1;33m(\u001b[0m\u001b[1;33m)\u001b[0m\u001b[1;33m\u001b[0m\u001b[1;33m\u001b[0m\u001b[0m\n\u001b[0m\u001b[0;32m   1084\u001b[0m \u001b[1;33m\u001b[0m\u001b[0m\n\u001b[0;32m   1085\u001b[0m         \u001b[1;32mif\u001b[0m \u001b[0mcreated_buffer\u001b[0m\u001b[1;33m:\u001b[0m\u001b[1;33m\u001b[0m\u001b[1;33m\u001b[0m\u001b[0m\n",
      "\u001b[1;32m~\\anaconda3\\lib\\site-packages\\pandas\\io\\formats\\csvs.py\u001b[0m in \u001b[0;36msave\u001b[1;34m(self)\u001b[0m\n\u001b[0;32m    226\u001b[0m         \"\"\"\n\u001b[0;32m    227\u001b[0m         \u001b[1;31m# apply compression and byte/text conversion\u001b[0m\u001b[1;33m\u001b[0m\u001b[1;33m\u001b[0m\u001b[1;33m\u001b[0m\u001b[0m\n\u001b[1;32m--> 228\u001b[1;33m         with get_handle(\n\u001b[0m\u001b[0;32m    229\u001b[0m             \u001b[0mself\u001b[0m\u001b[1;33m.\u001b[0m\u001b[0mfilepath_or_buffer\u001b[0m\u001b[1;33m,\u001b[0m\u001b[1;33m\u001b[0m\u001b[1;33m\u001b[0m\u001b[0m\n\u001b[0;32m    230\u001b[0m             \u001b[0mself\u001b[0m\u001b[1;33m.\u001b[0m\u001b[0mmode\u001b[0m\u001b[1;33m,\u001b[0m\u001b[1;33m\u001b[0m\u001b[1;33m\u001b[0m\u001b[0m\n",
      "\u001b[1;32m~\\anaconda3\\lib\\site-packages\\pandas\\io\\common.py\u001b[0m in \u001b[0;36mget_handle\u001b[1;34m(path_or_buf, mode, encoding, compression, memory_map, is_text, errors, storage_options)\u001b[0m\n\u001b[0;32m    640\u001b[0m                 \u001b[0merrors\u001b[0m \u001b[1;33m=\u001b[0m \u001b[1;34m\"replace\"\u001b[0m\u001b[1;33m\u001b[0m\u001b[1;33m\u001b[0m\u001b[0m\n\u001b[0;32m    641\u001b[0m             \u001b[1;31m# Encoding\u001b[0m\u001b[1;33m\u001b[0m\u001b[1;33m\u001b[0m\u001b[1;33m\u001b[0m\u001b[0m\n\u001b[1;32m--> 642\u001b[1;33m             handle = open(\n\u001b[0m\u001b[0;32m    643\u001b[0m                 \u001b[0mhandle\u001b[0m\u001b[1;33m,\u001b[0m\u001b[1;33m\u001b[0m\u001b[1;33m\u001b[0m\u001b[0m\n\u001b[0;32m    644\u001b[0m                 \u001b[0mioargs\u001b[0m\u001b[1;33m.\u001b[0m\u001b[0mmode\u001b[0m\u001b[1;33m,\u001b[0m\u001b[1;33m\u001b[0m\u001b[1;33m\u001b[0m\u001b[0m\n",
      "\u001b[1;31mPermissionError\u001b[0m: [Errno 13] Permission denied: 'daum_movie.csv'"
     ]
    }
   ],
   "source": [
    "# 데이터를 담을 딕셔너리\n",
    "data_dict = {\n",
    "    '제목' : [],\n",
    "    '예매율' : [],\n",
    "    '평점' : [],\n",
    "    '개봉일' : []\n",
    "}\n",
    "\n",
    "# 영화의 수 만큼 반복한다.\n",
    "for movie_tag in li_list :\n",
    "    # 영화 제목을 가져온다.\n",
    "    title_tag = movie_tag.find_element_by_css_selector('div > div.thumb_cont > strong > a')\n",
    "    title = title_tag.text.strip()\n",
    "    \n",
    "    # 평점\n",
    "    rating_tag = movie_tag.find_element_by_css_selector('div > div.thumb_cont > span.txt_append > span:nth-child(1) > span')\n",
    "    rating = rating_tag.text.strip()\n",
    "    \n",
    "    # 예매율\n",
    "    ticket_tag = movie_tag.find_element_by_css_selector('div > div.thumb_cont > span.txt_append > span:nth-child(2) > span')\n",
    "    ticket = ticket_tag.text.strip()\n",
    "    \n",
    "    # 개봉일\n",
    "    open_date_tag = movie_tag.find_element_by_css_selector('div > div.thumb_cont > span.txt_info > span')\n",
    "    open_date = open_date_tag.text.strip()\n",
    "    \n",
    "    # 영화 포스터\n",
    "    poster_tag = movie_tag.find_element_by_css_selector('div > div.thumb_item > div.poster_movie > img')\n",
    "    # src 속성의 값을 가져온다\n",
    "    src_attr = poster_tag.get_attribute('src')\n",
    "    # print(src_attr)\n",
    "    \n",
    "    # 영화의 제목을 파일명으로 사용할 것이기 때문에 \n",
    "    # os에서 거부하는 파일명을 정제한다.\n",
    "    \n",
    "    char_list = ['\\\\', '/', ':', '*', '?', '\"', '<', '>', '|']\n",
    "    \n",
    "    file_name = title\n",
    "    \n",
    "    for c1 in char_list :\n",
    "        file_name = file_name.replace(c1, ' ')\n",
    "        \n",
    "    # 이미지 데이터를 내려받는다.\n",
    "    img_res = requests.get(src_attr)\n",
    "    \n",
    "    # 저장한다.\n",
    "    with open(f'poster/{file_name}.jpg', 'wb') as fp :\n",
    "        fp.write(img_res.content)\n",
    "    \n",
    "    # print(title)\n",
    "    # print(rating)\n",
    "    # print(ticket[:-1])\n",
    "    # print(open_date)\n",
    "    # print('-----------------------')\n",
    "    \n",
    "    # 데이터를 담는다.\n",
    "    data_dict['제목'].append(title)\n",
    "    data_dict['예매율'].append(ticket[:-1])\n",
    "    data_dict['평점'].append(rating)\n",
    "    data_dict['개봉일'].append(open_date)\n",
    "    \n",
    "# 데이터 프레임 생성\n",
    "df1 = pd.DataFrame(data_dict)\n",
    "# df1\n",
    "# 저장\n",
    "df1.to_csv('daum_movie.csv', encoding='utf-8-sig', index=False)\n",
    "print('저장완료')"
   ]
  },
  {
   "cell_type": "code",
   "execution_count": null,
   "id": "4f6734cb",
   "metadata": {},
   "outputs": [],
   "source": []
  }
 ],
 "metadata": {
  "kernelspec": {
   "display_name": "Python 3",
   "language": "python",
   "name": "python3"
  },
  "language_info": {
   "codemirror_mode": {
    "name": "ipython",
    "version": 3
   },
   "file_extension": ".py",
   "mimetype": "text/x-python",
   "name": "python",
   "nbconvert_exporter": "python",
   "pygments_lexer": "ipython3",
   "version": "3.8.8"
  }
 },
 "nbformat": 4,
 "nbformat_minor": 5
}
