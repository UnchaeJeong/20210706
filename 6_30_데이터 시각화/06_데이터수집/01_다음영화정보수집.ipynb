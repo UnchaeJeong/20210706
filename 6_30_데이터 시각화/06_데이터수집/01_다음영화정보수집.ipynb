{
 "cells": [
  {
   "cell_type": "code",
   "execution_count": 1,
   "id": "ac5e1bba-23ec-446a-ae77-dab5a31b83e9",
   "metadata": {},
   "outputs": [],
   "source": [
    "from selenium import webdriver\n",
    "import requests\n",
    "import time\n",
    "import pandas as pd\n",
    "from IPython.display import clear_output"
   ]
  },
  {
   "cell_type": "markdown",
   "id": "ebc3c5a8-93fd-4d2a-aa05-a32249e12485",
   "metadata": {},
   "source": [
    "### 다음 영화 포스터 스크래이핑"
   ]
  },
  {
   "cell_type": "markdown",
   "id": "29f046e9-8dc8-4cc1-90f4-60ecb028fe26",
   "metadata": {},
   "source": [
    "#### 웹 드라이버 실행"
   ]
  },
  {
   "cell_type": "code",
   "execution_count": 8,
   "id": "76ffeecf-6ce6-49a5-a1e0-f12ac9f2e3e2",
   "metadata": {},
   "outputs": [
    {
     "ename": "WebDriverException",
     "evalue": "Message: 'cromedriver' executable needs to be in PATH. Please see https://sites.google.com/a/chromium.org/chromedriver/home\n",
     "output_type": "error",
     "traceback": [
      "\u001b[1;31m---------------------------------------------------------------------------\u001b[0m",
      "\u001b[1;31mFileNotFoundError\u001b[0m                         Traceback (most recent call last)",
      "\u001b[1;32m~\\anaconda3\\lib\\site-packages\\selenium\\webdriver\\common\\service.py\u001b[0m in \u001b[0;36mstart\u001b[1;34m(self)\u001b[0m\n\u001b[0;32m     71\u001b[0m             \u001b[0mcmd\u001b[0m\u001b[1;33m.\u001b[0m\u001b[0mextend\u001b[0m\u001b[1;33m(\u001b[0m\u001b[0mself\u001b[0m\u001b[1;33m.\u001b[0m\u001b[0mcommand_line_args\u001b[0m\u001b[1;33m(\u001b[0m\u001b[1;33m)\u001b[0m\u001b[1;33m)\u001b[0m\u001b[1;33m\u001b[0m\u001b[1;33m\u001b[0m\u001b[0m\n\u001b[1;32m---> 72\u001b[1;33m             self.process = subprocess.Popen(cmd, env=self.env,\n\u001b[0m\u001b[0;32m     73\u001b[0m                                             \u001b[0mclose_fds\u001b[0m\u001b[1;33m=\u001b[0m\u001b[0mplatform\u001b[0m\u001b[1;33m.\u001b[0m\u001b[0msystem\u001b[0m\u001b[1;33m(\u001b[0m\u001b[1;33m)\u001b[0m \u001b[1;33m!=\u001b[0m \u001b[1;34m'Windows'\u001b[0m\u001b[1;33m,\u001b[0m\u001b[1;33m\u001b[0m\u001b[1;33m\u001b[0m\u001b[0m\n",
      "\u001b[1;32m~\\anaconda3\\lib\\subprocess.py\u001b[0m in \u001b[0;36m__init__\u001b[1;34m(self, args, bufsize, executable, stdin, stdout, stderr, preexec_fn, close_fds, shell, cwd, env, universal_newlines, startupinfo, creationflags, restore_signals, start_new_session, pass_fds, encoding, errors, text)\u001b[0m\n\u001b[0;32m    857\u001b[0m \u001b[1;33m\u001b[0m\u001b[0m\n\u001b[1;32m--> 858\u001b[1;33m             self._execute_child(args, executable, preexec_fn, close_fds,\n\u001b[0m\u001b[0;32m    859\u001b[0m                                 \u001b[0mpass_fds\u001b[0m\u001b[1;33m,\u001b[0m \u001b[0mcwd\u001b[0m\u001b[1;33m,\u001b[0m \u001b[0menv\u001b[0m\u001b[1;33m,\u001b[0m\u001b[1;33m\u001b[0m\u001b[1;33m\u001b[0m\u001b[0m\n",
      "\u001b[1;32m~\\anaconda3\\lib\\subprocess.py\u001b[0m in \u001b[0;36m_execute_child\u001b[1;34m(self, args, executable, preexec_fn, close_fds, pass_fds, cwd, env, startupinfo, creationflags, shell, p2cread, p2cwrite, c2pread, c2pwrite, errread, errwrite, unused_restore_signals, unused_start_new_session)\u001b[0m\n\u001b[0;32m   1310\u001b[0m             \u001b[1;32mtry\u001b[0m\u001b[1;33m:\u001b[0m\u001b[1;33m\u001b[0m\u001b[1;33m\u001b[0m\u001b[0m\n\u001b[1;32m-> 1311\u001b[1;33m                 hp, ht, pid, tid = _winapi.CreateProcess(executable, args,\n\u001b[0m\u001b[0;32m   1312\u001b[0m                                          \u001b[1;31m# no special security\u001b[0m\u001b[1;33m\u001b[0m\u001b[1;33m\u001b[0m\u001b[1;33m\u001b[0m\u001b[0m\n",
      "\u001b[1;31mFileNotFoundError\u001b[0m: [WinError 2] 지정된 파일을 찾을 수 없습니다",
      "\nDuring handling of the above exception, another exception occurred:\n",
      "\u001b[1;31mWebDriverException\u001b[0m                        Traceback (most recent call last)",
      "\u001b[1;32m<ipython-input-8-7c03663c61a5>\u001b[0m in \u001b[0;36m<module>\u001b[1;34m\u001b[0m\n\u001b[0;32m      1\u001b[0m \u001b[1;31m# 웹드라이버 실행\u001b[0m\u001b[1;33m\u001b[0m\u001b[1;33m\u001b[0m\u001b[1;33m\u001b[0m\u001b[0m\n\u001b[1;32m----> 2\u001b[1;33m \u001b[0mdriver\u001b[0m \u001b[1;33m=\u001b[0m \u001b[0mwebdriver\u001b[0m\u001b[1;33m.\u001b[0m\u001b[0mChrome\u001b[0m\u001b[1;33m(\u001b[0m\u001b[1;34m'cromedriver'\u001b[0m\u001b[1;33m)\u001b[0m\u001b[1;33m\u001b[0m\u001b[1;33m\u001b[0m\u001b[0m\n\u001b[0m",
      "\u001b[1;32m~\\anaconda3\\lib\\site-packages\\selenium\\webdriver\\chrome\\webdriver.py\u001b[0m in \u001b[0;36m__init__\u001b[1;34m(self, executable_path, port, options, service_args, desired_capabilities, service_log_path, chrome_options, keep_alive)\u001b[0m\n\u001b[0;32m     71\u001b[0m             \u001b[0mservice_args\u001b[0m\u001b[1;33m=\u001b[0m\u001b[0mservice_args\u001b[0m\u001b[1;33m,\u001b[0m\u001b[1;33m\u001b[0m\u001b[1;33m\u001b[0m\u001b[0m\n\u001b[0;32m     72\u001b[0m             log_path=service_log_path)\n\u001b[1;32m---> 73\u001b[1;33m         \u001b[0mself\u001b[0m\u001b[1;33m.\u001b[0m\u001b[0mservice\u001b[0m\u001b[1;33m.\u001b[0m\u001b[0mstart\u001b[0m\u001b[1;33m(\u001b[0m\u001b[1;33m)\u001b[0m\u001b[1;33m\u001b[0m\u001b[1;33m\u001b[0m\u001b[0m\n\u001b[0m\u001b[0;32m     74\u001b[0m \u001b[1;33m\u001b[0m\u001b[0m\n\u001b[0;32m     75\u001b[0m         \u001b[1;32mtry\u001b[0m\u001b[1;33m:\u001b[0m\u001b[1;33m\u001b[0m\u001b[1;33m\u001b[0m\u001b[0m\n",
      "\u001b[1;32m~\\anaconda3\\lib\\site-packages\\selenium\\webdriver\\common\\service.py\u001b[0m in \u001b[0;36mstart\u001b[1;34m(self)\u001b[0m\n\u001b[0;32m     79\u001b[0m         \u001b[1;32mexcept\u001b[0m \u001b[0mOSError\u001b[0m \u001b[1;32mas\u001b[0m \u001b[0merr\u001b[0m\u001b[1;33m:\u001b[0m\u001b[1;33m\u001b[0m\u001b[1;33m\u001b[0m\u001b[0m\n\u001b[0;32m     80\u001b[0m             \u001b[1;32mif\u001b[0m \u001b[0merr\u001b[0m\u001b[1;33m.\u001b[0m\u001b[0merrno\u001b[0m \u001b[1;33m==\u001b[0m \u001b[0merrno\u001b[0m\u001b[1;33m.\u001b[0m\u001b[0mENOENT\u001b[0m\u001b[1;33m:\u001b[0m\u001b[1;33m\u001b[0m\u001b[1;33m\u001b[0m\u001b[0m\n\u001b[1;32m---> 81\u001b[1;33m                 raise WebDriverException(\n\u001b[0m\u001b[0;32m     82\u001b[0m                     \"'%s' executable needs to be in PATH. %s\" % (\n\u001b[0;32m     83\u001b[0m                         os.path.basename(self.path), self.start_error_message)\n",
      "\u001b[1;31mWebDriverException\u001b[0m: Message: 'cromedriver' executable needs to be in PATH. Please see https://sites.google.com/a/chromium.org/chromedriver/home\n"
     ]
    }
   ],
   "source": [
    "# 웹드라이버 실행\n",
    "driver = webdriver.Chrome('cromedriver')"
   ]
  },
  {
   "cell_type": "markdown",
   "id": "2b6ca83d-e386-4494-9f35-a82f1f3c8e83",
   "metadata": {},
   "source": [
    "#### 다음 영화 사이트를 들어간다."
   ]
  },
  {
   "cell_type": "code",
   "execution_count": 3,
   "id": "47d13a84-abd3-4abb-825d-4edde8cb6c5a",
   "metadata": {},
   "outputs": [],
   "source": [
    "# 다음 영화 사이트를 들어간다.\n",
    "site = 'https://movie.daum.net/premovie/theater'\n",
    "time.sleep(1)\n",
    "driver.get(site)"
   ]
  },
  {
   "cell_type": "markdown",
   "id": "3cbf7ef5-c095-4a7c-a154-86b3db0af03b",
   "metadata": {},
   "source": [
    "#### 스크롤한다. 자바 스크립트 언어"
   ]
  },
  {
   "cell_type": "code",
   "execution_count": 4,
   "id": "8ce603dc-3437-488c-8df6-8e59fb5a6496",
   "metadata": {},
   "outputs": [],
   "source": [
    "# 스크롤한다. 자바 스크립트 언어\n",
    "for idx in range(10) : \n",
    "    time.sleep(1)\n",
    "    script = 'window.scrollTo(0, document.body.scrollHeight)'\n",
    "    driver.execute_script(script)\n",
    "    #'자바스크립트 코드를 실행해라'라는 의미."
   ]
  },
  {
   "cell_type": "markdown",
   "id": "374946c7-0f13-411d-b39e-95aee6de2042",
   "metadata": {},
   "source": [
    "#### 영화의 전체 목록을 가져온다."
   ]
  },
  {
   "cell_type": "code",
   "execution_count": 5,
   "id": "0415e324-6c24-4933-892f-9bcf54d1fbec",
   "metadata": {},
   "outputs": [
    {
     "data": {
      "text/plain": [
       "<selenium.webdriver.remote.webelement.WebElement (session=\"8526535a6cabebc4a976556985c0b64d\", element=\"2be4f8dc-05d2-481b-8609-24d4b486973b\")>"
      ]
     },
     "execution_count": 5,
     "metadata": {},
     "output_type": "execute_result"
    }
   ],
   "source": [
    "# 영화의 전체 목록을 가져온다.\n",
    "a1 = driver.find_element_by_css_selector('#mainContent > div > div.box_movie > ol')\n",
    "a1"
   ]
  },
  {
   "cell_type": "markdown",
   "id": "6876263a-cb78-4295-8daf-d63b7468b442",
   "metadata": {},
   "source": [
    "#### 각 영화의 목록을 가져온다."
   ]
  },
  {
   "cell_type": "code",
   "execution_count": 6,
   "id": "53ed7863-6213-4c56-b749-46a6c4e31e33",
   "metadata": {},
   "outputs": [
    {
     "data": {
      "text/plain": [
       "[<selenium.webdriver.remote.webelement.WebElement (session=\"8526535a6cabebc4a976556985c0b64d\", element=\"21f34617-9229-46b2-8f19-77dd3af26bde\")>,\n",
       " <selenium.webdriver.remote.webelement.WebElement (session=\"8526535a6cabebc4a976556985c0b64d\", element=\"92ba6c84-58bf-488e-92bf-2a9227dbe039\")>,\n",
       " <selenium.webdriver.remote.webelement.WebElement (session=\"8526535a6cabebc4a976556985c0b64d\", element=\"ccaa0808-dca5-4d40-9765-80b6a43d8243\")>,\n",
       " <selenium.webdriver.remote.webelement.WebElement (session=\"8526535a6cabebc4a976556985c0b64d\", element=\"d419d633-56dc-4af1-a869-65f13c7d1a3e\")>,\n",
       " <selenium.webdriver.remote.webelement.WebElement (session=\"8526535a6cabebc4a976556985c0b64d\", element=\"c52d00b9-ea21-4088-8a3b-8e9dcbb0a4f0\")>,\n",
       " <selenium.webdriver.remote.webelement.WebElement (session=\"8526535a6cabebc4a976556985c0b64d\", element=\"816ebb49-148f-45e2-abf9-daa22dd7c74b\")>,\n",
       " <selenium.webdriver.remote.webelement.WebElement (session=\"8526535a6cabebc4a976556985c0b64d\", element=\"55d2d8fb-ed5f-4259-8b5e-c713826bb0e9\")>,\n",
       " <selenium.webdriver.remote.webelement.WebElement (session=\"8526535a6cabebc4a976556985c0b64d\", element=\"91f63570-5bd4-4300-a1b0-7353b6377045\")>,\n",
       " <selenium.webdriver.remote.webelement.WebElement (session=\"8526535a6cabebc4a976556985c0b64d\", element=\"8ed1371c-76ef-42db-9739-e9e7ad802453\")>,\n",
       " <selenium.webdriver.remote.webelement.WebElement (session=\"8526535a6cabebc4a976556985c0b64d\", element=\"3b4488eb-a9e6-4781-9c59-8a096a2701d2\")>,\n",
       " <selenium.webdriver.remote.webelement.WebElement (session=\"8526535a6cabebc4a976556985c0b64d\", element=\"60212c98-3ce9-4686-9a83-c35a16fa7133\")>,\n",
       " <selenium.webdriver.remote.webelement.WebElement (session=\"8526535a6cabebc4a976556985c0b64d\", element=\"f158bd89-87dd-4a25-b54c-1e4e81284bd1\")>,\n",
       " <selenium.webdriver.remote.webelement.WebElement (session=\"8526535a6cabebc4a976556985c0b64d\", element=\"351a32a7-acab-41d0-abfc-13170fd03411\")>,\n",
       " <selenium.webdriver.remote.webelement.WebElement (session=\"8526535a6cabebc4a976556985c0b64d\", element=\"38bf8021-0358-4984-b752-235fe4cb1654\")>,\n",
       " <selenium.webdriver.remote.webelement.WebElement (session=\"8526535a6cabebc4a976556985c0b64d\", element=\"5b3a9f12-4d4b-47f5-af66-75022a60024c\")>,\n",
       " <selenium.webdriver.remote.webelement.WebElement (session=\"8526535a6cabebc4a976556985c0b64d\", element=\"50077d38-ef1a-461e-a333-500a248bb7df\")>,\n",
       " <selenium.webdriver.remote.webelement.WebElement (session=\"8526535a6cabebc4a976556985c0b64d\", element=\"c0f8eb99-f9de-4d2b-a784-4be1ad529959\")>,\n",
       " <selenium.webdriver.remote.webelement.WebElement (session=\"8526535a6cabebc4a976556985c0b64d\", element=\"09bf2a4f-d7de-44f2-82f7-fdb398851032\")>,\n",
       " <selenium.webdriver.remote.webelement.WebElement (session=\"8526535a6cabebc4a976556985c0b64d\", element=\"4bc7e2a4-76a1-4bb8-87a8-0e18dc18c5ee\")>,\n",
       " <selenium.webdriver.remote.webelement.WebElement (session=\"8526535a6cabebc4a976556985c0b64d\", element=\"05b6b3ff-9aff-4148-8df8-ad7eeae50ce6\")>,\n",
       " <selenium.webdriver.remote.webelement.WebElement (session=\"8526535a6cabebc4a976556985c0b64d\", element=\"659b3567-b2ee-4350-b7de-545ac9cbfef0\")>,\n",
       " <selenium.webdriver.remote.webelement.WebElement (session=\"8526535a6cabebc4a976556985c0b64d\", element=\"bb3f4c2f-e460-4cc6-9e2c-a3c67577724a\")>,\n",
       " <selenium.webdriver.remote.webelement.WebElement (session=\"8526535a6cabebc4a976556985c0b64d\", element=\"1dae8d17-5d9f-4131-8576-a451806fff1e\")>,\n",
       " <selenium.webdriver.remote.webelement.WebElement (session=\"8526535a6cabebc4a976556985c0b64d\", element=\"ce56532d-ff55-4f4b-a175-aaeec8a90e78\")>,\n",
       " <selenium.webdriver.remote.webelement.WebElement (session=\"8526535a6cabebc4a976556985c0b64d\", element=\"44c57900-b0dd-4fe7-8793-c7687cac0dfb\")>,\n",
       " <selenium.webdriver.remote.webelement.WebElement (session=\"8526535a6cabebc4a976556985c0b64d\", element=\"9afe4ae5-cb1d-47d2-8d10-e4ed51700ad0\")>,\n",
       " <selenium.webdriver.remote.webelement.WebElement (session=\"8526535a6cabebc4a976556985c0b64d\", element=\"070423dc-9cbb-45d1-bcb7-5299d949d5a1\")>,\n",
       " <selenium.webdriver.remote.webelement.WebElement (session=\"8526535a6cabebc4a976556985c0b64d\", element=\"d37249cc-af7c-4c44-8781-82abf7713560\")>,\n",
       " <selenium.webdriver.remote.webelement.WebElement (session=\"8526535a6cabebc4a976556985c0b64d\", element=\"0c28b40f-73a1-46fa-97e1-85a61beb00b4\")>,\n",
       " <selenium.webdriver.remote.webelement.WebElement (session=\"8526535a6cabebc4a976556985c0b64d\", element=\"c87d7fea-ba28-4720-b7c5-acbb6934703d\")>,\n",
       " <selenium.webdriver.remote.webelement.WebElement (session=\"8526535a6cabebc4a976556985c0b64d\", element=\"0c6cca63-ea43-4612-b043-00356b6979fe\")>,\n",
       " <selenium.webdriver.remote.webelement.WebElement (session=\"8526535a6cabebc4a976556985c0b64d\", element=\"9554c5d1-b758-4e8b-b247-a2a964ca5deb\")>,\n",
       " <selenium.webdriver.remote.webelement.WebElement (session=\"8526535a6cabebc4a976556985c0b64d\", element=\"21050072-0696-4dc2-b8fe-730b226fc7c0\")>,\n",
       " <selenium.webdriver.remote.webelement.WebElement (session=\"8526535a6cabebc4a976556985c0b64d\", element=\"8a602d50-182a-4f7f-a511-4efebe7304f2\")>]"
      ]
     },
     "execution_count": 6,
     "metadata": {},
     "output_type": "execute_result"
    }
   ],
   "source": [
    "li_list = a1.find_elements_by_css_selector('li')\n",
    "li_list"
   ]
  },
  {
   "cell_type": "markdown",
   "id": "1ffdccd8-4fe5-4106-a396-deb7cd30c3c1",
   "metadata": {},
   "source": [
    "#### 영화의 수 만큼 반복한다.\n",
    "##### 제목을 가져온다.\n",
    "##### 평점 \n",
    "##### 예매율"
   ]
  },
  {
   "cell_type": "markdown",
   "id": "62701e22-3c3b-4af2-bb4d-d92ce16e7744",
   "metadata": {},
   "source": [
    "##### 딕셔너리 생성\n",
    "##### 데이터를 담는다.\n",
    "##### 데이터 프레임 생성\n",
    "##### 저장 (csv파일)"
   ]
  },
  {
   "cell_type": "markdown",
   "id": "e1ce0b68-0a61-4345-a0cd-4a63a5523031",
   "metadata": {},
   "source": [
    "##### 영화 포스터\n",
    "##### src 속성의 값을 가져온다."
   ]
  },
  {
   "cell_type": "markdown",
   "id": "a2ef1317-cec9-47cc-847d-2e41f0b003a3",
   "metadata": {},
   "source": [
    "##### **os에서 거부하는 파일명(영화 제목) 정제**"
   ]
  },
  {
   "cell_type": "code",
   "execution_count": 7,
   "id": "152e6ec2-83ce-4409-a7a3-4282b692d0ef",
   "metadata": {},
   "outputs": [
    {
     "name": "stdout",
     "output_type": "stream",
     "text": [
      "저장완료\n"
     ]
    }
   ],
   "source": [
    "# 데이터를 담을 딕셔너리\n",
    "data_dict = {\n",
    "    '제목' : [],\n",
    "    '예매율' : [],\n",
    "    '평점' : [],\n",
    "    '개봉일' : []\n",
    "}\n",
    "\n",
    "\n",
    "# 영화의 수 만큼 반복한다.\n",
    "for movie_tag in li_list :\n",
    "    # 영화 제목을 가져온다.\n",
    "    title_tag = movie_tag.find_element_by_css_selector('div > div.thumb_cont > strong > a')\n",
    "    title = title_tag.text.strip()\n",
    "    \n",
    "    # 평점\n",
    "    rating_tag = movie_tag.find_element_by_css_selector('div > div.thumb_cont > span.txt_append > span:nth-child(1) > span')\n",
    "    rating = rating_tag.text.strip()\n",
    "    \n",
    "    # 예매율\n",
    "    ticket_tag = movie_tag.find_element_by_css_selector('div > div.thumb_cont > span.txt_append > span:nth-child(2) > span')\n",
    "    ticket = ticket_tag.text.strip()\n",
    "    \n",
    "    # 개봉일\n",
    "    open_date_tag = movie_tag.find_element_by_css_selector('div > div.thumb_cont > span.txt_info > span')\n",
    "    open_date = open_date_tag.text.strip()\n",
    "    \n",
    "    # 영화 포스터\n",
    "    poster_tag = movie_tag.find_element_by_css_selector('div > div.thumb_item > div.poster_movie > img')\n",
    "    #src 속성의 값을 가져온다.\n",
    "    src_attr = poster_tag.get_attribute('src')\n",
    "    \n",
    "    #영화의 제목을 파일명으로 사용할 것이기 때문에 os에서 거부하는 파일명을 정제한다.\n",
    "    \n",
    "    char_list = ['\\\\','/',':','*','?','\"','<','>','|']\n",
    "    \n",
    "    file_name = title\n",
    "    \n",
    "    for c1 in char_list :\n",
    "        file_name = file_name.replace(c1, ' ')\n",
    "        \n",
    "    # 이미지 데이터를 내려받는다.\n",
    "    img_res = requests.get(src_attr)\n",
    "    \n",
    "    # 저장한다.(이미지는 content로 받는다)\n",
    "    with open(f'poster/{file_name}.jpg','wb') as fp :\n",
    "              fp.write(img_res.content)\n",
    "    \n",
    "    \n",
    "#     print(src_attr)\n",
    "#     print(title)\n",
    "#     print(rating)\n",
    "#     print(ticket[:-1])\n",
    "#     print(open_date)\n",
    "#     print('-----------------------------------------------------------')\n",
    "\n",
    "\n",
    "    # 데이터를 담는다.\n",
    "    data_dict['제목'].append(title)\n",
    "    data_dict['예매율'].append(ticket[:-1])\n",
    "    data_dict['평점'].append(rating)\n",
    "    data_dict['개봉일'].append(open_date)\n",
    "    \n",
    "# 데이터 프레임 생성\n",
    "df1 = pd.DataFrame(data_dict)\n",
    "# df1\n",
    "\n",
    "#저장\n",
    "df1.to_csv('daum_movie.csv', encoding='utf-8-sig', index=False)\n",
    "print('저장완료')"
   ]
  },
  {
   "cell_type": "markdown",
   "id": "966cccd0-4b40-4c18-898f-225ee0640b9d",
   "metadata": {},
   "source": [
    "키보드로 만든 특수문자는 윈도우에서 인식하지 못함. ex) :"
   ]
  },
  {
   "cell_type": "code",
   "execution_count": null,
   "id": "1e9e387b-76e4-4632-90a4-64d64a84126e",
   "metadata": {},
   "outputs": [],
   "source": []
  }
 ],
 "metadata": {
  "kernelspec": {
   "display_name": "Python 3",
   "language": "python",
   "name": "python3"
  },
  "language_info": {
   "codemirror_mode": {
    "name": "ipython",
    "version": 3
   },
   "file_extension": ".py",
   "mimetype": "text/x-python",
   "name": "python",
   "nbconvert_exporter": "python",
   "pygments_lexer": "ipython3",
   "version": "3.8.8"
  },
  "toc-autonumbering": false,
  "toc-showcode": false,
  "toc-showmarkdowntxt": false
 },
 "nbformat": 4,
 "nbformat_minor": 5
}
