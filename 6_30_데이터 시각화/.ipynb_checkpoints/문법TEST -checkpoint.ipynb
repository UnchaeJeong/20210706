{
 "cells": [
  {
   "cell_type": "markdown",
   "id": "c6c5a7c0-baee-404f-99ee-c7d72c7e3b35",
   "metadata": {},
   "source": [
    "### 포맷 문자열"
   ]
  },
  {
   "cell_type": "code",
   "execution_count": 1,
   "id": "7fbf1ce1-b86c-4711-8e83-7ecdefa73c0e",
   "metadata": {},
   "outputs": [],
   "source": [
    "a1 = '홍길동'\n",
    "a2 = 30"
   ]
  },
  {
   "cell_type": "code",
   "execution_count": 3,
   "id": "f516422d-6c7e-40cf-b17e-b6eb91655496",
   "metadata": {},
   "outputs": [
    {
     "name": "stdout",
     "output_type": "stream",
     "text": [
      "이름은홍길동이고 나이는30입니다.\n"
     ]
    }
   ],
   "source": [
    "str1 = '이름은' + a1 + '이고 나이는' + str(a2) + '입니다.'\n",
    "print(str1)"
   ]
  },
  {
   "cell_type": "code",
   "execution_count": 5,
   "id": "b3c34939-ba9e-4bda-b054-d0d113c16f18",
   "metadata": {},
   "outputs": [
    {
     "name": "stdout",
     "output_type": "stream",
     "text": [
      "이름은 홍길동이고 나이는 30 살 입니다.\n"
     ]
    }
   ],
   "source": [
    "str2 = '이름은 %s이고 나이는 %d 살 입니다.' %(a1, a2)\n",
    "print(str2)"
   ]
  },
  {
   "cell_type": "code",
   "execution_count": 11,
   "id": "9a3ad0a6-3e42-43eb-9bc9-5e09156d93a8",
   "metadata": {},
   "outputs": [
    {
     "data": {
      "text/plain": [
       "'이름은 홍길동 나이는 30살입니다. 홍길동은 파스타를 좋아합니다.'"
      ]
     },
     "execution_count": 11,
     "metadata": {},
     "output_type": "execute_result"
    }
   ],
   "source": [
    "a1 = '홍길동'\n",
    "a2 = 30\n",
    "a3 = '파스타'\n",
    "\n",
    "str3 = '이름은 %s 나이는 %d살입니다. %s은 %s를 좋아합니다.' %(a1, a2, a1, a3)\n",
    "str3"
   ]
  },
  {
   "cell_type": "code",
   "execution_count": 14,
   "id": "3943f581-37d2-42ff-a24d-dbf898daa1d9",
   "metadata": {},
   "outputs": [
    {
     "name": "stdout",
     "output_type": "stream",
     "text": [
      "이름은 홍길동이고 나이는 30입니다. 홍길동은 파스타를 좋아합니다.\n"
     ]
    }
   ],
   "source": [
    "str4 = '이름은 {0}이고 나이는 {1}입니다. {0}은 {2}를 좋아합니다.'.format(a1, a2, a3)\n",
    "print(str4)"
   ]
  },
  {
   "cell_type": "code",
   "execution_count": 16,
   "id": "9d82ecb2-6545-4434-a0f3-6c79dc2b0a8f",
   "metadata": {},
   "outputs": [
    {
     "name": "stdout",
     "output_type": "stream",
     "text": [
      "이름은 홍길동이고 나이는 30입니다. 홍길동은 파스타를 좋아합니다.\n"
     ]
    }
   ],
   "source": [
    "str5 = f'이름은 {a1}이고 나이는 {a2}입니다. {a1}은 {a3}를 좋아합니다.'\n",
    "print(str5)"
   ]
  },
  {
   "cell_type": "code",
   "execution_count": null,
   "id": "e3ac15b4-37fe-44d6-b343-48d50257b95d",
   "metadata": {},
   "outputs": [],
   "source": []
  },
  {
   "cell_type": "code",
   "execution_count": null,
   "id": "457e888d-8a73-43a3-9fee-446fce8f2434",
   "metadata": {},
   "outputs": [],
   "source": []
  },
  {
   "cell_type": "code",
   "execution_count": null,
   "id": "d1e87052-0fb2-4b5f-a900-43bdc205c4fb",
   "metadata": {},
   "outputs": [],
   "source": []
  }
 ],
 "metadata": {
  "kernelspec": {
   "display_name": "Python 3",
   "language": "python",
   "name": "python3"
  },
  "language_info": {
   "codemirror_mode": {
    "name": "ipython",
    "version": 3
   },
   "file_extension": ".py",
   "mimetype": "text/x-python",
   "name": "python",
   "nbconvert_exporter": "python",
   "pygments_lexer": "ipython3",
   "version": "3.8.8"
  }
 },
 "nbformat": 4,
 "nbformat_minor": 5
}
